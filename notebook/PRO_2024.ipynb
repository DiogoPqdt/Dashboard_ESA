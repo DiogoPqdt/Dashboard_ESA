{
 "cells": [
  {
   "cell_type": "code",
   "execution_count": 1,
   "metadata": {},
   "outputs": [],
   "source": [
    "import pandas as pd\n",
    "import plotly.express as px\n",
    "import plotly.graph_objects as go\n",
    "from datetime import datetime\n",
    "import locale\n",
    "\n",
    "# Definindo a configuração local para o Brasil (pt_BR)\n",
    "locale.setlocale(locale.LC_ALL, 'pt_BR')\n",
    "\n",
    "# Personalizando para ver todas as colunas do DataFrame\n",
    "pd.set_option('display.max_columns', None)"
   ]
  },
  {
   "cell_type": "markdown",
   "metadata": {},
   "source": [
    "# Base de dados"
   ]
  },
  {
   "cell_type": "code",
   "execution_count": 2,
   "metadata": {},
   "outputs": [],
   "source": [
    "# Realizando a junção dos 3 arquivos .CSV num único DataFrame\n",
    "\n",
    "# Caminhos para os arquivos .CSV\n",
    "caminho_1 = r\"base_dados\\Cel Manfrini.csv\"\n",
    "\n",
    "caminho_2 = r\"base_dados\\Cel Manfrini(1).csv\"\n",
    "\n",
    "caminho_3 = r\"base_dados\\Cel Manfrini(2).csv\"\n",
    "\n",
    "caminho_4 = r\"base_dados\\Cel Manfrini(3).csv\"\n",
    "\n",
    "# Leitura dos arquivos .CSV em DataFrames individuais\n",
    "df1 = pd.read_csv(caminho_1)\n",
    "df2 = pd.read_csv(caminho_2)\n",
    "df3 = pd.read_csv(caminho_3)\n",
    "df4 = pd.read_csv(caminho_4)\n",
    "\n",
    "# Concatenação dos DataFrames em um único DataFrame\n",
    "df = pd.concat([df1, df2, df3, df4], ignore_index=True)\n",
    "\n",
    "# Excluindo linhas que contenham a string \"Tela\" em qualquer coluna\n",
    "df = df[~df.apply(lambda row: row.astype(str).str.contains('Tela')).any(axis=1)]\n",
    "\n",
    "# Transformando o tipo de dado das colunas de valores monetários\n",
    "df['A_LIQUIDAR'] = df['A_LIQUIDAR'].apply(lambda x: float(x.replace('.', '').replace(',', '.')))\n",
    "df['LIQUIDADO_A_PAGAR'] = df['LIQUIDADO_A_PAGAR'].apply(lambda x: float(x.replace('.', '').replace(',', '.')))\n",
    "df['TOTAL_A_PAGAR'] = df['TOTAL_A_PAGAR'].apply(lambda x: float(x.replace('.', '').replace(',', '.')))\n",
    "df['PAGO'] = df['PAGO'].apply(lambda x: float(x.replace('.', '').replace(',', '.')))\n",
    "\n",
    "# Convertendo a coluna DATA para datetime\n",
    "df['DATA'] = pd.to_datetime(df['DATA'], format='%d/%m/%y')\n",
    "\n",
    "# Convertendo a coluna DIAS em número inteiro\n",
    "df['DIAS'] = df['DIAS'].astype(int)\n",
    "\n"
   ]
  },
  {
   "cell_type": "markdown",
   "metadata": {},
   "source": [
    "# Pesquisas no DataFrame"
   ]
  },
  {
   "cell_type": "code",
   "execution_count": 3,
   "metadata": {},
   "outputs": [
    {
     "data": {
      "text/html": [
       "<div>\n",
       "<style scoped>\n",
       "    .dataframe tbody tr th:only-of-type {\n",
       "        vertical-align: middle;\n",
       "    }\n",
       "\n",
       "    .dataframe tbody tr th {\n",
       "        vertical-align: top;\n",
       "    }\n",
       "\n",
       "    .dataframe thead th {\n",
       "        text-align: right;\n",
       "    }\n",
       "</style>\n",
       "<table border=\"1\" class=\"dataframe\">\n",
       "  <thead>\n",
       "    <tr style=\"text-align: right;\">\n",
       "      <th></th>\n",
       "      <th>UG</th>\n",
       "      <th>SIGLA UG</th>\n",
       "      <th>ACAO</th>\n",
       "      <th>NOME_ACAO</th>\n",
       "      <th>ANO</th>\n",
       "      <th>CREDOR</th>\n",
       "      <th>NOME_CREDOR</th>\n",
       "      <th>DATA</th>\n",
       "      <th>DIAS</th>\n",
       "      <th>ICFEX</th>\n",
       "      <th>NOME_ICFEX</th>\n",
       "      <th>ND</th>\n",
       "      <th>NOME_ND</th>\n",
       "      <th>NDSI</th>\n",
       "      <th>NOME_NDSI</th>\n",
       "      <th>NE</th>\n",
       "      <th>PI</th>\n",
       "      <th>NOME_PI</th>\n",
       "      <th>PROGRAMA</th>\n",
       "      <th>PTRES</th>\n",
       "      <th>TIPO</th>\n",
       "      <th>TIPO_NE</th>\n",
       "      <th>LOCAL</th>\n",
       "      <th>UF_CREDOR</th>\n",
       "      <th>UF_UG</th>\n",
       "      <th>UGR</th>\n",
       "      <th>NOME_UGR</th>\n",
       "      <th>RADPI4</th>\n",
       "      <th>MEIPI3</th>\n",
       "      <th>SUFPI4</th>\n",
       "      <th>A_LIQUIDAR</th>\n",
       "      <th>LIQUIDADO_A_PAGAR</th>\n",
       "      <th>TOTAL_A_PAGAR</th>\n",
       "      <th>PAGO</th>\n",
       "    </tr>\n",
       "  </thead>\n",
       "  <tbody>\n",
       "    <tr>\n",
       "      <th>0</th>\n",
       "      <td>160129</td>\n",
       "      <td>ESA</td>\n",
       "      <td>2000</td>\n",
       "      <td>ADMINISTRACAO DA UNIDADE</td>\n",
       "      <td>2022</td>\n",
       "      <td>01590728000850</td>\n",
       "      <td>MICROTECNICA INFORMATICA LTDA</td>\n",
       "      <td>2022-11-03</td>\n",
       "      <td>335</td>\n",
       "      <td>160533</td>\n",
       "      <td>4º CGCFEX</td>\n",
       "      <td>449052</td>\n",
       "      <td>EQUIPAMENTOS E MATERIAL PERMANENTE</td>\n",
       "      <td>44905241</td>\n",
       "      <td>EQUIPAMENTOS DE TIC - COMPUTADORES</td>\n",
       "      <td>2022NE001245</td>\n",
       "      <td>I3FPPREDEGE</td>\n",
       "      <td>DESPESAS GERAIS DAS UGE - GESTÃO EME.</td>\n",
       "      <td>0032</td>\n",
       "      <td>171460</td>\n",
       "      <td>RPNP</td>\n",
       "      <td>ORDINARIO</td>\n",
       "      <td>ESCOLA DE SARGENTOS DAS ARMAS  - AVENIDA SETE ...</td>\n",
       "      <td>MG</td>\n",
       "      <td>MG</td>\n",
       "      <td>160073</td>\n",
       "      <td>DGO</td>\n",
       "      <td>I3FP</td>\n",
       "      <td>PRE</td>\n",
       "      <td>DEGE</td>\n",
       "      <td>0.0</td>\n",
       "      <td>0.0</td>\n",
       "      <td>0.0</td>\n",
       "      <td>14637.78</td>\n",
       "    </tr>\n",
       "    <tr>\n",
       "      <th>1</th>\n",
       "      <td>160129</td>\n",
       "      <td>ESA</td>\n",
       "      <td>2000</td>\n",
       "      <td>ADMINISTRACAO DA UNIDADE</td>\n",
       "      <td>2022</td>\n",
       "      <td>01590728000850</td>\n",
       "      <td>MICROTECNICA INFORMATICA LTDA</td>\n",
       "      <td>2022-12-05</td>\n",
       "      <td>303</td>\n",
       "      <td>160533</td>\n",
       "      <td>4º CGCFEX</td>\n",
       "      <td>449052</td>\n",
       "      <td>EQUIPAMENTOS E MATERIAL PERMANENTE</td>\n",
       "      <td>44905241</td>\n",
       "      <td>EQUIPAMENTOS DE TIC - COMPUTADORES</td>\n",
       "      <td>2022NE002430</td>\n",
       "      <td>IXAPFUNDGOA</td>\n",
       "      <td>ADMINISTRACAO DAS OM</td>\n",
       "      <td>0032</td>\n",
       "      <td>171502</td>\n",
       "      <td>RPNP</td>\n",
       "      <td>ORDINARIO</td>\n",
       "      <td>ESCOLA DE SARGENTOS DAS ARMAS</td>\n",
       "      <td>MG</td>\n",
       "      <td>MG</td>\n",
       "      <td>160507</td>\n",
       "      <td>EME-GESTOR</td>\n",
       "      <td>IXAP</td>\n",
       "      <td>FUN</td>\n",
       "      <td>DGOA</td>\n",
       "      <td>0.0</td>\n",
       "      <td>0.0</td>\n",
       "      <td>0.0</td>\n",
       "      <td>21956.67</td>\n",
       "    </tr>\n",
       "  </tbody>\n",
       "</table>\n",
       "</div>"
      ],
      "text/plain": [
       "       UG SIGLA UG  ACAO                 NOME_ACAO   ANO          CREDOR  \\\n",
       "0  160129      ESA  2000  ADMINISTRACAO DA UNIDADE  2022  01590728000850   \n",
       "1  160129      ESA  2000  ADMINISTRACAO DA UNIDADE  2022  01590728000850   \n",
       "\n",
       "                     NOME_CREDOR       DATA  DIAS   ICFEX NOME_ICFEX      ND  \\\n",
       "0  MICROTECNICA INFORMATICA LTDA 2022-11-03   335  160533  4º CGCFEX  449052   \n",
       "1  MICROTECNICA INFORMATICA LTDA 2022-12-05   303  160533  4º CGCFEX  449052   \n",
       "\n",
       "                              NOME_ND      NDSI  \\\n",
       "0  EQUIPAMENTOS E MATERIAL PERMANENTE  44905241   \n",
       "1  EQUIPAMENTOS E MATERIAL PERMANENTE  44905241   \n",
       "\n",
       "                            NOME_NDSI            NE           PI  \\\n",
       "0  EQUIPAMENTOS DE TIC - COMPUTADORES  2022NE001245  I3FPPREDEGE   \n",
       "1  EQUIPAMENTOS DE TIC - COMPUTADORES  2022NE002430  IXAPFUNDGOA   \n",
       "\n",
       "                                 NOME_PI PROGRAMA   PTRES  TIPO    TIPO_NE  \\\n",
       "0  DESPESAS GERAIS DAS UGE - GESTÃO EME.     0032  171460  RPNP  ORDINARIO   \n",
       "1                   ADMINISTRACAO DAS OM     0032  171502  RPNP  ORDINARIO   \n",
       "\n",
       "                                               LOCAL UF_CREDOR UF_UG     UGR  \\\n",
       "0  ESCOLA DE SARGENTOS DAS ARMAS  - AVENIDA SETE ...        MG    MG  160073   \n",
       "1                      ESCOLA DE SARGENTOS DAS ARMAS        MG    MG  160507   \n",
       "\n",
       "     NOME_UGR RADPI4 MEIPI3 SUFPI4  A_LIQUIDAR  LIQUIDADO_A_PAGAR  \\\n",
       "0         DGO   I3FP    PRE   DEGE         0.0                0.0   \n",
       "1  EME-GESTOR   IXAP    FUN   DGOA         0.0                0.0   \n",
       "\n",
       "   TOTAL_A_PAGAR      PAGO  \n",
       "0            0.0  14637.78  \n",
       "1            0.0  21956.67  "
      ]
     },
     "execution_count": 3,
     "metadata": {},
     "output_type": "execute_result"
    }
   ],
   "source": [
    "# Criando um DataFrame para testes \n",
    "df_teste = df.copy()\n",
    "\n",
    "df_teste.head(2)"
   ]
  },
  {
   "cell_type": "markdown",
   "metadata": {},
   "source": [
    "## Empenhos com mais de 100 dias"
   ]
  },
  {
   "cell_type": "markdown",
   "metadata": {},
   "source": [
    "### Empenhos da ND 30"
   ]
  },
  {
   "cell_type": "code",
   "execution_count": 4,
   "metadata": {},
   "outputs": [],
   "source": [
    "# Empenhos da ND 30 com prazo de entrega superior a 100 dias\n",
    "\n",
    "df_nd30_100dias = df_teste[(df_teste['A_LIQUIDAR'] != 0) & (df_teste['ND'] == '339030') & (df_teste['DIAS'] > 100) & (df_teste['TIPO_NE'] == 'ORDINARIO') ].sort_values(by='DIAS', ascending=False).reset_index(drop=True)\n",
    "\n",
    "df_nd30_100dias.sort_values(by='A_LIQUIDAR', ascending=False).reset_index(drop=True)\n",
    "\n",
    "df_nd30_100dias.to_excel('nd30_PA.xlsx')"
   ]
  },
  {
   "cell_type": "markdown",
   "metadata": {},
   "source": [
    "### Empenhos ND 52"
   ]
  },
  {
   "cell_type": "code",
   "execution_count": 5,
   "metadata": {},
   "outputs": [],
   "source": [
    "df_nd52_100dias = df_teste[(df_teste['A_LIQUIDAR'] != 0) & (df_teste['ND'] == '449052') & (df_teste['DIAS'] > 50) ].sort_values(by='DIAS', ascending=False).reset_index(drop=True)\n",
    "\n",
    "df_nd52_100dias.reset_index(drop=True)\n",
    "\n",
    "df_nd52_100dias.to_excel('nd52_PA.xlsx')"
   ]
  },
  {
   "cell_type": "markdown",
   "metadata": {},
   "source": [
    "# Estudo DIEx Nº 904-SGS/SDIR/DIR \n",
    "\n",
    "### Previsão de Recursos Orçamentários (PRO) 2024 - Apoio Administrativo"
   ]
  },
  {
   "cell_type": "markdown",
   "metadata": {},
   "source": [
    "## Quanto aos contratos Administrativos"
   ]
  },
  {
   "cell_type": "markdown",
   "metadata": {},
   "source": [
    "#### Recursos FUNADOM"
   ]
  },
  {
   "cell_type": "code",
   "execution_count": 6,
   "metadata": {},
   "outputs": [
    {
     "data": {
      "text/html": [
       "<div>\n",
       "<style scoped>\n",
       "    .dataframe tbody tr th:only-of-type {\n",
       "        vertical-align: middle;\n",
       "    }\n",
       "\n",
       "    .dataframe tbody tr th {\n",
       "        vertical-align: top;\n",
       "    }\n",
       "\n",
       "    .dataframe thead th {\n",
       "        text-align: right;\n",
       "    }\n",
       "</style>\n",
       "<table border=\"1\" class=\"dataframe\">\n",
       "  <thead>\n",
       "    <tr style=\"text-align: right;\">\n",
       "      <th></th>\n",
       "      <th>UG</th>\n",
       "      <th>SIGLA UG</th>\n",
       "      <th>ACAO</th>\n",
       "      <th>NOME_ACAO</th>\n",
       "      <th>ANO</th>\n",
       "      <th>CREDOR</th>\n",
       "      <th>NOME_CREDOR</th>\n",
       "      <th>DATA</th>\n",
       "      <th>DIAS</th>\n",
       "      <th>ICFEX</th>\n",
       "      <th>NOME_ICFEX</th>\n",
       "      <th>ND</th>\n",
       "      <th>NOME_ND</th>\n",
       "      <th>NDSI</th>\n",
       "      <th>NOME_NDSI</th>\n",
       "      <th>NE</th>\n",
       "      <th>PI</th>\n",
       "      <th>NOME_PI</th>\n",
       "      <th>PROGRAMA</th>\n",
       "      <th>PTRES</th>\n",
       "      <th>TIPO</th>\n",
       "      <th>TIPO_NE</th>\n",
       "      <th>LOCAL</th>\n",
       "      <th>UF_CREDOR</th>\n",
       "      <th>UF_UG</th>\n",
       "      <th>UGR</th>\n",
       "      <th>NOME_UGR</th>\n",
       "      <th>RADPI4</th>\n",
       "      <th>MEIPI3</th>\n",
       "      <th>SUFPI4</th>\n",
       "      <th>A_LIQUIDAR</th>\n",
       "      <th>LIQUIDADO_A_PAGAR</th>\n",
       "      <th>TOTAL_A_PAGAR</th>\n",
       "      <th>PAGO</th>\n",
       "    </tr>\n",
       "  </thead>\n",
       "  <tbody>\n",
       "    <tr>\n",
       "      <th>0</th>\n",
       "      <td>160129</td>\n",
       "      <td>ESA</td>\n",
       "      <td>2000</td>\n",
       "      <td>ADMINISTRACAO DA UNIDADE</td>\n",
       "      <td>2023</td>\n",
       "      <td>09249668000141</td>\n",
       "      <td>INDUSTRIA GRAFICA ESCALA LTDA</td>\n",
       "      <td>2023-09-25</td>\n",
       "      <td>9</td>\n",
       "      <td>160533</td>\n",
       "      <td>4º CGCFEX</td>\n",
       "      <td>339039</td>\n",
       "      <td>OUTROS SERVICOS DE TERCEIROS - PESSOA JURIDICA</td>\n",
       "      <td>33903963</td>\n",
       "      <td>SERVICOS GRAFICOS E EDITORIAIS</td>\n",
       "      <td>2023NE001193</td>\n",
       "      <td>I3DAFUNADOM</td>\n",
       "      <td>ADMINISTRACAO DE OM</td>\n",
       "      <td>0032</td>\n",
       "      <td>171460</td>\n",
       "      <td>ANO</td>\n",
       "      <td>GLOBAL</td>\n",
       "      <td>ESCOLA DE SARGENTOS DAS ARMAS</td>\n",
       "      <td>SC</td>\n",
       "      <td>MG</td>\n",
       "      <td>160073</td>\n",
       "      <td>DGO</td>\n",
       "      <td>I3DA</td>\n",
       "      <td>FUN</td>\n",
       "      <td>ADOM</td>\n",
       "      <td>20606.08</td>\n",
       "      <td>0.0</td>\n",
       "      <td>20606.08</td>\n",
       "      <td>0.0</td>\n",
       "    </tr>\n",
       "    <tr>\n",
       "      <th>1</th>\n",
       "      <td>160129</td>\n",
       "      <td>ESA</td>\n",
       "      <td>2000</td>\n",
       "      <td>ADMINISTRACAO DA UNIDADE</td>\n",
       "      <td>2023</td>\n",
       "      <td>65271868000171</td>\n",
       "      <td>OXI QUIMICA LTDA</td>\n",
       "      <td>2023-09-13</td>\n",
       "      <td>21</td>\n",
       "      <td>160533</td>\n",
       "      <td>4º CGCFEX</td>\n",
       "      <td>339030</td>\n",
       "      <td>MATERIAL DE CONSUMO</td>\n",
       "      <td>33903022</td>\n",
       "      <td>MATERIAL DE LIMPEZA E PROD. DE HIGIENIZACAO</td>\n",
       "      <td>2023NE001150</td>\n",
       "      <td>I3DAFUNADOM</td>\n",
       "      <td>ADMINISTRACAO DE OM</td>\n",
       "      <td>0032</td>\n",
       "      <td>171460</td>\n",
       "      <td>ANO</td>\n",
       "      <td>ORDINARIO</td>\n",
       "      <td>ESCOLA DE SARGENTOS DAS ARMAS  - AVENIDA SETE ...</td>\n",
       "      <td>MG</td>\n",
       "      <td>MG</td>\n",
       "      <td>160073</td>\n",
       "      <td>DGO</td>\n",
       "      <td>I3DA</td>\n",
       "      <td>FUN</td>\n",
       "      <td>ADOM</td>\n",
       "      <td>8996.00</td>\n",
       "      <td>0.0</td>\n",
       "      <td>8996.00</td>\n",
       "      <td>0.0</td>\n",
       "    </tr>\n",
       "    <tr>\n",
       "      <th>2</th>\n",
       "      <td>160129</td>\n",
       "      <td>ESA</td>\n",
       "      <td>2000</td>\n",
       "      <td>ADMINISTRACAO DA UNIDADE</td>\n",
       "      <td>2023</td>\n",
       "      <td>23178866000192</td>\n",
       "      <td>OPPORTUNITAT COMERCIO E SERVICOS LTDA</td>\n",
       "      <td>2023-08-21</td>\n",
       "      <td>44</td>\n",
       "      <td>160533</td>\n",
       "      <td>4º CGCFEX</td>\n",
       "      <td>339039</td>\n",
       "      <td>OUTROS SERVICOS DE TERCEIROS - PESSOA JURIDICA</td>\n",
       "      <td>33903920</td>\n",
       "      <td>MANUT.E CONS.DE B.MOVEIS DE OUTRAS NATUREZAS</td>\n",
       "      <td>2023NE001035</td>\n",
       "      <td>I3DAFUNADOM</td>\n",
       "      <td>ADMINISTRACAO DE OM</td>\n",
       "      <td>0032</td>\n",
       "      <td>171460</td>\n",
       "      <td>ANO</td>\n",
       "      <td>ORDINARIO</td>\n",
       "      <td>ESCOLA DE SARGENTOS DAS ARMAS  - AVENIDA SETE ...</td>\n",
       "      <td>MG</td>\n",
       "      <td>MG</td>\n",
       "      <td>160073</td>\n",
       "      <td>DGO</td>\n",
       "      <td>I3DA</td>\n",
       "      <td>FUN</td>\n",
       "      <td>ADOM</td>\n",
       "      <td>8675.00</td>\n",
       "      <td>0.0</td>\n",
       "      <td>8675.00</td>\n",
       "      <td>0.0</td>\n",
       "    </tr>\n",
       "    <tr>\n",
       "      <th>3</th>\n",
       "      <td>160129</td>\n",
       "      <td>ESA</td>\n",
       "      <td>2000</td>\n",
       "      <td>ADMINISTRACAO DA UNIDADE</td>\n",
       "      <td>2023</td>\n",
       "      <td>49577909000104</td>\n",
       "      <td>COMERCIAL RB - COMERCIO VAREJISTA E ATACADISTA...</td>\n",
       "      <td>2023-09-13</td>\n",
       "      <td>21</td>\n",
       "      <td>160533</td>\n",
       "      <td>4º CGCFEX</td>\n",
       "      <td>339030</td>\n",
       "      <td>MATERIAL DE CONSUMO</td>\n",
       "      <td>33903022</td>\n",
       "      <td>MATERIAL DE LIMPEZA E PROD. DE HIGIENIZACAO</td>\n",
       "      <td>2023NE001152</td>\n",
       "      <td>I3DAFUNADOM</td>\n",
       "      <td>ADMINISTRACAO DE OM</td>\n",
       "      <td>0032</td>\n",
       "      <td>171460</td>\n",
       "      <td>ANO</td>\n",
       "      <td>ORDINARIO</td>\n",
       "      <td>ESCOLA DE SARGENTOS DAS ARMAS  - AVENIDA SETE ...</td>\n",
       "      <td>SP</td>\n",
       "      <td>MG</td>\n",
       "      <td>160073</td>\n",
       "      <td>DGO</td>\n",
       "      <td>I3DA</td>\n",
       "      <td>FUN</td>\n",
       "      <td>ADOM</td>\n",
       "      <td>6600.00</td>\n",
       "      <td>0.0</td>\n",
       "      <td>6600.00</td>\n",
       "      <td>0.0</td>\n",
       "    </tr>\n",
       "    <tr>\n",
       "      <th>4</th>\n",
       "      <td>160129</td>\n",
       "      <td>ESA</td>\n",
       "      <td>2000</td>\n",
       "      <td>ADMINISTRACAO DA UNIDADE</td>\n",
       "      <td>2023</td>\n",
       "      <td>27619368000199</td>\n",
       "      <td>TOTUS PISOS E AZULEJOS LTDA</td>\n",
       "      <td>2023-09-18</td>\n",
       "      <td>16</td>\n",
       "      <td>160533</td>\n",
       "      <td>4º CGCFEX</td>\n",
       "      <td>339030</td>\n",
       "      <td>MATERIAL DE CONSUMO</td>\n",
       "      <td>33903024</td>\n",
       "      <td>MATERIAL P/ MANUT.DE BENS IMOVEIS/INSTALACOES</td>\n",
       "      <td>2023NE001184</td>\n",
       "      <td>I3DAFUNADOM</td>\n",
       "      <td>ADMINISTRACAO DE OM</td>\n",
       "      <td>0032</td>\n",
       "      <td>171460</td>\n",
       "      <td>ANO</td>\n",
       "      <td>ORDINARIO</td>\n",
       "      <td>ESCOLA DE SARGENTOS DAS ARMAS  - AVENIDA SETE ...</td>\n",
       "      <td>SP</td>\n",
       "      <td>MG</td>\n",
       "      <td>160073</td>\n",
       "      <td>DGO</td>\n",
       "      <td>I3DA</td>\n",
       "      <td>FUN</td>\n",
       "      <td>ADOM</td>\n",
       "      <td>5094.70</td>\n",
       "      <td>0.0</td>\n",
       "      <td>5094.70</td>\n",
       "      <td>0.0</td>\n",
       "    </tr>\n",
       "  </tbody>\n",
       "</table>\n",
       "</div>"
      ],
      "text/plain": [
       "       UG SIGLA UG  ACAO                 NOME_ACAO   ANO          CREDOR  \\\n",
       "0  160129      ESA  2000  ADMINISTRACAO DA UNIDADE  2023  09249668000141   \n",
       "1  160129      ESA  2000  ADMINISTRACAO DA UNIDADE  2023  65271868000171   \n",
       "2  160129      ESA  2000  ADMINISTRACAO DA UNIDADE  2023  23178866000192   \n",
       "3  160129      ESA  2000  ADMINISTRACAO DA UNIDADE  2023  49577909000104   \n",
       "4  160129      ESA  2000  ADMINISTRACAO DA UNIDADE  2023  27619368000199   \n",
       "\n",
       "                                         NOME_CREDOR       DATA  DIAS   ICFEX  \\\n",
       "0                      INDUSTRIA GRAFICA ESCALA LTDA 2023-09-25     9  160533   \n",
       "1                                   OXI QUIMICA LTDA 2023-09-13    21  160533   \n",
       "2              OPPORTUNITAT COMERCIO E SERVICOS LTDA 2023-08-21    44  160533   \n",
       "3  COMERCIAL RB - COMERCIO VAREJISTA E ATACADISTA... 2023-09-13    21  160533   \n",
       "4                        TOTUS PISOS E AZULEJOS LTDA 2023-09-18    16  160533   \n",
       "\n",
       "  NOME_ICFEX      ND                                         NOME_ND  \\\n",
       "0  4º CGCFEX  339039  OUTROS SERVICOS DE TERCEIROS - PESSOA JURIDICA   \n",
       "1  4º CGCFEX  339030                             MATERIAL DE CONSUMO   \n",
       "2  4º CGCFEX  339039  OUTROS SERVICOS DE TERCEIROS - PESSOA JURIDICA   \n",
       "3  4º CGCFEX  339030                             MATERIAL DE CONSUMO   \n",
       "4  4º CGCFEX  339030                             MATERIAL DE CONSUMO   \n",
       "\n",
       "       NDSI                                      NOME_NDSI            NE  \\\n",
       "0  33903963                 SERVICOS GRAFICOS E EDITORIAIS  2023NE001193   \n",
       "1  33903022    MATERIAL DE LIMPEZA E PROD. DE HIGIENIZACAO  2023NE001150   \n",
       "2  33903920   MANUT.E CONS.DE B.MOVEIS DE OUTRAS NATUREZAS  2023NE001035   \n",
       "3  33903022    MATERIAL DE LIMPEZA E PROD. DE HIGIENIZACAO  2023NE001152   \n",
       "4  33903024  MATERIAL P/ MANUT.DE BENS IMOVEIS/INSTALACOES  2023NE001184   \n",
       "\n",
       "            PI              NOME_PI PROGRAMA   PTRES TIPO    TIPO_NE  \\\n",
       "0  I3DAFUNADOM  ADMINISTRACAO DE OM     0032  171460  ANO     GLOBAL   \n",
       "1  I3DAFUNADOM  ADMINISTRACAO DE OM     0032  171460  ANO  ORDINARIO   \n",
       "2  I3DAFUNADOM  ADMINISTRACAO DE OM     0032  171460  ANO  ORDINARIO   \n",
       "3  I3DAFUNADOM  ADMINISTRACAO DE OM     0032  171460  ANO  ORDINARIO   \n",
       "4  I3DAFUNADOM  ADMINISTRACAO DE OM     0032  171460  ANO  ORDINARIO   \n",
       "\n",
       "                                               LOCAL UF_CREDOR UF_UG     UGR  \\\n",
       "0                      ESCOLA DE SARGENTOS DAS ARMAS        SC    MG  160073   \n",
       "1  ESCOLA DE SARGENTOS DAS ARMAS  - AVENIDA SETE ...        MG    MG  160073   \n",
       "2  ESCOLA DE SARGENTOS DAS ARMAS  - AVENIDA SETE ...        MG    MG  160073   \n",
       "3  ESCOLA DE SARGENTOS DAS ARMAS  - AVENIDA SETE ...        SP    MG  160073   \n",
       "4  ESCOLA DE SARGENTOS DAS ARMAS  - AVENIDA SETE ...        SP    MG  160073   \n",
       "\n",
       "  NOME_UGR RADPI4 MEIPI3 SUFPI4  A_LIQUIDAR  LIQUIDADO_A_PAGAR  TOTAL_A_PAGAR  \\\n",
       "0      DGO   I3DA    FUN   ADOM    20606.08                0.0       20606.08   \n",
       "1      DGO   I3DA    FUN   ADOM     8996.00                0.0        8996.00   \n",
       "2      DGO   I3DA    FUN   ADOM     8675.00                0.0        8675.00   \n",
       "3      DGO   I3DA    FUN   ADOM     6600.00                0.0        6600.00   \n",
       "4      DGO   I3DA    FUN   ADOM     5094.70                0.0        5094.70   \n",
       "\n",
       "   PAGO  \n",
       "0   0.0  \n",
       "1   0.0  \n",
       "2   0.0  \n",
       "3   0.0  \n",
       "4   0.0  "
      ]
     },
     "execution_count": 6,
     "metadata": {},
     "output_type": "execute_result"
    }
   ],
   "source": [
    "filtro = ((df_teste['PI'] == 'I3DAFUNADOM'))\n",
    "\n",
    "df_funadom = df_teste.loc[filtro].sort_values(by='A_LIQUIDAR', ascending=False).reset_index(drop=True)\n",
    "df_funadom.head()"
   ]
  },
  {
   "cell_type": "code",
   "execution_count": 7,
   "metadata": {},
   "outputs": [
    {
     "name": "stdout",
     "output_type": "stream",
     "text": [
      "Total de Recursos empenhados para FUNADOM: R$ 392.666,27\n"
     ]
    }
   ],
   "source": [
    "# Valores Empenhados no Exércicio Corrente para FUNADOM\n",
    "total_funadom = df_funadom['TOTAL_A_PAGAR'].sum() + df_funadom['PAGO'].sum()\n",
    "\n",
    "print(f'Total de Recursos empenhados para FUNADOM: {locale.currency(total_funadom, grouping=True)}')"
   ]
  },
  {
   "cell_type": "markdown",
   "metadata": {},
   "source": [
    "#### Contratos de Pequenos Vultos"
   ]
  },
  {
   "cell_type": "code",
   "execution_count": 8,
   "metadata": {},
   "outputs": [
    {
     "data": {
      "text/html": [
       "<div>\n",
       "<style scoped>\n",
       "    .dataframe tbody tr th:only-of-type {\n",
       "        vertical-align: middle;\n",
       "    }\n",
       "\n",
       "    .dataframe tbody tr th {\n",
       "        vertical-align: top;\n",
       "    }\n",
       "\n",
       "    .dataframe thead th {\n",
       "        text-align: right;\n",
       "    }\n",
       "</style>\n",
       "<table border=\"1\" class=\"dataframe\">\n",
       "  <thead>\n",
       "    <tr style=\"text-align: right;\">\n",
       "      <th></th>\n",
       "      <th>UG</th>\n",
       "      <th>SIGLA UG</th>\n",
       "      <th>ACAO</th>\n",
       "      <th>NOME_ACAO</th>\n",
       "      <th>ANO</th>\n",
       "      <th>CREDOR</th>\n",
       "      <th>NOME_CREDOR</th>\n",
       "      <th>DATA</th>\n",
       "      <th>DIAS</th>\n",
       "      <th>ICFEX</th>\n",
       "      <th>NOME_ICFEX</th>\n",
       "      <th>ND</th>\n",
       "      <th>NOME_ND</th>\n",
       "      <th>NDSI</th>\n",
       "      <th>NOME_NDSI</th>\n",
       "      <th>NE</th>\n",
       "      <th>PI</th>\n",
       "      <th>NOME_PI</th>\n",
       "      <th>PROGRAMA</th>\n",
       "      <th>PTRES</th>\n",
       "      <th>TIPO</th>\n",
       "      <th>TIPO_NE</th>\n",
       "      <th>LOCAL</th>\n",
       "      <th>UF_CREDOR</th>\n",
       "      <th>UF_UG</th>\n",
       "      <th>UGR</th>\n",
       "      <th>NOME_UGR</th>\n",
       "      <th>RADPI4</th>\n",
       "      <th>MEIPI3</th>\n",
       "      <th>SUFPI4</th>\n",
       "      <th>A_LIQUIDAR</th>\n",
       "      <th>LIQUIDADO_A_PAGAR</th>\n",
       "      <th>TOTAL_A_PAGAR</th>\n",
       "      <th>PAGO</th>\n",
       "    </tr>\n",
       "  </thead>\n",
       "  <tbody>\n",
       "  </tbody>\n",
       "</table>\n",
       "</div>"
      ],
      "text/plain": [
       "Empty DataFrame\n",
       "Columns: [UG, SIGLA UG, ACAO, NOME_ACAO, ANO, CREDOR, NOME_CREDOR, DATA, DIAS, ICFEX, NOME_ICFEX, ND, NOME_ND, NDSI, NOME_NDSI, NE, PI, NOME_PI, PROGRAMA, PTRES, TIPO, TIPO_NE, LOCAL, UF_CREDOR, UF_UG, UGR, NOME_UGR, RADPI4, MEIPI3, SUFPI4, A_LIQUIDAR, LIQUIDADO_A_PAGAR, TOTAL_A_PAGAR, PAGO]\n",
       "Index: []"
      ]
     },
     "execution_count": 8,
     "metadata": {},
     "output_type": "execute_result"
    }
   ],
   "source": [
    "# Filtrar os PI específicos para os contratos\n",
    "\n",
    "filtro = ((df_teste['PI'] == 'I3DAFUNCOPI') | \n",
    "         (df_teste['PI'] == 'I3DAFUNLARO') | \n",
    "         (df_teste['PI'] == 'I3DAFUNPETA') | \n",
    "         (df_teste['PI'] == 'I3DAFUNELEV') | \n",
    "         (df_teste['PI'] == 'I3DAFUNDEDE'))\n",
    "\n",
    "df_teste.loc[filtro]"
   ]
  },
  {
   "cell_type": "markdown",
   "metadata": {},
   "source": [
    "#### Contratos de Grande Vulto\n",
    "\n",
    "- Não está autorizado celebrar novos contratos"
   ]
  },
  {
   "cell_type": "code",
   "execution_count": 9,
   "metadata": {},
   "outputs": [
    {
     "data": {
      "text/html": [
       "<div>\n",
       "<style scoped>\n",
       "    .dataframe tbody tr th:only-of-type {\n",
       "        vertical-align: middle;\n",
       "    }\n",
       "\n",
       "    .dataframe tbody tr th {\n",
       "        vertical-align: top;\n",
       "    }\n",
       "\n",
       "    .dataframe thead th {\n",
       "        text-align: right;\n",
       "    }\n",
       "</style>\n",
       "<table border=\"1\" class=\"dataframe\">\n",
       "  <thead>\n",
       "    <tr style=\"text-align: right;\">\n",
       "      <th></th>\n",
       "      <th>index</th>\n",
       "      <th>UG</th>\n",
       "      <th>SIGLA UG</th>\n",
       "      <th>ACAO</th>\n",
       "      <th>NOME_ACAO</th>\n",
       "      <th>ANO</th>\n",
       "      <th>CREDOR</th>\n",
       "      <th>NOME_CREDOR</th>\n",
       "      <th>DATA</th>\n",
       "      <th>DIAS</th>\n",
       "      <th>ICFEX</th>\n",
       "      <th>NOME_ICFEX</th>\n",
       "      <th>ND</th>\n",
       "      <th>NOME_ND</th>\n",
       "      <th>NDSI</th>\n",
       "      <th>NOME_NDSI</th>\n",
       "      <th>NE</th>\n",
       "      <th>PI</th>\n",
       "      <th>NOME_PI</th>\n",
       "      <th>PROGRAMA</th>\n",
       "      <th>PTRES</th>\n",
       "      <th>TIPO</th>\n",
       "      <th>TIPO_NE</th>\n",
       "      <th>LOCAL</th>\n",
       "      <th>UF_CREDOR</th>\n",
       "      <th>UF_UG</th>\n",
       "      <th>UGR</th>\n",
       "      <th>NOME_UGR</th>\n",
       "      <th>RADPI4</th>\n",
       "      <th>MEIPI3</th>\n",
       "      <th>SUFPI4</th>\n",
       "      <th>A_LIQUIDAR</th>\n",
       "      <th>LIQUIDADO_A_PAGAR</th>\n",
       "      <th>TOTAL_A_PAGAR</th>\n",
       "      <th>PAGO</th>\n",
       "    </tr>\n",
       "  </thead>\n",
       "  <tbody>\n",
       "    <tr>\n",
       "      <th>0</th>\n",
       "      <td>158</td>\n",
       "      <td>160129</td>\n",
       "      <td>ESA</td>\n",
       "      <td>2000</td>\n",
       "      <td>ADMINISTRACAO DA UNIDADE</td>\n",
       "      <td>2023</td>\n",
       "      <td>20584944000160</td>\n",
       "      <td>TBL SERVICOS LTDA</td>\n",
       "      <td>2023-06-14</td>\n",
       "      <td>112</td>\n",
       "      <td>160533</td>\n",
       "      <td>4º CGCFEX</td>\n",
       "      <td>339037</td>\n",
       "      <td>LOCACAO DE MAO-DE-OBRA</td>\n",
       "      <td>33903702</td>\n",
       "      <td>LIMPEZA E CONSERVACAO</td>\n",
       "      <td>2023NE000661</td>\n",
       "      <td>I3DACNTLICO</td>\n",
       "      <td>LIMPEZA DE BENS IMÓVEIS</td>\n",
       "      <td>0032</td>\n",
       "      <td>171460</td>\n",
       "      <td>ANO</td>\n",
       "      <td>GLOBAL</td>\n",
       "      <td>ESCOLA DE SARGENTOS DAS ARMAS  - AVENIDA SETE ...</td>\n",
       "      <td>MG</td>\n",
       "      <td>MG</td>\n",
       "      <td>160073</td>\n",
       "      <td>DGO</td>\n",
       "      <td>I3DA</td>\n",
       "      <td>CNT</td>\n",
       "      <td>LICO</td>\n",
       "      <td>72837.98</td>\n",
       "      <td>0.0</td>\n",
       "      <td>72837.98</td>\n",
       "      <td>0.0</td>\n",
       "    </tr>\n",
       "    <tr>\n",
       "      <th>1</th>\n",
       "      <td>157</td>\n",
       "      <td>160129</td>\n",
       "      <td>ESA</td>\n",
       "      <td>2000</td>\n",
       "      <td>ADMINISTRACAO DA UNIDADE</td>\n",
       "      <td>2023</td>\n",
       "      <td>20584944000160</td>\n",
       "      <td>TBL SERVICOS LTDA</td>\n",
       "      <td>2023-05-26</td>\n",
       "      <td>131</td>\n",
       "      <td>160533</td>\n",
       "      <td>4º CGCFEX</td>\n",
       "      <td>339037</td>\n",
       "      <td>LOCACAO DE MAO-DE-OBRA</td>\n",
       "      <td>33903702</td>\n",
       "      <td>LIMPEZA E CONSERVACAO</td>\n",
       "      <td>2023NE000552</td>\n",
       "      <td>I3DACNTLICO</td>\n",
       "      <td>LIMPEZA DE BENS IMÓVEIS</td>\n",
       "      <td>0032</td>\n",
       "      <td>171460</td>\n",
       "      <td>ANO</td>\n",
       "      <td>GLOBAL</td>\n",
       "      <td>ESCOLA DE SARGENTOS DAS ARMAS, AVENIDA SETE DE...</td>\n",
       "      <td>MG</td>\n",
       "      <td>MG</td>\n",
       "      <td>160073</td>\n",
       "      <td>DGO</td>\n",
       "      <td>I3DA</td>\n",
       "      <td>CNT</td>\n",
       "      <td>LICO</td>\n",
       "      <td>68931.48</td>\n",
       "      <td>0.0</td>\n",
       "      <td>68931.48</td>\n",
       "      <td>0.0</td>\n",
       "    </tr>\n",
       "    <tr>\n",
       "      <th>2</th>\n",
       "      <td>161</td>\n",
       "      <td>160129</td>\n",
       "      <td>ESA</td>\n",
       "      <td>2000</td>\n",
       "      <td>ADMINISTRACAO DA UNIDADE</td>\n",
       "      <td>2023</td>\n",
       "      <td>20584944000160</td>\n",
       "      <td>TBL SERVICOS LTDA</td>\n",
       "      <td>2023-08-15</td>\n",
       "      <td>50</td>\n",
       "      <td>160533</td>\n",
       "      <td>4º CGCFEX</td>\n",
       "      <td>339037</td>\n",
       "      <td>LOCACAO DE MAO-DE-OBRA</td>\n",
       "      <td>33903702</td>\n",
       "      <td>LIMPEZA E CONSERVACAO</td>\n",
       "      <td>2023NE000994</td>\n",
       "      <td>I3DACNTLICO</td>\n",
       "      <td>LIMPEZA DE BENS IMÓVEIS</td>\n",
       "      <td>0032</td>\n",
       "      <td>171460</td>\n",
       "      <td>ANO</td>\n",
       "      <td>GLOBAL</td>\n",
       "      <td>ESCOLA DE SARGENTOS DAS ARMAS  - AVENIDA SETE ...</td>\n",
       "      <td>MG</td>\n",
       "      <td>MG</td>\n",
       "      <td>160073</td>\n",
       "      <td>DGO</td>\n",
       "      <td>I3DA</td>\n",
       "      <td>CNT</td>\n",
       "      <td>LICO</td>\n",
       "      <td>36418.99</td>\n",
       "      <td>0.0</td>\n",
       "      <td>36418.99</td>\n",
       "      <td>0.0</td>\n",
       "    </tr>\n",
       "    <tr>\n",
       "      <th>3</th>\n",
       "      <td>160</td>\n",
       "      <td>160129</td>\n",
       "      <td>ESA</td>\n",
       "      <td>2000</td>\n",
       "      <td>ADMINISTRACAO DA UNIDADE</td>\n",
       "      <td>2023</td>\n",
       "      <td>20584944000160</td>\n",
       "      <td>TBL SERVICOS LTDA</td>\n",
       "      <td>2023-07-05</td>\n",
       "      <td>91</td>\n",
       "      <td>160533</td>\n",
       "      <td>4º CGCFEX</td>\n",
       "      <td>339037</td>\n",
       "      <td>LOCACAO DE MAO-DE-OBRA</td>\n",
       "      <td>33903702</td>\n",
       "      <td>LIMPEZA E CONSERVACAO</td>\n",
       "      <td>2023NE000849</td>\n",
       "      <td>I3DACNTLICO</td>\n",
       "      <td>LIMPEZA DE BENS IMÓVEIS</td>\n",
       "      <td>0032</td>\n",
       "      <td>171460</td>\n",
       "      <td>ANO</td>\n",
       "      <td>GLOBAL</td>\n",
       "      <td>ESCOLA DE SARGENTOS DAS ARMAS  - AVENIDA SETE ...</td>\n",
       "      <td>MG</td>\n",
       "      <td>MG</td>\n",
       "      <td>160073</td>\n",
       "      <td>DGO</td>\n",
       "      <td>I3DA</td>\n",
       "      <td>CNT</td>\n",
       "      <td>LICO</td>\n",
       "      <td>36418.99</td>\n",
       "      <td>0.0</td>\n",
       "      <td>36418.99</td>\n",
       "      <td>0.0</td>\n",
       "    </tr>\n",
       "    <tr>\n",
       "      <th>4</th>\n",
       "      <td>156</td>\n",
       "      <td>160129</td>\n",
       "      <td>ESA</td>\n",
       "      <td>2000</td>\n",
       "      <td>ADMINISTRACAO DA UNIDADE</td>\n",
       "      <td>2023</td>\n",
       "      <td>20584944000160</td>\n",
       "      <td>TBL SERVICOS LTDA</td>\n",
       "      <td>2023-04-14</td>\n",
       "      <td>173</td>\n",
       "      <td>160533</td>\n",
       "      <td>4º CGCFEX</td>\n",
       "      <td>339037</td>\n",
       "      <td>LOCACAO DE MAO-DE-OBRA</td>\n",
       "      <td>33903702</td>\n",
       "      <td>LIMPEZA E CONSERVACAO</td>\n",
       "      <td>2023NE000374</td>\n",
       "      <td>I3DACNTLICO</td>\n",
       "      <td>LIMPEZA DE BENS IMÓVEIS</td>\n",
       "      <td>0032</td>\n",
       "      <td>171460</td>\n",
       "      <td>ANO</td>\n",
       "      <td>GLOBAL</td>\n",
       "      <td>ESCOLA DE SARGENTOS DAS ARMAS  - AVENIDA SETE ...</td>\n",
       "      <td>MG</td>\n",
       "      <td>MG</td>\n",
       "      <td>160073</td>\n",
       "      <td>DGO</td>\n",
       "      <td>I3DA</td>\n",
       "      <td>CNT</td>\n",
       "      <td>LICO</td>\n",
       "      <td>34465.74</td>\n",
       "      <td>0.0</td>\n",
       "      <td>34465.74</td>\n",
       "      <td>172328.7</td>\n",
       "    </tr>\n",
       "  </tbody>\n",
       "</table>\n",
       "</div>"
      ],
      "text/plain": [
       "   index      UG SIGLA UG  ACAO                 NOME_ACAO   ANO  \\\n",
       "0    158  160129      ESA  2000  ADMINISTRACAO DA UNIDADE  2023   \n",
       "1    157  160129      ESA  2000  ADMINISTRACAO DA UNIDADE  2023   \n",
       "2    161  160129      ESA  2000  ADMINISTRACAO DA UNIDADE  2023   \n",
       "3    160  160129      ESA  2000  ADMINISTRACAO DA UNIDADE  2023   \n",
       "4    156  160129      ESA  2000  ADMINISTRACAO DA UNIDADE  2023   \n",
       "\n",
       "           CREDOR        NOME_CREDOR       DATA  DIAS   ICFEX NOME_ICFEX  \\\n",
       "0  20584944000160  TBL SERVICOS LTDA 2023-06-14   112  160533  4º CGCFEX   \n",
       "1  20584944000160  TBL SERVICOS LTDA 2023-05-26   131  160533  4º CGCFEX   \n",
       "2  20584944000160  TBL SERVICOS LTDA 2023-08-15    50  160533  4º CGCFEX   \n",
       "3  20584944000160  TBL SERVICOS LTDA 2023-07-05    91  160533  4º CGCFEX   \n",
       "4  20584944000160  TBL SERVICOS LTDA 2023-04-14   173  160533  4º CGCFEX   \n",
       "\n",
       "       ND                 NOME_ND      NDSI              NOME_NDSI  \\\n",
       "0  339037  LOCACAO DE MAO-DE-OBRA  33903702  LIMPEZA E CONSERVACAO   \n",
       "1  339037  LOCACAO DE MAO-DE-OBRA  33903702  LIMPEZA E CONSERVACAO   \n",
       "2  339037  LOCACAO DE MAO-DE-OBRA  33903702  LIMPEZA E CONSERVACAO   \n",
       "3  339037  LOCACAO DE MAO-DE-OBRA  33903702  LIMPEZA E CONSERVACAO   \n",
       "4  339037  LOCACAO DE MAO-DE-OBRA  33903702  LIMPEZA E CONSERVACAO   \n",
       "\n",
       "             NE           PI                  NOME_PI PROGRAMA   PTRES TIPO  \\\n",
       "0  2023NE000661  I3DACNTLICO  LIMPEZA DE BENS IMÓVEIS     0032  171460  ANO   \n",
       "1  2023NE000552  I3DACNTLICO  LIMPEZA DE BENS IMÓVEIS     0032  171460  ANO   \n",
       "2  2023NE000994  I3DACNTLICO  LIMPEZA DE BENS IMÓVEIS     0032  171460  ANO   \n",
       "3  2023NE000849  I3DACNTLICO  LIMPEZA DE BENS IMÓVEIS     0032  171460  ANO   \n",
       "4  2023NE000374  I3DACNTLICO  LIMPEZA DE BENS IMÓVEIS     0032  171460  ANO   \n",
       "\n",
       "  TIPO_NE                                              LOCAL UF_CREDOR UF_UG  \\\n",
       "0  GLOBAL  ESCOLA DE SARGENTOS DAS ARMAS  - AVENIDA SETE ...        MG    MG   \n",
       "1  GLOBAL  ESCOLA DE SARGENTOS DAS ARMAS, AVENIDA SETE DE...        MG    MG   \n",
       "2  GLOBAL  ESCOLA DE SARGENTOS DAS ARMAS  - AVENIDA SETE ...        MG    MG   \n",
       "3  GLOBAL  ESCOLA DE SARGENTOS DAS ARMAS  - AVENIDA SETE ...        MG    MG   \n",
       "4  GLOBAL  ESCOLA DE SARGENTOS DAS ARMAS  - AVENIDA SETE ...        MG    MG   \n",
       "\n",
       "      UGR NOME_UGR RADPI4 MEIPI3 SUFPI4  A_LIQUIDAR  LIQUIDADO_A_PAGAR  \\\n",
       "0  160073      DGO   I3DA    CNT   LICO    72837.98                0.0   \n",
       "1  160073      DGO   I3DA    CNT   LICO    68931.48                0.0   \n",
       "2  160073      DGO   I3DA    CNT   LICO    36418.99                0.0   \n",
       "3  160073      DGO   I3DA    CNT   LICO    36418.99                0.0   \n",
       "4  160073      DGO   I3DA    CNT   LICO    34465.74                0.0   \n",
       "\n",
       "   TOTAL_A_PAGAR      PAGO  \n",
       "0       72837.98       0.0  \n",
       "1       68931.48       0.0  \n",
       "2       36418.99       0.0  \n",
       "3       36418.99       0.0  \n",
       "4       34465.74  172328.7  "
      ]
     },
     "execution_count": 9,
     "metadata": {},
     "output_type": "execute_result"
    }
   ],
   "source": [
    "filtro = ((df_teste['PI'] == 'I3DACNTLICO') | \n",
    "         (df_teste['PI'] == 'I3DACNTMABM') | \n",
    "         (df_teste['PI'] == 'I3DACNTMABI'))\n",
    "\n",
    "df_grande_vulto = df_teste.loc[filtro].sort_values(by='A_LIQUIDAR', ascending=False).reset_index()\n",
    "df_grande_vulto.head()"
   ]
  },
  {
   "cell_type": "code",
   "execution_count": 10,
   "metadata": {},
   "outputs": [
    {
     "name": "stdout",
     "output_type": "stream",
     "text": [
      "Total de empenhos firmados ao longo de 2023: 21\n"
     ]
    }
   ],
   "source": [
    "# Total de empenhos para  Contrato de Grandes Vulto\n",
    "df_grande_vulto.shape[0]\n",
    "print(f'Total de empenhos firmados ao longo de 2023: {df_grande_vulto.shape[0]}')"
   ]
  },
  {
   "cell_type": "code",
   "execution_count": 11,
   "metadata": {},
   "outputs": [
    {
     "name": "stdout",
     "output_type": "stream",
     "text": [
      "Total de Recursos Alocados para Contratos de Grande Vulto: R$ 1.062.245,76\n"
     ]
    }
   ],
   "source": [
    "# Valores Empenhados no Exércicio Corrente para Contratos de Grande Vulto\n",
    "total_grande_vulto = df_grande_vulto['TOTAL_A_PAGAR'].sum() + df_grande_vulto['PAGO'].sum()\n",
    "\n",
    "print(f'Total de Recursos Alocados para Contratos de Grande Vulto: {locale.currency(total_grande_vulto, grouping=True)}')"
   ]
  },
  {
   "cell_type": "code",
   "execution_count": 12,
   "metadata": {},
   "outputs": [
    {
     "name": "stderr",
     "output_type": "stream",
     "text": [
      "c:\\Users\\User\\anaconda3\\Lib\\site-packages\\openpyxl\\worksheet\\_read_only.py:79: UserWarning: Unknown extension is not supported and will be removed\n",
      "  for idx, row in parser.parse():\n",
      "c:\\Users\\User\\anaconda3\\Lib\\site-packages\\openpyxl\\worksheet\\_read_only.py:79: UserWarning: Conditional Formatting extension is not supported and will be removed\n",
      "  for idx, row in parser.parse():\n"
     ]
    }
   ],
   "source": [
    "df_recursos = pd.read_excel(r'C:\\Users\\User\\OneDrive\\Trabalho\\ESA 2023\\Dados\\Dash_SAG_Novo\\base_dados\\Recursos_Disponiveis.xlsx', sheet_name='Recursos_ESA')\n",
    "df_recursos = df_recursos[['ND', 'UG Emissora', 'PI', 'Descrição PI', 'Detalhe Descrição PI', 'Soma de Valor']]\n",
    "\n",
    "# Convertendo tipos de colunas\n",
    "df_recursos['ND'] =  df_recursos['ND'].astype(str)\n",
    "df_recursos['UG Emissora'] = df_recursos['UG Emissora'].astype(str)\n",
    "df_recursos['UG Emissora'] = df_recursos['UG Emissora'].apply(lambda x: x.replace('.0', ''))"
   ]
  },
  {
   "cell_type": "code",
   "execution_count": 13,
   "metadata": {},
   "outputs": [
    {
     "data": {
      "text/plain": [
       "'R$ 430.112,08'"
      ]
     },
     "execution_count": 13,
     "metadata": {},
     "output_type": "execute_result"
    }
   ],
   "source": [
    "locale.currency(df_recursos['Soma de Valor'].sum(), grouping=True)"
   ]
  },
  {
   "cell_type": "code",
   "execution_count": 14,
   "metadata": {},
   "outputs": [
    {
     "data": {
      "application/vnd.plotly.v1+json": {
       "config": {
        "plotlyServerURL": "https://plot.ly"
       },
       "data": [
        {
         "alignmentgroup": "True",
         "cliponaxis": false,
         "legendgroup": "",
         "marker": {
          "color": [
           207193.24,
           91331.15,
           81841.85,
           40560.9,
           9089.92,
           95,
           0.02
          ],
          "coloraxis": "coloraxis",
          "pattern": {
           "shape": ""
          }
         },
         "name": "",
         "offsetgroup": "",
         "orientation": "v",
         "showlegend": false,
         "textposition": "outside",
         "texttemplate": "%{y:.3s}",
         "type": "bar",
         "x": [
          "449052",
          "339039",
          "339030",
          "339000",
          "339036",
          "339015",
          "339147"
         ],
         "xaxis": "x",
         "y": [
          207193.24,
          91331.15,
          81841.85,
          40560.9,
          9089.92,
          95,
          0.02
         ],
         "yaxis": "y"
        }
       ],
       "layout": {
        "barmode": "relative",
        "coloraxis": {
         "colorbar": {
          "title": {
           "text": "Recurso para empenhar"
          }
         },
         "colorscale": [
          [
           0,
           "rgb(255,245,240)"
          ],
          [
           0.125,
           "rgb(254,224,210)"
          ],
          [
           0.25,
           "rgb(252,187,161)"
          ],
          [
           0.375,
           "rgb(252,146,114)"
          ],
          [
           0.5,
           "rgb(251,106,74)"
          ],
          [
           0.625,
           "rgb(239,59,44)"
          ],
          [
           0.75,
           "rgb(203,24,29)"
          ],
          [
           0.875,
           "rgb(165,15,21)"
          ],
          [
           1,
           "rgb(103,0,13)"
          ]
         ]
        },
        "height": 500,
        "hovermode": "x unified",
        "legend": {
         "tracegroupgap": 0
        },
        "template": {
         "data": {
          "bar": [
           {
            "error_x": {
             "color": "#f2f5fa"
            },
            "error_y": {
             "color": "#f2f5fa"
            },
            "marker": {
             "line": {
              "color": "rgb(17,17,17)",
              "width": 0.5
             },
             "pattern": {
              "fillmode": "overlay",
              "size": 10,
              "solidity": 0.2
             }
            },
            "type": "bar"
           }
          ],
          "barpolar": [
           {
            "marker": {
             "line": {
              "color": "rgb(17,17,17)",
              "width": 0.5
             },
             "pattern": {
              "fillmode": "overlay",
              "size": 10,
              "solidity": 0.2
             }
            },
            "type": "barpolar"
           }
          ],
          "carpet": [
           {
            "aaxis": {
             "endlinecolor": "#A2B1C6",
             "gridcolor": "#506784",
             "linecolor": "#506784",
             "minorgridcolor": "#506784",
             "startlinecolor": "#A2B1C6"
            },
            "baxis": {
             "endlinecolor": "#A2B1C6",
             "gridcolor": "#506784",
             "linecolor": "#506784",
             "minorgridcolor": "#506784",
             "startlinecolor": "#A2B1C6"
            },
            "type": "carpet"
           }
          ],
          "choropleth": [
           {
            "colorbar": {
             "outlinewidth": 0,
             "ticks": ""
            },
            "type": "choropleth"
           }
          ],
          "contour": [
           {
            "colorbar": {
             "outlinewidth": 0,
             "ticks": ""
            },
            "colorscale": [
             [
              0,
              "#0d0887"
             ],
             [
              0.1111111111111111,
              "#46039f"
             ],
             [
              0.2222222222222222,
              "#7201a8"
             ],
             [
              0.3333333333333333,
              "#9c179e"
             ],
             [
              0.4444444444444444,
              "#bd3786"
             ],
             [
              0.5555555555555556,
              "#d8576b"
             ],
             [
              0.6666666666666666,
              "#ed7953"
             ],
             [
              0.7777777777777778,
              "#fb9f3a"
             ],
             [
              0.8888888888888888,
              "#fdca26"
             ],
             [
              1,
              "#f0f921"
             ]
            ],
            "type": "contour"
           }
          ],
          "contourcarpet": [
           {
            "colorbar": {
             "outlinewidth": 0,
             "ticks": ""
            },
            "type": "contourcarpet"
           }
          ],
          "heatmap": [
           {
            "colorbar": {
             "outlinewidth": 0,
             "ticks": ""
            },
            "colorscale": [
             [
              0,
              "#0d0887"
             ],
             [
              0.1111111111111111,
              "#46039f"
             ],
             [
              0.2222222222222222,
              "#7201a8"
             ],
             [
              0.3333333333333333,
              "#9c179e"
             ],
             [
              0.4444444444444444,
              "#bd3786"
             ],
             [
              0.5555555555555556,
              "#d8576b"
             ],
             [
              0.6666666666666666,
              "#ed7953"
             ],
             [
              0.7777777777777778,
              "#fb9f3a"
             ],
             [
              0.8888888888888888,
              "#fdca26"
             ],
             [
              1,
              "#f0f921"
             ]
            ],
            "type": "heatmap"
           }
          ],
          "heatmapgl": [
           {
            "colorbar": {
             "outlinewidth": 0,
             "ticks": ""
            },
            "colorscale": [
             [
              0,
              "#0d0887"
             ],
             [
              0.1111111111111111,
              "#46039f"
             ],
             [
              0.2222222222222222,
              "#7201a8"
             ],
             [
              0.3333333333333333,
              "#9c179e"
             ],
             [
              0.4444444444444444,
              "#bd3786"
             ],
             [
              0.5555555555555556,
              "#d8576b"
             ],
             [
              0.6666666666666666,
              "#ed7953"
             ],
             [
              0.7777777777777778,
              "#fb9f3a"
             ],
             [
              0.8888888888888888,
              "#fdca26"
             ],
             [
              1,
              "#f0f921"
             ]
            ],
            "type": "heatmapgl"
           }
          ],
          "histogram": [
           {
            "marker": {
             "pattern": {
              "fillmode": "overlay",
              "size": 10,
              "solidity": 0.2
             }
            },
            "type": "histogram"
           }
          ],
          "histogram2d": [
           {
            "colorbar": {
             "outlinewidth": 0,
             "ticks": ""
            },
            "colorscale": [
             [
              0,
              "#0d0887"
             ],
             [
              0.1111111111111111,
              "#46039f"
             ],
             [
              0.2222222222222222,
              "#7201a8"
             ],
             [
              0.3333333333333333,
              "#9c179e"
             ],
             [
              0.4444444444444444,
              "#bd3786"
             ],
             [
              0.5555555555555556,
              "#d8576b"
             ],
             [
              0.6666666666666666,
              "#ed7953"
             ],
             [
              0.7777777777777778,
              "#fb9f3a"
             ],
             [
              0.8888888888888888,
              "#fdca26"
             ],
             [
              1,
              "#f0f921"
             ]
            ],
            "type": "histogram2d"
           }
          ],
          "histogram2dcontour": [
           {
            "colorbar": {
             "outlinewidth": 0,
             "ticks": ""
            },
            "colorscale": [
             [
              0,
              "#0d0887"
             ],
             [
              0.1111111111111111,
              "#46039f"
             ],
             [
              0.2222222222222222,
              "#7201a8"
             ],
             [
              0.3333333333333333,
              "#9c179e"
             ],
             [
              0.4444444444444444,
              "#bd3786"
             ],
             [
              0.5555555555555556,
              "#d8576b"
             ],
             [
              0.6666666666666666,
              "#ed7953"
             ],
             [
              0.7777777777777778,
              "#fb9f3a"
             ],
             [
              0.8888888888888888,
              "#fdca26"
             ],
             [
              1,
              "#f0f921"
             ]
            ],
            "type": "histogram2dcontour"
           }
          ],
          "mesh3d": [
           {
            "colorbar": {
             "outlinewidth": 0,
             "ticks": ""
            },
            "type": "mesh3d"
           }
          ],
          "parcoords": [
           {
            "line": {
             "colorbar": {
              "outlinewidth": 0,
              "ticks": ""
             }
            },
            "type": "parcoords"
           }
          ],
          "pie": [
           {
            "automargin": true,
            "type": "pie"
           }
          ],
          "scatter": [
           {
            "marker": {
             "line": {
              "color": "#283442"
             }
            },
            "type": "scatter"
           }
          ],
          "scatter3d": [
           {
            "line": {
             "colorbar": {
              "outlinewidth": 0,
              "ticks": ""
             }
            },
            "marker": {
             "colorbar": {
              "outlinewidth": 0,
              "ticks": ""
             }
            },
            "type": "scatter3d"
           }
          ],
          "scattercarpet": [
           {
            "marker": {
             "colorbar": {
              "outlinewidth": 0,
              "ticks": ""
             }
            },
            "type": "scattercarpet"
           }
          ],
          "scattergeo": [
           {
            "marker": {
             "colorbar": {
              "outlinewidth": 0,
              "ticks": ""
             }
            },
            "type": "scattergeo"
           }
          ],
          "scattergl": [
           {
            "marker": {
             "line": {
              "color": "#283442"
             }
            },
            "type": "scattergl"
           }
          ],
          "scattermapbox": [
           {
            "marker": {
             "colorbar": {
              "outlinewidth": 0,
              "ticks": ""
             }
            },
            "type": "scattermapbox"
           }
          ],
          "scatterpolar": [
           {
            "marker": {
             "colorbar": {
              "outlinewidth": 0,
              "ticks": ""
             }
            },
            "type": "scatterpolar"
           }
          ],
          "scatterpolargl": [
           {
            "marker": {
             "colorbar": {
              "outlinewidth": 0,
              "ticks": ""
             }
            },
            "type": "scatterpolargl"
           }
          ],
          "scatterternary": [
           {
            "marker": {
             "colorbar": {
              "outlinewidth": 0,
              "ticks": ""
             }
            },
            "type": "scatterternary"
           }
          ],
          "surface": [
           {
            "colorbar": {
             "outlinewidth": 0,
             "ticks": ""
            },
            "colorscale": [
             [
              0,
              "#0d0887"
             ],
             [
              0.1111111111111111,
              "#46039f"
             ],
             [
              0.2222222222222222,
              "#7201a8"
             ],
             [
              0.3333333333333333,
              "#9c179e"
             ],
             [
              0.4444444444444444,
              "#bd3786"
             ],
             [
              0.5555555555555556,
              "#d8576b"
             ],
             [
              0.6666666666666666,
              "#ed7953"
             ],
             [
              0.7777777777777778,
              "#fb9f3a"
             ],
             [
              0.8888888888888888,
              "#fdca26"
             ],
             [
              1,
              "#f0f921"
             ]
            ],
            "type": "surface"
           }
          ],
          "table": [
           {
            "cells": {
             "fill": {
              "color": "#506784"
             },
             "line": {
              "color": "rgb(17,17,17)"
             }
            },
            "header": {
             "fill": {
              "color": "#2a3f5f"
             },
             "line": {
              "color": "rgb(17,17,17)"
             }
            },
            "type": "table"
           }
          ]
         },
         "layout": {
          "annotationdefaults": {
           "arrowcolor": "#f2f5fa",
           "arrowhead": 0,
           "arrowwidth": 1
          },
          "autotypenumbers": "strict",
          "coloraxis": {
           "colorbar": {
            "outlinewidth": 0,
            "ticks": ""
           }
          },
          "colorscale": {
           "diverging": [
            [
             0,
             "#8e0152"
            ],
            [
             0.1,
             "#c51b7d"
            ],
            [
             0.2,
             "#de77ae"
            ],
            [
             0.3,
             "#f1b6da"
            ],
            [
             0.4,
             "#fde0ef"
            ],
            [
             0.5,
             "#f7f7f7"
            ],
            [
             0.6,
             "#e6f5d0"
            ],
            [
             0.7,
             "#b8e186"
            ],
            [
             0.8,
             "#7fbc41"
            ],
            [
             0.9,
             "#4d9221"
            ],
            [
             1,
             "#276419"
            ]
           ],
           "sequential": [
            [
             0,
             "#0d0887"
            ],
            [
             0.1111111111111111,
             "#46039f"
            ],
            [
             0.2222222222222222,
             "#7201a8"
            ],
            [
             0.3333333333333333,
             "#9c179e"
            ],
            [
             0.4444444444444444,
             "#bd3786"
            ],
            [
             0.5555555555555556,
             "#d8576b"
            ],
            [
             0.6666666666666666,
             "#ed7953"
            ],
            [
             0.7777777777777778,
             "#fb9f3a"
            ],
            [
             0.8888888888888888,
             "#fdca26"
            ],
            [
             1,
             "#f0f921"
            ]
           ],
           "sequentialminus": [
            [
             0,
             "#0d0887"
            ],
            [
             0.1111111111111111,
             "#46039f"
            ],
            [
             0.2222222222222222,
             "#7201a8"
            ],
            [
             0.3333333333333333,
             "#9c179e"
            ],
            [
             0.4444444444444444,
             "#bd3786"
            ],
            [
             0.5555555555555556,
             "#d8576b"
            ],
            [
             0.6666666666666666,
             "#ed7953"
            ],
            [
             0.7777777777777778,
             "#fb9f3a"
            ],
            [
             0.8888888888888888,
             "#fdca26"
            ],
            [
             1,
             "#f0f921"
            ]
           ]
          },
          "colorway": [
           "#636efa",
           "#EF553B",
           "#00cc96",
           "#ab63fa",
           "#FFA15A",
           "#19d3f3",
           "#FF6692",
           "#B6E880",
           "#FF97FF",
           "#FECB52"
          ],
          "font": {
           "color": "#f2f5fa"
          },
          "geo": {
           "bgcolor": "rgb(17,17,17)",
           "lakecolor": "rgb(17,17,17)",
           "landcolor": "rgb(17,17,17)",
           "showlakes": true,
           "showland": true,
           "subunitcolor": "#506784"
          },
          "hoverlabel": {
           "align": "left"
          },
          "hovermode": "closest",
          "mapbox": {
           "style": "dark"
          },
          "paper_bgcolor": "rgb(17,17,17)",
          "plot_bgcolor": "rgb(17,17,17)",
          "polar": {
           "angularaxis": {
            "gridcolor": "#506784",
            "linecolor": "#506784",
            "ticks": ""
           },
           "bgcolor": "rgb(17,17,17)",
           "radialaxis": {
            "gridcolor": "#506784",
            "linecolor": "#506784",
            "ticks": ""
           }
          },
          "scene": {
           "xaxis": {
            "backgroundcolor": "rgb(17,17,17)",
            "gridcolor": "#506784",
            "gridwidth": 2,
            "linecolor": "#506784",
            "showbackground": true,
            "ticks": "",
            "zerolinecolor": "#C8D4E3"
           },
           "yaxis": {
            "backgroundcolor": "rgb(17,17,17)",
            "gridcolor": "#506784",
            "gridwidth": 2,
            "linecolor": "#506784",
            "showbackground": true,
            "ticks": "",
            "zerolinecolor": "#C8D4E3"
           },
           "zaxis": {
            "backgroundcolor": "rgb(17,17,17)",
            "gridcolor": "#506784",
            "gridwidth": 2,
            "linecolor": "#506784",
            "showbackground": true,
            "ticks": "",
            "zerolinecolor": "#C8D4E3"
           }
          },
          "shapedefaults": {
           "line": {
            "color": "#f2f5fa"
           }
          },
          "sliderdefaults": {
           "bgcolor": "#C8D4E3",
           "bordercolor": "rgb(17,17,17)",
           "borderwidth": 1,
           "tickwidth": 0
          },
          "ternary": {
           "aaxis": {
            "gridcolor": "#506784",
            "linecolor": "#506784",
            "ticks": ""
           },
           "baxis": {
            "gridcolor": "#506784",
            "linecolor": "#506784",
            "ticks": ""
           },
           "bgcolor": "rgb(17,17,17)",
           "caxis": {
            "gridcolor": "#506784",
            "linecolor": "#506784",
            "ticks": ""
           }
          },
          "title": {
           "x": 0.05
          },
          "updatemenudefaults": {
           "bgcolor": "#506784",
           "borderwidth": 0
          },
          "xaxis": {
           "automargin": true,
           "gridcolor": "#283442",
           "linecolor": "#506784",
           "ticks": "",
           "title": {
            "standoff": 15
           },
           "zerolinecolor": "#283442",
           "zerolinewidth": 2
          },
          "yaxis": {
           "automargin": true,
           "gridcolor": "#283442",
           "linecolor": "#506784",
           "ticks": "",
           "title": {
            "standoff": 15
           },
           "zerolinecolor": "#283442",
           "zerolinewidth": 2
          }
         }
        },
        "title": {
         "text": "Recurso a ser empenhado por ND"
        },
        "xaxis": {
         "anchor": "y",
         "domain": [
          0,
          1
         ],
         "title": {
          "text": "Natureza da Despesa"
         }
        },
        "yaxis": {
         "anchor": "x",
         "domain": [
          0,
          1
         ],
         "title": {
          "text": "Recurso para empenhar"
         }
        }
       }
      }
     },
     "metadata": {},
     "output_type": "display_data"
    }
   ],
   "source": [
    "# Recursos disponíveis por ND\n",
    "df_aux = df_recursos.loc[:,['ND', 'PI','Soma de Valor']].groupby(by= ['ND']).sum().sort_values(by='Soma de Valor', ascending=False).reset_index()\n",
    "\n",
    "fig = px.bar(df_aux,\n",
    "             x = 'ND',\n",
    "             y = 'Soma de Valor',\n",
    "             title='Recurso a ser empenhado por ND',\n",
    "             labels={'ND':'Natureza da Despesa', 'Soma de Valor':'Recurso para empenhar'},\n",
    "             text_auto='.3s',\n",
    "             height=500,\n",
    "             color='Soma de Valor',\n",
    "             color_continuous_scale = 'reds',\n",
    "             template='plotly_dark')\n",
    "fig.update_traces(textposition = 'outside', cliponaxis = False, hovertemplate=None)\n",
    "fig.update_layout(hovermode=\"x unified\")\n",
    "\n",
    "fig.show()"
   ]
  },
  {
   "cell_type": "code",
   "execution_count": 15,
   "metadata": {},
   "outputs": [
    {
     "data": {
      "application/vnd.plotly.v1+json": {
       "config": {
        "plotlyServerURL": "https://plot.ly"
       },
       "data": [
        {
         "alignmentgroup": "True",
         "cliponaxis": false,
         "legendgroup": "",
         "marker": {
          "color": [
           210918.97,
           44881.46,
           42822.200000000004,
           37306.08,
           35000,
           11641.11,
           11408,
           10354.87,
           9089.92,
           7280
          ],
          "coloraxis": "coloraxis",
          "pattern": {
           "shape": ""
          }
         },
         "name": "",
         "offsetgroup": "",
         "orientation": "v",
         "showlegend": false,
         "textposition": "outside",
         "texttemplate": "%{y:.3s}",
         "type": "bar",
         "x": [
          "C1ENCONDETM",
          "D8SAFUSUGPD",
          "I3DAFUNADOM",
          "D8SAFUNADOM",
          "IXOMOBMPNRE",
          "DF5SCHPVANA",
          "FAOPPREININ",
          "E6RVPLJMTOE",
          "D8SAFUSPRSA",
          "E6RVSOLOUT4"
         ],
         "xaxis": "x",
         "y": [
          210918.97,
          44881.46,
          42822.200000000004,
          37306.08,
          35000,
          11641.11,
          11408,
          10354.87,
          9089.92,
          7280
         ],
         "yaxis": "y"
        }
       ],
       "layout": {
        "barmode": "relative",
        "coloraxis": {
         "colorbar": {
          "title": {
           "text": "Recurso para empenhar"
          }
         },
         "colorscale": [
          [
           0,
           "rgb(255,245,240)"
          ],
          [
           0.125,
           "rgb(254,224,210)"
          ],
          [
           0.25,
           "rgb(252,187,161)"
          ],
          [
           0.375,
           "rgb(252,146,114)"
          ],
          [
           0.5,
           "rgb(251,106,74)"
          ],
          [
           0.625,
           "rgb(239,59,44)"
          ],
          [
           0.75,
           "rgb(203,24,29)"
          ],
          [
           0.875,
           "rgb(165,15,21)"
          ],
          [
           1,
           "rgb(103,0,13)"
          ]
         ]
        },
        "height": 500,
        "hovermode": "x unified",
        "legend": {
         "tracegroupgap": 0
        },
        "template": {
         "data": {
          "bar": [
           {
            "error_x": {
             "color": "#f2f5fa"
            },
            "error_y": {
             "color": "#f2f5fa"
            },
            "marker": {
             "line": {
              "color": "rgb(17,17,17)",
              "width": 0.5
             },
             "pattern": {
              "fillmode": "overlay",
              "size": 10,
              "solidity": 0.2
             }
            },
            "type": "bar"
           }
          ],
          "barpolar": [
           {
            "marker": {
             "line": {
              "color": "rgb(17,17,17)",
              "width": 0.5
             },
             "pattern": {
              "fillmode": "overlay",
              "size": 10,
              "solidity": 0.2
             }
            },
            "type": "barpolar"
           }
          ],
          "carpet": [
           {
            "aaxis": {
             "endlinecolor": "#A2B1C6",
             "gridcolor": "#506784",
             "linecolor": "#506784",
             "minorgridcolor": "#506784",
             "startlinecolor": "#A2B1C6"
            },
            "baxis": {
             "endlinecolor": "#A2B1C6",
             "gridcolor": "#506784",
             "linecolor": "#506784",
             "minorgridcolor": "#506784",
             "startlinecolor": "#A2B1C6"
            },
            "type": "carpet"
           }
          ],
          "choropleth": [
           {
            "colorbar": {
             "outlinewidth": 0,
             "ticks": ""
            },
            "type": "choropleth"
           }
          ],
          "contour": [
           {
            "colorbar": {
             "outlinewidth": 0,
             "ticks": ""
            },
            "colorscale": [
             [
              0,
              "#0d0887"
             ],
             [
              0.1111111111111111,
              "#46039f"
             ],
             [
              0.2222222222222222,
              "#7201a8"
             ],
             [
              0.3333333333333333,
              "#9c179e"
             ],
             [
              0.4444444444444444,
              "#bd3786"
             ],
             [
              0.5555555555555556,
              "#d8576b"
             ],
             [
              0.6666666666666666,
              "#ed7953"
             ],
             [
              0.7777777777777778,
              "#fb9f3a"
             ],
             [
              0.8888888888888888,
              "#fdca26"
             ],
             [
              1,
              "#f0f921"
             ]
            ],
            "type": "contour"
           }
          ],
          "contourcarpet": [
           {
            "colorbar": {
             "outlinewidth": 0,
             "ticks": ""
            },
            "type": "contourcarpet"
           }
          ],
          "heatmap": [
           {
            "colorbar": {
             "outlinewidth": 0,
             "ticks": ""
            },
            "colorscale": [
             [
              0,
              "#0d0887"
             ],
             [
              0.1111111111111111,
              "#46039f"
             ],
             [
              0.2222222222222222,
              "#7201a8"
             ],
             [
              0.3333333333333333,
              "#9c179e"
             ],
             [
              0.4444444444444444,
              "#bd3786"
             ],
             [
              0.5555555555555556,
              "#d8576b"
             ],
             [
              0.6666666666666666,
              "#ed7953"
             ],
             [
              0.7777777777777778,
              "#fb9f3a"
             ],
             [
              0.8888888888888888,
              "#fdca26"
             ],
             [
              1,
              "#f0f921"
             ]
            ],
            "type": "heatmap"
           }
          ],
          "heatmapgl": [
           {
            "colorbar": {
             "outlinewidth": 0,
             "ticks": ""
            },
            "colorscale": [
             [
              0,
              "#0d0887"
             ],
             [
              0.1111111111111111,
              "#46039f"
             ],
             [
              0.2222222222222222,
              "#7201a8"
             ],
             [
              0.3333333333333333,
              "#9c179e"
             ],
             [
              0.4444444444444444,
              "#bd3786"
             ],
             [
              0.5555555555555556,
              "#d8576b"
             ],
             [
              0.6666666666666666,
              "#ed7953"
             ],
             [
              0.7777777777777778,
              "#fb9f3a"
             ],
             [
              0.8888888888888888,
              "#fdca26"
             ],
             [
              1,
              "#f0f921"
             ]
            ],
            "type": "heatmapgl"
           }
          ],
          "histogram": [
           {
            "marker": {
             "pattern": {
              "fillmode": "overlay",
              "size": 10,
              "solidity": 0.2
             }
            },
            "type": "histogram"
           }
          ],
          "histogram2d": [
           {
            "colorbar": {
             "outlinewidth": 0,
             "ticks": ""
            },
            "colorscale": [
             [
              0,
              "#0d0887"
             ],
             [
              0.1111111111111111,
              "#46039f"
             ],
             [
              0.2222222222222222,
              "#7201a8"
             ],
             [
              0.3333333333333333,
              "#9c179e"
             ],
             [
              0.4444444444444444,
              "#bd3786"
             ],
             [
              0.5555555555555556,
              "#d8576b"
             ],
             [
              0.6666666666666666,
              "#ed7953"
             ],
             [
              0.7777777777777778,
              "#fb9f3a"
             ],
             [
              0.8888888888888888,
              "#fdca26"
             ],
             [
              1,
              "#f0f921"
             ]
            ],
            "type": "histogram2d"
           }
          ],
          "histogram2dcontour": [
           {
            "colorbar": {
             "outlinewidth": 0,
             "ticks": ""
            },
            "colorscale": [
             [
              0,
              "#0d0887"
             ],
             [
              0.1111111111111111,
              "#46039f"
             ],
             [
              0.2222222222222222,
              "#7201a8"
             ],
             [
              0.3333333333333333,
              "#9c179e"
             ],
             [
              0.4444444444444444,
              "#bd3786"
             ],
             [
              0.5555555555555556,
              "#d8576b"
             ],
             [
              0.6666666666666666,
              "#ed7953"
             ],
             [
              0.7777777777777778,
              "#fb9f3a"
             ],
             [
              0.8888888888888888,
              "#fdca26"
             ],
             [
              1,
              "#f0f921"
             ]
            ],
            "type": "histogram2dcontour"
           }
          ],
          "mesh3d": [
           {
            "colorbar": {
             "outlinewidth": 0,
             "ticks": ""
            },
            "type": "mesh3d"
           }
          ],
          "parcoords": [
           {
            "line": {
             "colorbar": {
              "outlinewidth": 0,
              "ticks": ""
             }
            },
            "type": "parcoords"
           }
          ],
          "pie": [
           {
            "automargin": true,
            "type": "pie"
           }
          ],
          "scatter": [
           {
            "marker": {
             "line": {
              "color": "#283442"
             }
            },
            "type": "scatter"
           }
          ],
          "scatter3d": [
           {
            "line": {
             "colorbar": {
              "outlinewidth": 0,
              "ticks": ""
             }
            },
            "marker": {
             "colorbar": {
              "outlinewidth": 0,
              "ticks": ""
             }
            },
            "type": "scatter3d"
           }
          ],
          "scattercarpet": [
           {
            "marker": {
             "colorbar": {
              "outlinewidth": 0,
              "ticks": ""
             }
            },
            "type": "scattercarpet"
           }
          ],
          "scattergeo": [
           {
            "marker": {
             "colorbar": {
              "outlinewidth": 0,
              "ticks": ""
             }
            },
            "type": "scattergeo"
           }
          ],
          "scattergl": [
           {
            "marker": {
             "line": {
              "color": "#283442"
             }
            },
            "type": "scattergl"
           }
          ],
          "scattermapbox": [
           {
            "marker": {
             "colorbar": {
              "outlinewidth": 0,
              "ticks": ""
             }
            },
            "type": "scattermapbox"
           }
          ],
          "scatterpolar": [
           {
            "marker": {
             "colorbar": {
              "outlinewidth": 0,
              "ticks": ""
             }
            },
            "type": "scatterpolar"
           }
          ],
          "scatterpolargl": [
           {
            "marker": {
             "colorbar": {
              "outlinewidth": 0,
              "ticks": ""
             }
            },
            "type": "scatterpolargl"
           }
          ],
          "scatterternary": [
           {
            "marker": {
             "colorbar": {
              "outlinewidth": 0,
              "ticks": ""
             }
            },
            "type": "scatterternary"
           }
          ],
          "surface": [
           {
            "colorbar": {
             "outlinewidth": 0,
             "ticks": ""
            },
            "colorscale": [
             [
              0,
              "#0d0887"
             ],
             [
              0.1111111111111111,
              "#46039f"
             ],
             [
              0.2222222222222222,
              "#7201a8"
             ],
             [
              0.3333333333333333,
              "#9c179e"
             ],
             [
              0.4444444444444444,
              "#bd3786"
             ],
             [
              0.5555555555555556,
              "#d8576b"
             ],
             [
              0.6666666666666666,
              "#ed7953"
             ],
             [
              0.7777777777777778,
              "#fb9f3a"
             ],
             [
              0.8888888888888888,
              "#fdca26"
             ],
             [
              1,
              "#f0f921"
             ]
            ],
            "type": "surface"
           }
          ],
          "table": [
           {
            "cells": {
             "fill": {
              "color": "#506784"
             },
             "line": {
              "color": "rgb(17,17,17)"
             }
            },
            "header": {
             "fill": {
              "color": "#2a3f5f"
             },
             "line": {
              "color": "rgb(17,17,17)"
             }
            },
            "type": "table"
           }
          ]
         },
         "layout": {
          "annotationdefaults": {
           "arrowcolor": "#f2f5fa",
           "arrowhead": 0,
           "arrowwidth": 1
          },
          "autotypenumbers": "strict",
          "coloraxis": {
           "colorbar": {
            "outlinewidth": 0,
            "ticks": ""
           }
          },
          "colorscale": {
           "diverging": [
            [
             0,
             "#8e0152"
            ],
            [
             0.1,
             "#c51b7d"
            ],
            [
             0.2,
             "#de77ae"
            ],
            [
             0.3,
             "#f1b6da"
            ],
            [
             0.4,
             "#fde0ef"
            ],
            [
             0.5,
             "#f7f7f7"
            ],
            [
             0.6,
             "#e6f5d0"
            ],
            [
             0.7,
             "#b8e186"
            ],
            [
             0.8,
             "#7fbc41"
            ],
            [
             0.9,
             "#4d9221"
            ],
            [
             1,
             "#276419"
            ]
           ],
           "sequential": [
            [
             0,
             "#0d0887"
            ],
            [
             0.1111111111111111,
             "#46039f"
            ],
            [
             0.2222222222222222,
             "#7201a8"
            ],
            [
             0.3333333333333333,
             "#9c179e"
            ],
            [
             0.4444444444444444,
             "#bd3786"
            ],
            [
             0.5555555555555556,
             "#d8576b"
            ],
            [
             0.6666666666666666,
             "#ed7953"
            ],
            [
             0.7777777777777778,
             "#fb9f3a"
            ],
            [
             0.8888888888888888,
             "#fdca26"
            ],
            [
             1,
             "#f0f921"
            ]
           ],
           "sequentialminus": [
            [
             0,
             "#0d0887"
            ],
            [
             0.1111111111111111,
             "#46039f"
            ],
            [
             0.2222222222222222,
             "#7201a8"
            ],
            [
             0.3333333333333333,
             "#9c179e"
            ],
            [
             0.4444444444444444,
             "#bd3786"
            ],
            [
             0.5555555555555556,
             "#d8576b"
            ],
            [
             0.6666666666666666,
             "#ed7953"
            ],
            [
             0.7777777777777778,
             "#fb9f3a"
            ],
            [
             0.8888888888888888,
             "#fdca26"
            ],
            [
             1,
             "#f0f921"
            ]
           ]
          },
          "colorway": [
           "#636efa",
           "#EF553B",
           "#00cc96",
           "#ab63fa",
           "#FFA15A",
           "#19d3f3",
           "#FF6692",
           "#B6E880",
           "#FF97FF",
           "#FECB52"
          ],
          "font": {
           "color": "#f2f5fa"
          },
          "geo": {
           "bgcolor": "rgb(17,17,17)",
           "lakecolor": "rgb(17,17,17)",
           "landcolor": "rgb(17,17,17)",
           "showlakes": true,
           "showland": true,
           "subunitcolor": "#506784"
          },
          "hoverlabel": {
           "align": "left"
          },
          "hovermode": "closest",
          "mapbox": {
           "style": "dark"
          },
          "paper_bgcolor": "rgb(17,17,17)",
          "plot_bgcolor": "rgb(17,17,17)",
          "polar": {
           "angularaxis": {
            "gridcolor": "#506784",
            "linecolor": "#506784",
            "ticks": ""
           },
           "bgcolor": "rgb(17,17,17)",
           "radialaxis": {
            "gridcolor": "#506784",
            "linecolor": "#506784",
            "ticks": ""
           }
          },
          "scene": {
           "xaxis": {
            "backgroundcolor": "rgb(17,17,17)",
            "gridcolor": "#506784",
            "gridwidth": 2,
            "linecolor": "#506784",
            "showbackground": true,
            "ticks": "",
            "zerolinecolor": "#C8D4E3"
           },
           "yaxis": {
            "backgroundcolor": "rgb(17,17,17)",
            "gridcolor": "#506784",
            "gridwidth": 2,
            "linecolor": "#506784",
            "showbackground": true,
            "ticks": "",
            "zerolinecolor": "#C8D4E3"
           },
           "zaxis": {
            "backgroundcolor": "rgb(17,17,17)",
            "gridcolor": "#506784",
            "gridwidth": 2,
            "linecolor": "#506784",
            "showbackground": true,
            "ticks": "",
            "zerolinecolor": "#C8D4E3"
           }
          },
          "shapedefaults": {
           "line": {
            "color": "#f2f5fa"
           }
          },
          "sliderdefaults": {
           "bgcolor": "#C8D4E3",
           "bordercolor": "rgb(17,17,17)",
           "borderwidth": 1,
           "tickwidth": 0
          },
          "ternary": {
           "aaxis": {
            "gridcolor": "#506784",
            "linecolor": "#506784",
            "ticks": ""
           },
           "baxis": {
            "gridcolor": "#506784",
            "linecolor": "#506784",
            "ticks": ""
           },
           "bgcolor": "rgb(17,17,17)",
           "caxis": {
            "gridcolor": "#506784",
            "linecolor": "#506784",
            "ticks": ""
           }
          },
          "title": {
           "x": 0.05
          },
          "updatemenudefaults": {
           "bgcolor": "#506784",
           "borderwidth": 0
          },
          "xaxis": {
           "automargin": true,
           "gridcolor": "#283442",
           "linecolor": "#506784",
           "ticks": "",
           "title": {
            "standoff": 15
           },
           "zerolinecolor": "#283442",
           "zerolinewidth": 2
          },
          "yaxis": {
           "automargin": true,
           "gridcolor": "#283442",
           "linecolor": "#506784",
           "ticks": "",
           "title": {
            "standoff": 15
           },
           "zerolinecolor": "#283442",
           "zerolinewidth": 2
          }
         }
        },
        "title": {
         "text": "10 maiores Recursos para empenho"
        },
        "xaxis": {
         "anchor": "y",
         "domain": [
          0,
          1
         ],
         "title": {
          "text": "Programa Interno"
         }
        },
        "yaxis": {
         "anchor": "x",
         "domain": [
          0,
          1
         ],
         "title": {
          "text": "Recurso para empenhar"
         },
         "type": "log"
        }
       }
      }
     },
     "metadata": {},
     "output_type": "display_data"
    }
   ],
   "source": [
    "# Recursos disponíveis por PI\n",
    "df_aux = df_recursos.loc[:,['ND', 'PI','Soma de Valor']].groupby(by= ['PI']).sum().sort_values(by='Soma de Valor', ascending=False).reset_index()\n",
    "\n",
    "fig = px.bar(df_aux.head(10),\n",
    "             x = 'PI',\n",
    "             y = 'Soma de Valor',\n",
    "             title='10 maiores Recursos para empenho',\n",
    "             labels={'PI':'Programa Interno', 'Soma de Valor':'Recurso para empenhar'},\n",
    "             text_auto='.3s',\n",
    "             height=500,\n",
    "             log_y=True,\n",
    "             color='Soma de Valor',\n",
    "             color_continuous_scale = 'reds',\n",
    "             template='plotly_dark')\n",
    "fig.update_traces(textposition = 'outside', cliponaxis = False, hovertemplate=None)\n",
    "fig.update_layout(hovermode=\"x unified\")\n",
    "\n",
    "fig.show()"
   ]
  },
  {
   "cell_type": "code",
   "execution_count": 16,
   "metadata": {},
   "outputs": [
    {
     "data": {
      "application/vnd.plotly.v1+json": {
       "config": {
        "plotlyServerURL": "https://plot.ly"
       },
       "data": [
        {
         "domain": {
          "x": [
           0,
           1
          ],
          "y": [
           0,
           1
          ]
         },
         "hole": 0.6,
         "hovertemplate": "ND=%{label}<br>Soma de Valor=%{value}<extra></extra>",
         "labels": [
          "449052",
          "339039",
          "339030",
          "339000",
          "339036",
          "339015",
          "339147"
         ],
         "legendgroup": "",
         "marker": {
          "line": {
           "color": "#000000",
           "width": 2
          }
         },
         "name": "",
         "showlegend": true,
         "textinfo": "percent+label",
         "textposition": "outside",
         "type": "pie",
         "values": [
          207193.24,
          91331.15,
          81841.85,
          40560.9,
          9089.92,
          95,
          0.02
         ]
        }
       ],
       "layout": {
        "legend": {
         "tracegroupgap": 0
        },
        "piecolorway": [
         "rgb(103,0,31)",
         "rgb(178,24,43)",
         "rgb(214,96,77)",
         "rgb(244,165,130)",
         "rgb(253,219,199)",
         "rgb(247,247,247)",
         "rgb(209,229,240)",
         "rgb(146,197,222)",
         "rgb(67,147,195)",
         "rgb(33,102,172)",
         "rgb(5,48,97)"
        ],
        "showlegend": false,
        "template": {
         "data": {
          "bar": [
           {
            "error_x": {
             "color": "#f2f5fa"
            },
            "error_y": {
             "color": "#f2f5fa"
            },
            "marker": {
             "line": {
              "color": "rgb(17,17,17)",
              "width": 0.5
             },
             "pattern": {
              "fillmode": "overlay",
              "size": 10,
              "solidity": 0.2
             }
            },
            "type": "bar"
           }
          ],
          "barpolar": [
           {
            "marker": {
             "line": {
              "color": "rgb(17,17,17)",
              "width": 0.5
             },
             "pattern": {
              "fillmode": "overlay",
              "size": 10,
              "solidity": 0.2
             }
            },
            "type": "barpolar"
           }
          ],
          "carpet": [
           {
            "aaxis": {
             "endlinecolor": "#A2B1C6",
             "gridcolor": "#506784",
             "linecolor": "#506784",
             "minorgridcolor": "#506784",
             "startlinecolor": "#A2B1C6"
            },
            "baxis": {
             "endlinecolor": "#A2B1C6",
             "gridcolor": "#506784",
             "linecolor": "#506784",
             "minorgridcolor": "#506784",
             "startlinecolor": "#A2B1C6"
            },
            "type": "carpet"
           }
          ],
          "choropleth": [
           {
            "colorbar": {
             "outlinewidth": 0,
             "ticks": ""
            },
            "type": "choropleth"
           }
          ],
          "contour": [
           {
            "colorbar": {
             "outlinewidth": 0,
             "ticks": ""
            },
            "colorscale": [
             [
              0,
              "#0d0887"
             ],
             [
              0.1111111111111111,
              "#46039f"
             ],
             [
              0.2222222222222222,
              "#7201a8"
             ],
             [
              0.3333333333333333,
              "#9c179e"
             ],
             [
              0.4444444444444444,
              "#bd3786"
             ],
             [
              0.5555555555555556,
              "#d8576b"
             ],
             [
              0.6666666666666666,
              "#ed7953"
             ],
             [
              0.7777777777777778,
              "#fb9f3a"
             ],
             [
              0.8888888888888888,
              "#fdca26"
             ],
             [
              1,
              "#f0f921"
             ]
            ],
            "type": "contour"
           }
          ],
          "contourcarpet": [
           {
            "colorbar": {
             "outlinewidth": 0,
             "ticks": ""
            },
            "type": "contourcarpet"
           }
          ],
          "heatmap": [
           {
            "colorbar": {
             "outlinewidth": 0,
             "ticks": ""
            },
            "colorscale": [
             [
              0,
              "#0d0887"
             ],
             [
              0.1111111111111111,
              "#46039f"
             ],
             [
              0.2222222222222222,
              "#7201a8"
             ],
             [
              0.3333333333333333,
              "#9c179e"
             ],
             [
              0.4444444444444444,
              "#bd3786"
             ],
             [
              0.5555555555555556,
              "#d8576b"
             ],
             [
              0.6666666666666666,
              "#ed7953"
             ],
             [
              0.7777777777777778,
              "#fb9f3a"
             ],
             [
              0.8888888888888888,
              "#fdca26"
             ],
             [
              1,
              "#f0f921"
             ]
            ],
            "type": "heatmap"
           }
          ],
          "heatmapgl": [
           {
            "colorbar": {
             "outlinewidth": 0,
             "ticks": ""
            },
            "colorscale": [
             [
              0,
              "#0d0887"
             ],
             [
              0.1111111111111111,
              "#46039f"
             ],
             [
              0.2222222222222222,
              "#7201a8"
             ],
             [
              0.3333333333333333,
              "#9c179e"
             ],
             [
              0.4444444444444444,
              "#bd3786"
             ],
             [
              0.5555555555555556,
              "#d8576b"
             ],
             [
              0.6666666666666666,
              "#ed7953"
             ],
             [
              0.7777777777777778,
              "#fb9f3a"
             ],
             [
              0.8888888888888888,
              "#fdca26"
             ],
             [
              1,
              "#f0f921"
             ]
            ],
            "type": "heatmapgl"
           }
          ],
          "histogram": [
           {
            "marker": {
             "pattern": {
              "fillmode": "overlay",
              "size": 10,
              "solidity": 0.2
             }
            },
            "type": "histogram"
           }
          ],
          "histogram2d": [
           {
            "colorbar": {
             "outlinewidth": 0,
             "ticks": ""
            },
            "colorscale": [
             [
              0,
              "#0d0887"
             ],
             [
              0.1111111111111111,
              "#46039f"
             ],
             [
              0.2222222222222222,
              "#7201a8"
             ],
             [
              0.3333333333333333,
              "#9c179e"
             ],
             [
              0.4444444444444444,
              "#bd3786"
             ],
             [
              0.5555555555555556,
              "#d8576b"
             ],
             [
              0.6666666666666666,
              "#ed7953"
             ],
             [
              0.7777777777777778,
              "#fb9f3a"
             ],
             [
              0.8888888888888888,
              "#fdca26"
             ],
             [
              1,
              "#f0f921"
             ]
            ],
            "type": "histogram2d"
           }
          ],
          "histogram2dcontour": [
           {
            "colorbar": {
             "outlinewidth": 0,
             "ticks": ""
            },
            "colorscale": [
             [
              0,
              "#0d0887"
             ],
             [
              0.1111111111111111,
              "#46039f"
             ],
             [
              0.2222222222222222,
              "#7201a8"
             ],
             [
              0.3333333333333333,
              "#9c179e"
             ],
             [
              0.4444444444444444,
              "#bd3786"
             ],
             [
              0.5555555555555556,
              "#d8576b"
             ],
             [
              0.6666666666666666,
              "#ed7953"
             ],
             [
              0.7777777777777778,
              "#fb9f3a"
             ],
             [
              0.8888888888888888,
              "#fdca26"
             ],
             [
              1,
              "#f0f921"
             ]
            ],
            "type": "histogram2dcontour"
           }
          ],
          "mesh3d": [
           {
            "colorbar": {
             "outlinewidth": 0,
             "ticks": ""
            },
            "type": "mesh3d"
           }
          ],
          "parcoords": [
           {
            "line": {
             "colorbar": {
              "outlinewidth": 0,
              "ticks": ""
             }
            },
            "type": "parcoords"
           }
          ],
          "pie": [
           {
            "automargin": true,
            "type": "pie"
           }
          ],
          "scatter": [
           {
            "marker": {
             "line": {
              "color": "#283442"
             }
            },
            "type": "scatter"
           }
          ],
          "scatter3d": [
           {
            "line": {
             "colorbar": {
              "outlinewidth": 0,
              "ticks": ""
             }
            },
            "marker": {
             "colorbar": {
              "outlinewidth": 0,
              "ticks": ""
             }
            },
            "type": "scatter3d"
           }
          ],
          "scattercarpet": [
           {
            "marker": {
             "colorbar": {
              "outlinewidth": 0,
              "ticks": ""
             }
            },
            "type": "scattercarpet"
           }
          ],
          "scattergeo": [
           {
            "marker": {
             "colorbar": {
              "outlinewidth": 0,
              "ticks": ""
             }
            },
            "type": "scattergeo"
           }
          ],
          "scattergl": [
           {
            "marker": {
             "line": {
              "color": "#283442"
             }
            },
            "type": "scattergl"
           }
          ],
          "scattermapbox": [
           {
            "marker": {
             "colorbar": {
              "outlinewidth": 0,
              "ticks": ""
             }
            },
            "type": "scattermapbox"
           }
          ],
          "scatterpolar": [
           {
            "marker": {
             "colorbar": {
              "outlinewidth": 0,
              "ticks": ""
             }
            },
            "type": "scatterpolar"
           }
          ],
          "scatterpolargl": [
           {
            "marker": {
             "colorbar": {
              "outlinewidth": 0,
              "ticks": ""
             }
            },
            "type": "scatterpolargl"
           }
          ],
          "scatterternary": [
           {
            "marker": {
             "colorbar": {
              "outlinewidth": 0,
              "ticks": ""
             }
            },
            "type": "scatterternary"
           }
          ],
          "surface": [
           {
            "colorbar": {
             "outlinewidth": 0,
             "ticks": ""
            },
            "colorscale": [
             [
              0,
              "#0d0887"
             ],
             [
              0.1111111111111111,
              "#46039f"
             ],
             [
              0.2222222222222222,
              "#7201a8"
             ],
             [
              0.3333333333333333,
              "#9c179e"
             ],
             [
              0.4444444444444444,
              "#bd3786"
             ],
             [
              0.5555555555555556,
              "#d8576b"
             ],
             [
              0.6666666666666666,
              "#ed7953"
             ],
             [
              0.7777777777777778,
              "#fb9f3a"
             ],
             [
              0.8888888888888888,
              "#fdca26"
             ],
             [
              1,
              "#f0f921"
             ]
            ],
            "type": "surface"
           }
          ],
          "table": [
           {
            "cells": {
             "fill": {
              "color": "#506784"
             },
             "line": {
              "color": "rgb(17,17,17)"
             }
            },
            "header": {
             "fill": {
              "color": "#2a3f5f"
             },
             "line": {
              "color": "rgb(17,17,17)"
             }
            },
            "type": "table"
           }
          ]
         },
         "layout": {
          "annotationdefaults": {
           "arrowcolor": "#f2f5fa",
           "arrowhead": 0,
           "arrowwidth": 1
          },
          "autotypenumbers": "strict",
          "coloraxis": {
           "colorbar": {
            "outlinewidth": 0,
            "ticks": ""
           }
          },
          "colorscale": {
           "diverging": [
            [
             0,
             "#8e0152"
            ],
            [
             0.1,
             "#c51b7d"
            ],
            [
             0.2,
             "#de77ae"
            ],
            [
             0.3,
             "#f1b6da"
            ],
            [
             0.4,
             "#fde0ef"
            ],
            [
             0.5,
             "#f7f7f7"
            ],
            [
             0.6,
             "#e6f5d0"
            ],
            [
             0.7,
             "#b8e186"
            ],
            [
             0.8,
             "#7fbc41"
            ],
            [
             0.9,
             "#4d9221"
            ],
            [
             1,
             "#276419"
            ]
           ],
           "sequential": [
            [
             0,
             "#0d0887"
            ],
            [
             0.1111111111111111,
             "#46039f"
            ],
            [
             0.2222222222222222,
             "#7201a8"
            ],
            [
             0.3333333333333333,
             "#9c179e"
            ],
            [
             0.4444444444444444,
             "#bd3786"
            ],
            [
             0.5555555555555556,
             "#d8576b"
            ],
            [
             0.6666666666666666,
             "#ed7953"
            ],
            [
             0.7777777777777778,
             "#fb9f3a"
            ],
            [
             0.8888888888888888,
             "#fdca26"
            ],
            [
             1,
             "#f0f921"
            ]
           ],
           "sequentialminus": [
            [
             0,
             "#0d0887"
            ],
            [
             0.1111111111111111,
             "#46039f"
            ],
            [
             0.2222222222222222,
             "#7201a8"
            ],
            [
             0.3333333333333333,
             "#9c179e"
            ],
            [
             0.4444444444444444,
             "#bd3786"
            ],
            [
             0.5555555555555556,
             "#d8576b"
            ],
            [
             0.6666666666666666,
             "#ed7953"
            ],
            [
             0.7777777777777778,
             "#fb9f3a"
            ],
            [
             0.8888888888888888,
             "#fdca26"
            ],
            [
             1,
             "#f0f921"
            ]
           ]
          },
          "colorway": [
           "#636efa",
           "#EF553B",
           "#00cc96",
           "#ab63fa",
           "#FFA15A",
           "#19d3f3",
           "#FF6692",
           "#B6E880",
           "#FF97FF",
           "#FECB52"
          ],
          "font": {
           "color": "#f2f5fa"
          },
          "geo": {
           "bgcolor": "rgb(17,17,17)",
           "lakecolor": "rgb(17,17,17)",
           "landcolor": "rgb(17,17,17)",
           "showlakes": true,
           "showland": true,
           "subunitcolor": "#506784"
          },
          "hoverlabel": {
           "align": "left"
          },
          "hovermode": "closest",
          "mapbox": {
           "style": "dark"
          },
          "paper_bgcolor": "rgb(17,17,17)",
          "plot_bgcolor": "rgb(17,17,17)",
          "polar": {
           "angularaxis": {
            "gridcolor": "#506784",
            "linecolor": "#506784",
            "ticks": ""
           },
           "bgcolor": "rgb(17,17,17)",
           "radialaxis": {
            "gridcolor": "#506784",
            "linecolor": "#506784",
            "ticks": ""
           }
          },
          "scene": {
           "xaxis": {
            "backgroundcolor": "rgb(17,17,17)",
            "gridcolor": "#506784",
            "gridwidth": 2,
            "linecolor": "#506784",
            "showbackground": true,
            "ticks": "",
            "zerolinecolor": "#C8D4E3"
           },
           "yaxis": {
            "backgroundcolor": "rgb(17,17,17)",
            "gridcolor": "#506784",
            "gridwidth": 2,
            "linecolor": "#506784",
            "showbackground": true,
            "ticks": "",
            "zerolinecolor": "#C8D4E3"
           },
           "zaxis": {
            "backgroundcolor": "rgb(17,17,17)",
            "gridcolor": "#506784",
            "gridwidth": 2,
            "linecolor": "#506784",
            "showbackground": true,
            "ticks": "",
            "zerolinecolor": "#C8D4E3"
           }
          },
          "shapedefaults": {
           "line": {
            "color": "#f2f5fa"
           }
          },
          "sliderdefaults": {
           "bgcolor": "#C8D4E3",
           "bordercolor": "rgb(17,17,17)",
           "borderwidth": 1,
           "tickwidth": 0
          },
          "ternary": {
           "aaxis": {
            "gridcolor": "#506784",
            "linecolor": "#506784",
            "ticks": ""
           },
           "baxis": {
            "gridcolor": "#506784",
            "linecolor": "#506784",
            "ticks": ""
           },
           "bgcolor": "rgb(17,17,17)",
           "caxis": {
            "gridcolor": "#506784",
            "linecolor": "#506784",
            "ticks": ""
           }
          },
          "title": {
           "x": 0.05
          },
          "updatemenudefaults": {
           "bgcolor": "#506784",
           "borderwidth": 0
          },
          "xaxis": {
           "automargin": true,
           "gridcolor": "#283442",
           "linecolor": "#506784",
           "ticks": "",
           "title": {
            "standoff": 15
           },
           "zerolinecolor": "#283442",
           "zerolinewidth": 2
          },
          "yaxis": {
           "automargin": true,
           "gridcolor": "#283442",
           "linecolor": "#506784",
           "ticks": "",
           "title": {
            "standoff": 15
           },
           "zerolinecolor": "#283442",
           "zerolinewidth": 2
          }
         }
        },
        "title": {
         "text": "Porcentagem de Recurso por ND"
        }
       }
      }
     },
     "metadata": {},
     "output_type": "display_data"
    }
   ],
   "source": [
    "df_aux = df_recursos.loc[:,['ND', 'PI','Soma de Valor']].groupby(by= ['ND']).sum().sort_values(by='Soma de Valor', ascending=False).reset_index()\n",
    "\n",
    "fig = px.pie(df_aux, values='Soma de Valor', \n",
    "                     names='ND', \n",
    "                     title='Porcentagem de Recurso por ND',\n",
    "                     color_discrete_sequence=px.colors.sequential.RdBu,\n",
    "                     template='plotly_dark')\n",
    "fig.update_traces(textposition='outside',\n",
    "                  hole=.6,\n",
    "                  textinfo='percent+label',\n",
    "                  marker=dict(line=dict(color='#000000', width=2)))\n",
    "fig.update(layout_showlegend=False)\n",
    "\n",
    "fig.show()"
   ]
  },
  {
   "cell_type": "code",
   "execution_count": 17,
   "metadata": {},
   "outputs": [
    {
     "data": {
      "application/vnd.plotly.v1+json": {
       "config": {
        "plotlyServerURL": "https://plot.ly"
       },
       "data": [
        {
         "customdata": [
          0,
          1,
          2,
          3,
          4,
          5,
          6
         ],
         "hovertemplate": "%{y}[%{customdata}] = %{marker.color}<extra></extra>",
         "marker": {
          "color": [
           "rgb(237, 229, 207)",
           "rgb(224, 194, 162)",
           "rgb(211, 156, 131)",
           "rgb(193, 118, 111)",
           "rgb(166, 84, 97)",
           "rgb(129, 55, 83)",
           "rgb(84, 31, 63)"
          ]
         },
         "orientation": "h",
         "type": "bar",
         "x": [
          1,
          1,
          1,
          1,
          1,
          1,
          1
         ],
         "y": [
          "Brwnyl",
          "Brwnyl",
          "Brwnyl",
          "Brwnyl",
          "Brwnyl",
          "Brwnyl",
          "Brwnyl"
         ]
        },
        {
         "customdata": [
          0,
          1,
          2,
          3,
          4,
          5,
          6
         ],
         "hovertemplate": "%{y}[%{customdata}] = %{marker.color}<extra></extra>",
         "marker": {
          "color": [
           "rgb(75, 41, 145)",
           "rgb(135, 44, 162)",
           "rgb(192, 54, 157)",
           "rgb(234, 79, 136)",
           "rgb(250, 120, 118)",
           "rgb(246, 169, 122)",
           "rgb(237, 217, 163)"
          ]
         },
         "orientation": "h",
         "type": "bar",
         "x": [
          1,
          1,
          1,
          1,
          1,
          1,
          1
         ],
         "y": [
          "Agsunset",
          "Agsunset",
          "Agsunset",
          "Agsunset",
          "Agsunset",
          "Agsunset",
          "Agsunset"
         ]
        },
        {
         "customdata": [
          0,
          1,
          2,
          3,
          4,
          5,
          6
         ],
         "hovertemplate": "%{y}[%{customdata}] = %{marker.color}<extra></extra>",
         "marker": {
          "color": [
           "rgb(252, 222, 156)",
           "rgb(250, 164, 118)",
           "rgb(240, 116, 110)",
           "rgb(227, 79, 111)",
           "rgb(220, 57, 119)",
           "rgb(185, 37, 122)",
           "rgb(124, 29, 111)"
          ]
         },
         "orientation": "h",
         "type": "bar",
         "x": [
          1,
          1,
          1,
          1,
          1,
          1,
          1
         ],
         "y": [
          "Sunsetdark",
          "Sunsetdark",
          "Sunsetdark",
          "Sunsetdark",
          "Sunsetdark",
          "Sunsetdark",
          "Sunsetdark"
         ]
        },
        {
         "customdata": [
          0,
          1,
          2,
          3,
          4,
          5,
          6
         ],
         "hovertemplate": "%{y}[%{customdata}] = %{marker.color}<extra></extra>",
         "marker": {
          "color": [
           "rgb(243, 203, 211)",
           "rgb(234, 169, 189)",
           "rgb(221, 136, 172)",
           "rgb(202, 105, 157)",
           "rgb(177, 77, 142)",
           "rgb(145, 53, 125)",
           "rgb(108, 33, 103)"
          ]
         },
         "orientation": "h",
         "type": "bar",
         "x": [
          1,
          1,
          1,
          1,
          1,
          1,
          1
         ],
         "y": [
          "Magenta",
          "Magenta",
          "Magenta",
          "Magenta",
          "Magenta",
          "Magenta",
          "Magenta"
         ]
        },
        {
         "customdata": [
          0,
          1,
          2,
          3,
          4,
          5,
          6
         ],
         "hovertemplate": "%{y}[%{customdata}] = %{marker.color}<extra></extra>",
         "marker": {
          "color": [
           "rgb(243, 231, 155)",
           "rgb(250, 196, 132)",
           "rgb(248, 160, 126)",
           "rgb(235, 127, 134)",
           "rgb(206, 102, 147)",
           "rgb(160, 89, 160)",
           "rgb(92, 83, 165)"
          ]
         },
         "orientation": "h",
         "type": "bar",
         "x": [
          1,
          1,
          1,
          1,
          1,
          1,
          1
         ],
         "y": [
          "Sunset",
          "Sunset",
          "Sunset",
          "Sunset",
          "Sunset",
          "Sunset",
          "Sunset"
         ]
        },
        {
         "customdata": [
          0,
          1,
          2,
          3,
          4,
          5,
          6
         ],
         "hovertemplate": "%{y}[%{customdata}] = %{marker.color}<extra></extra>",
         "marker": {
          "color": [
           "rgb(249, 221, 218)",
           "rgb(242, 185, 196)",
           "rgb(229, 151, 185)",
           "rgb(206, 120, 179)",
           "rgb(173, 95, 173)",
           "rgb(131, 75, 160)",
           "rgb(87, 59, 136)"
          ]
         },
         "orientation": "h",
         "type": "bar",
         "x": [
          1,
          1,
          1,
          1,
          1,
          1,
          1
         ],
         "y": [
          "Purpor",
          "Purpor",
          "Purpor",
          "Purpor",
          "Purpor",
          "Purpor",
          "Purpor"
         ]
        },
        {
         "customdata": [
          0,
          1,
          2,
          3,
          4,
          5,
          6
         ],
         "hovertemplate": "%{y}[%{customdata}] = %{marker.color}<extra></extra>",
         "marker": {
          "color": [
           "rgb(243, 224, 247)",
           "rgb(228, 199, 241)",
           "rgb(209, 175, 232)",
           "rgb(185, 152, 221)",
           "rgb(159, 130, 206)",
           "rgb(130, 109, 186)",
           "rgb(99, 88, 159)"
          ]
         },
         "orientation": "h",
         "type": "bar",
         "x": [
          1,
          1,
          1,
          1,
          1,
          1,
          1
         ],
         "y": [
          "Purp",
          "Purp",
          "Purp",
          "Purp",
          "Purp",
          "Purp",
          "Purp"
         ]
        },
        {
         "customdata": [
          0,
          1,
          2,
          3,
          4,
          5,
          6
         ],
         "hovertemplate": "%{y}[%{customdata}] = %{marker.color}<extra></extra>",
         "marker": {
          "color": [
           "rgb(176, 242, 188)",
           "rgb(137, 232, 172)",
           "rgb(103, 219, 165)",
           "rgb(76, 200, 163)",
           "rgb(56, 178, 163)",
           "rgb(44, 152, 160)",
           "rgb(37, 125, 152)"
          ]
         },
         "orientation": "h",
         "type": "bar",
         "x": [
          1,
          1,
          1,
          1,
          1,
          1,
          1
         ],
         "y": [
          "Tealgrn",
          "Tealgrn",
          "Tealgrn",
          "Tealgrn",
          "Tealgrn",
          "Tealgrn",
          "Tealgrn"
         ]
        },
        {
         "customdata": [
          0,
          1,
          2,
          3,
          4,
          5,
          6
         ],
         "hovertemplate": "%{y}[%{customdata}] = %{marker.color}<extra></extra>",
         "marker": {
          "color": [
           "rgb(209, 238, 234)",
           "rgb(168, 219, 217)",
           "rgb(133, 196, 201)",
           "rgb(104, 171, 184)",
           "rgb(79, 144, 166)",
           "rgb(59, 115, 143)",
           "rgb(42, 86, 116)"
          ]
         },
         "orientation": "h",
         "type": "bar",
         "x": [
          1,
          1,
          1,
          1,
          1,
          1,
          1
         ],
         "y": [
          "Teal",
          "Teal",
          "Teal",
          "Teal",
          "Teal",
          "Teal",
          "Teal"
         ]
        },
        {
         "customdata": [
          0,
          1,
          2,
          3,
          4,
          5,
          6
         ],
         "hovertemplate": "%{y}[%{customdata}] = %{marker.color}<extra></extra>",
         "marker": {
          "color": [
           "rgb(247, 254, 174)",
           "rgb(183, 230, 165)",
           "rgb(124, 203, 162)",
           "rgb(70, 174, 160)",
           "rgb(8, 144, 153)",
           "rgb(0, 113, 139)",
           "rgb(4, 82, 117)"
          ]
         },
         "orientation": "h",
         "type": "bar",
         "x": [
          1,
          1,
          1,
          1,
          1,
          1,
          1
         ],
         "y": [
          "Bluyl",
          "Bluyl",
          "Bluyl",
          "Bluyl",
          "Bluyl",
          "Bluyl",
          "Bluyl"
         ]
        },
        {
         "customdata": [
          0,
          1,
          2,
          3,
          4,
          5,
          6
         ],
         "hovertemplate": "%{y}[%{customdata}] = %{marker.color}<extra></extra>",
         "marker": {
          "color": [
           "rgb(36, 86, 104)",
           "rgb(15, 114, 121)",
           "rgb(13, 143, 129)",
           "rgb(57, 171, 126)",
           "rgb(110, 197, 116)",
           "rgb(169, 220, 103)",
           "rgb(237, 239, 93)"
          ]
         },
         "orientation": "h",
         "type": "bar",
         "x": [
          1,
          1,
          1,
          1,
          1,
          1,
          1
         ],
         "y": [
          "Aggrnyl",
          "Aggrnyl",
          "Aggrnyl",
          "Aggrnyl",
          "Aggrnyl",
          "Aggrnyl",
          "Aggrnyl"
         ]
        },
        {
         "customdata": [
          0,
          1,
          2,
          3,
          4,
          5,
          6
         ],
         "hovertemplate": "%{y}[%{customdata}] = %{marker.color}<extra></extra>",
         "marker": {
          "color": [
           "rgb(211, 242, 163)",
           "rgb(151, 225, 150)",
           "rgb(108, 192, 139)",
           "rgb(76, 155, 130)",
           "rgb(33, 122, 121)",
           "rgb(16, 89, 101)",
           "rgb(7, 64, 80)"
          ]
         },
         "orientation": "h",
         "type": "bar",
         "x": [
          1,
          1,
          1,
          1,
          1,
          1,
          1
         ],
         "y": [
          "Emrld",
          "Emrld",
          "Emrld",
          "Emrld",
          "Emrld",
          "Emrld",
          "Emrld"
         ]
        },
        {
         "customdata": [
          0,
          1,
          2,
          3,
          4,
          5,
          6
         ],
         "hovertemplate": "%{y}[%{customdata}] = %{marker.color}<extra></extra>",
         "marker": {
          "color": [
           "rgb(210, 251, 212)",
           "rgb(165, 219, 194)",
           "rgb(123, 188, 176)",
           "rgb(85, 156, 158)",
           "rgb(58, 124, 137)",
           "rgb(35, 93, 114)",
           "rgb(18, 63, 90)"
          ]
         },
         "orientation": "h",
         "type": "bar",
         "x": [
          1,
          1,
          1,
          1,
          1,
          1,
          1
         ],
         "y": [
          "Darkmint",
          "Darkmint",
          "Darkmint",
          "Darkmint",
          "Darkmint",
          "Darkmint",
          "Darkmint"
         ]
        },
        {
         "customdata": [
          0,
          1,
          2,
          3,
          4,
          5,
          6
         ],
         "hovertemplate": "%{y}[%{customdata}] = %{marker.color}<extra></extra>",
         "marker": {
          "color": [
           "rgb(196, 230, 195)",
           "rgb(150, 210, 164)",
           "rgb(109, 188, 144)",
           "rgb(77, 162, 132)",
           "rgb(54, 135, 122)",
           "rgb(38, 107, 110)",
           "rgb(29, 79, 96)"
          ]
         },
         "orientation": "h",
         "type": "bar",
         "x": [
          1,
          1,
          1,
          1,
          1,
          1,
          1
         ],
         "y": [
          "Blugrn",
          "Blugrn",
          "Blugrn",
          "Blugrn",
          "Blugrn",
          "Blugrn",
          "Blugrn"
         ]
        },
        {
         "customdata": [
          0,
          1,
          2,
          3,
          4,
          5,
          6
         ],
         "hovertemplate": "%{y}[%{customdata}] = %{marker.color}<extra></extra>",
         "marker": {
          "color": [
           "rgb(228, 241, 225)",
           "rgb(180, 217, 204)",
           "rgb(137, 192, 182)",
           "rgb(99, 166, 160)",
           "rgb(68, 140, 138)",
           "rgb(40, 114, 116)",
           "rgb(13, 88, 95)"
          ]
         },
         "orientation": "h",
         "type": "bar",
         "x": [
          1,
          1,
          1,
          1,
          1,
          1,
          1
         ],
         "y": [
          "Mint",
          "Mint",
          "Mint",
          "Mint",
          "Mint",
          "Mint",
          "Mint"
         ]
        },
        {
         "customdata": [
          0,
          1,
          2,
          3,
          4,
          5,
          6
         ],
         "hovertemplate": "%{y}[%{customdata}] = %{marker.color}<extra></extra>",
         "marker": {
          "color": [
           "rgb(254, 246, 181)",
           "rgb(255, 221, 154)",
           "rgb(255, 194, 133)",
           "rgb(255, 166, 121)",
           "rgb(250, 138, 118)",
           "rgb(241, 109, 122)",
           "rgb(225, 83, 131)"
          ]
         },
         "orientation": "h",
         "type": "bar",
         "x": [
          1,
          1,
          1,
          1,
          1,
          1,
          1
         ],
         "y": [
          "Pinkyl",
          "Pinkyl",
          "Pinkyl",
          "Pinkyl",
          "Pinkyl",
          "Pinkyl",
          "Pinkyl"
         ]
        },
        {
         "customdata": [
          0,
          1,
          2,
          3,
          4,
          5,
          6
         ],
         "hovertemplate": "%{y}[%{customdata}] = %{marker.color}<extra></extra>",
         "marker": {
          "color": [
           "rgb(253, 224, 197)",
           "rgb(250, 203, 166)",
           "rgb(248, 181, 139)",
           "rgb(245, 158, 114)",
           "rgb(242, 133, 93)",
           "rgb(239, 106, 76)",
           "rgb(235, 74, 64)"
          ]
         },
         "orientation": "h",
         "type": "bar",
         "x": [
          1,
          1,
          1,
          1,
          1,
          1,
          1
         ],
         "y": [
          "Peach",
          "Peach",
          "Peach",
          "Peach",
          "Peach",
          "Peach",
          "Peach"
         ]
        },
        {
         "customdata": [
          0,
          1,
          2,
          3,
          4,
          5,
          6
         ],
         "hovertemplate": "%{y}[%{customdata}] = %{marker.color}<extra></extra>",
         "marker": {
          "color": [
           "rgb(236, 218, 154)",
           "rgb(239, 196, 126)",
           "rgb(243, 173, 106)",
           "rgb(247, 148, 93)",
           "rgb(249, 123, 87)",
           "rgb(246, 99, 86)",
           "rgb(238, 77, 90)"
          ]
         },
         "orientation": "h",
         "type": "bar",
         "x": [
          1,
          1,
          1,
          1,
          1,
          1,
          1
         ],
         "y": [
          "Oryel",
          "Oryel",
          "Oryel",
          "Oryel",
          "Oryel",
          "Oryel",
          "Oryel"
         ]
        },
        {
         "customdata": [
          0,
          1,
          2,
          3,
          4,
          5,
          6
         ],
         "hovertemplate": "%{y}[%{customdata}] = %{marker.color}<extra></extra>",
         "marker": {
          "color": [
           "rgb(246, 210, 169)",
           "rgb(245, 183, 142)",
           "rgb(241, 156, 124)",
           "rgb(234, 129, 113)",
           "rgb(221, 104, 108)",
           "rgb(202, 82, 104)",
           "rgb(177, 63, 100)"
          ]
         },
         "orientation": "h",
         "type": "bar",
         "x": [
          1,
          1,
          1,
          1,
          1,
          1,
          1
         ],
         "y": [
          "Redor",
          "Redor",
          "Redor",
          "Redor",
          "Redor",
          "Redor",
          "Redor"
         ]
        },
        {
         "customdata": [
          0,
          1,
          2,
          3,
          4,
          5,
          6
         ],
         "hovertemplate": "%{y}[%{customdata}] = %{marker.color}<extra></extra>",
         "marker": {
          "color": [
           "rgb(251, 230, 197)",
           "rgb(245, 186, 152)",
           "rgb(238, 138, 130)",
           "rgb(220, 113, 118)",
           "rgb(200, 88, 108)",
           "rgb(156, 63, 93)",
           "rgb(112, 40, 74)"
          ]
         },
         "orientation": "h",
         "type": "bar",
         "x": [
          1,
          1,
          1,
          1,
          1,
          1,
          1
         ],
         "y": [
          "Burgyl",
          "Burgyl",
          "Burgyl",
          "Burgyl",
          "Burgyl",
          "Burgyl",
          "Burgyl"
         ]
        },
        {
         "customdata": [
          0,
          1,
          2,
          3,
          4,
          5,
          6
         ],
         "hovertemplate": "%{y}[%{customdata}] = %{marker.color}<extra></extra>",
         "marker": {
          "color": [
           "rgb(255, 198, 196)",
           "rgb(244, 163, 168)",
           "rgb(227, 129, 145)",
           "rgb(204, 96, 125)",
           "rgb(173, 70, 108)",
           "rgb(139, 48, 88)",
           "rgb(103, 32, 68)"
          ]
         },
         "orientation": "h",
         "type": "bar",
         "x": [
          1,
          1,
          1,
          1,
          1,
          1,
          1
         ],
         "y": [
          "Burg",
          "Burg",
          "Burg",
          "Burg",
          "Burg",
          "Burg",
          "Burg"
         ]
        },
        {
         "customdata": [
          0,
          1,
          2,
          3,
          4,
          5,
          6,
          7,
          8,
          9,
          10,
          11
         ],
         "hovertemplate": "%{y}[%{customdata}] = %{marker.color}<extra></extra>",
         "marker": {
          "color": [
           "rgb(254, 245, 244)",
           "rgb(222, 224, 210)",
           "rgb(189, 206, 181)",
           "rgb(153, 189, 156)",
           "rgb(110, 173, 138)",
           "rgb(65, 157, 129)",
           "rgb(25, 137, 125)",
           "rgb(18, 116, 117)",
           "rgb(25, 94, 106)",
           "rgb(28, 72, 93)",
           "rgb(25, 51, 80)",
           "rgb(20, 29, 67)"
          ]
         },
         "orientation": "h",
         "type": "bar",
         "x": [
          1,
          1,
          1,
          1,
          1,
          1,
          1,
          1,
          1,
          1,
          1,
          1
         ],
         "y": [
          "tempo",
          "tempo",
          "tempo",
          "tempo",
          "tempo",
          "tempo",
          "tempo",
          "tempo",
          "tempo",
          "tempo",
          "tempo",
          "tempo"
         ]
        },
        {
         "customdata": [
          0,
          1,
          2,
          3,
          4,
          5,
          6,
          7,
          8,
          9,
          10,
          11
         ],
         "hovertemplate": "%{y}[%{customdata}] = %{marker.color}<extra></extra>",
         "marker": {
          "color": [
           "rgb(241, 236, 236)",
           "rgb(230, 209, 203)",
           "rgb(221, 182, 170)",
           "rgb(213, 156, 137)",
           "rgb(205, 129, 103)",
           "rgb(196, 102, 73)",
           "rgb(186, 74, 47)",
           "rgb(172, 44, 36)",
           "rgb(149, 19, 39)",
           "rgb(120, 14, 40)",
           "rgb(89, 13, 31)",
           "rgb(60, 9, 17)"
          ]
         },
         "orientation": "h",
         "type": "bar",
         "x": [
          1,
          1,
          1,
          1,
          1,
          1,
          1,
          1,
          1,
          1,
          1,
          1
         ],
         "y": [
          "amp",
          "amp",
          "amp",
          "amp",
          "amp",
          "amp",
          "amp",
          "amp",
          "amp",
          "amp",
          "amp",
          "amp"
         ]
        },
        {
         "customdata": [
          0,
          1,
          2,
          3,
          4,
          5,
          6,
          7,
          8,
          9,
          10,
          11
         ],
         "hovertemplate": "%{y}[%{customdata}] = %{marker.color}<extra></extra>",
         "marker": {
          "color": [
           "rgb(254, 252, 205)",
           "rgb(239, 225, 156)",
           "rgb(221, 201, 106)",
           "rgb(194, 182, 59)",
           "rgb(157, 167, 21)",
           "rgb(116, 153, 5)",
           "rgb(75, 138, 20)",
           "rgb(35, 121, 36)",
           "rgb(11, 100, 44)",
           "rgb(18, 78, 43)",
           "rgb(25, 56, 34)",
           "rgb(23, 35, 18)"
          ]
         },
         "orientation": "h",
         "type": "bar",
         "x": [
          1,
          1,
          1,
          1,
          1,
          1,
          1,
          1,
          1,
          1,
          1,
          1
         ],
         "y": [
          "speed",
          "speed",
          "speed",
          "speed",
          "speed",
          "speed",
          "speed",
          "speed",
          "speed",
          "speed",
          "speed",
          "speed"
         ]
        },
        {
         "customdata": [
          0,
          1,
          2,
          3,
          4,
          5,
          6,
          7,
          8,
          9,
          10,
          11
         ],
         "hovertemplate": "%{y}[%{customdata}] = %{marker.color}<extra></extra>",
         "marker": {
          "color": [
           "rgb(253, 237, 176)",
           "rgb(250, 205, 145)",
           "rgb(246, 173, 119)",
           "rgb(240, 142, 98)",
           "rgb(231, 109, 84)",
           "rgb(216, 80, 83)",
           "rgb(195, 56, 90)",
           "rgb(168, 40, 96)",
           "rgb(138, 29, 99)",
           "rgb(107, 24, 93)",
           "rgb(76, 21, 80)",
           "rgb(47, 15, 61)"
          ]
         },
         "orientation": "h",
         "type": "bar",
         "x": [
          1,
          1,
          1,
          1,
          1,
          1,
          1,
          1,
          1,
          1,
          1,
          1
         ],
         "y": [
          "matter",
          "matter",
          "matter",
          "matter",
          "matter",
          "matter",
          "matter",
          "matter",
          "matter",
          "matter",
          "matter",
          "matter"
         ]
        },
        {
         "customdata": [
          0,
          1,
          2,
          3,
          4,
          5,
          6,
          7,
          8,
          9,
          10,
          11
         ],
         "hovertemplate": "%{y}[%{customdata}] = %{marker.color}<extra></extra>",
         "marker": {
          "color": [
           "rgb(214, 249, 207)",
           "rgb(186, 228, 174)",
           "rgb(156, 209, 143)",
           "rgb(124, 191, 115)",
           "rgb(85, 174, 91)",
           "rgb(37, 157, 81)",
           "rgb(7, 138, 78)",
           "rgb(13, 117, 71)",
           "rgb(23, 95, 61)",
           "rgb(25, 75, 49)",
           "rgb(23, 55, 35)",
           "rgb(17, 36, 20)"
          ]
         },
         "orientation": "h",
         "type": "bar",
         "x": [
          1,
          1,
          1,
          1,
          1,
          1,
          1,
          1,
          1,
          1,
          1,
          1
         ],
         "y": [
          "algae",
          "algae",
          "algae",
          "algae",
          "algae",
          "algae",
          "algae",
          "algae",
          "algae",
          "algae",
          "algae",
          "algae"
         ]
        },
        {
         "customdata": [
          0,
          1,
          2,
          3,
          4,
          5,
          6,
          7,
          8,
          9,
          10,
          11
         ],
         "hovertemplate": "%{y}[%{customdata}] = %{marker.color}<extra></extra>",
         "marker": {
          "color": [
           "rgb(230, 240, 240)",
           "rgb(191, 221, 229)",
           "rgb(156, 201, 226)",
           "rgb(129, 180, 227)",
           "rgb(115, 154, 228)",
           "rgb(117, 127, 221)",
           "rgb(120, 100, 202)",
           "rgb(119, 74, 175)",
           "rgb(113, 50, 141)",
           "rgb(100, 31, 104)",
           "rgb(80, 20, 66)",
           "rgb(54, 14, 36)"
          ]
         },
         "orientation": "h",
         "type": "bar",
         "x": [
          1,
          1,
          1,
          1,
          1,
          1,
          1,
          1,
          1,
          1,
          1,
          1
         ],
         "y": [
          "dense",
          "dense",
          "dense",
          "dense",
          "dense",
          "dense",
          "dense",
          "dense",
          "dense",
          "dense",
          "dense",
          "dense"
         ]
        },
        {
         "customdata": [
          0,
          1,
          2,
          3,
          4,
          5,
          6,
          7,
          8,
          9,
          10,
          11
         ],
         "hovertemplate": "%{y}[%{customdata}] = %{marker.color}<extra></extra>",
         "marker": {
          "color": [
           "rgb(253, 253, 204)",
           "rgb(206, 236, 179)",
           "rgb(156, 219, 165)",
           "rgb(111, 201, 163)",
           "rgb(86, 177, 163)",
           "rgb(76, 153, 160)",
           "rgb(68, 130, 155)",
           "rgb(62, 108, 150)",
           "rgb(62, 82, 143)",
           "rgb(64, 60, 115)",
           "rgb(54, 43, 77)",
           "rgb(39, 26, 44)"
          ]
         },
         "orientation": "h",
         "type": "bar",
         "x": [
          1,
          1,
          1,
          1,
          1,
          1,
          1,
          1,
          1,
          1,
          1,
          1
         ],
         "y": [
          "deep",
          "deep",
          "deep",
          "deep",
          "deep",
          "deep",
          "deep",
          "deep",
          "deep",
          "deep",
          "deep",
          "deep"
         ]
        },
        {
         "customdata": [
          0,
          1,
          2,
          3,
          4,
          5,
          6,
          7,
          8,
          9,
          10,
          11
         ],
         "hovertemplate": "%{y}[%{customdata}] = %{marker.color}<extra></extra>",
         "marker": {
          "color": [
           "rgb(0, 0, 0)",
           "rgb(16, 16, 16)",
           "rgb(38, 38, 38)",
           "rgb(59, 59, 59)",
           "rgb(81, 80, 80)",
           "rgb(102, 101, 101)",
           "rgb(124, 123, 122)",
           "rgb(146, 146, 145)",
           "rgb(171, 171, 170)",
           "rgb(197, 197, 195)",
           "rgb(224, 224, 223)",
           "rgb(254, 254, 253)"
          ]
         },
         "orientation": "h",
         "type": "bar",
         "x": [
          1,
          1,
          1,
          1,
          1,
          1,
          1,
          1,
          1,
          1,
          1,
          1
         ],
         "y": [
          "gray",
          "gray",
          "gray",
          "gray",
          "gray",
          "gray",
          "gray",
          "gray",
          "gray",
          "gray",
          "gray",
          "gray"
         ]
        },
        {
         "customdata": [
          0,
          1,
          2,
          3,
          4,
          5,
          6,
          7,
          8,
          9,
          10,
          11
         ],
         "hovertemplate": "%{y}[%{customdata}] = %{marker.color}<extra></extra>",
         "marker": {
          "color": [
           "rgb(3, 5, 18)",
           "rgb(25, 25, 51)",
           "rgb(44, 42, 87)",
           "rgb(58, 60, 125)",
           "rgb(62, 83, 160)",
           "rgb(62, 109, 178)",
           "rgb(72, 134, 187)",
           "rgb(89, 159, 196)",
           "rgb(114, 184, 205)",
           "rgb(149, 207, 216)",
           "rgb(192, 229, 232)",
           "rgb(234, 252, 253)"
          ]
         },
         "orientation": "h",
         "type": "bar",
         "x": [
          1,
          1,
          1,
          1,
          1,
          1,
          1,
          1,
          1,
          1,
          1,
          1
         ],
         "y": [
          "ice",
          "ice",
          "ice",
          "ice",
          "ice",
          "ice",
          "ice",
          "ice",
          "ice",
          "ice",
          "ice",
          "ice"
         ]
        },
        {
         "customdata": [
          0,
          1,
          2,
          3,
          4,
          5,
          6,
          7,
          8,
          9,
          10,
          11
         ],
         "hovertemplate": "%{y}[%{customdata}] = %{marker.color}<extra></extra>",
         "marker": {
          "color": [
           "rgb(51, 19, 23)",
           "rgb(79, 28, 33)",
           "rgb(108, 36, 36)",
           "rgb(135, 47, 32)",
           "rgb(157, 66, 25)",
           "rgb(174, 88, 20)",
           "rgb(188, 111, 19)",
           "rgb(199, 137, 22)",
           "rgb(209, 164, 32)",
           "rgb(217, 192, 44)",
           "rgb(222, 222, 59)",
           "rgb(224, 253, 74)"
          ]
         },
         "orientation": "h",
         "type": "bar",
         "x": [
          1,
          1,
          1,
          1,
          1,
          1,
          1,
          1,
          1,
          1,
          1,
          1
         ],
         "y": [
          "solar",
          "solar",
          "solar",
          "solar",
          "solar",
          "solar",
          "solar",
          "solar",
          "solar",
          "solar",
          "solar",
          "solar"
         ]
        },
        {
         "customdata": [
          0,
          1,
          2,
          3,
          4,
          5,
          6,
          7,
          8,
          9,
          10,
          11
         ],
         "hovertemplate": "%{y}[%{customdata}] = %{marker.color}<extra></extra>",
         "marker": {
          "color": [
           "rgb(41, 24, 107)",
           "rgb(42, 35, 160)",
           "rgb(15, 71, 153)",
           "rgb(18, 95, 142)",
           "rgb(38, 116, 137)",
           "rgb(53, 136, 136)",
           "rgb(65, 157, 133)",
           "rgb(81, 178, 124)",
           "rgb(111, 198, 107)",
           "rgb(160, 214, 91)",
           "rgb(212, 225, 112)",
           "rgb(253, 238, 153)"
          ]
         },
         "orientation": "h",
         "type": "bar",
         "x": [
          1,
          1,
          1,
          1,
          1,
          1,
          1,
          1,
          1,
          1,
          1,
          1
         ],
         "y": [
          "haline",
          "haline",
          "haline",
          "haline",
          "haline",
          "haline",
          "haline",
          "haline",
          "haline",
          "haline",
          "haline",
          "haline"
         ]
        },
        {
         "customdata": [
          0,
          1,
          2,
          3,
          4,
          5,
          6,
          7,
          8,
          9,
          10,
          11
         ],
         "hovertemplate": "%{y}[%{customdata}] = %{marker.color}<extra></extra>",
         "marker": {
          "color": [
           "rgb(3, 35, 51)",
           "rgb(13, 48, 100)",
           "rgb(53, 50, 155)",
           "rgb(93, 62, 153)",
           "rgb(126, 77, 143)",
           "rgb(158, 89, 135)",
           "rgb(193, 100, 121)",
           "rgb(225, 113, 97)",
           "rgb(246, 139, 69)",
           "rgb(251, 173, 60)",
           "rgb(246, 211, 70)",
           "rgb(231, 250, 90)"
          ]
         },
         "orientation": "h",
         "type": "bar",
         "x": [
          1,
          1,
          1,
          1,
          1,
          1,
          1,
          1,
          1,
          1,
          1,
          1
         ],
         "y": [
          "thermal",
          "thermal",
          "thermal",
          "thermal",
          "thermal",
          "thermal",
          "thermal",
          "thermal",
          "thermal",
          "thermal",
          "thermal",
          "thermal"
         ]
        },
        {
         "customdata": [
          0,
          1,
          2,
          3,
          4,
          5,
          6,
          7,
          8,
          9,
          10,
          11
         ],
         "hovertemplate": "%{y}[%{customdata}] = %{marker.color}<extra></extra>",
         "marker": {
          "color": [
           "rgb(232, 245, 171)",
           "rgb(220, 219, 137)",
           "rgb(209, 193, 107)",
           "rgb(199, 168, 83)",
           "rgb(186, 143, 66)",
           "rgb(170, 121, 60)",
           "rgb(151, 103, 58)",
           "rgb(129, 87, 56)",
           "rgb(104, 72, 53)",
           "rgb(80, 59, 46)",
           "rgb(57, 45, 37)",
           "rgb(34, 30, 27)"
          ]
         },
         "orientation": "h",
         "type": "bar",
         "x": [
          1,
          1,
          1,
          1,
          1,
          1,
          1,
          1,
          1,
          1,
          1,
          1
         ],
         "y": [
          "turbid",
          "turbid",
          "turbid",
          "turbid",
          "turbid",
          "turbid",
          "turbid",
          "turbid",
          "turbid",
          "turbid",
          "turbid",
          "turbid"
         ]
        },
        {
         "customdata": [
          0,
          1,
          2,
          3,
          4,
          5,
          6,
          7,
          8
         ],
         "hovertemplate": "%{y}[%{customdata}] = %{marker.color}<extra></extra>",
         "marker": {
          "color": [
           "rgb(255,255,204)",
           "rgb(255,237,160)",
           "rgb(254,217,118)",
           "rgb(254,178,76)",
           "rgb(253,141,60)",
           "rgb(252,78,42)",
           "rgb(227,26,28)",
           "rgb(189,0,38)",
           "rgb(128,0,38)"
          ]
         },
         "orientation": "h",
         "type": "bar",
         "x": [
          1,
          1,
          1,
          1,
          1,
          1,
          1,
          1,
          1
         ],
         "y": [
          "YlOrRd",
          "YlOrRd",
          "YlOrRd",
          "YlOrRd",
          "YlOrRd",
          "YlOrRd",
          "YlOrRd",
          "YlOrRd",
          "YlOrRd"
         ]
        },
        {
         "customdata": [
          0,
          1,
          2,
          3,
          4,
          5,
          6,
          7,
          8
         ],
         "hovertemplate": "%{y}[%{customdata}] = %{marker.color}<extra></extra>",
         "marker": {
          "color": [
           "rgb(255,255,229)",
           "rgb(255,247,188)",
           "rgb(254,227,145)",
           "rgb(254,196,79)",
           "rgb(254,153,41)",
           "rgb(236,112,20)",
           "rgb(204,76,2)",
           "rgb(153,52,4)",
           "rgb(102,37,6)"
          ]
         },
         "orientation": "h",
         "type": "bar",
         "x": [
          1,
          1,
          1,
          1,
          1,
          1,
          1,
          1,
          1
         ],
         "y": [
          "YlOrBr",
          "YlOrBr",
          "YlOrBr",
          "YlOrBr",
          "YlOrBr",
          "YlOrBr",
          "YlOrBr",
          "YlOrBr",
          "YlOrBr"
         ]
        },
        {
         "customdata": [
          0,
          1,
          2,
          3,
          4,
          5,
          6,
          7,
          8
         ],
         "hovertemplate": "%{y}[%{customdata}] = %{marker.color}<extra></extra>",
         "marker": {
          "color": [
           "rgb(255,255,217)",
           "rgb(237,248,177)",
           "rgb(199,233,180)",
           "rgb(127,205,187)",
           "rgb(65,182,196)",
           "rgb(29,145,192)",
           "rgb(34,94,168)",
           "rgb(37,52,148)",
           "rgb(8,29,88)"
          ]
         },
         "orientation": "h",
         "type": "bar",
         "x": [
          1,
          1,
          1,
          1,
          1,
          1,
          1,
          1,
          1
         ],
         "y": [
          "YlGnBu",
          "YlGnBu",
          "YlGnBu",
          "YlGnBu",
          "YlGnBu",
          "YlGnBu",
          "YlGnBu",
          "YlGnBu",
          "YlGnBu"
         ]
        },
        {
         "customdata": [
          0,
          1,
          2,
          3,
          4,
          5,
          6,
          7,
          8
         ],
         "hovertemplate": "%{y}[%{customdata}] = %{marker.color}<extra></extra>",
         "marker": {
          "color": [
           "rgb(255,255,229)",
           "rgb(247,252,185)",
           "rgb(217,240,163)",
           "rgb(173,221,142)",
           "rgb(120,198,121)",
           "rgb(65,171,93)",
           "rgb(35,132,67)",
           "rgb(0,104,55)",
           "rgb(0,69,41)"
          ]
         },
         "orientation": "h",
         "type": "bar",
         "x": [
          1,
          1,
          1,
          1,
          1,
          1,
          1,
          1,
          1
         ],
         "y": [
          "YlGn",
          "YlGn",
          "YlGn",
          "YlGn",
          "YlGn",
          "YlGn",
          "YlGn",
          "YlGn",
          "YlGn"
         ]
        },
        {
         "customdata": [
          0,
          1,
          2,
          3,
          4,
          5,
          6,
          7,
          8
         ],
         "hovertemplate": "%{y}[%{customdata}] = %{marker.color}<extra></extra>",
         "marker": {
          "color": [
           "rgb(255,245,240)",
           "rgb(254,224,210)",
           "rgb(252,187,161)",
           "rgb(252,146,114)",
           "rgb(251,106,74)",
           "rgb(239,59,44)",
           "rgb(203,24,29)",
           "rgb(165,15,21)",
           "rgb(103,0,13)"
          ]
         },
         "orientation": "h",
         "type": "bar",
         "x": [
          1,
          1,
          1,
          1,
          1,
          1,
          1,
          1,
          1
         ],
         "y": [
          "Reds",
          "Reds",
          "Reds",
          "Reds",
          "Reds",
          "Reds",
          "Reds",
          "Reds",
          "Reds"
         ]
        },
        {
         "customdata": [
          0,
          1,
          2,
          3,
          4,
          5,
          6,
          7,
          8
         ],
         "hovertemplate": "%{y}[%{customdata}] = %{marker.color}<extra></extra>",
         "marker": {
          "color": [
           "rgb(255,247,243)",
           "rgb(253,224,221)",
           "rgb(252,197,192)",
           "rgb(250,159,181)",
           "rgb(247,104,161)",
           "rgb(221,52,151)",
           "rgb(174,1,126)",
           "rgb(122,1,119)",
           "rgb(73,0,106)"
          ]
         },
         "orientation": "h",
         "type": "bar",
         "x": [
          1,
          1,
          1,
          1,
          1,
          1,
          1,
          1,
          1
         ],
         "y": [
          "RdPu",
          "RdPu",
          "RdPu",
          "RdPu",
          "RdPu",
          "RdPu",
          "RdPu",
          "RdPu",
          "RdPu"
         ]
        },
        {
         "customdata": [
          0,
          1,
          2,
          3,
          4,
          5,
          6,
          7,
          8,
          9,
          10
         ],
         "hovertemplate": "%{y}[%{customdata}] = %{marker.color}<extra></extra>",
         "marker": {
          "color": [
           "rgb(103,0,31)",
           "rgb(178,24,43)",
           "rgb(214,96,77)",
           "rgb(244,165,130)",
           "rgb(253,219,199)",
           "rgb(247,247,247)",
           "rgb(209,229,240)",
           "rgb(146,197,222)",
           "rgb(67,147,195)",
           "rgb(33,102,172)",
           "rgb(5,48,97)"
          ]
         },
         "orientation": "h",
         "type": "bar",
         "x": [
          1,
          1,
          1,
          1,
          1,
          1,
          1,
          1,
          1,
          1,
          1
         ],
         "y": [
          "RdBu",
          "RdBu",
          "RdBu",
          "RdBu",
          "RdBu",
          "RdBu",
          "RdBu",
          "RdBu",
          "RdBu",
          "RdBu",
          "RdBu"
         ]
        },
        {
         "customdata": [
          0,
          1,
          2,
          3,
          4,
          5,
          6,
          7,
          8
         ],
         "hovertemplate": "%{y}[%{customdata}] = %{marker.color}<extra></extra>",
         "marker": {
          "color": [
           "rgb(252,251,253)",
           "rgb(239,237,245)",
           "rgb(218,218,235)",
           "rgb(188,189,220)",
           "rgb(158,154,200)",
           "rgb(128,125,186)",
           "rgb(106,81,163)",
           "rgb(84,39,143)",
           "rgb(63,0,125)"
          ]
         },
         "orientation": "h",
         "type": "bar",
         "x": [
          1,
          1,
          1,
          1,
          1,
          1,
          1,
          1,
          1
         ],
         "y": [
          "Purples",
          "Purples",
          "Purples",
          "Purples",
          "Purples",
          "Purples",
          "Purples",
          "Purples",
          "Purples"
         ]
        },
        {
         "customdata": [
          0,
          1,
          2,
          3,
          4,
          5,
          6,
          7,
          8
         ],
         "hovertemplate": "%{y}[%{customdata}] = %{marker.color}<extra></extra>",
         "marker": {
          "color": [
           "rgb(247,244,249)",
           "rgb(231,225,239)",
           "rgb(212,185,218)",
           "rgb(201,148,199)",
           "rgb(223,101,176)",
           "rgb(231,41,138)",
           "rgb(206,18,86)",
           "rgb(152,0,67)",
           "rgb(103,0,31)"
          ]
         },
         "orientation": "h",
         "type": "bar",
         "x": [
          1,
          1,
          1,
          1,
          1,
          1,
          1,
          1,
          1
         ],
         "y": [
          "PuRd",
          "PuRd",
          "PuRd",
          "PuRd",
          "PuRd",
          "PuRd",
          "PuRd",
          "PuRd",
          "PuRd"
         ]
        },
        {
         "customdata": [
          0,
          1,
          2,
          3,
          4,
          5,
          6,
          7,
          8
         ],
         "hovertemplate": "%{y}[%{customdata}] = %{marker.color}<extra></extra>",
         "marker": {
          "color": [
           "rgb(255,247,251)",
           "rgb(236,226,240)",
           "rgb(208,209,230)",
           "rgb(166,189,219)",
           "rgb(103,169,207)",
           "rgb(54,144,192)",
           "rgb(2,129,138)",
           "rgb(1,108,89)",
           "rgb(1,70,54)"
          ]
         },
         "orientation": "h",
         "type": "bar",
         "x": [
          1,
          1,
          1,
          1,
          1,
          1,
          1,
          1,
          1
         ],
         "y": [
          "PuBuGn",
          "PuBuGn",
          "PuBuGn",
          "PuBuGn",
          "PuBuGn",
          "PuBuGn",
          "PuBuGn",
          "PuBuGn",
          "PuBuGn"
         ]
        },
        {
         "customdata": [
          0,
          1,
          2,
          3,
          4,
          5,
          6,
          7,
          8
         ],
         "hovertemplate": "%{y}[%{customdata}] = %{marker.color}<extra></extra>",
         "marker": {
          "color": [
           "rgb(255,247,251)",
           "rgb(236,231,242)",
           "rgb(208,209,230)",
           "rgb(166,189,219)",
           "rgb(116,169,207)",
           "rgb(54,144,192)",
           "rgb(5,112,176)",
           "rgb(4,90,141)",
           "rgb(2,56,88)"
          ]
         },
         "orientation": "h",
         "type": "bar",
         "x": [
          1,
          1,
          1,
          1,
          1,
          1,
          1,
          1,
          1
         ],
         "y": [
          "PuBu",
          "PuBu",
          "PuBu",
          "PuBu",
          "PuBu",
          "PuBu",
          "PuBu",
          "PuBu",
          "PuBu"
         ]
        },
        {
         "customdata": [
          0,
          1,
          2,
          3,
          4,
          5,
          6,
          7,
          8
         ],
         "hovertemplate": "%{y}[%{customdata}] = %{marker.color}<extra></extra>",
         "marker": {
          "color": [
           "rgb(255,245,235)",
           "rgb(254,230,206)",
           "rgb(253,208,162)",
           "rgb(253,174,107)",
           "rgb(253,141,60)",
           "rgb(241,105,19)",
           "rgb(217,72,1)",
           "rgb(166,54,3)",
           "rgb(127,39,4)"
          ]
         },
         "orientation": "h",
         "type": "bar",
         "x": [
          1,
          1,
          1,
          1,
          1,
          1,
          1,
          1,
          1
         ],
         "y": [
          "Oranges",
          "Oranges",
          "Oranges",
          "Oranges",
          "Oranges",
          "Oranges",
          "Oranges",
          "Oranges",
          "Oranges"
         ]
        },
        {
         "customdata": [
          0,
          1,
          2,
          3,
          4,
          5,
          6,
          7,
          8
         ],
         "hovertemplate": "%{y}[%{customdata}] = %{marker.color}<extra></extra>",
         "marker": {
          "color": [
           "rgb(255,247,236)",
           "rgb(254,232,200)",
           "rgb(253,212,158)",
           "rgb(253,187,132)",
           "rgb(252,141,89)",
           "rgb(239,101,72)",
           "rgb(215,48,31)",
           "rgb(179,0,0)",
           "rgb(127,0,0)"
          ]
         },
         "orientation": "h",
         "type": "bar",
         "x": [
          1,
          1,
          1,
          1,
          1,
          1,
          1,
          1,
          1
         ],
         "y": [
          "OrRd",
          "OrRd",
          "OrRd",
          "OrRd",
          "OrRd",
          "OrRd",
          "OrRd",
          "OrRd",
          "OrRd"
         ]
        },
        {
         "customdata": [
          0,
          1,
          2,
          3,
          4,
          5,
          6,
          7,
          8
         ],
         "hovertemplate": "%{y}[%{customdata}] = %{marker.color}<extra></extra>",
         "marker": {
          "color": [
           "rgb(255,255,255)",
           "rgb(240,240,240)",
           "rgb(217,217,217)",
           "rgb(189,189,189)",
           "rgb(150,150,150)",
           "rgb(115,115,115)",
           "rgb(82,82,82)",
           "rgb(37,37,37)",
           "rgb(0,0,0)"
          ]
         },
         "orientation": "h",
         "type": "bar",
         "x": [
          1,
          1,
          1,
          1,
          1,
          1,
          1,
          1,
          1
         ],
         "y": [
          "Greys",
          "Greys",
          "Greys",
          "Greys",
          "Greys",
          "Greys",
          "Greys",
          "Greys",
          "Greys"
         ]
        },
        {
         "customdata": [
          0,
          1,
          2,
          3,
          4,
          5,
          6,
          7,
          8
         ],
         "hovertemplate": "%{y}[%{customdata}] = %{marker.color}<extra></extra>",
         "marker": {
          "color": [
           "rgb(247,252,245)",
           "rgb(229,245,224)",
           "rgb(199,233,192)",
           "rgb(161,217,155)",
           "rgb(116,196,118)",
           "rgb(65,171,93)",
           "rgb(35,139,69)",
           "rgb(0,109,44)",
           "rgb(0,68,27)"
          ]
         },
         "orientation": "h",
         "type": "bar",
         "x": [
          1,
          1,
          1,
          1,
          1,
          1,
          1,
          1,
          1
         ],
         "y": [
          "Greens",
          "Greens",
          "Greens",
          "Greens",
          "Greens",
          "Greens",
          "Greens",
          "Greens",
          "Greens"
         ]
        },
        {
         "customdata": [
          0,
          1,
          2,
          3,
          4,
          5,
          6,
          7,
          8
         ],
         "hovertemplate": "%{y}[%{customdata}] = %{marker.color}<extra></extra>",
         "marker": {
          "color": [
           "rgb(247,252,240)",
           "rgb(224,243,219)",
           "rgb(204,235,197)",
           "rgb(168,221,181)",
           "rgb(123,204,196)",
           "rgb(78,179,211)",
           "rgb(43,140,190)",
           "rgb(8,104,172)",
           "rgb(8,64,129)"
          ]
         },
         "orientation": "h",
         "type": "bar",
         "x": [
          1,
          1,
          1,
          1,
          1,
          1,
          1,
          1,
          1
         ],
         "y": [
          "GnBu",
          "GnBu",
          "GnBu",
          "GnBu",
          "GnBu",
          "GnBu",
          "GnBu",
          "GnBu",
          "GnBu"
         ]
        },
        {
         "customdata": [
          0,
          1,
          2,
          3,
          4,
          5,
          6,
          7,
          8
         ],
         "hovertemplate": "%{y}[%{customdata}] = %{marker.color}<extra></extra>",
         "marker": {
          "color": [
           "rgb(247,252,253)",
           "rgb(224,236,244)",
           "rgb(191,211,230)",
           "rgb(158,188,218)",
           "rgb(140,150,198)",
           "rgb(140,107,177)",
           "rgb(136,65,157)",
           "rgb(129,15,124)",
           "rgb(77,0,75)"
          ]
         },
         "orientation": "h",
         "type": "bar",
         "x": [
          1,
          1,
          1,
          1,
          1,
          1,
          1,
          1,
          1
         ],
         "y": [
          "BuPu",
          "BuPu",
          "BuPu",
          "BuPu",
          "BuPu",
          "BuPu",
          "BuPu",
          "BuPu",
          "BuPu"
         ]
        },
        {
         "customdata": [
          0,
          1,
          2,
          3,
          4,
          5,
          6,
          7,
          8
         ],
         "hovertemplate": "%{y}[%{customdata}] = %{marker.color}<extra></extra>",
         "marker": {
          "color": [
           "rgb(247,252,253)",
           "rgb(229,245,249)",
           "rgb(204,236,230)",
           "rgb(153,216,201)",
           "rgb(102,194,164)",
           "rgb(65,174,118)",
           "rgb(35,139,69)",
           "rgb(0,109,44)",
           "rgb(0,68,27)"
          ]
         },
         "orientation": "h",
         "type": "bar",
         "x": [
          1,
          1,
          1,
          1,
          1,
          1,
          1,
          1,
          1
         ],
         "y": [
          "BuGn",
          "BuGn",
          "BuGn",
          "BuGn",
          "BuGn",
          "BuGn",
          "BuGn",
          "BuGn",
          "BuGn"
         ]
        },
        {
         "customdata": [
          0,
          1,
          2,
          3,
          4,
          5,
          6,
          7,
          8
         ],
         "hovertemplate": "%{y}[%{customdata}] = %{marker.color}<extra></extra>",
         "marker": {
          "color": [
           "rgb(247,251,255)",
           "rgb(222,235,247)",
           "rgb(198,219,239)",
           "rgb(158,202,225)",
           "rgb(107,174,214)",
           "rgb(66,146,198)",
           "rgb(33,113,181)",
           "rgb(8,81,156)",
           "rgb(8,48,107)"
          ]
         },
         "orientation": "h",
         "type": "bar",
         "x": [
          1,
          1,
          1,
          1,
          1,
          1,
          1,
          1,
          1
         ],
         "y": [
          "Blues",
          "Blues",
          "Blues",
          "Blues",
          "Blues",
          "Blues",
          "Blues",
          "Blues",
          "Blues"
         ]
        },
        {
         "customdata": [
          0,
          1,
          2,
          3,
          4,
          5,
          6,
          7,
          8
         ],
         "hovertemplate": "%{y}[%{customdata}] = %{marker.color}<extra></extra>",
         "marker": {
          "color": [
           "rgb(150,0,90)",
           "rgb(0,0,200)",
           "rgb(0,25,255)",
           "rgb(0,152,255)",
           "rgb(44,255,150)",
           "rgb(151,255,0)",
           "rgb(255,234,0)",
           "rgb(255,111,0)",
           "rgb(255,0,0)"
          ]
         },
         "orientation": "h",
         "type": "bar",
         "x": [
          1,
          1,
          1,
          1,
          1,
          1,
          1,
          1,
          1
         ],
         "y": [
          "Rainbow",
          "Rainbow",
          "Rainbow",
          "Rainbow",
          "Rainbow",
          "Rainbow",
          "Rainbow",
          "Rainbow",
          "Rainbow"
         ]
        },
        {
         "customdata": [
          0,
          1,
          2,
          3,
          4,
          5
         ],
         "hovertemplate": "%{y}[%{customdata}] = %{marker.color}<extra></extra>",
         "marker": {
          "color": [
           "rgb(0,0,131)",
           "rgb(0,60,170)",
           "rgb(5,255,255)",
           "rgb(255,255,0)",
           "rgb(250,0,0)",
           "rgb(128,0,0)"
          ]
         },
         "orientation": "h",
         "type": "bar",
         "x": [
          1,
          1,
          1,
          1,
          1,
          1
         ],
         "y": [
          "Jet",
          "Jet",
          "Jet",
          "Jet",
          "Jet",
          "Jet"
         ]
        },
        {
         "customdata": [
          0,
          1,
          2,
          3
         ],
         "hovertemplate": "%{y}[%{customdata}] = %{marker.color}<extra></extra>",
         "marker": {
          "color": [
           "rgb(0,0,0)",
           "rgb(230,0,0)",
           "rgb(255,210,0)",
           "rgb(255,255,255)"
          ]
         },
         "orientation": "h",
         "type": "bar",
         "x": [
          1,
          1,
          1,
          1
         ],
         "y": [
          "Hot",
          "Hot",
          "Hot",
          "Hot"
         ]
        },
        {
         "customdata": [
          0,
          1,
          2,
          3,
          4,
          5
         ],
         "hovertemplate": "%{y}[%{customdata}] = %{marker.color}<extra></extra>",
         "marker": {
          "color": [
           "rgb(0,0,0)",
           "rgb(30,0,100)",
           "rgb(120,0,100)",
           "rgb(160,90,0)",
           "rgb(230,200,0)",
           "rgb(255,250,220)"
          ]
         },
         "orientation": "h",
         "type": "bar",
         "x": [
          1,
          1,
          1,
          1,
          1,
          1
         ],
         "y": [
          "Electric",
          "Electric",
          "Electric",
          "Electric",
          "Electric",
          "Electric"
         ]
        },
        {
         "customdata": [
          0,
          1
         ],
         "hovertemplate": "%{y}[%{customdata}] = %{marker.color}<extra></extra>",
         "marker": {
          "color": [
           "rgb(0,0,255)",
           "rgb(255,0,0)"
          ]
         },
         "orientation": "h",
         "type": "bar",
         "x": [
          1,
          1
         ],
         "y": [
          "Bluered",
          "Bluered"
         ]
        },
        {
         "customdata": [
          0,
          1,
          2,
          3,
          4
         ],
         "hovertemplate": "%{y}[%{customdata}] = %{marker.color}<extra></extra>",
         "marker": {
          "color": [
           "rgb(0,0,0)",
           "rgb(230,0,0)",
           "rgb(230,210,0)",
           "rgb(255,255,255)",
           "rgb(160,200,255)"
          ]
         },
         "orientation": "h",
         "type": "bar",
         "x": [
          1,
          1,
          1,
          1,
          1
         ],
         "y": [
          "Blackbody",
          "Blackbody",
          "Blackbody",
          "Blackbody",
          "Blackbody"
         ]
        },
        {
         "customdata": [
          0,
          1,
          2,
          3,
          4,
          5,
          6,
          7,
          8,
          9,
          10,
          11,
          12,
          13,
          14
         ],
         "hovertemplate": "%{y}[%{customdata}] = %{marker.color}<extra></extra>",
         "marker": {
          "color": [
           "#30123b",
           "#4145ab",
           "#4675ed",
           "#39a2fc",
           "#1bcfd4",
           "#24eca6",
           "#61fc6c",
           "#a4fc3b",
           "#d1e834",
           "#f3c63a",
           "#fe9b2d",
           "#f36315",
           "#d93806",
           "#b11901",
           "#7a0402"
          ]
         },
         "orientation": "h",
         "type": "bar",
         "x": [
          1,
          1,
          1,
          1,
          1,
          1,
          1,
          1,
          1,
          1,
          1,
          1,
          1,
          1,
          1
         ],
         "y": [
          "Turbo",
          "Turbo",
          "Turbo",
          "Turbo",
          "Turbo",
          "Turbo",
          "Turbo",
          "Turbo",
          "Turbo",
          "Turbo",
          "Turbo",
          "Turbo",
          "Turbo",
          "Turbo",
          "Turbo"
         ]
        },
        {
         "customdata": [
          0,
          1,
          2,
          3,
          4,
          5,
          6,
          7,
          8,
          9
         ],
         "hovertemplate": "%{y}[%{customdata}] = %{marker.color}<extra></extra>",
         "marker": {
          "color": [
           "#0d0887",
           "#46039f",
           "#7201a8",
           "#9c179e",
           "#bd3786",
           "#d8576b",
           "#ed7953",
           "#fb9f3a",
           "#fdca26",
           "#f0f921"
          ]
         },
         "orientation": "h",
         "type": "bar",
         "x": [
          1,
          1,
          1,
          1,
          1,
          1,
          1,
          1,
          1,
          1
         ],
         "y": [
          "Plasma",
          "Plasma",
          "Plasma",
          "Plasma",
          "Plasma",
          "Plasma",
          "Plasma",
          "Plasma",
          "Plasma",
          "Plasma"
         ]
        },
        {
         "customdata": [
          0,
          1,
          2,
          3,
          4,
          5,
          6,
          7,
          8,
          9
         ],
         "hovertemplate": "%{y}[%{customdata}] = %{marker.color}<extra></extra>",
         "marker": {
          "color": [
           "#000004",
           "#180f3d",
           "#440f76",
           "#721f81",
           "#9e2f7f",
           "#cd4071",
           "#f1605d",
           "#fd9668",
           "#feca8d",
           "#fcfdbf"
          ]
         },
         "orientation": "h",
         "type": "bar",
         "x": [
          1,
          1,
          1,
          1,
          1,
          1,
          1,
          1,
          1,
          1
         ],
         "y": [
          "Magma",
          "Magma",
          "Magma",
          "Magma",
          "Magma",
          "Magma",
          "Magma",
          "Magma",
          "Magma",
          "Magma"
         ]
        },
        {
         "customdata": [
          0,
          1,
          2,
          3,
          4,
          5,
          6,
          7,
          8,
          9
         ],
         "hovertemplate": "%{y}[%{customdata}] = %{marker.color}<extra></extra>",
         "marker": {
          "color": [
           "#000004",
           "#1b0c41",
           "#4a0c6b",
           "#781c6d",
           "#a52c60",
           "#cf4446",
           "#ed6925",
           "#fb9b06",
           "#f7d13d",
           "#fcffa4"
          ]
         },
         "orientation": "h",
         "type": "bar",
         "x": [
          1,
          1,
          1,
          1,
          1,
          1,
          1,
          1,
          1,
          1
         ],
         "y": [
          "Inferno",
          "Inferno",
          "Inferno",
          "Inferno",
          "Inferno",
          "Inferno",
          "Inferno",
          "Inferno",
          "Inferno",
          "Inferno"
         ]
        },
        {
         "customdata": [
          0,
          1,
          2,
          3,
          4,
          5,
          6,
          7,
          8,
          9
         ],
         "hovertemplate": "%{y}[%{customdata}] = %{marker.color}<extra></extra>",
         "marker": {
          "color": [
           "#00224e",
           "#123570",
           "#3b496c",
           "#575d6d",
           "#707173",
           "#8a8678",
           "#a59c74",
           "#c3b369",
           "#e1cc55",
           "#fee838"
          ]
         },
         "orientation": "h",
         "type": "bar",
         "x": [
          1,
          1,
          1,
          1,
          1,
          1,
          1,
          1,
          1,
          1
         ],
         "y": [
          "Cividis",
          "Cividis",
          "Cividis",
          "Cividis",
          "Cividis",
          "Cividis",
          "Cividis",
          "Cividis",
          "Cividis",
          "Cividis"
         ]
        },
        {
         "customdata": [
          0,
          1,
          2,
          3,
          4,
          5,
          6,
          7,
          8,
          9
         ],
         "hovertemplate": "%{y}[%{customdata}] = %{marker.color}<extra></extra>",
         "marker": {
          "color": [
           "#440154",
           "#482878",
           "#3e4989",
           "#31688e",
           "#26828e",
           "#1f9e89",
           "#35b779",
           "#6ece58",
           "#b5de2b",
           "#fde725"
          ]
         },
         "orientation": "h",
         "type": "bar",
         "x": [
          1,
          1,
          1,
          1,
          1,
          1,
          1,
          1,
          1,
          1
         ],
         "y": [
          "Viridis",
          "Viridis",
          "Viridis",
          "Viridis",
          "Viridis",
          "Viridis",
          "Viridis",
          "Viridis",
          "Viridis",
          "Viridis"
         ]
        },
        {
         "customdata": [
          0,
          1,
          2,
          3,
          4,
          5,
          6,
          7,
          8,
          9,
          10,
          11,
          12
         ],
         "hovertemplate": "%{y}[%{customdata}] = %{marker.color}<extra></extra>",
         "marker": {
          "color": [
           "#0508b8",
           "#1910d8",
           "#3c19f0",
           "#6b1cfb",
           "#981cfd",
           "#bf1cfd",
           "#dd2bfd",
           "#f246fe",
           "#fc67fd",
           "#fe88fc",
           "#fea5fd",
           "#febefe",
           "#fec3fe"
          ]
         },
         "orientation": "h",
         "type": "bar",
         "x": [
          1,
          1,
          1,
          1,
          1,
          1,
          1,
          1,
          1,
          1,
          1,
          1,
          1
         ],
         "y": [
          "Plotly3",
          "Plotly3",
          "Plotly3",
          "Plotly3",
          "Plotly3",
          "Plotly3",
          "Plotly3",
          "Plotly3",
          "Plotly3",
          "Plotly3",
          "Plotly3",
          "Plotly3",
          "Plotly3"
         ]
        }
       ],
       "layout": {
        "bargap": 0.5,
        "barmode": "stack",
        "barnorm": "fraction",
        "height": 2640,
        "margin": {
         "b": 10
        },
        "showlegend": false,
        "template": {
         "data": {
          "bar": [
           {
            "error_x": {
             "color": "#2a3f5f"
            },
            "error_y": {
             "color": "#2a3f5f"
            },
            "marker": {
             "line": {
              "color": "#E5ECF6",
              "width": 0.5
             },
             "pattern": {
              "fillmode": "overlay",
              "size": 10,
              "solidity": 0.2
             }
            },
            "type": "bar"
           }
          ],
          "barpolar": [
           {
            "marker": {
             "line": {
              "color": "#E5ECF6",
              "width": 0.5
             },
             "pattern": {
              "fillmode": "overlay",
              "size": 10,
              "solidity": 0.2
             }
            },
            "type": "barpolar"
           }
          ],
          "carpet": [
           {
            "aaxis": {
             "endlinecolor": "#2a3f5f",
             "gridcolor": "white",
             "linecolor": "white",
             "minorgridcolor": "white",
             "startlinecolor": "#2a3f5f"
            },
            "baxis": {
             "endlinecolor": "#2a3f5f",
             "gridcolor": "white",
             "linecolor": "white",
             "minorgridcolor": "white",
             "startlinecolor": "#2a3f5f"
            },
            "type": "carpet"
           }
          ],
          "choropleth": [
           {
            "colorbar": {
             "outlinewidth": 0,
             "ticks": ""
            },
            "type": "choropleth"
           }
          ],
          "contour": [
           {
            "colorbar": {
             "outlinewidth": 0,
             "ticks": ""
            },
            "colorscale": [
             [
              0,
              "#0d0887"
             ],
             [
              0.1111111111111111,
              "#46039f"
             ],
             [
              0.2222222222222222,
              "#7201a8"
             ],
             [
              0.3333333333333333,
              "#9c179e"
             ],
             [
              0.4444444444444444,
              "#bd3786"
             ],
             [
              0.5555555555555556,
              "#d8576b"
             ],
             [
              0.6666666666666666,
              "#ed7953"
             ],
             [
              0.7777777777777778,
              "#fb9f3a"
             ],
             [
              0.8888888888888888,
              "#fdca26"
             ],
             [
              1,
              "#f0f921"
             ]
            ],
            "type": "contour"
           }
          ],
          "contourcarpet": [
           {
            "colorbar": {
             "outlinewidth": 0,
             "ticks": ""
            },
            "type": "contourcarpet"
           }
          ],
          "heatmap": [
           {
            "colorbar": {
             "outlinewidth": 0,
             "ticks": ""
            },
            "colorscale": [
             [
              0,
              "#0d0887"
             ],
             [
              0.1111111111111111,
              "#46039f"
             ],
             [
              0.2222222222222222,
              "#7201a8"
             ],
             [
              0.3333333333333333,
              "#9c179e"
             ],
             [
              0.4444444444444444,
              "#bd3786"
             ],
             [
              0.5555555555555556,
              "#d8576b"
             ],
             [
              0.6666666666666666,
              "#ed7953"
             ],
             [
              0.7777777777777778,
              "#fb9f3a"
             ],
             [
              0.8888888888888888,
              "#fdca26"
             ],
             [
              1,
              "#f0f921"
             ]
            ],
            "type": "heatmap"
           }
          ],
          "heatmapgl": [
           {
            "colorbar": {
             "outlinewidth": 0,
             "ticks": ""
            },
            "colorscale": [
             [
              0,
              "#0d0887"
             ],
             [
              0.1111111111111111,
              "#46039f"
             ],
             [
              0.2222222222222222,
              "#7201a8"
             ],
             [
              0.3333333333333333,
              "#9c179e"
             ],
             [
              0.4444444444444444,
              "#bd3786"
             ],
             [
              0.5555555555555556,
              "#d8576b"
             ],
             [
              0.6666666666666666,
              "#ed7953"
             ],
             [
              0.7777777777777778,
              "#fb9f3a"
             ],
             [
              0.8888888888888888,
              "#fdca26"
             ],
             [
              1,
              "#f0f921"
             ]
            ],
            "type": "heatmapgl"
           }
          ],
          "histogram": [
           {
            "marker": {
             "pattern": {
              "fillmode": "overlay",
              "size": 10,
              "solidity": 0.2
             }
            },
            "type": "histogram"
           }
          ],
          "histogram2d": [
           {
            "colorbar": {
             "outlinewidth": 0,
             "ticks": ""
            },
            "colorscale": [
             [
              0,
              "#0d0887"
             ],
             [
              0.1111111111111111,
              "#46039f"
             ],
             [
              0.2222222222222222,
              "#7201a8"
             ],
             [
              0.3333333333333333,
              "#9c179e"
             ],
             [
              0.4444444444444444,
              "#bd3786"
             ],
             [
              0.5555555555555556,
              "#d8576b"
             ],
             [
              0.6666666666666666,
              "#ed7953"
             ],
             [
              0.7777777777777778,
              "#fb9f3a"
             ],
             [
              0.8888888888888888,
              "#fdca26"
             ],
             [
              1,
              "#f0f921"
             ]
            ],
            "type": "histogram2d"
           }
          ],
          "histogram2dcontour": [
           {
            "colorbar": {
             "outlinewidth": 0,
             "ticks": ""
            },
            "colorscale": [
             [
              0,
              "#0d0887"
             ],
             [
              0.1111111111111111,
              "#46039f"
             ],
             [
              0.2222222222222222,
              "#7201a8"
             ],
             [
              0.3333333333333333,
              "#9c179e"
             ],
             [
              0.4444444444444444,
              "#bd3786"
             ],
             [
              0.5555555555555556,
              "#d8576b"
             ],
             [
              0.6666666666666666,
              "#ed7953"
             ],
             [
              0.7777777777777778,
              "#fb9f3a"
             ],
             [
              0.8888888888888888,
              "#fdca26"
             ],
             [
              1,
              "#f0f921"
             ]
            ],
            "type": "histogram2dcontour"
           }
          ],
          "mesh3d": [
           {
            "colorbar": {
             "outlinewidth": 0,
             "ticks": ""
            },
            "type": "mesh3d"
           }
          ],
          "parcoords": [
           {
            "line": {
             "colorbar": {
              "outlinewidth": 0,
              "ticks": ""
             }
            },
            "type": "parcoords"
           }
          ],
          "pie": [
           {
            "automargin": true,
            "type": "pie"
           }
          ],
          "scatter": [
           {
            "fillpattern": {
             "fillmode": "overlay",
             "size": 10,
             "solidity": 0.2
            },
            "type": "scatter"
           }
          ],
          "scatter3d": [
           {
            "line": {
             "colorbar": {
              "outlinewidth": 0,
              "ticks": ""
             }
            },
            "marker": {
             "colorbar": {
              "outlinewidth": 0,
              "ticks": ""
             }
            },
            "type": "scatter3d"
           }
          ],
          "scattercarpet": [
           {
            "marker": {
             "colorbar": {
              "outlinewidth": 0,
              "ticks": ""
             }
            },
            "type": "scattercarpet"
           }
          ],
          "scattergeo": [
           {
            "marker": {
             "colorbar": {
              "outlinewidth": 0,
              "ticks": ""
             }
            },
            "type": "scattergeo"
           }
          ],
          "scattergl": [
           {
            "marker": {
             "colorbar": {
              "outlinewidth": 0,
              "ticks": ""
             }
            },
            "type": "scattergl"
           }
          ],
          "scattermapbox": [
           {
            "marker": {
             "colorbar": {
              "outlinewidth": 0,
              "ticks": ""
             }
            },
            "type": "scattermapbox"
           }
          ],
          "scatterpolar": [
           {
            "marker": {
             "colorbar": {
              "outlinewidth": 0,
              "ticks": ""
             }
            },
            "type": "scatterpolar"
           }
          ],
          "scatterpolargl": [
           {
            "marker": {
             "colorbar": {
              "outlinewidth": 0,
              "ticks": ""
             }
            },
            "type": "scatterpolargl"
           }
          ],
          "scatterternary": [
           {
            "marker": {
             "colorbar": {
              "outlinewidth": 0,
              "ticks": ""
             }
            },
            "type": "scatterternary"
           }
          ],
          "surface": [
           {
            "colorbar": {
             "outlinewidth": 0,
             "ticks": ""
            },
            "colorscale": [
             [
              0,
              "#0d0887"
             ],
             [
              0.1111111111111111,
              "#46039f"
             ],
             [
              0.2222222222222222,
              "#7201a8"
             ],
             [
              0.3333333333333333,
              "#9c179e"
             ],
             [
              0.4444444444444444,
              "#bd3786"
             ],
             [
              0.5555555555555556,
              "#d8576b"
             ],
             [
              0.6666666666666666,
              "#ed7953"
             ],
             [
              0.7777777777777778,
              "#fb9f3a"
             ],
             [
              0.8888888888888888,
              "#fdca26"
             ],
             [
              1,
              "#f0f921"
             ]
            ],
            "type": "surface"
           }
          ],
          "table": [
           {
            "cells": {
             "fill": {
              "color": "#EBF0F8"
             },
             "line": {
              "color": "white"
             }
            },
            "header": {
             "fill": {
              "color": "#C8D4E3"
             },
             "line": {
              "color": "white"
             }
            },
            "type": "table"
           }
          ]
         },
         "layout": {
          "annotationdefaults": {
           "arrowcolor": "#2a3f5f",
           "arrowhead": 0,
           "arrowwidth": 1
          },
          "autotypenumbers": "strict",
          "coloraxis": {
           "colorbar": {
            "outlinewidth": 0,
            "ticks": ""
           }
          },
          "colorscale": {
           "diverging": [
            [
             0,
             "#8e0152"
            ],
            [
             0.1,
             "#c51b7d"
            ],
            [
             0.2,
             "#de77ae"
            ],
            [
             0.3,
             "#f1b6da"
            ],
            [
             0.4,
             "#fde0ef"
            ],
            [
             0.5,
             "#f7f7f7"
            ],
            [
             0.6,
             "#e6f5d0"
            ],
            [
             0.7,
             "#b8e186"
            ],
            [
             0.8,
             "#7fbc41"
            ],
            [
             0.9,
             "#4d9221"
            ],
            [
             1,
             "#276419"
            ]
           ],
           "sequential": [
            [
             0,
             "#0d0887"
            ],
            [
             0.1111111111111111,
             "#46039f"
            ],
            [
             0.2222222222222222,
             "#7201a8"
            ],
            [
             0.3333333333333333,
             "#9c179e"
            ],
            [
             0.4444444444444444,
             "#bd3786"
            ],
            [
             0.5555555555555556,
             "#d8576b"
            ],
            [
             0.6666666666666666,
             "#ed7953"
            ],
            [
             0.7777777777777778,
             "#fb9f3a"
            ],
            [
             0.8888888888888888,
             "#fdca26"
            ],
            [
             1,
             "#f0f921"
            ]
           ],
           "sequentialminus": [
            [
             0,
             "#0d0887"
            ],
            [
             0.1111111111111111,
             "#46039f"
            ],
            [
             0.2222222222222222,
             "#7201a8"
            ],
            [
             0.3333333333333333,
             "#9c179e"
            ],
            [
             0.4444444444444444,
             "#bd3786"
            ],
            [
             0.5555555555555556,
             "#d8576b"
            ],
            [
             0.6666666666666666,
             "#ed7953"
            ],
            [
             0.7777777777777778,
             "#fb9f3a"
            ],
            [
             0.8888888888888888,
             "#fdca26"
            ],
            [
             1,
             "#f0f921"
            ]
           ]
          },
          "colorway": [
           "#636efa",
           "#EF553B",
           "#00cc96",
           "#ab63fa",
           "#FFA15A",
           "#19d3f3",
           "#FF6692",
           "#B6E880",
           "#FF97FF",
           "#FECB52"
          ],
          "font": {
           "color": "#2a3f5f"
          },
          "geo": {
           "bgcolor": "white",
           "lakecolor": "white",
           "landcolor": "#E5ECF6",
           "showlakes": true,
           "showland": true,
           "subunitcolor": "white"
          },
          "hoverlabel": {
           "align": "left"
          },
          "hovermode": "closest",
          "mapbox": {
           "style": "light"
          },
          "paper_bgcolor": "white",
          "plot_bgcolor": "#E5ECF6",
          "polar": {
           "angularaxis": {
            "gridcolor": "white",
            "linecolor": "white",
            "ticks": ""
           },
           "bgcolor": "#E5ECF6",
           "radialaxis": {
            "gridcolor": "white",
            "linecolor": "white",
            "ticks": ""
           }
          },
          "scene": {
           "xaxis": {
            "backgroundcolor": "#E5ECF6",
            "gridcolor": "white",
            "gridwidth": 2,
            "linecolor": "white",
            "showbackground": true,
            "ticks": "",
            "zerolinecolor": "white"
           },
           "yaxis": {
            "backgroundcolor": "#E5ECF6",
            "gridcolor": "white",
            "gridwidth": 2,
            "linecolor": "white",
            "showbackground": true,
            "ticks": "",
            "zerolinecolor": "white"
           },
           "zaxis": {
            "backgroundcolor": "#E5ECF6",
            "gridcolor": "white",
            "gridwidth": 2,
            "linecolor": "white",
            "showbackground": true,
            "ticks": "",
            "zerolinecolor": "white"
           }
          },
          "shapedefaults": {
           "line": {
            "color": "#2a3f5f"
           }
          },
          "ternary": {
           "aaxis": {
            "gridcolor": "white",
            "linecolor": "white",
            "ticks": ""
           },
           "baxis": {
            "gridcolor": "white",
            "linecolor": "white",
            "ticks": ""
           },
           "bgcolor": "#E5ECF6",
           "caxis": {
            "gridcolor": "white",
            "linecolor": "white",
            "ticks": ""
           }
          },
          "title": {
           "x": 0.05
          },
          "xaxis": {
           "automargin": true,
           "gridcolor": "white",
           "linecolor": "white",
           "ticks": "",
           "title": {
            "standoff": 15
           },
           "zerolinecolor": "white",
           "zerolinewidth": 2
          },
          "yaxis": {
           "automargin": true,
           "gridcolor": "white",
           "linecolor": "white",
           "ticks": "",
           "title": {
            "standoff": 15
           },
           "zerolinecolor": "white",
           "zerolinewidth": 2
          }
         }
        },
        "title": {
         "text": "plotly.colors.sequential"
        },
        "xaxis": {
         "range": [
          -0.02,
          1.02
         ],
         "showgrid": false,
         "showticklabels": false
        }
       }
      }
     },
     "metadata": {},
     "output_type": "display_data"
    }
   ],
   "source": [
    "fig = px.colors.sequential.swatches()\n",
    "fig.show()"
   ]
  },
  {
   "cell_type": "markdown",
   "metadata": {},
   "source": [
    "#### Consulta a NE"
   ]
  },
  {
   "cell_type": "code",
   "execution_count": 18,
   "metadata": {},
   "outputs": [
    {
     "data": {
      "text/html": [
       "<div>\n",
       "<style scoped>\n",
       "    .dataframe tbody tr th:only-of-type {\n",
       "        vertical-align: middle;\n",
       "    }\n",
       "\n",
       "    .dataframe tbody tr th {\n",
       "        vertical-align: top;\n",
       "    }\n",
       "\n",
       "    .dataframe thead th {\n",
       "        text-align: right;\n",
       "    }\n",
       "</style>\n",
       "<table border=\"1\" class=\"dataframe\">\n",
       "  <thead>\n",
       "    <tr style=\"text-align: right;\">\n",
       "      <th></th>\n",
       "      <th>UG</th>\n",
       "      <th>SIGLA UG</th>\n",
       "      <th>ACAO</th>\n",
       "      <th>NOME_ACAO</th>\n",
       "      <th>ANO</th>\n",
       "      <th>CREDOR</th>\n",
       "      <th>NOME_CREDOR</th>\n",
       "      <th>DATA</th>\n",
       "      <th>DIAS</th>\n",
       "      <th>ICFEX</th>\n",
       "      <th>NOME_ICFEX</th>\n",
       "      <th>ND</th>\n",
       "      <th>NOME_ND</th>\n",
       "      <th>NDSI</th>\n",
       "      <th>NOME_NDSI</th>\n",
       "      <th>NE</th>\n",
       "      <th>PI</th>\n",
       "      <th>NOME_PI</th>\n",
       "      <th>PROGRAMA</th>\n",
       "      <th>PTRES</th>\n",
       "      <th>TIPO</th>\n",
       "      <th>TIPO_NE</th>\n",
       "      <th>LOCAL</th>\n",
       "      <th>UF_CREDOR</th>\n",
       "      <th>UF_UG</th>\n",
       "      <th>UGR</th>\n",
       "      <th>NOME_UGR</th>\n",
       "      <th>RADPI4</th>\n",
       "      <th>MEIPI3</th>\n",
       "      <th>SUFPI4</th>\n",
       "      <th>A_LIQUIDAR</th>\n",
       "      <th>LIQUIDADO_A_PAGAR</th>\n",
       "      <th>TOTAL_A_PAGAR</th>\n",
       "      <th>PAGO</th>\n",
       "    </tr>\n",
       "  </thead>\n",
       "  <tbody>\n",
       "    <tr>\n",
       "      <th>0</th>\n",
       "      <td>160129</td>\n",
       "      <td>ESA</td>\n",
       "      <td>8965</td>\n",
       "      <td>CAPACITACAO PROFISSIONAL MILITAR DO E</td>\n",
       "      <td>2022</td>\n",
       "      <td>15072268000106</td>\n",
       "      <td>SGA TUDO PARA SEU EVENTO LTDA</td>\n",
       "      <td>2022-07-05</td>\n",
       "      <td>456</td>\n",
       "      <td>160533</td>\n",
       "      <td>4º CGCFEX</td>\n",
       "      <td>339039</td>\n",
       "      <td>OUTROS SERVICOS DE TERCEIROS - PESSOA JURIDICA</td>\n",
       "      <td>33903914</td>\n",
       "      <td>LOCACAO BENS MOV. OUT.NATUREZAS E INTANGIVEIS</td>\n",
       "      <td>2022NE000742</td>\n",
       "      <td>C4ENMILCAPE</td>\n",
       "      <td>CAPACITACAO DE PESSOAL</td>\n",
       "      <td>6012</td>\n",
       "      <td>171423</td>\n",
       "      <td>RPNP</td>\n",
       "      <td>GLOBAL</td>\n",
       "      <td>ESCOLA DE SARGENTOS DAS ARMAS  - AVENIDA SETE ...</td>\n",
       "      <td>MG</td>\n",
       "      <td>MG</td>\n",
       "      <td>160503</td>\n",
       "      <td>DECEX/GESTOR</td>\n",
       "      <td>C4EN</td>\n",
       "      <td>MIL</td>\n",
       "      <td>CAPE</td>\n",
       "      <td>180.00</td>\n",
       "      <td>0.0</td>\n",
       "      <td>180.00</td>\n",
       "      <td>16640.00</td>\n",
       "    </tr>\n",
       "    <tr>\n",
       "      <th>1</th>\n",
       "      <td>160129</td>\n",
       "      <td>ESA</td>\n",
       "      <td>8965</td>\n",
       "      <td>CAPACITACAO PROFISSIONAL MILITAR DO E</td>\n",
       "      <td>2022</td>\n",
       "      <td>38680138000151</td>\n",
       "      <td>GESMAQ COMERCIO E SERVICOS LTDA</td>\n",
       "      <td>2022-10-06</td>\n",
       "      <td>363</td>\n",
       "      <td>160533</td>\n",
       "      <td>4º CGCFEX</td>\n",
       "      <td>339039</td>\n",
       "      <td>OUTROS SERVICOS DE TERCEIROS - PESSOA JURIDICA</td>\n",
       "      <td>33903917</td>\n",
       "      <td>MANUT. E CONSERV. DE MAQUINAS E EQUIPAMENTOS</td>\n",
       "      <td>2022NE001085</td>\n",
       "      <td>C4ENMILCAPE</td>\n",
       "      <td>CAPACITACAO DE PESSOAL</td>\n",
       "      <td>6012</td>\n",
       "      <td>171423</td>\n",
       "      <td>RPNP</td>\n",
       "      <td>GLOBAL</td>\n",
       "      <td>ESCOLA DE SARGENTOS DAS ARMAS</td>\n",
       "      <td>MG</td>\n",
       "      <td>MG</td>\n",
       "      <td>160503</td>\n",
       "      <td>DECEX/GESTOR</td>\n",
       "      <td>C4EN</td>\n",
       "      <td>MIL</td>\n",
       "      <td>CAPE</td>\n",
       "      <td>11086.68</td>\n",
       "      <td>0.0</td>\n",
       "      <td>11086.68</td>\n",
       "      <td>22173.32</td>\n",
       "    </tr>\n",
       "  </tbody>\n",
       "</table>\n",
       "</div>"
      ],
      "text/plain": [
       "       UG SIGLA UG  ACAO                              NOME_ACAO   ANO  \\\n",
       "0  160129      ESA  8965  CAPACITACAO PROFISSIONAL MILITAR DO E  2022   \n",
       "1  160129      ESA  8965  CAPACITACAO PROFISSIONAL MILITAR DO E  2022   \n",
       "\n",
       "           CREDOR                      NOME_CREDOR       DATA  DIAS   ICFEX  \\\n",
       "0  15072268000106    SGA TUDO PARA SEU EVENTO LTDA 2022-07-05   456  160533   \n",
       "1  38680138000151  GESMAQ COMERCIO E SERVICOS LTDA 2022-10-06   363  160533   \n",
       "\n",
       "  NOME_ICFEX      ND                                         NOME_ND  \\\n",
       "0  4º CGCFEX  339039  OUTROS SERVICOS DE TERCEIROS - PESSOA JURIDICA   \n",
       "1  4º CGCFEX  339039  OUTROS SERVICOS DE TERCEIROS - PESSOA JURIDICA   \n",
       "\n",
       "       NDSI                                      NOME_NDSI            NE  \\\n",
       "0  33903914  LOCACAO BENS MOV. OUT.NATUREZAS E INTANGIVEIS  2022NE000742   \n",
       "1  33903917   MANUT. E CONSERV. DE MAQUINAS E EQUIPAMENTOS  2022NE001085   \n",
       "\n",
       "            PI                 NOME_PI PROGRAMA   PTRES  TIPO TIPO_NE  \\\n",
       "0  C4ENMILCAPE  CAPACITACAO DE PESSOAL     6012  171423  RPNP  GLOBAL   \n",
       "1  C4ENMILCAPE  CAPACITACAO DE PESSOAL     6012  171423  RPNP  GLOBAL   \n",
       "\n",
       "                                               LOCAL UF_CREDOR UF_UG     UGR  \\\n",
       "0  ESCOLA DE SARGENTOS DAS ARMAS  - AVENIDA SETE ...        MG    MG  160503   \n",
       "1                      ESCOLA DE SARGENTOS DAS ARMAS        MG    MG  160503   \n",
       "\n",
       "       NOME_UGR RADPI4 MEIPI3 SUFPI4  A_LIQUIDAR  LIQUIDADO_A_PAGAR  \\\n",
       "0  DECEX/GESTOR   C4EN    MIL   CAPE      180.00                0.0   \n",
       "1  DECEX/GESTOR   C4EN    MIL   CAPE    11086.68                0.0   \n",
       "\n",
       "   TOTAL_A_PAGAR      PAGO  \n",
       "0         180.00  16640.00  \n",
       "1       11086.68  22173.32  "
      ]
     },
     "execution_count": 18,
     "metadata": {},
     "output_type": "execute_result"
    }
   ],
   "source": [
    "natureza = ['339147', '339036', '339031', '339033', '339039']\n",
    "\n",
    "df_estudo = df_teste[df_teste['ND'].isin(natureza)]\n",
    "\n",
    "df_estudo = df_estudo[df_estudo['A_LIQUIDAR'] != 0].sort_values(by='DIAS', ascending=False).reset_index(drop=True)\n",
    "\n",
    "df_estudo.head(2)"
   ]
  },
  {
   "cell_type": "code",
   "execution_count": 19,
   "metadata": {},
   "outputs": [
    {
     "data": {
      "text/html": [
       "<div>\n",
       "<style scoped>\n",
       "    .dataframe tbody tr th:only-of-type {\n",
       "        vertical-align: middle;\n",
       "    }\n",
       "\n",
       "    .dataframe tbody tr th {\n",
       "        vertical-align: top;\n",
       "    }\n",
       "\n",
       "    .dataframe thead th {\n",
       "        text-align: right;\n",
       "    }\n",
       "</style>\n",
       "<table border=\"1\" class=\"dataframe\">\n",
       "  <thead>\n",
       "    <tr style=\"text-align: right;\">\n",
       "      <th></th>\n",
       "      <th>UG</th>\n",
       "      <th>SIGLA UG</th>\n",
       "      <th>ACAO</th>\n",
       "      <th>NOME_ACAO</th>\n",
       "      <th>ANO</th>\n",
       "      <th>CREDOR</th>\n",
       "      <th>NOME_CREDOR</th>\n",
       "      <th>DATA</th>\n",
       "      <th>DIAS</th>\n",
       "      <th>ICFEX</th>\n",
       "      <th>NOME_ICFEX</th>\n",
       "      <th>ND</th>\n",
       "      <th>NOME_ND</th>\n",
       "      <th>NDSI</th>\n",
       "      <th>NOME_NDSI</th>\n",
       "      <th>NE</th>\n",
       "      <th>PI</th>\n",
       "      <th>NOME_PI</th>\n",
       "      <th>PROGRAMA</th>\n",
       "      <th>PTRES</th>\n",
       "      <th>TIPO</th>\n",
       "      <th>TIPO_NE</th>\n",
       "      <th>LOCAL</th>\n",
       "      <th>UF_CREDOR</th>\n",
       "      <th>UF_UG</th>\n",
       "      <th>UGR</th>\n",
       "      <th>NOME_UGR</th>\n",
       "      <th>RADPI4</th>\n",
       "      <th>MEIPI3</th>\n",
       "      <th>SUFPI4</th>\n",
       "      <th>A_LIQUIDAR</th>\n",
       "      <th>LIQUIDADO_A_PAGAR</th>\n",
       "      <th>TOTAL_A_PAGAR</th>\n",
       "      <th>PAGO</th>\n",
       "    </tr>\n",
       "  </thead>\n",
       "  <tbody>\n",
       "    <tr>\n",
       "      <th>2</th>\n",
       "      <td>167129</td>\n",
       "      <td>ESA</td>\n",
       "      <td>2000</td>\n",
       "      <td>ADMINISTRACAO DA UNIDADE</td>\n",
       "      <td>2022</td>\n",
       "      <td>26669742000106</td>\n",
       "      <td>J. T. CATALDO CASTRO CRIATIVA DIGITAL</td>\n",
       "      <td>2022-11-30</td>\n",
       "      <td>308</td>\n",
       "      <td>160533</td>\n",
       "      <td>4º CGCFEX</td>\n",
       "      <td>339039</td>\n",
       "      <td>OUTROS SERVICOS DE TERCEIROS - PESSOA JURIDICA</td>\n",
       "      <td>33903963</td>\n",
       "      <td>SERVICOS GRAFICOS E EDITORIAIS</td>\n",
       "      <td>2022NE001843</td>\n",
       "      <td>C1ENCONDETM</td>\n",
       "      <td>CONCURSOS AS ESCOLAS MILITARES</td>\n",
       "      <td>0032</td>\n",
       "      <td>171502</td>\n",
       "      <td>RPNP</td>\n",
       "      <td>ORDINARIO</td>\n",
       "      <td>ESCOLA DE SARGENTOS DAS ARMAS  - AVENIDA SETE ...</td>\n",
       "      <td>RJ</td>\n",
       "      <td>MG</td>\n",
       "      <td>167503</td>\n",
       "      <td>DECEX - GESTOR</td>\n",
       "      <td>C1EN</td>\n",
       "      <td>CON</td>\n",
       "      <td>DETM</td>\n",
       "      <td>1016.25</td>\n",
       "      <td>0.0</td>\n",
       "      <td>1016.25</td>\n",
       "      <td>0.0</td>\n",
       "    </tr>\n",
       "    <tr>\n",
       "      <th>3</th>\n",
       "      <td>160129</td>\n",
       "      <td>ESA</td>\n",
       "      <td>8965</td>\n",
       "      <td>CAPACITACAO PROFISSIONAL MILITAR DO E</td>\n",
       "      <td>2022</td>\n",
       "      <td>26669742000106</td>\n",
       "      <td>J. T. CATALDO CASTRO CRIATIVA DIGITAL</td>\n",
       "      <td>2022-11-30</td>\n",
       "      <td>308</td>\n",
       "      <td>160533</td>\n",
       "      <td>4º CGCFEX</td>\n",
       "      <td>339039</td>\n",
       "      <td>OUTROS SERVICOS DE TERCEIROS - PESSOA JURIDICA</td>\n",
       "      <td>33903963</td>\n",
       "      <td>SERVICOS GRAFICOS E EDITORIAIS</td>\n",
       "      <td>2022NE002421</td>\n",
       "      <td>C4ENMILCAPE</td>\n",
       "      <td>CAPACITACAO DE PESSOAL</td>\n",
       "      <td>6012</td>\n",
       "      <td>171423</td>\n",
       "      <td>RPNP</td>\n",
       "      <td>ORDINARIO</td>\n",
       "      <td>ESCOLA DE SARGENTOS DAS ARMAS  - AVENIDA SETE ...</td>\n",
       "      <td>RJ</td>\n",
       "      <td>MG</td>\n",
       "      <td>160503</td>\n",
       "      <td>DECEX/GESTOR</td>\n",
       "      <td>C4EN</td>\n",
       "      <td>MIL</td>\n",
       "      <td>CAPE</td>\n",
       "      <td>5758.75</td>\n",
       "      <td>0.0</td>\n",
       "      <td>5758.75</td>\n",
       "      <td>0.0</td>\n",
       "    </tr>\n",
       "    <tr>\n",
       "      <th>20</th>\n",
       "      <td>160129</td>\n",
       "      <td>ESA</td>\n",
       "      <td>8965</td>\n",
       "      <td>CAPACITACAO PROFISSIONAL MILITAR DO E</td>\n",
       "      <td>2023</td>\n",
       "      <td>04087710000151</td>\n",
       "      <td>MWM ART LTDA</td>\n",
       "      <td>2023-03-08</td>\n",
       "      <td>210</td>\n",
       "      <td>160533</td>\n",
       "      <td>4º CGCFEX</td>\n",
       "      <td>339039</td>\n",
       "      <td>OUTROS SERVICOS DE TERCEIROS - PESSOA JURIDICA</td>\n",
       "      <td>33903963</td>\n",
       "      <td>SERVICOS GRAFICOS E EDITORIAIS</td>\n",
       "      <td>2023NE000206</td>\n",
       "      <td>C4ENMILCAPE</td>\n",
       "      <td>CAPACITACAO DE PESSOAL</td>\n",
       "      <td>6012</td>\n",
       "      <td>171423</td>\n",
       "      <td>ANO</td>\n",
       "      <td>ORDINARIO</td>\n",
       "      <td>ESCOLA DE SARGENTOS DAS ARMAS  - AVENIDA SETE ...</td>\n",
       "      <td>DF</td>\n",
       "      <td>MG</td>\n",
       "      <td>160503</td>\n",
       "      <td>DECEX/GESTOR</td>\n",
       "      <td>C4EN</td>\n",
       "      <td>MIL</td>\n",
       "      <td>CAPE</td>\n",
       "      <td>680.00</td>\n",
       "      <td>0.0</td>\n",
       "      <td>680.00</td>\n",
       "      <td>0.0</td>\n",
       "    </tr>\n",
       "    <tr>\n",
       "      <th>21</th>\n",
       "      <td>160129</td>\n",
       "      <td>ESA</td>\n",
       "      <td>8965</td>\n",
       "      <td>CAPACITACAO PROFISSIONAL MILITAR DO E</td>\n",
       "      <td>2023</td>\n",
       "      <td>13759849000195</td>\n",
       "      <td>INDUSTRIA FENIX CORTE A LASER LTDA</td>\n",
       "      <td>2023-03-08</td>\n",
       "      <td>210</td>\n",
       "      <td>160533</td>\n",
       "      <td>4º CGCFEX</td>\n",
       "      <td>339039</td>\n",
       "      <td>OUTROS SERVICOS DE TERCEIROS - PESSOA JURIDICA</td>\n",
       "      <td>33903963</td>\n",
       "      <td>SERVICOS GRAFICOS E EDITORIAIS</td>\n",
       "      <td>2023NE000208</td>\n",
       "      <td>C4ENMILCAPE</td>\n",
       "      <td>CAPACITACAO DE PESSOAL</td>\n",
       "      <td>6012</td>\n",
       "      <td>171423</td>\n",
       "      <td>ANO</td>\n",
       "      <td>ORDINARIO</td>\n",
       "      <td>ESCOLA DE SARGENTOS DAS ARMAS  - AVENIDA SETE ...</td>\n",
       "      <td>SP</td>\n",
       "      <td>MG</td>\n",
       "      <td>160503</td>\n",
       "      <td>DECEX/GESTOR</td>\n",
       "      <td>C4EN</td>\n",
       "      <td>MIL</td>\n",
       "      <td>CAPE</td>\n",
       "      <td>3280.00</td>\n",
       "      <td>0.0</td>\n",
       "      <td>3280.00</td>\n",
       "      <td>0.0</td>\n",
       "    </tr>\n",
       "    <tr>\n",
       "      <th>31</th>\n",
       "      <td>160129</td>\n",
       "      <td>ESA</td>\n",
       "      <td>21A0</td>\n",
       "      <td>APRESTAMENTO DAS FORCAS</td>\n",
       "      <td>2023</td>\n",
       "      <td>08593332000139</td>\n",
       "      <td>EQUALLI SERVICOS VETERINARIOS LTDA</td>\n",
       "      <td>2023-04-14</td>\n",
       "      <td>173</td>\n",
       "      <td>160533</td>\n",
       "      <td>4º CGCFEX</td>\n",
       "      <td>339039</td>\n",
       "      <td>OUTROS SERVICOS DE TERCEIROS - PESSOA JURIDICA</td>\n",
       "      <td>33903950</td>\n",
       "      <td>SERV.MEDICO-HOSPITAL.,ODONTOL.E LABORATORIAIS</td>\n",
       "      <td>2023NE000377</td>\n",
       "      <td>E6RVPLJMTOE</td>\n",
       "      <td>MEDIDAS PROFILÁT SAÚDE EQUINOS</td>\n",
       "      <td>6012</td>\n",
       "      <td>193910</td>\n",
       "      <td>ANO</td>\n",
       "      <td>ORDINARIO</td>\n",
       "      <td>ESCOLA DE SARGENTOS DAS ARMAS  - AVENIDA SETE ...</td>\n",
       "      <td>SP</td>\n",
       "      <td>MG</td>\n",
       "      <td>160504</td>\n",
       "      <td>COEX/GESTOR</td>\n",
       "      <td>E6RV</td>\n",
       "      <td>PLJ</td>\n",
       "      <td>MTOE</td>\n",
       "      <td>480.00</td>\n",
       "      <td>0.0</td>\n",
       "      <td>480.00</td>\n",
       "      <td>0.0</td>\n",
       "    </tr>\n",
       "    <tr>\n",
       "      <th>35</th>\n",
       "      <td>160129</td>\n",
       "      <td>ESA</td>\n",
       "      <td>8965</td>\n",
       "      <td>CAPACITACAO PROFISSIONAL MILITAR DO E</td>\n",
       "      <td>2023</td>\n",
       "      <td>38680138000151</td>\n",
       "      <td>GESMAQ COMERCIO E SERVICOS LTDA</td>\n",
       "      <td>2023-05-05</td>\n",
       "      <td>152</td>\n",
       "      <td>160533</td>\n",
       "      <td>4º CGCFEX</td>\n",
       "      <td>339039</td>\n",
       "      <td>OUTROS SERVICOS DE TERCEIROS - PESSOA JURIDICA</td>\n",
       "      <td>33903917</td>\n",
       "      <td>MANUT. E CONSERV. DE MAQUINAS E EQUIPAMENTOS</td>\n",
       "      <td>2023NE000491</td>\n",
       "      <td>C4ENMILCAPE</td>\n",
       "      <td>CAPACITACAO DE PESSOAL</td>\n",
       "      <td>6012</td>\n",
       "      <td>171423</td>\n",
       "      <td>ANO</td>\n",
       "      <td>ORDINARIO</td>\n",
       "      <td>ESCOLA DE SARGENTOS DAS ARMAS  - AVENIDA SETE ...</td>\n",
       "      <td>MG</td>\n",
       "      <td>MG</td>\n",
       "      <td>160503</td>\n",
       "      <td>DECEX/GESTOR</td>\n",
       "      <td>C4EN</td>\n",
       "      <td>MIL</td>\n",
       "      <td>CAPE</td>\n",
       "      <td>480.00</td>\n",
       "      <td>0.0</td>\n",
       "      <td>480.00</td>\n",
       "      <td>0.0</td>\n",
       "    </tr>\n",
       "    <tr>\n",
       "      <th>37</th>\n",
       "      <td>160129</td>\n",
       "      <td>ESA</td>\n",
       "      <td>8965</td>\n",
       "      <td>CAPACITACAO PROFISSIONAL MILITAR DO E</td>\n",
       "      <td>2023</td>\n",
       "      <td>92221589000176</td>\n",
       "      <td>IRMAOS KOPERECK LTDA</td>\n",
       "      <td>2023-05-18</td>\n",
       "      <td>139</td>\n",
       "      <td>160533</td>\n",
       "      <td>4º CGCFEX</td>\n",
       "      <td>339033</td>\n",
       "      <td>PASSAGENS E DESPESAS COM LOCOMOCAO</td>\n",
       "      <td>33903309</td>\n",
       "      <td>TRANSPORTE DE SERVIDORES</td>\n",
       "      <td>2023NE000526</td>\n",
       "      <td>C4ENMILCAPE</td>\n",
       "      <td>CAPACITACAO DE PESSOAL</td>\n",
       "      <td>6012</td>\n",
       "      <td>171423</td>\n",
       "      <td>ANO</td>\n",
       "      <td>ORDINARIO</td>\n",
       "      <td>ESCOLA DE SARGENTOS DAS ARMAS  - AVENIDA SETE ...</td>\n",
       "      <td>RS</td>\n",
       "      <td>MG</td>\n",
       "      <td>160503</td>\n",
       "      <td>DECEX/GESTOR</td>\n",
       "      <td>C4EN</td>\n",
       "      <td>MIL</td>\n",
       "      <td>CAPE</td>\n",
       "      <td>86451.40</td>\n",
       "      <td>0.0</td>\n",
       "      <td>86451.40</td>\n",
       "      <td>0.0</td>\n",
       "    </tr>\n",
       "    <tr>\n",
       "      <th>51</th>\n",
       "      <td>160129</td>\n",
       "      <td>ESA</td>\n",
       "      <td>2000</td>\n",
       "      <td>ADMINISTRACAO DA UNIDADE</td>\n",
       "      <td>2023</td>\n",
       "      <td>11532912000120</td>\n",
       "      <td>RONALDO RIBEIRO VIEIRA 79989918600</td>\n",
       "      <td>2023-06-29</td>\n",
       "      <td>97</td>\n",
       "      <td>160533</td>\n",
       "      <td>4º CGCFEX</td>\n",
       "      <td>339039</td>\n",
       "      <td>OUTROS SERVICOS DE TERCEIROS - PESSOA JURIDICA</td>\n",
       "      <td>33903920</td>\n",
       "      <td>MANUT.E CONS.DE B.MOVEIS DE OUTRAS NATUREZAS</td>\n",
       "      <td>2023NE000787</td>\n",
       "      <td>I3DAFUNADOM</td>\n",
       "      <td>ADMINISTRACAO DE OM</td>\n",
       "      <td>0032</td>\n",
       "      <td>171460</td>\n",
       "      <td>ANO</td>\n",
       "      <td>ORDINARIO</td>\n",
       "      <td>ESCOLA DE SARGENTOS DAS ARMAS  - AVENIDA SETE ...</td>\n",
       "      <td>MG</td>\n",
       "      <td>MG</td>\n",
       "      <td>160073</td>\n",
       "      <td>DGO</td>\n",
       "      <td>I3DA</td>\n",
       "      <td>FUN</td>\n",
       "      <td>ADOM</td>\n",
       "      <td>1091.00</td>\n",
       "      <td>0.0</td>\n",
       "      <td>1091.00</td>\n",
       "      <td>0.0</td>\n",
       "    </tr>\n",
       "    <tr>\n",
       "      <th>60</th>\n",
       "      <td>160129</td>\n",
       "      <td>ESA</td>\n",
       "      <td>8965</td>\n",
       "      <td>CAPACITACAO PROFISSIONAL MILITAR DO E</td>\n",
       "      <td>2023</td>\n",
       "      <td>28683271000108</td>\n",
       "      <td>C.H.QUEIROZ PECAS E ACESSORIOS LTDA</td>\n",
       "      <td>2023-07-14</td>\n",
       "      <td>82</td>\n",
       "      <td>160533</td>\n",
       "      <td>4º CGCFEX</td>\n",
       "      <td>339031</td>\n",
       "      <td>PREMIACOES CULT., ART., CIENT., DESP. E OUTR.</td>\n",
       "      <td>33903101</td>\n",
       "      <td>PREMIACOES CULTURAIS</td>\n",
       "      <td>2023NE000877</td>\n",
       "      <td>C4ENMILCAPE</td>\n",
       "      <td>CAPACITACAO DE PESSOAL</td>\n",
       "      <td>6012</td>\n",
       "      <td>171423</td>\n",
       "      <td>ANO</td>\n",
       "      <td>ORDINARIO</td>\n",
       "      <td>ESCOLA DE SARGENTOS DAS ARMAS  - AVENIDA SETE ...</td>\n",
       "      <td>PR</td>\n",
       "      <td>MG</td>\n",
       "      <td>160503</td>\n",
       "      <td>DECEX/GESTOR</td>\n",
       "      <td>C4EN</td>\n",
       "      <td>MIL</td>\n",
       "      <td>CAPE</td>\n",
       "      <td>2992.60</td>\n",
       "      <td>0.0</td>\n",
       "      <td>2992.60</td>\n",
       "      <td>0.0</td>\n",
       "    </tr>\n",
       "    <tr>\n",
       "      <th>73</th>\n",
       "      <td>167129</td>\n",
       "      <td>ESA</td>\n",
       "      <td>2919</td>\n",
       "      <td>REGISTRO E FISCALIZACAO DE PRODUTOS C</td>\n",
       "      <td>2023</td>\n",
       "      <td>11768653000131</td>\n",
       "      <td>SAMUEL GARCIA DE OLIVEIRA</td>\n",
       "      <td>2023-08-09</td>\n",
       "      <td>56</td>\n",
       "      <td>160533</td>\n",
       "      <td>4º CGCFEX</td>\n",
       "      <td>339039</td>\n",
       "      <td>OUTROS SERVICOS DE TERCEIROS - PESSOA JURIDICA</td>\n",
       "      <td>33903916</td>\n",
       "      <td>MANUTENCAO E CONSERV. DE BENS IMOVEIS</td>\n",
       "      <td>2023NE001399</td>\n",
       "      <td>E3PCFSCMAIN</td>\n",
       "      <td>MANUTENCAO DE INSTALACOES</td>\n",
       "      <td>6012</td>\n",
       "      <td>215839</td>\n",
       "      <td>ANO</td>\n",
       "      <td>ORDINARIO</td>\n",
       "      <td>ESCOLA DE SARGENTOS DAS ARMAS  - AVENIDA SETE ...</td>\n",
       "      <td>MG</td>\n",
       "      <td>MG</td>\n",
       "      <td>167504</td>\n",
       "      <td>COEX - GESTOR</td>\n",
       "      <td>E3PC</td>\n",
       "      <td>FSC</td>\n",
       "      <td>MAIN</td>\n",
       "      <td>9860.00</td>\n",
       "      <td>0.0</td>\n",
       "      <td>9860.00</td>\n",
       "      <td>0.0</td>\n",
       "    </tr>\n",
       "    <tr>\n",
       "      <th>79</th>\n",
       "      <td>160129</td>\n",
       "      <td>ESA</td>\n",
       "      <td>2000</td>\n",
       "      <td>ADMINISTRACAO DA UNIDADE</td>\n",
       "      <td>2023</td>\n",
       "      <td>23178866000192</td>\n",
       "      <td>OPPORTUNITAT COMERCIO E SERVICOS LTDA</td>\n",
       "      <td>2023-08-21</td>\n",
       "      <td>44</td>\n",
       "      <td>160533</td>\n",
       "      <td>4º CGCFEX</td>\n",
       "      <td>339039</td>\n",
       "      <td>OUTROS SERVICOS DE TERCEIROS - PESSOA JURIDICA</td>\n",
       "      <td>33903920</td>\n",
       "      <td>MANUT.E CONS.DE B.MOVEIS DE OUTRAS NATUREZAS</td>\n",
       "      <td>2023NE001035</td>\n",
       "      <td>I3DAFUNADOM</td>\n",
       "      <td>ADMINISTRACAO DE OM</td>\n",
       "      <td>0032</td>\n",
       "      <td>171460</td>\n",
       "      <td>ANO</td>\n",
       "      <td>ORDINARIO</td>\n",
       "      <td>ESCOLA DE SARGENTOS DAS ARMAS  - AVENIDA SETE ...</td>\n",
       "      <td>MG</td>\n",
       "      <td>MG</td>\n",
       "      <td>160073</td>\n",
       "      <td>DGO</td>\n",
       "      <td>I3DA</td>\n",
       "      <td>FUN</td>\n",
       "      <td>ADOM</td>\n",
       "      <td>8675.00</td>\n",
       "      <td>0.0</td>\n",
       "      <td>8675.00</td>\n",
       "      <td>0.0</td>\n",
       "    </tr>\n",
       "    <tr>\n",
       "      <th>200</th>\n",
       "      <td>167129</td>\n",
       "      <td>ESA</td>\n",
       "      <td>2000</td>\n",
       "      <td>ADMINISTRACAO DA UNIDADE</td>\n",
       "      <td>2023</td>\n",
       "      <td>06307463000187</td>\n",
       "      <td>GUSMAO E SILVA AUTOPECAS E SERVICOS LTDA</td>\n",
       "      <td>2023-09-27</td>\n",
       "      <td>7</td>\n",
       "      <td>160533</td>\n",
       "      <td>4º CGCFEX</td>\n",
       "      <td>339039</td>\n",
       "      <td>OUTROS SERVICOS DE TERCEIROS - PESSOA JURIDICA</td>\n",
       "      <td>33903919</td>\n",
       "      <td>MANUTENCAO E CONSERV. DE VEICULOS</td>\n",
       "      <td>2023NE001602</td>\n",
       "      <td>C1ENCONDETM</td>\n",
       "      <td>CONCURSOS AS ESCOLAS MILITARES</td>\n",
       "      <td>0032</td>\n",
       "      <td>171502</td>\n",
       "      <td>ANO</td>\n",
       "      <td>ORDINARIO</td>\n",
       "      <td>ESCOLA DE SARGENTOS DAS ARMAS</td>\n",
       "      <td>RJ</td>\n",
       "      <td>MG</td>\n",
       "      <td>167503</td>\n",
       "      <td>DECEX - GESTOR</td>\n",
       "      <td>C1EN</td>\n",
       "      <td>CON</td>\n",
       "      <td>DETM</td>\n",
       "      <td>1680.00</td>\n",
       "      <td>0.0</td>\n",
       "      <td>1680.00</td>\n",
       "      <td>0.0</td>\n",
       "    </tr>\n",
       "    <tr>\n",
       "      <th>201</th>\n",
       "      <td>167129</td>\n",
       "      <td>ESA</td>\n",
       "      <td>2000</td>\n",
       "      <td>ADMINISTRACAO DA UNIDADE</td>\n",
       "      <td>2023</td>\n",
       "      <td>08907476000112</td>\n",
       "      <td>AUTO PECAS E SERVICOS MECANICOS PLAYCAR LTDA</td>\n",
       "      <td>2023-09-27</td>\n",
       "      <td>7</td>\n",
       "      <td>160533</td>\n",
       "      <td>4º CGCFEX</td>\n",
       "      <td>339039</td>\n",
       "      <td>OUTROS SERVICOS DE TERCEIROS - PESSOA JURIDICA</td>\n",
       "      <td>33903919</td>\n",
       "      <td>MANUTENCAO E CONSERV. DE VEICULOS</td>\n",
       "      <td>2023NE001604</td>\n",
       "      <td>C1ENCONDETM</td>\n",
       "      <td>CONCURSOS AS ESCOLAS MILITARES</td>\n",
       "      <td>0032</td>\n",
       "      <td>171502</td>\n",
       "      <td>ANO</td>\n",
       "      <td>ORDINARIO</td>\n",
       "      <td>ESCOLA DE SARGENTOS DAS ARMAS</td>\n",
       "      <td>DF</td>\n",
       "      <td>MG</td>\n",
       "      <td>167503</td>\n",
       "      <td>DECEX - GESTOR</td>\n",
       "      <td>C1EN</td>\n",
       "      <td>CON</td>\n",
       "      <td>DETM</td>\n",
       "      <td>1003.00</td>\n",
       "      <td>0.0</td>\n",
       "      <td>1003.00</td>\n",
       "      <td>0.0</td>\n",
       "    </tr>\n",
       "    <tr>\n",
       "      <th>202</th>\n",
       "      <td>167129</td>\n",
       "      <td>ESA</td>\n",
       "      <td>2000</td>\n",
       "      <td>ADMINISTRACAO DA UNIDADE</td>\n",
       "      <td>2023</td>\n",
       "      <td>58512096000157</td>\n",
       "      <td>TRATORTEC PECAS E SERVICOS PARA TRATORES LTDA</td>\n",
       "      <td>2023-09-27</td>\n",
       "      <td>7</td>\n",
       "      <td>160533</td>\n",
       "      <td>4º CGCFEX</td>\n",
       "      <td>339039</td>\n",
       "      <td>OUTROS SERVICOS DE TERCEIROS - PESSOA JURIDICA</td>\n",
       "      <td>33903919</td>\n",
       "      <td>MANUTENCAO E CONSERV. DE VEICULOS</td>\n",
       "      <td>2023NE001603</td>\n",
       "      <td>C1ENCONDETM</td>\n",
       "      <td>CONCURSOS AS ESCOLAS MILITARES</td>\n",
       "      <td>0032</td>\n",
       "      <td>171502</td>\n",
       "      <td>ANO</td>\n",
       "      <td>ORDINARIO</td>\n",
       "      <td>ESCOLA DE SARGENTOS DAS ARMAS</td>\n",
       "      <td>SP</td>\n",
       "      <td>MG</td>\n",
       "      <td>167503</td>\n",
       "      <td>DECEX - GESTOR</td>\n",
       "      <td>C1EN</td>\n",
       "      <td>CON</td>\n",
       "      <td>DETM</td>\n",
       "      <td>620.00</td>\n",
       "      <td>0.0</td>\n",
       "      <td>620.00</td>\n",
       "      <td>0.0</td>\n",
       "    </tr>\n",
       "    <tr>\n",
       "      <th>203</th>\n",
       "      <td>167129</td>\n",
       "      <td>ESA</td>\n",
       "      <td>2000</td>\n",
       "      <td>ADMINISTRACAO DA UNIDADE</td>\n",
       "      <td>2023</td>\n",
       "      <td>19116488000145</td>\n",
       "      <td>PARTS LUB DISTRIBUIDORA E SERVICOS LTDA</td>\n",
       "      <td>2023-09-27</td>\n",
       "      <td>7</td>\n",
       "      <td>160533</td>\n",
       "      <td>4º CGCFEX</td>\n",
       "      <td>339039</td>\n",
       "      <td>OUTROS SERVICOS DE TERCEIROS - PESSOA JURIDICA</td>\n",
       "      <td>33903919</td>\n",
       "      <td>MANUTENCAO E CONSERV. DE VEICULOS</td>\n",
       "      <td>2023NE001600</td>\n",
       "      <td>C1ENCONDETM</td>\n",
       "      <td>CONCURSOS AS ESCOLAS MILITARES</td>\n",
       "      <td>0032</td>\n",
       "      <td>171502</td>\n",
       "      <td>ANO</td>\n",
       "      <td>ORDINARIO</td>\n",
       "      <td>ESCOLA DE SARGENTOS DAS ARMAS</td>\n",
       "      <td>SP</td>\n",
       "      <td>MG</td>\n",
       "      <td>167503</td>\n",
       "      <td>DECEX - GESTOR</td>\n",
       "      <td>C1EN</td>\n",
       "      <td>CON</td>\n",
       "      <td>DETM</td>\n",
       "      <td>1170.00</td>\n",
       "      <td>0.0</td>\n",
       "      <td>1170.00</td>\n",
       "      <td>0.0</td>\n",
       "    </tr>\n",
       "    <tr>\n",
       "      <th>205</th>\n",
       "      <td>160129</td>\n",
       "      <td>ESA</td>\n",
       "      <td>2000</td>\n",
       "      <td>ADMINISTRACAO DA UNIDADE</td>\n",
       "      <td>2023</td>\n",
       "      <td>53202768000104</td>\n",
       "      <td>TOALL COMERCIO E SERVICOS LTDA.</td>\n",
       "      <td>2023-09-29</td>\n",
       "      <td>5</td>\n",
       "      <td>160533</td>\n",
       "      <td>4º CGCFEX</td>\n",
       "      <td>339039</td>\n",
       "      <td>OUTROS SERVICOS DE TERCEIROS - PESSOA JURIDICA</td>\n",
       "      <td>33903916</td>\n",
       "      <td>MANUTENCAO E CONSERV. DE BENS IMOVEIS</td>\n",
       "      <td>2023NE001202</td>\n",
       "      <td>I3DAFUNADOM</td>\n",
       "      <td>ADMINISTRACAO DE OM</td>\n",
       "      <td>0032</td>\n",
       "      <td>171460</td>\n",
       "      <td>ANO</td>\n",
       "      <td>ORDINARIO</td>\n",
       "      <td>ESCOLA DE SARGENTOS DAS ARMAS  - AVENIDA SETE ...</td>\n",
       "      <td>SP</td>\n",
       "      <td>MG</td>\n",
       "      <td>160073</td>\n",
       "      <td>DGO</td>\n",
       "      <td>I3DA</td>\n",
       "      <td>FUN</td>\n",
       "      <td>ADOM</td>\n",
       "      <td>4318.10</td>\n",
       "      <td>0.0</td>\n",
       "      <td>4318.10</td>\n",
       "      <td>0.0</td>\n",
       "    </tr>\n",
       "  </tbody>\n",
       "</table>\n",
       "</div>"
      ],
      "text/plain": [
       "         UG SIGLA UG  ACAO                              NOME_ACAO   ANO  \\\n",
       "2    167129      ESA  2000               ADMINISTRACAO DA UNIDADE  2022   \n",
       "3    160129      ESA  8965  CAPACITACAO PROFISSIONAL MILITAR DO E  2022   \n",
       "20   160129      ESA  8965  CAPACITACAO PROFISSIONAL MILITAR DO E  2023   \n",
       "21   160129      ESA  8965  CAPACITACAO PROFISSIONAL MILITAR DO E  2023   \n",
       "31   160129      ESA  21A0                APRESTAMENTO DAS FORCAS  2023   \n",
       "35   160129      ESA  8965  CAPACITACAO PROFISSIONAL MILITAR DO E  2023   \n",
       "37   160129      ESA  8965  CAPACITACAO PROFISSIONAL MILITAR DO E  2023   \n",
       "51   160129      ESA  2000               ADMINISTRACAO DA UNIDADE  2023   \n",
       "60   160129      ESA  8965  CAPACITACAO PROFISSIONAL MILITAR DO E  2023   \n",
       "73   167129      ESA  2919  REGISTRO E FISCALIZACAO DE PRODUTOS C  2023   \n",
       "79   160129      ESA  2000               ADMINISTRACAO DA UNIDADE  2023   \n",
       "200  167129      ESA  2000               ADMINISTRACAO DA UNIDADE  2023   \n",
       "201  167129      ESA  2000               ADMINISTRACAO DA UNIDADE  2023   \n",
       "202  167129      ESA  2000               ADMINISTRACAO DA UNIDADE  2023   \n",
       "203  167129      ESA  2000               ADMINISTRACAO DA UNIDADE  2023   \n",
       "205  160129      ESA  2000               ADMINISTRACAO DA UNIDADE  2023   \n",
       "\n",
       "             CREDOR                                    NOME_CREDOR       DATA  \\\n",
       "2    26669742000106          J. T. CATALDO CASTRO CRIATIVA DIGITAL 2022-11-30   \n",
       "3    26669742000106          J. T. CATALDO CASTRO CRIATIVA DIGITAL 2022-11-30   \n",
       "20   04087710000151                                   MWM ART LTDA 2023-03-08   \n",
       "21   13759849000195             INDUSTRIA FENIX CORTE A LASER LTDA 2023-03-08   \n",
       "31   08593332000139             EQUALLI SERVICOS VETERINARIOS LTDA 2023-04-14   \n",
       "35   38680138000151                GESMAQ COMERCIO E SERVICOS LTDA 2023-05-05   \n",
       "37   92221589000176                           IRMAOS KOPERECK LTDA 2023-05-18   \n",
       "51   11532912000120             RONALDO RIBEIRO VIEIRA 79989918600 2023-06-29   \n",
       "60   28683271000108            C.H.QUEIROZ PECAS E ACESSORIOS LTDA 2023-07-14   \n",
       "73   11768653000131                      SAMUEL GARCIA DE OLIVEIRA 2023-08-09   \n",
       "79   23178866000192          OPPORTUNITAT COMERCIO E SERVICOS LTDA 2023-08-21   \n",
       "200  06307463000187       GUSMAO E SILVA AUTOPECAS E SERVICOS LTDA 2023-09-27   \n",
       "201  08907476000112   AUTO PECAS E SERVICOS MECANICOS PLAYCAR LTDA 2023-09-27   \n",
       "202  58512096000157  TRATORTEC PECAS E SERVICOS PARA TRATORES LTDA 2023-09-27   \n",
       "203  19116488000145        PARTS LUB DISTRIBUIDORA E SERVICOS LTDA 2023-09-27   \n",
       "205  53202768000104                TOALL COMERCIO E SERVICOS LTDA. 2023-09-29   \n",
       "\n",
       "     DIAS   ICFEX NOME_ICFEX      ND  \\\n",
       "2     308  160533  4º CGCFEX  339039   \n",
       "3     308  160533  4º CGCFEX  339039   \n",
       "20    210  160533  4º CGCFEX  339039   \n",
       "21    210  160533  4º CGCFEX  339039   \n",
       "31    173  160533  4º CGCFEX  339039   \n",
       "35    152  160533  4º CGCFEX  339039   \n",
       "37    139  160533  4º CGCFEX  339033   \n",
       "51     97  160533  4º CGCFEX  339039   \n",
       "60     82  160533  4º CGCFEX  339031   \n",
       "73     56  160533  4º CGCFEX  339039   \n",
       "79     44  160533  4º CGCFEX  339039   \n",
       "200     7  160533  4º CGCFEX  339039   \n",
       "201     7  160533  4º CGCFEX  339039   \n",
       "202     7  160533  4º CGCFEX  339039   \n",
       "203     7  160533  4º CGCFEX  339039   \n",
       "205     5  160533  4º CGCFEX  339039   \n",
       "\n",
       "                                            NOME_ND      NDSI  \\\n",
       "2    OUTROS SERVICOS DE TERCEIROS - PESSOA JURIDICA  33903963   \n",
       "3    OUTROS SERVICOS DE TERCEIROS - PESSOA JURIDICA  33903963   \n",
       "20   OUTROS SERVICOS DE TERCEIROS - PESSOA JURIDICA  33903963   \n",
       "21   OUTROS SERVICOS DE TERCEIROS - PESSOA JURIDICA  33903963   \n",
       "31   OUTROS SERVICOS DE TERCEIROS - PESSOA JURIDICA  33903950   \n",
       "35   OUTROS SERVICOS DE TERCEIROS - PESSOA JURIDICA  33903917   \n",
       "37               PASSAGENS E DESPESAS COM LOCOMOCAO  33903309   \n",
       "51   OUTROS SERVICOS DE TERCEIROS - PESSOA JURIDICA  33903920   \n",
       "60    PREMIACOES CULT., ART., CIENT., DESP. E OUTR.  33903101   \n",
       "73   OUTROS SERVICOS DE TERCEIROS - PESSOA JURIDICA  33903916   \n",
       "79   OUTROS SERVICOS DE TERCEIROS - PESSOA JURIDICA  33903920   \n",
       "200  OUTROS SERVICOS DE TERCEIROS - PESSOA JURIDICA  33903919   \n",
       "201  OUTROS SERVICOS DE TERCEIROS - PESSOA JURIDICA  33903919   \n",
       "202  OUTROS SERVICOS DE TERCEIROS - PESSOA JURIDICA  33903919   \n",
       "203  OUTROS SERVICOS DE TERCEIROS - PESSOA JURIDICA  33903919   \n",
       "205  OUTROS SERVICOS DE TERCEIROS - PESSOA JURIDICA  33903916   \n",
       "\n",
       "                                         NOME_NDSI            NE           PI  \\\n",
       "2                   SERVICOS GRAFICOS E EDITORIAIS  2022NE001843  C1ENCONDETM   \n",
       "3                   SERVICOS GRAFICOS E EDITORIAIS  2022NE002421  C4ENMILCAPE   \n",
       "20                  SERVICOS GRAFICOS E EDITORIAIS  2023NE000206  C4ENMILCAPE   \n",
       "21                  SERVICOS GRAFICOS E EDITORIAIS  2023NE000208  C4ENMILCAPE   \n",
       "31   SERV.MEDICO-HOSPITAL.,ODONTOL.E LABORATORIAIS  2023NE000377  E6RVPLJMTOE   \n",
       "35    MANUT. E CONSERV. DE MAQUINAS E EQUIPAMENTOS  2023NE000491  C4ENMILCAPE   \n",
       "37                        TRANSPORTE DE SERVIDORES  2023NE000526  C4ENMILCAPE   \n",
       "51    MANUT.E CONS.DE B.MOVEIS DE OUTRAS NATUREZAS  2023NE000787  I3DAFUNADOM   \n",
       "60                            PREMIACOES CULTURAIS  2023NE000877  C4ENMILCAPE   \n",
       "73           MANUTENCAO E CONSERV. DE BENS IMOVEIS  2023NE001399  E3PCFSCMAIN   \n",
       "79    MANUT.E CONS.DE B.MOVEIS DE OUTRAS NATUREZAS  2023NE001035  I3DAFUNADOM   \n",
       "200              MANUTENCAO E CONSERV. DE VEICULOS  2023NE001602  C1ENCONDETM   \n",
       "201              MANUTENCAO E CONSERV. DE VEICULOS  2023NE001604  C1ENCONDETM   \n",
       "202              MANUTENCAO E CONSERV. DE VEICULOS  2023NE001603  C1ENCONDETM   \n",
       "203              MANUTENCAO E CONSERV. DE VEICULOS  2023NE001600  C1ENCONDETM   \n",
       "205          MANUTENCAO E CONSERV. DE BENS IMOVEIS  2023NE001202  I3DAFUNADOM   \n",
       "\n",
       "                            NOME_PI PROGRAMA   PTRES  TIPO    TIPO_NE  \\\n",
       "2    CONCURSOS AS ESCOLAS MILITARES     0032  171502  RPNP  ORDINARIO   \n",
       "3            CAPACITACAO DE PESSOAL     6012  171423  RPNP  ORDINARIO   \n",
       "20           CAPACITACAO DE PESSOAL     6012  171423   ANO  ORDINARIO   \n",
       "21           CAPACITACAO DE PESSOAL     6012  171423   ANO  ORDINARIO   \n",
       "31   MEDIDAS PROFILÁT SAÚDE EQUINOS     6012  193910   ANO  ORDINARIO   \n",
       "35           CAPACITACAO DE PESSOAL     6012  171423   ANO  ORDINARIO   \n",
       "37           CAPACITACAO DE PESSOAL     6012  171423   ANO  ORDINARIO   \n",
       "51              ADMINISTRACAO DE OM     0032  171460   ANO  ORDINARIO   \n",
       "60           CAPACITACAO DE PESSOAL     6012  171423   ANO  ORDINARIO   \n",
       "73        MANUTENCAO DE INSTALACOES     6012  215839   ANO  ORDINARIO   \n",
       "79              ADMINISTRACAO DE OM     0032  171460   ANO  ORDINARIO   \n",
       "200  CONCURSOS AS ESCOLAS MILITARES     0032  171502   ANO  ORDINARIO   \n",
       "201  CONCURSOS AS ESCOLAS MILITARES     0032  171502   ANO  ORDINARIO   \n",
       "202  CONCURSOS AS ESCOLAS MILITARES     0032  171502   ANO  ORDINARIO   \n",
       "203  CONCURSOS AS ESCOLAS MILITARES     0032  171502   ANO  ORDINARIO   \n",
       "205             ADMINISTRACAO DE OM     0032  171460   ANO  ORDINARIO   \n",
       "\n",
       "                                                 LOCAL UF_CREDOR UF_UG  \\\n",
       "2    ESCOLA DE SARGENTOS DAS ARMAS  - AVENIDA SETE ...        RJ    MG   \n",
       "3    ESCOLA DE SARGENTOS DAS ARMAS  - AVENIDA SETE ...        RJ    MG   \n",
       "20   ESCOLA DE SARGENTOS DAS ARMAS  - AVENIDA SETE ...        DF    MG   \n",
       "21   ESCOLA DE SARGENTOS DAS ARMAS  - AVENIDA SETE ...        SP    MG   \n",
       "31   ESCOLA DE SARGENTOS DAS ARMAS  - AVENIDA SETE ...        SP    MG   \n",
       "35   ESCOLA DE SARGENTOS DAS ARMAS  - AVENIDA SETE ...        MG    MG   \n",
       "37   ESCOLA DE SARGENTOS DAS ARMAS  - AVENIDA SETE ...        RS    MG   \n",
       "51   ESCOLA DE SARGENTOS DAS ARMAS  - AVENIDA SETE ...        MG    MG   \n",
       "60   ESCOLA DE SARGENTOS DAS ARMAS  - AVENIDA SETE ...        PR    MG   \n",
       "73   ESCOLA DE SARGENTOS DAS ARMAS  - AVENIDA SETE ...        MG    MG   \n",
       "79   ESCOLA DE SARGENTOS DAS ARMAS  - AVENIDA SETE ...        MG    MG   \n",
       "200                      ESCOLA DE SARGENTOS DAS ARMAS        RJ    MG   \n",
       "201                      ESCOLA DE SARGENTOS DAS ARMAS        DF    MG   \n",
       "202                      ESCOLA DE SARGENTOS DAS ARMAS        SP    MG   \n",
       "203                      ESCOLA DE SARGENTOS DAS ARMAS        SP    MG   \n",
       "205  ESCOLA DE SARGENTOS DAS ARMAS  - AVENIDA SETE ...        SP    MG   \n",
       "\n",
       "        UGR        NOME_UGR RADPI4 MEIPI3 SUFPI4  A_LIQUIDAR  \\\n",
       "2    167503  DECEX - GESTOR   C1EN    CON   DETM     1016.25   \n",
       "3    160503    DECEX/GESTOR   C4EN    MIL   CAPE     5758.75   \n",
       "20   160503    DECEX/GESTOR   C4EN    MIL   CAPE      680.00   \n",
       "21   160503    DECEX/GESTOR   C4EN    MIL   CAPE     3280.00   \n",
       "31   160504     COEX/GESTOR   E6RV    PLJ   MTOE      480.00   \n",
       "35   160503    DECEX/GESTOR   C4EN    MIL   CAPE      480.00   \n",
       "37   160503    DECEX/GESTOR   C4EN    MIL   CAPE    86451.40   \n",
       "51   160073             DGO   I3DA    FUN   ADOM     1091.00   \n",
       "60   160503    DECEX/GESTOR   C4EN    MIL   CAPE     2992.60   \n",
       "73   167504   COEX - GESTOR   E3PC    FSC   MAIN     9860.00   \n",
       "79   160073             DGO   I3DA    FUN   ADOM     8675.00   \n",
       "200  167503  DECEX - GESTOR   C1EN    CON   DETM     1680.00   \n",
       "201  167503  DECEX - GESTOR   C1EN    CON   DETM     1003.00   \n",
       "202  167503  DECEX - GESTOR   C1EN    CON   DETM      620.00   \n",
       "203  167503  DECEX - GESTOR   C1EN    CON   DETM     1170.00   \n",
       "205  160073             DGO   I3DA    FUN   ADOM     4318.10   \n",
       "\n",
       "     LIQUIDADO_A_PAGAR  TOTAL_A_PAGAR  PAGO  \n",
       "2                  0.0        1016.25   0.0  \n",
       "3                  0.0        5758.75   0.0  \n",
       "20                 0.0         680.00   0.0  \n",
       "21                 0.0        3280.00   0.0  \n",
       "31                 0.0         480.00   0.0  \n",
       "35                 0.0         480.00   0.0  \n",
       "37                 0.0       86451.40   0.0  \n",
       "51                 0.0        1091.00   0.0  \n",
       "60                 0.0        2992.60   0.0  \n",
       "73                 0.0        9860.00   0.0  \n",
       "79                 0.0        8675.00   0.0  \n",
       "200                0.0        1680.00   0.0  \n",
       "201                0.0        1003.00   0.0  \n",
       "202                0.0         620.00   0.0  \n",
       "203                0.0        1170.00   0.0  \n",
       "205                0.0        4318.10   0.0  "
      ]
     },
     "execution_count": 19,
     "metadata": {},
     "output_type": "execute_result"
    }
   ],
   "source": [
    "# Filtro para empenhos ordinários\n",
    "df_estudo[df_estudo['TIPO_NE'] == 'ORDINARIO']"
   ]
  },
  {
   "cell_type": "code",
   "execution_count": 20,
   "metadata": {},
   "outputs": [
    {
     "data": {
      "text/html": [
       "<div>\n",
       "<style scoped>\n",
       "    .dataframe tbody tr th:only-of-type {\n",
       "        vertical-align: middle;\n",
       "    }\n",
       "\n",
       "    .dataframe tbody tr th {\n",
       "        vertical-align: top;\n",
       "    }\n",
       "\n",
       "    .dataframe thead th {\n",
       "        text-align: right;\n",
       "    }\n",
       "</style>\n",
       "<table border=\"1\" class=\"dataframe\">\n",
       "  <thead>\n",
       "    <tr style=\"text-align: right;\">\n",
       "      <th></th>\n",
       "      <th>UG</th>\n",
       "      <th>SIGLA UG</th>\n",
       "      <th>ACAO</th>\n",
       "      <th>NOME_ACAO</th>\n",
       "      <th>ANO</th>\n",
       "      <th>CREDOR</th>\n",
       "      <th>NOME_CREDOR</th>\n",
       "      <th>DATA</th>\n",
       "      <th>DIAS</th>\n",
       "      <th>ICFEX</th>\n",
       "      <th>NOME_ICFEX</th>\n",
       "      <th>ND</th>\n",
       "      <th>NOME_ND</th>\n",
       "      <th>NDSI</th>\n",
       "      <th>NOME_NDSI</th>\n",
       "      <th>NE</th>\n",
       "      <th>PI</th>\n",
       "      <th>NOME_PI</th>\n",
       "      <th>PROGRAMA</th>\n",
       "      <th>PTRES</th>\n",
       "      <th>TIPO</th>\n",
       "      <th>TIPO_NE</th>\n",
       "      <th>LOCAL</th>\n",
       "      <th>UF_CREDOR</th>\n",
       "      <th>UF_UG</th>\n",
       "      <th>UGR</th>\n",
       "      <th>NOME_UGR</th>\n",
       "      <th>RADPI4</th>\n",
       "      <th>MEIPI3</th>\n",
       "      <th>SUFPI4</th>\n",
       "      <th>A_LIQUIDAR</th>\n",
       "      <th>LIQUIDADO_A_PAGAR</th>\n",
       "      <th>TOTAL_A_PAGAR</th>\n",
       "      <th>PAGO</th>\n",
       "    </tr>\n",
       "  </thead>\n",
       "  <tbody>\n",
       "    <tr>\n",
       "      <th>748</th>\n",
       "      <td>160129</td>\n",
       "      <td>ESA</td>\n",
       "      <td>212O</td>\n",
       "      <td>MOVIMENTACAO DE MILITARES</td>\n",
       "      <td>2023</td>\n",
       "      <td>14807420000199</td>\n",
       "      <td>FACTO TURISMO  LTDA</td>\n",
       "      <td>2023-01-11</td>\n",
       "      <td>266</td>\n",
       "      <td>160533</td>\n",
       "      <td>4º CGCFEX</td>\n",
       "      <td>339033</td>\n",
       "      <td>PASSAGENS E DESPESAS COM LOCOMOCAO</td>\n",
       "      <td>33903302</td>\n",
       "      <td>PASSAGENS PARA O EXTERIOR</td>\n",
       "      <td>2023NE000002</td>\n",
       "      <td>DGPREQTRNP3</td>\n",
       "      <td>MIS EXT REQS TRNP BAG INTER</td>\n",
       "      <td>6012</td>\n",
       "      <td>171389</td>\n",
       "      <td>ANO</td>\n",
       "      <td>GLOBAL</td>\n",
       "      <td>ESA</td>\n",
       "      <td>SP</td>\n",
       "      <td>MG</td>\n",
       "      <td>160505</td>\n",
       "      <td>DGP</td>\n",
       "      <td>DGPR</td>\n",
       "      <td>EQT</td>\n",
       "      <td>RNP3</td>\n",
       "      <td>0.00</td>\n",
       "      <td>0.00</td>\n",
       "      <td>0.00</td>\n",
       "      <td>5047.00</td>\n",
       "    </tr>\n",
       "    <tr>\n",
       "      <th>1075</th>\n",
       "      <td>160129</td>\n",
       "      <td>ESA</td>\n",
       "      <td>8965</td>\n",
       "      <td>CAPACITACAO PROFISSIONAL MILITAR DO E</td>\n",
       "      <td>2022</td>\n",
       "      <td>15072268000106</td>\n",
       "      <td>SGA TUDO PARA SEU EVENTO LTDA</td>\n",
       "      <td>2022-07-05</td>\n",
       "      <td>456</td>\n",
       "      <td>160533</td>\n",
       "      <td>4º CGCFEX</td>\n",
       "      <td>339039</td>\n",
       "      <td>OUTROS SERVICOS DE TERCEIROS - PESSOA JURIDICA</td>\n",
       "      <td>33903914</td>\n",
       "      <td>LOCACAO BENS MOV. OUT.NATUREZAS E INTANGIVEIS</td>\n",
       "      <td>2022NE000742</td>\n",
       "      <td>C4ENMILCAPE</td>\n",
       "      <td>CAPACITACAO DE PESSOAL</td>\n",
       "      <td>6012</td>\n",
       "      <td>171423</td>\n",
       "      <td>RPNP</td>\n",
       "      <td>GLOBAL</td>\n",
       "      <td>ESCOLA DE SARGENTOS DAS ARMAS  - AVENIDA SETE ...</td>\n",
       "      <td>MG</td>\n",
       "      <td>MG</td>\n",
       "      <td>160503</td>\n",
       "      <td>DECEX/GESTOR</td>\n",
       "      <td>C4EN</td>\n",
       "      <td>MIL</td>\n",
       "      <td>CAPE</td>\n",
       "      <td>180.00</td>\n",
       "      <td>0.00</td>\n",
       "      <td>180.00</td>\n",
       "      <td>16640.00</td>\n",
       "    </tr>\n",
       "    <tr>\n",
       "      <th>1076</th>\n",
       "      <td>160129</td>\n",
       "      <td>ESA</td>\n",
       "      <td>8965</td>\n",
       "      <td>CAPACITACAO PROFISSIONAL MILITAR DO E</td>\n",
       "      <td>2022</td>\n",
       "      <td>17289559000186</td>\n",
       "      <td>FENARA &amp; FENARA - ENGENHARIA E ADMINISTRACAO LTDA</td>\n",
       "      <td>2022-12-28</td>\n",
       "      <td>280</td>\n",
       "      <td>160533</td>\n",
       "      <td>4º CGCFEX</td>\n",
       "      <td>339039</td>\n",
       "      <td>OUTROS SERVICOS DE TERCEIROS - PESSOA JURIDICA</td>\n",
       "      <td>33903916</td>\n",
       "      <td>MANUTENCAO E CONSERV. DE BENS IMOVEIS</td>\n",
       "      <td>2022NE002702</td>\n",
       "      <td>C1ENMILOUTR</td>\n",
       "      <td>OUTROS</td>\n",
       "      <td>6012</td>\n",
       "      <td>171423</td>\n",
       "      <td>RPNP</td>\n",
       "      <td>GLOBAL</td>\n",
       "      <td>ESCOLA DE SARGENTOS DAS ARMAS</td>\n",
       "      <td>SP</td>\n",
       "      <td>MG</td>\n",
       "      <td>160503</td>\n",
       "      <td>DECEX/GESTOR</td>\n",
       "      <td>C1EN</td>\n",
       "      <td>MIL</td>\n",
       "      <td>OUTR</td>\n",
       "      <td>12733.76</td>\n",
       "      <td>0.00</td>\n",
       "      <td>12733.76</td>\n",
       "      <td>0.00</td>\n",
       "    </tr>\n",
       "    <tr>\n",
       "      <th>1093</th>\n",
       "      <td>160129</td>\n",
       "      <td>ESA</td>\n",
       "      <td>8965</td>\n",
       "      <td>CAPACITACAO PROFISSIONAL MILITAR DO E</td>\n",
       "      <td>2022</td>\n",
       "      <td>38680138000151</td>\n",
       "      <td>GESMAQ COMERCIO E SERVICOS LTDA</td>\n",
       "      <td>2022-10-06</td>\n",
       "      <td>363</td>\n",
       "      <td>160533</td>\n",
       "      <td>4º CGCFEX</td>\n",
       "      <td>339039</td>\n",
       "      <td>OUTROS SERVICOS DE TERCEIROS - PESSOA JURIDICA</td>\n",
       "      <td>33903917</td>\n",
       "      <td>MANUT. E CONSERV. DE MAQUINAS E EQUIPAMENTOS</td>\n",
       "      <td>2022NE001085</td>\n",
       "      <td>C4ENMILCAPE</td>\n",
       "      <td>CAPACITACAO DE PESSOAL</td>\n",
       "      <td>6012</td>\n",
       "      <td>171423</td>\n",
       "      <td>RPNP</td>\n",
       "      <td>GLOBAL</td>\n",
       "      <td>ESCOLA DE SARGENTOS DAS ARMAS</td>\n",
       "      <td>MG</td>\n",
       "      <td>MG</td>\n",
       "      <td>160503</td>\n",
       "      <td>DECEX/GESTOR</td>\n",
       "      <td>C4EN</td>\n",
       "      <td>MIL</td>\n",
       "      <td>CAPE</td>\n",
       "      <td>11086.68</td>\n",
       "      <td>0.00</td>\n",
       "      <td>11086.68</td>\n",
       "      <td>22173.32</td>\n",
       "    </tr>\n",
       "    <tr>\n",
       "      <th>1153</th>\n",
       "      <td>160129</td>\n",
       "      <td>ESA</td>\n",
       "      <td>8965</td>\n",
       "      <td>CAPACITACAO PROFISSIONAL MILITAR DO E</td>\n",
       "      <td>2023</td>\n",
       "      <td>13759849000195</td>\n",
       "      <td>INDUSTRIA FENIX CORTE A LASER LTDA</td>\n",
       "      <td>2023-03-08</td>\n",
       "      <td>210</td>\n",
       "      <td>160533</td>\n",
       "      <td>4º CGCFEX</td>\n",
       "      <td>339039</td>\n",
       "      <td>OUTROS SERVICOS DE TERCEIROS - PESSOA JURIDICA</td>\n",
       "      <td>33903963</td>\n",
       "      <td>SERVICOS GRAFICOS E EDITORIAIS</td>\n",
       "      <td>2023NE000208</td>\n",
       "      <td>C4ENMILCAPE</td>\n",
       "      <td>CAPACITACAO DE PESSOAL</td>\n",
       "      <td>6012</td>\n",
       "      <td>171423</td>\n",
       "      <td>ANO</td>\n",
       "      <td>ORDINARIO</td>\n",
       "      <td>ESCOLA DE SARGENTOS DAS ARMAS  - AVENIDA SETE ...</td>\n",
       "      <td>SP</td>\n",
       "      <td>MG</td>\n",
       "      <td>160503</td>\n",
       "      <td>DECEX/GESTOR</td>\n",
       "      <td>C4EN</td>\n",
       "      <td>MIL</td>\n",
       "      <td>CAPE</td>\n",
       "      <td>3280.00</td>\n",
       "      <td>0.00</td>\n",
       "      <td>3280.00</td>\n",
       "      <td>0.00</td>\n",
       "    </tr>\n",
       "    <tr>\n",
       "      <th>1317</th>\n",
       "      <td>167129</td>\n",
       "      <td>ESA</td>\n",
       "      <td>2000</td>\n",
       "      <td>ADMINISTRACAO DA UNIDADE</td>\n",
       "      <td>2022</td>\n",
       "      <td>26669742000106</td>\n",
       "      <td>J. T. CATALDO CASTRO CRIATIVA DIGITAL</td>\n",
       "      <td>2022-11-30</td>\n",
       "      <td>308</td>\n",
       "      <td>160533</td>\n",
       "      <td>4º CGCFEX</td>\n",
       "      <td>339039</td>\n",
       "      <td>OUTROS SERVICOS DE TERCEIROS - PESSOA JURIDICA</td>\n",
       "      <td>33903963</td>\n",
       "      <td>SERVICOS GRAFICOS E EDITORIAIS</td>\n",
       "      <td>2022NE001843</td>\n",
       "      <td>C1ENCONDETM</td>\n",
       "      <td>CONCURSOS AS ESCOLAS MILITARES</td>\n",
       "      <td>0032</td>\n",
       "      <td>171502</td>\n",
       "      <td>RPNP</td>\n",
       "      <td>ORDINARIO</td>\n",
       "      <td>ESCOLA DE SARGENTOS DAS ARMAS  - AVENIDA SETE ...</td>\n",
       "      <td>RJ</td>\n",
       "      <td>MG</td>\n",
       "      <td>167503</td>\n",
       "      <td>DECEX - GESTOR</td>\n",
       "      <td>C1EN</td>\n",
       "      <td>CON</td>\n",
       "      <td>DETM</td>\n",
       "      <td>1016.25</td>\n",
       "      <td>0.00</td>\n",
       "      <td>1016.25</td>\n",
       "      <td>0.00</td>\n",
       "    </tr>\n",
       "    <tr>\n",
       "      <th>1354</th>\n",
       "      <td>167129</td>\n",
       "      <td>ESA</td>\n",
       "      <td>2000</td>\n",
       "      <td>ADMINISTRACAO DA UNIDADE</td>\n",
       "      <td>2023</td>\n",
       "      <td>167129</td>\n",
       "      <td>NaN</td>\n",
       "      <td>2023-01-30</td>\n",
       "      <td>247</td>\n",
       "      <td>160533</td>\n",
       "      <td>4º CGCFEX</td>\n",
       "      <td>339015</td>\n",
       "      <td>DIARIAS - PESSOAL MILITAR</td>\n",
       "      <td>33901514</td>\n",
       "      <td>DIARIAS NO PAIS</td>\n",
       "      <td>2023NE000208</td>\n",
       "      <td>C1ENCONDETM</td>\n",
       "      <td>CONCURSOS AS ESCOLAS MILITARES</td>\n",
       "      <td>0032</td>\n",
       "      <td>171502</td>\n",
       "      <td>ANO</td>\n",
       "      <td>ORDINARIO</td>\n",
       "      <td>0</td>\n",
       "      <td>NaN</td>\n",
       "      <td>MG</td>\n",
       "      <td>167129</td>\n",
       "      <td>ESA</td>\n",
       "      <td>C1EN</td>\n",
       "      <td>CON</td>\n",
       "      <td>DETM</td>\n",
       "      <td>32685.03</td>\n",
       "      <td>17685.96</td>\n",
       "      <td>50370.99</td>\n",
       "      <td>17629.01</td>\n",
       "    </tr>\n",
       "    <tr>\n",
       "      <th>2886</th>\n",
       "      <td>167129</td>\n",
       "      <td>ESA</td>\n",
       "      <td>2004</td>\n",
       "      <td>ASSISTENCIA MEDICA E ODONTOLOGICA AOS</td>\n",
       "      <td>2023</td>\n",
       "      <td>50429810000136</td>\n",
       "      <td>SAPRA LANDAUER SERVICO DE ASSESSORIA E PROTECA...</td>\n",
       "      <td>2023-01-11</td>\n",
       "      <td>266</td>\n",
       "      <td>160533</td>\n",
       "      <td>4º CGCFEX</td>\n",
       "      <td>339039</td>\n",
       "      <td>OUTROS SERVICOS DE TERCEIROS - PESSOA JURIDICA</td>\n",
       "      <td>33903950</td>\n",
       "      <td>SERV.MEDICO-HOSPITAL.,ODONTOL.E LABORATORIAIS</td>\n",
       "      <td>2023NE000002</td>\n",
       "      <td>D8SACNTDOSI</td>\n",
       "      <td>SERVICOS DE PROTECAO A RADIACAO IONIZANTE</td>\n",
       "      <td>0032</td>\n",
       "      <td>215842</td>\n",
       "      <td>ANO</td>\n",
       "      <td>GLOBAL</td>\n",
       "      <td>ESCOLA DE SARGENTOS DAS ARMAS  - AVENIDA SETE ...</td>\n",
       "      <td>SP</td>\n",
       "      <td>MG</td>\n",
       "      <td>167505</td>\n",
       "      <td>DGP</td>\n",
       "      <td>D8SA</td>\n",
       "      <td>CNT</td>\n",
       "      <td>DOSI</td>\n",
       "      <td>447.72</td>\n",
       "      <td>0.00</td>\n",
       "      <td>447.72</td>\n",
       "      <td>895.44</td>\n",
       "    </tr>\n",
       "  </tbody>\n",
       "</table>\n",
       "</div>"
      ],
      "text/plain": [
       "          UG SIGLA UG  ACAO                              NOME_ACAO   ANO  \\\n",
       "748   160129      ESA  212O              MOVIMENTACAO DE MILITARES  2023   \n",
       "1075  160129      ESA  8965  CAPACITACAO PROFISSIONAL MILITAR DO E  2022   \n",
       "1076  160129      ESA  8965  CAPACITACAO PROFISSIONAL MILITAR DO E  2022   \n",
       "1093  160129      ESA  8965  CAPACITACAO PROFISSIONAL MILITAR DO E  2022   \n",
       "1153  160129      ESA  8965  CAPACITACAO PROFISSIONAL MILITAR DO E  2023   \n",
       "1317  167129      ESA  2000               ADMINISTRACAO DA UNIDADE  2022   \n",
       "1354  167129      ESA  2000               ADMINISTRACAO DA UNIDADE  2023   \n",
       "2886  167129      ESA  2004  ASSISTENCIA MEDICA E ODONTOLOGICA AOS  2023   \n",
       "\n",
       "              CREDOR                                        NOME_CREDOR  \\\n",
       "748   14807420000199                                FACTO TURISMO  LTDA   \n",
       "1075  15072268000106                      SGA TUDO PARA SEU EVENTO LTDA   \n",
       "1076  17289559000186  FENARA & FENARA - ENGENHARIA E ADMINISTRACAO LTDA   \n",
       "1093  38680138000151                    GESMAQ COMERCIO E SERVICOS LTDA   \n",
       "1153  13759849000195                 INDUSTRIA FENIX CORTE A LASER LTDA   \n",
       "1317  26669742000106              J. T. CATALDO CASTRO CRIATIVA DIGITAL   \n",
       "1354          167129                                                NaN   \n",
       "2886  50429810000136  SAPRA LANDAUER SERVICO DE ASSESSORIA E PROTECA...   \n",
       "\n",
       "           DATA  DIAS   ICFEX NOME_ICFEX      ND  \\\n",
       "748  2023-01-11   266  160533  4º CGCFEX  339033   \n",
       "1075 2022-07-05   456  160533  4º CGCFEX  339039   \n",
       "1076 2022-12-28   280  160533  4º CGCFEX  339039   \n",
       "1093 2022-10-06   363  160533  4º CGCFEX  339039   \n",
       "1153 2023-03-08   210  160533  4º CGCFEX  339039   \n",
       "1317 2022-11-30   308  160533  4º CGCFEX  339039   \n",
       "1354 2023-01-30   247  160533  4º CGCFEX  339015   \n",
       "2886 2023-01-11   266  160533  4º CGCFEX  339039   \n",
       "\n",
       "                                             NOME_ND      NDSI  \\\n",
       "748               PASSAGENS E DESPESAS COM LOCOMOCAO  33903302   \n",
       "1075  OUTROS SERVICOS DE TERCEIROS - PESSOA JURIDICA  33903914   \n",
       "1076  OUTROS SERVICOS DE TERCEIROS - PESSOA JURIDICA  33903916   \n",
       "1093  OUTROS SERVICOS DE TERCEIROS - PESSOA JURIDICA  33903917   \n",
       "1153  OUTROS SERVICOS DE TERCEIROS - PESSOA JURIDICA  33903963   \n",
       "1317  OUTROS SERVICOS DE TERCEIROS - PESSOA JURIDICA  33903963   \n",
       "1354                       DIARIAS - PESSOAL MILITAR  33901514   \n",
       "2886  OUTROS SERVICOS DE TERCEIROS - PESSOA JURIDICA  33903950   \n",
       "\n",
       "                                          NOME_NDSI            NE  \\\n",
       "748                       PASSAGENS PARA O EXTERIOR  2023NE000002   \n",
       "1075  LOCACAO BENS MOV. OUT.NATUREZAS E INTANGIVEIS  2022NE000742   \n",
       "1076          MANUTENCAO E CONSERV. DE BENS IMOVEIS  2022NE002702   \n",
       "1093   MANUT. E CONSERV. DE MAQUINAS E EQUIPAMENTOS  2022NE001085   \n",
       "1153                 SERVICOS GRAFICOS E EDITORIAIS  2023NE000208   \n",
       "1317                 SERVICOS GRAFICOS E EDITORIAIS  2022NE001843   \n",
       "1354                                DIARIAS NO PAIS  2023NE000208   \n",
       "2886  SERV.MEDICO-HOSPITAL.,ODONTOL.E LABORATORIAIS  2023NE000002   \n",
       "\n",
       "               PI                                    NOME_PI PROGRAMA   PTRES  \\\n",
       "748   DGPREQTRNP3                MIS EXT REQS TRNP BAG INTER     6012  171389   \n",
       "1075  C4ENMILCAPE                     CAPACITACAO DE PESSOAL     6012  171423   \n",
       "1076  C1ENMILOUTR                                     OUTROS     6012  171423   \n",
       "1093  C4ENMILCAPE                     CAPACITACAO DE PESSOAL     6012  171423   \n",
       "1153  C4ENMILCAPE                     CAPACITACAO DE PESSOAL     6012  171423   \n",
       "1317  C1ENCONDETM             CONCURSOS AS ESCOLAS MILITARES     0032  171502   \n",
       "1354  C1ENCONDETM             CONCURSOS AS ESCOLAS MILITARES     0032  171502   \n",
       "2886  D8SACNTDOSI  SERVICOS DE PROTECAO A RADIACAO IONIZANTE     0032  215842   \n",
       "\n",
       "      TIPO    TIPO_NE                                              LOCAL  \\\n",
       "748    ANO     GLOBAL                                                ESA   \n",
       "1075  RPNP     GLOBAL  ESCOLA DE SARGENTOS DAS ARMAS  - AVENIDA SETE ...   \n",
       "1076  RPNP     GLOBAL                      ESCOLA DE SARGENTOS DAS ARMAS   \n",
       "1093  RPNP     GLOBAL                      ESCOLA DE SARGENTOS DAS ARMAS   \n",
       "1153   ANO  ORDINARIO  ESCOLA DE SARGENTOS DAS ARMAS  - AVENIDA SETE ...   \n",
       "1317  RPNP  ORDINARIO  ESCOLA DE SARGENTOS DAS ARMAS  - AVENIDA SETE ...   \n",
       "1354   ANO  ORDINARIO                                                  0   \n",
       "2886   ANO     GLOBAL  ESCOLA DE SARGENTOS DAS ARMAS  - AVENIDA SETE ...   \n",
       "\n",
       "     UF_CREDOR UF_UG     UGR        NOME_UGR RADPI4 MEIPI3 SUFPI4  A_LIQUIDAR  \\\n",
       "748         SP    MG  160505             DGP   DGPR    EQT   RNP3        0.00   \n",
       "1075        MG    MG  160503    DECEX/GESTOR   C4EN    MIL   CAPE      180.00   \n",
       "1076        SP    MG  160503    DECEX/GESTOR   C1EN    MIL   OUTR    12733.76   \n",
       "1093        MG    MG  160503    DECEX/GESTOR   C4EN    MIL   CAPE    11086.68   \n",
       "1153        SP    MG  160503    DECEX/GESTOR   C4EN    MIL   CAPE     3280.00   \n",
       "1317        RJ    MG  167503  DECEX - GESTOR   C1EN    CON   DETM     1016.25   \n",
       "1354       NaN    MG  167129             ESA   C1EN    CON   DETM    32685.03   \n",
       "2886        SP    MG  167505             DGP   D8SA    CNT   DOSI      447.72   \n",
       "\n",
       "      LIQUIDADO_A_PAGAR  TOTAL_A_PAGAR      PAGO  \n",
       "748                0.00           0.00   5047.00  \n",
       "1075               0.00         180.00  16640.00  \n",
       "1076               0.00       12733.76      0.00  \n",
       "1093               0.00       11086.68  22173.32  \n",
       "1153               0.00        3280.00      0.00  \n",
       "1317               0.00        1016.25      0.00  \n",
       "1354           17685.96       50370.99  17629.01  \n",
       "2886               0.00         447.72    895.44  "
      ]
     },
     "execution_count": 20,
     "metadata": {},
     "output_type": "execute_result"
    }
   ],
   "source": [
    "notas_empenho = ['2022NE000742', '2022NE001085', '2023NE000002', '2022NE001843', '2023NE000208', '2022NE002702']\n",
    "\n",
    "df_teste[df_teste['NE'].isin(notas_empenho)]"
   ]
  },
  {
   "cell_type": "code",
   "execution_count": 23,
   "metadata": {},
   "outputs": [],
   "source": [
    "df_acao = df_teste[df_teste['ACAO'] == '8965']"
   ]
  },
  {
   "cell_type": "code",
   "execution_count": 24,
   "metadata": {},
   "outputs": [],
   "source": [
    "df_acao = df_acao[df_acao['A_LIQUIDAR'] != 0]"
   ]
  },
  {
   "cell_type": "code",
   "execution_count": 26,
   "metadata": {},
   "outputs": [
    {
     "data": {
      "text/plain": [
       "1226616.0899999999"
      ]
     },
     "execution_count": 26,
     "metadata": {},
     "output_type": "execute_result"
    }
   ],
   "source": [
    "df_acao['A_LIQUIDAR'].sum()"
   ]
  },
  {
   "cell_type": "code",
   "execution_count": 27,
   "metadata": {},
   "outputs": [
    {
     "data": {
      "text/plain": [
       "'R$ 1.226.616,09'"
      ]
     },
     "execution_count": 27,
     "metadata": {},
     "output_type": "execute_result"
    }
   ],
   "source": [
    "locale.currency(df_acao['A_LIQUIDAR'].sum(), grouping=True)"
   ]
  },
  {
   "cell_type": "code",
   "execution_count": 31,
   "metadata": {},
   "outputs": [
    {
     "data": {
      "text/html": [
       "<div>\n",
       "<style scoped>\n",
       "    .dataframe tbody tr th:only-of-type {\n",
       "        vertical-align: middle;\n",
       "    }\n",
       "\n",
       "    .dataframe tbody tr th {\n",
       "        vertical-align: top;\n",
       "    }\n",
       "\n",
       "    .dataframe thead th {\n",
       "        text-align: right;\n",
       "    }\n",
       "</style>\n",
       "<table border=\"1\" class=\"dataframe\">\n",
       "  <thead>\n",
       "    <tr style=\"text-align: right;\">\n",
       "      <th></th>\n",
       "      <th>ND</th>\n",
       "      <th>A_LIQUIDAR</th>\n",
       "    </tr>\n",
       "  </thead>\n",
       "  <tbody>\n",
       "    <tr>\n",
       "      <th>3</th>\n",
       "      <td>339033</td>\n",
       "      <td>324553.45</td>\n",
       "    </tr>\n",
       "    <tr>\n",
       "      <th>4</th>\n",
       "      <td>339039</td>\n",
       "      <td>301473.80</td>\n",
       "    </tr>\n",
       "    <tr>\n",
       "      <th>6</th>\n",
       "      <td>339093</td>\n",
       "      <td>245770.00</td>\n",
       "    </tr>\n",
       "    <tr>\n",
       "      <th>5</th>\n",
       "      <td>339040</td>\n",
       "      <td>214747.64</td>\n",
       "    </tr>\n",
       "    <tr>\n",
       "      <th>7</th>\n",
       "      <td>449052</td>\n",
       "      <td>68905.10</td>\n",
       "    </tr>\n",
       "    <tr>\n",
       "      <th>1</th>\n",
       "      <td>339030</td>\n",
       "      <td>62216.44</td>\n",
       "    </tr>\n",
       "    <tr>\n",
       "      <th>0</th>\n",
       "      <td>339015</td>\n",
       "      <td>5957.06</td>\n",
       "    </tr>\n",
       "    <tr>\n",
       "      <th>2</th>\n",
       "      <td>339031</td>\n",
       "      <td>2992.60</td>\n",
       "    </tr>\n",
       "  </tbody>\n",
       "</table>\n",
       "</div>"
      ],
      "text/plain": [
       "       ND  A_LIQUIDAR\n",
       "3  339033   324553.45\n",
       "4  339039   301473.80\n",
       "6  339093   245770.00\n",
       "5  339040   214747.64\n",
       "7  449052    68905.10\n",
       "1  339030    62216.44\n",
       "0  339015     5957.06\n",
       "2  339031     2992.60"
      ]
     },
     "execution_count": 31,
     "metadata": {},
     "output_type": "execute_result"
    }
   ],
   "source": [
    "col = ['ND', 'A_LIQUIDAR']\n",
    "df_acao.loc[:,col].groupby(by='ND').sum().reset_index().sort_values(by='A_LIQUIDAR', ascending=False)"
   ]
  },
  {
   "cell_type": "code",
   "execution_count": 33,
   "metadata": {},
   "outputs": [
    {
     "data": {
      "text/html": [
       "<div>\n",
       "<style scoped>\n",
       "    .dataframe tbody tr th:only-of-type {\n",
       "        vertical-align: middle;\n",
       "    }\n",
       "\n",
       "    .dataframe tbody tr th {\n",
       "        vertical-align: top;\n",
       "    }\n",
       "\n",
       "    .dataframe thead th {\n",
       "        text-align: right;\n",
       "    }\n",
       "</style>\n",
       "<table border=\"1\" class=\"dataframe\">\n",
       "  <thead>\n",
       "    <tr style=\"text-align: right;\">\n",
       "      <th></th>\n",
       "      <th>UG</th>\n",
       "      <th>SIGLA UG</th>\n",
       "      <th>ACAO</th>\n",
       "      <th>NOME_ACAO</th>\n",
       "      <th>ANO</th>\n",
       "      <th>CREDOR</th>\n",
       "      <th>NOME_CREDOR</th>\n",
       "      <th>DATA</th>\n",
       "      <th>DIAS</th>\n",
       "      <th>ICFEX</th>\n",
       "      <th>NOME_ICFEX</th>\n",
       "      <th>ND</th>\n",
       "      <th>NOME_ND</th>\n",
       "      <th>NDSI</th>\n",
       "      <th>NOME_NDSI</th>\n",
       "      <th>NE</th>\n",
       "      <th>PI</th>\n",
       "      <th>NOME_PI</th>\n",
       "      <th>PROGRAMA</th>\n",
       "      <th>PTRES</th>\n",
       "      <th>TIPO</th>\n",
       "      <th>TIPO_NE</th>\n",
       "      <th>LOCAL</th>\n",
       "      <th>UF_CREDOR</th>\n",
       "      <th>UF_UG</th>\n",
       "      <th>UGR</th>\n",
       "      <th>NOME_UGR</th>\n",
       "      <th>RADPI4</th>\n",
       "      <th>MEIPI3</th>\n",
       "      <th>SUFPI4</th>\n",
       "      <th>A_LIQUIDAR</th>\n",
       "      <th>LIQUIDADO_A_PAGAR</th>\n",
       "      <th>TOTAL_A_PAGAR</th>\n",
       "      <th>PAGO</th>\n",
       "    </tr>\n",
       "  </thead>\n",
       "  <tbody>\n",
       "    <tr>\n",
       "      <th>1179</th>\n",
       "      <td>160129</td>\n",
       "      <td>ESA</td>\n",
       "      <td>8965</td>\n",
       "      <td>CAPACITACAO PROFISSIONAL MILITAR DO E</td>\n",
       "      <td>2023</td>\n",
       "      <td>160129</td>\n",
       "      <td>NaN</td>\n",
       "      <td>2023-05-16</td>\n",
       "      <td>141</td>\n",
       "      <td>160533</td>\n",
       "      <td>4º CGCFEX</td>\n",
       "      <td>339093</td>\n",
       "      <td>INDENIZACOES E RESTITUICOES</td>\n",
       "      <td>33909314</td>\n",
       "      <td>RESSARCIMENTO DE PASSAGENS E DESP.C/LOCOMOCAO</td>\n",
       "      <td>2023NE000508</td>\n",
       "      <td>C4ENMILCAPE</td>\n",
       "      <td>CAPACITACAO DE PESSOAL</td>\n",
       "      <td>6012</td>\n",
       "      <td>171423</td>\n",
       "      <td>ANO</td>\n",
       "      <td>ORDINARIO</td>\n",
       "      <td>0</td>\n",
       "      <td>NaN</td>\n",
       "      <td>MG</td>\n",
       "      <td>160129</td>\n",
       "      <td>ESA</td>\n",
       "      <td>C4EN</td>\n",
       "      <td>MIL</td>\n",
       "      <td>CAPE</td>\n",
       "      <td>176770.0</td>\n",
       "      <td>0.0</td>\n",
       "      <td>176770.0</td>\n",
       "      <td>0.0</td>\n",
       "    </tr>\n",
       "    <tr>\n",
       "      <th>1180</th>\n",
       "      <td>160129</td>\n",
       "      <td>ESA</td>\n",
       "      <td>8965</td>\n",
       "      <td>CAPACITACAO PROFISSIONAL MILITAR DO E</td>\n",
       "      <td>2023</td>\n",
       "      <td>160129</td>\n",
       "      <td>NaN</td>\n",
       "      <td>2023-06-28</td>\n",
       "      <td>98</td>\n",
       "      <td>160533</td>\n",
       "      <td>4º CGCFEX</td>\n",
       "      <td>339093</td>\n",
       "      <td>INDENIZACOES E RESTITUICOES</td>\n",
       "      <td>33909302</td>\n",
       "      <td>RESTITUICOES</td>\n",
       "      <td>2023NE000785</td>\n",
       "      <td>C1ENMILOUTR</td>\n",
       "      <td>OUTROS</td>\n",
       "      <td>6012</td>\n",
       "      <td>171423</td>\n",
       "      <td>ANO</td>\n",
       "      <td>ORDINARIO</td>\n",
       "      <td>0</td>\n",
       "      <td>NaN</td>\n",
       "      <td>MG</td>\n",
       "      <td>160129</td>\n",
       "      <td>ESA</td>\n",
       "      <td>C1EN</td>\n",
       "      <td>MIL</td>\n",
       "      <td>OUTR</td>\n",
       "      <td>69000.0</td>\n",
       "      <td>0.0</td>\n",
       "      <td>69000.0</td>\n",
       "      <td>0.0</td>\n",
       "    </tr>\n",
       "  </tbody>\n",
       "</table>\n",
       "</div>"
      ],
      "text/plain": [
       "          UG SIGLA UG  ACAO                              NOME_ACAO   ANO  \\\n",
       "1179  160129      ESA  8965  CAPACITACAO PROFISSIONAL MILITAR DO E  2023   \n",
       "1180  160129      ESA  8965  CAPACITACAO PROFISSIONAL MILITAR DO E  2023   \n",
       "\n",
       "      CREDOR NOME_CREDOR       DATA  DIAS   ICFEX NOME_ICFEX      ND  \\\n",
       "1179  160129         NaN 2023-05-16   141  160533  4º CGCFEX  339093   \n",
       "1180  160129         NaN 2023-06-28    98  160533  4º CGCFEX  339093   \n",
       "\n",
       "                          NOME_ND      NDSI  \\\n",
       "1179  INDENIZACOES E RESTITUICOES  33909314   \n",
       "1180  INDENIZACOES E RESTITUICOES  33909302   \n",
       "\n",
       "                                          NOME_NDSI            NE  \\\n",
       "1179  RESSARCIMENTO DE PASSAGENS E DESP.C/LOCOMOCAO  2023NE000508   \n",
       "1180                                   RESTITUICOES  2023NE000785   \n",
       "\n",
       "               PI                 NOME_PI PROGRAMA   PTRES TIPO    TIPO_NE  \\\n",
       "1179  C4ENMILCAPE  CAPACITACAO DE PESSOAL     6012  171423  ANO  ORDINARIO   \n",
       "1180  C1ENMILOUTR                  OUTROS     6012  171423  ANO  ORDINARIO   \n",
       "\n",
       "     LOCAL UF_CREDOR UF_UG     UGR NOME_UGR RADPI4 MEIPI3 SUFPI4  A_LIQUIDAR  \\\n",
       "1179     0       NaN    MG  160129      ESA   C4EN    MIL   CAPE    176770.0   \n",
       "1180     0       NaN    MG  160129      ESA   C1EN    MIL   OUTR     69000.0   \n",
       "\n",
       "      LIQUIDADO_A_PAGAR  TOTAL_A_PAGAR  PAGO  \n",
       "1179                0.0       176770.0   0.0  \n",
       "1180                0.0        69000.0   0.0  "
      ]
     },
     "execution_count": 33,
     "metadata": {},
     "output_type": "execute_result"
    }
   ],
   "source": [
    "df_acao[df_acao['ND'] == '339093']"
   ]
  }
 ],
 "metadata": {
  "kernelspec": {
   "display_name": "base",
   "language": "python",
   "name": "python3"
  },
  "language_info": {
   "codemirror_mode": {
    "name": "ipython",
    "version": 3
   },
   "file_extension": ".py",
   "mimetype": "text/x-python",
   "name": "python",
   "nbconvert_exporter": "python",
   "pygments_lexer": "ipython3",
   "version": "3.11.5"
  },
  "orig_nbformat": 4
 },
 "nbformat": 4,
 "nbformat_minor": 2
}
