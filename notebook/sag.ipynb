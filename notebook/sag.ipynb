{
 "cells": [
  {
   "cell_type": "markdown",
   "metadata": {},
   "source": [
    "# Criar VENV\n",
    "\n",
    "https://oandersonbm.medium.com/usando-python-no-vs-code-com-ambiente-virtual-venv-ecef7959b652"
   ]
  },
  {
   "cell_type": "code",
   "execution_count": 1,
   "metadata": {},
   "outputs": [],
   "source": [
    "import pandas as pd\n",
    "import plotly.express as px\n",
    "import plotly.graph_objects as go\n",
    "from datetime import datetime\n",
    "import locale\n",
    "\n",
    "# Definindo a configuração local para o Brasil (pt_BR)\n",
    "locale.setlocale(locale.LC_ALL, 'pt_BR')\n",
    "\n",
    "# Personalizando para ver todas as colunas do DataFrame\n",
    "pd.set_option('display.max_columns', None)"
   ]
  },
  {
   "cell_type": "markdown",
   "metadata": {},
   "source": [
    "# Base de dados"
   ]
  },
  {
   "cell_type": "code",
   "execution_count": 2,
   "metadata": {},
   "outputs": [],
   "source": [
    "# Realizando a junção dos 3 arquivos .CSV num único DataFrame\n",
    "\n",
    "# Caminhos para os arquivos .CSV\n",
    "caminho_1 = r\"C:\\Users\\User\\OneDrive\\Trabalho\\ESA 2023\\Dashboard_ESA\\base_dados\\Cel Manfrini.csv\"\n",
    "\n",
    "caminho_2 = r\"C:\\Users\\User\\OneDrive\\Trabalho\\ESA 2023\\Dashboard_ESA\\base_dados\\Cel Manfrini(1).csv\"\n",
    "\n",
    "caminho_3 = r\"C:\\Users\\User\\OneDrive\\Trabalho\\ESA 2023\\Dashboard_ESA\\base_dados\\Cel Manfrini(2).csv\"\n",
    "\n",
    "caminho_4 = r\"C:\\Users\\User\\OneDrive\\Trabalho\\ESA 2023\\Dashboard_ESA\\base_dados\\Cel Manfrini(3).csv\"\n",
    "\n",
    "\n",
    "# Leitura dos arquivos .CSV em DataFrames individuais\n",
    "df1 = pd.read_csv(caminho_1)\n",
    "df2 = pd.read_csv(caminho_2)\n",
    "df3 = pd.read_csv(caminho_3)\n",
    "df4 = pd.read_csv(caminho_4)\n",
    "\n",
    "# Concatenação dos DataFrames em um único DataFrame\n",
    "df = pd.concat([df1, df2, df3, df4], ignore_index=True)\n",
    "\n",
    "# Excluindo linhas que contenham a string \"Tela\" em qualquer coluna\n",
    "df = df[~df.apply(lambda row: row.astype(str).str.contains('Tela')).any(axis=1)]\n",
    "\n",
    "# Transformando o tipo de dado das colunas de valores monetários\n",
    "df['A_LIQUIDAR'] = df['A_LIQUIDAR'].apply(lambda x: float(x.replace('.', '').replace(',', '.')))\n",
    "df['LIQUIDADO_A_PAGAR'] = df['LIQUIDADO_A_PAGAR'].apply(lambda x: float(x.replace('.', '').replace(',', '.')))\n",
    "df['TOTAL_A_PAGAR'] = df['TOTAL_A_PAGAR'].apply(lambda x: float(x.replace('.', '').replace(',', '.')))\n",
    "df['PAGO'] = df['PAGO'].apply(lambda x: float(x.replace('.', '').replace(',', '.')))\n",
    "\n",
    "# Convertendo a coluna DATA para datetime\n",
    "df['DATA'] = pd.to_datetime(df['DATA'], format='%d/%m/%y')\n",
    "\n",
    "# Convertendo a coluna DIAS em número inteiro\n",
    "df['DIAS'] = df['DIAS'].astype(int)\n",
    "\n"
   ]
  },
  {
   "cell_type": "markdown",
   "metadata": {},
   "source": [
    "# Trabalhando com um DATAFRAME voltado para controle dos SALDOS"
   ]
  },
  {
   "cell_type": "code",
   "execution_count": 3,
   "metadata": {},
   "outputs": [],
   "source": [
    "df_saldos = df[['SIGLA UG', 'ANO', 'NOME_CREDOR', 'DATA', 'DIAS', 'ND','NDSI', 'NOME_NDSI', 'NE', 'PI', 'NOME_PI','TIPO', 'NOME_UGR', 'A_LIQUIDAR', 'LIQUIDADO_A_PAGAR', 'TOTAL_A_PAGAR', 'PAGO']]"
   ]
  },
  {
   "cell_type": "code",
   "execution_count": 4,
   "metadata": {},
   "outputs": [
    {
     "name": "stdout",
     "output_type": "stream",
     "text": [
      "O total pago pela ESA até o momento foi: R$ 25.752.103,50\n",
      "O total de saldo a liquidar pela ESA até o momento foi: R$ 6.368.027,51\n",
      "O total de saldo liquidado a pagar pela ESA até o momento foi: R$ 85.541,88\n",
      "O total de saldo a pagar pela ESA até o momento foi: R$ 6.453.569,39\n"
     ]
    }
   ],
   "source": [
    "# Saldos Totais\n",
    "total_pago = df['PAGO'].sum().round(2)\n",
    "total_a_liquidar = df['A_LIQUIDAR'].sum().round(2)\n",
    "total_liquidado_a_pagar = df['LIQUIDADO_A_PAGAR'].sum().round(2)\n",
    "total_a_pagar = df['TOTAL_A_PAGAR'].sum().round(2)\n",
    "\n",
    "\n",
    "print(f'O total pago pela ESA até o momento foi: {locale.currency(total_pago, grouping=True)}')\n",
    "print(f'O total de saldo a liquidar pela ESA até o momento foi: {locale.currency(total_a_liquidar, grouping=True)}')\n",
    "print(f'O total de saldo liquidado a pagar pela ESA até o momento foi: {locale.currency(total_liquidado_a_pagar, grouping=True)}')\n",
    "print(f'O total de saldo a pagar pela ESA até o momento foi: {locale.currency(total_a_pagar, grouping=True)}')"
   ]
  },
  {
   "cell_type": "code",
   "execution_count": 5,
   "metadata": {},
   "outputs": [
    {
     "data": {
      "application/vnd.plotly.v1+json": {
       "config": {
        "plotlyServerURL": "https://plot.ly"
       },
       "data": [
        {
         "alignmentgroup": "True",
         "cliponaxis": false,
         "legendgroup": "",
         "marker": {
          "color": [
           3088678.14,
           939215.65,
           780856.59,
           494901.65,
           319200.67,
           256692.08999999997,
           256287.58,
           200272.22,
           20979.66,
           5246.5,
           4195.94,
           1500.82
          ],
          "coloraxis": "coloraxis",
          "pattern": {
           "shape": ""
          }
         },
         "name": "",
         "offsetgroup": "",
         "orientation": "v",
         "showlegend": false,
         "textposition": "outside",
         "texttemplate": "%{y:.3s}",
         "type": "bar",
         "x": [
          "339039",
          "339030",
          "339033",
          "449052",
          "339015",
          "339037",
          "339093",
          "339040",
          "339036",
          "339032",
          "339147",
          "339047"
         ],
         "xaxis": "x",
         "y": [
          3088678.14,
          939215.65,
          780856.59,
          494901.65,
          319200.67,
          256692.08999999997,
          256287.58,
          200272.22,
          20979.66,
          5246.5,
          4195.94,
          1500.82
         ],
         "yaxis": "y"
        }
       ],
       "layout": {
        "barmode": "relative",
        "coloraxis": {
         "colorbar": {
          "title": {
           "text": "Saldo a liquidar"
          }
         },
         "colorscale": [
          [
           0,
           "rgb(255,245,240)"
          ],
          [
           0.125,
           "rgb(254,224,210)"
          ],
          [
           0.25,
           "rgb(252,187,161)"
          ],
          [
           0.375,
           "rgb(252,146,114)"
          ],
          [
           0.5,
           "rgb(251,106,74)"
          ],
          [
           0.625,
           "rgb(239,59,44)"
          ],
          [
           0.75,
           "rgb(203,24,29)"
          ],
          [
           0.875,
           "rgb(165,15,21)"
          ],
          [
           1,
           "rgb(103,0,13)"
          ]
         ]
        },
        "height": 500,
        "hovermode": "x unified",
        "legend": {
         "tracegroupgap": 0
        },
        "template": {
         "data": {
          "bar": [
           {
            "error_x": {
             "color": "#f2f5fa"
            },
            "error_y": {
             "color": "#f2f5fa"
            },
            "marker": {
             "line": {
              "color": "rgb(17,17,17)",
              "width": 0.5
             },
             "pattern": {
              "fillmode": "overlay",
              "size": 10,
              "solidity": 0.2
             }
            },
            "type": "bar"
           }
          ],
          "barpolar": [
           {
            "marker": {
             "line": {
              "color": "rgb(17,17,17)",
              "width": 0.5
             },
             "pattern": {
              "fillmode": "overlay",
              "size": 10,
              "solidity": 0.2
             }
            },
            "type": "barpolar"
           }
          ],
          "carpet": [
           {
            "aaxis": {
             "endlinecolor": "#A2B1C6",
             "gridcolor": "#506784",
             "linecolor": "#506784",
             "minorgridcolor": "#506784",
             "startlinecolor": "#A2B1C6"
            },
            "baxis": {
             "endlinecolor": "#A2B1C6",
             "gridcolor": "#506784",
             "linecolor": "#506784",
             "minorgridcolor": "#506784",
             "startlinecolor": "#A2B1C6"
            },
            "type": "carpet"
           }
          ],
          "choropleth": [
           {
            "colorbar": {
             "outlinewidth": 0,
             "ticks": ""
            },
            "type": "choropleth"
           }
          ],
          "contour": [
           {
            "colorbar": {
             "outlinewidth": 0,
             "ticks": ""
            },
            "colorscale": [
             [
              0,
              "#0d0887"
             ],
             [
              0.1111111111111111,
              "#46039f"
             ],
             [
              0.2222222222222222,
              "#7201a8"
             ],
             [
              0.3333333333333333,
              "#9c179e"
             ],
             [
              0.4444444444444444,
              "#bd3786"
             ],
             [
              0.5555555555555556,
              "#d8576b"
             ],
             [
              0.6666666666666666,
              "#ed7953"
             ],
             [
              0.7777777777777778,
              "#fb9f3a"
             ],
             [
              0.8888888888888888,
              "#fdca26"
             ],
             [
              1,
              "#f0f921"
             ]
            ],
            "type": "contour"
           }
          ],
          "contourcarpet": [
           {
            "colorbar": {
             "outlinewidth": 0,
             "ticks": ""
            },
            "type": "contourcarpet"
           }
          ],
          "heatmap": [
           {
            "colorbar": {
             "outlinewidth": 0,
             "ticks": ""
            },
            "colorscale": [
             [
              0,
              "#0d0887"
             ],
             [
              0.1111111111111111,
              "#46039f"
             ],
             [
              0.2222222222222222,
              "#7201a8"
             ],
             [
              0.3333333333333333,
              "#9c179e"
             ],
             [
              0.4444444444444444,
              "#bd3786"
             ],
             [
              0.5555555555555556,
              "#d8576b"
             ],
             [
              0.6666666666666666,
              "#ed7953"
             ],
             [
              0.7777777777777778,
              "#fb9f3a"
             ],
             [
              0.8888888888888888,
              "#fdca26"
             ],
             [
              1,
              "#f0f921"
             ]
            ],
            "type": "heatmap"
           }
          ],
          "heatmapgl": [
           {
            "colorbar": {
             "outlinewidth": 0,
             "ticks": ""
            },
            "colorscale": [
             [
              0,
              "#0d0887"
             ],
             [
              0.1111111111111111,
              "#46039f"
             ],
             [
              0.2222222222222222,
              "#7201a8"
             ],
             [
              0.3333333333333333,
              "#9c179e"
             ],
             [
              0.4444444444444444,
              "#bd3786"
             ],
             [
              0.5555555555555556,
              "#d8576b"
             ],
             [
              0.6666666666666666,
              "#ed7953"
             ],
             [
              0.7777777777777778,
              "#fb9f3a"
             ],
             [
              0.8888888888888888,
              "#fdca26"
             ],
             [
              1,
              "#f0f921"
             ]
            ],
            "type": "heatmapgl"
           }
          ],
          "histogram": [
           {
            "marker": {
             "pattern": {
              "fillmode": "overlay",
              "size": 10,
              "solidity": 0.2
             }
            },
            "type": "histogram"
           }
          ],
          "histogram2d": [
           {
            "colorbar": {
             "outlinewidth": 0,
             "ticks": ""
            },
            "colorscale": [
             [
              0,
              "#0d0887"
             ],
             [
              0.1111111111111111,
              "#46039f"
             ],
             [
              0.2222222222222222,
              "#7201a8"
             ],
             [
              0.3333333333333333,
              "#9c179e"
             ],
             [
              0.4444444444444444,
              "#bd3786"
             ],
             [
              0.5555555555555556,
              "#d8576b"
             ],
             [
              0.6666666666666666,
              "#ed7953"
             ],
             [
              0.7777777777777778,
              "#fb9f3a"
             ],
             [
              0.8888888888888888,
              "#fdca26"
             ],
             [
              1,
              "#f0f921"
             ]
            ],
            "type": "histogram2d"
           }
          ],
          "histogram2dcontour": [
           {
            "colorbar": {
             "outlinewidth": 0,
             "ticks": ""
            },
            "colorscale": [
             [
              0,
              "#0d0887"
             ],
             [
              0.1111111111111111,
              "#46039f"
             ],
             [
              0.2222222222222222,
              "#7201a8"
             ],
             [
              0.3333333333333333,
              "#9c179e"
             ],
             [
              0.4444444444444444,
              "#bd3786"
             ],
             [
              0.5555555555555556,
              "#d8576b"
             ],
             [
              0.6666666666666666,
              "#ed7953"
             ],
             [
              0.7777777777777778,
              "#fb9f3a"
             ],
             [
              0.8888888888888888,
              "#fdca26"
             ],
             [
              1,
              "#f0f921"
             ]
            ],
            "type": "histogram2dcontour"
           }
          ],
          "mesh3d": [
           {
            "colorbar": {
             "outlinewidth": 0,
             "ticks": ""
            },
            "type": "mesh3d"
           }
          ],
          "parcoords": [
           {
            "line": {
             "colorbar": {
              "outlinewidth": 0,
              "ticks": ""
             }
            },
            "type": "parcoords"
           }
          ],
          "pie": [
           {
            "automargin": true,
            "type": "pie"
           }
          ],
          "scatter": [
           {
            "marker": {
             "line": {
              "color": "#283442"
             }
            },
            "type": "scatter"
           }
          ],
          "scatter3d": [
           {
            "line": {
             "colorbar": {
              "outlinewidth": 0,
              "ticks": ""
             }
            },
            "marker": {
             "colorbar": {
              "outlinewidth": 0,
              "ticks": ""
             }
            },
            "type": "scatter3d"
           }
          ],
          "scattercarpet": [
           {
            "marker": {
             "colorbar": {
              "outlinewidth": 0,
              "ticks": ""
             }
            },
            "type": "scattercarpet"
           }
          ],
          "scattergeo": [
           {
            "marker": {
             "colorbar": {
              "outlinewidth": 0,
              "ticks": ""
             }
            },
            "type": "scattergeo"
           }
          ],
          "scattergl": [
           {
            "marker": {
             "line": {
              "color": "#283442"
             }
            },
            "type": "scattergl"
           }
          ],
          "scattermapbox": [
           {
            "marker": {
             "colorbar": {
              "outlinewidth": 0,
              "ticks": ""
             }
            },
            "type": "scattermapbox"
           }
          ],
          "scatterpolar": [
           {
            "marker": {
             "colorbar": {
              "outlinewidth": 0,
              "ticks": ""
             }
            },
            "type": "scatterpolar"
           }
          ],
          "scatterpolargl": [
           {
            "marker": {
             "colorbar": {
              "outlinewidth": 0,
              "ticks": ""
             }
            },
            "type": "scatterpolargl"
           }
          ],
          "scatterternary": [
           {
            "marker": {
             "colorbar": {
              "outlinewidth": 0,
              "ticks": ""
             }
            },
            "type": "scatterternary"
           }
          ],
          "surface": [
           {
            "colorbar": {
             "outlinewidth": 0,
             "ticks": ""
            },
            "colorscale": [
             [
              0,
              "#0d0887"
             ],
             [
              0.1111111111111111,
              "#46039f"
             ],
             [
              0.2222222222222222,
              "#7201a8"
             ],
             [
              0.3333333333333333,
              "#9c179e"
             ],
             [
              0.4444444444444444,
              "#bd3786"
             ],
             [
              0.5555555555555556,
              "#d8576b"
             ],
             [
              0.6666666666666666,
              "#ed7953"
             ],
             [
              0.7777777777777778,
              "#fb9f3a"
             ],
             [
              0.8888888888888888,
              "#fdca26"
             ],
             [
              1,
              "#f0f921"
             ]
            ],
            "type": "surface"
           }
          ],
          "table": [
           {
            "cells": {
             "fill": {
              "color": "#506784"
             },
             "line": {
              "color": "rgb(17,17,17)"
             }
            },
            "header": {
             "fill": {
              "color": "#2a3f5f"
             },
             "line": {
              "color": "rgb(17,17,17)"
             }
            },
            "type": "table"
           }
          ]
         },
         "layout": {
          "annotationdefaults": {
           "arrowcolor": "#f2f5fa",
           "arrowhead": 0,
           "arrowwidth": 1
          },
          "autotypenumbers": "strict",
          "coloraxis": {
           "colorbar": {
            "outlinewidth": 0,
            "ticks": ""
           }
          },
          "colorscale": {
           "diverging": [
            [
             0,
             "#8e0152"
            ],
            [
             0.1,
             "#c51b7d"
            ],
            [
             0.2,
             "#de77ae"
            ],
            [
             0.3,
             "#f1b6da"
            ],
            [
             0.4,
             "#fde0ef"
            ],
            [
             0.5,
             "#f7f7f7"
            ],
            [
             0.6,
             "#e6f5d0"
            ],
            [
             0.7,
             "#b8e186"
            ],
            [
             0.8,
             "#7fbc41"
            ],
            [
             0.9,
             "#4d9221"
            ],
            [
             1,
             "#276419"
            ]
           ],
           "sequential": [
            [
             0,
             "#0d0887"
            ],
            [
             0.1111111111111111,
             "#46039f"
            ],
            [
             0.2222222222222222,
             "#7201a8"
            ],
            [
             0.3333333333333333,
             "#9c179e"
            ],
            [
             0.4444444444444444,
             "#bd3786"
            ],
            [
             0.5555555555555556,
             "#d8576b"
            ],
            [
             0.6666666666666666,
             "#ed7953"
            ],
            [
             0.7777777777777778,
             "#fb9f3a"
            ],
            [
             0.8888888888888888,
             "#fdca26"
            ],
            [
             1,
             "#f0f921"
            ]
           ],
           "sequentialminus": [
            [
             0,
             "#0d0887"
            ],
            [
             0.1111111111111111,
             "#46039f"
            ],
            [
             0.2222222222222222,
             "#7201a8"
            ],
            [
             0.3333333333333333,
             "#9c179e"
            ],
            [
             0.4444444444444444,
             "#bd3786"
            ],
            [
             0.5555555555555556,
             "#d8576b"
            ],
            [
             0.6666666666666666,
             "#ed7953"
            ],
            [
             0.7777777777777778,
             "#fb9f3a"
            ],
            [
             0.8888888888888888,
             "#fdca26"
            ],
            [
             1,
             "#f0f921"
            ]
           ]
          },
          "colorway": [
           "#636efa",
           "#EF553B",
           "#00cc96",
           "#ab63fa",
           "#FFA15A",
           "#19d3f3",
           "#FF6692",
           "#B6E880",
           "#FF97FF",
           "#FECB52"
          ],
          "font": {
           "color": "#f2f5fa"
          },
          "geo": {
           "bgcolor": "rgb(17,17,17)",
           "lakecolor": "rgb(17,17,17)",
           "landcolor": "rgb(17,17,17)",
           "showlakes": true,
           "showland": true,
           "subunitcolor": "#506784"
          },
          "hoverlabel": {
           "align": "left"
          },
          "hovermode": "closest",
          "mapbox": {
           "style": "dark"
          },
          "paper_bgcolor": "rgb(17,17,17)",
          "plot_bgcolor": "rgb(17,17,17)",
          "polar": {
           "angularaxis": {
            "gridcolor": "#506784",
            "linecolor": "#506784",
            "ticks": ""
           },
           "bgcolor": "rgb(17,17,17)",
           "radialaxis": {
            "gridcolor": "#506784",
            "linecolor": "#506784",
            "ticks": ""
           }
          },
          "scene": {
           "xaxis": {
            "backgroundcolor": "rgb(17,17,17)",
            "gridcolor": "#506784",
            "gridwidth": 2,
            "linecolor": "#506784",
            "showbackground": true,
            "ticks": "",
            "zerolinecolor": "#C8D4E3"
           },
           "yaxis": {
            "backgroundcolor": "rgb(17,17,17)",
            "gridcolor": "#506784",
            "gridwidth": 2,
            "linecolor": "#506784",
            "showbackground": true,
            "ticks": "",
            "zerolinecolor": "#C8D4E3"
           },
           "zaxis": {
            "backgroundcolor": "rgb(17,17,17)",
            "gridcolor": "#506784",
            "gridwidth": 2,
            "linecolor": "#506784",
            "showbackground": true,
            "ticks": "",
            "zerolinecolor": "#C8D4E3"
           }
          },
          "shapedefaults": {
           "line": {
            "color": "#f2f5fa"
           }
          },
          "sliderdefaults": {
           "bgcolor": "#C8D4E3",
           "bordercolor": "rgb(17,17,17)",
           "borderwidth": 1,
           "tickwidth": 0
          },
          "ternary": {
           "aaxis": {
            "gridcolor": "#506784",
            "linecolor": "#506784",
            "ticks": ""
           },
           "baxis": {
            "gridcolor": "#506784",
            "linecolor": "#506784",
            "ticks": ""
           },
           "bgcolor": "rgb(17,17,17)",
           "caxis": {
            "gridcolor": "#506784",
            "linecolor": "#506784",
            "ticks": ""
           }
          },
          "title": {
           "x": 0.05
          },
          "updatemenudefaults": {
           "bgcolor": "#506784",
           "borderwidth": 0
          },
          "xaxis": {
           "automargin": true,
           "gridcolor": "#283442",
           "linecolor": "#506784",
           "ticks": "",
           "title": {
            "standoff": 15
           },
           "zerolinecolor": "#283442",
           "zerolinewidth": 2
          },
          "yaxis": {
           "automargin": true,
           "gridcolor": "#283442",
           "linecolor": "#506784",
           "ticks": "",
           "title": {
            "standoff": 15
           },
           "zerolinecolor": "#283442",
           "zerolinewidth": 2
          }
         }
        },
        "title": {
         "text": "Saldo a liquidar por ND"
        },
        "xaxis": {
         "anchor": "y",
         "domain": [
          0,
          1
         ],
         "title": {
          "text": "Natureza da Despesa"
         }
        },
        "yaxis": {
         "anchor": "x",
         "domain": [
          0,
          1
         ],
         "title": {
          "text": "Saldo a liquidar"
         },
         "type": "log"
        }
       }
      }
     },
     "metadata": {},
     "output_type": "display_data"
    }
   ],
   "source": [
    "# Saldo a liquidar por ND\n",
    "cols = ['ND', 'A_LIQUIDAR']\n",
    "\n",
    "df_aux = df.loc[:, cols].groupby('ND').sum().sort_values(by= 'A_LIQUIDAR', ascending=False).reset_index()\n",
    "df_aux = df_aux[df_aux['A_LIQUIDAR'] > 0]\n",
    "fig = px.bar(df_aux, \n",
    "             x='ND', \n",
    "             y='A_LIQUIDAR',\n",
    "             title='Saldo a liquidar por ND',\n",
    "             labels={'ND':'Natureza da Despesa', 'A_LIQUIDAR':'Saldo a liquidar'},\n",
    "             text_auto='.3s',\n",
    "             height=500,\n",
    "             log_y=True,\n",
    "             color='A_LIQUIDAR',\n",
    "             color_continuous_scale = 'reds',\n",
    "             template='plotly_dark')\n",
    "fig.update_traces(textposition = 'outside', cliponaxis = False, hovertemplate=None)\n",
    "fig.update_layout(hovermode=\"x unified\")\n",
    "\n",
    "fig.show()"
   ]
  },
  {
   "cell_type": "code",
   "execution_count": 6,
   "metadata": {},
   "outputs": [
    {
     "data": {
      "application/vnd.plotly.v1+json": {
       "config": {
        "plotlyServerURL": "https://plot.ly"
       },
       "data": [
        {
         "alignmentgroup": "True",
         "cliponaxis": false,
         "legendgroup": "",
         "marker": {
          "color": [
           1126583.55,
           628763.55,
           561259.4,
           441008,
           370903.44,
           309013.29000000004,
           256692.08999999997,
           254369.14,
           198997.04,
           194408.52000000002,
           176770,
           173536.78,
           170331.52,
           151926.46,
           149093.32,
           128368.65,
           101336.8,
           91274,
           87057,
           75286.71,
           69000,
           48861.64,
           48731.4,
           46688.9,
           46619.3,
           36655.18,
           36127.45,
           24939.6,
           24059,
           23653.41,
           22000,
           21569.15,
           20979.66,
           19252.8,
           18940,
           17975,
           16500.47,
           13933.2,
           13778,
           12213.970000000001,
           11712.97,
           10688.96,
           10187.380000000001,
           9766,
           8837.42,
           8641.95,
           7173.360000000001,
           6694,
           6245,
           6194.3,
           5863.7,
           5708.51,
           5400,
           5246.5,
           4473,
           4195.94,
           3044.75,
           2670.94,
           1975.58,
           1956.2,
           1620,
           1601.64,
           1500.82,
           1405.22,
           1390,
           1080,
           995,
           725,
           687.8,
           485.48,
           384,
           18.7
          ],
          "coloraxis": "coloraxis",
          "pattern": {
           "shape": ""
          }
         },
         "name": "",
         "offsetgroup": "",
         "orientation": "v",
         "showlegend": false,
         "textposition": "outside",
         "texttemplate": "%{y:.3s}",
         "type": "bar",
         "x": [
          "33903916",
          "33903943",
          "33903963",
          "33903304",
          "33903007",
          "33901514",
          "33903702",
          "44905242",
          "33903922",
          "33904016",
          "33909314",
          "33903006",
          "33903309",
          "33903974",
          "33903950",
          "33903004",
          "33903917",
          "44905241",
          "33903302",
          "33903301",
          "33909302",
          "33903024",
          "33903009",
          "33903017",
          "44905224",
          "33903946",
          "33903947",
          "33903022",
          "44905251",
          "44905230",
          "33903959",
          "33903018",
          "33903630",
          "44905212",
          "33903914",
          "33903023",
          "33903944",
          "33903010",
          "44905232",
          "33903958",
          "33903039",
          "33903012",
          "33901516",
          "33903920",
          "44905228",
          "33903969",
          "33903303",
          "44905234",
          "33909308",
          "33903042",
          "33904012",
          "33903026",
          "33903912",
          "33903209",
          "33903919",
          "33914718",
          "33903021",
          "33909301",
          "44905248",
          "33903019",
          "44905233",
          "33909318",
          "33904710",
          "33903096",
          "44905235",
          "33903011",
          "44905238",
          "33903016",
          "33903028",
          "33903014",
          "44905204",
          "33903025"
         ],
         "xaxis": "x",
         "y": [
          1126583.55,
          628763.55,
          561259.4,
          441008,
          370903.44,
          309013.29000000004,
          256692.08999999997,
          254369.14,
          198997.04,
          194408.52000000002,
          176770,
          173536.78,
          170331.52,
          151926.46,
          149093.32,
          128368.65,
          101336.8,
          91274,
          87057,
          75286.71,
          69000,
          48861.64,
          48731.4,
          46688.9,
          46619.3,
          36655.18,
          36127.45,
          24939.6,
          24059,
          23653.41,
          22000,
          21569.15,
          20979.66,
          19252.8,
          18940,
          17975,
          16500.47,
          13933.2,
          13778,
          12213.970000000001,
          11712.97,
          10688.96,
          10187.380000000001,
          9766,
          8837.42,
          8641.95,
          7173.360000000001,
          6694,
          6245,
          6194.3,
          5863.7,
          5708.51,
          5400,
          5246.5,
          4473,
          4195.94,
          3044.75,
          2670.94,
          1975.58,
          1956.2,
          1620,
          1601.64,
          1500.82,
          1405.22,
          1390,
          1080,
          995,
          725,
          687.8,
          485.48,
          384,
          18.7
         ],
         "yaxis": "y"
        }
       ],
       "layout": {
        "barmode": "relative",
        "coloraxis": {
         "colorbar": {
          "title": {
           "text": "Saldo a liquidar"
          }
         },
         "colorscale": [
          [
           0,
           "rgb(255,245,240)"
          ],
          [
           0.125,
           "rgb(254,224,210)"
          ],
          [
           0.25,
           "rgb(252,187,161)"
          ],
          [
           0.375,
           "rgb(252,146,114)"
          ],
          [
           0.5,
           "rgb(251,106,74)"
          ],
          [
           0.625,
           "rgb(239,59,44)"
          ],
          [
           0.75,
           "rgb(203,24,29)"
          ],
          [
           0.875,
           "rgb(165,15,21)"
          ],
          [
           1,
           "rgb(103,0,13)"
          ]
         ]
        },
        "height": 600,
        "hovermode": "x unified",
        "legend": {
         "tracegroupgap": 0
        },
        "template": {
         "data": {
          "bar": [
           {
            "error_x": {
             "color": "#f2f5fa"
            },
            "error_y": {
             "color": "#f2f5fa"
            },
            "marker": {
             "line": {
              "color": "rgb(17,17,17)",
              "width": 0.5
             },
             "pattern": {
              "fillmode": "overlay",
              "size": 10,
              "solidity": 0.2
             }
            },
            "type": "bar"
           }
          ],
          "barpolar": [
           {
            "marker": {
             "line": {
              "color": "rgb(17,17,17)",
              "width": 0.5
             },
             "pattern": {
              "fillmode": "overlay",
              "size": 10,
              "solidity": 0.2
             }
            },
            "type": "barpolar"
           }
          ],
          "carpet": [
           {
            "aaxis": {
             "endlinecolor": "#A2B1C6",
             "gridcolor": "#506784",
             "linecolor": "#506784",
             "minorgridcolor": "#506784",
             "startlinecolor": "#A2B1C6"
            },
            "baxis": {
             "endlinecolor": "#A2B1C6",
             "gridcolor": "#506784",
             "linecolor": "#506784",
             "minorgridcolor": "#506784",
             "startlinecolor": "#A2B1C6"
            },
            "type": "carpet"
           }
          ],
          "choropleth": [
           {
            "colorbar": {
             "outlinewidth": 0,
             "ticks": ""
            },
            "type": "choropleth"
           }
          ],
          "contour": [
           {
            "colorbar": {
             "outlinewidth": 0,
             "ticks": ""
            },
            "colorscale": [
             [
              0,
              "#0d0887"
             ],
             [
              0.1111111111111111,
              "#46039f"
             ],
             [
              0.2222222222222222,
              "#7201a8"
             ],
             [
              0.3333333333333333,
              "#9c179e"
             ],
             [
              0.4444444444444444,
              "#bd3786"
             ],
             [
              0.5555555555555556,
              "#d8576b"
             ],
             [
              0.6666666666666666,
              "#ed7953"
             ],
             [
              0.7777777777777778,
              "#fb9f3a"
             ],
             [
              0.8888888888888888,
              "#fdca26"
             ],
             [
              1,
              "#f0f921"
             ]
            ],
            "type": "contour"
           }
          ],
          "contourcarpet": [
           {
            "colorbar": {
             "outlinewidth": 0,
             "ticks": ""
            },
            "type": "contourcarpet"
           }
          ],
          "heatmap": [
           {
            "colorbar": {
             "outlinewidth": 0,
             "ticks": ""
            },
            "colorscale": [
             [
              0,
              "#0d0887"
             ],
             [
              0.1111111111111111,
              "#46039f"
             ],
             [
              0.2222222222222222,
              "#7201a8"
             ],
             [
              0.3333333333333333,
              "#9c179e"
             ],
             [
              0.4444444444444444,
              "#bd3786"
             ],
             [
              0.5555555555555556,
              "#d8576b"
             ],
             [
              0.6666666666666666,
              "#ed7953"
             ],
             [
              0.7777777777777778,
              "#fb9f3a"
             ],
             [
              0.8888888888888888,
              "#fdca26"
             ],
             [
              1,
              "#f0f921"
             ]
            ],
            "type": "heatmap"
           }
          ],
          "heatmapgl": [
           {
            "colorbar": {
             "outlinewidth": 0,
             "ticks": ""
            },
            "colorscale": [
             [
              0,
              "#0d0887"
             ],
             [
              0.1111111111111111,
              "#46039f"
             ],
             [
              0.2222222222222222,
              "#7201a8"
             ],
             [
              0.3333333333333333,
              "#9c179e"
             ],
             [
              0.4444444444444444,
              "#bd3786"
             ],
             [
              0.5555555555555556,
              "#d8576b"
             ],
             [
              0.6666666666666666,
              "#ed7953"
             ],
             [
              0.7777777777777778,
              "#fb9f3a"
             ],
             [
              0.8888888888888888,
              "#fdca26"
             ],
             [
              1,
              "#f0f921"
             ]
            ],
            "type": "heatmapgl"
           }
          ],
          "histogram": [
           {
            "marker": {
             "pattern": {
              "fillmode": "overlay",
              "size": 10,
              "solidity": 0.2
             }
            },
            "type": "histogram"
           }
          ],
          "histogram2d": [
           {
            "colorbar": {
             "outlinewidth": 0,
             "ticks": ""
            },
            "colorscale": [
             [
              0,
              "#0d0887"
             ],
             [
              0.1111111111111111,
              "#46039f"
             ],
             [
              0.2222222222222222,
              "#7201a8"
             ],
             [
              0.3333333333333333,
              "#9c179e"
             ],
             [
              0.4444444444444444,
              "#bd3786"
             ],
             [
              0.5555555555555556,
              "#d8576b"
             ],
             [
              0.6666666666666666,
              "#ed7953"
             ],
             [
              0.7777777777777778,
              "#fb9f3a"
             ],
             [
              0.8888888888888888,
              "#fdca26"
             ],
             [
              1,
              "#f0f921"
             ]
            ],
            "type": "histogram2d"
           }
          ],
          "histogram2dcontour": [
           {
            "colorbar": {
             "outlinewidth": 0,
             "ticks": ""
            },
            "colorscale": [
             [
              0,
              "#0d0887"
             ],
             [
              0.1111111111111111,
              "#46039f"
             ],
             [
              0.2222222222222222,
              "#7201a8"
             ],
             [
              0.3333333333333333,
              "#9c179e"
             ],
             [
              0.4444444444444444,
              "#bd3786"
             ],
             [
              0.5555555555555556,
              "#d8576b"
             ],
             [
              0.6666666666666666,
              "#ed7953"
             ],
             [
              0.7777777777777778,
              "#fb9f3a"
             ],
             [
              0.8888888888888888,
              "#fdca26"
             ],
             [
              1,
              "#f0f921"
             ]
            ],
            "type": "histogram2dcontour"
           }
          ],
          "mesh3d": [
           {
            "colorbar": {
             "outlinewidth": 0,
             "ticks": ""
            },
            "type": "mesh3d"
           }
          ],
          "parcoords": [
           {
            "line": {
             "colorbar": {
              "outlinewidth": 0,
              "ticks": ""
             }
            },
            "type": "parcoords"
           }
          ],
          "pie": [
           {
            "automargin": true,
            "type": "pie"
           }
          ],
          "scatter": [
           {
            "marker": {
             "line": {
              "color": "#283442"
             }
            },
            "type": "scatter"
           }
          ],
          "scatter3d": [
           {
            "line": {
             "colorbar": {
              "outlinewidth": 0,
              "ticks": ""
             }
            },
            "marker": {
             "colorbar": {
              "outlinewidth": 0,
              "ticks": ""
             }
            },
            "type": "scatter3d"
           }
          ],
          "scattercarpet": [
           {
            "marker": {
             "colorbar": {
              "outlinewidth": 0,
              "ticks": ""
             }
            },
            "type": "scattercarpet"
           }
          ],
          "scattergeo": [
           {
            "marker": {
             "colorbar": {
              "outlinewidth": 0,
              "ticks": ""
             }
            },
            "type": "scattergeo"
           }
          ],
          "scattergl": [
           {
            "marker": {
             "line": {
              "color": "#283442"
             }
            },
            "type": "scattergl"
           }
          ],
          "scattermapbox": [
           {
            "marker": {
             "colorbar": {
              "outlinewidth": 0,
              "ticks": ""
             }
            },
            "type": "scattermapbox"
           }
          ],
          "scatterpolar": [
           {
            "marker": {
             "colorbar": {
              "outlinewidth": 0,
              "ticks": ""
             }
            },
            "type": "scatterpolar"
           }
          ],
          "scatterpolargl": [
           {
            "marker": {
             "colorbar": {
              "outlinewidth": 0,
              "ticks": ""
             }
            },
            "type": "scatterpolargl"
           }
          ],
          "scatterternary": [
           {
            "marker": {
             "colorbar": {
              "outlinewidth": 0,
              "ticks": ""
             }
            },
            "type": "scatterternary"
           }
          ],
          "surface": [
           {
            "colorbar": {
             "outlinewidth": 0,
             "ticks": ""
            },
            "colorscale": [
             [
              0,
              "#0d0887"
             ],
             [
              0.1111111111111111,
              "#46039f"
             ],
             [
              0.2222222222222222,
              "#7201a8"
             ],
             [
              0.3333333333333333,
              "#9c179e"
             ],
             [
              0.4444444444444444,
              "#bd3786"
             ],
             [
              0.5555555555555556,
              "#d8576b"
             ],
             [
              0.6666666666666666,
              "#ed7953"
             ],
             [
              0.7777777777777778,
              "#fb9f3a"
             ],
             [
              0.8888888888888888,
              "#fdca26"
             ],
             [
              1,
              "#f0f921"
             ]
            ],
            "type": "surface"
           }
          ],
          "table": [
           {
            "cells": {
             "fill": {
              "color": "#506784"
             },
             "line": {
              "color": "rgb(17,17,17)"
             }
            },
            "header": {
             "fill": {
              "color": "#2a3f5f"
             },
             "line": {
              "color": "rgb(17,17,17)"
             }
            },
            "type": "table"
           }
          ]
         },
         "layout": {
          "annotationdefaults": {
           "arrowcolor": "#f2f5fa",
           "arrowhead": 0,
           "arrowwidth": 1
          },
          "autotypenumbers": "strict",
          "coloraxis": {
           "colorbar": {
            "outlinewidth": 0,
            "ticks": ""
           }
          },
          "colorscale": {
           "diverging": [
            [
             0,
             "#8e0152"
            ],
            [
             0.1,
             "#c51b7d"
            ],
            [
             0.2,
             "#de77ae"
            ],
            [
             0.3,
             "#f1b6da"
            ],
            [
             0.4,
             "#fde0ef"
            ],
            [
             0.5,
             "#f7f7f7"
            ],
            [
             0.6,
             "#e6f5d0"
            ],
            [
             0.7,
             "#b8e186"
            ],
            [
             0.8,
             "#7fbc41"
            ],
            [
             0.9,
             "#4d9221"
            ],
            [
             1,
             "#276419"
            ]
           ],
           "sequential": [
            [
             0,
             "#0d0887"
            ],
            [
             0.1111111111111111,
             "#46039f"
            ],
            [
             0.2222222222222222,
             "#7201a8"
            ],
            [
             0.3333333333333333,
             "#9c179e"
            ],
            [
             0.4444444444444444,
             "#bd3786"
            ],
            [
             0.5555555555555556,
             "#d8576b"
            ],
            [
             0.6666666666666666,
             "#ed7953"
            ],
            [
             0.7777777777777778,
             "#fb9f3a"
            ],
            [
             0.8888888888888888,
             "#fdca26"
            ],
            [
             1,
             "#f0f921"
            ]
           ],
           "sequentialminus": [
            [
             0,
             "#0d0887"
            ],
            [
             0.1111111111111111,
             "#46039f"
            ],
            [
             0.2222222222222222,
             "#7201a8"
            ],
            [
             0.3333333333333333,
             "#9c179e"
            ],
            [
             0.4444444444444444,
             "#bd3786"
            ],
            [
             0.5555555555555556,
             "#d8576b"
            ],
            [
             0.6666666666666666,
             "#ed7953"
            ],
            [
             0.7777777777777778,
             "#fb9f3a"
            ],
            [
             0.8888888888888888,
             "#fdca26"
            ],
            [
             1,
             "#f0f921"
            ]
           ]
          },
          "colorway": [
           "#636efa",
           "#EF553B",
           "#00cc96",
           "#ab63fa",
           "#FFA15A",
           "#19d3f3",
           "#FF6692",
           "#B6E880",
           "#FF97FF",
           "#FECB52"
          ],
          "font": {
           "color": "#f2f5fa"
          },
          "geo": {
           "bgcolor": "rgb(17,17,17)",
           "lakecolor": "rgb(17,17,17)",
           "landcolor": "rgb(17,17,17)",
           "showlakes": true,
           "showland": true,
           "subunitcolor": "#506784"
          },
          "hoverlabel": {
           "align": "left"
          },
          "hovermode": "closest",
          "mapbox": {
           "style": "dark"
          },
          "paper_bgcolor": "rgb(17,17,17)",
          "plot_bgcolor": "rgb(17,17,17)",
          "polar": {
           "angularaxis": {
            "gridcolor": "#506784",
            "linecolor": "#506784",
            "ticks": ""
           },
           "bgcolor": "rgb(17,17,17)",
           "radialaxis": {
            "gridcolor": "#506784",
            "linecolor": "#506784",
            "ticks": ""
           }
          },
          "scene": {
           "xaxis": {
            "backgroundcolor": "rgb(17,17,17)",
            "gridcolor": "#506784",
            "gridwidth": 2,
            "linecolor": "#506784",
            "showbackground": true,
            "ticks": "",
            "zerolinecolor": "#C8D4E3"
           },
           "yaxis": {
            "backgroundcolor": "rgb(17,17,17)",
            "gridcolor": "#506784",
            "gridwidth": 2,
            "linecolor": "#506784",
            "showbackground": true,
            "ticks": "",
            "zerolinecolor": "#C8D4E3"
           },
           "zaxis": {
            "backgroundcolor": "rgb(17,17,17)",
            "gridcolor": "#506784",
            "gridwidth": 2,
            "linecolor": "#506784",
            "showbackground": true,
            "ticks": "",
            "zerolinecolor": "#C8D4E3"
           }
          },
          "shapedefaults": {
           "line": {
            "color": "#f2f5fa"
           }
          },
          "sliderdefaults": {
           "bgcolor": "#C8D4E3",
           "bordercolor": "rgb(17,17,17)",
           "borderwidth": 1,
           "tickwidth": 0
          },
          "ternary": {
           "aaxis": {
            "gridcolor": "#506784",
            "linecolor": "#506784",
            "ticks": ""
           },
           "baxis": {
            "gridcolor": "#506784",
            "linecolor": "#506784",
            "ticks": ""
           },
           "bgcolor": "rgb(17,17,17)",
           "caxis": {
            "gridcolor": "#506784",
            "linecolor": "#506784",
            "ticks": ""
           }
          },
          "title": {
           "x": 0.05
          },
          "updatemenudefaults": {
           "bgcolor": "#506784",
           "borderwidth": 0
          },
          "xaxis": {
           "automargin": true,
           "gridcolor": "#283442",
           "linecolor": "#506784",
           "ticks": "",
           "title": {
            "standoff": 15
           },
           "zerolinecolor": "#283442",
           "zerolinewidth": 2
          },
          "yaxis": {
           "automargin": true,
           "gridcolor": "#283442",
           "linecolor": "#506784",
           "ticks": "",
           "title": {
            "standoff": 15
           },
           "zerolinecolor": "#283442",
           "zerolinewidth": 2
          }
         }
        },
        "title": {
         "text": "Saldo a liquidar por NDSI"
        },
        "xaxis": {
         "anchor": "y",
         "domain": [
          0,
          1
         ],
         "title": {
          "text": "Subitem da despesa"
         }
        },
        "yaxis": {
         "anchor": "x",
         "domain": [
          0,
          1
         ],
         "title": {
          "text": "Saldo a liquidar"
         },
         "type": "log"
        }
       }
      }
     },
     "metadata": {},
     "output_type": "display_data"
    }
   ],
   "source": [
    "# Saldo a liquidar por Subitem\n",
    "cols = ['NDSI', 'A_LIQUIDAR']\n",
    "\n",
    "df_aux = df.loc[:, cols].groupby('NDSI').sum().sort_values(by= 'A_LIQUIDAR', ascending=False).reset_index()\n",
    "df_aux = df_aux[df_aux['A_LIQUIDAR'] > 0]\n",
    "fig = px.bar(df_aux, \n",
    "             x='NDSI', \n",
    "             y='A_LIQUIDAR',\n",
    "             title='Saldo a liquidar por NDSI',\n",
    "             labels={'NDSI':'Subitem da despesa', 'A_LIQUIDAR':'Saldo a liquidar'},\n",
    "             text_auto='.3s',\n",
    "             height=600,\n",
    "             log_y=True,\n",
    "             color='A_LIQUIDAR',\n",
    "             color_continuous_scale = 'reds',\n",
    "             template='plotly_dark')\n",
    "fig.update_traces(textposition = 'outside', cliponaxis = False, hovertemplate=None)\n",
    "fig.update_layout(hovermode=\"x unified\")\n",
    "\n",
    "fig.show()"
   ]
  },
  {
   "cell_type": "code",
   "execution_count": 7,
   "metadata": {},
   "outputs": [
    {
     "data": {
      "application/vnd.plotly.v1+json": {
       "config": {
        "plotlyServerURL": "https://plot.ly"
       },
       "data": [
        {
         "alignmentgroup": "True",
         "cliponaxis": false,
         "legendgroup": "",
         "marker": {
          "color": [
           1330872.21,
           935197.72,
           731823.53,
           628763.55,
           468545.13,
           441008,
           300000,
           256692.08999999997,
           211817.55000000002,
           173536.78,
           134207.12,
           90065.26000000001,
           82368.44,
           50552.45999999999,
           48731.4,
           46325.270000000004,
           37305.11,
           36127.45,
           32243.5,
           26246.1,
           25175.6,
           24149.15,
           23279.9,
           20946.5,
           19059.84,
           17975,
           17838.260000000002,
           16500.47,
           13933.2,
           12218.14,
           11501.01,
           11478.48,
           10213.800000000001,
           9999.67,
           9079.92,
           8645,
           7935.85,
           6245,
           5499.8,
           4591.27,
           4178.89,
           3461,
           2957.3599999999997,
           2670.94,
           2304,
           2086.6400000000003,
           1713.3,
           1654.95,
           1601.64,
           1433.53,
           1405.22,
           1103.9,
           749.6300000000001,
           687.8,
           470.96,
           447.72,
           380,
           25.5
          ],
          "coloraxis": "coloraxis",
          "pattern": {
           "shape": ""
          }
         },
         "name": "",
         "offsetgroup": "",
         "orientation": "v",
         "showlegend": false,
         "textposition": "outside",
         "texttemplate": "%{y:.3s}",
         "type": "bar",
         "x": [
          "CAPACITACAO DE PESSOAL",
          "CONCURSOS AS ESCOLAS MILITARES",
          "AQUARTELAMENTO",
          "DESPESAS COM ENERGIA ELETRICA",
          "A1QR - QUANTITATIVO DE RANCHO",
          "ATS - ATIVIDADES SETORIAIS",
          "CONSTRUIR E ADEQUAR INST SIST EDU E CULT EB",
          "LIMPEZA DE BENS IMÓVEIS",
          "COLEGIO MILITAR - ADMINISTRACAO",
          "ALIMENTACAO PARA EQUINOS.",
          "ORGANIZACAO CIVIL DE SAUDE",
          "ADMINISTRACAO DE OM",
          "OUTROS",
          "MNT DE MÁQ E EQP ADMINISTRATIVOS",
          "MEDICAMENTOS DE ALTO CUSTO",
          "ASSISTENCIA SOCIAL",
          "FUNADOM - DPGO",
          "SERVICO POSTAIS",
          "PNR (UG)",
          "ENSINO MILITAR",
          "PROFISSIONAL DE SAUDE AUTONOMO",
          "MEDIDAS PROFILÁT SAÚDE EQUINOS",
          "A5PA - PASA",
          "DIARIAS",
          "ESCO - QUANTITATIVO DE RANCHO",
          "MATERIAL DE INTENDÊNCIA",
          "REMONTA E VETERINÁRIA",
          "CONCESSIONÁRIAS DE ÁGUA E ESGOTO",
          "PRODUCAO DAS OMS - SIRE",
          "FUNDO EXÉRCITO - DECEX",
          "MANUTENCAO DE MAQUINAS E EQUIP ADMINISTRATIVO",
          "FATOR DE CUSTO - CONTRATO DE OBJETIVOS",
          "PVANA",
          "MANUTENCAO DE BENS MOVEIS",
          "SERVICO DE TELEFONIA FIXA",
          "MNT DE SISTEMAS DE INFORMACãO E COMUNICACãO",
          "PUBLICIDADE",
          "INDENIZACAO DESPESAS.",
          "A3RR - QUANTITATIVO DE RANCHO",
          "CRÉDITO PARA CUTEAR ATIVIDADES DO SAREX",
          "LAVAGEM DE ROUPAS PARA A VIDA VEGETATIVA OM",
          "DESCENTRALIZACAO RECURSOS MOTOMECANIZACAO",
          "DESLOCAMENTO",
          "IND - INDENIZACOES",
          "DIAR - DIARIAS",
          "DSLC A SV PREP ADM MIS EXT",
          "SUPRIMENTO E MANUTENCAO MOTOMECANIZACAO_BLIND",
          "ENG-ATIVIDADES DE ENGENHARIA",
          "IND-INDENIZACOES",
          "UNPCRS",
          "COMBUSTIVEL E LUBRIFICANTES",
          "OPERACOES-PREPARO-DESLOCAMENTO",
          "CAPACITACAO PROF MIL DO EB",
          "CONCURSOS AS ESCOLAS MILITARES - ESPECEX",
          "PRE-PREPARO CDOUT",
          "SERVICOS DE PROTECAO A RADIACAO IONIZANTE",
          "MEDIDAS PROFILÁT SAÚDE CANINOS.",
          "APRESENTACAO E SELECAO"
         ],
         "xaxis": "x",
         "y": [
          1330872.21,
          935197.72,
          731823.53,
          628763.55,
          468545.13,
          441008,
          300000,
          256692.08999999997,
          211817.55000000002,
          173536.78,
          134207.12,
          90065.26000000001,
          82368.44,
          50552.45999999999,
          48731.4,
          46325.270000000004,
          37305.11,
          36127.45,
          32243.5,
          26246.1,
          25175.6,
          24149.15,
          23279.9,
          20946.5,
          19059.84,
          17975,
          17838.260000000002,
          16500.47,
          13933.2,
          12218.14,
          11501.01,
          11478.48,
          10213.800000000001,
          9999.67,
          9079.92,
          8645,
          7935.85,
          6245,
          5499.8,
          4591.27,
          4178.89,
          3461,
          2957.3599999999997,
          2670.94,
          2304,
          2086.6400000000003,
          1713.3,
          1654.95,
          1601.64,
          1433.53,
          1405.22,
          1103.9,
          749.6300000000001,
          687.8,
          470.96,
          447.72,
          380,
          25.5
         ],
         "yaxis": "y"
        }
       ],
       "layout": {
        "barmode": "relative",
        "coloraxis": {
         "colorbar": {
          "title": {
           "text": "Saldo a liquidar"
          }
         },
         "colorscale": [
          [
           0,
           "rgb(255,245,240)"
          ],
          [
           0.125,
           "rgb(254,224,210)"
          ],
          [
           0.25,
           "rgb(252,187,161)"
          ],
          [
           0.375,
           "rgb(252,146,114)"
          ],
          [
           0.5,
           "rgb(251,106,74)"
          ],
          [
           0.625,
           "rgb(239,59,44)"
          ],
          [
           0.75,
           "rgb(203,24,29)"
          ],
          [
           0.875,
           "rgb(165,15,21)"
          ],
          [
           1,
           "rgb(103,0,13)"
          ]
         ]
        },
        "height": 800,
        "hovermode": "x unified",
        "legend": {
         "tracegroupgap": 0
        },
        "template": {
         "data": {
          "bar": [
           {
            "error_x": {
             "color": "#f2f5fa"
            },
            "error_y": {
             "color": "#f2f5fa"
            },
            "marker": {
             "line": {
              "color": "rgb(17,17,17)",
              "width": 0.5
             },
             "pattern": {
              "fillmode": "overlay",
              "size": 10,
              "solidity": 0.2
             }
            },
            "type": "bar"
           }
          ],
          "barpolar": [
           {
            "marker": {
             "line": {
              "color": "rgb(17,17,17)",
              "width": 0.5
             },
             "pattern": {
              "fillmode": "overlay",
              "size": 10,
              "solidity": 0.2
             }
            },
            "type": "barpolar"
           }
          ],
          "carpet": [
           {
            "aaxis": {
             "endlinecolor": "#A2B1C6",
             "gridcolor": "#506784",
             "linecolor": "#506784",
             "minorgridcolor": "#506784",
             "startlinecolor": "#A2B1C6"
            },
            "baxis": {
             "endlinecolor": "#A2B1C6",
             "gridcolor": "#506784",
             "linecolor": "#506784",
             "minorgridcolor": "#506784",
             "startlinecolor": "#A2B1C6"
            },
            "type": "carpet"
           }
          ],
          "choropleth": [
           {
            "colorbar": {
             "outlinewidth": 0,
             "ticks": ""
            },
            "type": "choropleth"
           }
          ],
          "contour": [
           {
            "colorbar": {
             "outlinewidth": 0,
             "ticks": ""
            },
            "colorscale": [
             [
              0,
              "#0d0887"
             ],
             [
              0.1111111111111111,
              "#46039f"
             ],
             [
              0.2222222222222222,
              "#7201a8"
             ],
             [
              0.3333333333333333,
              "#9c179e"
             ],
             [
              0.4444444444444444,
              "#bd3786"
             ],
             [
              0.5555555555555556,
              "#d8576b"
             ],
             [
              0.6666666666666666,
              "#ed7953"
             ],
             [
              0.7777777777777778,
              "#fb9f3a"
             ],
             [
              0.8888888888888888,
              "#fdca26"
             ],
             [
              1,
              "#f0f921"
             ]
            ],
            "type": "contour"
           }
          ],
          "contourcarpet": [
           {
            "colorbar": {
             "outlinewidth": 0,
             "ticks": ""
            },
            "type": "contourcarpet"
           }
          ],
          "heatmap": [
           {
            "colorbar": {
             "outlinewidth": 0,
             "ticks": ""
            },
            "colorscale": [
             [
              0,
              "#0d0887"
             ],
             [
              0.1111111111111111,
              "#46039f"
             ],
             [
              0.2222222222222222,
              "#7201a8"
             ],
             [
              0.3333333333333333,
              "#9c179e"
             ],
             [
              0.4444444444444444,
              "#bd3786"
             ],
             [
              0.5555555555555556,
              "#d8576b"
             ],
             [
              0.6666666666666666,
              "#ed7953"
             ],
             [
              0.7777777777777778,
              "#fb9f3a"
             ],
             [
              0.8888888888888888,
              "#fdca26"
             ],
             [
              1,
              "#f0f921"
             ]
            ],
            "type": "heatmap"
           }
          ],
          "heatmapgl": [
           {
            "colorbar": {
             "outlinewidth": 0,
             "ticks": ""
            },
            "colorscale": [
             [
              0,
              "#0d0887"
             ],
             [
              0.1111111111111111,
              "#46039f"
             ],
             [
              0.2222222222222222,
              "#7201a8"
             ],
             [
              0.3333333333333333,
              "#9c179e"
             ],
             [
              0.4444444444444444,
              "#bd3786"
             ],
             [
              0.5555555555555556,
              "#d8576b"
             ],
             [
              0.6666666666666666,
              "#ed7953"
             ],
             [
              0.7777777777777778,
              "#fb9f3a"
             ],
             [
              0.8888888888888888,
              "#fdca26"
             ],
             [
              1,
              "#f0f921"
             ]
            ],
            "type": "heatmapgl"
           }
          ],
          "histogram": [
           {
            "marker": {
             "pattern": {
              "fillmode": "overlay",
              "size": 10,
              "solidity": 0.2
             }
            },
            "type": "histogram"
           }
          ],
          "histogram2d": [
           {
            "colorbar": {
             "outlinewidth": 0,
             "ticks": ""
            },
            "colorscale": [
             [
              0,
              "#0d0887"
             ],
             [
              0.1111111111111111,
              "#46039f"
             ],
             [
              0.2222222222222222,
              "#7201a8"
             ],
             [
              0.3333333333333333,
              "#9c179e"
             ],
             [
              0.4444444444444444,
              "#bd3786"
             ],
             [
              0.5555555555555556,
              "#d8576b"
             ],
             [
              0.6666666666666666,
              "#ed7953"
             ],
             [
              0.7777777777777778,
              "#fb9f3a"
             ],
             [
              0.8888888888888888,
              "#fdca26"
             ],
             [
              1,
              "#f0f921"
             ]
            ],
            "type": "histogram2d"
           }
          ],
          "histogram2dcontour": [
           {
            "colorbar": {
             "outlinewidth": 0,
             "ticks": ""
            },
            "colorscale": [
             [
              0,
              "#0d0887"
             ],
             [
              0.1111111111111111,
              "#46039f"
             ],
             [
              0.2222222222222222,
              "#7201a8"
             ],
             [
              0.3333333333333333,
              "#9c179e"
             ],
             [
              0.4444444444444444,
              "#bd3786"
             ],
             [
              0.5555555555555556,
              "#d8576b"
             ],
             [
              0.6666666666666666,
              "#ed7953"
             ],
             [
              0.7777777777777778,
              "#fb9f3a"
             ],
             [
              0.8888888888888888,
              "#fdca26"
             ],
             [
              1,
              "#f0f921"
             ]
            ],
            "type": "histogram2dcontour"
           }
          ],
          "mesh3d": [
           {
            "colorbar": {
             "outlinewidth": 0,
             "ticks": ""
            },
            "type": "mesh3d"
           }
          ],
          "parcoords": [
           {
            "line": {
             "colorbar": {
              "outlinewidth": 0,
              "ticks": ""
             }
            },
            "type": "parcoords"
           }
          ],
          "pie": [
           {
            "automargin": true,
            "type": "pie"
           }
          ],
          "scatter": [
           {
            "marker": {
             "line": {
              "color": "#283442"
             }
            },
            "type": "scatter"
           }
          ],
          "scatter3d": [
           {
            "line": {
             "colorbar": {
              "outlinewidth": 0,
              "ticks": ""
             }
            },
            "marker": {
             "colorbar": {
              "outlinewidth": 0,
              "ticks": ""
             }
            },
            "type": "scatter3d"
           }
          ],
          "scattercarpet": [
           {
            "marker": {
             "colorbar": {
              "outlinewidth": 0,
              "ticks": ""
             }
            },
            "type": "scattercarpet"
           }
          ],
          "scattergeo": [
           {
            "marker": {
             "colorbar": {
              "outlinewidth": 0,
              "ticks": ""
             }
            },
            "type": "scattergeo"
           }
          ],
          "scattergl": [
           {
            "marker": {
             "line": {
              "color": "#283442"
             }
            },
            "type": "scattergl"
           }
          ],
          "scattermapbox": [
           {
            "marker": {
             "colorbar": {
              "outlinewidth": 0,
              "ticks": ""
             }
            },
            "type": "scattermapbox"
           }
          ],
          "scatterpolar": [
           {
            "marker": {
             "colorbar": {
              "outlinewidth": 0,
              "ticks": ""
             }
            },
            "type": "scatterpolar"
           }
          ],
          "scatterpolargl": [
           {
            "marker": {
             "colorbar": {
              "outlinewidth": 0,
              "ticks": ""
             }
            },
            "type": "scatterpolargl"
           }
          ],
          "scatterternary": [
           {
            "marker": {
             "colorbar": {
              "outlinewidth": 0,
              "ticks": ""
             }
            },
            "type": "scatterternary"
           }
          ],
          "surface": [
           {
            "colorbar": {
             "outlinewidth": 0,
             "ticks": ""
            },
            "colorscale": [
             [
              0,
              "#0d0887"
             ],
             [
              0.1111111111111111,
              "#46039f"
             ],
             [
              0.2222222222222222,
              "#7201a8"
             ],
             [
              0.3333333333333333,
              "#9c179e"
             ],
             [
              0.4444444444444444,
              "#bd3786"
             ],
             [
              0.5555555555555556,
              "#d8576b"
             ],
             [
              0.6666666666666666,
              "#ed7953"
             ],
             [
              0.7777777777777778,
              "#fb9f3a"
             ],
             [
              0.8888888888888888,
              "#fdca26"
             ],
             [
              1,
              "#f0f921"
             ]
            ],
            "type": "surface"
           }
          ],
          "table": [
           {
            "cells": {
             "fill": {
              "color": "#506784"
             },
             "line": {
              "color": "rgb(17,17,17)"
             }
            },
            "header": {
             "fill": {
              "color": "#2a3f5f"
             },
             "line": {
              "color": "rgb(17,17,17)"
             }
            },
            "type": "table"
           }
          ]
         },
         "layout": {
          "annotationdefaults": {
           "arrowcolor": "#f2f5fa",
           "arrowhead": 0,
           "arrowwidth": 1
          },
          "autotypenumbers": "strict",
          "coloraxis": {
           "colorbar": {
            "outlinewidth": 0,
            "ticks": ""
           }
          },
          "colorscale": {
           "diverging": [
            [
             0,
             "#8e0152"
            ],
            [
             0.1,
             "#c51b7d"
            ],
            [
             0.2,
             "#de77ae"
            ],
            [
             0.3,
             "#f1b6da"
            ],
            [
             0.4,
             "#fde0ef"
            ],
            [
             0.5,
             "#f7f7f7"
            ],
            [
             0.6,
             "#e6f5d0"
            ],
            [
             0.7,
             "#b8e186"
            ],
            [
             0.8,
             "#7fbc41"
            ],
            [
             0.9,
             "#4d9221"
            ],
            [
             1,
             "#276419"
            ]
           ],
           "sequential": [
            [
             0,
             "#0d0887"
            ],
            [
             0.1111111111111111,
             "#46039f"
            ],
            [
             0.2222222222222222,
             "#7201a8"
            ],
            [
             0.3333333333333333,
             "#9c179e"
            ],
            [
             0.4444444444444444,
             "#bd3786"
            ],
            [
             0.5555555555555556,
             "#d8576b"
            ],
            [
             0.6666666666666666,
             "#ed7953"
            ],
            [
             0.7777777777777778,
             "#fb9f3a"
            ],
            [
             0.8888888888888888,
             "#fdca26"
            ],
            [
             1,
             "#f0f921"
            ]
           ],
           "sequentialminus": [
            [
             0,
             "#0d0887"
            ],
            [
             0.1111111111111111,
             "#46039f"
            ],
            [
             0.2222222222222222,
             "#7201a8"
            ],
            [
             0.3333333333333333,
             "#9c179e"
            ],
            [
             0.4444444444444444,
             "#bd3786"
            ],
            [
             0.5555555555555556,
             "#d8576b"
            ],
            [
             0.6666666666666666,
             "#ed7953"
            ],
            [
             0.7777777777777778,
             "#fb9f3a"
            ],
            [
             0.8888888888888888,
             "#fdca26"
            ],
            [
             1,
             "#f0f921"
            ]
           ]
          },
          "colorway": [
           "#636efa",
           "#EF553B",
           "#00cc96",
           "#ab63fa",
           "#FFA15A",
           "#19d3f3",
           "#FF6692",
           "#B6E880",
           "#FF97FF",
           "#FECB52"
          ],
          "font": {
           "color": "#f2f5fa"
          },
          "geo": {
           "bgcolor": "rgb(17,17,17)",
           "lakecolor": "rgb(17,17,17)",
           "landcolor": "rgb(17,17,17)",
           "showlakes": true,
           "showland": true,
           "subunitcolor": "#506784"
          },
          "hoverlabel": {
           "align": "left"
          },
          "hovermode": "closest",
          "mapbox": {
           "style": "dark"
          },
          "paper_bgcolor": "rgb(17,17,17)",
          "plot_bgcolor": "rgb(17,17,17)",
          "polar": {
           "angularaxis": {
            "gridcolor": "#506784",
            "linecolor": "#506784",
            "ticks": ""
           },
           "bgcolor": "rgb(17,17,17)",
           "radialaxis": {
            "gridcolor": "#506784",
            "linecolor": "#506784",
            "ticks": ""
           }
          },
          "scene": {
           "xaxis": {
            "backgroundcolor": "rgb(17,17,17)",
            "gridcolor": "#506784",
            "gridwidth": 2,
            "linecolor": "#506784",
            "showbackground": true,
            "ticks": "",
            "zerolinecolor": "#C8D4E3"
           },
           "yaxis": {
            "backgroundcolor": "rgb(17,17,17)",
            "gridcolor": "#506784",
            "gridwidth": 2,
            "linecolor": "#506784",
            "showbackground": true,
            "ticks": "",
            "zerolinecolor": "#C8D4E3"
           },
           "zaxis": {
            "backgroundcolor": "rgb(17,17,17)",
            "gridcolor": "#506784",
            "gridwidth": 2,
            "linecolor": "#506784",
            "showbackground": true,
            "ticks": "",
            "zerolinecolor": "#C8D4E3"
           }
          },
          "shapedefaults": {
           "line": {
            "color": "#f2f5fa"
           }
          },
          "sliderdefaults": {
           "bgcolor": "#C8D4E3",
           "bordercolor": "rgb(17,17,17)",
           "borderwidth": 1,
           "tickwidth": 0
          },
          "ternary": {
           "aaxis": {
            "gridcolor": "#506784",
            "linecolor": "#506784",
            "ticks": ""
           },
           "baxis": {
            "gridcolor": "#506784",
            "linecolor": "#506784",
            "ticks": ""
           },
           "bgcolor": "rgb(17,17,17)",
           "caxis": {
            "gridcolor": "#506784",
            "linecolor": "#506784",
            "ticks": ""
           }
          },
          "title": {
           "x": 0.05
          },
          "updatemenudefaults": {
           "bgcolor": "#506784",
           "borderwidth": 0
          },
          "xaxis": {
           "automargin": true,
           "gridcolor": "#283442",
           "linecolor": "#506784",
           "ticks": "",
           "title": {
            "standoff": 15
           },
           "zerolinecolor": "#283442",
           "zerolinewidth": 2
          },
          "yaxis": {
           "automargin": true,
           "gridcolor": "#283442",
           "linecolor": "#506784",
           "ticks": "",
           "title": {
            "standoff": 15
           },
           "zerolinecolor": "#283442",
           "zerolinewidth": 2
          }
         }
        },
        "title": {
         "text": "Saldo a liquidar por PI"
        },
        "xaxis": {
         "anchor": "y",
         "domain": [
          0,
          1
         ],
         "title": {
          "text": "Tipo de PI"
         }
        },
        "yaxis": {
         "anchor": "x",
         "domain": [
          0,
          1
         ],
         "title": {
          "text": "Saldo a liquidar"
         },
         "type": "log"
        }
       }
      }
     },
     "metadata": {},
     "output_type": "display_data"
    }
   ],
   "source": [
    "# Saldo a liquidar por tipo de PI\n",
    "cols = ['NOME_PI', 'A_LIQUIDAR']\n",
    "\n",
    "df_aux = df.loc[:, cols].groupby('NOME_PI').sum().sort_values(by= 'A_LIQUIDAR', ascending=False).reset_index()\n",
    "df_aux = df_aux[df_aux['A_LIQUIDAR'] > 0]\n",
    "fig = px.bar(df_aux, \n",
    "             x='NOME_PI', \n",
    "             y='A_LIQUIDAR',\n",
    "             title='Saldo a liquidar por PI',\n",
    "             labels={'NOME_PI':'Tipo de PI', 'A_LIQUIDAR':'Saldo a liquidar'},\n",
    "             text_auto='.3s',\n",
    "             height=800,\n",
    "             log_y=True,\n",
    "             color='A_LIQUIDAR',\n",
    "             color_continuous_scale = 'reds',\n",
    "             template='plotly_dark')\n",
    "fig.update_traces(textposition = 'outside', cliponaxis = False, hovertemplate=None)\n",
    "fig.update_layout(hovermode=\"x unified\")\n",
    "\n",
    "fig.show()"
   ]
  },
  {
   "cell_type": "code",
   "execution_count": 8,
   "metadata": {},
   "outputs": [
    {
     "data": {
      "application/vnd.plotly.v1+json": {
       "config": {
        "plotlyServerURL": "https://plot.ly"
       },
       "data": [
        {
         "alignmentgroup": "True",
         "cliponaxis": false,
         "legendgroup": "",
         "marker": {
          "color": [
           5859111.81,
           508915.7
          ],
          "coloraxis": "coloraxis",
          "pattern": {
           "shape": ""
          }
         },
         "name": "",
         "offsetgroup": "",
         "orientation": "v",
         "showlegend": false,
         "textposition": "outside",
         "texttemplate": "%{y:.3s}",
         "type": "bar",
         "x": [
          "ANO",
          "RPNP"
         ],
         "xaxis": "x",
         "y": [
          5859111.81,
          508915.7
         ],
         "yaxis": "y"
        }
       ],
       "layout": {
        "barmode": "relative",
        "coloraxis": {
         "colorbar": {
          "title": {
           "text": "Saldo a liquidar"
          }
         },
         "colorscale": [
          [
           0,
           "rgb(255,245,240)"
          ],
          [
           0.125,
           "rgb(254,224,210)"
          ],
          [
           0.25,
           "rgb(252,187,161)"
          ],
          [
           0.375,
           "rgb(252,146,114)"
          ],
          [
           0.5,
           "rgb(251,106,74)"
          ],
          [
           0.625,
           "rgb(239,59,44)"
          ],
          [
           0.75,
           "rgb(203,24,29)"
          ],
          [
           0.875,
           "rgb(165,15,21)"
          ],
          [
           1,
           "rgb(103,0,13)"
          ]
         ]
        },
        "height": 400,
        "hovermode": "x unified",
        "legend": {
         "tracegroupgap": 0
        },
        "template": {
         "data": {
          "bar": [
           {
            "error_x": {
             "color": "#f2f5fa"
            },
            "error_y": {
             "color": "#f2f5fa"
            },
            "marker": {
             "line": {
              "color": "rgb(17,17,17)",
              "width": 0.5
             },
             "pattern": {
              "fillmode": "overlay",
              "size": 10,
              "solidity": 0.2
             }
            },
            "type": "bar"
           }
          ],
          "barpolar": [
           {
            "marker": {
             "line": {
              "color": "rgb(17,17,17)",
              "width": 0.5
             },
             "pattern": {
              "fillmode": "overlay",
              "size": 10,
              "solidity": 0.2
             }
            },
            "type": "barpolar"
           }
          ],
          "carpet": [
           {
            "aaxis": {
             "endlinecolor": "#A2B1C6",
             "gridcolor": "#506784",
             "linecolor": "#506784",
             "minorgridcolor": "#506784",
             "startlinecolor": "#A2B1C6"
            },
            "baxis": {
             "endlinecolor": "#A2B1C6",
             "gridcolor": "#506784",
             "linecolor": "#506784",
             "minorgridcolor": "#506784",
             "startlinecolor": "#A2B1C6"
            },
            "type": "carpet"
           }
          ],
          "choropleth": [
           {
            "colorbar": {
             "outlinewidth": 0,
             "ticks": ""
            },
            "type": "choropleth"
           }
          ],
          "contour": [
           {
            "colorbar": {
             "outlinewidth": 0,
             "ticks": ""
            },
            "colorscale": [
             [
              0,
              "#0d0887"
             ],
             [
              0.1111111111111111,
              "#46039f"
             ],
             [
              0.2222222222222222,
              "#7201a8"
             ],
             [
              0.3333333333333333,
              "#9c179e"
             ],
             [
              0.4444444444444444,
              "#bd3786"
             ],
             [
              0.5555555555555556,
              "#d8576b"
             ],
             [
              0.6666666666666666,
              "#ed7953"
             ],
             [
              0.7777777777777778,
              "#fb9f3a"
             ],
             [
              0.8888888888888888,
              "#fdca26"
             ],
             [
              1,
              "#f0f921"
             ]
            ],
            "type": "contour"
           }
          ],
          "contourcarpet": [
           {
            "colorbar": {
             "outlinewidth": 0,
             "ticks": ""
            },
            "type": "contourcarpet"
           }
          ],
          "heatmap": [
           {
            "colorbar": {
             "outlinewidth": 0,
             "ticks": ""
            },
            "colorscale": [
             [
              0,
              "#0d0887"
             ],
             [
              0.1111111111111111,
              "#46039f"
             ],
             [
              0.2222222222222222,
              "#7201a8"
             ],
             [
              0.3333333333333333,
              "#9c179e"
             ],
             [
              0.4444444444444444,
              "#bd3786"
             ],
             [
              0.5555555555555556,
              "#d8576b"
             ],
             [
              0.6666666666666666,
              "#ed7953"
             ],
             [
              0.7777777777777778,
              "#fb9f3a"
             ],
             [
              0.8888888888888888,
              "#fdca26"
             ],
             [
              1,
              "#f0f921"
             ]
            ],
            "type": "heatmap"
           }
          ],
          "heatmapgl": [
           {
            "colorbar": {
             "outlinewidth": 0,
             "ticks": ""
            },
            "colorscale": [
             [
              0,
              "#0d0887"
             ],
             [
              0.1111111111111111,
              "#46039f"
             ],
             [
              0.2222222222222222,
              "#7201a8"
             ],
             [
              0.3333333333333333,
              "#9c179e"
             ],
             [
              0.4444444444444444,
              "#bd3786"
             ],
             [
              0.5555555555555556,
              "#d8576b"
             ],
             [
              0.6666666666666666,
              "#ed7953"
             ],
             [
              0.7777777777777778,
              "#fb9f3a"
             ],
             [
              0.8888888888888888,
              "#fdca26"
             ],
             [
              1,
              "#f0f921"
             ]
            ],
            "type": "heatmapgl"
           }
          ],
          "histogram": [
           {
            "marker": {
             "pattern": {
              "fillmode": "overlay",
              "size": 10,
              "solidity": 0.2
             }
            },
            "type": "histogram"
           }
          ],
          "histogram2d": [
           {
            "colorbar": {
             "outlinewidth": 0,
             "ticks": ""
            },
            "colorscale": [
             [
              0,
              "#0d0887"
             ],
             [
              0.1111111111111111,
              "#46039f"
             ],
             [
              0.2222222222222222,
              "#7201a8"
             ],
             [
              0.3333333333333333,
              "#9c179e"
             ],
             [
              0.4444444444444444,
              "#bd3786"
             ],
             [
              0.5555555555555556,
              "#d8576b"
             ],
             [
              0.6666666666666666,
              "#ed7953"
             ],
             [
              0.7777777777777778,
              "#fb9f3a"
             ],
             [
              0.8888888888888888,
              "#fdca26"
             ],
             [
              1,
              "#f0f921"
             ]
            ],
            "type": "histogram2d"
           }
          ],
          "histogram2dcontour": [
           {
            "colorbar": {
             "outlinewidth": 0,
             "ticks": ""
            },
            "colorscale": [
             [
              0,
              "#0d0887"
             ],
             [
              0.1111111111111111,
              "#46039f"
             ],
             [
              0.2222222222222222,
              "#7201a8"
             ],
             [
              0.3333333333333333,
              "#9c179e"
             ],
             [
              0.4444444444444444,
              "#bd3786"
             ],
             [
              0.5555555555555556,
              "#d8576b"
             ],
             [
              0.6666666666666666,
              "#ed7953"
             ],
             [
              0.7777777777777778,
              "#fb9f3a"
             ],
             [
              0.8888888888888888,
              "#fdca26"
             ],
             [
              1,
              "#f0f921"
             ]
            ],
            "type": "histogram2dcontour"
           }
          ],
          "mesh3d": [
           {
            "colorbar": {
             "outlinewidth": 0,
             "ticks": ""
            },
            "type": "mesh3d"
           }
          ],
          "parcoords": [
           {
            "line": {
             "colorbar": {
              "outlinewidth": 0,
              "ticks": ""
             }
            },
            "type": "parcoords"
           }
          ],
          "pie": [
           {
            "automargin": true,
            "type": "pie"
           }
          ],
          "scatter": [
           {
            "marker": {
             "line": {
              "color": "#283442"
             }
            },
            "type": "scatter"
           }
          ],
          "scatter3d": [
           {
            "line": {
             "colorbar": {
              "outlinewidth": 0,
              "ticks": ""
             }
            },
            "marker": {
             "colorbar": {
              "outlinewidth": 0,
              "ticks": ""
             }
            },
            "type": "scatter3d"
           }
          ],
          "scattercarpet": [
           {
            "marker": {
             "colorbar": {
              "outlinewidth": 0,
              "ticks": ""
             }
            },
            "type": "scattercarpet"
           }
          ],
          "scattergeo": [
           {
            "marker": {
             "colorbar": {
              "outlinewidth": 0,
              "ticks": ""
             }
            },
            "type": "scattergeo"
           }
          ],
          "scattergl": [
           {
            "marker": {
             "line": {
              "color": "#283442"
             }
            },
            "type": "scattergl"
           }
          ],
          "scattermapbox": [
           {
            "marker": {
             "colorbar": {
              "outlinewidth": 0,
              "ticks": ""
             }
            },
            "type": "scattermapbox"
           }
          ],
          "scatterpolar": [
           {
            "marker": {
             "colorbar": {
              "outlinewidth": 0,
              "ticks": ""
             }
            },
            "type": "scatterpolar"
           }
          ],
          "scatterpolargl": [
           {
            "marker": {
             "colorbar": {
              "outlinewidth": 0,
              "ticks": ""
             }
            },
            "type": "scatterpolargl"
           }
          ],
          "scatterternary": [
           {
            "marker": {
             "colorbar": {
              "outlinewidth": 0,
              "ticks": ""
             }
            },
            "type": "scatterternary"
           }
          ],
          "surface": [
           {
            "colorbar": {
             "outlinewidth": 0,
             "ticks": ""
            },
            "colorscale": [
             [
              0,
              "#0d0887"
             ],
             [
              0.1111111111111111,
              "#46039f"
             ],
             [
              0.2222222222222222,
              "#7201a8"
             ],
             [
              0.3333333333333333,
              "#9c179e"
             ],
             [
              0.4444444444444444,
              "#bd3786"
             ],
             [
              0.5555555555555556,
              "#d8576b"
             ],
             [
              0.6666666666666666,
              "#ed7953"
             ],
             [
              0.7777777777777778,
              "#fb9f3a"
             ],
             [
              0.8888888888888888,
              "#fdca26"
             ],
             [
              1,
              "#f0f921"
             ]
            ],
            "type": "surface"
           }
          ],
          "table": [
           {
            "cells": {
             "fill": {
              "color": "#506784"
             },
             "line": {
              "color": "rgb(17,17,17)"
             }
            },
            "header": {
             "fill": {
              "color": "#2a3f5f"
             },
             "line": {
              "color": "rgb(17,17,17)"
             }
            },
            "type": "table"
           }
          ]
         },
         "layout": {
          "annotationdefaults": {
           "arrowcolor": "#f2f5fa",
           "arrowhead": 0,
           "arrowwidth": 1
          },
          "autotypenumbers": "strict",
          "coloraxis": {
           "colorbar": {
            "outlinewidth": 0,
            "ticks": ""
           }
          },
          "colorscale": {
           "diverging": [
            [
             0,
             "#8e0152"
            ],
            [
             0.1,
             "#c51b7d"
            ],
            [
             0.2,
             "#de77ae"
            ],
            [
             0.3,
             "#f1b6da"
            ],
            [
             0.4,
             "#fde0ef"
            ],
            [
             0.5,
             "#f7f7f7"
            ],
            [
             0.6,
             "#e6f5d0"
            ],
            [
             0.7,
             "#b8e186"
            ],
            [
             0.8,
             "#7fbc41"
            ],
            [
             0.9,
             "#4d9221"
            ],
            [
             1,
             "#276419"
            ]
           ],
           "sequential": [
            [
             0,
             "#0d0887"
            ],
            [
             0.1111111111111111,
             "#46039f"
            ],
            [
             0.2222222222222222,
             "#7201a8"
            ],
            [
             0.3333333333333333,
             "#9c179e"
            ],
            [
             0.4444444444444444,
             "#bd3786"
            ],
            [
             0.5555555555555556,
             "#d8576b"
            ],
            [
             0.6666666666666666,
             "#ed7953"
            ],
            [
             0.7777777777777778,
             "#fb9f3a"
            ],
            [
             0.8888888888888888,
             "#fdca26"
            ],
            [
             1,
             "#f0f921"
            ]
           ],
           "sequentialminus": [
            [
             0,
             "#0d0887"
            ],
            [
             0.1111111111111111,
             "#46039f"
            ],
            [
             0.2222222222222222,
             "#7201a8"
            ],
            [
             0.3333333333333333,
             "#9c179e"
            ],
            [
             0.4444444444444444,
             "#bd3786"
            ],
            [
             0.5555555555555556,
             "#d8576b"
            ],
            [
             0.6666666666666666,
             "#ed7953"
            ],
            [
             0.7777777777777778,
             "#fb9f3a"
            ],
            [
             0.8888888888888888,
             "#fdca26"
            ],
            [
             1,
             "#f0f921"
            ]
           ]
          },
          "colorway": [
           "#636efa",
           "#EF553B",
           "#00cc96",
           "#ab63fa",
           "#FFA15A",
           "#19d3f3",
           "#FF6692",
           "#B6E880",
           "#FF97FF",
           "#FECB52"
          ],
          "font": {
           "color": "#f2f5fa"
          },
          "geo": {
           "bgcolor": "rgb(17,17,17)",
           "lakecolor": "rgb(17,17,17)",
           "landcolor": "rgb(17,17,17)",
           "showlakes": true,
           "showland": true,
           "subunitcolor": "#506784"
          },
          "hoverlabel": {
           "align": "left"
          },
          "hovermode": "closest",
          "mapbox": {
           "style": "dark"
          },
          "paper_bgcolor": "rgb(17,17,17)",
          "plot_bgcolor": "rgb(17,17,17)",
          "polar": {
           "angularaxis": {
            "gridcolor": "#506784",
            "linecolor": "#506784",
            "ticks": ""
           },
           "bgcolor": "rgb(17,17,17)",
           "radialaxis": {
            "gridcolor": "#506784",
            "linecolor": "#506784",
            "ticks": ""
           }
          },
          "scene": {
           "xaxis": {
            "backgroundcolor": "rgb(17,17,17)",
            "gridcolor": "#506784",
            "gridwidth": 2,
            "linecolor": "#506784",
            "showbackground": true,
            "ticks": "",
            "zerolinecolor": "#C8D4E3"
           },
           "yaxis": {
            "backgroundcolor": "rgb(17,17,17)",
            "gridcolor": "#506784",
            "gridwidth": 2,
            "linecolor": "#506784",
            "showbackground": true,
            "ticks": "",
            "zerolinecolor": "#C8D4E3"
           },
           "zaxis": {
            "backgroundcolor": "rgb(17,17,17)",
            "gridcolor": "#506784",
            "gridwidth": 2,
            "linecolor": "#506784",
            "showbackground": true,
            "ticks": "",
            "zerolinecolor": "#C8D4E3"
           }
          },
          "shapedefaults": {
           "line": {
            "color": "#f2f5fa"
           }
          },
          "sliderdefaults": {
           "bgcolor": "#C8D4E3",
           "bordercolor": "rgb(17,17,17)",
           "borderwidth": 1,
           "tickwidth": 0
          },
          "ternary": {
           "aaxis": {
            "gridcolor": "#506784",
            "linecolor": "#506784",
            "ticks": ""
           },
           "baxis": {
            "gridcolor": "#506784",
            "linecolor": "#506784",
            "ticks": ""
           },
           "bgcolor": "rgb(17,17,17)",
           "caxis": {
            "gridcolor": "#506784",
            "linecolor": "#506784",
            "ticks": ""
           }
          },
          "title": {
           "x": 0.05
          },
          "updatemenudefaults": {
           "bgcolor": "#506784",
           "borderwidth": 0
          },
          "xaxis": {
           "automargin": true,
           "gridcolor": "#283442",
           "linecolor": "#506784",
           "ticks": "",
           "title": {
            "standoff": 15
           },
           "zerolinecolor": "#283442",
           "zerolinewidth": 2
          },
          "yaxis": {
           "automargin": true,
           "gridcolor": "#283442",
           "linecolor": "#506784",
           "ticks": "",
           "title": {
            "standoff": 15
           },
           "zerolinecolor": "#283442",
           "zerolinewidth": 2
          }
         }
        },
        "title": {
         "text": "Saldo a liquidar por tipo de empenho"
        },
        "xaxis": {
         "anchor": "y",
         "domain": [
          0,
          1
         ],
         "title": {
          "text": "Tipo de Empenho"
         }
        },
        "yaxis": {
         "anchor": "x",
         "domain": [
          0,
          1
         ],
         "title": {
          "text": "Saldo a liquidar"
         },
         "type": "log"
        }
       }
      }
     },
     "metadata": {},
     "output_type": "display_data"
    }
   ],
   "source": [
    "# Saldo a liquidar por tipo de Empenho\n",
    "cols = ['TIPO', 'A_LIQUIDAR']\n",
    "\n",
    "df_aux = df.loc[:, cols].groupby('TIPO').sum().sort_values(by= 'A_LIQUIDAR', ascending=False).reset_index()\n",
    "df_aux = df_aux[df_aux['A_LIQUIDAR'] > 0]\n",
    "fig = px.bar(df_aux, \n",
    "             x='TIPO', \n",
    "             y='A_LIQUIDAR',\n",
    "             title='Saldo a liquidar por tipo de empenho',\n",
    "             labels={'TIPO':'Tipo de Empenho', 'A_LIQUIDAR':'Saldo a liquidar'},\n",
    "             text_auto='.3s',\n",
    "             height=400,\n",
    "             log_y=True,\n",
    "             color='A_LIQUIDAR',\n",
    "             color_continuous_scale = 'reds',\n",
    "             template='plotly_dark')\n",
    "fig.update_traces(textposition = 'outside', cliponaxis = False, hovertemplate=None)\n",
    "fig.update_layout(hovermode=\"x unified\")\n",
    "\n",
    "fig.show()"
   ]
  },
  {
   "cell_type": "code",
   "execution_count": 9,
   "metadata": {},
   "outputs": [
    {
     "data": {
      "application/vnd.plotly.v1+json": {
       "config": {
        "plotlyServerURL": "https://plot.ly"
       },
       "data": [
        {
         "alignmentgroup": "True",
         "cliponaxis": false,
         "legendgroup": "",
         "marker": {
          "color": [
           5859111.81,
           508915.7
          ],
          "coloraxis": "coloraxis",
          "pattern": {
           "shape": ""
          }
         },
         "name": "",
         "offsetgroup": "",
         "orientation": "v",
         "showlegend": false,
         "textposition": "outside",
         "texttemplate": "%{y:.3s}",
         "type": "bar",
         "x": [
          "2023",
          "2022"
         ],
         "xaxis": "x",
         "y": [
          5859111.81,
          508915.7
         ],
         "yaxis": "y"
        }
       ],
       "layout": {
        "barmode": "relative",
        "coloraxis": {
         "colorbar": {
          "title": {
           "text": "Saldo a liquidar"
          }
         },
         "colorscale": [
          [
           0,
           "rgb(255,245,240)"
          ],
          [
           0.125,
           "rgb(254,224,210)"
          ],
          [
           0.25,
           "rgb(252,187,161)"
          ],
          [
           0.375,
           "rgb(252,146,114)"
          ],
          [
           0.5,
           "rgb(251,106,74)"
          ],
          [
           0.625,
           "rgb(239,59,44)"
          ],
          [
           0.75,
           "rgb(203,24,29)"
          ],
          [
           0.875,
           "rgb(165,15,21)"
          ],
          [
           1,
           "rgb(103,0,13)"
          ]
         ]
        },
        "height": 400,
        "hovermode": "x unified",
        "legend": {
         "tracegroupgap": 0
        },
        "template": {
         "data": {
          "bar": [
           {
            "error_x": {
             "color": "#f2f5fa"
            },
            "error_y": {
             "color": "#f2f5fa"
            },
            "marker": {
             "line": {
              "color": "rgb(17,17,17)",
              "width": 0.5
             },
             "pattern": {
              "fillmode": "overlay",
              "size": 10,
              "solidity": 0.2
             }
            },
            "type": "bar"
           }
          ],
          "barpolar": [
           {
            "marker": {
             "line": {
              "color": "rgb(17,17,17)",
              "width": 0.5
             },
             "pattern": {
              "fillmode": "overlay",
              "size": 10,
              "solidity": 0.2
             }
            },
            "type": "barpolar"
           }
          ],
          "carpet": [
           {
            "aaxis": {
             "endlinecolor": "#A2B1C6",
             "gridcolor": "#506784",
             "linecolor": "#506784",
             "minorgridcolor": "#506784",
             "startlinecolor": "#A2B1C6"
            },
            "baxis": {
             "endlinecolor": "#A2B1C6",
             "gridcolor": "#506784",
             "linecolor": "#506784",
             "minorgridcolor": "#506784",
             "startlinecolor": "#A2B1C6"
            },
            "type": "carpet"
           }
          ],
          "choropleth": [
           {
            "colorbar": {
             "outlinewidth": 0,
             "ticks": ""
            },
            "type": "choropleth"
           }
          ],
          "contour": [
           {
            "colorbar": {
             "outlinewidth": 0,
             "ticks": ""
            },
            "colorscale": [
             [
              0,
              "#0d0887"
             ],
             [
              0.1111111111111111,
              "#46039f"
             ],
             [
              0.2222222222222222,
              "#7201a8"
             ],
             [
              0.3333333333333333,
              "#9c179e"
             ],
             [
              0.4444444444444444,
              "#bd3786"
             ],
             [
              0.5555555555555556,
              "#d8576b"
             ],
             [
              0.6666666666666666,
              "#ed7953"
             ],
             [
              0.7777777777777778,
              "#fb9f3a"
             ],
             [
              0.8888888888888888,
              "#fdca26"
             ],
             [
              1,
              "#f0f921"
             ]
            ],
            "type": "contour"
           }
          ],
          "contourcarpet": [
           {
            "colorbar": {
             "outlinewidth": 0,
             "ticks": ""
            },
            "type": "contourcarpet"
           }
          ],
          "heatmap": [
           {
            "colorbar": {
             "outlinewidth": 0,
             "ticks": ""
            },
            "colorscale": [
             [
              0,
              "#0d0887"
             ],
             [
              0.1111111111111111,
              "#46039f"
             ],
             [
              0.2222222222222222,
              "#7201a8"
             ],
             [
              0.3333333333333333,
              "#9c179e"
             ],
             [
              0.4444444444444444,
              "#bd3786"
             ],
             [
              0.5555555555555556,
              "#d8576b"
             ],
             [
              0.6666666666666666,
              "#ed7953"
             ],
             [
              0.7777777777777778,
              "#fb9f3a"
             ],
             [
              0.8888888888888888,
              "#fdca26"
             ],
             [
              1,
              "#f0f921"
             ]
            ],
            "type": "heatmap"
           }
          ],
          "heatmapgl": [
           {
            "colorbar": {
             "outlinewidth": 0,
             "ticks": ""
            },
            "colorscale": [
             [
              0,
              "#0d0887"
             ],
             [
              0.1111111111111111,
              "#46039f"
             ],
             [
              0.2222222222222222,
              "#7201a8"
             ],
             [
              0.3333333333333333,
              "#9c179e"
             ],
             [
              0.4444444444444444,
              "#bd3786"
             ],
             [
              0.5555555555555556,
              "#d8576b"
             ],
             [
              0.6666666666666666,
              "#ed7953"
             ],
             [
              0.7777777777777778,
              "#fb9f3a"
             ],
             [
              0.8888888888888888,
              "#fdca26"
             ],
             [
              1,
              "#f0f921"
             ]
            ],
            "type": "heatmapgl"
           }
          ],
          "histogram": [
           {
            "marker": {
             "pattern": {
              "fillmode": "overlay",
              "size": 10,
              "solidity": 0.2
             }
            },
            "type": "histogram"
           }
          ],
          "histogram2d": [
           {
            "colorbar": {
             "outlinewidth": 0,
             "ticks": ""
            },
            "colorscale": [
             [
              0,
              "#0d0887"
             ],
             [
              0.1111111111111111,
              "#46039f"
             ],
             [
              0.2222222222222222,
              "#7201a8"
             ],
             [
              0.3333333333333333,
              "#9c179e"
             ],
             [
              0.4444444444444444,
              "#bd3786"
             ],
             [
              0.5555555555555556,
              "#d8576b"
             ],
             [
              0.6666666666666666,
              "#ed7953"
             ],
             [
              0.7777777777777778,
              "#fb9f3a"
             ],
             [
              0.8888888888888888,
              "#fdca26"
             ],
             [
              1,
              "#f0f921"
             ]
            ],
            "type": "histogram2d"
           }
          ],
          "histogram2dcontour": [
           {
            "colorbar": {
             "outlinewidth": 0,
             "ticks": ""
            },
            "colorscale": [
             [
              0,
              "#0d0887"
             ],
             [
              0.1111111111111111,
              "#46039f"
             ],
             [
              0.2222222222222222,
              "#7201a8"
             ],
             [
              0.3333333333333333,
              "#9c179e"
             ],
             [
              0.4444444444444444,
              "#bd3786"
             ],
             [
              0.5555555555555556,
              "#d8576b"
             ],
             [
              0.6666666666666666,
              "#ed7953"
             ],
             [
              0.7777777777777778,
              "#fb9f3a"
             ],
             [
              0.8888888888888888,
              "#fdca26"
             ],
             [
              1,
              "#f0f921"
             ]
            ],
            "type": "histogram2dcontour"
           }
          ],
          "mesh3d": [
           {
            "colorbar": {
             "outlinewidth": 0,
             "ticks": ""
            },
            "type": "mesh3d"
           }
          ],
          "parcoords": [
           {
            "line": {
             "colorbar": {
              "outlinewidth": 0,
              "ticks": ""
             }
            },
            "type": "parcoords"
           }
          ],
          "pie": [
           {
            "automargin": true,
            "type": "pie"
           }
          ],
          "scatter": [
           {
            "marker": {
             "line": {
              "color": "#283442"
             }
            },
            "type": "scatter"
           }
          ],
          "scatter3d": [
           {
            "line": {
             "colorbar": {
              "outlinewidth": 0,
              "ticks": ""
             }
            },
            "marker": {
             "colorbar": {
              "outlinewidth": 0,
              "ticks": ""
             }
            },
            "type": "scatter3d"
           }
          ],
          "scattercarpet": [
           {
            "marker": {
             "colorbar": {
              "outlinewidth": 0,
              "ticks": ""
             }
            },
            "type": "scattercarpet"
           }
          ],
          "scattergeo": [
           {
            "marker": {
             "colorbar": {
              "outlinewidth": 0,
              "ticks": ""
             }
            },
            "type": "scattergeo"
           }
          ],
          "scattergl": [
           {
            "marker": {
             "line": {
              "color": "#283442"
             }
            },
            "type": "scattergl"
           }
          ],
          "scattermapbox": [
           {
            "marker": {
             "colorbar": {
              "outlinewidth": 0,
              "ticks": ""
             }
            },
            "type": "scattermapbox"
           }
          ],
          "scatterpolar": [
           {
            "marker": {
             "colorbar": {
              "outlinewidth": 0,
              "ticks": ""
             }
            },
            "type": "scatterpolar"
           }
          ],
          "scatterpolargl": [
           {
            "marker": {
             "colorbar": {
              "outlinewidth": 0,
              "ticks": ""
             }
            },
            "type": "scatterpolargl"
           }
          ],
          "scatterternary": [
           {
            "marker": {
             "colorbar": {
              "outlinewidth": 0,
              "ticks": ""
             }
            },
            "type": "scatterternary"
           }
          ],
          "surface": [
           {
            "colorbar": {
             "outlinewidth": 0,
             "ticks": ""
            },
            "colorscale": [
             [
              0,
              "#0d0887"
             ],
             [
              0.1111111111111111,
              "#46039f"
             ],
             [
              0.2222222222222222,
              "#7201a8"
             ],
             [
              0.3333333333333333,
              "#9c179e"
             ],
             [
              0.4444444444444444,
              "#bd3786"
             ],
             [
              0.5555555555555556,
              "#d8576b"
             ],
             [
              0.6666666666666666,
              "#ed7953"
             ],
             [
              0.7777777777777778,
              "#fb9f3a"
             ],
             [
              0.8888888888888888,
              "#fdca26"
             ],
             [
              1,
              "#f0f921"
             ]
            ],
            "type": "surface"
           }
          ],
          "table": [
           {
            "cells": {
             "fill": {
              "color": "#506784"
             },
             "line": {
              "color": "rgb(17,17,17)"
             }
            },
            "header": {
             "fill": {
              "color": "#2a3f5f"
             },
             "line": {
              "color": "rgb(17,17,17)"
             }
            },
            "type": "table"
           }
          ]
         },
         "layout": {
          "annotationdefaults": {
           "arrowcolor": "#f2f5fa",
           "arrowhead": 0,
           "arrowwidth": 1
          },
          "autotypenumbers": "strict",
          "coloraxis": {
           "colorbar": {
            "outlinewidth": 0,
            "ticks": ""
           }
          },
          "colorscale": {
           "diverging": [
            [
             0,
             "#8e0152"
            ],
            [
             0.1,
             "#c51b7d"
            ],
            [
             0.2,
             "#de77ae"
            ],
            [
             0.3,
             "#f1b6da"
            ],
            [
             0.4,
             "#fde0ef"
            ],
            [
             0.5,
             "#f7f7f7"
            ],
            [
             0.6,
             "#e6f5d0"
            ],
            [
             0.7,
             "#b8e186"
            ],
            [
             0.8,
             "#7fbc41"
            ],
            [
             0.9,
             "#4d9221"
            ],
            [
             1,
             "#276419"
            ]
           ],
           "sequential": [
            [
             0,
             "#0d0887"
            ],
            [
             0.1111111111111111,
             "#46039f"
            ],
            [
             0.2222222222222222,
             "#7201a8"
            ],
            [
             0.3333333333333333,
             "#9c179e"
            ],
            [
             0.4444444444444444,
             "#bd3786"
            ],
            [
             0.5555555555555556,
             "#d8576b"
            ],
            [
             0.6666666666666666,
             "#ed7953"
            ],
            [
             0.7777777777777778,
             "#fb9f3a"
            ],
            [
             0.8888888888888888,
             "#fdca26"
            ],
            [
             1,
             "#f0f921"
            ]
           ],
           "sequentialminus": [
            [
             0,
             "#0d0887"
            ],
            [
             0.1111111111111111,
             "#46039f"
            ],
            [
             0.2222222222222222,
             "#7201a8"
            ],
            [
             0.3333333333333333,
             "#9c179e"
            ],
            [
             0.4444444444444444,
             "#bd3786"
            ],
            [
             0.5555555555555556,
             "#d8576b"
            ],
            [
             0.6666666666666666,
             "#ed7953"
            ],
            [
             0.7777777777777778,
             "#fb9f3a"
            ],
            [
             0.8888888888888888,
             "#fdca26"
            ],
            [
             1,
             "#f0f921"
            ]
           ]
          },
          "colorway": [
           "#636efa",
           "#EF553B",
           "#00cc96",
           "#ab63fa",
           "#FFA15A",
           "#19d3f3",
           "#FF6692",
           "#B6E880",
           "#FF97FF",
           "#FECB52"
          ],
          "font": {
           "color": "#f2f5fa"
          },
          "geo": {
           "bgcolor": "rgb(17,17,17)",
           "lakecolor": "rgb(17,17,17)",
           "landcolor": "rgb(17,17,17)",
           "showlakes": true,
           "showland": true,
           "subunitcolor": "#506784"
          },
          "hoverlabel": {
           "align": "left"
          },
          "hovermode": "closest",
          "mapbox": {
           "style": "dark"
          },
          "paper_bgcolor": "rgb(17,17,17)",
          "plot_bgcolor": "rgb(17,17,17)",
          "polar": {
           "angularaxis": {
            "gridcolor": "#506784",
            "linecolor": "#506784",
            "ticks": ""
           },
           "bgcolor": "rgb(17,17,17)",
           "radialaxis": {
            "gridcolor": "#506784",
            "linecolor": "#506784",
            "ticks": ""
           }
          },
          "scene": {
           "xaxis": {
            "backgroundcolor": "rgb(17,17,17)",
            "gridcolor": "#506784",
            "gridwidth": 2,
            "linecolor": "#506784",
            "showbackground": true,
            "ticks": "",
            "zerolinecolor": "#C8D4E3"
           },
           "yaxis": {
            "backgroundcolor": "rgb(17,17,17)",
            "gridcolor": "#506784",
            "gridwidth": 2,
            "linecolor": "#506784",
            "showbackground": true,
            "ticks": "",
            "zerolinecolor": "#C8D4E3"
           },
           "zaxis": {
            "backgroundcolor": "rgb(17,17,17)",
            "gridcolor": "#506784",
            "gridwidth": 2,
            "linecolor": "#506784",
            "showbackground": true,
            "ticks": "",
            "zerolinecolor": "#C8D4E3"
           }
          },
          "shapedefaults": {
           "line": {
            "color": "#f2f5fa"
           }
          },
          "sliderdefaults": {
           "bgcolor": "#C8D4E3",
           "bordercolor": "rgb(17,17,17)",
           "borderwidth": 1,
           "tickwidth": 0
          },
          "ternary": {
           "aaxis": {
            "gridcolor": "#506784",
            "linecolor": "#506784",
            "ticks": ""
           },
           "baxis": {
            "gridcolor": "#506784",
            "linecolor": "#506784",
            "ticks": ""
           },
           "bgcolor": "rgb(17,17,17)",
           "caxis": {
            "gridcolor": "#506784",
            "linecolor": "#506784",
            "ticks": ""
           }
          },
          "title": {
           "x": 0.05
          },
          "updatemenudefaults": {
           "bgcolor": "#506784",
           "borderwidth": 0
          },
          "xaxis": {
           "automargin": true,
           "gridcolor": "#283442",
           "linecolor": "#506784",
           "ticks": "",
           "title": {
            "standoff": 15
           },
           "zerolinecolor": "#283442",
           "zerolinewidth": 2
          },
          "yaxis": {
           "automargin": true,
           "gridcolor": "#283442",
           "linecolor": "#506784",
           "ticks": "",
           "title": {
            "standoff": 15
           },
           "zerolinecolor": "#283442",
           "zerolinewidth": 2
          }
         }
        },
        "title": {
         "text": "Saldo a liquidar por ano do empenho"
        },
        "xaxis": {
         "anchor": "y",
         "domain": [
          0,
          1
         ],
         "title": {
          "text": "Ano do Empenho"
         }
        },
        "yaxis": {
         "anchor": "x",
         "domain": [
          0,
          1
         ],
         "title": {
          "text": "Saldo a liquidar"
         },
         "type": "log"
        }
       }
      }
     },
     "metadata": {},
     "output_type": "display_data"
    }
   ],
   "source": [
    "# Saldo a liquidar por ano\n",
    "cols = ['ANO', 'A_LIQUIDAR']\n",
    "\n",
    "df_aux = df.loc[:, cols].groupby('ANO').sum().sort_values(by= 'A_LIQUIDAR', ascending=False).reset_index()\n",
    "df_aux = df_aux[df_aux['A_LIQUIDAR'] > 0]\n",
    "fig = px.bar(df_aux, \n",
    "             x='ANO', \n",
    "             y='A_LIQUIDAR',\n",
    "             title='Saldo a liquidar por ano do empenho',\n",
    "             labels={'ANO':'Ano do Empenho', 'A_LIQUIDAR':'Saldo a liquidar'},\n",
    "             text_auto='.3s',\n",
    "             height=400,\n",
    "             log_y=True,\n",
    "             color='A_LIQUIDAR',\n",
    "             color_continuous_scale = 'reds',\n",
    "             template='plotly_dark')\n",
    "fig.update_traces(textposition = 'outside', cliponaxis = False, hovertemplate=None)\n",
    "fig.update_layout(hovermode=\"x unified\")\n",
    "\n",
    "fig.show()"
   ]
  },
  {
   "cell_type": "code",
   "execution_count": 10,
   "metadata": {},
   "outputs": [
    {
     "data": {
      "application/vnd.plotly.v1+json": {
       "config": {
        "plotlyServerURL": "https://plot.ly"
       },
       "data": [
        {
         "alignmentgroup": "True",
         "cliponaxis": false,
         "legendgroup": "",
         "marker": {
          "color": [
           3640682.65,
           1513540.24,
           1213804.6199999999
          ],
          "coloraxis": "coloraxis",
          "pattern": {
           "shape": ""
          }
         },
         "name": "",
         "offsetgroup": "",
         "orientation": "v",
         "showlegend": false,
         "textposition": "outside",
         "texttemplate": "%{y:.3s}",
         "type": "bar",
         "x": [
          "GLOBAL",
          "ORDINARIO",
          "ESTIMATIVO"
         ],
         "xaxis": "x",
         "y": [
          3640682.65,
          1513540.24,
          1213804.6199999999
         ],
         "yaxis": "y"
        }
       ],
       "layout": {
        "barmode": "relative",
        "coloraxis": {
         "colorbar": {
          "title": {
           "text": "Saldo a liquidar"
          }
         },
         "colorscale": [
          [
           0,
           "rgb(255,245,240)"
          ],
          [
           0.125,
           "rgb(254,224,210)"
          ],
          [
           0.25,
           "rgb(252,187,161)"
          ],
          [
           0.375,
           "rgb(252,146,114)"
          ],
          [
           0.5,
           "rgb(251,106,74)"
          ],
          [
           0.625,
           "rgb(239,59,44)"
          ],
          [
           0.75,
           "rgb(203,24,29)"
          ],
          [
           0.875,
           "rgb(165,15,21)"
          ],
          [
           1,
           "rgb(103,0,13)"
          ]
         ]
        },
        "height": 400,
        "hovermode": "x unified",
        "legend": {
         "tracegroupgap": 0
        },
        "template": {
         "data": {
          "bar": [
           {
            "error_x": {
             "color": "#f2f5fa"
            },
            "error_y": {
             "color": "#f2f5fa"
            },
            "marker": {
             "line": {
              "color": "rgb(17,17,17)",
              "width": 0.5
             },
             "pattern": {
              "fillmode": "overlay",
              "size": 10,
              "solidity": 0.2
             }
            },
            "type": "bar"
           }
          ],
          "barpolar": [
           {
            "marker": {
             "line": {
              "color": "rgb(17,17,17)",
              "width": 0.5
             },
             "pattern": {
              "fillmode": "overlay",
              "size": 10,
              "solidity": 0.2
             }
            },
            "type": "barpolar"
           }
          ],
          "carpet": [
           {
            "aaxis": {
             "endlinecolor": "#A2B1C6",
             "gridcolor": "#506784",
             "linecolor": "#506784",
             "minorgridcolor": "#506784",
             "startlinecolor": "#A2B1C6"
            },
            "baxis": {
             "endlinecolor": "#A2B1C6",
             "gridcolor": "#506784",
             "linecolor": "#506784",
             "minorgridcolor": "#506784",
             "startlinecolor": "#A2B1C6"
            },
            "type": "carpet"
           }
          ],
          "choropleth": [
           {
            "colorbar": {
             "outlinewidth": 0,
             "ticks": ""
            },
            "type": "choropleth"
           }
          ],
          "contour": [
           {
            "colorbar": {
             "outlinewidth": 0,
             "ticks": ""
            },
            "colorscale": [
             [
              0,
              "#0d0887"
             ],
             [
              0.1111111111111111,
              "#46039f"
             ],
             [
              0.2222222222222222,
              "#7201a8"
             ],
             [
              0.3333333333333333,
              "#9c179e"
             ],
             [
              0.4444444444444444,
              "#bd3786"
             ],
             [
              0.5555555555555556,
              "#d8576b"
             ],
             [
              0.6666666666666666,
              "#ed7953"
             ],
             [
              0.7777777777777778,
              "#fb9f3a"
             ],
             [
              0.8888888888888888,
              "#fdca26"
             ],
             [
              1,
              "#f0f921"
             ]
            ],
            "type": "contour"
           }
          ],
          "contourcarpet": [
           {
            "colorbar": {
             "outlinewidth": 0,
             "ticks": ""
            },
            "type": "contourcarpet"
           }
          ],
          "heatmap": [
           {
            "colorbar": {
             "outlinewidth": 0,
             "ticks": ""
            },
            "colorscale": [
             [
              0,
              "#0d0887"
             ],
             [
              0.1111111111111111,
              "#46039f"
             ],
             [
              0.2222222222222222,
              "#7201a8"
             ],
             [
              0.3333333333333333,
              "#9c179e"
             ],
             [
              0.4444444444444444,
              "#bd3786"
             ],
             [
              0.5555555555555556,
              "#d8576b"
             ],
             [
              0.6666666666666666,
              "#ed7953"
             ],
             [
              0.7777777777777778,
              "#fb9f3a"
             ],
             [
              0.8888888888888888,
              "#fdca26"
             ],
             [
              1,
              "#f0f921"
             ]
            ],
            "type": "heatmap"
           }
          ],
          "heatmapgl": [
           {
            "colorbar": {
             "outlinewidth": 0,
             "ticks": ""
            },
            "colorscale": [
             [
              0,
              "#0d0887"
             ],
             [
              0.1111111111111111,
              "#46039f"
             ],
             [
              0.2222222222222222,
              "#7201a8"
             ],
             [
              0.3333333333333333,
              "#9c179e"
             ],
             [
              0.4444444444444444,
              "#bd3786"
             ],
             [
              0.5555555555555556,
              "#d8576b"
             ],
             [
              0.6666666666666666,
              "#ed7953"
             ],
             [
              0.7777777777777778,
              "#fb9f3a"
             ],
             [
              0.8888888888888888,
              "#fdca26"
             ],
             [
              1,
              "#f0f921"
             ]
            ],
            "type": "heatmapgl"
           }
          ],
          "histogram": [
           {
            "marker": {
             "pattern": {
              "fillmode": "overlay",
              "size": 10,
              "solidity": 0.2
             }
            },
            "type": "histogram"
           }
          ],
          "histogram2d": [
           {
            "colorbar": {
             "outlinewidth": 0,
             "ticks": ""
            },
            "colorscale": [
             [
              0,
              "#0d0887"
             ],
             [
              0.1111111111111111,
              "#46039f"
             ],
             [
              0.2222222222222222,
              "#7201a8"
             ],
             [
              0.3333333333333333,
              "#9c179e"
             ],
             [
              0.4444444444444444,
              "#bd3786"
             ],
             [
              0.5555555555555556,
              "#d8576b"
             ],
             [
              0.6666666666666666,
              "#ed7953"
             ],
             [
              0.7777777777777778,
              "#fb9f3a"
             ],
             [
              0.8888888888888888,
              "#fdca26"
             ],
             [
              1,
              "#f0f921"
             ]
            ],
            "type": "histogram2d"
           }
          ],
          "histogram2dcontour": [
           {
            "colorbar": {
             "outlinewidth": 0,
             "ticks": ""
            },
            "colorscale": [
             [
              0,
              "#0d0887"
             ],
             [
              0.1111111111111111,
              "#46039f"
             ],
             [
              0.2222222222222222,
              "#7201a8"
             ],
             [
              0.3333333333333333,
              "#9c179e"
             ],
             [
              0.4444444444444444,
              "#bd3786"
             ],
             [
              0.5555555555555556,
              "#d8576b"
             ],
             [
              0.6666666666666666,
              "#ed7953"
             ],
             [
              0.7777777777777778,
              "#fb9f3a"
             ],
             [
              0.8888888888888888,
              "#fdca26"
             ],
             [
              1,
              "#f0f921"
             ]
            ],
            "type": "histogram2dcontour"
           }
          ],
          "mesh3d": [
           {
            "colorbar": {
             "outlinewidth": 0,
             "ticks": ""
            },
            "type": "mesh3d"
           }
          ],
          "parcoords": [
           {
            "line": {
             "colorbar": {
              "outlinewidth": 0,
              "ticks": ""
             }
            },
            "type": "parcoords"
           }
          ],
          "pie": [
           {
            "automargin": true,
            "type": "pie"
           }
          ],
          "scatter": [
           {
            "marker": {
             "line": {
              "color": "#283442"
             }
            },
            "type": "scatter"
           }
          ],
          "scatter3d": [
           {
            "line": {
             "colorbar": {
              "outlinewidth": 0,
              "ticks": ""
             }
            },
            "marker": {
             "colorbar": {
              "outlinewidth": 0,
              "ticks": ""
             }
            },
            "type": "scatter3d"
           }
          ],
          "scattercarpet": [
           {
            "marker": {
             "colorbar": {
              "outlinewidth": 0,
              "ticks": ""
             }
            },
            "type": "scattercarpet"
           }
          ],
          "scattergeo": [
           {
            "marker": {
             "colorbar": {
              "outlinewidth": 0,
              "ticks": ""
             }
            },
            "type": "scattergeo"
           }
          ],
          "scattergl": [
           {
            "marker": {
             "line": {
              "color": "#283442"
             }
            },
            "type": "scattergl"
           }
          ],
          "scattermapbox": [
           {
            "marker": {
             "colorbar": {
              "outlinewidth": 0,
              "ticks": ""
             }
            },
            "type": "scattermapbox"
           }
          ],
          "scatterpolar": [
           {
            "marker": {
             "colorbar": {
              "outlinewidth": 0,
              "ticks": ""
             }
            },
            "type": "scatterpolar"
           }
          ],
          "scatterpolargl": [
           {
            "marker": {
             "colorbar": {
              "outlinewidth": 0,
              "ticks": ""
             }
            },
            "type": "scatterpolargl"
           }
          ],
          "scatterternary": [
           {
            "marker": {
             "colorbar": {
              "outlinewidth": 0,
              "ticks": ""
             }
            },
            "type": "scatterternary"
           }
          ],
          "surface": [
           {
            "colorbar": {
             "outlinewidth": 0,
             "ticks": ""
            },
            "colorscale": [
             [
              0,
              "#0d0887"
             ],
             [
              0.1111111111111111,
              "#46039f"
             ],
             [
              0.2222222222222222,
              "#7201a8"
             ],
             [
              0.3333333333333333,
              "#9c179e"
             ],
             [
              0.4444444444444444,
              "#bd3786"
             ],
             [
              0.5555555555555556,
              "#d8576b"
             ],
             [
              0.6666666666666666,
              "#ed7953"
             ],
             [
              0.7777777777777778,
              "#fb9f3a"
             ],
             [
              0.8888888888888888,
              "#fdca26"
             ],
             [
              1,
              "#f0f921"
             ]
            ],
            "type": "surface"
           }
          ],
          "table": [
           {
            "cells": {
             "fill": {
              "color": "#506784"
             },
             "line": {
              "color": "rgb(17,17,17)"
             }
            },
            "header": {
             "fill": {
              "color": "#2a3f5f"
             },
             "line": {
              "color": "rgb(17,17,17)"
             }
            },
            "type": "table"
           }
          ]
         },
         "layout": {
          "annotationdefaults": {
           "arrowcolor": "#f2f5fa",
           "arrowhead": 0,
           "arrowwidth": 1
          },
          "autotypenumbers": "strict",
          "coloraxis": {
           "colorbar": {
            "outlinewidth": 0,
            "ticks": ""
           }
          },
          "colorscale": {
           "diverging": [
            [
             0,
             "#8e0152"
            ],
            [
             0.1,
             "#c51b7d"
            ],
            [
             0.2,
             "#de77ae"
            ],
            [
             0.3,
             "#f1b6da"
            ],
            [
             0.4,
             "#fde0ef"
            ],
            [
             0.5,
             "#f7f7f7"
            ],
            [
             0.6,
             "#e6f5d0"
            ],
            [
             0.7,
             "#b8e186"
            ],
            [
             0.8,
             "#7fbc41"
            ],
            [
             0.9,
             "#4d9221"
            ],
            [
             1,
             "#276419"
            ]
           ],
           "sequential": [
            [
             0,
             "#0d0887"
            ],
            [
             0.1111111111111111,
             "#46039f"
            ],
            [
             0.2222222222222222,
             "#7201a8"
            ],
            [
             0.3333333333333333,
             "#9c179e"
            ],
            [
             0.4444444444444444,
             "#bd3786"
            ],
            [
             0.5555555555555556,
             "#d8576b"
            ],
            [
             0.6666666666666666,
             "#ed7953"
            ],
            [
             0.7777777777777778,
             "#fb9f3a"
            ],
            [
             0.8888888888888888,
             "#fdca26"
            ],
            [
             1,
             "#f0f921"
            ]
           ],
           "sequentialminus": [
            [
             0,
             "#0d0887"
            ],
            [
             0.1111111111111111,
             "#46039f"
            ],
            [
             0.2222222222222222,
             "#7201a8"
            ],
            [
             0.3333333333333333,
             "#9c179e"
            ],
            [
             0.4444444444444444,
             "#bd3786"
            ],
            [
             0.5555555555555556,
             "#d8576b"
            ],
            [
             0.6666666666666666,
             "#ed7953"
            ],
            [
             0.7777777777777778,
             "#fb9f3a"
            ],
            [
             0.8888888888888888,
             "#fdca26"
            ],
            [
             1,
             "#f0f921"
            ]
           ]
          },
          "colorway": [
           "#636efa",
           "#EF553B",
           "#00cc96",
           "#ab63fa",
           "#FFA15A",
           "#19d3f3",
           "#FF6692",
           "#B6E880",
           "#FF97FF",
           "#FECB52"
          ],
          "font": {
           "color": "#f2f5fa"
          },
          "geo": {
           "bgcolor": "rgb(17,17,17)",
           "lakecolor": "rgb(17,17,17)",
           "landcolor": "rgb(17,17,17)",
           "showlakes": true,
           "showland": true,
           "subunitcolor": "#506784"
          },
          "hoverlabel": {
           "align": "left"
          },
          "hovermode": "closest",
          "mapbox": {
           "style": "dark"
          },
          "paper_bgcolor": "rgb(17,17,17)",
          "plot_bgcolor": "rgb(17,17,17)",
          "polar": {
           "angularaxis": {
            "gridcolor": "#506784",
            "linecolor": "#506784",
            "ticks": ""
           },
           "bgcolor": "rgb(17,17,17)",
           "radialaxis": {
            "gridcolor": "#506784",
            "linecolor": "#506784",
            "ticks": ""
           }
          },
          "scene": {
           "xaxis": {
            "backgroundcolor": "rgb(17,17,17)",
            "gridcolor": "#506784",
            "gridwidth": 2,
            "linecolor": "#506784",
            "showbackground": true,
            "ticks": "",
            "zerolinecolor": "#C8D4E3"
           },
           "yaxis": {
            "backgroundcolor": "rgb(17,17,17)",
            "gridcolor": "#506784",
            "gridwidth": 2,
            "linecolor": "#506784",
            "showbackground": true,
            "ticks": "",
            "zerolinecolor": "#C8D4E3"
           },
           "zaxis": {
            "backgroundcolor": "rgb(17,17,17)",
            "gridcolor": "#506784",
            "gridwidth": 2,
            "linecolor": "#506784",
            "showbackground": true,
            "ticks": "",
            "zerolinecolor": "#C8D4E3"
           }
          },
          "shapedefaults": {
           "line": {
            "color": "#f2f5fa"
           }
          },
          "sliderdefaults": {
           "bgcolor": "#C8D4E3",
           "bordercolor": "rgb(17,17,17)",
           "borderwidth": 1,
           "tickwidth": 0
          },
          "ternary": {
           "aaxis": {
            "gridcolor": "#506784",
            "linecolor": "#506784",
            "ticks": ""
           },
           "baxis": {
            "gridcolor": "#506784",
            "linecolor": "#506784",
            "ticks": ""
           },
           "bgcolor": "rgb(17,17,17)",
           "caxis": {
            "gridcolor": "#506784",
            "linecolor": "#506784",
            "ticks": ""
           }
          },
          "title": {
           "x": 0.05
          },
          "updatemenudefaults": {
           "bgcolor": "#506784",
           "borderwidth": 0
          },
          "xaxis": {
           "automargin": true,
           "gridcolor": "#283442",
           "linecolor": "#506784",
           "ticks": "",
           "title": {
            "standoff": 15
           },
           "zerolinecolor": "#283442",
           "zerolinewidth": 2
          },
          "yaxis": {
           "automargin": true,
           "gridcolor": "#283442",
           "linecolor": "#506784",
           "ticks": "",
           "title": {
            "standoff": 15
           },
           "zerolinecolor": "#283442",
           "zerolinewidth": 2
          }
         }
        },
        "title": {
         "text": "Saldo a liquidar por ano do empenho"
        },
        "xaxis": {
         "anchor": "y",
         "domain": [
          0,
          1
         ],
         "title": {
          "text": "Tipo de Nota de Empenho"
         }
        },
        "yaxis": {
         "anchor": "x",
         "domain": [
          0,
          1
         ],
         "title": {
          "text": "Saldo a liquidar"
         },
         "type": "log"
        }
       }
      }
     },
     "metadata": {},
     "output_type": "display_data"
    }
   ],
   "source": [
    "# Saldo a liquidar por tipo de NE\n",
    "cols = ['TIPO_NE', 'A_LIQUIDAR']\n",
    "\n",
    "df_aux = df.loc[:, cols].groupby('TIPO_NE').sum().sort_values(by= 'A_LIQUIDAR', ascending=False).reset_index()\n",
    "df_aux = df_aux[df_aux['A_LIQUIDAR'] > 0]\n",
    "fig = px.bar(df_aux, \n",
    "             x='TIPO_NE', \n",
    "             y='A_LIQUIDAR',\n",
    "             title='Saldo a liquidar por ano do empenho',\n",
    "             labels={'TIPO_NE':'Tipo de Nota de Empenho', 'A_LIQUIDAR':'Saldo a liquidar'},\n",
    "             text_auto='.3s',\n",
    "             height=400,\n",
    "             log_y=True,\n",
    "             color='A_LIQUIDAR',\n",
    "             color_continuous_scale = 'reds',\n",
    "             template='plotly_dark')\n",
    "fig.update_traces(textposition = 'outside', cliponaxis = False, hovertemplate=None)\n",
    "fig.update_layout(hovermode=\"x unified\")\n",
    "\n",
    "fig.show()"
   ]
  },
  {
   "cell_type": "code",
   "execution_count": 11,
   "metadata": {},
   "outputs": [
    {
     "data": {
      "application/vnd.plotly.v1+json": {
       "config": {
        "plotlyServerURL": "https://plot.ly"
       },
       "data": [
        {
         "alignmentgroup": "True",
         "cliponaxis": false,
         "legendgroup": "",
         "marker": {
          "color": [
           1116737.14,
           1087781.2,
           1031823.53,
           944090.59,
           791596.9400000001,
           755438.16,
           565009.1799999999,
           13651.67,
           11404.89,
           8645,
           7935.85,
           1669.8600000000001
          ],
          "coloraxis": "coloraxis",
          "pattern": {
           "shape": ""
          }
         },
         "name": "",
         "offsetgroup": "",
         "orientation": "v",
         "showlegend": false,
         "textposition": "outside",
         "texttemplate": "%{y:.3s}",
         "type": "bar",
         "x": [
          "DECEX - GESTOR",
          "DGO",
          "DEC-GESTOR",
          "DECEX/GESTOR",
          "DGP",
          "COEX/GESTOR",
          "ESA",
          "DEORF/MD",
          "COEX - GESTOR",
          "DCT - GESTOR",
          "GAB CMT EX - GESTOR",
          "COTER - GESTOR"
         ],
         "xaxis": "x",
         "y": [
          1116737.14,
          1087781.2,
          1031823.53,
          944090.59,
          791596.9400000001,
          755438.16,
          565009.1799999999,
          13651.67,
          11404.89,
          8645,
          7935.85,
          1669.8600000000001
         ],
         "yaxis": "y"
        }
       ],
       "layout": {
        "barmode": "relative",
        "coloraxis": {
         "colorbar": {
          "title": {
           "text": "Saldo a liquidar"
          }
         },
         "colorscale": [
          [
           0,
           "rgb(255,245,240)"
          ],
          [
           0.125,
           "rgb(254,224,210)"
          ],
          [
           0.25,
           "rgb(252,187,161)"
          ],
          [
           0.375,
           "rgb(252,146,114)"
          ],
          [
           0.5,
           "rgb(251,106,74)"
          ],
          [
           0.625,
           "rgb(239,59,44)"
          ],
          [
           0.75,
           "rgb(203,24,29)"
          ],
          [
           0.875,
           "rgb(165,15,21)"
          ],
          [
           1,
           "rgb(103,0,13)"
          ]
         ]
        },
        "height": 400,
        "hovermode": "x unified",
        "legend": {
         "tracegroupgap": 0
        },
        "template": {
         "data": {
          "bar": [
           {
            "error_x": {
             "color": "#f2f5fa"
            },
            "error_y": {
             "color": "#f2f5fa"
            },
            "marker": {
             "line": {
              "color": "rgb(17,17,17)",
              "width": 0.5
             },
             "pattern": {
              "fillmode": "overlay",
              "size": 10,
              "solidity": 0.2
             }
            },
            "type": "bar"
           }
          ],
          "barpolar": [
           {
            "marker": {
             "line": {
              "color": "rgb(17,17,17)",
              "width": 0.5
             },
             "pattern": {
              "fillmode": "overlay",
              "size": 10,
              "solidity": 0.2
             }
            },
            "type": "barpolar"
           }
          ],
          "carpet": [
           {
            "aaxis": {
             "endlinecolor": "#A2B1C6",
             "gridcolor": "#506784",
             "linecolor": "#506784",
             "minorgridcolor": "#506784",
             "startlinecolor": "#A2B1C6"
            },
            "baxis": {
             "endlinecolor": "#A2B1C6",
             "gridcolor": "#506784",
             "linecolor": "#506784",
             "minorgridcolor": "#506784",
             "startlinecolor": "#A2B1C6"
            },
            "type": "carpet"
           }
          ],
          "choropleth": [
           {
            "colorbar": {
             "outlinewidth": 0,
             "ticks": ""
            },
            "type": "choropleth"
           }
          ],
          "contour": [
           {
            "colorbar": {
             "outlinewidth": 0,
             "ticks": ""
            },
            "colorscale": [
             [
              0,
              "#0d0887"
             ],
             [
              0.1111111111111111,
              "#46039f"
             ],
             [
              0.2222222222222222,
              "#7201a8"
             ],
             [
              0.3333333333333333,
              "#9c179e"
             ],
             [
              0.4444444444444444,
              "#bd3786"
             ],
             [
              0.5555555555555556,
              "#d8576b"
             ],
             [
              0.6666666666666666,
              "#ed7953"
             ],
             [
              0.7777777777777778,
              "#fb9f3a"
             ],
             [
              0.8888888888888888,
              "#fdca26"
             ],
             [
              1,
              "#f0f921"
             ]
            ],
            "type": "contour"
           }
          ],
          "contourcarpet": [
           {
            "colorbar": {
             "outlinewidth": 0,
             "ticks": ""
            },
            "type": "contourcarpet"
           }
          ],
          "heatmap": [
           {
            "colorbar": {
             "outlinewidth": 0,
             "ticks": ""
            },
            "colorscale": [
             [
              0,
              "#0d0887"
             ],
             [
              0.1111111111111111,
              "#46039f"
             ],
             [
              0.2222222222222222,
              "#7201a8"
             ],
             [
              0.3333333333333333,
              "#9c179e"
             ],
             [
              0.4444444444444444,
              "#bd3786"
             ],
             [
              0.5555555555555556,
              "#d8576b"
             ],
             [
              0.6666666666666666,
              "#ed7953"
             ],
             [
              0.7777777777777778,
              "#fb9f3a"
             ],
             [
              0.8888888888888888,
              "#fdca26"
             ],
             [
              1,
              "#f0f921"
             ]
            ],
            "type": "heatmap"
           }
          ],
          "heatmapgl": [
           {
            "colorbar": {
             "outlinewidth": 0,
             "ticks": ""
            },
            "colorscale": [
             [
              0,
              "#0d0887"
             ],
             [
              0.1111111111111111,
              "#46039f"
             ],
             [
              0.2222222222222222,
              "#7201a8"
             ],
             [
              0.3333333333333333,
              "#9c179e"
             ],
             [
              0.4444444444444444,
              "#bd3786"
             ],
             [
              0.5555555555555556,
              "#d8576b"
             ],
             [
              0.6666666666666666,
              "#ed7953"
             ],
             [
              0.7777777777777778,
              "#fb9f3a"
             ],
             [
              0.8888888888888888,
              "#fdca26"
             ],
             [
              1,
              "#f0f921"
             ]
            ],
            "type": "heatmapgl"
           }
          ],
          "histogram": [
           {
            "marker": {
             "pattern": {
              "fillmode": "overlay",
              "size": 10,
              "solidity": 0.2
             }
            },
            "type": "histogram"
           }
          ],
          "histogram2d": [
           {
            "colorbar": {
             "outlinewidth": 0,
             "ticks": ""
            },
            "colorscale": [
             [
              0,
              "#0d0887"
             ],
             [
              0.1111111111111111,
              "#46039f"
             ],
             [
              0.2222222222222222,
              "#7201a8"
             ],
             [
              0.3333333333333333,
              "#9c179e"
             ],
             [
              0.4444444444444444,
              "#bd3786"
             ],
             [
              0.5555555555555556,
              "#d8576b"
             ],
             [
              0.6666666666666666,
              "#ed7953"
             ],
             [
              0.7777777777777778,
              "#fb9f3a"
             ],
             [
              0.8888888888888888,
              "#fdca26"
             ],
             [
              1,
              "#f0f921"
             ]
            ],
            "type": "histogram2d"
           }
          ],
          "histogram2dcontour": [
           {
            "colorbar": {
             "outlinewidth": 0,
             "ticks": ""
            },
            "colorscale": [
             [
              0,
              "#0d0887"
             ],
             [
              0.1111111111111111,
              "#46039f"
             ],
             [
              0.2222222222222222,
              "#7201a8"
             ],
             [
              0.3333333333333333,
              "#9c179e"
             ],
             [
              0.4444444444444444,
              "#bd3786"
             ],
             [
              0.5555555555555556,
              "#d8576b"
             ],
             [
              0.6666666666666666,
              "#ed7953"
             ],
             [
              0.7777777777777778,
              "#fb9f3a"
             ],
             [
              0.8888888888888888,
              "#fdca26"
             ],
             [
              1,
              "#f0f921"
             ]
            ],
            "type": "histogram2dcontour"
           }
          ],
          "mesh3d": [
           {
            "colorbar": {
             "outlinewidth": 0,
             "ticks": ""
            },
            "type": "mesh3d"
           }
          ],
          "parcoords": [
           {
            "line": {
             "colorbar": {
              "outlinewidth": 0,
              "ticks": ""
             }
            },
            "type": "parcoords"
           }
          ],
          "pie": [
           {
            "automargin": true,
            "type": "pie"
           }
          ],
          "scatter": [
           {
            "marker": {
             "line": {
              "color": "#283442"
             }
            },
            "type": "scatter"
           }
          ],
          "scatter3d": [
           {
            "line": {
             "colorbar": {
              "outlinewidth": 0,
              "ticks": ""
             }
            },
            "marker": {
             "colorbar": {
              "outlinewidth": 0,
              "ticks": ""
             }
            },
            "type": "scatter3d"
           }
          ],
          "scattercarpet": [
           {
            "marker": {
             "colorbar": {
              "outlinewidth": 0,
              "ticks": ""
             }
            },
            "type": "scattercarpet"
           }
          ],
          "scattergeo": [
           {
            "marker": {
             "colorbar": {
              "outlinewidth": 0,
              "ticks": ""
             }
            },
            "type": "scattergeo"
           }
          ],
          "scattergl": [
           {
            "marker": {
             "line": {
              "color": "#283442"
             }
            },
            "type": "scattergl"
           }
          ],
          "scattermapbox": [
           {
            "marker": {
             "colorbar": {
              "outlinewidth": 0,
              "ticks": ""
             }
            },
            "type": "scattermapbox"
           }
          ],
          "scatterpolar": [
           {
            "marker": {
             "colorbar": {
              "outlinewidth": 0,
              "ticks": ""
             }
            },
            "type": "scatterpolar"
           }
          ],
          "scatterpolargl": [
           {
            "marker": {
             "colorbar": {
              "outlinewidth": 0,
              "ticks": ""
             }
            },
            "type": "scatterpolargl"
           }
          ],
          "scatterternary": [
           {
            "marker": {
             "colorbar": {
              "outlinewidth": 0,
              "ticks": ""
             }
            },
            "type": "scatterternary"
           }
          ],
          "surface": [
           {
            "colorbar": {
             "outlinewidth": 0,
             "ticks": ""
            },
            "colorscale": [
             [
              0,
              "#0d0887"
             ],
             [
              0.1111111111111111,
              "#46039f"
             ],
             [
              0.2222222222222222,
              "#7201a8"
             ],
             [
              0.3333333333333333,
              "#9c179e"
             ],
             [
              0.4444444444444444,
              "#bd3786"
             ],
             [
              0.5555555555555556,
              "#d8576b"
             ],
             [
              0.6666666666666666,
              "#ed7953"
             ],
             [
              0.7777777777777778,
              "#fb9f3a"
             ],
             [
              0.8888888888888888,
              "#fdca26"
             ],
             [
              1,
              "#f0f921"
             ]
            ],
            "type": "surface"
           }
          ],
          "table": [
           {
            "cells": {
             "fill": {
              "color": "#506784"
             },
             "line": {
              "color": "rgb(17,17,17)"
             }
            },
            "header": {
             "fill": {
              "color": "#2a3f5f"
             },
             "line": {
              "color": "rgb(17,17,17)"
             }
            },
            "type": "table"
           }
          ]
         },
         "layout": {
          "annotationdefaults": {
           "arrowcolor": "#f2f5fa",
           "arrowhead": 0,
           "arrowwidth": 1
          },
          "autotypenumbers": "strict",
          "coloraxis": {
           "colorbar": {
            "outlinewidth": 0,
            "ticks": ""
           }
          },
          "colorscale": {
           "diverging": [
            [
             0,
             "#8e0152"
            ],
            [
             0.1,
             "#c51b7d"
            ],
            [
             0.2,
             "#de77ae"
            ],
            [
             0.3,
             "#f1b6da"
            ],
            [
             0.4,
             "#fde0ef"
            ],
            [
             0.5,
             "#f7f7f7"
            ],
            [
             0.6,
             "#e6f5d0"
            ],
            [
             0.7,
             "#b8e186"
            ],
            [
             0.8,
             "#7fbc41"
            ],
            [
             0.9,
             "#4d9221"
            ],
            [
             1,
             "#276419"
            ]
           ],
           "sequential": [
            [
             0,
             "#0d0887"
            ],
            [
             0.1111111111111111,
             "#46039f"
            ],
            [
             0.2222222222222222,
             "#7201a8"
            ],
            [
             0.3333333333333333,
             "#9c179e"
            ],
            [
             0.4444444444444444,
             "#bd3786"
            ],
            [
             0.5555555555555556,
             "#d8576b"
            ],
            [
             0.6666666666666666,
             "#ed7953"
            ],
            [
             0.7777777777777778,
             "#fb9f3a"
            ],
            [
             0.8888888888888888,
             "#fdca26"
            ],
            [
             1,
             "#f0f921"
            ]
           ],
           "sequentialminus": [
            [
             0,
             "#0d0887"
            ],
            [
             0.1111111111111111,
             "#46039f"
            ],
            [
             0.2222222222222222,
             "#7201a8"
            ],
            [
             0.3333333333333333,
             "#9c179e"
            ],
            [
             0.4444444444444444,
             "#bd3786"
            ],
            [
             0.5555555555555556,
             "#d8576b"
            ],
            [
             0.6666666666666666,
             "#ed7953"
            ],
            [
             0.7777777777777778,
             "#fb9f3a"
            ],
            [
             0.8888888888888888,
             "#fdca26"
            ],
            [
             1,
             "#f0f921"
            ]
           ]
          },
          "colorway": [
           "#636efa",
           "#EF553B",
           "#00cc96",
           "#ab63fa",
           "#FFA15A",
           "#19d3f3",
           "#FF6692",
           "#B6E880",
           "#FF97FF",
           "#FECB52"
          ],
          "font": {
           "color": "#f2f5fa"
          },
          "geo": {
           "bgcolor": "rgb(17,17,17)",
           "lakecolor": "rgb(17,17,17)",
           "landcolor": "rgb(17,17,17)",
           "showlakes": true,
           "showland": true,
           "subunitcolor": "#506784"
          },
          "hoverlabel": {
           "align": "left"
          },
          "hovermode": "closest",
          "mapbox": {
           "style": "dark"
          },
          "paper_bgcolor": "rgb(17,17,17)",
          "plot_bgcolor": "rgb(17,17,17)",
          "polar": {
           "angularaxis": {
            "gridcolor": "#506784",
            "linecolor": "#506784",
            "ticks": ""
           },
           "bgcolor": "rgb(17,17,17)",
           "radialaxis": {
            "gridcolor": "#506784",
            "linecolor": "#506784",
            "ticks": ""
           }
          },
          "scene": {
           "xaxis": {
            "backgroundcolor": "rgb(17,17,17)",
            "gridcolor": "#506784",
            "gridwidth": 2,
            "linecolor": "#506784",
            "showbackground": true,
            "ticks": "",
            "zerolinecolor": "#C8D4E3"
           },
           "yaxis": {
            "backgroundcolor": "rgb(17,17,17)",
            "gridcolor": "#506784",
            "gridwidth": 2,
            "linecolor": "#506784",
            "showbackground": true,
            "ticks": "",
            "zerolinecolor": "#C8D4E3"
           },
           "zaxis": {
            "backgroundcolor": "rgb(17,17,17)",
            "gridcolor": "#506784",
            "gridwidth": 2,
            "linecolor": "#506784",
            "showbackground": true,
            "ticks": "",
            "zerolinecolor": "#C8D4E3"
           }
          },
          "shapedefaults": {
           "line": {
            "color": "#f2f5fa"
           }
          },
          "sliderdefaults": {
           "bgcolor": "#C8D4E3",
           "bordercolor": "rgb(17,17,17)",
           "borderwidth": 1,
           "tickwidth": 0
          },
          "ternary": {
           "aaxis": {
            "gridcolor": "#506784",
            "linecolor": "#506784",
            "ticks": ""
           },
           "baxis": {
            "gridcolor": "#506784",
            "linecolor": "#506784",
            "ticks": ""
           },
           "bgcolor": "rgb(17,17,17)",
           "caxis": {
            "gridcolor": "#506784",
            "linecolor": "#506784",
            "ticks": ""
           }
          },
          "title": {
           "x": 0.05
          },
          "updatemenudefaults": {
           "bgcolor": "#506784",
           "borderwidth": 0
          },
          "xaxis": {
           "automargin": true,
           "gridcolor": "#283442",
           "linecolor": "#506784",
           "ticks": "",
           "title": {
            "standoff": 15
           },
           "zerolinecolor": "#283442",
           "zerolinewidth": 2
          },
          "yaxis": {
           "automargin": true,
           "gridcolor": "#283442",
           "linecolor": "#506784",
           "ticks": "",
           "title": {
            "standoff": 15
           },
           "zerolinecolor": "#283442",
           "zerolinewidth": 2
          }
         }
        },
        "title": {
         "text": "Saldo a liquidar por ano do empenho"
        },
        "xaxis": {
         "anchor": "y",
         "domain": [
          0,
          1
         ],
         "title": {
          "text": "Nome das UGR"
         }
        },
        "yaxis": {
         "anchor": "x",
         "domain": [
          0,
          1
         ],
         "title": {
          "text": "Saldo a liquidar"
         },
         "type": "log"
        }
       }
      }
     },
     "metadata": {},
     "output_type": "display_data"
    }
   ],
   "source": [
    "# Saldo a liquidar por tipo de NE\n",
    "cols = ['NOME_UGR', 'A_LIQUIDAR']\n",
    "\n",
    "df_aux = df.loc[:, cols].groupby('NOME_UGR').sum().sort_values(by= 'A_LIQUIDAR', ascending=False).reset_index()\n",
    "df_aux = df_aux[df_aux['A_LIQUIDAR'] > 0]\n",
    "fig = px.bar(df_aux, \n",
    "             x='NOME_UGR', \n",
    "             y='A_LIQUIDAR',\n",
    "             title='Saldo a liquidar por ano do empenho',\n",
    "             labels={'NOME_UGR':'Nome das UGR', 'A_LIQUIDAR':'Saldo a liquidar'},\n",
    "             text_auto='.3s',\n",
    "             height=400,\n",
    "             log_y=True,\n",
    "             color='A_LIQUIDAR',\n",
    "             color_continuous_scale = 'reds',\n",
    "             template='plotly_dark')\n",
    "fig.update_traces(textposition = 'outside', cliponaxis = False, hovertemplate=None)\n",
    "fig.update_layout(hovermode=\"x unified\")\n",
    "\n",
    "fig.show()"
   ]
  },
  {
   "cell_type": "code",
   "execution_count": 12,
   "metadata": {},
   "outputs": [
    {
     "data": {
      "application/vnd.plotly.v1+json": {
       "config": {
        "plotlyServerURL": "https://plot.ly"
       },
       "data": [
        {
         "cliponaxis": false,
         "name": "A Liquidar",
         "textposition": "outside",
         "type": "bar",
         "x": [
          "339039",
          "339030",
          "339033",
          "449052",
          "339015",
          "339037",
          "339093",
          "339040",
          "339036",
          "339032",
          "339147",
          "339047"
         ],
         "y": [
          3088678.14,
          939215.65,
          780856.59,
          494901.65,
          319200.67,
          256692.08999999997,
          256287.58,
          200272.22,
          20979.66,
          5246.5,
          4195.94,
          1500.82
         ]
        },
        {
         "cliponaxis": false,
         "name": "Liquidado a pagar",
         "textposition": "outside",
         "type": "bar",
         "x": [
          "339039",
          "339030",
          "339033",
          "449052",
          "339015",
          "339037",
          "339093",
          "339040",
          "339036",
          "339032",
          "339147",
          "339047"
         ],
         "y": [
          17993.85,
          0,
          7948.58,
          798,
          28931.760000000002,
          0,
          29478.82,
          381.33,
          9.54,
          0,
          0,
          0
         ]
        },
        {
         "cliponaxis": false,
         "name": "Pago",
         "textposition": "outside",
         "type": "bar",
         "x": [
          "339039",
          "339030",
          "339033",
          "449052",
          "339015",
          "339037",
          "339093",
          "339040",
          "339036",
          "339032",
          "339147",
          "339047"
         ],
         "y": [
          13042180.57,
          4973375.79,
          1450609.49,
          1152374.57,
          266615.06,
          748134.22,
          3453119.66,
          209717.21000000002,
          230827.99,
          0,
          46167.47,
          47782.98
         ]
        }
       ],
       "layout": {
        "hovermode": "x unified",
        "template": {
         "data": {
          "bar": [
           {
            "error_x": {
             "color": "#2a3f5f"
            },
            "error_y": {
             "color": "#2a3f5f"
            },
            "marker": {
             "line": {
              "color": "#E5ECF6",
              "width": 0.5
             },
             "pattern": {
              "fillmode": "overlay",
              "size": 10,
              "solidity": 0.2
             }
            },
            "type": "bar"
           }
          ],
          "barpolar": [
           {
            "marker": {
             "line": {
              "color": "#E5ECF6",
              "width": 0.5
             },
             "pattern": {
              "fillmode": "overlay",
              "size": 10,
              "solidity": 0.2
             }
            },
            "type": "barpolar"
           }
          ],
          "carpet": [
           {
            "aaxis": {
             "endlinecolor": "#2a3f5f",
             "gridcolor": "white",
             "linecolor": "white",
             "minorgridcolor": "white",
             "startlinecolor": "#2a3f5f"
            },
            "baxis": {
             "endlinecolor": "#2a3f5f",
             "gridcolor": "white",
             "linecolor": "white",
             "minorgridcolor": "white",
             "startlinecolor": "#2a3f5f"
            },
            "type": "carpet"
           }
          ],
          "choropleth": [
           {
            "colorbar": {
             "outlinewidth": 0,
             "ticks": ""
            },
            "type": "choropleth"
           }
          ],
          "contour": [
           {
            "colorbar": {
             "outlinewidth": 0,
             "ticks": ""
            },
            "colorscale": [
             [
              0,
              "#0d0887"
             ],
             [
              0.1111111111111111,
              "#46039f"
             ],
             [
              0.2222222222222222,
              "#7201a8"
             ],
             [
              0.3333333333333333,
              "#9c179e"
             ],
             [
              0.4444444444444444,
              "#bd3786"
             ],
             [
              0.5555555555555556,
              "#d8576b"
             ],
             [
              0.6666666666666666,
              "#ed7953"
             ],
             [
              0.7777777777777778,
              "#fb9f3a"
             ],
             [
              0.8888888888888888,
              "#fdca26"
             ],
             [
              1,
              "#f0f921"
             ]
            ],
            "type": "contour"
           }
          ],
          "contourcarpet": [
           {
            "colorbar": {
             "outlinewidth": 0,
             "ticks": ""
            },
            "type": "contourcarpet"
           }
          ],
          "heatmap": [
           {
            "colorbar": {
             "outlinewidth": 0,
             "ticks": ""
            },
            "colorscale": [
             [
              0,
              "#0d0887"
             ],
             [
              0.1111111111111111,
              "#46039f"
             ],
             [
              0.2222222222222222,
              "#7201a8"
             ],
             [
              0.3333333333333333,
              "#9c179e"
             ],
             [
              0.4444444444444444,
              "#bd3786"
             ],
             [
              0.5555555555555556,
              "#d8576b"
             ],
             [
              0.6666666666666666,
              "#ed7953"
             ],
             [
              0.7777777777777778,
              "#fb9f3a"
             ],
             [
              0.8888888888888888,
              "#fdca26"
             ],
             [
              1,
              "#f0f921"
             ]
            ],
            "type": "heatmap"
           }
          ],
          "heatmapgl": [
           {
            "colorbar": {
             "outlinewidth": 0,
             "ticks": ""
            },
            "colorscale": [
             [
              0,
              "#0d0887"
             ],
             [
              0.1111111111111111,
              "#46039f"
             ],
             [
              0.2222222222222222,
              "#7201a8"
             ],
             [
              0.3333333333333333,
              "#9c179e"
             ],
             [
              0.4444444444444444,
              "#bd3786"
             ],
             [
              0.5555555555555556,
              "#d8576b"
             ],
             [
              0.6666666666666666,
              "#ed7953"
             ],
             [
              0.7777777777777778,
              "#fb9f3a"
             ],
             [
              0.8888888888888888,
              "#fdca26"
             ],
             [
              1,
              "#f0f921"
             ]
            ],
            "type": "heatmapgl"
           }
          ],
          "histogram": [
           {
            "marker": {
             "pattern": {
              "fillmode": "overlay",
              "size": 10,
              "solidity": 0.2
             }
            },
            "type": "histogram"
           }
          ],
          "histogram2d": [
           {
            "colorbar": {
             "outlinewidth": 0,
             "ticks": ""
            },
            "colorscale": [
             [
              0,
              "#0d0887"
             ],
             [
              0.1111111111111111,
              "#46039f"
             ],
             [
              0.2222222222222222,
              "#7201a8"
             ],
             [
              0.3333333333333333,
              "#9c179e"
             ],
             [
              0.4444444444444444,
              "#bd3786"
             ],
             [
              0.5555555555555556,
              "#d8576b"
             ],
             [
              0.6666666666666666,
              "#ed7953"
             ],
             [
              0.7777777777777778,
              "#fb9f3a"
             ],
             [
              0.8888888888888888,
              "#fdca26"
             ],
             [
              1,
              "#f0f921"
             ]
            ],
            "type": "histogram2d"
           }
          ],
          "histogram2dcontour": [
           {
            "colorbar": {
             "outlinewidth": 0,
             "ticks": ""
            },
            "colorscale": [
             [
              0,
              "#0d0887"
             ],
             [
              0.1111111111111111,
              "#46039f"
             ],
             [
              0.2222222222222222,
              "#7201a8"
             ],
             [
              0.3333333333333333,
              "#9c179e"
             ],
             [
              0.4444444444444444,
              "#bd3786"
             ],
             [
              0.5555555555555556,
              "#d8576b"
             ],
             [
              0.6666666666666666,
              "#ed7953"
             ],
             [
              0.7777777777777778,
              "#fb9f3a"
             ],
             [
              0.8888888888888888,
              "#fdca26"
             ],
             [
              1,
              "#f0f921"
             ]
            ],
            "type": "histogram2dcontour"
           }
          ],
          "mesh3d": [
           {
            "colorbar": {
             "outlinewidth": 0,
             "ticks": ""
            },
            "type": "mesh3d"
           }
          ],
          "parcoords": [
           {
            "line": {
             "colorbar": {
              "outlinewidth": 0,
              "ticks": ""
             }
            },
            "type": "parcoords"
           }
          ],
          "pie": [
           {
            "automargin": true,
            "type": "pie"
           }
          ],
          "scatter": [
           {
            "fillpattern": {
             "fillmode": "overlay",
             "size": 10,
             "solidity": 0.2
            },
            "type": "scatter"
           }
          ],
          "scatter3d": [
           {
            "line": {
             "colorbar": {
              "outlinewidth": 0,
              "ticks": ""
             }
            },
            "marker": {
             "colorbar": {
              "outlinewidth": 0,
              "ticks": ""
             }
            },
            "type": "scatter3d"
           }
          ],
          "scattercarpet": [
           {
            "marker": {
             "colorbar": {
              "outlinewidth": 0,
              "ticks": ""
             }
            },
            "type": "scattercarpet"
           }
          ],
          "scattergeo": [
           {
            "marker": {
             "colorbar": {
              "outlinewidth": 0,
              "ticks": ""
             }
            },
            "type": "scattergeo"
           }
          ],
          "scattergl": [
           {
            "marker": {
             "colorbar": {
              "outlinewidth": 0,
              "ticks": ""
             }
            },
            "type": "scattergl"
           }
          ],
          "scattermapbox": [
           {
            "marker": {
             "colorbar": {
              "outlinewidth": 0,
              "ticks": ""
             }
            },
            "type": "scattermapbox"
           }
          ],
          "scatterpolar": [
           {
            "marker": {
             "colorbar": {
              "outlinewidth": 0,
              "ticks": ""
             }
            },
            "type": "scatterpolar"
           }
          ],
          "scatterpolargl": [
           {
            "marker": {
             "colorbar": {
              "outlinewidth": 0,
              "ticks": ""
             }
            },
            "type": "scatterpolargl"
           }
          ],
          "scatterternary": [
           {
            "marker": {
             "colorbar": {
              "outlinewidth": 0,
              "ticks": ""
             }
            },
            "type": "scatterternary"
           }
          ],
          "surface": [
           {
            "colorbar": {
             "outlinewidth": 0,
             "ticks": ""
            },
            "colorscale": [
             [
              0,
              "#0d0887"
             ],
             [
              0.1111111111111111,
              "#46039f"
             ],
             [
              0.2222222222222222,
              "#7201a8"
             ],
             [
              0.3333333333333333,
              "#9c179e"
             ],
             [
              0.4444444444444444,
              "#bd3786"
             ],
             [
              0.5555555555555556,
              "#d8576b"
             ],
             [
              0.6666666666666666,
              "#ed7953"
             ],
             [
              0.7777777777777778,
              "#fb9f3a"
             ],
             [
              0.8888888888888888,
              "#fdca26"
             ],
             [
              1,
              "#f0f921"
             ]
            ],
            "type": "surface"
           }
          ],
          "table": [
           {
            "cells": {
             "fill": {
              "color": "#EBF0F8"
             },
             "line": {
              "color": "white"
             }
            },
            "header": {
             "fill": {
              "color": "#C8D4E3"
             },
             "line": {
              "color": "white"
             }
            },
            "type": "table"
           }
          ]
         },
         "layout": {
          "annotationdefaults": {
           "arrowcolor": "#2a3f5f",
           "arrowhead": 0,
           "arrowwidth": 1
          },
          "autotypenumbers": "strict",
          "coloraxis": {
           "colorbar": {
            "outlinewidth": 0,
            "ticks": ""
           }
          },
          "colorscale": {
           "diverging": [
            [
             0,
             "#8e0152"
            ],
            [
             0.1,
             "#c51b7d"
            ],
            [
             0.2,
             "#de77ae"
            ],
            [
             0.3,
             "#f1b6da"
            ],
            [
             0.4,
             "#fde0ef"
            ],
            [
             0.5,
             "#f7f7f7"
            ],
            [
             0.6,
             "#e6f5d0"
            ],
            [
             0.7,
             "#b8e186"
            ],
            [
             0.8,
             "#7fbc41"
            ],
            [
             0.9,
             "#4d9221"
            ],
            [
             1,
             "#276419"
            ]
           ],
           "sequential": [
            [
             0,
             "#0d0887"
            ],
            [
             0.1111111111111111,
             "#46039f"
            ],
            [
             0.2222222222222222,
             "#7201a8"
            ],
            [
             0.3333333333333333,
             "#9c179e"
            ],
            [
             0.4444444444444444,
             "#bd3786"
            ],
            [
             0.5555555555555556,
             "#d8576b"
            ],
            [
             0.6666666666666666,
             "#ed7953"
            ],
            [
             0.7777777777777778,
             "#fb9f3a"
            ],
            [
             0.8888888888888888,
             "#fdca26"
            ],
            [
             1,
             "#f0f921"
            ]
           ],
           "sequentialminus": [
            [
             0,
             "#0d0887"
            ],
            [
             0.1111111111111111,
             "#46039f"
            ],
            [
             0.2222222222222222,
             "#7201a8"
            ],
            [
             0.3333333333333333,
             "#9c179e"
            ],
            [
             0.4444444444444444,
             "#bd3786"
            ],
            [
             0.5555555555555556,
             "#d8576b"
            ],
            [
             0.6666666666666666,
             "#ed7953"
            ],
            [
             0.7777777777777778,
             "#fb9f3a"
            ],
            [
             0.8888888888888888,
             "#fdca26"
            ],
            [
             1,
             "#f0f921"
            ]
           ]
          },
          "colorway": [
           "#636efa",
           "#EF553B",
           "#00cc96",
           "#ab63fa",
           "#FFA15A",
           "#19d3f3",
           "#FF6692",
           "#B6E880",
           "#FF97FF",
           "#FECB52"
          ],
          "font": {
           "color": "#2a3f5f"
          },
          "geo": {
           "bgcolor": "white",
           "lakecolor": "white",
           "landcolor": "#E5ECF6",
           "showlakes": true,
           "showland": true,
           "subunitcolor": "white"
          },
          "hoverlabel": {
           "align": "left"
          },
          "hovermode": "closest",
          "mapbox": {
           "style": "light"
          },
          "paper_bgcolor": "white",
          "plot_bgcolor": "#E5ECF6",
          "polar": {
           "angularaxis": {
            "gridcolor": "white",
            "linecolor": "white",
            "ticks": ""
           },
           "bgcolor": "#E5ECF6",
           "radialaxis": {
            "gridcolor": "white",
            "linecolor": "white",
            "ticks": ""
           }
          },
          "scene": {
           "xaxis": {
            "backgroundcolor": "#E5ECF6",
            "gridcolor": "white",
            "gridwidth": 2,
            "linecolor": "white",
            "showbackground": true,
            "ticks": "",
            "zerolinecolor": "white"
           },
           "yaxis": {
            "backgroundcolor": "#E5ECF6",
            "gridcolor": "white",
            "gridwidth": 2,
            "linecolor": "white",
            "showbackground": true,
            "ticks": "",
            "zerolinecolor": "white"
           },
           "zaxis": {
            "backgroundcolor": "#E5ECF6",
            "gridcolor": "white",
            "gridwidth": 2,
            "linecolor": "white",
            "showbackground": true,
            "ticks": "",
            "zerolinecolor": "white"
           }
          },
          "shapedefaults": {
           "line": {
            "color": "#2a3f5f"
           }
          },
          "ternary": {
           "aaxis": {
            "gridcolor": "white",
            "linecolor": "white",
            "ticks": ""
           },
           "baxis": {
            "gridcolor": "white",
            "linecolor": "white",
            "ticks": ""
           },
           "bgcolor": "#E5ECF6",
           "caxis": {
            "gridcolor": "white",
            "linecolor": "white",
            "ticks": ""
           }
          },
          "title": {
           "x": 0.05
          },
          "xaxis": {
           "automargin": true,
           "gridcolor": "white",
           "linecolor": "white",
           "ticks": "",
           "title": {
            "standoff": 15
           },
           "zerolinecolor": "white",
           "zerolinewidth": 2
          },
          "yaxis": {
           "automargin": true,
           "gridcolor": "white",
           "linecolor": "white",
           "ticks": "",
           "title": {
            "standoff": 15
           },
           "zerolinecolor": "white",
           "zerolinewidth": 2
          }
         }
        },
        "yaxis": {
         "type": "log"
        }
       }
      }
     },
     "metadata": {},
     "output_type": "display_data"
    }
   ],
   "source": [
    "# Saldo a liquidar por ND\n",
    "cols = ['ND', 'A_LIQUIDAR', 'LIQUIDADO_A_PAGAR', 'PAGO']\n",
    "\n",
    "df_aux = df.loc[:, cols].groupby('ND').sum().sort_values(by= 'A_LIQUIDAR', ascending=False).reset_index()\n",
    "df_aux = df_aux[df_aux['A_LIQUIDAR'] > 0]\n",
    "# Criando o gráfico\n",
    "fig = go.Figure()\n",
    "\n",
    "# Adicionando as colunas y1, y2 e y3 no eixo y\n",
    "fig.add_trace(go.Bar(x=df_aux['ND'], y=df_aux['A_LIQUIDAR'], name='A Liquidar'))\n",
    "fig.add_trace(go.Bar(x=df_aux['ND'], y=df_aux['LIQUIDADO_A_PAGAR'], name='Liquidado a pagar'))\n",
    "fig.add_trace(go.Bar(x=df_aux['ND'], y=df_aux['PAGO'], name='Pago'))\n",
    "\n",
    "fig.update_traces(textposition = 'outside', cliponaxis = False, hovertemplate=None)\n",
    "fig.update_layout(hovermode=\"x unified\")\n",
    "fig.update_yaxes(type=\"log\")\n",
    "\n",
    "fig.show()"
   ]
  },
  {
   "cell_type": "code",
   "execution_count": 13,
   "metadata": {},
   "outputs": [
    {
     "data": {
      "text/html": [
       "<div>\n",
       "<style scoped>\n",
       "    .dataframe tbody tr th:only-of-type {\n",
       "        vertical-align: middle;\n",
       "    }\n",
       "\n",
       "    .dataframe tbody tr th {\n",
       "        vertical-align: top;\n",
       "    }\n",
       "\n",
       "    .dataframe thead th {\n",
       "        text-align: right;\n",
       "    }\n",
       "</style>\n",
       "<table border=\"1\" class=\"dataframe\">\n",
       "  <thead>\n",
       "    <tr style=\"text-align: right;\">\n",
       "      <th></th>\n",
       "      <th>UG</th>\n",
       "      <th>SIGLA UG</th>\n",
       "      <th>ACAO</th>\n",
       "      <th>NOME_ACAO</th>\n",
       "      <th>ANO</th>\n",
       "      <th>CREDOR</th>\n",
       "      <th>NOME_CREDOR</th>\n",
       "      <th>DATA</th>\n",
       "      <th>DIAS</th>\n",
       "      <th>ICFEX</th>\n",
       "      <th>NOME_ICFEX</th>\n",
       "      <th>ND</th>\n",
       "      <th>NOME_ND</th>\n",
       "      <th>NDSI</th>\n",
       "      <th>NOME_NDSI</th>\n",
       "      <th>NE</th>\n",
       "      <th>PI</th>\n",
       "      <th>NOME_PI</th>\n",
       "      <th>PROGRAMA</th>\n",
       "      <th>PTRES</th>\n",
       "      <th>TIPO</th>\n",
       "      <th>TIPO_NE</th>\n",
       "      <th>LOCAL</th>\n",
       "      <th>UF_CREDOR</th>\n",
       "      <th>UF_UG</th>\n",
       "      <th>UGR</th>\n",
       "      <th>NOME_UGR</th>\n",
       "      <th>RADPI4</th>\n",
       "      <th>MEIPI3</th>\n",
       "      <th>SUFPI4</th>\n",
       "      <th>A_LIQUIDAR</th>\n",
       "      <th>LIQUIDADO_A_PAGAR</th>\n",
       "      <th>TOTAL_A_PAGAR</th>\n",
       "      <th>PAGO</th>\n",
       "    </tr>\n",
       "  </thead>\n",
       "  <tbody>\n",
       "    <tr>\n",
       "      <th>469</th>\n",
       "      <td>160129</td>\n",
       "      <td>ESA</td>\n",
       "      <td>212O</td>\n",
       "      <td>MOVIMENTACAO DE MILITARES</td>\n",
       "      <td>2023</td>\n",
       "      <td>03849500000190</td>\n",
       "      <td>A. CENTRAL TRANSPORTES LTDA</td>\n",
       "      <td>2023-07-10</td>\n",
       "      <td>102</td>\n",
       "      <td>160533</td>\n",
       "      <td>4º CGCFEX</td>\n",
       "      <td>339033</td>\n",
       "      <td>PASSAGENS E DESPESAS COM LOCOMOCAO</td>\n",
       "      <td>33903304</td>\n",
       "      <td>MUDANCAS EM OBJETO DE SERVICO</td>\n",
       "      <td>2023NE000863</td>\n",
       "      <td>D6DAATSLOCO</td>\n",
       "      <td>ATS - ATIVIDADES SETORIAIS</td>\n",
       "      <td>6012</td>\n",
       "      <td>171389</td>\n",
       "      <td>ANO</td>\n",
       "      <td>ESTIMATIVO</td>\n",
       "      <td>ESCOLA DE SARGENTOS DAS ARMAS</td>\n",
       "      <td>PR</td>\n",
       "      <td>MG</td>\n",
       "      <td>160505</td>\n",
       "      <td>DGP</td>\n",
       "      <td>D6DA</td>\n",
       "      <td>ATS</td>\n",
       "      <td>LOCO</td>\n",
       "      <td>15000.00</td>\n",
       "      <td>0.0</td>\n",
       "      <td>15000.00</td>\n",
       "      <td>0.0</td>\n",
       "    </tr>\n",
       "    <tr>\n",
       "      <th>470</th>\n",
       "      <td>160129</td>\n",
       "      <td>ESA</td>\n",
       "      <td>212O</td>\n",
       "      <td>MOVIMENTACAO DE MILITARES</td>\n",
       "      <td>2023</td>\n",
       "      <td>03849500000190</td>\n",
       "      <td>A. CENTRAL TRANSPORTES LTDA</td>\n",
       "      <td>2023-07-24</td>\n",
       "      <td>88</td>\n",
       "      <td>160533</td>\n",
       "      <td>4º CGCFEX</td>\n",
       "      <td>339033</td>\n",
       "      <td>PASSAGENS E DESPESAS COM LOCOMOCAO</td>\n",
       "      <td>33903304</td>\n",
       "      <td>MUDANCAS EM OBJETO DE SERVICO</td>\n",
       "      <td>2023NE000888</td>\n",
       "      <td>D6DAATSLOCO</td>\n",
       "      <td>ATS - ATIVIDADES SETORIAIS</td>\n",
       "      <td>6012</td>\n",
       "      <td>171389</td>\n",
       "      <td>ANO</td>\n",
       "      <td>ESTIMATIVO</td>\n",
       "      <td>ESCOLA DE SARGENTOS DAS ARMAS</td>\n",
       "      <td>PR</td>\n",
       "      <td>MG</td>\n",
       "      <td>160505</td>\n",
       "      <td>DGP</td>\n",
       "      <td>D6DA</td>\n",
       "      <td>ATS</td>\n",
       "      <td>LOCO</td>\n",
       "      <td>22455.00</td>\n",
       "      <td>0.0</td>\n",
       "      <td>22455.00</td>\n",
       "      <td>0.0</td>\n",
       "    </tr>\n",
       "    <tr>\n",
       "      <th>471</th>\n",
       "      <td>160129</td>\n",
       "      <td>ESA</td>\n",
       "      <td>212O</td>\n",
       "      <td>MOVIMENTACAO DE MILITARES</td>\n",
       "      <td>2023</td>\n",
       "      <td>03849500000190</td>\n",
       "      <td>A. CENTRAL TRANSPORTES LTDA</td>\n",
       "      <td>2023-07-25</td>\n",
       "      <td>87</td>\n",
       "      <td>160533</td>\n",
       "      <td>4º CGCFEX</td>\n",
       "      <td>339033</td>\n",
       "      <td>PASSAGENS E DESPESAS COM LOCOMOCAO</td>\n",
       "      <td>33903304</td>\n",
       "      <td>MUDANCAS EM OBJETO DE SERVICO</td>\n",
       "      <td>2023NE000897</td>\n",
       "      <td>D6DAATSLOCO</td>\n",
       "      <td>ATS - ATIVIDADES SETORIAIS</td>\n",
       "      <td>6012</td>\n",
       "      <td>171389</td>\n",
       "      <td>ANO</td>\n",
       "      <td>ESTIMATIVO</td>\n",
       "      <td>ESCOLA DE SARGENTOS DAS ARMAS</td>\n",
       "      <td>PR</td>\n",
       "      <td>MG</td>\n",
       "      <td>160505</td>\n",
       "      <td>DGP</td>\n",
       "      <td>D6DA</td>\n",
       "      <td>ATS</td>\n",
       "      <td>LOCO</td>\n",
       "      <td>18600.00</td>\n",
       "      <td>0.0</td>\n",
       "      <td>18600.00</td>\n",
       "      <td>0.0</td>\n",
       "    </tr>\n",
       "    <tr>\n",
       "      <th>472</th>\n",
       "      <td>160129</td>\n",
       "      <td>ESA</td>\n",
       "      <td>212O</td>\n",
       "      <td>MOVIMENTACAO DE MILITARES</td>\n",
       "      <td>2023</td>\n",
       "      <td>03849500000190</td>\n",
       "      <td>A. CENTRAL TRANSPORTES LTDA</td>\n",
       "      <td>2023-07-25</td>\n",
       "      <td>87</td>\n",
       "      <td>160533</td>\n",
       "      <td>4º CGCFEX</td>\n",
       "      <td>339033</td>\n",
       "      <td>PASSAGENS E DESPESAS COM LOCOMOCAO</td>\n",
       "      <td>33903304</td>\n",
       "      <td>MUDANCAS EM OBJETO DE SERVICO</td>\n",
       "      <td>2023NE000898</td>\n",
       "      <td>D6DAATSLOCO</td>\n",
       "      <td>ATS - ATIVIDADES SETORIAIS</td>\n",
       "      <td>6012</td>\n",
       "      <td>171389</td>\n",
       "      <td>ANO</td>\n",
       "      <td>ESTIMATIVO</td>\n",
       "      <td>ESCOLA DE SARGENTOS DAS ARMAS</td>\n",
       "      <td>PR</td>\n",
       "      <td>MG</td>\n",
       "      <td>160505</td>\n",
       "      <td>DGP</td>\n",
       "      <td>D6DA</td>\n",
       "      <td>ATS</td>\n",
       "      <td>LOCO</td>\n",
       "      <td>9000.00</td>\n",
       "      <td>0.0</td>\n",
       "      <td>9000.00</td>\n",
       "      <td>0.0</td>\n",
       "    </tr>\n",
       "    <tr>\n",
       "      <th>473</th>\n",
       "      <td>160129</td>\n",
       "      <td>ESA</td>\n",
       "      <td>212O</td>\n",
       "      <td>MOVIMENTACAO DE MILITARES</td>\n",
       "      <td>2023</td>\n",
       "      <td>03849500000190</td>\n",
       "      <td>A. CENTRAL TRANSPORTES LTDA</td>\n",
       "      <td>2023-08-08</td>\n",
       "      <td>73</td>\n",
       "      <td>160533</td>\n",
       "      <td>4º CGCFEX</td>\n",
       "      <td>339033</td>\n",
       "      <td>PASSAGENS E DESPESAS COM LOCOMOCAO</td>\n",
       "      <td>33903304</td>\n",
       "      <td>MUDANCAS EM OBJETO DE SERVICO</td>\n",
       "      <td>2023NE000960</td>\n",
       "      <td>D6DAATSLOCO</td>\n",
       "      <td>ATS - ATIVIDADES SETORIAIS</td>\n",
       "      <td>6012</td>\n",
       "      <td>171389</td>\n",
       "      <td>ANO</td>\n",
       "      <td>ESTIMATIVO</td>\n",
       "      <td>ESCOLA DE SARGENTOS DAS ARMAS</td>\n",
       "      <td>PR</td>\n",
       "      <td>MG</td>\n",
       "      <td>160505</td>\n",
       "      <td>DGP</td>\n",
       "      <td>D6DA</td>\n",
       "      <td>ATS</td>\n",
       "      <td>LOCO</td>\n",
       "      <td>24950.00</td>\n",
       "      <td>0.0</td>\n",
       "      <td>24950.00</td>\n",
       "      <td>0.0</td>\n",
       "    </tr>\n",
       "    <tr>\n",
       "      <th>474</th>\n",
       "      <td>160129</td>\n",
       "      <td>ESA</td>\n",
       "      <td>212O</td>\n",
       "      <td>MOVIMENTACAO DE MILITARES</td>\n",
       "      <td>2023</td>\n",
       "      <td>03849500000190</td>\n",
       "      <td>A. CENTRAL TRANSPORTES LTDA</td>\n",
       "      <td>2023-08-11</td>\n",
       "      <td>70</td>\n",
       "      <td>160533</td>\n",
       "      <td>4º CGCFEX</td>\n",
       "      <td>339033</td>\n",
       "      <td>PASSAGENS E DESPESAS COM LOCOMOCAO</td>\n",
       "      <td>33903304</td>\n",
       "      <td>MUDANCAS EM OBJETO DE SERVICO</td>\n",
       "      <td>2023NE000989</td>\n",
       "      <td>D6DAATSLOCO</td>\n",
       "      <td>ATS - ATIVIDADES SETORIAIS</td>\n",
       "      <td>6012</td>\n",
       "      <td>171389</td>\n",
       "      <td>ANO</td>\n",
       "      <td>ESTIMATIVO</td>\n",
       "      <td>ESCOLA DE SARGENTOS DAS ARMAS</td>\n",
       "      <td>PR</td>\n",
       "      <td>MG</td>\n",
       "      <td>160505</td>\n",
       "      <td>DGP</td>\n",
       "      <td>D6DA</td>\n",
       "      <td>ATS</td>\n",
       "      <td>LOCO</td>\n",
       "      <td>10800.00</td>\n",
       "      <td>0.0</td>\n",
       "      <td>10800.00</td>\n",
       "      <td>0.0</td>\n",
       "    </tr>\n",
       "    <tr>\n",
       "      <th>475</th>\n",
       "      <td>160129</td>\n",
       "      <td>ESA</td>\n",
       "      <td>212O</td>\n",
       "      <td>MOVIMENTACAO DE MILITARES</td>\n",
       "      <td>2023</td>\n",
       "      <td>03849500000190</td>\n",
       "      <td>A. CENTRAL TRANSPORTES LTDA</td>\n",
       "      <td>2023-08-11</td>\n",
       "      <td>70</td>\n",
       "      <td>160533</td>\n",
       "      <td>4º CGCFEX</td>\n",
       "      <td>339033</td>\n",
       "      <td>PASSAGENS E DESPESAS COM LOCOMOCAO</td>\n",
       "      <td>33903304</td>\n",
       "      <td>MUDANCAS EM OBJETO DE SERVICO</td>\n",
       "      <td>2023NE000990</td>\n",
       "      <td>D6DAATSLOCO</td>\n",
       "      <td>ATS - ATIVIDADES SETORIAIS</td>\n",
       "      <td>6012</td>\n",
       "      <td>171389</td>\n",
       "      <td>ANO</td>\n",
       "      <td>ESTIMATIVO</td>\n",
       "      <td>ESCOLA DE SARGENTOS DAS ARMAS</td>\n",
       "      <td>PR</td>\n",
       "      <td>MG</td>\n",
       "      <td>160505</td>\n",
       "      <td>DGP</td>\n",
       "      <td>D6DA</td>\n",
       "      <td>ATS</td>\n",
       "      <td>LOCO</td>\n",
       "      <td>28443.00</td>\n",
       "      <td>0.0</td>\n",
       "      <td>28443.00</td>\n",
       "      <td>0.0</td>\n",
       "    </tr>\n",
       "    <tr>\n",
       "      <th>476</th>\n",
       "      <td>160129</td>\n",
       "      <td>ESA</td>\n",
       "      <td>212O</td>\n",
       "      <td>MOVIMENTACAO DE MILITARES</td>\n",
       "      <td>2023</td>\n",
       "      <td>03849500000190</td>\n",
       "      <td>A. CENTRAL TRANSPORTES LTDA</td>\n",
       "      <td>2023-08-16</td>\n",
       "      <td>65</td>\n",
       "      <td>160533</td>\n",
       "      <td>4º CGCFEX</td>\n",
       "      <td>339033</td>\n",
       "      <td>PASSAGENS E DESPESAS COM LOCOMOCAO</td>\n",
       "      <td>33903304</td>\n",
       "      <td>MUDANCAS EM OBJETO DE SERVICO</td>\n",
       "      <td>2023NE001018</td>\n",
       "      <td>D6DAATSLOCO</td>\n",
       "      <td>ATS - ATIVIDADES SETORIAIS</td>\n",
       "      <td>6012</td>\n",
       "      <td>171389</td>\n",
       "      <td>ANO</td>\n",
       "      <td>ESTIMATIVO</td>\n",
       "      <td>ESCOLA DE SARGENTOS DAS ARMAS</td>\n",
       "      <td>PR</td>\n",
       "      <td>MG</td>\n",
       "      <td>160505</td>\n",
       "      <td>DGP</td>\n",
       "      <td>D6DA</td>\n",
       "      <td>ATS</td>\n",
       "      <td>LOCO</td>\n",
       "      <td>9900.00</td>\n",
       "      <td>0.0</td>\n",
       "      <td>9900.00</td>\n",
       "      <td>0.0</td>\n",
       "    </tr>\n",
       "    <tr>\n",
       "      <th>477</th>\n",
       "      <td>160129</td>\n",
       "      <td>ESA</td>\n",
       "      <td>212O</td>\n",
       "      <td>MOVIMENTACAO DE MILITARES</td>\n",
       "      <td>2023</td>\n",
       "      <td>03849500000190</td>\n",
       "      <td>A. CENTRAL TRANSPORTES LTDA</td>\n",
       "      <td>2023-08-23</td>\n",
       "      <td>58</td>\n",
       "      <td>160533</td>\n",
       "      <td>4º CGCFEX</td>\n",
       "      <td>339033</td>\n",
       "      <td>PASSAGENS E DESPESAS COM LOCOMOCAO</td>\n",
       "      <td>33903304</td>\n",
       "      <td>MUDANCAS EM OBJETO DE SERVICO</td>\n",
       "      <td>2023NE001059</td>\n",
       "      <td>D6DAATSLOCO</td>\n",
       "      <td>ATS - ATIVIDADES SETORIAIS</td>\n",
       "      <td>6012</td>\n",
       "      <td>171389</td>\n",
       "      <td>ANO</td>\n",
       "      <td>ESTIMATIVO</td>\n",
       "      <td>ESCOLA DE SARGENTOS DAS ARMAS</td>\n",
       "      <td>PR</td>\n",
       "      <td>MG</td>\n",
       "      <td>160505</td>\n",
       "      <td>DGP</td>\n",
       "      <td>D6DA</td>\n",
       "      <td>ATS</td>\n",
       "      <td>LOCO</td>\n",
       "      <td>14400.00</td>\n",
       "      <td>0.0</td>\n",
       "      <td>14400.00</td>\n",
       "      <td>0.0</td>\n",
       "    </tr>\n",
       "    <tr>\n",
       "      <th>478</th>\n",
       "      <td>160129</td>\n",
       "      <td>ESA</td>\n",
       "      <td>212O</td>\n",
       "      <td>MOVIMENTACAO DE MILITARES</td>\n",
       "      <td>2023</td>\n",
       "      <td>03849500000190</td>\n",
       "      <td>A. CENTRAL TRANSPORTES LTDA</td>\n",
       "      <td>2023-08-29</td>\n",
       "      <td>52</td>\n",
       "      <td>160533</td>\n",
       "      <td>4º CGCFEX</td>\n",
       "      <td>339033</td>\n",
       "      <td>PASSAGENS E DESPESAS COM LOCOMOCAO</td>\n",
       "      <td>33903304</td>\n",
       "      <td>MUDANCAS EM OBJETO DE SERVICO</td>\n",
       "      <td>2023NE001079</td>\n",
       "      <td>D6DAATSLOCO</td>\n",
       "      <td>ATS - ATIVIDADES SETORIAIS</td>\n",
       "      <td>6012</td>\n",
       "      <td>171389</td>\n",
       "      <td>ANO</td>\n",
       "      <td>ESTIMATIVO</td>\n",
       "      <td>ESCOLA DE SARGENTOS DAS ARMAS</td>\n",
       "      <td>PR</td>\n",
       "      <td>MG</td>\n",
       "      <td>160505</td>\n",
       "      <td>DGP</td>\n",
       "      <td>D6DA</td>\n",
       "      <td>ATS</td>\n",
       "      <td>LOCO</td>\n",
       "      <td>11160.00</td>\n",
       "      <td>0.0</td>\n",
       "      <td>11160.00</td>\n",
       "      <td>0.0</td>\n",
       "    </tr>\n",
       "    <tr>\n",
       "      <th>479</th>\n",
       "      <td>160129</td>\n",
       "      <td>ESA</td>\n",
       "      <td>212O</td>\n",
       "      <td>MOVIMENTACAO DE MILITARES</td>\n",
       "      <td>2023</td>\n",
       "      <td>03849500000190</td>\n",
       "      <td>A. CENTRAL TRANSPORTES LTDA</td>\n",
       "      <td>2023-08-30</td>\n",
       "      <td>51</td>\n",
       "      <td>160533</td>\n",
       "      <td>4º CGCFEX</td>\n",
       "      <td>339033</td>\n",
       "      <td>PASSAGENS E DESPESAS COM LOCOMOCAO</td>\n",
       "      <td>33903304</td>\n",
       "      <td>MUDANCAS EM OBJETO DE SERVICO</td>\n",
       "      <td>2023NE001090</td>\n",
       "      <td>D6DAATSLOCO</td>\n",
       "      <td>ATS - ATIVIDADES SETORIAIS</td>\n",
       "      <td>6012</td>\n",
       "      <td>171389</td>\n",
       "      <td>ANO</td>\n",
       "      <td>ESTIMATIVO</td>\n",
       "      <td>ESA</td>\n",
       "      <td>PR</td>\n",
       "      <td>MG</td>\n",
       "      <td>160505</td>\n",
       "      <td>DGP</td>\n",
       "      <td>D6DA</td>\n",
       "      <td>ATS</td>\n",
       "      <td>LOCO</td>\n",
       "      <td>10260.00</td>\n",
       "      <td>0.0</td>\n",
       "      <td>10260.00</td>\n",
       "      <td>0.0</td>\n",
       "    </tr>\n",
       "    <tr>\n",
       "      <th>480</th>\n",
       "      <td>160129</td>\n",
       "      <td>ESA</td>\n",
       "      <td>212O</td>\n",
       "      <td>MOVIMENTACAO DE MILITARES</td>\n",
       "      <td>2023</td>\n",
       "      <td>03849500000190</td>\n",
       "      <td>A. CENTRAL TRANSPORTES LTDA</td>\n",
       "      <td>2023-08-30</td>\n",
       "      <td>51</td>\n",
       "      <td>160533</td>\n",
       "      <td>4º CGCFEX</td>\n",
       "      <td>339033</td>\n",
       "      <td>PASSAGENS E DESPESAS COM LOCOMOCAO</td>\n",
       "      <td>33903304</td>\n",
       "      <td>MUDANCAS EM OBJETO DE SERVICO</td>\n",
       "      <td>2023NE001091</td>\n",
       "      <td>D6DAATSLOCO</td>\n",
       "      <td>ATS - ATIVIDADES SETORIAIS</td>\n",
       "      <td>6012</td>\n",
       "      <td>171389</td>\n",
       "      <td>ANO</td>\n",
       "      <td>ESTIMATIVO</td>\n",
       "      <td>ESA</td>\n",
       "      <td>PR</td>\n",
       "      <td>MG</td>\n",
       "      <td>160505</td>\n",
       "      <td>DGP</td>\n",
       "      <td>D6DA</td>\n",
       "      <td>ATS</td>\n",
       "      <td>LOCO</td>\n",
       "      <td>9000.00</td>\n",
       "      <td>0.0</td>\n",
       "      <td>9000.00</td>\n",
       "      <td>0.0</td>\n",
       "    </tr>\n",
       "    <tr>\n",
       "      <th>481</th>\n",
       "      <td>160129</td>\n",
       "      <td>ESA</td>\n",
       "      <td>212O</td>\n",
       "      <td>MOVIMENTACAO DE MILITARES</td>\n",
       "      <td>2023</td>\n",
       "      <td>03849500000190</td>\n",
       "      <td>A. CENTRAL TRANSPORTES LTDA</td>\n",
       "      <td>2023-09-04</td>\n",
       "      <td>46</td>\n",
       "      <td>160533</td>\n",
       "      <td>4º CGCFEX</td>\n",
       "      <td>339033</td>\n",
       "      <td>PASSAGENS E DESPESAS COM LOCOMOCAO</td>\n",
       "      <td>33903304</td>\n",
       "      <td>MUDANCAS EM OBJETO DE SERVICO</td>\n",
       "      <td>2023NE001100</td>\n",
       "      <td>D6DAATSLOCO</td>\n",
       "      <td>ATS - ATIVIDADES SETORIAIS</td>\n",
       "      <td>6012</td>\n",
       "      <td>171389</td>\n",
       "      <td>ANO</td>\n",
       "      <td>ESTIMATIVO</td>\n",
       "      <td>ESCOLA DE SARGENTOS DAS ARMAS</td>\n",
       "      <td>PR</td>\n",
       "      <td>MG</td>\n",
       "      <td>160505</td>\n",
       "      <td>DGP</td>\n",
       "      <td>D6DA</td>\n",
       "      <td>ATS</td>\n",
       "      <td>LOCO</td>\n",
       "      <td>31000.00</td>\n",
       "      <td>0.0</td>\n",
       "      <td>31000.00</td>\n",
       "      <td>0.0</td>\n",
       "    </tr>\n",
       "    <tr>\n",
       "      <th>482</th>\n",
       "      <td>160129</td>\n",
       "      <td>ESA</td>\n",
       "      <td>212O</td>\n",
       "      <td>MOVIMENTACAO DE MILITARES</td>\n",
       "      <td>2023</td>\n",
       "      <td>03849500000190</td>\n",
       "      <td>A. CENTRAL TRANSPORTES LTDA</td>\n",
       "      <td>2023-09-04</td>\n",
       "      <td>46</td>\n",
       "      <td>160533</td>\n",
       "      <td>4º CGCFEX</td>\n",
       "      <td>339033</td>\n",
       "      <td>PASSAGENS E DESPESAS COM LOCOMOCAO</td>\n",
       "      <td>33903304</td>\n",
       "      <td>MUDANCAS EM OBJETO DE SERVICO</td>\n",
       "      <td>2023NE001102</td>\n",
       "      <td>D6DAATSLOCO</td>\n",
       "      <td>ATS - ATIVIDADES SETORIAIS</td>\n",
       "      <td>6012</td>\n",
       "      <td>171389</td>\n",
       "      <td>ANO</td>\n",
       "      <td>ESTIMATIVO</td>\n",
       "      <td>ESCOLA DE SARGENTOS DAS ARMAS</td>\n",
       "      <td>PR</td>\n",
       "      <td>MG</td>\n",
       "      <td>160505</td>\n",
       "      <td>DGP</td>\n",
       "      <td>D6DA</td>\n",
       "      <td>ATS</td>\n",
       "      <td>LOCO</td>\n",
       "      <td>15000.00</td>\n",
       "      <td>0.0</td>\n",
       "      <td>15000.00</td>\n",
       "      <td>0.0</td>\n",
       "    </tr>\n",
       "    <tr>\n",
       "      <th>483</th>\n",
       "      <td>160129</td>\n",
       "      <td>ESA</td>\n",
       "      <td>212O</td>\n",
       "      <td>MOVIMENTACAO DE MILITARES</td>\n",
       "      <td>2023</td>\n",
       "      <td>03849500000190</td>\n",
       "      <td>A. CENTRAL TRANSPORTES LTDA</td>\n",
       "      <td>2023-09-05</td>\n",
       "      <td>45</td>\n",
       "      <td>160533</td>\n",
       "      <td>4º CGCFEX</td>\n",
       "      <td>339033</td>\n",
       "      <td>PASSAGENS E DESPESAS COM LOCOMOCAO</td>\n",
       "      <td>33903304</td>\n",
       "      <td>MUDANCAS EM OBJETO DE SERVICO</td>\n",
       "      <td>2023NE001104</td>\n",
       "      <td>D6DAATSLOCO</td>\n",
       "      <td>ATS - ATIVIDADES SETORIAIS</td>\n",
       "      <td>6012</td>\n",
       "      <td>171389</td>\n",
       "      <td>ANO</td>\n",
       "      <td>ESTIMATIVO</td>\n",
       "      <td>ESCOLA DE SARGENTOS DAS ARMAS</td>\n",
       "      <td>PR</td>\n",
       "      <td>MG</td>\n",
       "      <td>160505</td>\n",
       "      <td>DGP</td>\n",
       "      <td>D6DA</td>\n",
       "      <td>ATS</td>\n",
       "      <td>LOCO</td>\n",
       "      <td>15900.00</td>\n",
       "      <td>0.0</td>\n",
       "      <td>15900.00</td>\n",
       "      <td>0.0</td>\n",
       "    </tr>\n",
       "    <tr>\n",
       "      <th>484</th>\n",
       "      <td>160129</td>\n",
       "      <td>ESA</td>\n",
       "      <td>212O</td>\n",
       "      <td>MOVIMENTACAO DE MILITARES</td>\n",
       "      <td>2023</td>\n",
       "      <td>03849500000190</td>\n",
       "      <td>A. CENTRAL TRANSPORTES LTDA</td>\n",
       "      <td>2023-09-12</td>\n",
       "      <td>38</td>\n",
       "      <td>160533</td>\n",
       "      <td>4º CGCFEX</td>\n",
       "      <td>339033</td>\n",
       "      <td>PASSAGENS E DESPESAS COM LOCOMOCAO</td>\n",
       "      <td>33903304</td>\n",
       "      <td>MUDANCAS EM OBJETO DE SERVICO</td>\n",
       "      <td>2023NE001133</td>\n",
       "      <td>D6DAATSLOCO</td>\n",
       "      <td>ATS - ATIVIDADES SETORIAIS</td>\n",
       "      <td>6012</td>\n",
       "      <td>171389</td>\n",
       "      <td>ANO</td>\n",
       "      <td>ESTIMATIVO</td>\n",
       "      <td>ESCOLA DE SARGENTOS DAS ARMAS</td>\n",
       "      <td>PR</td>\n",
       "      <td>MG</td>\n",
       "      <td>160505</td>\n",
       "      <td>DGP</td>\n",
       "      <td>D6DA</td>\n",
       "      <td>ATS</td>\n",
       "      <td>LOCO</td>\n",
       "      <td>31000.00</td>\n",
       "      <td>0.0</td>\n",
       "      <td>31000.00</td>\n",
       "      <td>0.0</td>\n",
       "    </tr>\n",
       "    <tr>\n",
       "      <th>485</th>\n",
       "      <td>160129</td>\n",
       "      <td>ESA</td>\n",
       "      <td>212O</td>\n",
       "      <td>MOVIMENTACAO DE MILITARES</td>\n",
       "      <td>2023</td>\n",
       "      <td>03849500000190</td>\n",
       "      <td>A. CENTRAL TRANSPORTES LTDA</td>\n",
       "      <td>2023-10-03</td>\n",
       "      <td>17</td>\n",
       "      <td>160533</td>\n",
       "      <td>4º CGCFEX</td>\n",
       "      <td>339033</td>\n",
       "      <td>PASSAGENS E DESPESAS COM LOCOMOCAO</td>\n",
       "      <td>33903304</td>\n",
       "      <td>MUDANCAS EM OBJETO DE SERVICO</td>\n",
       "      <td>2023NE001217</td>\n",
       "      <td>D6DAATSLOCO</td>\n",
       "      <td>ATS - ATIVIDADES SETORIAIS</td>\n",
       "      <td>6012</td>\n",
       "      <td>171389</td>\n",
       "      <td>ANO</td>\n",
       "      <td>ESTIMATIVO</td>\n",
       "      <td>ESCOLA DE SARGENTOS DAS ARMAS</td>\n",
       "      <td>PR</td>\n",
       "      <td>MG</td>\n",
       "      <td>160505</td>\n",
       "      <td>DGP</td>\n",
       "      <td>D6DA</td>\n",
       "      <td>ATS</td>\n",
       "      <td>LOCO</td>\n",
       "      <td>8100.00</td>\n",
       "      <td>0.0</td>\n",
       "      <td>8100.00</td>\n",
       "      <td>0.0</td>\n",
       "    </tr>\n",
       "    <tr>\n",
       "      <th>486</th>\n",
       "      <td>160129</td>\n",
       "      <td>ESA</td>\n",
       "      <td>212O</td>\n",
       "      <td>MOVIMENTACAO DE MILITARES</td>\n",
       "      <td>2023</td>\n",
       "      <td>03849500000190</td>\n",
       "      <td>A. CENTRAL TRANSPORTES LTDA</td>\n",
       "      <td>2023-10-03</td>\n",
       "      <td>17</td>\n",
       "      <td>160533</td>\n",
       "      <td>4º CGCFEX</td>\n",
       "      <td>339033</td>\n",
       "      <td>PASSAGENS E DESPESAS COM LOCOMOCAO</td>\n",
       "      <td>33903304</td>\n",
       "      <td>MUDANCAS EM OBJETO DE SERVICO</td>\n",
       "      <td>2023NE001218</td>\n",
       "      <td>D6DAATSLOCO</td>\n",
       "      <td>ATS - ATIVIDADES SETORIAIS</td>\n",
       "      <td>6012</td>\n",
       "      <td>171389</td>\n",
       "      <td>ANO</td>\n",
       "      <td>ESTIMATIVO</td>\n",
       "      <td>ESCOLA DE SARGENTOS DAS ARMAS</td>\n",
       "      <td>PR</td>\n",
       "      <td>MG</td>\n",
       "      <td>160505</td>\n",
       "      <td>DGP</td>\n",
       "      <td>D6DA</td>\n",
       "      <td>ATS</td>\n",
       "      <td>LOCO</td>\n",
       "      <td>15900.00</td>\n",
       "      <td>0.0</td>\n",
       "      <td>15900.00</td>\n",
       "      <td>0.0</td>\n",
       "    </tr>\n",
       "    <tr>\n",
       "      <th>487</th>\n",
       "      <td>160129</td>\n",
       "      <td>ESA</td>\n",
       "      <td>212O</td>\n",
       "      <td>MOVIMENTACAO DE MILITARES</td>\n",
       "      <td>2023</td>\n",
       "      <td>03849500000190</td>\n",
       "      <td>A. CENTRAL TRANSPORTES LTDA</td>\n",
       "      <td>2023-10-03</td>\n",
       "      <td>17</td>\n",
       "      <td>160533</td>\n",
       "      <td>4º CGCFEX</td>\n",
       "      <td>339033</td>\n",
       "      <td>PASSAGENS E DESPESAS COM LOCOMOCAO</td>\n",
       "      <td>33903304</td>\n",
       "      <td>MUDANCAS EM OBJETO DE SERVICO</td>\n",
       "      <td>2023NE001219</td>\n",
       "      <td>D6DAATSLOCO</td>\n",
       "      <td>ATS - ATIVIDADES SETORIAIS</td>\n",
       "      <td>6012</td>\n",
       "      <td>171389</td>\n",
       "      <td>ANO</td>\n",
       "      <td>ESTIMATIVO</td>\n",
       "      <td>ESCOLA DE SARGENTOS DAS ARMAS</td>\n",
       "      <td>PR</td>\n",
       "      <td>MG</td>\n",
       "      <td>160505</td>\n",
       "      <td>DGP</td>\n",
       "      <td>D6DA</td>\n",
       "      <td>ATS</td>\n",
       "      <td>LOCO</td>\n",
       "      <td>9900.00</td>\n",
       "      <td>0.0</td>\n",
       "      <td>9900.00</td>\n",
       "      <td>0.0</td>\n",
       "    </tr>\n",
       "    <tr>\n",
       "      <th>488</th>\n",
       "      <td>160129</td>\n",
       "      <td>ESA</td>\n",
       "      <td>212O</td>\n",
       "      <td>MOVIMENTACAO DE MILITARES</td>\n",
       "      <td>2023</td>\n",
       "      <td>03849500000190</td>\n",
       "      <td>A. CENTRAL TRANSPORTES LTDA</td>\n",
       "      <td>2023-10-03</td>\n",
       "      <td>17</td>\n",
       "      <td>160533</td>\n",
       "      <td>4º CGCFEX</td>\n",
       "      <td>339033</td>\n",
       "      <td>PASSAGENS E DESPESAS COM LOCOMOCAO</td>\n",
       "      <td>33903304</td>\n",
       "      <td>MUDANCAS EM OBJETO DE SERVICO</td>\n",
       "      <td>2023NE001220</td>\n",
       "      <td>D6DAATSLOCO</td>\n",
       "      <td>ATS - ATIVIDADES SETORIAIS</td>\n",
       "      <td>6012</td>\n",
       "      <td>171389</td>\n",
       "      <td>ANO</td>\n",
       "      <td>ESTIMATIVO</td>\n",
       "      <td>ESCOLA DE SARGENTOS DAS ARMAS</td>\n",
       "      <td>PR</td>\n",
       "      <td>MG</td>\n",
       "      <td>160505</td>\n",
       "      <td>DGP</td>\n",
       "      <td>D6DA</td>\n",
       "      <td>ATS</td>\n",
       "      <td>LOCO</td>\n",
       "      <td>9540.00</td>\n",
       "      <td>0.0</td>\n",
       "      <td>9540.00</td>\n",
       "      <td>0.0</td>\n",
       "    </tr>\n",
       "    <tr>\n",
       "      <th>489</th>\n",
       "      <td>160129</td>\n",
       "      <td>ESA</td>\n",
       "      <td>212O</td>\n",
       "      <td>MOVIMENTACAO DE MILITARES</td>\n",
       "      <td>2023</td>\n",
       "      <td>03849500000190</td>\n",
       "      <td>A. CENTRAL TRANSPORTES LTDA</td>\n",
       "      <td>2023-10-03</td>\n",
       "      <td>17</td>\n",
       "      <td>160533</td>\n",
       "      <td>4º CGCFEX</td>\n",
       "      <td>339033</td>\n",
       "      <td>PASSAGENS E DESPESAS COM LOCOMOCAO</td>\n",
       "      <td>33903304</td>\n",
       "      <td>MUDANCAS EM OBJETO DE SERVICO</td>\n",
       "      <td>2023NE001221</td>\n",
       "      <td>D6DAATSLOCO</td>\n",
       "      <td>ATS - ATIVIDADES SETORIAIS</td>\n",
       "      <td>6012</td>\n",
       "      <td>171389</td>\n",
       "      <td>ANO</td>\n",
       "      <td>ESTIMATIVO</td>\n",
       "      <td>ESCOLA DE SARGENTOS DAS ARMAS</td>\n",
       "      <td>PR</td>\n",
       "      <td>MG</td>\n",
       "      <td>160505</td>\n",
       "      <td>DGP</td>\n",
       "      <td>D6DA</td>\n",
       "      <td>ATS</td>\n",
       "      <td>LOCO</td>\n",
       "      <td>9900.00</td>\n",
       "      <td>0.0</td>\n",
       "      <td>9900.00</td>\n",
       "      <td>0.0</td>\n",
       "    </tr>\n",
       "    <tr>\n",
       "      <th>490</th>\n",
       "      <td>160129</td>\n",
       "      <td>ESA</td>\n",
       "      <td>212O</td>\n",
       "      <td>MOVIMENTACAO DE MILITARES</td>\n",
       "      <td>2023</td>\n",
       "      <td>03849500000190</td>\n",
       "      <td>A. CENTRAL TRANSPORTES LTDA</td>\n",
       "      <td>2023-10-04</td>\n",
       "      <td>16</td>\n",
       "      <td>160533</td>\n",
       "      <td>4º CGCFEX</td>\n",
       "      <td>339033</td>\n",
       "      <td>PASSAGENS E DESPESAS COM LOCOMOCAO</td>\n",
       "      <td>33903304</td>\n",
       "      <td>MUDANCAS EM OBJETO DE SERVICO</td>\n",
       "      <td>2023NE001228</td>\n",
       "      <td>D6DAATSLOCO</td>\n",
       "      <td>ATS - ATIVIDADES SETORIAIS</td>\n",
       "      <td>6012</td>\n",
       "      <td>171389</td>\n",
       "      <td>ANO</td>\n",
       "      <td>ESTIMATIVO</td>\n",
       "      <td>ESCOLA DE SARGENTOS DAS ARMAS</td>\n",
       "      <td>PR</td>\n",
       "      <td>MG</td>\n",
       "      <td>160505</td>\n",
       "      <td>DGP</td>\n",
       "      <td>D6DA</td>\n",
       "      <td>ATS</td>\n",
       "      <td>LOCO</td>\n",
       "      <td>32500.00</td>\n",
       "      <td>0.0</td>\n",
       "      <td>32500.00</td>\n",
       "      <td>0.0</td>\n",
       "    </tr>\n",
       "    <tr>\n",
       "      <th>491</th>\n",
       "      <td>160129</td>\n",
       "      <td>ESA</td>\n",
       "      <td>212O</td>\n",
       "      <td>MOVIMENTACAO DE MILITARES</td>\n",
       "      <td>2023</td>\n",
       "      <td>03849500000190</td>\n",
       "      <td>A. CENTRAL TRANSPORTES LTDA</td>\n",
       "      <td>2023-10-04</td>\n",
       "      <td>16</td>\n",
       "      <td>160533</td>\n",
       "      <td>4º CGCFEX</td>\n",
       "      <td>339033</td>\n",
       "      <td>PASSAGENS E DESPESAS COM LOCOMOCAO</td>\n",
       "      <td>33903304</td>\n",
       "      <td>MUDANCAS EM OBJETO DE SERVICO</td>\n",
       "      <td>2023NE001229</td>\n",
       "      <td>D6DAATSLOCO</td>\n",
       "      <td>ATS - ATIVIDADES SETORIAIS</td>\n",
       "      <td>6012</td>\n",
       "      <td>171389</td>\n",
       "      <td>ANO</td>\n",
       "      <td>ESTIMATIVO</td>\n",
       "      <td>ESCOLA DE SARGENTOS DAS ARMAS</td>\n",
       "      <td>PR</td>\n",
       "      <td>MG</td>\n",
       "      <td>160505</td>\n",
       "      <td>DGP</td>\n",
       "      <td>D6DA</td>\n",
       "      <td>ATS</td>\n",
       "      <td>LOCO</td>\n",
       "      <td>15000.00</td>\n",
       "      <td>0.0</td>\n",
       "      <td>15000.00</td>\n",
       "      <td>0.0</td>\n",
       "    </tr>\n",
       "    <tr>\n",
       "      <th>492</th>\n",
       "      <td>160129</td>\n",
       "      <td>ESA</td>\n",
       "      <td>212O</td>\n",
       "      <td>MOVIMENTACAO DE MILITARES</td>\n",
       "      <td>2023</td>\n",
       "      <td>03849500000190</td>\n",
       "      <td>A. CENTRAL TRANSPORTES LTDA</td>\n",
       "      <td>2023-10-04</td>\n",
       "      <td>16</td>\n",
       "      <td>160533</td>\n",
       "      <td>4º CGCFEX</td>\n",
       "      <td>339033</td>\n",
       "      <td>PASSAGENS E DESPESAS COM LOCOMOCAO</td>\n",
       "      <td>33903304</td>\n",
       "      <td>MUDANCAS EM OBJETO DE SERVICO</td>\n",
       "      <td>2023NE001230</td>\n",
       "      <td>D6DAATSLOCO</td>\n",
       "      <td>ATS - ATIVIDADES SETORIAIS</td>\n",
       "      <td>6012</td>\n",
       "      <td>171389</td>\n",
       "      <td>ANO</td>\n",
       "      <td>ESTIMATIVO</td>\n",
       "      <td>ESCOLA DE SARGENTOS DAS ARMAS</td>\n",
       "      <td>PR</td>\n",
       "      <td>MG</td>\n",
       "      <td>160505</td>\n",
       "      <td>DGP</td>\n",
       "      <td>D6DA</td>\n",
       "      <td>ATS</td>\n",
       "      <td>LOCO</td>\n",
       "      <td>17400.00</td>\n",
       "      <td>0.0</td>\n",
       "      <td>17400.00</td>\n",
       "      <td>0.0</td>\n",
       "    </tr>\n",
       "    <tr>\n",
       "      <th>493</th>\n",
       "      <td>160129</td>\n",
       "      <td>ESA</td>\n",
       "      <td>212O</td>\n",
       "      <td>MOVIMENTACAO DE MILITARES</td>\n",
       "      <td>2023</td>\n",
       "      <td>03849500000190</td>\n",
       "      <td>A. CENTRAL TRANSPORTES LTDA</td>\n",
       "      <td>2023-10-11</td>\n",
       "      <td>9</td>\n",
       "      <td>160533</td>\n",
       "      <td>4º CGCFEX</td>\n",
       "      <td>339033</td>\n",
       "      <td>PASSAGENS E DESPESAS COM LOCOMOCAO</td>\n",
       "      <td>33903304</td>\n",
       "      <td>MUDANCAS EM OBJETO DE SERVICO</td>\n",
       "      <td>2023NE001255</td>\n",
       "      <td>D6DAATSLOCO</td>\n",
       "      <td>ATS - ATIVIDADES SETORIAIS</td>\n",
       "      <td>6012</td>\n",
       "      <td>171389</td>\n",
       "      <td>ANO</td>\n",
       "      <td>ESTIMATIVO</td>\n",
       "      <td>ESCOLA DE SARGENTOS DAS ARMAS</td>\n",
       "      <td>PR</td>\n",
       "      <td>MG</td>\n",
       "      <td>160505</td>\n",
       "      <td>DGP</td>\n",
       "      <td>D6DA</td>\n",
       "      <td>ATS</td>\n",
       "      <td>LOCO</td>\n",
       "      <td>9000.00</td>\n",
       "      <td>0.0</td>\n",
       "      <td>9000.00</td>\n",
       "      <td>0.0</td>\n",
       "    </tr>\n",
       "    <tr>\n",
       "      <th>494</th>\n",
       "      <td>160129</td>\n",
       "      <td>ESA</td>\n",
       "      <td>212O</td>\n",
       "      <td>MOVIMENTACAO DE MILITARES</td>\n",
       "      <td>2023</td>\n",
       "      <td>03849500000190</td>\n",
       "      <td>A. CENTRAL TRANSPORTES LTDA</td>\n",
       "      <td>2023-10-16</td>\n",
       "      <td>4</td>\n",
       "      <td>160533</td>\n",
       "      <td>4º CGCFEX</td>\n",
       "      <td>339033</td>\n",
       "      <td>PASSAGENS E DESPESAS COM LOCOMOCAO</td>\n",
       "      <td>33903304</td>\n",
       "      <td>MUDANCAS EM OBJETO DE SERVICO</td>\n",
       "      <td>2023NE001256</td>\n",
       "      <td>D6DAATSLOCO</td>\n",
       "      <td>ATS - ATIVIDADES SETORIAIS</td>\n",
       "      <td>6012</td>\n",
       "      <td>171389</td>\n",
       "      <td>ANO</td>\n",
       "      <td>ESTIMATIVO</td>\n",
       "      <td>ESCOLA DE SARGENTOS DAS ARMAS</td>\n",
       "      <td>PR</td>\n",
       "      <td>MG</td>\n",
       "      <td>160505</td>\n",
       "      <td>DGP</td>\n",
       "      <td>D6DA</td>\n",
       "      <td>ATS</td>\n",
       "      <td>LOCO</td>\n",
       "      <td>6000.00</td>\n",
       "      <td>0.0</td>\n",
       "      <td>6000.00</td>\n",
       "      <td>0.0</td>\n",
       "    </tr>\n",
       "    <tr>\n",
       "      <th>495</th>\n",
       "      <td>160129</td>\n",
       "      <td>ESA</td>\n",
       "      <td>212O</td>\n",
       "      <td>MOVIMENTACAO DE MILITARES</td>\n",
       "      <td>2023</td>\n",
       "      <td>03849500000190</td>\n",
       "      <td>A. CENTRAL TRANSPORTES LTDA</td>\n",
       "      <td>2023-10-16</td>\n",
       "      <td>4</td>\n",
       "      <td>160533</td>\n",
       "      <td>4º CGCFEX</td>\n",
       "      <td>339033</td>\n",
       "      <td>PASSAGENS E DESPESAS COM LOCOMOCAO</td>\n",
       "      <td>33903304</td>\n",
       "      <td>MUDANCAS EM OBJETO DE SERVICO</td>\n",
       "      <td>2023NE001262</td>\n",
       "      <td>D6DAATSLOCO</td>\n",
       "      <td>ATS - ATIVIDADES SETORIAIS</td>\n",
       "      <td>6012</td>\n",
       "      <td>171389</td>\n",
       "      <td>ANO</td>\n",
       "      <td>ESTIMATIVO</td>\n",
       "      <td>ESCOLA DE SARGENTOS DAS ARMAS</td>\n",
       "      <td>PR</td>\n",
       "      <td>MG</td>\n",
       "      <td>160505</td>\n",
       "      <td>DGP</td>\n",
       "      <td>D6DA</td>\n",
       "      <td>ATS</td>\n",
       "      <td>LOCO</td>\n",
       "      <td>13500.00</td>\n",
       "      <td>0.0</td>\n",
       "      <td>13500.00</td>\n",
       "      <td>0.0</td>\n",
       "    </tr>\n",
       "    <tr>\n",
       "      <th>496</th>\n",
       "      <td>160129</td>\n",
       "      <td>ESA</td>\n",
       "      <td>212O</td>\n",
       "      <td>MOVIMENTACAO DE MILITARES</td>\n",
       "      <td>2023</td>\n",
       "      <td>03849500000190</td>\n",
       "      <td>A. CENTRAL TRANSPORTES LTDA</td>\n",
       "      <td>2023-10-16</td>\n",
       "      <td>4</td>\n",
       "      <td>160533</td>\n",
       "      <td>4º CGCFEX</td>\n",
       "      <td>339033</td>\n",
       "      <td>PASSAGENS E DESPESAS COM LOCOMOCAO</td>\n",
       "      <td>33903304</td>\n",
       "      <td>MUDANCAS EM OBJETO DE SERVICO</td>\n",
       "      <td>2023NE001263</td>\n",
       "      <td>D6DAATSLOCO</td>\n",
       "      <td>ATS - ATIVIDADES SETORIAIS</td>\n",
       "      <td>6012</td>\n",
       "      <td>171389</td>\n",
       "      <td>ANO</td>\n",
       "      <td>ESTIMATIVO</td>\n",
       "      <td>ESCOLA DE SARGENTOS DAS ARMAS</td>\n",
       "      <td>PR</td>\n",
       "      <td>MG</td>\n",
       "      <td>160505</td>\n",
       "      <td>DGP</td>\n",
       "      <td>D6DA</td>\n",
       "      <td>ATS</td>\n",
       "      <td>LOCO</td>\n",
       "      <td>15900.00</td>\n",
       "      <td>0.0</td>\n",
       "      <td>15900.00</td>\n",
       "      <td>0.0</td>\n",
       "    </tr>\n",
       "    <tr>\n",
       "      <th>497</th>\n",
       "      <td>160129</td>\n",
       "      <td>ESA</td>\n",
       "      <td>212O</td>\n",
       "      <td>MOVIMENTACAO DE MILITARES</td>\n",
       "      <td>2023</td>\n",
       "      <td>03849500000190</td>\n",
       "      <td>A. CENTRAL TRANSPORTES LTDA</td>\n",
       "      <td>2023-10-16</td>\n",
       "      <td>4</td>\n",
       "      <td>160533</td>\n",
       "      <td>4º CGCFEX</td>\n",
       "      <td>339033</td>\n",
       "      <td>PASSAGENS E DESPESAS COM LOCOMOCAO</td>\n",
       "      <td>33903304</td>\n",
       "      <td>MUDANCAS EM OBJETO DE SERVICO</td>\n",
       "      <td>2023NE001264</td>\n",
       "      <td>D6DAATSLOCO</td>\n",
       "      <td>ATS - ATIVIDADES SETORIAIS</td>\n",
       "      <td>6012</td>\n",
       "      <td>171389</td>\n",
       "      <td>ANO</td>\n",
       "      <td>ESTIMATIVO</td>\n",
       "      <td>ESCOLA DE SARGENTOS DAS ARMAS</td>\n",
       "      <td>PR</td>\n",
       "      <td>MG</td>\n",
       "      <td>160505</td>\n",
       "      <td>DGP</td>\n",
       "      <td>D6DA</td>\n",
       "      <td>ATS</td>\n",
       "      <td>LOCO</td>\n",
       "      <td>1500.00</td>\n",
       "      <td>0.0</td>\n",
       "      <td>1500.00</td>\n",
       "      <td>0.0</td>\n",
       "    </tr>\n",
       "    <tr>\n",
       "      <th>588</th>\n",
       "      <td>160129</td>\n",
       "      <td>ESA</td>\n",
       "      <td>212O</td>\n",
       "      <td>MOVIMENTACAO DE MILITARES</td>\n",
       "      <td>2023</td>\n",
       "      <td>07027329743</td>\n",
       "      <td>ANDRE LUIZ DO NASCIMENTO CABRAL</td>\n",
       "      <td>2023-08-18</td>\n",
       "      <td>63</td>\n",
       "      <td>160533</td>\n",
       "      <td>4º CGCFEX</td>\n",
       "      <td>339093</td>\n",
       "      <td>INDENIZACOES E RESTITUICOES</td>\n",
       "      <td>33909318</td>\n",
       "      <td>AJUDA DE CUSTO - PESSOAL MILITAR</td>\n",
       "      <td>2023NE001025</td>\n",
       "      <td>D6PEINDMV1A</td>\n",
       "      <td>IND-INDENIZACOES</td>\n",
       "      <td>6012</td>\n",
       "      <td>171389</td>\n",
       "      <td>ANO</td>\n",
       "      <td>ORDINARIO</td>\n",
       "      <td>0</td>\n",
       "      <td>SC</td>\n",
       "      <td>MG</td>\n",
       "      <td>160505</td>\n",
       "      <td>DGP</td>\n",
       "      <td>D6PE</td>\n",
       "      <td>IND</td>\n",
       "      <td>MV1A</td>\n",
       "      <td>1575.00</td>\n",
       "      <td>0.0</td>\n",
       "      <td>1575.00</td>\n",
       "      <td>787.5</td>\n",
       "    </tr>\n",
       "    <tr>\n",
       "      <th>810</th>\n",
       "      <td>160129</td>\n",
       "      <td>ESA</td>\n",
       "      <td>212O</td>\n",
       "      <td>MOVIMENTACAO DE MILITARES</td>\n",
       "      <td>2023</td>\n",
       "      <td>160129</td>\n",
       "      <td>NaN</td>\n",
       "      <td>2023-09-06</td>\n",
       "      <td>44</td>\n",
       "      <td>160533</td>\n",
       "      <td>4º CGCFEX</td>\n",
       "      <td>339093</td>\n",
       "      <td>INDENIZACOES E RESTITUICOES</td>\n",
       "      <td>33909301</td>\n",
       "      <td>INDENIZACOES</td>\n",
       "      <td>2023NE001123</td>\n",
       "      <td>D1PEINDCO4T</td>\n",
       "      <td>IND - INDENIZACOES</td>\n",
       "      <td>6012</td>\n",
       "      <td>171389</td>\n",
       "      <td>ANO</td>\n",
       "      <td>ESTIMATIVO</td>\n",
       "      <td>0</td>\n",
       "      <td>NaN</td>\n",
       "      <td>MG</td>\n",
       "      <td>160129</td>\n",
       "      <td>ESA</td>\n",
       "      <td>D1PE</td>\n",
       "      <td>IND</td>\n",
       "      <td>CO4T</td>\n",
       "      <td>2670.94</td>\n",
       "      <td>0.0</td>\n",
       "      <td>2670.94</td>\n",
       "      <td>0.0</td>\n",
       "    </tr>\n",
       "    <tr>\n",
       "      <th>819</th>\n",
       "      <td>160129</td>\n",
       "      <td>ESA</td>\n",
       "      <td>212O</td>\n",
       "      <td>MOVIMENTACAO DE MILITARES</td>\n",
       "      <td>2023</td>\n",
       "      <td>16488471708</td>\n",
       "      <td>LEANDRO GABRIEL RIBEIRO FERREIRA DA SILVA</td>\n",
       "      <td>2023-03-21</td>\n",
       "      <td>213</td>\n",
       "      <td>160533</td>\n",
       "      <td>4º CGCFEX</td>\n",
       "      <td>339093</td>\n",
       "      <td>INDENIZACOES E RESTITUICOES</td>\n",
       "      <td>33909318</td>\n",
       "      <td>AJUDA DE CUSTO - PESSOAL MILITAR</td>\n",
       "      <td>2023NE000252</td>\n",
       "      <td>D6PEINDMV1A</td>\n",
       "      <td>IND-INDENIZACOES</td>\n",
       "      <td>6012</td>\n",
       "      <td>171389</td>\n",
       "      <td>ANO</td>\n",
       "      <td>ORDINARIO</td>\n",
       "      <td>0</td>\n",
       "      <td>MG</td>\n",
       "      <td>MG</td>\n",
       "      <td>160505</td>\n",
       "      <td>DGP</td>\n",
       "      <td>D6PE</td>\n",
       "      <td>IND</td>\n",
       "      <td>MV1A</td>\n",
       "      <td>26.64</td>\n",
       "      <td>0.0</td>\n",
       "      <td>26.64</td>\n",
       "      <td>1828.7</td>\n",
       "    </tr>\n",
       "  </tbody>\n",
       "</table>\n",
       "</div>"
      ],
      "text/plain": [
       "         UG SIGLA UG  ACAO                  NOME_ACAO   ANO          CREDOR  \\\n",
       "469  160129      ESA  212O  MOVIMENTACAO DE MILITARES  2023  03849500000190   \n",
       "470  160129      ESA  212O  MOVIMENTACAO DE MILITARES  2023  03849500000190   \n",
       "471  160129      ESA  212O  MOVIMENTACAO DE MILITARES  2023  03849500000190   \n",
       "472  160129      ESA  212O  MOVIMENTACAO DE MILITARES  2023  03849500000190   \n",
       "473  160129      ESA  212O  MOVIMENTACAO DE MILITARES  2023  03849500000190   \n",
       "474  160129      ESA  212O  MOVIMENTACAO DE MILITARES  2023  03849500000190   \n",
       "475  160129      ESA  212O  MOVIMENTACAO DE MILITARES  2023  03849500000190   \n",
       "476  160129      ESA  212O  MOVIMENTACAO DE MILITARES  2023  03849500000190   \n",
       "477  160129      ESA  212O  MOVIMENTACAO DE MILITARES  2023  03849500000190   \n",
       "478  160129      ESA  212O  MOVIMENTACAO DE MILITARES  2023  03849500000190   \n",
       "479  160129      ESA  212O  MOVIMENTACAO DE MILITARES  2023  03849500000190   \n",
       "480  160129      ESA  212O  MOVIMENTACAO DE MILITARES  2023  03849500000190   \n",
       "481  160129      ESA  212O  MOVIMENTACAO DE MILITARES  2023  03849500000190   \n",
       "482  160129      ESA  212O  MOVIMENTACAO DE MILITARES  2023  03849500000190   \n",
       "483  160129      ESA  212O  MOVIMENTACAO DE MILITARES  2023  03849500000190   \n",
       "484  160129      ESA  212O  MOVIMENTACAO DE MILITARES  2023  03849500000190   \n",
       "485  160129      ESA  212O  MOVIMENTACAO DE MILITARES  2023  03849500000190   \n",
       "486  160129      ESA  212O  MOVIMENTACAO DE MILITARES  2023  03849500000190   \n",
       "487  160129      ESA  212O  MOVIMENTACAO DE MILITARES  2023  03849500000190   \n",
       "488  160129      ESA  212O  MOVIMENTACAO DE MILITARES  2023  03849500000190   \n",
       "489  160129      ESA  212O  MOVIMENTACAO DE MILITARES  2023  03849500000190   \n",
       "490  160129      ESA  212O  MOVIMENTACAO DE MILITARES  2023  03849500000190   \n",
       "491  160129      ESA  212O  MOVIMENTACAO DE MILITARES  2023  03849500000190   \n",
       "492  160129      ESA  212O  MOVIMENTACAO DE MILITARES  2023  03849500000190   \n",
       "493  160129      ESA  212O  MOVIMENTACAO DE MILITARES  2023  03849500000190   \n",
       "494  160129      ESA  212O  MOVIMENTACAO DE MILITARES  2023  03849500000190   \n",
       "495  160129      ESA  212O  MOVIMENTACAO DE MILITARES  2023  03849500000190   \n",
       "496  160129      ESA  212O  MOVIMENTACAO DE MILITARES  2023  03849500000190   \n",
       "497  160129      ESA  212O  MOVIMENTACAO DE MILITARES  2023  03849500000190   \n",
       "588  160129      ESA  212O  MOVIMENTACAO DE MILITARES  2023     07027329743   \n",
       "810  160129      ESA  212O  MOVIMENTACAO DE MILITARES  2023          160129   \n",
       "819  160129      ESA  212O  MOVIMENTACAO DE MILITARES  2023     16488471708   \n",
       "\n",
       "                                   NOME_CREDOR       DATA  DIAS   ICFEX  \\\n",
       "469                A. CENTRAL TRANSPORTES LTDA 2023-07-10   102  160533   \n",
       "470                A. CENTRAL TRANSPORTES LTDA 2023-07-24    88  160533   \n",
       "471                A. CENTRAL TRANSPORTES LTDA 2023-07-25    87  160533   \n",
       "472                A. CENTRAL TRANSPORTES LTDA 2023-07-25    87  160533   \n",
       "473                A. CENTRAL TRANSPORTES LTDA 2023-08-08    73  160533   \n",
       "474                A. CENTRAL TRANSPORTES LTDA 2023-08-11    70  160533   \n",
       "475                A. CENTRAL TRANSPORTES LTDA 2023-08-11    70  160533   \n",
       "476                A. CENTRAL TRANSPORTES LTDA 2023-08-16    65  160533   \n",
       "477                A. CENTRAL TRANSPORTES LTDA 2023-08-23    58  160533   \n",
       "478                A. CENTRAL TRANSPORTES LTDA 2023-08-29    52  160533   \n",
       "479                A. CENTRAL TRANSPORTES LTDA 2023-08-30    51  160533   \n",
       "480                A. CENTRAL TRANSPORTES LTDA 2023-08-30    51  160533   \n",
       "481                A. CENTRAL TRANSPORTES LTDA 2023-09-04    46  160533   \n",
       "482                A. CENTRAL TRANSPORTES LTDA 2023-09-04    46  160533   \n",
       "483                A. CENTRAL TRANSPORTES LTDA 2023-09-05    45  160533   \n",
       "484                A. CENTRAL TRANSPORTES LTDA 2023-09-12    38  160533   \n",
       "485                A. CENTRAL TRANSPORTES LTDA 2023-10-03    17  160533   \n",
       "486                A. CENTRAL TRANSPORTES LTDA 2023-10-03    17  160533   \n",
       "487                A. CENTRAL TRANSPORTES LTDA 2023-10-03    17  160533   \n",
       "488                A. CENTRAL TRANSPORTES LTDA 2023-10-03    17  160533   \n",
       "489                A. CENTRAL TRANSPORTES LTDA 2023-10-03    17  160533   \n",
       "490                A. CENTRAL TRANSPORTES LTDA 2023-10-04    16  160533   \n",
       "491                A. CENTRAL TRANSPORTES LTDA 2023-10-04    16  160533   \n",
       "492                A. CENTRAL TRANSPORTES LTDA 2023-10-04    16  160533   \n",
       "493                A. CENTRAL TRANSPORTES LTDA 2023-10-11     9  160533   \n",
       "494                A. CENTRAL TRANSPORTES LTDA 2023-10-16     4  160533   \n",
       "495                A. CENTRAL TRANSPORTES LTDA 2023-10-16     4  160533   \n",
       "496                A. CENTRAL TRANSPORTES LTDA 2023-10-16     4  160533   \n",
       "497                A. CENTRAL TRANSPORTES LTDA 2023-10-16     4  160533   \n",
       "588            ANDRE LUIZ DO NASCIMENTO CABRAL 2023-08-18    63  160533   \n",
       "810                                        NaN 2023-09-06    44  160533   \n",
       "819  LEANDRO GABRIEL RIBEIRO FERREIRA DA SILVA 2023-03-21   213  160533   \n",
       "\n",
       "    NOME_ICFEX      ND                             NOME_ND      NDSI  \\\n",
       "469  4º CGCFEX  339033  PASSAGENS E DESPESAS COM LOCOMOCAO  33903304   \n",
       "470  4º CGCFEX  339033  PASSAGENS E DESPESAS COM LOCOMOCAO  33903304   \n",
       "471  4º CGCFEX  339033  PASSAGENS E DESPESAS COM LOCOMOCAO  33903304   \n",
       "472  4º CGCFEX  339033  PASSAGENS E DESPESAS COM LOCOMOCAO  33903304   \n",
       "473  4º CGCFEX  339033  PASSAGENS E DESPESAS COM LOCOMOCAO  33903304   \n",
       "474  4º CGCFEX  339033  PASSAGENS E DESPESAS COM LOCOMOCAO  33903304   \n",
       "475  4º CGCFEX  339033  PASSAGENS E DESPESAS COM LOCOMOCAO  33903304   \n",
       "476  4º CGCFEX  339033  PASSAGENS E DESPESAS COM LOCOMOCAO  33903304   \n",
       "477  4º CGCFEX  339033  PASSAGENS E DESPESAS COM LOCOMOCAO  33903304   \n",
       "478  4º CGCFEX  339033  PASSAGENS E DESPESAS COM LOCOMOCAO  33903304   \n",
       "479  4º CGCFEX  339033  PASSAGENS E DESPESAS COM LOCOMOCAO  33903304   \n",
       "480  4º CGCFEX  339033  PASSAGENS E DESPESAS COM LOCOMOCAO  33903304   \n",
       "481  4º CGCFEX  339033  PASSAGENS E DESPESAS COM LOCOMOCAO  33903304   \n",
       "482  4º CGCFEX  339033  PASSAGENS E DESPESAS COM LOCOMOCAO  33903304   \n",
       "483  4º CGCFEX  339033  PASSAGENS E DESPESAS COM LOCOMOCAO  33903304   \n",
       "484  4º CGCFEX  339033  PASSAGENS E DESPESAS COM LOCOMOCAO  33903304   \n",
       "485  4º CGCFEX  339033  PASSAGENS E DESPESAS COM LOCOMOCAO  33903304   \n",
       "486  4º CGCFEX  339033  PASSAGENS E DESPESAS COM LOCOMOCAO  33903304   \n",
       "487  4º CGCFEX  339033  PASSAGENS E DESPESAS COM LOCOMOCAO  33903304   \n",
       "488  4º CGCFEX  339033  PASSAGENS E DESPESAS COM LOCOMOCAO  33903304   \n",
       "489  4º CGCFEX  339033  PASSAGENS E DESPESAS COM LOCOMOCAO  33903304   \n",
       "490  4º CGCFEX  339033  PASSAGENS E DESPESAS COM LOCOMOCAO  33903304   \n",
       "491  4º CGCFEX  339033  PASSAGENS E DESPESAS COM LOCOMOCAO  33903304   \n",
       "492  4º CGCFEX  339033  PASSAGENS E DESPESAS COM LOCOMOCAO  33903304   \n",
       "493  4º CGCFEX  339033  PASSAGENS E DESPESAS COM LOCOMOCAO  33903304   \n",
       "494  4º CGCFEX  339033  PASSAGENS E DESPESAS COM LOCOMOCAO  33903304   \n",
       "495  4º CGCFEX  339033  PASSAGENS E DESPESAS COM LOCOMOCAO  33903304   \n",
       "496  4º CGCFEX  339033  PASSAGENS E DESPESAS COM LOCOMOCAO  33903304   \n",
       "497  4º CGCFEX  339033  PASSAGENS E DESPESAS COM LOCOMOCAO  33903304   \n",
       "588  4º CGCFEX  339093         INDENIZACOES E RESTITUICOES  33909318   \n",
       "810  4º CGCFEX  339093         INDENIZACOES E RESTITUICOES  33909301   \n",
       "819  4º CGCFEX  339093         INDENIZACOES E RESTITUICOES  33909318   \n",
       "\n",
       "                            NOME_NDSI            NE           PI  \\\n",
       "469     MUDANCAS EM OBJETO DE SERVICO  2023NE000863  D6DAATSLOCO   \n",
       "470     MUDANCAS EM OBJETO DE SERVICO  2023NE000888  D6DAATSLOCO   \n",
       "471     MUDANCAS EM OBJETO DE SERVICO  2023NE000897  D6DAATSLOCO   \n",
       "472     MUDANCAS EM OBJETO DE SERVICO  2023NE000898  D6DAATSLOCO   \n",
       "473     MUDANCAS EM OBJETO DE SERVICO  2023NE000960  D6DAATSLOCO   \n",
       "474     MUDANCAS EM OBJETO DE SERVICO  2023NE000989  D6DAATSLOCO   \n",
       "475     MUDANCAS EM OBJETO DE SERVICO  2023NE000990  D6DAATSLOCO   \n",
       "476     MUDANCAS EM OBJETO DE SERVICO  2023NE001018  D6DAATSLOCO   \n",
       "477     MUDANCAS EM OBJETO DE SERVICO  2023NE001059  D6DAATSLOCO   \n",
       "478     MUDANCAS EM OBJETO DE SERVICO  2023NE001079  D6DAATSLOCO   \n",
       "479     MUDANCAS EM OBJETO DE SERVICO  2023NE001090  D6DAATSLOCO   \n",
       "480     MUDANCAS EM OBJETO DE SERVICO  2023NE001091  D6DAATSLOCO   \n",
       "481     MUDANCAS EM OBJETO DE SERVICO  2023NE001100  D6DAATSLOCO   \n",
       "482     MUDANCAS EM OBJETO DE SERVICO  2023NE001102  D6DAATSLOCO   \n",
       "483     MUDANCAS EM OBJETO DE SERVICO  2023NE001104  D6DAATSLOCO   \n",
       "484     MUDANCAS EM OBJETO DE SERVICO  2023NE001133  D6DAATSLOCO   \n",
       "485     MUDANCAS EM OBJETO DE SERVICO  2023NE001217  D6DAATSLOCO   \n",
       "486     MUDANCAS EM OBJETO DE SERVICO  2023NE001218  D6DAATSLOCO   \n",
       "487     MUDANCAS EM OBJETO DE SERVICO  2023NE001219  D6DAATSLOCO   \n",
       "488     MUDANCAS EM OBJETO DE SERVICO  2023NE001220  D6DAATSLOCO   \n",
       "489     MUDANCAS EM OBJETO DE SERVICO  2023NE001221  D6DAATSLOCO   \n",
       "490     MUDANCAS EM OBJETO DE SERVICO  2023NE001228  D6DAATSLOCO   \n",
       "491     MUDANCAS EM OBJETO DE SERVICO  2023NE001229  D6DAATSLOCO   \n",
       "492     MUDANCAS EM OBJETO DE SERVICO  2023NE001230  D6DAATSLOCO   \n",
       "493     MUDANCAS EM OBJETO DE SERVICO  2023NE001255  D6DAATSLOCO   \n",
       "494     MUDANCAS EM OBJETO DE SERVICO  2023NE001256  D6DAATSLOCO   \n",
       "495     MUDANCAS EM OBJETO DE SERVICO  2023NE001262  D6DAATSLOCO   \n",
       "496     MUDANCAS EM OBJETO DE SERVICO  2023NE001263  D6DAATSLOCO   \n",
       "497     MUDANCAS EM OBJETO DE SERVICO  2023NE001264  D6DAATSLOCO   \n",
       "588  AJUDA DE CUSTO - PESSOAL MILITAR  2023NE001025  D6PEINDMV1A   \n",
       "810                      INDENIZACOES  2023NE001123  D1PEINDCO4T   \n",
       "819  AJUDA DE CUSTO - PESSOAL MILITAR  2023NE000252  D6PEINDMV1A   \n",
       "\n",
       "                        NOME_PI PROGRAMA   PTRES TIPO     TIPO_NE  \\\n",
       "469  ATS - ATIVIDADES SETORIAIS     6012  171389  ANO  ESTIMATIVO   \n",
       "470  ATS - ATIVIDADES SETORIAIS     6012  171389  ANO  ESTIMATIVO   \n",
       "471  ATS - ATIVIDADES SETORIAIS     6012  171389  ANO  ESTIMATIVO   \n",
       "472  ATS - ATIVIDADES SETORIAIS     6012  171389  ANO  ESTIMATIVO   \n",
       "473  ATS - ATIVIDADES SETORIAIS     6012  171389  ANO  ESTIMATIVO   \n",
       "474  ATS - ATIVIDADES SETORIAIS     6012  171389  ANO  ESTIMATIVO   \n",
       "475  ATS - ATIVIDADES SETORIAIS     6012  171389  ANO  ESTIMATIVO   \n",
       "476  ATS - ATIVIDADES SETORIAIS     6012  171389  ANO  ESTIMATIVO   \n",
       "477  ATS - ATIVIDADES SETORIAIS     6012  171389  ANO  ESTIMATIVO   \n",
       "478  ATS - ATIVIDADES SETORIAIS     6012  171389  ANO  ESTIMATIVO   \n",
       "479  ATS - ATIVIDADES SETORIAIS     6012  171389  ANO  ESTIMATIVO   \n",
       "480  ATS - ATIVIDADES SETORIAIS     6012  171389  ANO  ESTIMATIVO   \n",
       "481  ATS - ATIVIDADES SETORIAIS     6012  171389  ANO  ESTIMATIVO   \n",
       "482  ATS - ATIVIDADES SETORIAIS     6012  171389  ANO  ESTIMATIVO   \n",
       "483  ATS - ATIVIDADES SETORIAIS     6012  171389  ANO  ESTIMATIVO   \n",
       "484  ATS - ATIVIDADES SETORIAIS     6012  171389  ANO  ESTIMATIVO   \n",
       "485  ATS - ATIVIDADES SETORIAIS     6012  171389  ANO  ESTIMATIVO   \n",
       "486  ATS - ATIVIDADES SETORIAIS     6012  171389  ANO  ESTIMATIVO   \n",
       "487  ATS - ATIVIDADES SETORIAIS     6012  171389  ANO  ESTIMATIVO   \n",
       "488  ATS - ATIVIDADES SETORIAIS     6012  171389  ANO  ESTIMATIVO   \n",
       "489  ATS - ATIVIDADES SETORIAIS     6012  171389  ANO  ESTIMATIVO   \n",
       "490  ATS - ATIVIDADES SETORIAIS     6012  171389  ANO  ESTIMATIVO   \n",
       "491  ATS - ATIVIDADES SETORIAIS     6012  171389  ANO  ESTIMATIVO   \n",
       "492  ATS - ATIVIDADES SETORIAIS     6012  171389  ANO  ESTIMATIVO   \n",
       "493  ATS - ATIVIDADES SETORIAIS     6012  171389  ANO  ESTIMATIVO   \n",
       "494  ATS - ATIVIDADES SETORIAIS     6012  171389  ANO  ESTIMATIVO   \n",
       "495  ATS - ATIVIDADES SETORIAIS     6012  171389  ANO  ESTIMATIVO   \n",
       "496  ATS - ATIVIDADES SETORIAIS     6012  171389  ANO  ESTIMATIVO   \n",
       "497  ATS - ATIVIDADES SETORIAIS     6012  171389  ANO  ESTIMATIVO   \n",
       "588            IND-INDENIZACOES     6012  171389  ANO   ORDINARIO   \n",
       "810          IND - INDENIZACOES     6012  171389  ANO  ESTIMATIVO   \n",
       "819            IND-INDENIZACOES     6012  171389  ANO   ORDINARIO   \n",
       "\n",
       "                             LOCAL UF_CREDOR UF_UG     UGR NOME_UGR RADPI4  \\\n",
       "469  ESCOLA DE SARGENTOS DAS ARMAS        PR    MG  160505      DGP   D6DA   \n",
       "470  ESCOLA DE SARGENTOS DAS ARMAS        PR    MG  160505      DGP   D6DA   \n",
       "471  ESCOLA DE SARGENTOS DAS ARMAS        PR    MG  160505      DGP   D6DA   \n",
       "472  ESCOLA DE SARGENTOS DAS ARMAS        PR    MG  160505      DGP   D6DA   \n",
       "473  ESCOLA DE SARGENTOS DAS ARMAS        PR    MG  160505      DGP   D6DA   \n",
       "474  ESCOLA DE SARGENTOS DAS ARMAS        PR    MG  160505      DGP   D6DA   \n",
       "475  ESCOLA DE SARGENTOS DAS ARMAS        PR    MG  160505      DGP   D6DA   \n",
       "476  ESCOLA DE SARGENTOS DAS ARMAS        PR    MG  160505      DGP   D6DA   \n",
       "477  ESCOLA DE SARGENTOS DAS ARMAS        PR    MG  160505      DGP   D6DA   \n",
       "478  ESCOLA DE SARGENTOS DAS ARMAS        PR    MG  160505      DGP   D6DA   \n",
       "479                            ESA        PR    MG  160505      DGP   D6DA   \n",
       "480                            ESA        PR    MG  160505      DGP   D6DA   \n",
       "481  ESCOLA DE SARGENTOS DAS ARMAS        PR    MG  160505      DGP   D6DA   \n",
       "482  ESCOLA DE SARGENTOS DAS ARMAS        PR    MG  160505      DGP   D6DA   \n",
       "483  ESCOLA DE SARGENTOS DAS ARMAS        PR    MG  160505      DGP   D6DA   \n",
       "484  ESCOLA DE SARGENTOS DAS ARMAS        PR    MG  160505      DGP   D6DA   \n",
       "485  ESCOLA DE SARGENTOS DAS ARMAS        PR    MG  160505      DGP   D6DA   \n",
       "486  ESCOLA DE SARGENTOS DAS ARMAS        PR    MG  160505      DGP   D6DA   \n",
       "487  ESCOLA DE SARGENTOS DAS ARMAS        PR    MG  160505      DGP   D6DA   \n",
       "488  ESCOLA DE SARGENTOS DAS ARMAS        PR    MG  160505      DGP   D6DA   \n",
       "489  ESCOLA DE SARGENTOS DAS ARMAS        PR    MG  160505      DGP   D6DA   \n",
       "490  ESCOLA DE SARGENTOS DAS ARMAS        PR    MG  160505      DGP   D6DA   \n",
       "491  ESCOLA DE SARGENTOS DAS ARMAS        PR    MG  160505      DGP   D6DA   \n",
       "492  ESCOLA DE SARGENTOS DAS ARMAS        PR    MG  160505      DGP   D6DA   \n",
       "493  ESCOLA DE SARGENTOS DAS ARMAS        PR    MG  160505      DGP   D6DA   \n",
       "494  ESCOLA DE SARGENTOS DAS ARMAS        PR    MG  160505      DGP   D6DA   \n",
       "495  ESCOLA DE SARGENTOS DAS ARMAS        PR    MG  160505      DGP   D6DA   \n",
       "496  ESCOLA DE SARGENTOS DAS ARMAS        PR    MG  160505      DGP   D6DA   \n",
       "497  ESCOLA DE SARGENTOS DAS ARMAS        PR    MG  160505      DGP   D6DA   \n",
       "588                              0        SC    MG  160505      DGP   D6PE   \n",
       "810                              0       NaN    MG  160129      ESA   D1PE   \n",
       "819                              0        MG    MG  160505      DGP   D6PE   \n",
       "\n",
       "    MEIPI3 SUFPI4  A_LIQUIDAR  LIQUIDADO_A_PAGAR  TOTAL_A_PAGAR    PAGO  \n",
       "469    ATS   LOCO    15000.00                0.0       15000.00     0.0  \n",
       "470    ATS   LOCO    22455.00                0.0       22455.00     0.0  \n",
       "471    ATS   LOCO    18600.00                0.0       18600.00     0.0  \n",
       "472    ATS   LOCO     9000.00                0.0        9000.00     0.0  \n",
       "473    ATS   LOCO    24950.00                0.0       24950.00     0.0  \n",
       "474    ATS   LOCO    10800.00                0.0       10800.00     0.0  \n",
       "475    ATS   LOCO    28443.00                0.0       28443.00     0.0  \n",
       "476    ATS   LOCO     9900.00                0.0        9900.00     0.0  \n",
       "477    ATS   LOCO    14400.00                0.0       14400.00     0.0  \n",
       "478    ATS   LOCO    11160.00                0.0       11160.00     0.0  \n",
       "479    ATS   LOCO    10260.00                0.0       10260.00     0.0  \n",
       "480    ATS   LOCO     9000.00                0.0        9000.00     0.0  \n",
       "481    ATS   LOCO    31000.00                0.0       31000.00     0.0  \n",
       "482    ATS   LOCO    15000.00                0.0       15000.00     0.0  \n",
       "483    ATS   LOCO    15900.00                0.0       15900.00     0.0  \n",
       "484    ATS   LOCO    31000.00                0.0       31000.00     0.0  \n",
       "485    ATS   LOCO     8100.00                0.0        8100.00     0.0  \n",
       "486    ATS   LOCO    15900.00                0.0       15900.00     0.0  \n",
       "487    ATS   LOCO     9900.00                0.0        9900.00     0.0  \n",
       "488    ATS   LOCO     9540.00                0.0        9540.00     0.0  \n",
       "489    ATS   LOCO     9900.00                0.0        9900.00     0.0  \n",
       "490    ATS   LOCO    32500.00                0.0       32500.00     0.0  \n",
       "491    ATS   LOCO    15000.00                0.0       15000.00     0.0  \n",
       "492    ATS   LOCO    17400.00                0.0       17400.00     0.0  \n",
       "493    ATS   LOCO     9000.00                0.0        9000.00     0.0  \n",
       "494    ATS   LOCO     6000.00                0.0        6000.00     0.0  \n",
       "495    ATS   LOCO    13500.00                0.0       13500.00     0.0  \n",
       "496    ATS   LOCO    15900.00                0.0       15900.00     0.0  \n",
       "497    ATS   LOCO     1500.00                0.0        1500.00     0.0  \n",
       "588    IND   MV1A     1575.00                0.0        1575.00   787.5  \n",
       "810    IND   CO4T     2670.94                0.0        2670.94     0.0  \n",
       "819    IND   MV1A       26.64                0.0          26.64  1828.7  "
      ]
     },
     "execution_count": 13,
     "metadata": {},
     "output_type": "execute_result"
    }
   ],
   "source": [
    "df[(df['ACAO'] == '212O') & df['A_LIQUIDAR'] != 0]"
   ]
  },
  {
   "cell_type": "markdown",
   "metadata": {},
   "source": [
    "# Suporte para o Dashboard"
   ]
  },
  {
   "cell_type": "code",
   "execution_count": 14,
   "metadata": {},
   "outputs": [
    {
     "data": {
      "text/html": [
       "<div>\n",
       "<style scoped>\n",
       "    .dataframe tbody tr th:only-of-type {\n",
       "        vertical-align: middle;\n",
       "    }\n",
       "\n",
       "    .dataframe tbody tr th {\n",
       "        vertical-align: top;\n",
       "    }\n",
       "\n",
       "    .dataframe thead th {\n",
       "        text-align: right;\n",
       "    }\n",
       "</style>\n",
       "<table border=\"1\" class=\"dataframe\">\n",
       "  <thead>\n",
       "    <tr style=\"text-align: right;\">\n",
       "      <th></th>\n",
       "      <th>NE</th>\n",
       "      <th>A_LIQUIDAR</th>\n",
       "      <th>DIAS</th>\n",
       "      <th>NOME_NDSI</th>\n",
       "      <th>NDSI</th>\n",
       "    </tr>\n",
       "  </thead>\n",
       "  <tbody>\n",
       "    <tr>\n",
       "      <th>1115</th>\n",
       "      <td>2022NE000742</td>\n",
       "      <td>180.00</td>\n",
       "      <td>472</td>\n",
       "      <td>LOCACAO BENS MOV. OUT.NATUREZAS E INTANGIVEIS</td>\n",
       "      <td>33903914</td>\n",
       "    </tr>\n",
       "    <tr>\n",
       "      <th>1106</th>\n",
       "      <td>2022NE000788</td>\n",
       "      <td>6334.69</td>\n",
       "      <td>463</td>\n",
       "      <td>OUTSOURCING DE IMPRESSAO</td>\n",
       "      <td>33904016</td>\n",
       "    </tr>\n",
       "    <tr>\n",
       "      <th>1133</th>\n",
       "      <td>2022NE001085</td>\n",
       "      <td>5543.35</td>\n",
       "      <td>379</td>\n",
       "      <td>MANUT. E CONSERV. DE MAQUINAS E EQUIPAMENTOS</td>\n",
       "      <td>33903917</td>\n",
       "    </tr>\n",
       "    <tr>\n",
       "      <th>1134</th>\n",
       "      <td>2022NE001086</td>\n",
       "      <td>3466.70</td>\n",
       "      <td>379</td>\n",
       "      <td>MANUTENCAO E CONSERVACAO DE EQUIPAMENTOS DE TIC</td>\n",
       "      <td>33904012</td>\n",
       "    </tr>\n",
       "    <tr>\n",
       "      <th>1100</th>\n",
       "      <td>2022NE001087</td>\n",
       "      <td>2397.00</td>\n",
       "      <td>379</td>\n",
       "      <td>MANUTENCAO E CONSERVACAO DE EQUIPAMENTOS DE TIC</td>\n",
       "      <td>33904012</td>\n",
       "    </tr>\n",
       "    <tr>\n",
       "      <th>1123</th>\n",
       "      <td>2022NE002421</td>\n",
       "      <td>5758.75</td>\n",
       "      <td>324</td>\n",
       "      <td>SERVICOS GRAFICOS E EDITORIAIS</td>\n",
       "      <td>33903963</td>\n",
       "    </tr>\n",
       "    <tr>\n",
       "      <th>1358</th>\n",
       "      <td>2022NE001843</td>\n",
       "      <td>1016.25</td>\n",
       "      <td>324</td>\n",
       "      <td>SERVICOS GRAFICOS E EDITORIAIS</td>\n",
       "      <td>33903963</td>\n",
       "    </tr>\n",
       "    <tr>\n",
       "      <th>933</th>\n",
       "      <td>2022NE002483</td>\n",
       "      <td>263051.08</td>\n",
       "      <td>310</td>\n",
       "      <td>MANUTENCAO E CONSERV. DE BENS IMOVEIS</td>\n",
       "      <td>33903916</td>\n",
       "    </tr>\n",
       "    <tr>\n",
       "      <th>932</th>\n",
       "      <td>2022NE002482</td>\n",
       "      <td>155796.97</td>\n",
       "      <td>310</td>\n",
       "      <td>MANUTENCAO E CONSERV. DE BENS IMOVEIS</td>\n",
       "      <td>33903916</td>\n",
       "    </tr>\n",
       "    <tr>\n",
       "      <th>1120</th>\n",
       "      <td>2022NE002703</td>\n",
       "      <td>146.93</td>\n",
       "      <td>296</td>\n",
       "      <td>PASSAGENS PARA O PAIS</td>\n",
       "      <td>33903301</td>\n",
       "    </tr>\n",
       "  </tbody>\n",
       "</table>\n",
       "</div>"
      ],
      "text/plain": [
       "                NE  A_LIQUIDAR  DIAS  \\\n",
       "1115  2022NE000742      180.00   472   \n",
       "1106  2022NE000788     6334.69   463   \n",
       "1133  2022NE001085     5543.35   379   \n",
       "1134  2022NE001086     3466.70   379   \n",
       "1100  2022NE001087     2397.00   379   \n",
       "1123  2022NE002421     5758.75   324   \n",
       "1358  2022NE001843     1016.25   324   \n",
       "933   2022NE002483   263051.08   310   \n",
       "932   2022NE002482   155796.97   310   \n",
       "1120  2022NE002703      146.93   296   \n",
       "\n",
       "                                            NOME_NDSI      NDSI  \n",
       "1115    LOCACAO BENS MOV. OUT.NATUREZAS E INTANGIVEIS  33903914  \n",
       "1106                         OUTSOURCING DE IMPRESSAO  33904016  \n",
       "1133     MANUT. E CONSERV. DE MAQUINAS E EQUIPAMENTOS  33903917  \n",
       "1134  MANUTENCAO E CONSERVACAO DE EQUIPAMENTOS DE TIC  33904012  \n",
       "1100  MANUTENCAO E CONSERVACAO DE EQUIPAMENTOS DE TIC  33904012  \n",
       "1123                   SERVICOS GRAFICOS E EDITORIAIS  33903963  \n",
       "1358                   SERVICOS GRAFICOS E EDITORIAIS  33903963  \n",
       "933             MANUTENCAO E CONSERV. DE BENS IMOVEIS  33903916  \n",
       "932             MANUTENCAO E CONSERV. DE BENS IMOVEIS  33903916  \n",
       "1120                            PASSAGENS PARA O PAIS  33903301  "
      ]
     },
     "execution_count": 14,
     "metadata": {},
     "output_type": "execute_result"
    }
   ],
   "source": [
    "cols = ['NE', 'A_LIQUIDAR', 'DIAS', 'NOME_NDSI', 'NDSI']\n",
    "\n",
    "df_aux = df.loc[:, cols].sort_values(by='DIAS', ascending=False)\n",
    "df_aux = df_aux[df_aux['A_LIQUIDAR'] != 0].head(10)\n",
    "df_aux"
   ]
  },
  {
   "cell_type": "code",
   "execution_count": 15,
   "metadata": {},
   "outputs": [
    {
     "data": {
      "application/vnd.plotly.v1+json": {
       "config": {
        "plotlyServerURL": "https://plot.ly"
       },
       "data": [
        {
         "alignmentgroup": "True",
         "customdata": [
          [
           472,
           "LOCACAO BENS MOV. OUT.NATUREZAS E INTANGIVEIS",
           "33903914"
          ],
          [
           463,
           "OUTSOURCING DE IMPRESSAO",
           "33904016"
          ],
          [
           379,
           "MANUT. E CONSERV. DE MAQUINAS E EQUIPAMENTOS",
           "33903917"
          ],
          [
           379,
           "MANUTENCAO E CONSERVACAO DE EQUIPAMENTOS DE TIC",
           "33904012"
          ],
          [
           379,
           "MANUTENCAO E CONSERVACAO DE EQUIPAMENTOS DE TIC",
           "33904012"
          ],
          [
           324,
           "SERVICOS GRAFICOS E EDITORIAIS",
           "33903963"
          ],
          [
           324,
           "SERVICOS GRAFICOS E EDITORIAIS",
           "33903963"
          ],
          [
           310,
           "MANUTENCAO E CONSERV. DE BENS IMOVEIS",
           "33903916"
          ],
          [
           310,
           "MANUTENCAO E CONSERV. DE BENS IMOVEIS",
           "33903916"
          ],
          [
           296,
           "PASSAGENS PARA O PAIS",
           "33903301"
          ]
         ],
         "hovertemplate": "<b>%{hovertext}</b><br><br>Nota de Empenho=%{x}<br>Saldo a liquidar=%{y}<br>DIAS=%{marker.color}<br>NOME_NDSI=%{customdata[1]}<br>NDSI=%{customdata[2]}<extra></extra>",
         "hovertext": [
          "2022NE000742",
          "2022NE000788",
          "2022NE001085",
          "2022NE001086",
          "2022NE001087",
          "2022NE002421",
          "2022NE001843",
          "2022NE002483",
          "2022NE002482",
          "2022NE002703"
         ],
         "legendgroup": "",
         "marker": {
          "color": [
           472,
           463,
           379,
           379,
           379,
           324,
           324,
           310,
           310,
           296
          ],
          "coloraxis": "coloraxis",
          "pattern": {
           "shape": ""
          }
         },
         "name": "",
         "offsetgroup": "",
         "orientation": "v",
         "showlegend": false,
         "textposition": "outside",
         "texttemplate": "%{y:.3s}",
         "type": "bar",
         "x": [
          "2022NE000742",
          "2022NE000788",
          "2022NE001085",
          "2022NE001086",
          "2022NE001087",
          "2022NE002421",
          "2022NE001843",
          "2022NE002483",
          "2022NE002482",
          "2022NE002703"
         ],
         "xaxis": "x",
         "y": [
          180,
          6334.69,
          5543.35,
          3466.7,
          2397,
          5758.75,
          1016.25,
          263051.08,
          155796.97,
          146.93
         ],
         "yaxis": "y"
        }
       ],
       "layout": {
        "barmode": "relative",
        "coloraxis": {
         "colorbar": {
          "title": {
           "text": "DIAS"
          }
         },
         "colorscale": [
          [
           0,
           "rgb(255,245,240)"
          ],
          [
           0.125,
           "rgb(254,224,210)"
          ],
          [
           0.25,
           "rgb(252,187,161)"
          ],
          [
           0.375,
           "rgb(252,146,114)"
          ],
          [
           0.5,
           "rgb(251,106,74)"
          ],
          [
           0.625,
           "rgb(239,59,44)"
          ],
          [
           0.75,
           "rgb(203,24,29)"
          ],
          [
           0.875,
           "rgb(165,15,21)"
          ],
          [
           1,
           "rgb(103,0,13)"
          ]
         ]
        },
        "legend": {
         "tracegroupgap": 0
        },
        "template": {
         "data": {
          "bar": [
           {
            "error_x": {
             "color": "#f2f5fa"
            },
            "error_y": {
             "color": "#f2f5fa"
            },
            "marker": {
             "line": {
              "color": "rgb(17,17,17)",
              "width": 0.5
             },
             "pattern": {
              "fillmode": "overlay",
              "size": 10,
              "solidity": 0.2
             }
            },
            "type": "bar"
           }
          ],
          "barpolar": [
           {
            "marker": {
             "line": {
              "color": "rgb(17,17,17)",
              "width": 0.5
             },
             "pattern": {
              "fillmode": "overlay",
              "size": 10,
              "solidity": 0.2
             }
            },
            "type": "barpolar"
           }
          ],
          "carpet": [
           {
            "aaxis": {
             "endlinecolor": "#A2B1C6",
             "gridcolor": "#506784",
             "linecolor": "#506784",
             "minorgridcolor": "#506784",
             "startlinecolor": "#A2B1C6"
            },
            "baxis": {
             "endlinecolor": "#A2B1C6",
             "gridcolor": "#506784",
             "linecolor": "#506784",
             "minorgridcolor": "#506784",
             "startlinecolor": "#A2B1C6"
            },
            "type": "carpet"
           }
          ],
          "choropleth": [
           {
            "colorbar": {
             "outlinewidth": 0,
             "ticks": ""
            },
            "type": "choropleth"
           }
          ],
          "contour": [
           {
            "colorbar": {
             "outlinewidth": 0,
             "ticks": ""
            },
            "colorscale": [
             [
              0,
              "#0d0887"
             ],
             [
              0.1111111111111111,
              "#46039f"
             ],
             [
              0.2222222222222222,
              "#7201a8"
             ],
             [
              0.3333333333333333,
              "#9c179e"
             ],
             [
              0.4444444444444444,
              "#bd3786"
             ],
             [
              0.5555555555555556,
              "#d8576b"
             ],
             [
              0.6666666666666666,
              "#ed7953"
             ],
             [
              0.7777777777777778,
              "#fb9f3a"
             ],
             [
              0.8888888888888888,
              "#fdca26"
             ],
             [
              1,
              "#f0f921"
             ]
            ],
            "type": "contour"
           }
          ],
          "contourcarpet": [
           {
            "colorbar": {
             "outlinewidth": 0,
             "ticks": ""
            },
            "type": "contourcarpet"
           }
          ],
          "heatmap": [
           {
            "colorbar": {
             "outlinewidth": 0,
             "ticks": ""
            },
            "colorscale": [
             [
              0,
              "#0d0887"
             ],
             [
              0.1111111111111111,
              "#46039f"
             ],
             [
              0.2222222222222222,
              "#7201a8"
             ],
             [
              0.3333333333333333,
              "#9c179e"
             ],
             [
              0.4444444444444444,
              "#bd3786"
             ],
             [
              0.5555555555555556,
              "#d8576b"
             ],
             [
              0.6666666666666666,
              "#ed7953"
             ],
             [
              0.7777777777777778,
              "#fb9f3a"
             ],
             [
              0.8888888888888888,
              "#fdca26"
             ],
             [
              1,
              "#f0f921"
             ]
            ],
            "type": "heatmap"
           }
          ],
          "heatmapgl": [
           {
            "colorbar": {
             "outlinewidth": 0,
             "ticks": ""
            },
            "colorscale": [
             [
              0,
              "#0d0887"
             ],
             [
              0.1111111111111111,
              "#46039f"
             ],
             [
              0.2222222222222222,
              "#7201a8"
             ],
             [
              0.3333333333333333,
              "#9c179e"
             ],
             [
              0.4444444444444444,
              "#bd3786"
             ],
             [
              0.5555555555555556,
              "#d8576b"
             ],
             [
              0.6666666666666666,
              "#ed7953"
             ],
             [
              0.7777777777777778,
              "#fb9f3a"
             ],
             [
              0.8888888888888888,
              "#fdca26"
             ],
             [
              1,
              "#f0f921"
             ]
            ],
            "type": "heatmapgl"
           }
          ],
          "histogram": [
           {
            "marker": {
             "pattern": {
              "fillmode": "overlay",
              "size": 10,
              "solidity": 0.2
             }
            },
            "type": "histogram"
           }
          ],
          "histogram2d": [
           {
            "colorbar": {
             "outlinewidth": 0,
             "ticks": ""
            },
            "colorscale": [
             [
              0,
              "#0d0887"
             ],
             [
              0.1111111111111111,
              "#46039f"
             ],
             [
              0.2222222222222222,
              "#7201a8"
             ],
             [
              0.3333333333333333,
              "#9c179e"
             ],
             [
              0.4444444444444444,
              "#bd3786"
             ],
             [
              0.5555555555555556,
              "#d8576b"
             ],
             [
              0.6666666666666666,
              "#ed7953"
             ],
             [
              0.7777777777777778,
              "#fb9f3a"
             ],
             [
              0.8888888888888888,
              "#fdca26"
             ],
             [
              1,
              "#f0f921"
             ]
            ],
            "type": "histogram2d"
           }
          ],
          "histogram2dcontour": [
           {
            "colorbar": {
             "outlinewidth": 0,
             "ticks": ""
            },
            "colorscale": [
             [
              0,
              "#0d0887"
             ],
             [
              0.1111111111111111,
              "#46039f"
             ],
             [
              0.2222222222222222,
              "#7201a8"
             ],
             [
              0.3333333333333333,
              "#9c179e"
             ],
             [
              0.4444444444444444,
              "#bd3786"
             ],
             [
              0.5555555555555556,
              "#d8576b"
             ],
             [
              0.6666666666666666,
              "#ed7953"
             ],
             [
              0.7777777777777778,
              "#fb9f3a"
             ],
             [
              0.8888888888888888,
              "#fdca26"
             ],
             [
              1,
              "#f0f921"
             ]
            ],
            "type": "histogram2dcontour"
           }
          ],
          "mesh3d": [
           {
            "colorbar": {
             "outlinewidth": 0,
             "ticks": ""
            },
            "type": "mesh3d"
           }
          ],
          "parcoords": [
           {
            "line": {
             "colorbar": {
              "outlinewidth": 0,
              "ticks": ""
             }
            },
            "type": "parcoords"
           }
          ],
          "pie": [
           {
            "automargin": true,
            "type": "pie"
           }
          ],
          "scatter": [
           {
            "marker": {
             "line": {
              "color": "#283442"
             }
            },
            "type": "scatter"
           }
          ],
          "scatter3d": [
           {
            "line": {
             "colorbar": {
              "outlinewidth": 0,
              "ticks": ""
             }
            },
            "marker": {
             "colorbar": {
              "outlinewidth": 0,
              "ticks": ""
             }
            },
            "type": "scatter3d"
           }
          ],
          "scattercarpet": [
           {
            "marker": {
             "colorbar": {
              "outlinewidth": 0,
              "ticks": ""
             }
            },
            "type": "scattercarpet"
           }
          ],
          "scattergeo": [
           {
            "marker": {
             "colorbar": {
              "outlinewidth": 0,
              "ticks": ""
             }
            },
            "type": "scattergeo"
           }
          ],
          "scattergl": [
           {
            "marker": {
             "line": {
              "color": "#283442"
             }
            },
            "type": "scattergl"
           }
          ],
          "scattermapbox": [
           {
            "marker": {
             "colorbar": {
              "outlinewidth": 0,
              "ticks": ""
             }
            },
            "type": "scattermapbox"
           }
          ],
          "scatterpolar": [
           {
            "marker": {
             "colorbar": {
              "outlinewidth": 0,
              "ticks": ""
             }
            },
            "type": "scatterpolar"
           }
          ],
          "scatterpolargl": [
           {
            "marker": {
             "colorbar": {
              "outlinewidth": 0,
              "ticks": ""
             }
            },
            "type": "scatterpolargl"
           }
          ],
          "scatterternary": [
           {
            "marker": {
             "colorbar": {
              "outlinewidth": 0,
              "ticks": ""
             }
            },
            "type": "scatterternary"
           }
          ],
          "surface": [
           {
            "colorbar": {
             "outlinewidth": 0,
             "ticks": ""
            },
            "colorscale": [
             [
              0,
              "#0d0887"
             ],
             [
              0.1111111111111111,
              "#46039f"
             ],
             [
              0.2222222222222222,
              "#7201a8"
             ],
             [
              0.3333333333333333,
              "#9c179e"
             ],
             [
              0.4444444444444444,
              "#bd3786"
             ],
             [
              0.5555555555555556,
              "#d8576b"
             ],
             [
              0.6666666666666666,
              "#ed7953"
             ],
             [
              0.7777777777777778,
              "#fb9f3a"
             ],
             [
              0.8888888888888888,
              "#fdca26"
             ],
             [
              1,
              "#f0f921"
             ]
            ],
            "type": "surface"
           }
          ],
          "table": [
           {
            "cells": {
             "fill": {
              "color": "#506784"
             },
             "line": {
              "color": "rgb(17,17,17)"
             }
            },
            "header": {
             "fill": {
              "color": "#2a3f5f"
             },
             "line": {
              "color": "rgb(17,17,17)"
             }
            },
            "type": "table"
           }
          ]
         },
         "layout": {
          "annotationdefaults": {
           "arrowcolor": "#f2f5fa",
           "arrowhead": 0,
           "arrowwidth": 1
          },
          "autotypenumbers": "strict",
          "coloraxis": {
           "colorbar": {
            "outlinewidth": 0,
            "ticks": ""
           }
          },
          "colorscale": {
           "diverging": [
            [
             0,
             "#8e0152"
            ],
            [
             0.1,
             "#c51b7d"
            ],
            [
             0.2,
             "#de77ae"
            ],
            [
             0.3,
             "#f1b6da"
            ],
            [
             0.4,
             "#fde0ef"
            ],
            [
             0.5,
             "#f7f7f7"
            ],
            [
             0.6,
             "#e6f5d0"
            ],
            [
             0.7,
             "#b8e186"
            ],
            [
             0.8,
             "#7fbc41"
            ],
            [
             0.9,
             "#4d9221"
            ],
            [
             1,
             "#276419"
            ]
           ],
           "sequential": [
            [
             0,
             "#0d0887"
            ],
            [
             0.1111111111111111,
             "#46039f"
            ],
            [
             0.2222222222222222,
             "#7201a8"
            ],
            [
             0.3333333333333333,
             "#9c179e"
            ],
            [
             0.4444444444444444,
             "#bd3786"
            ],
            [
             0.5555555555555556,
             "#d8576b"
            ],
            [
             0.6666666666666666,
             "#ed7953"
            ],
            [
             0.7777777777777778,
             "#fb9f3a"
            ],
            [
             0.8888888888888888,
             "#fdca26"
            ],
            [
             1,
             "#f0f921"
            ]
           ],
           "sequentialminus": [
            [
             0,
             "#0d0887"
            ],
            [
             0.1111111111111111,
             "#46039f"
            ],
            [
             0.2222222222222222,
             "#7201a8"
            ],
            [
             0.3333333333333333,
             "#9c179e"
            ],
            [
             0.4444444444444444,
             "#bd3786"
            ],
            [
             0.5555555555555556,
             "#d8576b"
            ],
            [
             0.6666666666666666,
             "#ed7953"
            ],
            [
             0.7777777777777778,
             "#fb9f3a"
            ],
            [
             0.8888888888888888,
             "#fdca26"
            ],
            [
             1,
             "#f0f921"
            ]
           ]
          },
          "colorway": [
           "#636efa",
           "#EF553B",
           "#00cc96",
           "#ab63fa",
           "#FFA15A",
           "#19d3f3",
           "#FF6692",
           "#B6E880",
           "#FF97FF",
           "#FECB52"
          ],
          "font": {
           "color": "#f2f5fa"
          },
          "geo": {
           "bgcolor": "rgb(17,17,17)",
           "lakecolor": "rgb(17,17,17)",
           "landcolor": "rgb(17,17,17)",
           "showlakes": true,
           "showland": true,
           "subunitcolor": "#506784"
          },
          "hoverlabel": {
           "align": "left"
          },
          "hovermode": "closest",
          "mapbox": {
           "style": "dark"
          },
          "paper_bgcolor": "rgb(17,17,17)",
          "plot_bgcolor": "rgb(17,17,17)",
          "polar": {
           "angularaxis": {
            "gridcolor": "#506784",
            "linecolor": "#506784",
            "ticks": ""
           },
           "bgcolor": "rgb(17,17,17)",
           "radialaxis": {
            "gridcolor": "#506784",
            "linecolor": "#506784",
            "ticks": ""
           }
          },
          "scene": {
           "xaxis": {
            "backgroundcolor": "rgb(17,17,17)",
            "gridcolor": "#506784",
            "gridwidth": 2,
            "linecolor": "#506784",
            "showbackground": true,
            "ticks": "",
            "zerolinecolor": "#C8D4E3"
           },
           "yaxis": {
            "backgroundcolor": "rgb(17,17,17)",
            "gridcolor": "#506784",
            "gridwidth": 2,
            "linecolor": "#506784",
            "showbackground": true,
            "ticks": "",
            "zerolinecolor": "#C8D4E3"
           },
           "zaxis": {
            "backgroundcolor": "rgb(17,17,17)",
            "gridcolor": "#506784",
            "gridwidth": 2,
            "linecolor": "#506784",
            "showbackground": true,
            "ticks": "",
            "zerolinecolor": "#C8D4E3"
           }
          },
          "shapedefaults": {
           "line": {
            "color": "#f2f5fa"
           }
          },
          "sliderdefaults": {
           "bgcolor": "#C8D4E3",
           "bordercolor": "rgb(17,17,17)",
           "borderwidth": 1,
           "tickwidth": 0
          },
          "ternary": {
           "aaxis": {
            "gridcolor": "#506784",
            "linecolor": "#506784",
            "ticks": ""
           },
           "baxis": {
            "gridcolor": "#506784",
            "linecolor": "#506784",
            "ticks": ""
           },
           "bgcolor": "rgb(17,17,17)",
           "caxis": {
            "gridcolor": "#506784",
            "linecolor": "#506784",
            "ticks": ""
           }
          },
          "title": {
           "x": 0.05
          },
          "updatemenudefaults": {
           "bgcolor": "#506784",
           "borderwidth": 0
          },
          "xaxis": {
           "automargin": true,
           "gridcolor": "#283442",
           "linecolor": "#506784",
           "ticks": "",
           "title": {
            "standoff": 15
           },
           "zerolinecolor": "#283442",
           "zerolinewidth": 2
          },
          "yaxis": {
           "automargin": true,
           "gridcolor": "#283442",
           "linecolor": "#506784",
           "ticks": "",
           "title": {
            "standoff": 15
           },
           "zerolinecolor": "#283442",
           "zerolinewidth": 2
          }
         }
        },
        "title": {
         "text": "10 empenhos com mais tempo na tela"
        },
        "xaxis": {
         "anchor": "y",
         "domain": [
          0,
          1
         ],
         "title": {
          "text": "Nota de Empenho"
         }
        },
        "yaxis": {
         "anchor": "x",
         "domain": [
          0,
          1
         ],
         "title": {
          "text": "Saldo a liquidar"
         },
         "type": "log"
        }
       }
      }
     },
     "metadata": {},
     "output_type": "display_data"
    }
   ],
   "source": [
    "# Saldo a liquidar por tipo de NE\n",
    "cols = ['NE', 'A_LIQUIDAR', 'DIAS', 'NOME_NDSI', 'NDSI']\n",
    "df_aux = df.loc[:, cols].sort_values(by='DIAS', ascending=False)\n",
    "df_aux = df_aux[df_aux['A_LIQUIDAR'] != 0].head(10)\n",
    "fig = px.bar(df_aux, \n",
    "             x='NE', \n",
    "             y='A_LIQUIDAR',\n",
    "             title='10 empenhos com mais tempo na tela',\n",
    "             labels={'NE':'Nota de Empenho', 'A_LIQUIDAR':'Saldo a liquidar'},\n",
    "             text_auto='.3s',\n",
    "             color='DIAS',\n",
    "             color_continuous_scale = 'reds',\n",
    "             log_y=True,\n",
    "             template='plotly_dark',\n",
    "             hover_name=\"NE\", hover_data={'DIAS': True, 'A_LIQUIDAR': True, 'NOME_NDSI': True, 'NDSI': True})\n",
    "fig.update_traces(textposition = 'outside')\n",
    "\n",
    "\n",
    "fig.show()"
   ]
  },
  {
   "cell_type": "markdown",
   "metadata": {},
   "source": [
    "## Informações para SideBar"
   ]
  },
  {
   "cell_type": "code",
   "execution_count": 16,
   "metadata": {},
   "outputs": [
    {
     "data": {
      "text/plain": [
       "3128"
      ]
     },
     "execution_count": 16,
     "metadata": {},
     "output_type": "execute_result"
    }
   ],
   "source": [
    "# Qtde de empenhos realizados até o momento\n",
    "df.shape[0]"
   ]
  },
  {
   "cell_type": "markdown",
   "metadata": {},
   "source": [
    "# Requisição em API para consulta a CNPJ"
   ]
  },
  {
   "cell_type": "code",
   "execution_count": 17,
   "metadata": {},
   "outputs": [
    {
     "name": "stdout",
     "output_type": "stream",
     "text": [
      "{'abertura': '03/11/2014',\n",
      " 'atividade_principal': [{'code': '79.11-2-00', 'text': 'Agências de viagens'}],\n",
      " 'atividades_secundarias': [{'code': '59.11-1-99',\n",
      "                             'text': 'Atividades de produção cinematográfica, '\n",
      "                                     'de vídeos e de programas de televisão '\n",
      "                                     'não especificadas anteriormente'},\n",
      "                            {'code': '63.99-2-00',\n",
      "                             'text': 'Outras atividades de prestação de '\n",
      "                                     'serviços de informação não especificadas '\n",
      "                                     'anteriormente'},\n",
      "                            {'code': '79.12-1-00',\n",
      "                             'text': 'Operadores turísticos'},\n",
      "                            {'code': '79.90-2-00',\n",
      "                             'text': 'Serviços de reservas e outros serviços '\n",
      "                                     'de turismo não especificados '\n",
      "                                     'anteriormente'},\n",
      "                            {'code': '82.30-0-01',\n",
      "                             'text': 'Serviços de organização de feiras, '\n",
      "                                     'congressos, exposições e festas'},\n",
      "                            {'code': '85.99-6-04',\n",
      "                             'text': 'Treinamento em desenvolvimento '\n",
      "                                     'profissional e gerencial'}],\n",
      " 'bairro': 'CENTRO',\n",
      " 'billing': {'database': True, 'free': True},\n",
      " 'capital_social': '300000.00',\n",
      " 'cep': '09.750-700',\n",
      " 'cnpj': '21.331.404/0001-38',\n",
      " 'complemento': 'SALA 301 A 306 310 E 311 BLOCO 01 COND MONDIAL SBC',\n",
      " 'data_situacao': '03/11/2014',\n",
      " 'data_situacao_especial': '',\n",
      " 'efr': '',\n",
      " 'email': 'orleans@orleanstur.com.br',\n",
      " 'extra': {},\n",
      " 'fantasia': 'ORLEANSTUR',\n",
      " 'logradouro': 'PC SAMUEL SABATINI',\n",
      " 'motivo_situacao': '',\n",
      " 'municipio': 'SAO BERNARDO DO CAMPO',\n",
      " 'natureza_juridica': '206-2 - Sociedade Empresária Limitada',\n",
      " 'nome': 'ORLEANS VIAGENS E TURISMO LTDA',\n",
      " 'numero': '226',\n",
      " 'porte': 'EMPRESA DE PEQUENO PORTE',\n",
      " 'qsa': [{'nome': 'SILAS BEZERRA DE ALENCAR', 'qual': '49-Sócio-Administrador'},\n",
      "         {'nome': 'WAGNER FERREIRA MOITA', 'qual': '49-Sócio-Administrador'}],\n",
      " 'situacao': 'ATIVA',\n",
      " 'situacao_especial': '',\n",
      " 'status': 'OK',\n",
      " 'telefone': '(11) 2273-4343',\n",
      " 'tipo': 'MATRIZ',\n",
      " 'uf': 'SP',\n",
      " 'ultima_atualizacao': '2023-10-02T09:31:05.249Z'}\n"
     ]
    }
   ],
   "source": [
    "import requests\n",
    "from pprint import pprint\n",
    "\n",
    "url = \"https://receitaws.com.br/v1/cnpj/21331404000138\"\n",
    "\n",
    "headers = {\"Accept\": \"application/json\"}\n",
    "\n",
    "response = requests.get(url, headers=headers)\n",
    "\n",
    "pprint(response.json())"
   ]
  },
  {
   "cell_type": "code",
   "execution_count": 18,
   "metadata": {},
   "outputs": [
    {
     "name": "stdout",
     "output_type": "stream",
     "text": [
      "{'abertura': '28/08/2015',\n",
      " 'atividade_principal': [{'code': '26.21-3-00',\n",
      "                          'text': 'Fabricação de equipamentos de informática'}],\n",
      " 'atividades_secundarias': [{'code': '26.22-1-00',\n",
      "                             'text': 'Fabricação de periféricos para '\n",
      "                                     'equipamentos de informática'},\n",
      "                            {'code': '27.59-7-99',\n",
      "                             'text': 'Fabricação de outros aparelhos '\n",
      "                                     'eletrodomésticos não especificados '\n",
      "                                     'anteriormente, peças e acessórios'},\n",
      "                            {'code': '46.19-2-00',\n",
      "                             'text': 'Representantes comerciais e agentes do '\n",
      "                                     'comércio de mercadorias em geral não '\n",
      "                                     'especializado'},\n",
      "                            {'code': '46.51-6-01',\n",
      "                             'text': 'Comércio atacadista de equipamentos de '\n",
      "                                     'informática'},\n",
      "                            {'code': '47.54-7-01',\n",
      "                             'text': 'Comércio varejista de móveis'},\n",
      "                            {'code': '46.49-4-02',\n",
      "                             'text': 'Comércio atacadista de aparelhos '\n",
      "                                     'eletrônicos de uso pessoal e doméstico'},\n",
      "                            {'code': '46.47-8-02',\n",
      "                             'text': 'Comércio atacadista de livros, jornais e '\n",
      "                                     'outras publicações'},\n",
      "                            {'code': '62.04-0-00',\n",
      "                             'text': 'Consultoria em tecnologia da informação'},\n",
      "                            {'code': '62.02-3-00',\n",
      "                             'text': 'Desenvolvimento e licenciamento de '\n",
      "                                     'programas de computador customizáveis'},\n",
      "                            {'code': '63.19-4-00',\n",
      "                             'text': 'Portais, provedores de conteúdo e outros '\n",
      "                                     'serviços de informação na internet'},\n",
      "                            {'code': '62.01-5-01',\n",
      "                             'text': 'Desenvolvimento de programas de '\n",
      "                                     'computador sob encomenda'},\n",
      "                            {'code': '58.11-5-00', 'text': 'Edição de livros'},\n",
      "                            {'code': '64.62-0-00',\n",
      "                             'text': 'Holdings de instituições '\n",
      "                                     'não-financeiras'},\n",
      "                            {'code': '71.19-7-03',\n",
      "                             'text': 'Serviços de desenho técnico relacionados '\n",
      "                                     'à arquitetura e engenharia'},\n",
      "                            {'code': '77.33-1-00',\n",
      "                             'text': 'Aluguel de máquinas e equipamentos para '\n",
      "                                     'escritórios'},\n",
      "                            {'code': '77.40-3-00',\n",
      "                             'text': 'Gestão de ativos intangíveis '\n",
      "                                     'não-financeiros'},\n",
      "                            {'code': '85.50-3-02',\n",
      "                             'text': 'Atividades de apoio à educação, exceto '\n",
      "                                     'caixas escolares'},\n",
      "                            {'code': '85.99-6-04',\n",
      "                             'text': 'Treinamento em desenvolvimento '\n",
      "                                     'profissional e gerencial'},\n",
      "                            {'code': '95.21-5-00',\n",
      "                             'text': 'Reparação e manutenção de equipamentos '\n",
      "                                     'eletroeletrônicos de uso pessoal e '\n",
      "                                     'doméstico'},\n",
      "                            {'code': '95.11-8-00',\n",
      "                             'text': 'Reparação e manutenção de computadores e '\n",
      "                                     'de equipamentos periféricos'},\n",
      "                            {'code': '26.32-9-00',\n",
      "                             'text': 'Fabricação de aparelhos telefônicos e de '\n",
      "                                     'outros equipamentos de comunicação, '\n",
      "                                     'peças e acessórios'}],\n",
      " 'bairro': 'DISTRITO INDUSTRIAL I',\n",
      " 'billing': {'database': True, 'free': True},\n",
      " 'capital_social': '0.00',\n",
      " 'cep': '69.075-110',\n",
      " 'cnpj': '81.243.735/0019-77',\n",
      " 'complemento': 'LOTE 257-B',\n",
      " 'data_situacao': '28/08/2015',\n",
      " 'data_situacao_especial': '',\n",
      " 'efr': '',\n",
      " 'email': 'fiscal@positivo.com.br',\n",
      " 'extra': {},\n",
      " 'fantasia': '',\n",
      " 'logradouro': 'R JAVARI',\n",
      " 'motivo_situacao': '',\n",
      " 'municipio': 'MANAUS',\n",
      " 'natureza_juridica': '204-6 - Sociedade Anônima Aberta',\n",
      " 'nome': 'POSITIVO TECNOLOGIA S.A.',\n",
      " 'numero': '1255',\n",
      " 'porte': 'DEMAIS',\n",
      " 'qsa': [],\n",
      " 'situacao': 'ATIVA',\n",
      " 'situacao_especial': '',\n",
      " 'status': 'OK',\n",
      " 'telefone': '(41) 3316-7700',\n",
      " 'tipo': 'FILIAL',\n",
      " 'uf': 'AM',\n",
      " 'ultima_atualizacao': '2023-10-17T17:39:44.861Z'}\n"
     ]
    }
   ],
   "source": [
    "def consulta_cnpj(numero_cnpj):\n",
    "    url = f\"https://receitaws.com.br/v1/cnpj/{numero_cnpj}\"\n",
    "\n",
    "    headers = {\"Accept\": \"application/json\"}\n",
    "\n",
    "    response = requests.get(url, headers=headers)\n",
    "    \n",
    "    dic_fornecedor = response.json()\n",
    "    \n",
    "    return dic_fornecedor\n",
    "\n",
    "# Criar um dicionário vazio fora da função\n",
    "dicionario = {}\n",
    "\n",
    "# Chamar a função e atribuir o resultado ao dicionário\n",
    "dicionario = consulta_cnpj('81243735001977')\n",
    "\n",
    "# Imprimir o dicionário\n",
    "pprint(dicionario)"
   ]
  },
  {
   "cell_type": "code",
   "execution_count": 19,
   "metadata": {},
   "outputs": [
    {
     "name": "stdout",
     "output_type": "stream",
     "text": [
      "{'abertura': '28/08/2015',\n",
      " 'atividade_principal': [{'code': '26.21-3-00',\n",
      "                          'text': 'Fabricação de equipamentos de informática'}],\n",
      " 'atividades_secundarias': [{'code': '26.22-1-00',\n",
      "                             'text': 'Fabricação de periféricos para '\n",
      "                                     'equipamentos de informática'},\n",
      "                            {'code': '27.59-7-99',\n",
      "                             'text': 'Fabricação de outros aparelhos '\n",
      "                                     'eletrodomésticos não especificados '\n",
      "                                     'anteriormente, peças e acessórios'},\n",
      "                            {'code': '46.19-2-00',\n",
      "                             'text': 'Representantes comerciais e agentes do '\n",
      "                                     'comércio de mercadorias em geral não '\n",
      "                                     'especializado'},\n",
      "                            {'code': '46.51-6-01',\n",
      "                             'text': 'Comércio atacadista de equipamentos de '\n",
      "                                     'informática'},\n",
      "                            {'code': '47.54-7-01',\n",
      "                             'text': 'Comércio varejista de móveis'},\n",
      "                            {'code': '46.49-4-02',\n",
      "                             'text': 'Comércio atacadista de aparelhos '\n",
      "                                     'eletrônicos de uso pessoal e doméstico'},\n",
      "                            {'code': '46.47-8-02',\n",
      "                             'text': 'Comércio atacadista de livros, jornais e '\n",
      "                                     'outras publicações'},\n",
      "                            {'code': '62.04-0-00',\n",
      "                             'text': 'Consultoria em tecnologia da informação'},\n",
      "                            {'code': '62.02-3-00',\n",
      "                             'text': 'Desenvolvimento e licenciamento de '\n",
      "                                     'programas de computador customizáveis'},\n",
      "                            {'code': '63.19-4-00',\n",
      "                             'text': 'Portais, provedores de conteúdo e outros '\n",
      "                                     'serviços de informação na internet'},\n",
      "                            {'code': '62.01-5-01',\n",
      "                             'text': 'Desenvolvimento de programas de '\n",
      "                                     'computador sob encomenda'},\n",
      "                            {'code': '58.11-5-00', 'text': 'Edição de livros'},\n",
      "                            {'code': '64.62-0-00',\n",
      "                             'text': 'Holdings de instituições '\n",
      "                                     'não-financeiras'},\n",
      "                            {'code': '71.19-7-03',\n",
      "                             'text': 'Serviços de desenho técnico relacionados '\n",
      "                                     'à arquitetura e engenharia'},\n",
      "                            {'code': '77.33-1-00',\n",
      "                             'text': 'Aluguel de máquinas e equipamentos para '\n",
      "                                     'escritórios'},\n",
      "                            {'code': '77.40-3-00',\n",
      "                             'text': 'Gestão de ativos intangíveis '\n",
      "                                     'não-financeiros'},\n",
      "                            {'code': '85.50-3-02',\n",
      "                             'text': 'Atividades de apoio à educação, exceto '\n",
      "                                     'caixas escolares'},\n",
      "                            {'code': '85.99-6-04',\n",
      "                             'text': 'Treinamento em desenvolvimento '\n",
      "                                     'profissional e gerencial'},\n",
      "                            {'code': '95.21-5-00',\n",
      "                             'text': 'Reparação e manutenção de equipamentos '\n",
      "                                     'eletroeletrônicos de uso pessoal e '\n",
      "                                     'doméstico'},\n",
      "                            {'code': '95.11-8-00',\n",
      "                             'text': 'Reparação e manutenção de computadores e '\n",
      "                                     'de equipamentos periféricos'},\n",
      "                            {'code': '26.32-9-00',\n",
      "                             'text': 'Fabricação de aparelhos telefônicos e de '\n",
      "                                     'outros equipamentos de comunicação, '\n",
      "                                     'peças e acessórios'}],\n",
      " 'bairro': 'DISTRITO INDUSTRIAL I',\n",
      " 'billing': {'database': True, 'free': True},\n",
      " 'capital_social': '0.00',\n",
      " 'cep': '69.075-110',\n",
      " 'cnpj': '81.243.735/0019-77',\n",
      " 'complemento': 'LOTE 257-B',\n",
      " 'data_situacao': '28/08/2015',\n",
      " 'data_situacao_especial': '',\n",
      " 'efr': '',\n",
      " 'email': 'fiscal@positivo.com.br',\n",
      " 'extra': {},\n",
      " 'fantasia': '',\n",
      " 'logradouro': 'R JAVARI',\n",
      " 'motivo_situacao': '',\n",
      " 'municipio': 'MANAUS',\n",
      " 'natureza_juridica': '204-6 - Sociedade Anônima Aberta',\n",
      " 'nome': 'POSITIVO TECNOLOGIA S.A.',\n",
      " 'numero': '1255',\n",
      " 'porte': 'DEMAIS',\n",
      " 'qsa': [],\n",
      " 'situacao': 'ATIVA',\n",
      " 'situacao_especial': '',\n",
      " 'status': 'OK',\n",
      " 'telefone': '(41) 3316-7700',\n",
      " 'tipo': 'FILIAL',\n",
      " 'uf': 'AM',\n",
      " 'ultima_atualizacao': '2023-10-17T17:39:44.861Z'}\n"
     ]
    }
   ],
   "source": [
    "pprint(dicionario)"
   ]
  },
  {
   "cell_type": "code",
   "execution_count": 20,
   "metadata": {},
   "outputs": [
    {
     "data": {
      "text/plain": [
       "'POSITIVO TECNOLOGIA S.A.'"
      ]
     },
     "execution_count": 20,
     "metadata": {},
     "output_type": "execute_result"
    }
   ],
   "source": [
    "dicionario['nome']"
   ]
  },
  {
   "cell_type": "code",
   "execution_count": 21,
   "metadata": {},
   "outputs": [
    {
     "data": {
      "text/plain": [
       "'(41) 3316-7700'"
      ]
     },
     "execution_count": 21,
     "metadata": {},
     "output_type": "execute_result"
    }
   ],
   "source": [
    "dicionario['telefone']"
   ]
  },
  {
   "cell_type": "code",
   "execution_count": 22,
   "metadata": {},
   "outputs": [
    {
     "data": {
      "text/plain": [
       "'fiscal@positivo.com.br'"
      ]
     },
     "execution_count": 22,
     "metadata": {},
     "output_type": "execute_result"
    }
   ],
   "source": [
    "dicionario['email']"
   ]
  },
  {
   "cell_type": "code",
   "execution_count": 23,
   "metadata": {},
   "outputs": [
    {
     "data": {
      "text/plain": [
       "'R JAVARI, 1255 - DISTRITO INDUSTRIAL I - MANAUS / AM'"
      ]
     },
     "execution_count": 23,
     "metadata": {},
     "output_type": "execute_result"
    }
   ],
   "source": [
    "dicionario['logradouro'] + ', ' + dicionario['numero'] + ' - ' + dicionario['bairro'] + ' - ' + dicionario['municipio'] + ' / ' + dicionario['uf']"
   ]
  },
  {
   "cell_type": "code",
   "execution_count": 24,
   "metadata": {},
   "outputs": [
    {
     "data": {
      "text/plain": [
       "array(['33658130000175', '01590728000850', '05872523000141',\n",
       "       '06981180000116', '09583781000169', '12742245000173',\n",
       "       '17281106000103', '20584944000160', '27325275000151',\n",
       "       '27995686000154', '34028316001509', '39319890000134',\n",
       "       '41505690000118', '41776201000162', '43003732000148',\n",
       "       '43433811000199', '44812602000119', '45424853000199',\n",
       "       '76535764000143', '00139736000145', '01255291000121',\n",
       "       '01804159000121', '02338743000100', '02347121000210',\n",
       "       '03157268000120', '03539933000140', '04785664000164',\n",
       "       '05088041000103', '06022475000165', '06894510000136',\n",
       "       '07027329743', '07457410000296', '07912053000128',\n",
       "       '08605233000120', '08703140000138', '09035549000196',\n",
       "       '09249668000141', '09505477000101', '10463704000154',\n",
       "       '10526703000101', '10842829000195', '10902067000175',\n",
       "       '11094173000132', '11532912000120', '12669334000131',\n",
       "       '13857945000176', '13986656000177', '14459158000139',\n",
       "       '14807420000199', '14951451000119', '14968227000130',\n",
       "       '15153524000190', '17254509000163', '17623276000129',\n",
       "       '17955535000119', '18726078000153', '19234111000190',\n",
       "       '19612735000102', '19994997000170', '20240470000130',\n",
       "       '21331404000138', '21425509000156', '21578205000129',\n",
       "       '23122344000179', '23178866000192', '23533848000181',\n",
       "       '24083086000121', '26503796000199', '27619368000199',\n",
       "       '28719518000107', '29704594000101', '29774797000166',\n",
       "       '30189974000126', '31535157000145', '32542998000142',\n",
       "       '33171503000189', '35764167000103', '36277221000159',\n",
       "       '37087255000143', '38084736000168', '39242061000109',\n",
       "       '39988022000147', '39999415000156', '40000327000188',\n",
       "       '40223106000179', '40225662000184', '40695811000179',\n",
       "       '41841443000192', '42107381000152', '42772140000128',\n",
       "       '43892634000109', '43928711000133', '44384524000107',\n",
       "       '45135133000103', '45258432000216', '45769285000168',\n",
       "       '46367384000186', '46920049000163', '47378309000183',\n",
       "       '48778881000100', '48959315000197', '49316139000138',\n",
       "       '49577909000104', '49720354000108', '51204249000150',\n",
       "       '53202768000104', '65095531000150', '65271868000171',\n",
       "       '65295172000185', '65353401000170', '76535764000658',\n",
       "       '06187402000123', '13218025000108', '19299157000198',\n",
       "       '20324748000157', '30678144000162', '36434865000103',\n",
       "       '38339341000169', '12433700000159', '19791896006486',\n",
       "       '19871268000127', '20421805000116', '20702528000110',\n",
       "       '20942789000107', '21016690000147', '26517495000114',\n",
       "       '31038751000120', '33180160000119', '37748531000177',\n",
       "       '71001465000105', '05291541000130', '06910908000119',\n",
       "       '07259386000108', '07665456000110', '08194579000182',\n",
       "       '08532500000186', '09039582000194', '10614788000180',\n",
       "       '10626630000120', '10653955000100', '11186469000183',\n",
       "       '14163479000191', '14203779000157', '15407876000124',\n",
       "       '19769219000188', '21348054000112', '21971041000103',\n",
       "       '28259514000185', '29455568000189', '29926189000120',\n",
       "       '30372538000198', '31206933000163', '31634238000100',\n",
       "       '31669124000198', '33497491000187', '33618396000194',\n",
       "       '35307908000127', '35411786000114', '36045363000190',\n",
       "       '37421415000149', '40224243000128', '43782859000102',\n",
       "       '44259236000112', '45229830697', '45495742672', '47043589000179',\n",
       "       '47078180000198', '47170510000170', '48085103000128',\n",
       "       '48087032000100', '48371796000115', '58586113034', '75126583620',\n",
       "       '79984357000101', '03849500000190', '00030005671', '00129400033',\n",
       "       '00159155061', '00431705100', '00526303310', '00571968341',\n",
       "       '00947703101', '01052392245', '01126681008', '01184973679',\n",
       "       '01261372697', '01299636071', '01353508242', '01737297388',\n",
       "       '01823919065', '01843667630', '02030864650', '02185403613',\n",
       "       '02209219035', '02241473669', '02261350120', '02279383055',\n",
       "       '02301609642', '02504342101', '02509259075', '02642693228',\n",
       "       '02850720054', '02852355086', '02872132180', '02932035630',\n",
       "       '03014138002', '03097492046', '03227074044', '03266662148',\n",
       "       '03284444050', '03293652743', '03377126031', '03377882006',\n",
       "       '03404424093', '03480581013', '03558326237', '03852987067',\n",
       "       '03905960001', '03917351013', '03940728128', '03958083595',\n",
       "       '03962053050', '04023542652', '04038072045', '04160798730',\n",
       "       '04205973012', '04216220592', '04229519001', '04229605277',\n",
       "       '04264514657', '04310361102', '04333000009', '04345498007',\n",
       "       '04390724096', '04397411654', '04407533099', '04579685083',\n",
       "       '04917001056', '05040719639', '05108416946', '05146300194',\n",
       "       '05183711313', '05241255621', '05295144194', '05337761471',\n",
       "       '05474497989', '05573004794', '05621642350', '05665961647',\n",
       "       '05689692190', '05716221602', '06087002154', '06119354301',\n",
       "       '06190533647', '06229234637', '06334289659', '06383501666',\n",
       "       '06467068459', '06472724318', '06586004608', '06615892189',\n",
       "       '06783256502', '06801474626', '06865067746', '07039512114',\n",
       "       '07169524325', '07194826151', '07270889120', '07273046159',\n",
       "       '07346767608', '07498200635', '07524298331', '07637429610',\n",
       "       '07645389699', '07816107706', '07820373644', '07934460589',\n",
       "       '07965131390', '08035166301', '08053237320', '08065029400',\n",
       "       '08223819589', '08225349326', '08277144598', '08827947957',\n",
       "       '08967602600', '08970525521', '09003617600', '09007785630',\n",
       "       '09017890460', '09063171935', '09064361762', '09223582652',\n",
       "       '09249396481', '09294720632', '09545339683', '09654115751',\n",
       "       '09663352795', '09679621960', '09839706969', '09849919647',\n",
       "       '10178028746', '10220358605', '10369164725', '10375927603',\n",
       "       '10377203696', '10384918603', '10402385640', '10453836607',\n",
       "       '10515060690', '10542917483', '10668899450', '10691028494',\n",
       "       '10698907400', '10762929766', '10830709673', '10853684758',\n",
       "       '10957557493', '11018705759', '11071537601', '11191518728',\n",
       "       '11215227698', '11219031933', '11227792670', '11324227605',\n",
       "       '11462121608', '11564639630', '11579816665', '11638652651',\n",
       "       '11646858646', '11651502714', '11713215705', '11742102492',\n",
       "       '11850847703', '11853066761', '11877498777', '11938847482',\n",
       "       '12149124785', '12173899465', '12303008646', '12309098698',\n",
       "       '12394528613', '12429302721', '12453891731', '12464606707',\n",
       "       '12719653640', '12916601600', '12923860616', '12929795425',\n",
       "       '13139077661', '13283577757', '13353836624', '13507302624',\n",
       "       '13536452744', '13544317745', '13588077790', '13617344771',\n",
       "       '13692922795', '13705740610', '13758539617', '13768501680',\n",
       "       '13775034617', '13958368760', '14018103735', '14100963602',\n",
       "       '14321880467', '14410235699', '14441938721', '14499874785',\n",
       "       '14587587451', '14596998663', '14696902765', '14805444770',\n",
       "       '14893184709', '15018577703', '15144916724', '15179822785',\n",
       "       '15252301743', '15272760743', '15355213766', '15549541777',\n",
       "       '15553383722', '15582447784', '15586334720', '15621793730',\n",
       "       '15658665760', '15692767732', '15789911706', '16013199752',\n",
       "       '16072000746', '16177238785', '16374666763', '16461345752',\n",
       "       '16463775754', '16488471708', '16632952712', '16664689758',\n",
       "       '16702196741', '16752671702', '16850127799', '16853286790',\n",
       "       '16947768756', '16950689713', '16958518705', '16967988760',\n",
       "       '16996092760', '17011304754', '17056850723', '17192911798',\n",
       "       '17352190708', '17451899713', '17527919752', '17752344796',\n",
       "       '17790041762', '17836610705', '17982659748', '18006853789',\n",
       "       '18018984727', '18243205748', '18505190726', '18565051706',\n",
       "       '18603247706', '18613878733', '18639465789', '18652250707',\n",
       "       '18725986767', '18823937752', '18842806765', '18845354709',\n",
       "       '18860838789', '18863146756', '19392505795', '19763491762',\n",
       "       '36651018833', '38066039875', '38531643821', '38611738837',\n",
       "       '38741026888', '39325275856', '39342129803', '41580232892',\n",
       "       '44099351866', '44771480893', '45030927824', '46960233895',\n",
       "       '46983920805', '47028174859', '47039641801', '47582584813',\n",
       "       '48292262857', '49353908833', '49650302816', '49851404810',\n",
       "       '50952859831', '60455085307', '64819396315', '65152980053',\n",
       "       '70180361430', '70198954417', '70279878486', '70298334496',\n",
       "       '70323055478', '70369439473', '70511651430', '70983535400',\n",
       "       '71049828410', '72640260006', '72809914249', '79222030982',\n",
       "       '82518157034', '86113510530', '86223518668', '86349080548',\n",
       "       '86374303091', '87286297287', '88291421587', '89072707168',\n",
       "       '91413346472', '17289559000186', '05860142000142',\n",
       "       '33345691000114', '47122108000110', '92221589000176',\n",
       "       '21442038000194', '23614351000198', '24377448000197',\n",
       "       '28453974000140', '32160412000185', '35339031000156',\n",
       "       '02273057000190', '02729859000161', '02829044000154',\n",
       "       '03333999000189', '03541496000107', '03716644000179',\n",
       "       '04664903000128', '06131805000150', '06307463000187',\n",
       "       '07266248000148', '07764000000107', '08563964000150',\n",
       "       '08593332000139', '08990041000184', '11003995000160',\n",
       "       '11210857000152', '11262969000157', '11718643000191',\n",
       "       '13299823000101', '19933130000105', '20183508000180',\n",
       "       '23121810000100', '28591670000149', '28888423000109',\n",
       "       '31682616000113', '31714734000166', '33739848000196',\n",
       "       '38073038000167', '40478639000100', '44429540000160',\n",
       "       '47440165000148', '48241204000140', '58512096000157',\n",
       "       '06251822000121', '01342660000113', '02246382000163',\n",
       "       '08304573000110', '08664980000139', '09325742000161',\n",
       "       '28039386000164', '28683271000108', '40166705000106',\n",
       "       '42528905000189', '46209139000140', '79034153000100',\n",
       "       '00626625000163', '10198809000123', '37256751000183',\n",
       "       '68533967000172', '02421421000111', '04790917000198',\n",
       "       '05691235000190', '06071701000106', '07048323000102',\n",
       "       '07385089000109', '07851262000109', '14517117000151',\n",
       "       '15072268000106', '17590881000302', '18828894000330',\n",
       "       '22382705000153', '24547043000150', '26669742000106',\n",
       "       '31411095000160', '34298882000135', '37392691000126',\n",
       "       '38680138000151', '40689972000150', '41866869000109',\n",
       "       '42176264000140', '43838684000108', '45293736000133',\n",
       "       '45930390000137', '01088055000168', '01089802000182',\n",
       "       '01904037054', '03979214000140', '04087710000151',\n",
       "       '05191550000230', '06178319000198', '07845581000101',\n",
       "       '08096586000141', '08658622000113', '09450715000110',\n",
       "       '11456144000173', '12007998000135', '12013565000192',\n",
       "       '12032954000165', '12279099000191', '13759849000195',\n",
       "       '13990290000100', '15494741000143', '15724019000158',\n",
       "       '17339156000102', '18202203000126', '18274923000105',\n",
       "       '18707234000139', '19026964000137', '20362687000112',\n",
       "       '20402517000114', '20915722000183', '21143541000149',\n",
       "       '21597955000148', '21793208000185', '21942511000100',\n",
       "       '24183988000130', '25271628000152', '28076288000105',\n",
       "       '28320324000126', '30399473000174', '31724820000150',\n",
       "       '32005178000111', '32316475000188', '33323653000160',\n",
       "       '33486276000180', '34719908000171', '34734782000104',\n",
       "       '35099493000143', '39236457000135', '39619837000230',\n",
       "       '40214888000180', '40358740000119', '40700611000167',\n",
       "       '41053476000178', '41680761000119', '42262411000103',\n",
       "       '42438841000125', '43161042000117', '43731740000100',\n",
       "       '45250428000120', '45540617000138', '46476518000105',\n",
       "       '47308261000137', '48080508000173', '48337870000187',\n",
       "       '48779371000140', '49834027000179', '50317178000139',\n",
       "       '59717553000617', '71359939000195', '81243735000903',\n",
       "       '81243735001977', '11088488000177', '11855738000157',\n",
       "       '17281973000300', '31719674000174', '42348400000132',\n",
       "       '61418141000113', '06351401000172', '08906031000118',\n",
       "       '08907476000112', '11768653000131', '13642117000110',\n",
       "       '13680603000123', '167129', '19116488000145', '20784313000195',\n",
       "       '25406063000173', '27028550000175', '28423235000105',\n",
       "       '29023342000109', '30647055000159', '31731853000127',\n",
       "       '37583132000101', '39334587000100', '39889596000168',\n",
       "       '40426345000126', '42727372000164', '43471392000180',\n",
       "       '47531706000143', '47725628000118', '00316937000170',\n",
       "       '00577773000135', '01008092000119', '01098104000143',\n",
       "       '01509731000391', '02108761000197', '02482141000113',\n",
       "       '02668731000135', '02784905000125', '02848925647',\n",
       "       '02929143000108', '03059040000105', '03856561000185',\n",
       "       '03930660000160', '04648489000163', '04992161000160',\n",
       "       '05194005000116', '05400006000170', '05461861000190',\n",
       "       '05552239000198', '05741540000140', '05823817000183',\n",
       "       '06024718000102', '06334550000123', '07119678000137',\n",
       "       '07285389000108', '07608700000102', '07690038000182',\n",
       "       '07809370000113', '07976966000108', '08278883000108',\n",
       "       '08928430631', '08986188000109', '09215883000121',\n",
       "       '09222369000113', '09380005000161', '10372200000129',\n",
       "       '10450143000159', '10489922000168', '10600312000190',\n",
       "       '10899734000108', '11708426000110', '11737090000114',\n",
       "       '12482902000190', '12769734000119', '12799335000109',\n",
       "       '12968777000123', '13407849000126', '13444848000151',\n",
       "       '13609307000136', '13700015682', '14233622000174',\n",
       "       '16926786000102', '17412396000187', '17413469000155',\n",
       "       '17421504000188', '17457610000111', '17845504000296',\n",
       "       '18226970000175', '18632315000117', '18730868000102',\n",
       "       '18901645000160', '19625870000184', '19863357000121',\n",
       "       '20382743000180', '20469180000162', '21013054000161',\n",
       "       '21390591000120', '21781767000175', '22016266000165',\n",
       "       '22073381000171', '22077499000178', '22579804000120',\n",
       "       '22705870000107', '23302414000170', '23814905000109',\n",
       "       '24151595000144', '24194533000110', '25641788000146',\n",
       "       '25641788000227', '25642083000143', '25642331000156',\n",
       "       '25643420000117', '25656463000137', '26001891000194',\n",
       "       '26886495000191', '27656480000108', '27862855000188',\n",
       "       '28147573000161', '28460991000104', '28820255000110',\n",
       "       '29034549000189', '29985857000190', '30041676000194',\n",
       "       '30379344000114', '30865026653', '30925385000169', '31791247687',\n",
       "       '32677058000160', '33013209000149', '33992679000100',\n",
       "       '34672800000170', '35706397000116', '36874484000145',\n",
       "       '37686780678', '41884255000141', '42529374000149',\n",
       "       '42855999000362', '43507304000152', '44223526000106',\n",
       "       '44982273000154', '45125667000159', '50429810000136',\n",
       "       '55221181649', '57122873668', '58665102604', '64082717668',\n",
       "       '64273048000156', '79988601620', '81061242668', '92887210610',\n",
       "       '00029957605', '00386000000171', '00583615619', '01172671630',\n",
       "       '01253802670', '01412905605', '01852701668', '02206069000100',\n",
       "       '02690065673', '03008284620', '03065063000114', '03123441717',\n",
       "       '03479428000157', '03481648669', '03700858680', '03841488676',\n",
       "       '03851189000114', '04299096673', '04628307644', '05490249000146',\n",
       "       '05565735602', '06003234636', '07267191614', '07352375651',\n",
       "       '07817955000185', '07822118000144', '08528006000148',\n",
       "       '08697852000191', '08930415644', '09006743690', '10031026702',\n",
       "       '10197494000108', '10493969000103', '10569086000121',\n",
       "       '10710529775', '11708655000135', '11803092602', '12614671673',\n",
       "       '13081240000100', '13823529000157', '14987491000110',\n",
       "       '15072183000128', '15210886000175', '15329152000100',\n",
       "       '15439366000139', '16633511000180', '17496898000133',\n",
       "       '21425822000194', '23119087000116', '25301210000140',\n",
       "       '25386019000149', '25863390000154', '26401571000121',\n",
       "       '26600459000110', '27205945000104', '28429720000196',\n",
       "       '29043834000166', '29650220000142', '30082076000174',\n",
       "       '30814518000120', '31339053000165', '31958700000117',\n",
       "       '33615509000106', '34379797000100', '34788645000152',\n",
       "       '35865185870', '36999842000146', '39452748000160',\n",
       "       '40131537000105', '40220898000128', '40274237000185',\n",
       "       '40734984000159', '41342716000154', '42343998000177',\n",
       "       '43241204000127', '43473645000154', '44044562000102',\n",
       "       '45169346000156', '46218314000166', '46940235787',\n",
       "       '47101984000160', '47941098000145', '48489837000172',\n",
       "       '48624749000136', '48920400000141', '49006412000128',\n",
       "       '49287499000159', '49932039772', '510001', '51234341000162',\n",
       "       '52704921000139', '54611288668', '67403154000103', '69315850106',\n",
       "       '70797366334', '70886644615', '71346480000195', '73514580000109',\n",
       "       '75729466668', '80531580644', '88014006000169', '02700680669',\n",
       "       '02852112698', '04567265000127', '13754000000129', '98488040644'],\n",
       "      dtype=object)"
      ]
     },
     "execution_count": 24,
     "metadata": {},
     "output_type": "execute_result"
    }
   ],
   "source": [
    "# filtrando dos dados da coluna FAV\n",
    "df_cnpj = df[df['NOME_PI'] != 'PROFISSIONAL DE SAUDE AUTONOMO']\n",
    "df_cnpj = df[df['NOME_PI'] != 'ATENDIMENTO MEDICO-HOPITALR/FC']\n",
    "df_cnpj = df[df['NOME_PI'] != 'IND-INDENIZACOES']\n",
    "df_cnpj = df[df['NOME_PI'] != 'IND - INDENIZACOES']\n",
    "df_cnpj = df[df['NOME_PI'] != 'INDENIZACAO DESPESAS.']\n",
    "df_cnpj = df[df['NOME_PI'] != 'AUXILIO FINANCEIRO NÃO INDENIZÁVEL']\n",
    "df_cnpj = df[df['NOME_PI'] != 'INRE - RESTITUICAO E RESSARCIMENTO']\n",
    "df_cnpj = df[df['NOME_NDSI'] != 'OUTROS SERV.DE TERCEIROS PJ- PAGTO ANTECIPADO']\n",
    "df_cnpj = df[df['CREDOR'] != '160129']\n",
    "\n",
    "df_cnpj['CREDOR'].unique()"
   ]
  },
  {
   "cell_type": "code",
   "execution_count": 25,
   "metadata": {},
   "outputs": [
    {
     "data": {
      "text/html": [
       "<div>\n",
       "<style scoped>\n",
       "    .dataframe tbody tr th:only-of-type {\n",
       "        vertical-align: middle;\n",
       "    }\n",
       "\n",
       "    .dataframe tbody tr th {\n",
       "        vertical-align: top;\n",
       "    }\n",
       "\n",
       "    .dataframe thead th {\n",
       "        text-align: right;\n",
       "    }\n",
       "</style>\n",
       "<table border=\"1\" class=\"dataframe\">\n",
       "  <thead>\n",
       "    <tr style=\"text-align: right;\">\n",
       "      <th></th>\n",
       "      <th>UG</th>\n",
       "      <th>SIGLA UG</th>\n",
       "      <th>ACAO</th>\n",
       "      <th>NOME_ACAO</th>\n",
       "      <th>ANO</th>\n",
       "      <th>CREDOR</th>\n",
       "      <th>NOME_CREDOR</th>\n",
       "      <th>DATA</th>\n",
       "      <th>DIAS</th>\n",
       "      <th>ICFEX</th>\n",
       "      <th>NOME_ICFEX</th>\n",
       "      <th>ND</th>\n",
       "      <th>NOME_ND</th>\n",
       "      <th>NDSI</th>\n",
       "      <th>NOME_NDSI</th>\n",
       "      <th>NE</th>\n",
       "      <th>PI</th>\n",
       "      <th>NOME_PI</th>\n",
       "      <th>PROGRAMA</th>\n",
       "      <th>PTRES</th>\n",
       "      <th>TIPO</th>\n",
       "      <th>TIPO_NE</th>\n",
       "      <th>LOCAL</th>\n",
       "      <th>UF_CREDOR</th>\n",
       "      <th>UF_UG</th>\n",
       "      <th>UGR</th>\n",
       "      <th>NOME_UGR</th>\n",
       "      <th>RADPI4</th>\n",
       "      <th>MEIPI3</th>\n",
       "      <th>SUFPI4</th>\n",
       "      <th>A_LIQUIDAR</th>\n",
       "      <th>LIQUIDADO_A_PAGAR</th>\n",
       "      <th>TOTAL_A_PAGAR</th>\n",
       "      <th>PAGO</th>\n",
       "    </tr>\n",
       "  </thead>\n",
       "  <tbody>\n",
       "  </tbody>\n",
       "</table>\n",
       "</div>"
      ],
      "text/plain": [
       "Empty DataFrame\n",
       "Columns: [UG, SIGLA UG, ACAO, NOME_ACAO, ANO, CREDOR, NOME_CREDOR, DATA, DIAS, ICFEX, NOME_ICFEX, ND, NOME_ND, NDSI, NOME_NDSI, NE, PI, NOME_PI, PROGRAMA, PTRES, TIPO, TIPO_NE, LOCAL, UF_CREDOR, UF_UG, UGR, NOME_UGR, RADPI4, MEIPI3, SUFPI4, A_LIQUIDAR, LIQUIDADO_A_PAGAR, TOTAL_A_PAGAR, PAGO]\n",
       "Index: []"
      ]
     },
     "execution_count": 25,
     "metadata": {},
     "output_type": "execute_result"
    }
   ],
   "source": [
    "df_cnpj[df_cnpj['CREDOR'] == '160129']"
   ]
  },
  {
   "cell_type": "code",
   "execution_count": 26,
   "metadata": {},
   "outputs": [
    {
     "data": {
      "text/html": [
       "<div>\n",
       "<style scoped>\n",
       "    .dataframe tbody tr th:only-of-type {\n",
       "        vertical-align: middle;\n",
       "    }\n",
       "\n",
       "    .dataframe tbody tr th {\n",
       "        vertical-align: top;\n",
       "    }\n",
       "\n",
       "    .dataframe thead th {\n",
       "        text-align: right;\n",
       "    }\n",
       "</style>\n",
       "<table border=\"1\" class=\"dataframe\">\n",
       "  <thead>\n",
       "    <tr style=\"text-align: right;\">\n",
       "      <th></th>\n",
       "      <th>UG</th>\n",
       "      <th>SIGLA UG</th>\n",
       "      <th>ACAO</th>\n",
       "      <th>NOME_ACAO</th>\n",
       "      <th>ANO</th>\n",
       "      <th>CREDOR</th>\n",
       "      <th>NOME_CREDOR</th>\n",
       "      <th>DATA</th>\n",
       "      <th>DIAS</th>\n",
       "      <th>ICFEX</th>\n",
       "      <th>NOME_ICFEX</th>\n",
       "      <th>ND</th>\n",
       "      <th>NOME_ND</th>\n",
       "      <th>NDSI</th>\n",
       "      <th>NOME_NDSI</th>\n",
       "      <th>NE</th>\n",
       "      <th>PI</th>\n",
       "      <th>NOME_PI</th>\n",
       "      <th>PROGRAMA</th>\n",
       "      <th>PTRES</th>\n",
       "      <th>TIPO</th>\n",
       "      <th>TIPO_NE</th>\n",
       "      <th>LOCAL</th>\n",
       "      <th>UF_CREDOR</th>\n",
       "      <th>UF_UG</th>\n",
       "      <th>UGR</th>\n",
       "      <th>NOME_UGR</th>\n",
       "      <th>RADPI4</th>\n",
       "      <th>MEIPI3</th>\n",
       "      <th>SUFPI4</th>\n",
       "      <th>A_LIQUIDAR</th>\n",
       "      <th>LIQUIDADO_A_PAGAR</th>\n",
       "      <th>TOTAL_A_PAGAR</th>\n",
       "      <th>PAGO</th>\n",
       "    </tr>\n",
       "  </thead>\n",
       "  <tbody>\n",
       "    <tr>\n",
       "      <th>0</th>\n",
       "      <td>160129</td>\n",
       "      <td>ESA</td>\n",
       "      <td>156M</td>\n",
       "      <td>MODERNIZACAO E TRANSFORMACAO ESTRATEG</td>\n",
       "      <td>2023</td>\n",
       "      <td>33658130000175</td>\n",
       "      <td>FIEL COMERCIAL E SERVICOS LTDA</td>\n",
       "      <td>2023-10-10</td>\n",
       "      <td>10</td>\n",
       "      <td>160533</td>\n",
       "      <td>4º CGCFEX</td>\n",
       "      <td>339039</td>\n",
       "      <td>OUTROS SERVICOS DE TERCEIROS - PESSOA JURIDICA</td>\n",
       "      <td>33903916</td>\n",
       "      <td>MANUTENCAO E CONSERV. DE BENS IMOVEIS</td>\n",
       "      <td>2023NE001252</td>\n",
       "      <td>FIL311XARTC</td>\n",
       "      <td>CONSTRUIR E ADEQUAR INST SIST EDU E CULT EB</td>\n",
       "      <td>6012</td>\n",
       "      <td>215822</td>\n",
       "      <td>ANO</td>\n",
       "      <td>ORDINARIO</td>\n",
       "      <td>ESCOLA DE SARGENTOS DAS ARMAS</td>\n",
       "      <td>SP</td>\n",
       "      <td>MG</td>\n",
       "      <td>160502</td>\n",
       "      <td>DEC-GESTOR</td>\n",
       "      <td>FIL3</td>\n",
       "      <td>11X</td>\n",
       "      <td>ARTC</td>\n",
       "      <td>300000.0</td>\n",
       "      <td>0.0</td>\n",
       "      <td>300000.0</td>\n",
       "      <td>0.0</td>\n",
       "    </tr>\n",
       "    <tr>\n",
       "      <th>32</th>\n",
       "      <td>160129</td>\n",
       "      <td>ESA</td>\n",
       "      <td>2000</td>\n",
       "      <td>ADMINISTRACAO DA UNIDADE</td>\n",
       "      <td>2023</td>\n",
       "      <td>00139736000145</td>\n",
       "      <td>TECELAGEM SAO DOMINGOS LTDA</td>\n",
       "      <td>2023-09-12</td>\n",
       "      <td>38</td>\n",
       "      <td>160533</td>\n",
       "      <td>4º CGCFEX</td>\n",
       "      <td>339030</td>\n",
       "      <td>MATERIAL DE CONSUMO</td>\n",
       "      <td>33903022</td>\n",
       "      <td>MATERIAL DE LIMPEZA E PROD. DE HIGIENIZACAO</td>\n",
       "      <td>2023NE001136</td>\n",
       "      <td>I3DAFUNADOM</td>\n",
       "      <td>ADMINISTRACAO DE OM</td>\n",
       "      <td>0032</td>\n",
       "      <td>171460</td>\n",
       "      <td>ANO</td>\n",
       "      <td>ORDINARIO</td>\n",
       "      <td>ESCOLA DE SARGENTOS DAS ARMAS  - AVENIDA SETE ...</td>\n",
       "      <td>MG</td>\n",
       "      <td>MG</td>\n",
       "      <td>160073</td>\n",
       "      <td>DGO</td>\n",
       "      <td>I3DA</td>\n",
       "      <td>FUN</td>\n",
       "      <td>ADOM</td>\n",
       "      <td>0.0</td>\n",
       "      <td>0.0</td>\n",
       "      <td>0.0</td>\n",
       "      <td>450.0</td>\n",
       "    </tr>\n",
       "    <tr>\n",
       "      <th>33</th>\n",
       "      <td>160129</td>\n",
       "      <td>ESA</td>\n",
       "      <td>2000</td>\n",
       "      <td>ADMINISTRACAO DA UNIDADE</td>\n",
       "      <td>2023</td>\n",
       "      <td>01255291000121</td>\n",
       "      <td>H.A DISTRIBUIDORA LTDA</td>\n",
       "      <td>2023-04-11</td>\n",
       "      <td>192</td>\n",
       "      <td>160533</td>\n",
       "      <td>4º CGCFEX</td>\n",
       "      <td>339030</td>\n",
       "      <td>MATERIAL DE CONSUMO</td>\n",
       "      <td>33903022</td>\n",
       "      <td>MATERIAL DE LIMPEZA E PROD. DE HIGIENIZACAO</td>\n",
       "      <td>2023NE000361</td>\n",
       "      <td>I3DAFUNADOM</td>\n",
       "      <td>ADMINISTRACAO DE OM</td>\n",
       "      <td>0032</td>\n",
       "      <td>171460</td>\n",
       "      <td>ANO</td>\n",
       "      <td>ORDINARIO</td>\n",
       "      <td>ESCOLA DE SARGENTOS DAS ARMAS, AVENIDA SETE DE...</td>\n",
       "      <td>MG</td>\n",
       "      <td>MG</td>\n",
       "      <td>160073</td>\n",
       "      <td>DGO</td>\n",
       "      <td>I3DA</td>\n",
       "      <td>FUN</td>\n",
       "      <td>ADOM</td>\n",
       "      <td>0.0</td>\n",
       "      <td>0.0</td>\n",
       "      <td>0.0</td>\n",
       "      <td>2646.0</td>\n",
       "    </tr>\n",
       "    <tr>\n",
       "      <th>34</th>\n",
       "      <td>160129</td>\n",
       "      <td>ESA</td>\n",
       "      <td>2000</td>\n",
       "      <td>ADMINISTRACAO DA UNIDADE</td>\n",
       "      <td>2023</td>\n",
       "      <td>01255291000121</td>\n",
       "      <td>H.A DISTRIBUIDORA LTDA</td>\n",
       "      <td>2023-06-22</td>\n",
       "      <td>120</td>\n",
       "      <td>160533</td>\n",
       "      <td>4º CGCFEX</td>\n",
       "      <td>339030</td>\n",
       "      <td>MATERIAL DE CONSUMO</td>\n",
       "      <td>33903022</td>\n",
       "      <td>MATERIAL DE LIMPEZA E PROD. DE HIGIENIZACAO</td>\n",
       "      <td>2023NE000737</td>\n",
       "      <td>I3DAFUNADOM</td>\n",
       "      <td>ADMINISTRACAO DE OM</td>\n",
       "      <td>0032</td>\n",
       "      <td>171460</td>\n",
       "      <td>ANO</td>\n",
       "      <td>ORDINARIO</td>\n",
       "      <td>ESCOLA DE SARGENTOS DAS ARMAS  - AVENIDA SETE ...</td>\n",
       "      <td>MG</td>\n",
       "      <td>MG</td>\n",
       "      <td>160073</td>\n",
       "      <td>DGO</td>\n",
       "      <td>I3DA</td>\n",
       "      <td>FUN</td>\n",
       "      <td>ADOM</td>\n",
       "      <td>0.0</td>\n",
       "      <td>0.0</td>\n",
       "      <td>0.0</td>\n",
       "      <td>4647.0</td>\n",
       "    </tr>\n",
       "    <tr>\n",
       "      <th>35</th>\n",
       "      <td>160129</td>\n",
       "      <td>ESA</td>\n",
       "      <td>2000</td>\n",
       "      <td>ADMINISTRACAO DA UNIDADE</td>\n",
       "      <td>2023</td>\n",
       "      <td>01255291000121</td>\n",
       "      <td>H.A DISTRIBUIDORA LTDA</td>\n",
       "      <td>2023-07-31</td>\n",
       "      <td>81</td>\n",
       "      <td>160533</td>\n",
       "      <td>4º CGCFEX</td>\n",
       "      <td>339030</td>\n",
       "      <td>MATERIAL DE CONSUMO</td>\n",
       "      <td>33903022</td>\n",
       "      <td>MATERIAL DE LIMPEZA E PROD. DE HIGIENIZACAO</td>\n",
       "      <td>2023NE000930</td>\n",
       "      <td>I3DAFUNADOM</td>\n",
       "      <td>ADMINISTRACAO DE OM</td>\n",
       "      <td>0032</td>\n",
       "      <td>171460</td>\n",
       "      <td>ANO</td>\n",
       "      <td>ORDINARIO</td>\n",
       "      <td>ESCOLA DE SARGENTOS DAS ARMAS  - AVENIDA SETE ...</td>\n",
       "      <td>MG</td>\n",
       "      <td>MG</td>\n",
       "      <td>160073</td>\n",
       "      <td>DGO</td>\n",
       "      <td>I3DA</td>\n",
       "      <td>FUN</td>\n",
       "      <td>ADOM</td>\n",
       "      <td>0.0</td>\n",
       "      <td>0.0</td>\n",
       "      <td>0.0</td>\n",
       "      <td>2211.2</td>\n",
       "    </tr>\n",
       "    <tr>\n",
       "      <th>...</th>\n",
       "      <td>...</td>\n",
       "      <td>...</td>\n",
       "      <td>...</td>\n",
       "      <td>...</td>\n",
       "      <td>...</td>\n",
       "      <td>...</td>\n",
       "      <td>...</td>\n",
       "      <td>...</td>\n",
       "      <td>...</td>\n",
       "      <td>...</td>\n",
       "      <td>...</td>\n",
       "      <td>...</td>\n",
       "      <td>...</td>\n",
       "      <td>...</td>\n",
       "      <td>...</td>\n",
       "      <td>...</td>\n",
       "      <td>...</td>\n",
       "      <td>...</td>\n",
       "      <td>...</td>\n",
       "      <td>...</td>\n",
       "      <td>...</td>\n",
       "      <td>...</td>\n",
       "      <td>...</td>\n",
       "      <td>...</td>\n",
       "      <td>...</td>\n",
       "      <td>...</td>\n",
       "      <td>...</td>\n",
       "      <td>...</td>\n",
       "      <td>...</td>\n",
       "      <td>...</td>\n",
       "      <td>...</td>\n",
       "      <td>...</td>\n",
       "      <td>...</td>\n",
       "      <td>...</td>\n",
       "    </tr>\n",
       "    <tr>\n",
       "      <th>3126</th>\n",
       "      <td>167129</td>\n",
       "      <td>ESA</td>\n",
       "      <td>2919</td>\n",
       "      <td>REGISTRO E FISCALIZACAO DE PRODUTOS C</td>\n",
       "      <td>2023</td>\n",
       "      <td>65095531000150</td>\n",
       "      <td>LOGOS PAPELARIA LTDA</td>\n",
       "      <td>2023-05-25</td>\n",
       "      <td>148</td>\n",
       "      <td>160533</td>\n",
       "      <td>4º CGCFEX</td>\n",
       "      <td>449052</td>\n",
       "      <td>EQUIPAMENTOS E MATERIAL PERMANENTE</td>\n",
       "      <td>44905245</td>\n",
       "      <td>EQUIPAMENTOS DE TIC - IMPRESSORAS</td>\n",
       "      <td>2023NE001044</td>\n",
       "      <td>E3PCFSCINFO</td>\n",
       "      <td>INFORMATICA</td>\n",
       "      <td>6012</td>\n",
       "      <td>215839</td>\n",
       "      <td>ANO</td>\n",
       "      <td>ORDINARIO</td>\n",
       "      <td>ESCOLA DE SARGENTOS DAS ARMAS  - AVENIDA SETE ...</td>\n",
       "      <td>MG</td>\n",
       "      <td>MG</td>\n",
       "      <td>167504</td>\n",
       "      <td>COEX - GESTOR</td>\n",
       "      <td>E3PC</td>\n",
       "      <td>FSC</td>\n",
       "      <td>INFO</td>\n",
       "      <td>0.0</td>\n",
       "      <td>0.0</td>\n",
       "      <td>0.0</td>\n",
       "      <td>1800.0</td>\n",
       "    </tr>\n",
       "    <tr>\n",
       "      <th>3127</th>\n",
       "      <td>167129</td>\n",
       "      <td>ESA</td>\n",
       "      <td>2919</td>\n",
       "      <td>REGISTRO E FISCALIZACAO DE PRODUTOS C</td>\n",
       "      <td>2023</td>\n",
       "      <td>81243735000903</td>\n",
       "      <td>POSITIVO TECNOLOGIA S.A.</td>\n",
       "      <td>2023-02-15</td>\n",
       "      <td>247</td>\n",
       "      <td>160533</td>\n",
       "      <td>4º CGCFEX</td>\n",
       "      <td>449052</td>\n",
       "      <td>EQUIPAMENTOS E MATERIAL PERMANENTE</td>\n",
       "      <td>44905241</td>\n",
       "      <td>EQUIPAMENTOS DE TIC - COMPUTADORES</td>\n",
       "      <td>2023NE000261</td>\n",
       "      <td>E3PCFSCINFO</td>\n",
       "      <td>INFORMATICA</td>\n",
       "      <td>6012</td>\n",
       "      <td>215839</td>\n",
       "      <td>ANO</td>\n",
       "      <td>ORDINARIO</td>\n",
       "      <td>ESCOLA DE SARGENTOS DAS ARMAS  - AVENIDA SETE ...</td>\n",
       "      <td>BA</td>\n",
       "      <td>MG</td>\n",
       "      <td>167504</td>\n",
       "      <td>COEX - GESTOR</td>\n",
       "      <td>E3PC</td>\n",
       "      <td>FSC</td>\n",
       "      <td>INFO</td>\n",
       "      <td>0.0</td>\n",
       "      <td>0.0</td>\n",
       "      <td>0.0</td>\n",
       "      <td>7114.0</td>\n",
       "    </tr>\n",
       "    <tr>\n",
       "      <th>3128</th>\n",
       "      <td>167129</td>\n",
       "      <td>ESA</td>\n",
       "      <td>2919</td>\n",
       "      <td>REGISTRO E FISCALIZACAO DE PRODUTOS C</td>\n",
       "      <td>2023</td>\n",
       "      <td>98488040644</td>\n",
       "      <td>MARIO HENRIQUE CUBBI</td>\n",
       "      <td>2023-05-22</td>\n",
       "      <td>151</td>\n",
       "      <td>160533</td>\n",
       "      <td>4º CGCFEX</td>\n",
       "      <td>339030</td>\n",
       "      <td>MATERIAL DE CONSUMO</td>\n",
       "      <td>33903001</td>\n",
       "      <td>COMBUSTIVEIS E LUBRIFICANTES AUTOMOTIVOS</td>\n",
       "      <td>2023NE001035</td>\n",
       "      <td>E3PCFSCCOLU</td>\n",
       "      <td>COMBUSTIVEIS E LUBRIFICANTES</td>\n",
       "      <td>6012</td>\n",
       "      <td>215839</td>\n",
       "      <td>ANO</td>\n",
       "      <td>ORDINARIO</td>\n",
       "      <td>ESCOLA DE SARGENTOS DAS ARMAS  - AVENIDA SETE ...</td>\n",
       "      <td>MG</td>\n",
       "      <td>MG</td>\n",
       "      <td>167504</td>\n",
       "      <td>COEX - GESTOR</td>\n",
       "      <td>E3PC</td>\n",
       "      <td>FSC</td>\n",
       "      <td>COLU</td>\n",
       "      <td>0.0</td>\n",
       "      <td>0.0</td>\n",
       "      <td>0.0</td>\n",
       "      <td>2236.2</td>\n",
       "    </tr>\n",
       "    <tr>\n",
       "      <th>3129</th>\n",
       "      <td>167129</td>\n",
       "      <td>ESA</td>\n",
       "      <td>2919</td>\n",
       "      <td>REGISTRO E FISCALIZACAO DE PRODUTOS C</td>\n",
       "      <td>2023</td>\n",
       "      <td>98488040644</td>\n",
       "      <td>MARIO HENRIQUE CUBBI</td>\n",
       "      <td>2023-08-31</td>\n",
       "      <td>50</td>\n",
       "      <td>160533</td>\n",
       "      <td>4º CGCFEX</td>\n",
       "      <td>339030</td>\n",
       "      <td>MATERIAL DE CONSUMO</td>\n",
       "      <td>33903096</td>\n",
       "      <td>MATERIAL DE CONSUMO - PAGTO ANTECIPADO</td>\n",
       "      <td>2023NE001506</td>\n",
       "      <td>E3PCOPFCOLU</td>\n",
       "      <td>COMBUSTIVEL E LUBRIFICANTES</td>\n",
       "      <td>6012</td>\n",
       "      <td>215839</td>\n",
       "      <td>ANO</td>\n",
       "      <td>ORDINARIO</td>\n",
       "      <td>ESCOLA DE SARGENTOS DAS ARMAS  - AVENIDA SETE ...</td>\n",
       "      <td>MG</td>\n",
       "      <td>MG</td>\n",
       "      <td>167504</td>\n",
       "      <td>COEX - GESTOR</td>\n",
       "      <td>E3PC</td>\n",
       "      <td>OPF</td>\n",
       "      <td>COLU</td>\n",
       "      <td>0.0</td>\n",
       "      <td>0.0</td>\n",
       "      <td>0.0</td>\n",
       "      <td>675.0</td>\n",
       "    </tr>\n",
       "    <tr>\n",
       "      <th>3130</th>\n",
       "      <td>167129</td>\n",
       "      <td>ESA</td>\n",
       "      <td>2919</td>\n",
       "      <td>REGISTRO E FISCALIZACAO DE PRODUTOS C</td>\n",
       "      <td>2023</td>\n",
       "      <td>98488040644</td>\n",
       "      <td>MARIO HENRIQUE CUBBI</td>\n",
       "      <td>2023-10-06</td>\n",
       "      <td>14</td>\n",
       "      <td>160533</td>\n",
       "      <td>4º CGCFEX</td>\n",
       "      <td>339030</td>\n",
       "      <td>MATERIAL DE CONSUMO</td>\n",
       "      <td>33903096</td>\n",
       "      <td>MATERIAL DE CONSUMO - PAGTO ANTECIPADO</td>\n",
       "      <td>2023NE001640</td>\n",
       "      <td>E3PCOPFCOLU</td>\n",
       "      <td>COMBUSTIVEL E LUBRIFICANTES</td>\n",
       "      <td>6012</td>\n",
       "      <td>215839</td>\n",
       "      <td>ANO</td>\n",
       "      <td>ORDINARIO</td>\n",
       "      <td>ESCOLA DE SARGENTOS DAS ARMAS  - AVENIDA SETE ...</td>\n",
       "      <td>MG</td>\n",
       "      <td>MG</td>\n",
       "      <td>167504</td>\n",
       "      <td>COEX - GESTOR</td>\n",
       "      <td>E3PC</td>\n",
       "      <td>OPF</td>\n",
       "      <td>COLU</td>\n",
       "      <td>600.0</td>\n",
       "      <td>0.0</td>\n",
       "      <td>600.0</td>\n",
       "      <td>0.0</td>\n",
       "    </tr>\n",
       "  </tbody>\n",
       "</table>\n",
       "<p>2814 rows × 34 columns</p>\n",
       "</div>"
      ],
      "text/plain": [
       "          UG SIGLA UG  ACAO                              NOME_ACAO   ANO  \\\n",
       "0     160129      ESA  156M  MODERNIZACAO E TRANSFORMACAO ESTRATEG  2023   \n",
       "32    160129      ESA  2000               ADMINISTRACAO DA UNIDADE  2023   \n",
       "33    160129      ESA  2000               ADMINISTRACAO DA UNIDADE  2023   \n",
       "34    160129      ESA  2000               ADMINISTRACAO DA UNIDADE  2023   \n",
       "35    160129      ESA  2000               ADMINISTRACAO DA UNIDADE  2023   \n",
       "...      ...      ...   ...                                    ...   ...   \n",
       "3126  167129      ESA  2919  REGISTRO E FISCALIZACAO DE PRODUTOS C  2023   \n",
       "3127  167129      ESA  2919  REGISTRO E FISCALIZACAO DE PRODUTOS C  2023   \n",
       "3128  167129      ESA  2919  REGISTRO E FISCALIZACAO DE PRODUTOS C  2023   \n",
       "3129  167129      ESA  2919  REGISTRO E FISCALIZACAO DE PRODUTOS C  2023   \n",
       "3130  167129      ESA  2919  REGISTRO E FISCALIZACAO DE PRODUTOS C  2023   \n",
       "\n",
       "              CREDOR                     NOME_CREDOR       DATA  DIAS   ICFEX  \\\n",
       "0     33658130000175  FIEL COMERCIAL E SERVICOS LTDA 2023-10-10    10  160533   \n",
       "32    00139736000145     TECELAGEM SAO DOMINGOS LTDA 2023-09-12    38  160533   \n",
       "33    01255291000121          H.A DISTRIBUIDORA LTDA 2023-04-11   192  160533   \n",
       "34    01255291000121          H.A DISTRIBUIDORA LTDA 2023-06-22   120  160533   \n",
       "35    01255291000121          H.A DISTRIBUIDORA LTDA 2023-07-31    81  160533   \n",
       "...              ...                             ...        ...   ...     ...   \n",
       "3126  65095531000150            LOGOS PAPELARIA LTDA 2023-05-25   148  160533   \n",
       "3127  81243735000903        POSITIVO TECNOLOGIA S.A. 2023-02-15   247  160533   \n",
       "3128     98488040644            MARIO HENRIQUE CUBBI 2023-05-22   151  160533   \n",
       "3129     98488040644            MARIO HENRIQUE CUBBI 2023-08-31    50  160533   \n",
       "3130     98488040644            MARIO HENRIQUE CUBBI 2023-10-06    14  160533   \n",
       "\n",
       "     NOME_ICFEX      ND                                         NOME_ND  \\\n",
       "0     4º CGCFEX  339039  OUTROS SERVICOS DE TERCEIROS - PESSOA JURIDICA   \n",
       "32    4º CGCFEX  339030                             MATERIAL DE CONSUMO   \n",
       "33    4º CGCFEX  339030                             MATERIAL DE CONSUMO   \n",
       "34    4º CGCFEX  339030                             MATERIAL DE CONSUMO   \n",
       "35    4º CGCFEX  339030                             MATERIAL DE CONSUMO   \n",
       "...         ...     ...                                             ...   \n",
       "3126  4º CGCFEX  449052              EQUIPAMENTOS E MATERIAL PERMANENTE   \n",
       "3127  4º CGCFEX  449052              EQUIPAMENTOS E MATERIAL PERMANENTE   \n",
       "3128  4º CGCFEX  339030                             MATERIAL DE CONSUMO   \n",
       "3129  4º CGCFEX  339030                             MATERIAL DE CONSUMO   \n",
       "3130  4º CGCFEX  339030                             MATERIAL DE CONSUMO   \n",
       "\n",
       "          NDSI                                    NOME_NDSI            NE  \\\n",
       "0     33903916        MANUTENCAO E CONSERV. DE BENS IMOVEIS  2023NE001252   \n",
       "32    33903022  MATERIAL DE LIMPEZA E PROD. DE HIGIENIZACAO  2023NE001136   \n",
       "33    33903022  MATERIAL DE LIMPEZA E PROD. DE HIGIENIZACAO  2023NE000361   \n",
       "34    33903022  MATERIAL DE LIMPEZA E PROD. DE HIGIENIZACAO  2023NE000737   \n",
       "35    33903022  MATERIAL DE LIMPEZA E PROD. DE HIGIENIZACAO  2023NE000930   \n",
       "...        ...                                          ...           ...   \n",
       "3126  44905245            EQUIPAMENTOS DE TIC - IMPRESSORAS  2023NE001044   \n",
       "3127  44905241           EQUIPAMENTOS DE TIC - COMPUTADORES  2023NE000261   \n",
       "3128  33903001     COMBUSTIVEIS E LUBRIFICANTES AUTOMOTIVOS  2023NE001035   \n",
       "3129  33903096       MATERIAL DE CONSUMO - PAGTO ANTECIPADO  2023NE001506   \n",
       "3130  33903096       MATERIAL DE CONSUMO - PAGTO ANTECIPADO  2023NE001640   \n",
       "\n",
       "               PI                                      NOME_PI PROGRAMA  \\\n",
       "0     FIL311XARTC  CONSTRUIR E ADEQUAR INST SIST EDU E CULT EB     6012   \n",
       "32    I3DAFUNADOM                          ADMINISTRACAO DE OM     0032   \n",
       "33    I3DAFUNADOM                          ADMINISTRACAO DE OM     0032   \n",
       "34    I3DAFUNADOM                          ADMINISTRACAO DE OM     0032   \n",
       "35    I3DAFUNADOM                          ADMINISTRACAO DE OM     0032   \n",
       "...           ...                                          ...      ...   \n",
       "3126  E3PCFSCINFO                                  INFORMATICA     6012   \n",
       "3127  E3PCFSCINFO                                  INFORMATICA     6012   \n",
       "3128  E3PCFSCCOLU                 COMBUSTIVEIS E LUBRIFICANTES     6012   \n",
       "3129  E3PCOPFCOLU                  COMBUSTIVEL E LUBRIFICANTES     6012   \n",
       "3130  E3PCOPFCOLU                  COMBUSTIVEL E LUBRIFICANTES     6012   \n",
       "\n",
       "       PTRES TIPO    TIPO_NE  \\\n",
       "0     215822  ANO  ORDINARIO   \n",
       "32    171460  ANO  ORDINARIO   \n",
       "33    171460  ANO  ORDINARIO   \n",
       "34    171460  ANO  ORDINARIO   \n",
       "35    171460  ANO  ORDINARIO   \n",
       "...      ...  ...        ...   \n",
       "3126  215839  ANO  ORDINARIO   \n",
       "3127  215839  ANO  ORDINARIO   \n",
       "3128  215839  ANO  ORDINARIO   \n",
       "3129  215839  ANO  ORDINARIO   \n",
       "3130  215839  ANO  ORDINARIO   \n",
       "\n",
       "                                                  LOCAL UF_CREDOR UF_UG  \\\n",
       "0                         ESCOLA DE SARGENTOS DAS ARMAS        SP    MG   \n",
       "32    ESCOLA DE SARGENTOS DAS ARMAS  - AVENIDA SETE ...        MG    MG   \n",
       "33    ESCOLA DE SARGENTOS DAS ARMAS, AVENIDA SETE DE...        MG    MG   \n",
       "34    ESCOLA DE SARGENTOS DAS ARMAS  - AVENIDA SETE ...        MG    MG   \n",
       "35    ESCOLA DE SARGENTOS DAS ARMAS  - AVENIDA SETE ...        MG    MG   \n",
       "...                                                 ...       ...   ...   \n",
       "3126  ESCOLA DE SARGENTOS DAS ARMAS  - AVENIDA SETE ...        MG    MG   \n",
       "3127  ESCOLA DE SARGENTOS DAS ARMAS  - AVENIDA SETE ...        BA    MG   \n",
       "3128  ESCOLA DE SARGENTOS DAS ARMAS  - AVENIDA SETE ...        MG    MG   \n",
       "3129  ESCOLA DE SARGENTOS DAS ARMAS  - AVENIDA SETE ...        MG    MG   \n",
       "3130  ESCOLA DE SARGENTOS DAS ARMAS  - AVENIDA SETE ...        MG    MG   \n",
       "\n",
       "         UGR       NOME_UGR RADPI4 MEIPI3 SUFPI4  A_LIQUIDAR  \\\n",
       "0     160502     DEC-GESTOR   FIL3    11X   ARTC    300000.0   \n",
       "32    160073            DGO   I3DA    FUN   ADOM         0.0   \n",
       "33    160073            DGO   I3DA    FUN   ADOM         0.0   \n",
       "34    160073            DGO   I3DA    FUN   ADOM         0.0   \n",
       "35    160073            DGO   I3DA    FUN   ADOM         0.0   \n",
       "...      ...            ...    ...    ...    ...         ...   \n",
       "3126  167504  COEX - GESTOR   E3PC    FSC   INFO         0.0   \n",
       "3127  167504  COEX - GESTOR   E3PC    FSC   INFO         0.0   \n",
       "3128  167504  COEX - GESTOR   E3PC    FSC   COLU         0.0   \n",
       "3129  167504  COEX - GESTOR   E3PC    OPF   COLU         0.0   \n",
       "3130  167504  COEX - GESTOR   E3PC    OPF   COLU       600.0   \n",
       "\n",
       "      LIQUIDADO_A_PAGAR  TOTAL_A_PAGAR    PAGO  \n",
       "0                   0.0       300000.0     0.0  \n",
       "32                  0.0            0.0   450.0  \n",
       "33                  0.0            0.0  2646.0  \n",
       "34                  0.0            0.0  4647.0  \n",
       "35                  0.0            0.0  2211.2  \n",
       "...                 ...            ...     ...  \n",
       "3126                0.0            0.0  1800.0  \n",
       "3127                0.0            0.0  7114.0  \n",
       "3128                0.0            0.0  2236.2  \n",
       "3129                0.0            0.0   675.0  \n",
       "3130                0.0          600.0     0.0  \n",
       "\n",
       "[2814 rows x 34 columns]"
      ]
     },
     "execution_count": 26,
     "metadata": {},
     "output_type": "execute_result"
    }
   ],
   "source": [
    "ano_atual = str(datetime.now().year)\n",
    "\n",
    "\n",
    "df_corrente = df[df['ANO'] == ano_atual]\n",
    "df_corrente"
   ]
  },
  {
   "cell_type": "code",
   "execution_count": 27,
   "metadata": {},
   "outputs": [
    {
     "data": {
      "text/plain": [
       "array(['2023', '2022', '2021'], dtype=object)"
      ]
     },
     "execution_count": 27,
     "metadata": {},
     "output_type": "execute_result"
    }
   ],
   "source": [
    "df['ANO'].unique()"
   ]
  },
  {
   "cell_type": "markdown",
   "metadata": {},
   "source": [
    "# Pesquisas no DataFrame"
   ]
  },
  {
   "cell_type": "code",
   "execution_count": 28,
   "metadata": {},
   "outputs": [
    {
     "data": {
      "text/html": [
       "<div>\n",
       "<style scoped>\n",
       "    .dataframe tbody tr th:only-of-type {\n",
       "        vertical-align: middle;\n",
       "    }\n",
       "\n",
       "    .dataframe tbody tr th {\n",
       "        vertical-align: top;\n",
       "    }\n",
       "\n",
       "    .dataframe thead th {\n",
       "        text-align: right;\n",
       "    }\n",
       "</style>\n",
       "<table border=\"1\" class=\"dataframe\">\n",
       "  <thead>\n",
       "    <tr style=\"text-align: right;\">\n",
       "      <th></th>\n",
       "      <th>UG</th>\n",
       "      <th>SIGLA UG</th>\n",
       "      <th>ACAO</th>\n",
       "      <th>NOME_ACAO</th>\n",
       "      <th>ANO</th>\n",
       "      <th>CREDOR</th>\n",
       "      <th>NOME_CREDOR</th>\n",
       "      <th>DATA</th>\n",
       "      <th>DIAS</th>\n",
       "      <th>ICFEX</th>\n",
       "      <th>NOME_ICFEX</th>\n",
       "      <th>ND</th>\n",
       "      <th>NOME_ND</th>\n",
       "      <th>NDSI</th>\n",
       "      <th>NOME_NDSI</th>\n",
       "      <th>NE</th>\n",
       "      <th>PI</th>\n",
       "      <th>NOME_PI</th>\n",
       "      <th>PROGRAMA</th>\n",
       "      <th>PTRES</th>\n",
       "      <th>TIPO</th>\n",
       "      <th>TIPO_NE</th>\n",
       "      <th>LOCAL</th>\n",
       "      <th>UF_CREDOR</th>\n",
       "      <th>UF_UG</th>\n",
       "      <th>UGR</th>\n",
       "      <th>NOME_UGR</th>\n",
       "      <th>RADPI4</th>\n",
       "      <th>MEIPI3</th>\n",
       "      <th>SUFPI4</th>\n",
       "      <th>A_LIQUIDAR</th>\n",
       "      <th>LIQUIDADO_A_PAGAR</th>\n",
       "      <th>TOTAL_A_PAGAR</th>\n",
       "      <th>PAGO</th>\n",
       "    </tr>\n",
       "  </thead>\n",
       "  <tbody>\n",
       "    <tr>\n",
       "      <th>0</th>\n",
       "      <td>160129</td>\n",
       "      <td>ESA</td>\n",
       "      <td>156M</td>\n",
       "      <td>MODERNIZACAO E TRANSFORMACAO ESTRATEG</td>\n",
       "      <td>2023</td>\n",
       "      <td>33658130000175</td>\n",
       "      <td>FIEL COMERCIAL E SERVICOS LTDA</td>\n",
       "      <td>2023-10-10</td>\n",
       "      <td>10</td>\n",
       "      <td>160533</td>\n",
       "      <td>4º CGCFEX</td>\n",
       "      <td>339039</td>\n",
       "      <td>OUTROS SERVICOS DE TERCEIROS - PESSOA JURIDICA</td>\n",
       "      <td>33903916</td>\n",
       "      <td>MANUTENCAO E CONSERV. DE BENS IMOVEIS</td>\n",
       "      <td>2023NE001252</td>\n",
       "      <td>FIL311XARTC</td>\n",
       "      <td>CONSTRUIR E ADEQUAR INST SIST EDU E CULT EB</td>\n",
       "      <td>6012</td>\n",
       "      <td>215822</td>\n",
       "      <td>ANO</td>\n",
       "      <td>ORDINARIO</td>\n",
       "      <td>ESCOLA DE SARGENTOS DAS ARMAS</td>\n",
       "      <td>SP</td>\n",
       "      <td>MG</td>\n",
       "      <td>160502</td>\n",
       "      <td>DEC-GESTOR</td>\n",
       "      <td>FIL3</td>\n",
       "      <td>11X</td>\n",
       "      <td>ARTC</td>\n",
       "      <td>300000.00</td>\n",
       "      <td>0.0</td>\n",
       "      <td>300000.00</td>\n",
       "      <td>0.00</td>\n",
       "    </tr>\n",
       "    <tr>\n",
       "      <th>1</th>\n",
       "      <td>160129</td>\n",
       "      <td>ESA</td>\n",
       "      <td>2000</td>\n",
       "      <td>ADMINISTRACAO DA UNIDADE</td>\n",
       "      <td>2022</td>\n",
       "      <td>01590728000850</td>\n",
       "      <td>MICROTECNICA INFORMATICA LTDA</td>\n",
       "      <td>2022-11-03</td>\n",
       "      <td>351</td>\n",
       "      <td>160533</td>\n",
       "      <td>4º CGCFEX</td>\n",
       "      <td>449052</td>\n",
       "      <td>EQUIPAMENTOS E MATERIAL PERMANENTE</td>\n",
       "      <td>44905241</td>\n",
       "      <td>EQUIPAMENTOS DE TIC - COMPUTADORES</td>\n",
       "      <td>2022NE001245</td>\n",
       "      <td>I3FPPREDEGE</td>\n",
       "      <td>DESPESAS GERAIS DAS UGE - GESTÃO EME.</td>\n",
       "      <td>0032</td>\n",
       "      <td>171460</td>\n",
       "      <td>RPNP</td>\n",
       "      <td>ORDINARIO</td>\n",
       "      <td>ESCOLA DE SARGENTOS DAS ARMAS  - AVENIDA SETE ...</td>\n",
       "      <td>MG</td>\n",
       "      <td>MG</td>\n",
       "      <td>160073</td>\n",
       "      <td>DGO</td>\n",
       "      <td>I3FP</td>\n",
       "      <td>PRE</td>\n",
       "      <td>DEGE</td>\n",
       "      <td>0.00</td>\n",
       "      <td>0.0</td>\n",
       "      <td>0.00</td>\n",
       "      <td>14637.78</td>\n",
       "    </tr>\n",
       "    <tr>\n",
       "      <th>2</th>\n",
       "      <td>160129</td>\n",
       "      <td>ESA</td>\n",
       "      <td>2000</td>\n",
       "      <td>ADMINISTRACAO DA UNIDADE</td>\n",
       "      <td>2022</td>\n",
       "      <td>01590728000850</td>\n",
       "      <td>MICROTECNICA INFORMATICA LTDA</td>\n",
       "      <td>2022-12-05</td>\n",
       "      <td>319</td>\n",
       "      <td>160533</td>\n",
       "      <td>4º CGCFEX</td>\n",
       "      <td>449052</td>\n",
       "      <td>EQUIPAMENTOS E MATERIAL PERMANENTE</td>\n",
       "      <td>44905241</td>\n",
       "      <td>EQUIPAMENTOS DE TIC - COMPUTADORES</td>\n",
       "      <td>2022NE002430</td>\n",
       "      <td>IXAPFUNDGOA</td>\n",
       "      <td>ADMINISTRACAO DAS OM</td>\n",
       "      <td>0032</td>\n",
       "      <td>171502</td>\n",
       "      <td>RPNP</td>\n",
       "      <td>ORDINARIO</td>\n",
       "      <td>ESCOLA DE SARGENTOS DAS ARMAS</td>\n",
       "      <td>MG</td>\n",
       "      <td>MG</td>\n",
       "      <td>160507</td>\n",
       "      <td>EME-GESTOR</td>\n",
       "      <td>IXAP</td>\n",
       "      <td>FUN</td>\n",
       "      <td>DGOA</td>\n",
       "      <td>0.00</td>\n",
       "      <td>0.0</td>\n",
       "      <td>0.00</td>\n",
       "      <td>21956.67</td>\n",
       "    </tr>\n",
       "    <tr>\n",
       "      <th>3</th>\n",
       "      <td>160129</td>\n",
       "      <td>ESA</td>\n",
       "      <td>2000</td>\n",
       "      <td>ADMINISTRACAO DA UNIDADE</td>\n",
       "      <td>2022</td>\n",
       "      <td>05872523000141</td>\n",
       "      <td>AEF - MANUTENCAO EM EQUIPAMENTOS INDUSTRIAIS LTDA</td>\n",
       "      <td>2022-04-12</td>\n",
       "      <td>556</td>\n",
       "      <td>160533</td>\n",
       "      <td>4º CGCFEX</td>\n",
       "      <td>339039</td>\n",
       "      <td>OUTROS SERVICOS DE TERCEIROS - PESSOA JURIDICA</td>\n",
       "      <td>33903917</td>\n",
       "      <td>MANUT. E CONSERV. DE MAQUINAS E EQUIPAMENTOS</td>\n",
       "      <td>2022NE000344</td>\n",
       "      <td>I3DACNTMABM</td>\n",
       "      <td>MNT DE MÁQ E EQP ADMINISTRATIVOS</td>\n",
       "      <td>0032</td>\n",
       "      <td>171460</td>\n",
       "      <td>RPNP</td>\n",
       "      <td>GLOBAL</td>\n",
       "      <td>ESCOLA DE SARGENTOS DAS ARMAS</td>\n",
       "      <td>MG</td>\n",
       "      <td>MG</td>\n",
       "      <td>160073</td>\n",
       "      <td>DGO</td>\n",
       "      <td>I3DA</td>\n",
       "      <td>CNT</td>\n",
       "      <td>MABM</td>\n",
       "      <td>0.00</td>\n",
       "      <td>0.0</td>\n",
       "      <td>0.00</td>\n",
       "      <td>7480.83</td>\n",
       "    </tr>\n",
       "    <tr>\n",
       "      <th>4</th>\n",
       "      <td>160129</td>\n",
       "      <td>ESA</td>\n",
       "      <td>2000</td>\n",
       "      <td>ADMINISTRACAO DA UNIDADE</td>\n",
       "      <td>2022</td>\n",
       "      <td>05872523000141</td>\n",
       "      <td>AEF - MANUTENCAO EM EQUIPAMENTOS INDUSTRIAIS LTDA</td>\n",
       "      <td>2022-06-09</td>\n",
       "      <td>498</td>\n",
       "      <td>160533</td>\n",
       "      <td>4º CGCFEX</td>\n",
       "      <td>339039</td>\n",
       "      <td>OUTROS SERVICOS DE TERCEIROS - PESSOA JURIDICA</td>\n",
       "      <td>33903917</td>\n",
       "      <td>MANUT. E CONSERV. DE MAQUINAS E EQUIPAMENTOS</td>\n",
       "      <td>2022NE000601</td>\n",
       "      <td>I3DACNTMABM</td>\n",
       "      <td>MNT DE MÁQ E EQP ADMINISTRATIVOS</td>\n",
       "      <td>0032</td>\n",
       "      <td>171460</td>\n",
       "      <td>RPP</td>\n",
       "      <td>GLOBAL</td>\n",
       "      <td>ESCOLA DE SARGENTOS DAS ARMAS</td>\n",
       "      <td>MG</td>\n",
       "      <td>MG</td>\n",
       "      <td>160073</td>\n",
       "      <td>DGO</td>\n",
       "      <td>I3DA</td>\n",
       "      <td>CNT</td>\n",
       "      <td>MABM</td>\n",
       "      <td>0.00</td>\n",
       "      <td>0.0</td>\n",
       "      <td>0.00</td>\n",
       "      <td>6780.83</td>\n",
       "    </tr>\n",
       "    <tr>\n",
       "      <th>5</th>\n",
       "      <td>160129</td>\n",
       "      <td>ESA</td>\n",
       "      <td>2000</td>\n",
       "      <td>ADMINISTRACAO DA UNIDADE</td>\n",
       "      <td>2022</td>\n",
       "      <td>05872523000141</td>\n",
       "      <td>AEF - MANUTENCAO EM EQUIPAMENTOS INDUSTRIAIS LTDA</td>\n",
       "      <td>2022-10-27</td>\n",
       "      <td>358</td>\n",
       "      <td>160533</td>\n",
       "      <td>4º CGCFEX</td>\n",
       "      <td>339039</td>\n",
       "      <td>OUTROS SERVICOS DE TERCEIROS - PESSOA JURIDICA</td>\n",
       "      <td>33903917</td>\n",
       "      <td>MANUT. E CONSERV. DE MAQUINAS E EQUIPAMENTOS</td>\n",
       "      <td>2022NE001220</td>\n",
       "      <td>I3DACNTMABM</td>\n",
       "      <td>MNT DE MÁQ E EQP ADMINISTRATIVOS</td>\n",
       "      <td>0032</td>\n",
       "      <td>203677</td>\n",
       "      <td>RPNP</td>\n",
       "      <td>GLOBAL</td>\n",
       "      <td>ESCOLA DE SARGENTOS DAS ARMAS</td>\n",
       "      <td>MG</td>\n",
       "      <td>MG</td>\n",
       "      <td>160073</td>\n",
       "      <td>DGO</td>\n",
       "      <td>I3DA</td>\n",
       "      <td>CNT</td>\n",
       "      <td>MABM</td>\n",
       "      <td>0.00</td>\n",
       "      <td>0.0</td>\n",
       "      <td>0.00</td>\n",
       "      <td>3238.56</td>\n",
       "    </tr>\n",
       "    <tr>\n",
       "      <th>6</th>\n",
       "      <td>160129</td>\n",
       "      <td>ESA</td>\n",
       "      <td>2000</td>\n",
       "      <td>ADMINISTRACAO DA UNIDADE</td>\n",
       "      <td>2022</td>\n",
       "      <td>05872523000141</td>\n",
       "      <td>AEF - MANUTENCAO EM EQUIPAMENTOS INDUSTRIAIS LTDA</td>\n",
       "      <td>2022-10-27</td>\n",
       "      <td>358</td>\n",
       "      <td>160533</td>\n",
       "      <td>4º CGCFEX</td>\n",
       "      <td>339039</td>\n",
       "      <td>OUTROS SERVICOS DE TERCEIROS - PESSOA JURIDICA</td>\n",
       "      <td>33903917</td>\n",
       "      <td>MANUT. E CONSERV. DE MAQUINAS E EQUIPAMENTOS</td>\n",
       "      <td>2022NE001220</td>\n",
       "      <td>I3DACNTMABM</td>\n",
       "      <td>MNT DE MÁQ E EQP ADMINISTRATIVOS</td>\n",
       "      <td>0032</td>\n",
       "      <td>203677</td>\n",
       "      <td>RPP</td>\n",
       "      <td>GLOBAL</td>\n",
       "      <td>ESCOLA DE SARGENTOS DAS ARMAS</td>\n",
       "      <td>MG</td>\n",
       "      <td>MG</td>\n",
       "      <td>160073</td>\n",
       "      <td>DGO</td>\n",
       "      <td>I3DA</td>\n",
       "      <td>CNT</td>\n",
       "      <td>MABM</td>\n",
       "      <td>0.00</td>\n",
       "      <td>0.0</td>\n",
       "      <td>0.00</td>\n",
       "      <td>700.00</td>\n",
       "    </tr>\n",
       "    <tr>\n",
       "      <th>7</th>\n",
       "      <td>160129</td>\n",
       "      <td>ESA</td>\n",
       "      <td>2000</td>\n",
       "      <td>ADMINISTRACAO DA UNIDADE</td>\n",
       "      <td>2022</td>\n",
       "      <td>05872523000141</td>\n",
       "      <td>AEF - MANUTENCAO EM EQUIPAMENTOS INDUSTRIAIS LTDA</td>\n",
       "      <td>2022-12-29</td>\n",
       "      <td>295</td>\n",
       "      <td>160533</td>\n",
       "      <td>4º CGCFEX</td>\n",
       "      <td>339039</td>\n",
       "      <td>OUTROS SERVICOS DE TERCEIROS - PESSOA JURIDICA</td>\n",
       "      <td>33903917</td>\n",
       "      <td>MANUT. E CONSERV. DE MAQUINAS E EQUIPAMENTOS</td>\n",
       "      <td>2022NE002723</td>\n",
       "      <td>I3DACNTMABM</td>\n",
       "      <td>MNT DE MÁQ E EQP ADMINISTRATIVOS</td>\n",
       "      <td>0032</td>\n",
       "      <td>171460</td>\n",
       "      <td>RPNP</td>\n",
       "      <td>GLOBAL</td>\n",
       "      <td>ESCOLA DE SARGENTOS DAS ARMAS</td>\n",
       "      <td>MG</td>\n",
       "      <td>MG</td>\n",
       "      <td>160073</td>\n",
       "      <td>DGO</td>\n",
       "      <td>I3DA</td>\n",
       "      <td>CNT</td>\n",
       "      <td>MABM</td>\n",
       "      <td>809.64</td>\n",
       "      <td>0.0</td>\n",
       "      <td>809.64</td>\n",
       "      <td>39023.43</td>\n",
       "    </tr>\n",
       "    <tr>\n",
       "      <th>8</th>\n",
       "      <td>160129</td>\n",
       "      <td>ESA</td>\n",
       "      <td>2000</td>\n",
       "      <td>ADMINISTRACAO DA UNIDADE</td>\n",
       "      <td>2022</td>\n",
       "      <td>06981180000116</td>\n",
       "      <td>CEMIG DISTRIBUICAO S.A</td>\n",
       "      <td>2022-06-14</td>\n",
       "      <td>493</td>\n",
       "      <td>160533</td>\n",
       "      <td>4º CGCFEX</td>\n",
       "      <td>339039</td>\n",
       "      <td>OUTROS SERVICOS DE TERCEIROS - PESSOA JURIDICA</td>\n",
       "      <td>33903943</td>\n",
       "      <td>SERVICOS DE ENERGIA ELETRICA</td>\n",
       "      <td>2022NE000619</td>\n",
       "      <td>I3DACSPENEL</td>\n",
       "      <td>DESPESAS COM ENERGIA ELETRICA</td>\n",
       "      <td>0032</td>\n",
       "      <td>203677</td>\n",
       "      <td>RPNP</td>\n",
       "      <td>ESTIMATIVO</td>\n",
       "      <td>0</td>\n",
       "      <td>MG</td>\n",
       "      <td>MG</td>\n",
       "      <td>160073</td>\n",
       "      <td>DGO</td>\n",
       "      <td>I3DA</td>\n",
       "      <td>CSP</td>\n",
       "      <td>ENEL</td>\n",
       "      <td>0.00</td>\n",
       "      <td>0.0</td>\n",
       "      <td>0.00</td>\n",
       "      <td>254563.30</td>\n",
       "    </tr>\n",
       "    <tr>\n",
       "      <th>9</th>\n",
       "      <td>160129</td>\n",
       "      <td>ESA</td>\n",
       "      <td>2000</td>\n",
       "      <td>ADMINISTRACAO DA UNIDADE</td>\n",
       "      <td>2022</td>\n",
       "      <td>09583781000169</td>\n",
       "      <td>2 CLICK SOLUCOES LTDA</td>\n",
       "      <td>2022-11-11</td>\n",
       "      <td>343</td>\n",
       "      <td>160533</td>\n",
       "      <td>4º CGCFEX</td>\n",
       "      <td>339030</td>\n",
       "      <td>MATERIAL DE CONSUMO</td>\n",
       "      <td>33903022</td>\n",
       "      <td>MATERIAL DE LIMPEZA E PROD. DE HIGIENIZACAO</td>\n",
       "      <td>2022NE001692</td>\n",
       "      <td>I3DAFUNADOM</td>\n",
       "      <td>ADMINISTRACAO DE OM</td>\n",
       "      <td>0032</td>\n",
       "      <td>171460</td>\n",
       "      <td>RPNP</td>\n",
       "      <td>ORDINARIO</td>\n",
       "      <td>ESCOLA DE SARGENTOS DAS ARMAS  - AVENIDA SETE ...</td>\n",
       "      <td>GO</td>\n",
       "      <td>MG</td>\n",
       "      <td>160073</td>\n",
       "      <td>DGO</td>\n",
       "      <td>I3DA</td>\n",
       "      <td>FUN</td>\n",
       "      <td>ADOM</td>\n",
       "      <td>0.00</td>\n",
       "      <td>0.0</td>\n",
       "      <td>0.00</td>\n",
       "      <td>1152.92</td>\n",
       "    </tr>\n",
       "  </tbody>\n",
       "</table>\n",
       "</div>"
      ],
      "text/plain": [
       "       UG SIGLA UG  ACAO                              NOME_ACAO   ANO  \\\n",
       "0  160129      ESA  156M  MODERNIZACAO E TRANSFORMACAO ESTRATEG  2023   \n",
       "1  160129      ESA  2000               ADMINISTRACAO DA UNIDADE  2022   \n",
       "2  160129      ESA  2000               ADMINISTRACAO DA UNIDADE  2022   \n",
       "3  160129      ESA  2000               ADMINISTRACAO DA UNIDADE  2022   \n",
       "4  160129      ESA  2000               ADMINISTRACAO DA UNIDADE  2022   \n",
       "5  160129      ESA  2000               ADMINISTRACAO DA UNIDADE  2022   \n",
       "6  160129      ESA  2000               ADMINISTRACAO DA UNIDADE  2022   \n",
       "7  160129      ESA  2000               ADMINISTRACAO DA UNIDADE  2022   \n",
       "8  160129      ESA  2000               ADMINISTRACAO DA UNIDADE  2022   \n",
       "9  160129      ESA  2000               ADMINISTRACAO DA UNIDADE  2022   \n",
       "\n",
       "           CREDOR                                        NOME_CREDOR  \\\n",
       "0  33658130000175                     FIEL COMERCIAL E SERVICOS LTDA   \n",
       "1  01590728000850                      MICROTECNICA INFORMATICA LTDA   \n",
       "2  01590728000850                      MICROTECNICA INFORMATICA LTDA   \n",
       "3  05872523000141  AEF - MANUTENCAO EM EQUIPAMENTOS INDUSTRIAIS LTDA   \n",
       "4  05872523000141  AEF - MANUTENCAO EM EQUIPAMENTOS INDUSTRIAIS LTDA   \n",
       "5  05872523000141  AEF - MANUTENCAO EM EQUIPAMENTOS INDUSTRIAIS LTDA   \n",
       "6  05872523000141  AEF - MANUTENCAO EM EQUIPAMENTOS INDUSTRIAIS LTDA   \n",
       "7  05872523000141  AEF - MANUTENCAO EM EQUIPAMENTOS INDUSTRIAIS LTDA   \n",
       "8  06981180000116                             CEMIG DISTRIBUICAO S.A   \n",
       "9  09583781000169                              2 CLICK SOLUCOES LTDA   \n",
       "\n",
       "        DATA  DIAS   ICFEX NOME_ICFEX      ND  \\\n",
       "0 2023-10-10    10  160533  4º CGCFEX  339039   \n",
       "1 2022-11-03   351  160533  4º CGCFEX  449052   \n",
       "2 2022-12-05   319  160533  4º CGCFEX  449052   \n",
       "3 2022-04-12   556  160533  4º CGCFEX  339039   \n",
       "4 2022-06-09   498  160533  4º CGCFEX  339039   \n",
       "5 2022-10-27   358  160533  4º CGCFEX  339039   \n",
       "6 2022-10-27   358  160533  4º CGCFEX  339039   \n",
       "7 2022-12-29   295  160533  4º CGCFEX  339039   \n",
       "8 2022-06-14   493  160533  4º CGCFEX  339039   \n",
       "9 2022-11-11   343  160533  4º CGCFEX  339030   \n",
       "\n",
       "                                          NOME_ND      NDSI  \\\n",
       "0  OUTROS SERVICOS DE TERCEIROS - PESSOA JURIDICA  33903916   \n",
       "1              EQUIPAMENTOS E MATERIAL PERMANENTE  44905241   \n",
       "2              EQUIPAMENTOS E MATERIAL PERMANENTE  44905241   \n",
       "3  OUTROS SERVICOS DE TERCEIROS - PESSOA JURIDICA  33903917   \n",
       "4  OUTROS SERVICOS DE TERCEIROS - PESSOA JURIDICA  33903917   \n",
       "5  OUTROS SERVICOS DE TERCEIROS - PESSOA JURIDICA  33903917   \n",
       "6  OUTROS SERVICOS DE TERCEIROS - PESSOA JURIDICA  33903917   \n",
       "7  OUTROS SERVICOS DE TERCEIROS - PESSOA JURIDICA  33903917   \n",
       "8  OUTROS SERVICOS DE TERCEIROS - PESSOA JURIDICA  33903943   \n",
       "9                             MATERIAL DE CONSUMO  33903022   \n",
       "\n",
       "                                      NOME_NDSI            NE           PI  \\\n",
       "0         MANUTENCAO E CONSERV. DE BENS IMOVEIS  2023NE001252  FIL311XARTC   \n",
       "1            EQUIPAMENTOS DE TIC - COMPUTADORES  2022NE001245  I3FPPREDEGE   \n",
       "2            EQUIPAMENTOS DE TIC - COMPUTADORES  2022NE002430  IXAPFUNDGOA   \n",
       "3  MANUT. E CONSERV. DE MAQUINAS E EQUIPAMENTOS  2022NE000344  I3DACNTMABM   \n",
       "4  MANUT. E CONSERV. DE MAQUINAS E EQUIPAMENTOS  2022NE000601  I3DACNTMABM   \n",
       "5  MANUT. E CONSERV. DE MAQUINAS E EQUIPAMENTOS  2022NE001220  I3DACNTMABM   \n",
       "6  MANUT. E CONSERV. DE MAQUINAS E EQUIPAMENTOS  2022NE001220  I3DACNTMABM   \n",
       "7  MANUT. E CONSERV. DE MAQUINAS E EQUIPAMENTOS  2022NE002723  I3DACNTMABM   \n",
       "8                  SERVICOS DE ENERGIA ELETRICA  2022NE000619  I3DACSPENEL   \n",
       "9   MATERIAL DE LIMPEZA E PROD. DE HIGIENIZACAO  2022NE001692  I3DAFUNADOM   \n",
       "\n",
       "                                       NOME_PI PROGRAMA   PTRES  TIPO  \\\n",
       "0  CONSTRUIR E ADEQUAR INST SIST EDU E CULT EB     6012  215822   ANO   \n",
       "1        DESPESAS GERAIS DAS UGE - GESTÃO EME.     0032  171460  RPNP   \n",
       "2                         ADMINISTRACAO DAS OM     0032  171502  RPNP   \n",
       "3             MNT DE MÁQ E EQP ADMINISTRATIVOS     0032  171460  RPNP   \n",
       "4             MNT DE MÁQ E EQP ADMINISTRATIVOS     0032  171460   RPP   \n",
       "5             MNT DE MÁQ E EQP ADMINISTRATIVOS     0032  203677  RPNP   \n",
       "6             MNT DE MÁQ E EQP ADMINISTRATIVOS     0032  203677   RPP   \n",
       "7             MNT DE MÁQ E EQP ADMINISTRATIVOS     0032  171460  RPNP   \n",
       "8                DESPESAS COM ENERGIA ELETRICA     0032  203677  RPNP   \n",
       "9                          ADMINISTRACAO DE OM     0032  171460  RPNP   \n",
       "\n",
       "      TIPO_NE                                              LOCAL UF_CREDOR  \\\n",
       "0   ORDINARIO                      ESCOLA DE SARGENTOS DAS ARMAS        SP   \n",
       "1   ORDINARIO  ESCOLA DE SARGENTOS DAS ARMAS  - AVENIDA SETE ...        MG   \n",
       "2   ORDINARIO                      ESCOLA DE SARGENTOS DAS ARMAS        MG   \n",
       "3      GLOBAL                      ESCOLA DE SARGENTOS DAS ARMAS        MG   \n",
       "4      GLOBAL                      ESCOLA DE SARGENTOS DAS ARMAS        MG   \n",
       "5      GLOBAL                      ESCOLA DE SARGENTOS DAS ARMAS        MG   \n",
       "6      GLOBAL                      ESCOLA DE SARGENTOS DAS ARMAS        MG   \n",
       "7      GLOBAL                      ESCOLA DE SARGENTOS DAS ARMAS        MG   \n",
       "8  ESTIMATIVO                                                  0        MG   \n",
       "9   ORDINARIO  ESCOLA DE SARGENTOS DAS ARMAS  - AVENIDA SETE ...        GO   \n",
       "\n",
       "  UF_UG     UGR    NOME_UGR RADPI4 MEIPI3 SUFPI4  A_LIQUIDAR  \\\n",
       "0    MG  160502  DEC-GESTOR   FIL3    11X   ARTC   300000.00   \n",
       "1    MG  160073         DGO   I3FP    PRE   DEGE        0.00   \n",
       "2    MG  160507  EME-GESTOR   IXAP    FUN   DGOA        0.00   \n",
       "3    MG  160073         DGO   I3DA    CNT   MABM        0.00   \n",
       "4    MG  160073         DGO   I3DA    CNT   MABM        0.00   \n",
       "5    MG  160073         DGO   I3DA    CNT   MABM        0.00   \n",
       "6    MG  160073         DGO   I3DA    CNT   MABM        0.00   \n",
       "7    MG  160073         DGO   I3DA    CNT   MABM      809.64   \n",
       "8    MG  160073         DGO   I3DA    CSP   ENEL        0.00   \n",
       "9    MG  160073         DGO   I3DA    FUN   ADOM        0.00   \n",
       "\n",
       "   LIQUIDADO_A_PAGAR  TOTAL_A_PAGAR       PAGO  \n",
       "0                0.0      300000.00       0.00  \n",
       "1                0.0           0.00   14637.78  \n",
       "2                0.0           0.00   21956.67  \n",
       "3                0.0           0.00    7480.83  \n",
       "4                0.0           0.00    6780.83  \n",
       "5                0.0           0.00    3238.56  \n",
       "6                0.0           0.00     700.00  \n",
       "7                0.0         809.64   39023.43  \n",
       "8                0.0           0.00  254563.30  \n",
       "9                0.0           0.00    1152.92  "
      ]
     },
     "execution_count": 28,
     "metadata": {},
     "output_type": "execute_result"
    }
   ],
   "source": [
    "# Criando um DataFrame para testes \n",
    "df_teste = df.copy()\n",
    "\n",
    "df_teste.head(10)"
   ]
  },
  {
   "cell_type": "markdown",
   "metadata": {},
   "source": [
    "## Empenhos com mais de 100 dias"
   ]
  },
  {
   "cell_type": "markdown",
   "metadata": {},
   "source": [
    "### Empenhos da ND 30"
   ]
  },
  {
   "cell_type": "code",
   "execution_count": 29,
   "metadata": {},
   "outputs": [],
   "source": [
    "# Empenhos da ND 30 com prazo de entrega superior a 100 dias\n",
    "\n",
    "df_nd30_100dias = df_teste[(df_teste['A_LIQUIDAR'] != 0) & (df_teste['ND'] == '339030') & (df_teste['DIAS'] > 100) & (df_teste['TIPO_NE'] == 'ORDINARIO') ].sort_values(by='DIAS', ascending=False).reset_index(drop=True)\n",
    "\n",
    "df_nd30_100dias.sort_values(by='A_LIQUIDAR', ascending=False).reset_index(drop=True)\n",
    "\n",
    "df_nd30_100dias.to_excel('nd30_PA.xlsx')"
   ]
  },
  {
   "cell_type": "markdown",
   "metadata": {},
   "source": [
    "### Empenhos ND 52"
   ]
  },
  {
   "cell_type": "code",
   "execution_count": 30,
   "metadata": {},
   "outputs": [],
   "source": [
    "df_nd52_100dias = df_teste[(df_teste['A_LIQUIDAR'] != 0) & (df_teste['ND'] == '449052') & (df_teste['DIAS'] > 50) ].sort_values(by='DIAS', ascending=False).reset_index(drop=True)\n",
    "\n",
    "df_nd52_100dias.reset_index(drop=True)\n",
    "\n",
    "df_nd52_100dias.to_excel('nd52_PA.xlsx')"
   ]
  },
  {
   "cell_type": "markdown",
   "metadata": {},
   "source": [
    "### Recursos Liquidados a pagar"
   ]
  },
  {
   "cell_type": "code",
   "execution_count": 31,
   "metadata": {},
   "outputs": [
    {
     "data": {
      "text/html": [
       "<div>\n",
       "<style scoped>\n",
       "    .dataframe tbody tr th:only-of-type {\n",
       "        vertical-align: middle;\n",
       "    }\n",
       "\n",
       "    .dataframe tbody tr th {\n",
       "        vertical-align: top;\n",
       "    }\n",
       "\n",
       "    .dataframe thead th {\n",
       "        text-align: right;\n",
       "    }\n",
       "</style>\n",
       "<table border=\"1\" class=\"dataframe\">\n",
       "  <thead>\n",
       "    <tr style=\"text-align: right;\">\n",
       "      <th></th>\n",
       "      <th>UG</th>\n",
       "      <th>SIGLA UG</th>\n",
       "      <th>ACAO</th>\n",
       "      <th>NOME_ACAO</th>\n",
       "      <th>ANO</th>\n",
       "      <th>CREDOR</th>\n",
       "      <th>NOME_CREDOR</th>\n",
       "      <th>DATA</th>\n",
       "      <th>DIAS</th>\n",
       "      <th>ICFEX</th>\n",
       "      <th>NOME_ICFEX</th>\n",
       "      <th>ND</th>\n",
       "      <th>NOME_ND</th>\n",
       "      <th>NDSI</th>\n",
       "      <th>NOME_NDSI</th>\n",
       "      <th>NE</th>\n",
       "      <th>PI</th>\n",
       "      <th>NOME_PI</th>\n",
       "      <th>PROGRAMA</th>\n",
       "      <th>PTRES</th>\n",
       "      <th>TIPO</th>\n",
       "      <th>TIPO_NE</th>\n",
       "      <th>LOCAL</th>\n",
       "      <th>UF_CREDOR</th>\n",
       "      <th>UF_UG</th>\n",
       "      <th>UGR</th>\n",
       "      <th>NOME_UGR</th>\n",
       "      <th>RADPI4</th>\n",
       "      <th>MEIPI3</th>\n",
       "      <th>SUFPI4</th>\n",
       "      <th>A_LIQUIDAR</th>\n",
       "      <th>LIQUIDADO_A_PAGAR</th>\n",
       "      <th>TOTAL_A_PAGAR</th>\n",
       "      <th>PAGO</th>\n",
       "    </tr>\n",
       "  </thead>\n",
       "  <tbody>\n",
       "    <tr>\n",
       "      <th>0</th>\n",
       "      <td>160129</td>\n",
       "      <td>ESA</td>\n",
       "      <td>212O</td>\n",
       "      <td>MOVIMENTACAO DE MILITARES</td>\n",
       "      <td>2023</td>\n",
       "      <td>05040719639</td>\n",
       "      <td>MAICON CARLOS OLIVEIRA</td>\n",
       "      <td>2023-10-05</td>\n",
       "      <td>15</td>\n",
       "      <td>160533</td>\n",
       "      <td>4º CGCFEX</td>\n",
       "      <td>339093</td>\n",
       "      <td>INDENIZACOES E RESTITUICOES</td>\n",
       "      <td>33909318</td>\n",
       "      <td>AJUDA DE CUSTO - PESSOAL MILITAR</td>\n",
       "      <td>2023NE001265</td>\n",
       "      <td>D6PEINDMV1A</td>\n",
       "      <td>IND-INDENIZACOES</td>\n",
       "      <td>6012</td>\n",
       "      <td>171389</td>\n",
       "      <td>ANO</td>\n",
       "      <td>ORDINARIO</td>\n",
       "      <td>0</td>\n",
       "      <td>RO</td>\n",
       "      <td>MG</td>\n",
       "      <td>160505</td>\n",
       "      <td>DGP</td>\n",
       "      <td>D6PE</td>\n",
       "      <td>IND</td>\n",
       "      <td>MV1A</td>\n",
       "      <td>0.00</td>\n",
       "      <td>27266.98</td>\n",
       "      <td>27266.98</td>\n",
       "      <td>0.00</td>\n",
       "    </tr>\n",
       "    <tr>\n",
       "      <th>1</th>\n",
       "      <td>160129</td>\n",
       "      <td>ESA</td>\n",
       "      <td>2000</td>\n",
       "      <td>ADMINISTRACAO DA UNIDADE</td>\n",
       "      <td>2023</td>\n",
       "      <td>160129</td>\n",
       "      <td>NaN</td>\n",
       "      <td>2023-07-24</td>\n",
       "      <td>88</td>\n",
       "      <td>160533</td>\n",
       "      <td>4º CGCFEX</td>\n",
       "      <td>339015</td>\n",
       "      <td>DIARIAS - PESSOAL MILITAR</td>\n",
       "      <td>33901516</td>\n",
       "      <td>DIARIAS NO EXTERIOR</td>\n",
       "      <td>2023NE000887</td>\n",
       "      <td>DF5SCHPVANA</td>\n",
       "      <td>PVANA</td>\n",
       "      <td>0032</td>\n",
       "      <td>171404</td>\n",
       "      <td>ANO</td>\n",
       "      <td>ORDINARIO</td>\n",
       "      <td>0</td>\n",
       "      <td>NaN</td>\n",
       "      <td>MG</td>\n",
       "      <td>160129</td>\n",
       "      <td>ESA</td>\n",
       "      <td>DF5S</td>\n",
       "      <td>CHP</td>\n",
       "      <td>VANA</td>\n",
       "      <td>8753.85</td>\n",
       "      <td>26021.00</td>\n",
       "      <td>34774.85</td>\n",
       "      <td>66009.45</td>\n",
       "    </tr>\n",
       "  </tbody>\n",
       "</table>\n",
       "</div>"
      ],
      "text/plain": [
       "       UG SIGLA UG  ACAO                  NOME_ACAO   ANO       CREDOR  \\\n",
       "0  160129      ESA  212O  MOVIMENTACAO DE MILITARES  2023  05040719639   \n",
       "1  160129      ESA  2000   ADMINISTRACAO DA UNIDADE  2023       160129   \n",
       "\n",
       "              NOME_CREDOR       DATA  DIAS   ICFEX NOME_ICFEX      ND  \\\n",
       "0  MAICON CARLOS OLIVEIRA 2023-10-05    15  160533  4º CGCFEX  339093   \n",
       "1                     NaN 2023-07-24    88  160533  4º CGCFEX  339015   \n",
       "\n",
       "                       NOME_ND      NDSI                         NOME_NDSI  \\\n",
       "0  INDENIZACOES E RESTITUICOES  33909318  AJUDA DE CUSTO - PESSOAL MILITAR   \n",
       "1    DIARIAS - PESSOAL MILITAR  33901516               DIARIAS NO EXTERIOR   \n",
       "\n",
       "             NE           PI           NOME_PI PROGRAMA   PTRES TIPO  \\\n",
       "0  2023NE001265  D6PEINDMV1A  IND-INDENIZACOES     6012  171389  ANO   \n",
       "1  2023NE000887  DF5SCHPVANA             PVANA     0032  171404  ANO   \n",
       "\n",
       "     TIPO_NE LOCAL UF_CREDOR UF_UG     UGR NOME_UGR RADPI4 MEIPI3 SUFPI4  \\\n",
       "0  ORDINARIO     0        RO    MG  160505      DGP   D6PE    IND   MV1A   \n",
       "1  ORDINARIO     0       NaN    MG  160129      ESA   DF5S    CHP   VANA   \n",
       "\n",
       "   A_LIQUIDAR  LIQUIDADO_A_PAGAR  TOTAL_A_PAGAR      PAGO  \n",
       "0        0.00           27266.98       27266.98      0.00  \n",
       "1     8753.85           26021.00       34774.85  66009.45  "
      ]
     },
     "execution_count": 31,
     "metadata": {},
     "output_type": "execute_result"
    }
   ],
   "source": [
    "df_liqui_a_pagar =df_teste[ df_teste['LIQUIDADO_A_PAGAR'] != 0 ]\n",
    "\n",
    "df_liqui_a_pagar.sort_values(by='LIQUIDADO_A_PAGAR', ascending=False).reset_index(drop=True).head(2)"
   ]
  },
  {
   "cell_type": "code",
   "execution_count": 32,
   "metadata": {},
   "outputs": [
    {
     "data": {
      "text/plain": [
       "'R$ 85.541,88'"
      ]
     },
     "execution_count": 32,
     "metadata": {},
     "output_type": "execute_result"
    }
   ],
   "source": [
    "total_liqui_a_pagar = df_liqui_a_pagar['LIQUIDADO_A_PAGAR'].sum()\n",
    "locale.currency(total_liqui_a_pagar, grouping=True)"
   ]
  },
  {
   "cell_type": "code",
   "execution_count": 33,
   "metadata": {},
   "outputs": [
    {
     "data": {
      "application/vnd.plotly.v1+json": {
       "config": {
        "plotlyServerURL": "https://plot.ly"
       },
       "data": [
        {
         "alignmentgroup": "True",
         "cliponaxis": false,
         "legendgroup": "",
         "marker": {
          "color": [
           27266.98,
           26021,
           16906.46,
           7948.58,
           2910.76,
           2211.84,
           1087.39,
           798,
           381.33,
           9.54
          ],
          "coloraxis": "coloraxis",
          "pattern": {
           "shape": ""
          }
         },
         "name": "",
         "offsetgroup": "",
         "orientation": "v",
         "showlegend": false,
         "textposition": "outside",
         "texttemplate": "%{y:.3s}",
         "type": "bar",
         "x": [
          "AJUDA DE CUSTO - PESSOAL MILITAR",
          "DIARIAS NO EXTERIOR",
          "SERV.MEDICO-HOSPITAL.,ODONTOL.E LABORATORIAIS",
          "PASSAGENS PARA O PAIS",
          "DIARIAS NO PAIS",
          "RESSARCIMENTO DE PASSAGENS E DESP.C/LOCOMOCAO",
          "MANUT. E CONSERV. DE MAQUINAS E EQUIPAMENTOS",
          "MAQ., FERRAMENTAS  E  UTENSILIOS  DE  OFICINA",
          "MANUTENCAO E CONSERVACAO DE EQUIPAMENTOS DE TIC",
          "SERVICOS MEDICOS E ODONTOLOGICOS"
         ],
         "xaxis": "x",
         "y": [
          27266.98,
          26021,
          16906.46,
          7948.58,
          2910.76,
          2211.84,
          1087.39,
          798,
          381.33,
          9.54
         ],
         "yaxis": "y"
        }
       ],
       "layout": {
        "barmode": "relative",
        "coloraxis": {
         "colorbar": {
          "title": {
           "text": "Liquidado a Pagar"
          }
         },
         "colorscale": [
          [
           0,
           "rgb(255,245,240)"
          ],
          [
           0.125,
           "rgb(254,224,210)"
          ],
          [
           0.25,
           "rgb(252,187,161)"
          ],
          [
           0.375,
           "rgb(252,146,114)"
          ],
          [
           0.5,
           "rgb(251,106,74)"
          ],
          [
           0.625,
           "rgb(239,59,44)"
          ],
          [
           0.75,
           "rgb(203,24,29)"
          ],
          [
           0.875,
           "rgb(165,15,21)"
          ],
          [
           1,
           "rgb(103,0,13)"
          ]
         ]
        },
        "height": 900,
        "hovermode": "x unified",
        "legend": {
         "tracegroupgap": 0
        },
        "template": {
         "data": {
          "bar": [
           {
            "error_x": {
             "color": "#f2f5fa"
            },
            "error_y": {
             "color": "#f2f5fa"
            },
            "marker": {
             "line": {
              "color": "rgb(17,17,17)",
              "width": 0.5
             },
             "pattern": {
              "fillmode": "overlay",
              "size": 10,
              "solidity": 0.2
             }
            },
            "type": "bar"
           }
          ],
          "barpolar": [
           {
            "marker": {
             "line": {
              "color": "rgb(17,17,17)",
              "width": 0.5
             },
             "pattern": {
              "fillmode": "overlay",
              "size": 10,
              "solidity": 0.2
             }
            },
            "type": "barpolar"
           }
          ],
          "carpet": [
           {
            "aaxis": {
             "endlinecolor": "#A2B1C6",
             "gridcolor": "#506784",
             "linecolor": "#506784",
             "minorgridcolor": "#506784",
             "startlinecolor": "#A2B1C6"
            },
            "baxis": {
             "endlinecolor": "#A2B1C6",
             "gridcolor": "#506784",
             "linecolor": "#506784",
             "minorgridcolor": "#506784",
             "startlinecolor": "#A2B1C6"
            },
            "type": "carpet"
           }
          ],
          "choropleth": [
           {
            "colorbar": {
             "outlinewidth": 0,
             "ticks": ""
            },
            "type": "choropleth"
           }
          ],
          "contour": [
           {
            "colorbar": {
             "outlinewidth": 0,
             "ticks": ""
            },
            "colorscale": [
             [
              0,
              "#0d0887"
             ],
             [
              0.1111111111111111,
              "#46039f"
             ],
             [
              0.2222222222222222,
              "#7201a8"
             ],
             [
              0.3333333333333333,
              "#9c179e"
             ],
             [
              0.4444444444444444,
              "#bd3786"
             ],
             [
              0.5555555555555556,
              "#d8576b"
             ],
             [
              0.6666666666666666,
              "#ed7953"
             ],
             [
              0.7777777777777778,
              "#fb9f3a"
             ],
             [
              0.8888888888888888,
              "#fdca26"
             ],
             [
              1,
              "#f0f921"
             ]
            ],
            "type": "contour"
           }
          ],
          "contourcarpet": [
           {
            "colorbar": {
             "outlinewidth": 0,
             "ticks": ""
            },
            "type": "contourcarpet"
           }
          ],
          "heatmap": [
           {
            "colorbar": {
             "outlinewidth": 0,
             "ticks": ""
            },
            "colorscale": [
             [
              0,
              "#0d0887"
             ],
             [
              0.1111111111111111,
              "#46039f"
             ],
             [
              0.2222222222222222,
              "#7201a8"
             ],
             [
              0.3333333333333333,
              "#9c179e"
             ],
             [
              0.4444444444444444,
              "#bd3786"
             ],
             [
              0.5555555555555556,
              "#d8576b"
             ],
             [
              0.6666666666666666,
              "#ed7953"
             ],
             [
              0.7777777777777778,
              "#fb9f3a"
             ],
             [
              0.8888888888888888,
              "#fdca26"
             ],
             [
              1,
              "#f0f921"
             ]
            ],
            "type": "heatmap"
           }
          ],
          "heatmapgl": [
           {
            "colorbar": {
             "outlinewidth": 0,
             "ticks": ""
            },
            "colorscale": [
             [
              0,
              "#0d0887"
             ],
             [
              0.1111111111111111,
              "#46039f"
             ],
             [
              0.2222222222222222,
              "#7201a8"
             ],
             [
              0.3333333333333333,
              "#9c179e"
             ],
             [
              0.4444444444444444,
              "#bd3786"
             ],
             [
              0.5555555555555556,
              "#d8576b"
             ],
             [
              0.6666666666666666,
              "#ed7953"
             ],
             [
              0.7777777777777778,
              "#fb9f3a"
             ],
             [
              0.8888888888888888,
              "#fdca26"
             ],
             [
              1,
              "#f0f921"
             ]
            ],
            "type": "heatmapgl"
           }
          ],
          "histogram": [
           {
            "marker": {
             "pattern": {
              "fillmode": "overlay",
              "size": 10,
              "solidity": 0.2
             }
            },
            "type": "histogram"
           }
          ],
          "histogram2d": [
           {
            "colorbar": {
             "outlinewidth": 0,
             "ticks": ""
            },
            "colorscale": [
             [
              0,
              "#0d0887"
             ],
             [
              0.1111111111111111,
              "#46039f"
             ],
             [
              0.2222222222222222,
              "#7201a8"
             ],
             [
              0.3333333333333333,
              "#9c179e"
             ],
             [
              0.4444444444444444,
              "#bd3786"
             ],
             [
              0.5555555555555556,
              "#d8576b"
             ],
             [
              0.6666666666666666,
              "#ed7953"
             ],
             [
              0.7777777777777778,
              "#fb9f3a"
             ],
             [
              0.8888888888888888,
              "#fdca26"
             ],
             [
              1,
              "#f0f921"
             ]
            ],
            "type": "histogram2d"
           }
          ],
          "histogram2dcontour": [
           {
            "colorbar": {
             "outlinewidth": 0,
             "ticks": ""
            },
            "colorscale": [
             [
              0,
              "#0d0887"
             ],
             [
              0.1111111111111111,
              "#46039f"
             ],
             [
              0.2222222222222222,
              "#7201a8"
             ],
             [
              0.3333333333333333,
              "#9c179e"
             ],
             [
              0.4444444444444444,
              "#bd3786"
             ],
             [
              0.5555555555555556,
              "#d8576b"
             ],
             [
              0.6666666666666666,
              "#ed7953"
             ],
             [
              0.7777777777777778,
              "#fb9f3a"
             ],
             [
              0.8888888888888888,
              "#fdca26"
             ],
             [
              1,
              "#f0f921"
             ]
            ],
            "type": "histogram2dcontour"
           }
          ],
          "mesh3d": [
           {
            "colorbar": {
             "outlinewidth": 0,
             "ticks": ""
            },
            "type": "mesh3d"
           }
          ],
          "parcoords": [
           {
            "line": {
             "colorbar": {
              "outlinewidth": 0,
              "ticks": ""
             }
            },
            "type": "parcoords"
           }
          ],
          "pie": [
           {
            "automargin": true,
            "type": "pie"
           }
          ],
          "scatter": [
           {
            "marker": {
             "line": {
              "color": "#283442"
             }
            },
            "type": "scatter"
           }
          ],
          "scatter3d": [
           {
            "line": {
             "colorbar": {
              "outlinewidth": 0,
              "ticks": ""
             }
            },
            "marker": {
             "colorbar": {
              "outlinewidth": 0,
              "ticks": ""
             }
            },
            "type": "scatter3d"
           }
          ],
          "scattercarpet": [
           {
            "marker": {
             "colorbar": {
              "outlinewidth": 0,
              "ticks": ""
             }
            },
            "type": "scattercarpet"
           }
          ],
          "scattergeo": [
           {
            "marker": {
             "colorbar": {
              "outlinewidth": 0,
              "ticks": ""
             }
            },
            "type": "scattergeo"
           }
          ],
          "scattergl": [
           {
            "marker": {
             "line": {
              "color": "#283442"
             }
            },
            "type": "scattergl"
           }
          ],
          "scattermapbox": [
           {
            "marker": {
             "colorbar": {
              "outlinewidth": 0,
              "ticks": ""
             }
            },
            "type": "scattermapbox"
           }
          ],
          "scatterpolar": [
           {
            "marker": {
             "colorbar": {
              "outlinewidth": 0,
              "ticks": ""
             }
            },
            "type": "scatterpolar"
           }
          ],
          "scatterpolargl": [
           {
            "marker": {
             "colorbar": {
              "outlinewidth": 0,
              "ticks": ""
             }
            },
            "type": "scatterpolargl"
           }
          ],
          "scatterternary": [
           {
            "marker": {
             "colorbar": {
              "outlinewidth": 0,
              "ticks": ""
             }
            },
            "type": "scatterternary"
           }
          ],
          "surface": [
           {
            "colorbar": {
             "outlinewidth": 0,
             "ticks": ""
            },
            "colorscale": [
             [
              0,
              "#0d0887"
             ],
             [
              0.1111111111111111,
              "#46039f"
             ],
             [
              0.2222222222222222,
              "#7201a8"
             ],
             [
              0.3333333333333333,
              "#9c179e"
             ],
             [
              0.4444444444444444,
              "#bd3786"
             ],
             [
              0.5555555555555556,
              "#d8576b"
             ],
             [
              0.6666666666666666,
              "#ed7953"
             ],
             [
              0.7777777777777778,
              "#fb9f3a"
             ],
             [
              0.8888888888888888,
              "#fdca26"
             ],
             [
              1,
              "#f0f921"
             ]
            ],
            "type": "surface"
           }
          ],
          "table": [
           {
            "cells": {
             "fill": {
              "color": "#506784"
             },
             "line": {
              "color": "rgb(17,17,17)"
             }
            },
            "header": {
             "fill": {
              "color": "#2a3f5f"
             },
             "line": {
              "color": "rgb(17,17,17)"
             }
            },
            "type": "table"
           }
          ]
         },
         "layout": {
          "annotationdefaults": {
           "arrowcolor": "#f2f5fa",
           "arrowhead": 0,
           "arrowwidth": 1
          },
          "autotypenumbers": "strict",
          "coloraxis": {
           "colorbar": {
            "outlinewidth": 0,
            "ticks": ""
           }
          },
          "colorscale": {
           "diverging": [
            [
             0,
             "#8e0152"
            ],
            [
             0.1,
             "#c51b7d"
            ],
            [
             0.2,
             "#de77ae"
            ],
            [
             0.3,
             "#f1b6da"
            ],
            [
             0.4,
             "#fde0ef"
            ],
            [
             0.5,
             "#f7f7f7"
            ],
            [
             0.6,
             "#e6f5d0"
            ],
            [
             0.7,
             "#b8e186"
            ],
            [
             0.8,
             "#7fbc41"
            ],
            [
             0.9,
             "#4d9221"
            ],
            [
             1,
             "#276419"
            ]
           ],
           "sequential": [
            [
             0,
             "#0d0887"
            ],
            [
             0.1111111111111111,
             "#46039f"
            ],
            [
             0.2222222222222222,
             "#7201a8"
            ],
            [
             0.3333333333333333,
             "#9c179e"
            ],
            [
             0.4444444444444444,
             "#bd3786"
            ],
            [
             0.5555555555555556,
             "#d8576b"
            ],
            [
             0.6666666666666666,
             "#ed7953"
            ],
            [
             0.7777777777777778,
             "#fb9f3a"
            ],
            [
             0.8888888888888888,
             "#fdca26"
            ],
            [
             1,
             "#f0f921"
            ]
           ],
           "sequentialminus": [
            [
             0,
             "#0d0887"
            ],
            [
             0.1111111111111111,
             "#46039f"
            ],
            [
             0.2222222222222222,
             "#7201a8"
            ],
            [
             0.3333333333333333,
             "#9c179e"
            ],
            [
             0.4444444444444444,
             "#bd3786"
            ],
            [
             0.5555555555555556,
             "#d8576b"
            ],
            [
             0.6666666666666666,
             "#ed7953"
            ],
            [
             0.7777777777777778,
             "#fb9f3a"
            ],
            [
             0.8888888888888888,
             "#fdca26"
            ],
            [
             1,
             "#f0f921"
            ]
           ]
          },
          "colorway": [
           "#636efa",
           "#EF553B",
           "#00cc96",
           "#ab63fa",
           "#FFA15A",
           "#19d3f3",
           "#FF6692",
           "#B6E880",
           "#FF97FF",
           "#FECB52"
          ],
          "font": {
           "color": "#f2f5fa"
          },
          "geo": {
           "bgcolor": "rgb(17,17,17)",
           "lakecolor": "rgb(17,17,17)",
           "landcolor": "rgb(17,17,17)",
           "showlakes": true,
           "showland": true,
           "subunitcolor": "#506784"
          },
          "hoverlabel": {
           "align": "left"
          },
          "hovermode": "closest",
          "mapbox": {
           "style": "dark"
          },
          "paper_bgcolor": "rgb(17,17,17)",
          "plot_bgcolor": "rgb(17,17,17)",
          "polar": {
           "angularaxis": {
            "gridcolor": "#506784",
            "linecolor": "#506784",
            "ticks": ""
           },
           "bgcolor": "rgb(17,17,17)",
           "radialaxis": {
            "gridcolor": "#506784",
            "linecolor": "#506784",
            "ticks": ""
           }
          },
          "scene": {
           "xaxis": {
            "backgroundcolor": "rgb(17,17,17)",
            "gridcolor": "#506784",
            "gridwidth": 2,
            "linecolor": "#506784",
            "showbackground": true,
            "ticks": "",
            "zerolinecolor": "#C8D4E3"
           },
           "yaxis": {
            "backgroundcolor": "rgb(17,17,17)",
            "gridcolor": "#506784",
            "gridwidth": 2,
            "linecolor": "#506784",
            "showbackground": true,
            "ticks": "",
            "zerolinecolor": "#C8D4E3"
           },
           "zaxis": {
            "backgroundcolor": "rgb(17,17,17)",
            "gridcolor": "#506784",
            "gridwidth": 2,
            "linecolor": "#506784",
            "showbackground": true,
            "ticks": "",
            "zerolinecolor": "#C8D4E3"
           }
          },
          "shapedefaults": {
           "line": {
            "color": "#f2f5fa"
           }
          },
          "sliderdefaults": {
           "bgcolor": "#C8D4E3",
           "bordercolor": "rgb(17,17,17)",
           "borderwidth": 1,
           "tickwidth": 0
          },
          "ternary": {
           "aaxis": {
            "gridcolor": "#506784",
            "linecolor": "#506784",
            "ticks": ""
           },
           "baxis": {
            "gridcolor": "#506784",
            "linecolor": "#506784",
            "ticks": ""
           },
           "bgcolor": "rgb(17,17,17)",
           "caxis": {
            "gridcolor": "#506784",
            "linecolor": "#506784",
            "ticks": ""
           }
          },
          "title": {
           "x": 0.05
          },
          "updatemenudefaults": {
           "bgcolor": "#506784",
           "borderwidth": 0
          },
          "xaxis": {
           "automargin": true,
           "gridcolor": "#283442",
           "linecolor": "#506784",
           "ticks": "",
           "title": {
            "standoff": 15
           },
           "zerolinecolor": "#283442",
           "zerolinewidth": 2
          },
          "yaxis": {
           "automargin": true,
           "gridcolor": "#283442",
           "linecolor": "#506784",
           "ticks": "",
           "title": {
            "standoff": 15
           },
           "zerolinecolor": "#283442",
           "zerolinewidth": 2
          }
         }
        },
        "title": {
         "text": "Saldos liquidados a pagar por NDSI"
        },
        "xaxis": {
         "anchor": "y",
         "domain": [
          0,
          1
         ],
         "title": {
          "text": "Descrição do Subitem"
         }
        },
        "yaxis": {
         "anchor": "x",
         "domain": [
          0,
          1
         ],
         "title": {
          "text": "Liquidado a Pagar"
         },
         "type": "log"
        }
       }
      }
     },
     "metadata": {},
     "output_type": "display_data"
    }
   ],
   "source": [
    "df_aux = df_liqui_a_pagar.groupby(by='NOME_NDSI')['LIQUIDADO_A_PAGAR'].sum().sort_values( ascending=False).reset_index()\n",
    "\n",
    "fig = px.bar(df_aux,\n",
    "             x = 'NOME_NDSI',\n",
    "             y = 'LIQUIDADO_A_PAGAR',\n",
    "             log_y=True,\n",
    "             height=900,\n",
    "             title='Saldos liquidados a pagar por NDSI',\n",
    "             labels={'NOME_NDSI':'Descrição do Subitem', 'LIQUIDADO_A_PAGAR':'Liquidado a Pagar'},\n",
    "             text_auto='.3s',\n",
    "             color='LIQUIDADO_A_PAGAR',\n",
    "             color_continuous_scale = 'reds',\n",
    "             template='plotly_dark')\n",
    "fig.update_traces(textposition = 'outside', cliponaxis = False, hovertemplate=None)\n",
    "fig.update_layout(hovermode=\"x unified\")\n",
    "\n",
    "fig.show()"
   ]
  },
  {
   "cell_type": "code",
   "execution_count": null,
   "metadata": {},
   "outputs": [],
   "source": []
  },
  {
   "cell_type": "code",
   "execution_count": 34,
   "metadata": {},
   "outputs": [
    {
     "data": {
      "text/html": [
       "<div>\n",
       "<style scoped>\n",
       "    .dataframe tbody tr th:only-of-type {\n",
       "        vertical-align: middle;\n",
       "    }\n",
       "\n",
       "    .dataframe tbody tr th {\n",
       "        vertical-align: top;\n",
       "    }\n",
       "\n",
       "    .dataframe thead th {\n",
       "        text-align: right;\n",
       "    }\n",
       "</style>\n",
       "<table border=\"1\" class=\"dataframe\">\n",
       "  <thead>\n",
       "    <tr style=\"text-align: right;\">\n",
       "      <th></th>\n",
       "      <th>UG</th>\n",
       "      <th>SIGLA UG</th>\n",
       "      <th>ACAO</th>\n",
       "      <th>NOME_ACAO</th>\n",
       "      <th>ANO</th>\n",
       "      <th>CREDOR</th>\n",
       "      <th>NOME_CREDOR</th>\n",
       "      <th>DATA</th>\n",
       "      <th>DIAS</th>\n",
       "      <th>ICFEX</th>\n",
       "      <th>NOME_ICFEX</th>\n",
       "      <th>ND</th>\n",
       "      <th>NOME_ND</th>\n",
       "      <th>NDSI</th>\n",
       "      <th>NOME_NDSI</th>\n",
       "      <th>NE</th>\n",
       "      <th>PI</th>\n",
       "      <th>NOME_PI</th>\n",
       "      <th>PROGRAMA</th>\n",
       "      <th>PTRES</th>\n",
       "      <th>TIPO</th>\n",
       "      <th>TIPO_NE</th>\n",
       "      <th>LOCAL</th>\n",
       "      <th>UF_CREDOR</th>\n",
       "      <th>UF_UG</th>\n",
       "      <th>UGR</th>\n",
       "      <th>NOME_UGR</th>\n",
       "      <th>RADPI4</th>\n",
       "      <th>MEIPI3</th>\n",
       "      <th>SUFPI4</th>\n",
       "      <th>A_LIQUIDAR</th>\n",
       "      <th>LIQUIDADO_A_PAGAR</th>\n",
       "      <th>TOTAL_A_PAGAR</th>\n",
       "      <th>PAGO</th>\n",
       "    </tr>\n",
       "  </thead>\n",
       "  <tbody>\n",
       "    <tr>\n",
       "      <th>1358</th>\n",
       "      <td>167129</td>\n",
       "      <td>ESA</td>\n",
       "      <td>2000</td>\n",
       "      <td>ADMINISTRACAO DA UNIDADE</td>\n",
       "      <td>2022</td>\n",
       "      <td>26669742000106</td>\n",
       "      <td>J. T. CATALDO CASTRO CRIATIVA DIGITAL</td>\n",
       "      <td>2022-11-30</td>\n",
       "      <td>324</td>\n",
       "      <td>160533</td>\n",
       "      <td>4º CGCFEX</td>\n",
       "      <td>339039</td>\n",
       "      <td>OUTROS SERVICOS DE TERCEIROS - PESSOA JURIDICA</td>\n",
       "      <td>33903963</td>\n",
       "      <td>SERVICOS GRAFICOS E EDITORIAIS</td>\n",
       "      <td>2022NE001843</td>\n",
       "      <td>C1ENCONDETM</td>\n",
       "      <td>CONCURSOS AS ESCOLAS MILITARES</td>\n",
       "      <td>0032</td>\n",
       "      <td>171502</td>\n",
       "      <td>RPNP</td>\n",
       "      <td>ORDINARIO</td>\n",
       "      <td>ESCOLA DE SARGENTOS DAS ARMAS  - AVENIDA SETE ...</td>\n",
       "      <td>RJ</td>\n",
       "      <td>MG</td>\n",
       "      <td>167503</td>\n",
       "      <td>DECEX - GESTOR</td>\n",
       "      <td>C1EN</td>\n",
       "      <td>CON</td>\n",
       "      <td>DETM</td>\n",
       "      <td>1016.25</td>\n",
       "      <td>0.00</td>\n",
       "      <td>1016.25</td>\n",
       "      <td>0.00</td>\n",
       "    </tr>\n",
       "    <tr>\n",
       "      <th>1375</th>\n",
       "      <td>167129</td>\n",
       "      <td>ESA</td>\n",
       "      <td>2000</td>\n",
       "      <td>ADMINISTRACAO DA UNIDADE</td>\n",
       "      <td>2023</td>\n",
       "      <td>01590728000850</td>\n",
       "      <td>MICROTECNICA INFORMATICA LTDA</td>\n",
       "      <td>2023-10-05</td>\n",
       "      <td>15</td>\n",
       "      <td>160533</td>\n",
       "      <td>4º CGCFEX</td>\n",
       "      <td>449052</td>\n",
       "      <td>EQUIPAMENTOS E MATERIAL PERMANENTE</td>\n",
       "      <td>44905230</td>\n",
       "      <td>MAQUINAS E EQUIPAMENTOS ENERGETICOS</td>\n",
       "      <td>2023NE001635</td>\n",
       "      <td>C1ENCONDETM</td>\n",
       "      <td>CONCURSOS AS ESCOLAS MILITARES</td>\n",
       "      <td>0032</td>\n",
       "      <td>171502</td>\n",
       "      <td>ANO</td>\n",
       "      <td>ORDINARIO</td>\n",
       "      <td>ESCOLA DE SARGENTOS DAS ARMAS  - AVENIDA SETE ...</td>\n",
       "      <td>MG</td>\n",
       "      <td>MG</td>\n",
       "      <td>167503</td>\n",
       "      <td>DECEX - GESTOR</td>\n",
       "      <td>C1EN</td>\n",
       "      <td>CON</td>\n",
       "      <td>DETM</td>\n",
       "      <td>14845.00</td>\n",
       "      <td>0.00</td>\n",
       "      <td>14845.00</td>\n",
       "      <td>0.00</td>\n",
       "    </tr>\n",
       "    <tr>\n",
       "      <th>1378</th>\n",
       "      <td>167129</td>\n",
       "      <td>ESA</td>\n",
       "      <td>2000</td>\n",
       "      <td>ADMINISTRACAO DA UNIDADE</td>\n",
       "      <td>2023</td>\n",
       "      <td>03539933000140</td>\n",
       "      <td>INDUSTRIA E COMERCIO DE RODOS RODOBEM LTDA</td>\n",
       "      <td>2023-10-02</td>\n",
       "      <td>18</td>\n",
       "      <td>160533</td>\n",
       "      <td>4º CGCFEX</td>\n",
       "      <td>339030</td>\n",
       "      <td>MATERIAL DE CONSUMO</td>\n",
       "      <td>33903022</td>\n",
       "      <td>MATERIAL DE LIMPEZA E PROD. DE HIGIENIZACAO</td>\n",
       "      <td>2023NE001617</td>\n",
       "      <td>C1ENCONDETM</td>\n",
       "      <td>CONCURSOS AS ESCOLAS MILITARES</td>\n",
       "      <td>0032</td>\n",
       "      <td>171502</td>\n",
       "      <td>ANO</td>\n",
       "      <td>ORDINARIO</td>\n",
       "      <td>ESCOLA DE SARGENTOS DAS ARMAS</td>\n",
       "      <td>GO</td>\n",
       "      <td>MG</td>\n",
       "      <td>167503</td>\n",
       "      <td>DECEX - GESTOR</td>\n",
       "      <td>C1EN</td>\n",
       "      <td>CON</td>\n",
       "      <td>DETM</td>\n",
       "      <td>358.80</td>\n",
       "      <td>0.00</td>\n",
       "      <td>358.80</td>\n",
       "      <td>0.00</td>\n",
       "    </tr>\n",
       "    <tr>\n",
       "      <th>1379</th>\n",
       "      <td>167129</td>\n",
       "      <td>ESA</td>\n",
       "      <td>2000</td>\n",
       "      <td>ADMINISTRACAO DA UNIDADE</td>\n",
       "      <td>2023</td>\n",
       "      <td>06307463000187</td>\n",
       "      <td>GUSMAO E SILVA AUTOPECAS E SERVICOS LTDA</td>\n",
       "      <td>2023-09-27</td>\n",
       "      <td>23</td>\n",
       "      <td>160533</td>\n",
       "      <td>4º CGCFEX</td>\n",
       "      <td>339039</td>\n",
       "      <td>OUTROS SERVICOS DE TERCEIROS - PESSOA JURIDICA</td>\n",
       "      <td>33903919</td>\n",
       "      <td>MANUTENCAO E CONSERV. DE VEICULOS</td>\n",
       "      <td>2023NE001602</td>\n",
       "      <td>C1ENCONDETM</td>\n",
       "      <td>CONCURSOS AS ESCOLAS MILITARES</td>\n",
       "      <td>0032</td>\n",
       "      <td>171502</td>\n",
       "      <td>ANO</td>\n",
       "      <td>ORDINARIO</td>\n",
       "      <td>ESCOLA DE SARGENTOS DAS ARMAS</td>\n",
       "      <td>RJ</td>\n",
       "      <td>MG</td>\n",
       "      <td>167503</td>\n",
       "      <td>DECEX - GESTOR</td>\n",
       "      <td>C1EN</td>\n",
       "      <td>CON</td>\n",
       "      <td>DETM</td>\n",
       "      <td>1680.00</td>\n",
       "      <td>0.00</td>\n",
       "      <td>1680.00</td>\n",
       "      <td>0.00</td>\n",
       "    </tr>\n",
       "    <tr>\n",
       "      <th>1380</th>\n",
       "      <td>167129</td>\n",
       "      <td>ESA</td>\n",
       "      <td>2000</td>\n",
       "      <td>ADMINISTRACAO DA UNIDADE</td>\n",
       "      <td>2023</td>\n",
       "      <td>06351401000172</td>\n",
       "      <td>DIMAS INDUSTRIA DE MOVEIS LTDA</td>\n",
       "      <td>2023-09-29</td>\n",
       "      <td>21</td>\n",
       "      <td>160533</td>\n",
       "      <td>4º CGCFEX</td>\n",
       "      <td>449052</td>\n",
       "      <td>EQUIPAMENTOS E MATERIAL PERMANENTE</td>\n",
       "      <td>44905242</td>\n",
       "      <td>MOBILIARIO EM GERAL</td>\n",
       "      <td>2023NE001612</td>\n",
       "      <td>C1ENCONDETM</td>\n",
       "      <td>CONCURSOS AS ESCOLAS MILITARES</td>\n",
       "      <td>0032</td>\n",
       "      <td>171502</td>\n",
       "      <td>ANO</td>\n",
       "      <td>ORDINARIO</td>\n",
       "      <td>ESCOLA DE SARGENTOS DAS ARMAS  - AVENIDA SETE ...</td>\n",
       "      <td>MG</td>\n",
       "      <td>MG</td>\n",
       "      <td>167503</td>\n",
       "      <td>DECEX - GESTOR</td>\n",
       "      <td>C1EN</td>\n",
       "      <td>CON</td>\n",
       "      <td>DETM</td>\n",
       "      <td>6496.00</td>\n",
       "      <td>0.00</td>\n",
       "      <td>6496.00</td>\n",
       "      <td>0.00</td>\n",
       "    </tr>\n",
       "    <tr>\n",
       "      <th>1382</th>\n",
       "      <td>167129</td>\n",
       "      <td>ESA</td>\n",
       "      <td>2000</td>\n",
       "      <td>ADMINISTRACAO DA UNIDADE</td>\n",
       "      <td>2023</td>\n",
       "      <td>08605233000120</td>\n",
       "      <td>BALCAO DOS PARAFUSOS E FERRAMENTAS LTDA</td>\n",
       "      <td>2023-10-04</td>\n",
       "      <td>16</td>\n",
       "      <td>160533</td>\n",
       "      <td>4º CGCFEX</td>\n",
       "      <td>449052</td>\n",
       "      <td>EQUIPAMENTOS E MATERIAL PERMANENTE</td>\n",
       "      <td>44905234</td>\n",
       "      <td>MAQUINAS, UTENSILIOS E EQUIPAMENTOS  DIVERSOS</td>\n",
       "      <td>2023NE001632</td>\n",
       "      <td>C1ENCONDETM</td>\n",
       "      <td>CONCURSOS AS ESCOLAS MILITARES</td>\n",
       "      <td>0032</td>\n",
       "      <td>171502</td>\n",
       "      <td>ANO</td>\n",
       "      <td>ORDINARIO</td>\n",
       "      <td>ESCOLA DE SARGENTOS DAS ARMAS</td>\n",
       "      <td>MG</td>\n",
       "      <td>MG</td>\n",
       "      <td>167503</td>\n",
       "      <td>DECEX - GESTOR</td>\n",
       "      <td>C1EN</td>\n",
       "      <td>CON</td>\n",
       "      <td>DETM</td>\n",
       "      <td>1870.00</td>\n",
       "      <td>0.00</td>\n",
       "      <td>1870.00</td>\n",
       "      <td>0.00</td>\n",
       "    </tr>\n",
       "    <tr>\n",
       "      <th>1384</th>\n",
       "      <td>167129</td>\n",
       "      <td>ESA</td>\n",
       "      <td>2000</td>\n",
       "      <td>ADMINISTRACAO DA UNIDADE</td>\n",
       "      <td>2023</td>\n",
       "      <td>08906031000118</td>\n",
       "      <td>AMAZING METALURGICA LTDA</td>\n",
       "      <td>2023-08-28</td>\n",
       "      <td>53</td>\n",
       "      <td>160533</td>\n",
       "      <td>4º CGCFEX</td>\n",
       "      <td>449052</td>\n",
       "      <td>EQUIPAMENTOS E MATERIAL PERMANENTE</td>\n",
       "      <td>44905242</td>\n",
       "      <td>MOBILIARIO EM GERAL</td>\n",
       "      <td>2023NE001428</td>\n",
       "      <td>C1ENCONDETM</td>\n",
       "      <td>CONCURSOS AS ESCOLAS MILITARES</td>\n",
       "      <td>0032</td>\n",
       "      <td>171502</td>\n",
       "      <td>ANO</td>\n",
       "      <td>ORDINARIO</td>\n",
       "      <td>ESCOLA DE SARGENTOS DAS ARMAS</td>\n",
       "      <td>PR</td>\n",
       "      <td>MG</td>\n",
       "      <td>167503</td>\n",
       "      <td>DECEX - GESTOR</td>\n",
       "      <td>C1EN</td>\n",
       "      <td>CON</td>\n",
       "      <td>DETM</td>\n",
       "      <td>139000.00</td>\n",
       "      <td>0.00</td>\n",
       "      <td>139000.00</td>\n",
       "      <td>0.00</td>\n",
       "    </tr>\n",
       "    <tr>\n",
       "      <th>1385</th>\n",
       "      <td>167129</td>\n",
       "      <td>ESA</td>\n",
       "      <td>2000</td>\n",
       "      <td>ADMINISTRACAO DA UNIDADE</td>\n",
       "      <td>2023</td>\n",
       "      <td>08907476000112</td>\n",
       "      <td>AUTO PECAS E SERVICOS MECANICOS PLAYCAR LTDA</td>\n",
       "      <td>2023-09-27</td>\n",
       "      <td>23</td>\n",
       "      <td>160533</td>\n",
       "      <td>4º CGCFEX</td>\n",
       "      <td>339039</td>\n",
       "      <td>OUTROS SERVICOS DE TERCEIROS - PESSOA JURIDICA</td>\n",
       "      <td>33903919</td>\n",
       "      <td>MANUTENCAO E CONSERV. DE VEICULOS</td>\n",
       "      <td>2023NE001604</td>\n",
       "      <td>C1ENCONDETM</td>\n",
       "      <td>CONCURSOS AS ESCOLAS MILITARES</td>\n",
       "      <td>0032</td>\n",
       "      <td>171502</td>\n",
       "      <td>ANO</td>\n",
       "      <td>ORDINARIO</td>\n",
       "      <td>ESCOLA DE SARGENTOS DAS ARMAS</td>\n",
       "      <td>DF</td>\n",
       "      <td>MG</td>\n",
       "      <td>167503</td>\n",
       "      <td>DECEX - GESTOR</td>\n",
       "      <td>C1EN</td>\n",
       "      <td>CON</td>\n",
       "      <td>DETM</td>\n",
       "      <td>1003.00</td>\n",
       "      <td>0.00</td>\n",
       "      <td>1003.00</td>\n",
       "      <td>0.00</td>\n",
       "    </tr>\n",
       "    <tr>\n",
       "      <th>1387</th>\n",
       "      <td>167129</td>\n",
       "      <td>ESA</td>\n",
       "      <td>2000</td>\n",
       "      <td>ADMINISTRACAO DA UNIDADE</td>\n",
       "      <td>2023</td>\n",
       "      <td>09249668000141</td>\n",
       "      <td>INDUSTRIA GRAFICA ESCALA LTDA</td>\n",
       "      <td>2023-10-11</td>\n",
       "      <td>9</td>\n",
       "      <td>160533</td>\n",
       "      <td>4º CGCFEX</td>\n",
       "      <td>339039</td>\n",
       "      <td>OUTROS SERVICOS DE TERCEIROS - PESSOA JURIDICA</td>\n",
       "      <td>33903963</td>\n",
       "      <td>SERVICOS GRAFICOS E EDITORIAIS</td>\n",
       "      <td>2023NE001646</td>\n",
       "      <td>C1ENCONDETM</td>\n",
       "      <td>CONCURSOS AS ESCOLAS MILITARES</td>\n",
       "      <td>0032</td>\n",
       "      <td>171502</td>\n",
       "      <td>ANO</td>\n",
       "      <td>GLOBAL</td>\n",
       "      <td>ESCOLA DE SARGENTOS DAS ARMAS</td>\n",
       "      <td>SC</td>\n",
       "      <td>MG</td>\n",
       "      <td>167503</td>\n",
       "      <td>DECEX - GESTOR</td>\n",
       "      <td>C1EN</td>\n",
       "      <td>CON</td>\n",
       "      <td>DETM</td>\n",
       "      <td>332053.92</td>\n",
       "      <td>0.00</td>\n",
       "      <td>332053.92</td>\n",
       "      <td>0.00</td>\n",
       "    </tr>\n",
       "    <tr>\n",
       "      <th>1390</th>\n",
       "      <td>167129</td>\n",
       "      <td>ESA</td>\n",
       "      <td>2000</td>\n",
       "      <td>ADMINISTRACAO DA UNIDADE</td>\n",
       "      <td>2023</td>\n",
       "      <td>13642117000110</td>\n",
       "      <td>SUPER URGENTE TRANSPORTE AEREO E RODOVIARIO LTDA</td>\n",
       "      <td>2023-03-10</td>\n",
       "      <td>224</td>\n",
       "      <td>160533</td>\n",
       "      <td>4º CGCFEX</td>\n",
       "      <td>339039</td>\n",
       "      <td>OUTROS SERVICOS DE TERCEIROS - PESSOA JURIDICA</td>\n",
       "      <td>33903974</td>\n",
       "      <td>FRETES E TRANSPORTES DE ENCOMENDAS</td>\n",
       "      <td>2023NE000461</td>\n",
       "      <td>C1ENCONDETM</td>\n",
       "      <td>CONCURSOS AS ESCOLAS MILITARES</td>\n",
       "      <td>0032</td>\n",
       "      <td>171502</td>\n",
       "      <td>ANO</td>\n",
       "      <td>GLOBAL</td>\n",
       "      <td>ESCOLA DE SARGENTOS DAS ARMAS, AVENIDA SETE DE...</td>\n",
       "      <td>MG</td>\n",
       "      <td>MG</td>\n",
       "      <td>167503</td>\n",
       "      <td>DECEX - GESTOR</td>\n",
       "      <td>C1EN</td>\n",
       "      <td>CON</td>\n",
       "      <td>DETM</td>\n",
       "      <td>151926.46</td>\n",
       "      <td>0.00</td>\n",
       "      <td>151926.46</td>\n",
       "      <td>119558.70</td>\n",
       "    </tr>\n",
       "    <tr>\n",
       "      <th>1393</th>\n",
       "      <td>167129</td>\n",
       "      <td>ESA</td>\n",
       "      <td>2000</td>\n",
       "      <td>ADMINISTRACAO DA UNIDADE</td>\n",
       "      <td>2023</td>\n",
       "      <td>14459158000139</td>\n",
       "      <td>RVN DISTRIBUIDORA DE PRODUTOS LTDA</td>\n",
       "      <td>2023-10-02</td>\n",
       "      <td>18</td>\n",
       "      <td>160533</td>\n",
       "      <td>4º CGCFEX</td>\n",
       "      <td>339030</td>\n",
       "      <td>MATERIAL DE CONSUMO</td>\n",
       "      <td>33903022</td>\n",
       "      <td>MATERIAL DE LIMPEZA E PROD. DE HIGIENIZACAO</td>\n",
       "      <td>2023NE001618</td>\n",
       "      <td>C1ENCONDETM</td>\n",
       "      <td>CONCURSOS AS ESCOLAS MILITARES</td>\n",
       "      <td>0032</td>\n",
       "      <td>171502</td>\n",
       "      <td>ANO</td>\n",
       "      <td>ORDINARIO</td>\n",
       "      <td>ESCOLA DE SARGENTOS DAS ARMAS</td>\n",
       "      <td>SP</td>\n",
       "      <td>MG</td>\n",
       "      <td>167503</td>\n",
       "      <td>DECEX - GESTOR</td>\n",
       "      <td>C1EN</td>\n",
       "      <td>CON</td>\n",
       "      <td>DETM</td>\n",
       "      <td>188.50</td>\n",
       "      <td>0.00</td>\n",
       "      <td>188.50</td>\n",
       "      <td>0.00</td>\n",
       "    </tr>\n",
       "    <tr>\n",
       "      <th>1395</th>\n",
       "      <td>167129</td>\n",
       "      <td>ESA</td>\n",
       "      <td>2000</td>\n",
       "      <td>ADMINISTRACAO DA UNIDADE</td>\n",
       "      <td>2023</td>\n",
       "      <td>14807420000199</td>\n",
       "      <td>FACTO TURISMO  LTDA</td>\n",
       "      <td>2023-09-28</td>\n",
       "      <td>22</td>\n",
       "      <td>160533</td>\n",
       "      <td>4º CGCFEX</td>\n",
       "      <td>339033</td>\n",
       "      <td>PASSAGENS E DESPESAS COM LOCOMOCAO</td>\n",
       "      <td>33903301</td>\n",
       "      <td>PASSAGENS PARA O PAIS</td>\n",
       "      <td>2023NE001607</td>\n",
       "      <td>C1ENCONDETM</td>\n",
       "      <td>CONCURSOS AS ESCOLAS MILITARES</td>\n",
       "      <td>0032</td>\n",
       "      <td>171502</td>\n",
       "      <td>ANO</td>\n",
       "      <td>GLOBAL</td>\n",
       "      <td>ESA</td>\n",
       "      <td>SP</td>\n",
       "      <td>MG</td>\n",
       "      <td>167503</td>\n",
       "      <td>DECEX - GESTOR</td>\n",
       "      <td>C1EN</td>\n",
       "      <td>CON</td>\n",
       "      <td>DETM</td>\n",
       "      <td>193.33</td>\n",
       "      <td>4950.01</td>\n",
       "      <td>5143.34</td>\n",
       "      <td>0.00</td>\n",
       "    </tr>\n",
       "    <tr>\n",
       "      <th>1398</th>\n",
       "      <td>167129</td>\n",
       "      <td>ESA</td>\n",
       "      <td>2000</td>\n",
       "      <td>ADMINISTRACAO DA UNIDADE</td>\n",
       "      <td>2023</td>\n",
       "      <td>167129</td>\n",
       "      <td>NaN</td>\n",
       "      <td>2023-01-30</td>\n",
       "      <td>263</td>\n",
       "      <td>160533</td>\n",
       "      <td>4º CGCFEX</td>\n",
       "      <td>339015</td>\n",
       "      <td>DIARIAS - PESSOAL MILITAR</td>\n",
       "      <td>33901514</td>\n",
       "      <td>DIARIAS NO PAIS</td>\n",
       "      <td>2023NE000208</td>\n",
       "      <td>C1ENCONDETM</td>\n",
       "      <td>CONCURSOS AS ESCOLAS MILITARES</td>\n",
       "      <td>0032</td>\n",
       "      <td>171502</td>\n",
       "      <td>ANO</td>\n",
       "      <td>ORDINARIO</td>\n",
       "      <td>0</td>\n",
       "      <td>NaN</td>\n",
       "      <td>MG</td>\n",
       "      <td>167129</td>\n",
       "      <td>ESA</td>\n",
       "      <td>C1EN</td>\n",
       "      <td>CON</td>\n",
       "      <td>DETM</td>\n",
       "      <td>30965.93</td>\n",
       "      <td>190.57</td>\n",
       "      <td>31156.50</td>\n",
       "      <td>36843.50</td>\n",
       "    </tr>\n",
       "    <tr>\n",
       "      <th>1400</th>\n",
       "      <td>167129</td>\n",
       "      <td>ESA</td>\n",
       "      <td>2000</td>\n",
       "      <td>ADMINISTRACAO DA UNIDADE</td>\n",
       "      <td>2023</td>\n",
       "      <td>19116488000145</td>\n",
       "      <td>PARTS LUB DISTRIBUIDORA E SERVICOS LTDA</td>\n",
       "      <td>2023-09-27</td>\n",
       "      <td>23</td>\n",
       "      <td>160533</td>\n",
       "      <td>4º CGCFEX</td>\n",
       "      <td>339039</td>\n",
       "      <td>OUTROS SERVICOS DE TERCEIROS - PESSOA JURIDICA</td>\n",
       "      <td>33903919</td>\n",
       "      <td>MANUTENCAO E CONSERV. DE VEICULOS</td>\n",
       "      <td>2023NE001600</td>\n",
       "      <td>C1ENCONDETM</td>\n",
       "      <td>CONCURSOS AS ESCOLAS MILITARES</td>\n",
       "      <td>0032</td>\n",
       "      <td>171502</td>\n",
       "      <td>ANO</td>\n",
       "      <td>ORDINARIO</td>\n",
       "      <td>ESCOLA DE SARGENTOS DAS ARMAS</td>\n",
       "      <td>SP</td>\n",
       "      <td>MG</td>\n",
       "      <td>167503</td>\n",
       "      <td>DECEX - GESTOR</td>\n",
       "      <td>C1EN</td>\n",
       "      <td>CON</td>\n",
       "      <td>DETM</td>\n",
       "      <td>1170.00</td>\n",
       "      <td>0.00</td>\n",
       "      <td>1170.00</td>\n",
       "      <td>0.00</td>\n",
       "    </tr>\n",
       "    <tr>\n",
       "      <th>1405</th>\n",
       "      <td>167129</td>\n",
       "      <td>ESA</td>\n",
       "      <td>2000</td>\n",
       "      <td>ADMINISTRACAO DA UNIDADE</td>\n",
       "      <td>2023</td>\n",
       "      <td>21331404000138</td>\n",
       "      <td>ORLEANS VIAGENS E TURISMO LTDA</td>\n",
       "      <td>2023-03-03</td>\n",
       "      <td>231</td>\n",
       "      <td>160533</td>\n",
       "      <td>4º CGCFEX</td>\n",
       "      <td>339033</td>\n",
       "      <td>PASSAGENS E DESPESAS COM LOCOMOCAO</td>\n",
       "      <td>33903301</td>\n",
       "      <td>PASSAGENS PARA O PAIS</td>\n",
       "      <td>2023NE000454</td>\n",
       "      <td>C1ENCONDETM</td>\n",
       "      <td>CONCURSOS AS ESCOLAS MILITARES</td>\n",
       "      <td>0032</td>\n",
       "      <td>171502</td>\n",
       "      <td>ANO</td>\n",
       "      <td>GLOBAL</td>\n",
       "      <td>ESA</td>\n",
       "      <td>SP</td>\n",
       "      <td>MG</td>\n",
       "      <td>167503</td>\n",
       "      <td>DECEX - GESTOR</td>\n",
       "      <td>C1EN</td>\n",
       "      <td>CON</td>\n",
       "      <td>DETM</td>\n",
       "      <td>1617.99</td>\n",
       "      <td>0.00</td>\n",
       "      <td>1617.99</td>\n",
       "      <td>382.01</td>\n",
       "    </tr>\n",
       "    <tr>\n",
       "      <th>1407</th>\n",
       "      <td>167129</td>\n",
       "      <td>ESA</td>\n",
       "      <td>2000</td>\n",
       "      <td>ADMINISTRACAO DA UNIDADE</td>\n",
       "      <td>2023</td>\n",
       "      <td>27028550000175</td>\n",
       "      <td>J M SERVICOS URBANOS E CONSTRUCOES LTDA</td>\n",
       "      <td>2023-10-16</td>\n",
       "      <td>4</td>\n",
       "      <td>160533</td>\n",
       "      <td>4º CGCFEX</td>\n",
       "      <td>449052</td>\n",
       "      <td>EQUIPAMENTOS E MATERIAL PERMANENTE</td>\n",
       "      <td>44905224</td>\n",
       "      <td>EQUIPAMENTO DE PROTECAO, SEGURANCA E  SOCORRO</td>\n",
       "      <td>2023NE001654</td>\n",
       "      <td>C1ENCONDETM</td>\n",
       "      <td>CONCURSOS AS ESCOLAS MILITARES</td>\n",
       "      <td>0032</td>\n",
       "      <td>171502</td>\n",
       "      <td>ANO</td>\n",
       "      <td>ORDINARIO</td>\n",
       "      <td>ESCOLA DE SARGENTOS DAS ARMAS  - AVENIDA SETE ...</td>\n",
       "      <td>MG</td>\n",
       "      <td>MG</td>\n",
       "      <td>167503</td>\n",
       "      <td>DECEX - GESTOR</td>\n",
       "      <td>C1EN</td>\n",
       "      <td>CON</td>\n",
       "      <td>DETM</td>\n",
       "      <td>45000.00</td>\n",
       "      <td>0.00</td>\n",
       "      <td>45000.00</td>\n",
       "      <td>0.00</td>\n",
       "    </tr>\n",
       "    <tr>\n",
       "      <th>1413</th>\n",
       "      <td>167129</td>\n",
       "      <td>ESA</td>\n",
       "      <td>2000</td>\n",
       "      <td>ADMINISTRACAO DA UNIDADE</td>\n",
       "      <td>2023</td>\n",
       "      <td>29023342000109</td>\n",
       "      <td>VLF MAQUINAS E SOLUCOES EMPRESARIAIS LTDA</td>\n",
       "      <td>2023-10-06</td>\n",
       "      <td>14</td>\n",
       "      <td>160533</td>\n",
       "      <td>4º CGCFEX</td>\n",
       "      <td>449052</td>\n",
       "      <td>EQUIPAMENTOS E MATERIAL PERMANENTE</td>\n",
       "      <td>44905232</td>\n",
       "      <td>MAQUINAS E EQUIPAMENTOS GRAFICOS</td>\n",
       "      <td>2023NE001642</td>\n",
       "      <td>C1ENCONDETM</td>\n",
       "      <td>CONCURSOS AS ESCOLAS MILITARES</td>\n",
       "      <td>0032</td>\n",
       "      <td>171502</td>\n",
       "      <td>ANO</td>\n",
       "      <td>ORDINARIO</td>\n",
       "      <td>ESCOLA DE SARGENTOS DAS ARMAS  - AVENIDA SETE ...</td>\n",
       "      <td>PR</td>\n",
       "      <td>MG</td>\n",
       "      <td>167503</td>\n",
       "      <td>DECEX - GESTOR</td>\n",
       "      <td>C1EN</td>\n",
       "      <td>CON</td>\n",
       "      <td>DETM</td>\n",
       "      <td>13778.00</td>\n",
       "      <td>0.00</td>\n",
       "      <td>13778.00</td>\n",
       "      <td>0.00</td>\n",
       "    </tr>\n",
       "    <tr>\n",
       "      <th>1414</th>\n",
       "      <td>167129</td>\n",
       "      <td>ESA</td>\n",
       "      <td>2000</td>\n",
       "      <td>ADMINISTRACAO DA UNIDADE</td>\n",
       "      <td>2023</td>\n",
       "      <td>29774797000166</td>\n",
       "      <td>VULPIX ESPACO SAUDE LTDA</td>\n",
       "      <td>2023-10-03</td>\n",
       "      <td>17</td>\n",
       "      <td>160533</td>\n",
       "      <td>4º CGCFEX</td>\n",
       "      <td>339030</td>\n",
       "      <td>MATERIAL DE CONSUMO</td>\n",
       "      <td>33903011</td>\n",
       "      <td>MATERIAL QUIMICO</td>\n",
       "      <td>2023NE001622</td>\n",
       "      <td>C1ENCONDETM</td>\n",
       "      <td>CONCURSOS AS ESCOLAS MILITARES</td>\n",
       "      <td>0032</td>\n",
       "      <td>171502</td>\n",
       "      <td>ANO</td>\n",
       "      <td>ORDINARIO</td>\n",
       "      <td>ESCOLA DE SARGENTOS DAS ARMAS</td>\n",
       "      <td>AP</td>\n",
       "      <td>MG</td>\n",
       "      <td>167503</td>\n",
       "      <td>DECEX - GESTOR</td>\n",
       "      <td>C1EN</td>\n",
       "      <td>CON</td>\n",
       "      <td>DETM</td>\n",
       "      <td>360.00</td>\n",
       "      <td>0.00</td>\n",
       "      <td>360.00</td>\n",
       "      <td>0.00</td>\n",
       "    </tr>\n",
       "    <tr>\n",
       "      <th>1416</th>\n",
       "      <td>167129</td>\n",
       "      <td>ESA</td>\n",
       "      <td>2000</td>\n",
       "      <td>ADMINISTRACAO DA UNIDADE</td>\n",
       "      <td>2023</td>\n",
       "      <td>31731853000127</td>\n",
       "      <td>NEW LINE SOLUCOES CORPORATIVAS LTDA</td>\n",
       "      <td>2023-10-05</td>\n",
       "      <td>15</td>\n",
       "      <td>160533</td>\n",
       "      <td>4º CGCFEX</td>\n",
       "      <td>449052</td>\n",
       "      <td>EQUIPAMENTOS E MATERIAL PERMANENTE</td>\n",
       "      <td>44905242</td>\n",
       "      <td>MOBILIARIO EM GERAL</td>\n",
       "      <td>2023NE001636</td>\n",
       "      <td>C1ENCONDETM</td>\n",
       "      <td>CONCURSOS AS ESCOLAS MILITARES</td>\n",
       "      <td>0032</td>\n",
       "      <td>171502</td>\n",
       "      <td>ANO</td>\n",
       "      <td>ORDINARIO</td>\n",
       "      <td>ESCOLA DE SARGENTOS DAS ARMAS  - AVENIDA SETE ...</td>\n",
       "      <td>GO</td>\n",
       "      <td>MG</td>\n",
       "      <td>167503</td>\n",
       "      <td>DECEX - GESTOR</td>\n",
       "      <td>C1EN</td>\n",
       "      <td>CON</td>\n",
       "      <td>DETM</td>\n",
       "      <td>7000.00</td>\n",
       "      <td>0.00</td>\n",
       "      <td>7000.00</td>\n",
       "      <td>0.00</td>\n",
       "    </tr>\n",
       "    <tr>\n",
       "      <th>1417</th>\n",
       "      <td>167129</td>\n",
       "      <td>ESA</td>\n",
       "      <td>2000</td>\n",
       "      <td>ADMINISTRACAO DA UNIDADE</td>\n",
       "      <td>2023</td>\n",
       "      <td>31731853000127</td>\n",
       "      <td>NEW LINE SOLUCOES CORPORATIVAS LTDA</td>\n",
       "      <td>2023-10-05</td>\n",
       "      <td>15</td>\n",
       "      <td>160533</td>\n",
       "      <td>4º CGCFEX</td>\n",
       "      <td>449052</td>\n",
       "      <td>EQUIPAMENTOS E MATERIAL PERMANENTE</td>\n",
       "      <td>44905242</td>\n",
       "      <td>MOBILIARIO EM GERAL</td>\n",
       "      <td>2023NE001637</td>\n",
       "      <td>C1ENCONDETM</td>\n",
       "      <td>CONCURSOS AS ESCOLAS MILITARES</td>\n",
       "      <td>0032</td>\n",
       "      <td>171502</td>\n",
       "      <td>ANO</td>\n",
       "      <td>ORDINARIO</td>\n",
       "      <td>ESCOLA DE SARGENTOS DAS ARMAS  - AVENIDA SETE ...</td>\n",
       "      <td>GO</td>\n",
       "      <td>MG</td>\n",
       "      <td>167503</td>\n",
       "      <td>DECEX - GESTOR</td>\n",
       "      <td>C1EN</td>\n",
       "      <td>CON</td>\n",
       "      <td>DETM</td>\n",
       "      <td>15736.00</td>\n",
       "      <td>0.00</td>\n",
       "      <td>15736.00</td>\n",
       "      <td>0.00</td>\n",
       "    </tr>\n",
       "    <tr>\n",
       "      <th>1419</th>\n",
       "      <td>167129</td>\n",
       "      <td>ESA</td>\n",
       "      <td>2000</td>\n",
       "      <td>ADMINISTRACAO DA UNIDADE</td>\n",
       "      <td>2023</td>\n",
       "      <td>33618396000194</td>\n",
       "      <td>FABRICIO RACHADEL COSTA</td>\n",
       "      <td>2023-10-17</td>\n",
       "      <td>3</td>\n",
       "      <td>160533</td>\n",
       "      <td>4º CGCFEX</td>\n",
       "      <td>449052</td>\n",
       "      <td>EQUIPAMENTOS E MATERIAL PERMANENTE</td>\n",
       "      <td>44905248</td>\n",
       "      <td>VEICULOS DIVERSOS</td>\n",
       "      <td>2023NE001662</td>\n",
       "      <td>C1ENCONDETM</td>\n",
       "      <td>CONCURSOS AS ESCOLAS MILITARES</td>\n",
       "      <td>0032</td>\n",
       "      <td>171502</td>\n",
       "      <td>ANO</td>\n",
       "      <td>ORDINARIO</td>\n",
       "      <td>ESCOLA DE SARGENTOS DAS ARMAS  - AVENIDA SETE ...</td>\n",
       "      <td>SC</td>\n",
       "      <td>MG</td>\n",
       "      <td>167503</td>\n",
       "      <td>DECEX - GESTOR</td>\n",
       "      <td>C1EN</td>\n",
       "      <td>CON</td>\n",
       "      <td>DETM</td>\n",
       "      <td>1084.90</td>\n",
       "      <td>0.00</td>\n",
       "      <td>1084.90</td>\n",
       "      <td>0.00</td>\n",
       "    </tr>\n",
       "    <tr>\n",
       "      <th>1420</th>\n",
       "      <td>167129</td>\n",
       "      <td>ESA</td>\n",
       "      <td>2000</td>\n",
       "      <td>ADMINISTRACAO DA UNIDADE</td>\n",
       "      <td>2023</td>\n",
       "      <td>37583132000101</td>\n",
       "      <td>JOSADAC MENDES FAQUINELI 83573844634</td>\n",
       "      <td>2023-09-28</td>\n",
       "      <td>22</td>\n",
       "      <td>160533</td>\n",
       "      <td>4º CGCFEX</td>\n",
       "      <td>449052</td>\n",
       "      <td>EQUIPAMENTOS E MATERIAL PERMANENTE</td>\n",
       "      <td>44905230</td>\n",
       "      <td>MAQUINAS E EQUIPAMENTOS ENERGETICOS</td>\n",
       "      <td>2023NE001606</td>\n",
       "      <td>C1ENCONDETM</td>\n",
       "      <td>CONCURSOS AS ESCOLAS MILITARES</td>\n",
       "      <td>0032</td>\n",
       "      <td>171502</td>\n",
       "      <td>ANO</td>\n",
       "      <td>ORDINARIO</td>\n",
       "      <td>ESCOLA DE SARGENTOS DAS ARMAS  - AVENIDA SETE ...</td>\n",
       "      <td>MG</td>\n",
       "      <td>MG</td>\n",
       "      <td>167503</td>\n",
       "      <td>DECEX - GESTOR</td>\n",
       "      <td>C1EN</td>\n",
       "      <td>CON</td>\n",
       "      <td>DETM</td>\n",
       "      <td>8808.41</td>\n",
       "      <td>0.00</td>\n",
       "      <td>8808.41</td>\n",
       "      <td>0.00</td>\n",
       "    </tr>\n",
       "    <tr>\n",
       "      <th>1421</th>\n",
       "      <td>167129</td>\n",
       "      <td>ESA</td>\n",
       "      <td>2000</td>\n",
       "      <td>ADMINISTRACAO DA UNIDADE</td>\n",
       "      <td>2023</td>\n",
       "      <td>38680138000151</td>\n",
       "      <td>GESMAQ COMERCIO E SERVICOS LTDA</td>\n",
       "      <td>2023-10-19</td>\n",
       "      <td>1</td>\n",
       "      <td>160533</td>\n",
       "      <td>4º CGCFEX</td>\n",
       "      <td>339039</td>\n",
       "      <td>OUTROS SERVICOS DE TERCEIROS - PESSOA JURIDICA</td>\n",
       "      <td>33903917</td>\n",
       "      <td>MANUT. E CONSERV. DE MAQUINAS E EQUIPAMENTOS</td>\n",
       "      <td>2023NE001671</td>\n",
       "      <td>C1ENCONDETM</td>\n",
       "      <td>CONCURSOS AS ESCOLAS MILITARES</td>\n",
       "      <td>0032</td>\n",
       "      <td>171502</td>\n",
       "      <td>ANO</td>\n",
       "      <td>ORDINARIO</td>\n",
       "      <td>ESCOLA DE SARGENTOS DAS ARMAS  - AVENIDA SETE ...</td>\n",
       "      <td>MG</td>\n",
       "      <td>MG</td>\n",
       "      <td>167503</td>\n",
       "      <td>DECEX - GESTOR</td>\n",
       "      <td>C1EN</td>\n",
       "      <td>CON</td>\n",
       "      <td>DETM</td>\n",
       "      <td>33259.98</td>\n",
       "      <td>0.00</td>\n",
       "      <td>33259.98</td>\n",
       "      <td>0.00</td>\n",
       "    </tr>\n",
       "    <tr>\n",
       "      <th>1423</th>\n",
       "      <td>167129</td>\n",
       "      <td>ESA</td>\n",
       "      <td>2000</td>\n",
       "      <td>ADMINISTRACAO DA UNIDADE</td>\n",
       "      <td>2023</td>\n",
       "      <td>39619837000230</td>\n",
       "      <td>MINAS SOLUCOES EM IMPRESSAO LTDA</td>\n",
       "      <td>2023-10-06</td>\n",
       "      <td>14</td>\n",
       "      <td>160533</td>\n",
       "      <td>4º CGCFEX</td>\n",
       "      <td>449052</td>\n",
       "      <td>EQUIPAMENTOS E MATERIAL PERMANENTE</td>\n",
       "      <td>44905235</td>\n",
       "      <td>MATERIAL DE TIC (PERMANENTE)</td>\n",
       "      <td>2023NE001641</td>\n",
       "      <td>C1ENCONDETM</td>\n",
       "      <td>CONCURSOS AS ESCOLAS MILITARES</td>\n",
       "      <td>0032</td>\n",
       "      <td>171502</td>\n",
       "      <td>ANO</td>\n",
       "      <td>ORDINARIO</td>\n",
       "      <td>ESCOLA DE SARGENTOS DAS ARMAS  - AVENIDA SETE ...</td>\n",
       "      <td>ES</td>\n",
       "      <td>MG</td>\n",
       "      <td>167503</td>\n",
       "      <td>DECEX - GESTOR</td>\n",
       "      <td>C1EN</td>\n",
       "      <td>CON</td>\n",
       "      <td>DETM</td>\n",
       "      <td>1390.00</td>\n",
       "      <td>0.00</td>\n",
       "      <td>1390.00</td>\n",
       "      <td>0.00</td>\n",
       "    </tr>\n",
       "    <tr>\n",
       "      <th>1426</th>\n",
       "      <td>167129</td>\n",
       "      <td>ESA</td>\n",
       "      <td>2000</td>\n",
       "      <td>ADMINISTRACAO DA UNIDADE</td>\n",
       "      <td>2023</td>\n",
       "      <td>40225662000184</td>\n",
       "      <td>MBM STORE LTDA</td>\n",
       "      <td>2023-10-03</td>\n",
       "      <td>17</td>\n",
       "      <td>160533</td>\n",
       "      <td>4º CGCFEX</td>\n",
       "      <td>339030</td>\n",
       "      <td>MATERIAL DE CONSUMO</td>\n",
       "      <td>33903022</td>\n",
       "      <td>MATERIAL DE LIMPEZA E PROD. DE HIGIENIZACAO</td>\n",
       "      <td>2023NE001620</td>\n",
       "      <td>C1ENCONDETM</td>\n",
       "      <td>CONCURSOS AS ESCOLAS MILITARES</td>\n",
       "      <td>0032</td>\n",
       "      <td>171502</td>\n",
       "      <td>ANO</td>\n",
       "      <td>ORDINARIO</td>\n",
       "      <td>ESCOLA DE SARGENTOS DAS ARMAS</td>\n",
       "      <td>PR</td>\n",
       "      <td>MG</td>\n",
       "      <td>167503</td>\n",
       "      <td>DECEX - GESTOR</td>\n",
       "      <td>C1EN</td>\n",
       "      <td>CON</td>\n",
       "      <td>DETM</td>\n",
       "      <td>608.00</td>\n",
       "      <td>0.00</td>\n",
       "      <td>608.00</td>\n",
       "      <td>0.00</td>\n",
       "    </tr>\n",
       "    <tr>\n",
       "      <th>1427</th>\n",
       "      <td>167129</td>\n",
       "      <td>ESA</td>\n",
       "      <td>2000</td>\n",
       "      <td>ADMINISTRACAO DA UNIDADE</td>\n",
       "      <td>2023</td>\n",
       "      <td>40426345000126</td>\n",
       "      <td>CITE ELETRODOMESTICOS LTDA</td>\n",
       "      <td>2023-09-29</td>\n",
       "      <td>21</td>\n",
       "      <td>160533</td>\n",
       "      <td>4º CGCFEX</td>\n",
       "      <td>449052</td>\n",
       "      <td>EQUIPAMENTOS E MATERIAL PERMANENTE</td>\n",
       "      <td>44905212</td>\n",
       "      <td>APARELHOS E UTENSILIOS DOMESTICOS</td>\n",
       "      <td>2023NE001611</td>\n",
       "      <td>C1ENCONDETM</td>\n",
       "      <td>CONCURSOS AS ESCOLAS MILITARES</td>\n",
       "      <td>0032</td>\n",
       "      <td>171502</td>\n",
       "      <td>ANO</td>\n",
       "      <td>ORDINARIO</td>\n",
       "      <td>ESCOLA DE SARGENTOS DAS ARMAS  - AVENIDA SETE ...</td>\n",
       "      <td>GO</td>\n",
       "      <td>MG</td>\n",
       "      <td>167503</td>\n",
       "      <td>DECEX - GESTOR</td>\n",
       "      <td>C1EN</td>\n",
       "      <td>CON</td>\n",
       "      <td>DETM</td>\n",
       "      <td>14016.00</td>\n",
       "      <td>0.00</td>\n",
       "      <td>14016.00</td>\n",
       "      <td>0.00</td>\n",
       "    </tr>\n",
       "    <tr>\n",
       "      <th>1431</th>\n",
       "      <td>167129</td>\n",
       "      <td>ESA</td>\n",
       "      <td>2000</td>\n",
       "      <td>ADMINISTRACAO DA UNIDADE</td>\n",
       "      <td>2023</td>\n",
       "      <td>42727372000164</td>\n",
       "      <td>FORMIGARI COMERCIO DE MOVEIS LTDA</td>\n",
       "      <td>2023-09-29</td>\n",
       "      <td>21</td>\n",
       "      <td>160533</td>\n",
       "      <td>4º CGCFEX</td>\n",
       "      <td>449052</td>\n",
       "      <td>EQUIPAMENTOS E MATERIAL PERMANENTE</td>\n",
       "      <td>44905233</td>\n",
       "      <td>EQUIPAMENTOS PARA AUDIO, VIDEO E FOTO</td>\n",
       "      <td>2023NE001609</td>\n",
       "      <td>C1ENCONDETM</td>\n",
       "      <td>CONCURSOS AS ESCOLAS MILITARES</td>\n",
       "      <td>0032</td>\n",
       "      <td>171502</td>\n",
       "      <td>ANO</td>\n",
       "      <td>ORDINARIO</td>\n",
       "      <td>ESCOLA DE SARGENTOS DAS ARMAS  - AVENIDA SETE ...</td>\n",
       "      <td>SC</td>\n",
       "      <td>MG</td>\n",
       "      <td>167503</td>\n",
       "      <td>DECEX - GESTOR</td>\n",
       "      <td>C1EN</td>\n",
       "      <td>CON</td>\n",
       "      <td>DETM</td>\n",
       "      <td>1620.00</td>\n",
       "      <td>0.00</td>\n",
       "      <td>1620.00</td>\n",
       "      <td>0.00</td>\n",
       "    </tr>\n",
       "    <tr>\n",
       "      <th>1432</th>\n",
       "      <td>167129</td>\n",
       "      <td>ESA</td>\n",
       "      <td>2000</td>\n",
       "      <td>ADMINISTRACAO DA UNIDADE</td>\n",
       "      <td>2023</td>\n",
       "      <td>43471392000180</td>\n",
       "      <td>H. A CONSTRUCOES E REFORMAS LTDA</td>\n",
       "      <td>2023-10-11</td>\n",
       "      <td>9</td>\n",
       "      <td>160533</td>\n",
       "      <td>4º CGCFEX</td>\n",
       "      <td>339039</td>\n",
       "      <td>OUTROS SERVICOS DE TERCEIROS - PESSOA JURIDICA</td>\n",
       "      <td>33903916</td>\n",
       "      <td>MANUTENCAO E CONSERV. DE BENS IMOVEIS</td>\n",
       "      <td>2023NE001653</td>\n",
       "      <td>C1ENCONDETM</td>\n",
       "      <td>CONCURSOS AS ESCOLAS MILITARES</td>\n",
       "      <td>0032</td>\n",
       "      <td>171502</td>\n",
       "      <td>ANO</td>\n",
       "      <td>ORDINARIO</td>\n",
       "      <td>AV. SETE DE SETEMBRO,628 - CENTRO</td>\n",
       "      <td>SC</td>\n",
       "      <td>MG</td>\n",
       "      <td>167503</td>\n",
       "      <td>DECEX - GESTOR</td>\n",
       "      <td>C1EN</td>\n",
       "      <td>CON</td>\n",
       "      <td>DETM</td>\n",
       "      <td>7650.00</td>\n",
       "      <td>0.00</td>\n",
       "      <td>7650.00</td>\n",
       "      <td>0.00</td>\n",
       "    </tr>\n",
       "    <tr>\n",
       "      <th>1433</th>\n",
       "      <td>167129</td>\n",
       "      <td>ESA</td>\n",
       "      <td>2000</td>\n",
       "      <td>ADMINISTRACAO DA UNIDADE</td>\n",
       "      <td>2023</td>\n",
       "      <td>45769285000168</td>\n",
       "      <td>REDNOV FERRAMENTAS LTDA.</td>\n",
       "      <td>2023-10-17</td>\n",
       "      <td>3</td>\n",
       "      <td>160533</td>\n",
       "      <td>4º CGCFEX</td>\n",
       "      <td>449052</td>\n",
       "      <td>EQUIPAMENTOS E MATERIAL PERMANENTE</td>\n",
       "      <td>44905248</td>\n",
       "      <td>VEICULOS DIVERSOS</td>\n",
       "      <td>2023NE001663</td>\n",
       "      <td>C1ENCONDETM</td>\n",
       "      <td>CONCURSOS AS ESCOLAS MILITARES</td>\n",
       "      <td>0032</td>\n",
       "      <td>171502</td>\n",
       "      <td>ANO</td>\n",
       "      <td>ORDINARIO</td>\n",
       "      <td>ESCOLA DE SARGENTOS DAS ARMAS  - AVENIDA SETE ...</td>\n",
       "      <td>SC</td>\n",
       "      <td>MG</td>\n",
       "      <td>167503</td>\n",
       "      <td>DECEX - GESTOR</td>\n",
       "      <td>C1EN</td>\n",
       "      <td>CON</td>\n",
       "      <td>DETM</td>\n",
       "      <td>890.68</td>\n",
       "      <td>0.00</td>\n",
       "      <td>890.68</td>\n",
       "      <td>0.00</td>\n",
       "    </tr>\n",
       "    <tr>\n",
       "      <th>1435</th>\n",
       "      <td>167129</td>\n",
       "      <td>ESA</td>\n",
       "      <td>2000</td>\n",
       "      <td>ADMINISTRACAO DA UNIDADE</td>\n",
       "      <td>2023</td>\n",
       "      <td>47531706000143</td>\n",
       "      <td>ASTA MOBILI MOVEIS LTDA</td>\n",
       "      <td>2023-10-06</td>\n",
       "      <td>14</td>\n",
       "      <td>160533</td>\n",
       "      <td>4º CGCFEX</td>\n",
       "      <td>449052</td>\n",
       "      <td>EQUIPAMENTOS E MATERIAL PERMANENTE</td>\n",
       "      <td>44905242</td>\n",
       "      <td>MOBILIARIO EM GERAL</td>\n",
       "      <td>2023NE001643</td>\n",
       "      <td>C1ENCONDETM</td>\n",
       "      <td>CONCURSOS AS ESCOLAS MILITARES</td>\n",
       "      <td>0032</td>\n",
       "      <td>171502</td>\n",
       "      <td>ANO</td>\n",
       "      <td>ORDINARIO</td>\n",
       "      <td>ESCOLA DE SARGENTOS DAS ARMAS  - AVENIDA SETE ...</td>\n",
       "      <td>RS</td>\n",
       "      <td>MG</td>\n",
       "      <td>167503</td>\n",
       "      <td>DECEX - GESTOR</td>\n",
       "      <td>C1EN</td>\n",
       "      <td>CON</td>\n",
       "      <td>DETM</td>\n",
       "      <td>50788.50</td>\n",
       "      <td>0.00</td>\n",
       "      <td>50788.50</td>\n",
       "      <td>0.00</td>\n",
       "    </tr>\n",
       "    <tr>\n",
       "      <th>1436</th>\n",
       "      <td>167129</td>\n",
       "      <td>ESA</td>\n",
       "      <td>2000</td>\n",
       "      <td>ADMINISTRACAO DA UNIDADE</td>\n",
       "      <td>2023</td>\n",
       "      <td>47725628000118</td>\n",
       "      <td>PRIMER SOLUCOES LTDA</td>\n",
       "      <td>2023-09-29</td>\n",
       "      <td>21</td>\n",
       "      <td>160533</td>\n",
       "      <td>4º CGCFEX</td>\n",
       "      <td>449052</td>\n",
       "      <td>EQUIPAMENTOS E MATERIAL PERMANENTE</td>\n",
       "      <td>44905234</td>\n",
       "      <td>MAQUINAS, UTENSILIOS E EQUIPAMENTOS  DIVERSOS</td>\n",
       "      <td>2023NE001610</td>\n",
       "      <td>C1ENCONDETM</td>\n",
       "      <td>CONCURSOS AS ESCOLAS MILITARES</td>\n",
       "      <td>0032</td>\n",
       "      <td>171502</td>\n",
       "      <td>ANO</td>\n",
       "      <td>ORDINARIO</td>\n",
       "      <td>ESCOLA DE SARGENTOS DAS ARMAS  - AVENIDA SETE ...</td>\n",
       "      <td>ES</td>\n",
       "      <td>MG</td>\n",
       "      <td>167503</td>\n",
       "      <td>DECEX - GESTOR</td>\n",
       "      <td>C1EN</td>\n",
       "      <td>CON</td>\n",
       "      <td>DETM</td>\n",
       "      <td>2604.00</td>\n",
       "      <td>0.00</td>\n",
       "      <td>2604.00</td>\n",
       "      <td>0.00</td>\n",
       "    </tr>\n",
       "    <tr>\n",
       "      <th>1437</th>\n",
       "      <td>167129</td>\n",
       "      <td>ESA</td>\n",
       "      <td>2000</td>\n",
       "      <td>ADMINISTRACAO DA UNIDADE</td>\n",
       "      <td>2023</td>\n",
       "      <td>47725628000118</td>\n",
       "      <td>PRIMER SOLUCOES LTDA</td>\n",
       "      <td>2023-10-17</td>\n",
       "      <td>3</td>\n",
       "      <td>160533</td>\n",
       "      <td>4º CGCFEX</td>\n",
       "      <td>449052</td>\n",
       "      <td>EQUIPAMENTOS E MATERIAL PERMANENTE</td>\n",
       "      <td>44905234</td>\n",
       "      <td>MAQUINAS, UTENSILIOS E EQUIPAMENTOS  DIVERSOS</td>\n",
       "      <td>2023NE001666</td>\n",
       "      <td>C1ENCONDETM</td>\n",
       "      <td>CONCURSOS AS ESCOLAS MILITARES</td>\n",
       "      <td>0032</td>\n",
       "      <td>171502</td>\n",
       "      <td>ANO</td>\n",
       "      <td>ORDINARIO</td>\n",
       "      <td>ESCOLA DE SARGENTOS DAS ARMAS</td>\n",
       "      <td>ES</td>\n",
       "      <td>MG</td>\n",
       "      <td>167503</td>\n",
       "      <td>DECEX - GESTOR</td>\n",
       "      <td>C1EN</td>\n",
       "      <td>CON</td>\n",
       "      <td>DETM</td>\n",
       "      <td>930.00</td>\n",
       "      <td>0.00</td>\n",
       "      <td>930.00</td>\n",
       "      <td>0.00</td>\n",
       "    </tr>\n",
       "    <tr>\n",
       "      <th>1438</th>\n",
       "      <td>167129</td>\n",
       "      <td>ESA</td>\n",
       "      <td>2000</td>\n",
       "      <td>ADMINISTRACAO DA UNIDADE</td>\n",
       "      <td>2023</td>\n",
       "      <td>49577909000104</td>\n",
       "      <td>COMERCIAL RB - COMERCIO VAREJISTA E ATACADISTA...</td>\n",
       "      <td>2023-10-06</td>\n",
       "      <td>14</td>\n",
       "      <td>160533</td>\n",
       "      <td>4º CGCFEX</td>\n",
       "      <td>339030</td>\n",
       "      <td>MATERIAL DE CONSUMO</td>\n",
       "      <td>33903022</td>\n",
       "      <td>MATERIAL DE LIMPEZA E PROD. DE HIGIENIZACAO</td>\n",
       "      <td>2023NE001638</td>\n",
       "      <td>C1ENCONDETM</td>\n",
       "      <td>CONCURSOS AS ESCOLAS MILITARES</td>\n",
       "      <td>0032</td>\n",
       "      <td>171502</td>\n",
       "      <td>ANO</td>\n",
       "      <td>ORDINARIO</td>\n",
       "      <td>ESCOLA DE SARGENTOS DAS ARMAS</td>\n",
       "      <td>SP</td>\n",
       "      <td>MG</td>\n",
       "      <td>167503</td>\n",
       "      <td>DECEX - GESTOR</td>\n",
       "      <td>C1EN</td>\n",
       "      <td>CON</td>\n",
       "      <td>DETM</td>\n",
       "      <td>400.00</td>\n",
       "      <td>0.00</td>\n",
       "      <td>400.00</td>\n",
       "      <td>0.00</td>\n",
       "    </tr>\n",
       "    <tr>\n",
       "      <th>1440</th>\n",
       "      <td>167129</td>\n",
       "      <td>ESA</td>\n",
       "      <td>2000</td>\n",
       "      <td>ADMINISTRACAO DA UNIDADE</td>\n",
       "      <td>2023</td>\n",
       "      <td>53202768000104</td>\n",
       "      <td>TOALL COMERCIO E SERVICOS LTDA.</td>\n",
       "      <td>2023-10-11</td>\n",
       "      <td>9</td>\n",
       "      <td>160533</td>\n",
       "      <td>4º CGCFEX</td>\n",
       "      <td>339039</td>\n",
       "      <td>OUTROS SERVICOS DE TERCEIROS - PESSOA JURIDICA</td>\n",
       "      <td>33903916</td>\n",
       "      <td>MANUTENCAO E CONSERV. DE BENS IMOVEIS</td>\n",
       "      <td>2023NE001652</td>\n",
       "      <td>C1ENCONDETM</td>\n",
       "      <td>CONCURSOS AS ESCOLAS MILITARES</td>\n",
       "      <td>0032</td>\n",
       "      <td>171502</td>\n",
       "      <td>ANO</td>\n",
       "      <td>ORDINARIO</td>\n",
       "      <td>AV. SETE DE SETEMBRO,628 - CENTRO</td>\n",
       "      <td>SP</td>\n",
       "      <td>MG</td>\n",
       "      <td>167503</td>\n",
       "      <td>DECEX - GESTOR</td>\n",
       "      <td>C1EN</td>\n",
       "      <td>CON</td>\n",
       "      <td>DETM</td>\n",
       "      <td>11361.07</td>\n",
       "      <td>0.00</td>\n",
       "      <td>11361.07</td>\n",
       "      <td>0.00</td>\n",
       "    </tr>\n",
       "    <tr>\n",
       "      <th>1441</th>\n",
       "      <td>167129</td>\n",
       "      <td>ESA</td>\n",
       "      <td>2000</td>\n",
       "      <td>ADMINISTRACAO DA UNIDADE</td>\n",
       "      <td>2023</td>\n",
       "      <td>58512096000157</td>\n",
       "      <td>TRATORTEC PECAS E SERVICOS PARA TRATORES LTDA</td>\n",
       "      <td>2023-09-27</td>\n",
       "      <td>23</td>\n",
       "      <td>160533</td>\n",
       "      <td>4º CGCFEX</td>\n",
       "      <td>339039</td>\n",
       "      <td>OUTROS SERVICOS DE TERCEIROS - PESSOA JURIDICA</td>\n",
       "      <td>33903919</td>\n",
       "      <td>MANUTENCAO E CONSERV. DE VEICULOS</td>\n",
       "      <td>2023NE001603</td>\n",
       "      <td>C1ENCONDETM</td>\n",
       "      <td>CONCURSOS AS ESCOLAS MILITARES</td>\n",
       "      <td>0032</td>\n",
       "      <td>171502</td>\n",
       "      <td>ANO</td>\n",
       "      <td>ORDINARIO</td>\n",
       "      <td>ESCOLA DE SARGENTOS DAS ARMAS</td>\n",
       "      <td>SP</td>\n",
       "      <td>MG</td>\n",
       "      <td>167503</td>\n",
       "      <td>DECEX - GESTOR</td>\n",
       "      <td>C1EN</td>\n",
       "      <td>CON</td>\n",
       "      <td>DETM</td>\n",
       "      <td>620.00</td>\n",
       "      <td>0.00</td>\n",
       "      <td>620.00</td>\n",
       "      <td>0.00</td>\n",
       "    </tr>\n",
       "    <tr>\n",
       "      <th>1446</th>\n",
       "      <td>167129</td>\n",
       "      <td>ESA</td>\n",
       "      <td>2000</td>\n",
       "      <td>ADMINISTRACAO DA UNIDADE</td>\n",
       "      <td>2023</td>\n",
       "      <td>65353401000170</td>\n",
       "      <td>COMERCIAL VENER LTDA</td>\n",
       "      <td>2023-10-03</td>\n",
       "      <td>17</td>\n",
       "      <td>160533</td>\n",
       "      <td>4º CGCFEX</td>\n",
       "      <td>339030</td>\n",
       "      <td>MATERIAL DE CONSUMO</td>\n",
       "      <td>33903022</td>\n",
       "      <td>MATERIAL DE LIMPEZA E PROD. DE HIGIENIZACAO</td>\n",
       "      <td>2023NE001621</td>\n",
       "      <td>C1ENCONDETM</td>\n",
       "      <td>CONCURSOS AS ESCOLAS MILITARES</td>\n",
       "      <td>0032</td>\n",
       "      <td>171502</td>\n",
       "      <td>ANO</td>\n",
       "      <td>ORDINARIO</td>\n",
       "      <td>ESCOLA DE SARGENTOS DAS ARMAS</td>\n",
       "      <td>MG</td>\n",
       "      <td>MG</td>\n",
       "      <td>167503</td>\n",
       "      <td>DECEX - GESTOR</td>\n",
       "      <td>C1EN</td>\n",
       "      <td>CON</td>\n",
       "      <td>DETM</td>\n",
       "      <td>372.00</td>\n",
       "      <td>0.00</td>\n",
       "      <td>372.00</td>\n",
       "      <td>0.00</td>\n",
       "    </tr>\n",
       "    <tr>\n",
       "      <th>1448</th>\n",
       "      <td>167129</td>\n",
       "      <td>ESA</td>\n",
       "      <td>2000</td>\n",
       "      <td>ADMINISTRACAO DA UNIDADE</td>\n",
       "      <td>2023</td>\n",
       "      <td>81243735000903</td>\n",
       "      <td>POSITIVO TECNOLOGIA S.A.</td>\n",
       "      <td>2023-08-18</td>\n",
       "      <td>63</td>\n",
       "      <td>160533</td>\n",
       "      <td>4º CGCFEX</td>\n",
       "      <td>449052</td>\n",
       "      <td>EQUIPAMENTOS E MATERIAL PERMANENTE</td>\n",
       "      <td>44905241</td>\n",
       "      <td>EQUIPAMENTOS DE TIC - COMPUTADORES</td>\n",
       "      <td>2023NE001414</td>\n",
       "      <td>C1ENCONDETM</td>\n",
       "      <td>CONCURSOS AS ESCOLAS MILITARES</td>\n",
       "      <td>0032</td>\n",
       "      <td>171502</td>\n",
       "      <td>ANO</td>\n",
       "      <td>ORDINARIO</td>\n",
       "      <td>ESCOLA DE SARGENTOS DAS ARMAS  - AVENIDA SETE ...</td>\n",
       "      <td>BA</td>\n",
       "      <td>MG</td>\n",
       "      <td>167503</td>\n",
       "      <td>DECEX - GESTOR</td>\n",
       "      <td>C1EN</td>\n",
       "      <td>CON</td>\n",
       "      <td>DETM</td>\n",
       "      <td>21864.00</td>\n",
       "      <td>0.00</td>\n",
       "      <td>21864.00</td>\n",
       "      <td>0.00</td>\n",
       "    </tr>\n",
       "    <tr>\n",
       "      <th>1449</th>\n",
       "      <td>167129</td>\n",
       "      <td>ESA</td>\n",
       "      <td>2000</td>\n",
       "      <td>ADMINISTRACAO DA UNIDADE</td>\n",
       "      <td>2023</td>\n",
       "      <td>81243735000903</td>\n",
       "      <td>POSITIVO TECNOLOGIA S.A.</td>\n",
       "      <td>2023-10-17</td>\n",
       "      <td>3</td>\n",
       "      <td>160533</td>\n",
       "      <td>4º CGCFEX</td>\n",
       "      <td>449052</td>\n",
       "      <td>EQUIPAMENTOS E MATERIAL PERMANENTE</td>\n",
       "      <td>44905241</td>\n",
       "      <td>EQUIPAMENTOS DE TIC - COMPUTADORES</td>\n",
       "      <td>2023NE001661</td>\n",
       "      <td>C1ENCONDETM</td>\n",
       "      <td>CONCURSOS AS ESCOLAS MILITARES</td>\n",
       "      <td>0032</td>\n",
       "      <td>171502</td>\n",
       "      <td>ANO</td>\n",
       "      <td>ORDINARIO</td>\n",
       "      <td>ESCOLA DE SARGENTOS DAS ARMAS  - AVENIDA SETE ...</td>\n",
       "      <td>BA</td>\n",
       "      <td>MG</td>\n",
       "      <td>167503</td>\n",
       "      <td>DECEX - GESTOR</td>\n",
       "      <td>C1EN</td>\n",
       "      <td>CON</td>\n",
       "      <td>DETM</td>\n",
       "      <td>10671.00</td>\n",
       "      <td>0.00</td>\n",
       "      <td>10671.00</td>\n",
       "      <td>0.00</td>\n",
       "    </tr>\n",
       "  </tbody>\n",
       "</table>\n",
       "</div>"
      ],
      "text/plain": [
       "          UG SIGLA UG  ACAO                 NOME_ACAO   ANO          CREDOR  \\\n",
       "1358  167129      ESA  2000  ADMINISTRACAO DA UNIDADE  2022  26669742000106   \n",
       "1375  167129      ESA  2000  ADMINISTRACAO DA UNIDADE  2023  01590728000850   \n",
       "1378  167129      ESA  2000  ADMINISTRACAO DA UNIDADE  2023  03539933000140   \n",
       "1379  167129      ESA  2000  ADMINISTRACAO DA UNIDADE  2023  06307463000187   \n",
       "1380  167129      ESA  2000  ADMINISTRACAO DA UNIDADE  2023  06351401000172   \n",
       "1382  167129      ESA  2000  ADMINISTRACAO DA UNIDADE  2023  08605233000120   \n",
       "1384  167129      ESA  2000  ADMINISTRACAO DA UNIDADE  2023  08906031000118   \n",
       "1385  167129      ESA  2000  ADMINISTRACAO DA UNIDADE  2023  08907476000112   \n",
       "1387  167129      ESA  2000  ADMINISTRACAO DA UNIDADE  2023  09249668000141   \n",
       "1390  167129      ESA  2000  ADMINISTRACAO DA UNIDADE  2023  13642117000110   \n",
       "1393  167129      ESA  2000  ADMINISTRACAO DA UNIDADE  2023  14459158000139   \n",
       "1395  167129      ESA  2000  ADMINISTRACAO DA UNIDADE  2023  14807420000199   \n",
       "1398  167129      ESA  2000  ADMINISTRACAO DA UNIDADE  2023          167129   \n",
       "1400  167129      ESA  2000  ADMINISTRACAO DA UNIDADE  2023  19116488000145   \n",
       "1405  167129      ESA  2000  ADMINISTRACAO DA UNIDADE  2023  21331404000138   \n",
       "1407  167129      ESA  2000  ADMINISTRACAO DA UNIDADE  2023  27028550000175   \n",
       "1413  167129      ESA  2000  ADMINISTRACAO DA UNIDADE  2023  29023342000109   \n",
       "1414  167129      ESA  2000  ADMINISTRACAO DA UNIDADE  2023  29774797000166   \n",
       "1416  167129      ESA  2000  ADMINISTRACAO DA UNIDADE  2023  31731853000127   \n",
       "1417  167129      ESA  2000  ADMINISTRACAO DA UNIDADE  2023  31731853000127   \n",
       "1419  167129      ESA  2000  ADMINISTRACAO DA UNIDADE  2023  33618396000194   \n",
       "1420  167129      ESA  2000  ADMINISTRACAO DA UNIDADE  2023  37583132000101   \n",
       "1421  167129      ESA  2000  ADMINISTRACAO DA UNIDADE  2023  38680138000151   \n",
       "1423  167129      ESA  2000  ADMINISTRACAO DA UNIDADE  2023  39619837000230   \n",
       "1426  167129      ESA  2000  ADMINISTRACAO DA UNIDADE  2023  40225662000184   \n",
       "1427  167129      ESA  2000  ADMINISTRACAO DA UNIDADE  2023  40426345000126   \n",
       "1431  167129      ESA  2000  ADMINISTRACAO DA UNIDADE  2023  42727372000164   \n",
       "1432  167129      ESA  2000  ADMINISTRACAO DA UNIDADE  2023  43471392000180   \n",
       "1433  167129      ESA  2000  ADMINISTRACAO DA UNIDADE  2023  45769285000168   \n",
       "1435  167129      ESA  2000  ADMINISTRACAO DA UNIDADE  2023  47531706000143   \n",
       "1436  167129      ESA  2000  ADMINISTRACAO DA UNIDADE  2023  47725628000118   \n",
       "1437  167129      ESA  2000  ADMINISTRACAO DA UNIDADE  2023  47725628000118   \n",
       "1438  167129      ESA  2000  ADMINISTRACAO DA UNIDADE  2023  49577909000104   \n",
       "1440  167129      ESA  2000  ADMINISTRACAO DA UNIDADE  2023  53202768000104   \n",
       "1441  167129      ESA  2000  ADMINISTRACAO DA UNIDADE  2023  58512096000157   \n",
       "1446  167129      ESA  2000  ADMINISTRACAO DA UNIDADE  2023  65353401000170   \n",
       "1448  167129      ESA  2000  ADMINISTRACAO DA UNIDADE  2023  81243735000903   \n",
       "1449  167129      ESA  2000  ADMINISTRACAO DA UNIDADE  2023  81243735000903   \n",
       "\n",
       "                                            NOME_CREDOR       DATA  DIAS  \\\n",
       "1358              J. T. CATALDO CASTRO CRIATIVA DIGITAL 2022-11-30   324   \n",
       "1375                      MICROTECNICA INFORMATICA LTDA 2023-10-05    15   \n",
       "1378         INDUSTRIA E COMERCIO DE RODOS RODOBEM LTDA 2023-10-02    18   \n",
       "1379           GUSMAO E SILVA AUTOPECAS E SERVICOS LTDA 2023-09-27    23   \n",
       "1380                     DIMAS INDUSTRIA DE MOVEIS LTDA 2023-09-29    21   \n",
       "1382            BALCAO DOS PARAFUSOS E FERRAMENTAS LTDA 2023-10-04    16   \n",
       "1384                           AMAZING METALURGICA LTDA 2023-08-28    53   \n",
       "1385       AUTO PECAS E SERVICOS MECANICOS PLAYCAR LTDA 2023-09-27    23   \n",
       "1387                      INDUSTRIA GRAFICA ESCALA LTDA 2023-10-11     9   \n",
       "1390   SUPER URGENTE TRANSPORTE AEREO E RODOVIARIO LTDA 2023-03-10   224   \n",
       "1393                 RVN DISTRIBUIDORA DE PRODUTOS LTDA 2023-10-02    18   \n",
       "1395                                FACTO TURISMO  LTDA 2023-09-28    22   \n",
       "1398                                                NaN 2023-01-30   263   \n",
       "1400            PARTS LUB DISTRIBUIDORA E SERVICOS LTDA 2023-09-27    23   \n",
       "1405                     ORLEANS VIAGENS E TURISMO LTDA 2023-03-03   231   \n",
       "1407            J M SERVICOS URBANOS E CONSTRUCOES LTDA 2023-10-16     4   \n",
       "1413          VLF MAQUINAS E SOLUCOES EMPRESARIAIS LTDA 2023-10-06    14   \n",
       "1414                           VULPIX ESPACO SAUDE LTDA 2023-10-03    17   \n",
       "1416                NEW LINE SOLUCOES CORPORATIVAS LTDA 2023-10-05    15   \n",
       "1417                NEW LINE SOLUCOES CORPORATIVAS LTDA 2023-10-05    15   \n",
       "1419                            FABRICIO RACHADEL COSTA 2023-10-17     3   \n",
       "1420               JOSADAC MENDES FAQUINELI 83573844634 2023-09-28    22   \n",
       "1421                    GESMAQ COMERCIO E SERVICOS LTDA 2023-10-19     1   \n",
       "1423                   MINAS SOLUCOES EM IMPRESSAO LTDA 2023-10-06    14   \n",
       "1426                                     MBM STORE LTDA 2023-10-03    17   \n",
       "1427                         CITE ELETRODOMESTICOS LTDA 2023-09-29    21   \n",
       "1431                  FORMIGARI COMERCIO DE MOVEIS LTDA 2023-09-29    21   \n",
       "1432                   H. A CONSTRUCOES E REFORMAS LTDA 2023-10-11     9   \n",
       "1433                           REDNOV FERRAMENTAS LTDA. 2023-10-17     3   \n",
       "1435                            ASTA MOBILI MOVEIS LTDA 2023-10-06    14   \n",
       "1436                               PRIMER SOLUCOES LTDA 2023-09-29    21   \n",
       "1437                               PRIMER SOLUCOES LTDA 2023-10-17     3   \n",
       "1438  COMERCIAL RB - COMERCIO VAREJISTA E ATACADISTA... 2023-10-06    14   \n",
       "1440                    TOALL COMERCIO E SERVICOS LTDA. 2023-10-11     9   \n",
       "1441      TRATORTEC PECAS E SERVICOS PARA TRATORES LTDA 2023-09-27    23   \n",
       "1446                               COMERCIAL VENER LTDA 2023-10-03    17   \n",
       "1448                           POSITIVO TECNOLOGIA S.A. 2023-08-18    63   \n",
       "1449                           POSITIVO TECNOLOGIA S.A. 2023-10-17     3   \n",
       "\n",
       "       ICFEX NOME_ICFEX      ND  \\\n",
       "1358  160533  4º CGCFEX  339039   \n",
       "1375  160533  4º CGCFEX  449052   \n",
       "1378  160533  4º CGCFEX  339030   \n",
       "1379  160533  4º CGCFEX  339039   \n",
       "1380  160533  4º CGCFEX  449052   \n",
       "1382  160533  4º CGCFEX  449052   \n",
       "1384  160533  4º CGCFEX  449052   \n",
       "1385  160533  4º CGCFEX  339039   \n",
       "1387  160533  4º CGCFEX  339039   \n",
       "1390  160533  4º CGCFEX  339039   \n",
       "1393  160533  4º CGCFEX  339030   \n",
       "1395  160533  4º CGCFEX  339033   \n",
       "1398  160533  4º CGCFEX  339015   \n",
       "1400  160533  4º CGCFEX  339039   \n",
       "1405  160533  4º CGCFEX  339033   \n",
       "1407  160533  4º CGCFEX  449052   \n",
       "1413  160533  4º CGCFEX  449052   \n",
       "1414  160533  4º CGCFEX  339030   \n",
       "1416  160533  4º CGCFEX  449052   \n",
       "1417  160533  4º CGCFEX  449052   \n",
       "1419  160533  4º CGCFEX  449052   \n",
       "1420  160533  4º CGCFEX  449052   \n",
       "1421  160533  4º CGCFEX  339039   \n",
       "1423  160533  4º CGCFEX  449052   \n",
       "1426  160533  4º CGCFEX  339030   \n",
       "1427  160533  4º CGCFEX  449052   \n",
       "1431  160533  4º CGCFEX  449052   \n",
       "1432  160533  4º CGCFEX  339039   \n",
       "1433  160533  4º CGCFEX  449052   \n",
       "1435  160533  4º CGCFEX  449052   \n",
       "1436  160533  4º CGCFEX  449052   \n",
       "1437  160533  4º CGCFEX  449052   \n",
       "1438  160533  4º CGCFEX  339030   \n",
       "1440  160533  4º CGCFEX  339039   \n",
       "1441  160533  4º CGCFEX  339039   \n",
       "1446  160533  4º CGCFEX  339030   \n",
       "1448  160533  4º CGCFEX  449052   \n",
       "1449  160533  4º CGCFEX  449052   \n",
       "\n",
       "                                             NOME_ND      NDSI  \\\n",
       "1358  OUTROS SERVICOS DE TERCEIROS - PESSOA JURIDICA  33903963   \n",
       "1375              EQUIPAMENTOS E MATERIAL PERMANENTE  44905230   \n",
       "1378                             MATERIAL DE CONSUMO  33903022   \n",
       "1379  OUTROS SERVICOS DE TERCEIROS - PESSOA JURIDICA  33903919   \n",
       "1380              EQUIPAMENTOS E MATERIAL PERMANENTE  44905242   \n",
       "1382              EQUIPAMENTOS E MATERIAL PERMANENTE  44905234   \n",
       "1384              EQUIPAMENTOS E MATERIAL PERMANENTE  44905242   \n",
       "1385  OUTROS SERVICOS DE TERCEIROS - PESSOA JURIDICA  33903919   \n",
       "1387  OUTROS SERVICOS DE TERCEIROS - PESSOA JURIDICA  33903963   \n",
       "1390  OUTROS SERVICOS DE TERCEIROS - PESSOA JURIDICA  33903974   \n",
       "1393                             MATERIAL DE CONSUMO  33903022   \n",
       "1395              PASSAGENS E DESPESAS COM LOCOMOCAO  33903301   \n",
       "1398                       DIARIAS - PESSOAL MILITAR  33901514   \n",
       "1400  OUTROS SERVICOS DE TERCEIROS - PESSOA JURIDICA  33903919   \n",
       "1405              PASSAGENS E DESPESAS COM LOCOMOCAO  33903301   \n",
       "1407              EQUIPAMENTOS E MATERIAL PERMANENTE  44905224   \n",
       "1413              EQUIPAMENTOS E MATERIAL PERMANENTE  44905232   \n",
       "1414                             MATERIAL DE CONSUMO  33903011   \n",
       "1416              EQUIPAMENTOS E MATERIAL PERMANENTE  44905242   \n",
       "1417              EQUIPAMENTOS E MATERIAL PERMANENTE  44905242   \n",
       "1419              EQUIPAMENTOS E MATERIAL PERMANENTE  44905248   \n",
       "1420              EQUIPAMENTOS E MATERIAL PERMANENTE  44905230   \n",
       "1421  OUTROS SERVICOS DE TERCEIROS - PESSOA JURIDICA  33903917   \n",
       "1423              EQUIPAMENTOS E MATERIAL PERMANENTE  44905235   \n",
       "1426                             MATERIAL DE CONSUMO  33903022   \n",
       "1427              EQUIPAMENTOS E MATERIAL PERMANENTE  44905212   \n",
       "1431              EQUIPAMENTOS E MATERIAL PERMANENTE  44905233   \n",
       "1432  OUTROS SERVICOS DE TERCEIROS - PESSOA JURIDICA  33903916   \n",
       "1433              EQUIPAMENTOS E MATERIAL PERMANENTE  44905248   \n",
       "1435              EQUIPAMENTOS E MATERIAL PERMANENTE  44905242   \n",
       "1436              EQUIPAMENTOS E MATERIAL PERMANENTE  44905234   \n",
       "1437              EQUIPAMENTOS E MATERIAL PERMANENTE  44905234   \n",
       "1438                             MATERIAL DE CONSUMO  33903022   \n",
       "1440  OUTROS SERVICOS DE TERCEIROS - PESSOA JURIDICA  33903916   \n",
       "1441  OUTROS SERVICOS DE TERCEIROS - PESSOA JURIDICA  33903919   \n",
       "1446                             MATERIAL DE CONSUMO  33903022   \n",
       "1448              EQUIPAMENTOS E MATERIAL PERMANENTE  44905241   \n",
       "1449              EQUIPAMENTOS E MATERIAL PERMANENTE  44905241   \n",
       "\n",
       "                                          NOME_NDSI            NE  \\\n",
       "1358                 SERVICOS GRAFICOS E EDITORIAIS  2022NE001843   \n",
       "1375            MAQUINAS E EQUIPAMENTOS ENERGETICOS  2023NE001635   \n",
       "1378    MATERIAL DE LIMPEZA E PROD. DE HIGIENIZACAO  2023NE001617   \n",
       "1379              MANUTENCAO E CONSERV. DE VEICULOS  2023NE001602   \n",
       "1380                            MOBILIARIO EM GERAL  2023NE001612   \n",
       "1382  MAQUINAS, UTENSILIOS E EQUIPAMENTOS  DIVERSOS  2023NE001632   \n",
       "1384                            MOBILIARIO EM GERAL  2023NE001428   \n",
       "1385              MANUTENCAO E CONSERV. DE VEICULOS  2023NE001604   \n",
       "1387                 SERVICOS GRAFICOS E EDITORIAIS  2023NE001646   \n",
       "1390             FRETES E TRANSPORTES DE ENCOMENDAS  2023NE000461   \n",
       "1393    MATERIAL DE LIMPEZA E PROD. DE HIGIENIZACAO  2023NE001618   \n",
       "1395                          PASSAGENS PARA O PAIS  2023NE001607   \n",
       "1398                                DIARIAS NO PAIS  2023NE000208   \n",
       "1400              MANUTENCAO E CONSERV. DE VEICULOS  2023NE001600   \n",
       "1405                          PASSAGENS PARA O PAIS  2023NE000454   \n",
       "1407  EQUIPAMENTO DE PROTECAO, SEGURANCA E  SOCORRO  2023NE001654   \n",
       "1413               MAQUINAS E EQUIPAMENTOS GRAFICOS  2023NE001642   \n",
       "1414                               MATERIAL QUIMICO  2023NE001622   \n",
       "1416                            MOBILIARIO EM GERAL  2023NE001636   \n",
       "1417                            MOBILIARIO EM GERAL  2023NE001637   \n",
       "1419                              VEICULOS DIVERSOS  2023NE001662   \n",
       "1420            MAQUINAS E EQUIPAMENTOS ENERGETICOS  2023NE001606   \n",
       "1421   MANUT. E CONSERV. DE MAQUINAS E EQUIPAMENTOS  2023NE001671   \n",
       "1423                   MATERIAL DE TIC (PERMANENTE)  2023NE001641   \n",
       "1426    MATERIAL DE LIMPEZA E PROD. DE HIGIENIZACAO  2023NE001620   \n",
       "1427              APARELHOS E UTENSILIOS DOMESTICOS  2023NE001611   \n",
       "1431          EQUIPAMENTOS PARA AUDIO, VIDEO E FOTO  2023NE001609   \n",
       "1432          MANUTENCAO E CONSERV. DE BENS IMOVEIS  2023NE001653   \n",
       "1433                              VEICULOS DIVERSOS  2023NE001663   \n",
       "1435                            MOBILIARIO EM GERAL  2023NE001643   \n",
       "1436  MAQUINAS, UTENSILIOS E EQUIPAMENTOS  DIVERSOS  2023NE001610   \n",
       "1437  MAQUINAS, UTENSILIOS E EQUIPAMENTOS  DIVERSOS  2023NE001666   \n",
       "1438    MATERIAL DE LIMPEZA E PROD. DE HIGIENIZACAO  2023NE001638   \n",
       "1440          MANUTENCAO E CONSERV. DE BENS IMOVEIS  2023NE001652   \n",
       "1441              MANUTENCAO E CONSERV. DE VEICULOS  2023NE001603   \n",
       "1446    MATERIAL DE LIMPEZA E PROD. DE HIGIENIZACAO  2023NE001621   \n",
       "1448             EQUIPAMENTOS DE TIC - COMPUTADORES  2023NE001414   \n",
       "1449             EQUIPAMENTOS DE TIC - COMPUTADORES  2023NE001661   \n",
       "\n",
       "               PI                         NOME_PI PROGRAMA   PTRES  TIPO  \\\n",
       "1358  C1ENCONDETM  CONCURSOS AS ESCOLAS MILITARES     0032  171502  RPNP   \n",
       "1375  C1ENCONDETM  CONCURSOS AS ESCOLAS MILITARES     0032  171502   ANO   \n",
       "1378  C1ENCONDETM  CONCURSOS AS ESCOLAS MILITARES     0032  171502   ANO   \n",
       "1379  C1ENCONDETM  CONCURSOS AS ESCOLAS MILITARES     0032  171502   ANO   \n",
       "1380  C1ENCONDETM  CONCURSOS AS ESCOLAS MILITARES     0032  171502   ANO   \n",
       "1382  C1ENCONDETM  CONCURSOS AS ESCOLAS MILITARES     0032  171502   ANO   \n",
       "1384  C1ENCONDETM  CONCURSOS AS ESCOLAS MILITARES     0032  171502   ANO   \n",
       "1385  C1ENCONDETM  CONCURSOS AS ESCOLAS MILITARES     0032  171502   ANO   \n",
       "1387  C1ENCONDETM  CONCURSOS AS ESCOLAS MILITARES     0032  171502   ANO   \n",
       "1390  C1ENCONDETM  CONCURSOS AS ESCOLAS MILITARES     0032  171502   ANO   \n",
       "1393  C1ENCONDETM  CONCURSOS AS ESCOLAS MILITARES     0032  171502   ANO   \n",
       "1395  C1ENCONDETM  CONCURSOS AS ESCOLAS MILITARES     0032  171502   ANO   \n",
       "1398  C1ENCONDETM  CONCURSOS AS ESCOLAS MILITARES     0032  171502   ANO   \n",
       "1400  C1ENCONDETM  CONCURSOS AS ESCOLAS MILITARES     0032  171502   ANO   \n",
       "1405  C1ENCONDETM  CONCURSOS AS ESCOLAS MILITARES     0032  171502   ANO   \n",
       "1407  C1ENCONDETM  CONCURSOS AS ESCOLAS MILITARES     0032  171502   ANO   \n",
       "1413  C1ENCONDETM  CONCURSOS AS ESCOLAS MILITARES     0032  171502   ANO   \n",
       "1414  C1ENCONDETM  CONCURSOS AS ESCOLAS MILITARES     0032  171502   ANO   \n",
       "1416  C1ENCONDETM  CONCURSOS AS ESCOLAS MILITARES     0032  171502   ANO   \n",
       "1417  C1ENCONDETM  CONCURSOS AS ESCOLAS MILITARES     0032  171502   ANO   \n",
       "1419  C1ENCONDETM  CONCURSOS AS ESCOLAS MILITARES     0032  171502   ANO   \n",
       "1420  C1ENCONDETM  CONCURSOS AS ESCOLAS MILITARES     0032  171502   ANO   \n",
       "1421  C1ENCONDETM  CONCURSOS AS ESCOLAS MILITARES     0032  171502   ANO   \n",
       "1423  C1ENCONDETM  CONCURSOS AS ESCOLAS MILITARES     0032  171502   ANO   \n",
       "1426  C1ENCONDETM  CONCURSOS AS ESCOLAS MILITARES     0032  171502   ANO   \n",
       "1427  C1ENCONDETM  CONCURSOS AS ESCOLAS MILITARES     0032  171502   ANO   \n",
       "1431  C1ENCONDETM  CONCURSOS AS ESCOLAS MILITARES     0032  171502   ANO   \n",
       "1432  C1ENCONDETM  CONCURSOS AS ESCOLAS MILITARES     0032  171502   ANO   \n",
       "1433  C1ENCONDETM  CONCURSOS AS ESCOLAS MILITARES     0032  171502   ANO   \n",
       "1435  C1ENCONDETM  CONCURSOS AS ESCOLAS MILITARES     0032  171502   ANO   \n",
       "1436  C1ENCONDETM  CONCURSOS AS ESCOLAS MILITARES     0032  171502   ANO   \n",
       "1437  C1ENCONDETM  CONCURSOS AS ESCOLAS MILITARES     0032  171502   ANO   \n",
       "1438  C1ENCONDETM  CONCURSOS AS ESCOLAS MILITARES     0032  171502   ANO   \n",
       "1440  C1ENCONDETM  CONCURSOS AS ESCOLAS MILITARES     0032  171502   ANO   \n",
       "1441  C1ENCONDETM  CONCURSOS AS ESCOLAS MILITARES     0032  171502   ANO   \n",
       "1446  C1ENCONDETM  CONCURSOS AS ESCOLAS MILITARES     0032  171502   ANO   \n",
       "1448  C1ENCONDETM  CONCURSOS AS ESCOLAS MILITARES     0032  171502   ANO   \n",
       "1449  C1ENCONDETM  CONCURSOS AS ESCOLAS MILITARES     0032  171502   ANO   \n",
       "\n",
       "        TIPO_NE                                              LOCAL UF_CREDOR  \\\n",
       "1358  ORDINARIO  ESCOLA DE SARGENTOS DAS ARMAS  - AVENIDA SETE ...        RJ   \n",
       "1375  ORDINARIO  ESCOLA DE SARGENTOS DAS ARMAS  - AVENIDA SETE ...        MG   \n",
       "1378  ORDINARIO                      ESCOLA DE SARGENTOS DAS ARMAS        GO   \n",
       "1379  ORDINARIO                      ESCOLA DE SARGENTOS DAS ARMAS        RJ   \n",
       "1380  ORDINARIO  ESCOLA DE SARGENTOS DAS ARMAS  - AVENIDA SETE ...        MG   \n",
       "1382  ORDINARIO                      ESCOLA DE SARGENTOS DAS ARMAS        MG   \n",
       "1384  ORDINARIO                      ESCOLA DE SARGENTOS DAS ARMAS        PR   \n",
       "1385  ORDINARIO                      ESCOLA DE SARGENTOS DAS ARMAS        DF   \n",
       "1387     GLOBAL                      ESCOLA DE SARGENTOS DAS ARMAS        SC   \n",
       "1390     GLOBAL  ESCOLA DE SARGENTOS DAS ARMAS, AVENIDA SETE DE...        MG   \n",
       "1393  ORDINARIO                      ESCOLA DE SARGENTOS DAS ARMAS        SP   \n",
       "1395     GLOBAL                                                ESA        SP   \n",
       "1398  ORDINARIO                                                  0       NaN   \n",
       "1400  ORDINARIO                      ESCOLA DE SARGENTOS DAS ARMAS        SP   \n",
       "1405     GLOBAL                                                ESA        SP   \n",
       "1407  ORDINARIO  ESCOLA DE SARGENTOS DAS ARMAS  - AVENIDA SETE ...        MG   \n",
       "1413  ORDINARIO  ESCOLA DE SARGENTOS DAS ARMAS  - AVENIDA SETE ...        PR   \n",
       "1414  ORDINARIO                      ESCOLA DE SARGENTOS DAS ARMAS        AP   \n",
       "1416  ORDINARIO  ESCOLA DE SARGENTOS DAS ARMAS  - AVENIDA SETE ...        GO   \n",
       "1417  ORDINARIO  ESCOLA DE SARGENTOS DAS ARMAS  - AVENIDA SETE ...        GO   \n",
       "1419  ORDINARIO  ESCOLA DE SARGENTOS DAS ARMAS  - AVENIDA SETE ...        SC   \n",
       "1420  ORDINARIO  ESCOLA DE SARGENTOS DAS ARMAS  - AVENIDA SETE ...        MG   \n",
       "1421  ORDINARIO  ESCOLA DE SARGENTOS DAS ARMAS  - AVENIDA SETE ...        MG   \n",
       "1423  ORDINARIO  ESCOLA DE SARGENTOS DAS ARMAS  - AVENIDA SETE ...        ES   \n",
       "1426  ORDINARIO                      ESCOLA DE SARGENTOS DAS ARMAS        PR   \n",
       "1427  ORDINARIO  ESCOLA DE SARGENTOS DAS ARMAS  - AVENIDA SETE ...        GO   \n",
       "1431  ORDINARIO  ESCOLA DE SARGENTOS DAS ARMAS  - AVENIDA SETE ...        SC   \n",
       "1432  ORDINARIO                  AV. SETE DE SETEMBRO,628 - CENTRO        SC   \n",
       "1433  ORDINARIO  ESCOLA DE SARGENTOS DAS ARMAS  - AVENIDA SETE ...        SC   \n",
       "1435  ORDINARIO  ESCOLA DE SARGENTOS DAS ARMAS  - AVENIDA SETE ...        RS   \n",
       "1436  ORDINARIO  ESCOLA DE SARGENTOS DAS ARMAS  - AVENIDA SETE ...        ES   \n",
       "1437  ORDINARIO                      ESCOLA DE SARGENTOS DAS ARMAS        ES   \n",
       "1438  ORDINARIO                      ESCOLA DE SARGENTOS DAS ARMAS        SP   \n",
       "1440  ORDINARIO                  AV. SETE DE SETEMBRO,628 - CENTRO        SP   \n",
       "1441  ORDINARIO                      ESCOLA DE SARGENTOS DAS ARMAS        SP   \n",
       "1446  ORDINARIO                      ESCOLA DE SARGENTOS DAS ARMAS        MG   \n",
       "1448  ORDINARIO  ESCOLA DE SARGENTOS DAS ARMAS  - AVENIDA SETE ...        BA   \n",
       "1449  ORDINARIO  ESCOLA DE SARGENTOS DAS ARMAS  - AVENIDA SETE ...        BA   \n",
       "\n",
       "     UF_UG     UGR        NOME_UGR RADPI4 MEIPI3 SUFPI4  A_LIQUIDAR  \\\n",
       "1358    MG  167503  DECEX - GESTOR   C1EN    CON   DETM     1016.25   \n",
       "1375    MG  167503  DECEX - GESTOR   C1EN    CON   DETM    14845.00   \n",
       "1378    MG  167503  DECEX - GESTOR   C1EN    CON   DETM      358.80   \n",
       "1379    MG  167503  DECEX - GESTOR   C1EN    CON   DETM     1680.00   \n",
       "1380    MG  167503  DECEX - GESTOR   C1EN    CON   DETM     6496.00   \n",
       "1382    MG  167503  DECEX - GESTOR   C1EN    CON   DETM     1870.00   \n",
       "1384    MG  167503  DECEX - GESTOR   C1EN    CON   DETM   139000.00   \n",
       "1385    MG  167503  DECEX - GESTOR   C1EN    CON   DETM     1003.00   \n",
       "1387    MG  167503  DECEX - GESTOR   C1EN    CON   DETM   332053.92   \n",
       "1390    MG  167503  DECEX - GESTOR   C1EN    CON   DETM   151926.46   \n",
       "1393    MG  167503  DECEX - GESTOR   C1EN    CON   DETM      188.50   \n",
       "1395    MG  167503  DECEX - GESTOR   C1EN    CON   DETM      193.33   \n",
       "1398    MG  167129             ESA   C1EN    CON   DETM    30965.93   \n",
       "1400    MG  167503  DECEX - GESTOR   C1EN    CON   DETM     1170.00   \n",
       "1405    MG  167503  DECEX - GESTOR   C1EN    CON   DETM     1617.99   \n",
       "1407    MG  167503  DECEX - GESTOR   C1EN    CON   DETM    45000.00   \n",
       "1413    MG  167503  DECEX - GESTOR   C1EN    CON   DETM    13778.00   \n",
       "1414    MG  167503  DECEX - GESTOR   C1EN    CON   DETM      360.00   \n",
       "1416    MG  167503  DECEX - GESTOR   C1EN    CON   DETM     7000.00   \n",
       "1417    MG  167503  DECEX - GESTOR   C1EN    CON   DETM    15736.00   \n",
       "1419    MG  167503  DECEX - GESTOR   C1EN    CON   DETM     1084.90   \n",
       "1420    MG  167503  DECEX - GESTOR   C1EN    CON   DETM     8808.41   \n",
       "1421    MG  167503  DECEX - GESTOR   C1EN    CON   DETM    33259.98   \n",
       "1423    MG  167503  DECEX - GESTOR   C1EN    CON   DETM     1390.00   \n",
       "1426    MG  167503  DECEX - GESTOR   C1EN    CON   DETM      608.00   \n",
       "1427    MG  167503  DECEX - GESTOR   C1EN    CON   DETM    14016.00   \n",
       "1431    MG  167503  DECEX - GESTOR   C1EN    CON   DETM     1620.00   \n",
       "1432    MG  167503  DECEX - GESTOR   C1EN    CON   DETM     7650.00   \n",
       "1433    MG  167503  DECEX - GESTOR   C1EN    CON   DETM      890.68   \n",
       "1435    MG  167503  DECEX - GESTOR   C1EN    CON   DETM    50788.50   \n",
       "1436    MG  167503  DECEX - GESTOR   C1EN    CON   DETM     2604.00   \n",
       "1437    MG  167503  DECEX - GESTOR   C1EN    CON   DETM      930.00   \n",
       "1438    MG  167503  DECEX - GESTOR   C1EN    CON   DETM      400.00   \n",
       "1440    MG  167503  DECEX - GESTOR   C1EN    CON   DETM    11361.07   \n",
       "1441    MG  167503  DECEX - GESTOR   C1EN    CON   DETM      620.00   \n",
       "1446    MG  167503  DECEX - GESTOR   C1EN    CON   DETM      372.00   \n",
       "1448    MG  167503  DECEX - GESTOR   C1EN    CON   DETM    21864.00   \n",
       "1449    MG  167503  DECEX - GESTOR   C1EN    CON   DETM    10671.00   \n",
       "\n",
       "      LIQUIDADO_A_PAGAR  TOTAL_A_PAGAR       PAGO  \n",
       "1358               0.00        1016.25       0.00  \n",
       "1375               0.00       14845.00       0.00  \n",
       "1378               0.00         358.80       0.00  \n",
       "1379               0.00        1680.00       0.00  \n",
       "1380               0.00        6496.00       0.00  \n",
       "1382               0.00        1870.00       0.00  \n",
       "1384               0.00      139000.00       0.00  \n",
       "1385               0.00        1003.00       0.00  \n",
       "1387               0.00      332053.92       0.00  \n",
       "1390               0.00      151926.46  119558.70  \n",
       "1393               0.00         188.50       0.00  \n",
       "1395            4950.01        5143.34       0.00  \n",
       "1398             190.57       31156.50   36843.50  \n",
       "1400               0.00        1170.00       0.00  \n",
       "1405               0.00        1617.99     382.01  \n",
       "1407               0.00       45000.00       0.00  \n",
       "1413               0.00       13778.00       0.00  \n",
       "1414               0.00         360.00       0.00  \n",
       "1416               0.00        7000.00       0.00  \n",
       "1417               0.00       15736.00       0.00  \n",
       "1419               0.00        1084.90       0.00  \n",
       "1420               0.00        8808.41       0.00  \n",
       "1421               0.00       33259.98       0.00  \n",
       "1423               0.00        1390.00       0.00  \n",
       "1426               0.00         608.00       0.00  \n",
       "1427               0.00       14016.00       0.00  \n",
       "1431               0.00        1620.00       0.00  \n",
       "1432               0.00        7650.00       0.00  \n",
       "1433               0.00         890.68       0.00  \n",
       "1435               0.00       50788.50       0.00  \n",
       "1436               0.00        2604.00       0.00  \n",
       "1437               0.00         930.00       0.00  \n",
       "1438               0.00         400.00       0.00  \n",
       "1440               0.00       11361.07       0.00  \n",
       "1441               0.00         620.00       0.00  \n",
       "1446               0.00         372.00       0.00  \n",
       "1448               0.00       21864.00       0.00  \n",
       "1449               0.00       10671.00       0.00  "
      ]
     },
     "execution_count": 34,
     "metadata": {},
     "output_type": "execute_result"
    }
   ],
   "source": [
    "df_teste[(df_teste['PI'] == 'C1ENCONDETM') & (df_teste['A_LIQUIDAR'] != 0)]"
   ]
  },
  {
   "cell_type": "code",
   "execution_count": 35,
   "metadata": {},
   "outputs": [
    {
     "data": {
      "text/html": [
       "<div>\n",
       "<style scoped>\n",
       "    .dataframe tbody tr th:only-of-type {\n",
       "        vertical-align: middle;\n",
       "    }\n",
       "\n",
       "    .dataframe tbody tr th {\n",
       "        vertical-align: top;\n",
       "    }\n",
       "\n",
       "    .dataframe thead th {\n",
       "        text-align: right;\n",
       "    }\n",
       "</style>\n",
       "<table border=\"1\" class=\"dataframe\">\n",
       "  <thead>\n",
       "    <tr style=\"text-align: right;\">\n",
       "      <th></th>\n",
       "      <th>UG</th>\n",
       "      <th>SIGLA UG</th>\n",
       "      <th>ACAO</th>\n",
       "      <th>NOME_ACAO</th>\n",
       "      <th>ANO</th>\n",
       "      <th>CREDOR</th>\n",
       "      <th>NOME_CREDOR</th>\n",
       "      <th>DATA</th>\n",
       "      <th>DIAS</th>\n",
       "      <th>ICFEX</th>\n",
       "      <th>NOME_ICFEX</th>\n",
       "      <th>ND</th>\n",
       "      <th>NOME_ND</th>\n",
       "      <th>NDSI</th>\n",
       "      <th>NOME_NDSI</th>\n",
       "      <th>NE</th>\n",
       "      <th>PI</th>\n",
       "      <th>NOME_PI</th>\n",
       "      <th>PROGRAMA</th>\n",
       "      <th>PTRES</th>\n",
       "      <th>TIPO</th>\n",
       "      <th>TIPO_NE</th>\n",
       "      <th>LOCAL</th>\n",
       "      <th>UF_CREDOR</th>\n",
       "      <th>UF_UG</th>\n",
       "      <th>UGR</th>\n",
       "      <th>NOME_UGR</th>\n",
       "      <th>RADPI4</th>\n",
       "      <th>MEIPI3</th>\n",
       "      <th>SUFPI4</th>\n",
       "      <th>A_LIQUIDAR</th>\n",
       "      <th>LIQUIDADO_A_PAGAR</th>\n",
       "      <th>TOTAL_A_PAGAR</th>\n",
       "      <th>PAGO</th>\n",
       "    </tr>\n",
       "  </thead>\n",
       "  <tbody>\n",
       "    <tr>\n",
       "      <th>940</th>\n",
       "      <td>160129</td>\n",
       "      <td>ESA</td>\n",
       "      <td>219D</td>\n",
       "      <td>ADEQUACAO DE ATIVOS DE INFRAESTRUTURA</td>\n",
       "      <td>2023</td>\n",
       "      <td>160129</td>\n",
       "      <td>NaN</td>\n",
       "      <td>2023-09-14</td>\n",
       "      <td>36</td>\n",
       "      <td>160533</td>\n",
       "      <td>4º CGCFEX</td>\n",
       "      <td>339015</td>\n",
       "      <td>DIARIAS - PESSOAL MILITAR</td>\n",
       "      <td>33901514</td>\n",
       "      <td>DIARIAS NO PAIS</td>\n",
       "      <td>2023NE001169</td>\n",
       "      <td>B5OEENGGPIM</td>\n",
       "      <td>ENG-ATIVIDADES DE ENGENHARIA</td>\n",
       "      <td>6012</td>\n",
       "      <td>171466</td>\n",
       "      <td>ANO</td>\n",
       "      <td>ESTIMATIVO</td>\n",
       "      <td>0</td>\n",
       "      <td>NaN</td>\n",
       "      <td>MG</td>\n",
       "      <td>160129</td>\n",
       "      <td>ESA</td>\n",
       "      <td>B5OE</td>\n",
       "      <td>ENG</td>\n",
       "      <td>GPIM</td>\n",
       "      <td>1654.95</td>\n",
       "      <td>0.0</td>\n",
       "      <td>1654.95</td>\n",
       "      <td>0.00</td>\n",
       "    </tr>\n",
       "    <tr>\n",
       "      <th>941</th>\n",
       "      <td>160129</td>\n",
       "      <td>ESA</td>\n",
       "      <td>219D</td>\n",
       "      <td>ADEQUACAO DE ATIVOS DE INFRAESTRUTURA</td>\n",
       "      <td>2023</td>\n",
       "      <td>17289559000186</td>\n",
       "      <td>FENARA &amp; FENARA - ENGENHARIA E ADMINISTRACAO LTDA</td>\n",
       "      <td>2023-05-23</td>\n",
       "      <td>150</td>\n",
       "      <td>160533</td>\n",
       "      <td>4º CGCFEX</td>\n",
       "      <td>339039</td>\n",
       "      <td>OUTROS SERVICOS DE TERCEIROS - PESSOA JURIDICA</td>\n",
       "      <td>33903916</td>\n",
       "      <td>MANUTENCAO E CONSERV. DE BENS IMOVEIS</td>\n",
       "      <td>2023NE000532</td>\n",
       "      <td>B4OMOBMAQUA</td>\n",
       "      <td>AQUARTELAMENTO</td>\n",
       "      <td>6012</td>\n",
       "      <td>171459</td>\n",
       "      <td>ANO</td>\n",
       "      <td>GLOBAL</td>\n",
       "      <td>ESCOLA DE SARGENTOS DAS ARMAS  - AVENIDA SETE ...</td>\n",
       "      <td>SP</td>\n",
       "      <td>MG</td>\n",
       "      <td>160502</td>\n",
       "      <td>DEC-GESTOR</td>\n",
       "      <td>B4OM</td>\n",
       "      <td>OBM</td>\n",
       "      <td>AQUA</td>\n",
       "      <td>260788.48</td>\n",
       "      <td>0.0</td>\n",
       "      <td>260788.48</td>\n",
       "      <td>0.00</td>\n",
       "    </tr>\n",
       "    <tr>\n",
       "      <th>945</th>\n",
       "      <td>160129</td>\n",
       "      <td>ESA</td>\n",
       "      <td>219D</td>\n",
       "      <td>ADEQUACAO DE ATIVOS DE INFRAESTRUTURA</td>\n",
       "      <td>2023</td>\n",
       "      <td>33345691000114</td>\n",
       "      <td>CONCRETA BRASIL SOLUCOES EMPRESARIAIS LTDA</td>\n",
       "      <td>2023-08-17</td>\n",
       "      <td>64</td>\n",
       "      <td>160533</td>\n",
       "      <td>4º CGCFEX</td>\n",
       "      <td>339030</td>\n",
       "      <td>MATERIAL DE CONSUMO</td>\n",
       "      <td>33903024</td>\n",
       "      <td>MATERIAL P/ MANUT.DE BENS IMOVEIS/INSTALACOES</td>\n",
       "      <td>2023NE001019</td>\n",
       "      <td>B4OMOBMAQUA</td>\n",
       "      <td>AQUARTELAMENTO</td>\n",
       "      <td>6012</td>\n",
       "      <td>171459</td>\n",
       "      <td>ANO</td>\n",
       "      <td>ORDINARIO</td>\n",
       "      <td>ESCOLA DE SARGENTOS DAS ARMAS  - AVENIDA SETE ...</td>\n",
       "      <td>RJ</td>\n",
       "      <td>MG</td>\n",
       "      <td>160502</td>\n",
       "      <td>DEC-GESTOR</td>\n",
       "      <td>B4OM</td>\n",
       "      <td>OBM</td>\n",
       "      <td>AQUA</td>\n",
       "      <td>994.17</td>\n",
       "      <td>0.0</td>\n",
       "      <td>994.17</td>\n",
       "      <td>0.00</td>\n",
       "    </tr>\n",
       "    <tr>\n",
       "      <th>2308</th>\n",
       "      <td>167129</td>\n",
       "      <td>ESA</td>\n",
       "      <td>2004</td>\n",
       "      <td>ASSISTENCIA MEDICA E ODONTOLOGICA AOS</td>\n",
       "      <td>2023</td>\n",
       "      <td>17845504000296</td>\n",
       "      <td>UNIMED VARGINHA COOPERATIVA DE TRABALHO MEDICO</td>\n",
       "      <td>2023-06-07</td>\n",
       "      <td>135</td>\n",
       "      <td>160533</td>\n",
       "      <td>4º CGCFEX</td>\n",
       "      <td>339039</td>\n",
       "      <td>OUTROS SERVICOS DE TERCEIROS - PESSOA JURIDICA</td>\n",
       "      <td>33903950</td>\n",
       "      <td>SERV.MEDICO-HOSPITAL.,ODONTOL.E LABORATORIAIS</td>\n",
       "      <td>2023NE001168</td>\n",
       "      <td>D8SAFUSOCSA</td>\n",
       "      <td>ORGANIZACAO CIVIL DE SAUDE</td>\n",
       "      <td>0032</td>\n",
       "      <td>215845</td>\n",
       "      <td>ANO</td>\n",
       "      <td>ESTIMATIVO</td>\n",
       "      <td>CLINICA/CONSULTÓRIO/HOSPITAL</td>\n",
       "      <td>MG</td>\n",
       "      <td>MG</td>\n",
       "      <td>167505</td>\n",
       "      <td>DGP</td>\n",
       "      <td>D8SA</td>\n",
       "      <td>FUS</td>\n",
       "      <td>OCSA</td>\n",
       "      <td>0.00</td>\n",
       "      <td>0.0</td>\n",
       "      <td>0.00</td>\n",
       "      <td>1390.97</td>\n",
       "    </tr>\n",
       "    <tr>\n",
       "      <th>2526</th>\n",
       "      <td>167129</td>\n",
       "      <td>ESA</td>\n",
       "      <td>2004</td>\n",
       "      <td>ASSISTENCIA MEDICA E ODONTOLOGICA AOS</td>\n",
       "      <td>2023</td>\n",
       "      <td>22073381000171</td>\n",
       "      <td>HOSPITAL VAZ MONTEIRO DE ASSISTENCIA A INFANCI...</td>\n",
       "      <td>2023-05-19</td>\n",
       "      <td>154</td>\n",
       "      <td>160533</td>\n",
       "      <td>4º CGCFEX</td>\n",
       "      <td>339039</td>\n",
       "      <td>OUTROS SERVICOS DE TERCEIROS - PESSOA JURIDICA</td>\n",
       "      <td>33903950</td>\n",
       "      <td>SERV.MEDICO-HOSPITAL.,ODONTOL.E LABORATORIAIS</td>\n",
       "      <td>2023NE001019</td>\n",
       "      <td>D8SAFUSOCSA</td>\n",
       "      <td>ORGANIZACAO CIVIL DE SAUDE</td>\n",
       "      <td>0032</td>\n",
       "      <td>215845</td>\n",
       "      <td>ANO</td>\n",
       "      <td>ESTIMATIVO</td>\n",
       "      <td>CLINICA/CONSULTÓRIO/HOSPITAL</td>\n",
       "      <td>MG</td>\n",
       "      <td>MG</td>\n",
       "      <td>167505</td>\n",
       "      <td>DGP</td>\n",
       "      <td>D8SA</td>\n",
       "      <td>FUS</td>\n",
       "      <td>OCSA</td>\n",
       "      <td>0.00</td>\n",
       "      <td>0.0</td>\n",
       "      <td>0.00</td>\n",
       "      <td>2706.21</td>\n",
       "    </tr>\n",
       "    <tr>\n",
       "      <th>2937</th>\n",
       "      <td>167129</td>\n",
       "      <td>ESA</td>\n",
       "      <td>2004</td>\n",
       "      <td>ASSISTENCIA MEDICA E ODONTOLOGICA AOS</td>\n",
       "      <td>2023</td>\n",
       "      <td>47101984000160</td>\n",
       "      <td>PERSONARE PILATES LTDA</td>\n",
       "      <td>2023-06-07</td>\n",
       "      <td>135</td>\n",
       "      <td>160533</td>\n",
       "      <td>4º CGCFEX</td>\n",
       "      <td>339039</td>\n",
       "      <td>OUTROS SERVICOS DE TERCEIROS - PESSOA JURIDICA</td>\n",
       "      <td>33903950</td>\n",
       "      <td>SERV.MEDICO-HOSPITAL.,ODONTOL.E LABORATORIAIS</td>\n",
       "      <td>2023NE001169</td>\n",
       "      <td>D8SAFUSOCSA</td>\n",
       "      <td>ORGANIZACAO CIVIL DE SAUDE</td>\n",
       "      <td>0032</td>\n",
       "      <td>215845</td>\n",
       "      <td>ANO</td>\n",
       "      <td>ESTIMATIVO</td>\n",
       "      <td>CLINICA/CONSULTÓRIO/HOSPITAL</td>\n",
       "      <td>MG</td>\n",
       "      <td>MG</td>\n",
       "      <td>167505</td>\n",
       "      <td>DGP</td>\n",
       "      <td>D8SA</td>\n",
       "      <td>FUS</td>\n",
       "      <td>OCSA</td>\n",
       "      <td>0.00</td>\n",
       "      <td>0.0</td>\n",
       "      <td>0.00</td>\n",
       "      <td>50.00</td>\n",
       "    </tr>\n",
       "    <tr>\n",
       "      <th>3018</th>\n",
       "      <td>167129</td>\n",
       "      <td>ESA</td>\n",
       "      <td>2004</td>\n",
       "      <td>ASSISTENCIA MEDICA E ODONTOLOGICA AOS</td>\n",
       "      <td>2023</td>\n",
       "      <td>57122873668</td>\n",
       "      <td>EVALDO LUIZ MARINHO</td>\n",
       "      <td>2023-03-20</td>\n",
       "      <td>214</td>\n",
       "      <td>160533</td>\n",
       "      <td>4º CGCFEX</td>\n",
       "      <td>339036</td>\n",
       "      <td>OUTROS SERVICOS DE TERCEIROS - PESSOA FISICA</td>\n",
       "      <td>33903630</td>\n",
       "      <td>SERVICOS MEDICOS E ODONTOLOGICOS</td>\n",
       "      <td>2023NE000532</td>\n",
       "      <td>D8SAFUSPRSA</td>\n",
       "      <td>PROFISSIONAL DE SAUDE AUTONOMO</td>\n",
       "      <td>0032</td>\n",
       "      <td>215845</td>\n",
       "      <td>ANO</td>\n",
       "      <td>ESTIMATIVO</td>\n",
       "      <td>CLINICA/CONSULTÓRIO/HOSPITAL</td>\n",
       "      <td>MG</td>\n",
       "      <td>MG</td>\n",
       "      <td>167505</td>\n",
       "      <td>DGP</td>\n",
       "      <td>D8SA</td>\n",
       "      <td>FUS</td>\n",
       "      <td>PRSA</td>\n",
       "      <td>0.00</td>\n",
       "      <td>0.0</td>\n",
       "      <td>0.00</td>\n",
       "      <td>400.00</td>\n",
       "    </tr>\n",
       "  </tbody>\n",
       "</table>\n",
       "</div>"
      ],
      "text/plain": [
       "          UG SIGLA UG  ACAO                              NOME_ACAO   ANO  \\\n",
       "940   160129      ESA  219D  ADEQUACAO DE ATIVOS DE INFRAESTRUTURA  2023   \n",
       "941   160129      ESA  219D  ADEQUACAO DE ATIVOS DE INFRAESTRUTURA  2023   \n",
       "945   160129      ESA  219D  ADEQUACAO DE ATIVOS DE INFRAESTRUTURA  2023   \n",
       "2308  167129      ESA  2004  ASSISTENCIA MEDICA E ODONTOLOGICA AOS  2023   \n",
       "2526  167129      ESA  2004  ASSISTENCIA MEDICA E ODONTOLOGICA AOS  2023   \n",
       "2937  167129      ESA  2004  ASSISTENCIA MEDICA E ODONTOLOGICA AOS  2023   \n",
       "3018  167129      ESA  2004  ASSISTENCIA MEDICA E ODONTOLOGICA AOS  2023   \n",
       "\n",
       "              CREDOR                                        NOME_CREDOR  \\\n",
       "940           160129                                                NaN   \n",
       "941   17289559000186  FENARA & FENARA - ENGENHARIA E ADMINISTRACAO LTDA   \n",
       "945   33345691000114         CONCRETA BRASIL SOLUCOES EMPRESARIAIS LTDA   \n",
       "2308  17845504000296     UNIMED VARGINHA COOPERATIVA DE TRABALHO MEDICO   \n",
       "2526  22073381000171  HOSPITAL VAZ MONTEIRO DE ASSISTENCIA A INFANCI...   \n",
       "2937  47101984000160                             PERSONARE PILATES LTDA   \n",
       "3018     57122873668                                EVALDO LUIZ MARINHO   \n",
       "\n",
       "           DATA  DIAS   ICFEX NOME_ICFEX      ND  \\\n",
       "940  2023-09-14    36  160533  4º CGCFEX  339015   \n",
       "941  2023-05-23   150  160533  4º CGCFEX  339039   \n",
       "945  2023-08-17    64  160533  4º CGCFEX  339030   \n",
       "2308 2023-06-07   135  160533  4º CGCFEX  339039   \n",
       "2526 2023-05-19   154  160533  4º CGCFEX  339039   \n",
       "2937 2023-06-07   135  160533  4º CGCFEX  339039   \n",
       "3018 2023-03-20   214  160533  4º CGCFEX  339036   \n",
       "\n",
       "                                             NOME_ND      NDSI  \\\n",
       "940                        DIARIAS - PESSOAL MILITAR  33901514   \n",
       "941   OUTROS SERVICOS DE TERCEIROS - PESSOA JURIDICA  33903916   \n",
       "945                              MATERIAL DE CONSUMO  33903024   \n",
       "2308  OUTROS SERVICOS DE TERCEIROS - PESSOA JURIDICA  33903950   \n",
       "2526  OUTROS SERVICOS DE TERCEIROS - PESSOA JURIDICA  33903950   \n",
       "2937  OUTROS SERVICOS DE TERCEIROS - PESSOA JURIDICA  33903950   \n",
       "3018    OUTROS SERVICOS DE TERCEIROS - PESSOA FISICA  33903630   \n",
       "\n",
       "                                          NOME_NDSI            NE  \\\n",
       "940                                 DIARIAS NO PAIS  2023NE001169   \n",
       "941           MANUTENCAO E CONSERV. DE BENS IMOVEIS  2023NE000532   \n",
       "945   MATERIAL P/ MANUT.DE BENS IMOVEIS/INSTALACOES  2023NE001019   \n",
       "2308  SERV.MEDICO-HOSPITAL.,ODONTOL.E LABORATORIAIS  2023NE001168   \n",
       "2526  SERV.MEDICO-HOSPITAL.,ODONTOL.E LABORATORIAIS  2023NE001019   \n",
       "2937  SERV.MEDICO-HOSPITAL.,ODONTOL.E LABORATORIAIS  2023NE001169   \n",
       "3018               SERVICOS MEDICOS E ODONTOLOGICOS  2023NE000532   \n",
       "\n",
       "               PI                         NOME_PI PROGRAMA   PTRES TIPO  \\\n",
       "940   B5OEENGGPIM    ENG-ATIVIDADES DE ENGENHARIA     6012  171466  ANO   \n",
       "941   B4OMOBMAQUA                  AQUARTELAMENTO     6012  171459  ANO   \n",
       "945   B4OMOBMAQUA                  AQUARTELAMENTO     6012  171459  ANO   \n",
       "2308  D8SAFUSOCSA      ORGANIZACAO CIVIL DE SAUDE     0032  215845  ANO   \n",
       "2526  D8SAFUSOCSA      ORGANIZACAO CIVIL DE SAUDE     0032  215845  ANO   \n",
       "2937  D8SAFUSOCSA      ORGANIZACAO CIVIL DE SAUDE     0032  215845  ANO   \n",
       "3018  D8SAFUSPRSA  PROFISSIONAL DE SAUDE AUTONOMO     0032  215845  ANO   \n",
       "\n",
       "         TIPO_NE                                              LOCAL UF_CREDOR  \\\n",
       "940   ESTIMATIVO                                                  0       NaN   \n",
       "941       GLOBAL  ESCOLA DE SARGENTOS DAS ARMAS  - AVENIDA SETE ...        SP   \n",
       "945    ORDINARIO  ESCOLA DE SARGENTOS DAS ARMAS  - AVENIDA SETE ...        RJ   \n",
       "2308  ESTIMATIVO                       CLINICA/CONSULTÓRIO/HOSPITAL        MG   \n",
       "2526  ESTIMATIVO                       CLINICA/CONSULTÓRIO/HOSPITAL        MG   \n",
       "2937  ESTIMATIVO                       CLINICA/CONSULTÓRIO/HOSPITAL        MG   \n",
       "3018  ESTIMATIVO                       CLINICA/CONSULTÓRIO/HOSPITAL        MG   \n",
       "\n",
       "     UF_UG     UGR    NOME_UGR RADPI4 MEIPI3 SUFPI4  A_LIQUIDAR  \\\n",
       "940     MG  160129         ESA   B5OE    ENG   GPIM     1654.95   \n",
       "941     MG  160502  DEC-GESTOR   B4OM    OBM   AQUA   260788.48   \n",
       "945     MG  160502  DEC-GESTOR   B4OM    OBM   AQUA      994.17   \n",
       "2308    MG  167505         DGP   D8SA    FUS   OCSA        0.00   \n",
       "2526    MG  167505         DGP   D8SA    FUS   OCSA        0.00   \n",
       "2937    MG  167505         DGP   D8SA    FUS   OCSA        0.00   \n",
       "3018    MG  167505         DGP   D8SA    FUS   PRSA        0.00   \n",
       "\n",
       "      LIQUIDADO_A_PAGAR  TOTAL_A_PAGAR     PAGO  \n",
       "940                 0.0        1654.95     0.00  \n",
       "941                 0.0      260788.48     0.00  \n",
       "945                 0.0         994.17     0.00  \n",
       "2308                0.0           0.00  1390.97  \n",
       "2526                0.0           0.00  2706.21  \n",
       "2937                0.0           0.00    50.00  \n",
       "3018                0.0           0.00   400.00  "
      ]
     },
     "execution_count": 35,
     "metadata": {},
     "output_type": "execute_result"
    }
   ],
   "source": [
    "notas = ['2023NE000532', '2023NE001019', '2023NE001168', '2023NE001169']\n",
    "\n",
    "df_teste[df_teste['NE'].isin(notas)]\n"
   ]
  },
  {
   "cell_type": "code",
   "execution_count": 37,
   "metadata": {},
   "outputs": [
    {
     "data": {
      "text/html": [
       "<div>\n",
       "<style scoped>\n",
       "    .dataframe tbody tr th:only-of-type {\n",
       "        vertical-align: middle;\n",
       "    }\n",
       "\n",
       "    .dataframe tbody tr th {\n",
       "        vertical-align: top;\n",
       "    }\n",
       "\n",
       "    .dataframe thead th {\n",
       "        text-align: right;\n",
       "    }\n",
       "</style>\n",
       "<table border=\"1\" class=\"dataframe\">\n",
       "  <thead>\n",
       "    <tr style=\"text-align: right;\">\n",
       "      <th></th>\n",
       "      <th>UG</th>\n",
       "      <th>SIGLA UG</th>\n",
       "      <th>ACAO</th>\n",
       "      <th>NOME_ACAO</th>\n",
       "      <th>ANO</th>\n",
       "      <th>CREDOR</th>\n",
       "      <th>NOME_CREDOR</th>\n",
       "      <th>DATA</th>\n",
       "      <th>DIAS</th>\n",
       "      <th>ICFEX</th>\n",
       "      <th>NOME_ICFEX</th>\n",
       "      <th>ND</th>\n",
       "      <th>NOME_ND</th>\n",
       "      <th>NDSI</th>\n",
       "      <th>NOME_NDSI</th>\n",
       "      <th>NE</th>\n",
       "      <th>PI</th>\n",
       "      <th>NOME_PI</th>\n",
       "      <th>PROGRAMA</th>\n",
       "      <th>PTRES</th>\n",
       "      <th>TIPO</th>\n",
       "      <th>TIPO_NE</th>\n",
       "      <th>LOCAL</th>\n",
       "      <th>UF_CREDOR</th>\n",
       "      <th>UF_UG</th>\n",
       "      <th>UGR</th>\n",
       "      <th>NOME_UGR</th>\n",
       "      <th>RADPI4</th>\n",
       "      <th>MEIPI3</th>\n",
       "      <th>SUFPI4</th>\n",
       "      <th>A_LIQUIDAR</th>\n",
       "      <th>LIQUIDADO_A_PAGAR</th>\n",
       "      <th>TOTAL_A_PAGAR</th>\n",
       "      <th>PAGO</th>\n",
       "    </tr>\n",
       "  </thead>\n",
       "  <tbody>\n",
       "    <tr>\n",
       "      <th>1100</th>\n",
       "      <td>160129</td>\n",
       "      <td>ESA</td>\n",
       "      <td>8965</td>\n",
       "      <td>CAPACITACAO PROFISSIONAL MILITAR DO E</td>\n",
       "      <td>2022</td>\n",
       "      <td>05691235000190</td>\n",
       "      <td>COPYUAI LOCACAO DE EQUIPAMENTOS LTDA</td>\n",
       "      <td>2022-10-06</td>\n",
       "      <td>379</td>\n",
       "      <td>160533</td>\n",
       "      <td>4º CGCFEX</td>\n",
       "      <td>339040</td>\n",
       "      <td>SERVIÇOS DE TECNOLOGIA DA INFORMAÇÃO E COMUNIC...</td>\n",
       "      <td>33904012</td>\n",
       "      <td>MANUTENCAO E CONSERVACAO DE EQUIPAMENTOS DE TIC</td>\n",
       "      <td>2022NE001087</td>\n",
       "      <td>C4ENMILCAPE</td>\n",
       "      <td>CAPACITACAO DE PESSOAL</td>\n",
       "      <td>6012</td>\n",
       "      <td>171423</td>\n",
       "      <td>RPNP</td>\n",
       "      <td>GLOBAL</td>\n",
       "      <td>ESCOLA DE SARGENTOS DAS ARMAS</td>\n",
       "      <td>MG</td>\n",
       "      <td>MG</td>\n",
       "      <td>160503</td>\n",
       "      <td>DECEX/GESTOR</td>\n",
       "      <td>C4EN</td>\n",
       "      <td>MIL</td>\n",
       "      <td>CAPE</td>\n",
       "      <td>2397.0</td>\n",
       "      <td>0.0</td>\n",
       "      <td>2397.0</td>\n",
       "      <td>7191.0</td>\n",
       "    </tr>\n",
       "  </tbody>\n",
       "</table>\n",
       "</div>"
      ],
      "text/plain": [
       "          UG SIGLA UG  ACAO                              NOME_ACAO   ANO  \\\n",
       "1100  160129      ESA  8965  CAPACITACAO PROFISSIONAL MILITAR DO E  2022   \n",
       "\n",
       "              CREDOR                           NOME_CREDOR       DATA  DIAS  \\\n",
       "1100  05691235000190  COPYUAI LOCACAO DE EQUIPAMENTOS LTDA 2022-10-06   379   \n",
       "\n",
       "       ICFEX NOME_ICFEX      ND  \\\n",
       "1100  160533  4º CGCFEX  339040   \n",
       "\n",
       "                                                NOME_ND      NDSI  \\\n",
       "1100  SERVIÇOS DE TECNOLOGIA DA INFORMAÇÃO E COMUNIC...  33904012   \n",
       "\n",
       "                                            NOME_NDSI            NE  \\\n",
       "1100  MANUTENCAO E CONSERVACAO DE EQUIPAMENTOS DE TIC  2022NE001087   \n",
       "\n",
       "               PI                 NOME_PI PROGRAMA   PTRES  TIPO TIPO_NE  \\\n",
       "1100  C4ENMILCAPE  CAPACITACAO DE PESSOAL     6012  171423  RPNP  GLOBAL   \n",
       "\n",
       "                              LOCAL UF_CREDOR UF_UG     UGR      NOME_UGR  \\\n",
       "1100  ESCOLA DE SARGENTOS DAS ARMAS        MG    MG  160503  DECEX/GESTOR   \n",
       "\n",
       "     RADPI4 MEIPI3 SUFPI4  A_LIQUIDAR  LIQUIDADO_A_PAGAR  TOTAL_A_PAGAR  \\\n",
       "1100   C4EN    MIL   CAPE      2397.0                0.0         2397.0   \n",
       "\n",
       "        PAGO  \n",
       "1100  7191.0  "
      ]
     },
     "execution_count": 37,
     "metadata": {},
     "output_type": "execute_result"
    }
   ],
   "source": [
    "df_teste[df_teste['NE'] == '2022NE001087']"
   ]
  }
 ],
 "metadata": {
  "kernelspec": {
   "display_name": "base",
   "language": "python",
   "name": "python3"
  },
  "language_info": {
   "codemirror_mode": {
    "name": "ipython",
    "version": 3
   },
   "file_extension": ".py",
   "mimetype": "text/x-python",
   "name": "python",
   "nbconvert_exporter": "python",
   "pygments_lexer": "ipython3",
   "version": "3.11.5"
  },
  "orig_nbformat": 4
 },
 "nbformat": 4,
 "nbformat_minor": 2
}
