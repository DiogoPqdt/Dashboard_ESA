{
 "cells": [
  {
   "cell_type": "markdown",
   "metadata": {},
   "source": [
    "# Criar VENV\n",
    "\n",
    "https://oandersonbm.medium.com/usando-python-no-vs-code-com-ambiente-virtual-venv-ecef7959b652"
   ]
  },
  {
   "cell_type": "code",
   "execution_count": 3,
   "metadata": {},
   "outputs": [],
   "source": [
    "import pandas as pd\n",
    "import plotly.express as px\n",
    "import plotly.graph_objects as go\n",
    "from datetime import datetime\n",
    "import locale\n",
    "\n",
    "# Definindo a configuração local para o Brasil (pt_BR)\n",
    "locale.setlocale(locale.LC_ALL, 'pt_BR')\n",
    "\n",
    "# Personalizando para ver todas as colunas e linhas do DataFrame\n",
    "pd.set_option('display.max_columns', None)\n",
    "\n",
    "pd.set_option('display.max_rows', None) "
   ]
  },
  {
   "cell_type": "markdown",
   "metadata": {},
   "source": [
    "# Base de dados"
   ]
  },
  {
   "cell_type": "code",
   "execution_count": 4,
   "metadata": {},
   "outputs": [],
   "source": [
    "# Realizando a junção dos 3 arquivos .CSV num único DataFrame\n",
    "\n",
    "# Caminhos para os arquivos .CSV\n",
    "caminho_1 = r\"C:\\Users\\User\\OneDrive\\Trabalho\\ESA 2024\\Dashboard_ESA\\base_dados\\Cel Manfrini.csv\"\n",
    "\n",
    "caminho_2 = r\"C:\\Users\\User\\OneDrive\\Trabalho\\ESA 2024\\Dashboard_ESA\\base_dados\\Cel Manfrini(1).csv\"\n",
    "#\n",
    "caminho_3 = r\"C:\\Users\\User\\OneDrive\\Trabalho\\ESA 2024\\Dashboard_ESA\\base_dados\\Cel Manfrini(2).csv\"\n",
    "#\n",
    "#caminho_4 = r\"D:\\OneDrive\\Trabalho\\ESA 2023\\Dashboard_ESA\\base_dados\\Cel Manfrini(3).csv\"\n",
    "#\n",
    "#caminho_5 = r\"D:\\OneDrive\\Trabalho\\ESA 2023\\Dashboard_ESA\\base_dados\\Cel Manfrini(4).csv\"\n",
    "#\n",
    "#caminho_6 = r\"D:\\OneDrive\\Trabalho\\ESA 2023\\Dashboard_ESA\\base_dados\\Cel Manfrini(5).csv\"\n",
    "\n",
    "\n",
    "\n",
    "# Leitura dos arquivos .CSV em DataFrames individuais\n",
    "df1 = pd.read_csv(caminho_1)\n",
    "df2 = pd.read_csv(caminho_2)\n",
    "df3 = pd.read_csv(caminho_3)\n",
    "#df4 = pd.read_csv(caminho_4)\n",
    "#df5 = pd.read_csv(caminho_5)\n",
    "#df6 = pd.read_csv(caminho_6)\n",
    "\n",
    "# Concatenação dos DataFrames em um único DataFrame\n",
    "df = pd.concat([df1, df2, df3], ignore_index=True)\n",
    "\n",
    "# Excluindo linhas que contenham a string \"Tela\" em qualquer coluna\n",
    "df = df[~df.apply(lambda row: row.astype(str).str.contains('Tela')).any(axis=1)]\n",
    "\n",
    "# Transformando o tipo de dado das colunas de valores monetários\n",
    "df['A_LIQUIDAR'] = df['A_LIQUIDAR'].apply(lambda x: float(x.replace('.', '').replace(',', '.')))\n",
    "df['LIQUIDADO_A_PAGAR'] = df['LIQUIDADO_A_PAGAR'].apply(lambda x: float(x.replace('.', '').replace(',', '.')))\n",
    "df['TOTAL_A_PAGAR'] = df['TOTAL_A_PAGAR'].apply(lambda x: float(x.replace('.', '').replace(',', '.')))\n",
    "df['PAGO'] = df['PAGO'].apply(lambda x: float(x.replace('.', '').replace(',', '.')))\n",
    "\n",
    "# Convertendo a coluna DATA para datetime\n",
    "df['DATA'] = pd.to_datetime(df['DATA'], format='%d/%m/%y')\n",
    "\n",
    "# Convertendo a coluna DIAS em número inteiro\n",
    "df['DIAS'] = df['DIAS'].astype(int)\n",
    "\n"
   ]
  },
  {
   "cell_type": "markdown",
   "metadata": {},
   "source": [
    "# Trabalhando com um DATAFRAME voltado para controle dos SALDOS"
   ]
  },
  {
   "cell_type": "code",
   "execution_count": 5,
   "metadata": {},
   "outputs": [],
   "source": [
    "df_saldos = df[['NOME_UG', 'ANO', 'NOME_CREDOR', 'DATA', 'DIAS', 'ND','NDSI', 'NOME_NDSI', 'NE', 'PI', 'NOME_PI','TIPO', 'NOME_UGR', 'A_LIQUIDAR', 'LIQUIDADO_A_PAGAR', 'TOTAL_A_PAGAR', 'PAGO']]"
   ]
  },
  {
   "cell_type": "code",
   "execution_count": 6,
   "metadata": {},
   "outputs": [
    {
     "name": "stdout",
     "output_type": "stream",
     "text": [
      "O total pago pela ESA até o momento foi: R$ 16.067.154,55\n",
      "O total de saldo a liquidar pela ESA até o momento foi: R$ 8.910.267,36\n",
      "O total de saldo liquidado a pagar pela ESA até o momento foi: R$ 288.709,64\n",
      "O total de saldo a pagar pela ESA até o momento foi: R$ 9.198.977,00\n"
     ]
    }
   ],
   "source": [
    "# Saldos Totais\n",
    "total_pago = df['PAGO'].sum().round(2)\n",
    "total_a_liquidar = df['A_LIQUIDAR'].sum().round(2)\n",
    "total_liquidado_a_pagar = df['LIQUIDADO_A_PAGAR'].sum().round(2)\n",
    "total_a_pagar = df['TOTAL_A_PAGAR'].sum().round(2)\n",
    "\n",
    "\n",
    "print(f'O total pago pela ESA até o momento foi: {locale.currency(total_pago, grouping=True)}')\n",
    "print(f'O total de saldo a liquidar pela ESA até o momento foi: {locale.currency(total_a_liquidar, grouping=True)}')\n",
    "print(f'O total de saldo liquidado a pagar pela ESA até o momento foi: {locale.currency(total_liquidado_a_pagar, grouping=True)}')\n",
    "print(f'O total de saldo a pagar pela ESA até o momento foi: {locale.currency(total_a_pagar, grouping=True)}')"
   ]
  },
  {
   "cell_type": "code",
   "execution_count": 7,
   "metadata": {},
   "outputs": [
    {
     "data": {
      "application/vnd.plotly.v1+json": {
       "config": {
        "plotlyServerURL": "https://plot.ly"
       },
       "data": [
        {
         "alignmentgroup": "True",
         "cliponaxis": false,
         "legendgroup": "",
         "marker": {
          "color": [
           2740406.3,
           2090693.67,
           1629783.41,
           1352878.1,
           347078.88,
           323774.93,
           302689.17,
           121189.79,
           1773.1,
           0.01
          ],
          "coloraxis": "coloraxis",
          "pattern": {
           "shape": ""
          }
         },
         "name": "",
         "offsetgroup": "",
         "orientation": "v",
         "showlegend": false,
         "textposition": "outside",
         "texttemplate": "%{y:.3s}",
         "type": "bar",
         "x": [
          "339039",
          "339030",
          "339033",
          "449052",
          "339093",
          "339015",
          "339037",
          "339040",
          "339047",
          "339147"
         ],
         "xaxis": "x",
         "y": [
          2740406.3,
          2090693.67,
          1629783.41,
          1352878.1,
          347078.88,
          323774.93,
          302689.17,
          121189.79,
          1773.1,
          0.01
         ],
         "yaxis": "y"
        }
       ],
       "layout": {
        "barmode": "relative",
        "coloraxis": {
         "colorbar": {
          "title": {
           "text": "Saldo a liquidar"
          }
         },
         "colorscale": [
          [
           0,
           "rgb(255,245,240)"
          ],
          [
           0.125,
           "rgb(254,224,210)"
          ],
          [
           0.25,
           "rgb(252,187,161)"
          ],
          [
           0.375,
           "rgb(252,146,114)"
          ],
          [
           0.5,
           "rgb(251,106,74)"
          ],
          [
           0.625,
           "rgb(239,59,44)"
          ],
          [
           0.75,
           "rgb(203,24,29)"
          ],
          [
           0.875,
           "rgb(165,15,21)"
          ],
          [
           1,
           "rgb(103,0,13)"
          ]
         ]
        },
        "height": 500,
        "hovermode": "x unified",
        "legend": {
         "tracegroupgap": 0
        },
        "template": {
         "data": {
          "bar": [
           {
            "error_x": {
             "color": "#f2f5fa"
            },
            "error_y": {
             "color": "#f2f5fa"
            },
            "marker": {
             "line": {
              "color": "rgb(17,17,17)",
              "width": 0.5
             },
             "pattern": {
              "fillmode": "overlay",
              "size": 10,
              "solidity": 0.2
             }
            },
            "type": "bar"
           }
          ],
          "barpolar": [
           {
            "marker": {
             "line": {
              "color": "rgb(17,17,17)",
              "width": 0.5
             },
             "pattern": {
              "fillmode": "overlay",
              "size": 10,
              "solidity": 0.2
             }
            },
            "type": "barpolar"
           }
          ],
          "carpet": [
           {
            "aaxis": {
             "endlinecolor": "#A2B1C6",
             "gridcolor": "#506784",
             "linecolor": "#506784",
             "minorgridcolor": "#506784",
             "startlinecolor": "#A2B1C6"
            },
            "baxis": {
             "endlinecolor": "#A2B1C6",
             "gridcolor": "#506784",
             "linecolor": "#506784",
             "minorgridcolor": "#506784",
             "startlinecolor": "#A2B1C6"
            },
            "type": "carpet"
           }
          ],
          "choropleth": [
           {
            "colorbar": {
             "outlinewidth": 0,
             "ticks": ""
            },
            "type": "choropleth"
           }
          ],
          "contour": [
           {
            "colorbar": {
             "outlinewidth": 0,
             "ticks": ""
            },
            "colorscale": [
             [
              0,
              "#0d0887"
             ],
             [
              0.1111111111111111,
              "#46039f"
             ],
             [
              0.2222222222222222,
              "#7201a8"
             ],
             [
              0.3333333333333333,
              "#9c179e"
             ],
             [
              0.4444444444444444,
              "#bd3786"
             ],
             [
              0.5555555555555556,
              "#d8576b"
             ],
             [
              0.6666666666666666,
              "#ed7953"
             ],
             [
              0.7777777777777778,
              "#fb9f3a"
             ],
             [
              0.8888888888888888,
              "#fdca26"
             ],
             [
              1,
              "#f0f921"
             ]
            ],
            "type": "contour"
           }
          ],
          "contourcarpet": [
           {
            "colorbar": {
             "outlinewidth": 0,
             "ticks": ""
            },
            "type": "contourcarpet"
           }
          ],
          "heatmap": [
           {
            "colorbar": {
             "outlinewidth": 0,
             "ticks": ""
            },
            "colorscale": [
             [
              0,
              "#0d0887"
             ],
             [
              0.1111111111111111,
              "#46039f"
             ],
             [
              0.2222222222222222,
              "#7201a8"
             ],
             [
              0.3333333333333333,
              "#9c179e"
             ],
             [
              0.4444444444444444,
              "#bd3786"
             ],
             [
              0.5555555555555556,
              "#d8576b"
             ],
             [
              0.6666666666666666,
              "#ed7953"
             ],
             [
              0.7777777777777778,
              "#fb9f3a"
             ],
             [
              0.8888888888888888,
              "#fdca26"
             ],
             [
              1,
              "#f0f921"
             ]
            ],
            "type": "heatmap"
           }
          ],
          "heatmapgl": [
           {
            "colorbar": {
             "outlinewidth": 0,
             "ticks": ""
            },
            "colorscale": [
             [
              0,
              "#0d0887"
             ],
             [
              0.1111111111111111,
              "#46039f"
             ],
             [
              0.2222222222222222,
              "#7201a8"
             ],
             [
              0.3333333333333333,
              "#9c179e"
             ],
             [
              0.4444444444444444,
              "#bd3786"
             ],
             [
              0.5555555555555556,
              "#d8576b"
             ],
             [
              0.6666666666666666,
              "#ed7953"
             ],
             [
              0.7777777777777778,
              "#fb9f3a"
             ],
             [
              0.8888888888888888,
              "#fdca26"
             ],
             [
              1,
              "#f0f921"
             ]
            ],
            "type": "heatmapgl"
           }
          ],
          "histogram": [
           {
            "marker": {
             "pattern": {
              "fillmode": "overlay",
              "size": 10,
              "solidity": 0.2
             }
            },
            "type": "histogram"
           }
          ],
          "histogram2d": [
           {
            "colorbar": {
             "outlinewidth": 0,
             "ticks": ""
            },
            "colorscale": [
             [
              0,
              "#0d0887"
             ],
             [
              0.1111111111111111,
              "#46039f"
             ],
             [
              0.2222222222222222,
              "#7201a8"
             ],
             [
              0.3333333333333333,
              "#9c179e"
             ],
             [
              0.4444444444444444,
              "#bd3786"
             ],
             [
              0.5555555555555556,
              "#d8576b"
             ],
             [
              0.6666666666666666,
              "#ed7953"
             ],
             [
              0.7777777777777778,
              "#fb9f3a"
             ],
             [
              0.8888888888888888,
              "#fdca26"
             ],
             [
              1,
              "#f0f921"
             ]
            ],
            "type": "histogram2d"
           }
          ],
          "histogram2dcontour": [
           {
            "colorbar": {
             "outlinewidth": 0,
             "ticks": ""
            },
            "colorscale": [
             [
              0,
              "#0d0887"
             ],
             [
              0.1111111111111111,
              "#46039f"
             ],
             [
              0.2222222222222222,
              "#7201a8"
             ],
             [
              0.3333333333333333,
              "#9c179e"
             ],
             [
              0.4444444444444444,
              "#bd3786"
             ],
             [
              0.5555555555555556,
              "#d8576b"
             ],
             [
              0.6666666666666666,
              "#ed7953"
             ],
             [
              0.7777777777777778,
              "#fb9f3a"
             ],
             [
              0.8888888888888888,
              "#fdca26"
             ],
             [
              1,
              "#f0f921"
             ]
            ],
            "type": "histogram2dcontour"
           }
          ],
          "mesh3d": [
           {
            "colorbar": {
             "outlinewidth": 0,
             "ticks": ""
            },
            "type": "mesh3d"
           }
          ],
          "parcoords": [
           {
            "line": {
             "colorbar": {
              "outlinewidth": 0,
              "ticks": ""
             }
            },
            "type": "parcoords"
           }
          ],
          "pie": [
           {
            "automargin": true,
            "type": "pie"
           }
          ],
          "scatter": [
           {
            "marker": {
             "line": {
              "color": "#283442"
             }
            },
            "type": "scatter"
           }
          ],
          "scatter3d": [
           {
            "line": {
             "colorbar": {
              "outlinewidth": 0,
              "ticks": ""
             }
            },
            "marker": {
             "colorbar": {
              "outlinewidth": 0,
              "ticks": ""
             }
            },
            "type": "scatter3d"
           }
          ],
          "scattercarpet": [
           {
            "marker": {
             "colorbar": {
              "outlinewidth": 0,
              "ticks": ""
             }
            },
            "type": "scattercarpet"
           }
          ],
          "scattergeo": [
           {
            "marker": {
             "colorbar": {
              "outlinewidth": 0,
              "ticks": ""
             }
            },
            "type": "scattergeo"
           }
          ],
          "scattergl": [
           {
            "marker": {
             "line": {
              "color": "#283442"
             }
            },
            "type": "scattergl"
           }
          ],
          "scattermapbox": [
           {
            "marker": {
             "colorbar": {
              "outlinewidth": 0,
              "ticks": ""
             }
            },
            "type": "scattermapbox"
           }
          ],
          "scatterpolar": [
           {
            "marker": {
             "colorbar": {
              "outlinewidth": 0,
              "ticks": ""
             }
            },
            "type": "scatterpolar"
           }
          ],
          "scatterpolargl": [
           {
            "marker": {
             "colorbar": {
              "outlinewidth": 0,
              "ticks": ""
             }
            },
            "type": "scatterpolargl"
           }
          ],
          "scatterternary": [
           {
            "marker": {
             "colorbar": {
              "outlinewidth": 0,
              "ticks": ""
             }
            },
            "type": "scatterternary"
           }
          ],
          "surface": [
           {
            "colorbar": {
             "outlinewidth": 0,
             "ticks": ""
            },
            "colorscale": [
             [
              0,
              "#0d0887"
             ],
             [
              0.1111111111111111,
              "#46039f"
             ],
             [
              0.2222222222222222,
              "#7201a8"
             ],
             [
              0.3333333333333333,
              "#9c179e"
             ],
             [
              0.4444444444444444,
              "#bd3786"
             ],
             [
              0.5555555555555556,
              "#d8576b"
             ],
             [
              0.6666666666666666,
              "#ed7953"
             ],
             [
              0.7777777777777778,
              "#fb9f3a"
             ],
             [
              0.8888888888888888,
              "#fdca26"
             ],
             [
              1,
              "#f0f921"
             ]
            ],
            "type": "surface"
           }
          ],
          "table": [
           {
            "cells": {
             "fill": {
              "color": "#506784"
             },
             "line": {
              "color": "rgb(17,17,17)"
             }
            },
            "header": {
             "fill": {
              "color": "#2a3f5f"
             },
             "line": {
              "color": "rgb(17,17,17)"
             }
            },
            "type": "table"
           }
          ]
         },
         "layout": {
          "annotationdefaults": {
           "arrowcolor": "#f2f5fa",
           "arrowhead": 0,
           "arrowwidth": 1
          },
          "autotypenumbers": "strict",
          "coloraxis": {
           "colorbar": {
            "outlinewidth": 0,
            "ticks": ""
           }
          },
          "colorscale": {
           "diverging": [
            [
             0,
             "#8e0152"
            ],
            [
             0.1,
             "#c51b7d"
            ],
            [
             0.2,
             "#de77ae"
            ],
            [
             0.3,
             "#f1b6da"
            ],
            [
             0.4,
             "#fde0ef"
            ],
            [
             0.5,
             "#f7f7f7"
            ],
            [
             0.6,
             "#e6f5d0"
            ],
            [
             0.7,
             "#b8e186"
            ],
            [
             0.8,
             "#7fbc41"
            ],
            [
             0.9,
             "#4d9221"
            ],
            [
             1,
             "#276419"
            ]
           ],
           "sequential": [
            [
             0,
             "#0d0887"
            ],
            [
             0.1111111111111111,
             "#46039f"
            ],
            [
             0.2222222222222222,
             "#7201a8"
            ],
            [
             0.3333333333333333,
             "#9c179e"
            ],
            [
             0.4444444444444444,
             "#bd3786"
            ],
            [
             0.5555555555555556,
             "#d8576b"
            ],
            [
             0.6666666666666666,
             "#ed7953"
            ],
            [
             0.7777777777777778,
             "#fb9f3a"
            ],
            [
             0.8888888888888888,
             "#fdca26"
            ],
            [
             1,
             "#f0f921"
            ]
           ],
           "sequentialminus": [
            [
             0,
             "#0d0887"
            ],
            [
             0.1111111111111111,
             "#46039f"
            ],
            [
             0.2222222222222222,
             "#7201a8"
            ],
            [
             0.3333333333333333,
             "#9c179e"
            ],
            [
             0.4444444444444444,
             "#bd3786"
            ],
            [
             0.5555555555555556,
             "#d8576b"
            ],
            [
             0.6666666666666666,
             "#ed7953"
            ],
            [
             0.7777777777777778,
             "#fb9f3a"
            ],
            [
             0.8888888888888888,
             "#fdca26"
            ],
            [
             1,
             "#f0f921"
            ]
           ]
          },
          "colorway": [
           "#636efa",
           "#EF553B",
           "#00cc96",
           "#ab63fa",
           "#FFA15A",
           "#19d3f3",
           "#FF6692",
           "#B6E880",
           "#FF97FF",
           "#FECB52"
          ],
          "font": {
           "color": "#f2f5fa"
          },
          "geo": {
           "bgcolor": "rgb(17,17,17)",
           "lakecolor": "rgb(17,17,17)",
           "landcolor": "rgb(17,17,17)",
           "showlakes": true,
           "showland": true,
           "subunitcolor": "#506784"
          },
          "hoverlabel": {
           "align": "left"
          },
          "hovermode": "closest",
          "mapbox": {
           "style": "dark"
          },
          "paper_bgcolor": "rgb(17,17,17)",
          "plot_bgcolor": "rgb(17,17,17)",
          "polar": {
           "angularaxis": {
            "gridcolor": "#506784",
            "linecolor": "#506784",
            "ticks": ""
           },
           "bgcolor": "rgb(17,17,17)",
           "radialaxis": {
            "gridcolor": "#506784",
            "linecolor": "#506784",
            "ticks": ""
           }
          },
          "scene": {
           "xaxis": {
            "backgroundcolor": "rgb(17,17,17)",
            "gridcolor": "#506784",
            "gridwidth": 2,
            "linecolor": "#506784",
            "showbackground": true,
            "ticks": "",
            "zerolinecolor": "#C8D4E3"
           },
           "yaxis": {
            "backgroundcolor": "rgb(17,17,17)",
            "gridcolor": "#506784",
            "gridwidth": 2,
            "linecolor": "#506784",
            "showbackground": true,
            "ticks": "",
            "zerolinecolor": "#C8D4E3"
           },
           "zaxis": {
            "backgroundcolor": "rgb(17,17,17)",
            "gridcolor": "#506784",
            "gridwidth": 2,
            "linecolor": "#506784",
            "showbackground": true,
            "ticks": "",
            "zerolinecolor": "#C8D4E3"
           }
          },
          "shapedefaults": {
           "line": {
            "color": "#f2f5fa"
           }
          },
          "sliderdefaults": {
           "bgcolor": "#C8D4E3",
           "bordercolor": "rgb(17,17,17)",
           "borderwidth": 1,
           "tickwidth": 0
          },
          "ternary": {
           "aaxis": {
            "gridcolor": "#506784",
            "linecolor": "#506784",
            "ticks": ""
           },
           "baxis": {
            "gridcolor": "#506784",
            "linecolor": "#506784",
            "ticks": ""
           },
           "bgcolor": "rgb(17,17,17)",
           "caxis": {
            "gridcolor": "#506784",
            "linecolor": "#506784",
            "ticks": ""
           }
          },
          "title": {
           "x": 0.05
          },
          "updatemenudefaults": {
           "bgcolor": "#506784",
           "borderwidth": 0
          },
          "xaxis": {
           "automargin": true,
           "gridcolor": "#283442",
           "linecolor": "#506784",
           "ticks": "",
           "title": {
            "standoff": 15
           },
           "zerolinecolor": "#283442",
           "zerolinewidth": 2
          },
          "yaxis": {
           "automargin": true,
           "gridcolor": "#283442",
           "linecolor": "#506784",
           "ticks": "",
           "title": {
            "standoff": 15
           },
           "zerolinecolor": "#283442",
           "zerolinewidth": 2
          }
         }
        },
        "title": {
         "text": "Saldo a liquidar por ND"
        },
        "xaxis": {
         "anchor": "y",
         "domain": [
          0,
          1
         ],
         "title": {
          "text": "Natureza da Despesa"
         }
        },
        "yaxis": {
         "anchor": "x",
         "domain": [
          0,
          1
         ],
         "title": {
          "text": "Saldo a liquidar"
         },
         "type": "log"
        }
       }
      }
     },
     "metadata": {},
     "output_type": "display_data"
    }
   ],
   "source": [
    "# Saldo a liquidar por ND\n",
    "cols = ['ND', 'A_LIQUIDAR']\n",
    "\n",
    "df_aux = df.loc[:, cols].groupby('ND').sum().sort_values(by= 'A_LIQUIDAR', ascending=False).reset_index()\n",
    "df_aux = df_aux[df_aux['A_LIQUIDAR'] > 0]\n",
    "fig = px.bar(df_aux, \n",
    "             x='ND', \n",
    "             y='A_LIQUIDAR',\n",
    "             title='Saldo a liquidar por ND',\n",
    "             labels={'ND':'Natureza da Despesa', 'A_LIQUIDAR':'Saldo a liquidar'},\n",
    "             text_auto='.3s',\n",
    "             height=500,\n",
    "             log_y=True,\n",
    "             color='A_LIQUIDAR',\n",
    "             color_continuous_scale = 'reds',\n",
    "             template='plotly_dark')\n",
    "fig.update_traces(textposition = 'outside', cliponaxis = False, hovertemplate=None)\n",
    "fig.update_layout(hovermode=\"x unified\")\n",
    "\n",
    "fig.show()"
   ]
  },
  {
   "cell_type": "code",
   "execution_count": 8,
   "metadata": {},
   "outputs": [
    {
     "data": {
      "application/vnd.plotly.v1+json": {
       "config": {
        "plotlyServerURL": "https://plot.ly"
       },
       "data": [
        {
         "alignmentgroup": "True",
         "cliponaxis": false,
         "legendgroup": "",
         "marker": {
          "color": [
           1001944.18,
           885184.14,
           855381.7000000001,
           724651.73,
           722071.81,
           510150.26999999996,
           490002.7,
           439086.08,
           361344.66,
           323774.93,
           320238.3,
           302689.17,
           204500,
           175920,
           174389,
           122866.76,
           106910.1,
           82795.75,
           75892.48999999999,
           75758,
           71027.79,
           69273.1,
           60060,
           56355.46,
           49531.86,
           48493.04,
           47148.6,
           44692.96,
           42797.3,
           35446.99,
           35442.1,
           29583.42,
           27670.980000000003,
           25615.96,
           24977.95,
           24439.16,
           22736.79,
           22334,
           21954.04,
           19701.260000000002,
           19594.8,
           16682.25,
           14793.480000000001,
           13150,
           11780,
           11495.64,
           10783,
           9514,
           7726.16,
           6361.55,
           5825.65,
           5386,
           4570,
           4297.8,
           4106.09,
           3700,
           3548.5,
           2720,
           2654.62,
           2508,
           2500,
           2500,
           2394.9,
           2178.6800000000003,
           1824,
           1646.36,
           497,
           387.6,
           180,
           126.74000000000001,
           0.01
          ],
          "coloraxis": "coloraxis",
          "pattern": {
           "shape": ""
          }
         },
         "name": "",
         "offsetgroup": "",
         "orientation": "v",
         "showlegend": false,
         "textposition": "outside",
         "texttemplate": "%{y:.3s}",
         "type": "bar",
         "x": [
          "44905240",
          "33903309",
          "33903916",
          "33903943",
          "33903007",
          "33903301",
          "33903006",
          "33903947",
          "33903974",
          "33901514",
          "33903039",
          "33903702",
          "33909302",
          "33903983",
          "33903304",
          "33903004",
          "33909318",
          "33903917",
          "33904016",
          "33903023",
          "33903024",
          "33903025",
          "33903303",
          "44905238",
          "44905242",
          "44905233",
          "33903009",
          "44905241",
          "33904012",
          "33903946",
          "44905212",
          "33903017",
          "33909314",
          "33903022",
          "33903021",
          "33903958",
          "44905234",
          "33903012",
          "44905230",
          "44905228",
          "33903028",
          "44905224",
          "33903026",
          "44905206",
          "44905239",
          "33903950",
          "33903050",
          "33903919",
          "44905236",
          "33903036",
          "33903010",
          "33903901",
          "33903914",
          "33909319",
          "33903944",
          "33909308",
          "33903963",
          "33903920",
          "33903018",
          "44905210",
          "33904023",
          "33903096",
          "33903035",
          "33903011",
          "33903016",
          "33904722",
          "33903042",
          "33903019",
          "44905204",
          "33904710",
          "33914718"
         ],
         "xaxis": "x",
         "y": [
          1001944.18,
          885184.14,
          855381.7000000001,
          724651.73,
          722071.81,
          510150.26999999996,
          490002.7,
          439086.08,
          361344.66,
          323774.93,
          320238.3,
          302689.17,
          204500,
          175920,
          174389,
          122866.76,
          106910.1,
          82795.75,
          75892.48999999999,
          75758,
          71027.79,
          69273.1,
          60060,
          56355.46,
          49531.86,
          48493.04,
          47148.6,
          44692.96,
          42797.3,
          35446.99,
          35442.1,
          29583.42,
          27670.980000000003,
          25615.96,
          24977.95,
          24439.16,
          22736.79,
          22334,
          21954.04,
          19701.260000000002,
          19594.8,
          16682.25,
          14793.480000000001,
          13150,
          11780,
          11495.64,
          10783,
          9514,
          7726.16,
          6361.55,
          5825.65,
          5386,
          4570,
          4297.8,
          4106.09,
          3700,
          3548.5,
          2720,
          2654.62,
          2508,
          2500,
          2500,
          2394.9,
          2178.6800000000003,
          1824,
          1646.36,
          497,
          387.6,
          180,
          126.74000000000001,
          0.01
         ],
         "yaxis": "y"
        }
       ],
       "layout": {
        "barmode": "relative",
        "coloraxis": {
         "colorbar": {
          "title": {
           "text": "Saldo a liquidar"
          }
         },
         "colorscale": [
          [
           0,
           "rgb(255,245,240)"
          ],
          [
           0.125,
           "rgb(254,224,210)"
          ],
          [
           0.25,
           "rgb(252,187,161)"
          ],
          [
           0.375,
           "rgb(252,146,114)"
          ],
          [
           0.5,
           "rgb(251,106,74)"
          ],
          [
           0.625,
           "rgb(239,59,44)"
          ],
          [
           0.75,
           "rgb(203,24,29)"
          ],
          [
           0.875,
           "rgb(165,15,21)"
          ],
          [
           1,
           "rgb(103,0,13)"
          ]
         ]
        },
        "height": 600,
        "hovermode": "x unified",
        "legend": {
         "tracegroupgap": 0
        },
        "template": {
         "data": {
          "bar": [
           {
            "error_x": {
             "color": "#f2f5fa"
            },
            "error_y": {
             "color": "#f2f5fa"
            },
            "marker": {
             "line": {
              "color": "rgb(17,17,17)",
              "width": 0.5
             },
             "pattern": {
              "fillmode": "overlay",
              "size": 10,
              "solidity": 0.2
             }
            },
            "type": "bar"
           }
          ],
          "barpolar": [
           {
            "marker": {
             "line": {
              "color": "rgb(17,17,17)",
              "width": 0.5
             },
             "pattern": {
              "fillmode": "overlay",
              "size": 10,
              "solidity": 0.2
             }
            },
            "type": "barpolar"
           }
          ],
          "carpet": [
           {
            "aaxis": {
             "endlinecolor": "#A2B1C6",
             "gridcolor": "#506784",
             "linecolor": "#506784",
             "minorgridcolor": "#506784",
             "startlinecolor": "#A2B1C6"
            },
            "baxis": {
             "endlinecolor": "#A2B1C6",
             "gridcolor": "#506784",
             "linecolor": "#506784",
             "minorgridcolor": "#506784",
             "startlinecolor": "#A2B1C6"
            },
            "type": "carpet"
           }
          ],
          "choropleth": [
           {
            "colorbar": {
             "outlinewidth": 0,
             "ticks": ""
            },
            "type": "choropleth"
           }
          ],
          "contour": [
           {
            "colorbar": {
             "outlinewidth": 0,
             "ticks": ""
            },
            "colorscale": [
             [
              0,
              "#0d0887"
             ],
             [
              0.1111111111111111,
              "#46039f"
             ],
             [
              0.2222222222222222,
              "#7201a8"
             ],
             [
              0.3333333333333333,
              "#9c179e"
             ],
             [
              0.4444444444444444,
              "#bd3786"
             ],
             [
              0.5555555555555556,
              "#d8576b"
             ],
             [
              0.6666666666666666,
              "#ed7953"
             ],
             [
              0.7777777777777778,
              "#fb9f3a"
             ],
             [
              0.8888888888888888,
              "#fdca26"
             ],
             [
              1,
              "#f0f921"
             ]
            ],
            "type": "contour"
           }
          ],
          "contourcarpet": [
           {
            "colorbar": {
             "outlinewidth": 0,
             "ticks": ""
            },
            "type": "contourcarpet"
           }
          ],
          "heatmap": [
           {
            "colorbar": {
             "outlinewidth": 0,
             "ticks": ""
            },
            "colorscale": [
             [
              0,
              "#0d0887"
             ],
             [
              0.1111111111111111,
              "#46039f"
             ],
             [
              0.2222222222222222,
              "#7201a8"
             ],
             [
              0.3333333333333333,
              "#9c179e"
             ],
             [
              0.4444444444444444,
              "#bd3786"
             ],
             [
              0.5555555555555556,
              "#d8576b"
             ],
             [
              0.6666666666666666,
              "#ed7953"
             ],
             [
              0.7777777777777778,
              "#fb9f3a"
             ],
             [
              0.8888888888888888,
              "#fdca26"
             ],
             [
              1,
              "#f0f921"
             ]
            ],
            "type": "heatmap"
           }
          ],
          "heatmapgl": [
           {
            "colorbar": {
             "outlinewidth": 0,
             "ticks": ""
            },
            "colorscale": [
             [
              0,
              "#0d0887"
             ],
             [
              0.1111111111111111,
              "#46039f"
             ],
             [
              0.2222222222222222,
              "#7201a8"
             ],
             [
              0.3333333333333333,
              "#9c179e"
             ],
             [
              0.4444444444444444,
              "#bd3786"
             ],
             [
              0.5555555555555556,
              "#d8576b"
             ],
             [
              0.6666666666666666,
              "#ed7953"
             ],
             [
              0.7777777777777778,
              "#fb9f3a"
             ],
             [
              0.8888888888888888,
              "#fdca26"
             ],
             [
              1,
              "#f0f921"
             ]
            ],
            "type": "heatmapgl"
           }
          ],
          "histogram": [
           {
            "marker": {
             "pattern": {
              "fillmode": "overlay",
              "size": 10,
              "solidity": 0.2
             }
            },
            "type": "histogram"
           }
          ],
          "histogram2d": [
           {
            "colorbar": {
             "outlinewidth": 0,
             "ticks": ""
            },
            "colorscale": [
             [
              0,
              "#0d0887"
             ],
             [
              0.1111111111111111,
              "#46039f"
             ],
             [
              0.2222222222222222,
              "#7201a8"
             ],
             [
              0.3333333333333333,
              "#9c179e"
             ],
             [
              0.4444444444444444,
              "#bd3786"
             ],
             [
              0.5555555555555556,
              "#d8576b"
             ],
             [
              0.6666666666666666,
              "#ed7953"
             ],
             [
              0.7777777777777778,
              "#fb9f3a"
             ],
             [
              0.8888888888888888,
              "#fdca26"
             ],
             [
              1,
              "#f0f921"
             ]
            ],
            "type": "histogram2d"
           }
          ],
          "histogram2dcontour": [
           {
            "colorbar": {
             "outlinewidth": 0,
             "ticks": ""
            },
            "colorscale": [
             [
              0,
              "#0d0887"
             ],
             [
              0.1111111111111111,
              "#46039f"
             ],
             [
              0.2222222222222222,
              "#7201a8"
             ],
             [
              0.3333333333333333,
              "#9c179e"
             ],
             [
              0.4444444444444444,
              "#bd3786"
             ],
             [
              0.5555555555555556,
              "#d8576b"
             ],
             [
              0.6666666666666666,
              "#ed7953"
             ],
             [
              0.7777777777777778,
              "#fb9f3a"
             ],
             [
              0.8888888888888888,
              "#fdca26"
             ],
             [
              1,
              "#f0f921"
             ]
            ],
            "type": "histogram2dcontour"
           }
          ],
          "mesh3d": [
           {
            "colorbar": {
             "outlinewidth": 0,
             "ticks": ""
            },
            "type": "mesh3d"
           }
          ],
          "parcoords": [
           {
            "line": {
             "colorbar": {
              "outlinewidth": 0,
              "ticks": ""
             }
            },
            "type": "parcoords"
           }
          ],
          "pie": [
           {
            "automargin": true,
            "type": "pie"
           }
          ],
          "scatter": [
           {
            "marker": {
             "line": {
              "color": "#283442"
             }
            },
            "type": "scatter"
           }
          ],
          "scatter3d": [
           {
            "line": {
             "colorbar": {
              "outlinewidth": 0,
              "ticks": ""
             }
            },
            "marker": {
             "colorbar": {
              "outlinewidth": 0,
              "ticks": ""
             }
            },
            "type": "scatter3d"
           }
          ],
          "scattercarpet": [
           {
            "marker": {
             "colorbar": {
              "outlinewidth": 0,
              "ticks": ""
             }
            },
            "type": "scattercarpet"
           }
          ],
          "scattergeo": [
           {
            "marker": {
             "colorbar": {
              "outlinewidth": 0,
              "ticks": ""
             }
            },
            "type": "scattergeo"
           }
          ],
          "scattergl": [
           {
            "marker": {
             "line": {
              "color": "#283442"
             }
            },
            "type": "scattergl"
           }
          ],
          "scattermapbox": [
           {
            "marker": {
             "colorbar": {
              "outlinewidth": 0,
              "ticks": ""
             }
            },
            "type": "scattermapbox"
           }
          ],
          "scatterpolar": [
           {
            "marker": {
             "colorbar": {
              "outlinewidth": 0,
              "ticks": ""
             }
            },
            "type": "scatterpolar"
           }
          ],
          "scatterpolargl": [
           {
            "marker": {
             "colorbar": {
              "outlinewidth": 0,
              "ticks": ""
             }
            },
            "type": "scatterpolargl"
           }
          ],
          "scatterternary": [
           {
            "marker": {
             "colorbar": {
              "outlinewidth": 0,
              "ticks": ""
             }
            },
            "type": "scatterternary"
           }
          ],
          "surface": [
           {
            "colorbar": {
             "outlinewidth": 0,
             "ticks": ""
            },
            "colorscale": [
             [
              0,
              "#0d0887"
             ],
             [
              0.1111111111111111,
              "#46039f"
             ],
             [
              0.2222222222222222,
              "#7201a8"
             ],
             [
              0.3333333333333333,
              "#9c179e"
             ],
             [
              0.4444444444444444,
              "#bd3786"
             ],
             [
              0.5555555555555556,
              "#d8576b"
             ],
             [
              0.6666666666666666,
              "#ed7953"
             ],
             [
              0.7777777777777778,
              "#fb9f3a"
             ],
             [
              0.8888888888888888,
              "#fdca26"
             ],
             [
              1,
              "#f0f921"
             ]
            ],
            "type": "surface"
           }
          ],
          "table": [
           {
            "cells": {
             "fill": {
              "color": "#506784"
             },
             "line": {
              "color": "rgb(17,17,17)"
             }
            },
            "header": {
             "fill": {
              "color": "#2a3f5f"
             },
             "line": {
              "color": "rgb(17,17,17)"
             }
            },
            "type": "table"
           }
          ]
         },
         "layout": {
          "annotationdefaults": {
           "arrowcolor": "#f2f5fa",
           "arrowhead": 0,
           "arrowwidth": 1
          },
          "autotypenumbers": "strict",
          "coloraxis": {
           "colorbar": {
            "outlinewidth": 0,
            "ticks": ""
           }
          },
          "colorscale": {
           "diverging": [
            [
             0,
             "#8e0152"
            ],
            [
             0.1,
             "#c51b7d"
            ],
            [
             0.2,
             "#de77ae"
            ],
            [
             0.3,
             "#f1b6da"
            ],
            [
             0.4,
             "#fde0ef"
            ],
            [
             0.5,
             "#f7f7f7"
            ],
            [
             0.6,
             "#e6f5d0"
            ],
            [
             0.7,
             "#b8e186"
            ],
            [
             0.8,
             "#7fbc41"
            ],
            [
             0.9,
             "#4d9221"
            ],
            [
             1,
             "#276419"
            ]
           ],
           "sequential": [
            [
             0,
             "#0d0887"
            ],
            [
             0.1111111111111111,
             "#46039f"
            ],
            [
             0.2222222222222222,
             "#7201a8"
            ],
            [
             0.3333333333333333,
             "#9c179e"
            ],
            [
             0.4444444444444444,
             "#bd3786"
            ],
            [
             0.5555555555555556,
             "#d8576b"
            ],
            [
             0.6666666666666666,
             "#ed7953"
            ],
            [
             0.7777777777777778,
             "#fb9f3a"
            ],
            [
             0.8888888888888888,
             "#fdca26"
            ],
            [
             1,
             "#f0f921"
            ]
           ],
           "sequentialminus": [
            [
             0,
             "#0d0887"
            ],
            [
             0.1111111111111111,
             "#46039f"
            ],
            [
             0.2222222222222222,
             "#7201a8"
            ],
            [
             0.3333333333333333,
             "#9c179e"
            ],
            [
             0.4444444444444444,
             "#bd3786"
            ],
            [
             0.5555555555555556,
             "#d8576b"
            ],
            [
             0.6666666666666666,
             "#ed7953"
            ],
            [
             0.7777777777777778,
             "#fb9f3a"
            ],
            [
             0.8888888888888888,
             "#fdca26"
            ],
            [
             1,
             "#f0f921"
            ]
           ]
          },
          "colorway": [
           "#636efa",
           "#EF553B",
           "#00cc96",
           "#ab63fa",
           "#FFA15A",
           "#19d3f3",
           "#FF6692",
           "#B6E880",
           "#FF97FF",
           "#FECB52"
          ],
          "font": {
           "color": "#f2f5fa"
          },
          "geo": {
           "bgcolor": "rgb(17,17,17)",
           "lakecolor": "rgb(17,17,17)",
           "landcolor": "rgb(17,17,17)",
           "showlakes": true,
           "showland": true,
           "subunitcolor": "#506784"
          },
          "hoverlabel": {
           "align": "left"
          },
          "hovermode": "closest",
          "mapbox": {
           "style": "dark"
          },
          "paper_bgcolor": "rgb(17,17,17)",
          "plot_bgcolor": "rgb(17,17,17)",
          "polar": {
           "angularaxis": {
            "gridcolor": "#506784",
            "linecolor": "#506784",
            "ticks": ""
           },
           "bgcolor": "rgb(17,17,17)",
           "radialaxis": {
            "gridcolor": "#506784",
            "linecolor": "#506784",
            "ticks": ""
           }
          },
          "scene": {
           "xaxis": {
            "backgroundcolor": "rgb(17,17,17)",
            "gridcolor": "#506784",
            "gridwidth": 2,
            "linecolor": "#506784",
            "showbackground": true,
            "ticks": "",
            "zerolinecolor": "#C8D4E3"
           },
           "yaxis": {
            "backgroundcolor": "rgb(17,17,17)",
            "gridcolor": "#506784",
            "gridwidth": 2,
            "linecolor": "#506784",
            "showbackground": true,
            "ticks": "",
            "zerolinecolor": "#C8D4E3"
           },
           "zaxis": {
            "backgroundcolor": "rgb(17,17,17)",
            "gridcolor": "#506784",
            "gridwidth": 2,
            "linecolor": "#506784",
            "showbackground": true,
            "ticks": "",
            "zerolinecolor": "#C8D4E3"
           }
          },
          "shapedefaults": {
           "line": {
            "color": "#f2f5fa"
           }
          },
          "sliderdefaults": {
           "bgcolor": "#C8D4E3",
           "bordercolor": "rgb(17,17,17)",
           "borderwidth": 1,
           "tickwidth": 0
          },
          "ternary": {
           "aaxis": {
            "gridcolor": "#506784",
            "linecolor": "#506784",
            "ticks": ""
           },
           "baxis": {
            "gridcolor": "#506784",
            "linecolor": "#506784",
            "ticks": ""
           },
           "bgcolor": "rgb(17,17,17)",
           "caxis": {
            "gridcolor": "#506784",
            "linecolor": "#506784",
            "ticks": ""
           }
          },
          "title": {
           "x": 0.05
          },
          "updatemenudefaults": {
           "bgcolor": "#506784",
           "borderwidth": 0
          },
          "xaxis": {
           "automargin": true,
           "gridcolor": "#283442",
           "linecolor": "#506784",
           "ticks": "",
           "title": {
            "standoff": 15
           },
           "zerolinecolor": "#283442",
           "zerolinewidth": 2
          },
          "yaxis": {
           "automargin": true,
           "gridcolor": "#283442",
           "linecolor": "#506784",
           "ticks": "",
           "title": {
            "standoff": 15
           },
           "zerolinecolor": "#283442",
           "zerolinewidth": 2
          }
         }
        },
        "title": {
         "text": "Saldo a liquidar por NDSI"
        },
        "xaxis": {
         "anchor": "y",
         "domain": [
          0,
          1
         ],
         "title": {
          "text": "Subitem da despesa"
         }
        },
        "yaxis": {
         "anchor": "x",
         "domain": [
          0,
          1
         ],
         "title": {
          "text": "Saldo a liquidar"
         },
         "type": "log"
        }
       }
      }
     },
     "metadata": {},
     "output_type": "display_data"
    }
   ],
   "source": [
    "# Saldo a liquidar por Subitem\n",
    "cols = ['NDSI', 'A_LIQUIDAR']\n",
    "\n",
    "df_aux = df.loc[:, cols].groupby('NDSI').sum().sort_values(by= 'A_LIQUIDAR', ascending=False).reset_index()\n",
    "df_aux = df_aux[df_aux['A_LIQUIDAR'] > 0]\n",
    "fig = px.bar(df_aux, \n",
    "             x='NDSI', \n",
    "             y='A_LIQUIDAR',\n",
    "             title='Saldo a liquidar por NDSI',\n",
    "             labels={'NDSI':'Subitem da despesa', 'A_LIQUIDAR':'Saldo a liquidar'},\n",
    "             text_auto='.3s',\n",
    "             height=600,\n",
    "             log_y=True,\n",
    "             color='A_LIQUIDAR',\n",
    "             color_continuous_scale = 'reds',\n",
    "             template='plotly_dark')\n",
    "fig.update_traces(textposition = 'outside', cliponaxis = False, hovertemplate=None)\n",
    "fig.update_layout(hovermode=\"x unified\")\n",
    "\n",
    "fig.show()"
   ]
  },
  {
   "cell_type": "code",
   "execution_count": 9,
   "metadata": {},
   "outputs": [
    {
     "data": {
      "application/vnd.plotly.v1+json": {
       "config": {
        "plotlyServerURL": "https://plot.ly"
       },
       "data": [
        {
         "alignmentgroup": "True",
         "cliponaxis": false,
         "legendgroup": "",
         "marker": {
          "color": [
           2375446.61,
           1060674.04,
           757719.47,
           725298.09,
           685454.79,
           370949.27,
           321095.12,
           302689.17,
           295488,
           191323.15,
           188911.5,
           174389,
           123414.3,
           122883.4,
           117515.6,
           97545.17,
           83847.20999999999,
           81339.1,
           64999.95,
           62332.090000000004,
           60060,
           57081.01,
           57073.17,
           55596.75,
           40000,
           39373.85,
           37800,
           30962.8,
           30034.760000000002,
           29999.92,
           29974.7,
           24939.28,
           22260,
           17850,
           17196.1,
           15464.58,
           14828,
           12774.7,
           12565.78,
           12475.97,
           10102.3,
           8240.1,
           8089.84,
           7747.0199999999995,
           7243.06,
           6991.6,
           5386,
           3833.67,
           3700,
           3631.74,
           3522.22,
           3299,
           3026.6000000000004,
           2500,
           2378,
           2046.12,
           1787.8200000000002,
           1583.87,
           999.95,
           920,
           527,
           478.06,
           216.55,
           141.61,
           126.74000000000001,
           122.02,
           0.06,
           0.01
          ],
          "coloraxis": "coloraxis",
          "pattern": {
           "shape": ""
          }
         },
         "name": "",
         "offsetgroup": "",
         "orientation": "v",
         "showlegend": false,
         "textposition": "outside",
         "texttemplate": "%{y:.3s}",
         "type": "bar",
         "x": [
          "CAPACITACAO DE PESSOAL",
          "SMEM ESTABELECIMENTOS DE ENSINO",
          "A1QR - QUANTITATIVO DE RANCHO",
          "DESPESAS COM ENERGIA ELETRICA",
          "CONCURSOS AS ESCOLAS MILITARES",
          "REVITALIZAR O SIST COLEGIO MILITAR DO BRASIL",
          "CONSTRUIR E ADEQUAR INST SIST EDU E CULT EB",
          "LIMPEZA DE BENS IMÓVEIS",
          "AQS DE ALMT  PARA  EQUINOS: ALFAF/AVEIA/FENO",
          "MATERIAL DE INTENDÊNCIA",
          "ALIMENTACAO PARA EQUINOS.",
          "ATS - ATIVIDADES SETORIAIS",
          "IND-INDENIZACOES",
          "AQUARTELAMENTO",
          "SUPRIMENTO E MANUTENCAO MOTOMECANIZACAO",
          "A5PA - PASA",
          "MNT DE SISTEMAS DE INFORMACãO E COMUNICACãO",
          "ESCO - QUANTITATIVO DE RANCHO",
          "SUPRIMENTO E MANUTENCAO MOTOMECANIZACAO_BLIND",
          "MNT DE MÁQ E EQP ADMINISTRATIVOS",
          "SUP MAT E EQUIPAMENTOS ADMINISTRATIVOS",
          "REMONTA E VETERINÁRIA",
          "LOG VTR BLD SOB GESTÃO DA REGIÃO MILITAR",
          "ADMINISTRACAO DE OM",
          "TRANSPORTE-DIARIAS",
          "LOG VTR NÃO BLD-ABAST/LAV/LUBRIFIC GESTÃO RM",
          "MEDICAMENTOS DE ALTO CUSTO",
          "OUTROS",
          "ADEQUACAO AMBIENTAL E PATRIMONIAL.",
          "MANUTENCÃO CL IX SMEM MOTOMECANIZADO",
          "PNR (UG)",
          "UNIDADE GESTORA DE PRODUCAO",
          "SERVICO POSTAIS",
          "FUNDO EXÉRCITO - DECEX",
          "SERVICO DE TELEFONIA FIXA",
          "IND - INDENIZACOES",
          "ESTAGIO DE PREP P MISSAO DE ADIDOS E AUX",
          "ASSISTENCIA SOCIAL",
          "RESERVA  (DETMIL)",
          "INFORMATICA",
          "DIARIAS",
          "MEDIDAS PROFILÁT SAÚDE EQUINOS",
          "MANUTENCAO DE AMBULANCIAS ADMINISTRATIVAS",
          "FATOR DE CUSTO - CONTRATO DE OBJETIVOS",
          "SERVICO DE TELEFONIA MOVEL",
          "MNT DE AQUARTELAMENTO",
          "REVISTA DE AUDITORIA DE CONTAS MÉDICAS",
          "MANUTENCAO DE MAQUINAS E EQUIP ADMINISTRATIVO",
          "INDENIZACAO DESPESAS.",
          "EXE COMBINADO DE ROTACAO (CORE)",
          "CONCESSIONÁRIAS DE ÁGUA E ESGOTO",
          "ADMINISTRACAO DA OM",
          "ORGANIZACAO CIVIL DE SAUDE",
          "CERTIFICACAO DIGITAL",
          "RESER - APOIO DPHCEX",
          "DIAR - DIARIAS",
          "MEDIDAS PROFILÁT SAÚDE CANINOS.",
          "FAOPPREADES",
          "COLEGIO MILITAR - ADMINISTRACAO",
          "FUNADOM - DPGO",
          "IDENTIDADE MILITAR",
          "LAVAGEM DE ROUPAS PARA A VIDA VEGETATIVA OM",
          "MIS EXT REQS TRNP BAG INTER",
          "DESLOCAMENTOS EM MISSÕES DA ASSISTÊNCIA SOCIA",
          "TAXA DE LIMPEZA PUBLICA",
          "SERVICOS DE PROTECAO A RADIACAO IONIZANTE",
          "DESL PARA CURSOS E ESTAGIOS NO AMBITODO EB",
          "PROFISSIONAL DE SAUDE AUTONOMO"
         ],
         "xaxis": "x",
         "y": [
          2375446.61,
          1060674.04,
          757719.47,
          725298.09,
          685454.79,
          370949.27,
          321095.12,
          302689.17,
          295488,
          191323.15,
          188911.5,
          174389,
          123414.3,
          122883.4,
          117515.6,
          97545.17,
          83847.20999999999,
          81339.1,
          64999.95,
          62332.090000000004,
          60060,
          57081.01,
          57073.17,
          55596.75,
          40000,
          39373.85,
          37800,
          30962.8,
          30034.760000000002,
          29999.92,
          29974.7,
          24939.28,
          22260,
          17850,
          17196.1,
          15464.58,
          14828,
          12774.7,
          12565.78,
          12475.97,
          10102.3,
          8240.1,
          8089.84,
          7747.0199999999995,
          7243.06,
          6991.6,
          5386,
          3833.67,
          3700,
          3631.74,
          3522.22,
          3299,
          3026.6000000000004,
          2500,
          2378,
          2046.12,
          1787.8200000000002,
          1583.87,
          999.95,
          920,
          527,
          478.06,
          216.55,
          141.61,
          126.74000000000001,
          122.02,
          0.06,
          0.01
         ],
         "yaxis": "y"
        }
       ],
       "layout": {
        "barmode": "relative",
        "coloraxis": {
         "colorbar": {
          "title": {
           "text": "Saldo a liquidar"
          }
         },
         "colorscale": [
          [
           0,
           "rgb(255,245,240)"
          ],
          [
           0.125,
           "rgb(254,224,210)"
          ],
          [
           0.25,
           "rgb(252,187,161)"
          ],
          [
           0.375,
           "rgb(252,146,114)"
          ],
          [
           0.5,
           "rgb(251,106,74)"
          ],
          [
           0.625,
           "rgb(239,59,44)"
          ],
          [
           0.75,
           "rgb(203,24,29)"
          ],
          [
           0.875,
           "rgb(165,15,21)"
          ],
          [
           1,
           "rgb(103,0,13)"
          ]
         ]
        },
        "height": 800,
        "hovermode": "x unified",
        "legend": {
         "tracegroupgap": 0
        },
        "template": {
         "data": {
          "bar": [
           {
            "error_x": {
             "color": "#f2f5fa"
            },
            "error_y": {
             "color": "#f2f5fa"
            },
            "marker": {
             "line": {
              "color": "rgb(17,17,17)",
              "width": 0.5
             },
             "pattern": {
              "fillmode": "overlay",
              "size": 10,
              "solidity": 0.2
             }
            },
            "type": "bar"
           }
          ],
          "barpolar": [
           {
            "marker": {
             "line": {
              "color": "rgb(17,17,17)",
              "width": 0.5
             },
             "pattern": {
              "fillmode": "overlay",
              "size": 10,
              "solidity": 0.2
             }
            },
            "type": "barpolar"
           }
          ],
          "carpet": [
           {
            "aaxis": {
             "endlinecolor": "#A2B1C6",
             "gridcolor": "#506784",
             "linecolor": "#506784",
             "minorgridcolor": "#506784",
             "startlinecolor": "#A2B1C6"
            },
            "baxis": {
             "endlinecolor": "#A2B1C6",
             "gridcolor": "#506784",
             "linecolor": "#506784",
             "minorgridcolor": "#506784",
             "startlinecolor": "#A2B1C6"
            },
            "type": "carpet"
           }
          ],
          "choropleth": [
           {
            "colorbar": {
             "outlinewidth": 0,
             "ticks": ""
            },
            "type": "choropleth"
           }
          ],
          "contour": [
           {
            "colorbar": {
             "outlinewidth": 0,
             "ticks": ""
            },
            "colorscale": [
             [
              0,
              "#0d0887"
             ],
             [
              0.1111111111111111,
              "#46039f"
             ],
             [
              0.2222222222222222,
              "#7201a8"
             ],
             [
              0.3333333333333333,
              "#9c179e"
             ],
             [
              0.4444444444444444,
              "#bd3786"
             ],
             [
              0.5555555555555556,
              "#d8576b"
             ],
             [
              0.6666666666666666,
              "#ed7953"
             ],
             [
              0.7777777777777778,
              "#fb9f3a"
             ],
             [
              0.8888888888888888,
              "#fdca26"
             ],
             [
              1,
              "#f0f921"
             ]
            ],
            "type": "contour"
           }
          ],
          "contourcarpet": [
           {
            "colorbar": {
             "outlinewidth": 0,
             "ticks": ""
            },
            "type": "contourcarpet"
           }
          ],
          "heatmap": [
           {
            "colorbar": {
             "outlinewidth": 0,
             "ticks": ""
            },
            "colorscale": [
             [
              0,
              "#0d0887"
             ],
             [
              0.1111111111111111,
              "#46039f"
             ],
             [
              0.2222222222222222,
              "#7201a8"
             ],
             [
              0.3333333333333333,
              "#9c179e"
             ],
             [
              0.4444444444444444,
              "#bd3786"
             ],
             [
              0.5555555555555556,
              "#d8576b"
             ],
             [
              0.6666666666666666,
              "#ed7953"
             ],
             [
              0.7777777777777778,
              "#fb9f3a"
             ],
             [
              0.8888888888888888,
              "#fdca26"
             ],
             [
              1,
              "#f0f921"
             ]
            ],
            "type": "heatmap"
           }
          ],
          "heatmapgl": [
           {
            "colorbar": {
             "outlinewidth": 0,
             "ticks": ""
            },
            "colorscale": [
             [
              0,
              "#0d0887"
             ],
             [
              0.1111111111111111,
              "#46039f"
             ],
             [
              0.2222222222222222,
              "#7201a8"
             ],
             [
              0.3333333333333333,
              "#9c179e"
             ],
             [
              0.4444444444444444,
              "#bd3786"
             ],
             [
              0.5555555555555556,
              "#d8576b"
             ],
             [
              0.6666666666666666,
              "#ed7953"
             ],
             [
              0.7777777777777778,
              "#fb9f3a"
             ],
             [
              0.8888888888888888,
              "#fdca26"
             ],
             [
              1,
              "#f0f921"
             ]
            ],
            "type": "heatmapgl"
           }
          ],
          "histogram": [
           {
            "marker": {
             "pattern": {
              "fillmode": "overlay",
              "size": 10,
              "solidity": 0.2
             }
            },
            "type": "histogram"
           }
          ],
          "histogram2d": [
           {
            "colorbar": {
             "outlinewidth": 0,
             "ticks": ""
            },
            "colorscale": [
             [
              0,
              "#0d0887"
             ],
             [
              0.1111111111111111,
              "#46039f"
             ],
             [
              0.2222222222222222,
              "#7201a8"
             ],
             [
              0.3333333333333333,
              "#9c179e"
             ],
             [
              0.4444444444444444,
              "#bd3786"
             ],
             [
              0.5555555555555556,
              "#d8576b"
             ],
             [
              0.6666666666666666,
              "#ed7953"
             ],
             [
              0.7777777777777778,
              "#fb9f3a"
             ],
             [
              0.8888888888888888,
              "#fdca26"
             ],
             [
              1,
              "#f0f921"
             ]
            ],
            "type": "histogram2d"
           }
          ],
          "histogram2dcontour": [
           {
            "colorbar": {
             "outlinewidth": 0,
             "ticks": ""
            },
            "colorscale": [
             [
              0,
              "#0d0887"
             ],
             [
              0.1111111111111111,
              "#46039f"
             ],
             [
              0.2222222222222222,
              "#7201a8"
             ],
             [
              0.3333333333333333,
              "#9c179e"
             ],
             [
              0.4444444444444444,
              "#bd3786"
             ],
             [
              0.5555555555555556,
              "#d8576b"
             ],
             [
              0.6666666666666666,
              "#ed7953"
             ],
             [
              0.7777777777777778,
              "#fb9f3a"
             ],
             [
              0.8888888888888888,
              "#fdca26"
             ],
             [
              1,
              "#f0f921"
             ]
            ],
            "type": "histogram2dcontour"
           }
          ],
          "mesh3d": [
           {
            "colorbar": {
             "outlinewidth": 0,
             "ticks": ""
            },
            "type": "mesh3d"
           }
          ],
          "parcoords": [
           {
            "line": {
             "colorbar": {
              "outlinewidth": 0,
              "ticks": ""
             }
            },
            "type": "parcoords"
           }
          ],
          "pie": [
           {
            "automargin": true,
            "type": "pie"
           }
          ],
          "scatter": [
           {
            "marker": {
             "line": {
              "color": "#283442"
             }
            },
            "type": "scatter"
           }
          ],
          "scatter3d": [
           {
            "line": {
             "colorbar": {
              "outlinewidth": 0,
              "ticks": ""
             }
            },
            "marker": {
             "colorbar": {
              "outlinewidth": 0,
              "ticks": ""
             }
            },
            "type": "scatter3d"
           }
          ],
          "scattercarpet": [
           {
            "marker": {
             "colorbar": {
              "outlinewidth": 0,
              "ticks": ""
             }
            },
            "type": "scattercarpet"
           }
          ],
          "scattergeo": [
           {
            "marker": {
             "colorbar": {
              "outlinewidth": 0,
              "ticks": ""
             }
            },
            "type": "scattergeo"
           }
          ],
          "scattergl": [
           {
            "marker": {
             "line": {
              "color": "#283442"
             }
            },
            "type": "scattergl"
           }
          ],
          "scattermapbox": [
           {
            "marker": {
             "colorbar": {
              "outlinewidth": 0,
              "ticks": ""
             }
            },
            "type": "scattermapbox"
           }
          ],
          "scatterpolar": [
           {
            "marker": {
             "colorbar": {
              "outlinewidth": 0,
              "ticks": ""
             }
            },
            "type": "scatterpolar"
           }
          ],
          "scatterpolargl": [
           {
            "marker": {
             "colorbar": {
              "outlinewidth": 0,
              "ticks": ""
             }
            },
            "type": "scatterpolargl"
           }
          ],
          "scatterternary": [
           {
            "marker": {
             "colorbar": {
              "outlinewidth": 0,
              "ticks": ""
             }
            },
            "type": "scatterternary"
           }
          ],
          "surface": [
           {
            "colorbar": {
             "outlinewidth": 0,
             "ticks": ""
            },
            "colorscale": [
             [
              0,
              "#0d0887"
             ],
             [
              0.1111111111111111,
              "#46039f"
             ],
             [
              0.2222222222222222,
              "#7201a8"
             ],
             [
              0.3333333333333333,
              "#9c179e"
             ],
             [
              0.4444444444444444,
              "#bd3786"
             ],
             [
              0.5555555555555556,
              "#d8576b"
             ],
             [
              0.6666666666666666,
              "#ed7953"
             ],
             [
              0.7777777777777778,
              "#fb9f3a"
             ],
             [
              0.8888888888888888,
              "#fdca26"
             ],
             [
              1,
              "#f0f921"
             ]
            ],
            "type": "surface"
           }
          ],
          "table": [
           {
            "cells": {
             "fill": {
              "color": "#506784"
             },
             "line": {
              "color": "rgb(17,17,17)"
             }
            },
            "header": {
             "fill": {
              "color": "#2a3f5f"
             },
             "line": {
              "color": "rgb(17,17,17)"
             }
            },
            "type": "table"
           }
          ]
         },
         "layout": {
          "annotationdefaults": {
           "arrowcolor": "#f2f5fa",
           "arrowhead": 0,
           "arrowwidth": 1
          },
          "autotypenumbers": "strict",
          "coloraxis": {
           "colorbar": {
            "outlinewidth": 0,
            "ticks": ""
           }
          },
          "colorscale": {
           "diverging": [
            [
             0,
             "#8e0152"
            ],
            [
             0.1,
             "#c51b7d"
            ],
            [
             0.2,
             "#de77ae"
            ],
            [
             0.3,
             "#f1b6da"
            ],
            [
             0.4,
             "#fde0ef"
            ],
            [
             0.5,
             "#f7f7f7"
            ],
            [
             0.6,
             "#e6f5d0"
            ],
            [
             0.7,
             "#b8e186"
            ],
            [
             0.8,
             "#7fbc41"
            ],
            [
             0.9,
             "#4d9221"
            ],
            [
             1,
             "#276419"
            ]
           ],
           "sequential": [
            [
             0,
             "#0d0887"
            ],
            [
             0.1111111111111111,
             "#46039f"
            ],
            [
             0.2222222222222222,
             "#7201a8"
            ],
            [
             0.3333333333333333,
             "#9c179e"
            ],
            [
             0.4444444444444444,
             "#bd3786"
            ],
            [
             0.5555555555555556,
             "#d8576b"
            ],
            [
             0.6666666666666666,
             "#ed7953"
            ],
            [
             0.7777777777777778,
             "#fb9f3a"
            ],
            [
             0.8888888888888888,
             "#fdca26"
            ],
            [
             1,
             "#f0f921"
            ]
           ],
           "sequentialminus": [
            [
             0,
             "#0d0887"
            ],
            [
             0.1111111111111111,
             "#46039f"
            ],
            [
             0.2222222222222222,
             "#7201a8"
            ],
            [
             0.3333333333333333,
             "#9c179e"
            ],
            [
             0.4444444444444444,
             "#bd3786"
            ],
            [
             0.5555555555555556,
             "#d8576b"
            ],
            [
             0.6666666666666666,
             "#ed7953"
            ],
            [
             0.7777777777777778,
             "#fb9f3a"
            ],
            [
             0.8888888888888888,
             "#fdca26"
            ],
            [
             1,
             "#f0f921"
            ]
           ]
          },
          "colorway": [
           "#636efa",
           "#EF553B",
           "#00cc96",
           "#ab63fa",
           "#FFA15A",
           "#19d3f3",
           "#FF6692",
           "#B6E880",
           "#FF97FF",
           "#FECB52"
          ],
          "font": {
           "color": "#f2f5fa"
          },
          "geo": {
           "bgcolor": "rgb(17,17,17)",
           "lakecolor": "rgb(17,17,17)",
           "landcolor": "rgb(17,17,17)",
           "showlakes": true,
           "showland": true,
           "subunitcolor": "#506784"
          },
          "hoverlabel": {
           "align": "left"
          },
          "hovermode": "closest",
          "mapbox": {
           "style": "dark"
          },
          "paper_bgcolor": "rgb(17,17,17)",
          "plot_bgcolor": "rgb(17,17,17)",
          "polar": {
           "angularaxis": {
            "gridcolor": "#506784",
            "linecolor": "#506784",
            "ticks": ""
           },
           "bgcolor": "rgb(17,17,17)",
           "radialaxis": {
            "gridcolor": "#506784",
            "linecolor": "#506784",
            "ticks": ""
           }
          },
          "scene": {
           "xaxis": {
            "backgroundcolor": "rgb(17,17,17)",
            "gridcolor": "#506784",
            "gridwidth": 2,
            "linecolor": "#506784",
            "showbackground": true,
            "ticks": "",
            "zerolinecolor": "#C8D4E3"
           },
           "yaxis": {
            "backgroundcolor": "rgb(17,17,17)",
            "gridcolor": "#506784",
            "gridwidth": 2,
            "linecolor": "#506784",
            "showbackground": true,
            "ticks": "",
            "zerolinecolor": "#C8D4E3"
           },
           "zaxis": {
            "backgroundcolor": "rgb(17,17,17)",
            "gridcolor": "#506784",
            "gridwidth": 2,
            "linecolor": "#506784",
            "showbackground": true,
            "ticks": "",
            "zerolinecolor": "#C8D4E3"
           }
          },
          "shapedefaults": {
           "line": {
            "color": "#f2f5fa"
           }
          },
          "sliderdefaults": {
           "bgcolor": "#C8D4E3",
           "bordercolor": "rgb(17,17,17)",
           "borderwidth": 1,
           "tickwidth": 0
          },
          "ternary": {
           "aaxis": {
            "gridcolor": "#506784",
            "linecolor": "#506784",
            "ticks": ""
           },
           "baxis": {
            "gridcolor": "#506784",
            "linecolor": "#506784",
            "ticks": ""
           },
           "bgcolor": "rgb(17,17,17)",
           "caxis": {
            "gridcolor": "#506784",
            "linecolor": "#506784",
            "ticks": ""
           }
          },
          "title": {
           "x": 0.05
          },
          "updatemenudefaults": {
           "bgcolor": "#506784",
           "borderwidth": 0
          },
          "xaxis": {
           "automargin": true,
           "gridcolor": "#283442",
           "linecolor": "#506784",
           "ticks": "",
           "title": {
            "standoff": 15
           },
           "zerolinecolor": "#283442",
           "zerolinewidth": 2
          },
          "yaxis": {
           "automargin": true,
           "gridcolor": "#283442",
           "linecolor": "#506784",
           "ticks": "",
           "title": {
            "standoff": 15
           },
           "zerolinecolor": "#283442",
           "zerolinewidth": 2
          }
         }
        },
        "title": {
         "text": "Saldo a liquidar por PI"
        },
        "xaxis": {
         "anchor": "y",
         "domain": [
          0,
          1
         ],
         "title": {
          "text": "Tipo de PI"
         }
        },
        "yaxis": {
         "anchor": "x",
         "domain": [
          0,
          1
         ],
         "title": {
          "text": "Saldo a liquidar"
         },
         "type": "log"
        }
       }
      }
     },
     "metadata": {},
     "output_type": "display_data"
    }
   ],
   "source": [
    "# Saldo a liquidar por tipo de PI\n",
    "cols = ['NOME_PI', 'A_LIQUIDAR']\n",
    "\n",
    "df_aux = df.loc[:, cols].groupby('NOME_PI').sum().sort_values(by= 'A_LIQUIDAR', ascending=False).reset_index()\n",
    "df_aux = df_aux[df_aux['A_LIQUIDAR'] > 0]\n",
    "fig = px.bar(df_aux, \n",
    "             x='NOME_PI', \n",
    "             y='A_LIQUIDAR',\n",
    "             title='Saldo a liquidar por PI',\n",
    "             labels={'NOME_PI':'Tipo de PI', 'A_LIQUIDAR':'Saldo a liquidar'},\n",
    "             text_auto='.3s',\n",
    "             height=800,\n",
    "             log_y=True,\n",
    "             color='A_LIQUIDAR',\n",
    "             color_continuous_scale = 'reds',\n",
    "             template='plotly_dark')\n",
    "fig.update_traces(textposition = 'outside', cliponaxis = False, hovertemplate=None)\n",
    "fig.update_layout(hovermode=\"x unified\")\n",
    "\n",
    "fig.show()"
   ]
  },
  {
   "cell_type": "code",
   "execution_count": 10,
   "metadata": {},
   "outputs": [
    {
     "data": {
      "application/vnd.plotly.v1+json": {
       "config": {
        "plotlyServerURL": "https://plot.ly"
       },
       "data": [
        {
         "alignmentgroup": "True",
         "cliponaxis": false,
         "legendgroup": "",
         "marker": {
          "color": [
           8365050.8,
           545216.56
          ],
          "coloraxis": "coloraxis",
          "pattern": {
           "shape": ""
          }
         },
         "name": "",
         "offsetgroup": "",
         "orientation": "v",
         "showlegend": false,
         "textposition": "outside",
         "texttemplate": "%{y:.3s}",
         "type": "bar",
         "x": [
          "ANO",
          "RPNP"
         ],
         "xaxis": "x",
         "y": [
          8365050.8,
          545216.56
         ],
         "yaxis": "y"
        }
       ],
       "layout": {
        "barmode": "relative",
        "coloraxis": {
         "colorbar": {
          "title": {
           "text": "Saldo a liquidar"
          }
         },
         "colorscale": [
          [
           0,
           "rgb(255,245,240)"
          ],
          [
           0.125,
           "rgb(254,224,210)"
          ],
          [
           0.25,
           "rgb(252,187,161)"
          ],
          [
           0.375,
           "rgb(252,146,114)"
          ],
          [
           0.5,
           "rgb(251,106,74)"
          ],
          [
           0.625,
           "rgb(239,59,44)"
          ],
          [
           0.75,
           "rgb(203,24,29)"
          ],
          [
           0.875,
           "rgb(165,15,21)"
          ],
          [
           1,
           "rgb(103,0,13)"
          ]
         ]
        },
        "height": 400,
        "hovermode": "x unified",
        "legend": {
         "tracegroupgap": 0
        },
        "template": {
         "data": {
          "bar": [
           {
            "error_x": {
             "color": "#f2f5fa"
            },
            "error_y": {
             "color": "#f2f5fa"
            },
            "marker": {
             "line": {
              "color": "rgb(17,17,17)",
              "width": 0.5
             },
             "pattern": {
              "fillmode": "overlay",
              "size": 10,
              "solidity": 0.2
             }
            },
            "type": "bar"
           }
          ],
          "barpolar": [
           {
            "marker": {
             "line": {
              "color": "rgb(17,17,17)",
              "width": 0.5
             },
             "pattern": {
              "fillmode": "overlay",
              "size": 10,
              "solidity": 0.2
             }
            },
            "type": "barpolar"
           }
          ],
          "carpet": [
           {
            "aaxis": {
             "endlinecolor": "#A2B1C6",
             "gridcolor": "#506784",
             "linecolor": "#506784",
             "minorgridcolor": "#506784",
             "startlinecolor": "#A2B1C6"
            },
            "baxis": {
             "endlinecolor": "#A2B1C6",
             "gridcolor": "#506784",
             "linecolor": "#506784",
             "minorgridcolor": "#506784",
             "startlinecolor": "#A2B1C6"
            },
            "type": "carpet"
           }
          ],
          "choropleth": [
           {
            "colorbar": {
             "outlinewidth": 0,
             "ticks": ""
            },
            "type": "choropleth"
           }
          ],
          "contour": [
           {
            "colorbar": {
             "outlinewidth": 0,
             "ticks": ""
            },
            "colorscale": [
             [
              0,
              "#0d0887"
             ],
             [
              0.1111111111111111,
              "#46039f"
             ],
             [
              0.2222222222222222,
              "#7201a8"
             ],
             [
              0.3333333333333333,
              "#9c179e"
             ],
             [
              0.4444444444444444,
              "#bd3786"
             ],
             [
              0.5555555555555556,
              "#d8576b"
             ],
             [
              0.6666666666666666,
              "#ed7953"
             ],
             [
              0.7777777777777778,
              "#fb9f3a"
             ],
             [
              0.8888888888888888,
              "#fdca26"
             ],
             [
              1,
              "#f0f921"
             ]
            ],
            "type": "contour"
           }
          ],
          "contourcarpet": [
           {
            "colorbar": {
             "outlinewidth": 0,
             "ticks": ""
            },
            "type": "contourcarpet"
           }
          ],
          "heatmap": [
           {
            "colorbar": {
             "outlinewidth": 0,
             "ticks": ""
            },
            "colorscale": [
             [
              0,
              "#0d0887"
             ],
             [
              0.1111111111111111,
              "#46039f"
             ],
             [
              0.2222222222222222,
              "#7201a8"
             ],
             [
              0.3333333333333333,
              "#9c179e"
             ],
             [
              0.4444444444444444,
              "#bd3786"
             ],
             [
              0.5555555555555556,
              "#d8576b"
             ],
             [
              0.6666666666666666,
              "#ed7953"
             ],
             [
              0.7777777777777778,
              "#fb9f3a"
             ],
             [
              0.8888888888888888,
              "#fdca26"
             ],
             [
              1,
              "#f0f921"
             ]
            ],
            "type": "heatmap"
           }
          ],
          "heatmapgl": [
           {
            "colorbar": {
             "outlinewidth": 0,
             "ticks": ""
            },
            "colorscale": [
             [
              0,
              "#0d0887"
             ],
             [
              0.1111111111111111,
              "#46039f"
             ],
             [
              0.2222222222222222,
              "#7201a8"
             ],
             [
              0.3333333333333333,
              "#9c179e"
             ],
             [
              0.4444444444444444,
              "#bd3786"
             ],
             [
              0.5555555555555556,
              "#d8576b"
             ],
             [
              0.6666666666666666,
              "#ed7953"
             ],
             [
              0.7777777777777778,
              "#fb9f3a"
             ],
             [
              0.8888888888888888,
              "#fdca26"
             ],
             [
              1,
              "#f0f921"
             ]
            ],
            "type": "heatmapgl"
           }
          ],
          "histogram": [
           {
            "marker": {
             "pattern": {
              "fillmode": "overlay",
              "size": 10,
              "solidity": 0.2
             }
            },
            "type": "histogram"
           }
          ],
          "histogram2d": [
           {
            "colorbar": {
             "outlinewidth": 0,
             "ticks": ""
            },
            "colorscale": [
             [
              0,
              "#0d0887"
             ],
             [
              0.1111111111111111,
              "#46039f"
             ],
             [
              0.2222222222222222,
              "#7201a8"
             ],
             [
              0.3333333333333333,
              "#9c179e"
             ],
             [
              0.4444444444444444,
              "#bd3786"
             ],
             [
              0.5555555555555556,
              "#d8576b"
             ],
             [
              0.6666666666666666,
              "#ed7953"
             ],
             [
              0.7777777777777778,
              "#fb9f3a"
             ],
             [
              0.8888888888888888,
              "#fdca26"
             ],
             [
              1,
              "#f0f921"
             ]
            ],
            "type": "histogram2d"
           }
          ],
          "histogram2dcontour": [
           {
            "colorbar": {
             "outlinewidth": 0,
             "ticks": ""
            },
            "colorscale": [
             [
              0,
              "#0d0887"
             ],
             [
              0.1111111111111111,
              "#46039f"
             ],
             [
              0.2222222222222222,
              "#7201a8"
             ],
             [
              0.3333333333333333,
              "#9c179e"
             ],
             [
              0.4444444444444444,
              "#bd3786"
             ],
             [
              0.5555555555555556,
              "#d8576b"
             ],
             [
              0.6666666666666666,
              "#ed7953"
             ],
             [
              0.7777777777777778,
              "#fb9f3a"
             ],
             [
              0.8888888888888888,
              "#fdca26"
             ],
             [
              1,
              "#f0f921"
             ]
            ],
            "type": "histogram2dcontour"
           }
          ],
          "mesh3d": [
           {
            "colorbar": {
             "outlinewidth": 0,
             "ticks": ""
            },
            "type": "mesh3d"
           }
          ],
          "parcoords": [
           {
            "line": {
             "colorbar": {
              "outlinewidth": 0,
              "ticks": ""
             }
            },
            "type": "parcoords"
           }
          ],
          "pie": [
           {
            "automargin": true,
            "type": "pie"
           }
          ],
          "scatter": [
           {
            "marker": {
             "line": {
              "color": "#283442"
             }
            },
            "type": "scatter"
           }
          ],
          "scatter3d": [
           {
            "line": {
             "colorbar": {
              "outlinewidth": 0,
              "ticks": ""
             }
            },
            "marker": {
             "colorbar": {
              "outlinewidth": 0,
              "ticks": ""
             }
            },
            "type": "scatter3d"
           }
          ],
          "scattercarpet": [
           {
            "marker": {
             "colorbar": {
              "outlinewidth": 0,
              "ticks": ""
             }
            },
            "type": "scattercarpet"
           }
          ],
          "scattergeo": [
           {
            "marker": {
             "colorbar": {
              "outlinewidth": 0,
              "ticks": ""
             }
            },
            "type": "scattergeo"
           }
          ],
          "scattergl": [
           {
            "marker": {
             "line": {
              "color": "#283442"
             }
            },
            "type": "scattergl"
           }
          ],
          "scattermapbox": [
           {
            "marker": {
             "colorbar": {
              "outlinewidth": 0,
              "ticks": ""
             }
            },
            "type": "scattermapbox"
           }
          ],
          "scatterpolar": [
           {
            "marker": {
             "colorbar": {
              "outlinewidth": 0,
              "ticks": ""
             }
            },
            "type": "scatterpolar"
           }
          ],
          "scatterpolargl": [
           {
            "marker": {
             "colorbar": {
              "outlinewidth": 0,
              "ticks": ""
             }
            },
            "type": "scatterpolargl"
           }
          ],
          "scatterternary": [
           {
            "marker": {
             "colorbar": {
              "outlinewidth": 0,
              "ticks": ""
             }
            },
            "type": "scatterternary"
           }
          ],
          "surface": [
           {
            "colorbar": {
             "outlinewidth": 0,
             "ticks": ""
            },
            "colorscale": [
             [
              0,
              "#0d0887"
             ],
             [
              0.1111111111111111,
              "#46039f"
             ],
             [
              0.2222222222222222,
              "#7201a8"
             ],
             [
              0.3333333333333333,
              "#9c179e"
             ],
             [
              0.4444444444444444,
              "#bd3786"
             ],
             [
              0.5555555555555556,
              "#d8576b"
             ],
             [
              0.6666666666666666,
              "#ed7953"
             ],
             [
              0.7777777777777778,
              "#fb9f3a"
             ],
             [
              0.8888888888888888,
              "#fdca26"
             ],
             [
              1,
              "#f0f921"
             ]
            ],
            "type": "surface"
           }
          ],
          "table": [
           {
            "cells": {
             "fill": {
              "color": "#506784"
             },
             "line": {
              "color": "rgb(17,17,17)"
             }
            },
            "header": {
             "fill": {
              "color": "#2a3f5f"
             },
             "line": {
              "color": "rgb(17,17,17)"
             }
            },
            "type": "table"
           }
          ]
         },
         "layout": {
          "annotationdefaults": {
           "arrowcolor": "#f2f5fa",
           "arrowhead": 0,
           "arrowwidth": 1
          },
          "autotypenumbers": "strict",
          "coloraxis": {
           "colorbar": {
            "outlinewidth": 0,
            "ticks": ""
           }
          },
          "colorscale": {
           "diverging": [
            [
             0,
             "#8e0152"
            ],
            [
             0.1,
             "#c51b7d"
            ],
            [
             0.2,
             "#de77ae"
            ],
            [
             0.3,
             "#f1b6da"
            ],
            [
             0.4,
             "#fde0ef"
            ],
            [
             0.5,
             "#f7f7f7"
            ],
            [
             0.6,
             "#e6f5d0"
            ],
            [
             0.7,
             "#b8e186"
            ],
            [
             0.8,
             "#7fbc41"
            ],
            [
             0.9,
             "#4d9221"
            ],
            [
             1,
             "#276419"
            ]
           ],
           "sequential": [
            [
             0,
             "#0d0887"
            ],
            [
             0.1111111111111111,
             "#46039f"
            ],
            [
             0.2222222222222222,
             "#7201a8"
            ],
            [
             0.3333333333333333,
             "#9c179e"
            ],
            [
             0.4444444444444444,
             "#bd3786"
            ],
            [
             0.5555555555555556,
             "#d8576b"
            ],
            [
             0.6666666666666666,
             "#ed7953"
            ],
            [
             0.7777777777777778,
             "#fb9f3a"
            ],
            [
             0.8888888888888888,
             "#fdca26"
            ],
            [
             1,
             "#f0f921"
            ]
           ],
           "sequentialminus": [
            [
             0,
             "#0d0887"
            ],
            [
             0.1111111111111111,
             "#46039f"
            ],
            [
             0.2222222222222222,
             "#7201a8"
            ],
            [
             0.3333333333333333,
             "#9c179e"
            ],
            [
             0.4444444444444444,
             "#bd3786"
            ],
            [
             0.5555555555555556,
             "#d8576b"
            ],
            [
             0.6666666666666666,
             "#ed7953"
            ],
            [
             0.7777777777777778,
             "#fb9f3a"
            ],
            [
             0.8888888888888888,
             "#fdca26"
            ],
            [
             1,
             "#f0f921"
            ]
           ]
          },
          "colorway": [
           "#636efa",
           "#EF553B",
           "#00cc96",
           "#ab63fa",
           "#FFA15A",
           "#19d3f3",
           "#FF6692",
           "#B6E880",
           "#FF97FF",
           "#FECB52"
          ],
          "font": {
           "color": "#f2f5fa"
          },
          "geo": {
           "bgcolor": "rgb(17,17,17)",
           "lakecolor": "rgb(17,17,17)",
           "landcolor": "rgb(17,17,17)",
           "showlakes": true,
           "showland": true,
           "subunitcolor": "#506784"
          },
          "hoverlabel": {
           "align": "left"
          },
          "hovermode": "closest",
          "mapbox": {
           "style": "dark"
          },
          "paper_bgcolor": "rgb(17,17,17)",
          "plot_bgcolor": "rgb(17,17,17)",
          "polar": {
           "angularaxis": {
            "gridcolor": "#506784",
            "linecolor": "#506784",
            "ticks": ""
           },
           "bgcolor": "rgb(17,17,17)",
           "radialaxis": {
            "gridcolor": "#506784",
            "linecolor": "#506784",
            "ticks": ""
           }
          },
          "scene": {
           "xaxis": {
            "backgroundcolor": "rgb(17,17,17)",
            "gridcolor": "#506784",
            "gridwidth": 2,
            "linecolor": "#506784",
            "showbackground": true,
            "ticks": "",
            "zerolinecolor": "#C8D4E3"
           },
           "yaxis": {
            "backgroundcolor": "rgb(17,17,17)",
            "gridcolor": "#506784",
            "gridwidth": 2,
            "linecolor": "#506784",
            "showbackground": true,
            "ticks": "",
            "zerolinecolor": "#C8D4E3"
           },
           "zaxis": {
            "backgroundcolor": "rgb(17,17,17)",
            "gridcolor": "#506784",
            "gridwidth": 2,
            "linecolor": "#506784",
            "showbackground": true,
            "ticks": "",
            "zerolinecolor": "#C8D4E3"
           }
          },
          "shapedefaults": {
           "line": {
            "color": "#f2f5fa"
           }
          },
          "sliderdefaults": {
           "bgcolor": "#C8D4E3",
           "bordercolor": "rgb(17,17,17)",
           "borderwidth": 1,
           "tickwidth": 0
          },
          "ternary": {
           "aaxis": {
            "gridcolor": "#506784",
            "linecolor": "#506784",
            "ticks": ""
           },
           "baxis": {
            "gridcolor": "#506784",
            "linecolor": "#506784",
            "ticks": ""
           },
           "bgcolor": "rgb(17,17,17)",
           "caxis": {
            "gridcolor": "#506784",
            "linecolor": "#506784",
            "ticks": ""
           }
          },
          "title": {
           "x": 0.05
          },
          "updatemenudefaults": {
           "bgcolor": "#506784",
           "borderwidth": 0
          },
          "xaxis": {
           "automargin": true,
           "gridcolor": "#283442",
           "linecolor": "#506784",
           "ticks": "",
           "title": {
            "standoff": 15
           },
           "zerolinecolor": "#283442",
           "zerolinewidth": 2
          },
          "yaxis": {
           "automargin": true,
           "gridcolor": "#283442",
           "linecolor": "#506784",
           "ticks": "",
           "title": {
            "standoff": 15
           },
           "zerolinecolor": "#283442",
           "zerolinewidth": 2
          }
         }
        },
        "title": {
         "text": "Saldo a liquidar por tipo de empenho"
        },
        "xaxis": {
         "anchor": "y",
         "domain": [
          0,
          1
         ],
         "title": {
          "text": "Tipo de Empenho"
         }
        },
        "yaxis": {
         "anchor": "x",
         "domain": [
          0,
          1
         ],
         "title": {
          "text": "Saldo a liquidar"
         },
         "type": "log"
        }
       }
      }
     },
     "metadata": {},
     "output_type": "display_data"
    }
   ],
   "source": [
    "# Saldo a liquidar por tipo de Empenho\n",
    "cols = ['TIPO', 'A_LIQUIDAR']\n",
    "\n",
    "df_aux = df.loc[:, cols].groupby('TIPO').sum().sort_values(by= 'A_LIQUIDAR', ascending=False).reset_index()\n",
    "df_aux = df_aux[df_aux['A_LIQUIDAR'] > 0]\n",
    "fig = px.bar(df_aux, \n",
    "             x='TIPO', \n",
    "             y='A_LIQUIDAR',\n",
    "             title='Saldo a liquidar por tipo de empenho',\n",
    "             labels={'TIPO':'Tipo de Empenho', 'A_LIQUIDAR':'Saldo a liquidar'},\n",
    "             text_auto='.3s',\n",
    "             height=400,\n",
    "             log_y=True,\n",
    "             color='A_LIQUIDAR',\n",
    "             color_continuous_scale = 'reds',\n",
    "             template='plotly_dark')\n",
    "fig.update_traces(textposition = 'outside', cliponaxis = False, hovertemplate=None)\n",
    "fig.update_layout(hovermode=\"x unified\")\n",
    "\n",
    "fig.show()"
   ]
  },
  {
   "cell_type": "code",
   "execution_count": 11,
   "metadata": {},
   "outputs": [
    {
     "data": {
      "application/vnd.plotly.v1+json": {
       "config": {
        "plotlyServerURL": "https://plot.ly"
       },
       "data": [
        {
         "alignmentgroup": "True",
         "cliponaxis": false,
         "legendgroup": "",
         "marker": {
          "color": [
           8365050.8,
           545216.56
          ],
          "coloraxis": "coloraxis",
          "pattern": {
           "shape": ""
          }
         },
         "name": "",
         "offsetgroup": "",
         "orientation": "v",
         "showlegend": false,
         "textposition": "outside",
         "texttemplate": "%{y:.3s}",
         "type": "bar",
         "x": [
          "2024",
          "2023"
         ],
         "xaxis": "x",
         "y": [
          8365050.8,
          545216.56
         ],
         "yaxis": "y"
        }
       ],
       "layout": {
        "barmode": "relative",
        "coloraxis": {
         "colorbar": {
          "title": {
           "text": "Saldo a liquidar"
          }
         },
         "colorscale": [
          [
           0,
           "rgb(255,245,240)"
          ],
          [
           0.125,
           "rgb(254,224,210)"
          ],
          [
           0.25,
           "rgb(252,187,161)"
          ],
          [
           0.375,
           "rgb(252,146,114)"
          ],
          [
           0.5,
           "rgb(251,106,74)"
          ],
          [
           0.625,
           "rgb(239,59,44)"
          ],
          [
           0.75,
           "rgb(203,24,29)"
          ],
          [
           0.875,
           "rgb(165,15,21)"
          ],
          [
           1,
           "rgb(103,0,13)"
          ]
         ]
        },
        "height": 400,
        "hovermode": "x unified",
        "legend": {
         "tracegroupgap": 0
        },
        "template": {
         "data": {
          "bar": [
           {
            "error_x": {
             "color": "#f2f5fa"
            },
            "error_y": {
             "color": "#f2f5fa"
            },
            "marker": {
             "line": {
              "color": "rgb(17,17,17)",
              "width": 0.5
             },
             "pattern": {
              "fillmode": "overlay",
              "size": 10,
              "solidity": 0.2
             }
            },
            "type": "bar"
           }
          ],
          "barpolar": [
           {
            "marker": {
             "line": {
              "color": "rgb(17,17,17)",
              "width": 0.5
             },
             "pattern": {
              "fillmode": "overlay",
              "size": 10,
              "solidity": 0.2
             }
            },
            "type": "barpolar"
           }
          ],
          "carpet": [
           {
            "aaxis": {
             "endlinecolor": "#A2B1C6",
             "gridcolor": "#506784",
             "linecolor": "#506784",
             "minorgridcolor": "#506784",
             "startlinecolor": "#A2B1C6"
            },
            "baxis": {
             "endlinecolor": "#A2B1C6",
             "gridcolor": "#506784",
             "linecolor": "#506784",
             "minorgridcolor": "#506784",
             "startlinecolor": "#A2B1C6"
            },
            "type": "carpet"
           }
          ],
          "choropleth": [
           {
            "colorbar": {
             "outlinewidth": 0,
             "ticks": ""
            },
            "type": "choropleth"
           }
          ],
          "contour": [
           {
            "colorbar": {
             "outlinewidth": 0,
             "ticks": ""
            },
            "colorscale": [
             [
              0,
              "#0d0887"
             ],
             [
              0.1111111111111111,
              "#46039f"
             ],
             [
              0.2222222222222222,
              "#7201a8"
             ],
             [
              0.3333333333333333,
              "#9c179e"
             ],
             [
              0.4444444444444444,
              "#bd3786"
             ],
             [
              0.5555555555555556,
              "#d8576b"
             ],
             [
              0.6666666666666666,
              "#ed7953"
             ],
             [
              0.7777777777777778,
              "#fb9f3a"
             ],
             [
              0.8888888888888888,
              "#fdca26"
             ],
             [
              1,
              "#f0f921"
             ]
            ],
            "type": "contour"
           }
          ],
          "contourcarpet": [
           {
            "colorbar": {
             "outlinewidth": 0,
             "ticks": ""
            },
            "type": "contourcarpet"
           }
          ],
          "heatmap": [
           {
            "colorbar": {
             "outlinewidth": 0,
             "ticks": ""
            },
            "colorscale": [
             [
              0,
              "#0d0887"
             ],
             [
              0.1111111111111111,
              "#46039f"
             ],
             [
              0.2222222222222222,
              "#7201a8"
             ],
             [
              0.3333333333333333,
              "#9c179e"
             ],
             [
              0.4444444444444444,
              "#bd3786"
             ],
             [
              0.5555555555555556,
              "#d8576b"
             ],
             [
              0.6666666666666666,
              "#ed7953"
             ],
             [
              0.7777777777777778,
              "#fb9f3a"
             ],
             [
              0.8888888888888888,
              "#fdca26"
             ],
             [
              1,
              "#f0f921"
             ]
            ],
            "type": "heatmap"
           }
          ],
          "heatmapgl": [
           {
            "colorbar": {
             "outlinewidth": 0,
             "ticks": ""
            },
            "colorscale": [
             [
              0,
              "#0d0887"
             ],
             [
              0.1111111111111111,
              "#46039f"
             ],
             [
              0.2222222222222222,
              "#7201a8"
             ],
             [
              0.3333333333333333,
              "#9c179e"
             ],
             [
              0.4444444444444444,
              "#bd3786"
             ],
             [
              0.5555555555555556,
              "#d8576b"
             ],
             [
              0.6666666666666666,
              "#ed7953"
             ],
             [
              0.7777777777777778,
              "#fb9f3a"
             ],
             [
              0.8888888888888888,
              "#fdca26"
             ],
             [
              1,
              "#f0f921"
             ]
            ],
            "type": "heatmapgl"
           }
          ],
          "histogram": [
           {
            "marker": {
             "pattern": {
              "fillmode": "overlay",
              "size": 10,
              "solidity": 0.2
             }
            },
            "type": "histogram"
           }
          ],
          "histogram2d": [
           {
            "colorbar": {
             "outlinewidth": 0,
             "ticks": ""
            },
            "colorscale": [
             [
              0,
              "#0d0887"
             ],
             [
              0.1111111111111111,
              "#46039f"
             ],
             [
              0.2222222222222222,
              "#7201a8"
             ],
             [
              0.3333333333333333,
              "#9c179e"
             ],
             [
              0.4444444444444444,
              "#bd3786"
             ],
             [
              0.5555555555555556,
              "#d8576b"
             ],
             [
              0.6666666666666666,
              "#ed7953"
             ],
             [
              0.7777777777777778,
              "#fb9f3a"
             ],
             [
              0.8888888888888888,
              "#fdca26"
             ],
             [
              1,
              "#f0f921"
             ]
            ],
            "type": "histogram2d"
           }
          ],
          "histogram2dcontour": [
           {
            "colorbar": {
             "outlinewidth": 0,
             "ticks": ""
            },
            "colorscale": [
             [
              0,
              "#0d0887"
             ],
             [
              0.1111111111111111,
              "#46039f"
             ],
             [
              0.2222222222222222,
              "#7201a8"
             ],
             [
              0.3333333333333333,
              "#9c179e"
             ],
             [
              0.4444444444444444,
              "#bd3786"
             ],
             [
              0.5555555555555556,
              "#d8576b"
             ],
             [
              0.6666666666666666,
              "#ed7953"
             ],
             [
              0.7777777777777778,
              "#fb9f3a"
             ],
             [
              0.8888888888888888,
              "#fdca26"
             ],
             [
              1,
              "#f0f921"
             ]
            ],
            "type": "histogram2dcontour"
           }
          ],
          "mesh3d": [
           {
            "colorbar": {
             "outlinewidth": 0,
             "ticks": ""
            },
            "type": "mesh3d"
           }
          ],
          "parcoords": [
           {
            "line": {
             "colorbar": {
              "outlinewidth": 0,
              "ticks": ""
             }
            },
            "type": "parcoords"
           }
          ],
          "pie": [
           {
            "automargin": true,
            "type": "pie"
           }
          ],
          "scatter": [
           {
            "marker": {
             "line": {
              "color": "#283442"
             }
            },
            "type": "scatter"
           }
          ],
          "scatter3d": [
           {
            "line": {
             "colorbar": {
              "outlinewidth": 0,
              "ticks": ""
             }
            },
            "marker": {
             "colorbar": {
              "outlinewidth": 0,
              "ticks": ""
             }
            },
            "type": "scatter3d"
           }
          ],
          "scattercarpet": [
           {
            "marker": {
             "colorbar": {
              "outlinewidth": 0,
              "ticks": ""
             }
            },
            "type": "scattercarpet"
           }
          ],
          "scattergeo": [
           {
            "marker": {
             "colorbar": {
              "outlinewidth": 0,
              "ticks": ""
             }
            },
            "type": "scattergeo"
           }
          ],
          "scattergl": [
           {
            "marker": {
             "line": {
              "color": "#283442"
             }
            },
            "type": "scattergl"
           }
          ],
          "scattermapbox": [
           {
            "marker": {
             "colorbar": {
              "outlinewidth": 0,
              "ticks": ""
             }
            },
            "type": "scattermapbox"
           }
          ],
          "scatterpolar": [
           {
            "marker": {
             "colorbar": {
              "outlinewidth": 0,
              "ticks": ""
             }
            },
            "type": "scatterpolar"
           }
          ],
          "scatterpolargl": [
           {
            "marker": {
             "colorbar": {
              "outlinewidth": 0,
              "ticks": ""
             }
            },
            "type": "scatterpolargl"
           }
          ],
          "scatterternary": [
           {
            "marker": {
             "colorbar": {
              "outlinewidth": 0,
              "ticks": ""
             }
            },
            "type": "scatterternary"
           }
          ],
          "surface": [
           {
            "colorbar": {
             "outlinewidth": 0,
             "ticks": ""
            },
            "colorscale": [
             [
              0,
              "#0d0887"
             ],
             [
              0.1111111111111111,
              "#46039f"
             ],
             [
              0.2222222222222222,
              "#7201a8"
             ],
             [
              0.3333333333333333,
              "#9c179e"
             ],
             [
              0.4444444444444444,
              "#bd3786"
             ],
             [
              0.5555555555555556,
              "#d8576b"
             ],
             [
              0.6666666666666666,
              "#ed7953"
             ],
             [
              0.7777777777777778,
              "#fb9f3a"
             ],
             [
              0.8888888888888888,
              "#fdca26"
             ],
             [
              1,
              "#f0f921"
             ]
            ],
            "type": "surface"
           }
          ],
          "table": [
           {
            "cells": {
             "fill": {
              "color": "#506784"
             },
             "line": {
              "color": "rgb(17,17,17)"
             }
            },
            "header": {
             "fill": {
              "color": "#2a3f5f"
             },
             "line": {
              "color": "rgb(17,17,17)"
             }
            },
            "type": "table"
           }
          ]
         },
         "layout": {
          "annotationdefaults": {
           "arrowcolor": "#f2f5fa",
           "arrowhead": 0,
           "arrowwidth": 1
          },
          "autotypenumbers": "strict",
          "coloraxis": {
           "colorbar": {
            "outlinewidth": 0,
            "ticks": ""
           }
          },
          "colorscale": {
           "diverging": [
            [
             0,
             "#8e0152"
            ],
            [
             0.1,
             "#c51b7d"
            ],
            [
             0.2,
             "#de77ae"
            ],
            [
             0.3,
             "#f1b6da"
            ],
            [
             0.4,
             "#fde0ef"
            ],
            [
             0.5,
             "#f7f7f7"
            ],
            [
             0.6,
             "#e6f5d0"
            ],
            [
             0.7,
             "#b8e186"
            ],
            [
             0.8,
             "#7fbc41"
            ],
            [
             0.9,
             "#4d9221"
            ],
            [
             1,
             "#276419"
            ]
           ],
           "sequential": [
            [
             0,
             "#0d0887"
            ],
            [
             0.1111111111111111,
             "#46039f"
            ],
            [
             0.2222222222222222,
             "#7201a8"
            ],
            [
             0.3333333333333333,
             "#9c179e"
            ],
            [
             0.4444444444444444,
             "#bd3786"
            ],
            [
             0.5555555555555556,
             "#d8576b"
            ],
            [
             0.6666666666666666,
             "#ed7953"
            ],
            [
             0.7777777777777778,
             "#fb9f3a"
            ],
            [
             0.8888888888888888,
             "#fdca26"
            ],
            [
             1,
             "#f0f921"
            ]
           ],
           "sequentialminus": [
            [
             0,
             "#0d0887"
            ],
            [
             0.1111111111111111,
             "#46039f"
            ],
            [
             0.2222222222222222,
             "#7201a8"
            ],
            [
             0.3333333333333333,
             "#9c179e"
            ],
            [
             0.4444444444444444,
             "#bd3786"
            ],
            [
             0.5555555555555556,
             "#d8576b"
            ],
            [
             0.6666666666666666,
             "#ed7953"
            ],
            [
             0.7777777777777778,
             "#fb9f3a"
            ],
            [
             0.8888888888888888,
             "#fdca26"
            ],
            [
             1,
             "#f0f921"
            ]
           ]
          },
          "colorway": [
           "#636efa",
           "#EF553B",
           "#00cc96",
           "#ab63fa",
           "#FFA15A",
           "#19d3f3",
           "#FF6692",
           "#B6E880",
           "#FF97FF",
           "#FECB52"
          ],
          "font": {
           "color": "#f2f5fa"
          },
          "geo": {
           "bgcolor": "rgb(17,17,17)",
           "lakecolor": "rgb(17,17,17)",
           "landcolor": "rgb(17,17,17)",
           "showlakes": true,
           "showland": true,
           "subunitcolor": "#506784"
          },
          "hoverlabel": {
           "align": "left"
          },
          "hovermode": "closest",
          "mapbox": {
           "style": "dark"
          },
          "paper_bgcolor": "rgb(17,17,17)",
          "plot_bgcolor": "rgb(17,17,17)",
          "polar": {
           "angularaxis": {
            "gridcolor": "#506784",
            "linecolor": "#506784",
            "ticks": ""
           },
           "bgcolor": "rgb(17,17,17)",
           "radialaxis": {
            "gridcolor": "#506784",
            "linecolor": "#506784",
            "ticks": ""
           }
          },
          "scene": {
           "xaxis": {
            "backgroundcolor": "rgb(17,17,17)",
            "gridcolor": "#506784",
            "gridwidth": 2,
            "linecolor": "#506784",
            "showbackground": true,
            "ticks": "",
            "zerolinecolor": "#C8D4E3"
           },
           "yaxis": {
            "backgroundcolor": "rgb(17,17,17)",
            "gridcolor": "#506784",
            "gridwidth": 2,
            "linecolor": "#506784",
            "showbackground": true,
            "ticks": "",
            "zerolinecolor": "#C8D4E3"
           },
           "zaxis": {
            "backgroundcolor": "rgb(17,17,17)",
            "gridcolor": "#506784",
            "gridwidth": 2,
            "linecolor": "#506784",
            "showbackground": true,
            "ticks": "",
            "zerolinecolor": "#C8D4E3"
           }
          },
          "shapedefaults": {
           "line": {
            "color": "#f2f5fa"
           }
          },
          "sliderdefaults": {
           "bgcolor": "#C8D4E3",
           "bordercolor": "rgb(17,17,17)",
           "borderwidth": 1,
           "tickwidth": 0
          },
          "ternary": {
           "aaxis": {
            "gridcolor": "#506784",
            "linecolor": "#506784",
            "ticks": ""
           },
           "baxis": {
            "gridcolor": "#506784",
            "linecolor": "#506784",
            "ticks": ""
           },
           "bgcolor": "rgb(17,17,17)",
           "caxis": {
            "gridcolor": "#506784",
            "linecolor": "#506784",
            "ticks": ""
           }
          },
          "title": {
           "x": 0.05
          },
          "updatemenudefaults": {
           "bgcolor": "#506784",
           "borderwidth": 0
          },
          "xaxis": {
           "automargin": true,
           "gridcolor": "#283442",
           "linecolor": "#506784",
           "ticks": "",
           "title": {
            "standoff": 15
           },
           "zerolinecolor": "#283442",
           "zerolinewidth": 2
          },
          "yaxis": {
           "automargin": true,
           "gridcolor": "#283442",
           "linecolor": "#506784",
           "ticks": "",
           "title": {
            "standoff": 15
           },
           "zerolinecolor": "#283442",
           "zerolinewidth": 2
          }
         }
        },
        "title": {
         "text": "Saldo a liquidar por ano do empenho"
        },
        "xaxis": {
         "anchor": "y",
         "domain": [
          0,
          1
         ],
         "title": {
          "text": "Ano do Empenho"
         }
        },
        "yaxis": {
         "anchor": "x",
         "domain": [
          0,
          1
         ],
         "title": {
          "text": "Saldo a liquidar"
         },
         "type": "log"
        }
       }
      }
     },
     "metadata": {},
     "output_type": "display_data"
    }
   ],
   "source": [
    "# Saldo a liquidar por ano\n",
    "cols = ['ANO', 'A_LIQUIDAR']\n",
    "\n",
    "df_aux = df.loc[:, cols].groupby('ANO').sum().sort_values(by= 'A_LIQUIDAR', ascending=False).reset_index()\n",
    "df_aux = df_aux[df_aux['A_LIQUIDAR'] > 0]\n",
    "fig = px.bar(df_aux, \n",
    "             x='ANO', \n",
    "             y='A_LIQUIDAR',\n",
    "             title='Saldo a liquidar por ano do empenho',\n",
    "             labels={'ANO':'Ano do Empenho', 'A_LIQUIDAR':'Saldo a liquidar'},\n",
    "             text_auto='.3s',\n",
    "             height=400,\n",
    "             log_y=True,\n",
    "             color='A_LIQUIDAR',\n",
    "             color_continuous_scale = 'reds',\n",
    "             template='plotly_dark')\n",
    "fig.update_traces(textposition = 'outside', cliponaxis = False, hovertemplate=None)\n",
    "fig.update_layout(hovermode=\"x unified\")\n",
    "\n",
    "fig.show()"
   ]
  },
  {
   "cell_type": "code",
   "execution_count": 12,
   "metadata": {},
   "outputs": [
    {
     "data": {
      "application/vnd.plotly.v1+json": {
       "config": {
        "plotlyServerURL": "https://plot.ly"
       },
       "data": [
        {
         "alignmentgroup": "True",
         "cliponaxis": false,
         "legendgroup": "",
         "marker": {
          "color": [
           5396497.35,
           1950805.25,
           1562964.76
          ],
          "coloraxis": "coloraxis",
          "pattern": {
           "shape": ""
          }
         },
         "name": "",
         "offsetgroup": "",
         "orientation": "v",
         "showlegend": false,
         "textposition": "outside",
         "texttemplate": "%{y:.3s}",
         "type": "bar",
         "x": [
          "GLOBAL",
          "ORDINARIO",
          "ESTIMATIVO"
         ],
         "xaxis": "x",
         "y": [
          5396497.35,
          1950805.25,
          1562964.76
         ],
         "yaxis": "y"
        }
       ],
       "layout": {
        "barmode": "relative",
        "coloraxis": {
         "colorbar": {
          "title": {
           "text": "Saldo a liquidar"
          }
         },
         "colorscale": [
          [
           0,
           "rgb(255,245,240)"
          ],
          [
           0.125,
           "rgb(254,224,210)"
          ],
          [
           0.25,
           "rgb(252,187,161)"
          ],
          [
           0.375,
           "rgb(252,146,114)"
          ],
          [
           0.5,
           "rgb(251,106,74)"
          ],
          [
           0.625,
           "rgb(239,59,44)"
          ],
          [
           0.75,
           "rgb(203,24,29)"
          ],
          [
           0.875,
           "rgb(165,15,21)"
          ],
          [
           1,
           "rgb(103,0,13)"
          ]
         ]
        },
        "height": 400,
        "hovermode": "x unified",
        "legend": {
         "tracegroupgap": 0
        },
        "template": {
         "data": {
          "bar": [
           {
            "error_x": {
             "color": "#f2f5fa"
            },
            "error_y": {
             "color": "#f2f5fa"
            },
            "marker": {
             "line": {
              "color": "rgb(17,17,17)",
              "width": 0.5
             },
             "pattern": {
              "fillmode": "overlay",
              "size": 10,
              "solidity": 0.2
             }
            },
            "type": "bar"
           }
          ],
          "barpolar": [
           {
            "marker": {
             "line": {
              "color": "rgb(17,17,17)",
              "width": 0.5
             },
             "pattern": {
              "fillmode": "overlay",
              "size": 10,
              "solidity": 0.2
             }
            },
            "type": "barpolar"
           }
          ],
          "carpet": [
           {
            "aaxis": {
             "endlinecolor": "#A2B1C6",
             "gridcolor": "#506784",
             "linecolor": "#506784",
             "minorgridcolor": "#506784",
             "startlinecolor": "#A2B1C6"
            },
            "baxis": {
             "endlinecolor": "#A2B1C6",
             "gridcolor": "#506784",
             "linecolor": "#506784",
             "minorgridcolor": "#506784",
             "startlinecolor": "#A2B1C6"
            },
            "type": "carpet"
           }
          ],
          "choropleth": [
           {
            "colorbar": {
             "outlinewidth": 0,
             "ticks": ""
            },
            "type": "choropleth"
           }
          ],
          "contour": [
           {
            "colorbar": {
             "outlinewidth": 0,
             "ticks": ""
            },
            "colorscale": [
             [
              0,
              "#0d0887"
             ],
             [
              0.1111111111111111,
              "#46039f"
             ],
             [
              0.2222222222222222,
              "#7201a8"
             ],
             [
              0.3333333333333333,
              "#9c179e"
             ],
             [
              0.4444444444444444,
              "#bd3786"
             ],
             [
              0.5555555555555556,
              "#d8576b"
             ],
             [
              0.6666666666666666,
              "#ed7953"
             ],
             [
              0.7777777777777778,
              "#fb9f3a"
             ],
             [
              0.8888888888888888,
              "#fdca26"
             ],
             [
              1,
              "#f0f921"
             ]
            ],
            "type": "contour"
           }
          ],
          "contourcarpet": [
           {
            "colorbar": {
             "outlinewidth": 0,
             "ticks": ""
            },
            "type": "contourcarpet"
           }
          ],
          "heatmap": [
           {
            "colorbar": {
             "outlinewidth": 0,
             "ticks": ""
            },
            "colorscale": [
             [
              0,
              "#0d0887"
             ],
             [
              0.1111111111111111,
              "#46039f"
             ],
             [
              0.2222222222222222,
              "#7201a8"
             ],
             [
              0.3333333333333333,
              "#9c179e"
             ],
             [
              0.4444444444444444,
              "#bd3786"
             ],
             [
              0.5555555555555556,
              "#d8576b"
             ],
             [
              0.6666666666666666,
              "#ed7953"
             ],
             [
              0.7777777777777778,
              "#fb9f3a"
             ],
             [
              0.8888888888888888,
              "#fdca26"
             ],
             [
              1,
              "#f0f921"
             ]
            ],
            "type": "heatmap"
           }
          ],
          "heatmapgl": [
           {
            "colorbar": {
             "outlinewidth": 0,
             "ticks": ""
            },
            "colorscale": [
             [
              0,
              "#0d0887"
             ],
             [
              0.1111111111111111,
              "#46039f"
             ],
             [
              0.2222222222222222,
              "#7201a8"
             ],
             [
              0.3333333333333333,
              "#9c179e"
             ],
             [
              0.4444444444444444,
              "#bd3786"
             ],
             [
              0.5555555555555556,
              "#d8576b"
             ],
             [
              0.6666666666666666,
              "#ed7953"
             ],
             [
              0.7777777777777778,
              "#fb9f3a"
             ],
             [
              0.8888888888888888,
              "#fdca26"
             ],
             [
              1,
              "#f0f921"
             ]
            ],
            "type": "heatmapgl"
           }
          ],
          "histogram": [
           {
            "marker": {
             "pattern": {
              "fillmode": "overlay",
              "size": 10,
              "solidity": 0.2
             }
            },
            "type": "histogram"
           }
          ],
          "histogram2d": [
           {
            "colorbar": {
             "outlinewidth": 0,
             "ticks": ""
            },
            "colorscale": [
             [
              0,
              "#0d0887"
             ],
             [
              0.1111111111111111,
              "#46039f"
             ],
             [
              0.2222222222222222,
              "#7201a8"
             ],
             [
              0.3333333333333333,
              "#9c179e"
             ],
             [
              0.4444444444444444,
              "#bd3786"
             ],
             [
              0.5555555555555556,
              "#d8576b"
             ],
             [
              0.6666666666666666,
              "#ed7953"
             ],
             [
              0.7777777777777778,
              "#fb9f3a"
             ],
             [
              0.8888888888888888,
              "#fdca26"
             ],
             [
              1,
              "#f0f921"
             ]
            ],
            "type": "histogram2d"
           }
          ],
          "histogram2dcontour": [
           {
            "colorbar": {
             "outlinewidth": 0,
             "ticks": ""
            },
            "colorscale": [
             [
              0,
              "#0d0887"
             ],
             [
              0.1111111111111111,
              "#46039f"
             ],
             [
              0.2222222222222222,
              "#7201a8"
             ],
             [
              0.3333333333333333,
              "#9c179e"
             ],
             [
              0.4444444444444444,
              "#bd3786"
             ],
             [
              0.5555555555555556,
              "#d8576b"
             ],
             [
              0.6666666666666666,
              "#ed7953"
             ],
             [
              0.7777777777777778,
              "#fb9f3a"
             ],
             [
              0.8888888888888888,
              "#fdca26"
             ],
             [
              1,
              "#f0f921"
             ]
            ],
            "type": "histogram2dcontour"
           }
          ],
          "mesh3d": [
           {
            "colorbar": {
             "outlinewidth": 0,
             "ticks": ""
            },
            "type": "mesh3d"
           }
          ],
          "parcoords": [
           {
            "line": {
             "colorbar": {
              "outlinewidth": 0,
              "ticks": ""
             }
            },
            "type": "parcoords"
           }
          ],
          "pie": [
           {
            "automargin": true,
            "type": "pie"
           }
          ],
          "scatter": [
           {
            "marker": {
             "line": {
              "color": "#283442"
             }
            },
            "type": "scatter"
           }
          ],
          "scatter3d": [
           {
            "line": {
             "colorbar": {
              "outlinewidth": 0,
              "ticks": ""
             }
            },
            "marker": {
             "colorbar": {
              "outlinewidth": 0,
              "ticks": ""
             }
            },
            "type": "scatter3d"
           }
          ],
          "scattercarpet": [
           {
            "marker": {
             "colorbar": {
              "outlinewidth": 0,
              "ticks": ""
             }
            },
            "type": "scattercarpet"
           }
          ],
          "scattergeo": [
           {
            "marker": {
             "colorbar": {
              "outlinewidth": 0,
              "ticks": ""
             }
            },
            "type": "scattergeo"
           }
          ],
          "scattergl": [
           {
            "marker": {
             "line": {
              "color": "#283442"
             }
            },
            "type": "scattergl"
           }
          ],
          "scattermapbox": [
           {
            "marker": {
             "colorbar": {
              "outlinewidth": 0,
              "ticks": ""
             }
            },
            "type": "scattermapbox"
           }
          ],
          "scatterpolar": [
           {
            "marker": {
             "colorbar": {
              "outlinewidth": 0,
              "ticks": ""
             }
            },
            "type": "scatterpolar"
           }
          ],
          "scatterpolargl": [
           {
            "marker": {
             "colorbar": {
              "outlinewidth": 0,
              "ticks": ""
             }
            },
            "type": "scatterpolargl"
           }
          ],
          "scatterternary": [
           {
            "marker": {
             "colorbar": {
              "outlinewidth": 0,
              "ticks": ""
             }
            },
            "type": "scatterternary"
           }
          ],
          "surface": [
           {
            "colorbar": {
             "outlinewidth": 0,
             "ticks": ""
            },
            "colorscale": [
             [
              0,
              "#0d0887"
             ],
             [
              0.1111111111111111,
              "#46039f"
             ],
             [
              0.2222222222222222,
              "#7201a8"
             ],
             [
              0.3333333333333333,
              "#9c179e"
             ],
             [
              0.4444444444444444,
              "#bd3786"
             ],
             [
              0.5555555555555556,
              "#d8576b"
             ],
             [
              0.6666666666666666,
              "#ed7953"
             ],
             [
              0.7777777777777778,
              "#fb9f3a"
             ],
             [
              0.8888888888888888,
              "#fdca26"
             ],
             [
              1,
              "#f0f921"
             ]
            ],
            "type": "surface"
           }
          ],
          "table": [
           {
            "cells": {
             "fill": {
              "color": "#506784"
             },
             "line": {
              "color": "rgb(17,17,17)"
             }
            },
            "header": {
             "fill": {
              "color": "#2a3f5f"
             },
             "line": {
              "color": "rgb(17,17,17)"
             }
            },
            "type": "table"
           }
          ]
         },
         "layout": {
          "annotationdefaults": {
           "arrowcolor": "#f2f5fa",
           "arrowhead": 0,
           "arrowwidth": 1
          },
          "autotypenumbers": "strict",
          "coloraxis": {
           "colorbar": {
            "outlinewidth": 0,
            "ticks": ""
           }
          },
          "colorscale": {
           "diverging": [
            [
             0,
             "#8e0152"
            ],
            [
             0.1,
             "#c51b7d"
            ],
            [
             0.2,
             "#de77ae"
            ],
            [
             0.3,
             "#f1b6da"
            ],
            [
             0.4,
             "#fde0ef"
            ],
            [
             0.5,
             "#f7f7f7"
            ],
            [
             0.6,
             "#e6f5d0"
            ],
            [
             0.7,
             "#b8e186"
            ],
            [
             0.8,
             "#7fbc41"
            ],
            [
             0.9,
             "#4d9221"
            ],
            [
             1,
             "#276419"
            ]
           ],
           "sequential": [
            [
             0,
             "#0d0887"
            ],
            [
             0.1111111111111111,
             "#46039f"
            ],
            [
             0.2222222222222222,
             "#7201a8"
            ],
            [
             0.3333333333333333,
             "#9c179e"
            ],
            [
             0.4444444444444444,
             "#bd3786"
            ],
            [
             0.5555555555555556,
             "#d8576b"
            ],
            [
             0.6666666666666666,
             "#ed7953"
            ],
            [
             0.7777777777777778,
             "#fb9f3a"
            ],
            [
             0.8888888888888888,
             "#fdca26"
            ],
            [
             1,
             "#f0f921"
            ]
           ],
           "sequentialminus": [
            [
             0,
             "#0d0887"
            ],
            [
             0.1111111111111111,
             "#46039f"
            ],
            [
             0.2222222222222222,
             "#7201a8"
            ],
            [
             0.3333333333333333,
             "#9c179e"
            ],
            [
             0.4444444444444444,
             "#bd3786"
            ],
            [
             0.5555555555555556,
             "#d8576b"
            ],
            [
             0.6666666666666666,
             "#ed7953"
            ],
            [
             0.7777777777777778,
             "#fb9f3a"
            ],
            [
             0.8888888888888888,
             "#fdca26"
            ],
            [
             1,
             "#f0f921"
            ]
           ]
          },
          "colorway": [
           "#636efa",
           "#EF553B",
           "#00cc96",
           "#ab63fa",
           "#FFA15A",
           "#19d3f3",
           "#FF6692",
           "#B6E880",
           "#FF97FF",
           "#FECB52"
          ],
          "font": {
           "color": "#f2f5fa"
          },
          "geo": {
           "bgcolor": "rgb(17,17,17)",
           "lakecolor": "rgb(17,17,17)",
           "landcolor": "rgb(17,17,17)",
           "showlakes": true,
           "showland": true,
           "subunitcolor": "#506784"
          },
          "hoverlabel": {
           "align": "left"
          },
          "hovermode": "closest",
          "mapbox": {
           "style": "dark"
          },
          "paper_bgcolor": "rgb(17,17,17)",
          "plot_bgcolor": "rgb(17,17,17)",
          "polar": {
           "angularaxis": {
            "gridcolor": "#506784",
            "linecolor": "#506784",
            "ticks": ""
           },
           "bgcolor": "rgb(17,17,17)",
           "radialaxis": {
            "gridcolor": "#506784",
            "linecolor": "#506784",
            "ticks": ""
           }
          },
          "scene": {
           "xaxis": {
            "backgroundcolor": "rgb(17,17,17)",
            "gridcolor": "#506784",
            "gridwidth": 2,
            "linecolor": "#506784",
            "showbackground": true,
            "ticks": "",
            "zerolinecolor": "#C8D4E3"
           },
           "yaxis": {
            "backgroundcolor": "rgb(17,17,17)",
            "gridcolor": "#506784",
            "gridwidth": 2,
            "linecolor": "#506784",
            "showbackground": true,
            "ticks": "",
            "zerolinecolor": "#C8D4E3"
           },
           "zaxis": {
            "backgroundcolor": "rgb(17,17,17)",
            "gridcolor": "#506784",
            "gridwidth": 2,
            "linecolor": "#506784",
            "showbackground": true,
            "ticks": "",
            "zerolinecolor": "#C8D4E3"
           }
          },
          "shapedefaults": {
           "line": {
            "color": "#f2f5fa"
           }
          },
          "sliderdefaults": {
           "bgcolor": "#C8D4E3",
           "bordercolor": "rgb(17,17,17)",
           "borderwidth": 1,
           "tickwidth": 0
          },
          "ternary": {
           "aaxis": {
            "gridcolor": "#506784",
            "linecolor": "#506784",
            "ticks": ""
           },
           "baxis": {
            "gridcolor": "#506784",
            "linecolor": "#506784",
            "ticks": ""
           },
           "bgcolor": "rgb(17,17,17)",
           "caxis": {
            "gridcolor": "#506784",
            "linecolor": "#506784",
            "ticks": ""
           }
          },
          "title": {
           "x": 0.05
          },
          "updatemenudefaults": {
           "bgcolor": "#506784",
           "borderwidth": 0
          },
          "xaxis": {
           "automargin": true,
           "gridcolor": "#283442",
           "linecolor": "#506784",
           "ticks": "",
           "title": {
            "standoff": 15
           },
           "zerolinecolor": "#283442",
           "zerolinewidth": 2
          },
          "yaxis": {
           "automargin": true,
           "gridcolor": "#283442",
           "linecolor": "#506784",
           "ticks": "",
           "title": {
            "standoff": 15
           },
           "zerolinecolor": "#283442",
           "zerolinewidth": 2
          }
         }
        },
        "title": {
         "text": "Saldo a liquidar por ano do empenho"
        },
        "xaxis": {
         "anchor": "y",
         "domain": [
          0,
          1
         ],
         "title": {
          "text": "Tipo de Nota de Empenho"
         }
        },
        "yaxis": {
         "anchor": "x",
         "domain": [
          0,
          1
         ],
         "title": {
          "text": "Saldo a liquidar"
         },
         "type": "log"
        }
       }
      }
     },
     "metadata": {},
     "output_type": "display_data"
    }
   ],
   "source": [
    "# Saldo a liquidar por tipo de NE\n",
    "cols = ['TIPO_NE', 'A_LIQUIDAR']\n",
    "\n",
    "df_aux = df.loc[:, cols].groupby('TIPO_NE').sum().sort_values(by= 'A_LIQUIDAR', ascending=False).reset_index()\n",
    "df_aux = df_aux[df_aux['A_LIQUIDAR'] > 0]\n",
    "fig = px.bar(df_aux, \n",
    "             x='TIPO_NE', \n",
    "             y='A_LIQUIDAR',\n",
    "             title='Saldo a liquidar por ano do empenho',\n",
    "             labels={'TIPO_NE':'Tipo de Nota de Empenho', 'A_LIQUIDAR':'Saldo a liquidar'},\n",
    "             text_auto='.3s',\n",
    "             height=400,\n",
    "             log_y=True,\n",
    "             color='A_LIQUIDAR',\n",
    "             color_continuous_scale = 'reds',\n",
    "             template='plotly_dark')\n",
    "fig.update_traces(textposition = 'outside', cliponaxis = False, hovertemplate=None)\n",
    "fig.update_layout(hovermode=\"x unified\")\n",
    "\n",
    "fig.show()"
   ]
  },
  {
   "cell_type": "code",
   "execution_count": 13,
   "metadata": {},
   "outputs": [
    {
     "data": {
      "application/vnd.plotly.v1+json": {
       "config": {
        "plotlyServerURL": "https://plot.ly"
       },
       "data": [
        {
         "alignmentgroup": "True",
         "cliponaxis": false,
         "legendgroup": "",
         "marker": {
          "color": [
           2099335.71,
           1958397.89,
           1912628.19,
           1202063.22,
           588780.39,
           542205.38,
           417551.91000000003,
           83847.20999999999,
           50565.729999999996,
           29974.7,
           17850,
           7067.03
          ],
          "coloraxis": "coloraxis",
          "pattern": {
           "shape": ""
          }
         },
         "name": "",
         "offsetgroup": "",
         "orientation": "v",
         "showlegend": false,
         "textposition": "outside",
         "texttemplate": "%{y:.3s}",
         "type": "bar",
         "x": [
          "DECEX/GESTOR",
          "COEX/GESTOR",
          "DEC-GESTOR",
          "DGO",
          "ESA",
          "DECEX - GESTOR",
          "DGP",
          "DCT - GESTOR",
          "COEX - GESTOR",
          "F EX",
          "DEORF/MD",
          "COTER - GESTOR"
         ],
         "xaxis": "x",
         "y": [
          2099335.71,
          1958397.89,
          1912628.19,
          1202063.22,
          588780.39,
          542205.38,
          417551.91000000003,
          83847.20999999999,
          50565.729999999996,
          29974.7,
          17850,
          7067.03
         ],
         "yaxis": "y"
        }
       ],
       "layout": {
        "barmode": "relative",
        "coloraxis": {
         "colorbar": {
          "title": {
           "text": "Saldo a liquidar"
          }
         },
         "colorscale": [
          [
           0,
           "rgb(255,245,240)"
          ],
          [
           0.125,
           "rgb(254,224,210)"
          ],
          [
           0.25,
           "rgb(252,187,161)"
          ],
          [
           0.375,
           "rgb(252,146,114)"
          ],
          [
           0.5,
           "rgb(251,106,74)"
          ],
          [
           0.625,
           "rgb(239,59,44)"
          ],
          [
           0.75,
           "rgb(203,24,29)"
          ],
          [
           0.875,
           "rgb(165,15,21)"
          ],
          [
           1,
           "rgb(103,0,13)"
          ]
         ]
        },
        "height": 400,
        "hovermode": "x unified",
        "legend": {
         "tracegroupgap": 0
        },
        "template": {
         "data": {
          "bar": [
           {
            "error_x": {
             "color": "#f2f5fa"
            },
            "error_y": {
             "color": "#f2f5fa"
            },
            "marker": {
             "line": {
              "color": "rgb(17,17,17)",
              "width": 0.5
             },
             "pattern": {
              "fillmode": "overlay",
              "size": 10,
              "solidity": 0.2
             }
            },
            "type": "bar"
           }
          ],
          "barpolar": [
           {
            "marker": {
             "line": {
              "color": "rgb(17,17,17)",
              "width": 0.5
             },
             "pattern": {
              "fillmode": "overlay",
              "size": 10,
              "solidity": 0.2
             }
            },
            "type": "barpolar"
           }
          ],
          "carpet": [
           {
            "aaxis": {
             "endlinecolor": "#A2B1C6",
             "gridcolor": "#506784",
             "linecolor": "#506784",
             "minorgridcolor": "#506784",
             "startlinecolor": "#A2B1C6"
            },
            "baxis": {
             "endlinecolor": "#A2B1C6",
             "gridcolor": "#506784",
             "linecolor": "#506784",
             "minorgridcolor": "#506784",
             "startlinecolor": "#A2B1C6"
            },
            "type": "carpet"
           }
          ],
          "choropleth": [
           {
            "colorbar": {
             "outlinewidth": 0,
             "ticks": ""
            },
            "type": "choropleth"
           }
          ],
          "contour": [
           {
            "colorbar": {
             "outlinewidth": 0,
             "ticks": ""
            },
            "colorscale": [
             [
              0,
              "#0d0887"
             ],
             [
              0.1111111111111111,
              "#46039f"
             ],
             [
              0.2222222222222222,
              "#7201a8"
             ],
             [
              0.3333333333333333,
              "#9c179e"
             ],
             [
              0.4444444444444444,
              "#bd3786"
             ],
             [
              0.5555555555555556,
              "#d8576b"
             ],
             [
              0.6666666666666666,
              "#ed7953"
             ],
             [
              0.7777777777777778,
              "#fb9f3a"
             ],
             [
              0.8888888888888888,
              "#fdca26"
             ],
             [
              1,
              "#f0f921"
             ]
            ],
            "type": "contour"
           }
          ],
          "contourcarpet": [
           {
            "colorbar": {
             "outlinewidth": 0,
             "ticks": ""
            },
            "type": "contourcarpet"
           }
          ],
          "heatmap": [
           {
            "colorbar": {
             "outlinewidth": 0,
             "ticks": ""
            },
            "colorscale": [
             [
              0,
              "#0d0887"
             ],
             [
              0.1111111111111111,
              "#46039f"
             ],
             [
              0.2222222222222222,
              "#7201a8"
             ],
             [
              0.3333333333333333,
              "#9c179e"
             ],
             [
              0.4444444444444444,
              "#bd3786"
             ],
             [
              0.5555555555555556,
              "#d8576b"
             ],
             [
              0.6666666666666666,
              "#ed7953"
             ],
             [
              0.7777777777777778,
              "#fb9f3a"
             ],
             [
              0.8888888888888888,
              "#fdca26"
             ],
             [
              1,
              "#f0f921"
             ]
            ],
            "type": "heatmap"
           }
          ],
          "heatmapgl": [
           {
            "colorbar": {
             "outlinewidth": 0,
             "ticks": ""
            },
            "colorscale": [
             [
              0,
              "#0d0887"
             ],
             [
              0.1111111111111111,
              "#46039f"
             ],
             [
              0.2222222222222222,
              "#7201a8"
             ],
             [
              0.3333333333333333,
              "#9c179e"
             ],
             [
              0.4444444444444444,
              "#bd3786"
             ],
             [
              0.5555555555555556,
              "#d8576b"
             ],
             [
              0.6666666666666666,
              "#ed7953"
             ],
             [
              0.7777777777777778,
              "#fb9f3a"
             ],
             [
              0.8888888888888888,
              "#fdca26"
             ],
             [
              1,
              "#f0f921"
             ]
            ],
            "type": "heatmapgl"
           }
          ],
          "histogram": [
           {
            "marker": {
             "pattern": {
              "fillmode": "overlay",
              "size": 10,
              "solidity": 0.2
             }
            },
            "type": "histogram"
           }
          ],
          "histogram2d": [
           {
            "colorbar": {
             "outlinewidth": 0,
             "ticks": ""
            },
            "colorscale": [
             [
              0,
              "#0d0887"
             ],
             [
              0.1111111111111111,
              "#46039f"
             ],
             [
              0.2222222222222222,
              "#7201a8"
             ],
             [
              0.3333333333333333,
              "#9c179e"
             ],
             [
              0.4444444444444444,
              "#bd3786"
             ],
             [
              0.5555555555555556,
              "#d8576b"
             ],
             [
              0.6666666666666666,
              "#ed7953"
             ],
             [
              0.7777777777777778,
              "#fb9f3a"
             ],
             [
              0.8888888888888888,
              "#fdca26"
             ],
             [
              1,
              "#f0f921"
             ]
            ],
            "type": "histogram2d"
           }
          ],
          "histogram2dcontour": [
           {
            "colorbar": {
             "outlinewidth": 0,
             "ticks": ""
            },
            "colorscale": [
             [
              0,
              "#0d0887"
             ],
             [
              0.1111111111111111,
              "#46039f"
             ],
             [
              0.2222222222222222,
              "#7201a8"
             ],
             [
              0.3333333333333333,
              "#9c179e"
             ],
             [
              0.4444444444444444,
              "#bd3786"
             ],
             [
              0.5555555555555556,
              "#d8576b"
             ],
             [
              0.6666666666666666,
              "#ed7953"
             ],
             [
              0.7777777777777778,
              "#fb9f3a"
             ],
             [
              0.8888888888888888,
              "#fdca26"
             ],
             [
              1,
              "#f0f921"
             ]
            ],
            "type": "histogram2dcontour"
           }
          ],
          "mesh3d": [
           {
            "colorbar": {
             "outlinewidth": 0,
             "ticks": ""
            },
            "type": "mesh3d"
           }
          ],
          "parcoords": [
           {
            "line": {
             "colorbar": {
              "outlinewidth": 0,
              "ticks": ""
             }
            },
            "type": "parcoords"
           }
          ],
          "pie": [
           {
            "automargin": true,
            "type": "pie"
           }
          ],
          "scatter": [
           {
            "marker": {
             "line": {
              "color": "#283442"
             }
            },
            "type": "scatter"
           }
          ],
          "scatter3d": [
           {
            "line": {
             "colorbar": {
              "outlinewidth": 0,
              "ticks": ""
             }
            },
            "marker": {
             "colorbar": {
              "outlinewidth": 0,
              "ticks": ""
             }
            },
            "type": "scatter3d"
           }
          ],
          "scattercarpet": [
           {
            "marker": {
             "colorbar": {
              "outlinewidth": 0,
              "ticks": ""
             }
            },
            "type": "scattercarpet"
           }
          ],
          "scattergeo": [
           {
            "marker": {
             "colorbar": {
              "outlinewidth": 0,
              "ticks": ""
             }
            },
            "type": "scattergeo"
           }
          ],
          "scattergl": [
           {
            "marker": {
             "line": {
              "color": "#283442"
             }
            },
            "type": "scattergl"
           }
          ],
          "scattermapbox": [
           {
            "marker": {
             "colorbar": {
              "outlinewidth": 0,
              "ticks": ""
             }
            },
            "type": "scattermapbox"
           }
          ],
          "scatterpolar": [
           {
            "marker": {
             "colorbar": {
              "outlinewidth": 0,
              "ticks": ""
             }
            },
            "type": "scatterpolar"
           }
          ],
          "scatterpolargl": [
           {
            "marker": {
             "colorbar": {
              "outlinewidth": 0,
              "ticks": ""
             }
            },
            "type": "scatterpolargl"
           }
          ],
          "scatterternary": [
           {
            "marker": {
             "colorbar": {
              "outlinewidth": 0,
              "ticks": ""
             }
            },
            "type": "scatterternary"
           }
          ],
          "surface": [
           {
            "colorbar": {
             "outlinewidth": 0,
             "ticks": ""
            },
            "colorscale": [
             [
              0,
              "#0d0887"
             ],
             [
              0.1111111111111111,
              "#46039f"
             ],
             [
              0.2222222222222222,
              "#7201a8"
             ],
             [
              0.3333333333333333,
              "#9c179e"
             ],
             [
              0.4444444444444444,
              "#bd3786"
             ],
             [
              0.5555555555555556,
              "#d8576b"
             ],
             [
              0.6666666666666666,
              "#ed7953"
             ],
             [
              0.7777777777777778,
              "#fb9f3a"
             ],
             [
              0.8888888888888888,
              "#fdca26"
             ],
             [
              1,
              "#f0f921"
             ]
            ],
            "type": "surface"
           }
          ],
          "table": [
           {
            "cells": {
             "fill": {
              "color": "#506784"
             },
             "line": {
              "color": "rgb(17,17,17)"
             }
            },
            "header": {
             "fill": {
              "color": "#2a3f5f"
             },
             "line": {
              "color": "rgb(17,17,17)"
             }
            },
            "type": "table"
           }
          ]
         },
         "layout": {
          "annotationdefaults": {
           "arrowcolor": "#f2f5fa",
           "arrowhead": 0,
           "arrowwidth": 1
          },
          "autotypenumbers": "strict",
          "coloraxis": {
           "colorbar": {
            "outlinewidth": 0,
            "ticks": ""
           }
          },
          "colorscale": {
           "diverging": [
            [
             0,
             "#8e0152"
            ],
            [
             0.1,
             "#c51b7d"
            ],
            [
             0.2,
             "#de77ae"
            ],
            [
             0.3,
             "#f1b6da"
            ],
            [
             0.4,
             "#fde0ef"
            ],
            [
             0.5,
             "#f7f7f7"
            ],
            [
             0.6,
             "#e6f5d0"
            ],
            [
             0.7,
             "#b8e186"
            ],
            [
             0.8,
             "#7fbc41"
            ],
            [
             0.9,
             "#4d9221"
            ],
            [
             1,
             "#276419"
            ]
           ],
           "sequential": [
            [
             0,
             "#0d0887"
            ],
            [
             0.1111111111111111,
             "#46039f"
            ],
            [
             0.2222222222222222,
             "#7201a8"
            ],
            [
             0.3333333333333333,
             "#9c179e"
            ],
            [
             0.4444444444444444,
             "#bd3786"
            ],
            [
             0.5555555555555556,
             "#d8576b"
            ],
            [
             0.6666666666666666,
             "#ed7953"
            ],
            [
             0.7777777777777778,
             "#fb9f3a"
            ],
            [
             0.8888888888888888,
             "#fdca26"
            ],
            [
             1,
             "#f0f921"
            ]
           ],
           "sequentialminus": [
            [
             0,
             "#0d0887"
            ],
            [
             0.1111111111111111,
             "#46039f"
            ],
            [
             0.2222222222222222,
             "#7201a8"
            ],
            [
             0.3333333333333333,
             "#9c179e"
            ],
            [
             0.4444444444444444,
             "#bd3786"
            ],
            [
             0.5555555555555556,
             "#d8576b"
            ],
            [
             0.6666666666666666,
             "#ed7953"
            ],
            [
             0.7777777777777778,
             "#fb9f3a"
            ],
            [
             0.8888888888888888,
             "#fdca26"
            ],
            [
             1,
             "#f0f921"
            ]
           ]
          },
          "colorway": [
           "#636efa",
           "#EF553B",
           "#00cc96",
           "#ab63fa",
           "#FFA15A",
           "#19d3f3",
           "#FF6692",
           "#B6E880",
           "#FF97FF",
           "#FECB52"
          ],
          "font": {
           "color": "#f2f5fa"
          },
          "geo": {
           "bgcolor": "rgb(17,17,17)",
           "lakecolor": "rgb(17,17,17)",
           "landcolor": "rgb(17,17,17)",
           "showlakes": true,
           "showland": true,
           "subunitcolor": "#506784"
          },
          "hoverlabel": {
           "align": "left"
          },
          "hovermode": "closest",
          "mapbox": {
           "style": "dark"
          },
          "paper_bgcolor": "rgb(17,17,17)",
          "plot_bgcolor": "rgb(17,17,17)",
          "polar": {
           "angularaxis": {
            "gridcolor": "#506784",
            "linecolor": "#506784",
            "ticks": ""
           },
           "bgcolor": "rgb(17,17,17)",
           "radialaxis": {
            "gridcolor": "#506784",
            "linecolor": "#506784",
            "ticks": ""
           }
          },
          "scene": {
           "xaxis": {
            "backgroundcolor": "rgb(17,17,17)",
            "gridcolor": "#506784",
            "gridwidth": 2,
            "linecolor": "#506784",
            "showbackground": true,
            "ticks": "",
            "zerolinecolor": "#C8D4E3"
           },
           "yaxis": {
            "backgroundcolor": "rgb(17,17,17)",
            "gridcolor": "#506784",
            "gridwidth": 2,
            "linecolor": "#506784",
            "showbackground": true,
            "ticks": "",
            "zerolinecolor": "#C8D4E3"
           },
           "zaxis": {
            "backgroundcolor": "rgb(17,17,17)",
            "gridcolor": "#506784",
            "gridwidth": 2,
            "linecolor": "#506784",
            "showbackground": true,
            "ticks": "",
            "zerolinecolor": "#C8D4E3"
           }
          },
          "shapedefaults": {
           "line": {
            "color": "#f2f5fa"
           }
          },
          "sliderdefaults": {
           "bgcolor": "#C8D4E3",
           "bordercolor": "rgb(17,17,17)",
           "borderwidth": 1,
           "tickwidth": 0
          },
          "ternary": {
           "aaxis": {
            "gridcolor": "#506784",
            "linecolor": "#506784",
            "ticks": ""
           },
           "baxis": {
            "gridcolor": "#506784",
            "linecolor": "#506784",
            "ticks": ""
           },
           "bgcolor": "rgb(17,17,17)",
           "caxis": {
            "gridcolor": "#506784",
            "linecolor": "#506784",
            "ticks": ""
           }
          },
          "title": {
           "x": 0.05
          },
          "updatemenudefaults": {
           "bgcolor": "#506784",
           "borderwidth": 0
          },
          "xaxis": {
           "automargin": true,
           "gridcolor": "#283442",
           "linecolor": "#506784",
           "ticks": "",
           "title": {
            "standoff": 15
           },
           "zerolinecolor": "#283442",
           "zerolinewidth": 2
          },
          "yaxis": {
           "automargin": true,
           "gridcolor": "#283442",
           "linecolor": "#506784",
           "ticks": "",
           "title": {
            "standoff": 15
           },
           "zerolinecolor": "#283442",
           "zerolinewidth": 2
          }
         }
        },
        "title": {
         "text": "Saldo a liquidar por ano do empenho"
        },
        "xaxis": {
         "anchor": "y",
         "domain": [
          0,
          1
         ],
         "title": {
          "text": "Nome das UGR"
         }
        },
        "yaxis": {
         "anchor": "x",
         "domain": [
          0,
          1
         ],
         "title": {
          "text": "Saldo a liquidar"
         },
         "type": "log"
        }
       }
      }
     },
     "metadata": {},
     "output_type": "display_data"
    }
   ],
   "source": [
    "# Saldo a liquidar por tipo de NE\n",
    "cols = ['NOME_UGR', 'A_LIQUIDAR']\n",
    "\n",
    "df_aux = df.loc[:, cols].groupby('NOME_UGR').sum().sort_values(by= 'A_LIQUIDAR', ascending=False).reset_index()\n",
    "df_aux = df_aux[df_aux['A_LIQUIDAR'] > 0]\n",
    "fig = px.bar(df_aux, \n",
    "             x='NOME_UGR', \n",
    "             y='A_LIQUIDAR',\n",
    "             title='Saldo a liquidar por ano do empenho',\n",
    "             labels={'NOME_UGR':'Nome das UGR', 'A_LIQUIDAR':'Saldo a liquidar'},\n",
    "             text_auto='.3s',\n",
    "             height=400,\n",
    "             log_y=True,\n",
    "             color='A_LIQUIDAR',\n",
    "             color_continuous_scale = 'reds',\n",
    "             template='plotly_dark')\n",
    "fig.update_traces(textposition = 'outside', cliponaxis = False, hovertemplate=None)\n",
    "fig.update_layout(hovermode=\"x unified\")\n",
    "\n",
    "fig.show()"
   ]
  },
  {
   "cell_type": "code",
   "execution_count": 14,
   "metadata": {},
   "outputs": [
    {
     "data": {
      "application/vnd.plotly.v1+json": {
       "config": {
        "plotlyServerURL": "https://plot.ly"
       },
       "data": [
        {
         "cliponaxis": false,
         "name": "A Liquidar",
         "textposition": "outside",
         "type": "bar",
         "x": [
          "339039",
          "339030",
          "339033",
          "449052",
          "339093",
          "339015",
          "339037",
          "339040",
          "339047",
          "339147"
         ],
         "y": [
          2740406.3,
          2090693.67,
          1629783.41,
          1352878.1,
          347078.88,
          323774.93,
          302689.17,
          121189.79,
          1773.1,
          0.01
         ]
        },
        {
         "cliponaxis": false,
         "name": "Liquidado a pagar",
         "textposition": "outside",
         "type": "bar",
         "x": [
          "339039",
          "339030",
          "339033",
          "449052",
          "339093",
          "339015",
          "339037",
          "339040",
          "339047",
          "339147"
         ],
         "y": [
          132769.76,
          32205.56,
          9797.369999999999,
          1711.3000000000002,
          87070.53,
          7742.86,
          14283.98,
          1436.21,
          0,
          1023.87
         ]
        },
        {
         "cliponaxis": false,
         "name": "Pago",
         "textposition": "outside",
         "type": "bar",
         "x": [
          "339039",
          "339030",
          "339033",
          "449052",
          "339093",
          "339015",
          "339037",
          "339040",
          "339047",
          "339147"
         ],
         "y": [
          10491293.76,
          2217165.21,
          700931.26,
          625724.19,
          1245352.8,
          164322.72,
          254605.16999999998,
          132311.09,
          47714.19,
          27540.54
         ]
        }
       ],
       "layout": {
        "hovermode": "x unified",
        "template": {
         "data": {
          "bar": [
           {
            "error_x": {
             "color": "#2a3f5f"
            },
            "error_y": {
             "color": "#2a3f5f"
            },
            "marker": {
             "line": {
              "color": "#E5ECF6",
              "width": 0.5
             },
             "pattern": {
              "fillmode": "overlay",
              "size": 10,
              "solidity": 0.2
             }
            },
            "type": "bar"
           }
          ],
          "barpolar": [
           {
            "marker": {
             "line": {
              "color": "#E5ECF6",
              "width": 0.5
             },
             "pattern": {
              "fillmode": "overlay",
              "size": 10,
              "solidity": 0.2
             }
            },
            "type": "barpolar"
           }
          ],
          "carpet": [
           {
            "aaxis": {
             "endlinecolor": "#2a3f5f",
             "gridcolor": "white",
             "linecolor": "white",
             "minorgridcolor": "white",
             "startlinecolor": "#2a3f5f"
            },
            "baxis": {
             "endlinecolor": "#2a3f5f",
             "gridcolor": "white",
             "linecolor": "white",
             "minorgridcolor": "white",
             "startlinecolor": "#2a3f5f"
            },
            "type": "carpet"
           }
          ],
          "choropleth": [
           {
            "colorbar": {
             "outlinewidth": 0,
             "ticks": ""
            },
            "type": "choropleth"
           }
          ],
          "contour": [
           {
            "colorbar": {
             "outlinewidth": 0,
             "ticks": ""
            },
            "colorscale": [
             [
              0,
              "#0d0887"
             ],
             [
              0.1111111111111111,
              "#46039f"
             ],
             [
              0.2222222222222222,
              "#7201a8"
             ],
             [
              0.3333333333333333,
              "#9c179e"
             ],
             [
              0.4444444444444444,
              "#bd3786"
             ],
             [
              0.5555555555555556,
              "#d8576b"
             ],
             [
              0.6666666666666666,
              "#ed7953"
             ],
             [
              0.7777777777777778,
              "#fb9f3a"
             ],
             [
              0.8888888888888888,
              "#fdca26"
             ],
             [
              1,
              "#f0f921"
             ]
            ],
            "type": "contour"
           }
          ],
          "contourcarpet": [
           {
            "colorbar": {
             "outlinewidth": 0,
             "ticks": ""
            },
            "type": "contourcarpet"
           }
          ],
          "heatmap": [
           {
            "colorbar": {
             "outlinewidth": 0,
             "ticks": ""
            },
            "colorscale": [
             [
              0,
              "#0d0887"
             ],
             [
              0.1111111111111111,
              "#46039f"
             ],
             [
              0.2222222222222222,
              "#7201a8"
             ],
             [
              0.3333333333333333,
              "#9c179e"
             ],
             [
              0.4444444444444444,
              "#bd3786"
             ],
             [
              0.5555555555555556,
              "#d8576b"
             ],
             [
              0.6666666666666666,
              "#ed7953"
             ],
             [
              0.7777777777777778,
              "#fb9f3a"
             ],
             [
              0.8888888888888888,
              "#fdca26"
             ],
             [
              1,
              "#f0f921"
             ]
            ],
            "type": "heatmap"
           }
          ],
          "heatmapgl": [
           {
            "colorbar": {
             "outlinewidth": 0,
             "ticks": ""
            },
            "colorscale": [
             [
              0,
              "#0d0887"
             ],
             [
              0.1111111111111111,
              "#46039f"
             ],
             [
              0.2222222222222222,
              "#7201a8"
             ],
             [
              0.3333333333333333,
              "#9c179e"
             ],
             [
              0.4444444444444444,
              "#bd3786"
             ],
             [
              0.5555555555555556,
              "#d8576b"
             ],
             [
              0.6666666666666666,
              "#ed7953"
             ],
             [
              0.7777777777777778,
              "#fb9f3a"
             ],
             [
              0.8888888888888888,
              "#fdca26"
             ],
             [
              1,
              "#f0f921"
             ]
            ],
            "type": "heatmapgl"
           }
          ],
          "histogram": [
           {
            "marker": {
             "pattern": {
              "fillmode": "overlay",
              "size": 10,
              "solidity": 0.2
             }
            },
            "type": "histogram"
           }
          ],
          "histogram2d": [
           {
            "colorbar": {
             "outlinewidth": 0,
             "ticks": ""
            },
            "colorscale": [
             [
              0,
              "#0d0887"
             ],
             [
              0.1111111111111111,
              "#46039f"
             ],
             [
              0.2222222222222222,
              "#7201a8"
             ],
             [
              0.3333333333333333,
              "#9c179e"
             ],
             [
              0.4444444444444444,
              "#bd3786"
             ],
             [
              0.5555555555555556,
              "#d8576b"
             ],
             [
              0.6666666666666666,
              "#ed7953"
             ],
             [
              0.7777777777777778,
              "#fb9f3a"
             ],
             [
              0.8888888888888888,
              "#fdca26"
             ],
             [
              1,
              "#f0f921"
             ]
            ],
            "type": "histogram2d"
           }
          ],
          "histogram2dcontour": [
           {
            "colorbar": {
             "outlinewidth": 0,
             "ticks": ""
            },
            "colorscale": [
             [
              0,
              "#0d0887"
             ],
             [
              0.1111111111111111,
              "#46039f"
             ],
             [
              0.2222222222222222,
              "#7201a8"
             ],
             [
              0.3333333333333333,
              "#9c179e"
             ],
             [
              0.4444444444444444,
              "#bd3786"
             ],
             [
              0.5555555555555556,
              "#d8576b"
             ],
             [
              0.6666666666666666,
              "#ed7953"
             ],
             [
              0.7777777777777778,
              "#fb9f3a"
             ],
             [
              0.8888888888888888,
              "#fdca26"
             ],
             [
              1,
              "#f0f921"
             ]
            ],
            "type": "histogram2dcontour"
           }
          ],
          "mesh3d": [
           {
            "colorbar": {
             "outlinewidth": 0,
             "ticks": ""
            },
            "type": "mesh3d"
           }
          ],
          "parcoords": [
           {
            "line": {
             "colorbar": {
              "outlinewidth": 0,
              "ticks": ""
             }
            },
            "type": "parcoords"
           }
          ],
          "pie": [
           {
            "automargin": true,
            "type": "pie"
           }
          ],
          "scatter": [
           {
            "fillpattern": {
             "fillmode": "overlay",
             "size": 10,
             "solidity": 0.2
            },
            "type": "scatter"
           }
          ],
          "scatter3d": [
           {
            "line": {
             "colorbar": {
              "outlinewidth": 0,
              "ticks": ""
             }
            },
            "marker": {
             "colorbar": {
              "outlinewidth": 0,
              "ticks": ""
             }
            },
            "type": "scatter3d"
           }
          ],
          "scattercarpet": [
           {
            "marker": {
             "colorbar": {
              "outlinewidth": 0,
              "ticks": ""
             }
            },
            "type": "scattercarpet"
           }
          ],
          "scattergeo": [
           {
            "marker": {
             "colorbar": {
              "outlinewidth": 0,
              "ticks": ""
             }
            },
            "type": "scattergeo"
           }
          ],
          "scattergl": [
           {
            "marker": {
             "colorbar": {
              "outlinewidth": 0,
              "ticks": ""
             }
            },
            "type": "scattergl"
           }
          ],
          "scattermapbox": [
           {
            "marker": {
             "colorbar": {
              "outlinewidth": 0,
              "ticks": ""
             }
            },
            "type": "scattermapbox"
           }
          ],
          "scatterpolar": [
           {
            "marker": {
             "colorbar": {
              "outlinewidth": 0,
              "ticks": ""
             }
            },
            "type": "scatterpolar"
           }
          ],
          "scatterpolargl": [
           {
            "marker": {
             "colorbar": {
              "outlinewidth": 0,
              "ticks": ""
             }
            },
            "type": "scatterpolargl"
           }
          ],
          "scatterternary": [
           {
            "marker": {
             "colorbar": {
              "outlinewidth": 0,
              "ticks": ""
             }
            },
            "type": "scatterternary"
           }
          ],
          "surface": [
           {
            "colorbar": {
             "outlinewidth": 0,
             "ticks": ""
            },
            "colorscale": [
             [
              0,
              "#0d0887"
             ],
             [
              0.1111111111111111,
              "#46039f"
             ],
             [
              0.2222222222222222,
              "#7201a8"
             ],
             [
              0.3333333333333333,
              "#9c179e"
             ],
             [
              0.4444444444444444,
              "#bd3786"
             ],
             [
              0.5555555555555556,
              "#d8576b"
             ],
             [
              0.6666666666666666,
              "#ed7953"
             ],
             [
              0.7777777777777778,
              "#fb9f3a"
             ],
             [
              0.8888888888888888,
              "#fdca26"
             ],
             [
              1,
              "#f0f921"
             ]
            ],
            "type": "surface"
           }
          ],
          "table": [
           {
            "cells": {
             "fill": {
              "color": "#EBF0F8"
             },
             "line": {
              "color": "white"
             }
            },
            "header": {
             "fill": {
              "color": "#C8D4E3"
             },
             "line": {
              "color": "white"
             }
            },
            "type": "table"
           }
          ]
         },
         "layout": {
          "annotationdefaults": {
           "arrowcolor": "#2a3f5f",
           "arrowhead": 0,
           "arrowwidth": 1
          },
          "autotypenumbers": "strict",
          "coloraxis": {
           "colorbar": {
            "outlinewidth": 0,
            "ticks": ""
           }
          },
          "colorscale": {
           "diverging": [
            [
             0,
             "#8e0152"
            ],
            [
             0.1,
             "#c51b7d"
            ],
            [
             0.2,
             "#de77ae"
            ],
            [
             0.3,
             "#f1b6da"
            ],
            [
             0.4,
             "#fde0ef"
            ],
            [
             0.5,
             "#f7f7f7"
            ],
            [
             0.6,
             "#e6f5d0"
            ],
            [
             0.7,
             "#b8e186"
            ],
            [
             0.8,
             "#7fbc41"
            ],
            [
             0.9,
             "#4d9221"
            ],
            [
             1,
             "#276419"
            ]
           ],
           "sequential": [
            [
             0,
             "#0d0887"
            ],
            [
             0.1111111111111111,
             "#46039f"
            ],
            [
             0.2222222222222222,
             "#7201a8"
            ],
            [
             0.3333333333333333,
             "#9c179e"
            ],
            [
             0.4444444444444444,
             "#bd3786"
            ],
            [
             0.5555555555555556,
             "#d8576b"
            ],
            [
             0.6666666666666666,
             "#ed7953"
            ],
            [
             0.7777777777777778,
             "#fb9f3a"
            ],
            [
             0.8888888888888888,
             "#fdca26"
            ],
            [
             1,
             "#f0f921"
            ]
           ],
           "sequentialminus": [
            [
             0,
             "#0d0887"
            ],
            [
             0.1111111111111111,
             "#46039f"
            ],
            [
             0.2222222222222222,
             "#7201a8"
            ],
            [
             0.3333333333333333,
             "#9c179e"
            ],
            [
             0.4444444444444444,
             "#bd3786"
            ],
            [
             0.5555555555555556,
             "#d8576b"
            ],
            [
             0.6666666666666666,
             "#ed7953"
            ],
            [
             0.7777777777777778,
             "#fb9f3a"
            ],
            [
             0.8888888888888888,
             "#fdca26"
            ],
            [
             1,
             "#f0f921"
            ]
           ]
          },
          "colorway": [
           "#636efa",
           "#EF553B",
           "#00cc96",
           "#ab63fa",
           "#FFA15A",
           "#19d3f3",
           "#FF6692",
           "#B6E880",
           "#FF97FF",
           "#FECB52"
          ],
          "font": {
           "color": "#2a3f5f"
          },
          "geo": {
           "bgcolor": "white",
           "lakecolor": "white",
           "landcolor": "#E5ECF6",
           "showlakes": true,
           "showland": true,
           "subunitcolor": "white"
          },
          "hoverlabel": {
           "align": "left"
          },
          "hovermode": "closest",
          "mapbox": {
           "style": "light"
          },
          "paper_bgcolor": "white",
          "plot_bgcolor": "#E5ECF6",
          "polar": {
           "angularaxis": {
            "gridcolor": "white",
            "linecolor": "white",
            "ticks": ""
           },
           "bgcolor": "#E5ECF6",
           "radialaxis": {
            "gridcolor": "white",
            "linecolor": "white",
            "ticks": ""
           }
          },
          "scene": {
           "xaxis": {
            "backgroundcolor": "#E5ECF6",
            "gridcolor": "white",
            "gridwidth": 2,
            "linecolor": "white",
            "showbackground": true,
            "ticks": "",
            "zerolinecolor": "white"
           },
           "yaxis": {
            "backgroundcolor": "#E5ECF6",
            "gridcolor": "white",
            "gridwidth": 2,
            "linecolor": "white",
            "showbackground": true,
            "ticks": "",
            "zerolinecolor": "white"
           },
           "zaxis": {
            "backgroundcolor": "#E5ECF6",
            "gridcolor": "white",
            "gridwidth": 2,
            "linecolor": "white",
            "showbackground": true,
            "ticks": "",
            "zerolinecolor": "white"
           }
          },
          "shapedefaults": {
           "line": {
            "color": "#2a3f5f"
           }
          },
          "ternary": {
           "aaxis": {
            "gridcolor": "white",
            "linecolor": "white",
            "ticks": ""
           },
           "baxis": {
            "gridcolor": "white",
            "linecolor": "white",
            "ticks": ""
           },
           "bgcolor": "#E5ECF6",
           "caxis": {
            "gridcolor": "white",
            "linecolor": "white",
            "ticks": ""
           }
          },
          "title": {
           "x": 0.05
          },
          "xaxis": {
           "automargin": true,
           "gridcolor": "white",
           "linecolor": "white",
           "ticks": "",
           "title": {
            "standoff": 15
           },
           "zerolinecolor": "white",
           "zerolinewidth": 2
          },
          "yaxis": {
           "automargin": true,
           "gridcolor": "white",
           "linecolor": "white",
           "ticks": "",
           "title": {
            "standoff": 15
           },
           "zerolinecolor": "white",
           "zerolinewidth": 2
          }
         }
        },
        "yaxis": {
         "type": "log"
        }
       }
      }
     },
     "metadata": {},
     "output_type": "display_data"
    }
   ],
   "source": [
    "# Saldo a liquidar por ND\n",
    "cols = ['ND', 'A_LIQUIDAR', 'LIQUIDADO_A_PAGAR', 'PAGO']\n",
    "\n",
    "df_aux = df.loc[:, cols].groupby('ND').sum().sort_values(by= 'A_LIQUIDAR', ascending=False).reset_index()\n",
    "df_aux = df_aux[df_aux['A_LIQUIDAR'] > 0]\n",
    "# Criando o gráfico\n",
    "fig = go.Figure()\n",
    "\n",
    "# Adicionando as colunas y1, y2 e y3 no eixo y\n",
    "fig.add_trace(go.Bar(x=df_aux['ND'], y=df_aux['A_LIQUIDAR'], name='A Liquidar'))\n",
    "fig.add_trace(go.Bar(x=df_aux['ND'], y=df_aux['LIQUIDADO_A_PAGAR'], name='Liquidado a pagar'))\n",
    "fig.add_trace(go.Bar(x=df_aux['ND'], y=df_aux['PAGO'], name='Pago'))\n",
    "\n",
    "fig.update_traces(textposition = 'outside', cliponaxis = False, hovertemplate=None)\n",
    "fig.update_layout(hovermode=\"x unified\")\n",
    "fig.update_yaxes(type=\"log\")\n",
    "\n",
    "fig.show()"
   ]
  },
  {
   "cell_type": "markdown",
   "metadata": {},
   "source": [
    "# Suporte para o Dashboard"
   ]
  },
  {
   "cell_type": "code",
   "execution_count": 15,
   "metadata": {},
   "outputs": [
    {
     "data": {
      "text/html": [
       "<div>\n",
       "<style scoped>\n",
       "    .dataframe tbody tr th:only-of-type {\n",
       "        vertical-align: middle;\n",
       "    }\n",
       "\n",
       "    .dataframe tbody tr th {\n",
       "        vertical-align: top;\n",
       "    }\n",
       "\n",
       "    .dataframe thead th {\n",
       "        text-align: right;\n",
       "    }\n",
       "</style>\n",
       "<table border=\"1\" class=\"dataframe\">\n",
       "  <thead>\n",
       "    <tr style=\"text-align: right;\">\n",
       "      <th></th>\n",
       "      <th>NE</th>\n",
       "      <th>A_LIQUIDAR</th>\n",
       "      <th>DIAS</th>\n",
       "      <th>NOME_NDSI</th>\n",
       "      <th>NDSI</th>\n",
       "    </tr>\n",
       "  </thead>\n",
       "  <tbody>\n",
       "    <tr>\n",
       "      <th>376</th>\n",
       "      <td>2023NE000034</td>\n",
       "      <td>3981.86</td>\n",
       "      <td>518</td>\n",
       "      <td>PASSAGENS PARA O PAIS</td>\n",
       "      <td>33903301</td>\n",
       "    </tr>\n",
       "    <tr>\n",
       "      <th>375</th>\n",
       "      <td>2023NE000033</td>\n",
       "      <td>11740.31</td>\n",
       "      <td>518</td>\n",
       "      <td>PASSAGENS PARA O PAIS</td>\n",
       "      <td>33903301</td>\n",
       "    </tr>\n",
       "    <tr>\n",
       "      <th>382</th>\n",
       "      <td>2023NE000157</td>\n",
       "      <td>301.55</td>\n",
       "      <td>506</td>\n",
       "      <td>SERVICOS DOMESTICOS</td>\n",
       "      <td>33903946</td>\n",
       "    </tr>\n",
       "    <tr>\n",
       "      <th>377</th>\n",
       "      <td>2023NE000329</td>\n",
       "      <td>2369.34</td>\n",
       "      <td>459</td>\n",
       "      <td>PASSAGENS PARA O PAIS</td>\n",
       "      <td>33903301</td>\n",
       "    </tr>\n",
       "    <tr>\n",
       "      <th>1013</th>\n",
       "      <td>2023NE000890</td>\n",
       "      <td>478.06</td>\n",
       "      <td>434</td>\n",
       "      <td>SERVICOS DOMESTICOS</td>\n",
       "      <td>33903946</td>\n",
       "    </tr>\n",
       "    <tr>\n",
       "      <th>390</th>\n",
       "      <td>2023NE000430</td>\n",
       "      <td>539.68</td>\n",
       "      <td>430</td>\n",
       "      <td>SERVICOS DOMESTICOS</td>\n",
       "      <td>33903946</td>\n",
       "    </tr>\n",
       "    <tr>\n",
       "      <th>387</th>\n",
       "      <td>2023NE000490</td>\n",
       "      <td>38898.17</td>\n",
       "      <td>427</td>\n",
       "      <td>OUTSOURCING DE IMPRESSAO</td>\n",
       "      <td>33904016</td>\n",
       "    </tr>\n",
       "    <tr>\n",
       "      <th>391</th>\n",
       "      <td>2023NE000529</td>\n",
       "      <td>9026.10</td>\n",
       "      <td>413</td>\n",
       "      <td>SERVICOS DOMESTICOS</td>\n",
       "      <td>33903946</td>\n",
       "    </tr>\n",
       "    <tr>\n",
       "      <th>379</th>\n",
       "      <td>2023NE000540</td>\n",
       "      <td>4570.00</td>\n",
       "      <td>407</td>\n",
       "      <td>LOCACAO BENS MOV. OUT.NATUREZAS E INTANGIVEIS</td>\n",
       "      <td>33903914</td>\n",
       "    </tr>\n",
       "    <tr>\n",
       "      <th>349</th>\n",
       "      <td>2023NE001092</td>\n",
       "      <td>600.00</td>\n",
       "      <td>309</td>\n",
       "      <td>SERV.MEDICO-HOSPITAL.,ODONTOL.E LABORATORIAIS</td>\n",
       "      <td>33903950</td>\n",
       "    </tr>\n",
       "  </tbody>\n",
       "</table>\n",
       "</div>"
      ],
      "text/plain": [
       "                NE  A_LIQUIDAR  DIAS  \\\n",
       "376   2023NE000034     3981.86   518   \n",
       "375   2023NE000033    11740.31   518   \n",
       "382   2023NE000157      301.55   506   \n",
       "377   2023NE000329     2369.34   459   \n",
       "1013  2023NE000890      478.06   434   \n",
       "390   2023NE000430      539.68   430   \n",
       "387   2023NE000490    38898.17   427   \n",
       "391   2023NE000529     9026.10   413   \n",
       "379   2023NE000540     4570.00   407   \n",
       "349   2023NE001092      600.00   309   \n",
       "\n",
       "                                          NOME_NDSI      NDSI  \n",
       "376                           PASSAGENS PARA O PAIS  33903301  \n",
       "375                           PASSAGENS PARA O PAIS  33903301  \n",
       "382                             SERVICOS DOMESTICOS  33903946  \n",
       "377                           PASSAGENS PARA O PAIS  33903301  \n",
       "1013                            SERVICOS DOMESTICOS  33903946  \n",
       "390                             SERVICOS DOMESTICOS  33903946  \n",
       "387                        OUTSOURCING DE IMPRESSAO  33904016  \n",
       "391                             SERVICOS DOMESTICOS  33903946  \n",
       "379   LOCACAO BENS MOV. OUT.NATUREZAS E INTANGIVEIS  33903914  \n",
       "349   SERV.MEDICO-HOSPITAL.,ODONTOL.E LABORATORIAIS  33903950  "
      ]
     },
     "execution_count": 15,
     "metadata": {},
     "output_type": "execute_result"
    }
   ],
   "source": [
    "cols = ['NE', 'A_LIQUIDAR', 'DIAS', 'NOME_NDSI', 'NDSI']\n",
    "\n",
    "df_aux = df.loc[:, cols].sort_values(by='DIAS', ascending=False)\n",
    "df_aux = df_aux[df_aux['A_LIQUIDAR'] != 0].head(10)\n",
    "df_aux"
   ]
  },
  {
   "cell_type": "code",
   "execution_count": 16,
   "metadata": {},
   "outputs": [
    {
     "data": {
      "application/vnd.plotly.v1+json": {
       "config": {
        "plotlyServerURL": "https://plot.ly"
       },
       "data": [
        {
         "alignmentgroup": "True",
         "customdata": [
          [
           518,
           "PASSAGENS PARA O PAIS",
           "33903301"
          ],
          [
           518,
           "PASSAGENS PARA O PAIS",
           "33903301"
          ],
          [
           506,
           "SERVICOS DOMESTICOS",
           "33903946"
          ],
          [
           459,
           "PASSAGENS PARA O PAIS",
           "33903301"
          ],
          [
           434,
           "SERVICOS DOMESTICOS",
           "33903946"
          ],
          [
           430,
           "SERVICOS DOMESTICOS",
           "33903946"
          ],
          [
           427,
           "OUTSOURCING DE IMPRESSAO",
           "33904016"
          ],
          [
           413,
           "SERVICOS DOMESTICOS",
           "33903946"
          ],
          [
           407,
           "LOCACAO BENS MOV. OUT.NATUREZAS E INTANGIVEIS",
           "33903914"
          ],
          [
           309,
           "SERV.MEDICO-HOSPITAL.,ODONTOL.E LABORATORIAIS",
           "33903950"
          ]
         ],
         "hovertemplate": "<b>%{hovertext}</b><br><br>Nota de Empenho=%{x}<br>Saldo a liquidar=%{y}<br>DIAS=%{marker.color}<br>NOME_NDSI=%{customdata[1]}<br>NDSI=%{customdata[2]}<extra></extra>",
         "hovertext": [
          "2023NE000034",
          "2023NE000033",
          "2023NE000157",
          "2023NE000329",
          "2023NE000890",
          "2023NE000430",
          "2023NE000490",
          "2023NE000529",
          "2023NE000540",
          "2023NE001092"
         ],
         "legendgroup": "",
         "marker": {
          "color": [
           518,
           518,
           506,
           459,
           434,
           430,
           427,
           413,
           407,
           309
          ],
          "coloraxis": "coloraxis",
          "pattern": {
           "shape": ""
          }
         },
         "name": "",
         "offsetgroup": "",
         "orientation": "v",
         "showlegend": false,
         "textposition": "outside",
         "texttemplate": "%{y:.3s}",
         "type": "bar",
         "x": [
          "2023NE000034",
          "2023NE000033",
          "2023NE000157",
          "2023NE000329",
          "2023NE000890",
          "2023NE000430",
          "2023NE000490",
          "2023NE000529",
          "2023NE000540",
          "2023NE001092"
         ],
         "xaxis": "x",
         "y": [
          3981.86,
          11740.31,
          301.55,
          2369.34,
          478.06,
          539.68,
          38898.17,
          9026.1,
          4570,
          600
         ],
         "yaxis": "y"
        }
       ],
       "layout": {
        "barmode": "relative",
        "coloraxis": {
         "colorbar": {
          "title": {
           "text": "DIAS"
          }
         },
         "colorscale": [
          [
           0,
           "rgb(255,245,240)"
          ],
          [
           0.125,
           "rgb(254,224,210)"
          ],
          [
           0.25,
           "rgb(252,187,161)"
          ],
          [
           0.375,
           "rgb(252,146,114)"
          ],
          [
           0.5,
           "rgb(251,106,74)"
          ],
          [
           0.625,
           "rgb(239,59,44)"
          ],
          [
           0.75,
           "rgb(203,24,29)"
          ],
          [
           0.875,
           "rgb(165,15,21)"
          ],
          [
           1,
           "rgb(103,0,13)"
          ]
         ]
        },
        "legend": {
         "tracegroupgap": 0
        },
        "template": {
         "data": {
          "bar": [
           {
            "error_x": {
             "color": "#f2f5fa"
            },
            "error_y": {
             "color": "#f2f5fa"
            },
            "marker": {
             "line": {
              "color": "rgb(17,17,17)",
              "width": 0.5
             },
             "pattern": {
              "fillmode": "overlay",
              "size": 10,
              "solidity": 0.2
             }
            },
            "type": "bar"
           }
          ],
          "barpolar": [
           {
            "marker": {
             "line": {
              "color": "rgb(17,17,17)",
              "width": 0.5
             },
             "pattern": {
              "fillmode": "overlay",
              "size": 10,
              "solidity": 0.2
             }
            },
            "type": "barpolar"
           }
          ],
          "carpet": [
           {
            "aaxis": {
             "endlinecolor": "#A2B1C6",
             "gridcolor": "#506784",
             "linecolor": "#506784",
             "minorgridcolor": "#506784",
             "startlinecolor": "#A2B1C6"
            },
            "baxis": {
             "endlinecolor": "#A2B1C6",
             "gridcolor": "#506784",
             "linecolor": "#506784",
             "minorgridcolor": "#506784",
             "startlinecolor": "#A2B1C6"
            },
            "type": "carpet"
           }
          ],
          "choropleth": [
           {
            "colorbar": {
             "outlinewidth": 0,
             "ticks": ""
            },
            "type": "choropleth"
           }
          ],
          "contour": [
           {
            "colorbar": {
             "outlinewidth": 0,
             "ticks": ""
            },
            "colorscale": [
             [
              0,
              "#0d0887"
             ],
             [
              0.1111111111111111,
              "#46039f"
             ],
             [
              0.2222222222222222,
              "#7201a8"
             ],
             [
              0.3333333333333333,
              "#9c179e"
             ],
             [
              0.4444444444444444,
              "#bd3786"
             ],
             [
              0.5555555555555556,
              "#d8576b"
             ],
             [
              0.6666666666666666,
              "#ed7953"
             ],
             [
              0.7777777777777778,
              "#fb9f3a"
             ],
             [
              0.8888888888888888,
              "#fdca26"
             ],
             [
              1,
              "#f0f921"
             ]
            ],
            "type": "contour"
           }
          ],
          "contourcarpet": [
           {
            "colorbar": {
             "outlinewidth": 0,
             "ticks": ""
            },
            "type": "contourcarpet"
           }
          ],
          "heatmap": [
           {
            "colorbar": {
             "outlinewidth": 0,
             "ticks": ""
            },
            "colorscale": [
             [
              0,
              "#0d0887"
             ],
             [
              0.1111111111111111,
              "#46039f"
             ],
             [
              0.2222222222222222,
              "#7201a8"
             ],
             [
              0.3333333333333333,
              "#9c179e"
             ],
             [
              0.4444444444444444,
              "#bd3786"
             ],
             [
              0.5555555555555556,
              "#d8576b"
             ],
             [
              0.6666666666666666,
              "#ed7953"
             ],
             [
              0.7777777777777778,
              "#fb9f3a"
             ],
             [
              0.8888888888888888,
              "#fdca26"
             ],
             [
              1,
              "#f0f921"
             ]
            ],
            "type": "heatmap"
           }
          ],
          "heatmapgl": [
           {
            "colorbar": {
             "outlinewidth": 0,
             "ticks": ""
            },
            "colorscale": [
             [
              0,
              "#0d0887"
             ],
             [
              0.1111111111111111,
              "#46039f"
             ],
             [
              0.2222222222222222,
              "#7201a8"
             ],
             [
              0.3333333333333333,
              "#9c179e"
             ],
             [
              0.4444444444444444,
              "#bd3786"
             ],
             [
              0.5555555555555556,
              "#d8576b"
             ],
             [
              0.6666666666666666,
              "#ed7953"
             ],
             [
              0.7777777777777778,
              "#fb9f3a"
             ],
             [
              0.8888888888888888,
              "#fdca26"
             ],
             [
              1,
              "#f0f921"
             ]
            ],
            "type": "heatmapgl"
           }
          ],
          "histogram": [
           {
            "marker": {
             "pattern": {
              "fillmode": "overlay",
              "size": 10,
              "solidity": 0.2
             }
            },
            "type": "histogram"
           }
          ],
          "histogram2d": [
           {
            "colorbar": {
             "outlinewidth": 0,
             "ticks": ""
            },
            "colorscale": [
             [
              0,
              "#0d0887"
             ],
             [
              0.1111111111111111,
              "#46039f"
             ],
             [
              0.2222222222222222,
              "#7201a8"
             ],
             [
              0.3333333333333333,
              "#9c179e"
             ],
             [
              0.4444444444444444,
              "#bd3786"
             ],
             [
              0.5555555555555556,
              "#d8576b"
             ],
             [
              0.6666666666666666,
              "#ed7953"
             ],
             [
              0.7777777777777778,
              "#fb9f3a"
             ],
             [
              0.8888888888888888,
              "#fdca26"
             ],
             [
              1,
              "#f0f921"
             ]
            ],
            "type": "histogram2d"
           }
          ],
          "histogram2dcontour": [
           {
            "colorbar": {
             "outlinewidth": 0,
             "ticks": ""
            },
            "colorscale": [
             [
              0,
              "#0d0887"
             ],
             [
              0.1111111111111111,
              "#46039f"
             ],
             [
              0.2222222222222222,
              "#7201a8"
             ],
             [
              0.3333333333333333,
              "#9c179e"
             ],
             [
              0.4444444444444444,
              "#bd3786"
             ],
             [
              0.5555555555555556,
              "#d8576b"
             ],
             [
              0.6666666666666666,
              "#ed7953"
             ],
             [
              0.7777777777777778,
              "#fb9f3a"
             ],
             [
              0.8888888888888888,
              "#fdca26"
             ],
             [
              1,
              "#f0f921"
             ]
            ],
            "type": "histogram2dcontour"
           }
          ],
          "mesh3d": [
           {
            "colorbar": {
             "outlinewidth": 0,
             "ticks": ""
            },
            "type": "mesh3d"
           }
          ],
          "parcoords": [
           {
            "line": {
             "colorbar": {
              "outlinewidth": 0,
              "ticks": ""
             }
            },
            "type": "parcoords"
           }
          ],
          "pie": [
           {
            "automargin": true,
            "type": "pie"
           }
          ],
          "scatter": [
           {
            "marker": {
             "line": {
              "color": "#283442"
             }
            },
            "type": "scatter"
           }
          ],
          "scatter3d": [
           {
            "line": {
             "colorbar": {
              "outlinewidth": 0,
              "ticks": ""
             }
            },
            "marker": {
             "colorbar": {
              "outlinewidth": 0,
              "ticks": ""
             }
            },
            "type": "scatter3d"
           }
          ],
          "scattercarpet": [
           {
            "marker": {
             "colorbar": {
              "outlinewidth": 0,
              "ticks": ""
             }
            },
            "type": "scattercarpet"
           }
          ],
          "scattergeo": [
           {
            "marker": {
             "colorbar": {
              "outlinewidth": 0,
              "ticks": ""
             }
            },
            "type": "scattergeo"
           }
          ],
          "scattergl": [
           {
            "marker": {
             "line": {
              "color": "#283442"
             }
            },
            "type": "scattergl"
           }
          ],
          "scattermapbox": [
           {
            "marker": {
             "colorbar": {
              "outlinewidth": 0,
              "ticks": ""
             }
            },
            "type": "scattermapbox"
           }
          ],
          "scatterpolar": [
           {
            "marker": {
             "colorbar": {
              "outlinewidth": 0,
              "ticks": ""
             }
            },
            "type": "scatterpolar"
           }
          ],
          "scatterpolargl": [
           {
            "marker": {
             "colorbar": {
              "outlinewidth": 0,
              "ticks": ""
             }
            },
            "type": "scatterpolargl"
           }
          ],
          "scatterternary": [
           {
            "marker": {
             "colorbar": {
              "outlinewidth": 0,
              "ticks": ""
             }
            },
            "type": "scatterternary"
           }
          ],
          "surface": [
           {
            "colorbar": {
             "outlinewidth": 0,
             "ticks": ""
            },
            "colorscale": [
             [
              0,
              "#0d0887"
             ],
             [
              0.1111111111111111,
              "#46039f"
             ],
             [
              0.2222222222222222,
              "#7201a8"
             ],
             [
              0.3333333333333333,
              "#9c179e"
             ],
             [
              0.4444444444444444,
              "#bd3786"
             ],
             [
              0.5555555555555556,
              "#d8576b"
             ],
             [
              0.6666666666666666,
              "#ed7953"
             ],
             [
              0.7777777777777778,
              "#fb9f3a"
             ],
             [
              0.8888888888888888,
              "#fdca26"
             ],
             [
              1,
              "#f0f921"
             ]
            ],
            "type": "surface"
           }
          ],
          "table": [
           {
            "cells": {
             "fill": {
              "color": "#506784"
             },
             "line": {
              "color": "rgb(17,17,17)"
             }
            },
            "header": {
             "fill": {
              "color": "#2a3f5f"
             },
             "line": {
              "color": "rgb(17,17,17)"
             }
            },
            "type": "table"
           }
          ]
         },
         "layout": {
          "annotationdefaults": {
           "arrowcolor": "#f2f5fa",
           "arrowhead": 0,
           "arrowwidth": 1
          },
          "autotypenumbers": "strict",
          "coloraxis": {
           "colorbar": {
            "outlinewidth": 0,
            "ticks": ""
           }
          },
          "colorscale": {
           "diverging": [
            [
             0,
             "#8e0152"
            ],
            [
             0.1,
             "#c51b7d"
            ],
            [
             0.2,
             "#de77ae"
            ],
            [
             0.3,
             "#f1b6da"
            ],
            [
             0.4,
             "#fde0ef"
            ],
            [
             0.5,
             "#f7f7f7"
            ],
            [
             0.6,
             "#e6f5d0"
            ],
            [
             0.7,
             "#b8e186"
            ],
            [
             0.8,
             "#7fbc41"
            ],
            [
             0.9,
             "#4d9221"
            ],
            [
             1,
             "#276419"
            ]
           ],
           "sequential": [
            [
             0,
             "#0d0887"
            ],
            [
             0.1111111111111111,
             "#46039f"
            ],
            [
             0.2222222222222222,
             "#7201a8"
            ],
            [
             0.3333333333333333,
             "#9c179e"
            ],
            [
             0.4444444444444444,
             "#bd3786"
            ],
            [
             0.5555555555555556,
             "#d8576b"
            ],
            [
             0.6666666666666666,
             "#ed7953"
            ],
            [
             0.7777777777777778,
             "#fb9f3a"
            ],
            [
             0.8888888888888888,
             "#fdca26"
            ],
            [
             1,
             "#f0f921"
            ]
           ],
           "sequentialminus": [
            [
             0,
             "#0d0887"
            ],
            [
             0.1111111111111111,
             "#46039f"
            ],
            [
             0.2222222222222222,
             "#7201a8"
            ],
            [
             0.3333333333333333,
             "#9c179e"
            ],
            [
             0.4444444444444444,
             "#bd3786"
            ],
            [
             0.5555555555555556,
             "#d8576b"
            ],
            [
             0.6666666666666666,
             "#ed7953"
            ],
            [
             0.7777777777777778,
             "#fb9f3a"
            ],
            [
             0.8888888888888888,
             "#fdca26"
            ],
            [
             1,
             "#f0f921"
            ]
           ]
          },
          "colorway": [
           "#636efa",
           "#EF553B",
           "#00cc96",
           "#ab63fa",
           "#FFA15A",
           "#19d3f3",
           "#FF6692",
           "#B6E880",
           "#FF97FF",
           "#FECB52"
          ],
          "font": {
           "color": "#f2f5fa"
          },
          "geo": {
           "bgcolor": "rgb(17,17,17)",
           "lakecolor": "rgb(17,17,17)",
           "landcolor": "rgb(17,17,17)",
           "showlakes": true,
           "showland": true,
           "subunitcolor": "#506784"
          },
          "hoverlabel": {
           "align": "left"
          },
          "hovermode": "closest",
          "mapbox": {
           "style": "dark"
          },
          "paper_bgcolor": "rgb(17,17,17)",
          "plot_bgcolor": "rgb(17,17,17)",
          "polar": {
           "angularaxis": {
            "gridcolor": "#506784",
            "linecolor": "#506784",
            "ticks": ""
           },
           "bgcolor": "rgb(17,17,17)",
           "radialaxis": {
            "gridcolor": "#506784",
            "linecolor": "#506784",
            "ticks": ""
           }
          },
          "scene": {
           "xaxis": {
            "backgroundcolor": "rgb(17,17,17)",
            "gridcolor": "#506784",
            "gridwidth": 2,
            "linecolor": "#506784",
            "showbackground": true,
            "ticks": "",
            "zerolinecolor": "#C8D4E3"
           },
           "yaxis": {
            "backgroundcolor": "rgb(17,17,17)",
            "gridcolor": "#506784",
            "gridwidth": 2,
            "linecolor": "#506784",
            "showbackground": true,
            "ticks": "",
            "zerolinecolor": "#C8D4E3"
           },
           "zaxis": {
            "backgroundcolor": "rgb(17,17,17)",
            "gridcolor": "#506784",
            "gridwidth": 2,
            "linecolor": "#506784",
            "showbackground": true,
            "ticks": "",
            "zerolinecolor": "#C8D4E3"
           }
          },
          "shapedefaults": {
           "line": {
            "color": "#f2f5fa"
           }
          },
          "sliderdefaults": {
           "bgcolor": "#C8D4E3",
           "bordercolor": "rgb(17,17,17)",
           "borderwidth": 1,
           "tickwidth": 0
          },
          "ternary": {
           "aaxis": {
            "gridcolor": "#506784",
            "linecolor": "#506784",
            "ticks": ""
           },
           "baxis": {
            "gridcolor": "#506784",
            "linecolor": "#506784",
            "ticks": ""
           },
           "bgcolor": "rgb(17,17,17)",
           "caxis": {
            "gridcolor": "#506784",
            "linecolor": "#506784",
            "ticks": ""
           }
          },
          "title": {
           "x": 0.05
          },
          "updatemenudefaults": {
           "bgcolor": "#506784",
           "borderwidth": 0
          },
          "xaxis": {
           "automargin": true,
           "gridcolor": "#283442",
           "linecolor": "#506784",
           "ticks": "",
           "title": {
            "standoff": 15
           },
           "zerolinecolor": "#283442",
           "zerolinewidth": 2
          },
          "yaxis": {
           "automargin": true,
           "gridcolor": "#283442",
           "linecolor": "#506784",
           "ticks": "",
           "title": {
            "standoff": 15
           },
           "zerolinecolor": "#283442",
           "zerolinewidth": 2
          }
         }
        },
        "title": {
         "text": "10 empenhos com mais tempo na tela"
        },
        "xaxis": {
         "anchor": "y",
         "domain": [
          0,
          1
         ],
         "title": {
          "text": "Nota de Empenho"
         }
        },
        "yaxis": {
         "anchor": "x",
         "domain": [
          0,
          1
         ],
         "title": {
          "text": "Saldo a liquidar"
         },
         "type": "log"
        }
       }
      }
     },
     "metadata": {},
     "output_type": "display_data"
    }
   ],
   "source": [
    "# Saldo a liquidar por tipo de NE\n",
    "cols = ['NE', 'A_LIQUIDAR', 'DIAS', 'NOME_NDSI', 'NDSI']\n",
    "df_aux = df.loc[:, cols].sort_values(by='DIAS', ascending=False)\n",
    "df_aux = df_aux[df_aux['A_LIQUIDAR'] != 0].head(10)\n",
    "fig = px.bar(df_aux, \n",
    "             x='NE', \n",
    "             y='A_LIQUIDAR',\n",
    "             title='10 empenhos com mais tempo na tela',\n",
    "             labels={'NE':'Nota de Empenho', 'A_LIQUIDAR':'Saldo a liquidar'},\n",
    "             text_auto='.3s',\n",
    "             color='DIAS',\n",
    "             color_continuous_scale = 'reds',\n",
    "             log_y=True,\n",
    "             template='plotly_dark',\n",
    "             hover_name=\"NE\", hover_data={'DIAS': True, 'A_LIQUIDAR': True, 'NOME_NDSI': True, 'NDSI': True})\n",
    "fig.update_traces(textposition = 'outside')\n",
    "\n",
    "\n",
    "fig.show()"
   ]
  },
  {
   "cell_type": "markdown",
   "metadata": {},
   "source": [
    "## Informações para SideBar"
   ]
  },
  {
   "cell_type": "code",
   "execution_count": 17,
   "metadata": {},
   "outputs": [
    {
     "data": {
      "text/plain": [
       "2059"
      ]
     },
     "execution_count": 17,
     "metadata": {},
     "output_type": "execute_result"
    }
   ],
   "source": [
    "# Qtde de empenhos realizados até o momento\n",
    "df.shape[0]"
   ]
  },
  {
   "cell_type": "markdown",
   "metadata": {},
   "source": [
    "# Requisição em API para consulta a CNPJ"
   ]
  },
  {
   "cell_type": "code",
   "execution_count": 18,
   "metadata": {},
   "outputs": [
    {
     "name": "stdout",
     "output_type": "stream",
     "text": [
      "{'abertura': '04/05/1999',\n",
      " 'atividade_principal': [{'code': '49.30-2-04',\n",
      "                          'text': 'Transporte rodoviário de mudanças'}],\n",
      " 'atividades_secundarias': [{'code': '49.30-2-01',\n",
      "                             'text': 'Transporte rodoviário de carga, exceto '\n",
      "                                     'produtos perigosos e mudanças, '\n",
      "                                     'municipal.'},\n",
      "                            {'code': '49.30-2-02',\n",
      "                             'text': 'Transporte rodoviário de carga, exceto '\n",
      "                                     'produtos perigosos e mudanças, '\n",
      "                                     'intermunicipal, interestadual e '\n",
      "                                     'internacional'},\n",
      "                            {'code': '52.11-7-02', 'text': 'Guarda-móveis'}],\n",
      " 'bairro': 'ZONA INDUSTRIAL (GUARA)',\n",
      " 'billing': {'database': True, 'free': True},\n",
      " 'capital_social': '93700.00',\n",
      " 'cep': '71.250-710',\n",
      " 'cnpj': '03.126.110/0001-92',\n",
      " 'complemento': 'LOTE;',\n",
      " 'data_situacao': '03/11/2005',\n",
      " 'data_situacao_especial': '',\n",
      " 'efr': '',\n",
      " 'email': '',\n",
      " 'extra': {},\n",
      " 'fantasia': 'MARCA SUL MUDANCAS',\n",
      " 'logradouro': 'ST SCIA QUADRA 8 CONJUNTO 8',\n",
      " 'motivo_situacao': '',\n",
      " 'municipio': 'BRASILIA',\n",
      " 'natureza_juridica': '206-2 - Sociedade Empresária Limitada',\n",
      " 'nome': 'MARCA SUL MUDANCAS E TRANSPORTES LTDA',\n",
      " 'numero': '13',\n",
      " 'porte': 'EMPRESA DE PEQUENO PORTE',\n",
      " 'qsa': [{'nome': 'LINDOMAR SELAU CARLOS', 'qual': '49-Sócio-Administrador'}],\n",
      " 'situacao': 'ATIVA',\n",
      " 'situacao_especial': '',\n",
      " 'status': 'OK',\n",
      " 'telefone': '(61) 8305-0179',\n",
      " 'tipo': 'MATRIZ',\n",
      " 'uf': 'DF',\n",
      " 'ultima_atualizacao': '2024-06-29T11:35:16.621Z'}\n"
     ]
    }
   ],
   "source": [
    "import requests\n",
    "from pprint import pprint\n",
    "\n",
    "url = \"https://receitaws.com.br/v1/cnpj/03126110000192\"\n",
    "\n",
    "headers = {\"Accept\": \"application/json\"}\n",
    "\n",
    "response = requests.get(url, headers=headers)\n",
    "\n",
    "pprint(response.json())"
   ]
  },
  {
   "cell_type": "code",
   "execution_count": 19,
   "metadata": {},
   "outputs": [
    {
     "name": "stdout",
     "output_type": "stream",
     "text": [
      "{'abertura': '28/08/2015',\n",
      " 'atividade_principal': [{'code': '26.21-3-00',\n",
      "                          'text': 'Fabricação de equipamentos de informática'}],\n",
      " 'atividades_secundarias': [{'code': '26.22-1-00',\n",
      "                             'text': 'Fabricação de periféricos para '\n",
      "                                     'equipamentos de informática'},\n",
      "                            {'code': '27.59-7-99',\n",
      "                             'text': 'Fabricação de outros aparelhos '\n",
      "                                     'eletrodomésticos não especificados '\n",
      "                                     'anteriormente, peças e acessórios'},\n",
      "                            {'code': '46.19-2-00',\n",
      "                             'text': 'Representantes comerciais e agentes do '\n",
      "                                     'comércio de mercadorias em geral não '\n",
      "                                     'especializado'},\n",
      "                            {'code': '46.51-6-01',\n",
      "                             'text': 'Comércio atacadista de equipamentos de '\n",
      "                                     'informática'},\n",
      "                            {'code': '47.54-7-01',\n",
      "                             'text': 'Comércio varejista de móveis'},\n",
      "                            {'code': '46.49-4-02',\n",
      "                             'text': 'Comércio atacadista de aparelhos '\n",
      "                                     'eletrônicos de uso pessoal e doméstico'},\n",
      "                            {'code': '46.47-8-02',\n",
      "                             'text': 'Comércio atacadista de livros, jornais e '\n",
      "                                     'outras publicações'},\n",
      "                            {'code': '62.04-0-00',\n",
      "                             'text': 'Consultoria em tecnologia da informação'},\n",
      "                            {'code': '62.02-3-00',\n",
      "                             'text': 'Desenvolvimento e licenciamento de '\n",
      "                                     'programas de computador customizáveis'},\n",
      "                            {'code': '63.19-4-00',\n",
      "                             'text': 'Portais, provedores de conteúdo e outros '\n",
      "                                     'serviços de informação na internet'},\n",
      "                            {'code': '62.01-5-01',\n",
      "                             'text': 'Desenvolvimento de programas de '\n",
      "                                     'computador sob encomenda'},\n",
      "                            {'code': '58.11-5-00', 'text': 'Edição de livros'},\n",
      "                            {'code': '64.62-0-00',\n",
      "                             'text': 'Holdings de instituições '\n",
      "                                     'não-financeiras'},\n",
      "                            {'code': '71.19-7-03',\n",
      "                             'text': 'Serviços de desenho técnico relacionados '\n",
      "                                     'à arquitetura e engenharia'},\n",
      "                            {'code': '77.33-1-00',\n",
      "                             'text': 'Aluguel de máquinas e equipamentos para '\n",
      "                                     'escritórios'},\n",
      "                            {'code': '77.40-3-00',\n",
      "                             'text': 'Gestão de ativos intangíveis '\n",
      "                                     'não-financeiros'},\n",
      "                            {'code': '85.50-3-02',\n",
      "                             'text': 'Atividades de apoio à educação, exceto '\n",
      "                                     'caixas escolares'},\n",
      "                            {'code': '85.99-6-04',\n",
      "                             'text': 'Treinamento em desenvolvimento '\n",
      "                                     'profissional e gerencial'},\n",
      "                            {'code': '95.21-5-00',\n",
      "                             'text': 'Reparação e manutenção de equipamentos '\n",
      "                                     'eletroeletrônicos de uso pessoal e '\n",
      "                                     'doméstico'},\n",
      "                            {'code': '95.11-8-00',\n",
      "                             'text': 'Reparação e manutenção de computadores e '\n",
      "                                     'de equipamentos periféricos'},\n",
      "                            {'code': '26.32-9-00',\n",
      "                             'text': 'Fabricação de aparelhos telefônicos e de '\n",
      "                                     'outros equipamentos de comunicação, '\n",
      "                                     'peças e acessórios'}],\n",
      " 'bairro': 'DISTRITO INDUSTRIAL I',\n",
      " 'billing': {'database': True, 'free': True},\n",
      " 'capital_social': '0.00',\n",
      " 'cep': '69.075-110',\n",
      " 'cnpj': '81.243.735/0019-77',\n",
      " 'complemento': 'LOTE 257-B',\n",
      " 'data_situacao': '28/08/2015',\n",
      " 'data_situacao_especial': '',\n",
      " 'efr': '',\n",
      " 'email': 'fiscal@positivo.com.br',\n",
      " 'extra': {},\n",
      " 'fantasia': '',\n",
      " 'logradouro': 'R JAVARI',\n",
      " 'motivo_situacao': '',\n",
      " 'municipio': 'MANAUS',\n",
      " 'natureza_juridica': '204-6 - Sociedade Anônima Aberta',\n",
      " 'nome': 'POSITIVO TECNOLOGIA S.A.',\n",
      " 'numero': '1255',\n",
      " 'porte': 'DEMAIS',\n",
      " 'qsa': [],\n",
      " 'situacao': 'ATIVA',\n",
      " 'situacao_especial': '',\n",
      " 'status': 'OK',\n",
      " 'telefone': '(41) 3316-7700',\n",
      " 'tipo': 'FILIAL',\n",
      " 'uf': 'AM',\n",
      " 'ultima_atualizacao': '2024-06-11T19:53:32.102Z'}\n"
     ]
    }
   ],
   "source": [
    "def consulta_cnpj(numero_cnpj):\n",
    "    url = f\"https://receitaws.com.br/v1/cnpj/{numero_cnpj}\"\n",
    "\n",
    "    headers = {\"Accept\": \"application/json\"}\n",
    "\n",
    "    response = requests.get(url, headers=headers)\n",
    "    \n",
    "    dic_fornecedor = response.json()\n",
    "    \n",
    "    return dic_fornecedor\n",
    "\n",
    "# Criar um dicionário vazio fora da função\n",
    "dicionario = {}\n",
    "\n",
    "# Chamar a função e atribuir o resultado ao dicionário\n",
    "dicionario = consulta_cnpj('81243735001977')\n",
    "\n",
    "# Imprimir o dicionário\n",
    "pprint(dicionario)"
   ]
  },
  {
   "cell_type": "code",
   "execution_count": 20,
   "metadata": {},
   "outputs": [
    {
     "name": "stdout",
     "output_type": "stream",
     "text": [
      "{'abertura': '28/08/2015',\n",
      " 'atividade_principal': [{'code': '26.21-3-00',\n",
      "                          'text': 'Fabricação de equipamentos de informática'}],\n",
      " 'atividades_secundarias': [{'code': '26.22-1-00',\n",
      "                             'text': 'Fabricação de periféricos para '\n",
      "                                     'equipamentos de informática'},\n",
      "                            {'code': '27.59-7-99',\n",
      "                             'text': 'Fabricação de outros aparelhos '\n",
      "                                     'eletrodomésticos não especificados '\n",
      "                                     'anteriormente, peças e acessórios'},\n",
      "                            {'code': '46.19-2-00',\n",
      "                             'text': 'Representantes comerciais e agentes do '\n",
      "                                     'comércio de mercadorias em geral não '\n",
      "                                     'especializado'},\n",
      "                            {'code': '46.51-6-01',\n",
      "                             'text': 'Comércio atacadista de equipamentos de '\n",
      "                                     'informática'},\n",
      "                            {'code': '47.54-7-01',\n",
      "                             'text': 'Comércio varejista de móveis'},\n",
      "                            {'code': '46.49-4-02',\n",
      "                             'text': 'Comércio atacadista de aparelhos '\n",
      "                                     'eletrônicos de uso pessoal e doméstico'},\n",
      "                            {'code': '46.47-8-02',\n",
      "                             'text': 'Comércio atacadista de livros, jornais e '\n",
      "                                     'outras publicações'},\n",
      "                            {'code': '62.04-0-00',\n",
      "                             'text': 'Consultoria em tecnologia da informação'},\n",
      "                            {'code': '62.02-3-00',\n",
      "                             'text': 'Desenvolvimento e licenciamento de '\n",
      "                                     'programas de computador customizáveis'},\n",
      "                            {'code': '63.19-4-00',\n",
      "                             'text': 'Portais, provedores de conteúdo e outros '\n",
      "                                     'serviços de informação na internet'},\n",
      "                            {'code': '62.01-5-01',\n",
      "                             'text': 'Desenvolvimento de programas de '\n",
      "                                     'computador sob encomenda'},\n",
      "                            {'code': '58.11-5-00', 'text': 'Edição de livros'},\n",
      "                            {'code': '64.62-0-00',\n",
      "                             'text': 'Holdings de instituições '\n",
      "                                     'não-financeiras'},\n",
      "                            {'code': '71.19-7-03',\n",
      "                             'text': 'Serviços de desenho técnico relacionados '\n",
      "                                     'à arquitetura e engenharia'},\n",
      "                            {'code': '77.33-1-00',\n",
      "                             'text': 'Aluguel de máquinas e equipamentos para '\n",
      "                                     'escritórios'},\n",
      "                            {'code': '77.40-3-00',\n",
      "                             'text': 'Gestão de ativos intangíveis '\n",
      "                                     'não-financeiros'},\n",
      "                            {'code': '85.50-3-02',\n",
      "                             'text': 'Atividades de apoio à educação, exceto '\n",
      "                                     'caixas escolares'},\n",
      "                            {'code': '85.99-6-04',\n",
      "                             'text': 'Treinamento em desenvolvimento '\n",
      "                                     'profissional e gerencial'},\n",
      "                            {'code': '95.21-5-00',\n",
      "                             'text': 'Reparação e manutenção de equipamentos '\n",
      "                                     'eletroeletrônicos de uso pessoal e '\n",
      "                                     'doméstico'},\n",
      "                            {'code': '95.11-8-00',\n",
      "                             'text': 'Reparação e manutenção de computadores e '\n",
      "                                     'de equipamentos periféricos'},\n",
      "                            {'code': '26.32-9-00',\n",
      "                             'text': 'Fabricação de aparelhos telefônicos e de '\n",
      "                                     'outros equipamentos de comunicação, '\n",
      "                                     'peças e acessórios'}],\n",
      " 'bairro': 'DISTRITO INDUSTRIAL I',\n",
      " 'billing': {'database': True, 'free': True},\n",
      " 'capital_social': '0.00',\n",
      " 'cep': '69.075-110',\n",
      " 'cnpj': '81.243.735/0019-77',\n",
      " 'complemento': 'LOTE 257-B',\n",
      " 'data_situacao': '28/08/2015',\n",
      " 'data_situacao_especial': '',\n",
      " 'efr': '',\n",
      " 'email': 'fiscal@positivo.com.br',\n",
      " 'extra': {},\n",
      " 'fantasia': '',\n",
      " 'logradouro': 'R JAVARI',\n",
      " 'motivo_situacao': '',\n",
      " 'municipio': 'MANAUS',\n",
      " 'natureza_juridica': '204-6 - Sociedade Anônima Aberta',\n",
      " 'nome': 'POSITIVO TECNOLOGIA S.A.',\n",
      " 'numero': '1255',\n",
      " 'porte': 'DEMAIS',\n",
      " 'qsa': [],\n",
      " 'situacao': 'ATIVA',\n",
      " 'situacao_especial': '',\n",
      " 'status': 'OK',\n",
      " 'telefone': '(41) 3316-7700',\n",
      " 'tipo': 'FILIAL',\n",
      " 'uf': 'AM',\n",
      " 'ultima_atualizacao': '2024-06-11T19:53:32.102Z'}\n"
     ]
    }
   ],
   "source": [
    "pprint(dicionario)"
   ]
  },
  {
   "cell_type": "code",
   "execution_count": 21,
   "metadata": {},
   "outputs": [
    {
     "data": {
      "text/plain": [
       "'POSITIVO TECNOLOGIA S.A.'"
      ]
     },
     "execution_count": 21,
     "metadata": {},
     "output_type": "execute_result"
    }
   ],
   "source": [
    "dicionario['nome']"
   ]
  },
  {
   "cell_type": "code",
   "execution_count": 22,
   "metadata": {},
   "outputs": [
    {
     "data": {
      "text/plain": [
       "'(41) 3316-7700'"
      ]
     },
     "execution_count": 22,
     "metadata": {},
     "output_type": "execute_result"
    }
   ],
   "source": [
    "dicionario['telefone']"
   ]
  },
  {
   "cell_type": "code",
   "execution_count": 23,
   "metadata": {},
   "outputs": [
    {
     "data": {
      "text/plain": [
       "'fiscal@positivo.com.br'"
      ]
     },
     "execution_count": 23,
     "metadata": {},
     "output_type": "execute_result"
    }
   ],
   "source": [
    "dicionario['email']"
   ]
  },
  {
   "cell_type": "code",
   "execution_count": 24,
   "metadata": {},
   "outputs": [
    {
     "data": {
      "text/plain": [
       "'R JAVARI, 1255 - DISTRITO INDUSTRIAL I - MANAUS / AM'"
      ]
     },
     "execution_count": 24,
     "metadata": {},
     "output_type": "execute_result"
    }
   ],
   "source": [
    "dicionario['logradouro'] + ', ' + dicionario['numero'] + ' - ' + dicionario['bairro'] + ' - ' + dicionario['municipio'] + ' / ' + dicionario['uf']"
   ]
  },
  {
   "cell_type": "code",
   "execution_count": 25,
   "metadata": {},
   "outputs": [
    {
     "data": {
      "text/plain": [
       "array(['20584944000160', '39750831000116', '05872523000141',\n",
       "       '17281106000103', '34028316001509', '06981180000116',\n",
       "       '65295172000185', '02421421000111', '29774797000166',\n",
       "       '65271868000171', '08403769000162', '42206665000104',\n",
       "       '49720354000108', '65353401000170', '49834027000179',\n",
       "       '11053762000172', '01255291000121', '26950671000107',\n",
       "       '00139736000145', '14459158000139', '40225662000184',\n",
       "       '42772140000128', '47217896000129', '28719518000107',\n",
       "       '01915071000268', '03539933000140', '45258432000216',\n",
       "       '40695811000179', '30189974000126', '15761126000156',\n",
       "       '27619368000199', '10942831000136', '11202638000121',\n",
       "       '15329152000100', '30820280000145', '33658130000175',\n",
       "       '43892634000109', '20784313000195', '28429720000196',\n",
       "       '06164562000157', '41841443000192', '04191294000137',\n",
       "       '20473312000120', '33149502000138', '14499338000144',\n",
       "       '01088055000168', '53202768000104', '18707234000139',\n",
       "       '36654449000110', '47272665000118', '47725628000118',\n",
       "       '42326882000120', '03859239000100', '11142525000188',\n",
       "       '34197944000112', '36489366000113', '43731740000100',\n",
       "       '15272846000158', '92221589000176', '17955535000119',\n",
       "       '35099493000143', '51187213000105', '21331404000138',\n",
       "       '14807420000199', '17421504000188', '17412396000187',\n",
       "       '19791896006486', '09039582000194', '19791896011307',\n",
       "       '47043589000179', '37748531000177', '20702528000110',\n",
       "       '33180160000119', '71001465000105', '47078180000198',\n",
       "       '14163479000191', '41471161000140', '48087032000100',\n",
       "       '35307908000127', '20942789000107', '48085103000128',\n",
       "       '10653955000100', '20421805000116', '47348831000112',\n",
       "       '18472579000150', '09294294000186', '29455568000189',\n",
       "       '37421415000149', '05291541000130', '06910908000119',\n",
       "       '21348054000112', '16914559000167', '15407876000124',\n",
       "       '11186469000183', '07665456000110', '31206933000163',\n",
       "       '10614788000180', '47170510000170', '35411786000114',\n",
       "       '48371796000115', '07259386000108', '43029546000188',\n",
       "       '22327937000109', '41948062000107', '46970951000194',\n",
       "       '31669124000198', '40224243000128', '29926189000120',\n",
       "       '08194579000182', '43337798000174', '48489837000172',\n",
       "       '79984357000101', '08532500000186', '14203779000157',\n",
       "       '24390855000134', '03343818607', '08538090000180',\n",
       "       '02338743000100', '02235079000165', '01342660000113',\n",
       "       '19037262000159', '30775478000154', '51523859000116',\n",
       "       '35594518000185', '20240470000130', '33345691000114',\n",
       "       '23186594000172', '05462543000144', '28811718000187',\n",
       "       '08792763000124', '17215437000145', '14491768000110',\n",
       "       '37583132000101', '18516766000199', '03849500000190',\n",
       "       '00502302000168', '03126110000192', '23122344000179',\n",
       "       '11768653000131', '17289559000186', '22252006000199',\n",
       "       '06307463000187', '58512096000157', '24377448000197',\n",
       "       '08593332000139', '45857250000180', '09035549000196',\n",
       "       '52134461000150', '47440165000148', '45125667000159',\n",
       "       '31741500000108', '39242061000109', '06178319000198',\n",
       "       '15072268000106', '02347121000210', '05691235000190',\n",
       "       '38680138000151', '68533967000172', '07385089000109',\n",
       "       '08785181000110', '32085624000145', '26132614000110',\n",
       "       '27130609000131', '34770156000173', '04567265000127',\n",
       "       '13437692000181', '34910336000103', '42810782000174',\n",
       "       '22816315000144', '17775469000103', '36310930000199',\n",
       "       '14770468000170', '10190265000153', '07187128000155',\n",
       "       '08096586000141', '05355350747', '04011485640', '33403145867',\n",
       "       '04348364605', '00159155061', '69315850106', '01667301063',\n",
       "       '03700982429', '07154621486', '11732348618', '02604598019',\n",
       "       '10930032608', '02341869335', '10977867650', '08005628609',\n",
       "       '10419496696', '98488040644', '05260173686', '86222945600',\n",
       "       '15374493701', '07978007600', '37225054880', '08208945676',\n",
       "       '09556522603', '06229234637', '39644514000115', '00946402469',\n",
       "       '03956187032', '13495847707', '11327925680', '10528196723',\n",
       "       '02390643051', '01737297388', '03266662148', '11638652651',\n",
       "       '04216220592', '38531643821', '12698365447', '08065014488',\n",
       "       '16191784783', '07356193523', '12890940470', '14533283608',\n",
       "       '00160384281', '14360660693', '47091114809', '10245777407',\n",
       "       '18998907771', '12557445614', '12929232455', '00815805500',\n",
       "       '03949195130', '49770932833', '02766279032', '03497502200',\n",
       "       '04025170086', '50297130854', '10505450798', '03587731055',\n",
       "       '17652395755', '43397736897', '05178795229', '03711003052',\n",
       "       '00033670617', '19935621766', '03241274055', '05998785177',\n",
       "       '10367193400', '17182844702', '09322746416', '46244059867',\n",
       "       '50795833806', '14487872707', '15216503730', '48380081803',\n",
       "       '18908794794', '71273055446', '61297320310', '14423309610',\n",
       "       '18490227713', '70185545432', '15096490777', '18967323727',\n",
       "       '08588385910', '10535223986', '10534483410', '11093614404',\n",
       "       '46894530807', '70888678428', '01900341654', '15653078794',\n",
       "       '04330600005', '19915430779', '70295354488', '11076559603',\n",
       "       '07675382188', '36745777800', '04932422440', '01897343612',\n",
       "       '14128557641', '71646534450', '08107398440', '50090783840',\n",
       "       '10058814990', '14650941725', '09313181908', '16543861703',\n",
       "       '17886705742', '09024075386', '08192434346', '07068878326',\n",
       "       '61027741320', '15389555716', '05487254389', '09618918408',\n",
       "       '07531199351', '17553101702', '17819737760', '19758466720',\n",
       "       '18111551703', '12420679490', '13378462795', '01803943041',\n",
       "       '07014185322', '70381560473', '16691658760', '17640977770',\n",
       "       '03932299043', '12270743440', '10310050723', '36693105840',\n",
       "       '04126374213', '09780105905', '16241294717', '18677885781',\n",
       "       '35482112837', '46472024880', '18672069781', '13350255612',\n",
       "       '08270149535', '70191099422', '06917037109', '09501536564',\n",
       "       '05863190779', '47250108808', '12863358766', '17297918679',\n",
       "       '16663247794', '07953422417', '04048550080', '11432238450',\n",
       "       '01212358236', '07078180100', '13381798456', '70378077457',\n",
       "       '07683245135', '01681626446', '02055061194', '18283429710',\n",
       "       '12990173633', '17006787793', '06776119511', '14122718783',\n",
       "       '07453195136', '16928724781', '48414411827', '18719321732',\n",
       "       '14016064660', '71099265401', '04572062099', '14229246617',\n",
       "       '17914908754', '04942958059', '04454418012', '12583123440',\n",
       "       '08500260408', '12058870670', '01271268647', '78072301500',\n",
       "       '10887692761', '07214496623', '73267570115', '02660783039',\n",
       "       '12248702639', '12408906644', '03852817064', '04861979056',\n",
       "       '10386654930', '16329284776', '01829331485', '09485907427',\n",
       "       '17709477798', '06684535594', '08848648983', '39558422827',\n",
       "       '18006151750', '45358499865', '73021016120', '01091571929',\n",
       "       '05302302160', '09686847502', '19186272748', '13589166754',\n",
       "       '98107909704', '35072779000135', '41278073000127',\n",
       "       '48983401000135', '15658667000153', '16619287000172',\n",
       "       '15153524000190', '03333999000189', '19933130000105',\n",
       "       '31682616000113', '44429540000160', '14155601000188',\n",
       "       '39560888000152', '02829044000154', '45793555000176',\n",
       "       '13232701000106', '46339373000192', '04576614000177',\n",
       "       '49542190000168', '03541496000107', '10732150000143',\n",
       "       '46440212000190', '46344050000197', '14968227000130',\n",
       "       '44258379000100', '04541813000140', '36181473000180',\n",
       "       '50365029000145', '05019519000135', '18047657000170',\n",
       "       '09450715000110', '20971821000182', '47208666000101',\n",
       "       '37093491000172', '45167065000164', '08945027000169',\n",
       "       '08666165000109', '32846158000173', '23614351000198',\n",
       "       '29309583000119', '01359742000170', '06016341000131',\n",
       "       '50116864000141', '36519422000115', '33739848000196',\n",
       "       '08907476000112', '19116488000145', '42727372000164',\n",
       "       '29874397000122', '22598513000189', '51048656000115',\n",
       "       '12032954000165', '05824788000174', '05520402000211',\n",
       "       '51955889000100', '44352658000138', '16650817000145',\n",
       "       '49495719000130', '31170338000115', '27209293000178',\n",
       "       '27996382000101', '05490249000146', '41412829000189',\n",
       "       '43084056000184', '12308936000163', '01429437000108',\n",
       "       '50387433000110', '06351401000172', '26917959000180',\n",
       "       '42883960000197', '167129', '43471392000180', '09249668000141',\n",
       "       '40426345000126', '81243735000903', '47531706000143',\n",
       "       '33618396000194', '45769285000168', '71359939000195',\n",
       "       '28076288000105', '03979214000140', '12013565000192',\n",
       "       '20915722000183', '20402517000114', '05379350000124',\n",
       "       '41232530000142', '03539352635', '13642117000110',\n",
       "       '21971041000103', '33884155000197', '51118112000182',\n",
       "       '12477490000281', '50429810000136', '20203886000188',\n",
       "       '22579804000120', '26886495000191', '20469180000162',\n",
       "       '04648489000163', '07608700000102', '07285389000108',\n",
       "       '25643420000117', '05194005000116', '25642083000143',\n",
       "       '05552239000198', '20382743000180', '05461861000190',\n",
       "       '01008092000119', '17457610000111', '02668731000135',\n",
       "       '09215883000121', '00316937000170', '19863357000121',\n",
       "       '28460991000104', '21390591000120', '19625870000184',\n",
       "       '11708426000110', '21425822000194', '18226970000175',\n",
       "       '25642331000156', '25656463000137', '33013209000149',\n",
       "       '22016266000165', '24151595000144', '07690038000182',\n",
       "       '25641788000227', '07119678000137', '10197494000108',\n",
       "       '18730868000102', '11010999000257', '01509731000391',\n",
       "       '29034549000189', '08986188000109', '42855999000362',\n",
       "       '10489922000168', '21781767000175', '07976966000108',\n",
       "       '12799335000109', '03930660000160', '06334550000123',\n",
       "       '17845504000296', '40131537000105', '22073381000171',\n",
       "       '25641788000146', '58665102604', '30865026653', '80531580644',\n",
       "       '510001', '40274237000185', '43595813000184', '13444848000151',\n",
       "       '14905502000176', '32477466000179', '19231616000100',\n",
       "       '50541407000102', '19807546000187', '16926786000102',\n",
       "       '06867357000158', '13977106000191', '30379344000114',\n",
       "       '41733464000194', '12021151000105', '09686716000169',\n",
       "       '04625702000111', '26645437000176', '23615514000157',\n",
       "       '50694319000132', '42587791000148', '48039993000131',\n",
       "       '01592547000196', '06014820000119', '09630087000155',\n",
       "       '52704921000139', '10450143000159', '23814905000109',\n",
       "       '04992161000160', '71346480000195', '47101984000160',\n",
       "       '02784905000125', '02108761000197', '27862855000188',\n",
       "       '10600312000190', '05741540000140', '29985857000190',\n",
       "       '10899734000108', '08278883000108', '41833129000168',\n",
       "       '08928430631', '00583615619', '37686780678', '70886644615',\n",
       "       '13823529000157', '54611288668', '02932035630', '01253802670',\n",
       "       '06425294698', '73987298049', '01372353054', '00214548333',\n",
       "       '64819396315', '05565735602', '05913050622', '12429302721',\n",
       "       '06003234636', '04405087628', '65083059304', '72809914249',\n",
       "       '03325653600', '34788645000152', '26401571000121',\n",
       "       '22705870000107', '43241204000127', '73514580000109',\n",
       "       '09380005000161', '12482902000190', '05823817000183',\n",
       "       '41884255000141', '02803935000131', '14233622000174',\n",
       "       '03856561000185', '00577773000135', '34379797000100',\n",
       "       '41342716000154', '64273048000156', '03059040000105',\n",
       "       '18632315000117', '25863390000154', '17413469000155',\n",
       "       '02929143000108', '22077499000178', '13407849000126',\n",
       "       '21013054000161', '12769734000119', '36874484000145',\n",
       "       '07822118000144', '01098104000143', '28147573000161',\n",
       "       '15210886000175', '10372200000129', '03065063000114',\n",
       "       '40220898000128', '49287499000159', '11066478000130',\n",
       "       '32403992000194', '50247694000134', '49493840000122',\n",
       "       '48173482000108', '11876320000126', '26991060000107',\n",
       "       '18901645000160', '79988601620', '49932039772', '01412905605',\n",
       "       '09006743690', '02848925647', '81061242668', '11803092602',\n",
       "       '31791247687', '03402164680', '46940235787', '06153182000117',\n",
       "       '07809370000113', '37714493000131', '15439366000139',\n",
       "       '17545961000184', '46321558000170', '22077847000107',\n",
       "       '22218845000190', '16553940000148', '20918668000120',\n",
       "       '27806274000129', '31097402000180', '41934826000105',\n",
       "       '30082076000174', '28820255000110', '24090700000182',\n",
       "       '35706397000116', '24789180000109', '34051252000161',\n",
       "       '38072714000188', '05108702000107', '33640261000125',\n",
       "       '20669174000159', '30284338000183', '27373218000148',\n",
       "       '34680592000151', '33813237000140', '06088334000145',\n",
       "       '47808825000109', '17417928000179', '45329312000181',\n",
       "       '05808628000131', '48411373000181', '27499665000148',\n",
       "       '11169061000101', '39889596000168', '31357846000107',\n",
       "       '45169346000156', '17623276000129', '30194698000194',\n",
       "       '29644666000164', '02852112698', '48290788000144', '02700680669'],\n",
       "      dtype=object)"
      ]
     },
     "execution_count": 25,
     "metadata": {},
     "output_type": "execute_result"
    }
   ],
   "source": [
    "# filtrando dos dados da coluna FAV\n",
    "df_cnpj = df[df['NOME_PI'] != 'PROFISSIONAL DE SAUDE AUTONOMO']\n",
    "df_cnpj = df[df['NOME_PI'] != 'ATENDIMENTO MEDICO-HOPITALR/FC']\n",
    "df_cnpj = df[df['NOME_PI'] != 'IND-INDENIZACOES']\n",
    "df_cnpj = df[df['NOME_PI'] != 'IND - INDENIZACOES']\n",
    "df_cnpj = df[df['NOME_PI'] != 'INDENIZACAO DESPESAS.']\n",
    "df_cnpj = df[df['NOME_PI'] != 'AUXILIO FINANCEIRO NÃO INDENIZÁVEL']\n",
    "df_cnpj = df[df['NOME_PI'] != 'INRE - RESTITUICAO E RESSARCIMENTO']\n",
    "df_cnpj = df[df['NOME_NDSI'] != 'OUTROS SERV.DE TERCEIROS PJ- PAGTO ANTECIPADO']\n",
    "df_cnpj = df[df['FAV'] != '160129']\n",
    "\n",
    "df_cnpj['FAV'].unique()"
   ]
  },
  {
   "cell_type": "code",
   "execution_count": 26,
   "metadata": {},
   "outputs": [
    {
     "data": {
      "text/html": [
       "<div>\n",
       "<style scoped>\n",
       "    .dataframe tbody tr th:only-of-type {\n",
       "        vertical-align: middle;\n",
       "    }\n",
       "\n",
       "    .dataframe tbody tr th {\n",
       "        vertical-align: top;\n",
       "    }\n",
       "\n",
       "    .dataframe thead th {\n",
       "        text-align: right;\n",
       "    }\n",
       "</style>\n",
       "<table border=\"1\" class=\"dataframe\">\n",
       "  <thead>\n",
       "    <tr style=\"text-align: right;\">\n",
       "      <th></th>\n",
       "      <th>UG</th>\n",
       "      <th>NOME_UG</th>\n",
       "      <th>ICFEX</th>\n",
       "      <th>NOME_ICFEX</th>\n",
       "      <th>T_COMANDO</th>\n",
       "      <th>T_RM</th>\n",
       "      <th>T_CIDADE</th>\n",
       "      <th>PROGRAMA</th>\n",
       "      <th>ACAO</th>\n",
       "      <th>NOME_ACAO</th>\n",
       "      <th>UGR</th>\n",
       "      <th>NOME_UGR</th>\n",
       "      <th>PTRES</th>\n",
       "      <th>PI</th>\n",
       "      <th>NOME_PI</th>\n",
       "      <th>ND</th>\n",
       "      <th>NOME_ND</th>\n",
       "      <th>NDSI</th>\n",
       "      <th>NOME_NDSI</th>\n",
       "      <th>NE</th>\n",
       "      <th>ANO</th>\n",
       "      <th>DATA</th>\n",
       "      <th>CHAVE</th>\n",
       "      <th>FAV</th>\n",
       "      <th>NOME_CREDOR</th>\n",
       "      <th>UF_FAV</th>\n",
       "      <th>TIPO</th>\n",
       "      <th>DIAS</th>\n",
       "      <th>UF_UG</th>\n",
       "      <th>FONTE</th>\n",
       "      <th>MOD_LIC</th>\n",
       "      <th>TIPO_NE</th>\n",
       "      <th>RP</th>\n",
       "      <th>NOME_RP</th>\n",
       "      <th>TIPO_CREDITO</th>\n",
       "      <th>NOME_TIPO_CREDITO</th>\n",
       "      <th>PO</th>\n",
       "      <th>AUTOR_EMENDA</th>\n",
       "      <th>NOME_AUTOR_EMENDA</th>\n",
       "      <th>LOCAL</th>\n",
       "      <th>UO</th>\n",
       "      <th>NOME_UO</th>\n",
       "      <th>RADPI4</th>\n",
       "      <th>MEIPI3</th>\n",
       "      <th>SUFPI4</th>\n",
       "      <th>A_LIQUIDAR</th>\n",
       "      <th>LIQUIDADO_A_PAGAR</th>\n",
       "      <th>TOTAL_A_PAGAR</th>\n",
       "      <th>PAGO</th>\n",
       "    </tr>\n",
       "  </thead>\n",
       "  <tbody>\n",
       "  </tbody>\n",
       "</table>\n",
       "</div>"
      ],
      "text/plain": [
       "Empty DataFrame\n",
       "Columns: [UG, NOME_UG, ICFEX, NOME_ICFEX, T_COMANDO, T_RM, T_CIDADE, PROGRAMA, ACAO, NOME_ACAO, UGR, NOME_UGR, PTRES, PI, NOME_PI, ND, NOME_ND, NDSI, NOME_NDSI, NE, ANO, DATA, CHAVE, FAV, NOME_CREDOR, UF_FAV, TIPO, DIAS, UF_UG, FONTE, MOD_LIC, TIPO_NE, RP, NOME_RP, TIPO_CREDITO, NOME_TIPO_CREDITO, PO, AUTOR_EMENDA, NOME_AUTOR_EMENDA, LOCAL, UO, NOME_UO, RADPI4, MEIPI3, SUFPI4, A_LIQUIDAR, LIQUIDADO_A_PAGAR, TOTAL_A_PAGAR, PAGO]\n",
       "Index: []"
      ]
     },
     "execution_count": 26,
     "metadata": {},
     "output_type": "execute_result"
    }
   ],
   "source": [
    "df_cnpj[df_cnpj['FAV'] == '160129']"
   ]
  },
  {
   "cell_type": "code",
   "execution_count": 27,
   "metadata": {},
   "outputs": [
    {
     "data": {
      "text/html": [
       "<div>\n",
       "<style scoped>\n",
       "    .dataframe tbody tr th:only-of-type {\n",
       "        vertical-align: middle;\n",
       "    }\n",
       "\n",
       "    .dataframe tbody tr th {\n",
       "        vertical-align: top;\n",
       "    }\n",
       "\n",
       "    .dataframe thead th {\n",
       "        text-align: right;\n",
       "    }\n",
       "</style>\n",
       "<table border=\"1\" class=\"dataframe\">\n",
       "  <thead>\n",
       "    <tr style=\"text-align: right;\">\n",
       "      <th></th>\n",
       "      <th>UG</th>\n",
       "      <th>NOME_UG</th>\n",
       "      <th>ICFEX</th>\n",
       "      <th>NOME_ICFEX</th>\n",
       "      <th>T_COMANDO</th>\n",
       "      <th>T_RM</th>\n",
       "      <th>T_CIDADE</th>\n",
       "      <th>PROGRAMA</th>\n",
       "      <th>ACAO</th>\n",
       "      <th>NOME_ACAO</th>\n",
       "      <th>UGR</th>\n",
       "      <th>NOME_UGR</th>\n",
       "      <th>PTRES</th>\n",
       "      <th>PI</th>\n",
       "      <th>NOME_PI</th>\n",
       "      <th>ND</th>\n",
       "      <th>NOME_ND</th>\n",
       "      <th>NDSI</th>\n",
       "      <th>NOME_NDSI</th>\n",
       "      <th>NE</th>\n",
       "      <th>ANO</th>\n",
       "      <th>DATA</th>\n",
       "      <th>CHAVE</th>\n",
       "      <th>FAV</th>\n",
       "      <th>NOME_CREDOR</th>\n",
       "      <th>UF_FAV</th>\n",
       "      <th>TIPO</th>\n",
       "      <th>DIAS</th>\n",
       "      <th>UF_UG</th>\n",
       "      <th>FONTE</th>\n",
       "      <th>MOD_LIC</th>\n",
       "      <th>TIPO_NE</th>\n",
       "      <th>RP</th>\n",
       "      <th>NOME_RP</th>\n",
       "      <th>TIPO_CREDITO</th>\n",
       "      <th>NOME_TIPO_CREDITO</th>\n",
       "      <th>PO</th>\n",
       "      <th>AUTOR_EMENDA</th>\n",
       "      <th>NOME_AUTOR_EMENDA</th>\n",
       "      <th>LOCAL</th>\n",
       "      <th>UO</th>\n",
       "      <th>NOME_UO</th>\n",
       "      <th>RADPI4</th>\n",
       "      <th>MEIPI3</th>\n",
       "      <th>SUFPI4</th>\n",
       "      <th>A_LIQUIDAR</th>\n",
       "      <th>LIQUIDADO_A_PAGAR</th>\n",
       "      <th>TOTAL_A_PAGAR</th>\n",
       "      <th>PAGO</th>\n",
       "    </tr>\n",
       "  </thead>\n",
       "  <tbody>\n",
       "    <tr>\n",
       "      <th>3</th>\n",
       "      <td>160129</td>\n",
       "      <td>ESA</td>\n",
       "      <td>160533</td>\n",
       "      <td>4º CGCFEX</td>\n",
       "      <td>CML</td>\n",
       "      <td>4ª RM</td>\n",
       "      <td>Três Corações</td>\n",
       "      <td>0032</td>\n",
       "      <td>2000</td>\n",
       "      <td>ADMINISTRACAO DA UNIDADE</td>\n",
       "      <td>160073</td>\n",
       "      <td>DGO</td>\n",
       "      <td>171460</td>\n",
       "      <td>I3DACNTLICO</td>\n",
       "      <td>LIMPEZA DE BENS IMÓVEIS</td>\n",
       "      <td>339037</td>\n",
       "      <td>LOCACAO DE MAO-DE-OBRA</td>\n",
       "      <td>33903702</td>\n",
       "      <td>LIMPEZA E CONSERVACAO</td>\n",
       "      <td>2024NE000004</td>\n",
       "      <td>2024</td>\n",
       "      <td>2024-01-10</td>\n",
       "      <td>160129000012024NE000004</td>\n",
       "      <td>39750831000116</td>\n",
       "      <td>ECOLIMP SERVICOS GERAIS LTDA</td>\n",
       "      <td>RJ</td>\n",
       "      <td>ANO</td>\n",
       "      <td>177</td>\n",
       "      <td>MG</td>\n",
       "      <td>1000000000</td>\n",
       "      <td>PREGAO</td>\n",
       "      <td>GLOBAL</td>\n",
       "      <td>2</td>\n",
       "      <td>PRIMARIO DISCRICIONARIO</td>\n",
       "      <td>A</td>\n",
       "      <td>INICIAL (LOA)</td>\n",
       "      <td>0004</td>\n",
       "      <td>000000000000</td>\n",
       "      <td>SEM EMENDA</td>\n",
       "      <td>ESCOLA DE SARGENTOS DAS ARMAS</td>\n",
       "      <td>52121</td>\n",
       "      <td>COMANDO DO EXERCITO</td>\n",
       "      <td>I3DA</td>\n",
       "      <td>CNT</td>\n",
       "      <td>LICO</td>\n",
       "      <td>0.00</td>\n",
       "      <td>2996.02</td>\n",
       "      <td>2996.02</td>\n",
       "      <td>100657.58</td>\n",
       "    </tr>\n",
       "    <tr>\n",
       "      <th>4</th>\n",
       "      <td>160129</td>\n",
       "      <td>ESA</td>\n",
       "      <td>160533</td>\n",
       "      <td>4º CGCFEX</td>\n",
       "      <td>CML</td>\n",
       "      <td>4ª RM</td>\n",
       "      <td>Três Corações</td>\n",
       "      <td>0032</td>\n",
       "      <td>2000</td>\n",
       "      <td>ADMINISTRACAO DA UNIDADE</td>\n",
       "      <td>160073</td>\n",
       "      <td>DGO</td>\n",
       "      <td>171460</td>\n",
       "      <td>I3DACNTLICO</td>\n",
       "      <td>LIMPEZA DE BENS IMÓVEIS</td>\n",
       "      <td>339037</td>\n",
       "      <td>LOCACAO DE MAO-DE-OBRA</td>\n",
       "      <td>33903702</td>\n",
       "      <td>LIMPEZA E CONSERVACAO</td>\n",
       "      <td>2024NE000071</td>\n",
       "      <td>2024</td>\n",
       "      <td>2024-02-14</td>\n",
       "      <td>160129000012024NE000071</td>\n",
       "      <td>39750831000116</td>\n",
       "      <td>ECOLIMP SERVICOS GERAIS LTDA</td>\n",
       "      <td>RJ</td>\n",
       "      <td>ANO</td>\n",
       "      <td>142</td>\n",
       "      <td>MG</td>\n",
       "      <td>1000000000</td>\n",
       "      <td>PREGAO</td>\n",
       "      <td>GLOBAL</td>\n",
       "      <td>2</td>\n",
       "      <td>PRIMARIO DISCRICIONARIO</td>\n",
       "      <td>A</td>\n",
       "      <td>INICIAL (LOA)</td>\n",
       "      <td>0004</td>\n",
       "      <td>000000000000</td>\n",
       "      <td>SEM EMENDA</td>\n",
       "      <td>ESCOLA DE SARGENTOS DAS ARMAS - AV. SETE DE SE...</td>\n",
       "      <td>52121</td>\n",
       "      <td>COMANDO DO EXERCITO</td>\n",
       "      <td>I3DA</td>\n",
       "      <td>CNT</td>\n",
       "      <td>LICO</td>\n",
       "      <td>204638.94</td>\n",
       "      <td>0.00</td>\n",
       "      <td>204638.94</td>\n",
       "      <td>8271.63</td>\n",
       "    </tr>\n",
       "  </tbody>\n",
       "</table>\n",
       "</div>"
      ],
      "text/plain": [
       "       UG NOME_UG   ICFEX NOME_ICFEX T_COMANDO   T_RM       T_CIDADE PROGRAMA  \\\n",
       "3  160129     ESA  160533  4º CGCFEX       CML  4ª RM  Três Corações     0032   \n",
       "4  160129     ESA  160533  4º CGCFEX       CML  4ª RM  Três Corações     0032   \n",
       "\n",
       "   ACAO                 NOME_ACAO     UGR NOME_UGR   PTRES           PI  \\\n",
       "3  2000  ADMINISTRACAO DA UNIDADE  160073      DGO  171460  I3DACNTLICO   \n",
       "4  2000  ADMINISTRACAO DA UNIDADE  160073      DGO  171460  I3DACNTLICO   \n",
       "\n",
       "                   NOME_PI      ND                 NOME_ND      NDSI  \\\n",
       "3  LIMPEZA DE BENS IMÓVEIS  339037  LOCACAO DE MAO-DE-OBRA  33903702   \n",
       "4  LIMPEZA DE BENS IMÓVEIS  339037  LOCACAO DE MAO-DE-OBRA  33903702   \n",
       "\n",
       "               NOME_NDSI            NE   ANO       DATA  \\\n",
       "3  LIMPEZA E CONSERVACAO  2024NE000004  2024 2024-01-10   \n",
       "4  LIMPEZA E CONSERVACAO  2024NE000071  2024 2024-02-14   \n",
       "\n",
       "                     CHAVE             FAV                   NOME_CREDOR  \\\n",
       "3  160129000012024NE000004  39750831000116  ECOLIMP SERVICOS GERAIS LTDA   \n",
       "4  160129000012024NE000071  39750831000116  ECOLIMP SERVICOS GERAIS LTDA   \n",
       "\n",
       "  UF_FAV TIPO  DIAS UF_UG       FONTE MOD_LIC TIPO_NE RP  \\\n",
       "3     RJ  ANO   177    MG  1000000000  PREGAO  GLOBAL  2   \n",
       "4     RJ  ANO   142    MG  1000000000  PREGAO  GLOBAL  2   \n",
       "\n",
       "                   NOME_RP TIPO_CREDITO NOME_TIPO_CREDITO    PO  AUTOR_EMENDA  \\\n",
       "3  PRIMARIO DISCRICIONARIO            A     INICIAL (LOA)  0004  000000000000   \n",
       "4  PRIMARIO DISCRICIONARIO            A     INICIAL (LOA)  0004  000000000000   \n",
       "\n",
       "  NOME_AUTOR_EMENDA                                              LOCAL     UO  \\\n",
       "3        SEM EMENDA                      ESCOLA DE SARGENTOS DAS ARMAS  52121   \n",
       "4        SEM EMENDA  ESCOLA DE SARGENTOS DAS ARMAS - AV. SETE DE SE...  52121   \n",
       "\n",
       "               NOME_UO RADPI4 MEIPI3 SUFPI4  A_LIQUIDAR  LIQUIDADO_A_PAGAR  \\\n",
       "3  COMANDO DO EXERCITO   I3DA    CNT   LICO        0.00            2996.02   \n",
       "4  COMANDO DO EXERCITO   I3DA    CNT   LICO   204638.94               0.00   \n",
       "\n",
       "   TOTAL_A_PAGAR       PAGO  \n",
       "3        2996.02  100657.58  \n",
       "4      204638.94    8271.63  "
      ]
     },
     "execution_count": 27,
     "metadata": {},
     "output_type": "execute_result"
    }
   ],
   "source": [
    "ano_atual = str(datetime.now().year)\n",
    "\n",
    "\n",
    "df_corrente = df[df['ANO'] == ano_atual]\n",
    "df_corrente.head(2)"
   ]
  },
  {
   "cell_type": "markdown",
   "metadata": {},
   "source": [
    "# Pesquisas no DataFrame"
   ]
  },
  {
   "cell_type": "code",
   "execution_count": 28,
   "metadata": {},
   "outputs": [],
   "source": [
    "# Criando um DataFrame para testes \n",
    "df_teste = df.copy()"
   ]
  },
  {
   "cell_type": "markdown",
   "metadata": {},
   "source": [
    "## Empenhos inscritos em RPNP"
   ]
  },
  {
   "cell_type": "code",
   "execution_count": 29,
   "metadata": {},
   "outputs": [],
   "source": [
    "# Criando um Dataframe para filtrar os empenhos em RPNP\n",
    "df_restos = df_teste[df_teste['ANO'].isin(['2022', '2023'])]\n",
    "df_restos = df_restos[df_restos['A_LIQUIDAR'] !=  0]"
   ]
  },
  {
   "cell_type": "markdown",
   "metadata": {},
   "source": [
    "### Restos a pagar ND 30 e 52"
   ]
  },
  {
   "cell_type": "code",
   "execution_count": 30,
   "metadata": {},
   "outputs": [],
   "source": [
    "df_restos_material = df_restos[df_restos['ND'].isin(['339030', '449052' ])]\n",
    "df_restos_material = df_restos_material.sort_values(by='A_LIQUIDAR', ascending=False)\n",
    "df_restos_material.head()\n",
    "df_restos_material.to_excel('restos_a_pagar_2024.xlsx')"
   ]
  },
  {
   "cell_type": "code",
   "execution_count": 31,
   "metadata": {},
   "outputs": [
    {
     "data": {
      "text/html": [
       "<div>\n",
       "<style scoped>\n",
       "    .dataframe tbody tr th:only-of-type {\n",
       "        vertical-align: middle;\n",
       "    }\n",
       "\n",
       "    .dataframe tbody tr th {\n",
       "        vertical-align: top;\n",
       "    }\n",
       "\n",
       "    .dataframe thead th {\n",
       "        text-align: right;\n",
       "    }\n",
       "</style>\n",
       "<table border=\"1\" class=\"dataframe\">\n",
       "  <thead>\n",
       "    <tr style=\"text-align: right;\">\n",
       "      <th></th>\n",
       "      <th>UG</th>\n",
       "      <th>ACAO</th>\n",
       "      <th>NOME_ACAO</th>\n",
       "      <th>ANO</th>\n",
       "      <th>NOME_CREDOR</th>\n",
       "      <th>DATA</th>\n",
       "      <th>DIAS</th>\n",
       "      <th>ND</th>\n",
       "      <th>NOME_ND</th>\n",
       "      <th>NDSI</th>\n",
       "      <th>NOME_NDSI</th>\n",
       "      <th>NE</th>\n",
       "      <th>PI</th>\n",
       "      <th>NOME_PI</th>\n",
       "      <th>TIPO</th>\n",
       "      <th>TIPO_NE</th>\n",
       "      <th>NOME_UGR</th>\n",
       "      <th>A_LIQUIDAR</th>\n",
       "      <th>LIQUIDADO_A_PAGAR</th>\n",
       "      <th>TOTAL_A_PAGAR</th>\n",
       "      <th>PAGO</th>\n",
       "    </tr>\n",
       "  </thead>\n",
       "  <tbody>\n",
       "    <tr>\n",
       "      <th>376</th>\n",
       "      <td>160129</td>\n",
       "      <td>8965</td>\n",
       "      <td>CAPACITACAO PROFISSIONAL MILITAR DO E</td>\n",
       "      <td>2023</td>\n",
       "      <td>ORLEANS VIAGENS E TURISMO LTDA</td>\n",
       "      <td>2023-02-03</td>\n",
       "      <td>518</td>\n",
       "      <td>339033</td>\n",
       "      <td>PASSAGENS E DESPESAS COM LOCOMOCAO</td>\n",
       "      <td>33903301</td>\n",
       "      <td>PASSAGENS PARA O PAIS</td>\n",
       "      <td>2023NE000034</td>\n",
       "      <td>C4ENMILCAPE</td>\n",
       "      <td>CAPACITACAO DE PESSOAL</td>\n",
       "      <td>RPNP</td>\n",
       "      <td>GLOBAL</td>\n",
       "      <td>DECEX/GESTOR</td>\n",
       "      <td>3981.86</td>\n",
       "      <td>240.60</td>\n",
       "      <td>4222.46</td>\n",
       "      <td>5595.29</td>\n",
       "    </tr>\n",
       "    <tr>\n",
       "      <th>375</th>\n",
       "      <td>160129</td>\n",
       "      <td>8965</td>\n",
       "      <td>CAPACITACAO PROFISSIONAL MILITAR DO E</td>\n",
       "      <td>2023</td>\n",
       "      <td>FACTO TURISMO  LTDA</td>\n",
       "      <td>2023-02-03</td>\n",
       "      <td>518</td>\n",
       "      <td>339033</td>\n",
       "      <td>PASSAGENS E DESPESAS COM LOCOMOCAO</td>\n",
       "      <td>33903301</td>\n",
       "      <td>PASSAGENS PARA O PAIS</td>\n",
       "      <td>2023NE000033</td>\n",
       "      <td>C4ENMILCAPE</td>\n",
       "      <td>CAPACITACAO DE PESSOAL</td>\n",
       "      <td>RPNP</td>\n",
       "      <td>GLOBAL</td>\n",
       "      <td>DECEX/GESTOR</td>\n",
       "      <td>11740.31</td>\n",
       "      <td>381.55</td>\n",
       "      <td>12121.86</td>\n",
       "      <td>10376.24</td>\n",
       "    </tr>\n",
       "  </tbody>\n",
       "</table>\n",
       "</div>"
      ],
      "text/plain": [
       "         UG  ACAO                              NOME_ACAO   ANO  \\\n",
       "376  160129  8965  CAPACITACAO PROFISSIONAL MILITAR DO E  2023   \n",
       "375  160129  8965  CAPACITACAO PROFISSIONAL MILITAR DO E  2023   \n",
       "\n",
       "                        NOME_CREDOR       DATA  DIAS      ND  \\\n",
       "376  ORLEANS VIAGENS E TURISMO LTDA 2023-02-03   518  339033   \n",
       "375             FACTO TURISMO  LTDA 2023-02-03   518  339033   \n",
       "\n",
       "                                NOME_ND      NDSI              NOME_NDSI  \\\n",
       "376  PASSAGENS E DESPESAS COM LOCOMOCAO  33903301  PASSAGENS PARA O PAIS   \n",
       "375  PASSAGENS E DESPESAS COM LOCOMOCAO  33903301  PASSAGENS PARA O PAIS   \n",
       "\n",
       "               NE           PI                 NOME_PI  TIPO TIPO_NE  \\\n",
       "376  2023NE000034  C4ENMILCAPE  CAPACITACAO DE PESSOAL  RPNP  GLOBAL   \n",
       "375  2023NE000033  C4ENMILCAPE  CAPACITACAO DE PESSOAL  RPNP  GLOBAL   \n",
       "\n",
       "         NOME_UGR  A_LIQUIDAR  LIQUIDADO_A_PAGAR  TOTAL_A_PAGAR      PAGO  \n",
       "376  DECEX/GESTOR     3981.86             240.60        4222.46   5595.29  \n",
       "375  DECEX/GESTOR    11740.31             381.55       12121.86  10376.24  "
      ]
     },
     "execution_count": 31,
     "metadata": {},
     "output_type": "execute_result"
    }
   ],
   "source": [
    "cols = ['UG', 'ACAO', 'NOME_ACAO', 'ANO', 'NOME_CREDOR',\n",
    "'DATA', 'DIAS', 'ND', 'NOME_ND', 'NDSI', 'NOME_NDSI', 'NE', 'PI', \n",
    "'NOME_PI', 'TIPO', 'TIPO_NE', 'NOME_UGR', 'A_LIQUIDAR', \n",
    "'LIQUIDADO_A_PAGAR', 'TOTAL_A_PAGAR', 'PAGO']\n",
    "\n",
    "df_filtro = df_teste.loc[:,cols]\n",
    "df_filtro = df_filtro[df_filtro['A_LIQUIDAR'] != 0]\n",
    "df_filtro.sort_values(by='DIAS', ascending=False).head(2)"
   ]
  },
  {
   "cell_type": "markdown",
   "metadata": {},
   "source": [
    "### Filtros Diversos"
   ]
  },
  {
   "cell_type": "code",
   "execution_count": 32,
   "metadata": {},
   "outputs": [],
   "source": [
    "df_liquidar = df_teste[df_teste['A_LIQUIDAR'] != 0].sort_values(by= 'DIAS', ascending= False).reset_index(drop=True)"
   ]
  },
  {
   "cell_type": "code",
   "execution_count": 33,
   "metadata": {},
   "outputs": [
    {
     "data": {
      "text/html": [
       "<div>\n",
       "<style scoped>\n",
       "    .dataframe tbody tr th:only-of-type {\n",
       "        vertical-align: middle;\n",
       "    }\n",
       "\n",
       "    .dataframe tbody tr th {\n",
       "        vertical-align: top;\n",
       "    }\n",
       "\n",
       "    .dataframe thead th {\n",
       "        text-align: right;\n",
       "    }\n",
       "</style>\n",
       "<table border=\"1\" class=\"dataframe\">\n",
       "  <thead>\n",
       "    <tr style=\"text-align: right;\">\n",
       "      <th></th>\n",
       "      <th>UG</th>\n",
       "      <th>ACAO</th>\n",
       "      <th>NOME_ACAO</th>\n",
       "      <th>NOME_UGR</th>\n",
       "      <th>PI</th>\n",
       "      <th>NOME_PI</th>\n",
       "      <th>ND</th>\n",
       "      <th>NOME_ND</th>\n",
       "      <th>NDSI</th>\n",
       "      <th>NOME_NDSI</th>\n",
       "      <th>NE</th>\n",
       "      <th>ANO</th>\n",
       "      <th>DATA</th>\n",
       "      <th>FAV</th>\n",
       "      <th>NOME_CREDOR</th>\n",
       "      <th>UF_FAV</th>\n",
       "      <th>TIPO</th>\n",
       "      <th>DIAS</th>\n",
       "      <th>UF_UG</th>\n",
       "      <th>MOD_LIC</th>\n",
       "      <th>TIPO_NE</th>\n",
       "      <th>RP</th>\n",
       "      <th>NOME_RP</th>\n",
       "      <th>UO</th>\n",
       "      <th>NOME_UO</th>\n",
       "      <th>A_LIQUIDAR</th>\n",
       "      <th>LIQUIDADO_A_PAGAR</th>\n",
       "      <th>TOTAL_A_PAGAR</th>\n",
       "      <th>PAGO</th>\n",
       "    </tr>\n",
       "  </thead>\n",
       "  <tbody>\n",
       "    <tr>\n",
       "      <th>0</th>\n",
       "      <td>160129</td>\n",
       "      <td>8965</td>\n",
       "      <td>CAPACITACAO PROFISSIONAL MILITAR DO E</td>\n",
       "      <td>DECEX/GESTOR</td>\n",
       "      <td>C4ENMILCAPE</td>\n",
       "      <td>CAPACITACAO DE PESSOAL</td>\n",
       "      <td>339033</td>\n",
       "      <td>PASSAGENS E DESPESAS COM LOCOMOCAO</td>\n",
       "      <td>33903301</td>\n",
       "      <td>PASSAGENS PARA O PAIS</td>\n",
       "      <td>2023NE000034</td>\n",
       "      <td>2023</td>\n",
       "      <td>2023-02-03</td>\n",
       "      <td>21331404000138</td>\n",
       "      <td>ORLEANS VIAGENS E TURISMO LTDA</td>\n",
       "      <td>SP</td>\n",
       "      <td>RPNP</td>\n",
       "      <td>518</td>\n",
       "      <td>MG</td>\n",
       "      <td>PREGAO</td>\n",
       "      <td>GLOBAL</td>\n",
       "      <td>2</td>\n",
       "      <td>PRIMARIO DISCRICIONARIO</td>\n",
       "      <td>52121</td>\n",
       "      <td>COMANDO DO EXERCITO</td>\n",
       "      <td>3981.86</td>\n",
       "      <td>240.60</td>\n",
       "      <td>4222.46</td>\n",
       "      <td>5595.29</td>\n",
       "    </tr>\n",
       "    <tr>\n",
       "      <th>1</th>\n",
       "      <td>160129</td>\n",
       "      <td>8965</td>\n",
       "      <td>CAPACITACAO PROFISSIONAL MILITAR DO E</td>\n",
       "      <td>DECEX/GESTOR</td>\n",
       "      <td>C4ENMILCAPE</td>\n",
       "      <td>CAPACITACAO DE PESSOAL</td>\n",
       "      <td>339033</td>\n",
       "      <td>PASSAGENS E DESPESAS COM LOCOMOCAO</td>\n",
       "      <td>33903301</td>\n",
       "      <td>PASSAGENS PARA O PAIS</td>\n",
       "      <td>2023NE000033</td>\n",
       "      <td>2023</td>\n",
       "      <td>2023-02-03</td>\n",
       "      <td>14807420000199</td>\n",
       "      <td>FACTO TURISMO  LTDA</td>\n",
       "      <td>SP</td>\n",
       "      <td>RPNP</td>\n",
       "      <td>518</td>\n",
       "      <td>MG</td>\n",
       "      <td>PREGAO</td>\n",
       "      <td>GLOBAL</td>\n",
       "      <td>2</td>\n",
       "      <td>PRIMARIO DISCRICIONARIO</td>\n",
       "      <td>52121</td>\n",
       "      <td>COMANDO DO EXERCITO</td>\n",
       "      <td>11740.31</td>\n",
       "      <td>381.55</td>\n",
       "      <td>12121.86</td>\n",
       "      <td>10376.24</td>\n",
       "    </tr>\n",
       "    <tr>\n",
       "      <th>2</th>\n",
       "      <td>160129</td>\n",
       "      <td>8965</td>\n",
       "      <td>CAPACITACAO PROFISSIONAL MILITAR DO E</td>\n",
       "      <td>DECEX/GESTOR</td>\n",
       "      <td>C4ENMILCAPE</td>\n",
       "      <td>CAPACITACAO DE PESSOAL</td>\n",
       "      <td>339039</td>\n",
       "      <td>OUTROS SERVICOS DE TERCEIROS - PESSOA JURIDICA</td>\n",
       "      <td>33903946</td>\n",
       "      <td>SERVICOS DOMESTICOS</td>\n",
       "      <td>2023NE000157</td>\n",
       "      <td>2023</td>\n",
       "      <td>2023-02-15</td>\n",
       "      <td>02347121000210</td>\n",
       "      <td>ASMAR &amp; FURTADO LTDA</td>\n",
       "      <td>MG</td>\n",
       "      <td>RPNP</td>\n",
       "      <td>506</td>\n",
       "      <td>MG</td>\n",
       "      <td>PREGAO</td>\n",
       "      <td>GLOBAL</td>\n",
       "      <td>2</td>\n",
       "      <td>PRIMARIO DISCRICIONARIO</td>\n",
       "      <td>52121</td>\n",
       "      <td>COMANDO DO EXERCITO</td>\n",
       "      <td>301.55</td>\n",
       "      <td>0.00</td>\n",
       "      <td>301.55</td>\n",
       "      <td>3745.58</td>\n",
       "    </tr>\n",
       "    <tr>\n",
       "      <th>3</th>\n",
       "      <td>160129</td>\n",
       "      <td>8965</td>\n",
       "      <td>CAPACITACAO PROFISSIONAL MILITAR DO E</td>\n",
       "      <td>DECEX/GESTOR</td>\n",
       "      <td>C4ENMILCAPE</td>\n",
       "      <td>CAPACITACAO DE PESSOAL</td>\n",
       "      <td>339033</td>\n",
       "      <td>PASSAGENS E DESPESAS COM LOCOMOCAO</td>\n",
       "      <td>33903301</td>\n",
       "      <td>PASSAGENS PARA O PAIS</td>\n",
       "      <td>2023NE000329</td>\n",
       "      <td>2023</td>\n",
       "      <td>2023-04-03</td>\n",
       "      <td>14807420000199</td>\n",
       "      <td>FACTO TURISMO  LTDA</td>\n",
       "      <td>SP</td>\n",
       "      <td>RPNP</td>\n",
       "      <td>459</td>\n",
       "      <td>MG</td>\n",
       "      <td>PREGAO</td>\n",
       "      <td>GLOBAL</td>\n",
       "      <td>2</td>\n",
       "      <td>PRIMARIO DISCRICIONARIO</td>\n",
       "      <td>52121</td>\n",
       "      <td>COMANDO DO EXERCITO</td>\n",
       "      <td>2369.34</td>\n",
       "      <td>0.00</td>\n",
       "      <td>2369.34</td>\n",
       "      <td>1789.14</td>\n",
       "    </tr>\n",
       "    <tr>\n",
       "      <th>4</th>\n",
       "      <td>167129</td>\n",
       "      <td>2004</td>\n",
       "      <td>ASSISTENCIA MEDICA E ODONTOLOGICA AOS</td>\n",
       "      <td>DGP</td>\n",
       "      <td>D8SACNTLARO</td>\n",
       "      <td>LAVAGEM DE ROUPAS PARA A VIDA VEGETATIVA OM</td>\n",
       "      <td>339039</td>\n",
       "      <td>OUTROS SERVICOS DE TERCEIROS - PESSOA JURIDICA</td>\n",
       "      <td>33903946</td>\n",
       "      <td>SERVICOS DOMESTICOS</td>\n",
       "      <td>2023NE000890</td>\n",
       "      <td>2023</td>\n",
       "      <td>2023-04-28</td>\n",
       "      <td>02347121000210</td>\n",
       "      <td>ASMAR &amp; FURTADO LTDA</td>\n",
       "      <td>MG</td>\n",
       "      <td>RPNP</td>\n",
       "      <td>434</td>\n",
       "      <td>MG</td>\n",
       "      <td>PREGAO</td>\n",
       "      <td>GLOBAL</td>\n",
       "      <td>1</td>\n",
       "      <td>PRIMARIO OBRIGATORIO</td>\n",
       "      <td>52921</td>\n",
       "      <td>FUNDO DO EXERCITO</td>\n",
       "      <td>478.06</td>\n",
       "      <td>0.00</td>\n",
       "      <td>478.06</td>\n",
       "      <td>2921.31</td>\n",
       "    </tr>\n",
       "  </tbody>\n",
       "</table>\n",
       "</div>"
      ],
      "text/plain": [
       "       UG  ACAO                              NOME_ACAO      NOME_UGR  \\\n",
       "0  160129  8965  CAPACITACAO PROFISSIONAL MILITAR DO E  DECEX/GESTOR   \n",
       "1  160129  8965  CAPACITACAO PROFISSIONAL MILITAR DO E  DECEX/GESTOR   \n",
       "2  160129  8965  CAPACITACAO PROFISSIONAL MILITAR DO E  DECEX/GESTOR   \n",
       "3  160129  8965  CAPACITACAO PROFISSIONAL MILITAR DO E  DECEX/GESTOR   \n",
       "4  167129  2004  ASSISTENCIA MEDICA E ODONTOLOGICA AOS           DGP   \n",
       "\n",
       "            PI                                      NOME_PI      ND  \\\n",
       "0  C4ENMILCAPE                       CAPACITACAO DE PESSOAL  339033   \n",
       "1  C4ENMILCAPE                       CAPACITACAO DE PESSOAL  339033   \n",
       "2  C4ENMILCAPE                       CAPACITACAO DE PESSOAL  339039   \n",
       "3  C4ENMILCAPE                       CAPACITACAO DE PESSOAL  339033   \n",
       "4  D8SACNTLARO  LAVAGEM DE ROUPAS PARA A VIDA VEGETATIVA OM  339039   \n",
       "\n",
       "                                          NOME_ND      NDSI  \\\n",
       "0              PASSAGENS E DESPESAS COM LOCOMOCAO  33903301   \n",
       "1              PASSAGENS E DESPESAS COM LOCOMOCAO  33903301   \n",
       "2  OUTROS SERVICOS DE TERCEIROS - PESSOA JURIDICA  33903946   \n",
       "3              PASSAGENS E DESPESAS COM LOCOMOCAO  33903301   \n",
       "4  OUTROS SERVICOS DE TERCEIROS - PESSOA JURIDICA  33903946   \n",
       "\n",
       "               NOME_NDSI            NE   ANO       DATA             FAV  \\\n",
       "0  PASSAGENS PARA O PAIS  2023NE000034  2023 2023-02-03  21331404000138   \n",
       "1  PASSAGENS PARA O PAIS  2023NE000033  2023 2023-02-03  14807420000199   \n",
       "2    SERVICOS DOMESTICOS  2023NE000157  2023 2023-02-15  02347121000210   \n",
       "3  PASSAGENS PARA O PAIS  2023NE000329  2023 2023-04-03  14807420000199   \n",
       "4    SERVICOS DOMESTICOS  2023NE000890  2023 2023-04-28  02347121000210   \n",
       "\n",
       "                      NOME_CREDOR UF_FAV  TIPO  DIAS UF_UG MOD_LIC TIPO_NE RP  \\\n",
       "0  ORLEANS VIAGENS E TURISMO LTDA     SP  RPNP   518    MG  PREGAO  GLOBAL  2   \n",
       "1             FACTO TURISMO  LTDA     SP  RPNP   518    MG  PREGAO  GLOBAL  2   \n",
       "2            ASMAR & FURTADO LTDA     MG  RPNP   506    MG  PREGAO  GLOBAL  2   \n",
       "3             FACTO TURISMO  LTDA     SP  RPNP   459    MG  PREGAO  GLOBAL  2   \n",
       "4            ASMAR & FURTADO LTDA     MG  RPNP   434    MG  PREGAO  GLOBAL  1   \n",
       "\n",
       "                   NOME_RP     UO              NOME_UO  A_LIQUIDAR  \\\n",
       "0  PRIMARIO DISCRICIONARIO  52121  COMANDO DO EXERCITO     3981.86   \n",
       "1  PRIMARIO DISCRICIONARIO  52121  COMANDO DO EXERCITO    11740.31   \n",
       "2  PRIMARIO DISCRICIONARIO  52121  COMANDO DO EXERCITO      301.55   \n",
       "3  PRIMARIO DISCRICIONARIO  52121  COMANDO DO EXERCITO     2369.34   \n",
       "4     PRIMARIO OBRIGATORIO  52921    FUNDO DO EXERCITO      478.06   \n",
       "\n",
       "   LIQUIDADO_A_PAGAR  TOTAL_A_PAGAR      PAGO  \n",
       "0             240.60        4222.46   5595.29  \n",
       "1             381.55       12121.86  10376.24  \n",
       "2               0.00         301.55   3745.58  \n",
       "3               0.00        2369.34   1789.14  \n",
       "4               0.00         478.06   2921.31  "
      ]
     },
     "execution_count": 33,
     "metadata": {},
     "output_type": "execute_result"
    }
   ],
   "source": [
    "cols = ['UG', 'ACAO', 'NOME_ACAO', 'NOME_UGR', 'PI',\n",
    "       'NOME_PI', 'ND', 'NOME_ND', 'NDSI', 'NOME_NDSI', 'NE', 'ANO', 'DATA',\n",
    "       'FAV', 'NOME_CREDOR', 'UF_FAV', 'TIPO', 'DIAS', 'UF_UG',\n",
    "       'MOD_LIC', 'TIPO_NE', 'RP', 'NOME_RP', 'UO', 'NOME_UO', 'A_LIQUIDAR',\n",
    "       'LIQUIDADO_A_PAGAR', 'TOTAL_A_PAGAR', 'PAGO']\n",
    "\n",
    "df_liquidar.loc[:, cols].head()"
   ]
  },
  {
   "cell_type": "code",
   "execution_count": 34,
   "metadata": {},
   "outputs": [],
   "source": [
    "df_liquidar.to_excel('empenhos_2024_liquidar.xlsx')"
   ]
  },
  {
   "cell_type": "code",
   "execution_count": 35,
   "metadata": {},
   "outputs": [],
   "source": [
    "df_empenhos_mais_60_dias = df_teste[(df_teste['DIAS'] >= 60)& (df_teste['A_LIQUIDAR'] != 0)].sort_values(by=\"A_LIQUIDAR\", ascending=False)\n",
    "\n",
    "df_empenhos_mais_60_dias.to_excel('empenhos_mais_60_dias.xlsx')"
   ]
  },
  {
   "cell_type": "code",
   "execution_count": 36,
   "metadata": {},
   "outputs": [
    {
     "data": {
      "text/html": [
       "<div>\n",
       "<style scoped>\n",
       "    .dataframe tbody tr th:only-of-type {\n",
       "        vertical-align: middle;\n",
       "    }\n",
       "\n",
       "    .dataframe tbody tr th {\n",
       "        vertical-align: top;\n",
       "    }\n",
       "\n",
       "    .dataframe thead th {\n",
       "        text-align: right;\n",
       "    }\n",
       "</style>\n",
       "<table border=\"1\" class=\"dataframe\">\n",
       "  <thead>\n",
       "    <tr style=\"text-align: right;\">\n",
       "      <th></th>\n",
       "      <th>UG</th>\n",
       "      <th>NOME_UG</th>\n",
       "      <th>ICFEX</th>\n",
       "      <th>NOME_ICFEX</th>\n",
       "      <th>T_COMANDO</th>\n",
       "      <th>T_RM</th>\n",
       "      <th>T_CIDADE</th>\n",
       "      <th>PROGRAMA</th>\n",
       "      <th>ACAO</th>\n",
       "      <th>NOME_ACAO</th>\n",
       "      <th>UGR</th>\n",
       "      <th>NOME_UGR</th>\n",
       "      <th>PTRES</th>\n",
       "      <th>PI</th>\n",
       "      <th>NOME_PI</th>\n",
       "      <th>ND</th>\n",
       "      <th>NOME_ND</th>\n",
       "      <th>NDSI</th>\n",
       "      <th>NOME_NDSI</th>\n",
       "      <th>NE</th>\n",
       "      <th>ANO</th>\n",
       "      <th>DATA</th>\n",
       "      <th>CHAVE</th>\n",
       "      <th>FAV</th>\n",
       "      <th>NOME_CREDOR</th>\n",
       "      <th>UF_FAV</th>\n",
       "      <th>TIPO</th>\n",
       "      <th>DIAS</th>\n",
       "      <th>UF_UG</th>\n",
       "      <th>FONTE</th>\n",
       "      <th>MOD_LIC</th>\n",
       "      <th>TIPO_NE</th>\n",
       "      <th>RP</th>\n",
       "      <th>NOME_RP</th>\n",
       "      <th>TIPO_CREDITO</th>\n",
       "      <th>NOME_TIPO_CREDITO</th>\n",
       "      <th>PO</th>\n",
       "      <th>AUTOR_EMENDA</th>\n",
       "      <th>NOME_AUTOR_EMENDA</th>\n",
       "      <th>LOCAL</th>\n",
       "      <th>UO</th>\n",
       "      <th>NOME_UO</th>\n",
       "      <th>RADPI4</th>\n",
       "      <th>MEIPI3</th>\n",
       "      <th>SUFPI4</th>\n",
       "      <th>A_LIQUIDAR</th>\n",
       "      <th>LIQUIDADO_A_PAGAR</th>\n",
       "      <th>TOTAL_A_PAGAR</th>\n",
       "      <th>PAGO</th>\n",
       "    </tr>\n",
       "  </thead>\n",
       "  <tbody>\n",
       "    <tr>\n",
       "      <th>168</th>\n",
       "      <td>160129</td>\n",
       "      <td>ESA</td>\n",
       "      <td>160533</td>\n",
       "      <td>4º CGCFEX</td>\n",
       "      <td>CML</td>\n",
       "      <td>4ª RM</td>\n",
       "      <td>Três Corações</td>\n",
       "      <td>0032</td>\n",
       "      <td>212B</td>\n",
       "      <td>BENEFICIOS OBRIGATORIOS AOS SERVIDORE</td>\n",
       "      <td>160504</td>\n",
       "      <td>COEX/GESTOR</td>\n",
       "      <td>171397</td>\n",
       "      <td>E6SUPLJA1QR</td>\n",
       "      <td>A1QR - QUANTITATIVO DE RANCHO</td>\n",
       "      <td>339030</td>\n",
       "      <td>MATERIAL DE CONSUMO</td>\n",
       "      <td>33903004</td>\n",
       "      <td>GAS E OUTROS MATERIAIS ENGARRAFADOS</td>\n",
       "      <td>2023NE001158</td>\n",
       "      <td>2023</td>\n",
       "      <td>2023-09-13</td>\n",
       "      <td>160129000012023NE001158</td>\n",
       "      <td>19791896006486</td>\n",
       "      <td>SUPERGASBRAS ENERGIA LTDA</td>\n",
       "      <td>SP</td>\n",
       "      <td>RPNP</td>\n",
       "      <td>296</td>\n",
       "      <td>MG</td>\n",
       "      <td>1000000000</td>\n",
       "      <td>PREGAO</td>\n",
       "      <td>ESTIMATIVO</td>\n",
       "      <td>1</td>\n",
       "      <td>PRIMARIO OBRIGATORIO</td>\n",
       "      <td>A</td>\n",
       "      <td>INICIAL (LOA)</td>\n",
       "      <td>0006</td>\n",
       "      <td>000000000000</td>\n",
       "      <td>SEM EMENDA</td>\n",
       "      <td>AV. SETE DE SETEMBRO, 628 - CENTRO, TRES CORAC...</td>\n",
       "      <td>52121</td>\n",
       "      <td>COMANDO DO EXERCITO</td>\n",
       "      <td>E6SU</td>\n",
       "      <td>PLJ</td>\n",
       "      <td>A1QR</td>\n",
       "      <td>0.00</td>\n",
       "      <td>0.00</td>\n",
       "      <td>0.00</td>\n",
       "      <td>32293.80</td>\n",
       "    </tr>\n",
       "    <tr>\n",
       "      <th>169</th>\n",
       "      <td>160129</td>\n",
       "      <td>ESA</td>\n",
       "      <td>160533</td>\n",
       "      <td>4º CGCFEX</td>\n",
       "      <td>CML</td>\n",
       "      <td>4ª RM</td>\n",
       "      <td>Três Corações</td>\n",
       "      <td>0032</td>\n",
       "      <td>212B</td>\n",
       "      <td>BENEFICIOS OBRIGATORIOS AOS SERVIDORE</td>\n",
       "      <td>160504</td>\n",
       "      <td>COEX/GESTOR</td>\n",
       "      <td>171397</td>\n",
       "      <td>E6SUPLJA1QR</td>\n",
       "      <td>A1QR - QUANTITATIVO DE RANCHO</td>\n",
       "      <td>339030</td>\n",
       "      <td>MATERIAL DE CONSUMO</td>\n",
       "      <td>33903004</td>\n",
       "      <td>GAS E OUTROS MATERIAIS ENGARRAFADOS</td>\n",
       "      <td>2023NE002707</td>\n",
       "      <td>2023</td>\n",
       "      <td>2023-12-12</td>\n",
       "      <td>160129000012023NE002707</td>\n",
       "      <td>09039582000194</td>\n",
       "      <td>HELIO DE SOUZA JUNIOR - CPF 037.031.976-17</td>\n",
       "      <td>MG</td>\n",
       "      <td>RPNP</td>\n",
       "      <td>206</td>\n",
       "      <td>MG</td>\n",
       "      <td>1000000000</td>\n",
       "      <td>DISPENSA DE LICITACAO</td>\n",
       "      <td>GLOBAL</td>\n",
       "      <td>1</td>\n",
       "      <td>PRIMARIO OBRIGATORIO</td>\n",
       "      <td>A</td>\n",
       "      <td>INICIAL (LOA)</td>\n",
       "      <td>0006</td>\n",
       "      <td>000000000000</td>\n",
       "      <td>SEM EMENDA</td>\n",
       "      <td>AV. SETE DE SETEMBRO, 628 - CENTRO, TRES CORAC...</td>\n",
       "      <td>52121</td>\n",
       "      <td>COMANDO DO EXERCITO</td>\n",
       "      <td>E6SU</td>\n",
       "      <td>PLJ</td>\n",
       "      <td>A1QR</td>\n",
       "      <td>0.00</td>\n",
       "      <td>0.00</td>\n",
       "      <td>0.00</td>\n",
       "      <td>12020.00</td>\n",
       "    </tr>\n",
       "    <tr>\n",
       "      <th>170</th>\n",
       "      <td>160129</td>\n",
       "      <td>ESA</td>\n",
       "      <td>160533</td>\n",
       "      <td>4º CGCFEX</td>\n",
       "      <td>CML</td>\n",
       "      <td>4ª RM</td>\n",
       "      <td>Três Corações</td>\n",
       "      <td>0032</td>\n",
       "      <td>212B</td>\n",
       "      <td>BENEFICIOS OBRIGATORIOS AOS SERVIDORE</td>\n",
       "      <td>160504</td>\n",
       "      <td>COEX/GESTOR</td>\n",
       "      <td>171397</td>\n",
       "      <td>E6SUPLJA1QR</td>\n",
       "      <td>A1QR - QUANTITATIVO DE RANCHO</td>\n",
       "      <td>339030</td>\n",
       "      <td>MATERIAL DE CONSUMO</td>\n",
       "      <td>33903004</td>\n",
       "      <td>GAS E OUTROS MATERIAIS ENGARRAFADOS</td>\n",
       "      <td>2024NE000072</td>\n",
       "      <td>2024</td>\n",
       "      <td>2024-02-15</td>\n",
       "      <td>160129000012024NE000072</td>\n",
       "      <td>19791896006486</td>\n",
       "      <td>SUPERGASBRAS ENERGIA LTDA</td>\n",
       "      <td>SP</td>\n",
       "      <td>ANO</td>\n",
       "      <td>141</td>\n",
       "      <td>MG</td>\n",
       "      <td>1000000000</td>\n",
       "      <td>PREGAO</td>\n",
       "      <td>ESTIMATIVO</td>\n",
       "      <td>1</td>\n",
       "      <td>PRIMARIO OBRIGATORIO</td>\n",
       "      <td>A</td>\n",
       "      <td>INICIAL (LOA)</td>\n",
       "      <td>0006</td>\n",
       "      <td>000000000000</td>\n",
       "      <td>SEM EMENDA</td>\n",
       "      <td>AV. SETE DE SETEMBRO, 628 - CENTRO, TRÊS CORAÇ...</td>\n",
       "      <td>52121</td>\n",
       "      <td>COMANDO DO EXERCITO</td>\n",
       "      <td>E6SU</td>\n",
       "      <td>PLJ</td>\n",
       "      <td>A1QR</td>\n",
       "      <td>8761.50</td>\n",
       "      <td>441.94</td>\n",
       "      <td>9203.44</td>\n",
       "      <td>161314.16</td>\n",
       "    </tr>\n",
       "    <tr>\n",
       "      <th>171</th>\n",
       "      <td>160129</td>\n",
       "      <td>ESA</td>\n",
       "      <td>160533</td>\n",
       "      <td>4º CGCFEX</td>\n",
       "      <td>CML</td>\n",
       "      <td>4ª RM</td>\n",
       "      <td>Três Corações</td>\n",
       "      <td>0032</td>\n",
       "      <td>212B</td>\n",
       "      <td>BENEFICIOS OBRIGATORIOS AOS SERVIDORE</td>\n",
       "      <td>160504</td>\n",
       "      <td>COEX/GESTOR</td>\n",
       "      <td>171397</td>\n",
       "      <td>E6SUPLJA1QR</td>\n",
       "      <td>A1QR - QUANTITATIVO DE RANCHO</td>\n",
       "      <td>339030</td>\n",
       "      <td>MATERIAL DE CONSUMO</td>\n",
       "      <td>33903004</td>\n",
       "      <td>GAS E OUTROS MATERIAIS ENGARRAFADOS</td>\n",
       "      <td>2024NE000608</td>\n",
       "      <td>2024</td>\n",
       "      <td>2024-06-13</td>\n",
       "      <td>160129000012024NE000608</td>\n",
       "      <td>19791896011307</td>\n",
       "      <td>SUPERGASBRAS ENERGIA LTDA</td>\n",
       "      <td>MG</td>\n",
       "      <td>ANO</td>\n",
       "      <td>22</td>\n",
       "      <td>MG</td>\n",
       "      <td>1000000000</td>\n",
       "      <td>PREGAO</td>\n",
       "      <td>ESTIMATIVO</td>\n",
       "      <td>1</td>\n",
       "      <td>PRIMARIO OBRIGATORIO</td>\n",
       "      <td>A</td>\n",
       "      <td>INICIAL (LOA)</td>\n",
       "      <td>0006</td>\n",
       "      <td>000000000000</td>\n",
       "      <td>SEM EMENDA</td>\n",
       "      <td>AV. SETE DE SETEMBRO, 628 - CENTRO, TRÊS CORAÇ...</td>\n",
       "      <td>52121</td>\n",
       "      <td>COMANDO DO EXERCITO</td>\n",
       "      <td>E6SU</td>\n",
       "      <td>PLJ</td>\n",
       "      <td>A1QR</td>\n",
       "      <td>81430.00</td>\n",
       "      <td>0.00</td>\n",
       "      <td>81430.00</td>\n",
       "      <td>0.00</td>\n",
       "    </tr>\n",
       "    <tr>\n",
       "      <th>172</th>\n",
       "      <td>160129</td>\n",
       "      <td>ESA</td>\n",
       "      <td>160533</td>\n",
       "      <td>4º CGCFEX</td>\n",
       "      <td>CML</td>\n",
       "      <td>4ª RM</td>\n",
       "      <td>Três Corações</td>\n",
       "      <td>0032</td>\n",
       "      <td>212B</td>\n",
       "      <td>BENEFICIOS OBRIGATORIOS AOS SERVIDORE</td>\n",
       "      <td>160504</td>\n",
       "      <td>COEX/GESTOR</td>\n",
       "      <td>171397</td>\n",
       "      <td>E6SUPLJA1QR</td>\n",
       "      <td>A1QR - QUANTITATIVO DE RANCHO</td>\n",
       "      <td>339030</td>\n",
       "      <td>MATERIAL DE CONSUMO</td>\n",
       "      <td>33903004</td>\n",
       "      <td>GAS E OUTROS MATERIAIS ENGARRAFADOS</td>\n",
       "      <td>2024NE000628</td>\n",
       "      <td>2024</td>\n",
       "      <td>2024-06-14</td>\n",
       "      <td>160129000012024NE000628</td>\n",
       "      <td>09039582000194</td>\n",
       "      <td>HELIO DE SOUZA JUNIOR - CPF 037.031.976-17</td>\n",
       "      <td>MG</td>\n",
       "      <td>ANO</td>\n",
       "      <td>21</td>\n",
       "      <td>MG</td>\n",
       "      <td>1000000000</td>\n",
       "      <td>PREGAO</td>\n",
       "      <td>GLOBAL</td>\n",
       "      <td>1</td>\n",
       "      <td>PRIMARIO OBRIGATORIO</td>\n",
       "      <td>A</td>\n",
       "      <td>INICIAL (LOA)</td>\n",
       "      <td>0006</td>\n",
       "      <td>000000000000</td>\n",
       "      <td>SEM EMENDA</td>\n",
       "      <td>AV. SETE DE SETEMBRO, 628 - CENTRO, TRÊS CORAÇ...</td>\n",
       "      <td>52121</td>\n",
       "      <td>COMANDO DO EXERCITO</td>\n",
       "      <td>E6SU</td>\n",
       "      <td>PLJ</td>\n",
       "      <td>A1QR</td>\n",
       "      <td>0.00</td>\n",
       "      <td>75.39</td>\n",
       "      <td>75.39</td>\n",
       "      <td>6004.61</td>\n",
       "    </tr>\n",
       "    <tr>\n",
       "      <th>173</th>\n",
       "      <td>160129</td>\n",
       "      <td>ESA</td>\n",
       "      <td>160533</td>\n",
       "      <td>4º CGCFEX</td>\n",
       "      <td>CML</td>\n",
       "      <td>4ª RM</td>\n",
       "      <td>Três Corações</td>\n",
       "      <td>0032</td>\n",
       "      <td>212B</td>\n",
       "      <td>BENEFICIOS OBRIGATORIOS AOS SERVIDORE</td>\n",
       "      <td>160504</td>\n",
       "      <td>COEX/GESTOR</td>\n",
       "      <td>171397</td>\n",
       "      <td>E6SUPLJA1QR</td>\n",
       "      <td>A1QR - QUANTITATIVO DE RANCHO</td>\n",
       "      <td>339030</td>\n",
       "      <td>MATERIAL DE CONSUMO</td>\n",
       "      <td>33903004</td>\n",
       "      <td>GAS E OUTROS MATERIAIS ENGARRAFADOS</td>\n",
       "      <td>2024NE000630</td>\n",
       "      <td>2024</td>\n",
       "      <td>2024-06-14</td>\n",
       "      <td>160129000012024NE000630</td>\n",
       "      <td>19791896011307</td>\n",
       "      <td>SUPERGASBRAS ENERGIA LTDA</td>\n",
       "      <td>MG</td>\n",
       "      <td>ANO</td>\n",
       "      <td>21</td>\n",
       "      <td>MG</td>\n",
       "      <td>1000000000</td>\n",
       "      <td>PREGAO</td>\n",
       "      <td>ESTIMATIVO</td>\n",
       "      <td>1</td>\n",
       "      <td>PRIMARIO OBRIGATORIO</td>\n",
       "      <td>A</td>\n",
       "      <td>INICIAL (LOA)</td>\n",
       "      <td>0006</td>\n",
       "      <td>000000000000</td>\n",
       "      <td>SEM EMENDA</td>\n",
       "      <td>AV. SETE DE SETEMBRO, 628 - CENTRO, TRÊS CORAÇ...</td>\n",
       "      <td>52121</td>\n",
       "      <td>COMANDO DO EXERCITO</td>\n",
       "      <td>E6SU</td>\n",
       "      <td>PLJ</td>\n",
       "      <td>A1QR</td>\n",
       "      <td>26795.26</td>\n",
       "      <td>0.00</td>\n",
       "      <td>26795.26</td>\n",
       "      <td>0.00</td>\n",
       "    </tr>\n",
       "    <tr>\n",
       "      <th>174</th>\n",
       "      <td>160129</td>\n",
       "      <td>ESA</td>\n",
       "      <td>160533</td>\n",
       "      <td>4º CGCFEX</td>\n",
       "      <td>CML</td>\n",
       "      <td>4ª RM</td>\n",
       "      <td>Três Corações</td>\n",
       "      <td>0032</td>\n",
       "      <td>212B</td>\n",
       "      <td>BENEFICIOS OBRIGATORIOS AOS SERVIDORE</td>\n",
       "      <td>160504</td>\n",
       "      <td>COEX/GESTOR</td>\n",
       "      <td>171397</td>\n",
       "      <td>E6SUPLJA1QR</td>\n",
       "      <td>A1QR - QUANTITATIVO DE RANCHO</td>\n",
       "      <td>339030</td>\n",
       "      <td>MATERIAL DE CONSUMO</td>\n",
       "      <td>33903007</td>\n",
       "      <td>GENEROS DE ALIMENTACAO</td>\n",
       "      <td>2023NE000673</td>\n",
       "      <td>2023</td>\n",
       "      <td>2023-06-19</td>\n",
       "      <td>160129000012023NE000673</td>\n",
       "      <td>47043589000179</td>\n",
       "      <td>ASSOCIACAO DOS AGRICULTORES DE TRES CORACOES -...</td>\n",
       "      <td>MG</td>\n",
       "      <td>RPNP</td>\n",
       "      <td>382</td>\n",
       "      <td>MG</td>\n",
       "      <td>1000000000</td>\n",
       "      <td>DISPENSA DE LICITACAO</td>\n",
       "      <td>GLOBAL</td>\n",
       "      <td>1</td>\n",
       "      <td>PRIMARIO OBRIGATORIO</td>\n",
       "      <td>A</td>\n",
       "      <td>INICIAL (LOA)</td>\n",
       "      <td>0006</td>\n",
       "      <td>000000000000</td>\n",
       "      <td>SEM EMENDA</td>\n",
       "      <td>AV. SETE DE SETEMBRO, 628, CENTRO, TRES CORACO...</td>\n",
       "      <td>52121</td>\n",
       "      <td>COMANDO DO EXERCITO</td>\n",
       "      <td>E6SU</td>\n",
       "      <td>PLJ</td>\n",
       "      <td>A1QR</td>\n",
       "      <td>0.00</td>\n",
       "      <td>0.00</td>\n",
       "      <td>0.00</td>\n",
       "      <td>36332.12</td>\n",
       "    </tr>\n",
       "    <tr>\n",
       "      <th>175</th>\n",
       "      <td>160129</td>\n",
       "      <td>ESA</td>\n",
       "      <td>160533</td>\n",
       "      <td>4º CGCFEX</td>\n",
       "      <td>CML</td>\n",
       "      <td>4ª RM</td>\n",
       "      <td>Três Corações</td>\n",
       "      <td>0032</td>\n",
       "      <td>212B</td>\n",
       "      <td>BENEFICIOS OBRIGATORIOS AOS SERVIDORE</td>\n",
       "      <td>160504</td>\n",
       "      <td>COEX/GESTOR</td>\n",
       "      <td>171397</td>\n",
       "      <td>E6SUPLJA1QR</td>\n",
       "      <td>A1QR - QUANTITATIVO DE RANCHO</td>\n",
       "      <td>339030</td>\n",
       "      <td>MATERIAL DE CONSUMO</td>\n",
       "      <td>33903007</td>\n",
       "      <td>GENEROS DE ALIMENTACAO</td>\n",
       "      <td>2023NE000698</td>\n",
       "      <td>2023</td>\n",
       "      <td>2023-06-20</td>\n",
       "      <td>160129000012023NE000698</td>\n",
       "      <td>37748531000177</td>\n",
       "      <td>RAFAEL SOARES AZEVEDO</td>\n",
       "      <td>MG</td>\n",
       "      <td>RPNP</td>\n",
       "      <td>381</td>\n",
       "      <td>MG</td>\n",
       "      <td>1000000000</td>\n",
       "      <td>PREGAO</td>\n",
       "      <td>GLOBAL</td>\n",
       "      <td>1</td>\n",
       "      <td>PRIMARIO OBRIGATORIO</td>\n",
       "      <td>A</td>\n",
       "      <td>INICIAL (LOA)</td>\n",
       "      <td>0006</td>\n",
       "      <td>000000000000</td>\n",
       "      <td>SEM EMENDA</td>\n",
       "      <td>AV. SETE DE SETEMBRO, 628, CENTRO, TRES CORACO...</td>\n",
       "      <td>52121</td>\n",
       "      <td>COMANDO DO EXERCITO</td>\n",
       "      <td>E6SU</td>\n",
       "      <td>PLJ</td>\n",
       "      <td>A1QR</td>\n",
       "      <td>0.00</td>\n",
       "      <td>0.00</td>\n",
       "      <td>0.00</td>\n",
       "      <td>579.94</td>\n",
       "    </tr>\n",
       "    <tr>\n",
       "      <th>176</th>\n",
       "      <td>160129</td>\n",
       "      <td>ESA</td>\n",
       "      <td>160533</td>\n",
       "      <td>4º CGCFEX</td>\n",
       "      <td>CML</td>\n",
       "      <td>4ª RM</td>\n",
       "      <td>Três Corações</td>\n",
       "      <td>0032</td>\n",
       "      <td>212B</td>\n",
       "      <td>BENEFICIOS OBRIGATORIOS AOS SERVIDORE</td>\n",
       "      <td>160504</td>\n",
       "      <td>COEX/GESTOR</td>\n",
       "      <td>171397</td>\n",
       "      <td>E6SUPLJA1QR</td>\n",
       "      <td>A1QR - QUANTITATIVO DE RANCHO</td>\n",
       "      <td>339030</td>\n",
       "      <td>MATERIAL DE CONSUMO</td>\n",
       "      <td>33903007</td>\n",
       "      <td>GENEROS DE ALIMENTACAO</td>\n",
       "      <td>2023NE000715</td>\n",
       "      <td>2023</td>\n",
       "      <td>2023-06-21</td>\n",
       "      <td>160129000012023NE000715</td>\n",
       "      <td>20702528000110</td>\n",
       "      <td>SUPERMERCADO BIE LTDA</td>\n",
       "      <td>MG</td>\n",
       "      <td>RPNP</td>\n",
       "      <td>380</td>\n",
       "      <td>MG</td>\n",
       "      <td>1000000000</td>\n",
       "      <td>PREGAO</td>\n",
       "      <td>GLOBAL</td>\n",
       "      <td>1</td>\n",
       "      <td>PRIMARIO OBRIGATORIO</td>\n",
       "      <td>A</td>\n",
       "      <td>INICIAL (LOA)</td>\n",
       "      <td>0006</td>\n",
       "      <td>000000000000</td>\n",
       "      <td>SEM EMENDA</td>\n",
       "      <td>AV. SETE DE SETEMBRO, 628, CENTRO, TRES CORACO...</td>\n",
       "      <td>52121</td>\n",
       "      <td>COMANDO DO EXERCITO</td>\n",
       "      <td>E6SU</td>\n",
       "      <td>PLJ</td>\n",
       "      <td>A1QR</td>\n",
       "      <td>0.00</td>\n",
       "      <td>0.00</td>\n",
       "      <td>0.00</td>\n",
       "      <td>2424.80</td>\n",
       "    </tr>\n",
       "    <tr>\n",
       "      <th>177</th>\n",
       "      <td>160129</td>\n",
       "      <td>ESA</td>\n",
       "      <td>160533</td>\n",
       "      <td>4º CGCFEX</td>\n",
       "      <td>CML</td>\n",
       "      <td>4ª RM</td>\n",
       "      <td>Três Corações</td>\n",
       "      <td>0032</td>\n",
       "      <td>212B</td>\n",
       "      <td>BENEFICIOS OBRIGATORIOS AOS SERVIDORE</td>\n",
       "      <td>160504</td>\n",
       "      <td>COEX/GESTOR</td>\n",
       "      <td>171397</td>\n",
       "      <td>E6SUPLJA1QR</td>\n",
       "      <td>A1QR - QUANTITATIVO DE RANCHO</td>\n",
       "      <td>339030</td>\n",
       "      <td>MATERIAL DE CONSUMO</td>\n",
       "      <td>33903007</td>\n",
       "      <td>GENEROS DE ALIMENTACAO</td>\n",
       "      <td>2023NE001154</td>\n",
       "      <td>2023</td>\n",
       "      <td>2023-09-13</td>\n",
       "      <td>160129000012023NE001154</td>\n",
       "      <td>33180160000119</td>\n",
       "      <td>JP COMERCIO DE PRODUTOS ALIMENTICIOS E SERVICO...</td>\n",
       "      <td>MG</td>\n",
       "      <td>RPNP</td>\n",
       "      <td>296</td>\n",
       "      <td>MG</td>\n",
       "      <td>1000000000</td>\n",
       "      <td>PREGAO</td>\n",
       "      <td>GLOBAL</td>\n",
       "      <td>1</td>\n",
       "      <td>PRIMARIO OBRIGATORIO</td>\n",
       "      <td>A</td>\n",
       "      <td>INICIAL (LOA)</td>\n",
       "      <td>0006</td>\n",
       "      <td>000000000000</td>\n",
       "      <td>SEM EMENDA</td>\n",
       "      <td>AV. SETE DE SETEMBRO, 628 - CENTRO, TRES CORAC...</td>\n",
       "      <td>52121</td>\n",
       "      <td>COMANDO DO EXERCITO</td>\n",
       "      <td>E6SU</td>\n",
       "      <td>PLJ</td>\n",
       "      <td>A1QR</td>\n",
       "      <td>0.00</td>\n",
       "      <td>0.00</td>\n",
       "      <td>0.00</td>\n",
       "      <td>6809.14</td>\n",
       "    </tr>\n",
       "    <tr>\n",
       "      <th>178</th>\n",
       "      <td>160129</td>\n",
       "      <td>ESA</td>\n",
       "      <td>160533</td>\n",
       "      <td>4º CGCFEX</td>\n",
       "      <td>CML</td>\n",
       "      <td>4ª RM</td>\n",
       "      <td>Três Corações</td>\n",
       "      <td>0032</td>\n",
       "      <td>212B</td>\n",
       "      <td>BENEFICIOS OBRIGATORIOS AOS SERVIDORE</td>\n",
       "      <td>160504</td>\n",
       "      <td>COEX/GESTOR</td>\n",
       "      <td>171397</td>\n",
       "      <td>E6SUPLJA1QR</td>\n",
       "      <td>A1QR - QUANTITATIVO DE RANCHO</td>\n",
       "      <td>339030</td>\n",
       "      <td>MATERIAL DE CONSUMO</td>\n",
       "      <td>33903007</td>\n",
       "      <td>GENEROS DE ALIMENTACAO</td>\n",
       "      <td>2023NE001155</td>\n",
       "      <td>2023</td>\n",
       "      <td>2023-09-13</td>\n",
       "      <td>160129000012023NE001155</td>\n",
       "      <td>71001465000105</td>\n",
       "      <td>MARIELE SERVICOS, INDUSTRIA E COMERCIO DE PROD...</td>\n",
       "      <td>MG</td>\n",
       "      <td>RPNP</td>\n",
       "      <td>296</td>\n",
       "      <td>MG</td>\n",
       "      <td>1000000000</td>\n",
       "      <td>PREGAO</td>\n",
       "      <td>GLOBAL</td>\n",
       "      <td>1</td>\n",
       "      <td>PRIMARIO OBRIGATORIO</td>\n",
       "      <td>A</td>\n",
       "      <td>INICIAL (LOA)</td>\n",
       "      <td>0006</td>\n",
       "      <td>000000000000</td>\n",
       "      <td>SEM EMENDA</td>\n",
       "      <td>AV. SETE DE SETEMBRO, 628 - CENTRO, TRES CORAC...</td>\n",
       "      <td>52121</td>\n",
       "      <td>COMANDO DO EXERCITO</td>\n",
       "      <td>E6SU</td>\n",
       "      <td>PLJ</td>\n",
       "      <td>A1QR</td>\n",
       "      <td>0.00</td>\n",
       "      <td>0.00</td>\n",
       "      <td>0.00</td>\n",
       "      <td>19027.79</td>\n",
       "    </tr>\n",
       "    <tr>\n",
       "      <th>179</th>\n",
       "      <td>160129</td>\n",
       "      <td>ESA</td>\n",
       "      <td>160533</td>\n",
       "      <td>4º CGCFEX</td>\n",
       "      <td>CML</td>\n",
       "      <td>4ª RM</td>\n",
       "      <td>Três Corações</td>\n",
       "      <td>0032</td>\n",
       "      <td>212B</td>\n",
       "      <td>BENEFICIOS OBRIGATORIOS AOS SERVIDORE</td>\n",
       "      <td>160504</td>\n",
       "      <td>COEX/GESTOR</td>\n",
       "      <td>171397</td>\n",
       "      <td>E6SUPLJA1QR</td>\n",
       "      <td>A1QR - QUANTITATIVO DE RANCHO</td>\n",
       "      <td>339030</td>\n",
       "      <td>MATERIAL DE CONSUMO</td>\n",
       "      <td>33903007</td>\n",
       "      <td>GENEROS DE ALIMENTACAO</td>\n",
       "      <td>2024NE000073</td>\n",
       "      <td>2024</td>\n",
       "      <td>2024-02-15</td>\n",
       "      <td>160129000012024NE000073</td>\n",
       "      <td>47043589000179</td>\n",
       "      <td>ASSOCIACAO DOS AGRICULTORES DE TRES CORACOES -...</td>\n",
       "      <td>MG</td>\n",
       "      <td>ANO</td>\n",
       "      <td>141</td>\n",
       "      <td>MG</td>\n",
       "      <td>1000000000</td>\n",
       "      <td>DISPENSA DE LICITACAO</td>\n",
       "      <td>GLOBAL</td>\n",
       "      <td>1</td>\n",
       "      <td>PRIMARIO OBRIGATORIO</td>\n",
       "      <td>A</td>\n",
       "      <td>INICIAL (LOA)</td>\n",
       "      <td>0006</td>\n",
       "      <td>000000000000</td>\n",
       "      <td>SEM EMENDA</td>\n",
       "      <td>AV. SETE DE SETEMBRO, 628 - CENTRO, TRÊS CORAÇ...</td>\n",
       "      <td>52121</td>\n",
       "      <td>COMANDO DO EXERCITO</td>\n",
       "      <td>E6SU</td>\n",
       "      <td>PLJ</td>\n",
       "      <td>A1QR</td>\n",
       "      <td>10235.56</td>\n",
       "      <td>0.00</td>\n",
       "      <td>10235.56</td>\n",
       "      <td>207411.71</td>\n",
       "    </tr>\n",
       "    <tr>\n",
       "      <th>180</th>\n",
       "      <td>160129</td>\n",
       "      <td>ESA</td>\n",
       "      <td>160533</td>\n",
       "      <td>4º CGCFEX</td>\n",
       "      <td>CML</td>\n",
       "      <td>4ª RM</td>\n",
       "      <td>Três Corações</td>\n",
       "      <td>0032</td>\n",
       "      <td>212B</td>\n",
       "      <td>BENEFICIOS OBRIGATORIOS AOS SERVIDORE</td>\n",
       "      <td>160504</td>\n",
       "      <td>COEX/GESTOR</td>\n",
       "      <td>171397</td>\n",
       "      <td>E6SUPLJA1QR</td>\n",
       "      <td>A1QR - QUANTITATIVO DE RANCHO</td>\n",
       "      <td>339030</td>\n",
       "      <td>MATERIAL DE CONSUMO</td>\n",
       "      <td>33903007</td>\n",
       "      <td>GENEROS DE ALIMENTACAO</td>\n",
       "      <td>2024NE000100</td>\n",
       "      <td>2024</td>\n",
       "      <td>2024-02-19</td>\n",
       "      <td>160129000012024NE000100</td>\n",
       "      <td>71001465000105</td>\n",
       "      <td>MARIELE SERVICOS, INDUSTRIA E COMERCIO DE PROD...</td>\n",
       "      <td>MG</td>\n",
       "      <td>ANO</td>\n",
       "      <td>137</td>\n",
       "      <td>MG</td>\n",
       "      <td>1000000000</td>\n",
       "      <td>PREGAO</td>\n",
       "      <td>GLOBAL</td>\n",
       "      <td>1</td>\n",
       "      <td>PRIMARIO OBRIGATORIO</td>\n",
       "      <td>A</td>\n",
       "      <td>INICIAL (LOA)</td>\n",
       "      <td>0006</td>\n",
       "      <td>000000000000</td>\n",
       "      <td>SEM EMENDA</td>\n",
       "      <td>AV. SETE DE SETEMBRO, 628 - CENTRO, TRÊS CORAÇ...</td>\n",
       "      <td>52121</td>\n",
       "      <td>COMANDO DO EXERCITO</td>\n",
       "      <td>E6SU</td>\n",
       "      <td>PLJ</td>\n",
       "      <td>A1QR</td>\n",
       "      <td>0.00</td>\n",
       "      <td>0.00</td>\n",
       "      <td>0.00</td>\n",
       "      <td>71580.00</td>\n",
       "    </tr>\n",
       "    <tr>\n",
       "      <th>181</th>\n",
       "      <td>160129</td>\n",
       "      <td>ESA</td>\n",
       "      <td>160533</td>\n",
       "      <td>4º CGCFEX</td>\n",
       "      <td>CML</td>\n",
       "      <td>4ª RM</td>\n",
       "      <td>Três Corações</td>\n",
       "      <td>0032</td>\n",
       "      <td>212B</td>\n",
       "      <td>BENEFICIOS OBRIGATORIOS AOS SERVIDORE</td>\n",
       "      <td>160504</td>\n",
       "      <td>COEX/GESTOR</td>\n",
       "      <td>171397</td>\n",
       "      <td>E6SUPLJA1QR</td>\n",
       "      <td>A1QR - QUANTITATIVO DE RANCHO</td>\n",
       "      <td>339030</td>\n",
       "      <td>MATERIAL DE CONSUMO</td>\n",
       "      <td>33903007</td>\n",
       "      <td>GENEROS DE ALIMENTACAO</td>\n",
       "      <td>2024NE000101</td>\n",
       "      <td>2024</td>\n",
       "      <td>2024-02-19</td>\n",
       "      <td>160129000012024NE000101</td>\n",
       "      <td>47078180000198</td>\n",
       "      <td>AF DISTRIBUIDORA E SERVICOS LTDA</td>\n",
       "      <td>MG</td>\n",
       "      <td>ANO</td>\n",
       "      <td>137</td>\n",
       "      <td>MG</td>\n",
       "      <td>1000000000</td>\n",
       "      <td>PREGAO</td>\n",
       "      <td>GLOBAL</td>\n",
       "      <td>1</td>\n",
       "      <td>PRIMARIO OBRIGATORIO</td>\n",
       "      <td>A</td>\n",
       "      <td>INICIAL (LOA)</td>\n",
       "      <td>0006</td>\n",
       "      <td>000000000000</td>\n",
       "      <td>SEM EMENDA</td>\n",
       "      <td>AV. SETE DE SETEMBRO, 628 - CENTRO, TRÊS CORAÇ...</td>\n",
       "      <td>52121</td>\n",
       "      <td>COMANDO DO EXERCITO</td>\n",
       "      <td>E6SU</td>\n",
       "      <td>PLJ</td>\n",
       "      <td>A1QR</td>\n",
       "      <td>0.00</td>\n",
       "      <td>0.00</td>\n",
       "      <td>0.00</td>\n",
       "      <td>109442.72</td>\n",
       "    </tr>\n",
       "    <tr>\n",
       "      <th>182</th>\n",
       "      <td>160129</td>\n",
       "      <td>ESA</td>\n",
       "      <td>160533</td>\n",
       "      <td>4º CGCFEX</td>\n",
       "      <td>CML</td>\n",
       "      <td>4ª RM</td>\n",
       "      <td>Três Corações</td>\n",
       "      <td>0032</td>\n",
       "      <td>212B</td>\n",
       "      <td>BENEFICIOS OBRIGATORIOS AOS SERVIDORE</td>\n",
       "      <td>160504</td>\n",
       "      <td>COEX/GESTOR</td>\n",
       "      <td>171397</td>\n",
       "      <td>E6SUPLJA1QR</td>\n",
       "      <td>A1QR - QUANTITATIVO DE RANCHO</td>\n",
       "      <td>339030</td>\n",
       "      <td>MATERIAL DE CONSUMO</td>\n",
       "      <td>33903007</td>\n",
       "      <td>GENEROS DE ALIMENTACAO</td>\n",
       "      <td>2024NE000103</td>\n",
       "      <td>2024</td>\n",
       "      <td>2024-02-19</td>\n",
       "      <td>160129000012024NE000103</td>\n",
       "      <td>14163479000191</td>\n",
       "      <td>EXITUS COMERCIAL PRODUTOS E SERVICOS LTDA</td>\n",
       "      <td>SP</td>\n",
       "      <td>ANO</td>\n",
       "      <td>137</td>\n",
       "      <td>MG</td>\n",
       "      <td>1000000000</td>\n",
       "      <td>PREGAO</td>\n",
       "      <td>GLOBAL</td>\n",
       "      <td>1</td>\n",
       "      <td>PRIMARIO OBRIGATORIO</td>\n",
       "      <td>A</td>\n",
       "      <td>INICIAL (LOA)</td>\n",
       "      <td>0006</td>\n",
       "      <td>000000000000</td>\n",
       "      <td>SEM EMENDA</td>\n",
       "      <td>AV. SETE DE SETEMBRO, 628 - CENTRO, TRÊS CORAÇ...</td>\n",
       "      <td>52121</td>\n",
       "      <td>COMANDO DO EXERCITO</td>\n",
       "      <td>E6SU</td>\n",
       "      <td>PLJ</td>\n",
       "      <td>A1QR</td>\n",
       "      <td>0.00</td>\n",
       "      <td>0.00</td>\n",
       "      <td>0.00</td>\n",
       "      <td>3585.00</td>\n",
       "    </tr>\n",
       "    <tr>\n",
       "      <th>183</th>\n",
       "      <td>160129</td>\n",
       "      <td>ESA</td>\n",
       "      <td>160533</td>\n",
       "      <td>4º CGCFEX</td>\n",
       "      <td>CML</td>\n",
       "      <td>4ª RM</td>\n",
       "      <td>Três Corações</td>\n",
       "      <td>0032</td>\n",
       "      <td>212B</td>\n",
       "      <td>BENEFICIOS OBRIGATORIOS AOS SERVIDORE</td>\n",
       "      <td>160504</td>\n",
       "      <td>COEX/GESTOR</td>\n",
       "      <td>171397</td>\n",
       "      <td>E6SUPLJA1QR</td>\n",
       "      <td>A1QR - QUANTITATIVO DE RANCHO</td>\n",
       "      <td>339030</td>\n",
       "      <td>MATERIAL DE CONSUMO</td>\n",
       "      <td>33903007</td>\n",
       "      <td>GENEROS DE ALIMENTACAO</td>\n",
       "      <td>2024NE000104</td>\n",
       "      <td>2024</td>\n",
       "      <td>2024-02-19</td>\n",
       "      <td>160129000012024NE000104</td>\n",
       "      <td>41471161000140</td>\n",
       "      <td>GBV ALIMENTOS LTDA</td>\n",
       "      <td>SP</td>\n",
       "      <td>ANO</td>\n",
       "      <td>137</td>\n",
       "      <td>MG</td>\n",
       "      <td>1000000000</td>\n",
       "      <td>PREGAO</td>\n",
       "      <td>GLOBAL</td>\n",
       "      <td>1</td>\n",
       "      <td>PRIMARIO OBRIGATORIO</td>\n",
       "      <td>A</td>\n",
       "      <td>INICIAL (LOA)</td>\n",
       "      <td>0006</td>\n",
       "      <td>000000000000</td>\n",
       "      <td>SEM EMENDA</td>\n",
       "      <td>AV. SETE DE SETEMBRO, 628 - CENTRO, TRÊS CORAÇ...</td>\n",
       "      <td>52121</td>\n",
       "      <td>COMANDO DO EXERCITO</td>\n",
       "      <td>E6SU</td>\n",
       "      <td>PLJ</td>\n",
       "      <td>A1QR</td>\n",
       "      <td>0.00</td>\n",
       "      <td>0.00</td>\n",
       "      <td>0.00</td>\n",
       "      <td>16820.20</td>\n",
       "    </tr>\n",
       "    <tr>\n",
       "      <th>184</th>\n",
       "      <td>160129</td>\n",
       "      <td>ESA</td>\n",
       "      <td>160533</td>\n",
       "      <td>4º CGCFEX</td>\n",
       "      <td>CML</td>\n",
       "      <td>4ª RM</td>\n",
       "      <td>Três Corações</td>\n",
       "      <td>0032</td>\n",
       "      <td>212B</td>\n",
       "      <td>BENEFICIOS OBRIGATORIOS AOS SERVIDORE</td>\n",
       "      <td>160504</td>\n",
       "      <td>COEX/GESTOR</td>\n",
       "      <td>171397</td>\n",
       "      <td>E6SUPLJA1QR</td>\n",
       "      <td>A1QR - QUANTITATIVO DE RANCHO</td>\n",
       "      <td>339030</td>\n",
       "      <td>MATERIAL DE CONSUMO</td>\n",
       "      <td>33903007</td>\n",
       "      <td>GENEROS DE ALIMENTACAO</td>\n",
       "      <td>2024NE000105</td>\n",
       "      <td>2024</td>\n",
       "      <td>2024-02-19</td>\n",
       "      <td>160129000012024NE000105</td>\n",
       "      <td>48087032000100</td>\n",
       "      <td>MANANCIAL MINAS DISTRIBUIDORA DE BEBIDAS LTDA</td>\n",
       "      <td>MG</td>\n",
       "      <td>ANO</td>\n",
       "      <td>137</td>\n",
       "      <td>MG</td>\n",
       "      <td>1000000000</td>\n",
       "      <td>PREGAO</td>\n",
       "      <td>GLOBAL</td>\n",
       "      <td>1</td>\n",
       "      <td>PRIMARIO OBRIGATORIO</td>\n",
       "      <td>A</td>\n",
       "      <td>INICIAL (LOA)</td>\n",
       "      <td>0006</td>\n",
       "      <td>000000000000</td>\n",
       "      <td>SEM EMENDA</td>\n",
       "      <td>AV. SETE DE SETEMBRO, 628 - CENTRO, TRÊS CORAÇ...</td>\n",
       "      <td>52121</td>\n",
       "      <td>COMANDO DO EXERCITO</td>\n",
       "      <td>E6SU</td>\n",
       "      <td>PLJ</td>\n",
       "      <td>A1QR</td>\n",
       "      <td>0.00</td>\n",
       "      <td>0.00</td>\n",
       "      <td>0.00</td>\n",
       "      <td>1220.00</td>\n",
       "    </tr>\n",
       "    <tr>\n",
       "      <th>185</th>\n",
       "      <td>160129</td>\n",
       "      <td>ESA</td>\n",
       "      <td>160533</td>\n",
       "      <td>4º CGCFEX</td>\n",
       "      <td>CML</td>\n",
       "      <td>4ª RM</td>\n",
       "      <td>Três Corações</td>\n",
       "      <td>0032</td>\n",
       "      <td>212B</td>\n",
       "      <td>BENEFICIOS OBRIGATORIOS AOS SERVIDORE</td>\n",
       "      <td>160504</td>\n",
       "      <td>COEX/GESTOR</td>\n",
       "      <td>171397</td>\n",
       "      <td>E6SUPLJA1QR</td>\n",
       "      <td>A1QR - QUANTITATIVO DE RANCHO</td>\n",
       "      <td>339030</td>\n",
       "      <td>MATERIAL DE CONSUMO</td>\n",
       "      <td>33903007</td>\n",
       "      <td>GENEROS DE ALIMENTACAO</td>\n",
       "      <td>2024NE000106</td>\n",
       "      <td>2024</td>\n",
       "      <td>2024-02-19</td>\n",
       "      <td>160129000012024NE000106</td>\n",
       "      <td>35307908000127</td>\n",
       "      <td>NUTRISABOR COMERCIO DE ALIMENTOS LTDA</td>\n",
       "      <td>PR</td>\n",
       "      <td>ANO</td>\n",
       "      <td>137</td>\n",
       "      <td>MG</td>\n",
       "      <td>1000000000</td>\n",
       "      <td>PREGAO</td>\n",
       "      <td>GLOBAL</td>\n",
       "      <td>1</td>\n",
       "      <td>PRIMARIO OBRIGATORIO</td>\n",
       "      <td>A</td>\n",
       "      <td>INICIAL (LOA)</td>\n",
       "      <td>0006</td>\n",
       "      <td>000000000000</td>\n",
       "      <td>SEM EMENDA</td>\n",
       "      <td>AV. SETE DE SETEMBRO, 628 - CENTRO, TRÊS CORAÇ...</td>\n",
       "      <td>52121</td>\n",
       "      <td>COMANDO DO EXERCITO</td>\n",
       "      <td>E6SU</td>\n",
       "      <td>PLJ</td>\n",
       "      <td>A1QR</td>\n",
       "      <td>0.00</td>\n",
       "      <td>0.00</td>\n",
       "      <td>0.00</td>\n",
       "      <td>18766.46</td>\n",
       "    </tr>\n",
       "    <tr>\n",
       "      <th>186</th>\n",
       "      <td>160129</td>\n",
       "      <td>ESA</td>\n",
       "      <td>160533</td>\n",
       "      <td>4º CGCFEX</td>\n",
       "      <td>CML</td>\n",
       "      <td>4ª RM</td>\n",
       "      <td>Três Corações</td>\n",
       "      <td>0032</td>\n",
       "      <td>212B</td>\n",
       "      <td>BENEFICIOS OBRIGATORIOS AOS SERVIDORE</td>\n",
       "      <td>160504</td>\n",
       "      <td>COEX/GESTOR</td>\n",
       "      <td>171397</td>\n",
       "      <td>E6SUPLJA1QR</td>\n",
       "      <td>A1QR - QUANTITATIVO DE RANCHO</td>\n",
       "      <td>339030</td>\n",
       "      <td>MATERIAL DE CONSUMO</td>\n",
       "      <td>33903007</td>\n",
       "      <td>GENEROS DE ALIMENTACAO</td>\n",
       "      <td>2024NE000107</td>\n",
       "      <td>2024</td>\n",
       "      <td>2024-02-19</td>\n",
       "      <td>160129000012024NE000107</td>\n",
       "      <td>20942789000107</td>\n",
       "      <td>SUKOI ALIMENTOS LTDA</td>\n",
       "      <td>MG</td>\n",
       "      <td>ANO</td>\n",
       "      <td>137</td>\n",
       "      <td>MG</td>\n",
       "      <td>1000000000</td>\n",
       "      <td>PREGAO</td>\n",
       "      <td>GLOBAL</td>\n",
       "      <td>1</td>\n",
       "      <td>PRIMARIO OBRIGATORIO</td>\n",
       "      <td>A</td>\n",
       "      <td>INICIAL (LOA)</td>\n",
       "      <td>0006</td>\n",
       "      <td>000000000000</td>\n",
       "      <td>SEM EMENDA</td>\n",
       "      <td>AV. SETE DE SETEMBRO, 628 - CENTRO, TRÊS CORAÇ...</td>\n",
       "      <td>52121</td>\n",
       "      <td>COMANDO DO EXERCITO</td>\n",
       "      <td>E6SU</td>\n",
       "      <td>PLJ</td>\n",
       "      <td>A1QR</td>\n",
       "      <td>0.00</td>\n",
       "      <td>0.00</td>\n",
       "      <td>0.00</td>\n",
       "      <td>61080.90</td>\n",
       "    </tr>\n",
       "    <tr>\n",
       "      <th>187</th>\n",
       "      <td>160129</td>\n",
       "      <td>ESA</td>\n",
       "      <td>160533</td>\n",
       "      <td>4º CGCFEX</td>\n",
       "      <td>CML</td>\n",
       "      <td>4ª RM</td>\n",
       "      <td>Três Corações</td>\n",
       "      <td>0032</td>\n",
       "      <td>212B</td>\n",
       "      <td>BENEFICIOS OBRIGATORIOS AOS SERVIDORE</td>\n",
       "      <td>160504</td>\n",
       "      <td>COEX/GESTOR</td>\n",
       "      <td>171397</td>\n",
       "      <td>E6SUPLJA1QR</td>\n",
       "      <td>A1QR - QUANTITATIVO DE RANCHO</td>\n",
       "      <td>339030</td>\n",
       "      <td>MATERIAL DE CONSUMO</td>\n",
       "      <td>33903007</td>\n",
       "      <td>GENEROS DE ALIMENTACAO</td>\n",
       "      <td>2024NE000108</td>\n",
       "      <td>2024</td>\n",
       "      <td>2024-02-19</td>\n",
       "      <td>160129000012024NE000108</td>\n",
       "      <td>20702528000110</td>\n",
       "      <td>SUPERMERCADO BIE LTDA</td>\n",
       "      <td>MG</td>\n",
       "      <td>ANO</td>\n",
       "      <td>137</td>\n",
       "      <td>MG</td>\n",
       "      <td>1000000000</td>\n",
       "      <td>PREGAO</td>\n",
       "      <td>GLOBAL</td>\n",
       "      <td>1</td>\n",
       "      <td>PRIMARIO OBRIGATORIO</td>\n",
       "      <td>A</td>\n",
       "      <td>INICIAL (LOA)</td>\n",
       "      <td>0006</td>\n",
       "      <td>000000000000</td>\n",
       "      <td>SEM EMENDA</td>\n",
       "      <td>AV. SETE DE SETEMBRO, 628 - CENTRO, TRÊS CORAÇ...</td>\n",
       "      <td>52121</td>\n",
       "      <td>COMANDO DO EXERCITO</td>\n",
       "      <td>E6SU</td>\n",
       "      <td>PLJ</td>\n",
       "      <td>A1QR</td>\n",
       "      <td>0.00</td>\n",
       "      <td>0.00</td>\n",
       "      <td>0.00</td>\n",
       "      <td>37933.50</td>\n",
       "    </tr>\n",
       "    <tr>\n",
       "      <th>188</th>\n",
       "      <td>160129</td>\n",
       "      <td>ESA</td>\n",
       "      <td>160533</td>\n",
       "      <td>4º CGCFEX</td>\n",
       "      <td>CML</td>\n",
       "      <td>4ª RM</td>\n",
       "      <td>Três Corações</td>\n",
       "      <td>0032</td>\n",
       "      <td>212B</td>\n",
       "      <td>BENEFICIOS OBRIGATORIOS AOS SERVIDORE</td>\n",
       "      <td>160504</td>\n",
       "      <td>COEX/GESTOR</td>\n",
       "      <td>171397</td>\n",
       "      <td>E6SUPLJA1QR</td>\n",
       "      <td>A1QR - QUANTITATIVO DE RANCHO</td>\n",
       "      <td>339030</td>\n",
       "      <td>MATERIAL DE CONSUMO</td>\n",
       "      <td>33903007</td>\n",
       "      <td>GENEROS DE ALIMENTACAO</td>\n",
       "      <td>2024NE000109</td>\n",
       "      <td>2024</td>\n",
       "      <td>2024-02-19</td>\n",
       "      <td>160129000012024NE000109</td>\n",
       "      <td>48085103000128</td>\n",
       "      <td>VSR DISTRIBUIDORA LTDA</td>\n",
       "      <td>MG</td>\n",
       "      <td>ANO</td>\n",
       "      <td>137</td>\n",
       "      <td>MG</td>\n",
       "      <td>1000000000</td>\n",
       "      <td>PREGAO</td>\n",
       "      <td>GLOBAL</td>\n",
       "      <td>1</td>\n",
       "      <td>PRIMARIO OBRIGATORIO</td>\n",
       "      <td>A</td>\n",
       "      <td>INICIAL (LOA)</td>\n",
       "      <td>0006</td>\n",
       "      <td>000000000000</td>\n",
       "      <td>SEM EMENDA</td>\n",
       "      <td>AV. SETE DE SETEMBRO, 628 - CENTRO, TRÊS CORAÇ...</td>\n",
       "      <td>52121</td>\n",
       "      <td>COMANDO DO EXERCITO</td>\n",
       "      <td>E6SU</td>\n",
       "      <td>PLJ</td>\n",
       "      <td>A1QR</td>\n",
       "      <td>0.00</td>\n",
       "      <td>0.00</td>\n",
       "      <td>0.00</td>\n",
       "      <td>60796.09</td>\n",
       "    </tr>\n",
       "    <tr>\n",
       "      <th>189</th>\n",
       "      <td>160129</td>\n",
       "      <td>ESA</td>\n",
       "      <td>160533</td>\n",
       "      <td>4º CGCFEX</td>\n",
       "      <td>CML</td>\n",
       "      <td>4ª RM</td>\n",
       "      <td>Três Corações</td>\n",
       "      <td>0032</td>\n",
       "      <td>212B</td>\n",
       "      <td>BENEFICIOS OBRIGATORIOS AOS SERVIDORE</td>\n",
       "      <td>160504</td>\n",
       "      <td>COEX/GESTOR</td>\n",
       "      <td>171397</td>\n",
       "      <td>E6SUPLJA1QR</td>\n",
       "      <td>A1QR - QUANTITATIVO DE RANCHO</td>\n",
       "      <td>339030</td>\n",
       "      <td>MATERIAL DE CONSUMO</td>\n",
       "      <td>33903007</td>\n",
       "      <td>GENEROS DE ALIMENTACAO</td>\n",
       "      <td>2024NE000110</td>\n",
       "      <td>2024</td>\n",
       "      <td>2024-02-19</td>\n",
       "      <td>160129000012024NE000110</td>\n",
       "      <td>10653955000100</td>\n",
       "      <td>I&amp;P AGROCOMERCIAL LTDA</td>\n",
       "      <td>MG</td>\n",
       "      <td>ANO</td>\n",
       "      <td>137</td>\n",
       "      <td>MG</td>\n",
       "      <td>1000000000</td>\n",
       "      <td>PREGAO</td>\n",
       "      <td>GLOBAL</td>\n",
       "      <td>1</td>\n",
       "      <td>PRIMARIO OBRIGATORIO</td>\n",
       "      <td>A</td>\n",
       "      <td>INICIAL (LOA)</td>\n",
       "      <td>0006</td>\n",
       "      <td>000000000000</td>\n",
       "      <td>SEM EMENDA</td>\n",
       "      <td>AV. SETE DE SETEMBRO, 628 - CENTRO, TRÊS CORAÇ...</td>\n",
       "      <td>52121</td>\n",
       "      <td>COMANDO DO EXERCITO</td>\n",
       "      <td>E6SU</td>\n",
       "      <td>PLJ</td>\n",
       "      <td>A1QR</td>\n",
       "      <td>0.00</td>\n",
       "      <td>0.00</td>\n",
       "      <td>0.00</td>\n",
       "      <td>2220.00</td>\n",
       "    </tr>\n",
       "    <tr>\n",
       "      <th>190</th>\n",
       "      <td>160129</td>\n",
       "      <td>ESA</td>\n",
       "      <td>160533</td>\n",
       "      <td>4º CGCFEX</td>\n",
       "      <td>CML</td>\n",
       "      <td>4ª RM</td>\n",
       "      <td>Três Corações</td>\n",
       "      <td>0032</td>\n",
       "      <td>212B</td>\n",
       "      <td>BENEFICIOS OBRIGATORIOS AOS SERVIDORE</td>\n",
       "      <td>160504</td>\n",
       "      <td>COEX/GESTOR</td>\n",
       "      <td>171397</td>\n",
       "      <td>E6SUPLJA1QR</td>\n",
       "      <td>A1QR - QUANTITATIVO DE RANCHO</td>\n",
       "      <td>339030</td>\n",
       "      <td>MATERIAL DE CONSUMO</td>\n",
       "      <td>33903007</td>\n",
       "      <td>GENEROS DE ALIMENTACAO</td>\n",
       "      <td>2024NE000111</td>\n",
       "      <td>2024</td>\n",
       "      <td>2024-02-19</td>\n",
       "      <td>160129000012024NE000111</td>\n",
       "      <td>20421805000116</td>\n",
       "      <td>SUPERMERCADO REI DAS CARNES LTDA</td>\n",
       "      <td>MG</td>\n",
       "      <td>ANO</td>\n",
       "      <td>137</td>\n",
       "      <td>MG</td>\n",
       "      <td>1000000000</td>\n",
       "      <td>PREGAO</td>\n",
       "      <td>GLOBAL</td>\n",
       "      <td>1</td>\n",
       "      <td>PRIMARIO OBRIGATORIO</td>\n",
       "      <td>A</td>\n",
       "      <td>INICIAL (LOA)</td>\n",
       "      <td>0006</td>\n",
       "      <td>000000000000</td>\n",
       "      <td>SEM EMENDA</td>\n",
       "      <td>AV. SETE DE SETEMBRO, 628 - CENTRO, TRÊS CORAÇ...</td>\n",
       "      <td>52121</td>\n",
       "      <td>COMANDO DO EXERCITO</td>\n",
       "      <td>E6SU</td>\n",
       "      <td>PLJ</td>\n",
       "      <td>A1QR</td>\n",
       "      <td>0.00</td>\n",
       "      <td>0.00</td>\n",
       "      <td>0.00</td>\n",
       "      <td>2028.00</td>\n",
       "    </tr>\n",
       "    <tr>\n",
       "      <th>191</th>\n",
       "      <td>160129</td>\n",
       "      <td>ESA</td>\n",
       "      <td>160533</td>\n",
       "      <td>4º CGCFEX</td>\n",
       "      <td>CML</td>\n",
       "      <td>4ª RM</td>\n",
       "      <td>Três Corações</td>\n",
       "      <td>0032</td>\n",
       "      <td>212B</td>\n",
       "      <td>BENEFICIOS OBRIGATORIOS AOS SERVIDORE</td>\n",
       "      <td>160504</td>\n",
       "      <td>COEX/GESTOR</td>\n",
       "      <td>171397</td>\n",
       "      <td>E6SUPLJA1QR</td>\n",
       "      <td>A1QR - QUANTITATIVO DE RANCHO</td>\n",
       "      <td>339030</td>\n",
       "      <td>MATERIAL DE CONSUMO</td>\n",
       "      <td>33903007</td>\n",
       "      <td>GENEROS DE ALIMENTACAO</td>\n",
       "      <td>2024NE000259</td>\n",
       "      <td>2024</td>\n",
       "      <td>2024-03-13</td>\n",
       "      <td>160129000012024NE000259</td>\n",
       "      <td>47078180000198</td>\n",
       "      <td>AF DISTRIBUIDORA E SERVICOS LTDA</td>\n",
       "      <td>MG</td>\n",
       "      <td>ANO</td>\n",
       "      <td>114</td>\n",
       "      <td>MG</td>\n",
       "      <td>1000000000</td>\n",
       "      <td>PREGAO</td>\n",
       "      <td>GLOBAL</td>\n",
       "      <td>1</td>\n",
       "      <td>PRIMARIO OBRIGATORIO</td>\n",
       "      <td>A</td>\n",
       "      <td>INICIAL (LOA)</td>\n",
       "      <td>0006</td>\n",
       "      <td>000000000000</td>\n",
       "      <td>SEM EMENDA</td>\n",
       "      <td>AV. SETE DE SETEMBRO, 628 - CENTRO, TRÊS CORAÇ...</td>\n",
       "      <td>52121</td>\n",
       "      <td>COMANDO DO EXERCITO</td>\n",
       "      <td>E6SU</td>\n",
       "      <td>PLJ</td>\n",
       "      <td>A1QR</td>\n",
       "      <td>0.00</td>\n",
       "      <td>0.00</td>\n",
       "      <td>0.00</td>\n",
       "      <td>12816.00</td>\n",
       "    </tr>\n",
       "    <tr>\n",
       "      <th>192</th>\n",
       "      <td>160129</td>\n",
       "      <td>ESA</td>\n",
       "      <td>160533</td>\n",
       "      <td>4º CGCFEX</td>\n",
       "      <td>CML</td>\n",
       "      <td>4ª RM</td>\n",
       "      <td>Três Corações</td>\n",
       "      <td>0032</td>\n",
       "      <td>212B</td>\n",
       "      <td>BENEFICIOS OBRIGATORIOS AOS SERVIDORE</td>\n",
       "      <td>160504</td>\n",
       "      <td>COEX/GESTOR</td>\n",
       "      <td>171397</td>\n",
       "      <td>E6SUPLJA1QR</td>\n",
       "      <td>A1QR - QUANTITATIVO DE RANCHO</td>\n",
       "      <td>339030</td>\n",
       "      <td>MATERIAL DE CONSUMO</td>\n",
       "      <td>33903007</td>\n",
       "      <td>GENEROS DE ALIMENTACAO</td>\n",
       "      <td>2024NE000609</td>\n",
       "      <td>2024</td>\n",
       "      <td>2024-06-13</td>\n",
       "      <td>160129000012024NE000609</td>\n",
       "      <td>71001465000105</td>\n",
       "      <td>MARIELE SERVICOS, INDUSTRIA E COMERCIO DE PROD...</td>\n",
       "      <td>MG</td>\n",
       "      <td>ANO</td>\n",
       "      <td>22</td>\n",
       "      <td>MG</td>\n",
       "      <td>1000000000</td>\n",
       "      <td>PREGAO</td>\n",
       "      <td>GLOBAL</td>\n",
       "      <td>1</td>\n",
       "      <td>PRIMARIO OBRIGATORIO</td>\n",
       "      <td>A</td>\n",
       "      <td>INICIAL (LOA)</td>\n",
       "      <td>0006</td>\n",
       "      <td>000000000000</td>\n",
       "      <td>SEM EMENDA</td>\n",
       "      <td>AV. SETE DE SETEMBRO, 628 - CENTRO, TRÊS CORAÇ...</td>\n",
       "      <td>52121</td>\n",
       "      <td>COMANDO DO EXERCITO</td>\n",
       "      <td>E6SU</td>\n",
       "      <td>PLJ</td>\n",
       "      <td>A1QR</td>\n",
       "      <td>21871.72</td>\n",
       "      <td>0.00</td>\n",
       "      <td>21871.72</td>\n",
       "      <td>25478.08</td>\n",
       "    </tr>\n",
       "    <tr>\n",
       "      <th>193</th>\n",
       "      <td>160129</td>\n",
       "      <td>ESA</td>\n",
       "      <td>160533</td>\n",
       "      <td>4º CGCFEX</td>\n",
       "      <td>CML</td>\n",
       "      <td>4ª RM</td>\n",
       "      <td>Três Corações</td>\n",
       "      <td>0032</td>\n",
       "      <td>212B</td>\n",
       "      <td>BENEFICIOS OBRIGATORIOS AOS SERVIDORE</td>\n",
       "      <td>160504</td>\n",
       "      <td>COEX/GESTOR</td>\n",
       "      <td>171397</td>\n",
       "      <td>E6SUPLJA1QR</td>\n",
       "      <td>A1QR - QUANTITATIVO DE RANCHO</td>\n",
       "      <td>339030</td>\n",
       "      <td>MATERIAL DE CONSUMO</td>\n",
       "      <td>33903007</td>\n",
       "      <td>GENEROS DE ALIMENTACAO</td>\n",
       "      <td>2024NE000610</td>\n",
       "      <td>2024</td>\n",
       "      <td>2024-06-13</td>\n",
       "      <td>160129000012024NE000610</td>\n",
       "      <td>71001465000105</td>\n",
       "      <td>MARIELE SERVICOS, INDUSTRIA E COMERCIO DE PROD...</td>\n",
       "      <td>MG</td>\n",
       "      <td>ANO</td>\n",
       "      <td>22</td>\n",
       "      <td>MG</td>\n",
       "      <td>1000000000</td>\n",
       "      <td>PREGAO</td>\n",
       "      <td>GLOBAL</td>\n",
       "      <td>1</td>\n",
       "      <td>PRIMARIO OBRIGATORIO</td>\n",
       "      <td>A</td>\n",
       "      <td>INICIAL (LOA)</td>\n",
       "      <td>0006</td>\n",
       "      <td>000000000000</td>\n",
       "      <td>SEM EMENDA</td>\n",
       "      <td>AV. SETE DE SETEMBRO, 628 - CENTRO, TRÊS CORAÇ...</td>\n",
       "      <td>52121</td>\n",
       "      <td>COMANDO DO EXERCITO</td>\n",
       "      <td>E6SU</td>\n",
       "      <td>PLJ</td>\n",
       "      <td>A1QR</td>\n",
       "      <td>28290.00</td>\n",
       "      <td>0.00</td>\n",
       "      <td>28290.00</td>\n",
       "      <td>0.00</td>\n",
       "    </tr>\n",
       "    <tr>\n",
       "      <th>194</th>\n",
       "      <td>160129</td>\n",
       "      <td>ESA</td>\n",
       "      <td>160533</td>\n",
       "      <td>4º CGCFEX</td>\n",
       "      <td>CML</td>\n",
       "      <td>4ª RM</td>\n",
       "      <td>Três Corações</td>\n",
       "      <td>0032</td>\n",
       "      <td>212B</td>\n",
       "      <td>BENEFICIOS OBRIGATORIOS AOS SERVIDORE</td>\n",
       "      <td>160504</td>\n",
       "      <td>COEX/GESTOR</td>\n",
       "      <td>171397</td>\n",
       "      <td>E6SUPLJA1QR</td>\n",
       "      <td>A1QR - QUANTITATIVO DE RANCHO</td>\n",
       "      <td>339030</td>\n",
       "      <td>MATERIAL DE CONSUMO</td>\n",
       "      <td>33903007</td>\n",
       "      <td>GENEROS DE ALIMENTACAO</td>\n",
       "      <td>2024NE000611</td>\n",
       "      <td>2024</td>\n",
       "      <td>2024-06-13</td>\n",
       "      <td>160129000012024NE000611</td>\n",
       "      <td>47348831000112</td>\n",
       "      <td>DIEGO GRACIA DA SILVA HORTIFRUTIGRANJEIROS LTDA</td>\n",
       "      <td>SP</td>\n",
       "      <td>ANO</td>\n",
       "      <td>22</td>\n",
       "      <td>MG</td>\n",
       "      <td>1000000000</td>\n",
       "      <td>PREGAO</td>\n",
       "      <td>GLOBAL</td>\n",
       "      <td>1</td>\n",
       "      <td>PRIMARIO OBRIGATORIO</td>\n",
       "      <td>A</td>\n",
       "      <td>INICIAL (LOA)</td>\n",
       "      <td>0006</td>\n",
       "      <td>000000000000</td>\n",
       "      <td>SEM EMENDA</td>\n",
       "      <td>AV. SETE DE SETEMBRO, 628 - CENTRO, TRÊS CORAÇ...</td>\n",
       "      <td>52121</td>\n",
       "      <td>COMANDO DO EXERCITO</td>\n",
       "      <td>E6SU</td>\n",
       "      <td>PLJ</td>\n",
       "      <td>A1QR</td>\n",
       "      <td>46949.00</td>\n",
       "      <td>0.00</td>\n",
       "      <td>46949.00</td>\n",
       "      <td>0.00</td>\n",
       "    </tr>\n",
       "    <tr>\n",
       "      <th>195</th>\n",
       "      <td>160129</td>\n",
       "      <td>ESA</td>\n",
       "      <td>160533</td>\n",
       "      <td>4º CGCFEX</td>\n",
       "      <td>CML</td>\n",
       "      <td>4ª RM</td>\n",
       "      <td>Três Corações</td>\n",
       "      <td>0032</td>\n",
       "      <td>212B</td>\n",
       "      <td>BENEFICIOS OBRIGATORIOS AOS SERVIDORE</td>\n",
       "      <td>160504</td>\n",
       "      <td>COEX/GESTOR</td>\n",
       "      <td>171397</td>\n",
       "      <td>E6SUPLJA1QR</td>\n",
       "      <td>A1QR - QUANTITATIVO DE RANCHO</td>\n",
       "      <td>339030</td>\n",
       "      <td>MATERIAL DE CONSUMO</td>\n",
       "      <td>33903007</td>\n",
       "      <td>GENEROS DE ALIMENTACAO</td>\n",
       "      <td>2024NE000612</td>\n",
       "      <td>2024</td>\n",
       "      <td>2024-06-13</td>\n",
       "      <td>160129000012024NE000612</td>\n",
       "      <td>47078180000198</td>\n",
       "      <td>AF DISTRIBUIDORA E SERVICOS LTDA</td>\n",
       "      <td>MG</td>\n",
       "      <td>ANO</td>\n",
       "      <td>22</td>\n",
       "      <td>MG</td>\n",
       "      <td>1000000000</td>\n",
       "      <td>PREGAO</td>\n",
       "      <td>GLOBAL</td>\n",
       "      <td>1</td>\n",
       "      <td>PRIMARIO OBRIGATORIO</td>\n",
       "      <td>A</td>\n",
       "      <td>INICIAL (LOA)</td>\n",
       "      <td>0006</td>\n",
       "      <td>000000000000</td>\n",
       "      <td>SEM EMENDA</td>\n",
       "      <td>AV. SETE DE SETEMBRO, 628 - CENTRO, TRÊS CORAÇ...</td>\n",
       "      <td>52121</td>\n",
       "      <td>COMANDO DO EXERCITO</td>\n",
       "      <td>E6SU</td>\n",
       "      <td>PLJ</td>\n",
       "      <td>A1QR</td>\n",
       "      <td>23595.80</td>\n",
       "      <td>0.00</td>\n",
       "      <td>23595.80</td>\n",
       "      <td>0.00</td>\n",
       "    </tr>\n",
       "    <tr>\n",
       "      <th>196</th>\n",
       "      <td>160129</td>\n",
       "      <td>ESA</td>\n",
       "      <td>160533</td>\n",
       "      <td>4º CGCFEX</td>\n",
       "      <td>CML</td>\n",
       "      <td>4ª RM</td>\n",
       "      <td>Três Corações</td>\n",
       "      <td>0032</td>\n",
       "      <td>212B</td>\n",
       "      <td>BENEFICIOS OBRIGATORIOS AOS SERVIDORE</td>\n",
       "      <td>160504</td>\n",
       "      <td>COEX/GESTOR</td>\n",
       "      <td>171397</td>\n",
       "      <td>E6SUPLJA1QR</td>\n",
       "      <td>A1QR - QUANTITATIVO DE RANCHO</td>\n",
       "      <td>339030</td>\n",
       "      <td>MATERIAL DE CONSUMO</td>\n",
       "      <td>33903007</td>\n",
       "      <td>GENEROS DE ALIMENTACAO</td>\n",
       "      <td>2024NE000613</td>\n",
       "      <td>2024</td>\n",
       "      <td>2024-06-13</td>\n",
       "      <td>160129000012024NE000613</td>\n",
       "      <td>20702528000110</td>\n",
       "      <td>SUPERMERCADO BIE LTDA</td>\n",
       "      <td>MG</td>\n",
       "      <td>ANO</td>\n",
       "      <td>22</td>\n",
       "      <td>MG</td>\n",
       "      <td>1000000000</td>\n",
       "      <td>PREGAO</td>\n",
       "      <td>GLOBAL</td>\n",
       "      <td>1</td>\n",
       "      <td>PRIMARIO OBRIGATORIO</td>\n",
       "      <td>A</td>\n",
       "      <td>INICIAL (LOA)</td>\n",
       "      <td>0006</td>\n",
       "      <td>000000000000</td>\n",
       "      <td>SEM EMENDA</td>\n",
       "      <td>AV. SETE DE SETEMBRO, 628 - CENTRO, TRÊS CORAÇ...</td>\n",
       "      <td>52121</td>\n",
       "      <td>COMANDO DO EXERCITO</td>\n",
       "      <td>E6SU</td>\n",
       "      <td>PLJ</td>\n",
       "      <td>A1QR</td>\n",
       "      <td>35897.10</td>\n",
       "      <td>0.00</td>\n",
       "      <td>35897.10</td>\n",
       "      <td>0.00</td>\n",
       "    </tr>\n",
       "    <tr>\n",
       "      <th>197</th>\n",
       "      <td>160129</td>\n",
       "      <td>ESA</td>\n",
       "      <td>160533</td>\n",
       "      <td>4º CGCFEX</td>\n",
       "      <td>CML</td>\n",
       "      <td>4ª RM</td>\n",
       "      <td>Três Corações</td>\n",
       "      <td>0032</td>\n",
       "      <td>212B</td>\n",
       "      <td>BENEFICIOS OBRIGATORIOS AOS SERVIDORE</td>\n",
       "      <td>160504</td>\n",
       "      <td>COEX/GESTOR</td>\n",
       "      <td>171397</td>\n",
       "      <td>E6SUPLJA1QR</td>\n",
       "      <td>A1QR - QUANTITATIVO DE RANCHO</td>\n",
       "      <td>339030</td>\n",
       "      <td>MATERIAL DE CONSUMO</td>\n",
       "      <td>33903007</td>\n",
       "      <td>GENEROS DE ALIMENTACAO</td>\n",
       "      <td>2024NE000614</td>\n",
       "      <td>2024</td>\n",
       "      <td>2024-06-13</td>\n",
       "      <td>160129000012024NE000614</td>\n",
       "      <td>18472579000150</td>\n",
       "      <td>COMSABOR COMERCIO DE ALIMENTOS LTDA</td>\n",
       "      <td>PR</td>\n",
       "      <td>ANO</td>\n",
       "      <td>22</td>\n",
       "      <td>MG</td>\n",
       "      <td>1000000000</td>\n",
       "      <td>PREGAO</td>\n",
       "      <td>GLOBAL</td>\n",
       "      <td>1</td>\n",
       "      <td>PRIMARIO OBRIGATORIO</td>\n",
       "      <td>A</td>\n",
       "      <td>INICIAL (LOA)</td>\n",
       "      <td>0006</td>\n",
       "      <td>000000000000</td>\n",
       "      <td>SEM EMENDA</td>\n",
       "      <td>AV. SETE DE SETEMBRO, 628 - CENTRO, TRÊS CORAÇ...</td>\n",
       "      <td>52121</td>\n",
       "      <td>COMANDO DO EXERCITO</td>\n",
       "      <td>E6SU</td>\n",
       "      <td>PLJ</td>\n",
       "      <td>A1QR</td>\n",
       "      <td>10385.00</td>\n",
       "      <td>0.00</td>\n",
       "      <td>10385.00</td>\n",
       "      <td>0.00</td>\n",
       "    </tr>\n",
       "    <tr>\n",
       "      <th>198</th>\n",
       "      <td>160129</td>\n",
       "      <td>ESA</td>\n",
       "      <td>160533</td>\n",
       "      <td>4º CGCFEX</td>\n",
       "      <td>CML</td>\n",
       "      <td>4ª RM</td>\n",
       "      <td>Três Corações</td>\n",
       "      <td>0032</td>\n",
       "      <td>212B</td>\n",
       "      <td>BENEFICIOS OBRIGATORIOS AOS SERVIDORE</td>\n",
       "      <td>160504</td>\n",
       "      <td>COEX/GESTOR</td>\n",
       "      <td>171397</td>\n",
       "      <td>E6SUPLJA1QR</td>\n",
       "      <td>A1QR - QUANTITATIVO DE RANCHO</td>\n",
       "      <td>339030</td>\n",
       "      <td>MATERIAL DE CONSUMO</td>\n",
       "      <td>33903007</td>\n",
       "      <td>GENEROS DE ALIMENTACAO</td>\n",
       "      <td>2024NE000615</td>\n",
       "      <td>2024</td>\n",
       "      <td>2024-06-13</td>\n",
       "      <td>160129000012024NE000615</td>\n",
       "      <td>09294294000186</td>\n",
       "      <td>PROVER ALIMENTOS LTDA</td>\n",
       "      <td>MG</td>\n",
       "      <td>ANO</td>\n",
       "      <td>22</td>\n",
       "      <td>MG</td>\n",
       "      <td>1000000000</td>\n",
       "      <td>PREGAO</td>\n",
       "      <td>GLOBAL</td>\n",
       "      <td>1</td>\n",
       "      <td>PRIMARIO OBRIGATORIO</td>\n",
       "      <td>A</td>\n",
       "      <td>INICIAL (LOA)</td>\n",
       "      <td>0006</td>\n",
       "      <td>000000000000</td>\n",
       "      <td>SEM EMENDA</td>\n",
       "      <td>AV. SETE DE SETEMBRO, 628 - CENTRO, TRÊS CORAÇ...</td>\n",
       "      <td>52121</td>\n",
       "      <td>COMANDO DO EXERCITO</td>\n",
       "      <td>E6SU</td>\n",
       "      <td>PLJ</td>\n",
       "      <td>A1QR</td>\n",
       "      <td>33085.00</td>\n",
       "      <td>0.00</td>\n",
       "      <td>33085.00</td>\n",
       "      <td>0.00</td>\n",
       "    </tr>\n",
       "    <tr>\n",
       "      <th>199</th>\n",
       "      <td>160129</td>\n",
       "      <td>ESA</td>\n",
       "      <td>160533</td>\n",
       "      <td>4º CGCFEX</td>\n",
       "      <td>CML</td>\n",
       "      <td>4ª RM</td>\n",
       "      <td>Três Corações</td>\n",
       "      <td>0032</td>\n",
       "      <td>212B</td>\n",
       "      <td>BENEFICIOS OBRIGATORIOS AOS SERVIDORE</td>\n",
       "      <td>160504</td>\n",
       "      <td>COEX/GESTOR</td>\n",
       "      <td>171397</td>\n",
       "      <td>E6SUPLJA1QR</td>\n",
       "      <td>A1QR - QUANTITATIVO DE RANCHO</td>\n",
       "      <td>339030</td>\n",
       "      <td>MATERIAL DE CONSUMO</td>\n",
       "      <td>33903007</td>\n",
       "      <td>GENEROS DE ALIMENTACAO</td>\n",
       "      <td>2024NE000616</td>\n",
       "      <td>2024</td>\n",
       "      <td>2024-06-13</td>\n",
       "      <td>160129000012024NE000616</td>\n",
       "      <td>20942789000107</td>\n",
       "      <td>SUKOI ALIMENTOS LTDA</td>\n",
       "      <td>MG</td>\n",
       "      <td>ANO</td>\n",
       "      <td>22</td>\n",
       "      <td>MG</td>\n",
       "      <td>1000000000</td>\n",
       "      <td>PREGAO</td>\n",
       "      <td>GLOBAL</td>\n",
       "      <td>1</td>\n",
       "      <td>PRIMARIO OBRIGATORIO</td>\n",
       "      <td>A</td>\n",
       "      <td>INICIAL (LOA)</td>\n",
       "      <td>0006</td>\n",
       "      <td>000000000000</td>\n",
       "      <td>SEM EMENDA</td>\n",
       "      <td>AV. SETE DE SETEMBRO, 628 - CENTRO, TRÊS CORAÇ...</td>\n",
       "      <td>52121</td>\n",
       "      <td>COMANDO DO EXERCITO</td>\n",
       "      <td>E6SU</td>\n",
       "      <td>PLJ</td>\n",
       "      <td>A1QR</td>\n",
       "      <td>69727.00</td>\n",
       "      <td>0.00</td>\n",
       "      <td>69727.00</td>\n",
       "      <td>0.00</td>\n",
       "    </tr>\n",
       "    <tr>\n",
       "      <th>200</th>\n",
       "      <td>160129</td>\n",
       "      <td>ESA</td>\n",
       "      <td>160533</td>\n",
       "      <td>4º CGCFEX</td>\n",
       "      <td>CML</td>\n",
       "      <td>4ª RM</td>\n",
       "      <td>Três Corações</td>\n",
       "      <td>0032</td>\n",
       "      <td>212B</td>\n",
       "      <td>BENEFICIOS OBRIGATORIOS AOS SERVIDORE</td>\n",
       "      <td>160504</td>\n",
       "      <td>COEX/GESTOR</td>\n",
       "      <td>171397</td>\n",
       "      <td>E6SUPLJA1QR</td>\n",
       "      <td>A1QR - QUANTITATIVO DE RANCHO</td>\n",
       "      <td>339030</td>\n",
       "      <td>MATERIAL DE CONSUMO</td>\n",
       "      <td>33903007</td>\n",
       "      <td>GENEROS DE ALIMENTACAO</td>\n",
       "      <td>2024NE000621</td>\n",
       "      <td>2024</td>\n",
       "      <td>2024-06-14</td>\n",
       "      <td>160129000012024NE000621</td>\n",
       "      <td>47078180000198</td>\n",
       "      <td>AF DISTRIBUIDORA E SERVICOS LTDA</td>\n",
       "      <td>MG</td>\n",
       "      <td>ANO</td>\n",
       "      <td>21</td>\n",
       "      <td>MG</td>\n",
       "      <td>1000000000</td>\n",
       "      <td>PREGAO</td>\n",
       "      <td>GLOBAL</td>\n",
       "      <td>1</td>\n",
       "      <td>PRIMARIO OBRIGATORIO</td>\n",
       "      <td>A</td>\n",
       "      <td>INICIAL (LOA)</td>\n",
       "      <td>0006</td>\n",
       "      <td>000000000000</td>\n",
       "      <td>SEM EMENDA</td>\n",
       "      <td>AV. SETE DE SETEMBRO, 628 - CENTRO, TRÊS CORAÇ...</td>\n",
       "      <td>52121</td>\n",
       "      <td>COMANDO DO EXERCITO</td>\n",
       "      <td>E6SU</td>\n",
       "      <td>PLJ</td>\n",
       "      <td>A1QR</td>\n",
       "      <td>55768.77</td>\n",
       "      <td>0.00</td>\n",
       "      <td>55768.77</td>\n",
       "      <td>0.00</td>\n",
       "    </tr>\n",
       "    <tr>\n",
       "      <th>201</th>\n",
       "      <td>160129</td>\n",
       "      <td>ESA</td>\n",
       "      <td>160533</td>\n",
       "      <td>4º CGCFEX</td>\n",
       "      <td>CML</td>\n",
       "      <td>4ª RM</td>\n",
       "      <td>Três Corações</td>\n",
       "      <td>0032</td>\n",
       "      <td>212B</td>\n",
       "      <td>BENEFICIOS OBRIGATORIOS AOS SERVIDORE</td>\n",
       "      <td>160504</td>\n",
       "      <td>COEX/GESTOR</td>\n",
       "      <td>171397</td>\n",
       "      <td>E6SUPLJA1QR</td>\n",
       "      <td>A1QR - QUANTITATIVO DE RANCHO</td>\n",
       "      <td>339030</td>\n",
       "      <td>MATERIAL DE CONSUMO</td>\n",
       "      <td>33903007</td>\n",
       "      <td>GENEROS DE ALIMENTACAO</td>\n",
       "      <td>2024NE000622</td>\n",
       "      <td>2024</td>\n",
       "      <td>2024-06-14</td>\n",
       "      <td>160129000012024NE000622</td>\n",
       "      <td>29455568000189</td>\n",
       "      <td>DISTRIBUIDORA VIB LTDA</td>\n",
       "      <td>MG</td>\n",
       "      <td>ANO</td>\n",
       "      <td>21</td>\n",
       "      <td>MG</td>\n",
       "      <td>1000000000</td>\n",
       "      <td>PREGAO</td>\n",
       "      <td>GLOBAL</td>\n",
       "      <td>1</td>\n",
       "      <td>PRIMARIO OBRIGATORIO</td>\n",
       "      <td>A</td>\n",
       "      <td>INICIAL (LOA)</td>\n",
       "      <td>0006</td>\n",
       "      <td>000000000000</td>\n",
       "      <td>SEM EMENDA</td>\n",
       "      <td>AV. SETE DE SETEMBRO, 628 - CENTRO, TRÊS CORAÇ...</td>\n",
       "      <td>52121</td>\n",
       "      <td>COMANDO DO EXERCITO</td>\n",
       "      <td>E6SU</td>\n",
       "      <td>PLJ</td>\n",
       "      <td>A1QR</td>\n",
       "      <td>35990.00</td>\n",
       "      <td>0.00</td>\n",
       "      <td>35990.00</td>\n",
       "      <td>0.00</td>\n",
       "    </tr>\n",
       "    <tr>\n",
       "      <th>202</th>\n",
       "      <td>160129</td>\n",
       "      <td>ESA</td>\n",
       "      <td>160533</td>\n",
       "      <td>4º CGCFEX</td>\n",
       "      <td>CML</td>\n",
       "      <td>4ª RM</td>\n",
       "      <td>Três Corações</td>\n",
       "      <td>0032</td>\n",
       "      <td>212B</td>\n",
       "      <td>BENEFICIOS OBRIGATORIOS AOS SERVIDORE</td>\n",
       "      <td>160504</td>\n",
       "      <td>COEX/GESTOR</td>\n",
       "      <td>171397</td>\n",
       "      <td>E6SUPLJA1QR</td>\n",
       "      <td>A1QR - QUANTITATIVO DE RANCHO</td>\n",
       "      <td>339030</td>\n",
       "      <td>MATERIAL DE CONSUMO</td>\n",
       "      <td>33903007</td>\n",
       "      <td>GENEROS DE ALIMENTACAO</td>\n",
       "      <td>2024NE000623</td>\n",
       "      <td>2024</td>\n",
       "      <td>2024-06-14</td>\n",
       "      <td>160129000012024NE000623</td>\n",
       "      <td>48087032000100</td>\n",
       "      <td>MANANCIAL MINAS DISTRIBUIDORA DE BEBIDAS LTDA</td>\n",
       "      <td>MG</td>\n",
       "      <td>ANO</td>\n",
       "      <td>21</td>\n",
       "      <td>MG</td>\n",
       "      <td>1000000000</td>\n",
       "      <td>PREGAO</td>\n",
       "      <td>GLOBAL</td>\n",
       "      <td>1</td>\n",
       "      <td>PRIMARIO OBRIGATORIO</td>\n",
       "      <td>A</td>\n",
       "      <td>INICIAL (LOA)</td>\n",
       "      <td>0006</td>\n",
       "      <td>000000000000</td>\n",
       "      <td>SEM EMENDA</td>\n",
       "      <td>AV. SETE DE SETEMBRO, 628 - CENTRO, TRÊS CORAÇ...</td>\n",
       "      <td>52121</td>\n",
       "      <td>COMANDO DO EXERCITO</td>\n",
       "      <td>E6SU</td>\n",
       "      <td>PLJ</td>\n",
       "      <td>A1QR</td>\n",
       "      <td>610.00</td>\n",
       "      <td>0.00</td>\n",
       "      <td>610.00</td>\n",
       "      <td>0.00</td>\n",
       "    </tr>\n",
       "    <tr>\n",
       "      <th>203</th>\n",
       "      <td>160129</td>\n",
       "      <td>ESA</td>\n",
       "      <td>160533</td>\n",
       "      <td>4º CGCFEX</td>\n",
       "      <td>CML</td>\n",
       "      <td>4ª RM</td>\n",
       "      <td>Três Corações</td>\n",
       "      <td>0032</td>\n",
       "      <td>212B</td>\n",
       "      <td>BENEFICIOS OBRIGATORIOS AOS SERVIDORE</td>\n",
       "      <td>160504</td>\n",
       "      <td>COEX/GESTOR</td>\n",
       "      <td>171397</td>\n",
       "      <td>E6SUPLJA1QR</td>\n",
       "      <td>A1QR - QUANTITATIVO DE RANCHO</td>\n",
       "      <td>339030</td>\n",
       "      <td>MATERIAL DE CONSUMO</td>\n",
       "      <td>33903007</td>\n",
       "      <td>GENEROS DE ALIMENTACAO</td>\n",
       "      <td>2024NE000624</td>\n",
       "      <td>2024</td>\n",
       "      <td>2024-06-14</td>\n",
       "      <td>160129000012024NE000624</td>\n",
       "      <td>71001465000105</td>\n",
       "      <td>MARIELE SERVICOS, INDUSTRIA E COMERCIO DE PROD...</td>\n",
       "      <td>MG</td>\n",
       "      <td>ANO</td>\n",
       "      <td>21</td>\n",
       "      <td>MG</td>\n",
       "      <td>1000000000</td>\n",
       "      <td>PREGAO</td>\n",
       "      <td>GLOBAL</td>\n",
       "      <td>1</td>\n",
       "      <td>PRIMARIO OBRIGATORIO</td>\n",
       "      <td>A</td>\n",
       "      <td>INICIAL (LOA)</td>\n",
       "      <td>0006</td>\n",
       "      <td>000000000000</td>\n",
       "      <td>SEM EMENDA</td>\n",
       "      <td>AV. SETE DE SETEMBRO, 628 - CENTRO, TRÊS CORAÇ...</td>\n",
       "      <td>52121</td>\n",
       "      <td>COMANDO DO EXERCITO</td>\n",
       "      <td>E6SU</td>\n",
       "      <td>PLJ</td>\n",
       "      <td>A1QR</td>\n",
       "      <td>19360.00</td>\n",
       "      <td>0.00</td>\n",
       "      <td>19360.00</td>\n",
       "      <td>0.00</td>\n",
       "    </tr>\n",
       "    <tr>\n",
       "      <th>204</th>\n",
       "      <td>160129</td>\n",
       "      <td>ESA</td>\n",
       "      <td>160533</td>\n",
       "      <td>4º CGCFEX</td>\n",
       "      <td>CML</td>\n",
       "      <td>4ª RM</td>\n",
       "      <td>Três Corações</td>\n",
       "      <td>0032</td>\n",
       "      <td>212B</td>\n",
       "      <td>BENEFICIOS OBRIGATORIOS AOS SERVIDORE</td>\n",
       "      <td>160504</td>\n",
       "      <td>COEX/GESTOR</td>\n",
       "      <td>171397</td>\n",
       "      <td>E6SUPLJA1QR</td>\n",
       "      <td>A1QR - QUANTITATIVO DE RANCHO</td>\n",
       "      <td>339030</td>\n",
       "      <td>MATERIAL DE CONSUMO</td>\n",
       "      <td>33903007</td>\n",
       "      <td>GENEROS DE ALIMENTACAO</td>\n",
       "      <td>2024NE000626</td>\n",
       "      <td>2024</td>\n",
       "      <td>2024-06-14</td>\n",
       "      <td>160129000012024NE000626</td>\n",
       "      <td>20702528000110</td>\n",
       "      <td>SUPERMERCADO BIE LTDA</td>\n",
       "      <td>MG</td>\n",
       "      <td>ANO</td>\n",
       "      <td>21</td>\n",
       "      <td>MG</td>\n",
       "      <td>1000000000</td>\n",
       "      <td>PREGAO</td>\n",
       "      <td>GLOBAL</td>\n",
       "      <td>1</td>\n",
       "      <td>PRIMARIO OBRIGATORIO</td>\n",
       "      <td>A</td>\n",
       "      <td>INICIAL (LOA)</td>\n",
       "      <td>0006</td>\n",
       "      <td>000000000000</td>\n",
       "      <td>SEM EMENDA</td>\n",
       "      <td>AV. SETE DE SETEMBRO, 628 - CENTRO, TRÊS CORAÇ...</td>\n",
       "      <td>52121</td>\n",
       "      <td>COMANDO DO EXERCITO</td>\n",
       "      <td>E6SU</td>\n",
       "      <td>PLJ</td>\n",
       "      <td>A1QR</td>\n",
       "      <td>36712.75</td>\n",
       "      <td>944.19</td>\n",
       "      <td>37656.94</td>\n",
       "      <td>15195.81</td>\n",
       "    </tr>\n",
       "    <tr>\n",
       "      <th>205</th>\n",
       "      <td>160129</td>\n",
       "      <td>ESA</td>\n",
       "      <td>160533</td>\n",
       "      <td>4º CGCFEX</td>\n",
       "      <td>CML</td>\n",
       "      <td>4ª RM</td>\n",
       "      <td>Três Corações</td>\n",
       "      <td>0032</td>\n",
       "      <td>212B</td>\n",
       "      <td>BENEFICIOS OBRIGATORIOS AOS SERVIDORE</td>\n",
       "      <td>160504</td>\n",
       "      <td>COEX/GESTOR</td>\n",
       "      <td>171397</td>\n",
       "      <td>E6SUPLJA1QR</td>\n",
       "      <td>A1QR - QUANTITATIVO DE RANCHO</td>\n",
       "      <td>339030</td>\n",
       "      <td>MATERIAL DE CONSUMO</td>\n",
       "      <td>33903007</td>\n",
       "      <td>GENEROS DE ALIMENTACAO</td>\n",
       "      <td>2024NE000627</td>\n",
       "      <td>2024</td>\n",
       "      <td>2024-06-14</td>\n",
       "      <td>160129000012024NE000627</td>\n",
       "      <td>48085103000128</td>\n",
       "      <td>VSR DISTRIBUIDORA LTDA</td>\n",
       "      <td>MG</td>\n",
       "      <td>ANO</td>\n",
       "      <td>21</td>\n",
       "      <td>MG</td>\n",
       "      <td>1000000000</td>\n",
       "      <td>PREGAO</td>\n",
       "      <td>GLOBAL</td>\n",
       "      <td>1</td>\n",
       "      <td>PRIMARIO OBRIGATORIO</td>\n",
       "      <td>A</td>\n",
       "      <td>INICIAL (LOA)</td>\n",
       "      <td>0006</td>\n",
       "      <td>000000000000</td>\n",
       "      <td>SEM EMENDA</td>\n",
       "      <td>AV. SETE DE SETEMBRO, 628 - CENTRO, TRÊS CORAÇ...</td>\n",
       "      <td>52121</td>\n",
       "      <td>COMANDO DO EXERCITO</td>\n",
       "      <td>E6SU</td>\n",
       "      <td>PLJ</td>\n",
       "      <td>A1QR</td>\n",
       "      <td>55166.05</td>\n",
       "      <td>0.00</td>\n",
       "      <td>55166.05</td>\n",
       "      <td>0.00</td>\n",
       "    </tr>\n",
       "    <tr>\n",
       "      <th>206</th>\n",
       "      <td>160129</td>\n",
       "      <td>ESA</td>\n",
       "      <td>160533</td>\n",
       "      <td>4º CGCFEX</td>\n",
       "      <td>CML</td>\n",
       "      <td>4ª RM</td>\n",
       "      <td>Três Corações</td>\n",
       "      <td>0032</td>\n",
       "      <td>212B</td>\n",
       "      <td>BENEFICIOS OBRIGATORIOS AOS SERVIDORE</td>\n",
       "      <td>160504</td>\n",
       "      <td>COEX/GESTOR</td>\n",
       "      <td>171397</td>\n",
       "      <td>E6SUPLJA1QR</td>\n",
       "      <td>A1QR - QUANTITATIVO DE RANCHO</td>\n",
       "      <td>339030</td>\n",
       "      <td>MATERIAL DE CONSUMO</td>\n",
       "      <td>33903007</td>\n",
       "      <td>GENEROS DE ALIMENTACAO</td>\n",
       "      <td>2024NE000649</td>\n",
       "      <td>2024</td>\n",
       "      <td>2024-06-19</td>\n",
       "      <td>160129000012024NE000649</td>\n",
       "      <td>20942789000107</td>\n",
       "      <td>SUKOI ALIMENTOS LTDA</td>\n",
       "      <td>MG</td>\n",
       "      <td>ANO</td>\n",
       "      <td>16</td>\n",
       "      <td>MG</td>\n",
       "      <td>1000000000</td>\n",
       "      <td>PREGAO</td>\n",
       "      <td>GLOBAL</td>\n",
       "      <td>1</td>\n",
       "      <td>PRIMARIO OBRIGATORIO</td>\n",
       "      <td>A</td>\n",
       "      <td>INICIAL (LOA)</td>\n",
       "      <td>0006</td>\n",
       "      <td>000000000000</td>\n",
       "      <td>SEM EMENDA</td>\n",
       "      <td>AV. SETE DE SETEMBRO, 628 - CENTRO, TRÊS CORAÇ...</td>\n",
       "      <td>52121</td>\n",
       "      <td>COMANDO DO EXERCITO</td>\n",
       "      <td>E6SU</td>\n",
       "      <td>PLJ</td>\n",
       "      <td>A1QR</td>\n",
       "      <td>22572.00</td>\n",
       "      <td>0.00</td>\n",
       "      <td>22572.00</td>\n",
       "      <td>0.00</td>\n",
       "    </tr>\n",
       "    <tr>\n",
       "      <th>207</th>\n",
       "      <td>160129</td>\n",
       "      <td>ESA</td>\n",
       "      <td>160533</td>\n",
       "      <td>4º CGCFEX</td>\n",
       "      <td>CML</td>\n",
       "      <td>4ª RM</td>\n",
       "      <td>Três Corações</td>\n",
       "      <td>0032</td>\n",
       "      <td>212B</td>\n",
       "      <td>BENEFICIOS OBRIGATORIOS AOS SERVIDORE</td>\n",
       "      <td>160504</td>\n",
       "      <td>COEX/GESTOR</td>\n",
       "      <td>171397</td>\n",
       "      <td>E6SUPLJA1QR</td>\n",
       "      <td>A1QR - QUANTITATIVO DE RANCHO</td>\n",
       "      <td>339030</td>\n",
       "      <td>MATERIAL DE CONSUMO</td>\n",
       "      <td>33903007</td>\n",
       "      <td>GENEROS DE ALIMENTACAO</td>\n",
       "      <td>2024NE000651</td>\n",
       "      <td>2024</td>\n",
       "      <td>2024-06-19</td>\n",
       "      <td>160129000012024NE000651</td>\n",
       "      <td>37421415000149</td>\n",
       "      <td>ITAMAR ROBINSON CECCON JUNIOR</td>\n",
       "      <td>RS</td>\n",
       "      <td>ANO</td>\n",
       "      <td>16</td>\n",
       "      <td>MG</td>\n",
       "      <td>1000000000</td>\n",
       "      <td>PREGAO</td>\n",
       "      <td>GLOBAL</td>\n",
       "      <td>1</td>\n",
       "      <td>PRIMARIO OBRIGATORIO</td>\n",
       "      <td>A</td>\n",
       "      <td>INICIAL (LOA)</td>\n",
       "      <td>0006</td>\n",
       "      <td>000000000000</td>\n",
       "      <td>SEM EMENDA</td>\n",
       "      <td>AV. SETE DE SETEMBRO, 628 - CENTRO, TRÊS CORAÇ...</td>\n",
       "      <td>52121</td>\n",
       "      <td>COMANDO DO EXERCITO</td>\n",
       "      <td>E6SU</td>\n",
       "      <td>PLJ</td>\n",
       "      <td>A1QR</td>\n",
       "      <td>2460.00</td>\n",
       "      <td>0.00</td>\n",
       "      <td>2460.00</td>\n",
       "      <td>0.00</td>\n",
       "    </tr>\n",
       "    <tr>\n",
       "      <th>208</th>\n",
       "      <td>160129</td>\n",
       "      <td>ESA</td>\n",
       "      <td>160533</td>\n",
       "      <td>4º CGCFEX</td>\n",
       "      <td>CML</td>\n",
       "      <td>4ª RM</td>\n",
       "      <td>Três Corações</td>\n",
       "      <td>0032</td>\n",
       "      <td>212B</td>\n",
       "      <td>BENEFICIOS OBRIGATORIOS AOS SERVIDORE</td>\n",
       "      <td>160504</td>\n",
       "      <td>COEX/GESTOR</td>\n",
       "      <td>171397</td>\n",
       "      <td>E6SUPLJA1QR</td>\n",
       "      <td>A1QR - QUANTITATIVO DE RANCHO</td>\n",
       "      <td>339030</td>\n",
       "      <td>MATERIAL DE CONSUMO</td>\n",
       "      <td>33903007</td>\n",
       "      <td>GENEROS DE ALIMENTACAO</td>\n",
       "      <td>2024NE000653</td>\n",
       "      <td>2024</td>\n",
       "      <td>2024-06-19</td>\n",
       "      <td>160129000012024NE000653</td>\n",
       "      <td>09294294000186</td>\n",
       "      <td>PROVER ALIMENTOS LTDA</td>\n",
       "      <td>MG</td>\n",
       "      <td>ANO</td>\n",
       "      <td>16</td>\n",
       "      <td>MG</td>\n",
       "      <td>1000000000</td>\n",
       "      <td>PREGAO</td>\n",
       "      <td>GLOBAL</td>\n",
       "      <td>1</td>\n",
       "      <td>PRIMARIO OBRIGATORIO</td>\n",
       "      <td>A</td>\n",
       "      <td>INICIAL (LOA)</td>\n",
       "      <td>0006</td>\n",
       "      <td>000000000000</td>\n",
       "      <td>SEM EMENDA</td>\n",
       "      <td>AV. SETE DE SETEMBRO, 628 - CENTRO, TRÊS CORAÇ...</td>\n",
       "      <td>52121</td>\n",
       "      <td>COMANDO DO EXERCITO</td>\n",
       "      <td>E6SU</td>\n",
       "      <td>PLJ</td>\n",
       "      <td>A1QR</td>\n",
       "      <td>87168.50</td>\n",
       "      <td>0.00</td>\n",
       "      <td>87168.50</td>\n",
       "      <td>0.00</td>\n",
       "    </tr>\n",
       "    <tr>\n",
       "      <th>209</th>\n",
       "      <td>160129</td>\n",
       "      <td>ESA</td>\n",
       "      <td>160533</td>\n",
       "      <td>4º CGCFEX</td>\n",
       "      <td>CML</td>\n",
       "      <td>4ª RM</td>\n",
       "      <td>Três Corações</td>\n",
       "      <td>0032</td>\n",
       "      <td>212B</td>\n",
       "      <td>BENEFICIOS OBRIGATORIOS AOS SERVIDORE</td>\n",
       "      <td>160504</td>\n",
       "      <td>COEX/GESTOR</td>\n",
       "      <td>171397</td>\n",
       "      <td>E6SUPLJA1QR</td>\n",
       "      <td>A1QR - QUANTITATIVO DE RANCHO</td>\n",
       "      <td>339030</td>\n",
       "      <td>MATERIAL DE CONSUMO</td>\n",
       "      <td>33903007</td>\n",
       "      <td>GENEROS DE ALIMENTACAO</td>\n",
       "      <td>2024NE000701</td>\n",
       "      <td>2024</td>\n",
       "      <td>2024-06-19</td>\n",
       "      <td>160129000012024NE000701</td>\n",
       "      <td>20702528000110</td>\n",
       "      <td>SUPERMERCADO BIE LTDA</td>\n",
       "      <td>MG</td>\n",
       "      <td>ANO</td>\n",
       "      <td>16</td>\n",
       "      <td>MG</td>\n",
       "      <td>1000000000</td>\n",
       "      <td>PREGAO</td>\n",
       "      <td>GLOBAL</td>\n",
       "      <td>1</td>\n",
       "      <td>PRIMARIO OBRIGATORIO</td>\n",
       "      <td>A</td>\n",
       "      <td>INICIAL (LOA)</td>\n",
       "      <td>0006</td>\n",
       "      <td>000000000000</td>\n",
       "      <td>SEM EMENDA</td>\n",
       "      <td>AV. SETE DE SETEMBRO, 628 - CENTRO, TRÊS CORAÇ...</td>\n",
       "      <td>52121</td>\n",
       "      <td>COMANDO DO EXERCITO</td>\n",
       "      <td>E6SU</td>\n",
       "      <td>PLJ</td>\n",
       "      <td>A1QR</td>\n",
       "      <td>19048.55</td>\n",
       "      <td>0.00</td>\n",
       "      <td>19048.55</td>\n",
       "      <td>0.00</td>\n",
       "    </tr>\n",
       "    <tr>\n",
       "      <th>210</th>\n",
       "      <td>160129</td>\n",
       "      <td>ESA</td>\n",
       "      <td>160533</td>\n",
       "      <td>4º CGCFEX</td>\n",
       "      <td>CML</td>\n",
       "      <td>4ª RM</td>\n",
       "      <td>Três Corações</td>\n",
       "      <td>0032</td>\n",
       "      <td>212B</td>\n",
       "      <td>BENEFICIOS OBRIGATORIOS AOS SERVIDORE</td>\n",
       "      <td>160504</td>\n",
       "      <td>COEX/GESTOR</td>\n",
       "      <td>171397</td>\n",
       "      <td>E6SUPLJA1QR</td>\n",
       "      <td>A1QR - QUANTITATIVO DE RANCHO</td>\n",
       "      <td>339030</td>\n",
       "      <td>MATERIAL DE CONSUMO</td>\n",
       "      <td>33903007</td>\n",
       "      <td>GENEROS DE ALIMENTACAO</td>\n",
       "      <td>2024NE000705</td>\n",
       "      <td>2024</td>\n",
       "      <td>2024-06-19</td>\n",
       "      <td>160129000012024NE000705</td>\n",
       "      <td>47078180000198</td>\n",
       "      <td>AF DISTRIBUIDORA E SERVICOS LTDA</td>\n",
       "      <td>MG</td>\n",
       "      <td>ANO</td>\n",
       "      <td>16</td>\n",
       "      <td>MG</td>\n",
       "      <td>1000000000</td>\n",
       "      <td>PREGAO</td>\n",
       "      <td>GLOBAL</td>\n",
       "      <td>1</td>\n",
       "      <td>PRIMARIO OBRIGATORIO</td>\n",
       "      <td>A</td>\n",
       "      <td>INICIAL (LOA)</td>\n",
       "      <td>0006</td>\n",
       "      <td>000000000000</td>\n",
       "      <td>SEM EMENDA</td>\n",
       "      <td>AV. SETE DE SETEMBRO, 628 - CENTRO, TRÊS CORAÇ...</td>\n",
       "      <td>52121</td>\n",
       "      <td>COMANDO DO EXERCITO</td>\n",
       "      <td>E6SU</td>\n",
       "      <td>PLJ</td>\n",
       "      <td>A1QR</td>\n",
       "      <td>25368.50</td>\n",
       "      <td>0.00</td>\n",
       "      <td>25368.50</td>\n",
       "      <td>0.00</td>\n",
       "    </tr>\n",
       "    <tr>\n",
       "      <th>211</th>\n",
       "      <td>160129</td>\n",
       "      <td>ESA</td>\n",
       "      <td>160533</td>\n",
       "      <td>4º CGCFEX</td>\n",
       "      <td>CML</td>\n",
       "      <td>4ª RM</td>\n",
       "      <td>Três Corações</td>\n",
       "      <td>0032</td>\n",
       "      <td>212B</td>\n",
       "      <td>BENEFICIOS OBRIGATORIOS AOS SERVIDORE</td>\n",
       "      <td>160504</td>\n",
       "      <td>COEX/GESTOR</td>\n",
       "      <td>171397</td>\n",
       "      <td>E6SUPLJA1QR</td>\n",
       "      <td>A1QR - QUANTITATIVO DE RANCHO</td>\n",
       "      <td>339030</td>\n",
       "      <td>MATERIAL DE CONSUMO</td>\n",
       "      <td>33903007</td>\n",
       "      <td>GENEROS DE ALIMENTACAO</td>\n",
       "      <td>2024NE000765</td>\n",
       "      <td>2024</td>\n",
       "      <td>2024-06-27</td>\n",
       "      <td>160129000012024NE000765</td>\n",
       "      <td>47078180000198</td>\n",
       "      <td>AF DISTRIBUIDORA E SERVICOS LTDA</td>\n",
       "      <td>MG</td>\n",
       "      <td>ANO</td>\n",
       "      <td>8</td>\n",
       "      <td>MG</td>\n",
       "      <td>1000000000</td>\n",
       "      <td>PREGAO</td>\n",
       "      <td>GLOBAL</td>\n",
       "      <td>1</td>\n",
       "      <td>PRIMARIO OBRIGATORIO</td>\n",
       "      <td>A</td>\n",
       "      <td>INICIAL (LOA)</td>\n",
       "      <td>0006</td>\n",
       "      <td>000000000000</td>\n",
       "      <td>SEM EMENDA</td>\n",
       "      <td>AV. SETE DE SETEMBRO, 628 - CENTRO, TRÊS CORAÇ...</td>\n",
       "      <td>52121</td>\n",
       "      <td>COMANDO DO EXERCITO</td>\n",
       "      <td>E6SU</td>\n",
       "      <td>PLJ</td>\n",
       "      <td>A1QR</td>\n",
       "      <td>79.37</td>\n",
       "      <td>0.00</td>\n",
       "      <td>79.37</td>\n",
       "      <td>0.00</td>\n",
       "    </tr>\n",
       "    <tr>\n",
       "      <th>212</th>\n",
       "      <td>160129</td>\n",
       "      <td>ESA</td>\n",
       "      <td>160533</td>\n",
       "      <td>4º CGCFEX</td>\n",
       "      <td>CML</td>\n",
       "      <td>4ª RM</td>\n",
       "      <td>Três Corações</td>\n",
       "      <td>0032</td>\n",
       "      <td>212B</td>\n",
       "      <td>BENEFICIOS OBRIGATORIOS AOS SERVIDORE</td>\n",
       "      <td>160504</td>\n",
       "      <td>COEX/GESTOR</td>\n",
       "      <td>171397</td>\n",
       "      <td>E6SUPLJA1QR</td>\n",
       "      <td>A1QR - QUANTITATIVO DE RANCHO</td>\n",
       "      <td>339030</td>\n",
       "      <td>MATERIAL DE CONSUMO</td>\n",
       "      <td>33903007</td>\n",
       "      <td>GENEROS DE ALIMENTACAO</td>\n",
       "      <td>2024NE000767</td>\n",
       "      <td>2024</td>\n",
       "      <td>2024-06-27</td>\n",
       "      <td>160129000012024NE000767</td>\n",
       "      <td>20702528000110</td>\n",
       "      <td>SUPERMERCADO BIE LTDA</td>\n",
       "      <td>MG</td>\n",
       "      <td>ANO</td>\n",
       "      <td>8</td>\n",
       "      <td>MG</td>\n",
       "      <td>1000000000</td>\n",
       "      <td>PREGAO</td>\n",
       "      <td>GLOBAL</td>\n",
       "      <td>1</td>\n",
       "      <td>PRIMARIO OBRIGATORIO</td>\n",
       "      <td>A</td>\n",
       "      <td>INICIAL (LOA)</td>\n",
       "      <td>0006</td>\n",
       "      <td>000000000000</td>\n",
       "      <td>SEM EMENDA</td>\n",
       "      <td>AV. SETE DE SETEMBRO, 628 - CENTRO, TRÊS CORAÇ...</td>\n",
       "      <td>52121</td>\n",
       "      <td>COMANDO DO EXERCITO</td>\n",
       "      <td>E6SU</td>\n",
       "      <td>PLJ</td>\n",
       "      <td>A1QR</td>\n",
       "      <td>143.40</td>\n",
       "      <td>0.00</td>\n",
       "      <td>143.40</td>\n",
       "      <td>0.00</td>\n",
       "    </tr>\n",
       "    <tr>\n",
       "      <th>213</th>\n",
       "      <td>160129</td>\n",
       "      <td>ESA</td>\n",
       "      <td>160533</td>\n",
       "      <td>4º CGCFEX</td>\n",
       "      <td>CML</td>\n",
       "      <td>4ª RM</td>\n",
       "      <td>Três Corações</td>\n",
       "      <td>0032</td>\n",
       "      <td>212B</td>\n",
       "      <td>BENEFICIOS OBRIGATORIOS AOS SERVIDORE</td>\n",
       "      <td>160504</td>\n",
       "      <td>COEX/GESTOR</td>\n",
       "      <td>171397</td>\n",
       "      <td>E6SUPLJA1QR</td>\n",
       "      <td>A1QR - QUANTITATIVO DE RANCHO</td>\n",
       "      <td>339030</td>\n",
       "      <td>MATERIAL DE CONSUMO</td>\n",
       "      <td>33903007</td>\n",
       "      <td>GENEROS DE ALIMENTACAO</td>\n",
       "      <td>2024NE000768</td>\n",
       "      <td>2024</td>\n",
       "      <td>2024-06-27</td>\n",
       "      <td>160129000012024NE000768</td>\n",
       "      <td>09294294000186</td>\n",
       "      <td>PROVER ALIMENTOS LTDA</td>\n",
       "      <td>MG</td>\n",
       "      <td>ANO</td>\n",
       "      <td>8</td>\n",
       "      <td>MG</td>\n",
       "      <td>1000000000</td>\n",
       "      <td>PREGAO</td>\n",
       "      <td>GLOBAL</td>\n",
       "      <td>1</td>\n",
       "      <td>PRIMARIO OBRIGATORIO</td>\n",
       "      <td>A</td>\n",
       "      <td>INICIAL (LOA)</td>\n",
       "      <td>0006</td>\n",
       "      <td>000000000000</td>\n",
       "      <td>SEM EMENDA</td>\n",
       "      <td>AV. SETE DE SETEMBRO, 628 - CENTRO, TRÊS CORAÇ...</td>\n",
       "      <td>52121</td>\n",
       "      <td>COMANDO DO EXERCITO</td>\n",
       "      <td>E6SU</td>\n",
       "      <td>PLJ</td>\n",
       "      <td>A1QR</td>\n",
       "      <td>30.55</td>\n",
       "      <td>0.00</td>\n",
       "      <td>30.55</td>\n",
       "      <td>0.00</td>\n",
       "    </tr>\n",
       "    <tr>\n",
       "      <th>214</th>\n",
       "      <td>160129</td>\n",
       "      <td>ESA</td>\n",
       "      <td>160533</td>\n",
       "      <td>4º CGCFEX</td>\n",
       "      <td>CML</td>\n",
       "      <td>4ª RM</td>\n",
       "      <td>Três Corações</td>\n",
       "      <td>0032</td>\n",
       "      <td>212B</td>\n",
       "      <td>BENEFICIOS OBRIGATORIOS AOS SERVIDORE</td>\n",
       "      <td>160504</td>\n",
       "      <td>COEX/GESTOR</td>\n",
       "      <td>171397</td>\n",
       "      <td>E6SUPLJA1QR</td>\n",
       "      <td>A1QR - QUANTITATIVO DE RANCHO</td>\n",
       "      <td>339030</td>\n",
       "      <td>MATERIAL DE CONSUMO</td>\n",
       "      <td>33903007</td>\n",
       "      <td>GENEROS DE ALIMENTACAO</td>\n",
       "      <td>2024NE000769</td>\n",
       "      <td>2024</td>\n",
       "      <td>2024-06-27</td>\n",
       "      <td>160129000012024NE000769</td>\n",
       "      <td>20942789000107</td>\n",
       "      <td>SUKOI ALIMENTOS LTDA</td>\n",
       "      <td>MG</td>\n",
       "      <td>ANO</td>\n",
       "      <td>8</td>\n",
       "      <td>MG</td>\n",
       "      <td>1000000000</td>\n",
       "      <td>PREGAO</td>\n",
       "      <td>GLOBAL</td>\n",
       "      <td>1</td>\n",
       "      <td>PRIMARIO OBRIGATORIO</td>\n",
       "      <td>A</td>\n",
       "      <td>INICIAL (LOA)</td>\n",
       "      <td>0006</td>\n",
       "      <td>000000000000</td>\n",
       "      <td>SEM EMENDA</td>\n",
       "      <td>AV. SETE DE SETEMBRO, 628 - CENTRO, TRÊS CORAÇ...</td>\n",
       "      <td>52121</td>\n",
       "      <td>COMANDO DO EXERCITO</td>\n",
       "      <td>E6SU</td>\n",
       "      <td>PLJ</td>\n",
       "      <td>A1QR</td>\n",
       "      <td>51.09</td>\n",
       "      <td>0.00</td>\n",
       "      <td>51.09</td>\n",
       "      <td>0.00</td>\n",
       "    </tr>\n",
       "    <tr>\n",
       "      <th>215</th>\n",
       "      <td>160129</td>\n",
       "      <td>ESA</td>\n",
       "      <td>160533</td>\n",
       "      <td>4º CGCFEX</td>\n",
       "      <td>CML</td>\n",
       "      <td>4ª RM</td>\n",
       "      <td>Três Corações</td>\n",
       "      <td>0032</td>\n",
       "      <td>212B</td>\n",
       "      <td>BENEFICIOS OBRIGATORIOS AOS SERVIDORE</td>\n",
       "      <td>160504</td>\n",
       "      <td>COEX/GESTOR</td>\n",
       "      <td>171397</td>\n",
       "      <td>E6SUPLJA1QR</td>\n",
       "      <td>A1QR - QUANTITATIVO DE RANCHO</td>\n",
       "      <td>339030</td>\n",
       "      <td>MATERIAL DE CONSUMO</td>\n",
       "      <td>33903007</td>\n",
       "      <td>GENEROS DE ALIMENTACAO</td>\n",
       "      <td>2024NE000770</td>\n",
       "      <td>2024</td>\n",
       "      <td>2024-06-27</td>\n",
       "      <td>160129000012024NE000770</td>\n",
       "      <td>18472579000150</td>\n",
       "      <td>COMSABOR COMERCIO DE ALIMENTOS LTDA</td>\n",
       "      <td>PR</td>\n",
       "      <td>ANO</td>\n",
       "      <td>8</td>\n",
       "      <td>MG</td>\n",
       "      <td>1000000000</td>\n",
       "      <td>PREGAO</td>\n",
       "      <td>GLOBAL</td>\n",
       "      <td>1</td>\n",
       "      <td>PRIMARIO OBRIGATORIO</td>\n",
       "      <td>A</td>\n",
       "      <td>INICIAL (LOA)</td>\n",
       "      <td>0006</td>\n",
       "      <td>000000000000</td>\n",
       "      <td>SEM EMENDA</td>\n",
       "      <td>AV. SETE DE SETEMBRO, 628 - CENTRO, TRÊS CORAÇ...</td>\n",
       "      <td>52121</td>\n",
       "      <td>COMANDO DO EXERCITO</td>\n",
       "      <td>E6SU</td>\n",
       "      <td>PLJ</td>\n",
       "      <td>A1QR</td>\n",
       "      <td>167.00</td>\n",
       "      <td>0.00</td>\n",
       "      <td>167.00</td>\n",
       "      <td>0.00</td>\n",
       "    </tr>\n",
       "    <tr>\n",
       "      <th>216</th>\n",
       "      <td>160129</td>\n",
       "      <td>ESA</td>\n",
       "      <td>160533</td>\n",
       "      <td>4º CGCFEX</td>\n",
       "      <td>CML</td>\n",
       "      <td>4ª RM</td>\n",
       "      <td>Três Corações</td>\n",
       "      <td>0032</td>\n",
       "      <td>212B</td>\n",
       "      <td>BENEFICIOS OBRIGATORIOS AOS SERVIDORE</td>\n",
       "      <td>160504</td>\n",
       "      <td>COEX/GESTOR</td>\n",
       "      <td>171397</td>\n",
       "      <td>E6SUPLJA3RR</td>\n",
       "      <td>A3RR - QUANTITATIVO DE RANCHO</td>\n",
       "      <td>339030</td>\n",
       "      <td>MATERIAL DE CONSUMO</td>\n",
       "      <td>33903007</td>\n",
       "      <td>GENEROS DE ALIMENTACAO</td>\n",
       "      <td>2024NE000094</td>\n",
       "      <td>2024</td>\n",
       "      <td>2024-02-19</td>\n",
       "      <td>160129000012024NE000094</td>\n",
       "      <td>47078180000198</td>\n",
       "      <td>AF DISTRIBUIDORA E SERVICOS LTDA</td>\n",
       "      <td>MG</td>\n",
       "      <td>ANO</td>\n",
       "      <td>137</td>\n",
       "      <td>MG</td>\n",
       "      <td>1000000000</td>\n",
       "      <td>PREGAO</td>\n",
       "      <td>GLOBAL</td>\n",
       "      <td>1</td>\n",
       "      <td>PRIMARIO OBRIGATORIO</td>\n",
       "      <td>A</td>\n",
       "      <td>INICIAL (LOA)</td>\n",
       "      <td>0006</td>\n",
       "      <td>000000000000</td>\n",
       "      <td>SEM EMENDA</td>\n",
       "      <td>AV. SETE DE SETEMBRO, 628 - CENTRO, TRÊS CORAÇ...</td>\n",
       "      <td>52121</td>\n",
       "      <td>COMANDO DO EXERCITO</td>\n",
       "      <td>E6SU</td>\n",
       "      <td>PLJ</td>\n",
       "      <td>A3RR</td>\n",
       "      <td>0.00</td>\n",
       "      <td>0.00</td>\n",
       "      <td>0.00</td>\n",
       "      <td>3961.83</td>\n",
       "    </tr>\n",
       "    <tr>\n",
       "      <th>217</th>\n",
       "      <td>160129</td>\n",
       "      <td>ESA</td>\n",
       "      <td>160533</td>\n",
       "      <td>4º CGCFEX</td>\n",
       "      <td>CML</td>\n",
       "      <td>4ª RM</td>\n",
       "      <td>Três Corações</td>\n",
       "      <td>0032</td>\n",
       "      <td>212B</td>\n",
       "      <td>BENEFICIOS OBRIGATORIOS AOS SERVIDORE</td>\n",
       "      <td>160504</td>\n",
       "      <td>COEX/GESTOR</td>\n",
       "      <td>171397</td>\n",
       "      <td>E6SUPLJA3RR</td>\n",
       "      <td>A3RR - QUANTITATIVO DE RANCHO</td>\n",
       "      <td>339030</td>\n",
       "      <td>MATERIAL DE CONSUMO</td>\n",
       "      <td>33903007</td>\n",
       "      <td>GENEROS DE ALIMENTACAO</td>\n",
       "      <td>2024NE000095</td>\n",
       "      <td>2024</td>\n",
       "      <td>2024-02-19</td>\n",
       "      <td>160129000012024NE000095</td>\n",
       "      <td>20702528000110</td>\n",
       "      <td>SUPERMERCADO BIE LTDA</td>\n",
       "      <td>MG</td>\n",
       "      <td>ANO</td>\n",
       "      <td>137</td>\n",
       "      <td>MG</td>\n",
       "      <td>1000000000</td>\n",
       "      <td>PREGAO</td>\n",
       "      <td>GLOBAL</td>\n",
       "      <td>1</td>\n",
       "      <td>PRIMARIO OBRIGATORIO</td>\n",
       "      <td>A</td>\n",
       "      <td>INICIAL (LOA)</td>\n",
       "      <td>0006</td>\n",
       "      <td>000000000000</td>\n",
       "      <td>SEM EMENDA</td>\n",
       "      <td>AV. SETE DE SETEMBRO, 628 - CENTRO, TRÊS CORAÇ...</td>\n",
       "      <td>52121</td>\n",
       "      <td>COMANDO DO EXERCITO</td>\n",
       "      <td>E6SU</td>\n",
       "      <td>PLJ</td>\n",
       "      <td>A3RR</td>\n",
       "      <td>0.00</td>\n",
       "      <td>113.58</td>\n",
       "      <td>113.58</td>\n",
       "      <td>6388.50</td>\n",
       "    </tr>\n",
       "    <tr>\n",
       "      <th>218</th>\n",
       "      <td>160129</td>\n",
       "      <td>ESA</td>\n",
       "      <td>160533</td>\n",
       "      <td>4º CGCFEX</td>\n",
       "      <td>CML</td>\n",
       "      <td>4ª RM</td>\n",
       "      <td>Três Corações</td>\n",
       "      <td>0032</td>\n",
       "      <td>212B</td>\n",
       "      <td>BENEFICIOS OBRIGATORIOS AOS SERVIDORE</td>\n",
       "      <td>160504</td>\n",
       "      <td>COEX/GESTOR</td>\n",
       "      <td>171397</td>\n",
       "      <td>E6SUPLJA3RR</td>\n",
       "      <td>A3RR - QUANTITATIVO DE RANCHO</td>\n",
       "      <td>339030</td>\n",
       "      <td>MATERIAL DE CONSUMO</td>\n",
       "      <td>33903007</td>\n",
       "      <td>GENEROS DE ALIMENTACAO</td>\n",
       "      <td>2024NE000097</td>\n",
       "      <td>2024</td>\n",
       "      <td>2024-02-19</td>\n",
       "      <td>160129000012024NE000097</td>\n",
       "      <td>20942789000107</td>\n",
       "      <td>SUKOI ALIMENTOS LTDA</td>\n",
       "      <td>MG</td>\n",
       "      <td>ANO</td>\n",
       "      <td>137</td>\n",
       "      <td>MG</td>\n",
       "      <td>1000000000</td>\n",
       "      <td>PREGAO</td>\n",
       "      <td>GLOBAL</td>\n",
       "      <td>1</td>\n",
       "      <td>PRIMARIO OBRIGATORIO</td>\n",
       "      <td>A</td>\n",
       "      <td>INICIAL (LOA)</td>\n",
       "      <td>0006</td>\n",
       "      <td>000000000000</td>\n",
       "      <td>SEM EMENDA</td>\n",
       "      <td>AV. SETE DE SETEMBRO, 628 - CENTRO, TRÊS CORAÇ...</td>\n",
       "      <td>52121</td>\n",
       "      <td>COMANDO DO EXERCITO</td>\n",
       "      <td>E6SU</td>\n",
       "      <td>PLJ</td>\n",
       "      <td>A3RR</td>\n",
       "      <td>0.00</td>\n",
       "      <td>0.00</td>\n",
       "      <td>0.00</td>\n",
       "      <td>3180.00</td>\n",
       "    </tr>\n",
       "    <tr>\n",
       "      <th>219</th>\n",
       "      <td>160129</td>\n",
       "      <td>ESA</td>\n",
       "      <td>160533</td>\n",
       "      <td>4º CGCFEX</td>\n",
       "      <td>CML</td>\n",
       "      <td>4ª RM</td>\n",
       "      <td>Três Corações</td>\n",
       "      <td>0032</td>\n",
       "      <td>212B</td>\n",
       "      <td>BENEFICIOS OBRIGATORIOS AOS SERVIDORE</td>\n",
       "      <td>160504</td>\n",
       "      <td>COEX/GESTOR</td>\n",
       "      <td>171397</td>\n",
       "      <td>E6SUPLJA3RR</td>\n",
       "      <td>A3RR - QUANTITATIVO DE RANCHO</td>\n",
       "      <td>339030</td>\n",
       "      <td>MATERIAL DE CONSUMO</td>\n",
       "      <td>33903007</td>\n",
       "      <td>GENEROS DE ALIMENTACAO</td>\n",
       "      <td>2024NE000098</td>\n",
       "      <td>2024</td>\n",
       "      <td>2024-02-19</td>\n",
       "      <td>160129000012024NE000098</td>\n",
       "      <td>48085103000128</td>\n",
       "      <td>VSR DISTRIBUIDORA LTDA</td>\n",
       "      <td>MG</td>\n",
       "      <td>ANO</td>\n",
       "      <td>137</td>\n",
       "      <td>MG</td>\n",
       "      <td>1000000000</td>\n",
       "      <td>PREGAO</td>\n",
       "      <td>GLOBAL</td>\n",
       "      <td>1</td>\n",
       "      <td>PRIMARIO OBRIGATORIO</td>\n",
       "      <td>A</td>\n",
       "      <td>INICIAL (LOA)</td>\n",
       "      <td>0006</td>\n",
       "      <td>000000000000</td>\n",
       "      <td>SEM EMENDA</td>\n",
       "      <td>AV. SETE DE SETEMBRO, 628 - CENTRO, TRÊS CORAÇ...</td>\n",
       "      <td>52121</td>\n",
       "      <td>COMANDO DO EXERCITO</td>\n",
       "      <td>E6SU</td>\n",
       "      <td>PLJ</td>\n",
       "      <td>A3RR</td>\n",
       "      <td>0.00</td>\n",
       "      <td>0.00</td>\n",
       "      <td>0.00</td>\n",
       "      <td>799.00</td>\n",
       "    </tr>\n",
       "    <tr>\n",
       "      <th>220</th>\n",
       "      <td>160129</td>\n",
       "      <td>ESA</td>\n",
       "      <td>160533</td>\n",
       "      <td>4º CGCFEX</td>\n",
       "      <td>CML</td>\n",
       "      <td>4ª RM</td>\n",
       "      <td>Três Corações</td>\n",
       "      <td>0032</td>\n",
       "      <td>212B</td>\n",
       "      <td>BENEFICIOS OBRIGATORIOS AOS SERVIDORE</td>\n",
       "      <td>160504</td>\n",
       "      <td>COEX/GESTOR</td>\n",
       "      <td>171397</td>\n",
       "      <td>E6SUPLJA3RR</td>\n",
       "      <td>A3RR - QUANTITATIVO DE RANCHO</td>\n",
       "      <td>339030</td>\n",
       "      <td>MATERIAL DE CONSUMO</td>\n",
       "      <td>33903007</td>\n",
       "      <td>GENEROS DE ALIMENTACAO</td>\n",
       "      <td>2024NE000285</td>\n",
       "      <td>2024</td>\n",
       "      <td>2024-03-18</td>\n",
       "      <td>160129000012024NE000285</td>\n",
       "      <td>71001465000105</td>\n",
       "      <td>MARIELE SERVICOS, INDUSTRIA E COMERCIO DE PROD...</td>\n",
       "      <td>MG</td>\n",
       "      <td>ANO</td>\n",
       "      <td>109</td>\n",
       "      <td>MG</td>\n",
       "      <td>1000000000</td>\n",
       "      <td>PREGAO</td>\n",
       "      <td>GLOBAL</td>\n",
       "      <td>1</td>\n",
       "      <td>PRIMARIO OBRIGATORIO</td>\n",
       "      <td>A</td>\n",
       "      <td>INICIAL (LOA)</td>\n",
       "      <td>0006</td>\n",
       "      <td>000000000000</td>\n",
       "      <td>SEM EMENDA</td>\n",
       "      <td>AV. SETE DE SETEMBRO, 628 - CENTRO, TRÊS CORAÇ...</td>\n",
       "      <td>52121</td>\n",
       "      <td>COMANDO DO EXERCITO</td>\n",
       "      <td>E6SU</td>\n",
       "      <td>PLJ</td>\n",
       "      <td>A3RR</td>\n",
       "      <td>0.00</td>\n",
       "      <td>0.00</td>\n",
       "      <td>0.00</td>\n",
       "      <td>2999.20</td>\n",
       "    </tr>\n",
       "    <tr>\n",
       "      <th>221</th>\n",
       "      <td>160129</td>\n",
       "      <td>ESA</td>\n",
       "      <td>160533</td>\n",
       "      <td>4º CGCFEX</td>\n",
       "      <td>CML</td>\n",
       "      <td>4ª RM</td>\n",
       "      <td>Três Corações</td>\n",
       "      <td>0032</td>\n",
       "      <td>212B</td>\n",
       "      <td>BENEFICIOS OBRIGATORIOS AOS SERVIDORE</td>\n",
       "      <td>160504</td>\n",
       "      <td>COEX/GESTOR</td>\n",
       "      <td>171397</td>\n",
       "      <td>E6SUPLJA3RR</td>\n",
       "      <td>A3RR - QUANTITATIVO DE RANCHO</td>\n",
       "      <td>339030</td>\n",
       "      <td>MATERIAL DE CONSUMO</td>\n",
       "      <td>33903007</td>\n",
       "      <td>GENEROS DE ALIMENTACAO</td>\n",
       "      <td>2024NE000464</td>\n",
       "      <td>2024</td>\n",
       "      <td>2024-05-06</td>\n",
       "      <td>160129000012024NE000464</td>\n",
       "      <td>20702528000110</td>\n",
       "      <td>SUPERMERCADO BIE LTDA</td>\n",
       "      <td>MG</td>\n",
       "      <td>ANO</td>\n",
       "      <td>60</td>\n",
       "      <td>MG</td>\n",
       "      <td>1000000000</td>\n",
       "      <td>PREGAO</td>\n",
       "      <td>GLOBAL</td>\n",
       "      <td>1</td>\n",
       "      <td>PRIMARIO OBRIGATORIO</td>\n",
       "      <td>A</td>\n",
       "      <td>INICIAL (LOA)</td>\n",
       "      <td>0006</td>\n",
       "      <td>000000000000</td>\n",
       "      <td>SEM EMENDA</td>\n",
       "      <td>AV. SETE DE SETEMBRO, 628 - CENTRO, TRÊS CORAÇ...</td>\n",
       "      <td>52121</td>\n",
       "      <td>COMANDO DO EXERCITO</td>\n",
       "      <td>E6SU</td>\n",
       "      <td>PLJ</td>\n",
       "      <td>A3RR</td>\n",
       "      <td>0.00</td>\n",
       "      <td>0.00</td>\n",
       "      <td>0.00</td>\n",
       "      <td>555.22</td>\n",
       "    </tr>\n",
       "    <tr>\n",
       "      <th>222</th>\n",
       "      <td>160129</td>\n",
       "      <td>ESA</td>\n",
       "      <td>160533</td>\n",
       "      <td>4º CGCFEX</td>\n",
       "      <td>CML</td>\n",
       "      <td>4ª RM</td>\n",
       "      <td>Três Corações</td>\n",
       "      <td>0032</td>\n",
       "      <td>212B</td>\n",
       "      <td>BENEFICIOS OBRIGATORIOS AOS SERVIDORE</td>\n",
       "      <td>160504</td>\n",
       "      <td>COEX/GESTOR</td>\n",
       "      <td>171397</td>\n",
       "      <td>E6SUPLJA5PA</td>\n",
       "      <td>A5PA - PASA</td>\n",
       "      <td>339030</td>\n",
       "      <td>MATERIAL DE CONSUMO</td>\n",
       "      <td>33903019</td>\n",
       "      <td>MATERIAL DE ACONDICIONAMENTO E EMBALAGEM</td>\n",
       "      <td>2024NE000145</td>\n",
       "      <td>2024</td>\n",
       "      <td>2024-02-27</td>\n",
       "      <td>160129000012024NE000145</td>\n",
       "      <td>05291541000130</td>\n",
       "      <td>TY BORTHOLIN COMERCIAL LTDA</td>\n",
       "      <td>SP</td>\n",
       "      <td>ANO</td>\n",
       "      <td>129</td>\n",
       "      <td>MG</td>\n",
       "      <td>1000000000</td>\n",
       "      <td>PREGAO</td>\n",
       "      <td>ORDINARIO</td>\n",
       "      <td>1</td>\n",
       "      <td>PRIMARIO OBRIGATORIO</td>\n",
       "      <td>A</td>\n",
       "      <td>INICIAL (LOA)</td>\n",
       "      <td>0006</td>\n",
       "      <td>000000000000</td>\n",
       "      <td>SEM EMENDA</td>\n",
       "      <td>ESCOLA DE SARGENTOS DAS ARMAS - AV. SETE DE SE...</td>\n",
       "      <td>52121</td>\n",
       "      <td>COMANDO DO EXERCITO</td>\n",
       "      <td>E6SU</td>\n",
       "      <td>PLJ</td>\n",
       "      <td>A5PA</td>\n",
       "      <td>0.00</td>\n",
       "      <td>209.11</td>\n",
       "      <td>209.11</td>\n",
       "      <td>3365.49</td>\n",
       "    </tr>\n",
       "    <tr>\n",
       "      <th>223</th>\n",
       "      <td>160129</td>\n",
       "      <td>ESA</td>\n",
       "      <td>160533</td>\n",
       "      <td>4º CGCFEX</td>\n",
       "      <td>CML</td>\n",
       "      <td>4ª RM</td>\n",
       "      <td>Três Corações</td>\n",
       "      <td>0032</td>\n",
       "      <td>212B</td>\n",
       "      <td>BENEFICIOS OBRIGATORIOS AOS SERVIDORE</td>\n",
       "      <td>160504</td>\n",
       "      <td>COEX/GESTOR</td>\n",
       "      <td>171397</td>\n",
       "      <td>E6SUPLJA5PA</td>\n",
       "      <td>A5PA - PASA</td>\n",
       "      <td>339030</td>\n",
       "      <td>MATERIAL DE CONSUMO</td>\n",
       "      <td>33903019</td>\n",
       "      <td>MATERIAL DE ACONDICIONAMENTO E EMBALAGEM</td>\n",
       "      <td>2024NE000146</td>\n",
       "      <td>2024</td>\n",
       "      <td>2024-02-27</td>\n",
       "      <td>160129000012024NE000146</td>\n",
       "      <td>06910908000119</td>\n",
       "      <td>J BRILHANTE COMERCIAL LTDA</td>\n",
       "      <td>SP</td>\n",
       "      <td>ANO</td>\n",
       "      <td>129</td>\n",
       "      <td>MG</td>\n",
       "      <td>1000000000</td>\n",
       "      <td>PREGAO</td>\n",
       "      <td>ORDINARIO</td>\n",
       "      <td>1</td>\n",
       "      <td>PRIMARIO OBRIGATORIO</td>\n",
       "      <td>A</td>\n",
       "      <td>INICIAL (LOA)</td>\n",
       "      <td>0006</td>\n",
       "      <td>000000000000</td>\n",
       "      <td>SEM EMENDA</td>\n",
       "      <td>ESCOLA DE SARGENTOS DAS ARMAS - AV. SETE DE SE...</td>\n",
       "      <td>52121</td>\n",
       "      <td>COMANDO DO EXERCITO</td>\n",
       "      <td>E6SU</td>\n",
       "      <td>PLJ</td>\n",
       "      <td>A5PA</td>\n",
       "      <td>0.00</td>\n",
       "      <td>0.00</td>\n",
       "      <td>0.00</td>\n",
       "      <td>8064.40</td>\n",
       "    </tr>\n",
       "    <tr>\n",
       "      <th>224</th>\n",
       "      <td>160129</td>\n",
       "      <td>ESA</td>\n",
       "      <td>160533</td>\n",
       "      <td>4º CGCFEX</td>\n",
       "      <td>CML</td>\n",
       "      <td>4ª RM</td>\n",
       "      <td>Três Corações</td>\n",
       "      <td>0032</td>\n",
       "      <td>212B</td>\n",
       "      <td>BENEFICIOS OBRIGATORIOS AOS SERVIDORE</td>\n",
       "      <td>160504</td>\n",
       "      <td>COEX/GESTOR</td>\n",
       "      <td>171397</td>\n",
       "      <td>E6SUPLJA5PA</td>\n",
       "      <td>A5PA - PASA</td>\n",
       "      <td>339030</td>\n",
       "      <td>MATERIAL DE CONSUMO</td>\n",
       "      <td>33903019</td>\n",
       "      <td>MATERIAL DE ACONDICIONAMENTO E EMBALAGEM</td>\n",
       "      <td>2024NE000166</td>\n",
       "      <td>2024</td>\n",
       "      <td>2024-02-27</td>\n",
       "      <td>160129000012024NE000166</td>\n",
       "      <td>21348054000112</td>\n",
       "      <td>ROMA COMERCIAL LTDA</td>\n",
       "      <td>PR</td>\n",
       "      <td>ANO</td>\n",
       "      <td>129</td>\n",
       "      <td>MG</td>\n",
       "      <td>1000000000</td>\n",
       "      <td>PREGAO</td>\n",
       "      <td>ORDINARIO</td>\n",
       "      <td>1</td>\n",
       "      <td>PRIMARIO OBRIGATORIO</td>\n",
       "      <td>A</td>\n",
       "      <td>INICIAL (LOA)</td>\n",
       "      <td>0006</td>\n",
       "      <td>000000000000</td>\n",
       "      <td>SEM EMENDA</td>\n",
       "      <td>ESCOLA DE SARGENTOS DAS ARMAS</td>\n",
       "      <td>52121</td>\n",
       "      <td>COMANDO DO EXERCITO</td>\n",
       "      <td>E6SU</td>\n",
       "      <td>PLJ</td>\n",
       "      <td>A5PA</td>\n",
       "      <td>0.00</td>\n",
       "      <td>0.00</td>\n",
       "      <td>0.00</td>\n",
       "      <td>5460.00</td>\n",
       "    </tr>\n",
       "    <tr>\n",
       "      <th>225</th>\n",
       "      <td>160129</td>\n",
       "      <td>ESA</td>\n",
       "      <td>160533</td>\n",
       "      <td>4º CGCFEX</td>\n",
       "      <td>CML</td>\n",
       "      <td>4ª RM</td>\n",
       "      <td>Três Corações</td>\n",
       "      <td>0032</td>\n",
       "      <td>212B</td>\n",
       "      <td>BENEFICIOS OBRIGATORIOS AOS SERVIDORE</td>\n",
       "      <td>160504</td>\n",
       "      <td>COEX/GESTOR</td>\n",
       "      <td>171397</td>\n",
       "      <td>E6SUPLJA5PA</td>\n",
       "      <td>A5PA - PASA</td>\n",
       "      <td>339030</td>\n",
       "      <td>MATERIAL DE CONSUMO</td>\n",
       "      <td>33903019</td>\n",
       "      <td>MATERIAL DE ACONDICIONAMENTO E EMBALAGEM</td>\n",
       "      <td>2024NE000168</td>\n",
       "      <td>2024</td>\n",
       "      <td>2024-02-27</td>\n",
       "      <td>160129000012024NE000168</td>\n",
       "      <td>16914559000167</td>\n",
       "      <td>G PLASTICOS COMERCIO VAREJISTA E ATACADISTA DE...</td>\n",
       "      <td>RS</td>\n",
       "      <td>ANO</td>\n",
       "      <td>129</td>\n",
       "      <td>MG</td>\n",
       "      <td>1000000000</td>\n",
       "      <td>PREGAO</td>\n",
       "      <td>ORDINARIO</td>\n",
       "      <td>1</td>\n",
       "      <td>PRIMARIO OBRIGATORIO</td>\n",
       "      <td>A</td>\n",
       "      <td>INICIAL (LOA)</td>\n",
       "      <td>0006</td>\n",
       "      <td>000000000000</td>\n",
       "      <td>SEM EMENDA</td>\n",
       "      <td>ESCOLA DE SARGENTOS DAS ARMAS</td>\n",
       "      <td>52121</td>\n",
       "      <td>COMANDO DO EXERCITO</td>\n",
       "      <td>E6SU</td>\n",
       "      <td>PLJ</td>\n",
       "      <td>A5PA</td>\n",
       "      <td>0.00</td>\n",
       "      <td>0.00</td>\n",
       "      <td>0.00</td>\n",
       "      <td>6187.00</td>\n",
       "    </tr>\n",
       "    <tr>\n",
       "      <th>226</th>\n",
       "      <td>160129</td>\n",
       "      <td>ESA</td>\n",
       "      <td>160533</td>\n",
       "      <td>4º CGCFEX</td>\n",
       "      <td>CML</td>\n",
       "      <td>4ª RM</td>\n",
       "      <td>Três Corações</td>\n",
       "      <td>0032</td>\n",
       "      <td>212B</td>\n",
       "      <td>BENEFICIOS OBRIGATORIOS AOS SERVIDORE</td>\n",
       "      <td>160504</td>\n",
       "      <td>COEX/GESTOR</td>\n",
       "      <td>171397</td>\n",
       "      <td>E6SUPLJA5PA</td>\n",
       "      <td>A5PA - PASA</td>\n",
       "      <td>339030</td>\n",
       "      <td>MATERIAL DE CONSUMO</td>\n",
       "      <td>33903019</td>\n",
       "      <td>MATERIAL DE ACONDICIONAMENTO E EMBALAGEM</td>\n",
       "      <td>2024NE000516</td>\n",
       "      <td>2024</td>\n",
       "      <td>2024-05-24</td>\n",
       "      <td>160129000012024NE000516</td>\n",
       "      <td>01255291000121</td>\n",
       "      <td>H.A DISTRIBUIDORA LTDA</td>\n",
       "      <td>MG</td>\n",
       "      <td>ANO</td>\n",
       "      <td>42</td>\n",
       "      <td>MG</td>\n",
       "      <td>1000000000</td>\n",
       "      <td>PREGAO</td>\n",
       "      <td>ORDINARIO</td>\n",
       "      <td>1</td>\n",
       "      <td>PRIMARIO OBRIGATORIO</td>\n",
       "      <td>A</td>\n",
       "      <td>INICIAL (LOA)</td>\n",
       "      <td>0006</td>\n",
       "      <td>000000000000</td>\n",
       "      <td>SEM EMENDA</td>\n",
       "      <td>ESCOLA DE SARGENTOS DAS ARMAS - AV. SETE DE SE...</td>\n",
       "      <td>52121</td>\n",
       "      <td>COMANDO DO EXERCITO</td>\n",
       "      <td>E6SU</td>\n",
       "      <td>PLJ</td>\n",
       "      <td>A5PA</td>\n",
       "      <td>387.60</td>\n",
       "      <td>0.00</td>\n",
       "      <td>387.60</td>\n",
       "      <td>0.00</td>\n",
       "    </tr>\n",
       "    <tr>\n",
       "      <th>227</th>\n",
       "      <td>160129</td>\n",
       "      <td>ESA</td>\n",
       "      <td>160533</td>\n",
       "      <td>4º CGCFEX</td>\n",
       "      <td>CML</td>\n",
       "      <td>4ª RM</td>\n",
       "      <td>Três Corações</td>\n",
       "      <td>0032</td>\n",
       "      <td>212B</td>\n",
       "      <td>BENEFICIOS OBRIGATORIOS AOS SERVIDORE</td>\n",
       "      <td>160504</td>\n",
       "      <td>COEX/GESTOR</td>\n",
       "      <td>171397</td>\n",
       "      <td>E6SUPLJA5PA</td>\n",
       "      <td>A5PA - PASA</td>\n",
       "      <td>339030</td>\n",
       "      <td>MATERIAL DE CONSUMO</td>\n",
       "      <td>33903021</td>\n",
       "      <td>MATERIAL DE COPA E COZINHA</td>\n",
       "      <td>2023NE002719</td>\n",
       "      <td>2023</td>\n",
       "      <td>2023-12-20</td>\n",
       "      <td>160129000012023NE002719</td>\n",
       "      <td>06910908000119</td>\n",
       "      <td>J BRILHANTE COMERCIAL LTDA</td>\n",
       "      <td>SP</td>\n",
       "      <td>RPNP</td>\n",
       "      <td>198</td>\n",
       "      <td>MG</td>\n",
       "      <td>1000000000</td>\n",
       "      <td>PREGAO</td>\n",
       "      <td>ORDINARIO</td>\n",
       "      <td>1</td>\n",
       "      <td>PRIMARIO OBRIGATORIO</td>\n",
       "      <td>A</td>\n",
       "      <td>INICIAL (LOA)</td>\n",
       "      <td>0006</td>\n",
       "      <td>000000000000</td>\n",
       "      <td>SEM EMENDA</td>\n",
       "      <td>ESCOLA DE SARGENTOS DAS ARMAS  - AVENIDA SETE ...</td>\n",
       "      <td>52121</td>\n",
       "      <td>COMANDO DO EXERCITO</td>\n",
       "      <td>E6SU</td>\n",
       "      <td>PLJ</td>\n",
       "      <td>A5PA</td>\n",
       "      <td>0.00</td>\n",
       "      <td>0.00</td>\n",
       "      <td>0.00</td>\n",
       "      <td>24.00</td>\n",
       "    </tr>\n",
       "    <tr>\n",
       "      <th>228</th>\n",
       "      <td>160129</td>\n",
       "      <td>ESA</td>\n",
       "      <td>160533</td>\n",
       "      <td>4º CGCFEX</td>\n",
       "      <td>CML</td>\n",
       "      <td>4ª RM</td>\n",
       "      <td>Três Corações</td>\n",
       "      <td>0032</td>\n",
       "      <td>212B</td>\n",
       "      <td>BENEFICIOS OBRIGATORIOS AOS SERVIDORE</td>\n",
       "      <td>160504</td>\n",
       "      <td>COEX/GESTOR</td>\n",
       "      <td>171397</td>\n",
       "      <td>E6SUPLJA5PA</td>\n",
       "      <td>A5PA - PASA</td>\n",
       "      <td>339030</td>\n",
       "      <td>MATERIAL DE CONSUMO</td>\n",
       "      <td>33903021</td>\n",
       "      <td>MATERIAL DE COPA E COZINHA</td>\n",
       "      <td>2023NE002720</td>\n",
       "      <td>2023</td>\n",
       "      <td>2023-12-20</td>\n",
       "      <td>160129000012023NE002720</td>\n",
       "      <td>15407876000124</td>\n",
       "      <td>ALEXANDRE H M CHAMONE COMERCIO</td>\n",
       "      <td>MG</td>\n",
       "      <td>RPNP</td>\n",
       "      <td>198</td>\n",
       "      <td>MG</td>\n",
       "      <td>1000000000</td>\n",
       "      <td>PREGAO</td>\n",
       "      <td>ORDINARIO</td>\n",
       "      <td>1</td>\n",
       "      <td>PRIMARIO OBRIGATORIO</td>\n",
       "      <td>A</td>\n",
       "      <td>INICIAL (LOA)</td>\n",
       "      <td>0006</td>\n",
       "      <td>000000000000</td>\n",
       "      <td>SEM EMENDA</td>\n",
       "      <td>ESCOLA DE SARGENTOS DAS ARMAS  - AVENIDA SETE ...</td>\n",
       "      <td>52121</td>\n",
       "      <td>COMANDO DO EXERCITO</td>\n",
       "      <td>E6SU</td>\n",
       "      <td>PLJ</td>\n",
       "      <td>A5PA</td>\n",
       "      <td>0.00</td>\n",
       "      <td>0.00</td>\n",
       "      <td>0.00</td>\n",
       "      <td>1908.00</td>\n",
       "    </tr>\n",
       "    <tr>\n",
       "      <th>229</th>\n",
       "      <td>160129</td>\n",
       "      <td>ESA</td>\n",
       "      <td>160533</td>\n",
       "      <td>4º CGCFEX</td>\n",
       "      <td>CML</td>\n",
       "      <td>4ª RM</td>\n",
       "      <td>Três Corações</td>\n",
       "      <td>0032</td>\n",
       "      <td>212B</td>\n",
       "      <td>BENEFICIOS OBRIGATORIOS AOS SERVIDORE</td>\n",
       "      <td>160504</td>\n",
       "      <td>COEX/GESTOR</td>\n",
       "      <td>171397</td>\n",
       "      <td>E6SUPLJA5PA</td>\n",
       "      <td>A5PA - PASA</td>\n",
       "      <td>339030</td>\n",
       "      <td>MATERIAL DE CONSUMO</td>\n",
       "      <td>33903021</td>\n",
       "      <td>MATERIAL DE COPA E COZINHA</td>\n",
       "      <td>2023NE002721</td>\n",
       "      <td>2023</td>\n",
       "      <td>2023-12-20</td>\n",
       "      <td>160129000012023NE002721</td>\n",
       "      <td>65353401000170</td>\n",
       "      <td>COMERCIAL VENER LTDA</td>\n",
       "      <td>MG</td>\n",
       "      <td>RPNP</td>\n",
       "      <td>198</td>\n",
       "      <td>MG</td>\n",
       "      <td>1000000000</td>\n",
       "      <td>PREGAO</td>\n",
       "      <td>ORDINARIO</td>\n",
       "      <td>1</td>\n",
       "      <td>PRIMARIO OBRIGATORIO</td>\n",
       "      <td>A</td>\n",
       "      <td>INICIAL (LOA)</td>\n",
       "      <td>0006</td>\n",
       "      <td>000000000000</td>\n",
       "      <td>SEM EMENDA</td>\n",
       "      <td>ESCOLA DE SARGENTOS DAS ARMAS  - AVENIDA SETE ...</td>\n",
       "      <td>52121</td>\n",
       "      <td>COMANDO DO EXERCITO</td>\n",
       "      <td>E6SU</td>\n",
       "      <td>PLJ</td>\n",
       "      <td>A5PA</td>\n",
       "      <td>0.00</td>\n",
       "      <td>0.00</td>\n",
       "      <td>0.00</td>\n",
       "      <td>1111.00</td>\n",
       "    </tr>\n",
       "    <tr>\n",
       "      <th>230</th>\n",
       "      <td>160129</td>\n",
       "      <td>ESA</td>\n",
       "      <td>160533</td>\n",
       "      <td>4º CGCFEX</td>\n",
       "      <td>CML</td>\n",
       "      <td>4ª RM</td>\n",
       "      <td>Três Corações</td>\n",
       "      <td>0032</td>\n",
       "      <td>212B</td>\n",
       "      <td>BENEFICIOS OBRIGATORIOS AOS SERVIDORE</td>\n",
       "      <td>160504</td>\n",
       "      <td>COEX/GESTOR</td>\n",
       "      <td>171397</td>\n",
       "      <td>E6SUPLJA5PA</td>\n",
       "      <td>A5PA - PASA</td>\n",
       "      <td>339030</td>\n",
       "      <td>MATERIAL DE CONSUMO</td>\n",
       "      <td>33903021</td>\n",
       "      <td>MATERIAL DE COPA E COZINHA</td>\n",
       "      <td>2024NE000152</td>\n",
       "      <td>2024</td>\n",
       "      <td>2024-02-27</td>\n",
       "      <td>160129000012024NE000152</td>\n",
       "      <td>11186469000183</td>\n",
       "      <td>SANTANA WERNECK COMERCIAL LTDA</td>\n",
       "      <td>MG</td>\n",
       "      <td>ANO</td>\n",
       "      <td>129</td>\n",
       "      <td>MG</td>\n",
       "      <td>1000000000</td>\n",
       "      <td>PREGAO</td>\n",
       "      <td>ORDINARIO</td>\n",
       "      <td>1</td>\n",
       "      <td>PRIMARIO OBRIGATORIO</td>\n",
       "      <td>A</td>\n",
       "      <td>INICIAL (LOA)</td>\n",
       "      <td>0006</td>\n",
       "      <td>000000000000</td>\n",
       "      <td>SEM EMENDA</td>\n",
       "      <td>ESCOLA DE SARGENTOS DAS ARMAS - AV. SETE DE SE...</td>\n",
       "      <td>52121</td>\n",
       "      <td>COMANDO DO EXERCITO</td>\n",
       "      <td>E6SU</td>\n",
       "      <td>PLJ</td>\n",
       "      <td>A5PA</td>\n",
       "      <td>0.00</td>\n",
       "      <td>0.00</td>\n",
       "      <td>0.00</td>\n",
       "      <td>16915.00</td>\n",
       "    </tr>\n",
       "    <tr>\n",
       "      <th>231</th>\n",
       "      <td>160129</td>\n",
       "      <td>ESA</td>\n",
       "      <td>160533</td>\n",
       "      <td>4º CGCFEX</td>\n",
       "      <td>CML</td>\n",
       "      <td>4ª RM</td>\n",
       "      <td>Três Corações</td>\n",
       "      <td>0032</td>\n",
       "      <td>212B</td>\n",
       "      <td>BENEFICIOS OBRIGATORIOS AOS SERVIDORE</td>\n",
       "      <td>160504</td>\n",
       "      <td>COEX/GESTOR</td>\n",
       "      <td>171397</td>\n",
       "      <td>E6SUPLJA5PA</td>\n",
       "      <td>A5PA - PASA</td>\n",
       "      <td>339030</td>\n",
       "      <td>MATERIAL DE CONSUMO</td>\n",
       "      <td>33903021</td>\n",
       "      <td>MATERIAL DE COPA E COZINHA</td>\n",
       "      <td>2024NE000153</td>\n",
       "      <td>2024</td>\n",
       "      <td>2024-02-27</td>\n",
       "      <td>160129000012024NE000153</td>\n",
       "      <td>07665456000110</td>\n",
       "      <td>SANTANA COMERCIO DE UTILIDADES DOMESTICAS LTDA</td>\n",
       "      <td>MG</td>\n",
       "      <td>ANO</td>\n",
       "      <td>129</td>\n",
       "      <td>MG</td>\n",
       "      <td>1000000000</td>\n",
       "      <td>PREGAO</td>\n",
       "      <td>ORDINARIO</td>\n",
       "      <td>1</td>\n",
       "      <td>PRIMARIO OBRIGATORIO</td>\n",
       "      <td>A</td>\n",
       "      <td>INICIAL (LOA)</td>\n",
       "      <td>0006</td>\n",
       "      <td>000000000000</td>\n",
       "      <td>SEM EMENDA</td>\n",
       "      <td>ESCOLA DE SARGENTOS DAS ARMAS - AV. SETE DE SE...</td>\n",
       "      <td>52121</td>\n",
       "      <td>COMANDO DO EXERCITO</td>\n",
       "      <td>E6SU</td>\n",
       "      <td>PLJ</td>\n",
       "      <td>A5PA</td>\n",
       "      <td>0.00</td>\n",
       "      <td>0.00</td>\n",
       "      <td>0.00</td>\n",
       "      <td>4735.90</td>\n",
       "    </tr>\n",
       "    <tr>\n",
       "      <th>232</th>\n",
       "      <td>160129</td>\n",
       "      <td>ESA</td>\n",
       "      <td>160533</td>\n",
       "      <td>4º CGCFEX</td>\n",
       "      <td>CML</td>\n",
       "      <td>4ª RM</td>\n",
       "      <td>Três Corações</td>\n",
       "      <td>0032</td>\n",
       "      <td>212B</td>\n",
       "      <td>BENEFICIOS OBRIGATORIOS AOS SERVIDORE</td>\n",
       "      <td>160504</td>\n",
       "      <td>COEX/GESTOR</td>\n",
       "      <td>171397</td>\n",
       "      <td>E6SUPLJA5PA</td>\n",
       "      <td>A5PA - PASA</td>\n",
       "      <td>339030</td>\n",
       "      <td>MATERIAL DE CONSUMO</td>\n",
       "      <td>33903021</td>\n",
       "      <td>MATERIAL DE COPA E COZINHA</td>\n",
       "      <td>2024NE000154</td>\n",
       "      <td>2024</td>\n",
       "      <td>2024-02-27</td>\n",
       "      <td>160129000012024NE000154</td>\n",
       "      <td>31206933000163</td>\n",
       "      <td>INOVARE GOURMET LTDA</td>\n",
       "      <td>RJ</td>\n",
       "      <td>ANO</td>\n",
       "      <td>129</td>\n",
       "      <td>MG</td>\n",
       "      <td>1000000000</td>\n",
       "      <td>PREGAO</td>\n",
       "      <td>ORDINARIO</td>\n",
       "      <td>1</td>\n",
       "      <td>PRIMARIO OBRIGATORIO</td>\n",
       "      <td>A</td>\n",
       "      <td>INICIAL (LOA)</td>\n",
       "      <td>0006</td>\n",
       "      <td>000000000000</td>\n",
       "      <td>SEM EMENDA</td>\n",
       "      <td>ESCOLA DE SARGENTOS DAS ARMAS - AV. SETE DE SE...</td>\n",
       "      <td>52121</td>\n",
       "      <td>COMANDO DO EXERCITO</td>\n",
       "      <td>E6SU</td>\n",
       "      <td>PLJ</td>\n",
       "      <td>A5PA</td>\n",
       "      <td>0.00</td>\n",
       "      <td>0.00</td>\n",
       "      <td>0.00</td>\n",
       "      <td>1876.67</td>\n",
       "    </tr>\n",
       "    <tr>\n",
       "      <th>233</th>\n",
       "      <td>160129</td>\n",
       "      <td>ESA</td>\n",
       "      <td>160533</td>\n",
       "      <td>4º CGCFEX</td>\n",
       "      <td>CML</td>\n",
       "      <td>4ª RM</td>\n",
       "      <td>Três Corações</td>\n",
       "      <td>0032</td>\n",
       "      <td>212B</td>\n",
       "      <td>BENEFICIOS OBRIGATORIOS AOS SERVIDORE</td>\n",
       "      <td>160504</td>\n",
       "      <td>COEX/GESTOR</td>\n",
       "      <td>171397</td>\n",
       "      <td>E6SUPLJA5PA</td>\n",
       "      <td>A5PA - PASA</td>\n",
       "      <td>339030</td>\n",
       "      <td>MATERIAL DE CONSUMO</td>\n",
       "      <td>33903021</td>\n",
       "      <td>MATERIAL DE COPA E COZINHA</td>\n",
       "      <td>2024NE000155</td>\n",
       "      <td>2024</td>\n",
       "      <td>2024-02-27</td>\n",
       "      <td>160129000012024NE000155</td>\n",
       "      <td>06910908000119</td>\n",
       "      <td>J BRILHANTE COMERCIAL LTDA</td>\n",
       "      <td>SP</td>\n",
       "      <td>ANO</td>\n",
       "      <td>129</td>\n",
       "      <td>MG</td>\n",
       "      <td>1000000000</td>\n",
       "      <td>PREGAO</td>\n",
       "      <td>ORDINARIO</td>\n",
       "      <td>1</td>\n",
       "      <td>PRIMARIO OBRIGATORIO</td>\n",
       "      <td>A</td>\n",
       "      <td>INICIAL (LOA)</td>\n",
       "      <td>0006</td>\n",
       "      <td>000000000000</td>\n",
       "      <td>SEM EMENDA</td>\n",
       "      <td>ESCOLA DE SARGENTOS DAS ARMAS</td>\n",
       "      <td>52121</td>\n",
       "      <td>COMANDO DO EXERCITO</td>\n",
       "      <td>E6SU</td>\n",
       "      <td>PLJ</td>\n",
       "      <td>A5PA</td>\n",
       "      <td>0.00</td>\n",
       "      <td>0.00</td>\n",
       "      <td>0.00</td>\n",
       "      <td>600.00</td>\n",
       "    </tr>\n",
       "    <tr>\n",
       "      <th>234</th>\n",
       "      <td>160129</td>\n",
       "      <td>ESA</td>\n",
       "      <td>160533</td>\n",
       "      <td>4º CGCFEX</td>\n",
       "      <td>CML</td>\n",
       "      <td>4ª RM</td>\n",
       "      <td>Três Corações</td>\n",
       "      <td>0032</td>\n",
       "      <td>212B</td>\n",
       "      <td>BENEFICIOS OBRIGATORIOS AOS SERVIDORE</td>\n",
       "      <td>160504</td>\n",
       "      <td>COEX/GESTOR</td>\n",
       "      <td>171397</td>\n",
       "      <td>E6SUPLJA5PA</td>\n",
       "      <td>A5PA - PASA</td>\n",
       "      <td>339030</td>\n",
       "      <td>MATERIAL DE CONSUMO</td>\n",
       "      <td>33903021</td>\n",
       "      <td>MATERIAL DE COPA E COZINHA</td>\n",
       "      <td>2024NE000157</td>\n",
       "      <td>2024</td>\n",
       "      <td>2024-02-27</td>\n",
       "      <td>160129000012024NE000157</td>\n",
       "      <td>65353401000170</td>\n",
       "      <td>COMERCIAL VENER LTDA</td>\n",
       "      <td>MG</td>\n",
       "      <td>ANO</td>\n",
       "      <td>129</td>\n",
       "      <td>MG</td>\n",
       "      <td>1000000000</td>\n",
       "      <td>PREGAO</td>\n",
       "      <td>ORDINARIO</td>\n",
       "      <td>1</td>\n",
       "      <td>PRIMARIO OBRIGATORIO</td>\n",
       "      <td>A</td>\n",
       "      <td>INICIAL (LOA)</td>\n",
       "      <td>0006</td>\n",
       "      <td>000000000000</td>\n",
       "      <td>SEM EMENDA</td>\n",
       "      <td>ESCOLA DE SARGENTOS DAS ARMAS - AV. SETE DE SE...</td>\n",
       "      <td>52121</td>\n",
       "      <td>COMANDO DO EXERCITO</td>\n",
       "      <td>E6SU</td>\n",
       "      <td>PLJ</td>\n",
       "      <td>A5PA</td>\n",
       "      <td>0.00</td>\n",
       "      <td>590.85</td>\n",
       "      <td>590.85</td>\n",
       "      <td>9509.15</td>\n",
       "    </tr>\n",
       "    <tr>\n",
       "      <th>235</th>\n",
       "      <td>160129</td>\n",
       "      <td>ESA</td>\n",
       "      <td>160533</td>\n",
       "      <td>4º CGCFEX</td>\n",
       "      <td>CML</td>\n",
       "      <td>4ª RM</td>\n",
       "      <td>Três Corações</td>\n",
       "      <td>0032</td>\n",
       "      <td>212B</td>\n",
       "      <td>BENEFICIOS OBRIGATORIOS AOS SERVIDORE</td>\n",
       "      <td>160504</td>\n",
       "      <td>COEX/GESTOR</td>\n",
       "      <td>171397</td>\n",
       "      <td>E6SUPLJA5PA</td>\n",
       "      <td>A5PA - PASA</td>\n",
       "      <td>339030</td>\n",
       "      <td>MATERIAL DE CONSUMO</td>\n",
       "      <td>33903021</td>\n",
       "      <td>MATERIAL DE COPA E COZINHA</td>\n",
       "      <td>2024NE000159</td>\n",
       "      <td>2024</td>\n",
       "      <td>2024-02-27</td>\n",
       "      <td>160129000012024NE000159</td>\n",
       "      <td>10614788000180</td>\n",
       "      <td>SJ COMERCIO DE UTILIDADES LTDA</td>\n",
       "      <td>MG</td>\n",
       "      <td>ANO</td>\n",
       "      <td>129</td>\n",
       "      <td>MG</td>\n",
       "      <td>1000000000</td>\n",
       "      <td>PREGAO</td>\n",
       "      <td>GLOBAL</td>\n",
       "      <td>1</td>\n",
       "      <td>PRIMARIO OBRIGATORIO</td>\n",
       "      <td>A</td>\n",
       "      <td>INICIAL (LOA)</td>\n",
       "      <td>0006</td>\n",
       "      <td>000000000000</td>\n",
       "      <td>SEM EMENDA</td>\n",
       "      <td>ESCOLA DE SARGENTOS DAS ARMAS - AV. SETE DE SE...</td>\n",
       "      <td>52121</td>\n",
       "      <td>COMANDO DO EXERCITO</td>\n",
       "      <td>E6SU</td>\n",
       "      <td>PLJ</td>\n",
       "      <td>A5PA</td>\n",
       "      <td>0.00</td>\n",
       "      <td>0.00</td>\n",
       "      <td>0.00</td>\n",
       "      <td>1921.00</td>\n",
       "    </tr>\n",
       "    <tr>\n",
       "      <th>236</th>\n",
       "      <td>160129</td>\n",
       "      <td>ESA</td>\n",
       "      <td>160533</td>\n",
       "      <td>4º CGCFEX</td>\n",
       "      <td>CML</td>\n",
       "      <td>4ª RM</td>\n",
       "      <td>Três Corações</td>\n",
       "      <td>0032</td>\n",
       "      <td>212B</td>\n",
       "      <td>BENEFICIOS OBRIGATORIOS AOS SERVIDORE</td>\n",
       "      <td>160504</td>\n",
       "      <td>COEX/GESTOR</td>\n",
       "      <td>171397</td>\n",
       "      <td>E6SUPLJA5PA</td>\n",
       "      <td>A5PA - PASA</td>\n",
       "      <td>339030</td>\n",
       "      <td>MATERIAL DE CONSUMO</td>\n",
       "      <td>33903021</td>\n",
       "      <td>MATERIAL DE COPA E COZINHA</td>\n",
       "      <td>2024NE000160</td>\n",
       "      <td>2024</td>\n",
       "      <td>2024-02-27</td>\n",
       "      <td>160129000012024NE000160</td>\n",
       "      <td>47170510000170</td>\n",
       "      <td>NOVA MESA COMERCIO DE UTILIDADES E ALIMENTOS LTDA</td>\n",
       "      <td>CE</td>\n",
       "      <td>ANO</td>\n",
       "      <td>129</td>\n",
       "      <td>MG</td>\n",
       "      <td>1000000000</td>\n",
       "      <td>PREGAO</td>\n",
       "      <td>GLOBAL</td>\n",
       "      <td>1</td>\n",
       "      <td>PRIMARIO OBRIGATORIO</td>\n",
       "      <td>A</td>\n",
       "      <td>INICIAL (LOA)</td>\n",
       "      <td>0006</td>\n",
       "      <td>000000000000</td>\n",
       "      <td>SEM EMENDA</td>\n",
       "      <td>ESCOLA DE SARGENTOS DAS ARMAS - AV. SETE DE SE...</td>\n",
       "      <td>52121</td>\n",
       "      <td>COMANDO DO EXERCITO</td>\n",
       "      <td>E6SU</td>\n",
       "      <td>PLJ</td>\n",
       "      <td>A5PA</td>\n",
       "      <td>0.00</td>\n",
       "      <td>189.60</td>\n",
       "      <td>189.60</td>\n",
       "      <td>3051.40</td>\n",
       "    </tr>\n",
       "    <tr>\n",
       "      <th>237</th>\n",
       "      <td>160129</td>\n",
       "      <td>ESA</td>\n",
       "      <td>160533</td>\n",
       "      <td>4º CGCFEX</td>\n",
       "      <td>CML</td>\n",
       "      <td>4ª RM</td>\n",
       "      <td>Três Corações</td>\n",
       "      <td>0032</td>\n",
       "      <td>212B</td>\n",
       "      <td>BENEFICIOS OBRIGATORIOS AOS SERVIDORE</td>\n",
       "      <td>160504</td>\n",
       "      <td>COEX/GESTOR</td>\n",
       "      <td>171397</td>\n",
       "      <td>E6SUPLJA5PA</td>\n",
       "      <td>A5PA - PASA</td>\n",
       "      <td>339030</td>\n",
       "      <td>MATERIAL DE CONSUMO</td>\n",
       "      <td>33903021</td>\n",
       "      <td>MATERIAL DE COPA E COZINHA</td>\n",
       "      <td>2024NE000161</td>\n",
       "      <td>2024</td>\n",
       "      <td>2024-02-27</td>\n",
       "      <td>160129000012024NE000161</td>\n",
       "      <td>35411786000114</td>\n",
       "      <td>CASA DE PESCA SOLIMOES LTDA</td>\n",
       "      <td>MG</td>\n",
       "      <td>ANO</td>\n",
       "      <td>129</td>\n",
       "      <td>MG</td>\n",
       "      <td>1000000000</td>\n",
       "      <td>PREGAO</td>\n",
       "      <td>ORDINARIO</td>\n",
       "      <td>1</td>\n",
       "      <td>PRIMARIO OBRIGATORIO</td>\n",
       "      <td>A</td>\n",
       "      <td>INICIAL (LOA)</td>\n",
       "      <td>0006</td>\n",
       "      <td>000000000000</td>\n",
       "      <td>SEM EMENDA</td>\n",
       "      <td>ESCOLA DE SARGENTOS DAS ARMAS - AV. SETE DE SE...</td>\n",
       "      <td>52121</td>\n",
       "      <td>COMANDO DO EXERCITO</td>\n",
       "      <td>E6SU</td>\n",
       "      <td>PLJ</td>\n",
       "      <td>A5PA</td>\n",
       "      <td>0.00</td>\n",
       "      <td>0.00</td>\n",
       "      <td>0.00</td>\n",
       "      <td>5070.00</td>\n",
       "    </tr>\n",
       "    <tr>\n",
       "      <th>238</th>\n",
       "      <td>160129</td>\n",
       "      <td>ESA</td>\n",
       "      <td>160533</td>\n",
       "      <td>4º CGCFEX</td>\n",
       "      <td>CML</td>\n",
       "      <td>4ª RM</td>\n",
       "      <td>Três Corações</td>\n",
       "      <td>0032</td>\n",
       "      <td>212B</td>\n",
       "      <td>BENEFICIOS OBRIGATORIOS AOS SERVIDORE</td>\n",
       "      <td>160504</td>\n",
       "      <td>COEX/GESTOR</td>\n",
       "      <td>171397</td>\n",
       "      <td>E6SUPLJA5PA</td>\n",
       "      <td>A5PA - PASA</td>\n",
       "      <td>339030</td>\n",
       "      <td>MATERIAL DE CONSUMO</td>\n",
       "      <td>33903021</td>\n",
       "      <td>MATERIAL DE COPA E COZINHA</td>\n",
       "      <td>2024NE000162</td>\n",
       "      <td>2024</td>\n",
       "      <td>2024-02-27</td>\n",
       "      <td>160129000012024NE000162</td>\n",
       "      <td>15407876000124</td>\n",
       "      <td>ALEXANDRE H M CHAMONE COMERCIO</td>\n",
       "      <td>MG</td>\n",
       "      <td>ANO</td>\n",
       "      <td>129</td>\n",
       "      <td>MG</td>\n",
       "      <td>1000000000</td>\n",
       "      <td>PREGAO</td>\n",
       "      <td>ORDINARIO</td>\n",
       "      <td>1</td>\n",
       "      <td>PRIMARIO OBRIGATORIO</td>\n",
       "      <td>A</td>\n",
       "      <td>INICIAL (LOA)</td>\n",
       "      <td>0006</td>\n",
       "      <td>000000000000</td>\n",
       "      <td>SEM EMENDA</td>\n",
       "      <td>ESCOLA DE SARGENTOS DAS ARMAS</td>\n",
       "      <td>52121</td>\n",
       "      <td>COMANDO DO EXERCITO</td>\n",
       "      <td>E6SU</td>\n",
       "      <td>PLJ</td>\n",
       "      <td>A5PA</td>\n",
       "      <td>0.00</td>\n",
       "      <td>325.55</td>\n",
       "      <td>325.55</td>\n",
       "      <td>5239.45</td>\n",
       "    </tr>\n",
       "    <tr>\n",
       "      <th>239</th>\n",
       "      <td>160129</td>\n",
       "      <td>ESA</td>\n",
       "      <td>160533</td>\n",
       "      <td>4º CGCFEX</td>\n",
       "      <td>CML</td>\n",
       "      <td>4ª RM</td>\n",
       "      <td>Três Corações</td>\n",
       "      <td>0032</td>\n",
       "      <td>212B</td>\n",
       "      <td>BENEFICIOS OBRIGATORIOS AOS SERVIDORE</td>\n",
       "      <td>160504</td>\n",
       "      <td>COEX/GESTOR</td>\n",
       "      <td>171397</td>\n",
       "      <td>E6SUPLJA5PA</td>\n",
       "      <td>A5PA - PASA</td>\n",
       "      <td>339030</td>\n",
       "      <td>MATERIAL DE CONSUMO</td>\n",
       "      <td>33903021</td>\n",
       "      <td>MATERIAL DE COPA E COZINHA</td>\n",
       "      <td>2024NE000163</td>\n",
       "      <td>2024</td>\n",
       "      <td>2024-02-27</td>\n",
       "      <td>160129000012024NE000163</td>\n",
       "      <td>48371796000115</td>\n",
       "      <td>P H MENESES COMERCIO LTDA</td>\n",
       "      <td>GO</td>\n",
       "      <td>ANO</td>\n",
       "      <td>129</td>\n",
       "      <td>MG</td>\n",
       "      <td>1000000000</td>\n",
       "      <td>PREGAO</td>\n",
       "      <td>ORDINARIO</td>\n",
       "      <td>1</td>\n",
       "      <td>PRIMARIO OBRIGATORIO</td>\n",
       "      <td>A</td>\n",
       "      <td>INICIAL (LOA)</td>\n",
       "      <td>0006</td>\n",
       "      <td>000000000000</td>\n",
       "      <td>SEM EMENDA</td>\n",
       "      <td>ESCOLA DE SARGENTOS DAS ARMAS - AV. SETE DE SE...</td>\n",
       "      <td>52121</td>\n",
       "      <td>COMANDO DO EXERCITO</td>\n",
       "      <td>E6SU</td>\n",
       "      <td>PLJ</td>\n",
       "      <td>A5PA</td>\n",
       "      <td>0.00</td>\n",
       "      <td>0.00</td>\n",
       "      <td>0.00</td>\n",
       "      <td>1360.00</td>\n",
       "    </tr>\n",
       "    <tr>\n",
       "      <th>240</th>\n",
       "      <td>160129</td>\n",
       "      <td>ESA</td>\n",
       "      <td>160533</td>\n",
       "      <td>4º CGCFEX</td>\n",
       "      <td>CML</td>\n",
       "      <td>4ª RM</td>\n",
       "      <td>Três Corações</td>\n",
       "      <td>0032</td>\n",
       "      <td>212B</td>\n",
       "      <td>BENEFICIOS OBRIGATORIOS AOS SERVIDORE</td>\n",
       "      <td>160504</td>\n",
       "      <td>COEX/GESTOR</td>\n",
       "      <td>171397</td>\n",
       "      <td>E6SUPLJA5PA</td>\n",
       "      <td>A5PA - PASA</td>\n",
       "      <td>339030</td>\n",
       "      <td>MATERIAL DE CONSUMO</td>\n",
       "      <td>33903021</td>\n",
       "      <td>MATERIAL DE COPA E COZINHA</td>\n",
       "      <td>2024NE000164</td>\n",
       "      <td>2024</td>\n",
       "      <td>2024-02-27</td>\n",
       "      <td>160129000012024NE000164</td>\n",
       "      <td>07259386000108</td>\n",
       "      <td>FARED COMERCIAL LTDA</td>\n",
       "      <td>PR</td>\n",
       "      <td>ANO</td>\n",
       "      <td>129</td>\n",
       "      <td>MG</td>\n",
       "      <td>1000000000</td>\n",
       "      <td>PREGAO</td>\n",
       "      <td>ORDINARIO</td>\n",
       "      <td>1</td>\n",
       "      <td>PRIMARIO OBRIGATORIO</td>\n",
       "      <td>A</td>\n",
       "      <td>INICIAL (LOA)</td>\n",
       "      <td>0006</td>\n",
       "      <td>000000000000</td>\n",
       "      <td>SEM EMENDA</td>\n",
       "      <td>ESCOLA DE SARGENTOS DAS ARMAS</td>\n",
       "      <td>52121</td>\n",
       "      <td>COMANDO DO EXERCITO</td>\n",
       "      <td>E6SU</td>\n",
       "      <td>PLJ</td>\n",
       "      <td>A5PA</td>\n",
       "      <td>0.00</td>\n",
       "      <td>0.00</td>\n",
       "      <td>0.00</td>\n",
       "      <td>8853.00</td>\n",
       "    </tr>\n",
       "    <tr>\n",
       "      <th>241</th>\n",
       "      <td>160129</td>\n",
       "      <td>ESA</td>\n",
       "      <td>160533</td>\n",
       "      <td>4º CGCFEX</td>\n",
       "      <td>CML</td>\n",
       "      <td>4ª RM</td>\n",
       "      <td>Três Corações</td>\n",
       "      <td>0032</td>\n",
       "      <td>212B</td>\n",
       "      <td>BENEFICIOS OBRIGATORIOS AOS SERVIDORE</td>\n",
       "      <td>160504</td>\n",
       "      <td>COEX/GESTOR</td>\n",
       "      <td>171397</td>\n",
       "      <td>E6SUPLJA5PA</td>\n",
       "      <td>A5PA - PASA</td>\n",
       "      <td>339030</td>\n",
       "      <td>MATERIAL DE CONSUMO</td>\n",
       "      <td>33903021</td>\n",
       "      <td>MATERIAL DE COPA E COZINHA</td>\n",
       "      <td>2024NE000516</td>\n",
       "      <td>2024</td>\n",
       "      <td>2024-05-24</td>\n",
       "      <td>160129000012024NE000516</td>\n",
       "      <td>01255291000121</td>\n",
       "      <td>H.A DISTRIBUIDORA LTDA</td>\n",
       "      <td>MG</td>\n",
       "      <td>ANO</td>\n",
       "      <td>42</td>\n",
       "      <td>MG</td>\n",
       "      <td>1000000000</td>\n",
       "      <td>PREGAO</td>\n",
       "      <td>ORDINARIO</td>\n",
       "      <td>1</td>\n",
       "      <td>PRIMARIO OBRIGATORIO</td>\n",
       "      <td>A</td>\n",
       "      <td>INICIAL (LOA)</td>\n",
       "      <td>0006</td>\n",
       "      <td>000000000000</td>\n",
       "      <td>SEM EMENDA</td>\n",
       "      <td>ESCOLA DE SARGENTOS DAS ARMAS - AV. SETE DE SE...</td>\n",
       "      <td>52121</td>\n",
       "      <td>COMANDO DO EXERCITO</td>\n",
       "      <td>E6SU</td>\n",
       "      <td>PLJ</td>\n",
       "      <td>A5PA</td>\n",
       "      <td>12761.25</td>\n",
       "      <td>0.00</td>\n",
       "      <td>12761.25</td>\n",
       "      <td>0.00</td>\n",
       "    </tr>\n",
       "    <tr>\n",
       "      <th>242</th>\n",
       "      <td>160129</td>\n",
       "      <td>ESA</td>\n",
       "      <td>160533</td>\n",
       "      <td>4º CGCFEX</td>\n",
       "      <td>CML</td>\n",
       "      <td>4ª RM</td>\n",
       "      <td>Três Corações</td>\n",
       "      <td>0032</td>\n",
       "      <td>212B</td>\n",
       "      <td>BENEFICIOS OBRIGATORIOS AOS SERVIDORE</td>\n",
       "      <td>160504</td>\n",
       "      <td>COEX/GESTOR</td>\n",
       "      <td>171397</td>\n",
       "      <td>E6SUPLJA5PA</td>\n",
       "      <td>A5PA - PASA</td>\n",
       "      <td>339030</td>\n",
       "      <td>MATERIAL DE CONSUMO</td>\n",
       "      <td>33903021</td>\n",
       "      <td>MATERIAL DE COPA E COZINHA</td>\n",
       "      <td>2024NE000517</td>\n",
       "      <td>2024</td>\n",
       "      <td>2024-05-24</td>\n",
       "      <td>160129000012024NE000517</td>\n",
       "      <td>43029546000188</td>\n",
       "      <td>INB COMERCIO LTDA</td>\n",
       "      <td>MG</td>\n",
       "      <td>ANO</td>\n",
       "      <td>42</td>\n",
       "      <td>MG</td>\n",
       "      <td>1000000000</td>\n",
       "      <td>PREGAO</td>\n",
       "      <td>ORDINARIO</td>\n",
       "      <td>1</td>\n",
       "      <td>PRIMARIO OBRIGATORIO</td>\n",
       "      <td>A</td>\n",
       "      <td>INICIAL (LOA)</td>\n",
       "      <td>0006</td>\n",
       "      <td>000000000000</td>\n",
       "      <td>SEM EMENDA</td>\n",
       "      <td>ESCOLA DE SARGENTOS DAS ARMAS - AV. SETE DE SE...</td>\n",
       "      <td>52121</td>\n",
       "      <td>COMANDO DO EXERCITO</td>\n",
       "      <td>E6SU</td>\n",
       "      <td>PLJ</td>\n",
       "      <td>A5PA</td>\n",
       "      <td>1690.00</td>\n",
       "      <td>0.00</td>\n",
       "      <td>1690.00</td>\n",
       "      <td>0.00</td>\n",
       "    </tr>\n",
       "    <tr>\n",
       "      <th>243</th>\n",
       "      <td>160129</td>\n",
       "      <td>ESA</td>\n",
       "      <td>160533</td>\n",
       "      <td>4º CGCFEX</td>\n",
       "      <td>CML</td>\n",
       "      <td>4ª RM</td>\n",
       "      <td>Três Corações</td>\n",
       "      <td>0032</td>\n",
       "      <td>212B</td>\n",
       "      <td>BENEFICIOS OBRIGATORIOS AOS SERVIDORE</td>\n",
       "      <td>160504</td>\n",
       "      <td>COEX/GESTOR</td>\n",
       "      <td>171397</td>\n",
       "      <td>E6SUPLJA5PA</td>\n",
       "      <td>A5PA - PASA</td>\n",
       "      <td>339030</td>\n",
       "      <td>MATERIAL DE CONSUMO</td>\n",
       "      <td>33903021</td>\n",
       "      <td>MATERIAL DE COPA E COZINHA</td>\n",
       "      <td>2024NE000518</td>\n",
       "      <td>2024</td>\n",
       "      <td>2024-05-24</td>\n",
       "      <td>160129000012024NE000518</td>\n",
       "      <td>22327937000109</td>\n",
       "      <td>BEATRIZ BRUST DE SOUZA</td>\n",
       "      <td>SP</td>\n",
       "      <td>ANO</td>\n",
       "      <td>42</td>\n",
       "      <td>MG</td>\n",
       "      <td>1000000000</td>\n",
       "      <td>PREGAO</td>\n",
       "      <td>ORDINARIO</td>\n",
       "      <td>1</td>\n",
       "      <td>PRIMARIO OBRIGATORIO</td>\n",
       "      <td>A</td>\n",
       "      <td>INICIAL (LOA)</td>\n",
       "      <td>0006</td>\n",
       "      <td>000000000000</td>\n",
       "      <td>SEM EMENDA</td>\n",
       "      <td>ESCOLA DE SARGENTOS DAS ARMAS - AV. SETE DE SE...</td>\n",
       "      <td>52121</td>\n",
       "      <td>COMANDO DO EXERCITO</td>\n",
       "      <td>E6SU</td>\n",
       "      <td>PLJ</td>\n",
       "      <td>A5PA</td>\n",
       "      <td>4600.00</td>\n",
       "      <td>0.00</td>\n",
       "      <td>4600.00</td>\n",
       "      <td>0.00</td>\n",
       "    </tr>\n",
       "    <tr>\n",
       "      <th>244</th>\n",
       "      <td>160129</td>\n",
       "      <td>ESA</td>\n",
       "      <td>160533</td>\n",
       "      <td>4º CGCFEX</td>\n",
       "      <td>CML</td>\n",
       "      <td>4ª RM</td>\n",
       "      <td>Três Corações</td>\n",
       "      <td>0032</td>\n",
       "      <td>212B</td>\n",
       "      <td>BENEFICIOS OBRIGATORIOS AOS SERVIDORE</td>\n",
       "      <td>160504</td>\n",
       "      <td>COEX/GESTOR</td>\n",
       "      <td>171397</td>\n",
       "      <td>E6SUPLJA5PA</td>\n",
       "      <td>A5PA - PASA</td>\n",
       "      <td>339030</td>\n",
       "      <td>MATERIAL DE CONSUMO</td>\n",
       "      <td>33903021</td>\n",
       "      <td>MATERIAL DE COPA E COZINHA</td>\n",
       "      <td>2024NE000519</td>\n",
       "      <td>2024</td>\n",
       "      <td>2024-05-24</td>\n",
       "      <td>160129000012024NE000519</td>\n",
       "      <td>40225662000184</td>\n",
       "      <td>MBM STORE LTDA</td>\n",
       "      <td>PR</td>\n",
       "      <td>ANO</td>\n",
       "      <td>42</td>\n",
       "      <td>MG</td>\n",
       "      <td>1000000000</td>\n",
       "      <td>PREGAO</td>\n",
       "      <td>ORDINARIO</td>\n",
       "      <td>1</td>\n",
       "      <td>PRIMARIO OBRIGATORIO</td>\n",
       "      <td>A</td>\n",
       "      <td>INICIAL (LOA)</td>\n",
       "      <td>0006</td>\n",
       "      <td>000000000000</td>\n",
       "      <td>SEM EMENDA</td>\n",
       "      <td>ESCOLA DE SARGENTOS DAS ARMAS - AV. SETE DE SE...</td>\n",
       "      <td>52121</td>\n",
       "      <td>COMANDO DO EXERCITO</td>\n",
       "      <td>E6SU</td>\n",
       "      <td>PLJ</td>\n",
       "      <td>A5PA</td>\n",
       "      <td>4680.00</td>\n",
       "      <td>0.00</td>\n",
       "      <td>4680.00</td>\n",
       "      <td>0.00</td>\n",
       "    </tr>\n",
       "    <tr>\n",
       "      <th>245</th>\n",
       "      <td>160129</td>\n",
       "      <td>ESA</td>\n",
       "      <td>160533</td>\n",
       "      <td>4º CGCFEX</td>\n",
       "      <td>CML</td>\n",
       "      <td>4ª RM</td>\n",
       "      <td>Três Corações</td>\n",
       "      <td>0032</td>\n",
       "      <td>212B</td>\n",
       "      <td>BENEFICIOS OBRIGATORIOS AOS SERVIDORE</td>\n",
       "      <td>160504</td>\n",
       "      <td>COEX/GESTOR</td>\n",
       "      <td>171397</td>\n",
       "      <td>E6SUPLJA5PA</td>\n",
       "      <td>A5PA - PASA</td>\n",
       "      <td>339030</td>\n",
       "      <td>MATERIAL DE CONSUMO</td>\n",
       "      <td>33903021</td>\n",
       "      <td>MATERIAL DE COPA E COZINHA</td>\n",
       "      <td>2024NE000520</td>\n",
       "      <td>2024</td>\n",
       "      <td>2024-05-24</td>\n",
       "      <td>160129000012024NE000520</td>\n",
       "      <td>41948062000107</td>\n",
       "      <td>GRANETTO EMBALAGENS LTDA</td>\n",
       "      <td>PR</td>\n",
       "      <td>ANO</td>\n",
       "      <td>42</td>\n",
       "      <td>MG</td>\n",
       "      <td>1000000000</td>\n",
       "      <td>PREGAO</td>\n",
       "      <td>ORDINARIO</td>\n",
       "      <td>1</td>\n",
       "      <td>PRIMARIO OBRIGATORIO</td>\n",
       "      <td>A</td>\n",
       "      <td>INICIAL (LOA)</td>\n",
       "      <td>0006</td>\n",
       "      <td>000000000000</td>\n",
       "      <td>SEM EMENDA</td>\n",
       "      <td>ESCOLA DE SARGENTOS DAS ARMAS - AV. SETE DE SE...</td>\n",
       "      <td>52121</td>\n",
       "      <td>COMANDO DO EXERCITO</td>\n",
       "      <td>E6SU</td>\n",
       "      <td>PLJ</td>\n",
       "      <td>A5PA</td>\n",
       "      <td>1246.70</td>\n",
       "      <td>0.00</td>\n",
       "      <td>1246.70</td>\n",
       "      <td>0.00</td>\n",
       "    </tr>\n",
       "    <tr>\n",
       "      <th>246</th>\n",
       "      <td>160129</td>\n",
       "      <td>ESA</td>\n",
       "      <td>160533</td>\n",
       "      <td>4º CGCFEX</td>\n",
       "      <td>CML</td>\n",
       "      <td>4ª RM</td>\n",
       "      <td>Três Corações</td>\n",
       "      <td>0032</td>\n",
       "      <td>212B</td>\n",
       "      <td>BENEFICIOS OBRIGATORIOS AOS SERVIDORE</td>\n",
       "      <td>160504</td>\n",
       "      <td>COEX/GESTOR</td>\n",
       "      <td>171397</td>\n",
       "      <td>E6SUPLJA5PA</td>\n",
       "      <td>A5PA - PASA</td>\n",
       "      <td>449052</td>\n",
       "      <td>EQUIPAMENTOS E MATERIAL PERMANENTE</td>\n",
       "      <td>44905204</td>\n",
       "      <td>APARELHOS DE MEDICAO E ORIENTACAO</td>\n",
       "      <td>2024NE000125</td>\n",
       "      <td>2024</td>\n",
       "      <td>2024-02-26</td>\n",
       "      <td>160129000012024NE000125</td>\n",
       "      <td>31206933000163</td>\n",
       "      <td>INOVARE GOURMET LTDA</td>\n",
       "      <td>RJ</td>\n",
       "      <td>ANO</td>\n",
       "      <td>130</td>\n",
       "      <td>MG</td>\n",
       "      <td>1000000000</td>\n",
       "      <td>PREGAO</td>\n",
       "      <td>ORDINARIO</td>\n",
       "      <td>1</td>\n",
       "      <td>PRIMARIO OBRIGATORIO</td>\n",
       "      <td>A</td>\n",
       "      <td>INICIAL (LOA)</td>\n",
       "      <td>0006</td>\n",
       "      <td>000000000000</td>\n",
       "      <td>SEM EMENDA</td>\n",
       "      <td>ESCOLA DE SARGENTOS DAS ARMAS - AV. SETE DE SE...</td>\n",
       "      <td>52121</td>\n",
       "      <td>COMANDO DO EXERCITO</td>\n",
       "      <td>E6SU</td>\n",
       "      <td>PLJ</td>\n",
       "      <td>A5PA</td>\n",
       "      <td>180.00</td>\n",
       "      <td>0.00</td>\n",
       "      <td>180.00</td>\n",
       "      <td>0.00</td>\n",
       "    </tr>\n",
       "    <tr>\n",
       "      <th>247</th>\n",
       "      <td>160129</td>\n",
       "      <td>ESA</td>\n",
       "      <td>160533</td>\n",
       "      <td>4º CGCFEX</td>\n",
       "      <td>CML</td>\n",
       "      <td>4ª RM</td>\n",
       "      <td>Três Corações</td>\n",
       "      <td>0032</td>\n",
       "      <td>212B</td>\n",
       "      <td>BENEFICIOS OBRIGATORIOS AOS SERVIDORE</td>\n",
       "      <td>160504</td>\n",
       "      <td>COEX/GESTOR</td>\n",
       "      <td>171397</td>\n",
       "      <td>E6SUPLJA5PA</td>\n",
       "      <td>A5PA - PASA</td>\n",
       "      <td>449052</td>\n",
       "      <td>EQUIPAMENTOS E MATERIAL PERMANENTE</td>\n",
       "      <td>44905212</td>\n",
       "      <td>APARELHOS E UTENSILIOS DOMESTICOS</td>\n",
       "      <td>2024NE000126</td>\n",
       "      <td>2024</td>\n",
       "      <td>2024-02-26</td>\n",
       "      <td>160129000012024NE000126</td>\n",
       "      <td>46970951000194</td>\n",
       "      <td>MALU COMERCIO VAREJISTA DE MERCADORIAS EM GERAL</td>\n",
       "      <td>MG</td>\n",
       "      <td>ANO</td>\n",
       "      <td>130</td>\n",
       "      <td>MG</td>\n",
       "      <td>1000000000</td>\n",
       "      <td>PREGAO</td>\n",
       "      <td>ORDINARIO</td>\n",
       "      <td>1</td>\n",
       "      <td>PRIMARIO OBRIGATORIO</td>\n",
       "      <td>A</td>\n",
       "      <td>INICIAL (LOA)</td>\n",
       "      <td>0006</td>\n",
       "      <td>000000000000</td>\n",
       "      <td>SEM EMENDA</td>\n",
       "      <td>ESCOLA DE SARGENTOS DAS ARMAS - AV. SETE DE SE...</td>\n",
       "      <td>52121</td>\n",
       "      <td>COMANDO DO EXERCITO</td>\n",
       "      <td>E6SU</td>\n",
       "      <td>PLJ</td>\n",
       "      <td>A5PA</td>\n",
       "      <td>790.00</td>\n",
       "      <td>0.00</td>\n",
       "      <td>790.00</td>\n",
       "      <td>0.00</td>\n",
       "    </tr>\n",
       "    <tr>\n",
       "      <th>248</th>\n",
       "      <td>160129</td>\n",
       "      <td>ESA</td>\n",
       "      <td>160533</td>\n",
       "      <td>4º CGCFEX</td>\n",
       "      <td>CML</td>\n",
       "      <td>4ª RM</td>\n",
       "      <td>Três Corações</td>\n",
       "      <td>0032</td>\n",
       "      <td>212B</td>\n",
       "      <td>BENEFICIOS OBRIGATORIOS AOS SERVIDORE</td>\n",
       "      <td>160504</td>\n",
       "      <td>COEX/GESTOR</td>\n",
       "      <td>171397</td>\n",
       "      <td>E6SUPLJA5PA</td>\n",
       "      <td>A5PA - PASA</td>\n",
       "      <td>449052</td>\n",
       "      <td>EQUIPAMENTOS E MATERIAL PERMANENTE</td>\n",
       "      <td>44905212</td>\n",
       "      <td>APARELHOS E UTENSILIOS DOMESTICOS</td>\n",
       "      <td>2024NE000127</td>\n",
       "      <td>2024</td>\n",
       "      <td>2024-02-26</td>\n",
       "      <td>160129000012024NE000127</td>\n",
       "      <td>31669124000198</td>\n",
       "      <td>LS REFRIGERACAO LTDA</td>\n",
       "      <td>SC</td>\n",
       "      <td>ANO</td>\n",
       "      <td>130</td>\n",
       "      <td>MG</td>\n",
       "      <td>1000000000</td>\n",
       "      <td>PREGAO</td>\n",
       "      <td>ORDINARIO</td>\n",
       "      <td>1</td>\n",
       "      <td>PRIMARIO OBRIGATORIO</td>\n",
       "      <td>A</td>\n",
       "      <td>INICIAL (LOA)</td>\n",
       "      <td>0006</td>\n",
       "      <td>000000000000</td>\n",
       "      <td>SEM EMENDA</td>\n",
       "      <td>ESCOLA DE SARGENTOS DAS ARMAS - AV. SETE DE SE...</td>\n",
       "      <td>52121</td>\n",
       "      <td>COMANDO DO EXERCITO</td>\n",
       "      <td>E6SU</td>\n",
       "      <td>PLJ</td>\n",
       "      <td>A5PA</td>\n",
       "      <td>0.00</td>\n",
       "      <td>0.00</td>\n",
       "      <td>0.00</td>\n",
       "      <td>8613.12</td>\n",
       "    </tr>\n",
       "    <tr>\n",
       "      <th>249</th>\n",
       "      <td>160129</td>\n",
       "      <td>ESA</td>\n",
       "      <td>160533</td>\n",
       "      <td>4º CGCFEX</td>\n",
       "      <td>CML</td>\n",
       "      <td>4ª RM</td>\n",
       "      <td>Três Corações</td>\n",
       "      <td>0032</td>\n",
       "      <td>212B</td>\n",
       "      <td>BENEFICIOS OBRIGATORIOS AOS SERVIDORE</td>\n",
       "      <td>160504</td>\n",
       "      <td>COEX/GESTOR</td>\n",
       "      <td>171397</td>\n",
       "      <td>E6SUPLJA5PA</td>\n",
       "      <td>A5PA - PASA</td>\n",
       "      <td>449052</td>\n",
       "      <td>EQUIPAMENTOS E MATERIAL PERMANENTE</td>\n",
       "      <td>44905212</td>\n",
       "      <td>APARELHOS E UTENSILIOS DOMESTICOS</td>\n",
       "      <td>2024NE000130</td>\n",
       "      <td>2024</td>\n",
       "      <td>2024-02-26</td>\n",
       "      <td>160129000012024NE000130</td>\n",
       "      <td>40224243000128</td>\n",
       "      <td>BACKUP MANUTENCAO E DISTRIBUICAO DE PRODUTOS D...</td>\n",
       "      <td>MG</td>\n",
       "      <td>ANO</td>\n",
       "      <td>130</td>\n",
       "      <td>MG</td>\n",
       "      <td>1000000000</td>\n",
       "      <td>PREGAO</td>\n",
       "      <td>ORDINARIO</td>\n",
       "      <td>1</td>\n",
       "      <td>PRIMARIO OBRIGATORIO</td>\n",
       "      <td>A</td>\n",
       "      <td>INICIAL (LOA)</td>\n",
       "      <td>0006</td>\n",
       "      <td>000000000000</td>\n",
       "      <td>SEM EMENDA</td>\n",
       "      <td>ESCOLA DE SARGENTOS DAS ARMAS - AV. SETE DE SE...</td>\n",
       "      <td>52121</td>\n",
       "      <td>COMANDO DO EXERCITO</td>\n",
       "      <td>E6SU</td>\n",
       "      <td>PLJ</td>\n",
       "      <td>A5PA</td>\n",
       "      <td>680.00</td>\n",
       "      <td>0.00</td>\n",
       "      <td>680.00</td>\n",
       "      <td>0.00</td>\n",
       "    </tr>\n",
       "    <tr>\n",
       "      <th>250</th>\n",
       "      <td>160129</td>\n",
       "      <td>ESA</td>\n",
       "      <td>160533</td>\n",
       "      <td>4º CGCFEX</td>\n",
       "      <td>CML</td>\n",
       "      <td>4ª RM</td>\n",
       "      <td>Três Corações</td>\n",
       "      <td>0032</td>\n",
       "      <td>212B</td>\n",
       "      <td>BENEFICIOS OBRIGATORIOS AOS SERVIDORE</td>\n",
       "      <td>160504</td>\n",
       "      <td>COEX/GESTOR</td>\n",
       "      <td>171397</td>\n",
       "      <td>E6SUPLJA5PA</td>\n",
       "      <td>A5PA - PASA</td>\n",
       "      <td>449052</td>\n",
       "      <td>EQUIPAMENTOS E MATERIAL PERMANENTE</td>\n",
       "      <td>44905212</td>\n",
       "      <td>APARELHOS E UTENSILIOS DOMESTICOS</td>\n",
       "      <td>2024NE000143</td>\n",
       "      <td>2024</td>\n",
       "      <td>2024-02-27</td>\n",
       "      <td>160129000012024NE000143</td>\n",
       "      <td>29926189000120</td>\n",
       "      <td>SIS COMERCIO DE MATERIAIS E EQUIPAMENTOS LTDA</td>\n",
       "      <td>SC</td>\n",
       "      <td>ANO</td>\n",
       "      <td>129</td>\n",
       "      <td>MG</td>\n",
       "      <td>1000000000</td>\n",
       "      <td>PREGAO</td>\n",
       "      <td>ORDINARIO</td>\n",
       "      <td>1</td>\n",
       "      <td>PRIMARIO OBRIGATORIO</td>\n",
       "      <td>A</td>\n",
       "      <td>INICIAL (LOA)</td>\n",
       "      <td>0006</td>\n",
       "      <td>000000000000</td>\n",
       "      <td>SEM EMENDA</td>\n",
       "      <td>ESCOLA DE SARGENTOS DAS ARMAS</td>\n",
       "      <td>52121</td>\n",
       "      <td>COMANDO DO EXERCITO</td>\n",
       "      <td>E6SU</td>\n",
       "      <td>PLJ</td>\n",
       "      <td>A5PA</td>\n",
       "      <td>3349.50</td>\n",
       "      <td>0.00</td>\n",
       "      <td>3349.50</td>\n",
       "      <td>0.00</td>\n",
       "    </tr>\n",
       "    <tr>\n",
       "      <th>251</th>\n",
       "      <td>160129</td>\n",
       "      <td>ESA</td>\n",
       "      <td>160533</td>\n",
       "      <td>4º CGCFEX</td>\n",
       "      <td>CML</td>\n",
       "      <td>4ª RM</td>\n",
       "      <td>Três Corações</td>\n",
       "      <td>0032</td>\n",
       "      <td>212B</td>\n",
       "      <td>BENEFICIOS OBRIGATORIOS AOS SERVIDORE</td>\n",
       "      <td>160504</td>\n",
       "      <td>COEX/GESTOR</td>\n",
       "      <td>171397</td>\n",
       "      <td>E6SUPLJA5PA</td>\n",
       "      <td>A5PA - PASA</td>\n",
       "      <td>449052</td>\n",
       "      <td>EQUIPAMENTOS E MATERIAL PERMANENTE</td>\n",
       "      <td>44905228</td>\n",
       "      <td>MAQUINAS E EQUIPAMENTOS DE NATUREZA INDUSTRIAL</td>\n",
       "      <td>2024NE000129</td>\n",
       "      <td>2024</td>\n",
       "      <td>2024-02-26</td>\n",
       "      <td>160129000012024NE000129</td>\n",
       "      <td>08194579000182</td>\n",
       "      <td>LEANDRO LUIZ LEAL SILVA</td>\n",
       "      <td>MG</td>\n",
       "      <td>ANO</td>\n",
       "      <td>130</td>\n",
       "      <td>MG</td>\n",
       "      <td>1000000000</td>\n",
       "      <td>PREGAO</td>\n",
       "      <td>ORDINARIO</td>\n",
       "      <td>1</td>\n",
       "      <td>PRIMARIO OBRIGATORIO</td>\n",
       "      <td>A</td>\n",
       "      <td>INICIAL (LOA)</td>\n",
       "      <td>0006</td>\n",
       "      <td>000000000000</td>\n",
       "      <td>SEM EMENDA</td>\n",
       "      <td>ESCOLA DE SARGENTOS DAS ARMAS - AV. SETE DE SE...</td>\n",
       "      <td>52121</td>\n",
       "      <td>COMANDO DO EXERCITO</td>\n",
       "      <td>E6SU</td>\n",
       "      <td>PLJ</td>\n",
       "      <td>A5PA</td>\n",
       "      <td>0.00</td>\n",
       "      <td>817.19</td>\n",
       "      <td>817.19</td>\n",
       "      <td>13151.81</td>\n",
       "    </tr>\n",
       "    <tr>\n",
       "      <th>252</th>\n",
       "      <td>160129</td>\n",
       "      <td>ESA</td>\n",
       "      <td>160533</td>\n",
       "      <td>4º CGCFEX</td>\n",
       "      <td>CML</td>\n",
       "      <td>4ª RM</td>\n",
       "      <td>Três Corações</td>\n",
       "      <td>0032</td>\n",
       "      <td>212B</td>\n",
       "      <td>BENEFICIOS OBRIGATORIOS AOS SERVIDORE</td>\n",
       "      <td>160504</td>\n",
       "      <td>COEX/GESTOR</td>\n",
       "      <td>171397</td>\n",
       "      <td>E6SUPLJA5PA</td>\n",
       "      <td>A5PA - PASA</td>\n",
       "      <td>449052</td>\n",
       "      <td>EQUIPAMENTOS E MATERIAL PERMANENTE</td>\n",
       "      <td>44905228</td>\n",
       "      <td>MAQUINAS E EQUIPAMENTOS DE NATUREZA INDUSTRIAL</td>\n",
       "      <td>2024NE000572</td>\n",
       "      <td>2024</td>\n",
       "      <td>2024-06-03</td>\n",
       "      <td>160129000012024NE000572</td>\n",
       "      <td>43337798000174</td>\n",
       "      <td>CHC ORGANIZACAO COMERCIO E SERVICO LTDA</td>\n",
       "      <td>RS</td>\n",
       "      <td>ANO</td>\n",
       "      <td>32</td>\n",
       "      <td>MG</td>\n",
       "      <td>1000000000</td>\n",
       "      <td>PREGAO</td>\n",
       "      <td>ORDINARIO</td>\n",
       "      <td>1</td>\n",
       "      <td>PRIMARIO OBRIGATORIO</td>\n",
       "      <td>A</td>\n",
       "      <td>INICIAL (LOA)</td>\n",
       "      <td>0006</td>\n",
       "      <td>000000000000</td>\n",
       "      <td>SEM EMENDA</td>\n",
       "      <td>AV. SETE DE SETEMBRO 628</td>\n",
       "      <td>52121</td>\n",
       "      <td>COMANDO DO EXERCITO</td>\n",
       "      <td>E6SU</td>\n",
       "      <td>PLJ</td>\n",
       "      <td>A5PA</td>\n",
       "      <td>17375.00</td>\n",
       "      <td>0.00</td>\n",
       "      <td>17375.00</td>\n",
       "      <td>0.00</td>\n",
       "    </tr>\n",
       "    <tr>\n",
       "      <th>253</th>\n",
       "      <td>160129</td>\n",
       "      <td>ESA</td>\n",
       "      <td>160533</td>\n",
       "      <td>4º CGCFEX</td>\n",
       "      <td>CML</td>\n",
       "      <td>4ª RM</td>\n",
       "      <td>Três Corações</td>\n",
       "      <td>0032</td>\n",
       "      <td>212B</td>\n",
       "      <td>BENEFICIOS OBRIGATORIOS AOS SERVIDORE</td>\n",
       "      <td>160504</td>\n",
       "      <td>COEX/GESTOR</td>\n",
       "      <td>171397</td>\n",
       "      <td>E6SUPLJA5PA</td>\n",
       "      <td>A5PA - PASA</td>\n",
       "      <td>449052</td>\n",
       "      <td>EQUIPAMENTOS E MATERIAL PERMANENTE</td>\n",
       "      <td>44905228</td>\n",
       "      <td>MAQUINAS E EQUIPAMENTOS DE NATUREZA INDUSTRIAL</td>\n",
       "      <td>2024NE000574</td>\n",
       "      <td>2024</td>\n",
       "      <td>2024-06-03</td>\n",
       "      <td>160129000012024NE000574</td>\n",
       "      <td>48489837000172</td>\n",
       "      <td>JB LICITACOES LTDA</td>\n",
       "      <td>SC</td>\n",
       "      <td>ANO</td>\n",
       "      <td>32</td>\n",
       "      <td>MG</td>\n",
       "      <td>1000000000</td>\n",
       "      <td>PREGAO</td>\n",
       "      <td>ORDINARIO</td>\n",
       "      <td>1</td>\n",
       "      <td>PRIMARIO OBRIGATORIO</td>\n",
       "      <td>A</td>\n",
       "      <td>INICIAL (LOA)</td>\n",
       "      <td>0006</td>\n",
       "      <td>000000000000</td>\n",
       "      <td>SEM EMENDA</td>\n",
       "      <td>ESCOLA DE SARGENTOS DAS ARMAS - AV. SETE DE SE...</td>\n",
       "      <td>52121</td>\n",
       "      <td>COMANDO DO EXERCITO</td>\n",
       "      <td>E6SU</td>\n",
       "      <td>PLJ</td>\n",
       "      <td>A5PA</td>\n",
       "      <td>2326.26</td>\n",
       "      <td>0.00</td>\n",
       "      <td>2326.26</td>\n",
       "      <td>0.00</td>\n",
       "    </tr>\n",
       "    <tr>\n",
       "      <th>254</th>\n",
       "      <td>160129</td>\n",
       "      <td>ESA</td>\n",
       "      <td>160533</td>\n",
       "      <td>4º CGCFEX</td>\n",
       "      <td>CML</td>\n",
       "      <td>4ª RM</td>\n",
       "      <td>Três Corações</td>\n",
       "      <td>0032</td>\n",
       "      <td>212B</td>\n",
       "      <td>BENEFICIOS OBRIGATORIOS AOS SERVIDORE</td>\n",
       "      <td>160504</td>\n",
       "      <td>COEX/GESTOR</td>\n",
       "      <td>171397</td>\n",
       "      <td>E6SUPLJA5PA</td>\n",
       "      <td>A5PA - PASA</td>\n",
       "      <td>449052</td>\n",
       "      <td>EQUIPAMENTOS E MATERIAL PERMANENTE</td>\n",
       "      <td>44905242</td>\n",
       "      <td>MOBILIARIO EM GERAL</td>\n",
       "      <td>2024NE000131</td>\n",
       "      <td>2024</td>\n",
       "      <td>2024-02-26</td>\n",
       "      <td>160129000012024NE000131</td>\n",
       "      <td>79984357000101</td>\n",
       "      <td>ARTFRIO INDUSTRIA E COMERCIO DE MOVEIS, ESQUAD...</td>\n",
       "      <td>PR</td>\n",
       "      <td>ANO</td>\n",
       "      <td>130</td>\n",
       "      <td>MG</td>\n",
       "      <td>1000000000</td>\n",
       "      <td>PREGAO</td>\n",
       "      <td>ORDINARIO</td>\n",
       "      <td>1</td>\n",
       "      <td>PRIMARIO OBRIGATORIO</td>\n",
       "      <td>A</td>\n",
       "      <td>INICIAL (LOA)</td>\n",
       "      <td>0006</td>\n",
       "      <td>000000000000</td>\n",
       "      <td>SEM EMENDA</td>\n",
       "      <td>ESCOLA DE SARGENTOS DAS ARMAS - AV. SETE DE SE...</td>\n",
       "      <td>52121</td>\n",
       "      <td>COMANDO DO EXERCITO</td>\n",
       "      <td>E6SU</td>\n",
       "      <td>PLJ</td>\n",
       "      <td>A5PA</td>\n",
       "      <td>0.00</td>\n",
       "      <td>0.00</td>\n",
       "      <td>0.00</td>\n",
       "      <td>1989.00</td>\n",
       "    </tr>\n",
       "    <tr>\n",
       "      <th>255</th>\n",
       "      <td>160129</td>\n",
       "      <td>ESA</td>\n",
       "      <td>160533</td>\n",
       "      <td>4º CGCFEX</td>\n",
       "      <td>CML</td>\n",
       "      <td>4ª RM</td>\n",
       "      <td>Três Corações</td>\n",
       "      <td>0032</td>\n",
       "      <td>212B</td>\n",
       "      <td>BENEFICIOS OBRIGATORIOS AOS SERVIDORE</td>\n",
       "      <td>160504</td>\n",
       "      <td>COEX/GESTOR</td>\n",
       "      <td>171397</td>\n",
       "      <td>E6SUPLJA5PA</td>\n",
       "      <td>A5PA - PASA</td>\n",
       "      <td>449052</td>\n",
       "      <td>EQUIPAMENTOS E MATERIAL PERMANENTE</td>\n",
       "      <td>44905242</td>\n",
       "      <td>MOBILIARIO EM GERAL</td>\n",
       "      <td>2024NE000132</td>\n",
       "      <td>2024</td>\n",
       "      <td>2024-02-26</td>\n",
       "      <td>160129000012024NE000132</td>\n",
       "      <td>08532500000186</td>\n",
       "      <td>GERACAO COMERCIO E SERVICOS LTDA</td>\n",
       "      <td>ES</td>\n",
       "      <td>ANO</td>\n",
       "      <td>130</td>\n",
       "      <td>MG</td>\n",
       "      <td>1000000000</td>\n",
       "      <td>PREGAO</td>\n",
       "      <td>ORDINARIO</td>\n",
       "      <td>1</td>\n",
       "      <td>PRIMARIO OBRIGATORIO</td>\n",
       "      <td>A</td>\n",
       "      <td>INICIAL (LOA)</td>\n",
       "      <td>0006</td>\n",
       "      <td>000000000000</td>\n",
       "      <td>SEM EMENDA</td>\n",
       "      <td>ESCOLA DE SARGENTOS DAS ARMAS - AV. SETE DE SE...</td>\n",
       "      <td>52121</td>\n",
       "      <td>COMANDO DO EXERCITO</td>\n",
       "      <td>E6SU</td>\n",
       "      <td>PLJ</td>\n",
       "      <td>A5PA</td>\n",
       "      <td>0.00</td>\n",
       "      <td>0.00</td>\n",
       "      <td>0.00</td>\n",
       "      <td>4986.00</td>\n",
       "    </tr>\n",
       "    <tr>\n",
       "      <th>256</th>\n",
       "      <td>160129</td>\n",
       "      <td>ESA</td>\n",
       "      <td>160533</td>\n",
       "      <td>4º CGCFEX</td>\n",
       "      <td>CML</td>\n",
       "      <td>4ª RM</td>\n",
       "      <td>Três Corações</td>\n",
       "      <td>0032</td>\n",
       "      <td>212B</td>\n",
       "      <td>BENEFICIOS OBRIGATORIOS AOS SERVIDORE</td>\n",
       "      <td>160504</td>\n",
       "      <td>COEX/GESTOR</td>\n",
       "      <td>171397</td>\n",
       "      <td>E6SUPLJA5PA</td>\n",
       "      <td>A5PA - PASA</td>\n",
       "      <td>449052</td>\n",
       "      <td>EQUIPAMENTOS E MATERIAL PERMANENTE</td>\n",
       "      <td>44905242</td>\n",
       "      <td>MOBILIARIO EM GERAL</td>\n",
       "      <td>2024NE000133</td>\n",
       "      <td>2024</td>\n",
       "      <td>2024-02-26</td>\n",
       "      <td>160129000012024NE000133</td>\n",
       "      <td>14203779000157</td>\n",
       "      <td>ESTOQUE LOCAL COMERCIO DE MATERIAIS LTDA</td>\n",
       "      <td>RJ</td>\n",
       "      <td>ANO</td>\n",
       "      <td>130</td>\n",
       "      <td>MG</td>\n",
       "      <td>1000000000</td>\n",
       "      <td>PREGAO</td>\n",
       "      <td>ORDINARIO</td>\n",
       "      <td>1</td>\n",
       "      <td>PRIMARIO OBRIGATORIO</td>\n",
       "      <td>A</td>\n",
       "      <td>INICIAL (LOA)</td>\n",
       "      <td>0006</td>\n",
       "      <td>000000000000</td>\n",
       "      <td>SEM EMENDA</td>\n",
       "      <td>ESCOLA DE SARGENTOS DAS ARMAS - AV. SETE DE SE...</td>\n",
       "      <td>52121</td>\n",
       "      <td>COMANDO DO EXERCITO</td>\n",
       "      <td>E6SU</td>\n",
       "      <td>PLJ</td>\n",
       "      <td>A5PA</td>\n",
       "      <td>8405.00</td>\n",
       "      <td>0.00</td>\n",
       "      <td>8405.00</td>\n",
       "      <td>0.00</td>\n",
       "    </tr>\n",
       "    <tr>\n",
       "      <th>257</th>\n",
       "      <td>160129</td>\n",
       "      <td>ESA</td>\n",
       "      <td>160533</td>\n",
       "      <td>4º CGCFEX</td>\n",
       "      <td>CML</td>\n",
       "      <td>4ª RM</td>\n",
       "      <td>Três Corações</td>\n",
       "      <td>0032</td>\n",
       "      <td>212B</td>\n",
       "      <td>BENEFICIOS OBRIGATORIOS AOS SERVIDORE</td>\n",
       "      <td>160504</td>\n",
       "      <td>COEX/GESTOR</td>\n",
       "      <td>171397</td>\n",
       "      <td>E6SUPLJA5PA</td>\n",
       "      <td>A5PA - PASA</td>\n",
       "      <td>449052</td>\n",
       "      <td>EQUIPAMENTOS E MATERIAL PERMANENTE</td>\n",
       "      <td>44905242</td>\n",
       "      <td>MOBILIARIO EM GERAL</td>\n",
       "      <td>2024NE000561</td>\n",
       "      <td>2024</td>\n",
       "      <td>2024-05-29</td>\n",
       "      <td>160129000012024NE000561</td>\n",
       "      <td>24390855000134</td>\n",
       "      <td>REVINOX COMERCIO E INSTALACAO LTDA</td>\n",
       "      <td>SP</td>\n",
       "      <td>ANO</td>\n",
       "      <td>37</td>\n",
       "      <td>MG</td>\n",
       "      <td>1000000000</td>\n",
       "      <td>PREGAO</td>\n",
       "      <td>ORDINARIO</td>\n",
       "      <td>1</td>\n",
       "      <td>PRIMARIO OBRIGATORIO</td>\n",
       "      <td>A</td>\n",
       "      <td>INICIAL (LOA)</td>\n",
       "      <td>0006</td>\n",
       "      <td>000000000000</td>\n",
       "      <td>SEM EMENDA</td>\n",
       "      <td>ESCOLA DE SARGENTOS DAS ARMAS - AV. SETE DE SE...</td>\n",
       "      <td>52121</td>\n",
       "      <td>COMANDO DO EXERCITO</td>\n",
       "      <td>E6SU</td>\n",
       "      <td>PLJ</td>\n",
       "      <td>A5PA</td>\n",
       "      <td>18690.00</td>\n",
       "      <td>0.00</td>\n",
       "      <td>18690.00</td>\n",
       "      <td>0.00</td>\n",
       "    </tr>\n",
       "    <tr>\n",
       "      <th>258</th>\n",
       "      <td>160129</td>\n",
       "      <td>ESA</td>\n",
       "      <td>160533</td>\n",
       "      <td>4º CGCFEX</td>\n",
       "      <td>CML</td>\n",
       "      <td>4ª RM</td>\n",
       "      <td>Três Corações</td>\n",
       "      <td>0032</td>\n",
       "      <td>212B</td>\n",
       "      <td>BENEFICIOS OBRIGATORIOS AOS SERVIDORE</td>\n",
       "      <td>160504</td>\n",
       "      <td>COEX/GESTOR</td>\n",
       "      <td>171397</td>\n",
       "      <td>E6SUPLJA5PA</td>\n",
       "      <td>A5PA - PASA</td>\n",
       "      <td>449052</td>\n",
       "      <td>EQUIPAMENTOS E MATERIAL PERMANENTE</td>\n",
       "      <td>44905242</td>\n",
       "      <td>MOBILIARIO EM GERAL</td>\n",
       "      <td>2024NE000577</td>\n",
       "      <td>2024</td>\n",
       "      <td>2024-06-03</td>\n",
       "      <td>160129000012024NE000577</td>\n",
       "      <td>79984357000101</td>\n",
       "      <td>ARTFRIO INDUSTRIA E COMERCIO DE MOVEIS, ESQUAD...</td>\n",
       "      <td>PR</td>\n",
       "      <td>ANO</td>\n",
       "      <td>32</td>\n",
       "      <td>MG</td>\n",
       "      <td>1000000000</td>\n",
       "      <td>PREGAO</td>\n",
       "      <td>ORDINARIO</td>\n",
       "      <td>1</td>\n",
       "      <td>PRIMARIO OBRIGATORIO</td>\n",
       "      <td>A</td>\n",
       "      <td>INICIAL (LOA)</td>\n",
       "      <td>0006</td>\n",
       "      <td>000000000000</td>\n",
       "      <td>SEM EMENDA</td>\n",
       "      <td>AV. SETE DE SETEMBRO,628 - CENTRO</td>\n",
       "      <td>52121</td>\n",
       "      <td>COMANDO DO EXERCITO</td>\n",
       "      <td>E6SU</td>\n",
       "      <td>PLJ</td>\n",
       "      <td>A5PA</td>\n",
       "      <td>20383.86</td>\n",
       "      <td>0.00</td>\n",
       "      <td>20383.86</td>\n",
       "      <td>0.00</td>\n",
       "    </tr>\n",
       "    <tr>\n",
       "      <th>259</th>\n",
       "      <td>160129</td>\n",
       "      <td>ESA</td>\n",
       "      <td>160533</td>\n",
       "      <td>4º CGCFEX</td>\n",
       "      <td>CML</td>\n",
       "      <td>4ª RM</td>\n",
       "      <td>Três Corações</td>\n",
       "      <td>0032</td>\n",
       "      <td>212B</td>\n",
       "      <td>BENEFICIOS OBRIGATORIOS AOS SERVIDORE</td>\n",
       "      <td>160504</td>\n",
       "      <td>COEX/GESTOR</td>\n",
       "      <td>171397</td>\n",
       "      <td>E6SUPLJESCO</td>\n",
       "      <td>ESCO - QUANTITATIVO DE RANCHO</td>\n",
       "      <td>339030</td>\n",
       "      <td>MATERIAL DE CONSUMO</td>\n",
       "      <td>33903007</td>\n",
       "      <td>GENEROS DE ALIMENTACAO</td>\n",
       "      <td>2024NE000087</td>\n",
       "      <td>2024</td>\n",
       "      <td>2024-02-19</td>\n",
       "      <td>160129000012024NE000087</td>\n",
       "      <td>47078180000198</td>\n",
       "      <td>AF DISTRIBUIDORA E SERVICOS LTDA</td>\n",
       "      <td>MG</td>\n",
       "      <td>ANO</td>\n",
       "      <td>137</td>\n",
       "      <td>MG</td>\n",
       "      <td>1000000000</td>\n",
       "      <td>PREGAO</td>\n",
       "      <td>GLOBAL</td>\n",
       "      <td>1</td>\n",
       "      <td>PRIMARIO OBRIGATORIO</td>\n",
       "      <td>A</td>\n",
       "      <td>INICIAL (LOA)</td>\n",
       "      <td>0006</td>\n",
       "      <td>000000000000</td>\n",
       "      <td>SEM EMENDA</td>\n",
       "      <td>AV. SETE DE SETEMBRO, 628 - CENTRO, TRÊS CORAÇ...</td>\n",
       "      <td>52121</td>\n",
       "      <td>COMANDO DO EXERCITO</td>\n",
       "      <td>E6SU</td>\n",
       "      <td>PLJ</td>\n",
       "      <td>ESCO</td>\n",
       "      <td>0.00</td>\n",
       "      <td>0.00</td>\n",
       "      <td>0.00</td>\n",
       "      <td>21113.25</td>\n",
       "    </tr>\n",
       "    <tr>\n",
       "      <th>260</th>\n",
       "      <td>160129</td>\n",
       "      <td>ESA</td>\n",
       "      <td>160533</td>\n",
       "      <td>4º CGCFEX</td>\n",
       "      <td>CML</td>\n",
       "      <td>4ª RM</td>\n",
       "      <td>Três Corações</td>\n",
       "      <td>0032</td>\n",
       "      <td>212B</td>\n",
       "      <td>BENEFICIOS OBRIGATORIOS AOS SERVIDORE</td>\n",
       "      <td>160504</td>\n",
       "      <td>COEX/GESTOR</td>\n",
       "      <td>171397</td>\n",
       "      <td>E6SUPLJESCO</td>\n",
       "      <td>ESCO - QUANTITATIVO DE RANCHO</td>\n",
       "      <td>339030</td>\n",
       "      <td>MATERIAL DE CONSUMO</td>\n",
       "      <td>33903007</td>\n",
       "      <td>GENEROS DE ALIMENTACAO</td>\n",
       "      <td>2024NE000088</td>\n",
       "      <td>2024</td>\n",
       "      <td>2024-02-19</td>\n",
       "      <td>160129000012024NE000088</td>\n",
       "      <td>20702528000110</td>\n",
       "      <td>SUPERMERCADO BIE LTDA</td>\n",
       "      <td>MG</td>\n",
       "      <td>ANO</td>\n",
       "      <td>137</td>\n",
       "      <td>MG</td>\n",
       "      <td>1000000000</td>\n",
       "      <td>PREGAO</td>\n",
       "      <td>GLOBAL</td>\n",
       "      <td>1</td>\n",
       "      <td>PRIMARIO OBRIGATORIO</td>\n",
       "      <td>A</td>\n",
       "      <td>INICIAL (LOA)</td>\n",
       "      <td>0006</td>\n",
       "      <td>000000000000</td>\n",
       "      <td>SEM EMENDA</td>\n",
       "      <td>AV. SETE DE SETEMBRO, 628 - CENTRO, TRÊS CORAÇ...</td>\n",
       "      <td>52121</td>\n",
       "      <td>COMANDO DO EXERCITO</td>\n",
       "      <td>E6SU</td>\n",
       "      <td>PLJ</td>\n",
       "      <td>ESCO</td>\n",
       "      <td>0.00</td>\n",
       "      <td>0.00</td>\n",
       "      <td>0.00</td>\n",
       "      <td>3519.48</td>\n",
       "    </tr>\n",
       "    <tr>\n",
       "      <th>261</th>\n",
       "      <td>160129</td>\n",
       "      <td>ESA</td>\n",
       "      <td>160533</td>\n",
       "      <td>4º CGCFEX</td>\n",
       "      <td>CML</td>\n",
       "      <td>4ª RM</td>\n",
       "      <td>Três Corações</td>\n",
       "      <td>0032</td>\n",
       "      <td>212B</td>\n",
       "      <td>BENEFICIOS OBRIGATORIOS AOS SERVIDORE</td>\n",
       "      <td>160504</td>\n",
       "      <td>COEX/GESTOR</td>\n",
       "      <td>171397</td>\n",
       "      <td>E6SUPLJESCO</td>\n",
       "      <td>ESCO - QUANTITATIVO DE RANCHO</td>\n",
       "      <td>339030</td>\n",
       "      <td>MATERIAL DE CONSUMO</td>\n",
       "      <td>33903007</td>\n",
       "      <td>GENEROS DE ALIMENTACAO</td>\n",
       "      <td>2024NE000089</td>\n",
       "      <td>2024</td>\n",
       "      <td>2024-02-19</td>\n",
       "      <td>160129000012024NE000089</td>\n",
       "      <td>29455568000189</td>\n",
       "      <td>DISTRIBUIDORA VIB LTDA</td>\n",
       "      <td>MG</td>\n",
       "      <td>ANO</td>\n",
       "      <td>137</td>\n",
       "      <td>MG</td>\n",
       "      <td>1000000000</td>\n",
       "      <td>PREGAO</td>\n",
       "      <td>GLOBAL</td>\n",
       "      <td>1</td>\n",
       "      <td>PRIMARIO OBRIGATORIO</td>\n",
       "      <td>A</td>\n",
       "      <td>INICIAL (LOA)</td>\n",
       "      <td>0006</td>\n",
       "      <td>000000000000</td>\n",
       "      <td>SEM EMENDA</td>\n",
       "      <td>AV. SETE DE SETEMBRO, 628 - CENTRO, TRÊS CORAÇ...</td>\n",
       "      <td>52121</td>\n",
       "      <td>COMANDO DO EXERCITO</td>\n",
       "      <td>E6SU</td>\n",
       "      <td>PLJ</td>\n",
       "      <td>ESCO</td>\n",
       "      <td>0.00</td>\n",
       "      <td>0.00</td>\n",
       "      <td>0.00</td>\n",
       "      <td>8300.00</td>\n",
       "    </tr>\n",
       "    <tr>\n",
       "      <th>262</th>\n",
       "      <td>160129</td>\n",
       "      <td>ESA</td>\n",
       "      <td>160533</td>\n",
       "      <td>4º CGCFEX</td>\n",
       "      <td>CML</td>\n",
       "      <td>4ª RM</td>\n",
       "      <td>Três Corações</td>\n",
       "      <td>0032</td>\n",
       "      <td>212B</td>\n",
       "      <td>BENEFICIOS OBRIGATORIOS AOS SERVIDORE</td>\n",
       "      <td>160504</td>\n",
       "      <td>COEX/GESTOR</td>\n",
       "      <td>171397</td>\n",
       "      <td>E6SUPLJESCO</td>\n",
       "      <td>ESCO - QUANTITATIVO DE RANCHO</td>\n",
       "      <td>339030</td>\n",
       "      <td>MATERIAL DE CONSUMO</td>\n",
       "      <td>33903007</td>\n",
       "      <td>GENEROS DE ALIMENTACAO</td>\n",
       "      <td>2024NE000090</td>\n",
       "      <td>2024</td>\n",
       "      <td>2024-02-19</td>\n",
       "      <td>160129000012024NE000090</td>\n",
       "      <td>41471161000140</td>\n",
       "      <td>GBV ALIMENTOS LTDA</td>\n",
       "      <td>SP</td>\n",
       "      <td>ANO</td>\n",
       "      <td>137</td>\n",
       "      <td>MG</td>\n",
       "      <td>1000000000</td>\n",
       "      <td>PREGAO</td>\n",
       "      <td>GLOBAL</td>\n",
       "      <td>1</td>\n",
       "      <td>PRIMARIO OBRIGATORIO</td>\n",
       "      <td>A</td>\n",
       "      <td>INICIAL (LOA)</td>\n",
       "      <td>0006</td>\n",
       "      <td>000000000000</td>\n",
       "      <td>SEM EMENDA</td>\n",
       "      <td>AV. SETE DE SETEMBRO, 628 - CENTRO, TRÊS CORAÇ...</td>\n",
       "      <td>52121</td>\n",
       "      <td>COMANDO DO EXERCITO</td>\n",
       "      <td>E6SU</td>\n",
       "      <td>PLJ</td>\n",
       "      <td>ESCO</td>\n",
       "      <td>0.00</td>\n",
       "      <td>0.00</td>\n",
       "      <td>0.00</td>\n",
       "      <td>9090.00</td>\n",
       "    </tr>\n",
       "    <tr>\n",
       "      <th>263</th>\n",
       "      <td>160129</td>\n",
       "      <td>ESA</td>\n",
       "      <td>160533</td>\n",
       "      <td>4º CGCFEX</td>\n",
       "      <td>CML</td>\n",
       "      <td>4ª RM</td>\n",
       "      <td>Três Corações</td>\n",
       "      <td>0032</td>\n",
       "      <td>212B</td>\n",
       "      <td>BENEFICIOS OBRIGATORIOS AOS SERVIDORE</td>\n",
       "      <td>160504</td>\n",
       "      <td>COEX/GESTOR</td>\n",
       "      <td>171397</td>\n",
       "      <td>E6SUPLJESCO</td>\n",
       "      <td>ESCO - QUANTITATIVO DE RANCHO</td>\n",
       "      <td>339030</td>\n",
       "      <td>MATERIAL DE CONSUMO</td>\n",
       "      <td>33903007</td>\n",
       "      <td>GENEROS DE ALIMENTACAO</td>\n",
       "      <td>2024NE000091</td>\n",
       "      <td>2024</td>\n",
       "      <td>2024-02-19</td>\n",
       "      <td>160129000012024NE000091</td>\n",
       "      <td>48087032000100</td>\n",
       "      <td>MANANCIAL MINAS DISTRIBUIDORA DE BEBIDAS LTDA</td>\n",
       "      <td>MG</td>\n",
       "      <td>ANO</td>\n",
       "      <td>137</td>\n",
       "      <td>MG</td>\n",
       "      <td>1000000000</td>\n",
       "      <td>PREGAO</td>\n",
       "      <td>GLOBAL</td>\n",
       "      <td>1</td>\n",
       "      <td>PRIMARIO OBRIGATORIO</td>\n",
       "      <td>A</td>\n",
       "      <td>INICIAL (LOA)</td>\n",
       "      <td>0006</td>\n",
       "      <td>000000000000</td>\n",
       "      <td>SEM EMENDA</td>\n",
       "      <td>AV. SETE DE SETEMBRO, 628 - CENTRO, TRÊS CORAÇ...</td>\n",
       "      <td>52121</td>\n",
       "      <td>COMANDO DO EXERCITO</td>\n",
       "      <td>E6SU</td>\n",
       "      <td>PLJ</td>\n",
       "      <td>ESCO</td>\n",
       "      <td>0.00</td>\n",
       "      <td>0.00</td>\n",
       "      <td>0.00</td>\n",
       "      <td>518.00</td>\n",
       "    </tr>\n",
       "    <tr>\n",
       "      <th>264</th>\n",
       "      <td>160129</td>\n",
       "      <td>ESA</td>\n",
       "      <td>160533</td>\n",
       "      <td>4º CGCFEX</td>\n",
       "      <td>CML</td>\n",
       "      <td>4ª RM</td>\n",
       "      <td>Três Corações</td>\n",
       "      <td>0032</td>\n",
       "      <td>212B</td>\n",
       "      <td>BENEFICIOS OBRIGATORIOS AOS SERVIDORE</td>\n",
       "      <td>160504</td>\n",
       "      <td>COEX/GESTOR</td>\n",
       "      <td>171397</td>\n",
       "      <td>E6SUPLJESCO</td>\n",
       "      <td>ESCO - QUANTITATIVO DE RANCHO</td>\n",
       "      <td>339030</td>\n",
       "      <td>MATERIAL DE CONSUMO</td>\n",
       "      <td>33903007</td>\n",
       "      <td>GENEROS DE ALIMENTACAO</td>\n",
       "      <td>2024NE000092</td>\n",
       "      <td>2024</td>\n",
       "      <td>2024-02-19</td>\n",
       "      <td>160129000012024NE000092</td>\n",
       "      <td>20942789000107</td>\n",
       "      <td>SUKOI ALIMENTOS LTDA</td>\n",
       "      <td>MG</td>\n",
       "      <td>ANO</td>\n",
       "      <td>137</td>\n",
       "      <td>MG</td>\n",
       "      <td>1000000000</td>\n",
       "      <td>PREGAO</td>\n",
       "      <td>GLOBAL</td>\n",
       "      <td>1</td>\n",
       "      <td>PRIMARIO OBRIGATORIO</td>\n",
       "      <td>A</td>\n",
       "      <td>INICIAL (LOA)</td>\n",
       "      <td>0006</td>\n",
       "      <td>000000000000</td>\n",
       "      <td>SEM EMENDA</td>\n",
       "      <td>AV. SETE DE SETEMBRO, 628 - CENTRO, TRÊS CORAÇ...</td>\n",
       "      <td>52121</td>\n",
       "      <td>COMANDO DO EXERCITO</td>\n",
       "      <td>E6SU</td>\n",
       "      <td>PLJ</td>\n",
       "      <td>ESCO</td>\n",
       "      <td>0.00</td>\n",
       "      <td>0.00</td>\n",
       "      <td>0.00</td>\n",
       "      <td>36024.35</td>\n",
       "    </tr>\n",
       "    <tr>\n",
       "      <th>265</th>\n",
       "      <td>160129</td>\n",
       "      <td>ESA</td>\n",
       "      <td>160533</td>\n",
       "      <td>4º CGCFEX</td>\n",
       "      <td>CML</td>\n",
       "      <td>4ª RM</td>\n",
       "      <td>Três Corações</td>\n",
       "      <td>0032</td>\n",
       "      <td>212B</td>\n",
       "      <td>BENEFICIOS OBRIGATORIOS AOS SERVIDORE</td>\n",
       "      <td>160504</td>\n",
       "      <td>COEX/GESTOR</td>\n",
       "      <td>171397</td>\n",
       "      <td>E6SUPLJESCO</td>\n",
       "      <td>ESCO - QUANTITATIVO DE RANCHO</td>\n",
       "      <td>339030</td>\n",
       "      <td>MATERIAL DE CONSUMO</td>\n",
       "      <td>33903007</td>\n",
       "      <td>GENEROS DE ALIMENTACAO</td>\n",
       "      <td>2024NE000093</td>\n",
       "      <td>2024</td>\n",
       "      <td>2024-02-19</td>\n",
       "      <td>160129000012024NE000093</td>\n",
       "      <td>48085103000128</td>\n",
       "      <td>VSR DISTRIBUIDORA LTDA</td>\n",
       "      <td>MG</td>\n",
       "      <td>ANO</td>\n",
       "      <td>137</td>\n",
       "      <td>MG</td>\n",
       "      <td>1000000000</td>\n",
       "      <td>PREGAO</td>\n",
       "      <td>GLOBAL</td>\n",
       "      <td>1</td>\n",
       "      <td>PRIMARIO OBRIGATORIO</td>\n",
       "      <td>A</td>\n",
       "      <td>INICIAL (LOA)</td>\n",
       "      <td>0006</td>\n",
       "      <td>000000000000</td>\n",
       "      <td>SEM EMENDA</td>\n",
       "      <td>AV. SETE DE SETEMBRO, 628 - CENTRO, TRÊS CORAÇ...</td>\n",
       "      <td>52121</td>\n",
       "      <td>COMANDO DO EXERCITO</td>\n",
       "      <td>E6SU</td>\n",
       "      <td>PLJ</td>\n",
       "      <td>ESCO</td>\n",
       "      <td>0.00</td>\n",
       "      <td>0.00</td>\n",
       "      <td>0.00</td>\n",
       "      <td>6995.00</td>\n",
       "    </tr>\n",
       "    <tr>\n",
       "      <th>266</th>\n",
       "      <td>160129</td>\n",
       "      <td>ESA</td>\n",
       "      <td>160533</td>\n",
       "      <td>4º CGCFEX</td>\n",
       "      <td>CML</td>\n",
       "      <td>4ª RM</td>\n",
       "      <td>Três Corações</td>\n",
       "      <td>0032</td>\n",
       "      <td>212B</td>\n",
       "      <td>BENEFICIOS OBRIGATORIOS AOS SERVIDORE</td>\n",
       "      <td>160504</td>\n",
       "      <td>COEX/GESTOR</td>\n",
       "      <td>171397</td>\n",
       "      <td>E6SUPLJESCO</td>\n",
       "      <td>ESCO - QUANTITATIVO DE RANCHO</td>\n",
       "      <td>339030</td>\n",
       "      <td>MATERIAL DE CONSUMO</td>\n",
       "      <td>33903007</td>\n",
       "      <td>GENEROS DE ALIMENTACAO</td>\n",
       "      <td>2024NE000625</td>\n",
       "      <td>2024</td>\n",
       "      <td>2024-06-14</td>\n",
       "      <td>160129000012024NE000625</td>\n",
       "      <td>20942789000107</td>\n",
       "      <td>SUKOI ALIMENTOS LTDA</td>\n",
       "      <td>MG</td>\n",
       "      <td>ANO</td>\n",
       "      <td>21</td>\n",
       "      <td>MG</td>\n",
       "      <td>1000000000</td>\n",
       "      <td>PREGAO</td>\n",
       "      <td>GLOBAL</td>\n",
       "      <td>1</td>\n",
       "      <td>PRIMARIO OBRIGATORIO</td>\n",
       "      <td>A</td>\n",
       "      <td>INICIAL (LOA)</td>\n",
       "      <td>0006</td>\n",
       "      <td>000000000000</td>\n",
       "      <td>SEM EMENDA</td>\n",
       "      <td>AV. SETE DE SETEMBRO, 628 - CENTRO, TRÊS CORAÇ...</td>\n",
       "      <td>52121</td>\n",
       "      <td>COMANDO DO EXERCITO</td>\n",
       "      <td>E6SU</td>\n",
       "      <td>PLJ</td>\n",
       "      <td>ESCO</td>\n",
       "      <td>53364.10</td>\n",
       "      <td>0.00</td>\n",
       "      <td>53364.10</td>\n",
       "      <td>0.00</td>\n",
       "    </tr>\n",
       "    <tr>\n",
       "      <th>267</th>\n",
       "      <td>160129</td>\n",
       "      <td>ESA</td>\n",
       "      <td>160533</td>\n",
       "      <td>4º CGCFEX</td>\n",
       "      <td>CML</td>\n",
       "      <td>4ª RM</td>\n",
       "      <td>Três Corações</td>\n",
       "      <td>0032</td>\n",
       "      <td>212B</td>\n",
       "      <td>BENEFICIOS OBRIGATORIOS AOS SERVIDORE</td>\n",
       "      <td>160504</td>\n",
       "      <td>COEX/GESTOR</td>\n",
       "      <td>171397</td>\n",
       "      <td>E6SUPLJESCO</td>\n",
       "      <td>ESCO - QUANTITATIVO DE RANCHO</td>\n",
       "      <td>339030</td>\n",
       "      <td>MATERIAL DE CONSUMO</td>\n",
       "      <td>33903007</td>\n",
       "      <td>GENEROS DE ALIMENTACAO</td>\n",
       "      <td>2024NE000650</td>\n",
       "      <td>2024</td>\n",
       "      <td>2024-06-19</td>\n",
       "      <td>160129000012024NE000650</td>\n",
       "      <td>18472579000150</td>\n",
       "      <td>COMSABOR COMERCIO DE ALIMENTOS LTDA</td>\n",
       "      <td>PR</td>\n",
       "      <td>ANO</td>\n",
       "      <td>16</td>\n",
       "      <td>MG</td>\n",
       "      <td>1000000000</td>\n",
       "      <td>PREGAO</td>\n",
       "      <td>GLOBAL</td>\n",
       "      <td>1</td>\n",
       "      <td>PRIMARIO OBRIGATORIO</td>\n",
       "      <td>A</td>\n",
       "      <td>INICIAL (LOA)</td>\n",
       "      <td>0006</td>\n",
       "      <td>000000000000</td>\n",
       "      <td>SEM EMENDA</td>\n",
       "      <td>AV. SETE DE SETEMBRO, 628 - CENTRO, TRÊS CORAÇ...</td>\n",
       "      <td>52121</td>\n",
       "      <td>COMANDO DO EXERCITO</td>\n",
       "      <td>E6SU</td>\n",
       "      <td>PLJ</td>\n",
       "      <td>ESCO</td>\n",
       "      <td>27317.00</td>\n",
       "      <td>0.00</td>\n",
       "      <td>27317.00</td>\n",
       "      <td>0.00</td>\n",
       "    </tr>\n",
       "    <tr>\n",
       "      <th>268</th>\n",
       "      <td>160129</td>\n",
       "      <td>ESA</td>\n",
       "      <td>160533</td>\n",
       "      <td>4º CGCFEX</td>\n",
       "      <td>CML</td>\n",
       "      <td>4ª RM</td>\n",
       "      <td>Três Corações</td>\n",
       "      <td>0032</td>\n",
       "      <td>212B</td>\n",
       "      <td>BENEFICIOS OBRIGATORIOS AOS SERVIDORE</td>\n",
       "      <td>160504</td>\n",
       "      <td>COEX/GESTOR</td>\n",
       "      <td>171397</td>\n",
       "      <td>E6SUPLJESCO</td>\n",
       "      <td>ESCO - QUANTITATIVO DE RANCHO</td>\n",
       "      <td>339030</td>\n",
       "      <td>MATERIAL DE CONSUMO</td>\n",
       "      <td>33903007</td>\n",
       "      <td>GENEROS DE ALIMENTACAO</td>\n",
       "      <td>2024NE000652</td>\n",
       "      <td>2024</td>\n",
       "      <td>2024-06-19</td>\n",
       "      <td>160129000012024NE000652</td>\n",
       "      <td>09294294000186</td>\n",
       "      <td>PROVER ALIMENTOS LTDA</td>\n",
       "      <td>MG</td>\n",
       "      <td>ANO</td>\n",
       "      <td>16</td>\n",
       "      <td>MG</td>\n",
       "      <td>1000000000</td>\n",
       "      <td>PREGAO</td>\n",
       "      <td>GLOBAL</td>\n",
       "      <td>1</td>\n",
       "      <td>PRIMARIO OBRIGATORIO</td>\n",
       "      <td>A</td>\n",
       "      <td>INICIAL (LOA)</td>\n",
       "      <td>0006</td>\n",
       "      <td>000000000000</td>\n",
       "      <td>SEM EMENDA</td>\n",
       "      <td>AV. SETE DE SETEMBRO, 628 - CENTRO, TRÊS CORAÇ...</td>\n",
       "      <td>52121</td>\n",
       "      <td>COMANDO DO EXERCITO</td>\n",
       "      <td>E6SU</td>\n",
       "      <td>PLJ</td>\n",
       "      <td>ESCO</td>\n",
       "      <td>658.00</td>\n",
       "      <td>0.00</td>\n",
       "      <td>658.00</td>\n",
       "      <td>0.00</td>\n",
       "    </tr>\n",
       "    <tr>\n",
       "      <th>270</th>\n",
       "      <td>160129</td>\n",
       "      <td>ESA</td>\n",
       "      <td>160533</td>\n",
       "      <td>4º CGCFEX</td>\n",
       "      <td>CML</td>\n",
       "      <td>4ª RM</td>\n",
       "      <td>Três Corações</td>\n",
       "      <td>0032</td>\n",
       "      <td>2865</td>\n",
       "      <td>SUPRIMENTO DE FARDAMENTO</td>\n",
       "      <td>160504</td>\n",
       "      <td>COEX/GESTOR</td>\n",
       "      <td>171388</td>\n",
       "      <td>E6MIPLJBIDS</td>\n",
       "      <td>MATERIAL DE INTENDÊNCIA</td>\n",
       "      <td>339030</td>\n",
       "      <td>MATERIAL DE CONSUMO</td>\n",
       "      <td>33903050</td>\n",
       "      <td>BANDEIRAS, FLAMULAS E INSIGNIAS</td>\n",
       "      <td>2024NE000587</td>\n",
       "      <td>2024</td>\n",
       "      <td>2024-06-10</td>\n",
       "      <td>160129000012024NE000587</td>\n",
       "      <td>08538090000180</td>\n",
       "      <td>RODISTON CORREIA DE SOUZA &amp; CIA LTDA</td>\n",
       "      <td>GO</td>\n",
       "      <td>ANO</td>\n",
       "      <td>25</td>\n",
       "      <td>MG</td>\n",
       "      <td>1000000000</td>\n",
       "      <td>PREGAO</td>\n",
       "      <td>GLOBAL</td>\n",
       "      <td>1</td>\n",
       "      <td>PRIMARIO OBRIGATORIO</td>\n",
       "      <td>A</td>\n",
       "      <td>INICIAL (LOA)</td>\n",
       "      <td>0000</td>\n",
       "      <td>000000000000</td>\n",
       "      <td>SEM EMENDA</td>\n",
       "      <td>ESCOLA DE SARGENTOS DAS ARMAS</td>\n",
       "      <td>52121</td>\n",
       "      <td>COMANDO DO EXERCITO</td>\n",
       "      <td>E6MI</td>\n",
       "      <td>PLJ</td>\n",
       "      <td>BIDS</td>\n",
       "      <td>10783.00</td>\n",
       "      <td>0.00</td>\n",
       "      <td>10783.00</td>\n",
       "      <td>0.00</td>\n",
       "    </tr>\n",
       "    <tr>\n",
       "      <th>271</th>\n",
       "      <td>160129</td>\n",
       "      <td>ESA</td>\n",
       "      <td>160533</td>\n",
       "      <td>4º CGCFEX</td>\n",
       "      <td>CML</td>\n",
       "      <td>4ª RM</td>\n",
       "      <td>Três Corações</td>\n",
       "      <td>0032</td>\n",
       "      <td>2865</td>\n",
       "      <td>SUPRIMENTO DE FARDAMENTO</td>\n",
       "      <td>160504</td>\n",
       "      <td>COEX/GESTOR</td>\n",
       "      <td>171388</td>\n",
       "      <td>E6MIPLJBIDS</td>\n",
       "      <td>MATERIAL DE INTENDÊNCIA</td>\n",
       "      <td>339039</td>\n",
       "      <td>OUTROS SERVICOS DE TERCEIROS - PESSOA JURIDICA</td>\n",
       "      <td>33903970</td>\n",
       "      <td>CONFECCAO DE UNIFORMES, BANDEIRAS E FLAMULAS</td>\n",
       "      <td>2024NE000232</td>\n",
       "      <td>2024</td>\n",
       "      <td>2024-03-05</td>\n",
       "      <td>160129000012024NE000232</td>\n",
       "      <td>02338743000100</td>\n",
       "      <td>BAT BOOT LTDA</td>\n",
       "      <td>MG</td>\n",
       "      <td>ANO</td>\n",
       "      <td>122</td>\n",
       "      <td>MG</td>\n",
       "      <td>1000000000</td>\n",
       "      <td>DISPENSA DE LICITACAO</td>\n",
       "      <td>GLOBAL</td>\n",
       "      <td>1</td>\n",
       "      <td>PRIMARIO OBRIGATORIO</td>\n",
       "      <td>A</td>\n",
       "      <td>INICIAL (LOA)</td>\n",
       "      <td>0000</td>\n",
       "      <td>000000000000</td>\n",
       "      <td>SEM EMENDA</td>\n",
       "      <td>ESCOLA DE SARGENTOS DAS ARMAS</td>\n",
       "      <td>52121</td>\n",
       "      <td>COMANDO DO EXERCITO</td>\n",
       "      <td>E6MI</td>\n",
       "      <td>PLJ</td>\n",
       "      <td>BIDS</td>\n",
       "      <td>0.00</td>\n",
       "      <td>0.00</td>\n",
       "      <td>0.00</td>\n",
       "      <td>11970.00</td>\n",
       "    </tr>\n",
       "    <tr>\n",
       "      <th>272</th>\n",
       "      <td>160129</td>\n",
       "      <td>ESA</td>\n",
       "      <td>160533</td>\n",
       "      <td>4º CGCFEX</td>\n",
       "      <td>CML</td>\n",
       "      <td>4ª RM</td>\n",
       "      <td>Três Corações</td>\n",
       "      <td>0032</td>\n",
       "      <td>2865</td>\n",
       "      <td>SUPRIMENTO DE FARDAMENTO</td>\n",
       "      <td>160504</td>\n",
       "      <td>COEX/GESTOR</td>\n",
       "      <td>171388</td>\n",
       "      <td>E6MIPLJUESC</td>\n",
       "      <td>MATERIAL DE INTENDÊNCIA</td>\n",
       "      <td>339030</td>\n",
       "      <td>MATERIAL DE CONSUMO</td>\n",
       "      <td>33903023</td>\n",
       "      <td>UNIFORMES, TECIDOS E AVIAMENTOS</td>\n",
       "      <td>2024NE000027</td>\n",
       "      <td>2024</td>\n",
       "      <td>2024-01-31</td>\n",
       "      <td>160129000012024NE000027</td>\n",
       "      <td>02235079000165</td>\n",
       "      <td>ALFAIATARIA SAO LUCAS DO GESA LTDA</td>\n",
       "      <td>RJ</td>\n",
       "      <td>ANO</td>\n",
       "      <td>156</td>\n",
       "      <td>MG</td>\n",
       "      <td>1000000000</td>\n",
       "      <td>PREGAO</td>\n",
       "      <td>ORDINARIO</td>\n",
       "      <td>1</td>\n",
       "      <td>PRIMARIO OBRIGATORIO</td>\n",
       "      <td>A</td>\n",
       "      <td>INICIAL (LOA)</td>\n",
       "      <td>0000</td>\n",
       "      <td>000000000000</td>\n",
       "      <td>SEM EMENDA</td>\n",
       "      <td>ESCOLA DE SARGENTOS DAS ARMAS</td>\n",
       "      <td>52121</td>\n",
       "      <td>COMANDO DO EXERCITO</td>\n",
       "      <td>E6MI</td>\n",
       "      <td>PLJ</td>\n",
       "      <td>UESC</td>\n",
       "      <td>47100.00</td>\n",
       "      <td>0.00</td>\n",
       "      <td>47100.00</td>\n",
       "      <td>0.00</td>\n",
       "    </tr>\n",
       "    <tr>\n",
       "      <th>273</th>\n",
       "      <td>160129</td>\n",
       "      <td>ESA</td>\n",
       "      <td>160533</td>\n",
       "      <td>4º CGCFEX</td>\n",
       "      <td>CML</td>\n",
       "      <td>4ª RM</td>\n",
       "      <td>Três Corações</td>\n",
       "      <td>0032</td>\n",
       "      <td>2865</td>\n",
       "      <td>SUPRIMENTO DE FARDAMENTO</td>\n",
       "      <td>160504</td>\n",
       "      <td>COEX/GESTOR</td>\n",
       "      <td>171388</td>\n",
       "      <td>E6MIPLJUESC</td>\n",
       "      <td>MATERIAL DE INTENDÊNCIA</td>\n",
       "      <td>339030</td>\n",
       "      <td>MATERIAL DE CONSUMO</td>\n",
       "      <td>33903023</td>\n",
       "      <td>UNIFORMES, TECIDOS E AVIAMENTOS</td>\n",
       "      <td>2024NE000028</td>\n",
       "      <td>2024</td>\n",
       "      <td>2024-01-31</td>\n",
       "      <td>160129000012024NE000028</td>\n",
       "      <td>01342660000113</td>\n",
       "      <td>LIMA DIAS ROUPAS E ACESSORIOS LTDA</td>\n",
       "      <td>DF</td>\n",
       "      <td>ANO</td>\n",
       "      <td>156</td>\n",
       "      <td>MG</td>\n",
       "      <td>1000000000</td>\n",
       "      <td>PREGAO</td>\n",
       "      <td>ORDINARIO</td>\n",
       "      <td>1</td>\n",
       "      <td>PRIMARIO OBRIGATORIO</td>\n",
       "      <td>A</td>\n",
       "      <td>INICIAL (LOA)</td>\n",
       "      <td>0000</td>\n",
       "      <td>000000000000</td>\n",
       "      <td>SEM EMENDA</td>\n",
       "      <td>ESCOLA DE SARGENTOS DAS ARMAS</td>\n",
       "      <td>52121</td>\n",
       "      <td>COMANDO DO EXERCITO</td>\n",
       "      <td>E6MI</td>\n",
       "      <td>PLJ</td>\n",
       "      <td>UESC</td>\n",
       "      <td>0.00</td>\n",
       "      <td>0.00</td>\n",
       "      <td>0.00</td>\n",
       "      <td>5370.00</td>\n",
       "    </tr>\n",
       "    <tr>\n",
       "      <th>274</th>\n",
       "      <td>160129</td>\n",
       "      <td>ESA</td>\n",
       "      <td>160533</td>\n",
       "      <td>4º CGCFEX</td>\n",
       "      <td>CML</td>\n",
       "      <td>4ª RM</td>\n",
       "      <td>Três Corações</td>\n",
       "      <td>0032</td>\n",
       "      <td>2865</td>\n",
       "      <td>SUPRIMENTO DE FARDAMENTO</td>\n",
       "      <td>160504</td>\n",
       "      <td>COEX/GESTOR</td>\n",
       "      <td>171388</td>\n",
       "      <td>E6MIPLJUESC</td>\n",
       "      <td>MATERIAL DE INTENDÊNCIA</td>\n",
       "      <td>339030</td>\n",
       "      <td>MATERIAL DE CONSUMO</td>\n",
       "      <td>33903023</td>\n",
       "      <td>UNIFORMES, TECIDOS E AVIAMENTOS</td>\n",
       "      <td>2024NE000029</td>\n",
       "      <td>2024</td>\n",
       "      <td>2024-01-31</td>\n",
       "      <td>160129000012024NE000029</td>\n",
       "      <td>19037262000159</td>\n",
       "      <td>ORMITAL COMERCIO E SERVICOS . LTDA</td>\n",
       "      <td>RJ</td>\n",
       "      <td>ANO</td>\n",
       "      <td>156</td>\n",
       "      <td>MG</td>\n",
       "      <td>1000000000</td>\n",
       "      <td>PREGAO</td>\n",
       "      <td>ORDINARIO</td>\n",
       "      <td>1</td>\n",
       "      <td>PRIMARIO OBRIGATORIO</td>\n",
       "      <td>A</td>\n",
       "      <td>INICIAL (LOA)</td>\n",
       "      <td>0000</td>\n",
       "      <td>000000000000</td>\n",
       "      <td>SEM EMENDA</td>\n",
       "      <td>ESCOLA DE SARGENTOS DAS ARMAS</td>\n",
       "      <td>52121</td>\n",
       "      <td>COMANDO DO EXERCITO</td>\n",
       "      <td>E6MI</td>\n",
       "      <td>PLJ</td>\n",
       "      <td>UESC</td>\n",
       "      <td>0.00</td>\n",
       "      <td>0.00</td>\n",
       "      <td>0.00</td>\n",
       "      <td>747.00</td>\n",
       "    </tr>\n",
       "    <tr>\n",
       "      <th>275</th>\n",
       "      <td>160129</td>\n",
       "      <td>ESA</td>\n",
       "      <td>160533</td>\n",
       "      <td>4º CGCFEX</td>\n",
       "      <td>CML</td>\n",
       "      <td>4ª RM</td>\n",
       "      <td>Três Corações</td>\n",
       "      <td>0032</td>\n",
       "      <td>2865</td>\n",
       "      <td>SUPRIMENTO DE FARDAMENTO</td>\n",
       "      <td>160504</td>\n",
       "      <td>COEX/GESTOR</td>\n",
       "      <td>171388</td>\n",
       "      <td>E6MIPLJUESC</td>\n",
       "      <td>MATERIAL DE INTENDÊNCIA</td>\n",
       "      <td>339030</td>\n",
       "      <td>MATERIAL DE CONSUMO</td>\n",
       "      <td>33903023</td>\n",
       "      <td>UNIFORMES, TECIDOS E AVIAMENTOS</td>\n",
       "      <td>2024NE000030</td>\n",
       "      <td>2024</td>\n",
       "      <td>2024-01-31</td>\n",
       "      <td>160129000012024NE000030</td>\n",
       "      <td>30775478000154</td>\n",
       "      <td>AKILA PRIME COMERCIO E SERVICOS LTDA</td>\n",
       "      <td>RJ</td>\n",
       "      <td>ANO</td>\n",
       "      <td>156</td>\n",
       "      <td>MG</td>\n",
       "      <td>1000000000</td>\n",
       "      <td>PREGAO</td>\n",
       "      <td>ORDINARIO</td>\n",
       "      <td>1</td>\n",
       "      <td>PRIMARIO OBRIGATORIO</td>\n",
       "      <td>A</td>\n",
       "      <td>INICIAL (LOA)</td>\n",
       "      <td>0000</td>\n",
       "      <td>000000000000</td>\n",
       "      <td>SEM EMENDA</td>\n",
       "      <td>ESCOLA DE SARGENTOS DAS ARMAS</td>\n",
       "      <td>52121</td>\n",
       "      <td>COMANDO DO EXERCITO</td>\n",
       "      <td>E6MI</td>\n",
       "      <td>PLJ</td>\n",
       "      <td>UESC</td>\n",
       "      <td>6660.00</td>\n",
       "      <td>0.00</td>\n",
       "      <td>6660.00</td>\n",
       "      <td>0.00</td>\n",
       "    </tr>\n",
       "    <tr>\n",
       "      <th>276</th>\n",
       "      <td>160129</td>\n",
       "      <td>ESA</td>\n",
       "      <td>160533</td>\n",
       "      <td>4º CGCFEX</td>\n",
       "      <td>CML</td>\n",
       "      <td>4ª RM</td>\n",
       "      <td>Três Corações</td>\n",
       "      <td>0032</td>\n",
       "      <td>2865</td>\n",
       "      <td>SUPRIMENTO DE FARDAMENTO</td>\n",
       "      <td>160504</td>\n",
       "      <td>COEX/GESTOR</td>\n",
       "      <td>171388</td>\n",
       "      <td>E6MIPLJUESC</td>\n",
       "      <td>MATERIAL DE INTENDÊNCIA</td>\n",
       "      <td>339030</td>\n",
       "      <td>MATERIAL DE CONSUMO</td>\n",
       "      <td>33903023</td>\n",
       "      <td>UNIFORMES, TECIDOS E AVIAMENTOS</td>\n",
       "      <td>2024NE000540</td>\n",
       "      <td>2024</td>\n",
       "      <td>2024-05-27</td>\n",
       "      <td>160129000012024NE000540</td>\n",
       "      <td>51523859000116</td>\n",
       "      <td>51.523.859 JULIA ISABELLY DE SOUZA MARQUES</td>\n",
       "      <td>DF</td>\n",
       "      <td>ANO</td>\n",
       "      <td>39</td>\n",
       "      <td>MG</td>\n",
       "      <td>1000000000</td>\n",
       "      <td>DISPENSA DE LICITACAO</td>\n",
       "      <td>GLOBAL</td>\n",
       "      <td>1</td>\n",
       "      <td>PRIMARIO OBRIGATORIO</td>\n",
       "      <td>A</td>\n",
       "      <td>INICIAL (LOA)</td>\n",
       "      <td>0000</td>\n",
       "      <td>000000000000</td>\n",
       "      <td>SEM EMENDA</td>\n",
       "      <td>ESCOLA DE SARGENTOS DAS ARMAS</td>\n",
       "      <td>52121</td>\n",
       "      <td>COMANDO DO EXERCITO</td>\n",
       "      <td>E6MI</td>\n",
       "      <td>PLJ</td>\n",
       "      <td>UESC</td>\n",
       "      <td>21998.00</td>\n",
       "      <td>0.00</td>\n",
       "      <td>21998.00</td>\n",
       "      <td>0.00</td>\n",
       "    </tr>\n",
       "    <tr>\n",
       "      <th>277</th>\n",
       "      <td>160129</td>\n",
       "      <td>ESA</td>\n",
       "      <td>160533</td>\n",
       "      <td>4º CGCFEX</td>\n",
       "      <td>CML</td>\n",
       "      <td>4ª RM</td>\n",
       "      <td>Três Corações</td>\n",
       "      <td>0032</td>\n",
       "      <td>2865</td>\n",
       "      <td>SUPRIMENTO DE FARDAMENTO</td>\n",
       "      <td>160504</td>\n",
       "      <td>COEX/GESTOR</td>\n",
       "      <td>171388</td>\n",
       "      <td>E6MIPLJUHIS</td>\n",
       "      <td>MATERIAL DE INTENDÊNCIA</td>\n",
       "      <td>339030</td>\n",
       "      <td>MATERIAL DE CONSUMO</td>\n",
       "      <td>33903023</td>\n",
       "      <td>UNIFORMES, TECIDOS E AVIAMENTOS</td>\n",
       "      <td>2024NE000031</td>\n",
       "      <td>2024</td>\n",
       "      <td>2024-01-31</td>\n",
       "      <td>160129000012024NE000031</td>\n",
       "      <td>35594518000185</td>\n",
       "      <td>MRV COMERCIAL LTDA</td>\n",
       "      <td>MG</td>\n",
       "      <td>ANO</td>\n",
       "      <td>156</td>\n",
       "      <td>MG</td>\n",
       "      <td>1000000000</td>\n",
       "      <td>PREGAO</td>\n",
       "      <td>ORDINARIO</td>\n",
       "      <td>1</td>\n",
       "      <td>PRIMARIO OBRIGATORIO</td>\n",
       "      <td>A</td>\n",
       "      <td>INICIAL (LOA)</td>\n",
       "      <td>0000</td>\n",
       "      <td>000000000000</td>\n",
       "      <td>SEM EMENDA</td>\n",
       "      <td>ESCOLA DE SARGENTOS DAS ARMAS</td>\n",
       "      <td>52121</td>\n",
       "      <td>COMANDO DO EXERCITO</td>\n",
       "      <td>E6MI</td>\n",
       "      <td>PLJ</td>\n",
       "      <td>UHIS</td>\n",
       "      <td>0.00</td>\n",
       "      <td>0.00</td>\n",
       "      <td>0.00</td>\n",
       "      <td>19799.00</td>\n",
       "    </tr>\n",
       "    <tr>\n",
       "      <th>343</th>\n",
       "      <td>160129</td>\n",
       "      <td>ESA</td>\n",
       "      <td>160533</td>\n",
       "      <td>4º CGCFEX</td>\n",
       "      <td>CML</td>\n",
       "      <td>4ª RM</td>\n",
       "      <td>Três Corações</td>\n",
       "      <td>6012</td>\n",
       "      <td>21A0</td>\n",
       "      <td>APRESTAMENTO DAS FORCAS</td>\n",
       "      <td>160504</td>\n",
       "      <td>COEX/GESTOR</td>\n",
       "      <td>171465</td>\n",
       "      <td>E6MISOLFM20</td>\n",
       "      <td>MATERIAL DE INTENDÊNCIA</td>\n",
       "      <td>449052</td>\n",
       "      <td>EQUIPAMENTOS E MATERIAL PERMANENTE</td>\n",
       "      <td>44905242</td>\n",
       "      <td>MOBILIARIO EM GERAL</td>\n",
       "      <td>2023NE002444</td>\n",
       "      <td>2023</td>\n",
       "      <td>2023-11-29</td>\n",
       "      <td>160129000012023NE002444</td>\n",
       "      <td>22252006000199</td>\n",
       "      <td>ZEFERINA PAULINA AMALIA MULLER SCHERER LTDA</td>\n",
       "      <td>RS</td>\n",
       "      <td>RPNP</td>\n",
       "      <td>219</td>\n",
       "      <td>MG</td>\n",
       "      <td>1000000000</td>\n",
       "      <td>PREGAO</td>\n",
       "      <td>ORDINARIO</td>\n",
       "      <td>2</td>\n",
       "      <td>PRIMARIO DISCRICIONARIO</td>\n",
       "      <td>A</td>\n",
       "      <td>INICIAL (LOA)</td>\n",
       "      <td>0004</td>\n",
       "      <td>000000000000</td>\n",
       "      <td>SEM EMENDA</td>\n",
       "      <td>ESCOLA DE SARGENTOS DAS ARMAS  - AVENIDA SETE ...</td>\n",
       "      <td>52121</td>\n",
       "      <td>COMANDO DO EXERCITO</td>\n",
       "      <td>E6MI</td>\n",
       "      <td>SOL</td>\n",
       "      <td>FM20</td>\n",
       "      <td>0.00</td>\n",
       "      <td>0.00</td>\n",
       "      <td>0.00</td>\n",
       "      <td>229920.00</td>\n",
       "    </tr>\n",
       "    <tr>\n",
       "      <th>344</th>\n",
       "      <td>160129</td>\n",
       "      <td>ESA</td>\n",
       "      <td>160533</td>\n",
       "      <td>4º CGCFEX</td>\n",
       "      <td>CML</td>\n",
       "      <td>4ª RM</td>\n",
       "      <td>Três Corações</td>\n",
       "      <td>6012</td>\n",
       "      <td>21A0</td>\n",
       "      <td>APRESTAMENTO DAS FORCAS</td>\n",
       "      <td>160504</td>\n",
       "      <td>COEX/GESTOR</td>\n",
       "      <td>171470</td>\n",
       "      <td>E5MMSUNCOMP</td>\n",
       "      <td>AQS SUP SV MNT VTR NAO BLD</td>\n",
       "      <td>339030</td>\n",
       "      <td>MATERIAL DE CONSUMO</td>\n",
       "      <td>33903039</td>\n",
       "      <td>MATERIAL P/ MANUTENCAO DE VEICULOS</td>\n",
       "      <td>2023NE001603</td>\n",
       "      <td>2023</td>\n",
       "      <td>2023-11-21</td>\n",
       "      <td>160129000012023NE001603</td>\n",
       "      <td>06307463000187</td>\n",
       "      <td>GUSMAO E SILVA AUTOPECAS E SERVICOS LTDA</td>\n",
       "      <td>RJ</td>\n",
       "      <td>RPNP</td>\n",
       "      <td>227</td>\n",
       "      <td>MG</td>\n",
       "      <td>1000000000</td>\n",
       "      <td>PREGAO</td>\n",
       "      <td>ORDINARIO</td>\n",
       "      <td>2</td>\n",
       "      <td>PRIMARIO DISCRICIONARIO</td>\n",
       "      <td>A</td>\n",
       "      <td>INICIAL (LOA)</td>\n",
       "      <td>0005</td>\n",
       "      <td>000000000000</td>\n",
       "      <td>SEM EMENDA</td>\n",
       "      <td>ESCOLA DE SARGENTOS DAS ARMAS</td>\n",
       "      <td>52121</td>\n",
       "      <td>COMANDO DO EXERCITO</td>\n",
       "      <td>E5MM</td>\n",
       "      <td>SUN</td>\n",
       "      <td>COMP</td>\n",
       "      <td>0.00</td>\n",
       "      <td>0.00</td>\n",
       "      <td>0.00</td>\n",
       "      <td>7999.64</td>\n",
       "    </tr>\n",
       "    <tr>\n",
       "      <th>345</th>\n",
       "      <td>160129</td>\n",
       "      <td>ESA</td>\n",
       "      <td>160533</td>\n",
       "      <td>4º CGCFEX</td>\n",
       "      <td>CML</td>\n",
       "      <td>4ª RM</td>\n",
       "      <td>Três Corações</td>\n",
       "      <td>6012</td>\n",
       "      <td>21A0</td>\n",
       "      <td>APRESTAMENTO DAS FORCAS</td>\n",
       "      <td>160504</td>\n",
       "      <td>COEX/GESTOR</td>\n",
       "      <td>171470</td>\n",
       "      <td>E5MMSUNCOMP</td>\n",
       "      <td>AQS SUP SV MNT VTR NAO BLD</td>\n",
       "      <td>339030</td>\n",
       "      <td>MATERIAL DE CONSUMO</td>\n",
       "      <td>33903039</td>\n",
       "      <td>MATERIAL P/ MANUTENCAO DE VEICULOS</td>\n",
       "      <td>2023NE001604</td>\n",
       "      <td>2023</td>\n",
       "      <td>2023-11-21</td>\n",
       "      <td>160129000012023NE001604</td>\n",
       "      <td>58512096000157</td>\n",
       "      <td>TRATORTEC PECAS E SERVICOS PARA TRATORES LTDA</td>\n",
       "      <td>SP</td>\n",
       "      <td>RPNP</td>\n",
       "      <td>227</td>\n",
       "      <td>MG</td>\n",
       "      <td>1000000000</td>\n",
       "      <td>PREGAO</td>\n",
       "      <td>ORDINARIO</td>\n",
       "      <td>2</td>\n",
       "      <td>PRIMARIO DISCRICIONARIO</td>\n",
       "      <td>A</td>\n",
       "      <td>INICIAL (LOA)</td>\n",
       "      <td>0005</td>\n",
       "      <td>000000000000</td>\n",
       "      <td>SEM EMENDA</td>\n",
       "      <td>ESCOLA DE SARGENTOS DAS ARMAS</td>\n",
       "      <td>52121</td>\n",
       "      <td>COMANDO DO EXERCITO</td>\n",
       "      <td>E5MM</td>\n",
       "      <td>SUN</td>\n",
       "      <td>COMP</td>\n",
       "      <td>0.00</td>\n",
       "      <td>0.00</td>\n",
       "      <td>0.00</td>\n",
       "      <td>14999.88</td>\n",
       "    </tr>\n",
       "    <tr>\n",
       "      <th>346</th>\n",
       "      <td>160129</td>\n",
       "      <td>ESA</td>\n",
       "      <td>160533</td>\n",
       "      <td>4º CGCFEX</td>\n",
       "      <td>CML</td>\n",
       "      <td>4ª RM</td>\n",
       "      <td>Três Corações</td>\n",
       "      <td>6012</td>\n",
       "      <td>21A0</td>\n",
       "      <td>APRESTAMENTO DAS FORCAS</td>\n",
       "      <td>160504</td>\n",
       "      <td>COEX/GESTOR</td>\n",
       "      <td>171470</td>\n",
       "      <td>E5MMSUNCOMP</td>\n",
       "      <td>AQS SUP SV MNT VTR NAO BLD</td>\n",
       "      <td>339030</td>\n",
       "      <td>MATERIAL DE CONSUMO</td>\n",
       "      <td>33903039</td>\n",
       "      <td>MATERIAL P/ MANUTENCAO DE VEICULOS</td>\n",
       "      <td>2023NE001605</td>\n",
       "      <td>2023</td>\n",
       "      <td>2023-11-21</td>\n",
       "      <td>160129000012023NE001605</td>\n",
       "      <td>24377448000197</td>\n",
       "      <td>UNITY COMERCIO E SERVICOS AUTOMOTIVOS LTDA</td>\n",
       "      <td>DF</td>\n",
       "      <td>RPNP</td>\n",
       "      <td>227</td>\n",
       "      <td>MG</td>\n",
       "      <td>1000000000</td>\n",
       "      <td>PREGAO</td>\n",
       "      <td>ORDINARIO</td>\n",
       "      <td>2</td>\n",
       "      <td>PRIMARIO DISCRICIONARIO</td>\n",
       "      <td>A</td>\n",
       "      <td>INICIAL (LOA)</td>\n",
       "      <td>0005</td>\n",
       "      <td>000000000000</td>\n",
       "      <td>SEM EMENDA</td>\n",
       "      <td>ESCOLA DE SARGENTOS DAS ARMAS</td>\n",
       "      <td>52121</td>\n",
       "      <td>COMANDO DO EXERCITO</td>\n",
       "      <td>E5MM</td>\n",
       "      <td>SUN</td>\n",
       "      <td>COMP</td>\n",
       "      <td>0.00</td>\n",
       "      <td>0.00</td>\n",
       "      <td>0.00</td>\n",
       "      <td>5999.76</td>\n",
       "    </tr>\n",
       "    <tr>\n",
       "      <th>347</th>\n",
       "      <td>160129</td>\n",
       "      <td>ESA</td>\n",
       "      <td>160533</td>\n",
       "      <td>4º CGCFEX</td>\n",
       "      <td>CML</td>\n",
       "      <td>4ª RM</td>\n",
       "      <td>Três Corações</td>\n",
       "      <td>6012</td>\n",
       "      <td>21A0</td>\n",
       "      <td>APRESTAMENTO DAS FORCAS</td>\n",
       "      <td>160504</td>\n",
       "      <td>COEX/GESTOR</td>\n",
       "      <td>171470</td>\n",
       "      <td>E5MMSUNCOMP</td>\n",
       "      <td>AQS SUP SV MNT VTR NAO BLD</td>\n",
       "      <td>339030</td>\n",
       "      <td>MATERIAL DE CONSUMO</td>\n",
       "      <td>33903039</td>\n",
       "      <td>MATERIAL P/ MANUTENCAO DE VEICULOS</td>\n",
       "      <td>2023NE001764</td>\n",
       "      <td>2023</td>\n",
       "      <td>2023-11-22</td>\n",
       "      <td>160129000012023NE001764</td>\n",
       "      <td>58512096000157</td>\n",
       "      <td>TRATORTEC PECAS E SERVICOS PARA TRATORES LTDA</td>\n",
       "      <td>SP</td>\n",
       "      <td>RPNP</td>\n",
       "      <td>226</td>\n",
       "      <td>MG</td>\n",
       "      <td>1000000000</td>\n",
       "      <td>PREGAO</td>\n",
       "      <td>ORDINARIO</td>\n",
       "      <td>2</td>\n",
       "      <td>PRIMARIO DISCRICIONARIO</td>\n",
       "      <td>A</td>\n",
       "      <td>INICIAL (LOA)</td>\n",
       "      <td>0005</td>\n",
       "      <td>000000000000</td>\n",
       "      <td>SEM EMENDA</td>\n",
       "      <td>ESCOLA DE SARGENTOS DAS ARMAS</td>\n",
       "      <td>52121</td>\n",
       "      <td>COMANDO DO EXERCITO</td>\n",
       "      <td>E5MM</td>\n",
       "      <td>SUN</td>\n",
       "      <td>COMP</td>\n",
       "      <td>0.00</td>\n",
       "      <td>0.00</td>\n",
       "      <td>0.00</td>\n",
       "      <td>19999.70</td>\n",
       "    </tr>\n",
       "    <tr>\n",
       "      <th>348</th>\n",
       "      <td>160129</td>\n",
       "      <td>ESA</td>\n",
       "      <td>160533</td>\n",
       "      <td>4º CGCFEX</td>\n",
       "      <td>CML</td>\n",
       "      <td>4ª RM</td>\n",
       "      <td>Três Corações</td>\n",
       "      <td>6012</td>\n",
       "      <td>21A0</td>\n",
       "      <td>APRESTAMENTO DAS FORCAS</td>\n",
       "      <td>160504</td>\n",
       "      <td>COEX/GESTOR</td>\n",
       "      <td>193910</td>\n",
       "      <td>E6RVPLJMTOE</td>\n",
       "      <td>MEDIDAS PROFILÁT SAÚDE EQUINOS</td>\n",
       "      <td>339039</td>\n",
       "      <td>OUTROS SERVICOS DE TERCEIROS - PESSOA JURIDICA</td>\n",
       "      <td>33903950</td>\n",
       "      <td>SERV.MEDICO-HOSPITAL.,ODONTOL.E LABORATORIAIS</td>\n",
       "      <td>2023NE000377</td>\n",
       "      <td>2023</td>\n",
       "      <td>2023-04-14</td>\n",
       "      <td>160129000012023NE000377</td>\n",
       "      <td>08593332000139</td>\n",
       "      <td>EQUALLI SERVICOS VETERINARIOS LTDA</td>\n",
       "      <td>SP</td>\n",
       "      <td>RPNP</td>\n",
       "      <td>448</td>\n",
       "      <td>MG</td>\n",
       "      <td>1000000000</td>\n",
       "      <td>DISPENSA DE LICITACAO</td>\n",
       "      <td>ORDINARIO</td>\n",
       "      <td>2</td>\n",
       "      <td>PRIMARIO DISCRICIONARIO</td>\n",
       "      <td>A</td>\n",
       "      <td>INICIAL (LOA)</td>\n",
       "      <td>000G</td>\n",
       "      <td>000000000000</td>\n",
       "      <td>SEM EMENDA</td>\n",
       "      <td>ESCOLA DE SARGENTOS DAS ARMAS  - AVENIDA SETE ...</td>\n",
       "      <td>52121</td>\n",
       "      <td>COMANDO DO EXERCITO</td>\n",
       "      <td>E6RV</td>\n",
       "      <td>PLJ</td>\n",
       "      <td>MTOE</td>\n",
       "      <td>0.00</td>\n",
       "      <td>45.36</td>\n",
       "      <td>45.36</td>\n",
       "      <td>434.64</td>\n",
       "    </tr>\n",
       "    <tr>\n",
       "      <th>349</th>\n",
       "      <td>160129</td>\n",
       "      <td>ESA</td>\n",
       "      <td>160533</td>\n",
       "      <td>4º CGCFEX</td>\n",
       "      <td>CML</td>\n",
       "      <td>4ª RM</td>\n",
       "      <td>Três Corações</td>\n",
       "      <td>6012</td>\n",
       "      <td>21A0</td>\n",
       "      <td>APRESTAMENTO DAS FORCAS</td>\n",
       "      <td>160504</td>\n",
       "      <td>COEX/GESTOR</td>\n",
       "      <td>193910</td>\n",
       "      <td>E6RVPLJMTOE</td>\n",
       "      <td>MEDIDAS PROFILÁT SAÚDE EQUINOS</td>\n",
       "      <td>339039</td>\n",
       "      <td>OUTROS SERVICOS DE TERCEIROS - PESSOA JURIDICA</td>\n",
       "      <td>33903950</td>\n",
       "      <td>SERV.MEDICO-HOSPITAL.,ODONTOL.E LABORATORIAIS</td>\n",
       "      <td>2023NE001092</td>\n",
       "      <td>2023</td>\n",
       "      <td>2023-08-31</td>\n",
       "      <td>160129000012023NE001092</td>\n",
       "      <td>08593332000139</td>\n",
       "      <td>EQUALLI SERVICOS VETERINARIOS LTDA</td>\n",
       "      <td>SP</td>\n",
       "      <td>RPNP</td>\n",
       "      <td>309</td>\n",
       "      <td>MG</td>\n",
       "      <td>1000000000</td>\n",
       "      <td>DISPENSA DE LICITACAO</td>\n",
       "      <td>GLOBAL</td>\n",
       "      <td>2</td>\n",
       "      <td>PRIMARIO DISCRICIONARIO</td>\n",
       "      <td>A</td>\n",
       "      <td>INICIAL (LOA)</td>\n",
       "      <td>000G</td>\n",
       "      <td>000000000000</td>\n",
       "      <td>SEM EMENDA</td>\n",
       "      <td>ESCOLA DE SARGENTOS DAS ARMAS  - AVENIDA SETE ...</td>\n",
       "      <td>52121</td>\n",
       "      <td>COMANDO DO EXERCITO</td>\n",
       "      <td>E6RV</td>\n",
       "      <td>PLJ</td>\n",
       "      <td>MTOE</td>\n",
       "      <td>600.00</td>\n",
       "      <td>177.66</td>\n",
       "      <td>777.66</td>\n",
       "      <td>1702.34</td>\n",
       "    </tr>\n",
       "    <tr>\n",
       "      <th>752</th>\n",
       "      <td>160129</td>\n",
       "      <td>ESA</td>\n",
       "      <td>160533</td>\n",
       "      <td>4º CGCFEX</td>\n",
       "      <td>CML</td>\n",
       "      <td>4ª RM</td>\n",
       "      <td>Três Corações</td>\n",
       "      <td>6112</td>\n",
       "      <td>21A0</td>\n",
       "      <td>APRESTAMENTO DAS FORCAS</td>\n",
       "      <td>160504</td>\n",
       "      <td>COEX/GESTOR</td>\n",
       "      <td>232008</td>\n",
       "      <td>E5ARPDRCOLU</td>\n",
       "      <td>DESCENTRALIZACAO DE RECURSOS ARMAMENTOS</td>\n",
       "      <td>339030</td>\n",
       "      <td>MATERIAL DE CONSUMO</td>\n",
       "      <td>33903001</td>\n",
       "      <td>COMBUSTIVEIS E LUBRIFICANTES AUTOMOTIVOS</td>\n",
       "      <td>2024NE000522</td>\n",
       "      <td>2024</td>\n",
       "      <td>2024-05-27</td>\n",
       "      <td>160129000012024NE000522</td>\n",
       "      <td>15153524000190</td>\n",
       "      <td>SANIGRAN LTDA</td>\n",
       "      <td>PR</td>\n",
       "      <td>ANO</td>\n",
       "      <td>39</td>\n",
       "      <td>MG</td>\n",
       "      <td>1000000000</td>\n",
       "      <td>PREGAO</td>\n",
       "      <td>ORDINARIO</td>\n",
       "      <td>2</td>\n",
       "      <td>PRIMARIO DISCRICIONARIO</td>\n",
       "      <td>A</td>\n",
       "      <td>INICIAL (LOA)</td>\n",
       "      <td>COMB</td>\n",
       "      <td>000000000000</td>\n",
       "      <td>SEM EMENDA</td>\n",
       "      <td>ESCOLA DE SARGENTOS DAS ARMAS - AV. SETE DE SE...</td>\n",
       "      <td>52121</td>\n",
       "      <td>COMANDO DO EXERCITO</td>\n",
       "      <td>E5AR</td>\n",
       "      <td>PDR</td>\n",
       "      <td>COLU</td>\n",
       "      <td>0.00</td>\n",
       "      <td>58.97</td>\n",
       "      <td>58.97</td>\n",
       "      <td>949.03</td>\n",
       "    </tr>\n",
       "    <tr>\n",
       "      <th>753</th>\n",
       "      <td>160129</td>\n",
       "      <td>ESA</td>\n",
       "      <td>160533</td>\n",
       "      <td>4º CGCFEX</td>\n",
       "      <td>CML</td>\n",
       "      <td>4ª RM</td>\n",
       "      <td>Três Corações</td>\n",
       "      <td>6112</td>\n",
       "      <td>21A0</td>\n",
       "      <td>APRESTAMENTO DAS FORCAS</td>\n",
       "      <td>160504</td>\n",
       "      <td>COEX/GESTOR</td>\n",
       "      <td>232046</td>\n",
       "      <td>E6RVPLJALEV</td>\n",
       "      <td>AQS DE ALMT  PARA  EQUINOS: ALFAF/AVEIA/FENO</td>\n",
       "      <td>339030</td>\n",
       "      <td>MATERIAL DE CONSUMO</td>\n",
       "      <td>33903006</td>\n",
       "      <td>ALIMENTOS PARA ANIMAIS</td>\n",
       "      <td>2024NE000633</td>\n",
       "      <td>2024</td>\n",
       "      <td>2024-06-17</td>\n",
       "      <td>160129000012024NE000633</td>\n",
       "      <td>03333999000189</td>\n",
       "      <td>CESAR AUGUSTO KIEKOW</td>\n",
       "      <td>RS</td>\n",
       "      <td>ANO</td>\n",
       "      <td>18</td>\n",
       "      <td>MG</td>\n",
       "      <td>1000000000</td>\n",
       "      <td>PREGAO</td>\n",
       "      <td>GLOBAL</td>\n",
       "      <td>2</td>\n",
       "      <td>PRIMARIO DISCRICIONARIO</td>\n",
       "      <td>A</td>\n",
       "      <td>INICIAL (LOA)</td>\n",
       "      <td>000G</td>\n",
       "      <td>000000000000</td>\n",
       "      <td>SEM EMENDA</td>\n",
       "      <td>ESCOLA DE SARGENTOS DAS ARMAS - AV. SETE DE SE...</td>\n",
       "      <td>52121</td>\n",
       "      <td>COMANDO DO EXERCITO</td>\n",
       "      <td>E6RV</td>\n",
       "      <td>PLJ</td>\n",
       "      <td>ALEV</td>\n",
       "      <td>184680.00</td>\n",
       "      <td>0.00</td>\n",
       "      <td>184680.00</td>\n",
       "      <td>0.00</td>\n",
       "    </tr>\n",
       "    <tr>\n",
       "      <th>754</th>\n",
       "      <td>160129</td>\n",
       "      <td>ESA</td>\n",
       "      <td>160533</td>\n",
       "      <td>4º CGCFEX</td>\n",
       "      <td>CML</td>\n",
       "      <td>4ª RM</td>\n",
       "      <td>Três Corações</td>\n",
       "      <td>6112</td>\n",
       "      <td>21A0</td>\n",
       "      <td>APRESTAMENTO DAS FORCAS</td>\n",
       "      <td>160504</td>\n",
       "      <td>COEX/GESTOR</td>\n",
       "      <td>232046</td>\n",
       "      <td>E6RVPLJALEV</td>\n",
       "      <td>AQS DE ALMT  PARA  EQUINOS: ALFAF/AVEIA/FENO</td>\n",
       "      <td>339030</td>\n",
       "      <td>MATERIAL DE CONSUMO</td>\n",
       "      <td>33903006</td>\n",
       "      <td>ALIMENTOS PARA ANIMAIS</td>\n",
       "      <td>2024NE000637</td>\n",
       "      <td>2024</td>\n",
       "      <td>2024-06-17</td>\n",
       "      <td>160129000012024NE000637</td>\n",
       "      <td>03333999000189</td>\n",
       "      <td>CESAR AUGUSTO KIEKOW</td>\n",
       "      <td>RS</td>\n",
       "      <td>ANO</td>\n",
       "      <td>18</td>\n",
       "      <td>MG</td>\n",
       "      <td>1000000000</td>\n",
       "      <td>PREGAO</td>\n",
       "      <td>GLOBAL</td>\n",
       "      <td>2</td>\n",
       "      <td>PRIMARIO DISCRICIONARIO</td>\n",
       "      <td>A</td>\n",
       "      <td>INICIAL (LOA)</td>\n",
       "      <td>000G</td>\n",
       "      <td>000000000000</td>\n",
       "      <td>SEM EMENDA</td>\n",
       "      <td>ESCOLA DE SARGENTOS DAS ARMAS - AV. SETE DE SE...</td>\n",
       "      <td>52121</td>\n",
       "      <td>COMANDO DO EXERCITO</td>\n",
       "      <td>E6RV</td>\n",
       "      <td>PLJ</td>\n",
       "      <td>ALEV</td>\n",
       "      <td>110808.00</td>\n",
       "      <td>0.00</td>\n",
       "      <td>110808.00</td>\n",
       "      <td>0.00</td>\n",
       "    </tr>\n",
       "    <tr>\n",
       "      <th>755</th>\n",
       "      <td>160129</td>\n",
       "      <td>ESA</td>\n",
       "      <td>160533</td>\n",
       "      <td>4º CGCFEX</td>\n",
       "      <td>CML</td>\n",
       "      <td>4ª RM</td>\n",
       "      <td>Três Corações</td>\n",
       "      <td>6112</td>\n",
       "      <td>21A0</td>\n",
       "      <td>APRESTAMENTO DAS FORCAS</td>\n",
       "      <td>160504</td>\n",
       "      <td>COEX/GESTOR</td>\n",
       "      <td>232046</td>\n",
       "      <td>E6RVPLJALIC</td>\n",
       "      <td>ALIMENTACAO PARA CANINOS.</td>\n",
       "      <td>339030</td>\n",
       "      <td>MATERIAL DE CONSUMO</td>\n",
       "      <td>33903006</td>\n",
       "      <td>ALIMENTOS PARA ANIMAIS</td>\n",
       "      <td>2024NE000233</td>\n",
       "      <td>2024</td>\n",
       "      <td>2024-03-06</td>\n",
       "      <td>160129000012024NE000233</td>\n",
       "      <td>19933130000105</td>\n",
       "      <td>PEJOTA  PET SAUDE ANIMAL LTDA</td>\n",
       "      <td>SP</td>\n",
       "      <td>ANO</td>\n",
       "      <td>121</td>\n",
       "      <td>MG</td>\n",
       "      <td>1000000000</td>\n",
       "      <td>PREGAO</td>\n",
       "      <td>GLOBAL</td>\n",
       "      <td>2</td>\n",
       "      <td>PRIMARIO DISCRICIONARIO</td>\n",
       "      <td>A</td>\n",
       "      <td>INICIAL (LOA)</td>\n",
       "      <td>000G</td>\n",
       "      <td>000000000000</td>\n",
       "      <td>SEM EMENDA</td>\n",
       "      <td>ESCOLA DE SARGENTOS DAS ARMAS - AV. SETE DE SE...</td>\n",
       "      <td>52121</td>\n",
       "      <td>COMANDO DO EXERCITO</td>\n",
       "      <td>E6RV</td>\n",
       "      <td>PLJ</td>\n",
       "      <td>ALIC</td>\n",
       "      <td>0.00</td>\n",
       "      <td>415.11</td>\n",
       "      <td>415.11</td>\n",
       "      <td>6680.79</td>\n",
       "    </tr>\n",
       "    <tr>\n",
       "      <th>756</th>\n",
       "      <td>160129</td>\n",
       "      <td>ESA</td>\n",
       "      <td>160533</td>\n",
       "      <td>4º CGCFEX</td>\n",
       "      <td>CML</td>\n",
       "      <td>4ª RM</td>\n",
       "      <td>Três Corações</td>\n",
       "      <td>6112</td>\n",
       "      <td>21A0</td>\n",
       "      <td>APRESTAMENTO DAS FORCAS</td>\n",
       "      <td>160504</td>\n",
       "      <td>COEX/GESTOR</td>\n",
       "      <td>232046</td>\n",
       "      <td>E6RVPLJALIE</td>\n",
       "      <td>ALIMENTACAO PARA EQUINOS.</td>\n",
       "      <td>339030</td>\n",
       "      <td>MATERIAL DE CONSUMO</td>\n",
       "      <td>33903006</td>\n",
       "      <td>ALIMENTOS PARA ANIMAIS</td>\n",
       "      <td>2024NE000287</td>\n",
       "      <td>2024</td>\n",
       "      <td>2024-03-19</td>\n",
       "      <td>160129000012024NE000287</td>\n",
       "      <td>31682616000113</td>\n",
       "      <td>CFJ COMERCIAL AGROPECUARIO E TRANSPORTES LTDA</td>\n",
       "      <td>RS</td>\n",
       "      <td>ANO</td>\n",
       "      <td>108</td>\n",
       "      <td>MG</td>\n",
       "      <td>1000000000</td>\n",
       "      <td>PREGAO</td>\n",
       "      <td>GLOBAL</td>\n",
       "      <td>2</td>\n",
       "      <td>PRIMARIO DISCRICIONARIO</td>\n",
       "      <td>A</td>\n",
       "      <td>INICIAL (LOA)</td>\n",
       "      <td>000G</td>\n",
       "      <td>000000000000</td>\n",
       "      <td>SEM EMENDA</td>\n",
       "      <td>ESCOLA DE SARGENTOS DAS ARMAS</td>\n",
       "      <td>52121</td>\n",
       "      <td>COMANDO DO EXERCITO</td>\n",
       "      <td>E6RV</td>\n",
       "      <td>PLJ</td>\n",
       "      <td>ALIE</td>\n",
       "      <td>0.00</td>\n",
       "      <td>0.00</td>\n",
       "      <td>0.00</td>\n",
       "      <td>39671.76</td>\n",
       "    </tr>\n",
       "    <tr>\n",
       "      <th>757</th>\n",
       "      <td>160129</td>\n",
       "      <td>ESA</td>\n",
       "      <td>160533</td>\n",
       "      <td>4º CGCFEX</td>\n",
       "      <td>CML</td>\n",
       "      <td>4ª RM</td>\n",
       "      <td>Três Corações</td>\n",
       "      <td>6112</td>\n",
       "      <td>21A0</td>\n",
       "      <td>APRESTAMENTO DAS FORCAS</td>\n",
       "      <td>160504</td>\n",
       "      <td>COEX/GESTOR</td>\n",
       "      <td>232046</td>\n",
       "      <td>E6RVPLJALIE</td>\n",
       "      <td>ALIMENTACAO PARA EQUINOS.</td>\n",
       "      <td>339030</td>\n",
       "      <td>MATERIAL DE CONSUMO</td>\n",
       "      <td>33903006</td>\n",
       "      <td>ALIMENTOS PARA ANIMAIS</td>\n",
       "      <td>2024NE000288</td>\n",
       "      <td>2024</td>\n",
       "      <td>2024-03-19</td>\n",
       "      <td>160129000012024NE000288</td>\n",
       "      <td>44429540000160</td>\n",
       "      <td>DISTRIBUIDORA ESPIRITO SANTO LTDA</td>\n",
       "      <td>ES</td>\n",
       "      <td>ANO</td>\n",
       "      <td>108</td>\n",
       "      <td>MG</td>\n",
       "      <td>1000000000</td>\n",
       "      <td>PREGAO</td>\n",
       "      <td>GLOBAL</td>\n",
       "      <td>2</td>\n",
       "      <td>PRIMARIO DISCRICIONARIO</td>\n",
       "      <td>A</td>\n",
       "      <td>INICIAL (LOA)</td>\n",
       "      <td>000G</td>\n",
       "      <td>000000000000</td>\n",
       "      <td>SEM EMENDA</td>\n",
       "      <td>ESCOLA DE SARGENTOS DAS ARMAS</td>\n",
       "      <td>52121</td>\n",
       "      <td>COMANDO DO EXERCITO</td>\n",
       "      <td>E6RV</td>\n",
       "      <td>PLJ</td>\n",
       "      <td>ALIE</td>\n",
       "      <td>0.00</td>\n",
       "      <td>24.38</td>\n",
       "      <td>24.38</td>\n",
       "      <td>392.41</td>\n",
       "    </tr>\n",
       "    <tr>\n",
       "      <th>758</th>\n",
       "      <td>160129</td>\n",
       "      <td>ESA</td>\n",
       "      <td>160533</td>\n",
       "      <td>4º CGCFEX</td>\n",
       "      <td>CML</td>\n",
       "      <td>4ª RM</td>\n",
       "      <td>Três Corações</td>\n",
       "      <td>6112</td>\n",
       "      <td>21A0</td>\n",
       "      <td>APRESTAMENTO DAS FORCAS</td>\n",
       "      <td>160504</td>\n",
       "      <td>COEX/GESTOR</td>\n",
       "      <td>232046</td>\n",
       "      <td>E6RVPLJALIE</td>\n",
       "      <td>ALIMENTACAO PARA EQUINOS.</td>\n",
       "      <td>339030</td>\n",
       "      <td>MATERIAL DE CONSUMO</td>\n",
       "      <td>33903006</td>\n",
       "      <td>ALIMENTOS PARA ANIMAIS</td>\n",
       "      <td>2024NE000290</td>\n",
       "      <td>2024</td>\n",
       "      <td>2024-03-19</td>\n",
       "      <td>160129000012024NE000290</td>\n",
       "      <td>44429540000160</td>\n",
       "      <td>DISTRIBUIDORA ESPIRITO SANTO LTDA</td>\n",
       "      <td>ES</td>\n",
       "      <td>ANO</td>\n",
       "      <td>108</td>\n",
       "      <td>MG</td>\n",
       "      <td>1000000000</td>\n",
       "      <td>PREGAO</td>\n",
       "      <td>GLOBAL</td>\n",
       "      <td>2</td>\n",
       "      <td>PRIMARIO DISCRICIONARIO</td>\n",
       "      <td>A</td>\n",
       "      <td>INICIAL (LOA)</td>\n",
       "      <td>000G</td>\n",
       "      <td>000000000000</td>\n",
       "      <td>SEM EMENDA</td>\n",
       "      <td>ESCOLA DE SARGENTOS DAS ARMAS</td>\n",
       "      <td>52121</td>\n",
       "      <td>COMANDO DO EXERCITO</td>\n",
       "      <td>E6RV</td>\n",
       "      <td>PLJ</td>\n",
       "      <td>ALIE</td>\n",
       "      <td>0.00</td>\n",
       "      <td>1692.95</td>\n",
       "      <td>1692.95</td>\n",
       "      <td>56156.45</td>\n",
       "    </tr>\n",
       "    <tr>\n",
       "      <th>759</th>\n",
       "      <td>160129</td>\n",
       "      <td>ESA</td>\n",
       "      <td>160533</td>\n",
       "      <td>4º CGCFEX</td>\n",
       "      <td>CML</td>\n",
       "      <td>4ª RM</td>\n",
       "      <td>Três Corações</td>\n",
       "      <td>6112</td>\n",
       "      <td>21A0</td>\n",
       "      <td>APRESTAMENTO DAS FORCAS</td>\n",
       "      <td>160504</td>\n",
       "      <td>COEX/GESTOR</td>\n",
       "      <td>232046</td>\n",
       "      <td>E6RVPLJALIE</td>\n",
       "      <td>ALIMENTACAO PARA EQUINOS.</td>\n",
       "      <td>339030</td>\n",
       "      <td>MATERIAL DE CONSUMO</td>\n",
       "      <td>33903006</td>\n",
       "      <td>ALIMENTOS PARA ANIMAIS</td>\n",
       "      <td>2024NE000445</td>\n",
       "      <td>2024</td>\n",
       "      <td>2024-04-25</td>\n",
       "      <td>160129000012024NE000445</td>\n",
       "      <td>14155601000188</td>\n",
       "      <td>BARROS COMERCIO DE ALIMENTOS LTDA</td>\n",
       "      <td>SP</td>\n",
       "      <td>ANO</td>\n",
       "      <td>71</td>\n",
       "      <td>MG</td>\n",
       "      <td>1000000000</td>\n",
       "      <td>PREGAO</td>\n",
       "      <td>ORDINARIO</td>\n",
       "      <td>2</td>\n",
       "      <td>PRIMARIO DISCRICIONARIO</td>\n",
       "      <td>A</td>\n",
       "      <td>INICIAL (LOA)</td>\n",
       "      <td>000G</td>\n",
       "      <td>000000000000</td>\n",
       "      <td>SEM EMENDA</td>\n",
       "      <td>ESCOLA DE SARGENTOS DAS ARMAS</td>\n",
       "      <td>52121</td>\n",
       "      <td>COMANDO DO EXERCITO</td>\n",
       "      <td>E6RV</td>\n",
       "      <td>PLJ</td>\n",
       "      <td>ALIE</td>\n",
       "      <td>6146.70</td>\n",
       "      <td>0.00</td>\n",
       "      <td>6146.70</td>\n",
       "      <td>0.00</td>\n",
       "    </tr>\n",
       "    <tr>\n",
       "      <th>760</th>\n",
       "      <td>160129</td>\n",
       "      <td>ESA</td>\n",
       "      <td>160533</td>\n",
       "      <td>4º CGCFEX</td>\n",
       "      <td>CML</td>\n",
       "      <td>4ª RM</td>\n",
       "      <td>Três Corações</td>\n",
       "      <td>6112</td>\n",
       "      <td>21A0</td>\n",
       "      <td>APRESTAMENTO DAS FORCAS</td>\n",
       "      <td>160504</td>\n",
       "      <td>COEX/GESTOR</td>\n",
       "      <td>232046</td>\n",
       "      <td>E6RVPLJALIE</td>\n",
       "      <td>ALIMENTACAO PARA EQUINOS.</td>\n",
       "      <td>339030</td>\n",
       "      <td>MATERIAL DE CONSUMO</td>\n",
       "      <td>33903006</td>\n",
       "      <td>ALIMENTOS PARA ANIMAIS</td>\n",
       "      <td>2024NE000452</td>\n",
       "      <td>2024</td>\n",
       "      <td>2024-04-30</td>\n",
       "      <td>160129000012024NE000452</td>\n",
       "      <td>03333999000189</td>\n",
       "      <td>CESAR AUGUSTO KIEKOW</td>\n",
       "      <td>RS</td>\n",
       "      <td>ANO</td>\n",
       "      <td>66</td>\n",
       "      <td>MG</td>\n",
       "      <td>1000000000</td>\n",
       "      <td>PREGAO</td>\n",
       "      <td>GLOBAL</td>\n",
       "      <td>2</td>\n",
       "      <td>PRIMARIO DISCRICIONARIO</td>\n",
       "      <td>A</td>\n",
       "      <td>INICIAL (LOA)</td>\n",
       "      <td>000G</td>\n",
       "      <td>000000000000</td>\n",
       "      <td>SEM EMENDA</td>\n",
       "      <td>ESCOLA DE SARGENTOS DAS ARMAS - AV. SETE DE SE...</td>\n",
       "      <td>52121</td>\n",
       "      <td>COMANDO DO EXERCITO</td>\n",
       "      <td>E6RV</td>\n",
       "      <td>PLJ</td>\n",
       "      <td>ALIE</td>\n",
       "      <td>0.00</td>\n",
       "      <td>2320.72</td>\n",
       "      <td>2320.72</td>\n",
       "      <td>37349.68</td>\n",
       "    </tr>\n",
       "    <tr>\n",
       "      <th>761</th>\n",
       "      <td>160129</td>\n",
       "      <td>ESA</td>\n",
       "      <td>160533</td>\n",
       "      <td>4º CGCFEX</td>\n",
       "      <td>CML</td>\n",
       "      <td>4ª RM</td>\n",
       "      <td>Três Corações</td>\n",
       "      <td>6112</td>\n",
       "      <td>21A0</td>\n",
       "      <td>APRESTAMENTO DAS FORCAS</td>\n",
       "      <td>160504</td>\n",
       "      <td>COEX/GESTOR</td>\n",
       "      <td>232046</td>\n",
       "      <td>E6RVPLJALIE</td>\n",
       "      <td>ALIMENTACAO PARA EQUINOS.</td>\n",
       "      <td>339030</td>\n",
       "      <td>MATERIAL DE CONSUMO</td>\n",
       "      <td>33903006</td>\n",
       "      <td>ALIMENTOS PARA ANIMAIS</td>\n",
       "      <td>2024NE000634</td>\n",
       "      <td>2024</td>\n",
       "      <td>2024-06-17</td>\n",
       "      <td>160129000012024NE000634</td>\n",
       "      <td>14155601000188</td>\n",
       "      <td>BARROS COMERCIO DE ALIMENTOS LTDA</td>\n",
       "      <td>SP</td>\n",
       "      <td>ANO</td>\n",
       "      <td>18</td>\n",
       "      <td>MG</td>\n",
       "      <td>1000000000</td>\n",
       "      <td>PREGAO</td>\n",
       "      <td>GLOBAL</td>\n",
       "      <td>2</td>\n",
       "      <td>PRIMARIO DISCRICIONARIO</td>\n",
       "      <td>A</td>\n",
       "      <td>INICIAL (LOA)</td>\n",
       "      <td>000G</td>\n",
       "      <td>000000000000</td>\n",
       "      <td>SEM EMENDA</td>\n",
       "      <td>ESCOLA DE SARGENTOS DAS ARMAS - AV. SETE DE SE...</td>\n",
       "      <td>52121</td>\n",
       "      <td>COMANDO DO EXERCITO</td>\n",
       "      <td>E6RV</td>\n",
       "      <td>PLJ</td>\n",
       "      <td>ALIE</td>\n",
       "      <td>114228.00</td>\n",
       "      <td>0.00</td>\n",
       "      <td>114228.00</td>\n",
       "      <td>0.00</td>\n",
       "    </tr>\n",
       "    <tr>\n",
       "      <th>762</th>\n",
       "      <td>160129</td>\n",
       "      <td>ESA</td>\n",
       "      <td>160533</td>\n",
       "      <td>4º CGCFEX</td>\n",
       "      <td>CML</td>\n",
       "      <td>4ª RM</td>\n",
       "      <td>Três Corações</td>\n",
       "      <td>6112</td>\n",
       "      <td>21A0</td>\n",
       "      <td>APRESTAMENTO DAS FORCAS</td>\n",
       "      <td>160504</td>\n",
       "      <td>COEX/GESTOR</td>\n",
       "      <td>232046</td>\n",
       "      <td>E6RVPLJALIE</td>\n",
       "      <td>ALIMENTACAO PARA EQUINOS.</td>\n",
       "      <td>339030</td>\n",
       "      <td>MATERIAL DE CONSUMO</td>\n",
       "      <td>33903006</td>\n",
       "      <td>ALIMENTOS PARA ANIMAIS</td>\n",
       "      <td>2024NE000638</td>\n",
       "      <td>2024</td>\n",
       "      <td>2024-06-17</td>\n",
       "      <td>160129000012024NE000638</td>\n",
       "      <td>14155601000188</td>\n",
       "      <td>BARROS COMERCIO DE ALIMENTOS LTDA</td>\n",
       "      <td>SP</td>\n",
       "      <td>ANO</td>\n",
       "      <td>18</td>\n",
       "      <td>MG</td>\n",
       "      <td>1000000000</td>\n",
       "      <td>PREGAO</td>\n",
       "      <td>GLOBAL</td>\n",
       "      <td>2</td>\n",
       "      <td>PRIMARIO DISCRICIONARIO</td>\n",
       "      <td>A</td>\n",
       "      <td>INICIAL (LOA)</td>\n",
       "      <td>000G</td>\n",
       "      <td>000000000000</td>\n",
       "      <td>SEM EMENDA</td>\n",
       "      <td>ESCOLA DE SARGENTOS DAS ARMAS - AV. SETE DE SE...</td>\n",
       "      <td>52121</td>\n",
       "      <td>COMANDO DO EXERCITO</td>\n",
       "      <td>E6RV</td>\n",
       "      <td>PLJ</td>\n",
       "      <td>ALIE</td>\n",
       "      <td>68536.80</td>\n",
       "      <td>0.00</td>\n",
       "      <td>68536.80</td>\n",
       "      <td>0.00</td>\n",
       "    </tr>\n",
       "    <tr>\n",
       "      <th>763</th>\n",
       "      <td>160129</td>\n",
       "      <td>ESA</td>\n",
       "      <td>160533</td>\n",
       "      <td>4º CGCFEX</td>\n",
       "      <td>CML</td>\n",
       "      <td>4ª RM</td>\n",
       "      <td>Três Corações</td>\n",
       "      <td>6112</td>\n",
       "      <td>21A0</td>\n",
       "      <td>APRESTAMENTO DAS FORCAS</td>\n",
       "      <td>160504</td>\n",
       "      <td>COEX/GESTOR</td>\n",
       "      <td>232046</td>\n",
       "      <td>E6RVPLJFER3</td>\n",
       "      <td>REMONTA E VETERINÁRIA</td>\n",
       "      <td>339030</td>\n",
       "      <td>MATERIAL DE CONSUMO</td>\n",
       "      <td>33903004</td>\n",
       "      <td>GAS E OUTROS MATERIAIS ENGARRAFADOS</td>\n",
       "      <td>2024NE000778</td>\n",
       "      <td>2024</td>\n",
       "      <td>2024-06-28</td>\n",
       "      <td>160129000012024NE000778</td>\n",
       "      <td>09039582000194</td>\n",
       "      <td>HELIO DE SOUZA JUNIOR - CPF 037.031.976-17</td>\n",
       "      <td>MG</td>\n",
       "      <td>ANO</td>\n",
       "      <td>7</td>\n",
       "      <td>MG</td>\n",
       "      <td>1000000000</td>\n",
       "      <td>PREGAO</td>\n",
       "      <td>ORDINARIO</td>\n",
       "      <td>2</td>\n",
       "      <td>PRIMARIO DISCRICIONARIO</td>\n",
       "      <td>A</td>\n",
       "      <td>INICIAL (LOA)</td>\n",
       "      <td>000G</td>\n",
       "      <td>000000000000</td>\n",
       "      <td>SEM EMENDA</td>\n",
       "      <td>ESCOLA DE SARGENTOS DAS ARMAS - AV. SETE DE SE...</td>\n",
       "      <td>52121</td>\n",
       "      <td>COMANDO DO EXERCITO</td>\n",
       "      <td>E6RV</td>\n",
       "      <td>PLJ</td>\n",
       "      <td>FER3</td>\n",
       "      <td>5880.00</td>\n",
       "      <td>0.00</td>\n",
       "      <td>5880.00</td>\n",
       "      <td>0.00</td>\n",
       "    </tr>\n",
       "    <tr>\n",
       "      <th>764</th>\n",
       "      <td>160129</td>\n",
       "      <td>ESA</td>\n",
       "      <td>160533</td>\n",
       "      <td>4º CGCFEX</td>\n",
       "      <td>CML</td>\n",
       "      <td>4ª RM</td>\n",
       "      <td>Três Corações</td>\n",
       "      <td>6112</td>\n",
       "      <td>21A0</td>\n",
       "      <td>APRESTAMENTO DAS FORCAS</td>\n",
       "      <td>160504</td>\n",
       "      <td>COEX/GESTOR</td>\n",
       "      <td>232046</td>\n",
       "      <td>E6RVPLJFER3</td>\n",
       "      <td>REMONTA E VETERINÁRIA</td>\n",
       "      <td>339030</td>\n",
       "      <td>MATERIAL DE CONSUMO</td>\n",
       "      <td>33903012</td>\n",
       "      <td>MATERIAL DE COUDELARIA OU DE USO ZOOTECNICO</td>\n",
       "      <td>2024NE000281</td>\n",
       "      <td>2024</td>\n",
       "      <td>2024-03-15</td>\n",
       "      <td>160129000012024NE000281</td>\n",
       "      <td>39560888000152</td>\n",
       "      <td>GRAZIELLA MARIA TAVARES DA SILVA</td>\n",
       "      <td>GO</td>\n",
       "      <td>ANO</td>\n",
       "      <td>112</td>\n",
       "      <td>MG</td>\n",
       "      <td>1000000000</td>\n",
       "      <td>PREGAO</td>\n",
       "      <td>ORDINARIO</td>\n",
       "      <td>2</td>\n",
       "      <td>PRIMARIO DISCRICIONARIO</td>\n",
       "      <td>A</td>\n",
       "      <td>INICIAL (LOA)</td>\n",
       "      <td>000G</td>\n",
       "      <td>000000000000</td>\n",
       "      <td>SEM EMENDA</td>\n",
       "      <td>ESCOLA DE SARGENTOS DAS ARMAS - AV. SETE DE SE...</td>\n",
       "      <td>52121</td>\n",
       "      <td>COMANDO DO EXERCITO</td>\n",
       "      <td>E6RV</td>\n",
       "      <td>PLJ</td>\n",
       "      <td>FER3</td>\n",
       "      <td>0.00</td>\n",
       "      <td>0.00</td>\n",
       "      <td>0.00</td>\n",
       "      <td>5916.80</td>\n",
       "    </tr>\n",
       "    <tr>\n",
       "      <th>765</th>\n",
       "      <td>160129</td>\n",
       "      <td>ESA</td>\n",
       "      <td>160533</td>\n",
       "      <td>4º CGCFEX</td>\n",
       "      <td>CML</td>\n",
       "      <td>4ª RM</td>\n",
       "      <td>Três Corações</td>\n",
       "      <td>6112</td>\n",
       "      <td>21A0</td>\n",
       "      <td>APRESTAMENTO DAS FORCAS</td>\n",
       "      <td>160504</td>\n",
       "      <td>COEX/GESTOR</td>\n",
       "      <td>232046</td>\n",
       "      <td>E6RVPLJFER3</td>\n",
       "      <td>REMONTA E VETERINÁRIA</td>\n",
       "      <td>339030</td>\n",
       "      <td>MATERIAL DE CONSUMO</td>\n",
       "      <td>33903012</td>\n",
       "      <td>MATERIAL DE COUDELARIA OU DE USO ZOOTECNICO</td>\n",
       "      <td>2024NE000284</td>\n",
       "      <td>2024</td>\n",
       "      <td>2024-03-18</td>\n",
       "      <td>160129000012024NE000284</td>\n",
       "      <td>02829044000154</td>\n",
       "      <td>SELARIA BARBEDO COMERCIO DE MATERIAIS PARA MON...</td>\n",
       "      <td>RJ</td>\n",
       "      <td>ANO</td>\n",
       "      <td>109</td>\n",
       "      <td>MG</td>\n",
       "      <td>1000000000</td>\n",
       "      <td>PREGAO</td>\n",
       "      <td>ORDINARIO</td>\n",
       "      <td>2</td>\n",
       "      <td>PRIMARIO DISCRICIONARIO</td>\n",
       "      <td>A</td>\n",
       "      <td>INICIAL (LOA)</td>\n",
       "      <td>000G</td>\n",
       "      <td>000000000000</td>\n",
       "      <td>SEM EMENDA</td>\n",
       "      <td>ESCOLA DE SARGENTOS DAS ARMAS - AV. SETE DE SE...</td>\n",
       "      <td>52121</td>\n",
       "      <td>COMANDO DO EXERCITO</td>\n",
       "      <td>E6RV</td>\n",
       "      <td>PLJ</td>\n",
       "      <td>FER3</td>\n",
       "      <td>0.00</td>\n",
       "      <td>0.00</td>\n",
       "      <td>0.00</td>\n",
       "      <td>2576.00</td>\n",
       "    </tr>\n",
       "    <tr>\n",
       "      <th>766</th>\n",
       "      <td>160129</td>\n",
       "      <td>ESA</td>\n",
       "      <td>160533</td>\n",
       "      <td>4º CGCFEX</td>\n",
       "      <td>CML</td>\n",
       "      <td>4ª RM</td>\n",
       "      <td>Três Corações</td>\n",
       "      <td>6112</td>\n",
       "      <td>21A0</td>\n",
       "      <td>APRESTAMENTO DAS FORCAS</td>\n",
       "      <td>160504</td>\n",
       "      <td>COEX/GESTOR</td>\n",
       "      <td>232046</td>\n",
       "      <td>E6RVPLJFER3</td>\n",
       "      <td>REMONTA E VETERINÁRIA</td>\n",
       "      <td>339030</td>\n",
       "      <td>MATERIAL DE CONSUMO</td>\n",
       "      <td>33903012</td>\n",
       "      <td>MATERIAL DE COUDELARIA OU DE USO ZOOTECNICO</td>\n",
       "      <td>2024NE000571</td>\n",
       "      <td>2024</td>\n",
       "      <td>2024-05-29</td>\n",
       "      <td>160129000012024NE000571</td>\n",
       "      <td>45793555000176</td>\n",
       "      <td>45.793.555 LOUI TARANTO COLACO</td>\n",
       "      <td>RJ</td>\n",
       "      <td>ANO</td>\n",
       "      <td>37</td>\n",
       "      <td>MG</td>\n",
       "      <td>1000000000</td>\n",
       "      <td>PREGAO</td>\n",
       "      <td>ORDINARIO</td>\n",
       "      <td>2</td>\n",
       "      <td>PRIMARIO DISCRICIONARIO</td>\n",
       "      <td>A</td>\n",
       "      <td>INICIAL (LOA)</td>\n",
       "      <td>000G</td>\n",
       "      <td>000000000000</td>\n",
       "      <td>SEM EMENDA</td>\n",
       "      <td>ESCOLA DE SARGENTOS DAS ARMAS - AV. SETE DE SE...</td>\n",
       "      <td>52121</td>\n",
       "      <td>COMANDO DO EXERCITO</td>\n",
       "      <td>E6RV</td>\n",
       "      <td>PLJ</td>\n",
       "      <td>FER3</td>\n",
       "      <td>15545.00</td>\n",
       "      <td>0.00</td>\n",
       "      <td>15545.00</td>\n",
       "      <td>0.00</td>\n",
       "    </tr>\n",
       "    <tr>\n",
       "      <th>767</th>\n",
       "      <td>160129</td>\n",
       "      <td>ESA</td>\n",
       "      <td>160533</td>\n",
       "      <td>4º CGCFEX</td>\n",
       "      <td>CML</td>\n",
       "      <td>4ª RM</td>\n",
       "      <td>Três Corações</td>\n",
       "      <td>6112</td>\n",
       "      <td>21A0</td>\n",
       "      <td>APRESTAMENTO DAS FORCAS</td>\n",
       "      <td>160504</td>\n",
       "      <td>COEX/GESTOR</td>\n",
       "      <td>232046</td>\n",
       "      <td>E6RVPLJFER3</td>\n",
       "      <td>REMONTA E VETERINÁRIA</td>\n",
       "      <td>339030</td>\n",
       "      <td>MATERIAL DE CONSUMO</td>\n",
       "      <td>33903012</td>\n",
       "      <td>MATERIAL DE COUDELARIA OU DE USO ZOOTECNICO</td>\n",
       "      <td>2024NE000779</td>\n",
       "      <td>2024</td>\n",
       "      <td>2024-06-28</td>\n",
       "      <td>160129000012024NE000779</td>\n",
       "      <td>39560888000152</td>\n",
       "      <td>GRAZIELLA MARIA TAVARES DA SILVA</td>\n",
       "      <td>GO</td>\n",
       "      <td>ANO</td>\n",
       "      <td>7</td>\n",
       "      <td>MG</td>\n",
       "      <td>1000000000</td>\n",
       "      <td>PREGAO</td>\n",
       "      <td>ORDINARIO</td>\n",
       "      <td>2</td>\n",
       "      <td>PRIMARIO DISCRICIONARIO</td>\n",
       "      <td>A</td>\n",
       "      <td>INICIAL (LOA)</td>\n",
       "      <td>000G</td>\n",
       "      <td>000000000000</td>\n",
       "      <td>SEM EMENDA</td>\n",
       "      <td>ESCOLA DE SARGENTOS DAS ARMAS - AV. SETE DE SE...</td>\n",
       "      <td>52121</td>\n",
       "      <td>COMANDO DO EXERCITO</td>\n",
       "      <td>E6RV</td>\n",
       "      <td>PLJ</td>\n",
       "      <td>FER3</td>\n",
       "      <td>6789.00</td>\n",
       "      <td>0.00</td>\n",
       "      <td>6789.00</td>\n",
       "      <td>0.00</td>\n",
       "    </tr>\n",
       "    <tr>\n",
       "      <th>768</th>\n",
       "      <td>160129</td>\n",
       "      <td>ESA</td>\n",
       "      <td>160533</td>\n",
       "      <td>4º CGCFEX</td>\n",
       "      <td>CML</td>\n",
       "      <td>4ª RM</td>\n",
       "      <td>Três Corações</td>\n",
       "      <td>6112</td>\n",
       "      <td>21A0</td>\n",
       "      <td>APRESTAMENTO DAS FORCAS</td>\n",
       "      <td>160504</td>\n",
       "      <td>COEX/GESTOR</td>\n",
       "      <td>232046</td>\n",
       "      <td>E6RVPLJMTOC</td>\n",
       "      <td>MEDIDAS PROFILÁT SAÚDE CANINOS.</td>\n",
       "      <td>339030</td>\n",
       "      <td>MATERIAL DE CONSUMO</td>\n",
       "      <td>33903018</td>\n",
       "      <td>MATERIAIS E MEDICAMENTOS P/ USO VETERINARIO</td>\n",
       "      <td>2024NE000555</td>\n",
       "      <td>2024</td>\n",
       "      <td>2024-05-28</td>\n",
       "      <td>160129000012024NE000555</td>\n",
       "      <td>13232701000106</td>\n",
       "      <td>BR COMERCIO DE PRODUTOS VETERINARIOS LTDA</td>\n",
       "      <td>SP</td>\n",
       "      <td>ANO</td>\n",
       "      <td>38</td>\n",
       "      <td>MG</td>\n",
       "      <td>1000000000</td>\n",
       "      <td>PREGAO</td>\n",
       "      <td>ORDINARIO</td>\n",
       "      <td>2</td>\n",
       "      <td>PRIMARIO DISCRICIONARIO</td>\n",
       "      <td>A</td>\n",
       "      <td>INICIAL (LOA)</td>\n",
       "      <td>000G</td>\n",
       "      <td>000000000000</td>\n",
       "      <td>SEM EMENDA</td>\n",
       "      <td>ESCOLA DE SARGENTOS DAS ARMAS</td>\n",
       "      <td>52121</td>\n",
       "      <td>COMANDO DO EXERCITO</td>\n",
       "      <td>E6RV</td>\n",
       "      <td>PLJ</td>\n",
       "      <td>MTOC</td>\n",
       "      <td>0.00</td>\n",
       "      <td>0.00</td>\n",
       "      <td>0.00</td>\n",
       "      <td>1322.80</td>\n",
       "    </tr>\n",
       "    <tr>\n",
       "      <th>769</th>\n",
       "      <td>160129</td>\n",
       "      <td>ESA</td>\n",
       "      <td>160533</td>\n",
       "      <td>4º CGCFEX</td>\n",
       "      <td>CML</td>\n",
       "      <td>4ª RM</td>\n",
       "      <td>Três Corações</td>\n",
       "      <td>6112</td>\n",
       "      <td>21A0</td>\n",
       "      <td>APRESTAMENTO DAS FORCAS</td>\n",
       "      <td>160504</td>\n",
       "      <td>COEX/GESTOR</td>\n",
       "      <td>232046</td>\n",
       "      <td>E6RVPLJMTOC</td>\n",
       "      <td>MEDIDAS PROFILÁT SAÚDE CANINOS.</td>\n",
       "      <td>339030</td>\n",
       "      <td>MATERIAL DE CONSUMO</td>\n",
       "      <td>33903018</td>\n",
       "      <td>MATERIAIS E MEDICAMENTOS P/ USO VETERINARIO</td>\n",
       "      <td>2024NE000748</td>\n",
       "      <td>2024</td>\n",
       "      <td>2024-06-26</td>\n",
       "      <td>160129000012024NE000748</td>\n",
       "      <td>46339373000192</td>\n",
       "      <td>ALC MORAES COMERCIAL LTDA.</td>\n",
       "      <td>SP</td>\n",
       "      <td>ANO</td>\n",
       "      <td>9</td>\n",
       "      <td>MG</td>\n",
       "      <td>1000000000</td>\n",
       "      <td>PREGAO</td>\n",
       "      <td>ORDINARIO</td>\n",
       "      <td>2</td>\n",
       "      <td>PRIMARIO DISCRICIONARIO</td>\n",
       "      <td>A</td>\n",
       "      <td>INICIAL (LOA)</td>\n",
       "      <td>000G</td>\n",
       "      <td>000000000000</td>\n",
       "      <td>SEM EMENDA</td>\n",
       "      <td>ESCOLA DE SARGENTOS DAS ARMAS - AV. SETE DE SE...</td>\n",
       "      <td>52121</td>\n",
       "      <td>COMANDO DO EXERCITO</td>\n",
       "      <td>E6RV</td>\n",
       "      <td>PLJ</td>\n",
       "      <td>MTOC</td>\n",
       "      <td>94.65</td>\n",
       "      <td>0.00</td>\n",
       "      <td>94.65</td>\n",
       "      <td>0.00</td>\n",
       "    </tr>\n",
       "    <tr>\n",
       "      <th>770</th>\n",
       "      <td>160129</td>\n",
       "      <td>ESA</td>\n",
       "      <td>160533</td>\n",
       "      <td>4º CGCFEX</td>\n",
       "      <td>CML</td>\n",
       "      <td>4ª RM</td>\n",
       "      <td>Três Corações</td>\n",
       "      <td>6112</td>\n",
       "      <td>21A0</td>\n",
       "      <td>APRESTAMENTO DAS FORCAS</td>\n",
       "      <td>160504</td>\n",
       "      <td>COEX/GESTOR</td>\n",
       "      <td>232046</td>\n",
       "      <td>E6RVPLJMTOC</td>\n",
       "      <td>MEDIDAS PROFILÁT SAÚDE CANINOS.</td>\n",
       "      <td>339030</td>\n",
       "      <td>MATERIAL DE CONSUMO</td>\n",
       "      <td>33903018</td>\n",
       "      <td>MATERIAIS E MEDICAMENTOS P/ USO VETERINARIO</td>\n",
       "      <td>2024NE000764</td>\n",
       "      <td>2024</td>\n",
       "      <td>2024-06-27</td>\n",
       "      <td>160129000012024NE000764</td>\n",
       "      <td>04576614000177</td>\n",
       "      <td>M A M VIDAL LTDA</td>\n",
       "      <td>RJ</td>\n",
       "      <td>ANO</td>\n",
       "      <td>8</td>\n",
       "      <td>MG</td>\n",
       "      <td>1000000000</td>\n",
       "      <td>PREGAO</td>\n",
       "      <td>ORDINARIO</td>\n",
       "      <td>2</td>\n",
       "      <td>PRIMARIO DISCRICIONARIO</td>\n",
       "      <td>A</td>\n",
       "      <td>INICIAL (LOA)</td>\n",
       "      <td>000G</td>\n",
       "      <td>000000000000</td>\n",
       "      <td>SEM EMENDA</td>\n",
       "      <td>ESCOLA DE SARGENTOS DAS ARMAS - AV. SETE DE SE...</td>\n",
       "      <td>52121</td>\n",
       "      <td>COMANDO DO EXERCITO</td>\n",
       "      <td>E6RV</td>\n",
       "      <td>PLJ</td>\n",
       "      <td>MTOC</td>\n",
       "      <td>1693.17</td>\n",
       "      <td>0.00</td>\n",
       "      <td>1693.17</td>\n",
       "      <td>0.00</td>\n",
       "    </tr>\n",
       "    <tr>\n",
       "      <th>771</th>\n",
       "      <td>160129</td>\n",
       "      <td>ESA</td>\n",
       "      <td>160533</td>\n",
       "      <td>4º CGCFEX</td>\n",
       "      <td>CML</td>\n",
       "      <td>4ª RM</td>\n",
       "      <td>Três Corações</td>\n",
       "      <td>6112</td>\n",
       "      <td>21A0</td>\n",
       "      <td>APRESTAMENTO DAS FORCAS</td>\n",
       "      <td>160504</td>\n",
       "      <td>COEX/GESTOR</td>\n",
       "      <td>232046</td>\n",
       "      <td>E6RVPLJMTOE</td>\n",
       "      <td>MEDIDAS PROFILÁT SAÚDE EQUINOS</td>\n",
       "      <td>339030</td>\n",
       "      <td>MATERIAL DE CONSUMO</td>\n",
       "      <td>33903006</td>\n",
       "      <td>ALIMENTOS PARA ANIMAIS</td>\n",
       "      <td>2024NE000773</td>\n",
       "      <td>2024</td>\n",
       "      <td>2024-06-28</td>\n",
       "      <td>160129000012024NE000773</td>\n",
       "      <td>49542190000168</td>\n",
       "      <td>LICITAPHARMA DISTRIBUIDORA DE PRODUTOS VETERIN...</td>\n",
       "      <td>SP</td>\n",
       "      <td>ANO</td>\n",
       "      <td>7</td>\n",
       "      <td>MG</td>\n",
       "      <td>1000000000</td>\n",
       "      <td>PREGAO</td>\n",
       "      <td>ORDINARIO</td>\n",
       "      <td>2</td>\n",
       "      <td>PRIMARIO DISCRICIONARIO</td>\n",
       "      <td>A</td>\n",
       "      <td>INICIAL (LOA)</td>\n",
       "      <td>000G</td>\n",
       "      <td>000000000000</td>\n",
       "      <td>SEM EMENDA</td>\n",
       "      <td>ESCOLA DE SARGENTOS DAS ARMAS - AV. SETE DE SE...</td>\n",
       "      <td>52121</td>\n",
       "      <td>COMANDO DO EXERCITO</td>\n",
       "      <td>E6RV</td>\n",
       "      <td>PLJ</td>\n",
       "      <td>MTOE</td>\n",
       "      <td>5603.20</td>\n",
       "      <td>0.00</td>\n",
       "      <td>5603.20</td>\n",
       "      <td>0.00</td>\n",
       "    </tr>\n",
       "    <tr>\n",
       "      <th>772</th>\n",
       "      <td>160129</td>\n",
       "      <td>ESA</td>\n",
       "      <td>160533</td>\n",
       "      <td>4º CGCFEX</td>\n",
       "      <td>CML</td>\n",
       "      <td>4ª RM</td>\n",
       "      <td>Três Corações</td>\n",
       "      <td>6112</td>\n",
       "      <td>21A0</td>\n",
       "      <td>APRESTAMENTO DAS FORCAS</td>\n",
       "      <td>160504</td>\n",
       "      <td>COEX/GESTOR</td>\n",
       "      <td>232046</td>\n",
       "      <td>E6RVPLJMTOE</td>\n",
       "      <td>MEDIDAS PROFILÁT SAÚDE EQUINOS</td>\n",
       "      <td>339030</td>\n",
       "      <td>MATERIAL DE CONSUMO</td>\n",
       "      <td>33903018</td>\n",
       "      <td>MATERIAIS E MEDICAMENTOS P/ USO VETERINARIO</td>\n",
       "      <td>2024NE000275</td>\n",
       "      <td>2024</td>\n",
       "      <td>2024-03-15</td>\n",
       "      <td>160129000012024NE000275</td>\n",
       "      <td>03541496000107</td>\n",
       "      <td>CESAR &amp; ROCHA COMERCIO DE PRODUTOS AGROPECUARI...</td>\n",
       "      <td>SP</td>\n",
       "      <td>ANO</td>\n",
       "      <td>112</td>\n",
       "      <td>MG</td>\n",
       "      <td>1000000000</td>\n",
       "      <td>PREGAO</td>\n",
       "      <td>ORDINARIO</td>\n",
       "      <td>2</td>\n",
       "      <td>PRIMARIO DISCRICIONARIO</td>\n",
       "      <td>A</td>\n",
       "      <td>INICIAL (LOA)</td>\n",
       "      <td>000G</td>\n",
       "      <td>000000000000</td>\n",
       "      <td>SEM EMENDA</td>\n",
       "      <td>ESCOLA DE SARGENTOS DAS ARMAS - AV. SETE DE SE...</td>\n",
       "      <td>52121</td>\n",
       "      <td>COMANDO DO EXERCITO</td>\n",
       "      <td>E6RV</td>\n",
       "      <td>PLJ</td>\n",
       "      <td>MTOE</td>\n",
       "      <td>0.00</td>\n",
       "      <td>0.00</td>\n",
       "      <td>0.00</td>\n",
       "      <td>5375.90</td>\n",
       "    </tr>\n",
       "    <tr>\n",
       "      <th>773</th>\n",
       "      <td>160129</td>\n",
       "      <td>ESA</td>\n",
       "      <td>160533</td>\n",
       "      <td>4º CGCFEX</td>\n",
       "      <td>CML</td>\n",
       "      <td>4ª RM</td>\n",
       "      <td>Três Corações</td>\n",
       "      <td>6112</td>\n",
       "      <td>21A0</td>\n",
       "      <td>APRESTAMENTO DAS FORCAS</td>\n",
       "      <td>160504</td>\n",
       "      <td>COEX/GESTOR</td>\n",
       "      <td>232046</td>\n",
       "      <td>E6RVPLJMTOE</td>\n",
       "      <td>MEDIDAS PROFILÁT SAÚDE EQUINOS</td>\n",
       "      <td>339030</td>\n",
       "      <td>MATERIAL DE CONSUMO</td>\n",
       "      <td>33903018</td>\n",
       "      <td>MATERIAIS E MEDICAMENTOS P/ USO VETERINARIO</td>\n",
       "      <td>2024NE000282</td>\n",
       "      <td>2024</td>\n",
       "      <td>2024-03-15</td>\n",
       "      <td>160129000012024NE000282</td>\n",
       "      <td>49542190000168</td>\n",
       "      <td>LICITAPHARMA DISTRIBUIDORA DE PRODUTOS VETERIN...</td>\n",
       "      <td>SP</td>\n",
       "      <td>ANO</td>\n",
       "      <td>112</td>\n",
       "      <td>MG</td>\n",
       "      <td>1000000000</td>\n",
       "      <td>PREGAO</td>\n",
       "      <td>GLOBAL</td>\n",
       "      <td>2</td>\n",
       "      <td>PRIMARIO DISCRICIONARIO</td>\n",
       "      <td>A</td>\n",
       "      <td>INICIAL (LOA)</td>\n",
       "      <td>000G</td>\n",
       "      <td>000000000000</td>\n",
       "      <td>SEM EMENDA</td>\n",
       "      <td>ESCOLA DE SARGENTOS DAS ARMAS - AV. SETE DE SE...</td>\n",
       "      <td>52121</td>\n",
       "      <td>COMANDO DO EXERCITO</td>\n",
       "      <td>E6RV</td>\n",
       "      <td>PLJ</td>\n",
       "      <td>MTOE</td>\n",
       "      <td>0.00</td>\n",
       "      <td>0.00</td>\n",
       "      <td>0.00</td>\n",
       "      <td>13830.00</td>\n",
       "    </tr>\n",
       "    <tr>\n",
       "      <th>774</th>\n",
       "      <td>160129</td>\n",
       "      <td>ESA</td>\n",
       "      <td>160533</td>\n",
       "      <td>4º CGCFEX</td>\n",
       "      <td>CML</td>\n",
       "      <td>4ª RM</td>\n",
       "      <td>Três Corações</td>\n",
       "      <td>6112</td>\n",
       "      <td>21A0</td>\n",
       "      <td>APRESTAMENTO DAS FORCAS</td>\n",
       "      <td>160504</td>\n",
       "      <td>COEX/GESTOR</td>\n",
       "      <td>232046</td>\n",
       "      <td>E6RVPLJMTOE</td>\n",
       "      <td>MEDIDAS PROFILÁT SAÚDE EQUINOS</td>\n",
       "      <td>339030</td>\n",
       "      <td>MATERIAL DE CONSUMO</td>\n",
       "      <td>33903018</td>\n",
       "      <td>MATERIAIS E MEDICAMENTOS P/ USO VETERINARIO</td>\n",
       "      <td>2024NE000283</td>\n",
       "      <td>2024</td>\n",
       "      <td>2024-03-18</td>\n",
       "      <td>160129000012024NE000283</td>\n",
       "      <td>49542190000168</td>\n",
       "      <td>LICITAPHARMA DISTRIBUIDORA DE PRODUTOS VETERIN...</td>\n",
       "      <td>SP</td>\n",
       "      <td>ANO</td>\n",
       "      <td>109</td>\n",
       "      <td>MG</td>\n",
       "      <td>1000000000</td>\n",
       "      <td>PREGAO</td>\n",
       "      <td>ORDINARIO</td>\n",
       "      <td>2</td>\n",
       "      <td>PRIMARIO DISCRICIONARIO</td>\n",
       "      <td>A</td>\n",
       "      <td>INICIAL (LOA)</td>\n",
       "      <td>000G</td>\n",
       "      <td>000000000000</td>\n",
       "      <td>SEM EMENDA</td>\n",
       "      <td>ESCOLA DE SARGENTOS DAS ARMAS - AV. SETE DE SE...</td>\n",
       "      <td>52121</td>\n",
       "      <td>COMANDO DO EXERCITO</td>\n",
       "      <td>E6RV</td>\n",
       "      <td>PLJ</td>\n",
       "      <td>MTOE</td>\n",
       "      <td>0.00</td>\n",
       "      <td>0.00</td>\n",
       "      <td>0.00</td>\n",
       "      <td>15770.65</td>\n",
       "    </tr>\n",
       "    <tr>\n",
       "      <th>775</th>\n",
       "      <td>160129</td>\n",
       "      <td>ESA</td>\n",
       "      <td>160533</td>\n",
       "      <td>4º CGCFEX</td>\n",
       "      <td>CML</td>\n",
       "      <td>4ª RM</td>\n",
       "      <td>Três Corações</td>\n",
       "      <td>6112</td>\n",
       "      <td>21A0</td>\n",
       "      <td>APRESTAMENTO DAS FORCAS</td>\n",
       "      <td>160504</td>\n",
       "      <td>COEX/GESTOR</td>\n",
       "      <td>232046</td>\n",
       "      <td>E6RVPLJMTOE</td>\n",
       "      <td>MEDIDAS PROFILÁT SAÚDE EQUINOS</td>\n",
       "      <td>339030</td>\n",
       "      <td>MATERIAL DE CONSUMO</td>\n",
       "      <td>33903018</td>\n",
       "      <td>MATERIAIS E MEDICAMENTOS P/ USO VETERINARIO</td>\n",
       "      <td>2024NE000311</td>\n",
       "      <td>2024</td>\n",
       "      <td>2024-03-20</td>\n",
       "      <td>160129000012024NE000311</td>\n",
       "      <td>49542190000168</td>\n",
       "      <td>LICITAPHARMA DISTRIBUIDORA DE PRODUTOS VETERIN...</td>\n",
       "      <td>SP</td>\n",
       "      <td>ANO</td>\n",
       "      <td>107</td>\n",
       "      <td>MG</td>\n",
       "      <td>1000000000</td>\n",
       "      <td>PREGAO</td>\n",
       "      <td>GLOBAL</td>\n",
       "      <td>2</td>\n",
       "      <td>PRIMARIO DISCRICIONARIO</td>\n",
       "      <td>A</td>\n",
       "      <td>INICIAL (LOA)</td>\n",
       "      <td>000G</td>\n",
       "      <td>000000000000</td>\n",
       "      <td>SEM EMENDA</td>\n",
       "      <td>ESCOLA DE SARGENTOS DAS ARMAS</td>\n",
       "      <td>52121</td>\n",
       "      <td>COMANDO DO EXERCITO</td>\n",
       "      <td>E6RV</td>\n",
       "      <td>PLJ</td>\n",
       "      <td>MTOE</td>\n",
       "      <td>0.00</td>\n",
       "      <td>1204.35</td>\n",
       "      <td>1204.35</td>\n",
       "      <td>0.00</td>\n",
       "    </tr>\n",
       "    <tr>\n",
       "      <th>776</th>\n",
       "      <td>160129</td>\n",
       "      <td>ESA</td>\n",
       "      <td>160533</td>\n",
       "      <td>4º CGCFEX</td>\n",
       "      <td>CML</td>\n",
       "      <td>4ª RM</td>\n",
       "      <td>Três Corações</td>\n",
       "      <td>6112</td>\n",
       "      <td>21A0</td>\n",
       "      <td>APRESTAMENTO DAS FORCAS</td>\n",
       "      <td>160504</td>\n",
       "      <td>COEX/GESTOR</td>\n",
       "      <td>232046</td>\n",
       "      <td>E6RVPLJMTOE</td>\n",
       "      <td>MEDIDAS PROFILÁT SAÚDE EQUINOS</td>\n",
       "      <td>339030</td>\n",
       "      <td>MATERIAL DE CONSUMO</td>\n",
       "      <td>33903018</td>\n",
       "      <td>MATERIAIS E MEDICAMENTOS P/ USO VETERINARIO</td>\n",
       "      <td>2024NE000312</td>\n",
       "      <td>2024</td>\n",
       "      <td>2024-03-20</td>\n",
       "      <td>160129000012024NE000312</td>\n",
       "      <td>10732150000143</td>\n",
       "      <td>COMERCIAL CEDRO LTDA</td>\n",
       "      <td>RJ</td>\n",
       "      <td>ANO</td>\n",
       "      <td>107</td>\n",
       "      <td>MG</td>\n",
       "      <td>1000000000</td>\n",
       "      <td>PREGAO</td>\n",
       "      <td>ORDINARIO</td>\n",
       "      <td>2</td>\n",
       "      <td>PRIMARIO DISCRICIONARIO</td>\n",
       "      <td>A</td>\n",
       "      <td>INICIAL (LOA)</td>\n",
       "      <td>000G</td>\n",
       "      <td>000000000000</td>\n",
       "      <td>SEM EMENDA</td>\n",
       "      <td>ESCOLA DE SARGENTOS DAS ARMAS - AV. SETE DE SE...</td>\n",
       "      <td>52121</td>\n",
       "      <td>COMANDO DO EXERCITO</td>\n",
       "      <td>E6RV</td>\n",
       "      <td>PLJ</td>\n",
       "      <td>MTOE</td>\n",
       "      <td>0.00</td>\n",
       "      <td>0.00</td>\n",
       "      <td>0.00</td>\n",
       "      <td>1621.74</td>\n",
       "    </tr>\n",
       "    <tr>\n",
       "      <th>777</th>\n",
       "      <td>160129</td>\n",
       "      <td>ESA</td>\n",
       "      <td>160533</td>\n",
       "      <td>4º CGCFEX</td>\n",
       "      <td>CML</td>\n",
       "      <td>4ª RM</td>\n",
       "      <td>Três Corações</td>\n",
       "      <td>6112</td>\n",
       "      <td>21A0</td>\n",
       "      <td>APRESTAMENTO DAS FORCAS</td>\n",
       "      <td>160504</td>\n",
       "      <td>COEX/GESTOR</td>\n",
       "      <td>232046</td>\n",
       "      <td>E6RVPLJMTOE</td>\n",
       "      <td>MEDIDAS PROFILÁT SAÚDE EQUINOS</td>\n",
       "      <td>339030</td>\n",
       "      <td>MATERIAL DE CONSUMO</td>\n",
       "      <td>33903018</td>\n",
       "      <td>MATERIAIS E MEDICAMENTOS P/ USO VETERINARIO</td>\n",
       "      <td>2024NE000762</td>\n",
       "      <td>2024</td>\n",
       "      <td>2024-06-27</td>\n",
       "      <td>160129000012024NE000762</td>\n",
       "      <td>45793555000176</td>\n",
       "      <td>45.793.555 LOUI TARANTO COLACO</td>\n",
       "      <td>RJ</td>\n",
       "      <td>ANO</td>\n",
       "      <td>8</td>\n",
       "      <td>MG</td>\n",
       "      <td>1000000000</td>\n",
       "      <td>PREGAO</td>\n",
       "      <td>ORDINARIO</td>\n",
       "      <td>2</td>\n",
       "      <td>PRIMARIO DISCRICIONARIO</td>\n",
       "      <td>A</td>\n",
       "      <td>INICIAL (LOA)</td>\n",
       "      <td>000G</td>\n",
       "      <td>000000000000</td>\n",
       "      <td>SEM EMENDA</td>\n",
       "      <td>ESCOLA DE SARGENTOS DAS ARMAS - AV. SETE DE SE...</td>\n",
       "      <td>52121</td>\n",
       "      <td>COMANDO DO EXERCITO</td>\n",
       "      <td>E6RV</td>\n",
       "      <td>PLJ</td>\n",
       "      <td>MTOE</td>\n",
       "      <td>183.30</td>\n",
       "      <td>0.00</td>\n",
       "      <td>183.30</td>\n",
       "      <td>0.00</td>\n",
       "    </tr>\n",
       "    <tr>\n",
       "      <th>778</th>\n",
       "      <td>160129</td>\n",
       "      <td>ESA</td>\n",
       "      <td>160533</td>\n",
       "      <td>4º CGCFEX</td>\n",
       "      <td>CML</td>\n",
       "      <td>4ª RM</td>\n",
       "      <td>Três Corações</td>\n",
       "      <td>6112</td>\n",
       "      <td>21A0</td>\n",
       "      <td>APRESTAMENTO DAS FORCAS</td>\n",
       "      <td>160504</td>\n",
       "      <td>COEX/GESTOR</td>\n",
       "      <td>232046</td>\n",
       "      <td>E6RVPLJMTOE</td>\n",
       "      <td>MEDIDAS PROFILÁT SAÚDE EQUINOS</td>\n",
       "      <td>339030</td>\n",
       "      <td>MATERIAL DE CONSUMO</td>\n",
       "      <td>33903018</td>\n",
       "      <td>MATERIAIS E MEDICAMENTOS P/ USO VETERINARIO</td>\n",
       "      <td>2024NE000763</td>\n",
       "      <td>2024</td>\n",
       "      <td>2024-06-27</td>\n",
       "      <td>160129000012024NE000763</td>\n",
       "      <td>49542190000168</td>\n",
       "      <td>LICITAPHARMA DISTRIBUIDORA DE PRODUTOS VETERIN...</td>\n",
       "      <td>SP</td>\n",
       "      <td>ANO</td>\n",
       "      <td>8</td>\n",
       "      <td>MG</td>\n",
       "      <td>1000000000</td>\n",
       "      <td>PREGAO</td>\n",
       "      <td>ORDINARIO</td>\n",
       "      <td>2</td>\n",
       "      <td>PRIMARIO DISCRICIONARIO</td>\n",
       "      <td>A</td>\n",
       "      <td>INICIAL (LOA)</td>\n",
       "      <td>000G</td>\n",
       "      <td>000000000000</td>\n",
       "      <td>SEM EMENDA</td>\n",
       "      <td>ESCOLA DE SARGENTOS DAS ARMAS - AV. SETE DE SE...</td>\n",
       "      <td>52121</td>\n",
       "      <td>COMANDO DO EXERCITO</td>\n",
       "      <td>E6RV</td>\n",
       "      <td>PLJ</td>\n",
       "      <td>MTOE</td>\n",
       "      <td>683.50</td>\n",
       "      <td>0.00</td>\n",
       "      <td>683.50</td>\n",
       "      <td>0.00</td>\n",
       "    </tr>\n",
       "    <tr>\n",
       "      <th>779</th>\n",
       "      <td>160129</td>\n",
       "      <td>ESA</td>\n",
       "      <td>160533</td>\n",
       "      <td>4º CGCFEX</td>\n",
       "      <td>CML</td>\n",
       "      <td>4ª RM</td>\n",
       "      <td>Três Corações</td>\n",
       "      <td>6112</td>\n",
       "      <td>21A0</td>\n",
       "      <td>APRESTAMENTO DAS FORCAS</td>\n",
       "      <td>160504</td>\n",
       "      <td>COEX/GESTOR</td>\n",
       "      <td>232046</td>\n",
       "      <td>E6RVPLJMTOE</td>\n",
       "      <td>MEDIDAS PROFILÁT SAÚDE EQUINOS</td>\n",
       "      <td>339030</td>\n",
       "      <td>MATERIAL DE CONSUMO</td>\n",
       "      <td>33903036</td>\n",
       "      <td>MATERIAL HOSPITALAR</td>\n",
       "      <td>2024NE000495</td>\n",
       "      <td>2024</td>\n",
       "      <td>2024-05-09</td>\n",
       "      <td>160129000012024NE000495</td>\n",
       "      <td>46440212000190</td>\n",
       "      <td>BRAXTER HOSPITALAR LTDA</td>\n",
       "      <td>RJ</td>\n",
       "      <td>ANO</td>\n",
       "      <td>57</td>\n",
       "      <td>MG</td>\n",
       "      <td>1000000000</td>\n",
       "      <td>PREGAO</td>\n",
       "      <td>ORDINARIO</td>\n",
       "      <td>2</td>\n",
       "      <td>PRIMARIO DISCRICIONARIO</td>\n",
       "      <td>A</td>\n",
       "      <td>INICIAL (LOA)</td>\n",
       "      <td>000G</td>\n",
       "      <td>000000000000</td>\n",
       "      <td>SEM EMENDA</td>\n",
       "      <td>ESCOLA DE SARGENTOS DAS ARMAS</td>\n",
       "      <td>52121</td>\n",
       "      <td>COMANDO DO EXERCITO</td>\n",
       "      <td>E6RV</td>\n",
       "      <td>PLJ</td>\n",
       "      <td>MTOE</td>\n",
       "      <td>1170.10</td>\n",
       "      <td>0.00</td>\n",
       "      <td>1170.10</td>\n",
       "      <td>0.00</td>\n",
       "    </tr>\n",
       "    <tr>\n",
       "      <th>780</th>\n",
       "      <td>160129</td>\n",
       "      <td>ESA</td>\n",
       "      <td>160533</td>\n",
       "      <td>4º CGCFEX</td>\n",
       "      <td>CML</td>\n",
       "      <td>4ª RM</td>\n",
       "      <td>Três Corações</td>\n",
       "      <td>6112</td>\n",
       "      <td>21A0</td>\n",
       "      <td>APRESTAMENTO DAS FORCAS</td>\n",
       "      <td>160504</td>\n",
       "      <td>COEX/GESTOR</td>\n",
       "      <td>232046</td>\n",
       "      <td>E6RVPLJOUT4</td>\n",
       "      <td>REMONTA E VETERINÁRIA</td>\n",
       "      <td>339030</td>\n",
       "      <td>MATERIAL DE CONSUMO</td>\n",
       "      <td>33903024</td>\n",
       "      <td>MATERIAL P/ MANUT.DE BENS IMOVEIS/INSTALACOES</td>\n",
       "      <td>2024NE000761</td>\n",
       "      <td>2024</td>\n",
       "      <td>2024-06-26</td>\n",
       "      <td>160129000012024NE000761</td>\n",
       "      <td>15658667000153</td>\n",
       "      <td>REAL CENTER MATERIAIS DE CONSTRUCAO LTDA</td>\n",
       "      <td>RJ</td>\n",
       "      <td>ANO</td>\n",
       "      <td>9</td>\n",
       "      <td>MG</td>\n",
       "      <td>1000000000</td>\n",
       "      <td>PREGAO</td>\n",
       "      <td>ORDINARIO</td>\n",
       "      <td>2</td>\n",
       "      <td>PRIMARIO DISCRICIONARIO</td>\n",
       "      <td>A</td>\n",
       "      <td>INICIAL (LOA)</td>\n",
       "      <td>000G</td>\n",
       "      <td>000000000000</td>\n",
       "      <td>SEM EMENDA</td>\n",
       "      <td>ESCOLA DE SARGENTOS DAS ARMAS - AV. SETE DE SE...</td>\n",
       "      <td>52121</td>\n",
       "      <td>COMANDO DO EXERCITO</td>\n",
       "      <td>E6RV</td>\n",
       "      <td>PLJ</td>\n",
       "      <td>OUT4</td>\n",
       "      <td>3492.58</td>\n",
       "      <td>0.00</td>\n",
       "      <td>3492.58</td>\n",
       "      <td>0.00</td>\n",
       "    </tr>\n",
       "    <tr>\n",
       "      <th>781</th>\n",
       "      <td>160129</td>\n",
       "      <td>ESA</td>\n",
       "      <td>160533</td>\n",
       "      <td>4º CGCFEX</td>\n",
       "      <td>CML</td>\n",
       "      <td>4ª RM</td>\n",
       "      <td>Três Corações</td>\n",
       "      <td>6112</td>\n",
       "      <td>21A0</td>\n",
       "      <td>APRESTAMENTO DAS FORCAS</td>\n",
       "      <td>160504</td>\n",
       "      <td>COEX/GESTOR</td>\n",
       "      <td>232046</td>\n",
       "      <td>E6RVPLJOUT4</td>\n",
       "      <td>REMONTA E VETERINÁRIA</td>\n",
       "      <td>449052</td>\n",
       "      <td>EQUIPAMENTOS E MATERIAL PERMANENTE</td>\n",
       "      <td>44905234</td>\n",
       "      <td>MAQUINAS, UTENSILIOS E EQUIPAMENTOS  DIVERSOS</td>\n",
       "      <td>2024NE000643</td>\n",
       "      <td>2024</td>\n",
       "      <td>2024-06-17</td>\n",
       "      <td>160129000012024NE000643</td>\n",
       "      <td>46344050000197</td>\n",
       "      <td>SUL AGUA EQUIPAMENTOS LTDA</td>\n",
       "      <td>SC</td>\n",
       "      <td>ANO</td>\n",
       "      <td>18</td>\n",
       "      <td>MG</td>\n",
       "      <td>1000000000</td>\n",
       "      <td>DISPENSA DE LICITACAO</td>\n",
       "      <td>ORDINARIO</td>\n",
       "      <td>2</td>\n",
       "      <td>PRIMARIO DISCRICIONARIO</td>\n",
       "      <td>A</td>\n",
       "      <td>INICIAL (LOA)</td>\n",
       "      <td>000G</td>\n",
       "      <td>000000000000</td>\n",
       "      <td>SEM EMENDA</td>\n",
       "      <td>ESCOLA DE SARGENTOS DAS ARMAS - AV. SETE DE SE...</td>\n",
       "      <td>52121</td>\n",
       "      <td>COMANDO DO EXERCITO</td>\n",
       "      <td>E6RV</td>\n",
       "      <td>PLJ</td>\n",
       "      <td>OUT4</td>\n",
       "      <td>11344.79</td>\n",
       "      <td>0.00</td>\n",
       "      <td>11344.79</td>\n",
       "      <td>0.00</td>\n",
       "    </tr>\n",
       "    <tr>\n",
       "      <th>782</th>\n",
       "      <td>160129</td>\n",
       "      <td>ESA</td>\n",
       "      <td>160533</td>\n",
       "      <td>4º CGCFEX</td>\n",
       "      <td>CML</td>\n",
       "      <td>4ª RM</td>\n",
       "      <td>Três Corações</td>\n",
       "      <td>6112</td>\n",
       "      <td>21A0</td>\n",
       "      <td>APRESTAMENTO DAS FORCAS</td>\n",
       "      <td>160504</td>\n",
       "      <td>COEX/GESTOR</td>\n",
       "      <td>232046</td>\n",
       "      <td>E6RVPLJOUT4</td>\n",
       "      <td>REMONTA E VETERINÁRIA</td>\n",
       "      <td>449052</td>\n",
       "      <td>EQUIPAMENTOS E MATERIAL PERMANENTE</td>\n",
       "      <td>44905238</td>\n",
       "      <td>MAQ., FERRAMENTAS  E  UTENSILIOS  DE  OFICINA</td>\n",
       "      <td>2024NE000771</td>\n",
       "      <td>2024</td>\n",
       "      <td>2024-06-28</td>\n",
       "      <td>160129000012024NE000771</td>\n",
       "      <td>14968227000130</td>\n",
       "      <td>FERGAVI COMERCIAL LTDA</td>\n",
       "      <td>SP</td>\n",
       "      <td>ANO</td>\n",
       "      <td>7</td>\n",
       "      <td>MG</td>\n",
       "      <td>1000000000</td>\n",
       "      <td>PREGAO</td>\n",
       "      <td>ORDINARIO</td>\n",
       "      <td>2</td>\n",
       "      <td>PRIMARIO DISCRICIONARIO</td>\n",
       "      <td>A</td>\n",
       "      <td>INICIAL (LOA)</td>\n",
       "      <td>000G</td>\n",
       "      <td>000000000000</td>\n",
       "      <td>SEM EMENDA</td>\n",
       "      <td>ESCOLA DE SARGENTOS DAS ARMAS - AV. SETE DE SE...</td>\n",
       "      <td>52121</td>\n",
       "      <td>COMANDO DO EXERCITO</td>\n",
       "      <td>E6RV</td>\n",
       "      <td>PLJ</td>\n",
       "      <td>OUT4</td>\n",
       "      <td>958.00</td>\n",
       "      <td>0.00</td>\n",
       "      <td>958.00</td>\n",
       "      <td>0.00</td>\n",
       "    </tr>\n",
       "    <tr>\n",
       "      <th>783</th>\n",
       "      <td>160129</td>\n",
       "      <td>ESA</td>\n",
       "      <td>160533</td>\n",
       "      <td>4º CGCFEX</td>\n",
       "      <td>CML</td>\n",
       "      <td>4ª RM</td>\n",
       "      <td>Três Corações</td>\n",
       "      <td>6112</td>\n",
       "      <td>21A0</td>\n",
       "      <td>APRESTAMENTO DAS FORCAS</td>\n",
       "      <td>160504</td>\n",
       "      <td>COEX/GESTOR</td>\n",
       "      <td>232046</td>\n",
       "      <td>E6RVPLJOUT4</td>\n",
       "      <td>REMONTA E VETERINÁRIA</td>\n",
       "      <td>449052</td>\n",
       "      <td>EQUIPAMENTOS E MATERIAL PERMANENTE</td>\n",
       "      <td>44905238</td>\n",
       "      <td>MAQ., FERRAMENTAS  E  UTENSILIOS  DE  OFICINA</td>\n",
       "      <td>2024NE000772</td>\n",
       "      <td>2024</td>\n",
       "      <td>2024-06-28</td>\n",
       "      <td>160129000012024NE000772</td>\n",
       "      <td>44258379000100</td>\n",
       "      <td>LANCA PRODUTOS - COMERCIO E SERVICOS LTDA</td>\n",
       "      <td>PR</td>\n",
       "      <td>ANO</td>\n",
       "      <td>7</td>\n",
       "      <td>MG</td>\n",
       "      <td>1000000000</td>\n",
       "      <td>PREGAO</td>\n",
       "      <td>ORDINARIO</td>\n",
       "      <td>2</td>\n",
       "      <td>PRIMARIO DISCRICIONARIO</td>\n",
       "      <td>A</td>\n",
       "      <td>INICIAL (LOA)</td>\n",
       "      <td>000G</td>\n",
       "      <td>000000000000</td>\n",
       "      <td>SEM EMENDA</td>\n",
       "      <td>ESCOLA DE SARGENTOS DAS ARMAS - AV. SETE DE SE...</td>\n",
       "      <td>52121</td>\n",
       "      <td>COMANDO DO EXERCITO</td>\n",
       "      <td>E6RV</td>\n",
       "      <td>PLJ</td>\n",
       "      <td>OUT4</td>\n",
       "      <td>1209.80</td>\n",
       "      <td>0.00</td>\n",
       "      <td>1209.80</td>\n",
       "      <td>0.00</td>\n",
       "    </tr>\n",
       "    <tr>\n",
       "      <th>784</th>\n",
       "      <td>160129</td>\n",
       "      <td>ESA</td>\n",
       "      <td>160533</td>\n",
       "      <td>4º CGCFEX</td>\n",
       "      <td>CML</td>\n",
       "      <td>4ª RM</td>\n",
       "      <td>Três Corações</td>\n",
       "      <td>6112</td>\n",
       "      <td>21A0</td>\n",
       "      <td>APRESTAMENTO DAS FORCAS</td>\n",
       "      <td>160504</td>\n",
       "      <td>COEX/GESTOR</td>\n",
       "      <td>232046</td>\n",
       "      <td>E6RVPLJOUT4</td>\n",
       "      <td>REMONTA E VETERINÁRIA</td>\n",
       "      <td>449052</td>\n",
       "      <td>EQUIPAMENTOS E MATERIAL PERMANENTE</td>\n",
       "      <td>44905238</td>\n",
       "      <td>MAQ., FERRAMENTAS  E  UTENSILIOS  DE  OFICINA</td>\n",
       "      <td>2024NE000774</td>\n",
       "      <td>2024</td>\n",
       "      <td>2024-06-28</td>\n",
       "      <td>160129000012024NE000774</td>\n",
       "      <td>04541813000140</td>\n",
       "      <td>MB MARTINS SERVICOS, PRODUTOS E EQUIPAMENTOS LTDA</td>\n",
       "      <td>RJ</td>\n",
       "      <td>ANO</td>\n",
       "      <td>7</td>\n",
       "      <td>MG</td>\n",
       "      <td>1000000000</td>\n",
       "      <td>PREGAO</td>\n",
       "      <td>ORDINARIO</td>\n",
       "      <td>2</td>\n",
       "      <td>PRIMARIO DISCRICIONARIO</td>\n",
       "      <td>A</td>\n",
       "      <td>INICIAL (LOA)</td>\n",
       "      <td>000G</td>\n",
       "      <td>000000000000</td>\n",
       "      <td>SEM EMENDA</td>\n",
       "      <td>ESCOLA DE SARGENTOS DAS ARMAS - AV. SETE DE SE...</td>\n",
       "      <td>52121</td>\n",
       "      <td>COMANDO DO EXERCITO</td>\n",
       "      <td>E6RV</td>\n",
       "      <td>PLJ</td>\n",
       "      <td>OUT4</td>\n",
       "      <td>4060.00</td>\n",
       "      <td>0.00</td>\n",
       "      <td>4060.00</td>\n",
       "      <td>0.00</td>\n",
       "    </tr>\n",
       "    <tr>\n",
       "      <th>785</th>\n",
       "      <td>160129</td>\n",
       "      <td>ESA</td>\n",
       "      <td>160533</td>\n",
       "      <td>4º CGCFEX</td>\n",
       "      <td>CML</td>\n",
       "      <td>4ª RM</td>\n",
       "      <td>Três Corações</td>\n",
       "      <td>6112</td>\n",
       "      <td>21A0</td>\n",
       "      <td>APRESTAMENTO DAS FORCAS</td>\n",
       "      <td>160504</td>\n",
       "      <td>COEX/GESTOR</td>\n",
       "      <td>232046</td>\n",
       "      <td>E6RVPLJOUT4</td>\n",
       "      <td>REMONTA E VETERINÁRIA</td>\n",
       "      <td>449052</td>\n",
       "      <td>EQUIPAMENTOS E MATERIAL PERMANENTE</td>\n",
       "      <td>44905238</td>\n",
       "      <td>MAQ., FERRAMENTAS  E  UTENSILIOS  DE  OFICINA</td>\n",
       "      <td>2024NE000775</td>\n",
       "      <td>2024</td>\n",
       "      <td>2024-06-28</td>\n",
       "      <td>160129000012024NE000775</td>\n",
       "      <td>44258379000100</td>\n",
       "      <td>LANCA PRODUTOS - COMERCIO E SERVICOS LTDA</td>\n",
       "      <td>PR</td>\n",
       "      <td>ANO</td>\n",
       "      <td>7</td>\n",
       "      <td>MG</td>\n",
       "      <td>1000000000</td>\n",
       "      <td>PREGAO</td>\n",
       "      <td>ORDINARIO</td>\n",
       "      <td>2</td>\n",
       "      <td>PRIMARIO DISCRICIONARIO</td>\n",
       "      <td>A</td>\n",
       "      <td>INICIAL (LOA)</td>\n",
       "      <td>000G</td>\n",
       "      <td>000000000000</td>\n",
       "      <td>SEM EMENDA</td>\n",
       "      <td>ESCOLA DE SARGENTOS DAS ARMAS - AV. SETE DE SE...</td>\n",
       "      <td>52121</td>\n",
       "      <td>COMANDO DO EXERCITO</td>\n",
       "      <td>E6RV</td>\n",
       "      <td>PLJ</td>\n",
       "      <td>OUT4</td>\n",
       "      <td>427.66</td>\n",
       "      <td>0.00</td>\n",
       "      <td>427.66</td>\n",
       "      <td>0.00</td>\n",
       "    </tr>\n",
       "    <tr>\n",
       "      <th>786</th>\n",
       "      <td>160129</td>\n",
       "      <td>ESA</td>\n",
       "      <td>160533</td>\n",
       "      <td>4º CGCFEX</td>\n",
       "      <td>CML</td>\n",
       "      <td>4ª RM</td>\n",
       "      <td>Três Corações</td>\n",
       "      <td>6112</td>\n",
       "      <td>21A0</td>\n",
       "      <td>APRESTAMENTO DAS FORCAS</td>\n",
       "      <td>160504</td>\n",
       "      <td>COEX/GESTOR</td>\n",
       "      <td>232046</td>\n",
       "      <td>E6RVPLJOUT4</td>\n",
       "      <td>REMONTA E VETERINÁRIA</td>\n",
       "      <td>449052</td>\n",
       "      <td>EQUIPAMENTOS E MATERIAL PERMANENTE</td>\n",
       "      <td>44905240</td>\n",
       "      <td>MAQUINAS E EQUIPAMENTOS AGRIC. E  RODOVIARIOS</td>\n",
       "      <td>2024NE000494</td>\n",
       "      <td>2024</td>\n",
       "      <td>2024-05-09</td>\n",
       "      <td>160129000012024NE000494</td>\n",
       "      <td>15153524000190</td>\n",
       "      <td>SANIGRAN LTDA</td>\n",
       "      <td>PR</td>\n",
       "      <td>ANO</td>\n",
       "      <td>57</td>\n",
       "      <td>MG</td>\n",
       "      <td>1000000000</td>\n",
       "      <td>PREGAO</td>\n",
       "      <td>ORDINARIO</td>\n",
       "      <td>2</td>\n",
       "      <td>PRIMARIO DISCRICIONARIO</td>\n",
       "      <td>A</td>\n",
       "      <td>INICIAL (LOA)</td>\n",
       "      <td>000G</td>\n",
       "      <td>000000000000</td>\n",
       "      <td>SEM EMENDA</td>\n",
       "      <td>ESCOLA DE SARGENTOS DAS ARMAS</td>\n",
       "      <td>52121</td>\n",
       "      <td>COMANDO DO EXERCITO</td>\n",
       "      <td>E6RV</td>\n",
       "      <td>PLJ</td>\n",
       "      <td>OUT4</td>\n",
       "      <td>2458.40</td>\n",
       "      <td>0.00</td>\n",
       "      <td>2458.40</td>\n",
       "      <td>0.00</td>\n",
       "    </tr>\n",
       "    <tr>\n",
       "      <th>787</th>\n",
       "      <td>160129</td>\n",
       "      <td>ESA</td>\n",
       "      <td>160533</td>\n",
       "      <td>4º CGCFEX</td>\n",
       "      <td>CML</td>\n",
       "      <td>4ª RM</td>\n",
       "      <td>Três Corações</td>\n",
       "      <td>6112</td>\n",
       "      <td>21A0</td>\n",
       "      <td>APRESTAMENTO DAS FORCAS</td>\n",
       "      <td>160504</td>\n",
       "      <td>COEX/GESTOR</td>\n",
       "      <td>232046</td>\n",
       "      <td>E6RVPLJOUT4</td>\n",
       "      <td>REMONTA E VETERINÁRIA</td>\n",
       "      <td>449052</td>\n",
       "      <td>EQUIPAMENTOS E MATERIAL PERMANENTE</td>\n",
       "      <td>44905240</td>\n",
       "      <td>MAQUINAS E EQUIPAMENTOS AGRIC. E  RODOVIARIOS</td>\n",
       "      <td>2024NE000506</td>\n",
       "      <td>2024</td>\n",
       "      <td>2024-05-16</td>\n",
       "      <td>160129000012024NE000506</td>\n",
       "      <td>15153524000190</td>\n",
       "      <td>SANIGRAN LTDA</td>\n",
       "      <td>PR</td>\n",
       "      <td>ANO</td>\n",
       "      <td>50</td>\n",
       "      <td>MG</td>\n",
       "      <td>1000000000</td>\n",
       "      <td>PREGAO</td>\n",
       "      <td>ORDINARIO</td>\n",
       "      <td>2</td>\n",
       "      <td>PRIMARIO DISCRICIONARIO</td>\n",
       "      <td>A</td>\n",
       "      <td>INICIAL (LOA)</td>\n",
       "      <td>000G</td>\n",
       "      <td>000000000000</td>\n",
       "      <td>SEM EMENDA</td>\n",
       "      <td>ESCOLA DE SARGENTOS DAS ARMAS - AV. SETE DE SE...</td>\n",
       "      <td>52121</td>\n",
       "      <td>COMANDO DO EXERCITO</td>\n",
       "      <td>E6RV</td>\n",
       "      <td>PLJ</td>\n",
       "      <td>OUT4</td>\n",
       "      <td>2995.78</td>\n",
       "      <td>0.00</td>\n",
       "      <td>2995.78</td>\n",
       "      <td>0.00</td>\n",
       "    </tr>\n",
       "    <tr>\n",
       "      <th>788</th>\n",
       "      <td>160129</td>\n",
       "      <td>ESA</td>\n",
       "      <td>160533</td>\n",
       "      <td>4º CGCFEX</td>\n",
       "      <td>CML</td>\n",
       "      <td>4ª RM</td>\n",
       "      <td>Três Corações</td>\n",
       "      <td>6112</td>\n",
       "      <td>21A0</td>\n",
       "      <td>APRESTAMENTO DAS FORCAS</td>\n",
       "      <td>160504</td>\n",
       "      <td>COEX/GESTOR</td>\n",
       "      <td>232046</td>\n",
       "      <td>E6RVPLJOUT4</td>\n",
       "      <td>REMONTA E VETERINÁRIA</td>\n",
       "      <td>449052</td>\n",
       "      <td>EQUIPAMENTOS E MATERIAL PERMANENTE</td>\n",
       "      <td>44905240</td>\n",
       "      <td>MAQUINAS E EQUIPAMENTOS AGRIC. E  RODOVIARIOS</td>\n",
       "      <td>2024NE000642</td>\n",
       "      <td>2024</td>\n",
       "      <td>2024-06-17</td>\n",
       "      <td>160129000012024NE000642</td>\n",
       "      <td>36181473000180</td>\n",
       "      <td>BIDDEN COMERCIAL LTDA.</td>\n",
       "      <td>PR</td>\n",
       "      <td>ANO</td>\n",
       "      <td>18</td>\n",
       "      <td>MG</td>\n",
       "      <td>1000000000</td>\n",
       "      <td>DISPENSA DE LICITACAO</td>\n",
       "      <td>ORDINARIO</td>\n",
       "      <td>2</td>\n",
       "      <td>PRIMARIO DISCRICIONARIO</td>\n",
       "      <td>A</td>\n",
       "      <td>INICIAL (LOA)</td>\n",
       "      <td>000G</td>\n",
       "      <td>000000000000</td>\n",
       "      <td>SEM EMENDA</td>\n",
       "      <td>ESCOLA DE SARGENTOS DAS ARMAS - AV. SETE DE SE...</td>\n",
       "      <td>52121</td>\n",
       "      <td>COMANDO DO EXERCITO</td>\n",
       "      <td>E6RV</td>\n",
       "      <td>PLJ</td>\n",
       "      <td>OUT4</td>\n",
       "      <td>1920.00</td>\n",
       "      <td>0.00</td>\n",
       "      <td>1920.00</td>\n",
       "      <td>0.00</td>\n",
       "    </tr>\n",
       "    <tr>\n",
       "      <th>789</th>\n",
       "      <td>160129</td>\n",
       "      <td>ESA</td>\n",
       "      <td>160533</td>\n",
       "      <td>4º CGCFEX</td>\n",
       "      <td>CML</td>\n",
       "      <td>4ª RM</td>\n",
       "      <td>Três Corações</td>\n",
       "      <td>6112</td>\n",
       "      <td>21A0</td>\n",
       "      <td>APRESTAMENTO DAS FORCAS</td>\n",
       "      <td>160504</td>\n",
       "      <td>COEX/GESTOR</td>\n",
       "      <td>232137</td>\n",
       "      <td>E6MIPLJFM20</td>\n",
       "      <td>MATERIAL DE INTENDÊNCIA</td>\n",
       "      <td>449052</td>\n",
       "      <td>EQUIPAMENTOS E MATERIAL PERMANENTE</td>\n",
       "      <td>44905224</td>\n",
       "      <td>EQUIPAMENTO DE PROTECAO, SEGURANCA E  SOCORRO</td>\n",
       "      <td>2024NE000581</td>\n",
       "      <td>2024</td>\n",
       "      <td>2024-06-05</td>\n",
       "      <td>160129000012024NE000581</td>\n",
       "      <td>50365029000145</td>\n",
       "      <td>COMERCIAL DADIVA LTDA</td>\n",
       "      <td>MG</td>\n",
       "      <td>ANO</td>\n",
       "      <td>30</td>\n",
       "      <td>MG</td>\n",
       "      <td>1000000000</td>\n",
       "      <td>PREGAO</td>\n",
       "      <td>ORDINARIO</td>\n",
       "      <td>2</td>\n",
       "      <td>PRIMARIO DISCRICIONARIO</td>\n",
       "      <td>A</td>\n",
       "      <td>INICIAL (LOA)</td>\n",
       "      <td>0004</td>\n",
       "      <td>000000000000</td>\n",
       "      <td>SEM EMENDA</td>\n",
       "      <td>ESCOLA DE SARGENTOS DAS ARMAS</td>\n",
       "      <td>52121</td>\n",
       "      <td>COMANDO DO EXERCITO</td>\n",
       "      <td>E6MI</td>\n",
       "      <td>PLJ</td>\n",
       "      <td>FM20</td>\n",
       "      <td>6889.47</td>\n",
       "      <td>0.00</td>\n",
       "      <td>6889.47</td>\n",
       "      <td>0.00</td>\n",
       "    </tr>\n",
       "    <tr>\n",
       "      <th>790</th>\n",
       "      <td>160129</td>\n",
       "      <td>ESA</td>\n",
       "      <td>160533</td>\n",
       "      <td>4º CGCFEX</td>\n",
       "      <td>CML</td>\n",
       "      <td>4ª RM</td>\n",
       "      <td>Três Corações</td>\n",
       "      <td>6112</td>\n",
       "      <td>21A0</td>\n",
       "      <td>APRESTAMENTO DAS FORCAS</td>\n",
       "      <td>160504</td>\n",
       "      <td>COEX/GESTOR</td>\n",
       "      <td>232137</td>\n",
       "      <td>E6MIPLJINMU</td>\n",
       "      <td>MATERIAL DE INTENDÊNCIA</td>\n",
       "      <td>339030</td>\n",
       "      <td>MATERIAL DE CONSUMO</td>\n",
       "      <td>33903025</td>\n",
       "      <td>MATERIAL P/ MANUTENCAO DE BENS MOVEIS</td>\n",
       "      <td>2024NE000749</td>\n",
       "      <td>2024</td>\n",
       "      <td>2024-06-26</td>\n",
       "      <td>160129000012024NE000749</td>\n",
       "      <td>05019519000135</td>\n",
       "      <td>A.R.T.E. COMERCIAL LTDA</td>\n",
       "      <td>SP</td>\n",
       "      <td>ANO</td>\n",
       "      <td>9</td>\n",
       "      <td>MG</td>\n",
       "      <td>1000000000</td>\n",
       "      <td>PREGAO</td>\n",
       "      <td>ORDINARIO</td>\n",
       "      <td>2</td>\n",
       "      <td>PRIMARIO DISCRICIONARIO</td>\n",
       "      <td>A</td>\n",
       "      <td>INICIAL (LOA)</td>\n",
       "      <td>0004</td>\n",
       "      <td>000000000000</td>\n",
       "      <td>SEM EMENDA</td>\n",
       "      <td>ESCOLA DE SARGENTOS DAS ARMAS - AV. SETE DE SE...</td>\n",
       "      <td>52121</td>\n",
       "      <td>COMANDO DO EXERCITO</td>\n",
       "      <td>E6MI</td>\n",
       "      <td>PLJ</td>\n",
       "      <td>INMU</td>\n",
       "      <td>1439.00</td>\n",
       "      <td>0.00</td>\n",
       "      <td>1439.00</td>\n",
       "      <td>0.00</td>\n",
       "    </tr>\n",
       "    <tr>\n",
       "      <th>791</th>\n",
       "      <td>160129</td>\n",
       "      <td>ESA</td>\n",
       "      <td>160533</td>\n",
       "      <td>4º CGCFEX</td>\n",
       "      <td>CML</td>\n",
       "      <td>4ª RM</td>\n",
       "      <td>Três Corações</td>\n",
       "      <td>6112</td>\n",
       "      <td>21A0</td>\n",
       "      <td>APRESTAMENTO DAS FORCAS</td>\n",
       "      <td>160504</td>\n",
       "      <td>COEX/GESTOR</td>\n",
       "      <td>232137</td>\n",
       "      <td>E6MIPLJINMU</td>\n",
       "      <td>MATERIAL DE INTENDÊNCIA</td>\n",
       "      <td>339030</td>\n",
       "      <td>MATERIAL DE CONSUMO</td>\n",
       "      <td>33903025</td>\n",
       "      <td>MATERIAL P/ MANUTENCAO DE BENS MOVEIS</td>\n",
       "      <td>2024NE000750</td>\n",
       "      <td>2024</td>\n",
       "      <td>2024-06-26</td>\n",
       "      <td>160129000012024NE000750</td>\n",
       "      <td>05019519000135</td>\n",
       "      <td>A.R.T.E. COMERCIAL LTDA</td>\n",
       "      <td>SP</td>\n",
       "      <td>ANO</td>\n",
       "      <td>9</td>\n",
       "      <td>MG</td>\n",
       "      <td>1000000000</td>\n",
       "      <td>PREGAO</td>\n",
       "      <td>ORDINARIO</td>\n",
       "      <td>2</td>\n",
       "      <td>PRIMARIO DISCRICIONARIO</td>\n",
       "      <td>A</td>\n",
       "      <td>INICIAL (LOA)</td>\n",
       "      <td>0004</td>\n",
       "      <td>000000000000</td>\n",
       "      <td>SEM EMENDA</td>\n",
       "      <td>ESCOLA DE SARGENTOS DAS ARMAS - AV. SETE DE SE...</td>\n",
       "      <td>52121</td>\n",
       "      <td>COMANDO DO EXERCITO</td>\n",
       "      <td>E6MI</td>\n",
       "      <td>PLJ</td>\n",
       "      <td>INMU</td>\n",
       "      <td>23205.30</td>\n",
       "      <td>0.00</td>\n",
       "      <td>23205.30</td>\n",
       "      <td>0.00</td>\n",
       "    </tr>\n",
       "    <tr>\n",
       "      <th>792</th>\n",
       "      <td>160129</td>\n",
       "      <td>ESA</td>\n",
       "      <td>160533</td>\n",
       "      <td>4º CGCFEX</td>\n",
       "      <td>CML</td>\n",
       "      <td>4ª RM</td>\n",
       "      <td>Três Corações</td>\n",
       "      <td>6112</td>\n",
       "      <td>21A0</td>\n",
       "      <td>APRESTAMENTO DAS FORCAS</td>\n",
       "      <td>160504</td>\n",
       "      <td>COEX/GESTOR</td>\n",
       "      <td>232137</td>\n",
       "      <td>E6MIPLJINMU</td>\n",
       "      <td>MATERIAL DE INTENDÊNCIA</td>\n",
       "      <td>339030</td>\n",
       "      <td>MATERIAL DE CONSUMO</td>\n",
       "      <td>33903025</td>\n",
       "      <td>MATERIAL P/ MANUTENCAO DE BENS MOVEIS</td>\n",
       "      <td>2024NE000751</td>\n",
       "      <td>2024</td>\n",
       "      <td>2024-06-26</td>\n",
       "      <td>160129000012024NE000751</td>\n",
       "      <td>18047657000170</td>\n",
       "      <td>ALESSANDRA B. TONIETTI INSTRUMENTOS MUSICAIS</td>\n",
       "      <td>SP</td>\n",
       "      <td>ANO</td>\n",
       "      <td>9</td>\n",
       "      <td>MG</td>\n",
       "      <td>1000000000</td>\n",
       "      <td>PREGAO</td>\n",
       "      <td>ORDINARIO</td>\n",
       "      <td>2</td>\n",
       "      <td>PRIMARIO DISCRICIONARIO</td>\n",
       "      <td>A</td>\n",
       "      <td>INICIAL (LOA)</td>\n",
       "      <td>0004</td>\n",
       "      <td>000000000000</td>\n",
       "      <td>SEM EMENDA</td>\n",
       "      <td>ESCOLA DE SARGENTOS DAS ARMAS - AV. SETE DE SE...</td>\n",
       "      <td>52121</td>\n",
       "      <td>COMANDO DO EXERCITO</td>\n",
       "      <td>E6MI</td>\n",
       "      <td>PLJ</td>\n",
       "      <td>INMU</td>\n",
       "      <td>2288.00</td>\n",
       "      <td>0.00</td>\n",
       "      <td>2288.00</td>\n",
       "      <td>0.00</td>\n",
       "    </tr>\n",
       "    <tr>\n",
       "      <th>793</th>\n",
       "      <td>160129</td>\n",
       "      <td>ESA</td>\n",
       "      <td>160533</td>\n",
       "      <td>4º CGCFEX</td>\n",
       "      <td>CML</td>\n",
       "      <td>4ª RM</td>\n",
       "      <td>Três Corações</td>\n",
       "      <td>6112</td>\n",
       "      <td>21A0</td>\n",
       "      <td>APRESTAMENTO DAS FORCAS</td>\n",
       "      <td>160504</td>\n",
       "      <td>COEX/GESTOR</td>\n",
       "      <td>232137</td>\n",
       "      <td>E6MIPLJINMU</td>\n",
       "      <td>MATERIAL DE INTENDÊNCIA</td>\n",
       "      <td>339030</td>\n",
       "      <td>MATERIAL DE CONSUMO</td>\n",
       "      <td>33903025</td>\n",
       "      <td>MATERIAL P/ MANUTENCAO DE BENS MOVEIS</td>\n",
       "      <td>2024NE000752</td>\n",
       "      <td>2024</td>\n",
       "      <td>2024-06-26</td>\n",
       "      <td>160129000012024NE000752</td>\n",
       "      <td>09450715000110</td>\n",
       "      <td>CLAVES E NOTAS COMERCIO DE INSTRUMENTOS MUSICA...</td>\n",
       "      <td>SC</td>\n",
       "      <td>ANO</td>\n",
       "      <td>9</td>\n",
       "      <td>MG</td>\n",
       "      <td>1000000000</td>\n",
       "      <td>PREGAO</td>\n",
       "      <td>ORDINARIO</td>\n",
       "      <td>2</td>\n",
       "      <td>PRIMARIO DISCRICIONARIO</td>\n",
       "      <td>A</td>\n",
       "      <td>INICIAL (LOA)</td>\n",
       "      <td>0004</td>\n",
       "      <td>000000000000</td>\n",
       "      <td>SEM EMENDA</td>\n",
       "      <td>ESCOLA DE SARGENTOS DAS ARMAS - AV. SETE DE SE...</td>\n",
       "      <td>52121</td>\n",
       "      <td>COMANDO DO EXERCITO</td>\n",
       "      <td>E6MI</td>\n",
       "      <td>PLJ</td>\n",
       "      <td>INMU</td>\n",
       "      <td>6791.70</td>\n",
       "      <td>0.00</td>\n",
       "      <td>6791.70</td>\n",
       "      <td>0.00</td>\n",
       "    </tr>\n",
       "    <tr>\n",
       "      <th>794</th>\n",
       "      <td>160129</td>\n",
       "      <td>ESA</td>\n",
       "      <td>160533</td>\n",
       "      <td>4º CGCFEX</td>\n",
       "      <td>CML</td>\n",
       "      <td>4ª RM</td>\n",
       "      <td>Três Corações</td>\n",
       "      <td>6112</td>\n",
       "      <td>21A0</td>\n",
       "      <td>APRESTAMENTO DAS FORCAS</td>\n",
       "      <td>160504</td>\n",
       "      <td>COEX/GESTOR</td>\n",
       "      <td>232137</td>\n",
       "      <td>E6MIPLJINMU</td>\n",
       "      <td>MATERIAL DE INTENDÊNCIA</td>\n",
       "      <td>339030</td>\n",
       "      <td>MATERIAL DE CONSUMO</td>\n",
       "      <td>33903025</td>\n",
       "      <td>MATERIAL P/ MANUTENCAO DE BENS MOVEIS</td>\n",
       "      <td>2024NE000753</td>\n",
       "      <td>2024</td>\n",
       "      <td>2024-06-26</td>\n",
       "      <td>160129000012024NE000753</td>\n",
       "      <td>20971821000182</td>\n",
       "      <td>ESTACAO DA MUSICA LTDA</td>\n",
       "      <td>MG</td>\n",
       "      <td>ANO</td>\n",
       "      <td>9</td>\n",
       "      <td>MG</td>\n",
       "      <td>1000000000</td>\n",
       "      <td>PREGAO</td>\n",
       "      <td>ORDINARIO</td>\n",
       "      <td>2</td>\n",
       "      <td>PRIMARIO DISCRICIONARIO</td>\n",
       "      <td>A</td>\n",
       "      <td>INICIAL (LOA)</td>\n",
       "      <td>0004</td>\n",
       "      <td>000000000000</td>\n",
       "      <td>SEM EMENDA</td>\n",
       "      <td>ESCOLA DE SARGENTOS DAS ARMAS - AV. SETE DE SE...</td>\n",
       "      <td>52121</td>\n",
       "      <td>COMANDO DO EXERCITO</td>\n",
       "      <td>E6MI</td>\n",
       "      <td>PLJ</td>\n",
       "      <td>INMU</td>\n",
       "      <td>4252.86</td>\n",
       "      <td>0.00</td>\n",
       "      <td>4252.86</td>\n",
       "      <td>0.00</td>\n",
       "    </tr>\n",
       "    <tr>\n",
       "      <th>795</th>\n",
       "      <td>160129</td>\n",
       "      <td>ESA</td>\n",
       "      <td>160533</td>\n",
       "      <td>4º CGCFEX</td>\n",
       "      <td>CML</td>\n",
       "      <td>4ª RM</td>\n",
       "      <td>Três Corações</td>\n",
       "      <td>6112</td>\n",
       "      <td>21A0</td>\n",
       "      <td>APRESTAMENTO DAS FORCAS</td>\n",
       "      <td>160504</td>\n",
       "      <td>COEX/GESTOR</td>\n",
       "      <td>232137</td>\n",
       "      <td>E6MIPLJINMU</td>\n",
       "      <td>MATERIAL DE INTENDÊNCIA</td>\n",
       "      <td>339030</td>\n",
       "      <td>MATERIAL DE CONSUMO</td>\n",
       "      <td>33903025</td>\n",
       "      <td>MATERIAL P/ MANUTENCAO DE BENS MOVEIS</td>\n",
       "      <td>2024NE000754</td>\n",
       "      <td>2024</td>\n",
       "      <td>2024-06-26</td>\n",
       "      <td>160129000012024NE000754</td>\n",
       "      <td>47208666000101</td>\n",
       "      <td>LICITEC DISTRIBUIDORA LTDA</td>\n",
       "      <td>MG</td>\n",
       "      <td>ANO</td>\n",
       "      <td>9</td>\n",
       "      <td>MG</td>\n",
       "      <td>1000000000</td>\n",
       "      <td>PREGAO</td>\n",
       "      <td>ORDINARIO</td>\n",
       "      <td>2</td>\n",
       "      <td>PRIMARIO DISCRICIONARIO</td>\n",
       "      <td>A</td>\n",
       "      <td>INICIAL (LOA)</td>\n",
       "      <td>0004</td>\n",
       "      <td>000000000000</td>\n",
       "      <td>SEM EMENDA</td>\n",
       "      <td>ESCOLA DE SARGENTOS DAS ARMAS - AV. SETE DE SE...</td>\n",
       "      <td>52121</td>\n",
       "      <td>COMANDO DO EXERCITO</td>\n",
       "      <td>E6MI</td>\n",
       "      <td>PLJ</td>\n",
       "      <td>INMU</td>\n",
       "      <td>1056.60</td>\n",
       "      <td>0.00</td>\n",
       "      <td>1056.60</td>\n",
       "      <td>0.00</td>\n",
       "    </tr>\n",
       "    <tr>\n",
       "      <th>796</th>\n",
       "      <td>160129</td>\n",
       "      <td>ESA</td>\n",
       "      <td>160533</td>\n",
       "      <td>4º CGCFEX</td>\n",
       "      <td>CML</td>\n",
       "      <td>4ª RM</td>\n",
       "      <td>Três Corações</td>\n",
       "      <td>6112</td>\n",
       "      <td>21A0</td>\n",
       "      <td>APRESTAMENTO DAS FORCAS</td>\n",
       "      <td>160504</td>\n",
       "      <td>COEX/GESTOR</td>\n",
       "      <td>232137</td>\n",
       "      <td>E6MIPLJINMU</td>\n",
       "      <td>MATERIAL DE INTENDÊNCIA</td>\n",
       "      <td>339030</td>\n",
       "      <td>MATERIAL DE CONSUMO</td>\n",
       "      <td>33903025</td>\n",
       "      <td>MATERIAL P/ MANUTENCAO DE BENS MOVEIS</td>\n",
       "      <td>2024NE000755</td>\n",
       "      <td>2024</td>\n",
       "      <td>2024-06-26</td>\n",
       "      <td>160129000012024NE000755</td>\n",
       "      <td>37093491000172</td>\n",
       "      <td>MR CUNHA COMERCIO E VAREJO EM GERAL LTDA</td>\n",
       "      <td>PR</td>\n",
       "      <td>ANO</td>\n",
       "      <td>9</td>\n",
       "      <td>MG</td>\n",
       "      <td>1000000000</td>\n",
       "      <td>PREGAO</td>\n",
       "      <td>ORDINARIO</td>\n",
       "      <td>2</td>\n",
       "      <td>PRIMARIO DISCRICIONARIO</td>\n",
       "      <td>A</td>\n",
       "      <td>INICIAL (LOA)</td>\n",
       "      <td>0004</td>\n",
       "      <td>000000000000</td>\n",
       "      <td>SEM EMENDA</td>\n",
       "      <td>ESCOLA DE SARGENTOS DAS ARMAS - AV. SETE DE SE...</td>\n",
       "      <td>52121</td>\n",
       "      <td>COMANDO DO EXERCITO</td>\n",
       "      <td>E6MI</td>\n",
       "      <td>PLJ</td>\n",
       "      <td>INMU</td>\n",
       "      <td>1110.90</td>\n",
       "      <td>0.00</td>\n",
       "      <td>1110.90</td>\n",
       "      <td>0.00</td>\n",
       "    </tr>\n",
       "    <tr>\n",
       "      <th>797</th>\n",
       "      <td>160129</td>\n",
       "      <td>ESA</td>\n",
       "      <td>160533</td>\n",
       "      <td>4º CGCFEX</td>\n",
       "      <td>CML</td>\n",
       "      <td>4ª RM</td>\n",
       "      <td>Três Corações</td>\n",
       "      <td>6112</td>\n",
       "      <td>21A0</td>\n",
       "      <td>APRESTAMENTO DAS FORCAS</td>\n",
       "      <td>160504</td>\n",
       "      <td>COEX/GESTOR</td>\n",
       "      <td>232137</td>\n",
       "      <td>E6MIPLJINMU</td>\n",
       "      <td>MATERIAL DE INTENDÊNCIA</td>\n",
       "      <td>339030</td>\n",
       "      <td>MATERIAL DE CONSUMO</td>\n",
       "      <td>33903025</td>\n",
       "      <td>MATERIAL P/ MANUTENCAO DE BENS MOVEIS</td>\n",
       "      <td>2024NE000756</td>\n",
       "      <td>2024</td>\n",
       "      <td>2024-06-26</td>\n",
       "      <td>160129000012024NE000756</td>\n",
       "      <td>45167065000164</td>\n",
       "      <td>NUBIA CARLOS COSTA SILVA 95205829672</td>\n",
       "      <td>MG</td>\n",
       "      <td>ANO</td>\n",
       "      <td>9</td>\n",
       "      <td>MG</td>\n",
       "      <td>1000000000</td>\n",
       "      <td>PREGAO</td>\n",
       "      <td>ORDINARIO</td>\n",
       "      <td>2</td>\n",
       "      <td>PRIMARIO DISCRICIONARIO</td>\n",
       "      <td>A</td>\n",
       "      <td>INICIAL (LOA)</td>\n",
       "      <td>0004</td>\n",
       "      <td>000000000000</td>\n",
       "      <td>SEM EMENDA</td>\n",
       "      <td>ESCOLA DE SARGENTOS DAS ARMAS - AV. SETE DE SE...</td>\n",
       "      <td>52121</td>\n",
       "      <td>COMANDO DO EXERCITO</td>\n",
       "      <td>E6MI</td>\n",
       "      <td>PLJ</td>\n",
       "      <td>INMU</td>\n",
       "      <td>2675.54</td>\n",
       "      <td>0.00</td>\n",
       "      <td>2675.54</td>\n",
       "      <td>0.00</td>\n",
       "    </tr>\n",
       "    <tr>\n",
       "      <th>798</th>\n",
       "      <td>160129</td>\n",
       "      <td>ESA</td>\n",
       "      <td>160533</td>\n",
       "      <td>4º CGCFEX</td>\n",
       "      <td>CML</td>\n",
       "      <td>4ª RM</td>\n",
       "      <td>Três Corações</td>\n",
       "      <td>6112</td>\n",
       "      <td>21A0</td>\n",
       "      <td>APRESTAMENTO DAS FORCAS</td>\n",
       "      <td>160504</td>\n",
       "      <td>COEX/GESTOR</td>\n",
       "      <td>232137</td>\n",
       "      <td>E6MIPLJINMU</td>\n",
       "      <td>MATERIAL DE INTENDÊNCIA</td>\n",
       "      <td>339030</td>\n",
       "      <td>MATERIAL DE CONSUMO</td>\n",
       "      <td>33903025</td>\n",
       "      <td>MATERIAL P/ MANUTENCAO DE BENS MOVEIS</td>\n",
       "      <td>2024NE000757</td>\n",
       "      <td>2024</td>\n",
       "      <td>2024-06-26</td>\n",
       "      <td>160129000012024NE000757</td>\n",
       "      <td>08945027000169</td>\n",
       "      <td>PEDRO G.FERNANDES</td>\n",
       "      <td>SP</td>\n",
       "      <td>ANO</td>\n",
       "      <td>9</td>\n",
       "      <td>MG</td>\n",
       "      <td>1000000000</td>\n",
       "      <td>PREGAO</td>\n",
       "      <td>ORDINARIO</td>\n",
       "      <td>2</td>\n",
       "      <td>PRIMARIO DISCRICIONARIO</td>\n",
       "      <td>A</td>\n",
       "      <td>INICIAL (LOA)</td>\n",
       "      <td>0004</td>\n",
       "      <td>000000000000</td>\n",
       "      <td>SEM EMENDA</td>\n",
       "      <td>ESCOLA DE SARGENTOS DAS ARMAS - AV. SETE DE SE...</td>\n",
       "      <td>52121</td>\n",
       "      <td>COMANDO DO EXERCITO</td>\n",
       "      <td>E6MI</td>\n",
       "      <td>PLJ</td>\n",
       "      <td>INMU</td>\n",
       "      <td>8284.00</td>\n",
       "      <td>0.00</td>\n",
       "      <td>8284.00</td>\n",
       "      <td>0.00</td>\n",
       "    </tr>\n",
       "    <tr>\n",
       "      <th>799</th>\n",
       "      <td>160129</td>\n",
       "      <td>ESA</td>\n",
       "      <td>160533</td>\n",
       "      <td>4º CGCFEX</td>\n",
       "      <td>CML</td>\n",
       "      <td>4ª RM</td>\n",
       "      <td>Três Corações</td>\n",
       "      <td>6112</td>\n",
       "      <td>21A0</td>\n",
       "      <td>APRESTAMENTO DAS FORCAS</td>\n",
       "      <td>160504</td>\n",
       "      <td>COEX/GESTOR</td>\n",
       "      <td>232137</td>\n",
       "      <td>E6MIPLJINMU</td>\n",
       "      <td>MATERIAL DE INTENDÊNCIA</td>\n",
       "      <td>339030</td>\n",
       "      <td>MATERIAL DE CONSUMO</td>\n",
       "      <td>33903025</td>\n",
       "      <td>MATERIAL P/ MANUTENCAO DE BENS MOVEIS</td>\n",
       "      <td>2024NE000758</td>\n",
       "      <td>2024</td>\n",
       "      <td>2024-06-26</td>\n",
       "      <td>160129000012024NE000758</td>\n",
       "      <td>08666165000109</td>\n",
       "      <td>T. M. T. INSTRUMENTOS MUSICAIS LTDA</td>\n",
       "      <td>PR</td>\n",
       "      <td>ANO</td>\n",
       "      <td>9</td>\n",
       "      <td>MG</td>\n",
       "      <td>1000000000</td>\n",
       "      <td>PREGAO</td>\n",
       "      <td>ORDINARIO</td>\n",
       "      <td>2</td>\n",
       "      <td>PRIMARIO DISCRICIONARIO</td>\n",
       "      <td>A</td>\n",
       "      <td>INICIAL (LOA)</td>\n",
       "      <td>0004</td>\n",
       "      <td>000000000000</td>\n",
       "      <td>SEM EMENDA</td>\n",
       "      <td>ESCOLA DE SARGENTOS DAS ARMAS - AV. SETE DE SE...</td>\n",
       "      <td>52121</td>\n",
       "      <td>COMANDO DO EXERCITO</td>\n",
       "      <td>E6MI</td>\n",
       "      <td>PLJ</td>\n",
       "      <td>INMU</td>\n",
       "      <td>759.20</td>\n",
       "      <td>0.00</td>\n",
       "      <td>759.20</td>\n",
       "      <td>0.00</td>\n",
       "    </tr>\n",
       "    <tr>\n",
       "      <th>800</th>\n",
       "      <td>160129</td>\n",
       "      <td>ESA</td>\n",
       "      <td>160533</td>\n",
       "      <td>4º CGCFEX</td>\n",
       "      <td>CML</td>\n",
       "      <td>4ª RM</td>\n",
       "      <td>Três Corações</td>\n",
       "      <td>6112</td>\n",
       "      <td>21A0</td>\n",
       "      <td>APRESTAMENTO DAS FORCAS</td>\n",
       "      <td>160504</td>\n",
       "      <td>COEX/GESTOR</td>\n",
       "      <td>232137</td>\n",
       "      <td>E6MIPLJINMU</td>\n",
       "      <td>MATERIAL DE INTENDÊNCIA</td>\n",
       "      <td>339030</td>\n",
       "      <td>MATERIAL DE CONSUMO</td>\n",
       "      <td>33903025</td>\n",
       "      <td>MATERIAL P/ MANUTENCAO DE BENS MOVEIS</td>\n",
       "      <td>2024NE000759</td>\n",
       "      <td>2024</td>\n",
       "      <td>2024-06-26</td>\n",
       "      <td>160129000012024NE000759</td>\n",
       "      <td>32846158000173</td>\n",
       "      <td>TEC SERV EMPRENDIMENTOS LTDA</td>\n",
       "      <td>AP</td>\n",
       "      <td>ANO</td>\n",
       "      <td>9</td>\n",
       "      <td>MG</td>\n",
       "      <td>1000000000</td>\n",
       "      <td>PREGAO</td>\n",
       "      <td>ORDINARIO</td>\n",
       "      <td>2</td>\n",
       "      <td>PRIMARIO DISCRICIONARIO</td>\n",
       "      <td>A</td>\n",
       "      <td>INICIAL (LOA)</td>\n",
       "      <td>0004</td>\n",
       "      <td>000000000000</td>\n",
       "      <td>SEM EMENDA</td>\n",
       "      <td>ESCOLA DE SARGENTOS DAS ARMAS - AV. SETE DE SE...</td>\n",
       "      <td>52121</td>\n",
       "      <td>COMANDO DO EXERCITO</td>\n",
       "      <td>E6MI</td>\n",
       "      <td>PLJ</td>\n",
       "      <td>INMU</td>\n",
       "      <td>1024.00</td>\n",
       "      <td>0.00</td>\n",
       "      <td>1024.00</td>\n",
       "      <td>0.00</td>\n",
       "    </tr>\n",
       "    <tr>\n",
       "      <th>801</th>\n",
       "      <td>160129</td>\n",
       "      <td>ESA</td>\n",
       "      <td>160533</td>\n",
       "      <td>4º CGCFEX</td>\n",
       "      <td>CML</td>\n",
       "      <td>4ª RM</td>\n",
       "      <td>Três Corações</td>\n",
       "      <td>6112</td>\n",
       "      <td>21A0</td>\n",
       "      <td>APRESTAMENTO DAS FORCAS</td>\n",
       "      <td>160504</td>\n",
       "      <td>COEX/GESTOR</td>\n",
       "      <td>232137</td>\n",
       "      <td>E6MIPLJINMU</td>\n",
       "      <td>MATERIAL DE INTENDÊNCIA</td>\n",
       "      <td>339030</td>\n",
       "      <td>MATERIAL DE CONSUMO</td>\n",
       "      <td>33903025</td>\n",
       "      <td>MATERIAL P/ MANUTENCAO DE BENS MOVEIS</td>\n",
       "      <td>2024NE000760</td>\n",
       "      <td>2024</td>\n",
       "      <td>2024-06-26</td>\n",
       "      <td>160129000012024NE000760</td>\n",
       "      <td>23614351000198</td>\n",
       "      <td>VIA SINFONICA INSTRUMENTOS MUSICAIS LTDA</td>\n",
       "      <td>SP</td>\n",
       "      <td>ANO</td>\n",
       "      <td>9</td>\n",
       "      <td>MG</td>\n",
       "      <td>1000000000</td>\n",
       "      <td>PREGAO</td>\n",
       "      <td>ORDINARIO</td>\n",
       "      <td>2</td>\n",
       "      <td>PRIMARIO DISCRICIONARIO</td>\n",
       "      <td>A</td>\n",
       "      <td>INICIAL (LOA)</td>\n",
       "      <td>0004</td>\n",
       "      <td>000000000000</td>\n",
       "      <td>SEM EMENDA</td>\n",
       "      <td>ESCOLA DE SARGENTOS DAS ARMAS - AV. SETE DE SE...</td>\n",
       "      <td>52121</td>\n",
       "      <td>COMANDO DO EXERCITO</td>\n",
       "      <td>E6MI</td>\n",
       "      <td>PLJ</td>\n",
       "      <td>INMU</td>\n",
       "      <td>9470.00</td>\n",
       "      <td>0.00</td>\n",
       "      <td>9470.00</td>\n",
       "      <td>0.00</td>\n",
       "    </tr>\n",
       "    <tr>\n",
       "      <th>802</th>\n",
       "      <td>160129</td>\n",
       "      <td>ESA</td>\n",
       "      <td>160533</td>\n",
       "      <td>4º CGCFEX</td>\n",
       "      <td>CML</td>\n",
       "      <td>4ª RM</td>\n",
       "      <td>Três Corações</td>\n",
       "      <td>6112</td>\n",
       "      <td>21A0</td>\n",
       "      <td>APRESTAMENTO DAS FORCAS</td>\n",
       "      <td>160504</td>\n",
       "      <td>COEX/GESTOR</td>\n",
       "      <td>232137</td>\n",
       "      <td>E6MIPLJINMU</td>\n",
       "      <td>MATERIAL DE INTENDÊNCIA</td>\n",
       "      <td>339030</td>\n",
       "      <td>MATERIAL DE CONSUMO</td>\n",
       "      <td>33903025</td>\n",
       "      <td>MATERIAL P/ MANUTENCAO DE BENS MOVEIS</td>\n",
       "      <td>2024NE000808</td>\n",
       "      <td>2024</td>\n",
       "      <td>2024-07-02</td>\n",
       "      <td>160129000012024NE000808</td>\n",
       "      <td>20971821000182</td>\n",
       "      <td>ESTACAO DA MUSICA LTDA</td>\n",
       "      <td>MG</td>\n",
       "      <td>ANO</td>\n",
       "      <td>3</td>\n",
       "      <td>MG</td>\n",
       "      <td>1000000000</td>\n",
       "      <td>PREGAO</td>\n",
       "      <td>ORDINARIO</td>\n",
       "      <td>2</td>\n",
       "      <td>PRIMARIO DISCRICIONARIO</td>\n",
       "      <td>A</td>\n",
       "      <td>INICIAL (LOA)</td>\n",
       "      <td>0004</td>\n",
       "      <td>000000000000</td>\n",
       "      <td>SEM EMENDA</td>\n",
       "      <td>ESCOLA DE SARGENTOS DAS ARMAS - AV. SETE DE SE...</td>\n",
       "      <td>52121</td>\n",
       "      <td>COMANDO DO EXERCITO</td>\n",
       "      <td>E6MI</td>\n",
       "      <td>PLJ</td>\n",
       "      <td>INMU</td>\n",
       "      <td>6916.00</td>\n",
       "      <td>0.00</td>\n",
       "      <td>6916.00</td>\n",
       "      <td>0.00</td>\n",
       "    </tr>\n",
       "    <tr>\n",
       "      <th>803</th>\n",
       "      <td>160129</td>\n",
       "      <td>ESA</td>\n",
       "      <td>160533</td>\n",
       "      <td>4º CGCFEX</td>\n",
       "      <td>CML</td>\n",
       "      <td>4ª RM</td>\n",
       "      <td>Três Corações</td>\n",
       "      <td>6112</td>\n",
       "      <td>21A0</td>\n",
       "      <td>APRESTAMENTO DAS FORCAS</td>\n",
       "      <td>160504</td>\n",
       "      <td>COEX/GESTOR</td>\n",
       "      <td>232137</td>\n",
       "      <td>E6MIPLJMMTH</td>\n",
       "      <td>MATERIAL DE INTENDÊNCIA</td>\n",
       "      <td>339030</td>\n",
       "      <td>MATERIAL DE CONSUMO</td>\n",
       "      <td>33903028</td>\n",
       "      <td>MATERIAL DE PROTECAO E SEGURANCA</td>\n",
       "      <td>2024NE000530</td>\n",
       "      <td>2024</td>\n",
       "      <td>2024-05-27</td>\n",
       "      <td>160129000012024NE000530</td>\n",
       "      <td>29309583000119</td>\n",
       "      <td>R.P FERRAGENS LTDA</td>\n",
       "      <td>RS</td>\n",
       "      <td>ANO</td>\n",
       "      <td>39</td>\n",
       "      <td>MG</td>\n",
       "      <td>1000000000</td>\n",
       "      <td>PREGAO</td>\n",
       "      <td>ORDINARIO</td>\n",
       "      <td>2</td>\n",
       "      <td>PRIMARIO DISCRICIONARIO</td>\n",
       "      <td>A</td>\n",
       "      <td>INICIAL (LOA)</td>\n",
       "      <td>0004</td>\n",
       "      <td>000000000000</td>\n",
       "      <td>SEM EMENDA</td>\n",
       "      <td>ESCOLA DE SARGENTOS DAS ARMAS - AV. SETE DE SE...</td>\n",
       "      <td>52121</td>\n",
       "      <td>COMANDO DO EXERCITO</td>\n",
       "      <td>E6MI</td>\n",
       "      <td>PLJ</td>\n",
       "      <td>MMTH</td>\n",
       "      <td>2000.00</td>\n",
       "      <td>0.00</td>\n",
       "      <td>2000.00</td>\n",
       "      <td>0.00</td>\n",
       "    </tr>\n",
       "    <tr>\n",
       "      <th>804</th>\n",
       "      <td>160129</td>\n",
       "      <td>ESA</td>\n",
       "      <td>160533</td>\n",
       "      <td>4º CGCFEX</td>\n",
       "      <td>CML</td>\n",
       "      <td>4ª RM</td>\n",
       "      <td>Três Corações</td>\n",
       "      <td>6112</td>\n",
       "      <td>21A0</td>\n",
       "      <td>APRESTAMENTO DAS FORCAS</td>\n",
       "      <td>160504</td>\n",
       "      <td>COEX/GESTOR</td>\n",
       "      <td>232137</td>\n",
       "      <td>E6MIPLJMMTH</td>\n",
       "      <td>MATERIAL DE INTENDÊNCIA</td>\n",
       "      <td>339030</td>\n",
       "      <td>MATERIAL DE CONSUMO</td>\n",
       "      <td>33903028</td>\n",
       "      <td>MATERIAL DE PROTECAO E SEGURANCA</td>\n",
       "      <td>2024NE000531</td>\n",
       "      <td>2024</td>\n",
       "      <td>2024-05-27</td>\n",
       "      <td>160129000012024NE000531</td>\n",
       "      <td>01359742000170</td>\n",
       "      <td>M. ARNAUD &amp; CIA LTDA</td>\n",
       "      <td>SP</td>\n",
       "      <td>ANO</td>\n",
       "      <td>39</td>\n",
       "      <td>MG</td>\n",
       "      <td>1000000000</td>\n",
       "      <td>PREGAO</td>\n",
       "      <td>ORDINARIO</td>\n",
       "      <td>2</td>\n",
       "      <td>PRIMARIO DISCRICIONARIO</td>\n",
       "      <td>A</td>\n",
       "      <td>INICIAL (LOA)</td>\n",
       "      <td>0004</td>\n",
       "      <td>000000000000</td>\n",
       "      <td>SEM EMENDA</td>\n",
       "      <td>ESCOLA DE SARGENTOS DAS ARMAS - AV. SETE DE SE...</td>\n",
       "      <td>52121</td>\n",
       "      <td>COMANDO DO EXERCITO</td>\n",
       "      <td>E6MI</td>\n",
       "      <td>PLJ</td>\n",
       "      <td>MMTH</td>\n",
       "      <td>2150.00</td>\n",
       "      <td>0.00</td>\n",
       "      <td>2150.00</td>\n",
       "      <td>0.00</td>\n",
       "    </tr>\n",
       "    <tr>\n",
       "      <th>805</th>\n",
       "      <td>160129</td>\n",
       "      <td>ESA</td>\n",
       "      <td>160533</td>\n",
       "      <td>4º CGCFEX</td>\n",
       "      <td>CML</td>\n",
       "      <td>4ª RM</td>\n",
       "      <td>Três Corações</td>\n",
       "      <td>6112</td>\n",
       "      <td>21A0</td>\n",
       "      <td>APRESTAMENTO DAS FORCAS</td>\n",
       "      <td>160504</td>\n",
       "      <td>COEX/GESTOR</td>\n",
       "      <td>232137</td>\n",
       "      <td>E6MIPLJMMTH</td>\n",
       "      <td>MATERIAL DE INTENDÊNCIA</td>\n",
       "      <td>339030</td>\n",
       "      <td>MATERIAL DE CONSUMO</td>\n",
       "      <td>33903028</td>\n",
       "      <td>MATERIAL DE PROTECAO E SEGURANCA</td>\n",
       "      <td>2024NE000532</td>\n",
       "      <td>2024</td>\n",
       "      <td>2024-05-27</td>\n",
       "      <td>160129000012024NE000532</td>\n",
       "      <td>06016341000131</td>\n",
       "      <td>SEGLINE DISTRIBUIDORA E IMPORTADORA DE EQUIPAM...</td>\n",
       "      <td>PR</td>\n",
       "      <td>ANO</td>\n",
       "      <td>39</td>\n",
       "      <td>MG</td>\n",
       "      <td>1000000000</td>\n",
       "      <td>PREGAO</td>\n",
       "      <td>ORDINARIO</td>\n",
       "      <td>2</td>\n",
       "      <td>PRIMARIO DISCRICIONARIO</td>\n",
       "      <td>A</td>\n",
       "      <td>INICIAL (LOA)</td>\n",
       "      <td>0004</td>\n",
       "      <td>000000000000</td>\n",
       "      <td>SEM EMENDA</td>\n",
       "      <td>ESCOLA DE SARGENTOS DAS ARMAS - AV. SETE DE SE...</td>\n",
       "      <td>52121</td>\n",
       "      <td>COMANDO DO EXERCITO</td>\n",
       "      <td>E6MI</td>\n",
       "      <td>PLJ</td>\n",
       "      <td>MMTH</td>\n",
       "      <td>14676.80</td>\n",
       "      <td>0.00</td>\n",
       "      <td>14676.80</td>\n",
       "      <td>0.00</td>\n",
       "    </tr>\n",
       "    <tr>\n",
       "      <th>806</th>\n",
       "      <td>160129</td>\n",
       "      <td>ESA</td>\n",
       "      <td>160533</td>\n",
       "      <td>4º CGCFEX</td>\n",
       "      <td>CML</td>\n",
       "      <td>4ª RM</td>\n",
       "      <td>Três Corações</td>\n",
       "      <td>6112</td>\n",
       "      <td>21A0</td>\n",
       "      <td>APRESTAMENTO DAS FORCAS</td>\n",
       "      <td>160504</td>\n",
       "      <td>COEX/GESTOR</td>\n",
       "      <td>232137</td>\n",
       "      <td>E6MIPLJMMTH</td>\n",
       "      <td>MATERIAL DE INTENDÊNCIA</td>\n",
       "      <td>449052</td>\n",
       "      <td>EQUIPAMENTOS E MATERIAL PERMANENTE</td>\n",
       "      <td>44905224</td>\n",
       "      <td>EQUIPAMENTO DE PROTECAO, SEGURANCA E  SOCORRO</td>\n",
       "      <td>2024NE000534</td>\n",
       "      <td>2024</td>\n",
       "      <td>2024-05-27</td>\n",
       "      <td>160129000012024NE000534</td>\n",
       "      <td>50116864000141</td>\n",
       "      <td>TLS EQUIPAMENTOS DE PROTECAO LTDA</td>\n",
       "      <td>PR</td>\n",
       "      <td>ANO</td>\n",
       "      <td>39</td>\n",
       "      <td>MG</td>\n",
       "      <td>1000000000</td>\n",
       "      <td>PREGAO</td>\n",
       "      <td>ORDINARIO</td>\n",
       "      <td>2</td>\n",
       "      <td>PRIMARIO DISCRICIONARIO</td>\n",
       "      <td>A</td>\n",
       "      <td>INICIAL (LOA)</td>\n",
       "      <td>0004</td>\n",
       "      <td>000000000000</td>\n",
       "      <td>SEM EMENDA</td>\n",
       "      <td>ESCOLA DE SARGENTOS DAS ARMAS - AV. SETE DE SE...</td>\n",
       "      <td>52121</td>\n",
       "      <td>COMANDO DO EXERCITO</td>\n",
       "      <td>E6MI</td>\n",
       "      <td>PLJ</td>\n",
       "      <td>MMTH</td>\n",
       "      <td>1212.78</td>\n",
       "      <td>0.00</td>\n",
       "      <td>1212.78</td>\n",
       "      <td>0.00</td>\n",
       "    </tr>\n",
       "    <tr>\n",
       "      <th>807</th>\n",
       "      <td>160129</td>\n",
       "      <td>ESA</td>\n",
       "      <td>160533</td>\n",
       "      <td>4º CGCFEX</td>\n",
       "      <td>CML</td>\n",
       "      <td>4ª RM</td>\n",
       "      <td>Três Corações</td>\n",
       "      <td>6112</td>\n",
       "      <td>21A0</td>\n",
       "      <td>APRESTAMENTO DAS FORCAS</td>\n",
       "      <td>160504</td>\n",
       "      <td>COEX/GESTOR</td>\n",
       "      <td>232137</td>\n",
       "      <td>E6MIPLJMMTH</td>\n",
       "      <td>MATERIAL DE INTENDÊNCIA</td>\n",
       "      <td>449052</td>\n",
       "      <td>EQUIPAMENTOS E MATERIAL PERMANENTE</td>\n",
       "      <td>44905224</td>\n",
       "      <td>EQUIPAMENTO DE PROTECAO, SEGURANCA E  SOCORRO</td>\n",
       "      <td>2024NE000535</td>\n",
       "      <td>2024</td>\n",
       "      <td>2024-05-27</td>\n",
       "      <td>160129000012024NE000535</td>\n",
       "      <td>01359742000170</td>\n",
       "      <td>M. ARNAUD &amp; CIA LTDA</td>\n",
       "      <td>SP</td>\n",
       "      <td>ANO</td>\n",
       "      <td>39</td>\n",
       "      <td>MG</td>\n",
       "      <td>1000000000</td>\n",
       "      <td>PREGAO</td>\n",
       "      <td>ORDINARIO</td>\n",
       "      <td>2</td>\n",
       "      <td>PRIMARIO DISCRICIONARIO</td>\n",
       "      <td>A</td>\n",
       "      <td>INICIAL (LOA)</td>\n",
       "      <td>0004</td>\n",
       "      <td>000000000000</td>\n",
       "      <td>SEM EMENDA</td>\n",
       "      <td>ESCOLA DE SARGENTOS DAS ARMAS - AV. SETE DE SE...</td>\n",
       "      <td>52121</td>\n",
       "      <td>COMANDO DO EXERCITO</td>\n",
       "      <td>E6MI</td>\n",
       "      <td>PLJ</td>\n",
       "      <td>MMTH</td>\n",
       "      <td>4170.00</td>\n",
       "      <td>0.00</td>\n",
       "      <td>4170.00</td>\n",
       "      <td>0.00</td>\n",
       "    </tr>\n",
       "    <tr>\n",
       "      <th>808</th>\n",
       "      <td>160129</td>\n",
       "      <td>ESA</td>\n",
       "      <td>160533</td>\n",
       "      <td>4º CGCFEX</td>\n",
       "      <td>CML</td>\n",
       "      <td>4ª RM</td>\n",
       "      <td>Três Corações</td>\n",
       "      <td>6112</td>\n",
       "      <td>21A0</td>\n",
       "      <td>APRESTAMENTO DAS FORCAS</td>\n",
       "      <td>160504</td>\n",
       "      <td>COEX/GESTOR</td>\n",
       "      <td>232137</td>\n",
       "      <td>E6MIPLJMMTH</td>\n",
       "      <td>MATERIAL DE INTENDÊNCIA</td>\n",
       "      <td>449052</td>\n",
       "      <td>EQUIPAMENTOS E MATERIAL PERMANENTE</td>\n",
       "      <td>44905224</td>\n",
       "      <td>EQUIPAMENTO DE PROTECAO, SEGURANCA E  SOCORRO</td>\n",
       "      <td>2024NE000541</td>\n",
       "      <td>2024</td>\n",
       "      <td>2024-05-27</td>\n",
       "      <td>160129000012024NE000541</td>\n",
       "      <td>01359742000170</td>\n",
       "      <td>M. ARNAUD &amp; CIA LTDA</td>\n",
       "      <td>SP</td>\n",
       "      <td>ANO</td>\n",
       "      <td>39</td>\n",
       "      <td>MG</td>\n",
       "      <td>1000000000</td>\n",
       "      <td>PREGAO</td>\n",
       "      <td>ORDINARIO</td>\n",
       "      <td>2</td>\n",
       "      <td>PRIMARIO DISCRICIONARIO</td>\n",
       "      <td>A</td>\n",
       "      <td>INICIAL (LOA)</td>\n",
       "      <td>0004</td>\n",
       "      <td>000000000000</td>\n",
       "      <td>SEM EMENDA</td>\n",
       "      <td>ESCOLA DE SARGENTOS DAS ARMAS</td>\n",
       "      <td>52121</td>\n",
       "      <td>COMANDO DO EXERCITO</td>\n",
       "      <td>E6MI</td>\n",
       "      <td>PLJ</td>\n",
       "      <td>MMTH</td>\n",
       "      <td>4410.00</td>\n",
       "      <td>0.00</td>\n",
       "      <td>4410.00</td>\n",
       "      <td>0.00</td>\n",
       "    </tr>\n",
       "    <tr>\n",
       "      <th>809</th>\n",
       "      <td>160129</td>\n",
       "      <td>ESA</td>\n",
       "      <td>160533</td>\n",
       "      <td>4º CGCFEX</td>\n",
       "      <td>CML</td>\n",
       "      <td>4ª RM</td>\n",
       "      <td>Três Corações</td>\n",
       "      <td>6112</td>\n",
       "      <td>21A0</td>\n",
       "      <td>APRESTAMENTO DAS FORCAS</td>\n",
       "      <td>160504</td>\n",
       "      <td>COEX/GESTOR</td>\n",
       "      <td>232144</td>\n",
       "      <td>E5MBGRMDEGE</td>\n",
       "      <td>LOG VTR BLD SOB GESTÃO DA REGIÃO MILITAR</td>\n",
       "      <td>339030</td>\n",
       "      <td>MATERIAL DE CONSUMO</td>\n",
       "      <td>33903039</td>\n",
       "      <td>MATERIAL P/ MANUTENCAO DE VEICULOS</td>\n",
       "      <td>2024NE000730</td>\n",
       "      <td>2024</td>\n",
       "      <td>2024-06-25</td>\n",
       "      <td>160129000012024NE000730</td>\n",
       "      <td>36519422000115</td>\n",
       "      <td>ON-HIGHWAY BRASIL LTDA.</td>\n",
       "      <td>MG</td>\n",
       "      <td>ANO</td>\n",
       "      <td>10</td>\n",
       "      <td>MG</td>\n",
       "      <td>1000000000</td>\n",
       "      <td>PREGAO</td>\n",
       "      <td>GLOBAL</td>\n",
       "      <td>2</td>\n",
       "      <td>PRIMARIO DISCRICIONARIO</td>\n",
       "      <td>A</td>\n",
       "      <td>INICIAL (LOA)</td>\n",
       "      <td>0005</td>\n",
       "      <td>000000000000</td>\n",
       "      <td>SEM EMENDA</td>\n",
       "      <td>ESCOLA DE SARGENTOS DAS ARMAS - AV. SETE DE SE...</td>\n",
       "      <td>52121</td>\n",
       "      <td>COMANDO DO EXERCITO</td>\n",
       "      <td>E5MB</td>\n",
       "      <td>GRM</td>\n",
       "      <td>DEGE</td>\n",
       "      <td>57073.17</td>\n",
       "      <td>0.00</td>\n",
       "      <td>57073.17</td>\n",
       "      <td>0.00</td>\n",
       "    </tr>\n",
       "    <tr>\n",
       "      <th>810</th>\n",
       "      <td>160129</td>\n",
       "      <td>ESA</td>\n",
       "      <td>160533</td>\n",
       "      <td>4º CGCFEX</td>\n",
       "      <td>CML</td>\n",
       "      <td>4ª RM</td>\n",
       "      <td>Três Corações</td>\n",
       "      <td>6112</td>\n",
       "      <td>21A0</td>\n",
       "      <td>APRESTAMENTO DAS FORCAS</td>\n",
       "      <td>160504</td>\n",
       "      <td>COEX/GESTOR</td>\n",
       "      <td>232144</td>\n",
       "      <td>E5MBSUNPASS</td>\n",
       "      <td>SUPRIMENTO E MANUTENCAO - MB - PASSAGENS</td>\n",
       "      <td>339033</td>\n",
       "      <td>PASSAGENS E DESPESAS COM LOCOMOCAO</td>\n",
       "      <td>33903301</td>\n",
       "      <td>PASSAGENS PARA O PAIS</td>\n",
       "      <td>2024NE000390</td>\n",
       "      <td>2024</td>\n",
       "      <td>2024-04-17</td>\n",
       "      <td>160129000012024NE000390</td>\n",
       "      <td>21331404000138</td>\n",
       "      <td>ORLEANS VIAGENS E TURISMO LTDA</td>\n",
       "      <td>SP</td>\n",
       "      <td>ANO</td>\n",
       "      <td>79</td>\n",
       "      <td>MG</td>\n",
       "      <td>1000000000</td>\n",
       "      <td>PREGAO</td>\n",
       "      <td>GLOBAL</td>\n",
       "      <td>2</td>\n",
       "      <td>PRIMARIO DISCRICIONARIO</td>\n",
       "      <td>A</td>\n",
       "      <td>INICIAL (LOA)</td>\n",
       "      <td>0005</td>\n",
       "      <td>000000000000</td>\n",
       "      <td>SEM EMENDA</td>\n",
       "      <td>ESA</td>\n",
       "      <td>52121</td>\n",
       "      <td>COMANDO DO EXERCITO</td>\n",
       "      <td>E5MB</td>\n",
       "      <td>SUN</td>\n",
       "      <td>PASS</td>\n",
       "      <td>0.00</td>\n",
       "      <td>25.57</td>\n",
       "      <td>25.57</td>\n",
       "      <td>337.07</td>\n",
       "    </tr>\n",
       "    <tr>\n",
       "      <th>811</th>\n",
       "      <td>160129</td>\n",
       "      <td>ESA</td>\n",
       "      <td>160533</td>\n",
       "      <td>4º CGCFEX</td>\n",
       "      <td>CML</td>\n",
       "      <td>4ª RM</td>\n",
       "      <td>Três Corações</td>\n",
       "      <td>6112</td>\n",
       "      <td>21A0</td>\n",
       "      <td>APRESTAMENTO DAS FORCAS</td>\n",
       "      <td>160504</td>\n",
       "      <td>COEX/GESTOR</td>\n",
       "      <td>232144</td>\n",
       "      <td>E5MBSUNPASS</td>\n",
       "      <td>SUPRIMENTO E MANUTENCAO - MB - PASSAGENS</td>\n",
       "      <td>339033</td>\n",
       "      <td>PASSAGENS E DESPESAS COM LOCOMOCAO</td>\n",
       "      <td>33903301</td>\n",
       "      <td>PASSAGENS PARA O PAIS</td>\n",
       "      <td>2024NE000454</td>\n",
       "      <td>2024</td>\n",
       "      <td>2024-05-02</td>\n",
       "      <td>160129000012024NE000454</td>\n",
       "      <td>14807420000199</td>\n",
       "      <td>FACTO TURISMO  LTDA</td>\n",
       "      <td>SP</td>\n",
       "      <td>ANO</td>\n",
       "      <td>64</td>\n",
       "      <td>MG</td>\n",
       "      <td>1000000000</td>\n",
       "      <td>PREGAO</td>\n",
       "      <td>GLOBAL</td>\n",
       "      <td>2</td>\n",
       "      <td>PRIMARIO DISCRICIONARIO</td>\n",
       "      <td>A</td>\n",
       "      <td>INICIAL (LOA)</td>\n",
       "      <td>0005</td>\n",
       "      <td>000000000000</td>\n",
       "      <td>SEM EMENDA</td>\n",
       "      <td>ESA</td>\n",
       "      <td>52121</td>\n",
       "      <td>COMANDO DO EXERCITO</td>\n",
       "      <td>E5MB</td>\n",
       "      <td>SUN</td>\n",
       "      <td>PASS</td>\n",
       "      <td>0.00</td>\n",
       "      <td>26.10</td>\n",
       "      <td>26.10</td>\n",
       "      <td>635.21</td>\n",
       "    </tr>\n",
       "    <tr>\n",
       "      <th>812</th>\n",
       "      <td>160129</td>\n",
       "      <td>ESA</td>\n",
       "      <td>160533</td>\n",
       "      <td>4º CGCFEX</td>\n",
       "      <td>CML</td>\n",
       "      <td>4ª RM</td>\n",
       "      <td>Três Corações</td>\n",
       "      <td>6112</td>\n",
       "      <td>21A0</td>\n",
       "      <td>APRESTAMENTO DAS FORCAS</td>\n",
       "      <td>160504</td>\n",
       "      <td>COEX/GESTOR</td>\n",
       "      <td>232144</td>\n",
       "      <td>E5MBSUNPREV</td>\n",
       "      <td>SUPRIMENTO E MANUTENCAO MOTOMECANIZACAO_BLIND</td>\n",
       "      <td>339030</td>\n",
       "      <td>MATERIAL DE CONSUMO</td>\n",
       "      <td>33903039</td>\n",
       "      <td>MATERIAL P/ MANUTENCAO DE VEICULOS</td>\n",
       "      <td>2024NE000269</td>\n",
       "      <td>2024</td>\n",
       "      <td>2024-03-15</td>\n",
       "      <td>160129000012024NE000269</td>\n",
       "      <td>36519422000115</td>\n",
       "      <td>ON-HIGHWAY BRASIL LTDA.</td>\n",
       "      <td>MG</td>\n",
       "      <td>ANO</td>\n",
       "      <td>112</td>\n",
       "      <td>MG</td>\n",
       "      <td>1000000000</td>\n",
       "      <td>PREGAO</td>\n",
       "      <td>GLOBAL</td>\n",
       "      <td>2</td>\n",
       "      <td>PRIMARIO DISCRICIONARIO</td>\n",
       "      <td>A</td>\n",
       "      <td>INICIAL (LOA)</td>\n",
       "      <td>0005</td>\n",
       "      <td>000000000000</td>\n",
       "      <td>SEM EMENDA</td>\n",
       "      <td>ESCOLA DE SARGENTOS DAS ARMAS</td>\n",
       "      <td>52121</td>\n",
       "      <td>COMANDO DO EXERCITO</td>\n",
       "      <td>E5MB</td>\n",
       "      <td>SUN</td>\n",
       "      <td>PREV</td>\n",
       "      <td>64999.95</td>\n",
       "      <td>0.00</td>\n",
       "      <td>64999.95</td>\n",
       "      <td>0.00</td>\n",
       "    </tr>\n",
       "    <tr>\n",
       "      <th>813</th>\n",
       "      <td>160129</td>\n",
       "      <td>ESA</td>\n",
       "      <td>160533</td>\n",
       "      <td>4º CGCFEX</td>\n",
       "      <td>CML</td>\n",
       "      <td>4ª RM</td>\n",
       "      <td>Três Corações</td>\n",
       "      <td>6112</td>\n",
       "      <td>21A0</td>\n",
       "      <td>APRESTAMENTO DAS FORCAS</td>\n",
       "      <td>160504</td>\n",
       "      <td>COEX/GESTOR</td>\n",
       "      <td>232144</td>\n",
       "      <td>E5MBSUNPREV</td>\n",
       "      <td>SUPRIMENTO E MANUTENCAO MOTOMECANIZACAO_BLIND</td>\n",
       "      <td>339030</td>\n",
       "      <td>MATERIAL DE CONSUMO</td>\n",
       "      <td>33903039</td>\n",
       "      <td>MATERIAL P/ MANUTENCAO DE VEICULOS</td>\n",
       "      <td>2024NE000271</td>\n",
       "      <td>2024</td>\n",
       "      <td>2024-03-15</td>\n",
       "      <td>160129000012024NE000271</td>\n",
       "      <td>33739848000196</td>\n",
       "      <td>UNIVERSAL IMPORTACAO EXPORTACAO E COMERCIO LIM...</td>\n",
       "      <td>RJ</td>\n",
       "      <td>ANO</td>\n",
       "      <td>112</td>\n",
       "      <td>MG</td>\n",
       "      <td>1000000000</td>\n",
       "      <td>PREGAO</td>\n",
       "      <td>GLOBAL</td>\n",
       "      <td>2</td>\n",
       "      <td>PRIMARIO DISCRICIONARIO</td>\n",
       "      <td>A</td>\n",
       "      <td>INICIAL (LOA)</td>\n",
       "      <td>0005</td>\n",
       "      <td>000000000000</td>\n",
       "      <td>SEM EMENDA</td>\n",
       "      <td>ESCOLA DE SARGENTOS DAS ARMAS</td>\n",
       "      <td>52121</td>\n",
       "      <td>COMANDO DO EXERCITO</td>\n",
       "      <td>E5MB</td>\n",
       "      <td>SUN</td>\n",
       "      <td>PREV</td>\n",
       "      <td>0.00</td>\n",
       "      <td>772.90</td>\n",
       "      <td>772.90</td>\n",
       "      <td>12439.01</td>\n",
       "    </tr>\n",
       "    <tr>\n",
       "      <th>814</th>\n",
       "      <td>160129</td>\n",
       "      <td>ESA</td>\n",
       "      <td>160533</td>\n",
       "      <td>4º CGCFEX</td>\n",
       "      <td>CML</td>\n",
       "      <td>4ª RM</td>\n",
       "      <td>Três Corações</td>\n",
       "      <td>6112</td>\n",
       "      <td>21A0</td>\n",
       "      <td>APRESTAMENTO DAS FORCAS</td>\n",
       "      <td>160504</td>\n",
       "      <td>COEX/GESTOR</td>\n",
       "      <td>232144</td>\n",
       "      <td>E5MMGRMDEGE</td>\n",
       "      <td>LOG VTR NÃO BLD-ABAST/LAV/LUBRIFIC GESTÃO RM</td>\n",
       "      <td>339030</td>\n",
       "      <td>MATERIAL DE CONSUMO</td>\n",
       "      <td>33903039</td>\n",
       "      <td>MATERIAL P/ MANUTENCAO DE VEICULOS</td>\n",
       "      <td>2024NE000606</td>\n",
       "      <td>2024</td>\n",
       "      <td>2024-06-12</td>\n",
       "      <td>160129000012024NE000606</td>\n",
       "      <td>58512096000157</td>\n",
       "      <td>TRATORTEC PECAS E SERVICOS PARA TRATORES LTDA</td>\n",
       "      <td>SP</td>\n",
       "      <td>ANO</td>\n",
       "      <td>23</td>\n",
       "      <td>MG</td>\n",
       "      <td>1000000000</td>\n",
       "      <td>PREGAO</td>\n",
       "      <td>GLOBAL</td>\n",
       "      <td>2</td>\n",
       "      <td>PRIMARIO DISCRICIONARIO</td>\n",
       "      <td>A</td>\n",
       "      <td>INICIAL (LOA)</td>\n",
       "      <td>0005</td>\n",
       "      <td>000000000000</td>\n",
       "      <td>SEM EMENDA</td>\n",
       "      <td>ESCOLA DE SARGENTOS DAS ARMAS - AV. SETE DE SE...</td>\n",
       "      <td>52121</td>\n",
       "      <td>COMANDO DO EXERCITO</td>\n",
       "      <td>E5MM</td>\n",
       "      <td>GRM</td>\n",
       "      <td>DEGE</td>\n",
       "      <td>18049.89</td>\n",
       "      <td>0.00</td>\n",
       "      <td>18049.89</td>\n",
       "      <td>0.00</td>\n",
       "    </tr>\n",
       "    <tr>\n",
       "      <th>815</th>\n",
       "      <td>160129</td>\n",
       "      <td>ESA</td>\n",
       "      <td>160533</td>\n",
       "      <td>4º CGCFEX</td>\n",
       "      <td>CML</td>\n",
       "      <td>4ª RM</td>\n",
       "      <td>Três Corações</td>\n",
       "      <td>6112</td>\n",
       "      <td>21A0</td>\n",
       "      <td>APRESTAMENTO DAS FORCAS</td>\n",
       "      <td>160504</td>\n",
       "      <td>COEX/GESTOR</td>\n",
       "      <td>232144</td>\n",
       "      <td>E5MMGRMDEGE</td>\n",
       "      <td>LOG VTR NÃO BLD-ABAST/LAV/LUBRIFIC GESTÃO RM</td>\n",
       "      <td>339030</td>\n",
       "      <td>MATERIAL DE CONSUMO</td>\n",
       "      <td>33903039</td>\n",
       "      <td>MATERIAL P/ MANUTENCAO DE VEICULOS</td>\n",
       "      <td>2024NE000747</td>\n",
       "      <td>2024</td>\n",
       "      <td>2024-06-26</td>\n",
       "      <td>160129000012024NE000747</td>\n",
       "      <td>58512096000157</td>\n",
       "      <td>TRATORTEC PECAS E SERVICOS PARA TRATORES LTDA</td>\n",
       "      <td>SP</td>\n",
       "      <td>ANO</td>\n",
       "      <td>9</td>\n",
       "      <td>MG</td>\n",
       "      <td>1000000000</td>\n",
       "      <td>PREGAO</td>\n",
       "      <td>GLOBAL</td>\n",
       "      <td>2</td>\n",
       "      <td>PRIMARIO DISCRICIONARIO</td>\n",
       "      <td>A</td>\n",
       "      <td>INICIAL (LOA)</td>\n",
       "      <td>0005</td>\n",
       "      <td>000000000000</td>\n",
       "      <td>SEM EMENDA</td>\n",
       "      <td>ESCOLA DE SARGENTOS DAS ARMAS - AV. SETE DE SE...</td>\n",
       "      <td>52121</td>\n",
       "      <td>COMANDO DO EXERCITO</td>\n",
       "      <td>E5MM</td>\n",
       "      <td>GRM</td>\n",
       "      <td>DEGE</td>\n",
       "      <td>14999.96</td>\n",
       "      <td>0.00</td>\n",
       "      <td>14999.96</td>\n",
       "      <td>0.00</td>\n",
       "    </tr>\n",
       "    <tr>\n",
       "      <th>816</th>\n",
       "      <td>160129</td>\n",
       "      <td>ESA</td>\n",
       "      <td>160533</td>\n",
       "      <td>4º CGCFEX</td>\n",
       "      <td>CML</td>\n",
       "      <td>4ª RM</td>\n",
       "      <td>Três Corações</td>\n",
       "      <td>6112</td>\n",
       "      <td>21A0</td>\n",
       "      <td>APRESTAMENTO DAS FORCAS</td>\n",
       "      <td>160504</td>\n",
       "      <td>COEX/GESTOR</td>\n",
       "      <td>232144</td>\n",
       "      <td>E5MMGRMDEGE</td>\n",
       "      <td>LOG VTR NÃO BLD-ABAST/LAV/LUBRIFIC GESTÃO RM</td>\n",
       "      <td>339039</td>\n",
       "      <td>OUTROS SERVICOS DE TERCEIROS - PESSOA JURIDICA</td>\n",
       "      <td>33903919</td>\n",
       "      <td>MANUTENCAO E CONSERV. DE VEICULOS</td>\n",
       "      <td>2024NE000605</td>\n",
       "      <td>2024</td>\n",
       "      <td>2024-06-12</td>\n",
       "      <td>160129000012024NE000605</td>\n",
       "      <td>58512096000157</td>\n",
       "      <td>TRATORTEC PECAS E SERVICOS PARA TRATORES LTDA</td>\n",
       "      <td>SP</td>\n",
       "      <td>ANO</td>\n",
       "      <td>23</td>\n",
       "      <td>MG</td>\n",
       "      <td>1000000000</td>\n",
       "      <td>PREGAO</td>\n",
       "      <td>GLOBAL</td>\n",
       "      <td>2</td>\n",
       "      <td>PRIMARIO DISCRICIONARIO</td>\n",
       "      <td>A</td>\n",
       "      <td>INICIAL (LOA)</td>\n",
       "      <td>0005</td>\n",
       "      <td>000000000000</td>\n",
       "      <td>SEM EMENDA</td>\n",
       "      <td>ESCOLA DE SARGENTOS DAS ARMAS - AV. SETE DE SE...</td>\n",
       "      <td>52121</td>\n",
       "      <td>COMANDO DO EXERCITO</td>\n",
       "      <td>E5MM</td>\n",
       "      <td>GRM</td>\n",
       "      <td>DEGE</td>\n",
       "      <td>6324.00</td>\n",
       "      <td>0.00</td>\n",
       "      <td>6324.00</td>\n",
       "      <td>0.00</td>\n",
       "    </tr>\n",
       "    <tr>\n",
       "      <th>817</th>\n",
       "      <td>160129</td>\n",
       "      <td>ESA</td>\n",
       "      <td>160533</td>\n",
       "      <td>4º CGCFEX</td>\n",
       "      <td>CML</td>\n",
       "      <td>4ª RM</td>\n",
       "      <td>Três Corações</td>\n",
       "      <td>6112</td>\n",
       "      <td>21A0</td>\n",
       "      <td>APRESTAMENTO DAS FORCAS</td>\n",
       "      <td>160504</td>\n",
       "      <td>COEX/GESTOR</td>\n",
       "      <td>232144</td>\n",
       "      <td>E5MMPDRDEGE</td>\n",
       "      <td>DESCENTRALIZACAO RECURSOS MOTOMECANIZACAO</td>\n",
       "      <td>339030</td>\n",
       "      <td>MATERIAL DE CONSUMO</td>\n",
       "      <td>33903039</td>\n",
       "      <td>MATERIAL P/ MANUTENCAO DE VEICULOS</td>\n",
       "      <td>2024NE000492</td>\n",
       "      <td>2024</td>\n",
       "      <td>2024-05-09</td>\n",
       "      <td>160129000012024NE000492</td>\n",
       "      <td>58512096000157</td>\n",
       "      <td>TRATORTEC PECAS E SERVICOS PARA TRATORES LTDA</td>\n",
       "      <td>SP</td>\n",
       "      <td>ANO</td>\n",
       "      <td>57</td>\n",
       "      <td>MG</td>\n",
       "      <td>1000000000</td>\n",
       "      <td>PREGAO</td>\n",
       "      <td>ORDINARIO</td>\n",
       "      <td>2</td>\n",
       "      <td>PRIMARIO DISCRICIONARIO</td>\n",
       "      <td>A</td>\n",
       "      <td>INICIAL (LOA)</td>\n",
       "      <td>0005</td>\n",
       "      <td>000000000000</td>\n",
       "      <td>SEM EMENDA</td>\n",
       "      <td>ESCOLA DE SARGENTOS DAS ARMAS</td>\n",
       "      <td>52121</td>\n",
       "      <td>COMANDO DO EXERCITO</td>\n",
       "      <td>E5MM</td>\n",
       "      <td>PDR</td>\n",
       "      <td>DEGE</td>\n",
       "      <td>0.00</td>\n",
       "      <td>1516.12</td>\n",
       "      <td>1516.12</td>\n",
       "      <td>24400.47</td>\n",
       "    </tr>\n",
       "    <tr>\n",
       "      <th>818</th>\n",
       "      <td>160129</td>\n",
       "      <td>ESA</td>\n",
       "      <td>160533</td>\n",
       "      <td>4º CGCFEX</td>\n",
       "      <td>CML</td>\n",
       "      <td>4ª RM</td>\n",
       "      <td>Três Corações</td>\n",
       "      <td>6112</td>\n",
       "      <td>21A0</td>\n",
       "      <td>APRESTAMENTO DAS FORCAS</td>\n",
       "      <td>160504</td>\n",
       "      <td>COEX/GESTOR</td>\n",
       "      <td>232144</td>\n",
       "      <td>E5MMSUNPREV</td>\n",
       "      <td>SUPRIMENTO E MANUTENCAO MOTOMECANIZACAO</td>\n",
       "      <td>339030</td>\n",
       "      <td>MATERIAL DE CONSUMO</td>\n",
       "      <td>33903039</td>\n",
       "      <td>MATERIAL P/ MANUTENCAO DE VEICULOS</td>\n",
       "      <td>2024NE000257</td>\n",
       "      <td>2024</td>\n",
       "      <td>2024-03-12</td>\n",
       "      <td>160129000012024NE000257</td>\n",
       "      <td>08907476000112</td>\n",
       "      <td>AUTO PECAS E SERVICOS MECANICOS PLAYCAR LTDA</td>\n",
       "      <td>DF</td>\n",
       "      <td>ANO</td>\n",
       "      <td>115</td>\n",
       "      <td>MG</td>\n",
       "      <td>1000000000</td>\n",
       "      <td>PREGAO</td>\n",
       "      <td>GLOBAL</td>\n",
       "      <td>2</td>\n",
       "      <td>PRIMARIO DISCRICIONARIO</td>\n",
       "      <td>A</td>\n",
       "      <td>INICIAL (LOA)</td>\n",
       "      <td>0005</td>\n",
       "      <td>000000000000</td>\n",
       "      <td>SEM EMENDA</td>\n",
       "      <td>ESCOLA DE SARGENTOS DAS ARMAS</td>\n",
       "      <td>52121</td>\n",
       "      <td>COMANDO DO EXERCITO</td>\n",
       "      <td>E5MM</td>\n",
       "      <td>SUN</td>\n",
       "      <td>PREV</td>\n",
       "      <td>70000.00</td>\n",
       "      <td>0.00</td>\n",
       "      <td>70000.00</td>\n",
       "      <td>0.00</td>\n",
       "    </tr>\n",
       "    <tr>\n",
       "      <th>819</th>\n",
       "      <td>160129</td>\n",
       "      <td>ESA</td>\n",
       "      <td>160533</td>\n",
       "      <td>4º CGCFEX</td>\n",
       "      <td>CML</td>\n",
       "      <td>4ª RM</td>\n",
       "      <td>Três Corações</td>\n",
       "      <td>6112</td>\n",
       "      <td>21A0</td>\n",
       "      <td>APRESTAMENTO DAS FORCAS</td>\n",
       "      <td>160504</td>\n",
       "      <td>COEX/GESTOR</td>\n",
       "      <td>232144</td>\n",
       "      <td>E5MMSUNPREV</td>\n",
       "      <td>SUPRIMENTO E MANUTENCAO MOTOMECANIZACAO</td>\n",
       "      <td>339030</td>\n",
       "      <td>MATERIAL DE CONSUMO</td>\n",
       "      <td>33903039</td>\n",
       "      <td>MATERIAL P/ MANUTENCAO DE VEICULOS</td>\n",
       "      <td>2024NE000262</td>\n",
       "      <td>2024</td>\n",
       "      <td>2024-03-15</td>\n",
       "      <td>160129000012024NE000262</td>\n",
       "      <td>58512096000157</td>\n",
       "      <td>TRATORTEC PECAS E SERVICOS PARA TRATORES LTDA</td>\n",
       "      <td>SP</td>\n",
       "      <td>ANO</td>\n",
       "      <td>112</td>\n",
       "      <td>MG</td>\n",
       "      <td>1000000000</td>\n",
       "      <td>PREGAO</td>\n",
       "      <td>GLOBAL</td>\n",
       "      <td>2</td>\n",
       "      <td>PRIMARIO DISCRICIONARIO</td>\n",
       "      <td>A</td>\n",
       "      <td>INICIAL (LOA)</td>\n",
       "      <td>0005</td>\n",
       "      <td>000000000000</td>\n",
       "      <td>SEM EMENDA</td>\n",
       "      <td>ESCOLA DE SARGENTOS DAS ARMAS</td>\n",
       "      <td>52121</td>\n",
       "      <td>COMANDO DO EXERCITO</td>\n",
       "      <td>E5MM</td>\n",
       "      <td>SUN</td>\n",
       "      <td>PREV</td>\n",
       "      <td>0.00</td>\n",
       "      <td>0.00</td>\n",
       "      <td>0.00</td>\n",
       "      <td>33455.84</td>\n",
       "    </tr>\n",
       "    <tr>\n",
       "      <th>820</th>\n",
       "      <td>160129</td>\n",
       "      <td>ESA</td>\n",
       "      <td>160533</td>\n",
       "      <td>4º CGCFEX</td>\n",
       "      <td>CML</td>\n",
       "      <td>4ª RM</td>\n",
       "      <td>Três Corações</td>\n",
       "      <td>6112</td>\n",
       "      <td>21A0</td>\n",
       "      <td>APRESTAMENTO DAS FORCAS</td>\n",
       "      <td>160504</td>\n",
       "      <td>COEX/GESTOR</td>\n",
       "      <td>232144</td>\n",
       "      <td>E5MMSUNPREV</td>\n",
       "      <td>SUPRIMENTO E MANUTENCAO MOTOMECANIZACAO</td>\n",
       "      <td>339030</td>\n",
       "      <td>MATERIAL DE CONSUMO</td>\n",
       "      <td>33903039</td>\n",
       "      <td>MATERIAL P/ MANUTENCAO DE VEICULOS</td>\n",
       "      <td>2024NE000263</td>\n",
       "      <td>2024</td>\n",
       "      <td>2024-03-15</td>\n",
       "      <td>160129000012024NE000263</td>\n",
       "      <td>08907476000112</td>\n",
       "      <td>AUTO PECAS E SERVICOS MECANICOS PLAYCAR LTDA</td>\n",
       "      <td>DF</td>\n",
       "      <td>ANO</td>\n",
       "      <td>112</td>\n",
       "      <td>MG</td>\n",
       "      <td>1000000000</td>\n",
       "      <td>PREGAO</td>\n",
       "      <td>GLOBAL</td>\n",
       "      <td>2</td>\n",
       "      <td>PRIMARIO DISCRICIONARIO</td>\n",
       "      <td>A</td>\n",
       "      <td>INICIAL (LOA)</td>\n",
       "      <td>0005</td>\n",
       "      <td>000000000000</td>\n",
       "      <td>SEM EMENDA</td>\n",
       "      <td>ESCOLA DE SARGENTOS DAS ARMAS</td>\n",
       "      <td>52121</td>\n",
       "      <td>COMANDO DO EXERCITO</td>\n",
       "      <td>E5MM</td>\n",
       "      <td>SUN</td>\n",
       "      <td>PREV</td>\n",
       "      <td>5499.63</td>\n",
       "      <td>0.00</td>\n",
       "      <td>5499.63</td>\n",
       "      <td>0.00</td>\n",
       "    </tr>\n",
       "    <tr>\n",
       "      <th>821</th>\n",
       "      <td>160129</td>\n",
       "      <td>ESA</td>\n",
       "      <td>160533</td>\n",
       "      <td>4º CGCFEX</td>\n",
       "      <td>CML</td>\n",
       "      <td>4ª RM</td>\n",
       "      <td>Três Corações</td>\n",
       "      <td>6112</td>\n",
       "      <td>21A0</td>\n",
       "      <td>APRESTAMENTO DAS FORCAS</td>\n",
       "      <td>160504</td>\n",
       "      <td>COEX/GESTOR</td>\n",
       "      <td>232144</td>\n",
       "      <td>E5MMSUNPREV</td>\n",
       "      <td>SUPRIMENTO E MANUTENCAO MOTOMECANIZACAO</td>\n",
       "      <td>339030</td>\n",
       "      <td>MATERIAL DE CONSUMO</td>\n",
       "      <td>33903039</td>\n",
       "      <td>MATERIAL P/ MANUTENCAO DE VEICULOS</td>\n",
       "      <td>2024NE000264</td>\n",
       "      <td>2024</td>\n",
       "      <td>2024-03-15</td>\n",
       "      <td>160129000012024NE000264</td>\n",
       "      <td>19116488000145</td>\n",
       "      <td>PARTS LUB DISTRIBUIDORA E SERVICOS LTDA</td>\n",
       "      <td>SP</td>\n",
       "      <td>ANO</td>\n",
       "      <td>112</td>\n",
       "      <td>MG</td>\n",
       "      <td>1000000000</td>\n",
       "      <td>PREGAO</td>\n",
       "      <td>GLOBAL</td>\n",
       "      <td>2</td>\n",
       "      <td>PRIMARIO DISCRICIONARIO</td>\n",
       "      <td>A</td>\n",
       "      <td>INICIAL (LOA)</td>\n",
       "      <td>0005</td>\n",
       "      <td>000000000000</td>\n",
       "      <td>SEM EMENDA</td>\n",
       "      <td>ESCOLA DE SARGENTOS DAS ARMAS</td>\n",
       "      <td>52121</td>\n",
       "      <td>COMANDO DO EXERCITO</td>\n",
       "      <td>E5MM</td>\n",
       "      <td>SUN</td>\n",
       "      <td>PREV</td>\n",
       "      <td>14999.61</td>\n",
       "      <td>0.00</td>\n",
       "      <td>14999.61</td>\n",
       "      <td>0.00</td>\n",
       "    </tr>\n",
       "    <tr>\n",
       "      <th>822</th>\n",
       "      <td>160129</td>\n",
       "      <td>ESA</td>\n",
       "      <td>160533</td>\n",
       "      <td>4º CGCFEX</td>\n",
       "      <td>CML</td>\n",
       "      <td>4ª RM</td>\n",
       "      <td>Três Corações</td>\n",
       "      <td>6112</td>\n",
       "      <td>21A0</td>\n",
       "      <td>APRESTAMENTO DAS FORCAS</td>\n",
       "      <td>160504</td>\n",
       "      <td>COEX/GESTOR</td>\n",
       "      <td>232144</td>\n",
       "      <td>E5MMSUNPREV</td>\n",
       "      <td>SUPRIMENTO E MANUTENCAO MOTOMECANIZACAO</td>\n",
       "      <td>339030</td>\n",
       "      <td>MATERIAL DE CONSUMO</td>\n",
       "      <td>33903039</td>\n",
       "      <td>MATERIAL P/ MANUTENCAO DE VEICULOS</td>\n",
       "      <td>2024NE000265</td>\n",
       "      <td>2024</td>\n",
       "      <td>2024-03-15</td>\n",
       "      <td>160129000012024NE000265</td>\n",
       "      <td>06307463000187</td>\n",
       "      <td>GUSMAO E SILVA AUTOPECAS E SERVICOS LTDA</td>\n",
       "      <td>RJ</td>\n",
       "      <td>ANO</td>\n",
       "      <td>112</td>\n",
       "      <td>MG</td>\n",
       "      <td>1000000000</td>\n",
       "      <td>PREGAO</td>\n",
       "      <td>GLOBAL</td>\n",
       "      <td>2</td>\n",
       "      <td>PRIMARIO DISCRICIONARIO</td>\n",
       "      <td>A</td>\n",
       "      <td>INICIAL (LOA)</td>\n",
       "      <td>0005</td>\n",
       "      <td>000000000000</td>\n",
       "      <td>SEM EMENDA</td>\n",
       "      <td>ESCOLA DE SARGENTOS DAS ARMAS</td>\n",
       "      <td>52121</td>\n",
       "      <td>COMANDO DO EXERCITO</td>\n",
       "      <td>E5MM</td>\n",
       "      <td>SUN</td>\n",
       "      <td>PREV</td>\n",
       "      <td>8224.04</td>\n",
       "      <td>0.00</td>\n",
       "      <td>8224.04</td>\n",
       "      <td>0.00</td>\n",
       "    </tr>\n",
       "    <tr>\n",
       "      <th>823</th>\n",
       "      <td>160129</td>\n",
       "      <td>ESA</td>\n",
       "      <td>160533</td>\n",
       "      <td>4º CGCFEX</td>\n",
       "      <td>CML</td>\n",
       "      <td>4ª RM</td>\n",
       "      <td>Três Corações</td>\n",
       "      <td>6112</td>\n",
       "      <td>21A0</td>\n",
       "      <td>APRESTAMENTO DAS FORCAS</td>\n",
       "      <td>160504</td>\n",
       "      <td>COEX/GESTOR</td>\n",
       "      <td>232144</td>\n",
       "      <td>E5MMSUNPREV</td>\n",
       "      <td>SUPRIMENTO E MANUTENCAO MOTOMECANIZACAO</td>\n",
       "      <td>339030</td>\n",
       "      <td>MATERIAL DE CONSUMO</td>\n",
       "      <td>33903039</td>\n",
       "      <td>MATERIAL P/ MANUTENCAO DE VEICULOS</td>\n",
       "      <td>2024NE000266</td>\n",
       "      <td>2024</td>\n",
       "      <td>2024-03-15</td>\n",
       "      <td>160129000012024NE000266</td>\n",
       "      <td>08907476000112</td>\n",
       "      <td>AUTO PECAS E SERVICOS MECANICOS PLAYCAR LTDA</td>\n",
       "      <td>DF</td>\n",
       "      <td>ANO</td>\n",
       "      <td>112</td>\n",
       "      <td>MG</td>\n",
       "      <td>1000000000</td>\n",
       "      <td>PREGAO</td>\n",
       "      <td>GLOBAL</td>\n",
       "      <td>2</td>\n",
       "      <td>PRIMARIO DISCRICIONARIO</td>\n",
       "      <td>A</td>\n",
       "      <td>INICIAL (LOA)</td>\n",
       "      <td>0005</td>\n",
       "      <td>000000000000</td>\n",
       "      <td>SEM EMENDA</td>\n",
       "      <td>ESCOLA DE SARGENTOS DAS ARMAS</td>\n",
       "      <td>52121</td>\n",
       "      <td>COMANDO DO EXERCITO</td>\n",
       "      <td>E5MM</td>\n",
       "      <td>SUN</td>\n",
       "      <td>PREV</td>\n",
       "      <td>17856.00</td>\n",
       "      <td>0.00</td>\n",
       "      <td>17856.00</td>\n",
       "      <td>0.00</td>\n",
       "    </tr>\n",
       "    <tr>\n",
       "      <th>824</th>\n",
       "      <td>160129</td>\n",
       "      <td>ESA</td>\n",
       "      <td>160533</td>\n",
       "      <td>4º CGCFEX</td>\n",
       "      <td>CML</td>\n",
       "      <td>4ª RM</td>\n",
       "      <td>Três Corações</td>\n",
       "      <td>6112</td>\n",
       "      <td>21A0</td>\n",
       "      <td>APRESTAMENTO DAS FORCAS</td>\n",
       "      <td>160504</td>\n",
       "      <td>COEX/GESTOR</td>\n",
       "      <td>232144</td>\n",
       "      <td>E5MMSUNPREV</td>\n",
       "      <td>SUPRIMENTO E MANUTENCAO MOTOMECANIZACAO</td>\n",
       "      <td>339030</td>\n",
       "      <td>MATERIAL DE CONSUMO</td>\n",
       "      <td>33903039</td>\n",
       "      <td>MATERIAL P/ MANUTENCAO DE VEICULOS</td>\n",
       "      <td>2024NE000267</td>\n",
       "      <td>2024</td>\n",
       "      <td>2024-03-15</td>\n",
       "      <td>160129000012024NE000267</td>\n",
       "      <td>24377448000197</td>\n",
       "      <td>UNITY COMERCIO E SERVICOS AUTOMOTIVOS LTDA</td>\n",
       "      <td>DF</td>\n",
       "      <td>ANO</td>\n",
       "      <td>112</td>\n",
       "      <td>MG</td>\n",
       "      <td>1000000000</td>\n",
       "      <td>PREGAO</td>\n",
       "      <td>GLOBAL</td>\n",
       "      <td>2</td>\n",
       "      <td>PRIMARIO DISCRICIONARIO</td>\n",
       "      <td>A</td>\n",
       "      <td>INICIAL (LOA)</td>\n",
       "      <td>0005</td>\n",
       "      <td>000000000000</td>\n",
       "      <td>SEM EMENDA</td>\n",
       "      <td>ESCOLA DE SARGENTOS DAS ARMAS</td>\n",
       "      <td>52121</td>\n",
       "      <td>COMANDO DO EXERCITO</td>\n",
       "      <td>E5MM</td>\n",
       "      <td>SUN</td>\n",
       "      <td>PREV</td>\n",
       "      <td>0.00</td>\n",
       "      <td>87.06</td>\n",
       "      <td>87.06</td>\n",
       "      <td>1401.18</td>\n",
       "    </tr>\n",
       "    <tr>\n",
       "      <th>825</th>\n",
       "      <td>160129</td>\n",
       "      <td>ESA</td>\n",
       "      <td>160533</td>\n",
       "      <td>4º CGCFEX</td>\n",
       "      <td>CML</td>\n",
       "      <td>4ª RM</td>\n",
       "      <td>Três Corações</td>\n",
       "      <td>6112</td>\n",
       "      <td>21A0</td>\n",
       "      <td>APRESTAMENTO DAS FORCAS</td>\n",
       "      <td>160504</td>\n",
       "      <td>COEX/GESTOR</td>\n",
       "      <td>232144</td>\n",
       "      <td>E5MMSUNPREV</td>\n",
       "      <td>SUPRIMENTO E MANUTENCAO MOTOMECANIZACAO</td>\n",
       "      <td>339030</td>\n",
       "      <td>MATERIAL DE CONSUMO</td>\n",
       "      <td>33903039</td>\n",
       "      <td>MATERIAL P/ MANUTENCAO DE VEICULOS</td>\n",
       "      <td>2024NE000268</td>\n",
       "      <td>2024</td>\n",
       "      <td>2024-03-15</td>\n",
       "      <td>160129000012024NE000268</td>\n",
       "      <td>06307463000187</td>\n",
       "      <td>GUSMAO E SILVA AUTOPECAS E SERVICOS LTDA</td>\n",
       "      <td>RJ</td>\n",
       "      <td>ANO</td>\n",
       "      <td>112</td>\n",
       "      <td>MG</td>\n",
       "      <td>1000000000</td>\n",
       "      <td>PREGAO</td>\n",
       "      <td>GLOBAL</td>\n",
       "      <td>2</td>\n",
       "      <td>PRIMARIO DISCRICIONARIO</td>\n",
       "      <td>A</td>\n",
       "      <td>INICIAL (LOA)</td>\n",
       "      <td>0005</td>\n",
       "      <td>000000000000</td>\n",
       "      <td>SEM EMENDA</td>\n",
       "      <td>ESCOLA DE SARGENTOS DAS ARMAS</td>\n",
       "      <td>52121</td>\n",
       "      <td>COMANDO DO EXERCITO</td>\n",
       "      <td>E5MM</td>\n",
       "      <td>SUN</td>\n",
       "      <td>PREV</td>\n",
       "      <td>936.32</td>\n",
       "      <td>0.00</td>\n",
       "      <td>936.32</td>\n",
       "      <td>0.00</td>\n",
       "    </tr>\n",
       "  </tbody>\n",
       "</table>\n",
       "</div>"
      ],
      "text/plain": [
       "         UG NOME_UG   ICFEX NOME_ICFEX T_COMANDO   T_RM       T_CIDADE  \\\n",
       "168  160129     ESA  160533  4º CGCFEX       CML  4ª RM  Três Corações   \n",
       "169  160129     ESA  160533  4º CGCFEX       CML  4ª RM  Três Corações   \n",
       "170  160129     ESA  160533  4º CGCFEX       CML  4ª RM  Três Corações   \n",
       "171  160129     ESA  160533  4º CGCFEX       CML  4ª RM  Três Corações   \n",
       "172  160129     ESA  160533  4º CGCFEX       CML  4ª RM  Três Corações   \n",
       "173  160129     ESA  160533  4º CGCFEX       CML  4ª RM  Três Corações   \n",
       "174  160129     ESA  160533  4º CGCFEX       CML  4ª RM  Três Corações   \n",
       "175  160129     ESA  160533  4º CGCFEX       CML  4ª RM  Três Corações   \n",
       "176  160129     ESA  160533  4º CGCFEX       CML  4ª RM  Três Corações   \n",
       "177  160129     ESA  160533  4º CGCFEX       CML  4ª RM  Três Corações   \n",
       "178  160129     ESA  160533  4º CGCFEX       CML  4ª RM  Três Corações   \n",
       "179  160129     ESA  160533  4º CGCFEX       CML  4ª RM  Três Corações   \n",
       "180  160129     ESA  160533  4º CGCFEX       CML  4ª RM  Três Corações   \n",
       "181  160129     ESA  160533  4º CGCFEX       CML  4ª RM  Três Corações   \n",
       "182  160129     ESA  160533  4º CGCFEX       CML  4ª RM  Três Corações   \n",
       "183  160129     ESA  160533  4º CGCFEX       CML  4ª RM  Três Corações   \n",
       "184  160129     ESA  160533  4º CGCFEX       CML  4ª RM  Três Corações   \n",
       "185  160129     ESA  160533  4º CGCFEX       CML  4ª RM  Três Corações   \n",
       "186  160129     ESA  160533  4º CGCFEX       CML  4ª RM  Três Corações   \n",
       "187  160129     ESA  160533  4º CGCFEX       CML  4ª RM  Três Corações   \n",
       "188  160129     ESA  160533  4º CGCFEX       CML  4ª RM  Três Corações   \n",
       "189  160129     ESA  160533  4º CGCFEX       CML  4ª RM  Três Corações   \n",
       "190  160129     ESA  160533  4º CGCFEX       CML  4ª RM  Três Corações   \n",
       "191  160129     ESA  160533  4º CGCFEX       CML  4ª RM  Três Corações   \n",
       "192  160129     ESA  160533  4º CGCFEX       CML  4ª RM  Três Corações   \n",
       "193  160129     ESA  160533  4º CGCFEX       CML  4ª RM  Três Corações   \n",
       "194  160129     ESA  160533  4º CGCFEX       CML  4ª RM  Três Corações   \n",
       "195  160129     ESA  160533  4º CGCFEX       CML  4ª RM  Três Corações   \n",
       "196  160129     ESA  160533  4º CGCFEX       CML  4ª RM  Três Corações   \n",
       "197  160129     ESA  160533  4º CGCFEX       CML  4ª RM  Três Corações   \n",
       "198  160129     ESA  160533  4º CGCFEX       CML  4ª RM  Três Corações   \n",
       "199  160129     ESA  160533  4º CGCFEX       CML  4ª RM  Três Corações   \n",
       "200  160129     ESA  160533  4º CGCFEX       CML  4ª RM  Três Corações   \n",
       "201  160129     ESA  160533  4º CGCFEX       CML  4ª RM  Três Corações   \n",
       "202  160129     ESA  160533  4º CGCFEX       CML  4ª RM  Três Corações   \n",
       "203  160129     ESA  160533  4º CGCFEX       CML  4ª RM  Três Corações   \n",
       "204  160129     ESA  160533  4º CGCFEX       CML  4ª RM  Três Corações   \n",
       "205  160129     ESA  160533  4º CGCFEX       CML  4ª RM  Três Corações   \n",
       "206  160129     ESA  160533  4º CGCFEX       CML  4ª RM  Três Corações   \n",
       "207  160129     ESA  160533  4º CGCFEX       CML  4ª RM  Três Corações   \n",
       "208  160129     ESA  160533  4º CGCFEX       CML  4ª RM  Três Corações   \n",
       "209  160129     ESA  160533  4º CGCFEX       CML  4ª RM  Três Corações   \n",
       "210  160129     ESA  160533  4º CGCFEX       CML  4ª RM  Três Corações   \n",
       "211  160129     ESA  160533  4º CGCFEX       CML  4ª RM  Três Corações   \n",
       "212  160129     ESA  160533  4º CGCFEX       CML  4ª RM  Três Corações   \n",
       "213  160129     ESA  160533  4º CGCFEX       CML  4ª RM  Três Corações   \n",
       "214  160129     ESA  160533  4º CGCFEX       CML  4ª RM  Três Corações   \n",
       "215  160129     ESA  160533  4º CGCFEX       CML  4ª RM  Três Corações   \n",
       "216  160129     ESA  160533  4º CGCFEX       CML  4ª RM  Três Corações   \n",
       "217  160129     ESA  160533  4º CGCFEX       CML  4ª RM  Três Corações   \n",
       "218  160129     ESA  160533  4º CGCFEX       CML  4ª RM  Três Corações   \n",
       "219  160129     ESA  160533  4º CGCFEX       CML  4ª RM  Três Corações   \n",
       "220  160129     ESA  160533  4º CGCFEX       CML  4ª RM  Três Corações   \n",
       "221  160129     ESA  160533  4º CGCFEX       CML  4ª RM  Três Corações   \n",
       "222  160129     ESA  160533  4º CGCFEX       CML  4ª RM  Três Corações   \n",
       "223  160129     ESA  160533  4º CGCFEX       CML  4ª RM  Três Corações   \n",
       "224  160129     ESA  160533  4º CGCFEX       CML  4ª RM  Três Corações   \n",
       "225  160129     ESA  160533  4º CGCFEX       CML  4ª RM  Três Corações   \n",
       "226  160129     ESA  160533  4º CGCFEX       CML  4ª RM  Três Corações   \n",
       "227  160129     ESA  160533  4º CGCFEX       CML  4ª RM  Três Corações   \n",
       "228  160129     ESA  160533  4º CGCFEX       CML  4ª RM  Três Corações   \n",
       "229  160129     ESA  160533  4º CGCFEX       CML  4ª RM  Três Corações   \n",
       "230  160129     ESA  160533  4º CGCFEX       CML  4ª RM  Três Corações   \n",
       "231  160129     ESA  160533  4º CGCFEX       CML  4ª RM  Três Corações   \n",
       "232  160129     ESA  160533  4º CGCFEX       CML  4ª RM  Três Corações   \n",
       "233  160129     ESA  160533  4º CGCFEX       CML  4ª RM  Três Corações   \n",
       "234  160129     ESA  160533  4º CGCFEX       CML  4ª RM  Três Corações   \n",
       "235  160129     ESA  160533  4º CGCFEX       CML  4ª RM  Três Corações   \n",
       "236  160129     ESA  160533  4º CGCFEX       CML  4ª RM  Três Corações   \n",
       "237  160129     ESA  160533  4º CGCFEX       CML  4ª RM  Três Corações   \n",
       "238  160129     ESA  160533  4º CGCFEX       CML  4ª RM  Três Corações   \n",
       "239  160129     ESA  160533  4º CGCFEX       CML  4ª RM  Três Corações   \n",
       "240  160129     ESA  160533  4º CGCFEX       CML  4ª RM  Três Corações   \n",
       "241  160129     ESA  160533  4º CGCFEX       CML  4ª RM  Três Corações   \n",
       "242  160129     ESA  160533  4º CGCFEX       CML  4ª RM  Três Corações   \n",
       "243  160129     ESA  160533  4º CGCFEX       CML  4ª RM  Três Corações   \n",
       "244  160129     ESA  160533  4º CGCFEX       CML  4ª RM  Três Corações   \n",
       "245  160129     ESA  160533  4º CGCFEX       CML  4ª RM  Três Corações   \n",
       "246  160129     ESA  160533  4º CGCFEX       CML  4ª RM  Três Corações   \n",
       "247  160129     ESA  160533  4º CGCFEX       CML  4ª RM  Três Corações   \n",
       "248  160129     ESA  160533  4º CGCFEX       CML  4ª RM  Três Corações   \n",
       "249  160129     ESA  160533  4º CGCFEX       CML  4ª RM  Três Corações   \n",
       "250  160129     ESA  160533  4º CGCFEX       CML  4ª RM  Três Corações   \n",
       "251  160129     ESA  160533  4º CGCFEX       CML  4ª RM  Três Corações   \n",
       "252  160129     ESA  160533  4º CGCFEX       CML  4ª RM  Três Corações   \n",
       "253  160129     ESA  160533  4º CGCFEX       CML  4ª RM  Três Corações   \n",
       "254  160129     ESA  160533  4º CGCFEX       CML  4ª RM  Três Corações   \n",
       "255  160129     ESA  160533  4º CGCFEX       CML  4ª RM  Três Corações   \n",
       "256  160129     ESA  160533  4º CGCFEX       CML  4ª RM  Três Corações   \n",
       "257  160129     ESA  160533  4º CGCFEX       CML  4ª RM  Três Corações   \n",
       "258  160129     ESA  160533  4º CGCFEX       CML  4ª RM  Três Corações   \n",
       "259  160129     ESA  160533  4º CGCFEX       CML  4ª RM  Três Corações   \n",
       "260  160129     ESA  160533  4º CGCFEX       CML  4ª RM  Três Corações   \n",
       "261  160129     ESA  160533  4º CGCFEX       CML  4ª RM  Três Corações   \n",
       "262  160129     ESA  160533  4º CGCFEX       CML  4ª RM  Três Corações   \n",
       "263  160129     ESA  160533  4º CGCFEX       CML  4ª RM  Três Corações   \n",
       "264  160129     ESA  160533  4º CGCFEX       CML  4ª RM  Três Corações   \n",
       "265  160129     ESA  160533  4º CGCFEX       CML  4ª RM  Três Corações   \n",
       "266  160129     ESA  160533  4º CGCFEX       CML  4ª RM  Três Corações   \n",
       "267  160129     ESA  160533  4º CGCFEX       CML  4ª RM  Três Corações   \n",
       "268  160129     ESA  160533  4º CGCFEX       CML  4ª RM  Três Corações   \n",
       "270  160129     ESA  160533  4º CGCFEX       CML  4ª RM  Três Corações   \n",
       "271  160129     ESA  160533  4º CGCFEX       CML  4ª RM  Três Corações   \n",
       "272  160129     ESA  160533  4º CGCFEX       CML  4ª RM  Três Corações   \n",
       "273  160129     ESA  160533  4º CGCFEX       CML  4ª RM  Três Corações   \n",
       "274  160129     ESA  160533  4º CGCFEX       CML  4ª RM  Três Corações   \n",
       "275  160129     ESA  160533  4º CGCFEX       CML  4ª RM  Três Corações   \n",
       "276  160129     ESA  160533  4º CGCFEX       CML  4ª RM  Três Corações   \n",
       "277  160129     ESA  160533  4º CGCFEX       CML  4ª RM  Três Corações   \n",
       "343  160129     ESA  160533  4º CGCFEX       CML  4ª RM  Três Corações   \n",
       "344  160129     ESA  160533  4º CGCFEX       CML  4ª RM  Três Corações   \n",
       "345  160129     ESA  160533  4º CGCFEX       CML  4ª RM  Três Corações   \n",
       "346  160129     ESA  160533  4º CGCFEX       CML  4ª RM  Três Corações   \n",
       "347  160129     ESA  160533  4º CGCFEX       CML  4ª RM  Três Corações   \n",
       "348  160129     ESA  160533  4º CGCFEX       CML  4ª RM  Três Corações   \n",
       "349  160129     ESA  160533  4º CGCFEX       CML  4ª RM  Três Corações   \n",
       "752  160129     ESA  160533  4º CGCFEX       CML  4ª RM  Três Corações   \n",
       "753  160129     ESA  160533  4º CGCFEX       CML  4ª RM  Três Corações   \n",
       "754  160129     ESA  160533  4º CGCFEX       CML  4ª RM  Três Corações   \n",
       "755  160129     ESA  160533  4º CGCFEX       CML  4ª RM  Três Corações   \n",
       "756  160129     ESA  160533  4º CGCFEX       CML  4ª RM  Três Corações   \n",
       "757  160129     ESA  160533  4º CGCFEX       CML  4ª RM  Três Corações   \n",
       "758  160129     ESA  160533  4º CGCFEX       CML  4ª RM  Três Corações   \n",
       "759  160129     ESA  160533  4º CGCFEX       CML  4ª RM  Três Corações   \n",
       "760  160129     ESA  160533  4º CGCFEX       CML  4ª RM  Três Corações   \n",
       "761  160129     ESA  160533  4º CGCFEX       CML  4ª RM  Três Corações   \n",
       "762  160129     ESA  160533  4º CGCFEX       CML  4ª RM  Três Corações   \n",
       "763  160129     ESA  160533  4º CGCFEX       CML  4ª RM  Três Corações   \n",
       "764  160129     ESA  160533  4º CGCFEX       CML  4ª RM  Três Corações   \n",
       "765  160129     ESA  160533  4º CGCFEX       CML  4ª RM  Três Corações   \n",
       "766  160129     ESA  160533  4º CGCFEX       CML  4ª RM  Três Corações   \n",
       "767  160129     ESA  160533  4º CGCFEX       CML  4ª RM  Três Corações   \n",
       "768  160129     ESA  160533  4º CGCFEX       CML  4ª RM  Três Corações   \n",
       "769  160129     ESA  160533  4º CGCFEX       CML  4ª RM  Três Corações   \n",
       "770  160129     ESA  160533  4º CGCFEX       CML  4ª RM  Três Corações   \n",
       "771  160129     ESA  160533  4º CGCFEX       CML  4ª RM  Três Corações   \n",
       "772  160129     ESA  160533  4º CGCFEX       CML  4ª RM  Três Corações   \n",
       "773  160129     ESA  160533  4º CGCFEX       CML  4ª RM  Três Corações   \n",
       "774  160129     ESA  160533  4º CGCFEX       CML  4ª RM  Três Corações   \n",
       "775  160129     ESA  160533  4º CGCFEX       CML  4ª RM  Três Corações   \n",
       "776  160129     ESA  160533  4º CGCFEX       CML  4ª RM  Três Corações   \n",
       "777  160129     ESA  160533  4º CGCFEX       CML  4ª RM  Três Corações   \n",
       "778  160129     ESA  160533  4º CGCFEX       CML  4ª RM  Três Corações   \n",
       "779  160129     ESA  160533  4º CGCFEX       CML  4ª RM  Três Corações   \n",
       "780  160129     ESA  160533  4º CGCFEX       CML  4ª RM  Três Corações   \n",
       "781  160129     ESA  160533  4º CGCFEX       CML  4ª RM  Três Corações   \n",
       "782  160129     ESA  160533  4º CGCFEX       CML  4ª RM  Três Corações   \n",
       "783  160129     ESA  160533  4º CGCFEX       CML  4ª RM  Três Corações   \n",
       "784  160129     ESA  160533  4º CGCFEX       CML  4ª RM  Três Corações   \n",
       "785  160129     ESA  160533  4º CGCFEX       CML  4ª RM  Três Corações   \n",
       "786  160129     ESA  160533  4º CGCFEX       CML  4ª RM  Três Corações   \n",
       "787  160129     ESA  160533  4º CGCFEX       CML  4ª RM  Três Corações   \n",
       "788  160129     ESA  160533  4º CGCFEX       CML  4ª RM  Três Corações   \n",
       "789  160129     ESA  160533  4º CGCFEX       CML  4ª RM  Três Corações   \n",
       "790  160129     ESA  160533  4º CGCFEX       CML  4ª RM  Três Corações   \n",
       "791  160129     ESA  160533  4º CGCFEX       CML  4ª RM  Três Corações   \n",
       "792  160129     ESA  160533  4º CGCFEX       CML  4ª RM  Três Corações   \n",
       "793  160129     ESA  160533  4º CGCFEX       CML  4ª RM  Três Corações   \n",
       "794  160129     ESA  160533  4º CGCFEX       CML  4ª RM  Três Corações   \n",
       "795  160129     ESA  160533  4º CGCFEX       CML  4ª RM  Três Corações   \n",
       "796  160129     ESA  160533  4º CGCFEX       CML  4ª RM  Três Corações   \n",
       "797  160129     ESA  160533  4º CGCFEX       CML  4ª RM  Três Corações   \n",
       "798  160129     ESA  160533  4º CGCFEX       CML  4ª RM  Três Corações   \n",
       "799  160129     ESA  160533  4º CGCFEX       CML  4ª RM  Três Corações   \n",
       "800  160129     ESA  160533  4º CGCFEX       CML  4ª RM  Três Corações   \n",
       "801  160129     ESA  160533  4º CGCFEX       CML  4ª RM  Três Corações   \n",
       "802  160129     ESA  160533  4º CGCFEX       CML  4ª RM  Três Corações   \n",
       "803  160129     ESA  160533  4º CGCFEX       CML  4ª RM  Três Corações   \n",
       "804  160129     ESA  160533  4º CGCFEX       CML  4ª RM  Três Corações   \n",
       "805  160129     ESA  160533  4º CGCFEX       CML  4ª RM  Três Corações   \n",
       "806  160129     ESA  160533  4º CGCFEX       CML  4ª RM  Três Corações   \n",
       "807  160129     ESA  160533  4º CGCFEX       CML  4ª RM  Três Corações   \n",
       "808  160129     ESA  160533  4º CGCFEX       CML  4ª RM  Três Corações   \n",
       "809  160129     ESA  160533  4º CGCFEX       CML  4ª RM  Três Corações   \n",
       "810  160129     ESA  160533  4º CGCFEX       CML  4ª RM  Três Corações   \n",
       "811  160129     ESA  160533  4º CGCFEX       CML  4ª RM  Três Corações   \n",
       "812  160129     ESA  160533  4º CGCFEX       CML  4ª RM  Três Corações   \n",
       "813  160129     ESA  160533  4º CGCFEX       CML  4ª RM  Três Corações   \n",
       "814  160129     ESA  160533  4º CGCFEX       CML  4ª RM  Três Corações   \n",
       "815  160129     ESA  160533  4º CGCFEX       CML  4ª RM  Três Corações   \n",
       "816  160129     ESA  160533  4º CGCFEX       CML  4ª RM  Três Corações   \n",
       "817  160129     ESA  160533  4º CGCFEX       CML  4ª RM  Três Corações   \n",
       "818  160129     ESA  160533  4º CGCFEX       CML  4ª RM  Três Corações   \n",
       "819  160129     ESA  160533  4º CGCFEX       CML  4ª RM  Três Corações   \n",
       "820  160129     ESA  160533  4º CGCFEX       CML  4ª RM  Três Corações   \n",
       "821  160129     ESA  160533  4º CGCFEX       CML  4ª RM  Três Corações   \n",
       "822  160129     ESA  160533  4º CGCFEX       CML  4ª RM  Três Corações   \n",
       "823  160129     ESA  160533  4º CGCFEX       CML  4ª RM  Três Corações   \n",
       "824  160129     ESA  160533  4º CGCFEX       CML  4ª RM  Três Corações   \n",
       "825  160129     ESA  160533  4º CGCFEX       CML  4ª RM  Três Corações   \n",
       "\n",
       "    PROGRAMA  ACAO                              NOME_ACAO     UGR  \\\n",
       "168     0032  212B  BENEFICIOS OBRIGATORIOS AOS SERVIDORE  160504   \n",
       "169     0032  212B  BENEFICIOS OBRIGATORIOS AOS SERVIDORE  160504   \n",
       "170     0032  212B  BENEFICIOS OBRIGATORIOS AOS SERVIDORE  160504   \n",
       "171     0032  212B  BENEFICIOS OBRIGATORIOS AOS SERVIDORE  160504   \n",
       "172     0032  212B  BENEFICIOS OBRIGATORIOS AOS SERVIDORE  160504   \n",
       "173     0032  212B  BENEFICIOS OBRIGATORIOS AOS SERVIDORE  160504   \n",
       "174     0032  212B  BENEFICIOS OBRIGATORIOS AOS SERVIDORE  160504   \n",
       "175     0032  212B  BENEFICIOS OBRIGATORIOS AOS SERVIDORE  160504   \n",
       "176     0032  212B  BENEFICIOS OBRIGATORIOS AOS SERVIDORE  160504   \n",
       "177     0032  212B  BENEFICIOS OBRIGATORIOS AOS SERVIDORE  160504   \n",
       "178     0032  212B  BENEFICIOS OBRIGATORIOS AOS SERVIDORE  160504   \n",
       "179     0032  212B  BENEFICIOS OBRIGATORIOS AOS SERVIDORE  160504   \n",
       "180     0032  212B  BENEFICIOS OBRIGATORIOS AOS SERVIDORE  160504   \n",
       "181     0032  212B  BENEFICIOS OBRIGATORIOS AOS SERVIDORE  160504   \n",
       "182     0032  212B  BENEFICIOS OBRIGATORIOS AOS SERVIDORE  160504   \n",
       "183     0032  212B  BENEFICIOS OBRIGATORIOS AOS SERVIDORE  160504   \n",
       "184     0032  212B  BENEFICIOS OBRIGATORIOS AOS SERVIDORE  160504   \n",
       "185     0032  212B  BENEFICIOS OBRIGATORIOS AOS SERVIDORE  160504   \n",
       "186     0032  212B  BENEFICIOS OBRIGATORIOS AOS SERVIDORE  160504   \n",
       "187     0032  212B  BENEFICIOS OBRIGATORIOS AOS SERVIDORE  160504   \n",
       "188     0032  212B  BENEFICIOS OBRIGATORIOS AOS SERVIDORE  160504   \n",
       "189     0032  212B  BENEFICIOS OBRIGATORIOS AOS SERVIDORE  160504   \n",
       "190     0032  212B  BENEFICIOS OBRIGATORIOS AOS SERVIDORE  160504   \n",
       "191     0032  212B  BENEFICIOS OBRIGATORIOS AOS SERVIDORE  160504   \n",
       "192     0032  212B  BENEFICIOS OBRIGATORIOS AOS SERVIDORE  160504   \n",
       "193     0032  212B  BENEFICIOS OBRIGATORIOS AOS SERVIDORE  160504   \n",
       "194     0032  212B  BENEFICIOS OBRIGATORIOS AOS SERVIDORE  160504   \n",
       "195     0032  212B  BENEFICIOS OBRIGATORIOS AOS SERVIDORE  160504   \n",
       "196     0032  212B  BENEFICIOS OBRIGATORIOS AOS SERVIDORE  160504   \n",
       "197     0032  212B  BENEFICIOS OBRIGATORIOS AOS SERVIDORE  160504   \n",
       "198     0032  212B  BENEFICIOS OBRIGATORIOS AOS SERVIDORE  160504   \n",
       "199     0032  212B  BENEFICIOS OBRIGATORIOS AOS SERVIDORE  160504   \n",
       "200     0032  212B  BENEFICIOS OBRIGATORIOS AOS SERVIDORE  160504   \n",
       "201     0032  212B  BENEFICIOS OBRIGATORIOS AOS SERVIDORE  160504   \n",
       "202     0032  212B  BENEFICIOS OBRIGATORIOS AOS SERVIDORE  160504   \n",
       "203     0032  212B  BENEFICIOS OBRIGATORIOS AOS SERVIDORE  160504   \n",
       "204     0032  212B  BENEFICIOS OBRIGATORIOS AOS SERVIDORE  160504   \n",
       "205     0032  212B  BENEFICIOS OBRIGATORIOS AOS SERVIDORE  160504   \n",
       "206     0032  212B  BENEFICIOS OBRIGATORIOS AOS SERVIDORE  160504   \n",
       "207     0032  212B  BENEFICIOS OBRIGATORIOS AOS SERVIDORE  160504   \n",
       "208     0032  212B  BENEFICIOS OBRIGATORIOS AOS SERVIDORE  160504   \n",
       "209     0032  212B  BENEFICIOS OBRIGATORIOS AOS SERVIDORE  160504   \n",
       "210     0032  212B  BENEFICIOS OBRIGATORIOS AOS SERVIDORE  160504   \n",
       "211     0032  212B  BENEFICIOS OBRIGATORIOS AOS SERVIDORE  160504   \n",
       "212     0032  212B  BENEFICIOS OBRIGATORIOS AOS SERVIDORE  160504   \n",
       "213     0032  212B  BENEFICIOS OBRIGATORIOS AOS SERVIDORE  160504   \n",
       "214     0032  212B  BENEFICIOS OBRIGATORIOS AOS SERVIDORE  160504   \n",
       "215     0032  212B  BENEFICIOS OBRIGATORIOS AOS SERVIDORE  160504   \n",
       "216     0032  212B  BENEFICIOS OBRIGATORIOS AOS SERVIDORE  160504   \n",
       "217     0032  212B  BENEFICIOS OBRIGATORIOS AOS SERVIDORE  160504   \n",
       "218     0032  212B  BENEFICIOS OBRIGATORIOS AOS SERVIDORE  160504   \n",
       "219     0032  212B  BENEFICIOS OBRIGATORIOS AOS SERVIDORE  160504   \n",
       "220     0032  212B  BENEFICIOS OBRIGATORIOS AOS SERVIDORE  160504   \n",
       "221     0032  212B  BENEFICIOS OBRIGATORIOS AOS SERVIDORE  160504   \n",
       "222     0032  212B  BENEFICIOS OBRIGATORIOS AOS SERVIDORE  160504   \n",
       "223     0032  212B  BENEFICIOS OBRIGATORIOS AOS SERVIDORE  160504   \n",
       "224     0032  212B  BENEFICIOS OBRIGATORIOS AOS SERVIDORE  160504   \n",
       "225     0032  212B  BENEFICIOS OBRIGATORIOS AOS SERVIDORE  160504   \n",
       "226     0032  212B  BENEFICIOS OBRIGATORIOS AOS SERVIDORE  160504   \n",
       "227     0032  212B  BENEFICIOS OBRIGATORIOS AOS SERVIDORE  160504   \n",
       "228     0032  212B  BENEFICIOS OBRIGATORIOS AOS SERVIDORE  160504   \n",
       "229     0032  212B  BENEFICIOS OBRIGATORIOS AOS SERVIDORE  160504   \n",
       "230     0032  212B  BENEFICIOS OBRIGATORIOS AOS SERVIDORE  160504   \n",
       "231     0032  212B  BENEFICIOS OBRIGATORIOS AOS SERVIDORE  160504   \n",
       "232     0032  212B  BENEFICIOS OBRIGATORIOS AOS SERVIDORE  160504   \n",
       "233     0032  212B  BENEFICIOS OBRIGATORIOS AOS SERVIDORE  160504   \n",
       "234     0032  212B  BENEFICIOS OBRIGATORIOS AOS SERVIDORE  160504   \n",
       "235     0032  212B  BENEFICIOS OBRIGATORIOS AOS SERVIDORE  160504   \n",
       "236     0032  212B  BENEFICIOS OBRIGATORIOS AOS SERVIDORE  160504   \n",
       "237     0032  212B  BENEFICIOS OBRIGATORIOS AOS SERVIDORE  160504   \n",
       "238     0032  212B  BENEFICIOS OBRIGATORIOS AOS SERVIDORE  160504   \n",
       "239     0032  212B  BENEFICIOS OBRIGATORIOS AOS SERVIDORE  160504   \n",
       "240     0032  212B  BENEFICIOS OBRIGATORIOS AOS SERVIDORE  160504   \n",
       "241     0032  212B  BENEFICIOS OBRIGATORIOS AOS SERVIDORE  160504   \n",
       "242     0032  212B  BENEFICIOS OBRIGATORIOS AOS SERVIDORE  160504   \n",
       "243     0032  212B  BENEFICIOS OBRIGATORIOS AOS SERVIDORE  160504   \n",
       "244     0032  212B  BENEFICIOS OBRIGATORIOS AOS SERVIDORE  160504   \n",
       "245     0032  212B  BENEFICIOS OBRIGATORIOS AOS SERVIDORE  160504   \n",
       "246     0032  212B  BENEFICIOS OBRIGATORIOS AOS SERVIDORE  160504   \n",
       "247     0032  212B  BENEFICIOS OBRIGATORIOS AOS SERVIDORE  160504   \n",
       "248     0032  212B  BENEFICIOS OBRIGATORIOS AOS SERVIDORE  160504   \n",
       "249     0032  212B  BENEFICIOS OBRIGATORIOS AOS SERVIDORE  160504   \n",
       "250     0032  212B  BENEFICIOS OBRIGATORIOS AOS SERVIDORE  160504   \n",
       "251     0032  212B  BENEFICIOS OBRIGATORIOS AOS SERVIDORE  160504   \n",
       "252     0032  212B  BENEFICIOS OBRIGATORIOS AOS SERVIDORE  160504   \n",
       "253     0032  212B  BENEFICIOS OBRIGATORIOS AOS SERVIDORE  160504   \n",
       "254     0032  212B  BENEFICIOS OBRIGATORIOS AOS SERVIDORE  160504   \n",
       "255     0032  212B  BENEFICIOS OBRIGATORIOS AOS SERVIDORE  160504   \n",
       "256     0032  212B  BENEFICIOS OBRIGATORIOS AOS SERVIDORE  160504   \n",
       "257     0032  212B  BENEFICIOS OBRIGATORIOS AOS SERVIDORE  160504   \n",
       "258     0032  212B  BENEFICIOS OBRIGATORIOS AOS SERVIDORE  160504   \n",
       "259     0032  212B  BENEFICIOS OBRIGATORIOS AOS SERVIDORE  160504   \n",
       "260     0032  212B  BENEFICIOS OBRIGATORIOS AOS SERVIDORE  160504   \n",
       "261     0032  212B  BENEFICIOS OBRIGATORIOS AOS SERVIDORE  160504   \n",
       "262     0032  212B  BENEFICIOS OBRIGATORIOS AOS SERVIDORE  160504   \n",
       "263     0032  212B  BENEFICIOS OBRIGATORIOS AOS SERVIDORE  160504   \n",
       "264     0032  212B  BENEFICIOS OBRIGATORIOS AOS SERVIDORE  160504   \n",
       "265     0032  212B  BENEFICIOS OBRIGATORIOS AOS SERVIDORE  160504   \n",
       "266     0032  212B  BENEFICIOS OBRIGATORIOS AOS SERVIDORE  160504   \n",
       "267     0032  212B  BENEFICIOS OBRIGATORIOS AOS SERVIDORE  160504   \n",
       "268     0032  212B  BENEFICIOS OBRIGATORIOS AOS SERVIDORE  160504   \n",
       "270     0032  2865               SUPRIMENTO DE FARDAMENTO  160504   \n",
       "271     0032  2865               SUPRIMENTO DE FARDAMENTO  160504   \n",
       "272     0032  2865               SUPRIMENTO DE FARDAMENTO  160504   \n",
       "273     0032  2865               SUPRIMENTO DE FARDAMENTO  160504   \n",
       "274     0032  2865               SUPRIMENTO DE FARDAMENTO  160504   \n",
       "275     0032  2865               SUPRIMENTO DE FARDAMENTO  160504   \n",
       "276     0032  2865               SUPRIMENTO DE FARDAMENTO  160504   \n",
       "277     0032  2865               SUPRIMENTO DE FARDAMENTO  160504   \n",
       "343     6012  21A0                APRESTAMENTO DAS FORCAS  160504   \n",
       "344     6012  21A0                APRESTAMENTO DAS FORCAS  160504   \n",
       "345     6012  21A0                APRESTAMENTO DAS FORCAS  160504   \n",
       "346     6012  21A0                APRESTAMENTO DAS FORCAS  160504   \n",
       "347     6012  21A0                APRESTAMENTO DAS FORCAS  160504   \n",
       "348     6012  21A0                APRESTAMENTO DAS FORCAS  160504   \n",
       "349     6012  21A0                APRESTAMENTO DAS FORCAS  160504   \n",
       "752     6112  21A0                APRESTAMENTO DAS FORCAS  160504   \n",
       "753     6112  21A0                APRESTAMENTO DAS FORCAS  160504   \n",
       "754     6112  21A0                APRESTAMENTO DAS FORCAS  160504   \n",
       "755     6112  21A0                APRESTAMENTO DAS FORCAS  160504   \n",
       "756     6112  21A0                APRESTAMENTO DAS FORCAS  160504   \n",
       "757     6112  21A0                APRESTAMENTO DAS FORCAS  160504   \n",
       "758     6112  21A0                APRESTAMENTO DAS FORCAS  160504   \n",
       "759     6112  21A0                APRESTAMENTO DAS FORCAS  160504   \n",
       "760     6112  21A0                APRESTAMENTO DAS FORCAS  160504   \n",
       "761     6112  21A0                APRESTAMENTO DAS FORCAS  160504   \n",
       "762     6112  21A0                APRESTAMENTO DAS FORCAS  160504   \n",
       "763     6112  21A0                APRESTAMENTO DAS FORCAS  160504   \n",
       "764     6112  21A0                APRESTAMENTO DAS FORCAS  160504   \n",
       "765     6112  21A0                APRESTAMENTO DAS FORCAS  160504   \n",
       "766     6112  21A0                APRESTAMENTO DAS FORCAS  160504   \n",
       "767     6112  21A0                APRESTAMENTO DAS FORCAS  160504   \n",
       "768     6112  21A0                APRESTAMENTO DAS FORCAS  160504   \n",
       "769     6112  21A0                APRESTAMENTO DAS FORCAS  160504   \n",
       "770     6112  21A0                APRESTAMENTO DAS FORCAS  160504   \n",
       "771     6112  21A0                APRESTAMENTO DAS FORCAS  160504   \n",
       "772     6112  21A0                APRESTAMENTO DAS FORCAS  160504   \n",
       "773     6112  21A0                APRESTAMENTO DAS FORCAS  160504   \n",
       "774     6112  21A0                APRESTAMENTO DAS FORCAS  160504   \n",
       "775     6112  21A0                APRESTAMENTO DAS FORCAS  160504   \n",
       "776     6112  21A0                APRESTAMENTO DAS FORCAS  160504   \n",
       "777     6112  21A0                APRESTAMENTO DAS FORCAS  160504   \n",
       "778     6112  21A0                APRESTAMENTO DAS FORCAS  160504   \n",
       "779     6112  21A0                APRESTAMENTO DAS FORCAS  160504   \n",
       "780     6112  21A0                APRESTAMENTO DAS FORCAS  160504   \n",
       "781     6112  21A0                APRESTAMENTO DAS FORCAS  160504   \n",
       "782     6112  21A0                APRESTAMENTO DAS FORCAS  160504   \n",
       "783     6112  21A0                APRESTAMENTO DAS FORCAS  160504   \n",
       "784     6112  21A0                APRESTAMENTO DAS FORCAS  160504   \n",
       "785     6112  21A0                APRESTAMENTO DAS FORCAS  160504   \n",
       "786     6112  21A0                APRESTAMENTO DAS FORCAS  160504   \n",
       "787     6112  21A0                APRESTAMENTO DAS FORCAS  160504   \n",
       "788     6112  21A0                APRESTAMENTO DAS FORCAS  160504   \n",
       "789     6112  21A0                APRESTAMENTO DAS FORCAS  160504   \n",
       "790     6112  21A0                APRESTAMENTO DAS FORCAS  160504   \n",
       "791     6112  21A0                APRESTAMENTO DAS FORCAS  160504   \n",
       "792     6112  21A0                APRESTAMENTO DAS FORCAS  160504   \n",
       "793     6112  21A0                APRESTAMENTO DAS FORCAS  160504   \n",
       "794     6112  21A0                APRESTAMENTO DAS FORCAS  160504   \n",
       "795     6112  21A0                APRESTAMENTO DAS FORCAS  160504   \n",
       "796     6112  21A0                APRESTAMENTO DAS FORCAS  160504   \n",
       "797     6112  21A0                APRESTAMENTO DAS FORCAS  160504   \n",
       "798     6112  21A0                APRESTAMENTO DAS FORCAS  160504   \n",
       "799     6112  21A0                APRESTAMENTO DAS FORCAS  160504   \n",
       "800     6112  21A0                APRESTAMENTO DAS FORCAS  160504   \n",
       "801     6112  21A0                APRESTAMENTO DAS FORCAS  160504   \n",
       "802     6112  21A0                APRESTAMENTO DAS FORCAS  160504   \n",
       "803     6112  21A0                APRESTAMENTO DAS FORCAS  160504   \n",
       "804     6112  21A0                APRESTAMENTO DAS FORCAS  160504   \n",
       "805     6112  21A0                APRESTAMENTO DAS FORCAS  160504   \n",
       "806     6112  21A0                APRESTAMENTO DAS FORCAS  160504   \n",
       "807     6112  21A0                APRESTAMENTO DAS FORCAS  160504   \n",
       "808     6112  21A0                APRESTAMENTO DAS FORCAS  160504   \n",
       "809     6112  21A0                APRESTAMENTO DAS FORCAS  160504   \n",
       "810     6112  21A0                APRESTAMENTO DAS FORCAS  160504   \n",
       "811     6112  21A0                APRESTAMENTO DAS FORCAS  160504   \n",
       "812     6112  21A0                APRESTAMENTO DAS FORCAS  160504   \n",
       "813     6112  21A0                APRESTAMENTO DAS FORCAS  160504   \n",
       "814     6112  21A0                APRESTAMENTO DAS FORCAS  160504   \n",
       "815     6112  21A0                APRESTAMENTO DAS FORCAS  160504   \n",
       "816     6112  21A0                APRESTAMENTO DAS FORCAS  160504   \n",
       "817     6112  21A0                APRESTAMENTO DAS FORCAS  160504   \n",
       "818     6112  21A0                APRESTAMENTO DAS FORCAS  160504   \n",
       "819     6112  21A0                APRESTAMENTO DAS FORCAS  160504   \n",
       "820     6112  21A0                APRESTAMENTO DAS FORCAS  160504   \n",
       "821     6112  21A0                APRESTAMENTO DAS FORCAS  160504   \n",
       "822     6112  21A0                APRESTAMENTO DAS FORCAS  160504   \n",
       "823     6112  21A0                APRESTAMENTO DAS FORCAS  160504   \n",
       "824     6112  21A0                APRESTAMENTO DAS FORCAS  160504   \n",
       "825     6112  21A0                APRESTAMENTO DAS FORCAS  160504   \n",
       "\n",
       "        NOME_UGR   PTRES           PI  \\\n",
       "168  COEX/GESTOR  171397  E6SUPLJA1QR   \n",
       "169  COEX/GESTOR  171397  E6SUPLJA1QR   \n",
       "170  COEX/GESTOR  171397  E6SUPLJA1QR   \n",
       "171  COEX/GESTOR  171397  E6SUPLJA1QR   \n",
       "172  COEX/GESTOR  171397  E6SUPLJA1QR   \n",
       "173  COEX/GESTOR  171397  E6SUPLJA1QR   \n",
       "174  COEX/GESTOR  171397  E6SUPLJA1QR   \n",
       "175  COEX/GESTOR  171397  E6SUPLJA1QR   \n",
       "176  COEX/GESTOR  171397  E6SUPLJA1QR   \n",
       "177  COEX/GESTOR  171397  E6SUPLJA1QR   \n",
       "178  COEX/GESTOR  171397  E6SUPLJA1QR   \n",
       "179  COEX/GESTOR  171397  E6SUPLJA1QR   \n",
       "180  COEX/GESTOR  171397  E6SUPLJA1QR   \n",
       "181  COEX/GESTOR  171397  E6SUPLJA1QR   \n",
       "182  COEX/GESTOR  171397  E6SUPLJA1QR   \n",
       "183  COEX/GESTOR  171397  E6SUPLJA1QR   \n",
       "184  COEX/GESTOR  171397  E6SUPLJA1QR   \n",
       "185  COEX/GESTOR  171397  E6SUPLJA1QR   \n",
       "186  COEX/GESTOR  171397  E6SUPLJA1QR   \n",
       "187  COEX/GESTOR  171397  E6SUPLJA1QR   \n",
       "188  COEX/GESTOR  171397  E6SUPLJA1QR   \n",
       "189  COEX/GESTOR  171397  E6SUPLJA1QR   \n",
       "190  COEX/GESTOR  171397  E6SUPLJA1QR   \n",
       "191  COEX/GESTOR  171397  E6SUPLJA1QR   \n",
       "192  COEX/GESTOR  171397  E6SUPLJA1QR   \n",
       "193  COEX/GESTOR  171397  E6SUPLJA1QR   \n",
       "194  COEX/GESTOR  171397  E6SUPLJA1QR   \n",
       "195  COEX/GESTOR  171397  E6SUPLJA1QR   \n",
       "196  COEX/GESTOR  171397  E6SUPLJA1QR   \n",
       "197  COEX/GESTOR  171397  E6SUPLJA1QR   \n",
       "198  COEX/GESTOR  171397  E6SUPLJA1QR   \n",
       "199  COEX/GESTOR  171397  E6SUPLJA1QR   \n",
       "200  COEX/GESTOR  171397  E6SUPLJA1QR   \n",
       "201  COEX/GESTOR  171397  E6SUPLJA1QR   \n",
       "202  COEX/GESTOR  171397  E6SUPLJA1QR   \n",
       "203  COEX/GESTOR  171397  E6SUPLJA1QR   \n",
       "204  COEX/GESTOR  171397  E6SUPLJA1QR   \n",
       "205  COEX/GESTOR  171397  E6SUPLJA1QR   \n",
       "206  COEX/GESTOR  171397  E6SUPLJA1QR   \n",
       "207  COEX/GESTOR  171397  E6SUPLJA1QR   \n",
       "208  COEX/GESTOR  171397  E6SUPLJA1QR   \n",
       "209  COEX/GESTOR  171397  E6SUPLJA1QR   \n",
       "210  COEX/GESTOR  171397  E6SUPLJA1QR   \n",
       "211  COEX/GESTOR  171397  E6SUPLJA1QR   \n",
       "212  COEX/GESTOR  171397  E6SUPLJA1QR   \n",
       "213  COEX/GESTOR  171397  E6SUPLJA1QR   \n",
       "214  COEX/GESTOR  171397  E6SUPLJA1QR   \n",
       "215  COEX/GESTOR  171397  E6SUPLJA1QR   \n",
       "216  COEX/GESTOR  171397  E6SUPLJA3RR   \n",
       "217  COEX/GESTOR  171397  E6SUPLJA3RR   \n",
       "218  COEX/GESTOR  171397  E6SUPLJA3RR   \n",
       "219  COEX/GESTOR  171397  E6SUPLJA3RR   \n",
       "220  COEX/GESTOR  171397  E6SUPLJA3RR   \n",
       "221  COEX/GESTOR  171397  E6SUPLJA3RR   \n",
       "222  COEX/GESTOR  171397  E6SUPLJA5PA   \n",
       "223  COEX/GESTOR  171397  E6SUPLJA5PA   \n",
       "224  COEX/GESTOR  171397  E6SUPLJA5PA   \n",
       "225  COEX/GESTOR  171397  E6SUPLJA5PA   \n",
       "226  COEX/GESTOR  171397  E6SUPLJA5PA   \n",
       "227  COEX/GESTOR  171397  E6SUPLJA5PA   \n",
       "228  COEX/GESTOR  171397  E6SUPLJA5PA   \n",
       "229  COEX/GESTOR  171397  E6SUPLJA5PA   \n",
       "230  COEX/GESTOR  171397  E6SUPLJA5PA   \n",
       "231  COEX/GESTOR  171397  E6SUPLJA5PA   \n",
       "232  COEX/GESTOR  171397  E6SUPLJA5PA   \n",
       "233  COEX/GESTOR  171397  E6SUPLJA5PA   \n",
       "234  COEX/GESTOR  171397  E6SUPLJA5PA   \n",
       "235  COEX/GESTOR  171397  E6SUPLJA5PA   \n",
       "236  COEX/GESTOR  171397  E6SUPLJA5PA   \n",
       "237  COEX/GESTOR  171397  E6SUPLJA5PA   \n",
       "238  COEX/GESTOR  171397  E6SUPLJA5PA   \n",
       "239  COEX/GESTOR  171397  E6SUPLJA5PA   \n",
       "240  COEX/GESTOR  171397  E6SUPLJA5PA   \n",
       "241  COEX/GESTOR  171397  E6SUPLJA5PA   \n",
       "242  COEX/GESTOR  171397  E6SUPLJA5PA   \n",
       "243  COEX/GESTOR  171397  E6SUPLJA5PA   \n",
       "244  COEX/GESTOR  171397  E6SUPLJA5PA   \n",
       "245  COEX/GESTOR  171397  E6SUPLJA5PA   \n",
       "246  COEX/GESTOR  171397  E6SUPLJA5PA   \n",
       "247  COEX/GESTOR  171397  E6SUPLJA5PA   \n",
       "248  COEX/GESTOR  171397  E6SUPLJA5PA   \n",
       "249  COEX/GESTOR  171397  E6SUPLJA5PA   \n",
       "250  COEX/GESTOR  171397  E6SUPLJA5PA   \n",
       "251  COEX/GESTOR  171397  E6SUPLJA5PA   \n",
       "252  COEX/GESTOR  171397  E6SUPLJA5PA   \n",
       "253  COEX/GESTOR  171397  E6SUPLJA5PA   \n",
       "254  COEX/GESTOR  171397  E6SUPLJA5PA   \n",
       "255  COEX/GESTOR  171397  E6SUPLJA5PA   \n",
       "256  COEX/GESTOR  171397  E6SUPLJA5PA   \n",
       "257  COEX/GESTOR  171397  E6SUPLJA5PA   \n",
       "258  COEX/GESTOR  171397  E6SUPLJA5PA   \n",
       "259  COEX/GESTOR  171397  E6SUPLJESCO   \n",
       "260  COEX/GESTOR  171397  E6SUPLJESCO   \n",
       "261  COEX/GESTOR  171397  E6SUPLJESCO   \n",
       "262  COEX/GESTOR  171397  E6SUPLJESCO   \n",
       "263  COEX/GESTOR  171397  E6SUPLJESCO   \n",
       "264  COEX/GESTOR  171397  E6SUPLJESCO   \n",
       "265  COEX/GESTOR  171397  E6SUPLJESCO   \n",
       "266  COEX/GESTOR  171397  E6SUPLJESCO   \n",
       "267  COEX/GESTOR  171397  E6SUPLJESCO   \n",
       "268  COEX/GESTOR  171397  E6SUPLJESCO   \n",
       "270  COEX/GESTOR  171388  E6MIPLJBIDS   \n",
       "271  COEX/GESTOR  171388  E6MIPLJBIDS   \n",
       "272  COEX/GESTOR  171388  E6MIPLJUESC   \n",
       "273  COEX/GESTOR  171388  E6MIPLJUESC   \n",
       "274  COEX/GESTOR  171388  E6MIPLJUESC   \n",
       "275  COEX/GESTOR  171388  E6MIPLJUESC   \n",
       "276  COEX/GESTOR  171388  E6MIPLJUESC   \n",
       "277  COEX/GESTOR  171388  E6MIPLJUHIS   \n",
       "343  COEX/GESTOR  171465  E6MISOLFM20   \n",
       "344  COEX/GESTOR  171470  E5MMSUNCOMP   \n",
       "345  COEX/GESTOR  171470  E5MMSUNCOMP   \n",
       "346  COEX/GESTOR  171470  E5MMSUNCOMP   \n",
       "347  COEX/GESTOR  171470  E5MMSUNCOMP   \n",
       "348  COEX/GESTOR  193910  E6RVPLJMTOE   \n",
       "349  COEX/GESTOR  193910  E6RVPLJMTOE   \n",
       "752  COEX/GESTOR  232008  E5ARPDRCOLU   \n",
       "753  COEX/GESTOR  232046  E6RVPLJALEV   \n",
       "754  COEX/GESTOR  232046  E6RVPLJALEV   \n",
       "755  COEX/GESTOR  232046  E6RVPLJALIC   \n",
       "756  COEX/GESTOR  232046  E6RVPLJALIE   \n",
       "757  COEX/GESTOR  232046  E6RVPLJALIE   \n",
       "758  COEX/GESTOR  232046  E6RVPLJALIE   \n",
       "759  COEX/GESTOR  232046  E6RVPLJALIE   \n",
       "760  COEX/GESTOR  232046  E6RVPLJALIE   \n",
       "761  COEX/GESTOR  232046  E6RVPLJALIE   \n",
       "762  COEX/GESTOR  232046  E6RVPLJALIE   \n",
       "763  COEX/GESTOR  232046  E6RVPLJFER3   \n",
       "764  COEX/GESTOR  232046  E6RVPLJFER3   \n",
       "765  COEX/GESTOR  232046  E6RVPLJFER3   \n",
       "766  COEX/GESTOR  232046  E6RVPLJFER3   \n",
       "767  COEX/GESTOR  232046  E6RVPLJFER3   \n",
       "768  COEX/GESTOR  232046  E6RVPLJMTOC   \n",
       "769  COEX/GESTOR  232046  E6RVPLJMTOC   \n",
       "770  COEX/GESTOR  232046  E6RVPLJMTOC   \n",
       "771  COEX/GESTOR  232046  E6RVPLJMTOE   \n",
       "772  COEX/GESTOR  232046  E6RVPLJMTOE   \n",
       "773  COEX/GESTOR  232046  E6RVPLJMTOE   \n",
       "774  COEX/GESTOR  232046  E6RVPLJMTOE   \n",
       "775  COEX/GESTOR  232046  E6RVPLJMTOE   \n",
       "776  COEX/GESTOR  232046  E6RVPLJMTOE   \n",
       "777  COEX/GESTOR  232046  E6RVPLJMTOE   \n",
       "778  COEX/GESTOR  232046  E6RVPLJMTOE   \n",
       "779  COEX/GESTOR  232046  E6RVPLJMTOE   \n",
       "780  COEX/GESTOR  232046  E6RVPLJOUT4   \n",
       "781  COEX/GESTOR  232046  E6RVPLJOUT4   \n",
       "782  COEX/GESTOR  232046  E6RVPLJOUT4   \n",
       "783  COEX/GESTOR  232046  E6RVPLJOUT4   \n",
       "784  COEX/GESTOR  232046  E6RVPLJOUT4   \n",
       "785  COEX/GESTOR  232046  E6RVPLJOUT4   \n",
       "786  COEX/GESTOR  232046  E6RVPLJOUT4   \n",
       "787  COEX/GESTOR  232046  E6RVPLJOUT4   \n",
       "788  COEX/GESTOR  232046  E6RVPLJOUT4   \n",
       "789  COEX/GESTOR  232137  E6MIPLJFM20   \n",
       "790  COEX/GESTOR  232137  E6MIPLJINMU   \n",
       "791  COEX/GESTOR  232137  E6MIPLJINMU   \n",
       "792  COEX/GESTOR  232137  E6MIPLJINMU   \n",
       "793  COEX/GESTOR  232137  E6MIPLJINMU   \n",
       "794  COEX/GESTOR  232137  E6MIPLJINMU   \n",
       "795  COEX/GESTOR  232137  E6MIPLJINMU   \n",
       "796  COEX/GESTOR  232137  E6MIPLJINMU   \n",
       "797  COEX/GESTOR  232137  E6MIPLJINMU   \n",
       "798  COEX/GESTOR  232137  E6MIPLJINMU   \n",
       "799  COEX/GESTOR  232137  E6MIPLJINMU   \n",
       "800  COEX/GESTOR  232137  E6MIPLJINMU   \n",
       "801  COEX/GESTOR  232137  E6MIPLJINMU   \n",
       "802  COEX/GESTOR  232137  E6MIPLJINMU   \n",
       "803  COEX/GESTOR  232137  E6MIPLJMMTH   \n",
       "804  COEX/GESTOR  232137  E6MIPLJMMTH   \n",
       "805  COEX/GESTOR  232137  E6MIPLJMMTH   \n",
       "806  COEX/GESTOR  232137  E6MIPLJMMTH   \n",
       "807  COEX/GESTOR  232137  E6MIPLJMMTH   \n",
       "808  COEX/GESTOR  232137  E6MIPLJMMTH   \n",
       "809  COEX/GESTOR  232144  E5MBGRMDEGE   \n",
       "810  COEX/GESTOR  232144  E5MBSUNPASS   \n",
       "811  COEX/GESTOR  232144  E5MBSUNPASS   \n",
       "812  COEX/GESTOR  232144  E5MBSUNPREV   \n",
       "813  COEX/GESTOR  232144  E5MBSUNPREV   \n",
       "814  COEX/GESTOR  232144  E5MMGRMDEGE   \n",
       "815  COEX/GESTOR  232144  E5MMGRMDEGE   \n",
       "816  COEX/GESTOR  232144  E5MMGRMDEGE   \n",
       "817  COEX/GESTOR  232144  E5MMPDRDEGE   \n",
       "818  COEX/GESTOR  232144  E5MMSUNPREV   \n",
       "819  COEX/GESTOR  232144  E5MMSUNPREV   \n",
       "820  COEX/GESTOR  232144  E5MMSUNPREV   \n",
       "821  COEX/GESTOR  232144  E5MMSUNPREV   \n",
       "822  COEX/GESTOR  232144  E5MMSUNPREV   \n",
       "823  COEX/GESTOR  232144  E5MMSUNPREV   \n",
       "824  COEX/GESTOR  232144  E5MMSUNPREV   \n",
       "825  COEX/GESTOR  232144  E5MMSUNPREV   \n",
       "\n",
       "                                           NOME_PI      ND  \\\n",
       "168                  A1QR - QUANTITATIVO DE RANCHO  339030   \n",
       "169                  A1QR - QUANTITATIVO DE RANCHO  339030   \n",
       "170                  A1QR - QUANTITATIVO DE RANCHO  339030   \n",
       "171                  A1QR - QUANTITATIVO DE RANCHO  339030   \n",
       "172                  A1QR - QUANTITATIVO DE RANCHO  339030   \n",
       "173                  A1QR - QUANTITATIVO DE RANCHO  339030   \n",
       "174                  A1QR - QUANTITATIVO DE RANCHO  339030   \n",
       "175                  A1QR - QUANTITATIVO DE RANCHO  339030   \n",
       "176                  A1QR - QUANTITATIVO DE RANCHO  339030   \n",
       "177                  A1QR - QUANTITATIVO DE RANCHO  339030   \n",
       "178                  A1QR - QUANTITATIVO DE RANCHO  339030   \n",
       "179                  A1QR - QUANTITATIVO DE RANCHO  339030   \n",
       "180                  A1QR - QUANTITATIVO DE RANCHO  339030   \n",
       "181                  A1QR - QUANTITATIVO DE RANCHO  339030   \n",
       "182                  A1QR - QUANTITATIVO DE RANCHO  339030   \n",
       "183                  A1QR - QUANTITATIVO DE RANCHO  339030   \n",
       "184                  A1QR - QUANTITATIVO DE RANCHO  339030   \n",
       "185                  A1QR - QUANTITATIVO DE RANCHO  339030   \n",
       "186                  A1QR - QUANTITATIVO DE RANCHO  339030   \n",
       "187                  A1QR - QUANTITATIVO DE RANCHO  339030   \n",
       "188                  A1QR - QUANTITATIVO DE RANCHO  339030   \n",
       "189                  A1QR - QUANTITATIVO DE RANCHO  339030   \n",
       "190                  A1QR - QUANTITATIVO DE RANCHO  339030   \n",
       "191                  A1QR - QUANTITATIVO DE RANCHO  339030   \n",
       "192                  A1QR - QUANTITATIVO DE RANCHO  339030   \n",
       "193                  A1QR - QUANTITATIVO DE RANCHO  339030   \n",
       "194                  A1QR - QUANTITATIVO DE RANCHO  339030   \n",
       "195                  A1QR - QUANTITATIVO DE RANCHO  339030   \n",
       "196                  A1QR - QUANTITATIVO DE RANCHO  339030   \n",
       "197                  A1QR - QUANTITATIVO DE RANCHO  339030   \n",
       "198                  A1QR - QUANTITATIVO DE RANCHO  339030   \n",
       "199                  A1QR - QUANTITATIVO DE RANCHO  339030   \n",
       "200                  A1QR - QUANTITATIVO DE RANCHO  339030   \n",
       "201                  A1QR - QUANTITATIVO DE RANCHO  339030   \n",
       "202                  A1QR - QUANTITATIVO DE RANCHO  339030   \n",
       "203                  A1QR - QUANTITATIVO DE RANCHO  339030   \n",
       "204                  A1QR - QUANTITATIVO DE RANCHO  339030   \n",
       "205                  A1QR - QUANTITATIVO DE RANCHO  339030   \n",
       "206                  A1QR - QUANTITATIVO DE RANCHO  339030   \n",
       "207                  A1QR - QUANTITATIVO DE RANCHO  339030   \n",
       "208                  A1QR - QUANTITATIVO DE RANCHO  339030   \n",
       "209                  A1QR - QUANTITATIVO DE RANCHO  339030   \n",
       "210                  A1QR - QUANTITATIVO DE RANCHO  339030   \n",
       "211                  A1QR - QUANTITATIVO DE RANCHO  339030   \n",
       "212                  A1QR - QUANTITATIVO DE RANCHO  339030   \n",
       "213                  A1QR - QUANTITATIVO DE RANCHO  339030   \n",
       "214                  A1QR - QUANTITATIVO DE RANCHO  339030   \n",
       "215                  A1QR - QUANTITATIVO DE RANCHO  339030   \n",
       "216                  A3RR - QUANTITATIVO DE RANCHO  339030   \n",
       "217                  A3RR - QUANTITATIVO DE RANCHO  339030   \n",
       "218                  A3RR - QUANTITATIVO DE RANCHO  339030   \n",
       "219                  A3RR - QUANTITATIVO DE RANCHO  339030   \n",
       "220                  A3RR - QUANTITATIVO DE RANCHO  339030   \n",
       "221                  A3RR - QUANTITATIVO DE RANCHO  339030   \n",
       "222                                    A5PA - PASA  339030   \n",
       "223                                    A5PA - PASA  339030   \n",
       "224                                    A5PA - PASA  339030   \n",
       "225                                    A5PA - PASA  339030   \n",
       "226                                    A5PA - PASA  339030   \n",
       "227                                    A5PA - PASA  339030   \n",
       "228                                    A5PA - PASA  339030   \n",
       "229                                    A5PA - PASA  339030   \n",
       "230                                    A5PA - PASA  339030   \n",
       "231                                    A5PA - PASA  339030   \n",
       "232                                    A5PA - PASA  339030   \n",
       "233                                    A5PA - PASA  339030   \n",
       "234                                    A5PA - PASA  339030   \n",
       "235                                    A5PA - PASA  339030   \n",
       "236                                    A5PA - PASA  339030   \n",
       "237                                    A5PA - PASA  339030   \n",
       "238                                    A5PA - PASA  339030   \n",
       "239                                    A5PA - PASA  339030   \n",
       "240                                    A5PA - PASA  339030   \n",
       "241                                    A5PA - PASA  339030   \n",
       "242                                    A5PA - PASA  339030   \n",
       "243                                    A5PA - PASA  339030   \n",
       "244                                    A5PA - PASA  339030   \n",
       "245                                    A5PA - PASA  339030   \n",
       "246                                    A5PA - PASA  449052   \n",
       "247                                    A5PA - PASA  449052   \n",
       "248                                    A5PA - PASA  449052   \n",
       "249                                    A5PA - PASA  449052   \n",
       "250                                    A5PA - PASA  449052   \n",
       "251                                    A5PA - PASA  449052   \n",
       "252                                    A5PA - PASA  449052   \n",
       "253                                    A5PA - PASA  449052   \n",
       "254                                    A5PA - PASA  449052   \n",
       "255                                    A5PA - PASA  449052   \n",
       "256                                    A5PA - PASA  449052   \n",
       "257                                    A5PA - PASA  449052   \n",
       "258                                    A5PA - PASA  449052   \n",
       "259                  ESCO - QUANTITATIVO DE RANCHO  339030   \n",
       "260                  ESCO - QUANTITATIVO DE RANCHO  339030   \n",
       "261                  ESCO - QUANTITATIVO DE RANCHO  339030   \n",
       "262                  ESCO - QUANTITATIVO DE RANCHO  339030   \n",
       "263                  ESCO - QUANTITATIVO DE RANCHO  339030   \n",
       "264                  ESCO - QUANTITATIVO DE RANCHO  339030   \n",
       "265                  ESCO - QUANTITATIVO DE RANCHO  339030   \n",
       "266                  ESCO - QUANTITATIVO DE RANCHO  339030   \n",
       "267                  ESCO - QUANTITATIVO DE RANCHO  339030   \n",
       "268                  ESCO - QUANTITATIVO DE RANCHO  339030   \n",
       "270                        MATERIAL DE INTENDÊNCIA  339030   \n",
       "271                        MATERIAL DE INTENDÊNCIA  339039   \n",
       "272                        MATERIAL DE INTENDÊNCIA  339030   \n",
       "273                        MATERIAL DE INTENDÊNCIA  339030   \n",
       "274                        MATERIAL DE INTENDÊNCIA  339030   \n",
       "275                        MATERIAL DE INTENDÊNCIA  339030   \n",
       "276                        MATERIAL DE INTENDÊNCIA  339030   \n",
       "277                        MATERIAL DE INTENDÊNCIA  339030   \n",
       "343                        MATERIAL DE INTENDÊNCIA  449052   \n",
       "344                     AQS SUP SV MNT VTR NAO BLD  339030   \n",
       "345                     AQS SUP SV MNT VTR NAO BLD  339030   \n",
       "346                     AQS SUP SV MNT VTR NAO BLD  339030   \n",
       "347                     AQS SUP SV MNT VTR NAO BLD  339030   \n",
       "348                 MEDIDAS PROFILÁT SAÚDE EQUINOS  339039   \n",
       "349                 MEDIDAS PROFILÁT SAÚDE EQUINOS  339039   \n",
       "752        DESCENTRALIZACAO DE RECURSOS ARMAMENTOS  339030   \n",
       "753   AQS DE ALMT  PARA  EQUINOS: ALFAF/AVEIA/FENO  339030   \n",
       "754   AQS DE ALMT  PARA  EQUINOS: ALFAF/AVEIA/FENO  339030   \n",
       "755                      ALIMENTACAO PARA CANINOS.  339030   \n",
       "756                      ALIMENTACAO PARA EQUINOS.  339030   \n",
       "757                      ALIMENTACAO PARA EQUINOS.  339030   \n",
       "758                      ALIMENTACAO PARA EQUINOS.  339030   \n",
       "759                      ALIMENTACAO PARA EQUINOS.  339030   \n",
       "760                      ALIMENTACAO PARA EQUINOS.  339030   \n",
       "761                      ALIMENTACAO PARA EQUINOS.  339030   \n",
       "762                      ALIMENTACAO PARA EQUINOS.  339030   \n",
       "763                          REMONTA E VETERINÁRIA  339030   \n",
       "764                          REMONTA E VETERINÁRIA  339030   \n",
       "765                          REMONTA E VETERINÁRIA  339030   \n",
       "766                          REMONTA E VETERINÁRIA  339030   \n",
       "767                          REMONTA E VETERINÁRIA  339030   \n",
       "768                MEDIDAS PROFILÁT SAÚDE CANINOS.  339030   \n",
       "769                MEDIDAS PROFILÁT SAÚDE CANINOS.  339030   \n",
       "770                MEDIDAS PROFILÁT SAÚDE CANINOS.  339030   \n",
       "771                 MEDIDAS PROFILÁT SAÚDE EQUINOS  339030   \n",
       "772                 MEDIDAS PROFILÁT SAÚDE EQUINOS  339030   \n",
       "773                 MEDIDAS PROFILÁT SAÚDE EQUINOS  339030   \n",
       "774                 MEDIDAS PROFILÁT SAÚDE EQUINOS  339030   \n",
       "775                 MEDIDAS PROFILÁT SAÚDE EQUINOS  339030   \n",
       "776                 MEDIDAS PROFILÁT SAÚDE EQUINOS  339030   \n",
       "777                 MEDIDAS PROFILÁT SAÚDE EQUINOS  339030   \n",
       "778                 MEDIDAS PROFILÁT SAÚDE EQUINOS  339030   \n",
       "779                 MEDIDAS PROFILÁT SAÚDE EQUINOS  339030   \n",
       "780                          REMONTA E VETERINÁRIA  339030   \n",
       "781                          REMONTA E VETERINÁRIA  449052   \n",
       "782                          REMONTA E VETERINÁRIA  449052   \n",
       "783                          REMONTA E VETERINÁRIA  449052   \n",
       "784                          REMONTA E VETERINÁRIA  449052   \n",
       "785                          REMONTA E VETERINÁRIA  449052   \n",
       "786                          REMONTA E VETERINÁRIA  449052   \n",
       "787                          REMONTA E VETERINÁRIA  449052   \n",
       "788                          REMONTA E VETERINÁRIA  449052   \n",
       "789                        MATERIAL DE INTENDÊNCIA  449052   \n",
       "790                        MATERIAL DE INTENDÊNCIA  339030   \n",
       "791                        MATERIAL DE INTENDÊNCIA  339030   \n",
       "792                        MATERIAL DE INTENDÊNCIA  339030   \n",
       "793                        MATERIAL DE INTENDÊNCIA  339030   \n",
       "794                        MATERIAL DE INTENDÊNCIA  339030   \n",
       "795                        MATERIAL DE INTENDÊNCIA  339030   \n",
       "796                        MATERIAL DE INTENDÊNCIA  339030   \n",
       "797                        MATERIAL DE INTENDÊNCIA  339030   \n",
       "798                        MATERIAL DE INTENDÊNCIA  339030   \n",
       "799                        MATERIAL DE INTENDÊNCIA  339030   \n",
       "800                        MATERIAL DE INTENDÊNCIA  339030   \n",
       "801                        MATERIAL DE INTENDÊNCIA  339030   \n",
       "802                        MATERIAL DE INTENDÊNCIA  339030   \n",
       "803                        MATERIAL DE INTENDÊNCIA  339030   \n",
       "804                        MATERIAL DE INTENDÊNCIA  339030   \n",
       "805                        MATERIAL DE INTENDÊNCIA  339030   \n",
       "806                        MATERIAL DE INTENDÊNCIA  449052   \n",
       "807                        MATERIAL DE INTENDÊNCIA  449052   \n",
       "808                        MATERIAL DE INTENDÊNCIA  449052   \n",
       "809       LOG VTR BLD SOB GESTÃO DA REGIÃO MILITAR  339030   \n",
       "810       SUPRIMENTO E MANUTENCAO - MB - PASSAGENS  339033   \n",
       "811       SUPRIMENTO E MANUTENCAO - MB - PASSAGENS  339033   \n",
       "812  SUPRIMENTO E MANUTENCAO MOTOMECANIZACAO_BLIND  339030   \n",
       "813  SUPRIMENTO E MANUTENCAO MOTOMECANIZACAO_BLIND  339030   \n",
       "814   LOG VTR NÃO BLD-ABAST/LAV/LUBRIFIC GESTÃO RM  339030   \n",
       "815   LOG VTR NÃO BLD-ABAST/LAV/LUBRIFIC GESTÃO RM  339030   \n",
       "816   LOG VTR NÃO BLD-ABAST/LAV/LUBRIFIC GESTÃO RM  339039   \n",
       "817      DESCENTRALIZACAO RECURSOS MOTOMECANIZACAO  339030   \n",
       "818        SUPRIMENTO E MANUTENCAO MOTOMECANIZACAO  339030   \n",
       "819        SUPRIMENTO E MANUTENCAO MOTOMECANIZACAO  339030   \n",
       "820        SUPRIMENTO E MANUTENCAO MOTOMECANIZACAO  339030   \n",
       "821        SUPRIMENTO E MANUTENCAO MOTOMECANIZACAO  339030   \n",
       "822        SUPRIMENTO E MANUTENCAO MOTOMECANIZACAO  339030   \n",
       "823        SUPRIMENTO E MANUTENCAO MOTOMECANIZACAO  339030   \n",
       "824        SUPRIMENTO E MANUTENCAO MOTOMECANIZACAO  339030   \n",
       "825        SUPRIMENTO E MANUTENCAO MOTOMECANIZACAO  339030   \n",
       "\n",
       "                                            NOME_ND      NDSI  \\\n",
       "168                             MATERIAL DE CONSUMO  33903004   \n",
       "169                             MATERIAL DE CONSUMO  33903004   \n",
       "170                             MATERIAL DE CONSUMO  33903004   \n",
       "171                             MATERIAL DE CONSUMO  33903004   \n",
       "172                             MATERIAL DE CONSUMO  33903004   \n",
       "173                             MATERIAL DE CONSUMO  33903004   \n",
       "174                             MATERIAL DE CONSUMO  33903007   \n",
       "175                             MATERIAL DE CONSUMO  33903007   \n",
       "176                             MATERIAL DE CONSUMO  33903007   \n",
       "177                             MATERIAL DE CONSUMO  33903007   \n",
       "178                             MATERIAL DE CONSUMO  33903007   \n",
       "179                             MATERIAL DE CONSUMO  33903007   \n",
       "180                             MATERIAL DE CONSUMO  33903007   \n",
       "181                             MATERIAL DE CONSUMO  33903007   \n",
       "182                             MATERIAL DE CONSUMO  33903007   \n",
       "183                             MATERIAL DE CONSUMO  33903007   \n",
       "184                             MATERIAL DE CONSUMO  33903007   \n",
       "185                             MATERIAL DE CONSUMO  33903007   \n",
       "186                             MATERIAL DE CONSUMO  33903007   \n",
       "187                             MATERIAL DE CONSUMO  33903007   \n",
       "188                             MATERIAL DE CONSUMO  33903007   \n",
       "189                             MATERIAL DE CONSUMO  33903007   \n",
       "190                             MATERIAL DE CONSUMO  33903007   \n",
       "191                             MATERIAL DE CONSUMO  33903007   \n",
       "192                             MATERIAL DE CONSUMO  33903007   \n",
       "193                             MATERIAL DE CONSUMO  33903007   \n",
       "194                             MATERIAL DE CONSUMO  33903007   \n",
       "195                             MATERIAL DE CONSUMO  33903007   \n",
       "196                             MATERIAL DE CONSUMO  33903007   \n",
       "197                             MATERIAL DE CONSUMO  33903007   \n",
       "198                             MATERIAL DE CONSUMO  33903007   \n",
       "199                             MATERIAL DE CONSUMO  33903007   \n",
       "200                             MATERIAL DE CONSUMO  33903007   \n",
       "201                             MATERIAL DE CONSUMO  33903007   \n",
       "202                             MATERIAL DE CONSUMO  33903007   \n",
       "203                             MATERIAL DE CONSUMO  33903007   \n",
       "204                             MATERIAL DE CONSUMO  33903007   \n",
       "205                             MATERIAL DE CONSUMO  33903007   \n",
       "206                             MATERIAL DE CONSUMO  33903007   \n",
       "207                             MATERIAL DE CONSUMO  33903007   \n",
       "208                             MATERIAL DE CONSUMO  33903007   \n",
       "209                             MATERIAL DE CONSUMO  33903007   \n",
       "210                             MATERIAL DE CONSUMO  33903007   \n",
       "211                             MATERIAL DE CONSUMO  33903007   \n",
       "212                             MATERIAL DE CONSUMO  33903007   \n",
       "213                             MATERIAL DE CONSUMO  33903007   \n",
       "214                             MATERIAL DE CONSUMO  33903007   \n",
       "215                             MATERIAL DE CONSUMO  33903007   \n",
       "216                             MATERIAL DE CONSUMO  33903007   \n",
       "217                             MATERIAL DE CONSUMO  33903007   \n",
       "218                             MATERIAL DE CONSUMO  33903007   \n",
       "219                             MATERIAL DE CONSUMO  33903007   \n",
       "220                             MATERIAL DE CONSUMO  33903007   \n",
       "221                             MATERIAL DE CONSUMO  33903007   \n",
       "222                             MATERIAL DE CONSUMO  33903019   \n",
       "223                             MATERIAL DE CONSUMO  33903019   \n",
       "224                             MATERIAL DE CONSUMO  33903019   \n",
       "225                             MATERIAL DE CONSUMO  33903019   \n",
       "226                             MATERIAL DE CONSUMO  33903019   \n",
       "227                             MATERIAL DE CONSUMO  33903021   \n",
       "228                             MATERIAL DE CONSUMO  33903021   \n",
       "229                             MATERIAL DE CONSUMO  33903021   \n",
       "230                             MATERIAL DE CONSUMO  33903021   \n",
       "231                             MATERIAL DE CONSUMO  33903021   \n",
       "232                             MATERIAL DE CONSUMO  33903021   \n",
       "233                             MATERIAL DE CONSUMO  33903021   \n",
       "234                             MATERIAL DE CONSUMO  33903021   \n",
       "235                             MATERIAL DE CONSUMO  33903021   \n",
       "236                             MATERIAL DE CONSUMO  33903021   \n",
       "237                             MATERIAL DE CONSUMO  33903021   \n",
       "238                             MATERIAL DE CONSUMO  33903021   \n",
       "239                             MATERIAL DE CONSUMO  33903021   \n",
       "240                             MATERIAL DE CONSUMO  33903021   \n",
       "241                             MATERIAL DE CONSUMO  33903021   \n",
       "242                             MATERIAL DE CONSUMO  33903021   \n",
       "243                             MATERIAL DE CONSUMO  33903021   \n",
       "244                             MATERIAL DE CONSUMO  33903021   \n",
       "245                             MATERIAL DE CONSUMO  33903021   \n",
       "246              EQUIPAMENTOS E MATERIAL PERMANENTE  44905204   \n",
       "247              EQUIPAMENTOS E MATERIAL PERMANENTE  44905212   \n",
       "248              EQUIPAMENTOS E MATERIAL PERMANENTE  44905212   \n",
       "249              EQUIPAMENTOS E MATERIAL PERMANENTE  44905212   \n",
       "250              EQUIPAMENTOS E MATERIAL PERMANENTE  44905212   \n",
       "251              EQUIPAMENTOS E MATERIAL PERMANENTE  44905228   \n",
       "252              EQUIPAMENTOS E MATERIAL PERMANENTE  44905228   \n",
       "253              EQUIPAMENTOS E MATERIAL PERMANENTE  44905228   \n",
       "254              EQUIPAMENTOS E MATERIAL PERMANENTE  44905242   \n",
       "255              EQUIPAMENTOS E MATERIAL PERMANENTE  44905242   \n",
       "256              EQUIPAMENTOS E MATERIAL PERMANENTE  44905242   \n",
       "257              EQUIPAMENTOS E MATERIAL PERMANENTE  44905242   \n",
       "258              EQUIPAMENTOS E MATERIAL PERMANENTE  44905242   \n",
       "259                             MATERIAL DE CONSUMO  33903007   \n",
       "260                             MATERIAL DE CONSUMO  33903007   \n",
       "261                             MATERIAL DE CONSUMO  33903007   \n",
       "262                             MATERIAL DE CONSUMO  33903007   \n",
       "263                             MATERIAL DE CONSUMO  33903007   \n",
       "264                             MATERIAL DE CONSUMO  33903007   \n",
       "265                             MATERIAL DE CONSUMO  33903007   \n",
       "266                             MATERIAL DE CONSUMO  33903007   \n",
       "267                             MATERIAL DE CONSUMO  33903007   \n",
       "268                             MATERIAL DE CONSUMO  33903007   \n",
       "270                             MATERIAL DE CONSUMO  33903050   \n",
       "271  OUTROS SERVICOS DE TERCEIROS - PESSOA JURIDICA  33903970   \n",
       "272                             MATERIAL DE CONSUMO  33903023   \n",
       "273                             MATERIAL DE CONSUMO  33903023   \n",
       "274                             MATERIAL DE CONSUMO  33903023   \n",
       "275                             MATERIAL DE CONSUMO  33903023   \n",
       "276                             MATERIAL DE CONSUMO  33903023   \n",
       "277                             MATERIAL DE CONSUMO  33903023   \n",
       "343              EQUIPAMENTOS E MATERIAL PERMANENTE  44905242   \n",
       "344                             MATERIAL DE CONSUMO  33903039   \n",
       "345                             MATERIAL DE CONSUMO  33903039   \n",
       "346                             MATERIAL DE CONSUMO  33903039   \n",
       "347                             MATERIAL DE CONSUMO  33903039   \n",
       "348  OUTROS SERVICOS DE TERCEIROS - PESSOA JURIDICA  33903950   \n",
       "349  OUTROS SERVICOS DE TERCEIROS - PESSOA JURIDICA  33903950   \n",
       "752                             MATERIAL DE CONSUMO  33903001   \n",
       "753                             MATERIAL DE CONSUMO  33903006   \n",
       "754                             MATERIAL DE CONSUMO  33903006   \n",
       "755                             MATERIAL DE CONSUMO  33903006   \n",
       "756                             MATERIAL DE CONSUMO  33903006   \n",
       "757                             MATERIAL DE CONSUMO  33903006   \n",
       "758                             MATERIAL DE CONSUMO  33903006   \n",
       "759                             MATERIAL DE CONSUMO  33903006   \n",
       "760                             MATERIAL DE CONSUMO  33903006   \n",
       "761                             MATERIAL DE CONSUMO  33903006   \n",
       "762                             MATERIAL DE CONSUMO  33903006   \n",
       "763                             MATERIAL DE CONSUMO  33903004   \n",
       "764                             MATERIAL DE CONSUMO  33903012   \n",
       "765                             MATERIAL DE CONSUMO  33903012   \n",
       "766                             MATERIAL DE CONSUMO  33903012   \n",
       "767                             MATERIAL DE CONSUMO  33903012   \n",
       "768                             MATERIAL DE CONSUMO  33903018   \n",
       "769                             MATERIAL DE CONSUMO  33903018   \n",
       "770                             MATERIAL DE CONSUMO  33903018   \n",
       "771                             MATERIAL DE CONSUMO  33903006   \n",
       "772                             MATERIAL DE CONSUMO  33903018   \n",
       "773                             MATERIAL DE CONSUMO  33903018   \n",
       "774                             MATERIAL DE CONSUMO  33903018   \n",
       "775                             MATERIAL DE CONSUMO  33903018   \n",
       "776                             MATERIAL DE CONSUMO  33903018   \n",
       "777                             MATERIAL DE CONSUMO  33903018   \n",
       "778                             MATERIAL DE CONSUMO  33903018   \n",
       "779                             MATERIAL DE CONSUMO  33903036   \n",
       "780                             MATERIAL DE CONSUMO  33903024   \n",
       "781              EQUIPAMENTOS E MATERIAL PERMANENTE  44905234   \n",
       "782              EQUIPAMENTOS E MATERIAL PERMANENTE  44905238   \n",
       "783              EQUIPAMENTOS E MATERIAL PERMANENTE  44905238   \n",
       "784              EQUIPAMENTOS E MATERIAL PERMANENTE  44905238   \n",
       "785              EQUIPAMENTOS E MATERIAL PERMANENTE  44905238   \n",
       "786              EQUIPAMENTOS E MATERIAL PERMANENTE  44905240   \n",
       "787              EQUIPAMENTOS E MATERIAL PERMANENTE  44905240   \n",
       "788              EQUIPAMENTOS E MATERIAL PERMANENTE  44905240   \n",
       "789              EQUIPAMENTOS E MATERIAL PERMANENTE  44905224   \n",
       "790                             MATERIAL DE CONSUMO  33903025   \n",
       "791                             MATERIAL DE CONSUMO  33903025   \n",
       "792                             MATERIAL DE CONSUMO  33903025   \n",
       "793                             MATERIAL DE CONSUMO  33903025   \n",
       "794                             MATERIAL DE CONSUMO  33903025   \n",
       "795                             MATERIAL DE CONSUMO  33903025   \n",
       "796                             MATERIAL DE CONSUMO  33903025   \n",
       "797                             MATERIAL DE CONSUMO  33903025   \n",
       "798                             MATERIAL DE CONSUMO  33903025   \n",
       "799                             MATERIAL DE CONSUMO  33903025   \n",
       "800                             MATERIAL DE CONSUMO  33903025   \n",
       "801                             MATERIAL DE CONSUMO  33903025   \n",
       "802                             MATERIAL DE CONSUMO  33903025   \n",
       "803                             MATERIAL DE CONSUMO  33903028   \n",
       "804                             MATERIAL DE CONSUMO  33903028   \n",
       "805                             MATERIAL DE CONSUMO  33903028   \n",
       "806              EQUIPAMENTOS E MATERIAL PERMANENTE  44905224   \n",
       "807              EQUIPAMENTOS E MATERIAL PERMANENTE  44905224   \n",
       "808              EQUIPAMENTOS E MATERIAL PERMANENTE  44905224   \n",
       "809                             MATERIAL DE CONSUMO  33903039   \n",
       "810              PASSAGENS E DESPESAS COM LOCOMOCAO  33903301   \n",
       "811              PASSAGENS E DESPESAS COM LOCOMOCAO  33903301   \n",
       "812                             MATERIAL DE CONSUMO  33903039   \n",
       "813                             MATERIAL DE CONSUMO  33903039   \n",
       "814                             MATERIAL DE CONSUMO  33903039   \n",
       "815                             MATERIAL DE CONSUMO  33903039   \n",
       "816  OUTROS SERVICOS DE TERCEIROS - PESSOA JURIDICA  33903919   \n",
       "817                             MATERIAL DE CONSUMO  33903039   \n",
       "818                             MATERIAL DE CONSUMO  33903039   \n",
       "819                             MATERIAL DE CONSUMO  33903039   \n",
       "820                             MATERIAL DE CONSUMO  33903039   \n",
       "821                             MATERIAL DE CONSUMO  33903039   \n",
       "822                             MATERIAL DE CONSUMO  33903039   \n",
       "823                             MATERIAL DE CONSUMO  33903039   \n",
       "824                             MATERIAL DE CONSUMO  33903039   \n",
       "825                             MATERIAL DE CONSUMO  33903039   \n",
       "\n",
       "                                          NOME_NDSI            NE   ANO  \\\n",
       "168             GAS E OUTROS MATERIAIS ENGARRAFADOS  2023NE001158  2023   \n",
       "169             GAS E OUTROS MATERIAIS ENGARRAFADOS  2023NE002707  2023   \n",
       "170             GAS E OUTROS MATERIAIS ENGARRAFADOS  2024NE000072  2024   \n",
       "171             GAS E OUTROS MATERIAIS ENGARRAFADOS  2024NE000608  2024   \n",
       "172             GAS E OUTROS MATERIAIS ENGARRAFADOS  2024NE000628  2024   \n",
       "173             GAS E OUTROS MATERIAIS ENGARRAFADOS  2024NE000630  2024   \n",
       "174                          GENEROS DE ALIMENTACAO  2023NE000673  2023   \n",
       "175                          GENEROS DE ALIMENTACAO  2023NE000698  2023   \n",
       "176                          GENEROS DE ALIMENTACAO  2023NE000715  2023   \n",
       "177                          GENEROS DE ALIMENTACAO  2023NE001154  2023   \n",
       "178                          GENEROS DE ALIMENTACAO  2023NE001155  2023   \n",
       "179                          GENEROS DE ALIMENTACAO  2024NE000073  2024   \n",
       "180                          GENEROS DE ALIMENTACAO  2024NE000100  2024   \n",
       "181                          GENEROS DE ALIMENTACAO  2024NE000101  2024   \n",
       "182                          GENEROS DE ALIMENTACAO  2024NE000103  2024   \n",
       "183                          GENEROS DE ALIMENTACAO  2024NE000104  2024   \n",
       "184                          GENEROS DE ALIMENTACAO  2024NE000105  2024   \n",
       "185                          GENEROS DE ALIMENTACAO  2024NE000106  2024   \n",
       "186                          GENEROS DE ALIMENTACAO  2024NE000107  2024   \n",
       "187                          GENEROS DE ALIMENTACAO  2024NE000108  2024   \n",
       "188                          GENEROS DE ALIMENTACAO  2024NE000109  2024   \n",
       "189                          GENEROS DE ALIMENTACAO  2024NE000110  2024   \n",
       "190                          GENEROS DE ALIMENTACAO  2024NE000111  2024   \n",
       "191                          GENEROS DE ALIMENTACAO  2024NE000259  2024   \n",
       "192                          GENEROS DE ALIMENTACAO  2024NE000609  2024   \n",
       "193                          GENEROS DE ALIMENTACAO  2024NE000610  2024   \n",
       "194                          GENEROS DE ALIMENTACAO  2024NE000611  2024   \n",
       "195                          GENEROS DE ALIMENTACAO  2024NE000612  2024   \n",
       "196                          GENEROS DE ALIMENTACAO  2024NE000613  2024   \n",
       "197                          GENEROS DE ALIMENTACAO  2024NE000614  2024   \n",
       "198                          GENEROS DE ALIMENTACAO  2024NE000615  2024   \n",
       "199                          GENEROS DE ALIMENTACAO  2024NE000616  2024   \n",
       "200                          GENEROS DE ALIMENTACAO  2024NE000621  2024   \n",
       "201                          GENEROS DE ALIMENTACAO  2024NE000622  2024   \n",
       "202                          GENEROS DE ALIMENTACAO  2024NE000623  2024   \n",
       "203                          GENEROS DE ALIMENTACAO  2024NE000624  2024   \n",
       "204                          GENEROS DE ALIMENTACAO  2024NE000626  2024   \n",
       "205                          GENEROS DE ALIMENTACAO  2024NE000627  2024   \n",
       "206                          GENEROS DE ALIMENTACAO  2024NE000649  2024   \n",
       "207                          GENEROS DE ALIMENTACAO  2024NE000651  2024   \n",
       "208                          GENEROS DE ALIMENTACAO  2024NE000653  2024   \n",
       "209                          GENEROS DE ALIMENTACAO  2024NE000701  2024   \n",
       "210                          GENEROS DE ALIMENTACAO  2024NE000705  2024   \n",
       "211                          GENEROS DE ALIMENTACAO  2024NE000765  2024   \n",
       "212                          GENEROS DE ALIMENTACAO  2024NE000767  2024   \n",
       "213                          GENEROS DE ALIMENTACAO  2024NE000768  2024   \n",
       "214                          GENEROS DE ALIMENTACAO  2024NE000769  2024   \n",
       "215                          GENEROS DE ALIMENTACAO  2024NE000770  2024   \n",
       "216                          GENEROS DE ALIMENTACAO  2024NE000094  2024   \n",
       "217                          GENEROS DE ALIMENTACAO  2024NE000095  2024   \n",
       "218                          GENEROS DE ALIMENTACAO  2024NE000097  2024   \n",
       "219                          GENEROS DE ALIMENTACAO  2024NE000098  2024   \n",
       "220                          GENEROS DE ALIMENTACAO  2024NE000285  2024   \n",
       "221                          GENEROS DE ALIMENTACAO  2024NE000464  2024   \n",
       "222        MATERIAL DE ACONDICIONAMENTO E EMBALAGEM  2024NE000145  2024   \n",
       "223        MATERIAL DE ACONDICIONAMENTO E EMBALAGEM  2024NE000146  2024   \n",
       "224        MATERIAL DE ACONDICIONAMENTO E EMBALAGEM  2024NE000166  2024   \n",
       "225        MATERIAL DE ACONDICIONAMENTO E EMBALAGEM  2024NE000168  2024   \n",
       "226        MATERIAL DE ACONDICIONAMENTO E EMBALAGEM  2024NE000516  2024   \n",
       "227                      MATERIAL DE COPA E COZINHA  2023NE002719  2023   \n",
       "228                      MATERIAL DE COPA E COZINHA  2023NE002720  2023   \n",
       "229                      MATERIAL DE COPA E COZINHA  2023NE002721  2023   \n",
       "230                      MATERIAL DE COPA E COZINHA  2024NE000152  2024   \n",
       "231                      MATERIAL DE COPA E COZINHA  2024NE000153  2024   \n",
       "232                      MATERIAL DE COPA E COZINHA  2024NE000154  2024   \n",
       "233                      MATERIAL DE COPA E COZINHA  2024NE000155  2024   \n",
       "234                      MATERIAL DE COPA E COZINHA  2024NE000157  2024   \n",
       "235                      MATERIAL DE COPA E COZINHA  2024NE000159  2024   \n",
       "236                      MATERIAL DE COPA E COZINHA  2024NE000160  2024   \n",
       "237                      MATERIAL DE COPA E COZINHA  2024NE000161  2024   \n",
       "238                      MATERIAL DE COPA E COZINHA  2024NE000162  2024   \n",
       "239                      MATERIAL DE COPA E COZINHA  2024NE000163  2024   \n",
       "240                      MATERIAL DE COPA E COZINHA  2024NE000164  2024   \n",
       "241                      MATERIAL DE COPA E COZINHA  2024NE000516  2024   \n",
       "242                      MATERIAL DE COPA E COZINHA  2024NE000517  2024   \n",
       "243                      MATERIAL DE COPA E COZINHA  2024NE000518  2024   \n",
       "244                      MATERIAL DE COPA E COZINHA  2024NE000519  2024   \n",
       "245                      MATERIAL DE COPA E COZINHA  2024NE000520  2024   \n",
       "246               APARELHOS DE MEDICAO E ORIENTACAO  2024NE000125  2024   \n",
       "247               APARELHOS E UTENSILIOS DOMESTICOS  2024NE000126  2024   \n",
       "248               APARELHOS E UTENSILIOS DOMESTICOS  2024NE000127  2024   \n",
       "249               APARELHOS E UTENSILIOS DOMESTICOS  2024NE000130  2024   \n",
       "250               APARELHOS E UTENSILIOS DOMESTICOS  2024NE000143  2024   \n",
       "251  MAQUINAS E EQUIPAMENTOS DE NATUREZA INDUSTRIAL  2024NE000129  2024   \n",
       "252  MAQUINAS E EQUIPAMENTOS DE NATUREZA INDUSTRIAL  2024NE000572  2024   \n",
       "253  MAQUINAS E EQUIPAMENTOS DE NATUREZA INDUSTRIAL  2024NE000574  2024   \n",
       "254                             MOBILIARIO EM GERAL  2024NE000131  2024   \n",
       "255                             MOBILIARIO EM GERAL  2024NE000132  2024   \n",
       "256                             MOBILIARIO EM GERAL  2024NE000133  2024   \n",
       "257                             MOBILIARIO EM GERAL  2024NE000561  2024   \n",
       "258                             MOBILIARIO EM GERAL  2024NE000577  2024   \n",
       "259                          GENEROS DE ALIMENTACAO  2024NE000087  2024   \n",
       "260                          GENEROS DE ALIMENTACAO  2024NE000088  2024   \n",
       "261                          GENEROS DE ALIMENTACAO  2024NE000089  2024   \n",
       "262                          GENEROS DE ALIMENTACAO  2024NE000090  2024   \n",
       "263                          GENEROS DE ALIMENTACAO  2024NE000091  2024   \n",
       "264                          GENEROS DE ALIMENTACAO  2024NE000092  2024   \n",
       "265                          GENEROS DE ALIMENTACAO  2024NE000093  2024   \n",
       "266                          GENEROS DE ALIMENTACAO  2024NE000625  2024   \n",
       "267                          GENEROS DE ALIMENTACAO  2024NE000650  2024   \n",
       "268                          GENEROS DE ALIMENTACAO  2024NE000652  2024   \n",
       "270                 BANDEIRAS, FLAMULAS E INSIGNIAS  2024NE000587  2024   \n",
       "271    CONFECCAO DE UNIFORMES, BANDEIRAS E FLAMULAS  2024NE000232  2024   \n",
       "272                 UNIFORMES, TECIDOS E AVIAMENTOS  2024NE000027  2024   \n",
       "273                 UNIFORMES, TECIDOS E AVIAMENTOS  2024NE000028  2024   \n",
       "274                 UNIFORMES, TECIDOS E AVIAMENTOS  2024NE000029  2024   \n",
       "275                 UNIFORMES, TECIDOS E AVIAMENTOS  2024NE000030  2024   \n",
       "276                 UNIFORMES, TECIDOS E AVIAMENTOS  2024NE000540  2024   \n",
       "277                 UNIFORMES, TECIDOS E AVIAMENTOS  2024NE000031  2024   \n",
       "343                             MOBILIARIO EM GERAL  2023NE002444  2023   \n",
       "344              MATERIAL P/ MANUTENCAO DE VEICULOS  2023NE001603  2023   \n",
       "345              MATERIAL P/ MANUTENCAO DE VEICULOS  2023NE001604  2023   \n",
       "346              MATERIAL P/ MANUTENCAO DE VEICULOS  2023NE001605  2023   \n",
       "347              MATERIAL P/ MANUTENCAO DE VEICULOS  2023NE001764  2023   \n",
       "348   SERV.MEDICO-HOSPITAL.,ODONTOL.E LABORATORIAIS  2023NE000377  2023   \n",
       "349   SERV.MEDICO-HOSPITAL.,ODONTOL.E LABORATORIAIS  2023NE001092  2023   \n",
       "752        COMBUSTIVEIS E LUBRIFICANTES AUTOMOTIVOS  2024NE000522  2024   \n",
       "753                          ALIMENTOS PARA ANIMAIS  2024NE000633  2024   \n",
       "754                          ALIMENTOS PARA ANIMAIS  2024NE000637  2024   \n",
       "755                          ALIMENTOS PARA ANIMAIS  2024NE000233  2024   \n",
       "756                          ALIMENTOS PARA ANIMAIS  2024NE000287  2024   \n",
       "757                          ALIMENTOS PARA ANIMAIS  2024NE000288  2024   \n",
       "758                          ALIMENTOS PARA ANIMAIS  2024NE000290  2024   \n",
       "759                          ALIMENTOS PARA ANIMAIS  2024NE000445  2024   \n",
       "760                          ALIMENTOS PARA ANIMAIS  2024NE000452  2024   \n",
       "761                          ALIMENTOS PARA ANIMAIS  2024NE000634  2024   \n",
       "762                          ALIMENTOS PARA ANIMAIS  2024NE000638  2024   \n",
       "763             GAS E OUTROS MATERIAIS ENGARRAFADOS  2024NE000778  2024   \n",
       "764     MATERIAL DE COUDELARIA OU DE USO ZOOTECNICO  2024NE000281  2024   \n",
       "765     MATERIAL DE COUDELARIA OU DE USO ZOOTECNICO  2024NE000284  2024   \n",
       "766     MATERIAL DE COUDELARIA OU DE USO ZOOTECNICO  2024NE000571  2024   \n",
       "767     MATERIAL DE COUDELARIA OU DE USO ZOOTECNICO  2024NE000779  2024   \n",
       "768     MATERIAIS E MEDICAMENTOS P/ USO VETERINARIO  2024NE000555  2024   \n",
       "769     MATERIAIS E MEDICAMENTOS P/ USO VETERINARIO  2024NE000748  2024   \n",
       "770     MATERIAIS E MEDICAMENTOS P/ USO VETERINARIO  2024NE000764  2024   \n",
       "771                          ALIMENTOS PARA ANIMAIS  2024NE000773  2024   \n",
       "772     MATERIAIS E MEDICAMENTOS P/ USO VETERINARIO  2024NE000275  2024   \n",
       "773     MATERIAIS E MEDICAMENTOS P/ USO VETERINARIO  2024NE000282  2024   \n",
       "774     MATERIAIS E MEDICAMENTOS P/ USO VETERINARIO  2024NE000283  2024   \n",
       "775     MATERIAIS E MEDICAMENTOS P/ USO VETERINARIO  2024NE000311  2024   \n",
       "776     MATERIAIS E MEDICAMENTOS P/ USO VETERINARIO  2024NE000312  2024   \n",
       "777     MATERIAIS E MEDICAMENTOS P/ USO VETERINARIO  2024NE000762  2024   \n",
       "778     MATERIAIS E MEDICAMENTOS P/ USO VETERINARIO  2024NE000763  2024   \n",
       "779                             MATERIAL HOSPITALAR  2024NE000495  2024   \n",
       "780   MATERIAL P/ MANUT.DE BENS IMOVEIS/INSTALACOES  2024NE000761  2024   \n",
       "781   MAQUINAS, UTENSILIOS E EQUIPAMENTOS  DIVERSOS  2024NE000643  2024   \n",
       "782   MAQ., FERRAMENTAS  E  UTENSILIOS  DE  OFICINA  2024NE000771  2024   \n",
       "783   MAQ., FERRAMENTAS  E  UTENSILIOS  DE  OFICINA  2024NE000772  2024   \n",
       "784   MAQ., FERRAMENTAS  E  UTENSILIOS  DE  OFICINA  2024NE000774  2024   \n",
       "785   MAQ., FERRAMENTAS  E  UTENSILIOS  DE  OFICINA  2024NE000775  2024   \n",
       "786   MAQUINAS E EQUIPAMENTOS AGRIC. E  RODOVIARIOS  2024NE000494  2024   \n",
       "787   MAQUINAS E EQUIPAMENTOS AGRIC. E  RODOVIARIOS  2024NE000506  2024   \n",
       "788   MAQUINAS E EQUIPAMENTOS AGRIC. E  RODOVIARIOS  2024NE000642  2024   \n",
       "789   EQUIPAMENTO DE PROTECAO, SEGURANCA E  SOCORRO  2024NE000581  2024   \n",
       "790           MATERIAL P/ MANUTENCAO DE BENS MOVEIS  2024NE000749  2024   \n",
       "791           MATERIAL P/ MANUTENCAO DE BENS MOVEIS  2024NE000750  2024   \n",
       "792           MATERIAL P/ MANUTENCAO DE BENS MOVEIS  2024NE000751  2024   \n",
       "793           MATERIAL P/ MANUTENCAO DE BENS MOVEIS  2024NE000752  2024   \n",
       "794           MATERIAL P/ MANUTENCAO DE BENS MOVEIS  2024NE000753  2024   \n",
       "795           MATERIAL P/ MANUTENCAO DE BENS MOVEIS  2024NE000754  2024   \n",
       "796           MATERIAL P/ MANUTENCAO DE BENS MOVEIS  2024NE000755  2024   \n",
       "797           MATERIAL P/ MANUTENCAO DE BENS MOVEIS  2024NE000756  2024   \n",
       "798           MATERIAL P/ MANUTENCAO DE BENS MOVEIS  2024NE000757  2024   \n",
       "799           MATERIAL P/ MANUTENCAO DE BENS MOVEIS  2024NE000758  2024   \n",
       "800           MATERIAL P/ MANUTENCAO DE BENS MOVEIS  2024NE000759  2024   \n",
       "801           MATERIAL P/ MANUTENCAO DE BENS MOVEIS  2024NE000760  2024   \n",
       "802           MATERIAL P/ MANUTENCAO DE BENS MOVEIS  2024NE000808  2024   \n",
       "803                MATERIAL DE PROTECAO E SEGURANCA  2024NE000530  2024   \n",
       "804                MATERIAL DE PROTECAO E SEGURANCA  2024NE000531  2024   \n",
       "805                MATERIAL DE PROTECAO E SEGURANCA  2024NE000532  2024   \n",
       "806   EQUIPAMENTO DE PROTECAO, SEGURANCA E  SOCORRO  2024NE000534  2024   \n",
       "807   EQUIPAMENTO DE PROTECAO, SEGURANCA E  SOCORRO  2024NE000535  2024   \n",
       "808   EQUIPAMENTO DE PROTECAO, SEGURANCA E  SOCORRO  2024NE000541  2024   \n",
       "809              MATERIAL P/ MANUTENCAO DE VEICULOS  2024NE000730  2024   \n",
       "810                           PASSAGENS PARA O PAIS  2024NE000390  2024   \n",
       "811                           PASSAGENS PARA O PAIS  2024NE000454  2024   \n",
       "812              MATERIAL P/ MANUTENCAO DE VEICULOS  2024NE000269  2024   \n",
       "813              MATERIAL P/ MANUTENCAO DE VEICULOS  2024NE000271  2024   \n",
       "814              MATERIAL P/ MANUTENCAO DE VEICULOS  2024NE000606  2024   \n",
       "815              MATERIAL P/ MANUTENCAO DE VEICULOS  2024NE000747  2024   \n",
       "816               MANUTENCAO E CONSERV. DE VEICULOS  2024NE000605  2024   \n",
       "817              MATERIAL P/ MANUTENCAO DE VEICULOS  2024NE000492  2024   \n",
       "818              MATERIAL P/ MANUTENCAO DE VEICULOS  2024NE000257  2024   \n",
       "819              MATERIAL P/ MANUTENCAO DE VEICULOS  2024NE000262  2024   \n",
       "820              MATERIAL P/ MANUTENCAO DE VEICULOS  2024NE000263  2024   \n",
       "821              MATERIAL P/ MANUTENCAO DE VEICULOS  2024NE000264  2024   \n",
       "822              MATERIAL P/ MANUTENCAO DE VEICULOS  2024NE000265  2024   \n",
       "823              MATERIAL P/ MANUTENCAO DE VEICULOS  2024NE000266  2024   \n",
       "824              MATERIAL P/ MANUTENCAO DE VEICULOS  2024NE000267  2024   \n",
       "825              MATERIAL P/ MANUTENCAO DE VEICULOS  2024NE000268  2024   \n",
       "\n",
       "          DATA                    CHAVE             FAV  \\\n",
       "168 2023-09-13  160129000012023NE001158  19791896006486   \n",
       "169 2023-12-12  160129000012023NE002707  09039582000194   \n",
       "170 2024-02-15  160129000012024NE000072  19791896006486   \n",
       "171 2024-06-13  160129000012024NE000608  19791896011307   \n",
       "172 2024-06-14  160129000012024NE000628  09039582000194   \n",
       "173 2024-06-14  160129000012024NE000630  19791896011307   \n",
       "174 2023-06-19  160129000012023NE000673  47043589000179   \n",
       "175 2023-06-20  160129000012023NE000698  37748531000177   \n",
       "176 2023-06-21  160129000012023NE000715  20702528000110   \n",
       "177 2023-09-13  160129000012023NE001154  33180160000119   \n",
       "178 2023-09-13  160129000012023NE001155  71001465000105   \n",
       "179 2024-02-15  160129000012024NE000073  47043589000179   \n",
       "180 2024-02-19  160129000012024NE000100  71001465000105   \n",
       "181 2024-02-19  160129000012024NE000101  47078180000198   \n",
       "182 2024-02-19  160129000012024NE000103  14163479000191   \n",
       "183 2024-02-19  160129000012024NE000104  41471161000140   \n",
       "184 2024-02-19  160129000012024NE000105  48087032000100   \n",
       "185 2024-02-19  160129000012024NE000106  35307908000127   \n",
       "186 2024-02-19  160129000012024NE000107  20942789000107   \n",
       "187 2024-02-19  160129000012024NE000108  20702528000110   \n",
       "188 2024-02-19  160129000012024NE000109  48085103000128   \n",
       "189 2024-02-19  160129000012024NE000110  10653955000100   \n",
       "190 2024-02-19  160129000012024NE000111  20421805000116   \n",
       "191 2024-03-13  160129000012024NE000259  47078180000198   \n",
       "192 2024-06-13  160129000012024NE000609  71001465000105   \n",
       "193 2024-06-13  160129000012024NE000610  71001465000105   \n",
       "194 2024-06-13  160129000012024NE000611  47348831000112   \n",
       "195 2024-06-13  160129000012024NE000612  47078180000198   \n",
       "196 2024-06-13  160129000012024NE000613  20702528000110   \n",
       "197 2024-06-13  160129000012024NE000614  18472579000150   \n",
       "198 2024-06-13  160129000012024NE000615  09294294000186   \n",
       "199 2024-06-13  160129000012024NE000616  20942789000107   \n",
       "200 2024-06-14  160129000012024NE000621  47078180000198   \n",
       "201 2024-06-14  160129000012024NE000622  29455568000189   \n",
       "202 2024-06-14  160129000012024NE000623  48087032000100   \n",
       "203 2024-06-14  160129000012024NE000624  71001465000105   \n",
       "204 2024-06-14  160129000012024NE000626  20702528000110   \n",
       "205 2024-06-14  160129000012024NE000627  48085103000128   \n",
       "206 2024-06-19  160129000012024NE000649  20942789000107   \n",
       "207 2024-06-19  160129000012024NE000651  37421415000149   \n",
       "208 2024-06-19  160129000012024NE000653  09294294000186   \n",
       "209 2024-06-19  160129000012024NE000701  20702528000110   \n",
       "210 2024-06-19  160129000012024NE000705  47078180000198   \n",
       "211 2024-06-27  160129000012024NE000765  47078180000198   \n",
       "212 2024-06-27  160129000012024NE000767  20702528000110   \n",
       "213 2024-06-27  160129000012024NE000768  09294294000186   \n",
       "214 2024-06-27  160129000012024NE000769  20942789000107   \n",
       "215 2024-06-27  160129000012024NE000770  18472579000150   \n",
       "216 2024-02-19  160129000012024NE000094  47078180000198   \n",
       "217 2024-02-19  160129000012024NE000095  20702528000110   \n",
       "218 2024-02-19  160129000012024NE000097  20942789000107   \n",
       "219 2024-02-19  160129000012024NE000098  48085103000128   \n",
       "220 2024-03-18  160129000012024NE000285  71001465000105   \n",
       "221 2024-05-06  160129000012024NE000464  20702528000110   \n",
       "222 2024-02-27  160129000012024NE000145  05291541000130   \n",
       "223 2024-02-27  160129000012024NE000146  06910908000119   \n",
       "224 2024-02-27  160129000012024NE000166  21348054000112   \n",
       "225 2024-02-27  160129000012024NE000168  16914559000167   \n",
       "226 2024-05-24  160129000012024NE000516  01255291000121   \n",
       "227 2023-12-20  160129000012023NE002719  06910908000119   \n",
       "228 2023-12-20  160129000012023NE002720  15407876000124   \n",
       "229 2023-12-20  160129000012023NE002721  65353401000170   \n",
       "230 2024-02-27  160129000012024NE000152  11186469000183   \n",
       "231 2024-02-27  160129000012024NE000153  07665456000110   \n",
       "232 2024-02-27  160129000012024NE000154  31206933000163   \n",
       "233 2024-02-27  160129000012024NE000155  06910908000119   \n",
       "234 2024-02-27  160129000012024NE000157  65353401000170   \n",
       "235 2024-02-27  160129000012024NE000159  10614788000180   \n",
       "236 2024-02-27  160129000012024NE000160  47170510000170   \n",
       "237 2024-02-27  160129000012024NE000161  35411786000114   \n",
       "238 2024-02-27  160129000012024NE000162  15407876000124   \n",
       "239 2024-02-27  160129000012024NE000163  48371796000115   \n",
       "240 2024-02-27  160129000012024NE000164  07259386000108   \n",
       "241 2024-05-24  160129000012024NE000516  01255291000121   \n",
       "242 2024-05-24  160129000012024NE000517  43029546000188   \n",
       "243 2024-05-24  160129000012024NE000518  22327937000109   \n",
       "244 2024-05-24  160129000012024NE000519  40225662000184   \n",
       "245 2024-05-24  160129000012024NE000520  41948062000107   \n",
       "246 2024-02-26  160129000012024NE000125  31206933000163   \n",
       "247 2024-02-26  160129000012024NE000126  46970951000194   \n",
       "248 2024-02-26  160129000012024NE000127  31669124000198   \n",
       "249 2024-02-26  160129000012024NE000130  40224243000128   \n",
       "250 2024-02-27  160129000012024NE000143  29926189000120   \n",
       "251 2024-02-26  160129000012024NE000129  08194579000182   \n",
       "252 2024-06-03  160129000012024NE000572  43337798000174   \n",
       "253 2024-06-03  160129000012024NE000574  48489837000172   \n",
       "254 2024-02-26  160129000012024NE000131  79984357000101   \n",
       "255 2024-02-26  160129000012024NE000132  08532500000186   \n",
       "256 2024-02-26  160129000012024NE000133  14203779000157   \n",
       "257 2024-05-29  160129000012024NE000561  24390855000134   \n",
       "258 2024-06-03  160129000012024NE000577  79984357000101   \n",
       "259 2024-02-19  160129000012024NE000087  47078180000198   \n",
       "260 2024-02-19  160129000012024NE000088  20702528000110   \n",
       "261 2024-02-19  160129000012024NE000089  29455568000189   \n",
       "262 2024-02-19  160129000012024NE000090  41471161000140   \n",
       "263 2024-02-19  160129000012024NE000091  48087032000100   \n",
       "264 2024-02-19  160129000012024NE000092  20942789000107   \n",
       "265 2024-02-19  160129000012024NE000093  48085103000128   \n",
       "266 2024-06-14  160129000012024NE000625  20942789000107   \n",
       "267 2024-06-19  160129000012024NE000650  18472579000150   \n",
       "268 2024-06-19  160129000012024NE000652  09294294000186   \n",
       "270 2024-06-10  160129000012024NE000587  08538090000180   \n",
       "271 2024-03-05  160129000012024NE000232  02338743000100   \n",
       "272 2024-01-31  160129000012024NE000027  02235079000165   \n",
       "273 2024-01-31  160129000012024NE000028  01342660000113   \n",
       "274 2024-01-31  160129000012024NE000029  19037262000159   \n",
       "275 2024-01-31  160129000012024NE000030  30775478000154   \n",
       "276 2024-05-27  160129000012024NE000540  51523859000116   \n",
       "277 2024-01-31  160129000012024NE000031  35594518000185   \n",
       "343 2023-11-29  160129000012023NE002444  22252006000199   \n",
       "344 2023-11-21  160129000012023NE001603  06307463000187   \n",
       "345 2023-11-21  160129000012023NE001604  58512096000157   \n",
       "346 2023-11-21  160129000012023NE001605  24377448000197   \n",
       "347 2023-11-22  160129000012023NE001764  58512096000157   \n",
       "348 2023-04-14  160129000012023NE000377  08593332000139   \n",
       "349 2023-08-31  160129000012023NE001092  08593332000139   \n",
       "752 2024-05-27  160129000012024NE000522  15153524000190   \n",
       "753 2024-06-17  160129000012024NE000633  03333999000189   \n",
       "754 2024-06-17  160129000012024NE000637  03333999000189   \n",
       "755 2024-03-06  160129000012024NE000233  19933130000105   \n",
       "756 2024-03-19  160129000012024NE000287  31682616000113   \n",
       "757 2024-03-19  160129000012024NE000288  44429540000160   \n",
       "758 2024-03-19  160129000012024NE000290  44429540000160   \n",
       "759 2024-04-25  160129000012024NE000445  14155601000188   \n",
       "760 2024-04-30  160129000012024NE000452  03333999000189   \n",
       "761 2024-06-17  160129000012024NE000634  14155601000188   \n",
       "762 2024-06-17  160129000012024NE000638  14155601000188   \n",
       "763 2024-06-28  160129000012024NE000778  09039582000194   \n",
       "764 2024-03-15  160129000012024NE000281  39560888000152   \n",
       "765 2024-03-18  160129000012024NE000284  02829044000154   \n",
       "766 2024-05-29  160129000012024NE000571  45793555000176   \n",
       "767 2024-06-28  160129000012024NE000779  39560888000152   \n",
       "768 2024-05-28  160129000012024NE000555  13232701000106   \n",
       "769 2024-06-26  160129000012024NE000748  46339373000192   \n",
       "770 2024-06-27  160129000012024NE000764  04576614000177   \n",
       "771 2024-06-28  160129000012024NE000773  49542190000168   \n",
       "772 2024-03-15  160129000012024NE000275  03541496000107   \n",
       "773 2024-03-15  160129000012024NE000282  49542190000168   \n",
       "774 2024-03-18  160129000012024NE000283  49542190000168   \n",
       "775 2024-03-20  160129000012024NE000311  49542190000168   \n",
       "776 2024-03-20  160129000012024NE000312  10732150000143   \n",
       "777 2024-06-27  160129000012024NE000762  45793555000176   \n",
       "778 2024-06-27  160129000012024NE000763  49542190000168   \n",
       "779 2024-05-09  160129000012024NE000495  46440212000190   \n",
       "780 2024-06-26  160129000012024NE000761  15658667000153   \n",
       "781 2024-06-17  160129000012024NE000643  46344050000197   \n",
       "782 2024-06-28  160129000012024NE000771  14968227000130   \n",
       "783 2024-06-28  160129000012024NE000772  44258379000100   \n",
       "784 2024-06-28  160129000012024NE000774  04541813000140   \n",
       "785 2024-06-28  160129000012024NE000775  44258379000100   \n",
       "786 2024-05-09  160129000012024NE000494  15153524000190   \n",
       "787 2024-05-16  160129000012024NE000506  15153524000190   \n",
       "788 2024-06-17  160129000012024NE000642  36181473000180   \n",
       "789 2024-06-05  160129000012024NE000581  50365029000145   \n",
       "790 2024-06-26  160129000012024NE000749  05019519000135   \n",
       "791 2024-06-26  160129000012024NE000750  05019519000135   \n",
       "792 2024-06-26  160129000012024NE000751  18047657000170   \n",
       "793 2024-06-26  160129000012024NE000752  09450715000110   \n",
       "794 2024-06-26  160129000012024NE000753  20971821000182   \n",
       "795 2024-06-26  160129000012024NE000754  47208666000101   \n",
       "796 2024-06-26  160129000012024NE000755  37093491000172   \n",
       "797 2024-06-26  160129000012024NE000756  45167065000164   \n",
       "798 2024-06-26  160129000012024NE000757  08945027000169   \n",
       "799 2024-06-26  160129000012024NE000758  08666165000109   \n",
       "800 2024-06-26  160129000012024NE000759  32846158000173   \n",
       "801 2024-06-26  160129000012024NE000760  23614351000198   \n",
       "802 2024-07-02  160129000012024NE000808  20971821000182   \n",
       "803 2024-05-27  160129000012024NE000530  29309583000119   \n",
       "804 2024-05-27  160129000012024NE000531  01359742000170   \n",
       "805 2024-05-27  160129000012024NE000532  06016341000131   \n",
       "806 2024-05-27  160129000012024NE000534  50116864000141   \n",
       "807 2024-05-27  160129000012024NE000535  01359742000170   \n",
       "808 2024-05-27  160129000012024NE000541  01359742000170   \n",
       "809 2024-06-25  160129000012024NE000730  36519422000115   \n",
       "810 2024-04-17  160129000012024NE000390  21331404000138   \n",
       "811 2024-05-02  160129000012024NE000454  14807420000199   \n",
       "812 2024-03-15  160129000012024NE000269  36519422000115   \n",
       "813 2024-03-15  160129000012024NE000271  33739848000196   \n",
       "814 2024-06-12  160129000012024NE000606  58512096000157   \n",
       "815 2024-06-26  160129000012024NE000747  58512096000157   \n",
       "816 2024-06-12  160129000012024NE000605  58512096000157   \n",
       "817 2024-05-09  160129000012024NE000492  58512096000157   \n",
       "818 2024-03-12  160129000012024NE000257  08907476000112   \n",
       "819 2024-03-15  160129000012024NE000262  58512096000157   \n",
       "820 2024-03-15  160129000012024NE000263  08907476000112   \n",
       "821 2024-03-15  160129000012024NE000264  19116488000145   \n",
       "822 2024-03-15  160129000012024NE000265  06307463000187   \n",
       "823 2024-03-15  160129000012024NE000266  08907476000112   \n",
       "824 2024-03-15  160129000012024NE000267  24377448000197   \n",
       "825 2024-03-15  160129000012024NE000268  06307463000187   \n",
       "\n",
       "                                           NOME_CREDOR UF_FAV  TIPO  DIAS  \\\n",
       "168                          SUPERGASBRAS ENERGIA LTDA     SP  RPNP   296   \n",
       "169         HELIO DE SOUZA JUNIOR - CPF 037.031.976-17     MG  RPNP   206   \n",
       "170                          SUPERGASBRAS ENERGIA LTDA     SP   ANO   141   \n",
       "171                          SUPERGASBRAS ENERGIA LTDA     MG   ANO    22   \n",
       "172         HELIO DE SOUZA JUNIOR - CPF 037.031.976-17     MG   ANO    21   \n",
       "173                          SUPERGASBRAS ENERGIA LTDA     MG   ANO    21   \n",
       "174  ASSOCIACAO DOS AGRICULTORES DE TRES CORACOES -...     MG  RPNP   382   \n",
       "175                              RAFAEL SOARES AZEVEDO     MG  RPNP   381   \n",
       "176                              SUPERMERCADO BIE LTDA     MG  RPNP   380   \n",
       "177  JP COMERCIO DE PRODUTOS ALIMENTICIOS E SERVICO...     MG  RPNP   296   \n",
       "178  MARIELE SERVICOS, INDUSTRIA E COMERCIO DE PROD...     MG  RPNP   296   \n",
       "179  ASSOCIACAO DOS AGRICULTORES DE TRES CORACOES -...     MG   ANO   141   \n",
       "180  MARIELE SERVICOS, INDUSTRIA E COMERCIO DE PROD...     MG   ANO   137   \n",
       "181                   AF DISTRIBUIDORA E SERVICOS LTDA     MG   ANO   137   \n",
       "182          EXITUS COMERCIAL PRODUTOS E SERVICOS LTDA     SP   ANO   137   \n",
       "183                                 GBV ALIMENTOS LTDA     SP   ANO   137   \n",
       "184      MANANCIAL MINAS DISTRIBUIDORA DE BEBIDAS LTDA     MG   ANO   137   \n",
       "185              NUTRISABOR COMERCIO DE ALIMENTOS LTDA     PR   ANO   137   \n",
       "186                               SUKOI ALIMENTOS LTDA     MG   ANO   137   \n",
       "187                              SUPERMERCADO BIE LTDA     MG   ANO   137   \n",
       "188                             VSR DISTRIBUIDORA LTDA     MG   ANO   137   \n",
       "189                             I&P AGROCOMERCIAL LTDA     MG   ANO   137   \n",
       "190                   SUPERMERCADO REI DAS CARNES LTDA     MG   ANO   137   \n",
       "191                   AF DISTRIBUIDORA E SERVICOS LTDA     MG   ANO   114   \n",
       "192  MARIELE SERVICOS, INDUSTRIA E COMERCIO DE PROD...     MG   ANO    22   \n",
       "193  MARIELE SERVICOS, INDUSTRIA E COMERCIO DE PROD...     MG   ANO    22   \n",
       "194    DIEGO GRACIA DA SILVA HORTIFRUTIGRANJEIROS LTDA     SP   ANO    22   \n",
       "195                   AF DISTRIBUIDORA E SERVICOS LTDA     MG   ANO    22   \n",
       "196                              SUPERMERCADO BIE LTDA     MG   ANO    22   \n",
       "197                COMSABOR COMERCIO DE ALIMENTOS LTDA     PR   ANO    22   \n",
       "198                              PROVER ALIMENTOS LTDA     MG   ANO    22   \n",
       "199                               SUKOI ALIMENTOS LTDA     MG   ANO    22   \n",
       "200                   AF DISTRIBUIDORA E SERVICOS LTDA     MG   ANO    21   \n",
       "201                             DISTRIBUIDORA VIB LTDA     MG   ANO    21   \n",
       "202      MANANCIAL MINAS DISTRIBUIDORA DE BEBIDAS LTDA     MG   ANO    21   \n",
       "203  MARIELE SERVICOS, INDUSTRIA E COMERCIO DE PROD...     MG   ANO    21   \n",
       "204                              SUPERMERCADO BIE LTDA     MG   ANO    21   \n",
       "205                             VSR DISTRIBUIDORA LTDA     MG   ANO    21   \n",
       "206                               SUKOI ALIMENTOS LTDA     MG   ANO    16   \n",
       "207                      ITAMAR ROBINSON CECCON JUNIOR     RS   ANO    16   \n",
       "208                              PROVER ALIMENTOS LTDA     MG   ANO    16   \n",
       "209                              SUPERMERCADO BIE LTDA     MG   ANO    16   \n",
       "210                   AF DISTRIBUIDORA E SERVICOS LTDA     MG   ANO    16   \n",
       "211                   AF DISTRIBUIDORA E SERVICOS LTDA     MG   ANO     8   \n",
       "212                              SUPERMERCADO BIE LTDA     MG   ANO     8   \n",
       "213                              PROVER ALIMENTOS LTDA     MG   ANO     8   \n",
       "214                               SUKOI ALIMENTOS LTDA     MG   ANO     8   \n",
       "215                COMSABOR COMERCIO DE ALIMENTOS LTDA     PR   ANO     8   \n",
       "216                   AF DISTRIBUIDORA E SERVICOS LTDA     MG   ANO   137   \n",
       "217                              SUPERMERCADO BIE LTDA     MG   ANO   137   \n",
       "218                               SUKOI ALIMENTOS LTDA     MG   ANO   137   \n",
       "219                             VSR DISTRIBUIDORA LTDA     MG   ANO   137   \n",
       "220  MARIELE SERVICOS, INDUSTRIA E COMERCIO DE PROD...     MG   ANO   109   \n",
       "221                              SUPERMERCADO BIE LTDA     MG   ANO    60   \n",
       "222                        TY BORTHOLIN COMERCIAL LTDA     SP   ANO   129   \n",
       "223                         J BRILHANTE COMERCIAL LTDA     SP   ANO   129   \n",
       "224                                ROMA COMERCIAL LTDA     PR   ANO   129   \n",
       "225  G PLASTICOS COMERCIO VAREJISTA E ATACADISTA DE...     RS   ANO   129   \n",
       "226                             H.A DISTRIBUIDORA LTDA     MG   ANO    42   \n",
       "227                         J BRILHANTE COMERCIAL LTDA     SP  RPNP   198   \n",
       "228                     ALEXANDRE H M CHAMONE COMERCIO     MG  RPNP   198   \n",
       "229                               COMERCIAL VENER LTDA     MG  RPNP   198   \n",
       "230                     SANTANA WERNECK COMERCIAL LTDA     MG   ANO   129   \n",
       "231     SANTANA COMERCIO DE UTILIDADES DOMESTICAS LTDA     MG   ANO   129   \n",
       "232                               INOVARE GOURMET LTDA     RJ   ANO   129   \n",
       "233                         J BRILHANTE COMERCIAL LTDA     SP   ANO   129   \n",
       "234                               COMERCIAL VENER LTDA     MG   ANO   129   \n",
       "235                     SJ COMERCIO DE UTILIDADES LTDA     MG   ANO   129   \n",
       "236  NOVA MESA COMERCIO DE UTILIDADES E ALIMENTOS LTDA     CE   ANO   129   \n",
       "237                        CASA DE PESCA SOLIMOES LTDA     MG   ANO   129   \n",
       "238                     ALEXANDRE H M CHAMONE COMERCIO     MG   ANO   129   \n",
       "239                          P H MENESES COMERCIO LTDA     GO   ANO   129   \n",
       "240                               FARED COMERCIAL LTDA     PR   ANO   129   \n",
       "241                             H.A DISTRIBUIDORA LTDA     MG   ANO    42   \n",
       "242                                  INB COMERCIO LTDA     MG   ANO    42   \n",
       "243                             BEATRIZ BRUST DE SOUZA     SP   ANO    42   \n",
       "244                                     MBM STORE LTDA     PR   ANO    42   \n",
       "245                           GRANETTO EMBALAGENS LTDA     PR   ANO    42   \n",
       "246                               INOVARE GOURMET LTDA     RJ   ANO   130   \n",
       "247    MALU COMERCIO VAREJISTA DE MERCADORIAS EM GERAL     MG   ANO   130   \n",
       "248                               LS REFRIGERACAO LTDA     SC   ANO   130   \n",
       "249  BACKUP MANUTENCAO E DISTRIBUICAO DE PRODUTOS D...     MG   ANO   130   \n",
       "250      SIS COMERCIO DE MATERIAIS E EQUIPAMENTOS LTDA     SC   ANO   129   \n",
       "251                            LEANDRO LUIZ LEAL SILVA     MG   ANO   130   \n",
       "252            CHC ORGANIZACAO COMERCIO E SERVICO LTDA     RS   ANO    32   \n",
       "253                                 JB LICITACOES LTDA     SC   ANO    32   \n",
       "254  ARTFRIO INDUSTRIA E COMERCIO DE MOVEIS, ESQUAD...     PR   ANO   130   \n",
       "255                   GERACAO COMERCIO E SERVICOS LTDA     ES   ANO   130   \n",
       "256           ESTOQUE LOCAL COMERCIO DE MATERIAIS LTDA     RJ   ANO   130   \n",
       "257                 REVINOX COMERCIO E INSTALACAO LTDA     SP   ANO    37   \n",
       "258  ARTFRIO INDUSTRIA E COMERCIO DE MOVEIS, ESQUAD...     PR   ANO    32   \n",
       "259                   AF DISTRIBUIDORA E SERVICOS LTDA     MG   ANO   137   \n",
       "260                              SUPERMERCADO BIE LTDA     MG   ANO   137   \n",
       "261                             DISTRIBUIDORA VIB LTDA     MG   ANO   137   \n",
       "262                                 GBV ALIMENTOS LTDA     SP   ANO   137   \n",
       "263      MANANCIAL MINAS DISTRIBUIDORA DE BEBIDAS LTDA     MG   ANO   137   \n",
       "264                               SUKOI ALIMENTOS LTDA     MG   ANO   137   \n",
       "265                             VSR DISTRIBUIDORA LTDA     MG   ANO   137   \n",
       "266                               SUKOI ALIMENTOS LTDA     MG   ANO    21   \n",
       "267                COMSABOR COMERCIO DE ALIMENTOS LTDA     PR   ANO    16   \n",
       "268                              PROVER ALIMENTOS LTDA     MG   ANO    16   \n",
       "270               RODISTON CORREIA DE SOUZA & CIA LTDA     GO   ANO    25   \n",
       "271                                      BAT BOOT LTDA     MG   ANO   122   \n",
       "272                 ALFAIATARIA SAO LUCAS DO GESA LTDA     RJ   ANO   156   \n",
       "273                 LIMA DIAS ROUPAS E ACESSORIOS LTDA     DF   ANO   156   \n",
       "274                 ORMITAL COMERCIO E SERVICOS . LTDA     RJ   ANO   156   \n",
       "275               AKILA PRIME COMERCIO E SERVICOS LTDA     RJ   ANO   156   \n",
       "276         51.523.859 JULIA ISABELLY DE SOUZA MARQUES     DF   ANO    39   \n",
       "277                                 MRV COMERCIAL LTDA     MG   ANO   156   \n",
       "343        ZEFERINA PAULINA AMALIA MULLER SCHERER LTDA     RS  RPNP   219   \n",
       "344           GUSMAO E SILVA AUTOPECAS E SERVICOS LTDA     RJ  RPNP   227   \n",
       "345      TRATORTEC PECAS E SERVICOS PARA TRATORES LTDA     SP  RPNP   227   \n",
       "346         UNITY COMERCIO E SERVICOS AUTOMOTIVOS LTDA     DF  RPNP   227   \n",
       "347      TRATORTEC PECAS E SERVICOS PARA TRATORES LTDA     SP  RPNP   226   \n",
       "348                 EQUALLI SERVICOS VETERINARIOS LTDA     SP  RPNP   448   \n",
       "349                 EQUALLI SERVICOS VETERINARIOS LTDA     SP  RPNP   309   \n",
       "752                                      SANIGRAN LTDA     PR   ANO    39   \n",
       "753                               CESAR AUGUSTO KIEKOW     RS   ANO    18   \n",
       "754                               CESAR AUGUSTO KIEKOW     RS   ANO    18   \n",
       "755                      PEJOTA  PET SAUDE ANIMAL LTDA     SP   ANO   121   \n",
       "756      CFJ COMERCIAL AGROPECUARIO E TRANSPORTES LTDA     RS   ANO   108   \n",
       "757                  DISTRIBUIDORA ESPIRITO SANTO LTDA     ES   ANO   108   \n",
       "758                  DISTRIBUIDORA ESPIRITO SANTO LTDA     ES   ANO   108   \n",
       "759                  BARROS COMERCIO DE ALIMENTOS LTDA     SP   ANO    71   \n",
       "760                               CESAR AUGUSTO KIEKOW     RS   ANO    66   \n",
       "761                  BARROS COMERCIO DE ALIMENTOS LTDA     SP   ANO    18   \n",
       "762                  BARROS COMERCIO DE ALIMENTOS LTDA     SP   ANO    18   \n",
       "763         HELIO DE SOUZA JUNIOR - CPF 037.031.976-17     MG   ANO     7   \n",
       "764                   GRAZIELLA MARIA TAVARES DA SILVA     GO   ANO   112   \n",
       "765  SELARIA BARBEDO COMERCIO DE MATERIAIS PARA MON...     RJ   ANO   109   \n",
       "766                     45.793.555 LOUI TARANTO COLACO     RJ   ANO    37   \n",
       "767                   GRAZIELLA MARIA TAVARES DA SILVA     GO   ANO     7   \n",
       "768          BR COMERCIO DE PRODUTOS VETERINARIOS LTDA     SP   ANO    38   \n",
       "769                         ALC MORAES COMERCIAL LTDA.     SP   ANO     9   \n",
       "770                                   M A M VIDAL LTDA     RJ   ANO     8   \n",
       "771  LICITAPHARMA DISTRIBUIDORA DE PRODUTOS VETERIN...     SP   ANO     7   \n",
       "772  CESAR & ROCHA COMERCIO DE PRODUTOS AGROPECUARI...     SP   ANO   112   \n",
       "773  LICITAPHARMA DISTRIBUIDORA DE PRODUTOS VETERIN...     SP   ANO   112   \n",
       "774  LICITAPHARMA DISTRIBUIDORA DE PRODUTOS VETERIN...     SP   ANO   109   \n",
       "775  LICITAPHARMA DISTRIBUIDORA DE PRODUTOS VETERIN...     SP   ANO   107   \n",
       "776                               COMERCIAL CEDRO LTDA     RJ   ANO   107   \n",
       "777                     45.793.555 LOUI TARANTO COLACO     RJ   ANO     8   \n",
       "778  LICITAPHARMA DISTRIBUIDORA DE PRODUTOS VETERIN...     SP   ANO     8   \n",
       "779                            BRAXTER HOSPITALAR LTDA     RJ   ANO    57   \n",
       "780           REAL CENTER MATERIAIS DE CONSTRUCAO LTDA     RJ   ANO     9   \n",
       "781                         SUL AGUA EQUIPAMENTOS LTDA     SC   ANO    18   \n",
       "782                             FERGAVI COMERCIAL LTDA     SP   ANO     7   \n",
       "783          LANCA PRODUTOS - COMERCIO E SERVICOS LTDA     PR   ANO     7   \n",
       "784  MB MARTINS SERVICOS, PRODUTOS E EQUIPAMENTOS LTDA     RJ   ANO     7   \n",
       "785          LANCA PRODUTOS - COMERCIO E SERVICOS LTDA     PR   ANO     7   \n",
       "786                                      SANIGRAN LTDA     PR   ANO    57   \n",
       "787                                      SANIGRAN LTDA     PR   ANO    50   \n",
       "788                             BIDDEN COMERCIAL LTDA.     PR   ANO    18   \n",
       "789                              COMERCIAL DADIVA LTDA     MG   ANO    30   \n",
       "790                            A.R.T.E. COMERCIAL LTDA     SP   ANO     9   \n",
       "791                            A.R.T.E. COMERCIAL LTDA     SP   ANO     9   \n",
       "792       ALESSANDRA B. TONIETTI INSTRUMENTOS MUSICAIS     SP   ANO     9   \n",
       "793  CLAVES E NOTAS COMERCIO DE INSTRUMENTOS MUSICA...     SC   ANO     9   \n",
       "794                             ESTACAO DA MUSICA LTDA     MG   ANO     9   \n",
       "795                         LICITEC DISTRIBUIDORA LTDA     MG   ANO     9   \n",
       "796           MR CUNHA COMERCIO E VAREJO EM GERAL LTDA     PR   ANO     9   \n",
       "797               NUBIA CARLOS COSTA SILVA 95205829672     MG   ANO     9   \n",
       "798                                  PEDRO G.FERNANDES     SP   ANO     9   \n",
       "799                T. M. T. INSTRUMENTOS MUSICAIS LTDA     PR   ANO     9   \n",
       "800                       TEC SERV EMPRENDIMENTOS LTDA     AP   ANO     9   \n",
       "801           VIA SINFONICA INSTRUMENTOS MUSICAIS LTDA     SP   ANO     9   \n",
       "802                             ESTACAO DA MUSICA LTDA     MG   ANO     3   \n",
       "803                                 R.P FERRAGENS LTDA     RS   ANO    39   \n",
       "804                               M. ARNAUD & CIA LTDA     SP   ANO    39   \n",
       "805  SEGLINE DISTRIBUIDORA E IMPORTADORA DE EQUIPAM...     PR   ANO    39   \n",
       "806                  TLS EQUIPAMENTOS DE PROTECAO LTDA     PR   ANO    39   \n",
       "807                               M. ARNAUD & CIA LTDA     SP   ANO    39   \n",
       "808                               M. ARNAUD & CIA LTDA     SP   ANO    39   \n",
       "809                            ON-HIGHWAY BRASIL LTDA.     MG   ANO    10   \n",
       "810                     ORLEANS VIAGENS E TURISMO LTDA     SP   ANO    79   \n",
       "811                                FACTO TURISMO  LTDA     SP   ANO    64   \n",
       "812                            ON-HIGHWAY BRASIL LTDA.     MG   ANO   112   \n",
       "813  UNIVERSAL IMPORTACAO EXPORTACAO E COMERCIO LIM...     RJ   ANO   112   \n",
       "814      TRATORTEC PECAS E SERVICOS PARA TRATORES LTDA     SP   ANO    23   \n",
       "815      TRATORTEC PECAS E SERVICOS PARA TRATORES LTDA     SP   ANO     9   \n",
       "816      TRATORTEC PECAS E SERVICOS PARA TRATORES LTDA     SP   ANO    23   \n",
       "817      TRATORTEC PECAS E SERVICOS PARA TRATORES LTDA     SP   ANO    57   \n",
       "818       AUTO PECAS E SERVICOS MECANICOS PLAYCAR LTDA     DF   ANO   115   \n",
       "819      TRATORTEC PECAS E SERVICOS PARA TRATORES LTDA     SP   ANO   112   \n",
       "820       AUTO PECAS E SERVICOS MECANICOS PLAYCAR LTDA     DF   ANO   112   \n",
       "821            PARTS LUB DISTRIBUIDORA E SERVICOS LTDA     SP   ANO   112   \n",
       "822           GUSMAO E SILVA AUTOPECAS E SERVICOS LTDA     RJ   ANO   112   \n",
       "823       AUTO PECAS E SERVICOS MECANICOS PLAYCAR LTDA     DF   ANO   112   \n",
       "824         UNITY COMERCIO E SERVICOS AUTOMOTIVOS LTDA     DF   ANO   112   \n",
       "825           GUSMAO E SILVA AUTOPECAS E SERVICOS LTDA     RJ   ANO   112   \n",
       "\n",
       "    UF_UG       FONTE                MOD_LIC     TIPO_NE RP  \\\n",
       "168    MG  1000000000                 PREGAO  ESTIMATIVO  1   \n",
       "169    MG  1000000000  DISPENSA DE LICITACAO      GLOBAL  1   \n",
       "170    MG  1000000000                 PREGAO  ESTIMATIVO  1   \n",
       "171    MG  1000000000                 PREGAO  ESTIMATIVO  1   \n",
       "172    MG  1000000000                 PREGAO      GLOBAL  1   \n",
       "173    MG  1000000000                 PREGAO  ESTIMATIVO  1   \n",
       "174    MG  1000000000  DISPENSA DE LICITACAO      GLOBAL  1   \n",
       "175    MG  1000000000                 PREGAO      GLOBAL  1   \n",
       "176    MG  1000000000                 PREGAO      GLOBAL  1   \n",
       "177    MG  1000000000                 PREGAO      GLOBAL  1   \n",
       "178    MG  1000000000                 PREGAO      GLOBAL  1   \n",
       "179    MG  1000000000  DISPENSA DE LICITACAO      GLOBAL  1   \n",
       "180    MG  1000000000                 PREGAO      GLOBAL  1   \n",
       "181    MG  1000000000                 PREGAO      GLOBAL  1   \n",
       "182    MG  1000000000                 PREGAO      GLOBAL  1   \n",
       "183    MG  1000000000                 PREGAO      GLOBAL  1   \n",
       "184    MG  1000000000                 PREGAO      GLOBAL  1   \n",
       "185    MG  1000000000                 PREGAO      GLOBAL  1   \n",
       "186    MG  1000000000                 PREGAO      GLOBAL  1   \n",
       "187    MG  1000000000                 PREGAO      GLOBAL  1   \n",
       "188    MG  1000000000                 PREGAO      GLOBAL  1   \n",
       "189    MG  1000000000                 PREGAO      GLOBAL  1   \n",
       "190    MG  1000000000                 PREGAO      GLOBAL  1   \n",
       "191    MG  1000000000                 PREGAO      GLOBAL  1   \n",
       "192    MG  1000000000                 PREGAO      GLOBAL  1   \n",
       "193    MG  1000000000                 PREGAO      GLOBAL  1   \n",
       "194    MG  1000000000                 PREGAO      GLOBAL  1   \n",
       "195    MG  1000000000                 PREGAO      GLOBAL  1   \n",
       "196    MG  1000000000                 PREGAO      GLOBAL  1   \n",
       "197    MG  1000000000                 PREGAO      GLOBAL  1   \n",
       "198    MG  1000000000                 PREGAO      GLOBAL  1   \n",
       "199    MG  1000000000                 PREGAO      GLOBAL  1   \n",
       "200    MG  1000000000                 PREGAO      GLOBAL  1   \n",
       "201    MG  1000000000                 PREGAO      GLOBAL  1   \n",
       "202    MG  1000000000                 PREGAO      GLOBAL  1   \n",
       "203    MG  1000000000                 PREGAO      GLOBAL  1   \n",
       "204    MG  1000000000                 PREGAO      GLOBAL  1   \n",
       "205    MG  1000000000                 PREGAO      GLOBAL  1   \n",
       "206    MG  1000000000                 PREGAO      GLOBAL  1   \n",
       "207    MG  1000000000                 PREGAO      GLOBAL  1   \n",
       "208    MG  1000000000                 PREGAO      GLOBAL  1   \n",
       "209    MG  1000000000                 PREGAO      GLOBAL  1   \n",
       "210    MG  1000000000                 PREGAO      GLOBAL  1   \n",
       "211    MG  1000000000                 PREGAO      GLOBAL  1   \n",
       "212    MG  1000000000                 PREGAO      GLOBAL  1   \n",
       "213    MG  1000000000                 PREGAO      GLOBAL  1   \n",
       "214    MG  1000000000                 PREGAO      GLOBAL  1   \n",
       "215    MG  1000000000                 PREGAO      GLOBAL  1   \n",
       "216    MG  1000000000                 PREGAO      GLOBAL  1   \n",
       "217    MG  1000000000                 PREGAO      GLOBAL  1   \n",
       "218    MG  1000000000                 PREGAO      GLOBAL  1   \n",
       "219    MG  1000000000                 PREGAO      GLOBAL  1   \n",
       "220    MG  1000000000                 PREGAO      GLOBAL  1   \n",
       "221    MG  1000000000                 PREGAO      GLOBAL  1   \n",
       "222    MG  1000000000                 PREGAO   ORDINARIO  1   \n",
       "223    MG  1000000000                 PREGAO   ORDINARIO  1   \n",
       "224    MG  1000000000                 PREGAO   ORDINARIO  1   \n",
       "225    MG  1000000000                 PREGAO   ORDINARIO  1   \n",
       "226    MG  1000000000                 PREGAO   ORDINARIO  1   \n",
       "227    MG  1000000000                 PREGAO   ORDINARIO  1   \n",
       "228    MG  1000000000                 PREGAO   ORDINARIO  1   \n",
       "229    MG  1000000000                 PREGAO   ORDINARIO  1   \n",
       "230    MG  1000000000                 PREGAO   ORDINARIO  1   \n",
       "231    MG  1000000000                 PREGAO   ORDINARIO  1   \n",
       "232    MG  1000000000                 PREGAO   ORDINARIO  1   \n",
       "233    MG  1000000000                 PREGAO   ORDINARIO  1   \n",
       "234    MG  1000000000                 PREGAO   ORDINARIO  1   \n",
       "235    MG  1000000000                 PREGAO      GLOBAL  1   \n",
       "236    MG  1000000000                 PREGAO      GLOBAL  1   \n",
       "237    MG  1000000000                 PREGAO   ORDINARIO  1   \n",
       "238    MG  1000000000                 PREGAO   ORDINARIO  1   \n",
       "239    MG  1000000000                 PREGAO   ORDINARIO  1   \n",
       "240    MG  1000000000                 PREGAO   ORDINARIO  1   \n",
       "241    MG  1000000000                 PREGAO   ORDINARIO  1   \n",
       "242    MG  1000000000                 PREGAO   ORDINARIO  1   \n",
       "243    MG  1000000000                 PREGAO   ORDINARIO  1   \n",
       "244    MG  1000000000                 PREGAO   ORDINARIO  1   \n",
       "245    MG  1000000000                 PREGAO   ORDINARIO  1   \n",
       "246    MG  1000000000                 PREGAO   ORDINARIO  1   \n",
       "247    MG  1000000000                 PREGAO   ORDINARIO  1   \n",
       "248    MG  1000000000                 PREGAO   ORDINARIO  1   \n",
       "249    MG  1000000000                 PREGAO   ORDINARIO  1   \n",
       "250    MG  1000000000                 PREGAO   ORDINARIO  1   \n",
       "251    MG  1000000000                 PREGAO   ORDINARIO  1   \n",
       "252    MG  1000000000                 PREGAO   ORDINARIO  1   \n",
       "253    MG  1000000000                 PREGAO   ORDINARIO  1   \n",
       "254    MG  1000000000                 PREGAO   ORDINARIO  1   \n",
       "255    MG  1000000000                 PREGAO   ORDINARIO  1   \n",
       "256    MG  1000000000                 PREGAO   ORDINARIO  1   \n",
       "257    MG  1000000000                 PREGAO   ORDINARIO  1   \n",
       "258    MG  1000000000                 PREGAO   ORDINARIO  1   \n",
       "259    MG  1000000000                 PREGAO      GLOBAL  1   \n",
       "260    MG  1000000000                 PREGAO      GLOBAL  1   \n",
       "261    MG  1000000000                 PREGAO      GLOBAL  1   \n",
       "262    MG  1000000000                 PREGAO      GLOBAL  1   \n",
       "263    MG  1000000000                 PREGAO      GLOBAL  1   \n",
       "264    MG  1000000000                 PREGAO      GLOBAL  1   \n",
       "265    MG  1000000000                 PREGAO      GLOBAL  1   \n",
       "266    MG  1000000000                 PREGAO      GLOBAL  1   \n",
       "267    MG  1000000000                 PREGAO      GLOBAL  1   \n",
       "268    MG  1000000000                 PREGAO      GLOBAL  1   \n",
       "270    MG  1000000000                 PREGAO      GLOBAL  1   \n",
       "271    MG  1000000000  DISPENSA DE LICITACAO      GLOBAL  1   \n",
       "272    MG  1000000000                 PREGAO   ORDINARIO  1   \n",
       "273    MG  1000000000                 PREGAO   ORDINARIO  1   \n",
       "274    MG  1000000000                 PREGAO   ORDINARIO  1   \n",
       "275    MG  1000000000                 PREGAO   ORDINARIO  1   \n",
       "276    MG  1000000000  DISPENSA DE LICITACAO      GLOBAL  1   \n",
       "277    MG  1000000000                 PREGAO   ORDINARIO  1   \n",
       "343    MG  1000000000                 PREGAO   ORDINARIO  2   \n",
       "344    MG  1000000000                 PREGAO   ORDINARIO  2   \n",
       "345    MG  1000000000                 PREGAO   ORDINARIO  2   \n",
       "346    MG  1000000000                 PREGAO   ORDINARIO  2   \n",
       "347    MG  1000000000                 PREGAO   ORDINARIO  2   \n",
       "348    MG  1000000000  DISPENSA DE LICITACAO   ORDINARIO  2   \n",
       "349    MG  1000000000  DISPENSA DE LICITACAO      GLOBAL  2   \n",
       "752    MG  1000000000                 PREGAO   ORDINARIO  2   \n",
       "753    MG  1000000000                 PREGAO      GLOBAL  2   \n",
       "754    MG  1000000000                 PREGAO      GLOBAL  2   \n",
       "755    MG  1000000000                 PREGAO      GLOBAL  2   \n",
       "756    MG  1000000000                 PREGAO      GLOBAL  2   \n",
       "757    MG  1000000000                 PREGAO      GLOBAL  2   \n",
       "758    MG  1000000000                 PREGAO      GLOBAL  2   \n",
       "759    MG  1000000000                 PREGAO   ORDINARIO  2   \n",
       "760    MG  1000000000                 PREGAO      GLOBAL  2   \n",
       "761    MG  1000000000                 PREGAO      GLOBAL  2   \n",
       "762    MG  1000000000                 PREGAO      GLOBAL  2   \n",
       "763    MG  1000000000                 PREGAO   ORDINARIO  2   \n",
       "764    MG  1000000000                 PREGAO   ORDINARIO  2   \n",
       "765    MG  1000000000                 PREGAO   ORDINARIO  2   \n",
       "766    MG  1000000000                 PREGAO   ORDINARIO  2   \n",
       "767    MG  1000000000                 PREGAO   ORDINARIO  2   \n",
       "768    MG  1000000000                 PREGAO   ORDINARIO  2   \n",
       "769    MG  1000000000                 PREGAO   ORDINARIO  2   \n",
       "770    MG  1000000000                 PREGAO   ORDINARIO  2   \n",
       "771    MG  1000000000                 PREGAO   ORDINARIO  2   \n",
       "772    MG  1000000000                 PREGAO   ORDINARIO  2   \n",
       "773    MG  1000000000                 PREGAO      GLOBAL  2   \n",
       "774    MG  1000000000                 PREGAO   ORDINARIO  2   \n",
       "775    MG  1000000000                 PREGAO      GLOBAL  2   \n",
       "776    MG  1000000000                 PREGAO   ORDINARIO  2   \n",
       "777    MG  1000000000                 PREGAO   ORDINARIO  2   \n",
       "778    MG  1000000000                 PREGAO   ORDINARIO  2   \n",
       "779    MG  1000000000                 PREGAO   ORDINARIO  2   \n",
       "780    MG  1000000000                 PREGAO   ORDINARIO  2   \n",
       "781    MG  1000000000  DISPENSA DE LICITACAO   ORDINARIO  2   \n",
       "782    MG  1000000000                 PREGAO   ORDINARIO  2   \n",
       "783    MG  1000000000                 PREGAO   ORDINARIO  2   \n",
       "784    MG  1000000000                 PREGAO   ORDINARIO  2   \n",
       "785    MG  1000000000                 PREGAO   ORDINARIO  2   \n",
       "786    MG  1000000000                 PREGAO   ORDINARIO  2   \n",
       "787    MG  1000000000                 PREGAO   ORDINARIO  2   \n",
       "788    MG  1000000000  DISPENSA DE LICITACAO   ORDINARIO  2   \n",
       "789    MG  1000000000                 PREGAO   ORDINARIO  2   \n",
       "790    MG  1000000000                 PREGAO   ORDINARIO  2   \n",
       "791    MG  1000000000                 PREGAO   ORDINARIO  2   \n",
       "792    MG  1000000000                 PREGAO   ORDINARIO  2   \n",
       "793    MG  1000000000                 PREGAO   ORDINARIO  2   \n",
       "794    MG  1000000000                 PREGAO   ORDINARIO  2   \n",
       "795    MG  1000000000                 PREGAO   ORDINARIO  2   \n",
       "796    MG  1000000000                 PREGAO   ORDINARIO  2   \n",
       "797    MG  1000000000                 PREGAO   ORDINARIO  2   \n",
       "798    MG  1000000000                 PREGAO   ORDINARIO  2   \n",
       "799    MG  1000000000                 PREGAO   ORDINARIO  2   \n",
       "800    MG  1000000000                 PREGAO   ORDINARIO  2   \n",
       "801    MG  1000000000                 PREGAO   ORDINARIO  2   \n",
       "802    MG  1000000000                 PREGAO   ORDINARIO  2   \n",
       "803    MG  1000000000                 PREGAO   ORDINARIO  2   \n",
       "804    MG  1000000000                 PREGAO   ORDINARIO  2   \n",
       "805    MG  1000000000                 PREGAO   ORDINARIO  2   \n",
       "806    MG  1000000000                 PREGAO   ORDINARIO  2   \n",
       "807    MG  1000000000                 PREGAO   ORDINARIO  2   \n",
       "808    MG  1000000000                 PREGAO   ORDINARIO  2   \n",
       "809    MG  1000000000                 PREGAO      GLOBAL  2   \n",
       "810    MG  1000000000                 PREGAO      GLOBAL  2   \n",
       "811    MG  1000000000                 PREGAO      GLOBAL  2   \n",
       "812    MG  1000000000                 PREGAO      GLOBAL  2   \n",
       "813    MG  1000000000                 PREGAO      GLOBAL  2   \n",
       "814    MG  1000000000                 PREGAO      GLOBAL  2   \n",
       "815    MG  1000000000                 PREGAO      GLOBAL  2   \n",
       "816    MG  1000000000                 PREGAO      GLOBAL  2   \n",
       "817    MG  1000000000                 PREGAO   ORDINARIO  2   \n",
       "818    MG  1000000000                 PREGAO      GLOBAL  2   \n",
       "819    MG  1000000000                 PREGAO      GLOBAL  2   \n",
       "820    MG  1000000000                 PREGAO      GLOBAL  2   \n",
       "821    MG  1000000000                 PREGAO      GLOBAL  2   \n",
       "822    MG  1000000000                 PREGAO      GLOBAL  2   \n",
       "823    MG  1000000000                 PREGAO      GLOBAL  2   \n",
       "824    MG  1000000000                 PREGAO      GLOBAL  2   \n",
       "825    MG  1000000000                 PREGAO      GLOBAL  2   \n",
       "\n",
       "                     NOME_RP TIPO_CREDITO NOME_TIPO_CREDITO    PO  \\\n",
       "168     PRIMARIO OBRIGATORIO            A     INICIAL (LOA)  0006   \n",
       "169     PRIMARIO OBRIGATORIO            A     INICIAL (LOA)  0006   \n",
       "170     PRIMARIO OBRIGATORIO            A     INICIAL (LOA)  0006   \n",
       "171     PRIMARIO OBRIGATORIO            A     INICIAL (LOA)  0006   \n",
       "172     PRIMARIO OBRIGATORIO            A     INICIAL (LOA)  0006   \n",
       "173     PRIMARIO OBRIGATORIO            A     INICIAL (LOA)  0006   \n",
       "174     PRIMARIO OBRIGATORIO            A     INICIAL (LOA)  0006   \n",
       "175     PRIMARIO OBRIGATORIO            A     INICIAL (LOA)  0006   \n",
       "176     PRIMARIO OBRIGATORIO            A     INICIAL (LOA)  0006   \n",
       "177     PRIMARIO OBRIGATORIO            A     INICIAL (LOA)  0006   \n",
       "178     PRIMARIO OBRIGATORIO            A     INICIAL (LOA)  0006   \n",
       "179     PRIMARIO OBRIGATORIO            A     INICIAL (LOA)  0006   \n",
       "180     PRIMARIO OBRIGATORIO            A     INICIAL (LOA)  0006   \n",
       "181     PRIMARIO OBRIGATORIO            A     INICIAL (LOA)  0006   \n",
       "182     PRIMARIO OBRIGATORIO            A     INICIAL (LOA)  0006   \n",
       "183     PRIMARIO OBRIGATORIO            A     INICIAL (LOA)  0006   \n",
       "184     PRIMARIO OBRIGATORIO            A     INICIAL (LOA)  0006   \n",
       "185     PRIMARIO OBRIGATORIO            A     INICIAL (LOA)  0006   \n",
       "186     PRIMARIO OBRIGATORIO            A     INICIAL (LOA)  0006   \n",
       "187     PRIMARIO OBRIGATORIO            A     INICIAL (LOA)  0006   \n",
       "188     PRIMARIO OBRIGATORIO            A     INICIAL (LOA)  0006   \n",
       "189     PRIMARIO OBRIGATORIO            A     INICIAL (LOA)  0006   \n",
       "190     PRIMARIO OBRIGATORIO            A     INICIAL (LOA)  0006   \n",
       "191     PRIMARIO OBRIGATORIO            A     INICIAL (LOA)  0006   \n",
       "192     PRIMARIO OBRIGATORIO            A     INICIAL (LOA)  0006   \n",
       "193     PRIMARIO OBRIGATORIO            A     INICIAL (LOA)  0006   \n",
       "194     PRIMARIO OBRIGATORIO            A     INICIAL (LOA)  0006   \n",
       "195     PRIMARIO OBRIGATORIO            A     INICIAL (LOA)  0006   \n",
       "196     PRIMARIO OBRIGATORIO            A     INICIAL (LOA)  0006   \n",
       "197     PRIMARIO OBRIGATORIO            A     INICIAL (LOA)  0006   \n",
       "198     PRIMARIO OBRIGATORIO            A     INICIAL (LOA)  0006   \n",
       "199     PRIMARIO OBRIGATORIO            A     INICIAL (LOA)  0006   \n",
       "200     PRIMARIO OBRIGATORIO            A     INICIAL (LOA)  0006   \n",
       "201     PRIMARIO OBRIGATORIO            A     INICIAL (LOA)  0006   \n",
       "202     PRIMARIO OBRIGATORIO            A     INICIAL (LOA)  0006   \n",
       "203     PRIMARIO OBRIGATORIO            A     INICIAL (LOA)  0006   \n",
       "204     PRIMARIO OBRIGATORIO            A     INICIAL (LOA)  0006   \n",
       "205     PRIMARIO OBRIGATORIO            A     INICIAL (LOA)  0006   \n",
       "206     PRIMARIO OBRIGATORIO            A     INICIAL (LOA)  0006   \n",
       "207     PRIMARIO OBRIGATORIO            A     INICIAL (LOA)  0006   \n",
       "208     PRIMARIO OBRIGATORIO            A     INICIAL (LOA)  0006   \n",
       "209     PRIMARIO OBRIGATORIO            A     INICIAL (LOA)  0006   \n",
       "210     PRIMARIO OBRIGATORIO            A     INICIAL (LOA)  0006   \n",
       "211     PRIMARIO OBRIGATORIO            A     INICIAL (LOA)  0006   \n",
       "212     PRIMARIO OBRIGATORIO            A     INICIAL (LOA)  0006   \n",
       "213     PRIMARIO OBRIGATORIO            A     INICIAL (LOA)  0006   \n",
       "214     PRIMARIO OBRIGATORIO            A     INICIAL (LOA)  0006   \n",
       "215     PRIMARIO OBRIGATORIO            A     INICIAL (LOA)  0006   \n",
       "216     PRIMARIO OBRIGATORIO            A     INICIAL (LOA)  0006   \n",
       "217     PRIMARIO OBRIGATORIO            A     INICIAL (LOA)  0006   \n",
       "218     PRIMARIO OBRIGATORIO            A     INICIAL (LOA)  0006   \n",
       "219     PRIMARIO OBRIGATORIO            A     INICIAL (LOA)  0006   \n",
       "220     PRIMARIO OBRIGATORIO            A     INICIAL (LOA)  0006   \n",
       "221     PRIMARIO OBRIGATORIO            A     INICIAL (LOA)  0006   \n",
       "222     PRIMARIO OBRIGATORIO            A     INICIAL (LOA)  0006   \n",
       "223     PRIMARIO OBRIGATORIO            A     INICIAL (LOA)  0006   \n",
       "224     PRIMARIO OBRIGATORIO            A     INICIAL (LOA)  0006   \n",
       "225     PRIMARIO OBRIGATORIO            A     INICIAL (LOA)  0006   \n",
       "226     PRIMARIO OBRIGATORIO            A     INICIAL (LOA)  0006   \n",
       "227     PRIMARIO OBRIGATORIO            A     INICIAL (LOA)  0006   \n",
       "228     PRIMARIO OBRIGATORIO            A     INICIAL (LOA)  0006   \n",
       "229     PRIMARIO OBRIGATORIO            A     INICIAL (LOA)  0006   \n",
       "230     PRIMARIO OBRIGATORIO            A     INICIAL (LOA)  0006   \n",
       "231     PRIMARIO OBRIGATORIO            A     INICIAL (LOA)  0006   \n",
       "232     PRIMARIO OBRIGATORIO            A     INICIAL (LOA)  0006   \n",
       "233     PRIMARIO OBRIGATORIO            A     INICIAL (LOA)  0006   \n",
       "234     PRIMARIO OBRIGATORIO            A     INICIAL (LOA)  0006   \n",
       "235     PRIMARIO OBRIGATORIO            A     INICIAL (LOA)  0006   \n",
       "236     PRIMARIO OBRIGATORIO            A     INICIAL (LOA)  0006   \n",
       "237     PRIMARIO OBRIGATORIO            A     INICIAL (LOA)  0006   \n",
       "238     PRIMARIO OBRIGATORIO            A     INICIAL (LOA)  0006   \n",
       "239     PRIMARIO OBRIGATORIO            A     INICIAL (LOA)  0006   \n",
       "240     PRIMARIO OBRIGATORIO            A     INICIAL (LOA)  0006   \n",
       "241     PRIMARIO OBRIGATORIO            A     INICIAL (LOA)  0006   \n",
       "242     PRIMARIO OBRIGATORIO            A     INICIAL (LOA)  0006   \n",
       "243     PRIMARIO OBRIGATORIO            A     INICIAL (LOA)  0006   \n",
       "244     PRIMARIO OBRIGATORIO            A     INICIAL (LOA)  0006   \n",
       "245     PRIMARIO OBRIGATORIO            A     INICIAL (LOA)  0006   \n",
       "246     PRIMARIO OBRIGATORIO            A     INICIAL (LOA)  0006   \n",
       "247     PRIMARIO OBRIGATORIO            A     INICIAL (LOA)  0006   \n",
       "248     PRIMARIO OBRIGATORIO            A     INICIAL (LOA)  0006   \n",
       "249     PRIMARIO OBRIGATORIO            A     INICIAL (LOA)  0006   \n",
       "250     PRIMARIO OBRIGATORIO            A     INICIAL (LOA)  0006   \n",
       "251     PRIMARIO OBRIGATORIO            A     INICIAL (LOA)  0006   \n",
       "252     PRIMARIO OBRIGATORIO            A     INICIAL (LOA)  0006   \n",
       "253     PRIMARIO OBRIGATORIO            A     INICIAL (LOA)  0006   \n",
       "254     PRIMARIO OBRIGATORIO            A     INICIAL (LOA)  0006   \n",
       "255     PRIMARIO OBRIGATORIO            A     INICIAL (LOA)  0006   \n",
       "256     PRIMARIO OBRIGATORIO            A     INICIAL (LOA)  0006   \n",
       "257     PRIMARIO OBRIGATORIO            A     INICIAL (LOA)  0006   \n",
       "258     PRIMARIO OBRIGATORIO            A     INICIAL (LOA)  0006   \n",
       "259     PRIMARIO OBRIGATORIO            A     INICIAL (LOA)  0006   \n",
       "260     PRIMARIO OBRIGATORIO            A     INICIAL (LOA)  0006   \n",
       "261     PRIMARIO OBRIGATORIO            A     INICIAL (LOA)  0006   \n",
       "262     PRIMARIO OBRIGATORIO            A     INICIAL (LOA)  0006   \n",
       "263     PRIMARIO OBRIGATORIO            A     INICIAL (LOA)  0006   \n",
       "264     PRIMARIO OBRIGATORIO            A     INICIAL (LOA)  0006   \n",
       "265     PRIMARIO OBRIGATORIO            A     INICIAL (LOA)  0006   \n",
       "266     PRIMARIO OBRIGATORIO            A     INICIAL (LOA)  0006   \n",
       "267     PRIMARIO OBRIGATORIO            A     INICIAL (LOA)  0006   \n",
       "268     PRIMARIO OBRIGATORIO            A     INICIAL (LOA)  0006   \n",
       "270     PRIMARIO OBRIGATORIO            A     INICIAL (LOA)  0000   \n",
       "271     PRIMARIO OBRIGATORIO            A     INICIAL (LOA)  0000   \n",
       "272     PRIMARIO OBRIGATORIO            A     INICIAL (LOA)  0000   \n",
       "273     PRIMARIO OBRIGATORIO            A     INICIAL (LOA)  0000   \n",
       "274     PRIMARIO OBRIGATORIO            A     INICIAL (LOA)  0000   \n",
       "275     PRIMARIO OBRIGATORIO            A     INICIAL (LOA)  0000   \n",
       "276     PRIMARIO OBRIGATORIO            A     INICIAL (LOA)  0000   \n",
       "277     PRIMARIO OBRIGATORIO            A     INICIAL (LOA)  0000   \n",
       "343  PRIMARIO DISCRICIONARIO            A     INICIAL (LOA)  0004   \n",
       "344  PRIMARIO DISCRICIONARIO            A     INICIAL (LOA)  0005   \n",
       "345  PRIMARIO DISCRICIONARIO            A     INICIAL (LOA)  0005   \n",
       "346  PRIMARIO DISCRICIONARIO            A     INICIAL (LOA)  0005   \n",
       "347  PRIMARIO DISCRICIONARIO            A     INICIAL (LOA)  0005   \n",
       "348  PRIMARIO DISCRICIONARIO            A     INICIAL (LOA)  000G   \n",
       "349  PRIMARIO DISCRICIONARIO            A     INICIAL (LOA)  000G   \n",
       "752  PRIMARIO DISCRICIONARIO            A     INICIAL (LOA)  COMB   \n",
       "753  PRIMARIO DISCRICIONARIO            A     INICIAL (LOA)  000G   \n",
       "754  PRIMARIO DISCRICIONARIO            A     INICIAL (LOA)  000G   \n",
       "755  PRIMARIO DISCRICIONARIO            A     INICIAL (LOA)  000G   \n",
       "756  PRIMARIO DISCRICIONARIO            A     INICIAL (LOA)  000G   \n",
       "757  PRIMARIO DISCRICIONARIO            A     INICIAL (LOA)  000G   \n",
       "758  PRIMARIO DISCRICIONARIO            A     INICIAL (LOA)  000G   \n",
       "759  PRIMARIO DISCRICIONARIO            A     INICIAL (LOA)  000G   \n",
       "760  PRIMARIO DISCRICIONARIO            A     INICIAL (LOA)  000G   \n",
       "761  PRIMARIO DISCRICIONARIO            A     INICIAL (LOA)  000G   \n",
       "762  PRIMARIO DISCRICIONARIO            A     INICIAL (LOA)  000G   \n",
       "763  PRIMARIO DISCRICIONARIO            A     INICIAL (LOA)  000G   \n",
       "764  PRIMARIO DISCRICIONARIO            A     INICIAL (LOA)  000G   \n",
       "765  PRIMARIO DISCRICIONARIO            A     INICIAL (LOA)  000G   \n",
       "766  PRIMARIO DISCRICIONARIO            A     INICIAL (LOA)  000G   \n",
       "767  PRIMARIO DISCRICIONARIO            A     INICIAL (LOA)  000G   \n",
       "768  PRIMARIO DISCRICIONARIO            A     INICIAL (LOA)  000G   \n",
       "769  PRIMARIO DISCRICIONARIO            A     INICIAL (LOA)  000G   \n",
       "770  PRIMARIO DISCRICIONARIO            A     INICIAL (LOA)  000G   \n",
       "771  PRIMARIO DISCRICIONARIO            A     INICIAL (LOA)  000G   \n",
       "772  PRIMARIO DISCRICIONARIO            A     INICIAL (LOA)  000G   \n",
       "773  PRIMARIO DISCRICIONARIO            A     INICIAL (LOA)  000G   \n",
       "774  PRIMARIO DISCRICIONARIO            A     INICIAL (LOA)  000G   \n",
       "775  PRIMARIO DISCRICIONARIO            A     INICIAL (LOA)  000G   \n",
       "776  PRIMARIO DISCRICIONARIO            A     INICIAL (LOA)  000G   \n",
       "777  PRIMARIO DISCRICIONARIO            A     INICIAL (LOA)  000G   \n",
       "778  PRIMARIO DISCRICIONARIO            A     INICIAL (LOA)  000G   \n",
       "779  PRIMARIO DISCRICIONARIO            A     INICIAL (LOA)  000G   \n",
       "780  PRIMARIO DISCRICIONARIO            A     INICIAL (LOA)  000G   \n",
       "781  PRIMARIO DISCRICIONARIO            A     INICIAL (LOA)  000G   \n",
       "782  PRIMARIO DISCRICIONARIO            A     INICIAL (LOA)  000G   \n",
       "783  PRIMARIO DISCRICIONARIO            A     INICIAL (LOA)  000G   \n",
       "784  PRIMARIO DISCRICIONARIO            A     INICIAL (LOA)  000G   \n",
       "785  PRIMARIO DISCRICIONARIO            A     INICIAL (LOA)  000G   \n",
       "786  PRIMARIO DISCRICIONARIO            A     INICIAL (LOA)  000G   \n",
       "787  PRIMARIO DISCRICIONARIO            A     INICIAL (LOA)  000G   \n",
       "788  PRIMARIO DISCRICIONARIO            A     INICIAL (LOA)  000G   \n",
       "789  PRIMARIO DISCRICIONARIO            A     INICIAL (LOA)  0004   \n",
       "790  PRIMARIO DISCRICIONARIO            A     INICIAL (LOA)  0004   \n",
       "791  PRIMARIO DISCRICIONARIO            A     INICIAL (LOA)  0004   \n",
       "792  PRIMARIO DISCRICIONARIO            A     INICIAL (LOA)  0004   \n",
       "793  PRIMARIO DISCRICIONARIO            A     INICIAL (LOA)  0004   \n",
       "794  PRIMARIO DISCRICIONARIO            A     INICIAL (LOA)  0004   \n",
       "795  PRIMARIO DISCRICIONARIO            A     INICIAL (LOA)  0004   \n",
       "796  PRIMARIO DISCRICIONARIO            A     INICIAL (LOA)  0004   \n",
       "797  PRIMARIO DISCRICIONARIO            A     INICIAL (LOA)  0004   \n",
       "798  PRIMARIO DISCRICIONARIO            A     INICIAL (LOA)  0004   \n",
       "799  PRIMARIO DISCRICIONARIO            A     INICIAL (LOA)  0004   \n",
       "800  PRIMARIO DISCRICIONARIO            A     INICIAL (LOA)  0004   \n",
       "801  PRIMARIO DISCRICIONARIO            A     INICIAL (LOA)  0004   \n",
       "802  PRIMARIO DISCRICIONARIO            A     INICIAL (LOA)  0004   \n",
       "803  PRIMARIO DISCRICIONARIO            A     INICIAL (LOA)  0004   \n",
       "804  PRIMARIO DISCRICIONARIO            A     INICIAL (LOA)  0004   \n",
       "805  PRIMARIO DISCRICIONARIO            A     INICIAL (LOA)  0004   \n",
       "806  PRIMARIO DISCRICIONARIO            A     INICIAL (LOA)  0004   \n",
       "807  PRIMARIO DISCRICIONARIO            A     INICIAL (LOA)  0004   \n",
       "808  PRIMARIO DISCRICIONARIO            A     INICIAL (LOA)  0004   \n",
       "809  PRIMARIO DISCRICIONARIO            A     INICIAL (LOA)  0005   \n",
       "810  PRIMARIO DISCRICIONARIO            A     INICIAL (LOA)  0005   \n",
       "811  PRIMARIO DISCRICIONARIO            A     INICIAL (LOA)  0005   \n",
       "812  PRIMARIO DISCRICIONARIO            A     INICIAL (LOA)  0005   \n",
       "813  PRIMARIO DISCRICIONARIO            A     INICIAL (LOA)  0005   \n",
       "814  PRIMARIO DISCRICIONARIO            A     INICIAL (LOA)  0005   \n",
       "815  PRIMARIO DISCRICIONARIO            A     INICIAL (LOA)  0005   \n",
       "816  PRIMARIO DISCRICIONARIO            A     INICIAL (LOA)  0005   \n",
       "817  PRIMARIO DISCRICIONARIO            A     INICIAL (LOA)  0005   \n",
       "818  PRIMARIO DISCRICIONARIO            A     INICIAL (LOA)  0005   \n",
       "819  PRIMARIO DISCRICIONARIO            A     INICIAL (LOA)  0005   \n",
       "820  PRIMARIO DISCRICIONARIO            A     INICIAL (LOA)  0005   \n",
       "821  PRIMARIO DISCRICIONARIO            A     INICIAL (LOA)  0005   \n",
       "822  PRIMARIO DISCRICIONARIO            A     INICIAL (LOA)  0005   \n",
       "823  PRIMARIO DISCRICIONARIO            A     INICIAL (LOA)  0005   \n",
       "824  PRIMARIO DISCRICIONARIO            A     INICIAL (LOA)  0005   \n",
       "825  PRIMARIO DISCRICIONARIO            A     INICIAL (LOA)  0005   \n",
       "\n",
       "     AUTOR_EMENDA NOME_AUTOR_EMENDA  \\\n",
       "168  000000000000        SEM EMENDA   \n",
       "169  000000000000        SEM EMENDA   \n",
       "170  000000000000        SEM EMENDA   \n",
       "171  000000000000        SEM EMENDA   \n",
       "172  000000000000        SEM EMENDA   \n",
       "173  000000000000        SEM EMENDA   \n",
       "174  000000000000        SEM EMENDA   \n",
       "175  000000000000        SEM EMENDA   \n",
       "176  000000000000        SEM EMENDA   \n",
       "177  000000000000        SEM EMENDA   \n",
       "178  000000000000        SEM EMENDA   \n",
       "179  000000000000        SEM EMENDA   \n",
       "180  000000000000        SEM EMENDA   \n",
       "181  000000000000        SEM EMENDA   \n",
       "182  000000000000        SEM EMENDA   \n",
       "183  000000000000        SEM EMENDA   \n",
       "184  000000000000        SEM EMENDA   \n",
       "185  000000000000        SEM EMENDA   \n",
       "186  000000000000        SEM EMENDA   \n",
       "187  000000000000        SEM EMENDA   \n",
       "188  000000000000        SEM EMENDA   \n",
       "189  000000000000        SEM EMENDA   \n",
       "190  000000000000        SEM EMENDA   \n",
       "191  000000000000        SEM EMENDA   \n",
       "192  000000000000        SEM EMENDA   \n",
       "193  000000000000        SEM EMENDA   \n",
       "194  000000000000        SEM EMENDA   \n",
       "195  000000000000        SEM EMENDA   \n",
       "196  000000000000        SEM EMENDA   \n",
       "197  000000000000        SEM EMENDA   \n",
       "198  000000000000        SEM EMENDA   \n",
       "199  000000000000        SEM EMENDA   \n",
       "200  000000000000        SEM EMENDA   \n",
       "201  000000000000        SEM EMENDA   \n",
       "202  000000000000        SEM EMENDA   \n",
       "203  000000000000        SEM EMENDA   \n",
       "204  000000000000        SEM EMENDA   \n",
       "205  000000000000        SEM EMENDA   \n",
       "206  000000000000        SEM EMENDA   \n",
       "207  000000000000        SEM EMENDA   \n",
       "208  000000000000        SEM EMENDA   \n",
       "209  000000000000        SEM EMENDA   \n",
       "210  000000000000        SEM EMENDA   \n",
       "211  000000000000        SEM EMENDA   \n",
       "212  000000000000        SEM EMENDA   \n",
       "213  000000000000        SEM EMENDA   \n",
       "214  000000000000        SEM EMENDA   \n",
       "215  000000000000        SEM EMENDA   \n",
       "216  000000000000        SEM EMENDA   \n",
       "217  000000000000        SEM EMENDA   \n",
       "218  000000000000        SEM EMENDA   \n",
       "219  000000000000        SEM EMENDA   \n",
       "220  000000000000        SEM EMENDA   \n",
       "221  000000000000        SEM EMENDA   \n",
       "222  000000000000        SEM EMENDA   \n",
       "223  000000000000        SEM EMENDA   \n",
       "224  000000000000        SEM EMENDA   \n",
       "225  000000000000        SEM EMENDA   \n",
       "226  000000000000        SEM EMENDA   \n",
       "227  000000000000        SEM EMENDA   \n",
       "228  000000000000        SEM EMENDA   \n",
       "229  000000000000        SEM EMENDA   \n",
       "230  000000000000        SEM EMENDA   \n",
       "231  000000000000        SEM EMENDA   \n",
       "232  000000000000        SEM EMENDA   \n",
       "233  000000000000        SEM EMENDA   \n",
       "234  000000000000        SEM EMENDA   \n",
       "235  000000000000        SEM EMENDA   \n",
       "236  000000000000        SEM EMENDA   \n",
       "237  000000000000        SEM EMENDA   \n",
       "238  000000000000        SEM EMENDA   \n",
       "239  000000000000        SEM EMENDA   \n",
       "240  000000000000        SEM EMENDA   \n",
       "241  000000000000        SEM EMENDA   \n",
       "242  000000000000        SEM EMENDA   \n",
       "243  000000000000        SEM EMENDA   \n",
       "244  000000000000        SEM EMENDA   \n",
       "245  000000000000        SEM EMENDA   \n",
       "246  000000000000        SEM EMENDA   \n",
       "247  000000000000        SEM EMENDA   \n",
       "248  000000000000        SEM EMENDA   \n",
       "249  000000000000        SEM EMENDA   \n",
       "250  000000000000        SEM EMENDA   \n",
       "251  000000000000        SEM EMENDA   \n",
       "252  000000000000        SEM EMENDA   \n",
       "253  000000000000        SEM EMENDA   \n",
       "254  000000000000        SEM EMENDA   \n",
       "255  000000000000        SEM EMENDA   \n",
       "256  000000000000        SEM EMENDA   \n",
       "257  000000000000        SEM EMENDA   \n",
       "258  000000000000        SEM EMENDA   \n",
       "259  000000000000        SEM EMENDA   \n",
       "260  000000000000        SEM EMENDA   \n",
       "261  000000000000        SEM EMENDA   \n",
       "262  000000000000        SEM EMENDA   \n",
       "263  000000000000        SEM EMENDA   \n",
       "264  000000000000        SEM EMENDA   \n",
       "265  000000000000        SEM EMENDA   \n",
       "266  000000000000        SEM EMENDA   \n",
       "267  000000000000        SEM EMENDA   \n",
       "268  000000000000        SEM EMENDA   \n",
       "270  000000000000        SEM EMENDA   \n",
       "271  000000000000        SEM EMENDA   \n",
       "272  000000000000        SEM EMENDA   \n",
       "273  000000000000        SEM EMENDA   \n",
       "274  000000000000        SEM EMENDA   \n",
       "275  000000000000        SEM EMENDA   \n",
       "276  000000000000        SEM EMENDA   \n",
       "277  000000000000        SEM EMENDA   \n",
       "343  000000000000        SEM EMENDA   \n",
       "344  000000000000        SEM EMENDA   \n",
       "345  000000000000        SEM EMENDA   \n",
       "346  000000000000        SEM EMENDA   \n",
       "347  000000000000        SEM EMENDA   \n",
       "348  000000000000        SEM EMENDA   \n",
       "349  000000000000        SEM EMENDA   \n",
       "752  000000000000        SEM EMENDA   \n",
       "753  000000000000        SEM EMENDA   \n",
       "754  000000000000        SEM EMENDA   \n",
       "755  000000000000        SEM EMENDA   \n",
       "756  000000000000        SEM EMENDA   \n",
       "757  000000000000        SEM EMENDA   \n",
       "758  000000000000        SEM EMENDA   \n",
       "759  000000000000        SEM EMENDA   \n",
       "760  000000000000        SEM EMENDA   \n",
       "761  000000000000        SEM EMENDA   \n",
       "762  000000000000        SEM EMENDA   \n",
       "763  000000000000        SEM EMENDA   \n",
       "764  000000000000        SEM EMENDA   \n",
       "765  000000000000        SEM EMENDA   \n",
       "766  000000000000        SEM EMENDA   \n",
       "767  000000000000        SEM EMENDA   \n",
       "768  000000000000        SEM EMENDA   \n",
       "769  000000000000        SEM EMENDA   \n",
       "770  000000000000        SEM EMENDA   \n",
       "771  000000000000        SEM EMENDA   \n",
       "772  000000000000        SEM EMENDA   \n",
       "773  000000000000        SEM EMENDA   \n",
       "774  000000000000        SEM EMENDA   \n",
       "775  000000000000        SEM EMENDA   \n",
       "776  000000000000        SEM EMENDA   \n",
       "777  000000000000        SEM EMENDA   \n",
       "778  000000000000        SEM EMENDA   \n",
       "779  000000000000        SEM EMENDA   \n",
       "780  000000000000        SEM EMENDA   \n",
       "781  000000000000        SEM EMENDA   \n",
       "782  000000000000        SEM EMENDA   \n",
       "783  000000000000        SEM EMENDA   \n",
       "784  000000000000        SEM EMENDA   \n",
       "785  000000000000        SEM EMENDA   \n",
       "786  000000000000        SEM EMENDA   \n",
       "787  000000000000        SEM EMENDA   \n",
       "788  000000000000        SEM EMENDA   \n",
       "789  000000000000        SEM EMENDA   \n",
       "790  000000000000        SEM EMENDA   \n",
       "791  000000000000        SEM EMENDA   \n",
       "792  000000000000        SEM EMENDA   \n",
       "793  000000000000        SEM EMENDA   \n",
       "794  000000000000        SEM EMENDA   \n",
       "795  000000000000        SEM EMENDA   \n",
       "796  000000000000        SEM EMENDA   \n",
       "797  000000000000        SEM EMENDA   \n",
       "798  000000000000        SEM EMENDA   \n",
       "799  000000000000        SEM EMENDA   \n",
       "800  000000000000        SEM EMENDA   \n",
       "801  000000000000        SEM EMENDA   \n",
       "802  000000000000        SEM EMENDA   \n",
       "803  000000000000        SEM EMENDA   \n",
       "804  000000000000        SEM EMENDA   \n",
       "805  000000000000        SEM EMENDA   \n",
       "806  000000000000        SEM EMENDA   \n",
       "807  000000000000        SEM EMENDA   \n",
       "808  000000000000        SEM EMENDA   \n",
       "809  000000000000        SEM EMENDA   \n",
       "810  000000000000        SEM EMENDA   \n",
       "811  000000000000        SEM EMENDA   \n",
       "812  000000000000        SEM EMENDA   \n",
       "813  000000000000        SEM EMENDA   \n",
       "814  000000000000        SEM EMENDA   \n",
       "815  000000000000        SEM EMENDA   \n",
       "816  000000000000        SEM EMENDA   \n",
       "817  000000000000        SEM EMENDA   \n",
       "818  000000000000        SEM EMENDA   \n",
       "819  000000000000        SEM EMENDA   \n",
       "820  000000000000        SEM EMENDA   \n",
       "821  000000000000        SEM EMENDA   \n",
       "822  000000000000        SEM EMENDA   \n",
       "823  000000000000        SEM EMENDA   \n",
       "824  000000000000        SEM EMENDA   \n",
       "825  000000000000        SEM EMENDA   \n",
       "\n",
       "                                                 LOCAL     UO  \\\n",
       "168  AV. SETE DE SETEMBRO, 628 - CENTRO, TRES CORAC...  52121   \n",
       "169  AV. SETE DE SETEMBRO, 628 - CENTRO, TRES CORAC...  52121   \n",
       "170  AV. SETE DE SETEMBRO, 628 - CENTRO, TRÊS CORAÇ...  52121   \n",
       "171  AV. SETE DE SETEMBRO, 628 - CENTRO, TRÊS CORAÇ...  52121   \n",
       "172  AV. SETE DE SETEMBRO, 628 - CENTRO, TRÊS CORAÇ...  52121   \n",
       "173  AV. SETE DE SETEMBRO, 628 - CENTRO, TRÊS CORAÇ...  52121   \n",
       "174  AV. SETE DE SETEMBRO, 628, CENTRO, TRES CORACO...  52121   \n",
       "175  AV. SETE DE SETEMBRO, 628, CENTRO, TRES CORACO...  52121   \n",
       "176  AV. SETE DE SETEMBRO, 628, CENTRO, TRES CORACO...  52121   \n",
       "177  AV. SETE DE SETEMBRO, 628 - CENTRO, TRES CORAC...  52121   \n",
       "178  AV. SETE DE SETEMBRO, 628 - CENTRO, TRES CORAC...  52121   \n",
       "179  AV. SETE DE SETEMBRO, 628 - CENTRO, TRÊS CORAÇ...  52121   \n",
       "180  AV. SETE DE SETEMBRO, 628 - CENTRO, TRÊS CORAÇ...  52121   \n",
       "181  AV. SETE DE SETEMBRO, 628 - CENTRO, TRÊS CORAÇ...  52121   \n",
       "182  AV. SETE DE SETEMBRO, 628 - CENTRO, TRÊS CORAÇ...  52121   \n",
       "183  AV. SETE DE SETEMBRO, 628 - CENTRO, TRÊS CORAÇ...  52121   \n",
       "184  AV. SETE DE SETEMBRO, 628 - CENTRO, TRÊS CORAÇ...  52121   \n",
       "185  AV. SETE DE SETEMBRO, 628 - CENTRO, TRÊS CORAÇ...  52121   \n",
       "186  AV. SETE DE SETEMBRO, 628 - CENTRO, TRÊS CORAÇ...  52121   \n",
       "187  AV. SETE DE SETEMBRO, 628 - CENTRO, TRÊS CORAÇ...  52121   \n",
       "188  AV. SETE DE SETEMBRO, 628 - CENTRO, TRÊS CORAÇ...  52121   \n",
       "189  AV. SETE DE SETEMBRO, 628 - CENTRO, TRÊS CORAÇ...  52121   \n",
       "190  AV. SETE DE SETEMBRO, 628 - CENTRO, TRÊS CORAÇ...  52121   \n",
       "191  AV. SETE DE SETEMBRO, 628 - CENTRO, TRÊS CORAÇ...  52121   \n",
       "192  AV. SETE DE SETEMBRO, 628 - CENTRO, TRÊS CORAÇ...  52121   \n",
       "193  AV. SETE DE SETEMBRO, 628 - CENTRO, TRÊS CORAÇ...  52121   \n",
       "194  AV. SETE DE SETEMBRO, 628 - CENTRO, TRÊS CORAÇ...  52121   \n",
       "195  AV. SETE DE SETEMBRO, 628 - CENTRO, TRÊS CORAÇ...  52121   \n",
       "196  AV. SETE DE SETEMBRO, 628 - CENTRO, TRÊS CORAÇ...  52121   \n",
       "197  AV. SETE DE SETEMBRO, 628 - CENTRO, TRÊS CORAÇ...  52121   \n",
       "198  AV. SETE DE SETEMBRO, 628 - CENTRO, TRÊS CORAÇ...  52121   \n",
       "199  AV. SETE DE SETEMBRO, 628 - CENTRO, TRÊS CORAÇ...  52121   \n",
       "200  AV. SETE DE SETEMBRO, 628 - CENTRO, TRÊS CORAÇ...  52121   \n",
       "201  AV. SETE DE SETEMBRO, 628 - CENTRO, TRÊS CORAÇ...  52121   \n",
       "202  AV. SETE DE SETEMBRO, 628 - CENTRO, TRÊS CORAÇ...  52121   \n",
       "203  AV. SETE DE SETEMBRO, 628 - CENTRO, TRÊS CORAÇ...  52121   \n",
       "204  AV. SETE DE SETEMBRO, 628 - CENTRO, TRÊS CORAÇ...  52121   \n",
       "205  AV. SETE DE SETEMBRO, 628 - CENTRO, TRÊS CORAÇ...  52121   \n",
       "206  AV. SETE DE SETEMBRO, 628 - CENTRO, TRÊS CORAÇ...  52121   \n",
       "207  AV. SETE DE SETEMBRO, 628 - CENTRO, TRÊS CORAÇ...  52121   \n",
       "208  AV. SETE DE SETEMBRO, 628 - CENTRO, TRÊS CORAÇ...  52121   \n",
       "209  AV. SETE DE SETEMBRO, 628 - CENTRO, TRÊS CORAÇ...  52121   \n",
       "210  AV. SETE DE SETEMBRO, 628 - CENTRO, TRÊS CORAÇ...  52121   \n",
       "211  AV. SETE DE SETEMBRO, 628 - CENTRO, TRÊS CORAÇ...  52121   \n",
       "212  AV. SETE DE SETEMBRO, 628 - CENTRO, TRÊS CORAÇ...  52121   \n",
       "213  AV. SETE DE SETEMBRO, 628 - CENTRO, TRÊS CORAÇ...  52121   \n",
       "214  AV. SETE DE SETEMBRO, 628 - CENTRO, TRÊS CORAÇ...  52121   \n",
       "215  AV. SETE DE SETEMBRO, 628 - CENTRO, TRÊS CORAÇ...  52121   \n",
       "216  AV. SETE DE SETEMBRO, 628 - CENTRO, TRÊS CORAÇ...  52121   \n",
       "217  AV. SETE DE SETEMBRO, 628 - CENTRO, TRÊS CORAÇ...  52121   \n",
       "218  AV. SETE DE SETEMBRO, 628 - CENTRO, TRÊS CORAÇ...  52121   \n",
       "219  AV. SETE DE SETEMBRO, 628 - CENTRO, TRÊS CORAÇ...  52121   \n",
       "220  AV. SETE DE SETEMBRO, 628 - CENTRO, TRÊS CORAÇ...  52121   \n",
       "221  AV. SETE DE SETEMBRO, 628 - CENTRO, TRÊS CORAÇ...  52121   \n",
       "222  ESCOLA DE SARGENTOS DAS ARMAS - AV. SETE DE SE...  52121   \n",
       "223  ESCOLA DE SARGENTOS DAS ARMAS - AV. SETE DE SE...  52121   \n",
       "224                      ESCOLA DE SARGENTOS DAS ARMAS  52121   \n",
       "225                      ESCOLA DE SARGENTOS DAS ARMAS  52121   \n",
       "226  ESCOLA DE SARGENTOS DAS ARMAS - AV. SETE DE SE...  52121   \n",
       "227  ESCOLA DE SARGENTOS DAS ARMAS  - AVENIDA SETE ...  52121   \n",
       "228  ESCOLA DE SARGENTOS DAS ARMAS  - AVENIDA SETE ...  52121   \n",
       "229  ESCOLA DE SARGENTOS DAS ARMAS  - AVENIDA SETE ...  52121   \n",
       "230  ESCOLA DE SARGENTOS DAS ARMAS - AV. SETE DE SE...  52121   \n",
       "231  ESCOLA DE SARGENTOS DAS ARMAS - AV. SETE DE SE...  52121   \n",
       "232  ESCOLA DE SARGENTOS DAS ARMAS - AV. SETE DE SE...  52121   \n",
       "233                      ESCOLA DE SARGENTOS DAS ARMAS  52121   \n",
       "234  ESCOLA DE SARGENTOS DAS ARMAS - AV. SETE DE SE...  52121   \n",
       "235  ESCOLA DE SARGENTOS DAS ARMAS - AV. SETE DE SE...  52121   \n",
       "236  ESCOLA DE SARGENTOS DAS ARMAS - AV. SETE DE SE...  52121   \n",
       "237  ESCOLA DE SARGENTOS DAS ARMAS - AV. SETE DE SE...  52121   \n",
       "238                      ESCOLA DE SARGENTOS DAS ARMAS  52121   \n",
       "239  ESCOLA DE SARGENTOS DAS ARMAS - AV. SETE DE SE...  52121   \n",
       "240                      ESCOLA DE SARGENTOS DAS ARMAS  52121   \n",
       "241  ESCOLA DE SARGENTOS DAS ARMAS - AV. SETE DE SE...  52121   \n",
       "242  ESCOLA DE SARGENTOS DAS ARMAS - AV. SETE DE SE...  52121   \n",
       "243  ESCOLA DE SARGENTOS DAS ARMAS - AV. SETE DE SE...  52121   \n",
       "244  ESCOLA DE SARGENTOS DAS ARMAS - AV. SETE DE SE...  52121   \n",
       "245  ESCOLA DE SARGENTOS DAS ARMAS - AV. SETE DE SE...  52121   \n",
       "246  ESCOLA DE SARGENTOS DAS ARMAS - AV. SETE DE SE...  52121   \n",
       "247  ESCOLA DE SARGENTOS DAS ARMAS - AV. SETE DE SE...  52121   \n",
       "248  ESCOLA DE SARGENTOS DAS ARMAS - AV. SETE DE SE...  52121   \n",
       "249  ESCOLA DE SARGENTOS DAS ARMAS - AV. SETE DE SE...  52121   \n",
       "250                      ESCOLA DE SARGENTOS DAS ARMAS  52121   \n",
       "251  ESCOLA DE SARGENTOS DAS ARMAS - AV. SETE DE SE...  52121   \n",
       "252                           AV. SETE DE SETEMBRO 628  52121   \n",
       "253  ESCOLA DE SARGENTOS DAS ARMAS - AV. SETE DE SE...  52121   \n",
       "254  ESCOLA DE SARGENTOS DAS ARMAS - AV. SETE DE SE...  52121   \n",
       "255  ESCOLA DE SARGENTOS DAS ARMAS - AV. SETE DE SE...  52121   \n",
       "256  ESCOLA DE SARGENTOS DAS ARMAS - AV. SETE DE SE...  52121   \n",
       "257  ESCOLA DE SARGENTOS DAS ARMAS - AV. SETE DE SE...  52121   \n",
       "258                  AV. SETE DE SETEMBRO,628 - CENTRO  52121   \n",
       "259  AV. SETE DE SETEMBRO, 628 - CENTRO, TRÊS CORAÇ...  52121   \n",
       "260  AV. SETE DE SETEMBRO, 628 - CENTRO, TRÊS CORAÇ...  52121   \n",
       "261  AV. SETE DE SETEMBRO, 628 - CENTRO, TRÊS CORAÇ...  52121   \n",
       "262  AV. SETE DE SETEMBRO, 628 - CENTRO, TRÊS CORAÇ...  52121   \n",
       "263  AV. SETE DE SETEMBRO, 628 - CENTRO, TRÊS CORAÇ...  52121   \n",
       "264  AV. SETE DE SETEMBRO, 628 - CENTRO, TRÊS CORAÇ...  52121   \n",
       "265  AV. SETE DE SETEMBRO, 628 - CENTRO, TRÊS CORAÇ...  52121   \n",
       "266  AV. SETE DE SETEMBRO, 628 - CENTRO, TRÊS CORAÇ...  52121   \n",
       "267  AV. SETE DE SETEMBRO, 628 - CENTRO, TRÊS CORAÇ...  52121   \n",
       "268  AV. SETE DE SETEMBRO, 628 - CENTRO, TRÊS CORAÇ...  52121   \n",
       "270                      ESCOLA DE SARGENTOS DAS ARMAS  52121   \n",
       "271                      ESCOLA DE SARGENTOS DAS ARMAS  52121   \n",
       "272                      ESCOLA DE SARGENTOS DAS ARMAS  52121   \n",
       "273                      ESCOLA DE SARGENTOS DAS ARMAS  52121   \n",
       "274                      ESCOLA DE SARGENTOS DAS ARMAS  52121   \n",
       "275                      ESCOLA DE SARGENTOS DAS ARMAS  52121   \n",
       "276                      ESCOLA DE SARGENTOS DAS ARMAS  52121   \n",
       "277                      ESCOLA DE SARGENTOS DAS ARMAS  52121   \n",
       "343  ESCOLA DE SARGENTOS DAS ARMAS  - AVENIDA SETE ...  52121   \n",
       "344                      ESCOLA DE SARGENTOS DAS ARMAS  52121   \n",
       "345                      ESCOLA DE SARGENTOS DAS ARMAS  52121   \n",
       "346                      ESCOLA DE SARGENTOS DAS ARMAS  52121   \n",
       "347                      ESCOLA DE SARGENTOS DAS ARMAS  52121   \n",
       "348  ESCOLA DE SARGENTOS DAS ARMAS  - AVENIDA SETE ...  52121   \n",
       "349  ESCOLA DE SARGENTOS DAS ARMAS  - AVENIDA SETE ...  52121   \n",
       "752  ESCOLA DE SARGENTOS DAS ARMAS - AV. SETE DE SE...  52121   \n",
       "753  ESCOLA DE SARGENTOS DAS ARMAS - AV. SETE DE SE...  52121   \n",
       "754  ESCOLA DE SARGENTOS DAS ARMAS - AV. SETE DE SE...  52121   \n",
       "755  ESCOLA DE SARGENTOS DAS ARMAS - AV. SETE DE SE...  52121   \n",
       "756                      ESCOLA DE SARGENTOS DAS ARMAS  52121   \n",
       "757                      ESCOLA DE SARGENTOS DAS ARMAS  52121   \n",
       "758                      ESCOLA DE SARGENTOS DAS ARMAS  52121   \n",
       "759                      ESCOLA DE SARGENTOS DAS ARMAS  52121   \n",
       "760  ESCOLA DE SARGENTOS DAS ARMAS - AV. SETE DE SE...  52121   \n",
       "761  ESCOLA DE SARGENTOS DAS ARMAS - AV. SETE DE SE...  52121   \n",
       "762  ESCOLA DE SARGENTOS DAS ARMAS - AV. SETE DE SE...  52121   \n",
       "763  ESCOLA DE SARGENTOS DAS ARMAS - AV. SETE DE SE...  52121   \n",
       "764  ESCOLA DE SARGENTOS DAS ARMAS - AV. SETE DE SE...  52121   \n",
       "765  ESCOLA DE SARGENTOS DAS ARMAS - AV. SETE DE SE...  52121   \n",
       "766  ESCOLA DE SARGENTOS DAS ARMAS - AV. SETE DE SE...  52121   \n",
       "767  ESCOLA DE SARGENTOS DAS ARMAS - AV. SETE DE SE...  52121   \n",
       "768                      ESCOLA DE SARGENTOS DAS ARMAS  52121   \n",
       "769  ESCOLA DE SARGENTOS DAS ARMAS - AV. SETE DE SE...  52121   \n",
       "770  ESCOLA DE SARGENTOS DAS ARMAS - AV. SETE DE SE...  52121   \n",
       "771  ESCOLA DE SARGENTOS DAS ARMAS - AV. SETE DE SE...  52121   \n",
       "772  ESCOLA DE SARGENTOS DAS ARMAS - AV. SETE DE SE...  52121   \n",
       "773  ESCOLA DE SARGENTOS DAS ARMAS - AV. SETE DE SE...  52121   \n",
       "774  ESCOLA DE SARGENTOS DAS ARMAS - AV. SETE DE SE...  52121   \n",
       "775                      ESCOLA DE SARGENTOS DAS ARMAS  52121   \n",
       "776  ESCOLA DE SARGENTOS DAS ARMAS - AV. SETE DE SE...  52121   \n",
       "777  ESCOLA DE SARGENTOS DAS ARMAS - AV. SETE DE SE...  52121   \n",
       "778  ESCOLA DE SARGENTOS DAS ARMAS - AV. SETE DE SE...  52121   \n",
       "779                      ESCOLA DE SARGENTOS DAS ARMAS  52121   \n",
       "780  ESCOLA DE SARGENTOS DAS ARMAS - AV. SETE DE SE...  52121   \n",
       "781  ESCOLA DE SARGENTOS DAS ARMAS - AV. SETE DE SE...  52121   \n",
       "782  ESCOLA DE SARGENTOS DAS ARMAS - AV. SETE DE SE...  52121   \n",
       "783  ESCOLA DE SARGENTOS DAS ARMAS - AV. SETE DE SE...  52121   \n",
       "784  ESCOLA DE SARGENTOS DAS ARMAS - AV. SETE DE SE...  52121   \n",
       "785  ESCOLA DE SARGENTOS DAS ARMAS - AV. SETE DE SE...  52121   \n",
       "786                      ESCOLA DE SARGENTOS DAS ARMAS  52121   \n",
       "787  ESCOLA DE SARGENTOS DAS ARMAS - AV. SETE DE SE...  52121   \n",
       "788  ESCOLA DE SARGENTOS DAS ARMAS - AV. SETE DE SE...  52121   \n",
       "789                      ESCOLA DE SARGENTOS DAS ARMAS  52121   \n",
       "790  ESCOLA DE SARGENTOS DAS ARMAS - AV. SETE DE SE...  52121   \n",
       "791  ESCOLA DE SARGENTOS DAS ARMAS - AV. SETE DE SE...  52121   \n",
       "792  ESCOLA DE SARGENTOS DAS ARMAS - AV. SETE DE SE...  52121   \n",
       "793  ESCOLA DE SARGENTOS DAS ARMAS - AV. SETE DE SE...  52121   \n",
       "794  ESCOLA DE SARGENTOS DAS ARMAS - AV. SETE DE SE...  52121   \n",
       "795  ESCOLA DE SARGENTOS DAS ARMAS - AV. SETE DE SE...  52121   \n",
       "796  ESCOLA DE SARGENTOS DAS ARMAS - AV. SETE DE SE...  52121   \n",
       "797  ESCOLA DE SARGENTOS DAS ARMAS - AV. SETE DE SE...  52121   \n",
       "798  ESCOLA DE SARGENTOS DAS ARMAS - AV. SETE DE SE...  52121   \n",
       "799  ESCOLA DE SARGENTOS DAS ARMAS - AV. SETE DE SE...  52121   \n",
       "800  ESCOLA DE SARGENTOS DAS ARMAS - AV. SETE DE SE...  52121   \n",
       "801  ESCOLA DE SARGENTOS DAS ARMAS - AV. SETE DE SE...  52121   \n",
       "802  ESCOLA DE SARGENTOS DAS ARMAS - AV. SETE DE SE...  52121   \n",
       "803  ESCOLA DE SARGENTOS DAS ARMAS - AV. SETE DE SE...  52121   \n",
       "804  ESCOLA DE SARGENTOS DAS ARMAS - AV. SETE DE SE...  52121   \n",
       "805  ESCOLA DE SARGENTOS DAS ARMAS - AV. SETE DE SE...  52121   \n",
       "806  ESCOLA DE SARGENTOS DAS ARMAS - AV. SETE DE SE...  52121   \n",
       "807  ESCOLA DE SARGENTOS DAS ARMAS - AV. SETE DE SE...  52121   \n",
       "808                      ESCOLA DE SARGENTOS DAS ARMAS  52121   \n",
       "809  ESCOLA DE SARGENTOS DAS ARMAS - AV. SETE DE SE...  52121   \n",
       "810                                                ESA  52121   \n",
       "811                                                ESA  52121   \n",
       "812                      ESCOLA DE SARGENTOS DAS ARMAS  52121   \n",
       "813                      ESCOLA DE SARGENTOS DAS ARMAS  52121   \n",
       "814  ESCOLA DE SARGENTOS DAS ARMAS - AV. SETE DE SE...  52121   \n",
       "815  ESCOLA DE SARGENTOS DAS ARMAS - AV. SETE DE SE...  52121   \n",
       "816  ESCOLA DE SARGENTOS DAS ARMAS - AV. SETE DE SE...  52121   \n",
       "817                      ESCOLA DE SARGENTOS DAS ARMAS  52121   \n",
       "818                      ESCOLA DE SARGENTOS DAS ARMAS  52121   \n",
       "819                      ESCOLA DE SARGENTOS DAS ARMAS  52121   \n",
       "820                      ESCOLA DE SARGENTOS DAS ARMAS  52121   \n",
       "821                      ESCOLA DE SARGENTOS DAS ARMAS  52121   \n",
       "822                      ESCOLA DE SARGENTOS DAS ARMAS  52121   \n",
       "823                      ESCOLA DE SARGENTOS DAS ARMAS  52121   \n",
       "824                      ESCOLA DE SARGENTOS DAS ARMAS  52121   \n",
       "825                      ESCOLA DE SARGENTOS DAS ARMAS  52121   \n",
       "\n",
       "                 NOME_UO RADPI4 MEIPI3 SUFPI4  A_LIQUIDAR  LIQUIDADO_A_PAGAR  \\\n",
       "168  COMANDO DO EXERCITO   E6SU    PLJ   A1QR        0.00               0.00   \n",
       "169  COMANDO DO EXERCITO   E6SU    PLJ   A1QR        0.00               0.00   \n",
       "170  COMANDO DO EXERCITO   E6SU    PLJ   A1QR     8761.50             441.94   \n",
       "171  COMANDO DO EXERCITO   E6SU    PLJ   A1QR    81430.00               0.00   \n",
       "172  COMANDO DO EXERCITO   E6SU    PLJ   A1QR        0.00              75.39   \n",
       "173  COMANDO DO EXERCITO   E6SU    PLJ   A1QR    26795.26               0.00   \n",
       "174  COMANDO DO EXERCITO   E6SU    PLJ   A1QR        0.00               0.00   \n",
       "175  COMANDO DO EXERCITO   E6SU    PLJ   A1QR        0.00               0.00   \n",
       "176  COMANDO DO EXERCITO   E6SU    PLJ   A1QR        0.00               0.00   \n",
       "177  COMANDO DO EXERCITO   E6SU    PLJ   A1QR        0.00               0.00   \n",
       "178  COMANDO DO EXERCITO   E6SU    PLJ   A1QR        0.00               0.00   \n",
       "179  COMANDO DO EXERCITO   E6SU    PLJ   A1QR    10235.56               0.00   \n",
       "180  COMANDO DO EXERCITO   E6SU    PLJ   A1QR        0.00               0.00   \n",
       "181  COMANDO DO EXERCITO   E6SU    PLJ   A1QR        0.00               0.00   \n",
       "182  COMANDO DO EXERCITO   E6SU    PLJ   A1QR        0.00               0.00   \n",
       "183  COMANDO DO EXERCITO   E6SU    PLJ   A1QR        0.00               0.00   \n",
       "184  COMANDO DO EXERCITO   E6SU    PLJ   A1QR        0.00               0.00   \n",
       "185  COMANDO DO EXERCITO   E6SU    PLJ   A1QR        0.00               0.00   \n",
       "186  COMANDO DO EXERCITO   E6SU    PLJ   A1QR        0.00               0.00   \n",
       "187  COMANDO DO EXERCITO   E6SU    PLJ   A1QR        0.00               0.00   \n",
       "188  COMANDO DO EXERCITO   E6SU    PLJ   A1QR        0.00               0.00   \n",
       "189  COMANDO DO EXERCITO   E6SU    PLJ   A1QR        0.00               0.00   \n",
       "190  COMANDO DO EXERCITO   E6SU    PLJ   A1QR        0.00               0.00   \n",
       "191  COMANDO DO EXERCITO   E6SU    PLJ   A1QR        0.00               0.00   \n",
       "192  COMANDO DO EXERCITO   E6SU    PLJ   A1QR    21871.72               0.00   \n",
       "193  COMANDO DO EXERCITO   E6SU    PLJ   A1QR    28290.00               0.00   \n",
       "194  COMANDO DO EXERCITO   E6SU    PLJ   A1QR    46949.00               0.00   \n",
       "195  COMANDO DO EXERCITO   E6SU    PLJ   A1QR    23595.80               0.00   \n",
       "196  COMANDO DO EXERCITO   E6SU    PLJ   A1QR    35897.10               0.00   \n",
       "197  COMANDO DO EXERCITO   E6SU    PLJ   A1QR    10385.00               0.00   \n",
       "198  COMANDO DO EXERCITO   E6SU    PLJ   A1QR    33085.00               0.00   \n",
       "199  COMANDO DO EXERCITO   E6SU    PLJ   A1QR    69727.00               0.00   \n",
       "200  COMANDO DO EXERCITO   E6SU    PLJ   A1QR    55768.77               0.00   \n",
       "201  COMANDO DO EXERCITO   E6SU    PLJ   A1QR    35990.00               0.00   \n",
       "202  COMANDO DO EXERCITO   E6SU    PLJ   A1QR      610.00               0.00   \n",
       "203  COMANDO DO EXERCITO   E6SU    PLJ   A1QR    19360.00               0.00   \n",
       "204  COMANDO DO EXERCITO   E6SU    PLJ   A1QR    36712.75             944.19   \n",
       "205  COMANDO DO EXERCITO   E6SU    PLJ   A1QR    55166.05               0.00   \n",
       "206  COMANDO DO EXERCITO   E6SU    PLJ   A1QR    22572.00               0.00   \n",
       "207  COMANDO DO EXERCITO   E6SU    PLJ   A1QR     2460.00               0.00   \n",
       "208  COMANDO DO EXERCITO   E6SU    PLJ   A1QR    87168.50               0.00   \n",
       "209  COMANDO DO EXERCITO   E6SU    PLJ   A1QR    19048.55               0.00   \n",
       "210  COMANDO DO EXERCITO   E6SU    PLJ   A1QR    25368.50               0.00   \n",
       "211  COMANDO DO EXERCITO   E6SU    PLJ   A1QR       79.37               0.00   \n",
       "212  COMANDO DO EXERCITO   E6SU    PLJ   A1QR      143.40               0.00   \n",
       "213  COMANDO DO EXERCITO   E6SU    PLJ   A1QR       30.55               0.00   \n",
       "214  COMANDO DO EXERCITO   E6SU    PLJ   A1QR       51.09               0.00   \n",
       "215  COMANDO DO EXERCITO   E6SU    PLJ   A1QR      167.00               0.00   \n",
       "216  COMANDO DO EXERCITO   E6SU    PLJ   A3RR        0.00               0.00   \n",
       "217  COMANDO DO EXERCITO   E6SU    PLJ   A3RR        0.00             113.58   \n",
       "218  COMANDO DO EXERCITO   E6SU    PLJ   A3RR        0.00               0.00   \n",
       "219  COMANDO DO EXERCITO   E6SU    PLJ   A3RR        0.00               0.00   \n",
       "220  COMANDO DO EXERCITO   E6SU    PLJ   A3RR        0.00               0.00   \n",
       "221  COMANDO DO EXERCITO   E6SU    PLJ   A3RR        0.00               0.00   \n",
       "222  COMANDO DO EXERCITO   E6SU    PLJ   A5PA        0.00             209.11   \n",
       "223  COMANDO DO EXERCITO   E6SU    PLJ   A5PA        0.00               0.00   \n",
       "224  COMANDO DO EXERCITO   E6SU    PLJ   A5PA        0.00               0.00   \n",
       "225  COMANDO DO EXERCITO   E6SU    PLJ   A5PA        0.00               0.00   \n",
       "226  COMANDO DO EXERCITO   E6SU    PLJ   A5PA      387.60               0.00   \n",
       "227  COMANDO DO EXERCITO   E6SU    PLJ   A5PA        0.00               0.00   \n",
       "228  COMANDO DO EXERCITO   E6SU    PLJ   A5PA        0.00               0.00   \n",
       "229  COMANDO DO EXERCITO   E6SU    PLJ   A5PA        0.00               0.00   \n",
       "230  COMANDO DO EXERCITO   E6SU    PLJ   A5PA        0.00               0.00   \n",
       "231  COMANDO DO EXERCITO   E6SU    PLJ   A5PA        0.00               0.00   \n",
       "232  COMANDO DO EXERCITO   E6SU    PLJ   A5PA        0.00               0.00   \n",
       "233  COMANDO DO EXERCITO   E6SU    PLJ   A5PA        0.00               0.00   \n",
       "234  COMANDO DO EXERCITO   E6SU    PLJ   A5PA        0.00             590.85   \n",
       "235  COMANDO DO EXERCITO   E6SU    PLJ   A5PA        0.00               0.00   \n",
       "236  COMANDO DO EXERCITO   E6SU    PLJ   A5PA        0.00             189.60   \n",
       "237  COMANDO DO EXERCITO   E6SU    PLJ   A5PA        0.00               0.00   \n",
       "238  COMANDO DO EXERCITO   E6SU    PLJ   A5PA        0.00             325.55   \n",
       "239  COMANDO DO EXERCITO   E6SU    PLJ   A5PA        0.00               0.00   \n",
       "240  COMANDO DO EXERCITO   E6SU    PLJ   A5PA        0.00               0.00   \n",
       "241  COMANDO DO EXERCITO   E6SU    PLJ   A5PA    12761.25               0.00   \n",
       "242  COMANDO DO EXERCITO   E6SU    PLJ   A5PA     1690.00               0.00   \n",
       "243  COMANDO DO EXERCITO   E6SU    PLJ   A5PA     4600.00               0.00   \n",
       "244  COMANDO DO EXERCITO   E6SU    PLJ   A5PA     4680.00               0.00   \n",
       "245  COMANDO DO EXERCITO   E6SU    PLJ   A5PA     1246.70               0.00   \n",
       "246  COMANDO DO EXERCITO   E6SU    PLJ   A5PA      180.00               0.00   \n",
       "247  COMANDO DO EXERCITO   E6SU    PLJ   A5PA      790.00               0.00   \n",
       "248  COMANDO DO EXERCITO   E6SU    PLJ   A5PA        0.00               0.00   \n",
       "249  COMANDO DO EXERCITO   E6SU    PLJ   A5PA      680.00               0.00   \n",
       "250  COMANDO DO EXERCITO   E6SU    PLJ   A5PA     3349.50               0.00   \n",
       "251  COMANDO DO EXERCITO   E6SU    PLJ   A5PA        0.00             817.19   \n",
       "252  COMANDO DO EXERCITO   E6SU    PLJ   A5PA    17375.00               0.00   \n",
       "253  COMANDO DO EXERCITO   E6SU    PLJ   A5PA     2326.26               0.00   \n",
       "254  COMANDO DO EXERCITO   E6SU    PLJ   A5PA        0.00               0.00   \n",
       "255  COMANDO DO EXERCITO   E6SU    PLJ   A5PA        0.00               0.00   \n",
       "256  COMANDO DO EXERCITO   E6SU    PLJ   A5PA     8405.00               0.00   \n",
       "257  COMANDO DO EXERCITO   E6SU    PLJ   A5PA    18690.00               0.00   \n",
       "258  COMANDO DO EXERCITO   E6SU    PLJ   A5PA    20383.86               0.00   \n",
       "259  COMANDO DO EXERCITO   E6SU    PLJ   ESCO        0.00               0.00   \n",
       "260  COMANDO DO EXERCITO   E6SU    PLJ   ESCO        0.00               0.00   \n",
       "261  COMANDO DO EXERCITO   E6SU    PLJ   ESCO        0.00               0.00   \n",
       "262  COMANDO DO EXERCITO   E6SU    PLJ   ESCO        0.00               0.00   \n",
       "263  COMANDO DO EXERCITO   E6SU    PLJ   ESCO        0.00               0.00   \n",
       "264  COMANDO DO EXERCITO   E6SU    PLJ   ESCO        0.00               0.00   \n",
       "265  COMANDO DO EXERCITO   E6SU    PLJ   ESCO        0.00               0.00   \n",
       "266  COMANDO DO EXERCITO   E6SU    PLJ   ESCO    53364.10               0.00   \n",
       "267  COMANDO DO EXERCITO   E6SU    PLJ   ESCO    27317.00               0.00   \n",
       "268  COMANDO DO EXERCITO   E6SU    PLJ   ESCO      658.00               0.00   \n",
       "270  COMANDO DO EXERCITO   E6MI    PLJ   BIDS    10783.00               0.00   \n",
       "271  COMANDO DO EXERCITO   E6MI    PLJ   BIDS        0.00               0.00   \n",
       "272  COMANDO DO EXERCITO   E6MI    PLJ   UESC    47100.00               0.00   \n",
       "273  COMANDO DO EXERCITO   E6MI    PLJ   UESC        0.00               0.00   \n",
       "274  COMANDO DO EXERCITO   E6MI    PLJ   UESC        0.00               0.00   \n",
       "275  COMANDO DO EXERCITO   E6MI    PLJ   UESC     6660.00               0.00   \n",
       "276  COMANDO DO EXERCITO   E6MI    PLJ   UESC    21998.00               0.00   \n",
       "277  COMANDO DO EXERCITO   E6MI    PLJ   UHIS        0.00               0.00   \n",
       "343  COMANDO DO EXERCITO   E6MI    SOL   FM20        0.00               0.00   \n",
       "344  COMANDO DO EXERCITO   E5MM    SUN   COMP        0.00               0.00   \n",
       "345  COMANDO DO EXERCITO   E5MM    SUN   COMP        0.00               0.00   \n",
       "346  COMANDO DO EXERCITO   E5MM    SUN   COMP        0.00               0.00   \n",
       "347  COMANDO DO EXERCITO   E5MM    SUN   COMP        0.00               0.00   \n",
       "348  COMANDO DO EXERCITO   E6RV    PLJ   MTOE        0.00              45.36   \n",
       "349  COMANDO DO EXERCITO   E6RV    PLJ   MTOE      600.00             177.66   \n",
       "752  COMANDO DO EXERCITO   E5AR    PDR   COLU        0.00              58.97   \n",
       "753  COMANDO DO EXERCITO   E6RV    PLJ   ALEV   184680.00               0.00   \n",
       "754  COMANDO DO EXERCITO   E6RV    PLJ   ALEV   110808.00               0.00   \n",
       "755  COMANDO DO EXERCITO   E6RV    PLJ   ALIC        0.00             415.11   \n",
       "756  COMANDO DO EXERCITO   E6RV    PLJ   ALIE        0.00               0.00   \n",
       "757  COMANDO DO EXERCITO   E6RV    PLJ   ALIE        0.00              24.38   \n",
       "758  COMANDO DO EXERCITO   E6RV    PLJ   ALIE        0.00            1692.95   \n",
       "759  COMANDO DO EXERCITO   E6RV    PLJ   ALIE     6146.70               0.00   \n",
       "760  COMANDO DO EXERCITO   E6RV    PLJ   ALIE        0.00            2320.72   \n",
       "761  COMANDO DO EXERCITO   E6RV    PLJ   ALIE   114228.00               0.00   \n",
       "762  COMANDO DO EXERCITO   E6RV    PLJ   ALIE    68536.80               0.00   \n",
       "763  COMANDO DO EXERCITO   E6RV    PLJ   FER3     5880.00               0.00   \n",
       "764  COMANDO DO EXERCITO   E6RV    PLJ   FER3        0.00               0.00   \n",
       "765  COMANDO DO EXERCITO   E6RV    PLJ   FER3        0.00               0.00   \n",
       "766  COMANDO DO EXERCITO   E6RV    PLJ   FER3    15545.00               0.00   \n",
       "767  COMANDO DO EXERCITO   E6RV    PLJ   FER3     6789.00               0.00   \n",
       "768  COMANDO DO EXERCITO   E6RV    PLJ   MTOC        0.00               0.00   \n",
       "769  COMANDO DO EXERCITO   E6RV    PLJ   MTOC       94.65               0.00   \n",
       "770  COMANDO DO EXERCITO   E6RV    PLJ   MTOC     1693.17               0.00   \n",
       "771  COMANDO DO EXERCITO   E6RV    PLJ   MTOE     5603.20               0.00   \n",
       "772  COMANDO DO EXERCITO   E6RV    PLJ   MTOE        0.00               0.00   \n",
       "773  COMANDO DO EXERCITO   E6RV    PLJ   MTOE        0.00               0.00   \n",
       "774  COMANDO DO EXERCITO   E6RV    PLJ   MTOE        0.00               0.00   \n",
       "775  COMANDO DO EXERCITO   E6RV    PLJ   MTOE        0.00            1204.35   \n",
       "776  COMANDO DO EXERCITO   E6RV    PLJ   MTOE        0.00               0.00   \n",
       "777  COMANDO DO EXERCITO   E6RV    PLJ   MTOE      183.30               0.00   \n",
       "778  COMANDO DO EXERCITO   E6RV    PLJ   MTOE      683.50               0.00   \n",
       "779  COMANDO DO EXERCITO   E6RV    PLJ   MTOE     1170.10               0.00   \n",
       "780  COMANDO DO EXERCITO   E6RV    PLJ   OUT4     3492.58               0.00   \n",
       "781  COMANDO DO EXERCITO   E6RV    PLJ   OUT4    11344.79               0.00   \n",
       "782  COMANDO DO EXERCITO   E6RV    PLJ   OUT4      958.00               0.00   \n",
       "783  COMANDO DO EXERCITO   E6RV    PLJ   OUT4     1209.80               0.00   \n",
       "784  COMANDO DO EXERCITO   E6RV    PLJ   OUT4     4060.00               0.00   \n",
       "785  COMANDO DO EXERCITO   E6RV    PLJ   OUT4      427.66               0.00   \n",
       "786  COMANDO DO EXERCITO   E6RV    PLJ   OUT4     2458.40               0.00   \n",
       "787  COMANDO DO EXERCITO   E6RV    PLJ   OUT4     2995.78               0.00   \n",
       "788  COMANDO DO EXERCITO   E6RV    PLJ   OUT4     1920.00               0.00   \n",
       "789  COMANDO DO EXERCITO   E6MI    PLJ   FM20     6889.47               0.00   \n",
       "790  COMANDO DO EXERCITO   E6MI    PLJ   INMU     1439.00               0.00   \n",
       "791  COMANDO DO EXERCITO   E6MI    PLJ   INMU    23205.30               0.00   \n",
       "792  COMANDO DO EXERCITO   E6MI    PLJ   INMU     2288.00               0.00   \n",
       "793  COMANDO DO EXERCITO   E6MI    PLJ   INMU     6791.70               0.00   \n",
       "794  COMANDO DO EXERCITO   E6MI    PLJ   INMU     4252.86               0.00   \n",
       "795  COMANDO DO EXERCITO   E6MI    PLJ   INMU     1056.60               0.00   \n",
       "796  COMANDO DO EXERCITO   E6MI    PLJ   INMU     1110.90               0.00   \n",
       "797  COMANDO DO EXERCITO   E6MI    PLJ   INMU     2675.54               0.00   \n",
       "798  COMANDO DO EXERCITO   E6MI    PLJ   INMU     8284.00               0.00   \n",
       "799  COMANDO DO EXERCITO   E6MI    PLJ   INMU      759.20               0.00   \n",
       "800  COMANDO DO EXERCITO   E6MI    PLJ   INMU     1024.00               0.00   \n",
       "801  COMANDO DO EXERCITO   E6MI    PLJ   INMU     9470.00               0.00   \n",
       "802  COMANDO DO EXERCITO   E6MI    PLJ   INMU     6916.00               0.00   \n",
       "803  COMANDO DO EXERCITO   E6MI    PLJ   MMTH     2000.00               0.00   \n",
       "804  COMANDO DO EXERCITO   E6MI    PLJ   MMTH     2150.00               0.00   \n",
       "805  COMANDO DO EXERCITO   E6MI    PLJ   MMTH    14676.80               0.00   \n",
       "806  COMANDO DO EXERCITO   E6MI    PLJ   MMTH     1212.78               0.00   \n",
       "807  COMANDO DO EXERCITO   E6MI    PLJ   MMTH     4170.00               0.00   \n",
       "808  COMANDO DO EXERCITO   E6MI    PLJ   MMTH     4410.00               0.00   \n",
       "809  COMANDO DO EXERCITO   E5MB    GRM   DEGE    57073.17               0.00   \n",
       "810  COMANDO DO EXERCITO   E5MB    SUN   PASS        0.00              25.57   \n",
       "811  COMANDO DO EXERCITO   E5MB    SUN   PASS        0.00              26.10   \n",
       "812  COMANDO DO EXERCITO   E5MB    SUN   PREV    64999.95               0.00   \n",
       "813  COMANDO DO EXERCITO   E5MB    SUN   PREV        0.00             772.90   \n",
       "814  COMANDO DO EXERCITO   E5MM    GRM   DEGE    18049.89               0.00   \n",
       "815  COMANDO DO EXERCITO   E5MM    GRM   DEGE    14999.96               0.00   \n",
       "816  COMANDO DO EXERCITO   E5MM    GRM   DEGE     6324.00               0.00   \n",
       "817  COMANDO DO EXERCITO   E5MM    PDR   DEGE        0.00            1516.12   \n",
       "818  COMANDO DO EXERCITO   E5MM    SUN   PREV    70000.00               0.00   \n",
       "819  COMANDO DO EXERCITO   E5MM    SUN   PREV        0.00               0.00   \n",
       "820  COMANDO DO EXERCITO   E5MM    SUN   PREV     5499.63               0.00   \n",
       "821  COMANDO DO EXERCITO   E5MM    SUN   PREV    14999.61               0.00   \n",
       "822  COMANDO DO EXERCITO   E5MM    SUN   PREV     8224.04               0.00   \n",
       "823  COMANDO DO EXERCITO   E5MM    SUN   PREV    17856.00               0.00   \n",
       "824  COMANDO DO EXERCITO   E5MM    SUN   PREV        0.00              87.06   \n",
       "825  COMANDO DO EXERCITO   E5MM    SUN   PREV      936.32               0.00   \n",
       "\n",
       "     TOTAL_A_PAGAR       PAGO  \n",
       "168           0.00   32293.80  \n",
       "169           0.00   12020.00  \n",
       "170        9203.44  161314.16  \n",
       "171       81430.00       0.00  \n",
       "172          75.39    6004.61  \n",
       "173       26795.26       0.00  \n",
       "174           0.00   36332.12  \n",
       "175           0.00     579.94  \n",
       "176           0.00    2424.80  \n",
       "177           0.00    6809.14  \n",
       "178           0.00   19027.79  \n",
       "179       10235.56  207411.71  \n",
       "180           0.00   71580.00  \n",
       "181           0.00  109442.72  \n",
       "182           0.00    3585.00  \n",
       "183           0.00   16820.20  \n",
       "184           0.00    1220.00  \n",
       "185           0.00   18766.46  \n",
       "186           0.00   61080.90  \n",
       "187           0.00   37933.50  \n",
       "188           0.00   60796.09  \n",
       "189           0.00    2220.00  \n",
       "190           0.00    2028.00  \n",
       "191           0.00   12816.00  \n",
       "192       21871.72   25478.08  \n",
       "193       28290.00       0.00  \n",
       "194       46949.00       0.00  \n",
       "195       23595.80       0.00  \n",
       "196       35897.10       0.00  \n",
       "197       10385.00       0.00  \n",
       "198       33085.00       0.00  \n",
       "199       69727.00       0.00  \n",
       "200       55768.77       0.00  \n",
       "201       35990.00       0.00  \n",
       "202         610.00       0.00  \n",
       "203       19360.00       0.00  \n",
       "204       37656.94   15195.81  \n",
       "205       55166.05       0.00  \n",
       "206       22572.00       0.00  \n",
       "207        2460.00       0.00  \n",
       "208       87168.50       0.00  \n",
       "209       19048.55       0.00  \n",
       "210       25368.50       0.00  \n",
       "211          79.37       0.00  \n",
       "212         143.40       0.00  \n",
       "213          30.55       0.00  \n",
       "214          51.09       0.00  \n",
       "215         167.00       0.00  \n",
       "216           0.00    3961.83  \n",
       "217         113.58    6388.50  \n",
       "218           0.00    3180.00  \n",
       "219           0.00     799.00  \n",
       "220           0.00    2999.20  \n",
       "221           0.00     555.22  \n",
       "222         209.11    3365.49  \n",
       "223           0.00    8064.40  \n",
       "224           0.00    5460.00  \n",
       "225           0.00    6187.00  \n",
       "226         387.60       0.00  \n",
       "227           0.00      24.00  \n",
       "228           0.00    1908.00  \n",
       "229           0.00    1111.00  \n",
       "230           0.00   16915.00  \n",
       "231           0.00    4735.90  \n",
       "232           0.00    1876.67  \n",
       "233           0.00     600.00  \n",
       "234         590.85    9509.15  \n",
       "235           0.00    1921.00  \n",
       "236         189.60    3051.40  \n",
       "237           0.00    5070.00  \n",
       "238         325.55    5239.45  \n",
       "239           0.00    1360.00  \n",
       "240           0.00    8853.00  \n",
       "241       12761.25       0.00  \n",
       "242        1690.00       0.00  \n",
       "243        4600.00       0.00  \n",
       "244        4680.00       0.00  \n",
       "245        1246.70       0.00  \n",
       "246         180.00       0.00  \n",
       "247         790.00       0.00  \n",
       "248           0.00    8613.12  \n",
       "249         680.00       0.00  \n",
       "250        3349.50       0.00  \n",
       "251         817.19   13151.81  \n",
       "252       17375.00       0.00  \n",
       "253        2326.26       0.00  \n",
       "254           0.00    1989.00  \n",
       "255           0.00    4986.00  \n",
       "256        8405.00       0.00  \n",
       "257       18690.00       0.00  \n",
       "258       20383.86       0.00  \n",
       "259           0.00   21113.25  \n",
       "260           0.00    3519.48  \n",
       "261           0.00    8300.00  \n",
       "262           0.00    9090.00  \n",
       "263           0.00     518.00  \n",
       "264           0.00   36024.35  \n",
       "265           0.00    6995.00  \n",
       "266       53364.10       0.00  \n",
       "267       27317.00       0.00  \n",
       "268         658.00       0.00  \n",
       "270       10783.00       0.00  \n",
       "271           0.00   11970.00  \n",
       "272       47100.00       0.00  \n",
       "273           0.00    5370.00  \n",
       "274           0.00     747.00  \n",
       "275        6660.00       0.00  \n",
       "276       21998.00       0.00  \n",
       "277           0.00   19799.00  \n",
       "343           0.00  229920.00  \n",
       "344           0.00    7999.64  \n",
       "345           0.00   14999.88  \n",
       "346           0.00    5999.76  \n",
       "347           0.00   19999.70  \n",
       "348          45.36     434.64  \n",
       "349         777.66    1702.34  \n",
       "752          58.97     949.03  \n",
       "753      184680.00       0.00  \n",
       "754      110808.00       0.00  \n",
       "755         415.11    6680.79  \n",
       "756           0.00   39671.76  \n",
       "757          24.38     392.41  \n",
       "758        1692.95   56156.45  \n",
       "759        6146.70       0.00  \n",
       "760        2320.72   37349.68  \n",
       "761      114228.00       0.00  \n",
       "762       68536.80       0.00  \n",
       "763        5880.00       0.00  \n",
       "764           0.00    5916.80  \n",
       "765           0.00    2576.00  \n",
       "766       15545.00       0.00  \n",
       "767        6789.00       0.00  \n",
       "768           0.00    1322.80  \n",
       "769          94.65       0.00  \n",
       "770        1693.17       0.00  \n",
       "771        5603.20       0.00  \n",
       "772           0.00    5375.90  \n",
       "773           0.00   13830.00  \n",
       "774           0.00   15770.65  \n",
       "775        1204.35       0.00  \n",
       "776           0.00    1621.74  \n",
       "777         183.30       0.00  \n",
       "778         683.50       0.00  \n",
       "779        1170.10       0.00  \n",
       "780        3492.58       0.00  \n",
       "781       11344.79       0.00  \n",
       "782         958.00       0.00  \n",
       "783        1209.80       0.00  \n",
       "784        4060.00       0.00  \n",
       "785         427.66       0.00  \n",
       "786        2458.40       0.00  \n",
       "787        2995.78       0.00  \n",
       "788        1920.00       0.00  \n",
       "789        6889.47       0.00  \n",
       "790        1439.00       0.00  \n",
       "791       23205.30       0.00  \n",
       "792        2288.00       0.00  \n",
       "793        6791.70       0.00  \n",
       "794        4252.86       0.00  \n",
       "795        1056.60       0.00  \n",
       "796        1110.90       0.00  \n",
       "797        2675.54       0.00  \n",
       "798        8284.00       0.00  \n",
       "799         759.20       0.00  \n",
       "800        1024.00       0.00  \n",
       "801        9470.00       0.00  \n",
       "802        6916.00       0.00  \n",
       "803        2000.00       0.00  \n",
       "804        2150.00       0.00  \n",
       "805       14676.80       0.00  \n",
       "806        1212.78       0.00  \n",
       "807        4170.00       0.00  \n",
       "808        4410.00       0.00  \n",
       "809       57073.17       0.00  \n",
       "810          25.57     337.07  \n",
       "811          26.10     635.21  \n",
       "812       64999.95       0.00  \n",
       "813         772.90   12439.01  \n",
       "814       18049.89       0.00  \n",
       "815       14999.96       0.00  \n",
       "816        6324.00       0.00  \n",
       "817        1516.12   24400.47  \n",
       "818       70000.00       0.00  \n",
       "819           0.00   33455.84  \n",
       "820        5499.63       0.00  \n",
       "821       14999.61       0.00  \n",
       "822        8224.04       0.00  \n",
       "823       17856.00       0.00  \n",
       "824          87.06    1401.18  \n",
       "825         936.32       0.00  "
      ]
     },
     "execution_count": 36,
     "metadata": {},
     "output_type": "execute_result"
    }
   ],
   "source": [
    "df[df['NOME_UGR'] == 'COEX/GESTOR']"
   ]
  }
 ],
 "metadata": {
  "kernelspec": {
   "display_name": "base",
   "language": "python",
   "name": "python3"
  },
  "language_info": {
   "codemirror_mode": {
    "name": "ipython",
    "version": 3
   },
   "file_extension": ".py",
   "mimetype": "text/x-python",
   "name": "python",
   "nbconvert_exporter": "python",
   "pygments_lexer": "ipython3",
   "version": "3.11.9"
  },
  "orig_nbformat": 4
 },
 "nbformat": 4,
 "nbformat_minor": 2
}
