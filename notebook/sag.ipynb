{
 "cells": [
  {
   "cell_type": "markdown",
   "metadata": {},
   "source": [
    "# Criar VENV\n",
    "\n",
    "https://oandersonbm.medium.com/usando-python-no-vs-code-com-ambiente-virtual-venv-ecef7959b652"
   ]
  },
  {
   "cell_type": "code",
   "execution_count": 5,
   "metadata": {},
   "outputs": [],
   "source": [
    "import pandas as pd\n",
    "import plotly.express as px\n",
    "import plotly.graph_objects as go\n",
    "from datetime import datetime\n",
    "import locale\n",
    "\n",
    "# Definindo a configuração local para o Brasil (pt_BR)\n",
    "locale.setlocale(locale.LC_ALL, 'pt_BR')\n",
    "\n",
    "# Personalizando para ver todas as colunas do DataFrame\n",
    "pd.set_option('display.max_columns', None)"
   ]
  },
  {
   "cell_type": "markdown",
   "metadata": {},
   "source": [
    "# Base de dados"
   ]
  },
  {
   "cell_type": "code",
   "execution_count": 6,
   "metadata": {},
   "outputs": [],
   "source": [
    "# Realizando a junção dos 3 arquivos .CSV num único DataFrame\n",
    "\n",
    "# Caminhos para os arquivos .CSV\n",
    "caminho_1 = r\"base_dados\\Cel Manfrini.csv\"\n",
    "\n",
    "caminho_2 = r\"base_dados\\Cel Manfrini(1).csv\"\n",
    "\n",
    "caminho_3 = r\"base_dados\\Cel Manfrini(2).csv\"\n",
    "\n",
    "caminho_4 = r\"base_dados\\Cel Manfrini(3).csv\"\n",
    "\n",
    "\n",
    "# Leitura dos arquivos .CSV em DataFrames individuais\n",
    "df1 = pd.read_csv(caminho_1)\n",
    "df2 = pd.read_csv(caminho_2)\n",
    "df3 = pd.read_csv(caminho_3)\n",
    "df4 = pd.read_csv(caminho_4)\n",
    "\n",
    "# Concatenação dos DataFrames em um único DataFrame\n",
    "df = pd.concat([df1, df2, df3, df4], ignore_index=True)\n",
    "\n",
    "# Excluindo linhas que contenham a string \"Tela\" em qualquer coluna\n",
    "df = df[~df.apply(lambda row: row.astype(str).str.contains('Tela')).any(axis=1)]\n",
    "\n",
    "# Transformando o tipo de dado das colunas de valores monetários\n",
    "df['A_LIQUIDAR'] = df['A_LIQUIDAR'].apply(lambda x: float(x.replace('.', '').replace(',', '.')))\n",
    "df['LIQUIDADO_A_PAGAR'] = df['LIQUIDADO_A_PAGAR'].apply(lambda x: float(x.replace('.', '').replace(',', '.')))\n",
    "df['TOTAL_A_PAGAR'] = df['TOTAL_A_PAGAR'].apply(lambda x: float(x.replace('.', '').replace(',', '.')))\n",
    "df['PAGO'] = df['PAGO'].apply(lambda x: float(x.replace('.', '').replace(',', '.')))\n",
    "\n",
    "# Convertendo a coluna DATA para datetime\n",
    "df['DATA'] = pd.to_datetime(df['DATA'], format='%d/%m/%y')\n",
    "\n",
    "# Convertendo a coluna DIAS em número inteiro\n",
    "df['DIAS'] = df['DIAS'].astype(int)\n",
    "\n"
   ]
  },
  {
   "cell_type": "markdown",
   "metadata": {},
   "source": [
    "# Trabalhando com um DATAFRAME voltado para controle dos SALDOS"
   ]
  },
  {
   "cell_type": "code",
   "execution_count": 7,
   "metadata": {},
   "outputs": [],
   "source": [
    "df_saldos = df[['SIGLA UG', 'ANO', 'NOME_CREDOR', 'DATA', 'DIAS', 'ND','NDSI', 'NOME_NDSI', 'NE', 'PI', 'NOME_PI','TIPO', 'NOME_UGR', 'A_LIQUIDAR', 'LIQUIDADO_A_PAGAR', 'TOTAL_A_PAGAR', 'PAGO']]"
   ]
  },
  {
   "cell_type": "code",
   "execution_count": 8,
   "metadata": {},
   "outputs": [
    {
     "name": "stdout",
     "output_type": "stream",
     "text": [
      "O total pago pela ESA até o momento foi: R$ 23.713.415,99\n",
      "O total de saldo a liquidar pela ESA até o momento foi: R$ 6.342.223,34\n",
      "O total de saldo liquidado a pagar pela ESA até o momento foi: R$ 451.413,45\n",
      "O total de saldo a pagar pela ESA até o momento foi: R$ 6.793.636,79\n"
     ]
    }
   ],
   "source": [
    "# Saldos Totais\n",
    "total_pago = df['PAGO'].sum().round(2)\n",
    "total_a_liquidar = df['A_LIQUIDAR'].sum().round(2)\n",
    "total_liquidado_a_pagar = df['LIQUIDADO_A_PAGAR'].sum().round(2)\n",
    "total_a_pagar = df['TOTAL_A_PAGAR'].sum().round(2)\n",
    "\n",
    "\n",
    "print(f'O total pago pela ESA até o momento foi: {locale.currency(total_pago, grouping=True)}')\n",
    "print(f'O total de saldo a liquidar pela ESA até o momento foi: {locale.currency(total_a_liquidar, grouping=True)}')\n",
    "print(f'O total de saldo liquidado a pagar pela ESA até o momento foi: {locale.currency(total_liquidado_a_pagar, grouping=True)}')\n",
    "print(f'O total de saldo a pagar pela ESA até o momento foi: {locale.currency(total_a_pagar, grouping=True)}')"
   ]
  },
  {
   "cell_type": "code",
   "execution_count": 9,
   "metadata": {},
   "outputs": [
    {
     "data": {
      "application/vnd.plotly.v1+json": {
       "config": {
        "plotlyServerURL": "https://plot.ly"
       },
       "data": [
        {
         "alignmentgroup": "True",
         "cliponaxis": false,
         "legendgroup": "",
         "marker": {
          "color": [
           2963851.57,
           1276969.57,
           673732.77,
           381182.52,
           306243.48,
           256692.08999999997,
           250042.58,
           214747.64,
           11889.75,
           2992.6,
           2377.95,
           1500.82
          ],
          "coloraxis": "coloraxis",
          "pattern": {
           "shape": ""
          }
         },
         "name": "",
         "offsetgroup": "",
         "orientation": "v",
         "showlegend": false,
         "textposition": "outside",
         "texttemplate": "%{y:.3s}",
         "type": "bar",
         "x": [
          "339039",
          "339030",
          "339033",
          "339015",
          "449052",
          "339037",
          "339093",
          "339040",
          "339036",
          "339031",
          "339147",
          "339047"
         ],
         "xaxis": "x",
         "y": [
          2963851.57,
          1276969.57,
          673732.77,
          381182.52,
          306243.48,
          256692.08999999997,
          250042.58,
          214747.64,
          11889.75,
          2992.6,
          2377.95,
          1500.82
         ],
         "yaxis": "y"
        }
       ],
       "layout": {
        "barmode": "relative",
        "coloraxis": {
         "colorbar": {
          "title": {
           "text": "Saldo a liquidar"
          }
         },
         "colorscale": [
          [
           0,
           "rgb(255,245,240)"
          ],
          [
           0.125,
           "rgb(254,224,210)"
          ],
          [
           0.25,
           "rgb(252,187,161)"
          ],
          [
           0.375,
           "rgb(252,146,114)"
          ],
          [
           0.5,
           "rgb(251,106,74)"
          ],
          [
           0.625,
           "rgb(239,59,44)"
          ],
          [
           0.75,
           "rgb(203,24,29)"
          ],
          [
           0.875,
           "rgb(165,15,21)"
          ],
          [
           1,
           "rgb(103,0,13)"
          ]
         ]
        },
        "height": 500,
        "hovermode": "x unified",
        "legend": {
         "tracegroupgap": 0
        },
        "template": {
         "data": {
          "bar": [
           {
            "error_x": {
             "color": "#f2f5fa"
            },
            "error_y": {
             "color": "#f2f5fa"
            },
            "marker": {
             "line": {
              "color": "rgb(17,17,17)",
              "width": 0.5
             },
             "pattern": {
              "fillmode": "overlay",
              "size": 10,
              "solidity": 0.2
             }
            },
            "type": "bar"
           }
          ],
          "barpolar": [
           {
            "marker": {
             "line": {
              "color": "rgb(17,17,17)",
              "width": 0.5
             },
             "pattern": {
              "fillmode": "overlay",
              "size": 10,
              "solidity": 0.2
             }
            },
            "type": "barpolar"
           }
          ],
          "carpet": [
           {
            "aaxis": {
             "endlinecolor": "#A2B1C6",
             "gridcolor": "#506784",
             "linecolor": "#506784",
             "minorgridcolor": "#506784",
             "startlinecolor": "#A2B1C6"
            },
            "baxis": {
             "endlinecolor": "#A2B1C6",
             "gridcolor": "#506784",
             "linecolor": "#506784",
             "minorgridcolor": "#506784",
             "startlinecolor": "#A2B1C6"
            },
            "type": "carpet"
           }
          ],
          "choropleth": [
           {
            "colorbar": {
             "outlinewidth": 0,
             "ticks": ""
            },
            "type": "choropleth"
           }
          ],
          "contour": [
           {
            "colorbar": {
             "outlinewidth": 0,
             "ticks": ""
            },
            "colorscale": [
             [
              0,
              "#0d0887"
             ],
             [
              0.1111111111111111,
              "#46039f"
             ],
             [
              0.2222222222222222,
              "#7201a8"
             ],
             [
              0.3333333333333333,
              "#9c179e"
             ],
             [
              0.4444444444444444,
              "#bd3786"
             ],
             [
              0.5555555555555556,
              "#d8576b"
             ],
             [
              0.6666666666666666,
              "#ed7953"
             ],
             [
              0.7777777777777778,
              "#fb9f3a"
             ],
             [
              0.8888888888888888,
              "#fdca26"
             ],
             [
              1,
              "#f0f921"
             ]
            ],
            "type": "contour"
           }
          ],
          "contourcarpet": [
           {
            "colorbar": {
             "outlinewidth": 0,
             "ticks": ""
            },
            "type": "contourcarpet"
           }
          ],
          "heatmap": [
           {
            "colorbar": {
             "outlinewidth": 0,
             "ticks": ""
            },
            "colorscale": [
             [
              0,
              "#0d0887"
             ],
             [
              0.1111111111111111,
              "#46039f"
             ],
             [
              0.2222222222222222,
              "#7201a8"
             ],
             [
              0.3333333333333333,
              "#9c179e"
             ],
             [
              0.4444444444444444,
              "#bd3786"
             ],
             [
              0.5555555555555556,
              "#d8576b"
             ],
             [
              0.6666666666666666,
              "#ed7953"
             ],
             [
              0.7777777777777778,
              "#fb9f3a"
             ],
             [
              0.8888888888888888,
              "#fdca26"
             ],
             [
              1,
              "#f0f921"
             ]
            ],
            "type": "heatmap"
           }
          ],
          "heatmapgl": [
           {
            "colorbar": {
             "outlinewidth": 0,
             "ticks": ""
            },
            "colorscale": [
             [
              0,
              "#0d0887"
             ],
             [
              0.1111111111111111,
              "#46039f"
             ],
             [
              0.2222222222222222,
              "#7201a8"
             ],
             [
              0.3333333333333333,
              "#9c179e"
             ],
             [
              0.4444444444444444,
              "#bd3786"
             ],
             [
              0.5555555555555556,
              "#d8576b"
             ],
             [
              0.6666666666666666,
              "#ed7953"
             ],
             [
              0.7777777777777778,
              "#fb9f3a"
             ],
             [
              0.8888888888888888,
              "#fdca26"
             ],
             [
              1,
              "#f0f921"
             ]
            ],
            "type": "heatmapgl"
           }
          ],
          "histogram": [
           {
            "marker": {
             "pattern": {
              "fillmode": "overlay",
              "size": 10,
              "solidity": 0.2
             }
            },
            "type": "histogram"
           }
          ],
          "histogram2d": [
           {
            "colorbar": {
             "outlinewidth": 0,
             "ticks": ""
            },
            "colorscale": [
             [
              0,
              "#0d0887"
             ],
             [
              0.1111111111111111,
              "#46039f"
             ],
             [
              0.2222222222222222,
              "#7201a8"
             ],
             [
              0.3333333333333333,
              "#9c179e"
             ],
             [
              0.4444444444444444,
              "#bd3786"
             ],
             [
              0.5555555555555556,
              "#d8576b"
             ],
             [
              0.6666666666666666,
              "#ed7953"
             ],
             [
              0.7777777777777778,
              "#fb9f3a"
             ],
             [
              0.8888888888888888,
              "#fdca26"
             ],
             [
              1,
              "#f0f921"
             ]
            ],
            "type": "histogram2d"
           }
          ],
          "histogram2dcontour": [
           {
            "colorbar": {
             "outlinewidth": 0,
             "ticks": ""
            },
            "colorscale": [
             [
              0,
              "#0d0887"
             ],
             [
              0.1111111111111111,
              "#46039f"
             ],
             [
              0.2222222222222222,
              "#7201a8"
             ],
             [
              0.3333333333333333,
              "#9c179e"
             ],
             [
              0.4444444444444444,
              "#bd3786"
             ],
             [
              0.5555555555555556,
              "#d8576b"
             ],
             [
              0.6666666666666666,
              "#ed7953"
             ],
             [
              0.7777777777777778,
              "#fb9f3a"
             ],
             [
              0.8888888888888888,
              "#fdca26"
             ],
             [
              1,
              "#f0f921"
             ]
            ],
            "type": "histogram2dcontour"
           }
          ],
          "mesh3d": [
           {
            "colorbar": {
             "outlinewidth": 0,
             "ticks": ""
            },
            "type": "mesh3d"
           }
          ],
          "parcoords": [
           {
            "line": {
             "colorbar": {
              "outlinewidth": 0,
              "ticks": ""
             }
            },
            "type": "parcoords"
           }
          ],
          "pie": [
           {
            "automargin": true,
            "type": "pie"
           }
          ],
          "scatter": [
           {
            "marker": {
             "line": {
              "color": "#283442"
             }
            },
            "type": "scatter"
           }
          ],
          "scatter3d": [
           {
            "line": {
             "colorbar": {
              "outlinewidth": 0,
              "ticks": ""
             }
            },
            "marker": {
             "colorbar": {
              "outlinewidth": 0,
              "ticks": ""
             }
            },
            "type": "scatter3d"
           }
          ],
          "scattercarpet": [
           {
            "marker": {
             "colorbar": {
              "outlinewidth": 0,
              "ticks": ""
             }
            },
            "type": "scattercarpet"
           }
          ],
          "scattergeo": [
           {
            "marker": {
             "colorbar": {
              "outlinewidth": 0,
              "ticks": ""
             }
            },
            "type": "scattergeo"
           }
          ],
          "scattergl": [
           {
            "marker": {
             "line": {
              "color": "#283442"
             }
            },
            "type": "scattergl"
           }
          ],
          "scattermapbox": [
           {
            "marker": {
             "colorbar": {
              "outlinewidth": 0,
              "ticks": ""
             }
            },
            "type": "scattermapbox"
           }
          ],
          "scatterpolar": [
           {
            "marker": {
             "colorbar": {
              "outlinewidth": 0,
              "ticks": ""
             }
            },
            "type": "scatterpolar"
           }
          ],
          "scatterpolargl": [
           {
            "marker": {
             "colorbar": {
              "outlinewidth": 0,
              "ticks": ""
             }
            },
            "type": "scatterpolargl"
           }
          ],
          "scatterternary": [
           {
            "marker": {
             "colorbar": {
              "outlinewidth": 0,
              "ticks": ""
             }
            },
            "type": "scatterternary"
           }
          ],
          "surface": [
           {
            "colorbar": {
             "outlinewidth": 0,
             "ticks": ""
            },
            "colorscale": [
             [
              0,
              "#0d0887"
             ],
             [
              0.1111111111111111,
              "#46039f"
             ],
             [
              0.2222222222222222,
              "#7201a8"
             ],
             [
              0.3333333333333333,
              "#9c179e"
             ],
             [
              0.4444444444444444,
              "#bd3786"
             ],
             [
              0.5555555555555556,
              "#d8576b"
             ],
             [
              0.6666666666666666,
              "#ed7953"
             ],
             [
              0.7777777777777778,
              "#fb9f3a"
             ],
             [
              0.8888888888888888,
              "#fdca26"
             ],
             [
              1,
              "#f0f921"
             ]
            ],
            "type": "surface"
           }
          ],
          "table": [
           {
            "cells": {
             "fill": {
              "color": "#506784"
             },
             "line": {
              "color": "rgb(17,17,17)"
             }
            },
            "header": {
             "fill": {
              "color": "#2a3f5f"
             },
             "line": {
              "color": "rgb(17,17,17)"
             }
            },
            "type": "table"
           }
          ]
         },
         "layout": {
          "annotationdefaults": {
           "arrowcolor": "#f2f5fa",
           "arrowhead": 0,
           "arrowwidth": 1
          },
          "autotypenumbers": "strict",
          "coloraxis": {
           "colorbar": {
            "outlinewidth": 0,
            "ticks": ""
           }
          },
          "colorscale": {
           "diverging": [
            [
             0,
             "#8e0152"
            ],
            [
             0.1,
             "#c51b7d"
            ],
            [
             0.2,
             "#de77ae"
            ],
            [
             0.3,
             "#f1b6da"
            ],
            [
             0.4,
             "#fde0ef"
            ],
            [
             0.5,
             "#f7f7f7"
            ],
            [
             0.6,
             "#e6f5d0"
            ],
            [
             0.7,
             "#b8e186"
            ],
            [
             0.8,
             "#7fbc41"
            ],
            [
             0.9,
             "#4d9221"
            ],
            [
             1,
             "#276419"
            ]
           ],
           "sequential": [
            [
             0,
             "#0d0887"
            ],
            [
             0.1111111111111111,
             "#46039f"
            ],
            [
             0.2222222222222222,
             "#7201a8"
            ],
            [
             0.3333333333333333,
             "#9c179e"
            ],
            [
             0.4444444444444444,
             "#bd3786"
            ],
            [
             0.5555555555555556,
             "#d8576b"
            ],
            [
             0.6666666666666666,
             "#ed7953"
            ],
            [
             0.7777777777777778,
             "#fb9f3a"
            ],
            [
             0.8888888888888888,
             "#fdca26"
            ],
            [
             1,
             "#f0f921"
            ]
           ],
           "sequentialminus": [
            [
             0,
             "#0d0887"
            ],
            [
             0.1111111111111111,
             "#46039f"
            ],
            [
             0.2222222222222222,
             "#7201a8"
            ],
            [
             0.3333333333333333,
             "#9c179e"
            ],
            [
             0.4444444444444444,
             "#bd3786"
            ],
            [
             0.5555555555555556,
             "#d8576b"
            ],
            [
             0.6666666666666666,
             "#ed7953"
            ],
            [
             0.7777777777777778,
             "#fb9f3a"
            ],
            [
             0.8888888888888888,
             "#fdca26"
            ],
            [
             1,
             "#f0f921"
            ]
           ]
          },
          "colorway": [
           "#636efa",
           "#EF553B",
           "#00cc96",
           "#ab63fa",
           "#FFA15A",
           "#19d3f3",
           "#FF6692",
           "#B6E880",
           "#FF97FF",
           "#FECB52"
          ],
          "font": {
           "color": "#f2f5fa"
          },
          "geo": {
           "bgcolor": "rgb(17,17,17)",
           "lakecolor": "rgb(17,17,17)",
           "landcolor": "rgb(17,17,17)",
           "showlakes": true,
           "showland": true,
           "subunitcolor": "#506784"
          },
          "hoverlabel": {
           "align": "left"
          },
          "hovermode": "closest",
          "mapbox": {
           "style": "dark"
          },
          "paper_bgcolor": "rgb(17,17,17)",
          "plot_bgcolor": "rgb(17,17,17)",
          "polar": {
           "angularaxis": {
            "gridcolor": "#506784",
            "linecolor": "#506784",
            "ticks": ""
           },
           "bgcolor": "rgb(17,17,17)",
           "radialaxis": {
            "gridcolor": "#506784",
            "linecolor": "#506784",
            "ticks": ""
           }
          },
          "scene": {
           "xaxis": {
            "backgroundcolor": "rgb(17,17,17)",
            "gridcolor": "#506784",
            "gridwidth": 2,
            "linecolor": "#506784",
            "showbackground": true,
            "ticks": "",
            "zerolinecolor": "#C8D4E3"
           },
           "yaxis": {
            "backgroundcolor": "rgb(17,17,17)",
            "gridcolor": "#506784",
            "gridwidth": 2,
            "linecolor": "#506784",
            "showbackground": true,
            "ticks": "",
            "zerolinecolor": "#C8D4E3"
           },
           "zaxis": {
            "backgroundcolor": "rgb(17,17,17)",
            "gridcolor": "#506784",
            "gridwidth": 2,
            "linecolor": "#506784",
            "showbackground": true,
            "ticks": "",
            "zerolinecolor": "#C8D4E3"
           }
          },
          "shapedefaults": {
           "line": {
            "color": "#f2f5fa"
           }
          },
          "sliderdefaults": {
           "bgcolor": "#C8D4E3",
           "bordercolor": "rgb(17,17,17)",
           "borderwidth": 1,
           "tickwidth": 0
          },
          "ternary": {
           "aaxis": {
            "gridcolor": "#506784",
            "linecolor": "#506784",
            "ticks": ""
           },
           "baxis": {
            "gridcolor": "#506784",
            "linecolor": "#506784",
            "ticks": ""
           },
           "bgcolor": "rgb(17,17,17)",
           "caxis": {
            "gridcolor": "#506784",
            "linecolor": "#506784",
            "ticks": ""
           }
          },
          "title": {
           "x": 0.05
          },
          "updatemenudefaults": {
           "bgcolor": "#506784",
           "borderwidth": 0
          },
          "xaxis": {
           "automargin": true,
           "gridcolor": "#283442",
           "linecolor": "#506784",
           "ticks": "",
           "title": {
            "standoff": 15
           },
           "zerolinecolor": "#283442",
           "zerolinewidth": 2
          },
          "yaxis": {
           "automargin": true,
           "gridcolor": "#283442",
           "linecolor": "#506784",
           "ticks": "",
           "title": {
            "standoff": 15
           },
           "zerolinecolor": "#283442",
           "zerolinewidth": 2
          }
         }
        },
        "title": {
         "text": "Saldo a liquidar por ND"
        },
        "xaxis": {
         "anchor": "y",
         "domain": [
          0,
          1
         ],
         "title": {
          "text": "Natureza da Despesa"
         }
        },
        "yaxis": {
         "anchor": "x",
         "domain": [
          0,
          1
         ],
         "title": {
          "text": "Saldo a liquidar"
         },
         "type": "log"
        }
       }
      }
     },
     "metadata": {},
     "output_type": "display_data"
    }
   ],
   "source": [
    "# Saldo a liquidar por ND\n",
    "cols = ['ND', 'A_LIQUIDAR']\n",
    "\n",
    "df_aux = df.loc[:, cols].groupby('ND').sum().sort_values(by= 'A_LIQUIDAR', ascending=False).reset_index()\n",
    "df_aux = df_aux[df_aux['A_LIQUIDAR'] > 0]\n",
    "fig = px.bar(df_aux, \n",
    "             x='ND', \n",
    "             y='A_LIQUIDAR',\n",
    "             title='Saldo a liquidar por ND',\n",
    "             labels={'ND':'Natureza da Despesa', 'A_LIQUIDAR':'Saldo a liquidar'},\n",
    "             text_auto='.3s',\n",
    "             height=500,\n",
    "             log_y=True,\n",
    "             color='A_LIQUIDAR',\n",
    "             color_continuous_scale = 'reds',\n",
    "             template='plotly_dark')\n",
    "fig.update_traces(textposition = 'outside', cliponaxis = False, hovertemplate=None)\n",
    "fig.update_layout(hovermode=\"x unified\")\n",
    "\n",
    "fig.show()"
   ]
  },
  {
   "cell_type": "code",
   "execution_count": 10,
   "metadata": {},
   "outputs": [
    {
     "data": {
      "application/vnd.plotly.v1+json": {
       "config": {
        "plotlyServerURL": "https://plot.ly"
       },
       "data": [
        {
         "alignmentgroup": "True",
         "cliponaxis": false,
         "legendgroup": "",
         "marker": {
          "color": [
           872557.73,
           737421.19,
           686598.41,
           518085.54000000004,
           344601.14,
           285868,
           259826.32,
           256692.08999999997,
           204618.28,
           199424.38,
           198997.04,
           180353.05,
           176770,
           174348.64,
           126518.1,
           116107.88,
           89034.79,
           86512.03,
           84230.48,
           80603,
           69000,
           65952.81,
           46980.86,
           42917,
           40161.64,
           36581.38,
           36127.45,
           26030.8,
           24059,
           23878.35,
           22000,
           18940,
           16500.47,
           13640.09,
           13509.55,
           13019.42,
           11969.05,
           11889.75,
           11698.16,
           10604.86,
           10129.36,
           9766,
           8506.45,
           7873.16,
           7500,
           7312.5,
           7173.360000000001,
           6407.9800000000005,
           6264,
           6220,
           5400,
           4473,
           2992.6,
           2670.94,
           2631.2,
           2377.95,
           1793,
           1619.3,
           1601.64,
           1500.82,
           1487.05,
           1290,
           384,
           220.29999999999998
          ],
          "coloraxis": "coloraxis",
          "pattern": {
           "shape": ""
          }
         },
         "name": "",
         "offsetgroup": "",
         "orientation": "v",
         "showlegend": false,
         "textposition": "outside",
         "texttemplate": "%{y:.3s}",
         "type": "bar",
         "x": [
          "33903916",
          "33903943",
          "33903007",
          "33903950",
          "33901514",
          "33903304",
          "33903963",
          "33903702",
          "33904016",
          "33903006",
          "33903922",
          "33903309",
          "33909314",
          "44905242",
          "33903974",
          "33903302",
          "33903024",
          "33903004",
          "33903301",
          "44905241",
          "33909302",
          "33903917",
          "33903017",
          "33903023",
          "33903946",
          "33901516",
          "33903947",
          "33903022",
          "44905251",
          "33903021",
          "33903959",
          "33903914",
          "33903944",
          "44905228",
          "33903039",
          "33903958",
          "33903018",
          "33903630",
          "33903012",
          "33903969",
          "33904012",
          "33903920",
          "44905212",
          "33903026",
          "33903996",
          "33903009",
          "33903303",
          "33903042",
          "33903016",
          "33903011",
          "33903912",
          "33903919",
          "33903101",
          "33909301",
          "33903019",
          "33914718",
          "44905238",
          "44905224",
          "33909318",
          "33904710",
          "33903028",
          "44905234",
          "44905204",
          "33903025"
         ],
         "xaxis": "x",
         "y": [
          872557.73,
          737421.19,
          686598.41,
          518085.54000000004,
          344601.14,
          285868,
          259826.32,
          256692.08999999997,
          204618.28,
          199424.38,
          198997.04,
          180353.05,
          176770,
          174348.64,
          126518.1,
          116107.88,
          89034.79,
          86512.03,
          84230.48,
          80603,
          69000,
          65952.81,
          46980.86,
          42917,
          40161.64,
          36581.38,
          36127.45,
          26030.8,
          24059,
          23878.35,
          22000,
          18940,
          16500.47,
          13640.09,
          13509.55,
          13019.42,
          11969.05,
          11889.75,
          11698.16,
          10604.86,
          10129.36,
          9766,
          8506.45,
          7873.16,
          7500,
          7312.5,
          7173.360000000001,
          6407.9800000000005,
          6264,
          6220,
          5400,
          4473,
          2992.6,
          2670.94,
          2631.2,
          2377.95,
          1793,
          1619.3,
          1601.64,
          1500.82,
          1487.05,
          1290,
          384,
          220.29999999999998
         ],
         "yaxis": "y"
        }
       ],
       "layout": {
        "barmode": "relative",
        "coloraxis": {
         "colorbar": {
          "title": {
           "text": "Saldo a liquidar"
          }
         },
         "colorscale": [
          [
           0,
           "rgb(255,245,240)"
          ],
          [
           0.125,
           "rgb(254,224,210)"
          ],
          [
           0.25,
           "rgb(252,187,161)"
          ],
          [
           0.375,
           "rgb(252,146,114)"
          ],
          [
           0.5,
           "rgb(251,106,74)"
          ],
          [
           0.625,
           "rgb(239,59,44)"
          ],
          [
           0.75,
           "rgb(203,24,29)"
          ],
          [
           0.875,
           "rgb(165,15,21)"
          ],
          [
           1,
           "rgb(103,0,13)"
          ]
         ]
        },
        "height": 600,
        "hovermode": "x unified",
        "legend": {
         "tracegroupgap": 0
        },
        "template": {
         "data": {
          "bar": [
           {
            "error_x": {
             "color": "#f2f5fa"
            },
            "error_y": {
             "color": "#f2f5fa"
            },
            "marker": {
             "line": {
              "color": "rgb(17,17,17)",
              "width": 0.5
             },
             "pattern": {
              "fillmode": "overlay",
              "size": 10,
              "solidity": 0.2
             }
            },
            "type": "bar"
           }
          ],
          "barpolar": [
           {
            "marker": {
             "line": {
              "color": "rgb(17,17,17)",
              "width": 0.5
             },
             "pattern": {
              "fillmode": "overlay",
              "size": 10,
              "solidity": 0.2
             }
            },
            "type": "barpolar"
           }
          ],
          "carpet": [
           {
            "aaxis": {
             "endlinecolor": "#A2B1C6",
             "gridcolor": "#506784",
             "linecolor": "#506784",
             "minorgridcolor": "#506784",
             "startlinecolor": "#A2B1C6"
            },
            "baxis": {
             "endlinecolor": "#A2B1C6",
             "gridcolor": "#506784",
             "linecolor": "#506784",
             "minorgridcolor": "#506784",
             "startlinecolor": "#A2B1C6"
            },
            "type": "carpet"
           }
          ],
          "choropleth": [
           {
            "colorbar": {
             "outlinewidth": 0,
             "ticks": ""
            },
            "type": "choropleth"
           }
          ],
          "contour": [
           {
            "colorbar": {
             "outlinewidth": 0,
             "ticks": ""
            },
            "colorscale": [
             [
              0,
              "#0d0887"
             ],
             [
              0.1111111111111111,
              "#46039f"
             ],
             [
              0.2222222222222222,
              "#7201a8"
             ],
             [
              0.3333333333333333,
              "#9c179e"
             ],
             [
              0.4444444444444444,
              "#bd3786"
             ],
             [
              0.5555555555555556,
              "#d8576b"
             ],
             [
              0.6666666666666666,
              "#ed7953"
             ],
             [
              0.7777777777777778,
              "#fb9f3a"
             ],
             [
              0.8888888888888888,
              "#fdca26"
             ],
             [
              1,
              "#f0f921"
             ]
            ],
            "type": "contour"
           }
          ],
          "contourcarpet": [
           {
            "colorbar": {
             "outlinewidth": 0,
             "ticks": ""
            },
            "type": "contourcarpet"
           }
          ],
          "heatmap": [
           {
            "colorbar": {
             "outlinewidth": 0,
             "ticks": ""
            },
            "colorscale": [
             [
              0,
              "#0d0887"
             ],
             [
              0.1111111111111111,
              "#46039f"
             ],
             [
              0.2222222222222222,
              "#7201a8"
             ],
             [
              0.3333333333333333,
              "#9c179e"
             ],
             [
              0.4444444444444444,
              "#bd3786"
             ],
             [
              0.5555555555555556,
              "#d8576b"
             ],
             [
              0.6666666666666666,
              "#ed7953"
             ],
             [
              0.7777777777777778,
              "#fb9f3a"
             ],
             [
              0.8888888888888888,
              "#fdca26"
             ],
             [
              1,
              "#f0f921"
             ]
            ],
            "type": "heatmap"
           }
          ],
          "heatmapgl": [
           {
            "colorbar": {
             "outlinewidth": 0,
             "ticks": ""
            },
            "colorscale": [
             [
              0,
              "#0d0887"
             ],
             [
              0.1111111111111111,
              "#46039f"
             ],
             [
              0.2222222222222222,
              "#7201a8"
             ],
             [
              0.3333333333333333,
              "#9c179e"
             ],
             [
              0.4444444444444444,
              "#bd3786"
             ],
             [
              0.5555555555555556,
              "#d8576b"
             ],
             [
              0.6666666666666666,
              "#ed7953"
             ],
             [
              0.7777777777777778,
              "#fb9f3a"
             ],
             [
              0.8888888888888888,
              "#fdca26"
             ],
             [
              1,
              "#f0f921"
             ]
            ],
            "type": "heatmapgl"
           }
          ],
          "histogram": [
           {
            "marker": {
             "pattern": {
              "fillmode": "overlay",
              "size": 10,
              "solidity": 0.2
             }
            },
            "type": "histogram"
           }
          ],
          "histogram2d": [
           {
            "colorbar": {
             "outlinewidth": 0,
             "ticks": ""
            },
            "colorscale": [
             [
              0,
              "#0d0887"
             ],
             [
              0.1111111111111111,
              "#46039f"
             ],
             [
              0.2222222222222222,
              "#7201a8"
             ],
             [
              0.3333333333333333,
              "#9c179e"
             ],
             [
              0.4444444444444444,
              "#bd3786"
             ],
             [
              0.5555555555555556,
              "#d8576b"
             ],
             [
              0.6666666666666666,
              "#ed7953"
             ],
             [
              0.7777777777777778,
              "#fb9f3a"
             ],
             [
              0.8888888888888888,
              "#fdca26"
             ],
             [
              1,
              "#f0f921"
             ]
            ],
            "type": "histogram2d"
           }
          ],
          "histogram2dcontour": [
           {
            "colorbar": {
             "outlinewidth": 0,
             "ticks": ""
            },
            "colorscale": [
             [
              0,
              "#0d0887"
             ],
             [
              0.1111111111111111,
              "#46039f"
             ],
             [
              0.2222222222222222,
              "#7201a8"
             ],
             [
              0.3333333333333333,
              "#9c179e"
             ],
             [
              0.4444444444444444,
              "#bd3786"
             ],
             [
              0.5555555555555556,
              "#d8576b"
             ],
             [
              0.6666666666666666,
              "#ed7953"
             ],
             [
              0.7777777777777778,
              "#fb9f3a"
             ],
             [
              0.8888888888888888,
              "#fdca26"
             ],
             [
              1,
              "#f0f921"
             ]
            ],
            "type": "histogram2dcontour"
           }
          ],
          "mesh3d": [
           {
            "colorbar": {
             "outlinewidth": 0,
             "ticks": ""
            },
            "type": "mesh3d"
           }
          ],
          "parcoords": [
           {
            "line": {
             "colorbar": {
              "outlinewidth": 0,
              "ticks": ""
             }
            },
            "type": "parcoords"
           }
          ],
          "pie": [
           {
            "automargin": true,
            "type": "pie"
           }
          ],
          "scatter": [
           {
            "marker": {
             "line": {
              "color": "#283442"
             }
            },
            "type": "scatter"
           }
          ],
          "scatter3d": [
           {
            "line": {
             "colorbar": {
              "outlinewidth": 0,
              "ticks": ""
             }
            },
            "marker": {
             "colorbar": {
              "outlinewidth": 0,
              "ticks": ""
             }
            },
            "type": "scatter3d"
           }
          ],
          "scattercarpet": [
           {
            "marker": {
             "colorbar": {
              "outlinewidth": 0,
              "ticks": ""
             }
            },
            "type": "scattercarpet"
           }
          ],
          "scattergeo": [
           {
            "marker": {
             "colorbar": {
              "outlinewidth": 0,
              "ticks": ""
             }
            },
            "type": "scattergeo"
           }
          ],
          "scattergl": [
           {
            "marker": {
             "line": {
              "color": "#283442"
             }
            },
            "type": "scattergl"
           }
          ],
          "scattermapbox": [
           {
            "marker": {
             "colorbar": {
              "outlinewidth": 0,
              "ticks": ""
             }
            },
            "type": "scattermapbox"
           }
          ],
          "scatterpolar": [
           {
            "marker": {
             "colorbar": {
              "outlinewidth": 0,
              "ticks": ""
             }
            },
            "type": "scatterpolar"
           }
          ],
          "scatterpolargl": [
           {
            "marker": {
             "colorbar": {
              "outlinewidth": 0,
              "ticks": ""
             }
            },
            "type": "scatterpolargl"
           }
          ],
          "scatterternary": [
           {
            "marker": {
             "colorbar": {
              "outlinewidth": 0,
              "ticks": ""
             }
            },
            "type": "scatterternary"
           }
          ],
          "surface": [
           {
            "colorbar": {
             "outlinewidth": 0,
             "ticks": ""
            },
            "colorscale": [
             [
              0,
              "#0d0887"
             ],
             [
              0.1111111111111111,
              "#46039f"
             ],
             [
              0.2222222222222222,
              "#7201a8"
             ],
             [
              0.3333333333333333,
              "#9c179e"
             ],
             [
              0.4444444444444444,
              "#bd3786"
             ],
             [
              0.5555555555555556,
              "#d8576b"
             ],
             [
              0.6666666666666666,
              "#ed7953"
             ],
             [
              0.7777777777777778,
              "#fb9f3a"
             ],
             [
              0.8888888888888888,
              "#fdca26"
             ],
             [
              1,
              "#f0f921"
             ]
            ],
            "type": "surface"
           }
          ],
          "table": [
           {
            "cells": {
             "fill": {
              "color": "#506784"
             },
             "line": {
              "color": "rgb(17,17,17)"
             }
            },
            "header": {
             "fill": {
              "color": "#2a3f5f"
             },
             "line": {
              "color": "rgb(17,17,17)"
             }
            },
            "type": "table"
           }
          ]
         },
         "layout": {
          "annotationdefaults": {
           "arrowcolor": "#f2f5fa",
           "arrowhead": 0,
           "arrowwidth": 1
          },
          "autotypenumbers": "strict",
          "coloraxis": {
           "colorbar": {
            "outlinewidth": 0,
            "ticks": ""
           }
          },
          "colorscale": {
           "diverging": [
            [
             0,
             "#8e0152"
            ],
            [
             0.1,
             "#c51b7d"
            ],
            [
             0.2,
             "#de77ae"
            ],
            [
             0.3,
             "#f1b6da"
            ],
            [
             0.4,
             "#fde0ef"
            ],
            [
             0.5,
             "#f7f7f7"
            ],
            [
             0.6,
             "#e6f5d0"
            ],
            [
             0.7,
             "#b8e186"
            ],
            [
             0.8,
             "#7fbc41"
            ],
            [
             0.9,
             "#4d9221"
            ],
            [
             1,
             "#276419"
            ]
           ],
           "sequential": [
            [
             0,
             "#0d0887"
            ],
            [
             0.1111111111111111,
             "#46039f"
            ],
            [
             0.2222222222222222,
             "#7201a8"
            ],
            [
             0.3333333333333333,
             "#9c179e"
            ],
            [
             0.4444444444444444,
             "#bd3786"
            ],
            [
             0.5555555555555556,
             "#d8576b"
            ],
            [
             0.6666666666666666,
             "#ed7953"
            ],
            [
             0.7777777777777778,
             "#fb9f3a"
            ],
            [
             0.8888888888888888,
             "#fdca26"
            ],
            [
             1,
             "#f0f921"
            ]
           ],
           "sequentialminus": [
            [
             0,
             "#0d0887"
            ],
            [
             0.1111111111111111,
             "#46039f"
            ],
            [
             0.2222222222222222,
             "#7201a8"
            ],
            [
             0.3333333333333333,
             "#9c179e"
            ],
            [
             0.4444444444444444,
             "#bd3786"
            ],
            [
             0.5555555555555556,
             "#d8576b"
            ],
            [
             0.6666666666666666,
             "#ed7953"
            ],
            [
             0.7777777777777778,
             "#fb9f3a"
            ],
            [
             0.8888888888888888,
             "#fdca26"
            ],
            [
             1,
             "#f0f921"
            ]
           ]
          },
          "colorway": [
           "#636efa",
           "#EF553B",
           "#00cc96",
           "#ab63fa",
           "#FFA15A",
           "#19d3f3",
           "#FF6692",
           "#B6E880",
           "#FF97FF",
           "#FECB52"
          ],
          "font": {
           "color": "#f2f5fa"
          },
          "geo": {
           "bgcolor": "rgb(17,17,17)",
           "lakecolor": "rgb(17,17,17)",
           "landcolor": "rgb(17,17,17)",
           "showlakes": true,
           "showland": true,
           "subunitcolor": "#506784"
          },
          "hoverlabel": {
           "align": "left"
          },
          "hovermode": "closest",
          "mapbox": {
           "style": "dark"
          },
          "paper_bgcolor": "rgb(17,17,17)",
          "plot_bgcolor": "rgb(17,17,17)",
          "polar": {
           "angularaxis": {
            "gridcolor": "#506784",
            "linecolor": "#506784",
            "ticks": ""
           },
           "bgcolor": "rgb(17,17,17)",
           "radialaxis": {
            "gridcolor": "#506784",
            "linecolor": "#506784",
            "ticks": ""
           }
          },
          "scene": {
           "xaxis": {
            "backgroundcolor": "rgb(17,17,17)",
            "gridcolor": "#506784",
            "gridwidth": 2,
            "linecolor": "#506784",
            "showbackground": true,
            "ticks": "",
            "zerolinecolor": "#C8D4E3"
           },
           "yaxis": {
            "backgroundcolor": "rgb(17,17,17)",
            "gridcolor": "#506784",
            "gridwidth": 2,
            "linecolor": "#506784",
            "showbackground": true,
            "ticks": "",
            "zerolinecolor": "#C8D4E3"
           },
           "zaxis": {
            "backgroundcolor": "rgb(17,17,17)",
            "gridcolor": "#506784",
            "gridwidth": 2,
            "linecolor": "#506784",
            "showbackground": true,
            "ticks": "",
            "zerolinecolor": "#C8D4E3"
           }
          },
          "shapedefaults": {
           "line": {
            "color": "#f2f5fa"
           }
          },
          "sliderdefaults": {
           "bgcolor": "#C8D4E3",
           "bordercolor": "rgb(17,17,17)",
           "borderwidth": 1,
           "tickwidth": 0
          },
          "ternary": {
           "aaxis": {
            "gridcolor": "#506784",
            "linecolor": "#506784",
            "ticks": ""
           },
           "baxis": {
            "gridcolor": "#506784",
            "linecolor": "#506784",
            "ticks": ""
           },
           "bgcolor": "rgb(17,17,17)",
           "caxis": {
            "gridcolor": "#506784",
            "linecolor": "#506784",
            "ticks": ""
           }
          },
          "title": {
           "x": 0.05
          },
          "updatemenudefaults": {
           "bgcolor": "#506784",
           "borderwidth": 0
          },
          "xaxis": {
           "automargin": true,
           "gridcolor": "#283442",
           "linecolor": "#506784",
           "ticks": "",
           "title": {
            "standoff": 15
           },
           "zerolinecolor": "#283442",
           "zerolinewidth": 2
          },
          "yaxis": {
           "automargin": true,
           "gridcolor": "#283442",
           "linecolor": "#506784",
           "ticks": "",
           "title": {
            "standoff": 15
           },
           "zerolinecolor": "#283442",
           "zerolinewidth": 2
          }
         }
        },
        "title": {
         "text": "Saldo a liquidar por NDSI"
        },
        "xaxis": {
         "anchor": "y",
         "domain": [
          0,
          1
         ],
         "title": {
          "text": "Subitem da despesa"
         }
        },
        "yaxis": {
         "anchor": "x",
         "domain": [
          0,
          1
         ],
         "title": {
          "text": "Saldo a liquidar"
         },
         "type": "log"
        }
       }
      }
     },
     "metadata": {},
     "output_type": "display_data"
    }
   ],
   "source": [
    "# Saldo a liquidar por Subitem\n",
    "cols = ['NDSI', 'A_LIQUIDAR']\n",
    "\n",
    "df_aux = df.loc[:, cols].groupby('NDSI').sum().sort_values(by= 'A_LIQUIDAR', ascending=False).reset_index()\n",
    "df_aux = df_aux[df_aux['A_LIQUIDAR'] > 0]\n",
    "fig = px.bar(df_aux, \n",
    "             x='NDSI', \n",
    "             y='A_LIQUIDAR',\n",
    "             title='Saldo a liquidar por NDSI',\n",
    "             labels={'NDSI':'Subitem da despesa', 'A_LIQUIDAR':'Saldo a liquidar'},\n",
    "             text_auto='.3s',\n",
    "             height=600,\n",
    "             log_y=True,\n",
    "             color='A_LIQUIDAR',\n",
    "             color_continuous_scale = 'reds',\n",
    "             template='plotly_dark')\n",
    "fig.update_traces(textposition = 'outside', cliponaxis = False, hovertemplate=None)\n",
    "fig.update_layout(hovermode=\"x unified\")\n",
    "\n",
    "fig.show()"
   ]
  },
  {
   "cell_type": "code",
   "execution_count": 11,
   "metadata": {},
   "outputs": [
    {
     "data": {
      "application/vnd.plotly.v1+json": {
       "config": {
        "plotlyServerURL": "https://plot.ly"
       },
       "data": [
        {
         "alignmentgroup": "True",
         "cliponaxis": false,
         "legendgroup": "",
         "marker": {
          "color": [
           1377357.44,
           825700.88,
           737421.19,
           689031.8500000001,
           484155.93,
           379577.12,
           285868,
           256692.08999999997,
           211817.55000000002,
           199424.38,
           97790.26,
           82368.44,
           71950.82,
           67723.59000000001,
           54340.07,
           52589.64,
           50552.45999999999,
           42237,
           36311.409999999996,
           36127.45,
           34988.64,
           30521.89,
           27181.85,
           22447.46,
           22100.15,
           16500.47,
           14549.05,
           14267.699999999999,
           12304.109999999999,
           9999.67,
           9860,
           9079.92,
           8645,
           8149.8,
           7312.5,
           5499.8,
           4831.96,
           4791.54,
           4591.27,
           4266.95,
           4259,
           3833.67,
           3509.88,
           2670.94,
           2482.95,
           2304,
           1668.64,
           1628.71,
           1601.64,
           1433.53,
           1411.77,
           1400.93,
           1103.9,
           687.8,
           470.96,
           447.72,
           380
          ],
          "coloraxis": "coloraxis",
          "pattern": {
           "shape": ""
          }
         },
         "name": "",
         "offsetgroup": "",
         "orientation": "v",
         "showlegend": false,
         "textposition": "outside",
         "texttemplate": "%{y:.3s}",
         "type": "bar",
         "x": [
          "CAPACITACAO DE PESSOAL",
          "AQUARTELAMENTO",
          "DESPESAS COM ENERGIA ELETRICA",
          "A1QR - QUANTITATIVO DE RANCHO",
          "ORGANIZACAO CIVIL DE SAUDE",
          "CONCURSOS AS ESCOLAS MILITARES",
          "ATS - ATIVIDADES SETORIAIS",
          "LIMPEZA DE BENS IMÓVEIS",
          "COLEGIO MILITAR - ADMINISTRACAO",
          "ALIMENTACAO PARA EQUINOS.",
          "ADMINISTRACAO DE OM",
          "OUTROS",
          "ESCO - QUANTITATIVO DE RANCHO",
          "PVANA",
          "A5PA - PASA",
          "ASSISTENCIA SOCIAL",
          "MNT DE MÁQ E EQP ADMINISTRATIVOS",
          "MATERIAL DE INTENDÊNCIA",
          "FUNADOM - DPGO",
          "SERVICO POSTAIS",
          "PNR (UG)",
          "FATOR DE CUSTO - CONTRATO DE OBJETIVOS",
          "ENSINO MILITAR",
          "REMONTA E VETERINÁRIA",
          "DIARIAS",
          "CONCESSIONÁRIAS DE ÁGUA E ESGOTO",
          "MEDIDAS PROFILÁT SAÚDE EQUINOS",
          "PROFISSIONAL DE SAUDE AUTONOMO",
          "FUNDO EXÉRCITO - DECEX",
          "MANUTENCAO DE BENS MOVEIS",
          "MANUTENCAO DE INSTALACOES",
          "SERVICO DE TELEFONIA FIXA",
          "MNT DE SISTEMAS DE INFORMACãO E COMUNICACãO",
          "APRESENTACAO E SELECAO",
          "MEDICAMENTOS DE ALTO CUSTO",
          "A3RR - QUANTITATIVO DE RANCHO",
          "DESLOCAMENTO",
          "LAVAGEM DE ROUPAS PARA A VIDA VEGETATIVA OM",
          "CRÉDITO PARA CUTEAR ATIVIDADES DO SAREX",
          "ENG-ATIVIDADES DE ENGENHARIA",
          "DESCENTRALIZACAO RECURSOS MOTOMECANIZACAO",
          "MANUTENCAO DE MAQUINAS E EQUIP ADMINISTRATIVO",
          "SUPRIMENTO E MANUTENCAO MOTOMECANIZACAO_BLIND",
          "IND - INDENIZACOES",
          "CAPACITACAO PROF MIL DO EB",
          "DIAR - DIARIAS",
          "DSLC A SV PREP ADM MIS EXT",
          "DESLOCAMENTO P CURSO PREP P COMANDANTES OM",
          "IND-INDENIZACOES",
          "UNPCRS",
          "FATOR DE CUSTO - DIARIAS E PASSAGEM",
          "SUPRIMENTO E MANUTENCAO - AR - PASSAGENS",
          "OPERACOES-PREPARO-DESLOCAMENTO",
          "CONCURSOS AS ESCOLAS MILITARES - ESPECEX",
          "PRE-PREPARO CDOUT",
          "SERVICOS DE PROTECAO A RADIACAO IONIZANTE",
          "MEDIDAS PROFILÁT SAÚDE CANINOS."
         ],
         "xaxis": "x",
         "y": [
          1377357.44,
          825700.88,
          737421.19,
          689031.8500000001,
          484155.93,
          379577.12,
          285868,
          256692.08999999997,
          211817.55000000002,
          199424.38,
          97790.26,
          82368.44,
          71950.82,
          67723.59000000001,
          54340.07,
          52589.64,
          50552.45999999999,
          42237,
          36311.409999999996,
          36127.45,
          34988.64,
          30521.89,
          27181.85,
          22447.46,
          22100.15,
          16500.47,
          14549.05,
          14267.699999999999,
          12304.109999999999,
          9999.67,
          9860,
          9079.92,
          8645,
          8149.8,
          7312.5,
          5499.8,
          4831.96,
          4791.54,
          4591.27,
          4266.95,
          4259,
          3833.67,
          3509.88,
          2670.94,
          2482.95,
          2304,
          1668.64,
          1628.71,
          1601.64,
          1433.53,
          1411.77,
          1400.93,
          1103.9,
          687.8,
          470.96,
          447.72,
          380
         ],
         "yaxis": "y"
        }
       ],
       "layout": {
        "barmode": "relative",
        "coloraxis": {
         "colorbar": {
          "title": {
           "text": "Saldo a liquidar"
          }
         },
         "colorscale": [
          [
           0,
           "rgb(255,245,240)"
          ],
          [
           0.125,
           "rgb(254,224,210)"
          ],
          [
           0.25,
           "rgb(252,187,161)"
          ],
          [
           0.375,
           "rgb(252,146,114)"
          ],
          [
           0.5,
           "rgb(251,106,74)"
          ],
          [
           0.625,
           "rgb(239,59,44)"
          ],
          [
           0.75,
           "rgb(203,24,29)"
          ],
          [
           0.875,
           "rgb(165,15,21)"
          ],
          [
           1,
           "rgb(103,0,13)"
          ]
         ]
        },
        "height": 800,
        "hovermode": "x unified",
        "legend": {
         "tracegroupgap": 0
        },
        "template": {
         "data": {
          "bar": [
           {
            "error_x": {
             "color": "#f2f5fa"
            },
            "error_y": {
             "color": "#f2f5fa"
            },
            "marker": {
             "line": {
              "color": "rgb(17,17,17)",
              "width": 0.5
             },
             "pattern": {
              "fillmode": "overlay",
              "size": 10,
              "solidity": 0.2
             }
            },
            "type": "bar"
           }
          ],
          "barpolar": [
           {
            "marker": {
             "line": {
              "color": "rgb(17,17,17)",
              "width": 0.5
             },
             "pattern": {
              "fillmode": "overlay",
              "size": 10,
              "solidity": 0.2
             }
            },
            "type": "barpolar"
           }
          ],
          "carpet": [
           {
            "aaxis": {
             "endlinecolor": "#A2B1C6",
             "gridcolor": "#506784",
             "linecolor": "#506784",
             "minorgridcolor": "#506784",
             "startlinecolor": "#A2B1C6"
            },
            "baxis": {
             "endlinecolor": "#A2B1C6",
             "gridcolor": "#506784",
             "linecolor": "#506784",
             "minorgridcolor": "#506784",
             "startlinecolor": "#A2B1C6"
            },
            "type": "carpet"
           }
          ],
          "choropleth": [
           {
            "colorbar": {
             "outlinewidth": 0,
             "ticks": ""
            },
            "type": "choropleth"
           }
          ],
          "contour": [
           {
            "colorbar": {
             "outlinewidth": 0,
             "ticks": ""
            },
            "colorscale": [
             [
              0,
              "#0d0887"
             ],
             [
              0.1111111111111111,
              "#46039f"
             ],
             [
              0.2222222222222222,
              "#7201a8"
             ],
             [
              0.3333333333333333,
              "#9c179e"
             ],
             [
              0.4444444444444444,
              "#bd3786"
             ],
             [
              0.5555555555555556,
              "#d8576b"
             ],
             [
              0.6666666666666666,
              "#ed7953"
             ],
             [
              0.7777777777777778,
              "#fb9f3a"
             ],
             [
              0.8888888888888888,
              "#fdca26"
             ],
             [
              1,
              "#f0f921"
             ]
            ],
            "type": "contour"
           }
          ],
          "contourcarpet": [
           {
            "colorbar": {
             "outlinewidth": 0,
             "ticks": ""
            },
            "type": "contourcarpet"
           }
          ],
          "heatmap": [
           {
            "colorbar": {
             "outlinewidth": 0,
             "ticks": ""
            },
            "colorscale": [
             [
              0,
              "#0d0887"
             ],
             [
              0.1111111111111111,
              "#46039f"
             ],
             [
              0.2222222222222222,
              "#7201a8"
             ],
             [
              0.3333333333333333,
              "#9c179e"
             ],
             [
              0.4444444444444444,
              "#bd3786"
             ],
             [
              0.5555555555555556,
              "#d8576b"
             ],
             [
              0.6666666666666666,
              "#ed7953"
             ],
             [
              0.7777777777777778,
              "#fb9f3a"
             ],
             [
              0.8888888888888888,
              "#fdca26"
             ],
             [
              1,
              "#f0f921"
             ]
            ],
            "type": "heatmap"
           }
          ],
          "heatmapgl": [
           {
            "colorbar": {
             "outlinewidth": 0,
             "ticks": ""
            },
            "colorscale": [
             [
              0,
              "#0d0887"
             ],
             [
              0.1111111111111111,
              "#46039f"
             ],
             [
              0.2222222222222222,
              "#7201a8"
             ],
             [
              0.3333333333333333,
              "#9c179e"
             ],
             [
              0.4444444444444444,
              "#bd3786"
             ],
             [
              0.5555555555555556,
              "#d8576b"
             ],
             [
              0.6666666666666666,
              "#ed7953"
             ],
             [
              0.7777777777777778,
              "#fb9f3a"
             ],
             [
              0.8888888888888888,
              "#fdca26"
             ],
             [
              1,
              "#f0f921"
             ]
            ],
            "type": "heatmapgl"
           }
          ],
          "histogram": [
           {
            "marker": {
             "pattern": {
              "fillmode": "overlay",
              "size": 10,
              "solidity": 0.2
             }
            },
            "type": "histogram"
           }
          ],
          "histogram2d": [
           {
            "colorbar": {
             "outlinewidth": 0,
             "ticks": ""
            },
            "colorscale": [
             [
              0,
              "#0d0887"
             ],
             [
              0.1111111111111111,
              "#46039f"
             ],
             [
              0.2222222222222222,
              "#7201a8"
             ],
             [
              0.3333333333333333,
              "#9c179e"
             ],
             [
              0.4444444444444444,
              "#bd3786"
             ],
             [
              0.5555555555555556,
              "#d8576b"
             ],
             [
              0.6666666666666666,
              "#ed7953"
             ],
             [
              0.7777777777777778,
              "#fb9f3a"
             ],
             [
              0.8888888888888888,
              "#fdca26"
             ],
             [
              1,
              "#f0f921"
             ]
            ],
            "type": "histogram2d"
           }
          ],
          "histogram2dcontour": [
           {
            "colorbar": {
             "outlinewidth": 0,
             "ticks": ""
            },
            "colorscale": [
             [
              0,
              "#0d0887"
             ],
             [
              0.1111111111111111,
              "#46039f"
             ],
             [
              0.2222222222222222,
              "#7201a8"
             ],
             [
              0.3333333333333333,
              "#9c179e"
             ],
             [
              0.4444444444444444,
              "#bd3786"
             ],
             [
              0.5555555555555556,
              "#d8576b"
             ],
             [
              0.6666666666666666,
              "#ed7953"
             ],
             [
              0.7777777777777778,
              "#fb9f3a"
             ],
             [
              0.8888888888888888,
              "#fdca26"
             ],
             [
              1,
              "#f0f921"
             ]
            ],
            "type": "histogram2dcontour"
           }
          ],
          "mesh3d": [
           {
            "colorbar": {
             "outlinewidth": 0,
             "ticks": ""
            },
            "type": "mesh3d"
           }
          ],
          "parcoords": [
           {
            "line": {
             "colorbar": {
              "outlinewidth": 0,
              "ticks": ""
             }
            },
            "type": "parcoords"
           }
          ],
          "pie": [
           {
            "automargin": true,
            "type": "pie"
           }
          ],
          "scatter": [
           {
            "marker": {
             "line": {
              "color": "#283442"
             }
            },
            "type": "scatter"
           }
          ],
          "scatter3d": [
           {
            "line": {
             "colorbar": {
              "outlinewidth": 0,
              "ticks": ""
             }
            },
            "marker": {
             "colorbar": {
              "outlinewidth": 0,
              "ticks": ""
             }
            },
            "type": "scatter3d"
           }
          ],
          "scattercarpet": [
           {
            "marker": {
             "colorbar": {
              "outlinewidth": 0,
              "ticks": ""
             }
            },
            "type": "scattercarpet"
           }
          ],
          "scattergeo": [
           {
            "marker": {
             "colorbar": {
              "outlinewidth": 0,
              "ticks": ""
             }
            },
            "type": "scattergeo"
           }
          ],
          "scattergl": [
           {
            "marker": {
             "line": {
              "color": "#283442"
             }
            },
            "type": "scattergl"
           }
          ],
          "scattermapbox": [
           {
            "marker": {
             "colorbar": {
              "outlinewidth": 0,
              "ticks": ""
             }
            },
            "type": "scattermapbox"
           }
          ],
          "scatterpolar": [
           {
            "marker": {
             "colorbar": {
              "outlinewidth": 0,
              "ticks": ""
             }
            },
            "type": "scatterpolar"
           }
          ],
          "scatterpolargl": [
           {
            "marker": {
             "colorbar": {
              "outlinewidth": 0,
              "ticks": ""
             }
            },
            "type": "scatterpolargl"
           }
          ],
          "scatterternary": [
           {
            "marker": {
             "colorbar": {
              "outlinewidth": 0,
              "ticks": ""
             }
            },
            "type": "scatterternary"
           }
          ],
          "surface": [
           {
            "colorbar": {
             "outlinewidth": 0,
             "ticks": ""
            },
            "colorscale": [
             [
              0,
              "#0d0887"
             ],
             [
              0.1111111111111111,
              "#46039f"
             ],
             [
              0.2222222222222222,
              "#7201a8"
             ],
             [
              0.3333333333333333,
              "#9c179e"
             ],
             [
              0.4444444444444444,
              "#bd3786"
             ],
             [
              0.5555555555555556,
              "#d8576b"
             ],
             [
              0.6666666666666666,
              "#ed7953"
             ],
             [
              0.7777777777777778,
              "#fb9f3a"
             ],
             [
              0.8888888888888888,
              "#fdca26"
             ],
             [
              1,
              "#f0f921"
             ]
            ],
            "type": "surface"
           }
          ],
          "table": [
           {
            "cells": {
             "fill": {
              "color": "#506784"
             },
             "line": {
              "color": "rgb(17,17,17)"
             }
            },
            "header": {
             "fill": {
              "color": "#2a3f5f"
             },
             "line": {
              "color": "rgb(17,17,17)"
             }
            },
            "type": "table"
           }
          ]
         },
         "layout": {
          "annotationdefaults": {
           "arrowcolor": "#f2f5fa",
           "arrowhead": 0,
           "arrowwidth": 1
          },
          "autotypenumbers": "strict",
          "coloraxis": {
           "colorbar": {
            "outlinewidth": 0,
            "ticks": ""
           }
          },
          "colorscale": {
           "diverging": [
            [
             0,
             "#8e0152"
            ],
            [
             0.1,
             "#c51b7d"
            ],
            [
             0.2,
             "#de77ae"
            ],
            [
             0.3,
             "#f1b6da"
            ],
            [
             0.4,
             "#fde0ef"
            ],
            [
             0.5,
             "#f7f7f7"
            ],
            [
             0.6,
             "#e6f5d0"
            ],
            [
             0.7,
             "#b8e186"
            ],
            [
             0.8,
             "#7fbc41"
            ],
            [
             0.9,
             "#4d9221"
            ],
            [
             1,
             "#276419"
            ]
           ],
           "sequential": [
            [
             0,
             "#0d0887"
            ],
            [
             0.1111111111111111,
             "#46039f"
            ],
            [
             0.2222222222222222,
             "#7201a8"
            ],
            [
             0.3333333333333333,
             "#9c179e"
            ],
            [
             0.4444444444444444,
             "#bd3786"
            ],
            [
             0.5555555555555556,
             "#d8576b"
            ],
            [
             0.6666666666666666,
             "#ed7953"
            ],
            [
             0.7777777777777778,
             "#fb9f3a"
            ],
            [
             0.8888888888888888,
             "#fdca26"
            ],
            [
             1,
             "#f0f921"
            ]
           ],
           "sequentialminus": [
            [
             0,
             "#0d0887"
            ],
            [
             0.1111111111111111,
             "#46039f"
            ],
            [
             0.2222222222222222,
             "#7201a8"
            ],
            [
             0.3333333333333333,
             "#9c179e"
            ],
            [
             0.4444444444444444,
             "#bd3786"
            ],
            [
             0.5555555555555556,
             "#d8576b"
            ],
            [
             0.6666666666666666,
             "#ed7953"
            ],
            [
             0.7777777777777778,
             "#fb9f3a"
            ],
            [
             0.8888888888888888,
             "#fdca26"
            ],
            [
             1,
             "#f0f921"
            ]
           ]
          },
          "colorway": [
           "#636efa",
           "#EF553B",
           "#00cc96",
           "#ab63fa",
           "#FFA15A",
           "#19d3f3",
           "#FF6692",
           "#B6E880",
           "#FF97FF",
           "#FECB52"
          ],
          "font": {
           "color": "#f2f5fa"
          },
          "geo": {
           "bgcolor": "rgb(17,17,17)",
           "lakecolor": "rgb(17,17,17)",
           "landcolor": "rgb(17,17,17)",
           "showlakes": true,
           "showland": true,
           "subunitcolor": "#506784"
          },
          "hoverlabel": {
           "align": "left"
          },
          "hovermode": "closest",
          "mapbox": {
           "style": "dark"
          },
          "paper_bgcolor": "rgb(17,17,17)",
          "plot_bgcolor": "rgb(17,17,17)",
          "polar": {
           "angularaxis": {
            "gridcolor": "#506784",
            "linecolor": "#506784",
            "ticks": ""
           },
           "bgcolor": "rgb(17,17,17)",
           "radialaxis": {
            "gridcolor": "#506784",
            "linecolor": "#506784",
            "ticks": ""
           }
          },
          "scene": {
           "xaxis": {
            "backgroundcolor": "rgb(17,17,17)",
            "gridcolor": "#506784",
            "gridwidth": 2,
            "linecolor": "#506784",
            "showbackground": true,
            "ticks": "",
            "zerolinecolor": "#C8D4E3"
           },
           "yaxis": {
            "backgroundcolor": "rgb(17,17,17)",
            "gridcolor": "#506784",
            "gridwidth": 2,
            "linecolor": "#506784",
            "showbackground": true,
            "ticks": "",
            "zerolinecolor": "#C8D4E3"
           },
           "zaxis": {
            "backgroundcolor": "rgb(17,17,17)",
            "gridcolor": "#506784",
            "gridwidth": 2,
            "linecolor": "#506784",
            "showbackground": true,
            "ticks": "",
            "zerolinecolor": "#C8D4E3"
           }
          },
          "shapedefaults": {
           "line": {
            "color": "#f2f5fa"
           }
          },
          "sliderdefaults": {
           "bgcolor": "#C8D4E3",
           "bordercolor": "rgb(17,17,17)",
           "borderwidth": 1,
           "tickwidth": 0
          },
          "ternary": {
           "aaxis": {
            "gridcolor": "#506784",
            "linecolor": "#506784",
            "ticks": ""
           },
           "baxis": {
            "gridcolor": "#506784",
            "linecolor": "#506784",
            "ticks": ""
           },
           "bgcolor": "rgb(17,17,17)",
           "caxis": {
            "gridcolor": "#506784",
            "linecolor": "#506784",
            "ticks": ""
           }
          },
          "title": {
           "x": 0.05
          },
          "updatemenudefaults": {
           "bgcolor": "#506784",
           "borderwidth": 0
          },
          "xaxis": {
           "automargin": true,
           "gridcolor": "#283442",
           "linecolor": "#506784",
           "ticks": "",
           "title": {
            "standoff": 15
           },
           "zerolinecolor": "#283442",
           "zerolinewidth": 2
          },
          "yaxis": {
           "automargin": true,
           "gridcolor": "#283442",
           "linecolor": "#506784",
           "ticks": "",
           "title": {
            "standoff": 15
           },
           "zerolinecolor": "#283442",
           "zerolinewidth": 2
          }
         }
        },
        "title": {
         "text": "Saldo a liquidar por PI"
        },
        "xaxis": {
         "anchor": "y",
         "domain": [
          0,
          1
         ],
         "title": {
          "text": "Tipo de PI"
         }
        },
        "yaxis": {
         "anchor": "x",
         "domain": [
          0,
          1
         ],
         "title": {
          "text": "Saldo a liquidar"
         },
         "type": "log"
        }
       }
      }
     },
     "metadata": {},
     "output_type": "display_data"
    }
   ],
   "source": [
    "# Saldo a liquidar por tipo de PI\n",
    "cols = ['NOME_PI', 'A_LIQUIDAR']\n",
    "\n",
    "df_aux = df.loc[:, cols].groupby('NOME_PI').sum().sort_values(by= 'A_LIQUIDAR', ascending=False).reset_index()\n",
    "df_aux = df_aux[df_aux['A_LIQUIDAR'] > 0]\n",
    "fig = px.bar(df_aux, \n",
    "             x='NOME_PI', \n",
    "             y='A_LIQUIDAR',\n",
    "             title='Saldo a liquidar por PI',\n",
    "             labels={'NOME_PI':'Tipo de PI', 'A_LIQUIDAR':'Saldo a liquidar'},\n",
    "             text_auto='.3s',\n",
    "             height=800,\n",
    "             log_y=True,\n",
    "             color='A_LIQUIDAR',\n",
    "             color_continuous_scale = 'reds',\n",
    "             template='plotly_dark')\n",
    "fig.update_traces(textposition = 'outside', cliponaxis = False, hovertemplate=None)\n",
    "fig.update_layout(hovermode=\"x unified\")\n",
    "\n",
    "fig.show()"
   ]
  },
  {
   "cell_type": "code",
   "execution_count": 12,
   "metadata": {},
   "outputs": [
    {
     "data": {
      "application/vnd.plotly.v1+json": {
       "config": {
        "plotlyServerURL": "https://plot.ly"
       },
       "data": [
        {
         "alignmentgroup": "True",
         "cliponaxis": false,
         "legendgroup": "",
         "marker": {
          "color": [
           5754999.25,
           587224.09
          ],
          "coloraxis": "coloraxis",
          "pattern": {
           "shape": ""
          }
         },
         "name": "",
         "offsetgroup": "",
         "orientation": "v",
         "showlegend": false,
         "textposition": "outside",
         "texttemplate": "%{y:.3s}",
         "type": "bar",
         "x": [
          "ANO",
          "RPNP"
         ],
         "xaxis": "x",
         "y": [
          5754999.25,
          587224.09
         ],
         "yaxis": "y"
        }
       ],
       "layout": {
        "barmode": "relative",
        "coloraxis": {
         "colorbar": {
          "title": {
           "text": "Saldo a liquidar"
          }
         },
         "colorscale": [
          [
           0,
           "rgb(255,245,240)"
          ],
          [
           0.125,
           "rgb(254,224,210)"
          ],
          [
           0.25,
           "rgb(252,187,161)"
          ],
          [
           0.375,
           "rgb(252,146,114)"
          ],
          [
           0.5,
           "rgb(251,106,74)"
          ],
          [
           0.625,
           "rgb(239,59,44)"
          ],
          [
           0.75,
           "rgb(203,24,29)"
          ],
          [
           0.875,
           "rgb(165,15,21)"
          ],
          [
           1,
           "rgb(103,0,13)"
          ]
         ]
        },
        "height": 400,
        "hovermode": "x unified",
        "legend": {
         "tracegroupgap": 0
        },
        "template": {
         "data": {
          "bar": [
           {
            "error_x": {
             "color": "#f2f5fa"
            },
            "error_y": {
             "color": "#f2f5fa"
            },
            "marker": {
             "line": {
              "color": "rgb(17,17,17)",
              "width": 0.5
             },
             "pattern": {
              "fillmode": "overlay",
              "size": 10,
              "solidity": 0.2
             }
            },
            "type": "bar"
           }
          ],
          "barpolar": [
           {
            "marker": {
             "line": {
              "color": "rgb(17,17,17)",
              "width": 0.5
             },
             "pattern": {
              "fillmode": "overlay",
              "size": 10,
              "solidity": 0.2
             }
            },
            "type": "barpolar"
           }
          ],
          "carpet": [
           {
            "aaxis": {
             "endlinecolor": "#A2B1C6",
             "gridcolor": "#506784",
             "linecolor": "#506784",
             "minorgridcolor": "#506784",
             "startlinecolor": "#A2B1C6"
            },
            "baxis": {
             "endlinecolor": "#A2B1C6",
             "gridcolor": "#506784",
             "linecolor": "#506784",
             "minorgridcolor": "#506784",
             "startlinecolor": "#A2B1C6"
            },
            "type": "carpet"
           }
          ],
          "choropleth": [
           {
            "colorbar": {
             "outlinewidth": 0,
             "ticks": ""
            },
            "type": "choropleth"
           }
          ],
          "contour": [
           {
            "colorbar": {
             "outlinewidth": 0,
             "ticks": ""
            },
            "colorscale": [
             [
              0,
              "#0d0887"
             ],
             [
              0.1111111111111111,
              "#46039f"
             ],
             [
              0.2222222222222222,
              "#7201a8"
             ],
             [
              0.3333333333333333,
              "#9c179e"
             ],
             [
              0.4444444444444444,
              "#bd3786"
             ],
             [
              0.5555555555555556,
              "#d8576b"
             ],
             [
              0.6666666666666666,
              "#ed7953"
             ],
             [
              0.7777777777777778,
              "#fb9f3a"
             ],
             [
              0.8888888888888888,
              "#fdca26"
             ],
             [
              1,
              "#f0f921"
             ]
            ],
            "type": "contour"
           }
          ],
          "contourcarpet": [
           {
            "colorbar": {
             "outlinewidth": 0,
             "ticks": ""
            },
            "type": "contourcarpet"
           }
          ],
          "heatmap": [
           {
            "colorbar": {
             "outlinewidth": 0,
             "ticks": ""
            },
            "colorscale": [
             [
              0,
              "#0d0887"
             ],
             [
              0.1111111111111111,
              "#46039f"
             ],
             [
              0.2222222222222222,
              "#7201a8"
             ],
             [
              0.3333333333333333,
              "#9c179e"
             ],
             [
              0.4444444444444444,
              "#bd3786"
             ],
             [
              0.5555555555555556,
              "#d8576b"
             ],
             [
              0.6666666666666666,
              "#ed7953"
             ],
             [
              0.7777777777777778,
              "#fb9f3a"
             ],
             [
              0.8888888888888888,
              "#fdca26"
             ],
             [
              1,
              "#f0f921"
             ]
            ],
            "type": "heatmap"
           }
          ],
          "heatmapgl": [
           {
            "colorbar": {
             "outlinewidth": 0,
             "ticks": ""
            },
            "colorscale": [
             [
              0,
              "#0d0887"
             ],
             [
              0.1111111111111111,
              "#46039f"
             ],
             [
              0.2222222222222222,
              "#7201a8"
             ],
             [
              0.3333333333333333,
              "#9c179e"
             ],
             [
              0.4444444444444444,
              "#bd3786"
             ],
             [
              0.5555555555555556,
              "#d8576b"
             ],
             [
              0.6666666666666666,
              "#ed7953"
             ],
             [
              0.7777777777777778,
              "#fb9f3a"
             ],
             [
              0.8888888888888888,
              "#fdca26"
             ],
             [
              1,
              "#f0f921"
             ]
            ],
            "type": "heatmapgl"
           }
          ],
          "histogram": [
           {
            "marker": {
             "pattern": {
              "fillmode": "overlay",
              "size": 10,
              "solidity": 0.2
             }
            },
            "type": "histogram"
           }
          ],
          "histogram2d": [
           {
            "colorbar": {
             "outlinewidth": 0,
             "ticks": ""
            },
            "colorscale": [
             [
              0,
              "#0d0887"
             ],
             [
              0.1111111111111111,
              "#46039f"
             ],
             [
              0.2222222222222222,
              "#7201a8"
             ],
             [
              0.3333333333333333,
              "#9c179e"
             ],
             [
              0.4444444444444444,
              "#bd3786"
             ],
             [
              0.5555555555555556,
              "#d8576b"
             ],
             [
              0.6666666666666666,
              "#ed7953"
             ],
             [
              0.7777777777777778,
              "#fb9f3a"
             ],
             [
              0.8888888888888888,
              "#fdca26"
             ],
             [
              1,
              "#f0f921"
             ]
            ],
            "type": "histogram2d"
           }
          ],
          "histogram2dcontour": [
           {
            "colorbar": {
             "outlinewidth": 0,
             "ticks": ""
            },
            "colorscale": [
             [
              0,
              "#0d0887"
             ],
             [
              0.1111111111111111,
              "#46039f"
             ],
             [
              0.2222222222222222,
              "#7201a8"
             ],
             [
              0.3333333333333333,
              "#9c179e"
             ],
             [
              0.4444444444444444,
              "#bd3786"
             ],
             [
              0.5555555555555556,
              "#d8576b"
             ],
             [
              0.6666666666666666,
              "#ed7953"
             ],
             [
              0.7777777777777778,
              "#fb9f3a"
             ],
             [
              0.8888888888888888,
              "#fdca26"
             ],
             [
              1,
              "#f0f921"
             ]
            ],
            "type": "histogram2dcontour"
           }
          ],
          "mesh3d": [
           {
            "colorbar": {
             "outlinewidth": 0,
             "ticks": ""
            },
            "type": "mesh3d"
           }
          ],
          "parcoords": [
           {
            "line": {
             "colorbar": {
              "outlinewidth": 0,
              "ticks": ""
             }
            },
            "type": "parcoords"
           }
          ],
          "pie": [
           {
            "automargin": true,
            "type": "pie"
           }
          ],
          "scatter": [
           {
            "marker": {
             "line": {
              "color": "#283442"
             }
            },
            "type": "scatter"
           }
          ],
          "scatter3d": [
           {
            "line": {
             "colorbar": {
              "outlinewidth": 0,
              "ticks": ""
             }
            },
            "marker": {
             "colorbar": {
              "outlinewidth": 0,
              "ticks": ""
             }
            },
            "type": "scatter3d"
           }
          ],
          "scattercarpet": [
           {
            "marker": {
             "colorbar": {
              "outlinewidth": 0,
              "ticks": ""
             }
            },
            "type": "scattercarpet"
           }
          ],
          "scattergeo": [
           {
            "marker": {
             "colorbar": {
              "outlinewidth": 0,
              "ticks": ""
             }
            },
            "type": "scattergeo"
           }
          ],
          "scattergl": [
           {
            "marker": {
             "line": {
              "color": "#283442"
             }
            },
            "type": "scattergl"
           }
          ],
          "scattermapbox": [
           {
            "marker": {
             "colorbar": {
              "outlinewidth": 0,
              "ticks": ""
             }
            },
            "type": "scattermapbox"
           }
          ],
          "scatterpolar": [
           {
            "marker": {
             "colorbar": {
              "outlinewidth": 0,
              "ticks": ""
             }
            },
            "type": "scatterpolar"
           }
          ],
          "scatterpolargl": [
           {
            "marker": {
             "colorbar": {
              "outlinewidth": 0,
              "ticks": ""
             }
            },
            "type": "scatterpolargl"
           }
          ],
          "scatterternary": [
           {
            "marker": {
             "colorbar": {
              "outlinewidth": 0,
              "ticks": ""
             }
            },
            "type": "scatterternary"
           }
          ],
          "surface": [
           {
            "colorbar": {
             "outlinewidth": 0,
             "ticks": ""
            },
            "colorscale": [
             [
              0,
              "#0d0887"
             ],
             [
              0.1111111111111111,
              "#46039f"
             ],
             [
              0.2222222222222222,
              "#7201a8"
             ],
             [
              0.3333333333333333,
              "#9c179e"
             ],
             [
              0.4444444444444444,
              "#bd3786"
             ],
             [
              0.5555555555555556,
              "#d8576b"
             ],
             [
              0.6666666666666666,
              "#ed7953"
             ],
             [
              0.7777777777777778,
              "#fb9f3a"
             ],
             [
              0.8888888888888888,
              "#fdca26"
             ],
             [
              1,
              "#f0f921"
             ]
            ],
            "type": "surface"
           }
          ],
          "table": [
           {
            "cells": {
             "fill": {
              "color": "#506784"
             },
             "line": {
              "color": "rgb(17,17,17)"
             }
            },
            "header": {
             "fill": {
              "color": "#2a3f5f"
             },
             "line": {
              "color": "rgb(17,17,17)"
             }
            },
            "type": "table"
           }
          ]
         },
         "layout": {
          "annotationdefaults": {
           "arrowcolor": "#f2f5fa",
           "arrowhead": 0,
           "arrowwidth": 1
          },
          "autotypenumbers": "strict",
          "coloraxis": {
           "colorbar": {
            "outlinewidth": 0,
            "ticks": ""
           }
          },
          "colorscale": {
           "diverging": [
            [
             0,
             "#8e0152"
            ],
            [
             0.1,
             "#c51b7d"
            ],
            [
             0.2,
             "#de77ae"
            ],
            [
             0.3,
             "#f1b6da"
            ],
            [
             0.4,
             "#fde0ef"
            ],
            [
             0.5,
             "#f7f7f7"
            ],
            [
             0.6,
             "#e6f5d0"
            ],
            [
             0.7,
             "#b8e186"
            ],
            [
             0.8,
             "#7fbc41"
            ],
            [
             0.9,
             "#4d9221"
            ],
            [
             1,
             "#276419"
            ]
           ],
           "sequential": [
            [
             0,
             "#0d0887"
            ],
            [
             0.1111111111111111,
             "#46039f"
            ],
            [
             0.2222222222222222,
             "#7201a8"
            ],
            [
             0.3333333333333333,
             "#9c179e"
            ],
            [
             0.4444444444444444,
             "#bd3786"
            ],
            [
             0.5555555555555556,
             "#d8576b"
            ],
            [
             0.6666666666666666,
             "#ed7953"
            ],
            [
             0.7777777777777778,
             "#fb9f3a"
            ],
            [
             0.8888888888888888,
             "#fdca26"
            ],
            [
             1,
             "#f0f921"
            ]
           ],
           "sequentialminus": [
            [
             0,
             "#0d0887"
            ],
            [
             0.1111111111111111,
             "#46039f"
            ],
            [
             0.2222222222222222,
             "#7201a8"
            ],
            [
             0.3333333333333333,
             "#9c179e"
            ],
            [
             0.4444444444444444,
             "#bd3786"
            ],
            [
             0.5555555555555556,
             "#d8576b"
            ],
            [
             0.6666666666666666,
             "#ed7953"
            ],
            [
             0.7777777777777778,
             "#fb9f3a"
            ],
            [
             0.8888888888888888,
             "#fdca26"
            ],
            [
             1,
             "#f0f921"
            ]
           ]
          },
          "colorway": [
           "#636efa",
           "#EF553B",
           "#00cc96",
           "#ab63fa",
           "#FFA15A",
           "#19d3f3",
           "#FF6692",
           "#B6E880",
           "#FF97FF",
           "#FECB52"
          ],
          "font": {
           "color": "#f2f5fa"
          },
          "geo": {
           "bgcolor": "rgb(17,17,17)",
           "lakecolor": "rgb(17,17,17)",
           "landcolor": "rgb(17,17,17)",
           "showlakes": true,
           "showland": true,
           "subunitcolor": "#506784"
          },
          "hoverlabel": {
           "align": "left"
          },
          "hovermode": "closest",
          "mapbox": {
           "style": "dark"
          },
          "paper_bgcolor": "rgb(17,17,17)",
          "plot_bgcolor": "rgb(17,17,17)",
          "polar": {
           "angularaxis": {
            "gridcolor": "#506784",
            "linecolor": "#506784",
            "ticks": ""
           },
           "bgcolor": "rgb(17,17,17)",
           "radialaxis": {
            "gridcolor": "#506784",
            "linecolor": "#506784",
            "ticks": ""
           }
          },
          "scene": {
           "xaxis": {
            "backgroundcolor": "rgb(17,17,17)",
            "gridcolor": "#506784",
            "gridwidth": 2,
            "linecolor": "#506784",
            "showbackground": true,
            "ticks": "",
            "zerolinecolor": "#C8D4E3"
           },
           "yaxis": {
            "backgroundcolor": "rgb(17,17,17)",
            "gridcolor": "#506784",
            "gridwidth": 2,
            "linecolor": "#506784",
            "showbackground": true,
            "ticks": "",
            "zerolinecolor": "#C8D4E3"
           },
           "zaxis": {
            "backgroundcolor": "rgb(17,17,17)",
            "gridcolor": "#506784",
            "gridwidth": 2,
            "linecolor": "#506784",
            "showbackground": true,
            "ticks": "",
            "zerolinecolor": "#C8D4E3"
           }
          },
          "shapedefaults": {
           "line": {
            "color": "#f2f5fa"
           }
          },
          "sliderdefaults": {
           "bgcolor": "#C8D4E3",
           "bordercolor": "rgb(17,17,17)",
           "borderwidth": 1,
           "tickwidth": 0
          },
          "ternary": {
           "aaxis": {
            "gridcolor": "#506784",
            "linecolor": "#506784",
            "ticks": ""
           },
           "baxis": {
            "gridcolor": "#506784",
            "linecolor": "#506784",
            "ticks": ""
           },
           "bgcolor": "rgb(17,17,17)",
           "caxis": {
            "gridcolor": "#506784",
            "linecolor": "#506784",
            "ticks": ""
           }
          },
          "title": {
           "x": 0.05
          },
          "updatemenudefaults": {
           "bgcolor": "#506784",
           "borderwidth": 0
          },
          "xaxis": {
           "automargin": true,
           "gridcolor": "#283442",
           "linecolor": "#506784",
           "ticks": "",
           "title": {
            "standoff": 15
           },
           "zerolinecolor": "#283442",
           "zerolinewidth": 2
          },
          "yaxis": {
           "automargin": true,
           "gridcolor": "#283442",
           "linecolor": "#506784",
           "ticks": "",
           "title": {
            "standoff": 15
           },
           "zerolinecolor": "#283442",
           "zerolinewidth": 2
          }
         }
        },
        "title": {
         "text": "Saldo a liquidar por tipo de empenho"
        },
        "xaxis": {
         "anchor": "y",
         "domain": [
          0,
          1
         ],
         "title": {
          "text": "Tipo de Empenho"
         }
        },
        "yaxis": {
         "anchor": "x",
         "domain": [
          0,
          1
         ],
         "title": {
          "text": "Saldo a liquidar"
         },
         "type": "log"
        }
       }
      }
     },
     "metadata": {},
     "output_type": "display_data"
    }
   ],
   "source": [
    "# Saldo a liquidar por tipo de Empenho\n",
    "cols = ['TIPO', 'A_LIQUIDAR']\n",
    "\n",
    "df_aux = df.loc[:, cols].groupby('TIPO').sum().sort_values(by= 'A_LIQUIDAR', ascending=False).reset_index()\n",
    "df_aux = df_aux[df_aux['A_LIQUIDAR'] > 0]\n",
    "fig = px.bar(df_aux, \n",
    "             x='TIPO', \n",
    "             y='A_LIQUIDAR',\n",
    "             title='Saldo a liquidar por tipo de empenho',\n",
    "             labels={'TIPO':'Tipo de Empenho', 'A_LIQUIDAR':'Saldo a liquidar'},\n",
    "             text_auto='.3s',\n",
    "             height=400,\n",
    "             log_y=True,\n",
    "             color='A_LIQUIDAR',\n",
    "             color_continuous_scale = 'reds',\n",
    "             template='plotly_dark')\n",
    "fig.update_traces(textposition = 'outside', cliponaxis = False, hovertemplate=None)\n",
    "fig.update_layout(hovermode=\"x unified\")\n",
    "\n",
    "fig.show()"
   ]
  },
  {
   "cell_type": "code",
   "execution_count": 13,
   "metadata": {},
   "outputs": [
    {
     "data": {
      "application/vnd.plotly.v1+json": {
       "config": {
        "plotlyServerURL": "https://plot.ly"
       },
       "data": [
        {
         "alignmentgroup": "True",
         "cliponaxis": false,
         "legendgroup": "",
         "marker": {
          "color": [
           5754999.25,
           587224.09
          ],
          "coloraxis": "coloraxis",
          "pattern": {
           "shape": ""
          }
         },
         "name": "",
         "offsetgroup": "",
         "orientation": "v",
         "showlegend": false,
         "textposition": "outside",
         "texttemplate": "%{y:.3s}",
         "type": "bar",
         "x": [
          "2023",
          "2022"
         ],
         "xaxis": "x",
         "y": [
          5754999.25,
          587224.09
         ],
         "yaxis": "y"
        }
       ],
       "layout": {
        "barmode": "relative",
        "coloraxis": {
         "colorbar": {
          "title": {
           "text": "Saldo a liquidar"
          }
         },
         "colorscale": [
          [
           0,
           "rgb(255,245,240)"
          ],
          [
           0.125,
           "rgb(254,224,210)"
          ],
          [
           0.25,
           "rgb(252,187,161)"
          ],
          [
           0.375,
           "rgb(252,146,114)"
          ],
          [
           0.5,
           "rgb(251,106,74)"
          ],
          [
           0.625,
           "rgb(239,59,44)"
          ],
          [
           0.75,
           "rgb(203,24,29)"
          ],
          [
           0.875,
           "rgb(165,15,21)"
          ],
          [
           1,
           "rgb(103,0,13)"
          ]
         ]
        },
        "height": 400,
        "hovermode": "x unified",
        "legend": {
         "tracegroupgap": 0
        },
        "template": {
         "data": {
          "bar": [
           {
            "error_x": {
             "color": "#f2f5fa"
            },
            "error_y": {
             "color": "#f2f5fa"
            },
            "marker": {
             "line": {
              "color": "rgb(17,17,17)",
              "width": 0.5
             },
             "pattern": {
              "fillmode": "overlay",
              "size": 10,
              "solidity": 0.2
             }
            },
            "type": "bar"
           }
          ],
          "barpolar": [
           {
            "marker": {
             "line": {
              "color": "rgb(17,17,17)",
              "width": 0.5
             },
             "pattern": {
              "fillmode": "overlay",
              "size": 10,
              "solidity": 0.2
             }
            },
            "type": "barpolar"
           }
          ],
          "carpet": [
           {
            "aaxis": {
             "endlinecolor": "#A2B1C6",
             "gridcolor": "#506784",
             "linecolor": "#506784",
             "minorgridcolor": "#506784",
             "startlinecolor": "#A2B1C6"
            },
            "baxis": {
             "endlinecolor": "#A2B1C6",
             "gridcolor": "#506784",
             "linecolor": "#506784",
             "minorgridcolor": "#506784",
             "startlinecolor": "#A2B1C6"
            },
            "type": "carpet"
           }
          ],
          "choropleth": [
           {
            "colorbar": {
             "outlinewidth": 0,
             "ticks": ""
            },
            "type": "choropleth"
           }
          ],
          "contour": [
           {
            "colorbar": {
             "outlinewidth": 0,
             "ticks": ""
            },
            "colorscale": [
             [
              0,
              "#0d0887"
             ],
             [
              0.1111111111111111,
              "#46039f"
             ],
             [
              0.2222222222222222,
              "#7201a8"
             ],
             [
              0.3333333333333333,
              "#9c179e"
             ],
             [
              0.4444444444444444,
              "#bd3786"
             ],
             [
              0.5555555555555556,
              "#d8576b"
             ],
             [
              0.6666666666666666,
              "#ed7953"
             ],
             [
              0.7777777777777778,
              "#fb9f3a"
             ],
             [
              0.8888888888888888,
              "#fdca26"
             ],
             [
              1,
              "#f0f921"
             ]
            ],
            "type": "contour"
           }
          ],
          "contourcarpet": [
           {
            "colorbar": {
             "outlinewidth": 0,
             "ticks": ""
            },
            "type": "contourcarpet"
           }
          ],
          "heatmap": [
           {
            "colorbar": {
             "outlinewidth": 0,
             "ticks": ""
            },
            "colorscale": [
             [
              0,
              "#0d0887"
             ],
             [
              0.1111111111111111,
              "#46039f"
             ],
             [
              0.2222222222222222,
              "#7201a8"
             ],
             [
              0.3333333333333333,
              "#9c179e"
             ],
             [
              0.4444444444444444,
              "#bd3786"
             ],
             [
              0.5555555555555556,
              "#d8576b"
             ],
             [
              0.6666666666666666,
              "#ed7953"
             ],
             [
              0.7777777777777778,
              "#fb9f3a"
             ],
             [
              0.8888888888888888,
              "#fdca26"
             ],
             [
              1,
              "#f0f921"
             ]
            ],
            "type": "heatmap"
           }
          ],
          "heatmapgl": [
           {
            "colorbar": {
             "outlinewidth": 0,
             "ticks": ""
            },
            "colorscale": [
             [
              0,
              "#0d0887"
             ],
             [
              0.1111111111111111,
              "#46039f"
             ],
             [
              0.2222222222222222,
              "#7201a8"
             ],
             [
              0.3333333333333333,
              "#9c179e"
             ],
             [
              0.4444444444444444,
              "#bd3786"
             ],
             [
              0.5555555555555556,
              "#d8576b"
             ],
             [
              0.6666666666666666,
              "#ed7953"
             ],
             [
              0.7777777777777778,
              "#fb9f3a"
             ],
             [
              0.8888888888888888,
              "#fdca26"
             ],
             [
              1,
              "#f0f921"
             ]
            ],
            "type": "heatmapgl"
           }
          ],
          "histogram": [
           {
            "marker": {
             "pattern": {
              "fillmode": "overlay",
              "size": 10,
              "solidity": 0.2
             }
            },
            "type": "histogram"
           }
          ],
          "histogram2d": [
           {
            "colorbar": {
             "outlinewidth": 0,
             "ticks": ""
            },
            "colorscale": [
             [
              0,
              "#0d0887"
             ],
             [
              0.1111111111111111,
              "#46039f"
             ],
             [
              0.2222222222222222,
              "#7201a8"
             ],
             [
              0.3333333333333333,
              "#9c179e"
             ],
             [
              0.4444444444444444,
              "#bd3786"
             ],
             [
              0.5555555555555556,
              "#d8576b"
             ],
             [
              0.6666666666666666,
              "#ed7953"
             ],
             [
              0.7777777777777778,
              "#fb9f3a"
             ],
             [
              0.8888888888888888,
              "#fdca26"
             ],
             [
              1,
              "#f0f921"
             ]
            ],
            "type": "histogram2d"
           }
          ],
          "histogram2dcontour": [
           {
            "colorbar": {
             "outlinewidth": 0,
             "ticks": ""
            },
            "colorscale": [
             [
              0,
              "#0d0887"
             ],
             [
              0.1111111111111111,
              "#46039f"
             ],
             [
              0.2222222222222222,
              "#7201a8"
             ],
             [
              0.3333333333333333,
              "#9c179e"
             ],
             [
              0.4444444444444444,
              "#bd3786"
             ],
             [
              0.5555555555555556,
              "#d8576b"
             ],
             [
              0.6666666666666666,
              "#ed7953"
             ],
             [
              0.7777777777777778,
              "#fb9f3a"
             ],
             [
              0.8888888888888888,
              "#fdca26"
             ],
             [
              1,
              "#f0f921"
             ]
            ],
            "type": "histogram2dcontour"
           }
          ],
          "mesh3d": [
           {
            "colorbar": {
             "outlinewidth": 0,
             "ticks": ""
            },
            "type": "mesh3d"
           }
          ],
          "parcoords": [
           {
            "line": {
             "colorbar": {
              "outlinewidth": 0,
              "ticks": ""
             }
            },
            "type": "parcoords"
           }
          ],
          "pie": [
           {
            "automargin": true,
            "type": "pie"
           }
          ],
          "scatter": [
           {
            "marker": {
             "line": {
              "color": "#283442"
             }
            },
            "type": "scatter"
           }
          ],
          "scatter3d": [
           {
            "line": {
             "colorbar": {
              "outlinewidth": 0,
              "ticks": ""
             }
            },
            "marker": {
             "colorbar": {
              "outlinewidth": 0,
              "ticks": ""
             }
            },
            "type": "scatter3d"
           }
          ],
          "scattercarpet": [
           {
            "marker": {
             "colorbar": {
              "outlinewidth": 0,
              "ticks": ""
             }
            },
            "type": "scattercarpet"
           }
          ],
          "scattergeo": [
           {
            "marker": {
             "colorbar": {
              "outlinewidth": 0,
              "ticks": ""
             }
            },
            "type": "scattergeo"
           }
          ],
          "scattergl": [
           {
            "marker": {
             "line": {
              "color": "#283442"
             }
            },
            "type": "scattergl"
           }
          ],
          "scattermapbox": [
           {
            "marker": {
             "colorbar": {
              "outlinewidth": 0,
              "ticks": ""
             }
            },
            "type": "scattermapbox"
           }
          ],
          "scatterpolar": [
           {
            "marker": {
             "colorbar": {
              "outlinewidth": 0,
              "ticks": ""
             }
            },
            "type": "scatterpolar"
           }
          ],
          "scatterpolargl": [
           {
            "marker": {
             "colorbar": {
              "outlinewidth": 0,
              "ticks": ""
             }
            },
            "type": "scatterpolargl"
           }
          ],
          "scatterternary": [
           {
            "marker": {
             "colorbar": {
              "outlinewidth": 0,
              "ticks": ""
             }
            },
            "type": "scatterternary"
           }
          ],
          "surface": [
           {
            "colorbar": {
             "outlinewidth": 0,
             "ticks": ""
            },
            "colorscale": [
             [
              0,
              "#0d0887"
             ],
             [
              0.1111111111111111,
              "#46039f"
             ],
             [
              0.2222222222222222,
              "#7201a8"
             ],
             [
              0.3333333333333333,
              "#9c179e"
             ],
             [
              0.4444444444444444,
              "#bd3786"
             ],
             [
              0.5555555555555556,
              "#d8576b"
             ],
             [
              0.6666666666666666,
              "#ed7953"
             ],
             [
              0.7777777777777778,
              "#fb9f3a"
             ],
             [
              0.8888888888888888,
              "#fdca26"
             ],
             [
              1,
              "#f0f921"
             ]
            ],
            "type": "surface"
           }
          ],
          "table": [
           {
            "cells": {
             "fill": {
              "color": "#506784"
             },
             "line": {
              "color": "rgb(17,17,17)"
             }
            },
            "header": {
             "fill": {
              "color": "#2a3f5f"
             },
             "line": {
              "color": "rgb(17,17,17)"
             }
            },
            "type": "table"
           }
          ]
         },
         "layout": {
          "annotationdefaults": {
           "arrowcolor": "#f2f5fa",
           "arrowhead": 0,
           "arrowwidth": 1
          },
          "autotypenumbers": "strict",
          "coloraxis": {
           "colorbar": {
            "outlinewidth": 0,
            "ticks": ""
           }
          },
          "colorscale": {
           "diverging": [
            [
             0,
             "#8e0152"
            ],
            [
             0.1,
             "#c51b7d"
            ],
            [
             0.2,
             "#de77ae"
            ],
            [
             0.3,
             "#f1b6da"
            ],
            [
             0.4,
             "#fde0ef"
            ],
            [
             0.5,
             "#f7f7f7"
            ],
            [
             0.6,
             "#e6f5d0"
            ],
            [
             0.7,
             "#b8e186"
            ],
            [
             0.8,
             "#7fbc41"
            ],
            [
             0.9,
             "#4d9221"
            ],
            [
             1,
             "#276419"
            ]
           ],
           "sequential": [
            [
             0,
             "#0d0887"
            ],
            [
             0.1111111111111111,
             "#46039f"
            ],
            [
             0.2222222222222222,
             "#7201a8"
            ],
            [
             0.3333333333333333,
             "#9c179e"
            ],
            [
             0.4444444444444444,
             "#bd3786"
            ],
            [
             0.5555555555555556,
             "#d8576b"
            ],
            [
             0.6666666666666666,
             "#ed7953"
            ],
            [
             0.7777777777777778,
             "#fb9f3a"
            ],
            [
             0.8888888888888888,
             "#fdca26"
            ],
            [
             1,
             "#f0f921"
            ]
           ],
           "sequentialminus": [
            [
             0,
             "#0d0887"
            ],
            [
             0.1111111111111111,
             "#46039f"
            ],
            [
             0.2222222222222222,
             "#7201a8"
            ],
            [
             0.3333333333333333,
             "#9c179e"
            ],
            [
             0.4444444444444444,
             "#bd3786"
            ],
            [
             0.5555555555555556,
             "#d8576b"
            ],
            [
             0.6666666666666666,
             "#ed7953"
            ],
            [
             0.7777777777777778,
             "#fb9f3a"
            ],
            [
             0.8888888888888888,
             "#fdca26"
            ],
            [
             1,
             "#f0f921"
            ]
           ]
          },
          "colorway": [
           "#636efa",
           "#EF553B",
           "#00cc96",
           "#ab63fa",
           "#FFA15A",
           "#19d3f3",
           "#FF6692",
           "#B6E880",
           "#FF97FF",
           "#FECB52"
          ],
          "font": {
           "color": "#f2f5fa"
          },
          "geo": {
           "bgcolor": "rgb(17,17,17)",
           "lakecolor": "rgb(17,17,17)",
           "landcolor": "rgb(17,17,17)",
           "showlakes": true,
           "showland": true,
           "subunitcolor": "#506784"
          },
          "hoverlabel": {
           "align": "left"
          },
          "hovermode": "closest",
          "mapbox": {
           "style": "dark"
          },
          "paper_bgcolor": "rgb(17,17,17)",
          "plot_bgcolor": "rgb(17,17,17)",
          "polar": {
           "angularaxis": {
            "gridcolor": "#506784",
            "linecolor": "#506784",
            "ticks": ""
           },
           "bgcolor": "rgb(17,17,17)",
           "radialaxis": {
            "gridcolor": "#506784",
            "linecolor": "#506784",
            "ticks": ""
           }
          },
          "scene": {
           "xaxis": {
            "backgroundcolor": "rgb(17,17,17)",
            "gridcolor": "#506784",
            "gridwidth": 2,
            "linecolor": "#506784",
            "showbackground": true,
            "ticks": "",
            "zerolinecolor": "#C8D4E3"
           },
           "yaxis": {
            "backgroundcolor": "rgb(17,17,17)",
            "gridcolor": "#506784",
            "gridwidth": 2,
            "linecolor": "#506784",
            "showbackground": true,
            "ticks": "",
            "zerolinecolor": "#C8D4E3"
           },
           "zaxis": {
            "backgroundcolor": "rgb(17,17,17)",
            "gridcolor": "#506784",
            "gridwidth": 2,
            "linecolor": "#506784",
            "showbackground": true,
            "ticks": "",
            "zerolinecolor": "#C8D4E3"
           }
          },
          "shapedefaults": {
           "line": {
            "color": "#f2f5fa"
           }
          },
          "sliderdefaults": {
           "bgcolor": "#C8D4E3",
           "bordercolor": "rgb(17,17,17)",
           "borderwidth": 1,
           "tickwidth": 0
          },
          "ternary": {
           "aaxis": {
            "gridcolor": "#506784",
            "linecolor": "#506784",
            "ticks": ""
           },
           "baxis": {
            "gridcolor": "#506784",
            "linecolor": "#506784",
            "ticks": ""
           },
           "bgcolor": "rgb(17,17,17)",
           "caxis": {
            "gridcolor": "#506784",
            "linecolor": "#506784",
            "ticks": ""
           }
          },
          "title": {
           "x": 0.05
          },
          "updatemenudefaults": {
           "bgcolor": "#506784",
           "borderwidth": 0
          },
          "xaxis": {
           "automargin": true,
           "gridcolor": "#283442",
           "linecolor": "#506784",
           "ticks": "",
           "title": {
            "standoff": 15
           },
           "zerolinecolor": "#283442",
           "zerolinewidth": 2
          },
          "yaxis": {
           "automargin": true,
           "gridcolor": "#283442",
           "linecolor": "#506784",
           "ticks": "",
           "title": {
            "standoff": 15
           },
           "zerolinecolor": "#283442",
           "zerolinewidth": 2
          }
         }
        },
        "title": {
         "text": "Saldo a liquidar por ano do empenho"
        },
        "xaxis": {
         "anchor": "y",
         "domain": [
          0,
          1
         ],
         "title": {
          "text": "Ano do Empenho"
         }
        },
        "yaxis": {
         "anchor": "x",
         "domain": [
          0,
          1
         ],
         "title": {
          "text": "Saldo a liquidar"
         },
         "type": "log"
        }
       }
      }
     },
     "metadata": {},
     "output_type": "display_data"
    }
   ],
   "source": [
    "# Saldo a liquidar por ano\n",
    "cols = ['ANO', 'A_LIQUIDAR']\n",
    "\n",
    "df_aux = df.loc[:, cols].groupby('ANO').sum().sort_values(by= 'A_LIQUIDAR', ascending=False).reset_index()\n",
    "df_aux = df_aux[df_aux['A_LIQUIDAR'] > 0]\n",
    "fig = px.bar(df_aux, \n",
    "             x='ANO', \n",
    "             y='A_LIQUIDAR',\n",
    "             title='Saldo a liquidar por ano do empenho',\n",
    "             labels={'ANO':'Ano do Empenho', 'A_LIQUIDAR':'Saldo a liquidar'},\n",
    "             text_auto='.3s',\n",
    "             height=400,\n",
    "             log_y=True,\n",
    "             color='A_LIQUIDAR',\n",
    "             color_continuous_scale = 'reds',\n",
    "             template='plotly_dark')\n",
    "fig.update_traces(textposition = 'outside', cliponaxis = False, hovertemplate=None)\n",
    "fig.update_layout(hovermode=\"x unified\")\n",
    "\n",
    "fig.show()"
   ]
  },
  {
   "cell_type": "code",
   "execution_count": 14,
   "metadata": {},
   "outputs": [
    {
     "data": {
      "application/vnd.plotly.v1+json": {
       "config": {
        "plotlyServerURL": "https://plot.ly"
       },
       "data": [
        {
         "alignmentgroup": "True",
         "cliponaxis": false,
         "legendgroup": "",
         "marker": {
          "color": [
           3723393.64,
           1482425.28,
           1136404.42
          ],
          "coloraxis": "coloraxis",
          "pattern": {
           "shape": ""
          }
         },
         "name": "",
         "offsetgroup": "",
         "orientation": "v",
         "showlegend": false,
         "textposition": "outside",
         "texttemplate": "%{y:.3s}",
         "type": "bar",
         "x": [
          "GLOBAL",
          "ESTIMATIVO",
          "ORDINARIO"
         ],
         "xaxis": "x",
         "y": [
          3723393.64,
          1482425.28,
          1136404.42
         ],
         "yaxis": "y"
        }
       ],
       "layout": {
        "barmode": "relative",
        "coloraxis": {
         "colorbar": {
          "title": {
           "text": "Saldo a liquidar"
          }
         },
         "colorscale": [
          [
           0,
           "rgb(255,245,240)"
          ],
          [
           0.125,
           "rgb(254,224,210)"
          ],
          [
           0.25,
           "rgb(252,187,161)"
          ],
          [
           0.375,
           "rgb(252,146,114)"
          ],
          [
           0.5,
           "rgb(251,106,74)"
          ],
          [
           0.625,
           "rgb(239,59,44)"
          ],
          [
           0.75,
           "rgb(203,24,29)"
          ],
          [
           0.875,
           "rgb(165,15,21)"
          ],
          [
           1,
           "rgb(103,0,13)"
          ]
         ]
        },
        "height": 400,
        "hovermode": "x unified",
        "legend": {
         "tracegroupgap": 0
        },
        "template": {
         "data": {
          "bar": [
           {
            "error_x": {
             "color": "#f2f5fa"
            },
            "error_y": {
             "color": "#f2f5fa"
            },
            "marker": {
             "line": {
              "color": "rgb(17,17,17)",
              "width": 0.5
             },
             "pattern": {
              "fillmode": "overlay",
              "size": 10,
              "solidity": 0.2
             }
            },
            "type": "bar"
           }
          ],
          "barpolar": [
           {
            "marker": {
             "line": {
              "color": "rgb(17,17,17)",
              "width": 0.5
             },
             "pattern": {
              "fillmode": "overlay",
              "size": 10,
              "solidity": 0.2
             }
            },
            "type": "barpolar"
           }
          ],
          "carpet": [
           {
            "aaxis": {
             "endlinecolor": "#A2B1C6",
             "gridcolor": "#506784",
             "linecolor": "#506784",
             "minorgridcolor": "#506784",
             "startlinecolor": "#A2B1C6"
            },
            "baxis": {
             "endlinecolor": "#A2B1C6",
             "gridcolor": "#506784",
             "linecolor": "#506784",
             "minorgridcolor": "#506784",
             "startlinecolor": "#A2B1C6"
            },
            "type": "carpet"
           }
          ],
          "choropleth": [
           {
            "colorbar": {
             "outlinewidth": 0,
             "ticks": ""
            },
            "type": "choropleth"
           }
          ],
          "contour": [
           {
            "colorbar": {
             "outlinewidth": 0,
             "ticks": ""
            },
            "colorscale": [
             [
              0,
              "#0d0887"
             ],
             [
              0.1111111111111111,
              "#46039f"
             ],
             [
              0.2222222222222222,
              "#7201a8"
             ],
             [
              0.3333333333333333,
              "#9c179e"
             ],
             [
              0.4444444444444444,
              "#bd3786"
             ],
             [
              0.5555555555555556,
              "#d8576b"
             ],
             [
              0.6666666666666666,
              "#ed7953"
             ],
             [
              0.7777777777777778,
              "#fb9f3a"
             ],
             [
              0.8888888888888888,
              "#fdca26"
             ],
             [
              1,
              "#f0f921"
             ]
            ],
            "type": "contour"
           }
          ],
          "contourcarpet": [
           {
            "colorbar": {
             "outlinewidth": 0,
             "ticks": ""
            },
            "type": "contourcarpet"
           }
          ],
          "heatmap": [
           {
            "colorbar": {
             "outlinewidth": 0,
             "ticks": ""
            },
            "colorscale": [
             [
              0,
              "#0d0887"
             ],
             [
              0.1111111111111111,
              "#46039f"
             ],
             [
              0.2222222222222222,
              "#7201a8"
             ],
             [
              0.3333333333333333,
              "#9c179e"
             ],
             [
              0.4444444444444444,
              "#bd3786"
             ],
             [
              0.5555555555555556,
              "#d8576b"
             ],
             [
              0.6666666666666666,
              "#ed7953"
             ],
             [
              0.7777777777777778,
              "#fb9f3a"
             ],
             [
              0.8888888888888888,
              "#fdca26"
             ],
             [
              1,
              "#f0f921"
             ]
            ],
            "type": "heatmap"
           }
          ],
          "heatmapgl": [
           {
            "colorbar": {
             "outlinewidth": 0,
             "ticks": ""
            },
            "colorscale": [
             [
              0,
              "#0d0887"
             ],
             [
              0.1111111111111111,
              "#46039f"
             ],
             [
              0.2222222222222222,
              "#7201a8"
             ],
             [
              0.3333333333333333,
              "#9c179e"
             ],
             [
              0.4444444444444444,
              "#bd3786"
             ],
             [
              0.5555555555555556,
              "#d8576b"
             ],
             [
              0.6666666666666666,
              "#ed7953"
             ],
             [
              0.7777777777777778,
              "#fb9f3a"
             ],
             [
              0.8888888888888888,
              "#fdca26"
             ],
             [
              1,
              "#f0f921"
             ]
            ],
            "type": "heatmapgl"
           }
          ],
          "histogram": [
           {
            "marker": {
             "pattern": {
              "fillmode": "overlay",
              "size": 10,
              "solidity": 0.2
             }
            },
            "type": "histogram"
           }
          ],
          "histogram2d": [
           {
            "colorbar": {
             "outlinewidth": 0,
             "ticks": ""
            },
            "colorscale": [
             [
              0,
              "#0d0887"
             ],
             [
              0.1111111111111111,
              "#46039f"
             ],
             [
              0.2222222222222222,
              "#7201a8"
             ],
             [
              0.3333333333333333,
              "#9c179e"
             ],
             [
              0.4444444444444444,
              "#bd3786"
             ],
             [
              0.5555555555555556,
              "#d8576b"
             ],
             [
              0.6666666666666666,
              "#ed7953"
             ],
             [
              0.7777777777777778,
              "#fb9f3a"
             ],
             [
              0.8888888888888888,
              "#fdca26"
             ],
             [
              1,
              "#f0f921"
             ]
            ],
            "type": "histogram2d"
           }
          ],
          "histogram2dcontour": [
           {
            "colorbar": {
             "outlinewidth": 0,
             "ticks": ""
            },
            "colorscale": [
             [
              0,
              "#0d0887"
             ],
             [
              0.1111111111111111,
              "#46039f"
             ],
             [
              0.2222222222222222,
              "#7201a8"
             ],
             [
              0.3333333333333333,
              "#9c179e"
             ],
             [
              0.4444444444444444,
              "#bd3786"
             ],
             [
              0.5555555555555556,
              "#d8576b"
             ],
             [
              0.6666666666666666,
              "#ed7953"
             ],
             [
              0.7777777777777778,
              "#fb9f3a"
             ],
             [
              0.8888888888888888,
              "#fdca26"
             ],
             [
              1,
              "#f0f921"
             ]
            ],
            "type": "histogram2dcontour"
           }
          ],
          "mesh3d": [
           {
            "colorbar": {
             "outlinewidth": 0,
             "ticks": ""
            },
            "type": "mesh3d"
           }
          ],
          "parcoords": [
           {
            "line": {
             "colorbar": {
              "outlinewidth": 0,
              "ticks": ""
             }
            },
            "type": "parcoords"
           }
          ],
          "pie": [
           {
            "automargin": true,
            "type": "pie"
           }
          ],
          "scatter": [
           {
            "marker": {
             "line": {
              "color": "#283442"
             }
            },
            "type": "scatter"
           }
          ],
          "scatter3d": [
           {
            "line": {
             "colorbar": {
              "outlinewidth": 0,
              "ticks": ""
             }
            },
            "marker": {
             "colorbar": {
              "outlinewidth": 0,
              "ticks": ""
             }
            },
            "type": "scatter3d"
           }
          ],
          "scattercarpet": [
           {
            "marker": {
             "colorbar": {
              "outlinewidth": 0,
              "ticks": ""
             }
            },
            "type": "scattercarpet"
           }
          ],
          "scattergeo": [
           {
            "marker": {
             "colorbar": {
              "outlinewidth": 0,
              "ticks": ""
             }
            },
            "type": "scattergeo"
           }
          ],
          "scattergl": [
           {
            "marker": {
             "line": {
              "color": "#283442"
             }
            },
            "type": "scattergl"
           }
          ],
          "scattermapbox": [
           {
            "marker": {
             "colorbar": {
              "outlinewidth": 0,
              "ticks": ""
             }
            },
            "type": "scattermapbox"
           }
          ],
          "scatterpolar": [
           {
            "marker": {
             "colorbar": {
              "outlinewidth": 0,
              "ticks": ""
             }
            },
            "type": "scatterpolar"
           }
          ],
          "scatterpolargl": [
           {
            "marker": {
             "colorbar": {
              "outlinewidth": 0,
              "ticks": ""
             }
            },
            "type": "scatterpolargl"
           }
          ],
          "scatterternary": [
           {
            "marker": {
             "colorbar": {
              "outlinewidth": 0,
              "ticks": ""
             }
            },
            "type": "scatterternary"
           }
          ],
          "surface": [
           {
            "colorbar": {
             "outlinewidth": 0,
             "ticks": ""
            },
            "colorscale": [
             [
              0,
              "#0d0887"
             ],
             [
              0.1111111111111111,
              "#46039f"
             ],
             [
              0.2222222222222222,
              "#7201a8"
             ],
             [
              0.3333333333333333,
              "#9c179e"
             ],
             [
              0.4444444444444444,
              "#bd3786"
             ],
             [
              0.5555555555555556,
              "#d8576b"
             ],
             [
              0.6666666666666666,
              "#ed7953"
             ],
             [
              0.7777777777777778,
              "#fb9f3a"
             ],
             [
              0.8888888888888888,
              "#fdca26"
             ],
             [
              1,
              "#f0f921"
             ]
            ],
            "type": "surface"
           }
          ],
          "table": [
           {
            "cells": {
             "fill": {
              "color": "#506784"
             },
             "line": {
              "color": "rgb(17,17,17)"
             }
            },
            "header": {
             "fill": {
              "color": "#2a3f5f"
             },
             "line": {
              "color": "rgb(17,17,17)"
             }
            },
            "type": "table"
           }
          ]
         },
         "layout": {
          "annotationdefaults": {
           "arrowcolor": "#f2f5fa",
           "arrowhead": 0,
           "arrowwidth": 1
          },
          "autotypenumbers": "strict",
          "coloraxis": {
           "colorbar": {
            "outlinewidth": 0,
            "ticks": ""
           }
          },
          "colorscale": {
           "diverging": [
            [
             0,
             "#8e0152"
            ],
            [
             0.1,
             "#c51b7d"
            ],
            [
             0.2,
             "#de77ae"
            ],
            [
             0.3,
             "#f1b6da"
            ],
            [
             0.4,
             "#fde0ef"
            ],
            [
             0.5,
             "#f7f7f7"
            ],
            [
             0.6,
             "#e6f5d0"
            ],
            [
             0.7,
             "#b8e186"
            ],
            [
             0.8,
             "#7fbc41"
            ],
            [
             0.9,
             "#4d9221"
            ],
            [
             1,
             "#276419"
            ]
           ],
           "sequential": [
            [
             0,
             "#0d0887"
            ],
            [
             0.1111111111111111,
             "#46039f"
            ],
            [
             0.2222222222222222,
             "#7201a8"
            ],
            [
             0.3333333333333333,
             "#9c179e"
            ],
            [
             0.4444444444444444,
             "#bd3786"
            ],
            [
             0.5555555555555556,
             "#d8576b"
            ],
            [
             0.6666666666666666,
             "#ed7953"
            ],
            [
             0.7777777777777778,
             "#fb9f3a"
            ],
            [
             0.8888888888888888,
             "#fdca26"
            ],
            [
             1,
             "#f0f921"
            ]
           ],
           "sequentialminus": [
            [
             0,
             "#0d0887"
            ],
            [
             0.1111111111111111,
             "#46039f"
            ],
            [
             0.2222222222222222,
             "#7201a8"
            ],
            [
             0.3333333333333333,
             "#9c179e"
            ],
            [
             0.4444444444444444,
             "#bd3786"
            ],
            [
             0.5555555555555556,
             "#d8576b"
            ],
            [
             0.6666666666666666,
             "#ed7953"
            ],
            [
             0.7777777777777778,
             "#fb9f3a"
            ],
            [
             0.8888888888888888,
             "#fdca26"
            ],
            [
             1,
             "#f0f921"
            ]
           ]
          },
          "colorway": [
           "#636efa",
           "#EF553B",
           "#00cc96",
           "#ab63fa",
           "#FFA15A",
           "#19d3f3",
           "#FF6692",
           "#B6E880",
           "#FF97FF",
           "#FECB52"
          ],
          "font": {
           "color": "#f2f5fa"
          },
          "geo": {
           "bgcolor": "rgb(17,17,17)",
           "lakecolor": "rgb(17,17,17)",
           "landcolor": "rgb(17,17,17)",
           "showlakes": true,
           "showland": true,
           "subunitcolor": "#506784"
          },
          "hoverlabel": {
           "align": "left"
          },
          "hovermode": "closest",
          "mapbox": {
           "style": "dark"
          },
          "paper_bgcolor": "rgb(17,17,17)",
          "plot_bgcolor": "rgb(17,17,17)",
          "polar": {
           "angularaxis": {
            "gridcolor": "#506784",
            "linecolor": "#506784",
            "ticks": ""
           },
           "bgcolor": "rgb(17,17,17)",
           "radialaxis": {
            "gridcolor": "#506784",
            "linecolor": "#506784",
            "ticks": ""
           }
          },
          "scene": {
           "xaxis": {
            "backgroundcolor": "rgb(17,17,17)",
            "gridcolor": "#506784",
            "gridwidth": 2,
            "linecolor": "#506784",
            "showbackground": true,
            "ticks": "",
            "zerolinecolor": "#C8D4E3"
           },
           "yaxis": {
            "backgroundcolor": "rgb(17,17,17)",
            "gridcolor": "#506784",
            "gridwidth": 2,
            "linecolor": "#506784",
            "showbackground": true,
            "ticks": "",
            "zerolinecolor": "#C8D4E3"
           },
           "zaxis": {
            "backgroundcolor": "rgb(17,17,17)",
            "gridcolor": "#506784",
            "gridwidth": 2,
            "linecolor": "#506784",
            "showbackground": true,
            "ticks": "",
            "zerolinecolor": "#C8D4E3"
           }
          },
          "shapedefaults": {
           "line": {
            "color": "#f2f5fa"
           }
          },
          "sliderdefaults": {
           "bgcolor": "#C8D4E3",
           "bordercolor": "rgb(17,17,17)",
           "borderwidth": 1,
           "tickwidth": 0
          },
          "ternary": {
           "aaxis": {
            "gridcolor": "#506784",
            "linecolor": "#506784",
            "ticks": ""
           },
           "baxis": {
            "gridcolor": "#506784",
            "linecolor": "#506784",
            "ticks": ""
           },
           "bgcolor": "rgb(17,17,17)",
           "caxis": {
            "gridcolor": "#506784",
            "linecolor": "#506784",
            "ticks": ""
           }
          },
          "title": {
           "x": 0.05
          },
          "updatemenudefaults": {
           "bgcolor": "#506784",
           "borderwidth": 0
          },
          "xaxis": {
           "automargin": true,
           "gridcolor": "#283442",
           "linecolor": "#506784",
           "ticks": "",
           "title": {
            "standoff": 15
           },
           "zerolinecolor": "#283442",
           "zerolinewidth": 2
          },
          "yaxis": {
           "automargin": true,
           "gridcolor": "#283442",
           "linecolor": "#506784",
           "ticks": "",
           "title": {
            "standoff": 15
           },
           "zerolinecolor": "#283442",
           "zerolinewidth": 2
          }
         }
        },
        "title": {
         "text": "Saldo a liquidar por ano do empenho"
        },
        "xaxis": {
         "anchor": "y",
         "domain": [
          0,
          1
         ],
         "title": {
          "text": "Tipo de Nota de Empenho"
         }
        },
        "yaxis": {
         "anchor": "x",
         "domain": [
          0,
          1
         ],
         "title": {
          "text": "Saldo a liquidar"
         },
         "type": "log"
        }
       }
      }
     },
     "metadata": {},
     "output_type": "display_data"
    }
   ],
   "source": [
    "# Saldo a liquidar por tipo de NE\n",
    "cols = ['TIPO_NE', 'A_LIQUIDAR']\n",
    "\n",
    "df_aux = df.loc[:, cols].groupby('TIPO_NE').sum().sort_values(by= 'A_LIQUIDAR', ascending=False).reset_index()\n",
    "df_aux = df_aux[df_aux['A_LIQUIDAR'] > 0]\n",
    "fig = px.bar(df_aux, \n",
    "             x='TIPO_NE', \n",
    "             y='A_LIQUIDAR',\n",
    "             title='Saldo a liquidar por ano do empenho',\n",
    "             labels={'TIPO_NE':'Tipo de Nota de Empenho', 'A_LIQUIDAR':'Saldo a liquidar'},\n",
    "             text_auto='.3s',\n",
    "             height=400,\n",
    "             log_y=True,\n",
    "             color='A_LIQUIDAR',\n",
    "             color_continuous_scale = 'reds',\n",
    "             template='plotly_dark')\n",
    "fig.update_traces(textposition = 'outside', cliponaxis = False, hovertemplate=None)\n",
    "fig.update_layout(hovermode=\"x unified\")\n",
    "\n",
    "fig.show()"
   ]
  },
  {
   "cell_type": "code",
   "execution_count": 15,
   "metadata": {},
   "outputs": [
    {
     "data": {
      "application/vnd.plotly.v1+json": {
       "config": {
        "plotlyServerURL": "https://plot.ly"
       },
       "data": [
        {
         "alignmentgroup": "True",
         "cliponaxis": false,
         "legendgroup": "",
         "marker": {
          "color": [
           1204163.8399999999,
           1109030.24,
           990939.1699999999,
           962023.89,
           825700.88,
           629603.03,
           541711.48,
           19859.67,
           13737.64,
           8645,
           1819.8600000000001
          ],
          "coloraxis": "coloraxis",
          "pattern": {
           "shape": ""
          }
         },
         "name": "",
         "offsetgroup": "",
         "orientation": "v",
         "showlegend": false,
         "textposition": "outside",
         "texttemplate": "%{y:.3s}",
         "type": "bar",
         "x": [
          "DGO",
          "COEX/GESTOR",
          "DECEX/GESTOR",
          "DGP",
          "DEC-GESTOR",
          "ESA",
          "DECEX - GESTOR",
          "COEX - GESTOR",
          "DEORF/MD",
          "DCT - GESTOR",
          "COTER - GESTOR"
         ],
         "xaxis": "x",
         "y": [
          1204163.8399999999,
          1109030.24,
          990939.1699999999,
          962023.89,
          825700.88,
          629603.03,
          541711.48,
          19859.67,
          13737.64,
          8645,
          1819.8600000000001
         ],
         "yaxis": "y"
        }
       ],
       "layout": {
        "barmode": "relative",
        "coloraxis": {
         "colorbar": {
          "title": {
           "text": "Saldo a liquidar"
          }
         },
         "colorscale": [
          [
           0,
           "rgb(255,245,240)"
          ],
          [
           0.125,
           "rgb(254,224,210)"
          ],
          [
           0.25,
           "rgb(252,187,161)"
          ],
          [
           0.375,
           "rgb(252,146,114)"
          ],
          [
           0.5,
           "rgb(251,106,74)"
          ],
          [
           0.625,
           "rgb(239,59,44)"
          ],
          [
           0.75,
           "rgb(203,24,29)"
          ],
          [
           0.875,
           "rgb(165,15,21)"
          ],
          [
           1,
           "rgb(103,0,13)"
          ]
         ]
        },
        "height": 400,
        "hovermode": "x unified",
        "legend": {
         "tracegroupgap": 0
        },
        "template": {
         "data": {
          "bar": [
           {
            "error_x": {
             "color": "#f2f5fa"
            },
            "error_y": {
             "color": "#f2f5fa"
            },
            "marker": {
             "line": {
              "color": "rgb(17,17,17)",
              "width": 0.5
             },
             "pattern": {
              "fillmode": "overlay",
              "size": 10,
              "solidity": 0.2
             }
            },
            "type": "bar"
           }
          ],
          "barpolar": [
           {
            "marker": {
             "line": {
              "color": "rgb(17,17,17)",
              "width": 0.5
             },
             "pattern": {
              "fillmode": "overlay",
              "size": 10,
              "solidity": 0.2
             }
            },
            "type": "barpolar"
           }
          ],
          "carpet": [
           {
            "aaxis": {
             "endlinecolor": "#A2B1C6",
             "gridcolor": "#506784",
             "linecolor": "#506784",
             "minorgridcolor": "#506784",
             "startlinecolor": "#A2B1C6"
            },
            "baxis": {
             "endlinecolor": "#A2B1C6",
             "gridcolor": "#506784",
             "linecolor": "#506784",
             "minorgridcolor": "#506784",
             "startlinecolor": "#A2B1C6"
            },
            "type": "carpet"
           }
          ],
          "choropleth": [
           {
            "colorbar": {
             "outlinewidth": 0,
             "ticks": ""
            },
            "type": "choropleth"
           }
          ],
          "contour": [
           {
            "colorbar": {
             "outlinewidth": 0,
             "ticks": ""
            },
            "colorscale": [
             [
              0,
              "#0d0887"
             ],
             [
              0.1111111111111111,
              "#46039f"
             ],
             [
              0.2222222222222222,
              "#7201a8"
             ],
             [
              0.3333333333333333,
              "#9c179e"
             ],
             [
              0.4444444444444444,
              "#bd3786"
             ],
             [
              0.5555555555555556,
              "#d8576b"
             ],
             [
              0.6666666666666666,
              "#ed7953"
             ],
             [
              0.7777777777777778,
              "#fb9f3a"
             ],
             [
              0.8888888888888888,
              "#fdca26"
             ],
             [
              1,
              "#f0f921"
             ]
            ],
            "type": "contour"
           }
          ],
          "contourcarpet": [
           {
            "colorbar": {
             "outlinewidth": 0,
             "ticks": ""
            },
            "type": "contourcarpet"
           }
          ],
          "heatmap": [
           {
            "colorbar": {
             "outlinewidth": 0,
             "ticks": ""
            },
            "colorscale": [
             [
              0,
              "#0d0887"
             ],
             [
              0.1111111111111111,
              "#46039f"
             ],
             [
              0.2222222222222222,
              "#7201a8"
             ],
             [
              0.3333333333333333,
              "#9c179e"
             ],
             [
              0.4444444444444444,
              "#bd3786"
             ],
             [
              0.5555555555555556,
              "#d8576b"
             ],
             [
              0.6666666666666666,
              "#ed7953"
             ],
             [
              0.7777777777777778,
              "#fb9f3a"
             ],
             [
              0.8888888888888888,
              "#fdca26"
             ],
             [
              1,
              "#f0f921"
             ]
            ],
            "type": "heatmap"
           }
          ],
          "heatmapgl": [
           {
            "colorbar": {
             "outlinewidth": 0,
             "ticks": ""
            },
            "colorscale": [
             [
              0,
              "#0d0887"
             ],
             [
              0.1111111111111111,
              "#46039f"
             ],
             [
              0.2222222222222222,
              "#7201a8"
             ],
             [
              0.3333333333333333,
              "#9c179e"
             ],
             [
              0.4444444444444444,
              "#bd3786"
             ],
             [
              0.5555555555555556,
              "#d8576b"
             ],
             [
              0.6666666666666666,
              "#ed7953"
             ],
             [
              0.7777777777777778,
              "#fb9f3a"
             ],
             [
              0.8888888888888888,
              "#fdca26"
             ],
             [
              1,
              "#f0f921"
             ]
            ],
            "type": "heatmapgl"
           }
          ],
          "histogram": [
           {
            "marker": {
             "pattern": {
              "fillmode": "overlay",
              "size": 10,
              "solidity": 0.2
             }
            },
            "type": "histogram"
           }
          ],
          "histogram2d": [
           {
            "colorbar": {
             "outlinewidth": 0,
             "ticks": ""
            },
            "colorscale": [
             [
              0,
              "#0d0887"
             ],
             [
              0.1111111111111111,
              "#46039f"
             ],
             [
              0.2222222222222222,
              "#7201a8"
             ],
             [
              0.3333333333333333,
              "#9c179e"
             ],
             [
              0.4444444444444444,
              "#bd3786"
             ],
             [
              0.5555555555555556,
              "#d8576b"
             ],
             [
              0.6666666666666666,
              "#ed7953"
             ],
             [
              0.7777777777777778,
              "#fb9f3a"
             ],
             [
              0.8888888888888888,
              "#fdca26"
             ],
             [
              1,
              "#f0f921"
             ]
            ],
            "type": "histogram2d"
           }
          ],
          "histogram2dcontour": [
           {
            "colorbar": {
             "outlinewidth": 0,
             "ticks": ""
            },
            "colorscale": [
             [
              0,
              "#0d0887"
             ],
             [
              0.1111111111111111,
              "#46039f"
             ],
             [
              0.2222222222222222,
              "#7201a8"
             ],
             [
              0.3333333333333333,
              "#9c179e"
             ],
             [
              0.4444444444444444,
              "#bd3786"
             ],
             [
              0.5555555555555556,
              "#d8576b"
             ],
             [
              0.6666666666666666,
              "#ed7953"
             ],
             [
              0.7777777777777778,
              "#fb9f3a"
             ],
             [
              0.8888888888888888,
              "#fdca26"
             ],
             [
              1,
              "#f0f921"
             ]
            ],
            "type": "histogram2dcontour"
           }
          ],
          "mesh3d": [
           {
            "colorbar": {
             "outlinewidth": 0,
             "ticks": ""
            },
            "type": "mesh3d"
           }
          ],
          "parcoords": [
           {
            "line": {
             "colorbar": {
              "outlinewidth": 0,
              "ticks": ""
             }
            },
            "type": "parcoords"
           }
          ],
          "pie": [
           {
            "automargin": true,
            "type": "pie"
           }
          ],
          "scatter": [
           {
            "marker": {
             "line": {
              "color": "#283442"
             }
            },
            "type": "scatter"
           }
          ],
          "scatter3d": [
           {
            "line": {
             "colorbar": {
              "outlinewidth": 0,
              "ticks": ""
             }
            },
            "marker": {
             "colorbar": {
              "outlinewidth": 0,
              "ticks": ""
             }
            },
            "type": "scatter3d"
           }
          ],
          "scattercarpet": [
           {
            "marker": {
             "colorbar": {
              "outlinewidth": 0,
              "ticks": ""
             }
            },
            "type": "scattercarpet"
           }
          ],
          "scattergeo": [
           {
            "marker": {
             "colorbar": {
              "outlinewidth": 0,
              "ticks": ""
             }
            },
            "type": "scattergeo"
           }
          ],
          "scattergl": [
           {
            "marker": {
             "line": {
              "color": "#283442"
             }
            },
            "type": "scattergl"
           }
          ],
          "scattermapbox": [
           {
            "marker": {
             "colorbar": {
              "outlinewidth": 0,
              "ticks": ""
             }
            },
            "type": "scattermapbox"
           }
          ],
          "scatterpolar": [
           {
            "marker": {
             "colorbar": {
              "outlinewidth": 0,
              "ticks": ""
             }
            },
            "type": "scatterpolar"
           }
          ],
          "scatterpolargl": [
           {
            "marker": {
             "colorbar": {
              "outlinewidth": 0,
              "ticks": ""
             }
            },
            "type": "scatterpolargl"
           }
          ],
          "scatterternary": [
           {
            "marker": {
             "colorbar": {
              "outlinewidth": 0,
              "ticks": ""
             }
            },
            "type": "scatterternary"
           }
          ],
          "surface": [
           {
            "colorbar": {
             "outlinewidth": 0,
             "ticks": ""
            },
            "colorscale": [
             [
              0,
              "#0d0887"
             ],
             [
              0.1111111111111111,
              "#46039f"
             ],
             [
              0.2222222222222222,
              "#7201a8"
             ],
             [
              0.3333333333333333,
              "#9c179e"
             ],
             [
              0.4444444444444444,
              "#bd3786"
             ],
             [
              0.5555555555555556,
              "#d8576b"
             ],
             [
              0.6666666666666666,
              "#ed7953"
             ],
             [
              0.7777777777777778,
              "#fb9f3a"
             ],
             [
              0.8888888888888888,
              "#fdca26"
             ],
             [
              1,
              "#f0f921"
             ]
            ],
            "type": "surface"
           }
          ],
          "table": [
           {
            "cells": {
             "fill": {
              "color": "#506784"
             },
             "line": {
              "color": "rgb(17,17,17)"
             }
            },
            "header": {
             "fill": {
              "color": "#2a3f5f"
             },
             "line": {
              "color": "rgb(17,17,17)"
             }
            },
            "type": "table"
           }
          ]
         },
         "layout": {
          "annotationdefaults": {
           "arrowcolor": "#f2f5fa",
           "arrowhead": 0,
           "arrowwidth": 1
          },
          "autotypenumbers": "strict",
          "coloraxis": {
           "colorbar": {
            "outlinewidth": 0,
            "ticks": ""
           }
          },
          "colorscale": {
           "diverging": [
            [
             0,
             "#8e0152"
            ],
            [
             0.1,
             "#c51b7d"
            ],
            [
             0.2,
             "#de77ae"
            ],
            [
             0.3,
             "#f1b6da"
            ],
            [
             0.4,
             "#fde0ef"
            ],
            [
             0.5,
             "#f7f7f7"
            ],
            [
             0.6,
             "#e6f5d0"
            ],
            [
             0.7,
             "#b8e186"
            ],
            [
             0.8,
             "#7fbc41"
            ],
            [
             0.9,
             "#4d9221"
            ],
            [
             1,
             "#276419"
            ]
           ],
           "sequential": [
            [
             0,
             "#0d0887"
            ],
            [
             0.1111111111111111,
             "#46039f"
            ],
            [
             0.2222222222222222,
             "#7201a8"
            ],
            [
             0.3333333333333333,
             "#9c179e"
            ],
            [
             0.4444444444444444,
             "#bd3786"
            ],
            [
             0.5555555555555556,
             "#d8576b"
            ],
            [
             0.6666666666666666,
             "#ed7953"
            ],
            [
             0.7777777777777778,
             "#fb9f3a"
            ],
            [
             0.8888888888888888,
             "#fdca26"
            ],
            [
             1,
             "#f0f921"
            ]
           ],
           "sequentialminus": [
            [
             0,
             "#0d0887"
            ],
            [
             0.1111111111111111,
             "#46039f"
            ],
            [
             0.2222222222222222,
             "#7201a8"
            ],
            [
             0.3333333333333333,
             "#9c179e"
            ],
            [
             0.4444444444444444,
             "#bd3786"
            ],
            [
             0.5555555555555556,
             "#d8576b"
            ],
            [
             0.6666666666666666,
             "#ed7953"
            ],
            [
             0.7777777777777778,
             "#fb9f3a"
            ],
            [
             0.8888888888888888,
             "#fdca26"
            ],
            [
             1,
             "#f0f921"
            ]
           ]
          },
          "colorway": [
           "#636efa",
           "#EF553B",
           "#00cc96",
           "#ab63fa",
           "#FFA15A",
           "#19d3f3",
           "#FF6692",
           "#B6E880",
           "#FF97FF",
           "#FECB52"
          ],
          "font": {
           "color": "#f2f5fa"
          },
          "geo": {
           "bgcolor": "rgb(17,17,17)",
           "lakecolor": "rgb(17,17,17)",
           "landcolor": "rgb(17,17,17)",
           "showlakes": true,
           "showland": true,
           "subunitcolor": "#506784"
          },
          "hoverlabel": {
           "align": "left"
          },
          "hovermode": "closest",
          "mapbox": {
           "style": "dark"
          },
          "paper_bgcolor": "rgb(17,17,17)",
          "plot_bgcolor": "rgb(17,17,17)",
          "polar": {
           "angularaxis": {
            "gridcolor": "#506784",
            "linecolor": "#506784",
            "ticks": ""
           },
           "bgcolor": "rgb(17,17,17)",
           "radialaxis": {
            "gridcolor": "#506784",
            "linecolor": "#506784",
            "ticks": ""
           }
          },
          "scene": {
           "xaxis": {
            "backgroundcolor": "rgb(17,17,17)",
            "gridcolor": "#506784",
            "gridwidth": 2,
            "linecolor": "#506784",
            "showbackground": true,
            "ticks": "",
            "zerolinecolor": "#C8D4E3"
           },
           "yaxis": {
            "backgroundcolor": "rgb(17,17,17)",
            "gridcolor": "#506784",
            "gridwidth": 2,
            "linecolor": "#506784",
            "showbackground": true,
            "ticks": "",
            "zerolinecolor": "#C8D4E3"
           },
           "zaxis": {
            "backgroundcolor": "rgb(17,17,17)",
            "gridcolor": "#506784",
            "gridwidth": 2,
            "linecolor": "#506784",
            "showbackground": true,
            "ticks": "",
            "zerolinecolor": "#C8D4E3"
           }
          },
          "shapedefaults": {
           "line": {
            "color": "#f2f5fa"
           }
          },
          "sliderdefaults": {
           "bgcolor": "#C8D4E3",
           "bordercolor": "rgb(17,17,17)",
           "borderwidth": 1,
           "tickwidth": 0
          },
          "ternary": {
           "aaxis": {
            "gridcolor": "#506784",
            "linecolor": "#506784",
            "ticks": ""
           },
           "baxis": {
            "gridcolor": "#506784",
            "linecolor": "#506784",
            "ticks": ""
           },
           "bgcolor": "rgb(17,17,17)",
           "caxis": {
            "gridcolor": "#506784",
            "linecolor": "#506784",
            "ticks": ""
           }
          },
          "title": {
           "x": 0.05
          },
          "updatemenudefaults": {
           "bgcolor": "#506784",
           "borderwidth": 0
          },
          "xaxis": {
           "automargin": true,
           "gridcolor": "#283442",
           "linecolor": "#506784",
           "ticks": "",
           "title": {
            "standoff": 15
           },
           "zerolinecolor": "#283442",
           "zerolinewidth": 2
          },
          "yaxis": {
           "automargin": true,
           "gridcolor": "#283442",
           "linecolor": "#506784",
           "ticks": "",
           "title": {
            "standoff": 15
           },
           "zerolinecolor": "#283442",
           "zerolinewidth": 2
          }
         }
        },
        "title": {
         "text": "Saldo a liquidar por ano do empenho"
        },
        "xaxis": {
         "anchor": "y",
         "domain": [
          0,
          1
         ],
         "title": {
          "text": "Nome das UGR"
         }
        },
        "yaxis": {
         "anchor": "x",
         "domain": [
          0,
          1
         ],
         "title": {
          "text": "Saldo a liquidar"
         },
         "type": "log"
        }
       }
      }
     },
     "metadata": {},
     "output_type": "display_data"
    }
   ],
   "source": [
    "# Saldo a liquidar por tipo de NE\n",
    "cols = ['NOME_UGR', 'A_LIQUIDAR']\n",
    "\n",
    "df_aux = df.loc[:, cols].groupby('NOME_UGR').sum().sort_values(by= 'A_LIQUIDAR', ascending=False).reset_index()\n",
    "df_aux = df_aux[df_aux['A_LIQUIDAR'] > 0]\n",
    "fig = px.bar(df_aux, \n",
    "             x='NOME_UGR', \n",
    "             y='A_LIQUIDAR',\n",
    "             title='Saldo a liquidar por ano do empenho',\n",
    "             labels={'NOME_UGR':'Nome das UGR', 'A_LIQUIDAR':'Saldo a liquidar'},\n",
    "             text_auto='.3s',\n",
    "             height=400,\n",
    "             log_y=True,\n",
    "             color='A_LIQUIDAR',\n",
    "             color_continuous_scale = 'reds',\n",
    "             template='plotly_dark')\n",
    "fig.update_traces(textposition = 'outside', cliponaxis = False, hovertemplate=None)\n",
    "fig.update_layout(hovermode=\"x unified\")\n",
    "\n",
    "fig.show()"
   ]
  },
  {
   "cell_type": "code",
   "execution_count": 16,
   "metadata": {},
   "outputs": [
    {
     "data": {
      "application/vnd.plotly.v1+json": {
       "config": {
        "plotlyServerURL": "https://plot.ly"
       },
       "data": [
        {
         "cliponaxis": false,
         "name": "A Liquidar",
         "textposition": "outside",
         "type": "bar",
         "x": [
          "339039",
          "339030",
          "339033",
          "339015",
          "449052",
          "339037",
          "339093",
          "339040",
          "339036",
          "339031",
          "339147",
          "339047"
         ],
         "y": [
          2963851.57,
          1276969.57,
          673732.77,
          381182.52,
          306243.48,
          256692.08999999997,
          250042.58,
          214747.64,
          11889.75,
          2992.6,
          2377.95,
          1500.82
         ]
        },
        {
         "cliponaxis": false,
         "name": "Liquidado a pagar",
         "textposition": "outside",
         "type": "bar",
         "x": [
          "339039",
          "339030",
          "339033",
          "339015",
          "449052",
          "339037",
          "339093",
          "339040",
          "339036",
          "339031",
          "339147",
          "339047"
         ],
         "y": [
          393672.97,
          14616.720000000001,
          10027.76,
          6923.3099999999995,
          0,
          6602.59,
          0,
          649.23,
          10349.130000000001,
          0,
          2069.82,
          0
         ]
        },
        {
         "cliponaxis": false,
         "name": "Pago",
         "textposition": "outside",
         "type": "bar",
         "x": [
          "339039",
          "339030",
          "339033",
          "339015",
          "449052",
          "339037",
          "339093",
          "339040",
          "339036",
          "339031",
          "339147",
          "339047"
         ],
         "y": [
          12024679.77,
          4535659,
          1428485.74,
          225974.95,
          1144302.25,
          741531.63,
          2983735.76,
          194973.89,
          220488.4,
          13725.15,
          44097.65,
          47782.98
         ]
        }
       ],
       "layout": {
        "hovermode": "x unified",
        "template": {
         "data": {
          "bar": [
           {
            "error_x": {
             "color": "#2a3f5f"
            },
            "error_y": {
             "color": "#2a3f5f"
            },
            "marker": {
             "line": {
              "color": "#E5ECF6",
              "width": 0.5
             },
             "pattern": {
              "fillmode": "overlay",
              "size": 10,
              "solidity": 0.2
             }
            },
            "type": "bar"
           }
          ],
          "barpolar": [
           {
            "marker": {
             "line": {
              "color": "#E5ECF6",
              "width": 0.5
             },
             "pattern": {
              "fillmode": "overlay",
              "size": 10,
              "solidity": 0.2
             }
            },
            "type": "barpolar"
           }
          ],
          "carpet": [
           {
            "aaxis": {
             "endlinecolor": "#2a3f5f",
             "gridcolor": "white",
             "linecolor": "white",
             "minorgridcolor": "white",
             "startlinecolor": "#2a3f5f"
            },
            "baxis": {
             "endlinecolor": "#2a3f5f",
             "gridcolor": "white",
             "linecolor": "white",
             "minorgridcolor": "white",
             "startlinecolor": "#2a3f5f"
            },
            "type": "carpet"
           }
          ],
          "choropleth": [
           {
            "colorbar": {
             "outlinewidth": 0,
             "ticks": ""
            },
            "type": "choropleth"
           }
          ],
          "contour": [
           {
            "colorbar": {
             "outlinewidth": 0,
             "ticks": ""
            },
            "colorscale": [
             [
              0,
              "#0d0887"
             ],
             [
              0.1111111111111111,
              "#46039f"
             ],
             [
              0.2222222222222222,
              "#7201a8"
             ],
             [
              0.3333333333333333,
              "#9c179e"
             ],
             [
              0.4444444444444444,
              "#bd3786"
             ],
             [
              0.5555555555555556,
              "#d8576b"
             ],
             [
              0.6666666666666666,
              "#ed7953"
             ],
             [
              0.7777777777777778,
              "#fb9f3a"
             ],
             [
              0.8888888888888888,
              "#fdca26"
             ],
             [
              1,
              "#f0f921"
             ]
            ],
            "type": "contour"
           }
          ],
          "contourcarpet": [
           {
            "colorbar": {
             "outlinewidth": 0,
             "ticks": ""
            },
            "type": "contourcarpet"
           }
          ],
          "heatmap": [
           {
            "colorbar": {
             "outlinewidth": 0,
             "ticks": ""
            },
            "colorscale": [
             [
              0,
              "#0d0887"
             ],
             [
              0.1111111111111111,
              "#46039f"
             ],
             [
              0.2222222222222222,
              "#7201a8"
             ],
             [
              0.3333333333333333,
              "#9c179e"
             ],
             [
              0.4444444444444444,
              "#bd3786"
             ],
             [
              0.5555555555555556,
              "#d8576b"
             ],
             [
              0.6666666666666666,
              "#ed7953"
             ],
             [
              0.7777777777777778,
              "#fb9f3a"
             ],
             [
              0.8888888888888888,
              "#fdca26"
             ],
             [
              1,
              "#f0f921"
             ]
            ],
            "type": "heatmap"
           }
          ],
          "heatmapgl": [
           {
            "colorbar": {
             "outlinewidth": 0,
             "ticks": ""
            },
            "colorscale": [
             [
              0,
              "#0d0887"
             ],
             [
              0.1111111111111111,
              "#46039f"
             ],
             [
              0.2222222222222222,
              "#7201a8"
             ],
             [
              0.3333333333333333,
              "#9c179e"
             ],
             [
              0.4444444444444444,
              "#bd3786"
             ],
             [
              0.5555555555555556,
              "#d8576b"
             ],
             [
              0.6666666666666666,
              "#ed7953"
             ],
             [
              0.7777777777777778,
              "#fb9f3a"
             ],
             [
              0.8888888888888888,
              "#fdca26"
             ],
             [
              1,
              "#f0f921"
             ]
            ],
            "type": "heatmapgl"
           }
          ],
          "histogram": [
           {
            "marker": {
             "pattern": {
              "fillmode": "overlay",
              "size": 10,
              "solidity": 0.2
             }
            },
            "type": "histogram"
           }
          ],
          "histogram2d": [
           {
            "colorbar": {
             "outlinewidth": 0,
             "ticks": ""
            },
            "colorscale": [
             [
              0,
              "#0d0887"
             ],
             [
              0.1111111111111111,
              "#46039f"
             ],
             [
              0.2222222222222222,
              "#7201a8"
             ],
             [
              0.3333333333333333,
              "#9c179e"
             ],
             [
              0.4444444444444444,
              "#bd3786"
             ],
             [
              0.5555555555555556,
              "#d8576b"
             ],
             [
              0.6666666666666666,
              "#ed7953"
             ],
             [
              0.7777777777777778,
              "#fb9f3a"
             ],
             [
              0.8888888888888888,
              "#fdca26"
             ],
             [
              1,
              "#f0f921"
             ]
            ],
            "type": "histogram2d"
           }
          ],
          "histogram2dcontour": [
           {
            "colorbar": {
             "outlinewidth": 0,
             "ticks": ""
            },
            "colorscale": [
             [
              0,
              "#0d0887"
             ],
             [
              0.1111111111111111,
              "#46039f"
             ],
             [
              0.2222222222222222,
              "#7201a8"
             ],
             [
              0.3333333333333333,
              "#9c179e"
             ],
             [
              0.4444444444444444,
              "#bd3786"
             ],
             [
              0.5555555555555556,
              "#d8576b"
             ],
             [
              0.6666666666666666,
              "#ed7953"
             ],
             [
              0.7777777777777778,
              "#fb9f3a"
             ],
             [
              0.8888888888888888,
              "#fdca26"
             ],
             [
              1,
              "#f0f921"
             ]
            ],
            "type": "histogram2dcontour"
           }
          ],
          "mesh3d": [
           {
            "colorbar": {
             "outlinewidth": 0,
             "ticks": ""
            },
            "type": "mesh3d"
           }
          ],
          "parcoords": [
           {
            "line": {
             "colorbar": {
              "outlinewidth": 0,
              "ticks": ""
             }
            },
            "type": "parcoords"
           }
          ],
          "pie": [
           {
            "automargin": true,
            "type": "pie"
           }
          ],
          "scatter": [
           {
            "fillpattern": {
             "fillmode": "overlay",
             "size": 10,
             "solidity": 0.2
            },
            "type": "scatter"
           }
          ],
          "scatter3d": [
           {
            "line": {
             "colorbar": {
              "outlinewidth": 0,
              "ticks": ""
             }
            },
            "marker": {
             "colorbar": {
              "outlinewidth": 0,
              "ticks": ""
             }
            },
            "type": "scatter3d"
           }
          ],
          "scattercarpet": [
           {
            "marker": {
             "colorbar": {
              "outlinewidth": 0,
              "ticks": ""
             }
            },
            "type": "scattercarpet"
           }
          ],
          "scattergeo": [
           {
            "marker": {
             "colorbar": {
              "outlinewidth": 0,
              "ticks": ""
             }
            },
            "type": "scattergeo"
           }
          ],
          "scattergl": [
           {
            "marker": {
             "colorbar": {
              "outlinewidth": 0,
              "ticks": ""
             }
            },
            "type": "scattergl"
           }
          ],
          "scattermapbox": [
           {
            "marker": {
             "colorbar": {
              "outlinewidth": 0,
              "ticks": ""
             }
            },
            "type": "scattermapbox"
           }
          ],
          "scatterpolar": [
           {
            "marker": {
             "colorbar": {
              "outlinewidth": 0,
              "ticks": ""
             }
            },
            "type": "scatterpolar"
           }
          ],
          "scatterpolargl": [
           {
            "marker": {
             "colorbar": {
              "outlinewidth": 0,
              "ticks": ""
             }
            },
            "type": "scatterpolargl"
           }
          ],
          "scatterternary": [
           {
            "marker": {
             "colorbar": {
              "outlinewidth": 0,
              "ticks": ""
             }
            },
            "type": "scatterternary"
           }
          ],
          "surface": [
           {
            "colorbar": {
             "outlinewidth": 0,
             "ticks": ""
            },
            "colorscale": [
             [
              0,
              "#0d0887"
             ],
             [
              0.1111111111111111,
              "#46039f"
             ],
             [
              0.2222222222222222,
              "#7201a8"
             ],
             [
              0.3333333333333333,
              "#9c179e"
             ],
             [
              0.4444444444444444,
              "#bd3786"
             ],
             [
              0.5555555555555556,
              "#d8576b"
             ],
             [
              0.6666666666666666,
              "#ed7953"
             ],
             [
              0.7777777777777778,
              "#fb9f3a"
             ],
             [
              0.8888888888888888,
              "#fdca26"
             ],
             [
              1,
              "#f0f921"
             ]
            ],
            "type": "surface"
           }
          ],
          "table": [
           {
            "cells": {
             "fill": {
              "color": "#EBF0F8"
             },
             "line": {
              "color": "white"
             }
            },
            "header": {
             "fill": {
              "color": "#C8D4E3"
             },
             "line": {
              "color": "white"
             }
            },
            "type": "table"
           }
          ]
         },
         "layout": {
          "annotationdefaults": {
           "arrowcolor": "#2a3f5f",
           "arrowhead": 0,
           "arrowwidth": 1
          },
          "autotypenumbers": "strict",
          "coloraxis": {
           "colorbar": {
            "outlinewidth": 0,
            "ticks": ""
           }
          },
          "colorscale": {
           "diverging": [
            [
             0,
             "#8e0152"
            ],
            [
             0.1,
             "#c51b7d"
            ],
            [
             0.2,
             "#de77ae"
            ],
            [
             0.3,
             "#f1b6da"
            ],
            [
             0.4,
             "#fde0ef"
            ],
            [
             0.5,
             "#f7f7f7"
            ],
            [
             0.6,
             "#e6f5d0"
            ],
            [
             0.7,
             "#b8e186"
            ],
            [
             0.8,
             "#7fbc41"
            ],
            [
             0.9,
             "#4d9221"
            ],
            [
             1,
             "#276419"
            ]
           ],
           "sequential": [
            [
             0,
             "#0d0887"
            ],
            [
             0.1111111111111111,
             "#46039f"
            ],
            [
             0.2222222222222222,
             "#7201a8"
            ],
            [
             0.3333333333333333,
             "#9c179e"
            ],
            [
             0.4444444444444444,
             "#bd3786"
            ],
            [
             0.5555555555555556,
             "#d8576b"
            ],
            [
             0.6666666666666666,
             "#ed7953"
            ],
            [
             0.7777777777777778,
             "#fb9f3a"
            ],
            [
             0.8888888888888888,
             "#fdca26"
            ],
            [
             1,
             "#f0f921"
            ]
           ],
           "sequentialminus": [
            [
             0,
             "#0d0887"
            ],
            [
             0.1111111111111111,
             "#46039f"
            ],
            [
             0.2222222222222222,
             "#7201a8"
            ],
            [
             0.3333333333333333,
             "#9c179e"
            ],
            [
             0.4444444444444444,
             "#bd3786"
            ],
            [
             0.5555555555555556,
             "#d8576b"
            ],
            [
             0.6666666666666666,
             "#ed7953"
            ],
            [
             0.7777777777777778,
             "#fb9f3a"
            ],
            [
             0.8888888888888888,
             "#fdca26"
            ],
            [
             1,
             "#f0f921"
            ]
           ]
          },
          "colorway": [
           "#636efa",
           "#EF553B",
           "#00cc96",
           "#ab63fa",
           "#FFA15A",
           "#19d3f3",
           "#FF6692",
           "#B6E880",
           "#FF97FF",
           "#FECB52"
          ],
          "font": {
           "color": "#2a3f5f"
          },
          "geo": {
           "bgcolor": "white",
           "lakecolor": "white",
           "landcolor": "#E5ECF6",
           "showlakes": true,
           "showland": true,
           "subunitcolor": "white"
          },
          "hoverlabel": {
           "align": "left"
          },
          "hovermode": "closest",
          "mapbox": {
           "style": "light"
          },
          "paper_bgcolor": "white",
          "plot_bgcolor": "#E5ECF6",
          "polar": {
           "angularaxis": {
            "gridcolor": "white",
            "linecolor": "white",
            "ticks": ""
           },
           "bgcolor": "#E5ECF6",
           "radialaxis": {
            "gridcolor": "white",
            "linecolor": "white",
            "ticks": ""
           }
          },
          "scene": {
           "xaxis": {
            "backgroundcolor": "#E5ECF6",
            "gridcolor": "white",
            "gridwidth": 2,
            "linecolor": "white",
            "showbackground": true,
            "ticks": "",
            "zerolinecolor": "white"
           },
           "yaxis": {
            "backgroundcolor": "#E5ECF6",
            "gridcolor": "white",
            "gridwidth": 2,
            "linecolor": "white",
            "showbackground": true,
            "ticks": "",
            "zerolinecolor": "white"
           },
           "zaxis": {
            "backgroundcolor": "#E5ECF6",
            "gridcolor": "white",
            "gridwidth": 2,
            "linecolor": "white",
            "showbackground": true,
            "ticks": "",
            "zerolinecolor": "white"
           }
          },
          "shapedefaults": {
           "line": {
            "color": "#2a3f5f"
           }
          },
          "ternary": {
           "aaxis": {
            "gridcolor": "white",
            "linecolor": "white",
            "ticks": ""
           },
           "baxis": {
            "gridcolor": "white",
            "linecolor": "white",
            "ticks": ""
           },
           "bgcolor": "#E5ECF6",
           "caxis": {
            "gridcolor": "white",
            "linecolor": "white",
            "ticks": ""
           }
          },
          "title": {
           "x": 0.05
          },
          "xaxis": {
           "automargin": true,
           "gridcolor": "white",
           "linecolor": "white",
           "ticks": "",
           "title": {
            "standoff": 15
           },
           "zerolinecolor": "white",
           "zerolinewidth": 2
          },
          "yaxis": {
           "automargin": true,
           "gridcolor": "white",
           "linecolor": "white",
           "ticks": "",
           "title": {
            "standoff": 15
           },
           "zerolinecolor": "white",
           "zerolinewidth": 2
          }
         }
        },
        "yaxis": {
         "type": "log"
        }
       }
      }
     },
     "metadata": {},
     "output_type": "display_data"
    }
   ],
   "source": [
    "# Saldo a liquidar por ND\n",
    "cols = ['ND', 'A_LIQUIDAR', 'LIQUIDADO_A_PAGAR', 'PAGO']\n",
    "\n",
    "df_aux = df.loc[:, cols].groupby('ND').sum().sort_values(by= 'A_LIQUIDAR', ascending=False).reset_index()\n",
    "df_aux = df_aux[df_aux['A_LIQUIDAR'] > 0]\n",
    "# Criando o gráfico\n",
    "fig = go.Figure()\n",
    "\n",
    "# Adicionando as colunas y1, y2 e y3 no eixo y\n",
    "fig.add_trace(go.Bar(x=df_aux['ND'], y=df_aux['A_LIQUIDAR'], name='A Liquidar'))\n",
    "fig.add_trace(go.Bar(x=df_aux['ND'], y=df_aux['LIQUIDADO_A_PAGAR'], name='Liquidado a pagar'))\n",
    "fig.add_trace(go.Bar(x=df_aux['ND'], y=df_aux['PAGO'], name='Pago'))\n",
    "\n",
    "fig.update_traces(textposition = 'outside', cliponaxis = False, hovertemplate=None)\n",
    "fig.update_layout(hovermode=\"x unified\")\n",
    "fig.update_yaxes(type=\"log\")\n",
    "\n",
    "fig.show()"
   ]
  },
  {
   "cell_type": "code",
   "execution_count": 17,
   "metadata": {},
   "outputs": [
    {
     "data": {
      "text/html": [
       "<div>\n",
       "<style scoped>\n",
       "    .dataframe tbody tr th:only-of-type {\n",
       "        vertical-align: middle;\n",
       "    }\n",
       "\n",
       "    .dataframe tbody tr th {\n",
       "        vertical-align: top;\n",
       "    }\n",
       "\n",
       "    .dataframe thead th {\n",
       "        text-align: right;\n",
       "    }\n",
       "</style>\n",
       "<table border=\"1\" class=\"dataframe\">\n",
       "  <thead>\n",
       "    <tr style=\"text-align: right;\">\n",
       "      <th></th>\n",
       "      <th>UG</th>\n",
       "      <th>SIGLA UG</th>\n",
       "      <th>ACAO</th>\n",
       "      <th>NOME_ACAO</th>\n",
       "      <th>ANO</th>\n",
       "      <th>CREDOR</th>\n",
       "      <th>NOME_CREDOR</th>\n",
       "      <th>DATA</th>\n",
       "      <th>DIAS</th>\n",
       "      <th>ICFEX</th>\n",
       "      <th>NOME_ICFEX</th>\n",
       "      <th>ND</th>\n",
       "      <th>NOME_ND</th>\n",
       "      <th>NDSI</th>\n",
       "      <th>NOME_NDSI</th>\n",
       "      <th>NE</th>\n",
       "      <th>PI</th>\n",
       "      <th>NOME_PI</th>\n",
       "      <th>PROGRAMA</th>\n",
       "      <th>PTRES</th>\n",
       "      <th>TIPO</th>\n",
       "      <th>TIPO_NE</th>\n",
       "      <th>LOCAL</th>\n",
       "      <th>UF_CREDOR</th>\n",
       "      <th>UF_UG</th>\n",
       "      <th>UGR</th>\n",
       "      <th>NOME_UGR</th>\n",
       "      <th>RADPI4</th>\n",
       "      <th>MEIPI3</th>\n",
       "      <th>SUFPI4</th>\n",
       "      <th>A_LIQUIDAR</th>\n",
       "      <th>LIQUIDADO_A_PAGAR</th>\n",
       "      <th>TOTAL_A_PAGAR</th>\n",
       "      <th>PAGO</th>\n",
       "    </tr>\n",
       "  </thead>\n",
       "  <tbody>\n",
       "    <tr>\n",
       "      <th>447</th>\n",
       "      <td>160129</td>\n",
       "      <td>ESA</td>\n",
       "      <td>212O</td>\n",
       "      <td>MOVIMENTACAO DE MILITARES</td>\n",
       "      <td>2023</td>\n",
       "      <td>03849500000190</td>\n",
       "      <td>A. CENTRAL TRANSPORTES LTDA</td>\n",
       "      <td>2023-07-10</td>\n",
       "      <td>80</td>\n",
       "      <td>160533</td>\n",
       "      <td>4º CGCFEX</td>\n",
       "      <td>339033</td>\n",
       "      <td>PASSAGENS E DESPESAS COM LOCOMOCAO</td>\n",
       "      <td>33903304</td>\n",
       "      <td>MUDANCAS EM OBJETO DE SERVICO</td>\n",
       "      <td>2023NE000863</td>\n",
       "      <td>D6DAATSLOCO</td>\n",
       "      <td>ATS - ATIVIDADES SETORIAIS</td>\n",
       "      <td>6012</td>\n",
       "      <td>171389</td>\n",
       "      <td>ANO</td>\n",
       "      <td>ESTIMATIVO</td>\n",
       "      <td>ESCOLA DE SARGENTOS DAS ARMAS</td>\n",
       "      <td>PR</td>\n",
       "      <td>MG</td>\n",
       "      <td>160505</td>\n",
       "      <td>DGP</td>\n",
       "      <td>D6DA</td>\n",
       "      <td>ATS</td>\n",
       "      <td>LOCO</td>\n",
       "      <td>15000.00</td>\n",
       "      <td>0.0</td>\n",
       "      <td>15000.00</td>\n",
       "      <td>0.0</td>\n",
       "    </tr>\n",
       "    <tr>\n",
       "      <th>448</th>\n",
       "      <td>160129</td>\n",
       "      <td>ESA</td>\n",
       "      <td>212O</td>\n",
       "      <td>MOVIMENTACAO DE MILITARES</td>\n",
       "      <td>2023</td>\n",
       "      <td>03849500000190</td>\n",
       "      <td>A. CENTRAL TRANSPORTES LTDA</td>\n",
       "      <td>2023-07-24</td>\n",
       "      <td>66</td>\n",
       "      <td>160533</td>\n",
       "      <td>4º CGCFEX</td>\n",
       "      <td>339033</td>\n",
       "      <td>PASSAGENS E DESPESAS COM LOCOMOCAO</td>\n",
       "      <td>33903304</td>\n",
       "      <td>MUDANCAS EM OBJETO DE SERVICO</td>\n",
       "      <td>2023NE000888</td>\n",
       "      <td>D6DAATSLOCO</td>\n",
       "      <td>ATS - ATIVIDADES SETORIAIS</td>\n",
       "      <td>6012</td>\n",
       "      <td>171389</td>\n",
       "      <td>ANO</td>\n",
       "      <td>ESTIMATIVO</td>\n",
       "      <td>ESCOLA DE SARGENTOS DAS ARMAS</td>\n",
       "      <td>PR</td>\n",
       "      <td>MG</td>\n",
       "      <td>160505</td>\n",
       "      <td>DGP</td>\n",
       "      <td>D6DA</td>\n",
       "      <td>ATS</td>\n",
       "      <td>LOCO</td>\n",
       "      <td>22455.00</td>\n",
       "      <td>0.0</td>\n",
       "      <td>22455.00</td>\n",
       "      <td>0.0</td>\n",
       "    </tr>\n",
       "    <tr>\n",
       "      <th>449</th>\n",
       "      <td>160129</td>\n",
       "      <td>ESA</td>\n",
       "      <td>212O</td>\n",
       "      <td>MOVIMENTACAO DE MILITARES</td>\n",
       "      <td>2023</td>\n",
       "      <td>03849500000190</td>\n",
       "      <td>A. CENTRAL TRANSPORTES LTDA</td>\n",
       "      <td>2023-07-25</td>\n",
       "      <td>65</td>\n",
       "      <td>160533</td>\n",
       "      <td>4º CGCFEX</td>\n",
       "      <td>339033</td>\n",
       "      <td>PASSAGENS E DESPESAS COM LOCOMOCAO</td>\n",
       "      <td>33903304</td>\n",
       "      <td>MUDANCAS EM OBJETO DE SERVICO</td>\n",
       "      <td>2023NE000897</td>\n",
       "      <td>D6DAATSLOCO</td>\n",
       "      <td>ATS - ATIVIDADES SETORIAIS</td>\n",
       "      <td>6012</td>\n",
       "      <td>171389</td>\n",
       "      <td>ANO</td>\n",
       "      <td>ESTIMATIVO</td>\n",
       "      <td>ESCOLA DE SARGENTOS DAS ARMAS</td>\n",
       "      <td>PR</td>\n",
       "      <td>MG</td>\n",
       "      <td>160505</td>\n",
       "      <td>DGP</td>\n",
       "      <td>D6DA</td>\n",
       "      <td>ATS</td>\n",
       "      <td>LOCO</td>\n",
       "      <td>18600.00</td>\n",
       "      <td>0.0</td>\n",
       "      <td>18600.00</td>\n",
       "      <td>0.0</td>\n",
       "    </tr>\n",
       "    <tr>\n",
       "      <th>450</th>\n",
       "      <td>160129</td>\n",
       "      <td>ESA</td>\n",
       "      <td>212O</td>\n",
       "      <td>MOVIMENTACAO DE MILITARES</td>\n",
       "      <td>2023</td>\n",
       "      <td>03849500000190</td>\n",
       "      <td>A. CENTRAL TRANSPORTES LTDA</td>\n",
       "      <td>2023-07-25</td>\n",
       "      <td>65</td>\n",
       "      <td>160533</td>\n",
       "      <td>4º CGCFEX</td>\n",
       "      <td>339033</td>\n",
       "      <td>PASSAGENS E DESPESAS COM LOCOMOCAO</td>\n",
       "      <td>33903304</td>\n",
       "      <td>MUDANCAS EM OBJETO DE SERVICO</td>\n",
       "      <td>2023NE000898</td>\n",
       "      <td>D6DAATSLOCO</td>\n",
       "      <td>ATS - ATIVIDADES SETORIAIS</td>\n",
       "      <td>6012</td>\n",
       "      <td>171389</td>\n",
       "      <td>ANO</td>\n",
       "      <td>ESTIMATIVO</td>\n",
       "      <td>ESCOLA DE SARGENTOS DAS ARMAS</td>\n",
       "      <td>PR</td>\n",
       "      <td>MG</td>\n",
       "      <td>160505</td>\n",
       "      <td>DGP</td>\n",
       "      <td>D6DA</td>\n",
       "      <td>ATS</td>\n",
       "      <td>LOCO</td>\n",
       "      <td>9000.00</td>\n",
       "      <td>0.0</td>\n",
       "      <td>9000.00</td>\n",
       "      <td>0.0</td>\n",
       "    </tr>\n",
       "    <tr>\n",
       "      <th>451</th>\n",
       "      <td>160129</td>\n",
       "      <td>ESA</td>\n",
       "      <td>212O</td>\n",
       "      <td>MOVIMENTACAO DE MILITARES</td>\n",
       "      <td>2023</td>\n",
       "      <td>03849500000190</td>\n",
       "      <td>A. CENTRAL TRANSPORTES LTDA</td>\n",
       "      <td>2023-08-08</td>\n",
       "      <td>51</td>\n",
       "      <td>160533</td>\n",
       "      <td>4º CGCFEX</td>\n",
       "      <td>339033</td>\n",
       "      <td>PASSAGENS E DESPESAS COM LOCOMOCAO</td>\n",
       "      <td>33903304</td>\n",
       "      <td>MUDANCAS EM OBJETO DE SERVICO</td>\n",
       "      <td>2023NE000960</td>\n",
       "      <td>D6DAATSLOCO</td>\n",
       "      <td>ATS - ATIVIDADES SETORIAIS</td>\n",
       "      <td>6012</td>\n",
       "      <td>171389</td>\n",
       "      <td>ANO</td>\n",
       "      <td>ESTIMATIVO</td>\n",
       "      <td>ESCOLA DE SARGENTOS DAS ARMAS</td>\n",
       "      <td>PR</td>\n",
       "      <td>MG</td>\n",
       "      <td>160505</td>\n",
       "      <td>DGP</td>\n",
       "      <td>D6DA</td>\n",
       "      <td>ATS</td>\n",
       "      <td>LOCO</td>\n",
       "      <td>24950.00</td>\n",
       "      <td>0.0</td>\n",
       "      <td>24950.00</td>\n",
       "      <td>0.0</td>\n",
       "    </tr>\n",
       "    <tr>\n",
       "      <th>452</th>\n",
       "      <td>160129</td>\n",
       "      <td>ESA</td>\n",
       "      <td>212O</td>\n",
       "      <td>MOVIMENTACAO DE MILITARES</td>\n",
       "      <td>2023</td>\n",
       "      <td>03849500000190</td>\n",
       "      <td>A. CENTRAL TRANSPORTES LTDA</td>\n",
       "      <td>2023-08-11</td>\n",
       "      <td>48</td>\n",
       "      <td>160533</td>\n",
       "      <td>4º CGCFEX</td>\n",
       "      <td>339033</td>\n",
       "      <td>PASSAGENS E DESPESAS COM LOCOMOCAO</td>\n",
       "      <td>33903304</td>\n",
       "      <td>MUDANCAS EM OBJETO DE SERVICO</td>\n",
       "      <td>2023NE000989</td>\n",
       "      <td>D6DAATSLOCO</td>\n",
       "      <td>ATS - ATIVIDADES SETORIAIS</td>\n",
       "      <td>6012</td>\n",
       "      <td>171389</td>\n",
       "      <td>ANO</td>\n",
       "      <td>ESTIMATIVO</td>\n",
       "      <td>ESCOLA DE SARGENTOS DAS ARMAS</td>\n",
       "      <td>PR</td>\n",
       "      <td>MG</td>\n",
       "      <td>160505</td>\n",
       "      <td>DGP</td>\n",
       "      <td>D6DA</td>\n",
       "      <td>ATS</td>\n",
       "      <td>LOCO</td>\n",
       "      <td>10800.00</td>\n",
       "      <td>0.0</td>\n",
       "      <td>10800.00</td>\n",
       "      <td>0.0</td>\n",
       "    </tr>\n",
       "    <tr>\n",
       "      <th>453</th>\n",
       "      <td>160129</td>\n",
       "      <td>ESA</td>\n",
       "      <td>212O</td>\n",
       "      <td>MOVIMENTACAO DE MILITARES</td>\n",
       "      <td>2023</td>\n",
       "      <td>03849500000190</td>\n",
       "      <td>A. CENTRAL TRANSPORTES LTDA</td>\n",
       "      <td>2023-08-11</td>\n",
       "      <td>48</td>\n",
       "      <td>160533</td>\n",
       "      <td>4º CGCFEX</td>\n",
       "      <td>339033</td>\n",
       "      <td>PASSAGENS E DESPESAS COM LOCOMOCAO</td>\n",
       "      <td>33903304</td>\n",
       "      <td>MUDANCAS EM OBJETO DE SERVICO</td>\n",
       "      <td>2023NE000990</td>\n",
       "      <td>D6DAATSLOCO</td>\n",
       "      <td>ATS - ATIVIDADES SETORIAIS</td>\n",
       "      <td>6012</td>\n",
       "      <td>171389</td>\n",
       "      <td>ANO</td>\n",
       "      <td>ESTIMATIVO</td>\n",
       "      <td>ESCOLA DE SARGENTOS DAS ARMAS</td>\n",
       "      <td>PR</td>\n",
       "      <td>MG</td>\n",
       "      <td>160505</td>\n",
       "      <td>DGP</td>\n",
       "      <td>D6DA</td>\n",
       "      <td>ATS</td>\n",
       "      <td>LOCO</td>\n",
       "      <td>28443.00</td>\n",
       "      <td>0.0</td>\n",
       "      <td>28443.00</td>\n",
       "      <td>0.0</td>\n",
       "    </tr>\n",
       "    <tr>\n",
       "      <th>454</th>\n",
       "      <td>160129</td>\n",
       "      <td>ESA</td>\n",
       "      <td>212O</td>\n",
       "      <td>MOVIMENTACAO DE MILITARES</td>\n",
       "      <td>2023</td>\n",
       "      <td>03849500000190</td>\n",
       "      <td>A. CENTRAL TRANSPORTES LTDA</td>\n",
       "      <td>2023-08-16</td>\n",
       "      <td>43</td>\n",
       "      <td>160533</td>\n",
       "      <td>4º CGCFEX</td>\n",
       "      <td>339033</td>\n",
       "      <td>PASSAGENS E DESPESAS COM LOCOMOCAO</td>\n",
       "      <td>33903304</td>\n",
       "      <td>MUDANCAS EM OBJETO DE SERVICO</td>\n",
       "      <td>2023NE001018</td>\n",
       "      <td>D6DAATSLOCO</td>\n",
       "      <td>ATS - ATIVIDADES SETORIAIS</td>\n",
       "      <td>6012</td>\n",
       "      <td>171389</td>\n",
       "      <td>ANO</td>\n",
       "      <td>ESTIMATIVO</td>\n",
       "      <td>ESCOLA DE SARGENTOS DAS ARMAS</td>\n",
       "      <td>PR</td>\n",
       "      <td>MG</td>\n",
       "      <td>160505</td>\n",
       "      <td>DGP</td>\n",
       "      <td>D6DA</td>\n",
       "      <td>ATS</td>\n",
       "      <td>LOCO</td>\n",
       "      <td>9900.00</td>\n",
       "      <td>0.0</td>\n",
       "      <td>9900.00</td>\n",
       "      <td>0.0</td>\n",
       "    </tr>\n",
       "    <tr>\n",
       "      <th>455</th>\n",
       "      <td>160129</td>\n",
       "      <td>ESA</td>\n",
       "      <td>212O</td>\n",
       "      <td>MOVIMENTACAO DE MILITARES</td>\n",
       "      <td>2023</td>\n",
       "      <td>03849500000190</td>\n",
       "      <td>A. CENTRAL TRANSPORTES LTDA</td>\n",
       "      <td>2023-08-23</td>\n",
       "      <td>36</td>\n",
       "      <td>160533</td>\n",
       "      <td>4º CGCFEX</td>\n",
       "      <td>339033</td>\n",
       "      <td>PASSAGENS E DESPESAS COM LOCOMOCAO</td>\n",
       "      <td>33903304</td>\n",
       "      <td>MUDANCAS EM OBJETO DE SERVICO</td>\n",
       "      <td>2023NE001059</td>\n",
       "      <td>D6DAATSLOCO</td>\n",
       "      <td>ATS - ATIVIDADES SETORIAIS</td>\n",
       "      <td>6012</td>\n",
       "      <td>171389</td>\n",
       "      <td>ANO</td>\n",
       "      <td>ESTIMATIVO</td>\n",
       "      <td>ESCOLA DE SARGENTOS DAS ARMAS</td>\n",
       "      <td>PR</td>\n",
       "      <td>MG</td>\n",
       "      <td>160505</td>\n",
       "      <td>DGP</td>\n",
       "      <td>D6DA</td>\n",
       "      <td>ATS</td>\n",
       "      <td>LOCO</td>\n",
       "      <td>14400.00</td>\n",
       "      <td>0.0</td>\n",
       "      <td>14400.00</td>\n",
       "      <td>0.0</td>\n",
       "    </tr>\n",
       "    <tr>\n",
       "      <th>456</th>\n",
       "      <td>160129</td>\n",
       "      <td>ESA</td>\n",
       "      <td>212O</td>\n",
       "      <td>MOVIMENTACAO DE MILITARES</td>\n",
       "      <td>2023</td>\n",
       "      <td>03849500000190</td>\n",
       "      <td>A. CENTRAL TRANSPORTES LTDA</td>\n",
       "      <td>2023-08-29</td>\n",
       "      <td>30</td>\n",
       "      <td>160533</td>\n",
       "      <td>4º CGCFEX</td>\n",
       "      <td>339033</td>\n",
       "      <td>PASSAGENS E DESPESAS COM LOCOMOCAO</td>\n",
       "      <td>33903304</td>\n",
       "      <td>MUDANCAS EM OBJETO DE SERVICO</td>\n",
       "      <td>2023NE001079</td>\n",
       "      <td>D6DAATSLOCO</td>\n",
       "      <td>ATS - ATIVIDADES SETORIAIS</td>\n",
       "      <td>6012</td>\n",
       "      <td>171389</td>\n",
       "      <td>ANO</td>\n",
       "      <td>ESTIMATIVO</td>\n",
       "      <td>ESCOLA DE SARGENTOS DAS ARMAS</td>\n",
       "      <td>PR</td>\n",
       "      <td>MG</td>\n",
       "      <td>160505</td>\n",
       "      <td>DGP</td>\n",
       "      <td>D6DA</td>\n",
       "      <td>ATS</td>\n",
       "      <td>LOCO</td>\n",
       "      <td>11160.00</td>\n",
       "      <td>0.0</td>\n",
       "      <td>11160.00</td>\n",
       "      <td>0.0</td>\n",
       "    </tr>\n",
       "    <tr>\n",
       "      <th>457</th>\n",
       "      <td>160129</td>\n",
       "      <td>ESA</td>\n",
       "      <td>212O</td>\n",
       "      <td>MOVIMENTACAO DE MILITARES</td>\n",
       "      <td>2023</td>\n",
       "      <td>03849500000190</td>\n",
       "      <td>A. CENTRAL TRANSPORTES LTDA</td>\n",
       "      <td>2023-08-30</td>\n",
       "      <td>29</td>\n",
       "      <td>160533</td>\n",
       "      <td>4º CGCFEX</td>\n",
       "      <td>339033</td>\n",
       "      <td>PASSAGENS E DESPESAS COM LOCOMOCAO</td>\n",
       "      <td>33903304</td>\n",
       "      <td>MUDANCAS EM OBJETO DE SERVICO</td>\n",
       "      <td>2023NE001090</td>\n",
       "      <td>D6DAATSLOCO</td>\n",
       "      <td>ATS - ATIVIDADES SETORIAIS</td>\n",
       "      <td>6012</td>\n",
       "      <td>171389</td>\n",
       "      <td>ANO</td>\n",
       "      <td>ESTIMATIVO</td>\n",
       "      <td>ESA</td>\n",
       "      <td>PR</td>\n",
       "      <td>MG</td>\n",
       "      <td>160505</td>\n",
       "      <td>DGP</td>\n",
       "      <td>D6DA</td>\n",
       "      <td>ATS</td>\n",
       "      <td>LOCO</td>\n",
       "      <td>10260.00</td>\n",
       "      <td>0.0</td>\n",
       "      <td>10260.00</td>\n",
       "      <td>0.0</td>\n",
       "    </tr>\n",
       "    <tr>\n",
       "      <th>458</th>\n",
       "      <td>160129</td>\n",
       "      <td>ESA</td>\n",
       "      <td>212O</td>\n",
       "      <td>MOVIMENTACAO DE MILITARES</td>\n",
       "      <td>2023</td>\n",
       "      <td>03849500000190</td>\n",
       "      <td>A. CENTRAL TRANSPORTES LTDA</td>\n",
       "      <td>2023-08-30</td>\n",
       "      <td>29</td>\n",
       "      <td>160533</td>\n",
       "      <td>4º CGCFEX</td>\n",
       "      <td>339033</td>\n",
       "      <td>PASSAGENS E DESPESAS COM LOCOMOCAO</td>\n",
       "      <td>33903304</td>\n",
       "      <td>MUDANCAS EM OBJETO DE SERVICO</td>\n",
       "      <td>2023NE001091</td>\n",
       "      <td>D6DAATSLOCO</td>\n",
       "      <td>ATS - ATIVIDADES SETORIAIS</td>\n",
       "      <td>6012</td>\n",
       "      <td>171389</td>\n",
       "      <td>ANO</td>\n",
       "      <td>ESTIMATIVO</td>\n",
       "      <td>ESA</td>\n",
       "      <td>PR</td>\n",
       "      <td>MG</td>\n",
       "      <td>160505</td>\n",
       "      <td>DGP</td>\n",
       "      <td>D6DA</td>\n",
       "      <td>ATS</td>\n",
       "      <td>LOCO</td>\n",
       "      <td>9000.00</td>\n",
       "      <td>0.0</td>\n",
       "      <td>9000.00</td>\n",
       "      <td>0.0</td>\n",
       "    </tr>\n",
       "    <tr>\n",
       "      <th>459</th>\n",
       "      <td>160129</td>\n",
       "      <td>ESA</td>\n",
       "      <td>212O</td>\n",
       "      <td>MOVIMENTACAO DE MILITARES</td>\n",
       "      <td>2023</td>\n",
       "      <td>03849500000190</td>\n",
       "      <td>A. CENTRAL TRANSPORTES LTDA</td>\n",
       "      <td>2023-09-04</td>\n",
       "      <td>24</td>\n",
       "      <td>160533</td>\n",
       "      <td>4º CGCFEX</td>\n",
       "      <td>339033</td>\n",
       "      <td>PASSAGENS E DESPESAS COM LOCOMOCAO</td>\n",
       "      <td>33903304</td>\n",
       "      <td>MUDANCAS EM OBJETO DE SERVICO</td>\n",
       "      <td>2023NE001100</td>\n",
       "      <td>D6DAATSLOCO</td>\n",
       "      <td>ATS - ATIVIDADES SETORIAIS</td>\n",
       "      <td>6012</td>\n",
       "      <td>171389</td>\n",
       "      <td>ANO</td>\n",
       "      <td>ESTIMATIVO</td>\n",
       "      <td>ESCOLA DE SARGENTOS DAS ARMAS</td>\n",
       "      <td>PR</td>\n",
       "      <td>MG</td>\n",
       "      <td>160505</td>\n",
       "      <td>DGP</td>\n",
       "      <td>D6DA</td>\n",
       "      <td>ATS</td>\n",
       "      <td>LOCO</td>\n",
       "      <td>31000.00</td>\n",
       "      <td>0.0</td>\n",
       "      <td>31000.00</td>\n",
       "      <td>0.0</td>\n",
       "    </tr>\n",
       "    <tr>\n",
       "      <th>460</th>\n",
       "      <td>160129</td>\n",
       "      <td>ESA</td>\n",
       "      <td>212O</td>\n",
       "      <td>MOVIMENTACAO DE MILITARES</td>\n",
       "      <td>2023</td>\n",
       "      <td>03849500000190</td>\n",
       "      <td>A. CENTRAL TRANSPORTES LTDA</td>\n",
       "      <td>2023-09-04</td>\n",
       "      <td>24</td>\n",
       "      <td>160533</td>\n",
       "      <td>4º CGCFEX</td>\n",
       "      <td>339033</td>\n",
       "      <td>PASSAGENS E DESPESAS COM LOCOMOCAO</td>\n",
       "      <td>33903304</td>\n",
       "      <td>MUDANCAS EM OBJETO DE SERVICO</td>\n",
       "      <td>2023NE001102</td>\n",
       "      <td>D6DAATSLOCO</td>\n",
       "      <td>ATS - ATIVIDADES SETORIAIS</td>\n",
       "      <td>6012</td>\n",
       "      <td>171389</td>\n",
       "      <td>ANO</td>\n",
       "      <td>ESTIMATIVO</td>\n",
       "      <td>ESCOLA DE SARGENTOS DAS ARMAS</td>\n",
       "      <td>PR</td>\n",
       "      <td>MG</td>\n",
       "      <td>160505</td>\n",
       "      <td>DGP</td>\n",
       "      <td>D6DA</td>\n",
       "      <td>ATS</td>\n",
       "      <td>LOCO</td>\n",
       "      <td>15000.00</td>\n",
       "      <td>0.0</td>\n",
       "      <td>15000.00</td>\n",
       "      <td>0.0</td>\n",
       "    </tr>\n",
       "    <tr>\n",
       "      <th>461</th>\n",
       "      <td>160129</td>\n",
       "      <td>ESA</td>\n",
       "      <td>212O</td>\n",
       "      <td>MOVIMENTACAO DE MILITARES</td>\n",
       "      <td>2023</td>\n",
       "      <td>03849500000190</td>\n",
       "      <td>A. CENTRAL TRANSPORTES LTDA</td>\n",
       "      <td>2023-09-05</td>\n",
       "      <td>23</td>\n",
       "      <td>160533</td>\n",
       "      <td>4º CGCFEX</td>\n",
       "      <td>339033</td>\n",
       "      <td>PASSAGENS E DESPESAS COM LOCOMOCAO</td>\n",
       "      <td>33903304</td>\n",
       "      <td>MUDANCAS EM OBJETO DE SERVICO</td>\n",
       "      <td>2023NE001104</td>\n",
       "      <td>D6DAATSLOCO</td>\n",
       "      <td>ATS - ATIVIDADES SETORIAIS</td>\n",
       "      <td>6012</td>\n",
       "      <td>171389</td>\n",
       "      <td>ANO</td>\n",
       "      <td>ESTIMATIVO</td>\n",
       "      <td>ESCOLA DE SARGENTOS DAS ARMAS</td>\n",
       "      <td>PR</td>\n",
       "      <td>MG</td>\n",
       "      <td>160505</td>\n",
       "      <td>DGP</td>\n",
       "      <td>D6DA</td>\n",
       "      <td>ATS</td>\n",
       "      <td>LOCO</td>\n",
       "      <td>15900.00</td>\n",
       "      <td>0.0</td>\n",
       "      <td>15900.00</td>\n",
       "      <td>0.0</td>\n",
       "    </tr>\n",
       "    <tr>\n",
       "      <th>462</th>\n",
       "      <td>160129</td>\n",
       "      <td>ESA</td>\n",
       "      <td>212O</td>\n",
       "      <td>MOVIMENTACAO DE MILITARES</td>\n",
       "      <td>2023</td>\n",
       "      <td>03849500000190</td>\n",
       "      <td>A. CENTRAL TRANSPORTES LTDA</td>\n",
       "      <td>2023-09-07</td>\n",
       "      <td>21</td>\n",
       "      <td>160533</td>\n",
       "      <td>4º CGCFEX</td>\n",
       "      <td>339033</td>\n",
       "      <td>PASSAGENS E DESPESAS COM LOCOMOCAO</td>\n",
       "      <td>33903304</td>\n",
       "      <td>MUDANCAS EM OBJETO DE SERVICO</td>\n",
       "      <td>2023NE001125</td>\n",
       "      <td>D6DAATSLOCO</td>\n",
       "      <td>ATS - ATIVIDADES SETORIAIS</td>\n",
       "      <td>6012</td>\n",
       "      <td>171389</td>\n",
       "      <td>ANO</td>\n",
       "      <td>ESTIMATIVO</td>\n",
       "      <td>ESCOLA DE SARGENTOS DAS ARMAS</td>\n",
       "      <td>PR</td>\n",
       "      <td>MG</td>\n",
       "      <td>160505</td>\n",
       "      <td>DGP</td>\n",
       "      <td>D6DA</td>\n",
       "      <td>ATS</td>\n",
       "      <td>LOCO</td>\n",
       "      <td>9000.00</td>\n",
       "      <td>0.0</td>\n",
       "      <td>9000.00</td>\n",
       "      <td>0.0</td>\n",
       "    </tr>\n",
       "    <tr>\n",
       "      <th>463</th>\n",
       "      <td>160129</td>\n",
       "      <td>ESA</td>\n",
       "      <td>212O</td>\n",
       "      <td>MOVIMENTACAO DE MILITARES</td>\n",
       "      <td>2023</td>\n",
       "      <td>03849500000190</td>\n",
       "      <td>A. CENTRAL TRANSPORTES LTDA</td>\n",
       "      <td>2023-09-12</td>\n",
       "      <td>16</td>\n",
       "      <td>160533</td>\n",
       "      <td>4º CGCFEX</td>\n",
       "      <td>339033</td>\n",
       "      <td>PASSAGENS E DESPESAS COM LOCOMOCAO</td>\n",
       "      <td>33903304</td>\n",
       "      <td>MUDANCAS EM OBJETO DE SERVICO</td>\n",
       "      <td>2023NE001133</td>\n",
       "      <td>D6DAATSLOCO</td>\n",
       "      <td>ATS - ATIVIDADES SETORIAIS</td>\n",
       "      <td>6012</td>\n",
       "      <td>171389</td>\n",
       "      <td>ANO</td>\n",
       "      <td>ESTIMATIVO</td>\n",
       "      <td>ESCOLA DE SARGENTOS DAS ARMAS</td>\n",
       "      <td>PR</td>\n",
       "      <td>MG</td>\n",
       "      <td>160505</td>\n",
       "      <td>DGP</td>\n",
       "      <td>D6DA</td>\n",
       "      <td>ATS</td>\n",
       "      <td>LOCO</td>\n",
       "      <td>31000.00</td>\n",
       "      <td>0.0</td>\n",
       "      <td>31000.00</td>\n",
       "      <td>0.0</td>\n",
       "    </tr>\n",
       "    <tr>\n",
       "      <th>550</th>\n",
       "      <td>160129</td>\n",
       "      <td>ESA</td>\n",
       "      <td>212O</td>\n",
       "      <td>MOVIMENTACAO DE MILITARES</td>\n",
       "      <td>2023</td>\n",
       "      <td>07027329743</td>\n",
       "      <td>ANDRE LUIZ DO NASCIMENTO CABRAL</td>\n",
       "      <td>2023-08-18</td>\n",
       "      <td>41</td>\n",
       "      <td>160533</td>\n",
       "      <td>4º CGCFEX</td>\n",
       "      <td>339093</td>\n",
       "      <td>INDENIZACOES E RESTITUICOES</td>\n",
       "      <td>33909318</td>\n",
       "      <td>AJUDA DE CUSTO - PESSOAL MILITAR</td>\n",
       "      <td>2023NE001025</td>\n",
       "      <td>D6PEINDMV1A</td>\n",
       "      <td>IND-INDENIZACOES</td>\n",
       "      <td>6012</td>\n",
       "      <td>171389</td>\n",
       "      <td>ANO</td>\n",
       "      <td>ORDINARIO</td>\n",
       "      <td>0</td>\n",
       "      <td>SC</td>\n",
       "      <td>MG</td>\n",
       "      <td>160505</td>\n",
       "      <td>DGP</td>\n",
       "      <td>D6PE</td>\n",
       "      <td>IND</td>\n",
       "      <td>MV1A</td>\n",
       "      <td>1575.00</td>\n",
       "      <td>0.0</td>\n",
       "      <td>1575.00</td>\n",
       "      <td>787.5</td>\n",
       "    </tr>\n",
       "    <tr>\n",
       "      <th>760</th>\n",
       "      <td>160129</td>\n",
       "      <td>ESA</td>\n",
       "      <td>212O</td>\n",
       "      <td>MOVIMENTACAO DE MILITARES</td>\n",
       "      <td>2023</td>\n",
       "      <td>160129</td>\n",
       "      <td>NaN</td>\n",
       "      <td>2023-09-06</td>\n",
       "      <td>22</td>\n",
       "      <td>160533</td>\n",
       "      <td>4º CGCFEX</td>\n",
       "      <td>339093</td>\n",
       "      <td>INDENIZACOES E RESTITUICOES</td>\n",
       "      <td>33909301</td>\n",
       "      <td>INDENIZACOES</td>\n",
       "      <td>2023NE001123</td>\n",
       "      <td>D1PEINDCO4T</td>\n",
       "      <td>IND - INDENIZACOES</td>\n",
       "      <td>6012</td>\n",
       "      <td>171389</td>\n",
       "      <td>ANO</td>\n",
       "      <td>ESTIMATIVO</td>\n",
       "      <td>0</td>\n",
       "      <td>NaN</td>\n",
       "      <td>MG</td>\n",
       "      <td>160129</td>\n",
       "      <td>ESA</td>\n",
       "      <td>D1PE</td>\n",
       "      <td>IND</td>\n",
       "      <td>CO4T</td>\n",
       "      <td>2670.94</td>\n",
       "      <td>0.0</td>\n",
       "      <td>2670.94</td>\n",
       "      <td>0.0</td>\n",
       "    </tr>\n",
       "    <tr>\n",
       "      <th>769</th>\n",
       "      <td>160129</td>\n",
       "      <td>ESA</td>\n",
       "      <td>212O</td>\n",
       "      <td>MOVIMENTACAO DE MILITARES</td>\n",
       "      <td>2023</td>\n",
       "      <td>16488471708</td>\n",
       "      <td>LEANDRO GABRIEL RIBEIRO FERREIRA DA SILVA</td>\n",
       "      <td>2023-03-21</td>\n",
       "      <td>191</td>\n",
       "      <td>160533</td>\n",
       "      <td>4º CGCFEX</td>\n",
       "      <td>339093</td>\n",
       "      <td>INDENIZACOES E RESTITUICOES</td>\n",
       "      <td>33909318</td>\n",
       "      <td>AJUDA DE CUSTO - PESSOAL MILITAR</td>\n",
       "      <td>2023NE000252</td>\n",
       "      <td>D6PEINDMV1A</td>\n",
       "      <td>IND-INDENIZACOES</td>\n",
       "      <td>6012</td>\n",
       "      <td>171389</td>\n",
       "      <td>ANO</td>\n",
       "      <td>ORDINARIO</td>\n",
       "      <td>0</td>\n",
       "      <td>MG</td>\n",
       "      <td>MG</td>\n",
       "      <td>160505</td>\n",
       "      <td>DGP</td>\n",
       "      <td>D6PE</td>\n",
       "      <td>IND</td>\n",
       "      <td>MV1A</td>\n",
       "      <td>26.64</td>\n",
       "      <td>0.0</td>\n",
       "      <td>26.64</td>\n",
       "      <td>1828.7</td>\n",
       "    </tr>\n",
       "  </tbody>\n",
       "</table>\n",
       "</div>"
      ],
      "text/plain": [
       "         UG SIGLA UG  ACAO                  NOME_ACAO   ANO          CREDOR  \\\n",
       "447  160129      ESA  212O  MOVIMENTACAO DE MILITARES  2023  03849500000190   \n",
       "448  160129      ESA  212O  MOVIMENTACAO DE MILITARES  2023  03849500000190   \n",
       "449  160129      ESA  212O  MOVIMENTACAO DE MILITARES  2023  03849500000190   \n",
       "450  160129      ESA  212O  MOVIMENTACAO DE MILITARES  2023  03849500000190   \n",
       "451  160129      ESA  212O  MOVIMENTACAO DE MILITARES  2023  03849500000190   \n",
       "452  160129      ESA  212O  MOVIMENTACAO DE MILITARES  2023  03849500000190   \n",
       "453  160129      ESA  212O  MOVIMENTACAO DE MILITARES  2023  03849500000190   \n",
       "454  160129      ESA  212O  MOVIMENTACAO DE MILITARES  2023  03849500000190   \n",
       "455  160129      ESA  212O  MOVIMENTACAO DE MILITARES  2023  03849500000190   \n",
       "456  160129      ESA  212O  MOVIMENTACAO DE MILITARES  2023  03849500000190   \n",
       "457  160129      ESA  212O  MOVIMENTACAO DE MILITARES  2023  03849500000190   \n",
       "458  160129      ESA  212O  MOVIMENTACAO DE MILITARES  2023  03849500000190   \n",
       "459  160129      ESA  212O  MOVIMENTACAO DE MILITARES  2023  03849500000190   \n",
       "460  160129      ESA  212O  MOVIMENTACAO DE MILITARES  2023  03849500000190   \n",
       "461  160129      ESA  212O  MOVIMENTACAO DE MILITARES  2023  03849500000190   \n",
       "462  160129      ESA  212O  MOVIMENTACAO DE MILITARES  2023  03849500000190   \n",
       "463  160129      ESA  212O  MOVIMENTACAO DE MILITARES  2023  03849500000190   \n",
       "550  160129      ESA  212O  MOVIMENTACAO DE MILITARES  2023     07027329743   \n",
       "760  160129      ESA  212O  MOVIMENTACAO DE MILITARES  2023          160129   \n",
       "769  160129      ESA  212O  MOVIMENTACAO DE MILITARES  2023     16488471708   \n",
       "\n",
       "                                   NOME_CREDOR       DATA  DIAS   ICFEX  \\\n",
       "447                A. CENTRAL TRANSPORTES LTDA 2023-07-10    80  160533   \n",
       "448                A. CENTRAL TRANSPORTES LTDA 2023-07-24    66  160533   \n",
       "449                A. CENTRAL TRANSPORTES LTDA 2023-07-25    65  160533   \n",
       "450                A. CENTRAL TRANSPORTES LTDA 2023-07-25    65  160533   \n",
       "451                A. CENTRAL TRANSPORTES LTDA 2023-08-08    51  160533   \n",
       "452                A. CENTRAL TRANSPORTES LTDA 2023-08-11    48  160533   \n",
       "453                A. CENTRAL TRANSPORTES LTDA 2023-08-11    48  160533   \n",
       "454                A. CENTRAL TRANSPORTES LTDA 2023-08-16    43  160533   \n",
       "455                A. CENTRAL TRANSPORTES LTDA 2023-08-23    36  160533   \n",
       "456                A. CENTRAL TRANSPORTES LTDA 2023-08-29    30  160533   \n",
       "457                A. CENTRAL TRANSPORTES LTDA 2023-08-30    29  160533   \n",
       "458                A. CENTRAL TRANSPORTES LTDA 2023-08-30    29  160533   \n",
       "459                A. CENTRAL TRANSPORTES LTDA 2023-09-04    24  160533   \n",
       "460                A. CENTRAL TRANSPORTES LTDA 2023-09-04    24  160533   \n",
       "461                A. CENTRAL TRANSPORTES LTDA 2023-09-05    23  160533   \n",
       "462                A. CENTRAL TRANSPORTES LTDA 2023-09-07    21  160533   \n",
       "463                A. CENTRAL TRANSPORTES LTDA 2023-09-12    16  160533   \n",
       "550            ANDRE LUIZ DO NASCIMENTO CABRAL 2023-08-18    41  160533   \n",
       "760                                        NaN 2023-09-06    22  160533   \n",
       "769  LEANDRO GABRIEL RIBEIRO FERREIRA DA SILVA 2023-03-21   191  160533   \n",
       "\n",
       "    NOME_ICFEX      ND                             NOME_ND      NDSI  \\\n",
       "447  4º CGCFEX  339033  PASSAGENS E DESPESAS COM LOCOMOCAO  33903304   \n",
       "448  4º CGCFEX  339033  PASSAGENS E DESPESAS COM LOCOMOCAO  33903304   \n",
       "449  4º CGCFEX  339033  PASSAGENS E DESPESAS COM LOCOMOCAO  33903304   \n",
       "450  4º CGCFEX  339033  PASSAGENS E DESPESAS COM LOCOMOCAO  33903304   \n",
       "451  4º CGCFEX  339033  PASSAGENS E DESPESAS COM LOCOMOCAO  33903304   \n",
       "452  4º CGCFEX  339033  PASSAGENS E DESPESAS COM LOCOMOCAO  33903304   \n",
       "453  4º CGCFEX  339033  PASSAGENS E DESPESAS COM LOCOMOCAO  33903304   \n",
       "454  4º CGCFEX  339033  PASSAGENS E DESPESAS COM LOCOMOCAO  33903304   \n",
       "455  4º CGCFEX  339033  PASSAGENS E DESPESAS COM LOCOMOCAO  33903304   \n",
       "456  4º CGCFEX  339033  PASSAGENS E DESPESAS COM LOCOMOCAO  33903304   \n",
       "457  4º CGCFEX  339033  PASSAGENS E DESPESAS COM LOCOMOCAO  33903304   \n",
       "458  4º CGCFEX  339033  PASSAGENS E DESPESAS COM LOCOMOCAO  33903304   \n",
       "459  4º CGCFEX  339033  PASSAGENS E DESPESAS COM LOCOMOCAO  33903304   \n",
       "460  4º CGCFEX  339033  PASSAGENS E DESPESAS COM LOCOMOCAO  33903304   \n",
       "461  4º CGCFEX  339033  PASSAGENS E DESPESAS COM LOCOMOCAO  33903304   \n",
       "462  4º CGCFEX  339033  PASSAGENS E DESPESAS COM LOCOMOCAO  33903304   \n",
       "463  4º CGCFEX  339033  PASSAGENS E DESPESAS COM LOCOMOCAO  33903304   \n",
       "550  4º CGCFEX  339093         INDENIZACOES E RESTITUICOES  33909318   \n",
       "760  4º CGCFEX  339093         INDENIZACOES E RESTITUICOES  33909301   \n",
       "769  4º CGCFEX  339093         INDENIZACOES E RESTITUICOES  33909318   \n",
       "\n",
       "                            NOME_NDSI            NE           PI  \\\n",
       "447     MUDANCAS EM OBJETO DE SERVICO  2023NE000863  D6DAATSLOCO   \n",
       "448     MUDANCAS EM OBJETO DE SERVICO  2023NE000888  D6DAATSLOCO   \n",
       "449     MUDANCAS EM OBJETO DE SERVICO  2023NE000897  D6DAATSLOCO   \n",
       "450     MUDANCAS EM OBJETO DE SERVICO  2023NE000898  D6DAATSLOCO   \n",
       "451     MUDANCAS EM OBJETO DE SERVICO  2023NE000960  D6DAATSLOCO   \n",
       "452     MUDANCAS EM OBJETO DE SERVICO  2023NE000989  D6DAATSLOCO   \n",
       "453     MUDANCAS EM OBJETO DE SERVICO  2023NE000990  D6DAATSLOCO   \n",
       "454     MUDANCAS EM OBJETO DE SERVICO  2023NE001018  D6DAATSLOCO   \n",
       "455     MUDANCAS EM OBJETO DE SERVICO  2023NE001059  D6DAATSLOCO   \n",
       "456     MUDANCAS EM OBJETO DE SERVICO  2023NE001079  D6DAATSLOCO   \n",
       "457     MUDANCAS EM OBJETO DE SERVICO  2023NE001090  D6DAATSLOCO   \n",
       "458     MUDANCAS EM OBJETO DE SERVICO  2023NE001091  D6DAATSLOCO   \n",
       "459     MUDANCAS EM OBJETO DE SERVICO  2023NE001100  D6DAATSLOCO   \n",
       "460     MUDANCAS EM OBJETO DE SERVICO  2023NE001102  D6DAATSLOCO   \n",
       "461     MUDANCAS EM OBJETO DE SERVICO  2023NE001104  D6DAATSLOCO   \n",
       "462     MUDANCAS EM OBJETO DE SERVICO  2023NE001125  D6DAATSLOCO   \n",
       "463     MUDANCAS EM OBJETO DE SERVICO  2023NE001133  D6DAATSLOCO   \n",
       "550  AJUDA DE CUSTO - PESSOAL MILITAR  2023NE001025  D6PEINDMV1A   \n",
       "760                      INDENIZACOES  2023NE001123  D1PEINDCO4T   \n",
       "769  AJUDA DE CUSTO - PESSOAL MILITAR  2023NE000252  D6PEINDMV1A   \n",
       "\n",
       "                        NOME_PI PROGRAMA   PTRES TIPO     TIPO_NE  \\\n",
       "447  ATS - ATIVIDADES SETORIAIS     6012  171389  ANO  ESTIMATIVO   \n",
       "448  ATS - ATIVIDADES SETORIAIS     6012  171389  ANO  ESTIMATIVO   \n",
       "449  ATS - ATIVIDADES SETORIAIS     6012  171389  ANO  ESTIMATIVO   \n",
       "450  ATS - ATIVIDADES SETORIAIS     6012  171389  ANO  ESTIMATIVO   \n",
       "451  ATS - ATIVIDADES SETORIAIS     6012  171389  ANO  ESTIMATIVO   \n",
       "452  ATS - ATIVIDADES SETORIAIS     6012  171389  ANO  ESTIMATIVO   \n",
       "453  ATS - ATIVIDADES SETORIAIS     6012  171389  ANO  ESTIMATIVO   \n",
       "454  ATS - ATIVIDADES SETORIAIS     6012  171389  ANO  ESTIMATIVO   \n",
       "455  ATS - ATIVIDADES SETORIAIS     6012  171389  ANO  ESTIMATIVO   \n",
       "456  ATS - ATIVIDADES SETORIAIS     6012  171389  ANO  ESTIMATIVO   \n",
       "457  ATS - ATIVIDADES SETORIAIS     6012  171389  ANO  ESTIMATIVO   \n",
       "458  ATS - ATIVIDADES SETORIAIS     6012  171389  ANO  ESTIMATIVO   \n",
       "459  ATS - ATIVIDADES SETORIAIS     6012  171389  ANO  ESTIMATIVO   \n",
       "460  ATS - ATIVIDADES SETORIAIS     6012  171389  ANO  ESTIMATIVO   \n",
       "461  ATS - ATIVIDADES SETORIAIS     6012  171389  ANO  ESTIMATIVO   \n",
       "462  ATS - ATIVIDADES SETORIAIS     6012  171389  ANO  ESTIMATIVO   \n",
       "463  ATS - ATIVIDADES SETORIAIS     6012  171389  ANO  ESTIMATIVO   \n",
       "550            IND-INDENIZACOES     6012  171389  ANO   ORDINARIO   \n",
       "760          IND - INDENIZACOES     6012  171389  ANO  ESTIMATIVO   \n",
       "769            IND-INDENIZACOES     6012  171389  ANO   ORDINARIO   \n",
       "\n",
       "                             LOCAL UF_CREDOR UF_UG     UGR NOME_UGR RADPI4  \\\n",
       "447  ESCOLA DE SARGENTOS DAS ARMAS        PR    MG  160505      DGP   D6DA   \n",
       "448  ESCOLA DE SARGENTOS DAS ARMAS        PR    MG  160505      DGP   D6DA   \n",
       "449  ESCOLA DE SARGENTOS DAS ARMAS        PR    MG  160505      DGP   D6DA   \n",
       "450  ESCOLA DE SARGENTOS DAS ARMAS        PR    MG  160505      DGP   D6DA   \n",
       "451  ESCOLA DE SARGENTOS DAS ARMAS        PR    MG  160505      DGP   D6DA   \n",
       "452  ESCOLA DE SARGENTOS DAS ARMAS        PR    MG  160505      DGP   D6DA   \n",
       "453  ESCOLA DE SARGENTOS DAS ARMAS        PR    MG  160505      DGP   D6DA   \n",
       "454  ESCOLA DE SARGENTOS DAS ARMAS        PR    MG  160505      DGP   D6DA   \n",
       "455  ESCOLA DE SARGENTOS DAS ARMAS        PR    MG  160505      DGP   D6DA   \n",
       "456  ESCOLA DE SARGENTOS DAS ARMAS        PR    MG  160505      DGP   D6DA   \n",
       "457                            ESA        PR    MG  160505      DGP   D6DA   \n",
       "458                            ESA        PR    MG  160505      DGP   D6DA   \n",
       "459  ESCOLA DE SARGENTOS DAS ARMAS        PR    MG  160505      DGP   D6DA   \n",
       "460  ESCOLA DE SARGENTOS DAS ARMAS        PR    MG  160505      DGP   D6DA   \n",
       "461  ESCOLA DE SARGENTOS DAS ARMAS        PR    MG  160505      DGP   D6DA   \n",
       "462  ESCOLA DE SARGENTOS DAS ARMAS        PR    MG  160505      DGP   D6DA   \n",
       "463  ESCOLA DE SARGENTOS DAS ARMAS        PR    MG  160505      DGP   D6DA   \n",
       "550                              0        SC    MG  160505      DGP   D6PE   \n",
       "760                              0       NaN    MG  160129      ESA   D1PE   \n",
       "769                              0        MG    MG  160505      DGP   D6PE   \n",
       "\n",
       "    MEIPI3 SUFPI4  A_LIQUIDAR  LIQUIDADO_A_PAGAR  TOTAL_A_PAGAR    PAGO  \n",
       "447    ATS   LOCO    15000.00                0.0       15000.00     0.0  \n",
       "448    ATS   LOCO    22455.00                0.0       22455.00     0.0  \n",
       "449    ATS   LOCO    18600.00                0.0       18600.00     0.0  \n",
       "450    ATS   LOCO     9000.00                0.0        9000.00     0.0  \n",
       "451    ATS   LOCO    24950.00                0.0       24950.00     0.0  \n",
       "452    ATS   LOCO    10800.00                0.0       10800.00     0.0  \n",
       "453    ATS   LOCO    28443.00                0.0       28443.00     0.0  \n",
       "454    ATS   LOCO     9900.00                0.0        9900.00     0.0  \n",
       "455    ATS   LOCO    14400.00                0.0       14400.00     0.0  \n",
       "456    ATS   LOCO    11160.00                0.0       11160.00     0.0  \n",
       "457    ATS   LOCO    10260.00                0.0       10260.00     0.0  \n",
       "458    ATS   LOCO     9000.00                0.0        9000.00     0.0  \n",
       "459    ATS   LOCO    31000.00                0.0       31000.00     0.0  \n",
       "460    ATS   LOCO    15000.00                0.0       15000.00     0.0  \n",
       "461    ATS   LOCO    15900.00                0.0       15900.00     0.0  \n",
       "462    ATS   LOCO     9000.00                0.0        9000.00     0.0  \n",
       "463    ATS   LOCO    31000.00                0.0       31000.00     0.0  \n",
       "550    IND   MV1A     1575.00                0.0        1575.00   787.5  \n",
       "760    IND   CO4T     2670.94                0.0        2670.94     0.0  \n",
       "769    IND   MV1A       26.64                0.0          26.64  1828.7  "
      ]
     },
     "execution_count": 17,
     "metadata": {},
     "output_type": "execute_result"
    }
   ],
   "source": [
    "df[(df['ACAO'] == '212O') & df['A_LIQUIDAR'] != 0]"
   ]
  },
  {
   "cell_type": "markdown",
   "metadata": {},
   "source": [
    "# Suporte para o Dashboard"
   ]
  },
  {
   "cell_type": "code",
   "execution_count": 18,
   "metadata": {},
   "outputs": [
    {
     "data": {
      "text/html": [
       "<div>\n",
       "<style scoped>\n",
       "    .dataframe tbody tr th:only-of-type {\n",
       "        vertical-align: middle;\n",
       "    }\n",
       "\n",
       "    .dataframe tbody tr th {\n",
       "        vertical-align: top;\n",
       "    }\n",
       "\n",
       "    .dataframe thead th {\n",
       "        text-align: right;\n",
       "    }\n",
       "</style>\n",
       "<table border=\"1\" class=\"dataframe\">\n",
       "  <thead>\n",
       "    <tr style=\"text-align: right;\">\n",
       "      <th></th>\n",
       "      <th>NE</th>\n",
       "      <th>A_LIQUIDAR</th>\n",
       "      <th>DIAS</th>\n",
       "      <th>NOME_NDSI</th>\n",
       "      <th>NDSI</th>\n",
       "    </tr>\n",
       "  </thead>\n",
       "  <tbody>\n",
       "    <tr>\n",
       "      <th>1059</th>\n",
       "      <td>2022NE000742</td>\n",
       "      <td>180.00</td>\n",
       "      <td>450</td>\n",
       "      <td>LOCACAO BENS MOV. OUT.NATUREZAS E INTANGIVEIS</td>\n",
       "      <td>33903914</td>\n",
       "    </tr>\n",
       "    <tr>\n",
       "      <th>1050</th>\n",
       "      <td>2022NE000788</td>\n",
       "      <td>6334.69</td>\n",
       "      <td>441</td>\n",
       "      <td>OUTSOURCING DE IMPRESSAO</td>\n",
       "      <td>33904016</td>\n",
       "    </tr>\n",
       "    <tr>\n",
       "      <th>1044</th>\n",
       "      <td>2022NE001087</td>\n",
       "      <td>3196.00</td>\n",
       "      <td>357</td>\n",
       "      <td>MANUTENCAO E CONSERVACAO DE EQUIPAMENTOS DE TIC</td>\n",
       "      <td>33904012</td>\n",
       "    </tr>\n",
       "    <tr>\n",
       "      <th>1077</th>\n",
       "      <td>2022NE001085</td>\n",
       "      <td>11086.68</td>\n",
       "      <td>357</td>\n",
       "      <td>MANUT. E CONSERV. DE MAQUINAS E EQUIPAMENTOS</td>\n",
       "      <td>33903917</td>\n",
       "    </tr>\n",
       "    <tr>\n",
       "      <th>1078</th>\n",
       "      <td>2022NE001086</td>\n",
       "      <td>6933.36</td>\n",
       "      <td>357</td>\n",
       "      <td>MANUTENCAO E CONSERVACAO DE EQUIPAMENTOS DE TIC</td>\n",
       "      <td>33904012</td>\n",
       "    </tr>\n",
       "    <tr>\n",
       "      <th>1067</th>\n",
       "      <td>2022NE002421</td>\n",
       "      <td>5758.75</td>\n",
       "      <td>302</td>\n",
       "      <td>SERVICOS GRAFICOS E EDITORIAIS</td>\n",
       "      <td>33903963</td>\n",
       "    </tr>\n",
       "    <tr>\n",
       "      <th>1299</th>\n",
       "      <td>2022NE001843</td>\n",
       "      <td>1016.25</td>\n",
       "      <td>302</td>\n",
       "      <td>SERVICOS GRAFICOS E EDITORIAIS</td>\n",
       "      <td>33903963</td>\n",
       "    </tr>\n",
       "    <tr>\n",
       "      <th>881</th>\n",
       "      <td>2022NE002483</td>\n",
       "      <td>283724.38</td>\n",
       "      <td>288</td>\n",
       "      <td>MANUTENCAO E CONSERV. DE BENS IMOVEIS</td>\n",
       "      <td>33903916</td>\n",
       "    </tr>\n",
       "    <tr>\n",
       "      <th>880</th>\n",
       "      <td>2022NE002482</td>\n",
       "      <td>157379.25</td>\n",
       "      <td>288</td>\n",
       "      <td>MANUTENCAO E CONSERV. DE BENS IMOVEIS</td>\n",
       "      <td>33903916</td>\n",
       "    </tr>\n",
       "    <tr>\n",
       "      <th>254</th>\n",
       "      <td>2022NE002691</td>\n",
       "      <td>11801.19</td>\n",
       "      <td>275</td>\n",
       "      <td>SERVICOS DE ENERGIA ELETRICA</td>\n",
       "      <td>33903943</td>\n",
       "    </tr>\n",
       "  </tbody>\n",
       "</table>\n",
       "</div>"
      ],
      "text/plain": [
       "                NE  A_LIQUIDAR  DIAS  \\\n",
       "1059  2022NE000742      180.00   450   \n",
       "1050  2022NE000788     6334.69   441   \n",
       "1044  2022NE001087     3196.00   357   \n",
       "1077  2022NE001085    11086.68   357   \n",
       "1078  2022NE001086     6933.36   357   \n",
       "1067  2022NE002421     5758.75   302   \n",
       "1299  2022NE001843     1016.25   302   \n",
       "881   2022NE002483   283724.38   288   \n",
       "880   2022NE002482   157379.25   288   \n",
       "254   2022NE002691    11801.19   275   \n",
       "\n",
       "                                            NOME_NDSI      NDSI  \n",
       "1059    LOCACAO BENS MOV. OUT.NATUREZAS E INTANGIVEIS  33903914  \n",
       "1050                         OUTSOURCING DE IMPRESSAO  33904016  \n",
       "1044  MANUTENCAO E CONSERVACAO DE EQUIPAMENTOS DE TIC  33904012  \n",
       "1077     MANUT. E CONSERV. DE MAQUINAS E EQUIPAMENTOS  33903917  \n",
       "1078  MANUTENCAO E CONSERVACAO DE EQUIPAMENTOS DE TIC  33904012  \n",
       "1067                   SERVICOS GRAFICOS E EDITORIAIS  33903963  \n",
       "1299                   SERVICOS GRAFICOS E EDITORIAIS  33903963  \n",
       "881             MANUTENCAO E CONSERV. DE BENS IMOVEIS  33903916  \n",
       "880             MANUTENCAO E CONSERV. DE BENS IMOVEIS  33903916  \n",
       "254                      SERVICOS DE ENERGIA ELETRICA  33903943  "
      ]
     },
     "execution_count": 18,
     "metadata": {},
     "output_type": "execute_result"
    }
   ],
   "source": [
    "cols = ['NE', 'A_LIQUIDAR', 'DIAS', 'NOME_NDSI', 'NDSI']\n",
    "\n",
    "df_aux = df.loc[:, cols].sort_values(by='DIAS', ascending=False)\n",
    "df_aux = df_aux[df_aux['A_LIQUIDAR'] != 0].head(10)\n",
    "df_aux"
   ]
  },
  {
   "cell_type": "code",
   "execution_count": 19,
   "metadata": {},
   "outputs": [
    {
     "data": {
      "application/vnd.plotly.v1+json": {
       "config": {
        "plotlyServerURL": "https://plot.ly"
       },
       "data": [
        {
         "alignmentgroup": "True",
         "customdata": [
          [
           450,
           "LOCACAO BENS MOV. OUT.NATUREZAS E INTANGIVEIS",
           "33903914"
          ],
          [
           441,
           "OUTSOURCING DE IMPRESSAO",
           "33904016"
          ],
          [
           357,
           "MANUTENCAO E CONSERVACAO DE EQUIPAMENTOS DE TIC",
           "33904012"
          ],
          [
           357,
           "MANUT. E CONSERV. DE MAQUINAS E EQUIPAMENTOS",
           "33903917"
          ],
          [
           357,
           "MANUTENCAO E CONSERVACAO DE EQUIPAMENTOS DE TIC",
           "33904012"
          ],
          [
           302,
           "SERVICOS GRAFICOS E EDITORIAIS",
           "33903963"
          ],
          [
           302,
           "SERVICOS GRAFICOS E EDITORIAIS",
           "33903963"
          ],
          [
           288,
           "MANUTENCAO E CONSERV. DE BENS IMOVEIS",
           "33903916"
          ],
          [
           288,
           "MANUTENCAO E CONSERV. DE BENS IMOVEIS",
           "33903916"
          ],
          [
           275,
           "SERVICOS DE ENERGIA ELETRICA",
           "33903943"
          ]
         ],
         "hovertemplate": "<b>%{hovertext}</b><br><br>Nota de Empenho=%{x}<br>Saldo a liquidar=%{y}<br>DIAS=%{marker.color}<br>NOME_NDSI=%{customdata[1]}<br>NDSI=%{customdata[2]}<extra></extra>",
         "hovertext": [
          "2022NE000742",
          "2022NE000788",
          "2022NE001087",
          "2022NE001085",
          "2022NE001086",
          "2022NE002421",
          "2022NE001843",
          "2022NE002483",
          "2022NE002482",
          "2022NE002691"
         ],
         "legendgroup": "",
         "marker": {
          "color": [
           450,
           441,
           357,
           357,
           357,
           302,
           302,
           288,
           288,
           275
          ],
          "coloraxis": "coloraxis",
          "pattern": {
           "shape": ""
          }
         },
         "name": "",
         "offsetgroup": "",
         "orientation": "v",
         "showlegend": false,
         "textposition": "outside",
         "texttemplate": "%{y:.3s}",
         "type": "bar",
         "x": [
          "2022NE000742",
          "2022NE000788",
          "2022NE001087",
          "2022NE001085",
          "2022NE001086",
          "2022NE002421",
          "2022NE001843",
          "2022NE002483",
          "2022NE002482",
          "2022NE002691"
         ],
         "xaxis": "x",
         "y": [
          180,
          6334.69,
          3196,
          11086.68,
          6933.36,
          5758.75,
          1016.25,
          283724.38,
          157379.25,
          11801.19
         ],
         "yaxis": "y"
        }
       ],
       "layout": {
        "barmode": "relative",
        "coloraxis": {
         "colorbar": {
          "title": {
           "text": "DIAS"
          }
         },
         "colorscale": [
          [
           0,
           "rgb(255,245,240)"
          ],
          [
           0.125,
           "rgb(254,224,210)"
          ],
          [
           0.25,
           "rgb(252,187,161)"
          ],
          [
           0.375,
           "rgb(252,146,114)"
          ],
          [
           0.5,
           "rgb(251,106,74)"
          ],
          [
           0.625,
           "rgb(239,59,44)"
          ],
          [
           0.75,
           "rgb(203,24,29)"
          ],
          [
           0.875,
           "rgb(165,15,21)"
          ],
          [
           1,
           "rgb(103,0,13)"
          ]
         ]
        },
        "legend": {
         "tracegroupgap": 0
        },
        "template": {
         "data": {
          "bar": [
           {
            "error_x": {
             "color": "#f2f5fa"
            },
            "error_y": {
             "color": "#f2f5fa"
            },
            "marker": {
             "line": {
              "color": "rgb(17,17,17)",
              "width": 0.5
             },
             "pattern": {
              "fillmode": "overlay",
              "size": 10,
              "solidity": 0.2
             }
            },
            "type": "bar"
           }
          ],
          "barpolar": [
           {
            "marker": {
             "line": {
              "color": "rgb(17,17,17)",
              "width": 0.5
             },
             "pattern": {
              "fillmode": "overlay",
              "size": 10,
              "solidity": 0.2
             }
            },
            "type": "barpolar"
           }
          ],
          "carpet": [
           {
            "aaxis": {
             "endlinecolor": "#A2B1C6",
             "gridcolor": "#506784",
             "linecolor": "#506784",
             "minorgridcolor": "#506784",
             "startlinecolor": "#A2B1C6"
            },
            "baxis": {
             "endlinecolor": "#A2B1C6",
             "gridcolor": "#506784",
             "linecolor": "#506784",
             "minorgridcolor": "#506784",
             "startlinecolor": "#A2B1C6"
            },
            "type": "carpet"
           }
          ],
          "choropleth": [
           {
            "colorbar": {
             "outlinewidth": 0,
             "ticks": ""
            },
            "type": "choropleth"
           }
          ],
          "contour": [
           {
            "colorbar": {
             "outlinewidth": 0,
             "ticks": ""
            },
            "colorscale": [
             [
              0,
              "#0d0887"
             ],
             [
              0.1111111111111111,
              "#46039f"
             ],
             [
              0.2222222222222222,
              "#7201a8"
             ],
             [
              0.3333333333333333,
              "#9c179e"
             ],
             [
              0.4444444444444444,
              "#bd3786"
             ],
             [
              0.5555555555555556,
              "#d8576b"
             ],
             [
              0.6666666666666666,
              "#ed7953"
             ],
             [
              0.7777777777777778,
              "#fb9f3a"
             ],
             [
              0.8888888888888888,
              "#fdca26"
             ],
             [
              1,
              "#f0f921"
             ]
            ],
            "type": "contour"
           }
          ],
          "contourcarpet": [
           {
            "colorbar": {
             "outlinewidth": 0,
             "ticks": ""
            },
            "type": "contourcarpet"
           }
          ],
          "heatmap": [
           {
            "colorbar": {
             "outlinewidth": 0,
             "ticks": ""
            },
            "colorscale": [
             [
              0,
              "#0d0887"
             ],
             [
              0.1111111111111111,
              "#46039f"
             ],
             [
              0.2222222222222222,
              "#7201a8"
             ],
             [
              0.3333333333333333,
              "#9c179e"
             ],
             [
              0.4444444444444444,
              "#bd3786"
             ],
             [
              0.5555555555555556,
              "#d8576b"
             ],
             [
              0.6666666666666666,
              "#ed7953"
             ],
             [
              0.7777777777777778,
              "#fb9f3a"
             ],
             [
              0.8888888888888888,
              "#fdca26"
             ],
             [
              1,
              "#f0f921"
             ]
            ],
            "type": "heatmap"
           }
          ],
          "heatmapgl": [
           {
            "colorbar": {
             "outlinewidth": 0,
             "ticks": ""
            },
            "colorscale": [
             [
              0,
              "#0d0887"
             ],
             [
              0.1111111111111111,
              "#46039f"
             ],
             [
              0.2222222222222222,
              "#7201a8"
             ],
             [
              0.3333333333333333,
              "#9c179e"
             ],
             [
              0.4444444444444444,
              "#bd3786"
             ],
             [
              0.5555555555555556,
              "#d8576b"
             ],
             [
              0.6666666666666666,
              "#ed7953"
             ],
             [
              0.7777777777777778,
              "#fb9f3a"
             ],
             [
              0.8888888888888888,
              "#fdca26"
             ],
             [
              1,
              "#f0f921"
             ]
            ],
            "type": "heatmapgl"
           }
          ],
          "histogram": [
           {
            "marker": {
             "pattern": {
              "fillmode": "overlay",
              "size": 10,
              "solidity": 0.2
             }
            },
            "type": "histogram"
           }
          ],
          "histogram2d": [
           {
            "colorbar": {
             "outlinewidth": 0,
             "ticks": ""
            },
            "colorscale": [
             [
              0,
              "#0d0887"
             ],
             [
              0.1111111111111111,
              "#46039f"
             ],
             [
              0.2222222222222222,
              "#7201a8"
             ],
             [
              0.3333333333333333,
              "#9c179e"
             ],
             [
              0.4444444444444444,
              "#bd3786"
             ],
             [
              0.5555555555555556,
              "#d8576b"
             ],
             [
              0.6666666666666666,
              "#ed7953"
             ],
             [
              0.7777777777777778,
              "#fb9f3a"
             ],
             [
              0.8888888888888888,
              "#fdca26"
             ],
             [
              1,
              "#f0f921"
             ]
            ],
            "type": "histogram2d"
           }
          ],
          "histogram2dcontour": [
           {
            "colorbar": {
             "outlinewidth": 0,
             "ticks": ""
            },
            "colorscale": [
             [
              0,
              "#0d0887"
             ],
             [
              0.1111111111111111,
              "#46039f"
             ],
             [
              0.2222222222222222,
              "#7201a8"
             ],
             [
              0.3333333333333333,
              "#9c179e"
             ],
             [
              0.4444444444444444,
              "#bd3786"
             ],
             [
              0.5555555555555556,
              "#d8576b"
             ],
             [
              0.6666666666666666,
              "#ed7953"
             ],
             [
              0.7777777777777778,
              "#fb9f3a"
             ],
             [
              0.8888888888888888,
              "#fdca26"
             ],
             [
              1,
              "#f0f921"
             ]
            ],
            "type": "histogram2dcontour"
           }
          ],
          "mesh3d": [
           {
            "colorbar": {
             "outlinewidth": 0,
             "ticks": ""
            },
            "type": "mesh3d"
           }
          ],
          "parcoords": [
           {
            "line": {
             "colorbar": {
              "outlinewidth": 0,
              "ticks": ""
             }
            },
            "type": "parcoords"
           }
          ],
          "pie": [
           {
            "automargin": true,
            "type": "pie"
           }
          ],
          "scatter": [
           {
            "marker": {
             "line": {
              "color": "#283442"
             }
            },
            "type": "scatter"
           }
          ],
          "scatter3d": [
           {
            "line": {
             "colorbar": {
              "outlinewidth": 0,
              "ticks": ""
             }
            },
            "marker": {
             "colorbar": {
              "outlinewidth": 0,
              "ticks": ""
             }
            },
            "type": "scatter3d"
           }
          ],
          "scattercarpet": [
           {
            "marker": {
             "colorbar": {
              "outlinewidth": 0,
              "ticks": ""
             }
            },
            "type": "scattercarpet"
           }
          ],
          "scattergeo": [
           {
            "marker": {
             "colorbar": {
              "outlinewidth": 0,
              "ticks": ""
             }
            },
            "type": "scattergeo"
           }
          ],
          "scattergl": [
           {
            "marker": {
             "line": {
              "color": "#283442"
             }
            },
            "type": "scattergl"
           }
          ],
          "scattermapbox": [
           {
            "marker": {
             "colorbar": {
              "outlinewidth": 0,
              "ticks": ""
             }
            },
            "type": "scattermapbox"
           }
          ],
          "scatterpolar": [
           {
            "marker": {
             "colorbar": {
              "outlinewidth": 0,
              "ticks": ""
             }
            },
            "type": "scatterpolar"
           }
          ],
          "scatterpolargl": [
           {
            "marker": {
             "colorbar": {
              "outlinewidth": 0,
              "ticks": ""
             }
            },
            "type": "scatterpolargl"
           }
          ],
          "scatterternary": [
           {
            "marker": {
             "colorbar": {
              "outlinewidth": 0,
              "ticks": ""
             }
            },
            "type": "scatterternary"
           }
          ],
          "surface": [
           {
            "colorbar": {
             "outlinewidth": 0,
             "ticks": ""
            },
            "colorscale": [
             [
              0,
              "#0d0887"
             ],
             [
              0.1111111111111111,
              "#46039f"
             ],
             [
              0.2222222222222222,
              "#7201a8"
             ],
             [
              0.3333333333333333,
              "#9c179e"
             ],
             [
              0.4444444444444444,
              "#bd3786"
             ],
             [
              0.5555555555555556,
              "#d8576b"
             ],
             [
              0.6666666666666666,
              "#ed7953"
             ],
             [
              0.7777777777777778,
              "#fb9f3a"
             ],
             [
              0.8888888888888888,
              "#fdca26"
             ],
             [
              1,
              "#f0f921"
             ]
            ],
            "type": "surface"
           }
          ],
          "table": [
           {
            "cells": {
             "fill": {
              "color": "#506784"
             },
             "line": {
              "color": "rgb(17,17,17)"
             }
            },
            "header": {
             "fill": {
              "color": "#2a3f5f"
             },
             "line": {
              "color": "rgb(17,17,17)"
             }
            },
            "type": "table"
           }
          ]
         },
         "layout": {
          "annotationdefaults": {
           "arrowcolor": "#f2f5fa",
           "arrowhead": 0,
           "arrowwidth": 1
          },
          "autotypenumbers": "strict",
          "coloraxis": {
           "colorbar": {
            "outlinewidth": 0,
            "ticks": ""
           }
          },
          "colorscale": {
           "diverging": [
            [
             0,
             "#8e0152"
            ],
            [
             0.1,
             "#c51b7d"
            ],
            [
             0.2,
             "#de77ae"
            ],
            [
             0.3,
             "#f1b6da"
            ],
            [
             0.4,
             "#fde0ef"
            ],
            [
             0.5,
             "#f7f7f7"
            ],
            [
             0.6,
             "#e6f5d0"
            ],
            [
             0.7,
             "#b8e186"
            ],
            [
             0.8,
             "#7fbc41"
            ],
            [
             0.9,
             "#4d9221"
            ],
            [
             1,
             "#276419"
            ]
           ],
           "sequential": [
            [
             0,
             "#0d0887"
            ],
            [
             0.1111111111111111,
             "#46039f"
            ],
            [
             0.2222222222222222,
             "#7201a8"
            ],
            [
             0.3333333333333333,
             "#9c179e"
            ],
            [
             0.4444444444444444,
             "#bd3786"
            ],
            [
             0.5555555555555556,
             "#d8576b"
            ],
            [
             0.6666666666666666,
             "#ed7953"
            ],
            [
             0.7777777777777778,
             "#fb9f3a"
            ],
            [
             0.8888888888888888,
             "#fdca26"
            ],
            [
             1,
             "#f0f921"
            ]
           ],
           "sequentialminus": [
            [
             0,
             "#0d0887"
            ],
            [
             0.1111111111111111,
             "#46039f"
            ],
            [
             0.2222222222222222,
             "#7201a8"
            ],
            [
             0.3333333333333333,
             "#9c179e"
            ],
            [
             0.4444444444444444,
             "#bd3786"
            ],
            [
             0.5555555555555556,
             "#d8576b"
            ],
            [
             0.6666666666666666,
             "#ed7953"
            ],
            [
             0.7777777777777778,
             "#fb9f3a"
            ],
            [
             0.8888888888888888,
             "#fdca26"
            ],
            [
             1,
             "#f0f921"
            ]
           ]
          },
          "colorway": [
           "#636efa",
           "#EF553B",
           "#00cc96",
           "#ab63fa",
           "#FFA15A",
           "#19d3f3",
           "#FF6692",
           "#B6E880",
           "#FF97FF",
           "#FECB52"
          ],
          "font": {
           "color": "#f2f5fa"
          },
          "geo": {
           "bgcolor": "rgb(17,17,17)",
           "lakecolor": "rgb(17,17,17)",
           "landcolor": "rgb(17,17,17)",
           "showlakes": true,
           "showland": true,
           "subunitcolor": "#506784"
          },
          "hoverlabel": {
           "align": "left"
          },
          "hovermode": "closest",
          "mapbox": {
           "style": "dark"
          },
          "paper_bgcolor": "rgb(17,17,17)",
          "plot_bgcolor": "rgb(17,17,17)",
          "polar": {
           "angularaxis": {
            "gridcolor": "#506784",
            "linecolor": "#506784",
            "ticks": ""
           },
           "bgcolor": "rgb(17,17,17)",
           "radialaxis": {
            "gridcolor": "#506784",
            "linecolor": "#506784",
            "ticks": ""
           }
          },
          "scene": {
           "xaxis": {
            "backgroundcolor": "rgb(17,17,17)",
            "gridcolor": "#506784",
            "gridwidth": 2,
            "linecolor": "#506784",
            "showbackground": true,
            "ticks": "",
            "zerolinecolor": "#C8D4E3"
           },
           "yaxis": {
            "backgroundcolor": "rgb(17,17,17)",
            "gridcolor": "#506784",
            "gridwidth": 2,
            "linecolor": "#506784",
            "showbackground": true,
            "ticks": "",
            "zerolinecolor": "#C8D4E3"
           },
           "zaxis": {
            "backgroundcolor": "rgb(17,17,17)",
            "gridcolor": "#506784",
            "gridwidth": 2,
            "linecolor": "#506784",
            "showbackground": true,
            "ticks": "",
            "zerolinecolor": "#C8D4E3"
           }
          },
          "shapedefaults": {
           "line": {
            "color": "#f2f5fa"
           }
          },
          "sliderdefaults": {
           "bgcolor": "#C8D4E3",
           "bordercolor": "rgb(17,17,17)",
           "borderwidth": 1,
           "tickwidth": 0
          },
          "ternary": {
           "aaxis": {
            "gridcolor": "#506784",
            "linecolor": "#506784",
            "ticks": ""
           },
           "baxis": {
            "gridcolor": "#506784",
            "linecolor": "#506784",
            "ticks": ""
           },
           "bgcolor": "rgb(17,17,17)",
           "caxis": {
            "gridcolor": "#506784",
            "linecolor": "#506784",
            "ticks": ""
           }
          },
          "title": {
           "x": 0.05
          },
          "updatemenudefaults": {
           "bgcolor": "#506784",
           "borderwidth": 0
          },
          "xaxis": {
           "automargin": true,
           "gridcolor": "#283442",
           "linecolor": "#506784",
           "ticks": "",
           "title": {
            "standoff": 15
           },
           "zerolinecolor": "#283442",
           "zerolinewidth": 2
          },
          "yaxis": {
           "automargin": true,
           "gridcolor": "#283442",
           "linecolor": "#506784",
           "ticks": "",
           "title": {
            "standoff": 15
           },
           "zerolinecolor": "#283442",
           "zerolinewidth": 2
          }
         }
        },
        "title": {
         "text": "10 empenhos com mais tempo na tela"
        },
        "xaxis": {
         "anchor": "y",
         "domain": [
          0,
          1
         ],
         "title": {
          "text": "Nota de Empenho"
         }
        },
        "yaxis": {
         "anchor": "x",
         "domain": [
          0,
          1
         ],
         "title": {
          "text": "Saldo a liquidar"
         },
         "type": "log"
        }
       }
      }
     },
     "metadata": {},
     "output_type": "display_data"
    }
   ],
   "source": [
    "# Saldo a liquidar por tipo de NE\n",
    "cols = ['NE', 'A_LIQUIDAR', 'DIAS', 'NOME_NDSI', 'NDSI']\n",
    "df_aux = df.loc[:, cols].sort_values(by='DIAS', ascending=False)\n",
    "df_aux = df_aux[df_aux['A_LIQUIDAR'] != 0].head(10)\n",
    "fig = px.bar(df_aux, \n",
    "             x='NE', \n",
    "             y='A_LIQUIDAR',\n",
    "             title='10 empenhos com mais tempo na tela',\n",
    "             labels={'NE':'Nota de Empenho', 'A_LIQUIDAR':'Saldo a liquidar'},\n",
    "             text_auto='.3s',\n",
    "             color='DIAS',\n",
    "             color_continuous_scale = 'reds',\n",
    "             log_y=True,\n",
    "             template='plotly_dark',\n",
    "             hover_name=\"NE\", hover_data={'DIAS': True, 'A_LIQUIDAR': True, 'NOME_NDSI': True, 'NDSI': True})\n",
    "fig.update_traces(textposition = 'outside')\n",
    "\n",
    "\n",
    "fig.show()"
   ]
  },
  {
   "cell_type": "markdown",
   "metadata": {},
   "source": [
    "## Informações para SideBar"
   ]
  },
  {
   "cell_type": "code",
   "execution_count": 20,
   "metadata": {},
   "outputs": [
    {
     "data": {
      "text/plain": [
       "3008"
      ]
     },
     "execution_count": 20,
     "metadata": {},
     "output_type": "execute_result"
    }
   ],
   "source": [
    "# Qtde de empenhos realizados até o momento\n",
    "df.shape[0]"
   ]
  },
  {
   "cell_type": "markdown",
   "metadata": {},
   "source": [
    "# Requisição em API para consulta a CNPJ"
   ]
  },
  {
   "cell_type": "code",
   "execution_count": 21,
   "metadata": {},
   "outputs": [
    {
     "name": "stdout",
     "output_type": "stream",
     "text": [
      "{'abertura': '03/11/2014',\n",
      " 'atividade_principal': [{'code': '79.11-2-00', 'text': 'Agências de viagens'}],\n",
      " 'atividades_secundarias': [{'code': '59.11-1-99',\n",
      "                             'text': 'Atividades de produção cinematográfica, '\n",
      "                                     'de vídeos e de programas de televisão '\n",
      "                                     'não especificadas anteriormente'},\n",
      "                            {'code': '63.99-2-00',\n",
      "                             'text': 'Outras atividades de prestação de '\n",
      "                                     'serviços de informação não especificadas '\n",
      "                                     'anteriormente'},\n",
      "                            {'code': '79.12-1-00',\n",
      "                             'text': 'Operadores turísticos'},\n",
      "                            {'code': '79.90-2-00',\n",
      "                             'text': 'Serviços de reservas e outros serviços '\n",
      "                                     'de turismo não especificados '\n",
      "                                     'anteriormente'},\n",
      "                            {'code': '82.30-0-01',\n",
      "                             'text': 'Serviços de organização de feiras, '\n",
      "                                     'congressos, exposições e festas'},\n",
      "                            {'code': '85.99-6-04',\n",
      "                             'text': 'Treinamento em desenvolvimento '\n",
      "                                     'profissional e gerencial'}],\n",
      " 'bairro': 'CENTRO',\n",
      " 'billing': {'database': True, 'free': True},\n",
      " 'capital_social': '300000.00',\n",
      " 'cep': '09.750-700',\n",
      " 'cnpj': '21.331.404/0001-38',\n",
      " 'complemento': 'SALA 301 A 306 310 E 311 BLOCO 01 COND MONDIAL SBC',\n",
      " 'data_situacao': '03/11/2014',\n",
      " 'data_situacao_especial': '',\n",
      " 'efr': '',\n",
      " 'email': 'orleans@orleanstur.com.br',\n",
      " 'extra': {},\n",
      " 'fantasia': 'ORLEANSTUR',\n",
      " 'logradouro': 'PC SAMUEL SABATINI',\n",
      " 'motivo_situacao': '',\n",
      " 'municipio': 'SAO BERNARDO DO CAMPO',\n",
      " 'natureza_juridica': '206-2 - Sociedade Empresária Limitada',\n",
      " 'nome': 'ORLEANS VIAGENS E TURISMO LTDA',\n",
      " 'numero': '226',\n",
      " 'porte': 'EMPRESA DE PEQUENO PORTE',\n",
      " 'qsa': [{'nome': 'SILAS BEZERRA DE ALENCAR', 'qual': '49-Sócio-Administrador'},\n",
      "         {'nome': 'WAGNER FERREIRA MOITA', 'qual': '49-Sócio-Administrador'}],\n",
      " 'situacao': 'ATIVA',\n",
      " 'situacao_especial': '',\n",
      " 'status': 'OK',\n",
      " 'telefone': '(11) 2273-4343',\n",
      " 'tipo': 'MATRIZ',\n",
      " 'uf': 'SP',\n",
      " 'ultima_atualizacao': '2023-08-30T17:09:34.201Z'}\n"
     ]
    }
   ],
   "source": [
    "import requests\n",
    "from pprint import pprint\n",
    "\n",
    "url = \"https://receitaws.com.br/v1/cnpj/21331404000138\"\n",
    "\n",
    "headers = {\"Accept\": \"application/json\"}\n",
    "\n",
    "response = requests.get(url, headers=headers)\n",
    "\n",
    "pprint(response.json())"
   ]
  },
  {
   "cell_type": "code",
   "execution_count": 22,
   "metadata": {},
   "outputs": [
    {
     "name": "stdout",
     "output_type": "stream",
     "text": [
      "{'abertura': '28/08/2015',\n",
      " 'atividade_principal': [{'code': '26.21-3-00',\n",
      "                          'text': 'Fabricação de equipamentos de informática'}],\n",
      " 'atividades_secundarias': [{'code': '26.22-1-00',\n",
      "                             'text': 'Fabricação de periféricos para '\n",
      "                                     'equipamentos de informática'},\n",
      "                            {'code': '27.59-7-99',\n",
      "                             'text': 'Fabricação de outros aparelhos '\n",
      "                                     'eletrodomésticos não especificados '\n",
      "                                     'anteriormente, peças e acessórios'},\n",
      "                            {'code': '46.19-2-00',\n",
      "                             'text': 'Representantes comerciais e agentes do '\n",
      "                                     'comércio de mercadorias em geral não '\n",
      "                                     'especializado'},\n",
      "                            {'code': '46.51-6-01',\n",
      "                             'text': 'Comércio atacadista de equipamentos de '\n",
      "                                     'informática'},\n",
      "                            {'code': '47.54-7-01',\n",
      "                             'text': 'Comércio varejista de móveis'},\n",
      "                            {'code': '46.49-4-02',\n",
      "                             'text': 'Comércio atacadista de aparelhos '\n",
      "                                     'eletrônicos de uso pessoal e doméstico'},\n",
      "                            {'code': '46.47-8-02',\n",
      "                             'text': 'Comércio atacadista de livros, jornais e '\n",
      "                                     'outras publicações'},\n",
      "                            {'code': '62.04-0-00',\n",
      "                             'text': 'Consultoria em tecnologia da informação'},\n",
      "                            {'code': '62.02-3-00',\n",
      "                             'text': 'Desenvolvimento e licenciamento de '\n",
      "                                     'programas de computador customizáveis'},\n",
      "                            {'code': '63.19-4-00',\n",
      "                             'text': 'Portais, provedores de conteúdo e outros '\n",
      "                                     'serviços de informação na internet'},\n",
      "                            {'code': '62.01-5-01',\n",
      "                             'text': 'Desenvolvimento de programas de '\n",
      "                                     'computador sob encomenda'},\n",
      "                            {'code': '58.11-5-00', 'text': 'Edição de livros'},\n",
      "                            {'code': '64.62-0-00',\n",
      "                             'text': 'Holdings de instituições '\n",
      "                                     'não-financeiras'},\n",
      "                            {'code': '71.19-7-03',\n",
      "                             'text': 'Serviços de desenho técnico relacionados '\n",
      "                                     'à arquitetura e engenharia'},\n",
      "                            {'code': '77.33-1-00',\n",
      "                             'text': 'Aluguel de máquinas e equipamentos para '\n",
      "                                     'escritórios'},\n",
      "                            {'code': '77.40-3-00',\n",
      "                             'text': 'Gestão de ativos intangíveis '\n",
      "                                     'não-financeiros'},\n",
      "                            {'code': '85.50-3-02',\n",
      "                             'text': 'Atividades de apoio à educação, exceto '\n",
      "                                     'caixas escolares'},\n",
      "                            {'code': '85.99-6-04',\n",
      "                             'text': 'Treinamento em desenvolvimento '\n",
      "                                     'profissional e gerencial'},\n",
      "                            {'code': '95.21-5-00',\n",
      "                             'text': 'Reparação e manutenção de equipamentos '\n",
      "                                     'eletroeletrônicos de uso pessoal e '\n",
      "                                     'doméstico'},\n",
      "                            {'code': '95.11-8-00',\n",
      "                             'text': 'Reparação e manutenção de computadores e '\n",
      "                                     'de equipamentos periféricos'},\n",
      "                            {'code': '26.32-9-00',\n",
      "                             'text': 'Fabricação de aparelhos telefônicos e de '\n",
      "                                     'outros equipamentos de comunicação, '\n",
      "                                     'peças e acessórios'}],\n",
      " 'bairro': 'DISTRITO INDUSTRIAL I',\n",
      " 'billing': {'database': True, 'free': True},\n",
      " 'capital_social': '0.00',\n",
      " 'cep': '69.075-110',\n",
      " 'cnpj': '81.243.735/0019-77',\n",
      " 'complemento': 'LOTE 257-B',\n",
      " 'data_situacao': '28/08/2015',\n",
      " 'data_situacao_especial': '',\n",
      " 'efr': '',\n",
      " 'email': 'fiscal@positivo.com.br',\n",
      " 'extra': {},\n",
      " 'fantasia': '',\n",
      " 'logradouro': 'R JAVARI',\n",
      " 'motivo_situacao': '',\n",
      " 'municipio': 'MANAUS',\n",
      " 'natureza_juridica': '204-6 - Sociedade Anônima Aberta',\n",
      " 'nome': 'POSITIVO TECNOLOGIA S.A.',\n",
      " 'numero': '1255',\n",
      " 'porte': 'DEMAIS',\n",
      " 'qsa': [],\n",
      " 'situacao': 'ATIVA',\n",
      " 'situacao_especial': '',\n",
      " 'status': 'OK',\n",
      " 'telefone': '(41) 3316-7700',\n",
      " 'tipo': 'FILIAL',\n",
      " 'uf': 'AM',\n",
      " 'ultima_atualizacao': '2023-09-13T19:56:11.093Z'}\n"
     ]
    }
   ],
   "source": [
    "def consulta_cnpj(numero_cnpj):\n",
    "    url = f\"https://receitaws.com.br/v1/cnpj/{numero_cnpj}\"\n",
    "\n",
    "    headers = {\"Accept\": \"application/json\"}\n",
    "\n",
    "    response = requests.get(url, headers=headers)\n",
    "    \n",
    "    dic_fornecedor = response.json()\n",
    "    \n",
    "    return dic_fornecedor\n",
    "\n",
    "# Criar um dicionário vazio fora da função\n",
    "dicionario = {}\n",
    "\n",
    "# Chamar a função e atribuir o resultado ao dicionário\n",
    "dicionario = consulta_cnpj('81243735001977')\n",
    "\n",
    "# Imprimir o dicionário\n",
    "pprint(dicionario)"
   ]
  },
  {
   "cell_type": "code",
   "execution_count": 23,
   "metadata": {},
   "outputs": [
    {
     "name": "stdout",
     "output_type": "stream",
     "text": [
      "{'abertura': '28/08/2015',\n",
      " 'atividade_principal': [{'code': '26.21-3-00',\n",
      "                          'text': 'Fabricação de equipamentos de informática'}],\n",
      " 'atividades_secundarias': [{'code': '26.22-1-00',\n",
      "                             'text': 'Fabricação de periféricos para '\n",
      "                                     'equipamentos de informática'},\n",
      "                            {'code': '27.59-7-99',\n",
      "                             'text': 'Fabricação de outros aparelhos '\n",
      "                                     'eletrodomésticos não especificados '\n",
      "                                     'anteriormente, peças e acessórios'},\n",
      "                            {'code': '46.19-2-00',\n",
      "                             'text': 'Representantes comerciais e agentes do '\n",
      "                                     'comércio de mercadorias em geral não '\n",
      "                                     'especializado'},\n",
      "                            {'code': '46.51-6-01',\n",
      "                             'text': 'Comércio atacadista de equipamentos de '\n",
      "                                     'informática'},\n",
      "                            {'code': '47.54-7-01',\n",
      "                             'text': 'Comércio varejista de móveis'},\n",
      "                            {'code': '46.49-4-02',\n",
      "                             'text': 'Comércio atacadista de aparelhos '\n",
      "                                     'eletrônicos de uso pessoal e doméstico'},\n",
      "                            {'code': '46.47-8-02',\n",
      "                             'text': 'Comércio atacadista de livros, jornais e '\n",
      "                                     'outras publicações'},\n",
      "                            {'code': '62.04-0-00',\n",
      "                             'text': 'Consultoria em tecnologia da informação'},\n",
      "                            {'code': '62.02-3-00',\n",
      "                             'text': 'Desenvolvimento e licenciamento de '\n",
      "                                     'programas de computador customizáveis'},\n",
      "                            {'code': '63.19-4-00',\n",
      "                             'text': 'Portais, provedores de conteúdo e outros '\n",
      "                                     'serviços de informação na internet'},\n",
      "                            {'code': '62.01-5-01',\n",
      "                             'text': 'Desenvolvimento de programas de '\n",
      "                                     'computador sob encomenda'},\n",
      "                            {'code': '58.11-5-00', 'text': 'Edição de livros'},\n",
      "                            {'code': '64.62-0-00',\n",
      "                             'text': 'Holdings de instituições '\n",
      "                                     'não-financeiras'},\n",
      "                            {'code': '71.19-7-03',\n",
      "                             'text': 'Serviços de desenho técnico relacionados '\n",
      "                                     'à arquitetura e engenharia'},\n",
      "                            {'code': '77.33-1-00',\n",
      "                             'text': 'Aluguel de máquinas e equipamentos para '\n",
      "                                     'escritórios'},\n",
      "                            {'code': '77.40-3-00',\n",
      "                             'text': 'Gestão de ativos intangíveis '\n",
      "                                     'não-financeiros'},\n",
      "                            {'code': '85.50-3-02',\n",
      "                             'text': 'Atividades de apoio à educação, exceto '\n",
      "                                     'caixas escolares'},\n",
      "                            {'code': '85.99-6-04',\n",
      "                             'text': 'Treinamento em desenvolvimento '\n",
      "                                     'profissional e gerencial'},\n",
      "                            {'code': '95.21-5-00',\n",
      "                             'text': 'Reparação e manutenção de equipamentos '\n",
      "                                     'eletroeletrônicos de uso pessoal e '\n",
      "                                     'doméstico'},\n",
      "                            {'code': '95.11-8-00',\n",
      "                             'text': 'Reparação e manutenção de computadores e '\n",
      "                                     'de equipamentos periféricos'},\n",
      "                            {'code': '26.32-9-00',\n",
      "                             'text': 'Fabricação de aparelhos telefônicos e de '\n",
      "                                     'outros equipamentos de comunicação, '\n",
      "                                     'peças e acessórios'}],\n",
      " 'bairro': 'DISTRITO INDUSTRIAL I',\n",
      " 'billing': {'database': True, 'free': True},\n",
      " 'capital_social': '0.00',\n",
      " 'cep': '69.075-110',\n",
      " 'cnpj': '81.243.735/0019-77',\n",
      " 'complemento': 'LOTE 257-B',\n",
      " 'data_situacao': '28/08/2015',\n",
      " 'data_situacao_especial': '',\n",
      " 'efr': '',\n",
      " 'email': 'fiscal@positivo.com.br',\n",
      " 'extra': {},\n",
      " 'fantasia': '',\n",
      " 'logradouro': 'R JAVARI',\n",
      " 'motivo_situacao': '',\n",
      " 'municipio': 'MANAUS',\n",
      " 'natureza_juridica': '204-6 - Sociedade Anônima Aberta',\n",
      " 'nome': 'POSITIVO TECNOLOGIA S.A.',\n",
      " 'numero': '1255',\n",
      " 'porte': 'DEMAIS',\n",
      " 'qsa': [],\n",
      " 'situacao': 'ATIVA',\n",
      " 'situacao_especial': '',\n",
      " 'status': 'OK',\n",
      " 'telefone': '(41) 3316-7700',\n",
      " 'tipo': 'FILIAL',\n",
      " 'uf': 'AM',\n",
      " 'ultima_atualizacao': '2023-09-13T19:56:11.093Z'}\n"
     ]
    }
   ],
   "source": [
    "pprint(dicionario)"
   ]
  },
  {
   "cell_type": "code",
   "execution_count": 24,
   "metadata": {},
   "outputs": [
    {
     "data": {
      "text/plain": [
       "'POSITIVO TECNOLOGIA S.A.'"
      ]
     },
     "execution_count": 24,
     "metadata": {},
     "output_type": "execute_result"
    }
   ],
   "source": [
    "dicionario['nome']"
   ]
  },
  {
   "cell_type": "code",
   "execution_count": 25,
   "metadata": {},
   "outputs": [
    {
     "data": {
      "text/plain": [
       "'(41) 3316-7700'"
      ]
     },
     "execution_count": 25,
     "metadata": {},
     "output_type": "execute_result"
    }
   ],
   "source": [
    "dicionario['telefone']"
   ]
  },
  {
   "cell_type": "code",
   "execution_count": 26,
   "metadata": {},
   "outputs": [
    {
     "data": {
      "text/plain": [
       "'fiscal@positivo.com.br'"
      ]
     },
     "execution_count": 26,
     "metadata": {},
     "output_type": "execute_result"
    }
   ],
   "source": [
    "dicionario['email']"
   ]
  },
  {
   "cell_type": "code",
   "execution_count": 27,
   "metadata": {},
   "outputs": [
    {
     "data": {
      "text/plain": [
       "'R JAVARI, 1255 - DISTRITO INDUSTRIAL I - MANAUS / AM'"
      ]
     },
     "execution_count": 27,
     "metadata": {},
     "output_type": "execute_result"
    }
   ],
   "source": [
    "dicionario['logradouro'] + ', ' + dicionario['numero'] + ' - ' + dicionario['bairro'] + ' - ' + dicionario['municipio'] + ' / ' + dicionario['uf']"
   ]
  },
  {
   "cell_type": "code",
   "execution_count": 28,
   "metadata": {},
   "outputs": [
    {
     "data": {
      "text/plain": [
       "array(['01590728000850', '05872523000141', '06981180000116',\n",
       "       '09583781000169', '12742245000173', '17281106000103',\n",
       "       '20584944000160', '27325275000151', '27995686000154',\n",
       "       '34028316001509', '39319890000134', '41505690000118',\n",
       "       '41776201000162', '43003732000148', '43433811000199',\n",
       "       '44812602000119', '45424853000199', '76535764000143',\n",
       "       '00139736000145', '01255291000121', '01804159000121',\n",
       "       '02338743000100', '02347121000210', '03157268000120',\n",
       "       '03539933000140', '04785664000164', '05088041000103',\n",
       "       '06022475000165', '06894510000136', '07027329743',\n",
       "       '07457410000296', '07912053000128', '08605233000120',\n",
       "       '08703140000138', '09249668000141', '09505477000101',\n",
       "       '10463704000154', '10526703000101', '10842829000195',\n",
       "       '10902067000175', '11094173000132', '11532912000120',\n",
       "       '12669334000131', '13857945000176', '13986656000177',\n",
       "       '14459158000139', '14807420000199', '14951451000119',\n",
       "       '14968227000130', '15153524000190', '17254509000163',\n",
       "       '17623276000129', '17955535000119', '18726078000153',\n",
       "       '19234111000190', '19612735000102', '19994997000170',\n",
       "       '20240470000130', '21331404000138', '21425509000156',\n",
       "       '21578205000129', '23178866000192', '23533848000181',\n",
       "       '24083086000121', '26503796000199', '27619368000199',\n",
       "       '28719518000107', '29704594000101', '29774797000166',\n",
       "       '30189974000126', '31535157000145', '32542998000142',\n",
       "       '33171503000189', '35764167000103', '36277221000159',\n",
       "       '38084736000168', '39242061000109', '39988022000147',\n",
       "       '40000327000188', '40223106000179', '40225662000184',\n",
       "       '40695811000179', '41841443000192', '42107381000152',\n",
       "       '42772140000128', '43892634000109', '43928711000133',\n",
       "       '44384524000107', '45135133000103', '45258432000216',\n",
       "       '45769285000168', '46367384000186', '46920049000163',\n",
       "       '47378309000183', '48778881000100', '48959315000197',\n",
       "       '49316139000138', '49577909000104', '49720354000108',\n",
       "       '65095531000150', '65271868000171', '65295172000185',\n",
       "       '65353401000170', '76535764000658', '06187402000123',\n",
       "       '13218025000108', '19299157000198', '20324748000157',\n",
       "       '30678144000162', '36434865000103', '38339341000169',\n",
       "       '12433700000159', '19791896006486', '19871268000127',\n",
       "       '20421805000116', '20702528000110', '20942789000107',\n",
       "       '21016690000147', '26517495000114', '31038751000120',\n",
       "       '33180160000119', '37748531000177', '71001465000105',\n",
       "       '05291541000130', '06910908000119', '07259386000108',\n",
       "       '07665456000110', '08194579000182', '08532500000186',\n",
       "       '09039582000194', '10614788000180', '10626630000120',\n",
       "       '10653955000100', '11186469000183', '14163479000191',\n",
       "       '14203779000157', '15407876000124', '19769219000188',\n",
       "       '21348054000112', '21971041000103', '28259514000185',\n",
       "       '29455568000189', '29926189000120', '30372538000198',\n",
       "       '31206933000163', '31634238000100', '31669124000198',\n",
       "       '33497491000187', '33618396000194', '35307908000127',\n",
       "       '35411786000114', '36045363000190', '37421415000149',\n",
       "       '40224243000128', '41471161000140', '43782859000102',\n",
       "       '44259236000112', '45229830697', '45495742672', '47043589000179',\n",
       "       '47078180000198', '47170510000170', '48085103000128',\n",
       "       '48087032000100', '48371796000115', '58586113034', '75126583620',\n",
       "       '79984357000101', '03849500000190', '00030005671', '00129400033',\n",
       "       '00431705100', '00526303310', '00571968341', '00947703101',\n",
       "       '01052392245', '01126681008', '01299636071', '01353508242',\n",
       "       '01823919065', '01843667630', '02030864650', '02185403613',\n",
       "       '02209219035', '02241473669', '02261350120', '02279383055',\n",
       "       '02301609642', '02509259075', '02642693228', '02850720054',\n",
       "       '02852355086', '02872132180', '03014138002', '03097492046',\n",
       "       '03227074044', '03266662148', '03284444050', '03377126031',\n",
       "       '03377882006', '03404424093', '03480581013', '03558326237',\n",
       "       '03852987067', '03905960001', '03917351013', '03940728128',\n",
       "       '03958083595', '03962053050', '04023542652', '04038072045',\n",
       "       '04160798730', '04205973012', '04216220592', '04229519001',\n",
       "       '04229605277', '04264514657', '04310361102', '04333000009',\n",
       "       '04345498007', '04390724096', '04407533099', '04579685083',\n",
       "       '04917001056', '05108416946', '05146300194', '05183711313',\n",
       "       '05241255621', '05295144194', '05337761471', '05474497989',\n",
       "       '05573004794', '05621642350', '05665961647', '05689692190',\n",
       "       '05716221602', '06087002154', '06119354301', '06190533647',\n",
       "       '06229234637', '06334289659', '06383501666', '06467068459',\n",
       "       '06472724318', '06586004608', '06615892189', '06783256502',\n",
       "       '06801474626', '06865067746', '07039512114', '07169524325',\n",
       "       '07194826151', '07270889120', '07273046159', '07346767608',\n",
       "       '07524298331', '07637429610', '07645389699', '07816107706',\n",
       "       '07820373644', '07934460589', '07965131390', '08035166301',\n",
       "       '08053237320', '08065029400', '08223819589', '08225349326',\n",
       "       '08277144598', '08827947957', '08967602600', '08970525521',\n",
       "       '09003617600', '09007785630', '09017890460', '09063171935',\n",
       "       '09064361762', '09223582652', '09249396481', '09294720632',\n",
       "       '09663352795', '09679621960', '09839706969', '10178028746',\n",
       "       '10220358605', '10369164725', '10375927603', '10377203696',\n",
       "       '10384918603', '10402385640', '10453836607', '10515060690',\n",
       "       '10542917483', '10668899450', '10691028494', '10698907400',\n",
       "       '10762929766', '10830709673', '10853684758', '10957557493',\n",
       "       '11018705759', '11071537601', '11191518728', '11215227698',\n",
       "       '11219031933', '11227792670', '11324227605', '11462121608',\n",
       "       '11564639630', '11579816665', '11638652651', '11646858646',\n",
       "       '11651502714', '11713215705', '11742102492', '11853066761',\n",
       "       '11877498777', '11938847482', '12149124785', '12173899465',\n",
       "       '12303008646', '12309098698', '12394528613', '12429302721',\n",
       "       '12453891731', '12464606707', '12719653640', '12916601600',\n",
       "       '12923860616', '12929795425', '13139077661', '13283577757',\n",
       "       '13353836624', '13507302624', '13536452744', '13544317745',\n",
       "       '13588077790', '13617344771', '13692922795', '13705740610',\n",
       "       '13758539617', '13768501680', '13775034617', '13958368760',\n",
       "       '14018103735', '14100963602', '14321880467', '14410235699',\n",
       "       '14441938721', '14499874785', '14587587451', '14596998663',\n",
       "       '14696902765', '14805444770', '14893184709', '15018577703',\n",
       "       '15144916724', '15179822785', '15252301743', '15272760743',\n",
       "       '15355213766', '15549541777', '15553383722', '15582447784',\n",
       "       '15586334720', '15621793730', '15658665760', '15692767732',\n",
       "       '15789911706', '16013199752', '16072000746', '16177238785',\n",
       "       '16374666763', '16461345752', '16463775754', '16488471708',\n",
       "       '16632952712', '16664689758', '16702196741', '16752671702',\n",
       "       '16850127799', '16853286790', '16947768756', '16950689713',\n",
       "       '16958518705', '16967988760', '16996092760', '17011304754',\n",
       "       '17056850723', '17192911798', '17352190708', '17451899713',\n",
       "       '17527919752', '17752344796', '17790041762', '17836610705',\n",
       "       '17982659748', '18006853789', '18018984727', '18243205748',\n",
       "       '18505190726', '18565051706', '18603247706', '18613878733',\n",
       "       '18639465789', '18652250707', '18725986767', '18823937752',\n",
       "       '18842806765', '18845354709', '18860838789', '18863146756',\n",
       "       '19392505795', '19763491762', '36651018833', '38066039875',\n",
       "       '38531643821', '38611738837', '38741026888', '39325275856',\n",
       "       '39342129803', '41580232892', '44099351866', '44771480893',\n",
       "       '45030927824', '46960233895', '46983920805', '47028174859',\n",
       "       '47039641801', '47582584813', '48292262857', '49353908833',\n",
       "       '49650302816', '49851404810', '50952859831', '60455085307',\n",
       "       '65152980053', '70180361430', '70198954417', '70279878486',\n",
       "       '70298334496', '70323055478', '70369439473', '70511651430',\n",
       "       '70983535400', '71049828410', '72640260006', '72809914249',\n",
       "       '79222030982', '82518157034', '86113510530', '86223518668',\n",
       "       '86349080548', '86374303091', '87286297287', '88291421587',\n",
       "       '89072707168', '91413346472', '17289559000186', '05860142000142',\n",
       "       '33345691000114', '47122108000110', '92221589000176',\n",
       "       '21442038000194', '23614351000198', '24377448000197',\n",
       "       '28453974000140', '32160412000185', '35339031000156',\n",
       "       '02273057000190', '02729859000161', '02829044000154',\n",
       "       '03333999000189', '03541496000107', '03716644000179',\n",
       "       '04664903000128', '06131805000150', '06307463000187',\n",
       "       '07266248000148', '07764000000107', '08593332000139',\n",
       "       '08990041000184', '11003995000160', '11210857000152',\n",
       "       '11262969000157', '11718643000191', '13299823000101',\n",
       "       '19933130000105', '20183508000180', '23121810000100',\n",
       "       '28888423000109', '31682616000113', '31714734000166',\n",
       "       '33739848000196', '38073038000167', '40478639000100',\n",
       "       '44429540000160', '47440165000148', '48241204000140',\n",
       "       '58512096000157', '06251822000121', '01342660000113',\n",
       "       '02246382000163', '08304573000110', '08664980000139',\n",
       "       '09325742000161', '28039386000164', '28683271000108',\n",
       "       '40166705000106', '42528905000189', '46209139000140',\n",
       "       '79034153000100', '00626625000163', '10198809000123',\n",
       "       '68533967000172', '02421421000111', '04790917000198',\n",
       "       '05691235000190', '06071701000106', '07048323000102',\n",
       "       '07385089000109', '07851262000109', '14517117000151',\n",
       "       '15072268000106', '17590881000302', '18828894000330',\n",
       "       '22382705000153', '24547043000150', '26669742000106',\n",
       "       '31411095000160', '34298882000135', '37392691000126',\n",
       "       '38680138000151', '40689972000150', '41866869000109',\n",
       "       '42176264000140', '43838684000108', '45293736000133',\n",
       "       '45930390000137', '01088055000168', '01089802000182',\n",
       "       '01904037054', '03979214000140', '04087710000151',\n",
       "       '05191550000230', '06178319000198', '07845581000101',\n",
       "       '08096586000141', '08658622000113', '09450715000110',\n",
       "       '11456144000173', '12007998000135', '12013565000192',\n",
       "       '12032954000165', '12279099000191', '13759849000195',\n",
       "       '13990290000100', '15494741000143', '15724019000158',\n",
       "       '17339156000102', '18202203000126', '18274923000105',\n",
       "       '18707234000139', '19026964000137', '20362687000112',\n",
       "       '20402517000114', '20915722000183', '21143541000149',\n",
       "       '21597955000148', '21793208000185', '21942511000100',\n",
       "       '24183988000130', '25271628000152', '28076288000105',\n",
       "       '28320324000126', '30399473000174', '31724820000150',\n",
       "       '32005178000111', '32316475000188', '33323653000160',\n",
       "       '33486276000180', '34719908000171', '34734782000104',\n",
       "       '35099493000143', '39236457000135', '39619837000230',\n",
       "       '40214888000180', '40358740000119', '40700611000167',\n",
       "       '41053476000178', '41680761000119', '42262411000103',\n",
       "       '42438841000125', '43161042000117', '43731740000100',\n",
       "       '45250428000120', '45540617000138', '46476518000105',\n",
       "       '47308261000137', '48080508000173', '48337870000187',\n",
       "       '48779371000140', '49834027000179', '50317178000139',\n",
       "       '53202768000104', '59717553000617', '71359939000195',\n",
       "       '81243735000903', '81243735001977', '11088488000177',\n",
       "       '11855738000157', '17281973000300', '31719674000174',\n",
       "       '42348400000132', '61418141000113', '08906031000118',\n",
       "       '08907476000112', '11768653000131', '13642117000110',\n",
       "       '13680603000123', '167129', '19116488000145', '20784313000195',\n",
       "       '25406063000173', '28423235000105', '30647055000159',\n",
       "       '39334587000100', '39889596000168', '00316937000170',\n",
       "       '00577773000135', '01008092000119', '01098104000143',\n",
       "       '01509731000391', '02108761000197', '02482141000113',\n",
       "       '02668731000135', '02784905000125', '02848925647',\n",
       "       '02929143000108', '03059040000105', '03856561000185',\n",
       "       '03930660000160', '04648489000163', '04992161000160',\n",
       "       '05194005000116', '05400006000170', '05461861000190',\n",
       "       '05552239000198', '05741540000140', '05823817000183',\n",
       "       '06024718000102', '06334550000123', '07119678000137',\n",
       "       '07285389000108', '07608700000102', '07690038000182',\n",
       "       '07809370000113', '07976966000108', '08278883000108',\n",
       "       '08928430631', '08986188000109', '09215883000121',\n",
       "       '09222369000113', '09380005000161', '10372200000129',\n",
       "       '10450143000159', '10489922000168', '10600312000190',\n",
       "       '10899734000108', '11708426000110', '11737090000114',\n",
       "       '12482902000190', '12769734000119', '12799335000109',\n",
       "       '12968777000123', '13407849000126', '13444848000151',\n",
       "       '13609307000136', '13700015682', '14233622000174',\n",
       "       '16926786000102', '17412396000187', '17413469000155',\n",
       "       '17421504000188', '17457610000111', '17845504000296',\n",
       "       '18226970000175', '18632315000117', '18730868000102',\n",
       "       '18901645000160', '19625870000184', '19863357000121',\n",
       "       '20382743000180', '20469180000162', '21013054000161',\n",
       "       '21390591000120', '21781767000175', '22016266000165',\n",
       "       '22073381000171', '22077499000178', '22579804000120',\n",
       "       '22705870000107', '23302414000170', '23814905000109',\n",
       "       '24151595000144', '24194533000110', '25641788000146',\n",
       "       '25641788000227', '25642083000143', '25642331000156',\n",
       "       '25643420000117', '25656463000137', '26001891000194',\n",
       "       '26886495000191', '27656480000108', '27862855000188',\n",
       "       '28147573000161', '28460991000104', '28820255000110',\n",
       "       '29034549000189', '29985857000190', '30041676000194',\n",
       "       '30379344000114', '30865026653', '30925385000169', '31791247687',\n",
       "       '32677058000160', '33013209000149', '33992679000100',\n",
       "       '34672800000170', '35706397000116', '36874484000145',\n",
       "       '37686780678', '41884255000141', '42529374000149',\n",
       "       '42855999000362', '43507304000152', '44223526000106',\n",
       "       '44982273000154', '45125667000159', '50429810000136',\n",
       "       '55221181649', '57122873668', '58665102604', '64082717668',\n",
       "       '64273048000156', '79988601620', '81061242668', '92887210610',\n",
       "       '00029957605', '00386000000171', '00583615619', '01172671630',\n",
       "       '01253802670', '01412905605', '01852701668', '02206069000100',\n",
       "       '02690065673', '03008284620', '03065063000114', '03123441717',\n",
       "       '03479428000157', '03481648669', '03700858680', '03841488676',\n",
       "       '03851189000114', '04299096673', '04628307644', '05490249000146',\n",
       "       '05565735602', '06003234636', '07267191614', '07352375651',\n",
       "       '07817955000185', '07822118000144', '08528006000148',\n",
       "       '08930415644', '09006743690', '10031026702', '10197494000108',\n",
       "       '10493969000103', '10569086000121', '10710529775',\n",
       "       '11708655000135', '11803092602', '12614671673', '13081240000100',\n",
       "       '13823529000157', '14987491000110', '15072183000128',\n",
       "       '15210886000175', '15329152000100', '15439366000139',\n",
       "       '16633511000180', '17496898000133', '21425822000194',\n",
       "       '23119087000116', '25301210000140', '25386019000149',\n",
       "       '25863390000154', '26401571000121', '26600459000110',\n",
       "       '27205945000104', '28429720000196', '29043834000166',\n",
       "       '29650220000142', '30814518000120', '31339053000165',\n",
       "       '31958700000117', '33615509000106', '34379797000100',\n",
       "       '34788645000152', '35865185870', '36999842000146',\n",
       "       '39452748000160', '39999415000156', '40131537000105',\n",
       "       '40220898000128', '40274237000185', '40734984000159',\n",
       "       '41342716000154', '42343998000177', '43241204000127',\n",
       "       '43473645000154', '44044562000102', '45169346000156',\n",
       "       '46218314000166', '46940235787', '47101984000160',\n",
       "       '47941098000145', '48489837000172', '48624749000136',\n",
       "       '48920400000141', '49006412000128', '49287499000159',\n",
       "       '49932039772', '510001', '51234341000162', '52704921000139',\n",
       "       '54611288668', '69315850106', '70797366334', '70886644615',\n",
       "       '71346480000195', '73514580000109', '75729466668', '80531580644',\n",
       "       '88014006000169', '02700680669', '02852112698', '04567265000127',\n",
       "       '13754000000129', '98488040644'], dtype=object)"
      ]
     },
     "execution_count": 28,
     "metadata": {},
     "output_type": "execute_result"
    }
   ],
   "source": [
    "# filtrando dos dados da coluna FAV\n",
    "df_cnpj = df[df['NOME_PI'] != 'PROFISSIONAL DE SAUDE AUTONOMO']\n",
    "df_cnpj = df[df['NOME_PI'] != 'ATENDIMENTO MEDICO-HOPITALR/FC']\n",
    "df_cnpj = df[df['NOME_PI'] != 'IND-INDENIZACOES']\n",
    "df_cnpj = df[df['NOME_PI'] != 'IND - INDENIZACOES']\n",
    "df_cnpj = df[df['NOME_PI'] != 'INDENIZACAO DESPESAS.']\n",
    "df_cnpj = df[df['NOME_PI'] != 'AUXILIO FINANCEIRO NÃO INDENIZÁVEL']\n",
    "df_cnpj = df[df['NOME_PI'] != 'INRE - RESTITUICAO E RESSARCIMENTO']\n",
    "df_cnpj = df[df['NOME_NDSI'] != 'OUTROS SERV.DE TERCEIROS PJ- PAGTO ANTECIPADO']\n",
    "df_cnpj = df[df['CREDOR'] != '160129']\n",
    "\n",
    "df_cnpj['CREDOR'].unique()"
   ]
  },
  {
   "cell_type": "code",
   "execution_count": 29,
   "metadata": {},
   "outputs": [
    {
     "data": {
      "text/html": [
       "<div>\n",
       "<style scoped>\n",
       "    .dataframe tbody tr th:only-of-type {\n",
       "        vertical-align: middle;\n",
       "    }\n",
       "\n",
       "    .dataframe tbody tr th {\n",
       "        vertical-align: top;\n",
       "    }\n",
       "\n",
       "    .dataframe thead th {\n",
       "        text-align: right;\n",
       "    }\n",
       "</style>\n",
       "<table border=\"1\" class=\"dataframe\">\n",
       "  <thead>\n",
       "    <tr style=\"text-align: right;\">\n",
       "      <th></th>\n",
       "      <th>UG</th>\n",
       "      <th>SIGLA UG</th>\n",
       "      <th>ACAO</th>\n",
       "      <th>NOME_ACAO</th>\n",
       "      <th>ANO</th>\n",
       "      <th>CREDOR</th>\n",
       "      <th>NOME_CREDOR</th>\n",
       "      <th>DATA</th>\n",
       "      <th>DIAS</th>\n",
       "      <th>ICFEX</th>\n",
       "      <th>NOME_ICFEX</th>\n",
       "      <th>ND</th>\n",
       "      <th>NOME_ND</th>\n",
       "      <th>NDSI</th>\n",
       "      <th>NOME_NDSI</th>\n",
       "      <th>NE</th>\n",
       "      <th>PI</th>\n",
       "      <th>NOME_PI</th>\n",
       "      <th>PROGRAMA</th>\n",
       "      <th>PTRES</th>\n",
       "      <th>TIPO</th>\n",
       "      <th>TIPO_NE</th>\n",
       "      <th>LOCAL</th>\n",
       "      <th>UF_CREDOR</th>\n",
       "      <th>UF_UG</th>\n",
       "      <th>UGR</th>\n",
       "      <th>NOME_UGR</th>\n",
       "      <th>RADPI4</th>\n",
       "      <th>MEIPI3</th>\n",
       "      <th>SUFPI4</th>\n",
       "      <th>A_LIQUIDAR</th>\n",
       "      <th>LIQUIDADO_A_PAGAR</th>\n",
       "      <th>TOTAL_A_PAGAR</th>\n",
       "      <th>PAGO</th>\n",
       "    </tr>\n",
       "  </thead>\n",
       "  <tbody>\n",
       "  </tbody>\n",
       "</table>\n",
       "</div>"
      ],
      "text/plain": [
       "Empty DataFrame\n",
       "Columns: [UG, SIGLA UG, ACAO, NOME_ACAO, ANO, CREDOR, NOME_CREDOR, DATA, DIAS, ICFEX, NOME_ICFEX, ND, NOME_ND, NDSI, NOME_NDSI, NE, PI, NOME_PI, PROGRAMA, PTRES, TIPO, TIPO_NE, LOCAL, UF_CREDOR, UF_UG, UGR, NOME_UGR, RADPI4, MEIPI3, SUFPI4, A_LIQUIDAR, LIQUIDADO_A_PAGAR, TOTAL_A_PAGAR, PAGO]\n",
       "Index: []"
      ]
     },
     "execution_count": 29,
     "metadata": {},
     "output_type": "execute_result"
    }
   ],
   "source": [
    "df_cnpj[df_cnpj['CREDOR'] == '160129']"
   ]
  },
  {
   "cell_type": "code",
   "execution_count": 30,
   "metadata": {},
   "outputs": [
    {
     "data": {
      "text/html": [
       "<div>\n",
       "<style scoped>\n",
       "    .dataframe tbody tr th:only-of-type {\n",
       "        vertical-align: middle;\n",
       "    }\n",
       "\n",
       "    .dataframe tbody tr th {\n",
       "        vertical-align: top;\n",
       "    }\n",
       "\n",
       "    .dataframe thead th {\n",
       "        text-align: right;\n",
       "    }\n",
       "</style>\n",
       "<table border=\"1\" class=\"dataframe\">\n",
       "  <thead>\n",
       "    <tr style=\"text-align: right;\">\n",
       "      <th></th>\n",
       "      <th>UG</th>\n",
       "      <th>SIGLA UG</th>\n",
       "      <th>ACAO</th>\n",
       "      <th>NOME_ACAO</th>\n",
       "      <th>ANO</th>\n",
       "      <th>CREDOR</th>\n",
       "      <th>NOME_CREDOR</th>\n",
       "      <th>DATA</th>\n",
       "      <th>DIAS</th>\n",
       "      <th>ICFEX</th>\n",
       "      <th>NOME_ICFEX</th>\n",
       "      <th>ND</th>\n",
       "      <th>NOME_ND</th>\n",
       "      <th>NDSI</th>\n",
       "      <th>NOME_NDSI</th>\n",
       "      <th>NE</th>\n",
       "      <th>PI</th>\n",
       "      <th>NOME_PI</th>\n",
       "      <th>PROGRAMA</th>\n",
       "      <th>PTRES</th>\n",
       "      <th>TIPO</th>\n",
       "      <th>TIPO_NE</th>\n",
       "      <th>LOCAL</th>\n",
       "      <th>UF_CREDOR</th>\n",
       "      <th>UF_UG</th>\n",
       "      <th>UGR</th>\n",
       "      <th>NOME_UGR</th>\n",
       "      <th>RADPI4</th>\n",
       "      <th>MEIPI3</th>\n",
       "      <th>SUFPI4</th>\n",
       "      <th>A_LIQUIDAR</th>\n",
       "      <th>LIQUIDADO_A_PAGAR</th>\n",
       "      <th>TOTAL_A_PAGAR</th>\n",
       "      <th>PAGO</th>\n",
       "    </tr>\n",
       "  </thead>\n",
       "  <tbody>\n",
       "    <tr>\n",
       "      <th>31</th>\n",
       "      <td>160129</td>\n",
       "      <td>ESA</td>\n",
       "      <td>2000</td>\n",
       "      <td>ADMINISTRACAO DA UNIDADE</td>\n",
       "      <td>2023</td>\n",
       "      <td>00139736000145</td>\n",
       "      <td>TECELAGEM SAO DOMINGOS LTDA</td>\n",
       "      <td>2023-09-12</td>\n",
       "      <td>16</td>\n",
       "      <td>160533</td>\n",
       "      <td>4º CGCFEX</td>\n",
       "      <td>339030</td>\n",
       "      <td>MATERIAL DE CONSUMO</td>\n",
       "      <td>33903022</td>\n",
       "      <td>MATERIAL DE LIMPEZA E PROD. DE HIGIENIZACAO</td>\n",
       "      <td>2023NE001136</td>\n",
       "      <td>I3DAFUNADOM</td>\n",
       "      <td>ADMINISTRACAO DE OM</td>\n",
       "      <td>0032</td>\n",
       "      <td>171460</td>\n",
       "      <td>ANO</td>\n",
       "      <td>ORDINARIO</td>\n",
       "      <td>ESCOLA DE SARGENTOS DAS ARMAS  - AVENIDA SETE ...</td>\n",
       "      <td>MG</td>\n",
       "      <td>MG</td>\n",
       "      <td>160073</td>\n",
       "      <td>DGO</td>\n",
       "      <td>I3DA</td>\n",
       "      <td>FUN</td>\n",
       "      <td>ADOM</td>\n",
       "      <td>450.0</td>\n",
       "      <td>0.0</td>\n",
       "      <td>450.0</td>\n",
       "      <td>0.0</td>\n",
       "    </tr>\n",
       "    <tr>\n",
       "      <th>32</th>\n",
       "      <td>160129</td>\n",
       "      <td>ESA</td>\n",
       "      <td>2000</td>\n",
       "      <td>ADMINISTRACAO DA UNIDADE</td>\n",
       "      <td>2023</td>\n",
       "      <td>01255291000121</td>\n",
       "      <td>H.A DISTRIBUIDORA LTDA</td>\n",
       "      <td>2023-04-11</td>\n",
       "      <td>170</td>\n",
       "      <td>160533</td>\n",
       "      <td>4º CGCFEX</td>\n",
       "      <td>339030</td>\n",
       "      <td>MATERIAL DE CONSUMO</td>\n",
       "      <td>33903022</td>\n",
       "      <td>MATERIAL DE LIMPEZA E PROD. DE HIGIENIZACAO</td>\n",
       "      <td>2023NE000361</td>\n",
       "      <td>I3DAFUNADOM</td>\n",
       "      <td>ADMINISTRACAO DE OM</td>\n",
       "      <td>0032</td>\n",
       "      <td>171460</td>\n",
       "      <td>ANO</td>\n",
       "      <td>ORDINARIO</td>\n",
       "      <td>ESCOLA DE SARGENTOS DAS ARMAS, AVENIDA SETE DE...</td>\n",
       "      <td>MG</td>\n",
       "      <td>MG</td>\n",
       "      <td>160073</td>\n",
       "      <td>DGO</td>\n",
       "      <td>I3DA</td>\n",
       "      <td>FUN</td>\n",
       "      <td>ADOM</td>\n",
       "      <td>0.0</td>\n",
       "      <td>0.0</td>\n",
       "      <td>0.0</td>\n",
       "      <td>2646.0</td>\n",
       "    </tr>\n",
       "    <tr>\n",
       "      <th>33</th>\n",
       "      <td>160129</td>\n",
       "      <td>ESA</td>\n",
       "      <td>2000</td>\n",
       "      <td>ADMINISTRACAO DA UNIDADE</td>\n",
       "      <td>2023</td>\n",
       "      <td>01255291000121</td>\n",
       "      <td>H.A DISTRIBUIDORA LTDA</td>\n",
       "      <td>2023-06-22</td>\n",
       "      <td>98</td>\n",
       "      <td>160533</td>\n",
       "      <td>4º CGCFEX</td>\n",
       "      <td>339030</td>\n",
       "      <td>MATERIAL DE CONSUMO</td>\n",
       "      <td>33903022</td>\n",
       "      <td>MATERIAL DE LIMPEZA E PROD. DE HIGIENIZACAO</td>\n",
       "      <td>2023NE000737</td>\n",
       "      <td>I3DAFUNADOM</td>\n",
       "      <td>ADMINISTRACAO DE OM</td>\n",
       "      <td>0032</td>\n",
       "      <td>171460</td>\n",
       "      <td>ANO</td>\n",
       "      <td>ORDINARIO</td>\n",
       "      <td>ESCOLA DE SARGENTOS DAS ARMAS  - AVENIDA SETE ...</td>\n",
       "      <td>MG</td>\n",
       "      <td>MG</td>\n",
       "      <td>160073</td>\n",
       "      <td>DGO</td>\n",
       "      <td>I3DA</td>\n",
       "      <td>FUN</td>\n",
       "      <td>ADOM</td>\n",
       "      <td>0.0</td>\n",
       "      <td>0.0</td>\n",
       "      <td>0.0</td>\n",
       "      <td>4647.0</td>\n",
       "    </tr>\n",
       "    <tr>\n",
       "      <th>34</th>\n",
       "      <td>160129</td>\n",
       "      <td>ESA</td>\n",
       "      <td>2000</td>\n",
       "      <td>ADMINISTRACAO DA UNIDADE</td>\n",
       "      <td>2023</td>\n",
       "      <td>01255291000121</td>\n",
       "      <td>H.A DISTRIBUIDORA LTDA</td>\n",
       "      <td>2023-07-31</td>\n",
       "      <td>59</td>\n",
       "      <td>160533</td>\n",
       "      <td>4º CGCFEX</td>\n",
       "      <td>339030</td>\n",
       "      <td>MATERIAL DE CONSUMO</td>\n",
       "      <td>33903022</td>\n",
       "      <td>MATERIAL DE LIMPEZA E PROD. DE HIGIENIZACAO</td>\n",
       "      <td>2023NE000930</td>\n",
       "      <td>I3DAFUNADOM</td>\n",
       "      <td>ADMINISTRACAO DE OM</td>\n",
       "      <td>0032</td>\n",
       "      <td>171460</td>\n",
       "      <td>ANO</td>\n",
       "      <td>ORDINARIO</td>\n",
       "      <td>ESCOLA DE SARGENTOS DAS ARMAS  - AVENIDA SETE ...</td>\n",
       "      <td>MG</td>\n",
       "      <td>MG</td>\n",
       "      <td>160073</td>\n",
       "      <td>DGO</td>\n",
       "      <td>I3DA</td>\n",
       "      <td>FUN</td>\n",
       "      <td>ADOM</td>\n",
       "      <td>0.0</td>\n",
       "      <td>0.0</td>\n",
       "      <td>0.0</td>\n",
       "      <td>2211.2</td>\n",
       "    </tr>\n",
       "    <tr>\n",
       "      <th>35</th>\n",
       "      <td>160129</td>\n",
       "      <td>ESA</td>\n",
       "      <td>2000</td>\n",
       "      <td>ADMINISTRACAO DA UNIDADE</td>\n",
       "      <td>2023</td>\n",
       "      <td>01255291000121</td>\n",
       "      <td>H.A DISTRIBUIDORA LTDA</td>\n",
       "      <td>2023-09-12</td>\n",
       "      <td>16</td>\n",
       "      <td>160533</td>\n",
       "      <td>4º CGCFEX</td>\n",
       "      <td>339030</td>\n",
       "      <td>MATERIAL DE CONSUMO</td>\n",
       "      <td>33903022</td>\n",
       "      <td>MATERIAL DE LIMPEZA E PROD. DE HIGIENIZACAO</td>\n",
       "      <td>2023NE001137</td>\n",
       "      <td>I3DAFUNADOM</td>\n",
       "      <td>ADMINISTRACAO DE OM</td>\n",
       "      <td>0032</td>\n",
       "      <td>171460</td>\n",
       "      <td>ANO</td>\n",
       "      <td>ORDINARIO</td>\n",
       "      <td>ESCOLA DE SARGENTOS DAS ARMAS  - AVENIDA SETE ...</td>\n",
       "      <td>MG</td>\n",
       "      <td>MG</td>\n",
       "      <td>160073</td>\n",
       "      <td>DGO</td>\n",
       "      <td>I3DA</td>\n",
       "      <td>FUN</td>\n",
       "      <td>ADOM</td>\n",
       "      <td>541.0</td>\n",
       "      <td>0.0</td>\n",
       "      <td>541.0</td>\n",
       "      <td>0.0</td>\n",
       "    </tr>\n",
       "    <tr>\n",
       "      <th>...</th>\n",
       "      <td>...</td>\n",
       "      <td>...</td>\n",
       "      <td>...</td>\n",
       "      <td>...</td>\n",
       "      <td>...</td>\n",
       "      <td>...</td>\n",
       "      <td>...</td>\n",
       "      <td>...</td>\n",
       "      <td>...</td>\n",
       "      <td>...</td>\n",
       "      <td>...</td>\n",
       "      <td>...</td>\n",
       "      <td>...</td>\n",
       "      <td>...</td>\n",
       "      <td>...</td>\n",
       "      <td>...</td>\n",
       "      <td>...</td>\n",
       "      <td>...</td>\n",
       "      <td>...</td>\n",
       "      <td>...</td>\n",
       "      <td>...</td>\n",
       "      <td>...</td>\n",
       "      <td>...</td>\n",
       "      <td>...</td>\n",
       "      <td>...</td>\n",
       "      <td>...</td>\n",
       "      <td>...</td>\n",
       "      <td>...</td>\n",
       "      <td>...</td>\n",
       "      <td>...</td>\n",
       "      <td>...</td>\n",
       "      <td>...</td>\n",
       "      <td>...</td>\n",
       "      <td>...</td>\n",
       "    </tr>\n",
       "    <tr>\n",
       "      <th>3006</th>\n",
       "      <td>167129</td>\n",
       "      <td>ESA</td>\n",
       "      <td>2919</td>\n",
       "      <td>REGISTRO E FISCALIZACAO DE PRODUTOS C</td>\n",
       "      <td>2023</td>\n",
       "      <td>59717553000617</td>\n",
       "      <td>MULTILASER INDUSTRIAL S.A.</td>\n",
       "      <td>2023-05-26</td>\n",
       "      <td>125</td>\n",
       "      <td>160533</td>\n",
       "      <td>4º CGCFEX</td>\n",
       "      <td>449052</td>\n",
       "      <td>EQUIPAMENTOS E MATERIAL PERMANENTE</td>\n",
       "      <td>44905241</td>\n",
       "      <td>EQUIPAMENTOS DE TIC - COMPUTADORES</td>\n",
       "      <td>2023NE001046</td>\n",
       "      <td>E3PCFSCINFO</td>\n",
       "      <td>INFORMATICA</td>\n",
       "      <td>6012</td>\n",
       "      <td>215839</td>\n",
       "      <td>ANO</td>\n",
       "      <td>ORDINARIO</td>\n",
       "      <td>ESCOLA DE SARGENTOS DAS ARMAS, AVENIDA SETE DE...</td>\n",
       "      <td>MG</td>\n",
       "      <td>MG</td>\n",
       "      <td>167504</td>\n",
       "      <td>COEX - GESTOR</td>\n",
       "      <td>E3PC</td>\n",
       "      <td>FSC</td>\n",
       "      <td>INFO</td>\n",
       "      <td>0.0</td>\n",
       "      <td>0.0</td>\n",
       "      <td>0.0</td>\n",
       "      <td>690.0</td>\n",
       "    </tr>\n",
       "    <tr>\n",
       "      <th>3007</th>\n",
       "      <td>167129</td>\n",
       "      <td>ESA</td>\n",
       "      <td>2919</td>\n",
       "      <td>REGISTRO E FISCALIZACAO DE PRODUTOS C</td>\n",
       "      <td>2023</td>\n",
       "      <td>65095531000150</td>\n",
       "      <td>LOGOS PAPELARIA LTDA</td>\n",
       "      <td>2023-05-25</td>\n",
       "      <td>126</td>\n",
       "      <td>160533</td>\n",
       "      <td>4º CGCFEX</td>\n",
       "      <td>449052</td>\n",
       "      <td>EQUIPAMENTOS E MATERIAL PERMANENTE</td>\n",
       "      <td>44905245</td>\n",
       "      <td>EQUIPAMENTOS DE TIC - IMPRESSORAS</td>\n",
       "      <td>2023NE001044</td>\n",
       "      <td>E3PCFSCINFO</td>\n",
       "      <td>INFORMATICA</td>\n",
       "      <td>6012</td>\n",
       "      <td>215839</td>\n",
       "      <td>ANO</td>\n",
       "      <td>ORDINARIO</td>\n",
       "      <td>ESCOLA DE SARGENTOS DAS ARMAS  - AVENIDA SETE ...</td>\n",
       "      <td>MG</td>\n",
       "      <td>MG</td>\n",
       "      <td>167504</td>\n",
       "      <td>COEX - GESTOR</td>\n",
       "      <td>E3PC</td>\n",
       "      <td>FSC</td>\n",
       "      <td>INFO</td>\n",
       "      <td>0.0</td>\n",
       "      <td>0.0</td>\n",
       "      <td>0.0</td>\n",
       "      <td>1800.0</td>\n",
       "    </tr>\n",
       "    <tr>\n",
       "      <th>3008</th>\n",
       "      <td>167129</td>\n",
       "      <td>ESA</td>\n",
       "      <td>2919</td>\n",
       "      <td>REGISTRO E FISCALIZACAO DE PRODUTOS C</td>\n",
       "      <td>2023</td>\n",
       "      <td>81243735000903</td>\n",
       "      <td>POSITIVO TECNOLOGIA S.A.</td>\n",
       "      <td>2023-02-15</td>\n",
       "      <td>225</td>\n",
       "      <td>160533</td>\n",
       "      <td>4º CGCFEX</td>\n",
       "      <td>449052</td>\n",
       "      <td>EQUIPAMENTOS E MATERIAL PERMANENTE</td>\n",
       "      <td>44905241</td>\n",
       "      <td>EQUIPAMENTOS DE TIC - COMPUTADORES</td>\n",
       "      <td>2023NE000261</td>\n",
       "      <td>E3PCFSCINFO</td>\n",
       "      <td>INFORMATICA</td>\n",
       "      <td>6012</td>\n",
       "      <td>215839</td>\n",
       "      <td>ANO</td>\n",
       "      <td>ORDINARIO</td>\n",
       "      <td>ESCOLA DE SARGENTOS DAS ARMAS  - AVENIDA SETE ...</td>\n",
       "      <td>BA</td>\n",
       "      <td>MG</td>\n",
       "      <td>167504</td>\n",
       "      <td>COEX - GESTOR</td>\n",
       "      <td>E3PC</td>\n",
       "      <td>FSC</td>\n",
       "      <td>INFO</td>\n",
       "      <td>0.0</td>\n",
       "      <td>0.0</td>\n",
       "      <td>0.0</td>\n",
       "      <td>7114.0</td>\n",
       "    </tr>\n",
       "    <tr>\n",
       "      <th>3009</th>\n",
       "      <td>167129</td>\n",
       "      <td>ESA</td>\n",
       "      <td>2919</td>\n",
       "      <td>REGISTRO E FISCALIZACAO DE PRODUTOS C</td>\n",
       "      <td>2023</td>\n",
       "      <td>98488040644</td>\n",
       "      <td>MARIO HENRIQUE CUBBI</td>\n",
       "      <td>2023-05-22</td>\n",
       "      <td>129</td>\n",
       "      <td>160533</td>\n",
       "      <td>4º CGCFEX</td>\n",
       "      <td>339030</td>\n",
       "      <td>MATERIAL DE CONSUMO</td>\n",
       "      <td>33903001</td>\n",
       "      <td>COMBUSTIVEIS E LUBRIFICANTES AUTOMOTIVOS</td>\n",
       "      <td>2023NE001035</td>\n",
       "      <td>E3PCFSCCOLU</td>\n",
       "      <td>COMBUSTIVEIS E LUBRIFICANTES</td>\n",
       "      <td>6012</td>\n",
       "      <td>215839</td>\n",
       "      <td>ANO</td>\n",
       "      <td>ORDINARIO</td>\n",
       "      <td>ESCOLA DE SARGENTOS DAS ARMAS  - AVENIDA SETE ...</td>\n",
       "      <td>MG</td>\n",
       "      <td>MG</td>\n",
       "      <td>167504</td>\n",
       "      <td>COEX - GESTOR</td>\n",
       "      <td>E3PC</td>\n",
       "      <td>FSC</td>\n",
       "      <td>COLU</td>\n",
       "      <td>0.0</td>\n",
       "      <td>0.0</td>\n",
       "      <td>0.0</td>\n",
       "      <td>2236.2</td>\n",
       "    </tr>\n",
       "    <tr>\n",
       "      <th>3010</th>\n",
       "      <td>167129</td>\n",
       "      <td>ESA</td>\n",
       "      <td>2919</td>\n",
       "      <td>REGISTRO E FISCALIZACAO DE PRODUTOS C</td>\n",
       "      <td>2023</td>\n",
       "      <td>98488040644</td>\n",
       "      <td>MARIO HENRIQUE CUBBI</td>\n",
       "      <td>2023-08-31</td>\n",
       "      <td>28</td>\n",
       "      <td>160533</td>\n",
       "      <td>4º CGCFEX</td>\n",
       "      <td>339030</td>\n",
       "      <td>MATERIAL DE CONSUMO</td>\n",
       "      <td>33903096</td>\n",
       "      <td>MATERIAL DE CONSUMO - PAGTO ANTECIPADO</td>\n",
       "      <td>2023NE001506</td>\n",
       "      <td>E3PCOPFCOLU</td>\n",
       "      <td>COMBUSTIVEL E LUBRIFICANTES</td>\n",
       "      <td>6012</td>\n",
       "      <td>215839</td>\n",
       "      <td>ANO</td>\n",
       "      <td>ORDINARIO</td>\n",
       "      <td>ESCOLA DE SARGENTOS DAS ARMAS  - AVENIDA SETE ...</td>\n",
       "      <td>MG</td>\n",
       "      <td>MG</td>\n",
       "      <td>167504</td>\n",
       "      <td>COEX - GESTOR</td>\n",
       "      <td>E3PC</td>\n",
       "      <td>OPF</td>\n",
       "      <td>COLU</td>\n",
       "      <td>0.0</td>\n",
       "      <td>0.0</td>\n",
       "      <td>0.0</td>\n",
       "      <td>675.0</td>\n",
       "    </tr>\n",
       "  </tbody>\n",
       "</table>\n",
       "<p>2694 rows × 34 columns</p>\n",
       "</div>"
      ],
      "text/plain": [
       "          UG SIGLA UG  ACAO                              NOME_ACAO   ANO  \\\n",
       "31    160129      ESA  2000               ADMINISTRACAO DA UNIDADE  2023   \n",
       "32    160129      ESA  2000               ADMINISTRACAO DA UNIDADE  2023   \n",
       "33    160129      ESA  2000               ADMINISTRACAO DA UNIDADE  2023   \n",
       "34    160129      ESA  2000               ADMINISTRACAO DA UNIDADE  2023   \n",
       "35    160129      ESA  2000               ADMINISTRACAO DA UNIDADE  2023   \n",
       "...      ...      ...   ...                                    ...   ...   \n",
       "3006  167129      ESA  2919  REGISTRO E FISCALIZACAO DE PRODUTOS C  2023   \n",
       "3007  167129      ESA  2919  REGISTRO E FISCALIZACAO DE PRODUTOS C  2023   \n",
       "3008  167129      ESA  2919  REGISTRO E FISCALIZACAO DE PRODUTOS C  2023   \n",
       "3009  167129      ESA  2919  REGISTRO E FISCALIZACAO DE PRODUTOS C  2023   \n",
       "3010  167129      ESA  2919  REGISTRO E FISCALIZACAO DE PRODUTOS C  2023   \n",
       "\n",
       "              CREDOR                  NOME_CREDOR       DATA  DIAS   ICFEX  \\\n",
       "31    00139736000145  TECELAGEM SAO DOMINGOS LTDA 2023-09-12    16  160533   \n",
       "32    01255291000121       H.A DISTRIBUIDORA LTDA 2023-04-11   170  160533   \n",
       "33    01255291000121       H.A DISTRIBUIDORA LTDA 2023-06-22    98  160533   \n",
       "34    01255291000121       H.A DISTRIBUIDORA LTDA 2023-07-31    59  160533   \n",
       "35    01255291000121       H.A DISTRIBUIDORA LTDA 2023-09-12    16  160533   \n",
       "...              ...                          ...        ...   ...     ...   \n",
       "3006  59717553000617   MULTILASER INDUSTRIAL S.A. 2023-05-26   125  160533   \n",
       "3007  65095531000150         LOGOS PAPELARIA LTDA 2023-05-25   126  160533   \n",
       "3008  81243735000903     POSITIVO TECNOLOGIA S.A. 2023-02-15   225  160533   \n",
       "3009     98488040644         MARIO HENRIQUE CUBBI 2023-05-22   129  160533   \n",
       "3010     98488040644         MARIO HENRIQUE CUBBI 2023-08-31    28  160533   \n",
       "\n",
       "     NOME_ICFEX      ND                             NOME_ND      NDSI  \\\n",
       "31    4º CGCFEX  339030                 MATERIAL DE CONSUMO  33903022   \n",
       "32    4º CGCFEX  339030                 MATERIAL DE CONSUMO  33903022   \n",
       "33    4º CGCFEX  339030                 MATERIAL DE CONSUMO  33903022   \n",
       "34    4º CGCFEX  339030                 MATERIAL DE CONSUMO  33903022   \n",
       "35    4º CGCFEX  339030                 MATERIAL DE CONSUMO  33903022   \n",
       "...         ...     ...                                 ...       ...   \n",
       "3006  4º CGCFEX  449052  EQUIPAMENTOS E MATERIAL PERMANENTE  44905241   \n",
       "3007  4º CGCFEX  449052  EQUIPAMENTOS E MATERIAL PERMANENTE  44905245   \n",
       "3008  4º CGCFEX  449052  EQUIPAMENTOS E MATERIAL PERMANENTE  44905241   \n",
       "3009  4º CGCFEX  339030                 MATERIAL DE CONSUMO  33903001   \n",
       "3010  4º CGCFEX  339030                 MATERIAL DE CONSUMO  33903096   \n",
       "\n",
       "                                        NOME_NDSI            NE           PI  \\\n",
       "31    MATERIAL DE LIMPEZA E PROD. DE HIGIENIZACAO  2023NE001136  I3DAFUNADOM   \n",
       "32    MATERIAL DE LIMPEZA E PROD. DE HIGIENIZACAO  2023NE000361  I3DAFUNADOM   \n",
       "33    MATERIAL DE LIMPEZA E PROD. DE HIGIENIZACAO  2023NE000737  I3DAFUNADOM   \n",
       "34    MATERIAL DE LIMPEZA E PROD. DE HIGIENIZACAO  2023NE000930  I3DAFUNADOM   \n",
       "35    MATERIAL DE LIMPEZA E PROD. DE HIGIENIZACAO  2023NE001137  I3DAFUNADOM   \n",
       "...                                           ...           ...          ...   \n",
       "3006           EQUIPAMENTOS DE TIC - COMPUTADORES  2023NE001046  E3PCFSCINFO   \n",
       "3007            EQUIPAMENTOS DE TIC - IMPRESSORAS  2023NE001044  E3PCFSCINFO   \n",
       "3008           EQUIPAMENTOS DE TIC - COMPUTADORES  2023NE000261  E3PCFSCINFO   \n",
       "3009     COMBUSTIVEIS E LUBRIFICANTES AUTOMOTIVOS  2023NE001035  E3PCFSCCOLU   \n",
       "3010       MATERIAL DE CONSUMO - PAGTO ANTECIPADO  2023NE001506  E3PCOPFCOLU   \n",
       "\n",
       "                           NOME_PI PROGRAMA   PTRES TIPO    TIPO_NE  \\\n",
       "31             ADMINISTRACAO DE OM     0032  171460  ANO  ORDINARIO   \n",
       "32             ADMINISTRACAO DE OM     0032  171460  ANO  ORDINARIO   \n",
       "33             ADMINISTRACAO DE OM     0032  171460  ANO  ORDINARIO   \n",
       "34             ADMINISTRACAO DE OM     0032  171460  ANO  ORDINARIO   \n",
       "35             ADMINISTRACAO DE OM     0032  171460  ANO  ORDINARIO   \n",
       "...                            ...      ...     ...  ...        ...   \n",
       "3006                   INFORMATICA     6012  215839  ANO  ORDINARIO   \n",
       "3007                   INFORMATICA     6012  215839  ANO  ORDINARIO   \n",
       "3008                   INFORMATICA     6012  215839  ANO  ORDINARIO   \n",
       "3009  COMBUSTIVEIS E LUBRIFICANTES     6012  215839  ANO  ORDINARIO   \n",
       "3010   COMBUSTIVEL E LUBRIFICANTES     6012  215839  ANO  ORDINARIO   \n",
       "\n",
       "                                                  LOCAL UF_CREDOR UF_UG  \\\n",
       "31    ESCOLA DE SARGENTOS DAS ARMAS  - AVENIDA SETE ...        MG    MG   \n",
       "32    ESCOLA DE SARGENTOS DAS ARMAS, AVENIDA SETE DE...        MG    MG   \n",
       "33    ESCOLA DE SARGENTOS DAS ARMAS  - AVENIDA SETE ...        MG    MG   \n",
       "34    ESCOLA DE SARGENTOS DAS ARMAS  - AVENIDA SETE ...        MG    MG   \n",
       "35    ESCOLA DE SARGENTOS DAS ARMAS  - AVENIDA SETE ...        MG    MG   \n",
       "...                                                 ...       ...   ...   \n",
       "3006  ESCOLA DE SARGENTOS DAS ARMAS, AVENIDA SETE DE...        MG    MG   \n",
       "3007  ESCOLA DE SARGENTOS DAS ARMAS  - AVENIDA SETE ...        MG    MG   \n",
       "3008  ESCOLA DE SARGENTOS DAS ARMAS  - AVENIDA SETE ...        BA    MG   \n",
       "3009  ESCOLA DE SARGENTOS DAS ARMAS  - AVENIDA SETE ...        MG    MG   \n",
       "3010  ESCOLA DE SARGENTOS DAS ARMAS  - AVENIDA SETE ...        MG    MG   \n",
       "\n",
       "         UGR       NOME_UGR RADPI4 MEIPI3 SUFPI4  A_LIQUIDAR  \\\n",
       "31    160073            DGO   I3DA    FUN   ADOM       450.0   \n",
       "32    160073            DGO   I3DA    FUN   ADOM         0.0   \n",
       "33    160073            DGO   I3DA    FUN   ADOM         0.0   \n",
       "34    160073            DGO   I3DA    FUN   ADOM         0.0   \n",
       "35    160073            DGO   I3DA    FUN   ADOM       541.0   \n",
       "...      ...            ...    ...    ...    ...         ...   \n",
       "3006  167504  COEX - GESTOR   E3PC    FSC   INFO         0.0   \n",
       "3007  167504  COEX - GESTOR   E3PC    FSC   INFO         0.0   \n",
       "3008  167504  COEX - GESTOR   E3PC    FSC   INFO         0.0   \n",
       "3009  167504  COEX - GESTOR   E3PC    FSC   COLU         0.0   \n",
       "3010  167504  COEX - GESTOR   E3PC    OPF   COLU         0.0   \n",
       "\n",
       "      LIQUIDADO_A_PAGAR  TOTAL_A_PAGAR    PAGO  \n",
       "31                  0.0          450.0     0.0  \n",
       "32                  0.0            0.0  2646.0  \n",
       "33                  0.0            0.0  4647.0  \n",
       "34                  0.0            0.0  2211.2  \n",
       "35                  0.0          541.0     0.0  \n",
       "...                 ...            ...     ...  \n",
       "3006                0.0            0.0   690.0  \n",
       "3007                0.0            0.0  1800.0  \n",
       "3008                0.0            0.0  7114.0  \n",
       "3009                0.0            0.0  2236.2  \n",
       "3010                0.0            0.0   675.0  \n",
       "\n",
       "[2694 rows x 34 columns]"
      ]
     },
     "execution_count": 30,
     "metadata": {},
     "output_type": "execute_result"
    }
   ],
   "source": [
    "ano_atual = str(datetime.now().year)\n",
    "\n",
    "\n",
    "df_corrente = df[df['ANO'] == ano_atual]\n",
    "df_corrente"
   ]
  },
  {
   "cell_type": "code",
   "execution_count": 31,
   "metadata": {},
   "outputs": [
    {
     "data": {
      "text/plain": [
       "array(['2022', '2023', '2021'], dtype=object)"
      ]
     },
     "execution_count": 31,
     "metadata": {},
     "output_type": "execute_result"
    }
   ],
   "source": [
    "df['ANO'].unique()"
   ]
  },
  {
   "cell_type": "markdown",
   "metadata": {},
   "source": [
    "# Pesquisas no DataFrame"
   ]
  },
  {
   "cell_type": "code",
   "execution_count": 32,
   "metadata": {},
   "outputs": [
    {
     "data": {
      "text/html": [
       "<div>\n",
       "<style scoped>\n",
       "    .dataframe tbody tr th:only-of-type {\n",
       "        vertical-align: middle;\n",
       "    }\n",
       "\n",
       "    .dataframe tbody tr th {\n",
       "        vertical-align: top;\n",
       "    }\n",
       "\n",
       "    .dataframe thead th {\n",
       "        text-align: right;\n",
       "    }\n",
       "</style>\n",
       "<table border=\"1\" class=\"dataframe\">\n",
       "  <thead>\n",
       "    <tr style=\"text-align: right;\">\n",
       "      <th></th>\n",
       "      <th>UG</th>\n",
       "      <th>SIGLA UG</th>\n",
       "      <th>ACAO</th>\n",
       "      <th>NOME_ACAO</th>\n",
       "      <th>ANO</th>\n",
       "      <th>CREDOR</th>\n",
       "      <th>NOME_CREDOR</th>\n",
       "      <th>DATA</th>\n",
       "      <th>DIAS</th>\n",
       "      <th>ICFEX</th>\n",
       "      <th>NOME_ICFEX</th>\n",
       "      <th>ND</th>\n",
       "      <th>NOME_ND</th>\n",
       "      <th>NDSI</th>\n",
       "      <th>NOME_NDSI</th>\n",
       "      <th>NE</th>\n",
       "      <th>PI</th>\n",
       "      <th>NOME_PI</th>\n",
       "      <th>PROGRAMA</th>\n",
       "      <th>PTRES</th>\n",
       "      <th>TIPO</th>\n",
       "      <th>TIPO_NE</th>\n",
       "      <th>LOCAL</th>\n",
       "      <th>UF_CREDOR</th>\n",
       "      <th>UF_UG</th>\n",
       "      <th>UGR</th>\n",
       "      <th>NOME_UGR</th>\n",
       "      <th>RADPI4</th>\n",
       "      <th>MEIPI3</th>\n",
       "      <th>SUFPI4</th>\n",
       "      <th>A_LIQUIDAR</th>\n",
       "      <th>LIQUIDADO_A_PAGAR</th>\n",
       "      <th>TOTAL_A_PAGAR</th>\n",
       "      <th>PAGO</th>\n",
       "    </tr>\n",
       "  </thead>\n",
       "  <tbody>\n",
       "    <tr>\n",
       "      <th>0</th>\n",
       "      <td>160129</td>\n",
       "      <td>ESA</td>\n",
       "      <td>2000</td>\n",
       "      <td>ADMINISTRACAO DA UNIDADE</td>\n",
       "      <td>2022</td>\n",
       "      <td>01590728000850</td>\n",
       "      <td>MICROTECNICA INFORMATICA LTDA</td>\n",
       "      <td>2022-11-03</td>\n",
       "      <td>329</td>\n",
       "      <td>160533</td>\n",
       "      <td>4º CGCFEX</td>\n",
       "      <td>449052</td>\n",
       "      <td>EQUIPAMENTOS E MATERIAL PERMANENTE</td>\n",
       "      <td>44905241</td>\n",
       "      <td>EQUIPAMENTOS DE TIC - COMPUTADORES</td>\n",
       "      <td>2022NE001245</td>\n",
       "      <td>I3FPPREDEGE</td>\n",
       "      <td>DESPESAS GERAIS DAS UGE - GESTÃO EME.</td>\n",
       "      <td>0032</td>\n",
       "      <td>171460</td>\n",
       "      <td>RPNP</td>\n",
       "      <td>ORDINARIO</td>\n",
       "      <td>ESCOLA DE SARGENTOS DAS ARMAS  - AVENIDA SETE ...</td>\n",
       "      <td>MG</td>\n",
       "      <td>MG</td>\n",
       "      <td>160073</td>\n",
       "      <td>DGO</td>\n",
       "      <td>I3FP</td>\n",
       "      <td>PRE</td>\n",
       "      <td>DEGE</td>\n",
       "      <td>0.00</td>\n",
       "      <td>0.0</td>\n",
       "      <td>0.00</td>\n",
       "      <td>14637.78</td>\n",
       "    </tr>\n",
       "    <tr>\n",
       "      <th>1</th>\n",
       "      <td>160129</td>\n",
       "      <td>ESA</td>\n",
       "      <td>2000</td>\n",
       "      <td>ADMINISTRACAO DA UNIDADE</td>\n",
       "      <td>2022</td>\n",
       "      <td>01590728000850</td>\n",
       "      <td>MICROTECNICA INFORMATICA LTDA</td>\n",
       "      <td>2022-12-05</td>\n",
       "      <td>297</td>\n",
       "      <td>160533</td>\n",
       "      <td>4º CGCFEX</td>\n",
       "      <td>449052</td>\n",
       "      <td>EQUIPAMENTOS E MATERIAL PERMANENTE</td>\n",
       "      <td>44905241</td>\n",
       "      <td>EQUIPAMENTOS DE TIC - COMPUTADORES</td>\n",
       "      <td>2022NE002430</td>\n",
       "      <td>IXAPFUNDGOA</td>\n",
       "      <td>ADMINISTRACAO DAS OM</td>\n",
       "      <td>0032</td>\n",
       "      <td>171502</td>\n",
       "      <td>RPNP</td>\n",
       "      <td>ORDINARIO</td>\n",
       "      <td>ESCOLA DE SARGENTOS DAS ARMAS</td>\n",
       "      <td>MG</td>\n",
       "      <td>MG</td>\n",
       "      <td>160507</td>\n",
       "      <td>EME-GESTOR</td>\n",
       "      <td>IXAP</td>\n",
       "      <td>FUN</td>\n",
       "      <td>DGOA</td>\n",
       "      <td>0.00</td>\n",
       "      <td>0.0</td>\n",
       "      <td>0.00</td>\n",
       "      <td>21956.67</td>\n",
       "    </tr>\n",
       "    <tr>\n",
       "      <th>2</th>\n",
       "      <td>160129</td>\n",
       "      <td>ESA</td>\n",
       "      <td>2000</td>\n",
       "      <td>ADMINISTRACAO DA UNIDADE</td>\n",
       "      <td>2022</td>\n",
       "      <td>05872523000141</td>\n",
       "      <td>AEF - MANUTENCAO EM EQUIPAMENTOS INDUSTRIAIS LTDA</td>\n",
       "      <td>2022-04-12</td>\n",
       "      <td>534</td>\n",
       "      <td>160533</td>\n",
       "      <td>4º CGCFEX</td>\n",
       "      <td>339039</td>\n",
       "      <td>OUTROS SERVICOS DE TERCEIROS - PESSOA JURIDICA</td>\n",
       "      <td>33903917</td>\n",
       "      <td>MANUT. E CONSERV. DE MAQUINAS E EQUIPAMENTOS</td>\n",
       "      <td>2022NE000344</td>\n",
       "      <td>I3DACNTMABM</td>\n",
       "      <td>MNT DE MÁQ E EQP ADMINISTRATIVOS</td>\n",
       "      <td>0032</td>\n",
       "      <td>171460</td>\n",
       "      <td>RPNP</td>\n",
       "      <td>GLOBAL</td>\n",
       "      <td>ESCOLA DE SARGENTOS DAS ARMAS</td>\n",
       "      <td>MG</td>\n",
       "      <td>MG</td>\n",
       "      <td>160073</td>\n",
       "      <td>DGO</td>\n",
       "      <td>I3DA</td>\n",
       "      <td>CNT</td>\n",
       "      <td>MABM</td>\n",
       "      <td>0.00</td>\n",
       "      <td>0.0</td>\n",
       "      <td>0.00</td>\n",
       "      <td>7480.83</td>\n",
       "    </tr>\n",
       "    <tr>\n",
       "      <th>3</th>\n",
       "      <td>160129</td>\n",
       "      <td>ESA</td>\n",
       "      <td>2000</td>\n",
       "      <td>ADMINISTRACAO DA UNIDADE</td>\n",
       "      <td>2022</td>\n",
       "      <td>05872523000141</td>\n",
       "      <td>AEF - MANUTENCAO EM EQUIPAMENTOS INDUSTRIAIS LTDA</td>\n",
       "      <td>2022-06-09</td>\n",
       "      <td>476</td>\n",
       "      <td>160533</td>\n",
       "      <td>4º CGCFEX</td>\n",
       "      <td>339039</td>\n",
       "      <td>OUTROS SERVICOS DE TERCEIROS - PESSOA JURIDICA</td>\n",
       "      <td>33903917</td>\n",
       "      <td>MANUT. E CONSERV. DE MAQUINAS E EQUIPAMENTOS</td>\n",
       "      <td>2022NE000601</td>\n",
       "      <td>I3DACNTMABM</td>\n",
       "      <td>MNT DE MÁQ E EQP ADMINISTRATIVOS</td>\n",
       "      <td>0032</td>\n",
       "      <td>171460</td>\n",
       "      <td>RPP</td>\n",
       "      <td>GLOBAL</td>\n",
       "      <td>ESCOLA DE SARGENTOS DAS ARMAS</td>\n",
       "      <td>MG</td>\n",
       "      <td>MG</td>\n",
       "      <td>160073</td>\n",
       "      <td>DGO</td>\n",
       "      <td>I3DA</td>\n",
       "      <td>CNT</td>\n",
       "      <td>MABM</td>\n",
       "      <td>0.00</td>\n",
       "      <td>0.0</td>\n",
       "      <td>0.00</td>\n",
       "      <td>6780.83</td>\n",
       "    </tr>\n",
       "    <tr>\n",
       "      <th>4</th>\n",
       "      <td>160129</td>\n",
       "      <td>ESA</td>\n",
       "      <td>2000</td>\n",
       "      <td>ADMINISTRACAO DA UNIDADE</td>\n",
       "      <td>2022</td>\n",
       "      <td>05872523000141</td>\n",
       "      <td>AEF - MANUTENCAO EM EQUIPAMENTOS INDUSTRIAIS LTDA</td>\n",
       "      <td>2022-10-27</td>\n",
       "      <td>336</td>\n",
       "      <td>160533</td>\n",
       "      <td>4º CGCFEX</td>\n",
       "      <td>339039</td>\n",
       "      <td>OUTROS SERVICOS DE TERCEIROS - PESSOA JURIDICA</td>\n",
       "      <td>33903917</td>\n",
       "      <td>MANUT. E CONSERV. DE MAQUINAS E EQUIPAMENTOS</td>\n",
       "      <td>2022NE001220</td>\n",
       "      <td>I3DACNTMABM</td>\n",
       "      <td>MNT DE MÁQ E EQP ADMINISTRATIVOS</td>\n",
       "      <td>0032</td>\n",
       "      <td>203677</td>\n",
       "      <td>RPNP</td>\n",
       "      <td>GLOBAL</td>\n",
       "      <td>ESCOLA DE SARGENTOS DAS ARMAS</td>\n",
       "      <td>MG</td>\n",
       "      <td>MG</td>\n",
       "      <td>160073</td>\n",
       "      <td>DGO</td>\n",
       "      <td>I3DA</td>\n",
       "      <td>CNT</td>\n",
       "      <td>MABM</td>\n",
       "      <td>0.00</td>\n",
       "      <td>0.0</td>\n",
       "      <td>0.00</td>\n",
       "      <td>3238.56</td>\n",
       "    </tr>\n",
       "    <tr>\n",
       "      <th>5</th>\n",
       "      <td>160129</td>\n",
       "      <td>ESA</td>\n",
       "      <td>2000</td>\n",
       "      <td>ADMINISTRACAO DA UNIDADE</td>\n",
       "      <td>2022</td>\n",
       "      <td>05872523000141</td>\n",
       "      <td>AEF - MANUTENCAO EM EQUIPAMENTOS INDUSTRIAIS LTDA</td>\n",
       "      <td>2022-10-27</td>\n",
       "      <td>336</td>\n",
       "      <td>160533</td>\n",
       "      <td>4º CGCFEX</td>\n",
       "      <td>339039</td>\n",
       "      <td>OUTROS SERVICOS DE TERCEIROS - PESSOA JURIDICA</td>\n",
       "      <td>33903917</td>\n",
       "      <td>MANUT. E CONSERV. DE MAQUINAS E EQUIPAMENTOS</td>\n",
       "      <td>2022NE001220</td>\n",
       "      <td>I3DACNTMABM</td>\n",
       "      <td>MNT DE MÁQ E EQP ADMINISTRATIVOS</td>\n",
       "      <td>0032</td>\n",
       "      <td>203677</td>\n",
       "      <td>RPP</td>\n",
       "      <td>GLOBAL</td>\n",
       "      <td>ESCOLA DE SARGENTOS DAS ARMAS</td>\n",
       "      <td>MG</td>\n",
       "      <td>MG</td>\n",
       "      <td>160073</td>\n",
       "      <td>DGO</td>\n",
       "      <td>I3DA</td>\n",
       "      <td>CNT</td>\n",
       "      <td>MABM</td>\n",
       "      <td>0.00</td>\n",
       "      <td>0.0</td>\n",
       "      <td>0.00</td>\n",
       "      <td>700.00</td>\n",
       "    </tr>\n",
       "    <tr>\n",
       "      <th>6</th>\n",
       "      <td>160129</td>\n",
       "      <td>ESA</td>\n",
       "      <td>2000</td>\n",
       "      <td>ADMINISTRACAO DA UNIDADE</td>\n",
       "      <td>2022</td>\n",
       "      <td>05872523000141</td>\n",
       "      <td>AEF - MANUTENCAO EM EQUIPAMENTOS INDUSTRIAIS LTDA</td>\n",
       "      <td>2022-12-29</td>\n",
       "      <td>273</td>\n",
       "      <td>160533</td>\n",
       "      <td>4º CGCFEX</td>\n",
       "      <td>339039</td>\n",
       "      <td>OUTROS SERVICOS DE TERCEIROS - PESSOA JURIDICA</td>\n",
       "      <td>33903917</td>\n",
       "      <td>MANUT. E CONSERV. DE MAQUINAS E EQUIPAMENTOS</td>\n",
       "      <td>2022NE002723</td>\n",
       "      <td>I3DACNTMABM</td>\n",
       "      <td>MNT DE MÁQ E EQP ADMINISTRATIVOS</td>\n",
       "      <td>0032</td>\n",
       "      <td>171460</td>\n",
       "      <td>RPNP</td>\n",
       "      <td>GLOBAL</td>\n",
       "      <td>ESCOLA DE SARGENTOS DAS ARMAS</td>\n",
       "      <td>MG</td>\n",
       "      <td>MG</td>\n",
       "      <td>160073</td>\n",
       "      <td>DGO</td>\n",
       "      <td>I3DA</td>\n",
       "      <td>CNT</td>\n",
       "      <td>MABM</td>\n",
       "      <td>809.64</td>\n",
       "      <td>0.0</td>\n",
       "      <td>809.64</td>\n",
       "      <td>39023.43</td>\n",
       "    </tr>\n",
       "    <tr>\n",
       "      <th>7</th>\n",
       "      <td>160129</td>\n",
       "      <td>ESA</td>\n",
       "      <td>2000</td>\n",
       "      <td>ADMINISTRACAO DA UNIDADE</td>\n",
       "      <td>2022</td>\n",
       "      <td>06981180000116</td>\n",
       "      <td>CEMIG DISTRIBUICAO S.A</td>\n",
       "      <td>2022-06-14</td>\n",
       "      <td>471</td>\n",
       "      <td>160533</td>\n",
       "      <td>4º CGCFEX</td>\n",
       "      <td>339039</td>\n",
       "      <td>OUTROS SERVICOS DE TERCEIROS - PESSOA JURIDICA</td>\n",
       "      <td>33903943</td>\n",
       "      <td>SERVICOS DE ENERGIA ELETRICA</td>\n",
       "      <td>2022NE000619</td>\n",
       "      <td>I3DACSPENEL</td>\n",
       "      <td>DESPESAS COM ENERGIA ELETRICA</td>\n",
       "      <td>0032</td>\n",
       "      <td>203677</td>\n",
       "      <td>RPNP</td>\n",
       "      <td>ESTIMATIVO</td>\n",
       "      <td>0</td>\n",
       "      <td>MG</td>\n",
       "      <td>MG</td>\n",
       "      <td>160073</td>\n",
       "      <td>DGO</td>\n",
       "      <td>I3DA</td>\n",
       "      <td>CSP</td>\n",
       "      <td>ENEL</td>\n",
       "      <td>0.00</td>\n",
       "      <td>0.0</td>\n",
       "      <td>0.00</td>\n",
       "      <td>254563.30</td>\n",
       "    </tr>\n",
       "    <tr>\n",
       "      <th>8</th>\n",
       "      <td>160129</td>\n",
       "      <td>ESA</td>\n",
       "      <td>2000</td>\n",
       "      <td>ADMINISTRACAO DA UNIDADE</td>\n",
       "      <td>2022</td>\n",
       "      <td>09583781000169</td>\n",
       "      <td>2 CLICK SOLUCOES LTDA</td>\n",
       "      <td>2022-11-11</td>\n",
       "      <td>321</td>\n",
       "      <td>160533</td>\n",
       "      <td>4º CGCFEX</td>\n",
       "      <td>339030</td>\n",
       "      <td>MATERIAL DE CONSUMO</td>\n",
       "      <td>33903022</td>\n",
       "      <td>MATERIAL DE LIMPEZA E PROD. DE HIGIENIZACAO</td>\n",
       "      <td>2022NE001692</td>\n",
       "      <td>I3DAFUNADOM</td>\n",
       "      <td>ADMINISTRACAO DE OM</td>\n",
       "      <td>0032</td>\n",
       "      <td>171460</td>\n",
       "      <td>RPNP</td>\n",
       "      <td>ORDINARIO</td>\n",
       "      <td>ESCOLA DE SARGENTOS DAS ARMAS  - AVENIDA SETE ...</td>\n",
       "      <td>GO</td>\n",
       "      <td>MG</td>\n",
       "      <td>160073</td>\n",
       "      <td>DGO</td>\n",
       "      <td>I3DA</td>\n",
       "      <td>FUN</td>\n",
       "      <td>ADOM</td>\n",
       "      <td>0.00</td>\n",
       "      <td>0.0</td>\n",
       "      <td>0.00</td>\n",
       "      <td>1152.92</td>\n",
       "    </tr>\n",
       "    <tr>\n",
       "      <th>9</th>\n",
       "      <td>160129</td>\n",
       "      <td>ESA</td>\n",
       "      <td>2000</td>\n",
       "      <td>ADMINISTRACAO DA UNIDADE</td>\n",
       "      <td>2022</td>\n",
       "      <td>12742245000173</td>\n",
       "      <td>UNISERVE COMERCIO E SERVICOS TERCEIRIZADOS LTDA</td>\n",
       "      <td>2022-06-09</td>\n",
       "      <td>476</td>\n",
       "      <td>160533</td>\n",
       "      <td>4º CGCFEX</td>\n",
       "      <td>339037</td>\n",
       "      <td>LOCACAO DE MAO-DE-OBRA</td>\n",
       "      <td>33903702</td>\n",
       "      <td>LIMPEZA E CONSERVACAO</td>\n",
       "      <td>2022NE000602</td>\n",
       "      <td>I3DACNTLICO</td>\n",
       "      <td>LIMPEZA DE BENS IMÓVEIS</td>\n",
       "      <td>0032</td>\n",
       "      <td>171460</td>\n",
       "      <td>RPNP</td>\n",
       "      <td>GLOBAL</td>\n",
       "      <td>ESCOLA DE SARGENTOS DAS ARMAS</td>\n",
       "      <td>DF</td>\n",
       "      <td>MG</td>\n",
       "      <td>160073</td>\n",
       "      <td>DGO</td>\n",
       "      <td>I3DA</td>\n",
       "      <td>CNT</td>\n",
       "      <td>LICO</td>\n",
       "      <td>0.00</td>\n",
       "      <td>0.0</td>\n",
       "      <td>0.00</td>\n",
       "      <td>41631.13</td>\n",
       "    </tr>\n",
       "  </tbody>\n",
       "</table>\n",
       "</div>"
      ],
      "text/plain": [
       "       UG SIGLA UG  ACAO                 NOME_ACAO   ANO          CREDOR  \\\n",
       "0  160129      ESA  2000  ADMINISTRACAO DA UNIDADE  2022  01590728000850   \n",
       "1  160129      ESA  2000  ADMINISTRACAO DA UNIDADE  2022  01590728000850   \n",
       "2  160129      ESA  2000  ADMINISTRACAO DA UNIDADE  2022  05872523000141   \n",
       "3  160129      ESA  2000  ADMINISTRACAO DA UNIDADE  2022  05872523000141   \n",
       "4  160129      ESA  2000  ADMINISTRACAO DA UNIDADE  2022  05872523000141   \n",
       "5  160129      ESA  2000  ADMINISTRACAO DA UNIDADE  2022  05872523000141   \n",
       "6  160129      ESA  2000  ADMINISTRACAO DA UNIDADE  2022  05872523000141   \n",
       "7  160129      ESA  2000  ADMINISTRACAO DA UNIDADE  2022  06981180000116   \n",
       "8  160129      ESA  2000  ADMINISTRACAO DA UNIDADE  2022  09583781000169   \n",
       "9  160129      ESA  2000  ADMINISTRACAO DA UNIDADE  2022  12742245000173   \n",
       "\n",
       "                                         NOME_CREDOR       DATA  DIAS   ICFEX  \\\n",
       "0                      MICROTECNICA INFORMATICA LTDA 2022-11-03   329  160533   \n",
       "1                      MICROTECNICA INFORMATICA LTDA 2022-12-05   297  160533   \n",
       "2  AEF - MANUTENCAO EM EQUIPAMENTOS INDUSTRIAIS LTDA 2022-04-12   534  160533   \n",
       "3  AEF - MANUTENCAO EM EQUIPAMENTOS INDUSTRIAIS LTDA 2022-06-09   476  160533   \n",
       "4  AEF - MANUTENCAO EM EQUIPAMENTOS INDUSTRIAIS LTDA 2022-10-27   336  160533   \n",
       "5  AEF - MANUTENCAO EM EQUIPAMENTOS INDUSTRIAIS LTDA 2022-10-27   336  160533   \n",
       "6  AEF - MANUTENCAO EM EQUIPAMENTOS INDUSTRIAIS LTDA 2022-12-29   273  160533   \n",
       "7                             CEMIG DISTRIBUICAO S.A 2022-06-14   471  160533   \n",
       "8                              2 CLICK SOLUCOES LTDA 2022-11-11   321  160533   \n",
       "9    UNISERVE COMERCIO E SERVICOS TERCEIRIZADOS LTDA 2022-06-09   476  160533   \n",
       "\n",
       "  NOME_ICFEX      ND                                         NOME_ND  \\\n",
       "0  4º CGCFEX  449052              EQUIPAMENTOS E MATERIAL PERMANENTE   \n",
       "1  4º CGCFEX  449052              EQUIPAMENTOS E MATERIAL PERMANENTE   \n",
       "2  4º CGCFEX  339039  OUTROS SERVICOS DE TERCEIROS - PESSOA JURIDICA   \n",
       "3  4º CGCFEX  339039  OUTROS SERVICOS DE TERCEIROS - PESSOA JURIDICA   \n",
       "4  4º CGCFEX  339039  OUTROS SERVICOS DE TERCEIROS - PESSOA JURIDICA   \n",
       "5  4º CGCFEX  339039  OUTROS SERVICOS DE TERCEIROS - PESSOA JURIDICA   \n",
       "6  4º CGCFEX  339039  OUTROS SERVICOS DE TERCEIROS - PESSOA JURIDICA   \n",
       "7  4º CGCFEX  339039  OUTROS SERVICOS DE TERCEIROS - PESSOA JURIDICA   \n",
       "8  4º CGCFEX  339030                             MATERIAL DE CONSUMO   \n",
       "9  4º CGCFEX  339037                          LOCACAO DE MAO-DE-OBRA   \n",
       "\n",
       "       NDSI                                     NOME_NDSI            NE  \\\n",
       "0  44905241            EQUIPAMENTOS DE TIC - COMPUTADORES  2022NE001245   \n",
       "1  44905241            EQUIPAMENTOS DE TIC - COMPUTADORES  2022NE002430   \n",
       "2  33903917  MANUT. E CONSERV. DE MAQUINAS E EQUIPAMENTOS  2022NE000344   \n",
       "3  33903917  MANUT. E CONSERV. DE MAQUINAS E EQUIPAMENTOS  2022NE000601   \n",
       "4  33903917  MANUT. E CONSERV. DE MAQUINAS E EQUIPAMENTOS  2022NE001220   \n",
       "5  33903917  MANUT. E CONSERV. DE MAQUINAS E EQUIPAMENTOS  2022NE001220   \n",
       "6  33903917  MANUT. E CONSERV. DE MAQUINAS E EQUIPAMENTOS  2022NE002723   \n",
       "7  33903943                  SERVICOS DE ENERGIA ELETRICA  2022NE000619   \n",
       "8  33903022   MATERIAL DE LIMPEZA E PROD. DE HIGIENIZACAO  2022NE001692   \n",
       "9  33903702                         LIMPEZA E CONSERVACAO  2022NE000602   \n",
       "\n",
       "            PI                                NOME_PI PROGRAMA   PTRES  TIPO  \\\n",
       "0  I3FPPREDEGE  DESPESAS GERAIS DAS UGE - GESTÃO EME.     0032  171460  RPNP   \n",
       "1  IXAPFUNDGOA                   ADMINISTRACAO DAS OM     0032  171502  RPNP   \n",
       "2  I3DACNTMABM       MNT DE MÁQ E EQP ADMINISTRATIVOS     0032  171460  RPNP   \n",
       "3  I3DACNTMABM       MNT DE MÁQ E EQP ADMINISTRATIVOS     0032  171460   RPP   \n",
       "4  I3DACNTMABM       MNT DE MÁQ E EQP ADMINISTRATIVOS     0032  203677  RPNP   \n",
       "5  I3DACNTMABM       MNT DE MÁQ E EQP ADMINISTRATIVOS     0032  203677   RPP   \n",
       "6  I3DACNTMABM       MNT DE MÁQ E EQP ADMINISTRATIVOS     0032  171460  RPNP   \n",
       "7  I3DACSPENEL          DESPESAS COM ENERGIA ELETRICA     0032  203677  RPNP   \n",
       "8  I3DAFUNADOM                    ADMINISTRACAO DE OM     0032  171460  RPNP   \n",
       "9  I3DACNTLICO                LIMPEZA DE BENS IMÓVEIS     0032  171460  RPNP   \n",
       "\n",
       "      TIPO_NE                                              LOCAL UF_CREDOR  \\\n",
       "0   ORDINARIO  ESCOLA DE SARGENTOS DAS ARMAS  - AVENIDA SETE ...        MG   \n",
       "1   ORDINARIO                      ESCOLA DE SARGENTOS DAS ARMAS        MG   \n",
       "2      GLOBAL                      ESCOLA DE SARGENTOS DAS ARMAS        MG   \n",
       "3      GLOBAL                      ESCOLA DE SARGENTOS DAS ARMAS        MG   \n",
       "4      GLOBAL                      ESCOLA DE SARGENTOS DAS ARMAS        MG   \n",
       "5      GLOBAL                      ESCOLA DE SARGENTOS DAS ARMAS        MG   \n",
       "6      GLOBAL                      ESCOLA DE SARGENTOS DAS ARMAS        MG   \n",
       "7  ESTIMATIVO                                                  0        MG   \n",
       "8   ORDINARIO  ESCOLA DE SARGENTOS DAS ARMAS  - AVENIDA SETE ...        GO   \n",
       "9      GLOBAL                      ESCOLA DE SARGENTOS DAS ARMAS        DF   \n",
       "\n",
       "  UF_UG     UGR    NOME_UGR RADPI4 MEIPI3 SUFPI4  A_LIQUIDAR  \\\n",
       "0    MG  160073         DGO   I3FP    PRE   DEGE        0.00   \n",
       "1    MG  160507  EME-GESTOR   IXAP    FUN   DGOA        0.00   \n",
       "2    MG  160073         DGO   I3DA    CNT   MABM        0.00   \n",
       "3    MG  160073         DGO   I3DA    CNT   MABM        0.00   \n",
       "4    MG  160073         DGO   I3DA    CNT   MABM        0.00   \n",
       "5    MG  160073         DGO   I3DA    CNT   MABM        0.00   \n",
       "6    MG  160073         DGO   I3DA    CNT   MABM      809.64   \n",
       "7    MG  160073         DGO   I3DA    CSP   ENEL        0.00   \n",
       "8    MG  160073         DGO   I3DA    FUN   ADOM        0.00   \n",
       "9    MG  160073         DGO   I3DA    CNT   LICO        0.00   \n",
       "\n",
       "   LIQUIDADO_A_PAGAR  TOTAL_A_PAGAR       PAGO  \n",
       "0                0.0           0.00   14637.78  \n",
       "1                0.0           0.00   21956.67  \n",
       "2                0.0           0.00    7480.83  \n",
       "3                0.0           0.00    6780.83  \n",
       "4                0.0           0.00    3238.56  \n",
       "5                0.0           0.00     700.00  \n",
       "6                0.0         809.64   39023.43  \n",
       "7                0.0           0.00  254563.30  \n",
       "8                0.0           0.00    1152.92  \n",
       "9                0.0           0.00   41631.13  "
      ]
     },
     "execution_count": 32,
     "metadata": {},
     "output_type": "execute_result"
    }
   ],
   "source": [
    "# Criando um DataFrame para testes \n",
    "df_teste = df.copy()\n",
    "\n",
    "df_teste.head(10)"
   ]
  },
  {
   "cell_type": "code",
   "execution_count": 33,
   "metadata": {},
   "outputs": [
    {
     "data": {
      "text/html": [
       "<div>\n",
       "<style scoped>\n",
       "    .dataframe tbody tr th:only-of-type {\n",
       "        vertical-align: middle;\n",
       "    }\n",
       "\n",
       "    .dataframe tbody tr th {\n",
       "        vertical-align: top;\n",
       "    }\n",
       "\n",
       "    .dataframe thead th {\n",
       "        text-align: right;\n",
       "    }\n",
       "</style>\n",
       "<table border=\"1\" class=\"dataframe\">\n",
       "  <thead>\n",
       "    <tr style=\"text-align: right;\">\n",
       "      <th></th>\n",
       "      <th>NOME_NDSI</th>\n",
       "      <th>A_LIQUIDAR</th>\n",
       "    </tr>\n",
       "  </thead>\n",
       "  <tbody>\n",
       "    <tr>\n",
       "      <th>0</th>\n",
       "      <td>MANUTENCAO E CONSERV. DE BENS IMOVEIS</td>\n",
       "      <td>872557.73</td>\n",
       "    </tr>\n",
       "    <tr>\n",
       "      <th>1</th>\n",
       "      <td>SERVICOS DE ENERGIA ELETRICA</td>\n",
       "      <td>737421.19</td>\n",
       "    </tr>\n",
       "    <tr>\n",
       "      <th>2</th>\n",
       "      <td>GENEROS DE ALIMENTACAO</td>\n",
       "      <td>686598.41</td>\n",
       "    </tr>\n",
       "    <tr>\n",
       "      <th>3</th>\n",
       "      <td>SERV.MEDICO-HOSPITAL.,ODONTOL.E LABORATORIAIS</td>\n",
       "      <td>518085.54</td>\n",
       "    </tr>\n",
       "    <tr>\n",
       "      <th>4</th>\n",
       "      <td>DIARIAS NO PAIS</td>\n",
       "      <td>344601.14</td>\n",
       "    </tr>\n",
       "    <tr>\n",
       "      <th>5</th>\n",
       "      <td>MUDANCAS EM OBJETO DE SERVICO</td>\n",
       "      <td>285868.00</td>\n",
       "    </tr>\n",
       "    <tr>\n",
       "      <th>6</th>\n",
       "      <td>SERVICOS GRAFICOS E EDITORIAIS</td>\n",
       "      <td>259826.32</td>\n",
       "    </tr>\n",
       "    <tr>\n",
       "      <th>7</th>\n",
       "      <td>LIMPEZA E CONSERVACAO</td>\n",
       "      <td>256692.09</td>\n",
       "    </tr>\n",
       "    <tr>\n",
       "      <th>8</th>\n",
       "      <td>OUTSOURCING DE IMPRESSAO</td>\n",
       "      <td>204618.28</td>\n",
       "    </tr>\n",
       "    <tr>\n",
       "      <th>9</th>\n",
       "      <td>ALIMENTOS PARA ANIMAIS</td>\n",
       "      <td>199424.38</td>\n",
       "    </tr>\n",
       "  </tbody>\n",
       "</table>\n",
       "</div>"
      ],
      "text/plain": [
       "                                       NOME_NDSI  A_LIQUIDAR\n",
       "0          MANUTENCAO E CONSERV. DE BENS IMOVEIS   872557.73\n",
       "1                   SERVICOS DE ENERGIA ELETRICA   737421.19\n",
       "2                         GENEROS DE ALIMENTACAO   686598.41\n",
       "3  SERV.MEDICO-HOSPITAL.,ODONTOL.E LABORATORIAIS   518085.54\n",
       "4                                DIARIAS NO PAIS   344601.14\n",
       "5                  MUDANCAS EM OBJETO DE SERVICO   285868.00\n",
       "6                 SERVICOS GRAFICOS E EDITORIAIS   259826.32\n",
       "7                          LIMPEZA E CONSERVACAO   256692.09\n",
       "8                       OUTSOURCING DE IMPRESSAO   204618.28\n",
       "9                         ALIMENTOS PARA ANIMAIS   199424.38"
      ]
     },
     "execution_count": 33,
     "metadata": {},
     "output_type": "execute_result"
    }
   ],
   "source": [
    "cols = ['NOME_NDSI', 'A_LIQUIDAR']\n",
    "\n",
    "df_aux = df_teste.loc[:,cols].groupby(by='NOME_NDSI').sum().sort_values(by='A_LIQUIDAR', ascending=False).reset_index()\n",
    "\n",
    "\n",
    "df_aux.head(10)"
   ]
  },
  {
   "cell_type": "markdown",
   "metadata": {},
   "source": [
    "## Empenhos com mais de 100 dias"
   ]
  },
  {
   "cell_type": "markdown",
   "metadata": {},
   "source": [
    "### Empenhos da ND 30"
   ]
  },
  {
   "cell_type": "code",
   "execution_count": 34,
   "metadata": {},
   "outputs": [],
   "source": [
    "# Empenhos da ND 30 com prazo de entrega superior a 100 dias\n",
    "\n",
    "df_nd30_100dias = df_teste[(df_teste['A_LIQUIDAR'] != 0) & (df_teste['ND'] == '339030') & (df_teste['DIAS'] > 100) & (df_teste['TIPO_NE'] == 'ORDINARIO') ].sort_values(by='DIAS', ascending=False).reset_index(drop=True)\n",
    "\n",
    "df_nd30_100dias.sort_values(by='A_LIQUIDAR', ascending=False).reset_index(drop=True)\n",
    "\n",
    "df_nd30_100dias.to_excel('nd30_PA.xlsx')"
   ]
  },
  {
   "cell_type": "markdown",
   "metadata": {},
   "source": [
    "### Empenhos ND 52"
   ]
  },
  {
   "cell_type": "code",
   "execution_count": 35,
   "metadata": {},
   "outputs": [],
   "source": [
    "df_nd52_100dias = df_teste[(df_teste['A_LIQUIDAR'] != 0) & (df_teste['ND'] == '449052') & (df_teste['DIAS'] > 50) ].sort_values(by='DIAS', ascending=False).reset_index(drop=True)\n",
    "\n",
    "df_nd52_100dias.reset_index(drop=True)\n",
    "\n",
    "df_nd52_100dias.to_excel('nd52_PA.xlsx')"
   ]
  },
  {
   "cell_type": "markdown",
   "metadata": {},
   "source": [
    "### Recursos Liquidados a pagar"
   ]
  },
  {
   "cell_type": "code",
   "execution_count": 36,
   "metadata": {},
   "outputs": [
    {
     "data": {
      "text/html": [
       "<div>\n",
       "<style scoped>\n",
       "    .dataframe tbody tr th:only-of-type {\n",
       "        vertical-align: middle;\n",
       "    }\n",
       "\n",
       "    .dataframe tbody tr th {\n",
       "        vertical-align: top;\n",
       "    }\n",
       "\n",
       "    .dataframe thead th {\n",
       "        text-align: right;\n",
       "    }\n",
       "</style>\n",
       "<table border=\"1\" class=\"dataframe\">\n",
       "  <thead>\n",
       "    <tr style=\"text-align: right;\">\n",
       "      <th></th>\n",
       "      <th>UG</th>\n",
       "      <th>SIGLA UG</th>\n",
       "      <th>ACAO</th>\n",
       "      <th>NOME_ACAO</th>\n",
       "      <th>ANO</th>\n",
       "      <th>CREDOR</th>\n",
       "      <th>NOME_CREDOR</th>\n",
       "      <th>DATA</th>\n",
       "      <th>DIAS</th>\n",
       "      <th>ICFEX</th>\n",
       "      <th>NOME_ICFEX</th>\n",
       "      <th>ND</th>\n",
       "      <th>NOME_ND</th>\n",
       "      <th>NDSI</th>\n",
       "      <th>NOME_NDSI</th>\n",
       "      <th>NE</th>\n",
       "      <th>PI</th>\n",
       "      <th>NOME_PI</th>\n",
       "      <th>PROGRAMA</th>\n",
       "      <th>PTRES</th>\n",
       "      <th>TIPO</th>\n",
       "      <th>TIPO_NE</th>\n",
       "      <th>LOCAL</th>\n",
       "      <th>UF_CREDOR</th>\n",
       "      <th>UF_UG</th>\n",
       "      <th>UGR</th>\n",
       "      <th>NOME_UGR</th>\n",
       "      <th>RADPI4</th>\n",
       "      <th>MEIPI3</th>\n",
       "      <th>SUFPI4</th>\n",
       "      <th>A_LIQUIDAR</th>\n",
       "      <th>LIQUIDADO_A_PAGAR</th>\n",
       "      <th>TOTAL_A_PAGAR</th>\n",
       "      <th>PAGO</th>\n",
       "    </tr>\n",
       "  </thead>\n",
       "  <tbody>\n",
       "    <tr>\n",
       "      <th>0</th>\n",
       "      <td>167129</td>\n",
       "      <td>ESA</td>\n",
       "      <td>2004</td>\n",
       "      <td>ASSISTENCIA MEDICA E ODONTOLOGICA AOS</td>\n",
       "      <td>2023</td>\n",
       "      <td>05741540000140</td>\n",
       "      <td>ONCOMINAS ONCOLOGIA CLINICA LTDA</td>\n",
       "      <td>2023-08-29</td>\n",
       "      <td>30</td>\n",
       "      <td>160533</td>\n",
       "      <td>4º CGCFEX</td>\n",
       "      <td>339039</td>\n",
       "      <td>OUTROS SERVICOS DE TERCEIROS - PESSOA JURIDICA</td>\n",
       "      <td>33903950</td>\n",
       "      <td>SERV.MEDICO-HOSPITAL.,ODONTOL.E LABORATORIAIS</td>\n",
       "      <td>2023NE001460</td>\n",
       "      <td>D8SAFUSOCSA</td>\n",
       "      <td>ORGANIZACAO CIVIL DE SAUDE</td>\n",
       "      <td>0032</td>\n",
       "      <td>215845</td>\n",
       "      <td>ANO</td>\n",
       "      <td>ESTIMATIVO</td>\n",
       "      <td>CLINICA/CONSULTÓRIO/HOSPITAL</td>\n",
       "      <td>MG</td>\n",
       "      <td>MG</td>\n",
       "      <td>167505</td>\n",
       "      <td>DGP</td>\n",
       "      <td>D8SA</td>\n",
       "      <td>FUS</td>\n",
       "      <td>OCSA</td>\n",
       "      <td>0.0</td>\n",
       "      <td>144088.36</td>\n",
       "      <td>144088.36</td>\n",
       "      <td>0.0</td>\n",
       "    </tr>\n",
       "    <tr>\n",
       "      <th>1</th>\n",
       "      <td>167129</td>\n",
       "      <td>ESA</td>\n",
       "      <td>2004</td>\n",
       "      <td>ASSISTENCIA MEDICA E ODONTOLOGICA AOS</td>\n",
       "      <td>2023</td>\n",
       "      <td>42855999000362</td>\n",
       "      <td>UNIMED TRES CORACOES COOPERATIVA DE TRAB MEDIC...</td>\n",
       "      <td>2023-08-28</td>\n",
       "      <td>31</td>\n",
       "      <td>160533</td>\n",
       "      <td>4º CGCFEX</td>\n",
       "      <td>339039</td>\n",
       "      <td>OUTROS SERVICOS DE TERCEIROS - PESSOA JURIDICA</td>\n",
       "      <td>33903950</td>\n",
       "      <td>SERV.MEDICO-HOSPITAL.,ODONTOL.E LABORATORIAIS</td>\n",
       "      <td>2023NE001422</td>\n",
       "      <td>D8SAFUSOCSA</td>\n",
       "      <td>ORGANIZACAO CIVIL DE SAUDE</td>\n",
       "      <td>0032</td>\n",
       "      <td>215845</td>\n",
       "      <td>ANO</td>\n",
       "      <td>ESTIMATIVO</td>\n",
       "      <td>CLINICA/CONSULTÓRIO/HOSPITAL</td>\n",
       "      <td>MG</td>\n",
       "      <td>MG</td>\n",
       "      <td>167505</td>\n",
       "      <td>DGP</td>\n",
       "      <td>D8SA</td>\n",
       "      <td>FUS</td>\n",
       "      <td>OCSA</td>\n",
       "      <td>0.0</td>\n",
       "      <td>42863.15</td>\n",
       "      <td>42863.15</td>\n",
       "      <td>0.0</td>\n",
       "    </tr>\n",
       "  </tbody>\n",
       "</table>\n",
       "</div>"
      ],
      "text/plain": [
       "       UG SIGLA UG  ACAO                              NOME_ACAO   ANO  \\\n",
       "0  167129      ESA  2004  ASSISTENCIA MEDICA E ODONTOLOGICA AOS  2023   \n",
       "1  167129      ESA  2004  ASSISTENCIA MEDICA E ODONTOLOGICA AOS  2023   \n",
       "\n",
       "           CREDOR                                        NOME_CREDOR  \\\n",
       "0  05741540000140                   ONCOMINAS ONCOLOGIA CLINICA LTDA   \n",
       "1  42855999000362  UNIMED TRES CORACOES COOPERATIVA DE TRAB MEDIC...   \n",
       "\n",
       "        DATA  DIAS   ICFEX NOME_ICFEX      ND  \\\n",
       "0 2023-08-29    30  160533  4º CGCFEX  339039   \n",
       "1 2023-08-28    31  160533  4º CGCFEX  339039   \n",
       "\n",
       "                                          NOME_ND      NDSI  \\\n",
       "0  OUTROS SERVICOS DE TERCEIROS - PESSOA JURIDICA  33903950   \n",
       "1  OUTROS SERVICOS DE TERCEIROS - PESSOA JURIDICA  33903950   \n",
       "\n",
       "                                       NOME_NDSI            NE           PI  \\\n",
       "0  SERV.MEDICO-HOSPITAL.,ODONTOL.E LABORATORIAIS  2023NE001460  D8SAFUSOCSA   \n",
       "1  SERV.MEDICO-HOSPITAL.,ODONTOL.E LABORATORIAIS  2023NE001422  D8SAFUSOCSA   \n",
       "\n",
       "                      NOME_PI PROGRAMA   PTRES TIPO     TIPO_NE  \\\n",
       "0  ORGANIZACAO CIVIL DE SAUDE     0032  215845  ANO  ESTIMATIVO   \n",
       "1  ORGANIZACAO CIVIL DE SAUDE     0032  215845  ANO  ESTIMATIVO   \n",
       "\n",
       "                          LOCAL UF_CREDOR UF_UG     UGR NOME_UGR RADPI4  \\\n",
       "0  CLINICA/CONSULTÓRIO/HOSPITAL        MG    MG  167505      DGP   D8SA   \n",
       "1  CLINICA/CONSULTÓRIO/HOSPITAL        MG    MG  167505      DGP   D8SA   \n",
       "\n",
       "  MEIPI3 SUFPI4  A_LIQUIDAR  LIQUIDADO_A_PAGAR  TOTAL_A_PAGAR  PAGO  \n",
       "0    FUS   OCSA         0.0          144088.36      144088.36   0.0  \n",
       "1    FUS   OCSA         0.0           42863.15       42863.15   0.0  "
      ]
     },
     "execution_count": 36,
     "metadata": {},
     "output_type": "execute_result"
    }
   ],
   "source": [
    "df_liqui_a_pagar =df_teste[ df_teste['LIQUIDADO_A_PAGAR'] != 0 ]\n",
    "\n",
    "df_liqui_a_pagar.sort_values(by='LIQUIDADO_A_PAGAR', ascending=False).reset_index(drop=True).head(2)"
   ]
  },
  {
   "cell_type": "code",
   "execution_count": 37,
   "metadata": {},
   "outputs": [
    {
     "data": {
      "text/plain": [
       "'R$ 451.413,45'"
      ]
     },
     "execution_count": 37,
     "metadata": {},
     "output_type": "execute_result"
    }
   ],
   "source": [
    "total_liqui_a_pagar = df_liqui_a_pagar['LIQUIDADO_A_PAGAR'].sum()\n",
    "locale.currency(total_liqui_a_pagar, grouping=True)"
   ]
  },
  {
   "cell_type": "code",
   "execution_count": 38,
   "metadata": {},
   "outputs": [
    {
     "data": {
      "application/vnd.plotly.v1+json": {
       "config": {
        "plotlyServerURL": "https://plot.ly"
       },
       "data": [
        {
         "alignmentgroup": "True",
         "cliponaxis": false,
         "legendgroup": "",
         "marker": {
          "color": [
           389774.49,
           10349.130000000001,
           8662.83,
           7409.22,
           7207.5,
           6923.3099999999995,
           6602.59,
           6501.92,
           2302.54,
           2069.82,
           1595.94,
           1364.93,
           649.23
          ],
          "coloraxis": "coloraxis",
          "pattern": {
           "shape": ""
          }
         },
         "name": "",
         "offsetgroup": "",
         "orientation": "v",
         "showlegend": false,
         "textposition": "outside",
         "texttemplate": "%{y:.3s}",
         "type": "bar",
         "x": [
          "SERV.MEDICO-HOSPITAL.,ODONTOL.E LABORATORIAIS",
          "SERVICOS MEDICOS E ODONTOLOGICOS",
          "TRANSPORTE DE SERVIDORES",
          "MATERIAL P/ MANUTENCAO DE VEICULOS",
          "MATERIAL DE TIC - MATERIAL DE CONSUMO",
          "DIARIAS NO PAIS",
          "LIMPEZA E CONSERVACAO",
          "INDENIZACOES E RESTITUICOES",
          "SERVICOS DE COMUNICACAO EM GERAL",
          "CONTRIB.PREVIDENCIARIAS-SERVICOS DE TERCEIROS",
          "SERVICOS DE TELECOMUNICACOES",
          "PASSAGENS PARA O PAIS",
          "OUTSOURCING DE IMPRESSAO"
         ],
         "xaxis": "x",
         "y": [
          389774.49,
          10349.130000000001,
          8662.83,
          7409.22,
          7207.5,
          6923.3099999999995,
          6602.59,
          6501.92,
          2302.54,
          2069.82,
          1595.94,
          1364.93,
          649.23
         ],
         "yaxis": "y"
        }
       ],
       "layout": {
        "barmode": "relative",
        "coloraxis": {
         "colorbar": {
          "title": {
           "text": "Liquidado a Pagar"
          }
         },
         "colorscale": [
          [
           0,
           "rgb(255,245,240)"
          ],
          [
           0.125,
           "rgb(254,224,210)"
          ],
          [
           0.25,
           "rgb(252,187,161)"
          ],
          [
           0.375,
           "rgb(252,146,114)"
          ],
          [
           0.5,
           "rgb(251,106,74)"
          ],
          [
           0.625,
           "rgb(239,59,44)"
          ],
          [
           0.75,
           "rgb(203,24,29)"
          ],
          [
           0.875,
           "rgb(165,15,21)"
          ],
          [
           1,
           "rgb(103,0,13)"
          ]
         ]
        },
        "height": 900,
        "hovermode": "x unified",
        "legend": {
         "tracegroupgap": 0
        },
        "template": {
         "data": {
          "bar": [
           {
            "error_x": {
             "color": "#f2f5fa"
            },
            "error_y": {
             "color": "#f2f5fa"
            },
            "marker": {
             "line": {
              "color": "rgb(17,17,17)",
              "width": 0.5
             },
             "pattern": {
              "fillmode": "overlay",
              "size": 10,
              "solidity": 0.2
             }
            },
            "type": "bar"
           }
          ],
          "barpolar": [
           {
            "marker": {
             "line": {
              "color": "rgb(17,17,17)",
              "width": 0.5
             },
             "pattern": {
              "fillmode": "overlay",
              "size": 10,
              "solidity": 0.2
             }
            },
            "type": "barpolar"
           }
          ],
          "carpet": [
           {
            "aaxis": {
             "endlinecolor": "#A2B1C6",
             "gridcolor": "#506784",
             "linecolor": "#506784",
             "minorgridcolor": "#506784",
             "startlinecolor": "#A2B1C6"
            },
            "baxis": {
             "endlinecolor": "#A2B1C6",
             "gridcolor": "#506784",
             "linecolor": "#506784",
             "minorgridcolor": "#506784",
             "startlinecolor": "#A2B1C6"
            },
            "type": "carpet"
           }
          ],
          "choropleth": [
           {
            "colorbar": {
             "outlinewidth": 0,
             "ticks": ""
            },
            "type": "choropleth"
           }
          ],
          "contour": [
           {
            "colorbar": {
             "outlinewidth": 0,
             "ticks": ""
            },
            "colorscale": [
             [
              0,
              "#0d0887"
             ],
             [
              0.1111111111111111,
              "#46039f"
             ],
             [
              0.2222222222222222,
              "#7201a8"
             ],
             [
              0.3333333333333333,
              "#9c179e"
             ],
             [
              0.4444444444444444,
              "#bd3786"
             ],
             [
              0.5555555555555556,
              "#d8576b"
             ],
             [
              0.6666666666666666,
              "#ed7953"
             ],
             [
              0.7777777777777778,
              "#fb9f3a"
             ],
             [
              0.8888888888888888,
              "#fdca26"
             ],
             [
              1,
              "#f0f921"
             ]
            ],
            "type": "contour"
           }
          ],
          "contourcarpet": [
           {
            "colorbar": {
             "outlinewidth": 0,
             "ticks": ""
            },
            "type": "contourcarpet"
           }
          ],
          "heatmap": [
           {
            "colorbar": {
             "outlinewidth": 0,
             "ticks": ""
            },
            "colorscale": [
             [
              0,
              "#0d0887"
             ],
             [
              0.1111111111111111,
              "#46039f"
             ],
             [
              0.2222222222222222,
              "#7201a8"
             ],
             [
              0.3333333333333333,
              "#9c179e"
             ],
             [
              0.4444444444444444,
              "#bd3786"
             ],
             [
              0.5555555555555556,
              "#d8576b"
             ],
             [
              0.6666666666666666,
              "#ed7953"
             ],
             [
              0.7777777777777778,
              "#fb9f3a"
             ],
             [
              0.8888888888888888,
              "#fdca26"
             ],
             [
              1,
              "#f0f921"
             ]
            ],
            "type": "heatmap"
           }
          ],
          "heatmapgl": [
           {
            "colorbar": {
             "outlinewidth": 0,
             "ticks": ""
            },
            "colorscale": [
             [
              0,
              "#0d0887"
             ],
             [
              0.1111111111111111,
              "#46039f"
             ],
             [
              0.2222222222222222,
              "#7201a8"
             ],
             [
              0.3333333333333333,
              "#9c179e"
             ],
             [
              0.4444444444444444,
              "#bd3786"
             ],
             [
              0.5555555555555556,
              "#d8576b"
             ],
             [
              0.6666666666666666,
              "#ed7953"
             ],
             [
              0.7777777777777778,
              "#fb9f3a"
             ],
             [
              0.8888888888888888,
              "#fdca26"
             ],
             [
              1,
              "#f0f921"
             ]
            ],
            "type": "heatmapgl"
           }
          ],
          "histogram": [
           {
            "marker": {
             "pattern": {
              "fillmode": "overlay",
              "size": 10,
              "solidity": 0.2
             }
            },
            "type": "histogram"
           }
          ],
          "histogram2d": [
           {
            "colorbar": {
             "outlinewidth": 0,
             "ticks": ""
            },
            "colorscale": [
             [
              0,
              "#0d0887"
             ],
             [
              0.1111111111111111,
              "#46039f"
             ],
             [
              0.2222222222222222,
              "#7201a8"
             ],
             [
              0.3333333333333333,
              "#9c179e"
             ],
             [
              0.4444444444444444,
              "#bd3786"
             ],
             [
              0.5555555555555556,
              "#d8576b"
             ],
             [
              0.6666666666666666,
              "#ed7953"
             ],
             [
              0.7777777777777778,
              "#fb9f3a"
             ],
             [
              0.8888888888888888,
              "#fdca26"
             ],
             [
              1,
              "#f0f921"
             ]
            ],
            "type": "histogram2d"
           }
          ],
          "histogram2dcontour": [
           {
            "colorbar": {
             "outlinewidth": 0,
             "ticks": ""
            },
            "colorscale": [
             [
              0,
              "#0d0887"
             ],
             [
              0.1111111111111111,
              "#46039f"
             ],
             [
              0.2222222222222222,
              "#7201a8"
             ],
             [
              0.3333333333333333,
              "#9c179e"
             ],
             [
              0.4444444444444444,
              "#bd3786"
             ],
             [
              0.5555555555555556,
              "#d8576b"
             ],
             [
              0.6666666666666666,
              "#ed7953"
             ],
             [
              0.7777777777777778,
              "#fb9f3a"
             ],
             [
              0.8888888888888888,
              "#fdca26"
             ],
             [
              1,
              "#f0f921"
             ]
            ],
            "type": "histogram2dcontour"
           }
          ],
          "mesh3d": [
           {
            "colorbar": {
             "outlinewidth": 0,
             "ticks": ""
            },
            "type": "mesh3d"
           }
          ],
          "parcoords": [
           {
            "line": {
             "colorbar": {
              "outlinewidth": 0,
              "ticks": ""
             }
            },
            "type": "parcoords"
           }
          ],
          "pie": [
           {
            "automargin": true,
            "type": "pie"
           }
          ],
          "scatter": [
           {
            "marker": {
             "line": {
              "color": "#283442"
             }
            },
            "type": "scatter"
           }
          ],
          "scatter3d": [
           {
            "line": {
             "colorbar": {
              "outlinewidth": 0,
              "ticks": ""
             }
            },
            "marker": {
             "colorbar": {
              "outlinewidth": 0,
              "ticks": ""
             }
            },
            "type": "scatter3d"
           }
          ],
          "scattercarpet": [
           {
            "marker": {
             "colorbar": {
              "outlinewidth": 0,
              "ticks": ""
             }
            },
            "type": "scattercarpet"
           }
          ],
          "scattergeo": [
           {
            "marker": {
             "colorbar": {
              "outlinewidth": 0,
              "ticks": ""
             }
            },
            "type": "scattergeo"
           }
          ],
          "scattergl": [
           {
            "marker": {
             "line": {
              "color": "#283442"
             }
            },
            "type": "scattergl"
           }
          ],
          "scattermapbox": [
           {
            "marker": {
             "colorbar": {
              "outlinewidth": 0,
              "ticks": ""
             }
            },
            "type": "scattermapbox"
           }
          ],
          "scatterpolar": [
           {
            "marker": {
             "colorbar": {
              "outlinewidth": 0,
              "ticks": ""
             }
            },
            "type": "scatterpolar"
           }
          ],
          "scatterpolargl": [
           {
            "marker": {
             "colorbar": {
              "outlinewidth": 0,
              "ticks": ""
             }
            },
            "type": "scatterpolargl"
           }
          ],
          "scatterternary": [
           {
            "marker": {
             "colorbar": {
              "outlinewidth": 0,
              "ticks": ""
             }
            },
            "type": "scatterternary"
           }
          ],
          "surface": [
           {
            "colorbar": {
             "outlinewidth": 0,
             "ticks": ""
            },
            "colorscale": [
             [
              0,
              "#0d0887"
             ],
             [
              0.1111111111111111,
              "#46039f"
             ],
             [
              0.2222222222222222,
              "#7201a8"
             ],
             [
              0.3333333333333333,
              "#9c179e"
             ],
             [
              0.4444444444444444,
              "#bd3786"
             ],
             [
              0.5555555555555556,
              "#d8576b"
             ],
             [
              0.6666666666666666,
              "#ed7953"
             ],
             [
              0.7777777777777778,
              "#fb9f3a"
             ],
             [
              0.8888888888888888,
              "#fdca26"
             ],
             [
              1,
              "#f0f921"
             ]
            ],
            "type": "surface"
           }
          ],
          "table": [
           {
            "cells": {
             "fill": {
              "color": "#506784"
             },
             "line": {
              "color": "rgb(17,17,17)"
             }
            },
            "header": {
             "fill": {
              "color": "#2a3f5f"
             },
             "line": {
              "color": "rgb(17,17,17)"
             }
            },
            "type": "table"
           }
          ]
         },
         "layout": {
          "annotationdefaults": {
           "arrowcolor": "#f2f5fa",
           "arrowhead": 0,
           "arrowwidth": 1
          },
          "autotypenumbers": "strict",
          "coloraxis": {
           "colorbar": {
            "outlinewidth": 0,
            "ticks": ""
           }
          },
          "colorscale": {
           "diverging": [
            [
             0,
             "#8e0152"
            ],
            [
             0.1,
             "#c51b7d"
            ],
            [
             0.2,
             "#de77ae"
            ],
            [
             0.3,
             "#f1b6da"
            ],
            [
             0.4,
             "#fde0ef"
            ],
            [
             0.5,
             "#f7f7f7"
            ],
            [
             0.6,
             "#e6f5d0"
            ],
            [
             0.7,
             "#b8e186"
            ],
            [
             0.8,
             "#7fbc41"
            ],
            [
             0.9,
             "#4d9221"
            ],
            [
             1,
             "#276419"
            ]
           ],
           "sequential": [
            [
             0,
             "#0d0887"
            ],
            [
             0.1111111111111111,
             "#46039f"
            ],
            [
             0.2222222222222222,
             "#7201a8"
            ],
            [
             0.3333333333333333,
             "#9c179e"
            ],
            [
             0.4444444444444444,
             "#bd3786"
            ],
            [
             0.5555555555555556,
             "#d8576b"
            ],
            [
             0.6666666666666666,
             "#ed7953"
            ],
            [
             0.7777777777777778,
             "#fb9f3a"
            ],
            [
             0.8888888888888888,
             "#fdca26"
            ],
            [
             1,
             "#f0f921"
            ]
           ],
           "sequentialminus": [
            [
             0,
             "#0d0887"
            ],
            [
             0.1111111111111111,
             "#46039f"
            ],
            [
             0.2222222222222222,
             "#7201a8"
            ],
            [
             0.3333333333333333,
             "#9c179e"
            ],
            [
             0.4444444444444444,
             "#bd3786"
            ],
            [
             0.5555555555555556,
             "#d8576b"
            ],
            [
             0.6666666666666666,
             "#ed7953"
            ],
            [
             0.7777777777777778,
             "#fb9f3a"
            ],
            [
             0.8888888888888888,
             "#fdca26"
            ],
            [
             1,
             "#f0f921"
            ]
           ]
          },
          "colorway": [
           "#636efa",
           "#EF553B",
           "#00cc96",
           "#ab63fa",
           "#FFA15A",
           "#19d3f3",
           "#FF6692",
           "#B6E880",
           "#FF97FF",
           "#FECB52"
          ],
          "font": {
           "color": "#f2f5fa"
          },
          "geo": {
           "bgcolor": "rgb(17,17,17)",
           "lakecolor": "rgb(17,17,17)",
           "landcolor": "rgb(17,17,17)",
           "showlakes": true,
           "showland": true,
           "subunitcolor": "#506784"
          },
          "hoverlabel": {
           "align": "left"
          },
          "hovermode": "closest",
          "mapbox": {
           "style": "dark"
          },
          "paper_bgcolor": "rgb(17,17,17)",
          "plot_bgcolor": "rgb(17,17,17)",
          "polar": {
           "angularaxis": {
            "gridcolor": "#506784",
            "linecolor": "#506784",
            "ticks": ""
           },
           "bgcolor": "rgb(17,17,17)",
           "radialaxis": {
            "gridcolor": "#506784",
            "linecolor": "#506784",
            "ticks": ""
           }
          },
          "scene": {
           "xaxis": {
            "backgroundcolor": "rgb(17,17,17)",
            "gridcolor": "#506784",
            "gridwidth": 2,
            "linecolor": "#506784",
            "showbackground": true,
            "ticks": "",
            "zerolinecolor": "#C8D4E3"
           },
           "yaxis": {
            "backgroundcolor": "rgb(17,17,17)",
            "gridcolor": "#506784",
            "gridwidth": 2,
            "linecolor": "#506784",
            "showbackground": true,
            "ticks": "",
            "zerolinecolor": "#C8D4E3"
           },
           "zaxis": {
            "backgroundcolor": "rgb(17,17,17)",
            "gridcolor": "#506784",
            "gridwidth": 2,
            "linecolor": "#506784",
            "showbackground": true,
            "ticks": "",
            "zerolinecolor": "#C8D4E3"
           }
          },
          "shapedefaults": {
           "line": {
            "color": "#f2f5fa"
           }
          },
          "sliderdefaults": {
           "bgcolor": "#C8D4E3",
           "bordercolor": "rgb(17,17,17)",
           "borderwidth": 1,
           "tickwidth": 0
          },
          "ternary": {
           "aaxis": {
            "gridcolor": "#506784",
            "linecolor": "#506784",
            "ticks": ""
           },
           "baxis": {
            "gridcolor": "#506784",
            "linecolor": "#506784",
            "ticks": ""
           },
           "bgcolor": "rgb(17,17,17)",
           "caxis": {
            "gridcolor": "#506784",
            "linecolor": "#506784",
            "ticks": ""
           }
          },
          "title": {
           "x": 0.05
          },
          "updatemenudefaults": {
           "bgcolor": "#506784",
           "borderwidth": 0
          },
          "xaxis": {
           "automargin": true,
           "gridcolor": "#283442",
           "linecolor": "#506784",
           "ticks": "",
           "title": {
            "standoff": 15
           },
           "zerolinecolor": "#283442",
           "zerolinewidth": 2
          },
          "yaxis": {
           "automargin": true,
           "gridcolor": "#283442",
           "linecolor": "#506784",
           "ticks": "",
           "title": {
            "standoff": 15
           },
           "zerolinecolor": "#283442",
           "zerolinewidth": 2
          }
         }
        },
        "title": {
         "text": "Saldos liquidados a pagar por NDSI"
        },
        "xaxis": {
         "anchor": "y",
         "domain": [
          0,
          1
         ],
         "title": {
          "text": "Descrição do Subitem"
         }
        },
        "yaxis": {
         "anchor": "x",
         "domain": [
          0,
          1
         ],
         "title": {
          "text": "Liquidado a Pagar"
         },
         "type": "log"
        }
       }
      }
     },
     "metadata": {},
     "output_type": "display_data"
    }
   ],
   "source": [
    "df_aux = df_liqui_a_pagar.groupby(by='NOME_NDSI')['LIQUIDADO_A_PAGAR'].sum().sort_values( ascending=False).reset_index()\n",
    "\n",
    "fig = px.bar(df_aux,\n",
    "             x = 'NOME_NDSI',\n",
    "             y = 'LIQUIDADO_A_PAGAR',\n",
    "             log_y=True,\n",
    "             height=900,\n",
    "             title='Saldos liquidados a pagar por NDSI',\n",
    "             labels={'NOME_NDSI':'Descrição do Subitem', 'LIQUIDADO_A_PAGAR':'Liquidado a Pagar'},\n",
    "             text_auto='.3s',\n",
    "             color='LIQUIDADO_A_PAGAR',\n",
    "             color_continuous_scale = 'reds',\n",
    "             template='plotly_dark')\n",
    "fig.update_traces(textposition = 'outside', cliponaxis = False, hovertemplate=None)\n",
    "fig.update_layout(hovermode=\"x unified\")\n",
    "\n",
    "fig.show()"
   ]
  }
 ],
 "metadata": {
  "kernelspec": {
   "display_name": "base",
   "language": "python",
   "name": "python3"
  },
  "language_info": {
   "codemirror_mode": {
    "name": "ipython",
    "version": 3
   },
   "file_extension": ".py",
   "mimetype": "text/x-python",
   "name": "python",
   "nbconvert_exporter": "python",
   "pygments_lexer": "ipython3",
   "version": "3.11.5"
  },
  "orig_nbformat": 4
 },
 "nbformat": 4,
 "nbformat_minor": 2
}
