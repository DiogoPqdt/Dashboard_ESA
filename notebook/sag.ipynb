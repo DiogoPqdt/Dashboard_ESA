{
 "cells": [
  {
   "cell_type": "markdown",
   "metadata": {},
   "source": [
    "# Criar VENV\n",
    "\n",
    "https://oandersonbm.medium.com/usando-python-no-vs-code-com-ambiente-virtual-venv-ecef7959b652"
   ]
  },
  {
   "cell_type": "code",
   "execution_count": 1,
   "metadata": {},
   "outputs": [],
   "source": [
    "import pandas as pd\n",
    "import plotly.express as px\n",
    "import plotly.graph_objects as go\n",
    "from datetime import datetime\n",
    "import locale\n",
    "\n",
    "# Definindo a configuração local para o Brasil (pt_BR)\n",
    "locale.setlocale(locale.LC_ALL, 'pt_BR')\n",
    "\n",
    "# Personalizando para ver todas as colunas do DataFrame\n",
    "pd.set_option('display.max_columns', None)"
   ]
  },
  {
   "cell_type": "markdown",
   "metadata": {},
   "source": [
    "# Base de dados"
   ]
  },
  {
   "cell_type": "code",
   "execution_count": 2,
   "metadata": {},
   "outputs": [],
   "source": [
    "# Realizando a junção dos 3 arquivos .CSV num único DataFrame\n",
    "\n",
    "# Caminhos para os arquivos .CSV\n",
    "caminho_1 = r\"C:\\Users\\User\\OneDrive\\Trabalho\\ESA 2023\\Dashboard_ESA\\base_dados\\Cel Manfrini.csv\"\n",
    "\n",
    "caminho_2 = r\"C:\\Users\\User\\OneDrive\\Trabalho\\ESA 2023\\Dashboard_ESA\\base_dados\\Cel Manfrini(1).csv\"\n",
    "\n",
    "caminho_3 = r\"C:\\Users\\User\\OneDrive\\Trabalho\\ESA 2023\\Dashboard_ESA\\base_dados\\Cel Manfrini(2).csv\"\n",
    "\n",
    "caminho_4 = r\"C:\\Users\\User\\OneDrive\\Trabalho\\ESA 2023\\Dashboard_ESA\\base_dados\\Cel Manfrini(3).csv\"\n",
    "\n",
    "\n",
    "# Leitura dos arquivos .CSV em DataFrames individuais\n",
    "df1 = pd.read_csv(caminho_1)\n",
    "df2 = pd.read_csv(caminho_2)\n",
    "df3 = pd.read_csv(caminho_3)\n",
    "df4 = pd.read_csv(caminho_4)\n",
    "\n",
    "# Concatenação dos DataFrames em um único DataFrame\n",
    "df = pd.concat([df1, df2, df3, df4], ignore_index=True)\n",
    "\n",
    "# Excluindo linhas que contenham a string \"Tela\" em qualquer coluna\n",
    "df = df[~df.apply(lambda row: row.astype(str).str.contains('Tela')).any(axis=1)]\n",
    "\n",
    "# Transformando o tipo de dado das colunas de valores monetários\n",
    "df['A_LIQUIDAR'] = df['A_LIQUIDAR'].apply(lambda x: float(x.replace('.', '').replace(',', '.')))\n",
    "df['LIQUIDADO_A_PAGAR'] = df['LIQUIDADO_A_PAGAR'].apply(lambda x: float(x.replace('.', '').replace(',', '.')))\n",
    "df['TOTAL_A_PAGAR'] = df['TOTAL_A_PAGAR'].apply(lambda x: float(x.replace('.', '').replace(',', '.')))\n",
    "df['PAGO'] = df['PAGO'].apply(lambda x: float(x.replace('.', '').replace(',', '.')))\n",
    "\n",
    "# Convertendo a coluna DATA para datetime\n",
    "df['DATA'] = pd.to_datetime(df['DATA'], format='%d/%m/%y')\n",
    "\n",
    "# Convertendo a coluna DIAS em número inteiro\n",
    "df['DIAS'] = df['DIAS'].astype(int)\n",
    "\n"
   ]
  },
  {
   "cell_type": "markdown",
   "metadata": {},
   "source": [
    "# Trabalhando com um DATAFRAME voltado para controle dos SALDOS"
   ]
  },
  {
   "cell_type": "code",
   "execution_count": 3,
   "metadata": {},
   "outputs": [],
   "source": [
    "df_saldos = df[['SIGLA UG', 'ANO', 'NOME_CREDOR', 'DATA', 'DIAS', 'ND','NDSI', 'NOME_NDSI', 'NE', 'PI', 'NOME_PI','TIPO', 'NOME_UGR', 'A_LIQUIDAR', 'LIQUIDADO_A_PAGAR', 'TOTAL_A_PAGAR', 'PAGO']]"
   ]
  },
  {
   "cell_type": "code",
   "execution_count": 4,
   "metadata": {},
   "outputs": [
    {
     "name": "stdout",
     "output_type": "stream",
     "text": [
      "O total pago pela ESA até o momento foi: R$ 27.640.427,02\n",
      "O total de saldo a liquidar pela ESA até o momento foi: R$ 5.501.509,04\n",
      "O total de saldo liquidado a pagar pela ESA até o momento foi: R$ 119.130,13\n",
      "O total de saldo a pagar pela ESA até o momento foi: R$ 5.620.639,17\n"
     ]
    }
   ],
   "source": [
    "# Saldos Totais\n",
    "total_pago = df['PAGO'].sum().round(2)\n",
    "total_a_liquidar = df['A_LIQUIDAR'].sum().round(2)\n",
    "total_liquidado_a_pagar = df['LIQUIDADO_A_PAGAR'].sum().round(2)\n",
    "total_a_pagar = df['TOTAL_A_PAGAR'].sum().round(2)\n",
    "\n",
    "\n",
    "print(f'O total pago pela ESA até o momento foi: {locale.currency(total_pago, grouping=True)}')\n",
    "print(f'O total de saldo a liquidar pela ESA até o momento foi: {locale.currency(total_a_liquidar, grouping=True)}')\n",
    "print(f'O total de saldo liquidado a pagar pela ESA até o momento foi: {locale.currency(total_liquidado_a_pagar, grouping=True)}')\n",
    "print(f'O total de saldo a pagar pela ESA até o momento foi: {locale.currency(total_a_pagar, grouping=True)}')"
   ]
  },
  {
   "cell_type": "code",
   "execution_count": 5,
   "metadata": {},
   "outputs": [
    {
     "data": {
      "application/vnd.plotly.v1+json": {
       "config": {
        "plotlyServerURL": "https://plot.ly"
       },
       "data": [
        {
         "alignmentgroup": "True",
         "cliponaxis": false,
         "legendgroup": "",
         "marker": {
          "color": [
           2762918.78,
           708087.12,
           640501.08,
           328236.3,
           276444.91,
           272299.94,
           260079.14,
           218513.94,
           16155.41,
           8746.5,
           6294.83,
           3231.0899999999997
          ],
          "coloraxis": "coloraxis",
          "pattern": {
           "shape": ""
          }
         },
         "name": "",
         "offsetgroup": "",
         "orientation": "v",
         "showlegend": false,
         "textposition": "outside",
         "texttemplate": "%{y:.3s}",
         "type": "bar",
         "x": [
          "339039",
          "339030",
          "339033",
          "449052",
          "339015",
          "339040",
          "339093",
          "339037",
          "339036",
          "339032",
          "339047",
          "339147"
         ],
         "xaxis": "x",
         "y": [
          2762918.78,
          708087.12,
          640501.08,
          328236.3,
          276444.91,
          272299.94,
          260079.14,
          218513.94,
          16155.41,
          8746.5,
          6294.83,
          3231.0899999999997
         ],
         "yaxis": "y"
        }
       ],
       "layout": {
        "barmode": "relative",
        "coloraxis": {
         "colorbar": {
          "title": {
           "text": "Saldo a liquidar"
          }
         },
         "colorscale": [
          [
           0,
           "rgb(255,245,240)"
          ],
          [
           0.125,
           "rgb(254,224,210)"
          ],
          [
           0.25,
           "rgb(252,187,161)"
          ],
          [
           0.375,
           "rgb(252,146,114)"
          ],
          [
           0.5,
           "rgb(251,106,74)"
          ],
          [
           0.625,
           "rgb(239,59,44)"
          ],
          [
           0.75,
           "rgb(203,24,29)"
          ],
          [
           0.875,
           "rgb(165,15,21)"
          ],
          [
           1,
           "rgb(103,0,13)"
          ]
         ]
        },
        "height": 500,
        "hovermode": "x unified",
        "legend": {
         "tracegroupgap": 0
        },
        "template": {
         "data": {
          "bar": [
           {
            "error_x": {
             "color": "#f2f5fa"
            },
            "error_y": {
             "color": "#f2f5fa"
            },
            "marker": {
             "line": {
              "color": "rgb(17,17,17)",
              "width": 0.5
             },
             "pattern": {
              "fillmode": "overlay",
              "size": 10,
              "solidity": 0.2
             }
            },
            "type": "bar"
           }
          ],
          "barpolar": [
           {
            "marker": {
             "line": {
              "color": "rgb(17,17,17)",
              "width": 0.5
             },
             "pattern": {
              "fillmode": "overlay",
              "size": 10,
              "solidity": 0.2
             }
            },
            "type": "barpolar"
           }
          ],
          "carpet": [
           {
            "aaxis": {
             "endlinecolor": "#A2B1C6",
             "gridcolor": "#506784",
             "linecolor": "#506784",
             "minorgridcolor": "#506784",
             "startlinecolor": "#A2B1C6"
            },
            "baxis": {
             "endlinecolor": "#A2B1C6",
             "gridcolor": "#506784",
             "linecolor": "#506784",
             "minorgridcolor": "#506784",
             "startlinecolor": "#A2B1C6"
            },
            "type": "carpet"
           }
          ],
          "choropleth": [
           {
            "colorbar": {
             "outlinewidth": 0,
             "ticks": ""
            },
            "type": "choropleth"
           }
          ],
          "contour": [
           {
            "colorbar": {
             "outlinewidth": 0,
             "ticks": ""
            },
            "colorscale": [
             [
              0,
              "#0d0887"
             ],
             [
              0.1111111111111111,
              "#46039f"
             ],
             [
              0.2222222222222222,
              "#7201a8"
             ],
             [
              0.3333333333333333,
              "#9c179e"
             ],
             [
              0.4444444444444444,
              "#bd3786"
             ],
             [
              0.5555555555555556,
              "#d8576b"
             ],
             [
              0.6666666666666666,
              "#ed7953"
             ],
             [
              0.7777777777777778,
              "#fb9f3a"
             ],
             [
              0.8888888888888888,
              "#fdca26"
             ],
             [
              1,
              "#f0f921"
             ]
            ],
            "type": "contour"
           }
          ],
          "contourcarpet": [
           {
            "colorbar": {
             "outlinewidth": 0,
             "ticks": ""
            },
            "type": "contourcarpet"
           }
          ],
          "heatmap": [
           {
            "colorbar": {
             "outlinewidth": 0,
             "ticks": ""
            },
            "colorscale": [
             [
              0,
              "#0d0887"
             ],
             [
              0.1111111111111111,
              "#46039f"
             ],
             [
              0.2222222222222222,
              "#7201a8"
             ],
             [
              0.3333333333333333,
              "#9c179e"
             ],
             [
              0.4444444444444444,
              "#bd3786"
             ],
             [
              0.5555555555555556,
              "#d8576b"
             ],
             [
              0.6666666666666666,
              "#ed7953"
             ],
             [
              0.7777777777777778,
              "#fb9f3a"
             ],
             [
              0.8888888888888888,
              "#fdca26"
             ],
             [
              1,
              "#f0f921"
             ]
            ],
            "type": "heatmap"
           }
          ],
          "heatmapgl": [
           {
            "colorbar": {
             "outlinewidth": 0,
             "ticks": ""
            },
            "colorscale": [
             [
              0,
              "#0d0887"
             ],
             [
              0.1111111111111111,
              "#46039f"
             ],
             [
              0.2222222222222222,
              "#7201a8"
             ],
             [
              0.3333333333333333,
              "#9c179e"
             ],
             [
              0.4444444444444444,
              "#bd3786"
             ],
             [
              0.5555555555555556,
              "#d8576b"
             ],
             [
              0.6666666666666666,
              "#ed7953"
             ],
             [
              0.7777777777777778,
              "#fb9f3a"
             ],
             [
              0.8888888888888888,
              "#fdca26"
             ],
             [
              1,
              "#f0f921"
             ]
            ],
            "type": "heatmapgl"
           }
          ],
          "histogram": [
           {
            "marker": {
             "pattern": {
              "fillmode": "overlay",
              "size": 10,
              "solidity": 0.2
             }
            },
            "type": "histogram"
           }
          ],
          "histogram2d": [
           {
            "colorbar": {
             "outlinewidth": 0,
             "ticks": ""
            },
            "colorscale": [
             [
              0,
              "#0d0887"
             ],
             [
              0.1111111111111111,
              "#46039f"
             ],
             [
              0.2222222222222222,
              "#7201a8"
             ],
             [
              0.3333333333333333,
              "#9c179e"
             ],
             [
              0.4444444444444444,
              "#bd3786"
             ],
             [
              0.5555555555555556,
              "#d8576b"
             ],
             [
              0.6666666666666666,
              "#ed7953"
             ],
             [
              0.7777777777777778,
              "#fb9f3a"
             ],
             [
              0.8888888888888888,
              "#fdca26"
             ],
             [
              1,
              "#f0f921"
             ]
            ],
            "type": "histogram2d"
           }
          ],
          "histogram2dcontour": [
           {
            "colorbar": {
             "outlinewidth": 0,
             "ticks": ""
            },
            "colorscale": [
             [
              0,
              "#0d0887"
             ],
             [
              0.1111111111111111,
              "#46039f"
             ],
             [
              0.2222222222222222,
              "#7201a8"
             ],
             [
              0.3333333333333333,
              "#9c179e"
             ],
             [
              0.4444444444444444,
              "#bd3786"
             ],
             [
              0.5555555555555556,
              "#d8576b"
             ],
             [
              0.6666666666666666,
              "#ed7953"
             ],
             [
              0.7777777777777778,
              "#fb9f3a"
             ],
             [
              0.8888888888888888,
              "#fdca26"
             ],
             [
              1,
              "#f0f921"
             ]
            ],
            "type": "histogram2dcontour"
           }
          ],
          "mesh3d": [
           {
            "colorbar": {
             "outlinewidth": 0,
             "ticks": ""
            },
            "type": "mesh3d"
           }
          ],
          "parcoords": [
           {
            "line": {
             "colorbar": {
              "outlinewidth": 0,
              "ticks": ""
             }
            },
            "type": "parcoords"
           }
          ],
          "pie": [
           {
            "automargin": true,
            "type": "pie"
           }
          ],
          "scatter": [
           {
            "marker": {
             "line": {
              "color": "#283442"
             }
            },
            "type": "scatter"
           }
          ],
          "scatter3d": [
           {
            "line": {
             "colorbar": {
              "outlinewidth": 0,
              "ticks": ""
             }
            },
            "marker": {
             "colorbar": {
              "outlinewidth": 0,
              "ticks": ""
             }
            },
            "type": "scatter3d"
           }
          ],
          "scattercarpet": [
           {
            "marker": {
             "colorbar": {
              "outlinewidth": 0,
              "ticks": ""
             }
            },
            "type": "scattercarpet"
           }
          ],
          "scattergeo": [
           {
            "marker": {
             "colorbar": {
              "outlinewidth": 0,
              "ticks": ""
             }
            },
            "type": "scattergeo"
           }
          ],
          "scattergl": [
           {
            "marker": {
             "line": {
              "color": "#283442"
             }
            },
            "type": "scattergl"
           }
          ],
          "scattermapbox": [
           {
            "marker": {
             "colorbar": {
              "outlinewidth": 0,
              "ticks": ""
             }
            },
            "type": "scattermapbox"
           }
          ],
          "scatterpolar": [
           {
            "marker": {
             "colorbar": {
              "outlinewidth": 0,
              "ticks": ""
             }
            },
            "type": "scatterpolar"
           }
          ],
          "scatterpolargl": [
           {
            "marker": {
             "colorbar": {
              "outlinewidth": 0,
              "ticks": ""
             }
            },
            "type": "scatterpolargl"
           }
          ],
          "scatterternary": [
           {
            "marker": {
             "colorbar": {
              "outlinewidth": 0,
              "ticks": ""
             }
            },
            "type": "scatterternary"
           }
          ],
          "surface": [
           {
            "colorbar": {
             "outlinewidth": 0,
             "ticks": ""
            },
            "colorscale": [
             [
              0,
              "#0d0887"
             ],
             [
              0.1111111111111111,
              "#46039f"
             ],
             [
              0.2222222222222222,
              "#7201a8"
             ],
             [
              0.3333333333333333,
              "#9c179e"
             ],
             [
              0.4444444444444444,
              "#bd3786"
             ],
             [
              0.5555555555555556,
              "#d8576b"
             ],
             [
              0.6666666666666666,
              "#ed7953"
             ],
             [
              0.7777777777777778,
              "#fb9f3a"
             ],
             [
              0.8888888888888888,
              "#fdca26"
             ],
             [
              1,
              "#f0f921"
             ]
            ],
            "type": "surface"
           }
          ],
          "table": [
           {
            "cells": {
             "fill": {
              "color": "#506784"
             },
             "line": {
              "color": "rgb(17,17,17)"
             }
            },
            "header": {
             "fill": {
              "color": "#2a3f5f"
             },
             "line": {
              "color": "rgb(17,17,17)"
             }
            },
            "type": "table"
           }
          ]
         },
         "layout": {
          "annotationdefaults": {
           "arrowcolor": "#f2f5fa",
           "arrowhead": 0,
           "arrowwidth": 1
          },
          "autotypenumbers": "strict",
          "coloraxis": {
           "colorbar": {
            "outlinewidth": 0,
            "ticks": ""
           }
          },
          "colorscale": {
           "diverging": [
            [
             0,
             "#8e0152"
            ],
            [
             0.1,
             "#c51b7d"
            ],
            [
             0.2,
             "#de77ae"
            ],
            [
             0.3,
             "#f1b6da"
            ],
            [
             0.4,
             "#fde0ef"
            ],
            [
             0.5,
             "#f7f7f7"
            ],
            [
             0.6,
             "#e6f5d0"
            ],
            [
             0.7,
             "#b8e186"
            ],
            [
             0.8,
             "#7fbc41"
            ],
            [
             0.9,
             "#4d9221"
            ],
            [
             1,
             "#276419"
            ]
           ],
           "sequential": [
            [
             0,
             "#0d0887"
            ],
            [
             0.1111111111111111,
             "#46039f"
            ],
            [
             0.2222222222222222,
             "#7201a8"
            ],
            [
             0.3333333333333333,
             "#9c179e"
            ],
            [
             0.4444444444444444,
             "#bd3786"
            ],
            [
             0.5555555555555556,
             "#d8576b"
            ],
            [
             0.6666666666666666,
             "#ed7953"
            ],
            [
             0.7777777777777778,
             "#fb9f3a"
            ],
            [
             0.8888888888888888,
             "#fdca26"
            ],
            [
             1,
             "#f0f921"
            ]
           ],
           "sequentialminus": [
            [
             0,
             "#0d0887"
            ],
            [
             0.1111111111111111,
             "#46039f"
            ],
            [
             0.2222222222222222,
             "#7201a8"
            ],
            [
             0.3333333333333333,
             "#9c179e"
            ],
            [
             0.4444444444444444,
             "#bd3786"
            ],
            [
             0.5555555555555556,
             "#d8576b"
            ],
            [
             0.6666666666666666,
             "#ed7953"
            ],
            [
             0.7777777777777778,
             "#fb9f3a"
            ],
            [
             0.8888888888888888,
             "#fdca26"
            ],
            [
             1,
             "#f0f921"
            ]
           ]
          },
          "colorway": [
           "#636efa",
           "#EF553B",
           "#00cc96",
           "#ab63fa",
           "#FFA15A",
           "#19d3f3",
           "#FF6692",
           "#B6E880",
           "#FF97FF",
           "#FECB52"
          ],
          "font": {
           "color": "#f2f5fa"
          },
          "geo": {
           "bgcolor": "rgb(17,17,17)",
           "lakecolor": "rgb(17,17,17)",
           "landcolor": "rgb(17,17,17)",
           "showlakes": true,
           "showland": true,
           "subunitcolor": "#506784"
          },
          "hoverlabel": {
           "align": "left"
          },
          "hovermode": "closest",
          "mapbox": {
           "style": "dark"
          },
          "paper_bgcolor": "rgb(17,17,17)",
          "plot_bgcolor": "rgb(17,17,17)",
          "polar": {
           "angularaxis": {
            "gridcolor": "#506784",
            "linecolor": "#506784",
            "ticks": ""
           },
           "bgcolor": "rgb(17,17,17)",
           "radialaxis": {
            "gridcolor": "#506784",
            "linecolor": "#506784",
            "ticks": ""
           }
          },
          "scene": {
           "xaxis": {
            "backgroundcolor": "rgb(17,17,17)",
            "gridcolor": "#506784",
            "gridwidth": 2,
            "linecolor": "#506784",
            "showbackground": true,
            "ticks": "",
            "zerolinecolor": "#C8D4E3"
           },
           "yaxis": {
            "backgroundcolor": "rgb(17,17,17)",
            "gridcolor": "#506784",
            "gridwidth": 2,
            "linecolor": "#506784",
            "showbackground": true,
            "ticks": "",
            "zerolinecolor": "#C8D4E3"
           },
           "zaxis": {
            "backgroundcolor": "rgb(17,17,17)",
            "gridcolor": "#506784",
            "gridwidth": 2,
            "linecolor": "#506784",
            "showbackground": true,
            "ticks": "",
            "zerolinecolor": "#C8D4E3"
           }
          },
          "shapedefaults": {
           "line": {
            "color": "#f2f5fa"
           }
          },
          "sliderdefaults": {
           "bgcolor": "#C8D4E3",
           "bordercolor": "rgb(17,17,17)",
           "borderwidth": 1,
           "tickwidth": 0
          },
          "ternary": {
           "aaxis": {
            "gridcolor": "#506784",
            "linecolor": "#506784",
            "ticks": ""
           },
           "baxis": {
            "gridcolor": "#506784",
            "linecolor": "#506784",
            "ticks": ""
           },
           "bgcolor": "rgb(17,17,17)",
           "caxis": {
            "gridcolor": "#506784",
            "linecolor": "#506784",
            "ticks": ""
           }
          },
          "title": {
           "x": 0.05
          },
          "updatemenudefaults": {
           "bgcolor": "#506784",
           "borderwidth": 0
          },
          "xaxis": {
           "automargin": true,
           "gridcolor": "#283442",
           "linecolor": "#506784",
           "ticks": "",
           "title": {
            "standoff": 15
           },
           "zerolinecolor": "#283442",
           "zerolinewidth": 2
          },
          "yaxis": {
           "automargin": true,
           "gridcolor": "#283442",
           "linecolor": "#506784",
           "ticks": "",
           "title": {
            "standoff": 15
           },
           "zerolinecolor": "#283442",
           "zerolinewidth": 2
          }
         }
        },
        "title": {
         "text": "Saldo a liquidar por ND"
        },
        "xaxis": {
         "anchor": "y",
         "domain": [
          0,
          1
         ],
         "title": {
          "text": "Natureza da Despesa"
         }
        },
        "yaxis": {
         "anchor": "x",
         "domain": [
          0,
          1
         ],
         "title": {
          "text": "Saldo a liquidar"
         },
         "type": "log"
        }
       }
      }
     },
     "metadata": {},
     "output_type": "display_data"
    }
   ],
   "source": [
    "# Saldo a liquidar por ND\n",
    "cols = ['ND', 'A_LIQUIDAR']\n",
    "\n",
    "df_aux = df.loc[:, cols].groupby('ND').sum().sort_values(by= 'A_LIQUIDAR', ascending=False).reset_index()\n",
    "df_aux = df_aux[df_aux['A_LIQUIDAR'] > 0]\n",
    "fig = px.bar(df_aux, \n",
    "             x='ND', \n",
    "             y='A_LIQUIDAR',\n",
    "             title='Saldo a liquidar por ND',\n",
    "             labels={'ND':'Natureza da Despesa', 'A_LIQUIDAR':'Saldo a liquidar'},\n",
    "             text_auto='.3s',\n",
    "             height=500,\n",
    "             log_y=True,\n",
    "             color='A_LIQUIDAR',\n",
    "             color_continuous_scale = 'reds',\n",
    "             template='plotly_dark')\n",
    "fig.update_traces(textposition = 'outside', cliponaxis = False, hovertemplate=None)\n",
    "fig.update_layout(hovermode=\"x unified\")\n",
    "\n",
    "fig.show()"
   ]
  },
  {
   "cell_type": "code",
   "execution_count": 6,
   "metadata": {},
   "outputs": [
    {
     "data": {
      "application/vnd.plotly.v1+json": {
       "config": {
        "plotlyServerURL": "https://plot.ly"
       },
       "data": [
        {
         "alignmentgroup": "True",
         "cliponaxis": false,
         "legendgroup": "",
         "marker": {
          "color": [
           1161816.01,
           563175.64,
           516808.87,
           431468,
           291464.17,
           276444.91,
           218513.94,
           200635.8,
           198997.04,
           176894.95,
           156375,
           119640.62,
           104076.59,
           88687.18000000001,
           87057,
           71664.14,
           69000,
           63820.13,
           62067.29,
           59656.020000000004,
           58434.49,
           46379.1,
           44444.99,
           40077.97,
           34050.06,
           32907.01,
           24838.92,
           24075,
           22000,
           17980.69,
           16155.41,
           14007.94,
           13340,
           12882,
           11513.25,
           10494.7,
           10444.34,
           10332.9,
           9999.67,
           9947.03,
           8746.5,
           8675,
           7665.9800000000005,
           7547.46,
           7182,
           6980.66,
           6902,
           6430.88,
           5400,
           5382.3,
           4794.01,
           4329.65,
           4274.030000000001,
           3953.5699999999997,
           3885.57,
           3534,
           3524.5,
           3264,
           3231.0899999999997,
           3044.75,
           2670.94,
           2527.98,
           1975.58,
           1500.82,
           682.2,
           455,
           305.58,
           69,
           5.22
          ],
          "coloraxis": "coloraxis",
          "pattern": {
           "shape": ""
          }
         },
         "name": "",
         "offsetgroup": "",
         "orientation": "v",
         "showlegend": false,
         "textposition": "outside",
         "texttemplate": "%{y:.3s}",
         "type": "bar",
         "x": [
          "33903916",
          "33903963",
          "33903943",
          "33903304",
          "33903007",
          "33901514",
          "33903702",
          "33904016",
          "33903922",
          "33909314",
          "44905241",
          "33903004",
          "33903006",
          "33903917",
          "33903302",
          "33904012",
          "33909302",
          "44905242",
          "33903024",
          "33903309",
          "33903301",
          "44905224",
          "33903950",
          "33903944",
          "33903946",
          "33903947",
          "44905237",
          "33903017",
          "33903959",
          "44905212",
          "33903630",
          "33903022",
          "33903914",
          "33903919",
          "33909318",
          "33903025",
          "33903018",
          "33903010",
          "33903039",
          "33903958",
          "33903209",
          "33903920",
          "33903042",
          "33903012",
          "33903969",
          "33903009",
          "44905233",
          "44905230",
          "33903912",
          "33903028",
          "33904722",
          "33903044",
          "33903011",
          "33903026",
          "33903303",
          "44905234",
          "33903036",
          "33903001",
          "33914718",
          "33903021",
          "33909301",
          "33903974",
          "44905248",
          "33904710",
          "33903027",
          "33903035",
          "33903014",
          "33903016",
          "33903096"
         ],
         "xaxis": "x",
         "y": [
          1161816.01,
          563175.64,
          516808.87,
          431468,
          291464.17,
          276444.91,
          218513.94,
          200635.8,
          198997.04,
          176894.95,
          156375,
          119640.62,
          104076.59,
          88687.18000000001,
          87057,
          71664.14,
          69000,
          63820.13,
          62067.29,
          59656.020000000004,
          58434.49,
          46379.1,
          44444.99,
          40077.97,
          34050.06,
          32907.01,
          24838.92,
          24075,
          22000,
          17980.69,
          16155.41,
          14007.94,
          13340,
          12882,
          11513.25,
          10494.7,
          10444.34,
          10332.9,
          9999.67,
          9947.03,
          8746.5,
          8675,
          7665.9800000000005,
          7547.46,
          7182,
          6980.66,
          6902,
          6430.88,
          5400,
          5382.3,
          4794.01,
          4329.65,
          4274.030000000001,
          3953.5699999999997,
          3885.57,
          3534,
          3524.5,
          3264,
          3231.0899999999997,
          3044.75,
          2670.94,
          2527.98,
          1975.58,
          1500.82,
          682.2,
          455,
          305.58,
          69,
          5.22
         ],
         "yaxis": "y"
        }
       ],
       "layout": {
        "barmode": "relative",
        "coloraxis": {
         "colorbar": {
          "title": {
           "text": "Saldo a liquidar"
          }
         },
         "colorscale": [
          [
           0,
           "rgb(255,245,240)"
          ],
          [
           0.125,
           "rgb(254,224,210)"
          ],
          [
           0.25,
           "rgb(252,187,161)"
          ],
          [
           0.375,
           "rgb(252,146,114)"
          ],
          [
           0.5,
           "rgb(251,106,74)"
          ],
          [
           0.625,
           "rgb(239,59,44)"
          ],
          [
           0.75,
           "rgb(203,24,29)"
          ],
          [
           0.875,
           "rgb(165,15,21)"
          ],
          [
           1,
           "rgb(103,0,13)"
          ]
         ]
        },
        "height": 600,
        "hovermode": "x unified",
        "legend": {
         "tracegroupgap": 0
        },
        "template": {
         "data": {
          "bar": [
           {
            "error_x": {
             "color": "#f2f5fa"
            },
            "error_y": {
             "color": "#f2f5fa"
            },
            "marker": {
             "line": {
              "color": "rgb(17,17,17)",
              "width": 0.5
             },
             "pattern": {
              "fillmode": "overlay",
              "size": 10,
              "solidity": 0.2
             }
            },
            "type": "bar"
           }
          ],
          "barpolar": [
           {
            "marker": {
             "line": {
              "color": "rgb(17,17,17)",
              "width": 0.5
             },
             "pattern": {
              "fillmode": "overlay",
              "size": 10,
              "solidity": 0.2
             }
            },
            "type": "barpolar"
           }
          ],
          "carpet": [
           {
            "aaxis": {
             "endlinecolor": "#A2B1C6",
             "gridcolor": "#506784",
             "linecolor": "#506784",
             "minorgridcolor": "#506784",
             "startlinecolor": "#A2B1C6"
            },
            "baxis": {
             "endlinecolor": "#A2B1C6",
             "gridcolor": "#506784",
             "linecolor": "#506784",
             "minorgridcolor": "#506784",
             "startlinecolor": "#A2B1C6"
            },
            "type": "carpet"
           }
          ],
          "choropleth": [
           {
            "colorbar": {
             "outlinewidth": 0,
             "ticks": ""
            },
            "type": "choropleth"
           }
          ],
          "contour": [
           {
            "colorbar": {
             "outlinewidth": 0,
             "ticks": ""
            },
            "colorscale": [
             [
              0,
              "#0d0887"
             ],
             [
              0.1111111111111111,
              "#46039f"
             ],
             [
              0.2222222222222222,
              "#7201a8"
             ],
             [
              0.3333333333333333,
              "#9c179e"
             ],
             [
              0.4444444444444444,
              "#bd3786"
             ],
             [
              0.5555555555555556,
              "#d8576b"
             ],
             [
              0.6666666666666666,
              "#ed7953"
             ],
             [
              0.7777777777777778,
              "#fb9f3a"
             ],
             [
              0.8888888888888888,
              "#fdca26"
             ],
             [
              1,
              "#f0f921"
             ]
            ],
            "type": "contour"
           }
          ],
          "contourcarpet": [
           {
            "colorbar": {
             "outlinewidth": 0,
             "ticks": ""
            },
            "type": "contourcarpet"
           }
          ],
          "heatmap": [
           {
            "colorbar": {
             "outlinewidth": 0,
             "ticks": ""
            },
            "colorscale": [
             [
              0,
              "#0d0887"
             ],
             [
              0.1111111111111111,
              "#46039f"
             ],
             [
              0.2222222222222222,
              "#7201a8"
             ],
             [
              0.3333333333333333,
              "#9c179e"
             ],
             [
              0.4444444444444444,
              "#bd3786"
             ],
             [
              0.5555555555555556,
              "#d8576b"
             ],
             [
              0.6666666666666666,
              "#ed7953"
             ],
             [
              0.7777777777777778,
              "#fb9f3a"
             ],
             [
              0.8888888888888888,
              "#fdca26"
             ],
             [
              1,
              "#f0f921"
             ]
            ],
            "type": "heatmap"
           }
          ],
          "heatmapgl": [
           {
            "colorbar": {
             "outlinewidth": 0,
             "ticks": ""
            },
            "colorscale": [
             [
              0,
              "#0d0887"
             ],
             [
              0.1111111111111111,
              "#46039f"
             ],
             [
              0.2222222222222222,
              "#7201a8"
             ],
             [
              0.3333333333333333,
              "#9c179e"
             ],
             [
              0.4444444444444444,
              "#bd3786"
             ],
             [
              0.5555555555555556,
              "#d8576b"
             ],
             [
              0.6666666666666666,
              "#ed7953"
             ],
             [
              0.7777777777777778,
              "#fb9f3a"
             ],
             [
              0.8888888888888888,
              "#fdca26"
             ],
             [
              1,
              "#f0f921"
             ]
            ],
            "type": "heatmapgl"
           }
          ],
          "histogram": [
           {
            "marker": {
             "pattern": {
              "fillmode": "overlay",
              "size": 10,
              "solidity": 0.2
             }
            },
            "type": "histogram"
           }
          ],
          "histogram2d": [
           {
            "colorbar": {
             "outlinewidth": 0,
             "ticks": ""
            },
            "colorscale": [
             [
              0,
              "#0d0887"
             ],
             [
              0.1111111111111111,
              "#46039f"
             ],
             [
              0.2222222222222222,
              "#7201a8"
             ],
             [
              0.3333333333333333,
              "#9c179e"
             ],
             [
              0.4444444444444444,
              "#bd3786"
             ],
             [
              0.5555555555555556,
              "#d8576b"
             ],
             [
              0.6666666666666666,
              "#ed7953"
             ],
             [
              0.7777777777777778,
              "#fb9f3a"
             ],
             [
              0.8888888888888888,
              "#fdca26"
             ],
             [
              1,
              "#f0f921"
             ]
            ],
            "type": "histogram2d"
           }
          ],
          "histogram2dcontour": [
           {
            "colorbar": {
             "outlinewidth": 0,
             "ticks": ""
            },
            "colorscale": [
             [
              0,
              "#0d0887"
             ],
             [
              0.1111111111111111,
              "#46039f"
             ],
             [
              0.2222222222222222,
              "#7201a8"
             ],
             [
              0.3333333333333333,
              "#9c179e"
             ],
             [
              0.4444444444444444,
              "#bd3786"
             ],
             [
              0.5555555555555556,
              "#d8576b"
             ],
             [
              0.6666666666666666,
              "#ed7953"
             ],
             [
              0.7777777777777778,
              "#fb9f3a"
             ],
             [
              0.8888888888888888,
              "#fdca26"
             ],
             [
              1,
              "#f0f921"
             ]
            ],
            "type": "histogram2dcontour"
           }
          ],
          "mesh3d": [
           {
            "colorbar": {
             "outlinewidth": 0,
             "ticks": ""
            },
            "type": "mesh3d"
           }
          ],
          "parcoords": [
           {
            "line": {
             "colorbar": {
              "outlinewidth": 0,
              "ticks": ""
             }
            },
            "type": "parcoords"
           }
          ],
          "pie": [
           {
            "automargin": true,
            "type": "pie"
           }
          ],
          "scatter": [
           {
            "marker": {
             "line": {
              "color": "#283442"
             }
            },
            "type": "scatter"
           }
          ],
          "scatter3d": [
           {
            "line": {
             "colorbar": {
              "outlinewidth": 0,
              "ticks": ""
             }
            },
            "marker": {
             "colorbar": {
              "outlinewidth": 0,
              "ticks": ""
             }
            },
            "type": "scatter3d"
           }
          ],
          "scattercarpet": [
           {
            "marker": {
             "colorbar": {
              "outlinewidth": 0,
              "ticks": ""
             }
            },
            "type": "scattercarpet"
           }
          ],
          "scattergeo": [
           {
            "marker": {
             "colorbar": {
              "outlinewidth": 0,
              "ticks": ""
             }
            },
            "type": "scattergeo"
           }
          ],
          "scattergl": [
           {
            "marker": {
             "line": {
              "color": "#283442"
             }
            },
            "type": "scattergl"
           }
          ],
          "scattermapbox": [
           {
            "marker": {
             "colorbar": {
              "outlinewidth": 0,
              "ticks": ""
             }
            },
            "type": "scattermapbox"
           }
          ],
          "scatterpolar": [
           {
            "marker": {
             "colorbar": {
              "outlinewidth": 0,
              "ticks": ""
             }
            },
            "type": "scatterpolar"
           }
          ],
          "scatterpolargl": [
           {
            "marker": {
             "colorbar": {
              "outlinewidth": 0,
              "ticks": ""
             }
            },
            "type": "scatterpolargl"
           }
          ],
          "scatterternary": [
           {
            "marker": {
             "colorbar": {
              "outlinewidth": 0,
              "ticks": ""
             }
            },
            "type": "scatterternary"
           }
          ],
          "surface": [
           {
            "colorbar": {
             "outlinewidth": 0,
             "ticks": ""
            },
            "colorscale": [
             [
              0,
              "#0d0887"
             ],
             [
              0.1111111111111111,
              "#46039f"
             ],
             [
              0.2222222222222222,
              "#7201a8"
             ],
             [
              0.3333333333333333,
              "#9c179e"
             ],
             [
              0.4444444444444444,
              "#bd3786"
             ],
             [
              0.5555555555555556,
              "#d8576b"
             ],
             [
              0.6666666666666666,
              "#ed7953"
             ],
             [
              0.7777777777777778,
              "#fb9f3a"
             ],
             [
              0.8888888888888888,
              "#fdca26"
             ],
             [
              1,
              "#f0f921"
             ]
            ],
            "type": "surface"
           }
          ],
          "table": [
           {
            "cells": {
             "fill": {
              "color": "#506784"
             },
             "line": {
              "color": "rgb(17,17,17)"
             }
            },
            "header": {
             "fill": {
              "color": "#2a3f5f"
             },
             "line": {
              "color": "rgb(17,17,17)"
             }
            },
            "type": "table"
           }
          ]
         },
         "layout": {
          "annotationdefaults": {
           "arrowcolor": "#f2f5fa",
           "arrowhead": 0,
           "arrowwidth": 1
          },
          "autotypenumbers": "strict",
          "coloraxis": {
           "colorbar": {
            "outlinewidth": 0,
            "ticks": ""
           }
          },
          "colorscale": {
           "diverging": [
            [
             0,
             "#8e0152"
            ],
            [
             0.1,
             "#c51b7d"
            ],
            [
             0.2,
             "#de77ae"
            ],
            [
             0.3,
             "#f1b6da"
            ],
            [
             0.4,
             "#fde0ef"
            ],
            [
             0.5,
             "#f7f7f7"
            ],
            [
             0.6,
             "#e6f5d0"
            ],
            [
             0.7,
             "#b8e186"
            ],
            [
             0.8,
             "#7fbc41"
            ],
            [
             0.9,
             "#4d9221"
            ],
            [
             1,
             "#276419"
            ]
           ],
           "sequential": [
            [
             0,
             "#0d0887"
            ],
            [
             0.1111111111111111,
             "#46039f"
            ],
            [
             0.2222222222222222,
             "#7201a8"
            ],
            [
             0.3333333333333333,
             "#9c179e"
            ],
            [
             0.4444444444444444,
             "#bd3786"
            ],
            [
             0.5555555555555556,
             "#d8576b"
            ],
            [
             0.6666666666666666,
             "#ed7953"
            ],
            [
             0.7777777777777778,
             "#fb9f3a"
            ],
            [
             0.8888888888888888,
             "#fdca26"
            ],
            [
             1,
             "#f0f921"
            ]
           ],
           "sequentialminus": [
            [
             0,
             "#0d0887"
            ],
            [
             0.1111111111111111,
             "#46039f"
            ],
            [
             0.2222222222222222,
             "#7201a8"
            ],
            [
             0.3333333333333333,
             "#9c179e"
            ],
            [
             0.4444444444444444,
             "#bd3786"
            ],
            [
             0.5555555555555556,
             "#d8576b"
            ],
            [
             0.6666666666666666,
             "#ed7953"
            ],
            [
             0.7777777777777778,
             "#fb9f3a"
            ],
            [
             0.8888888888888888,
             "#fdca26"
            ],
            [
             1,
             "#f0f921"
            ]
           ]
          },
          "colorway": [
           "#636efa",
           "#EF553B",
           "#00cc96",
           "#ab63fa",
           "#FFA15A",
           "#19d3f3",
           "#FF6692",
           "#B6E880",
           "#FF97FF",
           "#FECB52"
          ],
          "font": {
           "color": "#f2f5fa"
          },
          "geo": {
           "bgcolor": "rgb(17,17,17)",
           "lakecolor": "rgb(17,17,17)",
           "landcolor": "rgb(17,17,17)",
           "showlakes": true,
           "showland": true,
           "subunitcolor": "#506784"
          },
          "hoverlabel": {
           "align": "left"
          },
          "hovermode": "closest",
          "mapbox": {
           "style": "dark"
          },
          "paper_bgcolor": "rgb(17,17,17)",
          "plot_bgcolor": "rgb(17,17,17)",
          "polar": {
           "angularaxis": {
            "gridcolor": "#506784",
            "linecolor": "#506784",
            "ticks": ""
           },
           "bgcolor": "rgb(17,17,17)",
           "radialaxis": {
            "gridcolor": "#506784",
            "linecolor": "#506784",
            "ticks": ""
           }
          },
          "scene": {
           "xaxis": {
            "backgroundcolor": "rgb(17,17,17)",
            "gridcolor": "#506784",
            "gridwidth": 2,
            "linecolor": "#506784",
            "showbackground": true,
            "ticks": "",
            "zerolinecolor": "#C8D4E3"
           },
           "yaxis": {
            "backgroundcolor": "rgb(17,17,17)",
            "gridcolor": "#506784",
            "gridwidth": 2,
            "linecolor": "#506784",
            "showbackground": true,
            "ticks": "",
            "zerolinecolor": "#C8D4E3"
           },
           "zaxis": {
            "backgroundcolor": "rgb(17,17,17)",
            "gridcolor": "#506784",
            "gridwidth": 2,
            "linecolor": "#506784",
            "showbackground": true,
            "ticks": "",
            "zerolinecolor": "#C8D4E3"
           }
          },
          "shapedefaults": {
           "line": {
            "color": "#f2f5fa"
           }
          },
          "sliderdefaults": {
           "bgcolor": "#C8D4E3",
           "bordercolor": "rgb(17,17,17)",
           "borderwidth": 1,
           "tickwidth": 0
          },
          "ternary": {
           "aaxis": {
            "gridcolor": "#506784",
            "linecolor": "#506784",
            "ticks": ""
           },
           "baxis": {
            "gridcolor": "#506784",
            "linecolor": "#506784",
            "ticks": ""
           },
           "bgcolor": "rgb(17,17,17)",
           "caxis": {
            "gridcolor": "#506784",
            "linecolor": "#506784",
            "ticks": ""
           }
          },
          "title": {
           "x": 0.05
          },
          "updatemenudefaults": {
           "bgcolor": "#506784",
           "borderwidth": 0
          },
          "xaxis": {
           "automargin": true,
           "gridcolor": "#283442",
           "linecolor": "#506784",
           "ticks": "",
           "title": {
            "standoff": 15
           },
           "zerolinecolor": "#283442",
           "zerolinewidth": 2
          },
          "yaxis": {
           "automargin": true,
           "gridcolor": "#283442",
           "linecolor": "#506784",
           "ticks": "",
           "title": {
            "standoff": 15
           },
           "zerolinecolor": "#283442",
           "zerolinewidth": 2
          }
         }
        },
        "title": {
         "text": "Saldo a liquidar por NDSI"
        },
        "xaxis": {
         "anchor": "y",
         "domain": [
          0,
          1
         ],
         "title": {
          "text": "Subitem da despesa"
         }
        },
        "yaxis": {
         "anchor": "x",
         "domain": [
          0,
          1
         ],
         "title": {
          "text": "Saldo a liquidar"
         },
         "type": "log"
        }
       }
      }
     },
     "metadata": {},
     "output_type": "display_data"
    }
   ],
   "source": [
    "# Saldo a liquidar por Subitem\n",
    "cols = ['NDSI', 'A_LIQUIDAR']\n",
    "\n",
    "df_aux = df.loc[:, cols].groupby('NDSI').sum().sort_values(by= 'A_LIQUIDAR', ascending=False).reset_index()\n",
    "df_aux = df_aux[df_aux['A_LIQUIDAR'] > 0]\n",
    "fig = px.bar(df_aux, \n",
    "             x='NDSI', \n",
    "             y='A_LIQUIDAR',\n",
    "             title='Saldo a liquidar por NDSI',\n",
    "             labels={'NDSI':'Subitem da despesa', 'A_LIQUIDAR':'Saldo a liquidar'},\n",
    "             text_auto='.3s',\n",
    "             height=600,\n",
    "             log_y=True,\n",
    "             color='A_LIQUIDAR',\n",
    "             color_continuous_scale = 'reds',\n",
    "             template='plotly_dark')\n",
    "fig.update_traces(textposition = 'outside', cliponaxis = False, hovertemplate=None)\n",
    "fig.update_layout(hovermode=\"x unified\")\n",
    "\n",
    "fig.show()"
   ]
  },
  {
   "cell_type": "code",
   "execution_count": 7,
   "metadata": {},
   "outputs": [
    {
     "data": {
      "application/vnd.plotly.v1+json": {
       "config": {
        "plotlyServerURL": "https://plot.ly"
       },
       "data": [
        {
         "alignmentgroup": "True",
         "cliponaxis": false,
         "legendgroup": "",
         "marker": {
          "color": [
           1131915.57,
           671088.63,
           659046.97,
           521602.88,
           431468,
           400000,
           380641.86,
           232210,
           218513.94,
           121233.8,
           104076.59,
           93193.18999999999,
           60938.05,
           41466.509999999995,
           40259.94,
           40077.97,
           34703.09,
           32907.01,
           26686.690000000002,
           26423.309999999998,
           25768.72,
           20300.59,
           19326.97,
           18147.11,
           16863.100000000002,
           14696.76,
           13613.84,
           13024.34,
           11513.25,
           9999.67,
           9999.599999999999,
           8645,
           8343.45,
           7667.34,
           7618.92,
           5499.8,
           3731.59,
           3278.23,
           3044.75,
           2838.41,
           2795.89,
           2228.99,
           1175.28,
           889.26,
           598.9,
           381.14,
           380,
           335.79,
           260,
           59.53,
           23.6,
           5.22
          ],
          "coloraxis": "coloraxis",
          "pattern": {
           "shape": ""
          }
         },
         "name": "",
         "offsetgroup": "",
         "orientation": "v",
         "showlegend": false,
         "textposition": "outside",
         "texttemplate": "%{y:.3s}",
         "type": "bar",
         "x": [
          "CAPACITACAO DE PESSOAL",
          "AQUARTELAMENTO",
          "CONCURSOS AS ESCOLAS MILITARES",
          "DESPESAS COM ENERGIA ELETRICA",
          "ATS - ATIVIDADES SETORIAIS",
          "CONSTRUIR E ADEQUAR INST SIST EDU E CULT EB",
          "A1QR - QUANTITATIVO DE RANCHO",
          "COLEGIO MILITAR - ADMINISTRACAO",
          "LIMPEZA DE BENS IMÓVEIS",
          "ATENDER NEC DECEX MODERNIZACAO OPERACIONAL",
          "ALIMENTACAO PARA EQUINOS.",
          "OUTROS",
          "ADMINISTRACAO DE OM",
          "MNT DE MÁQ E EQP ADMINISTRATIVOS",
          "ORGANIZACAO CIVIL DE SAUDE",
          "CONCESSIONÁRIAS DE ÁGUA E ESGOTO",
          "PRODUCAO DAS OMS - SIRE",
          "SERVICO POSTAIS",
          "PNR (UG)",
          "FUNADOM - DPGO",
          "ENSINO MILITAR",
          "ASSISTENCIA SOCIAL",
          "PROFISSIONAL DE SAUDE AUTONOMO",
          "PUBLICIDADE",
          "DIARIAS",
          "REMONTA E VETERINÁRIA",
          "ESCO - QUANTITATIVO DE RANCHO",
          "MEDIDAS PROFILÁT SAÚDE EQUINOS",
          "IND-INDENIZACOES",
          "MANUTENCAO DE BENS MOVEIS",
          "MANUTENCAO DE INSTALACOES",
          "MNT DE SISTEMAS DE INFORMACãO E COMUNICACãO",
          "INSTRUCAO INDIVIDUAL",
          "MANUTENCAO DE MAQUINAS E EQUIP ADMINISTRATIVO",
          "SERVICO DE TELEFONIA FIXA",
          "A3RR - QUANTITATIVO DE RANCHO",
          "LAVAGEM DE ROUPAS PARA A VIDA VEGETATIVA OM",
          "DESTAQUES DO MD PARA O GAB CMT",
          "A5PA - PASA",
          "DESLOCAMENTO",
          "IND - INDENIZACOES",
          "UNPCRS",
          "DSLC A SV PREP ADM MIS EXT",
          "FATOR DE CUSTO - CONTRATO DE OBJETIVOS",
          "DIAR - DIARIAS",
          "CRÉDITO PARA CUTEAR ATIVIDADES DO SAREX",
          "MEDIDAS PROFILÁT SAÚDE CANINOS.",
          "SERVICOS DE PROTECAO A RADIACAO IONIZANTE",
          "UNIDADE GESTORA DE PRODUCAO",
          "ATENDIMENTO MEDICO-HOPITALR/FC",
          "DESLOCAMENTO P CURSO PREP P COMANDANTES OM",
          "COMBUSTIVEL E LUBRIFICANTES"
         ],
         "xaxis": "x",
         "y": [
          1131915.57,
          671088.63,
          659046.97,
          521602.88,
          431468,
          400000,
          380641.86,
          232210,
          218513.94,
          121233.8,
          104076.59,
          93193.18999999999,
          60938.05,
          41466.509999999995,
          40259.94,
          40077.97,
          34703.09,
          32907.01,
          26686.690000000002,
          26423.309999999998,
          25768.72,
          20300.59,
          19326.97,
          18147.11,
          16863.100000000002,
          14696.76,
          13613.84,
          13024.34,
          11513.25,
          9999.67,
          9999.599999999999,
          8645,
          8343.45,
          7667.34,
          7618.92,
          5499.8,
          3731.59,
          3278.23,
          3044.75,
          2838.41,
          2795.89,
          2228.99,
          1175.28,
          889.26,
          598.9,
          381.14,
          380,
          335.79,
          260,
          59.53,
          23.6,
          5.22
         ],
         "yaxis": "y"
        }
       ],
       "layout": {
        "barmode": "relative",
        "coloraxis": {
         "colorbar": {
          "title": {
           "text": "Saldo a liquidar"
          }
         },
         "colorscale": [
          [
           0,
           "rgb(255,245,240)"
          ],
          [
           0.125,
           "rgb(254,224,210)"
          ],
          [
           0.25,
           "rgb(252,187,161)"
          ],
          [
           0.375,
           "rgb(252,146,114)"
          ],
          [
           0.5,
           "rgb(251,106,74)"
          ],
          [
           0.625,
           "rgb(239,59,44)"
          ],
          [
           0.75,
           "rgb(203,24,29)"
          ],
          [
           0.875,
           "rgb(165,15,21)"
          ],
          [
           1,
           "rgb(103,0,13)"
          ]
         ]
        },
        "height": 800,
        "hovermode": "x unified",
        "legend": {
         "tracegroupgap": 0
        },
        "template": {
         "data": {
          "bar": [
           {
            "error_x": {
             "color": "#f2f5fa"
            },
            "error_y": {
             "color": "#f2f5fa"
            },
            "marker": {
             "line": {
              "color": "rgb(17,17,17)",
              "width": 0.5
             },
             "pattern": {
              "fillmode": "overlay",
              "size": 10,
              "solidity": 0.2
             }
            },
            "type": "bar"
           }
          ],
          "barpolar": [
           {
            "marker": {
             "line": {
              "color": "rgb(17,17,17)",
              "width": 0.5
             },
             "pattern": {
              "fillmode": "overlay",
              "size": 10,
              "solidity": 0.2
             }
            },
            "type": "barpolar"
           }
          ],
          "carpet": [
           {
            "aaxis": {
             "endlinecolor": "#A2B1C6",
             "gridcolor": "#506784",
             "linecolor": "#506784",
             "minorgridcolor": "#506784",
             "startlinecolor": "#A2B1C6"
            },
            "baxis": {
             "endlinecolor": "#A2B1C6",
             "gridcolor": "#506784",
             "linecolor": "#506784",
             "minorgridcolor": "#506784",
             "startlinecolor": "#A2B1C6"
            },
            "type": "carpet"
           }
          ],
          "choropleth": [
           {
            "colorbar": {
             "outlinewidth": 0,
             "ticks": ""
            },
            "type": "choropleth"
           }
          ],
          "contour": [
           {
            "colorbar": {
             "outlinewidth": 0,
             "ticks": ""
            },
            "colorscale": [
             [
              0,
              "#0d0887"
             ],
             [
              0.1111111111111111,
              "#46039f"
             ],
             [
              0.2222222222222222,
              "#7201a8"
             ],
             [
              0.3333333333333333,
              "#9c179e"
             ],
             [
              0.4444444444444444,
              "#bd3786"
             ],
             [
              0.5555555555555556,
              "#d8576b"
             ],
             [
              0.6666666666666666,
              "#ed7953"
             ],
             [
              0.7777777777777778,
              "#fb9f3a"
             ],
             [
              0.8888888888888888,
              "#fdca26"
             ],
             [
              1,
              "#f0f921"
             ]
            ],
            "type": "contour"
           }
          ],
          "contourcarpet": [
           {
            "colorbar": {
             "outlinewidth": 0,
             "ticks": ""
            },
            "type": "contourcarpet"
           }
          ],
          "heatmap": [
           {
            "colorbar": {
             "outlinewidth": 0,
             "ticks": ""
            },
            "colorscale": [
             [
              0,
              "#0d0887"
             ],
             [
              0.1111111111111111,
              "#46039f"
             ],
             [
              0.2222222222222222,
              "#7201a8"
             ],
             [
              0.3333333333333333,
              "#9c179e"
             ],
             [
              0.4444444444444444,
              "#bd3786"
             ],
             [
              0.5555555555555556,
              "#d8576b"
             ],
             [
              0.6666666666666666,
              "#ed7953"
             ],
             [
              0.7777777777777778,
              "#fb9f3a"
             ],
             [
              0.8888888888888888,
              "#fdca26"
             ],
             [
              1,
              "#f0f921"
             ]
            ],
            "type": "heatmap"
           }
          ],
          "heatmapgl": [
           {
            "colorbar": {
             "outlinewidth": 0,
             "ticks": ""
            },
            "colorscale": [
             [
              0,
              "#0d0887"
             ],
             [
              0.1111111111111111,
              "#46039f"
             ],
             [
              0.2222222222222222,
              "#7201a8"
             ],
             [
              0.3333333333333333,
              "#9c179e"
             ],
             [
              0.4444444444444444,
              "#bd3786"
             ],
             [
              0.5555555555555556,
              "#d8576b"
             ],
             [
              0.6666666666666666,
              "#ed7953"
             ],
             [
              0.7777777777777778,
              "#fb9f3a"
             ],
             [
              0.8888888888888888,
              "#fdca26"
             ],
             [
              1,
              "#f0f921"
             ]
            ],
            "type": "heatmapgl"
           }
          ],
          "histogram": [
           {
            "marker": {
             "pattern": {
              "fillmode": "overlay",
              "size": 10,
              "solidity": 0.2
             }
            },
            "type": "histogram"
           }
          ],
          "histogram2d": [
           {
            "colorbar": {
             "outlinewidth": 0,
             "ticks": ""
            },
            "colorscale": [
             [
              0,
              "#0d0887"
             ],
             [
              0.1111111111111111,
              "#46039f"
             ],
             [
              0.2222222222222222,
              "#7201a8"
             ],
             [
              0.3333333333333333,
              "#9c179e"
             ],
             [
              0.4444444444444444,
              "#bd3786"
             ],
             [
              0.5555555555555556,
              "#d8576b"
             ],
             [
              0.6666666666666666,
              "#ed7953"
             ],
             [
              0.7777777777777778,
              "#fb9f3a"
             ],
             [
              0.8888888888888888,
              "#fdca26"
             ],
             [
              1,
              "#f0f921"
             ]
            ],
            "type": "histogram2d"
           }
          ],
          "histogram2dcontour": [
           {
            "colorbar": {
             "outlinewidth": 0,
             "ticks": ""
            },
            "colorscale": [
             [
              0,
              "#0d0887"
             ],
             [
              0.1111111111111111,
              "#46039f"
             ],
             [
              0.2222222222222222,
              "#7201a8"
             ],
             [
              0.3333333333333333,
              "#9c179e"
             ],
             [
              0.4444444444444444,
              "#bd3786"
             ],
             [
              0.5555555555555556,
              "#d8576b"
             ],
             [
              0.6666666666666666,
              "#ed7953"
             ],
             [
              0.7777777777777778,
              "#fb9f3a"
             ],
             [
              0.8888888888888888,
              "#fdca26"
             ],
             [
              1,
              "#f0f921"
             ]
            ],
            "type": "histogram2dcontour"
           }
          ],
          "mesh3d": [
           {
            "colorbar": {
             "outlinewidth": 0,
             "ticks": ""
            },
            "type": "mesh3d"
           }
          ],
          "parcoords": [
           {
            "line": {
             "colorbar": {
              "outlinewidth": 0,
              "ticks": ""
             }
            },
            "type": "parcoords"
           }
          ],
          "pie": [
           {
            "automargin": true,
            "type": "pie"
           }
          ],
          "scatter": [
           {
            "marker": {
             "line": {
              "color": "#283442"
             }
            },
            "type": "scatter"
           }
          ],
          "scatter3d": [
           {
            "line": {
             "colorbar": {
              "outlinewidth": 0,
              "ticks": ""
             }
            },
            "marker": {
             "colorbar": {
              "outlinewidth": 0,
              "ticks": ""
             }
            },
            "type": "scatter3d"
           }
          ],
          "scattercarpet": [
           {
            "marker": {
             "colorbar": {
              "outlinewidth": 0,
              "ticks": ""
             }
            },
            "type": "scattercarpet"
           }
          ],
          "scattergeo": [
           {
            "marker": {
             "colorbar": {
              "outlinewidth": 0,
              "ticks": ""
             }
            },
            "type": "scattergeo"
           }
          ],
          "scattergl": [
           {
            "marker": {
             "line": {
              "color": "#283442"
             }
            },
            "type": "scattergl"
           }
          ],
          "scattermapbox": [
           {
            "marker": {
             "colorbar": {
              "outlinewidth": 0,
              "ticks": ""
             }
            },
            "type": "scattermapbox"
           }
          ],
          "scatterpolar": [
           {
            "marker": {
             "colorbar": {
              "outlinewidth": 0,
              "ticks": ""
             }
            },
            "type": "scatterpolar"
           }
          ],
          "scatterpolargl": [
           {
            "marker": {
             "colorbar": {
              "outlinewidth": 0,
              "ticks": ""
             }
            },
            "type": "scatterpolargl"
           }
          ],
          "scatterternary": [
           {
            "marker": {
             "colorbar": {
              "outlinewidth": 0,
              "ticks": ""
             }
            },
            "type": "scatterternary"
           }
          ],
          "surface": [
           {
            "colorbar": {
             "outlinewidth": 0,
             "ticks": ""
            },
            "colorscale": [
             [
              0,
              "#0d0887"
             ],
             [
              0.1111111111111111,
              "#46039f"
             ],
             [
              0.2222222222222222,
              "#7201a8"
             ],
             [
              0.3333333333333333,
              "#9c179e"
             ],
             [
              0.4444444444444444,
              "#bd3786"
             ],
             [
              0.5555555555555556,
              "#d8576b"
             ],
             [
              0.6666666666666666,
              "#ed7953"
             ],
             [
              0.7777777777777778,
              "#fb9f3a"
             ],
             [
              0.8888888888888888,
              "#fdca26"
             ],
             [
              1,
              "#f0f921"
             ]
            ],
            "type": "surface"
           }
          ],
          "table": [
           {
            "cells": {
             "fill": {
              "color": "#506784"
             },
             "line": {
              "color": "rgb(17,17,17)"
             }
            },
            "header": {
             "fill": {
              "color": "#2a3f5f"
             },
             "line": {
              "color": "rgb(17,17,17)"
             }
            },
            "type": "table"
           }
          ]
         },
         "layout": {
          "annotationdefaults": {
           "arrowcolor": "#f2f5fa",
           "arrowhead": 0,
           "arrowwidth": 1
          },
          "autotypenumbers": "strict",
          "coloraxis": {
           "colorbar": {
            "outlinewidth": 0,
            "ticks": ""
           }
          },
          "colorscale": {
           "diverging": [
            [
             0,
             "#8e0152"
            ],
            [
             0.1,
             "#c51b7d"
            ],
            [
             0.2,
             "#de77ae"
            ],
            [
             0.3,
             "#f1b6da"
            ],
            [
             0.4,
             "#fde0ef"
            ],
            [
             0.5,
             "#f7f7f7"
            ],
            [
             0.6,
             "#e6f5d0"
            ],
            [
             0.7,
             "#b8e186"
            ],
            [
             0.8,
             "#7fbc41"
            ],
            [
             0.9,
             "#4d9221"
            ],
            [
             1,
             "#276419"
            ]
           ],
           "sequential": [
            [
             0,
             "#0d0887"
            ],
            [
             0.1111111111111111,
             "#46039f"
            ],
            [
             0.2222222222222222,
             "#7201a8"
            ],
            [
             0.3333333333333333,
             "#9c179e"
            ],
            [
             0.4444444444444444,
             "#bd3786"
            ],
            [
             0.5555555555555556,
             "#d8576b"
            ],
            [
             0.6666666666666666,
             "#ed7953"
            ],
            [
             0.7777777777777778,
             "#fb9f3a"
            ],
            [
             0.8888888888888888,
             "#fdca26"
            ],
            [
             1,
             "#f0f921"
            ]
           ],
           "sequentialminus": [
            [
             0,
             "#0d0887"
            ],
            [
             0.1111111111111111,
             "#46039f"
            ],
            [
             0.2222222222222222,
             "#7201a8"
            ],
            [
             0.3333333333333333,
             "#9c179e"
            ],
            [
             0.4444444444444444,
             "#bd3786"
            ],
            [
             0.5555555555555556,
             "#d8576b"
            ],
            [
             0.6666666666666666,
             "#ed7953"
            ],
            [
             0.7777777777777778,
             "#fb9f3a"
            ],
            [
             0.8888888888888888,
             "#fdca26"
            ],
            [
             1,
             "#f0f921"
            ]
           ]
          },
          "colorway": [
           "#636efa",
           "#EF553B",
           "#00cc96",
           "#ab63fa",
           "#FFA15A",
           "#19d3f3",
           "#FF6692",
           "#B6E880",
           "#FF97FF",
           "#FECB52"
          ],
          "font": {
           "color": "#f2f5fa"
          },
          "geo": {
           "bgcolor": "rgb(17,17,17)",
           "lakecolor": "rgb(17,17,17)",
           "landcolor": "rgb(17,17,17)",
           "showlakes": true,
           "showland": true,
           "subunitcolor": "#506784"
          },
          "hoverlabel": {
           "align": "left"
          },
          "hovermode": "closest",
          "mapbox": {
           "style": "dark"
          },
          "paper_bgcolor": "rgb(17,17,17)",
          "plot_bgcolor": "rgb(17,17,17)",
          "polar": {
           "angularaxis": {
            "gridcolor": "#506784",
            "linecolor": "#506784",
            "ticks": ""
           },
           "bgcolor": "rgb(17,17,17)",
           "radialaxis": {
            "gridcolor": "#506784",
            "linecolor": "#506784",
            "ticks": ""
           }
          },
          "scene": {
           "xaxis": {
            "backgroundcolor": "rgb(17,17,17)",
            "gridcolor": "#506784",
            "gridwidth": 2,
            "linecolor": "#506784",
            "showbackground": true,
            "ticks": "",
            "zerolinecolor": "#C8D4E3"
           },
           "yaxis": {
            "backgroundcolor": "rgb(17,17,17)",
            "gridcolor": "#506784",
            "gridwidth": 2,
            "linecolor": "#506784",
            "showbackground": true,
            "ticks": "",
            "zerolinecolor": "#C8D4E3"
           },
           "zaxis": {
            "backgroundcolor": "rgb(17,17,17)",
            "gridcolor": "#506784",
            "gridwidth": 2,
            "linecolor": "#506784",
            "showbackground": true,
            "ticks": "",
            "zerolinecolor": "#C8D4E3"
           }
          },
          "shapedefaults": {
           "line": {
            "color": "#f2f5fa"
           }
          },
          "sliderdefaults": {
           "bgcolor": "#C8D4E3",
           "bordercolor": "rgb(17,17,17)",
           "borderwidth": 1,
           "tickwidth": 0
          },
          "ternary": {
           "aaxis": {
            "gridcolor": "#506784",
            "linecolor": "#506784",
            "ticks": ""
           },
           "baxis": {
            "gridcolor": "#506784",
            "linecolor": "#506784",
            "ticks": ""
           },
           "bgcolor": "rgb(17,17,17)",
           "caxis": {
            "gridcolor": "#506784",
            "linecolor": "#506784",
            "ticks": ""
           }
          },
          "title": {
           "x": 0.05
          },
          "updatemenudefaults": {
           "bgcolor": "#506784",
           "borderwidth": 0
          },
          "xaxis": {
           "automargin": true,
           "gridcolor": "#283442",
           "linecolor": "#506784",
           "ticks": "",
           "title": {
            "standoff": 15
           },
           "zerolinecolor": "#283442",
           "zerolinewidth": 2
          },
          "yaxis": {
           "automargin": true,
           "gridcolor": "#283442",
           "linecolor": "#506784",
           "ticks": "",
           "title": {
            "standoff": 15
           },
           "zerolinecolor": "#283442",
           "zerolinewidth": 2
          }
         }
        },
        "title": {
         "text": "Saldo a liquidar por PI"
        },
        "xaxis": {
         "anchor": "y",
         "domain": [
          0,
          1
         ],
         "title": {
          "text": "Tipo de PI"
         }
        },
        "yaxis": {
         "anchor": "x",
         "domain": [
          0,
          1
         ],
         "title": {
          "text": "Saldo a liquidar"
         },
         "type": "log"
        }
       }
      }
     },
     "metadata": {},
     "output_type": "display_data"
    }
   ],
   "source": [
    "# Saldo a liquidar por tipo de PI\n",
    "cols = ['NOME_PI', 'A_LIQUIDAR']\n",
    "\n",
    "df_aux = df.loc[:, cols].groupby('NOME_PI').sum().sort_values(by= 'A_LIQUIDAR', ascending=False).reset_index()\n",
    "df_aux = df_aux[df_aux['A_LIQUIDAR'] > 0]\n",
    "fig = px.bar(df_aux, \n",
    "             x='NOME_PI', \n",
    "             y='A_LIQUIDAR',\n",
    "             title='Saldo a liquidar por PI',\n",
    "             labels={'NOME_PI':'Tipo de PI', 'A_LIQUIDAR':'Saldo a liquidar'},\n",
    "             text_auto='.3s',\n",
    "             height=800,\n",
    "             log_y=True,\n",
    "             color='A_LIQUIDAR',\n",
    "             color_continuous_scale = 'reds',\n",
    "             template='plotly_dark')\n",
    "fig.update_traces(textposition = 'outside', cliponaxis = False, hovertemplate=None)\n",
    "fig.update_layout(hovermode=\"x unified\")\n",
    "\n",
    "fig.show()"
   ]
  },
  {
   "cell_type": "code",
   "execution_count": 8,
   "metadata": {},
   "outputs": [
    {
     "data": {
      "application/vnd.plotly.v1+json": {
       "config": {
        "plotlyServerURL": "https://plot.ly"
       },
       "data": [
        {
         "alignmentgroup": "True",
         "cliponaxis": false,
         "legendgroup": "",
         "marker": {
          "color": [
           5060293.08,
           441215.96
          ],
          "coloraxis": "coloraxis",
          "pattern": {
           "shape": ""
          }
         },
         "name": "",
         "offsetgroup": "",
         "orientation": "v",
         "showlegend": false,
         "textposition": "outside",
         "texttemplate": "%{y:.3s}",
         "type": "bar",
         "x": [
          "ANO",
          "RPNP"
         ],
         "xaxis": "x",
         "y": [
          5060293.08,
          441215.96
         ],
         "yaxis": "y"
        }
       ],
       "layout": {
        "barmode": "relative",
        "coloraxis": {
         "colorbar": {
          "title": {
           "text": "Saldo a liquidar"
          }
         },
         "colorscale": [
          [
           0,
           "rgb(255,245,240)"
          ],
          [
           0.125,
           "rgb(254,224,210)"
          ],
          [
           0.25,
           "rgb(252,187,161)"
          ],
          [
           0.375,
           "rgb(252,146,114)"
          ],
          [
           0.5,
           "rgb(251,106,74)"
          ],
          [
           0.625,
           "rgb(239,59,44)"
          ],
          [
           0.75,
           "rgb(203,24,29)"
          ],
          [
           0.875,
           "rgb(165,15,21)"
          ],
          [
           1,
           "rgb(103,0,13)"
          ]
         ]
        },
        "height": 400,
        "hovermode": "x unified",
        "legend": {
         "tracegroupgap": 0
        },
        "template": {
         "data": {
          "bar": [
           {
            "error_x": {
             "color": "#f2f5fa"
            },
            "error_y": {
             "color": "#f2f5fa"
            },
            "marker": {
             "line": {
              "color": "rgb(17,17,17)",
              "width": 0.5
             },
             "pattern": {
              "fillmode": "overlay",
              "size": 10,
              "solidity": 0.2
             }
            },
            "type": "bar"
           }
          ],
          "barpolar": [
           {
            "marker": {
             "line": {
              "color": "rgb(17,17,17)",
              "width": 0.5
             },
             "pattern": {
              "fillmode": "overlay",
              "size": 10,
              "solidity": 0.2
             }
            },
            "type": "barpolar"
           }
          ],
          "carpet": [
           {
            "aaxis": {
             "endlinecolor": "#A2B1C6",
             "gridcolor": "#506784",
             "linecolor": "#506784",
             "minorgridcolor": "#506784",
             "startlinecolor": "#A2B1C6"
            },
            "baxis": {
             "endlinecolor": "#A2B1C6",
             "gridcolor": "#506784",
             "linecolor": "#506784",
             "minorgridcolor": "#506784",
             "startlinecolor": "#A2B1C6"
            },
            "type": "carpet"
           }
          ],
          "choropleth": [
           {
            "colorbar": {
             "outlinewidth": 0,
             "ticks": ""
            },
            "type": "choropleth"
           }
          ],
          "contour": [
           {
            "colorbar": {
             "outlinewidth": 0,
             "ticks": ""
            },
            "colorscale": [
             [
              0,
              "#0d0887"
             ],
             [
              0.1111111111111111,
              "#46039f"
             ],
             [
              0.2222222222222222,
              "#7201a8"
             ],
             [
              0.3333333333333333,
              "#9c179e"
             ],
             [
              0.4444444444444444,
              "#bd3786"
             ],
             [
              0.5555555555555556,
              "#d8576b"
             ],
             [
              0.6666666666666666,
              "#ed7953"
             ],
             [
              0.7777777777777778,
              "#fb9f3a"
             ],
             [
              0.8888888888888888,
              "#fdca26"
             ],
             [
              1,
              "#f0f921"
             ]
            ],
            "type": "contour"
           }
          ],
          "contourcarpet": [
           {
            "colorbar": {
             "outlinewidth": 0,
             "ticks": ""
            },
            "type": "contourcarpet"
           }
          ],
          "heatmap": [
           {
            "colorbar": {
             "outlinewidth": 0,
             "ticks": ""
            },
            "colorscale": [
             [
              0,
              "#0d0887"
             ],
             [
              0.1111111111111111,
              "#46039f"
             ],
             [
              0.2222222222222222,
              "#7201a8"
             ],
             [
              0.3333333333333333,
              "#9c179e"
             ],
             [
              0.4444444444444444,
              "#bd3786"
             ],
             [
              0.5555555555555556,
              "#d8576b"
             ],
             [
              0.6666666666666666,
              "#ed7953"
             ],
             [
              0.7777777777777778,
              "#fb9f3a"
             ],
             [
              0.8888888888888888,
              "#fdca26"
             ],
             [
              1,
              "#f0f921"
             ]
            ],
            "type": "heatmap"
           }
          ],
          "heatmapgl": [
           {
            "colorbar": {
             "outlinewidth": 0,
             "ticks": ""
            },
            "colorscale": [
             [
              0,
              "#0d0887"
             ],
             [
              0.1111111111111111,
              "#46039f"
             ],
             [
              0.2222222222222222,
              "#7201a8"
             ],
             [
              0.3333333333333333,
              "#9c179e"
             ],
             [
              0.4444444444444444,
              "#bd3786"
             ],
             [
              0.5555555555555556,
              "#d8576b"
             ],
             [
              0.6666666666666666,
              "#ed7953"
             ],
             [
              0.7777777777777778,
              "#fb9f3a"
             ],
             [
              0.8888888888888888,
              "#fdca26"
             ],
             [
              1,
              "#f0f921"
             ]
            ],
            "type": "heatmapgl"
           }
          ],
          "histogram": [
           {
            "marker": {
             "pattern": {
              "fillmode": "overlay",
              "size": 10,
              "solidity": 0.2
             }
            },
            "type": "histogram"
           }
          ],
          "histogram2d": [
           {
            "colorbar": {
             "outlinewidth": 0,
             "ticks": ""
            },
            "colorscale": [
             [
              0,
              "#0d0887"
             ],
             [
              0.1111111111111111,
              "#46039f"
             ],
             [
              0.2222222222222222,
              "#7201a8"
             ],
             [
              0.3333333333333333,
              "#9c179e"
             ],
             [
              0.4444444444444444,
              "#bd3786"
             ],
             [
              0.5555555555555556,
              "#d8576b"
             ],
             [
              0.6666666666666666,
              "#ed7953"
             ],
             [
              0.7777777777777778,
              "#fb9f3a"
             ],
             [
              0.8888888888888888,
              "#fdca26"
             ],
             [
              1,
              "#f0f921"
             ]
            ],
            "type": "histogram2d"
           }
          ],
          "histogram2dcontour": [
           {
            "colorbar": {
             "outlinewidth": 0,
             "ticks": ""
            },
            "colorscale": [
             [
              0,
              "#0d0887"
             ],
             [
              0.1111111111111111,
              "#46039f"
             ],
             [
              0.2222222222222222,
              "#7201a8"
             ],
             [
              0.3333333333333333,
              "#9c179e"
             ],
             [
              0.4444444444444444,
              "#bd3786"
             ],
             [
              0.5555555555555556,
              "#d8576b"
             ],
             [
              0.6666666666666666,
              "#ed7953"
             ],
             [
              0.7777777777777778,
              "#fb9f3a"
             ],
             [
              0.8888888888888888,
              "#fdca26"
             ],
             [
              1,
              "#f0f921"
             ]
            ],
            "type": "histogram2dcontour"
           }
          ],
          "mesh3d": [
           {
            "colorbar": {
             "outlinewidth": 0,
             "ticks": ""
            },
            "type": "mesh3d"
           }
          ],
          "parcoords": [
           {
            "line": {
             "colorbar": {
              "outlinewidth": 0,
              "ticks": ""
             }
            },
            "type": "parcoords"
           }
          ],
          "pie": [
           {
            "automargin": true,
            "type": "pie"
           }
          ],
          "scatter": [
           {
            "marker": {
             "line": {
              "color": "#283442"
             }
            },
            "type": "scatter"
           }
          ],
          "scatter3d": [
           {
            "line": {
             "colorbar": {
              "outlinewidth": 0,
              "ticks": ""
             }
            },
            "marker": {
             "colorbar": {
              "outlinewidth": 0,
              "ticks": ""
             }
            },
            "type": "scatter3d"
           }
          ],
          "scattercarpet": [
           {
            "marker": {
             "colorbar": {
              "outlinewidth": 0,
              "ticks": ""
             }
            },
            "type": "scattercarpet"
           }
          ],
          "scattergeo": [
           {
            "marker": {
             "colorbar": {
              "outlinewidth": 0,
              "ticks": ""
             }
            },
            "type": "scattergeo"
           }
          ],
          "scattergl": [
           {
            "marker": {
             "line": {
              "color": "#283442"
             }
            },
            "type": "scattergl"
           }
          ],
          "scattermapbox": [
           {
            "marker": {
             "colorbar": {
              "outlinewidth": 0,
              "ticks": ""
             }
            },
            "type": "scattermapbox"
           }
          ],
          "scatterpolar": [
           {
            "marker": {
             "colorbar": {
              "outlinewidth": 0,
              "ticks": ""
             }
            },
            "type": "scatterpolar"
           }
          ],
          "scatterpolargl": [
           {
            "marker": {
             "colorbar": {
              "outlinewidth": 0,
              "ticks": ""
             }
            },
            "type": "scatterpolargl"
           }
          ],
          "scatterternary": [
           {
            "marker": {
             "colorbar": {
              "outlinewidth": 0,
              "ticks": ""
             }
            },
            "type": "scatterternary"
           }
          ],
          "surface": [
           {
            "colorbar": {
             "outlinewidth": 0,
             "ticks": ""
            },
            "colorscale": [
             [
              0,
              "#0d0887"
             ],
             [
              0.1111111111111111,
              "#46039f"
             ],
             [
              0.2222222222222222,
              "#7201a8"
             ],
             [
              0.3333333333333333,
              "#9c179e"
             ],
             [
              0.4444444444444444,
              "#bd3786"
             ],
             [
              0.5555555555555556,
              "#d8576b"
             ],
             [
              0.6666666666666666,
              "#ed7953"
             ],
             [
              0.7777777777777778,
              "#fb9f3a"
             ],
             [
              0.8888888888888888,
              "#fdca26"
             ],
             [
              1,
              "#f0f921"
             ]
            ],
            "type": "surface"
           }
          ],
          "table": [
           {
            "cells": {
             "fill": {
              "color": "#506784"
             },
             "line": {
              "color": "rgb(17,17,17)"
             }
            },
            "header": {
             "fill": {
              "color": "#2a3f5f"
             },
             "line": {
              "color": "rgb(17,17,17)"
             }
            },
            "type": "table"
           }
          ]
         },
         "layout": {
          "annotationdefaults": {
           "arrowcolor": "#f2f5fa",
           "arrowhead": 0,
           "arrowwidth": 1
          },
          "autotypenumbers": "strict",
          "coloraxis": {
           "colorbar": {
            "outlinewidth": 0,
            "ticks": ""
           }
          },
          "colorscale": {
           "diverging": [
            [
             0,
             "#8e0152"
            ],
            [
             0.1,
             "#c51b7d"
            ],
            [
             0.2,
             "#de77ae"
            ],
            [
             0.3,
             "#f1b6da"
            ],
            [
             0.4,
             "#fde0ef"
            ],
            [
             0.5,
             "#f7f7f7"
            ],
            [
             0.6,
             "#e6f5d0"
            ],
            [
             0.7,
             "#b8e186"
            ],
            [
             0.8,
             "#7fbc41"
            ],
            [
             0.9,
             "#4d9221"
            ],
            [
             1,
             "#276419"
            ]
           ],
           "sequential": [
            [
             0,
             "#0d0887"
            ],
            [
             0.1111111111111111,
             "#46039f"
            ],
            [
             0.2222222222222222,
             "#7201a8"
            ],
            [
             0.3333333333333333,
             "#9c179e"
            ],
            [
             0.4444444444444444,
             "#bd3786"
            ],
            [
             0.5555555555555556,
             "#d8576b"
            ],
            [
             0.6666666666666666,
             "#ed7953"
            ],
            [
             0.7777777777777778,
             "#fb9f3a"
            ],
            [
             0.8888888888888888,
             "#fdca26"
            ],
            [
             1,
             "#f0f921"
            ]
           ],
           "sequentialminus": [
            [
             0,
             "#0d0887"
            ],
            [
             0.1111111111111111,
             "#46039f"
            ],
            [
             0.2222222222222222,
             "#7201a8"
            ],
            [
             0.3333333333333333,
             "#9c179e"
            ],
            [
             0.4444444444444444,
             "#bd3786"
            ],
            [
             0.5555555555555556,
             "#d8576b"
            ],
            [
             0.6666666666666666,
             "#ed7953"
            ],
            [
             0.7777777777777778,
             "#fb9f3a"
            ],
            [
             0.8888888888888888,
             "#fdca26"
            ],
            [
             1,
             "#f0f921"
            ]
           ]
          },
          "colorway": [
           "#636efa",
           "#EF553B",
           "#00cc96",
           "#ab63fa",
           "#FFA15A",
           "#19d3f3",
           "#FF6692",
           "#B6E880",
           "#FF97FF",
           "#FECB52"
          ],
          "font": {
           "color": "#f2f5fa"
          },
          "geo": {
           "bgcolor": "rgb(17,17,17)",
           "lakecolor": "rgb(17,17,17)",
           "landcolor": "rgb(17,17,17)",
           "showlakes": true,
           "showland": true,
           "subunitcolor": "#506784"
          },
          "hoverlabel": {
           "align": "left"
          },
          "hovermode": "closest",
          "mapbox": {
           "style": "dark"
          },
          "paper_bgcolor": "rgb(17,17,17)",
          "plot_bgcolor": "rgb(17,17,17)",
          "polar": {
           "angularaxis": {
            "gridcolor": "#506784",
            "linecolor": "#506784",
            "ticks": ""
           },
           "bgcolor": "rgb(17,17,17)",
           "radialaxis": {
            "gridcolor": "#506784",
            "linecolor": "#506784",
            "ticks": ""
           }
          },
          "scene": {
           "xaxis": {
            "backgroundcolor": "rgb(17,17,17)",
            "gridcolor": "#506784",
            "gridwidth": 2,
            "linecolor": "#506784",
            "showbackground": true,
            "ticks": "",
            "zerolinecolor": "#C8D4E3"
           },
           "yaxis": {
            "backgroundcolor": "rgb(17,17,17)",
            "gridcolor": "#506784",
            "gridwidth": 2,
            "linecolor": "#506784",
            "showbackground": true,
            "ticks": "",
            "zerolinecolor": "#C8D4E3"
           },
           "zaxis": {
            "backgroundcolor": "rgb(17,17,17)",
            "gridcolor": "#506784",
            "gridwidth": 2,
            "linecolor": "#506784",
            "showbackground": true,
            "ticks": "",
            "zerolinecolor": "#C8D4E3"
           }
          },
          "shapedefaults": {
           "line": {
            "color": "#f2f5fa"
           }
          },
          "sliderdefaults": {
           "bgcolor": "#C8D4E3",
           "bordercolor": "rgb(17,17,17)",
           "borderwidth": 1,
           "tickwidth": 0
          },
          "ternary": {
           "aaxis": {
            "gridcolor": "#506784",
            "linecolor": "#506784",
            "ticks": ""
           },
           "baxis": {
            "gridcolor": "#506784",
            "linecolor": "#506784",
            "ticks": ""
           },
           "bgcolor": "rgb(17,17,17)",
           "caxis": {
            "gridcolor": "#506784",
            "linecolor": "#506784",
            "ticks": ""
           }
          },
          "title": {
           "x": 0.05
          },
          "updatemenudefaults": {
           "bgcolor": "#506784",
           "borderwidth": 0
          },
          "xaxis": {
           "automargin": true,
           "gridcolor": "#283442",
           "linecolor": "#506784",
           "ticks": "",
           "title": {
            "standoff": 15
           },
           "zerolinecolor": "#283442",
           "zerolinewidth": 2
          },
          "yaxis": {
           "automargin": true,
           "gridcolor": "#283442",
           "linecolor": "#506784",
           "ticks": "",
           "title": {
            "standoff": 15
           },
           "zerolinecolor": "#283442",
           "zerolinewidth": 2
          }
         }
        },
        "title": {
         "text": "Saldo a liquidar por tipo de empenho"
        },
        "xaxis": {
         "anchor": "y",
         "domain": [
          0,
          1
         ],
         "title": {
          "text": "Tipo de Empenho"
         }
        },
        "yaxis": {
         "anchor": "x",
         "domain": [
          0,
          1
         ],
         "title": {
          "text": "Saldo a liquidar"
         },
         "type": "log"
        }
       }
      }
     },
     "metadata": {},
     "output_type": "display_data"
    }
   ],
   "source": [
    "# Saldo a liquidar por tipo de Empenho\n",
    "cols = ['TIPO', 'A_LIQUIDAR']\n",
    "\n",
    "df_aux = df.loc[:, cols].groupby('TIPO').sum().sort_values(by= 'A_LIQUIDAR', ascending=False).reset_index()\n",
    "df_aux = df_aux[df_aux['A_LIQUIDAR'] > 0]\n",
    "fig = px.bar(df_aux, \n",
    "             x='TIPO', \n",
    "             y='A_LIQUIDAR',\n",
    "             title='Saldo a liquidar por tipo de empenho',\n",
    "             labels={'TIPO':'Tipo de Empenho', 'A_LIQUIDAR':'Saldo a liquidar'},\n",
    "             text_auto='.3s',\n",
    "             height=400,\n",
    "             log_y=True,\n",
    "             color='A_LIQUIDAR',\n",
    "             color_continuous_scale = 'reds',\n",
    "             template='plotly_dark')\n",
    "fig.update_traces(textposition = 'outside', cliponaxis = False, hovertemplate=None)\n",
    "fig.update_layout(hovermode=\"x unified\")\n",
    "\n",
    "fig.show()"
   ]
  },
  {
   "cell_type": "code",
   "execution_count": 9,
   "metadata": {},
   "outputs": [
    {
     "data": {
      "application/vnd.plotly.v1+json": {
       "config": {
        "plotlyServerURL": "https://plot.ly"
       },
       "data": [
        {
         "alignmentgroup": "True",
         "cliponaxis": false,
         "legendgroup": "",
         "marker": {
          "color": [
           5060293.08,
           441215.96
          ],
          "coloraxis": "coloraxis",
          "pattern": {
           "shape": ""
          }
         },
         "name": "",
         "offsetgroup": "",
         "orientation": "v",
         "showlegend": false,
         "textposition": "outside",
         "texttemplate": "%{y:.3s}",
         "type": "bar",
         "x": [
          "2023",
          "2022"
         ],
         "xaxis": "x",
         "y": [
          5060293.08,
          441215.96
         ],
         "yaxis": "y"
        }
       ],
       "layout": {
        "barmode": "relative",
        "coloraxis": {
         "colorbar": {
          "title": {
           "text": "Saldo a liquidar"
          }
         },
         "colorscale": [
          [
           0,
           "rgb(255,245,240)"
          ],
          [
           0.125,
           "rgb(254,224,210)"
          ],
          [
           0.25,
           "rgb(252,187,161)"
          ],
          [
           0.375,
           "rgb(252,146,114)"
          ],
          [
           0.5,
           "rgb(251,106,74)"
          ],
          [
           0.625,
           "rgb(239,59,44)"
          ],
          [
           0.75,
           "rgb(203,24,29)"
          ],
          [
           0.875,
           "rgb(165,15,21)"
          ],
          [
           1,
           "rgb(103,0,13)"
          ]
         ]
        },
        "height": 400,
        "hovermode": "x unified",
        "legend": {
         "tracegroupgap": 0
        },
        "template": {
         "data": {
          "bar": [
           {
            "error_x": {
             "color": "#f2f5fa"
            },
            "error_y": {
             "color": "#f2f5fa"
            },
            "marker": {
             "line": {
              "color": "rgb(17,17,17)",
              "width": 0.5
             },
             "pattern": {
              "fillmode": "overlay",
              "size": 10,
              "solidity": 0.2
             }
            },
            "type": "bar"
           }
          ],
          "barpolar": [
           {
            "marker": {
             "line": {
              "color": "rgb(17,17,17)",
              "width": 0.5
             },
             "pattern": {
              "fillmode": "overlay",
              "size": 10,
              "solidity": 0.2
             }
            },
            "type": "barpolar"
           }
          ],
          "carpet": [
           {
            "aaxis": {
             "endlinecolor": "#A2B1C6",
             "gridcolor": "#506784",
             "linecolor": "#506784",
             "minorgridcolor": "#506784",
             "startlinecolor": "#A2B1C6"
            },
            "baxis": {
             "endlinecolor": "#A2B1C6",
             "gridcolor": "#506784",
             "linecolor": "#506784",
             "minorgridcolor": "#506784",
             "startlinecolor": "#A2B1C6"
            },
            "type": "carpet"
           }
          ],
          "choropleth": [
           {
            "colorbar": {
             "outlinewidth": 0,
             "ticks": ""
            },
            "type": "choropleth"
           }
          ],
          "contour": [
           {
            "colorbar": {
             "outlinewidth": 0,
             "ticks": ""
            },
            "colorscale": [
             [
              0,
              "#0d0887"
             ],
             [
              0.1111111111111111,
              "#46039f"
             ],
             [
              0.2222222222222222,
              "#7201a8"
             ],
             [
              0.3333333333333333,
              "#9c179e"
             ],
             [
              0.4444444444444444,
              "#bd3786"
             ],
             [
              0.5555555555555556,
              "#d8576b"
             ],
             [
              0.6666666666666666,
              "#ed7953"
             ],
             [
              0.7777777777777778,
              "#fb9f3a"
             ],
             [
              0.8888888888888888,
              "#fdca26"
             ],
             [
              1,
              "#f0f921"
             ]
            ],
            "type": "contour"
           }
          ],
          "contourcarpet": [
           {
            "colorbar": {
             "outlinewidth": 0,
             "ticks": ""
            },
            "type": "contourcarpet"
           }
          ],
          "heatmap": [
           {
            "colorbar": {
             "outlinewidth": 0,
             "ticks": ""
            },
            "colorscale": [
             [
              0,
              "#0d0887"
             ],
             [
              0.1111111111111111,
              "#46039f"
             ],
             [
              0.2222222222222222,
              "#7201a8"
             ],
             [
              0.3333333333333333,
              "#9c179e"
             ],
             [
              0.4444444444444444,
              "#bd3786"
             ],
             [
              0.5555555555555556,
              "#d8576b"
             ],
             [
              0.6666666666666666,
              "#ed7953"
             ],
             [
              0.7777777777777778,
              "#fb9f3a"
             ],
             [
              0.8888888888888888,
              "#fdca26"
             ],
             [
              1,
              "#f0f921"
             ]
            ],
            "type": "heatmap"
           }
          ],
          "heatmapgl": [
           {
            "colorbar": {
             "outlinewidth": 0,
             "ticks": ""
            },
            "colorscale": [
             [
              0,
              "#0d0887"
             ],
             [
              0.1111111111111111,
              "#46039f"
             ],
             [
              0.2222222222222222,
              "#7201a8"
             ],
             [
              0.3333333333333333,
              "#9c179e"
             ],
             [
              0.4444444444444444,
              "#bd3786"
             ],
             [
              0.5555555555555556,
              "#d8576b"
             ],
             [
              0.6666666666666666,
              "#ed7953"
             ],
             [
              0.7777777777777778,
              "#fb9f3a"
             ],
             [
              0.8888888888888888,
              "#fdca26"
             ],
             [
              1,
              "#f0f921"
             ]
            ],
            "type": "heatmapgl"
           }
          ],
          "histogram": [
           {
            "marker": {
             "pattern": {
              "fillmode": "overlay",
              "size": 10,
              "solidity": 0.2
             }
            },
            "type": "histogram"
           }
          ],
          "histogram2d": [
           {
            "colorbar": {
             "outlinewidth": 0,
             "ticks": ""
            },
            "colorscale": [
             [
              0,
              "#0d0887"
             ],
             [
              0.1111111111111111,
              "#46039f"
             ],
             [
              0.2222222222222222,
              "#7201a8"
             ],
             [
              0.3333333333333333,
              "#9c179e"
             ],
             [
              0.4444444444444444,
              "#bd3786"
             ],
             [
              0.5555555555555556,
              "#d8576b"
             ],
             [
              0.6666666666666666,
              "#ed7953"
             ],
             [
              0.7777777777777778,
              "#fb9f3a"
             ],
             [
              0.8888888888888888,
              "#fdca26"
             ],
             [
              1,
              "#f0f921"
             ]
            ],
            "type": "histogram2d"
           }
          ],
          "histogram2dcontour": [
           {
            "colorbar": {
             "outlinewidth": 0,
             "ticks": ""
            },
            "colorscale": [
             [
              0,
              "#0d0887"
             ],
             [
              0.1111111111111111,
              "#46039f"
             ],
             [
              0.2222222222222222,
              "#7201a8"
             ],
             [
              0.3333333333333333,
              "#9c179e"
             ],
             [
              0.4444444444444444,
              "#bd3786"
             ],
             [
              0.5555555555555556,
              "#d8576b"
             ],
             [
              0.6666666666666666,
              "#ed7953"
             ],
             [
              0.7777777777777778,
              "#fb9f3a"
             ],
             [
              0.8888888888888888,
              "#fdca26"
             ],
             [
              1,
              "#f0f921"
             ]
            ],
            "type": "histogram2dcontour"
           }
          ],
          "mesh3d": [
           {
            "colorbar": {
             "outlinewidth": 0,
             "ticks": ""
            },
            "type": "mesh3d"
           }
          ],
          "parcoords": [
           {
            "line": {
             "colorbar": {
              "outlinewidth": 0,
              "ticks": ""
             }
            },
            "type": "parcoords"
           }
          ],
          "pie": [
           {
            "automargin": true,
            "type": "pie"
           }
          ],
          "scatter": [
           {
            "marker": {
             "line": {
              "color": "#283442"
             }
            },
            "type": "scatter"
           }
          ],
          "scatter3d": [
           {
            "line": {
             "colorbar": {
              "outlinewidth": 0,
              "ticks": ""
             }
            },
            "marker": {
             "colorbar": {
              "outlinewidth": 0,
              "ticks": ""
             }
            },
            "type": "scatter3d"
           }
          ],
          "scattercarpet": [
           {
            "marker": {
             "colorbar": {
              "outlinewidth": 0,
              "ticks": ""
             }
            },
            "type": "scattercarpet"
           }
          ],
          "scattergeo": [
           {
            "marker": {
             "colorbar": {
              "outlinewidth": 0,
              "ticks": ""
             }
            },
            "type": "scattergeo"
           }
          ],
          "scattergl": [
           {
            "marker": {
             "line": {
              "color": "#283442"
             }
            },
            "type": "scattergl"
           }
          ],
          "scattermapbox": [
           {
            "marker": {
             "colorbar": {
              "outlinewidth": 0,
              "ticks": ""
             }
            },
            "type": "scattermapbox"
           }
          ],
          "scatterpolar": [
           {
            "marker": {
             "colorbar": {
              "outlinewidth": 0,
              "ticks": ""
             }
            },
            "type": "scatterpolar"
           }
          ],
          "scatterpolargl": [
           {
            "marker": {
             "colorbar": {
              "outlinewidth": 0,
              "ticks": ""
             }
            },
            "type": "scatterpolargl"
           }
          ],
          "scatterternary": [
           {
            "marker": {
             "colorbar": {
              "outlinewidth": 0,
              "ticks": ""
             }
            },
            "type": "scatterternary"
           }
          ],
          "surface": [
           {
            "colorbar": {
             "outlinewidth": 0,
             "ticks": ""
            },
            "colorscale": [
             [
              0,
              "#0d0887"
             ],
             [
              0.1111111111111111,
              "#46039f"
             ],
             [
              0.2222222222222222,
              "#7201a8"
             ],
             [
              0.3333333333333333,
              "#9c179e"
             ],
             [
              0.4444444444444444,
              "#bd3786"
             ],
             [
              0.5555555555555556,
              "#d8576b"
             ],
             [
              0.6666666666666666,
              "#ed7953"
             ],
             [
              0.7777777777777778,
              "#fb9f3a"
             ],
             [
              0.8888888888888888,
              "#fdca26"
             ],
             [
              1,
              "#f0f921"
             ]
            ],
            "type": "surface"
           }
          ],
          "table": [
           {
            "cells": {
             "fill": {
              "color": "#506784"
             },
             "line": {
              "color": "rgb(17,17,17)"
             }
            },
            "header": {
             "fill": {
              "color": "#2a3f5f"
             },
             "line": {
              "color": "rgb(17,17,17)"
             }
            },
            "type": "table"
           }
          ]
         },
         "layout": {
          "annotationdefaults": {
           "arrowcolor": "#f2f5fa",
           "arrowhead": 0,
           "arrowwidth": 1
          },
          "autotypenumbers": "strict",
          "coloraxis": {
           "colorbar": {
            "outlinewidth": 0,
            "ticks": ""
           }
          },
          "colorscale": {
           "diverging": [
            [
             0,
             "#8e0152"
            ],
            [
             0.1,
             "#c51b7d"
            ],
            [
             0.2,
             "#de77ae"
            ],
            [
             0.3,
             "#f1b6da"
            ],
            [
             0.4,
             "#fde0ef"
            ],
            [
             0.5,
             "#f7f7f7"
            ],
            [
             0.6,
             "#e6f5d0"
            ],
            [
             0.7,
             "#b8e186"
            ],
            [
             0.8,
             "#7fbc41"
            ],
            [
             0.9,
             "#4d9221"
            ],
            [
             1,
             "#276419"
            ]
           ],
           "sequential": [
            [
             0,
             "#0d0887"
            ],
            [
             0.1111111111111111,
             "#46039f"
            ],
            [
             0.2222222222222222,
             "#7201a8"
            ],
            [
             0.3333333333333333,
             "#9c179e"
            ],
            [
             0.4444444444444444,
             "#bd3786"
            ],
            [
             0.5555555555555556,
             "#d8576b"
            ],
            [
             0.6666666666666666,
             "#ed7953"
            ],
            [
             0.7777777777777778,
             "#fb9f3a"
            ],
            [
             0.8888888888888888,
             "#fdca26"
            ],
            [
             1,
             "#f0f921"
            ]
           ],
           "sequentialminus": [
            [
             0,
             "#0d0887"
            ],
            [
             0.1111111111111111,
             "#46039f"
            ],
            [
             0.2222222222222222,
             "#7201a8"
            ],
            [
             0.3333333333333333,
             "#9c179e"
            ],
            [
             0.4444444444444444,
             "#bd3786"
            ],
            [
             0.5555555555555556,
             "#d8576b"
            ],
            [
             0.6666666666666666,
             "#ed7953"
            ],
            [
             0.7777777777777778,
             "#fb9f3a"
            ],
            [
             0.8888888888888888,
             "#fdca26"
            ],
            [
             1,
             "#f0f921"
            ]
           ]
          },
          "colorway": [
           "#636efa",
           "#EF553B",
           "#00cc96",
           "#ab63fa",
           "#FFA15A",
           "#19d3f3",
           "#FF6692",
           "#B6E880",
           "#FF97FF",
           "#FECB52"
          ],
          "font": {
           "color": "#f2f5fa"
          },
          "geo": {
           "bgcolor": "rgb(17,17,17)",
           "lakecolor": "rgb(17,17,17)",
           "landcolor": "rgb(17,17,17)",
           "showlakes": true,
           "showland": true,
           "subunitcolor": "#506784"
          },
          "hoverlabel": {
           "align": "left"
          },
          "hovermode": "closest",
          "mapbox": {
           "style": "dark"
          },
          "paper_bgcolor": "rgb(17,17,17)",
          "plot_bgcolor": "rgb(17,17,17)",
          "polar": {
           "angularaxis": {
            "gridcolor": "#506784",
            "linecolor": "#506784",
            "ticks": ""
           },
           "bgcolor": "rgb(17,17,17)",
           "radialaxis": {
            "gridcolor": "#506784",
            "linecolor": "#506784",
            "ticks": ""
           }
          },
          "scene": {
           "xaxis": {
            "backgroundcolor": "rgb(17,17,17)",
            "gridcolor": "#506784",
            "gridwidth": 2,
            "linecolor": "#506784",
            "showbackground": true,
            "ticks": "",
            "zerolinecolor": "#C8D4E3"
           },
           "yaxis": {
            "backgroundcolor": "rgb(17,17,17)",
            "gridcolor": "#506784",
            "gridwidth": 2,
            "linecolor": "#506784",
            "showbackground": true,
            "ticks": "",
            "zerolinecolor": "#C8D4E3"
           },
           "zaxis": {
            "backgroundcolor": "rgb(17,17,17)",
            "gridcolor": "#506784",
            "gridwidth": 2,
            "linecolor": "#506784",
            "showbackground": true,
            "ticks": "",
            "zerolinecolor": "#C8D4E3"
           }
          },
          "shapedefaults": {
           "line": {
            "color": "#f2f5fa"
           }
          },
          "sliderdefaults": {
           "bgcolor": "#C8D4E3",
           "bordercolor": "rgb(17,17,17)",
           "borderwidth": 1,
           "tickwidth": 0
          },
          "ternary": {
           "aaxis": {
            "gridcolor": "#506784",
            "linecolor": "#506784",
            "ticks": ""
           },
           "baxis": {
            "gridcolor": "#506784",
            "linecolor": "#506784",
            "ticks": ""
           },
           "bgcolor": "rgb(17,17,17)",
           "caxis": {
            "gridcolor": "#506784",
            "linecolor": "#506784",
            "ticks": ""
           }
          },
          "title": {
           "x": 0.05
          },
          "updatemenudefaults": {
           "bgcolor": "#506784",
           "borderwidth": 0
          },
          "xaxis": {
           "automargin": true,
           "gridcolor": "#283442",
           "linecolor": "#506784",
           "ticks": "",
           "title": {
            "standoff": 15
           },
           "zerolinecolor": "#283442",
           "zerolinewidth": 2
          },
          "yaxis": {
           "automargin": true,
           "gridcolor": "#283442",
           "linecolor": "#506784",
           "ticks": "",
           "title": {
            "standoff": 15
           },
           "zerolinecolor": "#283442",
           "zerolinewidth": 2
          }
         }
        },
        "title": {
         "text": "Saldo a liquidar por ano do empenho"
        },
        "xaxis": {
         "anchor": "y",
         "domain": [
          0,
          1
         ],
         "title": {
          "text": "Ano do Empenho"
         }
        },
        "yaxis": {
         "anchor": "x",
         "domain": [
          0,
          1
         ],
         "title": {
          "text": "Saldo a liquidar"
         },
         "type": "log"
        }
       }
      }
     },
     "metadata": {},
     "output_type": "display_data"
    }
   ],
   "source": [
    "# Saldo a liquidar por ano\n",
    "cols = ['ANO', 'A_LIQUIDAR']\n",
    "\n",
    "df_aux = df.loc[:, cols].groupby('ANO').sum().sort_values(by= 'A_LIQUIDAR', ascending=False).reset_index()\n",
    "df_aux = df_aux[df_aux['A_LIQUIDAR'] > 0]\n",
    "fig = px.bar(df_aux, \n",
    "             x='ANO', \n",
    "             y='A_LIQUIDAR',\n",
    "             title='Saldo a liquidar por ano do empenho',\n",
    "             labels={'ANO':'Ano do Empenho', 'A_LIQUIDAR':'Saldo a liquidar'},\n",
    "             text_auto='.3s',\n",
    "             height=400,\n",
    "             log_y=True,\n",
    "             color='A_LIQUIDAR',\n",
    "             color_continuous_scale = 'reds',\n",
    "             template='plotly_dark')\n",
    "fig.update_traces(textposition = 'outside', cliponaxis = False, hovertemplate=None)\n",
    "fig.update_layout(hovermode=\"x unified\")\n",
    "\n",
    "fig.show()"
   ]
  },
  {
   "cell_type": "code",
   "execution_count": 10,
   "metadata": {},
   "outputs": [
    {
     "data": {
      "application/vnd.plotly.v1+json": {
       "config": {
        "plotlyServerURL": "https://plot.ly"
       },
       "data": [
        {
         "alignmentgroup": "True",
         "cliponaxis": false,
         "legendgroup": "",
         "marker": {
          "color": [
           3273758.83,
           1228107.75,
           999642.46
          ],
          "coloraxis": "coloraxis",
          "pattern": {
           "shape": ""
          }
         },
         "name": "",
         "offsetgroup": "",
         "orientation": "v",
         "showlegend": false,
         "textposition": "outside",
         "texttemplate": "%{y:.3s}",
         "type": "bar",
         "x": [
          "GLOBAL",
          "ORDINARIO",
          "ESTIMATIVO"
         ],
         "xaxis": "x",
         "y": [
          3273758.83,
          1228107.75,
          999642.46
         ],
         "yaxis": "y"
        }
       ],
       "layout": {
        "barmode": "relative",
        "coloraxis": {
         "colorbar": {
          "title": {
           "text": "Saldo a liquidar"
          }
         },
         "colorscale": [
          [
           0,
           "rgb(255,245,240)"
          ],
          [
           0.125,
           "rgb(254,224,210)"
          ],
          [
           0.25,
           "rgb(252,187,161)"
          ],
          [
           0.375,
           "rgb(252,146,114)"
          ],
          [
           0.5,
           "rgb(251,106,74)"
          ],
          [
           0.625,
           "rgb(239,59,44)"
          ],
          [
           0.75,
           "rgb(203,24,29)"
          ],
          [
           0.875,
           "rgb(165,15,21)"
          ],
          [
           1,
           "rgb(103,0,13)"
          ]
         ]
        },
        "height": 400,
        "hovermode": "x unified",
        "legend": {
         "tracegroupgap": 0
        },
        "template": {
         "data": {
          "bar": [
           {
            "error_x": {
             "color": "#f2f5fa"
            },
            "error_y": {
             "color": "#f2f5fa"
            },
            "marker": {
             "line": {
              "color": "rgb(17,17,17)",
              "width": 0.5
             },
             "pattern": {
              "fillmode": "overlay",
              "size": 10,
              "solidity": 0.2
             }
            },
            "type": "bar"
           }
          ],
          "barpolar": [
           {
            "marker": {
             "line": {
              "color": "rgb(17,17,17)",
              "width": 0.5
             },
             "pattern": {
              "fillmode": "overlay",
              "size": 10,
              "solidity": 0.2
             }
            },
            "type": "barpolar"
           }
          ],
          "carpet": [
           {
            "aaxis": {
             "endlinecolor": "#A2B1C6",
             "gridcolor": "#506784",
             "linecolor": "#506784",
             "minorgridcolor": "#506784",
             "startlinecolor": "#A2B1C6"
            },
            "baxis": {
             "endlinecolor": "#A2B1C6",
             "gridcolor": "#506784",
             "linecolor": "#506784",
             "minorgridcolor": "#506784",
             "startlinecolor": "#A2B1C6"
            },
            "type": "carpet"
           }
          ],
          "choropleth": [
           {
            "colorbar": {
             "outlinewidth": 0,
             "ticks": ""
            },
            "type": "choropleth"
           }
          ],
          "contour": [
           {
            "colorbar": {
             "outlinewidth": 0,
             "ticks": ""
            },
            "colorscale": [
             [
              0,
              "#0d0887"
             ],
             [
              0.1111111111111111,
              "#46039f"
             ],
             [
              0.2222222222222222,
              "#7201a8"
             ],
             [
              0.3333333333333333,
              "#9c179e"
             ],
             [
              0.4444444444444444,
              "#bd3786"
             ],
             [
              0.5555555555555556,
              "#d8576b"
             ],
             [
              0.6666666666666666,
              "#ed7953"
             ],
             [
              0.7777777777777778,
              "#fb9f3a"
             ],
             [
              0.8888888888888888,
              "#fdca26"
             ],
             [
              1,
              "#f0f921"
             ]
            ],
            "type": "contour"
           }
          ],
          "contourcarpet": [
           {
            "colorbar": {
             "outlinewidth": 0,
             "ticks": ""
            },
            "type": "contourcarpet"
           }
          ],
          "heatmap": [
           {
            "colorbar": {
             "outlinewidth": 0,
             "ticks": ""
            },
            "colorscale": [
             [
              0,
              "#0d0887"
             ],
             [
              0.1111111111111111,
              "#46039f"
             ],
             [
              0.2222222222222222,
              "#7201a8"
             ],
             [
              0.3333333333333333,
              "#9c179e"
             ],
             [
              0.4444444444444444,
              "#bd3786"
             ],
             [
              0.5555555555555556,
              "#d8576b"
             ],
             [
              0.6666666666666666,
              "#ed7953"
             ],
             [
              0.7777777777777778,
              "#fb9f3a"
             ],
             [
              0.8888888888888888,
              "#fdca26"
             ],
             [
              1,
              "#f0f921"
             ]
            ],
            "type": "heatmap"
           }
          ],
          "heatmapgl": [
           {
            "colorbar": {
             "outlinewidth": 0,
             "ticks": ""
            },
            "colorscale": [
             [
              0,
              "#0d0887"
             ],
             [
              0.1111111111111111,
              "#46039f"
             ],
             [
              0.2222222222222222,
              "#7201a8"
             ],
             [
              0.3333333333333333,
              "#9c179e"
             ],
             [
              0.4444444444444444,
              "#bd3786"
             ],
             [
              0.5555555555555556,
              "#d8576b"
             ],
             [
              0.6666666666666666,
              "#ed7953"
             ],
             [
              0.7777777777777778,
              "#fb9f3a"
             ],
             [
              0.8888888888888888,
              "#fdca26"
             ],
             [
              1,
              "#f0f921"
             ]
            ],
            "type": "heatmapgl"
           }
          ],
          "histogram": [
           {
            "marker": {
             "pattern": {
              "fillmode": "overlay",
              "size": 10,
              "solidity": 0.2
             }
            },
            "type": "histogram"
           }
          ],
          "histogram2d": [
           {
            "colorbar": {
             "outlinewidth": 0,
             "ticks": ""
            },
            "colorscale": [
             [
              0,
              "#0d0887"
             ],
             [
              0.1111111111111111,
              "#46039f"
             ],
             [
              0.2222222222222222,
              "#7201a8"
             ],
             [
              0.3333333333333333,
              "#9c179e"
             ],
             [
              0.4444444444444444,
              "#bd3786"
             ],
             [
              0.5555555555555556,
              "#d8576b"
             ],
             [
              0.6666666666666666,
              "#ed7953"
             ],
             [
              0.7777777777777778,
              "#fb9f3a"
             ],
             [
              0.8888888888888888,
              "#fdca26"
             ],
             [
              1,
              "#f0f921"
             ]
            ],
            "type": "histogram2d"
           }
          ],
          "histogram2dcontour": [
           {
            "colorbar": {
             "outlinewidth": 0,
             "ticks": ""
            },
            "colorscale": [
             [
              0,
              "#0d0887"
             ],
             [
              0.1111111111111111,
              "#46039f"
             ],
             [
              0.2222222222222222,
              "#7201a8"
             ],
             [
              0.3333333333333333,
              "#9c179e"
             ],
             [
              0.4444444444444444,
              "#bd3786"
             ],
             [
              0.5555555555555556,
              "#d8576b"
             ],
             [
              0.6666666666666666,
              "#ed7953"
             ],
             [
              0.7777777777777778,
              "#fb9f3a"
             ],
             [
              0.8888888888888888,
              "#fdca26"
             ],
             [
              1,
              "#f0f921"
             ]
            ],
            "type": "histogram2dcontour"
           }
          ],
          "mesh3d": [
           {
            "colorbar": {
             "outlinewidth": 0,
             "ticks": ""
            },
            "type": "mesh3d"
           }
          ],
          "parcoords": [
           {
            "line": {
             "colorbar": {
              "outlinewidth": 0,
              "ticks": ""
             }
            },
            "type": "parcoords"
           }
          ],
          "pie": [
           {
            "automargin": true,
            "type": "pie"
           }
          ],
          "scatter": [
           {
            "marker": {
             "line": {
              "color": "#283442"
             }
            },
            "type": "scatter"
           }
          ],
          "scatter3d": [
           {
            "line": {
             "colorbar": {
              "outlinewidth": 0,
              "ticks": ""
             }
            },
            "marker": {
             "colorbar": {
              "outlinewidth": 0,
              "ticks": ""
             }
            },
            "type": "scatter3d"
           }
          ],
          "scattercarpet": [
           {
            "marker": {
             "colorbar": {
              "outlinewidth": 0,
              "ticks": ""
             }
            },
            "type": "scattercarpet"
           }
          ],
          "scattergeo": [
           {
            "marker": {
             "colorbar": {
              "outlinewidth": 0,
              "ticks": ""
             }
            },
            "type": "scattergeo"
           }
          ],
          "scattergl": [
           {
            "marker": {
             "line": {
              "color": "#283442"
             }
            },
            "type": "scattergl"
           }
          ],
          "scattermapbox": [
           {
            "marker": {
             "colorbar": {
              "outlinewidth": 0,
              "ticks": ""
             }
            },
            "type": "scattermapbox"
           }
          ],
          "scatterpolar": [
           {
            "marker": {
             "colorbar": {
              "outlinewidth": 0,
              "ticks": ""
             }
            },
            "type": "scatterpolar"
           }
          ],
          "scatterpolargl": [
           {
            "marker": {
             "colorbar": {
              "outlinewidth": 0,
              "ticks": ""
             }
            },
            "type": "scatterpolargl"
           }
          ],
          "scatterternary": [
           {
            "marker": {
             "colorbar": {
              "outlinewidth": 0,
              "ticks": ""
             }
            },
            "type": "scatterternary"
           }
          ],
          "surface": [
           {
            "colorbar": {
             "outlinewidth": 0,
             "ticks": ""
            },
            "colorscale": [
             [
              0,
              "#0d0887"
             ],
             [
              0.1111111111111111,
              "#46039f"
             ],
             [
              0.2222222222222222,
              "#7201a8"
             ],
             [
              0.3333333333333333,
              "#9c179e"
             ],
             [
              0.4444444444444444,
              "#bd3786"
             ],
             [
              0.5555555555555556,
              "#d8576b"
             ],
             [
              0.6666666666666666,
              "#ed7953"
             ],
             [
              0.7777777777777778,
              "#fb9f3a"
             ],
             [
              0.8888888888888888,
              "#fdca26"
             ],
             [
              1,
              "#f0f921"
             ]
            ],
            "type": "surface"
           }
          ],
          "table": [
           {
            "cells": {
             "fill": {
              "color": "#506784"
             },
             "line": {
              "color": "rgb(17,17,17)"
             }
            },
            "header": {
             "fill": {
              "color": "#2a3f5f"
             },
             "line": {
              "color": "rgb(17,17,17)"
             }
            },
            "type": "table"
           }
          ]
         },
         "layout": {
          "annotationdefaults": {
           "arrowcolor": "#f2f5fa",
           "arrowhead": 0,
           "arrowwidth": 1
          },
          "autotypenumbers": "strict",
          "coloraxis": {
           "colorbar": {
            "outlinewidth": 0,
            "ticks": ""
           }
          },
          "colorscale": {
           "diverging": [
            [
             0,
             "#8e0152"
            ],
            [
             0.1,
             "#c51b7d"
            ],
            [
             0.2,
             "#de77ae"
            ],
            [
             0.3,
             "#f1b6da"
            ],
            [
             0.4,
             "#fde0ef"
            ],
            [
             0.5,
             "#f7f7f7"
            ],
            [
             0.6,
             "#e6f5d0"
            ],
            [
             0.7,
             "#b8e186"
            ],
            [
             0.8,
             "#7fbc41"
            ],
            [
             0.9,
             "#4d9221"
            ],
            [
             1,
             "#276419"
            ]
           ],
           "sequential": [
            [
             0,
             "#0d0887"
            ],
            [
             0.1111111111111111,
             "#46039f"
            ],
            [
             0.2222222222222222,
             "#7201a8"
            ],
            [
             0.3333333333333333,
             "#9c179e"
            ],
            [
             0.4444444444444444,
             "#bd3786"
            ],
            [
             0.5555555555555556,
             "#d8576b"
            ],
            [
             0.6666666666666666,
             "#ed7953"
            ],
            [
             0.7777777777777778,
             "#fb9f3a"
            ],
            [
             0.8888888888888888,
             "#fdca26"
            ],
            [
             1,
             "#f0f921"
            ]
           ],
           "sequentialminus": [
            [
             0,
             "#0d0887"
            ],
            [
             0.1111111111111111,
             "#46039f"
            ],
            [
             0.2222222222222222,
             "#7201a8"
            ],
            [
             0.3333333333333333,
             "#9c179e"
            ],
            [
             0.4444444444444444,
             "#bd3786"
            ],
            [
             0.5555555555555556,
             "#d8576b"
            ],
            [
             0.6666666666666666,
             "#ed7953"
            ],
            [
             0.7777777777777778,
             "#fb9f3a"
            ],
            [
             0.8888888888888888,
             "#fdca26"
            ],
            [
             1,
             "#f0f921"
            ]
           ]
          },
          "colorway": [
           "#636efa",
           "#EF553B",
           "#00cc96",
           "#ab63fa",
           "#FFA15A",
           "#19d3f3",
           "#FF6692",
           "#B6E880",
           "#FF97FF",
           "#FECB52"
          ],
          "font": {
           "color": "#f2f5fa"
          },
          "geo": {
           "bgcolor": "rgb(17,17,17)",
           "lakecolor": "rgb(17,17,17)",
           "landcolor": "rgb(17,17,17)",
           "showlakes": true,
           "showland": true,
           "subunitcolor": "#506784"
          },
          "hoverlabel": {
           "align": "left"
          },
          "hovermode": "closest",
          "mapbox": {
           "style": "dark"
          },
          "paper_bgcolor": "rgb(17,17,17)",
          "plot_bgcolor": "rgb(17,17,17)",
          "polar": {
           "angularaxis": {
            "gridcolor": "#506784",
            "linecolor": "#506784",
            "ticks": ""
           },
           "bgcolor": "rgb(17,17,17)",
           "radialaxis": {
            "gridcolor": "#506784",
            "linecolor": "#506784",
            "ticks": ""
           }
          },
          "scene": {
           "xaxis": {
            "backgroundcolor": "rgb(17,17,17)",
            "gridcolor": "#506784",
            "gridwidth": 2,
            "linecolor": "#506784",
            "showbackground": true,
            "ticks": "",
            "zerolinecolor": "#C8D4E3"
           },
           "yaxis": {
            "backgroundcolor": "rgb(17,17,17)",
            "gridcolor": "#506784",
            "gridwidth": 2,
            "linecolor": "#506784",
            "showbackground": true,
            "ticks": "",
            "zerolinecolor": "#C8D4E3"
           },
           "zaxis": {
            "backgroundcolor": "rgb(17,17,17)",
            "gridcolor": "#506784",
            "gridwidth": 2,
            "linecolor": "#506784",
            "showbackground": true,
            "ticks": "",
            "zerolinecolor": "#C8D4E3"
           }
          },
          "shapedefaults": {
           "line": {
            "color": "#f2f5fa"
           }
          },
          "sliderdefaults": {
           "bgcolor": "#C8D4E3",
           "bordercolor": "rgb(17,17,17)",
           "borderwidth": 1,
           "tickwidth": 0
          },
          "ternary": {
           "aaxis": {
            "gridcolor": "#506784",
            "linecolor": "#506784",
            "ticks": ""
           },
           "baxis": {
            "gridcolor": "#506784",
            "linecolor": "#506784",
            "ticks": ""
           },
           "bgcolor": "rgb(17,17,17)",
           "caxis": {
            "gridcolor": "#506784",
            "linecolor": "#506784",
            "ticks": ""
           }
          },
          "title": {
           "x": 0.05
          },
          "updatemenudefaults": {
           "bgcolor": "#506784",
           "borderwidth": 0
          },
          "xaxis": {
           "automargin": true,
           "gridcolor": "#283442",
           "linecolor": "#506784",
           "ticks": "",
           "title": {
            "standoff": 15
           },
           "zerolinecolor": "#283442",
           "zerolinewidth": 2
          },
          "yaxis": {
           "automargin": true,
           "gridcolor": "#283442",
           "linecolor": "#506784",
           "ticks": "",
           "title": {
            "standoff": 15
           },
           "zerolinecolor": "#283442",
           "zerolinewidth": 2
          }
         }
        },
        "title": {
         "text": "Saldo a liquidar por ano do empenho"
        },
        "xaxis": {
         "anchor": "y",
         "domain": [
          0,
          1
         ],
         "title": {
          "text": "Tipo de Nota de Empenho"
         }
        },
        "yaxis": {
         "anchor": "x",
         "domain": [
          0,
          1
         ],
         "title": {
          "text": "Saldo a liquidar"
         },
         "type": "log"
        }
       }
      }
     },
     "metadata": {},
     "output_type": "display_data"
    }
   ],
   "source": [
    "# Saldo a liquidar por tipo de NE\n",
    "cols = ['TIPO_NE', 'A_LIQUIDAR']\n",
    "\n",
    "df_aux = df.loc[:, cols].groupby('TIPO_NE').sum().sort_values(by= 'A_LIQUIDAR', ascending=False).reset_index()\n",
    "df_aux = df_aux[df_aux['A_LIQUIDAR'] > 0]\n",
    "fig = px.bar(df_aux, \n",
    "             x='TIPO_NE', \n",
    "             y='A_LIQUIDAR',\n",
    "             title='Saldo a liquidar por ano do empenho',\n",
    "             labels={'TIPO_NE':'Tipo de Nota de Empenho', 'A_LIQUIDAR':'Saldo a liquidar'},\n",
    "             text_auto='.3s',\n",
    "             height=400,\n",
    "             log_y=True,\n",
    "             color='A_LIQUIDAR',\n",
    "             color_continuous_scale = 'reds',\n",
    "             template='plotly_dark')\n",
    "fig.update_traces(textposition = 'outside', cliponaxis = False, hovertemplate=None)\n",
    "fig.update_layout(hovermode=\"x unified\")\n",
    "\n",
    "fig.show()"
   ]
  },
  {
   "cell_type": "code",
   "execution_count": 11,
   "metadata": {},
   "outputs": [
    {
     "data": {
      "application/vnd.plotly.v1+json": {
       "config": {
        "plotlyServerURL": "https://plot.ly"
       },
       "data": [
        {
         "alignmentgroup": "True",
         "cliponaxis": false,
         "legendgroup": "",
         "marker": {
          "color": [
           1071088.63,
           923125.28,
           879233.9400000001,
           877254.41,
           606121.75,
           534977.94,
           523456.86,
           20004.489999999998,
           18147.11,
           8645,
           8343.45,
           4423.49
          ],
          "coloraxis": "coloraxis",
          "pattern": {
           "shape": ""
          }
         },
         "name": "",
         "offsetgroup": "",
         "orientation": "v",
         "showlegend": false,
         "textposition": "outside",
         "texttemplate": "%{y:.3s}",
         "type": "bar",
         "x": [
          "DEC-GESTOR",
          "DGO",
          "DECEX/GESTOR",
          "DECEX - GESTOR",
          "DGP",
          "COEX/GESTOR",
          "ESA",
          "COEX - GESTOR",
          "GAB CMT EX - GESTOR",
          "DCT - GESTOR",
          "COTER - GESTOR",
          "DEORF/MD"
         ],
         "xaxis": "x",
         "y": [
          1071088.63,
          923125.28,
          879233.9400000001,
          877254.41,
          606121.75,
          534977.94,
          523456.86,
          20004.489999999998,
          18147.11,
          8645,
          8343.45,
          4423.49
         ],
         "yaxis": "y"
        }
       ],
       "layout": {
        "barmode": "relative",
        "coloraxis": {
         "colorbar": {
          "title": {
           "text": "Saldo a liquidar"
          }
         },
         "colorscale": [
          [
           0,
           "rgb(255,245,240)"
          ],
          [
           0.125,
           "rgb(254,224,210)"
          ],
          [
           0.25,
           "rgb(252,187,161)"
          ],
          [
           0.375,
           "rgb(252,146,114)"
          ],
          [
           0.5,
           "rgb(251,106,74)"
          ],
          [
           0.625,
           "rgb(239,59,44)"
          ],
          [
           0.75,
           "rgb(203,24,29)"
          ],
          [
           0.875,
           "rgb(165,15,21)"
          ],
          [
           1,
           "rgb(103,0,13)"
          ]
         ]
        },
        "height": 400,
        "hovermode": "x unified",
        "legend": {
         "tracegroupgap": 0
        },
        "template": {
         "data": {
          "bar": [
           {
            "error_x": {
             "color": "#f2f5fa"
            },
            "error_y": {
             "color": "#f2f5fa"
            },
            "marker": {
             "line": {
              "color": "rgb(17,17,17)",
              "width": 0.5
             },
             "pattern": {
              "fillmode": "overlay",
              "size": 10,
              "solidity": 0.2
             }
            },
            "type": "bar"
           }
          ],
          "barpolar": [
           {
            "marker": {
             "line": {
              "color": "rgb(17,17,17)",
              "width": 0.5
             },
             "pattern": {
              "fillmode": "overlay",
              "size": 10,
              "solidity": 0.2
             }
            },
            "type": "barpolar"
           }
          ],
          "carpet": [
           {
            "aaxis": {
             "endlinecolor": "#A2B1C6",
             "gridcolor": "#506784",
             "linecolor": "#506784",
             "minorgridcolor": "#506784",
             "startlinecolor": "#A2B1C6"
            },
            "baxis": {
             "endlinecolor": "#A2B1C6",
             "gridcolor": "#506784",
             "linecolor": "#506784",
             "minorgridcolor": "#506784",
             "startlinecolor": "#A2B1C6"
            },
            "type": "carpet"
           }
          ],
          "choropleth": [
           {
            "colorbar": {
             "outlinewidth": 0,
             "ticks": ""
            },
            "type": "choropleth"
           }
          ],
          "contour": [
           {
            "colorbar": {
             "outlinewidth": 0,
             "ticks": ""
            },
            "colorscale": [
             [
              0,
              "#0d0887"
             ],
             [
              0.1111111111111111,
              "#46039f"
             ],
             [
              0.2222222222222222,
              "#7201a8"
             ],
             [
              0.3333333333333333,
              "#9c179e"
             ],
             [
              0.4444444444444444,
              "#bd3786"
             ],
             [
              0.5555555555555556,
              "#d8576b"
             ],
             [
              0.6666666666666666,
              "#ed7953"
             ],
             [
              0.7777777777777778,
              "#fb9f3a"
             ],
             [
              0.8888888888888888,
              "#fdca26"
             ],
             [
              1,
              "#f0f921"
             ]
            ],
            "type": "contour"
           }
          ],
          "contourcarpet": [
           {
            "colorbar": {
             "outlinewidth": 0,
             "ticks": ""
            },
            "type": "contourcarpet"
           }
          ],
          "heatmap": [
           {
            "colorbar": {
             "outlinewidth": 0,
             "ticks": ""
            },
            "colorscale": [
             [
              0,
              "#0d0887"
             ],
             [
              0.1111111111111111,
              "#46039f"
             ],
             [
              0.2222222222222222,
              "#7201a8"
             ],
             [
              0.3333333333333333,
              "#9c179e"
             ],
             [
              0.4444444444444444,
              "#bd3786"
             ],
             [
              0.5555555555555556,
              "#d8576b"
             ],
             [
              0.6666666666666666,
              "#ed7953"
             ],
             [
              0.7777777777777778,
              "#fb9f3a"
             ],
             [
              0.8888888888888888,
              "#fdca26"
             ],
             [
              1,
              "#f0f921"
             ]
            ],
            "type": "heatmap"
           }
          ],
          "heatmapgl": [
           {
            "colorbar": {
             "outlinewidth": 0,
             "ticks": ""
            },
            "colorscale": [
             [
              0,
              "#0d0887"
             ],
             [
              0.1111111111111111,
              "#46039f"
             ],
             [
              0.2222222222222222,
              "#7201a8"
             ],
             [
              0.3333333333333333,
              "#9c179e"
             ],
             [
              0.4444444444444444,
              "#bd3786"
             ],
             [
              0.5555555555555556,
              "#d8576b"
             ],
             [
              0.6666666666666666,
              "#ed7953"
             ],
             [
              0.7777777777777778,
              "#fb9f3a"
             ],
             [
              0.8888888888888888,
              "#fdca26"
             ],
             [
              1,
              "#f0f921"
             ]
            ],
            "type": "heatmapgl"
           }
          ],
          "histogram": [
           {
            "marker": {
             "pattern": {
              "fillmode": "overlay",
              "size": 10,
              "solidity": 0.2
             }
            },
            "type": "histogram"
           }
          ],
          "histogram2d": [
           {
            "colorbar": {
             "outlinewidth": 0,
             "ticks": ""
            },
            "colorscale": [
             [
              0,
              "#0d0887"
             ],
             [
              0.1111111111111111,
              "#46039f"
             ],
             [
              0.2222222222222222,
              "#7201a8"
             ],
             [
              0.3333333333333333,
              "#9c179e"
             ],
             [
              0.4444444444444444,
              "#bd3786"
             ],
             [
              0.5555555555555556,
              "#d8576b"
             ],
             [
              0.6666666666666666,
              "#ed7953"
             ],
             [
              0.7777777777777778,
              "#fb9f3a"
             ],
             [
              0.8888888888888888,
              "#fdca26"
             ],
             [
              1,
              "#f0f921"
             ]
            ],
            "type": "histogram2d"
           }
          ],
          "histogram2dcontour": [
           {
            "colorbar": {
             "outlinewidth": 0,
             "ticks": ""
            },
            "colorscale": [
             [
              0,
              "#0d0887"
             ],
             [
              0.1111111111111111,
              "#46039f"
             ],
             [
              0.2222222222222222,
              "#7201a8"
             ],
             [
              0.3333333333333333,
              "#9c179e"
             ],
             [
              0.4444444444444444,
              "#bd3786"
             ],
             [
              0.5555555555555556,
              "#d8576b"
             ],
             [
              0.6666666666666666,
              "#ed7953"
             ],
             [
              0.7777777777777778,
              "#fb9f3a"
             ],
             [
              0.8888888888888888,
              "#fdca26"
             ],
             [
              1,
              "#f0f921"
             ]
            ],
            "type": "histogram2dcontour"
           }
          ],
          "mesh3d": [
           {
            "colorbar": {
             "outlinewidth": 0,
             "ticks": ""
            },
            "type": "mesh3d"
           }
          ],
          "parcoords": [
           {
            "line": {
             "colorbar": {
              "outlinewidth": 0,
              "ticks": ""
             }
            },
            "type": "parcoords"
           }
          ],
          "pie": [
           {
            "automargin": true,
            "type": "pie"
           }
          ],
          "scatter": [
           {
            "marker": {
             "line": {
              "color": "#283442"
             }
            },
            "type": "scatter"
           }
          ],
          "scatter3d": [
           {
            "line": {
             "colorbar": {
              "outlinewidth": 0,
              "ticks": ""
             }
            },
            "marker": {
             "colorbar": {
              "outlinewidth": 0,
              "ticks": ""
             }
            },
            "type": "scatter3d"
           }
          ],
          "scattercarpet": [
           {
            "marker": {
             "colorbar": {
              "outlinewidth": 0,
              "ticks": ""
             }
            },
            "type": "scattercarpet"
           }
          ],
          "scattergeo": [
           {
            "marker": {
             "colorbar": {
              "outlinewidth": 0,
              "ticks": ""
             }
            },
            "type": "scattergeo"
           }
          ],
          "scattergl": [
           {
            "marker": {
             "line": {
              "color": "#283442"
             }
            },
            "type": "scattergl"
           }
          ],
          "scattermapbox": [
           {
            "marker": {
             "colorbar": {
              "outlinewidth": 0,
              "ticks": ""
             }
            },
            "type": "scattermapbox"
           }
          ],
          "scatterpolar": [
           {
            "marker": {
             "colorbar": {
              "outlinewidth": 0,
              "ticks": ""
             }
            },
            "type": "scatterpolar"
           }
          ],
          "scatterpolargl": [
           {
            "marker": {
             "colorbar": {
              "outlinewidth": 0,
              "ticks": ""
             }
            },
            "type": "scatterpolargl"
           }
          ],
          "scatterternary": [
           {
            "marker": {
             "colorbar": {
              "outlinewidth": 0,
              "ticks": ""
             }
            },
            "type": "scatterternary"
           }
          ],
          "surface": [
           {
            "colorbar": {
             "outlinewidth": 0,
             "ticks": ""
            },
            "colorscale": [
             [
              0,
              "#0d0887"
             ],
             [
              0.1111111111111111,
              "#46039f"
             ],
             [
              0.2222222222222222,
              "#7201a8"
             ],
             [
              0.3333333333333333,
              "#9c179e"
             ],
             [
              0.4444444444444444,
              "#bd3786"
             ],
             [
              0.5555555555555556,
              "#d8576b"
             ],
             [
              0.6666666666666666,
              "#ed7953"
             ],
             [
              0.7777777777777778,
              "#fb9f3a"
             ],
             [
              0.8888888888888888,
              "#fdca26"
             ],
             [
              1,
              "#f0f921"
             ]
            ],
            "type": "surface"
           }
          ],
          "table": [
           {
            "cells": {
             "fill": {
              "color": "#506784"
             },
             "line": {
              "color": "rgb(17,17,17)"
             }
            },
            "header": {
             "fill": {
              "color": "#2a3f5f"
             },
             "line": {
              "color": "rgb(17,17,17)"
             }
            },
            "type": "table"
           }
          ]
         },
         "layout": {
          "annotationdefaults": {
           "arrowcolor": "#f2f5fa",
           "arrowhead": 0,
           "arrowwidth": 1
          },
          "autotypenumbers": "strict",
          "coloraxis": {
           "colorbar": {
            "outlinewidth": 0,
            "ticks": ""
           }
          },
          "colorscale": {
           "diverging": [
            [
             0,
             "#8e0152"
            ],
            [
             0.1,
             "#c51b7d"
            ],
            [
             0.2,
             "#de77ae"
            ],
            [
             0.3,
             "#f1b6da"
            ],
            [
             0.4,
             "#fde0ef"
            ],
            [
             0.5,
             "#f7f7f7"
            ],
            [
             0.6,
             "#e6f5d0"
            ],
            [
             0.7,
             "#b8e186"
            ],
            [
             0.8,
             "#7fbc41"
            ],
            [
             0.9,
             "#4d9221"
            ],
            [
             1,
             "#276419"
            ]
           ],
           "sequential": [
            [
             0,
             "#0d0887"
            ],
            [
             0.1111111111111111,
             "#46039f"
            ],
            [
             0.2222222222222222,
             "#7201a8"
            ],
            [
             0.3333333333333333,
             "#9c179e"
            ],
            [
             0.4444444444444444,
             "#bd3786"
            ],
            [
             0.5555555555555556,
             "#d8576b"
            ],
            [
             0.6666666666666666,
             "#ed7953"
            ],
            [
             0.7777777777777778,
             "#fb9f3a"
            ],
            [
             0.8888888888888888,
             "#fdca26"
            ],
            [
             1,
             "#f0f921"
            ]
           ],
           "sequentialminus": [
            [
             0,
             "#0d0887"
            ],
            [
             0.1111111111111111,
             "#46039f"
            ],
            [
             0.2222222222222222,
             "#7201a8"
            ],
            [
             0.3333333333333333,
             "#9c179e"
            ],
            [
             0.4444444444444444,
             "#bd3786"
            ],
            [
             0.5555555555555556,
             "#d8576b"
            ],
            [
             0.6666666666666666,
             "#ed7953"
            ],
            [
             0.7777777777777778,
             "#fb9f3a"
            ],
            [
             0.8888888888888888,
             "#fdca26"
            ],
            [
             1,
             "#f0f921"
            ]
           ]
          },
          "colorway": [
           "#636efa",
           "#EF553B",
           "#00cc96",
           "#ab63fa",
           "#FFA15A",
           "#19d3f3",
           "#FF6692",
           "#B6E880",
           "#FF97FF",
           "#FECB52"
          ],
          "font": {
           "color": "#f2f5fa"
          },
          "geo": {
           "bgcolor": "rgb(17,17,17)",
           "lakecolor": "rgb(17,17,17)",
           "landcolor": "rgb(17,17,17)",
           "showlakes": true,
           "showland": true,
           "subunitcolor": "#506784"
          },
          "hoverlabel": {
           "align": "left"
          },
          "hovermode": "closest",
          "mapbox": {
           "style": "dark"
          },
          "paper_bgcolor": "rgb(17,17,17)",
          "plot_bgcolor": "rgb(17,17,17)",
          "polar": {
           "angularaxis": {
            "gridcolor": "#506784",
            "linecolor": "#506784",
            "ticks": ""
           },
           "bgcolor": "rgb(17,17,17)",
           "radialaxis": {
            "gridcolor": "#506784",
            "linecolor": "#506784",
            "ticks": ""
           }
          },
          "scene": {
           "xaxis": {
            "backgroundcolor": "rgb(17,17,17)",
            "gridcolor": "#506784",
            "gridwidth": 2,
            "linecolor": "#506784",
            "showbackground": true,
            "ticks": "",
            "zerolinecolor": "#C8D4E3"
           },
           "yaxis": {
            "backgroundcolor": "rgb(17,17,17)",
            "gridcolor": "#506784",
            "gridwidth": 2,
            "linecolor": "#506784",
            "showbackground": true,
            "ticks": "",
            "zerolinecolor": "#C8D4E3"
           },
           "zaxis": {
            "backgroundcolor": "rgb(17,17,17)",
            "gridcolor": "#506784",
            "gridwidth": 2,
            "linecolor": "#506784",
            "showbackground": true,
            "ticks": "",
            "zerolinecolor": "#C8D4E3"
           }
          },
          "shapedefaults": {
           "line": {
            "color": "#f2f5fa"
           }
          },
          "sliderdefaults": {
           "bgcolor": "#C8D4E3",
           "bordercolor": "rgb(17,17,17)",
           "borderwidth": 1,
           "tickwidth": 0
          },
          "ternary": {
           "aaxis": {
            "gridcolor": "#506784",
            "linecolor": "#506784",
            "ticks": ""
           },
           "baxis": {
            "gridcolor": "#506784",
            "linecolor": "#506784",
            "ticks": ""
           },
           "bgcolor": "rgb(17,17,17)",
           "caxis": {
            "gridcolor": "#506784",
            "linecolor": "#506784",
            "ticks": ""
           }
          },
          "title": {
           "x": 0.05
          },
          "updatemenudefaults": {
           "bgcolor": "#506784",
           "borderwidth": 0
          },
          "xaxis": {
           "automargin": true,
           "gridcolor": "#283442",
           "linecolor": "#506784",
           "ticks": "",
           "title": {
            "standoff": 15
           },
           "zerolinecolor": "#283442",
           "zerolinewidth": 2
          },
          "yaxis": {
           "automargin": true,
           "gridcolor": "#283442",
           "linecolor": "#506784",
           "ticks": "",
           "title": {
            "standoff": 15
           },
           "zerolinecolor": "#283442",
           "zerolinewidth": 2
          }
         }
        },
        "title": {
         "text": "Saldo a liquidar por ano do empenho"
        },
        "xaxis": {
         "anchor": "y",
         "domain": [
          0,
          1
         ],
         "title": {
          "text": "Nome das UGR"
         }
        },
        "yaxis": {
         "anchor": "x",
         "domain": [
          0,
          1
         ],
         "title": {
          "text": "Saldo a liquidar"
         },
         "type": "log"
        }
       }
      }
     },
     "metadata": {},
     "output_type": "display_data"
    }
   ],
   "source": [
    "# Saldo a liquidar por tipo de NE\n",
    "cols = ['NOME_UGR', 'A_LIQUIDAR']\n",
    "\n",
    "df_aux = df.loc[:, cols].groupby('NOME_UGR').sum().sort_values(by= 'A_LIQUIDAR', ascending=False).reset_index()\n",
    "df_aux = df_aux[df_aux['A_LIQUIDAR'] > 0]\n",
    "fig = px.bar(df_aux, \n",
    "             x='NOME_UGR', \n",
    "             y='A_LIQUIDAR',\n",
    "             title='Saldo a liquidar por ano do empenho',\n",
    "             labels={'NOME_UGR':'Nome das UGR', 'A_LIQUIDAR':'Saldo a liquidar'},\n",
    "             text_auto='.3s',\n",
    "             height=400,\n",
    "             log_y=True,\n",
    "             color='A_LIQUIDAR',\n",
    "             color_continuous_scale = 'reds',\n",
    "             template='plotly_dark')\n",
    "fig.update_traces(textposition = 'outside', cliponaxis = False, hovertemplate=None)\n",
    "fig.update_layout(hovermode=\"x unified\")\n",
    "\n",
    "fig.show()"
   ]
  },
  {
   "cell_type": "code",
   "execution_count": 12,
   "metadata": {},
   "outputs": [
    {
     "data": {
      "application/vnd.plotly.v1+json": {
       "config": {
        "plotlyServerURL": "https://plot.ly"
       },
       "data": [
        {
         "cliponaxis": false,
         "name": "A Liquidar",
         "textposition": "outside",
         "type": "bar",
         "x": [
          "339039",
          "339030",
          "339033",
          "449052",
          "339015",
          "339040",
          "339093",
          "339037",
          "339036",
          "339032",
          "339047",
          "339147"
         ],
         "y": [
          2762918.78,
          708087.12,
          640501.08,
          328236.3,
          276444.91,
          272299.94,
          260079.14,
          218513.94,
          16155.41,
          8746.5,
          6294.83,
          3231.0899999999997
         ]
        },
        {
         "cliponaxis": false,
         "name": "Liquidado a pagar",
         "textposition": "outside",
         "type": "bar",
         "x": [
          "339039",
          "339030",
          "339033",
          "449052",
          "339015",
          "339040",
          "339093",
          "339037",
          "339036",
          "339032",
          "339047",
          "339147"
         ],
         "y": [
          59744.32000000001,
          37260.19,
          0,
          0,
          10236.08,
          0,
          11880,
          0,
          9.54,
          0,
          0,
          0
         ]
        },
        {
         "cliponaxis": false,
         "name": "Pago",
         "textposition": "outside",
         "type": "bar",
         "x": [
          "339039",
          "339030",
          "339033",
          "449052",
          "339015",
          "339040",
          "339093",
          "339037",
          "339036",
          "339032",
          "339047",
          "339147"
         ],
         "y": [
          13930199.71,
          5245488.35,
          1587927.03,
          1445979.72,
          323684.8,
          223640.98,
          3631862.41,
          784553.21,
          239917.9,
          0,
          47988.97,
          47985.45
         ]
        }
       ],
       "layout": {
        "hovermode": "x unified",
        "template": {
         "data": {
          "bar": [
           {
            "error_x": {
             "color": "#2a3f5f"
            },
            "error_y": {
             "color": "#2a3f5f"
            },
            "marker": {
             "line": {
              "color": "#E5ECF6",
              "width": 0.5
             },
             "pattern": {
              "fillmode": "overlay",
              "size": 10,
              "solidity": 0.2
             }
            },
            "type": "bar"
           }
          ],
          "barpolar": [
           {
            "marker": {
             "line": {
              "color": "#E5ECF6",
              "width": 0.5
             },
             "pattern": {
              "fillmode": "overlay",
              "size": 10,
              "solidity": 0.2
             }
            },
            "type": "barpolar"
           }
          ],
          "carpet": [
           {
            "aaxis": {
             "endlinecolor": "#2a3f5f",
             "gridcolor": "white",
             "linecolor": "white",
             "minorgridcolor": "white",
             "startlinecolor": "#2a3f5f"
            },
            "baxis": {
             "endlinecolor": "#2a3f5f",
             "gridcolor": "white",
             "linecolor": "white",
             "minorgridcolor": "white",
             "startlinecolor": "#2a3f5f"
            },
            "type": "carpet"
           }
          ],
          "choropleth": [
           {
            "colorbar": {
             "outlinewidth": 0,
             "ticks": ""
            },
            "type": "choropleth"
           }
          ],
          "contour": [
           {
            "colorbar": {
             "outlinewidth": 0,
             "ticks": ""
            },
            "colorscale": [
             [
              0,
              "#0d0887"
             ],
             [
              0.1111111111111111,
              "#46039f"
             ],
             [
              0.2222222222222222,
              "#7201a8"
             ],
             [
              0.3333333333333333,
              "#9c179e"
             ],
             [
              0.4444444444444444,
              "#bd3786"
             ],
             [
              0.5555555555555556,
              "#d8576b"
             ],
             [
              0.6666666666666666,
              "#ed7953"
             ],
             [
              0.7777777777777778,
              "#fb9f3a"
             ],
             [
              0.8888888888888888,
              "#fdca26"
             ],
             [
              1,
              "#f0f921"
             ]
            ],
            "type": "contour"
           }
          ],
          "contourcarpet": [
           {
            "colorbar": {
             "outlinewidth": 0,
             "ticks": ""
            },
            "type": "contourcarpet"
           }
          ],
          "heatmap": [
           {
            "colorbar": {
             "outlinewidth": 0,
             "ticks": ""
            },
            "colorscale": [
             [
              0,
              "#0d0887"
             ],
             [
              0.1111111111111111,
              "#46039f"
             ],
             [
              0.2222222222222222,
              "#7201a8"
             ],
             [
              0.3333333333333333,
              "#9c179e"
             ],
             [
              0.4444444444444444,
              "#bd3786"
             ],
             [
              0.5555555555555556,
              "#d8576b"
             ],
             [
              0.6666666666666666,
              "#ed7953"
             ],
             [
              0.7777777777777778,
              "#fb9f3a"
             ],
             [
              0.8888888888888888,
              "#fdca26"
             ],
             [
              1,
              "#f0f921"
             ]
            ],
            "type": "heatmap"
           }
          ],
          "heatmapgl": [
           {
            "colorbar": {
             "outlinewidth": 0,
             "ticks": ""
            },
            "colorscale": [
             [
              0,
              "#0d0887"
             ],
             [
              0.1111111111111111,
              "#46039f"
             ],
             [
              0.2222222222222222,
              "#7201a8"
             ],
             [
              0.3333333333333333,
              "#9c179e"
             ],
             [
              0.4444444444444444,
              "#bd3786"
             ],
             [
              0.5555555555555556,
              "#d8576b"
             ],
             [
              0.6666666666666666,
              "#ed7953"
             ],
             [
              0.7777777777777778,
              "#fb9f3a"
             ],
             [
              0.8888888888888888,
              "#fdca26"
             ],
             [
              1,
              "#f0f921"
             ]
            ],
            "type": "heatmapgl"
           }
          ],
          "histogram": [
           {
            "marker": {
             "pattern": {
              "fillmode": "overlay",
              "size": 10,
              "solidity": 0.2
             }
            },
            "type": "histogram"
           }
          ],
          "histogram2d": [
           {
            "colorbar": {
             "outlinewidth": 0,
             "ticks": ""
            },
            "colorscale": [
             [
              0,
              "#0d0887"
             ],
             [
              0.1111111111111111,
              "#46039f"
             ],
             [
              0.2222222222222222,
              "#7201a8"
             ],
             [
              0.3333333333333333,
              "#9c179e"
             ],
             [
              0.4444444444444444,
              "#bd3786"
             ],
             [
              0.5555555555555556,
              "#d8576b"
             ],
             [
              0.6666666666666666,
              "#ed7953"
             ],
             [
              0.7777777777777778,
              "#fb9f3a"
             ],
             [
              0.8888888888888888,
              "#fdca26"
             ],
             [
              1,
              "#f0f921"
             ]
            ],
            "type": "histogram2d"
           }
          ],
          "histogram2dcontour": [
           {
            "colorbar": {
             "outlinewidth": 0,
             "ticks": ""
            },
            "colorscale": [
             [
              0,
              "#0d0887"
             ],
             [
              0.1111111111111111,
              "#46039f"
             ],
             [
              0.2222222222222222,
              "#7201a8"
             ],
             [
              0.3333333333333333,
              "#9c179e"
             ],
             [
              0.4444444444444444,
              "#bd3786"
             ],
             [
              0.5555555555555556,
              "#d8576b"
             ],
             [
              0.6666666666666666,
              "#ed7953"
             ],
             [
              0.7777777777777778,
              "#fb9f3a"
             ],
             [
              0.8888888888888888,
              "#fdca26"
             ],
             [
              1,
              "#f0f921"
             ]
            ],
            "type": "histogram2dcontour"
           }
          ],
          "mesh3d": [
           {
            "colorbar": {
             "outlinewidth": 0,
             "ticks": ""
            },
            "type": "mesh3d"
           }
          ],
          "parcoords": [
           {
            "line": {
             "colorbar": {
              "outlinewidth": 0,
              "ticks": ""
             }
            },
            "type": "parcoords"
           }
          ],
          "pie": [
           {
            "automargin": true,
            "type": "pie"
           }
          ],
          "scatter": [
           {
            "fillpattern": {
             "fillmode": "overlay",
             "size": 10,
             "solidity": 0.2
            },
            "type": "scatter"
           }
          ],
          "scatter3d": [
           {
            "line": {
             "colorbar": {
              "outlinewidth": 0,
              "ticks": ""
             }
            },
            "marker": {
             "colorbar": {
              "outlinewidth": 0,
              "ticks": ""
             }
            },
            "type": "scatter3d"
           }
          ],
          "scattercarpet": [
           {
            "marker": {
             "colorbar": {
              "outlinewidth": 0,
              "ticks": ""
             }
            },
            "type": "scattercarpet"
           }
          ],
          "scattergeo": [
           {
            "marker": {
             "colorbar": {
              "outlinewidth": 0,
              "ticks": ""
             }
            },
            "type": "scattergeo"
           }
          ],
          "scattergl": [
           {
            "marker": {
             "colorbar": {
              "outlinewidth": 0,
              "ticks": ""
             }
            },
            "type": "scattergl"
           }
          ],
          "scattermapbox": [
           {
            "marker": {
             "colorbar": {
              "outlinewidth": 0,
              "ticks": ""
             }
            },
            "type": "scattermapbox"
           }
          ],
          "scatterpolar": [
           {
            "marker": {
             "colorbar": {
              "outlinewidth": 0,
              "ticks": ""
             }
            },
            "type": "scatterpolar"
           }
          ],
          "scatterpolargl": [
           {
            "marker": {
             "colorbar": {
              "outlinewidth": 0,
              "ticks": ""
             }
            },
            "type": "scatterpolargl"
           }
          ],
          "scatterternary": [
           {
            "marker": {
             "colorbar": {
              "outlinewidth": 0,
              "ticks": ""
             }
            },
            "type": "scatterternary"
           }
          ],
          "surface": [
           {
            "colorbar": {
             "outlinewidth": 0,
             "ticks": ""
            },
            "colorscale": [
             [
              0,
              "#0d0887"
             ],
             [
              0.1111111111111111,
              "#46039f"
             ],
             [
              0.2222222222222222,
              "#7201a8"
             ],
             [
              0.3333333333333333,
              "#9c179e"
             ],
             [
              0.4444444444444444,
              "#bd3786"
             ],
             [
              0.5555555555555556,
              "#d8576b"
             ],
             [
              0.6666666666666666,
              "#ed7953"
             ],
             [
              0.7777777777777778,
              "#fb9f3a"
             ],
             [
              0.8888888888888888,
              "#fdca26"
             ],
             [
              1,
              "#f0f921"
             ]
            ],
            "type": "surface"
           }
          ],
          "table": [
           {
            "cells": {
             "fill": {
              "color": "#EBF0F8"
             },
             "line": {
              "color": "white"
             }
            },
            "header": {
             "fill": {
              "color": "#C8D4E3"
             },
             "line": {
              "color": "white"
             }
            },
            "type": "table"
           }
          ]
         },
         "layout": {
          "annotationdefaults": {
           "arrowcolor": "#2a3f5f",
           "arrowhead": 0,
           "arrowwidth": 1
          },
          "autotypenumbers": "strict",
          "coloraxis": {
           "colorbar": {
            "outlinewidth": 0,
            "ticks": ""
           }
          },
          "colorscale": {
           "diverging": [
            [
             0,
             "#8e0152"
            ],
            [
             0.1,
             "#c51b7d"
            ],
            [
             0.2,
             "#de77ae"
            ],
            [
             0.3,
             "#f1b6da"
            ],
            [
             0.4,
             "#fde0ef"
            ],
            [
             0.5,
             "#f7f7f7"
            ],
            [
             0.6,
             "#e6f5d0"
            ],
            [
             0.7,
             "#b8e186"
            ],
            [
             0.8,
             "#7fbc41"
            ],
            [
             0.9,
             "#4d9221"
            ],
            [
             1,
             "#276419"
            ]
           ],
           "sequential": [
            [
             0,
             "#0d0887"
            ],
            [
             0.1111111111111111,
             "#46039f"
            ],
            [
             0.2222222222222222,
             "#7201a8"
            ],
            [
             0.3333333333333333,
             "#9c179e"
            ],
            [
             0.4444444444444444,
             "#bd3786"
            ],
            [
             0.5555555555555556,
             "#d8576b"
            ],
            [
             0.6666666666666666,
             "#ed7953"
            ],
            [
             0.7777777777777778,
             "#fb9f3a"
            ],
            [
             0.8888888888888888,
             "#fdca26"
            ],
            [
             1,
             "#f0f921"
            ]
           ],
           "sequentialminus": [
            [
             0,
             "#0d0887"
            ],
            [
             0.1111111111111111,
             "#46039f"
            ],
            [
             0.2222222222222222,
             "#7201a8"
            ],
            [
             0.3333333333333333,
             "#9c179e"
            ],
            [
             0.4444444444444444,
             "#bd3786"
            ],
            [
             0.5555555555555556,
             "#d8576b"
            ],
            [
             0.6666666666666666,
             "#ed7953"
            ],
            [
             0.7777777777777778,
             "#fb9f3a"
            ],
            [
             0.8888888888888888,
             "#fdca26"
            ],
            [
             1,
             "#f0f921"
            ]
           ]
          },
          "colorway": [
           "#636efa",
           "#EF553B",
           "#00cc96",
           "#ab63fa",
           "#FFA15A",
           "#19d3f3",
           "#FF6692",
           "#B6E880",
           "#FF97FF",
           "#FECB52"
          ],
          "font": {
           "color": "#2a3f5f"
          },
          "geo": {
           "bgcolor": "white",
           "lakecolor": "white",
           "landcolor": "#E5ECF6",
           "showlakes": true,
           "showland": true,
           "subunitcolor": "white"
          },
          "hoverlabel": {
           "align": "left"
          },
          "hovermode": "closest",
          "mapbox": {
           "style": "light"
          },
          "paper_bgcolor": "white",
          "plot_bgcolor": "#E5ECF6",
          "polar": {
           "angularaxis": {
            "gridcolor": "white",
            "linecolor": "white",
            "ticks": ""
           },
           "bgcolor": "#E5ECF6",
           "radialaxis": {
            "gridcolor": "white",
            "linecolor": "white",
            "ticks": ""
           }
          },
          "scene": {
           "xaxis": {
            "backgroundcolor": "#E5ECF6",
            "gridcolor": "white",
            "gridwidth": 2,
            "linecolor": "white",
            "showbackground": true,
            "ticks": "",
            "zerolinecolor": "white"
           },
           "yaxis": {
            "backgroundcolor": "#E5ECF6",
            "gridcolor": "white",
            "gridwidth": 2,
            "linecolor": "white",
            "showbackground": true,
            "ticks": "",
            "zerolinecolor": "white"
           },
           "zaxis": {
            "backgroundcolor": "#E5ECF6",
            "gridcolor": "white",
            "gridwidth": 2,
            "linecolor": "white",
            "showbackground": true,
            "ticks": "",
            "zerolinecolor": "white"
           }
          },
          "shapedefaults": {
           "line": {
            "color": "#2a3f5f"
           }
          },
          "ternary": {
           "aaxis": {
            "gridcolor": "white",
            "linecolor": "white",
            "ticks": ""
           },
           "baxis": {
            "gridcolor": "white",
            "linecolor": "white",
            "ticks": ""
           },
           "bgcolor": "#E5ECF6",
           "caxis": {
            "gridcolor": "white",
            "linecolor": "white",
            "ticks": ""
           }
          },
          "title": {
           "x": 0.05
          },
          "xaxis": {
           "automargin": true,
           "gridcolor": "white",
           "linecolor": "white",
           "ticks": "",
           "title": {
            "standoff": 15
           },
           "zerolinecolor": "white",
           "zerolinewidth": 2
          },
          "yaxis": {
           "automargin": true,
           "gridcolor": "white",
           "linecolor": "white",
           "ticks": "",
           "title": {
            "standoff": 15
           },
           "zerolinecolor": "white",
           "zerolinewidth": 2
          }
         }
        },
        "yaxis": {
         "type": "log"
        }
       }
      }
     },
     "metadata": {},
     "output_type": "display_data"
    }
   ],
   "source": [
    "# Saldo a liquidar por ND\n",
    "cols = ['ND', 'A_LIQUIDAR', 'LIQUIDADO_A_PAGAR', 'PAGO']\n",
    "\n",
    "df_aux = df.loc[:, cols].groupby('ND').sum().sort_values(by= 'A_LIQUIDAR', ascending=False).reset_index()\n",
    "df_aux = df_aux[df_aux['A_LIQUIDAR'] > 0]\n",
    "# Criando o gráfico\n",
    "fig = go.Figure()\n",
    "\n",
    "# Adicionando as colunas y1, y2 e y3 no eixo y\n",
    "fig.add_trace(go.Bar(x=df_aux['ND'], y=df_aux['A_LIQUIDAR'], name='A Liquidar'))\n",
    "fig.add_trace(go.Bar(x=df_aux['ND'], y=df_aux['LIQUIDADO_A_PAGAR'], name='Liquidado a pagar'))\n",
    "fig.add_trace(go.Bar(x=df_aux['ND'], y=df_aux['PAGO'], name='Pago'))\n",
    "\n",
    "fig.update_traces(textposition = 'outside', cliponaxis = False, hovertemplate=None)\n",
    "fig.update_layout(hovermode=\"x unified\")\n",
    "fig.update_yaxes(type=\"log\")\n",
    "\n",
    "fig.show()"
   ]
  },
  {
   "cell_type": "markdown",
   "metadata": {},
   "source": [
    "# Suporte para o Dashboard"
   ]
  },
  {
   "cell_type": "code",
   "execution_count": 13,
   "metadata": {},
   "outputs": [
    {
     "data": {
      "text/html": [
       "<div>\n",
       "<style scoped>\n",
       "    .dataframe tbody tr th:only-of-type {\n",
       "        vertical-align: middle;\n",
       "    }\n",
       "\n",
       "    .dataframe tbody tr th {\n",
       "        vertical-align: top;\n",
       "    }\n",
       "\n",
       "    .dataframe thead th {\n",
       "        text-align: right;\n",
       "    }\n",
       "</style>\n",
       "<table border=\"1\" class=\"dataframe\">\n",
       "  <thead>\n",
       "    <tr style=\"text-align: right;\">\n",
       "      <th></th>\n",
       "      <th>NE</th>\n",
       "      <th>A_LIQUIDAR</th>\n",
       "      <th>DIAS</th>\n",
       "      <th>NOME_NDSI</th>\n",
       "      <th>NDSI</th>\n",
       "    </tr>\n",
       "  </thead>\n",
       "  <tbody>\n",
       "    <tr>\n",
       "      <th>1152</th>\n",
       "      <td>2022NE001087</td>\n",
       "      <td>2397.00</td>\n",
       "      <td>406</td>\n",
       "      <td>MANUTENCAO E CONSERVACAO DE EQUIPAMENTOS DE TIC</td>\n",
       "      <td>33904012</td>\n",
       "    </tr>\n",
       "    <tr>\n",
       "      <th>1186</th>\n",
       "      <td>2022NE001086</td>\n",
       "      <td>3466.70</td>\n",
       "      <td>406</td>\n",
       "      <td>MANUTENCAO E CONSERVACAO DE EQUIPAMENTOS DE TIC</td>\n",
       "      <td>33904012</td>\n",
       "    </tr>\n",
       "    <tr>\n",
       "      <th>1185</th>\n",
       "      <td>2022NE001085</td>\n",
       "      <td>5543.35</td>\n",
       "      <td>406</td>\n",
       "      <td>MANUT. E CONSERV. DE MAQUINAS E EQUIPAMENTOS</td>\n",
       "      <td>33903917</td>\n",
       "    </tr>\n",
       "    <tr>\n",
       "      <th>1175</th>\n",
       "      <td>2022NE002421</td>\n",
       "      <td>5758.75</td>\n",
       "      <td>351</td>\n",
       "      <td>SERVICOS GRAFICOS E EDITORIAIS</td>\n",
       "      <td>33903963</td>\n",
       "    </tr>\n",
       "    <tr>\n",
       "      <th>1438</th>\n",
       "      <td>2022NE001843</td>\n",
       "      <td>1016.25</td>\n",
       "      <td>351</td>\n",
       "      <td>SERVICOS GRAFICOS E EDITORIAIS</td>\n",
       "      <td>33903963</td>\n",
       "    </tr>\n",
       "    <tr>\n",
       "      <th>965</th>\n",
       "      <td>2022NE002482</td>\n",
       "      <td>155796.97</td>\n",
       "      <td>337</td>\n",
       "      <td>MANUTENCAO E CONSERV. DE BENS IMOVEIS</td>\n",
       "      <td>33903916</td>\n",
       "    </tr>\n",
       "    <tr>\n",
       "      <th>966</th>\n",
       "      <td>2022NE002483</td>\n",
       "      <td>235144.91</td>\n",
       "      <td>337</td>\n",
       "      <td>MANUTENCAO E CONSERV. DE BENS IMOVEIS</td>\n",
       "      <td>33903916</td>\n",
       "    </tr>\n",
       "    <tr>\n",
       "      <th>967</th>\n",
       "      <td>2022NE002701</td>\n",
       "      <td>19358.27</td>\n",
       "      <td>323</td>\n",
       "      <td>MANUTENCAO E CONSERV. DE BENS IMOVEIS</td>\n",
       "      <td>33903916</td>\n",
       "    </tr>\n",
       "    <tr>\n",
       "      <th>1168</th>\n",
       "      <td>2022NE002702</td>\n",
       "      <td>12733.76</td>\n",
       "      <td>323</td>\n",
       "      <td>MANUTENCAO E CONSERV. DE BENS IMOVEIS</td>\n",
       "      <td>33903916</td>\n",
       "    </tr>\n",
       "    <tr>\n",
       "      <th>301</th>\n",
       "      <td>2023NE000001</td>\n",
       "      <td>108008.87</td>\n",
       "      <td>310</td>\n",
       "      <td>SERVICOS DE ENERGIA ELETRICA</td>\n",
       "      <td>33903943</td>\n",
       "    </tr>\n",
       "  </tbody>\n",
       "</table>\n",
       "</div>"
      ],
      "text/plain": [
       "                NE  A_LIQUIDAR  DIAS  \\\n",
       "1152  2022NE001087     2397.00   406   \n",
       "1186  2022NE001086     3466.70   406   \n",
       "1185  2022NE001085     5543.35   406   \n",
       "1175  2022NE002421     5758.75   351   \n",
       "1438  2022NE001843     1016.25   351   \n",
       "965   2022NE002482   155796.97   337   \n",
       "966   2022NE002483   235144.91   337   \n",
       "967   2022NE002701    19358.27   323   \n",
       "1168  2022NE002702    12733.76   323   \n",
       "301   2023NE000001   108008.87   310   \n",
       "\n",
       "                                            NOME_NDSI      NDSI  \n",
       "1152  MANUTENCAO E CONSERVACAO DE EQUIPAMENTOS DE TIC  33904012  \n",
       "1186  MANUTENCAO E CONSERVACAO DE EQUIPAMENTOS DE TIC  33904012  \n",
       "1185     MANUT. E CONSERV. DE MAQUINAS E EQUIPAMENTOS  33903917  \n",
       "1175                   SERVICOS GRAFICOS E EDITORIAIS  33903963  \n",
       "1438                   SERVICOS GRAFICOS E EDITORIAIS  33903963  \n",
       "965             MANUTENCAO E CONSERV. DE BENS IMOVEIS  33903916  \n",
       "966             MANUTENCAO E CONSERV. DE BENS IMOVEIS  33903916  \n",
       "967             MANUTENCAO E CONSERV. DE BENS IMOVEIS  33903916  \n",
       "1168            MANUTENCAO E CONSERV. DE BENS IMOVEIS  33903916  \n",
       "301                      SERVICOS DE ENERGIA ELETRICA  33903943  "
      ]
     },
     "execution_count": 13,
     "metadata": {},
     "output_type": "execute_result"
    }
   ],
   "source": [
    "cols = ['NE', 'A_LIQUIDAR', 'DIAS', 'NOME_NDSI', 'NDSI']\n",
    "\n",
    "df_aux = df.loc[:, cols].sort_values(by='DIAS', ascending=False)\n",
    "df_aux = df_aux[df_aux['A_LIQUIDAR'] != 0].head(10)\n",
    "df_aux"
   ]
  },
  {
   "cell_type": "code",
   "execution_count": 14,
   "metadata": {},
   "outputs": [
    {
     "data": {
      "application/vnd.plotly.v1+json": {
       "config": {
        "plotlyServerURL": "https://plot.ly"
       },
       "data": [
        {
         "alignmentgroup": "True",
         "customdata": [
          [
           406,
           "MANUTENCAO E CONSERVACAO DE EQUIPAMENTOS DE TIC",
           "33904012"
          ],
          [
           406,
           "MANUTENCAO E CONSERVACAO DE EQUIPAMENTOS DE TIC",
           "33904012"
          ],
          [
           406,
           "MANUT. E CONSERV. DE MAQUINAS E EQUIPAMENTOS",
           "33903917"
          ],
          [
           351,
           "SERVICOS GRAFICOS E EDITORIAIS",
           "33903963"
          ],
          [
           351,
           "SERVICOS GRAFICOS E EDITORIAIS",
           "33903963"
          ],
          [
           337,
           "MANUTENCAO E CONSERV. DE BENS IMOVEIS",
           "33903916"
          ],
          [
           337,
           "MANUTENCAO E CONSERV. DE BENS IMOVEIS",
           "33903916"
          ],
          [
           323,
           "MANUTENCAO E CONSERV. DE BENS IMOVEIS",
           "33903916"
          ],
          [
           323,
           "MANUTENCAO E CONSERV. DE BENS IMOVEIS",
           "33903916"
          ],
          [
           310,
           "SERVICOS DE ENERGIA ELETRICA",
           "33903943"
          ]
         ],
         "hovertemplate": "<b>%{hovertext}</b><br><br>Nota de Empenho=%{x}<br>Saldo a liquidar=%{y}<br>DIAS=%{marker.color}<br>NOME_NDSI=%{customdata[1]}<br>NDSI=%{customdata[2]}<extra></extra>",
         "hovertext": [
          "2022NE001087",
          "2022NE001086",
          "2022NE001085",
          "2022NE002421",
          "2022NE001843",
          "2022NE002482",
          "2022NE002483",
          "2022NE002701",
          "2022NE002702",
          "2023NE000001"
         ],
         "legendgroup": "",
         "marker": {
          "color": [
           406,
           406,
           406,
           351,
           351,
           337,
           337,
           323,
           323,
           310
          ],
          "coloraxis": "coloraxis",
          "pattern": {
           "shape": ""
          }
         },
         "name": "",
         "offsetgroup": "",
         "orientation": "v",
         "showlegend": false,
         "textposition": "outside",
         "texttemplate": "%{y:.3s}",
         "type": "bar",
         "x": [
          "2022NE001087",
          "2022NE001086",
          "2022NE001085",
          "2022NE002421",
          "2022NE001843",
          "2022NE002482",
          "2022NE002483",
          "2022NE002701",
          "2022NE002702",
          "2023NE000001"
         ],
         "xaxis": "x",
         "y": [
          2397,
          3466.7,
          5543.35,
          5758.75,
          1016.25,
          155796.97,
          235144.91,
          19358.27,
          12733.76,
          108008.87
         ],
         "yaxis": "y"
        }
       ],
       "layout": {
        "barmode": "relative",
        "coloraxis": {
         "colorbar": {
          "title": {
           "text": "DIAS"
          }
         },
         "colorscale": [
          [
           0,
           "rgb(255,245,240)"
          ],
          [
           0.125,
           "rgb(254,224,210)"
          ],
          [
           0.25,
           "rgb(252,187,161)"
          ],
          [
           0.375,
           "rgb(252,146,114)"
          ],
          [
           0.5,
           "rgb(251,106,74)"
          ],
          [
           0.625,
           "rgb(239,59,44)"
          ],
          [
           0.75,
           "rgb(203,24,29)"
          ],
          [
           0.875,
           "rgb(165,15,21)"
          ],
          [
           1,
           "rgb(103,0,13)"
          ]
         ]
        },
        "legend": {
         "tracegroupgap": 0
        },
        "template": {
         "data": {
          "bar": [
           {
            "error_x": {
             "color": "#f2f5fa"
            },
            "error_y": {
             "color": "#f2f5fa"
            },
            "marker": {
             "line": {
              "color": "rgb(17,17,17)",
              "width": 0.5
             },
             "pattern": {
              "fillmode": "overlay",
              "size": 10,
              "solidity": 0.2
             }
            },
            "type": "bar"
           }
          ],
          "barpolar": [
           {
            "marker": {
             "line": {
              "color": "rgb(17,17,17)",
              "width": 0.5
             },
             "pattern": {
              "fillmode": "overlay",
              "size": 10,
              "solidity": 0.2
             }
            },
            "type": "barpolar"
           }
          ],
          "carpet": [
           {
            "aaxis": {
             "endlinecolor": "#A2B1C6",
             "gridcolor": "#506784",
             "linecolor": "#506784",
             "minorgridcolor": "#506784",
             "startlinecolor": "#A2B1C6"
            },
            "baxis": {
             "endlinecolor": "#A2B1C6",
             "gridcolor": "#506784",
             "linecolor": "#506784",
             "minorgridcolor": "#506784",
             "startlinecolor": "#A2B1C6"
            },
            "type": "carpet"
           }
          ],
          "choropleth": [
           {
            "colorbar": {
             "outlinewidth": 0,
             "ticks": ""
            },
            "type": "choropleth"
           }
          ],
          "contour": [
           {
            "colorbar": {
             "outlinewidth": 0,
             "ticks": ""
            },
            "colorscale": [
             [
              0,
              "#0d0887"
             ],
             [
              0.1111111111111111,
              "#46039f"
             ],
             [
              0.2222222222222222,
              "#7201a8"
             ],
             [
              0.3333333333333333,
              "#9c179e"
             ],
             [
              0.4444444444444444,
              "#bd3786"
             ],
             [
              0.5555555555555556,
              "#d8576b"
             ],
             [
              0.6666666666666666,
              "#ed7953"
             ],
             [
              0.7777777777777778,
              "#fb9f3a"
             ],
             [
              0.8888888888888888,
              "#fdca26"
             ],
             [
              1,
              "#f0f921"
             ]
            ],
            "type": "contour"
           }
          ],
          "contourcarpet": [
           {
            "colorbar": {
             "outlinewidth": 0,
             "ticks": ""
            },
            "type": "contourcarpet"
           }
          ],
          "heatmap": [
           {
            "colorbar": {
             "outlinewidth": 0,
             "ticks": ""
            },
            "colorscale": [
             [
              0,
              "#0d0887"
             ],
             [
              0.1111111111111111,
              "#46039f"
             ],
             [
              0.2222222222222222,
              "#7201a8"
             ],
             [
              0.3333333333333333,
              "#9c179e"
             ],
             [
              0.4444444444444444,
              "#bd3786"
             ],
             [
              0.5555555555555556,
              "#d8576b"
             ],
             [
              0.6666666666666666,
              "#ed7953"
             ],
             [
              0.7777777777777778,
              "#fb9f3a"
             ],
             [
              0.8888888888888888,
              "#fdca26"
             ],
             [
              1,
              "#f0f921"
             ]
            ],
            "type": "heatmap"
           }
          ],
          "heatmapgl": [
           {
            "colorbar": {
             "outlinewidth": 0,
             "ticks": ""
            },
            "colorscale": [
             [
              0,
              "#0d0887"
             ],
             [
              0.1111111111111111,
              "#46039f"
             ],
             [
              0.2222222222222222,
              "#7201a8"
             ],
             [
              0.3333333333333333,
              "#9c179e"
             ],
             [
              0.4444444444444444,
              "#bd3786"
             ],
             [
              0.5555555555555556,
              "#d8576b"
             ],
             [
              0.6666666666666666,
              "#ed7953"
             ],
             [
              0.7777777777777778,
              "#fb9f3a"
             ],
             [
              0.8888888888888888,
              "#fdca26"
             ],
             [
              1,
              "#f0f921"
             ]
            ],
            "type": "heatmapgl"
           }
          ],
          "histogram": [
           {
            "marker": {
             "pattern": {
              "fillmode": "overlay",
              "size": 10,
              "solidity": 0.2
             }
            },
            "type": "histogram"
           }
          ],
          "histogram2d": [
           {
            "colorbar": {
             "outlinewidth": 0,
             "ticks": ""
            },
            "colorscale": [
             [
              0,
              "#0d0887"
             ],
             [
              0.1111111111111111,
              "#46039f"
             ],
             [
              0.2222222222222222,
              "#7201a8"
             ],
             [
              0.3333333333333333,
              "#9c179e"
             ],
             [
              0.4444444444444444,
              "#bd3786"
             ],
             [
              0.5555555555555556,
              "#d8576b"
             ],
             [
              0.6666666666666666,
              "#ed7953"
             ],
             [
              0.7777777777777778,
              "#fb9f3a"
             ],
             [
              0.8888888888888888,
              "#fdca26"
             ],
             [
              1,
              "#f0f921"
             ]
            ],
            "type": "histogram2d"
           }
          ],
          "histogram2dcontour": [
           {
            "colorbar": {
             "outlinewidth": 0,
             "ticks": ""
            },
            "colorscale": [
             [
              0,
              "#0d0887"
             ],
             [
              0.1111111111111111,
              "#46039f"
             ],
             [
              0.2222222222222222,
              "#7201a8"
             ],
             [
              0.3333333333333333,
              "#9c179e"
             ],
             [
              0.4444444444444444,
              "#bd3786"
             ],
             [
              0.5555555555555556,
              "#d8576b"
             ],
             [
              0.6666666666666666,
              "#ed7953"
             ],
             [
              0.7777777777777778,
              "#fb9f3a"
             ],
             [
              0.8888888888888888,
              "#fdca26"
             ],
             [
              1,
              "#f0f921"
             ]
            ],
            "type": "histogram2dcontour"
           }
          ],
          "mesh3d": [
           {
            "colorbar": {
             "outlinewidth": 0,
             "ticks": ""
            },
            "type": "mesh3d"
           }
          ],
          "parcoords": [
           {
            "line": {
             "colorbar": {
              "outlinewidth": 0,
              "ticks": ""
             }
            },
            "type": "parcoords"
           }
          ],
          "pie": [
           {
            "automargin": true,
            "type": "pie"
           }
          ],
          "scatter": [
           {
            "marker": {
             "line": {
              "color": "#283442"
             }
            },
            "type": "scatter"
           }
          ],
          "scatter3d": [
           {
            "line": {
             "colorbar": {
              "outlinewidth": 0,
              "ticks": ""
             }
            },
            "marker": {
             "colorbar": {
              "outlinewidth": 0,
              "ticks": ""
             }
            },
            "type": "scatter3d"
           }
          ],
          "scattercarpet": [
           {
            "marker": {
             "colorbar": {
              "outlinewidth": 0,
              "ticks": ""
             }
            },
            "type": "scattercarpet"
           }
          ],
          "scattergeo": [
           {
            "marker": {
             "colorbar": {
              "outlinewidth": 0,
              "ticks": ""
             }
            },
            "type": "scattergeo"
           }
          ],
          "scattergl": [
           {
            "marker": {
             "line": {
              "color": "#283442"
             }
            },
            "type": "scattergl"
           }
          ],
          "scattermapbox": [
           {
            "marker": {
             "colorbar": {
              "outlinewidth": 0,
              "ticks": ""
             }
            },
            "type": "scattermapbox"
           }
          ],
          "scatterpolar": [
           {
            "marker": {
             "colorbar": {
              "outlinewidth": 0,
              "ticks": ""
             }
            },
            "type": "scatterpolar"
           }
          ],
          "scatterpolargl": [
           {
            "marker": {
             "colorbar": {
              "outlinewidth": 0,
              "ticks": ""
             }
            },
            "type": "scatterpolargl"
           }
          ],
          "scatterternary": [
           {
            "marker": {
             "colorbar": {
              "outlinewidth": 0,
              "ticks": ""
             }
            },
            "type": "scatterternary"
           }
          ],
          "surface": [
           {
            "colorbar": {
             "outlinewidth": 0,
             "ticks": ""
            },
            "colorscale": [
             [
              0,
              "#0d0887"
             ],
             [
              0.1111111111111111,
              "#46039f"
             ],
             [
              0.2222222222222222,
              "#7201a8"
             ],
             [
              0.3333333333333333,
              "#9c179e"
             ],
             [
              0.4444444444444444,
              "#bd3786"
             ],
             [
              0.5555555555555556,
              "#d8576b"
             ],
             [
              0.6666666666666666,
              "#ed7953"
             ],
             [
              0.7777777777777778,
              "#fb9f3a"
             ],
             [
              0.8888888888888888,
              "#fdca26"
             ],
             [
              1,
              "#f0f921"
             ]
            ],
            "type": "surface"
           }
          ],
          "table": [
           {
            "cells": {
             "fill": {
              "color": "#506784"
             },
             "line": {
              "color": "rgb(17,17,17)"
             }
            },
            "header": {
             "fill": {
              "color": "#2a3f5f"
             },
             "line": {
              "color": "rgb(17,17,17)"
             }
            },
            "type": "table"
           }
          ]
         },
         "layout": {
          "annotationdefaults": {
           "arrowcolor": "#f2f5fa",
           "arrowhead": 0,
           "arrowwidth": 1
          },
          "autotypenumbers": "strict",
          "coloraxis": {
           "colorbar": {
            "outlinewidth": 0,
            "ticks": ""
           }
          },
          "colorscale": {
           "diverging": [
            [
             0,
             "#8e0152"
            ],
            [
             0.1,
             "#c51b7d"
            ],
            [
             0.2,
             "#de77ae"
            ],
            [
             0.3,
             "#f1b6da"
            ],
            [
             0.4,
             "#fde0ef"
            ],
            [
             0.5,
             "#f7f7f7"
            ],
            [
             0.6,
             "#e6f5d0"
            ],
            [
             0.7,
             "#b8e186"
            ],
            [
             0.8,
             "#7fbc41"
            ],
            [
             0.9,
             "#4d9221"
            ],
            [
             1,
             "#276419"
            ]
           ],
           "sequential": [
            [
             0,
             "#0d0887"
            ],
            [
             0.1111111111111111,
             "#46039f"
            ],
            [
             0.2222222222222222,
             "#7201a8"
            ],
            [
             0.3333333333333333,
             "#9c179e"
            ],
            [
             0.4444444444444444,
             "#bd3786"
            ],
            [
             0.5555555555555556,
             "#d8576b"
            ],
            [
             0.6666666666666666,
             "#ed7953"
            ],
            [
             0.7777777777777778,
             "#fb9f3a"
            ],
            [
             0.8888888888888888,
             "#fdca26"
            ],
            [
             1,
             "#f0f921"
            ]
           ],
           "sequentialminus": [
            [
             0,
             "#0d0887"
            ],
            [
             0.1111111111111111,
             "#46039f"
            ],
            [
             0.2222222222222222,
             "#7201a8"
            ],
            [
             0.3333333333333333,
             "#9c179e"
            ],
            [
             0.4444444444444444,
             "#bd3786"
            ],
            [
             0.5555555555555556,
             "#d8576b"
            ],
            [
             0.6666666666666666,
             "#ed7953"
            ],
            [
             0.7777777777777778,
             "#fb9f3a"
            ],
            [
             0.8888888888888888,
             "#fdca26"
            ],
            [
             1,
             "#f0f921"
            ]
           ]
          },
          "colorway": [
           "#636efa",
           "#EF553B",
           "#00cc96",
           "#ab63fa",
           "#FFA15A",
           "#19d3f3",
           "#FF6692",
           "#B6E880",
           "#FF97FF",
           "#FECB52"
          ],
          "font": {
           "color": "#f2f5fa"
          },
          "geo": {
           "bgcolor": "rgb(17,17,17)",
           "lakecolor": "rgb(17,17,17)",
           "landcolor": "rgb(17,17,17)",
           "showlakes": true,
           "showland": true,
           "subunitcolor": "#506784"
          },
          "hoverlabel": {
           "align": "left"
          },
          "hovermode": "closest",
          "mapbox": {
           "style": "dark"
          },
          "paper_bgcolor": "rgb(17,17,17)",
          "plot_bgcolor": "rgb(17,17,17)",
          "polar": {
           "angularaxis": {
            "gridcolor": "#506784",
            "linecolor": "#506784",
            "ticks": ""
           },
           "bgcolor": "rgb(17,17,17)",
           "radialaxis": {
            "gridcolor": "#506784",
            "linecolor": "#506784",
            "ticks": ""
           }
          },
          "scene": {
           "xaxis": {
            "backgroundcolor": "rgb(17,17,17)",
            "gridcolor": "#506784",
            "gridwidth": 2,
            "linecolor": "#506784",
            "showbackground": true,
            "ticks": "",
            "zerolinecolor": "#C8D4E3"
           },
           "yaxis": {
            "backgroundcolor": "rgb(17,17,17)",
            "gridcolor": "#506784",
            "gridwidth": 2,
            "linecolor": "#506784",
            "showbackground": true,
            "ticks": "",
            "zerolinecolor": "#C8D4E3"
           },
           "zaxis": {
            "backgroundcolor": "rgb(17,17,17)",
            "gridcolor": "#506784",
            "gridwidth": 2,
            "linecolor": "#506784",
            "showbackground": true,
            "ticks": "",
            "zerolinecolor": "#C8D4E3"
           }
          },
          "shapedefaults": {
           "line": {
            "color": "#f2f5fa"
           }
          },
          "sliderdefaults": {
           "bgcolor": "#C8D4E3",
           "bordercolor": "rgb(17,17,17)",
           "borderwidth": 1,
           "tickwidth": 0
          },
          "ternary": {
           "aaxis": {
            "gridcolor": "#506784",
            "linecolor": "#506784",
            "ticks": ""
           },
           "baxis": {
            "gridcolor": "#506784",
            "linecolor": "#506784",
            "ticks": ""
           },
           "bgcolor": "rgb(17,17,17)",
           "caxis": {
            "gridcolor": "#506784",
            "linecolor": "#506784",
            "ticks": ""
           }
          },
          "title": {
           "x": 0.05
          },
          "updatemenudefaults": {
           "bgcolor": "#506784",
           "borderwidth": 0
          },
          "xaxis": {
           "automargin": true,
           "gridcolor": "#283442",
           "linecolor": "#506784",
           "ticks": "",
           "title": {
            "standoff": 15
           },
           "zerolinecolor": "#283442",
           "zerolinewidth": 2
          },
          "yaxis": {
           "automargin": true,
           "gridcolor": "#283442",
           "linecolor": "#506784",
           "ticks": "",
           "title": {
            "standoff": 15
           },
           "zerolinecolor": "#283442",
           "zerolinewidth": 2
          }
         }
        },
        "title": {
         "text": "10 empenhos com mais tempo na tela"
        },
        "xaxis": {
         "anchor": "y",
         "domain": [
          0,
          1
         ],
         "title": {
          "text": "Nota de Empenho"
         }
        },
        "yaxis": {
         "anchor": "x",
         "domain": [
          0,
          1
         ],
         "title": {
          "text": "Saldo a liquidar"
         },
         "type": "log"
        }
       }
      }
     },
     "metadata": {},
     "output_type": "display_data"
    }
   ],
   "source": [
    "# Saldo a liquidar por tipo de NE\n",
    "cols = ['NE', 'A_LIQUIDAR', 'DIAS', 'NOME_NDSI', 'NDSI']\n",
    "df_aux = df.loc[:, cols].sort_values(by='DIAS', ascending=False)\n",
    "df_aux = df_aux[df_aux['A_LIQUIDAR'] != 0].head(10)\n",
    "fig = px.bar(df_aux, \n",
    "             x='NE', \n",
    "             y='A_LIQUIDAR',\n",
    "             title='10 empenhos com mais tempo na tela',\n",
    "             labels={'NE':'Nota de Empenho', 'A_LIQUIDAR':'Saldo a liquidar'},\n",
    "             text_auto='.3s',\n",
    "             color='DIAS',\n",
    "             color_continuous_scale = 'reds',\n",
    "             log_y=True,\n",
    "             template='plotly_dark',\n",
    "             hover_name=\"NE\", hover_data={'DIAS': True, 'A_LIQUIDAR': True, 'NOME_NDSI': True, 'NDSI': True})\n",
    "fig.update_traces(textposition = 'outside')\n",
    "\n",
    "\n",
    "fig.show()"
   ]
  },
  {
   "cell_type": "markdown",
   "metadata": {},
   "source": [
    "## Informações para SideBar"
   ]
  },
  {
   "cell_type": "code",
   "execution_count": 15,
   "metadata": {},
   "outputs": [
    {
     "data": {
      "text/plain": [
       "3335"
      ]
     },
     "execution_count": 15,
     "metadata": {},
     "output_type": "execute_result"
    }
   ],
   "source": [
    "# Qtde de empenhos realizados até o momento\n",
    "df.shape[0]"
   ]
  },
  {
   "cell_type": "markdown",
   "metadata": {},
   "source": [
    "# Requisição em API para consulta a CNPJ"
   ]
  },
  {
   "cell_type": "code",
   "execution_count": 16,
   "metadata": {},
   "outputs": [
    {
     "name": "stdout",
     "output_type": "stream",
     "text": [
      "{'abertura': '03/11/2014',\n",
      " 'atividade_principal': [{'code': '79.11-2-00', 'text': 'Agências de viagens'}],\n",
      " 'atividades_secundarias': [{'code': '59.11-1-99',\n",
      "                             'text': 'Atividades de produção cinematográfica, '\n",
      "                                     'de vídeos e de programas de televisão '\n",
      "                                     'não especificadas anteriormente'},\n",
      "                            {'code': '63.99-2-00',\n",
      "                             'text': 'Outras atividades de prestação de '\n",
      "                                     'serviços de informação não especificadas '\n",
      "                                     'anteriormente'},\n",
      "                            {'code': '79.12-1-00',\n",
      "                             'text': 'Operadores turísticos'},\n",
      "                            {'code': '79.90-2-00',\n",
      "                             'text': 'Serviços de reservas e outros serviços '\n",
      "                                     'de turismo não especificados '\n",
      "                                     'anteriormente'},\n",
      "                            {'code': '82.30-0-01',\n",
      "                             'text': 'Serviços de organização de feiras, '\n",
      "                                     'congressos, exposições e festas'},\n",
      "                            {'code': '85.99-6-04',\n",
      "                             'text': 'Treinamento em desenvolvimento '\n",
      "                                     'profissional e gerencial'}],\n",
      " 'bairro': 'CENTRO',\n",
      " 'billing': {'database': True, 'free': True},\n",
      " 'capital_social': '300000.00',\n",
      " 'cep': '09.750-700',\n",
      " 'cnpj': '21.331.404/0001-38',\n",
      " 'complemento': 'SALA 301 A 306 310 E 311 BLOCO 01 COND MONDIAL SBC',\n",
      " 'data_situacao': '03/11/2014',\n",
      " 'data_situacao_especial': '',\n",
      " 'efr': '',\n",
      " 'email': 'orleans@orleanstur.com.br',\n",
      " 'extra': {},\n",
      " 'fantasia': 'ORLEANSTUR',\n",
      " 'logradouro': 'PRACA SAMUEL SABATINI',\n",
      " 'motivo_situacao': '',\n",
      " 'municipio': 'SAO BERNARDO DO CAMPO',\n",
      " 'natureza_juridica': '206-2 - Sociedade Empresária Limitada',\n",
      " 'nome': 'ORLEANS VIAGENS E TURISMO LTDA',\n",
      " 'numero': '226',\n",
      " 'porte': 'EMPRESA DE PEQUENO PORTE',\n",
      " 'qsa': [{'nome': 'SILAS BEZERRA DE ALENCAR', 'qual': '49-Sócio-Administrador'},\n",
      "         {'nome': 'WAGNER FERREIRA MOITA', 'qual': '49-Sócio-Administrador'}],\n",
      " 'situacao': 'ATIVA',\n",
      " 'situacao_especial': '',\n",
      " 'status': 'OK',\n",
      " 'telefone': '(11) 2273-4343',\n",
      " 'tipo': 'MATRIZ',\n",
      " 'uf': 'SP',\n",
      " 'ultima_atualizacao': '2023-10-14T23:59:59.000Z'}\n"
     ]
    }
   ],
   "source": [
    "import requests\n",
    "from pprint import pprint\n",
    "\n",
    "url = \"https://receitaws.com.br/v1/cnpj/21331404000138\"\n",
    "\n",
    "headers = {\"Accept\": \"application/json\"}\n",
    "\n",
    "response = requests.get(url, headers=headers)\n",
    "\n",
    "pprint(response.json())"
   ]
  },
  {
   "cell_type": "code",
   "execution_count": 17,
   "metadata": {},
   "outputs": [
    {
     "name": "stdout",
     "output_type": "stream",
     "text": [
      "{'abertura': '28/08/2015',\n",
      " 'atividade_principal': [{'code': '26.21-3-00',\n",
      "                          'text': 'Fabricação de equipamentos de informática'}],\n",
      " 'atividades_secundarias': [{'code': '26.22-1-00',\n",
      "                             'text': 'Fabricação de periféricos para '\n",
      "                                     'equipamentos de informática'},\n",
      "                            {'code': '27.59-7-99',\n",
      "                             'text': 'Fabricação de outros aparelhos '\n",
      "                                     'eletrodomésticos não especificados '\n",
      "                                     'anteriormente, peças e acessórios'},\n",
      "                            {'code': '46.19-2-00',\n",
      "                             'text': 'Representantes comerciais e agentes do '\n",
      "                                     'comércio de mercadorias em geral não '\n",
      "                                     'especializado'},\n",
      "                            {'code': '46.51-6-01',\n",
      "                             'text': 'Comércio atacadista de equipamentos de '\n",
      "                                     'informática'},\n",
      "                            {'code': '47.54-7-01',\n",
      "                             'text': 'Comércio varejista de móveis'},\n",
      "                            {'code': '46.49-4-02',\n",
      "                             'text': 'Comércio atacadista de aparelhos '\n",
      "                                     'eletrônicos de uso pessoal e doméstico'},\n",
      "                            {'code': '46.47-8-02',\n",
      "                             'text': 'Comércio atacadista de livros, jornais e '\n",
      "                                     'outras publicações'},\n",
      "                            {'code': '62.04-0-00',\n",
      "                             'text': 'Consultoria em tecnologia da informação'},\n",
      "                            {'code': '62.02-3-00',\n",
      "                             'text': 'Desenvolvimento e licenciamento de '\n",
      "                                     'programas de computador customizáveis'},\n",
      "                            {'code': '63.19-4-00',\n",
      "                             'text': 'Portais, provedores de conteúdo e outros '\n",
      "                                     'serviços de informação na internet'},\n",
      "                            {'code': '62.01-5-01',\n",
      "                             'text': 'Desenvolvimento de programas de '\n",
      "                                     'computador sob encomenda'},\n",
      "                            {'code': '58.11-5-00', 'text': 'Edição de livros'},\n",
      "                            {'code': '64.62-0-00',\n",
      "                             'text': 'Holdings de instituições '\n",
      "                                     'não-financeiras'},\n",
      "                            {'code': '71.19-7-03',\n",
      "                             'text': 'Serviços de desenho técnico relacionados '\n",
      "                                     'à arquitetura e engenharia'},\n",
      "                            {'code': '77.33-1-00',\n",
      "                             'text': 'Aluguel de máquinas e equipamentos para '\n",
      "                                     'escritórios'},\n",
      "                            {'code': '77.40-3-00',\n",
      "                             'text': 'Gestão de ativos intangíveis '\n",
      "                                     'não-financeiros'},\n",
      "                            {'code': '85.50-3-02',\n",
      "                             'text': 'Atividades de apoio à educação, exceto '\n",
      "                                     'caixas escolares'},\n",
      "                            {'code': '85.99-6-04',\n",
      "                             'text': 'Treinamento em desenvolvimento '\n",
      "                                     'profissional e gerencial'},\n",
      "                            {'code': '95.21-5-00',\n",
      "                             'text': 'Reparação e manutenção de equipamentos '\n",
      "                                     'eletroeletrônicos de uso pessoal e '\n",
      "                                     'doméstico'},\n",
      "                            {'code': '95.11-8-00',\n",
      "                             'text': 'Reparação e manutenção de computadores e '\n",
      "                                     'de equipamentos periféricos'},\n",
      "                            {'code': '26.32-9-00',\n",
      "                             'text': 'Fabricação de aparelhos telefônicos e de '\n",
      "                                     'outros equipamentos de comunicação, '\n",
      "                                     'peças e acessórios'}],\n",
      " 'bairro': 'DISTRITO INDUSTRIAL I',\n",
      " 'billing': {'database': True, 'free': True},\n",
      " 'capital_social': '0.00',\n",
      " 'cep': '69.075-110',\n",
      " 'cnpj': '81.243.735/0019-77',\n",
      " 'complemento': 'LOTE 257-B',\n",
      " 'data_situacao': '28/08/2015',\n",
      " 'data_situacao_especial': '',\n",
      " 'efr': '',\n",
      " 'email': 'fiscal@positivo.com.br',\n",
      " 'extra': {},\n",
      " 'fantasia': '',\n",
      " 'logradouro': 'R JAVARI',\n",
      " 'motivo_situacao': '',\n",
      " 'municipio': 'MANAUS',\n",
      " 'natureza_juridica': '204-6 - Sociedade Anônima Aberta',\n",
      " 'nome': 'POSITIVO TECNOLOGIA S.A.',\n",
      " 'numero': '1255',\n",
      " 'porte': 'DEMAIS',\n",
      " 'qsa': [],\n",
      " 'situacao': 'ATIVA',\n",
      " 'situacao_especial': '',\n",
      " 'status': 'OK',\n",
      " 'telefone': '(41) 3316-7700',\n",
      " 'tipo': 'FILIAL',\n",
      " 'uf': 'AM',\n",
      " 'ultima_atualizacao': '2023-11-16T13:46:52.069Z'}\n"
     ]
    }
   ],
   "source": [
    "def consulta_cnpj(numero_cnpj):\n",
    "    url = f\"https://receitaws.com.br/v1/cnpj/{numero_cnpj}\"\n",
    "\n",
    "    headers = {\"Accept\": \"application/json\"}\n",
    "\n",
    "    response = requests.get(url, headers=headers)\n",
    "    \n",
    "    dic_fornecedor = response.json()\n",
    "    \n",
    "    return dic_fornecedor\n",
    "\n",
    "# Criar um dicionário vazio fora da função\n",
    "dicionario = {}\n",
    "\n",
    "# Chamar a função e atribuir o resultado ao dicionário\n",
    "dicionario = consulta_cnpj('81243735001977')\n",
    "\n",
    "# Imprimir o dicionário\n",
    "pprint(dicionario)"
   ]
  },
  {
   "cell_type": "code",
   "execution_count": 18,
   "metadata": {},
   "outputs": [
    {
     "name": "stdout",
     "output_type": "stream",
     "text": [
      "{'abertura': '28/08/2015',\n",
      " 'atividade_principal': [{'code': '26.21-3-00',\n",
      "                          'text': 'Fabricação de equipamentos de informática'}],\n",
      " 'atividades_secundarias': [{'code': '26.22-1-00',\n",
      "                             'text': 'Fabricação de periféricos para '\n",
      "                                     'equipamentos de informática'},\n",
      "                            {'code': '27.59-7-99',\n",
      "                             'text': 'Fabricação de outros aparelhos '\n",
      "                                     'eletrodomésticos não especificados '\n",
      "                                     'anteriormente, peças e acessórios'},\n",
      "                            {'code': '46.19-2-00',\n",
      "                             'text': 'Representantes comerciais e agentes do '\n",
      "                                     'comércio de mercadorias em geral não '\n",
      "                                     'especializado'},\n",
      "                            {'code': '46.51-6-01',\n",
      "                             'text': 'Comércio atacadista de equipamentos de '\n",
      "                                     'informática'},\n",
      "                            {'code': '47.54-7-01',\n",
      "                             'text': 'Comércio varejista de móveis'},\n",
      "                            {'code': '46.49-4-02',\n",
      "                             'text': 'Comércio atacadista de aparelhos '\n",
      "                                     'eletrônicos de uso pessoal e doméstico'},\n",
      "                            {'code': '46.47-8-02',\n",
      "                             'text': 'Comércio atacadista de livros, jornais e '\n",
      "                                     'outras publicações'},\n",
      "                            {'code': '62.04-0-00',\n",
      "                             'text': 'Consultoria em tecnologia da informação'},\n",
      "                            {'code': '62.02-3-00',\n",
      "                             'text': 'Desenvolvimento e licenciamento de '\n",
      "                                     'programas de computador customizáveis'},\n",
      "                            {'code': '63.19-4-00',\n",
      "                             'text': 'Portais, provedores de conteúdo e outros '\n",
      "                                     'serviços de informação na internet'},\n",
      "                            {'code': '62.01-5-01',\n",
      "                             'text': 'Desenvolvimento de programas de '\n",
      "                                     'computador sob encomenda'},\n",
      "                            {'code': '58.11-5-00', 'text': 'Edição de livros'},\n",
      "                            {'code': '64.62-0-00',\n",
      "                             'text': 'Holdings de instituições '\n",
      "                                     'não-financeiras'},\n",
      "                            {'code': '71.19-7-03',\n",
      "                             'text': 'Serviços de desenho técnico relacionados '\n",
      "                                     'à arquitetura e engenharia'},\n",
      "                            {'code': '77.33-1-00',\n",
      "                             'text': 'Aluguel de máquinas e equipamentos para '\n",
      "                                     'escritórios'},\n",
      "                            {'code': '77.40-3-00',\n",
      "                             'text': 'Gestão de ativos intangíveis '\n",
      "                                     'não-financeiros'},\n",
      "                            {'code': '85.50-3-02',\n",
      "                             'text': 'Atividades de apoio à educação, exceto '\n",
      "                                     'caixas escolares'},\n",
      "                            {'code': '85.99-6-04',\n",
      "                             'text': 'Treinamento em desenvolvimento '\n",
      "                                     'profissional e gerencial'},\n",
      "                            {'code': '95.21-5-00',\n",
      "                             'text': 'Reparação e manutenção de equipamentos '\n",
      "                                     'eletroeletrônicos de uso pessoal e '\n",
      "                                     'doméstico'},\n",
      "                            {'code': '95.11-8-00',\n",
      "                             'text': 'Reparação e manutenção de computadores e '\n",
      "                                     'de equipamentos periféricos'},\n",
      "                            {'code': '26.32-9-00',\n",
      "                             'text': 'Fabricação de aparelhos telefônicos e de '\n",
      "                                     'outros equipamentos de comunicação, '\n",
      "                                     'peças e acessórios'}],\n",
      " 'bairro': 'DISTRITO INDUSTRIAL I',\n",
      " 'billing': {'database': True, 'free': True},\n",
      " 'capital_social': '0.00',\n",
      " 'cep': '69.075-110',\n",
      " 'cnpj': '81.243.735/0019-77',\n",
      " 'complemento': 'LOTE 257-B',\n",
      " 'data_situacao': '28/08/2015',\n",
      " 'data_situacao_especial': '',\n",
      " 'efr': '',\n",
      " 'email': 'fiscal@positivo.com.br',\n",
      " 'extra': {},\n",
      " 'fantasia': '',\n",
      " 'logradouro': 'R JAVARI',\n",
      " 'motivo_situacao': '',\n",
      " 'municipio': 'MANAUS',\n",
      " 'natureza_juridica': '204-6 - Sociedade Anônima Aberta',\n",
      " 'nome': 'POSITIVO TECNOLOGIA S.A.',\n",
      " 'numero': '1255',\n",
      " 'porte': 'DEMAIS',\n",
      " 'qsa': [],\n",
      " 'situacao': 'ATIVA',\n",
      " 'situacao_especial': '',\n",
      " 'status': 'OK',\n",
      " 'telefone': '(41) 3316-7700',\n",
      " 'tipo': 'FILIAL',\n",
      " 'uf': 'AM',\n",
      " 'ultima_atualizacao': '2023-11-16T13:46:52.069Z'}\n"
     ]
    }
   ],
   "source": [
    "pprint(dicionario)"
   ]
  },
  {
   "cell_type": "code",
   "execution_count": 19,
   "metadata": {},
   "outputs": [
    {
     "data": {
      "text/plain": [
       "'POSITIVO TECNOLOGIA S.A.'"
      ]
     },
     "execution_count": 19,
     "metadata": {},
     "output_type": "execute_result"
    }
   ],
   "source": [
    "dicionario['nome']"
   ]
  },
  {
   "cell_type": "code",
   "execution_count": 20,
   "metadata": {},
   "outputs": [
    {
     "data": {
      "text/plain": [
       "'(41) 3316-7700'"
      ]
     },
     "execution_count": 20,
     "metadata": {},
     "output_type": "execute_result"
    }
   ],
   "source": [
    "dicionario['telefone']"
   ]
  },
  {
   "cell_type": "code",
   "execution_count": 21,
   "metadata": {},
   "outputs": [
    {
     "data": {
      "text/plain": [
       "'fiscal@positivo.com.br'"
      ]
     },
     "execution_count": 21,
     "metadata": {},
     "output_type": "execute_result"
    }
   ],
   "source": [
    "dicionario['email']"
   ]
  },
  {
   "cell_type": "code",
   "execution_count": 22,
   "metadata": {},
   "outputs": [
    {
     "data": {
      "text/plain": [
       "'R JAVARI, 1255 - DISTRITO INDUSTRIAL I - MANAUS / AM'"
      ]
     },
     "execution_count": 22,
     "metadata": {},
     "output_type": "execute_result"
    }
   ],
   "source": [
    "dicionario['logradouro'] + ', ' + dicionario['numero'] + ' - ' + dicionario['bairro'] + ' - ' + dicionario['municipio'] + ' / ' + dicionario['uf']"
   ]
  },
  {
   "cell_type": "code",
   "execution_count": 23,
   "metadata": {},
   "outputs": [
    {
     "data": {
      "text/plain": [
       "array(['01590728000264', '05462543000144', '08792763000124',\n",
       "       '11142525000188', '28811718000187', '31053239000153',\n",
       "       '33658130000175', '37583132000101', '01590728000850',\n",
       "       '05872523000141', '06981180000116', '09583781000169',\n",
       "       '12742245000173', '17281106000103', '20584944000160',\n",
       "       '27325275000151', '27995686000154', '34028316001509',\n",
       "       '39319890000134', '41505690000118', '41776201000162',\n",
       "       '43003732000148', '43433811000199', '44812602000119',\n",
       "       '45424853000199', '76535764000143', '00139736000145',\n",
       "       '01255291000121', '01804159000121', '02338743000100',\n",
       "       '02347121000210', '03157268000120', '03539933000140',\n",
       "       '04785664000164', '05088041000103', '06022475000165',\n",
       "       '06131805000150', '06894510000136', '07027329743',\n",
       "       '07457410000296', '07912053000128', '08605233000120',\n",
       "       '08703140000138', '09035549000196', '09249668000141',\n",
       "       '09505477000101', '10463704000154', '10526703000101',\n",
       "       '10842829000195', '10902067000175', '11094173000132',\n",
       "       '11532912000120', '12669334000131', '13857945000176',\n",
       "       '13986656000177', '14459158000139', '14807420000199',\n",
       "       '14951451000119', '14968227000130', '15153524000190',\n",
       "       '17254509000163', '17623276000129', '17955535000119',\n",
       "       '18707234000139', '18726078000153', '19234111000190',\n",
       "       '19612735000102', '19994997000170', '20240470000130',\n",
       "       '21331404000138', '21425509000156', '21578205000129',\n",
       "       '23122344000179', '23178866000192', '23533848000181',\n",
       "       '24083086000121', '26503796000199', '27619368000199',\n",
       "       '28719518000107', '29552669000178', '29704594000101',\n",
       "       '29774797000166', '30189974000126', '31535157000145',\n",
       "       '32542998000142', '33171503000189', '35764167000103',\n",
       "       '36277221000159', '37087255000143', '38084736000168',\n",
       "       '39242061000109', '39988022000147', '39999415000156',\n",
       "       '40000327000188', '40223106000179', '40225662000184',\n",
       "       '40695811000179', '41841443000192', '42107381000152',\n",
       "       '42772140000128', '43892634000109', '43928711000133',\n",
       "       '44384524000107', '45135133000103', '45258432000216',\n",
       "       '45769285000168', '46367384000186', '46920049000163',\n",
       "       '47378309000183', '48778881000100', '48959315000197',\n",
       "       '49316139000138', '49577909000104', '49720354000108',\n",
       "       '51204249000150', '52250227000199', '53202768000104',\n",
       "       '65095531000150', '65271868000171', '65295172000185',\n",
       "       '65353401000170', '76535764000658', '06187402000123',\n",
       "       '13218025000108', '19299157000198', '20324748000157',\n",
       "       '30678144000162', '36434865000103', '38339341000169',\n",
       "       '12433700000159', '19791896006486', '19871268000127',\n",
       "       '20421805000116', '20702528000110', '20942789000107',\n",
       "       '21016690000147', '26517495000114', '31038751000120',\n",
       "       '33180160000119', '37748531000177', '71001465000105',\n",
       "       '05291541000130', '06910908000119', '07259386000108',\n",
       "       '07665456000110', '08194579000182', '08532500000186',\n",
       "       '09039582000194', '10614788000180', '10626630000120',\n",
       "       '10653955000100', '11186469000183', '14163479000191',\n",
       "       '14203779000157', '15407876000124', '19769219000188',\n",
       "       '21348054000112', '21971041000103', '28259514000185',\n",
       "       '29455568000189', '29926189000120', '30372538000198',\n",
       "       '31206933000163', '31634238000100', '31669124000198',\n",
       "       '33497491000187', '33618396000194', '35307908000127',\n",
       "       '35411786000114', '36045363000190', '37421415000149',\n",
       "       '40224243000128', '43782859000102', '44259236000112',\n",
       "       '45229830697', '45495742672', '47043589000179', '47078180000198',\n",
       "       '47170510000170', '48085103000128', '48087032000100',\n",
       "       '48371796000115', '58586113034', '75126583620', '79984357000101',\n",
       "       '03849500000190', '00030005671', '00129400033', '00159155061',\n",
       "       '00431705100', '00526303310', '00571968341', '00947703101',\n",
       "       '01052392245', '01126681008', '01184973679', '01261372697',\n",
       "       '01299636071', '01353508242', '01737297388', '01823919065',\n",
       "       '01843667630', '02030864650', '02185403613', '02209219035',\n",
       "       '02241473669', '02261350120', '02279383055', '02301609642',\n",
       "       '02504342101', '02509259075', '02642693228', '02711016013',\n",
       "       '02850720054', '02852355086', '02872132180', '02932035630',\n",
       "       '03014138002', '03097492046', '03227074044', '03266662148',\n",
       "       '03284444050', '03293652743', '03377126031', '03377882006',\n",
       "       '03404424093', '03480581013', '03551914664', '03558326237',\n",
       "       '03852987067', '03905960001', '03917351013', '03940728128',\n",
       "       '03958083595', '03962053050', '04023542652', '04038072045',\n",
       "       '04160798730', '04205973012', '04216220592', '04229519001',\n",
       "       '04229605277', '04264514657', '04310361102', '04333000009',\n",
       "       '04345498007', '04390724096', '04397411654', '04407533099',\n",
       "       '04579685083', '04917001056', '05040719639', '05108416946',\n",
       "       '05146300194', '05183711313', '05241255621', '05295144194',\n",
       "       '05337761471', '05474497989', '05573004794', '05621642350',\n",
       "       '05665961647', '05689692190', '05716221602', '06087002154',\n",
       "       '06119354301', '06190533647', '06229234637', '06334289659',\n",
       "       '06383501666', '06387681600', '06467068459', '06472724318',\n",
       "       '06586004608', '06615892189', '06783256502', '06801474626',\n",
       "       '06865067746', '07039512114', '07169524325', '07194826151',\n",
       "       '07270889120', '07273046159', '07346767608', '07378567698',\n",
       "       '07498200635', '07524298331', '07637429610', '07645389699',\n",
       "       '07816107706', '07820373644', '07934460589', '07965131390',\n",
       "       '08035166301', '08053237320', '08065029400', '08223819589',\n",
       "       '08225349326', '08277144598', '08827947957', '08967602600',\n",
       "       '08970525521', '09003617600', '09007785630', '09017890460',\n",
       "       '09063171935', '09064361762', '09223582652', '09249396481',\n",
       "       '09294720632', '09545339683', '09654115751', '09663352795',\n",
       "       '09679621960', '09839706969', '09849919647', '10178028746',\n",
       "       '10220358605', '10369164725', '10375927603', '10377203696',\n",
       "       '10384918603', '10402385640', '10453836607', '10515060690',\n",
       "       '10542917483', '10668899450', '10691028494', '10698907400',\n",
       "       '10762929766', '10830709673', '10853684758', '10957557493',\n",
       "       '11018705759', '11071537601', '11191518728', '11215227698',\n",
       "       '11219031933', '11227792670', '11324227605', '11462121608',\n",
       "       '11564639630', '11579816665', '11638652651', '11646858646',\n",
       "       '11651502714', '11713215705', '11742102492', '11850847703',\n",
       "       '11853066761', '11877498777', '11938847482', '12149124785',\n",
       "       '12173899465', '12303008646', '12309098698', '12394528613',\n",
       "       '12422845754', '12429302721', '12453891731', '12464606707',\n",
       "       '12719653640', '12916601600', '12923860616', '12929795425',\n",
       "       '13139077661', '13283577757', '13353836624', '13507302624',\n",
       "       '13536452744', '13544317745', '13588077790', '13617344771',\n",
       "       '13692922795', '13705740610', '13758539617', '13768501680',\n",
       "       '13775034617', '13958368760', '14018103735', '14100963602',\n",
       "       '14321880467', '14410235699', '14441938721', '14499874785',\n",
       "       '14587587451', '14596998663', '14696902765', '14805444770',\n",
       "       '14893184709', '15018577703', '15144916724', '15179822785',\n",
       "       '15252301743', '15272760743', '15355213766', '15549541777',\n",
       "       '15553383722', '15582447784', '15586334720', '15621793730',\n",
       "       '15658665760', '15692767732', '15789911706', '16013199752',\n",
       "       '16072000746', '16177238785', '16374666763', '16461345752',\n",
       "       '16463775754', '16488471708', '16632952712', '16664689758',\n",
       "       '16702196741', '16752671702', '16850127799', '16853286790',\n",
       "       '16947768756', '16950689713', '16958518705', '16967988760',\n",
       "       '16996092760', '17011304754', '17056850723', '17192911798',\n",
       "       '17352190708', '17451899713', '17527919752', '17752344796',\n",
       "       '17790041762', '17836610705', '17982659748', '18006853789',\n",
       "       '18018984727', '18243205748', '18505190726', '18565051706',\n",
       "       '18603247706', '18613878733', '18639465789', '18652250707',\n",
       "       '18725986767', '18823937752', '18842806765', '18845354709',\n",
       "       '18860838789', '18863146756', '19392505795', '19763491762',\n",
       "       '36651018833', '38066039875', '38531643821', '38611738837',\n",
       "       '38741026888', '39325275856', '39342129803', '41580232892',\n",
       "       '44099351866', '44771480893', '45030927824', '46960233895',\n",
       "       '46983920805', '47028174859', '47039641801', '47582584813',\n",
       "       '48292262857', '49353908833', '49650302816', '49851404810',\n",
       "       '50952859831', '60455085307', '64819396315', '65152980053',\n",
       "       '70180361430', '70198954417', '70279878486', '70298334496',\n",
       "       '70323055478', '70369439473', '70511651430', '70983535400',\n",
       "       '71049828410', '72640260006', '72809914249', '79222030982',\n",
       "       '82518157034', '86113510530', '86223518668', '86349080548',\n",
       "       '86374303091', '87286297287', '88291421587', '89072707168',\n",
       "       '91413346472', '17289559000186', '05860142000142',\n",
       "       '33345691000114', '47122108000110', '92221589000176',\n",
       "       '21442038000194', '23614351000198', '24377448000197',\n",
       "       '28453974000140', '32160412000185', '35339031000156',\n",
       "       '02273057000190', '02729859000161', '02829044000154',\n",
       "       '03333999000189', '03541496000107', '03716644000179',\n",
       "       '04664903000128', '06307463000187', '07266248000148',\n",
       "       '07764000000107', '08563964000150', '08593332000139',\n",
       "       '08990041000184', '11003995000160', '11210857000152',\n",
       "       '11262969000157', '11718643000191', '13299823000101',\n",
       "       '19933130000105', '20183508000180', '23121810000100',\n",
       "       '25235133000178', '28591670000149', '28888423000109',\n",
       "       '31682616000113', '31714734000166', '33739848000196',\n",
       "       '38073038000167', '40478639000100', '44429540000160',\n",
       "       '45125667000159', '45857250000180', '47440165000148',\n",
       "       '48241204000140', '52134461000150', '58512096000157',\n",
       "       '06251822000121', '01342660000113', '02246382000163',\n",
       "       '08304573000110', '08664980000139', '09325742000161',\n",
       "       '28039386000164', '28683271000108', '40166705000106',\n",
       "       '42528905000189', '46209139000140', '79034153000100',\n",
       "       '00626625000163', '10198809000123', '20784313000195',\n",
       "       '32800531000155', '37256751000183', '68533967000172',\n",
       "       '02421421000111', '04790917000198', '05691235000190',\n",
       "       '06071701000106', '07048323000102', '07385089000109',\n",
       "       '07851262000109', '14517117000151', '15072268000106',\n",
       "       '17590881000302', '18828894000330', '22382705000153',\n",
       "       '24547043000150', '26669742000106', '31411095000160',\n",
       "       '34298882000135', '37392691000126', '38680138000151',\n",
       "       '40689972000150', '41866869000109', '42176264000140',\n",
       "       '43838684000108', '45293736000133', '45930390000137',\n",
       "       '01088055000168', '01089802000182', '01904037054',\n",
       "       '03979214000140', '04087710000151', '05191550000230',\n",
       "       '06178319000198', '07845581000101', '08096586000141',\n",
       "       '08658622000113', '09450715000110', '11456144000173',\n",
       "       '12007998000135', '12013565000192', '12032954000165',\n",
       "       '12279099000191', '13759849000195', '13990290000100',\n",
       "       '15494741000143', '15724019000158', '17339156000102',\n",
       "       '18202203000126', '18274923000105', '19026964000137',\n",
       "       '20362687000112', '20402517000114', '20915722000183',\n",
       "       '21143541000149', '21597955000148', '21793208000185',\n",
       "       '21942511000100', '24183988000130', '25271628000152',\n",
       "       '28076288000105', '28320324000126', '30399473000174',\n",
       "       '31724820000150', '32005178000111', '32316475000188',\n",
       "       '33323653000160', '33486276000180', '34719908000171',\n",
       "       '34734782000104', '35099493000143', '39236457000135',\n",
       "       '39619837000230', '40214888000180', '40358740000119',\n",
       "       '40700611000167', '41053476000178', '41680761000119',\n",
       "       '42262411000103', '42438841000125', '43161042000117',\n",
       "       '43731740000100', '45250428000120', '45332828000185',\n",
       "       '45540617000138', '46476518000105', '47308261000137',\n",
       "       '48080508000173', '48337870000187', '48779371000140',\n",
       "       '49834027000179', '50317178000139', '59717553000617',\n",
       "       '71359939000195', '81243735000903', '81243735001977',\n",
       "       '11088488000177', '11855738000157', '17281973000300',\n",
       "       '31719674000174', '42348400000132', '61418141000113',\n",
       "       '05379350000124', '06351401000172', '08906031000118',\n",
       "       '08907476000112', '11768653000131', '13642117000110',\n",
       "       '13680603000123', '14491768000110', '167129', '18516766000199',\n",
       "       '19116488000145', '25406063000173', '26917959000180',\n",
       "       '27028550000175', '28423235000105', '29023342000109',\n",
       "       '30647055000159', '31731853000127', '39334587000100',\n",
       "       '39889596000168', '40426345000126', '42727372000164',\n",
       "       '43471392000180', '47531706000143', '47725628000118',\n",
       "       '00316937000170', '00577773000135', '01008092000119',\n",
       "       '01098104000143', '01509731000391', '02108761000197',\n",
       "       '02482141000113', '02668731000135', '02784905000125',\n",
       "       '02848925647', '02929143000108', '03059040000105',\n",
       "       '03856561000185', '03930660000160', '04648489000163',\n",
       "       '04992161000160', '05194005000116', '05400006000170',\n",
       "       '05461861000190', '05552239000198', '05741540000140',\n",
       "       '05823817000183', '06024718000102', '06334550000123',\n",
       "       '07119678000137', '07285389000108', '07608700000102',\n",
       "       '07690038000182', '07809370000113', '07976966000108',\n",
       "       '08278883000108', '08928430631', '08986188000109',\n",
       "       '09215883000121', '09222369000113', '09380005000161',\n",
       "       '10372200000129', '10450143000159', '10489922000168',\n",
       "       '10600312000190', '10899734000108', '11708426000110',\n",
       "       '11737090000114', '12482902000190', '12769734000119',\n",
       "       '12799335000109', '12968777000123', '13407849000126',\n",
       "       '13444848000151', '13609307000136', '13700015682',\n",
       "       '14233622000174', '16926786000102', '17412396000187',\n",
       "       '17413469000155', '17421504000188', '17457610000111',\n",
       "       '17845504000296', '18226970000175', '18632315000117',\n",
       "       '18730868000102', '18901645000160', '19625870000184',\n",
       "       '19863357000121', '20382743000180', '20469180000162',\n",
       "       '21013054000161', '21390591000120', '21781767000175',\n",
       "       '22016266000165', '22073381000171', '22077499000178',\n",
       "       '22579804000120', '22705870000107', '23302414000170',\n",
       "       '23814905000109', '24151595000144', '24194533000110',\n",
       "       '25641788000146', '25641788000227', '25642083000143',\n",
       "       '25642331000156', '25643420000117', '25656463000137',\n",
       "       '26001891000194', '26886495000191', '27656480000108',\n",
       "       '27862855000188', '28147573000161', '28460991000104',\n",
       "       '28820255000110', '29034549000189', '29985857000190',\n",
       "       '30041676000194', '30379344000114', '30865026653',\n",
       "       '30925385000169', '31791247687', '32677058000160',\n",
       "       '33013209000149', '33992679000100', '34672800000170',\n",
       "       '35706397000116', '36874484000145', '37686780678',\n",
       "       '41884255000141', '42529374000149', '42855999000362',\n",
       "       '43507304000152', '44223526000106', '44982273000154',\n",
       "       '50429810000136', '55221181649', '57122873668', '58665102604',\n",
       "       '64082717668', '64273048000156', '79988601620', '81061242668',\n",
       "       '92887210610', '00029957605', '00386000000171', '00583615619',\n",
       "       '01172671630', '01253802670', '01372353054', '01412905605',\n",
       "       '01808192000120', '01852701668', '02206069000100', '02690065673',\n",
       "       '03008284620', '03065063000114', '03123441717', '03479428000157',\n",
       "       '03481648669', '03700858680', '03841488676', '03851189000114',\n",
       "       '04299096673', '04628307644', '05108702000107', '05490249000146',\n",
       "       '05565735602', '06003234636', '07267191614', '07352375651',\n",
       "       '07356193523', '07817955000185', '07822118000144',\n",
       "       '08528006000148', '08697852000191', '08930415644', '09006743690',\n",
       "       '10031026702', '10197494000108', '10493969000103',\n",
       "       '10569086000121', '10710529775', '11010999000257',\n",
       "       '11708655000135', '11803092602', '12614671673', '13081240000100',\n",
       "       '13823529000157', '14905502000176', '14987491000110',\n",
       "       '15072183000128', '15210886000175', '15329152000100',\n",
       "       '15439366000139', '16633511000180', '17496898000133',\n",
       "       '18365821000197', '19367167000113', '21425822000194',\n",
       "       '23119087000116', '25301210000140', '25386019000149',\n",
       "       '25863390000154', '26401571000121', '26600459000110',\n",
       "       '27205945000104', '28429720000196', '29043834000166',\n",
       "       '29650220000142', '30082076000174', '30814518000120',\n",
       "       '31339053000165', '31958700000117', '33615509000106',\n",
       "       '34379797000100', '34788645000152', '35865185870',\n",
       "       '36999842000146', '38072714000188', '39452748000160',\n",
       "       '40131537000105', '40220898000128', '40274237000185',\n",
       "       '40734984000159', '41342716000154', '41733464000194',\n",
       "       '41833129000168', '42343998000177', '43241204000127',\n",
       "       '43473645000154', '44044562000102', '45169346000156',\n",
       "       '46218314000166', '46940235787', '47101984000160',\n",
       "       '47941098000145', '48489837000172', '48624749000136',\n",
       "       '48920400000141', '49006412000128', '49287499000159',\n",
       "       '49932039772', '50803314000109', '510001', '51234341000162',\n",
       "       '52704921000139', '54611288668', '67403154000103', '69315850106',\n",
       "       '70797366334', '70886644615', '71346480000195', '73514580000109',\n",
       "       '75729466668', '80531580644', '81420579649', '88014006000169',\n",
       "       '02700680669', '02852112698', '04567265000127', '13754000000129',\n",
       "       '98488040644'], dtype=object)"
      ]
     },
     "execution_count": 23,
     "metadata": {},
     "output_type": "execute_result"
    }
   ],
   "source": [
    "# filtrando dos dados da coluna FAV\n",
    "df_cnpj = df[df['NOME_PI'] != 'PROFISSIONAL DE SAUDE AUTONOMO']\n",
    "df_cnpj = df[df['NOME_PI'] != 'ATENDIMENTO MEDICO-HOPITALR/FC']\n",
    "df_cnpj = df[df['NOME_PI'] != 'IND-INDENIZACOES']\n",
    "df_cnpj = df[df['NOME_PI'] != 'IND - INDENIZACOES']\n",
    "df_cnpj = df[df['NOME_PI'] != 'INDENIZACAO DESPESAS.']\n",
    "df_cnpj = df[df['NOME_PI'] != 'AUXILIO FINANCEIRO NÃO INDENIZÁVEL']\n",
    "df_cnpj = df[df['NOME_PI'] != 'INRE - RESTITUICAO E RESSARCIMENTO']\n",
    "df_cnpj = df[df['NOME_NDSI'] != 'OUTROS SERV.DE TERCEIROS PJ- PAGTO ANTECIPADO']\n",
    "df_cnpj = df[df['CREDOR'] != '160129']\n",
    "\n",
    "df_cnpj['CREDOR'].unique()"
   ]
  },
  {
   "cell_type": "code",
   "execution_count": 24,
   "metadata": {},
   "outputs": [
    {
     "data": {
      "text/html": [
       "<div>\n",
       "<style scoped>\n",
       "    .dataframe tbody tr th:only-of-type {\n",
       "        vertical-align: middle;\n",
       "    }\n",
       "\n",
       "    .dataframe tbody tr th {\n",
       "        vertical-align: top;\n",
       "    }\n",
       "\n",
       "    .dataframe thead th {\n",
       "        text-align: right;\n",
       "    }\n",
       "</style>\n",
       "<table border=\"1\" class=\"dataframe\">\n",
       "  <thead>\n",
       "    <tr style=\"text-align: right;\">\n",
       "      <th></th>\n",
       "      <th>UG</th>\n",
       "      <th>SIGLA UG</th>\n",
       "      <th>ACAO</th>\n",
       "      <th>NOME_ACAO</th>\n",
       "      <th>ANO</th>\n",
       "      <th>CREDOR</th>\n",
       "      <th>NOME_CREDOR</th>\n",
       "      <th>DATA</th>\n",
       "      <th>DIAS</th>\n",
       "      <th>ICFEX</th>\n",
       "      <th>NOME_ICFEX</th>\n",
       "      <th>ND</th>\n",
       "      <th>NOME_ND</th>\n",
       "      <th>NDSI</th>\n",
       "      <th>NOME_NDSI</th>\n",
       "      <th>NE</th>\n",
       "      <th>PI</th>\n",
       "      <th>NOME_PI</th>\n",
       "      <th>PROGRAMA</th>\n",
       "      <th>PTRES</th>\n",
       "      <th>TIPO</th>\n",
       "      <th>TIPO_NE</th>\n",
       "      <th>LOCAL</th>\n",
       "      <th>UF_CREDOR</th>\n",
       "      <th>UF_UG</th>\n",
       "      <th>UGR</th>\n",
       "      <th>NOME_UGR</th>\n",
       "      <th>RADPI4</th>\n",
       "      <th>MEIPI3</th>\n",
       "      <th>SUFPI4</th>\n",
       "      <th>A_LIQUIDAR</th>\n",
       "      <th>LIQUIDADO_A_PAGAR</th>\n",
       "      <th>TOTAL_A_PAGAR</th>\n",
       "      <th>PAGO</th>\n",
       "    </tr>\n",
       "  </thead>\n",
       "  <tbody>\n",
       "  </tbody>\n",
       "</table>\n",
       "</div>"
      ],
      "text/plain": [
       "Empty DataFrame\n",
       "Columns: [UG, SIGLA UG, ACAO, NOME_ACAO, ANO, CREDOR, NOME_CREDOR, DATA, DIAS, ICFEX, NOME_ICFEX, ND, NOME_ND, NDSI, NOME_NDSI, NE, PI, NOME_PI, PROGRAMA, PTRES, TIPO, TIPO_NE, LOCAL, UF_CREDOR, UF_UG, UGR, NOME_UGR, RADPI4, MEIPI3, SUFPI4, A_LIQUIDAR, LIQUIDADO_A_PAGAR, TOTAL_A_PAGAR, PAGO]\n",
       "Index: []"
      ]
     },
     "execution_count": 24,
     "metadata": {},
     "output_type": "execute_result"
    }
   ],
   "source": [
    "df_cnpj[df_cnpj['CREDOR'] == '160129']"
   ]
  },
  {
   "cell_type": "code",
   "execution_count": 25,
   "metadata": {},
   "outputs": [
    {
     "data": {
      "text/html": [
       "<div>\n",
       "<style scoped>\n",
       "    .dataframe tbody tr th:only-of-type {\n",
       "        vertical-align: middle;\n",
       "    }\n",
       "\n",
       "    .dataframe tbody tr th {\n",
       "        vertical-align: top;\n",
       "    }\n",
       "\n",
       "    .dataframe thead th {\n",
       "        text-align: right;\n",
       "    }\n",
       "</style>\n",
       "<table border=\"1\" class=\"dataframe\">\n",
       "  <thead>\n",
       "    <tr style=\"text-align: right;\">\n",
       "      <th></th>\n",
       "      <th>UG</th>\n",
       "      <th>SIGLA UG</th>\n",
       "      <th>ACAO</th>\n",
       "      <th>NOME_ACAO</th>\n",
       "      <th>ANO</th>\n",
       "      <th>CREDOR</th>\n",
       "      <th>NOME_CREDOR</th>\n",
       "      <th>DATA</th>\n",
       "      <th>DIAS</th>\n",
       "      <th>ICFEX</th>\n",
       "      <th>NOME_ICFEX</th>\n",
       "      <th>ND</th>\n",
       "      <th>NOME_ND</th>\n",
       "      <th>NDSI</th>\n",
       "      <th>NOME_NDSI</th>\n",
       "      <th>NE</th>\n",
       "      <th>PI</th>\n",
       "      <th>NOME_PI</th>\n",
       "      <th>PROGRAMA</th>\n",
       "      <th>PTRES</th>\n",
       "      <th>TIPO</th>\n",
       "      <th>TIPO_NE</th>\n",
       "      <th>LOCAL</th>\n",
       "      <th>UF_CREDOR</th>\n",
       "      <th>UF_UG</th>\n",
       "      <th>UGR</th>\n",
       "      <th>NOME_UGR</th>\n",
       "      <th>RADPI4</th>\n",
       "      <th>MEIPI3</th>\n",
       "      <th>SUFPI4</th>\n",
       "      <th>A_LIQUIDAR</th>\n",
       "      <th>LIQUIDADO_A_PAGAR</th>\n",
       "      <th>TOTAL_A_PAGAR</th>\n",
       "      <th>PAGO</th>\n",
       "    </tr>\n",
       "  </thead>\n",
       "  <tbody>\n",
       "    <tr>\n",
       "      <th>0</th>\n",
       "      <td>160129</td>\n",
       "      <td>ESA</td>\n",
       "      <td>156M</td>\n",
       "      <td>MODERNIZACAO E TRANSFORMACAO ESTRATEG</td>\n",
       "      <td>2023</td>\n",
       "      <td>01590728000264</td>\n",
       "      <td>MICROTECNICA INFORMATICA LTDA</td>\n",
       "      <td>2023-11-01</td>\n",
       "      <td>15</td>\n",
       "      <td>160533</td>\n",
       "      <td>4º CGCFEX</td>\n",
       "      <td>449052</td>\n",
       "      <td>EQUIPAMENTOS E MATERIAL PERMANENTE</td>\n",
       "      <td>44905230</td>\n",
       "      <td>MAQUINAS E EQUIPAMENTOS ENERGETICOS</td>\n",
       "      <td>2023NE001319</td>\n",
       "      <td>F8MODCXDEGE</td>\n",
       "      <td>ATENDER NEC DECEX MODERNIZACAO OPERACIONAL</td>\n",
       "      <td>6012</td>\n",
       "      <td>171418</td>\n",
       "      <td>ANO</td>\n",
       "      <td>ORDINARIO</td>\n",
       "      <td>ESCOLA DE SARGENTOS DAS ARMAS</td>\n",
       "      <td>DF</td>\n",
       "      <td>MG</td>\n",
       "      <td>160503</td>\n",
       "      <td>DECEX/GESTOR</td>\n",
       "      <td>F8MO</td>\n",
       "      <td>DCX</td>\n",
       "      <td>DEGE</td>\n",
       "      <td>3720.60</td>\n",
       "      <td>0.0</td>\n",
       "      <td>3720.60</td>\n",
       "      <td>0.0</td>\n",
       "    </tr>\n",
       "    <tr>\n",
       "      <th>1</th>\n",
       "      <td>160129</td>\n",
       "      <td>ESA</td>\n",
       "      <td>156M</td>\n",
       "      <td>MODERNIZACAO E TRANSFORMACAO ESTRATEG</td>\n",
       "      <td>2023</td>\n",
       "      <td>05462543000144</td>\n",
       "      <td>EASYTECH INFORMATICA E SERVICOS LTDA</td>\n",
       "      <td>2023-10-31</td>\n",
       "      <td>16</td>\n",
       "      <td>160533</td>\n",
       "      <td>4º CGCFEX</td>\n",
       "      <td>449052</td>\n",
       "      <td>EQUIPAMENTOS E MATERIAL PERMANENTE</td>\n",
       "      <td>44905237</td>\n",
       "      <td>EQUIPAMENTOS DE TIC - ATIVOS DE REDE</td>\n",
       "      <td>2023NE001318</td>\n",
       "      <td>F8MODCXDEGE</td>\n",
       "      <td>ATENDER NEC DECEX MODERNIZACAO OPERACIONAL</td>\n",
       "      <td>6012</td>\n",
       "      <td>171418</td>\n",
       "      <td>ANO</td>\n",
       "      <td>ORDINARIO</td>\n",
       "      <td>ESCOLA DE SARGENTOS DAS ARMAS  - AVENIDA SETE ...</td>\n",
       "      <td>DF</td>\n",
       "      <td>MG</td>\n",
       "      <td>160503</td>\n",
       "      <td>DECEX/GESTOR</td>\n",
       "      <td>F8MO</td>\n",
       "      <td>DCX</td>\n",
       "      <td>DEGE</td>\n",
       "      <td>8070.92</td>\n",
       "      <td>0.0</td>\n",
       "      <td>8070.92</td>\n",
       "      <td>0.0</td>\n",
       "    </tr>\n",
       "    <tr>\n",
       "      <th>2</th>\n",
       "      <td>160129</td>\n",
       "      <td>ESA</td>\n",
       "      <td>156M</td>\n",
       "      <td>MODERNIZACAO E TRANSFORMACAO ESTRATEG</td>\n",
       "      <td>2023</td>\n",
       "      <td>08792763000124</td>\n",
       "      <td>MEGA BYTE MAGAZINE LTDA</td>\n",
       "      <td>2023-10-31</td>\n",
       "      <td>16</td>\n",
       "      <td>160533</td>\n",
       "      <td>4º CGCFEX</td>\n",
       "      <td>449052</td>\n",
       "      <td>EQUIPAMENTOS E MATERIAL PERMANENTE</td>\n",
       "      <td>44905241</td>\n",
       "      <td>EQUIPAMENTOS DE TIC - COMPUTADORES</td>\n",
       "      <td>2023NE001317</td>\n",
       "      <td>F8MODCXDEGE</td>\n",
       "      <td>ATENDER NEC DECEX MODERNIZACAO OPERACIONAL</td>\n",
       "      <td>6012</td>\n",
       "      <td>171418</td>\n",
       "      <td>ANO</td>\n",
       "      <td>ORDINARIO</td>\n",
       "      <td>ESCOLA DE SARGENTOS DAS ARMAS  - AVENIDA SETE ...</td>\n",
       "      <td>SP</td>\n",
       "      <td>MG</td>\n",
       "      <td>160503</td>\n",
       "      <td>DECEX/GESTOR</td>\n",
       "      <td>F8MO</td>\n",
       "      <td>DCX</td>\n",
       "      <td>DEGE</td>\n",
       "      <td>26270.00</td>\n",
       "      <td>0.0</td>\n",
       "      <td>26270.00</td>\n",
       "      <td>0.0</td>\n",
       "    </tr>\n",
       "    <tr>\n",
       "      <th>3</th>\n",
       "      <td>160129</td>\n",
       "      <td>ESA</td>\n",
       "      <td>156M</td>\n",
       "      <td>MODERNIZACAO E TRANSFORMACAO ESTRATEG</td>\n",
       "      <td>2023</td>\n",
       "      <td>11142525000188</td>\n",
       "      <td>CLEBER NASCIMENTO DA ROSA</td>\n",
       "      <td>2023-11-01</td>\n",
       "      <td>15</td>\n",
       "      <td>160533</td>\n",
       "      <td>4º CGCFEX</td>\n",
       "      <td>449052</td>\n",
       "      <td>EQUIPAMENTOS E MATERIAL PERMANENTE</td>\n",
       "      <td>44905233</td>\n",
       "      <td>EQUIPAMENTOS PARA AUDIO, VIDEO E FOTO</td>\n",
       "      <td>2023NE001322</td>\n",
       "      <td>F8MODCXDEGE</td>\n",
       "      <td>ATENDER NEC DECEX MODERNIZACAO OPERACIONAL</td>\n",
       "      <td>6012</td>\n",
       "      <td>171418</td>\n",
       "      <td>ANO</td>\n",
       "      <td>ORDINARIO</td>\n",
       "      <td>ESCOLA DE SARGENTOS DAS ARMAS</td>\n",
       "      <td>SC</td>\n",
       "      <td>MG</td>\n",
       "      <td>160503</td>\n",
       "      <td>DECEX/GESTOR</td>\n",
       "      <td>F8MO</td>\n",
       "      <td>DCX</td>\n",
       "      <td>DEGE</td>\n",
       "      <td>260.00</td>\n",
       "      <td>0.0</td>\n",
       "      <td>260.00</td>\n",
       "      <td>0.0</td>\n",
       "    </tr>\n",
       "    <tr>\n",
       "      <th>4</th>\n",
       "      <td>160129</td>\n",
       "      <td>ESA</td>\n",
       "      <td>156M</td>\n",
       "      <td>MODERNIZACAO E TRANSFORMACAO ESTRATEG</td>\n",
       "      <td>2023</td>\n",
       "      <td>28811718000187</td>\n",
       "      <td>BRUNO DIGITAL COMERCIO DE MERCADORIA EM GERAL ...</td>\n",
       "      <td>2023-10-31</td>\n",
       "      <td>16</td>\n",
       "      <td>160533</td>\n",
       "      <td>4º CGCFEX</td>\n",
       "      <td>449052</td>\n",
       "      <td>EQUIPAMENTOS E MATERIAL PERMANENTE</td>\n",
       "      <td>44905241</td>\n",
       "      <td>EQUIPAMENTOS DE TIC - COMPUTADORES</td>\n",
       "      <td>2023NE001316</td>\n",
       "      <td>F8MODCXDEGE</td>\n",
       "      <td>ATENDER NEC DECEX MODERNIZACAO OPERACIONAL</td>\n",
       "      <td>6012</td>\n",
       "      <td>171418</td>\n",
       "      <td>ANO</td>\n",
       "      <td>ORDINARIO</td>\n",
       "      <td>ESCOLA DE SARGENTOS DAS ARMAS  - AVENIDA SETE ...</td>\n",
       "      <td>SP</td>\n",
       "      <td>MG</td>\n",
       "      <td>160503</td>\n",
       "      <td>DECEX/GESTOR</td>\n",
       "      <td>F8MO</td>\n",
       "      <td>DCX</td>\n",
       "      <td>DEGE</td>\n",
       "      <td>79002.00</td>\n",
       "      <td>0.0</td>\n",
       "      <td>79002.00</td>\n",
       "      <td>0.0</td>\n",
       "    </tr>\n",
       "    <tr>\n",
       "      <th>...</th>\n",
       "      <td>...</td>\n",
       "      <td>...</td>\n",
       "      <td>...</td>\n",
       "      <td>...</td>\n",
       "      <td>...</td>\n",
       "      <td>...</td>\n",
       "      <td>...</td>\n",
       "      <td>...</td>\n",
       "      <td>...</td>\n",
       "      <td>...</td>\n",
       "      <td>...</td>\n",
       "      <td>...</td>\n",
       "      <td>...</td>\n",
       "      <td>...</td>\n",
       "      <td>...</td>\n",
       "      <td>...</td>\n",
       "      <td>...</td>\n",
       "      <td>...</td>\n",
       "      <td>...</td>\n",
       "      <td>...</td>\n",
       "      <td>...</td>\n",
       "      <td>...</td>\n",
       "      <td>...</td>\n",
       "      <td>...</td>\n",
       "      <td>...</td>\n",
       "      <td>...</td>\n",
       "      <td>...</td>\n",
       "      <td>...</td>\n",
       "      <td>...</td>\n",
       "      <td>...</td>\n",
       "      <td>...</td>\n",
       "      <td>...</td>\n",
       "      <td>...</td>\n",
       "      <td>...</td>\n",
       "    </tr>\n",
       "    <tr>\n",
       "      <th>3333</th>\n",
       "      <td>167129</td>\n",
       "      <td>ESA</td>\n",
       "      <td>2919</td>\n",
       "      <td>REGISTRO E FISCALIZACAO DE PRODUTOS C</td>\n",
       "      <td>2023</td>\n",
       "      <td>65095531000150</td>\n",
       "      <td>LOGOS PAPELARIA LTDA</td>\n",
       "      <td>2023-05-25</td>\n",
       "      <td>175</td>\n",
       "      <td>160533</td>\n",
       "      <td>4º CGCFEX</td>\n",
       "      <td>449052</td>\n",
       "      <td>EQUIPAMENTOS E MATERIAL PERMANENTE</td>\n",
       "      <td>44905245</td>\n",
       "      <td>EQUIPAMENTOS DE TIC - IMPRESSORAS</td>\n",
       "      <td>2023NE001044</td>\n",
       "      <td>E3PCFSCINFO</td>\n",
       "      <td>INFORMATICA</td>\n",
       "      <td>6012</td>\n",
       "      <td>215839</td>\n",
       "      <td>ANO</td>\n",
       "      <td>ORDINARIO</td>\n",
       "      <td>ESCOLA DE SARGENTOS DAS ARMAS  - AVENIDA SETE ...</td>\n",
       "      <td>MG</td>\n",
       "      <td>MG</td>\n",
       "      <td>167504</td>\n",
       "      <td>COEX - GESTOR</td>\n",
       "      <td>E3PC</td>\n",
       "      <td>FSC</td>\n",
       "      <td>INFO</td>\n",
       "      <td>0.00</td>\n",
       "      <td>0.0</td>\n",
       "      <td>0.00</td>\n",
       "      <td>1800.0</td>\n",
       "    </tr>\n",
       "    <tr>\n",
       "      <th>3334</th>\n",
       "      <td>167129</td>\n",
       "      <td>ESA</td>\n",
       "      <td>2919</td>\n",
       "      <td>REGISTRO E FISCALIZACAO DE PRODUTOS C</td>\n",
       "      <td>2023</td>\n",
       "      <td>81243735000903</td>\n",
       "      <td>POSITIVO TECNOLOGIA S.A.</td>\n",
       "      <td>2023-02-15</td>\n",
       "      <td>274</td>\n",
       "      <td>160533</td>\n",
       "      <td>4º CGCFEX</td>\n",
       "      <td>449052</td>\n",
       "      <td>EQUIPAMENTOS E MATERIAL PERMANENTE</td>\n",
       "      <td>44905241</td>\n",
       "      <td>EQUIPAMENTOS DE TIC - COMPUTADORES</td>\n",
       "      <td>2023NE000261</td>\n",
       "      <td>E3PCFSCINFO</td>\n",
       "      <td>INFORMATICA</td>\n",
       "      <td>6012</td>\n",
       "      <td>215839</td>\n",
       "      <td>ANO</td>\n",
       "      <td>ORDINARIO</td>\n",
       "      <td>ESCOLA DE SARGENTOS DAS ARMAS  - AVENIDA SETE ...</td>\n",
       "      <td>BA</td>\n",
       "      <td>MG</td>\n",
       "      <td>167504</td>\n",
       "      <td>COEX - GESTOR</td>\n",
       "      <td>E3PC</td>\n",
       "      <td>FSC</td>\n",
       "      <td>INFO</td>\n",
       "      <td>0.00</td>\n",
       "      <td>0.0</td>\n",
       "      <td>0.00</td>\n",
       "      <td>7114.0</td>\n",
       "    </tr>\n",
       "    <tr>\n",
       "      <th>3335</th>\n",
       "      <td>167129</td>\n",
       "      <td>ESA</td>\n",
       "      <td>2919</td>\n",
       "      <td>REGISTRO E FISCALIZACAO DE PRODUTOS C</td>\n",
       "      <td>2023</td>\n",
       "      <td>98488040644</td>\n",
       "      <td>MARIO HENRIQUE CUBBI</td>\n",
       "      <td>2023-05-22</td>\n",
       "      <td>178</td>\n",
       "      <td>160533</td>\n",
       "      <td>4º CGCFEX</td>\n",
       "      <td>339030</td>\n",
       "      <td>MATERIAL DE CONSUMO</td>\n",
       "      <td>33903001</td>\n",
       "      <td>COMBUSTIVEIS E LUBRIFICANTES AUTOMOTIVOS</td>\n",
       "      <td>2023NE001035</td>\n",
       "      <td>E3PCFSCCOLU</td>\n",
       "      <td>COMBUSTIVEIS E LUBRIFICANTES</td>\n",
       "      <td>6012</td>\n",
       "      <td>215839</td>\n",
       "      <td>ANO</td>\n",
       "      <td>ORDINARIO</td>\n",
       "      <td>ESCOLA DE SARGENTOS DAS ARMAS  - AVENIDA SETE ...</td>\n",
       "      <td>MG</td>\n",
       "      <td>MG</td>\n",
       "      <td>167504</td>\n",
       "      <td>COEX - GESTOR</td>\n",
       "      <td>E3PC</td>\n",
       "      <td>FSC</td>\n",
       "      <td>COLU</td>\n",
       "      <td>0.00</td>\n",
       "      <td>0.0</td>\n",
       "      <td>0.00</td>\n",
       "      <td>2236.2</td>\n",
       "    </tr>\n",
       "    <tr>\n",
       "      <th>3336</th>\n",
       "      <td>167129</td>\n",
       "      <td>ESA</td>\n",
       "      <td>2919</td>\n",
       "      <td>REGISTRO E FISCALIZACAO DE PRODUTOS C</td>\n",
       "      <td>2023</td>\n",
       "      <td>98488040644</td>\n",
       "      <td>MARIO HENRIQUE CUBBI</td>\n",
       "      <td>2023-08-31</td>\n",
       "      <td>77</td>\n",
       "      <td>160533</td>\n",
       "      <td>4º CGCFEX</td>\n",
       "      <td>339030</td>\n",
       "      <td>MATERIAL DE CONSUMO</td>\n",
       "      <td>33903096</td>\n",
       "      <td>MATERIAL DE CONSUMO - PAGTO ANTECIPADO</td>\n",
       "      <td>2023NE001506</td>\n",
       "      <td>E3PCOPFCOLU</td>\n",
       "      <td>COMBUSTIVEL E LUBRIFICANTES</td>\n",
       "      <td>6012</td>\n",
       "      <td>215839</td>\n",
       "      <td>ANO</td>\n",
       "      <td>ORDINARIO</td>\n",
       "      <td>ESCOLA DE SARGENTOS DAS ARMAS  - AVENIDA SETE ...</td>\n",
       "      <td>MG</td>\n",
       "      <td>MG</td>\n",
       "      <td>167504</td>\n",
       "      <td>COEX - GESTOR</td>\n",
       "      <td>E3PC</td>\n",
       "      <td>OPF</td>\n",
       "      <td>COLU</td>\n",
       "      <td>0.00</td>\n",
       "      <td>0.0</td>\n",
       "      <td>0.00</td>\n",
       "      <td>675.0</td>\n",
       "    </tr>\n",
       "    <tr>\n",
       "      <th>3337</th>\n",
       "      <td>167129</td>\n",
       "      <td>ESA</td>\n",
       "      <td>2919</td>\n",
       "      <td>REGISTRO E FISCALIZACAO DE PRODUTOS C</td>\n",
       "      <td>2023</td>\n",
       "      <td>98488040644</td>\n",
       "      <td>MARIO HENRIQUE CUBBI</td>\n",
       "      <td>2023-10-06</td>\n",
       "      <td>41</td>\n",
       "      <td>160533</td>\n",
       "      <td>4º CGCFEX</td>\n",
       "      <td>339030</td>\n",
       "      <td>MATERIAL DE CONSUMO</td>\n",
       "      <td>33903096</td>\n",
       "      <td>MATERIAL DE CONSUMO - PAGTO ANTECIPADO</td>\n",
       "      <td>2023NE001640</td>\n",
       "      <td>E3PCOPFCOLU</td>\n",
       "      <td>COMBUSTIVEL E LUBRIFICANTES</td>\n",
       "      <td>6012</td>\n",
       "      <td>215839</td>\n",
       "      <td>ANO</td>\n",
       "      <td>ORDINARIO</td>\n",
       "      <td>ESCOLA DE SARGENTOS DAS ARMAS  - AVENIDA SETE ...</td>\n",
       "      <td>MG</td>\n",
       "      <td>MG</td>\n",
       "      <td>167504</td>\n",
       "      <td>COEX - GESTOR</td>\n",
       "      <td>E3PC</td>\n",
       "      <td>OPF</td>\n",
       "      <td>COLU</td>\n",
       "      <td>0.00</td>\n",
       "      <td>0.0</td>\n",
       "      <td>0.00</td>\n",
       "      <td>600.0</td>\n",
       "    </tr>\n",
       "  </tbody>\n",
       "</table>\n",
       "<p>3021 rows × 34 columns</p>\n",
       "</div>"
      ],
      "text/plain": [
       "          UG SIGLA UG  ACAO                              NOME_ACAO   ANO  \\\n",
       "0     160129      ESA  156M  MODERNIZACAO E TRANSFORMACAO ESTRATEG  2023   \n",
       "1     160129      ESA  156M  MODERNIZACAO E TRANSFORMACAO ESTRATEG  2023   \n",
       "2     160129      ESA  156M  MODERNIZACAO E TRANSFORMACAO ESTRATEG  2023   \n",
       "3     160129      ESA  156M  MODERNIZACAO E TRANSFORMACAO ESTRATEG  2023   \n",
       "4     160129      ESA  156M  MODERNIZACAO E TRANSFORMACAO ESTRATEG  2023   \n",
       "...      ...      ...   ...                                    ...   ...   \n",
       "3333  167129      ESA  2919  REGISTRO E FISCALIZACAO DE PRODUTOS C  2023   \n",
       "3334  167129      ESA  2919  REGISTRO E FISCALIZACAO DE PRODUTOS C  2023   \n",
       "3335  167129      ESA  2919  REGISTRO E FISCALIZACAO DE PRODUTOS C  2023   \n",
       "3336  167129      ESA  2919  REGISTRO E FISCALIZACAO DE PRODUTOS C  2023   \n",
       "3337  167129      ESA  2919  REGISTRO E FISCALIZACAO DE PRODUTOS C  2023   \n",
       "\n",
       "              CREDOR                                        NOME_CREDOR  \\\n",
       "0     01590728000264                      MICROTECNICA INFORMATICA LTDA   \n",
       "1     05462543000144               EASYTECH INFORMATICA E SERVICOS LTDA   \n",
       "2     08792763000124                            MEGA BYTE MAGAZINE LTDA   \n",
       "3     11142525000188                          CLEBER NASCIMENTO DA ROSA   \n",
       "4     28811718000187  BRUNO DIGITAL COMERCIO DE MERCADORIA EM GERAL ...   \n",
       "...              ...                                                ...   \n",
       "3333  65095531000150                               LOGOS PAPELARIA LTDA   \n",
       "3334  81243735000903                           POSITIVO TECNOLOGIA S.A.   \n",
       "3335     98488040644                               MARIO HENRIQUE CUBBI   \n",
       "3336     98488040644                               MARIO HENRIQUE CUBBI   \n",
       "3337     98488040644                               MARIO HENRIQUE CUBBI   \n",
       "\n",
       "           DATA  DIAS   ICFEX NOME_ICFEX      ND  \\\n",
       "0    2023-11-01    15  160533  4º CGCFEX  449052   \n",
       "1    2023-10-31    16  160533  4º CGCFEX  449052   \n",
       "2    2023-10-31    16  160533  4º CGCFEX  449052   \n",
       "3    2023-11-01    15  160533  4º CGCFEX  449052   \n",
       "4    2023-10-31    16  160533  4º CGCFEX  449052   \n",
       "...         ...   ...     ...        ...     ...   \n",
       "3333 2023-05-25   175  160533  4º CGCFEX  449052   \n",
       "3334 2023-02-15   274  160533  4º CGCFEX  449052   \n",
       "3335 2023-05-22   178  160533  4º CGCFEX  339030   \n",
       "3336 2023-08-31    77  160533  4º CGCFEX  339030   \n",
       "3337 2023-10-06    41  160533  4º CGCFEX  339030   \n",
       "\n",
       "                                 NOME_ND      NDSI  \\\n",
       "0     EQUIPAMENTOS E MATERIAL PERMANENTE  44905230   \n",
       "1     EQUIPAMENTOS E MATERIAL PERMANENTE  44905237   \n",
       "2     EQUIPAMENTOS E MATERIAL PERMANENTE  44905241   \n",
       "3     EQUIPAMENTOS E MATERIAL PERMANENTE  44905233   \n",
       "4     EQUIPAMENTOS E MATERIAL PERMANENTE  44905241   \n",
       "...                                  ...       ...   \n",
       "3333  EQUIPAMENTOS E MATERIAL PERMANENTE  44905245   \n",
       "3334  EQUIPAMENTOS E MATERIAL PERMANENTE  44905241   \n",
       "3335                 MATERIAL DE CONSUMO  33903001   \n",
       "3336                 MATERIAL DE CONSUMO  33903096   \n",
       "3337                 MATERIAL DE CONSUMO  33903096   \n",
       "\n",
       "                                     NOME_NDSI            NE           PI  \\\n",
       "0          MAQUINAS E EQUIPAMENTOS ENERGETICOS  2023NE001319  F8MODCXDEGE   \n",
       "1         EQUIPAMENTOS DE TIC - ATIVOS DE REDE  2023NE001318  F8MODCXDEGE   \n",
       "2           EQUIPAMENTOS DE TIC - COMPUTADORES  2023NE001317  F8MODCXDEGE   \n",
       "3        EQUIPAMENTOS PARA AUDIO, VIDEO E FOTO  2023NE001322  F8MODCXDEGE   \n",
       "4           EQUIPAMENTOS DE TIC - COMPUTADORES  2023NE001316  F8MODCXDEGE   \n",
       "...                                        ...           ...          ...   \n",
       "3333         EQUIPAMENTOS DE TIC - IMPRESSORAS  2023NE001044  E3PCFSCINFO   \n",
       "3334        EQUIPAMENTOS DE TIC - COMPUTADORES  2023NE000261  E3PCFSCINFO   \n",
       "3335  COMBUSTIVEIS E LUBRIFICANTES AUTOMOTIVOS  2023NE001035  E3PCFSCCOLU   \n",
       "3336    MATERIAL DE CONSUMO - PAGTO ANTECIPADO  2023NE001506  E3PCOPFCOLU   \n",
       "3337    MATERIAL DE CONSUMO - PAGTO ANTECIPADO  2023NE001640  E3PCOPFCOLU   \n",
       "\n",
       "                                         NOME_PI PROGRAMA   PTRES TIPO  \\\n",
       "0     ATENDER NEC DECEX MODERNIZACAO OPERACIONAL     6012  171418  ANO   \n",
       "1     ATENDER NEC DECEX MODERNIZACAO OPERACIONAL     6012  171418  ANO   \n",
       "2     ATENDER NEC DECEX MODERNIZACAO OPERACIONAL     6012  171418  ANO   \n",
       "3     ATENDER NEC DECEX MODERNIZACAO OPERACIONAL     6012  171418  ANO   \n",
       "4     ATENDER NEC DECEX MODERNIZACAO OPERACIONAL     6012  171418  ANO   \n",
       "...                                          ...      ...     ...  ...   \n",
       "3333                                 INFORMATICA     6012  215839  ANO   \n",
       "3334                                 INFORMATICA     6012  215839  ANO   \n",
       "3335                COMBUSTIVEIS E LUBRIFICANTES     6012  215839  ANO   \n",
       "3336                 COMBUSTIVEL E LUBRIFICANTES     6012  215839  ANO   \n",
       "3337                 COMBUSTIVEL E LUBRIFICANTES     6012  215839  ANO   \n",
       "\n",
       "        TIPO_NE                                              LOCAL UF_CREDOR  \\\n",
       "0     ORDINARIO                      ESCOLA DE SARGENTOS DAS ARMAS        DF   \n",
       "1     ORDINARIO  ESCOLA DE SARGENTOS DAS ARMAS  - AVENIDA SETE ...        DF   \n",
       "2     ORDINARIO  ESCOLA DE SARGENTOS DAS ARMAS  - AVENIDA SETE ...        SP   \n",
       "3     ORDINARIO                      ESCOLA DE SARGENTOS DAS ARMAS        SC   \n",
       "4     ORDINARIO  ESCOLA DE SARGENTOS DAS ARMAS  - AVENIDA SETE ...        SP   \n",
       "...         ...                                                ...       ...   \n",
       "3333  ORDINARIO  ESCOLA DE SARGENTOS DAS ARMAS  - AVENIDA SETE ...        MG   \n",
       "3334  ORDINARIO  ESCOLA DE SARGENTOS DAS ARMAS  - AVENIDA SETE ...        BA   \n",
       "3335  ORDINARIO  ESCOLA DE SARGENTOS DAS ARMAS  - AVENIDA SETE ...        MG   \n",
       "3336  ORDINARIO  ESCOLA DE SARGENTOS DAS ARMAS  - AVENIDA SETE ...        MG   \n",
       "3337  ORDINARIO  ESCOLA DE SARGENTOS DAS ARMAS  - AVENIDA SETE ...        MG   \n",
       "\n",
       "     UF_UG     UGR       NOME_UGR RADPI4 MEIPI3 SUFPI4  A_LIQUIDAR  \\\n",
       "0       MG  160503   DECEX/GESTOR   F8MO    DCX   DEGE     3720.60   \n",
       "1       MG  160503   DECEX/GESTOR   F8MO    DCX   DEGE     8070.92   \n",
       "2       MG  160503   DECEX/GESTOR   F8MO    DCX   DEGE    26270.00   \n",
       "3       MG  160503   DECEX/GESTOR   F8MO    DCX   DEGE      260.00   \n",
       "4       MG  160503   DECEX/GESTOR   F8MO    DCX   DEGE    79002.00   \n",
       "...    ...     ...            ...    ...    ...    ...         ...   \n",
       "3333    MG  167504  COEX - GESTOR   E3PC    FSC   INFO        0.00   \n",
       "3334    MG  167504  COEX - GESTOR   E3PC    FSC   INFO        0.00   \n",
       "3335    MG  167504  COEX - GESTOR   E3PC    FSC   COLU        0.00   \n",
       "3336    MG  167504  COEX - GESTOR   E3PC    OPF   COLU        0.00   \n",
       "3337    MG  167504  COEX - GESTOR   E3PC    OPF   COLU        0.00   \n",
       "\n",
       "      LIQUIDADO_A_PAGAR  TOTAL_A_PAGAR    PAGO  \n",
       "0                   0.0        3720.60     0.0  \n",
       "1                   0.0        8070.92     0.0  \n",
       "2                   0.0       26270.00     0.0  \n",
       "3                   0.0         260.00     0.0  \n",
       "4                   0.0       79002.00     0.0  \n",
       "...                 ...            ...     ...  \n",
       "3333                0.0           0.00  1800.0  \n",
       "3334                0.0           0.00  7114.0  \n",
       "3335                0.0           0.00  2236.2  \n",
       "3336                0.0           0.00   675.0  \n",
       "3337                0.0           0.00   600.0  \n",
       "\n",
       "[3021 rows x 34 columns]"
      ]
     },
     "execution_count": 25,
     "metadata": {},
     "output_type": "execute_result"
    }
   ],
   "source": [
    "ano_atual = str(datetime.now().year)\n",
    "\n",
    "\n",
    "df_corrente = df[df['ANO'] == ano_atual]\n",
    "df_corrente"
   ]
  },
  {
   "cell_type": "code",
   "execution_count": 26,
   "metadata": {},
   "outputs": [
    {
     "data": {
      "text/plain": [
       "array(['2023', '2022', '2021'], dtype=object)"
      ]
     },
     "execution_count": 26,
     "metadata": {},
     "output_type": "execute_result"
    }
   ],
   "source": [
    "df['ANO'].unique()"
   ]
  },
  {
   "cell_type": "markdown",
   "metadata": {},
   "source": [
    "# Pesquisas no DataFrame"
   ]
  },
  {
   "cell_type": "code",
   "execution_count": 27,
   "metadata": {},
   "outputs": [],
   "source": [
    "# Criando um DataFrame para testes \n",
    "df_teste = df.copy()"
   ]
  },
  {
   "cell_type": "markdown",
   "metadata": {},
   "source": [
    "## Empenhos com mais de 100 dias"
   ]
  },
  {
   "cell_type": "markdown",
   "metadata": {},
   "source": [
    "### Empenhos da ND 30"
   ]
  },
  {
   "cell_type": "code",
   "execution_count": 28,
   "metadata": {},
   "outputs": [
    {
     "data": {
      "text/html": [
       "<div>\n",
       "<style scoped>\n",
       "    .dataframe tbody tr th:only-of-type {\n",
       "        vertical-align: middle;\n",
       "    }\n",
       "\n",
       "    .dataframe tbody tr th {\n",
       "        vertical-align: top;\n",
       "    }\n",
       "\n",
       "    .dataframe thead th {\n",
       "        text-align: right;\n",
       "    }\n",
       "</style>\n",
       "<table border=\"1\" class=\"dataframe\">\n",
       "  <thead>\n",
       "    <tr style=\"text-align: right;\">\n",
       "      <th></th>\n",
       "      <th>UG</th>\n",
       "      <th>SIGLA UG</th>\n",
       "      <th>ACAO</th>\n",
       "      <th>NOME_ACAO</th>\n",
       "      <th>ANO</th>\n",
       "      <th>CREDOR</th>\n",
       "      <th>NOME_CREDOR</th>\n",
       "      <th>DATA</th>\n",
       "      <th>DIAS</th>\n",
       "      <th>ICFEX</th>\n",
       "      <th>NOME_ICFEX</th>\n",
       "      <th>ND</th>\n",
       "      <th>NOME_ND</th>\n",
       "      <th>NDSI</th>\n",
       "      <th>NOME_NDSI</th>\n",
       "      <th>NE</th>\n",
       "      <th>PI</th>\n",
       "      <th>NOME_PI</th>\n",
       "      <th>PROGRAMA</th>\n",
       "      <th>PTRES</th>\n",
       "      <th>TIPO</th>\n",
       "      <th>TIPO_NE</th>\n",
       "      <th>LOCAL</th>\n",
       "      <th>UF_CREDOR</th>\n",
       "      <th>UF_UG</th>\n",
       "      <th>UGR</th>\n",
       "      <th>NOME_UGR</th>\n",
       "      <th>RADPI4</th>\n",
       "      <th>MEIPI3</th>\n",
       "      <th>SUFPI4</th>\n",
       "      <th>A_LIQUIDAR</th>\n",
       "      <th>LIQUIDADO_A_PAGAR</th>\n",
       "      <th>TOTAL_A_PAGAR</th>\n",
       "      <th>PAGO</th>\n",
       "    </tr>\n",
       "  </thead>\n",
       "  <tbody>\n",
       "    <tr>\n",
       "      <th>0</th>\n",
       "      <td>160129</td>\n",
       "      <td>ESA</td>\n",
       "      <td>8965</td>\n",
       "      <td>CAPACITACAO PROFISSIONAL MILITAR DO E</td>\n",
       "      <td>2023</td>\n",
       "      <td>33345691000114</td>\n",
       "      <td>CONCRETA BRASIL SOLUCOES EMPRESARIAIS LTDA</td>\n",
       "      <td>2023-07-25</td>\n",
       "      <td>114</td>\n",
       "      <td>160533</td>\n",
       "      <td>4º CGCFEX</td>\n",
       "      <td>339030</td>\n",
       "      <td>MATERIAL DE CONSUMO</td>\n",
       "      <td>33903024</td>\n",
       "      <td>MATERIAL P/ MANUT.DE BENS IMOVEIS/INSTALACOES</td>\n",
       "      <td>2023NE000890</td>\n",
       "      <td>C4ENMILCAPE</td>\n",
       "      <td>CAPACITACAO DE PESSOAL</td>\n",
       "      <td>6012</td>\n",
       "      <td>171423</td>\n",
       "      <td>ANO</td>\n",
       "      <td>ORDINARIO</td>\n",
       "      <td>ESCOLA DE SARGENTOS DAS ARMAS</td>\n",
       "      <td>RJ</td>\n",
       "      <td>MG</td>\n",
       "      <td>160503</td>\n",
       "      <td>DECEX/GESTOR</td>\n",
       "      <td>C4EN</td>\n",
       "      <td>MIL</td>\n",
       "      <td>CAPE</td>\n",
       "      <td>11469.19</td>\n",
       "      <td>0.0</td>\n",
       "      <td>11469.19</td>\n",
       "      <td>0.0</td>\n",
       "    </tr>\n",
       "    <tr>\n",
       "      <th>1</th>\n",
       "      <td>167129</td>\n",
       "      <td>ESA</td>\n",
       "      <td>2919</td>\n",
       "      <td>REGISTRO E FISCALIZACAO DE PRODUTOS C</td>\n",
       "      <td>2023</td>\n",
       "      <td>13754000000129</td>\n",
       "      <td>G4 SERVICO E COMERCIO DE PRODUTOS INDUSTRIAIS,...</td>\n",
       "      <td>2023-06-02</td>\n",
       "      <td>167</td>\n",
       "      <td>160533</td>\n",
       "      <td>4º CGCFEX</td>\n",
       "      <td>339030</td>\n",
       "      <td>MATERIAL DE CONSUMO</td>\n",
       "      <td>33903039</td>\n",
       "      <td>MATERIAL P/ MANUTENCAO DE VEICULOS</td>\n",
       "      <td>2023NE001125</td>\n",
       "      <td>E3PCFSCMABM</td>\n",
       "      <td>MANUTENCAO DE BENS MOVEIS</td>\n",
       "      <td>6012</td>\n",
       "      <td>215839</td>\n",
       "      <td>ANO</td>\n",
       "      <td>ORDINARIO</td>\n",
       "      <td>ESCOLA DE SARGENTOS DAS ARMAS</td>\n",
       "      <td>RJ</td>\n",
       "      <td>MG</td>\n",
       "      <td>167504</td>\n",
       "      <td>COEX - GESTOR</td>\n",
       "      <td>E3PC</td>\n",
       "      <td>FSC</td>\n",
       "      <td>MABM</td>\n",
       "      <td>9999.67</td>\n",
       "      <td>0.0</td>\n",
       "      <td>9999.67</td>\n",
       "      <td>0.0</td>\n",
       "    </tr>\n",
       "    <tr>\n",
       "      <th>2</th>\n",
       "      <td>160129</td>\n",
       "      <td>ESA</td>\n",
       "      <td>8965</td>\n",
       "      <td>CAPACITACAO PROFISSIONAL MILITAR DO E</td>\n",
       "      <td>2023</td>\n",
       "      <td>20240470000130</td>\n",
       "      <td>R.A.C. CUNHA MATERIAIS P/ CONSTRUCAO LTDA</td>\n",
       "      <td>2023-07-25</td>\n",
       "      <td>114</td>\n",
       "      <td>160533</td>\n",
       "      <td>4º CGCFEX</td>\n",
       "      <td>339030</td>\n",
       "      <td>MATERIAL DE CONSUMO</td>\n",
       "      <td>33903024</td>\n",
       "      <td>MATERIAL P/ MANUT.DE BENS IMOVEIS/INSTALACOES</td>\n",
       "      <td>2023NE000894</td>\n",
       "      <td>C4ENMILCAPE</td>\n",
       "      <td>CAPACITACAO DE PESSOAL</td>\n",
       "      <td>6012</td>\n",
       "      <td>171423</td>\n",
       "      <td>ANO</td>\n",
       "      <td>ORDINARIO</td>\n",
       "      <td>ESCOLA DE SARGENTOS DAS ARMAS</td>\n",
       "      <td>SP</td>\n",
       "      <td>MG</td>\n",
       "      <td>160503</td>\n",
       "      <td>DECEX/GESTOR</td>\n",
       "      <td>C4EN</td>\n",
       "      <td>MIL</td>\n",
       "      <td>CAPE</td>\n",
       "      <td>8846.35</td>\n",
       "      <td>0.0</td>\n",
       "      <td>8846.35</td>\n",
       "      <td>0.0</td>\n",
       "    </tr>\n",
       "    <tr>\n",
       "      <th>3</th>\n",
       "      <td>160129</td>\n",
       "      <td>ESA</td>\n",
       "      <td>212B</td>\n",
       "      <td>BENEFICIOS OBRIGATORIOS AOS SERVIDORE</td>\n",
       "      <td>2023</td>\n",
       "      <td>28259514000185</td>\n",
       "      <td>CLEVER FERREIRA COSTA 01175363693</td>\n",
       "      <td>2023-05-03</td>\n",
       "      <td>197</td>\n",
       "      <td>160533</td>\n",
       "      <td>4º CGCFEX</td>\n",
       "      <td>339030</td>\n",
       "      <td>MATERIAL DE CONSUMO</td>\n",
       "      <td>33903021</td>\n",
       "      <td>MATERIAL DE COPA E COZINHA</td>\n",
       "      <td>2023NE000465</td>\n",
       "      <td>E6SUPLJA5PA</td>\n",
       "      <td>A5PA - PASA</td>\n",
       "      <td>0032</td>\n",
       "      <td>171397</td>\n",
       "      <td>ANO</td>\n",
       "      <td>ORDINARIO</td>\n",
       "      <td>ESCOLA DE SARGENTOS DAS ARMAS</td>\n",
       "      <td>MG</td>\n",
       "      <td>MG</td>\n",
       "      <td>160504</td>\n",
       "      <td>COEX/GESTOR</td>\n",
       "      <td>E6SU</td>\n",
       "      <td>PLJ</td>\n",
       "      <td>A5PA</td>\n",
       "      <td>3044.75</td>\n",
       "      <td>0.0</td>\n",
       "      <td>3044.75</td>\n",
       "      <td>0.0</td>\n",
       "    </tr>\n",
       "    <tr>\n",
       "      <th>4</th>\n",
       "      <td>160129</td>\n",
       "      <td>ESA</td>\n",
       "      <td>8965</td>\n",
       "      <td>CAPACITACAO PROFISSIONAL MILITAR DO E</td>\n",
       "      <td>2023</td>\n",
       "      <td>39242061000109</td>\n",
       "      <td>CENTRAL TINTAS CURVELO LTDA</td>\n",
       "      <td>2023-07-25</td>\n",
       "      <td>114</td>\n",
       "      <td>160533</td>\n",
       "      <td>4º CGCFEX</td>\n",
       "      <td>339030</td>\n",
       "      <td>MATERIAL DE CONSUMO</td>\n",
       "      <td>33903024</td>\n",
       "      <td>MATERIAL P/ MANUT.DE BENS IMOVEIS/INSTALACOES</td>\n",
       "      <td>2023NE000891</td>\n",
       "      <td>C4ENMILCAPE</td>\n",
       "      <td>CAPACITACAO DE PESSOAL</td>\n",
       "      <td>6012</td>\n",
       "      <td>171423</td>\n",
       "      <td>ANO</td>\n",
       "      <td>ORDINARIO</td>\n",
       "      <td>ESCOLA DE SARGENTOS DAS ARMAS</td>\n",
       "      <td>MG</td>\n",
       "      <td>MG</td>\n",
       "      <td>160503</td>\n",
       "      <td>DECEX/GESTOR</td>\n",
       "      <td>C4EN</td>\n",
       "      <td>MIL</td>\n",
       "      <td>CAPE</td>\n",
       "      <td>552.90</td>\n",
       "      <td>0.0</td>\n",
       "      <td>552.90</td>\n",
       "      <td>0.0</td>\n",
       "    </tr>\n",
       "    <tr>\n",
       "      <th>5</th>\n",
       "      <td>160129</td>\n",
       "      <td>ESA</td>\n",
       "      <td>2000</td>\n",
       "      <td>ADMINISTRACAO DA UNIDADE</td>\n",
       "      <td>2023</td>\n",
       "      <td>08605233000120</td>\n",
       "      <td>BALCAO DOS PARAFUSOS E FERRAMENTAS LTDA</td>\n",
       "      <td>2023-07-31</td>\n",
       "      <td>108</td>\n",
       "      <td>160533</td>\n",
       "      <td>4º CGCFEX</td>\n",
       "      <td>339030</td>\n",
       "      <td>MATERIAL DE CONSUMO</td>\n",
       "      <td>33903016</td>\n",
       "      <td>MATERIAL DE EXPEDIENTE</td>\n",
       "      <td>2023NE000940</td>\n",
       "      <td>I3DAFUNADOM</td>\n",
       "      <td>ADMINISTRACAO DE OM</td>\n",
       "      <td>0032</td>\n",
       "      <td>171460</td>\n",
       "      <td>ANO</td>\n",
       "      <td>ORDINARIO</td>\n",
       "      <td>ESCOLA DE SARGENTOS DAS ARMAS  - AVENIDA SETE ...</td>\n",
       "      <td>MG</td>\n",
       "      <td>MG</td>\n",
       "      <td>160073</td>\n",
       "      <td>DGO</td>\n",
       "      <td>I3DA</td>\n",
       "      <td>FUN</td>\n",
       "      <td>ADOM</td>\n",
       "      <td>69.00</td>\n",
       "      <td>0.0</td>\n",
       "      <td>69.00</td>\n",
       "      <td>0.0</td>\n",
       "    </tr>\n",
       "    <tr>\n",
       "      <th>6</th>\n",
       "      <td>160129</td>\n",
       "      <td>ESA</td>\n",
       "      <td>2000</td>\n",
       "      <td>ADMINISTRACAO DA UNIDADE</td>\n",
       "      <td>2023</td>\n",
       "      <td>08605233000120</td>\n",
       "      <td>BALCAO DOS PARAFUSOS E FERRAMENTAS LTDA</td>\n",
       "      <td>2023-08-01</td>\n",
       "      <td>107</td>\n",
       "      <td>160533</td>\n",
       "      <td>4º CGCFEX</td>\n",
       "      <td>339030</td>\n",
       "      <td>MATERIAL DE CONSUMO</td>\n",
       "      <td>33903025</td>\n",
       "      <td>MATERIAL P/ MANUTENCAO DE BENS MOVEIS</td>\n",
       "      <td>2023NE000948</td>\n",
       "      <td>I3DAFUNADOM</td>\n",
       "      <td>ADMINISTRACAO DE OM</td>\n",
       "      <td>0032</td>\n",
       "      <td>171460</td>\n",
       "      <td>ANO</td>\n",
       "      <td>ORDINARIO</td>\n",
       "      <td>ESCOLA DE SARGENTOS DAS ARMAS  - AVENIDA SETE ...</td>\n",
       "      <td>MG</td>\n",
       "      <td>MG</td>\n",
       "      <td>160073</td>\n",
       "      <td>DGO</td>\n",
       "      <td>I3DA</td>\n",
       "      <td>FUN</td>\n",
       "      <td>ADOM</td>\n",
       "      <td>18.70</td>\n",
       "      <td>0.0</td>\n",
       "      <td>18.70</td>\n",
       "      <td>0.0</td>\n",
       "    </tr>\n",
       "    <tr>\n",
       "      <th>7</th>\n",
       "      <td>167129</td>\n",
       "      <td>ESA</td>\n",
       "      <td>2919</td>\n",
       "      <td>REGISTRO E FISCALIZACAO DE PRODUTOS C</td>\n",
       "      <td>2023</td>\n",
       "      <td>02852112698</td>\n",
       "      <td>LUCIANO ALVES DE PAULA</td>\n",
       "      <td>2023-06-13</td>\n",
       "      <td>156</td>\n",
       "      <td>160533</td>\n",
       "      <td>4º CGCFEX</td>\n",
       "      <td>339030</td>\n",
       "      <td>MATERIAL DE CONSUMO</td>\n",
       "      <td>33903096</td>\n",
       "      <td>MATERIAL DE CONSUMO - PAGTO ANTECIPADO</td>\n",
       "      <td>2023NE001191</td>\n",
       "      <td>E3PCOPFCOLU</td>\n",
       "      <td>COMBUSTIVEL E LUBRIFICANTES</td>\n",
       "      <td>6012</td>\n",
       "      <td>215839</td>\n",
       "      <td>ANO</td>\n",
       "      <td>ORDINARIO</td>\n",
       "      <td>ESCOLA DE SARGENTOS DAS ARMAS  - AVENIDA SETE ...</td>\n",
       "      <td>MS</td>\n",
       "      <td>MG</td>\n",
       "      <td>167504</td>\n",
       "      <td>COEX - GESTOR</td>\n",
       "      <td>E3PC</td>\n",
       "      <td>OPF</td>\n",
       "      <td>COLU</td>\n",
       "      <td>5.22</td>\n",
       "      <td>0.0</td>\n",
       "      <td>5.22</td>\n",
       "      <td>0.0</td>\n",
       "    </tr>\n",
       "  </tbody>\n",
       "</table>\n",
       "</div>"
      ],
      "text/plain": [
       "       UG SIGLA UG  ACAO                              NOME_ACAO   ANO  \\\n",
       "0  160129      ESA  8965  CAPACITACAO PROFISSIONAL MILITAR DO E  2023   \n",
       "1  167129      ESA  2919  REGISTRO E FISCALIZACAO DE PRODUTOS C  2023   \n",
       "2  160129      ESA  8965  CAPACITACAO PROFISSIONAL MILITAR DO E  2023   \n",
       "3  160129      ESA  212B  BENEFICIOS OBRIGATORIOS AOS SERVIDORE  2023   \n",
       "4  160129      ESA  8965  CAPACITACAO PROFISSIONAL MILITAR DO E  2023   \n",
       "5  160129      ESA  2000               ADMINISTRACAO DA UNIDADE  2023   \n",
       "6  160129      ESA  2000               ADMINISTRACAO DA UNIDADE  2023   \n",
       "7  167129      ESA  2919  REGISTRO E FISCALIZACAO DE PRODUTOS C  2023   \n",
       "\n",
       "           CREDOR                                        NOME_CREDOR  \\\n",
       "0  33345691000114         CONCRETA BRASIL SOLUCOES EMPRESARIAIS LTDA   \n",
       "1  13754000000129  G4 SERVICO E COMERCIO DE PRODUTOS INDUSTRIAIS,...   \n",
       "2  20240470000130          R.A.C. CUNHA MATERIAIS P/ CONSTRUCAO LTDA   \n",
       "3  28259514000185                  CLEVER FERREIRA COSTA 01175363693   \n",
       "4  39242061000109                        CENTRAL TINTAS CURVELO LTDA   \n",
       "5  08605233000120            BALCAO DOS PARAFUSOS E FERRAMENTAS LTDA   \n",
       "6  08605233000120            BALCAO DOS PARAFUSOS E FERRAMENTAS LTDA   \n",
       "7     02852112698                             LUCIANO ALVES DE PAULA   \n",
       "\n",
       "        DATA  DIAS   ICFEX NOME_ICFEX      ND              NOME_ND      NDSI  \\\n",
       "0 2023-07-25   114  160533  4º CGCFEX  339030  MATERIAL DE CONSUMO  33903024   \n",
       "1 2023-06-02   167  160533  4º CGCFEX  339030  MATERIAL DE CONSUMO  33903039   \n",
       "2 2023-07-25   114  160533  4º CGCFEX  339030  MATERIAL DE CONSUMO  33903024   \n",
       "3 2023-05-03   197  160533  4º CGCFEX  339030  MATERIAL DE CONSUMO  33903021   \n",
       "4 2023-07-25   114  160533  4º CGCFEX  339030  MATERIAL DE CONSUMO  33903024   \n",
       "5 2023-07-31   108  160533  4º CGCFEX  339030  MATERIAL DE CONSUMO  33903016   \n",
       "6 2023-08-01   107  160533  4º CGCFEX  339030  MATERIAL DE CONSUMO  33903025   \n",
       "7 2023-06-13   156  160533  4º CGCFEX  339030  MATERIAL DE CONSUMO  33903096   \n",
       "\n",
       "                                       NOME_NDSI            NE           PI  \\\n",
       "0  MATERIAL P/ MANUT.DE BENS IMOVEIS/INSTALACOES  2023NE000890  C4ENMILCAPE   \n",
       "1             MATERIAL P/ MANUTENCAO DE VEICULOS  2023NE001125  E3PCFSCMABM   \n",
       "2  MATERIAL P/ MANUT.DE BENS IMOVEIS/INSTALACOES  2023NE000894  C4ENMILCAPE   \n",
       "3                     MATERIAL DE COPA E COZINHA  2023NE000465  E6SUPLJA5PA   \n",
       "4  MATERIAL P/ MANUT.DE BENS IMOVEIS/INSTALACOES  2023NE000891  C4ENMILCAPE   \n",
       "5                         MATERIAL DE EXPEDIENTE  2023NE000940  I3DAFUNADOM   \n",
       "6          MATERIAL P/ MANUTENCAO DE BENS MOVEIS  2023NE000948  I3DAFUNADOM   \n",
       "7         MATERIAL DE CONSUMO - PAGTO ANTECIPADO  2023NE001191  E3PCOPFCOLU   \n",
       "\n",
       "                       NOME_PI PROGRAMA   PTRES TIPO    TIPO_NE  \\\n",
       "0       CAPACITACAO DE PESSOAL     6012  171423  ANO  ORDINARIO   \n",
       "1    MANUTENCAO DE BENS MOVEIS     6012  215839  ANO  ORDINARIO   \n",
       "2       CAPACITACAO DE PESSOAL     6012  171423  ANO  ORDINARIO   \n",
       "3                  A5PA - PASA     0032  171397  ANO  ORDINARIO   \n",
       "4       CAPACITACAO DE PESSOAL     6012  171423  ANO  ORDINARIO   \n",
       "5          ADMINISTRACAO DE OM     0032  171460  ANO  ORDINARIO   \n",
       "6          ADMINISTRACAO DE OM     0032  171460  ANO  ORDINARIO   \n",
       "7  COMBUSTIVEL E LUBRIFICANTES     6012  215839  ANO  ORDINARIO   \n",
       "\n",
       "                                               LOCAL UF_CREDOR UF_UG     UGR  \\\n",
       "0                      ESCOLA DE SARGENTOS DAS ARMAS        RJ    MG  160503   \n",
       "1                      ESCOLA DE SARGENTOS DAS ARMAS        RJ    MG  167504   \n",
       "2                      ESCOLA DE SARGENTOS DAS ARMAS        SP    MG  160503   \n",
       "3                      ESCOLA DE SARGENTOS DAS ARMAS        MG    MG  160504   \n",
       "4                      ESCOLA DE SARGENTOS DAS ARMAS        MG    MG  160503   \n",
       "5  ESCOLA DE SARGENTOS DAS ARMAS  - AVENIDA SETE ...        MG    MG  160073   \n",
       "6  ESCOLA DE SARGENTOS DAS ARMAS  - AVENIDA SETE ...        MG    MG  160073   \n",
       "7  ESCOLA DE SARGENTOS DAS ARMAS  - AVENIDA SETE ...        MS    MG  167504   \n",
       "\n",
       "        NOME_UGR RADPI4 MEIPI3 SUFPI4  A_LIQUIDAR  LIQUIDADO_A_PAGAR  \\\n",
       "0   DECEX/GESTOR   C4EN    MIL   CAPE    11469.19                0.0   \n",
       "1  COEX - GESTOR   E3PC    FSC   MABM     9999.67                0.0   \n",
       "2   DECEX/GESTOR   C4EN    MIL   CAPE     8846.35                0.0   \n",
       "3    COEX/GESTOR   E6SU    PLJ   A5PA     3044.75                0.0   \n",
       "4   DECEX/GESTOR   C4EN    MIL   CAPE      552.90                0.0   \n",
       "5            DGO   I3DA    FUN   ADOM       69.00                0.0   \n",
       "6            DGO   I3DA    FUN   ADOM       18.70                0.0   \n",
       "7  COEX - GESTOR   E3PC    OPF   COLU        5.22                0.0   \n",
       "\n",
       "   TOTAL_A_PAGAR  PAGO  \n",
       "0       11469.19   0.0  \n",
       "1        9999.67   0.0  \n",
       "2        8846.35   0.0  \n",
       "3        3044.75   0.0  \n",
       "4         552.90   0.0  \n",
       "5          69.00   0.0  \n",
       "6          18.70   0.0  \n",
       "7           5.22   0.0  "
      ]
     },
     "execution_count": 28,
     "metadata": {},
     "output_type": "execute_result"
    }
   ],
   "source": [
    "# Empenhos da ND 30 com prazo de entrega superior a 100 dias\n",
    "\n",
    "df_nd30_100dias = df_teste[(df_teste['A_LIQUIDAR'] != 0) & (df_teste['ND'] == '339030') & (df_teste['DIAS'] > 100) & (df_teste['TIPO_NE'] == 'ORDINARIO') ].sort_values(by='DIAS', ascending=False).reset_index(drop=True)\n",
    "\n",
    "df_nd30_100dias.sort_values(by='A_LIQUIDAR', ascending=False).reset_index(drop=True)\n",
    "\n",
    "#df_nd30_100dias.to_excel('nd30_PA.xlsx')"
   ]
  },
  {
   "cell_type": "markdown",
   "metadata": {},
   "source": [
    "### Empenhos ND 52"
   ]
  },
  {
   "cell_type": "code",
   "execution_count": 29,
   "metadata": {},
   "outputs": [
    {
     "data": {
      "text/html": [
       "<div>\n",
       "<style scoped>\n",
       "    .dataframe tbody tr th:only-of-type {\n",
       "        vertical-align: middle;\n",
       "    }\n",
       "\n",
       "    .dataframe tbody tr th {\n",
       "        vertical-align: top;\n",
       "    }\n",
       "\n",
       "    .dataframe thead th {\n",
       "        text-align: right;\n",
       "    }\n",
       "</style>\n",
       "<table border=\"1\" class=\"dataframe\">\n",
       "  <thead>\n",
       "    <tr style=\"text-align: right;\">\n",
       "      <th></th>\n",
       "      <th>UG</th>\n",
       "      <th>SIGLA UG</th>\n",
       "      <th>ACAO</th>\n",
       "      <th>NOME_ACAO</th>\n",
       "      <th>ANO</th>\n",
       "      <th>CREDOR</th>\n",
       "      <th>NOME_CREDOR</th>\n",
       "      <th>DATA</th>\n",
       "      <th>DIAS</th>\n",
       "      <th>ICFEX</th>\n",
       "      <th>NOME_ICFEX</th>\n",
       "      <th>ND</th>\n",
       "      <th>NOME_ND</th>\n",
       "      <th>NDSI</th>\n",
       "      <th>NOME_NDSI</th>\n",
       "      <th>NE</th>\n",
       "      <th>PI</th>\n",
       "      <th>NOME_PI</th>\n",
       "      <th>PROGRAMA</th>\n",
       "      <th>PTRES</th>\n",
       "      <th>TIPO</th>\n",
       "      <th>TIPO_NE</th>\n",
       "      <th>LOCAL</th>\n",
       "      <th>UF_CREDOR</th>\n",
       "      <th>UF_UG</th>\n",
       "      <th>UGR</th>\n",
       "      <th>NOME_UGR</th>\n",
       "      <th>RADPI4</th>\n",
       "      <th>MEIPI3</th>\n",
       "      <th>SUFPI4</th>\n",
       "      <th>A_LIQUIDAR</th>\n",
       "      <th>LIQUIDADO_A_PAGAR</th>\n",
       "      <th>TOTAL_A_PAGAR</th>\n",
       "      <th>PAGO</th>\n",
       "    </tr>\n",
       "  </thead>\n",
       "  <tbody>\n",
       "    <tr>\n",
       "      <th>0</th>\n",
       "      <td>160129</td>\n",
       "      <td>ESA</td>\n",
       "      <td>8965</td>\n",
       "      <td>CAPACITACAO PROFISSIONAL MILITAR DO E</td>\n",
       "      <td>2023</td>\n",
       "      <td>28320324000126</td>\n",
       "      <td>FREDERICO DELGADO DE ALMEIDA</td>\n",
       "      <td>2023-06-19</td>\n",
       "      <td>150</td>\n",
       "      <td>160533</td>\n",
       "      <td>4º CGCFEX</td>\n",
       "      <td>449052</td>\n",
       "      <td>EQUIPAMENTOS E MATERIAL PERMANENTE</td>\n",
       "      <td>44905224</td>\n",
       "      <td>EQUIPAMENTO DE PROTECAO, SEGURANCA E  SOCORRO</td>\n",
       "      <td>2023NE000672</td>\n",
       "      <td>C4ENMILCAPE</td>\n",
       "      <td>CAPACITACAO DE PESSOAL</td>\n",
       "      <td>6012</td>\n",
       "      <td>171423</td>\n",
       "      <td>ANO</td>\n",
       "      <td>ORDINARIO</td>\n",
       "      <td>ESCOLA DE SARGENTOS DAS ARMAS  - AVENIDA SETE ...</td>\n",
       "      <td>MG</td>\n",
       "      <td>MG</td>\n",
       "      <td>160503</td>\n",
       "      <td>DECEX/GESTOR</td>\n",
       "      <td>C4EN</td>\n",
       "      <td>MIL</td>\n",
       "      <td>CAPE</td>\n",
       "      <td>1379.10</td>\n",
       "      <td>0.0</td>\n",
       "      <td>1379.10</td>\n",
       "      <td>0.0</td>\n",
       "    </tr>\n",
       "    <tr>\n",
       "      <th>1</th>\n",
       "      <td>160129</td>\n",
       "      <td>ESA</td>\n",
       "      <td>8965</td>\n",
       "      <td>CAPACITACAO PROFISSIONAL MILITAR DO E</td>\n",
       "      <td>2023</td>\n",
       "      <td>81243735000903</td>\n",
       "      <td>POSITIVO TECNOLOGIA S.A.</td>\n",
       "      <td>2023-07-24</td>\n",
       "      <td>115</td>\n",
       "      <td>160533</td>\n",
       "      <td>4º CGCFEX</td>\n",
       "      <td>449052</td>\n",
       "      <td>EQUIPAMENTOS E MATERIAL PERMANENTE</td>\n",
       "      <td>44905241</td>\n",
       "      <td>EQUIPAMENTOS DE TIC - COMPUTADORES</td>\n",
       "      <td>2023NE000889</td>\n",
       "      <td>C4ENMILCAPE</td>\n",
       "      <td>CAPACITACAO DE PESSOAL</td>\n",
       "      <td>6012</td>\n",
       "      <td>171423</td>\n",
       "      <td>ANO</td>\n",
       "      <td>ORDINARIO</td>\n",
       "      <td>ESCOLA DE SARGENTOS DAS ARMAS</td>\n",
       "      <td>BA</td>\n",
       "      <td>MG</td>\n",
       "      <td>160503</td>\n",
       "      <td>DECEX/GESTOR</td>\n",
       "      <td>C4EN</td>\n",
       "      <td>MIL</td>\n",
       "      <td>CAPE</td>\n",
       "      <td>11454.00</td>\n",
       "      <td>0.0</td>\n",
       "      <td>11454.00</td>\n",
       "      <td>0.0</td>\n",
       "    </tr>\n",
       "    <tr>\n",
       "      <th>2</th>\n",
       "      <td>167129</td>\n",
       "      <td>ESA</td>\n",
       "      <td>2004</td>\n",
       "      <td>ASSISTENCIA MEDICA E ODONTOLOGICA AOS</td>\n",
       "      <td>2023</td>\n",
       "      <td>10902067000175</td>\n",
       "      <td>ESCRIBLU COMERCIO DE MOVEIS LTDA</td>\n",
       "      <td>2023-08-02</td>\n",
       "      <td>106</td>\n",
       "      <td>160533</td>\n",
       "      <td>4º CGCFEX</td>\n",
       "      <td>449052</td>\n",
       "      <td>EQUIPAMENTOS E MATERIAL PERMANENTE</td>\n",
       "      <td>44905242</td>\n",
       "      <td>MOBILIARIO EM GERAL</td>\n",
       "      <td>2023NE001377</td>\n",
       "      <td>D5SAFUSASOC</td>\n",
       "      <td>ASSISTENCIA SOCIAL</td>\n",
       "      <td>0032</td>\n",
       "      <td>215846</td>\n",
       "      <td>ANO</td>\n",
       "      <td>ORDINARIO</td>\n",
       "      <td>ESCOLA DE SARGENTOS DAS ARMAS</td>\n",
       "      <td>SC</td>\n",
       "      <td>MG</td>\n",
       "      <td>167505</td>\n",
       "      <td>DGP</td>\n",
       "      <td>D5SA</td>\n",
       "      <td>FUS</td>\n",
       "      <td>ASOC</td>\n",
       "      <td>2707.96</td>\n",
       "      <td>0.0</td>\n",
       "      <td>2707.96</td>\n",
       "      <td>0.0</td>\n",
       "    </tr>\n",
       "    <tr>\n",
       "      <th>3</th>\n",
       "      <td>167129</td>\n",
       "      <td>ESA</td>\n",
       "      <td>2004</td>\n",
       "      <td>ASSISTENCIA MEDICA E ODONTOLOGICA AOS</td>\n",
       "      <td>2023</td>\n",
       "      <td>10902067000175</td>\n",
       "      <td>ESCRIBLU COMERCIO DE MOVEIS LTDA</td>\n",
       "      <td>2023-08-02</td>\n",
       "      <td>106</td>\n",
       "      <td>160533</td>\n",
       "      <td>4º CGCFEX</td>\n",
       "      <td>449052</td>\n",
       "      <td>EQUIPAMENTOS E MATERIAL PERMANENTE</td>\n",
       "      <td>44905242</td>\n",
       "      <td>MOBILIARIO EM GERAL</td>\n",
       "      <td>2023NE001378</td>\n",
       "      <td>D5SAFUSASOC</td>\n",
       "      <td>ASSISTENCIA SOCIAL</td>\n",
       "      <td>0032</td>\n",
       "      <td>215846</td>\n",
       "      <td>ANO</td>\n",
       "      <td>ORDINARIO</td>\n",
       "      <td>ESCOLA DE SARGENTOS DAS ARMAS</td>\n",
       "      <td>SC</td>\n",
       "      <td>MG</td>\n",
       "      <td>167505</td>\n",
       "      <td>DGP</td>\n",
       "      <td>D5SA</td>\n",
       "      <td>FUS</td>\n",
       "      <td>ASOC</td>\n",
       "      <td>3047.67</td>\n",
       "      <td>0.0</td>\n",
       "      <td>3047.67</td>\n",
       "      <td>0.0</td>\n",
       "    </tr>\n",
       "    <tr>\n",
       "      <th>4</th>\n",
       "      <td>167129</td>\n",
       "      <td>ESA</td>\n",
       "      <td>2004</td>\n",
       "      <td>ASSISTENCIA MEDICA E ODONTOLOGICA AOS</td>\n",
       "      <td>2023</td>\n",
       "      <td>45169346000156</td>\n",
       "      <td>FRANCILANDIO THIERES DE CARVALHO SILVA</td>\n",
       "      <td>2023-08-10</td>\n",
       "      <td>98</td>\n",
       "      <td>160533</td>\n",
       "      <td>4º CGCFEX</td>\n",
       "      <td>449052</td>\n",
       "      <td>EQUIPAMENTOS E MATERIAL PERMANENTE</td>\n",
       "      <td>44905212</td>\n",
       "      <td>APARELHOS E UTENSILIOS DOMESTICOS</td>\n",
       "      <td>2023NE001405</td>\n",
       "      <td>D5SAFUSASOC</td>\n",
       "      <td>ASSISTENCIA SOCIAL</td>\n",
       "      <td>0032</td>\n",
       "      <td>215846</td>\n",
       "      <td>ANO</td>\n",
       "      <td>ORDINARIO</td>\n",
       "      <td>ESCOLA DE SARGENTOS DAS ARMAS  - AVENIDA SETE ...</td>\n",
       "      <td>PI</td>\n",
       "      <td>MG</td>\n",
       "      <td>167505</td>\n",
       "      <td>DGP</td>\n",
       "      <td>D5SA</td>\n",
       "      <td>FUS</td>\n",
       "      <td>ASOC</td>\n",
       "      <td>3964.69</td>\n",
       "      <td>0.0</td>\n",
       "      <td>3964.69</td>\n",
       "      <td>0.0</td>\n",
       "    </tr>\n",
       "    <tr>\n",
       "      <th>5</th>\n",
       "      <td>167129</td>\n",
       "      <td>ESA</td>\n",
       "      <td>2004</td>\n",
       "      <td>ASSISTENCIA MEDICA E ODONTOLOGICA AOS</td>\n",
       "      <td>2023</td>\n",
       "      <td>48489837000172</td>\n",
       "      <td>JB LICITACOES LTDA</td>\n",
       "      <td>2023-08-10</td>\n",
       "      <td>98</td>\n",
       "      <td>160533</td>\n",
       "      <td>4º CGCFEX</td>\n",
       "      <td>449052</td>\n",
       "      <td>EQUIPAMENTOS E MATERIAL PERMANENTE</td>\n",
       "      <td>44905242</td>\n",
       "      <td>MOBILIARIO EM GERAL</td>\n",
       "      <td>2023NE001408</td>\n",
       "      <td>D5SAFUSASOC</td>\n",
       "      <td>ASSISTENCIA SOCIAL</td>\n",
       "      <td>0032</td>\n",
       "      <td>215846</td>\n",
       "      <td>ANO</td>\n",
       "      <td>ORDINARIO</td>\n",
       "      <td>ESCOLA DE SARGENTOS DAS ARMAS  - AVENIDA SETE ...</td>\n",
       "      <td>SC</td>\n",
       "      <td>MG</td>\n",
       "      <td>167505</td>\n",
       "      <td>DGP</td>\n",
       "      <td>D5SA</td>\n",
       "      <td>FUS</td>\n",
       "      <td>ASOC</td>\n",
       "      <td>2460.00</td>\n",
       "      <td>0.0</td>\n",
       "      <td>2460.00</td>\n",
       "      <td>0.0</td>\n",
       "    </tr>\n",
       "    <tr>\n",
       "      <th>6</th>\n",
       "      <td>167129</td>\n",
       "      <td>ESA</td>\n",
       "      <td>2000</td>\n",
       "      <td>ADMINISTRACAO DA UNIDADE</td>\n",
       "      <td>2023</td>\n",
       "      <td>81243735000903</td>\n",
       "      <td>POSITIVO TECNOLOGIA S.A.</td>\n",
       "      <td>2023-08-18</td>\n",
       "      <td>90</td>\n",
       "      <td>160533</td>\n",
       "      <td>4º CGCFEX</td>\n",
       "      <td>449052</td>\n",
       "      <td>EQUIPAMENTOS E MATERIAL PERMANENTE</td>\n",
       "      <td>44905241</td>\n",
       "      <td>EQUIPAMENTOS DE TIC - COMPUTADORES</td>\n",
       "      <td>2023NE001414</td>\n",
       "      <td>C1ENCONDETM</td>\n",
       "      <td>CONCURSOS AS ESCOLAS MILITARES</td>\n",
       "      <td>0032</td>\n",
       "      <td>171502</td>\n",
       "      <td>ANO</td>\n",
       "      <td>ORDINARIO</td>\n",
       "      <td>ESCOLA DE SARGENTOS DAS ARMAS  - AVENIDA SETE ...</td>\n",
       "      <td>BA</td>\n",
       "      <td>MG</td>\n",
       "      <td>167503</td>\n",
       "      <td>DECEX - GESTOR</td>\n",
       "      <td>C1EN</td>\n",
       "      <td>CON</td>\n",
       "      <td>DETM</td>\n",
       "      <td>21864.00</td>\n",
       "      <td>0.0</td>\n",
       "      <td>21864.00</td>\n",
       "      <td>0.0</td>\n",
       "    </tr>\n",
       "  </tbody>\n",
       "</table>\n",
       "</div>"
      ],
      "text/plain": [
       "       UG SIGLA UG  ACAO                              NOME_ACAO   ANO  \\\n",
       "0  160129      ESA  8965  CAPACITACAO PROFISSIONAL MILITAR DO E  2023   \n",
       "1  160129      ESA  8965  CAPACITACAO PROFISSIONAL MILITAR DO E  2023   \n",
       "2  167129      ESA  2004  ASSISTENCIA MEDICA E ODONTOLOGICA AOS  2023   \n",
       "3  167129      ESA  2004  ASSISTENCIA MEDICA E ODONTOLOGICA AOS  2023   \n",
       "4  167129      ESA  2004  ASSISTENCIA MEDICA E ODONTOLOGICA AOS  2023   \n",
       "5  167129      ESA  2004  ASSISTENCIA MEDICA E ODONTOLOGICA AOS  2023   \n",
       "6  167129      ESA  2000               ADMINISTRACAO DA UNIDADE  2023   \n",
       "\n",
       "           CREDOR                             NOME_CREDOR       DATA  DIAS  \\\n",
       "0  28320324000126            FREDERICO DELGADO DE ALMEIDA 2023-06-19   150   \n",
       "1  81243735000903                POSITIVO TECNOLOGIA S.A. 2023-07-24   115   \n",
       "2  10902067000175        ESCRIBLU COMERCIO DE MOVEIS LTDA 2023-08-02   106   \n",
       "3  10902067000175        ESCRIBLU COMERCIO DE MOVEIS LTDA 2023-08-02   106   \n",
       "4  45169346000156  FRANCILANDIO THIERES DE CARVALHO SILVA 2023-08-10    98   \n",
       "5  48489837000172                      JB LICITACOES LTDA 2023-08-10    98   \n",
       "6  81243735000903                POSITIVO TECNOLOGIA S.A. 2023-08-18    90   \n",
       "\n",
       "    ICFEX NOME_ICFEX      ND                             NOME_ND      NDSI  \\\n",
       "0  160533  4º CGCFEX  449052  EQUIPAMENTOS E MATERIAL PERMANENTE  44905224   \n",
       "1  160533  4º CGCFEX  449052  EQUIPAMENTOS E MATERIAL PERMANENTE  44905241   \n",
       "2  160533  4º CGCFEX  449052  EQUIPAMENTOS E MATERIAL PERMANENTE  44905242   \n",
       "3  160533  4º CGCFEX  449052  EQUIPAMENTOS E MATERIAL PERMANENTE  44905242   \n",
       "4  160533  4º CGCFEX  449052  EQUIPAMENTOS E MATERIAL PERMANENTE  44905212   \n",
       "5  160533  4º CGCFEX  449052  EQUIPAMENTOS E MATERIAL PERMANENTE  44905242   \n",
       "6  160533  4º CGCFEX  449052  EQUIPAMENTOS E MATERIAL PERMANENTE  44905241   \n",
       "\n",
       "                                       NOME_NDSI            NE           PI  \\\n",
       "0  EQUIPAMENTO DE PROTECAO, SEGURANCA E  SOCORRO  2023NE000672  C4ENMILCAPE   \n",
       "1             EQUIPAMENTOS DE TIC - COMPUTADORES  2023NE000889  C4ENMILCAPE   \n",
       "2                            MOBILIARIO EM GERAL  2023NE001377  D5SAFUSASOC   \n",
       "3                            MOBILIARIO EM GERAL  2023NE001378  D5SAFUSASOC   \n",
       "4              APARELHOS E UTENSILIOS DOMESTICOS  2023NE001405  D5SAFUSASOC   \n",
       "5                            MOBILIARIO EM GERAL  2023NE001408  D5SAFUSASOC   \n",
       "6             EQUIPAMENTOS DE TIC - COMPUTADORES  2023NE001414  C1ENCONDETM   \n",
       "\n",
       "                          NOME_PI PROGRAMA   PTRES TIPO    TIPO_NE  \\\n",
       "0          CAPACITACAO DE PESSOAL     6012  171423  ANO  ORDINARIO   \n",
       "1          CAPACITACAO DE PESSOAL     6012  171423  ANO  ORDINARIO   \n",
       "2              ASSISTENCIA SOCIAL     0032  215846  ANO  ORDINARIO   \n",
       "3              ASSISTENCIA SOCIAL     0032  215846  ANO  ORDINARIO   \n",
       "4              ASSISTENCIA SOCIAL     0032  215846  ANO  ORDINARIO   \n",
       "5              ASSISTENCIA SOCIAL     0032  215846  ANO  ORDINARIO   \n",
       "6  CONCURSOS AS ESCOLAS MILITARES     0032  171502  ANO  ORDINARIO   \n",
       "\n",
       "                                               LOCAL UF_CREDOR UF_UG     UGR  \\\n",
       "0  ESCOLA DE SARGENTOS DAS ARMAS  - AVENIDA SETE ...        MG    MG  160503   \n",
       "1                      ESCOLA DE SARGENTOS DAS ARMAS        BA    MG  160503   \n",
       "2                      ESCOLA DE SARGENTOS DAS ARMAS        SC    MG  167505   \n",
       "3                      ESCOLA DE SARGENTOS DAS ARMAS        SC    MG  167505   \n",
       "4  ESCOLA DE SARGENTOS DAS ARMAS  - AVENIDA SETE ...        PI    MG  167505   \n",
       "5  ESCOLA DE SARGENTOS DAS ARMAS  - AVENIDA SETE ...        SC    MG  167505   \n",
       "6  ESCOLA DE SARGENTOS DAS ARMAS  - AVENIDA SETE ...        BA    MG  167503   \n",
       "\n",
       "         NOME_UGR RADPI4 MEIPI3 SUFPI4  A_LIQUIDAR  LIQUIDADO_A_PAGAR  \\\n",
       "0    DECEX/GESTOR   C4EN    MIL   CAPE     1379.10                0.0   \n",
       "1    DECEX/GESTOR   C4EN    MIL   CAPE    11454.00                0.0   \n",
       "2             DGP   D5SA    FUS   ASOC     2707.96                0.0   \n",
       "3             DGP   D5SA    FUS   ASOC     3047.67                0.0   \n",
       "4             DGP   D5SA    FUS   ASOC     3964.69                0.0   \n",
       "5             DGP   D5SA    FUS   ASOC     2460.00                0.0   \n",
       "6  DECEX - GESTOR   C1EN    CON   DETM    21864.00                0.0   \n",
       "\n",
       "   TOTAL_A_PAGAR  PAGO  \n",
       "0        1379.10   0.0  \n",
       "1       11454.00   0.0  \n",
       "2        2707.96   0.0  \n",
       "3        3047.67   0.0  \n",
       "4        3964.69   0.0  \n",
       "5        2460.00   0.0  \n",
       "6       21864.00   0.0  "
      ]
     },
     "execution_count": 29,
     "metadata": {},
     "output_type": "execute_result"
    }
   ],
   "source": [
    "df_nd52_100dias = df_teste[(df_teste['A_LIQUIDAR'] != 0) & (df_teste['ND'] == '449052') & (df_teste['DIAS'] > 50) ].sort_values(by='DIAS', ascending=False).reset_index(drop=True)\n",
    "\n",
    "df_nd52_100dias.reset_index(drop=True)\n",
    "\n",
    "#df_nd52_100dias.to_excel('nd52_PA.xlsx')"
   ]
  },
  {
   "cell_type": "markdown",
   "metadata": {},
   "source": [
    "### Consolidação ND 30 e ND 52"
   ]
  },
  {
   "cell_type": "code",
   "execution_count": 30,
   "metadata": {},
   "outputs": [],
   "source": [
    "nd = ['449052', '339030' ]\n",
    "\n",
    "cols = ['UG', 'ANO', 'CREDOR', 'NOME_CREDOR',\n",
    "       'DATA', 'DIAS', 'ND', 'NDSI', 'NOME_NDSI', \n",
    "       'NE', 'PI', 'NOME_PI', 'UGR', 'NOME_UGR', \n",
    "       'A_LIQUIDAR', 'LIQUIDADO_A_PAGAR','PAGO']\n",
    "\n",
    "df_foco = df_teste.loc[df_teste['ND'].isin(nd) & (df_teste['DIAS'] > 60) & (df_teste['A_LIQUIDAR'] != 0), :].sort_values(by='DIAS', ascending=False).reset_index(drop=True)\n",
    "\n",
    "df_foco.reset_index(drop=True)\n",
    "\n",
    "df_foco = df_foco.loc[:, cols]\n",
    "\n",
    "# Baixando foco para Almox\n",
    "df_foco.to_excel('Retorno_Almox.xlsx')"
   ]
  },
  {
   "cell_type": "markdown",
   "metadata": {},
   "source": [
    "### Recursos Liquidados a pagar"
   ]
  },
  {
   "cell_type": "code",
   "execution_count": 31,
   "metadata": {},
   "outputs": [
    {
     "data": {
      "text/html": [
       "<div>\n",
       "<style scoped>\n",
       "    .dataframe tbody tr th:only-of-type {\n",
       "        vertical-align: middle;\n",
       "    }\n",
       "\n",
       "    .dataframe tbody tr th {\n",
       "        vertical-align: top;\n",
       "    }\n",
       "\n",
       "    .dataframe thead th {\n",
       "        text-align: right;\n",
       "    }\n",
       "</style>\n",
       "<table border=\"1\" class=\"dataframe\">\n",
       "  <thead>\n",
       "    <tr style=\"text-align: right;\">\n",
       "      <th></th>\n",
       "      <th>UG</th>\n",
       "      <th>SIGLA UG</th>\n",
       "      <th>ACAO</th>\n",
       "      <th>NOME_ACAO</th>\n",
       "      <th>ANO</th>\n",
       "      <th>CREDOR</th>\n",
       "      <th>NOME_CREDOR</th>\n",
       "      <th>DATA</th>\n",
       "      <th>DIAS</th>\n",
       "      <th>ICFEX</th>\n",
       "      <th>NOME_ICFEX</th>\n",
       "      <th>ND</th>\n",
       "      <th>NOME_ND</th>\n",
       "      <th>NDSI</th>\n",
       "      <th>NOME_NDSI</th>\n",
       "      <th>NE</th>\n",
       "      <th>PI</th>\n",
       "      <th>NOME_PI</th>\n",
       "      <th>PROGRAMA</th>\n",
       "      <th>PTRES</th>\n",
       "      <th>TIPO</th>\n",
       "      <th>TIPO_NE</th>\n",
       "      <th>LOCAL</th>\n",
       "      <th>UF_CREDOR</th>\n",
       "      <th>UF_UG</th>\n",
       "      <th>UGR</th>\n",
       "      <th>NOME_UGR</th>\n",
       "      <th>RADPI4</th>\n",
       "      <th>MEIPI3</th>\n",
       "      <th>SUFPI4</th>\n",
       "      <th>A_LIQUIDAR</th>\n",
       "      <th>LIQUIDADO_A_PAGAR</th>\n",
       "      <th>TOTAL_A_PAGAR</th>\n",
       "      <th>PAGO</th>\n",
       "    </tr>\n",
       "  </thead>\n",
       "  <tbody>\n",
       "    <tr>\n",
       "      <th>0</th>\n",
       "      <td>167129</td>\n",
       "      <td>ESA</td>\n",
       "      <td>2004</td>\n",
       "      <td>ASSISTENCIA MEDICA E ODONTOLOGICA AOS</td>\n",
       "      <td>2023</td>\n",
       "      <td>17845504000296</td>\n",
       "      <td>UNIMED VARGINHA COOPERATIVA DE TRABALHO MEDICO</td>\n",
       "      <td>2023-11-01</td>\n",
       "      <td>15</td>\n",
       "      <td>160533</td>\n",
       "      <td>4º CGCFEX</td>\n",
       "      <td>339039</td>\n",
       "      <td>OUTROS SERVICOS DE TERCEIROS - PESSOA JURIDICA</td>\n",
       "      <td>33903950</td>\n",
       "      <td>SERV.MEDICO-HOSPITAL.,ODONTOL.E LABORATORIAIS</td>\n",
       "      <td>2023NE001745</td>\n",
       "      <td>D8SAFUSOCSA</td>\n",
       "      <td>ORGANIZACAO CIVIL DE SAUDE</td>\n",
       "      <td>0032</td>\n",
       "      <td>215845</td>\n",
       "      <td>ANO</td>\n",
       "      <td>ESTIMATIVO</td>\n",
       "      <td>CLINICA/CONSULTÓRIO/HOSPITAL</td>\n",
       "      <td>MG</td>\n",
       "      <td>MG</td>\n",
       "      <td>167505</td>\n",
       "      <td>DGP</td>\n",
       "      <td>D8SA</td>\n",
       "      <td>FUS</td>\n",
       "      <td>OCSA</td>\n",
       "      <td>0.0</td>\n",
       "      <td>26215.31</td>\n",
       "      <td>26215.31</td>\n",
       "      <td>0.0</td>\n",
       "    </tr>\n",
       "    <tr>\n",
       "      <th>1</th>\n",
       "      <td>160129</td>\n",
       "      <td>ESA</td>\n",
       "      <td>21A0</td>\n",
       "      <td>APRESTAMENTO DAS FORCAS</td>\n",
       "      <td>2023</td>\n",
       "      <td>38073038000167</td>\n",
       "      <td>WR NUTRICAO ANIMAL LTDA</td>\n",
       "      <td>2023-09-01</td>\n",
       "      <td>76</td>\n",
       "      <td>160533</td>\n",
       "      <td>4º CGCFEX</td>\n",
       "      <td>339030</td>\n",
       "      <td>MATERIAL DE CONSUMO</td>\n",
       "      <td>33903006</td>\n",
       "      <td>ALIMENTOS PARA ANIMAIS</td>\n",
       "      <td>2023NE001097</td>\n",
       "      <td>E6RVPLJALIE</td>\n",
       "      <td>ALIMENTACAO PARA EQUINOS.</td>\n",
       "      <td>6012</td>\n",
       "      <td>193910</td>\n",
       "      <td>ANO</td>\n",
       "      <td>GLOBAL</td>\n",
       "      <td>ESCOLA DE SARGENTOS DAS ARMAS  - AVENIDA SETE ...</td>\n",
       "      <td>ES</td>\n",
       "      <td>MG</td>\n",
       "      <td>160504</td>\n",
       "      <td>COEX/GESTOR</td>\n",
       "      <td>E6RV</td>\n",
       "      <td>PLJ</td>\n",
       "      <td>ALIE</td>\n",
       "      <td>39408.2</td>\n",
       "      <td>18400.00</td>\n",
       "      <td>57808.20</td>\n",
       "      <td>0.0</td>\n",
       "    </tr>\n",
       "  </tbody>\n",
       "</table>\n",
       "</div>"
      ],
      "text/plain": [
       "       UG SIGLA UG  ACAO                              NOME_ACAO   ANO  \\\n",
       "0  167129      ESA  2004  ASSISTENCIA MEDICA E ODONTOLOGICA AOS  2023   \n",
       "1  160129      ESA  21A0                APRESTAMENTO DAS FORCAS  2023   \n",
       "\n",
       "           CREDOR                                     NOME_CREDOR       DATA  \\\n",
       "0  17845504000296  UNIMED VARGINHA COOPERATIVA DE TRABALHO MEDICO 2023-11-01   \n",
       "1  38073038000167                         WR NUTRICAO ANIMAL LTDA 2023-09-01   \n",
       "\n",
       "   DIAS   ICFEX NOME_ICFEX      ND  \\\n",
       "0    15  160533  4º CGCFEX  339039   \n",
       "1    76  160533  4º CGCFEX  339030   \n",
       "\n",
       "                                          NOME_ND      NDSI  \\\n",
       "0  OUTROS SERVICOS DE TERCEIROS - PESSOA JURIDICA  33903950   \n",
       "1                             MATERIAL DE CONSUMO  33903006   \n",
       "\n",
       "                                       NOME_NDSI            NE           PI  \\\n",
       "0  SERV.MEDICO-HOSPITAL.,ODONTOL.E LABORATORIAIS  2023NE001745  D8SAFUSOCSA   \n",
       "1                         ALIMENTOS PARA ANIMAIS  2023NE001097  E6RVPLJALIE   \n",
       "\n",
       "                      NOME_PI PROGRAMA   PTRES TIPO     TIPO_NE  \\\n",
       "0  ORGANIZACAO CIVIL DE SAUDE     0032  215845  ANO  ESTIMATIVO   \n",
       "1   ALIMENTACAO PARA EQUINOS.     6012  193910  ANO      GLOBAL   \n",
       "\n",
       "                                               LOCAL UF_CREDOR UF_UG     UGR  \\\n",
       "0                       CLINICA/CONSULTÓRIO/HOSPITAL        MG    MG  167505   \n",
       "1  ESCOLA DE SARGENTOS DAS ARMAS  - AVENIDA SETE ...        ES    MG  160504   \n",
       "\n",
       "      NOME_UGR RADPI4 MEIPI3 SUFPI4  A_LIQUIDAR  LIQUIDADO_A_PAGAR  \\\n",
       "0          DGP   D8SA    FUS   OCSA         0.0           26215.31   \n",
       "1  COEX/GESTOR   E6RV    PLJ   ALIE     39408.2           18400.00   \n",
       "\n",
       "   TOTAL_A_PAGAR  PAGO  \n",
       "0       26215.31   0.0  \n",
       "1       57808.20   0.0  "
      ]
     },
     "execution_count": 31,
     "metadata": {},
     "output_type": "execute_result"
    }
   ],
   "source": [
    "df_liqui_a_pagar =df_teste[ df_teste['LIQUIDADO_A_PAGAR'] != 0 ]\n",
    "\n",
    "df_liqui_a_pagar.sort_values(by='LIQUIDADO_A_PAGAR', ascending=False).reset_index(drop=True).head(2)"
   ]
  },
  {
   "cell_type": "code",
   "execution_count": 32,
   "metadata": {},
   "outputs": [
    {
     "data": {
      "text/plain": [
       "'R$ 119.130,13'"
      ]
     },
     "execution_count": 32,
     "metadata": {},
     "output_type": "execute_result"
    }
   ],
   "source": [
    "total_liqui_a_pagar = df_liqui_a_pagar['LIQUIDADO_A_PAGAR'].sum()\n",
    "locale.currency(total_liqui_a_pagar, grouping=True)"
   ]
  },
  {
   "cell_type": "code",
   "execution_count": 33,
   "metadata": {},
   "outputs": [
    {
     "data": {
      "application/vnd.plotly.v1+json": {
       "config": {
        "plotlyServerURL": "https://plot.ly"
       },
       "data": [
        {
         "alignmentgroup": "True",
         "cliponaxis": false,
         "legendgroup": "",
         "marker": {
          "color": [
           59684.93000000001,
           37260.19,
           11880,
           10236.08,
           59.39,
           9.54
          ],
          "coloraxis": "coloraxis",
          "pattern": {
           "shape": ""
          }
         },
         "name": "",
         "offsetgroup": "",
         "orientation": "v",
         "showlegend": false,
         "textposition": "outside",
         "texttemplate": "%{y:.3s}",
         "type": "bar",
         "x": [
          "SERV.MEDICO-HOSPITAL.,ODONTOL.E LABORATORIAIS",
          "ALIMENTOS PARA ANIMAIS",
          "RESSARCIMENTO ASSISTENCIA MEDICA/ODONTOLOGICA",
          "DIARIAS NO PAIS",
          "SERVICOS DE AGUA E ESGOTO",
          "SERVICOS MEDICOS E ODONTOLOGICOS"
         ],
         "xaxis": "x",
         "y": [
          59684.93000000001,
          37260.19,
          11880,
          10236.08,
          59.39,
          9.54
         ],
         "yaxis": "y"
        }
       ],
       "layout": {
        "barmode": "relative",
        "coloraxis": {
         "colorbar": {
          "title": {
           "text": "Liquidado a Pagar"
          }
         },
         "colorscale": [
          [
           0,
           "rgb(255,245,240)"
          ],
          [
           0.125,
           "rgb(254,224,210)"
          ],
          [
           0.25,
           "rgb(252,187,161)"
          ],
          [
           0.375,
           "rgb(252,146,114)"
          ],
          [
           0.5,
           "rgb(251,106,74)"
          ],
          [
           0.625,
           "rgb(239,59,44)"
          ],
          [
           0.75,
           "rgb(203,24,29)"
          ],
          [
           0.875,
           "rgb(165,15,21)"
          ],
          [
           1,
           "rgb(103,0,13)"
          ]
         ]
        },
        "height": 900,
        "hovermode": "x unified",
        "legend": {
         "tracegroupgap": 0
        },
        "template": {
         "data": {
          "bar": [
           {
            "error_x": {
             "color": "#f2f5fa"
            },
            "error_y": {
             "color": "#f2f5fa"
            },
            "marker": {
             "line": {
              "color": "rgb(17,17,17)",
              "width": 0.5
             },
             "pattern": {
              "fillmode": "overlay",
              "size": 10,
              "solidity": 0.2
             }
            },
            "type": "bar"
           }
          ],
          "barpolar": [
           {
            "marker": {
             "line": {
              "color": "rgb(17,17,17)",
              "width": 0.5
             },
             "pattern": {
              "fillmode": "overlay",
              "size": 10,
              "solidity": 0.2
             }
            },
            "type": "barpolar"
           }
          ],
          "carpet": [
           {
            "aaxis": {
             "endlinecolor": "#A2B1C6",
             "gridcolor": "#506784",
             "linecolor": "#506784",
             "minorgridcolor": "#506784",
             "startlinecolor": "#A2B1C6"
            },
            "baxis": {
             "endlinecolor": "#A2B1C6",
             "gridcolor": "#506784",
             "linecolor": "#506784",
             "minorgridcolor": "#506784",
             "startlinecolor": "#A2B1C6"
            },
            "type": "carpet"
           }
          ],
          "choropleth": [
           {
            "colorbar": {
             "outlinewidth": 0,
             "ticks": ""
            },
            "type": "choropleth"
           }
          ],
          "contour": [
           {
            "colorbar": {
             "outlinewidth": 0,
             "ticks": ""
            },
            "colorscale": [
             [
              0,
              "#0d0887"
             ],
             [
              0.1111111111111111,
              "#46039f"
             ],
             [
              0.2222222222222222,
              "#7201a8"
             ],
             [
              0.3333333333333333,
              "#9c179e"
             ],
             [
              0.4444444444444444,
              "#bd3786"
             ],
             [
              0.5555555555555556,
              "#d8576b"
             ],
             [
              0.6666666666666666,
              "#ed7953"
             ],
             [
              0.7777777777777778,
              "#fb9f3a"
             ],
             [
              0.8888888888888888,
              "#fdca26"
             ],
             [
              1,
              "#f0f921"
             ]
            ],
            "type": "contour"
           }
          ],
          "contourcarpet": [
           {
            "colorbar": {
             "outlinewidth": 0,
             "ticks": ""
            },
            "type": "contourcarpet"
           }
          ],
          "heatmap": [
           {
            "colorbar": {
             "outlinewidth": 0,
             "ticks": ""
            },
            "colorscale": [
             [
              0,
              "#0d0887"
             ],
             [
              0.1111111111111111,
              "#46039f"
             ],
             [
              0.2222222222222222,
              "#7201a8"
             ],
             [
              0.3333333333333333,
              "#9c179e"
             ],
             [
              0.4444444444444444,
              "#bd3786"
             ],
             [
              0.5555555555555556,
              "#d8576b"
             ],
             [
              0.6666666666666666,
              "#ed7953"
             ],
             [
              0.7777777777777778,
              "#fb9f3a"
             ],
             [
              0.8888888888888888,
              "#fdca26"
             ],
             [
              1,
              "#f0f921"
             ]
            ],
            "type": "heatmap"
           }
          ],
          "heatmapgl": [
           {
            "colorbar": {
             "outlinewidth": 0,
             "ticks": ""
            },
            "colorscale": [
             [
              0,
              "#0d0887"
             ],
             [
              0.1111111111111111,
              "#46039f"
             ],
             [
              0.2222222222222222,
              "#7201a8"
             ],
             [
              0.3333333333333333,
              "#9c179e"
             ],
             [
              0.4444444444444444,
              "#bd3786"
             ],
             [
              0.5555555555555556,
              "#d8576b"
             ],
             [
              0.6666666666666666,
              "#ed7953"
             ],
             [
              0.7777777777777778,
              "#fb9f3a"
             ],
             [
              0.8888888888888888,
              "#fdca26"
             ],
             [
              1,
              "#f0f921"
             ]
            ],
            "type": "heatmapgl"
           }
          ],
          "histogram": [
           {
            "marker": {
             "pattern": {
              "fillmode": "overlay",
              "size": 10,
              "solidity": 0.2
             }
            },
            "type": "histogram"
           }
          ],
          "histogram2d": [
           {
            "colorbar": {
             "outlinewidth": 0,
             "ticks": ""
            },
            "colorscale": [
             [
              0,
              "#0d0887"
             ],
             [
              0.1111111111111111,
              "#46039f"
             ],
             [
              0.2222222222222222,
              "#7201a8"
             ],
             [
              0.3333333333333333,
              "#9c179e"
             ],
             [
              0.4444444444444444,
              "#bd3786"
             ],
             [
              0.5555555555555556,
              "#d8576b"
             ],
             [
              0.6666666666666666,
              "#ed7953"
             ],
             [
              0.7777777777777778,
              "#fb9f3a"
             ],
             [
              0.8888888888888888,
              "#fdca26"
             ],
             [
              1,
              "#f0f921"
             ]
            ],
            "type": "histogram2d"
           }
          ],
          "histogram2dcontour": [
           {
            "colorbar": {
             "outlinewidth": 0,
             "ticks": ""
            },
            "colorscale": [
             [
              0,
              "#0d0887"
             ],
             [
              0.1111111111111111,
              "#46039f"
             ],
             [
              0.2222222222222222,
              "#7201a8"
             ],
             [
              0.3333333333333333,
              "#9c179e"
             ],
             [
              0.4444444444444444,
              "#bd3786"
             ],
             [
              0.5555555555555556,
              "#d8576b"
             ],
             [
              0.6666666666666666,
              "#ed7953"
             ],
             [
              0.7777777777777778,
              "#fb9f3a"
             ],
             [
              0.8888888888888888,
              "#fdca26"
             ],
             [
              1,
              "#f0f921"
             ]
            ],
            "type": "histogram2dcontour"
           }
          ],
          "mesh3d": [
           {
            "colorbar": {
             "outlinewidth": 0,
             "ticks": ""
            },
            "type": "mesh3d"
           }
          ],
          "parcoords": [
           {
            "line": {
             "colorbar": {
              "outlinewidth": 0,
              "ticks": ""
             }
            },
            "type": "parcoords"
           }
          ],
          "pie": [
           {
            "automargin": true,
            "type": "pie"
           }
          ],
          "scatter": [
           {
            "marker": {
             "line": {
              "color": "#283442"
             }
            },
            "type": "scatter"
           }
          ],
          "scatter3d": [
           {
            "line": {
             "colorbar": {
              "outlinewidth": 0,
              "ticks": ""
             }
            },
            "marker": {
             "colorbar": {
              "outlinewidth": 0,
              "ticks": ""
             }
            },
            "type": "scatter3d"
           }
          ],
          "scattercarpet": [
           {
            "marker": {
             "colorbar": {
              "outlinewidth": 0,
              "ticks": ""
             }
            },
            "type": "scattercarpet"
           }
          ],
          "scattergeo": [
           {
            "marker": {
             "colorbar": {
              "outlinewidth": 0,
              "ticks": ""
             }
            },
            "type": "scattergeo"
           }
          ],
          "scattergl": [
           {
            "marker": {
             "line": {
              "color": "#283442"
             }
            },
            "type": "scattergl"
           }
          ],
          "scattermapbox": [
           {
            "marker": {
             "colorbar": {
              "outlinewidth": 0,
              "ticks": ""
             }
            },
            "type": "scattermapbox"
           }
          ],
          "scatterpolar": [
           {
            "marker": {
             "colorbar": {
              "outlinewidth": 0,
              "ticks": ""
             }
            },
            "type": "scatterpolar"
           }
          ],
          "scatterpolargl": [
           {
            "marker": {
             "colorbar": {
              "outlinewidth": 0,
              "ticks": ""
             }
            },
            "type": "scatterpolargl"
           }
          ],
          "scatterternary": [
           {
            "marker": {
             "colorbar": {
              "outlinewidth": 0,
              "ticks": ""
             }
            },
            "type": "scatterternary"
           }
          ],
          "surface": [
           {
            "colorbar": {
             "outlinewidth": 0,
             "ticks": ""
            },
            "colorscale": [
             [
              0,
              "#0d0887"
             ],
             [
              0.1111111111111111,
              "#46039f"
             ],
             [
              0.2222222222222222,
              "#7201a8"
             ],
             [
              0.3333333333333333,
              "#9c179e"
             ],
             [
              0.4444444444444444,
              "#bd3786"
             ],
             [
              0.5555555555555556,
              "#d8576b"
             ],
             [
              0.6666666666666666,
              "#ed7953"
             ],
             [
              0.7777777777777778,
              "#fb9f3a"
             ],
             [
              0.8888888888888888,
              "#fdca26"
             ],
             [
              1,
              "#f0f921"
             ]
            ],
            "type": "surface"
           }
          ],
          "table": [
           {
            "cells": {
             "fill": {
              "color": "#506784"
             },
             "line": {
              "color": "rgb(17,17,17)"
             }
            },
            "header": {
             "fill": {
              "color": "#2a3f5f"
             },
             "line": {
              "color": "rgb(17,17,17)"
             }
            },
            "type": "table"
           }
          ]
         },
         "layout": {
          "annotationdefaults": {
           "arrowcolor": "#f2f5fa",
           "arrowhead": 0,
           "arrowwidth": 1
          },
          "autotypenumbers": "strict",
          "coloraxis": {
           "colorbar": {
            "outlinewidth": 0,
            "ticks": ""
           }
          },
          "colorscale": {
           "diverging": [
            [
             0,
             "#8e0152"
            ],
            [
             0.1,
             "#c51b7d"
            ],
            [
             0.2,
             "#de77ae"
            ],
            [
             0.3,
             "#f1b6da"
            ],
            [
             0.4,
             "#fde0ef"
            ],
            [
             0.5,
             "#f7f7f7"
            ],
            [
             0.6,
             "#e6f5d0"
            ],
            [
             0.7,
             "#b8e186"
            ],
            [
             0.8,
             "#7fbc41"
            ],
            [
             0.9,
             "#4d9221"
            ],
            [
             1,
             "#276419"
            ]
           ],
           "sequential": [
            [
             0,
             "#0d0887"
            ],
            [
             0.1111111111111111,
             "#46039f"
            ],
            [
             0.2222222222222222,
             "#7201a8"
            ],
            [
             0.3333333333333333,
             "#9c179e"
            ],
            [
             0.4444444444444444,
             "#bd3786"
            ],
            [
             0.5555555555555556,
             "#d8576b"
            ],
            [
             0.6666666666666666,
             "#ed7953"
            ],
            [
             0.7777777777777778,
             "#fb9f3a"
            ],
            [
             0.8888888888888888,
             "#fdca26"
            ],
            [
             1,
             "#f0f921"
            ]
           ],
           "sequentialminus": [
            [
             0,
             "#0d0887"
            ],
            [
             0.1111111111111111,
             "#46039f"
            ],
            [
             0.2222222222222222,
             "#7201a8"
            ],
            [
             0.3333333333333333,
             "#9c179e"
            ],
            [
             0.4444444444444444,
             "#bd3786"
            ],
            [
             0.5555555555555556,
             "#d8576b"
            ],
            [
             0.6666666666666666,
             "#ed7953"
            ],
            [
             0.7777777777777778,
             "#fb9f3a"
            ],
            [
             0.8888888888888888,
             "#fdca26"
            ],
            [
             1,
             "#f0f921"
            ]
           ]
          },
          "colorway": [
           "#636efa",
           "#EF553B",
           "#00cc96",
           "#ab63fa",
           "#FFA15A",
           "#19d3f3",
           "#FF6692",
           "#B6E880",
           "#FF97FF",
           "#FECB52"
          ],
          "font": {
           "color": "#f2f5fa"
          },
          "geo": {
           "bgcolor": "rgb(17,17,17)",
           "lakecolor": "rgb(17,17,17)",
           "landcolor": "rgb(17,17,17)",
           "showlakes": true,
           "showland": true,
           "subunitcolor": "#506784"
          },
          "hoverlabel": {
           "align": "left"
          },
          "hovermode": "closest",
          "mapbox": {
           "style": "dark"
          },
          "paper_bgcolor": "rgb(17,17,17)",
          "plot_bgcolor": "rgb(17,17,17)",
          "polar": {
           "angularaxis": {
            "gridcolor": "#506784",
            "linecolor": "#506784",
            "ticks": ""
           },
           "bgcolor": "rgb(17,17,17)",
           "radialaxis": {
            "gridcolor": "#506784",
            "linecolor": "#506784",
            "ticks": ""
           }
          },
          "scene": {
           "xaxis": {
            "backgroundcolor": "rgb(17,17,17)",
            "gridcolor": "#506784",
            "gridwidth": 2,
            "linecolor": "#506784",
            "showbackground": true,
            "ticks": "",
            "zerolinecolor": "#C8D4E3"
           },
           "yaxis": {
            "backgroundcolor": "rgb(17,17,17)",
            "gridcolor": "#506784",
            "gridwidth": 2,
            "linecolor": "#506784",
            "showbackground": true,
            "ticks": "",
            "zerolinecolor": "#C8D4E3"
           },
           "zaxis": {
            "backgroundcolor": "rgb(17,17,17)",
            "gridcolor": "#506784",
            "gridwidth": 2,
            "linecolor": "#506784",
            "showbackground": true,
            "ticks": "",
            "zerolinecolor": "#C8D4E3"
           }
          },
          "shapedefaults": {
           "line": {
            "color": "#f2f5fa"
           }
          },
          "sliderdefaults": {
           "bgcolor": "#C8D4E3",
           "bordercolor": "rgb(17,17,17)",
           "borderwidth": 1,
           "tickwidth": 0
          },
          "ternary": {
           "aaxis": {
            "gridcolor": "#506784",
            "linecolor": "#506784",
            "ticks": ""
           },
           "baxis": {
            "gridcolor": "#506784",
            "linecolor": "#506784",
            "ticks": ""
           },
           "bgcolor": "rgb(17,17,17)",
           "caxis": {
            "gridcolor": "#506784",
            "linecolor": "#506784",
            "ticks": ""
           }
          },
          "title": {
           "x": 0.05
          },
          "updatemenudefaults": {
           "bgcolor": "#506784",
           "borderwidth": 0
          },
          "xaxis": {
           "automargin": true,
           "gridcolor": "#283442",
           "linecolor": "#506784",
           "ticks": "",
           "title": {
            "standoff": 15
           },
           "zerolinecolor": "#283442",
           "zerolinewidth": 2
          },
          "yaxis": {
           "automargin": true,
           "gridcolor": "#283442",
           "linecolor": "#506784",
           "ticks": "",
           "title": {
            "standoff": 15
           },
           "zerolinecolor": "#283442",
           "zerolinewidth": 2
          }
         }
        },
        "title": {
         "text": "Saldos liquidados a pagar por NDSI"
        },
        "xaxis": {
         "anchor": "y",
         "domain": [
          0,
          1
         ],
         "title": {
          "text": "Descrição do Subitem"
         }
        },
        "yaxis": {
         "anchor": "x",
         "domain": [
          0,
          1
         ],
         "title": {
          "text": "Liquidado a Pagar"
         },
         "type": "log"
        }
       }
      }
     },
     "metadata": {},
     "output_type": "display_data"
    }
   ],
   "source": [
    "df_aux = df_liqui_a_pagar.groupby(by='NOME_NDSI')['LIQUIDADO_A_PAGAR'].sum().sort_values( ascending=False).reset_index()\n",
    "\n",
    "fig = px.bar(df_aux,\n",
    "             x = 'NOME_NDSI',\n",
    "             y = 'LIQUIDADO_A_PAGAR',\n",
    "             log_y=True,\n",
    "             height=900,\n",
    "             title='Saldos liquidados a pagar por NDSI',\n",
    "             labels={'NOME_NDSI':'Descrição do Subitem', 'LIQUIDADO_A_PAGAR':'Liquidado a Pagar'},\n",
    "             text_auto='.3s',\n",
    "             color='LIQUIDADO_A_PAGAR',\n",
    "             color_continuous_scale = 'reds',\n",
    "             template='plotly_dark')\n",
    "fig.update_traces(textposition = 'outside', cliponaxis = False, hovertemplate=None)\n",
    "fig.update_layout(hovermode=\"x unified\")\n",
    "\n",
    "fig.show()"
   ]
  },
  {
   "cell_type": "code",
   "execution_count": 34,
   "metadata": {},
   "outputs": [
    {
     "data": {
      "text/html": [
       "<div>\n",
       "<style scoped>\n",
       "    .dataframe tbody tr th:only-of-type {\n",
       "        vertical-align: middle;\n",
       "    }\n",
       "\n",
       "    .dataframe tbody tr th {\n",
       "        vertical-align: top;\n",
       "    }\n",
       "\n",
       "    .dataframe thead th {\n",
       "        text-align: right;\n",
       "    }\n",
       "</style>\n",
       "<table border=\"1\" class=\"dataframe\">\n",
       "  <thead>\n",
       "    <tr style=\"text-align: right;\">\n",
       "      <th></th>\n",
       "      <th>UG</th>\n",
       "      <th>SIGLA UG</th>\n",
       "      <th>ACAO</th>\n",
       "      <th>NOME_ACAO</th>\n",
       "      <th>ANO</th>\n",
       "      <th>CREDOR</th>\n",
       "      <th>NOME_CREDOR</th>\n",
       "      <th>DATA</th>\n",
       "      <th>DIAS</th>\n",
       "      <th>ICFEX</th>\n",
       "      <th>NOME_ICFEX</th>\n",
       "      <th>ND</th>\n",
       "      <th>NOME_ND</th>\n",
       "      <th>NDSI</th>\n",
       "      <th>NOME_NDSI</th>\n",
       "      <th>NE</th>\n",
       "      <th>PI</th>\n",
       "      <th>NOME_PI</th>\n",
       "      <th>PROGRAMA</th>\n",
       "      <th>PTRES</th>\n",
       "      <th>TIPO</th>\n",
       "      <th>TIPO_NE</th>\n",
       "      <th>LOCAL</th>\n",
       "      <th>UF_CREDOR</th>\n",
       "      <th>UF_UG</th>\n",
       "      <th>UGR</th>\n",
       "      <th>NOME_UGR</th>\n",
       "      <th>RADPI4</th>\n",
       "      <th>MEIPI3</th>\n",
       "      <th>SUFPI4</th>\n",
       "      <th>A_LIQUIDAR</th>\n",
       "      <th>LIQUIDADO_A_PAGAR</th>\n",
       "      <th>TOTAL_A_PAGAR</th>\n",
       "      <th>PAGO</th>\n",
       "    </tr>\n",
       "  </thead>\n",
       "  <tbody>\n",
       "    <tr>\n",
       "      <th>362</th>\n",
       "      <td>160129</td>\n",
       "      <td>ESA</td>\n",
       "      <td>212B</td>\n",
       "      <td>BENEFICIOS OBRIGATORIOS AOS SERVIDORE</td>\n",
       "      <td>2023</td>\n",
       "      <td>31669124000198</td>\n",
       "      <td>LS REFRIGERACAO LTDA</td>\n",
       "      <td>2023-04-18</td>\n",
       "      <td>212</td>\n",
       "      <td>160533</td>\n",
       "      <td>4º CGCFEX</td>\n",
       "      <td>449052</td>\n",
       "      <td>EQUIPAMENTOS E MATERIAL PERMANENTE</td>\n",
       "      <td>44905228</td>\n",
       "      <td>MAQUINAS E EQUIPAMENTOS DE NATUREZA INDUSTRIAL</td>\n",
       "      <td>2023NE000392</td>\n",
       "      <td>E6SUPLJA5PA</td>\n",
       "      <td>A5PA - PASA</td>\n",
       "      <td>0032</td>\n",
       "      <td>171397</td>\n",
       "      <td>ANO</td>\n",
       "      <td>ORDINARIO</td>\n",
       "      <td>ESCOLA DE SARGENTOS DAS ARMAS, AVENIDA SETE DE...</td>\n",
       "      <td>SC</td>\n",
       "      <td>MG</td>\n",
       "      <td>160504</td>\n",
       "      <td>COEX/GESTOR</td>\n",
       "      <td>E6SU</td>\n",
       "      <td>PLJ</td>\n",
       "      <td>A5PA</td>\n",
       "      <td>0.0</td>\n",
       "      <td>0.0</td>\n",
       "      <td>0.0</td>\n",
       "      <td>8837.42</td>\n",
       "    </tr>\n",
       "    <tr>\n",
       "      <th>3118</th>\n",
       "      <td>167129</td>\n",
       "      <td>ESA</td>\n",
       "      <td>2004</td>\n",
       "      <td>ASSISTENCIA MEDICA E ODONTOLOGICA AOS</td>\n",
       "      <td>2023</td>\n",
       "      <td>46940235787</td>\n",
       "      <td>DAVILAN DE SOUZA PORCARO</td>\n",
       "      <td>2023-02-27</td>\n",
       "      <td>262</td>\n",
       "      <td>160533</td>\n",
       "      <td>4º CGCFEX</td>\n",
       "      <td>339036</td>\n",
       "      <td>OUTROS SERVICOS DE TERCEIROS - PESSOA FISICA</td>\n",
       "      <td>33903630</td>\n",
       "      <td>SERVICOS MEDICOS E ODONTOLOGICOS</td>\n",
       "      <td>2023NE000392</td>\n",
       "      <td>D8SAFUSPRSA</td>\n",
       "      <td>PROFISSIONAL DE SAUDE AUTONOMO</td>\n",
       "      <td>0032</td>\n",
       "      <td>215845</td>\n",
       "      <td>ANO</td>\n",
       "      <td>ESTIMATIVO</td>\n",
       "      <td>CLINICA/CONSULTÓRIO/HOSPITAL</td>\n",
       "      <td>MG</td>\n",
       "      <td>MG</td>\n",
       "      <td>167505</td>\n",
       "      <td>DGP</td>\n",
       "      <td>D8SA</td>\n",
       "      <td>FUS</td>\n",
       "      <td>PRSA</td>\n",
       "      <td>0.0</td>\n",
       "      <td>0.0</td>\n",
       "      <td>0.0</td>\n",
       "      <td>648.27</td>\n",
       "    </tr>\n",
       "  </tbody>\n",
       "</table>\n",
       "</div>"
      ],
      "text/plain": [
       "          UG SIGLA UG  ACAO                              NOME_ACAO   ANO  \\\n",
       "362   160129      ESA  212B  BENEFICIOS OBRIGATORIOS AOS SERVIDORE  2023   \n",
       "3118  167129      ESA  2004  ASSISTENCIA MEDICA E ODONTOLOGICA AOS  2023   \n",
       "\n",
       "              CREDOR               NOME_CREDOR       DATA  DIAS   ICFEX  \\\n",
       "362   31669124000198      LS REFRIGERACAO LTDA 2023-04-18   212  160533   \n",
       "3118     46940235787  DAVILAN DE SOUZA PORCARO 2023-02-27   262  160533   \n",
       "\n",
       "     NOME_ICFEX      ND                                       NOME_ND  \\\n",
       "362   4º CGCFEX  449052            EQUIPAMENTOS E MATERIAL PERMANENTE   \n",
       "3118  4º CGCFEX  339036  OUTROS SERVICOS DE TERCEIROS - PESSOA FISICA   \n",
       "\n",
       "          NDSI                                       NOME_NDSI            NE  \\\n",
       "362   44905228  MAQUINAS E EQUIPAMENTOS DE NATUREZA INDUSTRIAL  2023NE000392   \n",
       "3118  33903630                SERVICOS MEDICOS E ODONTOLOGICOS  2023NE000392   \n",
       "\n",
       "               PI                         NOME_PI PROGRAMA   PTRES TIPO  \\\n",
       "362   E6SUPLJA5PA                     A5PA - PASA     0032  171397  ANO   \n",
       "3118  D8SAFUSPRSA  PROFISSIONAL DE SAUDE AUTONOMO     0032  215845  ANO   \n",
       "\n",
       "         TIPO_NE                                              LOCAL UF_CREDOR  \\\n",
       "362    ORDINARIO  ESCOLA DE SARGENTOS DAS ARMAS, AVENIDA SETE DE...        SC   \n",
       "3118  ESTIMATIVO                       CLINICA/CONSULTÓRIO/HOSPITAL        MG   \n",
       "\n",
       "     UF_UG     UGR     NOME_UGR RADPI4 MEIPI3 SUFPI4  A_LIQUIDAR  \\\n",
       "362     MG  160504  COEX/GESTOR   E6SU    PLJ   A5PA         0.0   \n",
       "3118    MG  167505          DGP   D8SA    FUS   PRSA         0.0   \n",
       "\n",
       "      LIQUIDADO_A_PAGAR  TOTAL_A_PAGAR     PAGO  \n",
       "362                 0.0            0.0  8837.42  \n",
       "3118                0.0            0.0   648.27  "
      ]
     },
     "execution_count": 34,
     "metadata": {},
     "output_type": "execute_result"
    }
   ],
   "source": [
    "df_teste[df_teste['NE'] == '2023NE000392']"
   ]
  },
  {
   "cell_type": "code",
   "execution_count": 37,
   "metadata": {},
   "outputs": [],
   "source": [
    "df_restos = df_teste[(df_teste['ANO'] == '2022') & (df_teste['A_LIQUIDAR'] !=  0)].sort_values(by='A_LIQUIDAR', ascending=False)\n",
    "\n",
    "# f_restos.to_excel('Restos_a_pagar.xlsx')"
   ]
  }
 ],
 "metadata": {
  "kernelspec": {
   "display_name": "base",
   "language": "python",
   "name": "python3"
  },
  "language_info": {
   "codemirror_mode": {
    "name": "ipython",
    "version": 3
   },
   "file_extension": ".py",
   "mimetype": "text/x-python",
   "name": "python",
   "nbconvert_exporter": "python",
   "pygments_lexer": "ipython3",
   "version": "3.11.5"
  },
  "orig_nbformat": 4
 },
 "nbformat": 4,
 "nbformat_minor": 2
}
