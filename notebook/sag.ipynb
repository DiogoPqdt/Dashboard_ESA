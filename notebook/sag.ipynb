{
 "cells": [
  {
   "cell_type": "markdown",
   "metadata": {},
   "source": [
    "# Criar VENV\n",
    "\n",
    "https://oandersonbm.medium.com/usando-python-no-vs-code-com-ambiente-virtual-venv-ecef7959b652"
   ]
  },
  {
   "cell_type": "code",
   "execution_count": 1,
   "metadata": {},
   "outputs": [],
   "source": [
    "import pandas as pd\n",
    "import plotly.express as px\n",
    "import plotly.graph_objects as go\n",
    "from datetime import datetime\n",
    "import locale\n",
    "\n",
    "# Definindo a configuração local para o Brasil (pt_BR)\n",
    "locale.setlocale(locale.LC_ALL, 'pt_BR')\n",
    "\n",
    "# Personalizando para ver todas as colunas e linhas do DataFrame\n",
    "pd.set_option('display.max_columns', None)\n",
    "\n",
    "pd.set_option('display.max_rows', None) "
   ]
  },
  {
   "cell_type": "markdown",
   "metadata": {},
   "source": [
    "# Base de dados"
   ]
  },
  {
   "cell_type": "code",
   "execution_count": 2,
   "metadata": {},
   "outputs": [],
   "source": [
    "# Realizando a junção dos 3 arquivos .CSV num único DataFrame\n",
    "\n",
    "# Caminhos para os arquivos .CSV\n",
    "caminho_1 = r\"C:\\Users\\User\\OneDrive\\Trabalho\\ESA 2024\\Dashboard_ESA\\base_dados\\Cel Manfrini.csv\"\n",
    "\n",
    "caminho_2 = r\"C:\\Users\\User\\OneDrive\\Trabalho\\ESA 2024\\Dashboard_ESA\\base_dados\\Cel Manfrini(1).csv\"\n",
    "#\n",
    "caminho_3 = r\"C:\\Users\\User\\OneDrive\\Trabalho\\ESA 2024\\Dashboard_ESA\\base_dados\\Cel Manfrini(2).csv\"\n",
    "#\n",
    "caminho_4 = r\"C:\\Users\\User\\OneDrive\\Trabalho\\ESA 2024\\Dashboard_ESA\\base_dados\\Cel Manfrini(3).csv\"\n",
    "#\n",
    "#caminho_5 = r\"D:\\OneDrive\\Trabalho\\ESA 2023\\Dashboard_ESA\\base_dados\\Cel Manfrini(4).csv\"\n",
    "#\n",
    "#caminho_6 = r\"D:\\OneDrive\\Trabalho\\ESA 2023\\Dashboard_ESA\\base_dados\\Cel Manfrini(5).csv\"\n",
    "\n",
    "\n",
    "\n",
    "# Leitura dos arquivos .CSV em DataFrames individuais\n",
    "df1 = pd.read_csv(caminho_1)\n",
    "df2 = pd.read_csv(caminho_2)\n",
    "df3 = pd.read_csv(caminho_3)\n",
    "df4 = pd.read_csv(caminho_4)\n",
    "#df5 = pd.read_csv(caminho_5)\n",
    "#df6 = pd.read_csv(caminho_6)\n",
    "\n",
    "# Concatenação dos DataFrames em um único DataFrame\n",
    "df = pd.concat([df1, df2, df3, df4], ignore_index=True)\n",
    "\n",
    "# Excluindo linhas que contenham a string \"Tela\" em qualquer coluna\n",
    "df = df[~df.apply(lambda row: row.astype(str).str.contains('Tela')).any(axis=1)]\n",
    "\n",
    "# Inserindo _ nos titulos das colunas\n",
    "df.columns = df.columns.str.replace(' ', '_')\n",
    "\n",
    "# Transformando o tipo de dado das colunas de valores monetários\n",
    "df['A_LIQUIDAR'] = df['A_LIQUIDAR'].apply(lambda x: float(x.replace('.', '').replace(',', '.')))\n",
    "df['LIQUIDADO_A_PAGAR'] = df['LIQUIDADO_A_PAGAR'].apply(lambda x: float(x.replace('.', '').replace(',', '.')))\n",
    "df['TOTAL_A_PAGAR'] = df['TOTAL_A_PAGAR'].apply(lambda x: float(x.replace('.', '').replace(',', '.')))\n",
    "df['PAGO'] = df['PAGO'].apply(lambda x: float(x.replace('.', '').replace(',', '.')))\n",
    "\n",
    "# Convertendo a coluna DATA para datetime\n",
    "df['DATA'] = pd.to_datetime(df['DATA'], format='%d/%m/%y')\n",
    "\n",
    "# Convertendo a coluna DIAS em número inteiro\n",
    "df['DIAS'] = df['DIAS'].astype(int)"
   ]
  },
  {
   "cell_type": "markdown",
   "metadata": {},
   "source": [
    "# Trabalhando com um DATAFRAME voltado para controle dos SALDOS"
   ]
  },
  {
   "cell_type": "code",
   "execution_count": 3,
   "metadata": {},
   "outputs": [],
   "source": [
    "df_saldos = df[['ANO', 'NOME_CREDOR', 'DATA', 'DIAS', 'ND','NDSI', 'NOME_NDSI', 'NE', 'PI', 'NOME_PI','TIPO', 'NOME_UGR', 'A_LIQUIDAR', 'LIQUIDADO_A_PAGAR', 'TOTAL_A_PAGAR', 'PAGO']]"
   ]
  },
  {
   "cell_type": "code",
   "execution_count": 4,
   "metadata": {},
   "outputs": [
    {
     "name": "stdout",
     "output_type": "stream",
     "text": [
      "O total pago pela ESA até o momento foi: R$ 28.126.518,97\n",
      "O total de saldo a liquidar pela ESA até o momento foi: R$ 6.187.072,67\n",
      "O total de saldo liquidado a pagar pela ESA até o momento foi: R$ 2.617.153,09\n",
      "O total de saldo a pagar pela ESA até o momento foi: R$ 8.804.225,76\n"
     ]
    }
   ],
   "source": [
    "# Saldos Totais\n",
    "total_pago = df['PAGO'].sum().round(2)\n",
    "total_a_liquidar = df['A_LIQUIDAR'].sum().round(2)\n",
    "total_liquidado_a_pagar = df['LIQUIDADO_A_PAGAR'].sum().round(2)\n",
    "total_a_pagar = df['TOTAL_A_PAGAR'].sum().round(2)\n",
    "\n",
    "\n",
    "print(f'O total pago pela ESA até o momento foi: {locale.currency(total_pago, grouping=True)}')\n",
    "print(f'O total de saldo a liquidar pela ESA até o momento foi: {locale.currency(total_a_liquidar, grouping=True)}')\n",
    "print(f'O total de saldo liquidado a pagar pela ESA até o momento foi: {locale.currency(total_liquidado_a_pagar, grouping=True)}')\n",
    "print(f'O total de saldo a pagar pela ESA até o momento foi: {locale.currency(total_a_pagar, grouping=True)}')"
   ]
  },
  {
   "cell_type": "code",
   "execution_count": 5,
   "metadata": {},
   "outputs": [
    {
     "data": {
      "application/vnd.plotly.v1+json": {
       "config": {
        "plotlyServerURL": "https://plot.ly"
       },
       "data": [
        {
         "alignmentgroup": "True",
         "cliponaxis": false,
         "legendgroup": "",
         "marker": {
          "color": [
           2013096.2899999998,
           1693273.77,
           1139351.8,
           343280.12,
           296752.89999999997,
           294990.91000000003,
           259740.72,
           144030.38999999998,
           1959,
           497.32,
           99.44999999999999
          ],
          "coloraxis": "coloraxis",
          "pattern": {
           "shape": ""
          }
         },
         "name": "",
         "offsetgroup": "",
         "orientation": "v",
         "showlegend": false,
         "textposition": "outside",
         "texttemplate": "%{y:.3s}",
         "type": "bar",
         "x": [
          "339039",
          "339033",
          "339030",
          "339015",
          "339093",
          "339037",
          "449052",
          "339040",
          "339047",
          "339036",
          "339147"
         ],
         "xaxis": "x",
         "y": [
          2013096.2899999998,
          1693273.77,
          1139351.8,
          343280.12,
          296752.89999999997,
          294990.91000000003,
          259740.72,
          144030.38999999998,
          1959,
          497.32,
          99.44999999999999
         ],
         "yaxis": "y"
        }
       ],
       "layout": {
        "barmode": "relative",
        "coloraxis": {
         "colorbar": {
          "title": {
           "text": "Saldo a liquidar"
          }
         },
         "colorscale": [
          [
           0,
           "rgb(255,245,240)"
          ],
          [
           0.125,
           "rgb(254,224,210)"
          ],
          [
           0.25,
           "rgb(252,187,161)"
          ],
          [
           0.375,
           "rgb(252,146,114)"
          ],
          [
           0.5,
           "rgb(251,106,74)"
          ],
          [
           0.625,
           "rgb(239,59,44)"
          ],
          [
           0.75,
           "rgb(203,24,29)"
          ],
          [
           0.875,
           "rgb(165,15,21)"
          ],
          [
           1,
           "rgb(103,0,13)"
          ]
         ]
        },
        "height": 500,
        "hovermode": "x unified",
        "legend": {
         "tracegroupgap": 0
        },
        "template": {
         "data": {
          "bar": [
           {
            "error_x": {
             "color": "#2a3f5f"
            },
            "error_y": {
             "color": "#2a3f5f"
            },
            "marker": {
             "line": {
              "color": "white",
              "width": 0.5
             },
             "pattern": {
              "fillmode": "overlay",
              "size": 10,
              "solidity": 0.2
             }
            },
            "type": "bar"
           }
          ],
          "barpolar": [
           {
            "marker": {
             "line": {
              "color": "white",
              "width": 0.5
             },
             "pattern": {
              "fillmode": "overlay",
              "size": 10,
              "solidity": 0.2
             }
            },
            "type": "barpolar"
           }
          ],
          "carpet": [
           {
            "aaxis": {
             "endlinecolor": "#2a3f5f",
             "gridcolor": "#C8D4E3",
             "linecolor": "#C8D4E3",
             "minorgridcolor": "#C8D4E3",
             "startlinecolor": "#2a3f5f"
            },
            "baxis": {
             "endlinecolor": "#2a3f5f",
             "gridcolor": "#C8D4E3",
             "linecolor": "#C8D4E3",
             "minorgridcolor": "#C8D4E3",
             "startlinecolor": "#2a3f5f"
            },
            "type": "carpet"
           }
          ],
          "choropleth": [
           {
            "colorbar": {
             "outlinewidth": 0,
             "ticks": ""
            },
            "type": "choropleth"
           }
          ],
          "contour": [
           {
            "colorbar": {
             "outlinewidth": 0,
             "ticks": ""
            },
            "colorscale": [
             [
              0,
              "#0d0887"
             ],
             [
              0.1111111111111111,
              "#46039f"
             ],
             [
              0.2222222222222222,
              "#7201a8"
             ],
             [
              0.3333333333333333,
              "#9c179e"
             ],
             [
              0.4444444444444444,
              "#bd3786"
             ],
             [
              0.5555555555555556,
              "#d8576b"
             ],
             [
              0.6666666666666666,
              "#ed7953"
             ],
             [
              0.7777777777777778,
              "#fb9f3a"
             ],
             [
              0.8888888888888888,
              "#fdca26"
             ],
             [
              1,
              "#f0f921"
             ]
            ],
            "type": "contour"
           }
          ],
          "contourcarpet": [
           {
            "colorbar": {
             "outlinewidth": 0,
             "ticks": ""
            },
            "type": "contourcarpet"
           }
          ],
          "heatmap": [
           {
            "colorbar": {
             "outlinewidth": 0,
             "ticks": ""
            },
            "colorscale": [
             [
              0,
              "#0d0887"
             ],
             [
              0.1111111111111111,
              "#46039f"
             ],
             [
              0.2222222222222222,
              "#7201a8"
             ],
             [
              0.3333333333333333,
              "#9c179e"
             ],
             [
              0.4444444444444444,
              "#bd3786"
             ],
             [
              0.5555555555555556,
              "#d8576b"
             ],
             [
              0.6666666666666666,
              "#ed7953"
             ],
             [
              0.7777777777777778,
              "#fb9f3a"
             ],
             [
              0.8888888888888888,
              "#fdca26"
             ],
             [
              1,
              "#f0f921"
             ]
            ],
            "type": "heatmap"
           }
          ],
          "heatmapgl": [
           {
            "colorbar": {
             "outlinewidth": 0,
             "ticks": ""
            },
            "colorscale": [
             [
              0,
              "#0d0887"
             ],
             [
              0.1111111111111111,
              "#46039f"
             ],
             [
              0.2222222222222222,
              "#7201a8"
             ],
             [
              0.3333333333333333,
              "#9c179e"
             ],
             [
              0.4444444444444444,
              "#bd3786"
             ],
             [
              0.5555555555555556,
              "#d8576b"
             ],
             [
              0.6666666666666666,
              "#ed7953"
             ],
             [
              0.7777777777777778,
              "#fb9f3a"
             ],
             [
              0.8888888888888888,
              "#fdca26"
             ],
             [
              1,
              "#f0f921"
             ]
            ],
            "type": "heatmapgl"
           }
          ],
          "histogram": [
           {
            "marker": {
             "pattern": {
              "fillmode": "overlay",
              "size": 10,
              "solidity": 0.2
             }
            },
            "type": "histogram"
           }
          ],
          "histogram2d": [
           {
            "colorbar": {
             "outlinewidth": 0,
             "ticks": ""
            },
            "colorscale": [
             [
              0,
              "#0d0887"
             ],
             [
              0.1111111111111111,
              "#46039f"
             ],
             [
              0.2222222222222222,
              "#7201a8"
             ],
             [
              0.3333333333333333,
              "#9c179e"
             ],
             [
              0.4444444444444444,
              "#bd3786"
             ],
             [
              0.5555555555555556,
              "#d8576b"
             ],
             [
              0.6666666666666666,
              "#ed7953"
             ],
             [
              0.7777777777777778,
              "#fb9f3a"
             ],
             [
              0.8888888888888888,
              "#fdca26"
             ],
             [
              1,
              "#f0f921"
             ]
            ],
            "type": "histogram2d"
           }
          ],
          "histogram2dcontour": [
           {
            "colorbar": {
             "outlinewidth": 0,
             "ticks": ""
            },
            "colorscale": [
             [
              0,
              "#0d0887"
             ],
             [
              0.1111111111111111,
              "#46039f"
             ],
             [
              0.2222222222222222,
              "#7201a8"
             ],
             [
              0.3333333333333333,
              "#9c179e"
             ],
             [
              0.4444444444444444,
              "#bd3786"
             ],
             [
              0.5555555555555556,
              "#d8576b"
             ],
             [
              0.6666666666666666,
              "#ed7953"
             ],
             [
              0.7777777777777778,
              "#fb9f3a"
             ],
             [
              0.8888888888888888,
              "#fdca26"
             ],
             [
              1,
              "#f0f921"
             ]
            ],
            "type": "histogram2dcontour"
           }
          ],
          "mesh3d": [
           {
            "colorbar": {
             "outlinewidth": 0,
             "ticks": ""
            },
            "type": "mesh3d"
           }
          ],
          "parcoords": [
           {
            "line": {
             "colorbar": {
              "outlinewidth": 0,
              "ticks": ""
             }
            },
            "type": "parcoords"
           }
          ],
          "pie": [
           {
            "automargin": true,
            "type": "pie"
           }
          ],
          "scatter": [
           {
            "fillpattern": {
             "fillmode": "overlay",
             "size": 10,
             "solidity": 0.2
            },
            "type": "scatter"
           }
          ],
          "scatter3d": [
           {
            "line": {
             "colorbar": {
              "outlinewidth": 0,
              "ticks": ""
             }
            },
            "marker": {
             "colorbar": {
              "outlinewidth": 0,
              "ticks": ""
             }
            },
            "type": "scatter3d"
           }
          ],
          "scattercarpet": [
           {
            "marker": {
             "colorbar": {
              "outlinewidth": 0,
              "ticks": ""
             }
            },
            "type": "scattercarpet"
           }
          ],
          "scattergeo": [
           {
            "marker": {
             "colorbar": {
              "outlinewidth": 0,
              "ticks": ""
             }
            },
            "type": "scattergeo"
           }
          ],
          "scattergl": [
           {
            "marker": {
             "colorbar": {
              "outlinewidth": 0,
              "ticks": ""
             }
            },
            "type": "scattergl"
           }
          ],
          "scattermapbox": [
           {
            "marker": {
             "colorbar": {
              "outlinewidth": 0,
              "ticks": ""
             }
            },
            "type": "scattermapbox"
           }
          ],
          "scatterpolar": [
           {
            "marker": {
             "colorbar": {
              "outlinewidth": 0,
              "ticks": ""
             }
            },
            "type": "scatterpolar"
           }
          ],
          "scatterpolargl": [
           {
            "marker": {
             "colorbar": {
              "outlinewidth": 0,
              "ticks": ""
             }
            },
            "type": "scatterpolargl"
           }
          ],
          "scatterternary": [
           {
            "marker": {
             "colorbar": {
              "outlinewidth": 0,
              "ticks": ""
             }
            },
            "type": "scatterternary"
           }
          ],
          "surface": [
           {
            "colorbar": {
             "outlinewidth": 0,
             "ticks": ""
            },
            "colorscale": [
             [
              0,
              "#0d0887"
             ],
             [
              0.1111111111111111,
              "#46039f"
             ],
             [
              0.2222222222222222,
              "#7201a8"
             ],
             [
              0.3333333333333333,
              "#9c179e"
             ],
             [
              0.4444444444444444,
              "#bd3786"
             ],
             [
              0.5555555555555556,
              "#d8576b"
             ],
             [
              0.6666666666666666,
              "#ed7953"
             ],
             [
              0.7777777777777778,
              "#fb9f3a"
             ],
             [
              0.8888888888888888,
              "#fdca26"
             ],
             [
              1,
              "#f0f921"
             ]
            ],
            "type": "surface"
           }
          ],
          "table": [
           {
            "cells": {
             "fill": {
              "color": "#EBF0F8"
             },
             "line": {
              "color": "white"
             }
            },
            "header": {
             "fill": {
              "color": "#C8D4E3"
             },
             "line": {
              "color": "white"
             }
            },
            "type": "table"
           }
          ]
         },
         "layout": {
          "annotationdefaults": {
           "arrowcolor": "#2a3f5f",
           "arrowhead": 0,
           "arrowwidth": 1
          },
          "autotypenumbers": "strict",
          "coloraxis": {
           "colorbar": {
            "outlinewidth": 0,
            "ticks": ""
           }
          },
          "colorscale": {
           "diverging": [
            [
             0,
             "#8e0152"
            ],
            [
             0.1,
             "#c51b7d"
            ],
            [
             0.2,
             "#de77ae"
            ],
            [
             0.3,
             "#f1b6da"
            ],
            [
             0.4,
             "#fde0ef"
            ],
            [
             0.5,
             "#f7f7f7"
            ],
            [
             0.6,
             "#e6f5d0"
            ],
            [
             0.7,
             "#b8e186"
            ],
            [
             0.8,
             "#7fbc41"
            ],
            [
             0.9,
             "#4d9221"
            ],
            [
             1,
             "#276419"
            ]
           ],
           "sequential": [
            [
             0,
             "#0d0887"
            ],
            [
             0.1111111111111111,
             "#46039f"
            ],
            [
             0.2222222222222222,
             "#7201a8"
            ],
            [
             0.3333333333333333,
             "#9c179e"
            ],
            [
             0.4444444444444444,
             "#bd3786"
            ],
            [
             0.5555555555555556,
             "#d8576b"
            ],
            [
             0.6666666666666666,
             "#ed7953"
            ],
            [
             0.7777777777777778,
             "#fb9f3a"
            ],
            [
             0.8888888888888888,
             "#fdca26"
            ],
            [
             1,
             "#f0f921"
            ]
           ],
           "sequentialminus": [
            [
             0,
             "#0d0887"
            ],
            [
             0.1111111111111111,
             "#46039f"
            ],
            [
             0.2222222222222222,
             "#7201a8"
            ],
            [
             0.3333333333333333,
             "#9c179e"
            ],
            [
             0.4444444444444444,
             "#bd3786"
            ],
            [
             0.5555555555555556,
             "#d8576b"
            ],
            [
             0.6666666666666666,
             "#ed7953"
            ],
            [
             0.7777777777777778,
             "#fb9f3a"
            ],
            [
             0.8888888888888888,
             "#fdca26"
            ],
            [
             1,
             "#f0f921"
            ]
           ]
          },
          "colorway": [
           "#636efa",
           "#EF553B",
           "#00cc96",
           "#ab63fa",
           "#FFA15A",
           "#19d3f3",
           "#FF6692",
           "#B6E880",
           "#FF97FF",
           "#FECB52"
          ],
          "font": {
           "color": "#2a3f5f"
          },
          "geo": {
           "bgcolor": "white",
           "lakecolor": "white",
           "landcolor": "white",
           "showlakes": true,
           "showland": true,
           "subunitcolor": "#C8D4E3"
          },
          "hoverlabel": {
           "align": "left"
          },
          "hovermode": "closest",
          "mapbox": {
           "style": "light"
          },
          "paper_bgcolor": "white",
          "plot_bgcolor": "white",
          "polar": {
           "angularaxis": {
            "gridcolor": "#EBF0F8",
            "linecolor": "#EBF0F8",
            "ticks": ""
           },
           "bgcolor": "white",
           "radialaxis": {
            "gridcolor": "#EBF0F8",
            "linecolor": "#EBF0F8",
            "ticks": ""
           }
          },
          "scene": {
           "xaxis": {
            "backgroundcolor": "white",
            "gridcolor": "#DFE8F3",
            "gridwidth": 2,
            "linecolor": "#EBF0F8",
            "showbackground": true,
            "ticks": "",
            "zerolinecolor": "#EBF0F8"
           },
           "yaxis": {
            "backgroundcolor": "white",
            "gridcolor": "#DFE8F3",
            "gridwidth": 2,
            "linecolor": "#EBF0F8",
            "showbackground": true,
            "ticks": "",
            "zerolinecolor": "#EBF0F8"
           },
           "zaxis": {
            "backgroundcolor": "white",
            "gridcolor": "#DFE8F3",
            "gridwidth": 2,
            "linecolor": "#EBF0F8",
            "showbackground": true,
            "ticks": "",
            "zerolinecolor": "#EBF0F8"
           }
          },
          "shapedefaults": {
           "line": {
            "color": "#2a3f5f"
           }
          },
          "ternary": {
           "aaxis": {
            "gridcolor": "#DFE8F3",
            "linecolor": "#A2B1C6",
            "ticks": ""
           },
           "baxis": {
            "gridcolor": "#DFE8F3",
            "linecolor": "#A2B1C6",
            "ticks": ""
           },
           "bgcolor": "white",
           "caxis": {
            "gridcolor": "#DFE8F3",
            "linecolor": "#A2B1C6",
            "ticks": ""
           }
          },
          "title": {
           "x": 0.05
          },
          "xaxis": {
           "automargin": true,
           "gridcolor": "#EBF0F8",
           "linecolor": "#EBF0F8",
           "ticks": "",
           "title": {
            "standoff": 15
           },
           "zerolinecolor": "#EBF0F8",
           "zerolinewidth": 2
          },
          "yaxis": {
           "automargin": true,
           "gridcolor": "#EBF0F8",
           "linecolor": "#EBF0F8",
           "ticks": "",
           "title": {
            "standoff": 15
           },
           "zerolinecolor": "#EBF0F8",
           "zerolinewidth": 2
          }
         }
        },
        "title": {
         "text": "Saldo a liquidar por ND"
        },
        "xaxis": {
         "anchor": "y",
         "domain": [
          0,
          1
         ],
         "title": {
          "text": "Natureza da Despesa"
         }
        },
        "yaxis": {
         "anchor": "x",
         "domain": [
          0,
          1
         ],
         "title": {
          "text": "Saldo a liquidar"
         },
         "type": "log"
        }
       }
      }
     },
     "metadata": {},
     "output_type": "display_data"
    }
   ],
   "source": [
    "# Saldo a liquidar por ND\n",
    "cols = ['ND', 'A_LIQUIDAR']\n",
    "\n",
    "df_aux = df.loc[:, cols].groupby('ND').sum().sort_values(by= 'A_LIQUIDAR', ascending=False).reset_index()\n",
    "df_aux = df_aux[df_aux['A_LIQUIDAR'] > 0]\n",
    "fig = px.bar(df_aux, \n",
    "             x='ND', \n",
    "             y='A_LIQUIDAR',\n",
    "             title='Saldo a liquidar por ND',\n",
    "             labels={'ND':'Natureza da Despesa', 'A_LIQUIDAR':'Saldo a liquidar'},\n",
    "             text_auto='.3s',\n",
    "             height=500,\n",
    "             log_y=True,\n",
    "             color='A_LIQUIDAR',\n",
    "             color_continuous_scale = 'reds',\n",
    "             template='plotly_white')\n",
    "fig.update_traces(textposition = 'outside', cliponaxis = False, hovertemplate=None)\n",
    "fig.update_layout(hovermode=\"x unified\")\n",
    "\n",
    "fig.show()"
   ]
  },
  {
   "cell_type": "code",
   "execution_count": 6,
   "metadata": {},
   "outputs": [
    {
     "data": {
      "application/vnd.plotly.v1+json": {
       "config": {
        "plotlyServerURL": "https://plot.ly"
       },
       "data": [
        {
         "alignmentgroup": "True",
         "cliponaxis": false,
         "legendgroup": "",
         "marker": {
          "color": [
           986573.36,
           621478.02,
           567806.48,
           429916,
           406841,
           371326.94999999995,
           294990.91000000003,
           277546.24,
           184924.86,
           178521.68,
           178156.24,
           158355.26,
           150962.61,
           119798.68000000001,
           105177,
           103965.71,
           92084.35999999999,
           90016.35,
           59401.58,
           58671.61,
           55995.3,
           53972.85,
           40232.87,
           35048.75,
           34000,
           31615.34,
           30820,
           30757,
           29741.25,
           29130.17,
           26370.47,
           26069,
           24001,
           21662.82,
           20082.82,
           17746.86,
           17453,
           16226,
           15830.740000000002,
           15709.97,
           15520,
           15187.57,
           14501.390000000001,
           14228.97,
           12014.2,
           10783,
           10494,
           8688,
           8400,
           8226.16,
           7260.85,
           6145.22,
           5675.4,
           4878,
           4795.19,
           4002,
           3054.98,
           2980,
           2568.89,
           2400,
           2334.6,
           2250,
           2193,
           2087.5,
           1959,
           1701,
           1523.2,
           544.17,
           497.32,
           450,
           403.5,
           245,
           99.44999999999999
          ],
          "coloraxis": "coloraxis",
          "pattern": {
           "shape": ""
          }
         },
         "name": "",
         "offsetgroup": "",
         "orientation": "v",
         "showlegend": false,
         "textposition": "outside",
         "texttemplate": "%{y:.3s}",
         "type": "bar",
         "x": [
          "33903309",
          "33903916",
          "33903007",
          "33903304",
          "33903943",
          "33903947",
          "33903702",
          "33903006",
          "33901516",
          "33909302",
          "33903302",
          "33901514",
          "33903983",
          "33904016",
          "33903919",
          "33903974",
          "33909318",
          "33903004",
          "33903917",
          "33903950",
          "33903307",
          "44905238",
          "33903301",
          "33903011",
          "44905241",
          "33903039",
          "44905258",
          "33903017",
          "33903946",
          "33903022",
          "44905240",
          "33903920",
          "33903969",
          "33904012",
          "33903944",
          "33909319",
          "33903914",
          "44905210",
          "44905233",
          "33903024",
          "44905206",
          "33903958",
          "44905234",
          "44905230",
          "33903034",
          "33903050",
          "33903025",
          "44905237",
          "33909308",
          "44905236",
          "44905235",
          "33903096",
          "33903001",
          "44905242",
          "44905228",
          "33903009",
          "33903026",
          "33903028",
          "33904023",
          "33903399",
          "44905239",
          "33903036",
          "33903951",
          "44905212",
          "33904722",
          "33903021",
          "33903044",
          "33903963",
          "33903630",
          "33903027",
          "33903035",
          "33903042",
          "33914718"
         ],
         "xaxis": "x",
         "y": [
          986573.36,
          621478.02,
          567806.48,
          429916,
          406841,
          371326.94999999995,
          294990.91000000003,
          277546.24,
          184924.86,
          178521.68,
          178156.24,
          158355.26,
          150962.61,
          119798.68000000001,
          105177,
          103965.71,
          92084.35999999999,
          90016.35,
          59401.58,
          58671.61,
          55995.3,
          53972.85,
          40232.87,
          35048.75,
          34000,
          31615.34,
          30820,
          30757,
          29741.25,
          29130.17,
          26370.47,
          26069,
          24001,
          21662.82,
          20082.82,
          17746.86,
          17453,
          16226,
          15830.740000000002,
          15709.97,
          15520,
          15187.57,
          14501.390000000001,
          14228.97,
          12014.2,
          10783,
          10494,
          8688,
          8400,
          8226.16,
          7260.85,
          6145.22,
          5675.4,
          4878,
          4795.19,
          4002,
          3054.98,
          2980,
          2568.89,
          2400,
          2334.6,
          2250,
          2193,
          2087.5,
          1959,
          1701,
          1523.2,
          544.17,
          497.32,
          450,
          403.5,
          245,
          99.44999999999999
         ],
         "yaxis": "y"
        }
       ],
       "layout": {
        "barmode": "relative",
        "coloraxis": {
         "colorbar": {
          "title": {
           "text": "Saldo a liquidar"
          }
         },
         "colorscale": [
          [
           0,
           "rgb(255,245,240)"
          ],
          [
           0.125,
           "rgb(254,224,210)"
          ],
          [
           0.25,
           "rgb(252,187,161)"
          ],
          [
           0.375,
           "rgb(252,146,114)"
          ],
          [
           0.5,
           "rgb(251,106,74)"
          ],
          [
           0.625,
           "rgb(239,59,44)"
          ],
          [
           0.75,
           "rgb(203,24,29)"
          ],
          [
           0.875,
           "rgb(165,15,21)"
          ],
          [
           1,
           "rgb(103,0,13)"
          ]
         ]
        },
        "height": 600,
        "hovermode": "x unified",
        "legend": {
         "tracegroupgap": 0
        },
        "template": {
         "data": {
          "bar": [
           {
            "error_x": {
             "color": "#f2f5fa"
            },
            "error_y": {
             "color": "#f2f5fa"
            },
            "marker": {
             "line": {
              "color": "rgb(17,17,17)",
              "width": 0.5
             },
             "pattern": {
              "fillmode": "overlay",
              "size": 10,
              "solidity": 0.2
             }
            },
            "type": "bar"
           }
          ],
          "barpolar": [
           {
            "marker": {
             "line": {
              "color": "rgb(17,17,17)",
              "width": 0.5
             },
             "pattern": {
              "fillmode": "overlay",
              "size": 10,
              "solidity": 0.2
             }
            },
            "type": "barpolar"
           }
          ],
          "carpet": [
           {
            "aaxis": {
             "endlinecolor": "#A2B1C6",
             "gridcolor": "#506784",
             "linecolor": "#506784",
             "minorgridcolor": "#506784",
             "startlinecolor": "#A2B1C6"
            },
            "baxis": {
             "endlinecolor": "#A2B1C6",
             "gridcolor": "#506784",
             "linecolor": "#506784",
             "minorgridcolor": "#506784",
             "startlinecolor": "#A2B1C6"
            },
            "type": "carpet"
           }
          ],
          "choropleth": [
           {
            "colorbar": {
             "outlinewidth": 0,
             "ticks": ""
            },
            "type": "choropleth"
           }
          ],
          "contour": [
           {
            "colorbar": {
             "outlinewidth": 0,
             "ticks": ""
            },
            "colorscale": [
             [
              0,
              "#0d0887"
             ],
             [
              0.1111111111111111,
              "#46039f"
             ],
             [
              0.2222222222222222,
              "#7201a8"
             ],
             [
              0.3333333333333333,
              "#9c179e"
             ],
             [
              0.4444444444444444,
              "#bd3786"
             ],
             [
              0.5555555555555556,
              "#d8576b"
             ],
             [
              0.6666666666666666,
              "#ed7953"
             ],
             [
              0.7777777777777778,
              "#fb9f3a"
             ],
             [
              0.8888888888888888,
              "#fdca26"
             ],
             [
              1,
              "#f0f921"
             ]
            ],
            "type": "contour"
           }
          ],
          "contourcarpet": [
           {
            "colorbar": {
             "outlinewidth": 0,
             "ticks": ""
            },
            "type": "contourcarpet"
           }
          ],
          "heatmap": [
           {
            "colorbar": {
             "outlinewidth": 0,
             "ticks": ""
            },
            "colorscale": [
             [
              0,
              "#0d0887"
             ],
             [
              0.1111111111111111,
              "#46039f"
             ],
             [
              0.2222222222222222,
              "#7201a8"
             ],
             [
              0.3333333333333333,
              "#9c179e"
             ],
             [
              0.4444444444444444,
              "#bd3786"
             ],
             [
              0.5555555555555556,
              "#d8576b"
             ],
             [
              0.6666666666666666,
              "#ed7953"
             ],
             [
              0.7777777777777778,
              "#fb9f3a"
             ],
             [
              0.8888888888888888,
              "#fdca26"
             ],
             [
              1,
              "#f0f921"
             ]
            ],
            "type": "heatmap"
           }
          ],
          "heatmapgl": [
           {
            "colorbar": {
             "outlinewidth": 0,
             "ticks": ""
            },
            "colorscale": [
             [
              0,
              "#0d0887"
             ],
             [
              0.1111111111111111,
              "#46039f"
             ],
             [
              0.2222222222222222,
              "#7201a8"
             ],
             [
              0.3333333333333333,
              "#9c179e"
             ],
             [
              0.4444444444444444,
              "#bd3786"
             ],
             [
              0.5555555555555556,
              "#d8576b"
             ],
             [
              0.6666666666666666,
              "#ed7953"
             ],
             [
              0.7777777777777778,
              "#fb9f3a"
             ],
             [
              0.8888888888888888,
              "#fdca26"
             ],
             [
              1,
              "#f0f921"
             ]
            ],
            "type": "heatmapgl"
           }
          ],
          "histogram": [
           {
            "marker": {
             "pattern": {
              "fillmode": "overlay",
              "size": 10,
              "solidity": 0.2
             }
            },
            "type": "histogram"
           }
          ],
          "histogram2d": [
           {
            "colorbar": {
             "outlinewidth": 0,
             "ticks": ""
            },
            "colorscale": [
             [
              0,
              "#0d0887"
             ],
             [
              0.1111111111111111,
              "#46039f"
             ],
             [
              0.2222222222222222,
              "#7201a8"
             ],
             [
              0.3333333333333333,
              "#9c179e"
             ],
             [
              0.4444444444444444,
              "#bd3786"
             ],
             [
              0.5555555555555556,
              "#d8576b"
             ],
             [
              0.6666666666666666,
              "#ed7953"
             ],
             [
              0.7777777777777778,
              "#fb9f3a"
             ],
             [
              0.8888888888888888,
              "#fdca26"
             ],
             [
              1,
              "#f0f921"
             ]
            ],
            "type": "histogram2d"
           }
          ],
          "histogram2dcontour": [
           {
            "colorbar": {
             "outlinewidth": 0,
             "ticks": ""
            },
            "colorscale": [
             [
              0,
              "#0d0887"
             ],
             [
              0.1111111111111111,
              "#46039f"
             ],
             [
              0.2222222222222222,
              "#7201a8"
             ],
             [
              0.3333333333333333,
              "#9c179e"
             ],
             [
              0.4444444444444444,
              "#bd3786"
             ],
             [
              0.5555555555555556,
              "#d8576b"
             ],
             [
              0.6666666666666666,
              "#ed7953"
             ],
             [
              0.7777777777777778,
              "#fb9f3a"
             ],
             [
              0.8888888888888888,
              "#fdca26"
             ],
             [
              1,
              "#f0f921"
             ]
            ],
            "type": "histogram2dcontour"
           }
          ],
          "mesh3d": [
           {
            "colorbar": {
             "outlinewidth": 0,
             "ticks": ""
            },
            "type": "mesh3d"
           }
          ],
          "parcoords": [
           {
            "line": {
             "colorbar": {
              "outlinewidth": 0,
              "ticks": ""
             }
            },
            "type": "parcoords"
           }
          ],
          "pie": [
           {
            "automargin": true,
            "type": "pie"
           }
          ],
          "scatter": [
           {
            "marker": {
             "line": {
              "color": "#283442"
             }
            },
            "type": "scatter"
           }
          ],
          "scatter3d": [
           {
            "line": {
             "colorbar": {
              "outlinewidth": 0,
              "ticks": ""
             }
            },
            "marker": {
             "colorbar": {
              "outlinewidth": 0,
              "ticks": ""
             }
            },
            "type": "scatter3d"
           }
          ],
          "scattercarpet": [
           {
            "marker": {
             "colorbar": {
              "outlinewidth": 0,
              "ticks": ""
             }
            },
            "type": "scattercarpet"
           }
          ],
          "scattergeo": [
           {
            "marker": {
             "colorbar": {
              "outlinewidth": 0,
              "ticks": ""
             }
            },
            "type": "scattergeo"
           }
          ],
          "scattergl": [
           {
            "marker": {
             "line": {
              "color": "#283442"
             }
            },
            "type": "scattergl"
           }
          ],
          "scattermapbox": [
           {
            "marker": {
             "colorbar": {
              "outlinewidth": 0,
              "ticks": ""
             }
            },
            "type": "scattermapbox"
           }
          ],
          "scatterpolar": [
           {
            "marker": {
             "colorbar": {
              "outlinewidth": 0,
              "ticks": ""
             }
            },
            "type": "scatterpolar"
           }
          ],
          "scatterpolargl": [
           {
            "marker": {
             "colorbar": {
              "outlinewidth": 0,
              "ticks": ""
             }
            },
            "type": "scatterpolargl"
           }
          ],
          "scatterternary": [
           {
            "marker": {
             "colorbar": {
              "outlinewidth": 0,
              "ticks": ""
             }
            },
            "type": "scatterternary"
           }
          ],
          "surface": [
           {
            "colorbar": {
             "outlinewidth": 0,
             "ticks": ""
            },
            "colorscale": [
             [
              0,
              "#0d0887"
             ],
             [
              0.1111111111111111,
              "#46039f"
             ],
             [
              0.2222222222222222,
              "#7201a8"
             ],
             [
              0.3333333333333333,
              "#9c179e"
             ],
             [
              0.4444444444444444,
              "#bd3786"
             ],
             [
              0.5555555555555556,
              "#d8576b"
             ],
             [
              0.6666666666666666,
              "#ed7953"
             ],
             [
              0.7777777777777778,
              "#fb9f3a"
             ],
             [
              0.8888888888888888,
              "#fdca26"
             ],
             [
              1,
              "#f0f921"
             ]
            ],
            "type": "surface"
           }
          ],
          "table": [
           {
            "cells": {
             "fill": {
              "color": "#506784"
             },
             "line": {
              "color": "rgb(17,17,17)"
             }
            },
            "header": {
             "fill": {
              "color": "#2a3f5f"
             },
             "line": {
              "color": "rgb(17,17,17)"
             }
            },
            "type": "table"
           }
          ]
         },
         "layout": {
          "annotationdefaults": {
           "arrowcolor": "#f2f5fa",
           "arrowhead": 0,
           "arrowwidth": 1
          },
          "autotypenumbers": "strict",
          "coloraxis": {
           "colorbar": {
            "outlinewidth": 0,
            "ticks": ""
           }
          },
          "colorscale": {
           "diverging": [
            [
             0,
             "#8e0152"
            ],
            [
             0.1,
             "#c51b7d"
            ],
            [
             0.2,
             "#de77ae"
            ],
            [
             0.3,
             "#f1b6da"
            ],
            [
             0.4,
             "#fde0ef"
            ],
            [
             0.5,
             "#f7f7f7"
            ],
            [
             0.6,
             "#e6f5d0"
            ],
            [
             0.7,
             "#b8e186"
            ],
            [
             0.8,
             "#7fbc41"
            ],
            [
             0.9,
             "#4d9221"
            ],
            [
             1,
             "#276419"
            ]
           ],
           "sequential": [
            [
             0,
             "#0d0887"
            ],
            [
             0.1111111111111111,
             "#46039f"
            ],
            [
             0.2222222222222222,
             "#7201a8"
            ],
            [
             0.3333333333333333,
             "#9c179e"
            ],
            [
             0.4444444444444444,
             "#bd3786"
            ],
            [
             0.5555555555555556,
             "#d8576b"
            ],
            [
             0.6666666666666666,
             "#ed7953"
            ],
            [
             0.7777777777777778,
             "#fb9f3a"
            ],
            [
             0.8888888888888888,
             "#fdca26"
            ],
            [
             1,
             "#f0f921"
            ]
           ],
           "sequentialminus": [
            [
             0,
             "#0d0887"
            ],
            [
             0.1111111111111111,
             "#46039f"
            ],
            [
             0.2222222222222222,
             "#7201a8"
            ],
            [
             0.3333333333333333,
             "#9c179e"
            ],
            [
             0.4444444444444444,
             "#bd3786"
            ],
            [
             0.5555555555555556,
             "#d8576b"
            ],
            [
             0.6666666666666666,
             "#ed7953"
            ],
            [
             0.7777777777777778,
             "#fb9f3a"
            ],
            [
             0.8888888888888888,
             "#fdca26"
            ],
            [
             1,
             "#f0f921"
            ]
           ]
          },
          "colorway": [
           "#636efa",
           "#EF553B",
           "#00cc96",
           "#ab63fa",
           "#FFA15A",
           "#19d3f3",
           "#FF6692",
           "#B6E880",
           "#FF97FF",
           "#FECB52"
          ],
          "font": {
           "color": "#f2f5fa"
          },
          "geo": {
           "bgcolor": "rgb(17,17,17)",
           "lakecolor": "rgb(17,17,17)",
           "landcolor": "rgb(17,17,17)",
           "showlakes": true,
           "showland": true,
           "subunitcolor": "#506784"
          },
          "hoverlabel": {
           "align": "left"
          },
          "hovermode": "closest",
          "mapbox": {
           "style": "dark"
          },
          "paper_bgcolor": "rgb(17,17,17)",
          "plot_bgcolor": "rgb(17,17,17)",
          "polar": {
           "angularaxis": {
            "gridcolor": "#506784",
            "linecolor": "#506784",
            "ticks": ""
           },
           "bgcolor": "rgb(17,17,17)",
           "radialaxis": {
            "gridcolor": "#506784",
            "linecolor": "#506784",
            "ticks": ""
           }
          },
          "scene": {
           "xaxis": {
            "backgroundcolor": "rgb(17,17,17)",
            "gridcolor": "#506784",
            "gridwidth": 2,
            "linecolor": "#506784",
            "showbackground": true,
            "ticks": "",
            "zerolinecolor": "#C8D4E3"
           },
           "yaxis": {
            "backgroundcolor": "rgb(17,17,17)",
            "gridcolor": "#506784",
            "gridwidth": 2,
            "linecolor": "#506784",
            "showbackground": true,
            "ticks": "",
            "zerolinecolor": "#C8D4E3"
           },
           "zaxis": {
            "backgroundcolor": "rgb(17,17,17)",
            "gridcolor": "#506784",
            "gridwidth": 2,
            "linecolor": "#506784",
            "showbackground": true,
            "ticks": "",
            "zerolinecolor": "#C8D4E3"
           }
          },
          "shapedefaults": {
           "line": {
            "color": "#f2f5fa"
           }
          },
          "sliderdefaults": {
           "bgcolor": "#C8D4E3",
           "bordercolor": "rgb(17,17,17)",
           "borderwidth": 1,
           "tickwidth": 0
          },
          "ternary": {
           "aaxis": {
            "gridcolor": "#506784",
            "linecolor": "#506784",
            "ticks": ""
           },
           "baxis": {
            "gridcolor": "#506784",
            "linecolor": "#506784",
            "ticks": ""
           },
           "bgcolor": "rgb(17,17,17)",
           "caxis": {
            "gridcolor": "#506784",
            "linecolor": "#506784",
            "ticks": ""
           }
          },
          "title": {
           "x": 0.05
          },
          "updatemenudefaults": {
           "bgcolor": "#506784",
           "borderwidth": 0
          },
          "xaxis": {
           "automargin": true,
           "gridcolor": "#283442",
           "linecolor": "#506784",
           "ticks": "",
           "title": {
            "standoff": 15
           },
           "zerolinecolor": "#283442",
           "zerolinewidth": 2
          },
          "yaxis": {
           "automargin": true,
           "gridcolor": "#283442",
           "linecolor": "#506784",
           "ticks": "",
           "title": {
            "standoff": 15
           },
           "zerolinecolor": "#283442",
           "zerolinewidth": 2
          }
         }
        },
        "title": {
         "text": "Saldo a liquidar por NDSI"
        },
        "xaxis": {
         "anchor": "y",
         "domain": [
          0,
          1
         ],
         "title": {
          "text": "Subitem da despesa"
         }
        },
        "yaxis": {
         "anchor": "x",
         "domain": [
          0,
          1
         ],
         "title": {
          "text": "Saldo a liquidar"
         },
         "type": "log"
        }
       }
      }
     },
     "metadata": {},
     "output_type": "display_data"
    }
   ],
   "source": [
    "# Saldo a liquidar por Subitem\n",
    "cols = ['NDSI', 'A_LIQUIDAR']\n",
    "\n",
    "df_aux = df.loc[:, cols].groupby('NDSI').sum().sort_values(by= 'A_LIQUIDAR', ascending=False).reset_index()\n",
    "df_aux = df_aux[df_aux['A_LIQUIDAR'] > 0]\n",
    "fig = px.bar(df_aux, \n",
    "             x='NDSI', \n",
    "             y='A_LIQUIDAR',\n",
    "             title='Saldo a liquidar por NDSI',\n",
    "             labels={'NDSI':'Subitem da despesa', 'A_LIQUIDAR':'Saldo a liquidar'},\n",
    "             text_auto='.3s',\n",
    "             height=600,\n",
    "             log_y=True,\n",
    "             color='A_LIQUIDAR',\n",
    "             color_continuous_scale = 'reds',\n",
    "             template='plotly_dark')\n",
    "fig.update_traces(textposition = 'outside', cliponaxis = False, hovertemplate=None)\n",
    "fig.update_layout(hovermode=\"x unified\")\n",
    "\n",
    "fig.show()"
   ]
  },
  {
   "cell_type": "code",
   "execution_count": 7,
   "metadata": {},
   "outputs": [
    {
     "data": {
      "application/vnd.plotly.v1+json": {
       "config": {
        "plotlyServerURL": "https://plot.ly"
       },
       "data": [
        {
         "alignmentgroup": "True",
         "cliponaxis": false,
         "legendgroup": "",
         "marker": {
          "color": [
           2328668.75,
           579669.14,
           429916,
           408800,
           294990.91000000003,
           272657.22000000003,
           263356.42,
           176990,
           155261.44,
           122284.8,
           119594.24,
           106820.6,
           105177,
           92084.35999999999,
           74945.13,
           67319.4,
           62267.72,
           57451.93,
           51606.6,
           40097.9,
           35448.25,
           34512.6,
           25113.4,
           23277,
           22628.28,
           22260,
           20879.74,
           20082.82,
           17746.86,
           17224.79,
           15334.68,
           11809.02,
           11166.310000000001,
           9286.39,
           9062.1,
           8483,
           8400,
           7674.39,
           7506.36,
           6991.6,
           6318.39,
           5973.75,
           5480,
           4021.26,
           2972,
           2568.89,
           2499.61,
           2075.27,
           1770.72,
           1470,
           1396,
           1145.22,
           1085.08,
           766.66,
           546.77,
           544.17,
           501.94,
           493.12,
           359.17,
           134.6,
           52.9,
           50
          ],
          "coloraxis": "coloraxis",
          "pattern": {
           "shape": ""
          }
         },
         "name": "",
         "offsetgroup": "",
         "orientation": "v",
         "showlegend": false,
         "textposition": "outside",
         "texttemplate": "%{y:.3s}",
         "type": "bar",
         "x": [
          "CAPACITACAO DE PESSOAL",
          "A1QR - QUANTITATIVO DE RANCHO",
          "ATS - ATIVIDADES SETORIAIS",
          "DESPESAS COM ENERGIA ELETRICA",
          "LIMPEZA DE BENS IMÓVEIS",
          "CONCURSOS AS ESCOLAS MILITARES",
          "REVITALIZAR O SIST COLEGIO MILITAR DO BRASIL",
          "PLANO DE INVESTIMENTO E MANUTENCAO",
          "AQS DE ALMT  PARA  EQUINOS: ALFAF/AVEIA/FENO",
          "ALIMENTACAO PARA EQUINOS.",
          "SMEM ESTABELECIMENTOS DE ENSINO",
          "CONSTRUIR E ADEQUAR INST SIST EDU E CULT EB",
          "AQS SUP SV MNT VTR NAO BLD",
          "IND-INDENIZACOES",
          "PVANA",
          "AQUARTELAMENTO",
          "ESCO - QUANTITATIVO DE RANCHO",
          "FATOR DE CUSTO - CONTRATO DE OBJETIVOS",
          "ADMINISTRACAO DE OM",
          "MNT SUP EQP ENG CNST",
          "TRANSPORTE-DIARIAS",
          "COLEGIO MILITAR - ADMINISTRACAO",
          "LOG VTR BLD SOB GESTÃO DA REGIÃO MILITAR",
          "MATERIAL DE INTENDÊNCIA",
          "MIS EXT REQS TRNP BAG INTER",
          "SERVICO POSTAIS",
          "MNT DE MÁQ E EQP ADMINISTRATIVOS",
          "CONCESSIONÁRIAS DE ÁGUA E ESGOTO",
          "IND - INDENIZACOES",
          "REMONTA E VETERINÁRIA",
          "MANUTENCAO DE MAQUINAS E EQUIP ADMINISTRATIVO",
          "RESERVA  (DETMIL)",
          "SERVICO DE TELEFONIA FIXA",
          "INSTRUCAO INDIVIDUAL",
          "FUNADOM - DPGO",
          "UNIDADE GESTORA DE PRODUCAO",
          "INDENIZACAO DESPESAS.",
          "LAVAGEM DE ROUPAS PARA A VIDA VEGETATIVA OM",
          "A3RR - QUANTITATIVO DE RANCHO",
          "MNT DE AQUARTELAMENTO",
          "DESLOCAMENTOS EM MISSÕES DA ASSISTÊNCIA SOCIA",
          "DIARIAS",
          "ADEQUACAO AMBIENTAL E PATRIMONIAL.",
          "SERVICO DE TELEFONIA MOVEL",
          "INFORMATICA",
          "CERTIFICACAO DIGITAL",
          "PRESERV DE BENS DO PATR HISTORICO E CULTURAL",
          "DSLC A SV PREP ADM MIS EXT",
          "DIAR - DIARIAS",
          "A5PA - PASA",
          "MNT DE SISTEMAS DE INFORMACãO E COMUNICACãO",
          "COMBUSTIVEL E LUBRIFICANTES",
          "ORGANIZACAO CIVIL DE SAUDE",
          "DESLOCAMENTO P CURSO PREP P COMANDANTES OM",
          "PROFISSIONAL DE SAUDE AUTONOMO",
          "ASSISTENCIA SOCIAL",
          "SUPRIMENTO E MANUTENCAO MOTOMECANIZACAO_BLIND",
          "SUP MAT E EQUIPAMENTOS ADMINISTRATIVOS",
          "DESL PARA CURSOS E ESTAGIOS NO AMBITODO EB",
          "SERVICOS DE PROTECAO A RADIACAO IONIZANTE",
          "APRESENTACAO E SELECAO",
          "FUSEX - ENCAMINHAMENTO DE CONSULTAS."
         ],
         "xaxis": "x",
         "y": [
          2328668.75,
          579669.14,
          429916,
          408800,
          294990.91000000003,
          272657.22000000003,
          263356.42,
          176990,
          155261.44,
          122284.8,
          119594.24,
          106820.6,
          105177,
          92084.35999999999,
          74945.13,
          67319.4,
          62267.72,
          57451.93,
          51606.6,
          40097.9,
          35448.25,
          34512.6,
          25113.4,
          23277,
          22628.28,
          22260,
          20879.74,
          20082.82,
          17746.86,
          17224.79,
          15334.68,
          11809.02,
          11166.310000000001,
          9286.39,
          9062.1,
          8483,
          8400,
          7674.39,
          7506.36,
          6991.6,
          6318.39,
          5973.75,
          5480,
          4021.26,
          2972,
          2568.89,
          2499.61,
          2075.27,
          1770.72,
          1470,
          1396,
          1145.22,
          1085.08,
          766.66,
          546.77,
          544.17,
          501.94,
          493.12,
          359.17,
          134.6,
          52.9,
          50
         ],
         "yaxis": "y"
        }
       ],
       "layout": {
        "barmode": "relative",
        "coloraxis": {
         "colorbar": {
          "title": {
           "text": "Saldo a liquidar"
          }
         },
         "colorscale": [
          [
           0,
           "rgb(255,245,240)"
          ],
          [
           0.125,
           "rgb(254,224,210)"
          ],
          [
           0.25,
           "rgb(252,187,161)"
          ],
          [
           0.375,
           "rgb(252,146,114)"
          ],
          [
           0.5,
           "rgb(251,106,74)"
          ],
          [
           0.625,
           "rgb(239,59,44)"
          ],
          [
           0.75,
           "rgb(203,24,29)"
          ],
          [
           0.875,
           "rgb(165,15,21)"
          ],
          [
           1,
           "rgb(103,0,13)"
          ]
         ]
        },
        "height": 800,
        "hovermode": "x unified",
        "legend": {
         "tracegroupgap": 0
        },
        "template": {
         "data": {
          "bar": [
           {
            "error_x": {
             "color": "#f2f5fa"
            },
            "error_y": {
             "color": "#f2f5fa"
            },
            "marker": {
             "line": {
              "color": "rgb(17,17,17)",
              "width": 0.5
             },
             "pattern": {
              "fillmode": "overlay",
              "size": 10,
              "solidity": 0.2
             }
            },
            "type": "bar"
           }
          ],
          "barpolar": [
           {
            "marker": {
             "line": {
              "color": "rgb(17,17,17)",
              "width": 0.5
             },
             "pattern": {
              "fillmode": "overlay",
              "size": 10,
              "solidity": 0.2
             }
            },
            "type": "barpolar"
           }
          ],
          "carpet": [
           {
            "aaxis": {
             "endlinecolor": "#A2B1C6",
             "gridcolor": "#506784",
             "linecolor": "#506784",
             "minorgridcolor": "#506784",
             "startlinecolor": "#A2B1C6"
            },
            "baxis": {
             "endlinecolor": "#A2B1C6",
             "gridcolor": "#506784",
             "linecolor": "#506784",
             "minorgridcolor": "#506784",
             "startlinecolor": "#A2B1C6"
            },
            "type": "carpet"
           }
          ],
          "choropleth": [
           {
            "colorbar": {
             "outlinewidth": 0,
             "ticks": ""
            },
            "type": "choropleth"
           }
          ],
          "contour": [
           {
            "colorbar": {
             "outlinewidth": 0,
             "ticks": ""
            },
            "colorscale": [
             [
              0,
              "#0d0887"
             ],
             [
              0.1111111111111111,
              "#46039f"
             ],
             [
              0.2222222222222222,
              "#7201a8"
             ],
             [
              0.3333333333333333,
              "#9c179e"
             ],
             [
              0.4444444444444444,
              "#bd3786"
             ],
             [
              0.5555555555555556,
              "#d8576b"
             ],
             [
              0.6666666666666666,
              "#ed7953"
             ],
             [
              0.7777777777777778,
              "#fb9f3a"
             ],
             [
              0.8888888888888888,
              "#fdca26"
             ],
             [
              1,
              "#f0f921"
             ]
            ],
            "type": "contour"
           }
          ],
          "contourcarpet": [
           {
            "colorbar": {
             "outlinewidth": 0,
             "ticks": ""
            },
            "type": "contourcarpet"
           }
          ],
          "heatmap": [
           {
            "colorbar": {
             "outlinewidth": 0,
             "ticks": ""
            },
            "colorscale": [
             [
              0,
              "#0d0887"
             ],
             [
              0.1111111111111111,
              "#46039f"
             ],
             [
              0.2222222222222222,
              "#7201a8"
             ],
             [
              0.3333333333333333,
              "#9c179e"
             ],
             [
              0.4444444444444444,
              "#bd3786"
             ],
             [
              0.5555555555555556,
              "#d8576b"
             ],
             [
              0.6666666666666666,
              "#ed7953"
             ],
             [
              0.7777777777777778,
              "#fb9f3a"
             ],
             [
              0.8888888888888888,
              "#fdca26"
             ],
             [
              1,
              "#f0f921"
             ]
            ],
            "type": "heatmap"
           }
          ],
          "heatmapgl": [
           {
            "colorbar": {
             "outlinewidth": 0,
             "ticks": ""
            },
            "colorscale": [
             [
              0,
              "#0d0887"
             ],
             [
              0.1111111111111111,
              "#46039f"
             ],
             [
              0.2222222222222222,
              "#7201a8"
             ],
             [
              0.3333333333333333,
              "#9c179e"
             ],
             [
              0.4444444444444444,
              "#bd3786"
             ],
             [
              0.5555555555555556,
              "#d8576b"
             ],
             [
              0.6666666666666666,
              "#ed7953"
             ],
             [
              0.7777777777777778,
              "#fb9f3a"
             ],
             [
              0.8888888888888888,
              "#fdca26"
             ],
             [
              1,
              "#f0f921"
             ]
            ],
            "type": "heatmapgl"
           }
          ],
          "histogram": [
           {
            "marker": {
             "pattern": {
              "fillmode": "overlay",
              "size": 10,
              "solidity": 0.2
             }
            },
            "type": "histogram"
           }
          ],
          "histogram2d": [
           {
            "colorbar": {
             "outlinewidth": 0,
             "ticks": ""
            },
            "colorscale": [
             [
              0,
              "#0d0887"
             ],
             [
              0.1111111111111111,
              "#46039f"
             ],
             [
              0.2222222222222222,
              "#7201a8"
             ],
             [
              0.3333333333333333,
              "#9c179e"
             ],
             [
              0.4444444444444444,
              "#bd3786"
             ],
             [
              0.5555555555555556,
              "#d8576b"
             ],
             [
              0.6666666666666666,
              "#ed7953"
             ],
             [
              0.7777777777777778,
              "#fb9f3a"
             ],
             [
              0.8888888888888888,
              "#fdca26"
             ],
             [
              1,
              "#f0f921"
             ]
            ],
            "type": "histogram2d"
           }
          ],
          "histogram2dcontour": [
           {
            "colorbar": {
             "outlinewidth": 0,
             "ticks": ""
            },
            "colorscale": [
             [
              0,
              "#0d0887"
             ],
             [
              0.1111111111111111,
              "#46039f"
             ],
             [
              0.2222222222222222,
              "#7201a8"
             ],
             [
              0.3333333333333333,
              "#9c179e"
             ],
             [
              0.4444444444444444,
              "#bd3786"
             ],
             [
              0.5555555555555556,
              "#d8576b"
             ],
             [
              0.6666666666666666,
              "#ed7953"
             ],
             [
              0.7777777777777778,
              "#fb9f3a"
             ],
             [
              0.8888888888888888,
              "#fdca26"
             ],
             [
              1,
              "#f0f921"
             ]
            ],
            "type": "histogram2dcontour"
           }
          ],
          "mesh3d": [
           {
            "colorbar": {
             "outlinewidth": 0,
             "ticks": ""
            },
            "type": "mesh3d"
           }
          ],
          "parcoords": [
           {
            "line": {
             "colorbar": {
              "outlinewidth": 0,
              "ticks": ""
             }
            },
            "type": "parcoords"
           }
          ],
          "pie": [
           {
            "automargin": true,
            "type": "pie"
           }
          ],
          "scatter": [
           {
            "marker": {
             "line": {
              "color": "#283442"
             }
            },
            "type": "scatter"
           }
          ],
          "scatter3d": [
           {
            "line": {
             "colorbar": {
              "outlinewidth": 0,
              "ticks": ""
             }
            },
            "marker": {
             "colorbar": {
              "outlinewidth": 0,
              "ticks": ""
             }
            },
            "type": "scatter3d"
           }
          ],
          "scattercarpet": [
           {
            "marker": {
             "colorbar": {
              "outlinewidth": 0,
              "ticks": ""
             }
            },
            "type": "scattercarpet"
           }
          ],
          "scattergeo": [
           {
            "marker": {
             "colorbar": {
              "outlinewidth": 0,
              "ticks": ""
             }
            },
            "type": "scattergeo"
           }
          ],
          "scattergl": [
           {
            "marker": {
             "line": {
              "color": "#283442"
             }
            },
            "type": "scattergl"
           }
          ],
          "scattermapbox": [
           {
            "marker": {
             "colorbar": {
              "outlinewidth": 0,
              "ticks": ""
             }
            },
            "type": "scattermapbox"
           }
          ],
          "scatterpolar": [
           {
            "marker": {
             "colorbar": {
              "outlinewidth": 0,
              "ticks": ""
             }
            },
            "type": "scatterpolar"
           }
          ],
          "scatterpolargl": [
           {
            "marker": {
             "colorbar": {
              "outlinewidth": 0,
              "ticks": ""
             }
            },
            "type": "scatterpolargl"
           }
          ],
          "scatterternary": [
           {
            "marker": {
             "colorbar": {
              "outlinewidth": 0,
              "ticks": ""
             }
            },
            "type": "scatterternary"
           }
          ],
          "surface": [
           {
            "colorbar": {
             "outlinewidth": 0,
             "ticks": ""
            },
            "colorscale": [
             [
              0,
              "#0d0887"
             ],
             [
              0.1111111111111111,
              "#46039f"
             ],
             [
              0.2222222222222222,
              "#7201a8"
             ],
             [
              0.3333333333333333,
              "#9c179e"
             ],
             [
              0.4444444444444444,
              "#bd3786"
             ],
             [
              0.5555555555555556,
              "#d8576b"
             ],
             [
              0.6666666666666666,
              "#ed7953"
             ],
             [
              0.7777777777777778,
              "#fb9f3a"
             ],
             [
              0.8888888888888888,
              "#fdca26"
             ],
             [
              1,
              "#f0f921"
             ]
            ],
            "type": "surface"
           }
          ],
          "table": [
           {
            "cells": {
             "fill": {
              "color": "#506784"
             },
             "line": {
              "color": "rgb(17,17,17)"
             }
            },
            "header": {
             "fill": {
              "color": "#2a3f5f"
             },
             "line": {
              "color": "rgb(17,17,17)"
             }
            },
            "type": "table"
           }
          ]
         },
         "layout": {
          "annotationdefaults": {
           "arrowcolor": "#f2f5fa",
           "arrowhead": 0,
           "arrowwidth": 1
          },
          "autotypenumbers": "strict",
          "coloraxis": {
           "colorbar": {
            "outlinewidth": 0,
            "ticks": ""
           }
          },
          "colorscale": {
           "diverging": [
            [
             0,
             "#8e0152"
            ],
            [
             0.1,
             "#c51b7d"
            ],
            [
             0.2,
             "#de77ae"
            ],
            [
             0.3,
             "#f1b6da"
            ],
            [
             0.4,
             "#fde0ef"
            ],
            [
             0.5,
             "#f7f7f7"
            ],
            [
             0.6,
             "#e6f5d0"
            ],
            [
             0.7,
             "#b8e186"
            ],
            [
             0.8,
             "#7fbc41"
            ],
            [
             0.9,
             "#4d9221"
            ],
            [
             1,
             "#276419"
            ]
           ],
           "sequential": [
            [
             0,
             "#0d0887"
            ],
            [
             0.1111111111111111,
             "#46039f"
            ],
            [
             0.2222222222222222,
             "#7201a8"
            ],
            [
             0.3333333333333333,
             "#9c179e"
            ],
            [
             0.4444444444444444,
             "#bd3786"
            ],
            [
             0.5555555555555556,
             "#d8576b"
            ],
            [
             0.6666666666666666,
             "#ed7953"
            ],
            [
             0.7777777777777778,
             "#fb9f3a"
            ],
            [
             0.8888888888888888,
             "#fdca26"
            ],
            [
             1,
             "#f0f921"
            ]
           ],
           "sequentialminus": [
            [
             0,
             "#0d0887"
            ],
            [
             0.1111111111111111,
             "#46039f"
            ],
            [
             0.2222222222222222,
             "#7201a8"
            ],
            [
             0.3333333333333333,
             "#9c179e"
            ],
            [
             0.4444444444444444,
             "#bd3786"
            ],
            [
             0.5555555555555556,
             "#d8576b"
            ],
            [
             0.6666666666666666,
             "#ed7953"
            ],
            [
             0.7777777777777778,
             "#fb9f3a"
            ],
            [
             0.8888888888888888,
             "#fdca26"
            ],
            [
             1,
             "#f0f921"
            ]
           ]
          },
          "colorway": [
           "#636efa",
           "#EF553B",
           "#00cc96",
           "#ab63fa",
           "#FFA15A",
           "#19d3f3",
           "#FF6692",
           "#B6E880",
           "#FF97FF",
           "#FECB52"
          ],
          "font": {
           "color": "#f2f5fa"
          },
          "geo": {
           "bgcolor": "rgb(17,17,17)",
           "lakecolor": "rgb(17,17,17)",
           "landcolor": "rgb(17,17,17)",
           "showlakes": true,
           "showland": true,
           "subunitcolor": "#506784"
          },
          "hoverlabel": {
           "align": "left"
          },
          "hovermode": "closest",
          "mapbox": {
           "style": "dark"
          },
          "paper_bgcolor": "rgb(17,17,17)",
          "plot_bgcolor": "rgb(17,17,17)",
          "polar": {
           "angularaxis": {
            "gridcolor": "#506784",
            "linecolor": "#506784",
            "ticks": ""
           },
           "bgcolor": "rgb(17,17,17)",
           "radialaxis": {
            "gridcolor": "#506784",
            "linecolor": "#506784",
            "ticks": ""
           }
          },
          "scene": {
           "xaxis": {
            "backgroundcolor": "rgb(17,17,17)",
            "gridcolor": "#506784",
            "gridwidth": 2,
            "linecolor": "#506784",
            "showbackground": true,
            "ticks": "",
            "zerolinecolor": "#C8D4E3"
           },
           "yaxis": {
            "backgroundcolor": "rgb(17,17,17)",
            "gridcolor": "#506784",
            "gridwidth": 2,
            "linecolor": "#506784",
            "showbackground": true,
            "ticks": "",
            "zerolinecolor": "#C8D4E3"
           },
           "zaxis": {
            "backgroundcolor": "rgb(17,17,17)",
            "gridcolor": "#506784",
            "gridwidth": 2,
            "linecolor": "#506784",
            "showbackground": true,
            "ticks": "",
            "zerolinecolor": "#C8D4E3"
           }
          },
          "shapedefaults": {
           "line": {
            "color": "#f2f5fa"
           }
          },
          "sliderdefaults": {
           "bgcolor": "#C8D4E3",
           "bordercolor": "rgb(17,17,17)",
           "borderwidth": 1,
           "tickwidth": 0
          },
          "ternary": {
           "aaxis": {
            "gridcolor": "#506784",
            "linecolor": "#506784",
            "ticks": ""
           },
           "baxis": {
            "gridcolor": "#506784",
            "linecolor": "#506784",
            "ticks": ""
           },
           "bgcolor": "rgb(17,17,17)",
           "caxis": {
            "gridcolor": "#506784",
            "linecolor": "#506784",
            "ticks": ""
           }
          },
          "title": {
           "x": 0.05
          },
          "updatemenudefaults": {
           "bgcolor": "#506784",
           "borderwidth": 0
          },
          "xaxis": {
           "automargin": true,
           "gridcolor": "#283442",
           "linecolor": "#506784",
           "ticks": "",
           "title": {
            "standoff": 15
           },
           "zerolinecolor": "#283442",
           "zerolinewidth": 2
          },
          "yaxis": {
           "automargin": true,
           "gridcolor": "#283442",
           "linecolor": "#506784",
           "ticks": "",
           "title": {
            "standoff": 15
           },
           "zerolinecolor": "#283442",
           "zerolinewidth": 2
          }
         }
        },
        "title": {
         "text": "Saldo a liquidar por PI"
        },
        "xaxis": {
         "anchor": "y",
         "domain": [
          0,
          1
         ],
         "title": {
          "text": "Tipo de PI"
         }
        },
        "yaxis": {
         "anchor": "x",
         "domain": [
          0,
          1
         ],
         "title": {
          "text": "Saldo a liquidar"
         },
         "type": "log"
        }
       }
      }
     },
     "metadata": {},
     "output_type": "display_data"
    }
   ],
   "source": [
    "# Saldo a liquidar por tipo de PI\n",
    "cols = ['NOME_PI', 'A_LIQUIDAR']\n",
    "\n",
    "df_aux = df.loc[:, cols].groupby('NOME_PI').sum().sort_values(by= 'A_LIQUIDAR', ascending=False).reset_index()\n",
    "df_aux = df_aux[df_aux['A_LIQUIDAR'] > 0]\n",
    "fig = px.bar(df_aux, \n",
    "             x='NOME_PI', \n",
    "             y='A_LIQUIDAR',\n",
    "             title='Saldo a liquidar por PI',\n",
    "             labels={'NOME_PI':'Tipo de PI', 'A_LIQUIDAR':'Saldo a liquidar'},\n",
    "             text_auto='.3s',\n",
    "             height=800,\n",
    "             log_y=True,\n",
    "             color='A_LIQUIDAR',\n",
    "             color_continuous_scale = 'reds',\n",
    "             template='plotly_dark')\n",
    "fig.update_traces(textposition = 'outside', cliponaxis = False, hovertemplate=None)\n",
    "fig.update_layout(hovermode=\"x unified\")\n",
    "\n",
    "fig.show()"
   ]
  },
  {
   "cell_type": "code",
   "execution_count": 8,
   "metadata": {},
   "outputs": [
    {
     "data": {
      "application/vnd.plotly.v1+json": {
       "config": {
        "plotlyServerURL": "https://plot.ly"
       },
       "data": [
        {
         "alignmentgroup": "True",
         "cliponaxis": false,
         "legendgroup": "",
         "marker": {
          "color": [
           6033856.13,
           153216.54
          ],
          "coloraxis": "coloraxis",
          "pattern": {
           "shape": ""
          }
         },
         "name": "",
         "offsetgroup": "",
         "orientation": "v",
         "showlegend": false,
         "textposition": "outside",
         "texttemplate": "%{y:.3s}",
         "type": "bar",
         "x": [
          "ANO",
          "RPNP"
         ],
         "xaxis": "x",
         "y": [
          6033856.13,
          153216.54
         ],
         "yaxis": "y"
        }
       ],
       "layout": {
        "barmode": "relative",
        "coloraxis": {
         "colorbar": {
          "title": {
           "text": "Saldo a liquidar"
          }
         },
         "colorscale": [
          [
           0,
           "rgb(255,245,240)"
          ],
          [
           0.125,
           "rgb(254,224,210)"
          ],
          [
           0.25,
           "rgb(252,187,161)"
          ],
          [
           0.375,
           "rgb(252,146,114)"
          ],
          [
           0.5,
           "rgb(251,106,74)"
          ],
          [
           0.625,
           "rgb(239,59,44)"
          ],
          [
           0.75,
           "rgb(203,24,29)"
          ],
          [
           0.875,
           "rgb(165,15,21)"
          ],
          [
           1,
           "rgb(103,0,13)"
          ]
         ]
        },
        "height": 400,
        "hovermode": "x unified",
        "legend": {
         "tracegroupgap": 0
        },
        "template": {
         "data": {
          "bar": [
           {
            "error_x": {
             "color": "#f2f5fa"
            },
            "error_y": {
             "color": "#f2f5fa"
            },
            "marker": {
             "line": {
              "color": "rgb(17,17,17)",
              "width": 0.5
             },
             "pattern": {
              "fillmode": "overlay",
              "size": 10,
              "solidity": 0.2
             }
            },
            "type": "bar"
           }
          ],
          "barpolar": [
           {
            "marker": {
             "line": {
              "color": "rgb(17,17,17)",
              "width": 0.5
             },
             "pattern": {
              "fillmode": "overlay",
              "size": 10,
              "solidity": 0.2
             }
            },
            "type": "barpolar"
           }
          ],
          "carpet": [
           {
            "aaxis": {
             "endlinecolor": "#A2B1C6",
             "gridcolor": "#506784",
             "linecolor": "#506784",
             "minorgridcolor": "#506784",
             "startlinecolor": "#A2B1C6"
            },
            "baxis": {
             "endlinecolor": "#A2B1C6",
             "gridcolor": "#506784",
             "linecolor": "#506784",
             "minorgridcolor": "#506784",
             "startlinecolor": "#A2B1C6"
            },
            "type": "carpet"
           }
          ],
          "choropleth": [
           {
            "colorbar": {
             "outlinewidth": 0,
             "ticks": ""
            },
            "type": "choropleth"
           }
          ],
          "contour": [
           {
            "colorbar": {
             "outlinewidth": 0,
             "ticks": ""
            },
            "colorscale": [
             [
              0,
              "#0d0887"
             ],
             [
              0.1111111111111111,
              "#46039f"
             ],
             [
              0.2222222222222222,
              "#7201a8"
             ],
             [
              0.3333333333333333,
              "#9c179e"
             ],
             [
              0.4444444444444444,
              "#bd3786"
             ],
             [
              0.5555555555555556,
              "#d8576b"
             ],
             [
              0.6666666666666666,
              "#ed7953"
             ],
             [
              0.7777777777777778,
              "#fb9f3a"
             ],
             [
              0.8888888888888888,
              "#fdca26"
             ],
             [
              1,
              "#f0f921"
             ]
            ],
            "type": "contour"
           }
          ],
          "contourcarpet": [
           {
            "colorbar": {
             "outlinewidth": 0,
             "ticks": ""
            },
            "type": "contourcarpet"
           }
          ],
          "heatmap": [
           {
            "colorbar": {
             "outlinewidth": 0,
             "ticks": ""
            },
            "colorscale": [
             [
              0,
              "#0d0887"
             ],
             [
              0.1111111111111111,
              "#46039f"
             ],
             [
              0.2222222222222222,
              "#7201a8"
             ],
             [
              0.3333333333333333,
              "#9c179e"
             ],
             [
              0.4444444444444444,
              "#bd3786"
             ],
             [
              0.5555555555555556,
              "#d8576b"
             ],
             [
              0.6666666666666666,
              "#ed7953"
             ],
             [
              0.7777777777777778,
              "#fb9f3a"
             ],
             [
              0.8888888888888888,
              "#fdca26"
             ],
             [
              1,
              "#f0f921"
             ]
            ],
            "type": "heatmap"
           }
          ],
          "heatmapgl": [
           {
            "colorbar": {
             "outlinewidth": 0,
             "ticks": ""
            },
            "colorscale": [
             [
              0,
              "#0d0887"
             ],
             [
              0.1111111111111111,
              "#46039f"
             ],
             [
              0.2222222222222222,
              "#7201a8"
             ],
             [
              0.3333333333333333,
              "#9c179e"
             ],
             [
              0.4444444444444444,
              "#bd3786"
             ],
             [
              0.5555555555555556,
              "#d8576b"
             ],
             [
              0.6666666666666666,
              "#ed7953"
             ],
             [
              0.7777777777777778,
              "#fb9f3a"
             ],
             [
              0.8888888888888888,
              "#fdca26"
             ],
             [
              1,
              "#f0f921"
             ]
            ],
            "type": "heatmapgl"
           }
          ],
          "histogram": [
           {
            "marker": {
             "pattern": {
              "fillmode": "overlay",
              "size": 10,
              "solidity": 0.2
             }
            },
            "type": "histogram"
           }
          ],
          "histogram2d": [
           {
            "colorbar": {
             "outlinewidth": 0,
             "ticks": ""
            },
            "colorscale": [
             [
              0,
              "#0d0887"
             ],
             [
              0.1111111111111111,
              "#46039f"
             ],
             [
              0.2222222222222222,
              "#7201a8"
             ],
             [
              0.3333333333333333,
              "#9c179e"
             ],
             [
              0.4444444444444444,
              "#bd3786"
             ],
             [
              0.5555555555555556,
              "#d8576b"
             ],
             [
              0.6666666666666666,
              "#ed7953"
             ],
             [
              0.7777777777777778,
              "#fb9f3a"
             ],
             [
              0.8888888888888888,
              "#fdca26"
             ],
             [
              1,
              "#f0f921"
             ]
            ],
            "type": "histogram2d"
           }
          ],
          "histogram2dcontour": [
           {
            "colorbar": {
             "outlinewidth": 0,
             "ticks": ""
            },
            "colorscale": [
             [
              0,
              "#0d0887"
             ],
             [
              0.1111111111111111,
              "#46039f"
             ],
             [
              0.2222222222222222,
              "#7201a8"
             ],
             [
              0.3333333333333333,
              "#9c179e"
             ],
             [
              0.4444444444444444,
              "#bd3786"
             ],
             [
              0.5555555555555556,
              "#d8576b"
             ],
             [
              0.6666666666666666,
              "#ed7953"
             ],
             [
              0.7777777777777778,
              "#fb9f3a"
             ],
             [
              0.8888888888888888,
              "#fdca26"
             ],
             [
              1,
              "#f0f921"
             ]
            ],
            "type": "histogram2dcontour"
           }
          ],
          "mesh3d": [
           {
            "colorbar": {
             "outlinewidth": 0,
             "ticks": ""
            },
            "type": "mesh3d"
           }
          ],
          "parcoords": [
           {
            "line": {
             "colorbar": {
              "outlinewidth": 0,
              "ticks": ""
             }
            },
            "type": "parcoords"
           }
          ],
          "pie": [
           {
            "automargin": true,
            "type": "pie"
           }
          ],
          "scatter": [
           {
            "marker": {
             "line": {
              "color": "#283442"
             }
            },
            "type": "scatter"
           }
          ],
          "scatter3d": [
           {
            "line": {
             "colorbar": {
              "outlinewidth": 0,
              "ticks": ""
             }
            },
            "marker": {
             "colorbar": {
              "outlinewidth": 0,
              "ticks": ""
             }
            },
            "type": "scatter3d"
           }
          ],
          "scattercarpet": [
           {
            "marker": {
             "colorbar": {
              "outlinewidth": 0,
              "ticks": ""
             }
            },
            "type": "scattercarpet"
           }
          ],
          "scattergeo": [
           {
            "marker": {
             "colorbar": {
              "outlinewidth": 0,
              "ticks": ""
             }
            },
            "type": "scattergeo"
           }
          ],
          "scattergl": [
           {
            "marker": {
             "line": {
              "color": "#283442"
             }
            },
            "type": "scattergl"
           }
          ],
          "scattermapbox": [
           {
            "marker": {
             "colorbar": {
              "outlinewidth": 0,
              "ticks": ""
             }
            },
            "type": "scattermapbox"
           }
          ],
          "scatterpolar": [
           {
            "marker": {
             "colorbar": {
              "outlinewidth": 0,
              "ticks": ""
             }
            },
            "type": "scatterpolar"
           }
          ],
          "scatterpolargl": [
           {
            "marker": {
             "colorbar": {
              "outlinewidth": 0,
              "ticks": ""
             }
            },
            "type": "scatterpolargl"
           }
          ],
          "scatterternary": [
           {
            "marker": {
             "colorbar": {
              "outlinewidth": 0,
              "ticks": ""
             }
            },
            "type": "scatterternary"
           }
          ],
          "surface": [
           {
            "colorbar": {
             "outlinewidth": 0,
             "ticks": ""
            },
            "colorscale": [
             [
              0,
              "#0d0887"
             ],
             [
              0.1111111111111111,
              "#46039f"
             ],
             [
              0.2222222222222222,
              "#7201a8"
             ],
             [
              0.3333333333333333,
              "#9c179e"
             ],
             [
              0.4444444444444444,
              "#bd3786"
             ],
             [
              0.5555555555555556,
              "#d8576b"
             ],
             [
              0.6666666666666666,
              "#ed7953"
             ],
             [
              0.7777777777777778,
              "#fb9f3a"
             ],
             [
              0.8888888888888888,
              "#fdca26"
             ],
             [
              1,
              "#f0f921"
             ]
            ],
            "type": "surface"
           }
          ],
          "table": [
           {
            "cells": {
             "fill": {
              "color": "#506784"
             },
             "line": {
              "color": "rgb(17,17,17)"
             }
            },
            "header": {
             "fill": {
              "color": "#2a3f5f"
             },
             "line": {
              "color": "rgb(17,17,17)"
             }
            },
            "type": "table"
           }
          ]
         },
         "layout": {
          "annotationdefaults": {
           "arrowcolor": "#f2f5fa",
           "arrowhead": 0,
           "arrowwidth": 1
          },
          "autotypenumbers": "strict",
          "coloraxis": {
           "colorbar": {
            "outlinewidth": 0,
            "ticks": ""
           }
          },
          "colorscale": {
           "diverging": [
            [
             0,
             "#8e0152"
            ],
            [
             0.1,
             "#c51b7d"
            ],
            [
             0.2,
             "#de77ae"
            ],
            [
             0.3,
             "#f1b6da"
            ],
            [
             0.4,
             "#fde0ef"
            ],
            [
             0.5,
             "#f7f7f7"
            ],
            [
             0.6,
             "#e6f5d0"
            ],
            [
             0.7,
             "#b8e186"
            ],
            [
             0.8,
             "#7fbc41"
            ],
            [
             0.9,
             "#4d9221"
            ],
            [
             1,
             "#276419"
            ]
           ],
           "sequential": [
            [
             0,
             "#0d0887"
            ],
            [
             0.1111111111111111,
             "#46039f"
            ],
            [
             0.2222222222222222,
             "#7201a8"
            ],
            [
             0.3333333333333333,
             "#9c179e"
            ],
            [
             0.4444444444444444,
             "#bd3786"
            ],
            [
             0.5555555555555556,
             "#d8576b"
            ],
            [
             0.6666666666666666,
             "#ed7953"
            ],
            [
             0.7777777777777778,
             "#fb9f3a"
            ],
            [
             0.8888888888888888,
             "#fdca26"
            ],
            [
             1,
             "#f0f921"
            ]
           ],
           "sequentialminus": [
            [
             0,
             "#0d0887"
            ],
            [
             0.1111111111111111,
             "#46039f"
            ],
            [
             0.2222222222222222,
             "#7201a8"
            ],
            [
             0.3333333333333333,
             "#9c179e"
            ],
            [
             0.4444444444444444,
             "#bd3786"
            ],
            [
             0.5555555555555556,
             "#d8576b"
            ],
            [
             0.6666666666666666,
             "#ed7953"
            ],
            [
             0.7777777777777778,
             "#fb9f3a"
            ],
            [
             0.8888888888888888,
             "#fdca26"
            ],
            [
             1,
             "#f0f921"
            ]
           ]
          },
          "colorway": [
           "#636efa",
           "#EF553B",
           "#00cc96",
           "#ab63fa",
           "#FFA15A",
           "#19d3f3",
           "#FF6692",
           "#B6E880",
           "#FF97FF",
           "#FECB52"
          ],
          "font": {
           "color": "#f2f5fa"
          },
          "geo": {
           "bgcolor": "rgb(17,17,17)",
           "lakecolor": "rgb(17,17,17)",
           "landcolor": "rgb(17,17,17)",
           "showlakes": true,
           "showland": true,
           "subunitcolor": "#506784"
          },
          "hoverlabel": {
           "align": "left"
          },
          "hovermode": "closest",
          "mapbox": {
           "style": "dark"
          },
          "paper_bgcolor": "rgb(17,17,17)",
          "plot_bgcolor": "rgb(17,17,17)",
          "polar": {
           "angularaxis": {
            "gridcolor": "#506784",
            "linecolor": "#506784",
            "ticks": ""
           },
           "bgcolor": "rgb(17,17,17)",
           "radialaxis": {
            "gridcolor": "#506784",
            "linecolor": "#506784",
            "ticks": ""
           }
          },
          "scene": {
           "xaxis": {
            "backgroundcolor": "rgb(17,17,17)",
            "gridcolor": "#506784",
            "gridwidth": 2,
            "linecolor": "#506784",
            "showbackground": true,
            "ticks": "",
            "zerolinecolor": "#C8D4E3"
           },
           "yaxis": {
            "backgroundcolor": "rgb(17,17,17)",
            "gridcolor": "#506784",
            "gridwidth": 2,
            "linecolor": "#506784",
            "showbackground": true,
            "ticks": "",
            "zerolinecolor": "#C8D4E3"
           },
           "zaxis": {
            "backgroundcolor": "rgb(17,17,17)",
            "gridcolor": "#506784",
            "gridwidth": 2,
            "linecolor": "#506784",
            "showbackground": true,
            "ticks": "",
            "zerolinecolor": "#C8D4E3"
           }
          },
          "shapedefaults": {
           "line": {
            "color": "#f2f5fa"
           }
          },
          "sliderdefaults": {
           "bgcolor": "#C8D4E3",
           "bordercolor": "rgb(17,17,17)",
           "borderwidth": 1,
           "tickwidth": 0
          },
          "ternary": {
           "aaxis": {
            "gridcolor": "#506784",
            "linecolor": "#506784",
            "ticks": ""
           },
           "baxis": {
            "gridcolor": "#506784",
            "linecolor": "#506784",
            "ticks": ""
           },
           "bgcolor": "rgb(17,17,17)",
           "caxis": {
            "gridcolor": "#506784",
            "linecolor": "#506784",
            "ticks": ""
           }
          },
          "title": {
           "x": 0.05
          },
          "updatemenudefaults": {
           "bgcolor": "#506784",
           "borderwidth": 0
          },
          "xaxis": {
           "automargin": true,
           "gridcolor": "#283442",
           "linecolor": "#506784",
           "ticks": "",
           "title": {
            "standoff": 15
           },
           "zerolinecolor": "#283442",
           "zerolinewidth": 2
          },
          "yaxis": {
           "automargin": true,
           "gridcolor": "#283442",
           "linecolor": "#506784",
           "ticks": "",
           "title": {
            "standoff": 15
           },
           "zerolinecolor": "#283442",
           "zerolinewidth": 2
          }
         }
        },
        "title": {
         "text": "Saldo a liquidar por tipo de empenho"
        },
        "xaxis": {
         "anchor": "y",
         "domain": [
          0,
          1
         ],
         "title": {
          "text": "Tipo de Empenho"
         }
        },
        "yaxis": {
         "anchor": "x",
         "domain": [
          0,
          1
         ],
         "title": {
          "text": "Saldo a liquidar"
         },
         "type": "log"
        }
       }
      }
     },
     "metadata": {},
     "output_type": "display_data"
    }
   ],
   "source": [
    "# Saldo a liquidar por tipo de Empenho\n",
    "cols = ['TIPO', 'A_LIQUIDAR']\n",
    "\n",
    "df_aux = df.loc[:, cols].groupby('TIPO').sum().sort_values(by= 'A_LIQUIDAR', ascending=False).reset_index()\n",
    "df_aux = df_aux[df_aux['A_LIQUIDAR'] > 0]\n",
    "fig = px.bar(df_aux, \n",
    "             x='TIPO', \n",
    "             y='A_LIQUIDAR',\n",
    "             title='Saldo a liquidar por tipo de empenho',\n",
    "             labels={'TIPO':'Tipo de Empenho', 'A_LIQUIDAR':'Saldo a liquidar'},\n",
    "             text_auto='.3s',\n",
    "             height=400,\n",
    "             log_y=True,\n",
    "             color='A_LIQUIDAR',\n",
    "             color_continuous_scale = 'reds',\n",
    "             template='plotly_dark')\n",
    "fig.update_traces(textposition = 'outside', cliponaxis = False, hovertemplate=None)\n",
    "fig.update_layout(hovermode=\"x unified\")\n",
    "\n",
    "fig.show()"
   ]
  },
  {
   "cell_type": "code",
   "execution_count": 9,
   "metadata": {},
   "outputs": [
    {
     "data": {
      "application/vnd.plotly.v1+json": {
       "config": {
        "plotlyServerURL": "https://plot.ly"
       },
       "data": [
        {
         "alignmentgroup": "True",
         "cliponaxis": false,
         "legendgroup": "",
         "marker": {
          "color": [
           6033856.13,
           153216.54
          ],
          "coloraxis": "coloraxis",
          "pattern": {
           "shape": ""
          }
         },
         "name": "",
         "offsetgroup": "",
         "orientation": "v",
         "showlegend": false,
         "textposition": "outside",
         "texttemplate": "%{y:.3s}",
         "type": "bar",
         "x": [
          "2024",
          "2023"
         ],
         "xaxis": "x",
         "y": [
          6033856.13,
          153216.54
         ],
         "yaxis": "y"
        }
       ],
       "layout": {
        "barmode": "relative",
        "coloraxis": {
         "colorbar": {
          "title": {
           "text": "Saldo a liquidar"
          }
         },
         "colorscale": [
          [
           0,
           "rgb(255,245,240)"
          ],
          [
           0.125,
           "rgb(254,224,210)"
          ],
          [
           0.25,
           "rgb(252,187,161)"
          ],
          [
           0.375,
           "rgb(252,146,114)"
          ],
          [
           0.5,
           "rgb(251,106,74)"
          ],
          [
           0.625,
           "rgb(239,59,44)"
          ],
          [
           0.75,
           "rgb(203,24,29)"
          ],
          [
           0.875,
           "rgb(165,15,21)"
          ],
          [
           1,
           "rgb(103,0,13)"
          ]
         ]
        },
        "height": 400,
        "hovermode": "x unified",
        "legend": {
         "tracegroupgap": 0
        },
        "template": {
         "data": {
          "bar": [
           {
            "error_x": {
             "color": "#f2f5fa"
            },
            "error_y": {
             "color": "#f2f5fa"
            },
            "marker": {
             "line": {
              "color": "rgb(17,17,17)",
              "width": 0.5
             },
             "pattern": {
              "fillmode": "overlay",
              "size": 10,
              "solidity": 0.2
             }
            },
            "type": "bar"
           }
          ],
          "barpolar": [
           {
            "marker": {
             "line": {
              "color": "rgb(17,17,17)",
              "width": 0.5
             },
             "pattern": {
              "fillmode": "overlay",
              "size": 10,
              "solidity": 0.2
             }
            },
            "type": "barpolar"
           }
          ],
          "carpet": [
           {
            "aaxis": {
             "endlinecolor": "#A2B1C6",
             "gridcolor": "#506784",
             "linecolor": "#506784",
             "minorgridcolor": "#506784",
             "startlinecolor": "#A2B1C6"
            },
            "baxis": {
             "endlinecolor": "#A2B1C6",
             "gridcolor": "#506784",
             "linecolor": "#506784",
             "minorgridcolor": "#506784",
             "startlinecolor": "#A2B1C6"
            },
            "type": "carpet"
           }
          ],
          "choropleth": [
           {
            "colorbar": {
             "outlinewidth": 0,
             "ticks": ""
            },
            "type": "choropleth"
           }
          ],
          "contour": [
           {
            "colorbar": {
             "outlinewidth": 0,
             "ticks": ""
            },
            "colorscale": [
             [
              0,
              "#0d0887"
             ],
             [
              0.1111111111111111,
              "#46039f"
             ],
             [
              0.2222222222222222,
              "#7201a8"
             ],
             [
              0.3333333333333333,
              "#9c179e"
             ],
             [
              0.4444444444444444,
              "#bd3786"
             ],
             [
              0.5555555555555556,
              "#d8576b"
             ],
             [
              0.6666666666666666,
              "#ed7953"
             ],
             [
              0.7777777777777778,
              "#fb9f3a"
             ],
             [
              0.8888888888888888,
              "#fdca26"
             ],
             [
              1,
              "#f0f921"
             ]
            ],
            "type": "contour"
           }
          ],
          "contourcarpet": [
           {
            "colorbar": {
             "outlinewidth": 0,
             "ticks": ""
            },
            "type": "contourcarpet"
           }
          ],
          "heatmap": [
           {
            "colorbar": {
             "outlinewidth": 0,
             "ticks": ""
            },
            "colorscale": [
             [
              0,
              "#0d0887"
             ],
             [
              0.1111111111111111,
              "#46039f"
             ],
             [
              0.2222222222222222,
              "#7201a8"
             ],
             [
              0.3333333333333333,
              "#9c179e"
             ],
             [
              0.4444444444444444,
              "#bd3786"
             ],
             [
              0.5555555555555556,
              "#d8576b"
             ],
             [
              0.6666666666666666,
              "#ed7953"
             ],
             [
              0.7777777777777778,
              "#fb9f3a"
             ],
             [
              0.8888888888888888,
              "#fdca26"
             ],
             [
              1,
              "#f0f921"
             ]
            ],
            "type": "heatmap"
           }
          ],
          "heatmapgl": [
           {
            "colorbar": {
             "outlinewidth": 0,
             "ticks": ""
            },
            "colorscale": [
             [
              0,
              "#0d0887"
             ],
             [
              0.1111111111111111,
              "#46039f"
             ],
             [
              0.2222222222222222,
              "#7201a8"
             ],
             [
              0.3333333333333333,
              "#9c179e"
             ],
             [
              0.4444444444444444,
              "#bd3786"
             ],
             [
              0.5555555555555556,
              "#d8576b"
             ],
             [
              0.6666666666666666,
              "#ed7953"
             ],
             [
              0.7777777777777778,
              "#fb9f3a"
             ],
             [
              0.8888888888888888,
              "#fdca26"
             ],
             [
              1,
              "#f0f921"
             ]
            ],
            "type": "heatmapgl"
           }
          ],
          "histogram": [
           {
            "marker": {
             "pattern": {
              "fillmode": "overlay",
              "size": 10,
              "solidity": 0.2
             }
            },
            "type": "histogram"
           }
          ],
          "histogram2d": [
           {
            "colorbar": {
             "outlinewidth": 0,
             "ticks": ""
            },
            "colorscale": [
             [
              0,
              "#0d0887"
             ],
             [
              0.1111111111111111,
              "#46039f"
             ],
             [
              0.2222222222222222,
              "#7201a8"
             ],
             [
              0.3333333333333333,
              "#9c179e"
             ],
             [
              0.4444444444444444,
              "#bd3786"
             ],
             [
              0.5555555555555556,
              "#d8576b"
             ],
             [
              0.6666666666666666,
              "#ed7953"
             ],
             [
              0.7777777777777778,
              "#fb9f3a"
             ],
             [
              0.8888888888888888,
              "#fdca26"
             ],
             [
              1,
              "#f0f921"
             ]
            ],
            "type": "histogram2d"
           }
          ],
          "histogram2dcontour": [
           {
            "colorbar": {
             "outlinewidth": 0,
             "ticks": ""
            },
            "colorscale": [
             [
              0,
              "#0d0887"
             ],
             [
              0.1111111111111111,
              "#46039f"
             ],
             [
              0.2222222222222222,
              "#7201a8"
             ],
             [
              0.3333333333333333,
              "#9c179e"
             ],
             [
              0.4444444444444444,
              "#bd3786"
             ],
             [
              0.5555555555555556,
              "#d8576b"
             ],
             [
              0.6666666666666666,
              "#ed7953"
             ],
             [
              0.7777777777777778,
              "#fb9f3a"
             ],
             [
              0.8888888888888888,
              "#fdca26"
             ],
             [
              1,
              "#f0f921"
             ]
            ],
            "type": "histogram2dcontour"
           }
          ],
          "mesh3d": [
           {
            "colorbar": {
             "outlinewidth": 0,
             "ticks": ""
            },
            "type": "mesh3d"
           }
          ],
          "parcoords": [
           {
            "line": {
             "colorbar": {
              "outlinewidth": 0,
              "ticks": ""
             }
            },
            "type": "parcoords"
           }
          ],
          "pie": [
           {
            "automargin": true,
            "type": "pie"
           }
          ],
          "scatter": [
           {
            "marker": {
             "line": {
              "color": "#283442"
             }
            },
            "type": "scatter"
           }
          ],
          "scatter3d": [
           {
            "line": {
             "colorbar": {
              "outlinewidth": 0,
              "ticks": ""
             }
            },
            "marker": {
             "colorbar": {
              "outlinewidth": 0,
              "ticks": ""
             }
            },
            "type": "scatter3d"
           }
          ],
          "scattercarpet": [
           {
            "marker": {
             "colorbar": {
              "outlinewidth": 0,
              "ticks": ""
             }
            },
            "type": "scattercarpet"
           }
          ],
          "scattergeo": [
           {
            "marker": {
             "colorbar": {
              "outlinewidth": 0,
              "ticks": ""
             }
            },
            "type": "scattergeo"
           }
          ],
          "scattergl": [
           {
            "marker": {
             "line": {
              "color": "#283442"
             }
            },
            "type": "scattergl"
           }
          ],
          "scattermapbox": [
           {
            "marker": {
             "colorbar": {
              "outlinewidth": 0,
              "ticks": ""
             }
            },
            "type": "scattermapbox"
           }
          ],
          "scatterpolar": [
           {
            "marker": {
             "colorbar": {
              "outlinewidth": 0,
              "ticks": ""
             }
            },
            "type": "scatterpolar"
           }
          ],
          "scatterpolargl": [
           {
            "marker": {
             "colorbar": {
              "outlinewidth": 0,
              "ticks": ""
             }
            },
            "type": "scatterpolargl"
           }
          ],
          "scatterternary": [
           {
            "marker": {
             "colorbar": {
              "outlinewidth": 0,
              "ticks": ""
             }
            },
            "type": "scatterternary"
           }
          ],
          "surface": [
           {
            "colorbar": {
             "outlinewidth": 0,
             "ticks": ""
            },
            "colorscale": [
             [
              0,
              "#0d0887"
             ],
             [
              0.1111111111111111,
              "#46039f"
             ],
             [
              0.2222222222222222,
              "#7201a8"
             ],
             [
              0.3333333333333333,
              "#9c179e"
             ],
             [
              0.4444444444444444,
              "#bd3786"
             ],
             [
              0.5555555555555556,
              "#d8576b"
             ],
             [
              0.6666666666666666,
              "#ed7953"
             ],
             [
              0.7777777777777778,
              "#fb9f3a"
             ],
             [
              0.8888888888888888,
              "#fdca26"
             ],
             [
              1,
              "#f0f921"
             ]
            ],
            "type": "surface"
           }
          ],
          "table": [
           {
            "cells": {
             "fill": {
              "color": "#506784"
             },
             "line": {
              "color": "rgb(17,17,17)"
             }
            },
            "header": {
             "fill": {
              "color": "#2a3f5f"
             },
             "line": {
              "color": "rgb(17,17,17)"
             }
            },
            "type": "table"
           }
          ]
         },
         "layout": {
          "annotationdefaults": {
           "arrowcolor": "#f2f5fa",
           "arrowhead": 0,
           "arrowwidth": 1
          },
          "autotypenumbers": "strict",
          "coloraxis": {
           "colorbar": {
            "outlinewidth": 0,
            "ticks": ""
           }
          },
          "colorscale": {
           "diverging": [
            [
             0,
             "#8e0152"
            ],
            [
             0.1,
             "#c51b7d"
            ],
            [
             0.2,
             "#de77ae"
            ],
            [
             0.3,
             "#f1b6da"
            ],
            [
             0.4,
             "#fde0ef"
            ],
            [
             0.5,
             "#f7f7f7"
            ],
            [
             0.6,
             "#e6f5d0"
            ],
            [
             0.7,
             "#b8e186"
            ],
            [
             0.8,
             "#7fbc41"
            ],
            [
             0.9,
             "#4d9221"
            ],
            [
             1,
             "#276419"
            ]
           ],
           "sequential": [
            [
             0,
             "#0d0887"
            ],
            [
             0.1111111111111111,
             "#46039f"
            ],
            [
             0.2222222222222222,
             "#7201a8"
            ],
            [
             0.3333333333333333,
             "#9c179e"
            ],
            [
             0.4444444444444444,
             "#bd3786"
            ],
            [
             0.5555555555555556,
             "#d8576b"
            ],
            [
             0.6666666666666666,
             "#ed7953"
            ],
            [
             0.7777777777777778,
             "#fb9f3a"
            ],
            [
             0.8888888888888888,
             "#fdca26"
            ],
            [
             1,
             "#f0f921"
            ]
           ],
           "sequentialminus": [
            [
             0,
             "#0d0887"
            ],
            [
             0.1111111111111111,
             "#46039f"
            ],
            [
             0.2222222222222222,
             "#7201a8"
            ],
            [
             0.3333333333333333,
             "#9c179e"
            ],
            [
             0.4444444444444444,
             "#bd3786"
            ],
            [
             0.5555555555555556,
             "#d8576b"
            ],
            [
             0.6666666666666666,
             "#ed7953"
            ],
            [
             0.7777777777777778,
             "#fb9f3a"
            ],
            [
             0.8888888888888888,
             "#fdca26"
            ],
            [
             1,
             "#f0f921"
            ]
           ]
          },
          "colorway": [
           "#636efa",
           "#EF553B",
           "#00cc96",
           "#ab63fa",
           "#FFA15A",
           "#19d3f3",
           "#FF6692",
           "#B6E880",
           "#FF97FF",
           "#FECB52"
          ],
          "font": {
           "color": "#f2f5fa"
          },
          "geo": {
           "bgcolor": "rgb(17,17,17)",
           "lakecolor": "rgb(17,17,17)",
           "landcolor": "rgb(17,17,17)",
           "showlakes": true,
           "showland": true,
           "subunitcolor": "#506784"
          },
          "hoverlabel": {
           "align": "left"
          },
          "hovermode": "closest",
          "mapbox": {
           "style": "dark"
          },
          "paper_bgcolor": "rgb(17,17,17)",
          "plot_bgcolor": "rgb(17,17,17)",
          "polar": {
           "angularaxis": {
            "gridcolor": "#506784",
            "linecolor": "#506784",
            "ticks": ""
           },
           "bgcolor": "rgb(17,17,17)",
           "radialaxis": {
            "gridcolor": "#506784",
            "linecolor": "#506784",
            "ticks": ""
           }
          },
          "scene": {
           "xaxis": {
            "backgroundcolor": "rgb(17,17,17)",
            "gridcolor": "#506784",
            "gridwidth": 2,
            "linecolor": "#506784",
            "showbackground": true,
            "ticks": "",
            "zerolinecolor": "#C8D4E3"
           },
           "yaxis": {
            "backgroundcolor": "rgb(17,17,17)",
            "gridcolor": "#506784",
            "gridwidth": 2,
            "linecolor": "#506784",
            "showbackground": true,
            "ticks": "",
            "zerolinecolor": "#C8D4E3"
           },
           "zaxis": {
            "backgroundcolor": "rgb(17,17,17)",
            "gridcolor": "#506784",
            "gridwidth": 2,
            "linecolor": "#506784",
            "showbackground": true,
            "ticks": "",
            "zerolinecolor": "#C8D4E3"
           }
          },
          "shapedefaults": {
           "line": {
            "color": "#f2f5fa"
           }
          },
          "sliderdefaults": {
           "bgcolor": "#C8D4E3",
           "bordercolor": "rgb(17,17,17)",
           "borderwidth": 1,
           "tickwidth": 0
          },
          "ternary": {
           "aaxis": {
            "gridcolor": "#506784",
            "linecolor": "#506784",
            "ticks": ""
           },
           "baxis": {
            "gridcolor": "#506784",
            "linecolor": "#506784",
            "ticks": ""
           },
           "bgcolor": "rgb(17,17,17)",
           "caxis": {
            "gridcolor": "#506784",
            "linecolor": "#506784",
            "ticks": ""
           }
          },
          "title": {
           "x": 0.05
          },
          "updatemenudefaults": {
           "bgcolor": "#506784",
           "borderwidth": 0
          },
          "xaxis": {
           "automargin": true,
           "gridcolor": "#283442",
           "linecolor": "#506784",
           "ticks": "",
           "title": {
            "standoff": 15
           },
           "zerolinecolor": "#283442",
           "zerolinewidth": 2
          },
          "yaxis": {
           "automargin": true,
           "gridcolor": "#283442",
           "linecolor": "#506784",
           "ticks": "",
           "title": {
            "standoff": 15
           },
           "zerolinecolor": "#283442",
           "zerolinewidth": 2
          }
         }
        },
        "title": {
         "text": "Saldo a liquidar por ano do empenho"
        },
        "xaxis": {
         "anchor": "y",
         "domain": [
          0,
          1
         ],
         "title": {
          "text": "Ano do Empenho"
         }
        },
        "yaxis": {
         "anchor": "x",
         "domain": [
          0,
          1
         ],
         "title": {
          "text": "Saldo a liquidar"
         },
         "type": "log"
        }
       }
      }
     },
     "metadata": {},
     "output_type": "display_data"
    }
   ],
   "source": [
    "# Saldo a liquidar por ano\n",
    "cols = ['ANO', 'A_LIQUIDAR']\n",
    "\n",
    "df_aux = df.loc[:, cols].groupby('ANO').sum().sort_values(by= 'A_LIQUIDAR', ascending=False).reset_index()\n",
    "df_aux = df_aux[df_aux['A_LIQUIDAR'] > 0]\n",
    "fig = px.bar(df_aux, \n",
    "             x='ANO', \n",
    "             y='A_LIQUIDAR',\n",
    "             title='Saldo a liquidar por ano do empenho',\n",
    "             labels={'ANO':'Ano do Empenho', 'A_LIQUIDAR':'Saldo a liquidar'},\n",
    "             text_auto='.3s',\n",
    "             height=400,\n",
    "             log_y=True,\n",
    "             color='A_LIQUIDAR',\n",
    "             color_continuous_scale = 'reds',\n",
    "             template='plotly_dark')\n",
    "fig.update_traces(textposition = 'outside', cliponaxis = False, hovertemplate=None)\n",
    "fig.update_layout(hovermode=\"x unified\")\n",
    "\n",
    "fig.show()"
   ]
  },
  {
   "cell_type": "code",
   "execution_count": 10,
   "metadata": {},
   "outputs": [
    {
     "data": {
      "application/vnd.plotly.v1+json": {
       "config": {
        "plotlyServerURL": "https://plot.ly"
       },
       "data": [
        {
         "alignmentgroup": "True",
         "cliponaxis": false,
         "legendgroup": "",
         "marker": {
          "color": [
           4029072.01,
           1358096.03,
           799904.63
          ],
          "coloraxis": "coloraxis",
          "pattern": {
           "shape": ""
          }
         },
         "name": "",
         "offsetgroup": "",
         "orientation": "v",
         "showlegend": false,
         "textposition": "outside",
         "texttemplate": "%{y:.3s}",
         "type": "bar",
         "x": [
          "GLOBAL",
          "ESTIMATIVO",
          "ORDINARIO"
         ],
         "xaxis": "x",
         "y": [
          4029072.01,
          1358096.03,
          799904.63
         ],
         "yaxis": "y"
        }
       ],
       "layout": {
        "barmode": "relative",
        "coloraxis": {
         "colorbar": {
          "title": {
           "text": "Saldo a liquidar"
          }
         },
         "colorscale": [
          [
           0,
           "rgb(255,245,240)"
          ],
          [
           0.125,
           "rgb(254,224,210)"
          ],
          [
           0.25,
           "rgb(252,187,161)"
          ],
          [
           0.375,
           "rgb(252,146,114)"
          ],
          [
           0.5,
           "rgb(251,106,74)"
          ],
          [
           0.625,
           "rgb(239,59,44)"
          ],
          [
           0.75,
           "rgb(203,24,29)"
          ],
          [
           0.875,
           "rgb(165,15,21)"
          ],
          [
           1,
           "rgb(103,0,13)"
          ]
         ]
        },
        "height": 400,
        "hovermode": "x unified",
        "legend": {
         "tracegroupgap": 0
        },
        "template": {
         "data": {
          "bar": [
           {
            "error_x": {
             "color": "#f2f5fa"
            },
            "error_y": {
             "color": "#f2f5fa"
            },
            "marker": {
             "line": {
              "color": "rgb(17,17,17)",
              "width": 0.5
             },
             "pattern": {
              "fillmode": "overlay",
              "size": 10,
              "solidity": 0.2
             }
            },
            "type": "bar"
           }
          ],
          "barpolar": [
           {
            "marker": {
             "line": {
              "color": "rgb(17,17,17)",
              "width": 0.5
             },
             "pattern": {
              "fillmode": "overlay",
              "size": 10,
              "solidity": 0.2
             }
            },
            "type": "barpolar"
           }
          ],
          "carpet": [
           {
            "aaxis": {
             "endlinecolor": "#A2B1C6",
             "gridcolor": "#506784",
             "linecolor": "#506784",
             "minorgridcolor": "#506784",
             "startlinecolor": "#A2B1C6"
            },
            "baxis": {
             "endlinecolor": "#A2B1C6",
             "gridcolor": "#506784",
             "linecolor": "#506784",
             "minorgridcolor": "#506784",
             "startlinecolor": "#A2B1C6"
            },
            "type": "carpet"
           }
          ],
          "choropleth": [
           {
            "colorbar": {
             "outlinewidth": 0,
             "ticks": ""
            },
            "type": "choropleth"
           }
          ],
          "contour": [
           {
            "colorbar": {
             "outlinewidth": 0,
             "ticks": ""
            },
            "colorscale": [
             [
              0,
              "#0d0887"
             ],
             [
              0.1111111111111111,
              "#46039f"
             ],
             [
              0.2222222222222222,
              "#7201a8"
             ],
             [
              0.3333333333333333,
              "#9c179e"
             ],
             [
              0.4444444444444444,
              "#bd3786"
             ],
             [
              0.5555555555555556,
              "#d8576b"
             ],
             [
              0.6666666666666666,
              "#ed7953"
             ],
             [
              0.7777777777777778,
              "#fb9f3a"
             ],
             [
              0.8888888888888888,
              "#fdca26"
             ],
             [
              1,
              "#f0f921"
             ]
            ],
            "type": "contour"
           }
          ],
          "contourcarpet": [
           {
            "colorbar": {
             "outlinewidth": 0,
             "ticks": ""
            },
            "type": "contourcarpet"
           }
          ],
          "heatmap": [
           {
            "colorbar": {
             "outlinewidth": 0,
             "ticks": ""
            },
            "colorscale": [
             [
              0,
              "#0d0887"
             ],
             [
              0.1111111111111111,
              "#46039f"
             ],
             [
              0.2222222222222222,
              "#7201a8"
             ],
             [
              0.3333333333333333,
              "#9c179e"
             ],
             [
              0.4444444444444444,
              "#bd3786"
             ],
             [
              0.5555555555555556,
              "#d8576b"
             ],
             [
              0.6666666666666666,
              "#ed7953"
             ],
             [
              0.7777777777777778,
              "#fb9f3a"
             ],
             [
              0.8888888888888888,
              "#fdca26"
             ],
             [
              1,
              "#f0f921"
             ]
            ],
            "type": "heatmap"
           }
          ],
          "heatmapgl": [
           {
            "colorbar": {
             "outlinewidth": 0,
             "ticks": ""
            },
            "colorscale": [
             [
              0,
              "#0d0887"
             ],
             [
              0.1111111111111111,
              "#46039f"
             ],
             [
              0.2222222222222222,
              "#7201a8"
             ],
             [
              0.3333333333333333,
              "#9c179e"
             ],
             [
              0.4444444444444444,
              "#bd3786"
             ],
             [
              0.5555555555555556,
              "#d8576b"
             ],
             [
              0.6666666666666666,
              "#ed7953"
             ],
             [
              0.7777777777777778,
              "#fb9f3a"
             ],
             [
              0.8888888888888888,
              "#fdca26"
             ],
             [
              1,
              "#f0f921"
             ]
            ],
            "type": "heatmapgl"
           }
          ],
          "histogram": [
           {
            "marker": {
             "pattern": {
              "fillmode": "overlay",
              "size": 10,
              "solidity": 0.2
             }
            },
            "type": "histogram"
           }
          ],
          "histogram2d": [
           {
            "colorbar": {
             "outlinewidth": 0,
             "ticks": ""
            },
            "colorscale": [
             [
              0,
              "#0d0887"
             ],
             [
              0.1111111111111111,
              "#46039f"
             ],
             [
              0.2222222222222222,
              "#7201a8"
             ],
             [
              0.3333333333333333,
              "#9c179e"
             ],
             [
              0.4444444444444444,
              "#bd3786"
             ],
             [
              0.5555555555555556,
              "#d8576b"
             ],
             [
              0.6666666666666666,
              "#ed7953"
             ],
             [
              0.7777777777777778,
              "#fb9f3a"
             ],
             [
              0.8888888888888888,
              "#fdca26"
             ],
             [
              1,
              "#f0f921"
             ]
            ],
            "type": "histogram2d"
           }
          ],
          "histogram2dcontour": [
           {
            "colorbar": {
             "outlinewidth": 0,
             "ticks": ""
            },
            "colorscale": [
             [
              0,
              "#0d0887"
             ],
             [
              0.1111111111111111,
              "#46039f"
             ],
             [
              0.2222222222222222,
              "#7201a8"
             ],
             [
              0.3333333333333333,
              "#9c179e"
             ],
             [
              0.4444444444444444,
              "#bd3786"
             ],
             [
              0.5555555555555556,
              "#d8576b"
             ],
             [
              0.6666666666666666,
              "#ed7953"
             ],
             [
              0.7777777777777778,
              "#fb9f3a"
             ],
             [
              0.8888888888888888,
              "#fdca26"
             ],
             [
              1,
              "#f0f921"
             ]
            ],
            "type": "histogram2dcontour"
           }
          ],
          "mesh3d": [
           {
            "colorbar": {
             "outlinewidth": 0,
             "ticks": ""
            },
            "type": "mesh3d"
           }
          ],
          "parcoords": [
           {
            "line": {
             "colorbar": {
              "outlinewidth": 0,
              "ticks": ""
             }
            },
            "type": "parcoords"
           }
          ],
          "pie": [
           {
            "automargin": true,
            "type": "pie"
           }
          ],
          "scatter": [
           {
            "marker": {
             "line": {
              "color": "#283442"
             }
            },
            "type": "scatter"
           }
          ],
          "scatter3d": [
           {
            "line": {
             "colorbar": {
              "outlinewidth": 0,
              "ticks": ""
             }
            },
            "marker": {
             "colorbar": {
              "outlinewidth": 0,
              "ticks": ""
             }
            },
            "type": "scatter3d"
           }
          ],
          "scattercarpet": [
           {
            "marker": {
             "colorbar": {
              "outlinewidth": 0,
              "ticks": ""
             }
            },
            "type": "scattercarpet"
           }
          ],
          "scattergeo": [
           {
            "marker": {
             "colorbar": {
              "outlinewidth": 0,
              "ticks": ""
             }
            },
            "type": "scattergeo"
           }
          ],
          "scattergl": [
           {
            "marker": {
             "line": {
              "color": "#283442"
             }
            },
            "type": "scattergl"
           }
          ],
          "scattermapbox": [
           {
            "marker": {
             "colorbar": {
              "outlinewidth": 0,
              "ticks": ""
             }
            },
            "type": "scattermapbox"
           }
          ],
          "scatterpolar": [
           {
            "marker": {
             "colorbar": {
              "outlinewidth": 0,
              "ticks": ""
             }
            },
            "type": "scatterpolar"
           }
          ],
          "scatterpolargl": [
           {
            "marker": {
             "colorbar": {
              "outlinewidth": 0,
              "ticks": ""
             }
            },
            "type": "scatterpolargl"
           }
          ],
          "scatterternary": [
           {
            "marker": {
             "colorbar": {
              "outlinewidth": 0,
              "ticks": ""
             }
            },
            "type": "scatterternary"
           }
          ],
          "surface": [
           {
            "colorbar": {
             "outlinewidth": 0,
             "ticks": ""
            },
            "colorscale": [
             [
              0,
              "#0d0887"
             ],
             [
              0.1111111111111111,
              "#46039f"
             ],
             [
              0.2222222222222222,
              "#7201a8"
             ],
             [
              0.3333333333333333,
              "#9c179e"
             ],
             [
              0.4444444444444444,
              "#bd3786"
             ],
             [
              0.5555555555555556,
              "#d8576b"
             ],
             [
              0.6666666666666666,
              "#ed7953"
             ],
             [
              0.7777777777777778,
              "#fb9f3a"
             ],
             [
              0.8888888888888888,
              "#fdca26"
             ],
             [
              1,
              "#f0f921"
             ]
            ],
            "type": "surface"
           }
          ],
          "table": [
           {
            "cells": {
             "fill": {
              "color": "#506784"
             },
             "line": {
              "color": "rgb(17,17,17)"
             }
            },
            "header": {
             "fill": {
              "color": "#2a3f5f"
             },
             "line": {
              "color": "rgb(17,17,17)"
             }
            },
            "type": "table"
           }
          ]
         },
         "layout": {
          "annotationdefaults": {
           "arrowcolor": "#f2f5fa",
           "arrowhead": 0,
           "arrowwidth": 1
          },
          "autotypenumbers": "strict",
          "coloraxis": {
           "colorbar": {
            "outlinewidth": 0,
            "ticks": ""
           }
          },
          "colorscale": {
           "diverging": [
            [
             0,
             "#8e0152"
            ],
            [
             0.1,
             "#c51b7d"
            ],
            [
             0.2,
             "#de77ae"
            ],
            [
             0.3,
             "#f1b6da"
            ],
            [
             0.4,
             "#fde0ef"
            ],
            [
             0.5,
             "#f7f7f7"
            ],
            [
             0.6,
             "#e6f5d0"
            ],
            [
             0.7,
             "#b8e186"
            ],
            [
             0.8,
             "#7fbc41"
            ],
            [
             0.9,
             "#4d9221"
            ],
            [
             1,
             "#276419"
            ]
           ],
           "sequential": [
            [
             0,
             "#0d0887"
            ],
            [
             0.1111111111111111,
             "#46039f"
            ],
            [
             0.2222222222222222,
             "#7201a8"
            ],
            [
             0.3333333333333333,
             "#9c179e"
            ],
            [
             0.4444444444444444,
             "#bd3786"
            ],
            [
             0.5555555555555556,
             "#d8576b"
            ],
            [
             0.6666666666666666,
             "#ed7953"
            ],
            [
             0.7777777777777778,
             "#fb9f3a"
            ],
            [
             0.8888888888888888,
             "#fdca26"
            ],
            [
             1,
             "#f0f921"
            ]
           ],
           "sequentialminus": [
            [
             0,
             "#0d0887"
            ],
            [
             0.1111111111111111,
             "#46039f"
            ],
            [
             0.2222222222222222,
             "#7201a8"
            ],
            [
             0.3333333333333333,
             "#9c179e"
            ],
            [
             0.4444444444444444,
             "#bd3786"
            ],
            [
             0.5555555555555556,
             "#d8576b"
            ],
            [
             0.6666666666666666,
             "#ed7953"
            ],
            [
             0.7777777777777778,
             "#fb9f3a"
            ],
            [
             0.8888888888888888,
             "#fdca26"
            ],
            [
             1,
             "#f0f921"
            ]
           ]
          },
          "colorway": [
           "#636efa",
           "#EF553B",
           "#00cc96",
           "#ab63fa",
           "#FFA15A",
           "#19d3f3",
           "#FF6692",
           "#B6E880",
           "#FF97FF",
           "#FECB52"
          ],
          "font": {
           "color": "#f2f5fa"
          },
          "geo": {
           "bgcolor": "rgb(17,17,17)",
           "lakecolor": "rgb(17,17,17)",
           "landcolor": "rgb(17,17,17)",
           "showlakes": true,
           "showland": true,
           "subunitcolor": "#506784"
          },
          "hoverlabel": {
           "align": "left"
          },
          "hovermode": "closest",
          "mapbox": {
           "style": "dark"
          },
          "paper_bgcolor": "rgb(17,17,17)",
          "plot_bgcolor": "rgb(17,17,17)",
          "polar": {
           "angularaxis": {
            "gridcolor": "#506784",
            "linecolor": "#506784",
            "ticks": ""
           },
           "bgcolor": "rgb(17,17,17)",
           "radialaxis": {
            "gridcolor": "#506784",
            "linecolor": "#506784",
            "ticks": ""
           }
          },
          "scene": {
           "xaxis": {
            "backgroundcolor": "rgb(17,17,17)",
            "gridcolor": "#506784",
            "gridwidth": 2,
            "linecolor": "#506784",
            "showbackground": true,
            "ticks": "",
            "zerolinecolor": "#C8D4E3"
           },
           "yaxis": {
            "backgroundcolor": "rgb(17,17,17)",
            "gridcolor": "#506784",
            "gridwidth": 2,
            "linecolor": "#506784",
            "showbackground": true,
            "ticks": "",
            "zerolinecolor": "#C8D4E3"
           },
           "zaxis": {
            "backgroundcolor": "rgb(17,17,17)",
            "gridcolor": "#506784",
            "gridwidth": 2,
            "linecolor": "#506784",
            "showbackground": true,
            "ticks": "",
            "zerolinecolor": "#C8D4E3"
           }
          },
          "shapedefaults": {
           "line": {
            "color": "#f2f5fa"
           }
          },
          "sliderdefaults": {
           "bgcolor": "#C8D4E3",
           "bordercolor": "rgb(17,17,17)",
           "borderwidth": 1,
           "tickwidth": 0
          },
          "ternary": {
           "aaxis": {
            "gridcolor": "#506784",
            "linecolor": "#506784",
            "ticks": ""
           },
           "baxis": {
            "gridcolor": "#506784",
            "linecolor": "#506784",
            "ticks": ""
           },
           "bgcolor": "rgb(17,17,17)",
           "caxis": {
            "gridcolor": "#506784",
            "linecolor": "#506784",
            "ticks": ""
           }
          },
          "title": {
           "x": 0.05
          },
          "updatemenudefaults": {
           "bgcolor": "#506784",
           "borderwidth": 0
          },
          "xaxis": {
           "automargin": true,
           "gridcolor": "#283442",
           "linecolor": "#506784",
           "ticks": "",
           "title": {
            "standoff": 15
           },
           "zerolinecolor": "#283442",
           "zerolinewidth": 2
          },
          "yaxis": {
           "automargin": true,
           "gridcolor": "#283442",
           "linecolor": "#506784",
           "ticks": "",
           "title": {
            "standoff": 15
           },
           "zerolinecolor": "#283442",
           "zerolinewidth": 2
          }
         }
        },
        "title": {
         "text": "Saldo a liquidar por ano do empenho"
        },
        "xaxis": {
         "anchor": "y",
         "domain": [
          0,
          1
         ],
         "title": {
          "text": "Tipo de Nota de Empenho"
         }
        },
        "yaxis": {
         "anchor": "x",
         "domain": [
          0,
          1
         ],
         "title": {
          "text": "Saldo a liquidar"
         },
         "type": "log"
        }
       }
      }
     },
     "metadata": {},
     "output_type": "display_data"
    }
   ],
   "source": [
    "# Saldo a liquidar por tipo de NE\n",
    "cols = ['TIPO_NE', 'A_LIQUIDAR']\n",
    "\n",
    "df_aux = df.loc[:, cols].groupby('TIPO_NE').sum().sort_values(by= 'A_LIQUIDAR', ascending=False).reset_index()\n",
    "df_aux = df_aux[df_aux['A_LIQUIDAR'] > 0]\n",
    "fig = px.bar(df_aux, \n",
    "             x='TIPO_NE', \n",
    "             y='A_LIQUIDAR',\n",
    "             title='Saldo a liquidar por ano do empenho',\n",
    "             labels={'TIPO_NE':'Tipo de Nota de Empenho', 'A_LIQUIDAR':'Saldo a liquidar'},\n",
    "             text_auto='.3s',\n",
    "             height=400,\n",
    "             log_y=True,\n",
    "             color='A_LIQUIDAR',\n",
    "             color_continuous_scale = 'reds',\n",
    "             template='plotly_dark')\n",
    "fig.update_traces(textposition = 'outside', cliponaxis = False, hovertemplate=None)\n",
    "fig.update_layout(hovermode=\"x unified\")\n",
    "\n",
    "fig.show()"
   ]
  },
  {
   "cell_type": "code",
   "execution_count": 11,
   "metadata": {},
   "outputs": [
    {
     "data": {
      "application/vnd.plotly.v1+json": {
       "config": {
        "plotlyServerURL": "https://plot.ly"
       },
       "data": [
        {
         "alignmentgroup": "True",
         "cliponaxis": false,
         "legendgroup": "",
         "marker": {
          "color": [
           1798350.42,
           1099753.59,
           1036789.13,
           836376.53,
           609660.16,
           522274.86,
           269068.37,
           9286.39,
           4117.22,
           1396
          ],
          "coloraxis": "coloraxis",
          "pattern": {
           "shape": ""
          }
         },
         "name": "",
         "offsetgroup": "",
         "orientation": "v",
         "showlegend": false,
         "textposition": "outside",
         "texttemplate": "%{y:.3s}",
         "type": "bar",
         "x": [
          "DECEX/GESTOR",
          "COEX/GESTOR",
          "DGP",
          "DGO",
          "DEC-GESTOR",
          "ESA",
          "DECEX - GESTOR",
          "COTER - GESTOR",
          "COEX - GESTOR",
          "DCT - GESTOR"
         ],
         "xaxis": "x",
         "y": [
          1798350.42,
          1099753.59,
          1036789.13,
          836376.53,
          609660.16,
          522274.86,
          269068.37,
          9286.39,
          4117.22,
          1396
         ],
         "yaxis": "y"
        }
       ],
       "layout": {
        "barmode": "relative",
        "coloraxis": {
         "colorbar": {
          "title": {
           "text": "Saldo a liquidar"
          }
         },
         "colorscale": [
          [
           0,
           "rgb(255,245,240)"
          ],
          [
           0.125,
           "rgb(254,224,210)"
          ],
          [
           0.25,
           "rgb(252,187,161)"
          ],
          [
           0.375,
           "rgb(252,146,114)"
          ],
          [
           0.5,
           "rgb(251,106,74)"
          ],
          [
           0.625,
           "rgb(239,59,44)"
          ],
          [
           0.75,
           "rgb(203,24,29)"
          ],
          [
           0.875,
           "rgb(165,15,21)"
          ],
          [
           1,
           "rgb(103,0,13)"
          ]
         ]
        },
        "height": 400,
        "hovermode": "x unified",
        "legend": {
         "tracegroupgap": 0
        },
        "template": {
         "data": {
          "bar": [
           {
            "error_x": {
             "color": "#f2f5fa"
            },
            "error_y": {
             "color": "#f2f5fa"
            },
            "marker": {
             "line": {
              "color": "rgb(17,17,17)",
              "width": 0.5
             },
             "pattern": {
              "fillmode": "overlay",
              "size": 10,
              "solidity": 0.2
             }
            },
            "type": "bar"
           }
          ],
          "barpolar": [
           {
            "marker": {
             "line": {
              "color": "rgb(17,17,17)",
              "width": 0.5
             },
             "pattern": {
              "fillmode": "overlay",
              "size": 10,
              "solidity": 0.2
             }
            },
            "type": "barpolar"
           }
          ],
          "carpet": [
           {
            "aaxis": {
             "endlinecolor": "#A2B1C6",
             "gridcolor": "#506784",
             "linecolor": "#506784",
             "minorgridcolor": "#506784",
             "startlinecolor": "#A2B1C6"
            },
            "baxis": {
             "endlinecolor": "#A2B1C6",
             "gridcolor": "#506784",
             "linecolor": "#506784",
             "minorgridcolor": "#506784",
             "startlinecolor": "#A2B1C6"
            },
            "type": "carpet"
           }
          ],
          "choropleth": [
           {
            "colorbar": {
             "outlinewidth": 0,
             "ticks": ""
            },
            "type": "choropleth"
           }
          ],
          "contour": [
           {
            "colorbar": {
             "outlinewidth": 0,
             "ticks": ""
            },
            "colorscale": [
             [
              0,
              "#0d0887"
             ],
             [
              0.1111111111111111,
              "#46039f"
             ],
             [
              0.2222222222222222,
              "#7201a8"
             ],
             [
              0.3333333333333333,
              "#9c179e"
             ],
             [
              0.4444444444444444,
              "#bd3786"
             ],
             [
              0.5555555555555556,
              "#d8576b"
             ],
             [
              0.6666666666666666,
              "#ed7953"
             ],
             [
              0.7777777777777778,
              "#fb9f3a"
             ],
             [
              0.8888888888888888,
              "#fdca26"
             ],
             [
              1,
              "#f0f921"
             ]
            ],
            "type": "contour"
           }
          ],
          "contourcarpet": [
           {
            "colorbar": {
             "outlinewidth": 0,
             "ticks": ""
            },
            "type": "contourcarpet"
           }
          ],
          "heatmap": [
           {
            "colorbar": {
             "outlinewidth": 0,
             "ticks": ""
            },
            "colorscale": [
             [
              0,
              "#0d0887"
             ],
             [
              0.1111111111111111,
              "#46039f"
             ],
             [
              0.2222222222222222,
              "#7201a8"
             ],
             [
              0.3333333333333333,
              "#9c179e"
             ],
             [
              0.4444444444444444,
              "#bd3786"
             ],
             [
              0.5555555555555556,
              "#d8576b"
             ],
             [
              0.6666666666666666,
              "#ed7953"
             ],
             [
              0.7777777777777778,
              "#fb9f3a"
             ],
             [
              0.8888888888888888,
              "#fdca26"
             ],
             [
              1,
              "#f0f921"
             ]
            ],
            "type": "heatmap"
           }
          ],
          "heatmapgl": [
           {
            "colorbar": {
             "outlinewidth": 0,
             "ticks": ""
            },
            "colorscale": [
             [
              0,
              "#0d0887"
             ],
             [
              0.1111111111111111,
              "#46039f"
             ],
             [
              0.2222222222222222,
              "#7201a8"
             ],
             [
              0.3333333333333333,
              "#9c179e"
             ],
             [
              0.4444444444444444,
              "#bd3786"
             ],
             [
              0.5555555555555556,
              "#d8576b"
             ],
             [
              0.6666666666666666,
              "#ed7953"
             ],
             [
              0.7777777777777778,
              "#fb9f3a"
             ],
             [
              0.8888888888888888,
              "#fdca26"
             ],
             [
              1,
              "#f0f921"
             ]
            ],
            "type": "heatmapgl"
           }
          ],
          "histogram": [
           {
            "marker": {
             "pattern": {
              "fillmode": "overlay",
              "size": 10,
              "solidity": 0.2
             }
            },
            "type": "histogram"
           }
          ],
          "histogram2d": [
           {
            "colorbar": {
             "outlinewidth": 0,
             "ticks": ""
            },
            "colorscale": [
             [
              0,
              "#0d0887"
             ],
             [
              0.1111111111111111,
              "#46039f"
             ],
             [
              0.2222222222222222,
              "#7201a8"
             ],
             [
              0.3333333333333333,
              "#9c179e"
             ],
             [
              0.4444444444444444,
              "#bd3786"
             ],
             [
              0.5555555555555556,
              "#d8576b"
             ],
             [
              0.6666666666666666,
              "#ed7953"
             ],
             [
              0.7777777777777778,
              "#fb9f3a"
             ],
             [
              0.8888888888888888,
              "#fdca26"
             ],
             [
              1,
              "#f0f921"
             ]
            ],
            "type": "histogram2d"
           }
          ],
          "histogram2dcontour": [
           {
            "colorbar": {
             "outlinewidth": 0,
             "ticks": ""
            },
            "colorscale": [
             [
              0,
              "#0d0887"
             ],
             [
              0.1111111111111111,
              "#46039f"
             ],
             [
              0.2222222222222222,
              "#7201a8"
             ],
             [
              0.3333333333333333,
              "#9c179e"
             ],
             [
              0.4444444444444444,
              "#bd3786"
             ],
             [
              0.5555555555555556,
              "#d8576b"
             ],
             [
              0.6666666666666666,
              "#ed7953"
             ],
             [
              0.7777777777777778,
              "#fb9f3a"
             ],
             [
              0.8888888888888888,
              "#fdca26"
             ],
             [
              1,
              "#f0f921"
             ]
            ],
            "type": "histogram2dcontour"
           }
          ],
          "mesh3d": [
           {
            "colorbar": {
             "outlinewidth": 0,
             "ticks": ""
            },
            "type": "mesh3d"
           }
          ],
          "parcoords": [
           {
            "line": {
             "colorbar": {
              "outlinewidth": 0,
              "ticks": ""
             }
            },
            "type": "parcoords"
           }
          ],
          "pie": [
           {
            "automargin": true,
            "type": "pie"
           }
          ],
          "scatter": [
           {
            "marker": {
             "line": {
              "color": "#283442"
             }
            },
            "type": "scatter"
           }
          ],
          "scatter3d": [
           {
            "line": {
             "colorbar": {
              "outlinewidth": 0,
              "ticks": ""
             }
            },
            "marker": {
             "colorbar": {
              "outlinewidth": 0,
              "ticks": ""
             }
            },
            "type": "scatter3d"
           }
          ],
          "scattercarpet": [
           {
            "marker": {
             "colorbar": {
              "outlinewidth": 0,
              "ticks": ""
             }
            },
            "type": "scattercarpet"
           }
          ],
          "scattergeo": [
           {
            "marker": {
             "colorbar": {
              "outlinewidth": 0,
              "ticks": ""
             }
            },
            "type": "scattergeo"
           }
          ],
          "scattergl": [
           {
            "marker": {
             "line": {
              "color": "#283442"
             }
            },
            "type": "scattergl"
           }
          ],
          "scattermapbox": [
           {
            "marker": {
             "colorbar": {
              "outlinewidth": 0,
              "ticks": ""
             }
            },
            "type": "scattermapbox"
           }
          ],
          "scatterpolar": [
           {
            "marker": {
             "colorbar": {
              "outlinewidth": 0,
              "ticks": ""
             }
            },
            "type": "scatterpolar"
           }
          ],
          "scatterpolargl": [
           {
            "marker": {
             "colorbar": {
              "outlinewidth": 0,
              "ticks": ""
             }
            },
            "type": "scatterpolargl"
           }
          ],
          "scatterternary": [
           {
            "marker": {
             "colorbar": {
              "outlinewidth": 0,
              "ticks": ""
             }
            },
            "type": "scatterternary"
           }
          ],
          "surface": [
           {
            "colorbar": {
             "outlinewidth": 0,
             "ticks": ""
            },
            "colorscale": [
             [
              0,
              "#0d0887"
             ],
             [
              0.1111111111111111,
              "#46039f"
             ],
             [
              0.2222222222222222,
              "#7201a8"
             ],
             [
              0.3333333333333333,
              "#9c179e"
             ],
             [
              0.4444444444444444,
              "#bd3786"
             ],
             [
              0.5555555555555556,
              "#d8576b"
             ],
             [
              0.6666666666666666,
              "#ed7953"
             ],
             [
              0.7777777777777778,
              "#fb9f3a"
             ],
             [
              0.8888888888888888,
              "#fdca26"
             ],
             [
              1,
              "#f0f921"
             ]
            ],
            "type": "surface"
           }
          ],
          "table": [
           {
            "cells": {
             "fill": {
              "color": "#506784"
             },
             "line": {
              "color": "rgb(17,17,17)"
             }
            },
            "header": {
             "fill": {
              "color": "#2a3f5f"
             },
             "line": {
              "color": "rgb(17,17,17)"
             }
            },
            "type": "table"
           }
          ]
         },
         "layout": {
          "annotationdefaults": {
           "arrowcolor": "#f2f5fa",
           "arrowhead": 0,
           "arrowwidth": 1
          },
          "autotypenumbers": "strict",
          "coloraxis": {
           "colorbar": {
            "outlinewidth": 0,
            "ticks": ""
           }
          },
          "colorscale": {
           "diverging": [
            [
             0,
             "#8e0152"
            ],
            [
             0.1,
             "#c51b7d"
            ],
            [
             0.2,
             "#de77ae"
            ],
            [
             0.3,
             "#f1b6da"
            ],
            [
             0.4,
             "#fde0ef"
            ],
            [
             0.5,
             "#f7f7f7"
            ],
            [
             0.6,
             "#e6f5d0"
            ],
            [
             0.7,
             "#b8e186"
            ],
            [
             0.8,
             "#7fbc41"
            ],
            [
             0.9,
             "#4d9221"
            ],
            [
             1,
             "#276419"
            ]
           ],
           "sequential": [
            [
             0,
             "#0d0887"
            ],
            [
             0.1111111111111111,
             "#46039f"
            ],
            [
             0.2222222222222222,
             "#7201a8"
            ],
            [
             0.3333333333333333,
             "#9c179e"
            ],
            [
             0.4444444444444444,
             "#bd3786"
            ],
            [
             0.5555555555555556,
             "#d8576b"
            ],
            [
             0.6666666666666666,
             "#ed7953"
            ],
            [
             0.7777777777777778,
             "#fb9f3a"
            ],
            [
             0.8888888888888888,
             "#fdca26"
            ],
            [
             1,
             "#f0f921"
            ]
           ],
           "sequentialminus": [
            [
             0,
             "#0d0887"
            ],
            [
             0.1111111111111111,
             "#46039f"
            ],
            [
             0.2222222222222222,
             "#7201a8"
            ],
            [
             0.3333333333333333,
             "#9c179e"
            ],
            [
             0.4444444444444444,
             "#bd3786"
            ],
            [
             0.5555555555555556,
             "#d8576b"
            ],
            [
             0.6666666666666666,
             "#ed7953"
            ],
            [
             0.7777777777777778,
             "#fb9f3a"
            ],
            [
             0.8888888888888888,
             "#fdca26"
            ],
            [
             1,
             "#f0f921"
            ]
           ]
          },
          "colorway": [
           "#636efa",
           "#EF553B",
           "#00cc96",
           "#ab63fa",
           "#FFA15A",
           "#19d3f3",
           "#FF6692",
           "#B6E880",
           "#FF97FF",
           "#FECB52"
          ],
          "font": {
           "color": "#f2f5fa"
          },
          "geo": {
           "bgcolor": "rgb(17,17,17)",
           "lakecolor": "rgb(17,17,17)",
           "landcolor": "rgb(17,17,17)",
           "showlakes": true,
           "showland": true,
           "subunitcolor": "#506784"
          },
          "hoverlabel": {
           "align": "left"
          },
          "hovermode": "closest",
          "mapbox": {
           "style": "dark"
          },
          "paper_bgcolor": "rgb(17,17,17)",
          "plot_bgcolor": "rgb(17,17,17)",
          "polar": {
           "angularaxis": {
            "gridcolor": "#506784",
            "linecolor": "#506784",
            "ticks": ""
           },
           "bgcolor": "rgb(17,17,17)",
           "radialaxis": {
            "gridcolor": "#506784",
            "linecolor": "#506784",
            "ticks": ""
           }
          },
          "scene": {
           "xaxis": {
            "backgroundcolor": "rgb(17,17,17)",
            "gridcolor": "#506784",
            "gridwidth": 2,
            "linecolor": "#506784",
            "showbackground": true,
            "ticks": "",
            "zerolinecolor": "#C8D4E3"
           },
           "yaxis": {
            "backgroundcolor": "rgb(17,17,17)",
            "gridcolor": "#506784",
            "gridwidth": 2,
            "linecolor": "#506784",
            "showbackground": true,
            "ticks": "",
            "zerolinecolor": "#C8D4E3"
           },
           "zaxis": {
            "backgroundcolor": "rgb(17,17,17)",
            "gridcolor": "#506784",
            "gridwidth": 2,
            "linecolor": "#506784",
            "showbackground": true,
            "ticks": "",
            "zerolinecolor": "#C8D4E3"
           }
          },
          "shapedefaults": {
           "line": {
            "color": "#f2f5fa"
           }
          },
          "sliderdefaults": {
           "bgcolor": "#C8D4E3",
           "bordercolor": "rgb(17,17,17)",
           "borderwidth": 1,
           "tickwidth": 0
          },
          "ternary": {
           "aaxis": {
            "gridcolor": "#506784",
            "linecolor": "#506784",
            "ticks": ""
           },
           "baxis": {
            "gridcolor": "#506784",
            "linecolor": "#506784",
            "ticks": ""
           },
           "bgcolor": "rgb(17,17,17)",
           "caxis": {
            "gridcolor": "#506784",
            "linecolor": "#506784",
            "ticks": ""
           }
          },
          "title": {
           "x": 0.05
          },
          "updatemenudefaults": {
           "bgcolor": "#506784",
           "borderwidth": 0
          },
          "xaxis": {
           "automargin": true,
           "gridcolor": "#283442",
           "linecolor": "#506784",
           "ticks": "",
           "title": {
            "standoff": 15
           },
           "zerolinecolor": "#283442",
           "zerolinewidth": 2
          },
          "yaxis": {
           "automargin": true,
           "gridcolor": "#283442",
           "linecolor": "#506784",
           "ticks": "",
           "title": {
            "standoff": 15
           },
           "zerolinecolor": "#283442",
           "zerolinewidth": 2
          }
         }
        },
        "title": {
         "text": "Saldo a liquidar por ano do empenho"
        },
        "xaxis": {
         "anchor": "y",
         "domain": [
          0,
          1
         ],
         "title": {
          "text": "Nome das UGR"
         }
        },
        "yaxis": {
         "anchor": "x",
         "domain": [
          0,
          1
         ],
         "title": {
          "text": "Saldo a liquidar"
         },
         "type": "log"
        }
       }
      }
     },
     "metadata": {},
     "output_type": "display_data"
    }
   ],
   "source": [
    "# Saldo a liquidar por tipo de NE\n",
    "cols = ['NOME_UGR', 'A_LIQUIDAR']\n",
    "\n",
    "df_aux = df.loc[:, cols].groupby('NOME_UGR').sum().sort_values(by= 'A_LIQUIDAR', ascending=False).reset_index()\n",
    "df_aux = df_aux[df_aux['A_LIQUIDAR'] > 0]\n",
    "fig = px.bar(df_aux, \n",
    "             x='NOME_UGR', \n",
    "             y='A_LIQUIDAR',\n",
    "             title='Saldo a liquidar por ano do empenho',\n",
    "             labels={'NOME_UGR':'Nome das UGR', 'A_LIQUIDAR':'Saldo a liquidar'},\n",
    "             text_auto='.3s',\n",
    "             height=400,\n",
    "             log_y=True,\n",
    "             color='A_LIQUIDAR',\n",
    "             color_continuous_scale = 'reds',\n",
    "             template='plotly_dark')\n",
    "fig.update_traces(textposition = 'outside', cliponaxis = False, hovertemplate=None)\n",
    "fig.update_layout(hovermode=\"x unified\")\n",
    "\n",
    "fig.show()"
   ]
  },
  {
   "cell_type": "code",
   "execution_count": 12,
   "metadata": {},
   "outputs": [
    {
     "data": {
      "application/vnd.plotly.v1+json": {
       "config": {
        "plotlyServerURL": "https://plot.ly"
       },
       "data": [
        {
         "cliponaxis": false,
         "name": "A Liquidar",
         "textposition": "outside",
         "type": "bar",
         "x": [
          "339039",
          "339033",
          "339030",
          "339015",
          "339093",
          "339037",
          "449052",
          "339040",
          "339047",
          "339036",
          "339147"
         ],
         "y": [
          2013096.2899999998,
          1693273.77,
          1139351.8,
          343280.12,
          296752.89999999997,
          294990.91000000003,
          259740.72,
          144030.38999999998,
          1959,
          497.32,
          99.44999999999999
         ]
        },
        {
         "cliponaxis": false,
         "name": "Liquidado a pagar",
         "textposition": "outside",
         "type": "bar",
         "x": [
          "339039",
          "339033",
          "339030",
          "339015",
          "339093",
          "339037",
          "449052",
          "339040",
          "339047",
          "339036",
          "339147"
         ],
         "y": [
          116963.33,
          49361.91,
          334874.64,
          89209.48999999999,
          2004173.9,
          6813.1900000000005,
          3402.3399999999997,
          1265.83,
          0,
          2077.15,
          2842.31
         ]
        },
        {
         "cliponaxis": false,
         "name": "Pago",
         "textposition": "outside",
         "type": "bar",
         "x": [
          "339039",
          "339033",
          "339030",
          "339015",
          "339093",
          "339037",
          "449052",
          "339040",
          "339047",
          "339036",
          "339147"
         ],
         "y": [
          15301686.67,
          1374848.66,
          4216247.48,
          461600.09,
          3675203.05,
          495304.48,
          2039168.44,
          221372.3,
          52035.490000000005,
          205022.86000000002,
          38577.67
         ]
        }
       ],
       "layout": {
        "hovermode": "x unified",
        "template": {
         "data": {
          "bar": [
           {
            "error_x": {
             "color": "#2a3f5f"
            },
            "error_y": {
             "color": "#2a3f5f"
            },
            "marker": {
             "line": {
              "color": "#E5ECF6",
              "width": 0.5
             },
             "pattern": {
              "fillmode": "overlay",
              "size": 10,
              "solidity": 0.2
             }
            },
            "type": "bar"
           }
          ],
          "barpolar": [
           {
            "marker": {
             "line": {
              "color": "#E5ECF6",
              "width": 0.5
             },
             "pattern": {
              "fillmode": "overlay",
              "size": 10,
              "solidity": 0.2
             }
            },
            "type": "barpolar"
           }
          ],
          "carpet": [
           {
            "aaxis": {
             "endlinecolor": "#2a3f5f",
             "gridcolor": "white",
             "linecolor": "white",
             "minorgridcolor": "white",
             "startlinecolor": "#2a3f5f"
            },
            "baxis": {
             "endlinecolor": "#2a3f5f",
             "gridcolor": "white",
             "linecolor": "white",
             "minorgridcolor": "white",
             "startlinecolor": "#2a3f5f"
            },
            "type": "carpet"
           }
          ],
          "choropleth": [
           {
            "colorbar": {
             "outlinewidth": 0,
             "ticks": ""
            },
            "type": "choropleth"
           }
          ],
          "contour": [
           {
            "colorbar": {
             "outlinewidth": 0,
             "ticks": ""
            },
            "colorscale": [
             [
              0,
              "#0d0887"
             ],
             [
              0.1111111111111111,
              "#46039f"
             ],
             [
              0.2222222222222222,
              "#7201a8"
             ],
             [
              0.3333333333333333,
              "#9c179e"
             ],
             [
              0.4444444444444444,
              "#bd3786"
             ],
             [
              0.5555555555555556,
              "#d8576b"
             ],
             [
              0.6666666666666666,
              "#ed7953"
             ],
             [
              0.7777777777777778,
              "#fb9f3a"
             ],
             [
              0.8888888888888888,
              "#fdca26"
             ],
             [
              1,
              "#f0f921"
             ]
            ],
            "type": "contour"
           }
          ],
          "contourcarpet": [
           {
            "colorbar": {
             "outlinewidth": 0,
             "ticks": ""
            },
            "type": "contourcarpet"
           }
          ],
          "heatmap": [
           {
            "colorbar": {
             "outlinewidth": 0,
             "ticks": ""
            },
            "colorscale": [
             [
              0,
              "#0d0887"
             ],
             [
              0.1111111111111111,
              "#46039f"
             ],
             [
              0.2222222222222222,
              "#7201a8"
             ],
             [
              0.3333333333333333,
              "#9c179e"
             ],
             [
              0.4444444444444444,
              "#bd3786"
             ],
             [
              0.5555555555555556,
              "#d8576b"
             ],
             [
              0.6666666666666666,
              "#ed7953"
             ],
             [
              0.7777777777777778,
              "#fb9f3a"
             ],
             [
              0.8888888888888888,
              "#fdca26"
             ],
             [
              1,
              "#f0f921"
             ]
            ],
            "type": "heatmap"
           }
          ],
          "heatmapgl": [
           {
            "colorbar": {
             "outlinewidth": 0,
             "ticks": ""
            },
            "colorscale": [
             [
              0,
              "#0d0887"
             ],
             [
              0.1111111111111111,
              "#46039f"
             ],
             [
              0.2222222222222222,
              "#7201a8"
             ],
             [
              0.3333333333333333,
              "#9c179e"
             ],
             [
              0.4444444444444444,
              "#bd3786"
             ],
             [
              0.5555555555555556,
              "#d8576b"
             ],
             [
              0.6666666666666666,
              "#ed7953"
             ],
             [
              0.7777777777777778,
              "#fb9f3a"
             ],
             [
              0.8888888888888888,
              "#fdca26"
             ],
             [
              1,
              "#f0f921"
             ]
            ],
            "type": "heatmapgl"
           }
          ],
          "histogram": [
           {
            "marker": {
             "pattern": {
              "fillmode": "overlay",
              "size": 10,
              "solidity": 0.2
             }
            },
            "type": "histogram"
           }
          ],
          "histogram2d": [
           {
            "colorbar": {
             "outlinewidth": 0,
             "ticks": ""
            },
            "colorscale": [
             [
              0,
              "#0d0887"
             ],
             [
              0.1111111111111111,
              "#46039f"
             ],
             [
              0.2222222222222222,
              "#7201a8"
             ],
             [
              0.3333333333333333,
              "#9c179e"
             ],
             [
              0.4444444444444444,
              "#bd3786"
             ],
             [
              0.5555555555555556,
              "#d8576b"
             ],
             [
              0.6666666666666666,
              "#ed7953"
             ],
             [
              0.7777777777777778,
              "#fb9f3a"
             ],
             [
              0.8888888888888888,
              "#fdca26"
             ],
             [
              1,
              "#f0f921"
             ]
            ],
            "type": "histogram2d"
           }
          ],
          "histogram2dcontour": [
           {
            "colorbar": {
             "outlinewidth": 0,
             "ticks": ""
            },
            "colorscale": [
             [
              0,
              "#0d0887"
             ],
             [
              0.1111111111111111,
              "#46039f"
             ],
             [
              0.2222222222222222,
              "#7201a8"
             ],
             [
              0.3333333333333333,
              "#9c179e"
             ],
             [
              0.4444444444444444,
              "#bd3786"
             ],
             [
              0.5555555555555556,
              "#d8576b"
             ],
             [
              0.6666666666666666,
              "#ed7953"
             ],
             [
              0.7777777777777778,
              "#fb9f3a"
             ],
             [
              0.8888888888888888,
              "#fdca26"
             ],
             [
              1,
              "#f0f921"
             ]
            ],
            "type": "histogram2dcontour"
           }
          ],
          "mesh3d": [
           {
            "colorbar": {
             "outlinewidth": 0,
             "ticks": ""
            },
            "type": "mesh3d"
           }
          ],
          "parcoords": [
           {
            "line": {
             "colorbar": {
              "outlinewidth": 0,
              "ticks": ""
             }
            },
            "type": "parcoords"
           }
          ],
          "pie": [
           {
            "automargin": true,
            "type": "pie"
           }
          ],
          "scatter": [
           {
            "fillpattern": {
             "fillmode": "overlay",
             "size": 10,
             "solidity": 0.2
            },
            "type": "scatter"
           }
          ],
          "scatter3d": [
           {
            "line": {
             "colorbar": {
              "outlinewidth": 0,
              "ticks": ""
             }
            },
            "marker": {
             "colorbar": {
              "outlinewidth": 0,
              "ticks": ""
             }
            },
            "type": "scatter3d"
           }
          ],
          "scattercarpet": [
           {
            "marker": {
             "colorbar": {
              "outlinewidth": 0,
              "ticks": ""
             }
            },
            "type": "scattercarpet"
           }
          ],
          "scattergeo": [
           {
            "marker": {
             "colorbar": {
              "outlinewidth": 0,
              "ticks": ""
             }
            },
            "type": "scattergeo"
           }
          ],
          "scattergl": [
           {
            "marker": {
             "colorbar": {
              "outlinewidth": 0,
              "ticks": ""
             }
            },
            "type": "scattergl"
           }
          ],
          "scattermapbox": [
           {
            "marker": {
             "colorbar": {
              "outlinewidth": 0,
              "ticks": ""
             }
            },
            "type": "scattermapbox"
           }
          ],
          "scatterpolar": [
           {
            "marker": {
             "colorbar": {
              "outlinewidth": 0,
              "ticks": ""
             }
            },
            "type": "scatterpolar"
           }
          ],
          "scatterpolargl": [
           {
            "marker": {
             "colorbar": {
              "outlinewidth": 0,
              "ticks": ""
             }
            },
            "type": "scatterpolargl"
           }
          ],
          "scatterternary": [
           {
            "marker": {
             "colorbar": {
              "outlinewidth": 0,
              "ticks": ""
             }
            },
            "type": "scatterternary"
           }
          ],
          "surface": [
           {
            "colorbar": {
             "outlinewidth": 0,
             "ticks": ""
            },
            "colorscale": [
             [
              0,
              "#0d0887"
             ],
             [
              0.1111111111111111,
              "#46039f"
             ],
             [
              0.2222222222222222,
              "#7201a8"
             ],
             [
              0.3333333333333333,
              "#9c179e"
             ],
             [
              0.4444444444444444,
              "#bd3786"
             ],
             [
              0.5555555555555556,
              "#d8576b"
             ],
             [
              0.6666666666666666,
              "#ed7953"
             ],
             [
              0.7777777777777778,
              "#fb9f3a"
             ],
             [
              0.8888888888888888,
              "#fdca26"
             ],
             [
              1,
              "#f0f921"
             ]
            ],
            "type": "surface"
           }
          ],
          "table": [
           {
            "cells": {
             "fill": {
              "color": "#EBF0F8"
             },
             "line": {
              "color": "white"
             }
            },
            "header": {
             "fill": {
              "color": "#C8D4E3"
             },
             "line": {
              "color": "white"
             }
            },
            "type": "table"
           }
          ]
         },
         "layout": {
          "annotationdefaults": {
           "arrowcolor": "#2a3f5f",
           "arrowhead": 0,
           "arrowwidth": 1
          },
          "autotypenumbers": "strict",
          "coloraxis": {
           "colorbar": {
            "outlinewidth": 0,
            "ticks": ""
           }
          },
          "colorscale": {
           "diverging": [
            [
             0,
             "#8e0152"
            ],
            [
             0.1,
             "#c51b7d"
            ],
            [
             0.2,
             "#de77ae"
            ],
            [
             0.3,
             "#f1b6da"
            ],
            [
             0.4,
             "#fde0ef"
            ],
            [
             0.5,
             "#f7f7f7"
            ],
            [
             0.6,
             "#e6f5d0"
            ],
            [
             0.7,
             "#b8e186"
            ],
            [
             0.8,
             "#7fbc41"
            ],
            [
             0.9,
             "#4d9221"
            ],
            [
             1,
             "#276419"
            ]
           ],
           "sequential": [
            [
             0,
             "#0d0887"
            ],
            [
             0.1111111111111111,
             "#46039f"
            ],
            [
             0.2222222222222222,
             "#7201a8"
            ],
            [
             0.3333333333333333,
             "#9c179e"
            ],
            [
             0.4444444444444444,
             "#bd3786"
            ],
            [
             0.5555555555555556,
             "#d8576b"
            ],
            [
             0.6666666666666666,
             "#ed7953"
            ],
            [
             0.7777777777777778,
             "#fb9f3a"
            ],
            [
             0.8888888888888888,
             "#fdca26"
            ],
            [
             1,
             "#f0f921"
            ]
           ],
           "sequentialminus": [
            [
             0,
             "#0d0887"
            ],
            [
             0.1111111111111111,
             "#46039f"
            ],
            [
             0.2222222222222222,
             "#7201a8"
            ],
            [
             0.3333333333333333,
             "#9c179e"
            ],
            [
             0.4444444444444444,
             "#bd3786"
            ],
            [
             0.5555555555555556,
             "#d8576b"
            ],
            [
             0.6666666666666666,
             "#ed7953"
            ],
            [
             0.7777777777777778,
             "#fb9f3a"
            ],
            [
             0.8888888888888888,
             "#fdca26"
            ],
            [
             1,
             "#f0f921"
            ]
           ]
          },
          "colorway": [
           "#636efa",
           "#EF553B",
           "#00cc96",
           "#ab63fa",
           "#FFA15A",
           "#19d3f3",
           "#FF6692",
           "#B6E880",
           "#FF97FF",
           "#FECB52"
          ],
          "font": {
           "color": "#2a3f5f"
          },
          "geo": {
           "bgcolor": "white",
           "lakecolor": "white",
           "landcolor": "#E5ECF6",
           "showlakes": true,
           "showland": true,
           "subunitcolor": "white"
          },
          "hoverlabel": {
           "align": "left"
          },
          "hovermode": "closest",
          "mapbox": {
           "style": "light"
          },
          "paper_bgcolor": "white",
          "plot_bgcolor": "#E5ECF6",
          "polar": {
           "angularaxis": {
            "gridcolor": "white",
            "linecolor": "white",
            "ticks": ""
           },
           "bgcolor": "#E5ECF6",
           "radialaxis": {
            "gridcolor": "white",
            "linecolor": "white",
            "ticks": ""
           }
          },
          "scene": {
           "xaxis": {
            "backgroundcolor": "#E5ECF6",
            "gridcolor": "white",
            "gridwidth": 2,
            "linecolor": "white",
            "showbackground": true,
            "ticks": "",
            "zerolinecolor": "white"
           },
           "yaxis": {
            "backgroundcolor": "#E5ECF6",
            "gridcolor": "white",
            "gridwidth": 2,
            "linecolor": "white",
            "showbackground": true,
            "ticks": "",
            "zerolinecolor": "white"
           },
           "zaxis": {
            "backgroundcolor": "#E5ECF6",
            "gridcolor": "white",
            "gridwidth": 2,
            "linecolor": "white",
            "showbackground": true,
            "ticks": "",
            "zerolinecolor": "white"
           }
          },
          "shapedefaults": {
           "line": {
            "color": "#2a3f5f"
           }
          },
          "ternary": {
           "aaxis": {
            "gridcolor": "white",
            "linecolor": "white",
            "ticks": ""
           },
           "baxis": {
            "gridcolor": "white",
            "linecolor": "white",
            "ticks": ""
           },
           "bgcolor": "#E5ECF6",
           "caxis": {
            "gridcolor": "white",
            "linecolor": "white",
            "ticks": ""
           }
          },
          "title": {
           "x": 0.05
          },
          "xaxis": {
           "automargin": true,
           "gridcolor": "white",
           "linecolor": "white",
           "ticks": "",
           "title": {
            "standoff": 15
           },
           "zerolinecolor": "white",
           "zerolinewidth": 2
          },
          "yaxis": {
           "automargin": true,
           "gridcolor": "white",
           "linecolor": "white",
           "ticks": "",
           "title": {
            "standoff": 15
           },
           "zerolinecolor": "white",
           "zerolinewidth": 2
          }
         }
        },
        "yaxis": {
         "type": "log"
        }
       }
      }
     },
     "metadata": {},
     "output_type": "display_data"
    }
   ],
   "source": [
    "# Saldo a liquidar por ND\n",
    "cols = ['ND', 'A_LIQUIDAR', 'LIQUIDADO_A_PAGAR', 'PAGO']\n",
    "\n",
    "df_aux = df.loc[:, cols].groupby('ND').sum().sort_values(by= 'A_LIQUIDAR', ascending=False).reset_index()\n",
    "df_aux = df_aux[df_aux['A_LIQUIDAR'] > 0]\n",
    "# Criando o gráfico\n",
    "fig = go.Figure()\n",
    "\n",
    "# Adicionando as colunas y1, y2 e y3 no eixo y\n",
    "fig.add_trace(go.Bar(x=df_aux['ND'], y=df_aux['A_LIQUIDAR'], name='A Liquidar'))\n",
    "fig.add_trace(go.Bar(x=df_aux['ND'], y=df_aux['LIQUIDADO_A_PAGAR'], name='Liquidado a pagar'))\n",
    "fig.add_trace(go.Bar(x=df_aux['ND'], y=df_aux['PAGO'], name='Pago'))\n",
    "\n",
    "fig.update_traces(textposition = 'outside', cliponaxis = False, hovertemplate=None)\n",
    "fig.update_layout(hovermode=\"x unified\")\n",
    "fig.update_yaxes(type=\"log\")\n",
    "\n",
    "fig.show()"
   ]
  },
  {
   "cell_type": "markdown",
   "metadata": {},
   "source": [
    "# Suporte para o Dashboard"
   ]
  },
  {
   "cell_type": "code",
   "execution_count": 13,
   "metadata": {},
   "outputs": [
    {
     "data": {
      "text/html": [
       "<div>\n",
       "<style scoped>\n",
       "    .dataframe tbody tr th:only-of-type {\n",
       "        vertical-align: middle;\n",
       "    }\n",
       "\n",
       "    .dataframe tbody tr th {\n",
       "        vertical-align: top;\n",
       "    }\n",
       "\n",
       "    .dataframe thead th {\n",
       "        text-align: right;\n",
       "    }\n",
       "</style>\n",
       "<table border=\"1\" class=\"dataframe\">\n",
       "  <thead>\n",
       "    <tr style=\"text-align: right;\">\n",
       "      <th></th>\n",
       "      <th>NE</th>\n",
       "      <th>A_LIQUIDAR</th>\n",
       "      <th>DIAS</th>\n",
       "      <th>NOME_NDSI</th>\n",
       "      <th>NDSI</th>\n",
       "    </tr>\n",
       "  </thead>\n",
       "  <tbody>\n",
       "    <tr>\n",
       "      <th>446</th>\n",
       "      <td>2023NE000033</td>\n",
       "      <td>3236.21</td>\n",
       "      <td>641</td>\n",
       "      <td>PASSAGENS PARA O PAIS</td>\n",
       "      <td>33903301</td>\n",
       "    </tr>\n",
       "    <tr>\n",
       "      <th>447</th>\n",
       "      <td>2023NE000034</td>\n",
       "      <td>1769.50</td>\n",
       "      <td>641</td>\n",
       "      <td>PASSAGENS PARA O PAIS</td>\n",
       "      <td>33903301</td>\n",
       "    </tr>\n",
       "    <tr>\n",
       "      <th>453</th>\n",
       "      <td>2023NE000157</td>\n",
       "      <td>301.55</td>\n",
       "      <td>629</td>\n",
       "      <td>SERVICOS DOMESTICOS</td>\n",
       "      <td>33903946</td>\n",
       "    </tr>\n",
       "    <tr>\n",
       "      <th>448</th>\n",
       "      <td>2023NE000329</td>\n",
       "      <td>330.22</td>\n",
       "      <td>582</td>\n",
       "      <td>PASSAGENS PARA O PAIS</td>\n",
       "      <td>33903301</td>\n",
       "    </tr>\n",
       "    <tr>\n",
       "      <th>462</th>\n",
       "      <td>2023NE000529</td>\n",
       "      <td>6560.71</td>\n",
       "      <td>536</td>\n",
       "      <td>SERVICOS DOMESTICOS</td>\n",
       "      <td>33903946</td>\n",
       "    </tr>\n",
       "    <tr>\n",
       "      <th>1667</th>\n",
       "      <td>2023NE001681</td>\n",
       "      <td>11804.16</td>\n",
       "      <td>382</td>\n",
       "      <td>MANUTENCAO E CONSERVACAO DE EQUIPAMENTOS DE TIC</td>\n",
       "      <td>33904012</td>\n",
       "    </tr>\n",
       "    <tr>\n",
       "      <th>1663</th>\n",
       "      <td>2023NE001672</td>\n",
       "      <td>5543.33</td>\n",
       "      <td>382</td>\n",
       "      <td>MANUT. E CONSERV. DE MAQUINAS E EQUIPAMENTOS</td>\n",
       "      <td>33903917</td>\n",
       "    </tr>\n",
       "    <tr>\n",
       "      <th>1665</th>\n",
       "      <td>2023NE001678</td>\n",
       "      <td>6392.00</td>\n",
       "      <td>382</td>\n",
       "      <td>MANUTENCAO E CONSERVACAO DE EQUIPAMENTOS DE TIC</td>\n",
       "      <td>33904012</td>\n",
       "    </tr>\n",
       "    <tr>\n",
       "      <th>1666</th>\n",
       "      <td>2023NE001680</td>\n",
       "      <td>3466.66</td>\n",
       "      <td>382</td>\n",
       "      <td>MANUTENCAO E CONSERVACAO DE EQUIPAMENTOS DE TIC</td>\n",
       "      <td>33904012</td>\n",
       "    </tr>\n",
       "    <tr>\n",
       "      <th>356</th>\n",
       "      <td>2023NE001720</td>\n",
       "      <td>91490.08</td>\n",
       "      <td>349</td>\n",
       "      <td>MANUTENCAO E CONSERV. DE BENS IMOVEIS</td>\n",
       "      <td>33903916</td>\n",
       "    </tr>\n",
       "  </tbody>\n",
       "</table>\n",
       "</div>"
      ],
      "text/plain": [
       "                NE  A_LIQUIDAR  DIAS  \\\n",
       "446   2023NE000033     3236.21   641   \n",
       "447   2023NE000034     1769.50   641   \n",
       "453   2023NE000157      301.55   629   \n",
       "448   2023NE000329      330.22   582   \n",
       "462   2023NE000529     6560.71   536   \n",
       "1667  2023NE001681    11804.16   382   \n",
       "1663  2023NE001672     5543.33   382   \n",
       "1665  2023NE001678     6392.00   382   \n",
       "1666  2023NE001680     3466.66   382   \n",
       "356   2023NE001720    91490.08   349   \n",
       "\n",
       "                                            NOME_NDSI      NDSI  \n",
       "446                             PASSAGENS PARA O PAIS  33903301  \n",
       "447                             PASSAGENS PARA O PAIS  33903301  \n",
       "453                               SERVICOS DOMESTICOS  33903946  \n",
       "448                             PASSAGENS PARA O PAIS  33903301  \n",
       "462                               SERVICOS DOMESTICOS  33903946  \n",
       "1667  MANUTENCAO E CONSERVACAO DE EQUIPAMENTOS DE TIC  33904012  \n",
       "1663     MANUT. E CONSERV. DE MAQUINAS E EQUIPAMENTOS  33903917  \n",
       "1665  MANUTENCAO E CONSERVACAO DE EQUIPAMENTOS DE TIC  33904012  \n",
       "1666  MANUTENCAO E CONSERVACAO DE EQUIPAMENTOS DE TIC  33904012  \n",
       "356             MANUTENCAO E CONSERV. DE BENS IMOVEIS  33903916  "
      ]
     },
     "execution_count": 13,
     "metadata": {},
     "output_type": "execute_result"
    }
   ],
   "source": [
    "cols = ['NE', 'A_LIQUIDAR', 'DIAS', 'NOME_NDSI', 'NDSI']\n",
    "\n",
    "df_aux = df.loc[:, cols].sort_values(by='DIAS', ascending=False)\n",
    "df_aux = df_aux[df_aux['A_LIQUIDAR'] != 0].head(10)\n",
    "df_aux"
   ]
  },
  {
   "cell_type": "code",
   "execution_count": 14,
   "metadata": {},
   "outputs": [
    {
     "data": {
      "application/vnd.plotly.v1+json": {
       "config": {
        "plotlyServerURL": "https://plot.ly"
       },
       "data": [
        {
         "alignmentgroup": "True",
         "customdata": [
          [
           641,
           "PASSAGENS PARA O PAIS",
           "33903301"
          ],
          [
           641,
           "PASSAGENS PARA O PAIS",
           "33903301"
          ],
          [
           629,
           "SERVICOS DOMESTICOS",
           "33903946"
          ],
          [
           582,
           "PASSAGENS PARA O PAIS",
           "33903301"
          ],
          [
           536,
           "SERVICOS DOMESTICOS",
           "33903946"
          ],
          [
           382,
           "MANUTENCAO E CONSERVACAO DE EQUIPAMENTOS DE TIC",
           "33904012"
          ],
          [
           382,
           "MANUT. E CONSERV. DE MAQUINAS E EQUIPAMENTOS",
           "33903917"
          ],
          [
           382,
           "MANUTENCAO E CONSERVACAO DE EQUIPAMENTOS DE TIC",
           "33904012"
          ],
          [
           382,
           "MANUTENCAO E CONSERVACAO DE EQUIPAMENTOS DE TIC",
           "33904012"
          ],
          [
           349,
           "MANUTENCAO E CONSERV. DE BENS IMOVEIS",
           "33903916"
          ]
         ],
         "hovertemplate": "<b>%{hovertext}</b><br><br>Nota de Empenho=%{x}<br>Saldo a liquidar=%{y}<br>DIAS=%{marker.color}<br>NOME_NDSI=%{customdata[1]}<br>NDSI=%{customdata[2]}<extra></extra>",
         "hovertext": [
          "2023NE000033",
          "2023NE000034",
          "2023NE000157",
          "2023NE000329",
          "2023NE000529",
          "2023NE001681",
          "2023NE001672",
          "2023NE001678",
          "2023NE001680",
          "2023NE001720"
         ],
         "legendgroup": "",
         "marker": {
          "color": [
           641,
           641,
           629,
           582,
           536,
           382,
           382,
           382,
           382,
           349
          ],
          "coloraxis": "coloraxis",
          "pattern": {
           "shape": ""
          }
         },
         "name": "",
         "offsetgroup": "",
         "orientation": "v",
         "showlegend": false,
         "textposition": "outside",
         "texttemplate": "%{y:.3s}",
         "type": "bar",
         "x": [
          "2023NE000033",
          "2023NE000034",
          "2023NE000157",
          "2023NE000329",
          "2023NE000529",
          "2023NE001681",
          "2023NE001672",
          "2023NE001678",
          "2023NE001680",
          "2023NE001720"
         ],
         "xaxis": "x",
         "y": [
          3236.21,
          1769.5,
          301.55,
          330.22,
          6560.71,
          11804.16,
          5543.33,
          6392,
          3466.66,
          91490.08
         ],
         "yaxis": "y"
        }
       ],
       "layout": {
        "barmode": "relative",
        "coloraxis": {
         "colorbar": {
          "title": {
           "text": "DIAS"
          }
         },
         "colorscale": [
          [
           0,
           "rgb(255,245,240)"
          ],
          [
           0.125,
           "rgb(254,224,210)"
          ],
          [
           0.25,
           "rgb(252,187,161)"
          ],
          [
           0.375,
           "rgb(252,146,114)"
          ],
          [
           0.5,
           "rgb(251,106,74)"
          ],
          [
           0.625,
           "rgb(239,59,44)"
          ],
          [
           0.75,
           "rgb(203,24,29)"
          ],
          [
           0.875,
           "rgb(165,15,21)"
          ],
          [
           1,
           "rgb(103,0,13)"
          ]
         ]
        },
        "legend": {
         "tracegroupgap": 0
        },
        "template": {
         "data": {
          "bar": [
           {
            "error_x": {
             "color": "#f2f5fa"
            },
            "error_y": {
             "color": "#f2f5fa"
            },
            "marker": {
             "line": {
              "color": "rgb(17,17,17)",
              "width": 0.5
             },
             "pattern": {
              "fillmode": "overlay",
              "size": 10,
              "solidity": 0.2
             }
            },
            "type": "bar"
           }
          ],
          "barpolar": [
           {
            "marker": {
             "line": {
              "color": "rgb(17,17,17)",
              "width": 0.5
             },
             "pattern": {
              "fillmode": "overlay",
              "size": 10,
              "solidity": 0.2
             }
            },
            "type": "barpolar"
           }
          ],
          "carpet": [
           {
            "aaxis": {
             "endlinecolor": "#A2B1C6",
             "gridcolor": "#506784",
             "linecolor": "#506784",
             "minorgridcolor": "#506784",
             "startlinecolor": "#A2B1C6"
            },
            "baxis": {
             "endlinecolor": "#A2B1C6",
             "gridcolor": "#506784",
             "linecolor": "#506784",
             "minorgridcolor": "#506784",
             "startlinecolor": "#A2B1C6"
            },
            "type": "carpet"
           }
          ],
          "choropleth": [
           {
            "colorbar": {
             "outlinewidth": 0,
             "ticks": ""
            },
            "type": "choropleth"
           }
          ],
          "contour": [
           {
            "colorbar": {
             "outlinewidth": 0,
             "ticks": ""
            },
            "colorscale": [
             [
              0,
              "#0d0887"
             ],
             [
              0.1111111111111111,
              "#46039f"
             ],
             [
              0.2222222222222222,
              "#7201a8"
             ],
             [
              0.3333333333333333,
              "#9c179e"
             ],
             [
              0.4444444444444444,
              "#bd3786"
             ],
             [
              0.5555555555555556,
              "#d8576b"
             ],
             [
              0.6666666666666666,
              "#ed7953"
             ],
             [
              0.7777777777777778,
              "#fb9f3a"
             ],
             [
              0.8888888888888888,
              "#fdca26"
             ],
             [
              1,
              "#f0f921"
             ]
            ],
            "type": "contour"
           }
          ],
          "contourcarpet": [
           {
            "colorbar": {
             "outlinewidth": 0,
             "ticks": ""
            },
            "type": "contourcarpet"
           }
          ],
          "heatmap": [
           {
            "colorbar": {
             "outlinewidth": 0,
             "ticks": ""
            },
            "colorscale": [
             [
              0,
              "#0d0887"
             ],
             [
              0.1111111111111111,
              "#46039f"
             ],
             [
              0.2222222222222222,
              "#7201a8"
             ],
             [
              0.3333333333333333,
              "#9c179e"
             ],
             [
              0.4444444444444444,
              "#bd3786"
             ],
             [
              0.5555555555555556,
              "#d8576b"
             ],
             [
              0.6666666666666666,
              "#ed7953"
             ],
             [
              0.7777777777777778,
              "#fb9f3a"
             ],
             [
              0.8888888888888888,
              "#fdca26"
             ],
             [
              1,
              "#f0f921"
             ]
            ],
            "type": "heatmap"
           }
          ],
          "heatmapgl": [
           {
            "colorbar": {
             "outlinewidth": 0,
             "ticks": ""
            },
            "colorscale": [
             [
              0,
              "#0d0887"
             ],
             [
              0.1111111111111111,
              "#46039f"
             ],
             [
              0.2222222222222222,
              "#7201a8"
             ],
             [
              0.3333333333333333,
              "#9c179e"
             ],
             [
              0.4444444444444444,
              "#bd3786"
             ],
             [
              0.5555555555555556,
              "#d8576b"
             ],
             [
              0.6666666666666666,
              "#ed7953"
             ],
             [
              0.7777777777777778,
              "#fb9f3a"
             ],
             [
              0.8888888888888888,
              "#fdca26"
             ],
             [
              1,
              "#f0f921"
             ]
            ],
            "type": "heatmapgl"
           }
          ],
          "histogram": [
           {
            "marker": {
             "pattern": {
              "fillmode": "overlay",
              "size": 10,
              "solidity": 0.2
             }
            },
            "type": "histogram"
           }
          ],
          "histogram2d": [
           {
            "colorbar": {
             "outlinewidth": 0,
             "ticks": ""
            },
            "colorscale": [
             [
              0,
              "#0d0887"
             ],
             [
              0.1111111111111111,
              "#46039f"
             ],
             [
              0.2222222222222222,
              "#7201a8"
             ],
             [
              0.3333333333333333,
              "#9c179e"
             ],
             [
              0.4444444444444444,
              "#bd3786"
             ],
             [
              0.5555555555555556,
              "#d8576b"
             ],
             [
              0.6666666666666666,
              "#ed7953"
             ],
             [
              0.7777777777777778,
              "#fb9f3a"
             ],
             [
              0.8888888888888888,
              "#fdca26"
             ],
             [
              1,
              "#f0f921"
             ]
            ],
            "type": "histogram2d"
           }
          ],
          "histogram2dcontour": [
           {
            "colorbar": {
             "outlinewidth": 0,
             "ticks": ""
            },
            "colorscale": [
             [
              0,
              "#0d0887"
             ],
             [
              0.1111111111111111,
              "#46039f"
             ],
             [
              0.2222222222222222,
              "#7201a8"
             ],
             [
              0.3333333333333333,
              "#9c179e"
             ],
             [
              0.4444444444444444,
              "#bd3786"
             ],
             [
              0.5555555555555556,
              "#d8576b"
             ],
             [
              0.6666666666666666,
              "#ed7953"
             ],
             [
              0.7777777777777778,
              "#fb9f3a"
             ],
             [
              0.8888888888888888,
              "#fdca26"
             ],
             [
              1,
              "#f0f921"
             ]
            ],
            "type": "histogram2dcontour"
           }
          ],
          "mesh3d": [
           {
            "colorbar": {
             "outlinewidth": 0,
             "ticks": ""
            },
            "type": "mesh3d"
           }
          ],
          "parcoords": [
           {
            "line": {
             "colorbar": {
              "outlinewidth": 0,
              "ticks": ""
             }
            },
            "type": "parcoords"
           }
          ],
          "pie": [
           {
            "automargin": true,
            "type": "pie"
           }
          ],
          "scatter": [
           {
            "marker": {
             "line": {
              "color": "#283442"
             }
            },
            "type": "scatter"
           }
          ],
          "scatter3d": [
           {
            "line": {
             "colorbar": {
              "outlinewidth": 0,
              "ticks": ""
             }
            },
            "marker": {
             "colorbar": {
              "outlinewidth": 0,
              "ticks": ""
             }
            },
            "type": "scatter3d"
           }
          ],
          "scattercarpet": [
           {
            "marker": {
             "colorbar": {
              "outlinewidth": 0,
              "ticks": ""
             }
            },
            "type": "scattercarpet"
           }
          ],
          "scattergeo": [
           {
            "marker": {
             "colorbar": {
              "outlinewidth": 0,
              "ticks": ""
             }
            },
            "type": "scattergeo"
           }
          ],
          "scattergl": [
           {
            "marker": {
             "line": {
              "color": "#283442"
             }
            },
            "type": "scattergl"
           }
          ],
          "scattermapbox": [
           {
            "marker": {
             "colorbar": {
              "outlinewidth": 0,
              "ticks": ""
             }
            },
            "type": "scattermapbox"
           }
          ],
          "scatterpolar": [
           {
            "marker": {
             "colorbar": {
              "outlinewidth": 0,
              "ticks": ""
             }
            },
            "type": "scatterpolar"
           }
          ],
          "scatterpolargl": [
           {
            "marker": {
             "colorbar": {
              "outlinewidth": 0,
              "ticks": ""
             }
            },
            "type": "scatterpolargl"
           }
          ],
          "scatterternary": [
           {
            "marker": {
             "colorbar": {
              "outlinewidth": 0,
              "ticks": ""
             }
            },
            "type": "scatterternary"
           }
          ],
          "surface": [
           {
            "colorbar": {
             "outlinewidth": 0,
             "ticks": ""
            },
            "colorscale": [
             [
              0,
              "#0d0887"
             ],
             [
              0.1111111111111111,
              "#46039f"
             ],
             [
              0.2222222222222222,
              "#7201a8"
             ],
             [
              0.3333333333333333,
              "#9c179e"
             ],
             [
              0.4444444444444444,
              "#bd3786"
             ],
             [
              0.5555555555555556,
              "#d8576b"
             ],
             [
              0.6666666666666666,
              "#ed7953"
             ],
             [
              0.7777777777777778,
              "#fb9f3a"
             ],
             [
              0.8888888888888888,
              "#fdca26"
             ],
             [
              1,
              "#f0f921"
             ]
            ],
            "type": "surface"
           }
          ],
          "table": [
           {
            "cells": {
             "fill": {
              "color": "#506784"
             },
             "line": {
              "color": "rgb(17,17,17)"
             }
            },
            "header": {
             "fill": {
              "color": "#2a3f5f"
             },
             "line": {
              "color": "rgb(17,17,17)"
             }
            },
            "type": "table"
           }
          ]
         },
         "layout": {
          "annotationdefaults": {
           "arrowcolor": "#f2f5fa",
           "arrowhead": 0,
           "arrowwidth": 1
          },
          "autotypenumbers": "strict",
          "coloraxis": {
           "colorbar": {
            "outlinewidth": 0,
            "ticks": ""
           }
          },
          "colorscale": {
           "diverging": [
            [
             0,
             "#8e0152"
            ],
            [
             0.1,
             "#c51b7d"
            ],
            [
             0.2,
             "#de77ae"
            ],
            [
             0.3,
             "#f1b6da"
            ],
            [
             0.4,
             "#fde0ef"
            ],
            [
             0.5,
             "#f7f7f7"
            ],
            [
             0.6,
             "#e6f5d0"
            ],
            [
             0.7,
             "#b8e186"
            ],
            [
             0.8,
             "#7fbc41"
            ],
            [
             0.9,
             "#4d9221"
            ],
            [
             1,
             "#276419"
            ]
           ],
           "sequential": [
            [
             0,
             "#0d0887"
            ],
            [
             0.1111111111111111,
             "#46039f"
            ],
            [
             0.2222222222222222,
             "#7201a8"
            ],
            [
             0.3333333333333333,
             "#9c179e"
            ],
            [
             0.4444444444444444,
             "#bd3786"
            ],
            [
             0.5555555555555556,
             "#d8576b"
            ],
            [
             0.6666666666666666,
             "#ed7953"
            ],
            [
             0.7777777777777778,
             "#fb9f3a"
            ],
            [
             0.8888888888888888,
             "#fdca26"
            ],
            [
             1,
             "#f0f921"
            ]
           ],
           "sequentialminus": [
            [
             0,
             "#0d0887"
            ],
            [
             0.1111111111111111,
             "#46039f"
            ],
            [
             0.2222222222222222,
             "#7201a8"
            ],
            [
             0.3333333333333333,
             "#9c179e"
            ],
            [
             0.4444444444444444,
             "#bd3786"
            ],
            [
             0.5555555555555556,
             "#d8576b"
            ],
            [
             0.6666666666666666,
             "#ed7953"
            ],
            [
             0.7777777777777778,
             "#fb9f3a"
            ],
            [
             0.8888888888888888,
             "#fdca26"
            ],
            [
             1,
             "#f0f921"
            ]
           ]
          },
          "colorway": [
           "#636efa",
           "#EF553B",
           "#00cc96",
           "#ab63fa",
           "#FFA15A",
           "#19d3f3",
           "#FF6692",
           "#B6E880",
           "#FF97FF",
           "#FECB52"
          ],
          "font": {
           "color": "#f2f5fa"
          },
          "geo": {
           "bgcolor": "rgb(17,17,17)",
           "lakecolor": "rgb(17,17,17)",
           "landcolor": "rgb(17,17,17)",
           "showlakes": true,
           "showland": true,
           "subunitcolor": "#506784"
          },
          "hoverlabel": {
           "align": "left"
          },
          "hovermode": "closest",
          "mapbox": {
           "style": "dark"
          },
          "paper_bgcolor": "rgb(17,17,17)",
          "plot_bgcolor": "rgb(17,17,17)",
          "polar": {
           "angularaxis": {
            "gridcolor": "#506784",
            "linecolor": "#506784",
            "ticks": ""
           },
           "bgcolor": "rgb(17,17,17)",
           "radialaxis": {
            "gridcolor": "#506784",
            "linecolor": "#506784",
            "ticks": ""
           }
          },
          "scene": {
           "xaxis": {
            "backgroundcolor": "rgb(17,17,17)",
            "gridcolor": "#506784",
            "gridwidth": 2,
            "linecolor": "#506784",
            "showbackground": true,
            "ticks": "",
            "zerolinecolor": "#C8D4E3"
           },
           "yaxis": {
            "backgroundcolor": "rgb(17,17,17)",
            "gridcolor": "#506784",
            "gridwidth": 2,
            "linecolor": "#506784",
            "showbackground": true,
            "ticks": "",
            "zerolinecolor": "#C8D4E3"
           },
           "zaxis": {
            "backgroundcolor": "rgb(17,17,17)",
            "gridcolor": "#506784",
            "gridwidth": 2,
            "linecolor": "#506784",
            "showbackground": true,
            "ticks": "",
            "zerolinecolor": "#C8D4E3"
           }
          },
          "shapedefaults": {
           "line": {
            "color": "#f2f5fa"
           }
          },
          "sliderdefaults": {
           "bgcolor": "#C8D4E3",
           "bordercolor": "rgb(17,17,17)",
           "borderwidth": 1,
           "tickwidth": 0
          },
          "ternary": {
           "aaxis": {
            "gridcolor": "#506784",
            "linecolor": "#506784",
            "ticks": ""
           },
           "baxis": {
            "gridcolor": "#506784",
            "linecolor": "#506784",
            "ticks": ""
           },
           "bgcolor": "rgb(17,17,17)",
           "caxis": {
            "gridcolor": "#506784",
            "linecolor": "#506784",
            "ticks": ""
           }
          },
          "title": {
           "x": 0.05
          },
          "updatemenudefaults": {
           "bgcolor": "#506784",
           "borderwidth": 0
          },
          "xaxis": {
           "automargin": true,
           "gridcolor": "#283442",
           "linecolor": "#506784",
           "ticks": "",
           "title": {
            "standoff": 15
           },
           "zerolinecolor": "#283442",
           "zerolinewidth": 2
          },
          "yaxis": {
           "automargin": true,
           "gridcolor": "#283442",
           "linecolor": "#506784",
           "ticks": "",
           "title": {
            "standoff": 15
           },
           "zerolinecolor": "#283442",
           "zerolinewidth": 2
          }
         }
        },
        "title": {
         "text": "10 empenhos com mais tempo na tela"
        },
        "xaxis": {
         "anchor": "y",
         "domain": [
          0,
          1
         ],
         "title": {
          "text": "Nota de Empenho"
         }
        },
        "yaxis": {
         "anchor": "x",
         "domain": [
          0,
          1
         ],
         "title": {
          "text": "Saldo a liquidar"
         },
         "type": "log"
        }
       }
      }
     },
     "metadata": {},
     "output_type": "display_data"
    }
   ],
   "source": [
    "# Saldo a liquidar por tipo de NE\n",
    "cols = ['NE', 'A_LIQUIDAR', 'DIAS', 'NOME_NDSI', 'NDSI']\n",
    "df_aux = df.loc[:, cols].sort_values(by='DIAS', ascending=False)\n",
    "df_aux = df_aux[df_aux['A_LIQUIDAR'] != 0].head(10)\n",
    "fig = px.bar(df_aux, \n",
    "             x='NE', \n",
    "             y='A_LIQUIDAR',\n",
    "             title='10 empenhos com mais tempo na tela',\n",
    "             labels={'NE':'Nota de Empenho', 'A_LIQUIDAR':'Saldo a liquidar'},\n",
    "             text_auto='.3s',\n",
    "             color='DIAS',\n",
    "             color_continuous_scale = 'reds',\n",
    "             log_y=True,\n",
    "             template='plotly_dark',\n",
    "             hover_name=\"NE\", hover_data={'DIAS': True, 'A_LIQUIDAR': True, 'NOME_NDSI': True, 'NDSI': True})\n",
    "fig.update_traces(textposition = 'outside')\n",
    "\n",
    "\n",
    "fig.show()"
   ]
  },
  {
   "cell_type": "markdown",
   "metadata": {},
   "source": [
    "## Informações para SideBar"
   ]
  },
  {
   "cell_type": "code",
   "execution_count": 15,
   "metadata": {},
   "outputs": [
    {
     "data": {
      "text/plain": [
       "3352"
      ]
     },
     "execution_count": 15,
     "metadata": {},
     "output_type": "execute_result"
    }
   ],
   "source": [
    "# Qtde de empenhos realizados até o momento\n",
    "df.shape[0]"
   ]
  },
  {
   "cell_type": "markdown",
   "metadata": {},
   "source": [
    "# Requisição em API para consulta a CNPJ"
   ]
  },
  {
   "cell_type": "code",
   "execution_count": 16,
   "metadata": {},
   "outputs": [
    {
     "name": "stdout",
     "output_type": "stream",
     "text": [
      "{'abertura': '04/05/1999',\n",
      " 'atividade_principal': [{'code': '49.30-2-04',\n",
      "                          'text': 'Transporte rodoviário de mudanças'}],\n",
      " 'atividades_secundarias': [{'code': '49.30-2-01',\n",
      "                             'text': 'Transporte rodoviário de carga, exceto '\n",
      "                                     'produtos perigosos e mudanças, '\n",
      "                                     'municipal'},\n",
      "                            {'code': '49.30-2-02',\n",
      "                             'text': 'Transporte rodoviário de carga, exceto '\n",
      "                                     'produtos perigosos e mudanças, '\n",
      "                                     'intermunicipal, interestadual e '\n",
      "                                     'internacional'},\n",
      "                            {'code': '52.11-7-02', 'text': 'Guarda-móveis'},\n",
      "                            {'code': '68.10-2-02',\n",
      "                             'text': 'Aluguel de imóveis próprios'}],\n",
      " 'bairro': 'ZONA INDUSTRIAL (GUARA)',\n",
      " 'billing': {'database': True, 'free': True},\n",
      " 'capital_social': '93700.00',\n",
      " 'cep': '71.250-710',\n",
      " 'cnpj': '03.126.110/0001-92',\n",
      " 'complemento': 'LOTE;',\n",
      " 'data_situacao': '03/11/2005',\n",
      " 'data_situacao_especial': '',\n",
      " 'efr': '',\n",
      " 'email': '',\n",
      " 'extra': {},\n",
      " 'fantasia': 'MARCA SUL MUDANCAS',\n",
      " 'logradouro': 'SETOR SCIA QUADRA 8 CONJUNTO 8',\n",
      " 'motivo_situacao': '',\n",
      " 'municipio': 'BRASILIA',\n",
      " 'natureza_juridica': '206-2 - Sociedade Empresária Limitada',\n",
      " 'nome': 'MARCA SUL MUDANCAS E TRANSPORTES LTDA',\n",
      " 'numero': '13',\n",
      " 'porte': 'EMPRESA DE PEQUENO PORTE',\n",
      " 'qsa': [{'nome': 'LINDOMAR SELAU CARLOS', 'qual': '49-Sócio-Administrador'}],\n",
      " 'simei': {'data_exclusao': None,\n",
      "           'data_opcao': None,\n",
      "           'optante': False,\n",
      "           'ultima_atualizacao': '2024-10-16T23:59:59.000Z'},\n",
      " 'simples': {'data_exclusao': '31/10/2024',\n",
      "             'data_opcao': '01/01/2016',\n",
      "             'optante': True,\n",
      "             'ultima_atualizacao': '2024-10-16T23:59:59.000Z'},\n",
      " 'situacao': 'ATIVA',\n",
      " 'situacao_especial': '',\n",
      " 'status': 'OK',\n",
      " 'telefone': '(61) 8305-0179',\n",
      " 'tipo': 'MATRIZ',\n",
      " 'uf': 'DF',\n",
      " 'ultima_atualizacao': '2024-10-16T23:59:59.000Z'}\n"
     ]
    }
   ],
   "source": [
    "import requests\n",
    "from pprint import pprint\n",
    "\n",
    "url = \"https://receitaws.com.br/v1/cnpj/03126110000192\"\n",
    "\n",
    "headers = {\"Accept\": \"application/json\"}\n",
    "\n",
    "response = requests.get(url, headers=headers)\n",
    "\n",
    "pprint(response.json())"
   ]
  },
  {
   "cell_type": "code",
   "execution_count": 17,
   "metadata": {},
   "outputs": [
    {
     "name": "stdout",
     "output_type": "stream",
     "text": [
      "{'abertura': '28/08/2015',\n",
      " 'atividade_principal': [{'code': '26.21-3-00',\n",
      "                          'text': 'Fabricação de equipamentos de informática'}],\n",
      " 'atividades_secundarias': [{'code': '26.22-1-00',\n",
      "                             'text': 'Fabricação de periféricos para '\n",
      "                                     'equipamentos de informática'},\n",
      "                            {'code': '27.59-7-99',\n",
      "                             'text': 'Fabricação de outros aparelhos '\n",
      "                                     'eletrodomésticos não especificados '\n",
      "                                     'anteriormente, peças e acessórios'},\n",
      "                            {'code': '46.19-2-00',\n",
      "                             'text': 'Representantes comerciais e agentes do '\n",
      "                                     'comércio de mercadorias em geral não '\n",
      "                                     'especializado'},\n",
      "                            {'code': '46.51-6-01',\n",
      "                             'text': 'Comércio atacadista de equipamentos de '\n",
      "                                     'informática'},\n",
      "                            {'code': '47.54-7-01',\n",
      "                             'text': 'Comércio varejista de móveis'},\n",
      "                            {'code': '46.49-4-02',\n",
      "                             'text': 'Comércio atacadista de aparelhos '\n",
      "                                     'eletrônicos de uso pessoal e doméstico'},\n",
      "                            {'code': '46.47-8-02',\n",
      "                             'text': 'Comércio atacadista de livros, jornais e '\n",
      "                                     'outras publicações'},\n",
      "                            {'code': '62.04-0-00',\n",
      "                             'text': 'Consultoria em tecnologia da informação'},\n",
      "                            {'code': '62.02-3-00',\n",
      "                             'text': 'Desenvolvimento e licenciamento de '\n",
      "                                     'programas de computador customizáveis'},\n",
      "                            {'code': '63.19-4-00',\n",
      "                             'text': 'Portais, provedores de conteúdo e outros '\n",
      "                                     'serviços de informação na internet'},\n",
      "                            {'code': '62.01-5-01',\n",
      "                             'text': 'Desenvolvimento de programas de '\n",
      "                                     'computador sob encomenda'},\n",
      "                            {'code': '58.11-5-00', 'text': 'Edição de livros'},\n",
      "                            {'code': '64.62-0-00',\n",
      "                             'text': 'Holdings de instituições '\n",
      "                                     'não-financeiras'},\n",
      "                            {'code': '71.19-7-03',\n",
      "                             'text': 'Serviços de desenho técnico relacionados '\n",
      "                                     'à arquitetura e engenharia'},\n",
      "                            {'code': '77.33-1-00',\n",
      "                             'text': 'Aluguel de máquinas e equipamentos para '\n",
      "                                     'escritórios'},\n",
      "                            {'code': '77.40-3-00',\n",
      "                             'text': 'Gestão de ativos intangíveis '\n",
      "                                     'não-financeiros'},\n",
      "                            {'code': '85.50-3-02',\n",
      "                             'text': 'Atividades de apoio à educação, exceto '\n",
      "                                     'caixas escolares'},\n",
      "                            {'code': '85.99-6-04',\n",
      "                             'text': 'Treinamento em desenvolvimento '\n",
      "                                     'profissional e gerencial'},\n",
      "                            {'code': '95.21-5-00',\n",
      "                             'text': 'Reparação e manutenção de equipamentos '\n",
      "                                     'eletroeletrônicos de uso pessoal e '\n",
      "                                     'doméstico'},\n",
      "                            {'code': '95.11-8-00',\n",
      "                             'text': 'Reparação e manutenção de computadores e '\n",
      "                                     'de equipamentos periféricos'},\n",
      "                            {'code': '26.32-9-00',\n",
      "                             'text': 'Fabricação de aparelhos telefônicos e de '\n",
      "                                     'outros equipamentos de comunicação, '\n",
      "                                     'peças e acessórios'}],\n",
      " 'bairro': 'DISTRITO INDUSTRIAL I',\n",
      " 'billing': {'database': True, 'free': True},\n",
      " 'capital_social': '0.00',\n",
      " 'cep': '69.075-110',\n",
      " 'cnpj': '81.243.735/0019-77',\n",
      " 'complemento': 'LOTE 257-B',\n",
      " 'data_situacao': '28/08/2015',\n",
      " 'data_situacao_especial': '',\n",
      " 'efr': '',\n",
      " 'email': 'fiscal@positivo.com.br',\n",
      " 'extra': {},\n",
      " 'fantasia': '',\n",
      " 'logradouro': 'R JAVARI',\n",
      " 'motivo_situacao': '',\n",
      " 'municipio': 'MANAUS',\n",
      " 'natureza_juridica': '204-6 - Sociedade Anônima Aberta',\n",
      " 'nome': 'POSITIVO TECNOLOGIA S.A.',\n",
      " 'numero': '1255',\n",
      " 'porte': 'DEMAIS',\n",
      " 'qsa': [],\n",
      " 'simei': {'data_exclusao': None,\n",
      "           'data_opcao': None,\n",
      "           'optante': False,\n",
      "           'ultima_atualizacao': '2024-10-16T23:59:59.000Z'},\n",
      " 'simples': {'data_exclusao': None,\n",
      "             'data_opcao': None,\n",
      "             'optante': False,\n",
      "             'ultima_atualizacao': '2024-10-16T23:59:59.000Z'},\n",
      " 'situacao': 'ATIVA',\n",
      " 'situacao_especial': '',\n",
      " 'status': 'OK',\n",
      " 'telefone': '(41) 3316-7700',\n",
      " 'tipo': 'FILIAL',\n",
      " 'uf': 'AM',\n",
      " 'ultima_atualizacao': '2024-11-01T14:26:05.225Z'}\n"
     ]
    }
   ],
   "source": [
    "def consulta_cnpj(numero_cnpj):\n",
    "    url = f\"https://receitaws.com.br/v1/cnpj/{numero_cnpj}\"\n",
    "\n",
    "    headers = {\"Accept\": \"application/json\"}\n",
    "\n",
    "    response = requests.get(url, headers=headers)\n",
    "    \n",
    "    dic_fornecedor = response.json()\n",
    "    \n",
    "    return dic_fornecedor\n",
    "\n",
    "# Criar um dicionário vazio fora da função\n",
    "dicionario = {}\n",
    "\n",
    "# Chamar a função e atribuir o resultado ao dicionário\n",
    "dicionario = consulta_cnpj('81243735001977')\n",
    "\n",
    "# Imprimir o dicionário\n",
    "pprint(dicionario)"
   ]
  },
  {
   "cell_type": "code",
   "execution_count": 18,
   "metadata": {},
   "outputs": [
    {
     "name": "stdout",
     "output_type": "stream",
     "text": [
      "{'abertura': '28/08/2015',\n",
      " 'atividade_principal': [{'code': '26.21-3-00',\n",
      "                          'text': 'Fabricação de equipamentos de informática'}],\n",
      " 'atividades_secundarias': [{'code': '26.22-1-00',\n",
      "                             'text': 'Fabricação de periféricos para '\n",
      "                                     'equipamentos de informática'},\n",
      "                            {'code': '27.59-7-99',\n",
      "                             'text': 'Fabricação de outros aparelhos '\n",
      "                                     'eletrodomésticos não especificados '\n",
      "                                     'anteriormente, peças e acessórios'},\n",
      "                            {'code': '46.19-2-00',\n",
      "                             'text': 'Representantes comerciais e agentes do '\n",
      "                                     'comércio de mercadorias em geral não '\n",
      "                                     'especializado'},\n",
      "                            {'code': '46.51-6-01',\n",
      "                             'text': 'Comércio atacadista de equipamentos de '\n",
      "                                     'informática'},\n",
      "                            {'code': '47.54-7-01',\n",
      "                             'text': 'Comércio varejista de móveis'},\n",
      "                            {'code': '46.49-4-02',\n",
      "                             'text': 'Comércio atacadista de aparelhos '\n",
      "                                     'eletrônicos de uso pessoal e doméstico'},\n",
      "                            {'code': '46.47-8-02',\n",
      "                             'text': 'Comércio atacadista de livros, jornais e '\n",
      "                                     'outras publicações'},\n",
      "                            {'code': '62.04-0-00',\n",
      "                             'text': 'Consultoria em tecnologia da informação'},\n",
      "                            {'code': '62.02-3-00',\n",
      "                             'text': 'Desenvolvimento e licenciamento de '\n",
      "                                     'programas de computador customizáveis'},\n",
      "                            {'code': '63.19-4-00',\n",
      "                             'text': 'Portais, provedores de conteúdo e outros '\n",
      "                                     'serviços de informação na internet'},\n",
      "                            {'code': '62.01-5-01',\n",
      "                             'text': 'Desenvolvimento de programas de '\n",
      "                                     'computador sob encomenda'},\n",
      "                            {'code': '58.11-5-00', 'text': 'Edição de livros'},\n",
      "                            {'code': '64.62-0-00',\n",
      "                             'text': 'Holdings de instituições '\n",
      "                                     'não-financeiras'},\n",
      "                            {'code': '71.19-7-03',\n",
      "                             'text': 'Serviços de desenho técnico relacionados '\n",
      "                                     'à arquitetura e engenharia'},\n",
      "                            {'code': '77.33-1-00',\n",
      "                             'text': 'Aluguel de máquinas e equipamentos para '\n",
      "                                     'escritórios'},\n",
      "                            {'code': '77.40-3-00',\n",
      "                             'text': 'Gestão de ativos intangíveis '\n",
      "                                     'não-financeiros'},\n",
      "                            {'code': '85.50-3-02',\n",
      "                             'text': 'Atividades de apoio à educação, exceto '\n",
      "                                     'caixas escolares'},\n",
      "                            {'code': '85.99-6-04',\n",
      "                             'text': 'Treinamento em desenvolvimento '\n",
      "                                     'profissional e gerencial'},\n",
      "                            {'code': '95.21-5-00',\n",
      "                             'text': 'Reparação e manutenção de equipamentos '\n",
      "                                     'eletroeletrônicos de uso pessoal e '\n",
      "                                     'doméstico'},\n",
      "                            {'code': '95.11-8-00',\n",
      "                             'text': 'Reparação e manutenção de computadores e '\n",
      "                                     'de equipamentos periféricos'},\n",
      "                            {'code': '26.32-9-00',\n",
      "                             'text': 'Fabricação de aparelhos telefônicos e de '\n",
      "                                     'outros equipamentos de comunicação, '\n",
      "                                     'peças e acessórios'}],\n",
      " 'bairro': 'DISTRITO INDUSTRIAL I',\n",
      " 'billing': {'database': True, 'free': True},\n",
      " 'capital_social': '0.00',\n",
      " 'cep': '69.075-110',\n",
      " 'cnpj': '81.243.735/0019-77',\n",
      " 'complemento': 'LOTE 257-B',\n",
      " 'data_situacao': '28/08/2015',\n",
      " 'data_situacao_especial': '',\n",
      " 'efr': '',\n",
      " 'email': 'fiscal@positivo.com.br',\n",
      " 'extra': {},\n",
      " 'fantasia': '',\n",
      " 'logradouro': 'R JAVARI',\n",
      " 'motivo_situacao': '',\n",
      " 'municipio': 'MANAUS',\n",
      " 'natureza_juridica': '204-6 - Sociedade Anônima Aberta',\n",
      " 'nome': 'POSITIVO TECNOLOGIA S.A.',\n",
      " 'numero': '1255',\n",
      " 'porte': 'DEMAIS',\n",
      " 'qsa': [],\n",
      " 'simei': {'data_exclusao': None,\n",
      "           'data_opcao': None,\n",
      "           'optante': False,\n",
      "           'ultima_atualizacao': '2024-10-16T23:59:59.000Z'},\n",
      " 'simples': {'data_exclusao': None,\n",
      "             'data_opcao': None,\n",
      "             'optante': False,\n",
      "             'ultima_atualizacao': '2024-10-16T23:59:59.000Z'},\n",
      " 'situacao': 'ATIVA',\n",
      " 'situacao_especial': '',\n",
      " 'status': 'OK',\n",
      " 'telefone': '(41) 3316-7700',\n",
      " 'tipo': 'FILIAL',\n",
      " 'uf': 'AM',\n",
      " 'ultima_atualizacao': '2024-11-01T14:26:05.225Z'}\n"
     ]
    }
   ],
   "source": [
    "pprint(dicionario)"
   ]
  },
  {
   "cell_type": "code",
   "execution_count": 19,
   "metadata": {},
   "outputs": [
    {
     "data": {
      "text/plain": [
       "'POSITIVO TECNOLOGIA S.A.'"
      ]
     },
     "execution_count": 19,
     "metadata": {},
     "output_type": "execute_result"
    }
   ],
   "source": [
    "dicionario['nome']"
   ]
  },
  {
   "cell_type": "code",
   "execution_count": 20,
   "metadata": {},
   "outputs": [
    {
     "data": {
      "text/plain": [
       "'(41) 3316-7700'"
      ]
     },
     "execution_count": 20,
     "metadata": {},
     "output_type": "execute_result"
    }
   ],
   "source": [
    "dicionario['telefone']"
   ]
  },
  {
   "cell_type": "code",
   "execution_count": 21,
   "metadata": {},
   "outputs": [
    {
     "data": {
      "text/plain": [
       "'fiscal@positivo.com.br'"
      ]
     },
     "execution_count": 21,
     "metadata": {},
     "output_type": "execute_result"
    }
   ],
   "source": [
    "dicionario['email']"
   ]
  },
  {
   "cell_type": "code",
   "execution_count": 22,
   "metadata": {},
   "outputs": [
    {
     "data": {
      "text/plain": [
       "'R JAVARI, 1255 - DISTRITO INDUSTRIAL I - MANAUS / AM'"
      ]
     },
     "execution_count": 22,
     "metadata": {},
     "output_type": "execute_result"
    }
   ],
   "source": [
    "dicionario['logradouro'] + ', ' + dicionario['numero'] + ' - ' + dicionario['bairro'] + ' - ' + dicionario['municipio'] + ' / ' + dicionario['uf']"
   ]
  },
  {
   "cell_type": "code",
   "execution_count": 23,
   "metadata": {},
   "outputs": [
    {
     "data": {
      "text/plain": [
       "array(['20584944000160', '39750831000116', '13081240000100',\n",
       "       '05872523000141', '17281106000103', '34028316001509',\n",
       "       '06981180000116', '65295172000185', '02421421000111',\n",
       "       '29774797000166', '65271868000171', '08403769000162',\n",
       "       '42206665000104', '22816315000144', '49720354000108',\n",
       "       '65353401000170', '49834027000179', '11053762000172',\n",
       "       '01255291000121', '26950671000107', '00139736000145',\n",
       "       '14459158000139', '40225662000184', '42772140000128',\n",
       "       '47217896000129', '28719518000107', '01915071000268',\n",
       "       '03539933000140', '45258432000216', '40695811000179',\n",
       "       '20531237000106', '49039321000199', '30189974000126',\n",
       "       '15761126000156', '27619368000199', '10942831000136',\n",
       "       '11202638000121', '15329152000100', '30820280000145',\n",
       "       '33658130000175', '43892634000109', '20784313000195',\n",
       "       '28429720000196', '06164562000157', '41841443000192',\n",
       "       '04191294000137', '20473312000120', '33149502000138',\n",
       "       '14499338000144', '39327884000129', '01088055000168',\n",
       "       '53202768000104', '18707234000139', '36654449000110',\n",
       "       '38680138000151', '42287352000110', '47272665000118',\n",
       "       '68533967000172', '00957404000178', '17387481000132',\n",
       "       '47725628000118', '42326882000120', '03859239000100',\n",
       "       '11142525000188', '34197944000112', '36489366000113',\n",
       "       '43731740000100', '26306021000123', '15272846000158',\n",
       "       '92221589000176', '17955535000119', '35099493000143',\n",
       "       '51187213000105', '51149498000190', '21331404000138',\n",
       "       '14807420000199', '42405129000120', '36861296000182',\n",
       "       '30582410000159', '17421504000188', '17412396000187',\n",
       "       '19791896006486', '09039582000194', '19791896011307',\n",
       "       '47043589000179', '37748531000177', '20702528000110',\n",
       "       '33180160000119', '71001465000105', '47078180000198',\n",
       "       '14163479000191', '41471161000140', '48087032000100',\n",
       "       '35307908000127', '20942789000107', '48085103000128',\n",
       "       '10653955000100', '20421805000116', '47348831000112',\n",
       "       '18472579000150', '09294294000186', '29455568000189',\n",
       "       '37421415000149', '18563967000147', '37334256000145',\n",
       "       '05291541000130', '06910908000119', '21348054000112',\n",
       "       '16914559000167', '15407876000124', '11186469000183',\n",
       "       '07665456000110', '31206933000163', '10614788000180',\n",
       "       '47170510000170', '35411786000114', '48371796000115',\n",
       "       '07259386000108', '43029546000188', '22327937000109',\n",
       "       '41948062000107', '46970951000194', '31669124000198',\n",
       "       '40224243000128', '08194579000182', '43337798000174',\n",
       "       '48489837000172', '79984357000101', '08532500000186',\n",
       "       '24390855000134', '88619737600', '09210041763', '84165294691',\n",
       "       '03343818607', '08538090000180', '02338743000100',\n",
       "       '02235079000165', '01342660000113', '19037262000159',\n",
       "       '30775478000154', '51523859000116', '35594518000185',\n",
       "       '20240470000130', '33345691000114', '23186594000172',\n",
       "       '05462543000144', '28811718000187', '08792763000124',\n",
       "       '17215437000145', '14491768000110', '37583132000101',\n",
       "       '18516766000199', '03849500000190', '00502302000168',\n",
       "       '03126110000192', '23122344000179', '11768653000131',\n",
       "       '17289559000186', '22252006000199', '06307463000187',\n",
       "       '58512096000157', '24377448000197', '08593332000139',\n",
       "       '45857250000180', '09035549000196', '52134461000150',\n",
       "       '47440165000148', '45125667000159', '31741500000108',\n",
       "       '39242061000109', '06178319000198', '15072268000106',\n",
       "       '02347121000210', '05691235000190', '07385089000109',\n",
       "       '08785181000110', '32085624000145', '26132614000110',\n",
       "       '27130609000131', '34770156000173', '04567265000127',\n",
       "       '13437692000181', '34910336000103', '42810782000174',\n",
       "       '17775469000103', '36310930000199', '14770468000170',\n",
       "       '10190265000153', '07187128000155', '08096586000141',\n",
       "       '09849919647', '05355350747', '04011485640', '33403145867',\n",
       "       '04348364605', '00159155061', '69315850106', '01667301063',\n",
       "       '03700982429', '07154621486', '11732348618', '02604598019',\n",
       "       '10930032608', '02341869335', '10977867650', '08005628609',\n",
       "       '10419496696', '98488040644', '05260173686', '86222945600',\n",
       "       '15374493701', '07978007600', '37225054880', '08208945676',\n",
       "       '09556522603', '05498467192', '01474133037', '03356001582',\n",
       "       '71136596402', '03757867084', '23009961898', '02852112698',\n",
       "       '05690324663', '13091740757', '11973336650', '06620260632',\n",
       "       '17510867711', '10557922607', '14094500740', '01052392245',\n",
       "       '02098297106', '05337761471', '14580897625', '10421628677',\n",
       "       '11469793636', '18582980752', '12801444677', '10076995666',\n",
       "       '12251671676', '07760026609', '13126675670', '11884298680',\n",
       "       '06229234637', '10384918603', '39644514000115', '00946402469',\n",
       "       '03956187032', '13495847707', '10528196723', '02390643051',\n",
       "       '01737297388', '03266662148', '11638652651', '04216220592',\n",
       "       '38531643821', '12698365447', '08065014488', '16191784783',\n",
       "       '07356193523', '12890940470', '14533283608', '00160384281',\n",
       "       '14360660693', '47091114809', '10245777407', '18998907771',\n",
       "       '12557445614', '12929232455', '00815805500', '03949195130',\n",
       "       '49770932833', '02766279032', '03497502200', '04025170086',\n",
       "       '50297130854', '10505450798', '03587731055', '17652395755',\n",
       "       '43397736897', '05178795229', '03711003052', '00033670617',\n",
       "       '19935621766', '03241274055', '05998785177', '10367193400',\n",
       "       '17182844702', '09322746416', '46244059867', '50795833806',\n",
       "       '14487872707', '15216503730', '48380081803', '18908794794',\n",
       "       '71273055446', '61297320310', '14423309610', '18490227713',\n",
       "       '70185545432', '15096490777', '18967323727', '08588385910',\n",
       "       '10535223986', '10534483410', '11093614404', '46894530807',\n",
       "       '70888678428', '01900341654', '15653078794', '04330600005',\n",
       "       '19915430779', '70295354488', '11076559603', '07675382188',\n",
       "       '36745777800', '04932422440', '01897343612', '14128557641',\n",
       "       '71646534450', '08107398440', '50090783840', '10058814990',\n",
       "       '14650941725', '09313181908', '16543861703', '17886705742',\n",
       "       '09024075386', '08192434346', '07068878326', '61027741320',\n",
       "       '15389555716', '05487254389', '09618918408', '07531199351',\n",
       "       '17553101702', '17819737760', '19758466720', '18111551703',\n",
       "       '12420679490', '13378462795', '01803943041', '07014185322',\n",
       "       '70381560473', '16691658760', '17640977770', '03932299043',\n",
       "       '12270743440', '10310050723', '36693105840', '04126374213',\n",
       "       '09780105905', '16241294717', '18677885781', '35482112837',\n",
       "       '46472024880', '18672069781', '13350255612', '08270149535',\n",
       "       '70191099422', '06917037109', '09501536564', '05863190779',\n",
       "       '47250108808', '12863358766', '17297918679', '16663247794',\n",
       "       '07953422417', '04048550080', '11432238450', '01212358236',\n",
       "       '07078180100', '13381798456', '70378077457', '07683245135',\n",
       "       '01681626446', '02055061194', '18283429710', '12990173633',\n",
       "       '17006787793', '06776119511', '14122718783', '07453195136',\n",
       "       '16928724781', '48414411827', '18719321732', '14016064660',\n",
       "       '71099265401', '04572062099', '14229246617', '17914908754',\n",
       "       '04942958059', '04454418012', '12583123440', '08500260408',\n",
       "       '12058870670', '01271268647', '78072301500', '10887692761',\n",
       "       '07214496623', '73267570115', '02660783039', '12248702639',\n",
       "       '11327925680', '02988129088', '64819396315', '05221411610',\n",
       "       '06277835629', '05000019601', '07272192780', '12303008646',\n",
       "       '13705740610', '13488383610', '12422845754', '16679668719',\n",
       "       '02990263020', '11155739698', '03389800085', '01253802670',\n",
       "       '13109385635', '04588043633', '02452040088', '01391465636',\n",
       "       '12911612795', '10220358605', '05183711313', '02686843080',\n",
       "       '02715641052', '45654847813', '39342129803', '03917351013',\n",
       "       '08528728609', '05037716195', '02711016013', '38611738837',\n",
       "       '01197717641', '16221963761', '03442544106', '32413411860',\n",
       "       '05573004794', '10175548706', '02656066166', '03284444050',\n",
       "       '65420527120', '04175711783', '13588077790', '73324256020',\n",
       "       '06513186617', '06383501666', '00129400033', '00958739021',\n",
       "       '03667305680', '13072736618', '12453891731', '14845444712',\n",
       "       '12412391696', '00301438021', '06003234636', '06971819608',\n",
       "       '09003617600', '04160798730', '03983626610', '02195696060',\n",
       "       '33094170854', '14600043707', '13592447785', '13491754712',\n",
       "       '12828788679', '01760382485', '01828701467', '16470722717',\n",
       "       '07790261100', '11787041735', '18062236781', '06969571165',\n",
       "       '02861237112', '12199431770', '17179170704', '18208922714',\n",
       "       '12631750667', '12014140405', '17818819797', '16093543706',\n",
       "       '61856477371', '12001111410', '70652781403', '20092162703',\n",
       "       '06101067599', '15617856790', '01570842647', '20509884784',\n",
       "       '13837181480', '03162914043', '17969699740', '36878897858',\n",
       "       '71290675430', '07924557628', '19950072778', '07286900129',\n",
       "       '05700151200', '11103691406', '01345386257', '10968266746',\n",
       "       '19222059743', '14112520719', '05345749043', '18050454746',\n",
       "       '18888137769', '47578594818', '86532143561', '17627000777',\n",
       "       '04727880199', '11146884443', '13880375488', '62683317379',\n",
       "       '70235621412', '05964137180', '07253642465', '17129274778',\n",
       "       '18810348796', '70512276455', '15669387759', '03432217218',\n",
       "       '08386507594', '03693486050', '70447118471', '10325967911',\n",
       "       '51729004890', '08841404310', '70867957476', '19814820750',\n",
       "       '70240446674', '16889772792', '70552805408', '15031596716',\n",
       "       '18025322777', '18006972796', '19169730784', '10534494706',\n",
       "       '17875396794', '16063461728', '07134697495', '12048196454',\n",
       "       '17848815706', '17643728755', '08356736188', '11358794430',\n",
       "       '06946882156', '60813524393', '09035817524', '14780964709',\n",
       "       '18700669792', '12261113609', '08449156378', '12400972478',\n",
       "       '62047625327', '18793352719', '14337611657', '07613244377',\n",
       "       '08094183551', '15204151680', '86270710049', '10014347490',\n",
       "       '13430671620', '60965948323', '18316797798', '10371704740',\n",
       "       '07367047523', '19211419727', '16332248726', '17617832702',\n",
       "       '06221523192', '33579508806', '11465822429', '71788843479',\n",
       "       '12692669428', '08651017367', '19102541777', '70428349684',\n",
       "       '08043182396', '17856867710', '17667995745', '14727393450',\n",
       "       '19577926711', '02250570698', '17563931767', '18664760764',\n",
       "       '14896448731', '16154077742', '75048159187', '07490028329',\n",
       "       '14899068786', '19279525735', '07472357324', '16078483765',\n",
       "       '16771363759', '71358241481', '15687261710', '07282782199',\n",
       "       '52535057840', '16367875760', '12408906644', '03852817064',\n",
       "       '04861979056', '10386654930', '16329284776', '01829331485',\n",
       "       '09485907427', '17709477798', '06684535594', '08848648983',\n",
       "       '39558422827', '18006151750', '45358499865', '73021016120',\n",
       "       '01091571929', '05302302160', '09686847502', '19186272748',\n",
       "       '13589166754', '98107909704', '35072779000135', '41278073000127',\n",
       "       '48983401000135', '15658667000153', '16619287000172',\n",
       "       '14974969000178', '22640120000196', '52820419000193',\n",
       "       '72929003000115', '15153524000190', '44429540000160',\n",
       "       '03333999000189', '19933130000105', '31682616000113',\n",
       "       '14155601000188', '39560888000152', '02829044000154',\n",
       "       '45793555000176', '13232701000106', '46339373000192',\n",
       "       '04576614000177', '49542190000168', '03541496000107',\n",
       "       '10732150000143', '46440212000190', '30379344000114',\n",
       "       '36484395000192', '46344050000197', '14968227000130',\n",
       "       '44258379000100', '04541813000140', '36181473000180',\n",
       "       '50365029000145', '05019519000135', '18047657000170',\n",
       "       '09450715000110', '20971821000182', '47208666000101',\n",
       "       '37093491000172', '45167065000164', '08945027000169',\n",
       "       '08666165000109', '32846158000173', '23614351000198',\n",
       "       '29309583000119', '01359742000170', '06016341000131',\n",
       "       '50116864000141', '36519422000115', '33739848000196',\n",
       "       '50598926000107', '80934631000117', '45954182000178',\n",
       "       '28925304000189', '24384947000101', '08907476000112',\n",
       "       '19116488000145', '47138059000104', '19994997000170',\n",
       "       '47171447000197', '46497089000144', '48836857000172',\n",
       "       '33726859000131', '47363565000105', '52813485000136',\n",
       "       '10463704000154', '42727372000164', '29874397000122',\n",
       "       '30115210000196', '18202203000126', '32316475000188',\n",
       "       '49300396000181', '48290788000144', '22598513000189',\n",
       "       '02011280000169', '24090700000182', '51048656000115',\n",
       "       '12032954000165', '01904037054', '05824788000174',\n",
       "       '04850455000157', '05520402000211', '44352658000138',\n",
       "       '16650817000145', '49495719000130', '31170338000115',\n",
       "       '50899054000109', '45329312000181', '51607431000151',\n",
       "       '13311624000171', '27209293000178', '27996382000101',\n",
       "       '27373218000148', '05379350000124', '26587509000176',\n",
       "       '05490249000146', '51126735000105', '28184495000175',\n",
       "       '41412829000189', '39619837000230', '53089257000128',\n",
       "       '42152392000154', '43084056000184', '12308936000163',\n",
       "       '29003455000142', '01429437000108', '41680761000119',\n",
       "       '28521211000199', '50387433000110', '06351401000172',\n",
       "       '13759849000195', '33431712000114', '26917959000180',\n",
       "       '42883960000197', '167129', '43471392000180', '09249668000141',\n",
       "       '40426345000126', '81243735000903', '47531706000143',\n",
       "       '33618396000194', '45769285000168', '71359939000195',\n",
       "       '28076288000105', '03979214000140', '12013565000192',\n",
       "       '20915722000183', '20402517000114', '41232530000142',\n",
       "       '14302611000107', '11944439000199', '13642117000110',\n",
       "       '31672925000102', '21971041000103', '33884155000197',\n",
       "       '51118112000182', '12477490000281', '25406063000173',\n",
       "       '29213278000129', '11258338000164', '09049833000111',\n",
       "       '50429810000136', '20203886000188', '28062036000119',\n",
       "       '48337870000187', '37686780678', '42855999000362', '510001',\n",
       "       '05565735602', '10710529775', '73987298049', '12429302721',\n",
       "       '03325653600', '06190533647', '81420579649', '54611288668',\n",
       "       '22579804000120', '26886495000191', '20469180000162',\n",
       "       '04648489000163', '07608700000102', '07285389000108',\n",
       "       '25643420000117', '05194005000116', '25642083000143',\n",
       "       '05552239000198', '20382743000180', '05461861000190',\n",
       "       '01008092000119', '17457610000111', '02668731000135',\n",
       "       '09215883000121', '00316937000170', '19863357000121',\n",
       "       '28460991000104', '21390591000120', '19625870000184',\n",
       "       '11708426000110', '21425822000194', '18226970000175',\n",
       "       '25642331000156', '25656463000137', '33013209000149',\n",
       "       '22016266000165', '24151595000144', '07690038000182',\n",
       "       '25641788000227', '07119678000137', '10197494000108',\n",
       "       '18730868000102', '11010999000257', '01509731000391',\n",
       "       '29034549000189', '08986188000109', '10489922000168',\n",
       "       '21781767000175', '07976966000108', '12799335000109',\n",
       "       '03930660000160', '06334550000123', '17845504000296',\n",
       "       '40131537000105', '22073381000171', '25641788000146',\n",
       "       '08278883000108', '13407849000126', '22705870000107',\n",
       "       '09380005000161', '41884255000141', '14233622000174',\n",
       "       '18901645000160', '03856561000185', '48173482000108',\n",
       "       '41342716000154', '23814905000109', '03059040000105',\n",
       "       '50247694000134', '17413469000155', '29985857000190',\n",
       "       '21013054000161', '41833129000168', '36874484000145',\n",
       "       '26991060000107', '05741540000140', '71346480000195',\n",
       "       '07822118000144', '02784905000125', '28147573000161',\n",
       "       '27862855000188', '03065063000114', '22077499000178',\n",
       "       '00577773000135', '58665102604', '30865026653', '80531580644',\n",
       "       '03402164680', '01412905605', '31791247687', '40274237000185',\n",
       "       '43595813000184', '13444848000151', '14905502000176',\n",
       "       '32477466000179', '26419311000183', '43607262000121',\n",
       "       '50694319000132', '16553940000148', '46321558000170',\n",
       "       '08338868000108', '19231616000100', '50541407000102',\n",
       "       '19807546000187', '30082076000174', '35706397000116',\n",
       "       '44223526000106', '67403154000103', '16926786000102',\n",
       "       '06867357000158', '13977106000191', '41733464000194',\n",
       "       '12021151000105', '09686716000169', '04625702000111',\n",
       "       '26645437000176', '23615514000157', '42587791000148',\n",
       "       '48039993000131', '21831246000185', '01592547000196',\n",
       "       '50548735000122', '06014820000119', '09630087000155',\n",
       "       '49709450000147', '23764812000109', '49482469000101',\n",
       "       '53767074000114', '35246730000151', '43730128000113',\n",
       "       '52704921000139', '10450143000159', '04992161000160',\n",
       "       '47101984000160', '02108761000197', '10600312000190',\n",
       "       '10899734000108', '08928430631', '00583615619', '70886644615',\n",
       "       '79988601620', '13823529000157', '02848925647', '46940235787',\n",
       "       '11803092602', '02932035630', '06425294698', '01372353054',\n",
       "       '00214548333', '05913050622', '04405087628', '65083059304',\n",
       "       '72809914249', '75729466668', '09682651620', '06001342610',\n",
       "       '71866817604', '09260564689', '47493542015', '01368832652',\n",
       "       '34788645000152', '26401571000121', '43241204000127',\n",
       "       '73514580000109', '12482902000190', '05823817000183',\n",
       "       '02803935000131', '34379797000100', '64273048000156',\n",
       "       '18632315000117', '25863390000154', '02929143000108',\n",
       "       '12769734000119', '01098104000143', '15210886000175',\n",
       "       '10372200000129', '40220898000128', '49287499000159',\n",
       "       '11066478000130', '32403992000194', '49493840000122',\n",
       "       '11876320000126', '49737197000135', '49932039772', '09006743690',\n",
       "       '81061242668', '05398679694', '04299096673', '08961702688',\n",
       "       '06153182000117', '07809370000113', '37714493000131',\n",
       "       '15439366000139', '17545961000184', '22077847000107',\n",
       "       '22218845000190', '20918668000120', '27806274000129',\n",
       "       '31097402000180', '41934826000105', '28820255000110',\n",
       "       '24789180000109', '34051252000161', '38072714000188',\n",
       "       '05108702000107', '33640261000125', '20669174000159',\n",
       "       '30284338000183', '34680592000151', '33813237000140',\n",
       "       '06088334000145', '47808825000109', '17417928000179',\n",
       "       '05808628000131', '48411373000181', '27499665000148',\n",
       "       '11169061000101', '39889596000168', '31357846000107',\n",
       "       '54827328000105', '45169346000156', '17623276000129',\n",
       "       '30194698000194', '29644666000164', '22566110000158',\n",
       "       '33084495000133', '02700680669', '07266248000148'], dtype=object)"
      ]
     },
     "execution_count": 23,
     "metadata": {},
     "output_type": "execute_result"
    }
   ],
   "source": [
    "# filtrando dos dados da coluna FAV\n",
    "df_cnpj = df[df['NOME_PI'] != 'PROFISSIONAL DE SAUDE AUTONOMO']\n",
    "df_cnpj = df[df['NOME_PI'] != 'ATENDIMENTO MEDICO-HOPITALR/FC']\n",
    "df_cnpj = df[df['NOME_PI'] != 'IND-INDENIZACOES']\n",
    "df_cnpj = df[df['NOME_PI'] != 'IND - INDENIZACOES']\n",
    "df_cnpj = df[df['NOME_PI'] != 'INDENIZACAO DESPESAS.']\n",
    "df_cnpj = df[df['NOME_PI'] != 'AUXILIO FINANCEIRO NÃO INDENIZÁVEL']\n",
    "df_cnpj = df[df['NOME_PI'] != 'INRE - RESTITUICAO E RESSARCIMENTO']\n",
    "df_cnpj = df[df['NOME_NDSI'] != 'OUTROS SERV.DE TERCEIROS PJ- PAGTO ANTECIPADO']\n",
    "df_cnpj = df[df['FAV'] != '160129']\n",
    "\n",
    "df_cnpj['FAV'].unique()"
   ]
  },
  {
   "cell_type": "code",
   "execution_count": 24,
   "metadata": {},
   "outputs": [
    {
     "data": {
      "text/html": [
       "<div>\n",
       "<style scoped>\n",
       "    .dataframe tbody tr th:only-of-type {\n",
       "        vertical-align: middle;\n",
       "    }\n",
       "\n",
       "    .dataframe tbody tr th {\n",
       "        vertical-align: top;\n",
       "    }\n",
       "\n",
       "    .dataframe thead th {\n",
       "        text-align: right;\n",
       "    }\n",
       "</style>\n",
       "<table border=\"1\" class=\"dataframe\">\n",
       "  <thead>\n",
       "    <tr style=\"text-align: right;\">\n",
       "      <th></th>\n",
       "      <th>UG</th>\n",
       "      <th>SIGLA</th>\n",
       "      <th>CGCFEX</th>\n",
       "      <th>RM</th>\n",
       "      <th>COMANDO</th>\n",
       "      <th>CIDADE</th>\n",
       "      <th>UF</th>\n",
       "      <th>PROGRAMA</th>\n",
       "      <th>AÇÃO</th>\n",
       "      <th>NOME_ACAO</th>\n",
       "      <th>UGR</th>\n",
       "      <th>NOME_UGR</th>\n",
       "      <th>PTRES</th>\n",
       "      <th>PI</th>\n",
       "      <th>RADICAL_4_PI</th>\n",
       "      <th>MEIO_3_PI</th>\n",
       "      <th>SUFIXO_4_PI</th>\n",
       "      <th>NOME_PI</th>\n",
       "      <th>ND</th>\n",
       "      <th>NOME_ND</th>\n",
       "      <th>NDSI</th>\n",
       "      <th>NOME_NDSI</th>\n",
       "      <th>NE</th>\n",
       "      <th>ANO</th>\n",
       "      <th>DATA</th>\n",
       "      <th>CHAVE</th>\n",
       "      <th>FAV</th>\n",
       "      <th>NOME_CREDOR</th>\n",
       "      <th>UF_FAV</th>\n",
       "      <th>TIPO</th>\n",
       "      <th>DIAS</th>\n",
       "      <th>UF_UG</th>\n",
       "      <th>FONTE</th>\n",
       "      <th>MOD_LIC</th>\n",
       "      <th>TIPO_NE</th>\n",
       "      <th>RP</th>\n",
       "      <th>NOME_RP</th>\n",
       "      <th>TIPO_CREDITO</th>\n",
       "      <th>NOME_TIPO_CREDITO</th>\n",
       "      <th>PO</th>\n",
       "      <th>AUTOR_EMENDA</th>\n",
       "      <th>NOME_AUTOR_EMENDA</th>\n",
       "      <th>LOCAL</th>\n",
       "      <th>NOME_UO</th>\n",
       "      <th>UO</th>\n",
       "      <th>A_LIQUIDAR</th>\n",
       "      <th>LIQUIDADO_A_PAGAR</th>\n",
       "      <th>TOTAL_A_PAGAR</th>\n",
       "      <th>PAGO</th>\n",
       "    </tr>\n",
       "  </thead>\n",
       "  <tbody>\n",
       "  </tbody>\n",
       "</table>\n",
       "</div>"
      ],
      "text/plain": [
       "Empty DataFrame\n",
       "Columns: [UG, SIGLA, CGCFEX, RM, COMANDO, CIDADE, UF, PROGRAMA, AÇÃO, NOME_ACAO, UGR, NOME_UGR, PTRES, PI, RADICAL_4_PI, MEIO_3_PI, SUFIXO_4_PI, NOME_PI, ND, NOME_ND, NDSI, NOME_NDSI, NE, ANO, DATA, CHAVE, FAV, NOME_CREDOR, UF_FAV, TIPO, DIAS, UF_UG, FONTE, MOD_LIC, TIPO_NE, RP, NOME_RP, TIPO_CREDITO, NOME_TIPO_CREDITO, PO, AUTOR_EMENDA, NOME_AUTOR_EMENDA, LOCAL, NOME_UO, UO, A_LIQUIDAR, LIQUIDADO_A_PAGAR, TOTAL_A_PAGAR, PAGO]\n",
       "Index: []"
      ]
     },
     "execution_count": 24,
     "metadata": {},
     "output_type": "execute_result"
    }
   ],
   "source": [
    "df_cnpj[df_cnpj['FAV'] == '160129']"
   ]
  },
  {
   "cell_type": "code",
   "execution_count": 25,
   "metadata": {},
   "outputs": [
    {
     "data": {
      "text/html": [
       "<div>\n",
       "<style scoped>\n",
       "    .dataframe tbody tr th:only-of-type {\n",
       "        vertical-align: middle;\n",
       "    }\n",
       "\n",
       "    .dataframe tbody tr th {\n",
       "        vertical-align: top;\n",
       "    }\n",
       "\n",
       "    .dataframe thead th {\n",
       "        text-align: right;\n",
       "    }\n",
       "</style>\n",
       "<table border=\"1\" class=\"dataframe\">\n",
       "  <thead>\n",
       "    <tr style=\"text-align: right;\">\n",
       "      <th></th>\n",
       "      <th>UG</th>\n",
       "      <th>SIGLA</th>\n",
       "      <th>CGCFEX</th>\n",
       "      <th>RM</th>\n",
       "      <th>COMANDO</th>\n",
       "      <th>CIDADE</th>\n",
       "      <th>UF</th>\n",
       "      <th>PROGRAMA</th>\n",
       "      <th>AÇÃO</th>\n",
       "      <th>NOME_ACAO</th>\n",
       "      <th>UGR</th>\n",
       "      <th>NOME_UGR</th>\n",
       "      <th>PTRES</th>\n",
       "      <th>PI</th>\n",
       "      <th>RADICAL_4_PI</th>\n",
       "      <th>MEIO_3_PI</th>\n",
       "      <th>SUFIXO_4_PI</th>\n",
       "      <th>NOME_PI</th>\n",
       "      <th>ND</th>\n",
       "      <th>NOME_ND</th>\n",
       "      <th>NDSI</th>\n",
       "      <th>NOME_NDSI</th>\n",
       "      <th>NE</th>\n",
       "      <th>ANO</th>\n",
       "      <th>DATA</th>\n",
       "      <th>CHAVE</th>\n",
       "      <th>FAV</th>\n",
       "      <th>NOME_CREDOR</th>\n",
       "      <th>UF_FAV</th>\n",
       "      <th>TIPO</th>\n",
       "      <th>DIAS</th>\n",
       "      <th>UF_UG</th>\n",
       "      <th>FONTE</th>\n",
       "      <th>MOD_LIC</th>\n",
       "      <th>TIPO_NE</th>\n",
       "      <th>RP</th>\n",
       "      <th>NOME_RP</th>\n",
       "      <th>TIPO_CREDITO</th>\n",
       "      <th>NOME_TIPO_CREDITO</th>\n",
       "      <th>PO</th>\n",
       "      <th>AUTOR_EMENDA</th>\n",
       "      <th>NOME_AUTOR_EMENDA</th>\n",
       "      <th>LOCAL</th>\n",
       "      <th>NOME_UO</th>\n",
       "      <th>UO</th>\n",
       "      <th>A_LIQUIDAR</th>\n",
       "      <th>LIQUIDADO_A_PAGAR</th>\n",
       "      <th>TOTAL_A_PAGAR</th>\n",
       "      <th>PAGO</th>\n",
       "    </tr>\n",
       "  </thead>\n",
       "  <tbody>\n",
       "    <tr>\n",
       "      <th>3</th>\n",
       "      <td>160129</td>\n",
       "      <td>ESA</td>\n",
       "      <td>4º CGCFEx</td>\n",
       "      <td>4ª RM</td>\n",
       "      <td>CML</td>\n",
       "      <td>Três Corações</td>\n",
       "      <td>MG</td>\n",
       "      <td>0032</td>\n",
       "      <td>2000</td>\n",
       "      <td>ADMINISTRACAO DA UNIDADE</td>\n",
       "      <td>160073</td>\n",
       "      <td>DGO</td>\n",
       "      <td>171460</td>\n",
       "      <td>I3DACNTLICO</td>\n",
       "      <td>I3DA</td>\n",
       "      <td>CNT</td>\n",
       "      <td>LICO</td>\n",
       "      <td>LIMPEZA DE BENS IMÓVEIS</td>\n",
       "      <td>339037</td>\n",
       "      <td>LOCACAO DE MAO-DE-OBRA</td>\n",
       "      <td>33903702</td>\n",
       "      <td>LIMPEZA E CONSERVACAO</td>\n",
       "      <td>2024NE000004</td>\n",
       "      <td>2024</td>\n",
       "      <td>2024-01-10</td>\n",
       "      <td>160129000012024NE000004</td>\n",
       "      <td>39750831000116</td>\n",
       "      <td>ECOLIMP SERVICOS GERAIS LTDA</td>\n",
       "      <td>RJ</td>\n",
       "      <td>ANO</td>\n",
       "      <td>300</td>\n",
       "      <td>MG</td>\n",
       "      <td>1000000000</td>\n",
       "      <td>PREGAO</td>\n",
       "      <td>GLOBAL</td>\n",
       "      <td>2</td>\n",
       "      <td>PRIMARIO DISCRICIONARIO</td>\n",
       "      <td>A</td>\n",
       "      <td>INICIAL (LOA)</td>\n",
       "      <td>0004</td>\n",
       "      <td>000000000000</td>\n",
       "      <td>SEM EMENDA</td>\n",
       "      <td>ESCOLA DE SARGENTOS DAS ARMAS</td>\n",
       "      <td>COMANDO DO EXERCITO</td>\n",
       "      <td>52121</td>\n",
       "      <td>0.00</td>\n",
       "      <td>0.00</td>\n",
       "      <td>0.00</td>\n",
       "      <td>103653.6</td>\n",
       "    </tr>\n",
       "    <tr>\n",
       "      <th>4</th>\n",
       "      <td>160129</td>\n",
       "      <td>ESA</td>\n",
       "      <td>4º CGCFEx</td>\n",
       "      <td>4ª RM</td>\n",
       "      <td>CML</td>\n",
       "      <td>Três Corações</td>\n",
       "      <td>MG</td>\n",
       "      <td>0032</td>\n",
       "      <td>2000</td>\n",
       "      <td>ADMINISTRACAO DA UNIDADE</td>\n",
       "      <td>160073</td>\n",
       "      <td>DGO</td>\n",
       "      <td>171460</td>\n",
       "      <td>I3DACNTLICO</td>\n",
       "      <td>I3DA</td>\n",
       "      <td>CNT</td>\n",
       "      <td>LICO</td>\n",
       "      <td>LIMPEZA DE BENS IMÓVEIS</td>\n",
       "      <td>339037</td>\n",
       "      <td>LOCACAO DE MAO-DE-OBRA</td>\n",
       "      <td>33903702</td>\n",
       "      <td>LIMPEZA E CONSERVACAO</td>\n",
       "      <td>2024NE000071</td>\n",
       "      <td>2024</td>\n",
       "      <td>2024-02-14</td>\n",
       "      <td>160129000012024NE000071</td>\n",
       "      <td>39750831000116</td>\n",
       "      <td>ECOLIMP SERVICOS GERAIS LTDA</td>\n",
       "      <td>RJ</td>\n",
       "      <td>ANO</td>\n",
       "      <td>265</td>\n",
       "      <td>MG</td>\n",
       "      <td>1000000000</td>\n",
       "      <td>PREGAO</td>\n",
       "      <td>GLOBAL</td>\n",
       "      <td>2</td>\n",
       "      <td>PRIMARIO DISCRICIONARIO</td>\n",
       "      <td>A</td>\n",
       "      <td>INICIAL (LOA)</td>\n",
       "      <td>0004</td>\n",
       "      <td>000000000000</td>\n",
       "      <td>SEM EMENDA</td>\n",
       "      <td>ESCOLA DE SARGENTOS DAS ARMAS - AV. SETE DE SE...</td>\n",
       "      <td>COMANDO DO EXERCITO</td>\n",
       "      <td>52121</td>\n",
       "      <td>61923.25</td>\n",
       "      <td>3161.42</td>\n",
       "      <td>65084.67</td>\n",
       "      <td>147825.9</td>\n",
       "    </tr>\n",
       "  </tbody>\n",
       "</table>\n",
       "</div>"
      ],
      "text/plain": [
       "       UG SIGLA     CGCFEX     RM COMANDO         CIDADE  UF PROGRAMA  AÇÃO  \\\n",
       "3  160129   ESA  4º CGCFEx  4ª RM     CML  Três Corações  MG     0032  2000   \n",
       "4  160129   ESA  4º CGCFEx  4ª RM     CML  Três Corações  MG     0032  2000   \n",
       "\n",
       "                  NOME_ACAO     UGR NOME_UGR   PTRES           PI  \\\n",
       "3  ADMINISTRACAO DA UNIDADE  160073      DGO  171460  I3DACNTLICO   \n",
       "4  ADMINISTRACAO DA UNIDADE  160073      DGO  171460  I3DACNTLICO   \n",
       "\n",
       "  RADICAL_4_PI MEIO_3_PI SUFIXO_4_PI                  NOME_PI      ND  \\\n",
       "3         I3DA       CNT        LICO  LIMPEZA DE BENS IMÓVEIS  339037   \n",
       "4         I3DA       CNT        LICO  LIMPEZA DE BENS IMÓVEIS  339037   \n",
       "\n",
       "                  NOME_ND      NDSI              NOME_NDSI            NE  \\\n",
       "3  LOCACAO DE MAO-DE-OBRA  33903702  LIMPEZA E CONSERVACAO  2024NE000004   \n",
       "4  LOCACAO DE MAO-DE-OBRA  33903702  LIMPEZA E CONSERVACAO  2024NE000071   \n",
       "\n",
       "    ANO       DATA                    CHAVE             FAV  \\\n",
       "3  2024 2024-01-10  160129000012024NE000004  39750831000116   \n",
       "4  2024 2024-02-14  160129000012024NE000071  39750831000116   \n",
       "\n",
       "                    NOME_CREDOR UF_FAV TIPO  DIAS UF_UG       FONTE MOD_LIC  \\\n",
       "3  ECOLIMP SERVICOS GERAIS LTDA     RJ  ANO   300    MG  1000000000  PREGAO   \n",
       "4  ECOLIMP SERVICOS GERAIS LTDA     RJ  ANO   265    MG  1000000000  PREGAO   \n",
       "\n",
       "  TIPO_NE RP                  NOME_RP TIPO_CREDITO NOME_TIPO_CREDITO    PO  \\\n",
       "3  GLOBAL  2  PRIMARIO DISCRICIONARIO            A     INICIAL (LOA)  0004   \n",
       "4  GLOBAL  2  PRIMARIO DISCRICIONARIO            A     INICIAL (LOA)  0004   \n",
       "\n",
       "   AUTOR_EMENDA NOME_AUTOR_EMENDA  \\\n",
       "3  000000000000        SEM EMENDA   \n",
       "4  000000000000        SEM EMENDA   \n",
       "\n",
       "                                               LOCAL              NOME_UO  \\\n",
       "3                      ESCOLA DE SARGENTOS DAS ARMAS  COMANDO DO EXERCITO   \n",
       "4  ESCOLA DE SARGENTOS DAS ARMAS - AV. SETE DE SE...  COMANDO DO EXERCITO   \n",
       "\n",
       "      UO  A_LIQUIDAR  LIQUIDADO_A_PAGAR  TOTAL_A_PAGAR      PAGO  \n",
       "3  52121        0.00               0.00           0.00  103653.6  \n",
       "4  52121    61923.25            3161.42       65084.67  147825.9  "
      ]
     },
     "execution_count": 25,
     "metadata": {},
     "output_type": "execute_result"
    }
   ],
   "source": [
    "ano_atual = str(datetime.now().year)\n",
    "\n",
    "\n",
    "df_corrente = df[df['ANO'] == ano_atual]\n",
    "df_corrente.head(2)"
   ]
  },
  {
   "cell_type": "markdown",
   "metadata": {},
   "source": [
    "# Pesquisas no DataFrame"
   ]
  },
  {
   "cell_type": "code",
   "execution_count": 26,
   "metadata": {},
   "outputs": [],
   "source": [
    "# Criando um DataFrame para testes \n",
    "df_teste = df.copy()"
   ]
  },
  {
   "cell_type": "markdown",
   "metadata": {},
   "source": [
    "## Empenhos inscritos em RPNP"
   ]
  },
  {
   "cell_type": "code",
   "execution_count": 27,
   "metadata": {},
   "outputs": [],
   "source": [
    "# Criando um Dataframe para filtrar os empenhos em RPNP\n",
    "df_restos = df_teste[df_teste['ANO'].isin(['2022', '2023'])]\n",
    "df_restos = df_restos[df_restos['A_LIQUIDAR'] !=  0]"
   ]
  },
  {
   "cell_type": "markdown",
   "metadata": {},
   "source": [
    "### Restos a pagar ND 30 e 52"
   ]
  },
  {
   "cell_type": "code",
   "execution_count": 28,
   "metadata": {},
   "outputs": [],
   "source": [
    "df_restos_material = df_restos[df_restos['ND'].isin(['339030', '449052' ])]\n",
    "df_restos_material = df_restos_material.sort_values(by='A_LIQUIDAR', ascending=False)\n",
    "df_restos_material.head()\n",
    "df_restos_material.to_excel('restos_a_pagar_2024.xlsx')"
   ]
  },
  {
   "cell_type": "code",
   "execution_count": 29,
   "metadata": {},
   "outputs": [
    {
     "data": {
      "text/html": [
       "<div>\n",
       "<style scoped>\n",
       "    .dataframe tbody tr th:only-of-type {\n",
       "        vertical-align: middle;\n",
       "    }\n",
       "\n",
       "    .dataframe tbody tr th {\n",
       "        vertical-align: top;\n",
       "    }\n",
       "\n",
       "    .dataframe thead th {\n",
       "        text-align: right;\n",
       "    }\n",
       "</style>\n",
       "<table border=\"1\" class=\"dataframe\">\n",
       "  <thead>\n",
       "    <tr style=\"text-align: right;\">\n",
       "      <th></th>\n",
       "      <th>UG</th>\n",
       "      <th>NOME_ACAO</th>\n",
       "      <th>ANO</th>\n",
       "      <th>NOME_CREDOR</th>\n",
       "      <th>DATA</th>\n",
       "      <th>DIAS</th>\n",
       "      <th>ND</th>\n",
       "      <th>NOME_ND</th>\n",
       "      <th>NDSI</th>\n",
       "      <th>NOME_NDSI</th>\n",
       "      <th>NE</th>\n",
       "      <th>PI</th>\n",
       "      <th>NOME_PI</th>\n",
       "      <th>TIPO</th>\n",
       "      <th>TIPO_NE</th>\n",
       "      <th>NOME_UGR</th>\n",
       "      <th>A_LIQUIDAR</th>\n",
       "      <th>LIQUIDADO_A_PAGAR</th>\n",
       "      <th>TOTAL_A_PAGAR</th>\n",
       "      <th>PAGO</th>\n",
       "    </tr>\n",
       "  </thead>\n",
       "  <tbody>\n",
       "    <tr>\n",
       "      <th>446</th>\n",
       "      <td>160129</td>\n",
       "      <td>CAPACITACAO PROFISSIONAL MILITAR DO E</td>\n",
       "      <td>2023</td>\n",
       "      <td>FACTO TURISMO  LTDA</td>\n",
       "      <td>2023-02-03</td>\n",
       "      <td>641</td>\n",
       "      <td>339033</td>\n",
       "      <td>PASSAGENS E DESPESAS COM LOCOMOCAO</td>\n",
       "      <td>33903301</td>\n",
       "      <td>PASSAGENS PARA O PAIS</td>\n",
       "      <td>2023NE000033</td>\n",
       "      <td>C4ENMILCAPE</td>\n",
       "      <td>CAPACITACAO DE PESSOAL</td>\n",
       "      <td>RPNP</td>\n",
       "      <td>GLOBAL</td>\n",
       "      <td>DECEX/GESTOR</td>\n",
       "      <td>3236.21</td>\n",
       "      <td>295.16</td>\n",
       "      <td>3531.37</td>\n",
       "      <td>18966.73</td>\n",
       "    </tr>\n",
       "    <tr>\n",
       "      <th>447</th>\n",
       "      <td>160129</td>\n",
       "      <td>CAPACITACAO PROFISSIONAL MILITAR DO E</td>\n",
       "      <td>2023</td>\n",
       "      <td>ORLEANS VIAGENS E TURISMO LTDA</td>\n",
       "      <td>2023-02-03</td>\n",
       "      <td>641</td>\n",
       "      <td>339033</td>\n",
       "      <td>PASSAGENS E DESPESAS COM LOCOMOCAO</td>\n",
       "      <td>33903301</td>\n",
       "      <td>PASSAGENS PARA O PAIS</td>\n",
       "      <td>2023NE000034</td>\n",
       "      <td>C4ENMILCAPE</td>\n",
       "      <td>CAPACITACAO DE PESSOAL</td>\n",
       "      <td>RPNP</td>\n",
       "      <td>GLOBAL</td>\n",
       "      <td>DECEX/GESTOR</td>\n",
       "      <td>1769.50</td>\n",
       "      <td>128.21</td>\n",
       "      <td>1897.71</td>\n",
       "      <td>7920.04</td>\n",
       "    </tr>\n",
       "  </tbody>\n",
       "</table>\n",
       "</div>"
      ],
      "text/plain": [
       "         UG                              NOME_ACAO   ANO  \\\n",
       "446  160129  CAPACITACAO PROFISSIONAL MILITAR DO E  2023   \n",
       "447  160129  CAPACITACAO PROFISSIONAL MILITAR DO E  2023   \n",
       "\n",
       "                        NOME_CREDOR       DATA  DIAS      ND  \\\n",
       "446             FACTO TURISMO  LTDA 2023-02-03   641  339033   \n",
       "447  ORLEANS VIAGENS E TURISMO LTDA 2023-02-03   641  339033   \n",
       "\n",
       "                                NOME_ND      NDSI              NOME_NDSI  \\\n",
       "446  PASSAGENS E DESPESAS COM LOCOMOCAO  33903301  PASSAGENS PARA O PAIS   \n",
       "447  PASSAGENS E DESPESAS COM LOCOMOCAO  33903301  PASSAGENS PARA O PAIS   \n",
       "\n",
       "               NE           PI                 NOME_PI  TIPO TIPO_NE  \\\n",
       "446  2023NE000033  C4ENMILCAPE  CAPACITACAO DE PESSOAL  RPNP  GLOBAL   \n",
       "447  2023NE000034  C4ENMILCAPE  CAPACITACAO DE PESSOAL  RPNP  GLOBAL   \n",
       "\n",
       "         NOME_UGR  A_LIQUIDAR  LIQUIDADO_A_PAGAR  TOTAL_A_PAGAR      PAGO  \n",
       "446  DECEX/GESTOR     3236.21             295.16        3531.37  18966.73  \n",
       "447  DECEX/GESTOR     1769.50             128.21        1897.71   7920.04  "
      ]
     },
     "execution_count": 29,
     "metadata": {},
     "output_type": "execute_result"
    }
   ],
   "source": [
    "cols = ['UG', 'NOME_ACAO', 'ANO', 'NOME_CREDOR',\n",
    "'DATA', 'DIAS', 'ND', 'NOME_ND', 'NDSI', 'NOME_NDSI', 'NE', 'PI', \n",
    "'NOME_PI', 'TIPO', 'TIPO_NE', 'NOME_UGR', 'A_LIQUIDAR', \n",
    "'LIQUIDADO_A_PAGAR', 'TOTAL_A_PAGAR', 'PAGO']\n",
    "\n",
    "df_filtro = df_teste.loc[:,cols]\n",
    "df_filtro = df_filtro[df_filtro['A_LIQUIDAR'] != 0]\n",
    "df_filtro.sort_values(by='DIAS', ascending=False).head(2)"
   ]
  },
  {
   "cell_type": "markdown",
   "metadata": {},
   "source": [
    "### Filtros Diversos"
   ]
  },
  {
   "cell_type": "code",
   "execution_count": 30,
   "metadata": {},
   "outputs": [],
   "source": [
    "df_liquidar = df_teste[df_teste['A_LIQUIDAR'] != 0].sort_values(by= 'DIAS', ascending= False).reset_index(drop=True)"
   ]
  },
  {
   "cell_type": "code",
   "execution_count": 31,
   "metadata": {},
   "outputs": [
    {
     "data": {
      "text/html": [
       "<div>\n",
       "<style scoped>\n",
       "    .dataframe tbody tr th:only-of-type {\n",
       "        vertical-align: middle;\n",
       "    }\n",
       "\n",
       "    .dataframe tbody tr th {\n",
       "        vertical-align: top;\n",
       "    }\n",
       "\n",
       "    .dataframe thead th {\n",
       "        text-align: right;\n",
       "    }\n",
       "</style>\n",
       "<table border=\"1\" class=\"dataframe\">\n",
       "  <thead>\n",
       "    <tr style=\"text-align: right;\">\n",
       "      <th></th>\n",
       "      <th>UG</th>\n",
       "      <th>NOME_ACAO</th>\n",
       "      <th>NOME_UGR</th>\n",
       "      <th>PI</th>\n",
       "      <th>NOME_PI</th>\n",
       "      <th>ND</th>\n",
       "      <th>NOME_ND</th>\n",
       "      <th>NDSI</th>\n",
       "      <th>NOME_NDSI</th>\n",
       "      <th>NE</th>\n",
       "      <th>ANO</th>\n",
       "      <th>DATA</th>\n",
       "      <th>FAV</th>\n",
       "      <th>NOME_CREDOR</th>\n",
       "      <th>UF_FAV</th>\n",
       "      <th>TIPO</th>\n",
       "      <th>DIAS</th>\n",
       "      <th>UF_UG</th>\n",
       "      <th>MOD_LIC</th>\n",
       "      <th>TIPO_NE</th>\n",
       "      <th>RP</th>\n",
       "      <th>NOME_RP</th>\n",
       "      <th>UO</th>\n",
       "      <th>NOME_UO</th>\n",
       "      <th>A_LIQUIDAR</th>\n",
       "      <th>LIQUIDADO_A_PAGAR</th>\n",
       "      <th>TOTAL_A_PAGAR</th>\n",
       "      <th>PAGO</th>\n",
       "    </tr>\n",
       "  </thead>\n",
       "  <tbody>\n",
       "    <tr>\n",
       "      <th>0</th>\n",
       "      <td>160129</td>\n",
       "      <td>CAPACITACAO PROFISSIONAL MILITAR DO E</td>\n",
       "      <td>DECEX/GESTOR</td>\n",
       "      <td>C4ENMILCAPE</td>\n",
       "      <td>CAPACITACAO DE PESSOAL</td>\n",
       "      <td>339033</td>\n",
       "      <td>PASSAGENS E DESPESAS COM LOCOMOCAO</td>\n",
       "      <td>33903301</td>\n",
       "      <td>PASSAGENS PARA O PAIS</td>\n",
       "      <td>2023NE000033</td>\n",
       "      <td>2023</td>\n",
       "      <td>2023-02-03</td>\n",
       "      <td>14807420000199</td>\n",
       "      <td>FACTO TURISMO  LTDA</td>\n",
       "      <td>SP</td>\n",
       "      <td>RPNP</td>\n",
       "      <td>641</td>\n",
       "      <td>MG</td>\n",
       "      <td>PREGAO</td>\n",
       "      <td>GLOBAL</td>\n",
       "      <td>2</td>\n",
       "      <td>PRIMARIO DISCRICIONARIO</td>\n",
       "      <td>52121</td>\n",
       "      <td>COMANDO DO EXERCITO</td>\n",
       "      <td>3236.21</td>\n",
       "      <td>295.16</td>\n",
       "      <td>3531.37</td>\n",
       "      <td>18966.73</td>\n",
       "    </tr>\n",
       "    <tr>\n",
       "      <th>1</th>\n",
       "      <td>160129</td>\n",
       "      <td>CAPACITACAO PROFISSIONAL MILITAR DO E</td>\n",
       "      <td>DECEX/GESTOR</td>\n",
       "      <td>C4ENMILCAPE</td>\n",
       "      <td>CAPACITACAO DE PESSOAL</td>\n",
       "      <td>339033</td>\n",
       "      <td>PASSAGENS E DESPESAS COM LOCOMOCAO</td>\n",
       "      <td>33903301</td>\n",
       "      <td>PASSAGENS PARA O PAIS</td>\n",
       "      <td>2023NE000034</td>\n",
       "      <td>2023</td>\n",
       "      <td>2023-02-03</td>\n",
       "      <td>21331404000138</td>\n",
       "      <td>ORLEANS VIAGENS E TURISMO LTDA</td>\n",
       "      <td>SP</td>\n",
       "      <td>RPNP</td>\n",
       "      <td>641</td>\n",
       "      <td>MG</td>\n",
       "      <td>PREGAO</td>\n",
       "      <td>GLOBAL</td>\n",
       "      <td>2</td>\n",
       "      <td>PRIMARIO DISCRICIONARIO</td>\n",
       "      <td>52121</td>\n",
       "      <td>COMANDO DO EXERCITO</td>\n",
       "      <td>1769.50</td>\n",
       "      <td>128.21</td>\n",
       "      <td>1897.71</td>\n",
       "      <td>7920.04</td>\n",
       "    </tr>\n",
       "    <tr>\n",
       "      <th>2</th>\n",
       "      <td>160129</td>\n",
       "      <td>CAPACITACAO PROFISSIONAL MILITAR DO E</td>\n",
       "      <td>DECEX/GESTOR</td>\n",
       "      <td>C4ENMILCAPE</td>\n",
       "      <td>CAPACITACAO DE PESSOAL</td>\n",
       "      <td>339039</td>\n",
       "      <td>OUTROS SERVICOS DE TERCEIROS - PESSOA JURIDICA</td>\n",
       "      <td>33903946</td>\n",
       "      <td>SERVICOS DOMESTICOS</td>\n",
       "      <td>2023NE000157</td>\n",
       "      <td>2023</td>\n",
       "      <td>2023-02-15</td>\n",
       "      <td>02347121000210</td>\n",
       "      <td>ASMAR &amp; FURTADO LTDA</td>\n",
       "      <td>MG</td>\n",
       "      <td>RPNP</td>\n",
       "      <td>629</td>\n",
       "      <td>MG</td>\n",
       "      <td>PREGAO</td>\n",
       "      <td>GLOBAL</td>\n",
       "      <td>2</td>\n",
       "      <td>PRIMARIO DISCRICIONARIO</td>\n",
       "      <td>52121</td>\n",
       "      <td>COMANDO DO EXERCITO</td>\n",
       "      <td>301.55</td>\n",
       "      <td>0.00</td>\n",
       "      <td>301.55</td>\n",
       "      <td>3745.58</td>\n",
       "    </tr>\n",
       "    <tr>\n",
       "      <th>3</th>\n",
       "      <td>160129</td>\n",
       "      <td>CAPACITACAO PROFISSIONAL MILITAR DO E</td>\n",
       "      <td>DECEX/GESTOR</td>\n",
       "      <td>C4ENMILCAPE</td>\n",
       "      <td>CAPACITACAO DE PESSOAL</td>\n",
       "      <td>339033</td>\n",
       "      <td>PASSAGENS E DESPESAS COM LOCOMOCAO</td>\n",
       "      <td>33903301</td>\n",
       "      <td>PASSAGENS PARA O PAIS</td>\n",
       "      <td>2023NE000329</td>\n",
       "      <td>2023</td>\n",
       "      <td>2023-04-03</td>\n",
       "      <td>14807420000199</td>\n",
       "      <td>FACTO TURISMO  LTDA</td>\n",
       "      <td>SP</td>\n",
       "      <td>RPNP</td>\n",
       "      <td>582</td>\n",
       "      <td>MG</td>\n",
       "      <td>PREGAO</td>\n",
       "      <td>GLOBAL</td>\n",
       "      <td>2</td>\n",
       "      <td>PRIMARIO DISCRICIONARIO</td>\n",
       "      <td>52121</td>\n",
       "      <td>COMANDO DO EXERCITO</td>\n",
       "      <td>330.22</td>\n",
       "      <td>75.55</td>\n",
       "      <td>405.77</td>\n",
       "      <td>3752.71</td>\n",
       "    </tr>\n",
       "    <tr>\n",
       "      <th>4</th>\n",
       "      <td>160129</td>\n",
       "      <td>CAPACITACAO PROFISSIONAL MILITAR DO E</td>\n",
       "      <td>DECEX/GESTOR</td>\n",
       "      <td>C4ENMILOUTR</td>\n",
       "      <td>RESERVA  (DETMIL)</td>\n",
       "      <td>339039</td>\n",
       "      <td>OUTROS SERVICOS DE TERCEIROS - PESSOA JURIDICA</td>\n",
       "      <td>33903946</td>\n",
       "      <td>SERVICOS DOMESTICOS</td>\n",
       "      <td>2023NE000529</td>\n",
       "      <td>2023</td>\n",
       "      <td>2023-05-19</td>\n",
       "      <td>02347121000210</td>\n",
       "      <td>ASMAR &amp; FURTADO LTDA</td>\n",
       "      <td>MG</td>\n",
       "      <td>RPNP</td>\n",
       "      <td>536</td>\n",
       "      <td>MG</td>\n",
       "      <td>PREGAO</td>\n",
       "      <td>GLOBAL</td>\n",
       "      <td>2</td>\n",
       "      <td>PRIMARIO DISCRICIONARIO</td>\n",
       "      <td>52121</td>\n",
       "      <td>COMANDO DO EXERCITO</td>\n",
       "      <td>6560.71</td>\n",
       "      <td>0.00</td>\n",
       "      <td>6560.71</td>\n",
       "      <td>3773.39</td>\n",
       "    </tr>\n",
       "  </tbody>\n",
       "</table>\n",
       "</div>"
      ],
      "text/plain": [
       "       UG                              NOME_ACAO      NOME_UGR           PI  \\\n",
       "0  160129  CAPACITACAO PROFISSIONAL MILITAR DO E  DECEX/GESTOR  C4ENMILCAPE   \n",
       "1  160129  CAPACITACAO PROFISSIONAL MILITAR DO E  DECEX/GESTOR  C4ENMILCAPE   \n",
       "2  160129  CAPACITACAO PROFISSIONAL MILITAR DO E  DECEX/GESTOR  C4ENMILCAPE   \n",
       "3  160129  CAPACITACAO PROFISSIONAL MILITAR DO E  DECEX/GESTOR  C4ENMILCAPE   \n",
       "4  160129  CAPACITACAO PROFISSIONAL MILITAR DO E  DECEX/GESTOR  C4ENMILOUTR   \n",
       "\n",
       "                  NOME_PI      ND  \\\n",
       "0  CAPACITACAO DE PESSOAL  339033   \n",
       "1  CAPACITACAO DE PESSOAL  339033   \n",
       "2  CAPACITACAO DE PESSOAL  339039   \n",
       "3  CAPACITACAO DE PESSOAL  339033   \n",
       "4       RESERVA  (DETMIL)  339039   \n",
       "\n",
       "                                          NOME_ND      NDSI  \\\n",
       "0              PASSAGENS E DESPESAS COM LOCOMOCAO  33903301   \n",
       "1              PASSAGENS E DESPESAS COM LOCOMOCAO  33903301   \n",
       "2  OUTROS SERVICOS DE TERCEIROS - PESSOA JURIDICA  33903946   \n",
       "3              PASSAGENS E DESPESAS COM LOCOMOCAO  33903301   \n",
       "4  OUTROS SERVICOS DE TERCEIROS - PESSOA JURIDICA  33903946   \n",
       "\n",
       "               NOME_NDSI            NE   ANO       DATA             FAV  \\\n",
       "0  PASSAGENS PARA O PAIS  2023NE000033  2023 2023-02-03  14807420000199   \n",
       "1  PASSAGENS PARA O PAIS  2023NE000034  2023 2023-02-03  21331404000138   \n",
       "2    SERVICOS DOMESTICOS  2023NE000157  2023 2023-02-15  02347121000210   \n",
       "3  PASSAGENS PARA O PAIS  2023NE000329  2023 2023-04-03  14807420000199   \n",
       "4    SERVICOS DOMESTICOS  2023NE000529  2023 2023-05-19  02347121000210   \n",
       "\n",
       "                      NOME_CREDOR UF_FAV  TIPO  DIAS UF_UG MOD_LIC TIPO_NE RP  \\\n",
       "0             FACTO TURISMO  LTDA     SP  RPNP   641    MG  PREGAO  GLOBAL  2   \n",
       "1  ORLEANS VIAGENS E TURISMO LTDA     SP  RPNP   641    MG  PREGAO  GLOBAL  2   \n",
       "2            ASMAR & FURTADO LTDA     MG  RPNP   629    MG  PREGAO  GLOBAL  2   \n",
       "3             FACTO TURISMO  LTDA     SP  RPNP   582    MG  PREGAO  GLOBAL  2   \n",
       "4            ASMAR & FURTADO LTDA     MG  RPNP   536    MG  PREGAO  GLOBAL  2   \n",
       "\n",
       "                   NOME_RP     UO              NOME_UO  A_LIQUIDAR  \\\n",
       "0  PRIMARIO DISCRICIONARIO  52121  COMANDO DO EXERCITO     3236.21   \n",
       "1  PRIMARIO DISCRICIONARIO  52121  COMANDO DO EXERCITO     1769.50   \n",
       "2  PRIMARIO DISCRICIONARIO  52121  COMANDO DO EXERCITO      301.55   \n",
       "3  PRIMARIO DISCRICIONARIO  52121  COMANDO DO EXERCITO      330.22   \n",
       "4  PRIMARIO DISCRICIONARIO  52121  COMANDO DO EXERCITO     6560.71   \n",
       "\n",
       "   LIQUIDADO_A_PAGAR  TOTAL_A_PAGAR      PAGO  \n",
       "0             295.16        3531.37  18966.73  \n",
       "1             128.21        1897.71   7920.04  \n",
       "2               0.00         301.55   3745.58  \n",
       "3              75.55         405.77   3752.71  \n",
       "4               0.00        6560.71   3773.39  "
      ]
     },
     "execution_count": 31,
     "metadata": {},
     "output_type": "execute_result"
    }
   ],
   "source": [
    "cols = ['UG','NOME_ACAO', 'NOME_UGR', 'PI',\n",
    "       'NOME_PI', 'ND', 'NOME_ND', 'NDSI', 'NOME_NDSI', 'NE', 'ANO', 'DATA',\n",
    "       'FAV', 'NOME_CREDOR', 'UF_FAV', 'TIPO', 'DIAS', 'UF_UG',\n",
    "       'MOD_LIC', 'TIPO_NE', 'RP', 'NOME_RP', 'UO', 'NOME_UO', 'A_LIQUIDAR',\n",
    "       'LIQUIDADO_A_PAGAR', 'TOTAL_A_PAGAR', 'PAGO']\n",
    "\n",
    "df_liquidar.loc[:, cols].head()"
   ]
  },
  {
   "cell_type": "code",
   "execution_count": 32,
   "metadata": {},
   "outputs": [],
   "source": [
    "df_liquidar.to_excel('empenhos_2024_liquidar.xlsx')"
   ]
  },
  {
   "cell_type": "code",
   "execution_count": 33,
   "metadata": {},
   "outputs": [],
   "source": [
    "df_empenhos_mais_60_dias = df_teste[(df_teste['DIAS'] >= 60)& (df_teste['A_LIQUIDAR'] != 0)].sort_values(by=\"A_LIQUIDAR\", ascending=False)\n",
    "\n",
    "df_empenhos_mais_60_dias.to_excel('empenhos_mais_60_dias.xlsx')"
   ]
  },
  {
   "cell_type": "code",
   "execution_count": 34,
   "metadata": {},
   "outputs": [],
   "source": [
    "df_ensino = df_teste[df_teste['AÇÃO'] == '8965']"
   ]
  },
  {
   "cell_type": "code",
   "execution_count": 35,
   "metadata": {},
   "outputs": [
    {
     "name": "stdout",
     "output_type": "stream",
     "text": [
      "O total pago pela ESA até o momento foi: R$ 1.359.102,77\n",
      "O total de saldo a liquidar pela ESA até o momento foi: R$ 2.048.485,77\n",
      "O total de saldo liquidado a pagar pela ESA até o momento foi: R$ 301.873,01\n",
      "O total de saldo a pagar pela ESA até o momento foi: R$ 2.350.358,78\n"
     ]
    }
   ],
   "source": [
    "total_pago_ensino = df_ensino['PAGO'].sum().round(2)\n",
    "total_a_liquidar_ensino = df_ensino['A_LIQUIDAR'].sum().round(2)\n",
    "total_liquidado_a_pagar_ensino = df_ensino['LIQUIDADO_A_PAGAR'].sum().round(2)\n",
    "total_a_pagar_ensino = df_ensino['TOTAL_A_PAGAR'].sum().round(2)\n",
    "\n",
    "\n",
    "print(f'O total pago pela ESA até o momento foi: {locale.currency(total_pago_ensino, grouping=True)}')\n",
    "print(f'O total de saldo a liquidar pela ESA até o momento foi: {locale.currency(total_a_liquidar_ensino, grouping=True)}')\n",
    "print(f'O total de saldo liquidado a pagar pela ESA até o momento foi: {locale.currency(total_liquidado_a_pagar_ensino, grouping=True)}')\n",
    "print(f'O total de saldo a pagar pela ESA até o momento foi: {locale.currency(total_a_pagar_ensino, grouping=True)}')"
   ]
  },
  {
   "cell_type": "code",
   "execution_count": 36,
   "metadata": {},
   "outputs": [
    {
     "data": {
      "text/html": [
       "<div>\n",
       "<style scoped>\n",
       "    .dataframe tbody tr th:only-of-type {\n",
       "        vertical-align: middle;\n",
       "    }\n",
       "\n",
       "    .dataframe tbody tr th {\n",
       "        vertical-align: top;\n",
       "    }\n",
       "\n",
       "    .dataframe thead th {\n",
       "        text-align: right;\n",
       "    }\n",
       "</style>\n",
       "<table border=\"1\" class=\"dataframe\">\n",
       "  <thead>\n",
       "    <tr style=\"text-align: right;\">\n",
       "      <th></th>\n",
       "      <th>UG</th>\n",
       "      <th>SIGLA</th>\n",
       "      <th>CGCFEX</th>\n",
       "      <th>RM</th>\n",
       "      <th>COMANDO</th>\n",
       "      <th>CIDADE</th>\n",
       "      <th>UF</th>\n",
       "      <th>PROGRAMA</th>\n",
       "      <th>AÇÃO</th>\n",
       "      <th>NOME_ACAO</th>\n",
       "      <th>UGR</th>\n",
       "      <th>NOME_UGR</th>\n",
       "      <th>PTRES</th>\n",
       "      <th>PI</th>\n",
       "      <th>RADICAL_4_PI</th>\n",
       "      <th>MEIO_3_PI</th>\n",
       "      <th>SUFIXO_4_PI</th>\n",
       "      <th>NOME_PI</th>\n",
       "      <th>ND</th>\n",
       "      <th>NOME_ND</th>\n",
       "      <th>NDSI</th>\n",
       "      <th>NOME_NDSI</th>\n",
       "      <th>NE</th>\n",
       "      <th>ANO</th>\n",
       "      <th>DATA</th>\n",
       "      <th>CHAVE</th>\n",
       "      <th>FAV</th>\n",
       "      <th>NOME_CREDOR</th>\n",
       "      <th>UF_FAV</th>\n",
       "      <th>TIPO</th>\n",
       "      <th>DIAS</th>\n",
       "      <th>UF_UG</th>\n",
       "      <th>FONTE</th>\n",
       "      <th>MOD_LIC</th>\n",
       "      <th>TIPO_NE</th>\n",
       "      <th>RP</th>\n",
       "      <th>NOME_RP</th>\n",
       "      <th>TIPO_CREDITO</th>\n",
       "      <th>NOME_TIPO_CREDITO</th>\n",
       "      <th>PO</th>\n",
       "      <th>AUTOR_EMENDA</th>\n",
       "      <th>NOME_AUTOR_EMENDA</th>\n",
       "      <th>LOCAL</th>\n",
       "      <th>NOME_UO</th>\n",
       "      <th>UO</th>\n",
       "      <th>A_LIQUIDAR</th>\n",
       "      <th>LIQUIDADO_A_PAGAR</th>\n",
       "      <th>TOTAL_A_PAGAR</th>\n",
       "      <th>PAGO</th>\n",
       "    </tr>\n",
       "  </thead>\n",
       "  <tbody>\n",
       "    <tr>\n",
       "      <th>1550</th>\n",
       "      <td>160129</td>\n",
       "      <td>ESA</td>\n",
       "      <td>4º CGCFEx</td>\n",
       "      <td>4ª RM</td>\n",
       "      <td>CML</td>\n",
       "      <td>Três Corações</td>\n",
       "      <td>MG</td>\n",
       "      <td>6112</td>\n",
       "      <td>8965</td>\n",
       "      <td>CAPACITACAO PROFISSIONAL MILITAR DO E</td>\n",
       "      <td>160503</td>\n",
       "      <td>DECEX/GESTOR</td>\n",
       "      <td>232082</td>\n",
       "      <td>C4ENMILCAPE</td>\n",
       "      <td>C4EN</td>\n",
       "      <td>MIL</td>\n",
       "      <td>CAPE</td>\n",
       "      <td>CAPACITACAO DE PESSOAL</td>\n",
       "      <td>339033</td>\n",
       "      <td>PASSAGENS E DESPESAS COM LOCOMOCAO</td>\n",
       "      <td>33903309</td>\n",
       "      <td>TRANSPORTE DE SERVIDORES</td>\n",
       "      <td>2024NE000810</td>\n",
       "      <td>2024</td>\n",
       "      <td>2024-07-03</td>\n",
       "      <td>160129000012024NE000810</td>\n",
       "      <td>05824788000174</td>\n",
       "      <td>EMPRESA DE TRANSPORTES KOPERECK LTDA</td>\n",
       "      <td>RS</td>\n",
       "      <td>ANO</td>\n",
       "      <td>125</td>\n",
       "      <td>MG</td>\n",
       "      <td>1000000000</td>\n",
       "      <td>PREGAO</td>\n",
       "      <td>GLOBAL</td>\n",
       "      <td>2</td>\n",
       "      <td>PRIMARIO DISCRICIONARIO</td>\n",
       "      <td>A</td>\n",
       "      <td>INICIAL (LOA)</td>\n",
       "      <td>0000</td>\n",
       "      <td>000000000000</td>\n",
       "      <td>SEM EMENDA</td>\n",
       "      <td>ESCOLA DE SARGENTOS DAS ARMAS - AV. SETE DE SE...</td>\n",
       "      <td>COMANDO DO EXERCITO</td>\n",
       "      <td>52121</td>\n",
       "      <td>485091.90</td>\n",
       "      <td>20177.41</td>\n",
       "      <td>505269.31</td>\n",
       "      <td>244733.21</td>\n",
       "    </tr>\n",
       "    <tr>\n",
       "      <th>1552</th>\n",
       "      <td>160129</td>\n",
       "      <td>ESA</td>\n",
       "      <td>4º CGCFEx</td>\n",
       "      <td>4ª RM</td>\n",
       "      <td>CML</td>\n",
       "      <td>Três Corações</td>\n",
       "      <td>MG</td>\n",
       "      <td>6112</td>\n",
       "      <td>8965</td>\n",
       "      <td>CAPACITACAO PROFISSIONAL MILITAR DO E</td>\n",
       "      <td>160503</td>\n",
       "      <td>DECEX/GESTOR</td>\n",
       "      <td>232082</td>\n",
       "      <td>C4ENMILCAPE</td>\n",
       "      <td>C4EN</td>\n",
       "      <td>MIL</td>\n",
       "      <td>CAPE</td>\n",
       "      <td>CAPACITACAO DE PESSOAL</td>\n",
       "      <td>339033</td>\n",
       "      <td>PASSAGENS E DESPESAS COM LOCOMOCAO</td>\n",
       "      <td>33903309</td>\n",
       "      <td>TRANSPORTE DE SERVIDORES</td>\n",
       "      <td>2024NE001171</td>\n",
       "      <td>2024</td>\n",
       "      <td>2024-10-07</td>\n",
       "      <td>160129000012024NE001171</td>\n",
       "      <td>05824788000174</td>\n",
       "      <td>EMPRESA DE TRANSPORTES KOPERECK LTDA</td>\n",
       "      <td>RS</td>\n",
       "      <td>ANO</td>\n",
       "      <td>29</td>\n",
       "      <td>MG</td>\n",
       "      <td>1000000000</td>\n",
       "      <td>PREGAO</td>\n",
       "      <td>GLOBAL</td>\n",
       "      <td>2</td>\n",
       "      <td>PRIMARIO DISCRICIONARIO</td>\n",
       "      <td>A</td>\n",
       "      <td>INICIAL (LOA)</td>\n",
       "      <td>0000</td>\n",
       "      <td>000000000000</td>\n",
       "      <td>SEM EMENDA</td>\n",
       "      <td>ESCOLA DE SARGENTOS DAS ARMAS - AV. SETE DE SE...</td>\n",
       "      <td>COMANDO DO EXERCITO</td>\n",
       "      <td>52121</td>\n",
       "      <td>373971.98</td>\n",
       "      <td>0.00</td>\n",
       "      <td>373971.98</td>\n",
       "      <td>0.00</td>\n",
       "    </tr>\n",
       "    <tr>\n",
       "      <th>1558</th>\n",
       "      <td>160129</td>\n",
       "      <td>ESA</td>\n",
       "      <td>4º CGCFEx</td>\n",
       "      <td>4ª RM</td>\n",
       "      <td>CML</td>\n",
       "      <td>Três Corações</td>\n",
       "      <td>MG</td>\n",
       "      <td>6112</td>\n",
       "      <td>8965</td>\n",
       "      <td>CAPACITACAO PROFISSIONAL MILITAR DO E</td>\n",
       "      <td>160503</td>\n",
       "      <td>DECEX/GESTOR</td>\n",
       "      <td>232082</td>\n",
       "      <td>C4ENMILCAPE</td>\n",
       "      <td>C4EN</td>\n",
       "      <td>MIL</td>\n",
       "      <td>CAPE</td>\n",
       "      <td>CAPACITACAO DE PESSOAL</td>\n",
       "      <td>339039</td>\n",
       "      <td>OUTROS SERVICOS DE TERCEIROS - PESSOA JURIDICA</td>\n",
       "      <td>33903947</td>\n",
       "      <td>SERVICOS DE COMUNICACAO EM GERAL</td>\n",
       "      <td>2024NE001173</td>\n",
       "      <td>2024</td>\n",
       "      <td>2024-10-07</td>\n",
       "      <td>160129000012024NE001173</td>\n",
       "      <td>34028316001509</td>\n",
       "      <td>EMPRESA BRASILEIRA DE CORREIOS E TELEGRAFOS</td>\n",
       "      <td>MG</td>\n",
       "      <td>ANO</td>\n",
       "      <td>29</td>\n",
       "      <td>MG</td>\n",
       "      <td>1000000000</td>\n",
       "      <td>DISPENSA DE LICITACAO</td>\n",
       "      <td>GLOBAL</td>\n",
       "      <td>2</td>\n",
       "      <td>PRIMARIO DISCRICIONARIO</td>\n",
       "      <td>A</td>\n",
       "      <td>INICIAL (LOA)</td>\n",
       "      <td>0000</td>\n",
       "      <td>000000000000</td>\n",
       "      <td>SEM EMENDA</td>\n",
       "      <td>ESCOLA DE SARGENTOS DAS ARMAS</td>\n",
       "      <td>COMANDO DO EXERCITO</td>\n",
       "      <td>52121</td>\n",
       "      <td>345630.79</td>\n",
       "      <td>0.00</td>\n",
       "      <td>345630.79</td>\n",
       "      <td>0.00</td>\n",
       "    </tr>\n",
       "    <tr>\n",
       "      <th>1467</th>\n",
       "      <td>160129</td>\n",
       "      <td>ESA</td>\n",
       "      <td>4º CGCFEx</td>\n",
       "      <td>4ª RM</td>\n",
       "      <td>CML</td>\n",
       "      <td>Três Corações</td>\n",
       "      <td>MG</td>\n",
       "      <td>6112</td>\n",
       "      <td>8965</td>\n",
       "      <td>CAPACITACAO PROFISSIONAL MILITAR DO E</td>\n",
       "      <td>160129</td>\n",
       "      <td>ESA</td>\n",
       "      <td>232082</td>\n",
       "      <td>C4ENMILCAPE</td>\n",
       "      <td>C4EN</td>\n",
       "      <td>MIL</td>\n",
       "      <td>CAPE</td>\n",
       "      <td>CAPACITACAO DE PESSOAL</td>\n",
       "      <td>339093</td>\n",
       "      <td>INDENIZACOES E RESTITUICOES</td>\n",
       "      <td>33909302</td>\n",
       "      <td>RESTITUICOES</td>\n",
       "      <td>2024NE000513</td>\n",
       "      <td>2024</td>\n",
       "      <td>2024-05-22</td>\n",
       "      <td>160129000012024NE000513</td>\n",
       "      <td>160129</td>\n",
       "      <td>NaN</td>\n",
       "      <td>NaN</td>\n",
       "      <td>ANO</td>\n",
       "      <td>167</td>\n",
       "      <td>MG</td>\n",
       "      <td>1000000000</td>\n",
       "      <td>NAO SE APLICA</td>\n",
       "      <td>ESTIMATIVO</td>\n",
       "      <td>2</td>\n",
       "      <td>PRIMARIO DISCRICIONARIO</td>\n",
       "      <td>A</td>\n",
       "      <td>INICIAL (LOA)</td>\n",
       "      <td>0000</td>\n",
       "      <td>000000000000</td>\n",
       "      <td>SEM EMENDA</td>\n",
       "      <td>0</td>\n",
       "      <td>COMANDO DO EXERCITO</td>\n",
       "      <td>52121</td>\n",
       "      <td>178521.68</td>\n",
       "      <td>25978.32</td>\n",
       "      <td>204500.00</td>\n",
       "      <td>0.00</td>\n",
       "    </tr>\n",
       "    <tr>\n",
       "      <th>1561</th>\n",
       "      <td>160129</td>\n",
       "      <td>ESA</td>\n",
       "      <td>4º CGCFEx</td>\n",
       "      <td>4ª RM</td>\n",
       "      <td>CML</td>\n",
       "      <td>Três Corações</td>\n",
       "      <td>MG</td>\n",
       "      <td>6112</td>\n",
       "      <td>8965</td>\n",
       "      <td>CAPACITACAO PROFISSIONAL MILITAR DO E</td>\n",
       "      <td>160503</td>\n",
       "      <td>DECEX/GESTOR</td>\n",
       "      <td>232082</td>\n",
       "      <td>C4ENMILCAPE</td>\n",
       "      <td>C4EN</td>\n",
       "      <td>MIL</td>\n",
       "      <td>CAPE</td>\n",
       "      <td>CAPACITACAO DE PESSOAL</td>\n",
       "      <td>339039</td>\n",
       "      <td>OUTROS SERVICOS DE TERCEIROS - PESSOA JURIDICA</td>\n",
       "      <td>33903983</td>\n",
       "      <td>SERVICOS DE COPIAS E REPRODUCAO DE DOCUMENTOS</td>\n",
       "      <td>2024NE001172</td>\n",
       "      <td>2024</td>\n",
       "      <td>2024-10-07</td>\n",
       "      <td>160129000012024NE001172</td>\n",
       "      <td>68533967000172</td>\n",
       "      <td>PAPELARIA E COPIADORA COPYSUL LTDA.</td>\n",
       "      <td>MG</td>\n",
       "      <td>ANO</td>\n",
       "      <td>29</td>\n",
       "      <td>MG</td>\n",
       "      <td>1000000000</td>\n",
       "      <td>PREGAO</td>\n",
       "      <td>GLOBAL</td>\n",
       "      <td>2</td>\n",
       "      <td>PRIMARIO DISCRICIONARIO</td>\n",
       "      <td>A</td>\n",
       "      <td>INICIAL (LOA)</td>\n",
       "      <td>0000</td>\n",
       "      <td>000000000000</td>\n",
       "      <td>SEM EMENDA</td>\n",
       "      <td>ESCOLA DE SARGENTOS DAS ARMAS - AV. SETE DE SE...</td>\n",
       "      <td>COMANDO DO EXERCITO</td>\n",
       "      <td>52121</td>\n",
       "      <td>150962.61</td>\n",
       "      <td>0.00</td>\n",
       "      <td>150962.61</td>\n",
       "      <td>0.00</td>\n",
       "    </tr>\n",
       "  </tbody>\n",
       "</table>\n",
       "</div>"
      ],
      "text/plain": [
       "          UG SIGLA     CGCFEX     RM COMANDO         CIDADE  UF PROGRAMA  \\\n",
       "1550  160129   ESA  4º CGCFEx  4ª RM     CML  Três Corações  MG     6112   \n",
       "1552  160129   ESA  4º CGCFEx  4ª RM     CML  Três Corações  MG     6112   \n",
       "1558  160129   ESA  4º CGCFEx  4ª RM     CML  Três Corações  MG     6112   \n",
       "1467  160129   ESA  4º CGCFEx  4ª RM     CML  Três Corações  MG     6112   \n",
       "1561  160129   ESA  4º CGCFEx  4ª RM     CML  Três Corações  MG     6112   \n",
       "\n",
       "      AÇÃO                              NOME_ACAO     UGR      NOME_UGR  \\\n",
       "1550  8965  CAPACITACAO PROFISSIONAL MILITAR DO E  160503  DECEX/GESTOR   \n",
       "1552  8965  CAPACITACAO PROFISSIONAL MILITAR DO E  160503  DECEX/GESTOR   \n",
       "1558  8965  CAPACITACAO PROFISSIONAL MILITAR DO E  160503  DECEX/GESTOR   \n",
       "1467  8965  CAPACITACAO PROFISSIONAL MILITAR DO E  160129           ESA   \n",
       "1561  8965  CAPACITACAO PROFISSIONAL MILITAR DO E  160503  DECEX/GESTOR   \n",
       "\n",
       "       PTRES           PI RADICAL_4_PI MEIO_3_PI SUFIXO_4_PI  \\\n",
       "1550  232082  C4ENMILCAPE         C4EN       MIL        CAPE   \n",
       "1552  232082  C4ENMILCAPE         C4EN       MIL        CAPE   \n",
       "1558  232082  C4ENMILCAPE         C4EN       MIL        CAPE   \n",
       "1467  232082  C4ENMILCAPE         C4EN       MIL        CAPE   \n",
       "1561  232082  C4ENMILCAPE         C4EN       MIL        CAPE   \n",
       "\n",
       "                     NOME_PI      ND  \\\n",
       "1550  CAPACITACAO DE PESSOAL  339033   \n",
       "1552  CAPACITACAO DE PESSOAL  339033   \n",
       "1558  CAPACITACAO DE PESSOAL  339039   \n",
       "1467  CAPACITACAO DE PESSOAL  339093   \n",
       "1561  CAPACITACAO DE PESSOAL  339039   \n",
       "\n",
       "                                             NOME_ND      NDSI  \\\n",
       "1550              PASSAGENS E DESPESAS COM LOCOMOCAO  33903309   \n",
       "1552              PASSAGENS E DESPESAS COM LOCOMOCAO  33903309   \n",
       "1558  OUTROS SERVICOS DE TERCEIROS - PESSOA JURIDICA  33903947   \n",
       "1467                     INDENIZACOES E RESTITUICOES  33909302   \n",
       "1561  OUTROS SERVICOS DE TERCEIROS - PESSOA JURIDICA  33903983   \n",
       "\n",
       "                                          NOME_NDSI            NE   ANO  \\\n",
       "1550                       TRANSPORTE DE SERVIDORES  2024NE000810  2024   \n",
       "1552                       TRANSPORTE DE SERVIDORES  2024NE001171  2024   \n",
       "1558               SERVICOS DE COMUNICACAO EM GERAL  2024NE001173  2024   \n",
       "1467                                   RESTITUICOES  2024NE000513  2024   \n",
       "1561  SERVICOS DE COPIAS E REPRODUCAO DE DOCUMENTOS  2024NE001172  2024   \n",
       "\n",
       "           DATA                    CHAVE             FAV  \\\n",
       "1550 2024-07-03  160129000012024NE000810  05824788000174   \n",
       "1552 2024-10-07  160129000012024NE001171  05824788000174   \n",
       "1558 2024-10-07  160129000012024NE001173  34028316001509   \n",
       "1467 2024-05-22  160129000012024NE000513          160129   \n",
       "1561 2024-10-07  160129000012024NE001172  68533967000172   \n",
       "\n",
       "                                      NOME_CREDOR UF_FAV TIPO  DIAS UF_UG  \\\n",
       "1550         EMPRESA DE TRANSPORTES KOPERECK LTDA     RS  ANO   125    MG   \n",
       "1552         EMPRESA DE TRANSPORTES KOPERECK LTDA     RS  ANO    29    MG   \n",
       "1558  EMPRESA BRASILEIRA DE CORREIOS E TELEGRAFOS     MG  ANO    29    MG   \n",
       "1467                                          NaN    NaN  ANO   167    MG   \n",
       "1561          PAPELARIA E COPIADORA COPYSUL LTDA.     MG  ANO    29    MG   \n",
       "\n",
       "           FONTE                MOD_LIC     TIPO_NE RP  \\\n",
       "1550  1000000000                 PREGAO      GLOBAL  2   \n",
       "1552  1000000000                 PREGAO      GLOBAL  2   \n",
       "1558  1000000000  DISPENSA DE LICITACAO      GLOBAL  2   \n",
       "1467  1000000000          NAO SE APLICA  ESTIMATIVO  2   \n",
       "1561  1000000000                 PREGAO      GLOBAL  2   \n",
       "\n",
       "                      NOME_RP TIPO_CREDITO NOME_TIPO_CREDITO    PO  \\\n",
       "1550  PRIMARIO DISCRICIONARIO            A     INICIAL (LOA)  0000   \n",
       "1552  PRIMARIO DISCRICIONARIO            A     INICIAL (LOA)  0000   \n",
       "1558  PRIMARIO DISCRICIONARIO            A     INICIAL (LOA)  0000   \n",
       "1467  PRIMARIO DISCRICIONARIO            A     INICIAL (LOA)  0000   \n",
       "1561  PRIMARIO DISCRICIONARIO            A     INICIAL (LOA)  0000   \n",
       "\n",
       "      AUTOR_EMENDA NOME_AUTOR_EMENDA  \\\n",
       "1550  000000000000        SEM EMENDA   \n",
       "1552  000000000000        SEM EMENDA   \n",
       "1558  000000000000        SEM EMENDA   \n",
       "1467  000000000000        SEM EMENDA   \n",
       "1561  000000000000        SEM EMENDA   \n",
       "\n",
       "                                                  LOCAL              NOME_UO  \\\n",
       "1550  ESCOLA DE SARGENTOS DAS ARMAS - AV. SETE DE SE...  COMANDO DO EXERCITO   \n",
       "1552  ESCOLA DE SARGENTOS DAS ARMAS - AV. SETE DE SE...  COMANDO DO EXERCITO   \n",
       "1558                      ESCOLA DE SARGENTOS DAS ARMAS  COMANDO DO EXERCITO   \n",
       "1467                                                  0  COMANDO DO EXERCITO   \n",
       "1561  ESCOLA DE SARGENTOS DAS ARMAS - AV. SETE DE SE...  COMANDO DO EXERCITO   \n",
       "\n",
       "         UO  A_LIQUIDAR  LIQUIDADO_A_PAGAR  TOTAL_A_PAGAR       PAGO  \n",
       "1550  52121   485091.90           20177.41      505269.31  244733.21  \n",
       "1552  52121   373971.98               0.00      373971.98       0.00  \n",
       "1558  52121   345630.79               0.00      345630.79       0.00  \n",
       "1467  52121   178521.68           25978.32      204500.00       0.00  \n",
       "1561  52121   150962.61               0.00      150962.61       0.00  "
      ]
     },
     "execution_count": 36,
     "metadata": {},
     "output_type": "execute_result"
    }
   ],
   "source": [
    "df_ensino.sort_values(by='A_LIQUIDAR', ascending=False).head(5)"
   ]
  },
  {
   "cell_type": "code",
   "execution_count": 37,
   "metadata": {},
   "outputs": [],
   "source": [
    "cols = ['ND', 'A_LIQUIDAR', 'LIQUIDADO_A_PAGAR', 'PAGO']\n",
    "\n",
    "df_aux = df_ensino.loc[:, cols].groupby('ND').sum().sort_values(by= 'A_LIQUIDAR', ascending=False).reset_index()\n",
    "#df_aux = df_aux[df_aux['A_LIQUIDAR'] > 0]\n",
    "\n",
    "df_aux.to_excel('ensino_recursos_2024.xlsx')"
   ]
  },
  {
   "cell_type": "code",
   "execution_count": 38,
   "metadata": {},
   "outputs": [
    {
     "name": "stdout",
     "output_type": "stream",
     "text": [
      "O total pago pela ESA até o momento foi: R$ 1.374.848,66\n",
      "O total de saldo a liquidar pela ESA até o momento foi: R$ 1.693.273,77\n",
      "O total de saldo liquidado a pagar pela ESA até o momento foi: R$ 49.361,91\n",
      "O total de saldo a pagar pela ESA até o momento foi: R$ 1.742.635,68\n"
     ]
    }
   ],
   "source": [
    "df_transporte = df_teste[df_teste['ND'] == '339033']\n",
    "\n",
    "total_pago_ensino = df_transporte['PAGO'].sum().round(2)\n",
    "total_a_liquidar_ensino = df_transporte['A_LIQUIDAR'].sum().round(2)\n",
    "total_liquidado_a_pagar_ensino = df_transporte['LIQUIDADO_A_PAGAR'].sum().round(2)\n",
    "total_a_pagar_ensino = df_transporte['TOTAL_A_PAGAR'].sum().round(2)\n",
    "\n",
    "\n",
    "print(f'O total pago pela ESA até o momento foi: {locale.currency(total_pago_ensino, grouping=True)}')\n",
    "print(f'O total de saldo a liquidar pela ESA até o momento foi: {locale.currency(total_a_liquidar_ensino, grouping=True)}')\n",
    "print(f'O total de saldo liquidado a pagar pela ESA até o momento foi: {locale.currency(total_liquidado_a_pagar_ensino, grouping=True)}')\n",
    "print(f'O total de saldo a pagar pela ESA até o momento foi: {locale.currency(total_a_pagar_ensino, grouping=True)}')"
   ]
  },
  {
   "cell_type": "code",
   "execution_count": 39,
   "metadata": {},
   "outputs": [],
   "source": [
    "df_transporte.to_csv('nd33_2024.csv')"
   ]
  },
  {
   "cell_type": "code",
   "execution_count": 40,
   "metadata": {},
   "outputs": [],
   "source": [
    "df_discricionarias = df_teste[(df_teste['AÇÃO'] == '2000') & (df_teste['A_LIQUIDAR'] != 0)]"
   ]
  },
  {
   "cell_type": "code",
   "execution_count": 41,
   "metadata": {},
   "outputs": [
    {
     "data": {
      "text/html": [
       "<div>\n",
       "<style scoped>\n",
       "    .dataframe tbody tr th:only-of-type {\n",
       "        vertical-align: middle;\n",
       "    }\n",
       "\n",
       "    .dataframe tbody tr th {\n",
       "        vertical-align: top;\n",
       "    }\n",
       "\n",
       "    .dataframe thead th {\n",
       "        text-align: right;\n",
       "    }\n",
       "</style>\n",
       "<table border=\"1\" class=\"dataframe\">\n",
       "  <thead>\n",
       "    <tr style=\"text-align: right;\">\n",
       "      <th></th>\n",
       "      <th>UG</th>\n",
       "      <th>SIGLA</th>\n",
       "      <th>CGCFEX</th>\n",
       "      <th>RM</th>\n",
       "      <th>COMANDO</th>\n",
       "      <th>CIDADE</th>\n",
       "      <th>UF</th>\n",
       "      <th>PROGRAMA</th>\n",
       "      <th>AÇÃO</th>\n",
       "      <th>NOME_ACAO</th>\n",
       "      <th>UGR</th>\n",
       "      <th>NOME_UGR</th>\n",
       "      <th>PTRES</th>\n",
       "      <th>PI</th>\n",
       "      <th>RADICAL_4_PI</th>\n",
       "      <th>MEIO_3_PI</th>\n",
       "      <th>SUFIXO_4_PI</th>\n",
       "      <th>NOME_PI</th>\n",
       "      <th>ND</th>\n",
       "      <th>NOME_ND</th>\n",
       "      <th>NDSI</th>\n",
       "      <th>NOME_NDSI</th>\n",
       "      <th>NE</th>\n",
       "      <th>ANO</th>\n",
       "      <th>DATA</th>\n",
       "      <th>CHAVE</th>\n",
       "      <th>FAV</th>\n",
       "      <th>NOME_CREDOR</th>\n",
       "      <th>UF_FAV</th>\n",
       "      <th>TIPO</th>\n",
       "      <th>DIAS</th>\n",
       "      <th>UF_UG</th>\n",
       "      <th>FONTE</th>\n",
       "      <th>MOD_LIC</th>\n",
       "      <th>TIPO_NE</th>\n",
       "      <th>RP</th>\n",
       "      <th>NOME_RP</th>\n",
       "      <th>TIPO_CREDITO</th>\n",
       "      <th>NOME_TIPO_CREDITO</th>\n",
       "      <th>PO</th>\n",
       "      <th>AUTOR_EMENDA</th>\n",
       "      <th>NOME_AUTOR_EMENDA</th>\n",
       "      <th>LOCAL</th>\n",
       "      <th>NOME_UO</th>\n",
       "      <th>UO</th>\n",
       "      <th>A_LIQUIDAR</th>\n",
       "      <th>LIQUIDADO_A_PAGAR</th>\n",
       "      <th>TOTAL_A_PAGAR</th>\n",
       "      <th>PAGO</th>\n",
       "    </tr>\n",
       "  </thead>\n",
       "  <tbody>\n",
       "    <tr>\n",
       "      <th>563</th>\n",
       "      <td>160129</td>\n",
       "      <td>ESA</td>\n",
       "      <td>4º CGCFEx</td>\n",
       "      <td>4ª RM</td>\n",
       "      <td>CML</td>\n",
       "      <td>Três Corações</td>\n",
       "      <td>MG</td>\n",
       "      <td>6112</td>\n",
       "      <td>212O</td>\n",
       "      <td>MOVIMENTACAO DE MILITARES</td>\n",
       "      <td>160505</td>\n",
       "      <td>DGP</td>\n",
       "      <td>232007</td>\n",
       "      <td>D6DAATSLOCO</td>\n",
       "      <td>D6DA</td>\n",
       "      <td>ATS</td>\n",
       "      <td>LOCO</td>\n",
       "      <td>ATS - ATIVIDADES SETORIAIS</td>\n",
       "      <td>339033</td>\n",
       "      <td>PASSAGENS E DESPESAS COM LOCOMOCAO</td>\n",
       "      <td>33903304</td>\n",
       "      <td>MUDANCAS EM OBJETO DE SERVICO</td>\n",
       "      <td>2024NE000362</td>\n",
       "      <td>2024</td>\n",
       "      <td>2024-04-10</td>\n",
       "      <td>160129000012024NE000362</td>\n",
       "      <td>39644514000115</td>\n",
       "      <td>MULTI PRIME MUDANCAS E TRANSPORTES ESPECIAIS LTDA</td>\n",
       "      <td>GO</td>\n",
       "      <td>ANO</td>\n",
       "      <td>209</td>\n",
       "      <td>MG</td>\n",
       "      <td>1000000000</td>\n",
       "      <td>PREGAO</td>\n",
       "      <td>ESTIMATIVO</td>\n",
       "      <td>1</td>\n",
       "      <td>PRIMARIO OBRIGATORIO</td>\n",
       "      <td>A</td>\n",
       "      <td>INICIAL (LOA)</td>\n",
       "      <td>0000</td>\n",
       "      <td>000000000000</td>\n",
       "      <td>SEM EMENDA</td>\n",
       "      <td>ESCOLA DE SARGENTOS DAS ARMAS</td>\n",
       "      <td>COMANDO DO EXERCITO</td>\n",
       "      <td>52121</td>\n",
       "      <td>19850.00</td>\n",
       "      <td>0.00</td>\n",
       "      <td>19850.00</td>\n",
       "      <td>0.0</td>\n",
       "    </tr>\n",
       "    <tr>\n",
       "      <th>564</th>\n",
       "      <td>160129</td>\n",
       "      <td>ESA</td>\n",
       "      <td>4º CGCFEx</td>\n",
       "      <td>4ª RM</td>\n",
       "      <td>CML</td>\n",
       "      <td>Três Corações</td>\n",
       "      <td>MG</td>\n",
       "      <td>6112</td>\n",
       "      <td>212O</td>\n",
       "      <td>MOVIMENTACAO DE MILITARES</td>\n",
       "      <td>160505</td>\n",
       "      <td>DGP</td>\n",
       "      <td>232007</td>\n",
       "      <td>D6DAATSLOCO</td>\n",
       "      <td>D6DA</td>\n",
       "      <td>ATS</td>\n",
       "      <td>LOCO</td>\n",
       "      <td>ATS - ATIVIDADES SETORIAIS</td>\n",
       "      <td>339033</td>\n",
       "      <td>PASSAGENS E DESPESAS COM LOCOMOCAO</td>\n",
       "      <td>33903304</td>\n",
       "      <td>MUDANCAS EM OBJETO DE SERVICO</td>\n",
       "      <td>2024NE000717</td>\n",
       "      <td>2024</td>\n",
       "      <td>2024-06-20</td>\n",
       "      <td>160129000012024NE000717</td>\n",
       "      <td>39644514000115</td>\n",
       "      <td>MULTI PRIME MUDANCAS E TRANSPORTES ESPECIAIS LTDA</td>\n",
       "      <td>GO</td>\n",
       "      <td>ANO</td>\n",
       "      <td>138</td>\n",
       "      <td>MG</td>\n",
       "      <td>1000000000</td>\n",
       "      <td>PREGAO</td>\n",
       "      <td>ESTIMATIVO</td>\n",
       "      <td>1</td>\n",
       "      <td>PRIMARIO OBRIGATORIO</td>\n",
       "      <td>A</td>\n",
       "      <td>INICIAL (LOA)</td>\n",
       "      <td>0000</td>\n",
       "      <td>000000000000</td>\n",
       "      <td>SEM EMENDA</td>\n",
       "      <td>ESCOLA DE SARGENTOS DAS ARMAS</td>\n",
       "      <td>COMANDO DO EXERCITO</td>\n",
       "      <td>52121</td>\n",
       "      <td>19850.00</td>\n",
       "      <td>0.00</td>\n",
       "      <td>19850.00</td>\n",
       "      <td>0.0</td>\n",
       "    </tr>\n",
       "    <tr>\n",
       "      <th>565</th>\n",
       "      <td>160129</td>\n",
       "      <td>ESA</td>\n",
       "      <td>4º CGCFEx</td>\n",
       "      <td>4ª RM</td>\n",
       "      <td>CML</td>\n",
       "      <td>Três Corações</td>\n",
       "      <td>MG</td>\n",
       "      <td>6112</td>\n",
       "      <td>212O</td>\n",
       "      <td>MOVIMENTACAO DE MILITARES</td>\n",
       "      <td>160505</td>\n",
       "      <td>DGP</td>\n",
       "      <td>232007</td>\n",
       "      <td>D6DAATSLOCO</td>\n",
       "      <td>D6DA</td>\n",
       "      <td>ATS</td>\n",
       "      <td>LOCO</td>\n",
       "      <td>ATS - ATIVIDADES SETORIAIS</td>\n",
       "      <td>339033</td>\n",
       "      <td>PASSAGENS E DESPESAS COM LOCOMOCAO</td>\n",
       "      <td>33903304</td>\n",
       "      <td>MUDANCAS EM OBJETO DE SERVICO</td>\n",
       "      <td>2024NE000718</td>\n",
       "      <td>2024</td>\n",
       "      <td>2024-06-20</td>\n",
       "      <td>160129000012024NE000718</td>\n",
       "      <td>39644514000115</td>\n",
       "      <td>MULTI PRIME MUDANCAS E TRANSPORTES ESPECIAIS LTDA</td>\n",
       "      <td>GO</td>\n",
       "      <td>ANO</td>\n",
       "      <td>138</td>\n",
       "      <td>MG</td>\n",
       "      <td>1000000000</td>\n",
       "      <td>PREGAO</td>\n",
       "      <td>ESTIMATIVO</td>\n",
       "      <td>1</td>\n",
       "      <td>PRIMARIO OBRIGATORIO</td>\n",
       "      <td>A</td>\n",
       "      <td>INICIAL (LOA)</td>\n",
       "      <td>0000</td>\n",
       "      <td>000000000000</td>\n",
       "      <td>SEM EMENDA</td>\n",
       "      <td>ESCOLA DE SARGENTOS DAS ARMAS</td>\n",
       "      <td>COMANDO DO EXERCITO</td>\n",
       "      <td>52121</td>\n",
       "      <td>32890.00</td>\n",
       "      <td>0.00</td>\n",
       "      <td>32890.00</td>\n",
       "      <td>0.0</td>\n",
       "    </tr>\n",
       "    <tr>\n",
       "      <th>566</th>\n",
       "      <td>160129</td>\n",
       "      <td>ESA</td>\n",
       "      <td>4º CGCFEx</td>\n",
       "      <td>4ª RM</td>\n",
       "      <td>CML</td>\n",
       "      <td>Três Corações</td>\n",
       "      <td>MG</td>\n",
       "      <td>6112</td>\n",
       "      <td>212O</td>\n",
       "      <td>MOVIMENTACAO DE MILITARES</td>\n",
       "      <td>160505</td>\n",
       "      <td>DGP</td>\n",
       "      <td>232007</td>\n",
       "      <td>D6DAATSLOCO</td>\n",
       "      <td>D6DA</td>\n",
       "      <td>ATS</td>\n",
       "      <td>LOCO</td>\n",
       "      <td>ATS - ATIVIDADES SETORIAIS</td>\n",
       "      <td>339033</td>\n",
       "      <td>PASSAGENS E DESPESAS COM LOCOMOCAO</td>\n",
       "      <td>33903304</td>\n",
       "      <td>MUDANCAS EM OBJETO DE SERVICO</td>\n",
       "      <td>2024NE000719</td>\n",
       "      <td>2024</td>\n",
       "      <td>2024-06-20</td>\n",
       "      <td>160129000012024NE000719</td>\n",
       "      <td>39644514000115</td>\n",
       "      <td>MULTI PRIME MUDANCAS E TRANSPORTES ESPECIAIS LTDA</td>\n",
       "      <td>GO</td>\n",
       "      <td>ANO</td>\n",
       "      <td>138</td>\n",
       "      <td>MG</td>\n",
       "      <td>1000000000</td>\n",
       "      <td>PREGAO</td>\n",
       "      <td>ESTIMATIVO</td>\n",
       "      <td>1</td>\n",
       "      <td>PRIMARIO OBRIGATORIO</td>\n",
       "      <td>A</td>\n",
       "      <td>INICIAL (LOA)</td>\n",
       "      <td>0000</td>\n",
       "      <td>000000000000</td>\n",
       "      <td>SEM EMENDA</td>\n",
       "      <td>ESCOLA DE SARGENTOS DAS ARMAS</td>\n",
       "      <td>COMANDO DO EXERCITO</td>\n",
       "      <td>52121</td>\n",
       "      <td>50049.00</td>\n",
       "      <td>0.00</td>\n",
       "      <td>50049.00</td>\n",
       "      <td>0.0</td>\n",
       "    </tr>\n",
       "    <tr>\n",
       "      <th>567</th>\n",
       "      <td>160129</td>\n",
       "      <td>ESA</td>\n",
       "      <td>4º CGCFEx</td>\n",
       "      <td>4ª RM</td>\n",
       "      <td>CML</td>\n",
       "      <td>Três Corações</td>\n",
       "      <td>MG</td>\n",
       "      <td>6112</td>\n",
       "      <td>212O</td>\n",
       "      <td>MOVIMENTACAO DE MILITARES</td>\n",
       "      <td>160505</td>\n",
       "      <td>DGP</td>\n",
       "      <td>232007</td>\n",
       "      <td>D6DAATSLOCO</td>\n",
       "      <td>D6DA</td>\n",
       "      <td>ATS</td>\n",
       "      <td>LOCO</td>\n",
       "      <td>ATS - ATIVIDADES SETORIAIS</td>\n",
       "      <td>339033</td>\n",
       "      <td>PASSAGENS E DESPESAS COM LOCOMOCAO</td>\n",
       "      <td>33903304</td>\n",
       "      <td>MUDANCAS EM OBJETO DE SERVICO</td>\n",
       "      <td>2024NE000742</td>\n",
       "      <td>2024</td>\n",
       "      <td>2024-06-25</td>\n",
       "      <td>160129000012024NE000742</td>\n",
       "      <td>39644514000115</td>\n",
       "      <td>MULTI PRIME MUDANCAS E TRANSPORTES ESPECIAIS LTDA</td>\n",
       "      <td>GO</td>\n",
       "      <td>ANO</td>\n",
       "      <td>133</td>\n",
       "      <td>MG</td>\n",
       "      <td>1000000000</td>\n",
       "      <td>PREGAO</td>\n",
       "      <td>ESTIMATIVO</td>\n",
       "      <td>1</td>\n",
       "      <td>PRIMARIO OBRIGATORIO</td>\n",
       "      <td>A</td>\n",
       "      <td>INICIAL (LOA)</td>\n",
       "      <td>0000</td>\n",
       "      <td>000000000000</td>\n",
       "      <td>SEM EMENDA</td>\n",
       "      <td>ESCOLA DE SARGENTOS DAS ARMAS</td>\n",
       "      <td>COMANDO DO EXERCITO</td>\n",
       "      <td>52121</td>\n",
       "      <td>21850.00</td>\n",
       "      <td>0.00</td>\n",
       "      <td>21850.00</td>\n",
       "      <td>0.0</td>\n",
       "    </tr>\n",
       "    <tr>\n",
       "      <th>568</th>\n",
       "      <td>160129</td>\n",
       "      <td>ESA</td>\n",
       "      <td>4º CGCFEx</td>\n",
       "      <td>4ª RM</td>\n",
       "      <td>CML</td>\n",
       "      <td>Três Corações</td>\n",
       "      <td>MG</td>\n",
       "      <td>6112</td>\n",
       "      <td>212O</td>\n",
       "      <td>MOVIMENTACAO DE MILITARES</td>\n",
       "      <td>160505</td>\n",
       "      <td>DGP</td>\n",
       "      <td>232007</td>\n",
       "      <td>D6DAATSLOCO</td>\n",
       "      <td>D6DA</td>\n",
       "      <td>ATS</td>\n",
       "      <td>LOCO</td>\n",
       "      <td>ATS - ATIVIDADES SETORIAIS</td>\n",
       "      <td>339033</td>\n",
       "      <td>PASSAGENS E DESPESAS COM LOCOMOCAO</td>\n",
       "      <td>33903304</td>\n",
       "      <td>MUDANCAS EM OBJETO DE SERVICO</td>\n",
       "      <td>2024NE000842</td>\n",
       "      <td>2024</td>\n",
       "      <td>2024-07-14</td>\n",
       "      <td>160129000012024NE000842</td>\n",
       "      <td>39644514000115</td>\n",
       "      <td>MULTI PRIME MUDANCAS E TRANSPORTES ESPECIAIS LTDA</td>\n",
       "      <td>GO</td>\n",
       "      <td>ANO</td>\n",
       "      <td>114</td>\n",
       "      <td>MG</td>\n",
       "      <td>1000000000</td>\n",
       "      <td>PREGAO</td>\n",
       "      <td>ESTIMATIVO</td>\n",
       "      <td>1</td>\n",
       "      <td>PRIMARIO OBRIGATORIO</td>\n",
       "      <td>A</td>\n",
       "      <td>INICIAL (LOA)</td>\n",
       "      <td>0000</td>\n",
       "      <td>000000000000</td>\n",
       "      <td>SEM EMENDA</td>\n",
       "      <td>ESCOLA DE SARGENTOS DAS ARMAS</td>\n",
       "      <td>COMANDO DO EXERCITO</td>\n",
       "      <td>52121</td>\n",
       "      <td>21850.00</td>\n",
       "      <td>0.00</td>\n",
       "      <td>21850.00</td>\n",
       "      <td>0.0</td>\n",
       "    </tr>\n",
       "    <tr>\n",
       "      <th>569</th>\n",
       "      <td>160129</td>\n",
       "      <td>ESA</td>\n",
       "      <td>4º CGCFEx</td>\n",
       "      <td>4ª RM</td>\n",
       "      <td>CML</td>\n",
       "      <td>Três Corações</td>\n",
       "      <td>MG</td>\n",
       "      <td>6112</td>\n",
       "      <td>212O</td>\n",
       "      <td>MOVIMENTACAO DE MILITARES</td>\n",
       "      <td>160505</td>\n",
       "      <td>DGP</td>\n",
       "      <td>232007</td>\n",
       "      <td>D6DAATSLOCO</td>\n",
       "      <td>D6DA</td>\n",
       "      <td>ATS</td>\n",
       "      <td>LOCO</td>\n",
       "      <td>ATS - ATIVIDADES SETORIAIS</td>\n",
       "      <td>339033</td>\n",
       "      <td>PASSAGENS E DESPESAS COM LOCOMOCAO</td>\n",
       "      <td>33903304</td>\n",
       "      <td>MUDANCAS EM OBJETO DE SERVICO</td>\n",
       "      <td>2024NE000843</td>\n",
       "      <td>2024</td>\n",
       "      <td>2024-07-15</td>\n",
       "      <td>160129000012024NE000843</td>\n",
       "      <td>39644514000115</td>\n",
       "      <td>MULTI PRIME MUDANCAS E TRANSPORTES ESPECIAIS LTDA</td>\n",
       "      <td>GO</td>\n",
       "      <td>ANO</td>\n",
       "      <td>113</td>\n",
       "      <td>MG</td>\n",
       "      <td>1000000000</td>\n",
       "      <td>PREGAO</td>\n",
       "      <td>ESTIMATIVO</td>\n",
       "      <td>1</td>\n",
       "      <td>PRIMARIO OBRIGATORIO</td>\n",
       "      <td>A</td>\n",
       "      <td>INICIAL (LOA)</td>\n",
       "      <td>0000</td>\n",
       "      <td>000000000000</td>\n",
       "      <td>SEM EMENDA</td>\n",
       "      <td>ESCOLA DE SARGENTOS DAS ARMAS</td>\n",
       "      <td>COMANDO DO EXERCITO</td>\n",
       "      <td>52121</td>\n",
       "      <td>13091.00</td>\n",
       "      <td>0.00</td>\n",
       "      <td>13091.00</td>\n",
       "      <td>0.0</td>\n",
       "    </tr>\n",
       "    <tr>\n",
       "      <th>570</th>\n",
       "      <td>160129</td>\n",
       "      <td>ESA</td>\n",
       "      <td>4º CGCFEx</td>\n",
       "      <td>4ª RM</td>\n",
       "      <td>CML</td>\n",
       "      <td>Três Corações</td>\n",
       "      <td>MG</td>\n",
       "      <td>6112</td>\n",
       "      <td>212O</td>\n",
       "      <td>MOVIMENTACAO DE MILITARES</td>\n",
       "      <td>160505</td>\n",
       "      <td>DGP</td>\n",
       "      <td>232007</td>\n",
       "      <td>D6DAATSLOCO</td>\n",
       "      <td>D6DA</td>\n",
       "      <td>ATS</td>\n",
       "      <td>LOCO</td>\n",
       "      <td>ATS - ATIVIDADES SETORIAIS</td>\n",
       "      <td>339033</td>\n",
       "      <td>PASSAGENS E DESPESAS COM LOCOMOCAO</td>\n",
       "      <td>33903304</td>\n",
       "      <td>MUDANCAS EM OBJETO DE SERVICO</td>\n",
       "      <td>2024NE000844</td>\n",
       "      <td>2024</td>\n",
       "      <td>2024-07-15</td>\n",
       "      <td>160129000012024NE000844</td>\n",
       "      <td>39644514000115</td>\n",
       "      <td>MULTI PRIME MUDANCAS E TRANSPORTES ESPECIAIS LTDA</td>\n",
       "      <td>GO</td>\n",
       "      <td>ANO</td>\n",
       "      <td>113</td>\n",
       "      <td>MG</td>\n",
       "      <td>1000000000</td>\n",
       "      <td>PREGAO</td>\n",
       "      <td>ESTIMATIVO</td>\n",
       "      <td>1</td>\n",
       "      <td>PRIMARIO OBRIGATORIO</td>\n",
       "      <td>A</td>\n",
       "      <td>INICIAL (LOA)</td>\n",
       "      <td>0000</td>\n",
       "      <td>000000000000</td>\n",
       "      <td>SEM EMENDA</td>\n",
       "      <td>ESCOLA DE SARGENTOS DAS ARMAS</td>\n",
       "      <td>COMANDO DO EXERCITO</td>\n",
       "      <td>52121</td>\n",
       "      <td>13091.00</td>\n",
       "      <td>0.00</td>\n",
       "      <td>13091.00</td>\n",
       "      <td>0.0</td>\n",
       "    </tr>\n",
       "    <tr>\n",
       "      <th>571</th>\n",
       "      <td>160129</td>\n",
       "      <td>ESA</td>\n",
       "      <td>4º CGCFEx</td>\n",
       "      <td>4ª RM</td>\n",
       "      <td>CML</td>\n",
       "      <td>Três Corações</td>\n",
       "      <td>MG</td>\n",
       "      <td>6112</td>\n",
       "      <td>212O</td>\n",
       "      <td>MOVIMENTACAO DE MILITARES</td>\n",
       "      <td>160505</td>\n",
       "      <td>DGP</td>\n",
       "      <td>232007</td>\n",
       "      <td>D6DAATSLOCO</td>\n",
       "      <td>D6DA</td>\n",
       "      <td>ATS</td>\n",
       "      <td>LOCO</td>\n",
       "      <td>ATS - ATIVIDADES SETORIAIS</td>\n",
       "      <td>339033</td>\n",
       "      <td>PASSAGENS E DESPESAS COM LOCOMOCAO</td>\n",
       "      <td>33903304</td>\n",
       "      <td>MUDANCAS EM OBJETO DE SERVICO</td>\n",
       "      <td>2024NE000911</td>\n",
       "      <td>2024</td>\n",
       "      <td>2024-08-02</td>\n",
       "      <td>160129000012024NE000911</td>\n",
       "      <td>39644514000115</td>\n",
       "      <td>MULTI PRIME MUDANCAS E TRANSPORTES ESPECIAIS LTDA</td>\n",
       "      <td>GO</td>\n",
       "      <td>ANO</td>\n",
       "      <td>95</td>\n",
       "      <td>MG</td>\n",
       "      <td>1000000000</td>\n",
       "      <td>PREGAO</td>\n",
       "      <td>ESTIMATIVO</td>\n",
       "      <td>1</td>\n",
       "      <td>PRIMARIO OBRIGATORIO</td>\n",
       "      <td>A</td>\n",
       "      <td>INICIAL (LOA)</td>\n",
       "      <td>0000</td>\n",
       "      <td>000000000000</td>\n",
       "      <td>SEM EMENDA</td>\n",
       "      <td>ESCOLA DE SARGENTOS DAS ARMAS</td>\n",
       "      <td>COMANDO DO EXERCITO</td>\n",
       "      <td>52121</td>\n",
       "      <td>50049.00</td>\n",
       "      <td>0.00</td>\n",
       "      <td>50049.00</td>\n",
       "      <td>0.0</td>\n",
       "    </tr>\n",
       "    <tr>\n",
       "      <th>572</th>\n",
       "      <td>160129</td>\n",
       "      <td>ESA</td>\n",
       "      <td>4º CGCFEx</td>\n",
       "      <td>4ª RM</td>\n",
       "      <td>CML</td>\n",
       "      <td>Três Corações</td>\n",
       "      <td>MG</td>\n",
       "      <td>6112</td>\n",
       "      <td>212O</td>\n",
       "      <td>MOVIMENTACAO DE MILITARES</td>\n",
       "      <td>160505</td>\n",
       "      <td>DGP</td>\n",
       "      <td>232007</td>\n",
       "      <td>D6DAATSLOCO</td>\n",
       "      <td>D6DA</td>\n",
       "      <td>ATS</td>\n",
       "      <td>LOCO</td>\n",
       "      <td>ATS - ATIVIDADES SETORIAIS</td>\n",
       "      <td>339033</td>\n",
       "      <td>PASSAGENS E DESPESAS COM LOCOMOCAO</td>\n",
       "      <td>33903304</td>\n",
       "      <td>MUDANCAS EM OBJETO DE SERVICO</td>\n",
       "      <td>2024NE000946</td>\n",
       "      <td>2024</td>\n",
       "      <td>2024-08-15</td>\n",
       "      <td>160129000012024NE000946</td>\n",
       "      <td>39644514000115</td>\n",
       "      <td>MULTI PRIME MUDANCAS E TRANSPORTES ESPECIAIS LTDA</td>\n",
       "      <td>GO</td>\n",
       "      <td>ANO</td>\n",
       "      <td>82</td>\n",
       "      <td>MG</td>\n",
       "      <td>1000000000</td>\n",
       "      <td>PREGAO</td>\n",
       "      <td>ESTIMATIVO</td>\n",
       "      <td>1</td>\n",
       "      <td>PRIMARIO OBRIGATORIO</td>\n",
       "      <td>A</td>\n",
       "      <td>INICIAL (LOA)</td>\n",
       "      <td>0000</td>\n",
       "      <td>000000000000</td>\n",
       "      <td>SEM EMENDA</td>\n",
       "      <td>ESCOLA DE SARGENTOS DAS ARMAS</td>\n",
       "      <td>COMANDO DO EXERCITO</td>\n",
       "      <td>52121</td>\n",
       "      <td>29900.00</td>\n",
       "      <td>0.00</td>\n",
       "      <td>29900.00</td>\n",
       "      <td>0.0</td>\n",
       "    </tr>\n",
       "    <tr>\n",
       "      <th>573</th>\n",
       "      <td>160129</td>\n",
       "      <td>ESA</td>\n",
       "      <td>4º CGCFEx</td>\n",
       "      <td>4ª RM</td>\n",
       "      <td>CML</td>\n",
       "      <td>Três Corações</td>\n",
       "      <td>MG</td>\n",
       "      <td>6112</td>\n",
       "      <td>212O</td>\n",
       "      <td>MOVIMENTACAO DE MILITARES</td>\n",
       "      <td>160505</td>\n",
       "      <td>DGP</td>\n",
       "      <td>232007</td>\n",
       "      <td>D6DAATSLOCO</td>\n",
       "      <td>D6DA</td>\n",
       "      <td>ATS</td>\n",
       "      <td>LOCO</td>\n",
       "      <td>ATS - ATIVIDADES SETORIAIS</td>\n",
       "      <td>339033</td>\n",
       "      <td>PASSAGENS E DESPESAS COM LOCOMOCAO</td>\n",
       "      <td>33903304</td>\n",
       "      <td>MUDANCAS EM OBJETO DE SERVICO</td>\n",
       "      <td>2024NE000947</td>\n",
       "      <td>2024</td>\n",
       "      <td>2024-08-15</td>\n",
       "      <td>160129000012024NE000947</td>\n",
       "      <td>39644514000115</td>\n",
       "      <td>MULTI PRIME MUDANCAS E TRANSPORTES ESPECIAIS LTDA</td>\n",
       "      <td>GO</td>\n",
       "      <td>ANO</td>\n",
       "      <td>82</td>\n",
       "      <td>MG</td>\n",
       "      <td>1000000000</td>\n",
       "      <td>PREGAO</td>\n",
       "      <td>ESTIMATIVO</td>\n",
       "      <td>1</td>\n",
       "      <td>PRIMARIO OBRIGATORIO</td>\n",
       "      <td>A</td>\n",
       "      <td>INICIAL (LOA)</td>\n",
       "      <td>0000</td>\n",
       "      <td>000000000000</td>\n",
       "      <td>SEM EMENDA</td>\n",
       "      <td>ESCOLA DE SARGENTOS DAS ARMAS</td>\n",
       "      <td>COMANDO DO EXERCITO</td>\n",
       "      <td>52121</td>\n",
       "      <td>29900.00</td>\n",
       "      <td>0.00</td>\n",
       "      <td>29900.00</td>\n",
       "      <td>0.0</td>\n",
       "    </tr>\n",
       "    <tr>\n",
       "      <th>574</th>\n",
       "      <td>160129</td>\n",
       "      <td>ESA</td>\n",
       "      <td>4º CGCFEx</td>\n",
       "      <td>4ª RM</td>\n",
       "      <td>CML</td>\n",
       "      <td>Três Corações</td>\n",
       "      <td>MG</td>\n",
       "      <td>6112</td>\n",
       "      <td>212O</td>\n",
       "      <td>MOVIMENTACAO DE MILITARES</td>\n",
       "      <td>160505</td>\n",
       "      <td>DGP</td>\n",
       "      <td>232007</td>\n",
       "      <td>D6DAATSLOCO</td>\n",
       "      <td>D6DA</td>\n",
       "      <td>ATS</td>\n",
       "      <td>LOCO</td>\n",
       "      <td>ATS - ATIVIDADES SETORIAIS</td>\n",
       "      <td>339033</td>\n",
       "      <td>PASSAGENS E DESPESAS COM LOCOMOCAO</td>\n",
       "      <td>33903304</td>\n",
       "      <td>MUDANCAS EM OBJETO DE SERVICO</td>\n",
       "      <td>2024NE000950</td>\n",
       "      <td>2024</td>\n",
       "      <td>2024-08-15</td>\n",
       "      <td>160129000012024NE000950</td>\n",
       "      <td>39644514000115</td>\n",
       "      <td>MULTI PRIME MUDANCAS E TRANSPORTES ESPECIAIS LTDA</td>\n",
       "      <td>GO</td>\n",
       "      <td>ANO</td>\n",
       "      <td>82</td>\n",
       "      <td>MG</td>\n",
       "      <td>1000000000</td>\n",
       "      <td>PREGAO</td>\n",
       "      <td>ESTIMATIVO</td>\n",
       "      <td>1</td>\n",
       "      <td>PRIMARIO OBRIGATORIO</td>\n",
       "      <td>A</td>\n",
       "      <td>INICIAL (LOA)</td>\n",
       "      <td>0000</td>\n",
       "      <td>000000000000</td>\n",
       "      <td>SEM EMENDA</td>\n",
       "      <td>ESCOLA DE SARGENTOS DAS ARMAS</td>\n",
       "      <td>COMANDO DO EXERCITO</td>\n",
       "      <td>52121</td>\n",
       "      <td>29900.00</td>\n",
       "      <td>0.00</td>\n",
       "      <td>29900.00</td>\n",
       "      <td>0.0</td>\n",
       "    </tr>\n",
       "    <tr>\n",
       "      <th>575</th>\n",
       "      <td>160129</td>\n",
       "      <td>ESA</td>\n",
       "      <td>4º CGCFEx</td>\n",
       "      <td>4ª RM</td>\n",
       "      <td>CML</td>\n",
       "      <td>Três Corações</td>\n",
       "      <td>MG</td>\n",
       "      <td>6112</td>\n",
       "      <td>212O</td>\n",
       "      <td>MOVIMENTACAO DE MILITARES</td>\n",
       "      <td>160505</td>\n",
       "      <td>DGP</td>\n",
       "      <td>232007</td>\n",
       "      <td>D6DAATSLOCO</td>\n",
       "      <td>D6DA</td>\n",
       "      <td>ATS</td>\n",
       "      <td>LOCO</td>\n",
       "      <td>ATS - ATIVIDADES SETORIAIS</td>\n",
       "      <td>339033</td>\n",
       "      <td>PASSAGENS E DESPESAS COM LOCOMOCAO</td>\n",
       "      <td>33903304</td>\n",
       "      <td>MUDANCAS EM OBJETO DE SERVICO</td>\n",
       "      <td>2024NE000984</td>\n",
       "      <td>2024</td>\n",
       "      <td>2024-08-26</td>\n",
       "      <td>160129000012024NE000984</td>\n",
       "      <td>39644514000115</td>\n",
       "      <td>MULTI PRIME MUDANCAS E TRANSPORTES ESPECIAIS LTDA</td>\n",
       "      <td>GO</td>\n",
       "      <td>ANO</td>\n",
       "      <td>71</td>\n",
       "      <td>MG</td>\n",
       "      <td>1000000000</td>\n",
       "      <td>PREGAO</td>\n",
       "      <td>ESTIMATIVO</td>\n",
       "      <td>1</td>\n",
       "      <td>PRIMARIO OBRIGATORIO</td>\n",
       "      <td>A</td>\n",
       "      <td>INICIAL (LOA)</td>\n",
       "      <td>0000</td>\n",
       "      <td>000000000000</td>\n",
       "      <td>SEM EMENDA</td>\n",
       "      <td>ESCOLA DE SARGENTOS DAS ARMAS</td>\n",
       "      <td>COMANDO DO EXERCITO</td>\n",
       "      <td>52121</td>\n",
       "      <td>44820.00</td>\n",
       "      <td>0.00</td>\n",
       "      <td>44820.00</td>\n",
       "      <td>0.0</td>\n",
       "    </tr>\n",
       "    <tr>\n",
       "      <th>576</th>\n",
       "      <td>160129</td>\n",
       "      <td>ESA</td>\n",
       "      <td>4º CGCFEx</td>\n",
       "      <td>4ª RM</td>\n",
       "      <td>CML</td>\n",
       "      <td>Três Corações</td>\n",
       "      <td>MG</td>\n",
       "      <td>6112</td>\n",
       "      <td>212O</td>\n",
       "      <td>MOVIMENTACAO DE MILITARES</td>\n",
       "      <td>160505</td>\n",
       "      <td>DGP</td>\n",
       "      <td>232007</td>\n",
       "      <td>D6DAATSLOCO</td>\n",
       "      <td>D6DA</td>\n",
       "      <td>ATS</td>\n",
       "      <td>LOCO</td>\n",
       "      <td>ATS - ATIVIDADES SETORIAIS</td>\n",
       "      <td>339033</td>\n",
       "      <td>PASSAGENS E DESPESAS COM LOCOMOCAO</td>\n",
       "      <td>33903304</td>\n",
       "      <td>MUDANCAS EM OBJETO DE SERVICO</td>\n",
       "      <td>2024NE000985</td>\n",
       "      <td>2024</td>\n",
       "      <td>2024-08-26</td>\n",
       "      <td>160129000012024NE000985</td>\n",
       "      <td>39644514000115</td>\n",
       "      <td>MULTI PRIME MUDANCAS E TRANSPORTES ESPECIAIS LTDA</td>\n",
       "      <td>GO</td>\n",
       "      <td>ANO</td>\n",
       "      <td>71</td>\n",
       "      <td>MG</td>\n",
       "      <td>1000000000</td>\n",
       "      <td>PREGAO</td>\n",
       "      <td>ESTIMATIVO</td>\n",
       "      <td>1</td>\n",
       "      <td>PRIMARIO OBRIGATORIO</td>\n",
       "      <td>A</td>\n",
       "      <td>INICIAL (LOA)</td>\n",
       "      <td>0000</td>\n",
       "      <td>000000000000</td>\n",
       "      <td>SEM EMENDA</td>\n",
       "      <td>ESCOLA DE SARGENTOS DAS ARMAS</td>\n",
       "      <td>COMANDO DO EXERCITO</td>\n",
       "      <td>52121</td>\n",
       "      <td>41355.00</td>\n",
       "      <td>0.00</td>\n",
       "      <td>41355.00</td>\n",
       "      <td>0.0</td>\n",
       "    </tr>\n",
       "    <tr>\n",
       "      <th>577</th>\n",
       "      <td>160129</td>\n",
       "      <td>ESA</td>\n",
       "      <td>4º CGCFEx</td>\n",
       "      <td>4ª RM</td>\n",
       "      <td>CML</td>\n",
       "      <td>Três Corações</td>\n",
       "      <td>MG</td>\n",
       "      <td>6112</td>\n",
       "      <td>212O</td>\n",
       "      <td>MOVIMENTACAO DE MILITARES</td>\n",
       "      <td>160505</td>\n",
       "      <td>DGP</td>\n",
       "      <td>232007</td>\n",
       "      <td>D6DAATSLOCO</td>\n",
       "      <td>D6DA</td>\n",
       "      <td>ATS</td>\n",
       "      <td>LOCO</td>\n",
       "      <td>ATS - ATIVIDADES SETORIAIS</td>\n",
       "      <td>339033</td>\n",
       "      <td>PASSAGENS E DESPESAS COM LOCOMOCAO</td>\n",
       "      <td>33903304</td>\n",
       "      <td>MUDANCAS EM OBJETO DE SERVICO</td>\n",
       "      <td>2024NE001035</td>\n",
       "      <td>2024</td>\n",
       "      <td>2024-09-11</td>\n",
       "      <td>160129000012024NE001035</td>\n",
       "      <td>39644514000115</td>\n",
       "      <td>MULTI PRIME MUDANCAS E TRANSPORTES ESPECIAIS LTDA</td>\n",
       "      <td>GO</td>\n",
       "      <td>ANO</td>\n",
       "      <td>55</td>\n",
       "      <td>MG</td>\n",
       "      <td>1000000000</td>\n",
       "      <td>PREGAO</td>\n",
       "      <td>ESTIMATIVO</td>\n",
       "      <td>1</td>\n",
       "      <td>PRIMARIO OBRIGATORIO</td>\n",
       "      <td>A</td>\n",
       "      <td>INICIAL (LOA)</td>\n",
       "      <td>0000</td>\n",
       "      <td>000000000000</td>\n",
       "      <td>SEM EMENDA</td>\n",
       "      <td>ESCOLA DE SARGENTOS DAS ARMAS</td>\n",
       "      <td>COMANDO DO EXERCITO</td>\n",
       "      <td>52121</td>\n",
       "      <td>437.00</td>\n",
       "      <td>0.00</td>\n",
       "      <td>437.00</td>\n",
       "      <td>0.0</td>\n",
       "    </tr>\n",
       "    <tr>\n",
       "      <th>578</th>\n",
       "      <td>160129</td>\n",
       "      <td>ESA</td>\n",
       "      <td>4º CGCFEx</td>\n",
       "      <td>4ª RM</td>\n",
       "      <td>CML</td>\n",
       "      <td>Três Corações</td>\n",
       "      <td>MG</td>\n",
       "      <td>6112</td>\n",
       "      <td>212O</td>\n",
       "      <td>MOVIMENTACAO DE MILITARES</td>\n",
       "      <td>160505</td>\n",
       "      <td>DGP</td>\n",
       "      <td>232007</td>\n",
       "      <td>D6DAATSLOCO</td>\n",
       "      <td>D6DA</td>\n",
       "      <td>ATS</td>\n",
       "      <td>LOCO</td>\n",
       "      <td>ATS - ATIVIDADES SETORIAIS</td>\n",
       "      <td>339033</td>\n",
       "      <td>PASSAGENS E DESPESAS COM LOCOMOCAO</td>\n",
       "      <td>33903304</td>\n",
       "      <td>MUDANCAS EM OBJETO DE SERVICO</td>\n",
       "      <td>2024NE001036</td>\n",
       "      <td>2024</td>\n",
       "      <td>2024-09-12</td>\n",
       "      <td>160129000012024NE001036</td>\n",
       "      <td>39644514000115</td>\n",
       "      <td>MULTI PRIME MUDANCAS E TRANSPORTES ESPECIAIS LTDA</td>\n",
       "      <td>GO</td>\n",
       "      <td>ANO</td>\n",
       "      <td>54</td>\n",
       "      <td>MG</td>\n",
       "      <td>1000000000</td>\n",
       "      <td>PREGAO</td>\n",
       "      <td>ESTIMATIVO</td>\n",
       "      <td>1</td>\n",
       "      <td>PRIMARIO OBRIGATORIO</td>\n",
       "      <td>A</td>\n",
       "      <td>INICIAL (LOA)</td>\n",
       "      <td>0000</td>\n",
       "      <td>000000000000</td>\n",
       "      <td>SEM EMENDA</td>\n",
       "      <td>ESCOLA DE SARGENTOS DAS ARMAS</td>\n",
       "      <td>COMANDO DO EXERCITO</td>\n",
       "      <td>52121</td>\n",
       "      <td>919.00</td>\n",
       "      <td>0.00</td>\n",
       "      <td>919.00</td>\n",
       "      <td>0.0</td>\n",
       "    </tr>\n",
       "    <tr>\n",
       "      <th>579</th>\n",
       "      <td>160129</td>\n",
       "      <td>ESA</td>\n",
       "      <td>4º CGCFEx</td>\n",
       "      <td>4ª RM</td>\n",
       "      <td>CML</td>\n",
       "      <td>Três Corações</td>\n",
       "      <td>MG</td>\n",
       "      <td>6112</td>\n",
       "      <td>212O</td>\n",
       "      <td>MOVIMENTACAO DE MILITARES</td>\n",
       "      <td>160505</td>\n",
       "      <td>DGP</td>\n",
       "      <td>232007</td>\n",
       "      <td>D6DAATSLOCO</td>\n",
       "      <td>D6DA</td>\n",
       "      <td>ATS</td>\n",
       "      <td>LOCO</td>\n",
       "      <td>ATS - ATIVIDADES SETORIAIS</td>\n",
       "      <td>339033</td>\n",
       "      <td>PASSAGENS E DESPESAS COM LOCOMOCAO</td>\n",
       "      <td>33903304</td>\n",
       "      <td>MUDANCAS EM OBJETO DE SERVICO</td>\n",
       "      <td>2024NE001037</td>\n",
       "      <td>2024</td>\n",
       "      <td>2024-09-12</td>\n",
       "      <td>160129000012024NE001037</td>\n",
       "      <td>39644514000115</td>\n",
       "      <td>MULTI PRIME MUDANCAS E TRANSPORTES ESPECIAIS LTDA</td>\n",
       "      <td>GO</td>\n",
       "      <td>ANO</td>\n",
       "      <td>54</td>\n",
       "      <td>MG</td>\n",
       "      <td>1000000000</td>\n",
       "      <td>PREGAO</td>\n",
       "      <td>ESTIMATIVO</td>\n",
       "      <td>1</td>\n",
       "      <td>PRIMARIO OBRIGATORIO</td>\n",
       "      <td>A</td>\n",
       "      <td>INICIAL (LOA)</td>\n",
       "      <td>0000</td>\n",
       "      <td>000000000000</td>\n",
       "      <td>SEM EMENDA</td>\n",
       "      <td>ESCOLA DE SARGENTOS DAS ARMAS</td>\n",
       "      <td>COMANDO DO EXERCITO</td>\n",
       "      <td>52121</td>\n",
       "      <td>747.00</td>\n",
       "      <td>0.00</td>\n",
       "      <td>747.00</td>\n",
       "      <td>0.0</td>\n",
       "    </tr>\n",
       "    <tr>\n",
       "      <th>580</th>\n",
       "      <td>160129</td>\n",
       "      <td>ESA</td>\n",
       "      <td>4º CGCFEx</td>\n",
       "      <td>4ª RM</td>\n",
       "      <td>CML</td>\n",
       "      <td>Três Corações</td>\n",
       "      <td>MG</td>\n",
       "      <td>6112</td>\n",
       "      <td>212O</td>\n",
       "      <td>MOVIMENTACAO DE MILITARES</td>\n",
       "      <td>160505</td>\n",
       "      <td>DGP</td>\n",
       "      <td>232007</td>\n",
       "      <td>D6DAATSLOCO</td>\n",
       "      <td>D6DA</td>\n",
       "      <td>ATS</td>\n",
       "      <td>LOCO</td>\n",
       "      <td>ATS - ATIVIDADES SETORIAIS</td>\n",
       "      <td>339033</td>\n",
       "      <td>PASSAGENS E DESPESAS COM LOCOMOCAO</td>\n",
       "      <td>33903304</td>\n",
       "      <td>MUDANCAS EM OBJETO DE SERVICO</td>\n",
       "      <td>2024NE001105</td>\n",
       "      <td>2024</td>\n",
       "      <td>2024-09-24</td>\n",
       "      <td>160129000012024NE001105</td>\n",
       "      <td>39644514000115</td>\n",
       "      <td>MULTI PRIME MUDANCAS E TRANSPORTES ESPECIAIS LTDA</td>\n",
       "      <td>GO</td>\n",
       "      <td>ANO</td>\n",
       "      <td>42</td>\n",
       "      <td>MG</td>\n",
       "      <td>1000000000</td>\n",
       "      <td>PREGAO</td>\n",
       "      <td>ESTIMATIVO</td>\n",
       "      <td>1</td>\n",
       "      <td>PRIMARIO OBRIGATORIO</td>\n",
       "      <td>A</td>\n",
       "      <td>INICIAL (LOA)</td>\n",
       "      <td>0000</td>\n",
       "      <td>000000000000</td>\n",
       "      <td>SEM EMENDA</td>\n",
       "      <td>ESCOLA DE SARGENTOS DAS ARMAS</td>\n",
       "      <td>COMANDO DO EXERCITO</td>\n",
       "      <td>52121</td>\n",
       "      <td>598.00</td>\n",
       "      <td>0.00</td>\n",
       "      <td>598.00</td>\n",
       "      <td>0.0</td>\n",
       "    </tr>\n",
       "    <tr>\n",
       "      <th>581</th>\n",
       "      <td>160129</td>\n",
       "      <td>ESA</td>\n",
       "      <td>4º CGCFEx</td>\n",
       "      <td>4ª RM</td>\n",
       "      <td>CML</td>\n",
       "      <td>Três Corações</td>\n",
       "      <td>MG</td>\n",
       "      <td>6112</td>\n",
       "      <td>212O</td>\n",
       "      <td>MOVIMENTACAO DE MILITARES</td>\n",
       "      <td>160505</td>\n",
       "      <td>DGP</td>\n",
       "      <td>232007</td>\n",
       "      <td>D6DAATSLOCO</td>\n",
       "      <td>D6DA</td>\n",
       "      <td>ATS</td>\n",
       "      <td>LOCO</td>\n",
       "      <td>ATS - ATIVIDADES SETORIAIS</td>\n",
       "      <td>339033</td>\n",
       "      <td>PASSAGENS E DESPESAS COM LOCOMOCAO</td>\n",
       "      <td>33903304</td>\n",
       "      <td>MUDANCAS EM OBJETO DE SERVICO</td>\n",
       "      <td>2024NE001120</td>\n",
       "      <td>2024</td>\n",
       "      <td>2024-09-27</td>\n",
       "      <td>160129000012024NE001120</td>\n",
       "      <td>39644514000115</td>\n",
       "      <td>MULTI PRIME MUDANCAS E TRANSPORTES ESPECIAIS LTDA</td>\n",
       "      <td>GO</td>\n",
       "      <td>ANO</td>\n",
       "      <td>39</td>\n",
       "      <td>MG</td>\n",
       "      <td>1000000000</td>\n",
       "      <td>PREGAO</td>\n",
       "      <td>ESTIMATIVO</td>\n",
       "      <td>1</td>\n",
       "      <td>PRIMARIO OBRIGATORIO</td>\n",
       "      <td>A</td>\n",
       "      <td>INICIAL (LOA)</td>\n",
       "      <td>0000</td>\n",
       "      <td>000000000000</td>\n",
       "      <td>SEM EMENDA</td>\n",
       "      <td>ESCOLA DE SARGENTOS DAS ARMAS</td>\n",
       "      <td>COMANDO DO EXERCITO</td>\n",
       "      <td>52121</td>\n",
       "      <td>397.00</td>\n",
       "      <td>0.00</td>\n",
       "      <td>397.00</td>\n",
       "      <td>0.0</td>\n",
       "    </tr>\n",
       "    <tr>\n",
       "      <th>582</th>\n",
       "      <td>160129</td>\n",
       "      <td>ESA</td>\n",
       "      <td>4º CGCFEx</td>\n",
       "      <td>4ª RM</td>\n",
       "      <td>CML</td>\n",
       "      <td>Três Corações</td>\n",
       "      <td>MG</td>\n",
       "      <td>6112</td>\n",
       "      <td>212O</td>\n",
       "      <td>MOVIMENTACAO DE MILITARES</td>\n",
       "      <td>160505</td>\n",
       "      <td>DGP</td>\n",
       "      <td>232007</td>\n",
       "      <td>D6DAATSLOCO</td>\n",
       "      <td>D6DA</td>\n",
       "      <td>ATS</td>\n",
       "      <td>LOCO</td>\n",
       "      <td>ATS - ATIVIDADES SETORIAIS</td>\n",
       "      <td>339033</td>\n",
       "      <td>PASSAGENS E DESPESAS COM LOCOMOCAO</td>\n",
       "      <td>33903304</td>\n",
       "      <td>MUDANCAS EM OBJETO DE SERVICO</td>\n",
       "      <td>2024NE001121</td>\n",
       "      <td>2024</td>\n",
       "      <td>2024-09-27</td>\n",
       "      <td>160129000012024NE001121</td>\n",
       "      <td>39644514000115</td>\n",
       "      <td>MULTI PRIME MUDANCAS E TRANSPORTES ESPECIAIS LTDA</td>\n",
       "      <td>GO</td>\n",
       "      <td>ANO</td>\n",
       "      <td>39</td>\n",
       "      <td>MG</td>\n",
       "      <td>1000000000</td>\n",
       "      <td>PREGAO</td>\n",
       "      <td>ESTIMATIVO</td>\n",
       "      <td>1</td>\n",
       "      <td>PRIMARIO OBRIGATORIO</td>\n",
       "      <td>A</td>\n",
       "      <td>INICIAL (LOA)</td>\n",
       "      <td>0000</td>\n",
       "      <td>000000000000</td>\n",
       "      <td>SEM EMENDA</td>\n",
       "      <td>ESCOLA DE SARGENTOS DAS ARMAS</td>\n",
       "      <td>COMANDO DO EXERCITO</td>\n",
       "      <td>52121</td>\n",
       "      <td>598.00</td>\n",
       "      <td>0.00</td>\n",
       "      <td>598.00</td>\n",
       "      <td>0.0</td>\n",
       "    </tr>\n",
       "    <tr>\n",
       "      <th>583</th>\n",
       "      <td>160129</td>\n",
       "      <td>ESA</td>\n",
       "      <td>4º CGCFEx</td>\n",
       "      <td>4ª RM</td>\n",
       "      <td>CML</td>\n",
       "      <td>Três Corações</td>\n",
       "      <td>MG</td>\n",
       "      <td>6112</td>\n",
       "      <td>212O</td>\n",
       "      <td>MOVIMENTACAO DE MILITARES</td>\n",
       "      <td>160505</td>\n",
       "      <td>DGP</td>\n",
       "      <td>232007</td>\n",
       "      <td>D6DAATSLOCO</td>\n",
       "      <td>D6DA</td>\n",
       "      <td>ATS</td>\n",
       "      <td>LOCO</td>\n",
       "      <td>ATS - ATIVIDADES SETORIAIS</td>\n",
       "      <td>339033</td>\n",
       "      <td>PASSAGENS E DESPESAS COM LOCOMOCAO</td>\n",
       "      <td>33903304</td>\n",
       "      <td>MUDANCAS EM OBJETO DE SERVICO</td>\n",
       "      <td>2024NE001122</td>\n",
       "      <td>2024</td>\n",
       "      <td>2024-09-27</td>\n",
       "      <td>160129000012024NE001122</td>\n",
       "      <td>39644514000115</td>\n",
       "      <td>MULTI PRIME MUDANCAS E TRANSPORTES ESPECIAIS LTDA</td>\n",
       "      <td>GO</td>\n",
       "      <td>ANO</td>\n",
       "      <td>39</td>\n",
       "      <td>MG</td>\n",
       "      <td>1000000000</td>\n",
       "      <td>PREGAO</td>\n",
       "      <td>ESTIMATIVO</td>\n",
       "      <td>1</td>\n",
       "      <td>PRIMARIO OBRIGATORIO</td>\n",
       "      <td>A</td>\n",
       "      <td>INICIAL (LOA)</td>\n",
       "      <td>0000</td>\n",
       "      <td>000000000000</td>\n",
       "      <td>SEM EMENDA</td>\n",
       "      <td>ESCOLA DE SARGENTOS DAS ARMAS</td>\n",
       "      <td>COMANDO DO EXERCITO</td>\n",
       "      <td>52121</td>\n",
       "      <td>747.00</td>\n",
       "      <td>0.00</td>\n",
       "      <td>747.00</td>\n",
       "      <td>0.0</td>\n",
       "    </tr>\n",
       "    <tr>\n",
       "      <th>584</th>\n",
       "      <td>160129</td>\n",
       "      <td>ESA</td>\n",
       "      <td>4º CGCFEx</td>\n",
       "      <td>4ª RM</td>\n",
       "      <td>CML</td>\n",
       "      <td>Três Corações</td>\n",
       "      <td>MG</td>\n",
       "      <td>6112</td>\n",
       "      <td>212O</td>\n",
       "      <td>MOVIMENTACAO DE MILITARES</td>\n",
       "      <td>160505</td>\n",
       "      <td>DGP</td>\n",
       "      <td>232007</td>\n",
       "      <td>D6DAATSLOCO</td>\n",
       "      <td>D6DA</td>\n",
       "      <td>ATS</td>\n",
       "      <td>LOCO</td>\n",
       "      <td>ATS - ATIVIDADES SETORIAIS</td>\n",
       "      <td>339033</td>\n",
       "      <td>PASSAGENS E DESPESAS COM LOCOMOCAO</td>\n",
       "      <td>33903304</td>\n",
       "      <td>MUDANCAS EM OBJETO DE SERVICO</td>\n",
       "      <td>2024NE001142</td>\n",
       "      <td>2024</td>\n",
       "      <td>2024-10-01</td>\n",
       "      <td>160129000012024NE001142</td>\n",
       "      <td>39644514000115</td>\n",
       "      <td>MULTI PRIME MUDANCAS E TRANSPORTES ESPECIAIS LTDA</td>\n",
       "      <td>GO</td>\n",
       "      <td>ANO</td>\n",
       "      <td>35</td>\n",
       "      <td>MG</td>\n",
       "      <td>1000000000</td>\n",
       "      <td>PREGAO</td>\n",
       "      <td>ESTIMATIVO</td>\n",
       "      <td>1</td>\n",
       "      <td>PRIMARIO OBRIGATORIO</td>\n",
       "      <td>A</td>\n",
       "      <td>INICIAL (LOA)</td>\n",
       "      <td>0000</td>\n",
       "      <td>000000000000</td>\n",
       "      <td>SEM EMENDA</td>\n",
       "      <td>ESCOLA DE SARGENTOS DAS ARMAS</td>\n",
       "      <td>COMANDO DO EXERCITO</td>\n",
       "      <td>52121</td>\n",
       "      <td>598.00</td>\n",
       "      <td>0.00</td>\n",
       "      <td>598.00</td>\n",
       "      <td>0.0</td>\n",
       "    </tr>\n",
       "    <tr>\n",
       "      <th>585</th>\n",
       "      <td>160129</td>\n",
       "      <td>ESA</td>\n",
       "      <td>4º CGCFEx</td>\n",
       "      <td>4ª RM</td>\n",
       "      <td>CML</td>\n",
       "      <td>Três Corações</td>\n",
       "      <td>MG</td>\n",
       "      <td>6112</td>\n",
       "      <td>212O</td>\n",
       "      <td>MOVIMENTACAO DE MILITARES</td>\n",
       "      <td>160505</td>\n",
       "      <td>DGP</td>\n",
       "      <td>232007</td>\n",
       "      <td>D6DAATSLOCO</td>\n",
       "      <td>D6DA</td>\n",
       "      <td>ATS</td>\n",
       "      <td>LOCO</td>\n",
       "      <td>ATS - ATIVIDADES SETORIAIS</td>\n",
       "      <td>339033</td>\n",
       "      <td>PASSAGENS E DESPESAS COM LOCOMOCAO</td>\n",
       "      <td>33903304</td>\n",
       "      <td>MUDANCAS EM OBJETO DE SERVICO</td>\n",
       "      <td>2024NE001158</td>\n",
       "      <td>2024</td>\n",
       "      <td>2024-10-03</td>\n",
       "      <td>160129000012024NE001158</td>\n",
       "      <td>39644514000115</td>\n",
       "      <td>MULTI PRIME MUDANCAS E TRANSPORTES ESPECIAIS LTDA</td>\n",
       "      <td>GO</td>\n",
       "      <td>ANO</td>\n",
       "      <td>33</td>\n",
       "      <td>MG</td>\n",
       "      <td>1000000000</td>\n",
       "      <td>PREGAO</td>\n",
       "      <td>ESTIMATIVO</td>\n",
       "      <td>1</td>\n",
       "      <td>PRIMARIO OBRIGATORIO</td>\n",
       "      <td>A</td>\n",
       "      <td>INICIAL (LOA)</td>\n",
       "      <td>0000</td>\n",
       "      <td>000000000000</td>\n",
       "      <td>SEM EMENDA</td>\n",
       "      <td>ESCOLA DE SARGENTOS DAS ARMAS</td>\n",
       "      <td>COMANDO DO EXERCITO</td>\n",
       "      <td>52121</td>\n",
       "      <td>747.00</td>\n",
       "      <td>0.00</td>\n",
       "      <td>747.00</td>\n",
       "      <td>0.0</td>\n",
       "    </tr>\n",
       "    <tr>\n",
       "      <th>586</th>\n",
       "      <td>160129</td>\n",
       "      <td>ESA</td>\n",
       "      <td>4º CGCFEx</td>\n",
       "      <td>4ª RM</td>\n",
       "      <td>CML</td>\n",
       "      <td>Três Corações</td>\n",
       "      <td>MG</td>\n",
       "      <td>6112</td>\n",
       "      <td>212O</td>\n",
       "      <td>MOVIMENTACAO DE MILITARES</td>\n",
       "      <td>160505</td>\n",
       "      <td>DGP</td>\n",
       "      <td>232007</td>\n",
       "      <td>D6DAATSLOCO</td>\n",
       "      <td>D6DA</td>\n",
       "      <td>ATS</td>\n",
       "      <td>LOCO</td>\n",
       "      <td>ATS - ATIVIDADES SETORIAIS</td>\n",
       "      <td>339033</td>\n",
       "      <td>PASSAGENS E DESPESAS COM LOCOMOCAO</td>\n",
       "      <td>33903304</td>\n",
       "      <td>MUDANCAS EM OBJETO DE SERVICO</td>\n",
       "      <td>2024NE001166</td>\n",
       "      <td>2024</td>\n",
       "      <td>2024-10-04</td>\n",
       "      <td>160129000012024NE001166</td>\n",
       "      <td>39644514000115</td>\n",
       "      <td>MULTI PRIME MUDANCAS E TRANSPORTES ESPECIAIS LTDA</td>\n",
       "      <td>GO</td>\n",
       "      <td>ANO</td>\n",
       "      <td>32</td>\n",
       "      <td>MG</td>\n",
       "      <td>1000000000</td>\n",
       "      <td>PREGAO</td>\n",
       "      <td>ESTIMATIVO</td>\n",
       "      <td>1</td>\n",
       "      <td>PRIMARIO OBRIGATORIO</td>\n",
       "      <td>A</td>\n",
       "      <td>INICIAL (LOA)</td>\n",
       "      <td>0000</td>\n",
       "      <td>000000000000</td>\n",
       "      <td>SEM EMENDA</td>\n",
       "      <td>ESCOLA DE SARGENTOS DAS ARMAS</td>\n",
       "      <td>COMANDO DO EXERCITO</td>\n",
       "      <td>52121</td>\n",
       "      <td>598.00</td>\n",
       "      <td>0.00</td>\n",
       "      <td>598.00</td>\n",
       "      <td>0.0</td>\n",
       "    </tr>\n",
       "    <tr>\n",
       "      <th>587</th>\n",
       "      <td>160129</td>\n",
       "      <td>ESA</td>\n",
       "      <td>4º CGCFEx</td>\n",
       "      <td>4ª RM</td>\n",
       "      <td>CML</td>\n",
       "      <td>Três Corações</td>\n",
       "      <td>MG</td>\n",
       "      <td>6112</td>\n",
       "      <td>212O</td>\n",
       "      <td>MOVIMENTACAO DE MILITARES</td>\n",
       "      <td>160505</td>\n",
       "      <td>DGP</td>\n",
       "      <td>232007</td>\n",
       "      <td>D6DAATSLOCO</td>\n",
       "      <td>D6DA</td>\n",
       "      <td>ATS</td>\n",
       "      <td>LOCO</td>\n",
       "      <td>ATS - ATIVIDADES SETORIAIS</td>\n",
       "      <td>339033</td>\n",
       "      <td>PASSAGENS E DESPESAS COM LOCOMOCAO</td>\n",
       "      <td>33903304</td>\n",
       "      <td>MUDANCAS EM OBJETO DE SERVICO</td>\n",
       "      <td>2024NE001175</td>\n",
       "      <td>2024</td>\n",
       "      <td>2024-10-07</td>\n",
       "      <td>160129000012024NE001175</td>\n",
       "      <td>39644514000115</td>\n",
       "      <td>MULTI PRIME MUDANCAS E TRANSPORTES ESPECIAIS LTDA</td>\n",
       "      <td>GO</td>\n",
       "      <td>ANO</td>\n",
       "      <td>29</td>\n",
       "      <td>MG</td>\n",
       "      <td>1000000000</td>\n",
       "      <td>PREGAO</td>\n",
       "      <td>ESTIMATIVO</td>\n",
       "      <td>1</td>\n",
       "      <td>PRIMARIO OBRIGATORIO</td>\n",
       "      <td>A</td>\n",
       "      <td>INICIAL (LOA)</td>\n",
       "      <td>0000</td>\n",
       "      <td>000000000000</td>\n",
       "      <td>SEM EMENDA</td>\n",
       "      <td>ESCOLA DE SARGENTOS DAS ARMAS</td>\n",
       "      <td>COMANDO DO EXERCITO</td>\n",
       "      <td>52121</td>\n",
       "      <td>747.00</td>\n",
       "      <td>0.00</td>\n",
       "      <td>747.00</td>\n",
       "      <td>0.0</td>\n",
       "    </tr>\n",
       "    <tr>\n",
       "      <th>588</th>\n",
       "      <td>160129</td>\n",
       "      <td>ESA</td>\n",
       "      <td>4º CGCFEx</td>\n",
       "      <td>4ª RM</td>\n",
       "      <td>CML</td>\n",
       "      <td>Três Corações</td>\n",
       "      <td>MG</td>\n",
       "      <td>6112</td>\n",
       "      <td>212O</td>\n",
       "      <td>MOVIMENTACAO DE MILITARES</td>\n",
       "      <td>160505</td>\n",
       "      <td>DGP</td>\n",
       "      <td>232007</td>\n",
       "      <td>D6DAATSLOCO</td>\n",
       "      <td>D6DA</td>\n",
       "      <td>ATS</td>\n",
       "      <td>LOCO</td>\n",
       "      <td>ATS - ATIVIDADES SETORIAIS</td>\n",
       "      <td>339033</td>\n",
       "      <td>PASSAGENS E DESPESAS COM LOCOMOCAO</td>\n",
       "      <td>33903304</td>\n",
       "      <td>MUDANCAS EM OBJETO DE SERVICO</td>\n",
       "      <td>2024NE001176</td>\n",
       "      <td>2024</td>\n",
       "      <td>2024-10-07</td>\n",
       "      <td>160129000012024NE001176</td>\n",
       "      <td>39644514000115</td>\n",
       "      <td>MULTI PRIME MUDANCAS E TRANSPORTES ESPECIAIS LTDA</td>\n",
       "      <td>GO</td>\n",
       "      <td>ANO</td>\n",
       "      <td>29</td>\n",
       "      <td>MG</td>\n",
       "      <td>1000000000</td>\n",
       "      <td>PREGAO</td>\n",
       "      <td>ESTIMATIVO</td>\n",
       "      <td>1</td>\n",
       "      <td>PRIMARIO OBRIGATORIO</td>\n",
       "      <td>A</td>\n",
       "      <td>INICIAL (LOA)</td>\n",
       "      <td>0000</td>\n",
       "      <td>000000000000</td>\n",
       "      <td>SEM EMENDA</td>\n",
       "      <td>ESCOLA DE SARGENTOS DAS ARMAS</td>\n",
       "      <td>COMANDO DO EXERCITO</td>\n",
       "      <td>52121</td>\n",
       "      <td>919.00</td>\n",
       "      <td>0.00</td>\n",
       "      <td>919.00</td>\n",
       "      <td>0.0</td>\n",
       "    </tr>\n",
       "    <tr>\n",
       "      <th>589</th>\n",
       "      <td>160129</td>\n",
       "      <td>ESA</td>\n",
       "      <td>4º CGCFEx</td>\n",
       "      <td>4ª RM</td>\n",
       "      <td>CML</td>\n",
       "      <td>Três Corações</td>\n",
       "      <td>MG</td>\n",
       "      <td>6112</td>\n",
       "      <td>212O</td>\n",
       "      <td>MOVIMENTACAO DE MILITARES</td>\n",
       "      <td>160505</td>\n",
       "      <td>DGP</td>\n",
       "      <td>232007</td>\n",
       "      <td>D6DAATSLOCO</td>\n",
       "      <td>D6DA</td>\n",
       "      <td>ATS</td>\n",
       "      <td>LOCO</td>\n",
       "      <td>ATS - ATIVIDADES SETORIAIS</td>\n",
       "      <td>339033</td>\n",
       "      <td>PASSAGENS E DESPESAS COM LOCOMOCAO</td>\n",
       "      <td>33903304</td>\n",
       "      <td>MUDANCAS EM OBJETO DE SERVICO</td>\n",
       "      <td>2024NE001195</td>\n",
       "      <td>2024</td>\n",
       "      <td>2024-10-09</td>\n",
       "      <td>160129000012024NE001195</td>\n",
       "      <td>39644514000115</td>\n",
       "      <td>MULTI PRIME MUDANCAS E TRANSPORTES ESPECIAIS LTDA</td>\n",
       "      <td>GO</td>\n",
       "      <td>ANO</td>\n",
       "      <td>27</td>\n",
       "      <td>MG</td>\n",
       "      <td>1000000000</td>\n",
       "      <td>PREGAO</td>\n",
       "      <td>ESTIMATIVO</td>\n",
       "      <td>1</td>\n",
       "      <td>PRIMARIO OBRIGATORIO</td>\n",
       "      <td>A</td>\n",
       "      <td>INICIAL (LOA)</td>\n",
       "      <td>0000</td>\n",
       "      <td>000000000000</td>\n",
       "      <td>SEM EMENDA</td>\n",
       "      <td>ESCOLA DE SARGENTOS DAS ARMAS</td>\n",
       "      <td>COMANDO DO EXERCITO</td>\n",
       "      <td>52121</td>\n",
       "      <td>397.00</td>\n",
       "      <td>0.00</td>\n",
       "      <td>397.00</td>\n",
       "      <td>0.0</td>\n",
       "    </tr>\n",
       "    <tr>\n",
       "      <th>590</th>\n",
       "      <td>160129</td>\n",
       "      <td>ESA</td>\n",
       "      <td>4º CGCFEx</td>\n",
       "      <td>4ª RM</td>\n",
       "      <td>CML</td>\n",
       "      <td>Três Corações</td>\n",
       "      <td>MG</td>\n",
       "      <td>6112</td>\n",
       "      <td>212O</td>\n",
       "      <td>MOVIMENTACAO DE MILITARES</td>\n",
       "      <td>160505</td>\n",
       "      <td>DGP</td>\n",
       "      <td>232007</td>\n",
       "      <td>D6DAATSLOCO</td>\n",
       "      <td>D6DA</td>\n",
       "      <td>ATS</td>\n",
       "      <td>LOCO</td>\n",
       "      <td>ATS - ATIVIDADES SETORIAIS</td>\n",
       "      <td>339033</td>\n",
       "      <td>PASSAGENS E DESPESAS COM LOCOMOCAO</td>\n",
       "      <td>33903304</td>\n",
       "      <td>MUDANCAS EM OBJETO DE SERVICO</td>\n",
       "      <td>2024NE001226</td>\n",
       "      <td>2024</td>\n",
       "      <td>2024-10-14</td>\n",
       "      <td>160129000012024NE001226</td>\n",
       "      <td>39644514000115</td>\n",
       "      <td>MULTI PRIME MUDANCAS E TRANSPORTES ESPECIAIS LTDA</td>\n",
       "      <td>GO</td>\n",
       "      <td>ANO</td>\n",
       "      <td>22</td>\n",
       "      <td>MG</td>\n",
       "      <td>1000000000</td>\n",
       "      <td>PREGAO</td>\n",
       "      <td>ESTIMATIVO</td>\n",
       "      <td>1</td>\n",
       "      <td>PRIMARIO OBRIGATORIO</td>\n",
       "      <td>A</td>\n",
       "      <td>INICIAL (LOA)</td>\n",
       "      <td>0000</td>\n",
       "      <td>000000000000</td>\n",
       "      <td>SEM EMENDA</td>\n",
       "      <td>ESCOLA DE SARGENTOS DAS ARMAS</td>\n",
       "      <td>COMANDO DO EXERCITO</td>\n",
       "      <td>52121</td>\n",
       "      <td>747.00</td>\n",
       "      <td>0.00</td>\n",
       "      <td>747.00</td>\n",
       "      <td>0.0</td>\n",
       "    </tr>\n",
       "    <tr>\n",
       "      <th>591</th>\n",
       "      <td>160129</td>\n",
       "      <td>ESA</td>\n",
       "      <td>4º CGCFEx</td>\n",
       "      <td>4ª RM</td>\n",
       "      <td>CML</td>\n",
       "      <td>Três Corações</td>\n",
       "      <td>MG</td>\n",
       "      <td>6112</td>\n",
       "      <td>212O</td>\n",
       "      <td>MOVIMENTACAO DE MILITARES</td>\n",
       "      <td>160505</td>\n",
       "      <td>DGP</td>\n",
       "      <td>232007</td>\n",
       "      <td>D6DAATSLOCO</td>\n",
       "      <td>D6DA</td>\n",
       "      <td>ATS</td>\n",
       "      <td>LOCO</td>\n",
       "      <td>ATS - ATIVIDADES SETORIAIS</td>\n",
       "      <td>339033</td>\n",
       "      <td>PASSAGENS E DESPESAS COM LOCOMOCAO</td>\n",
       "      <td>33903304</td>\n",
       "      <td>MUDANCAS EM OBJETO DE SERVICO</td>\n",
       "      <td>2024NE001227</td>\n",
       "      <td>2024</td>\n",
       "      <td>2024-10-14</td>\n",
       "      <td>160129000012024NE001227</td>\n",
       "      <td>39644514000115</td>\n",
       "      <td>MULTI PRIME MUDANCAS E TRANSPORTES ESPECIAIS LTDA</td>\n",
       "      <td>GO</td>\n",
       "      <td>ANO</td>\n",
       "      <td>22</td>\n",
       "      <td>MG</td>\n",
       "      <td>1000000000</td>\n",
       "      <td>PREGAO</td>\n",
       "      <td>ESTIMATIVO</td>\n",
       "      <td>1</td>\n",
       "      <td>PRIMARIO OBRIGATORIO</td>\n",
       "      <td>A</td>\n",
       "      <td>INICIAL (LOA)</td>\n",
       "      <td>0000</td>\n",
       "      <td>000000000000</td>\n",
       "      <td>SEM EMENDA</td>\n",
       "      <td>ESCOLA DE SARGENTOS DAS ARMAS</td>\n",
       "      <td>COMANDO DO EXERCITO</td>\n",
       "      <td>52121</td>\n",
       "      <td>437.00</td>\n",
       "      <td>0.00</td>\n",
       "      <td>437.00</td>\n",
       "      <td>0.0</td>\n",
       "    </tr>\n",
       "    <tr>\n",
       "      <th>592</th>\n",
       "      <td>160129</td>\n",
       "      <td>ESA</td>\n",
       "      <td>4º CGCFEx</td>\n",
       "      <td>4ª RM</td>\n",
       "      <td>CML</td>\n",
       "      <td>Três Corações</td>\n",
       "      <td>MG</td>\n",
       "      <td>6112</td>\n",
       "      <td>212O</td>\n",
       "      <td>MOVIMENTACAO DE MILITARES</td>\n",
       "      <td>160505</td>\n",
       "      <td>DGP</td>\n",
       "      <td>232007</td>\n",
       "      <td>D6DAATSLOCO</td>\n",
       "      <td>D6DA</td>\n",
       "      <td>ATS</td>\n",
       "      <td>LOCO</td>\n",
       "      <td>ATS - ATIVIDADES SETORIAIS</td>\n",
       "      <td>339033</td>\n",
       "      <td>PASSAGENS E DESPESAS COM LOCOMOCAO</td>\n",
       "      <td>33903304</td>\n",
       "      <td>MUDANCAS EM OBJETO DE SERVICO</td>\n",
       "      <td>2024NE001232</td>\n",
       "      <td>2024</td>\n",
       "      <td>2024-10-18</td>\n",
       "      <td>160129000012024NE001232</td>\n",
       "      <td>39644514000115</td>\n",
       "      <td>MULTI PRIME MUDANCAS E TRANSPORTES ESPECIAIS LTDA</td>\n",
       "      <td>GO</td>\n",
       "      <td>ANO</td>\n",
       "      <td>18</td>\n",
       "      <td>MG</td>\n",
       "      <td>1000000000</td>\n",
       "      <td>PREGAO</td>\n",
       "      <td>ESTIMATIVO</td>\n",
       "      <td>1</td>\n",
       "      <td>PRIMARIO OBRIGATORIO</td>\n",
       "      <td>A</td>\n",
       "      <td>INICIAL (LOA)</td>\n",
       "      <td>0000</td>\n",
       "      <td>000000000000</td>\n",
       "      <td>SEM EMENDA</td>\n",
       "      <td>ESCOLA DE SARGENTOS DAS ARMAS</td>\n",
       "      <td>COMANDO DO EXERCITO</td>\n",
       "      <td>52121</td>\n",
       "      <td>919.00</td>\n",
       "      <td>0.00</td>\n",
       "      <td>919.00</td>\n",
       "      <td>0.0</td>\n",
       "    </tr>\n",
       "    <tr>\n",
       "      <th>593</th>\n",
       "      <td>160129</td>\n",
       "      <td>ESA</td>\n",
       "      <td>4º CGCFEx</td>\n",
       "      <td>4ª RM</td>\n",
       "      <td>CML</td>\n",
       "      <td>Três Corações</td>\n",
       "      <td>MG</td>\n",
       "      <td>6112</td>\n",
       "      <td>212O</td>\n",
       "      <td>MOVIMENTACAO DE MILITARES</td>\n",
       "      <td>160505</td>\n",
       "      <td>DGP</td>\n",
       "      <td>232007</td>\n",
       "      <td>D6DAATSLOCO</td>\n",
       "      <td>D6DA</td>\n",
       "      <td>ATS</td>\n",
       "      <td>LOCO</td>\n",
       "      <td>ATS - ATIVIDADES SETORIAIS</td>\n",
       "      <td>339033</td>\n",
       "      <td>PASSAGENS E DESPESAS COM LOCOMOCAO</td>\n",
       "      <td>33903304</td>\n",
       "      <td>MUDANCAS EM OBJETO DE SERVICO</td>\n",
       "      <td>2024NE001252</td>\n",
       "      <td>2024</td>\n",
       "      <td>2024-10-22</td>\n",
       "      <td>160129000012024NE001252</td>\n",
       "      <td>39644514000115</td>\n",
       "      <td>MULTI PRIME MUDANCAS E TRANSPORTES ESPECIAIS LTDA</td>\n",
       "      <td>GO</td>\n",
       "      <td>ANO</td>\n",
       "      <td>14</td>\n",
       "      <td>MG</td>\n",
       "      <td>1000000000</td>\n",
       "      <td>PREGAO</td>\n",
       "      <td>ESTIMATIVO</td>\n",
       "      <td>1</td>\n",
       "      <td>PRIMARIO OBRIGATORIO</td>\n",
       "      <td>A</td>\n",
       "      <td>INICIAL (LOA)</td>\n",
       "      <td>0000</td>\n",
       "      <td>000000000000</td>\n",
       "      <td>SEM EMENDA</td>\n",
       "      <td>ESCOLA DE SARGENTOS DAS ARMAS</td>\n",
       "      <td>COMANDO DO EXERCITO</td>\n",
       "      <td>52121</td>\n",
       "      <td>919.00</td>\n",
       "      <td>0.00</td>\n",
       "      <td>919.00</td>\n",
       "      <td>0.0</td>\n",
       "    </tr>\n",
       "    <tr>\n",
       "      <th>877</th>\n",
       "      <td>160129</td>\n",
       "      <td>ESA</td>\n",
       "      <td>4º CGCFEx</td>\n",
       "      <td>4ª RM</td>\n",
       "      <td>CML</td>\n",
       "      <td>Três Corações</td>\n",
       "      <td>MG</td>\n",
       "      <td>6112</td>\n",
       "      <td>212O</td>\n",
       "      <td>MOVIMENTACAO DE MILITARES</td>\n",
       "      <td>160505</td>\n",
       "      <td>DGP</td>\n",
       "      <td>232007</td>\n",
       "      <td>D6PEINDMV1A</td>\n",
       "      <td>D6PE</td>\n",
       "      <td>IND</td>\n",
       "      <td>MV1A</td>\n",
       "      <td>IND-INDENIZACOES</td>\n",
       "      <td>339093</td>\n",
       "      <td>INDENIZACOES E RESTITUICOES</td>\n",
       "      <td>33909318</td>\n",
       "      <td>AJUDA DE CUSTO - PESSOAL MILITAR</td>\n",
       "      <td>2024NE001253</td>\n",
       "      <td>2024</td>\n",
       "      <td>2024-10-23</td>\n",
       "      <td>160129000012024NE001253</td>\n",
       "      <td>04160798730</td>\n",
       "      <td>EMERSON BERNARDO DOS SANTOS</td>\n",
       "      <td>SP</td>\n",
       "      <td>ANO</td>\n",
       "      <td>13</td>\n",
       "      <td>MG</td>\n",
       "      <td>1000000000</td>\n",
       "      <td>NAO SE APLICA</td>\n",
       "      <td>ORDINARIO</td>\n",
       "      <td>1</td>\n",
       "      <td>PRIMARIO OBRIGATORIO</td>\n",
       "      <td>A</td>\n",
       "      <td>INICIAL (LOA)</td>\n",
       "      <td>0000</td>\n",
       "      <td>000000000000</td>\n",
       "      <td>SEM EMENDA</td>\n",
       "      <td>0</td>\n",
       "      <td>COMANDO DO EXERCITO</td>\n",
       "      <td>52121</td>\n",
       "      <td>67110.40</td>\n",
       "      <td>0.00</td>\n",
       "      <td>67110.40</td>\n",
       "      <td>0.0</td>\n",
       "    </tr>\n",
       "    <tr>\n",
       "      <th>878</th>\n",
       "      <td>160129</td>\n",
       "      <td>ESA</td>\n",
       "      <td>4º CGCFEx</td>\n",
       "      <td>4ª RM</td>\n",
       "      <td>CML</td>\n",
       "      <td>Três Corações</td>\n",
       "      <td>MG</td>\n",
       "      <td>6112</td>\n",
       "      <td>212O</td>\n",
       "      <td>MOVIMENTACAO DE MILITARES</td>\n",
       "      <td>160505</td>\n",
       "      <td>DGP</td>\n",
       "      <td>232007</td>\n",
       "      <td>D6PEINDMV1A</td>\n",
       "      <td>D6PE</td>\n",
       "      <td>IND</td>\n",
       "      <td>MV1A</td>\n",
       "      <td>IND-INDENIZACOES</td>\n",
       "      <td>339093</td>\n",
       "      <td>INDENIZACOES E RESTITUICOES</td>\n",
       "      <td>33909318</td>\n",
       "      <td>AJUDA DE CUSTO - PESSOAL MILITAR</td>\n",
       "      <td>2024NE001262</td>\n",
       "      <td>2024</td>\n",
       "      <td>2024-10-29</td>\n",
       "      <td>160129000012024NE001262</td>\n",
       "      <td>03983626610</td>\n",
       "      <td>ANDERSON ANDRADE RIBEIRO</td>\n",
       "      <td>MG</td>\n",
       "      <td>ANO</td>\n",
       "      <td>7</td>\n",
       "      <td>MG</td>\n",
       "      <td>1000000000</td>\n",
       "      <td>NAO SE APLICA</td>\n",
       "      <td>ORDINARIO</td>\n",
       "      <td>1</td>\n",
       "      <td>PRIMARIO OBRIGATORIO</td>\n",
       "      <td>A</td>\n",
       "      <td>INICIAL (LOA)</td>\n",
       "      <td>0000</td>\n",
       "      <td>000000000000</td>\n",
       "      <td>SEM EMENDA</td>\n",
       "      <td>0</td>\n",
       "      <td>COMANDO DO EXERCITO</td>\n",
       "      <td>52121</td>\n",
       "      <td>19848.46</td>\n",
       "      <td>0.00</td>\n",
       "      <td>19848.46</td>\n",
       "      <td>0.0</td>\n",
       "    </tr>\n",
       "    <tr>\n",
       "      <th>966</th>\n",
       "      <td>160129</td>\n",
       "      <td>ESA</td>\n",
       "      <td>4º CGCFEx</td>\n",
       "      <td>4ª RM</td>\n",
       "      <td>CML</td>\n",
       "      <td>Três Corações</td>\n",
       "      <td>MG</td>\n",
       "      <td>6112</td>\n",
       "      <td>212O</td>\n",
       "      <td>MOVIMENTACAO DE MILITARES</td>\n",
       "      <td>160505</td>\n",
       "      <td>DGP</td>\n",
       "      <td>232007</td>\n",
       "      <td>D6PEINDMV1A</td>\n",
       "      <td>D6PE</td>\n",
       "      <td>IND</td>\n",
       "      <td>MV1A</td>\n",
       "      <td>IND-INDENIZACOES</td>\n",
       "      <td>339093</td>\n",
       "      <td>INDENIZACOES E RESTITUICOES</td>\n",
       "      <td>33909318</td>\n",
       "      <td>AJUDA DE CUSTO - PESSOAL MILITAR</td>\n",
       "      <td>2024NE001492</td>\n",
       "      <td>2024</td>\n",
       "      <td>2024-10-31</td>\n",
       "      <td>160129000012024NE001492</td>\n",
       "      <td>09035817524</td>\n",
       "      <td>ROMARIO SANTANA FURTADO FILHO</td>\n",
       "      <td>SC</td>\n",
       "      <td>ANO</td>\n",
       "      <td>5</td>\n",
       "      <td>MG</td>\n",
       "      <td>1000000000</td>\n",
       "      <td>NAO SE APLICA</td>\n",
       "      <td>ORDINARIO</td>\n",
       "      <td>1</td>\n",
       "      <td>PRIMARIO OBRIGATORIO</td>\n",
       "      <td>A</td>\n",
       "      <td>INICIAL (LOA)</td>\n",
       "      <td>0000</td>\n",
       "      <td>000000000000</td>\n",
       "      <td>SEM EMENDA</td>\n",
       "      <td>0</td>\n",
       "      <td>COMANDO DO EXERCITO</td>\n",
       "      <td>52121</td>\n",
       "      <td>5125.50</td>\n",
       "      <td>0.00</td>\n",
       "      <td>5125.50</td>\n",
       "      <td>0.0</td>\n",
       "    </tr>\n",
       "    <tr>\n",
       "      <th>1150</th>\n",
       "      <td>160129</td>\n",
       "      <td>ESA</td>\n",
       "      <td>4º CGCFEx</td>\n",
       "      <td>4ª RM</td>\n",
       "      <td>CML</td>\n",
       "      <td>Três Corações</td>\n",
       "      <td>MG</td>\n",
       "      <td>6112</td>\n",
       "      <td>212O</td>\n",
       "      <td>MOVIMENTACAO DE MILITARES</td>\n",
       "      <td>160505</td>\n",
       "      <td>DGP</td>\n",
       "      <td>232007</td>\n",
       "      <td>D6PEINDMV1T</td>\n",
       "      <td>D6PE</td>\n",
       "      <td>IND</td>\n",
       "      <td>MV1T</td>\n",
       "      <td>IND - INDENIZACOES</td>\n",
       "      <td>339093</td>\n",
       "      <td>INDENIZACOES E RESTITUICOES</td>\n",
       "      <td>33909319</td>\n",
       "      <td>INDENIZACAO DE TRANSPORTE - PESSOAL MILITAR</td>\n",
       "      <td>2024NE001254</td>\n",
       "      <td>2024</td>\n",
       "      <td>2024-10-23</td>\n",
       "      <td>160129000012024NE001254</td>\n",
       "      <td>04160798730</td>\n",
       "      <td>EMERSON BERNARDO DOS SANTOS</td>\n",
       "      <td>SP</td>\n",
       "      <td>ANO</td>\n",
       "      <td>13</td>\n",
       "      <td>MG</td>\n",
       "      <td>1000000000</td>\n",
       "      <td>NAO SE APLICA</td>\n",
       "      <td>ORDINARIO</td>\n",
       "      <td>1</td>\n",
       "      <td>PRIMARIO OBRIGATORIO</td>\n",
       "      <td>A</td>\n",
       "      <td>INICIAL (LOA)</td>\n",
       "      <td>0000</td>\n",
       "      <td>000000000000</td>\n",
       "      <td>SEM EMENDA</td>\n",
       "      <td>0</td>\n",
       "      <td>COMANDO DO EXERCITO</td>\n",
       "      <td>52121</td>\n",
       "      <td>6754.95</td>\n",
       "      <td>0.00</td>\n",
       "      <td>6754.95</td>\n",
       "      <td>0.0</td>\n",
       "    </tr>\n",
       "    <tr>\n",
       "      <th>1151</th>\n",
       "      <td>160129</td>\n",
       "      <td>ESA</td>\n",
       "      <td>4º CGCFEx</td>\n",
       "      <td>4ª RM</td>\n",
       "      <td>CML</td>\n",
       "      <td>Três Corações</td>\n",
       "      <td>MG</td>\n",
       "      <td>6112</td>\n",
       "      <td>212O</td>\n",
       "      <td>MOVIMENTACAO DE MILITARES</td>\n",
       "      <td>160505</td>\n",
       "      <td>DGP</td>\n",
       "      <td>232007</td>\n",
       "      <td>D6PEINDMV1T</td>\n",
       "      <td>D6PE</td>\n",
       "      <td>IND</td>\n",
       "      <td>MV1T</td>\n",
       "      <td>IND - INDENIZACOES</td>\n",
       "      <td>339093</td>\n",
       "      <td>INDENIZACOES E RESTITUICOES</td>\n",
       "      <td>33909319</td>\n",
       "      <td>INDENIZACAO DE TRANSPORTE - PESSOAL MILITAR</td>\n",
       "      <td>2024NE001263</td>\n",
       "      <td>2024</td>\n",
       "      <td>2024-10-29</td>\n",
       "      <td>160129000012024NE001263</td>\n",
       "      <td>03983626610</td>\n",
       "      <td>ANDERSON ANDRADE RIBEIRO</td>\n",
       "      <td>MG</td>\n",
       "      <td>ANO</td>\n",
       "      <td>7</td>\n",
       "      <td>MG</td>\n",
       "      <td>1000000000</td>\n",
       "      <td>NAO SE APLICA</td>\n",
       "      <td>ORDINARIO</td>\n",
       "      <td>1</td>\n",
       "      <td>PRIMARIO OBRIGATORIO</td>\n",
       "      <td>A</td>\n",
       "      <td>INICIAL (LOA)</td>\n",
       "      <td>0000</td>\n",
       "      <td>000000000000</td>\n",
       "      <td>SEM EMENDA</td>\n",
       "      <td>0</td>\n",
       "      <td>COMANDO DO EXERCITO</td>\n",
       "      <td>52121</td>\n",
       "      <td>8592.24</td>\n",
       "      <td>0.00</td>\n",
       "      <td>8592.24</td>\n",
       "      <td>0.0</td>\n",
       "    </tr>\n",
       "    <tr>\n",
       "      <th>1183</th>\n",
       "      <td>160129</td>\n",
       "      <td>ESA</td>\n",
       "      <td>4º CGCFEx</td>\n",
       "      <td>4ª RM</td>\n",
       "      <td>CML</td>\n",
       "      <td>Três Corações</td>\n",
       "      <td>MG</td>\n",
       "      <td>6112</td>\n",
       "      <td>212O</td>\n",
       "      <td>MOVIMENTACAO DE MILITARES</td>\n",
       "      <td>160505</td>\n",
       "      <td>DGP</td>\n",
       "      <td>232007</td>\n",
       "      <td>D6PEINDMV1T</td>\n",
       "      <td>D6PE</td>\n",
       "      <td>IND</td>\n",
       "      <td>MV1T</td>\n",
       "      <td>IND - INDENIZACOES</td>\n",
       "      <td>339093</td>\n",
       "      <td>INDENIZACOES E RESTITUICOES</td>\n",
       "      <td>33909319</td>\n",
       "      <td>INDENIZACAO DE TRANSPORTE - PESSOAL MILITAR</td>\n",
       "      <td>2024NE001321</td>\n",
       "      <td>2024</td>\n",
       "      <td>2024-10-30</td>\n",
       "      <td>160129000012024NE001321</td>\n",
       "      <td>09035817524</td>\n",
       "      <td>ROMARIO SANTANA FURTADO FILHO</td>\n",
       "      <td>SC</td>\n",
       "      <td>ANO</td>\n",
       "      <td>6</td>\n",
       "      <td>MG</td>\n",
       "      <td>1000000000</td>\n",
       "      <td>NAO SE APLICA</td>\n",
       "      <td>ORDINARIO</td>\n",
       "      <td>1</td>\n",
       "      <td>PRIMARIO OBRIGATORIO</td>\n",
       "      <td>A</td>\n",
       "      <td>INICIAL (LOA)</td>\n",
       "      <td>0000</td>\n",
       "      <td>000000000000</td>\n",
       "      <td>SEM EMENDA</td>\n",
       "      <td>0</td>\n",
       "      <td>COMANDO DO EXERCITO</td>\n",
       "      <td>52121</td>\n",
       "      <td>2399.67</td>\n",
       "      <td>0.00</td>\n",
       "      <td>2399.67</td>\n",
       "      <td>0.0</td>\n",
       "    </tr>\n",
       "    <tr>\n",
       "      <th>1295</th>\n",
       "      <td>160129</td>\n",
       "      <td>ESA</td>\n",
       "      <td>4º CGCFEx</td>\n",
       "      <td>4ª RM</td>\n",
       "      <td>CML</td>\n",
       "      <td>Três Corações</td>\n",
       "      <td>MG</td>\n",
       "      <td>6112</td>\n",
       "      <td>212O</td>\n",
       "      <td>MOVIMENTACAO DE MILITARES</td>\n",
       "      <td>160505</td>\n",
       "      <td>DGP</td>\n",
       "      <td>232007</td>\n",
       "      <td>DGPREQTRNP3</td>\n",
       "      <td>DGPR</td>\n",
       "      <td>EQT</td>\n",
       "      <td>RNP3</td>\n",
       "      <td>MIS EXT REQS TRNP BAG INTER</td>\n",
       "      <td>339033</td>\n",
       "      <td>PASSAGENS E DESPESAS COM LOCOMOCAO</td>\n",
       "      <td>33903301</td>\n",
       "      <td>PASSAGENS PARA O PAIS</td>\n",
       "      <td>2024NE001256</td>\n",
       "      <td>2024</td>\n",
       "      <td>2024-10-23</td>\n",
       "      <td>160129000012024NE001256</td>\n",
       "      <td>21331404000138</td>\n",
       "      <td>ORLEANS VIAGENS E TURISMO LTDA</td>\n",
       "      <td>SP</td>\n",
       "      <td>ANO</td>\n",
       "      <td>13</td>\n",
       "      <td>MG</td>\n",
       "      <td>1000000000</td>\n",
       "      <td>PREGAO</td>\n",
       "      <td>GLOBAL</td>\n",
       "      <td>1</td>\n",
       "      <td>PRIMARIO OBRIGATORIO</td>\n",
       "      <td>A</td>\n",
       "      <td>INICIAL (LOA)</td>\n",
       "      <td>0000</td>\n",
       "      <td>000000000000</td>\n",
       "      <td>SEM EMENDA</td>\n",
       "      <td>ESA</td>\n",
       "      <td>COMANDO DO EXERCITO</td>\n",
       "      <td>52121</td>\n",
       "      <td>773.14</td>\n",
       "      <td>0.00</td>\n",
       "      <td>773.14</td>\n",
       "      <td>0.0</td>\n",
       "    </tr>\n",
       "    <tr>\n",
       "      <th>1301</th>\n",
       "      <td>160129</td>\n",
       "      <td>ESA</td>\n",
       "      <td>4º CGCFEx</td>\n",
       "      <td>4ª RM</td>\n",
       "      <td>CML</td>\n",
       "      <td>Três Corações</td>\n",
       "      <td>MG</td>\n",
       "      <td>6112</td>\n",
       "      <td>212O</td>\n",
       "      <td>MOVIMENTACAO DE MILITARES</td>\n",
       "      <td>160505</td>\n",
       "      <td>DGP</td>\n",
       "      <td>232007</td>\n",
       "      <td>DGPREQTRNP3</td>\n",
       "      <td>DGPR</td>\n",
       "      <td>EQT</td>\n",
       "      <td>RNP3</td>\n",
       "      <td>MIS EXT REQS TRNP BAG INTER</td>\n",
       "      <td>339033</td>\n",
       "      <td>PASSAGENS E DESPESAS COM LOCOMOCAO</td>\n",
       "      <td>33903302</td>\n",
       "      <td>PASSAGENS PARA O EXTERIOR</td>\n",
       "      <td>2024NE001159</td>\n",
       "      <td>2024</td>\n",
       "      <td>2024-10-03</td>\n",
       "      <td>160129000012024NE001159</td>\n",
       "      <td>14807420000199</td>\n",
       "      <td>FACTO TURISMO  LTDA</td>\n",
       "      <td>SP</td>\n",
       "      <td>ANO</td>\n",
       "      <td>33</td>\n",
       "      <td>MG</td>\n",
       "      <td>1000000000</td>\n",
       "      <td>PREGAO</td>\n",
       "      <td>GLOBAL</td>\n",
       "      <td>1</td>\n",
       "      <td>PRIMARIO OBRIGATORIO</td>\n",
       "      <td>A</td>\n",
       "      <td>INICIAL (LOA)</td>\n",
       "      <td>0000</td>\n",
       "      <td>000000000000</td>\n",
       "      <td>SEM EMENDA</td>\n",
       "      <td>ESA</td>\n",
       "      <td>COMANDO DO EXERCITO</td>\n",
       "      <td>52121</td>\n",
       "      <td>101.66</td>\n",
       "      <td>763.84</td>\n",
       "      <td>865.50</td>\n",
       "      <td>21461.0</td>\n",
       "    </tr>\n",
       "    <tr>\n",
       "      <th>1302</th>\n",
       "      <td>160129</td>\n",
       "      <td>ESA</td>\n",
       "      <td>4º CGCFEx</td>\n",
       "      <td>4ª RM</td>\n",
       "      <td>CML</td>\n",
       "      <td>Três Corações</td>\n",
       "      <td>MG</td>\n",
       "      <td>6112</td>\n",
       "      <td>212O</td>\n",
       "      <td>MOVIMENTACAO DE MILITARES</td>\n",
       "      <td>160505</td>\n",
       "      <td>DGP</td>\n",
       "      <td>232007</td>\n",
       "      <td>DGPREQTRNP3</td>\n",
       "      <td>DGPR</td>\n",
       "      <td>EQT</td>\n",
       "      <td>RNP3</td>\n",
       "      <td>MIS EXT REQS TRNP BAG INTER</td>\n",
       "      <td>339033</td>\n",
       "      <td>PASSAGENS E DESPESAS COM LOCOMOCAO</td>\n",
       "      <td>33903302</td>\n",
       "      <td>PASSAGENS PARA O EXTERIOR</td>\n",
       "      <td>2024NE001251</td>\n",
       "      <td>2024</td>\n",
       "      <td>2024-10-22</td>\n",
       "      <td>160129000012024NE001251</td>\n",
       "      <td>14807420000199</td>\n",
       "      <td>FACTO TURISMO  LTDA</td>\n",
       "      <td>SP</td>\n",
       "      <td>ANO</td>\n",
       "      <td>14</td>\n",
       "      <td>MG</td>\n",
       "      <td>1000000000</td>\n",
       "      <td>PREGAO</td>\n",
       "      <td>GLOBAL</td>\n",
       "      <td>1</td>\n",
       "      <td>PRIMARIO OBRIGATORIO</td>\n",
       "      <td>A</td>\n",
       "      <td>INICIAL (LOA)</td>\n",
       "      <td>0000</td>\n",
       "      <td>000000000000</td>\n",
       "      <td>SEM EMENDA</td>\n",
       "      <td>ESA</td>\n",
       "      <td>COMANDO DO EXERCITO</td>\n",
       "      <td>52121</td>\n",
       "      <td>10753.48</td>\n",
       "      <td>0.00</td>\n",
       "      <td>10753.48</td>\n",
       "      <td>0.0</td>\n",
       "    </tr>\n",
       "    <tr>\n",
       "      <th>1303</th>\n",
       "      <td>160129</td>\n",
       "      <td>ESA</td>\n",
       "      <td>4º CGCFEx</td>\n",
       "      <td>4ª RM</td>\n",
       "      <td>CML</td>\n",
       "      <td>Três Corações</td>\n",
       "      <td>MG</td>\n",
       "      <td>6112</td>\n",
       "      <td>212O</td>\n",
       "      <td>MOVIMENTACAO DE MILITARES</td>\n",
       "      <td>160505</td>\n",
       "      <td>DGP</td>\n",
       "      <td>232007</td>\n",
       "      <td>DGPREQTRNP3</td>\n",
       "      <td>DGPR</td>\n",
       "      <td>EQT</td>\n",
       "      <td>RNP3</td>\n",
       "      <td>MIS EXT REQS TRNP BAG INTER</td>\n",
       "      <td>339033</td>\n",
       "      <td>PASSAGENS E DESPESAS COM LOCOMOCAO</td>\n",
       "      <td>33903302</td>\n",
       "      <td>PASSAGENS PARA O EXTERIOR</td>\n",
       "      <td>2024NE001255</td>\n",
       "      <td>2024</td>\n",
       "      <td>2024-10-23</td>\n",
       "      <td>160129000012024NE001255</td>\n",
       "      <td>14807420000199</td>\n",
       "      <td>FACTO TURISMO  LTDA</td>\n",
       "      <td>SP</td>\n",
       "      <td>ANO</td>\n",
       "      <td>13</td>\n",
       "      <td>MG</td>\n",
       "      <td>1000000000</td>\n",
       "      <td>PREGAO</td>\n",
       "      <td>GLOBAL</td>\n",
       "      <td>1</td>\n",
       "      <td>PRIMARIO OBRIGATORIO</td>\n",
       "      <td>A</td>\n",
       "      <td>INICIAL (LOA)</td>\n",
       "      <td>0000</td>\n",
       "      <td>000000000000</td>\n",
       "      <td>SEM EMENDA</td>\n",
       "      <td>ESA</td>\n",
       "      <td>COMANDO DO EXERCITO</td>\n",
       "      <td>52121</td>\n",
       "      <td>11000.00</td>\n",
       "      <td>0.00</td>\n",
       "      <td>11000.00</td>\n",
       "      <td>0.0</td>\n",
       "    </tr>\n",
       "  </tbody>\n",
       "</table>\n",
       "</div>"
      ],
      "text/plain": [
       "          UG SIGLA     CGCFEX     RM COMANDO         CIDADE  UF PROGRAMA  \\\n",
       "563   160129   ESA  4º CGCFEx  4ª RM     CML  Três Corações  MG     6112   \n",
       "564   160129   ESA  4º CGCFEx  4ª RM     CML  Três Corações  MG     6112   \n",
       "565   160129   ESA  4º CGCFEx  4ª RM     CML  Três Corações  MG     6112   \n",
       "566   160129   ESA  4º CGCFEx  4ª RM     CML  Três Corações  MG     6112   \n",
       "567   160129   ESA  4º CGCFEx  4ª RM     CML  Três Corações  MG     6112   \n",
       "568   160129   ESA  4º CGCFEx  4ª RM     CML  Três Corações  MG     6112   \n",
       "569   160129   ESA  4º CGCFEx  4ª RM     CML  Três Corações  MG     6112   \n",
       "570   160129   ESA  4º CGCFEx  4ª RM     CML  Três Corações  MG     6112   \n",
       "571   160129   ESA  4º CGCFEx  4ª RM     CML  Três Corações  MG     6112   \n",
       "572   160129   ESA  4º CGCFEx  4ª RM     CML  Três Corações  MG     6112   \n",
       "573   160129   ESA  4º CGCFEx  4ª RM     CML  Três Corações  MG     6112   \n",
       "574   160129   ESA  4º CGCFEx  4ª RM     CML  Três Corações  MG     6112   \n",
       "575   160129   ESA  4º CGCFEx  4ª RM     CML  Três Corações  MG     6112   \n",
       "576   160129   ESA  4º CGCFEx  4ª RM     CML  Três Corações  MG     6112   \n",
       "577   160129   ESA  4º CGCFEx  4ª RM     CML  Três Corações  MG     6112   \n",
       "578   160129   ESA  4º CGCFEx  4ª RM     CML  Três Corações  MG     6112   \n",
       "579   160129   ESA  4º CGCFEx  4ª RM     CML  Três Corações  MG     6112   \n",
       "580   160129   ESA  4º CGCFEx  4ª RM     CML  Três Corações  MG     6112   \n",
       "581   160129   ESA  4º CGCFEx  4ª RM     CML  Três Corações  MG     6112   \n",
       "582   160129   ESA  4º CGCFEx  4ª RM     CML  Três Corações  MG     6112   \n",
       "583   160129   ESA  4º CGCFEx  4ª RM     CML  Três Corações  MG     6112   \n",
       "584   160129   ESA  4º CGCFEx  4ª RM     CML  Três Corações  MG     6112   \n",
       "585   160129   ESA  4º CGCFEx  4ª RM     CML  Três Corações  MG     6112   \n",
       "586   160129   ESA  4º CGCFEx  4ª RM     CML  Três Corações  MG     6112   \n",
       "587   160129   ESA  4º CGCFEx  4ª RM     CML  Três Corações  MG     6112   \n",
       "588   160129   ESA  4º CGCFEx  4ª RM     CML  Três Corações  MG     6112   \n",
       "589   160129   ESA  4º CGCFEx  4ª RM     CML  Três Corações  MG     6112   \n",
       "590   160129   ESA  4º CGCFEx  4ª RM     CML  Três Corações  MG     6112   \n",
       "591   160129   ESA  4º CGCFEx  4ª RM     CML  Três Corações  MG     6112   \n",
       "592   160129   ESA  4º CGCFEx  4ª RM     CML  Três Corações  MG     6112   \n",
       "593   160129   ESA  4º CGCFEx  4ª RM     CML  Três Corações  MG     6112   \n",
       "877   160129   ESA  4º CGCFEx  4ª RM     CML  Três Corações  MG     6112   \n",
       "878   160129   ESA  4º CGCFEx  4ª RM     CML  Três Corações  MG     6112   \n",
       "966   160129   ESA  4º CGCFEx  4ª RM     CML  Três Corações  MG     6112   \n",
       "1150  160129   ESA  4º CGCFEx  4ª RM     CML  Três Corações  MG     6112   \n",
       "1151  160129   ESA  4º CGCFEx  4ª RM     CML  Três Corações  MG     6112   \n",
       "1183  160129   ESA  4º CGCFEx  4ª RM     CML  Três Corações  MG     6112   \n",
       "1295  160129   ESA  4º CGCFEx  4ª RM     CML  Três Corações  MG     6112   \n",
       "1301  160129   ESA  4º CGCFEx  4ª RM     CML  Três Corações  MG     6112   \n",
       "1302  160129   ESA  4º CGCFEx  4ª RM     CML  Três Corações  MG     6112   \n",
       "1303  160129   ESA  4º CGCFEx  4ª RM     CML  Três Corações  MG     6112   \n",
       "\n",
       "      AÇÃO                  NOME_ACAO     UGR NOME_UGR   PTRES           PI  \\\n",
       "563   212O  MOVIMENTACAO DE MILITARES  160505      DGP  232007  D6DAATSLOCO   \n",
       "564   212O  MOVIMENTACAO DE MILITARES  160505      DGP  232007  D6DAATSLOCO   \n",
       "565   212O  MOVIMENTACAO DE MILITARES  160505      DGP  232007  D6DAATSLOCO   \n",
       "566   212O  MOVIMENTACAO DE MILITARES  160505      DGP  232007  D6DAATSLOCO   \n",
       "567   212O  MOVIMENTACAO DE MILITARES  160505      DGP  232007  D6DAATSLOCO   \n",
       "568   212O  MOVIMENTACAO DE MILITARES  160505      DGP  232007  D6DAATSLOCO   \n",
       "569   212O  MOVIMENTACAO DE MILITARES  160505      DGP  232007  D6DAATSLOCO   \n",
       "570   212O  MOVIMENTACAO DE MILITARES  160505      DGP  232007  D6DAATSLOCO   \n",
       "571   212O  MOVIMENTACAO DE MILITARES  160505      DGP  232007  D6DAATSLOCO   \n",
       "572   212O  MOVIMENTACAO DE MILITARES  160505      DGP  232007  D6DAATSLOCO   \n",
       "573   212O  MOVIMENTACAO DE MILITARES  160505      DGP  232007  D6DAATSLOCO   \n",
       "574   212O  MOVIMENTACAO DE MILITARES  160505      DGP  232007  D6DAATSLOCO   \n",
       "575   212O  MOVIMENTACAO DE MILITARES  160505      DGP  232007  D6DAATSLOCO   \n",
       "576   212O  MOVIMENTACAO DE MILITARES  160505      DGP  232007  D6DAATSLOCO   \n",
       "577   212O  MOVIMENTACAO DE MILITARES  160505      DGP  232007  D6DAATSLOCO   \n",
       "578   212O  MOVIMENTACAO DE MILITARES  160505      DGP  232007  D6DAATSLOCO   \n",
       "579   212O  MOVIMENTACAO DE MILITARES  160505      DGP  232007  D6DAATSLOCO   \n",
       "580   212O  MOVIMENTACAO DE MILITARES  160505      DGP  232007  D6DAATSLOCO   \n",
       "581   212O  MOVIMENTACAO DE MILITARES  160505      DGP  232007  D6DAATSLOCO   \n",
       "582   212O  MOVIMENTACAO DE MILITARES  160505      DGP  232007  D6DAATSLOCO   \n",
       "583   212O  MOVIMENTACAO DE MILITARES  160505      DGP  232007  D6DAATSLOCO   \n",
       "584   212O  MOVIMENTACAO DE MILITARES  160505      DGP  232007  D6DAATSLOCO   \n",
       "585   212O  MOVIMENTACAO DE MILITARES  160505      DGP  232007  D6DAATSLOCO   \n",
       "586   212O  MOVIMENTACAO DE MILITARES  160505      DGP  232007  D6DAATSLOCO   \n",
       "587   212O  MOVIMENTACAO DE MILITARES  160505      DGP  232007  D6DAATSLOCO   \n",
       "588   212O  MOVIMENTACAO DE MILITARES  160505      DGP  232007  D6DAATSLOCO   \n",
       "589   212O  MOVIMENTACAO DE MILITARES  160505      DGP  232007  D6DAATSLOCO   \n",
       "590   212O  MOVIMENTACAO DE MILITARES  160505      DGP  232007  D6DAATSLOCO   \n",
       "591   212O  MOVIMENTACAO DE MILITARES  160505      DGP  232007  D6DAATSLOCO   \n",
       "592   212O  MOVIMENTACAO DE MILITARES  160505      DGP  232007  D6DAATSLOCO   \n",
       "593   212O  MOVIMENTACAO DE MILITARES  160505      DGP  232007  D6DAATSLOCO   \n",
       "877   212O  MOVIMENTACAO DE MILITARES  160505      DGP  232007  D6PEINDMV1A   \n",
       "878   212O  MOVIMENTACAO DE MILITARES  160505      DGP  232007  D6PEINDMV1A   \n",
       "966   212O  MOVIMENTACAO DE MILITARES  160505      DGP  232007  D6PEINDMV1A   \n",
       "1150  212O  MOVIMENTACAO DE MILITARES  160505      DGP  232007  D6PEINDMV1T   \n",
       "1151  212O  MOVIMENTACAO DE MILITARES  160505      DGP  232007  D6PEINDMV1T   \n",
       "1183  212O  MOVIMENTACAO DE MILITARES  160505      DGP  232007  D6PEINDMV1T   \n",
       "1295  212O  MOVIMENTACAO DE MILITARES  160505      DGP  232007  DGPREQTRNP3   \n",
       "1301  212O  MOVIMENTACAO DE MILITARES  160505      DGP  232007  DGPREQTRNP3   \n",
       "1302  212O  MOVIMENTACAO DE MILITARES  160505      DGP  232007  DGPREQTRNP3   \n",
       "1303  212O  MOVIMENTACAO DE MILITARES  160505      DGP  232007  DGPREQTRNP3   \n",
       "\n",
       "     RADICAL_4_PI MEIO_3_PI SUFIXO_4_PI                      NOME_PI      ND  \\\n",
       "563          D6DA       ATS        LOCO   ATS - ATIVIDADES SETORIAIS  339033   \n",
       "564          D6DA       ATS        LOCO   ATS - ATIVIDADES SETORIAIS  339033   \n",
       "565          D6DA       ATS        LOCO   ATS - ATIVIDADES SETORIAIS  339033   \n",
       "566          D6DA       ATS        LOCO   ATS - ATIVIDADES SETORIAIS  339033   \n",
       "567          D6DA       ATS        LOCO   ATS - ATIVIDADES SETORIAIS  339033   \n",
       "568          D6DA       ATS        LOCO   ATS - ATIVIDADES SETORIAIS  339033   \n",
       "569          D6DA       ATS        LOCO   ATS - ATIVIDADES SETORIAIS  339033   \n",
       "570          D6DA       ATS        LOCO   ATS - ATIVIDADES SETORIAIS  339033   \n",
       "571          D6DA       ATS        LOCO   ATS - ATIVIDADES SETORIAIS  339033   \n",
       "572          D6DA       ATS        LOCO   ATS - ATIVIDADES SETORIAIS  339033   \n",
       "573          D6DA       ATS        LOCO   ATS - ATIVIDADES SETORIAIS  339033   \n",
       "574          D6DA       ATS        LOCO   ATS - ATIVIDADES SETORIAIS  339033   \n",
       "575          D6DA       ATS        LOCO   ATS - ATIVIDADES SETORIAIS  339033   \n",
       "576          D6DA       ATS        LOCO   ATS - ATIVIDADES SETORIAIS  339033   \n",
       "577          D6DA       ATS        LOCO   ATS - ATIVIDADES SETORIAIS  339033   \n",
       "578          D6DA       ATS        LOCO   ATS - ATIVIDADES SETORIAIS  339033   \n",
       "579          D6DA       ATS        LOCO   ATS - ATIVIDADES SETORIAIS  339033   \n",
       "580          D6DA       ATS        LOCO   ATS - ATIVIDADES SETORIAIS  339033   \n",
       "581          D6DA       ATS        LOCO   ATS - ATIVIDADES SETORIAIS  339033   \n",
       "582          D6DA       ATS        LOCO   ATS - ATIVIDADES SETORIAIS  339033   \n",
       "583          D6DA       ATS        LOCO   ATS - ATIVIDADES SETORIAIS  339033   \n",
       "584          D6DA       ATS        LOCO   ATS - ATIVIDADES SETORIAIS  339033   \n",
       "585          D6DA       ATS        LOCO   ATS - ATIVIDADES SETORIAIS  339033   \n",
       "586          D6DA       ATS        LOCO   ATS - ATIVIDADES SETORIAIS  339033   \n",
       "587          D6DA       ATS        LOCO   ATS - ATIVIDADES SETORIAIS  339033   \n",
       "588          D6DA       ATS        LOCO   ATS - ATIVIDADES SETORIAIS  339033   \n",
       "589          D6DA       ATS        LOCO   ATS - ATIVIDADES SETORIAIS  339033   \n",
       "590          D6DA       ATS        LOCO   ATS - ATIVIDADES SETORIAIS  339033   \n",
       "591          D6DA       ATS        LOCO   ATS - ATIVIDADES SETORIAIS  339033   \n",
       "592          D6DA       ATS        LOCO   ATS - ATIVIDADES SETORIAIS  339033   \n",
       "593          D6DA       ATS        LOCO   ATS - ATIVIDADES SETORIAIS  339033   \n",
       "877          D6PE       IND        MV1A             IND-INDENIZACOES  339093   \n",
       "878          D6PE       IND        MV1A             IND-INDENIZACOES  339093   \n",
       "966          D6PE       IND        MV1A             IND-INDENIZACOES  339093   \n",
       "1150         D6PE       IND        MV1T           IND - INDENIZACOES  339093   \n",
       "1151         D6PE       IND        MV1T           IND - INDENIZACOES  339093   \n",
       "1183         D6PE       IND        MV1T           IND - INDENIZACOES  339093   \n",
       "1295         DGPR       EQT        RNP3  MIS EXT REQS TRNP BAG INTER  339033   \n",
       "1301         DGPR       EQT        RNP3  MIS EXT REQS TRNP BAG INTER  339033   \n",
       "1302         DGPR       EQT        RNP3  MIS EXT REQS TRNP BAG INTER  339033   \n",
       "1303         DGPR       EQT        RNP3  MIS EXT REQS TRNP BAG INTER  339033   \n",
       "\n",
       "                                 NOME_ND      NDSI  \\\n",
       "563   PASSAGENS E DESPESAS COM LOCOMOCAO  33903304   \n",
       "564   PASSAGENS E DESPESAS COM LOCOMOCAO  33903304   \n",
       "565   PASSAGENS E DESPESAS COM LOCOMOCAO  33903304   \n",
       "566   PASSAGENS E DESPESAS COM LOCOMOCAO  33903304   \n",
       "567   PASSAGENS E DESPESAS COM LOCOMOCAO  33903304   \n",
       "568   PASSAGENS E DESPESAS COM LOCOMOCAO  33903304   \n",
       "569   PASSAGENS E DESPESAS COM LOCOMOCAO  33903304   \n",
       "570   PASSAGENS E DESPESAS COM LOCOMOCAO  33903304   \n",
       "571   PASSAGENS E DESPESAS COM LOCOMOCAO  33903304   \n",
       "572   PASSAGENS E DESPESAS COM LOCOMOCAO  33903304   \n",
       "573   PASSAGENS E DESPESAS COM LOCOMOCAO  33903304   \n",
       "574   PASSAGENS E DESPESAS COM LOCOMOCAO  33903304   \n",
       "575   PASSAGENS E DESPESAS COM LOCOMOCAO  33903304   \n",
       "576   PASSAGENS E DESPESAS COM LOCOMOCAO  33903304   \n",
       "577   PASSAGENS E DESPESAS COM LOCOMOCAO  33903304   \n",
       "578   PASSAGENS E DESPESAS COM LOCOMOCAO  33903304   \n",
       "579   PASSAGENS E DESPESAS COM LOCOMOCAO  33903304   \n",
       "580   PASSAGENS E DESPESAS COM LOCOMOCAO  33903304   \n",
       "581   PASSAGENS E DESPESAS COM LOCOMOCAO  33903304   \n",
       "582   PASSAGENS E DESPESAS COM LOCOMOCAO  33903304   \n",
       "583   PASSAGENS E DESPESAS COM LOCOMOCAO  33903304   \n",
       "584   PASSAGENS E DESPESAS COM LOCOMOCAO  33903304   \n",
       "585   PASSAGENS E DESPESAS COM LOCOMOCAO  33903304   \n",
       "586   PASSAGENS E DESPESAS COM LOCOMOCAO  33903304   \n",
       "587   PASSAGENS E DESPESAS COM LOCOMOCAO  33903304   \n",
       "588   PASSAGENS E DESPESAS COM LOCOMOCAO  33903304   \n",
       "589   PASSAGENS E DESPESAS COM LOCOMOCAO  33903304   \n",
       "590   PASSAGENS E DESPESAS COM LOCOMOCAO  33903304   \n",
       "591   PASSAGENS E DESPESAS COM LOCOMOCAO  33903304   \n",
       "592   PASSAGENS E DESPESAS COM LOCOMOCAO  33903304   \n",
       "593   PASSAGENS E DESPESAS COM LOCOMOCAO  33903304   \n",
       "877          INDENIZACOES E RESTITUICOES  33909318   \n",
       "878          INDENIZACOES E RESTITUICOES  33909318   \n",
       "966          INDENIZACOES E RESTITUICOES  33909318   \n",
       "1150         INDENIZACOES E RESTITUICOES  33909319   \n",
       "1151         INDENIZACOES E RESTITUICOES  33909319   \n",
       "1183         INDENIZACOES E RESTITUICOES  33909319   \n",
       "1295  PASSAGENS E DESPESAS COM LOCOMOCAO  33903301   \n",
       "1301  PASSAGENS E DESPESAS COM LOCOMOCAO  33903302   \n",
       "1302  PASSAGENS E DESPESAS COM LOCOMOCAO  33903302   \n",
       "1303  PASSAGENS E DESPESAS COM LOCOMOCAO  33903302   \n",
       "\n",
       "                                        NOME_NDSI            NE   ANO  \\\n",
       "563                 MUDANCAS EM OBJETO DE SERVICO  2024NE000362  2024   \n",
       "564                 MUDANCAS EM OBJETO DE SERVICO  2024NE000717  2024   \n",
       "565                 MUDANCAS EM OBJETO DE SERVICO  2024NE000718  2024   \n",
       "566                 MUDANCAS EM OBJETO DE SERVICO  2024NE000719  2024   \n",
       "567                 MUDANCAS EM OBJETO DE SERVICO  2024NE000742  2024   \n",
       "568                 MUDANCAS EM OBJETO DE SERVICO  2024NE000842  2024   \n",
       "569                 MUDANCAS EM OBJETO DE SERVICO  2024NE000843  2024   \n",
       "570                 MUDANCAS EM OBJETO DE SERVICO  2024NE000844  2024   \n",
       "571                 MUDANCAS EM OBJETO DE SERVICO  2024NE000911  2024   \n",
       "572                 MUDANCAS EM OBJETO DE SERVICO  2024NE000946  2024   \n",
       "573                 MUDANCAS EM OBJETO DE SERVICO  2024NE000947  2024   \n",
       "574                 MUDANCAS EM OBJETO DE SERVICO  2024NE000950  2024   \n",
       "575                 MUDANCAS EM OBJETO DE SERVICO  2024NE000984  2024   \n",
       "576                 MUDANCAS EM OBJETO DE SERVICO  2024NE000985  2024   \n",
       "577                 MUDANCAS EM OBJETO DE SERVICO  2024NE001035  2024   \n",
       "578                 MUDANCAS EM OBJETO DE SERVICO  2024NE001036  2024   \n",
       "579                 MUDANCAS EM OBJETO DE SERVICO  2024NE001037  2024   \n",
       "580                 MUDANCAS EM OBJETO DE SERVICO  2024NE001105  2024   \n",
       "581                 MUDANCAS EM OBJETO DE SERVICO  2024NE001120  2024   \n",
       "582                 MUDANCAS EM OBJETO DE SERVICO  2024NE001121  2024   \n",
       "583                 MUDANCAS EM OBJETO DE SERVICO  2024NE001122  2024   \n",
       "584                 MUDANCAS EM OBJETO DE SERVICO  2024NE001142  2024   \n",
       "585                 MUDANCAS EM OBJETO DE SERVICO  2024NE001158  2024   \n",
       "586                 MUDANCAS EM OBJETO DE SERVICO  2024NE001166  2024   \n",
       "587                 MUDANCAS EM OBJETO DE SERVICO  2024NE001175  2024   \n",
       "588                 MUDANCAS EM OBJETO DE SERVICO  2024NE001176  2024   \n",
       "589                 MUDANCAS EM OBJETO DE SERVICO  2024NE001195  2024   \n",
       "590                 MUDANCAS EM OBJETO DE SERVICO  2024NE001226  2024   \n",
       "591                 MUDANCAS EM OBJETO DE SERVICO  2024NE001227  2024   \n",
       "592                 MUDANCAS EM OBJETO DE SERVICO  2024NE001232  2024   \n",
       "593                 MUDANCAS EM OBJETO DE SERVICO  2024NE001252  2024   \n",
       "877              AJUDA DE CUSTO - PESSOAL MILITAR  2024NE001253  2024   \n",
       "878              AJUDA DE CUSTO - PESSOAL MILITAR  2024NE001262  2024   \n",
       "966              AJUDA DE CUSTO - PESSOAL MILITAR  2024NE001492  2024   \n",
       "1150  INDENIZACAO DE TRANSPORTE - PESSOAL MILITAR  2024NE001254  2024   \n",
       "1151  INDENIZACAO DE TRANSPORTE - PESSOAL MILITAR  2024NE001263  2024   \n",
       "1183  INDENIZACAO DE TRANSPORTE - PESSOAL MILITAR  2024NE001321  2024   \n",
       "1295                        PASSAGENS PARA O PAIS  2024NE001256  2024   \n",
       "1301                    PASSAGENS PARA O EXTERIOR  2024NE001159  2024   \n",
       "1302                    PASSAGENS PARA O EXTERIOR  2024NE001251  2024   \n",
       "1303                    PASSAGENS PARA O EXTERIOR  2024NE001255  2024   \n",
       "\n",
       "           DATA                    CHAVE             FAV  \\\n",
       "563  2024-04-10  160129000012024NE000362  39644514000115   \n",
       "564  2024-06-20  160129000012024NE000717  39644514000115   \n",
       "565  2024-06-20  160129000012024NE000718  39644514000115   \n",
       "566  2024-06-20  160129000012024NE000719  39644514000115   \n",
       "567  2024-06-25  160129000012024NE000742  39644514000115   \n",
       "568  2024-07-14  160129000012024NE000842  39644514000115   \n",
       "569  2024-07-15  160129000012024NE000843  39644514000115   \n",
       "570  2024-07-15  160129000012024NE000844  39644514000115   \n",
       "571  2024-08-02  160129000012024NE000911  39644514000115   \n",
       "572  2024-08-15  160129000012024NE000946  39644514000115   \n",
       "573  2024-08-15  160129000012024NE000947  39644514000115   \n",
       "574  2024-08-15  160129000012024NE000950  39644514000115   \n",
       "575  2024-08-26  160129000012024NE000984  39644514000115   \n",
       "576  2024-08-26  160129000012024NE000985  39644514000115   \n",
       "577  2024-09-11  160129000012024NE001035  39644514000115   \n",
       "578  2024-09-12  160129000012024NE001036  39644514000115   \n",
       "579  2024-09-12  160129000012024NE001037  39644514000115   \n",
       "580  2024-09-24  160129000012024NE001105  39644514000115   \n",
       "581  2024-09-27  160129000012024NE001120  39644514000115   \n",
       "582  2024-09-27  160129000012024NE001121  39644514000115   \n",
       "583  2024-09-27  160129000012024NE001122  39644514000115   \n",
       "584  2024-10-01  160129000012024NE001142  39644514000115   \n",
       "585  2024-10-03  160129000012024NE001158  39644514000115   \n",
       "586  2024-10-04  160129000012024NE001166  39644514000115   \n",
       "587  2024-10-07  160129000012024NE001175  39644514000115   \n",
       "588  2024-10-07  160129000012024NE001176  39644514000115   \n",
       "589  2024-10-09  160129000012024NE001195  39644514000115   \n",
       "590  2024-10-14  160129000012024NE001226  39644514000115   \n",
       "591  2024-10-14  160129000012024NE001227  39644514000115   \n",
       "592  2024-10-18  160129000012024NE001232  39644514000115   \n",
       "593  2024-10-22  160129000012024NE001252  39644514000115   \n",
       "877  2024-10-23  160129000012024NE001253     04160798730   \n",
       "878  2024-10-29  160129000012024NE001262     03983626610   \n",
       "966  2024-10-31  160129000012024NE001492     09035817524   \n",
       "1150 2024-10-23  160129000012024NE001254     04160798730   \n",
       "1151 2024-10-29  160129000012024NE001263     03983626610   \n",
       "1183 2024-10-30  160129000012024NE001321     09035817524   \n",
       "1295 2024-10-23  160129000012024NE001256  21331404000138   \n",
       "1301 2024-10-03  160129000012024NE001159  14807420000199   \n",
       "1302 2024-10-22  160129000012024NE001251  14807420000199   \n",
       "1303 2024-10-23  160129000012024NE001255  14807420000199   \n",
       "\n",
       "                                            NOME_CREDOR UF_FAV TIPO  DIAS  \\\n",
       "563   MULTI PRIME MUDANCAS E TRANSPORTES ESPECIAIS LTDA     GO  ANO   209   \n",
       "564   MULTI PRIME MUDANCAS E TRANSPORTES ESPECIAIS LTDA     GO  ANO   138   \n",
       "565   MULTI PRIME MUDANCAS E TRANSPORTES ESPECIAIS LTDA     GO  ANO   138   \n",
       "566   MULTI PRIME MUDANCAS E TRANSPORTES ESPECIAIS LTDA     GO  ANO   138   \n",
       "567   MULTI PRIME MUDANCAS E TRANSPORTES ESPECIAIS LTDA     GO  ANO   133   \n",
       "568   MULTI PRIME MUDANCAS E TRANSPORTES ESPECIAIS LTDA     GO  ANO   114   \n",
       "569   MULTI PRIME MUDANCAS E TRANSPORTES ESPECIAIS LTDA     GO  ANO   113   \n",
       "570   MULTI PRIME MUDANCAS E TRANSPORTES ESPECIAIS LTDA     GO  ANO   113   \n",
       "571   MULTI PRIME MUDANCAS E TRANSPORTES ESPECIAIS LTDA     GO  ANO    95   \n",
       "572   MULTI PRIME MUDANCAS E TRANSPORTES ESPECIAIS LTDA     GO  ANO    82   \n",
       "573   MULTI PRIME MUDANCAS E TRANSPORTES ESPECIAIS LTDA     GO  ANO    82   \n",
       "574   MULTI PRIME MUDANCAS E TRANSPORTES ESPECIAIS LTDA     GO  ANO    82   \n",
       "575   MULTI PRIME MUDANCAS E TRANSPORTES ESPECIAIS LTDA     GO  ANO    71   \n",
       "576   MULTI PRIME MUDANCAS E TRANSPORTES ESPECIAIS LTDA     GO  ANO    71   \n",
       "577   MULTI PRIME MUDANCAS E TRANSPORTES ESPECIAIS LTDA     GO  ANO    55   \n",
       "578   MULTI PRIME MUDANCAS E TRANSPORTES ESPECIAIS LTDA     GO  ANO    54   \n",
       "579   MULTI PRIME MUDANCAS E TRANSPORTES ESPECIAIS LTDA     GO  ANO    54   \n",
       "580   MULTI PRIME MUDANCAS E TRANSPORTES ESPECIAIS LTDA     GO  ANO    42   \n",
       "581   MULTI PRIME MUDANCAS E TRANSPORTES ESPECIAIS LTDA     GO  ANO    39   \n",
       "582   MULTI PRIME MUDANCAS E TRANSPORTES ESPECIAIS LTDA     GO  ANO    39   \n",
       "583   MULTI PRIME MUDANCAS E TRANSPORTES ESPECIAIS LTDA     GO  ANO    39   \n",
       "584   MULTI PRIME MUDANCAS E TRANSPORTES ESPECIAIS LTDA     GO  ANO    35   \n",
       "585   MULTI PRIME MUDANCAS E TRANSPORTES ESPECIAIS LTDA     GO  ANO    33   \n",
       "586   MULTI PRIME MUDANCAS E TRANSPORTES ESPECIAIS LTDA     GO  ANO    32   \n",
       "587   MULTI PRIME MUDANCAS E TRANSPORTES ESPECIAIS LTDA     GO  ANO    29   \n",
       "588   MULTI PRIME MUDANCAS E TRANSPORTES ESPECIAIS LTDA     GO  ANO    29   \n",
       "589   MULTI PRIME MUDANCAS E TRANSPORTES ESPECIAIS LTDA     GO  ANO    27   \n",
       "590   MULTI PRIME MUDANCAS E TRANSPORTES ESPECIAIS LTDA     GO  ANO    22   \n",
       "591   MULTI PRIME MUDANCAS E TRANSPORTES ESPECIAIS LTDA     GO  ANO    22   \n",
       "592   MULTI PRIME MUDANCAS E TRANSPORTES ESPECIAIS LTDA     GO  ANO    18   \n",
       "593   MULTI PRIME MUDANCAS E TRANSPORTES ESPECIAIS LTDA     GO  ANO    14   \n",
       "877                         EMERSON BERNARDO DOS SANTOS     SP  ANO    13   \n",
       "878                            ANDERSON ANDRADE RIBEIRO     MG  ANO     7   \n",
       "966                       ROMARIO SANTANA FURTADO FILHO     SC  ANO     5   \n",
       "1150                        EMERSON BERNARDO DOS SANTOS     SP  ANO    13   \n",
       "1151                           ANDERSON ANDRADE RIBEIRO     MG  ANO     7   \n",
       "1183                      ROMARIO SANTANA FURTADO FILHO     SC  ANO     6   \n",
       "1295                     ORLEANS VIAGENS E TURISMO LTDA     SP  ANO    13   \n",
       "1301                                FACTO TURISMO  LTDA     SP  ANO    33   \n",
       "1302                                FACTO TURISMO  LTDA     SP  ANO    14   \n",
       "1303                                FACTO TURISMO  LTDA     SP  ANO    13   \n",
       "\n",
       "     UF_UG       FONTE        MOD_LIC     TIPO_NE RP               NOME_RP  \\\n",
       "563     MG  1000000000         PREGAO  ESTIMATIVO  1  PRIMARIO OBRIGATORIO   \n",
       "564     MG  1000000000         PREGAO  ESTIMATIVO  1  PRIMARIO OBRIGATORIO   \n",
       "565     MG  1000000000         PREGAO  ESTIMATIVO  1  PRIMARIO OBRIGATORIO   \n",
       "566     MG  1000000000         PREGAO  ESTIMATIVO  1  PRIMARIO OBRIGATORIO   \n",
       "567     MG  1000000000         PREGAO  ESTIMATIVO  1  PRIMARIO OBRIGATORIO   \n",
       "568     MG  1000000000         PREGAO  ESTIMATIVO  1  PRIMARIO OBRIGATORIO   \n",
       "569     MG  1000000000         PREGAO  ESTIMATIVO  1  PRIMARIO OBRIGATORIO   \n",
       "570     MG  1000000000         PREGAO  ESTIMATIVO  1  PRIMARIO OBRIGATORIO   \n",
       "571     MG  1000000000         PREGAO  ESTIMATIVO  1  PRIMARIO OBRIGATORIO   \n",
       "572     MG  1000000000         PREGAO  ESTIMATIVO  1  PRIMARIO OBRIGATORIO   \n",
       "573     MG  1000000000         PREGAO  ESTIMATIVO  1  PRIMARIO OBRIGATORIO   \n",
       "574     MG  1000000000         PREGAO  ESTIMATIVO  1  PRIMARIO OBRIGATORIO   \n",
       "575     MG  1000000000         PREGAO  ESTIMATIVO  1  PRIMARIO OBRIGATORIO   \n",
       "576     MG  1000000000         PREGAO  ESTIMATIVO  1  PRIMARIO OBRIGATORIO   \n",
       "577     MG  1000000000         PREGAO  ESTIMATIVO  1  PRIMARIO OBRIGATORIO   \n",
       "578     MG  1000000000         PREGAO  ESTIMATIVO  1  PRIMARIO OBRIGATORIO   \n",
       "579     MG  1000000000         PREGAO  ESTIMATIVO  1  PRIMARIO OBRIGATORIO   \n",
       "580     MG  1000000000         PREGAO  ESTIMATIVO  1  PRIMARIO OBRIGATORIO   \n",
       "581     MG  1000000000         PREGAO  ESTIMATIVO  1  PRIMARIO OBRIGATORIO   \n",
       "582     MG  1000000000         PREGAO  ESTIMATIVO  1  PRIMARIO OBRIGATORIO   \n",
       "583     MG  1000000000         PREGAO  ESTIMATIVO  1  PRIMARIO OBRIGATORIO   \n",
       "584     MG  1000000000         PREGAO  ESTIMATIVO  1  PRIMARIO OBRIGATORIO   \n",
       "585     MG  1000000000         PREGAO  ESTIMATIVO  1  PRIMARIO OBRIGATORIO   \n",
       "586     MG  1000000000         PREGAO  ESTIMATIVO  1  PRIMARIO OBRIGATORIO   \n",
       "587     MG  1000000000         PREGAO  ESTIMATIVO  1  PRIMARIO OBRIGATORIO   \n",
       "588     MG  1000000000         PREGAO  ESTIMATIVO  1  PRIMARIO OBRIGATORIO   \n",
       "589     MG  1000000000         PREGAO  ESTIMATIVO  1  PRIMARIO OBRIGATORIO   \n",
       "590     MG  1000000000         PREGAO  ESTIMATIVO  1  PRIMARIO OBRIGATORIO   \n",
       "591     MG  1000000000         PREGAO  ESTIMATIVO  1  PRIMARIO OBRIGATORIO   \n",
       "592     MG  1000000000         PREGAO  ESTIMATIVO  1  PRIMARIO OBRIGATORIO   \n",
       "593     MG  1000000000         PREGAO  ESTIMATIVO  1  PRIMARIO OBRIGATORIO   \n",
       "877     MG  1000000000  NAO SE APLICA   ORDINARIO  1  PRIMARIO OBRIGATORIO   \n",
       "878     MG  1000000000  NAO SE APLICA   ORDINARIO  1  PRIMARIO OBRIGATORIO   \n",
       "966     MG  1000000000  NAO SE APLICA   ORDINARIO  1  PRIMARIO OBRIGATORIO   \n",
       "1150    MG  1000000000  NAO SE APLICA   ORDINARIO  1  PRIMARIO OBRIGATORIO   \n",
       "1151    MG  1000000000  NAO SE APLICA   ORDINARIO  1  PRIMARIO OBRIGATORIO   \n",
       "1183    MG  1000000000  NAO SE APLICA   ORDINARIO  1  PRIMARIO OBRIGATORIO   \n",
       "1295    MG  1000000000         PREGAO      GLOBAL  1  PRIMARIO OBRIGATORIO   \n",
       "1301    MG  1000000000         PREGAO      GLOBAL  1  PRIMARIO OBRIGATORIO   \n",
       "1302    MG  1000000000         PREGAO      GLOBAL  1  PRIMARIO OBRIGATORIO   \n",
       "1303    MG  1000000000         PREGAO      GLOBAL  1  PRIMARIO OBRIGATORIO   \n",
       "\n",
       "     TIPO_CREDITO NOME_TIPO_CREDITO    PO  AUTOR_EMENDA NOME_AUTOR_EMENDA  \\\n",
       "563             A     INICIAL (LOA)  0000  000000000000        SEM EMENDA   \n",
       "564             A     INICIAL (LOA)  0000  000000000000        SEM EMENDA   \n",
       "565             A     INICIAL (LOA)  0000  000000000000        SEM EMENDA   \n",
       "566             A     INICIAL (LOA)  0000  000000000000        SEM EMENDA   \n",
       "567             A     INICIAL (LOA)  0000  000000000000        SEM EMENDA   \n",
       "568             A     INICIAL (LOA)  0000  000000000000        SEM EMENDA   \n",
       "569             A     INICIAL (LOA)  0000  000000000000        SEM EMENDA   \n",
       "570             A     INICIAL (LOA)  0000  000000000000        SEM EMENDA   \n",
       "571             A     INICIAL (LOA)  0000  000000000000        SEM EMENDA   \n",
       "572             A     INICIAL (LOA)  0000  000000000000        SEM EMENDA   \n",
       "573             A     INICIAL (LOA)  0000  000000000000        SEM EMENDA   \n",
       "574             A     INICIAL (LOA)  0000  000000000000        SEM EMENDA   \n",
       "575             A     INICIAL (LOA)  0000  000000000000        SEM EMENDA   \n",
       "576             A     INICIAL (LOA)  0000  000000000000        SEM EMENDA   \n",
       "577             A     INICIAL (LOA)  0000  000000000000        SEM EMENDA   \n",
       "578             A     INICIAL (LOA)  0000  000000000000        SEM EMENDA   \n",
       "579             A     INICIAL (LOA)  0000  000000000000        SEM EMENDA   \n",
       "580             A     INICIAL (LOA)  0000  000000000000        SEM EMENDA   \n",
       "581             A     INICIAL (LOA)  0000  000000000000        SEM EMENDA   \n",
       "582             A     INICIAL (LOA)  0000  000000000000        SEM EMENDA   \n",
       "583             A     INICIAL (LOA)  0000  000000000000        SEM EMENDA   \n",
       "584             A     INICIAL (LOA)  0000  000000000000        SEM EMENDA   \n",
       "585             A     INICIAL (LOA)  0000  000000000000        SEM EMENDA   \n",
       "586             A     INICIAL (LOA)  0000  000000000000        SEM EMENDA   \n",
       "587             A     INICIAL (LOA)  0000  000000000000        SEM EMENDA   \n",
       "588             A     INICIAL (LOA)  0000  000000000000        SEM EMENDA   \n",
       "589             A     INICIAL (LOA)  0000  000000000000        SEM EMENDA   \n",
       "590             A     INICIAL (LOA)  0000  000000000000        SEM EMENDA   \n",
       "591             A     INICIAL (LOA)  0000  000000000000        SEM EMENDA   \n",
       "592             A     INICIAL (LOA)  0000  000000000000        SEM EMENDA   \n",
       "593             A     INICIAL (LOA)  0000  000000000000        SEM EMENDA   \n",
       "877             A     INICIAL (LOA)  0000  000000000000        SEM EMENDA   \n",
       "878             A     INICIAL (LOA)  0000  000000000000        SEM EMENDA   \n",
       "966             A     INICIAL (LOA)  0000  000000000000        SEM EMENDA   \n",
       "1150            A     INICIAL (LOA)  0000  000000000000        SEM EMENDA   \n",
       "1151            A     INICIAL (LOA)  0000  000000000000        SEM EMENDA   \n",
       "1183            A     INICIAL (LOA)  0000  000000000000        SEM EMENDA   \n",
       "1295            A     INICIAL (LOA)  0000  000000000000        SEM EMENDA   \n",
       "1301            A     INICIAL (LOA)  0000  000000000000        SEM EMENDA   \n",
       "1302            A     INICIAL (LOA)  0000  000000000000        SEM EMENDA   \n",
       "1303            A     INICIAL (LOA)  0000  000000000000        SEM EMENDA   \n",
       "\n",
       "                              LOCAL              NOME_UO     UO  A_LIQUIDAR  \\\n",
       "563   ESCOLA DE SARGENTOS DAS ARMAS  COMANDO DO EXERCITO  52121    19850.00   \n",
       "564   ESCOLA DE SARGENTOS DAS ARMAS  COMANDO DO EXERCITO  52121    19850.00   \n",
       "565   ESCOLA DE SARGENTOS DAS ARMAS  COMANDO DO EXERCITO  52121    32890.00   \n",
       "566   ESCOLA DE SARGENTOS DAS ARMAS  COMANDO DO EXERCITO  52121    50049.00   \n",
       "567   ESCOLA DE SARGENTOS DAS ARMAS  COMANDO DO EXERCITO  52121    21850.00   \n",
       "568   ESCOLA DE SARGENTOS DAS ARMAS  COMANDO DO EXERCITO  52121    21850.00   \n",
       "569   ESCOLA DE SARGENTOS DAS ARMAS  COMANDO DO EXERCITO  52121    13091.00   \n",
       "570   ESCOLA DE SARGENTOS DAS ARMAS  COMANDO DO EXERCITO  52121    13091.00   \n",
       "571   ESCOLA DE SARGENTOS DAS ARMAS  COMANDO DO EXERCITO  52121    50049.00   \n",
       "572   ESCOLA DE SARGENTOS DAS ARMAS  COMANDO DO EXERCITO  52121    29900.00   \n",
       "573   ESCOLA DE SARGENTOS DAS ARMAS  COMANDO DO EXERCITO  52121    29900.00   \n",
       "574   ESCOLA DE SARGENTOS DAS ARMAS  COMANDO DO EXERCITO  52121    29900.00   \n",
       "575   ESCOLA DE SARGENTOS DAS ARMAS  COMANDO DO EXERCITO  52121    44820.00   \n",
       "576   ESCOLA DE SARGENTOS DAS ARMAS  COMANDO DO EXERCITO  52121    41355.00   \n",
       "577   ESCOLA DE SARGENTOS DAS ARMAS  COMANDO DO EXERCITO  52121      437.00   \n",
       "578   ESCOLA DE SARGENTOS DAS ARMAS  COMANDO DO EXERCITO  52121      919.00   \n",
       "579   ESCOLA DE SARGENTOS DAS ARMAS  COMANDO DO EXERCITO  52121      747.00   \n",
       "580   ESCOLA DE SARGENTOS DAS ARMAS  COMANDO DO EXERCITO  52121      598.00   \n",
       "581   ESCOLA DE SARGENTOS DAS ARMAS  COMANDO DO EXERCITO  52121      397.00   \n",
       "582   ESCOLA DE SARGENTOS DAS ARMAS  COMANDO DO EXERCITO  52121      598.00   \n",
       "583   ESCOLA DE SARGENTOS DAS ARMAS  COMANDO DO EXERCITO  52121      747.00   \n",
       "584   ESCOLA DE SARGENTOS DAS ARMAS  COMANDO DO EXERCITO  52121      598.00   \n",
       "585   ESCOLA DE SARGENTOS DAS ARMAS  COMANDO DO EXERCITO  52121      747.00   \n",
       "586   ESCOLA DE SARGENTOS DAS ARMAS  COMANDO DO EXERCITO  52121      598.00   \n",
       "587   ESCOLA DE SARGENTOS DAS ARMAS  COMANDO DO EXERCITO  52121      747.00   \n",
       "588   ESCOLA DE SARGENTOS DAS ARMAS  COMANDO DO EXERCITO  52121      919.00   \n",
       "589   ESCOLA DE SARGENTOS DAS ARMAS  COMANDO DO EXERCITO  52121      397.00   \n",
       "590   ESCOLA DE SARGENTOS DAS ARMAS  COMANDO DO EXERCITO  52121      747.00   \n",
       "591   ESCOLA DE SARGENTOS DAS ARMAS  COMANDO DO EXERCITO  52121      437.00   \n",
       "592   ESCOLA DE SARGENTOS DAS ARMAS  COMANDO DO EXERCITO  52121      919.00   \n",
       "593   ESCOLA DE SARGENTOS DAS ARMAS  COMANDO DO EXERCITO  52121      919.00   \n",
       "877                               0  COMANDO DO EXERCITO  52121    67110.40   \n",
       "878                               0  COMANDO DO EXERCITO  52121    19848.46   \n",
       "966                               0  COMANDO DO EXERCITO  52121     5125.50   \n",
       "1150                              0  COMANDO DO EXERCITO  52121     6754.95   \n",
       "1151                              0  COMANDO DO EXERCITO  52121     8592.24   \n",
       "1183                              0  COMANDO DO EXERCITO  52121     2399.67   \n",
       "1295                            ESA  COMANDO DO EXERCITO  52121      773.14   \n",
       "1301                            ESA  COMANDO DO EXERCITO  52121      101.66   \n",
       "1302                            ESA  COMANDO DO EXERCITO  52121    10753.48   \n",
       "1303                            ESA  COMANDO DO EXERCITO  52121    11000.00   \n",
       "\n",
       "      LIQUIDADO_A_PAGAR  TOTAL_A_PAGAR     PAGO  \n",
       "563                0.00       19850.00      0.0  \n",
       "564                0.00       19850.00      0.0  \n",
       "565                0.00       32890.00      0.0  \n",
       "566                0.00       50049.00      0.0  \n",
       "567                0.00       21850.00      0.0  \n",
       "568                0.00       21850.00      0.0  \n",
       "569                0.00       13091.00      0.0  \n",
       "570                0.00       13091.00      0.0  \n",
       "571                0.00       50049.00      0.0  \n",
       "572                0.00       29900.00      0.0  \n",
       "573                0.00       29900.00      0.0  \n",
       "574                0.00       29900.00      0.0  \n",
       "575                0.00       44820.00      0.0  \n",
       "576                0.00       41355.00      0.0  \n",
       "577                0.00         437.00      0.0  \n",
       "578                0.00         919.00      0.0  \n",
       "579                0.00         747.00      0.0  \n",
       "580                0.00         598.00      0.0  \n",
       "581                0.00         397.00      0.0  \n",
       "582                0.00         598.00      0.0  \n",
       "583                0.00         747.00      0.0  \n",
       "584                0.00         598.00      0.0  \n",
       "585                0.00         747.00      0.0  \n",
       "586                0.00         598.00      0.0  \n",
       "587                0.00         747.00      0.0  \n",
       "588                0.00         919.00      0.0  \n",
       "589                0.00         397.00      0.0  \n",
       "590                0.00         747.00      0.0  \n",
       "591                0.00         437.00      0.0  \n",
       "592                0.00         919.00      0.0  \n",
       "593                0.00         919.00      0.0  \n",
       "877                0.00       67110.40      0.0  \n",
       "878                0.00       19848.46      0.0  \n",
       "966                0.00        5125.50      0.0  \n",
       "1150               0.00        6754.95      0.0  \n",
       "1151               0.00        8592.24      0.0  \n",
       "1183               0.00        2399.67      0.0  \n",
       "1295               0.00         773.14      0.0  \n",
       "1301             763.84         865.50  21461.0  \n",
       "1302               0.00       10753.48      0.0  \n",
       "1303               0.00       11000.00      0.0  "
      ]
     },
     "execution_count": 41,
     "metadata": {},
     "output_type": "execute_result"
    }
   ],
   "source": [
    "df_teste[(df_teste['AÇÃO'] == '212O') & (df_teste['A_LIQUIDAR'] != 0)]"
   ]
  },
  {
   "cell_type": "code",
   "execution_count": 42,
   "metadata": {},
   "outputs": [
    {
     "data": {
      "text/plain": [
       "array(['2000', '2004', '212B', '2865', '4641', '156M', '20X1', '20XE',\n",
       "       '212O', '219D', '21A0', '8965', '21BJ', '2900', '2919', '21D2',\n",
       "       '21GN'], dtype=object)"
      ]
     },
     "execution_count": 42,
     "metadata": {},
     "output_type": "execute_result"
    }
   ],
   "source": [
    "df_teste['AÇÃO'].unique()"
   ]
  }
 ],
 "metadata": {
  "kernelspec": {
   "display_name": "base",
   "language": "python",
   "name": "python3"
  },
  "language_info": {
   "codemirror_mode": {
    "name": "ipython",
    "version": 3
   },
   "file_extension": ".py",
   "mimetype": "text/x-python",
   "name": "python",
   "nbconvert_exporter": "python",
   "pygments_lexer": "ipython3",
   "version": "3.11.9"
  },
  "orig_nbformat": 4
 },
 "nbformat": 4,
 "nbformat_minor": 2
}
