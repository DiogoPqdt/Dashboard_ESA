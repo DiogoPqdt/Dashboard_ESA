{
 "cells": [
  {
   "cell_type": "markdown",
   "metadata": {},
   "source": [
    "# Criar VENV\n",
    "\n",
    "https://oandersonbm.medium.com/usando-python-no-vs-code-com-ambiente-virtual-venv-ecef7959b652"
   ]
  },
  {
   "cell_type": "code",
   "execution_count": 1,
   "metadata": {},
   "outputs": [],
   "source": [
    "import pandas as pd\n",
    "import plotly.express as px\n",
    "import plotly.graph_objects as go\n",
    "from datetime import datetime\n",
    "import locale\n",
    "\n",
    "# Definindo a configuração local para o Brasil (pt_BR)\n",
    "locale.setlocale(locale.LC_ALL, 'pt_BR')\n",
    "\n",
    "# Personalizando para ver todas as colunas e linhas do DataFrame\n",
    "pd.set_option('display.max_columns', None)\n",
    "\n",
    "pd.set_option('display.max_rows', None) "
   ]
  },
  {
   "cell_type": "markdown",
   "metadata": {},
   "source": [
    "# Base de dados"
   ]
  },
  {
   "cell_type": "code",
   "execution_count": 2,
   "metadata": {},
   "outputs": [],
   "source": [
    "# Realizando a junção dos 3 arquivos .CSV num único DataFrame\n",
    "\n",
    "# Caminhos para os arquivos .CSV\n",
    "caminho_1 = r\"C:\\Users\\User\\OneDrive\\Trabalho\\ESA 2024\\Dashboard_ESA\\base_dados\\Cel Manfrini.csv\"\n",
    "\n",
    "caminho_2 = r\"C:\\Users\\User\\OneDrive\\Trabalho\\ESA 2024\\Dashboard_ESA\\base_dados\\Cel Manfrini(1).csv\"\n",
    "#\n",
    "#caminho_3 = r\"D:\\OneDrive\\Trabalho\\ESA 2023\\Dashboard_ESA\\base_dados\\Cel Manfrini(2).csv\"\n",
    "#\n",
    "#caminho_4 = r\"D:\\OneDrive\\Trabalho\\ESA 2023\\Dashboard_ESA\\base_dados\\Cel Manfrini(3).csv\"\n",
    "#\n",
    "#caminho_5 = r\"D:\\OneDrive\\Trabalho\\ESA 2023\\Dashboard_ESA\\base_dados\\Cel Manfrini(4).csv\"\n",
    "#\n",
    "#caminho_6 = r\"D:\\OneDrive\\Trabalho\\ESA 2023\\Dashboard_ESA\\base_dados\\Cel Manfrini(5).csv\"\n",
    "\n",
    "\n",
    "\n",
    "# Leitura dos arquivos .CSV em DataFrames individuais\n",
    "df1 = pd.read_csv(caminho_1)\n",
    "df2 = pd.read_csv(caminho_2)\n",
    "#df3 = pd.read_csv(caminho_3)\n",
    "#df4 = pd.read_csv(caminho_4)\n",
    "#df5 = pd.read_csv(caminho_5)\n",
    "#df6 = pd.read_csv(caminho_6)\n",
    "\n",
    "# Concatenação dos DataFrames em um único DataFrame\n",
    "df = pd.concat([df1, df2], ignore_index=True)\n",
    "\n",
    "# Excluindo linhas que contenham a string \"Tela\" em qualquer coluna\n",
    "df = df[~df.apply(lambda row: row.astype(str).str.contains('Tela')).any(axis=1)]\n",
    "\n",
    "# Transformando o tipo de dado das colunas de valores monetários\n",
    "df['A_LIQUIDAR'] = df['A_LIQUIDAR'].apply(lambda x: float(x.replace('.', '').replace(',', '.')))\n",
    "df['LIQUIDADO_A_PAGAR'] = df['LIQUIDADO_A_PAGAR'].apply(lambda x: float(x.replace('.', '').replace(',', '.')))\n",
    "df['TOTAL_A_PAGAR'] = df['TOTAL_A_PAGAR'].apply(lambda x: float(x.replace('.', '').replace(',', '.')))\n",
    "df['PAGO'] = df['PAGO'].apply(lambda x: float(x.replace('.', '').replace(',', '.')))\n",
    "\n",
    "# Convertendo a coluna DATA para datetime\n",
    "df['DATA'] = pd.to_datetime(df['DATA'], format='%d/%m/%y')\n",
    "\n",
    "# Convertendo a coluna DIAS em número inteiro\n",
    "df['DIAS'] = df['DIAS'].astype(int)\n",
    "\n"
   ]
  },
  {
   "cell_type": "markdown",
   "metadata": {},
   "source": [
    "# Trabalhando com um DATAFRAME voltado para controle dos SALDOS"
   ]
  },
  {
   "cell_type": "code",
   "execution_count": 3,
   "metadata": {},
   "outputs": [],
   "source": [
    "df_saldos = df[['NOME_UG', 'ANO', 'NOME_CREDOR', 'DATA', 'DIAS', 'ND','NDSI', 'NOME_NDSI', 'NE', 'PI', 'NOME_PI','TIPO', 'NOME_UGR', 'A_LIQUIDAR', 'LIQUIDADO_A_PAGAR', 'TOTAL_A_PAGAR', 'PAGO']]"
   ]
  },
  {
   "cell_type": "code",
   "execution_count": 4,
   "metadata": {},
   "outputs": [
    {
     "name": "stdout",
     "output_type": "stream",
     "text": [
      "O total pago pela ESA até o momento foi: R$ 13.249.574,53\n",
      "O total de saldo a liquidar pela ESA até o momento foi: R$ 7.715.716,93\n",
      "O total de saldo liquidado a pagar pela ESA até o momento foi: R$ 594.409,59\n",
      "O total de saldo a pagar pela ESA até o momento foi: R$ 8.310.126,52\n"
     ]
    }
   ],
   "source": [
    "# Saldos Totais\n",
    "total_pago = df['PAGO'].sum().round(2)\n",
    "total_a_liquidar = df['A_LIQUIDAR'].sum().round(2)\n",
    "total_liquidado_a_pagar = df['LIQUIDADO_A_PAGAR'].sum().round(2)\n",
    "total_a_pagar = df['TOTAL_A_PAGAR'].sum().round(2)\n",
    "\n",
    "\n",
    "print(f'O total pago pela ESA até o momento foi: {locale.currency(total_pago, grouping=True)}')\n",
    "print(f'O total de saldo a liquidar pela ESA até o momento foi: {locale.currency(total_a_liquidar, grouping=True)}')\n",
    "print(f'O total de saldo liquidado a pagar pela ESA até o momento foi: {locale.currency(total_liquidado_a_pagar, grouping=True)}')\n",
    "print(f'O total de saldo a pagar pela ESA até o momento foi: {locale.currency(total_a_pagar, grouping=True)}')"
   ]
  },
  {
   "cell_type": "code",
   "execution_count": 5,
   "metadata": {},
   "outputs": [
    {
     "data": {
      "application/vnd.plotly.v1+json": {
       "config": {
        "plotlyServerURL": "https://plot.ly"
       },
       "data": [
        {
         "alignmentgroup": "True",
         "cliponaxis": false,
         "legendgroup": "",
         "marker": {
          "color": [
           2903355.87,
           1582481.74,
           1294079.34,
           717034.96,
           645215.99,
           222526.38,
           197795.2,
           151077.91,
           2149.54
          ],
          "coloraxis": "coloraxis",
          "pattern": {
           "shape": ""
          }
         },
         "name": "",
         "offsetgroup": "",
         "orientation": "v",
         "showlegend": false,
         "textposition": "outside",
         "texttemplate": "%{y:.3s}",
         "type": "bar",
         "x": [
          "339039",
          "339033",
          "449052",
          "339030",
          "339037",
          "339093",
          "339015",
          "339040",
          "339047"
         ],
         "xaxis": "x",
         "y": [
          2903355.87,
          1582481.74,
          1294079.34,
          717034.96,
          645215.99,
          222526.38,
          197795.2,
          151077.91,
          2149.54
         ],
         "yaxis": "y"
        }
       ],
       "layout": {
        "barmode": "relative",
        "coloraxis": {
         "colorbar": {
          "title": {
           "text": "Saldo a liquidar"
          }
         },
         "colorscale": [
          [
           0,
           "rgb(255,245,240)"
          ],
          [
           0.125,
           "rgb(254,224,210)"
          ],
          [
           0.25,
           "rgb(252,187,161)"
          ],
          [
           0.375,
           "rgb(252,146,114)"
          ],
          [
           0.5,
           "rgb(251,106,74)"
          ],
          [
           0.625,
           "rgb(239,59,44)"
          ],
          [
           0.75,
           "rgb(203,24,29)"
          ],
          [
           0.875,
           "rgb(165,15,21)"
          ],
          [
           1,
           "rgb(103,0,13)"
          ]
         ]
        },
        "height": 500,
        "hovermode": "x unified",
        "legend": {
         "tracegroupgap": 0
        },
        "template": {
         "data": {
          "bar": [
           {
            "error_x": {
             "color": "#f2f5fa"
            },
            "error_y": {
             "color": "#f2f5fa"
            },
            "marker": {
             "line": {
              "color": "rgb(17,17,17)",
              "width": 0.5
             },
             "pattern": {
              "fillmode": "overlay",
              "size": 10,
              "solidity": 0.2
             }
            },
            "type": "bar"
           }
          ],
          "barpolar": [
           {
            "marker": {
             "line": {
              "color": "rgb(17,17,17)",
              "width": 0.5
             },
             "pattern": {
              "fillmode": "overlay",
              "size": 10,
              "solidity": 0.2
             }
            },
            "type": "barpolar"
           }
          ],
          "carpet": [
           {
            "aaxis": {
             "endlinecolor": "#A2B1C6",
             "gridcolor": "#506784",
             "linecolor": "#506784",
             "minorgridcolor": "#506784",
             "startlinecolor": "#A2B1C6"
            },
            "baxis": {
             "endlinecolor": "#A2B1C6",
             "gridcolor": "#506784",
             "linecolor": "#506784",
             "minorgridcolor": "#506784",
             "startlinecolor": "#A2B1C6"
            },
            "type": "carpet"
           }
          ],
          "choropleth": [
           {
            "colorbar": {
             "outlinewidth": 0,
             "ticks": ""
            },
            "type": "choropleth"
           }
          ],
          "contour": [
           {
            "colorbar": {
             "outlinewidth": 0,
             "ticks": ""
            },
            "colorscale": [
             [
              0,
              "#0d0887"
             ],
             [
              0.1111111111111111,
              "#46039f"
             ],
             [
              0.2222222222222222,
              "#7201a8"
             ],
             [
              0.3333333333333333,
              "#9c179e"
             ],
             [
              0.4444444444444444,
              "#bd3786"
             ],
             [
              0.5555555555555556,
              "#d8576b"
             ],
             [
              0.6666666666666666,
              "#ed7953"
             ],
             [
              0.7777777777777778,
              "#fb9f3a"
             ],
             [
              0.8888888888888888,
              "#fdca26"
             ],
             [
              1,
              "#f0f921"
             ]
            ],
            "type": "contour"
           }
          ],
          "contourcarpet": [
           {
            "colorbar": {
             "outlinewidth": 0,
             "ticks": ""
            },
            "type": "contourcarpet"
           }
          ],
          "heatmap": [
           {
            "colorbar": {
             "outlinewidth": 0,
             "ticks": ""
            },
            "colorscale": [
             [
              0,
              "#0d0887"
             ],
             [
              0.1111111111111111,
              "#46039f"
             ],
             [
              0.2222222222222222,
              "#7201a8"
             ],
             [
              0.3333333333333333,
              "#9c179e"
             ],
             [
              0.4444444444444444,
              "#bd3786"
             ],
             [
              0.5555555555555556,
              "#d8576b"
             ],
             [
              0.6666666666666666,
              "#ed7953"
             ],
             [
              0.7777777777777778,
              "#fb9f3a"
             ],
             [
              0.8888888888888888,
              "#fdca26"
             ],
             [
              1,
              "#f0f921"
             ]
            ],
            "type": "heatmap"
           }
          ],
          "heatmapgl": [
           {
            "colorbar": {
             "outlinewidth": 0,
             "ticks": ""
            },
            "colorscale": [
             [
              0,
              "#0d0887"
             ],
             [
              0.1111111111111111,
              "#46039f"
             ],
             [
              0.2222222222222222,
              "#7201a8"
             ],
             [
              0.3333333333333333,
              "#9c179e"
             ],
             [
              0.4444444444444444,
              "#bd3786"
             ],
             [
              0.5555555555555556,
              "#d8576b"
             ],
             [
              0.6666666666666666,
              "#ed7953"
             ],
             [
              0.7777777777777778,
              "#fb9f3a"
             ],
             [
              0.8888888888888888,
              "#fdca26"
             ],
             [
              1,
              "#f0f921"
             ]
            ],
            "type": "heatmapgl"
           }
          ],
          "histogram": [
           {
            "marker": {
             "pattern": {
              "fillmode": "overlay",
              "size": 10,
              "solidity": 0.2
             }
            },
            "type": "histogram"
           }
          ],
          "histogram2d": [
           {
            "colorbar": {
             "outlinewidth": 0,
             "ticks": ""
            },
            "colorscale": [
             [
              0,
              "#0d0887"
             ],
             [
              0.1111111111111111,
              "#46039f"
             ],
             [
              0.2222222222222222,
              "#7201a8"
             ],
             [
              0.3333333333333333,
              "#9c179e"
             ],
             [
              0.4444444444444444,
              "#bd3786"
             ],
             [
              0.5555555555555556,
              "#d8576b"
             ],
             [
              0.6666666666666666,
              "#ed7953"
             ],
             [
              0.7777777777777778,
              "#fb9f3a"
             ],
             [
              0.8888888888888888,
              "#fdca26"
             ],
             [
              1,
              "#f0f921"
             ]
            ],
            "type": "histogram2d"
           }
          ],
          "histogram2dcontour": [
           {
            "colorbar": {
             "outlinewidth": 0,
             "ticks": ""
            },
            "colorscale": [
             [
              0,
              "#0d0887"
             ],
             [
              0.1111111111111111,
              "#46039f"
             ],
             [
              0.2222222222222222,
              "#7201a8"
             ],
             [
              0.3333333333333333,
              "#9c179e"
             ],
             [
              0.4444444444444444,
              "#bd3786"
             ],
             [
              0.5555555555555556,
              "#d8576b"
             ],
             [
              0.6666666666666666,
              "#ed7953"
             ],
             [
              0.7777777777777778,
              "#fb9f3a"
             ],
             [
              0.8888888888888888,
              "#fdca26"
             ],
             [
              1,
              "#f0f921"
             ]
            ],
            "type": "histogram2dcontour"
           }
          ],
          "mesh3d": [
           {
            "colorbar": {
             "outlinewidth": 0,
             "ticks": ""
            },
            "type": "mesh3d"
           }
          ],
          "parcoords": [
           {
            "line": {
             "colorbar": {
              "outlinewidth": 0,
              "ticks": ""
             }
            },
            "type": "parcoords"
           }
          ],
          "pie": [
           {
            "automargin": true,
            "type": "pie"
           }
          ],
          "scatter": [
           {
            "marker": {
             "line": {
              "color": "#283442"
             }
            },
            "type": "scatter"
           }
          ],
          "scatter3d": [
           {
            "line": {
             "colorbar": {
              "outlinewidth": 0,
              "ticks": ""
             }
            },
            "marker": {
             "colorbar": {
              "outlinewidth": 0,
              "ticks": ""
             }
            },
            "type": "scatter3d"
           }
          ],
          "scattercarpet": [
           {
            "marker": {
             "colorbar": {
              "outlinewidth": 0,
              "ticks": ""
             }
            },
            "type": "scattercarpet"
           }
          ],
          "scattergeo": [
           {
            "marker": {
             "colorbar": {
              "outlinewidth": 0,
              "ticks": ""
             }
            },
            "type": "scattergeo"
           }
          ],
          "scattergl": [
           {
            "marker": {
             "line": {
              "color": "#283442"
             }
            },
            "type": "scattergl"
           }
          ],
          "scattermapbox": [
           {
            "marker": {
             "colorbar": {
              "outlinewidth": 0,
              "ticks": ""
             }
            },
            "type": "scattermapbox"
           }
          ],
          "scatterpolar": [
           {
            "marker": {
             "colorbar": {
              "outlinewidth": 0,
              "ticks": ""
             }
            },
            "type": "scatterpolar"
           }
          ],
          "scatterpolargl": [
           {
            "marker": {
             "colorbar": {
              "outlinewidth": 0,
              "ticks": ""
             }
            },
            "type": "scatterpolargl"
           }
          ],
          "scatterternary": [
           {
            "marker": {
             "colorbar": {
              "outlinewidth": 0,
              "ticks": ""
             }
            },
            "type": "scatterternary"
           }
          ],
          "surface": [
           {
            "colorbar": {
             "outlinewidth": 0,
             "ticks": ""
            },
            "colorscale": [
             [
              0,
              "#0d0887"
             ],
             [
              0.1111111111111111,
              "#46039f"
             ],
             [
              0.2222222222222222,
              "#7201a8"
             ],
             [
              0.3333333333333333,
              "#9c179e"
             ],
             [
              0.4444444444444444,
              "#bd3786"
             ],
             [
              0.5555555555555556,
              "#d8576b"
             ],
             [
              0.6666666666666666,
              "#ed7953"
             ],
             [
              0.7777777777777778,
              "#fb9f3a"
             ],
             [
              0.8888888888888888,
              "#fdca26"
             ],
             [
              1,
              "#f0f921"
             ]
            ],
            "type": "surface"
           }
          ],
          "table": [
           {
            "cells": {
             "fill": {
              "color": "#506784"
             },
             "line": {
              "color": "rgb(17,17,17)"
             }
            },
            "header": {
             "fill": {
              "color": "#2a3f5f"
             },
             "line": {
              "color": "rgb(17,17,17)"
             }
            },
            "type": "table"
           }
          ]
         },
         "layout": {
          "annotationdefaults": {
           "arrowcolor": "#f2f5fa",
           "arrowhead": 0,
           "arrowwidth": 1
          },
          "autotypenumbers": "strict",
          "coloraxis": {
           "colorbar": {
            "outlinewidth": 0,
            "ticks": ""
           }
          },
          "colorscale": {
           "diverging": [
            [
             0,
             "#8e0152"
            ],
            [
             0.1,
             "#c51b7d"
            ],
            [
             0.2,
             "#de77ae"
            ],
            [
             0.3,
             "#f1b6da"
            ],
            [
             0.4,
             "#fde0ef"
            ],
            [
             0.5,
             "#f7f7f7"
            ],
            [
             0.6,
             "#e6f5d0"
            ],
            [
             0.7,
             "#b8e186"
            ],
            [
             0.8,
             "#7fbc41"
            ],
            [
             0.9,
             "#4d9221"
            ],
            [
             1,
             "#276419"
            ]
           ],
           "sequential": [
            [
             0,
             "#0d0887"
            ],
            [
             0.1111111111111111,
             "#46039f"
            ],
            [
             0.2222222222222222,
             "#7201a8"
            ],
            [
             0.3333333333333333,
             "#9c179e"
            ],
            [
             0.4444444444444444,
             "#bd3786"
            ],
            [
             0.5555555555555556,
             "#d8576b"
            ],
            [
             0.6666666666666666,
             "#ed7953"
            ],
            [
             0.7777777777777778,
             "#fb9f3a"
            ],
            [
             0.8888888888888888,
             "#fdca26"
            ],
            [
             1,
             "#f0f921"
            ]
           ],
           "sequentialminus": [
            [
             0,
             "#0d0887"
            ],
            [
             0.1111111111111111,
             "#46039f"
            ],
            [
             0.2222222222222222,
             "#7201a8"
            ],
            [
             0.3333333333333333,
             "#9c179e"
            ],
            [
             0.4444444444444444,
             "#bd3786"
            ],
            [
             0.5555555555555556,
             "#d8576b"
            ],
            [
             0.6666666666666666,
             "#ed7953"
            ],
            [
             0.7777777777777778,
             "#fb9f3a"
            ],
            [
             0.8888888888888888,
             "#fdca26"
            ],
            [
             1,
             "#f0f921"
            ]
           ]
          },
          "colorway": [
           "#636efa",
           "#EF553B",
           "#00cc96",
           "#ab63fa",
           "#FFA15A",
           "#19d3f3",
           "#FF6692",
           "#B6E880",
           "#FF97FF",
           "#FECB52"
          ],
          "font": {
           "color": "#f2f5fa"
          },
          "geo": {
           "bgcolor": "rgb(17,17,17)",
           "lakecolor": "rgb(17,17,17)",
           "landcolor": "rgb(17,17,17)",
           "showlakes": true,
           "showland": true,
           "subunitcolor": "#506784"
          },
          "hoverlabel": {
           "align": "left"
          },
          "hovermode": "closest",
          "mapbox": {
           "style": "dark"
          },
          "paper_bgcolor": "rgb(17,17,17)",
          "plot_bgcolor": "rgb(17,17,17)",
          "polar": {
           "angularaxis": {
            "gridcolor": "#506784",
            "linecolor": "#506784",
            "ticks": ""
           },
           "bgcolor": "rgb(17,17,17)",
           "radialaxis": {
            "gridcolor": "#506784",
            "linecolor": "#506784",
            "ticks": ""
           }
          },
          "scene": {
           "xaxis": {
            "backgroundcolor": "rgb(17,17,17)",
            "gridcolor": "#506784",
            "gridwidth": 2,
            "linecolor": "#506784",
            "showbackground": true,
            "ticks": "",
            "zerolinecolor": "#C8D4E3"
           },
           "yaxis": {
            "backgroundcolor": "rgb(17,17,17)",
            "gridcolor": "#506784",
            "gridwidth": 2,
            "linecolor": "#506784",
            "showbackground": true,
            "ticks": "",
            "zerolinecolor": "#C8D4E3"
           },
           "zaxis": {
            "backgroundcolor": "rgb(17,17,17)",
            "gridcolor": "#506784",
            "gridwidth": 2,
            "linecolor": "#506784",
            "showbackground": true,
            "ticks": "",
            "zerolinecolor": "#C8D4E3"
           }
          },
          "shapedefaults": {
           "line": {
            "color": "#f2f5fa"
           }
          },
          "sliderdefaults": {
           "bgcolor": "#C8D4E3",
           "bordercolor": "rgb(17,17,17)",
           "borderwidth": 1,
           "tickwidth": 0
          },
          "ternary": {
           "aaxis": {
            "gridcolor": "#506784",
            "linecolor": "#506784",
            "ticks": ""
           },
           "baxis": {
            "gridcolor": "#506784",
            "linecolor": "#506784",
            "ticks": ""
           },
           "bgcolor": "rgb(17,17,17)",
           "caxis": {
            "gridcolor": "#506784",
            "linecolor": "#506784",
            "ticks": ""
           }
          },
          "title": {
           "x": 0.05
          },
          "updatemenudefaults": {
           "bgcolor": "#506784",
           "borderwidth": 0
          },
          "xaxis": {
           "automargin": true,
           "gridcolor": "#283442",
           "linecolor": "#506784",
           "ticks": "",
           "title": {
            "standoff": 15
           },
           "zerolinecolor": "#283442",
           "zerolinewidth": 2
          },
          "yaxis": {
           "automargin": true,
           "gridcolor": "#283442",
           "linecolor": "#506784",
           "ticks": "",
           "title": {
            "standoff": 15
           },
           "zerolinecolor": "#283442",
           "zerolinewidth": 2
          }
         }
        },
        "title": {
         "text": "Saldo a liquidar por ND"
        },
        "xaxis": {
         "anchor": "y",
         "domain": [
          0,
          1
         ],
         "title": {
          "text": "Natureza da Despesa"
         }
        },
        "yaxis": {
         "anchor": "x",
         "domain": [
          0,
          1
         ],
         "title": {
          "text": "Saldo a liquidar"
         },
         "type": "log"
        }
       }
      }
     },
     "metadata": {},
     "output_type": "display_data"
    }
   ],
   "source": [
    "# Saldo a liquidar por ND\n",
    "cols = ['ND', 'A_LIQUIDAR']\n",
    "\n",
    "df_aux = df.loc[:, cols].groupby('ND').sum().sort_values(by= 'A_LIQUIDAR', ascending=False).reset_index()\n",
    "df_aux = df_aux[df_aux['A_LIQUIDAR'] > 0]\n",
    "fig = px.bar(df_aux, \n",
    "             x='ND', \n",
    "             y='A_LIQUIDAR',\n",
    "             title='Saldo a liquidar por ND',\n",
    "             labels={'ND':'Natureza da Despesa', 'A_LIQUIDAR':'Saldo a liquidar'},\n",
    "             text_auto='.3s',\n",
    "             height=500,\n",
    "             log_y=True,\n",
    "             color='A_LIQUIDAR',\n",
    "             color_continuous_scale = 'reds',\n",
    "             template='plotly_dark')\n",
    "fig.update_traces(textposition = 'outside', cliponaxis = False, hovertemplate=None)\n",
    "fig.update_layout(hovermode=\"x unified\")\n",
    "\n",
    "fig.show()"
   ]
  },
  {
   "cell_type": "code",
   "execution_count": 6,
   "metadata": {},
   "outputs": [
    {
     "data": {
      "application/vnd.plotly.v1+json": {
       "config": {
        "plotlyServerURL": "https://plot.ly"
       },
       "data": [
        {
         "alignmentgroup": "True",
         "cliponaxis": false,
         "legendgroup": "",
         "marker": {
          "color": [
           1308782.46,
           1242585.87,
           994474.18,
           820947.8300000001,
           645215.99,
           361344.66,
           243327.19,
           230085.87,
           204500,
           197795.2,
           102313.95,
           101213.22,
           81858.58,
           81128,
           72000.52,
           70848.26,
           60060,
           51776.7,
           49750,
           49700,
           48559.75,
           47478.86,
           46263.96,
           43515.85,
           43180,
           42184.79,
           38479.39,
           34054.03,
           33670.26,
           31694.23,
           30924.97,
           26778.6,
           24977.95,
           23699.42,
           22891.61,
           21461.8,
           18826.8,
           17093.449999999997,
           16682.25,
           15850,
           15730,
           13242.599999999999,
           11780,
           10912.18,
           9514,
           8210.55,
           7640,
           6676,
           5825.65,
           5705.98,
           5386,
           4570,
           2972,
           2500,
           2296.38,
           2022.8,
           1090,
           1008,
           387.6,
           144,
           126.74000000000001
          ],
          "coloraxis": "coloraxis",
          "pattern": {
           "shape": ""
          }
         },
         "name": "",
         "offsetgroup": "",
         "orientation": "v",
         "showlegend": false,
         "textposition": "outside",
         "texttemplate": "%{y:.3s}",
         "type": "bar",
         "x": [
          "33903916",
          "33903301",
          "44905240",
          "33903943",
          "33903702",
          "33903974",
          "33903039",
          "33903309",
          "33909302",
          "33901514",
          "33904016",
          "33903917",
          "33903024",
          "33903023",
          "33903963",
          "33903007",
          "33903303",
          "33903004",
          "33903304",
          "44905238",
          "33903950",
          "44905242",
          "33904012",
          "33903947",
          "33903919",
          "44905212",
          "33903946",
          "44905230",
          "44905228",
          "33903022",
          "44905241",
          "33903958",
          "33903021",
          "33903011",
          "33903944",
          "33903012",
          "33903028",
          "33903018",
          "44905224",
          "44905233",
          "33909308",
          "33903006",
          "44905239",
          "33903026",
          "44905206",
          "33903036",
          "33903035",
          "44905208",
          "33903010",
          "33903920",
          "33903901",
          "33903914",
          "33903017",
          "33904023",
          "33909314",
          "33904722",
          "44905204",
          "33903001",
          "33903019",
          "33903016",
          "33904710"
         ],
         "xaxis": "x",
         "y": [
          1308782.46,
          1242585.87,
          994474.18,
          820947.8300000001,
          645215.99,
          361344.66,
          243327.19,
          230085.87,
          204500,
          197795.2,
          102313.95,
          101213.22,
          81858.58,
          81128,
          72000.52,
          70848.26,
          60060,
          51776.7,
          49750,
          49700,
          48559.75,
          47478.86,
          46263.96,
          43515.85,
          43180,
          42184.79,
          38479.39,
          34054.03,
          33670.26,
          31694.23,
          30924.97,
          26778.6,
          24977.95,
          23699.42,
          22891.61,
          21461.8,
          18826.8,
          17093.449999999997,
          16682.25,
          15850,
          15730,
          13242.599999999999,
          11780,
          10912.18,
          9514,
          8210.55,
          7640,
          6676,
          5825.65,
          5705.98,
          5386,
          4570,
          2972,
          2500,
          2296.38,
          2022.8,
          1090,
          1008,
          387.6,
          144,
          126.74000000000001
         ],
         "yaxis": "y"
        }
       ],
       "layout": {
        "barmode": "relative",
        "coloraxis": {
         "colorbar": {
          "title": {
           "text": "Saldo a liquidar"
          }
         },
         "colorscale": [
          [
           0,
           "rgb(255,245,240)"
          ],
          [
           0.125,
           "rgb(254,224,210)"
          ],
          [
           0.25,
           "rgb(252,187,161)"
          ],
          [
           0.375,
           "rgb(252,146,114)"
          ],
          [
           0.5,
           "rgb(251,106,74)"
          ],
          [
           0.625,
           "rgb(239,59,44)"
          ],
          [
           0.75,
           "rgb(203,24,29)"
          ],
          [
           0.875,
           "rgb(165,15,21)"
          ],
          [
           1,
           "rgb(103,0,13)"
          ]
         ]
        },
        "height": 600,
        "hovermode": "x unified",
        "legend": {
         "tracegroupgap": 0
        },
        "template": {
         "data": {
          "bar": [
           {
            "error_x": {
             "color": "#f2f5fa"
            },
            "error_y": {
             "color": "#f2f5fa"
            },
            "marker": {
             "line": {
              "color": "rgb(17,17,17)",
              "width": 0.5
             },
             "pattern": {
              "fillmode": "overlay",
              "size": 10,
              "solidity": 0.2
             }
            },
            "type": "bar"
           }
          ],
          "barpolar": [
           {
            "marker": {
             "line": {
              "color": "rgb(17,17,17)",
              "width": 0.5
             },
             "pattern": {
              "fillmode": "overlay",
              "size": 10,
              "solidity": 0.2
             }
            },
            "type": "barpolar"
           }
          ],
          "carpet": [
           {
            "aaxis": {
             "endlinecolor": "#A2B1C6",
             "gridcolor": "#506784",
             "linecolor": "#506784",
             "minorgridcolor": "#506784",
             "startlinecolor": "#A2B1C6"
            },
            "baxis": {
             "endlinecolor": "#A2B1C6",
             "gridcolor": "#506784",
             "linecolor": "#506784",
             "minorgridcolor": "#506784",
             "startlinecolor": "#A2B1C6"
            },
            "type": "carpet"
           }
          ],
          "choropleth": [
           {
            "colorbar": {
             "outlinewidth": 0,
             "ticks": ""
            },
            "type": "choropleth"
           }
          ],
          "contour": [
           {
            "colorbar": {
             "outlinewidth": 0,
             "ticks": ""
            },
            "colorscale": [
             [
              0,
              "#0d0887"
             ],
             [
              0.1111111111111111,
              "#46039f"
             ],
             [
              0.2222222222222222,
              "#7201a8"
             ],
             [
              0.3333333333333333,
              "#9c179e"
             ],
             [
              0.4444444444444444,
              "#bd3786"
             ],
             [
              0.5555555555555556,
              "#d8576b"
             ],
             [
              0.6666666666666666,
              "#ed7953"
             ],
             [
              0.7777777777777778,
              "#fb9f3a"
             ],
             [
              0.8888888888888888,
              "#fdca26"
             ],
             [
              1,
              "#f0f921"
             ]
            ],
            "type": "contour"
           }
          ],
          "contourcarpet": [
           {
            "colorbar": {
             "outlinewidth": 0,
             "ticks": ""
            },
            "type": "contourcarpet"
           }
          ],
          "heatmap": [
           {
            "colorbar": {
             "outlinewidth": 0,
             "ticks": ""
            },
            "colorscale": [
             [
              0,
              "#0d0887"
             ],
             [
              0.1111111111111111,
              "#46039f"
             ],
             [
              0.2222222222222222,
              "#7201a8"
             ],
             [
              0.3333333333333333,
              "#9c179e"
             ],
             [
              0.4444444444444444,
              "#bd3786"
             ],
             [
              0.5555555555555556,
              "#d8576b"
             ],
             [
              0.6666666666666666,
              "#ed7953"
             ],
             [
              0.7777777777777778,
              "#fb9f3a"
             ],
             [
              0.8888888888888888,
              "#fdca26"
             ],
             [
              1,
              "#f0f921"
             ]
            ],
            "type": "heatmap"
           }
          ],
          "heatmapgl": [
           {
            "colorbar": {
             "outlinewidth": 0,
             "ticks": ""
            },
            "colorscale": [
             [
              0,
              "#0d0887"
             ],
             [
              0.1111111111111111,
              "#46039f"
             ],
             [
              0.2222222222222222,
              "#7201a8"
             ],
             [
              0.3333333333333333,
              "#9c179e"
             ],
             [
              0.4444444444444444,
              "#bd3786"
             ],
             [
              0.5555555555555556,
              "#d8576b"
             ],
             [
              0.6666666666666666,
              "#ed7953"
             ],
             [
              0.7777777777777778,
              "#fb9f3a"
             ],
             [
              0.8888888888888888,
              "#fdca26"
             ],
             [
              1,
              "#f0f921"
             ]
            ],
            "type": "heatmapgl"
           }
          ],
          "histogram": [
           {
            "marker": {
             "pattern": {
              "fillmode": "overlay",
              "size": 10,
              "solidity": 0.2
             }
            },
            "type": "histogram"
           }
          ],
          "histogram2d": [
           {
            "colorbar": {
             "outlinewidth": 0,
             "ticks": ""
            },
            "colorscale": [
             [
              0,
              "#0d0887"
             ],
             [
              0.1111111111111111,
              "#46039f"
             ],
             [
              0.2222222222222222,
              "#7201a8"
             ],
             [
              0.3333333333333333,
              "#9c179e"
             ],
             [
              0.4444444444444444,
              "#bd3786"
             ],
             [
              0.5555555555555556,
              "#d8576b"
             ],
             [
              0.6666666666666666,
              "#ed7953"
             ],
             [
              0.7777777777777778,
              "#fb9f3a"
             ],
             [
              0.8888888888888888,
              "#fdca26"
             ],
             [
              1,
              "#f0f921"
             ]
            ],
            "type": "histogram2d"
           }
          ],
          "histogram2dcontour": [
           {
            "colorbar": {
             "outlinewidth": 0,
             "ticks": ""
            },
            "colorscale": [
             [
              0,
              "#0d0887"
             ],
             [
              0.1111111111111111,
              "#46039f"
             ],
             [
              0.2222222222222222,
              "#7201a8"
             ],
             [
              0.3333333333333333,
              "#9c179e"
             ],
             [
              0.4444444444444444,
              "#bd3786"
             ],
             [
              0.5555555555555556,
              "#d8576b"
             ],
             [
              0.6666666666666666,
              "#ed7953"
             ],
             [
              0.7777777777777778,
              "#fb9f3a"
             ],
             [
              0.8888888888888888,
              "#fdca26"
             ],
             [
              1,
              "#f0f921"
             ]
            ],
            "type": "histogram2dcontour"
           }
          ],
          "mesh3d": [
           {
            "colorbar": {
             "outlinewidth": 0,
             "ticks": ""
            },
            "type": "mesh3d"
           }
          ],
          "parcoords": [
           {
            "line": {
             "colorbar": {
              "outlinewidth": 0,
              "ticks": ""
             }
            },
            "type": "parcoords"
           }
          ],
          "pie": [
           {
            "automargin": true,
            "type": "pie"
           }
          ],
          "scatter": [
           {
            "marker": {
             "line": {
              "color": "#283442"
             }
            },
            "type": "scatter"
           }
          ],
          "scatter3d": [
           {
            "line": {
             "colorbar": {
              "outlinewidth": 0,
              "ticks": ""
             }
            },
            "marker": {
             "colorbar": {
              "outlinewidth": 0,
              "ticks": ""
             }
            },
            "type": "scatter3d"
           }
          ],
          "scattercarpet": [
           {
            "marker": {
             "colorbar": {
              "outlinewidth": 0,
              "ticks": ""
             }
            },
            "type": "scattercarpet"
           }
          ],
          "scattergeo": [
           {
            "marker": {
             "colorbar": {
              "outlinewidth": 0,
              "ticks": ""
             }
            },
            "type": "scattergeo"
           }
          ],
          "scattergl": [
           {
            "marker": {
             "line": {
              "color": "#283442"
             }
            },
            "type": "scattergl"
           }
          ],
          "scattermapbox": [
           {
            "marker": {
             "colorbar": {
              "outlinewidth": 0,
              "ticks": ""
             }
            },
            "type": "scattermapbox"
           }
          ],
          "scatterpolar": [
           {
            "marker": {
             "colorbar": {
              "outlinewidth": 0,
              "ticks": ""
             }
            },
            "type": "scatterpolar"
           }
          ],
          "scatterpolargl": [
           {
            "marker": {
             "colorbar": {
              "outlinewidth": 0,
              "ticks": ""
             }
            },
            "type": "scatterpolargl"
           }
          ],
          "scatterternary": [
           {
            "marker": {
             "colorbar": {
              "outlinewidth": 0,
              "ticks": ""
             }
            },
            "type": "scatterternary"
           }
          ],
          "surface": [
           {
            "colorbar": {
             "outlinewidth": 0,
             "ticks": ""
            },
            "colorscale": [
             [
              0,
              "#0d0887"
             ],
             [
              0.1111111111111111,
              "#46039f"
             ],
             [
              0.2222222222222222,
              "#7201a8"
             ],
             [
              0.3333333333333333,
              "#9c179e"
             ],
             [
              0.4444444444444444,
              "#bd3786"
             ],
             [
              0.5555555555555556,
              "#d8576b"
             ],
             [
              0.6666666666666666,
              "#ed7953"
             ],
             [
              0.7777777777777778,
              "#fb9f3a"
             ],
             [
              0.8888888888888888,
              "#fdca26"
             ],
             [
              1,
              "#f0f921"
             ]
            ],
            "type": "surface"
           }
          ],
          "table": [
           {
            "cells": {
             "fill": {
              "color": "#506784"
             },
             "line": {
              "color": "rgb(17,17,17)"
             }
            },
            "header": {
             "fill": {
              "color": "#2a3f5f"
             },
             "line": {
              "color": "rgb(17,17,17)"
             }
            },
            "type": "table"
           }
          ]
         },
         "layout": {
          "annotationdefaults": {
           "arrowcolor": "#f2f5fa",
           "arrowhead": 0,
           "arrowwidth": 1
          },
          "autotypenumbers": "strict",
          "coloraxis": {
           "colorbar": {
            "outlinewidth": 0,
            "ticks": ""
           }
          },
          "colorscale": {
           "diverging": [
            [
             0,
             "#8e0152"
            ],
            [
             0.1,
             "#c51b7d"
            ],
            [
             0.2,
             "#de77ae"
            ],
            [
             0.3,
             "#f1b6da"
            ],
            [
             0.4,
             "#fde0ef"
            ],
            [
             0.5,
             "#f7f7f7"
            ],
            [
             0.6,
             "#e6f5d0"
            ],
            [
             0.7,
             "#b8e186"
            ],
            [
             0.8,
             "#7fbc41"
            ],
            [
             0.9,
             "#4d9221"
            ],
            [
             1,
             "#276419"
            ]
           ],
           "sequential": [
            [
             0,
             "#0d0887"
            ],
            [
             0.1111111111111111,
             "#46039f"
            ],
            [
             0.2222222222222222,
             "#7201a8"
            ],
            [
             0.3333333333333333,
             "#9c179e"
            ],
            [
             0.4444444444444444,
             "#bd3786"
            ],
            [
             0.5555555555555556,
             "#d8576b"
            ],
            [
             0.6666666666666666,
             "#ed7953"
            ],
            [
             0.7777777777777778,
             "#fb9f3a"
            ],
            [
             0.8888888888888888,
             "#fdca26"
            ],
            [
             1,
             "#f0f921"
            ]
           ],
           "sequentialminus": [
            [
             0,
             "#0d0887"
            ],
            [
             0.1111111111111111,
             "#46039f"
            ],
            [
             0.2222222222222222,
             "#7201a8"
            ],
            [
             0.3333333333333333,
             "#9c179e"
            ],
            [
             0.4444444444444444,
             "#bd3786"
            ],
            [
             0.5555555555555556,
             "#d8576b"
            ],
            [
             0.6666666666666666,
             "#ed7953"
            ],
            [
             0.7777777777777778,
             "#fb9f3a"
            ],
            [
             0.8888888888888888,
             "#fdca26"
            ],
            [
             1,
             "#f0f921"
            ]
           ]
          },
          "colorway": [
           "#636efa",
           "#EF553B",
           "#00cc96",
           "#ab63fa",
           "#FFA15A",
           "#19d3f3",
           "#FF6692",
           "#B6E880",
           "#FF97FF",
           "#FECB52"
          ],
          "font": {
           "color": "#f2f5fa"
          },
          "geo": {
           "bgcolor": "rgb(17,17,17)",
           "lakecolor": "rgb(17,17,17)",
           "landcolor": "rgb(17,17,17)",
           "showlakes": true,
           "showland": true,
           "subunitcolor": "#506784"
          },
          "hoverlabel": {
           "align": "left"
          },
          "hovermode": "closest",
          "mapbox": {
           "style": "dark"
          },
          "paper_bgcolor": "rgb(17,17,17)",
          "plot_bgcolor": "rgb(17,17,17)",
          "polar": {
           "angularaxis": {
            "gridcolor": "#506784",
            "linecolor": "#506784",
            "ticks": ""
           },
           "bgcolor": "rgb(17,17,17)",
           "radialaxis": {
            "gridcolor": "#506784",
            "linecolor": "#506784",
            "ticks": ""
           }
          },
          "scene": {
           "xaxis": {
            "backgroundcolor": "rgb(17,17,17)",
            "gridcolor": "#506784",
            "gridwidth": 2,
            "linecolor": "#506784",
            "showbackground": true,
            "ticks": "",
            "zerolinecolor": "#C8D4E3"
           },
           "yaxis": {
            "backgroundcolor": "rgb(17,17,17)",
            "gridcolor": "#506784",
            "gridwidth": 2,
            "linecolor": "#506784",
            "showbackground": true,
            "ticks": "",
            "zerolinecolor": "#C8D4E3"
           },
           "zaxis": {
            "backgroundcolor": "rgb(17,17,17)",
            "gridcolor": "#506784",
            "gridwidth": 2,
            "linecolor": "#506784",
            "showbackground": true,
            "ticks": "",
            "zerolinecolor": "#C8D4E3"
           }
          },
          "shapedefaults": {
           "line": {
            "color": "#f2f5fa"
           }
          },
          "sliderdefaults": {
           "bgcolor": "#C8D4E3",
           "bordercolor": "rgb(17,17,17)",
           "borderwidth": 1,
           "tickwidth": 0
          },
          "ternary": {
           "aaxis": {
            "gridcolor": "#506784",
            "linecolor": "#506784",
            "ticks": ""
           },
           "baxis": {
            "gridcolor": "#506784",
            "linecolor": "#506784",
            "ticks": ""
           },
           "bgcolor": "rgb(17,17,17)",
           "caxis": {
            "gridcolor": "#506784",
            "linecolor": "#506784",
            "ticks": ""
           }
          },
          "title": {
           "x": 0.05
          },
          "updatemenudefaults": {
           "bgcolor": "#506784",
           "borderwidth": 0
          },
          "xaxis": {
           "automargin": true,
           "gridcolor": "#283442",
           "linecolor": "#506784",
           "ticks": "",
           "title": {
            "standoff": 15
           },
           "zerolinecolor": "#283442",
           "zerolinewidth": 2
          },
          "yaxis": {
           "automargin": true,
           "gridcolor": "#283442",
           "linecolor": "#506784",
           "ticks": "",
           "title": {
            "standoff": 15
           },
           "zerolinecolor": "#283442",
           "zerolinewidth": 2
          }
         }
        },
        "title": {
         "text": "Saldo a liquidar por NDSI"
        },
        "xaxis": {
         "anchor": "y",
         "domain": [
          0,
          1
         ],
         "title": {
          "text": "Subitem da despesa"
         }
        },
        "yaxis": {
         "anchor": "x",
         "domain": [
          0,
          1
         ],
         "title": {
          "text": "Saldo a liquidar"
         },
         "type": "log"
        }
       }
      }
     },
     "metadata": {},
     "output_type": "display_data"
    }
   ],
   "source": [
    "# Saldo a liquidar por Subitem\n",
    "cols = ['NDSI', 'A_LIQUIDAR']\n",
    "\n",
    "df_aux = df.loc[:, cols].groupby('NDSI').sum().sort_values(by= 'A_LIQUIDAR', ascending=False).reset_index()\n",
    "df_aux = df_aux[df_aux['A_LIQUIDAR'] > 0]\n",
    "fig = px.bar(df_aux, \n",
    "             x='NDSI', \n",
    "             y='A_LIQUIDAR',\n",
    "             title='Saldo a liquidar por NDSI',\n",
    "             labels={'NDSI':'Subitem da despesa', 'A_LIQUIDAR':'Saldo a liquidar'},\n",
    "             text_auto='.3s',\n",
    "             height=600,\n",
    "             log_y=True,\n",
    "             color='A_LIQUIDAR',\n",
    "             color_continuous_scale = 'reds',\n",
    "             template='plotly_dark')\n",
    "fig.update_traces(textposition = 'outside', cliponaxis = False, hovertemplate=None)\n",
    "fig.update_layout(hovermode=\"x unified\")\n",
    "\n",
    "fig.show()"
   ]
  },
  {
   "cell_type": "code",
   "execution_count": 7,
   "metadata": {},
   "outputs": [
    {
     "data": {
      "application/vnd.plotly.v1+json": {
       "config": {
        "plotlyServerURL": "https://plot.ly"
       },
       "data": [
        {
         "alignmentgroup": "True",
         "cliponaxis": false,
         "legendgroup": "",
         "marker": {
          "color": [
           1899067.01,
           1060674.04,
           821970.63,
           645215.99,
           587245.8999999999,
           519029.72,
           370949.27,
           357676.31,
           117515.6,
           116637.05,
           111514.17,
           111463.9,
           108733.36,
           78211.86,
           70622.56,
           64998.92,
           60060,
           49750,
           44753.7,
           44005.46,
           39375.89,
           33712.12,
           27070.98,
           24000,
           22900,
           22328.95,
           22260,
           22191.61,
           21685.84,
           19900.75,
           18730.09,
           17690.02,
           15730,
           14828,
           12669.85,
           12475.97,
           12064,
           10656.59,
           9514,
           8089.84,
           7920,
           7818.34,
           7667.34,
           7095.9,
           6991.6,
           6146.7,
           5386,
           5363.98,
           4117.9800000000005,
           4016.73,
           3299,
           2814.6,
           2612.7,
           2500,
           2296.38,
           1941.6,
           1852.47,
           1700,
           1482.37,
           1322.8,
           1008,
           508.95,
           478.06,
           476.05,
           238.22,
           216.55,
           135.45,
           126.74000000000001,
           113.59,
           98.88
          ],
          "coloraxis": "coloraxis",
          "pattern": {
           "shape": ""
          }
         },
         "name": "",
         "offsetgroup": "",
         "orientation": "v",
         "showlegend": false,
         "textposition": "outside",
         "texttemplate": "%{y:.3s}",
         "type": "bar",
         "x": [
          "CAPACITACAO DE PESSOAL",
          "SMEM ESTABELECIMENTOS DE ENSINO",
          "DESPESAS COM ENERGIA ELETRICA",
          "LIMPEZA DE BENS IMÓVEIS",
          "CONCURSOS AS ESCOLAS MILITARES",
          "AQUARTELAMENTO",
          "REVITALIZAR O SIST COLEGIO MILITAR DO BRASIL",
          "CONSTRUIR E ADEQUAR INST SIST EDU E CULT EB",
          "SUPRIMENTO E MANUTENCAO MOTOMECANIZACAO",
          "MATERIAL DE INTENDÊNCIA",
          "A5PA - PASA",
          "ADMINISTRACAO DE OM",
          "A1QR - QUANTITATIVO DE RANCHO",
          "SUPRIMENTO E MANUTENCAO MOTOMECANIZACAO_BLIND",
          "MNT DE MÁQ E EQP ADMINISTRATIVOS",
          "MANUTENCÃO CL IX SMEM MOTOMECANIZADO",
          "SUP MAT E EQUIPAMENTOS ADMINISTRATIVOS",
          "ATS - ATIVIDADES SETORIAIS",
          "ORGANIZACAO CIVIL DE SAUDE",
          "OUTROS",
          "PNR (UG)",
          "UNIDADE GESTORA DE PRODUCAO",
          "REMONTA E VETERINÁRIA",
          "TRANSPORTE-DIARIAS",
          "FUNDO EXÉRCITO - DECEX",
          "DIARIAS",
          "SERVICO POSTAIS",
          "CONCESSIONÁRIAS DE ÁGUA E ESGOTO",
          "PLANO DE INVESTIMENTO E MANUTENCAO",
          "MEDIDAS PROFILÁT SAÚDE EQUINOS",
          "SERVICO DE TELEFONIA FIXA",
          "ADEQUACAO AMBIENTAL E PATRIMONIAL.",
          "INDENIZACAO DESPESAS.",
          "ESTAGIO DE PREP P MISSAO DE ADIDOS E AUX",
          "RESERVA  (DETMIL)",
          "INFORMATICA",
          "ASSISTENCIA SOCIAL",
          "DIAR - DIARIAS",
          "MNT DE SISTEMAS DE INFORMACãO E COMUNICACãO",
          "MANUTENCAO DE AMBULANCIAS ADMINISTRATIVAS",
          "SERVICO DE TELEFONIA MOVEL",
          "CRÉDITO PARA CUTEAR ATIVIDADES DO SAREX",
          "MANUTENCAO DE MAQUINAS E EQUIP ADMINISTRATIVO",
          "ALIMENTACAO PARA CANINOS.",
          "MNT DE AQUARTELAMENTO",
          "ALIMENTACAO PARA EQUINOS.",
          "REVISTA DE AUDITORIA DE CONTAS MÉDICAS",
          "RESER - APOIO DPHCEX",
          "DESLOCAMENTOS EM MISSÕES DA ASSISTÊNCIA SOCIA",
          "SUPRIMENTO E MANUTENCAO - MB - DIARIAS",
          "ADMINISTRACAO DA OM",
          "DESPESAS GERAIS",
          "DESL PARA CURSOS E ESTAGIOS NO AMBITODO EB",
          "CERTIFICACAO DIGITAL",
          "IND - INDENIZACOES",
          "A3RR - QUANTITATIVO DE RANCHO",
          "FUNADOM - DPGO",
          "FAOPPREADES",
          "COLEGIO MILITAR - ADMINISTRACAO",
          "MEDIDAS PROFILÁT SAÚDE CANINOS.",
          "DESCENTRALIZACAO DE RECURSOS ARMAMENTOS",
          "EXMES MEDICOS PRIODICOS",
          "LAVAGEM DE ROUPAS PARA A VIDA VEGETATIVA OM",
          "SUPRIMENTO E MANUTENCAO - MB - PASSAGENS",
          "SERVICOS DE PROTECAO A RADIACAO IONIZANTE",
          "MIS EXT REQS TRNP BAG INTER",
          "APRESENTACAO E SELECAO",
          "TAXA DE LIMPEZA PUBLICA",
          "FATOR DE CUSTO - DIARIAS E PASSAGEM",
          "FATOR DE CUSTO - CONTRATO DE OBJETIVOS"
         ],
         "xaxis": "x",
         "y": [
          1899067.01,
          1060674.04,
          821970.63,
          645215.99,
          587245.8999999999,
          519029.72,
          370949.27,
          357676.31,
          117515.6,
          116637.05,
          111514.17,
          111463.9,
          108733.36,
          78211.86,
          70622.56,
          64998.92,
          60060,
          49750,
          44753.7,
          44005.46,
          39375.89,
          33712.12,
          27070.98,
          24000,
          22900,
          22328.95,
          22260,
          22191.61,
          21685.84,
          19900.75,
          18730.09,
          17690.02,
          15730,
          14828,
          12669.85,
          12475.97,
          12064,
          10656.59,
          9514,
          8089.84,
          7920,
          7818.34,
          7667.34,
          7095.9,
          6991.6,
          6146.7,
          5386,
          5363.98,
          4117.9800000000005,
          4016.73,
          3299,
          2814.6,
          2612.7,
          2500,
          2296.38,
          1941.6,
          1852.47,
          1700,
          1482.37,
          1322.8,
          1008,
          508.95,
          478.06,
          476.05,
          238.22,
          216.55,
          135.45,
          126.74000000000001,
          113.59,
          98.88
         ],
         "yaxis": "y"
        }
       ],
       "layout": {
        "barmode": "relative",
        "coloraxis": {
         "colorbar": {
          "title": {
           "text": "Saldo a liquidar"
          }
         },
         "colorscale": [
          [
           0,
           "rgb(255,245,240)"
          ],
          [
           0.125,
           "rgb(254,224,210)"
          ],
          [
           0.25,
           "rgb(252,187,161)"
          ],
          [
           0.375,
           "rgb(252,146,114)"
          ],
          [
           0.5,
           "rgb(251,106,74)"
          ],
          [
           0.625,
           "rgb(239,59,44)"
          ],
          [
           0.75,
           "rgb(203,24,29)"
          ],
          [
           0.875,
           "rgb(165,15,21)"
          ],
          [
           1,
           "rgb(103,0,13)"
          ]
         ]
        },
        "height": 800,
        "hovermode": "x unified",
        "legend": {
         "tracegroupgap": 0
        },
        "template": {
         "data": {
          "bar": [
           {
            "error_x": {
             "color": "#f2f5fa"
            },
            "error_y": {
             "color": "#f2f5fa"
            },
            "marker": {
             "line": {
              "color": "rgb(17,17,17)",
              "width": 0.5
             },
             "pattern": {
              "fillmode": "overlay",
              "size": 10,
              "solidity": 0.2
             }
            },
            "type": "bar"
           }
          ],
          "barpolar": [
           {
            "marker": {
             "line": {
              "color": "rgb(17,17,17)",
              "width": 0.5
             },
             "pattern": {
              "fillmode": "overlay",
              "size": 10,
              "solidity": 0.2
             }
            },
            "type": "barpolar"
           }
          ],
          "carpet": [
           {
            "aaxis": {
             "endlinecolor": "#A2B1C6",
             "gridcolor": "#506784",
             "linecolor": "#506784",
             "minorgridcolor": "#506784",
             "startlinecolor": "#A2B1C6"
            },
            "baxis": {
             "endlinecolor": "#A2B1C6",
             "gridcolor": "#506784",
             "linecolor": "#506784",
             "minorgridcolor": "#506784",
             "startlinecolor": "#A2B1C6"
            },
            "type": "carpet"
           }
          ],
          "choropleth": [
           {
            "colorbar": {
             "outlinewidth": 0,
             "ticks": ""
            },
            "type": "choropleth"
           }
          ],
          "contour": [
           {
            "colorbar": {
             "outlinewidth": 0,
             "ticks": ""
            },
            "colorscale": [
             [
              0,
              "#0d0887"
             ],
             [
              0.1111111111111111,
              "#46039f"
             ],
             [
              0.2222222222222222,
              "#7201a8"
             ],
             [
              0.3333333333333333,
              "#9c179e"
             ],
             [
              0.4444444444444444,
              "#bd3786"
             ],
             [
              0.5555555555555556,
              "#d8576b"
             ],
             [
              0.6666666666666666,
              "#ed7953"
             ],
             [
              0.7777777777777778,
              "#fb9f3a"
             ],
             [
              0.8888888888888888,
              "#fdca26"
             ],
             [
              1,
              "#f0f921"
             ]
            ],
            "type": "contour"
           }
          ],
          "contourcarpet": [
           {
            "colorbar": {
             "outlinewidth": 0,
             "ticks": ""
            },
            "type": "contourcarpet"
           }
          ],
          "heatmap": [
           {
            "colorbar": {
             "outlinewidth": 0,
             "ticks": ""
            },
            "colorscale": [
             [
              0,
              "#0d0887"
             ],
             [
              0.1111111111111111,
              "#46039f"
             ],
             [
              0.2222222222222222,
              "#7201a8"
             ],
             [
              0.3333333333333333,
              "#9c179e"
             ],
             [
              0.4444444444444444,
              "#bd3786"
             ],
             [
              0.5555555555555556,
              "#d8576b"
             ],
             [
              0.6666666666666666,
              "#ed7953"
             ],
             [
              0.7777777777777778,
              "#fb9f3a"
             ],
             [
              0.8888888888888888,
              "#fdca26"
             ],
             [
              1,
              "#f0f921"
             ]
            ],
            "type": "heatmap"
           }
          ],
          "heatmapgl": [
           {
            "colorbar": {
             "outlinewidth": 0,
             "ticks": ""
            },
            "colorscale": [
             [
              0,
              "#0d0887"
             ],
             [
              0.1111111111111111,
              "#46039f"
             ],
             [
              0.2222222222222222,
              "#7201a8"
             ],
             [
              0.3333333333333333,
              "#9c179e"
             ],
             [
              0.4444444444444444,
              "#bd3786"
             ],
             [
              0.5555555555555556,
              "#d8576b"
             ],
             [
              0.6666666666666666,
              "#ed7953"
             ],
             [
              0.7777777777777778,
              "#fb9f3a"
             ],
             [
              0.8888888888888888,
              "#fdca26"
             ],
             [
              1,
              "#f0f921"
             ]
            ],
            "type": "heatmapgl"
           }
          ],
          "histogram": [
           {
            "marker": {
             "pattern": {
              "fillmode": "overlay",
              "size": 10,
              "solidity": 0.2
             }
            },
            "type": "histogram"
           }
          ],
          "histogram2d": [
           {
            "colorbar": {
             "outlinewidth": 0,
             "ticks": ""
            },
            "colorscale": [
             [
              0,
              "#0d0887"
             ],
             [
              0.1111111111111111,
              "#46039f"
             ],
             [
              0.2222222222222222,
              "#7201a8"
             ],
             [
              0.3333333333333333,
              "#9c179e"
             ],
             [
              0.4444444444444444,
              "#bd3786"
             ],
             [
              0.5555555555555556,
              "#d8576b"
             ],
             [
              0.6666666666666666,
              "#ed7953"
             ],
             [
              0.7777777777777778,
              "#fb9f3a"
             ],
             [
              0.8888888888888888,
              "#fdca26"
             ],
             [
              1,
              "#f0f921"
             ]
            ],
            "type": "histogram2d"
           }
          ],
          "histogram2dcontour": [
           {
            "colorbar": {
             "outlinewidth": 0,
             "ticks": ""
            },
            "colorscale": [
             [
              0,
              "#0d0887"
             ],
             [
              0.1111111111111111,
              "#46039f"
             ],
             [
              0.2222222222222222,
              "#7201a8"
             ],
             [
              0.3333333333333333,
              "#9c179e"
             ],
             [
              0.4444444444444444,
              "#bd3786"
             ],
             [
              0.5555555555555556,
              "#d8576b"
             ],
             [
              0.6666666666666666,
              "#ed7953"
             ],
             [
              0.7777777777777778,
              "#fb9f3a"
             ],
             [
              0.8888888888888888,
              "#fdca26"
             ],
             [
              1,
              "#f0f921"
             ]
            ],
            "type": "histogram2dcontour"
           }
          ],
          "mesh3d": [
           {
            "colorbar": {
             "outlinewidth": 0,
             "ticks": ""
            },
            "type": "mesh3d"
           }
          ],
          "parcoords": [
           {
            "line": {
             "colorbar": {
              "outlinewidth": 0,
              "ticks": ""
             }
            },
            "type": "parcoords"
           }
          ],
          "pie": [
           {
            "automargin": true,
            "type": "pie"
           }
          ],
          "scatter": [
           {
            "marker": {
             "line": {
              "color": "#283442"
             }
            },
            "type": "scatter"
           }
          ],
          "scatter3d": [
           {
            "line": {
             "colorbar": {
              "outlinewidth": 0,
              "ticks": ""
             }
            },
            "marker": {
             "colorbar": {
              "outlinewidth": 0,
              "ticks": ""
             }
            },
            "type": "scatter3d"
           }
          ],
          "scattercarpet": [
           {
            "marker": {
             "colorbar": {
              "outlinewidth": 0,
              "ticks": ""
             }
            },
            "type": "scattercarpet"
           }
          ],
          "scattergeo": [
           {
            "marker": {
             "colorbar": {
              "outlinewidth": 0,
              "ticks": ""
             }
            },
            "type": "scattergeo"
           }
          ],
          "scattergl": [
           {
            "marker": {
             "line": {
              "color": "#283442"
             }
            },
            "type": "scattergl"
           }
          ],
          "scattermapbox": [
           {
            "marker": {
             "colorbar": {
              "outlinewidth": 0,
              "ticks": ""
             }
            },
            "type": "scattermapbox"
           }
          ],
          "scatterpolar": [
           {
            "marker": {
             "colorbar": {
              "outlinewidth": 0,
              "ticks": ""
             }
            },
            "type": "scatterpolar"
           }
          ],
          "scatterpolargl": [
           {
            "marker": {
             "colorbar": {
              "outlinewidth": 0,
              "ticks": ""
             }
            },
            "type": "scatterpolargl"
           }
          ],
          "scatterternary": [
           {
            "marker": {
             "colorbar": {
              "outlinewidth": 0,
              "ticks": ""
             }
            },
            "type": "scatterternary"
           }
          ],
          "surface": [
           {
            "colorbar": {
             "outlinewidth": 0,
             "ticks": ""
            },
            "colorscale": [
             [
              0,
              "#0d0887"
             ],
             [
              0.1111111111111111,
              "#46039f"
             ],
             [
              0.2222222222222222,
              "#7201a8"
             ],
             [
              0.3333333333333333,
              "#9c179e"
             ],
             [
              0.4444444444444444,
              "#bd3786"
             ],
             [
              0.5555555555555556,
              "#d8576b"
             ],
             [
              0.6666666666666666,
              "#ed7953"
             ],
             [
              0.7777777777777778,
              "#fb9f3a"
             ],
             [
              0.8888888888888888,
              "#fdca26"
             ],
             [
              1,
              "#f0f921"
             ]
            ],
            "type": "surface"
           }
          ],
          "table": [
           {
            "cells": {
             "fill": {
              "color": "#506784"
             },
             "line": {
              "color": "rgb(17,17,17)"
             }
            },
            "header": {
             "fill": {
              "color": "#2a3f5f"
             },
             "line": {
              "color": "rgb(17,17,17)"
             }
            },
            "type": "table"
           }
          ]
         },
         "layout": {
          "annotationdefaults": {
           "arrowcolor": "#f2f5fa",
           "arrowhead": 0,
           "arrowwidth": 1
          },
          "autotypenumbers": "strict",
          "coloraxis": {
           "colorbar": {
            "outlinewidth": 0,
            "ticks": ""
           }
          },
          "colorscale": {
           "diverging": [
            [
             0,
             "#8e0152"
            ],
            [
             0.1,
             "#c51b7d"
            ],
            [
             0.2,
             "#de77ae"
            ],
            [
             0.3,
             "#f1b6da"
            ],
            [
             0.4,
             "#fde0ef"
            ],
            [
             0.5,
             "#f7f7f7"
            ],
            [
             0.6,
             "#e6f5d0"
            ],
            [
             0.7,
             "#b8e186"
            ],
            [
             0.8,
             "#7fbc41"
            ],
            [
             0.9,
             "#4d9221"
            ],
            [
             1,
             "#276419"
            ]
           ],
           "sequential": [
            [
             0,
             "#0d0887"
            ],
            [
             0.1111111111111111,
             "#46039f"
            ],
            [
             0.2222222222222222,
             "#7201a8"
            ],
            [
             0.3333333333333333,
             "#9c179e"
            ],
            [
             0.4444444444444444,
             "#bd3786"
            ],
            [
             0.5555555555555556,
             "#d8576b"
            ],
            [
             0.6666666666666666,
             "#ed7953"
            ],
            [
             0.7777777777777778,
             "#fb9f3a"
            ],
            [
             0.8888888888888888,
             "#fdca26"
            ],
            [
             1,
             "#f0f921"
            ]
           ],
           "sequentialminus": [
            [
             0,
             "#0d0887"
            ],
            [
             0.1111111111111111,
             "#46039f"
            ],
            [
             0.2222222222222222,
             "#7201a8"
            ],
            [
             0.3333333333333333,
             "#9c179e"
            ],
            [
             0.4444444444444444,
             "#bd3786"
            ],
            [
             0.5555555555555556,
             "#d8576b"
            ],
            [
             0.6666666666666666,
             "#ed7953"
            ],
            [
             0.7777777777777778,
             "#fb9f3a"
            ],
            [
             0.8888888888888888,
             "#fdca26"
            ],
            [
             1,
             "#f0f921"
            ]
           ]
          },
          "colorway": [
           "#636efa",
           "#EF553B",
           "#00cc96",
           "#ab63fa",
           "#FFA15A",
           "#19d3f3",
           "#FF6692",
           "#B6E880",
           "#FF97FF",
           "#FECB52"
          ],
          "font": {
           "color": "#f2f5fa"
          },
          "geo": {
           "bgcolor": "rgb(17,17,17)",
           "lakecolor": "rgb(17,17,17)",
           "landcolor": "rgb(17,17,17)",
           "showlakes": true,
           "showland": true,
           "subunitcolor": "#506784"
          },
          "hoverlabel": {
           "align": "left"
          },
          "hovermode": "closest",
          "mapbox": {
           "style": "dark"
          },
          "paper_bgcolor": "rgb(17,17,17)",
          "plot_bgcolor": "rgb(17,17,17)",
          "polar": {
           "angularaxis": {
            "gridcolor": "#506784",
            "linecolor": "#506784",
            "ticks": ""
           },
           "bgcolor": "rgb(17,17,17)",
           "radialaxis": {
            "gridcolor": "#506784",
            "linecolor": "#506784",
            "ticks": ""
           }
          },
          "scene": {
           "xaxis": {
            "backgroundcolor": "rgb(17,17,17)",
            "gridcolor": "#506784",
            "gridwidth": 2,
            "linecolor": "#506784",
            "showbackground": true,
            "ticks": "",
            "zerolinecolor": "#C8D4E3"
           },
           "yaxis": {
            "backgroundcolor": "rgb(17,17,17)",
            "gridcolor": "#506784",
            "gridwidth": 2,
            "linecolor": "#506784",
            "showbackground": true,
            "ticks": "",
            "zerolinecolor": "#C8D4E3"
           },
           "zaxis": {
            "backgroundcolor": "rgb(17,17,17)",
            "gridcolor": "#506784",
            "gridwidth": 2,
            "linecolor": "#506784",
            "showbackground": true,
            "ticks": "",
            "zerolinecolor": "#C8D4E3"
           }
          },
          "shapedefaults": {
           "line": {
            "color": "#f2f5fa"
           }
          },
          "sliderdefaults": {
           "bgcolor": "#C8D4E3",
           "bordercolor": "rgb(17,17,17)",
           "borderwidth": 1,
           "tickwidth": 0
          },
          "ternary": {
           "aaxis": {
            "gridcolor": "#506784",
            "linecolor": "#506784",
            "ticks": ""
           },
           "baxis": {
            "gridcolor": "#506784",
            "linecolor": "#506784",
            "ticks": ""
           },
           "bgcolor": "rgb(17,17,17)",
           "caxis": {
            "gridcolor": "#506784",
            "linecolor": "#506784",
            "ticks": ""
           }
          },
          "title": {
           "x": 0.05
          },
          "updatemenudefaults": {
           "bgcolor": "#506784",
           "borderwidth": 0
          },
          "xaxis": {
           "automargin": true,
           "gridcolor": "#283442",
           "linecolor": "#506784",
           "ticks": "",
           "title": {
            "standoff": 15
           },
           "zerolinecolor": "#283442",
           "zerolinewidth": 2
          },
          "yaxis": {
           "automargin": true,
           "gridcolor": "#283442",
           "linecolor": "#506784",
           "ticks": "",
           "title": {
            "standoff": 15
           },
           "zerolinecolor": "#283442",
           "zerolinewidth": 2
          }
         }
        },
        "title": {
         "text": "Saldo a liquidar por PI"
        },
        "xaxis": {
         "anchor": "y",
         "domain": [
          0,
          1
         ],
         "title": {
          "text": "Tipo de PI"
         }
        },
        "yaxis": {
         "anchor": "x",
         "domain": [
          0,
          1
         ],
         "title": {
          "text": "Saldo a liquidar"
         },
         "type": "log"
        }
       }
      }
     },
     "metadata": {},
     "output_type": "display_data"
    }
   ],
   "source": [
    "# Saldo a liquidar por tipo de PI\n",
    "cols = ['NOME_PI', 'A_LIQUIDAR']\n",
    "\n",
    "df_aux = df.loc[:, cols].groupby('NOME_PI').sum().sort_values(by= 'A_LIQUIDAR', ascending=False).reset_index()\n",
    "df_aux = df_aux[df_aux['A_LIQUIDAR'] > 0]\n",
    "fig = px.bar(df_aux, \n",
    "             x='NOME_PI', \n",
    "             y='A_LIQUIDAR',\n",
    "             title='Saldo a liquidar por PI',\n",
    "             labels={'NOME_PI':'Tipo de PI', 'A_LIQUIDAR':'Saldo a liquidar'},\n",
    "             text_auto='.3s',\n",
    "             height=800,\n",
    "             log_y=True,\n",
    "             color='A_LIQUIDAR',\n",
    "             color_continuous_scale = 'reds',\n",
    "             template='plotly_dark')\n",
    "fig.update_traces(textposition = 'outside', cliponaxis = False, hovertemplate=None)\n",
    "fig.update_layout(hovermode=\"x unified\")\n",
    "\n",
    "fig.show()"
   ]
  },
  {
   "cell_type": "code",
   "execution_count": 8,
   "metadata": {},
   "outputs": [
    {
     "data": {
      "application/vnd.plotly.v1+json": {
       "config": {
        "plotlyServerURL": "https://plot.ly"
       },
       "data": [
        {
         "alignmentgroup": "True",
         "cliponaxis": false,
         "legendgroup": "",
         "marker": {
          "color": [
           6631147.2700000005,
           1084569.66
          ],
          "coloraxis": "coloraxis",
          "pattern": {
           "shape": ""
          }
         },
         "name": "",
         "offsetgroup": "",
         "orientation": "v",
         "showlegend": false,
         "textposition": "outside",
         "texttemplate": "%{y:.3s}",
         "type": "bar",
         "x": [
          "ANO",
          "RPNP"
         ],
         "xaxis": "x",
         "y": [
          6631147.2700000005,
          1084569.66
         ],
         "yaxis": "y"
        }
       ],
       "layout": {
        "barmode": "relative",
        "coloraxis": {
         "colorbar": {
          "title": {
           "text": "Saldo a liquidar"
          }
         },
         "colorscale": [
          [
           0,
           "rgb(255,245,240)"
          ],
          [
           0.125,
           "rgb(254,224,210)"
          ],
          [
           0.25,
           "rgb(252,187,161)"
          ],
          [
           0.375,
           "rgb(252,146,114)"
          ],
          [
           0.5,
           "rgb(251,106,74)"
          ],
          [
           0.625,
           "rgb(239,59,44)"
          ],
          [
           0.75,
           "rgb(203,24,29)"
          ],
          [
           0.875,
           "rgb(165,15,21)"
          ],
          [
           1,
           "rgb(103,0,13)"
          ]
         ]
        },
        "height": 400,
        "hovermode": "x unified",
        "legend": {
         "tracegroupgap": 0
        },
        "template": {
         "data": {
          "bar": [
           {
            "error_x": {
             "color": "#f2f5fa"
            },
            "error_y": {
             "color": "#f2f5fa"
            },
            "marker": {
             "line": {
              "color": "rgb(17,17,17)",
              "width": 0.5
             },
             "pattern": {
              "fillmode": "overlay",
              "size": 10,
              "solidity": 0.2
             }
            },
            "type": "bar"
           }
          ],
          "barpolar": [
           {
            "marker": {
             "line": {
              "color": "rgb(17,17,17)",
              "width": 0.5
             },
             "pattern": {
              "fillmode": "overlay",
              "size": 10,
              "solidity": 0.2
             }
            },
            "type": "barpolar"
           }
          ],
          "carpet": [
           {
            "aaxis": {
             "endlinecolor": "#A2B1C6",
             "gridcolor": "#506784",
             "linecolor": "#506784",
             "minorgridcolor": "#506784",
             "startlinecolor": "#A2B1C6"
            },
            "baxis": {
             "endlinecolor": "#A2B1C6",
             "gridcolor": "#506784",
             "linecolor": "#506784",
             "minorgridcolor": "#506784",
             "startlinecolor": "#A2B1C6"
            },
            "type": "carpet"
           }
          ],
          "choropleth": [
           {
            "colorbar": {
             "outlinewidth": 0,
             "ticks": ""
            },
            "type": "choropleth"
           }
          ],
          "contour": [
           {
            "colorbar": {
             "outlinewidth": 0,
             "ticks": ""
            },
            "colorscale": [
             [
              0,
              "#0d0887"
             ],
             [
              0.1111111111111111,
              "#46039f"
             ],
             [
              0.2222222222222222,
              "#7201a8"
             ],
             [
              0.3333333333333333,
              "#9c179e"
             ],
             [
              0.4444444444444444,
              "#bd3786"
             ],
             [
              0.5555555555555556,
              "#d8576b"
             ],
             [
              0.6666666666666666,
              "#ed7953"
             ],
             [
              0.7777777777777778,
              "#fb9f3a"
             ],
             [
              0.8888888888888888,
              "#fdca26"
             ],
             [
              1,
              "#f0f921"
             ]
            ],
            "type": "contour"
           }
          ],
          "contourcarpet": [
           {
            "colorbar": {
             "outlinewidth": 0,
             "ticks": ""
            },
            "type": "contourcarpet"
           }
          ],
          "heatmap": [
           {
            "colorbar": {
             "outlinewidth": 0,
             "ticks": ""
            },
            "colorscale": [
             [
              0,
              "#0d0887"
             ],
             [
              0.1111111111111111,
              "#46039f"
             ],
             [
              0.2222222222222222,
              "#7201a8"
             ],
             [
              0.3333333333333333,
              "#9c179e"
             ],
             [
              0.4444444444444444,
              "#bd3786"
             ],
             [
              0.5555555555555556,
              "#d8576b"
             ],
             [
              0.6666666666666666,
              "#ed7953"
             ],
             [
              0.7777777777777778,
              "#fb9f3a"
             ],
             [
              0.8888888888888888,
              "#fdca26"
             ],
             [
              1,
              "#f0f921"
             ]
            ],
            "type": "heatmap"
           }
          ],
          "heatmapgl": [
           {
            "colorbar": {
             "outlinewidth": 0,
             "ticks": ""
            },
            "colorscale": [
             [
              0,
              "#0d0887"
             ],
             [
              0.1111111111111111,
              "#46039f"
             ],
             [
              0.2222222222222222,
              "#7201a8"
             ],
             [
              0.3333333333333333,
              "#9c179e"
             ],
             [
              0.4444444444444444,
              "#bd3786"
             ],
             [
              0.5555555555555556,
              "#d8576b"
             ],
             [
              0.6666666666666666,
              "#ed7953"
             ],
             [
              0.7777777777777778,
              "#fb9f3a"
             ],
             [
              0.8888888888888888,
              "#fdca26"
             ],
             [
              1,
              "#f0f921"
             ]
            ],
            "type": "heatmapgl"
           }
          ],
          "histogram": [
           {
            "marker": {
             "pattern": {
              "fillmode": "overlay",
              "size": 10,
              "solidity": 0.2
             }
            },
            "type": "histogram"
           }
          ],
          "histogram2d": [
           {
            "colorbar": {
             "outlinewidth": 0,
             "ticks": ""
            },
            "colorscale": [
             [
              0,
              "#0d0887"
             ],
             [
              0.1111111111111111,
              "#46039f"
             ],
             [
              0.2222222222222222,
              "#7201a8"
             ],
             [
              0.3333333333333333,
              "#9c179e"
             ],
             [
              0.4444444444444444,
              "#bd3786"
             ],
             [
              0.5555555555555556,
              "#d8576b"
             ],
             [
              0.6666666666666666,
              "#ed7953"
             ],
             [
              0.7777777777777778,
              "#fb9f3a"
             ],
             [
              0.8888888888888888,
              "#fdca26"
             ],
             [
              1,
              "#f0f921"
             ]
            ],
            "type": "histogram2d"
           }
          ],
          "histogram2dcontour": [
           {
            "colorbar": {
             "outlinewidth": 0,
             "ticks": ""
            },
            "colorscale": [
             [
              0,
              "#0d0887"
             ],
             [
              0.1111111111111111,
              "#46039f"
             ],
             [
              0.2222222222222222,
              "#7201a8"
             ],
             [
              0.3333333333333333,
              "#9c179e"
             ],
             [
              0.4444444444444444,
              "#bd3786"
             ],
             [
              0.5555555555555556,
              "#d8576b"
             ],
             [
              0.6666666666666666,
              "#ed7953"
             ],
             [
              0.7777777777777778,
              "#fb9f3a"
             ],
             [
              0.8888888888888888,
              "#fdca26"
             ],
             [
              1,
              "#f0f921"
             ]
            ],
            "type": "histogram2dcontour"
           }
          ],
          "mesh3d": [
           {
            "colorbar": {
             "outlinewidth": 0,
             "ticks": ""
            },
            "type": "mesh3d"
           }
          ],
          "parcoords": [
           {
            "line": {
             "colorbar": {
              "outlinewidth": 0,
              "ticks": ""
             }
            },
            "type": "parcoords"
           }
          ],
          "pie": [
           {
            "automargin": true,
            "type": "pie"
           }
          ],
          "scatter": [
           {
            "marker": {
             "line": {
              "color": "#283442"
             }
            },
            "type": "scatter"
           }
          ],
          "scatter3d": [
           {
            "line": {
             "colorbar": {
              "outlinewidth": 0,
              "ticks": ""
             }
            },
            "marker": {
             "colorbar": {
              "outlinewidth": 0,
              "ticks": ""
             }
            },
            "type": "scatter3d"
           }
          ],
          "scattercarpet": [
           {
            "marker": {
             "colorbar": {
              "outlinewidth": 0,
              "ticks": ""
             }
            },
            "type": "scattercarpet"
           }
          ],
          "scattergeo": [
           {
            "marker": {
             "colorbar": {
              "outlinewidth": 0,
              "ticks": ""
             }
            },
            "type": "scattergeo"
           }
          ],
          "scattergl": [
           {
            "marker": {
             "line": {
              "color": "#283442"
             }
            },
            "type": "scattergl"
           }
          ],
          "scattermapbox": [
           {
            "marker": {
             "colorbar": {
              "outlinewidth": 0,
              "ticks": ""
             }
            },
            "type": "scattermapbox"
           }
          ],
          "scatterpolar": [
           {
            "marker": {
             "colorbar": {
              "outlinewidth": 0,
              "ticks": ""
             }
            },
            "type": "scatterpolar"
           }
          ],
          "scatterpolargl": [
           {
            "marker": {
             "colorbar": {
              "outlinewidth": 0,
              "ticks": ""
             }
            },
            "type": "scatterpolargl"
           }
          ],
          "scatterternary": [
           {
            "marker": {
             "colorbar": {
              "outlinewidth": 0,
              "ticks": ""
             }
            },
            "type": "scatterternary"
           }
          ],
          "surface": [
           {
            "colorbar": {
             "outlinewidth": 0,
             "ticks": ""
            },
            "colorscale": [
             [
              0,
              "#0d0887"
             ],
             [
              0.1111111111111111,
              "#46039f"
             ],
             [
              0.2222222222222222,
              "#7201a8"
             ],
             [
              0.3333333333333333,
              "#9c179e"
             ],
             [
              0.4444444444444444,
              "#bd3786"
             ],
             [
              0.5555555555555556,
              "#d8576b"
             ],
             [
              0.6666666666666666,
              "#ed7953"
             ],
             [
              0.7777777777777778,
              "#fb9f3a"
             ],
             [
              0.8888888888888888,
              "#fdca26"
             ],
             [
              1,
              "#f0f921"
             ]
            ],
            "type": "surface"
           }
          ],
          "table": [
           {
            "cells": {
             "fill": {
              "color": "#506784"
             },
             "line": {
              "color": "rgb(17,17,17)"
             }
            },
            "header": {
             "fill": {
              "color": "#2a3f5f"
             },
             "line": {
              "color": "rgb(17,17,17)"
             }
            },
            "type": "table"
           }
          ]
         },
         "layout": {
          "annotationdefaults": {
           "arrowcolor": "#f2f5fa",
           "arrowhead": 0,
           "arrowwidth": 1
          },
          "autotypenumbers": "strict",
          "coloraxis": {
           "colorbar": {
            "outlinewidth": 0,
            "ticks": ""
           }
          },
          "colorscale": {
           "diverging": [
            [
             0,
             "#8e0152"
            ],
            [
             0.1,
             "#c51b7d"
            ],
            [
             0.2,
             "#de77ae"
            ],
            [
             0.3,
             "#f1b6da"
            ],
            [
             0.4,
             "#fde0ef"
            ],
            [
             0.5,
             "#f7f7f7"
            ],
            [
             0.6,
             "#e6f5d0"
            ],
            [
             0.7,
             "#b8e186"
            ],
            [
             0.8,
             "#7fbc41"
            ],
            [
             0.9,
             "#4d9221"
            ],
            [
             1,
             "#276419"
            ]
           ],
           "sequential": [
            [
             0,
             "#0d0887"
            ],
            [
             0.1111111111111111,
             "#46039f"
            ],
            [
             0.2222222222222222,
             "#7201a8"
            ],
            [
             0.3333333333333333,
             "#9c179e"
            ],
            [
             0.4444444444444444,
             "#bd3786"
            ],
            [
             0.5555555555555556,
             "#d8576b"
            ],
            [
             0.6666666666666666,
             "#ed7953"
            ],
            [
             0.7777777777777778,
             "#fb9f3a"
            ],
            [
             0.8888888888888888,
             "#fdca26"
            ],
            [
             1,
             "#f0f921"
            ]
           ],
           "sequentialminus": [
            [
             0,
             "#0d0887"
            ],
            [
             0.1111111111111111,
             "#46039f"
            ],
            [
             0.2222222222222222,
             "#7201a8"
            ],
            [
             0.3333333333333333,
             "#9c179e"
            ],
            [
             0.4444444444444444,
             "#bd3786"
            ],
            [
             0.5555555555555556,
             "#d8576b"
            ],
            [
             0.6666666666666666,
             "#ed7953"
            ],
            [
             0.7777777777777778,
             "#fb9f3a"
            ],
            [
             0.8888888888888888,
             "#fdca26"
            ],
            [
             1,
             "#f0f921"
            ]
           ]
          },
          "colorway": [
           "#636efa",
           "#EF553B",
           "#00cc96",
           "#ab63fa",
           "#FFA15A",
           "#19d3f3",
           "#FF6692",
           "#B6E880",
           "#FF97FF",
           "#FECB52"
          ],
          "font": {
           "color": "#f2f5fa"
          },
          "geo": {
           "bgcolor": "rgb(17,17,17)",
           "lakecolor": "rgb(17,17,17)",
           "landcolor": "rgb(17,17,17)",
           "showlakes": true,
           "showland": true,
           "subunitcolor": "#506784"
          },
          "hoverlabel": {
           "align": "left"
          },
          "hovermode": "closest",
          "mapbox": {
           "style": "dark"
          },
          "paper_bgcolor": "rgb(17,17,17)",
          "plot_bgcolor": "rgb(17,17,17)",
          "polar": {
           "angularaxis": {
            "gridcolor": "#506784",
            "linecolor": "#506784",
            "ticks": ""
           },
           "bgcolor": "rgb(17,17,17)",
           "radialaxis": {
            "gridcolor": "#506784",
            "linecolor": "#506784",
            "ticks": ""
           }
          },
          "scene": {
           "xaxis": {
            "backgroundcolor": "rgb(17,17,17)",
            "gridcolor": "#506784",
            "gridwidth": 2,
            "linecolor": "#506784",
            "showbackground": true,
            "ticks": "",
            "zerolinecolor": "#C8D4E3"
           },
           "yaxis": {
            "backgroundcolor": "rgb(17,17,17)",
            "gridcolor": "#506784",
            "gridwidth": 2,
            "linecolor": "#506784",
            "showbackground": true,
            "ticks": "",
            "zerolinecolor": "#C8D4E3"
           },
           "zaxis": {
            "backgroundcolor": "rgb(17,17,17)",
            "gridcolor": "#506784",
            "gridwidth": 2,
            "linecolor": "#506784",
            "showbackground": true,
            "ticks": "",
            "zerolinecolor": "#C8D4E3"
           }
          },
          "shapedefaults": {
           "line": {
            "color": "#f2f5fa"
           }
          },
          "sliderdefaults": {
           "bgcolor": "#C8D4E3",
           "bordercolor": "rgb(17,17,17)",
           "borderwidth": 1,
           "tickwidth": 0
          },
          "ternary": {
           "aaxis": {
            "gridcolor": "#506784",
            "linecolor": "#506784",
            "ticks": ""
           },
           "baxis": {
            "gridcolor": "#506784",
            "linecolor": "#506784",
            "ticks": ""
           },
           "bgcolor": "rgb(17,17,17)",
           "caxis": {
            "gridcolor": "#506784",
            "linecolor": "#506784",
            "ticks": ""
           }
          },
          "title": {
           "x": 0.05
          },
          "updatemenudefaults": {
           "bgcolor": "#506784",
           "borderwidth": 0
          },
          "xaxis": {
           "automargin": true,
           "gridcolor": "#283442",
           "linecolor": "#506784",
           "ticks": "",
           "title": {
            "standoff": 15
           },
           "zerolinecolor": "#283442",
           "zerolinewidth": 2
          },
          "yaxis": {
           "automargin": true,
           "gridcolor": "#283442",
           "linecolor": "#506784",
           "ticks": "",
           "title": {
            "standoff": 15
           },
           "zerolinecolor": "#283442",
           "zerolinewidth": 2
          }
         }
        },
        "title": {
         "text": "Saldo a liquidar por tipo de empenho"
        },
        "xaxis": {
         "anchor": "y",
         "domain": [
          0,
          1
         ],
         "title": {
          "text": "Tipo de Empenho"
         }
        },
        "yaxis": {
         "anchor": "x",
         "domain": [
          0,
          1
         ],
         "title": {
          "text": "Saldo a liquidar"
         },
         "type": "log"
        }
       }
      }
     },
     "metadata": {},
     "output_type": "display_data"
    }
   ],
   "source": [
    "# Saldo a liquidar por tipo de Empenho\n",
    "cols = ['TIPO', 'A_LIQUIDAR']\n",
    "\n",
    "df_aux = df.loc[:, cols].groupby('TIPO').sum().sort_values(by= 'A_LIQUIDAR', ascending=False).reset_index()\n",
    "df_aux = df_aux[df_aux['A_LIQUIDAR'] > 0]\n",
    "fig = px.bar(df_aux, \n",
    "             x='TIPO', \n",
    "             y='A_LIQUIDAR',\n",
    "             title='Saldo a liquidar por tipo de empenho',\n",
    "             labels={'TIPO':'Tipo de Empenho', 'A_LIQUIDAR':'Saldo a liquidar'},\n",
    "             text_auto='.3s',\n",
    "             height=400,\n",
    "             log_y=True,\n",
    "             color='A_LIQUIDAR',\n",
    "             color_continuous_scale = 'reds',\n",
    "             template='plotly_dark')\n",
    "fig.update_traces(textposition = 'outside', cliponaxis = False, hovertemplate=None)\n",
    "fig.update_layout(hovermode=\"x unified\")\n",
    "\n",
    "fig.show()"
   ]
  },
  {
   "cell_type": "code",
   "execution_count": 9,
   "metadata": {},
   "outputs": [
    {
     "data": {
      "application/vnd.plotly.v1+json": {
       "config": {
        "plotlyServerURL": "https://plot.ly"
       },
       "data": [
        {
         "alignmentgroup": "True",
         "cliponaxis": false,
         "legendgroup": "",
         "marker": {
          "color": [
           6631147.2700000005,
           844379.05,
           240190.61000000002
          ],
          "coloraxis": "coloraxis",
          "pattern": {
           "shape": ""
          }
         },
         "name": "",
         "offsetgroup": "",
         "orientation": "v",
         "showlegend": false,
         "textposition": "outside",
         "texttemplate": "%{y:.3s}",
         "type": "bar",
         "x": [
          "2024",
          "2023",
          "2022"
         ],
         "xaxis": "x",
         "y": [
          6631147.2700000005,
          844379.05,
          240190.61000000002
         ],
         "yaxis": "y"
        }
       ],
       "layout": {
        "barmode": "relative",
        "coloraxis": {
         "colorbar": {
          "title": {
           "text": "Saldo a liquidar"
          }
         },
         "colorscale": [
          [
           0,
           "rgb(255,245,240)"
          ],
          [
           0.125,
           "rgb(254,224,210)"
          ],
          [
           0.25,
           "rgb(252,187,161)"
          ],
          [
           0.375,
           "rgb(252,146,114)"
          ],
          [
           0.5,
           "rgb(251,106,74)"
          ],
          [
           0.625,
           "rgb(239,59,44)"
          ],
          [
           0.75,
           "rgb(203,24,29)"
          ],
          [
           0.875,
           "rgb(165,15,21)"
          ],
          [
           1,
           "rgb(103,0,13)"
          ]
         ]
        },
        "height": 400,
        "hovermode": "x unified",
        "legend": {
         "tracegroupgap": 0
        },
        "template": {
         "data": {
          "bar": [
           {
            "error_x": {
             "color": "#f2f5fa"
            },
            "error_y": {
             "color": "#f2f5fa"
            },
            "marker": {
             "line": {
              "color": "rgb(17,17,17)",
              "width": 0.5
             },
             "pattern": {
              "fillmode": "overlay",
              "size": 10,
              "solidity": 0.2
             }
            },
            "type": "bar"
           }
          ],
          "barpolar": [
           {
            "marker": {
             "line": {
              "color": "rgb(17,17,17)",
              "width": 0.5
             },
             "pattern": {
              "fillmode": "overlay",
              "size": 10,
              "solidity": 0.2
             }
            },
            "type": "barpolar"
           }
          ],
          "carpet": [
           {
            "aaxis": {
             "endlinecolor": "#A2B1C6",
             "gridcolor": "#506784",
             "linecolor": "#506784",
             "minorgridcolor": "#506784",
             "startlinecolor": "#A2B1C6"
            },
            "baxis": {
             "endlinecolor": "#A2B1C6",
             "gridcolor": "#506784",
             "linecolor": "#506784",
             "minorgridcolor": "#506784",
             "startlinecolor": "#A2B1C6"
            },
            "type": "carpet"
           }
          ],
          "choropleth": [
           {
            "colorbar": {
             "outlinewidth": 0,
             "ticks": ""
            },
            "type": "choropleth"
           }
          ],
          "contour": [
           {
            "colorbar": {
             "outlinewidth": 0,
             "ticks": ""
            },
            "colorscale": [
             [
              0,
              "#0d0887"
             ],
             [
              0.1111111111111111,
              "#46039f"
             ],
             [
              0.2222222222222222,
              "#7201a8"
             ],
             [
              0.3333333333333333,
              "#9c179e"
             ],
             [
              0.4444444444444444,
              "#bd3786"
             ],
             [
              0.5555555555555556,
              "#d8576b"
             ],
             [
              0.6666666666666666,
              "#ed7953"
             ],
             [
              0.7777777777777778,
              "#fb9f3a"
             ],
             [
              0.8888888888888888,
              "#fdca26"
             ],
             [
              1,
              "#f0f921"
             ]
            ],
            "type": "contour"
           }
          ],
          "contourcarpet": [
           {
            "colorbar": {
             "outlinewidth": 0,
             "ticks": ""
            },
            "type": "contourcarpet"
           }
          ],
          "heatmap": [
           {
            "colorbar": {
             "outlinewidth": 0,
             "ticks": ""
            },
            "colorscale": [
             [
              0,
              "#0d0887"
             ],
             [
              0.1111111111111111,
              "#46039f"
             ],
             [
              0.2222222222222222,
              "#7201a8"
             ],
             [
              0.3333333333333333,
              "#9c179e"
             ],
             [
              0.4444444444444444,
              "#bd3786"
             ],
             [
              0.5555555555555556,
              "#d8576b"
             ],
             [
              0.6666666666666666,
              "#ed7953"
             ],
             [
              0.7777777777777778,
              "#fb9f3a"
             ],
             [
              0.8888888888888888,
              "#fdca26"
             ],
             [
              1,
              "#f0f921"
             ]
            ],
            "type": "heatmap"
           }
          ],
          "heatmapgl": [
           {
            "colorbar": {
             "outlinewidth": 0,
             "ticks": ""
            },
            "colorscale": [
             [
              0,
              "#0d0887"
             ],
             [
              0.1111111111111111,
              "#46039f"
             ],
             [
              0.2222222222222222,
              "#7201a8"
             ],
             [
              0.3333333333333333,
              "#9c179e"
             ],
             [
              0.4444444444444444,
              "#bd3786"
             ],
             [
              0.5555555555555556,
              "#d8576b"
             ],
             [
              0.6666666666666666,
              "#ed7953"
             ],
             [
              0.7777777777777778,
              "#fb9f3a"
             ],
             [
              0.8888888888888888,
              "#fdca26"
             ],
             [
              1,
              "#f0f921"
             ]
            ],
            "type": "heatmapgl"
           }
          ],
          "histogram": [
           {
            "marker": {
             "pattern": {
              "fillmode": "overlay",
              "size": 10,
              "solidity": 0.2
             }
            },
            "type": "histogram"
           }
          ],
          "histogram2d": [
           {
            "colorbar": {
             "outlinewidth": 0,
             "ticks": ""
            },
            "colorscale": [
             [
              0,
              "#0d0887"
             ],
             [
              0.1111111111111111,
              "#46039f"
             ],
             [
              0.2222222222222222,
              "#7201a8"
             ],
             [
              0.3333333333333333,
              "#9c179e"
             ],
             [
              0.4444444444444444,
              "#bd3786"
             ],
             [
              0.5555555555555556,
              "#d8576b"
             ],
             [
              0.6666666666666666,
              "#ed7953"
             ],
             [
              0.7777777777777778,
              "#fb9f3a"
             ],
             [
              0.8888888888888888,
              "#fdca26"
             ],
             [
              1,
              "#f0f921"
             ]
            ],
            "type": "histogram2d"
           }
          ],
          "histogram2dcontour": [
           {
            "colorbar": {
             "outlinewidth": 0,
             "ticks": ""
            },
            "colorscale": [
             [
              0,
              "#0d0887"
             ],
             [
              0.1111111111111111,
              "#46039f"
             ],
             [
              0.2222222222222222,
              "#7201a8"
             ],
             [
              0.3333333333333333,
              "#9c179e"
             ],
             [
              0.4444444444444444,
              "#bd3786"
             ],
             [
              0.5555555555555556,
              "#d8576b"
             ],
             [
              0.6666666666666666,
              "#ed7953"
             ],
             [
              0.7777777777777778,
              "#fb9f3a"
             ],
             [
              0.8888888888888888,
              "#fdca26"
             ],
             [
              1,
              "#f0f921"
             ]
            ],
            "type": "histogram2dcontour"
           }
          ],
          "mesh3d": [
           {
            "colorbar": {
             "outlinewidth": 0,
             "ticks": ""
            },
            "type": "mesh3d"
           }
          ],
          "parcoords": [
           {
            "line": {
             "colorbar": {
              "outlinewidth": 0,
              "ticks": ""
             }
            },
            "type": "parcoords"
           }
          ],
          "pie": [
           {
            "automargin": true,
            "type": "pie"
           }
          ],
          "scatter": [
           {
            "marker": {
             "line": {
              "color": "#283442"
             }
            },
            "type": "scatter"
           }
          ],
          "scatter3d": [
           {
            "line": {
             "colorbar": {
              "outlinewidth": 0,
              "ticks": ""
             }
            },
            "marker": {
             "colorbar": {
              "outlinewidth": 0,
              "ticks": ""
             }
            },
            "type": "scatter3d"
           }
          ],
          "scattercarpet": [
           {
            "marker": {
             "colorbar": {
              "outlinewidth": 0,
              "ticks": ""
             }
            },
            "type": "scattercarpet"
           }
          ],
          "scattergeo": [
           {
            "marker": {
             "colorbar": {
              "outlinewidth": 0,
              "ticks": ""
             }
            },
            "type": "scattergeo"
           }
          ],
          "scattergl": [
           {
            "marker": {
             "line": {
              "color": "#283442"
             }
            },
            "type": "scattergl"
           }
          ],
          "scattermapbox": [
           {
            "marker": {
             "colorbar": {
              "outlinewidth": 0,
              "ticks": ""
             }
            },
            "type": "scattermapbox"
           }
          ],
          "scatterpolar": [
           {
            "marker": {
             "colorbar": {
              "outlinewidth": 0,
              "ticks": ""
             }
            },
            "type": "scatterpolar"
           }
          ],
          "scatterpolargl": [
           {
            "marker": {
             "colorbar": {
              "outlinewidth": 0,
              "ticks": ""
             }
            },
            "type": "scatterpolargl"
           }
          ],
          "scatterternary": [
           {
            "marker": {
             "colorbar": {
              "outlinewidth": 0,
              "ticks": ""
             }
            },
            "type": "scatterternary"
           }
          ],
          "surface": [
           {
            "colorbar": {
             "outlinewidth": 0,
             "ticks": ""
            },
            "colorscale": [
             [
              0,
              "#0d0887"
             ],
             [
              0.1111111111111111,
              "#46039f"
             ],
             [
              0.2222222222222222,
              "#7201a8"
             ],
             [
              0.3333333333333333,
              "#9c179e"
             ],
             [
              0.4444444444444444,
              "#bd3786"
             ],
             [
              0.5555555555555556,
              "#d8576b"
             ],
             [
              0.6666666666666666,
              "#ed7953"
             ],
             [
              0.7777777777777778,
              "#fb9f3a"
             ],
             [
              0.8888888888888888,
              "#fdca26"
             ],
             [
              1,
              "#f0f921"
             ]
            ],
            "type": "surface"
           }
          ],
          "table": [
           {
            "cells": {
             "fill": {
              "color": "#506784"
             },
             "line": {
              "color": "rgb(17,17,17)"
             }
            },
            "header": {
             "fill": {
              "color": "#2a3f5f"
             },
             "line": {
              "color": "rgb(17,17,17)"
             }
            },
            "type": "table"
           }
          ]
         },
         "layout": {
          "annotationdefaults": {
           "arrowcolor": "#f2f5fa",
           "arrowhead": 0,
           "arrowwidth": 1
          },
          "autotypenumbers": "strict",
          "coloraxis": {
           "colorbar": {
            "outlinewidth": 0,
            "ticks": ""
           }
          },
          "colorscale": {
           "diverging": [
            [
             0,
             "#8e0152"
            ],
            [
             0.1,
             "#c51b7d"
            ],
            [
             0.2,
             "#de77ae"
            ],
            [
             0.3,
             "#f1b6da"
            ],
            [
             0.4,
             "#fde0ef"
            ],
            [
             0.5,
             "#f7f7f7"
            ],
            [
             0.6,
             "#e6f5d0"
            ],
            [
             0.7,
             "#b8e186"
            ],
            [
             0.8,
             "#7fbc41"
            ],
            [
             0.9,
             "#4d9221"
            ],
            [
             1,
             "#276419"
            ]
           ],
           "sequential": [
            [
             0,
             "#0d0887"
            ],
            [
             0.1111111111111111,
             "#46039f"
            ],
            [
             0.2222222222222222,
             "#7201a8"
            ],
            [
             0.3333333333333333,
             "#9c179e"
            ],
            [
             0.4444444444444444,
             "#bd3786"
            ],
            [
             0.5555555555555556,
             "#d8576b"
            ],
            [
             0.6666666666666666,
             "#ed7953"
            ],
            [
             0.7777777777777778,
             "#fb9f3a"
            ],
            [
             0.8888888888888888,
             "#fdca26"
            ],
            [
             1,
             "#f0f921"
            ]
           ],
           "sequentialminus": [
            [
             0,
             "#0d0887"
            ],
            [
             0.1111111111111111,
             "#46039f"
            ],
            [
             0.2222222222222222,
             "#7201a8"
            ],
            [
             0.3333333333333333,
             "#9c179e"
            ],
            [
             0.4444444444444444,
             "#bd3786"
            ],
            [
             0.5555555555555556,
             "#d8576b"
            ],
            [
             0.6666666666666666,
             "#ed7953"
            ],
            [
             0.7777777777777778,
             "#fb9f3a"
            ],
            [
             0.8888888888888888,
             "#fdca26"
            ],
            [
             1,
             "#f0f921"
            ]
           ]
          },
          "colorway": [
           "#636efa",
           "#EF553B",
           "#00cc96",
           "#ab63fa",
           "#FFA15A",
           "#19d3f3",
           "#FF6692",
           "#B6E880",
           "#FF97FF",
           "#FECB52"
          ],
          "font": {
           "color": "#f2f5fa"
          },
          "geo": {
           "bgcolor": "rgb(17,17,17)",
           "lakecolor": "rgb(17,17,17)",
           "landcolor": "rgb(17,17,17)",
           "showlakes": true,
           "showland": true,
           "subunitcolor": "#506784"
          },
          "hoverlabel": {
           "align": "left"
          },
          "hovermode": "closest",
          "mapbox": {
           "style": "dark"
          },
          "paper_bgcolor": "rgb(17,17,17)",
          "plot_bgcolor": "rgb(17,17,17)",
          "polar": {
           "angularaxis": {
            "gridcolor": "#506784",
            "linecolor": "#506784",
            "ticks": ""
           },
           "bgcolor": "rgb(17,17,17)",
           "radialaxis": {
            "gridcolor": "#506784",
            "linecolor": "#506784",
            "ticks": ""
           }
          },
          "scene": {
           "xaxis": {
            "backgroundcolor": "rgb(17,17,17)",
            "gridcolor": "#506784",
            "gridwidth": 2,
            "linecolor": "#506784",
            "showbackground": true,
            "ticks": "",
            "zerolinecolor": "#C8D4E3"
           },
           "yaxis": {
            "backgroundcolor": "rgb(17,17,17)",
            "gridcolor": "#506784",
            "gridwidth": 2,
            "linecolor": "#506784",
            "showbackground": true,
            "ticks": "",
            "zerolinecolor": "#C8D4E3"
           },
           "zaxis": {
            "backgroundcolor": "rgb(17,17,17)",
            "gridcolor": "#506784",
            "gridwidth": 2,
            "linecolor": "#506784",
            "showbackground": true,
            "ticks": "",
            "zerolinecolor": "#C8D4E3"
           }
          },
          "shapedefaults": {
           "line": {
            "color": "#f2f5fa"
           }
          },
          "sliderdefaults": {
           "bgcolor": "#C8D4E3",
           "bordercolor": "rgb(17,17,17)",
           "borderwidth": 1,
           "tickwidth": 0
          },
          "ternary": {
           "aaxis": {
            "gridcolor": "#506784",
            "linecolor": "#506784",
            "ticks": ""
           },
           "baxis": {
            "gridcolor": "#506784",
            "linecolor": "#506784",
            "ticks": ""
           },
           "bgcolor": "rgb(17,17,17)",
           "caxis": {
            "gridcolor": "#506784",
            "linecolor": "#506784",
            "ticks": ""
           }
          },
          "title": {
           "x": 0.05
          },
          "updatemenudefaults": {
           "bgcolor": "#506784",
           "borderwidth": 0
          },
          "xaxis": {
           "automargin": true,
           "gridcolor": "#283442",
           "linecolor": "#506784",
           "ticks": "",
           "title": {
            "standoff": 15
           },
           "zerolinecolor": "#283442",
           "zerolinewidth": 2
          },
          "yaxis": {
           "automargin": true,
           "gridcolor": "#283442",
           "linecolor": "#506784",
           "ticks": "",
           "title": {
            "standoff": 15
           },
           "zerolinecolor": "#283442",
           "zerolinewidth": 2
          }
         }
        },
        "title": {
         "text": "Saldo a liquidar por ano do empenho"
        },
        "xaxis": {
         "anchor": "y",
         "domain": [
          0,
          1
         ],
         "title": {
          "text": "Ano do Empenho"
         }
        },
        "yaxis": {
         "anchor": "x",
         "domain": [
          0,
          1
         ],
         "title": {
          "text": "Saldo a liquidar"
         },
         "type": "log"
        }
       }
      }
     },
     "metadata": {},
     "output_type": "display_data"
    }
   ],
   "source": [
    "# Saldo a liquidar por ano\n",
    "cols = ['ANO', 'A_LIQUIDAR']\n",
    "\n",
    "df_aux = df.loc[:, cols].groupby('ANO').sum().sort_values(by= 'A_LIQUIDAR', ascending=False).reset_index()\n",
    "df_aux = df_aux[df_aux['A_LIQUIDAR'] > 0]\n",
    "fig = px.bar(df_aux, \n",
    "             x='ANO', \n",
    "             y='A_LIQUIDAR',\n",
    "             title='Saldo a liquidar por ano do empenho',\n",
    "             labels={'ANO':'Ano do Empenho', 'A_LIQUIDAR':'Saldo a liquidar'},\n",
    "             text_auto='.3s',\n",
    "             height=400,\n",
    "             log_y=True,\n",
    "             color='A_LIQUIDAR',\n",
    "             color_continuous_scale = 'reds',\n",
    "             template='plotly_dark')\n",
    "fig.update_traces(textposition = 'outside', cliponaxis = False, hovertemplate=None)\n",
    "fig.update_layout(hovermode=\"x unified\")\n",
    "\n",
    "fig.show()"
   ]
  },
  {
   "cell_type": "code",
   "execution_count": 10,
   "metadata": {},
   "outputs": [
    {
     "data": {
      "application/vnd.plotly.v1+json": {
       "config": {
        "plotlyServerURL": "https://plot.ly"
       },
       "data": [
        {
         "alignmentgroup": "True",
         "cliponaxis": false,
         "legendgroup": "",
         "marker": {
          "color": [
           4572948.61,
           1761096.8599999999,
           1381671.46
          ],
          "coloraxis": "coloraxis",
          "pattern": {
           "shape": ""
          }
         },
         "name": "",
         "offsetgroup": "",
         "orientation": "v",
         "showlegend": false,
         "textposition": "outside",
         "texttemplate": "%{y:.3s}",
         "type": "bar",
         "x": [
          "GLOBAL",
          "ORDINARIO",
          "ESTIMATIVO"
         ],
         "xaxis": "x",
         "y": [
          4572948.61,
          1761096.8599999999,
          1381671.46
         ],
         "yaxis": "y"
        }
       ],
       "layout": {
        "barmode": "relative",
        "coloraxis": {
         "colorbar": {
          "title": {
           "text": "Saldo a liquidar"
          }
         },
         "colorscale": [
          [
           0,
           "rgb(255,245,240)"
          ],
          [
           0.125,
           "rgb(254,224,210)"
          ],
          [
           0.25,
           "rgb(252,187,161)"
          ],
          [
           0.375,
           "rgb(252,146,114)"
          ],
          [
           0.5,
           "rgb(251,106,74)"
          ],
          [
           0.625,
           "rgb(239,59,44)"
          ],
          [
           0.75,
           "rgb(203,24,29)"
          ],
          [
           0.875,
           "rgb(165,15,21)"
          ],
          [
           1,
           "rgb(103,0,13)"
          ]
         ]
        },
        "height": 400,
        "hovermode": "x unified",
        "legend": {
         "tracegroupgap": 0
        },
        "template": {
         "data": {
          "bar": [
           {
            "error_x": {
             "color": "#f2f5fa"
            },
            "error_y": {
             "color": "#f2f5fa"
            },
            "marker": {
             "line": {
              "color": "rgb(17,17,17)",
              "width": 0.5
             },
             "pattern": {
              "fillmode": "overlay",
              "size": 10,
              "solidity": 0.2
             }
            },
            "type": "bar"
           }
          ],
          "barpolar": [
           {
            "marker": {
             "line": {
              "color": "rgb(17,17,17)",
              "width": 0.5
             },
             "pattern": {
              "fillmode": "overlay",
              "size": 10,
              "solidity": 0.2
             }
            },
            "type": "barpolar"
           }
          ],
          "carpet": [
           {
            "aaxis": {
             "endlinecolor": "#A2B1C6",
             "gridcolor": "#506784",
             "linecolor": "#506784",
             "minorgridcolor": "#506784",
             "startlinecolor": "#A2B1C6"
            },
            "baxis": {
             "endlinecolor": "#A2B1C6",
             "gridcolor": "#506784",
             "linecolor": "#506784",
             "minorgridcolor": "#506784",
             "startlinecolor": "#A2B1C6"
            },
            "type": "carpet"
           }
          ],
          "choropleth": [
           {
            "colorbar": {
             "outlinewidth": 0,
             "ticks": ""
            },
            "type": "choropleth"
           }
          ],
          "contour": [
           {
            "colorbar": {
             "outlinewidth": 0,
             "ticks": ""
            },
            "colorscale": [
             [
              0,
              "#0d0887"
             ],
             [
              0.1111111111111111,
              "#46039f"
             ],
             [
              0.2222222222222222,
              "#7201a8"
             ],
             [
              0.3333333333333333,
              "#9c179e"
             ],
             [
              0.4444444444444444,
              "#bd3786"
             ],
             [
              0.5555555555555556,
              "#d8576b"
             ],
             [
              0.6666666666666666,
              "#ed7953"
             ],
             [
              0.7777777777777778,
              "#fb9f3a"
             ],
             [
              0.8888888888888888,
              "#fdca26"
             ],
             [
              1,
              "#f0f921"
             ]
            ],
            "type": "contour"
           }
          ],
          "contourcarpet": [
           {
            "colorbar": {
             "outlinewidth": 0,
             "ticks": ""
            },
            "type": "contourcarpet"
           }
          ],
          "heatmap": [
           {
            "colorbar": {
             "outlinewidth": 0,
             "ticks": ""
            },
            "colorscale": [
             [
              0,
              "#0d0887"
             ],
             [
              0.1111111111111111,
              "#46039f"
             ],
             [
              0.2222222222222222,
              "#7201a8"
             ],
             [
              0.3333333333333333,
              "#9c179e"
             ],
             [
              0.4444444444444444,
              "#bd3786"
             ],
             [
              0.5555555555555556,
              "#d8576b"
             ],
             [
              0.6666666666666666,
              "#ed7953"
             ],
             [
              0.7777777777777778,
              "#fb9f3a"
             ],
             [
              0.8888888888888888,
              "#fdca26"
             ],
             [
              1,
              "#f0f921"
             ]
            ],
            "type": "heatmap"
           }
          ],
          "heatmapgl": [
           {
            "colorbar": {
             "outlinewidth": 0,
             "ticks": ""
            },
            "colorscale": [
             [
              0,
              "#0d0887"
             ],
             [
              0.1111111111111111,
              "#46039f"
             ],
             [
              0.2222222222222222,
              "#7201a8"
             ],
             [
              0.3333333333333333,
              "#9c179e"
             ],
             [
              0.4444444444444444,
              "#bd3786"
             ],
             [
              0.5555555555555556,
              "#d8576b"
             ],
             [
              0.6666666666666666,
              "#ed7953"
             ],
             [
              0.7777777777777778,
              "#fb9f3a"
             ],
             [
              0.8888888888888888,
              "#fdca26"
             ],
             [
              1,
              "#f0f921"
             ]
            ],
            "type": "heatmapgl"
           }
          ],
          "histogram": [
           {
            "marker": {
             "pattern": {
              "fillmode": "overlay",
              "size": 10,
              "solidity": 0.2
             }
            },
            "type": "histogram"
           }
          ],
          "histogram2d": [
           {
            "colorbar": {
             "outlinewidth": 0,
             "ticks": ""
            },
            "colorscale": [
             [
              0,
              "#0d0887"
             ],
             [
              0.1111111111111111,
              "#46039f"
             ],
             [
              0.2222222222222222,
              "#7201a8"
             ],
             [
              0.3333333333333333,
              "#9c179e"
             ],
             [
              0.4444444444444444,
              "#bd3786"
             ],
             [
              0.5555555555555556,
              "#d8576b"
             ],
             [
              0.6666666666666666,
              "#ed7953"
             ],
             [
              0.7777777777777778,
              "#fb9f3a"
             ],
             [
              0.8888888888888888,
              "#fdca26"
             ],
             [
              1,
              "#f0f921"
             ]
            ],
            "type": "histogram2d"
           }
          ],
          "histogram2dcontour": [
           {
            "colorbar": {
             "outlinewidth": 0,
             "ticks": ""
            },
            "colorscale": [
             [
              0,
              "#0d0887"
             ],
             [
              0.1111111111111111,
              "#46039f"
             ],
             [
              0.2222222222222222,
              "#7201a8"
             ],
             [
              0.3333333333333333,
              "#9c179e"
             ],
             [
              0.4444444444444444,
              "#bd3786"
             ],
             [
              0.5555555555555556,
              "#d8576b"
             ],
             [
              0.6666666666666666,
              "#ed7953"
             ],
             [
              0.7777777777777778,
              "#fb9f3a"
             ],
             [
              0.8888888888888888,
              "#fdca26"
             ],
             [
              1,
              "#f0f921"
             ]
            ],
            "type": "histogram2dcontour"
           }
          ],
          "mesh3d": [
           {
            "colorbar": {
             "outlinewidth": 0,
             "ticks": ""
            },
            "type": "mesh3d"
           }
          ],
          "parcoords": [
           {
            "line": {
             "colorbar": {
              "outlinewidth": 0,
              "ticks": ""
             }
            },
            "type": "parcoords"
           }
          ],
          "pie": [
           {
            "automargin": true,
            "type": "pie"
           }
          ],
          "scatter": [
           {
            "marker": {
             "line": {
              "color": "#283442"
             }
            },
            "type": "scatter"
           }
          ],
          "scatter3d": [
           {
            "line": {
             "colorbar": {
              "outlinewidth": 0,
              "ticks": ""
             }
            },
            "marker": {
             "colorbar": {
              "outlinewidth": 0,
              "ticks": ""
             }
            },
            "type": "scatter3d"
           }
          ],
          "scattercarpet": [
           {
            "marker": {
             "colorbar": {
              "outlinewidth": 0,
              "ticks": ""
             }
            },
            "type": "scattercarpet"
           }
          ],
          "scattergeo": [
           {
            "marker": {
             "colorbar": {
              "outlinewidth": 0,
              "ticks": ""
             }
            },
            "type": "scattergeo"
           }
          ],
          "scattergl": [
           {
            "marker": {
             "line": {
              "color": "#283442"
             }
            },
            "type": "scattergl"
           }
          ],
          "scattermapbox": [
           {
            "marker": {
             "colorbar": {
              "outlinewidth": 0,
              "ticks": ""
             }
            },
            "type": "scattermapbox"
           }
          ],
          "scatterpolar": [
           {
            "marker": {
             "colorbar": {
              "outlinewidth": 0,
              "ticks": ""
             }
            },
            "type": "scatterpolar"
           }
          ],
          "scatterpolargl": [
           {
            "marker": {
             "colorbar": {
              "outlinewidth": 0,
              "ticks": ""
             }
            },
            "type": "scatterpolargl"
           }
          ],
          "scatterternary": [
           {
            "marker": {
             "colorbar": {
              "outlinewidth": 0,
              "ticks": ""
             }
            },
            "type": "scatterternary"
           }
          ],
          "surface": [
           {
            "colorbar": {
             "outlinewidth": 0,
             "ticks": ""
            },
            "colorscale": [
             [
              0,
              "#0d0887"
             ],
             [
              0.1111111111111111,
              "#46039f"
             ],
             [
              0.2222222222222222,
              "#7201a8"
             ],
             [
              0.3333333333333333,
              "#9c179e"
             ],
             [
              0.4444444444444444,
              "#bd3786"
             ],
             [
              0.5555555555555556,
              "#d8576b"
             ],
             [
              0.6666666666666666,
              "#ed7953"
             ],
             [
              0.7777777777777778,
              "#fb9f3a"
             ],
             [
              0.8888888888888888,
              "#fdca26"
             ],
             [
              1,
              "#f0f921"
             ]
            ],
            "type": "surface"
           }
          ],
          "table": [
           {
            "cells": {
             "fill": {
              "color": "#506784"
             },
             "line": {
              "color": "rgb(17,17,17)"
             }
            },
            "header": {
             "fill": {
              "color": "#2a3f5f"
             },
             "line": {
              "color": "rgb(17,17,17)"
             }
            },
            "type": "table"
           }
          ]
         },
         "layout": {
          "annotationdefaults": {
           "arrowcolor": "#f2f5fa",
           "arrowhead": 0,
           "arrowwidth": 1
          },
          "autotypenumbers": "strict",
          "coloraxis": {
           "colorbar": {
            "outlinewidth": 0,
            "ticks": ""
           }
          },
          "colorscale": {
           "diverging": [
            [
             0,
             "#8e0152"
            ],
            [
             0.1,
             "#c51b7d"
            ],
            [
             0.2,
             "#de77ae"
            ],
            [
             0.3,
             "#f1b6da"
            ],
            [
             0.4,
             "#fde0ef"
            ],
            [
             0.5,
             "#f7f7f7"
            ],
            [
             0.6,
             "#e6f5d0"
            ],
            [
             0.7,
             "#b8e186"
            ],
            [
             0.8,
             "#7fbc41"
            ],
            [
             0.9,
             "#4d9221"
            ],
            [
             1,
             "#276419"
            ]
           ],
           "sequential": [
            [
             0,
             "#0d0887"
            ],
            [
             0.1111111111111111,
             "#46039f"
            ],
            [
             0.2222222222222222,
             "#7201a8"
            ],
            [
             0.3333333333333333,
             "#9c179e"
            ],
            [
             0.4444444444444444,
             "#bd3786"
            ],
            [
             0.5555555555555556,
             "#d8576b"
            ],
            [
             0.6666666666666666,
             "#ed7953"
            ],
            [
             0.7777777777777778,
             "#fb9f3a"
            ],
            [
             0.8888888888888888,
             "#fdca26"
            ],
            [
             1,
             "#f0f921"
            ]
           ],
           "sequentialminus": [
            [
             0,
             "#0d0887"
            ],
            [
             0.1111111111111111,
             "#46039f"
            ],
            [
             0.2222222222222222,
             "#7201a8"
            ],
            [
             0.3333333333333333,
             "#9c179e"
            ],
            [
             0.4444444444444444,
             "#bd3786"
            ],
            [
             0.5555555555555556,
             "#d8576b"
            ],
            [
             0.6666666666666666,
             "#ed7953"
            ],
            [
             0.7777777777777778,
             "#fb9f3a"
            ],
            [
             0.8888888888888888,
             "#fdca26"
            ],
            [
             1,
             "#f0f921"
            ]
           ]
          },
          "colorway": [
           "#636efa",
           "#EF553B",
           "#00cc96",
           "#ab63fa",
           "#FFA15A",
           "#19d3f3",
           "#FF6692",
           "#B6E880",
           "#FF97FF",
           "#FECB52"
          ],
          "font": {
           "color": "#f2f5fa"
          },
          "geo": {
           "bgcolor": "rgb(17,17,17)",
           "lakecolor": "rgb(17,17,17)",
           "landcolor": "rgb(17,17,17)",
           "showlakes": true,
           "showland": true,
           "subunitcolor": "#506784"
          },
          "hoverlabel": {
           "align": "left"
          },
          "hovermode": "closest",
          "mapbox": {
           "style": "dark"
          },
          "paper_bgcolor": "rgb(17,17,17)",
          "plot_bgcolor": "rgb(17,17,17)",
          "polar": {
           "angularaxis": {
            "gridcolor": "#506784",
            "linecolor": "#506784",
            "ticks": ""
           },
           "bgcolor": "rgb(17,17,17)",
           "radialaxis": {
            "gridcolor": "#506784",
            "linecolor": "#506784",
            "ticks": ""
           }
          },
          "scene": {
           "xaxis": {
            "backgroundcolor": "rgb(17,17,17)",
            "gridcolor": "#506784",
            "gridwidth": 2,
            "linecolor": "#506784",
            "showbackground": true,
            "ticks": "",
            "zerolinecolor": "#C8D4E3"
           },
           "yaxis": {
            "backgroundcolor": "rgb(17,17,17)",
            "gridcolor": "#506784",
            "gridwidth": 2,
            "linecolor": "#506784",
            "showbackground": true,
            "ticks": "",
            "zerolinecolor": "#C8D4E3"
           },
           "zaxis": {
            "backgroundcolor": "rgb(17,17,17)",
            "gridcolor": "#506784",
            "gridwidth": 2,
            "linecolor": "#506784",
            "showbackground": true,
            "ticks": "",
            "zerolinecolor": "#C8D4E3"
           }
          },
          "shapedefaults": {
           "line": {
            "color": "#f2f5fa"
           }
          },
          "sliderdefaults": {
           "bgcolor": "#C8D4E3",
           "bordercolor": "rgb(17,17,17)",
           "borderwidth": 1,
           "tickwidth": 0
          },
          "ternary": {
           "aaxis": {
            "gridcolor": "#506784",
            "linecolor": "#506784",
            "ticks": ""
           },
           "baxis": {
            "gridcolor": "#506784",
            "linecolor": "#506784",
            "ticks": ""
           },
           "bgcolor": "rgb(17,17,17)",
           "caxis": {
            "gridcolor": "#506784",
            "linecolor": "#506784",
            "ticks": ""
           }
          },
          "title": {
           "x": 0.05
          },
          "updatemenudefaults": {
           "bgcolor": "#506784",
           "borderwidth": 0
          },
          "xaxis": {
           "automargin": true,
           "gridcolor": "#283442",
           "linecolor": "#506784",
           "ticks": "",
           "title": {
            "standoff": 15
           },
           "zerolinecolor": "#283442",
           "zerolinewidth": 2
          },
          "yaxis": {
           "automargin": true,
           "gridcolor": "#283442",
           "linecolor": "#506784",
           "ticks": "",
           "title": {
            "standoff": 15
           },
           "zerolinecolor": "#283442",
           "zerolinewidth": 2
          }
         }
        },
        "title": {
         "text": "Saldo a liquidar por ano do empenho"
        },
        "xaxis": {
         "anchor": "y",
         "domain": [
          0,
          1
         ],
         "title": {
          "text": "Tipo de Nota de Empenho"
         }
        },
        "yaxis": {
         "anchor": "x",
         "domain": [
          0,
          1
         ],
         "title": {
          "text": "Saldo a liquidar"
         },
         "type": "log"
        }
       }
      }
     },
     "metadata": {},
     "output_type": "display_data"
    }
   ],
   "source": [
    "# Saldo a liquidar por tipo de NE\n",
    "cols = ['TIPO_NE', 'A_LIQUIDAR']\n",
    "\n",
    "df_aux = df.loc[:, cols].groupby('TIPO_NE').sum().sort_values(by= 'A_LIQUIDAR', ascending=False).reset_index()\n",
    "df_aux = df_aux[df_aux['A_LIQUIDAR'] > 0]\n",
    "fig = px.bar(df_aux, \n",
    "             x='TIPO_NE', \n",
    "             y='A_LIQUIDAR',\n",
    "             title='Saldo a liquidar por ano do empenho',\n",
    "             labels={'TIPO_NE':'Tipo de Nota de Empenho', 'A_LIQUIDAR':'Saldo a liquidar'},\n",
    "             text_auto='.3s',\n",
    "             height=400,\n",
    "             log_y=True,\n",
    "             color='A_LIQUIDAR',\n",
    "             color_continuous_scale = 'reds',\n",
    "             template='plotly_dark')\n",
    "fig.update_traces(textposition = 'outside', cliponaxis = False, hovertemplate=None)\n",
    "fig.update_layout(hovermode=\"x unified\")\n",
    "\n",
    "fig.show()"
   ]
  },
  {
   "cell_type": "code",
   "execution_count": 11,
   "metadata": {},
   "outputs": [
    {
     "data": {
      "application/vnd.plotly.v1+json": {
       "config": {
        "plotlyServerURL": "https://plot.ly"
       },
       "data": [
        {
         "alignmentgroup": "True",
         "cliponaxis": false,
         "legendgroup": "",
         "marker": {
          "color": [
           2333010.96,
           1726300.52,
           1640942.43,
           597574.82,
           579478.91,
           463256.74,
           210044.9,
           88379.32999999999,
           39884.84,
           22900,
           9514,
           4429.48
          ],
          "coloraxis": "coloraxis",
          "pattern": {
           "shape": ""
          }
         },
         "name": "",
         "offsetgroup": "",
         "orientation": "v",
         "showlegend": false,
         "textposition": "outside",
         "texttemplate": "%{y:.3s}",
         "type": "bar",
         "x": [
          "DEC-GESTOR",
          "DGO",
          "DECEX/GESTOR",
          "COEX/GESTOR",
          "DECEX - GESTOR",
          "ESA",
          "DGP",
          "COEX - GESTOR",
          "F EX",
          "DEORF/MD",
          "DCT - GESTOR",
          "COTER - GESTOR"
         ],
         "xaxis": "x",
         "y": [
          2333010.96,
          1726300.52,
          1640942.43,
          597574.82,
          579478.91,
          463256.74,
          210044.9,
          88379.32999999999,
          39884.84,
          22900,
          9514,
          4429.48
         ],
         "yaxis": "y"
        }
       ],
       "layout": {
        "barmode": "relative",
        "coloraxis": {
         "colorbar": {
          "title": {
           "text": "Saldo a liquidar"
          }
         },
         "colorscale": [
          [
           0,
           "rgb(255,245,240)"
          ],
          [
           0.125,
           "rgb(254,224,210)"
          ],
          [
           0.25,
           "rgb(252,187,161)"
          ],
          [
           0.375,
           "rgb(252,146,114)"
          ],
          [
           0.5,
           "rgb(251,106,74)"
          ],
          [
           0.625,
           "rgb(239,59,44)"
          ],
          [
           0.75,
           "rgb(203,24,29)"
          ],
          [
           0.875,
           "rgb(165,15,21)"
          ],
          [
           1,
           "rgb(103,0,13)"
          ]
         ]
        },
        "height": 400,
        "hovermode": "x unified",
        "legend": {
         "tracegroupgap": 0
        },
        "template": {
         "data": {
          "bar": [
           {
            "error_x": {
             "color": "#f2f5fa"
            },
            "error_y": {
             "color": "#f2f5fa"
            },
            "marker": {
             "line": {
              "color": "rgb(17,17,17)",
              "width": 0.5
             },
             "pattern": {
              "fillmode": "overlay",
              "size": 10,
              "solidity": 0.2
             }
            },
            "type": "bar"
           }
          ],
          "barpolar": [
           {
            "marker": {
             "line": {
              "color": "rgb(17,17,17)",
              "width": 0.5
             },
             "pattern": {
              "fillmode": "overlay",
              "size": 10,
              "solidity": 0.2
             }
            },
            "type": "barpolar"
           }
          ],
          "carpet": [
           {
            "aaxis": {
             "endlinecolor": "#A2B1C6",
             "gridcolor": "#506784",
             "linecolor": "#506784",
             "minorgridcolor": "#506784",
             "startlinecolor": "#A2B1C6"
            },
            "baxis": {
             "endlinecolor": "#A2B1C6",
             "gridcolor": "#506784",
             "linecolor": "#506784",
             "minorgridcolor": "#506784",
             "startlinecolor": "#A2B1C6"
            },
            "type": "carpet"
           }
          ],
          "choropleth": [
           {
            "colorbar": {
             "outlinewidth": 0,
             "ticks": ""
            },
            "type": "choropleth"
           }
          ],
          "contour": [
           {
            "colorbar": {
             "outlinewidth": 0,
             "ticks": ""
            },
            "colorscale": [
             [
              0,
              "#0d0887"
             ],
             [
              0.1111111111111111,
              "#46039f"
             ],
             [
              0.2222222222222222,
              "#7201a8"
             ],
             [
              0.3333333333333333,
              "#9c179e"
             ],
             [
              0.4444444444444444,
              "#bd3786"
             ],
             [
              0.5555555555555556,
              "#d8576b"
             ],
             [
              0.6666666666666666,
              "#ed7953"
             ],
             [
              0.7777777777777778,
              "#fb9f3a"
             ],
             [
              0.8888888888888888,
              "#fdca26"
             ],
             [
              1,
              "#f0f921"
             ]
            ],
            "type": "contour"
           }
          ],
          "contourcarpet": [
           {
            "colorbar": {
             "outlinewidth": 0,
             "ticks": ""
            },
            "type": "contourcarpet"
           }
          ],
          "heatmap": [
           {
            "colorbar": {
             "outlinewidth": 0,
             "ticks": ""
            },
            "colorscale": [
             [
              0,
              "#0d0887"
             ],
             [
              0.1111111111111111,
              "#46039f"
             ],
             [
              0.2222222222222222,
              "#7201a8"
             ],
             [
              0.3333333333333333,
              "#9c179e"
             ],
             [
              0.4444444444444444,
              "#bd3786"
             ],
             [
              0.5555555555555556,
              "#d8576b"
             ],
             [
              0.6666666666666666,
              "#ed7953"
             ],
             [
              0.7777777777777778,
              "#fb9f3a"
             ],
             [
              0.8888888888888888,
              "#fdca26"
             ],
             [
              1,
              "#f0f921"
             ]
            ],
            "type": "heatmap"
           }
          ],
          "heatmapgl": [
           {
            "colorbar": {
             "outlinewidth": 0,
             "ticks": ""
            },
            "colorscale": [
             [
              0,
              "#0d0887"
             ],
             [
              0.1111111111111111,
              "#46039f"
             ],
             [
              0.2222222222222222,
              "#7201a8"
             ],
             [
              0.3333333333333333,
              "#9c179e"
             ],
             [
              0.4444444444444444,
              "#bd3786"
             ],
             [
              0.5555555555555556,
              "#d8576b"
             ],
             [
              0.6666666666666666,
              "#ed7953"
             ],
             [
              0.7777777777777778,
              "#fb9f3a"
             ],
             [
              0.8888888888888888,
              "#fdca26"
             ],
             [
              1,
              "#f0f921"
             ]
            ],
            "type": "heatmapgl"
           }
          ],
          "histogram": [
           {
            "marker": {
             "pattern": {
              "fillmode": "overlay",
              "size": 10,
              "solidity": 0.2
             }
            },
            "type": "histogram"
           }
          ],
          "histogram2d": [
           {
            "colorbar": {
             "outlinewidth": 0,
             "ticks": ""
            },
            "colorscale": [
             [
              0,
              "#0d0887"
             ],
             [
              0.1111111111111111,
              "#46039f"
             ],
             [
              0.2222222222222222,
              "#7201a8"
             ],
             [
              0.3333333333333333,
              "#9c179e"
             ],
             [
              0.4444444444444444,
              "#bd3786"
             ],
             [
              0.5555555555555556,
              "#d8576b"
             ],
             [
              0.6666666666666666,
              "#ed7953"
             ],
             [
              0.7777777777777778,
              "#fb9f3a"
             ],
             [
              0.8888888888888888,
              "#fdca26"
             ],
             [
              1,
              "#f0f921"
             ]
            ],
            "type": "histogram2d"
           }
          ],
          "histogram2dcontour": [
           {
            "colorbar": {
             "outlinewidth": 0,
             "ticks": ""
            },
            "colorscale": [
             [
              0,
              "#0d0887"
             ],
             [
              0.1111111111111111,
              "#46039f"
             ],
             [
              0.2222222222222222,
              "#7201a8"
             ],
             [
              0.3333333333333333,
              "#9c179e"
             ],
             [
              0.4444444444444444,
              "#bd3786"
             ],
             [
              0.5555555555555556,
              "#d8576b"
             ],
             [
              0.6666666666666666,
              "#ed7953"
             ],
             [
              0.7777777777777778,
              "#fb9f3a"
             ],
             [
              0.8888888888888888,
              "#fdca26"
             ],
             [
              1,
              "#f0f921"
             ]
            ],
            "type": "histogram2dcontour"
           }
          ],
          "mesh3d": [
           {
            "colorbar": {
             "outlinewidth": 0,
             "ticks": ""
            },
            "type": "mesh3d"
           }
          ],
          "parcoords": [
           {
            "line": {
             "colorbar": {
              "outlinewidth": 0,
              "ticks": ""
             }
            },
            "type": "parcoords"
           }
          ],
          "pie": [
           {
            "automargin": true,
            "type": "pie"
           }
          ],
          "scatter": [
           {
            "marker": {
             "line": {
              "color": "#283442"
             }
            },
            "type": "scatter"
           }
          ],
          "scatter3d": [
           {
            "line": {
             "colorbar": {
              "outlinewidth": 0,
              "ticks": ""
             }
            },
            "marker": {
             "colorbar": {
              "outlinewidth": 0,
              "ticks": ""
             }
            },
            "type": "scatter3d"
           }
          ],
          "scattercarpet": [
           {
            "marker": {
             "colorbar": {
              "outlinewidth": 0,
              "ticks": ""
             }
            },
            "type": "scattercarpet"
           }
          ],
          "scattergeo": [
           {
            "marker": {
             "colorbar": {
              "outlinewidth": 0,
              "ticks": ""
             }
            },
            "type": "scattergeo"
           }
          ],
          "scattergl": [
           {
            "marker": {
             "line": {
              "color": "#283442"
             }
            },
            "type": "scattergl"
           }
          ],
          "scattermapbox": [
           {
            "marker": {
             "colorbar": {
              "outlinewidth": 0,
              "ticks": ""
             }
            },
            "type": "scattermapbox"
           }
          ],
          "scatterpolar": [
           {
            "marker": {
             "colorbar": {
              "outlinewidth": 0,
              "ticks": ""
             }
            },
            "type": "scatterpolar"
           }
          ],
          "scatterpolargl": [
           {
            "marker": {
             "colorbar": {
              "outlinewidth": 0,
              "ticks": ""
             }
            },
            "type": "scatterpolargl"
           }
          ],
          "scatterternary": [
           {
            "marker": {
             "colorbar": {
              "outlinewidth": 0,
              "ticks": ""
             }
            },
            "type": "scatterternary"
           }
          ],
          "surface": [
           {
            "colorbar": {
             "outlinewidth": 0,
             "ticks": ""
            },
            "colorscale": [
             [
              0,
              "#0d0887"
             ],
             [
              0.1111111111111111,
              "#46039f"
             ],
             [
              0.2222222222222222,
              "#7201a8"
             ],
             [
              0.3333333333333333,
              "#9c179e"
             ],
             [
              0.4444444444444444,
              "#bd3786"
             ],
             [
              0.5555555555555556,
              "#d8576b"
             ],
             [
              0.6666666666666666,
              "#ed7953"
             ],
             [
              0.7777777777777778,
              "#fb9f3a"
             ],
             [
              0.8888888888888888,
              "#fdca26"
             ],
             [
              1,
              "#f0f921"
             ]
            ],
            "type": "surface"
           }
          ],
          "table": [
           {
            "cells": {
             "fill": {
              "color": "#506784"
             },
             "line": {
              "color": "rgb(17,17,17)"
             }
            },
            "header": {
             "fill": {
              "color": "#2a3f5f"
             },
             "line": {
              "color": "rgb(17,17,17)"
             }
            },
            "type": "table"
           }
          ]
         },
         "layout": {
          "annotationdefaults": {
           "arrowcolor": "#f2f5fa",
           "arrowhead": 0,
           "arrowwidth": 1
          },
          "autotypenumbers": "strict",
          "coloraxis": {
           "colorbar": {
            "outlinewidth": 0,
            "ticks": ""
           }
          },
          "colorscale": {
           "diverging": [
            [
             0,
             "#8e0152"
            ],
            [
             0.1,
             "#c51b7d"
            ],
            [
             0.2,
             "#de77ae"
            ],
            [
             0.3,
             "#f1b6da"
            ],
            [
             0.4,
             "#fde0ef"
            ],
            [
             0.5,
             "#f7f7f7"
            ],
            [
             0.6,
             "#e6f5d0"
            ],
            [
             0.7,
             "#b8e186"
            ],
            [
             0.8,
             "#7fbc41"
            ],
            [
             0.9,
             "#4d9221"
            ],
            [
             1,
             "#276419"
            ]
           ],
           "sequential": [
            [
             0,
             "#0d0887"
            ],
            [
             0.1111111111111111,
             "#46039f"
            ],
            [
             0.2222222222222222,
             "#7201a8"
            ],
            [
             0.3333333333333333,
             "#9c179e"
            ],
            [
             0.4444444444444444,
             "#bd3786"
            ],
            [
             0.5555555555555556,
             "#d8576b"
            ],
            [
             0.6666666666666666,
             "#ed7953"
            ],
            [
             0.7777777777777778,
             "#fb9f3a"
            ],
            [
             0.8888888888888888,
             "#fdca26"
            ],
            [
             1,
             "#f0f921"
            ]
           ],
           "sequentialminus": [
            [
             0,
             "#0d0887"
            ],
            [
             0.1111111111111111,
             "#46039f"
            ],
            [
             0.2222222222222222,
             "#7201a8"
            ],
            [
             0.3333333333333333,
             "#9c179e"
            ],
            [
             0.4444444444444444,
             "#bd3786"
            ],
            [
             0.5555555555555556,
             "#d8576b"
            ],
            [
             0.6666666666666666,
             "#ed7953"
            ],
            [
             0.7777777777777778,
             "#fb9f3a"
            ],
            [
             0.8888888888888888,
             "#fdca26"
            ],
            [
             1,
             "#f0f921"
            ]
           ]
          },
          "colorway": [
           "#636efa",
           "#EF553B",
           "#00cc96",
           "#ab63fa",
           "#FFA15A",
           "#19d3f3",
           "#FF6692",
           "#B6E880",
           "#FF97FF",
           "#FECB52"
          ],
          "font": {
           "color": "#f2f5fa"
          },
          "geo": {
           "bgcolor": "rgb(17,17,17)",
           "lakecolor": "rgb(17,17,17)",
           "landcolor": "rgb(17,17,17)",
           "showlakes": true,
           "showland": true,
           "subunitcolor": "#506784"
          },
          "hoverlabel": {
           "align": "left"
          },
          "hovermode": "closest",
          "mapbox": {
           "style": "dark"
          },
          "paper_bgcolor": "rgb(17,17,17)",
          "plot_bgcolor": "rgb(17,17,17)",
          "polar": {
           "angularaxis": {
            "gridcolor": "#506784",
            "linecolor": "#506784",
            "ticks": ""
           },
           "bgcolor": "rgb(17,17,17)",
           "radialaxis": {
            "gridcolor": "#506784",
            "linecolor": "#506784",
            "ticks": ""
           }
          },
          "scene": {
           "xaxis": {
            "backgroundcolor": "rgb(17,17,17)",
            "gridcolor": "#506784",
            "gridwidth": 2,
            "linecolor": "#506784",
            "showbackground": true,
            "ticks": "",
            "zerolinecolor": "#C8D4E3"
           },
           "yaxis": {
            "backgroundcolor": "rgb(17,17,17)",
            "gridcolor": "#506784",
            "gridwidth": 2,
            "linecolor": "#506784",
            "showbackground": true,
            "ticks": "",
            "zerolinecolor": "#C8D4E3"
           },
           "zaxis": {
            "backgroundcolor": "rgb(17,17,17)",
            "gridcolor": "#506784",
            "gridwidth": 2,
            "linecolor": "#506784",
            "showbackground": true,
            "ticks": "",
            "zerolinecolor": "#C8D4E3"
           }
          },
          "shapedefaults": {
           "line": {
            "color": "#f2f5fa"
           }
          },
          "sliderdefaults": {
           "bgcolor": "#C8D4E3",
           "bordercolor": "rgb(17,17,17)",
           "borderwidth": 1,
           "tickwidth": 0
          },
          "ternary": {
           "aaxis": {
            "gridcolor": "#506784",
            "linecolor": "#506784",
            "ticks": ""
           },
           "baxis": {
            "gridcolor": "#506784",
            "linecolor": "#506784",
            "ticks": ""
           },
           "bgcolor": "rgb(17,17,17)",
           "caxis": {
            "gridcolor": "#506784",
            "linecolor": "#506784",
            "ticks": ""
           }
          },
          "title": {
           "x": 0.05
          },
          "updatemenudefaults": {
           "bgcolor": "#506784",
           "borderwidth": 0
          },
          "xaxis": {
           "automargin": true,
           "gridcolor": "#283442",
           "linecolor": "#506784",
           "ticks": "",
           "title": {
            "standoff": 15
           },
           "zerolinecolor": "#283442",
           "zerolinewidth": 2
          },
          "yaxis": {
           "automargin": true,
           "gridcolor": "#283442",
           "linecolor": "#506784",
           "ticks": "",
           "title": {
            "standoff": 15
           },
           "zerolinecolor": "#283442",
           "zerolinewidth": 2
          }
         }
        },
        "title": {
         "text": "Saldo a liquidar por ano do empenho"
        },
        "xaxis": {
         "anchor": "y",
         "domain": [
          0,
          1
         ],
         "title": {
          "text": "Nome das UGR"
         }
        },
        "yaxis": {
         "anchor": "x",
         "domain": [
          0,
          1
         ],
         "title": {
          "text": "Saldo a liquidar"
         },
         "type": "log"
        }
       }
      }
     },
     "metadata": {},
     "output_type": "display_data"
    }
   ],
   "source": [
    "# Saldo a liquidar por tipo de NE\n",
    "cols = ['NOME_UGR', 'A_LIQUIDAR']\n",
    "\n",
    "df_aux = df.loc[:, cols].groupby('NOME_UGR').sum().sort_values(by= 'A_LIQUIDAR', ascending=False).reset_index()\n",
    "df_aux = df_aux[df_aux['A_LIQUIDAR'] > 0]\n",
    "fig = px.bar(df_aux, \n",
    "             x='NOME_UGR', \n",
    "             y='A_LIQUIDAR',\n",
    "             title='Saldo a liquidar por ano do empenho',\n",
    "             labels={'NOME_UGR':'Nome das UGR', 'A_LIQUIDAR':'Saldo a liquidar'},\n",
    "             text_auto='.3s',\n",
    "             height=400,\n",
    "             log_y=True,\n",
    "             color='A_LIQUIDAR',\n",
    "             color_continuous_scale = 'reds',\n",
    "             template='plotly_dark')\n",
    "fig.update_traces(textposition = 'outside', cliponaxis = False, hovertemplate=None)\n",
    "fig.update_layout(hovermode=\"x unified\")\n",
    "\n",
    "fig.show()"
   ]
  },
  {
   "cell_type": "code",
   "execution_count": 12,
   "metadata": {},
   "outputs": [
    {
     "data": {
      "application/vnd.plotly.v1+json": {
       "config": {
        "plotlyServerURL": "https://plot.ly"
       },
       "data": [
        {
         "cliponaxis": false,
         "name": "A Liquidar",
         "textposition": "outside",
         "type": "bar",
         "x": [
          "339039",
          "339033",
          "449052",
          "339030",
          "339037",
          "339093",
          "339015",
          "339040",
          "339047"
         ],
         "y": [
          2903355.87,
          1582481.74,
          1294079.34,
          717034.96,
          645215.99,
          222526.38,
          197795.2,
          151077.91,
          2149.54
         ]
        },
        {
         "cliponaxis": false,
         "name": "Liquidado a pagar",
         "textposition": "outside",
         "type": "bar",
         "x": [
          "339039",
          "339033",
          "449052",
          "339030",
          "339037",
          "339093",
          "339015",
          "339040",
          "339047"
         ],
         "y": [
          278555.2,
          39103.229999999996,
          24700.47,
          183224.13,
          2656.54,
          43094.17,
          3526.15,
          7669.120000000001,
          66.97
         ]
        },
        {
         "cliponaxis": false,
         "name": "Pago",
         "textposition": "outside",
         "type": "bar",
         "x": [
          "339039",
          "339033",
          "449052",
          "339030",
          "339037",
          "339093",
          "339015",
          "339040",
          "339047"
         ],
         "y": [
          8778400.34,
          556994.18,
          553934.74,
          1789481.6099999999,
          220393.45,
          904897.58,
          130542.43,
          96190.06,
          47270.780000000006
         ]
        }
       ],
       "layout": {
        "hovermode": "x unified",
        "template": {
         "data": {
          "bar": [
           {
            "error_x": {
             "color": "#2a3f5f"
            },
            "error_y": {
             "color": "#2a3f5f"
            },
            "marker": {
             "line": {
              "color": "#E5ECF6",
              "width": 0.5
             },
             "pattern": {
              "fillmode": "overlay",
              "size": 10,
              "solidity": 0.2
             }
            },
            "type": "bar"
           }
          ],
          "barpolar": [
           {
            "marker": {
             "line": {
              "color": "#E5ECF6",
              "width": 0.5
             },
             "pattern": {
              "fillmode": "overlay",
              "size": 10,
              "solidity": 0.2
             }
            },
            "type": "barpolar"
           }
          ],
          "carpet": [
           {
            "aaxis": {
             "endlinecolor": "#2a3f5f",
             "gridcolor": "white",
             "linecolor": "white",
             "minorgridcolor": "white",
             "startlinecolor": "#2a3f5f"
            },
            "baxis": {
             "endlinecolor": "#2a3f5f",
             "gridcolor": "white",
             "linecolor": "white",
             "minorgridcolor": "white",
             "startlinecolor": "#2a3f5f"
            },
            "type": "carpet"
           }
          ],
          "choropleth": [
           {
            "colorbar": {
             "outlinewidth": 0,
             "ticks": ""
            },
            "type": "choropleth"
           }
          ],
          "contour": [
           {
            "colorbar": {
             "outlinewidth": 0,
             "ticks": ""
            },
            "colorscale": [
             [
              0,
              "#0d0887"
             ],
             [
              0.1111111111111111,
              "#46039f"
             ],
             [
              0.2222222222222222,
              "#7201a8"
             ],
             [
              0.3333333333333333,
              "#9c179e"
             ],
             [
              0.4444444444444444,
              "#bd3786"
             ],
             [
              0.5555555555555556,
              "#d8576b"
             ],
             [
              0.6666666666666666,
              "#ed7953"
             ],
             [
              0.7777777777777778,
              "#fb9f3a"
             ],
             [
              0.8888888888888888,
              "#fdca26"
             ],
             [
              1,
              "#f0f921"
             ]
            ],
            "type": "contour"
           }
          ],
          "contourcarpet": [
           {
            "colorbar": {
             "outlinewidth": 0,
             "ticks": ""
            },
            "type": "contourcarpet"
           }
          ],
          "heatmap": [
           {
            "colorbar": {
             "outlinewidth": 0,
             "ticks": ""
            },
            "colorscale": [
             [
              0,
              "#0d0887"
             ],
             [
              0.1111111111111111,
              "#46039f"
             ],
             [
              0.2222222222222222,
              "#7201a8"
             ],
             [
              0.3333333333333333,
              "#9c179e"
             ],
             [
              0.4444444444444444,
              "#bd3786"
             ],
             [
              0.5555555555555556,
              "#d8576b"
             ],
             [
              0.6666666666666666,
              "#ed7953"
             ],
             [
              0.7777777777777778,
              "#fb9f3a"
             ],
             [
              0.8888888888888888,
              "#fdca26"
             ],
             [
              1,
              "#f0f921"
             ]
            ],
            "type": "heatmap"
           }
          ],
          "heatmapgl": [
           {
            "colorbar": {
             "outlinewidth": 0,
             "ticks": ""
            },
            "colorscale": [
             [
              0,
              "#0d0887"
             ],
             [
              0.1111111111111111,
              "#46039f"
             ],
             [
              0.2222222222222222,
              "#7201a8"
             ],
             [
              0.3333333333333333,
              "#9c179e"
             ],
             [
              0.4444444444444444,
              "#bd3786"
             ],
             [
              0.5555555555555556,
              "#d8576b"
             ],
             [
              0.6666666666666666,
              "#ed7953"
             ],
             [
              0.7777777777777778,
              "#fb9f3a"
             ],
             [
              0.8888888888888888,
              "#fdca26"
             ],
             [
              1,
              "#f0f921"
             ]
            ],
            "type": "heatmapgl"
           }
          ],
          "histogram": [
           {
            "marker": {
             "pattern": {
              "fillmode": "overlay",
              "size": 10,
              "solidity": 0.2
             }
            },
            "type": "histogram"
           }
          ],
          "histogram2d": [
           {
            "colorbar": {
             "outlinewidth": 0,
             "ticks": ""
            },
            "colorscale": [
             [
              0,
              "#0d0887"
             ],
             [
              0.1111111111111111,
              "#46039f"
             ],
             [
              0.2222222222222222,
              "#7201a8"
             ],
             [
              0.3333333333333333,
              "#9c179e"
             ],
             [
              0.4444444444444444,
              "#bd3786"
             ],
             [
              0.5555555555555556,
              "#d8576b"
             ],
             [
              0.6666666666666666,
              "#ed7953"
             ],
             [
              0.7777777777777778,
              "#fb9f3a"
             ],
             [
              0.8888888888888888,
              "#fdca26"
             ],
             [
              1,
              "#f0f921"
             ]
            ],
            "type": "histogram2d"
           }
          ],
          "histogram2dcontour": [
           {
            "colorbar": {
             "outlinewidth": 0,
             "ticks": ""
            },
            "colorscale": [
             [
              0,
              "#0d0887"
             ],
             [
              0.1111111111111111,
              "#46039f"
             ],
             [
              0.2222222222222222,
              "#7201a8"
             ],
             [
              0.3333333333333333,
              "#9c179e"
             ],
             [
              0.4444444444444444,
              "#bd3786"
             ],
             [
              0.5555555555555556,
              "#d8576b"
             ],
             [
              0.6666666666666666,
              "#ed7953"
             ],
             [
              0.7777777777777778,
              "#fb9f3a"
             ],
             [
              0.8888888888888888,
              "#fdca26"
             ],
             [
              1,
              "#f0f921"
             ]
            ],
            "type": "histogram2dcontour"
           }
          ],
          "mesh3d": [
           {
            "colorbar": {
             "outlinewidth": 0,
             "ticks": ""
            },
            "type": "mesh3d"
           }
          ],
          "parcoords": [
           {
            "line": {
             "colorbar": {
              "outlinewidth": 0,
              "ticks": ""
             }
            },
            "type": "parcoords"
           }
          ],
          "pie": [
           {
            "automargin": true,
            "type": "pie"
           }
          ],
          "scatter": [
           {
            "fillpattern": {
             "fillmode": "overlay",
             "size": 10,
             "solidity": 0.2
            },
            "type": "scatter"
           }
          ],
          "scatter3d": [
           {
            "line": {
             "colorbar": {
              "outlinewidth": 0,
              "ticks": ""
             }
            },
            "marker": {
             "colorbar": {
              "outlinewidth": 0,
              "ticks": ""
             }
            },
            "type": "scatter3d"
           }
          ],
          "scattercarpet": [
           {
            "marker": {
             "colorbar": {
              "outlinewidth": 0,
              "ticks": ""
             }
            },
            "type": "scattercarpet"
           }
          ],
          "scattergeo": [
           {
            "marker": {
             "colorbar": {
              "outlinewidth": 0,
              "ticks": ""
             }
            },
            "type": "scattergeo"
           }
          ],
          "scattergl": [
           {
            "marker": {
             "colorbar": {
              "outlinewidth": 0,
              "ticks": ""
             }
            },
            "type": "scattergl"
           }
          ],
          "scattermapbox": [
           {
            "marker": {
             "colorbar": {
              "outlinewidth": 0,
              "ticks": ""
             }
            },
            "type": "scattermapbox"
           }
          ],
          "scatterpolar": [
           {
            "marker": {
             "colorbar": {
              "outlinewidth": 0,
              "ticks": ""
             }
            },
            "type": "scatterpolar"
           }
          ],
          "scatterpolargl": [
           {
            "marker": {
             "colorbar": {
              "outlinewidth": 0,
              "ticks": ""
             }
            },
            "type": "scatterpolargl"
           }
          ],
          "scatterternary": [
           {
            "marker": {
             "colorbar": {
              "outlinewidth": 0,
              "ticks": ""
             }
            },
            "type": "scatterternary"
           }
          ],
          "surface": [
           {
            "colorbar": {
             "outlinewidth": 0,
             "ticks": ""
            },
            "colorscale": [
             [
              0,
              "#0d0887"
             ],
             [
              0.1111111111111111,
              "#46039f"
             ],
             [
              0.2222222222222222,
              "#7201a8"
             ],
             [
              0.3333333333333333,
              "#9c179e"
             ],
             [
              0.4444444444444444,
              "#bd3786"
             ],
             [
              0.5555555555555556,
              "#d8576b"
             ],
             [
              0.6666666666666666,
              "#ed7953"
             ],
             [
              0.7777777777777778,
              "#fb9f3a"
             ],
             [
              0.8888888888888888,
              "#fdca26"
             ],
             [
              1,
              "#f0f921"
             ]
            ],
            "type": "surface"
           }
          ],
          "table": [
           {
            "cells": {
             "fill": {
              "color": "#EBF0F8"
             },
             "line": {
              "color": "white"
             }
            },
            "header": {
             "fill": {
              "color": "#C8D4E3"
             },
             "line": {
              "color": "white"
             }
            },
            "type": "table"
           }
          ]
         },
         "layout": {
          "annotationdefaults": {
           "arrowcolor": "#2a3f5f",
           "arrowhead": 0,
           "arrowwidth": 1
          },
          "autotypenumbers": "strict",
          "coloraxis": {
           "colorbar": {
            "outlinewidth": 0,
            "ticks": ""
           }
          },
          "colorscale": {
           "diverging": [
            [
             0,
             "#8e0152"
            ],
            [
             0.1,
             "#c51b7d"
            ],
            [
             0.2,
             "#de77ae"
            ],
            [
             0.3,
             "#f1b6da"
            ],
            [
             0.4,
             "#fde0ef"
            ],
            [
             0.5,
             "#f7f7f7"
            ],
            [
             0.6,
             "#e6f5d0"
            ],
            [
             0.7,
             "#b8e186"
            ],
            [
             0.8,
             "#7fbc41"
            ],
            [
             0.9,
             "#4d9221"
            ],
            [
             1,
             "#276419"
            ]
           ],
           "sequential": [
            [
             0,
             "#0d0887"
            ],
            [
             0.1111111111111111,
             "#46039f"
            ],
            [
             0.2222222222222222,
             "#7201a8"
            ],
            [
             0.3333333333333333,
             "#9c179e"
            ],
            [
             0.4444444444444444,
             "#bd3786"
            ],
            [
             0.5555555555555556,
             "#d8576b"
            ],
            [
             0.6666666666666666,
             "#ed7953"
            ],
            [
             0.7777777777777778,
             "#fb9f3a"
            ],
            [
             0.8888888888888888,
             "#fdca26"
            ],
            [
             1,
             "#f0f921"
            ]
           ],
           "sequentialminus": [
            [
             0,
             "#0d0887"
            ],
            [
             0.1111111111111111,
             "#46039f"
            ],
            [
             0.2222222222222222,
             "#7201a8"
            ],
            [
             0.3333333333333333,
             "#9c179e"
            ],
            [
             0.4444444444444444,
             "#bd3786"
            ],
            [
             0.5555555555555556,
             "#d8576b"
            ],
            [
             0.6666666666666666,
             "#ed7953"
            ],
            [
             0.7777777777777778,
             "#fb9f3a"
            ],
            [
             0.8888888888888888,
             "#fdca26"
            ],
            [
             1,
             "#f0f921"
            ]
           ]
          },
          "colorway": [
           "#636efa",
           "#EF553B",
           "#00cc96",
           "#ab63fa",
           "#FFA15A",
           "#19d3f3",
           "#FF6692",
           "#B6E880",
           "#FF97FF",
           "#FECB52"
          ],
          "font": {
           "color": "#2a3f5f"
          },
          "geo": {
           "bgcolor": "white",
           "lakecolor": "white",
           "landcolor": "#E5ECF6",
           "showlakes": true,
           "showland": true,
           "subunitcolor": "white"
          },
          "hoverlabel": {
           "align": "left"
          },
          "hovermode": "closest",
          "mapbox": {
           "style": "light"
          },
          "paper_bgcolor": "white",
          "plot_bgcolor": "#E5ECF6",
          "polar": {
           "angularaxis": {
            "gridcolor": "white",
            "linecolor": "white",
            "ticks": ""
           },
           "bgcolor": "#E5ECF6",
           "radialaxis": {
            "gridcolor": "white",
            "linecolor": "white",
            "ticks": ""
           }
          },
          "scene": {
           "xaxis": {
            "backgroundcolor": "#E5ECF6",
            "gridcolor": "white",
            "gridwidth": 2,
            "linecolor": "white",
            "showbackground": true,
            "ticks": "",
            "zerolinecolor": "white"
           },
           "yaxis": {
            "backgroundcolor": "#E5ECF6",
            "gridcolor": "white",
            "gridwidth": 2,
            "linecolor": "white",
            "showbackground": true,
            "ticks": "",
            "zerolinecolor": "white"
           },
           "zaxis": {
            "backgroundcolor": "#E5ECF6",
            "gridcolor": "white",
            "gridwidth": 2,
            "linecolor": "white",
            "showbackground": true,
            "ticks": "",
            "zerolinecolor": "white"
           }
          },
          "shapedefaults": {
           "line": {
            "color": "#2a3f5f"
           }
          },
          "ternary": {
           "aaxis": {
            "gridcolor": "white",
            "linecolor": "white",
            "ticks": ""
           },
           "baxis": {
            "gridcolor": "white",
            "linecolor": "white",
            "ticks": ""
           },
           "bgcolor": "#E5ECF6",
           "caxis": {
            "gridcolor": "white",
            "linecolor": "white",
            "ticks": ""
           }
          },
          "title": {
           "x": 0.05
          },
          "xaxis": {
           "automargin": true,
           "gridcolor": "white",
           "linecolor": "white",
           "ticks": "",
           "title": {
            "standoff": 15
           },
           "zerolinecolor": "white",
           "zerolinewidth": 2
          },
          "yaxis": {
           "automargin": true,
           "gridcolor": "white",
           "linecolor": "white",
           "ticks": "",
           "title": {
            "standoff": 15
           },
           "zerolinecolor": "white",
           "zerolinewidth": 2
          }
         }
        },
        "yaxis": {
         "type": "log"
        }
       }
      }
     },
     "metadata": {},
     "output_type": "display_data"
    }
   ],
   "source": [
    "# Saldo a liquidar por ND\n",
    "cols = ['ND', 'A_LIQUIDAR', 'LIQUIDADO_A_PAGAR', 'PAGO']\n",
    "\n",
    "df_aux = df.loc[:, cols].groupby('ND').sum().sort_values(by= 'A_LIQUIDAR', ascending=False).reset_index()\n",
    "df_aux = df_aux[df_aux['A_LIQUIDAR'] > 0]\n",
    "# Criando o gráfico\n",
    "fig = go.Figure()\n",
    "\n",
    "# Adicionando as colunas y1, y2 e y3 no eixo y\n",
    "fig.add_trace(go.Bar(x=df_aux['ND'], y=df_aux['A_LIQUIDAR'], name='A Liquidar'))\n",
    "fig.add_trace(go.Bar(x=df_aux['ND'], y=df_aux['LIQUIDADO_A_PAGAR'], name='Liquidado a pagar'))\n",
    "fig.add_trace(go.Bar(x=df_aux['ND'], y=df_aux['PAGO'], name='Pago'))\n",
    "\n",
    "fig.update_traces(textposition = 'outside', cliponaxis = False, hovertemplate=None)\n",
    "fig.update_layout(hovermode=\"x unified\")\n",
    "fig.update_yaxes(type=\"log\")\n",
    "\n",
    "fig.show()"
   ]
  },
  {
   "cell_type": "markdown",
   "metadata": {},
   "source": [
    "# Suporte para o Dashboard"
   ]
  },
  {
   "cell_type": "code",
   "execution_count": 13,
   "metadata": {},
   "outputs": [
    {
     "data": {
      "text/html": [
       "<div>\n",
       "<style scoped>\n",
       "    .dataframe tbody tr th:only-of-type {\n",
       "        vertical-align: middle;\n",
       "    }\n",
       "\n",
       "    .dataframe tbody tr th {\n",
       "        vertical-align: top;\n",
       "    }\n",
       "\n",
       "    .dataframe thead th {\n",
       "        text-align: right;\n",
       "    }\n",
       "</style>\n",
       "<table border=\"1\" class=\"dataframe\">\n",
       "  <thead>\n",
       "    <tr style=\"text-align: right;\">\n",
       "      <th></th>\n",
       "      <th>NE</th>\n",
       "      <th>A_LIQUIDAR</th>\n",
       "      <th>DIAS</th>\n",
       "      <th>NOME_NDSI</th>\n",
       "      <th>NDSI</th>\n",
       "    </tr>\n",
       "  </thead>\n",
       "  <tbody>\n",
       "    <tr>\n",
       "      <th>303</th>\n",
       "      <td>2022NE002482</td>\n",
       "      <td>73594.62</td>\n",
       "      <td>544</td>\n",
       "      <td>MANUTENCAO E CONSERV. DE BENS IMOVEIS</td>\n",
       "      <td>33903916</td>\n",
       "    </tr>\n",
       "    <tr>\n",
       "      <th>304</th>\n",
       "      <td>2022NE002483</td>\n",
       "      <td>153862.23</td>\n",
       "      <td>544</td>\n",
       "      <td>MANUTENCAO E CONSERV. DE BENS IMOVEIS</td>\n",
       "      <td>33903916</td>\n",
       "    </tr>\n",
       "    <tr>\n",
       "      <th>323</th>\n",
       "      <td>2022NE002702</td>\n",
       "      <td>12733.76</td>\n",
       "      <td>530</td>\n",
       "      <td>MANUTENCAO E CONSERV. DE BENS IMOVEIS</td>\n",
       "      <td>33903916</td>\n",
       "    </tr>\n",
       "    <tr>\n",
       "      <th>342</th>\n",
       "      <td>2023NE000034</td>\n",
       "      <td>4172.63</td>\n",
       "      <td>493</td>\n",
       "      <td>PASSAGENS PARA O PAIS</td>\n",
       "      <td>33903301</td>\n",
       "    </tr>\n",
       "    <tr>\n",
       "      <th>341</th>\n",
       "      <td>2023NE000033</td>\n",
       "      <td>22498.10</td>\n",
       "      <td>493</td>\n",
       "      <td>PASSAGENS PARA O PAIS</td>\n",
       "      <td>33903301</td>\n",
       "    </tr>\n",
       "    <tr>\n",
       "      <th>349</th>\n",
       "      <td>2023NE000157</td>\n",
       "      <td>301.55</td>\n",
       "      <td>481</td>\n",
       "      <td>SERVICOS DOMESTICOS</td>\n",
       "      <td>33903946</td>\n",
       "    </tr>\n",
       "    <tr>\n",
       "      <th>343</th>\n",
       "      <td>2023NE000329</td>\n",
       "      <td>2369.34</td>\n",
       "      <td>434</td>\n",
       "      <td>PASSAGENS PARA O PAIS</td>\n",
       "      <td>33903301</td>\n",
       "    </tr>\n",
       "    <tr>\n",
       "      <th>311</th>\n",
       "      <td>2023NE000377</td>\n",
       "      <td>480.00</td>\n",
       "      <td>423</td>\n",
       "      <td>SERV.MEDICO-HOSPITAL.,ODONTOL.E LABORATORIAIS</td>\n",
       "      <td>33903950</td>\n",
       "    </tr>\n",
       "    <tr>\n",
       "      <th>795</th>\n",
       "      <td>2023NE000890</td>\n",
       "      <td>478.06</td>\n",
       "      <td>409</td>\n",
       "      <td>SERVICOS DOMESTICOS</td>\n",
       "      <td>33903946</td>\n",
       "    </tr>\n",
       "    <tr>\n",
       "      <th>357</th>\n",
       "      <td>2023NE000430</td>\n",
       "      <td>2264.08</td>\n",
       "      <td>405</td>\n",
       "      <td>SERVICOS DOMESTICOS</td>\n",
       "      <td>33903946</td>\n",
       "    </tr>\n",
       "  </tbody>\n",
       "</table>\n",
       "</div>"
      ],
      "text/plain": [
       "               NE  A_LIQUIDAR  DIAS  \\\n",
       "303  2022NE002482    73594.62   544   \n",
       "304  2022NE002483   153862.23   544   \n",
       "323  2022NE002702    12733.76   530   \n",
       "342  2023NE000034     4172.63   493   \n",
       "341  2023NE000033    22498.10   493   \n",
       "349  2023NE000157      301.55   481   \n",
       "343  2023NE000329     2369.34   434   \n",
       "311  2023NE000377      480.00   423   \n",
       "795  2023NE000890      478.06   409   \n",
       "357  2023NE000430     2264.08   405   \n",
       "\n",
       "                                         NOME_NDSI      NDSI  \n",
       "303          MANUTENCAO E CONSERV. DE BENS IMOVEIS  33903916  \n",
       "304          MANUTENCAO E CONSERV. DE BENS IMOVEIS  33903916  \n",
       "323          MANUTENCAO E CONSERV. DE BENS IMOVEIS  33903916  \n",
       "342                          PASSAGENS PARA O PAIS  33903301  \n",
       "341                          PASSAGENS PARA O PAIS  33903301  \n",
       "349                            SERVICOS DOMESTICOS  33903946  \n",
       "343                          PASSAGENS PARA O PAIS  33903301  \n",
       "311  SERV.MEDICO-HOSPITAL.,ODONTOL.E LABORATORIAIS  33903950  \n",
       "795                            SERVICOS DOMESTICOS  33903946  \n",
       "357                            SERVICOS DOMESTICOS  33903946  "
      ]
     },
     "execution_count": 13,
     "metadata": {},
     "output_type": "execute_result"
    }
   ],
   "source": [
    "cols = ['NE', 'A_LIQUIDAR', 'DIAS', 'NOME_NDSI', 'NDSI']\n",
    "\n",
    "df_aux = df.loc[:, cols].sort_values(by='DIAS', ascending=False)\n",
    "df_aux = df_aux[df_aux['A_LIQUIDAR'] != 0].head(10)\n",
    "df_aux"
   ]
  },
  {
   "cell_type": "code",
   "execution_count": 14,
   "metadata": {},
   "outputs": [
    {
     "data": {
      "application/vnd.plotly.v1+json": {
       "config": {
        "plotlyServerURL": "https://plot.ly"
       },
       "data": [
        {
         "alignmentgroup": "True",
         "customdata": [
          [
           544,
           "MANUTENCAO E CONSERV. DE BENS IMOVEIS",
           "33903916"
          ],
          [
           544,
           "MANUTENCAO E CONSERV. DE BENS IMOVEIS",
           "33903916"
          ],
          [
           530,
           "MANUTENCAO E CONSERV. DE BENS IMOVEIS",
           "33903916"
          ],
          [
           493,
           "PASSAGENS PARA O PAIS",
           "33903301"
          ],
          [
           493,
           "PASSAGENS PARA O PAIS",
           "33903301"
          ],
          [
           481,
           "SERVICOS DOMESTICOS",
           "33903946"
          ],
          [
           434,
           "PASSAGENS PARA O PAIS",
           "33903301"
          ],
          [
           423,
           "SERV.MEDICO-HOSPITAL.,ODONTOL.E LABORATORIAIS",
           "33903950"
          ],
          [
           409,
           "SERVICOS DOMESTICOS",
           "33903946"
          ],
          [
           405,
           "SERVICOS DOMESTICOS",
           "33903946"
          ]
         ],
         "hovertemplate": "<b>%{hovertext}</b><br><br>Nota de Empenho=%{x}<br>Saldo a liquidar=%{y}<br>DIAS=%{marker.color}<br>NOME_NDSI=%{customdata[1]}<br>NDSI=%{customdata[2]}<extra></extra>",
         "hovertext": [
          "2022NE002482",
          "2022NE002483",
          "2022NE002702",
          "2023NE000034",
          "2023NE000033",
          "2023NE000157",
          "2023NE000329",
          "2023NE000377",
          "2023NE000890",
          "2023NE000430"
         ],
         "legendgroup": "",
         "marker": {
          "color": [
           544,
           544,
           530,
           493,
           493,
           481,
           434,
           423,
           409,
           405
          ],
          "coloraxis": "coloraxis",
          "pattern": {
           "shape": ""
          }
         },
         "name": "",
         "offsetgroup": "",
         "orientation": "v",
         "showlegend": false,
         "textposition": "outside",
         "texttemplate": "%{y:.3s}",
         "type": "bar",
         "x": [
          "2022NE002482",
          "2022NE002483",
          "2022NE002702",
          "2023NE000034",
          "2023NE000033",
          "2023NE000157",
          "2023NE000329",
          "2023NE000377",
          "2023NE000890",
          "2023NE000430"
         ],
         "xaxis": "x",
         "y": [
          73594.62,
          153862.23,
          12733.76,
          4172.63,
          22498.1,
          301.55,
          2369.34,
          480,
          478.06,
          2264.08
         ],
         "yaxis": "y"
        }
       ],
       "layout": {
        "barmode": "relative",
        "coloraxis": {
         "colorbar": {
          "title": {
           "text": "DIAS"
          }
         },
         "colorscale": [
          [
           0,
           "rgb(255,245,240)"
          ],
          [
           0.125,
           "rgb(254,224,210)"
          ],
          [
           0.25,
           "rgb(252,187,161)"
          ],
          [
           0.375,
           "rgb(252,146,114)"
          ],
          [
           0.5,
           "rgb(251,106,74)"
          ],
          [
           0.625,
           "rgb(239,59,44)"
          ],
          [
           0.75,
           "rgb(203,24,29)"
          ],
          [
           0.875,
           "rgb(165,15,21)"
          ],
          [
           1,
           "rgb(103,0,13)"
          ]
         ]
        },
        "legend": {
         "tracegroupgap": 0
        },
        "template": {
         "data": {
          "bar": [
           {
            "error_x": {
             "color": "#f2f5fa"
            },
            "error_y": {
             "color": "#f2f5fa"
            },
            "marker": {
             "line": {
              "color": "rgb(17,17,17)",
              "width": 0.5
             },
             "pattern": {
              "fillmode": "overlay",
              "size": 10,
              "solidity": 0.2
             }
            },
            "type": "bar"
           }
          ],
          "barpolar": [
           {
            "marker": {
             "line": {
              "color": "rgb(17,17,17)",
              "width": 0.5
             },
             "pattern": {
              "fillmode": "overlay",
              "size": 10,
              "solidity": 0.2
             }
            },
            "type": "barpolar"
           }
          ],
          "carpet": [
           {
            "aaxis": {
             "endlinecolor": "#A2B1C6",
             "gridcolor": "#506784",
             "linecolor": "#506784",
             "minorgridcolor": "#506784",
             "startlinecolor": "#A2B1C6"
            },
            "baxis": {
             "endlinecolor": "#A2B1C6",
             "gridcolor": "#506784",
             "linecolor": "#506784",
             "minorgridcolor": "#506784",
             "startlinecolor": "#A2B1C6"
            },
            "type": "carpet"
           }
          ],
          "choropleth": [
           {
            "colorbar": {
             "outlinewidth": 0,
             "ticks": ""
            },
            "type": "choropleth"
           }
          ],
          "contour": [
           {
            "colorbar": {
             "outlinewidth": 0,
             "ticks": ""
            },
            "colorscale": [
             [
              0,
              "#0d0887"
             ],
             [
              0.1111111111111111,
              "#46039f"
             ],
             [
              0.2222222222222222,
              "#7201a8"
             ],
             [
              0.3333333333333333,
              "#9c179e"
             ],
             [
              0.4444444444444444,
              "#bd3786"
             ],
             [
              0.5555555555555556,
              "#d8576b"
             ],
             [
              0.6666666666666666,
              "#ed7953"
             ],
             [
              0.7777777777777778,
              "#fb9f3a"
             ],
             [
              0.8888888888888888,
              "#fdca26"
             ],
             [
              1,
              "#f0f921"
             ]
            ],
            "type": "contour"
           }
          ],
          "contourcarpet": [
           {
            "colorbar": {
             "outlinewidth": 0,
             "ticks": ""
            },
            "type": "contourcarpet"
           }
          ],
          "heatmap": [
           {
            "colorbar": {
             "outlinewidth": 0,
             "ticks": ""
            },
            "colorscale": [
             [
              0,
              "#0d0887"
             ],
             [
              0.1111111111111111,
              "#46039f"
             ],
             [
              0.2222222222222222,
              "#7201a8"
             ],
             [
              0.3333333333333333,
              "#9c179e"
             ],
             [
              0.4444444444444444,
              "#bd3786"
             ],
             [
              0.5555555555555556,
              "#d8576b"
             ],
             [
              0.6666666666666666,
              "#ed7953"
             ],
             [
              0.7777777777777778,
              "#fb9f3a"
             ],
             [
              0.8888888888888888,
              "#fdca26"
             ],
             [
              1,
              "#f0f921"
             ]
            ],
            "type": "heatmap"
           }
          ],
          "heatmapgl": [
           {
            "colorbar": {
             "outlinewidth": 0,
             "ticks": ""
            },
            "colorscale": [
             [
              0,
              "#0d0887"
             ],
             [
              0.1111111111111111,
              "#46039f"
             ],
             [
              0.2222222222222222,
              "#7201a8"
             ],
             [
              0.3333333333333333,
              "#9c179e"
             ],
             [
              0.4444444444444444,
              "#bd3786"
             ],
             [
              0.5555555555555556,
              "#d8576b"
             ],
             [
              0.6666666666666666,
              "#ed7953"
             ],
             [
              0.7777777777777778,
              "#fb9f3a"
             ],
             [
              0.8888888888888888,
              "#fdca26"
             ],
             [
              1,
              "#f0f921"
             ]
            ],
            "type": "heatmapgl"
           }
          ],
          "histogram": [
           {
            "marker": {
             "pattern": {
              "fillmode": "overlay",
              "size": 10,
              "solidity": 0.2
             }
            },
            "type": "histogram"
           }
          ],
          "histogram2d": [
           {
            "colorbar": {
             "outlinewidth": 0,
             "ticks": ""
            },
            "colorscale": [
             [
              0,
              "#0d0887"
             ],
             [
              0.1111111111111111,
              "#46039f"
             ],
             [
              0.2222222222222222,
              "#7201a8"
             ],
             [
              0.3333333333333333,
              "#9c179e"
             ],
             [
              0.4444444444444444,
              "#bd3786"
             ],
             [
              0.5555555555555556,
              "#d8576b"
             ],
             [
              0.6666666666666666,
              "#ed7953"
             ],
             [
              0.7777777777777778,
              "#fb9f3a"
             ],
             [
              0.8888888888888888,
              "#fdca26"
             ],
             [
              1,
              "#f0f921"
             ]
            ],
            "type": "histogram2d"
           }
          ],
          "histogram2dcontour": [
           {
            "colorbar": {
             "outlinewidth": 0,
             "ticks": ""
            },
            "colorscale": [
             [
              0,
              "#0d0887"
             ],
             [
              0.1111111111111111,
              "#46039f"
             ],
             [
              0.2222222222222222,
              "#7201a8"
             ],
             [
              0.3333333333333333,
              "#9c179e"
             ],
             [
              0.4444444444444444,
              "#bd3786"
             ],
             [
              0.5555555555555556,
              "#d8576b"
             ],
             [
              0.6666666666666666,
              "#ed7953"
             ],
             [
              0.7777777777777778,
              "#fb9f3a"
             ],
             [
              0.8888888888888888,
              "#fdca26"
             ],
             [
              1,
              "#f0f921"
             ]
            ],
            "type": "histogram2dcontour"
           }
          ],
          "mesh3d": [
           {
            "colorbar": {
             "outlinewidth": 0,
             "ticks": ""
            },
            "type": "mesh3d"
           }
          ],
          "parcoords": [
           {
            "line": {
             "colorbar": {
              "outlinewidth": 0,
              "ticks": ""
             }
            },
            "type": "parcoords"
           }
          ],
          "pie": [
           {
            "automargin": true,
            "type": "pie"
           }
          ],
          "scatter": [
           {
            "marker": {
             "line": {
              "color": "#283442"
             }
            },
            "type": "scatter"
           }
          ],
          "scatter3d": [
           {
            "line": {
             "colorbar": {
              "outlinewidth": 0,
              "ticks": ""
             }
            },
            "marker": {
             "colorbar": {
              "outlinewidth": 0,
              "ticks": ""
             }
            },
            "type": "scatter3d"
           }
          ],
          "scattercarpet": [
           {
            "marker": {
             "colorbar": {
              "outlinewidth": 0,
              "ticks": ""
             }
            },
            "type": "scattercarpet"
           }
          ],
          "scattergeo": [
           {
            "marker": {
             "colorbar": {
              "outlinewidth": 0,
              "ticks": ""
             }
            },
            "type": "scattergeo"
           }
          ],
          "scattergl": [
           {
            "marker": {
             "line": {
              "color": "#283442"
             }
            },
            "type": "scattergl"
           }
          ],
          "scattermapbox": [
           {
            "marker": {
             "colorbar": {
              "outlinewidth": 0,
              "ticks": ""
             }
            },
            "type": "scattermapbox"
           }
          ],
          "scatterpolar": [
           {
            "marker": {
             "colorbar": {
              "outlinewidth": 0,
              "ticks": ""
             }
            },
            "type": "scatterpolar"
           }
          ],
          "scatterpolargl": [
           {
            "marker": {
             "colorbar": {
              "outlinewidth": 0,
              "ticks": ""
             }
            },
            "type": "scatterpolargl"
           }
          ],
          "scatterternary": [
           {
            "marker": {
             "colorbar": {
              "outlinewidth": 0,
              "ticks": ""
             }
            },
            "type": "scatterternary"
           }
          ],
          "surface": [
           {
            "colorbar": {
             "outlinewidth": 0,
             "ticks": ""
            },
            "colorscale": [
             [
              0,
              "#0d0887"
             ],
             [
              0.1111111111111111,
              "#46039f"
             ],
             [
              0.2222222222222222,
              "#7201a8"
             ],
             [
              0.3333333333333333,
              "#9c179e"
             ],
             [
              0.4444444444444444,
              "#bd3786"
             ],
             [
              0.5555555555555556,
              "#d8576b"
             ],
             [
              0.6666666666666666,
              "#ed7953"
             ],
             [
              0.7777777777777778,
              "#fb9f3a"
             ],
             [
              0.8888888888888888,
              "#fdca26"
             ],
             [
              1,
              "#f0f921"
             ]
            ],
            "type": "surface"
           }
          ],
          "table": [
           {
            "cells": {
             "fill": {
              "color": "#506784"
             },
             "line": {
              "color": "rgb(17,17,17)"
             }
            },
            "header": {
             "fill": {
              "color": "#2a3f5f"
             },
             "line": {
              "color": "rgb(17,17,17)"
             }
            },
            "type": "table"
           }
          ]
         },
         "layout": {
          "annotationdefaults": {
           "arrowcolor": "#f2f5fa",
           "arrowhead": 0,
           "arrowwidth": 1
          },
          "autotypenumbers": "strict",
          "coloraxis": {
           "colorbar": {
            "outlinewidth": 0,
            "ticks": ""
           }
          },
          "colorscale": {
           "diverging": [
            [
             0,
             "#8e0152"
            ],
            [
             0.1,
             "#c51b7d"
            ],
            [
             0.2,
             "#de77ae"
            ],
            [
             0.3,
             "#f1b6da"
            ],
            [
             0.4,
             "#fde0ef"
            ],
            [
             0.5,
             "#f7f7f7"
            ],
            [
             0.6,
             "#e6f5d0"
            ],
            [
             0.7,
             "#b8e186"
            ],
            [
             0.8,
             "#7fbc41"
            ],
            [
             0.9,
             "#4d9221"
            ],
            [
             1,
             "#276419"
            ]
           ],
           "sequential": [
            [
             0,
             "#0d0887"
            ],
            [
             0.1111111111111111,
             "#46039f"
            ],
            [
             0.2222222222222222,
             "#7201a8"
            ],
            [
             0.3333333333333333,
             "#9c179e"
            ],
            [
             0.4444444444444444,
             "#bd3786"
            ],
            [
             0.5555555555555556,
             "#d8576b"
            ],
            [
             0.6666666666666666,
             "#ed7953"
            ],
            [
             0.7777777777777778,
             "#fb9f3a"
            ],
            [
             0.8888888888888888,
             "#fdca26"
            ],
            [
             1,
             "#f0f921"
            ]
           ],
           "sequentialminus": [
            [
             0,
             "#0d0887"
            ],
            [
             0.1111111111111111,
             "#46039f"
            ],
            [
             0.2222222222222222,
             "#7201a8"
            ],
            [
             0.3333333333333333,
             "#9c179e"
            ],
            [
             0.4444444444444444,
             "#bd3786"
            ],
            [
             0.5555555555555556,
             "#d8576b"
            ],
            [
             0.6666666666666666,
             "#ed7953"
            ],
            [
             0.7777777777777778,
             "#fb9f3a"
            ],
            [
             0.8888888888888888,
             "#fdca26"
            ],
            [
             1,
             "#f0f921"
            ]
           ]
          },
          "colorway": [
           "#636efa",
           "#EF553B",
           "#00cc96",
           "#ab63fa",
           "#FFA15A",
           "#19d3f3",
           "#FF6692",
           "#B6E880",
           "#FF97FF",
           "#FECB52"
          ],
          "font": {
           "color": "#f2f5fa"
          },
          "geo": {
           "bgcolor": "rgb(17,17,17)",
           "lakecolor": "rgb(17,17,17)",
           "landcolor": "rgb(17,17,17)",
           "showlakes": true,
           "showland": true,
           "subunitcolor": "#506784"
          },
          "hoverlabel": {
           "align": "left"
          },
          "hovermode": "closest",
          "mapbox": {
           "style": "dark"
          },
          "paper_bgcolor": "rgb(17,17,17)",
          "plot_bgcolor": "rgb(17,17,17)",
          "polar": {
           "angularaxis": {
            "gridcolor": "#506784",
            "linecolor": "#506784",
            "ticks": ""
           },
           "bgcolor": "rgb(17,17,17)",
           "radialaxis": {
            "gridcolor": "#506784",
            "linecolor": "#506784",
            "ticks": ""
           }
          },
          "scene": {
           "xaxis": {
            "backgroundcolor": "rgb(17,17,17)",
            "gridcolor": "#506784",
            "gridwidth": 2,
            "linecolor": "#506784",
            "showbackground": true,
            "ticks": "",
            "zerolinecolor": "#C8D4E3"
           },
           "yaxis": {
            "backgroundcolor": "rgb(17,17,17)",
            "gridcolor": "#506784",
            "gridwidth": 2,
            "linecolor": "#506784",
            "showbackground": true,
            "ticks": "",
            "zerolinecolor": "#C8D4E3"
           },
           "zaxis": {
            "backgroundcolor": "rgb(17,17,17)",
            "gridcolor": "#506784",
            "gridwidth": 2,
            "linecolor": "#506784",
            "showbackground": true,
            "ticks": "",
            "zerolinecolor": "#C8D4E3"
           }
          },
          "shapedefaults": {
           "line": {
            "color": "#f2f5fa"
           }
          },
          "sliderdefaults": {
           "bgcolor": "#C8D4E3",
           "bordercolor": "rgb(17,17,17)",
           "borderwidth": 1,
           "tickwidth": 0
          },
          "ternary": {
           "aaxis": {
            "gridcolor": "#506784",
            "linecolor": "#506784",
            "ticks": ""
           },
           "baxis": {
            "gridcolor": "#506784",
            "linecolor": "#506784",
            "ticks": ""
           },
           "bgcolor": "rgb(17,17,17)",
           "caxis": {
            "gridcolor": "#506784",
            "linecolor": "#506784",
            "ticks": ""
           }
          },
          "title": {
           "x": 0.05
          },
          "updatemenudefaults": {
           "bgcolor": "#506784",
           "borderwidth": 0
          },
          "xaxis": {
           "automargin": true,
           "gridcolor": "#283442",
           "linecolor": "#506784",
           "ticks": "",
           "title": {
            "standoff": 15
           },
           "zerolinecolor": "#283442",
           "zerolinewidth": 2
          },
          "yaxis": {
           "automargin": true,
           "gridcolor": "#283442",
           "linecolor": "#506784",
           "ticks": "",
           "title": {
            "standoff": 15
           },
           "zerolinecolor": "#283442",
           "zerolinewidth": 2
          }
         }
        },
        "title": {
         "text": "10 empenhos com mais tempo na tela"
        },
        "xaxis": {
         "anchor": "y",
         "domain": [
          0,
          1
         ],
         "title": {
          "text": "Nota de Empenho"
         }
        },
        "yaxis": {
         "anchor": "x",
         "domain": [
          0,
          1
         ],
         "title": {
          "text": "Saldo a liquidar"
         },
         "type": "log"
        }
       }
      }
     },
     "metadata": {},
     "output_type": "display_data"
    }
   ],
   "source": [
    "# Saldo a liquidar por tipo de NE\n",
    "cols = ['NE', 'A_LIQUIDAR', 'DIAS', 'NOME_NDSI', 'NDSI']\n",
    "df_aux = df.loc[:, cols].sort_values(by='DIAS', ascending=False)\n",
    "df_aux = df_aux[df_aux['A_LIQUIDAR'] != 0].head(10)\n",
    "fig = px.bar(df_aux, \n",
    "             x='NE', \n",
    "             y='A_LIQUIDAR',\n",
    "             title='10 empenhos com mais tempo na tela',\n",
    "             labels={'NE':'Nota de Empenho', 'A_LIQUIDAR':'Saldo a liquidar'},\n",
    "             text_auto='.3s',\n",
    "             color='DIAS',\n",
    "             color_continuous_scale = 'reds',\n",
    "             log_y=True,\n",
    "             template='plotly_dark',\n",
    "             hover_name=\"NE\", hover_data={'DIAS': True, 'A_LIQUIDAR': True, 'NOME_NDSI': True, 'NDSI': True})\n",
    "fig.update_traces(textposition = 'outside')\n",
    "\n",
    "\n",
    "fig.show()"
   ]
  },
  {
   "cell_type": "markdown",
   "metadata": {},
   "source": [
    "## Informações para SideBar"
   ]
  },
  {
   "cell_type": "code",
   "execution_count": 15,
   "metadata": {},
   "outputs": [
    {
     "data": {
      "text/plain": [
       "1721"
      ]
     },
     "execution_count": 15,
     "metadata": {},
     "output_type": "execute_result"
    }
   ],
   "source": [
    "# Qtde de empenhos realizados até o momento\n",
    "df.shape[0]"
   ]
  },
  {
   "cell_type": "markdown",
   "metadata": {},
   "source": [
    "# Requisição em API para consulta a CNPJ"
   ]
  },
  {
   "cell_type": "code",
   "execution_count": 16,
   "metadata": {},
   "outputs": [
    {
     "name": "stdout",
     "output_type": "stream",
     "text": [
      "{'abertura': '04/05/1999',\n",
      " 'atividade_principal': [{'code': '49.30-2-04',\n",
      "                          'text': 'Transporte rodoviário de mudanças'}],\n",
      " 'atividades_secundarias': [{'code': '49.30-2-01',\n",
      "                             'text': 'Transporte rodoviário de carga, exceto '\n",
      "                                     'produtos perigosos e mudanças, '\n",
      "                                     'municipal.'},\n",
      "                            {'code': '49.30-2-02',\n",
      "                             'text': 'Transporte rodoviário de carga, exceto '\n",
      "                                     'produtos perigosos e mudanças, '\n",
      "                                     'intermunicipal, interestadual e '\n",
      "                                     'internacional'},\n",
      "                            {'code': '52.11-7-02', 'text': 'Guarda-móveis'}],\n",
      " 'bairro': 'ZONA INDUSTRIAL (GUARA)',\n",
      " 'billing': {'database': True, 'free': True},\n",
      " 'capital_social': '93700.00',\n",
      " 'cep': '71.250-710',\n",
      " 'cnpj': '03.126.110/0001-92',\n",
      " 'complemento': 'LOTE;',\n",
      " 'data_situacao': '03/11/2005',\n",
      " 'data_situacao_especial': '',\n",
      " 'efr': '',\n",
      " 'email': '',\n",
      " 'extra': {},\n",
      " 'fantasia': 'MARCA SUL MUDANCAS',\n",
      " 'logradouro': 'ST SCIA QUADRA 8 CONJUNTO 8',\n",
      " 'motivo_situacao': '',\n",
      " 'municipio': 'BRASILIA',\n",
      " 'natureza_juridica': '206-2 - Sociedade Empresária Limitada',\n",
      " 'nome': 'MARCA SUL MUDANCAS E TRANSPORTES LTDA',\n",
      " 'numero': '13',\n",
      " 'porte': 'EMPRESA DE PEQUENO PORTE',\n",
      " 'qsa': [{'nome': 'LINDOMAR SELAU CARLOS', 'qual': '49-Sócio-Administrador'}],\n",
      " 'situacao': 'ATIVA',\n",
      " 'situacao_especial': '',\n",
      " 'status': 'OK',\n",
      " 'telefone': '(61) 8305-0179',\n",
      " 'tipo': 'MATRIZ',\n",
      " 'uf': 'DF',\n",
      " 'ultima_atualizacao': '2024-05-26T05:03:31.429Z'}\n"
     ]
    }
   ],
   "source": [
    "import requests\n",
    "from pprint import pprint\n",
    "\n",
    "url = \"https://receitaws.com.br/v1/cnpj/03126110000192\"\n",
    "\n",
    "headers = {\"Accept\": \"application/json\"}\n",
    "\n",
    "response = requests.get(url, headers=headers)\n",
    "\n",
    "pprint(response.json())"
   ]
  },
  {
   "cell_type": "code",
   "execution_count": 17,
   "metadata": {},
   "outputs": [
    {
     "name": "stdout",
     "output_type": "stream",
     "text": [
      "{'abertura': '28/08/2015',\n",
      " 'atividade_principal': [{'code': '26.21-3-00',\n",
      "                          'text': 'Fabricação de equipamentos de informática'}],\n",
      " 'atividades_secundarias': [{'code': '26.22-1-00',\n",
      "                             'text': 'Fabricação de periféricos para '\n",
      "                                     'equipamentos de informática'},\n",
      "                            {'code': '27.59-7-99',\n",
      "                             'text': 'Fabricação de outros aparelhos '\n",
      "                                     'eletrodomésticos não especificados '\n",
      "                                     'anteriormente, peças e acessórios'},\n",
      "                            {'code': '46.19-2-00',\n",
      "                             'text': 'Representantes comerciais e agentes do '\n",
      "                                     'comércio de mercadorias em geral não '\n",
      "                                     'especializado'},\n",
      "                            {'code': '46.51-6-01',\n",
      "                             'text': 'Comércio atacadista de equipamentos de '\n",
      "                                     'informática'},\n",
      "                            {'code': '47.54-7-01',\n",
      "                             'text': 'Comércio varejista de móveis'},\n",
      "                            {'code': '46.49-4-02',\n",
      "                             'text': 'Comércio atacadista de aparelhos '\n",
      "                                     'eletrônicos de uso pessoal e doméstico'},\n",
      "                            {'code': '46.47-8-02',\n",
      "                             'text': 'Comércio atacadista de livros, jornais e '\n",
      "                                     'outras publicações'},\n",
      "                            {'code': '62.04-0-00',\n",
      "                             'text': 'Consultoria em tecnologia da informação'},\n",
      "                            {'code': '62.02-3-00',\n",
      "                             'text': 'Desenvolvimento e licenciamento de '\n",
      "                                     'programas de computador customizáveis'},\n",
      "                            {'code': '63.19-4-00',\n",
      "                             'text': 'Portais, provedores de conteúdo e outros '\n",
      "                                     'serviços de informação na internet'},\n",
      "                            {'code': '62.01-5-01',\n",
      "                             'text': 'Desenvolvimento de programas de '\n",
      "                                     'computador sob encomenda'},\n",
      "                            {'code': '58.11-5-00', 'text': 'Edição de livros'},\n",
      "                            {'code': '64.62-0-00',\n",
      "                             'text': 'Holdings de instituições '\n",
      "                                     'não-financeiras'},\n",
      "                            {'code': '71.19-7-03',\n",
      "                             'text': 'Serviços de desenho técnico relacionados '\n",
      "                                     'à arquitetura e engenharia'},\n",
      "                            {'code': '77.33-1-00',\n",
      "                             'text': 'Aluguel de máquinas e equipamentos para '\n",
      "                                     'escritórios'},\n",
      "                            {'code': '77.40-3-00',\n",
      "                             'text': 'Gestão de ativos intangíveis '\n",
      "                                     'não-financeiros'},\n",
      "                            {'code': '85.50-3-02',\n",
      "                             'text': 'Atividades de apoio à educação, exceto '\n",
      "                                     'caixas escolares'},\n",
      "                            {'code': '85.99-6-04',\n",
      "                             'text': 'Treinamento em desenvolvimento '\n",
      "                                     'profissional e gerencial'},\n",
      "                            {'code': '95.21-5-00',\n",
      "                             'text': 'Reparação e manutenção de equipamentos '\n",
      "                                     'eletroeletrônicos de uso pessoal e '\n",
      "                                     'doméstico'},\n",
      "                            {'code': '95.11-8-00',\n",
      "                             'text': 'Reparação e manutenção de computadores e '\n",
      "                                     'de equipamentos periféricos'},\n",
      "                            {'code': '26.32-9-00',\n",
      "                             'text': 'Fabricação de aparelhos telefônicos e de '\n",
      "                                     'outros equipamentos de comunicação, '\n",
      "                                     'peças e acessórios'}],\n",
      " 'bairro': 'DISTRITO INDUSTRIAL I',\n",
      " 'billing': {'database': True, 'free': True},\n",
      " 'capital_social': '0.00',\n",
      " 'cep': '69.075-110',\n",
      " 'cnpj': '81.243.735/0019-77',\n",
      " 'complemento': 'LOTE 257-B',\n",
      " 'data_situacao': '28/08/2015',\n",
      " 'data_situacao_especial': '',\n",
      " 'efr': '',\n",
      " 'email': 'fiscal@positivo.com.br',\n",
      " 'extra': {},\n",
      " 'fantasia': '',\n",
      " 'logradouro': 'R JAVARI',\n",
      " 'motivo_situacao': '',\n",
      " 'municipio': 'MANAUS',\n",
      " 'natureza_juridica': '204-6 - Sociedade Anônima Aberta',\n",
      " 'nome': 'POSITIVO TECNOLOGIA S.A.',\n",
      " 'numero': '1255',\n",
      " 'porte': 'DEMAIS',\n",
      " 'qsa': [],\n",
      " 'situacao': 'ATIVA',\n",
      " 'situacao_especial': '',\n",
      " 'status': 'OK',\n",
      " 'telefone': '(41) 3316-7700',\n",
      " 'tipo': 'FILIAL',\n",
      " 'uf': 'AM',\n",
      " 'ultima_atualizacao': '2024-05-14T17:30:31.019Z'}\n"
     ]
    }
   ],
   "source": [
    "def consulta_cnpj(numero_cnpj):\n",
    "    url = f\"https://receitaws.com.br/v1/cnpj/{numero_cnpj}\"\n",
    "\n",
    "    headers = {\"Accept\": \"application/json\"}\n",
    "\n",
    "    response = requests.get(url, headers=headers)\n",
    "    \n",
    "    dic_fornecedor = response.json()\n",
    "    \n",
    "    return dic_fornecedor\n",
    "\n",
    "# Criar um dicionário vazio fora da função\n",
    "dicionario = {}\n",
    "\n",
    "# Chamar a função e atribuir o resultado ao dicionário\n",
    "dicionario = consulta_cnpj('81243735001977')\n",
    "\n",
    "# Imprimir o dicionário\n",
    "pprint(dicionario)"
   ]
  },
  {
   "cell_type": "code",
   "execution_count": 18,
   "metadata": {},
   "outputs": [
    {
     "name": "stdout",
     "output_type": "stream",
     "text": [
      "{'abertura': '28/08/2015',\n",
      " 'atividade_principal': [{'code': '26.21-3-00',\n",
      "                          'text': 'Fabricação de equipamentos de informática'}],\n",
      " 'atividades_secundarias': [{'code': '26.22-1-00',\n",
      "                             'text': 'Fabricação de periféricos para '\n",
      "                                     'equipamentos de informática'},\n",
      "                            {'code': '27.59-7-99',\n",
      "                             'text': 'Fabricação de outros aparelhos '\n",
      "                                     'eletrodomésticos não especificados '\n",
      "                                     'anteriormente, peças e acessórios'},\n",
      "                            {'code': '46.19-2-00',\n",
      "                             'text': 'Representantes comerciais e agentes do '\n",
      "                                     'comércio de mercadorias em geral não '\n",
      "                                     'especializado'},\n",
      "                            {'code': '46.51-6-01',\n",
      "                             'text': 'Comércio atacadista de equipamentos de '\n",
      "                                     'informática'},\n",
      "                            {'code': '47.54-7-01',\n",
      "                             'text': 'Comércio varejista de móveis'},\n",
      "                            {'code': '46.49-4-02',\n",
      "                             'text': 'Comércio atacadista de aparelhos '\n",
      "                                     'eletrônicos de uso pessoal e doméstico'},\n",
      "                            {'code': '46.47-8-02',\n",
      "                             'text': 'Comércio atacadista de livros, jornais e '\n",
      "                                     'outras publicações'},\n",
      "                            {'code': '62.04-0-00',\n",
      "                             'text': 'Consultoria em tecnologia da informação'},\n",
      "                            {'code': '62.02-3-00',\n",
      "                             'text': 'Desenvolvimento e licenciamento de '\n",
      "                                     'programas de computador customizáveis'},\n",
      "                            {'code': '63.19-4-00',\n",
      "                             'text': 'Portais, provedores de conteúdo e outros '\n",
      "                                     'serviços de informação na internet'},\n",
      "                            {'code': '62.01-5-01',\n",
      "                             'text': 'Desenvolvimento de programas de '\n",
      "                                     'computador sob encomenda'},\n",
      "                            {'code': '58.11-5-00', 'text': 'Edição de livros'},\n",
      "                            {'code': '64.62-0-00',\n",
      "                             'text': 'Holdings de instituições '\n",
      "                                     'não-financeiras'},\n",
      "                            {'code': '71.19-7-03',\n",
      "                             'text': 'Serviços de desenho técnico relacionados '\n",
      "                                     'à arquitetura e engenharia'},\n",
      "                            {'code': '77.33-1-00',\n",
      "                             'text': 'Aluguel de máquinas e equipamentos para '\n",
      "                                     'escritórios'},\n",
      "                            {'code': '77.40-3-00',\n",
      "                             'text': 'Gestão de ativos intangíveis '\n",
      "                                     'não-financeiros'},\n",
      "                            {'code': '85.50-3-02',\n",
      "                             'text': 'Atividades de apoio à educação, exceto '\n",
      "                                     'caixas escolares'},\n",
      "                            {'code': '85.99-6-04',\n",
      "                             'text': 'Treinamento em desenvolvimento '\n",
      "                                     'profissional e gerencial'},\n",
      "                            {'code': '95.21-5-00',\n",
      "                             'text': 'Reparação e manutenção de equipamentos '\n",
      "                                     'eletroeletrônicos de uso pessoal e '\n",
      "                                     'doméstico'},\n",
      "                            {'code': '95.11-8-00',\n",
      "                             'text': 'Reparação e manutenção de computadores e '\n",
      "                                     'de equipamentos periféricos'},\n",
      "                            {'code': '26.32-9-00',\n",
      "                             'text': 'Fabricação de aparelhos telefônicos e de '\n",
      "                                     'outros equipamentos de comunicação, '\n",
      "                                     'peças e acessórios'}],\n",
      " 'bairro': 'DISTRITO INDUSTRIAL I',\n",
      " 'billing': {'database': True, 'free': True},\n",
      " 'capital_social': '0.00',\n",
      " 'cep': '69.075-110',\n",
      " 'cnpj': '81.243.735/0019-77',\n",
      " 'complemento': 'LOTE 257-B',\n",
      " 'data_situacao': '28/08/2015',\n",
      " 'data_situacao_especial': '',\n",
      " 'efr': '',\n",
      " 'email': 'fiscal@positivo.com.br',\n",
      " 'extra': {},\n",
      " 'fantasia': '',\n",
      " 'logradouro': 'R JAVARI',\n",
      " 'motivo_situacao': '',\n",
      " 'municipio': 'MANAUS',\n",
      " 'natureza_juridica': '204-6 - Sociedade Anônima Aberta',\n",
      " 'nome': 'POSITIVO TECNOLOGIA S.A.',\n",
      " 'numero': '1255',\n",
      " 'porte': 'DEMAIS',\n",
      " 'qsa': [],\n",
      " 'situacao': 'ATIVA',\n",
      " 'situacao_especial': '',\n",
      " 'status': 'OK',\n",
      " 'telefone': '(41) 3316-7700',\n",
      " 'tipo': 'FILIAL',\n",
      " 'uf': 'AM',\n",
      " 'ultima_atualizacao': '2024-05-14T17:30:31.019Z'}\n"
     ]
    }
   ],
   "source": [
    "pprint(dicionario)"
   ]
  },
  {
   "cell_type": "code",
   "execution_count": 19,
   "metadata": {},
   "outputs": [
    {
     "data": {
      "text/plain": [
       "'POSITIVO TECNOLOGIA S.A.'"
      ]
     },
     "execution_count": 19,
     "metadata": {},
     "output_type": "execute_result"
    }
   ],
   "source": [
    "dicionario['nome']"
   ]
  },
  {
   "cell_type": "code",
   "execution_count": 20,
   "metadata": {},
   "outputs": [
    {
     "data": {
      "text/plain": [
       "'(41) 3316-7700'"
      ]
     },
     "execution_count": 20,
     "metadata": {},
     "output_type": "execute_result"
    }
   ],
   "source": [
    "dicionario['telefone']"
   ]
  },
  {
   "cell_type": "code",
   "execution_count": 21,
   "metadata": {},
   "outputs": [
    {
     "data": {
      "text/plain": [
       "'fiscal@positivo.com.br'"
      ]
     },
     "execution_count": 21,
     "metadata": {},
     "output_type": "execute_result"
    }
   ],
   "source": [
    "dicionario['email']"
   ]
  },
  {
   "cell_type": "code",
   "execution_count": 22,
   "metadata": {},
   "outputs": [
    {
     "data": {
      "text/plain": [
       "'R JAVARI, 1255 - DISTRITO INDUSTRIAL I - MANAUS / AM'"
      ]
     },
     "execution_count": 22,
     "metadata": {},
     "output_type": "execute_result"
    }
   ],
   "source": [
    "dicionario['logradouro'] + ', ' + dicionario['numero'] + ' - ' + dicionario['bairro'] + ' - ' + dicionario['municipio'] + ' / ' + dicionario['uf']"
   ]
  },
  {
   "cell_type": "code",
   "execution_count": 23,
   "metadata": {},
   "outputs": [
    {
     "data": {
      "text/plain": [
       "array(['20584944000160', '39750831000116', '05872523000141',\n",
       "       '17281106000103', '34028316001509', '06981180000116',\n",
       "       '65295172000185', '02421421000111', '29774797000166',\n",
       "       '65271868000171', '08403769000162', '42206665000104',\n",
       "       '49720354000108', '65353401000170', '49577909000104',\n",
       "       '49834027000179', '11053762000172', '01255291000121',\n",
       "       '26950671000107', '00139736000145', '14459158000139',\n",
       "       '40225662000184', '42772140000128', '47217896000129',\n",
       "       '28719518000107', '01915071000268', '03539933000140',\n",
       "       '45258432000216', '40695811000179', '30189974000126',\n",
       "       '15761126000156', '27619368000199', '10942831000136',\n",
       "       '11202638000121', '15329152000100', '30820280000145',\n",
       "       '33658130000175', '43892634000109', '20784313000195',\n",
       "       '28429720000196', '06164562000157', '41841443000192',\n",
       "       '04191294000137', '20473312000120', '33149502000138',\n",
       "       '14499338000144', '53202768000104', '18707234000139',\n",
       "       '36654449000110', '52250227000199', '47272665000118',\n",
       "       '47725628000118', '42326882000120', '03859239000100',\n",
       "       '11142525000188', '34197944000112', '36489366000113',\n",
       "       '43731740000100', '15272846000158', '92221589000176',\n",
       "       '17955535000119', '35099493000143', '51187213000105',\n",
       "       '21331404000138', '14807420000199', '17421504000188',\n",
       "       '17412396000187', '19791896006486', '09039582000194',\n",
       "       '47043589000179', '37748531000177', '20702528000110',\n",
       "       '33180160000119', '71001465000105', '47078180000198',\n",
       "       '14163479000191', '41471161000140', '48087032000100',\n",
       "       '35307908000127', '20942789000107', '48085103000128',\n",
       "       '10653955000100', '20421805000116', '05291541000130',\n",
       "       '06910908000119', '21348054000112', '16914559000167',\n",
       "       '15407876000124', '11186469000183', '07665456000110',\n",
       "       '31206933000163', '10614788000180', '47170510000170',\n",
       "       '35411786000114', '48371796000115', '07259386000108',\n",
       "       '43029546000188', '22327937000109', '41948062000107',\n",
       "       '46970951000194', '31669124000198', '40224243000128',\n",
       "       '29926189000120', '08194579000182', '43337798000174',\n",
       "       '48489837000172', '79984357000101', '08532500000186',\n",
       "       '14203779000157', '24390855000134', '29455568000189',\n",
       "       '03343818607', '02338743000100', '02235079000165',\n",
       "       '01342660000113', '19037262000159', '30775478000154',\n",
       "       '51523859000116', '35594518000185', '20240470000130',\n",
       "       '33345691000114', '23186594000172', '05462543000144',\n",
       "       '28811718000187', '08792763000124', '17215437000145',\n",
       "       '14491768000110', '37583132000101', '18516766000199',\n",
       "       '03849500000190', '00502302000168', '03126110000192',\n",
       "       '23122344000179', '11768653000131', '17289559000186',\n",
       "       '22252006000199', '06307463000187', '58512096000157',\n",
       "       '24377448000197', '08593332000139', '43928711000133',\n",
       "       '45857250000180', '09035549000196', '52134461000150',\n",
       "       '47440165000148', '45125667000159', '31741500000108',\n",
       "       '39242061000109', '06178319000198', '06071701000106',\n",
       "       '15072268000106', '02347121000210', '05691235000190',\n",
       "       '38680138000151', '68533967000172', '07385089000109',\n",
       "       '08785181000110', '32085624000145', '18472579000150',\n",
       "       '05355350747', '04011485640', '33403145867', '04348364605',\n",
       "       '00159155061', '69315850106', '01667301063', '03700982429',\n",
       "       '07154621486', '11732348618', '02604598019', '10930032608',\n",
       "       '02341869335', '10977867650', '08005628609', '10419496696',\n",
       "       '98488040644', '05260173686', '86222945600', '15374493701',\n",
       "       '06229234637', '39644514000115', '00946402469', '03956187032',\n",
       "       '13495847707', '10528196723', '02390643051', '01737297388',\n",
       "       '03266662148', '11638652651', '04216220592', '38531643821',\n",
       "       '12698365447', '08065014488', '16191784783', '07356193523',\n",
       "       '12890940470', '14533283608', '00160384281', '14360660693',\n",
       "       '47091114809', '10245777407', '18998907771', '12557445614',\n",
       "       '12929232455', '00815805500', '03949195130', '49770932833',\n",
       "       '02766279032', '03497502200', '04025170086', '50297130854',\n",
       "       '10505450798', '03587731055', '17652395755', '43397736897',\n",
       "       '05178795229', '03711003052', '00033670617', '19935621766',\n",
       "       '03241274055', '05998785177', '10367193400', '17182844702',\n",
       "       '09322746416', '46244059867', '50795833806', '14487872707',\n",
       "       '15216503730', '48380081803', '18908794794', '71273055446',\n",
       "       '61297320310', '14423309610', '18490227713', '70185545432',\n",
       "       '15096490777', '18967323727', '08588385910', '10535223986',\n",
       "       '10534483410', '11093614404', '46894530807', '70888678428',\n",
       "       '01900341654', '15653078794', '04330600005', '19915430779',\n",
       "       '70295354488', '11076559603', '07675382188', '36745777800',\n",
       "       '04932422440', '01897343612', '14128557641', '71646534450',\n",
       "       '08107398440', '50090783840', '10058814990', '14650941725',\n",
       "       '09313181908', '16543861703', '17886705742', '09024075386',\n",
       "       '08192434346', '07068878326', '61027741320', '15389555716',\n",
       "       '05487254389', '09618918408', '07531199351', '17553101702',\n",
       "       '17819737760', '19758466720', '18111551703', '12420679490',\n",
       "       '13378462795', '01803943041', '07014185322', '70381560473',\n",
       "       '16691658760', '17640977770', '03932299043', '12270743440',\n",
       "       '10310050723', '36693105840', '04126374213', '09780105905',\n",
       "       '16241294717', '18677885781', '35482112837', '46472024880',\n",
       "       '18672069781', '13350255612', '08270149535', '70191099422',\n",
       "       '06917037109', '09501536564', '05863190779', '47250108808',\n",
       "       '12863358766', '17297918679', '16663247794', '07953422417',\n",
       "       '04048550080', '11432238450', '01212358236', '07078180100',\n",
       "       '13381798456', '70378077457', '07683245135', '01681626446',\n",
       "       '02055061194', '18283429710', '12990173633', '17006787793',\n",
       "       '06776119511', '14122718783', '07453195136', '16928724781',\n",
       "       '48414411827', '18719321732', '14016064660', '12408906644',\n",
       "       '03852817064', '04861979056', '10386654930', '16329284776',\n",
       "       '01829331485', '09485907427', '17709477798', '06684535594',\n",
       "       '08848648983', '39558422827', '18006151750', '45358499865',\n",
       "       '73021016120', '01091571929', '05302302160', '09686847502',\n",
       "       '19186272748', '04572062099', '13589166754', '98107909704',\n",
       "       '35072779000135', '41278073000127', '48983401000135',\n",
       "       '15658667000153', '16619287000172', '15153524000190',\n",
       "       '19933130000105', '31682616000113', '44429540000160',\n",
       "       '14155601000188', '03333999000189', '39560888000152',\n",
       "       '02829044000154', '45793555000176', '13232701000106',\n",
       "       '03541496000107', '49542190000168', '10732150000143',\n",
       "       '46440212000190', '50365029000145', '29309583000119',\n",
       "       '01359742000170', '06016341000131', '50116864000141',\n",
       "       '36519422000115', '33739848000196', '08907476000112',\n",
       "       '19116488000145', '42727372000164', '29874397000122',\n",
       "       '22598513000189', '51048656000115', '12032954000165',\n",
       "       '05520402000211', '51955889000100', '43084056000184',\n",
       "       '12308936000163', '26917959000180', '42883960000197', '167129',\n",
       "       '43471392000180', '09249668000141', '40426345000126',\n",
       "       '81243735000903', '06351401000172', '47531706000143',\n",
       "       '33618396000194', '45769285000168', '71359939000195',\n",
       "       '28076288000105', '03979214000140', '12013565000192',\n",
       "       '20915722000183', '20402517000114', '05379350000124',\n",
       "       '41232530000142', '03539352635', '13642117000110',\n",
       "       '21971041000103', '51118112000182', '12477490000281',\n",
       "       '50429810000136', '20203886000188', '22579804000120',\n",
       "       '26886495000191', '20469180000162', '04648489000163',\n",
       "       '07608700000102', '07285389000108', '25643420000117',\n",
       "       '05194005000116', '25642083000143', '05552239000198',\n",
       "       '20382743000180', '05461861000190', '01008092000119',\n",
       "       '17457610000111', '02668731000135', '09215883000121',\n",
       "       '00316937000170', '19863357000121', '28460991000104',\n",
       "       '21390591000120', '19625870000184', '11708426000110',\n",
       "       '21425822000194', '18226970000175', '25642331000156',\n",
       "       '25656463000137', '33013209000149', '22016266000165',\n",
       "       '24151595000144', '07690038000182', '25641788000227',\n",
       "       '07119678000137', '10197494000108', '18730868000102',\n",
       "       '11010999000257', '01509731000391', '29034549000189',\n",
       "       '08986188000109', '42855999000362', '10489922000168',\n",
       "       '21781767000175', '07976966000108', '12799335000109',\n",
       "       '03930660000160', '06334550000123', '17845504000296',\n",
       "       '58665102604', '30865026653', '80531580644', '510001',\n",
       "       '40274237000185', '43595813000184', '13444848000151',\n",
       "       '19231616000100', '50541407000102', '19807546000187',\n",
       "       '16926786000102', '06867357000158', '13977106000191',\n",
       "       '30379344000114', '41733464000194', '12021151000105',\n",
       "       '09686716000169', '04625702000111', '49709450000147',\n",
       "       '26645437000176', '23615514000157', '50694319000132',\n",
       "       '42587791000148', '48039993000131', '01592547000196',\n",
       "       '06014820000119', '09630087000155', '52704921000139',\n",
       "       '22073381000171', '10450143000159', '23814905000109',\n",
       "       '04992161000160', '25641788000146', '71346480000195',\n",
       "       '47101984000160', '02784905000125', '02108761000197',\n",
       "       '27862855000188', '10600312000190', '05741540000140',\n",
       "       '29985857000190', '10899734000108', '08278883000108',\n",
       "       '41833129000168', '08928430631', '00583615619', '37686780678',\n",
       "       '70886644615', '13823529000157', '54611288668', '02932035630',\n",
       "       '01253802670', '06425294698', '73987298049', '01372353054',\n",
       "       '00214548333', '64819396315', '05565735602', '05913050622',\n",
       "       '12429302721', '06003234636', '04405087628', '65083059304',\n",
       "       '72809914249', '10887692761', '03325653600', '34788645000152',\n",
       "       '26401571000121', '22705870000107', '40131537000105',\n",
       "       '43241204000127', '73514580000109', '09380005000161',\n",
       "       '12482902000190', '05823817000183', '41884255000141',\n",
       "       '02803935000131', '14233622000174', '03856561000185',\n",
       "       '00577773000135', '34379797000100', '41342716000154',\n",
       "       '64273048000156', '03059040000105', '18632315000117',\n",
       "       '25863390000154', '17413469000155', '02929143000108',\n",
       "       '22077499000178', '13407849000126', '21013054000161',\n",
       "       '12769734000119', '36874484000145', '07822118000144',\n",
       "       '01098104000143', '28147573000161', '15210886000175',\n",
       "       '10372200000129', '03065063000114', '40220898000128',\n",
       "       '49287499000159', '11066478000130', '32403992000194',\n",
       "       '50247694000134', '49493840000122', '48173482000108',\n",
       "       '11876320000126', '26991060000107', '79988601620', '49932039772',\n",
       "       '01412905605', '09006743690', '02848925647', '81061242668',\n",
       "       '11803092602', '31791247687', '03402164680', '46940235787',\n",
       "       '06153182000117', '07809370000113', '37714493000131',\n",
       "       '15439366000139', '17545961000184', '46321558000170',\n",
       "       '22077847000107', '22218845000190', '14905502000176',\n",
       "       '16553940000148', '20918668000120', '27806274000129',\n",
       "       '31097402000180', '32477466000179', '41934826000105',\n",
       "       '30082076000174', '28820255000110', '24090700000182',\n",
       "       '35706397000116', '24789180000109', '34051252000161',\n",
       "       '38072714000188', '05108702000107', '33640261000125',\n",
       "       '20669174000159', '30284338000183', '27373218000148',\n",
       "       '34680592000151', '33813237000140', '06088334000145',\n",
       "       '47808825000109', '17417928000179', '45329312000181',\n",
       "       '05808628000131', '48411373000181', '27499665000148',\n",
       "       '11169061000101', '39889596000168', '31357846000107',\n",
       "       '45169346000156', '17623276000129', '30194698000194',\n",
       "       '29644666000164', '02852112698', '48290788000144',\n",
       "       '01429437000108', '02700680669'], dtype=object)"
      ]
     },
     "execution_count": 23,
     "metadata": {},
     "output_type": "execute_result"
    }
   ],
   "source": [
    "# filtrando dos dados da coluna FAV\n",
    "df_cnpj = df[df['NOME_PI'] != 'PROFISSIONAL DE SAUDE AUTONOMO']\n",
    "df_cnpj = df[df['NOME_PI'] != 'ATENDIMENTO MEDICO-HOPITALR/FC']\n",
    "df_cnpj = df[df['NOME_PI'] != 'IND-INDENIZACOES']\n",
    "df_cnpj = df[df['NOME_PI'] != 'IND - INDENIZACOES']\n",
    "df_cnpj = df[df['NOME_PI'] != 'INDENIZACAO DESPESAS.']\n",
    "df_cnpj = df[df['NOME_PI'] != 'AUXILIO FINANCEIRO NÃO INDENIZÁVEL']\n",
    "df_cnpj = df[df['NOME_PI'] != 'INRE - RESTITUICAO E RESSARCIMENTO']\n",
    "df_cnpj = df[df['NOME_NDSI'] != 'OUTROS SERV.DE TERCEIROS PJ- PAGTO ANTECIPADO']\n",
    "df_cnpj = df[df['FAV'] != '160129']\n",
    "\n",
    "df_cnpj['FAV'].unique()"
   ]
  },
  {
   "cell_type": "code",
   "execution_count": 24,
   "metadata": {},
   "outputs": [
    {
     "data": {
      "text/html": [
       "<div>\n",
       "<style scoped>\n",
       "    .dataframe tbody tr th:only-of-type {\n",
       "        vertical-align: middle;\n",
       "    }\n",
       "\n",
       "    .dataframe tbody tr th {\n",
       "        vertical-align: top;\n",
       "    }\n",
       "\n",
       "    .dataframe thead th {\n",
       "        text-align: right;\n",
       "    }\n",
       "</style>\n",
       "<table border=\"1\" class=\"dataframe\">\n",
       "  <thead>\n",
       "    <tr style=\"text-align: right;\">\n",
       "      <th></th>\n",
       "      <th>UG</th>\n",
       "      <th>NOME_UG</th>\n",
       "      <th>ICFEX</th>\n",
       "      <th>NOME_ICFEX</th>\n",
       "      <th>T_COMANDO</th>\n",
       "      <th>T_RM</th>\n",
       "      <th>T_CIDADE</th>\n",
       "      <th>PROGRAMA</th>\n",
       "      <th>ACAO</th>\n",
       "      <th>NOME_ACAO</th>\n",
       "      <th>UGR</th>\n",
       "      <th>NOME_UGR</th>\n",
       "      <th>PTRES</th>\n",
       "      <th>PI</th>\n",
       "      <th>NOME_PI</th>\n",
       "      <th>ND</th>\n",
       "      <th>NOME_ND</th>\n",
       "      <th>NDSI</th>\n",
       "      <th>NOME_NDSI</th>\n",
       "      <th>NE</th>\n",
       "      <th>ANO</th>\n",
       "      <th>DATA</th>\n",
       "      <th>CHAVE</th>\n",
       "      <th>FAV</th>\n",
       "      <th>NOME_CREDOR</th>\n",
       "      <th>UF_FAV</th>\n",
       "      <th>TIPO</th>\n",
       "      <th>DIAS</th>\n",
       "      <th>UF_UG</th>\n",
       "      <th>FONTE</th>\n",
       "      <th>MOD_LIC</th>\n",
       "      <th>TIPO_NE</th>\n",
       "      <th>RP</th>\n",
       "      <th>NOME_RP</th>\n",
       "      <th>TIPO_CREDITO</th>\n",
       "      <th>NOME_TIPO_CREDITO</th>\n",
       "      <th>PO</th>\n",
       "      <th>AUTOR_EMENDA</th>\n",
       "      <th>NOME_AUTOR_EMENDA</th>\n",
       "      <th>LOCAL</th>\n",
       "      <th>UO</th>\n",
       "      <th>NOME_UO</th>\n",
       "      <th>RADPI4</th>\n",
       "      <th>MEIPI3</th>\n",
       "      <th>SUFPI4</th>\n",
       "      <th>A_LIQUIDAR</th>\n",
       "      <th>LIQUIDADO_A_PAGAR</th>\n",
       "      <th>TOTAL_A_PAGAR</th>\n",
       "      <th>PAGO</th>\n",
       "    </tr>\n",
       "  </thead>\n",
       "  <tbody>\n",
       "  </tbody>\n",
       "</table>\n",
       "</div>"
      ],
      "text/plain": [
       "Empty DataFrame\n",
       "Columns: [UG, NOME_UG, ICFEX, NOME_ICFEX, T_COMANDO, T_RM, T_CIDADE, PROGRAMA, ACAO, NOME_ACAO, UGR, NOME_UGR, PTRES, PI, NOME_PI, ND, NOME_ND, NDSI, NOME_NDSI, NE, ANO, DATA, CHAVE, FAV, NOME_CREDOR, UF_FAV, TIPO, DIAS, UF_UG, FONTE, MOD_LIC, TIPO_NE, RP, NOME_RP, TIPO_CREDITO, NOME_TIPO_CREDITO, PO, AUTOR_EMENDA, NOME_AUTOR_EMENDA, LOCAL, UO, NOME_UO, RADPI4, MEIPI3, SUFPI4, A_LIQUIDAR, LIQUIDADO_A_PAGAR, TOTAL_A_PAGAR, PAGO]\n",
       "Index: []"
      ]
     },
     "execution_count": 24,
     "metadata": {},
     "output_type": "execute_result"
    }
   ],
   "source": [
    "df_cnpj[df_cnpj['FAV'] == '160129']"
   ]
  },
  {
   "cell_type": "code",
   "execution_count": 25,
   "metadata": {},
   "outputs": [
    {
     "data": {
      "text/html": [
       "<div>\n",
       "<style scoped>\n",
       "    .dataframe tbody tr th:only-of-type {\n",
       "        vertical-align: middle;\n",
       "    }\n",
       "\n",
       "    .dataframe tbody tr th {\n",
       "        vertical-align: top;\n",
       "    }\n",
       "\n",
       "    .dataframe thead th {\n",
       "        text-align: right;\n",
       "    }\n",
       "</style>\n",
       "<table border=\"1\" class=\"dataframe\">\n",
       "  <thead>\n",
       "    <tr style=\"text-align: right;\">\n",
       "      <th></th>\n",
       "      <th>UG</th>\n",
       "      <th>NOME_UG</th>\n",
       "      <th>ICFEX</th>\n",
       "      <th>NOME_ICFEX</th>\n",
       "      <th>T_COMANDO</th>\n",
       "      <th>T_RM</th>\n",
       "      <th>T_CIDADE</th>\n",
       "      <th>PROGRAMA</th>\n",
       "      <th>ACAO</th>\n",
       "      <th>NOME_ACAO</th>\n",
       "      <th>UGR</th>\n",
       "      <th>NOME_UGR</th>\n",
       "      <th>PTRES</th>\n",
       "      <th>PI</th>\n",
       "      <th>NOME_PI</th>\n",
       "      <th>ND</th>\n",
       "      <th>NOME_ND</th>\n",
       "      <th>NDSI</th>\n",
       "      <th>NOME_NDSI</th>\n",
       "      <th>NE</th>\n",
       "      <th>ANO</th>\n",
       "      <th>DATA</th>\n",
       "      <th>CHAVE</th>\n",
       "      <th>FAV</th>\n",
       "      <th>NOME_CREDOR</th>\n",
       "      <th>UF_FAV</th>\n",
       "      <th>TIPO</th>\n",
       "      <th>DIAS</th>\n",
       "      <th>UF_UG</th>\n",
       "      <th>FONTE</th>\n",
       "      <th>MOD_LIC</th>\n",
       "      <th>TIPO_NE</th>\n",
       "      <th>RP</th>\n",
       "      <th>NOME_RP</th>\n",
       "      <th>TIPO_CREDITO</th>\n",
       "      <th>NOME_TIPO_CREDITO</th>\n",
       "      <th>PO</th>\n",
       "      <th>AUTOR_EMENDA</th>\n",
       "      <th>NOME_AUTOR_EMENDA</th>\n",
       "      <th>LOCAL</th>\n",
       "      <th>UO</th>\n",
       "      <th>NOME_UO</th>\n",
       "      <th>RADPI4</th>\n",
       "      <th>MEIPI3</th>\n",
       "      <th>SUFPI4</th>\n",
       "      <th>A_LIQUIDAR</th>\n",
       "      <th>LIQUIDADO_A_PAGAR</th>\n",
       "      <th>TOTAL_A_PAGAR</th>\n",
       "      <th>PAGO</th>\n",
       "    </tr>\n",
       "  </thead>\n",
       "  <tbody>\n",
       "    <tr>\n",
       "      <th>3</th>\n",
       "      <td>160129</td>\n",
       "      <td>ESA</td>\n",
       "      <td>160533</td>\n",
       "      <td>4º CGCFEX</td>\n",
       "      <td>CML</td>\n",
       "      <td>4ª RM</td>\n",
       "      <td>Três Corações</td>\n",
       "      <td>0032</td>\n",
       "      <td>2000</td>\n",
       "      <td>ADMINISTRACAO DA UNIDADE</td>\n",
       "      <td>160073</td>\n",
       "      <td>DGO</td>\n",
       "      <td>171460</td>\n",
       "      <td>I3DACNTLICO</td>\n",
       "      <td>LIMPEZA DE BENS IMÓVEIS</td>\n",
       "      <td>339037</td>\n",
       "      <td>LOCACAO DE MAO-DE-OBRA</td>\n",
       "      <td>33903702</td>\n",
       "      <td>LIMPEZA E CONSERVACAO</td>\n",
       "      <td>2024NE000004</td>\n",
       "      <td>2024</td>\n",
       "      <td>2024-01-10</td>\n",
       "      <td>160129000012024NE000004</td>\n",
       "      <td>39750831000116</td>\n",
       "      <td>ECOLIMP SERVICOS GERAIS LTDA</td>\n",
       "      <td>RJ</td>\n",
       "      <td>ANO</td>\n",
       "      <td>152</td>\n",
       "      <td>MG</td>\n",
       "      <td>1000000000</td>\n",
       "      <td>PREGAO</td>\n",
       "      <td>GLOBAL</td>\n",
       "      <td>2</td>\n",
       "      <td>PRIMARIO DISCRICIONARIO</td>\n",
       "      <td>A</td>\n",
       "      <td>INICIAL (LOA)</td>\n",
       "      <td>0004</td>\n",
       "      <td>000000000000</td>\n",
       "      <td>SEM EMENDA</td>\n",
       "      <td>ESCOLA DE SARGENTOS DAS ARMAS</td>\n",
       "      <td>52121</td>\n",
       "      <td>COMANDO DO EXERCITO</td>\n",
       "      <td>I3DA</td>\n",
       "      <td>CNT</td>\n",
       "      <td>LICO</td>\n",
       "      <td>26279.57</td>\n",
       "      <td>2656.54</td>\n",
       "      <td>28936.11</td>\n",
       "      <td>74717.49</td>\n",
       "    </tr>\n",
       "    <tr>\n",
       "      <th>4</th>\n",
       "      <td>160129</td>\n",
       "      <td>ESA</td>\n",
       "      <td>160533</td>\n",
       "      <td>4º CGCFEX</td>\n",
       "      <td>CML</td>\n",
       "      <td>4ª RM</td>\n",
       "      <td>Três Corações</td>\n",
       "      <td>0032</td>\n",
       "      <td>2000</td>\n",
       "      <td>ADMINISTRACAO DA UNIDADE</td>\n",
       "      <td>160073</td>\n",
       "      <td>DGO</td>\n",
       "      <td>171460</td>\n",
       "      <td>I3DACNTLICO</td>\n",
       "      <td>LIMPEZA DE BENS IMÓVEIS</td>\n",
       "      <td>339037</td>\n",
       "      <td>LOCACAO DE MAO-DE-OBRA</td>\n",
       "      <td>33903702</td>\n",
       "      <td>LIMPEZA E CONSERVACAO</td>\n",
       "      <td>2024NE000071</td>\n",
       "      <td>2024</td>\n",
       "      <td>2024-02-14</td>\n",
       "      <td>160129000012024NE000071</td>\n",
       "      <td>39750831000116</td>\n",
       "      <td>ECOLIMP SERVICOS GERAIS LTDA</td>\n",
       "      <td>RJ</td>\n",
       "      <td>ANO</td>\n",
       "      <td>117</td>\n",
       "      <td>MG</td>\n",
       "      <td>1000000000</td>\n",
       "      <td>PREGAO</td>\n",
       "      <td>GLOBAL</td>\n",
       "      <td>2</td>\n",
       "      <td>PRIMARIO DISCRICIONARIO</td>\n",
       "      <td>A</td>\n",
       "      <td>INICIAL (LOA)</td>\n",
       "      <td>0004</td>\n",
       "      <td>000000000000</td>\n",
       "      <td>SEM EMENDA</td>\n",
       "      <td>ESCOLA DE SARGENTOS DAS ARMAS - AV. SETE DE SE...</td>\n",
       "      <td>52121</td>\n",
       "      <td>COMANDO DO EXERCITO</td>\n",
       "      <td>I3DA</td>\n",
       "      <td>CNT</td>\n",
       "      <td>LICO</td>\n",
       "      <td>212910.57</td>\n",
       "      <td>0.00</td>\n",
       "      <td>212910.57</td>\n",
       "      <td>0.00</td>\n",
       "    </tr>\n",
       "  </tbody>\n",
       "</table>\n",
       "</div>"
      ],
      "text/plain": [
       "       UG NOME_UG   ICFEX NOME_ICFEX T_COMANDO   T_RM       T_CIDADE PROGRAMA  \\\n",
       "3  160129     ESA  160533  4º CGCFEX       CML  4ª RM  Três Corações     0032   \n",
       "4  160129     ESA  160533  4º CGCFEX       CML  4ª RM  Três Corações     0032   \n",
       "\n",
       "   ACAO                 NOME_ACAO     UGR NOME_UGR   PTRES           PI  \\\n",
       "3  2000  ADMINISTRACAO DA UNIDADE  160073      DGO  171460  I3DACNTLICO   \n",
       "4  2000  ADMINISTRACAO DA UNIDADE  160073      DGO  171460  I3DACNTLICO   \n",
       "\n",
       "                   NOME_PI      ND                 NOME_ND      NDSI  \\\n",
       "3  LIMPEZA DE BENS IMÓVEIS  339037  LOCACAO DE MAO-DE-OBRA  33903702   \n",
       "4  LIMPEZA DE BENS IMÓVEIS  339037  LOCACAO DE MAO-DE-OBRA  33903702   \n",
       "\n",
       "               NOME_NDSI            NE   ANO       DATA  \\\n",
       "3  LIMPEZA E CONSERVACAO  2024NE000004  2024 2024-01-10   \n",
       "4  LIMPEZA E CONSERVACAO  2024NE000071  2024 2024-02-14   \n",
       "\n",
       "                     CHAVE             FAV                   NOME_CREDOR  \\\n",
       "3  160129000012024NE000004  39750831000116  ECOLIMP SERVICOS GERAIS LTDA   \n",
       "4  160129000012024NE000071  39750831000116  ECOLIMP SERVICOS GERAIS LTDA   \n",
       "\n",
       "  UF_FAV TIPO  DIAS UF_UG       FONTE MOD_LIC TIPO_NE RP  \\\n",
       "3     RJ  ANO   152    MG  1000000000  PREGAO  GLOBAL  2   \n",
       "4     RJ  ANO   117    MG  1000000000  PREGAO  GLOBAL  2   \n",
       "\n",
       "                   NOME_RP TIPO_CREDITO NOME_TIPO_CREDITO    PO  AUTOR_EMENDA  \\\n",
       "3  PRIMARIO DISCRICIONARIO            A     INICIAL (LOA)  0004  000000000000   \n",
       "4  PRIMARIO DISCRICIONARIO            A     INICIAL (LOA)  0004  000000000000   \n",
       "\n",
       "  NOME_AUTOR_EMENDA                                              LOCAL     UO  \\\n",
       "3        SEM EMENDA                      ESCOLA DE SARGENTOS DAS ARMAS  52121   \n",
       "4        SEM EMENDA  ESCOLA DE SARGENTOS DAS ARMAS - AV. SETE DE SE...  52121   \n",
       "\n",
       "               NOME_UO RADPI4 MEIPI3 SUFPI4  A_LIQUIDAR  LIQUIDADO_A_PAGAR  \\\n",
       "3  COMANDO DO EXERCITO   I3DA    CNT   LICO    26279.57            2656.54   \n",
       "4  COMANDO DO EXERCITO   I3DA    CNT   LICO   212910.57               0.00   \n",
       "\n",
       "   TOTAL_A_PAGAR      PAGO  \n",
       "3       28936.11  74717.49  \n",
       "4      212910.57      0.00  "
      ]
     },
     "execution_count": 25,
     "metadata": {},
     "output_type": "execute_result"
    }
   ],
   "source": [
    "ano_atual = str(datetime.now().year)\n",
    "\n",
    "\n",
    "df_corrente = df[df['ANO'] == ano_atual]\n",
    "df_corrente.head(2)"
   ]
  },
  {
   "cell_type": "code",
   "execution_count": 26,
   "metadata": {},
   "outputs": [
    {
     "data": {
      "text/plain": [
       "array(['2023', '2024', '2022'], dtype=object)"
      ]
     },
     "execution_count": 26,
     "metadata": {},
     "output_type": "execute_result"
    }
   ],
   "source": [
    "df['ANO'].unique()"
   ]
  },
  {
   "cell_type": "markdown",
   "metadata": {},
   "source": [
    "# Pesquisas no DataFrame"
   ]
  },
  {
   "cell_type": "code",
   "execution_count": 27,
   "metadata": {},
   "outputs": [],
   "source": [
    "# Criando um DataFrame para testes \n",
    "df_teste = df.copy()"
   ]
  },
  {
   "cell_type": "markdown",
   "metadata": {},
   "source": [
    "## Empenhos inscritos em RPNP"
   ]
  },
  {
   "cell_type": "code",
   "execution_count": 28,
   "metadata": {},
   "outputs": [],
   "source": [
    "# Criando um Dataframe para filtrar os empenhos em RPNP\n",
    "df_restos = df_teste[df_teste['ANO'].isin(['2022', '2023'])]\n",
    "df_restos = df_restos[df_restos['A_LIQUIDAR'] !=  0]"
   ]
  },
  {
   "cell_type": "markdown",
   "metadata": {},
   "source": [
    "### Restos a pagar ND 30 e 52"
   ]
  },
  {
   "cell_type": "code",
   "execution_count": 29,
   "metadata": {},
   "outputs": [],
   "source": [
    "df_restos_material = df_restos[df_restos['ND'].isin(['339030', '449052' ])]\n",
    "df_restos_material = df_restos_material.sort_values(by='A_LIQUIDAR', ascending=False)\n",
    "df_restos_material.head()\n",
    "df_restos_material.to_excel('restos_a_pagar_2024.xlsx')"
   ]
  },
  {
   "cell_type": "code",
   "execution_count": 30,
   "metadata": {},
   "outputs": [
    {
     "data": {
      "text/html": [
       "<div>\n",
       "<style scoped>\n",
       "    .dataframe tbody tr th:only-of-type {\n",
       "        vertical-align: middle;\n",
       "    }\n",
       "\n",
       "    .dataframe tbody tr th {\n",
       "        vertical-align: top;\n",
       "    }\n",
       "\n",
       "    .dataframe thead th {\n",
       "        text-align: right;\n",
       "    }\n",
       "</style>\n",
       "<table border=\"1\" class=\"dataframe\">\n",
       "  <thead>\n",
       "    <tr style=\"text-align: right;\">\n",
       "      <th></th>\n",
       "      <th>UG</th>\n",
       "      <th>ACAO</th>\n",
       "      <th>NOME_ACAO</th>\n",
       "      <th>ANO</th>\n",
       "      <th>NOME_CREDOR</th>\n",
       "      <th>DATA</th>\n",
       "      <th>DIAS</th>\n",
       "      <th>ND</th>\n",
       "      <th>NOME_ND</th>\n",
       "      <th>NDSI</th>\n",
       "      <th>NOME_NDSI</th>\n",
       "      <th>NE</th>\n",
       "      <th>PI</th>\n",
       "      <th>NOME_PI</th>\n",
       "      <th>TIPO</th>\n",
       "      <th>TIPO_NE</th>\n",
       "      <th>NOME_UGR</th>\n",
       "      <th>A_LIQUIDAR</th>\n",
       "      <th>LIQUIDADO_A_PAGAR</th>\n",
       "      <th>TOTAL_A_PAGAR</th>\n",
       "      <th>PAGO</th>\n",
       "    </tr>\n",
       "  </thead>\n",
       "  <tbody>\n",
       "    <tr>\n",
       "      <th>304</th>\n",
       "      <td>160129</td>\n",
       "      <td>219D</td>\n",
       "      <td>ADEQUACAO DE ATIVOS DE INFRAESTRUTURA</td>\n",
       "      <td>2022</td>\n",
       "      <td>FENARA &amp; FENARA - ENGENHARIA E ADMINISTRACAO LTDA</td>\n",
       "      <td>2022-12-14</td>\n",
       "      <td>544</td>\n",
       "      <td>339039</td>\n",
       "      <td>OUTROS SERVICOS DE TERCEIROS - PESSOA JURIDICA</td>\n",
       "      <td>33903916</td>\n",
       "      <td>MANUTENCAO E CONSERV. DE BENS IMOVEIS</td>\n",
       "      <td>2022NE002483</td>\n",
       "      <td>B4OMOBMAQUA</td>\n",
       "      <td>AQUARTELAMENTO</td>\n",
       "      <td>RPNP</td>\n",
       "      <td>GLOBAL</td>\n",
       "      <td>DEC-GESTOR</td>\n",
       "      <td>153862.23</td>\n",
       "      <td>1233.96</td>\n",
       "      <td>155096.19</td>\n",
       "      <td>57143.21</td>\n",
       "    </tr>\n",
       "    <tr>\n",
       "      <th>303</th>\n",
       "      <td>160129</td>\n",
       "      <td>219D</td>\n",
       "      <td>ADEQUACAO DE ATIVOS DE INFRAESTRUTURA</td>\n",
       "      <td>2022</td>\n",
       "      <td>FENARA &amp; FENARA - ENGENHARIA E ADMINISTRACAO LTDA</td>\n",
       "      <td>2022-12-14</td>\n",
       "      <td>544</td>\n",
       "      <td>339039</td>\n",
       "      <td>OUTROS SERVICOS DE TERCEIROS - PESSOA JURIDICA</td>\n",
       "      <td>33903916</td>\n",
       "      <td>MANUTENCAO E CONSERV. DE BENS IMOVEIS</td>\n",
       "      <td>2022NE002482</td>\n",
       "      <td>B4OMOBMAQUA</td>\n",
       "      <td>AQUARTELAMENTO</td>\n",
       "      <td>RPNP</td>\n",
       "      <td>GLOBAL</td>\n",
       "      <td>DEC-GESTOR</td>\n",
       "      <td>73594.62</td>\n",
       "      <td>30358.93</td>\n",
       "      <td>103953.55</td>\n",
       "      <td>51843.42</td>\n",
       "    </tr>\n",
       "  </tbody>\n",
       "</table>\n",
       "</div>"
      ],
      "text/plain": [
       "         UG  ACAO                              NOME_ACAO   ANO  \\\n",
       "304  160129  219D  ADEQUACAO DE ATIVOS DE INFRAESTRUTURA  2022   \n",
       "303  160129  219D  ADEQUACAO DE ATIVOS DE INFRAESTRUTURA  2022   \n",
       "\n",
       "                                           NOME_CREDOR       DATA  DIAS  \\\n",
       "304  FENARA & FENARA - ENGENHARIA E ADMINISTRACAO LTDA 2022-12-14   544   \n",
       "303  FENARA & FENARA - ENGENHARIA E ADMINISTRACAO LTDA 2022-12-14   544   \n",
       "\n",
       "         ND                                         NOME_ND      NDSI  \\\n",
       "304  339039  OUTROS SERVICOS DE TERCEIROS - PESSOA JURIDICA  33903916   \n",
       "303  339039  OUTROS SERVICOS DE TERCEIROS - PESSOA JURIDICA  33903916   \n",
       "\n",
       "                                 NOME_NDSI            NE           PI  \\\n",
       "304  MANUTENCAO E CONSERV. DE BENS IMOVEIS  2022NE002483  B4OMOBMAQUA   \n",
       "303  MANUTENCAO E CONSERV. DE BENS IMOVEIS  2022NE002482  B4OMOBMAQUA   \n",
       "\n",
       "            NOME_PI  TIPO TIPO_NE    NOME_UGR  A_LIQUIDAR  LIQUIDADO_A_PAGAR  \\\n",
       "304  AQUARTELAMENTO  RPNP  GLOBAL  DEC-GESTOR   153862.23            1233.96   \n",
       "303  AQUARTELAMENTO  RPNP  GLOBAL  DEC-GESTOR    73594.62           30358.93   \n",
       "\n",
       "     TOTAL_A_PAGAR      PAGO  \n",
       "304      155096.19  57143.21  \n",
       "303      103953.55  51843.42  "
      ]
     },
     "execution_count": 30,
     "metadata": {},
     "output_type": "execute_result"
    }
   ],
   "source": [
    "cols = ['UG', 'ACAO', 'NOME_ACAO', 'ANO', 'NOME_CREDOR',\n",
    "'DATA', 'DIAS', 'ND', 'NOME_ND', 'NDSI', 'NOME_NDSI', 'NE', 'PI', \n",
    "'NOME_PI', 'TIPO', 'TIPO_NE', 'NOME_UGR', 'A_LIQUIDAR', \n",
    "'LIQUIDADO_A_PAGAR', 'TOTAL_A_PAGAR', 'PAGO']\n",
    "\n",
    "df_filtro = df_teste.loc[:,cols]\n",
    "df_filtro = df_filtro[df_filtro['A_LIQUIDAR'] != 0]\n",
    "df_filtro.sort_values(by='DIAS', ascending=False).head(2)"
   ]
  },
  {
   "cell_type": "markdown",
   "metadata": {},
   "source": [
    "### Filtros Diversos"
   ]
  },
  {
   "cell_type": "code",
   "execution_count": 31,
   "metadata": {},
   "outputs": [],
   "source": [
    "df_liquidar = df_teste[df_teste['A_LIQUIDAR'] != 0].sort_values(by= 'DIAS', ascending= False).reset_index(drop=True)"
   ]
  },
  {
   "cell_type": "code",
   "execution_count": 32,
   "metadata": {},
   "outputs": [
    {
     "data": {
      "text/plain": [
       "Index(['UG', 'NOME_UG', 'ICFEX', 'NOME_ICFEX', 'T_COMANDO', 'T_RM', 'T_CIDADE',\n",
       "       'PROGRAMA', 'ACAO', 'NOME_ACAO', 'UGR', 'NOME_UGR', 'PTRES', 'PI',\n",
       "       'NOME_PI', 'ND', 'NOME_ND', 'NDSI', 'NOME_NDSI', 'NE', 'ANO', 'DATA',\n",
       "       'CHAVE', 'FAV', 'NOME_CREDOR', 'UF_FAV', 'TIPO', 'DIAS', 'UF_UG',\n",
       "       'FONTE', 'MOD_LIC', 'TIPO_NE', 'RP', 'NOME_RP', 'TIPO_CREDITO',\n",
       "       'NOME_TIPO_CREDITO', 'PO', 'AUTOR_EMENDA', 'NOME_AUTOR_EMENDA', 'LOCAL',\n",
       "       'UO', 'NOME_UO', 'RADPI4', 'MEIPI3', 'SUFPI4', 'A_LIQUIDAR',\n",
       "       'LIQUIDADO_A_PAGAR', 'TOTAL_A_PAGAR', 'PAGO'],\n",
       "      dtype='object')"
      ]
     },
     "execution_count": 32,
     "metadata": {},
     "output_type": "execute_result"
    }
   ],
   "source": [
    "df_liquidar.columns"
   ]
  },
  {
   "cell_type": "code",
   "execution_count": 33,
   "metadata": {},
   "outputs": [
    {
     "data": {
      "text/html": [
       "<div>\n",
       "<style scoped>\n",
       "    .dataframe tbody tr th:only-of-type {\n",
       "        vertical-align: middle;\n",
       "    }\n",
       "\n",
       "    .dataframe tbody tr th {\n",
       "        vertical-align: top;\n",
       "    }\n",
       "\n",
       "    .dataframe thead th {\n",
       "        text-align: right;\n",
       "    }\n",
       "</style>\n",
       "<table border=\"1\" class=\"dataframe\">\n",
       "  <thead>\n",
       "    <tr style=\"text-align: right;\">\n",
       "      <th></th>\n",
       "      <th>UG</th>\n",
       "      <th>ACAO</th>\n",
       "      <th>NOME_ACAO</th>\n",
       "      <th>NOME_UGR</th>\n",
       "      <th>PI</th>\n",
       "      <th>NOME_PI</th>\n",
       "      <th>ND</th>\n",
       "      <th>NOME_ND</th>\n",
       "      <th>NDSI</th>\n",
       "      <th>NOME_NDSI</th>\n",
       "      <th>NE</th>\n",
       "      <th>ANO</th>\n",
       "      <th>DATA</th>\n",
       "      <th>FAV</th>\n",
       "      <th>NOME_CREDOR</th>\n",
       "      <th>UF_FAV</th>\n",
       "      <th>TIPO</th>\n",
       "      <th>DIAS</th>\n",
       "      <th>UF_UG</th>\n",
       "      <th>MOD_LIC</th>\n",
       "      <th>TIPO_NE</th>\n",
       "      <th>RP</th>\n",
       "      <th>NOME_RP</th>\n",
       "      <th>UO</th>\n",
       "      <th>NOME_UO</th>\n",
       "      <th>A_LIQUIDAR</th>\n",
       "      <th>LIQUIDADO_A_PAGAR</th>\n",
       "      <th>TOTAL_A_PAGAR</th>\n",
       "      <th>PAGO</th>\n",
       "    </tr>\n",
       "  </thead>\n",
       "  <tbody>\n",
       "    <tr>\n",
       "      <th>0</th>\n",
       "      <td>160129</td>\n",
       "      <td>219D</td>\n",
       "      <td>ADEQUACAO DE ATIVOS DE INFRAESTRUTURA</td>\n",
       "      <td>DEC-GESTOR</td>\n",
       "      <td>B4OMOBMAQUA</td>\n",
       "      <td>AQUARTELAMENTO</td>\n",
       "      <td>339039</td>\n",
       "      <td>OUTROS SERVICOS DE TERCEIROS - PESSOA JURIDICA</td>\n",
       "      <td>33903916</td>\n",
       "      <td>MANUTENCAO E CONSERV. DE BENS IMOVEIS</td>\n",
       "      <td>2022NE002483</td>\n",
       "      <td>2022</td>\n",
       "      <td>2022-12-14</td>\n",
       "      <td>17289559000186</td>\n",
       "      <td>FENARA &amp; FENARA - ENGENHARIA E ADMINISTRACAO LTDA</td>\n",
       "      <td>SP</td>\n",
       "      <td>RPNP</td>\n",
       "      <td>544</td>\n",
       "      <td>MG</td>\n",
       "      <td>PREGAO</td>\n",
       "      <td>GLOBAL</td>\n",
       "      <td>2</td>\n",
       "      <td>PRIMARIO DISCRICIONARIO</td>\n",
       "      <td>52121</td>\n",
       "      <td>COMANDO DO EXERCITO</td>\n",
       "      <td>153862.23</td>\n",
       "      <td>1233.96</td>\n",
       "      <td>155096.19</td>\n",
       "      <td>57143.21</td>\n",
       "    </tr>\n",
       "    <tr>\n",
       "      <th>1</th>\n",
       "      <td>160129</td>\n",
       "      <td>219D</td>\n",
       "      <td>ADEQUACAO DE ATIVOS DE INFRAESTRUTURA</td>\n",
       "      <td>DEC-GESTOR</td>\n",
       "      <td>B4OMOBMAQUA</td>\n",
       "      <td>AQUARTELAMENTO</td>\n",
       "      <td>339039</td>\n",
       "      <td>OUTROS SERVICOS DE TERCEIROS - PESSOA JURIDICA</td>\n",
       "      <td>33903916</td>\n",
       "      <td>MANUTENCAO E CONSERV. DE BENS IMOVEIS</td>\n",
       "      <td>2022NE002482</td>\n",
       "      <td>2022</td>\n",
       "      <td>2022-12-14</td>\n",
       "      <td>17289559000186</td>\n",
       "      <td>FENARA &amp; FENARA - ENGENHARIA E ADMINISTRACAO LTDA</td>\n",
       "      <td>SP</td>\n",
       "      <td>RPNP</td>\n",
       "      <td>544</td>\n",
       "      <td>MG</td>\n",
       "      <td>PREGAO</td>\n",
       "      <td>GLOBAL</td>\n",
       "      <td>2</td>\n",
       "      <td>PRIMARIO DISCRICIONARIO</td>\n",
       "      <td>52121</td>\n",
       "      <td>COMANDO DO EXERCITO</td>\n",
       "      <td>73594.62</td>\n",
       "      <td>30358.93</td>\n",
       "      <td>103953.55</td>\n",
       "      <td>51843.42</td>\n",
       "    </tr>\n",
       "    <tr>\n",
       "      <th>2</th>\n",
       "      <td>160129</td>\n",
       "      <td>8965</td>\n",
       "      <td>CAPACITACAO PROFISSIONAL MILITAR DO E</td>\n",
       "      <td>DECEX/GESTOR</td>\n",
       "      <td>C1ENMILOUTR</td>\n",
       "      <td>OUTROS</td>\n",
       "      <td>339039</td>\n",
       "      <td>OUTROS SERVICOS DE TERCEIROS - PESSOA JURIDICA</td>\n",
       "      <td>33903916</td>\n",
       "      <td>MANUTENCAO E CONSERV. DE BENS IMOVEIS</td>\n",
       "      <td>2022NE002702</td>\n",
       "      <td>2022</td>\n",
       "      <td>2022-12-28</td>\n",
       "      <td>17289559000186</td>\n",
       "      <td>FENARA &amp; FENARA - ENGENHARIA E ADMINISTRACAO LTDA</td>\n",
       "      <td>SP</td>\n",
       "      <td>RPNP</td>\n",
       "      <td>530</td>\n",
       "      <td>MG</td>\n",
       "      <td>PREGAO</td>\n",
       "      <td>GLOBAL</td>\n",
       "      <td>2</td>\n",
       "      <td>PRIMARIO DISCRICIONARIO</td>\n",
       "      <td>52121</td>\n",
       "      <td>COMANDO DO EXERCITO</td>\n",
       "      <td>12733.76</td>\n",
       "      <td>0.00</td>\n",
       "      <td>12733.76</td>\n",
       "      <td>0.00</td>\n",
       "    </tr>\n",
       "    <tr>\n",
       "      <th>3</th>\n",
       "      <td>160129</td>\n",
       "      <td>8965</td>\n",
       "      <td>CAPACITACAO PROFISSIONAL MILITAR DO E</td>\n",
       "      <td>DECEX/GESTOR</td>\n",
       "      <td>C4ENMILCAPE</td>\n",
       "      <td>CAPACITACAO DE PESSOAL</td>\n",
       "      <td>339033</td>\n",
       "      <td>PASSAGENS E DESPESAS COM LOCOMOCAO</td>\n",
       "      <td>33903301</td>\n",
       "      <td>PASSAGENS PARA O PAIS</td>\n",
       "      <td>2023NE000033</td>\n",
       "      <td>2023</td>\n",
       "      <td>2023-02-03</td>\n",
       "      <td>14807420000199</td>\n",
       "      <td>FACTO TURISMO  LTDA</td>\n",
       "      <td>SP</td>\n",
       "      <td>RPNP</td>\n",
       "      <td>493</td>\n",
       "      <td>MG</td>\n",
       "      <td>PREGAO</td>\n",
       "      <td>GLOBAL</td>\n",
       "      <td>2</td>\n",
       "      <td>PRIMARIO DISCRICIONARIO</td>\n",
       "      <td>52121</td>\n",
       "      <td>COMANDO DO EXERCITO</td>\n",
       "      <td>22498.10</td>\n",
       "      <td>0.00</td>\n",
       "      <td>22498.10</td>\n",
       "      <td>0.00</td>\n",
       "    </tr>\n",
       "    <tr>\n",
       "      <th>4</th>\n",
       "      <td>160129</td>\n",
       "      <td>8965</td>\n",
       "      <td>CAPACITACAO PROFISSIONAL MILITAR DO E</td>\n",
       "      <td>DECEX/GESTOR</td>\n",
       "      <td>C4ENMILCAPE</td>\n",
       "      <td>CAPACITACAO DE PESSOAL</td>\n",
       "      <td>339033</td>\n",
       "      <td>PASSAGENS E DESPESAS COM LOCOMOCAO</td>\n",
       "      <td>33903301</td>\n",
       "      <td>PASSAGENS PARA O PAIS</td>\n",
       "      <td>2023NE000034</td>\n",
       "      <td>2023</td>\n",
       "      <td>2023-02-03</td>\n",
       "      <td>21331404000138</td>\n",
       "      <td>ORLEANS VIAGENS E TURISMO LTDA</td>\n",
       "      <td>SP</td>\n",
       "      <td>RPNP</td>\n",
       "      <td>493</td>\n",
       "      <td>MG</td>\n",
       "      <td>PREGAO</td>\n",
       "      <td>GLOBAL</td>\n",
       "      <td>2</td>\n",
       "      <td>PRIMARIO DISCRICIONARIO</td>\n",
       "      <td>52121</td>\n",
       "      <td>COMANDO DO EXERCITO</td>\n",
       "      <td>4172.63</td>\n",
       "      <td>706.91</td>\n",
       "      <td>4879.54</td>\n",
       "      <td>4938.21</td>\n",
       "    </tr>\n",
       "    <tr>\n",
       "      <th>5</th>\n",
       "      <td>160129</td>\n",
       "      <td>8965</td>\n",
       "      <td>CAPACITACAO PROFISSIONAL MILITAR DO E</td>\n",
       "      <td>DECEX/GESTOR</td>\n",
       "      <td>C4ENMILCAPE</td>\n",
       "      <td>CAPACITACAO DE PESSOAL</td>\n",
       "      <td>339039</td>\n",
       "      <td>OUTROS SERVICOS DE TERCEIROS - PESSOA JURIDICA</td>\n",
       "      <td>33903946</td>\n",
       "      <td>SERVICOS DOMESTICOS</td>\n",
       "      <td>2023NE000157</td>\n",
       "      <td>2023</td>\n",
       "      <td>2023-02-15</td>\n",
       "      <td>02347121000210</td>\n",
       "      <td>ASMAR &amp; FURTADO LTDA</td>\n",
       "      <td>MG</td>\n",
       "      <td>RPNP</td>\n",
       "      <td>481</td>\n",
       "      <td>MG</td>\n",
       "      <td>PREGAO</td>\n",
       "      <td>GLOBAL</td>\n",
       "      <td>2</td>\n",
       "      <td>PRIMARIO DISCRICIONARIO</td>\n",
       "      <td>52121</td>\n",
       "      <td>COMANDO DO EXERCITO</td>\n",
       "      <td>301.55</td>\n",
       "      <td>1706.74</td>\n",
       "      <td>2008.29</td>\n",
       "      <td>2038.84</td>\n",
       "    </tr>\n",
       "    <tr>\n",
       "      <th>6</th>\n",
       "      <td>160129</td>\n",
       "      <td>8965</td>\n",
       "      <td>CAPACITACAO PROFISSIONAL MILITAR DO E</td>\n",
       "      <td>DECEX/GESTOR</td>\n",
       "      <td>C4ENMILCAPE</td>\n",
       "      <td>CAPACITACAO DE PESSOAL</td>\n",
       "      <td>339033</td>\n",
       "      <td>PASSAGENS E DESPESAS COM LOCOMOCAO</td>\n",
       "      <td>33903301</td>\n",
       "      <td>PASSAGENS PARA O PAIS</td>\n",
       "      <td>2023NE000329</td>\n",
       "      <td>2023</td>\n",
       "      <td>2023-04-03</td>\n",
       "      <td>14807420000199</td>\n",
       "      <td>FACTO TURISMO  LTDA</td>\n",
       "      <td>SP</td>\n",
       "      <td>RPNP</td>\n",
       "      <td>434</td>\n",
       "      <td>MG</td>\n",
       "      <td>PREGAO</td>\n",
       "      <td>GLOBAL</td>\n",
       "      <td>2</td>\n",
       "      <td>PRIMARIO DISCRICIONARIO</td>\n",
       "      <td>52121</td>\n",
       "      <td>COMANDO DO EXERCITO</td>\n",
       "      <td>2369.34</td>\n",
       "      <td>0.00</td>\n",
       "      <td>2369.34</td>\n",
       "      <td>1789.14</td>\n",
       "    </tr>\n",
       "    <tr>\n",
       "      <th>7</th>\n",
       "      <td>160129</td>\n",
       "      <td>21A0</td>\n",
       "      <td>APRESTAMENTO DAS FORCAS</td>\n",
       "      <td>COEX/GESTOR</td>\n",
       "      <td>E6RVPLJMTOE</td>\n",
       "      <td>MEDIDAS PROFILÁT SAÚDE EQUINOS</td>\n",
       "      <td>339039</td>\n",
       "      <td>OUTROS SERVICOS DE TERCEIROS - PESSOA JURIDICA</td>\n",
       "      <td>33903950</td>\n",
       "      <td>SERV.MEDICO-HOSPITAL.,ODONTOL.E LABORATORIAIS</td>\n",
       "      <td>2023NE000377</td>\n",
       "      <td>2023</td>\n",
       "      <td>2023-04-14</td>\n",
       "      <td>08593332000139</td>\n",
       "      <td>EQUALLI SERVICOS VETERINARIOS LTDA</td>\n",
       "      <td>SP</td>\n",
       "      <td>RPNP</td>\n",
       "      <td>423</td>\n",
       "      <td>MG</td>\n",
       "      <td>DISPENSA DE LICITACAO</td>\n",
       "      <td>ORDINARIO</td>\n",
       "      <td>2</td>\n",
       "      <td>PRIMARIO DISCRICIONARIO</td>\n",
       "      <td>52121</td>\n",
       "      <td>COMANDO DO EXERCITO</td>\n",
       "      <td>480.00</td>\n",
       "      <td>0.00</td>\n",
       "      <td>480.00</td>\n",
       "      <td>0.00</td>\n",
       "    </tr>\n",
       "    <tr>\n",
       "      <th>8</th>\n",
       "      <td>167129</td>\n",
       "      <td>2004</td>\n",
       "      <td>ASSISTENCIA MEDICA E ODONTOLOGICA AOS</td>\n",
       "      <td>DGP</td>\n",
       "      <td>D8SACNTLARO</td>\n",
       "      <td>LAVAGEM DE ROUPAS PARA A VIDA VEGETATIVA OM</td>\n",
       "      <td>339039</td>\n",
       "      <td>OUTROS SERVICOS DE TERCEIROS - PESSOA JURIDICA</td>\n",
       "      <td>33903946</td>\n",
       "      <td>SERVICOS DOMESTICOS</td>\n",
       "      <td>2023NE000890</td>\n",
       "      <td>2023</td>\n",
       "      <td>2023-04-28</td>\n",
       "      <td>02347121000210</td>\n",
       "      <td>ASMAR &amp; FURTADO LTDA</td>\n",
       "      <td>MG</td>\n",
       "      <td>RPNP</td>\n",
       "      <td>409</td>\n",
       "      <td>MG</td>\n",
       "      <td>PREGAO</td>\n",
       "      <td>GLOBAL</td>\n",
       "      <td>1</td>\n",
       "      <td>PRIMARIO OBRIGATORIO</td>\n",
       "      <td>52921</td>\n",
       "      <td>FUNDO DO EXERCITO</td>\n",
       "      <td>478.06</td>\n",
       "      <td>0.00</td>\n",
       "      <td>478.06</td>\n",
       "      <td>2921.31</td>\n",
       "    </tr>\n",
       "    <tr>\n",
       "      <th>9</th>\n",
       "      <td>160129</td>\n",
       "      <td>8965</td>\n",
       "      <td>CAPACITACAO PROFISSIONAL MILITAR DO E</td>\n",
       "      <td>DECEX/GESTOR</td>\n",
       "      <td>C4ENMILOUTR</td>\n",
       "      <td>RESERVA  (DETMIL)</td>\n",
       "      <td>339039</td>\n",
       "      <td>OUTROS SERVICOS DE TERCEIROS - PESSOA JURIDICA</td>\n",
       "      <td>33903946</td>\n",
       "      <td>SERVICOS DOMESTICOS</td>\n",
       "      <td>2023NE000430</td>\n",
       "      <td>2023</td>\n",
       "      <td>2023-05-02</td>\n",
       "      <td>02347121000210</td>\n",
       "      <td>ASMAR &amp; FURTADO LTDA</td>\n",
       "      <td>MG</td>\n",
       "      <td>RPNP</td>\n",
       "      <td>405</td>\n",
       "      <td>MG</td>\n",
       "      <td>PREGAO</td>\n",
       "      <td>GLOBAL</td>\n",
       "      <td>2</td>\n",
       "      <td>PRIMARIO DISCRICIONARIO</td>\n",
       "      <td>52121</td>\n",
       "      <td>COMANDO DO EXERCITO</td>\n",
       "      <td>2264.08</td>\n",
       "      <td>0.00</td>\n",
       "      <td>2264.08</td>\n",
       "      <td>7277.68</td>\n",
       "    </tr>\n",
       "    <tr>\n",
       "      <th>10</th>\n",
       "      <td>160129</td>\n",
       "      <td>8965</td>\n",
       "      <td>CAPACITACAO PROFISSIONAL MILITAR DO E</td>\n",
       "      <td>DECEX/GESTOR</td>\n",
       "      <td>C4ENMILCAPE</td>\n",
       "      <td>CAPACITACAO DE PESSOAL</td>\n",
       "      <td>339040</td>\n",
       "      <td>SERVIÇOS DE TECNOLOGIA DA INFORMAÇÃO E COMUNIC...</td>\n",
       "      <td>33904016</td>\n",
       "      <td>OUTSOURCING DE IMPRESSAO</td>\n",
       "      <td>2023NE000490</td>\n",
       "      <td>2023</td>\n",
       "      <td>2023-05-05</td>\n",
       "      <td>68533967000172</td>\n",
       "      <td>PAPELARIA E COPIADORA COPYSUL LTDA.</td>\n",
       "      <td>MG</td>\n",
       "      <td>RPNP</td>\n",
       "      <td>402</td>\n",
       "      <td>MG</td>\n",
       "      <td>PREGAO</td>\n",
       "      <td>GLOBAL</td>\n",
       "      <td>2</td>\n",
       "      <td>PRIMARIO DISCRICIONARIO</td>\n",
       "      <td>52121</td>\n",
       "      <td>COMANDO DO EXERCITO</td>\n",
       "      <td>58519.63</td>\n",
       "      <td>0.00</td>\n",
       "      <td>58519.63</td>\n",
       "      <td>41764.02</td>\n",
       "    </tr>\n",
       "    <tr>\n",
       "      <th>11</th>\n",
       "      <td>160129</td>\n",
       "      <td>8965</td>\n",
       "      <td>CAPACITACAO PROFISSIONAL MILITAR DO E</td>\n",
       "      <td>DECEX/GESTOR</td>\n",
       "      <td>C4ENMILOUTR</td>\n",
       "      <td>RESERVA  (DETMIL)</td>\n",
       "      <td>339039</td>\n",
       "      <td>OUTROS SERVICOS DE TERCEIROS - PESSOA JURIDICA</td>\n",
       "      <td>33903946</td>\n",
       "      <td>SERVICOS DOMESTICOS</td>\n",
       "      <td>2023NE000529</td>\n",
       "      <td>2023</td>\n",
       "      <td>2023-05-19</td>\n",
       "      <td>02347121000210</td>\n",
       "      <td>ASMAR &amp; FURTADO LTDA</td>\n",
       "      <td>MG</td>\n",
       "      <td>RPNP</td>\n",
       "      <td>388</td>\n",
       "      <td>MG</td>\n",
       "      <td>PREGAO</td>\n",
       "      <td>GLOBAL</td>\n",
       "      <td>2</td>\n",
       "      <td>PRIMARIO DISCRICIONARIO</td>\n",
       "      <td>52121</td>\n",
       "      <td>COMANDO DO EXERCITO</td>\n",
       "      <td>10334.10</td>\n",
       "      <td>0.00</td>\n",
       "      <td>10334.10</td>\n",
       "      <td>0.00</td>\n",
       "    </tr>\n",
       "    <tr>\n",
       "      <th>12</th>\n",
       "      <td>160129</td>\n",
       "      <td>219D</td>\n",
       "      <td>ADEQUACAO DE ATIVOS DE INFRAESTRUTURA</td>\n",
       "      <td>DEC-GESTOR</td>\n",
       "      <td>B4OMOBMAQUA</td>\n",
       "      <td>AQUARTELAMENTO</td>\n",
       "      <td>339039</td>\n",
       "      <td>OUTROS SERVICOS DE TERCEIROS - PESSOA JURIDICA</td>\n",
       "      <td>33903916</td>\n",
       "      <td>MANUTENCAO E CONSERV. DE BENS IMOVEIS</td>\n",
       "      <td>2023NE000532</td>\n",
       "      <td>2023</td>\n",
       "      <td>2023-05-23</td>\n",
       "      <td>17289559000186</td>\n",
       "      <td>FENARA &amp; FENARA - ENGENHARIA E ADMINISTRACAO LTDA</td>\n",
       "      <td>SP</td>\n",
       "      <td>RPNP</td>\n",
       "      <td>384</td>\n",
       "      <td>MG</td>\n",
       "      <td>PREGAO</td>\n",
       "      <td>GLOBAL</td>\n",
       "      <td>2</td>\n",
       "      <td>PRIMARIO DISCRICIONARIO</td>\n",
       "      <td>52121</td>\n",
       "      <td>COMANDO DO EXERCITO</td>\n",
       "      <td>128414.40</td>\n",
       "      <td>1233.96</td>\n",
       "      <td>129648.36</td>\n",
       "      <td>105845.28</td>\n",
       "    </tr>\n",
       "    <tr>\n",
       "      <th>13</th>\n",
       "      <td>160129</td>\n",
       "      <td>8965</td>\n",
       "      <td>CAPACITACAO PROFISSIONAL MILITAR DO E</td>\n",
       "      <td>DECEX/GESTOR</td>\n",
       "      <td>C4ENMILCAPE</td>\n",
       "      <td>CAPACITACAO DE PESSOAL</td>\n",
       "      <td>339039</td>\n",
       "      <td>OUTROS SERVICOS DE TERCEIROS - PESSOA JURIDICA</td>\n",
       "      <td>33903914</td>\n",
       "      <td>LOCACAO BENS MOV. OUT.NATUREZAS E INTANGIVEIS</td>\n",
       "      <td>2023NE000540</td>\n",
       "      <td>2023</td>\n",
       "      <td>2023-05-25</td>\n",
       "      <td>15072268000106</td>\n",
       "      <td>SGA TUDO PARA SEU EVENTO LTDA</td>\n",
       "      <td>MG</td>\n",
       "      <td>RPNP</td>\n",
       "      <td>382</td>\n",
       "      <td>MG</td>\n",
       "      <td>PREGAO</td>\n",
       "      <td>GLOBAL</td>\n",
       "      <td>2</td>\n",
       "      <td>PRIMARIO DISCRICIONARIO</td>\n",
       "      <td>52121</td>\n",
       "      <td>COMANDO DO EXERCITO</td>\n",
       "      <td>4570.00</td>\n",
       "      <td>0.00</td>\n",
       "      <td>4570.00</td>\n",
       "      <td>6240.00</td>\n",
       "    </tr>\n",
       "    <tr>\n",
       "      <th>14</th>\n",
       "      <td>160129</td>\n",
       "      <td>21A0</td>\n",
       "      <td>APRESTAMENTO DAS FORCAS</td>\n",
       "      <td>COEX/GESTOR</td>\n",
       "      <td>E6RVSOLOUT4</td>\n",
       "      <td>REMONTA E VETERINÁRIA</td>\n",
       "      <td>339030</td>\n",
       "      <td>MATERIAL DE CONSUMO</td>\n",
       "      <td>33903024</td>\n",
       "      <td>MATERIAL P/ MANUT.DE BENS IMOVEIS/INSTALACOES</td>\n",
       "      <td>2023NE000647</td>\n",
       "      <td>2023</td>\n",
       "      <td>2023-06-07</td>\n",
       "      <td>43928711000133</td>\n",
       "      <td>GARDEN MATERIAIS DE CONSTRUCAO LTDA</td>\n",
       "      <td>MG</td>\n",
       "      <td>RPNP</td>\n",
       "      <td>369</td>\n",
       "      <td>MG</td>\n",
       "      <td>DISPENSA DE LICITACAO</td>\n",
       "      <td>GLOBAL</td>\n",
       "      <td>2</td>\n",
       "      <td>PRIMARIO DISCRICIONARIO</td>\n",
       "      <td>52121</td>\n",
       "      <td>COMANDO DO EXERCITO</td>\n",
       "      <td>155.00</td>\n",
       "      <td>0.00</td>\n",
       "      <td>155.00</td>\n",
       "      <td>0.00</td>\n",
       "    </tr>\n",
       "    <tr>\n",
       "      <th>15</th>\n",
       "      <td>160129</td>\n",
       "      <td>2000</td>\n",
       "      <td>ADMINISTRACAO DA UNIDADE</td>\n",
       "      <td>DGO</td>\n",
       "      <td>I3DACSPAGES</td>\n",
       "      <td>CONCESSIONÁRIAS DE ÁGUA E ESGOTO</td>\n",
       "      <td>339039</td>\n",
       "      <td>OUTROS SERVICOS DE TERCEIROS - PESSOA JURIDICA</td>\n",
       "      <td>33903944</td>\n",
       "      <td>SERVICOS DE AGUA E ESGOTO</td>\n",
       "      <td>2023NE000865</td>\n",
       "      <td>2023</td>\n",
       "      <td>2023-07-10</td>\n",
       "      <td>17281106000103</td>\n",
       "      <td>COMPANHIA DE SANEAMENTO DE MINAS GERAIS COPASA MG</td>\n",
       "      <td>MG</td>\n",
       "      <td>RPNP</td>\n",
       "      <td>336</td>\n",
       "      <td>MG</td>\n",
       "      <td>INEXIGIBILIDADE</td>\n",
       "      <td>ESTIMATIVO</td>\n",
       "      <td>2</td>\n",
       "      <td>PRIMARIO DISCRICIONARIO</td>\n",
       "      <td>52121</td>\n",
       "      <td>COMANDO DO EXERCITO</td>\n",
       "      <td>2691.61</td>\n",
       "      <td>1139.39</td>\n",
       "      <td>3831.00</td>\n",
       "      <td>26432.86</td>\n",
       "    </tr>\n",
       "    <tr>\n",
       "      <th>16</th>\n",
       "      <td>160129</td>\n",
       "      <td>21A0</td>\n",
       "      <td>APRESTAMENTO DAS FORCAS</td>\n",
       "      <td>COEX/GESTOR</td>\n",
       "      <td>E6RVPLJMTOE</td>\n",
       "      <td>MEDIDAS PROFILÁT SAÚDE EQUINOS</td>\n",
       "      <td>339039</td>\n",
       "      <td>OUTROS SERVICOS DE TERCEIROS - PESSOA JURIDICA</td>\n",
       "      <td>33903950</td>\n",
       "      <td>SERV.MEDICO-HOSPITAL.,ODONTOL.E LABORATORIAIS</td>\n",
       "      <td>2023NE001092</td>\n",
       "      <td>2023</td>\n",
       "      <td>2023-08-31</td>\n",
       "      <td>08593332000139</td>\n",
       "      <td>EQUALLI SERVICOS VETERINARIOS LTDA</td>\n",
       "      <td>SP</td>\n",
       "      <td>RPNP</td>\n",
       "      <td>284</td>\n",
       "      <td>MG</td>\n",
       "      <td>DISPENSA DE LICITACAO</td>\n",
       "      <td>GLOBAL</td>\n",
       "      <td>2</td>\n",
       "      <td>PRIMARIO DISCRICIONARIO</td>\n",
       "      <td>52121</td>\n",
       "      <td>COMANDO DO EXERCITO</td>\n",
       "      <td>2480.00</td>\n",
       "      <td>0.00</td>\n",
       "      <td>2480.00</td>\n",
       "      <td>0.00</td>\n",
       "    </tr>\n",
       "    <tr>\n",
       "      <th>17</th>\n",
       "      <td>160129</td>\n",
       "      <td>8965</td>\n",
       "      <td>CAPACITACAO PROFISSIONAL MILITAR DO E</td>\n",
       "      <td>DECEX/GESTOR</td>\n",
       "      <td>C4ENMILCAPE</td>\n",
       "      <td>CAPACITACAO DE PESSOAL</td>\n",
       "      <td>339040</td>\n",
       "      <td>SERVIÇOS DE TECNOLOGIA DA INFORMAÇÃO E COMUNIC...</td>\n",
       "      <td>33904016</td>\n",
       "      <td>OUTSOURCING DE IMPRESSAO</td>\n",
       "      <td>2023NE001103</td>\n",
       "      <td>2023</td>\n",
       "      <td>2023-09-05</td>\n",
       "      <td>07385089000109</td>\n",
       "      <td>GP EMISSAO INSTANTANEA E GESTAO DE DOCUMENTOS ...</td>\n",
       "      <td>SP</td>\n",
       "      <td>RPNP</td>\n",
       "      <td>279</td>\n",
       "      <td>MG</td>\n",
       "      <td>PREGAO</td>\n",
       "      <td>GLOBAL</td>\n",
       "      <td>2</td>\n",
       "      <td>PRIMARIO DISCRICIONARIO</td>\n",
       "      <td>52121</td>\n",
       "      <td>COMANDO DO EXERCITO</td>\n",
       "      <td>4024.60</td>\n",
       "      <td>7442.60</td>\n",
       "      <td>11467.20</td>\n",
       "      <td>27616.00</td>\n",
       "    </tr>\n",
       "    <tr>\n",
       "      <th>18</th>\n",
       "      <td>167129</td>\n",
       "      <td>2000</td>\n",
       "      <td>ADMINISTRACAO DA UNIDADE</td>\n",
       "      <td>DECEX - GESTOR</td>\n",
       "      <td>C1ENCONDETM</td>\n",
       "      <td>CONCURSOS AS ESCOLAS MILITARES</td>\n",
       "      <td>449052</td>\n",
       "      <td>EQUIPAMENTOS E MATERIAL PERMANENTE</td>\n",
       "      <td>44905212</td>\n",
       "      <td>APARELHOS E UTENSILIOS DOMESTICOS</td>\n",
       "      <td>2023NE001611</td>\n",
       "      <td>2023</td>\n",
       "      <td>2023-09-29</td>\n",
       "      <td>40426345000126</td>\n",
       "      <td>CITE ELETRODOMESTICOS LTDA</td>\n",
       "      <td>DF</td>\n",
       "      <td>RPNP</td>\n",
       "      <td>255</td>\n",
       "      <td>MG</td>\n",
       "      <td>PREGAO</td>\n",
       "      <td>ORDINARIO</td>\n",
       "      <td>2</td>\n",
       "      <td>PRIMARIO DISCRICIONARIO</td>\n",
       "      <td>52921</td>\n",
       "      <td>FUNDO DO EXERCITO</td>\n",
       "      <td>14016.00</td>\n",
       "      <td>0.00</td>\n",
       "      <td>14016.00</td>\n",
       "      <td>0.00</td>\n",
       "    </tr>\n",
       "    <tr>\n",
       "      <th>19</th>\n",
       "      <td>160129</td>\n",
       "      <td>156M</td>\n",
       "      <td>MODERNIZACAO E TRANSFORMACAO ESTRATEG</td>\n",
       "      <td>DEC-GESTOR</td>\n",
       "      <td>FIL311XARTC</td>\n",
       "      <td>CONSTRUIR E ADEQUAR INST SIST EDU E CULT EB</td>\n",
       "      <td>339039</td>\n",
       "      <td>OUTROS SERVICOS DE TERCEIROS - PESSOA JURIDICA</td>\n",
       "      <td>33903916</td>\n",
       "      <td>MANUTENCAO E CONSERV. DE BENS IMOVEIS</td>\n",
       "      <td>2023NE001252</td>\n",
       "      <td>2023</td>\n",
       "      <td>2023-10-10</td>\n",
       "      <td>33658130000175</td>\n",
       "      <td>FIEL COMERCIAL E SERVICOS LTDA</td>\n",
       "      <td>SP</td>\n",
       "      <td>RPNP</td>\n",
       "      <td>244</td>\n",
       "      <td>MG</td>\n",
       "      <td>PREGAO</td>\n",
       "      <td>ORDINARIO</td>\n",
       "      <td>2</td>\n",
       "      <td>PRIMARIO DISCRICIONARIO</td>\n",
       "      <td>52121</td>\n",
       "      <td>COMANDO DO EXERCITO</td>\n",
       "      <td>118162.09</td>\n",
       "      <td>85332.17</td>\n",
       "      <td>203494.26</td>\n",
       "      <td>96505.74</td>\n",
       "    </tr>\n",
       "  </tbody>\n",
       "</table>\n",
       "</div>"
      ],
      "text/plain": [
       "        UG  ACAO                              NOME_ACAO        NOME_UGR  \\\n",
       "0   160129  219D  ADEQUACAO DE ATIVOS DE INFRAESTRUTURA      DEC-GESTOR   \n",
       "1   160129  219D  ADEQUACAO DE ATIVOS DE INFRAESTRUTURA      DEC-GESTOR   \n",
       "2   160129  8965  CAPACITACAO PROFISSIONAL MILITAR DO E    DECEX/GESTOR   \n",
       "3   160129  8965  CAPACITACAO PROFISSIONAL MILITAR DO E    DECEX/GESTOR   \n",
       "4   160129  8965  CAPACITACAO PROFISSIONAL MILITAR DO E    DECEX/GESTOR   \n",
       "5   160129  8965  CAPACITACAO PROFISSIONAL MILITAR DO E    DECEX/GESTOR   \n",
       "6   160129  8965  CAPACITACAO PROFISSIONAL MILITAR DO E    DECEX/GESTOR   \n",
       "7   160129  21A0                APRESTAMENTO DAS FORCAS     COEX/GESTOR   \n",
       "8   167129  2004  ASSISTENCIA MEDICA E ODONTOLOGICA AOS             DGP   \n",
       "9   160129  8965  CAPACITACAO PROFISSIONAL MILITAR DO E    DECEX/GESTOR   \n",
       "10  160129  8965  CAPACITACAO PROFISSIONAL MILITAR DO E    DECEX/GESTOR   \n",
       "11  160129  8965  CAPACITACAO PROFISSIONAL MILITAR DO E    DECEX/GESTOR   \n",
       "12  160129  219D  ADEQUACAO DE ATIVOS DE INFRAESTRUTURA      DEC-GESTOR   \n",
       "13  160129  8965  CAPACITACAO PROFISSIONAL MILITAR DO E    DECEX/GESTOR   \n",
       "14  160129  21A0                APRESTAMENTO DAS FORCAS     COEX/GESTOR   \n",
       "15  160129  2000               ADMINISTRACAO DA UNIDADE             DGO   \n",
       "16  160129  21A0                APRESTAMENTO DAS FORCAS     COEX/GESTOR   \n",
       "17  160129  8965  CAPACITACAO PROFISSIONAL MILITAR DO E    DECEX/GESTOR   \n",
       "18  167129  2000               ADMINISTRACAO DA UNIDADE  DECEX - GESTOR   \n",
       "19  160129  156M  MODERNIZACAO E TRANSFORMACAO ESTRATEG      DEC-GESTOR   \n",
       "\n",
       "             PI                                      NOME_PI      ND  \\\n",
       "0   B4OMOBMAQUA                               AQUARTELAMENTO  339039   \n",
       "1   B4OMOBMAQUA                               AQUARTELAMENTO  339039   \n",
       "2   C1ENMILOUTR                                       OUTROS  339039   \n",
       "3   C4ENMILCAPE                       CAPACITACAO DE PESSOAL  339033   \n",
       "4   C4ENMILCAPE                       CAPACITACAO DE PESSOAL  339033   \n",
       "5   C4ENMILCAPE                       CAPACITACAO DE PESSOAL  339039   \n",
       "6   C4ENMILCAPE                       CAPACITACAO DE PESSOAL  339033   \n",
       "7   E6RVPLJMTOE               MEDIDAS PROFILÁT SAÚDE EQUINOS  339039   \n",
       "8   D8SACNTLARO  LAVAGEM DE ROUPAS PARA A VIDA VEGETATIVA OM  339039   \n",
       "9   C4ENMILOUTR                            RESERVA  (DETMIL)  339039   \n",
       "10  C4ENMILCAPE                       CAPACITACAO DE PESSOAL  339040   \n",
       "11  C4ENMILOUTR                            RESERVA  (DETMIL)  339039   \n",
       "12  B4OMOBMAQUA                               AQUARTELAMENTO  339039   \n",
       "13  C4ENMILCAPE                       CAPACITACAO DE PESSOAL  339039   \n",
       "14  E6RVSOLOUT4                        REMONTA E VETERINÁRIA  339030   \n",
       "15  I3DACSPAGES             CONCESSIONÁRIAS DE ÁGUA E ESGOTO  339039   \n",
       "16  E6RVPLJMTOE               MEDIDAS PROFILÁT SAÚDE EQUINOS  339039   \n",
       "17  C4ENMILCAPE                       CAPACITACAO DE PESSOAL  339040   \n",
       "18  C1ENCONDETM               CONCURSOS AS ESCOLAS MILITARES  449052   \n",
       "19  FIL311XARTC  CONSTRUIR E ADEQUAR INST SIST EDU E CULT EB  339039   \n",
       "\n",
       "                                              NOME_ND      NDSI  \\\n",
       "0      OUTROS SERVICOS DE TERCEIROS - PESSOA JURIDICA  33903916   \n",
       "1      OUTROS SERVICOS DE TERCEIROS - PESSOA JURIDICA  33903916   \n",
       "2      OUTROS SERVICOS DE TERCEIROS - PESSOA JURIDICA  33903916   \n",
       "3                  PASSAGENS E DESPESAS COM LOCOMOCAO  33903301   \n",
       "4                  PASSAGENS E DESPESAS COM LOCOMOCAO  33903301   \n",
       "5      OUTROS SERVICOS DE TERCEIROS - PESSOA JURIDICA  33903946   \n",
       "6                  PASSAGENS E DESPESAS COM LOCOMOCAO  33903301   \n",
       "7      OUTROS SERVICOS DE TERCEIROS - PESSOA JURIDICA  33903950   \n",
       "8      OUTROS SERVICOS DE TERCEIROS - PESSOA JURIDICA  33903946   \n",
       "9      OUTROS SERVICOS DE TERCEIROS - PESSOA JURIDICA  33903946   \n",
       "10  SERVIÇOS DE TECNOLOGIA DA INFORMAÇÃO E COMUNIC...  33904016   \n",
       "11     OUTROS SERVICOS DE TERCEIROS - PESSOA JURIDICA  33903946   \n",
       "12     OUTROS SERVICOS DE TERCEIROS - PESSOA JURIDICA  33903916   \n",
       "13     OUTROS SERVICOS DE TERCEIROS - PESSOA JURIDICA  33903914   \n",
       "14                                MATERIAL DE CONSUMO  33903024   \n",
       "15     OUTROS SERVICOS DE TERCEIROS - PESSOA JURIDICA  33903944   \n",
       "16     OUTROS SERVICOS DE TERCEIROS - PESSOA JURIDICA  33903950   \n",
       "17  SERVIÇOS DE TECNOLOGIA DA INFORMAÇÃO E COMUNIC...  33904016   \n",
       "18                 EQUIPAMENTOS E MATERIAL PERMANENTE  44905212   \n",
       "19     OUTROS SERVICOS DE TERCEIROS - PESSOA JURIDICA  33903916   \n",
       "\n",
       "                                        NOME_NDSI            NE   ANO  \\\n",
       "0           MANUTENCAO E CONSERV. DE BENS IMOVEIS  2022NE002483  2022   \n",
       "1           MANUTENCAO E CONSERV. DE BENS IMOVEIS  2022NE002482  2022   \n",
       "2           MANUTENCAO E CONSERV. DE BENS IMOVEIS  2022NE002702  2022   \n",
       "3                           PASSAGENS PARA O PAIS  2023NE000033  2023   \n",
       "4                           PASSAGENS PARA O PAIS  2023NE000034  2023   \n",
       "5                             SERVICOS DOMESTICOS  2023NE000157  2023   \n",
       "6                           PASSAGENS PARA O PAIS  2023NE000329  2023   \n",
       "7   SERV.MEDICO-HOSPITAL.,ODONTOL.E LABORATORIAIS  2023NE000377  2023   \n",
       "8                             SERVICOS DOMESTICOS  2023NE000890  2023   \n",
       "9                             SERVICOS DOMESTICOS  2023NE000430  2023   \n",
       "10                       OUTSOURCING DE IMPRESSAO  2023NE000490  2023   \n",
       "11                            SERVICOS DOMESTICOS  2023NE000529  2023   \n",
       "12          MANUTENCAO E CONSERV. DE BENS IMOVEIS  2023NE000532  2023   \n",
       "13  LOCACAO BENS MOV. OUT.NATUREZAS E INTANGIVEIS  2023NE000540  2023   \n",
       "14  MATERIAL P/ MANUT.DE BENS IMOVEIS/INSTALACOES  2023NE000647  2023   \n",
       "15                      SERVICOS DE AGUA E ESGOTO  2023NE000865  2023   \n",
       "16  SERV.MEDICO-HOSPITAL.,ODONTOL.E LABORATORIAIS  2023NE001092  2023   \n",
       "17                       OUTSOURCING DE IMPRESSAO  2023NE001103  2023   \n",
       "18              APARELHOS E UTENSILIOS DOMESTICOS  2023NE001611  2023   \n",
       "19          MANUTENCAO E CONSERV. DE BENS IMOVEIS  2023NE001252  2023   \n",
       "\n",
       "         DATA             FAV  \\\n",
       "0  2022-12-14  17289559000186   \n",
       "1  2022-12-14  17289559000186   \n",
       "2  2022-12-28  17289559000186   \n",
       "3  2023-02-03  14807420000199   \n",
       "4  2023-02-03  21331404000138   \n",
       "5  2023-02-15  02347121000210   \n",
       "6  2023-04-03  14807420000199   \n",
       "7  2023-04-14  08593332000139   \n",
       "8  2023-04-28  02347121000210   \n",
       "9  2023-05-02  02347121000210   \n",
       "10 2023-05-05  68533967000172   \n",
       "11 2023-05-19  02347121000210   \n",
       "12 2023-05-23  17289559000186   \n",
       "13 2023-05-25  15072268000106   \n",
       "14 2023-06-07  43928711000133   \n",
       "15 2023-07-10  17281106000103   \n",
       "16 2023-08-31  08593332000139   \n",
       "17 2023-09-05  07385089000109   \n",
       "18 2023-09-29  40426345000126   \n",
       "19 2023-10-10  33658130000175   \n",
       "\n",
       "                                          NOME_CREDOR UF_FAV  TIPO  DIAS  \\\n",
       "0   FENARA & FENARA - ENGENHARIA E ADMINISTRACAO LTDA     SP  RPNP   544   \n",
       "1   FENARA & FENARA - ENGENHARIA E ADMINISTRACAO LTDA     SP  RPNP   544   \n",
       "2   FENARA & FENARA - ENGENHARIA E ADMINISTRACAO LTDA     SP  RPNP   530   \n",
       "3                                 FACTO TURISMO  LTDA     SP  RPNP   493   \n",
       "4                      ORLEANS VIAGENS E TURISMO LTDA     SP  RPNP   493   \n",
       "5                                ASMAR & FURTADO LTDA     MG  RPNP   481   \n",
       "6                                 FACTO TURISMO  LTDA     SP  RPNP   434   \n",
       "7                  EQUALLI SERVICOS VETERINARIOS LTDA     SP  RPNP   423   \n",
       "8                                ASMAR & FURTADO LTDA     MG  RPNP   409   \n",
       "9                                ASMAR & FURTADO LTDA     MG  RPNP   405   \n",
       "10                PAPELARIA E COPIADORA COPYSUL LTDA.     MG  RPNP   402   \n",
       "11                               ASMAR & FURTADO LTDA     MG  RPNP   388   \n",
       "12  FENARA & FENARA - ENGENHARIA E ADMINISTRACAO LTDA     SP  RPNP   384   \n",
       "13                      SGA TUDO PARA SEU EVENTO LTDA     MG  RPNP   382   \n",
       "14                GARDEN MATERIAIS DE CONSTRUCAO LTDA     MG  RPNP   369   \n",
       "15  COMPANHIA DE SANEAMENTO DE MINAS GERAIS COPASA MG     MG  RPNP   336   \n",
       "16                 EQUALLI SERVICOS VETERINARIOS LTDA     SP  RPNP   284   \n",
       "17  GP EMISSAO INSTANTANEA E GESTAO DE DOCUMENTOS ...     SP  RPNP   279   \n",
       "18                         CITE ELETRODOMESTICOS LTDA     DF  RPNP   255   \n",
       "19                     FIEL COMERCIAL E SERVICOS LTDA     SP  RPNP   244   \n",
       "\n",
       "   UF_UG                MOD_LIC     TIPO_NE RP                  NOME_RP  \\\n",
       "0     MG                 PREGAO      GLOBAL  2  PRIMARIO DISCRICIONARIO   \n",
       "1     MG                 PREGAO      GLOBAL  2  PRIMARIO DISCRICIONARIO   \n",
       "2     MG                 PREGAO      GLOBAL  2  PRIMARIO DISCRICIONARIO   \n",
       "3     MG                 PREGAO      GLOBAL  2  PRIMARIO DISCRICIONARIO   \n",
       "4     MG                 PREGAO      GLOBAL  2  PRIMARIO DISCRICIONARIO   \n",
       "5     MG                 PREGAO      GLOBAL  2  PRIMARIO DISCRICIONARIO   \n",
       "6     MG                 PREGAO      GLOBAL  2  PRIMARIO DISCRICIONARIO   \n",
       "7     MG  DISPENSA DE LICITACAO   ORDINARIO  2  PRIMARIO DISCRICIONARIO   \n",
       "8     MG                 PREGAO      GLOBAL  1     PRIMARIO OBRIGATORIO   \n",
       "9     MG                 PREGAO      GLOBAL  2  PRIMARIO DISCRICIONARIO   \n",
       "10    MG                 PREGAO      GLOBAL  2  PRIMARIO DISCRICIONARIO   \n",
       "11    MG                 PREGAO      GLOBAL  2  PRIMARIO DISCRICIONARIO   \n",
       "12    MG                 PREGAO      GLOBAL  2  PRIMARIO DISCRICIONARIO   \n",
       "13    MG                 PREGAO      GLOBAL  2  PRIMARIO DISCRICIONARIO   \n",
       "14    MG  DISPENSA DE LICITACAO      GLOBAL  2  PRIMARIO DISCRICIONARIO   \n",
       "15    MG        INEXIGIBILIDADE  ESTIMATIVO  2  PRIMARIO DISCRICIONARIO   \n",
       "16    MG  DISPENSA DE LICITACAO      GLOBAL  2  PRIMARIO DISCRICIONARIO   \n",
       "17    MG                 PREGAO      GLOBAL  2  PRIMARIO DISCRICIONARIO   \n",
       "18    MG                 PREGAO   ORDINARIO  2  PRIMARIO DISCRICIONARIO   \n",
       "19    MG                 PREGAO   ORDINARIO  2  PRIMARIO DISCRICIONARIO   \n",
       "\n",
       "       UO              NOME_UO  A_LIQUIDAR  LIQUIDADO_A_PAGAR  TOTAL_A_PAGAR  \\\n",
       "0   52121  COMANDO DO EXERCITO   153862.23            1233.96      155096.19   \n",
       "1   52121  COMANDO DO EXERCITO    73594.62           30358.93      103953.55   \n",
       "2   52121  COMANDO DO EXERCITO    12733.76               0.00       12733.76   \n",
       "3   52121  COMANDO DO EXERCITO    22498.10               0.00       22498.10   \n",
       "4   52121  COMANDO DO EXERCITO     4172.63             706.91        4879.54   \n",
       "5   52121  COMANDO DO EXERCITO      301.55            1706.74        2008.29   \n",
       "6   52121  COMANDO DO EXERCITO     2369.34               0.00        2369.34   \n",
       "7   52121  COMANDO DO EXERCITO      480.00               0.00         480.00   \n",
       "8   52921    FUNDO DO EXERCITO      478.06               0.00         478.06   \n",
       "9   52121  COMANDO DO EXERCITO     2264.08               0.00        2264.08   \n",
       "10  52121  COMANDO DO EXERCITO    58519.63               0.00       58519.63   \n",
       "11  52121  COMANDO DO EXERCITO    10334.10               0.00       10334.10   \n",
       "12  52121  COMANDO DO EXERCITO   128414.40            1233.96      129648.36   \n",
       "13  52121  COMANDO DO EXERCITO     4570.00               0.00        4570.00   \n",
       "14  52121  COMANDO DO EXERCITO      155.00               0.00         155.00   \n",
       "15  52121  COMANDO DO EXERCITO     2691.61            1139.39        3831.00   \n",
       "16  52121  COMANDO DO EXERCITO     2480.00               0.00        2480.00   \n",
       "17  52121  COMANDO DO EXERCITO     4024.60            7442.60       11467.20   \n",
       "18  52921    FUNDO DO EXERCITO    14016.00               0.00       14016.00   \n",
       "19  52121  COMANDO DO EXERCITO   118162.09           85332.17      203494.26   \n",
       "\n",
       "         PAGO  \n",
       "0    57143.21  \n",
       "1    51843.42  \n",
       "2        0.00  \n",
       "3        0.00  \n",
       "4     4938.21  \n",
       "5     2038.84  \n",
       "6     1789.14  \n",
       "7        0.00  \n",
       "8     2921.31  \n",
       "9     7277.68  \n",
       "10   41764.02  \n",
       "11       0.00  \n",
       "12  105845.28  \n",
       "13    6240.00  \n",
       "14       0.00  \n",
       "15   26432.86  \n",
       "16       0.00  \n",
       "17   27616.00  \n",
       "18       0.00  \n",
       "19   96505.74  "
      ]
     },
     "execution_count": 33,
     "metadata": {},
     "output_type": "execute_result"
    }
   ],
   "source": [
    "cols = ['UG', 'ACAO', 'NOME_ACAO', 'NOME_UGR', 'PI',\n",
    "       'NOME_PI', 'ND', 'NOME_ND', 'NDSI', 'NOME_NDSI', 'NE', 'ANO', 'DATA',\n",
    "       'FAV', 'NOME_CREDOR', 'UF_FAV', 'TIPO', 'DIAS', 'UF_UG',\n",
    "       'MOD_LIC', 'TIPO_NE', 'RP', 'NOME_RP', 'UO', 'NOME_UO', 'A_LIQUIDAR',\n",
    "       'LIQUIDADO_A_PAGAR', 'TOTAL_A_PAGAR', 'PAGO']\n",
    "\n",
    "df_liquidar.loc[:, cols].head(20)"
   ]
  },
  {
   "cell_type": "code",
   "execution_count": 34,
   "metadata": {},
   "outputs": [],
   "source": [
    "df_liquidar.to_excel('empenhos_2024_liquidar.xlsx')"
   ]
  },
  {
   "cell_type": "code",
   "execution_count": 35,
   "metadata": {},
   "outputs": [
    {
     "data": {
      "text/plain": [
       "7715716.93"
      ]
     },
     "execution_count": 35,
     "metadata": {},
     "output_type": "execute_result"
    }
   ],
   "source": [
    "df_teste['A_LIQUIDAR'].sum().round(2)\n"
   ]
  },
  {
   "cell_type": "markdown",
   "metadata": {},
   "source": [
    "# SIPO 2024"
   ]
  },
  {
   "cell_type": "code",
   "execution_count": 36,
   "metadata": {},
   "outputs": [],
   "source": [
    "df_sipo = df_teste[df_teste['PI'] == 'C4ENMILCAPE']"
   ]
  },
  {
   "cell_type": "code",
   "execution_count": 37,
   "metadata": {},
   "outputs": [],
   "source": [
    "df_sipo.to_excel('empenhos_sipo.xlsx')"
   ]
  },
  {
   "cell_type": "code",
   "execution_count": 39,
   "metadata": {},
   "outputs": [
    {
     "data": {
      "text/plain": [
       "Index(['UG', 'NOME_UG', 'ICFEX', 'NOME_ICFEX', 'T_COMANDO', 'T_RM', 'T_CIDADE',\n",
       "       'PROGRAMA', 'ACAO', 'NOME_ACAO', 'UGR', 'NOME_UGR', 'PTRES', 'PI',\n",
       "       'NOME_PI', 'ND', 'NOME_ND', 'NDSI', 'NOME_NDSI', 'NE', 'ANO', 'DATA',\n",
       "       'CHAVE', 'FAV', 'NOME_CREDOR', 'UF_FAV', 'TIPO', 'DIAS', 'UF_UG',\n",
       "       'FONTE', 'MOD_LIC', 'TIPO_NE', 'RP', 'NOME_RP', 'TIPO_CREDITO',\n",
       "       'NOME_TIPO_CREDITO', 'PO', 'AUTOR_EMENDA', 'NOME_AUTOR_EMENDA', 'LOCAL',\n",
       "       'UO', 'NOME_UO', 'RADPI4', 'MEIPI3', 'SUFPI4', 'A_LIQUIDAR',\n",
       "       'LIQUIDADO_A_PAGAR', 'TOTAL_A_PAGAR', 'PAGO'],\n",
       "      dtype='object')"
      ]
     },
     "execution_count": 39,
     "metadata": {},
     "output_type": "execute_result"
    }
   ],
   "source": [
    "df_teste.columns"
   ]
  },
  {
   "cell_type": "code",
   "execution_count": 40,
   "metadata": {},
   "outputs": [
    {
     "data": {
      "text/html": [
       "<div>\n",
       "<style scoped>\n",
       "    .dataframe tbody tr th:only-of-type {\n",
       "        vertical-align: middle;\n",
       "    }\n",
       "\n",
       "    .dataframe tbody tr th {\n",
       "        vertical-align: top;\n",
       "    }\n",
       "\n",
       "    .dataframe thead th {\n",
       "        text-align: right;\n",
       "    }\n",
       "</style>\n",
       "<table border=\"1\" class=\"dataframe\">\n",
       "  <thead>\n",
       "    <tr style=\"text-align: right;\">\n",
       "      <th></th>\n",
       "      <th>UG</th>\n",
       "      <th>NOME_UG</th>\n",
       "      <th>ICFEX</th>\n",
       "      <th>NOME_ICFEX</th>\n",
       "      <th>T_COMANDO</th>\n",
       "      <th>T_RM</th>\n",
       "      <th>T_CIDADE</th>\n",
       "      <th>PROGRAMA</th>\n",
       "      <th>ACAO</th>\n",
       "      <th>NOME_ACAO</th>\n",
       "      <th>UGR</th>\n",
       "      <th>NOME_UGR</th>\n",
       "      <th>PTRES</th>\n",
       "      <th>PI</th>\n",
       "      <th>NOME_PI</th>\n",
       "      <th>ND</th>\n",
       "      <th>NOME_ND</th>\n",
       "      <th>NDSI</th>\n",
       "      <th>NOME_NDSI</th>\n",
       "      <th>NE</th>\n",
       "      <th>ANO</th>\n",
       "      <th>DATA</th>\n",
       "      <th>CHAVE</th>\n",
       "      <th>FAV</th>\n",
       "      <th>NOME_CREDOR</th>\n",
       "      <th>UF_FAV</th>\n",
       "      <th>TIPO</th>\n",
       "      <th>DIAS</th>\n",
       "      <th>UF_UG</th>\n",
       "      <th>FONTE</th>\n",
       "      <th>MOD_LIC</th>\n",
       "      <th>TIPO_NE</th>\n",
       "      <th>RP</th>\n",
       "      <th>NOME_RP</th>\n",
       "      <th>TIPO_CREDITO</th>\n",
       "      <th>NOME_TIPO_CREDITO</th>\n",
       "      <th>PO</th>\n",
       "      <th>AUTOR_EMENDA</th>\n",
       "      <th>NOME_AUTOR_EMENDA</th>\n",
       "      <th>LOCAL</th>\n",
       "      <th>UO</th>\n",
       "      <th>NOME_UO</th>\n",
       "      <th>RADPI4</th>\n",
       "      <th>MEIPI3</th>\n",
       "      <th>SUFPI4</th>\n",
       "      <th>A_LIQUIDAR</th>\n",
       "      <th>LIQUIDADO_A_PAGAR</th>\n",
       "      <th>TOTAL_A_PAGAR</th>\n",
       "      <th>PAGO</th>\n",
       "    </tr>\n",
       "  </thead>\n",
       "  <tbody>\n",
       "    <tr>\n",
       "      <th>0</th>\n",
       "      <td>160129</td>\n",
       "      <td>ESA</td>\n",
       "      <td>160533</td>\n",
       "      <td>4º CGCFEX</td>\n",
       "      <td>CML</td>\n",
       "      <td>4ª RM</td>\n",
       "      <td>Três Corações</td>\n",
       "      <td>0032</td>\n",
       "      <td>2000</td>\n",
       "      <td>ADMINISTRACAO DA UNIDADE</td>\n",
       "      <td>160073</td>\n",
       "      <td>DGO</td>\n",
       "      <td>171460</td>\n",
       "      <td>I3DACNTLICO</td>\n",
       "      <td>LIMPEZA DE BENS IMÓVEIS</td>\n",
       "      <td>339037</td>\n",
       "      <td>LOCACAO DE MAO-DE-OBRA</td>\n",
       "      <td>33903702</td>\n",
       "      <td>LIMPEZA E CONSERVACAO</td>\n",
       "      <td>2023NE000661</td>\n",
       "      <td>2023</td>\n",
       "      <td>2023-06-14</td>\n",
       "      <td>160129000012023NE000661</td>\n",
       "      <td>20584944000160</td>\n",
       "      <td>TBL SERVICOS LTDA</td>\n",
       "      <td>MG</td>\n",
       "      <td>RPNP</td>\n",
       "      <td>362</td>\n",
       "      <td>MG</td>\n",
       "      <td>1000000000</td>\n",
       "      <td>PREGAO</td>\n",
       "      <td>GLOBAL</td>\n",
       "      <td>2</td>\n",
       "      <td>PRIMARIO DISCRICIONARIO</td>\n",
       "      <td>A</td>\n",
       "      <td>INICIAL (LOA)</td>\n",
       "      <td>0004</td>\n",
       "      <td>000000000000</td>\n",
       "      <td>SEM EMENDA</td>\n",
       "      <td>ESCOLA DE SARGENTOS DAS ARMAS  - AVENIDA SETE ...</td>\n",
       "      <td>52121</td>\n",
       "      <td>COMANDO DO EXERCITO</td>\n",
       "      <td>I3DA</td>\n",
       "      <td>CNT</td>\n",
       "      <td>LICO</td>\n",
       "      <td>0.00</td>\n",
       "      <td>0.00</td>\n",
       "      <td>0.00</td>\n",
       "      <td>72837.98</td>\n",
       "    </tr>\n",
       "    <tr>\n",
       "      <th>1</th>\n",
       "      <td>160129</td>\n",
       "      <td>ESA</td>\n",
       "      <td>160533</td>\n",
       "      <td>4º CGCFEX</td>\n",
       "      <td>CML</td>\n",
       "      <td>4ª RM</td>\n",
       "      <td>Três Corações</td>\n",
       "      <td>0032</td>\n",
       "      <td>2000</td>\n",
       "      <td>ADMINISTRACAO DA UNIDADE</td>\n",
       "      <td>160073</td>\n",
       "      <td>DGO</td>\n",
       "      <td>171460</td>\n",
       "      <td>I3DACNTLICO</td>\n",
       "      <td>LIMPEZA DE BENS IMÓVEIS</td>\n",
       "      <td>339037</td>\n",
       "      <td>LOCACAO DE MAO-DE-OBRA</td>\n",
       "      <td>33903702</td>\n",
       "      <td>LIMPEZA E CONSERVACAO</td>\n",
       "      <td>2023NE000849</td>\n",
       "      <td>2023</td>\n",
       "      <td>2023-07-05</td>\n",
       "      <td>160129000012023NE000849</td>\n",
       "      <td>20584944000160</td>\n",
       "      <td>TBL SERVICOS LTDA</td>\n",
       "      <td>MG</td>\n",
       "      <td>RPNP</td>\n",
       "      <td>341</td>\n",
       "      <td>MG</td>\n",
       "      <td>1000000000</td>\n",
       "      <td>PREGAO</td>\n",
       "      <td>GLOBAL</td>\n",
       "      <td>2</td>\n",
       "      <td>PRIMARIO DISCRICIONARIO</td>\n",
       "      <td>A</td>\n",
       "      <td>INICIAL (LOA)</td>\n",
       "      <td>0004</td>\n",
       "      <td>000000000000</td>\n",
       "      <td>SEM EMENDA</td>\n",
       "      <td>ESCOLA DE SARGENTOS DAS ARMAS  - AVENIDA SETE ...</td>\n",
       "      <td>52121</td>\n",
       "      <td>COMANDO DO EXERCITO</td>\n",
       "      <td>I3DA</td>\n",
       "      <td>CNT</td>\n",
       "      <td>LICO</td>\n",
       "      <td>0.00</td>\n",
       "      <td>0.00</td>\n",
       "      <td>0.00</td>\n",
       "      <td>36418.99</td>\n",
       "    </tr>\n",
       "    <tr>\n",
       "      <th>2</th>\n",
       "      <td>160129</td>\n",
       "      <td>ESA</td>\n",
       "      <td>160533</td>\n",
       "      <td>4º CGCFEX</td>\n",
       "      <td>CML</td>\n",
       "      <td>4ª RM</td>\n",
       "      <td>Três Corações</td>\n",
       "      <td>0032</td>\n",
       "      <td>2000</td>\n",
       "      <td>ADMINISTRACAO DA UNIDADE</td>\n",
       "      <td>160073</td>\n",
       "      <td>DGO</td>\n",
       "      <td>171460</td>\n",
       "      <td>I3DACNTLICO</td>\n",
       "      <td>LIMPEZA DE BENS IMÓVEIS</td>\n",
       "      <td>339037</td>\n",
       "      <td>LOCACAO DE MAO-DE-OBRA</td>\n",
       "      <td>33903702</td>\n",
       "      <td>LIMPEZA E CONSERVACAO</td>\n",
       "      <td>2023NE000994</td>\n",
       "      <td>2023</td>\n",
       "      <td>2023-08-15</td>\n",
       "      <td>160129000012023NE000994</td>\n",
       "      <td>20584944000160</td>\n",
       "      <td>TBL SERVICOS LTDA</td>\n",
       "      <td>MG</td>\n",
       "      <td>RPNP</td>\n",
       "      <td>300</td>\n",
       "      <td>MG</td>\n",
       "      <td>1000000000</td>\n",
       "      <td>PREGAO</td>\n",
       "      <td>GLOBAL</td>\n",
       "      <td>2</td>\n",
       "      <td>PRIMARIO DISCRICIONARIO</td>\n",
       "      <td>A</td>\n",
       "      <td>INICIAL (LOA)</td>\n",
       "      <td>0004</td>\n",
       "      <td>000000000000</td>\n",
       "      <td>SEM EMENDA</td>\n",
       "      <td>ESCOLA DE SARGENTOS DAS ARMAS  - AVENIDA SETE ...</td>\n",
       "      <td>52121</td>\n",
       "      <td>COMANDO DO EXERCITO</td>\n",
       "      <td>I3DA</td>\n",
       "      <td>CNT</td>\n",
       "      <td>LICO</td>\n",
       "      <td>0.00</td>\n",
       "      <td>0.00</td>\n",
       "      <td>0.00</td>\n",
       "      <td>36418.99</td>\n",
       "    </tr>\n",
       "    <tr>\n",
       "      <th>3</th>\n",
       "      <td>160129</td>\n",
       "      <td>ESA</td>\n",
       "      <td>160533</td>\n",
       "      <td>4º CGCFEX</td>\n",
       "      <td>CML</td>\n",
       "      <td>4ª RM</td>\n",
       "      <td>Três Corações</td>\n",
       "      <td>0032</td>\n",
       "      <td>2000</td>\n",
       "      <td>ADMINISTRACAO DA UNIDADE</td>\n",
       "      <td>160073</td>\n",
       "      <td>DGO</td>\n",
       "      <td>171460</td>\n",
       "      <td>I3DACNTLICO</td>\n",
       "      <td>LIMPEZA DE BENS IMÓVEIS</td>\n",
       "      <td>339037</td>\n",
       "      <td>LOCACAO DE MAO-DE-OBRA</td>\n",
       "      <td>33903702</td>\n",
       "      <td>LIMPEZA E CONSERVACAO</td>\n",
       "      <td>2024NE000004</td>\n",
       "      <td>2024</td>\n",
       "      <td>2024-01-10</td>\n",
       "      <td>160129000012024NE000004</td>\n",
       "      <td>39750831000116</td>\n",
       "      <td>ECOLIMP SERVICOS GERAIS LTDA</td>\n",
       "      <td>RJ</td>\n",
       "      <td>ANO</td>\n",
       "      <td>152</td>\n",
       "      <td>MG</td>\n",
       "      <td>1000000000</td>\n",
       "      <td>PREGAO</td>\n",
       "      <td>GLOBAL</td>\n",
       "      <td>2</td>\n",
       "      <td>PRIMARIO DISCRICIONARIO</td>\n",
       "      <td>A</td>\n",
       "      <td>INICIAL (LOA)</td>\n",
       "      <td>0004</td>\n",
       "      <td>000000000000</td>\n",
       "      <td>SEM EMENDA</td>\n",
       "      <td>ESCOLA DE SARGENTOS DAS ARMAS</td>\n",
       "      <td>52121</td>\n",
       "      <td>COMANDO DO EXERCITO</td>\n",
       "      <td>I3DA</td>\n",
       "      <td>CNT</td>\n",
       "      <td>LICO</td>\n",
       "      <td>26279.57</td>\n",
       "      <td>2656.54</td>\n",
       "      <td>28936.11</td>\n",
       "      <td>74717.49</td>\n",
       "    </tr>\n",
       "    <tr>\n",
       "      <th>4</th>\n",
       "      <td>160129</td>\n",
       "      <td>ESA</td>\n",
       "      <td>160533</td>\n",
       "      <td>4º CGCFEX</td>\n",
       "      <td>CML</td>\n",
       "      <td>4ª RM</td>\n",
       "      <td>Três Corações</td>\n",
       "      <td>0032</td>\n",
       "      <td>2000</td>\n",
       "      <td>ADMINISTRACAO DA UNIDADE</td>\n",
       "      <td>160073</td>\n",
       "      <td>DGO</td>\n",
       "      <td>171460</td>\n",
       "      <td>I3DACNTLICO</td>\n",
       "      <td>LIMPEZA DE BENS IMÓVEIS</td>\n",
       "      <td>339037</td>\n",
       "      <td>LOCACAO DE MAO-DE-OBRA</td>\n",
       "      <td>33903702</td>\n",
       "      <td>LIMPEZA E CONSERVACAO</td>\n",
       "      <td>2024NE000071</td>\n",
       "      <td>2024</td>\n",
       "      <td>2024-02-14</td>\n",
       "      <td>160129000012024NE000071</td>\n",
       "      <td>39750831000116</td>\n",
       "      <td>ECOLIMP SERVICOS GERAIS LTDA</td>\n",
       "      <td>RJ</td>\n",
       "      <td>ANO</td>\n",
       "      <td>117</td>\n",
       "      <td>MG</td>\n",
       "      <td>1000000000</td>\n",
       "      <td>PREGAO</td>\n",
       "      <td>GLOBAL</td>\n",
       "      <td>2</td>\n",
       "      <td>PRIMARIO DISCRICIONARIO</td>\n",
       "      <td>A</td>\n",
       "      <td>INICIAL (LOA)</td>\n",
       "      <td>0004</td>\n",
       "      <td>000000000000</td>\n",
       "      <td>SEM EMENDA</td>\n",
       "      <td>ESCOLA DE SARGENTOS DAS ARMAS - AV. SETE DE SE...</td>\n",
       "      <td>52121</td>\n",
       "      <td>COMANDO DO EXERCITO</td>\n",
       "      <td>I3DA</td>\n",
       "      <td>CNT</td>\n",
       "      <td>LICO</td>\n",
       "      <td>212910.57</td>\n",
       "      <td>0.00</td>\n",
       "      <td>212910.57</td>\n",
       "      <td>0.00</td>\n",
       "    </tr>\n",
       "  </tbody>\n",
       "</table>\n",
       "</div>"
      ],
      "text/plain": [
       "       UG NOME_UG   ICFEX NOME_ICFEX T_COMANDO   T_RM       T_CIDADE PROGRAMA  \\\n",
       "0  160129     ESA  160533  4º CGCFEX       CML  4ª RM  Três Corações     0032   \n",
       "1  160129     ESA  160533  4º CGCFEX       CML  4ª RM  Três Corações     0032   \n",
       "2  160129     ESA  160533  4º CGCFEX       CML  4ª RM  Três Corações     0032   \n",
       "3  160129     ESA  160533  4º CGCFEX       CML  4ª RM  Três Corações     0032   \n",
       "4  160129     ESA  160533  4º CGCFEX       CML  4ª RM  Três Corações     0032   \n",
       "\n",
       "   ACAO                 NOME_ACAO     UGR NOME_UGR   PTRES           PI  \\\n",
       "0  2000  ADMINISTRACAO DA UNIDADE  160073      DGO  171460  I3DACNTLICO   \n",
       "1  2000  ADMINISTRACAO DA UNIDADE  160073      DGO  171460  I3DACNTLICO   \n",
       "2  2000  ADMINISTRACAO DA UNIDADE  160073      DGO  171460  I3DACNTLICO   \n",
       "3  2000  ADMINISTRACAO DA UNIDADE  160073      DGO  171460  I3DACNTLICO   \n",
       "4  2000  ADMINISTRACAO DA UNIDADE  160073      DGO  171460  I3DACNTLICO   \n",
       "\n",
       "                   NOME_PI      ND                 NOME_ND      NDSI  \\\n",
       "0  LIMPEZA DE BENS IMÓVEIS  339037  LOCACAO DE MAO-DE-OBRA  33903702   \n",
       "1  LIMPEZA DE BENS IMÓVEIS  339037  LOCACAO DE MAO-DE-OBRA  33903702   \n",
       "2  LIMPEZA DE BENS IMÓVEIS  339037  LOCACAO DE MAO-DE-OBRA  33903702   \n",
       "3  LIMPEZA DE BENS IMÓVEIS  339037  LOCACAO DE MAO-DE-OBRA  33903702   \n",
       "4  LIMPEZA DE BENS IMÓVEIS  339037  LOCACAO DE MAO-DE-OBRA  33903702   \n",
       "\n",
       "               NOME_NDSI            NE   ANO       DATA  \\\n",
       "0  LIMPEZA E CONSERVACAO  2023NE000661  2023 2023-06-14   \n",
       "1  LIMPEZA E CONSERVACAO  2023NE000849  2023 2023-07-05   \n",
       "2  LIMPEZA E CONSERVACAO  2023NE000994  2023 2023-08-15   \n",
       "3  LIMPEZA E CONSERVACAO  2024NE000004  2024 2024-01-10   \n",
       "4  LIMPEZA E CONSERVACAO  2024NE000071  2024 2024-02-14   \n",
       "\n",
       "                     CHAVE             FAV                   NOME_CREDOR  \\\n",
       "0  160129000012023NE000661  20584944000160             TBL SERVICOS LTDA   \n",
       "1  160129000012023NE000849  20584944000160             TBL SERVICOS LTDA   \n",
       "2  160129000012023NE000994  20584944000160             TBL SERVICOS LTDA   \n",
       "3  160129000012024NE000004  39750831000116  ECOLIMP SERVICOS GERAIS LTDA   \n",
       "4  160129000012024NE000071  39750831000116  ECOLIMP SERVICOS GERAIS LTDA   \n",
       "\n",
       "  UF_FAV  TIPO  DIAS UF_UG       FONTE MOD_LIC TIPO_NE RP  \\\n",
       "0     MG  RPNP   362    MG  1000000000  PREGAO  GLOBAL  2   \n",
       "1     MG  RPNP   341    MG  1000000000  PREGAO  GLOBAL  2   \n",
       "2     MG  RPNP   300    MG  1000000000  PREGAO  GLOBAL  2   \n",
       "3     RJ   ANO   152    MG  1000000000  PREGAO  GLOBAL  2   \n",
       "4     RJ   ANO   117    MG  1000000000  PREGAO  GLOBAL  2   \n",
       "\n",
       "                   NOME_RP TIPO_CREDITO NOME_TIPO_CREDITO    PO  AUTOR_EMENDA  \\\n",
       "0  PRIMARIO DISCRICIONARIO            A     INICIAL (LOA)  0004  000000000000   \n",
       "1  PRIMARIO DISCRICIONARIO            A     INICIAL (LOA)  0004  000000000000   \n",
       "2  PRIMARIO DISCRICIONARIO            A     INICIAL (LOA)  0004  000000000000   \n",
       "3  PRIMARIO DISCRICIONARIO            A     INICIAL (LOA)  0004  000000000000   \n",
       "4  PRIMARIO DISCRICIONARIO            A     INICIAL (LOA)  0004  000000000000   \n",
       "\n",
       "  NOME_AUTOR_EMENDA                                              LOCAL     UO  \\\n",
       "0        SEM EMENDA  ESCOLA DE SARGENTOS DAS ARMAS  - AVENIDA SETE ...  52121   \n",
       "1        SEM EMENDA  ESCOLA DE SARGENTOS DAS ARMAS  - AVENIDA SETE ...  52121   \n",
       "2        SEM EMENDA  ESCOLA DE SARGENTOS DAS ARMAS  - AVENIDA SETE ...  52121   \n",
       "3        SEM EMENDA                      ESCOLA DE SARGENTOS DAS ARMAS  52121   \n",
       "4        SEM EMENDA  ESCOLA DE SARGENTOS DAS ARMAS - AV. SETE DE SE...  52121   \n",
       "\n",
       "               NOME_UO RADPI4 MEIPI3 SUFPI4  A_LIQUIDAR  LIQUIDADO_A_PAGAR  \\\n",
       "0  COMANDO DO EXERCITO   I3DA    CNT   LICO        0.00               0.00   \n",
       "1  COMANDO DO EXERCITO   I3DA    CNT   LICO        0.00               0.00   \n",
       "2  COMANDO DO EXERCITO   I3DA    CNT   LICO        0.00               0.00   \n",
       "3  COMANDO DO EXERCITO   I3DA    CNT   LICO    26279.57            2656.54   \n",
       "4  COMANDO DO EXERCITO   I3DA    CNT   LICO   212910.57               0.00   \n",
       "\n",
       "   TOTAL_A_PAGAR      PAGO  \n",
       "0           0.00  72837.98  \n",
       "1           0.00  36418.99  \n",
       "2           0.00  36418.99  \n",
       "3       28936.11  74717.49  \n",
       "4      212910.57      0.00  "
      ]
     },
     "execution_count": 40,
     "metadata": {},
     "output_type": "execute_result"
    }
   ],
   "source": [
    "df_teste.head()"
   ]
  },
  {
   "cell_type": "code",
   "execution_count": 42,
   "metadata": {},
   "outputs": [
    {
     "data": {
      "text/html": [
       "<div>\n",
       "<style scoped>\n",
       "    .dataframe tbody tr th:only-of-type {\n",
       "        vertical-align: middle;\n",
       "    }\n",
       "\n",
       "    .dataframe tbody tr th {\n",
       "        vertical-align: top;\n",
       "    }\n",
       "\n",
       "    .dataframe thead th {\n",
       "        text-align: right;\n",
       "    }\n",
       "</style>\n",
       "<table border=\"1\" class=\"dataframe\">\n",
       "  <thead>\n",
       "    <tr style=\"text-align: right;\">\n",
       "      <th></th>\n",
       "      <th>UG</th>\n",
       "      <th>NOME_UG</th>\n",
       "      <th>ICFEX</th>\n",
       "      <th>NOME_ICFEX</th>\n",
       "      <th>T_COMANDO</th>\n",
       "      <th>T_RM</th>\n",
       "      <th>T_CIDADE</th>\n",
       "      <th>PROGRAMA</th>\n",
       "      <th>ACAO</th>\n",
       "      <th>NOME_ACAO</th>\n",
       "      <th>UGR</th>\n",
       "      <th>NOME_UGR</th>\n",
       "      <th>PTRES</th>\n",
       "      <th>PI</th>\n",
       "      <th>NOME_PI</th>\n",
       "      <th>ND</th>\n",
       "      <th>NOME_ND</th>\n",
       "      <th>NDSI</th>\n",
       "      <th>NOME_NDSI</th>\n",
       "      <th>NE</th>\n",
       "      <th>ANO</th>\n",
       "      <th>DATA</th>\n",
       "      <th>CHAVE</th>\n",
       "      <th>FAV</th>\n",
       "      <th>NOME_CREDOR</th>\n",
       "      <th>UF_FAV</th>\n",
       "      <th>TIPO</th>\n",
       "      <th>DIAS</th>\n",
       "      <th>UF_UG</th>\n",
       "      <th>FONTE</th>\n",
       "      <th>MOD_LIC</th>\n",
       "      <th>TIPO_NE</th>\n",
       "      <th>RP</th>\n",
       "      <th>NOME_RP</th>\n",
       "      <th>TIPO_CREDITO</th>\n",
       "      <th>NOME_TIPO_CREDITO</th>\n",
       "      <th>PO</th>\n",
       "      <th>AUTOR_EMENDA</th>\n",
       "      <th>NOME_AUTOR_EMENDA</th>\n",
       "      <th>LOCAL</th>\n",
       "      <th>UO</th>\n",
       "      <th>NOME_UO</th>\n",
       "      <th>RADPI4</th>\n",
       "      <th>MEIPI3</th>\n",
       "      <th>SUFPI4</th>\n",
       "      <th>A_LIQUIDAR</th>\n",
       "      <th>LIQUIDADO_A_PAGAR</th>\n",
       "      <th>TOTAL_A_PAGAR</th>\n",
       "      <th>PAGO</th>\n",
       "    </tr>\n",
       "  </thead>\n",
       "  <tbody>\n",
       "    <tr>\n",
       "      <th>333</th>\n",
       "      <td>160129</td>\n",
       "      <td>ESA</td>\n",
       "      <td>160533</td>\n",
       "      <td>4º CGCFEX</td>\n",
       "      <td>CML</td>\n",
       "      <td>4ª RM</td>\n",
       "      <td>Três Corações</td>\n",
       "      <td>6012</td>\n",
       "      <td>8965</td>\n",
       "      <td>CAPACITACAO PROFISSIONAL MILITAR DO E</td>\n",
       "      <td>160503</td>\n",
       "      <td>DECEX/GESTOR</td>\n",
       "      <td>171423</td>\n",
       "      <td>C4ENMILCAPE</td>\n",
       "      <td>CAPACITACAO DE PESSOAL</td>\n",
       "      <td>339030</td>\n",
       "      <td>MATERIAL DE CONSUMO</td>\n",
       "      <td>33903022</td>\n",
       "      <td>MATERIAL DE LIMPEZA E PROD. DE HIGIENIZACAO</td>\n",
       "      <td>2023NE002715</td>\n",
       "      <td>2023</td>\n",
       "      <td>2023-12-19</td>\n",
       "      <td>160129000012023NE002715</td>\n",
       "      <td>49577909000104</td>\n",
       "      <td>COMERCIAL RB - COMERCIO VAREJISTA E ATACADISTA...</td>\n",
       "      <td>SP</td>\n",
       "      <td>RPNP</td>\n",
       "      <td>174</td>\n",
       "      <td>MG</td>\n",
       "      <td>1000000000</td>\n",
       "      <td>PREGAO</td>\n",
       "      <td>ORDINARIO</td>\n",
       "      <td>2</td>\n",
       "      <td>PRIMARIO DISCRICIONARIO</td>\n",
       "      <td>A</td>\n",
       "      <td>INICIAL (LOA)</td>\n",
       "      <td>0000</td>\n",
       "      <td>000000000000</td>\n",
       "      <td>SEM EMENDA</td>\n",
       "      <td>ESCOLA DE SARGENTOS DAS ARMAS</td>\n",
       "      <td>52121</td>\n",
       "      <td>COMANDO DO EXERCITO</td>\n",
       "      <td>C4EN</td>\n",
       "      <td>MIL</td>\n",
       "      <td>CAPE</td>\n",
       "      <td>1340.6</td>\n",
       "      <td>0.0</td>\n",
       "      <td>1340.6</td>\n",
       "      <td>0.0</td>\n",
       "    </tr>\n",
       "  </tbody>\n",
       "</table>\n",
       "</div>"
      ],
      "text/plain": [
       "         UG NOME_UG   ICFEX NOME_ICFEX T_COMANDO   T_RM       T_CIDADE  \\\n",
       "333  160129     ESA  160533  4º CGCFEX       CML  4ª RM  Três Corações   \n",
       "\n",
       "    PROGRAMA  ACAO                              NOME_ACAO     UGR  \\\n",
       "333     6012  8965  CAPACITACAO PROFISSIONAL MILITAR DO E  160503   \n",
       "\n",
       "         NOME_UGR   PTRES           PI                 NOME_PI      ND  \\\n",
       "333  DECEX/GESTOR  171423  C4ENMILCAPE  CAPACITACAO DE PESSOAL  339030   \n",
       "\n",
       "                 NOME_ND      NDSI  \\\n",
       "333  MATERIAL DE CONSUMO  33903022   \n",
       "\n",
       "                                       NOME_NDSI            NE   ANO  \\\n",
       "333  MATERIAL DE LIMPEZA E PROD. DE HIGIENIZACAO  2023NE002715  2023   \n",
       "\n",
       "          DATA                    CHAVE             FAV  \\\n",
       "333 2023-12-19  160129000012023NE002715  49577909000104   \n",
       "\n",
       "                                           NOME_CREDOR UF_FAV  TIPO  DIAS  \\\n",
       "333  COMERCIAL RB - COMERCIO VAREJISTA E ATACADISTA...     SP  RPNP   174   \n",
       "\n",
       "    UF_UG       FONTE MOD_LIC    TIPO_NE RP                  NOME_RP  \\\n",
       "333    MG  1000000000  PREGAO  ORDINARIO  2  PRIMARIO DISCRICIONARIO   \n",
       "\n",
       "    TIPO_CREDITO NOME_TIPO_CREDITO    PO  AUTOR_EMENDA NOME_AUTOR_EMENDA  \\\n",
       "333            A     INICIAL (LOA)  0000  000000000000        SEM EMENDA   \n",
       "\n",
       "                             LOCAL     UO              NOME_UO RADPI4 MEIPI3  \\\n",
       "333  ESCOLA DE SARGENTOS DAS ARMAS  52121  COMANDO DO EXERCITO   C4EN    MIL   \n",
       "\n",
       "    SUFPI4  A_LIQUIDAR  LIQUIDADO_A_PAGAR  TOTAL_A_PAGAR  PAGO  \n",
       "333   CAPE      1340.6                0.0         1340.6   0.0  "
      ]
     },
     "execution_count": 42,
     "metadata": {},
     "output_type": "execute_result"
    }
   ],
   "source": [
    "df_teste[df_teste['NE'] == '2023NE002715']"
   ]
  }
 ],
 "metadata": {
  "kernelspec": {
   "display_name": "base",
   "language": "python",
   "name": "python3"
  },
  "language_info": {
   "codemirror_mode": {
    "name": "ipython",
    "version": 3
   },
   "file_extension": ".py",
   "mimetype": "text/x-python",
   "name": "python",
   "nbconvert_exporter": "python",
   "pygments_lexer": "ipython3",
   "version": "3.11.5"
  },
  "orig_nbformat": 4
 },
 "nbformat": 4,
 "nbformat_minor": 2
}
