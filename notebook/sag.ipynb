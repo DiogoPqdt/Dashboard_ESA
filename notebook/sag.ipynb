{
 "cells": [
  {
   "cell_type": "markdown",
   "metadata": {},
   "source": [
    "# Criar VENV\n",
    "\n",
    "https://oandersonbm.medium.com/usando-python-no-vs-code-com-ambiente-virtual-venv-ecef7959b652"
   ]
  },
  {
   "cell_type": "code",
   "execution_count": 1,
   "metadata": {},
   "outputs": [],
   "source": [
    "import pandas as pd\n",
    "import plotly.express as px\n",
    "import plotly.graph_objects as go\n",
    "from datetime import datetime\n",
    "import locale\n",
    "\n",
    "# Definindo a configuração local para o Brasil (pt_BR)\n",
    "locale.setlocale(locale.LC_ALL, 'pt_BR')\n",
    "\n",
    "# Personalizando para ver todas as colunas do DataFrame\n",
    "pd.set_option('display.max_columns', None)"
   ]
  },
  {
   "cell_type": "markdown",
   "metadata": {},
   "source": [
    "# Base de dados"
   ]
  },
  {
   "cell_type": "code",
   "execution_count": 2,
   "metadata": {},
   "outputs": [],
   "source": [
    "# Realizando a junção dos 3 arquivos .CSV num único DataFrame\n",
    "\n",
    "# Caminhos para os arquivos .CSV\n",
    "caminho_1 = r\"C:\\Users\\User\\OneDrive\\Trabalho\\ESA 2023\\Dashboard_ESA\\base_dados\\Cel Manfrini.csv\"\n",
    "\n",
    "caminho_2 = r\"C:\\Users\\User\\OneDrive\\Trabalho\\ESA 2023\\Dashboard_ESA\\base_dados\\Cel Manfrini(1).csv\"\n",
    "\n",
    "caminho_3 = r\"C:\\Users\\User\\OneDrive\\Trabalho\\ESA 2023\\Dashboard_ESA\\base_dados\\Cel Manfrini(2).csv\"\n",
    "\n",
    "caminho_4 = r\"C:\\Users\\User\\OneDrive\\Trabalho\\ESA 2023\\Dashboard_ESA\\base_dados\\Cel Manfrini(3).csv\"\n",
    "\n",
    "\n",
    "# Leitura dos arquivos .CSV em DataFrames individuais\n",
    "df1 = pd.read_csv(caminho_1)\n",
    "df2 = pd.read_csv(caminho_2)\n",
    "df3 = pd.read_csv(caminho_3)\n",
    "df4 = pd.read_csv(caminho_4)\n",
    "\n",
    "# Concatenação dos DataFrames em um único DataFrame\n",
    "df = pd.concat([df1, df2, df3, df4], ignore_index=True)\n",
    "\n",
    "# Excluindo linhas que contenham a string \"Tela\" em qualquer coluna\n",
    "df = df[~df.apply(lambda row: row.astype(str).str.contains('Tela')).any(axis=1)]\n",
    "\n",
    "# Transformando o tipo de dado das colunas de valores monetários\n",
    "df['A_LIQUIDAR'] = df['A_LIQUIDAR'].apply(lambda x: float(x.replace('.', '').replace(',', '.')))\n",
    "df['LIQUIDADO_A_PAGAR'] = df['LIQUIDADO_A_PAGAR'].apply(lambda x: float(x.replace('.', '').replace(',', '.')))\n",
    "df['TOTAL_A_PAGAR'] = df['TOTAL_A_PAGAR'].apply(lambda x: float(x.replace('.', '').replace(',', '.')))\n",
    "df['PAGO'] = df['PAGO'].apply(lambda x: float(x.replace('.', '').replace(',', '.')))\n",
    "\n",
    "# Convertendo a coluna DATA para datetime\n",
    "df['DATA'] = pd.to_datetime(df['DATA'], format='%d/%m/%y')\n",
    "\n",
    "# Convertendo a coluna DIAS em número inteiro\n",
    "df['DIAS'] = df['DIAS'].astype(int)\n",
    "\n"
   ]
  },
  {
   "cell_type": "markdown",
   "metadata": {},
   "source": [
    "# Trabalhando com um DATAFRAME voltado para controle dos SALDOS"
   ]
  },
  {
   "cell_type": "code",
   "execution_count": 3,
   "metadata": {},
   "outputs": [],
   "source": [
    "df_saldos = df[['SIGLA UG', 'ANO', 'NOME_CREDOR', 'DATA', 'DIAS', 'ND','NDSI', 'NOME_NDSI', 'NE', 'PI', 'NOME_PI','TIPO', 'NOME_UGR', 'A_LIQUIDAR', 'LIQUIDADO_A_PAGAR', 'TOTAL_A_PAGAR', 'PAGO']]"
   ]
  },
  {
   "cell_type": "code",
   "execution_count": 4,
   "metadata": {},
   "outputs": [
    {
     "name": "stdout",
     "output_type": "stream",
     "text": [
      "O total pago pela ESA até o momento foi: R$ 26.447.002,72\n",
      "O total de saldo a liquidar pela ESA até o momento foi: R$ 6.228.111,09\n",
      "O total de saldo liquidado a pagar pela ESA até o momento foi: R$ 393.153,53\n",
      "O total de saldo a pagar pela ESA até o momento foi: R$ 6.621.264,62\n"
     ]
    }
   ],
   "source": [
    "# Saldos Totais\n",
    "total_pago = df['PAGO'].sum().round(2)\n",
    "total_a_liquidar = df['A_LIQUIDAR'].sum().round(2)\n",
    "total_liquidado_a_pagar = df['LIQUIDADO_A_PAGAR'].sum().round(2)\n",
    "total_a_pagar = df['TOTAL_A_PAGAR'].sum().round(2)\n",
    "\n",
    "\n",
    "print(f'O total pago pela ESA até o momento foi: {locale.currency(total_pago, grouping=True)}')\n",
    "print(f'O total de saldo a liquidar pela ESA até o momento foi: {locale.currency(total_a_liquidar, grouping=True)}')\n",
    "print(f'O total de saldo liquidado a pagar pela ESA até o momento foi: {locale.currency(total_liquidado_a_pagar, grouping=True)}')\n",
    "print(f'O total de saldo a pagar pela ESA até o momento foi: {locale.currency(total_a_pagar, grouping=True)}')"
   ]
  },
  {
   "cell_type": "code",
   "execution_count": 5,
   "metadata": {},
   "outputs": [
    {
     "data": {
      "application/vnd.plotly.v1+json": {
       "config": {
        "plotlyServerURL": "https://plot.ly"
       },
       "data": [
        {
         "alignmentgroup": "True",
         "cliponaxis": false,
         "legendgroup": "",
         "marker": {
          "color": [
           3249929.37,
           829501.15,
           649233.42,
           393733.92,
           294635.07,
           289611.95,
           278202.02,
           218513.94,
           12124.97,
           8746.5,
           2377.96,
           1500.82
          ],
          "coloraxis": "coloraxis",
          "pattern": {
           "shape": ""
          }
         },
         "name": "",
         "offsetgroup": "",
         "orientation": "v",
         "showlegend": false,
         "textposition": "outside",
         "texttemplate": "%{y:.3s}",
         "type": "bar",
         "x": [
          "339039",
          "339030",
          "339033",
          "449052",
          "339093",
          "339015",
          "339040",
          "339037",
          "339036",
          "339032",
          "339147",
          "339047"
         ],
         "xaxis": "x",
         "y": [
          3249929.37,
          829501.15,
          649233.42,
          393733.92,
          294635.07,
          289611.95,
          278202.02,
          218513.94,
          12124.97,
          8746.5,
          2377.96,
          1500.82
         ],
         "yaxis": "y"
        }
       ],
       "layout": {
        "barmode": "relative",
        "coloraxis": {
         "colorbar": {
          "title": {
           "text": "Saldo a liquidar"
          }
         },
         "colorscale": [
          [
           0,
           "rgb(255,245,240)"
          ],
          [
           0.125,
           "rgb(254,224,210)"
          ],
          [
           0.25,
           "rgb(252,187,161)"
          ],
          [
           0.375,
           "rgb(252,146,114)"
          ],
          [
           0.5,
           "rgb(251,106,74)"
          ],
          [
           0.625,
           "rgb(239,59,44)"
          ],
          [
           0.75,
           "rgb(203,24,29)"
          ],
          [
           0.875,
           "rgb(165,15,21)"
          ],
          [
           1,
           "rgb(103,0,13)"
          ]
         ]
        },
        "height": 500,
        "hovermode": "x unified",
        "legend": {
         "tracegroupgap": 0
        },
        "template": {
         "data": {
          "bar": [
           {
            "error_x": {
             "color": "#f2f5fa"
            },
            "error_y": {
             "color": "#f2f5fa"
            },
            "marker": {
             "line": {
              "color": "rgb(17,17,17)",
              "width": 0.5
             },
             "pattern": {
              "fillmode": "overlay",
              "size": 10,
              "solidity": 0.2
             }
            },
            "type": "bar"
           }
          ],
          "barpolar": [
           {
            "marker": {
             "line": {
              "color": "rgb(17,17,17)",
              "width": 0.5
             },
             "pattern": {
              "fillmode": "overlay",
              "size": 10,
              "solidity": 0.2
             }
            },
            "type": "barpolar"
           }
          ],
          "carpet": [
           {
            "aaxis": {
             "endlinecolor": "#A2B1C6",
             "gridcolor": "#506784",
             "linecolor": "#506784",
             "minorgridcolor": "#506784",
             "startlinecolor": "#A2B1C6"
            },
            "baxis": {
             "endlinecolor": "#A2B1C6",
             "gridcolor": "#506784",
             "linecolor": "#506784",
             "minorgridcolor": "#506784",
             "startlinecolor": "#A2B1C6"
            },
            "type": "carpet"
           }
          ],
          "choropleth": [
           {
            "colorbar": {
             "outlinewidth": 0,
             "ticks": ""
            },
            "type": "choropleth"
           }
          ],
          "contour": [
           {
            "colorbar": {
             "outlinewidth": 0,
             "ticks": ""
            },
            "colorscale": [
             [
              0,
              "#0d0887"
             ],
             [
              0.1111111111111111,
              "#46039f"
             ],
             [
              0.2222222222222222,
              "#7201a8"
             ],
             [
              0.3333333333333333,
              "#9c179e"
             ],
             [
              0.4444444444444444,
              "#bd3786"
             ],
             [
              0.5555555555555556,
              "#d8576b"
             ],
             [
              0.6666666666666666,
              "#ed7953"
             ],
             [
              0.7777777777777778,
              "#fb9f3a"
             ],
             [
              0.8888888888888888,
              "#fdca26"
             ],
             [
              1,
              "#f0f921"
             ]
            ],
            "type": "contour"
           }
          ],
          "contourcarpet": [
           {
            "colorbar": {
             "outlinewidth": 0,
             "ticks": ""
            },
            "type": "contourcarpet"
           }
          ],
          "heatmap": [
           {
            "colorbar": {
             "outlinewidth": 0,
             "ticks": ""
            },
            "colorscale": [
             [
              0,
              "#0d0887"
             ],
             [
              0.1111111111111111,
              "#46039f"
             ],
             [
              0.2222222222222222,
              "#7201a8"
             ],
             [
              0.3333333333333333,
              "#9c179e"
             ],
             [
              0.4444444444444444,
              "#bd3786"
             ],
             [
              0.5555555555555556,
              "#d8576b"
             ],
             [
              0.6666666666666666,
              "#ed7953"
             ],
             [
              0.7777777777777778,
              "#fb9f3a"
             ],
             [
              0.8888888888888888,
              "#fdca26"
             ],
             [
              1,
              "#f0f921"
             ]
            ],
            "type": "heatmap"
           }
          ],
          "heatmapgl": [
           {
            "colorbar": {
             "outlinewidth": 0,
             "ticks": ""
            },
            "colorscale": [
             [
              0,
              "#0d0887"
             ],
             [
              0.1111111111111111,
              "#46039f"
             ],
             [
              0.2222222222222222,
              "#7201a8"
             ],
             [
              0.3333333333333333,
              "#9c179e"
             ],
             [
              0.4444444444444444,
              "#bd3786"
             ],
             [
              0.5555555555555556,
              "#d8576b"
             ],
             [
              0.6666666666666666,
              "#ed7953"
             ],
             [
              0.7777777777777778,
              "#fb9f3a"
             ],
             [
              0.8888888888888888,
              "#fdca26"
             ],
             [
              1,
              "#f0f921"
             ]
            ],
            "type": "heatmapgl"
           }
          ],
          "histogram": [
           {
            "marker": {
             "pattern": {
              "fillmode": "overlay",
              "size": 10,
              "solidity": 0.2
             }
            },
            "type": "histogram"
           }
          ],
          "histogram2d": [
           {
            "colorbar": {
             "outlinewidth": 0,
             "ticks": ""
            },
            "colorscale": [
             [
              0,
              "#0d0887"
             ],
             [
              0.1111111111111111,
              "#46039f"
             ],
             [
              0.2222222222222222,
              "#7201a8"
             ],
             [
              0.3333333333333333,
              "#9c179e"
             ],
             [
              0.4444444444444444,
              "#bd3786"
             ],
             [
              0.5555555555555556,
              "#d8576b"
             ],
             [
              0.6666666666666666,
              "#ed7953"
             ],
             [
              0.7777777777777778,
              "#fb9f3a"
             ],
             [
              0.8888888888888888,
              "#fdca26"
             ],
             [
              1,
              "#f0f921"
             ]
            ],
            "type": "histogram2d"
           }
          ],
          "histogram2dcontour": [
           {
            "colorbar": {
             "outlinewidth": 0,
             "ticks": ""
            },
            "colorscale": [
             [
              0,
              "#0d0887"
             ],
             [
              0.1111111111111111,
              "#46039f"
             ],
             [
              0.2222222222222222,
              "#7201a8"
             ],
             [
              0.3333333333333333,
              "#9c179e"
             ],
             [
              0.4444444444444444,
              "#bd3786"
             ],
             [
              0.5555555555555556,
              "#d8576b"
             ],
             [
              0.6666666666666666,
              "#ed7953"
             ],
             [
              0.7777777777777778,
              "#fb9f3a"
             ],
             [
              0.8888888888888888,
              "#fdca26"
             ],
             [
              1,
              "#f0f921"
             ]
            ],
            "type": "histogram2dcontour"
           }
          ],
          "mesh3d": [
           {
            "colorbar": {
             "outlinewidth": 0,
             "ticks": ""
            },
            "type": "mesh3d"
           }
          ],
          "parcoords": [
           {
            "line": {
             "colorbar": {
              "outlinewidth": 0,
              "ticks": ""
             }
            },
            "type": "parcoords"
           }
          ],
          "pie": [
           {
            "automargin": true,
            "type": "pie"
           }
          ],
          "scatter": [
           {
            "marker": {
             "line": {
              "color": "#283442"
             }
            },
            "type": "scatter"
           }
          ],
          "scatter3d": [
           {
            "line": {
             "colorbar": {
              "outlinewidth": 0,
              "ticks": ""
             }
            },
            "marker": {
             "colorbar": {
              "outlinewidth": 0,
              "ticks": ""
             }
            },
            "type": "scatter3d"
           }
          ],
          "scattercarpet": [
           {
            "marker": {
             "colorbar": {
              "outlinewidth": 0,
              "ticks": ""
             }
            },
            "type": "scattercarpet"
           }
          ],
          "scattergeo": [
           {
            "marker": {
             "colorbar": {
              "outlinewidth": 0,
              "ticks": ""
             }
            },
            "type": "scattergeo"
           }
          ],
          "scattergl": [
           {
            "marker": {
             "line": {
              "color": "#283442"
             }
            },
            "type": "scattergl"
           }
          ],
          "scattermapbox": [
           {
            "marker": {
             "colorbar": {
              "outlinewidth": 0,
              "ticks": ""
             }
            },
            "type": "scattermapbox"
           }
          ],
          "scatterpolar": [
           {
            "marker": {
             "colorbar": {
              "outlinewidth": 0,
              "ticks": ""
             }
            },
            "type": "scatterpolar"
           }
          ],
          "scatterpolargl": [
           {
            "marker": {
             "colorbar": {
              "outlinewidth": 0,
              "ticks": ""
             }
            },
            "type": "scatterpolargl"
           }
          ],
          "scatterternary": [
           {
            "marker": {
             "colorbar": {
              "outlinewidth": 0,
              "ticks": ""
             }
            },
            "type": "scatterternary"
           }
          ],
          "surface": [
           {
            "colorbar": {
             "outlinewidth": 0,
             "ticks": ""
            },
            "colorscale": [
             [
              0,
              "#0d0887"
             ],
             [
              0.1111111111111111,
              "#46039f"
             ],
             [
              0.2222222222222222,
              "#7201a8"
             ],
             [
              0.3333333333333333,
              "#9c179e"
             ],
             [
              0.4444444444444444,
              "#bd3786"
             ],
             [
              0.5555555555555556,
              "#d8576b"
             ],
             [
              0.6666666666666666,
              "#ed7953"
             ],
             [
              0.7777777777777778,
              "#fb9f3a"
             ],
             [
              0.8888888888888888,
              "#fdca26"
             ],
             [
              1,
              "#f0f921"
             ]
            ],
            "type": "surface"
           }
          ],
          "table": [
           {
            "cells": {
             "fill": {
              "color": "#506784"
             },
             "line": {
              "color": "rgb(17,17,17)"
             }
            },
            "header": {
             "fill": {
              "color": "#2a3f5f"
             },
             "line": {
              "color": "rgb(17,17,17)"
             }
            },
            "type": "table"
           }
          ]
         },
         "layout": {
          "annotationdefaults": {
           "arrowcolor": "#f2f5fa",
           "arrowhead": 0,
           "arrowwidth": 1
          },
          "autotypenumbers": "strict",
          "coloraxis": {
           "colorbar": {
            "outlinewidth": 0,
            "ticks": ""
           }
          },
          "colorscale": {
           "diverging": [
            [
             0,
             "#8e0152"
            ],
            [
             0.1,
             "#c51b7d"
            ],
            [
             0.2,
             "#de77ae"
            ],
            [
             0.3,
             "#f1b6da"
            ],
            [
             0.4,
             "#fde0ef"
            ],
            [
             0.5,
             "#f7f7f7"
            ],
            [
             0.6,
             "#e6f5d0"
            ],
            [
             0.7,
             "#b8e186"
            ],
            [
             0.8,
             "#7fbc41"
            ],
            [
             0.9,
             "#4d9221"
            ],
            [
             1,
             "#276419"
            ]
           ],
           "sequential": [
            [
             0,
             "#0d0887"
            ],
            [
             0.1111111111111111,
             "#46039f"
            ],
            [
             0.2222222222222222,
             "#7201a8"
            ],
            [
             0.3333333333333333,
             "#9c179e"
            ],
            [
             0.4444444444444444,
             "#bd3786"
            ],
            [
             0.5555555555555556,
             "#d8576b"
            ],
            [
             0.6666666666666666,
             "#ed7953"
            ],
            [
             0.7777777777777778,
             "#fb9f3a"
            ],
            [
             0.8888888888888888,
             "#fdca26"
            ],
            [
             1,
             "#f0f921"
            ]
           ],
           "sequentialminus": [
            [
             0,
             "#0d0887"
            ],
            [
             0.1111111111111111,
             "#46039f"
            ],
            [
             0.2222222222222222,
             "#7201a8"
            ],
            [
             0.3333333333333333,
             "#9c179e"
            ],
            [
             0.4444444444444444,
             "#bd3786"
            ],
            [
             0.5555555555555556,
             "#d8576b"
            ],
            [
             0.6666666666666666,
             "#ed7953"
            ],
            [
             0.7777777777777778,
             "#fb9f3a"
            ],
            [
             0.8888888888888888,
             "#fdca26"
            ],
            [
             1,
             "#f0f921"
            ]
           ]
          },
          "colorway": [
           "#636efa",
           "#EF553B",
           "#00cc96",
           "#ab63fa",
           "#FFA15A",
           "#19d3f3",
           "#FF6692",
           "#B6E880",
           "#FF97FF",
           "#FECB52"
          ],
          "font": {
           "color": "#f2f5fa"
          },
          "geo": {
           "bgcolor": "rgb(17,17,17)",
           "lakecolor": "rgb(17,17,17)",
           "landcolor": "rgb(17,17,17)",
           "showlakes": true,
           "showland": true,
           "subunitcolor": "#506784"
          },
          "hoverlabel": {
           "align": "left"
          },
          "hovermode": "closest",
          "mapbox": {
           "style": "dark"
          },
          "paper_bgcolor": "rgb(17,17,17)",
          "plot_bgcolor": "rgb(17,17,17)",
          "polar": {
           "angularaxis": {
            "gridcolor": "#506784",
            "linecolor": "#506784",
            "ticks": ""
           },
           "bgcolor": "rgb(17,17,17)",
           "radialaxis": {
            "gridcolor": "#506784",
            "linecolor": "#506784",
            "ticks": ""
           }
          },
          "scene": {
           "xaxis": {
            "backgroundcolor": "rgb(17,17,17)",
            "gridcolor": "#506784",
            "gridwidth": 2,
            "linecolor": "#506784",
            "showbackground": true,
            "ticks": "",
            "zerolinecolor": "#C8D4E3"
           },
           "yaxis": {
            "backgroundcolor": "rgb(17,17,17)",
            "gridcolor": "#506784",
            "gridwidth": 2,
            "linecolor": "#506784",
            "showbackground": true,
            "ticks": "",
            "zerolinecolor": "#C8D4E3"
           },
           "zaxis": {
            "backgroundcolor": "rgb(17,17,17)",
            "gridcolor": "#506784",
            "gridwidth": 2,
            "linecolor": "#506784",
            "showbackground": true,
            "ticks": "",
            "zerolinecolor": "#C8D4E3"
           }
          },
          "shapedefaults": {
           "line": {
            "color": "#f2f5fa"
           }
          },
          "sliderdefaults": {
           "bgcolor": "#C8D4E3",
           "bordercolor": "rgb(17,17,17)",
           "borderwidth": 1,
           "tickwidth": 0
          },
          "ternary": {
           "aaxis": {
            "gridcolor": "#506784",
            "linecolor": "#506784",
            "ticks": ""
           },
           "baxis": {
            "gridcolor": "#506784",
            "linecolor": "#506784",
            "ticks": ""
           },
           "bgcolor": "rgb(17,17,17)",
           "caxis": {
            "gridcolor": "#506784",
            "linecolor": "#506784",
            "ticks": ""
           }
          },
          "title": {
           "x": 0.05
          },
          "updatemenudefaults": {
           "bgcolor": "#506784",
           "borderwidth": 0
          },
          "xaxis": {
           "automargin": true,
           "gridcolor": "#283442",
           "linecolor": "#506784",
           "ticks": "",
           "title": {
            "standoff": 15
           },
           "zerolinecolor": "#283442",
           "zerolinewidth": 2
          },
          "yaxis": {
           "automargin": true,
           "gridcolor": "#283442",
           "linecolor": "#506784",
           "ticks": "",
           "title": {
            "standoff": 15
           },
           "zerolinecolor": "#283442",
           "zerolinewidth": 2
          }
         }
        },
        "title": {
         "text": "Saldo a liquidar por ND"
        },
        "xaxis": {
         "anchor": "y",
         "domain": [
          0,
          1
         ],
         "title": {
          "text": "Natureza da Despesa"
         }
        },
        "yaxis": {
         "anchor": "x",
         "domain": [
          0,
          1
         ],
         "title": {
          "text": "Saldo a liquidar"
         },
         "type": "log"
        }
       }
      }
     },
     "metadata": {},
     "output_type": "display_data"
    }
   ],
   "source": [
    "# Saldo a liquidar por ND\n",
    "cols = ['ND', 'A_LIQUIDAR']\n",
    "\n",
    "df_aux = df.loc[:, cols].groupby('ND').sum().sort_values(by= 'A_LIQUIDAR', ascending=False).reset_index()\n",
    "df_aux = df_aux[df_aux['A_LIQUIDAR'] > 0]\n",
    "fig = px.bar(df_aux, \n",
    "             x='ND', \n",
    "             y='A_LIQUIDAR',\n",
    "             title='Saldo a liquidar por ND',\n",
    "             labels={'ND':'Natureza da Despesa', 'A_LIQUIDAR':'Saldo a liquidar'},\n",
    "             text_auto='.3s',\n",
    "             height=500,\n",
    "             log_y=True,\n",
    "             color='A_LIQUIDAR',\n",
    "             color_continuous_scale = 'reds',\n",
    "             template='plotly_dark')\n",
    "fig.update_traces(textposition = 'outside', cliponaxis = False, hovertemplate=None)\n",
    "fig.update_layout(hovermode=\"x unified\")\n",
    "\n",
    "fig.show()"
   ]
  },
  {
   "cell_type": "code",
   "execution_count": 6,
   "metadata": {},
   "outputs": [
    {
     "data": {
      "application/vnd.plotly.v1+json": {
       "config": {
        "plotlyServerURL": "https://plot.ly"
       },
       "data": [
        {
         "alignmentgroup": "True",
         "cliponaxis": false,
         "legendgroup": "",
         "marker": {
          "color": [
           1125525.59,
           628763.55,
           564455.64,
           449808.57,
           441008,
           377902.96,
           289611.95,
           218513.94,
           206537.88,
           198997.04,
           177717,
           177052.24,
           141336.78,
           128368.65,
           91770.85,
           87057,
           79191.61,
           71664.14,
           69000,
           59656.020000000004,
           57626.829999999994,
           52906.19,
           46379.1,
           42463.399999999994,
           40719.28,
           34221.89,
           32907.01,
           30084.29,
           24075,
           22000,
           21569.15,
           18701,
           14847.94,
           13933.2,
           13778,
           13340,
           12882,
           12124.97,
           10752.970000000001,
           9999.67,
           9270.92,
           8837.42,
           8746.5,
           8675,
           7665.9800000000005,
           7632.66,
           7547.46,
           7182,
           5992.63,
           5400,
           4274.030000000001,
           3885.57,
           3534,
           3448.49,
           3264,
           3044.75,
           2670.94,
           2527.98,
           2377.96,
           2050.7,
           1975.58,
           1880,
           1500.82,
           1405.22,
           1390,
           995,
           725,
           485.48,
           455,
           18.7
          ],
          "coloraxis": "coloraxis",
          "pattern": {
           "shape": ""
          }
         },
         "name": "",
         "offsetgroup": "",
         "orientation": "v",
         "showlegend": false,
         "textposition": "outside",
         "texttemplate": "%{y:.3s}",
         "type": "bar",
         "x": [
          "33903916",
          "33903943",
          "33903963",
          "33903950",
          "33903304",
          "33903007",
          "33901514",
          "33903702",
          "33904016",
          "33903922",
          "44905241",
          "33909314",
          "33903006",
          "33903004",
          "33903917",
          "33903302",
          "44905242",
          "33904012",
          "33909302",
          "33903309",
          "33903301",
          "33903024",
          "44905224",
          "33909318",
          "33903944",
          "33903946",
          "33903947",
          "44905230",
          "33903017",
          "33903959",
          "33903018",
          "44905212",
          "33903022",
          "33903010",
          "44905232",
          "33903914",
          "33903919",
          "33903630",
          "33903958",
          "33903039",
          "44905237",
          "44905228",
          "33903209",
          "33903920",
          "33903042",
          "33903009",
          "33903012",
          "33903969",
          "33903026",
          "33903912",
          "33903011",
          "33903303",
          "44905234",
          "33909319",
          "33903001",
          "33903021",
          "33909301",
          "33903974",
          "33914718",
          "33903028",
          "44905248",
          "44905233",
          "33904710",
          "33903096",
          "44905235",
          "44905238",
          "33903016",
          "33903014",
          "33903035",
          "33903025"
         ],
         "xaxis": "x",
         "y": [
          1125525.59,
          628763.55,
          564455.64,
          449808.57,
          441008,
          377902.96,
          289611.95,
          218513.94,
          206537.88,
          198997.04,
          177717,
          177052.24,
          141336.78,
          128368.65,
          91770.85,
          87057,
          79191.61,
          71664.14,
          69000,
          59656.020000000004,
          57626.829999999994,
          52906.19,
          46379.1,
          42463.399999999994,
          40719.28,
          34221.89,
          32907.01,
          30084.29,
          24075,
          22000,
          21569.15,
          18701,
          14847.94,
          13933.2,
          13778,
          13340,
          12882,
          12124.97,
          10752.970000000001,
          9999.67,
          9270.92,
          8837.42,
          8746.5,
          8675,
          7665.9800000000005,
          7632.66,
          7547.46,
          7182,
          5992.63,
          5400,
          4274.030000000001,
          3885.57,
          3534,
          3448.49,
          3264,
          3044.75,
          2670.94,
          2527.98,
          2377.96,
          2050.7,
          1975.58,
          1880,
          1500.82,
          1405.22,
          1390,
          995,
          725,
          485.48,
          455,
          18.7
         ],
         "yaxis": "y"
        }
       ],
       "layout": {
        "barmode": "relative",
        "coloraxis": {
         "colorbar": {
          "title": {
           "text": "Saldo a liquidar"
          }
         },
         "colorscale": [
          [
           0,
           "rgb(255,245,240)"
          ],
          [
           0.125,
           "rgb(254,224,210)"
          ],
          [
           0.25,
           "rgb(252,187,161)"
          ],
          [
           0.375,
           "rgb(252,146,114)"
          ],
          [
           0.5,
           "rgb(251,106,74)"
          ],
          [
           0.625,
           "rgb(239,59,44)"
          ],
          [
           0.75,
           "rgb(203,24,29)"
          ],
          [
           0.875,
           "rgb(165,15,21)"
          ],
          [
           1,
           "rgb(103,0,13)"
          ]
         ]
        },
        "height": 600,
        "hovermode": "x unified",
        "legend": {
         "tracegroupgap": 0
        },
        "template": {
         "data": {
          "bar": [
           {
            "error_x": {
             "color": "#f2f5fa"
            },
            "error_y": {
             "color": "#f2f5fa"
            },
            "marker": {
             "line": {
              "color": "rgb(17,17,17)",
              "width": 0.5
             },
             "pattern": {
              "fillmode": "overlay",
              "size": 10,
              "solidity": 0.2
             }
            },
            "type": "bar"
           }
          ],
          "barpolar": [
           {
            "marker": {
             "line": {
              "color": "rgb(17,17,17)",
              "width": 0.5
             },
             "pattern": {
              "fillmode": "overlay",
              "size": 10,
              "solidity": 0.2
             }
            },
            "type": "barpolar"
           }
          ],
          "carpet": [
           {
            "aaxis": {
             "endlinecolor": "#A2B1C6",
             "gridcolor": "#506784",
             "linecolor": "#506784",
             "minorgridcolor": "#506784",
             "startlinecolor": "#A2B1C6"
            },
            "baxis": {
             "endlinecolor": "#A2B1C6",
             "gridcolor": "#506784",
             "linecolor": "#506784",
             "minorgridcolor": "#506784",
             "startlinecolor": "#A2B1C6"
            },
            "type": "carpet"
           }
          ],
          "choropleth": [
           {
            "colorbar": {
             "outlinewidth": 0,
             "ticks": ""
            },
            "type": "choropleth"
           }
          ],
          "contour": [
           {
            "colorbar": {
             "outlinewidth": 0,
             "ticks": ""
            },
            "colorscale": [
             [
              0,
              "#0d0887"
             ],
             [
              0.1111111111111111,
              "#46039f"
             ],
             [
              0.2222222222222222,
              "#7201a8"
             ],
             [
              0.3333333333333333,
              "#9c179e"
             ],
             [
              0.4444444444444444,
              "#bd3786"
             ],
             [
              0.5555555555555556,
              "#d8576b"
             ],
             [
              0.6666666666666666,
              "#ed7953"
             ],
             [
              0.7777777777777778,
              "#fb9f3a"
             ],
             [
              0.8888888888888888,
              "#fdca26"
             ],
             [
              1,
              "#f0f921"
             ]
            ],
            "type": "contour"
           }
          ],
          "contourcarpet": [
           {
            "colorbar": {
             "outlinewidth": 0,
             "ticks": ""
            },
            "type": "contourcarpet"
           }
          ],
          "heatmap": [
           {
            "colorbar": {
             "outlinewidth": 0,
             "ticks": ""
            },
            "colorscale": [
             [
              0,
              "#0d0887"
             ],
             [
              0.1111111111111111,
              "#46039f"
             ],
             [
              0.2222222222222222,
              "#7201a8"
             ],
             [
              0.3333333333333333,
              "#9c179e"
             ],
             [
              0.4444444444444444,
              "#bd3786"
             ],
             [
              0.5555555555555556,
              "#d8576b"
             ],
             [
              0.6666666666666666,
              "#ed7953"
             ],
             [
              0.7777777777777778,
              "#fb9f3a"
             ],
             [
              0.8888888888888888,
              "#fdca26"
             ],
             [
              1,
              "#f0f921"
             ]
            ],
            "type": "heatmap"
           }
          ],
          "heatmapgl": [
           {
            "colorbar": {
             "outlinewidth": 0,
             "ticks": ""
            },
            "colorscale": [
             [
              0,
              "#0d0887"
             ],
             [
              0.1111111111111111,
              "#46039f"
             ],
             [
              0.2222222222222222,
              "#7201a8"
             ],
             [
              0.3333333333333333,
              "#9c179e"
             ],
             [
              0.4444444444444444,
              "#bd3786"
             ],
             [
              0.5555555555555556,
              "#d8576b"
             ],
             [
              0.6666666666666666,
              "#ed7953"
             ],
             [
              0.7777777777777778,
              "#fb9f3a"
             ],
             [
              0.8888888888888888,
              "#fdca26"
             ],
             [
              1,
              "#f0f921"
             ]
            ],
            "type": "heatmapgl"
           }
          ],
          "histogram": [
           {
            "marker": {
             "pattern": {
              "fillmode": "overlay",
              "size": 10,
              "solidity": 0.2
             }
            },
            "type": "histogram"
           }
          ],
          "histogram2d": [
           {
            "colorbar": {
             "outlinewidth": 0,
             "ticks": ""
            },
            "colorscale": [
             [
              0,
              "#0d0887"
             ],
             [
              0.1111111111111111,
              "#46039f"
             ],
             [
              0.2222222222222222,
              "#7201a8"
             ],
             [
              0.3333333333333333,
              "#9c179e"
             ],
             [
              0.4444444444444444,
              "#bd3786"
             ],
             [
              0.5555555555555556,
              "#d8576b"
             ],
             [
              0.6666666666666666,
              "#ed7953"
             ],
             [
              0.7777777777777778,
              "#fb9f3a"
             ],
             [
              0.8888888888888888,
              "#fdca26"
             ],
             [
              1,
              "#f0f921"
             ]
            ],
            "type": "histogram2d"
           }
          ],
          "histogram2dcontour": [
           {
            "colorbar": {
             "outlinewidth": 0,
             "ticks": ""
            },
            "colorscale": [
             [
              0,
              "#0d0887"
             ],
             [
              0.1111111111111111,
              "#46039f"
             ],
             [
              0.2222222222222222,
              "#7201a8"
             ],
             [
              0.3333333333333333,
              "#9c179e"
             ],
             [
              0.4444444444444444,
              "#bd3786"
             ],
             [
              0.5555555555555556,
              "#d8576b"
             ],
             [
              0.6666666666666666,
              "#ed7953"
             ],
             [
              0.7777777777777778,
              "#fb9f3a"
             ],
             [
              0.8888888888888888,
              "#fdca26"
             ],
             [
              1,
              "#f0f921"
             ]
            ],
            "type": "histogram2dcontour"
           }
          ],
          "mesh3d": [
           {
            "colorbar": {
             "outlinewidth": 0,
             "ticks": ""
            },
            "type": "mesh3d"
           }
          ],
          "parcoords": [
           {
            "line": {
             "colorbar": {
              "outlinewidth": 0,
              "ticks": ""
             }
            },
            "type": "parcoords"
           }
          ],
          "pie": [
           {
            "automargin": true,
            "type": "pie"
           }
          ],
          "scatter": [
           {
            "marker": {
             "line": {
              "color": "#283442"
             }
            },
            "type": "scatter"
           }
          ],
          "scatter3d": [
           {
            "line": {
             "colorbar": {
              "outlinewidth": 0,
              "ticks": ""
             }
            },
            "marker": {
             "colorbar": {
              "outlinewidth": 0,
              "ticks": ""
             }
            },
            "type": "scatter3d"
           }
          ],
          "scattercarpet": [
           {
            "marker": {
             "colorbar": {
              "outlinewidth": 0,
              "ticks": ""
             }
            },
            "type": "scattercarpet"
           }
          ],
          "scattergeo": [
           {
            "marker": {
             "colorbar": {
              "outlinewidth": 0,
              "ticks": ""
             }
            },
            "type": "scattergeo"
           }
          ],
          "scattergl": [
           {
            "marker": {
             "line": {
              "color": "#283442"
             }
            },
            "type": "scattergl"
           }
          ],
          "scattermapbox": [
           {
            "marker": {
             "colorbar": {
              "outlinewidth": 0,
              "ticks": ""
             }
            },
            "type": "scattermapbox"
           }
          ],
          "scatterpolar": [
           {
            "marker": {
             "colorbar": {
              "outlinewidth": 0,
              "ticks": ""
             }
            },
            "type": "scatterpolar"
           }
          ],
          "scatterpolargl": [
           {
            "marker": {
             "colorbar": {
              "outlinewidth": 0,
              "ticks": ""
             }
            },
            "type": "scatterpolargl"
           }
          ],
          "scatterternary": [
           {
            "marker": {
             "colorbar": {
              "outlinewidth": 0,
              "ticks": ""
             }
            },
            "type": "scatterternary"
           }
          ],
          "surface": [
           {
            "colorbar": {
             "outlinewidth": 0,
             "ticks": ""
            },
            "colorscale": [
             [
              0,
              "#0d0887"
             ],
             [
              0.1111111111111111,
              "#46039f"
             ],
             [
              0.2222222222222222,
              "#7201a8"
             ],
             [
              0.3333333333333333,
              "#9c179e"
             ],
             [
              0.4444444444444444,
              "#bd3786"
             ],
             [
              0.5555555555555556,
              "#d8576b"
             ],
             [
              0.6666666666666666,
              "#ed7953"
             ],
             [
              0.7777777777777778,
              "#fb9f3a"
             ],
             [
              0.8888888888888888,
              "#fdca26"
             ],
             [
              1,
              "#f0f921"
             ]
            ],
            "type": "surface"
           }
          ],
          "table": [
           {
            "cells": {
             "fill": {
              "color": "#506784"
             },
             "line": {
              "color": "rgb(17,17,17)"
             }
            },
            "header": {
             "fill": {
              "color": "#2a3f5f"
             },
             "line": {
              "color": "rgb(17,17,17)"
             }
            },
            "type": "table"
           }
          ]
         },
         "layout": {
          "annotationdefaults": {
           "arrowcolor": "#f2f5fa",
           "arrowhead": 0,
           "arrowwidth": 1
          },
          "autotypenumbers": "strict",
          "coloraxis": {
           "colorbar": {
            "outlinewidth": 0,
            "ticks": ""
           }
          },
          "colorscale": {
           "diverging": [
            [
             0,
             "#8e0152"
            ],
            [
             0.1,
             "#c51b7d"
            ],
            [
             0.2,
             "#de77ae"
            ],
            [
             0.3,
             "#f1b6da"
            ],
            [
             0.4,
             "#fde0ef"
            ],
            [
             0.5,
             "#f7f7f7"
            ],
            [
             0.6,
             "#e6f5d0"
            ],
            [
             0.7,
             "#b8e186"
            ],
            [
             0.8,
             "#7fbc41"
            ],
            [
             0.9,
             "#4d9221"
            ],
            [
             1,
             "#276419"
            ]
           ],
           "sequential": [
            [
             0,
             "#0d0887"
            ],
            [
             0.1111111111111111,
             "#46039f"
            ],
            [
             0.2222222222222222,
             "#7201a8"
            ],
            [
             0.3333333333333333,
             "#9c179e"
            ],
            [
             0.4444444444444444,
             "#bd3786"
            ],
            [
             0.5555555555555556,
             "#d8576b"
            ],
            [
             0.6666666666666666,
             "#ed7953"
            ],
            [
             0.7777777777777778,
             "#fb9f3a"
            ],
            [
             0.8888888888888888,
             "#fdca26"
            ],
            [
             1,
             "#f0f921"
            ]
           ],
           "sequentialminus": [
            [
             0,
             "#0d0887"
            ],
            [
             0.1111111111111111,
             "#46039f"
            ],
            [
             0.2222222222222222,
             "#7201a8"
            ],
            [
             0.3333333333333333,
             "#9c179e"
            ],
            [
             0.4444444444444444,
             "#bd3786"
            ],
            [
             0.5555555555555556,
             "#d8576b"
            ],
            [
             0.6666666666666666,
             "#ed7953"
            ],
            [
             0.7777777777777778,
             "#fb9f3a"
            ],
            [
             0.8888888888888888,
             "#fdca26"
            ],
            [
             1,
             "#f0f921"
            ]
           ]
          },
          "colorway": [
           "#636efa",
           "#EF553B",
           "#00cc96",
           "#ab63fa",
           "#FFA15A",
           "#19d3f3",
           "#FF6692",
           "#B6E880",
           "#FF97FF",
           "#FECB52"
          ],
          "font": {
           "color": "#f2f5fa"
          },
          "geo": {
           "bgcolor": "rgb(17,17,17)",
           "lakecolor": "rgb(17,17,17)",
           "landcolor": "rgb(17,17,17)",
           "showlakes": true,
           "showland": true,
           "subunitcolor": "#506784"
          },
          "hoverlabel": {
           "align": "left"
          },
          "hovermode": "closest",
          "mapbox": {
           "style": "dark"
          },
          "paper_bgcolor": "rgb(17,17,17)",
          "plot_bgcolor": "rgb(17,17,17)",
          "polar": {
           "angularaxis": {
            "gridcolor": "#506784",
            "linecolor": "#506784",
            "ticks": ""
           },
           "bgcolor": "rgb(17,17,17)",
           "radialaxis": {
            "gridcolor": "#506784",
            "linecolor": "#506784",
            "ticks": ""
           }
          },
          "scene": {
           "xaxis": {
            "backgroundcolor": "rgb(17,17,17)",
            "gridcolor": "#506784",
            "gridwidth": 2,
            "linecolor": "#506784",
            "showbackground": true,
            "ticks": "",
            "zerolinecolor": "#C8D4E3"
           },
           "yaxis": {
            "backgroundcolor": "rgb(17,17,17)",
            "gridcolor": "#506784",
            "gridwidth": 2,
            "linecolor": "#506784",
            "showbackground": true,
            "ticks": "",
            "zerolinecolor": "#C8D4E3"
           },
           "zaxis": {
            "backgroundcolor": "rgb(17,17,17)",
            "gridcolor": "#506784",
            "gridwidth": 2,
            "linecolor": "#506784",
            "showbackground": true,
            "ticks": "",
            "zerolinecolor": "#C8D4E3"
           }
          },
          "shapedefaults": {
           "line": {
            "color": "#f2f5fa"
           }
          },
          "sliderdefaults": {
           "bgcolor": "#C8D4E3",
           "bordercolor": "rgb(17,17,17)",
           "borderwidth": 1,
           "tickwidth": 0
          },
          "ternary": {
           "aaxis": {
            "gridcolor": "#506784",
            "linecolor": "#506784",
            "ticks": ""
           },
           "baxis": {
            "gridcolor": "#506784",
            "linecolor": "#506784",
            "ticks": ""
           },
           "bgcolor": "rgb(17,17,17)",
           "caxis": {
            "gridcolor": "#506784",
            "linecolor": "#506784",
            "ticks": ""
           }
          },
          "title": {
           "x": 0.05
          },
          "updatemenudefaults": {
           "bgcolor": "#506784",
           "borderwidth": 0
          },
          "xaxis": {
           "automargin": true,
           "gridcolor": "#283442",
           "linecolor": "#506784",
           "ticks": "",
           "title": {
            "standoff": 15
           },
           "zerolinecolor": "#283442",
           "zerolinewidth": 2
          },
          "yaxis": {
           "automargin": true,
           "gridcolor": "#283442",
           "linecolor": "#506784",
           "ticks": "",
           "title": {
            "standoff": 15
           },
           "zerolinecolor": "#283442",
           "zerolinewidth": 2
          }
         }
        },
        "title": {
         "text": "Saldo a liquidar por NDSI"
        },
        "xaxis": {
         "anchor": "y",
         "domain": [
          0,
          1
         ],
         "title": {
          "text": "Subitem da despesa"
         }
        },
        "yaxis": {
         "anchor": "x",
         "domain": [
          0,
          1
         ],
         "title": {
          "text": "Saldo a liquidar"
         },
         "type": "log"
        }
       }
      }
     },
     "metadata": {},
     "output_type": "display_data"
    }
   ],
   "source": [
    "# Saldo a liquidar por Subitem\n",
    "cols = ['NDSI', 'A_LIQUIDAR']\n",
    "\n",
    "df_aux = df.loc[:, cols].groupby('NDSI').sum().sort_values(by= 'A_LIQUIDAR', ascending=False).reset_index()\n",
    "df_aux = df_aux[df_aux['A_LIQUIDAR'] > 0]\n",
    "fig = px.bar(df_aux, \n",
    "             x='NDSI', \n",
    "             y='A_LIQUIDAR',\n",
    "             title='Saldo a liquidar por NDSI',\n",
    "             labels={'NDSI':'Subitem da despesa', 'A_LIQUIDAR':'Saldo a liquidar'},\n",
    "             text_auto='.3s',\n",
    "             height=600,\n",
    "             log_y=True,\n",
    "             color='A_LIQUIDAR',\n",
    "             color_continuous_scale = 'reds',\n",
    "             template='plotly_dark')\n",
    "fig.update_traces(textposition = 'outside', cliponaxis = False, hovertemplate=None)\n",
    "fig.update_layout(hovermode=\"x unified\")\n",
    "\n",
    "fig.show()"
   ]
  },
  {
   "cell_type": "code",
   "execution_count": 7,
   "metadata": {},
   "outputs": [
    {
     "data": {
      "application/vnd.plotly.v1+json": {
       "config": {
        "plotlyServerURL": "https://plot.ly"
       },
       "data": [
        {
         "alignmentgroup": "True",
         "cliponaxis": false,
         "legendgroup": "",
         "marker": {
          "color": [
           1160137.42,
           730829.36,
           707538.5499999999,
           628763.55,
           468545.13,
           441008,
           428079.55,
           300000,
           218513.94,
           211817.55000000002,
           141336.78,
           121233.8,
           93827.87,
           84065.67,
           42463.399999999994,
           41466.509999999995,
           40719.28,
           32907.01,
           26642.01,
           25768.72,
           25214.89,
           25083.1,
           24803.43,
           24149.15,
           19844.9,
           19059.84,
           18433.23,
           18147.11,
           14696.76,
           14502.93,
           11882.17,
           11501.01,
           9999.67,
           8645,
           7618.92,
           6401.67,
           5499.8,
           3731.59,
           2838.41,
           2304,
           1938.11,
           1433.53,
           1405.22,
           1220.62,
           995,
           381.14,
           380,
           335.79
          ],
          "coloraxis": "coloraxis",
          "pattern": {
           "shape": ""
          }
         },
         "name": "",
         "offsetgroup": "",
         "orientation": "v",
         "showlegend": false,
         "textposition": "outside",
         "texttemplate": "%{y:.3s}",
         "type": "bar",
         "x": [
          "CAPACITACAO DE PESSOAL",
          "AQUARTELAMENTO",
          "CONCURSOS AS ESCOLAS MILITARES",
          "DESPESAS COM ENERGIA ELETRICA",
          "A1QR - QUANTITATIVO DE RANCHO",
          "ATS - ATIVIDADES SETORIAIS",
          "ORGANIZACAO CIVIL DE SAUDE",
          "CONSTRUIR E ADEQUAR INST SIST EDU E CULT EB",
          "LIMPEZA DE BENS IMÓVEIS",
          "COLEGIO MILITAR - ADMINISTRACAO",
          "ALIMENTACAO PARA EQUINOS.",
          "ATENDER NEC DECEX MODERNIZACAO OPERACIONAL",
          "OUTROS",
          "ADMINISTRACAO DE OM",
          "IND-INDENIZACOES",
          "MNT DE MÁQ E EQP ADMINISTRATIVOS",
          "CONCESSIONÁRIAS DE ÁGUA E ESGOTO",
          "SERVICO POSTAIS",
          "FUNADOM - DPGO",
          "ENSINO MILITAR",
          "PRODUCAO DAS OMS - SIRE",
          "PNR (UG)",
          "ASSISTENCIA SOCIAL",
          "MEDIDAS PROFILÁT SAÚDE EQUINOS",
          "DIARIAS",
          "ESCO - QUANTITATIVO DE RANCHO",
          "FATOR DE CUSTO - CONTRATO DE OBJETIVOS",
          "PUBLICIDADE",
          "REMONTA E VETERINÁRIA",
          "PROFISSIONAL DE SAUDE AUTONOMO",
          "A5PA - PASA",
          "MANUTENCAO DE MAQUINAS E EQUIP ADMINISTRATIVO",
          "MANUTENCAO DE BENS MOVEIS",
          "MNT DE SISTEMAS DE INFORMACãO E COMUNICACãO",
          "SERVICO DE TELEFONIA FIXA",
          "IND - INDENIZACOES",
          "A3RR - QUANTITATIVO DE RANCHO",
          "LAVAGEM DE ROUPAS PARA A VIDA VEGETATIVA OM",
          "DESLOCAMENTO",
          "DIAR - DIARIAS",
          "OPERACOES-PREPARO-DESLOCAMENTO",
          "UNPCRS",
          "COMBUSTIVEL E LUBRIFICANTES",
          "DSLC A SV PREP ADM MIS EXT",
          "DESCENTRALIZACAO RECURSOS MOTOMECANIZACAO",
          "CRÉDITO PARA CUTEAR ATIVIDADES DO SAREX",
          "MEDIDAS PROFILÁT SAÚDE CANINOS.",
          "SERVICOS DE PROTECAO A RADIACAO IONIZANTE"
         ],
         "xaxis": "x",
         "y": [
          1160137.42,
          730829.36,
          707538.5499999999,
          628763.55,
          468545.13,
          441008,
          428079.55,
          300000,
          218513.94,
          211817.55000000002,
          141336.78,
          121233.8,
          93827.87,
          84065.67,
          42463.399999999994,
          41466.509999999995,
          40719.28,
          32907.01,
          26642.01,
          25768.72,
          25214.89,
          25083.1,
          24803.43,
          24149.15,
          19844.9,
          19059.84,
          18433.23,
          18147.11,
          14696.76,
          14502.93,
          11882.17,
          11501.01,
          9999.67,
          8645,
          7618.92,
          6401.67,
          5499.8,
          3731.59,
          2838.41,
          2304,
          1938.11,
          1433.53,
          1405.22,
          1220.62,
          995,
          381.14,
          380,
          335.79
         ],
         "yaxis": "y"
        }
       ],
       "layout": {
        "barmode": "relative",
        "coloraxis": {
         "colorbar": {
          "title": {
           "text": "Saldo a liquidar"
          }
         },
         "colorscale": [
          [
           0,
           "rgb(255,245,240)"
          ],
          [
           0.125,
           "rgb(254,224,210)"
          ],
          [
           0.25,
           "rgb(252,187,161)"
          ],
          [
           0.375,
           "rgb(252,146,114)"
          ],
          [
           0.5,
           "rgb(251,106,74)"
          ],
          [
           0.625,
           "rgb(239,59,44)"
          ],
          [
           0.75,
           "rgb(203,24,29)"
          ],
          [
           0.875,
           "rgb(165,15,21)"
          ],
          [
           1,
           "rgb(103,0,13)"
          ]
         ]
        },
        "height": 800,
        "hovermode": "x unified",
        "legend": {
         "tracegroupgap": 0
        },
        "template": {
         "data": {
          "bar": [
           {
            "error_x": {
             "color": "#f2f5fa"
            },
            "error_y": {
             "color": "#f2f5fa"
            },
            "marker": {
             "line": {
              "color": "rgb(17,17,17)",
              "width": 0.5
             },
             "pattern": {
              "fillmode": "overlay",
              "size": 10,
              "solidity": 0.2
             }
            },
            "type": "bar"
           }
          ],
          "barpolar": [
           {
            "marker": {
             "line": {
              "color": "rgb(17,17,17)",
              "width": 0.5
             },
             "pattern": {
              "fillmode": "overlay",
              "size": 10,
              "solidity": 0.2
             }
            },
            "type": "barpolar"
           }
          ],
          "carpet": [
           {
            "aaxis": {
             "endlinecolor": "#A2B1C6",
             "gridcolor": "#506784",
             "linecolor": "#506784",
             "minorgridcolor": "#506784",
             "startlinecolor": "#A2B1C6"
            },
            "baxis": {
             "endlinecolor": "#A2B1C6",
             "gridcolor": "#506784",
             "linecolor": "#506784",
             "minorgridcolor": "#506784",
             "startlinecolor": "#A2B1C6"
            },
            "type": "carpet"
           }
          ],
          "choropleth": [
           {
            "colorbar": {
             "outlinewidth": 0,
             "ticks": ""
            },
            "type": "choropleth"
           }
          ],
          "contour": [
           {
            "colorbar": {
             "outlinewidth": 0,
             "ticks": ""
            },
            "colorscale": [
             [
              0,
              "#0d0887"
             ],
             [
              0.1111111111111111,
              "#46039f"
             ],
             [
              0.2222222222222222,
              "#7201a8"
             ],
             [
              0.3333333333333333,
              "#9c179e"
             ],
             [
              0.4444444444444444,
              "#bd3786"
             ],
             [
              0.5555555555555556,
              "#d8576b"
             ],
             [
              0.6666666666666666,
              "#ed7953"
             ],
             [
              0.7777777777777778,
              "#fb9f3a"
             ],
             [
              0.8888888888888888,
              "#fdca26"
             ],
             [
              1,
              "#f0f921"
             ]
            ],
            "type": "contour"
           }
          ],
          "contourcarpet": [
           {
            "colorbar": {
             "outlinewidth": 0,
             "ticks": ""
            },
            "type": "contourcarpet"
           }
          ],
          "heatmap": [
           {
            "colorbar": {
             "outlinewidth": 0,
             "ticks": ""
            },
            "colorscale": [
             [
              0,
              "#0d0887"
             ],
             [
              0.1111111111111111,
              "#46039f"
             ],
             [
              0.2222222222222222,
              "#7201a8"
             ],
             [
              0.3333333333333333,
              "#9c179e"
             ],
             [
              0.4444444444444444,
              "#bd3786"
             ],
             [
              0.5555555555555556,
              "#d8576b"
             ],
             [
              0.6666666666666666,
              "#ed7953"
             ],
             [
              0.7777777777777778,
              "#fb9f3a"
             ],
             [
              0.8888888888888888,
              "#fdca26"
             ],
             [
              1,
              "#f0f921"
             ]
            ],
            "type": "heatmap"
           }
          ],
          "heatmapgl": [
           {
            "colorbar": {
             "outlinewidth": 0,
             "ticks": ""
            },
            "colorscale": [
             [
              0,
              "#0d0887"
             ],
             [
              0.1111111111111111,
              "#46039f"
             ],
             [
              0.2222222222222222,
              "#7201a8"
             ],
             [
              0.3333333333333333,
              "#9c179e"
             ],
             [
              0.4444444444444444,
              "#bd3786"
             ],
             [
              0.5555555555555556,
              "#d8576b"
             ],
             [
              0.6666666666666666,
              "#ed7953"
             ],
             [
              0.7777777777777778,
              "#fb9f3a"
             ],
             [
              0.8888888888888888,
              "#fdca26"
             ],
             [
              1,
              "#f0f921"
             ]
            ],
            "type": "heatmapgl"
           }
          ],
          "histogram": [
           {
            "marker": {
             "pattern": {
              "fillmode": "overlay",
              "size": 10,
              "solidity": 0.2
             }
            },
            "type": "histogram"
           }
          ],
          "histogram2d": [
           {
            "colorbar": {
             "outlinewidth": 0,
             "ticks": ""
            },
            "colorscale": [
             [
              0,
              "#0d0887"
             ],
             [
              0.1111111111111111,
              "#46039f"
             ],
             [
              0.2222222222222222,
              "#7201a8"
             ],
             [
              0.3333333333333333,
              "#9c179e"
             ],
             [
              0.4444444444444444,
              "#bd3786"
             ],
             [
              0.5555555555555556,
              "#d8576b"
             ],
             [
              0.6666666666666666,
              "#ed7953"
             ],
             [
              0.7777777777777778,
              "#fb9f3a"
             ],
             [
              0.8888888888888888,
              "#fdca26"
             ],
             [
              1,
              "#f0f921"
             ]
            ],
            "type": "histogram2d"
           }
          ],
          "histogram2dcontour": [
           {
            "colorbar": {
             "outlinewidth": 0,
             "ticks": ""
            },
            "colorscale": [
             [
              0,
              "#0d0887"
             ],
             [
              0.1111111111111111,
              "#46039f"
             ],
             [
              0.2222222222222222,
              "#7201a8"
             ],
             [
              0.3333333333333333,
              "#9c179e"
             ],
             [
              0.4444444444444444,
              "#bd3786"
             ],
             [
              0.5555555555555556,
              "#d8576b"
             ],
             [
              0.6666666666666666,
              "#ed7953"
             ],
             [
              0.7777777777777778,
              "#fb9f3a"
             ],
             [
              0.8888888888888888,
              "#fdca26"
             ],
             [
              1,
              "#f0f921"
             ]
            ],
            "type": "histogram2dcontour"
           }
          ],
          "mesh3d": [
           {
            "colorbar": {
             "outlinewidth": 0,
             "ticks": ""
            },
            "type": "mesh3d"
           }
          ],
          "parcoords": [
           {
            "line": {
             "colorbar": {
              "outlinewidth": 0,
              "ticks": ""
             }
            },
            "type": "parcoords"
           }
          ],
          "pie": [
           {
            "automargin": true,
            "type": "pie"
           }
          ],
          "scatter": [
           {
            "marker": {
             "line": {
              "color": "#283442"
             }
            },
            "type": "scatter"
           }
          ],
          "scatter3d": [
           {
            "line": {
             "colorbar": {
              "outlinewidth": 0,
              "ticks": ""
             }
            },
            "marker": {
             "colorbar": {
              "outlinewidth": 0,
              "ticks": ""
             }
            },
            "type": "scatter3d"
           }
          ],
          "scattercarpet": [
           {
            "marker": {
             "colorbar": {
              "outlinewidth": 0,
              "ticks": ""
             }
            },
            "type": "scattercarpet"
           }
          ],
          "scattergeo": [
           {
            "marker": {
             "colorbar": {
              "outlinewidth": 0,
              "ticks": ""
             }
            },
            "type": "scattergeo"
           }
          ],
          "scattergl": [
           {
            "marker": {
             "line": {
              "color": "#283442"
             }
            },
            "type": "scattergl"
           }
          ],
          "scattermapbox": [
           {
            "marker": {
             "colorbar": {
              "outlinewidth": 0,
              "ticks": ""
             }
            },
            "type": "scattermapbox"
           }
          ],
          "scatterpolar": [
           {
            "marker": {
             "colorbar": {
              "outlinewidth": 0,
              "ticks": ""
             }
            },
            "type": "scatterpolar"
           }
          ],
          "scatterpolargl": [
           {
            "marker": {
             "colorbar": {
              "outlinewidth": 0,
              "ticks": ""
             }
            },
            "type": "scatterpolargl"
           }
          ],
          "scatterternary": [
           {
            "marker": {
             "colorbar": {
              "outlinewidth": 0,
              "ticks": ""
             }
            },
            "type": "scatterternary"
           }
          ],
          "surface": [
           {
            "colorbar": {
             "outlinewidth": 0,
             "ticks": ""
            },
            "colorscale": [
             [
              0,
              "#0d0887"
             ],
             [
              0.1111111111111111,
              "#46039f"
             ],
             [
              0.2222222222222222,
              "#7201a8"
             ],
             [
              0.3333333333333333,
              "#9c179e"
             ],
             [
              0.4444444444444444,
              "#bd3786"
             ],
             [
              0.5555555555555556,
              "#d8576b"
             ],
             [
              0.6666666666666666,
              "#ed7953"
             ],
             [
              0.7777777777777778,
              "#fb9f3a"
             ],
             [
              0.8888888888888888,
              "#fdca26"
             ],
             [
              1,
              "#f0f921"
             ]
            ],
            "type": "surface"
           }
          ],
          "table": [
           {
            "cells": {
             "fill": {
              "color": "#506784"
             },
             "line": {
              "color": "rgb(17,17,17)"
             }
            },
            "header": {
             "fill": {
              "color": "#2a3f5f"
             },
             "line": {
              "color": "rgb(17,17,17)"
             }
            },
            "type": "table"
           }
          ]
         },
         "layout": {
          "annotationdefaults": {
           "arrowcolor": "#f2f5fa",
           "arrowhead": 0,
           "arrowwidth": 1
          },
          "autotypenumbers": "strict",
          "coloraxis": {
           "colorbar": {
            "outlinewidth": 0,
            "ticks": ""
           }
          },
          "colorscale": {
           "diverging": [
            [
             0,
             "#8e0152"
            ],
            [
             0.1,
             "#c51b7d"
            ],
            [
             0.2,
             "#de77ae"
            ],
            [
             0.3,
             "#f1b6da"
            ],
            [
             0.4,
             "#fde0ef"
            ],
            [
             0.5,
             "#f7f7f7"
            ],
            [
             0.6,
             "#e6f5d0"
            ],
            [
             0.7,
             "#b8e186"
            ],
            [
             0.8,
             "#7fbc41"
            ],
            [
             0.9,
             "#4d9221"
            ],
            [
             1,
             "#276419"
            ]
           ],
           "sequential": [
            [
             0,
             "#0d0887"
            ],
            [
             0.1111111111111111,
             "#46039f"
            ],
            [
             0.2222222222222222,
             "#7201a8"
            ],
            [
             0.3333333333333333,
             "#9c179e"
            ],
            [
             0.4444444444444444,
             "#bd3786"
            ],
            [
             0.5555555555555556,
             "#d8576b"
            ],
            [
             0.6666666666666666,
             "#ed7953"
            ],
            [
             0.7777777777777778,
             "#fb9f3a"
            ],
            [
             0.8888888888888888,
             "#fdca26"
            ],
            [
             1,
             "#f0f921"
            ]
           ],
           "sequentialminus": [
            [
             0,
             "#0d0887"
            ],
            [
             0.1111111111111111,
             "#46039f"
            ],
            [
             0.2222222222222222,
             "#7201a8"
            ],
            [
             0.3333333333333333,
             "#9c179e"
            ],
            [
             0.4444444444444444,
             "#bd3786"
            ],
            [
             0.5555555555555556,
             "#d8576b"
            ],
            [
             0.6666666666666666,
             "#ed7953"
            ],
            [
             0.7777777777777778,
             "#fb9f3a"
            ],
            [
             0.8888888888888888,
             "#fdca26"
            ],
            [
             1,
             "#f0f921"
            ]
           ]
          },
          "colorway": [
           "#636efa",
           "#EF553B",
           "#00cc96",
           "#ab63fa",
           "#FFA15A",
           "#19d3f3",
           "#FF6692",
           "#B6E880",
           "#FF97FF",
           "#FECB52"
          ],
          "font": {
           "color": "#f2f5fa"
          },
          "geo": {
           "bgcolor": "rgb(17,17,17)",
           "lakecolor": "rgb(17,17,17)",
           "landcolor": "rgb(17,17,17)",
           "showlakes": true,
           "showland": true,
           "subunitcolor": "#506784"
          },
          "hoverlabel": {
           "align": "left"
          },
          "hovermode": "closest",
          "mapbox": {
           "style": "dark"
          },
          "paper_bgcolor": "rgb(17,17,17)",
          "plot_bgcolor": "rgb(17,17,17)",
          "polar": {
           "angularaxis": {
            "gridcolor": "#506784",
            "linecolor": "#506784",
            "ticks": ""
           },
           "bgcolor": "rgb(17,17,17)",
           "radialaxis": {
            "gridcolor": "#506784",
            "linecolor": "#506784",
            "ticks": ""
           }
          },
          "scene": {
           "xaxis": {
            "backgroundcolor": "rgb(17,17,17)",
            "gridcolor": "#506784",
            "gridwidth": 2,
            "linecolor": "#506784",
            "showbackground": true,
            "ticks": "",
            "zerolinecolor": "#C8D4E3"
           },
           "yaxis": {
            "backgroundcolor": "rgb(17,17,17)",
            "gridcolor": "#506784",
            "gridwidth": 2,
            "linecolor": "#506784",
            "showbackground": true,
            "ticks": "",
            "zerolinecolor": "#C8D4E3"
           },
           "zaxis": {
            "backgroundcolor": "rgb(17,17,17)",
            "gridcolor": "#506784",
            "gridwidth": 2,
            "linecolor": "#506784",
            "showbackground": true,
            "ticks": "",
            "zerolinecolor": "#C8D4E3"
           }
          },
          "shapedefaults": {
           "line": {
            "color": "#f2f5fa"
           }
          },
          "sliderdefaults": {
           "bgcolor": "#C8D4E3",
           "bordercolor": "rgb(17,17,17)",
           "borderwidth": 1,
           "tickwidth": 0
          },
          "ternary": {
           "aaxis": {
            "gridcolor": "#506784",
            "linecolor": "#506784",
            "ticks": ""
           },
           "baxis": {
            "gridcolor": "#506784",
            "linecolor": "#506784",
            "ticks": ""
           },
           "bgcolor": "rgb(17,17,17)",
           "caxis": {
            "gridcolor": "#506784",
            "linecolor": "#506784",
            "ticks": ""
           }
          },
          "title": {
           "x": 0.05
          },
          "updatemenudefaults": {
           "bgcolor": "#506784",
           "borderwidth": 0
          },
          "xaxis": {
           "automargin": true,
           "gridcolor": "#283442",
           "linecolor": "#506784",
           "ticks": "",
           "title": {
            "standoff": 15
           },
           "zerolinecolor": "#283442",
           "zerolinewidth": 2
          },
          "yaxis": {
           "automargin": true,
           "gridcolor": "#283442",
           "linecolor": "#506784",
           "ticks": "",
           "title": {
            "standoff": 15
           },
           "zerolinecolor": "#283442",
           "zerolinewidth": 2
          }
         }
        },
        "title": {
         "text": "Saldo a liquidar por PI"
        },
        "xaxis": {
         "anchor": "y",
         "domain": [
          0,
          1
         ],
         "title": {
          "text": "Tipo de PI"
         }
        },
        "yaxis": {
         "anchor": "x",
         "domain": [
          0,
          1
         ],
         "title": {
          "text": "Saldo a liquidar"
         },
         "type": "log"
        }
       }
      }
     },
     "metadata": {},
     "output_type": "display_data"
    }
   ],
   "source": [
    "# Saldo a liquidar por tipo de PI\n",
    "cols = ['NOME_PI', 'A_LIQUIDAR']\n",
    "\n",
    "df_aux = df.loc[:, cols].groupby('NOME_PI').sum().sort_values(by= 'A_LIQUIDAR', ascending=False).reset_index()\n",
    "df_aux = df_aux[df_aux['A_LIQUIDAR'] > 0]\n",
    "fig = px.bar(df_aux, \n",
    "             x='NOME_PI', \n",
    "             y='A_LIQUIDAR',\n",
    "             title='Saldo a liquidar por PI',\n",
    "             labels={'NOME_PI':'Tipo de PI', 'A_LIQUIDAR':'Saldo a liquidar'},\n",
    "             text_auto='.3s',\n",
    "             height=800,\n",
    "             log_y=True,\n",
    "             color='A_LIQUIDAR',\n",
    "             color_continuous_scale = 'reds',\n",
    "             template='plotly_dark')\n",
    "fig.update_traces(textposition = 'outside', cliponaxis = False, hovertemplate=None)\n",
    "fig.update_layout(hovermode=\"x unified\")\n",
    "\n",
    "fig.show()"
   ]
  },
  {
   "cell_type": "code",
   "execution_count": 8,
   "metadata": {},
   "outputs": [
    {
     "data": {
      "application/vnd.plotly.v1+json": {
       "config": {
        "plotlyServerURL": "https://plot.ly"
       },
       "data": [
        {
         "alignmentgroup": "True",
         "cliponaxis": false,
         "legendgroup": "",
         "marker": {
          "color": [
           5726519.72,
           501591.37
          ],
          "coloraxis": "coloraxis",
          "pattern": {
           "shape": ""
          }
         },
         "name": "",
         "offsetgroup": "",
         "orientation": "v",
         "showlegend": false,
         "textposition": "outside",
         "texttemplate": "%{y:.3s}",
         "type": "bar",
         "x": [
          "ANO",
          "RPNP"
         ],
         "xaxis": "x",
         "y": [
          5726519.72,
          501591.37
         ],
         "yaxis": "y"
        }
       ],
       "layout": {
        "barmode": "relative",
        "coloraxis": {
         "colorbar": {
          "title": {
           "text": "Saldo a liquidar"
          }
         },
         "colorscale": [
          [
           0,
           "rgb(255,245,240)"
          ],
          [
           0.125,
           "rgb(254,224,210)"
          ],
          [
           0.25,
           "rgb(252,187,161)"
          ],
          [
           0.375,
           "rgb(252,146,114)"
          ],
          [
           0.5,
           "rgb(251,106,74)"
          ],
          [
           0.625,
           "rgb(239,59,44)"
          ],
          [
           0.75,
           "rgb(203,24,29)"
          ],
          [
           0.875,
           "rgb(165,15,21)"
          ],
          [
           1,
           "rgb(103,0,13)"
          ]
         ]
        },
        "height": 400,
        "hovermode": "x unified",
        "legend": {
         "tracegroupgap": 0
        },
        "template": {
         "data": {
          "bar": [
           {
            "error_x": {
             "color": "#f2f5fa"
            },
            "error_y": {
             "color": "#f2f5fa"
            },
            "marker": {
             "line": {
              "color": "rgb(17,17,17)",
              "width": 0.5
             },
             "pattern": {
              "fillmode": "overlay",
              "size": 10,
              "solidity": 0.2
             }
            },
            "type": "bar"
           }
          ],
          "barpolar": [
           {
            "marker": {
             "line": {
              "color": "rgb(17,17,17)",
              "width": 0.5
             },
             "pattern": {
              "fillmode": "overlay",
              "size": 10,
              "solidity": 0.2
             }
            },
            "type": "barpolar"
           }
          ],
          "carpet": [
           {
            "aaxis": {
             "endlinecolor": "#A2B1C6",
             "gridcolor": "#506784",
             "linecolor": "#506784",
             "minorgridcolor": "#506784",
             "startlinecolor": "#A2B1C6"
            },
            "baxis": {
             "endlinecolor": "#A2B1C6",
             "gridcolor": "#506784",
             "linecolor": "#506784",
             "minorgridcolor": "#506784",
             "startlinecolor": "#A2B1C6"
            },
            "type": "carpet"
           }
          ],
          "choropleth": [
           {
            "colorbar": {
             "outlinewidth": 0,
             "ticks": ""
            },
            "type": "choropleth"
           }
          ],
          "contour": [
           {
            "colorbar": {
             "outlinewidth": 0,
             "ticks": ""
            },
            "colorscale": [
             [
              0,
              "#0d0887"
             ],
             [
              0.1111111111111111,
              "#46039f"
             ],
             [
              0.2222222222222222,
              "#7201a8"
             ],
             [
              0.3333333333333333,
              "#9c179e"
             ],
             [
              0.4444444444444444,
              "#bd3786"
             ],
             [
              0.5555555555555556,
              "#d8576b"
             ],
             [
              0.6666666666666666,
              "#ed7953"
             ],
             [
              0.7777777777777778,
              "#fb9f3a"
             ],
             [
              0.8888888888888888,
              "#fdca26"
             ],
             [
              1,
              "#f0f921"
             ]
            ],
            "type": "contour"
           }
          ],
          "contourcarpet": [
           {
            "colorbar": {
             "outlinewidth": 0,
             "ticks": ""
            },
            "type": "contourcarpet"
           }
          ],
          "heatmap": [
           {
            "colorbar": {
             "outlinewidth": 0,
             "ticks": ""
            },
            "colorscale": [
             [
              0,
              "#0d0887"
             ],
             [
              0.1111111111111111,
              "#46039f"
             ],
             [
              0.2222222222222222,
              "#7201a8"
             ],
             [
              0.3333333333333333,
              "#9c179e"
             ],
             [
              0.4444444444444444,
              "#bd3786"
             ],
             [
              0.5555555555555556,
              "#d8576b"
             ],
             [
              0.6666666666666666,
              "#ed7953"
             ],
             [
              0.7777777777777778,
              "#fb9f3a"
             ],
             [
              0.8888888888888888,
              "#fdca26"
             ],
             [
              1,
              "#f0f921"
             ]
            ],
            "type": "heatmap"
           }
          ],
          "heatmapgl": [
           {
            "colorbar": {
             "outlinewidth": 0,
             "ticks": ""
            },
            "colorscale": [
             [
              0,
              "#0d0887"
             ],
             [
              0.1111111111111111,
              "#46039f"
             ],
             [
              0.2222222222222222,
              "#7201a8"
             ],
             [
              0.3333333333333333,
              "#9c179e"
             ],
             [
              0.4444444444444444,
              "#bd3786"
             ],
             [
              0.5555555555555556,
              "#d8576b"
             ],
             [
              0.6666666666666666,
              "#ed7953"
             ],
             [
              0.7777777777777778,
              "#fb9f3a"
             ],
             [
              0.8888888888888888,
              "#fdca26"
             ],
             [
              1,
              "#f0f921"
             ]
            ],
            "type": "heatmapgl"
           }
          ],
          "histogram": [
           {
            "marker": {
             "pattern": {
              "fillmode": "overlay",
              "size": 10,
              "solidity": 0.2
             }
            },
            "type": "histogram"
           }
          ],
          "histogram2d": [
           {
            "colorbar": {
             "outlinewidth": 0,
             "ticks": ""
            },
            "colorscale": [
             [
              0,
              "#0d0887"
             ],
             [
              0.1111111111111111,
              "#46039f"
             ],
             [
              0.2222222222222222,
              "#7201a8"
             ],
             [
              0.3333333333333333,
              "#9c179e"
             ],
             [
              0.4444444444444444,
              "#bd3786"
             ],
             [
              0.5555555555555556,
              "#d8576b"
             ],
             [
              0.6666666666666666,
              "#ed7953"
             ],
             [
              0.7777777777777778,
              "#fb9f3a"
             ],
             [
              0.8888888888888888,
              "#fdca26"
             ],
             [
              1,
              "#f0f921"
             ]
            ],
            "type": "histogram2d"
           }
          ],
          "histogram2dcontour": [
           {
            "colorbar": {
             "outlinewidth": 0,
             "ticks": ""
            },
            "colorscale": [
             [
              0,
              "#0d0887"
             ],
             [
              0.1111111111111111,
              "#46039f"
             ],
             [
              0.2222222222222222,
              "#7201a8"
             ],
             [
              0.3333333333333333,
              "#9c179e"
             ],
             [
              0.4444444444444444,
              "#bd3786"
             ],
             [
              0.5555555555555556,
              "#d8576b"
             ],
             [
              0.6666666666666666,
              "#ed7953"
             ],
             [
              0.7777777777777778,
              "#fb9f3a"
             ],
             [
              0.8888888888888888,
              "#fdca26"
             ],
             [
              1,
              "#f0f921"
             ]
            ],
            "type": "histogram2dcontour"
           }
          ],
          "mesh3d": [
           {
            "colorbar": {
             "outlinewidth": 0,
             "ticks": ""
            },
            "type": "mesh3d"
           }
          ],
          "parcoords": [
           {
            "line": {
             "colorbar": {
              "outlinewidth": 0,
              "ticks": ""
             }
            },
            "type": "parcoords"
           }
          ],
          "pie": [
           {
            "automargin": true,
            "type": "pie"
           }
          ],
          "scatter": [
           {
            "marker": {
             "line": {
              "color": "#283442"
             }
            },
            "type": "scatter"
           }
          ],
          "scatter3d": [
           {
            "line": {
             "colorbar": {
              "outlinewidth": 0,
              "ticks": ""
             }
            },
            "marker": {
             "colorbar": {
              "outlinewidth": 0,
              "ticks": ""
             }
            },
            "type": "scatter3d"
           }
          ],
          "scattercarpet": [
           {
            "marker": {
             "colorbar": {
              "outlinewidth": 0,
              "ticks": ""
             }
            },
            "type": "scattercarpet"
           }
          ],
          "scattergeo": [
           {
            "marker": {
             "colorbar": {
              "outlinewidth": 0,
              "ticks": ""
             }
            },
            "type": "scattergeo"
           }
          ],
          "scattergl": [
           {
            "marker": {
             "line": {
              "color": "#283442"
             }
            },
            "type": "scattergl"
           }
          ],
          "scattermapbox": [
           {
            "marker": {
             "colorbar": {
              "outlinewidth": 0,
              "ticks": ""
             }
            },
            "type": "scattermapbox"
           }
          ],
          "scatterpolar": [
           {
            "marker": {
             "colorbar": {
              "outlinewidth": 0,
              "ticks": ""
             }
            },
            "type": "scatterpolar"
           }
          ],
          "scatterpolargl": [
           {
            "marker": {
             "colorbar": {
              "outlinewidth": 0,
              "ticks": ""
             }
            },
            "type": "scatterpolargl"
           }
          ],
          "scatterternary": [
           {
            "marker": {
             "colorbar": {
              "outlinewidth": 0,
              "ticks": ""
             }
            },
            "type": "scatterternary"
           }
          ],
          "surface": [
           {
            "colorbar": {
             "outlinewidth": 0,
             "ticks": ""
            },
            "colorscale": [
             [
              0,
              "#0d0887"
             ],
             [
              0.1111111111111111,
              "#46039f"
             ],
             [
              0.2222222222222222,
              "#7201a8"
             ],
             [
              0.3333333333333333,
              "#9c179e"
             ],
             [
              0.4444444444444444,
              "#bd3786"
             ],
             [
              0.5555555555555556,
              "#d8576b"
             ],
             [
              0.6666666666666666,
              "#ed7953"
             ],
             [
              0.7777777777777778,
              "#fb9f3a"
             ],
             [
              0.8888888888888888,
              "#fdca26"
             ],
             [
              1,
              "#f0f921"
             ]
            ],
            "type": "surface"
           }
          ],
          "table": [
           {
            "cells": {
             "fill": {
              "color": "#506784"
             },
             "line": {
              "color": "rgb(17,17,17)"
             }
            },
            "header": {
             "fill": {
              "color": "#2a3f5f"
             },
             "line": {
              "color": "rgb(17,17,17)"
             }
            },
            "type": "table"
           }
          ]
         },
         "layout": {
          "annotationdefaults": {
           "arrowcolor": "#f2f5fa",
           "arrowhead": 0,
           "arrowwidth": 1
          },
          "autotypenumbers": "strict",
          "coloraxis": {
           "colorbar": {
            "outlinewidth": 0,
            "ticks": ""
           }
          },
          "colorscale": {
           "diverging": [
            [
             0,
             "#8e0152"
            ],
            [
             0.1,
             "#c51b7d"
            ],
            [
             0.2,
             "#de77ae"
            ],
            [
             0.3,
             "#f1b6da"
            ],
            [
             0.4,
             "#fde0ef"
            ],
            [
             0.5,
             "#f7f7f7"
            ],
            [
             0.6,
             "#e6f5d0"
            ],
            [
             0.7,
             "#b8e186"
            ],
            [
             0.8,
             "#7fbc41"
            ],
            [
             0.9,
             "#4d9221"
            ],
            [
             1,
             "#276419"
            ]
           ],
           "sequential": [
            [
             0,
             "#0d0887"
            ],
            [
             0.1111111111111111,
             "#46039f"
            ],
            [
             0.2222222222222222,
             "#7201a8"
            ],
            [
             0.3333333333333333,
             "#9c179e"
            ],
            [
             0.4444444444444444,
             "#bd3786"
            ],
            [
             0.5555555555555556,
             "#d8576b"
            ],
            [
             0.6666666666666666,
             "#ed7953"
            ],
            [
             0.7777777777777778,
             "#fb9f3a"
            ],
            [
             0.8888888888888888,
             "#fdca26"
            ],
            [
             1,
             "#f0f921"
            ]
           ],
           "sequentialminus": [
            [
             0,
             "#0d0887"
            ],
            [
             0.1111111111111111,
             "#46039f"
            ],
            [
             0.2222222222222222,
             "#7201a8"
            ],
            [
             0.3333333333333333,
             "#9c179e"
            ],
            [
             0.4444444444444444,
             "#bd3786"
            ],
            [
             0.5555555555555556,
             "#d8576b"
            ],
            [
             0.6666666666666666,
             "#ed7953"
            ],
            [
             0.7777777777777778,
             "#fb9f3a"
            ],
            [
             0.8888888888888888,
             "#fdca26"
            ],
            [
             1,
             "#f0f921"
            ]
           ]
          },
          "colorway": [
           "#636efa",
           "#EF553B",
           "#00cc96",
           "#ab63fa",
           "#FFA15A",
           "#19d3f3",
           "#FF6692",
           "#B6E880",
           "#FF97FF",
           "#FECB52"
          ],
          "font": {
           "color": "#f2f5fa"
          },
          "geo": {
           "bgcolor": "rgb(17,17,17)",
           "lakecolor": "rgb(17,17,17)",
           "landcolor": "rgb(17,17,17)",
           "showlakes": true,
           "showland": true,
           "subunitcolor": "#506784"
          },
          "hoverlabel": {
           "align": "left"
          },
          "hovermode": "closest",
          "mapbox": {
           "style": "dark"
          },
          "paper_bgcolor": "rgb(17,17,17)",
          "plot_bgcolor": "rgb(17,17,17)",
          "polar": {
           "angularaxis": {
            "gridcolor": "#506784",
            "linecolor": "#506784",
            "ticks": ""
           },
           "bgcolor": "rgb(17,17,17)",
           "radialaxis": {
            "gridcolor": "#506784",
            "linecolor": "#506784",
            "ticks": ""
           }
          },
          "scene": {
           "xaxis": {
            "backgroundcolor": "rgb(17,17,17)",
            "gridcolor": "#506784",
            "gridwidth": 2,
            "linecolor": "#506784",
            "showbackground": true,
            "ticks": "",
            "zerolinecolor": "#C8D4E3"
           },
           "yaxis": {
            "backgroundcolor": "rgb(17,17,17)",
            "gridcolor": "#506784",
            "gridwidth": 2,
            "linecolor": "#506784",
            "showbackground": true,
            "ticks": "",
            "zerolinecolor": "#C8D4E3"
           },
           "zaxis": {
            "backgroundcolor": "rgb(17,17,17)",
            "gridcolor": "#506784",
            "gridwidth": 2,
            "linecolor": "#506784",
            "showbackground": true,
            "ticks": "",
            "zerolinecolor": "#C8D4E3"
           }
          },
          "shapedefaults": {
           "line": {
            "color": "#f2f5fa"
           }
          },
          "sliderdefaults": {
           "bgcolor": "#C8D4E3",
           "bordercolor": "rgb(17,17,17)",
           "borderwidth": 1,
           "tickwidth": 0
          },
          "ternary": {
           "aaxis": {
            "gridcolor": "#506784",
            "linecolor": "#506784",
            "ticks": ""
           },
           "baxis": {
            "gridcolor": "#506784",
            "linecolor": "#506784",
            "ticks": ""
           },
           "bgcolor": "rgb(17,17,17)",
           "caxis": {
            "gridcolor": "#506784",
            "linecolor": "#506784",
            "ticks": ""
           }
          },
          "title": {
           "x": 0.05
          },
          "updatemenudefaults": {
           "bgcolor": "#506784",
           "borderwidth": 0
          },
          "xaxis": {
           "automargin": true,
           "gridcolor": "#283442",
           "linecolor": "#506784",
           "ticks": "",
           "title": {
            "standoff": 15
           },
           "zerolinecolor": "#283442",
           "zerolinewidth": 2
          },
          "yaxis": {
           "automargin": true,
           "gridcolor": "#283442",
           "linecolor": "#506784",
           "ticks": "",
           "title": {
            "standoff": 15
           },
           "zerolinecolor": "#283442",
           "zerolinewidth": 2
          }
         }
        },
        "title": {
         "text": "Saldo a liquidar por tipo de empenho"
        },
        "xaxis": {
         "anchor": "y",
         "domain": [
          0,
          1
         ],
         "title": {
          "text": "Tipo de Empenho"
         }
        },
        "yaxis": {
         "anchor": "x",
         "domain": [
          0,
          1
         ],
         "title": {
          "text": "Saldo a liquidar"
         },
         "type": "log"
        }
       }
      }
     },
     "metadata": {},
     "output_type": "display_data"
    }
   ],
   "source": [
    "# Saldo a liquidar por tipo de Empenho\n",
    "cols = ['TIPO', 'A_LIQUIDAR']\n",
    "\n",
    "df_aux = df.loc[:, cols].groupby('TIPO').sum().sort_values(by= 'A_LIQUIDAR', ascending=False).reset_index()\n",
    "df_aux = df_aux[df_aux['A_LIQUIDAR'] > 0]\n",
    "fig = px.bar(df_aux, \n",
    "             x='TIPO', \n",
    "             y='A_LIQUIDAR',\n",
    "             title='Saldo a liquidar por tipo de empenho',\n",
    "             labels={'TIPO':'Tipo de Empenho', 'A_LIQUIDAR':'Saldo a liquidar'},\n",
    "             text_auto='.3s',\n",
    "             height=400,\n",
    "             log_y=True,\n",
    "             color='A_LIQUIDAR',\n",
    "             color_continuous_scale = 'reds',\n",
    "             template='plotly_dark')\n",
    "fig.update_traces(textposition = 'outside', cliponaxis = False, hovertemplate=None)\n",
    "fig.update_layout(hovermode=\"x unified\")\n",
    "\n",
    "fig.show()"
   ]
  },
  {
   "cell_type": "code",
   "execution_count": 9,
   "metadata": {},
   "outputs": [
    {
     "data": {
      "application/vnd.plotly.v1+json": {
       "config": {
        "plotlyServerURL": "https://plot.ly"
       },
       "data": [
        {
         "alignmentgroup": "True",
         "cliponaxis": false,
         "legendgroup": "",
         "marker": {
          "color": [
           5726519.72,
           501591.37
          ],
          "coloraxis": "coloraxis",
          "pattern": {
           "shape": ""
          }
         },
         "name": "",
         "offsetgroup": "",
         "orientation": "v",
         "showlegend": false,
         "textposition": "outside",
         "texttemplate": "%{y:.3s}",
         "type": "bar",
         "x": [
          "2023",
          "2022"
         ],
         "xaxis": "x",
         "y": [
          5726519.72,
          501591.37
         ],
         "yaxis": "y"
        }
       ],
       "layout": {
        "barmode": "relative",
        "coloraxis": {
         "colorbar": {
          "title": {
           "text": "Saldo a liquidar"
          }
         },
         "colorscale": [
          [
           0,
           "rgb(255,245,240)"
          ],
          [
           0.125,
           "rgb(254,224,210)"
          ],
          [
           0.25,
           "rgb(252,187,161)"
          ],
          [
           0.375,
           "rgb(252,146,114)"
          ],
          [
           0.5,
           "rgb(251,106,74)"
          ],
          [
           0.625,
           "rgb(239,59,44)"
          ],
          [
           0.75,
           "rgb(203,24,29)"
          ],
          [
           0.875,
           "rgb(165,15,21)"
          ],
          [
           1,
           "rgb(103,0,13)"
          ]
         ]
        },
        "height": 400,
        "hovermode": "x unified",
        "legend": {
         "tracegroupgap": 0
        },
        "template": {
         "data": {
          "bar": [
           {
            "error_x": {
             "color": "#f2f5fa"
            },
            "error_y": {
             "color": "#f2f5fa"
            },
            "marker": {
             "line": {
              "color": "rgb(17,17,17)",
              "width": 0.5
             },
             "pattern": {
              "fillmode": "overlay",
              "size": 10,
              "solidity": 0.2
             }
            },
            "type": "bar"
           }
          ],
          "barpolar": [
           {
            "marker": {
             "line": {
              "color": "rgb(17,17,17)",
              "width": 0.5
             },
             "pattern": {
              "fillmode": "overlay",
              "size": 10,
              "solidity": 0.2
             }
            },
            "type": "barpolar"
           }
          ],
          "carpet": [
           {
            "aaxis": {
             "endlinecolor": "#A2B1C6",
             "gridcolor": "#506784",
             "linecolor": "#506784",
             "minorgridcolor": "#506784",
             "startlinecolor": "#A2B1C6"
            },
            "baxis": {
             "endlinecolor": "#A2B1C6",
             "gridcolor": "#506784",
             "linecolor": "#506784",
             "minorgridcolor": "#506784",
             "startlinecolor": "#A2B1C6"
            },
            "type": "carpet"
           }
          ],
          "choropleth": [
           {
            "colorbar": {
             "outlinewidth": 0,
             "ticks": ""
            },
            "type": "choropleth"
           }
          ],
          "contour": [
           {
            "colorbar": {
             "outlinewidth": 0,
             "ticks": ""
            },
            "colorscale": [
             [
              0,
              "#0d0887"
             ],
             [
              0.1111111111111111,
              "#46039f"
             ],
             [
              0.2222222222222222,
              "#7201a8"
             ],
             [
              0.3333333333333333,
              "#9c179e"
             ],
             [
              0.4444444444444444,
              "#bd3786"
             ],
             [
              0.5555555555555556,
              "#d8576b"
             ],
             [
              0.6666666666666666,
              "#ed7953"
             ],
             [
              0.7777777777777778,
              "#fb9f3a"
             ],
             [
              0.8888888888888888,
              "#fdca26"
             ],
             [
              1,
              "#f0f921"
             ]
            ],
            "type": "contour"
           }
          ],
          "contourcarpet": [
           {
            "colorbar": {
             "outlinewidth": 0,
             "ticks": ""
            },
            "type": "contourcarpet"
           }
          ],
          "heatmap": [
           {
            "colorbar": {
             "outlinewidth": 0,
             "ticks": ""
            },
            "colorscale": [
             [
              0,
              "#0d0887"
             ],
             [
              0.1111111111111111,
              "#46039f"
             ],
             [
              0.2222222222222222,
              "#7201a8"
             ],
             [
              0.3333333333333333,
              "#9c179e"
             ],
             [
              0.4444444444444444,
              "#bd3786"
             ],
             [
              0.5555555555555556,
              "#d8576b"
             ],
             [
              0.6666666666666666,
              "#ed7953"
             ],
             [
              0.7777777777777778,
              "#fb9f3a"
             ],
             [
              0.8888888888888888,
              "#fdca26"
             ],
             [
              1,
              "#f0f921"
             ]
            ],
            "type": "heatmap"
           }
          ],
          "heatmapgl": [
           {
            "colorbar": {
             "outlinewidth": 0,
             "ticks": ""
            },
            "colorscale": [
             [
              0,
              "#0d0887"
             ],
             [
              0.1111111111111111,
              "#46039f"
             ],
             [
              0.2222222222222222,
              "#7201a8"
             ],
             [
              0.3333333333333333,
              "#9c179e"
             ],
             [
              0.4444444444444444,
              "#bd3786"
             ],
             [
              0.5555555555555556,
              "#d8576b"
             ],
             [
              0.6666666666666666,
              "#ed7953"
             ],
             [
              0.7777777777777778,
              "#fb9f3a"
             ],
             [
              0.8888888888888888,
              "#fdca26"
             ],
             [
              1,
              "#f0f921"
             ]
            ],
            "type": "heatmapgl"
           }
          ],
          "histogram": [
           {
            "marker": {
             "pattern": {
              "fillmode": "overlay",
              "size": 10,
              "solidity": 0.2
             }
            },
            "type": "histogram"
           }
          ],
          "histogram2d": [
           {
            "colorbar": {
             "outlinewidth": 0,
             "ticks": ""
            },
            "colorscale": [
             [
              0,
              "#0d0887"
             ],
             [
              0.1111111111111111,
              "#46039f"
             ],
             [
              0.2222222222222222,
              "#7201a8"
             ],
             [
              0.3333333333333333,
              "#9c179e"
             ],
             [
              0.4444444444444444,
              "#bd3786"
             ],
             [
              0.5555555555555556,
              "#d8576b"
             ],
             [
              0.6666666666666666,
              "#ed7953"
             ],
             [
              0.7777777777777778,
              "#fb9f3a"
             ],
             [
              0.8888888888888888,
              "#fdca26"
             ],
             [
              1,
              "#f0f921"
             ]
            ],
            "type": "histogram2d"
           }
          ],
          "histogram2dcontour": [
           {
            "colorbar": {
             "outlinewidth": 0,
             "ticks": ""
            },
            "colorscale": [
             [
              0,
              "#0d0887"
             ],
             [
              0.1111111111111111,
              "#46039f"
             ],
             [
              0.2222222222222222,
              "#7201a8"
             ],
             [
              0.3333333333333333,
              "#9c179e"
             ],
             [
              0.4444444444444444,
              "#bd3786"
             ],
             [
              0.5555555555555556,
              "#d8576b"
             ],
             [
              0.6666666666666666,
              "#ed7953"
             ],
             [
              0.7777777777777778,
              "#fb9f3a"
             ],
             [
              0.8888888888888888,
              "#fdca26"
             ],
             [
              1,
              "#f0f921"
             ]
            ],
            "type": "histogram2dcontour"
           }
          ],
          "mesh3d": [
           {
            "colorbar": {
             "outlinewidth": 0,
             "ticks": ""
            },
            "type": "mesh3d"
           }
          ],
          "parcoords": [
           {
            "line": {
             "colorbar": {
              "outlinewidth": 0,
              "ticks": ""
             }
            },
            "type": "parcoords"
           }
          ],
          "pie": [
           {
            "automargin": true,
            "type": "pie"
           }
          ],
          "scatter": [
           {
            "marker": {
             "line": {
              "color": "#283442"
             }
            },
            "type": "scatter"
           }
          ],
          "scatter3d": [
           {
            "line": {
             "colorbar": {
              "outlinewidth": 0,
              "ticks": ""
             }
            },
            "marker": {
             "colorbar": {
              "outlinewidth": 0,
              "ticks": ""
             }
            },
            "type": "scatter3d"
           }
          ],
          "scattercarpet": [
           {
            "marker": {
             "colorbar": {
              "outlinewidth": 0,
              "ticks": ""
             }
            },
            "type": "scattercarpet"
           }
          ],
          "scattergeo": [
           {
            "marker": {
             "colorbar": {
              "outlinewidth": 0,
              "ticks": ""
             }
            },
            "type": "scattergeo"
           }
          ],
          "scattergl": [
           {
            "marker": {
             "line": {
              "color": "#283442"
             }
            },
            "type": "scattergl"
           }
          ],
          "scattermapbox": [
           {
            "marker": {
             "colorbar": {
              "outlinewidth": 0,
              "ticks": ""
             }
            },
            "type": "scattermapbox"
           }
          ],
          "scatterpolar": [
           {
            "marker": {
             "colorbar": {
              "outlinewidth": 0,
              "ticks": ""
             }
            },
            "type": "scatterpolar"
           }
          ],
          "scatterpolargl": [
           {
            "marker": {
             "colorbar": {
              "outlinewidth": 0,
              "ticks": ""
             }
            },
            "type": "scatterpolargl"
           }
          ],
          "scatterternary": [
           {
            "marker": {
             "colorbar": {
              "outlinewidth": 0,
              "ticks": ""
             }
            },
            "type": "scatterternary"
           }
          ],
          "surface": [
           {
            "colorbar": {
             "outlinewidth": 0,
             "ticks": ""
            },
            "colorscale": [
             [
              0,
              "#0d0887"
             ],
             [
              0.1111111111111111,
              "#46039f"
             ],
             [
              0.2222222222222222,
              "#7201a8"
             ],
             [
              0.3333333333333333,
              "#9c179e"
             ],
             [
              0.4444444444444444,
              "#bd3786"
             ],
             [
              0.5555555555555556,
              "#d8576b"
             ],
             [
              0.6666666666666666,
              "#ed7953"
             ],
             [
              0.7777777777777778,
              "#fb9f3a"
             ],
             [
              0.8888888888888888,
              "#fdca26"
             ],
             [
              1,
              "#f0f921"
             ]
            ],
            "type": "surface"
           }
          ],
          "table": [
           {
            "cells": {
             "fill": {
              "color": "#506784"
             },
             "line": {
              "color": "rgb(17,17,17)"
             }
            },
            "header": {
             "fill": {
              "color": "#2a3f5f"
             },
             "line": {
              "color": "rgb(17,17,17)"
             }
            },
            "type": "table"
           }
          ]
         },
         "layout": {
          "annotationdefaults": {
           "arrowcolor": "#f2f5fa",
           "arrowhead": 0,
           "arrowwidth": 1
          },
          "autotypenumbers": "strict",
          "coloraxis": {
           "colorbar": {
            "outlinewidth": 0,
            "ticks": ""
           }
          },
          "colorscale": {
           "diverging": [
            [
             0,
             "#8e0152"
            ],
            [
             0.1,
             "#c51b7d"
            ],
            [
             0.2,
             "#de77ae"
            ],
            [
             0.3,
             "#f1b6da"
            ],
            [
             0.4,
             "#fde0ef"
            ],
            [
             0.5,
             "#f7f7f7"
            ],
            [
             0.6,
             "#e6f5d0"
            ],
            [
             0.7,
             "#b8e186"
            ],
            [
             0.8,
             "#7fbc41"
            ],
            [
             0.9,
             "#4d9221"
            ],
            [
             1,
             "#276419"
            ]
           ],
           "sequential": [
            [
             0,
             "#0d0887"
            ],
            [
             0.1111111111111111,
             "#46039f"
            ],
            [
             0.2222222222222222,
             "#7201a8"
            ],
            [
             0.3333333333333333,
             "#9c179e"
            ],
            [
             0.4444444444444444,
             "#bd3786"
            ],
            [
             0.5555555555555556,
             "#d8576b"
            ],
            [
             0.6666666666666666,
             "#ed7953"
            ],
            [
             0.7777777777777778,
             "#fb9f3a"
            ],
            [
             0.8888888888888888,
             "#fdca26"
            ],
            [
             1,
             "#f0f921"
            ]
           ],
           "sequentialminus": [
            [
             0,
             "#0d0887"
            ],
            [
             0.1111111111111111,
             "#46039f"
            ],
            [
             0.2222222222222222,
             "#7201a8"
            ],
            [
             0.3333333333333333,
             "#9c179e"
            ],
            [
             0.4444444444444444,
             "#bd3786"
            ],
            [
             0.5555555555555556,
             "#d8576b"
            ],
            [
             0.6666666666666666,
             "#ed7953"
            ],
            [
             0.7777777777777778,
             "#fb9f3a"
            ],
            [
             0.8888888888888888,
             "#fdca26"
            ],
            [
             1,
             "#f0f921"
            ]
           ]
          },
          "colorway": [
           "#636efa",
           "#EF553B",
           "#00cc96",
           "#ab63fa",
           "#FFA15A",
           "#19d3f3",
           "#FF6692",
           "#B6E880",
           "#FF97FF",
           "#FECB52"
          ],
          "font": {
           "color": "#f2f5fa"
          },
          "geo": {
           "bgcolor": "rgb(17,17,17)",
           "lakecolor": "rgb(17,17,17)",
           "landcolor": "rgb(17,17,17)",
           "showlakes": true,
           "showland": true,
           "subunitcolor": "#506784"
          },
          "hoverlabel": {
           "align": "left"
          },
          "hovermode": "closest",
          "mapbox": {
           "style": "dark"
          },
          "paper_bgcolor": "rgb(17,17,17)",
          "plot_bgcolor": "rgb(17,17,17)",
          "polar": {
           "angularaxis": {
            "gridcolor": "#506784",
            "linecolor": "#506784",
            "ticks": ""
           },
           "bgcolor": "rgb(17,17,17)",
           "radialaxis": {
            "gridcolor": "#506784",
            "linecolor": "#506784",
            "ticks": ""
           }
          },
          "scene": {
           "xaxis": {
            "backgroundcolor": "rgb(17,17,17)",
            "gridcolor": "#506784",
            "gridwidth": 2,
            "linecolor": "#506784",
            "showbackground": true,
            "ticks": "",
            "zerolinecolor": "#C8D4E3"
           },
           "yaxis": {
            "backgroundcolor": "rgb(17,17,17)",
            "gridcolor": "#506784",
            "gridwidth": 2,
            "linecolor": "#506784",
            "showbackground": true,
            "ticks": "",
            "zerolinecolor": "#C8D4E3"
           },
           "zaxis": {
            "backgroundcolor": "rgb(17,17,17)",
            "gridcolor": "#506784",
            "gridwidth": 2,
            "linecolor": "#506784",
            "showbackground": true,
            "ticks": "",
            "zerolinecolor": "#C8D4E3"
           }
          },
          "shapedefaults": {
           "line": {
            "color": "#f2f5fa"
           }
          },
          "sliderdefaults": {
           "bgcolor": "#C8D4E3",
           "bordercolor": "rgb(17,17,17)",
           "borderwidth": 1,
           "tickwidth": 0
          },
          "ternary": {
           "aaxis": {
            "gridcolor": "#506784",
            "linecolor": "#506784",
            "ticks": ""
           },
           "baxis": {
            "gridcolor": "#506784",
            "linecolor": "#506784",
            "ticks": ""
           },
           "bgcolor": "rgb(17,17,17)",
           "caxis": {
            "gridcolor": "#506784",
            "linecolor": "#506784",
            "ticks": ""
           }
          },
          "title": {
           "x": 0.05
          },
          "updatemenudefaults": {
           "bgcolor": "#506784",
           "borderwidth": 0
          },
          "xaxis": {
           "automargin": true,
           "gridcolor": "#283442",
           "linecolor": "#506784",
           "ticks": "",
           "title": {
            "standoff": 15
           },
           "zerolinecolor": "#283442",
           "zerolinewidth": 2
          },
          "yaxis": {
           "automargin": true,
           "gridcolor": "#283442",
           "linecolor": "#506784",
           "ticks": "",
           "title": {
            "standoff": 15
           },
           "zerolinecolor": "#283442",
           "zerolinewidth": 2
          }
         }
        },
        "title": {
         "text": "Saldo a liquidar por ano do empenho"
        },
        "xaxis": {
         "anchor": "y",
         "domain": [
          0,
          1
         ],
         "title": {
          "text": "Ano do Empenho"
         }
        },
        "yaxis": {
         "anchor": "x",
         "domain": [
          0,
          1
         ],
         "title": {
          "text": "Saldo a liquidar"
         },
         "type": "log"
        }
       }
      }
     },
     "metadata": {},
     "output_type": "display_data"
    }
   ],
   "source": [
    "# Saldo a liquidar por ano\n",
    "cols = ['ANO', 'A_LIQUIDAR']\n",
    "\n",
    "df_aux = df.loc[:, cols].groupby('ANO').sum().sort_values(by= 'A_LIQUIDAR', ascending=False).reset_index()\n",
    "df_aux = df_aux[df_aux['A_LIQUIDAR'] > 0]\n",
    "fig = px.bar(df_aux, \n",
    "             x='ANO', \n",
    "             y='A_LIQUIDAR',\n",
    "             title='Saldo a liquidar por ano do empenho',\n",
    "             labels={'ANO':'Ano do Empenho', 'A_LIQUIDAR':'Saldo a liquidar'},\n",
    "             text_auto='.3s',\n",
    "             height=400,\n",
    "             log_y=True,\n",
    "             color='A_LIQUIDAR',\n",
    "             color_continuous_scale = 'reds',\n",
    "             template='plotly_dark')\n",
    "fig.update_traces(textposition = 'outside', cliponaxis = False, hovertemplate=None)\n",
    "fig.update_layout(hovermode=\"x unified\")\n",
    "\n",
    "fig.show()"
   ]
  },
  {
   "cell_type": "code",
   "execution_count": 10,
   "metadata": {},
   "outputs": [
    {
     "data": {
      "application/vnd.plotly.v1+json": {
       "config": {
        "plotlyServerURL": "https://plot.ly"
       },
       "data": [
        {
         "alignmentgroup": "True",
         "cliponaxis": false,
         "legendgroup": "",
         "marker": {
          "color": [
           3358489,
           1524257.81,
           1345364.28
          ],
          "coloraxis": "coloraxis",
          "pattern": {
           "shape": ""
          }
         },
         "name": "",
         "offsetgroup": "",
         "orientation": "v",
         "showlegend": false,
         "textposition": "outside",
         "texttemplate": "%{y:.3s}",
         "type": "bar",
         "x": [
          "GLOBAL",
          "ESTIMATIVO",
          "ORDINARIO"
         ],
         "xaxis": "x",
         "y": [
          3358489,
          1524257.81,
          1345364.28
         ],
         "yaxis": "y"
        }
       ],
       "layout": {
        "barmode": "relative",
        "coloraxis": {
         "colorbar": {
          "title": {
           "text": "Saldo a liquidar"
          }
         },
         "colorscale": [
          [
           0,
           "rgb(255,245,240)"
          ],
          [
           0.125,
           "rgb(254,224,210)"
          ],
          [
           0.25,
           "rgb(252,187,161)"
          ],
          [
           0.375,
           "rgb(252,146,114)"
          ],
          [
           0.5,
           "rgb(251,106,74)"
          ],
          [
           0.625,
           "rgb(239,59,44)"
          ],
          [
           0.75,
           "rgb(203,24,29)"
          ],
          [
           0.875,
           "rgb(165,15,21)"
          ],
          [
           1,
           "rgb(103,0,13)"
          ]
         ]
        },
        "height": 400,
        "hovermode": "x unified",
        "legend": {
         "tracegroupgap": 0
        },
        "template": {
         "data": {
          "bar": [
           {
            "error_x": {
             "color": "#f2f5fa"
            },
            "error_y": {
             "color": "#f2f5fa"
            },
            "marker": {
             "line": {
              "color": "rgb(17,17,17)",
              "width": 0.5
             },
             "pattern": {
              "fillmode": "overlay",
              "size": 10,
              "solidity": 0.2
             }
            },
            "type": "bar"
           }
          ],
          "barpolar": [
           {
            "marker": {
             "line": {
              "color": "rgb(17,17,17)",
              "width": 0.5
             },
             "pattern": {
              "fillmode": "overlay",
              "size": 10,
              "solidity": 0.2
             }
            },
            "type": "barpolar"
           }
          ],
          "carpet": [
           {
            "aaxis": {
             "endlinecolor": "#A2B1C6",
             "gridcolor": "#506784",
             "linecolor": "#506784",
             "minorgridcolor": "#506784",
             "startlinecolor": "#A2B1C6"
            },
            "baxis": {
             "endlinecolor": "#A2B1C6",
             "gridcolor": "#506784",
             "linecolor": "#506784",
             "minorgridcolor": "#506784",
             "startlinecolor": "#A2B1C6"
            },
            "type": "carpet"
           }
          ],
          "choropleth": [
           {
            "colorbar": {
             "outlinewidth": 0,
             "ticks": ""
            },
            "type": "choropleth"
           }
          ],
          "contour": [
           {
            "colorbar": {
             "outlinewidth": 0,
             "ticks": ""
            },
            "colorscale": [
             [
              0,
              "#0d0887"
             ],
             [
              0.1111111111111111,
              "#46039f"
             ],
             [
              0.2222222222222222,
              "#7201a8"
             ],
             [
              0.3333333333333333,
              "#9c179e"
             ],
             [
              0.4444444444444444,
              "#bd3786"
             ],
             [
              0.5555555555555556,
              "#d8576b"
             ],
             [
              0.6666666666666666,
              "#ed7953"
             ],
             [
              0.7777777777777778,
              "#fb9f3a"
             ],
             [
              0.8888888888888888,
              "#fdca26"
             ],
             [
              1,
              "#f0f921"
             ]
            ],
            "type": "contour"
           }
          ],
          "contourcarpet": [
           {
            "colorbar": {
             "outlinewidth": 0,
             "ticks": ""
            },
            "type": "contourcarpet"
           }
          ],
          "heatmap": [
           {
            "colorbar": {
             "outlinewidth": 0,
             "ticks": ""
            },
            "colorscale": [
             [
              0,
              "#0d0887"
             ],
             [
              0.1111111111111111,
              "#46039f"
             ],
             [
              0.2222222222222222,
              "#7201a8"
             ],
             [
              0.3333333333333333,
              "#9c179e"
             ],
             [
              0.4444444444444444,
              "#bd3786"
             ],
             [
              0.5555555555555556,
              "#d8576b"
             ],
             [
              0.6666666666666666,
              "#ed7953"
             ],
             [
              0.7777777777777778,
              "#fb9f3a"
             ],
             [
              0.8888888888888888,
              "#fdca26"
             ],
             [
              1,
              "#f0f921"
             ]
            ],
            "type": "heatmap"
           }
          ],
          "heatmapgl": [
           {
            "colorbar": {
             "outlinewidth": 0,
             "ticks": ""
            },
            "colorscale": [
             [
              0,
              "#0d0887"
             ],
             [
              0.1111111111111111,
              "#46039f"
             ],
             [
              0.2222222222222222,
              "#7201a8"
             ],
             [
              0.3333333333333333,
              "#9c179e"
             ],
             [
              0.4444444444444444,
              "#bd3786"
             ],
             [
              0.5555555555555556,
              "#d8576b"
             ],
             [
              0.6666666666666666,
              "#ed7953"
             ],
             [
              0.7777777777777778,
              "#fb9f3a"
             ],
             [
              0.8888888888888888,
              "#fdca26"
             ],
             [
              1,
              "#f0f921"
             ]
            ],
            "type": "heatmapgl"
           }
          ],
          "histogram": [
           {
            "marker": {
             "pattern": {
              "fillmode": "overlay",
              "size": 10,
              "solidity": 0.2
             }
            },
            "type": "histogram"
           }
          ],
          "histogram2d": [
           {
            "colorbar": {
             "outlinewidth": 0,
             "ticks": ""
            },
            "colorscale": [
             [
              0,
              "#0d0887"
             ],
             [
              0.1111111111111111,
              "#46039f"
             ],
             [
              0.2222222222222222,
              "#7201a8"
             ],
             [
              0.3333333333333333,
              "#9c179e"
             ],
             [
              0.4444444444444444,
              "#bd3786"
             ],
             [
              0.5555555555555556,
              "#d8576b"
             ],
             [
              0.6666666666666666,
              "#ed7953"
             ],
             [
              0.7777777777777778,
              "#fb9f3a"
             ],
             [
              0.8888888888888888,
              "#fdca26"
             ],
             [
              1,
              "#f0f921"
             ]
            ],
            "type": "histogram2d"
           }
          ],
          "histogram2dcontour": [
           {
            "colorbar": {
             "outlinewidth": 0,
             "ticks": ""
            },
            "colorscale": [
             [
              0,
              "#0d0887"
             ],
             [
              0.1111111111111111,
              "#46039f"
             ],
             [
              0.2222222222222222,
              "#7201a8"
             ],
             [
              0.3333333333333333,
              "#9c179e"
             ],
             [
              0.4444444444444444,
              "#bd3786"
             ],
             [
              0.5555555555555556,
              "#d8576b"
             ],
             [
              0.6666666666666666,
              "#ed7953"
             ],
             [
              0.7777777777777778,
              "#fb9f3a"
             ],
             [
              0.8888888888888888,
              "#fdca26"
             ],
             [
              1,
              "#f0f921"
             ]
            ],
            "type": "histogram2dcontour"
           }
          ],
          "mesh3d": [
           {
            "colorbar": {
             "outlinewidth": 0,
             "ticks": ""
            },
            "type": "mesh3d"
           }
          ],
          "parcoords": [
           {
            "line": {
             "colorbar": {
              "outlinewidth": 0,
              "ticks": ""
             }
            },
            "type": "parcoords"
           }
          ],
          "pie": [
           {
            "automargin": true,
            "type": "pie"
           }
          ],
          "scatter": [
           {
            "marker": {
             "line": {
              "color": "#283442"
             }
            },
            "type": "scatter"
           }
          ],
          "scatter3d": [
           {
            "line": {
             "colorbar": {
              "outlinewidth": 0,
              "ticks": ""
             }
            },
            "marker": {
             "colorbar": {
              "outlinewidth": 0,
              "ticks": ""
             }
            },
            "type": "scatter3d"
           }
          ],
          "scattercarpet": [
           {
            "marker": {
             "colorbar": {
              "outlinewidth": 0,
              "ticks": ""
             }
            },
            "type": "scattercarpet"
           }
          ],
          "scattergeo": [
           {
            "marker": {
             "colorbar": {
              "outlinewidth": 0,
              "ticks": ""
             }
            },
            "type": "scattergeo"
           }
          ],
          "scattergl": [
           {
            "marker": {
             "line": {
              "color": "#283442"
             }
            },
            "type": "scattergl"
           }
          ],
          "scattermapbox": [
           {
            "marker": {
             "colorbar": {
              "outlinewidth": 0,
              "ticks": ""
             }
            },
            "type": "scattermapbox"
           }
          ],
          "scatterpolar": [
           {
            "marker": {
             "colorbar": {
              "outlinewidth": 0,
              "ticks": ""
             }
            },
            "type": "scatterpolar"
           }
          ],
          "scatterpolargl": [
           {
            "marker": {
             "colorbar": {
              "outlinewidth": 0,
              "ticks": ""
             }
            },
            "type": "scatterpolargl"
           }
          ],
          "scatterternary": [
           {
            "marker": {
             "colorbar": {
              "outlinewidth": 0,
              "ticks": ""
             }
            },
            "type": "scatterternary"
           }
          ],
          "surface": [
           {
            "colorbar": {
             "outlinewidth": 0,
             "ticks": ""
            },
            "colorscale": [
             [
              0,
              "#0d0887"
             ],
             [
              0.1111111111111111,
              "#46039f"
             ],
             [
              0.2222222222222222,
              "#7201a8"
             ],
             [
              0.3333333333333333,
              "#9c179e"
             ],
             [
              0.4444444444444444,
              "#bd3786"
             ],
             [
              0.5555555555555556,
              "#d8576b"
             ],
             [
              0.6666666666666666,
              "#ed7953"
             ],
             [
              0.7777777777777778,
              "#fb9f3a"
             ],
             [
              0.8888888888888888,
              "#fdca26"
             ],
             [
              1,
              "#f0f921"
             ]
            ],
            "type": "surface"
           }
          ],
          "table": [
           {
            "cells": {
             "fill": {
              "color": "#506784"
             },
             "line": {
              "color": "rgb(17,17,17)"
             }
            },
            "header": {
             "fill": {
              "color": "#2a3f5f"
             },
             "line": {
              "color": "rgb(17,17,17)"
             }
            },
            "type": "table"
           }
          ]
         },
         "layout": {
          "annotationdefaults": {
           "arrowcolor": "#f2f5fa",
           "arrowhead": 0,
           "arrowwidth": 1
          },
          "autotypenumbers": "strict",
          "coloraxis": {
           "colorbar": {
            "outlinewidth": 0,
            "ticks": ""
           }
          },
          "colorscale": {
           "diverging": [
            [
             0,
             "#8e0152"
            ],
            [
             0.1,
             "#c51b7d"
            ],
            [
             0.2,
             "#de77ae"
            ],
            [
             0.3,
             "#f1b6da"
            ],
            [
             0.4,
             "#fde0ef"
            ],
            [
             0.5,
             "#f7f7f7"
            ],
            [
             0.6,
             "#e6f5d0"
            ],
            [
             0.7,
             "#b8e186"
            ],
            [
             0.8,
             "#7fbc41"
            ],
            [
             0.9,
             "#4d9221"
            ],
            [
             1,
             "#276419"
            ]
           ],
           "sequential": [
            [
             0,
             "#0d0887"
            ],
            [
             0.1111111111111111,
             "#46039f"
            ],
            [
             0.2222222222222222,
             "#7201a8"
            ],
            [
             0.3333333333333333,
             "#9c179e"
            ],
            [
             0.4444444444444444,
             "#bd3786"
            ],
            [
             0.5555555555555556,
             "#d8576b"
            ],
            [
             0.6666666666666666,
             "#ed7953"
            ],
            [
             0.7777777777777778,
             "#fb9f3a"
            ],
            [
             0.8888888888888888,
             "#fdca26"
            ],
            [
             1,
             "#f0f921"
            ]
           ],
           "sequentialminus": [
            [
             0,
             "#0d0887"
            ],
            [
             0.1111111111111111,
             "#46039f"
            ],
            [
             0.2222222222222222,
             "#7201a8"
            ],
            [
             0.3333333333333333,
             "#9c179e"
            ],
            [
             0.4444444444444444,
             "#bd3786"
            ],
            [
             0.5555555555555556,
             "#d8576b"
            ],
            [
             0.6666666666666666,
             "#ed7953"
            ],
            [
             0.7777777777777778,
             "#fb9f3a"
            ],
            [
             0.8888888888888888,
             "#fdca26"
            ],
            [
             1,
             "#f0f921"
            ]
           ]
          },
          "colorway": [
           "#636efa",
           "#EF553B",
           "#00cc96",
           "#ab63fa",
           "#FFA15A",
           "#19d3f3",
           "#FF6692",
           "#B6E880",
           "#FF97FF",
           "#FECB52"
          ],
          "font": {
           "color": "#f2f5fa"
          },
          "geo": {
           "bgcolor": "rgb(17,17,17)",
           "lakecolor": "rgb(17,17,17)",
           "landcolor": "rgb(17,17,17)",
           "showlakes": true,
           "showland": true,
           "subunitcolor": "#506784"
          },
          "hoverlabel": {
           "align": "left"
          },
          "hovermode": "closest",
          "mapbox": {
           "style": "dark"
          },
          "paper_bgcolor": "rgb(17,17,17)",
          "plot_bgcolor": "rgb(17,17,17)",
          "polar": {
           "angularaxis": {
            "gridcolor": "#506784",
            "linecolor": "#506784",
            "ticks": ""
           },
           "bgcolor": "rgb(17,17,17)",
           "radialaxis": {
            "gridcolor": "#506784",
            "linecolor": "#506784",
            "ticks": ""
           }
          },
          "scene": {
           "xaxis": {
            "backgroundcolor": "rgb(17,17,17)",
            "gridcolor": "#506784",
            "gridwidth": 2,
            "linecolor": "#506784",
            "showbackground": true,
            "ticks": "",
            "zerolinecolor": "#C8D4E3"
           },
           "yaxis": {
            "backgroundcolor": "rgb(17,17,17)",
            "gridcolor": "#506784",
            "gridwidth": 2,
            "linecolor": "#506784",
            "showbackground": true,
            "ticks": "",
            "zerolinecolor": "#C8D4E3"
           },
           "zaxis": {
            "backgroundcolor": "rgb(17,17,17)",
            "gridcolor": "#506784",
            "gridwidth": 2,
            "linecolor": "#506784",
            "showbackground": true,
            "ticks": "",
            "zerolinecolor": "#C8D4E3"
           }
          },
          "shapedefaults": {
           "line": {
            "color": "#f2f5fa"
           }
          },
          "sliderdefaults": {
           "bgcolor": "#C8D4E3",
           "bordercolor": "rgb(17,17,17)",
           "borderwidth": 1,
           "tickwidth": 0
          },
          "ternary": {
           "aaxis": {
            "gridcolor": "#506784",
            "linecolor": "#506784",
            "ticks": ""
           },
           "baxis": {
            "gridcolor": "#506784",
            "linecolor": "#506784",
            "ticks": ""
           },
           "bgcolor": "rgb(17,17,17)",
           "caxis": {
            "gridcolor": "#506784",
            "linecolor": "#506784",
            "ticks": ""
           }
          },
          "title": {
           "x": 0.05
          },
          "updatemenudefaults": {
           "bgcolor": "#506784",
           "borderwidth": 0
          },
          "xaxis": {
           "automargin": true,
           "gridcolor": "#283442",
           "linecolor": "#506784",
           "ticks": "",
           "title": {
            "standoff": 15
           },
           "zerolinecolor": "#283442",
           "zerolinewidth": 2
          },
          "yaxis": {
           "automargin": true,
           "gridcolor": "#283442",
           "linecolor": "#506784",
           "ticks": "",
           "title": {
            "standoff": 15
           },
           "zerolinecolor": "#283442",
           "zerolinewidth": 2
          }
         }
        },
        "title": {
         "text": "Saldo a liquidar por ano do empenho"
        },
        "xaxis": {
         "anchor": "y",
         "domain": [
          0,
          1
         ],
         "title": {
          "text": "Tipo de Nota de Empenho"
         }
        },
        "yaxis": {
         "anchor": "x",
         "domain": [
          0,
          1
         ],
         "title": {
          "text": "Saldo a liquidar"
         },
         "type": "log"
        }
       }
      }
     },
     "metadata": {},
     "output_type": "display_data"
    }
   ],
   "source": [
    "# Saldo a liquidar por tipo de NE\n",
    "cols = ['TIPO_NE', 'A_LIQUIDAR']\n",
    "\n",
    "df_aux = df.loc[:, cols].groupby('TIPO_NE').sum().sort_values(by= 'A_LIQUIDAR', ascending=False).reset_index()\n",
    "df_aux = df_aux[df_aux['A_LIQUIDAR'] > 0]\n",
    "fig = px.bar(df_aux, \n",
    "             x='TIPO_NE', \n",
    "             y='A_LIQUIDAR',\n",
    "             title='Saldo a liquidar por ano do empenho',\n",
    "             labels={'TIPO_NE':'Tipo de Nota de Empenho', 'A_LIQUIDAR':'Saldo a liquidar'},\n",
    "             text_auto='.3s',\n",
    "             height=400,\n",
    "             log_y=True,\n",
    "             color='A_LIQUIDAR',\n",
    "             color_continuous_scale = 'reds',\n",
    "             template='plotly_dark')\n",
    "fig.update_traces(textposition = 'outside', cliponaxis = False, hovertemplate=None)\n",
    "fig.update_layout(hovermode=\"x unified\")\n",
    "\n",
    "fig.show()"
   ]
  },
  {
   "cell_type": "code",
   "execution_count": 11,
   "metadata": {},
   "outputs": [
    {
     "data": {
      "application/vnd.plotly.v1+json": {
       "config": {
        "plotlyServerURL": "https://plot.ly"
       },
       "data": [
        {
         "alignmentgroup": "True",
         "cliponaxis": false,
         "legendgroup": "",
         "marker": {
          "color": [
           1054054.88,
           1049740.61,
           1030829.3600000001,
           908090.47,
           897518.15,
           686544.63,
           534681.25,
           18147.11,
           11404.89,
           8645,
           1938.11,
           1433.53
          ],
          "coloraxis": "coloraxis",
          "pattern": {
           "shape": ""
          }
         },
         "name": "",
         "offsetgroup": "",
         "orientation": "v",
         "showlegend": false,
         "textposition": "outside",
         "texttemplate": "%{y:.3s}",
         "type": "bar",
         "x": [
          "DGO",
          "DGP",
          "DEC-GESTOR",
          "DECEX/GESTOR",
          "DECEX - GESTOR",
          "COEX/GESTOR",
          "ESA",
          "GAB CMT EX - GESTOR",
          "COEX - GESTOR",
          "DCT - GESTOR",
          "COTER - GESTOR",
          "DEORF/MD"
         ],
         "xaxis": "x",
         "y": [
          1054054.88,
          1049740.61,
          1030829.3600000001,
          908090.47,
          897518.15,
          686544.63,
          534681.25,
          18147.11,
          11404.89,
          8645,
          1938.11,
          1433.53
         ],
         "yaxis": "y"
        }
       ],
       "layout": {
        "barmode": "relative",
        "coloraxis": {
         "colorbar": {
          "title": {
           "text": "Saldo a liquidar"
          }
         },
         "colorscale": [
          [
           0,
           "rgb(255,245,240)"
          ],
          [
           0.125,
           "rgb(254,224,210)"
          ],
          [
           0.25,
           "rgb(252,187,161)"
          ],
          [
           0.375,
           "rgb(252,146,114)"
          ],
          [
           0.5,
           "rgb(251,106,74)"
          ],
          [
           0.625,
           "rgb(239,59,44)"
          ],
          [
           0.75,
           "rgb(203,24,29)"
          ],
          [
           0.875,
           "rgb(165,15,21)"
          ],
          [
           1,
           "rgb(103,0,13)"
          ]
         ]
        },
        "height": 400,
        "hovermode": "x unified",
        "legend": {
         "tracegroupgap": 0
        },
        "template": {
         "data": {
          "bar": [
           {
            "error_x": {
             "color": "#f2f5fa"
            },
            "error_y": {
             "color": "#f2f5fa"
            },
            "marker": {
             "line": {
              "color": "rgb(17,17,17)",
              "width": 0.5
             },
             "pattern": {
              "fillmode": "overlay",
              "size": 10,
              "solidity": 0.2
             }
            },
            "type": "bar"
           }
          ],
          "barpolar": [
           {
            "marker": {
             "line": {
              "color": "rgb(17,17,17)",
              "width": 0.5
             },
             "pattern": {
              "fillmode": "overlay",
              "size": 10,
              "solidity": 0.2
             }
            },
            "type": "barpolar"
           }
          ],
          "carpet": [
           {
            "aaxis": {
             "endlinecolor": "#A2B1C6",
             "gridcolor": "#506784",
             "linecolor": "#506784",
             "minorgridcolor": "#506784",
             "startlinecolor": "#A2B1C6"
            },
            "baxis": {
             "endlinecolor": "#A2B1C6",
             "gridcolor": "#506784",
             "linecolor": "#506784",
             "minorgridcolor": "#506784",
             "startlinecolor": "#A2B1C6"
            },
            "type": "carpet"
           }
          ],
          "choropleth": [
           {
            "colorbar": {
             "outlinewidth": 0,
             "ticks": ""
            },
            "type": "choropleth"
           }
          ],
          "contour": [
           {
            "colorbar": {
             "outlinewidth": 0,
             "ticks": ""
            },
            "colorscale": [
             [
              0,
              "#0d0887"
             ],
             [
              0.1111111111111111,
              "#46039f"
             ],
             [
              0.2222222222222222,
              "#7201a8"
             ],
             [
              0.3333333333333333,
              "#9c179e"
             ],
             [
              0.4444444444444444,
              "#bd3786"
             ],
             [
              0.5555555555555556,
              "#d8576b"
             ],
             [
              0.6666666666666666,
              "#ed7953"
             ],
             [
              0.7777777777777778,
              "#fb9f3a"
             ],
             [
              0.8888888888888888,
              "#fdca26"
             ],
             [
              1,
              "#f0f921"
             ]
            ],
            "type": "contour"
           }
          ],
          "contourcarpet": [
           {
            "colorbar": {
             "outlinewidth": 0,
             "ticks": ""
            },
            "type": "contourcarpet"
           }
          ],
          "heatmap": [
           {
            "colorbar": {
             "outlinewidth": 0,
             "ticks": ""
            },
            "colorscale": [
             [
              0,
              "#0d0887"
             ],
             [
              0.1111111111111111,
              "#46039f"
             ],
             [
              0.2222222222222222,
              "#7201a8"
             ],
             [
              0.3333333333333333,
              "#9c179e"
             ],
             [
              0.4444444444444444,
              "#bd3786"
             ],
             [
              0.5555555555555556,
              "#d8576b"
             ],
             [
              0.6666666666666666,
              "#ed7953"
             ],
             [
              0.7777777777777778,
              "#fb9f3a"
             ],
             [
              0.8888888888888888,
              "#fdca26"
             ],
             [
              1,
              "#f0f921"
             ]
            ],
            "type": "heatmap"
           }
          ],
          "heatmapgl": [
           {
            "colorbar": {
             "outlinewidth": 0,
             "ticks": ""
            },
            "colorscale": [
             [
              0,
              "#0d0887"
             ],
             [
              0.1111111111111111,
              "#46039f"
             ],
             [
              0.2222222222222222,
              "#7201a8"
             ],
             [
              0.3333333333333333,
              "#9c179e"
             ],
             [
              0.4444444444444444,
              "#bd3786"
             ],
             [
              0.5555555555555556,
              "#d8576b"
             ],
             [
              0.6666666666666666,
              "#ed7953"
             ],
             [
              0.7777777777777778,
              "#fb9f3a"
             ],
             [
              0.8888888888888888,
              "#fdca26"
             ],
             [
              1,
              "#f0f921"
             ]
            ],
            "type": "heatmapgl"
           }
          ],
          "histogram": [
           {
            "marker": {
             "pattern": {
              "fillmode": "overlay",
              "size": 10,
              "solidity": 0.2
             }
            },
            "type": "histogram"
           }
          ],
          "histogram2d": [
           {
            "colorbar": {
             "outlinewidth": 0,
             "ticks": ""
            },
            "colorscale": [
             [
              0,
              "#0d0887"
             ],
             [
              0.1111111111111111,
              "#46039f"
             ],
             [
              0.2222222222222222,
              "#7201a8"
             ],
             [
              0.3333333333333333,
              "#9c179e"
             ],
             [
              0.4444444444444444,
              "#bd3786"
             ],
             [
              0.5555555555555556,
              "#d8576b"
             ],
             [
              0.6666666666666666,
              "#ed7953"
             ],
             [
              0.7777777777777778,
              "#fb9f3a"
             ],
             [
              0.8888888888888888,
              "#fdca26"
             ],
             [
              1,
              "#f0f921"
             ]
            ],
            "type": "histogram2d"
           }
          ],
          "histogram2dcontour": [
           {
            "colorbar": {
             "outlinewidth": 0,
             "ticks": ""
            },
            "colorscale": [
             [
              0,
              "#0d0887"
             ],
             [
              0.1111111111111111,
              "#46039f"
             ],
             [
              0.2222222222222222,
              "#7201a8"
             ],
             [
              0.3333333333333333,
              "#9c179e"
             ],
             [
              0.4444444444444444,
              "#bd3786"
             ],
             [
              0.5555555555555556,
              "#d8576b"
             ],
             [
              0.6666666666666666,
              "#ed7953"
             ],
             [
              0.7777777777777778,
              "#fb9f3a"
             ],
             [
              0.8888888888888888,
              "#fdca26"
             ],
             [
              1,
              "#f0f921"
             ]
            ],
            "type": "histogram2dcontour"
           }
          ],
          "mesh3d": [
           {
            "colorbar": {
             "outlinewidth": 0,
             "ticks": ""
            },
            "type": "mesh3d"
           }
          ],
          "parcoords": [
           {
            "line": {
             "colorbar": {
              "outlinewidth": 0,
              "ticks": ""
             }
            },
            "type": "parcoords"
           }
          ],
          "pie": [
           {
            "automargin": true,
            "type": "pie"
           }
          ],
          "scatter": [
           {
            "marker": {
             "line": {
              "color": "#283442"
             }
            },
            "type": "scatter"
           }
          ],
          "scatter3d": [
           {
            "line": {
             "colorbar": {
              "outlinewidth": 0,
              "ticks": ""
             }
            },
            "marker": {
             "colorbar": {
              "outlinewidth": 0,
              "ticks": ""
             }
            },
            "type": "scatter3d"
           }
          ],
          "scattercarpet": [
           {
            "marker": {
             "colorbar": {
              "outlinewidth": 0,
              "ticks": ""
             }
            },
            "type": "scattercarpet"
           }
          ],
          "scattergeo": [
           {
            "marker": {
             "colorbar": {
              "outlinewidth": 0,
              "ticks": ""
             }
            },
            "type": "scattergeo"
           }
          ],
          "scattergl": [
           {
            "marker": {
             "line": {
              "color": "#283442"
             }
            },
            "type": "scattergl"
           }
          ],
          "scattermapbox": [
           {
            "marker": {
             "colorbar": {
              "outlinewidth": 0,
              "ticks": ""
             }
            },
            "type": "scattermapbox"
           }
          ],
          "scatterpolar": [
           {
            "marker": {
             "colorbar": {
              "outlinewidth": 0,
              "ticks": ""
             }
            },
            "type": "scatterpolar"
           }
          ],
          "scatterpolargl": [
           {
            "marker": {
             "colorbar": {
              "outlinewidth": 0,
              "ticks": ""
             }
            },
            "type": "scatterpolargl"
           }
          ],
          "scatterternary": [
           {
            "marker": {
             "colorbar": {
              "outlinewidth": 0,
              "ticks": ""
             }
            },
            "type": "scatterternary"
           }
          ],
          "surface": [
           {
            "colorbar": {
             "outlinewidth": 0,
             "ticks": ""
            },
            "colorscale": [
             [
              0,
              "#0d0887"
             ],
             [
              0.1111111111111111,
              "#46039f"
             ],
             [
              0.2222222222222222,
              "#7201a8"
             ],
             [
              0.3333333333333333,
              "#9c179e"
             ],
             [
              0.4444444444444444,
              "#bd3786"
             ],
             [
              0.5555555555555556,
              "#d8576b"
             ],
             [
              0.6666666666666666,
              "#ed7953"
             ],
             [
              0.7777777777777778,
              "#fb9f3a"
             ],
             [
              0.8888888888888888,
              "#fdca26"
             ],
             [
              1,
              "#f0f921"
             ]
            ],
            "type": "surface"
           }
          ],
          "table": [
           {
            "cells": {
             "fill": {
              "color": "#506784"
             },
             "line": {
              "color": "rgb(17,17,17)"
             }
            },
            "header": {
             "fill": {
              "color": "#2a3f5f"
             },
             "line": {
              "color": "rgb(17,17,17)"
             }
            },
            "type": "table"
           }
          ]
         },
         "layout": {
          "annotationdefaults": {
           "arrowcolor": "#f2f5fa",
           "arrowhead": 0,
           "arrowwidth": 1
          },
          "autotypenumbers": "strict",
          "coloraxis": {
           "colorbar": {
            "outlinewidth": 0,
            "ticks": ""
           }
          },
          "colorscale": {
           "diverging": [
            [
             0,
             "#8e0152"
            ],
            [
             0.1,
             "#c51b7d"
            ],
            [
             0.2,
             "#de77ae"
            ],
            [
             0.3,
             "#f1b6da"
            ],
            [
             0.4,
             "#fde0ef"
            ],
            [
             0.5,
             "#f7f7f7"
            ],
            [
             0.6,
             "#e6f5d0"
            ],
            [
             0.7,
             "#b8e186"
            ],
            [
             0.8,
             "#7fbc41"
            ],
            [
             0.9,
             "#4d9221"
            ],
            [
             1,
             "#276419"
            ]
           ],
           "sequential": [
            [
             0,
             "#0d0887"
            ],
            [
             0.1111111111111111,
             "#46039f"
            ],
            [
             0.2222222222222222,
             "#7201a8"
            ],
            [
             0.3333333333333333,
             "#9c179e"
            ],
            [
             0.4444444444444444,
             "#bd3786"
            ],
            [
             0.5555555555555556,
             "#d8576b"
            ],
            [
             0.6666666666666666,
             "#ed7953"
            ],
            [
             0.7777777777777778,
             "#fb9f3a"
            ],
            [
             0.8888888888888888,
             "#fdca26"
            ],
            [
             1,
             "#f0f921"
            ]
           ],
           "sequentialminus": [
            [
             0,
             "#0d0887"
            ],
            [
             0.1111111111111111,
             "#46039f"
            ],
            [
             0.2222222222222222,
             "#7201a8"
            ],
            [
             0.3333333333333333,
             "#9c179e"
            ],
            [
             0.4444444444444444,
             "#bd3786"
            ],
            [
             0.5555555555555556,
             "#d8576b"
            ],
            [
             0.6666666666666666,
             "#ed7953"
            ],
            [
             0.7777777777777778,
             "#fb9f3a"
            ],
            [
             0.8888888888888888,
             "#fdca26"
            ],
            [
             1,
             "#f0f921"
            ]
           ]
          },
          "colorway": [
           "#636efa",
           "#EF553B",
           "#00cc96",
           "#ab63fa",
           "#FFA15A",
           "#19d3f3",
           "#FF6692",
           "#B6E880",
           "#FF97FF",
           "#FECB52"
          ],
          "font": {
           "color": "#f2f5fa"
          },
          "geo": {
           "bgcolor": "rgb(17,17,17)",
           "lakecolor": "rgb(17,17,17)",
           "landcolor": "rgb(17,17,17)",
           "showlakes": true,
           "showland": true,
           "subunitcolor": "#506784"
          },
          "hoverlabel": {
           "align": "left"
          },
          "hovermode": "closest",
          "mapbox": {
           "style": "dark"
          },
          "paper_bgcolor": "rgb(17,17,17)",
          "plot_bgcolor": "rgb(17,17,17)",
          "polar": {
           "angularaxis": {
            "gridcolor": "#506784",
            "linecolor": "#506784",
            "ticks": ""
           },
           "bgcolor": "rgb(17,17,17)",
           "radialaxis": {
            "gridcolor": "#506784",
            "linecolor": "#506784",
            "ticks": ""
           }
          },
          "scene": {
           "xaxis": {
            "backgroundcolor": "rgb(17,17,17)",
            "gridcolor": "#506784",
            "gridwidth": 2,
            "linecolor": "#506784",
            "showbackground": true,
            "ticks": "",
            "zerolinecolor": "#C8D4E3"
           },
           "yaxis": {
            "backgroundcolor": "rgb(17,17,17)",
            "gridcolor": "#506784",
            "gridwidth": 2,
            "linecolor": "#506784",
            "showbackground": true,
            "ticks": "",
            "zerolinecolor": "#C8D4E3"
           },
           "zaxis": {
            "backgroundcolor": "rgb(17,17,17)",
            "gridcolor": "#506784",
            "gridwidth": 2,
            "linecolor": "#506784",
            "showbackground": true,
            "ticks": "",
            "zerolinecolor": "#C8D4E3"
           }
          },
          "shapedefaults": {
           "line": {
            "color": "#f2f5fa"
           }
          },
          "sliderdefaults": {
           "bgcolor": "#C8D4E3",
           "bordercolor": "rgb(17,17,17)",
           "borderwidth": 1,
           "tickwidth": 0
          },
          "ternary": {
           "aaxis": {
            "gridcolor": "#506784",
            "linecolor": "#506784",
            "ticks": ""
           },
           "baxis": {
            "gridcolor": "#506784",
            "linecolor": "#506784",
            "ticks": ""
           },
           "bgcolor": "rgb(17,17,17)",
           "caxis": {
            "gridcolor": "#506784",
            "linecolor": "#506784",
            "ticks": ""
           }
          },
          "title": {
           "x": 0.05
          },
          "updatemenudefaults": {
           "bgcolor": "#506784",
           "borderwidth": 0
          },
          "xaxis": {
           "automargin": true,
           "gridcolor": "#283442",
           "linecolor": "#506784",
           "ticks": "",
           "title": {
            "standoff": 15
           },
           "zerolinecolor": "#283442",
           "zerolinewidth": 2
          },
          "yaxis": {
           "automargin": true,
           "gridcolor": "#283442",
           "linecolor": "#506784",
           "ticks": "",
           "title": {
            "standoff": 15
           },
           "zerolinecolor": "#283442",
           "zerolinewidth": 2
          }
         }
        },
        "title": {
         "text": "Saldo a liquidar por ano do empenho"
        },
        "xaxis": {
         "anchor": "y",
         "domain": [
          0,
          1
         ],
         "title": {
          "text": "Nome das UGR"
         }
        },
        "yaxis": {
         "anchor": "x",
         "domain": [
          0,
          1
         ],
         "title": {
          "text": "Saldo a liquidar"
         },
         "type": "log"
        }
       }
      }
     },
     "metadata": {},
     "output_type": "display_data"
    }
   ],
   "source": [
    "# Saldo a liquidar por tipo de NE\n",
    "cols = ['NOME_UGR', 'A_LIQUIDAR']\n",
    "\n",
    "df_aux = df.loc[:, cols].groupby('NOME_UGR').sum().sort_values(by= 'A_LIQUIDAR', ascending=False).reset_index()\n",
    "df_aux = df_aux[df_aux['A_LIQUIDAR'] > 0]\n",
    "fig = px.bar(df_aux, \n",
    "             x='NOME_UGR', \n",
    "             y='A_LIQUIDAR',\n",
    "             title='Saldo a liquidar por ano do empenho',\n",
    "             labels={'NOME_UGR':'Nome das UGR', 'A_LIQUIDAR':'Saldo a liquidar'},\n",
    "             text_auto='.3s',\n",
    "             height=400,\n",
    "             log_y=True,\n",
    "             color='A_LIQUIDAR',\n",
    "             color_continuous_scale = 'reds',\n",
    "             template='plotly_dark')\n",
    "fig.update_traces(textposition = 'outside', cliponaxis = False, hovertemplate=None)\n",
    "fig.update_layout(hovermode=\"x unified\")\n",
    "\n",
    "fig.show()"
   ]
  },
  {
   "cell_type": "code",
   "execution_count": 12,
   "metadata": {},
   "outputs": [
    {
     "data": {
      "application/vnd.plotly.v1+json": {
       "config": {
        "plotlyServerURL": "https://plot.ly"
       },
       "data": [
        {
         "cliponaxis": false,
         "name": "A Liquidar",
         "textposition": "outside",
         "type": "bar",
         "x": [
          "339039",
          "339030",
          "339033",
          "449052",
          "339093",
          "339015",
          "339040",
          "339037",
          "339036",
          "339032",
          "339147",
          "339047"
         ],
         "y": [
          3249929.37,
          829501.15,
          649233.42,
          393733.92,
          294635.07,
          289611.95,
          278202.02,
          218513.94,
          12124.97,
          8746.5,
          2377.96,
          1500.82
         ]
        },
        {
         "cliponaxis": false,
         "name": "Liquidado a pagar",
         "textposition": "outside",
         "type": "bar",
         "x": [
          "339039",
          "339030",
          "339033",
          "449052",
          "339093",
          "339015",
          "339040",
          "339037",
          "339036",
          "339032",
          "339147",
          "339047"
         ],
         "y": [
          13738.55,
          154914.75,
          3364.08,
          202779.53,
          0,
          11502.029999999999,
          0,
          3204.87,
          1831.7400000000002,
          0,
          1817.98,
          0
         ]
        },
        {
         "cliponaxis": false,
         "name": "Pago",
         "textposition": "outside",
         "type": "bar",
         "x": [
          "339039",
          "339030",
          "339033",
          "449052",
          "339093",
          "339015",
          "339040",
          "339037",
          "339036",
          "339032",
          "339147",
          "339047"
         ],
         "y": [
          13380108.24,
          4973375.79,
          1583436.18,
          1155492.57,
          3587513.78,
          304744.27999999997,
          217738.9,
          781348.3400000001,
          238095.7,
          0,
          46167.47,
          47782.98
         ]
        }
       ],
       "layout": {
        "hovermode": "x unified",
        "template": {
         "data": {
          "bar": [
           {
            "error_x": {
             "color": "#2a3f5f"
            },
            "error_y": {
             "color": "#2a3f5f"
            },
            "marker": {
             "line": {
              "color": "#E5ECF6",
              "width": 0.5
             },
             "pattern": {
              "fillmode": "overlay",
              "size": 10,
              "solidity": 0.2
             }
            },
            "type": "bar"
           }
          ],
          "barpolar": [
           {
            "marker": {
             "line": {
              "color": "#E5ECF6",
              "width": 0.5
             },
             "pattern": {
              "fillmode": "overlay",
              "size": 10,
              "solidity": 0.2
             }
            },
            "type": "barpolar"
           }
          ],
          "carpet": [
           {
            "aaxis": {
             "endlinecolor": "#2a3f5f",
             "gridcolor": "white",
             "linecolor": "white",
             "minorgridcolor": "white",
             "startlinecolor": "#2a3f5f"
            },
            "baxis": {
             "endlinecolor": "#2a3f5f",
             "gridcolor": "white",
             "linecolor": "white",
             "minorgridcolor": "white",
             "startlinecolor": "#2a3f5f"
            },
            "type": "carpet"
           }
          ],
          "choropleth": [
           {
            "colorbar": {
             "outlinewidth": 0,
             "ticks": ""
            },
            "type": "choropleth"
           }
          ],
          "contour": [
           {
            "colorbar": {
             "outlinewidth": 0,
             "ticks": ""
            },
            "colorscale": [
             [
              0,
              "#0d0887"
             ],
             [
              0.1111111111111111,
              "#46039f"
             ],
             [
              0.2222222222222222,
              "#7201a8"
             ],
             [
              0.3333333333333333,
              "#9c179e"
             ],
             [
              0.4444444444444444,
              "#bd3786"
             ],
             [
              0.5555555555555556,
              "#d8576b"
             ],
             [
              0.6666666666666666,
              "#ed7953"
             ],
             [
              0.7777777777777778,
              "#fb9f3a"
             ],
             [
              0.8888888888888888,
              "#fdca26"
             ],
             [
              1,
              "#f0f921"
             ]
            ],
            "type": "contour"
           }
          ],
          "contourcarpet": [
           {
            "colorbar": {
             "outlinewidth": 0,
             "ticks": ""
            },
            "type": "contourcarpet"
           }
          ],
          "heatmap": [
           {
            "colorbar": {
             "outlinewidth": 0,
             "ticks": ""
            },
            "colorscale": [
             [
              0,
              "#0d0887"
             ],
             [
              0.1111111111111111,
              "#46039f"
             ],
             [
              0.2222222222222222,
              "#7201a8"
             ],
             [
              0.3333333333333333,
              "#9c179e"
             ],
             [
              0.4444444444444444,
              "#bd3786"
             ],
             [
              0.5555555555555556,
              "#d8576b"
             ],
             [
              0.6666666666666666,
              "#ed7953"
             ],
             [
              0.7777777777777778,
              "#fb9f3a"
             ],
             [
              0.8888888888888888,
              "#fdca26"
             ],
             [
              1,
              "#f0f921"
             ]
            ],
            "type": "heatmap"
           }
          ],
          "heatmapgl": [
           {
            "colorbar": {
             "outlinewidth": 0,
             "ticks": ""
            },
            "colorscale": [
             [
              0,
              "#0d0887"
             ],
             [
              0.1111111111111111,
              "#46039f"
             ],
             [
              0.2222222222222222,
              "#7201a8"
             ],
             [
              0.3333333333333333,
              "#9c179e"
             ],
             [
              0.4444444444444444,
              "#bd3786"
             ],
             [
              0.5555555555555556,
              "#d8576b"
             ],
             [
              0.6666666666666666,
              "#ed7953"
             ],
             [
              0.7777777777777778,
              "#fb9f3a"
             ],
             [
              0.8888888888888888,
              "#fdca26"
             ],
             [
              1,
              "#f0f921"
             ]
            ],
            "type": "heatmapgl"
           }
          ],
          "histogram": [
           {
            "marker": {
             "pattern": {
              "fillmode": "overlay",
              "size": 10,
              "solidity": 0.2
             }
            },
            "type": "histogram"
           }
          ],
          "histogram2d": [
           {
            "colorbar": {
             "outlinewidth": 0,
             "ticks": ""
            },
            "colorscale": [
             [
              0,
              "#0d0887"
             ],
             [
              0.1111111111111111,
              "#46039f"
             ],
             [
              0.2222222222222222,
              "#7201a8"
             ],
             [
              0.3333333333333333,
              "#9c179e"
             ],
             [
              0.4444444444444444,
              "#bd3786"
             ],
             [
              0.5555555555555556,
              "#d8576b"
             ],
             [
              0.6666666666666666,
              "#ed7953"
             ],
             [
              0.7777777777777778,
              "#fb9f3a"
             ],
             [
              0.8888888888888888,
              "#fdca26"
             ],
             [
              1,
              "#f0f921"
             ]
            ],
            "type": "histogram2d"
           }
          ],
          "histogram2dcontour": [
           {
            "colorbar": {
             "outlinewidth": 0,
             "ticks": ""
            },
            "colorscale": [
             [
              0,
              "#0d0887"
             ],
             [
              0.1111111111111111,
              "#46039f"
             ],
             [
              0.2222222222222222,
              "#7201a8"
             ],
             [
              0.3333333333333333,
              "#9c179e"
             ],
             [
              0.4444444444444444,
              "#bd3786"
             ],
             [
              0.5555555555555556,
              "#d8576b"
             ],
             [
              0.6666666666666666,
              "#ed7953"
             ],
             [
              0.7777777777777778,
              "#fb9f3a"
             ],
             [
              0.8888888888888888,
              "#fdca26"
             ],
             [
              1,
              "#f0f921"
             ]
            ],
            "type": "histogram2dcontour"
           }
          ],
          "mesh3d": [
           {
            "colorbar": {
             "outlinewidth": 0,
             "ticks": ""
            },
            "type": "mesh3d"
           }
          ],
          "parcoords": [
           {
            "line": {
             "colorbar": {
              "outlinewidth": 0,
              "ticks": ""
             }
            },
            "type": "parcoords"
           }
          ],
          "pie": [
           {
            "automargin": true,
            "type": "pie"
           }
          ],
          "scatter": [
           {
            "fillpattern": {
             "fillmode": "overlay",
             "size": 10,
             "solidity": 0.2
            },
            "type": "scatter"
           }
          ],
          "scatter3d": [
           {
            "line": {
             "colorbar": {
              "outlinewidth": 0,
              "ticks": ""
             }
            },
            "marker": {
             "colorbar": {
              "outlinewidth": 0,
              "ticks": ""
             }
            },
            "type": "scatter3d"
           }
          ],
          "scattercarpet": [
           {
            "marker": {
             "colorbar": {
              "outlinewidth": 0,
              "ticks": ""
             }
            },
            "type": "scattercarpet"
           }
          ],
          "scattergeo": [
           {
            "marker": {
             "colorbar": {
              "outlinewidth": 0,
              "ticks": ""
             }
            },
            "type": "scattergeo"
           }
          ],
          "scattergl": [
           {
            "marker": {
             "colorbar": {
              "outlinewidth": 0,
              "ticks": ""
             }
            },
            "type": "scattergl"
           }
          ],
          "scattermapbox": [
           {
            "marker": {
             "colorbar": {
              "outlinewidth": 0,
              "ticks": ""
             }
            },
            "type": "scattermapbox"
           }
          ],
          "scatterpolar": [
           {
            "marker": {
             "colorbar": {
              "outlinewidth": 0,
              "ticks": ""
             }
            },
            "type": "scatterpolar"
           }
          ],
          "scatterpolargl": [
           {
            "marker": {
             "colorbar": {
              "outlinewidth": 0,
              "ticks": ""
             }
            },
            "type": "scatterpolargl"
           }
          ],
          "scatterternary": [
           {
            "marker": {
             "colorbar": {
              "outlinewidth": 0,
              "ticks": ""
             }
            },
            "type": "scatterternary"
           }
          ],
          "surface": [
           {
            "colorbar": {
             "outlinewidth": 0,
             "ticks": ""
            },
            "colorscale": [
             [
              0,
              "#0d0887"
             ],
             [
              0.1111111111111111,
              "#46039f"
             ],
             [
              0.2222222222222222,
              "#7201a8"
             ],
             [
              0.3333333333333333,
              "#9c179e"
             ],
             [
              0.4444444444444444,
              "#bd3786"
             ],
             [
              0.5555555555555556,
              "#d8576b"
             ],
             [
              0.6666666666666666,
              "#ed7953"
             ],
             [
              0.7777777777777778,
              "#fb9f3a"
             ],
             [
              0.8888888888888888,
              "#fdca26"
             ],
             [
              1,
              "#f0f921"
             ]
            ],
            "type": "surface"
           }
          ],
          "table": [
           {
            "cells": {
             "fill": {
              "color": "#EBF0F8"
             },
             "line": {
              "color": "white"
             }
            },
            "header": {
             "fill": {
              "color": "#C8D4E3"
             },
             "line": {
              "color": "white"
             }
            },
            "type": "table"
           }
          ]
         },
         "layout": {
          "annotationdefaults": {
           "arrowcolor": "#2a3f5f",
           "arrowhead": 0,
           "arrowwidth": 1
          },
          "autotypenumbers": "strict",
          "coloraxis": {
           "colorbar": {
            "outlinewidth": 0,
            "ticks": ""
           }
          },
          "colorscale": {
           "diverging": [
            [
             0,
             "#8e0152"
            ],
            [
             0.1,
             "#c51b7d"
            ],
            [
             0.2,
             "#de77ae"
            ],
            [
             0.3,
             "#f1b6da"
            ],
            [
             0.4,
             "#fde0ef"
            ],
            [
             0.5,
             "#f7f7f7"
            ],
            [
             0.6,
             "#e6f5d0"
            ],
            [
             0.7,
             "#b8e186"
            ],
            [
             0.8,
             "#7fbc41"
            ],
            [
             0.9,
             "#4d9221"
            ],
            [
             1,
             "#276419"
            ]
           ],
           "sequential": [
            [
             0,
             "#0d0887"
            ],
            [
             0.1111111111111111,
             "#46039f"
            ],
            [
             0.2222222222222222,
             "#7201a8"
            ],
            [
             0.3333333333333333,
             "#9c179e"
            ],
            [
             0.4444444444444444,
             "#bd3786"
            ],
            [
             0.5555555555555556,
             "#d8576b"
            ],
            [
             0.6666666666666666,
             "#ed7953"
            ],
            [
             0.7777777777777778,
             "#fb9f3a"
            ],
            [
             0.8888888888888888,
             "#fdca26"
            ],
            [
             1,
             "#f0f921"
            ]
           ],
           "sequentialminus": [
            [
             0,
             "#0d0887"
            ],
            [
             0.1111111111111111,
             "#46039f"
            ],
            [
             0.2222222222222222,
             "#7201a8"
            ],
            [
             0.3333333333333333,
             "#9c179e"
            ],
            [
             0.4444444444444444,
             "#bd3786"
            ],
            [
             0.5555555555555556,
             "#d8576b"
            ],
            [
             0.6666666666666666,
             "#ed7953"
            ],
            [
             0.7777777777777778,
             "#fb9f3a"
            ],
            [
             0.8888888888888888,
             "#fdca26"
            ],
            [
             1,
             "#f0f921"
            ]
           ]
          },
          "colorway": [
           "#636efa",
           "#EF553B",
           "#00cc96",
           "#ab63fa",
           "#FFA15A",
           "#19d3f3",
           "#FF6692",
           "#B6E880",
           "#FF97FF",
           "#FECB52"
          ],
          "font": {
           "color": "#2a3f5f"
          },
          "geo": {
           "bgcolor": "white",
           "lakecolor": "white",
           "landcolor": "#E5ECF6",
           "showlakes": true,
           "showland": true,
           "subunitcolor": "white"
          },
          "hoverlabel": {
           "align": "left"
          },
          "hovermode": "closest",
          "mapbox": {
           "style": "light"
          },
          "paper_bgcolor": "white",
          "plot_bgcolor": "#E5ECF6",
          "polar": {
           "angularaxis": {
            "gridcolor": "white",
            "linecolor": "white",
            "ticks": ""
           },
           "bgcolor": "#E5ECF6",
           "radialaxis": {
            "gridcolor": "white",
            "linecolor": "white",
            "ticks": ""
           }
          },
          "scene": {
           "xaxis": {
            "backgroundcolor": "#E5ECF6",
            "gridcolor": "white",
            "gridwidth": 2,
            "linecolor": "white",
            "showbackground": true,
            "ticks": "",
            "zerolinecolor": "white"
           },
           "yaxis": {
            "backgroundcolor": "#E5ECF6",
            "gridcolor": "white",
            "gridwidth": 2,
            "linecolor": "white",
            "showbackground": true,
            "ticks": "",
            "zerolinecolor": "white"
           },
           "zaxis": {
            "backgroundcolor": "#E5ECF6",
            "gridcolor": "white",
            "gridwidth": 2,
            "linecolor": "white",
            "showbackground": true,
            "ticks": "",
            "zerolinecolor": "white"
           }
          },
          "shapedefaults": {
           "line": {
            "color": "#2a3f5f"
           }
          },
          "ternary": {
           "aaxis": {
            "gridcolor": "white",
            "linecolor": "white",
            "ticks": ""
           },
           "baxis": {
            "gridcolor": "white",
            "linecolor": "white",
            "ticks": ""
           },
           "bgcolor": "#E5ECF6",
           "caxis": {
            "gridcolor": "white",
            "linecolor": "white",
            "ticks": ""
           }
          },
          "title": {
           "x": 0.05
          },
          "xaxis": {
           "automargin": true,
           "gridcolor": "white",
           "linecolor": "white",
           "ticks": "",
           "title": {
            "standoff": 15
           },
           "zerolinecolor": "white",
           "zerolinewidth": 2
          },
          "yaxis": {
           "automargin": true,
           "gridcolor": "white",
           "linecolor": "white",
           "ticks": "",
           "title": {
            "standoff": 15
           },
           "zerolinecolor": "white",
           "zerolinewidth": 2
          }
         }
        },
        "yaxis": {
         "type": "log"
        }
       }
      }
     },
     "metadata": {},
     "output_type": "display_data"
    }
   ],
   "source": [
    "# Saldo a liquidar por ND\n",
    "cols = ['ND', 'A_LIQUIDAR', 'LIQUIDADO_A_PAGAR', 'PAGO']\n",
    "\n",
    "df_aux = df.loc[:, cols].groupby('ND').sum().sort_values(by= 'A_LIQUIDAR', ascending=False).reset_index()\n",
    "df_aux = df_aux[df_aux['A_LIQUIDAR'] > 0]\n",
    "# Criando o gráfico\n",
    "fig = go.Figure()\n",
    "\n",
    "# Adicionando as colunas y1, y2 e y3 no eixo y\n",
    "fig.add_trace(go.Bar(x=df_aux['ND'], y=df_aux['A_LIQUIDAR'], name='A Liquidar'))\n",
    "fig.add_trace(go.Bar(x=df_aux['ND'], y=df_aux['LIQUIDADO_A_PAGAR'], name='Liquidado a pagar'))\n",
    "fig.add_trace(go.Bar(x=df_aux['ND'], y=df_aux['PAGO'], name='Pago'))\n",
    "\n",
    "fig.update_traces(textposition = 'outside', cliponaxis = False, hovertemplate=None)\n",
    "fig.update_layout(hovermode=\"x unified\")\n",
    "fig.update_yaxes(type=\"log\")\n",
    "\n",
    "fig.show()"
   ]
  },
  {
   "cell_type": "markdown",
   "metadata": {},
   "source": [
    "# Suporte para o Dashboard"
   ]
  },
  {
   "cell_type": "code",
   "execution_count": 13,
   "metadata": {},
   "outputs": [
    {
     "data": {
      "text/html": [
       "<div>\n",
       "<style scoped>\n",
       "    .dataframe tbody tr th:only-of-type {\n",
       "        vertical-align: middle;\n",
       "    }\n",
       "\n",
       "    .dataframe tbody tr th {\n",
       "        vertical-align: top;\n",
       "    }\n",
       "\n",
       "    .dataframe thead th {\n",
       "        text-align: right;\n",
       "    }\n",
       "</style>\n",
       "<table border=\"1\" class=\"dataframe\">\n",
       "  <thead>\n",
       "    <tr style=\"text-align: right;\">\n",
       "      <th></th>\n",
       "      <th>NE</th>\n",
       "      <th>A_LIQUIDAR</th>\n",
       "      <th>DIAS</th>\n",
       "      <th>NOME_NDSI</th>\n",
       "      <th>NDSI</th>\n",
       "    </tr>\n",
       "  </thead>\n",
       "  <tbody>\n",
       "    <tr>\n",
       "      <th>1134</th>\n",
       "      <td>2022NE001087</td>\n",
       "      <td>2397.00</td>\n",
       "      <td>392</td>\n",
       "      <td>MANUTENCAO E CONSERVACAO DE EQUIPAMENTOS DE TIC</td>\n",
       "      <td>33904012</td>\n",
       "    </tr>\n",
       "    <tr>\n",
       "      <th>1168</th>\n",
       "      <td>2022NE001086</td>\n",
       "      <td>3466.70</td>\n",
       "      <td>392</td>\n",
       "      <td>MANUTENCAO E CONSERVACAO DE EQUIPAMENTOS DE TIC</td>\n",
       "      <td>33904012</td>\n",
       "    </tr>\n",
       "    <tr>\n",
       "      <th>1167</th>\n",
       "      <td>2022NE001085</td>\n",
       "      <td>5543.35</td>\n",
       "      <td>392</td>\n",
       "      <td>MANUT. E CONSERV. DE MAQUINAS E EQUIPAMENTOS</td>\n",
       "      <td>33903917</td>\n",
       "    </tr>\n",
       "    <tr>\n",
       "      <th>1157</th>\n",
       "      <td>2022NE002421</td>\n",
       "      <td>5758.75</td>\n",
       "      <td>337</td>\n",
       "      <td>SERVICOS GRAFICOS E EDITORIAIS</td>\n",
       "      <td>33903963</td>\n",
       "    </tr>\n",
       "    <tr>\n",
       "      <th>1419</th>\n",
       "      <td>2022NE001843</td>\n",
       "      <td>1016.25</td>\n",
       "      <td>337</td>\n",
       "      <td>SERVICOS GRAFICOS E EDITORIAIS</td>\n",
       "      <td>33903963</td>\n",
       "    </tr>\n",
       "    <tr>\n",
       "      <th>954</th>\n",
       "      <td>2022NE002483</td>\n",
       "      <td>263051.08</td>\n",
       "      <td>323</td>\n",
       "      <td>MANUTENCAO E CONSERV. DE BENS IMOVEIS</td>\n",
       "      <td>33903916</td>\n",
       "    </tr>\n",
       "    <tr>\n",
       "      <th>953</th>\n",
       "      <td>2022NE002482</td>\n",
       "      <td>155796.97</td>\n",
       "      <td>323</td>\n",
       "      <td>MANUTENCAO E CONSERV. DE BENS IMOVEIS</td>\n",
       "      <td>33903916</td>\n",
       "    </tr>\n",
       "    <tr>\n",
       "      <th>1154</th>\n",
       "      <td>2022NE002703</td>\n",
       "      <td>146.93</td>\n",
       "      <td>309</td>\n",
       "      <td>PASSAGENS PARA O PAIS</td>\n",
       "      <td>33903301</td>\n",
       "    </tr>\n",
       "    <tr>\n",
       "      <th>1150</th>\n",
       "      <td>2022NE002702</td>\n",
       "      <td>12733.76</td>\n",
       "      <td>309</td>\n",
       "      <td>MANUTENCAO E CONSERV. DE BENS IMOVEIS</td>\n",
       "      <td>33903916</td>\n",
       "    </tr>\n",
       "    <tr>\n",
       "      <th>1148</th>\n",
       "      <td>2022NE002700</td>\n",
       "      <td>487.75</td>\n",
       "      <td>309</td>\n",
       "      <td>PASSAGENS PARA O PAIS</td>\n",
       "      <td>33903301</td>\n",
       "    </tr>\n",
       "  </tbody>\n",
       "</table>\n",
       "</div>"
      ],
      "text/plain": [
       "                NE  A_LIQUIDAR  DIAS  \\\n",
       "1134  2022NE001087     2397.00   392   \n",
       "1168  2022NE001086     3466.70   392   \n",
       "1167  2022NE001085     5543.35   392   \n",
       "1157  2022NE002421     5758.75   337   \n",
       "1419  2022NE001843     1016.25   337   \n",
       "954   2022NE002483   263051.08   323   \n",
       "953   2022NE002482   155796.97   323   \n",
       "1154  2022NE002703      146.93   309   \n",
       "1150  2022NE002702    12733.76   309   \n",
       "1148  2022NE002700      487.75   309   \n",
       "\n",
       "                                            NOME_NDSI      NDSI  \n",
       "1134  MANUTENCAO E CONSERVACAO DE EQUIPAMENTOS DE TIC  33904012  \n",
       "1168  MANUTENCAO E CONSERVACAO DE EQUIPAMENTOS DE TIC  33904012  \n",
       "1167     MANUT. E CONSERV. DE MAQUINAS E EQUIPAMENTOS  33903917  \n",
       "1157                   SERVICOS GRAFICOS E EDITORIAIS  33903963  \n",
       "1419                   SERVICOS GRAFICOS E EDITORIAIS  33903963  \n",
       "954             MANUTENCAO E CONSERV. DE BENS IMOVEIS  33903916  \n",
       "953             MANUTENCAO E CONSERV. DE BENS IMOVEIS  33903916  \n",
       "1154                            PASSAGENS PARA O PAIS  33903301  \n",
       "1150            MANUTENCAO E CONSERV. DE BENS IMOVEIS  33903916  \n",
       "1148                            PASSAGENS PARA O PAIS  33903301  "
      ]
     },
     "execution_count": 13,
     "metadata": {},
     "output_type": "execute_result"
    }
   ],
   "source": [
    "cols = ['NE', 'A_LIQUIDAR', 'DIAS', 'NOME_NDSI', 'NDSI']\n",
    "\n",
    "df_aux = df.loc[:, cols].sort_values(by='DIAS', ascending=False)\n",
    "df_aux = df_aux[df_aux['A_LIQUIDAR'] != 0].head(10)\n",
    "df_aux"
   ]
  },
  {
   "cell_type": "code",
   "execution_count": 14,
   "metadata": {},
   "outputs": [
    {
     "data": {
      "application/vnd.plotly.v1+json": {
       "config": {
        "plotlyServerURL": "https://plot.ly"
       },
       "data": [
        {
         "alignmentgroup": "True",
         "customdata": [
          [
           392,
           "MANUTENCAO E CONSERVACAO DE EQUIPAMENTOS DE TIC",
           "33904012"
          ],
          [
           392,
           "MANUTENCAO E CONSERVACAO DE EQUIPAMENTOS DE TIC",
           "33904012"
          ],
          [
           392,
           "MANUT. E CONSERV. DE MAQUINAS E EQUIPAMENTOS",
           "33903917"
          ],
          [
           337,
           "SERVICOS GRAFICOS E EDITORIAIS",
           "33903963"
          ],
          [
           337,
           "SERVICOS GRAFICOS E EDITORIAIS",
           "33903963"
          ],
          [
           323,
           "MANUTENCAO E CONSERV. DE BENS IMOVEIS",
           "33903916"
          ],
          [
           323,
           "MANUTENCAO E CONSERV. DE BENS IMOVEIS",
           "33903916"
          ],
          [
           309,
           "PASSAGENS PARA O PAIS",
           "33903301"
          ],
          [
           309,
           "MANUTENCAO E CONSERV. DE BENS IMOVEIS",
           "33903916"
          ],
          [
           309,
           "PASSAGENS PARA O PAIS",
           "33903301"
          ]
         ],
         "hovertemplate": "<b>%{hovertext}</b><br><br>Nota de Empenho=%{x}<br>Saldo a liquidar=%{y}<br>DIAS=%{marker.color}<br>NOME_NDSI=%{customdata[1]}<br>NDSI=%{customdata[2]}<extra></extra>",
         "hovertext": [
          "2022NE001087",
          "2022NE001086",
          "2022NE001085",
          "2022NE002421",
          "2022NE001843",
          "2022NE002483",
          "2022NE002482",
          "2022NE002703",
          "2022NE002702",
          "2022NE002700"
         ],
         "legendgroup": "",
         "marker": {
          "color": [
           392,
           392,
           392,
           337,
           337,
           323,
           323,
           309,
           309,
           309
          ],
          "coloraxis": "coloraxis",
          "pattern": {
           "shape": ""
          }
         },
         "name": "",
         "offsetgroup": "",
         "orientation": "v",
         "showlegend": false,
         "textposition": "outside",
         "texttemplate": "%{y:.3s}",
         "type": "bar",
         "x": [
          "2022NE001087",
          "2022NE001086",
          "2022NE001085",
          "2022NE002421",
          "2022NE001843",
          "2022NE002483",
          "2022NE002482",
          "2022NE002703",
          "2022NE002702",
          "2022NE002700"
         ],
         "xaxis": "x",
         "y": [
          2397,
          3466.7,
          5543.35,
          5758.75,
          1016.25,
          263051.08,
          155796.97,
          146.93,
          12733.76,
          487.75
         ],
         "yaxis": "y"
        }
       ],
       "layout": {
        "barmode": "relative",
        "coloraxis": {
         "colorbar": {
          "title": {
           "text": "DIAS"
          }
         },
         "colorscale": [
          [
           0,
           "rgb(255,245,240)"
          ],
          [
           0.125,
           "rgb(254,224,210)"
          ],
          [
           0.25,
           "rgb(252,187,161)"
          ],
          [
           0.375,
           "rgb(252,146,114)"
          ],
          [
           0.5,
           "rgb(251,106,74)"
          ],
          [
           0.625,
           "rgb(239,59,44)"
          ],
          [
           0.75,
           "rgb(203,24,29)"
          ],
          [
           0.875,
           "rgb(165,15,21)"
          ],
          [
           1,
           "rgb(103,0,13)"
          ]
         ]
        },
        "legend": {
         "tracegroupgap": 0
        },
        "template": {
         "data": {
          "bar": [
           {
            "error_x": {
             "color": "#f2f5fa"
            },
            "error_y": {
             "color": "#f2f5fa"
            },
            "marker": {
             "line": {
              "color": "rgb(17,17,17)",
              "width": 0.5
             },
             "pattern": {
              "fillmode": "overlay",
              "size": 10,
              "solidity": 0.2
             }
            },
            "type": "bar"
           }
          ],
          "barpolar": [
           {
            "marker": {
             "line": {
              "color": "rgb(17,17,17)",
              "width": 0.5
             },
             "pattern": {
              "fillmode": "overlay",
              "size": 10,
              "solidity": 0.2
             }
            },
            "type": "barpolar"
           }
          ],
          "carpet": [
           {
            "aaxis": {
             "endlinecolor": "#A2B1C6",
             "gridcolor": "#506784",
             "linecolor": "#506784",
             "minorgridcolor": "#506784",
             "startlinecolor": "#A2B1C6"
            },
            "baxis": {
             "endlinecolor": "#A2B1C6",
             "gridcolor": "#506784",
             "linecolor": "#506784",
             "minorgridcolor": "#506784",
             "startlinecolor": "#A2B1C6"
            },
            "type": "carpet"
           }
          ],
          "choropleth": [
           {
            "colorbar": {
             "outlinewidth": 0,
             "ticks": ""
            },
            "type": "choropleth"
           }
          ],
          "contour": [
           {
            "colorbar": {
             "outlinewidth": 0,
             "ticks": ""
            },
            "colorscale": [
             [
              0,
              "#0d0887"
             ],
             [
              0.1111111111111111,
              "#46039f"
             ],
             [
              0.2222222222222222,
              "#7201a8"
             ],
             [
              0.3333333333333333,
              "#9c179e"
             ],
             [
              0.4444444444444444,
              "#bd3786"
             ],
             [
              0.5555555555555556,
              "#d8576b"
             ],
             [
              0.6666666666666666,
              "#ed7953"
             ],
             [
              0.7777777777777778,
              "#fb9f3a"
             ],
             [
              0.8888888888888888,
              "#fdca26"
             ],
             [
              1,
              "#f0f921"
             ]
            ],
            "type": "contour"
           }
          ],
          "contourcarpet": [
           {
            "colorbar": {
             "outlinewidth": 0,
             "ticks": ""
            },
            "type": "contourcarpet"
           }
          ],
          "heatmap": [
           {
            "colorbar": {
             "outlinewidth": 0,
             "ticks": ""
            },
            "colorscale": [
             [
              0,
              "#0d0887"
             ],
             [
              0.1111111111111111,
              "#46039f"
             ],
             [
              0.2222222222222222,
              "#7201a8"
             ],
             [
              0.3333333333333333,
              "#9c179e"
             ],
             [
              0.4444444444444444,
              "#bd3786"
             ],
             [
              0.5555555555555556,
              "#d8576b"
             ],
             [
              0.6666666666666666,
              "#ed7953"
             ],
             [
              0.7777777777777778,
              "#fb9f3a"
             ],
             [
              0.8888888888888888,
              "#fdca26"
             ],
             [
              1,
              "#f0f921"
             ]
            ],
            "type": "heatmap"
           }
          ],
          "heatmapgl": [
           {
            "colorbar": {
             "outlinewidth": 0,
             "ticks": ""
            },
            "colorscale": [
             [
              0,
              "#0d0887"
             ],
             [
              0.1111111111111111,
              "#46039f"
             ],
             [
              0.2222222222222222,
              "#7201a8"
             ],
             [
              0.3333333333333333,
              "#9c179e"
             ],
             [
              0.4444444444444444,
              "#bd3786"
             ],
             [
              0.5555555555555556,
              "#d8576b"
             ],
             [
              0.6666666666666666,
              "#ed7953"
             ],
             [
              0.7777777777777778,
              "#fb9f3a"
             ],
             [
              0.8888888888888888,
              "#fdca26"
             ],
             [
              1,
              "#f0f921"
             ]
            ],
            "type": "heatmapgl"
           }
          ],
          "histogram": [
           {
            "marker": {
             "pattern": {
              "fillmode": "overlay",
              "size": 10,
              "solidity": 0.2
             }
            },
            "type": "histogram"
           }
          ],
          "histogram2d": [
           {
            "colorbar": {
             "outlinewidth": 0,
             "ticks": ""
            },
            "colorscale": [
             [
              0,
              "#0d0887"
             ],
             [
              0.1111111111111111,
              "#46039f"
             ],
             [
              0.2222222222222222,
              "#7201a8"
             ],
             [
              0.3333333333333333,
              "#9c179e"
             ],
             [
              0.4444444444444444,
              "#bd3786"
             ],
             [
              0.5555555555555556,
              "#d8576b"
             ],
             [
              0.6666666666666666,
              "#ed7953"
             ],
             [
              0.7777777777777778,
              "#fb9f3a"
             ],
             [
              0.8888888888888888,
              "#fdca26"
             ],
             [
              1,
              "#f0f921"
             ]
            ],
            "type": "histogram2d"
           }
          ],
          "histogram2dcontour": [
           {
            "colorbar": {
             "outlinewidth": 0,
             "ticks": ""
            },
            "colorscale": [
             [
              0,
              "#0d0887"
             ],
             [
              0.1111111111111111,
              "#46039f"
             ],
             [
              0.2222222222222222,
              "#7201a8"
             ],
             [
              0.3333333333333333,
              "#9c179e"
             ],
             [
              0.4444444444444444,
              "#bd3786"
             ],
             [
              0.5555555555555556,
              "#d8576b"
             ],
             [
              0.6666666666666666,
              "#ed7953"
             ],
             [
              0.7777777777777778,
              "#fb9f3a"
             ],
             [
              0.8888888888888888,
              "#fdca26"
             ],
             [
              1,
              "#f0f921"
             ]
            ],
            "type": "histogram2dcontour"
           }
          ],
          "mesh3d": [
           {
            "colorbar": {
             "outlinewidth": 0,
             "ticks": ""
            },
            "type": "mesh3d"
           }
          ],
          "parcoords": [
           {
            "line": {
             "colorbar": {
              "outlinewidth": 0,
              "ticks": ""
             }
            },
            "type": "parcoords"
           }
          ],
          "pie": [
           {
            "automargin": true,
            "type": "pie"
           }
          ],
          "scatter": [
           {
            "marker": {
             "line": {
              "color": "#283442"
             }
            },
            "type": "scatter"
           }
          ],
          "scatter3d": [
           {
            "line": {
             "colorbar": {
              "outlinewidth": 0,
              "ticks": ""
             }
            },
            "marker": {
             "colorbar": {
              "outlinewidth": 0,
              "ticks": ""
             }
            },
            "type": "scatter3d"
           }
          ],
          "scattercarpet": [
           {
            "marker": {
             "colorbar": {
              "outlinewidth": 0,
              "ticks": ""
             }
            },
            "type": "scattercarpet"
           }
          ],
          "scattergeo": [
           {
            "marker": {
             "colorbar": {
              "outlinewidth": 0,
              "ticks": ""
             }
            },
            "type": "scattergeo"
           }
          ],
          "scattergl": [
           {
            "marker": {
             "line": {
              "color": "#283442"
             }
            },
            "type": "scattergl"
           }
          ],
          "scattermapbox": [
           {
            "marker": {
             "colorbar": {
              "outlinewidth": 0,
              "ticks": ""
             }
            },
            "type": "scattermapbox"
           }
          ],
          "scatterpolar": [
           {
            "marker": {
             "colorbar": {
              "outlinewidth": 0,
              "ticks": ""
             }
            },
            "type": "scatterpolar"
           }
          ],
          "scatterpolargl": [
           {
            "marker": {
             "colorbar": {
              "outlinewidth": 0,
              "ticks": ""
             }
            },
            "type": "scatterpolargl"
           }
          ],
          "scatterternary": [
           {
            "marker": {
             "colorbar": {
              "outlinewidth": 0,
              "ticks": ""
             }
            },
            "type": "scatterternary"
           }
          ],
          "surface": [
           {
            "colorbar": {
             "outlinewidth": 0,
             "ticks": ""
            },
            "colorscale": [
             [
              0,
              "#0d0887"
             ],
             [
              0.1111111111111111,
              "#46039f"
             ],
             [
              0.2222222222222222,
              "#7201a8"
             ],
             [
              0.3333333333333333,
              "#9c179e"
             ],
             [
              0.4444444444444444,
              "#bd3786"
             ],
             [
              0.5555555555555556,
              "#d8576b"
             ],
             [
              0.6666666666666666,
              "#ed7953"
             ],
             [
              0.7777777777777778,
              "#fb9f3a"
             ],
             [
              0.8888888888888888,
              "#fdca26"
             ],
             [
              1,
              "#f0f921"
             ]
            ],
            "type": "surface"
           }
          ],
          "table": [
           {
            "cells": {
             "fill": {
              "color": "#506784"
             },
             "line": {
              "color": "rgb(17,17,17)"
             }
            },
            "header": {
             "fill": {
              "color": "#2a3f5f"
             },
             "line": {
              "color": "rgb(17,17,17)"
             }
            },
            "type": "table"
           }
          ]
         },
         "layout": {
          "annotationdefaults": {
           "arrowcolor": "#f2f5fa",
           "arrowhead": 0,
           "arrowwidth": 1
          },
          "autotypenumbers": "strict",
          "coloraxis": {
           "colorbar": {
            "outlinewidth": 0,
            "ticks": ""
           }
          },
          "colorscale": {
           "diverging": [
            [
             0,
             "#8e0152"
            ],
            [
             0.1,
             "#c51b7d"
            ],
            [
             0.2,
             "#de77ae"
            ],
            [
             0.3,
             "#f1b6da"
            ],
            [
             0.4,
             "#fde0ef"
            ],
            [
             0.5,
             "#f7f7f7"
            ],
            [
             0.6,
             "#e6f5d0"
            ],
            [
             0.7,
             "#b8e186"
            ],
            [
             0.8,
             "#7fbc41"
            ],
            [
             0.9,
             "#4d9221"
            ],
            [
             1,
             "#276419"
            ]
           ],
           "sequential": [
            [
             0,
             "#0d0887"
            ],
            [
             0.1111111111111111,
             "#46039f"
            ],
            [
             0.2222222222222222,
             "#7201a8"
            ],
            [
             0.3333333333333333,
             "#9c179e"
            ],
            [
             0.4444444444444444,
             "#bd3786"
            ],
            [
             0.5555555555555556,
             "#d8576b"
            ],
            [
             0.6666666666666666,
             "#ed7953"
            ],
            [
             0.7777777777777778,
             "#fb9f3a"
            ],
            [
             0.8888888888888888,
             "#fdca26"
            ],
            [
             1,
             "#f0f921"
            ]
           ],
           "sequentialminus": [
            [
             0,
             "#0d0887"
            ],
            [
             0.1111111111111111,
             "#46039f"
            ],
            [
             0.2222222222222222,
             "#7201a8"
            ],
            [
             0.3333333333333333,
             "#9c179e"
            ],
            [
             0.4444444444444444,
             "#bd3786"
            ],
            [
             0.5555555555555556,
             "#d8576b"
            ],
            [
             0.6666666666666666,
             "#ed7953"
            ],
            [
             0.7777777777777778,
             "#fb9f3a"
            ],
            [
             0.8888888888888888,
             "#fdca26"
            ],
            [
             1,
             "#f0f921"
            ]
           ]
          },
          "colorway": [
           "#636efa",
           "#EF553B",
           "#00cc96",
           "#ab63fa",
           "#FFA15A",
           "#19d3f3",
           "#FF6692",
           "#B6E880",
           "#FF97FF",
           "#FECB52"
          ],
          "font": {
           "color": "#f2f5fa"
          },
          "geo": {
           "bgcolor": "rgb(17,17,17)",
           "lakecolor": "rgb(17,17,17)",
           "landcolor": "rgb(17,17,17)",
           "showlakes": true,
           "showland": true,
           "subunitcolor": "#506784"
          },
          "hoverlabel": {
           "align": "left"
          },
          "hovermode": "closest",
          "mapbox": {
           "style": "dark"
          },
          "paper_bgcolor": "rgb(17,17,17)",
          "plot_bgcolor": "rgb(17,17,17)",
          "polar": {
           "angularaxis": {
            "gridcolor": "#506784",
            "linecolor": "#506784",
            "ticks": ""
           },
           "bgcolor": "rgb(17,17,17)",
           "radialaxis": {
            "gridcolor": "#506784",
            "linecolor": "#506784",
            "ticks": ""
           }
          },
          "scene": {
           "xaxis": {
            "backgroundcolor": "rgb(17,17,17)",
            "gridcolor": "#506784",
            "gridwidth": 2,
            "linecolor": "#506784",
            "showbackground": true,
            "ticks": "",
            "zerolinecolor": "#C8D4E3"
           },
           "yaxis": {
            "backgroundcolor": "rgb(17,17,17)",
            "gridcolor": "#506784",
            "gridwidth": 2,
            "linecolor": "#506784",
            "showbackground": true,
            "ticks": "",
            "zerolinecolor": "#C8D4E3"
           },
           "zaxis": {
            "backgroundcolor": "rgb(17,17,17)",
            "gridcolor": "#506784",
            "gridwidth": 2,
            "linecolor": "#506784",
            "showbackground": true,
            "ticks": "",
            "zerolinecolor": "#C8D4E3"
           }
          },
          "shapedefaults": {
           "line": {
            "color": "#f2f5fa"
           }
          },
          "sliderdefaults": {
           "bgcolor": "#C8D4E3",
           "bordercolor": "rgb(17,17,17)",
           "borderwidth": 1,
           "tickwidth": 0
          },
          "ternary": {
           "aaxis": {
            "gridcolor": "#506784",
            "linecolor": "#506784",
            "ticks": ""
           },
           "baxis": {
            "gridcolor": "#506784",
            "linecolor": "#506784",
            "ticks": ""
           },
           "bgcolor": "rgb(17,17,17)",
           "caxis": {
            "gridcolor": "#506784",
            "linecolor": "#506784",
            "ticks": ""
           }
          },
          "title": {
           "x": 0.05
          },
          "updatemenudefaults": {
           "bgcolor": "#506784",
           "borderwidth": 0
          },
          "xaxis": {
           "automargin": true,
           "gridcolor": "#283442",
           "linecolor": "#506784",
           "ticks": "",
           "title": {
            "standoff": 15
           },
           "zerolinecolor": "#283442",
           "zerolinewidth": 2
          },
          "yaxis": {
           "automargin": true,
           "gridcolor": "#283442",
           "linecolor": "#506784",
           "ticks": "",
           "title": {
            "standoff": 15
           },
           "zerolinecolor": "#283442",
           "zerolinewidth": 2
          }
         }
        },
        "title": {
         "text": "10 empenhos com mais tempo na tela"
        },
        "xaxis": {
         "anchor": "y",
         "domain": [
          0,
          1
         ],
         "title": {
          "text": "Nota de Empenho"
         }
        },
        "yaxis": {
         "anchor": "x",
         "domain": [
          0,
          1
         ],
         "title": {
          "text": "Saldo a liquidar"
         },
         "type": "log"
        }
       }
      }
     },
     "metadata": {},
     "output_type": "display_data"
    }
   ],
   "source": [
    "# Saldo a liquidar por tipo de NE\n",
    "cols = ['NE', 'A_LIQUIDAR', 'DIAS', 'NOME_NDSI', 'NDSI']\n",
    "df_aux = df.loc[:, cols].sort_values(by='DIAS', ascending=False)\n",
    "df_aux = df_aux[df_aux['A_LIQUIDAR'] != 0].head(10)\n",
    "fig = px.bar(df_aux, \n",
    "             x='NE', \n",
    "             y='A_LIQUIDAR',\n",
    "             title='10 empenhos com mais tempo na tela',\n",
    "             labels={'NE':'Nota de Empenho', 'A_LIQUIDAR':'Saldo a liquidar'},\n",
    "             text_auto='.3s',\n",
    "             color='DIAS',\n",
    "             color_continuous_scale = 'reds',\n",
    "             log_y=True,\n",
    "             template='plotly_dark',\n",
    "             hover_name=\"NE\", hover_data={'DIAS': True, 'A_LIQUIDAR': True, 'NOME_NDSI': True, 'NDSI': True})\n",
    "fig.update_traces(textposition = 'outside')\n",
    "\n",
    "\n",
    "fig.show()"
   ]
  },
  {
   "cell_type": "markdown",
   "metadata": {},
   "source": [
    "## Informações para SideBar"
   ]
  },
  {
   "cell_type": "code",
   "execution_count": 15,
   "metadata": {},
   "outputs": [
    {
     "data": {
      "text/plain": [
       "3263"
      ]
     },
     "execution_count": 15,
     "metadata": {},
     "output_type": "execute_result"
    }
   ],
   "source": [
    "# Qtde de empenhos realizados até o momento\n",
    "df.shape[0]"
   ]
  },
  {
   "cell_type": "markdown",
   "metadata": {},
   "source": [
    "# Requisição em API para consulta a CNPJ"
   ]
  },
  {
   "cell_type": "code",
   "execution_count": 16,
   "metadata": {},
   "outputs": [
    {
     "name": "stdout",
     "output_type": "stream",
     "text": [
      "{'abertura': '03/11/2014',\n",
      " 'atividade_principal': [{'code': '79.11-2-00', 'text': 'Agências de viagens'}],\n",
      " 'atividades_secundarias': [{'code': '59.11-1-99',\n",
      "                             'text': 'Atividades de produção cinematográfica, '\n",
      "                                     'de vídeos e de programas de televisão '\n",
      "                                     'não especificadas anteriormente'},\n",
      "                            {'code': '63.99-2-00',\n",
      "                             'text': 'Outras atividades de prestação de '\n",
      "                                     'serviços de informação não especificadas '\n",
      "                                     'anteriormente'},\n",
      "                            {'code': '79.12-1-00',\n",
      "                             'text': 'Operadores turísticos'},\n",
      "                            {'code': '79.90-2-00',\n",
      "                             'text': 'Serviços de reservas e outros serviços '\n",
      "                                     'de turismo não especificados '\n",
      "                                     'anteriormente'},\n",
      "                            {'code': '82.30-0-01',\n",
      "                             'text': 'Serviços de organização de feiras, '\n",
      "                                     'congressos, exposições e festas'},\n",
      "                            {'code': '85.99-6-04',\n",
      "                             'text': 'Treinamento em desenvolvimento '\n",
      "                                     'profissional e gerencial'}],\n",
      " 'bairro': 'CENTRO',\n",
      " 'billing': {'database': True, 'free': True},\n",
      " 'capital_social': '300000.00',\n",
      " 'cep': '09.750-700',\n",
      " 'cnpj': '21.331.404/0001-38',\n",
      " 'complemento': 'SALA 301 A 306 310 E 311 BLOCO 01 COND MONDIAL SBC',\n",
      " 'data_situacao': '03/11/2014',\n",
      " 'data_situacao_especial': '',\n",
      " 'efr': '',\n",
      " 'email': 'orleans@orleanstur.com.br',\n",
      " 'extra': {},\n",
      " 'fantasia': 'ORLEANSTUR',\n",
      " 'logradouro': 'PRACA SAMUEL SABATINI',\n",
      " 'motivo_situacao': '',\n",
      " 'municipio': 'SAO BERNARDO DO CAMPO',\n",
      " 'natureza_juridica': '206-2 - Sociedade Empresária Limitada',\n",
      " 'nome': 'ORLEANS VIAGENS E TURISMO LTDA',\n",
      " 'numero': '226',\n",
      " 'porte': 'EMPRESA DE PEQUENO PORTE',\n",
      " 'qsa': [{'nome': 'SILAS BEZERRA DE ALENCAR', 'qual': '49-Sócio-Administrador'},\n",
      "         {'nome': 'WAGNER FERREIRA MOITA', 'qual': '49-Sócio-Administrador'}],\n",
      " 'situacao': 'ATIVA',\n",
      " 'situacao_especial': '',\n",
      " 'status': 'OK',\n",
      " 'telefone': '(11) 2273-4343',\n",
      " 'tipo': 'MATRIZ',\n",
      " 'uf': 'SP',\n",
      " 'ultima_atualizacao': '2023-10-14T23:59:59.000Z'}\n"
     ]
    }
   ],
   "source": [
    "import requests\n",
    "from pprint import pprint\n",
    "\n",
    "url = \"https://receitaws.com.br/v1/cnpj/21331404000138\"\n",
    "\n",
    "headers = {\"Accept\": \"application/json\"}\n",
    "\n",
    "response = requests.get(url, headers=headers)\n",
    "\n",
    "pprint(response.json())"
   ]
  },
  {
   "cell_type": "code",
   "execution_count": 17,
   "metadata": {},
   "outputs": [
    {
     "name": "stdout",
     "output_type": "stream",
     "text": [
      "{'abertura': '28/08/2015',\n",
      " 'atividade_principal': [{'code': '26.21-3-00',\n",
      "                          'text': 'Fabricação de equipamentos de informática'}],\n",
      " 'atividades_secundarias': [{'code': '26.22-1-00',\n",
      "                             'text': 'Fabricação de periféricos para '\n",
      "                                     'equipamentos de informática'},\n",
      "                            {'code': '27.59-7-99',\n",
      "                             'text': 'Fabricação de outros aparelhos '\n",
      "                                     'eletrodomésticos não especificados '\n",
      "                                     'anteriormente, peças e acessórios'},\n",
      "                            {'code': '46.19-2-00',\n",
      "                             'text': 'Representantes comerciais e agentes do '\n",
      "                                     'comércio de mercadorias em geral não '\n",
      "                                     'especializado'},\n",
      "                            {'code': '46.51-6-01',\n",
      "                             'text': 'Comércio atacadista de equipamentos de '\n",
      "                                     'informática'},\n",
      "                            {'code': '47.54-7-01',\n",
      "                             'text': 'Comércio varejista de móveis'},\n",
      "                            {'code': '46.49-4-02',\n",
      "                             'text': 'Comércio atacadista de aparelhos '\n",
      "                                     'eletrônicos de uso pessoal e doméstico'},\n",
      "                            {'code': '46.47-8-02',\n",
      "                             'text': 'Comércio atacadista de livros, jornais e '\n",
      "                                     'outras publicações'},\n",
      "                            {'code': '62.04-0-00',\n",
      "                             'text': 'Consultoria em tecnologia da informação'},\n",
      "                            {'code': '62.02-3-00',\n",
      "                             'text': 'Desenvolvimento e licenciamento de '\n",
      "                                     'programas de computador customizáveis'},\n",
      "                            {'code': '63.19-4-00',\n",
      "                             'text': 'Portais, provedores de conteúdo e outros '\n",
      "                                     'serviços de informação na internet'},\n",
      "                            {'code': '62.01-5-01',\n",
      "                             'text': 'Desenvolvimento de programas de '\n",
      "                                     'computador sob encomenda'},\n",
      "                            {'code': '58.11-5-00', 'text': 'Edição de livros'},\n",
      "                            {'code': '64.62-0-00',\n",
      "                             'text': 'Holdings de instituições '\n",
      "                                     'não-financeiras'},\n",
      "                            {'code': '71.19-7-03',\n",
      "                             'text': 'Serviços de desenho técnico relacionados '\n",
      "                                     'à arquitetura e engenharia'},\n",
      "                            {'code': '77.33-1-00',\n",
      "                             'text': 'Aluguel de máquinas e equipamentos para '\n",
      "                                     'escritórios'},\n",
      "                            {'code': '77.40-3-00',\n",
      "                             'text': 'Gestão de ativos intangíveis '\n",
      "                                     'não-financeiros'},\n",
      "                            {'code': '85.50-3-02',\n",
      "                             'text': 'Atividades de apoio à educação, exceto '\n",
      "                                     'caixas escolares'},\n",
      "                            {'code': '85.99-6-04',\n",
      "                             'text': 'Treinamento em desenvolvimento '\n",
      "                                     'profissional e gerencial'},\n",
      "                            {'code': '95.21-5-00',\n",
      "                             'text': 'Reparação e manutenção de equipamentos '\n",
      "                                     'eletroeletrônicos de uso pessoal e '\n",
      "                                     'doméstico'},\n",
      "                            {'code': '95.11-8-00',\n",
      "                             'text': 'Reparação e manutenção de computadores e '\n",
      "                                     'de equipamentos periféricos'},\n",
      "                            {'code': '26.32-9-00',\n",
      "                             'text': 'Fabricação de aparelhos telefônicos e de '\n",
      "                                     'outros equipamentos de comunicação, '\n",
      "                                     'peças e acessórios'}],\n",
      " 'bairro': 'DISTRITO INDUSTRIAL I',\n",
      " 'billing': {'database': True, 'free': True},\n",
      " 'capital_social': '0.00',\n",
      " 'cep': '69.075-110',\n",
      " 'cnpj': '81.243.735/0019-77',\n",
      " 'complemento': 'LOTE 257-B',\n",
      " 'data_situacao': '28/08/2015',\n",
      " 'data_situacao_especial': '',\n",
      " 'efr': '',\n",
      " 'email': 'fiscal@positivo.com.br',\n",
      " 'extra': {},\n",
      " 'fantasia': '',\n",
      " 'logradouro': 'R JAVARI',\n",
      " 'motivo_situacao': '',\n",
      " 'municipio': 'MANAUS',\n",
      " 'natureza_juridica': '204-6 - Sociedade Anônima Aberta',\n",
      " 'nome': 'POSITIVO TECNOLOGIA S.A.',\n",
      " 'numero': '1255',\n",
      " 'porte': 'DEMAIS',\n",
      " 'qsa': [],\n",
      " 'situacao': 'ATIVA',\n",
      " 'situacao_especial': '',\n",
      " 'status': 'OK',\n",
      " 'telefone': '(41) 3316-7700',\n",
      " 'tipo': 'FILIAL',\n",
      " 'uf': 'AM',\n",
      " 'ultima_atualizacao': '2023-10-31T17:55:35.174Z'}\n"
     ]
    }
   ],
   "source": [
    "def consulta_cnpj(numero_cnpj):\n",
    "    url = f\"https://receitaws.com.br/v1/cnpj/{numero_cnpj}\"\n",
    "\n",
    "    headers = {\"Accept\": \"application/json\"}\n",
    "\n",
    "    response = requests.get(url, headers=headers)\n",
    "    \n",
    "    dic_fornecedor = response.json()\n",
    "    \n",
    "    return dic_fornecedor\n",
    "\n",
    "# Criar um dicionário vazio fora da função\n",
    "dicionario = {}\n",
    "\n",
    "# Chamar a função e atribuir o resultado ao dicionário\n",
    "dicionario = consulta_cnpj('81243735001977')\n",
    "\n",
    "# Imprimir o dicionário\n",
    "pprint(dicionario)"
   ]
  },
  {
   "cell_type": "code",
   "execution_count": 18,
   "metadata": {},
   "outputs": [
    {
     "name": "stdout",
     "output_type": "stream",
     "text": [
      "{'abertura': '28/08/2015',\n",
      " 'atividade_principal': [{'code': '26.21-3-00',\n",
      "                          'text': 'Fabricação de equipamentos de informática'}],\n",
      " 'atividades_secundarias': [{'code': '26.22-1-00',\n",
      "                             'text': 'Fabricação de periféricos para '\n",
      "                                     'equipamentos de informática'},\n",
      "                            {'code': '27.59-7-99',\n",
      "                             'text': 'Fabricação de outros aparelhos '\n",
      "                                     'eletrodomésticos não especificados '\n",
      "                                     'anteriormente, peças e acessórios'},\n",
      "                            {'code': '46.19-2-00',\n",
      "                             'text': 'Representantes comerciais e agentes do '\n",
      "                                     'comércio de mercadorias em geral não '\n",
      "                                     'especializado'},\n",
      "                            {'code': '46.51-6-01',\n",
      "                             'text': 'Comércio atacadista de equipamentos de '\n",
      "                                     'informática'},\n",
      "                            {'code': '47.54-7-01',\n",
      "                             'text': 'Comércio varejista de móveis'},\n",
      "                            {'code': '46.49-4-02',\n",
      "                             'text': 'Comércio atacadista de aparelhos '\n",
      "                                     'eletrônicos de uso pessoal e doméstico'},\n",
      "                            {'code': '46.47-8-02',\n",
      "                             'text': 'Comércio atacadista de livros, jornais e '\n",
      "                                     'outras publicações'},\n",
      "                            {'code': '62.04-0-00',\n",
      "                             'text': 'Consultoria em tecnologia da informação'},\n",
      "                            {'code': '62.02-3-00',\n",
      "                             'text': 'Desenvolvimento e licenciamento de '\n",
      "                                     'programas de computador customizáveis'},\n",
      "                            {'code': '63.19-4-00',\n",
      "                             'text': 'Portais, provedores de conteúdo e outros '\n",
      "                                     'serviços de informação na internet'},\n",
      "                            {'code': '62.01-5-01',\n",
      "                             'text': 'Desenvolvimento de programas de '\n",
      "                                     'computador sob encomenda'},\n",
      "                            {'code': '58.11-5-00', 'text': 'Edição de livros'},\n",
      "                            {'code': '64.62-0-00',\n",
      "                             'text': 'Holdings de instituições '\n",
      "                                     'não-financeiras'},\n",
      "                            {'code': '71.19-7-03',\n",
      "                             'text': 'Serviços de desenho técnico relacionados '\n",
      "                                     'à arquitetura e engenharia'},\n",
      "                            {'code': '77.33-1-00',\n",
      "                             'text': 'Aluguel de máquinas e equipamentos para '\n",
      "                                     'escritórios'},\n",
      "                            {'code': '77.40-3-00',\n",
      "                             'text': 'Gestão de ativos intangíveis '\n",
      "                                     'não-financeiros'},\n",
      "                            {'code': '85.50-3-02',\n",
      "                             'text': 'Atividades de apoio à educação, exceto '\n",
      "                                     'caixas escolares'},\n",
      "                            {'code': '85.99-6-04',\n",
      "                             'text': 'Treinamento em desenvolvimento '\n",
      "                                     'profissional e gerencial'},\n",
      "                            {'code': '95.21-5-00',\n",
      "                             'text': 'Reparação e manutenção de equipamentos '\n",
      "                                     'eletroeletrônicos de uso pessoal e '\n",
      "                                     'doméstico'},\n",
      "                            {'code': '95.11-8-00',\n",
      "                             'text': 'Reparação e manutenção de computadores e '\n",
      "                                     'de equipamentos periféricos'},\n",
      "                            {'code': '26.32-9-00',\n",
      "                             'text': 'Fabricação de aparelhos telefônicos e de '\n",
      "                                     'outros equipamentos de comunicação, '\n",
      "                                     'peças e acessórios'}],\n",
      " 'bairro': 'DISTRITO INDUSTRIAL I',\n",
      " 'billing': {'database': True, 'free': True},\n",
      " 'capital_social': '0.00',\n",
      " 'cep': '69.075-110',\n",
      " 'cnpj': '81.243.735/0019-77',\n",
      " 'complemento': 'LOTE 257-B',\n",
      " 'data_situacao': '28/08/2015',\n",
      " 'data_situacao_especial': '',\n",
      " 'efr': '',\n",
      " 'email': 'fiscal@positivo.com.br',\n",
      " 'extra': {},\n",
      " 'fantasia': '',\n",
      " 'logradouro': 'R JAVARI',\n",
      " 'motivo_situacao': '',\n",
      " 'municipio': 'MANAUS',\n",
      " 'natureza_juridica': '204-6 - Sociedade Anônima Aberta',\n",
      " 'nome': 'POSITIVO TECNOLOGIA S.A.',\n",
      " 'numero': '1255',\n",
      " 'porte': 'DEMAIS',\n",
      " 'qsa': [],\n",
      " 'situacao': 'ATIVA',\n",
      " 'situacao_especial': '',\n",
      " 'status': 'OK',\n",
      " 'telefone': '(41) 3316-7700',\n",
      " 'tipo': 'FILIAL',\n",
      " 'uf': 'AM',\n",
      " 'ultima_atualizacao': '2023-10-31T17:55:35.174Z'}\n"
     ]
    }
   ],
   "source": [
    "pprint(dicionario)"
   ]
  },
  {
   "cell_type": "code",
   "execution_count": 19,
   "metadata": {},
   "outputs": [
    {
     "data": {
      "text/plain": [
       "'POSITIVO TECNOLOGIA S.A.'"
      ]
     },
     "execution_count": 19,
     "metadata": {},
     "output_type": "execute_result"
    }
   ],
   "source": [
    "dicionario['nome']"
   ]
  },
  {
   "cell_type": "code",
   "execution_count": 20,
   "metadata": {},
   "outputs": [
    {
     "data": {
      "text/plain": [
       "'(41) 3316-7700'"
      ]
     },
     "execution_count": 20,
     "metadata": {},
     "output_type": "execute_result"
    }
   ],
   "source": [
    "dicionario['telefone']"
   ]
  },
  {
   "cell_type": "code",
   "execution_count": 21,
   "metadata": {},
   "outputs": [
    {
     "data": {
      "text/plain": [
       "'fiscal@positivo.com.br'"
      ]
     },
     "execution_count": 21,
     "metadata": {},
     "output_type": "execute_result"
    }
   ],
   "source": [
    "dicionario['email']"
   ]
  },
  {
   "cell_type": "code",
   "execution_count": 22,
   "metadata": {},
   "outputs": [
    {
     "data": {
      "text/plain": [
       "'R JAVARI, 1255 - DISTRITO INDUSTRIAL I - MANAUS / AM'"
      ]
     },
     "execution_count": 22,
     "metadata": {},
     "output_type": "execute_result"
    }
   ],
   "source": [
    "dicionario['logradouro'] + ', ' + dicionario['numero'] + ' - ' + dicionario['bairro'] + ' - ' + dicionario['municipio'] + ' / ' + dicionario['uf']"
   ]
  },
  {
   "cell_type": "code",
   "execution_count": 23,
   "metadata": {},
   "outputs": [
    {
     "data": {
      "text/plain": [
       "array(['01590728000264', '05462543000144', '08792763000124',\n",
       "       '11142525000188', '28811718000187', '31053239000153',\n",
       "       '33658130000175', '37583132000101', '01590728000850',\n",
       "       '05872523000141', '06981180000116', '09583781000169',\n",
       "       '12742245000173', '17281106000103', '20584944000160',\n",
       "       '27325275000151', '27995686000154', '34028316001509',\n",
       "       '39319890000134', '41505690000118', '41776201000162',\n",
       "       '43003732000148', '43433811000199', '44812602000119',\n",
       "       '45424853000199', '76535764000143', '00139736000145',\n",
       "       '01255291000121', '01804159000121', '02338743000100',\n",
       "       '02347121000210', '03157268000120', '03539933000140',\n",
       "       '04785664000164', '05088041000103', '06022475000165',\n",
       "       '06131805000150', '06894510000136', '07027329743',\n",
       "       '07457410000296', '07912053000128', '08605233000120',\n",
       "       '08703140000138', '09035549000196', '09249668000141',\n",
       "       '09505477000101', '10463704000154', '10526703000101',\n",
       "       '10842829000195', '10902067000175', '11094173000132',\n",
       "       '11532912000120', '12669334000131', '13857945000176',\n",
       "       '13986656000177', '14459158000139', '14807420000199',\n",
       "       '14951451000119', '14968227000130', '15153524000190',\n",
       "       '17254509000163', '17623276000129', '17955535000119',\n",
       "       '18707234000139', '18726078000153', '19234111000190',\n",
       "       '19612735000102', '19994997000170', '20240470000130',\n",
       "       '21331404000138', '21425509000156', '21578205000129',\n",
       "       '23122344000179', '23178866000192', '23533848000181',\n",
       "       '24083086000121', '26503796000199', '27619368000199',\n",
       "       '28719518000107', '29704594000101', '29774797000166',\n",
       "       '30189974000126', '31535157000145', '32542998000142',\n",
       "       '33171503000189', '35764167000103', '36277221000159',\n",
       "       '37087255000143', '38084736000168', '39242061000109',\n",
       "       '39988022000147', '39999415000156', '40000327000188',\n",
       "       '40223106000179', '40225662000184', '40695811000179',\n",
       "       '41841443000192', '42107381000152', '42772140000128',\n",
       "       '43892634000109', '43928711000133', '44384524000107',\n",
       "       '45135133000103', '45258432000216', '45769285000168',\n",
       "       '46367384000186', '46920049000163', '47378309000183',\n",
       "       '48778881000100', '48959315000197', '49316139000138',\n",
       "       '49577909000104', '49720354000108', '51204249000150',\n",
       "       '53202768000104', '65095531000150', '65271868000171',\n",
       "       '65295172000185', '65353401000170', '76535764000658',\n",
       "       '06187402000123', '13218025000108', '19299157000198',\n",
       "       '20324748000157', '30678144000162', '36434865000103',\n",
       "       '38339341000169', '12433700000159', '19791896006486',\n",
       "       '19871268000127', '20421805000116', '20702528000110',\n",
       "       '20942789000107', '21016690000147', '26517495000114',\n",
       "       '31038751000120', '33180160000119', '37748531000177',\n",
       "       '71001465000105', '05291541000130', '06910908000119',\n",
       "       '07259386000108', '07665456000110', '08194579000182',\n",
       "       '08532500000186', '09039582000194', '10614788000180',\n",
       "       '10626630000120', '10653955000100', '11186469000183',\n",
       "       '14163479000191', '14203779000157', '15407876000124',\n",
       "       '19769219000188', '21348054000112', '21971041000103',\n",
       "       '28259514000185', '29455568000189', '29926189000120',\n",
       "       '30372538000198', '31206933000163', '31634238000100',\n",
       "       '31669124000198', '33497491000187', '33618396000194',\n",
       "       '35307908000127', '35411786000114', '36045363000190',\n",
       "       '37421415000149', '40224243000128', '43782859000102',\n",
       "       '44259236000112', '45229830697', '45495742672', '47043589000179',\n",
       "       '47078180000198', '47170510000170', '48085103000128',\n",
       "       '48087032000100', '48371796000115', '58586113034', '75126583620',\n",
       "       '79984357000101', '03849500000190', '00030005671', '00129400033',\n",
       "       '00159155061', '00431705100', '00526303310', '00571968341',\n",
       "       '00947703101', '01052392245', '01126681008', '01184973679',\n",
       "       '01261372697', '01299636071', '01353508242', '01737297388',\n",
       "       '01823919065', '01843667630', '02030864650', '02185403613',\n",
       "       '02209219035', '02241473669', '02261350120', '02279383055',\n",
       "       '02301609642', '02504342101', '02509259075', '02642693228',\n",
       "       '02711016013', '02850720054', '02852355086', '02872132180',\n",
       "       '02932035630', '03014138002', '03097492046', '03227074044',\n",
       "       '03266662148', '03284444050', '03293652743', '03377126031',\n",
       "       '03377882006', '03404424093', '03480581013', '03551914664',\n",
       "       '03558326237', '03852987067', '03905960001', '03917351013',\n",
       "       '03940728128', '03958083595', '03962053050', '04023542652',\n",
       "       '04038072045', '04160798730', '04205973012', '04216220592',\n",
       "       '04229519001', '04229605277', '04264514657', '04310361102',\n",
       "       '04333000009', '04345498007', '04390724096', '04397411654',\n",
       "       '04407533099', '04579685083', '04917001056', '05040719639',\n",
       "       '05108416946', '05146300194', '05183711313', '05241255621',\n",
       "       '05295144194', '05337761471', '05474497989', '05573004794',\n",
       "       '05621642350', '05665961647', '05689692190', '05716221602',\n",
       "       '06087002154', '06119354301', '06190533647', '06229234637',\n",
       "       '06334289659', '06383501666', '06387681600', '06467068459',\n",
       "       '06472724318', '06586004608', '06615892189', '06783256502',\n",
       "       '06801474626', '06865067746', '07039512114', '07169524325',\n",
       "       '07194826151', '07270889120', '07273046159', '07346767608',\n",
       "       '07378567698', '07498200635', '07524298331', '07637429610',\n",
       "       '07645389699', '07816107706', '07820373644', '07934460589',\n",
       "       '07965131390', '08035166301', '08053237320', '08065029400',\n",
       "       '08223819589', '08225349326', '08277144598', '08827947957',\n",
       "       '08967602600', '08970525521', '09003617600', '09007785630',\n",
       "       '09017890460', '09063171935', '09064361762', '09223582652',\n",
       "       '09249396481', '09294720632', '09545339683', '09654115751',\n",
       "       '09663352795', '09679621960', '09839706969', '09849919647',\n",
       "       '10178028746', '10220358605', '10369164725', '10375927603',\n",
       "       '10377203696', '10384918603', '10402385640', '10453836607',\n",
       "       '10515060690', '10542917483', '10668899450', '10691028494',\n",
       "       '10698907400', '10762929766', '10830709673', '10853684758',\n",
       "       '10957557493', '11018705759', '11071537601', '11191518728',\n",
       "       '11215227698', '11219031933', '11227792670', '11324227605',\n",
       "       '11462121608', '11564639630', '11579816665', '11638652651',\n",
       "       '11646858646', '11651502714', '11713215705', '11742102492',\n",
       "       '11850847703', '11853066761', '11877498777', '11938847482',\n",
       "       '12149124785', '12173899465', '12303008646', '12309098698',\n",
       "       '12394528613', '12422845754', '12429302721', '12453891731',\n",
       "       '12464606707', '12719653640', '12916601600', '12923860616',\n",
       "       '12929795425', '13139077661', '13283577757', '13353836624',\n",
       "       '13507302624', '13536452744', '13544317745', '13588077790',\n",
       "       '13617344771', '13692922795', '13705740610', '13758539617',\n",
       "       '13768501680', '13775034617', '13958368760', '14018103735',\n",
       "       '14100963602', '14321880467', '14410235699', '14441938721',\n",
       "       '14499874785', '14587587451', '14596998663', '14696902765',\n",
       "       '14805444770', '14893184709', '15018577703', '15144916724',\n",
       "       '15179822785', '15252301743', '15272760743', '15355213766',\n",
       "       '15549541777', '15553383722', '15582447784', '15586334720',\n",
       "       '15621793730', '15658665760', '15692767732', '15789911706',\n",
       "       '16013199752', '16072000746', '16177238785', '16374666763',\n",
       "       '16461345752', '16463775754', '16488471708', '16632952712',\n",
       "       '16664689758', '16702196741', '16752671702', '16850127799',\n",
       "       '16853286790', '16947768756', '16950689713', '16958518705',\n",
       "       '16967988760', '16996092760', '17011304754', '17056850723',\n",
       "       '17192911798', '17352190708', '17451899713', '17527919752',\n",
       "       '17752344796', '17790041762', '17836610705', '17982659748',\n",
       "       '18006853789', '18018984727', '18243205748', '18505190726',\n",
       "       '18565051706', '18603247706', '18613878733', '18639465789',\n",
       "       '18652250707', '18725986767', '18823937752', '18842806765',\n",
       "       '18845354709', '18860838789', '18863146756', '19392505795',\n",
       "       '19763491762', '36651018833', '38066039875', '38531643821',\n",
       "       '38611738837', '38741026888', '39325275856', '39342129803',\n",
       "       '41580232892', '44099351866', '44771480893', '45030927824',\n",
       "       '46960233895', '46983920805', '47028174859', '47039641801',\n",
       "       '47582584813', '48292262857', '49353908833', '49650302816',\n",
       "       '49851404810', '50952859831', '60455085307', '64819396315',\n",
       "       '65152980053', '70180361430', '70198954417', '70279878486',\n",
       "       '70298334496', '70323055478', '70369439473', '70511651430',\n",
       "       '70983535400', '71049828410', '72640260006', '72809914249',\n",
       "       '79222030982', '82518157034', '86113510530', '86223518668',\n",
       "       '86349080548', '86374303091', '87286297287', '88291421587',\n",
       "       '89072707168', '91413346472', '17289559000186', '05860142000142',\n",
       "       '33345691000114', '47122108000110', '92221589000176',\n",
       "       '21442038000194', '23614351000198', '24377448000197',\n",
       "       '28453974000140', '32160412000185', '35339031000156',\n",
       "       '02273057000190', '02729859000161', '02829044000154',\n",
       "       '03333999000189', '03541496000107', '03716644000179',\n",
       "       '04664903000128', '06307463000187', '07266248000148',\n",
       "       '07764000000107', '08563964000150', '08593332000139',\n",
       "       '08990041000184', '11003995000160', '11210857000152',\n",
       "       '11262969000157', '11718643000191', '13299823000101',\n",
       "       '19933130000105', '20183508000180', '23121810000100',\n",
       "       '28591670000149', '28888423000109', '31682616000113',\n",
       "       '31714734000166', '33739848000196', '38073038000167',\n",
       "       '40478639000100', '44429540000160', '47440165000148',\n",
       "       '48241204000140', '58512096000157', '06251822000121',\n",
       "       '01342660000113', '02246382000163', '08304573000110',\n",
       "       '08664980000139', '09325742000161', '28039386000164',\n",
       "       '28683271000108', '40166705000106', '42528905000189',\n",
       "       '46209139000140', '79034153000100', '00626625000163',\n",
       "       '10198809000123', '20784313000195', '32800531000155',\n",
       "       '37256751000183', '68533967000172', '02421421000111',\n",
       "       '04790917000198', '05691235000190', '06071701000106',\n",
       "       '07048323000102', '07385089000109', '07851262000109',\n",
       "       '14517117000151', '15072268000106', '17590881000302',\n",
       "       '18828894000330', '22382705000153', '24547043000150',\n",
       "       '26669742000106', '31411095000160', '34298882000135',\n",
       "       '37392691000126', '38680138000151', '40689972000150',\n",
       "       '41866869000109', '42176264000140', '43838684000108',\n",
       "       '45293736000133', '45930390000137', '01088055000168',\n",
       "       '01089802000182', '01904037054', '03979214000140',\n",
       "       '04087710000151', '05191550000230', '06178319000198',\n",
       "       '07845581000101', '08096586000141', '08658622000113',\n",
       "       '09450715000110', '11456144000173', '12007998000135',\n",
       "       '12013565000192', '12032954000165', '12279099000191',\n",
       "       '13759849000195', '13990290000100', '15494741000143',\n",
       "       '15724019000158', '17339156000102', '18202203000126',\n",
       "       '18274923000105', '19026964000137', '20362687000112',\n",
       "       '20402517000114', '20915722000183', '21143541000149',\n",
       "       '21597955000148', '21793208000185', '21942511000100',\n",
       "       '24183988000130', '25271628000152', '28076288000105',\n",
       "       '28320324000126', '30399473000174', '31724820000150',\n",
       "       '32005178000111', '32316475000188', '33323653000160',\n",
       "       '33486276000180', '34719908000171', '34734782000104',\n",
       "       '35099493000143', '39236457000135', '39619837000230',\n",
       "       '40214888000180', '40358740000119', '40700611000167',\n",
       "       '41053476000178', '41680761000119', '42262411000103',\n",
       "       '42438841000125', '43161042000117', '43731740000100',\n",
       "       '45250428000120', '45332828000185', '45540617000138',\n",
       "       '46476518000105', '47308261000137', '48080508000173',\n",
       "       '48337870000187', '48779371000140', '49834027000179',\n",
       "       '50317178000139', '59717553000617', '71359939000195',\n",
       "       '81243735000903', '81243735001977', '11088488000177',\n",
       "       '11855738000157', '17281973000300', '31719674000174',\n",
       "       '42348400000132', '61418141000113', '06351401000172',\n",
       "       '08906031000118', '08907476000112', '11768653000131',\n",
       "       '13642117000110', '13680603000123', '167129', '19116488000145',\n",
       "       '25406063000173', '27028550000175', '28423235000105',\n",
       "       '29023342000109', '30647055000159', '31731853000127',\n",
       "       '39334587000100', '39889596000168', '40426345000126',\n",
       "       '42727372000164', '43471392000180', '47531706000143',\n",
       "       '47725628000118', '00316937000170', '00577773000135',\n",
       "       '01008092000119', '01098104000143', '01509731000391',\n",
       "       '02108761000197', '02482141000113', '02668731000135',\n",
       "       '02784905000125', '02848925647', '02929143000108',\n",
       "       '03059040000105', '03856561000185', '03930660000160',\n",
       "       '04648489000163', '04992161000160', '05194005000116',\n",
       "       '05400006000170', '05461861000190', '05552239000198',\n",
       "       '05741540000140', '05823817000183', '06024718000102',\n",
       "       '06334550000123', '07119678000137', '07285389000108',\n",
       "       '07608700000102', '07690038000182', '07809370000113',\n",
       "       '07976966000108', '08278883000108', '08928430631',\n",
       "       '08986188000109', '09215883000121', '09222369000113',\n",
       "       '09380005000161', '10372200000129', '10450143000159',\n",
       "       '10489922000168', '10600312000190', '10899734000108',\n",
       "       '11708426000110', '11737090000114', '12482902000190',\n",
       "       '12769734000119', '12799335000109', '12968777000123',\n",
       "       '13407849000126', '13444848000151', '13609307000136',\n",
       "       '13700015682', '14233622000174', '16926786000102',\n",
       "       '17412396000187', '17413469000155', '17421504000188',\n",
       "       '17457610000111', '17845504000296', '18226970000175',\n",
       "       '18632315000117', '18730868000102', '18901645000160',\n",
       "       '19625870000184', '19863357000121', '20382743000180',\n",
       "       '20469180000162', '21013054000161', '21390591000120',\n",
       "       '21781767000175', '22016266000165', '22073381000171',\n",
       "       '22077499000178', '22579804000120', '22705870000107',\n",
       "       '23302414000170', '23814905000109', '24151595000144',\n",
       "       '24194533000110', '25641788000146', '25641788000227',\n",
       "       '25642083000143', '25642331000156', '25643420000117',\n",
       "       '25656463000137', '26001891000194', '26886495000191',\n",
       "       '27656480000108', '27862855000188', '28147573000161',\n",
       "       '28460991000104', '28820255000110', '29034549000189',\n",
       "       '29985857000190', '30041676000194', '30379344000114',\n",
       "       '30865026653', '30925385000169', '31791247687', '32677058000160',\n",
       "       '33013209000149', '33992679000100', '34672800000170',\n",
       "       '35706397000116', '36874484000145', '37686780678',\n",
       "       '41884255000141', '42529374000149', '42855999000362',\n",
       "       '43507304000152', '44223526000106', '44982273000154',\n",
       "       '45125667000159', '50429810000136', '55221181649', '57122873668',\n",
       "       '58665102604', '64082717668', '64273048000156', '79988601620',\n",
       "       '81061242668', '92887210610', '00029957605', '00386000000171',\n",
       "       '00583615619', '01172671630', '01253802670', '01412905605',\n",
       "       '01808192000120', '01852701668', '02206069000100', '02690065673',\n",
       "       '03008284620', '03065063000114', '03123441717', '03479428000157',\n",
       "       '03481648669', '03700858680', '03841488676', '03851189000114',\n",
       "       '04299096673', '04628307644', '05490249000146', '05565735602',\n",
       "       '06003234636', '07267191614', '07352375651', '07817955000185',\n",
       "       '07822118000144', '08528006000148', '08697852000191',\n",
       "       '08930415644', '09006743690', '10031026702', '10197494000108',\n",
       "       '10493969000103', '10569086000121', '10710529775',\n",
       "       '11708655000135', '11803092602', '12614671673', '13081240000100',\n",
       "       '13823529000157', '14905502000176', '14987491000110',\n",
       "       '15072183000128', '15210886000175', '15329152000100',\n",
       "       '15439366000139', '16633511000180', '17496898000133',\n",
       "       '21425822000194', '23119087000116', '25301210000140',\n",
       "       '25386019000149', '25863390000154', '26401571000121',\n",
       "       '26600459000110', '27205945000104', '28429720000196',\n",
       "       '29043834000166', '29650220000142', '30082076000174',\n",
       "       '30814518000120', '31339053000165', '31958700000117',\n",
       "       '33615509000106', '34379797000100', '34788645000152',\n",
       "       '35865185870', '36999842000146', '39452748000160',\n",
       "       '40131537000105', '40220898000128', '40274237000185',\n",
       "       '40734984000159', '41342716000154', '41733464000194',\n",
       "       '41833129000168', '42343998000177', '43241204000127',\n",
       "       '43473645000154', '44044562000102', '45169346000156',\n",
       "       '46218314000166', '46940235787', '47101984000160',\n",
       "       '47941098000145', '48489837000172', '48624749000136',\n",
       "       '48920400000141', '49006412000128', '49287499000159',\n",
       "       '49932039772', '510001', '51234341000162', '52704921000139',\n",
       "       '54611288668', '67403154000103', '69315850106', '70797366334',\n",
       "       '70886644615', '71346480000195', '73514580000109', '75729466668',\n",
       "       '80531580644', '88014006000169', '02700680669', '02852112698',\n",
       "       '04567265000127', '13754000000129', '98488040644'], dtype=object)"
      ]
     },
     "execution_count": 23,
     "metadata": {},
     "output_type": "execute_result"
    }
   ],
   "source": [
    "# filtrando dos dados da coluna FAV\n",
    "df_cnpj = df[df['NOME_PI'] != 'PROFISSIONAL DE SAUDE AUTONOMO']\n",
    "df_cnpj = df[df['NOME_PI'] != 'ATENDIMENTO MEDICO-HOPITALR/FC']\n",
    "df_cnpj = df[df['NOME_PI'] != 'IND-INDENIZACOES']\n",
    "df_cnpj = df[df['NOME_PI'] != 'IND - INDENIZACOES']\n",
    "df_cnpj = df[df['NOME_PI'] != 'INDENIZACAO DESPESAS.']\n",
    "df_cnpj = df[df['NOME_PI'] != 'AUXILIO FINANCEIRO NÃO INDENIZÁVEL']\n",
    "df_cnpj = df[df['NOME_PI'] != 'INRE - RESTITUICAO E RESSARCIMENTO']\n",
    "df_cnpj = df[df['NOME_NDSI'] != 'OUTROS SERV.DE TERCEIROS PJ- PAGTO ANTECIPADO']\n",
    "df_cnpj = df[df['CREDOR'] != '160129']\n",
    "\n",
    "df_cnpj['CREDOR'].unique()"
   ]
  },
  {
   "cell_type": "code",
   "execution_count": 24,
   "metadata": {},
   "outputs": [
    {
     "data": {
      "text/html": [
       "<div>\n",
       "<style scoped>\n",
       "    .dataframe tbody tr th:only-of-type {\n",
       "        vertical-align: middle;\n",
       "    }\n",
       "\n",
       "    .dataframe tbody tr th {\n",
       "        vertical-align: top;\n",
       "    }\n",
       "\n",
       "    .dataframe thead th {\n",
       "        text-align: right;\n",
       "    }\n",
       "</style>\n",
       "<table border=\"1\" class=\"dataframe\">\n",
       "  <thead>\n",
       "    <tr style=\"text-align: right;\">\n",
       "      <th></th>\n",
       "      <th>UG</th>\n",
       "      <th>SIGLA UG</th>\n",
       "      <th>ACAO</th>\n",
       "      <th>NOME_ACAO</th>\n",
       "      <th>ANO</th>\n",
       "      <th>CREDOR</th>\n",
       "      <th>NOME_CREDOR</th>\n",
       "      <th>DATA</th>\n",
       "      <th>DIAS</th>\n",
       "      <th>ICFEX</th>\n",
       "      <th>NOME_ICFEX</th>\n",
       "      <th>ND</th>\n",
       "      <th>NOME_ND</th>\n",
       "      <th>NDSI</th>\n",
       "      <th>NOME_NDSI</th>\n",
       "      <th>NE</th>\n",
       "      <th>PI</th>\n",
       "      <th>NOME_PI</th>\n",
       "      <th>PROGRAMA</th>\n",
       "      <th>PTRES</th>\n",
       "      <th>TIPO</th>\n",
       "      <th>TIPO_NE</th>\n",
       "      <th>LOCAL</th>\n",
       "      <th>UF_CREDOR</th>\n",
       "      <th>UF_UG</th>\n",
       "      <th>UGR</th>\n",
       "      <th>NOME_UGR</th>\n",
       "      <th>RADPI4</th>\n",
       "      <th>MEIPI3</th>\n",
       "      <th>SUFPI4</th>\n",
       "      <th>A_LIQUIDAR</th>\n",
       "      <th>LIQUIDADO_A_PAGAR</th>\n",
       "      <th>TOTAL_A_PAGAR</th>\n",
       "      <th>PAGO</th>\n",
       "    </tr>\n",
       "  </thead>\n",
       "  <tbody>\n",
       "  </tbody>\n",
       "</table>\n",
       "</div>"
      ],
      "text/plain": [
       "Empty DataFrame\n",
       "Columns: [UG, SIGLA UG, ACAO, NOME_ACAO, ANO, CREDOR, NOME_CREDOR, DATA, DIAS, ICFEX, NOME_ICFEX, ND, NOME_ND, NDSI, NOME_NDSI, NE, PI, NOME_PI, PROGRAMA, PTRES, TIPO, TIPO_NE, LOCAL, UF_CREDOR, UF_UG, UGR, NOME_UGR, RADPI4, MEIPI3, SUFPI4, A_LIQUIDAR, LIQUIDADO_A_PAGAR, TOTAL_A_PAGAR, PAGO]\n",
       "Index: []"
      ]
     },
     "execution_count": 24,
     "metadata": {},
     "output_type": "execute_result"
    }
   ],
   "source": [
    "df_cnpj[df_cnpj['CREDOR'] == '160129']"
   ]
  },
  {
   "cell_type": "code",
   "execution_count": 25,
   "metadata": {},
   "outputs": [
    {
     "data": {
      "text/html": [
       "<div>\n",
       "<style scoped>\n",
       "    .dataframe tbody tr th:only-of-type {\n",
       "        vertical-align: middle;\n",
       "    }\n",
       "\n",
       "    .dataframe tbody tr th {\n",
       "        vertical-align: top;\n",
       "    }\n",
       "\n",
       "    .dataframe thead th {\n",
       "        text-align: right;\n",
       "    }\n",
       "</style>\n",
       "<table border=\"1\" class=\"dataframe\">\n",
       "  <thead>\n",
       "    <tr style=\"text-align: right;\">\n",
       "      <th></th>\n",
       "      <th>UG</th>\n",
       "      <th>SIGLA UG</th>\n",
       "      <th>ACAO</th>\n",
       "      <th>NOME_ACAO</th>\n",
       "      <th>ANO</th>\n",
       "      <th>CREDOR</th>\n",
       "      <th>NOME_CREDOR</th>\n",
       "      <th>DATA</th>\n",
       "      <th>DIAS</th>\n",
       "      <th>ICFEX</th>\n",
       "      <th>NOME_ICFEX</th>\n",
       "      <th>ND</th>\n",
       "      <th>NOME_ND</th>\n",
       "      <th>NDSI</th>\n",
       "      <th>NOME_NDSI</th>\n",
       "      <th>NE</th>\n",
       "      <th>PI</th>\n",
       "      <th>NOME_PI</th>\n",
       "      <th>PROGRAMA</th>\n",
       "      <th>PTRES</th>\n",
       "      <th>TIPO</th>\n",
       "      <th>TIPO_NE</th>\n",
       "      <th>LOCAL</th>\n",
       "      <th>UF_CREDOR</th>\n",
       "      <th>UF_UG</th>\n",
       "      <th>UGR</th>\n",
       "      <th>NOME_UGR</th>\n",
       "      <th>RADPI4</th>\n",
       "      <th>MEIPI3</th>\n",
       "      <th>SUFPI4</th>\n",
       "      <th>A_LIQUIDAR</th>\n",
       "      <th>LIQUIDADO_A_PAGAR</th>\n",
       "      <th>TOTAL_A_PAGAR</th>\n",
       "      <th>PAGO</th>\n",
       "    </tr>\n",
       "  </thead>\n",
       "  <tbody>\n",
       "    <tr>\n",
       "      <th>0</th>\n",
       "      <td>160129</td>\n",
       "      <td>ESA</td>\n",
       "      <td>156M</td>\n",
       "      <td>MODERNIZACAO E TRANSFORMACAO ESTRATEG</td>\n",
       "      <td>2023</td>\n",
       "      <td>01590728000264</td>\n",
       "      <td>MICROTECNICA INFORMATICA LTDA</td>\n",
       "      <td>2023-11-01</td>\n",
       "      <td>1</td>\n",
       "      <td>160533</td>\n",
       "      <td>4º CGCFEX</td>\n",
       "      <td>449052</td>\n",
       "      <td>EQUIPAMENTOS E MATERIAL PERMANENTE</td>\n",
       "      <td>44905230</td>\n",
       "      <td>MAQUINAS E EQUIPAMENTOS ENERGETICOS</td>\n",
       "      <td>2023NE001319</td>\n",
       "      <td>F8MODCXDEGE</td>\n",
       "      <td>ATENDER NEC DECEX MODERNIZACAO OPERACIONAL</td>\n",
       "      <td>6012</td>\n",
       "      <td>171418</td>\n",
       "      <td>ANO</td>\n",
       "      <td>ORDINARIO</td>\n",
       "      <td>ESCOLA DE SARGENTOS DAS ARMAS</td>\n",
       "      <td>DF</td>\n",
       "      <td>MG</td>\n",
       "      <td>160503</td>\n",
       "      <td>DECEX/GESTOR</td>\n",
       "      <td>F8MO</td>\n",
       "      <td>DCX</td>\n",
       "      <td>DEGE</td>\n",
       "      <td>3720.60</td>\n",
       "      <td>0.0</td>\n",
       "      <td>3720.60</td>\n",
       "      <td>0.0</td>\n",
       "    </tr>\n",
       "    <tr>\n",
       "      <th>1</th>\n",
       "      <td>160129</td>\n",
       "      <td>ESA</td>\n",
       "      <td>156M</td>\n",
       "      <td>MODERNIZACAO E TRANSFORMACAO ESTRATEG</td>\n",
       "      <td>2023</td>\n",
       "      <td>05462543000144</td>\n",
       "      <td>EASYTECH INFORMATICA E SERVICOS LTDA</td>\n",
       "      <td>2023-10-31</td>\n",
       "      <td>2</td>\n",
       "      <td>160533</td>\n",
       "      <td>4º CGCFEX</td>\n",
       "      <td>449052</td>\n",
       "      <td>EQUIPAMENTOS E MATERIAL PERMANENTE</td>\n",
       "      <td>44905237</td>\n",
       "      <td>EQUIPAMENTOS DE TIC - ATIVOS DE REDE</td>\n",
       "      <td>2023NE001318</td>\n",
       "      <td>F8MODCXDEGE</td>\n",
       "      <td>ATENDER NEC DECEX MODERNIZACAO OPERACIONAL</td>\n",
       "      <td>6012</td>\n",
       "      <td>171418</td>\n",
       "      <td>ANO</td>\n",
       "      <td>ORDINARIO</td>\n",
       "      <td>ESCOLA DE SARGENTOS DAS ARMAS  - AVENIDA SETE ...</td>\n",
       "      <td>DF</td>\n",
       "      <td>MG</td>\n",
       "      <td>160503</td>\n",
       "      <td>DECEX/GESTOR</td>\n",
       "      <td>F8MO</td>\n",
       "      <td>DCX</td>\n",
       "      <td>DEGE</td>\n",
       "      <td>8070.92</td>\n",
       "      <td>0.0</td>\n",
       "      <td>8070.92</td>\n",
       "      <td>0.0</td>\n",
       "    </tr>\n",
       "    <tr>\n",
       "      <th>2</th>\n",
       "      <td>160129</td>\n",
       "      <td>ESA</td>\n",
       "      <td>156M</td>\n",
       "      <td>MODERNIZACAO E TRANSFORMACAO ESTRATEG</td>\n",
       "      <td>2023</td>\n",
       "      <td>08792763000124</td>\n",
       "      <td>MEGA BYTE MAGAZINE LTDA</td>\n",
       "      <td>2023-10-31</td>\n",
       "      <td>2</td>\n",
       "      <td>160533</td>\n",
       "      <td>4º CGCFEX</td>\n",
       "      <td>449052</td>\n",
       "      <td>EQUIPAMENTOS E MATERIAL PERMANENTE</td>\n",
       "      <td>44905241</td>\n",
       "      <td>EQUIPAMENTOS DE TIC - COMPUTADORES</td>\n",
       "      <td>2023NE001317</td>\n",
       "      <td>F8MODCXDEGE</td>\n",
       "      <td>ATENDER NEC DECEX MODERNIZACAO OPERACIONAL</td>\n",
       "      <td>6012</td>\n",
       "      <td>171418</td>\n",
       "      <td>ANO</td>\n",
       "      <td>ORDINARIO</td>\n",
       "      <td>ESCOLA DE SARGENTOS DAS ARMAS  - AVENIDA SETE ...</td>\n",
       "      <td>SP</td>\n",
       "      <td>MG</td>\n",
       "      <td>160503</td>\n",
       "      <td>DECEX/GESTOR</td>\n",
       "      <td>F8MO</td>\n",
       "      <td>DCX</td>\n",
       "      <td>DEGE</td>\n",
       "      <td>26270.00</td>\n",
       "      <td>0.0</td>\n",
       "      <td>26270.00</td>\n",
       "      <td>0.0</td>\n",
       "    </tr>\n",
       "    <tr>\n",
       "      <th>3</th>\n",
       "      <td>160129</td>\n",
       "      <td>ESA</td>\n",
       "      <td>156M</td>\n",
       "      <td>MODERNIZACAO E TRANSFORMACAO ESTRATEG</td>\n",
       "      <td>2023</td>\n",
       "      <td>11142525000188</td>\n",
       "      <td>CLEBER NASCIMENTO DA ROSA</td>\n",
       "      <td>2023-11-01</td>\n",
       "      <td>1</td>\n",
       "      <td>160533</td>\n",
       "      <td>4º CGCFEX</td>\n",
       "      <td>449052</td>\n",
       "      <td>EQUIPAMENTOS E MATERIAL PERMANENTE</td>\n",
       "      <td>44905233</td>\n",
       "      <td>EQUIPAMENTOS PARA AUDIO, VIDEO E FOTO</td>\n",
       "      <td>2023NE001322</td>\n",
       "      <td>F8MODCXDEGE</td>\n",
       "      <td>ATENDER NEC DECEX MODERNIZACAO OPERACIONAL</td>\n",
       "      <td>6012</td>\n",
       "      <td>171418</td>\n",
       "      <td>ANO</td>\n",
       "      <td>ORDINARIO</td>\n",
       "      <td>ESCOLA DE SARGENTOS DAS ARMAS</td>\n",
       "      <td>SC</td>\n",
       "      <td>MG</td>\n",
       "      <td>160503</td>\n",
       "      <td>DECEX/GESTOR</td>\n",
       "      <td>F8MO</td>\n",
       "      <td>DCX</td>\n",
       "      <td>DEGE</td>\n",
       "      <td>260.00</td>\n",
       "      <td>0.0</td>\n",
       "      <td>260.00</td>\n",
       "      <td>0.0</td>\n",
       "    </tr>\n",
       "    <tr>\n",
       "      <th>4</th>\n",
       "      <td>160129</td>\n",
       "      <td>ESA</td>\n",
       "      <td>156M</td>\n",
       "      <td>MODERNIZACAO E TRANSFORMACAO ESTRATEG</td>\n",
       "      <td>2023</td>\n",
       "      <td>28811718000187</td>\n",
       "      <td>BRUNO DIGITAL COMERCIO DE MERCADORIA EM GERAL ...</td>\n",
       "      <td>2023-10-31</td>\n",
       "      <td>2</td>\n",
       "      <td>160533</td>\n",
       "      <td>4º CGCFEX</td>\n",
       "      <td>449052</td>\n",
       "      <td>EQUIPAMENTOS E MATERIAL PERMANENTE</td>\n",
       "      <td>44905241</td>\n",
       "      <td>EQUIPAMENTOS DE TIC - COMPUTADORES</td>\n",
       "      <td>2023NE001316</td>\n",
       "      <td>F8MODCXDEGE</td>\n",
       "      <td>ATENDER NEC DECEX MODERNIZACAO OPERACIONAL</td>\n",
       "      <td>6012</td>\n",
       "      <td>171418</td>\n",
       "      <td>ANO</td>\n",
       "      <td>ORDINARIO</td>\n",
       "      <td>ESCOLA DE SARGENTOS DAS ARMAS  - AVENIDA SETE ...</td>\n",
       "      <td>SP</td>\n",
       "      <td>MG</td>\n",
       "      <td>160503</td>\n",
       "      <td>DECEX/GESTOR</td>\n",
       "      <td>F8MO</td>\n",
       "      <td>DCX</td>\n",
       "      <td>DEGE</td>\n",
       "      <td>79002.00</td>\n",
       "      <td>0.0</td>\n",
       "      <td>79002.00</td>\n",
       "      <td>0.0</td>\n",
       "    </tr>\n",
       "    <tr>\n",
       "      <th>...</th>\n",
       "      <td>...</td>\n",
       "      <td>...</td>\n",
       "      <td>...</td>\n",
       "      <td>...</td>\n",
       "      <td>...</td>\n",
       "      <td>...</td>\n",
       "      <td>...</td>\n",
       "      <td>...</td>\n",
       "      <td>...</td>\n",
       "      <td>...</td>\n",
       "      <td>...</td>\n",
       "      <td>...</td>\n",
       "      <td>...</td>\n",
       "      <td>...</td>\n",
       "      <td>...</td>\n",
       "      <td>...</td>\n",
       "      <td>...</td>\n",
       "      <td>...</td>\n",
       "      <td>...</td>\n",
       "      <td>...</td>\n",
       "      <td>...</td>\n",
       "      <td>...</td>\n",
       "      <td>...</td>\n",
       "      <td>...</td>\n",
       "      <td>...</td>\n",
       "      <td>...</td>\n",
       "      <td>...</td>\n",
       "      <td>...</td>\n",
       "      <td>...</td>\n",
       "      <td>...</td>\n",
       "      <td>...</td>\n",
       "      <td>...</td>\n",
       "      <td>...</td>\n",
       "      <td>...</td>\n",
       "    </tr>\n",
       "    <tr>\n",
       "      <th>3261</th>\n",
       "      <td>167129</td>\n",
       "      <td>ESA</td>\n",
       "      <td>2919</td>\n",
       "      <td>REGISTRO E FISCALIZACAO DE PRODUTOS C</td>\n",
       "      <td>2023</td>\n",
       "      <td>65095531000150</td>\n",
       "      <td>LOGOS PAPELARIA LTDA</td>\n",
       "      <td>2023-05-25</td>\n",
       "      <td>161</td>\n",
       "      <td>160533</td>\n",
       "      <td>4º CGCFEX</td>\n",
       "      <td>449052</td>\n",
       "      <td>EQUIPAMENTOS E MATERIAL PERMANENTE</td>\n",
       "      <td>44905245</td>\n",
       "      <td>EQUIPAMENTOS DE TIC - IMPRESSORAS</td>\n",
       "      <td>2023NE001044</td>\n",
       "      <td>E3PCFSCINFO</td>\n",
       "      <td>INFORMATICA</td>\n",
       "      <td>6012</td>\n",
       "      <td>215839</td>\n",
       "      <td>ANO</td>\n",
       "      <td>ORDINARIO</td>\n",
       "      <td>ESCOLA DE SARGENTOS DAS ARMAS  - AVENIDA SETE ...</td>\n",
       "      <td>MG</td>\n",
       "      <td>MG</td>\n",
       "      <td>167504</td>\n",
       "      <td>COEX - GESTOR</td>\n",
       "      <td>E3PC</td>\n",
       "      <td>FSC</td>\n",
       "      <td>INFO</td>\n",
       "      <td>0.00</td>\n",
       "      <td>0.0</td>\n",
       "      <td>0.00</td>\n",
       "      <td>1800.0</td>\n",
       "    </tr>\n",
       "    <tr>\n",
       "      <th>3262</th>\n",
       "      <td>167129</td>\n",
       "      <td>ESA</td>\n",
       "      <td>2919</td>\n",
       "      <td>REGISTRO E FISCALIZACAO DE PRODUTOS C</td>\n",
       "      <td>2023</td>\n",
       "      <td>81243735000903</td>\n",
       "      <td>POSITIVO TECNOLOGIA S.A.</td>\n",
       "      <td>2023-02-15</td>\n",
       "      <td>260</td>\n",
       "      <td>160533</td>\n",
       "      <td>4º CGCFEX</td>\n",
       "      <td>449052</td>\n",
       "      <td>EQUIPAMENTOS E MATERIAL PERMANENTE</td>\n",
       "      <td>44905241</td>\n",
       "      <td>EQUIPAMENTOS DE TIC - COMPUTADORES</td>\n",
       "      <td>2023NE000261</td>\n",
       "      <td>E3PCFSCINFO</td>\n",
       "      <td>INFORMATICA</td>\n",
       "      <td>6012</td>\n",
       "      <td>215839</td>\n",
       "      <td>ANO</td>\n",
       "      <td>ORDINARIO</td>\n",
       "      <td>ESCOLA DE SARGENTOS DAS ARMAS  - AVENIDA SETE ...</td>\n",
       "      <td>BA</td>\n",
       "      <td>MG</td>\n",
       "      <td>167504</td>\n",
       "      <td>COEX - GESTOR</td>\n",
       "      <td>E3PC</td>\n",
       "      <td>FSC</td>\n",
       "      <td>INFO</td>\n",
       "      <td>0.00</td>\n",
       "      <td>0.0</td>\n",
       "      <td>0.00</td>\n",
       "      <td>7114.0</td>\n",
       "    </tr>\n",
       "    <tr>\n",
       "      <th>3263</th>\n",
       "      <td>167129</td>\n",
       "      <td>ESA</td>\n",
       "      <td>2919</td>\n",
       "      <td>REGISTRO E FISCALIZACAO DE PRODUTOS C</td>\n",
       "      <td>2023</td>\n",
       "      <td>98488040644</td>\n",
       "      <td>MARIO HENRIQUE CUBBI</td>\n",
       "      <td>2023-05-22</td>\n",
       "      <td>164</td>\n",
       "      <td>160533</td>\n",
       "      <td>4º CGCFEX</td>\n",
       "      <td>339030</td>\n",
       "      <td>MATERIAL DE CONSUMO</td>\n",
       "      <td>33903001</td>\n",
       "      <td>COMBUSTIVEIS E LUBRIFICANTES AUTOMOTIVOS</td>\n",
       "      <td>2023NE001035</td>\n",
       "      <td>E3PCFSCCOLU</td>\n",
       "      <td>COMBUSTIVEIS E LUBRIFICANTES</td>\n",
       "      <td>6012</td>\n",
       "      <td>215839</td>\n",
       "      <td>ANO</td>\n",
       "      <td>ORDINARIO</td>\n",
       "      <td>ESCOLA DE SARGENTOS DAS ARMAS  - AVENIDA SETE ...</td>\n",
       "      <td>MG</td>\n",
       "      <td>MG</td>\n",
       "      <td>167504</td>\n",
       "      <td>COEX - GESTOR</td>\n",
       "      <td>E3PC</td>\n",
       "      <td>FSC</td>\n",
       "      <td>COLU</td>\n",
       "      <td>0.00</td>\n",
       "      <td>0.0</td>\n",
       "      <td>0.00</td>\n",
       "      <td>2236.2</td>\n",
       "    </tr>\n",
       "    <tr>\n",
       "      <th>3264</th>\n",
       "      <td>167129</td>\n",
       "      <td>ESA</td>\n",
       "      <td>2919</td>\n",
       "      <td>REGISTRO E FISCALIZACAO DE PRODUTOS C</td>\n",
       "      <td>2023</td>\n",
       "      <td>98488040644</td>\n",
       "      <td>MARIO HENRIQUE CUBBI</td>\n",
       "      <td>2023-08-31</td>\n",
       "      <td>63</td>\n",
       "      <td>160533</td>\n",
       "      <td>4º CGCFEX</td>\n",
       "      <td>339030</td>\n",
       "      <td>MATERIAL DE CONSUMO</td>\n",
       "      <td>33903096</td>\n",
       "      <td>MATERIAL DE CONSUMO - PAGTO ANTECIPADO</td>\n",
       "      <td>2023NE001506</td>\n",
       "      <td>E3PCOPFCOLU</td>\n",
       "      <td>COMBUSTIVEL E LUBRIFICANTES</td>\n",
       "      <td>6012</td>\n",
       "      <td>215839</td>\n",
       "      <td>ANO</td>\n",
       "      <td>ORDINARIO</td>\n",
       "      <td>ESCOLA DE SARGENTOS DAS ARMAS  - AVENIDA SETE ...</td>\n",
       "      <td>MG</td>\n",
       "      <td>MG</td>\n",
       "      <td>167504</td>\n",
       "      <td>COEX - GESTOR</td>\n",
       "      <td>E3PC</td>\n",
       "      <td>OPF</td>\n",
       "      <td>COLU</td>\n",
       "      <td>0.00</td>\n",
       "      <td>0.0</td>\n",
       "      <td>0.00</td>\n",
       "      <td>675.0</td>\n",
       "    </tr>\n",
       "    <tr>\n",
       "      <th>3265</th>\n",
       "      <td>167129</td>\n",
       "      <td>ESA</td>\n",
       "      <td>2919</td>\n",
       "      <td>REGISTRO E FISCALIZACAO DE PRODUTOS C</td>\n",
       "      <td>2023</td>\n",
       "      <td>98488040644</td>\n",
       "      <td>MARIO HENRIQUE CUBBI</td>\n",
       "      <td>2023-10-06</td>\n",
       "      <td>27</td>\n",
       "      <td>160533</td>\n",
       "      <td>4º CGCFEX</td>\n",
       "      <td>339030</td>\n",
       "      <td>MATERIAL DE CONSUMO</td>\n",
       "      <td>33903096</td>\n",
       "      <td>MATERIAL DE CONSUMO - PAGTO ANTECIPADO</td>\n",
       "      <td>2023NE001640</td>\n",
       "      <td>E3PCOPFCOLU</td>\n",
       "      <td>COMBUSTIVEL E LUBRIFICANTES</td>\n",
       "      <td>6012</td>\n",
       "      <td>215839</td>\n",
       "      <td>ANO</td>\n",
       "      <td>ORDINARIO</td>\n",
       "      <td>ESCOLA DE SARGENTOS DAS ARMAS  - AVENIDA SETE ...</td>\n",
       "      <td>MG</td>\n",
       "      <td>MG</td>\n",
       "      <td>167504</td>\n",
       "      <td>COEX - GESTOR</td>\n",
       "      <td>E3PC</td>\n",
       "      <td>OPF</td>\n",
       "      <td>COLU</td>\n",
       "      <td>600.00</td>\n",
       "      <td>0.0</td>\n",
       "      <td>600.00</td>\n",
       "      <td>0.0</td>\n",
       "    </tr>\n",
       "  </tbody>\n",
       "</table>\n",
       "<p>2949 rows × 34 columns</p>\n",
       "</div>"
      ],
      "text/plain": [
       "          UG SIGLA UG  ACAO                              NOME_ACAO   ANO  \\\n",
       "0     160129      ESA  156M  MODERNIZACAO E TRANSFORMACAO ESTRATEG  2023   \n",
       "1     160129      ESA  156M  MODERNIZACAO E TRANSFORMACAO ESTRATEG  2023   \n",
       "2     160129      ESA  156M  MODERNIZACAO E TRANSFORMACAO ESTRATEG  2023   \n",
       "3     160129      ESA  156M  MODERNIZACAO E TRANSFORMACAO ESTRATEG  2023   \n",
       "4     160129      ESA  156M  MODERNIZACAO E TRANSFORMACAO ESTRATEG  2023   \n",
       "...      ...      ...   ...                                    ...   ...   \n",
       "3261  167129      ESA  2919  REGISTRO E FISCALIZACAO DE PRODUTOS C  2023   \n",
       "3262  167129      ESA  2919  REGISTRO E FISCALIZACAO DE PRODUTOS C  2023   \n",
       "3263  167129      ESA  2919  REGISTRO E FISCALIZACAO DE PRODUTOS C  2023   \n",
       "3264  167129      ESA  2919  REGISTRO E FISCALIZACAO DE PRODUTOS C  2023   \n",
       "3265  167129      ESA  2919  REGISTRO E FISCALIZACAO DE PRODUTOS C  2023   \n",
       "\n",
       "              CREDOR                                        NOME_CREDOR  \\\n",
       "0     01590728000264                      MICROTECNICA INFORMATICA LTDA   \n",
       "1     05462543000144               EASYTECH INFORMATICA E SERVICOS LTDA   \n",
       "2     08792763000124                            MEGA BYTE MAGAZINE LTDA   \n",
       "3     11142525000188                          CLEBER NASCIMENTO DA ROSA   \n",
       "4     28811718000187  BRUNO DIGITAL COMERCIO DE MERCADORIA EM GERAL ...   \n",
       "...              ...                                                ...   \n",
       "3261  65095531000150                               LOGOS PAPELARIA LTDA   \n",
       "3262  81243735000903                           POSITIVO TECNOLOGIA S.A.   \n",
       "3263     98488040644                               MARIO HENRIQUE CUBBI   \n",
       "3264     98488040644                               MARIO HENRIQUE CUBBI   \n",
       "3265     98488040644                               MARIO HENRIQUE CUBBI   \n",
       "\n",
       "           DATA  DIAS   ICFEX NOME_ICFEX      ND  \\\n",
       "0    2023-11-01     1  160533  4º CGCFEX  449052   \n",
       "1    2023-10-31     2  160533  4º CGCFEX  449052   \n",
       "2    2023-10-31     2  160533  4º CGCFEX  449052   \n",
       "3    2023-11-01     1  160533  4º CGCFEX  449052   \n",
       "4    2023-10-31     2  160533  4º CGCFEX  449052   \n",
       "...         ...   ...     ...        ...     ...   \n",
       "3261 2023-05-25   161  160533  4º CGCFEX  449052   \n",
       "3262 2023-02-15   260  160533  4º CGCFEX  449052   \n",
       "3263 2023-05-22   164  160533  4º CGCFEX  339030   \n",
       "3264 2023-08-31    63  160533  4º CGCFEX  339030   \n",
       "3265 2023-10-06    27  160533  4º CGCFEX  339030   \n",
       "\n",
       "                                 NOME_ND      NDSI  \\\n",
       "0     EQUIPAMENTOS E MATERIAL PERMANENTE  44905230   \n",
       "1     EQUIPAMENTOS E MATERIAL PERMANENTE  44905237   \n",
       "2     EQUIPAMENTOS E MATERIAL PERMANENTE  44905241   \n",
       "3     EQUIPAMENTOS E MATERIAL PERMANENTE  44905233   \n",
       "4     EQUIPAMENTOS E MATERIAL PERMANENTE  44905241   \n",
       "...                                  ...       ...   \n",
       "3261  EQUIPAMENTOS E MATERIAL PERMANENTE  44905245   \n",
       "3262  EQUIPAMENTOS E MATERIAL PERMANENTE  44905241   \n",
       "3263                 MATERIAL DE CONSUMO  33903001   \n",
       "3264                 MATERIAL DE CONSUMO  33903096   \n",
       "3265                 MATERIAL DE CONSUMO  33903096   \n",
       "\n",
       "                                     NOME_NDSI            NE           PI  \\\n",
       "0          MAQUINAS E EQUIPAMENTOS ENERGETICOS  2023NE001319  F8MODCXDEGE   \n",
       "1         EQUIPAMENTOS DE TIC - ATIVOS DE REDE  2023NE001318  F8MODCXDEGE   \n",
       "2           EQUIPAMENTOS DE TIC - COMPUTADORES  2023NE001317  F8MODCXDEGE   \n",
       "3        EQUIPAMENTOS PARA AUDIO, VIDEO E FOTO  2023NE001322  F8MODCXDEGE   \n",
       "4           EQUIPAMENTOS DE TIC - COMPUTADORES  2023NE001316  F8MODCXDEGE   \n",
       "...                                        ...           ...          ...   \n",
       "3261         EQUIPAMENTOS DE TIC - IMPRESSORAS  2023NE001044  E3PCFSCINFO   \n",
       "3262        EQUIPAMENTOS DE TIC - COMPUTADORES  2023NE000261  E3PCFSCINFO   \n",
       "3263  COMBUSTIVEIS E LUBRIFICANTES AUTOMOTIVOS  2023NE001035  E3PCFSCCOLU   \n",
       "3264    MATERIAL DE CONSUMO - PAGTO ANTECIPADO  2023NE001506  E3PCOPFCOLU   \n",
       "3265    MATERIAL DE CONSUMO - PAGTO ANTECIPADO  2023NE001640  E3PCOPFCOLU   \n",
       "\n",
       "                                         NOME_PI PROGRAMA   PTRES TIPO  \\\n",
       "0     ATENDER NEC DECEX MODERNIZACAO OPERACIONAL     6012  171418  ANO   \n",
       "1     ATENDER NEC DECEX MODERNIZACAO OPERACIONAL     6012  171418  ANO   \n",
       "2     ATENDER NEC DECEX MODERNIZACAO OPERACIONAL     6012  171418  ANO   \n",
       "3     ATENDER NEC DECEX MODERNIZACAO OPERACIONAL     6012  171418  ANO   \n",
       "4     ATENDER NEC DECEX MODERNIZACAO OPERACIONAL     6012  171418  ANO   \n",
       "...                                          ...      ...     ...  ...   \n",
       "3261                                 INFORMATICA     6012  215839  ANO   \n",
       "3262                                 INFORMATICA     6012  215839  ANO   \n",
       "3263                COMBUSTIVEIS E LUBRIFICANTES     6012  215839  ANO   \n",
       "3264                 COMBUSTIVEL E LUBRIFICANTES     6012  215839  ANO   \n",
       "3265                 COMBUSTIVEL E LUBRIFICANTES     6012  215839  ANO   \n",
       "\n",
       "        TIPO_NE                                              LOCAL UF_CREDOR  \\\n",
       "0     ORDINARIO                      ESCOLA DE SARGENTOS DAS ARMAS        DF   \n",
       "1     ORDINARIO  ESCOLA DE SARGENTOS DAS ARMAS  - AVENIDA SETE ...        DF   \n",
       "2     ORDINARIO  ESCOLA DE SARGENTOS DAS ARMAS  - AVENIDA SETE ...        SP   \n",
       "3     ORDINARIO                      ESCOLA DE SARGENTOS DAS ARMAS        SC   \n",
       "4     ORDINARIO  ESCOLA DE SARGENTOS DAS ARMAS  - AVENIDA SETE ...        SP   \n",
       "...         ...                                                ...       ...   \n",
       "3261  ORDINARIO  ESCOLA DE SARGENTOS DAS ARMAS  - AVENIDA SETE ...        MG   \n",
       "3262  ORDINARIO  ESCOLA DE SARGENTOS DAS ARMAS  - AVENIDA SETE ...        BA   \n",
       "3263  ORDINARIO  ESCOLA DE SARGENTOS DAS ARMAS  - AVENIDA SETE ...        MG   \n",
       "3264  ORDINARIO  ESCOLA DE SARGENTOS DAS ARMAS  - AVENIDA SETE ...        MG   \n",
       "3265  ORDINARIO  ESCOLA DE SARGENTOS DAS ARMAS  - AVENIDA SETE ...        MG   \n",
       "\n",
       "     UF_UG     UGR       NOME_UGR RADPI4 MEIPI3 SUFPI4  A_LIQUIDAR  \\\n",
       "0       MG  160503   DECEX/GESTOR   F8MO    DCX   DEGE     3720.60   \n",
       "1       MG  160503   DECEX/GESTOR   F8MO    DCX   DEGE     8070.92   \n",
       "2       MG  160503   DECEX/GESTOR   F8MO    DCX   DEGE    26270.00   \n",
       "3       MG  160503   DECEX/GESTOR   F8MO    DCX   DEGE      260.00   \n",
       "4       MG  160503   DECEX/GESTOR   F8MO    DCX   DEGE    79002.00   \n",
       "...    ...     ...            ...    ...    ...    ...         ...   \n",
       "3261    MG  167504  COEX - GESTOR   E3PC    FSC   INFO        0.00   \n",
       "3262    MG  167504  COEX - GESTOR   E3PC    FSC   INFO        0.00   \n",
       "3263    MG  167504  COEX - GESTOR   E3PC    FSC   COLU        0.00   \n",
       "3264    MG  167504  COEX - GESTOR   E3PC    OPF   COLU        0.00   \n",
       "3265    MG  167504  COEX - GESTOR   E3PC    OPF   COLU      600.00   \n",
       "\n",
       "      LIQUIDADO_A_PAGAR  TOTAL_A_PAGAR    PAGO  \n",
       "0                   0.0        3720.60     0.0  \n",
       "1                   0.0        8070.92     0.0  \n",
       "2                   0.0       26270.00     0.0  \n",
       "3                   0.0         260.00     0.0  \n",
       "4                   0.0       79002.00     0.0  \n",
       "...                 ...            ...     ...  \n",
       "3261                0.0           0.00  1800.0  \n",
       "3262                0.0           0.00  7114.0  \n",
       "3263                0.0           0.00  2236.2  \n",
       "3264                0.0           0.00   675.0  \n",
       "3265                0.0         600.00     0.0  \n",
       "\n",
       "[2949 rows x 34 columns]"
      ]
     },
     "execution_count": 25,
     "metadata": {},
     "output_type": "execute_result"
    }
   ],
   "source": [
    "ano_atual = str(datetime.now().year)\n",
    "\n",
    "\n",
    "df_corrente = df[df['ANO'] == ano_atual]\n",
    "df_corrente"
   ]
  },
  {
   "cell_type": "code",
   "execution_count": 26,
   "metadata": {},
   "outputs": [
    {
     "data": {
      "text/plain": [
       "array(['2023', '2022', '2021'], dtype=object)"
      ]
     },
     "execution_count": 26,
     "metadata": {},
     "output_type": "execute_result"
    }
   ],
   "source": [
    "df['ANO'].unique()"
   ]
  },
  {
   "cell_type": "markdown",
   "metadata": {},
   "source": [
    "# Pesquisas no DataFrame"
   ]
  },
  {
   "cell_type": "code",
   "execution_count": 27,
   "metadata": {},
   "outputs": [],
   "source": [
    "# Criando um DataFrame para testes \n",
    "df_teste = df.copy()"
   ]
  },
  {
   "cell_type": "markdown",
   "metadata": {},
   "source": [
    "## Empenhos com mais de 100 dias"
   ]
  },
  {
   "cell_type": "markdown",
   "metadata": {},
   "source": [
    "### Empenhos da ND 30"
   ]
  },
  {
   "cell_type": "code",
   "execution_count": 28,
   "metadata": {},
   "outputs": [
    {
     "data": {
      "text/html": [
       "<div>\n",
       "<style scoped>\n",
       "    .dataframe tbody tr th:only-of-type {\n",
       "        vertical-align: middle;\n",
       "    }\n",
       "\n",
       "    .dataframe tbody tr th {\n",
       "        vertical-align: top;\n",
       "    }\n",
       "\n",
       "    .dataframe thead th {\n",
       "        text-align: right;\n",
       "    }\n",
       "</style>\n",
       "<table border=\"1\" class=\"dataframe\">\n",
       "  <thead>\n",
       "    <tr style=\"text-align: right;\">\n",
       "      <th></th>\n",
       "      <th>UG</th>\n",
       "      <th>SIGLA UG</th>\n",
       "      <th>ACAO</th>\n",
       "      <th>NOME_ACAO</th>\n",
       "      <th>ANO</th>\n",
       "      <th>CREDOR</th>\n",
       "      <th>NOME_CREDOR</th>\n",
       "      <th>DATA</th>\n",
       "      <th>DIAS</th>\n",
       "      <th>ICFEX</th>\n",
       "      <th>NOME_ICFEX</th>\n",
       "      <th>ND</th>\n",
       "      <th>NOME_ND</th>\n",
       "      <th>NDSI</th>\n",
       "      <th>NOME_NDSI</th>\n",
       "      <th>NE</th>\n",
       "      <th>PI</th>\n",
       "      <th>NOME_PI</th>\n",
       "      <th>PROGRAMA</th>\n",
       "      <th>PTRES</th>\n",
       "      <th>TIPO</th>\n",
       "      <th>TIPO_NE</th>\n",
       "      <th>LOCAL</th>\n",
       "      <th>UF_CREDOR</th>\n",
       "      <th>UF_UG</th>\n",
       "      <th>UGR</th>\n",
       "      <th>NOME_UGR</th>\n",
       "      <th>RADPI4</th>\n",
       "      <th>MEIPI3</th>\n",
       "      <th>SUFPI4</th>\n",
       "      <th>A_LIQUIDAR</th>\n",
       "      <th>LIQUIDADO_A_PAGAR</th>\n",
       "      <th>TOTAL_A_PAGAR</th>\n",
       "      <th>PAGO</th>\n",
       "    </tr>\n",
       "  </thead>\n",
       "  <tbody>\n",
       "    <tr>\n",
       "      <th>0</th>\n",
       "      <td>167129</td>\n",
       "      <td>ESA</td>\n",
       "      <td>2919</td>\n",
       "      <td>REGISTRO E FISCALIZACAO DE PRODUTOS C</td>\n",
       "      <td>2023</td>\n",
       "      <td>13754000000129</td>\n",
       "      <td>G4 SERVICO E COMERCIO DE PRODUTOS INDUSTRIAIS,...</td>\n",
       "      <td>2023-06-02</td>\n",
       "      <td>153</td>\n",
       "      <td>160533</td>\n",
       "      <td>4º CGCFEX</td>\n",
       "      <td>339030</td>\n",
       "      <td>MATERIAL DE CONSUMO</td>\n",
       "      <td>33903039</td>\n",
       "      <td>MATERIAL P/ MANUTENCAO DE VEICULOS</td>\n",
       "      <td>2023NE001125</td>\n",
       "      <td>E3PCFSCMABM</td>\n",
       "      <td>MANUTENCAO DE BENS MOVEIS</td>\n",
       "      <td>6012</td>\n",
       "      <td>215839</td>\n",
       "      <td>ANO</td>\n",
       "      <td>ORDINARIO</td>\n",
       "      <td>ESCOLA DE SARGENTOS DAS ARMAS</td>\n",
       "      <td>RJ</td>\n",
       "      <td>MG</td>\n",
       "      <td>167504</td>\n",
       "      <td>COEX - GESTOR</td>\n",
       "      <td>E3PC</td>\n",
       "      <td>FSC</td>\n",
       "      <td>MABM</td>\n",
       "      <td>9999.67</td>\n",
       "      <td>0.0</td>\n",
       "      <td>9999.67</td>\n",
       "      <td>0.0</td>\n",
       "    </tr>\n",
       "    <tr>\n",
       "      <th>1</th>\n",
       "      <td>160129</td>\n",
       "      <td>ESA</td>\n",
       "      <td>212B</td>\n",
       "      <td>BENEFICIOS OBRIGATORIOS AOS SERVIDORE</td>\n",
       "      <td>2023</td>\n",
       "      <td>28259514000185</td>\n",
       "      <td>CLEVER FERREIRA COSTA 01175363693</td>\n",
       "      <td>2023-05-03</td>\n",
       "      <td>183</td>\n",
       "      <td>160533</td>\n",
       "      <td>4º CGCFEX</td>\n",
       "      <td>339030</td>\n",
       "      <td>MATERIAL DE CONSUMO</td>\n",
       "      <td>33903021</td>\n",
       "      <td>MATERIAL DE COPA E COZINHA</td>\n",
       "      <td>2023NE000465</td>\n",
       "      <td>E6SUPLJA5PA</td>\n",
       "      <td>A5PA - PASA</td>\n",
       "      <td>0032</td>\n",
       "      <td>171397</td>\n",
       "      <td>ANO</td>\n",
       "      <td>ORDINARIO</td>\n",
       "      <td>ESCOLA DE SARGENTOS DAS ARMAS</td>\n",
       "      <td>MG</td>\n",
       "      <td>MG</td>\n",
       "      <td>160504</td>\n",
       "      <td>COEX/GESTOR</td>\n",
       "      <td>E6SU</td>\n",
       "      <td>PLJ</td>\n",
       "      <td>A5PA</td>\n",
       "      <td>3044.75</td>\n",
       "      <td>0.0</td>\n",
       "      <td>3044.75</td>\n",
       "      <td>0.0</td>\n",
       "    </tr>\n",
       "    <tr>\n",
       "      <th>2</th>\n",
       "      <td>160129</td>\n",
       "      <td>ESA</td>\n",
       "      <td>2000</td>\n",
       "      <td>ADMINISTRACAO DA UNIDADE</td>\n",
       "      <td>2023</td>\n",
       "      <td>09583781000169</td>\n",
       "      <td>2 CLICK SOLUCOES LTDA</td>\n",
       "      <td>2023-06-06</td>\n",
       "      <td>149</td>\n",
       "      <td>160533</td>\n",
       "      <td>4º CGCFEX</td>\n",
       "      <td>339030</td>\n",
       "      <td>MATERIAL DE CONSUMO</td>\n",
       "      <td>33903022</td>\n",
       "      <td>MATERIAL DE LIMPEZA E PROD. DE HIGIENIZACAO</td>\n",
       "      <td>2023NE000635</td>\n",
       "      <td>I3DAFUNADOM</td>\n",
       "      <td>ADMINISTRACAO DE OM</td>\n",
       "      <td>0032</td>\n",
       "      <td>171460</td>\n",
       "      <td>ANO</td>\n",
       "      <td>ORDINARIO</td>\n",
       "      <td>ESCOLA DE SARGENTOS DAS ARMAS  - AVENIDA SETE ...</td>\n",
       "      <td>GO</td>\n",
       "      <td>MG</td>\n",
       "      <td>160073</td>\n",
       "      <td>DGO</td>\n",
       "      <td>I3DA</td>\n",
       "      <td>FUN</td>\n",
       "      <td>ADOM</td>\n",
       "      <td>840.00</td>\n",
       "      <td>0.0</td>\n",
       "      <td>840.00</td>\n",
       "      <td>0.0</td>\n",
       "    </tr>\n",
       "    <tr>\n",
       "      <th>3</th>\n",
       "      <td>167129</td>\n",
       "      <td>ESA</td>\n",
       "      <td>2919</td>\n",
       "      <td>REGISTRO E FISCALIZACAO DE PRODUTOS C</td>\n",
       "      <td>2023</td>\n",
       "      <td>02852112698</td>\n",
       "      <td>LUCIANO ALVES DE PAULA</td>\n",
       "      <td>2023-06-13</td>\n",
       "      <td>142</td>\n",
       "      <td>160533</td>\n",
       "      <td>4º CGCFEX</td>\n",
       "      <td>339030</td>\n",
       "      <td>MATERIAL DE CONSUMO</td>\n",
       "      <td>33903096</td>\n",
       "      <td>MATERIAL DE CONSUMO - PAGTO ANTECIPADO</td>\n",
       "      <td>2023NE001191</td>\n",
       "      <td>E3PCOPFCOLU</td>\n",
       "      <td>COMBUSTIVEL E LUBRIFICANTES</td>\n",
       "      <td>6012</td>\n",
       "      <td>215839</td>\n",
       "      <td>ANO</td>\n",
       "      <td>ORDINARIO</td>\n",
       "      <td>ESCOLA DE SARGENTOS DAS ARMAS  - AVENIDA SETE ...</td>\n",
       "      <td>MS</td>\n",
       "      <td>MG</td>\n",
       "      <td>167504</td>\n",
       "      <td>COEX - GESTOR</td>\n",
       "      <td>E3PC</td>\n",
       "      <td>OPF</td>\n",
       "      <td>COLU</td>\n",
       "      <td>5.22</td>\n",
       "      <td>0.0</td>\n",
       "      <td>5.22</td>\n",
       "      <td>0.0</td>\n",
       "    </tr>\n",
       "  </tbody>\n",
       "</table>\n",
       "</div>"
      ],
      "text/plain": [
       "       UG SIGLA UG  ACAO                              NOME_ACAO   ANO  \\\n",
       "0  167129      ESA  2919  REGISTRO E FISCALIZACAO DE PRODUTOS C  2023   \n",
       "1  160129      ESA  212B  BENEFICIOS OBRIGATORIOS AOS SERVIDORE  2023   \n",
       "2  160129      ESA  2000               ADMINISTRACAO DA UNIDADE  2023   \n",
       "3  167129      ESA  2919  REGISTRO E FISCALIZACAO DE PRODUTOS C  2023   \n",
       "\n",
       "           CREDOR                                        NOME_CREDOR  \\\n",
       "0  13754000000129  G4 SERVICO E COMERCIO DE PRODUTOS INDUSTRIAIS,...   \n",
       "1  28259514000185                  CLEVER FERREIRA COSTA 01175363693   \n",
       "2  09583781000169                              2 CLICK SOLUCOES LTDA   \n",
       "3     02852112698                             LUCIANO ALVES DE PAULA   \n",
       "\n",
       "        DATA  DIAS   ICFEX NOME_ICFEX      ND              NOME_ND      NDSI  \\\n",
       "0 2023-06-02   153  160533  4º CGCFEX  339030  MATERIAL DE CONSUMO  33903039   \n",
       "1 2023-05-03   183  160533  4º CGCFEX  339030  MATERIAL DE CONSUMO  33903021   \n",
       "2 2023-06-06   149  160533  4º CGCFEX  339030  MATERIAL DE CONSUMO  33903022   \n",
       "3 2023-06-13   142  160533  4º CGCFEX  339030  MATERIAL DE CONSUMO  33903096   \n",
       "\n",
       "                                     NOME_NDSI            NE           PI  \\\n",
       "0           MATERIAL P/ MANUTENCAO DE VEICULOS  2023NE001125  E3PCFSCMABM   \n",
       "1                   MATERIAL DE COPA E COZINHA  2023NE000465  E6SUPLJA5PA   \n",
       "2  MATERIAL DE LIMPEZA E PROD. DE HIGIENIZACAO  2023NE000635  I3DAFUNADOM   \n",
       "3       MATERIAL DE CONSUMO - PAGTO ANTECIPADO  2023NE001191  E3PCOPFCOLU   \n",
       "\n",
       "                       NOME_PI PROGRAMA   PTRES TIPO    TIPO_NE  \\\n",
       "0    MANUTENCAO DE BENS MOVEIS     6012  215839  ANO  ORDINARIO   \n",
       "1                  A5PA - PASA     0032  171397  ANO  ORDINARIO   \n",
       "2          ADMINISTRACAO DE OM     0032  171460  ANO  ORDINARIO   \n",
       "3  COMBUSTIVEL E LUBRIFICANTES     6012  215839  ANO  ORDINARIO   \n",
       "\n",
       "                                               LOCAL UF_CREDOR UF_UG     UGR  \\\n",
       "0                      ESCOLA DE SARGENTOS DAS ARMAS        RJ    MG  167504   \n",
       "1                      ESCOLA DE SARGENTOS DAS ARMAS        MG    MG  160504   \n",
       "2  ESCOLA DE SARGENTOS DAS ARMAS  - AVENIDA SETE ...        GO    MG  160073   \n",
       "3  ESCOLA DE SARGENTOS DAS ARMAS  - AVENIDA SETE ...        MS    MG  167504   \n",
       "\n",
       "        NOME_UGR RADPI4 MEIPI3 SUFPI4  A_LIQUIDAR  LIQUIDADO_A_PAGAR  \\\n",
       "0  COEX - GESTOR   E3PC    FSC   MABM     9999.67                0.0   \n",
       "1    COEX/GESTOR   E6SU    PLJ   A5PA     3044.75                0.0   \n",
       "2            DGO   I3DA    FUN   ADOM      840.00                0.0   \n",
       "3  COEX - GESTOR   E3PC    OPF   COLU        5.22                0.0   \n",
       "\n",
       "   TOTAL_A_PAGAR  PAGO  \n",
       "0        9999.67   0.0  \n",
       "1        3044.75   0.0  \n",
       "2         840.00   0.0  \n",
       "3           5.22   0.0  "
      ]
     },
     "execution_count": 28,
     "metadata": {},
     "output_type": "execute_result"
    }
   ],
   "source": [
    "# Empenhos da ND 30 com prazo de entrega superior a 100 dias\n",
    "\n",
    "df_nd30_100dias = df_teste[(df_teste['A_LIQUIDAR'] != 0) & (df_teste['ND'] == '339030') & (df_teste['DIAS'] > 100) & (df_teste['TIPO_NE'] == 'ORDINARIO') ].sort_values(by='DIAS', ascending=False).reset_index(drop=True)\n",
    "\n",
    "df_nd30_100dias.sort_values(by='A_LIQUIDAR', ascending=False).reset_index(drop=True)\n",
    "\n",
    "#df_nd30_100dias.to_excel('nd30_PA.xlsx')"
   ]
  },
  {
   "cell_type": "markdown",
   "metadata": {},
   "source": [
    "### Empenhos ND 52"
   ]
  },
  {
   "cell_type": "code",
   "execution_count": 29,
   "metadata": {},
   "outputs": [
    {
     "data": {
      "text/html": [
       "<div>\n",
       "<style scoped>\n",
       "    .dataframe tbody tr th:only-of-type {\n",
       "        vertical-align: middle;\n",
       "    }\n",
       "\n",
       "    .dataframe tbody tr th {\n",
       "        vertical-align: top;\n",
       "    }\n",
       "\n",
       "    .dataframe thead th {\n",
       "        text-align: right;\n",
       "    }\n",
       "</style>\n",
       "<table border=\"1\" class=\"dataframe\">\n",
       "  <thead>\n",
       "    <tr style=\"text-align: right;\">\n",
       "      <th></th>\n",
       "      <th>UG</th>\n",
       "      <th>SIGLA UG</th>\n",
       "      <th>ACAO</th>\n",
       "      <th>NOME_ACAO</th>\n",
       "      <th>ANO</th>\n",
       "      <th>CREDOR</th>\n",
       "      <th>NOME_CREDOR</th>\n",
       "      <th>DATA</th>\n",
       "      <th>DIAS</th>\n",
       "      <th>ICFEX</th>\n",
       "      <th>NOME_ICFEX</th>\n",
       "      <th>ND</th>\n",
       "      <th>NOME_ND</th>\n",
       "      <th>NDSI</th>\n",
       "      <th>NOME_NDSI</th>\n",
       "      <th>NE</th>\n",
       "      <th>PI</th>\n",
       "      <th>NOME_PI</th>\n",
       "      <th>PROGRAMA</th>\n",
       "      <th>PTRES</th>\n",
       "      <th>TIPO</th>\n",
       "      <th>TIPO_NE</th>\n",
       "      <th>LOCAL</th>\n",
       "      <th>UF_CREDOR</th>\n",
       "      <th>UF_UG</th>\n",
       "      <th>UGR</th>\n",
       "      <th>NOME_UGR</th>\n",
       "      <th>RADPI4</th>\n",
       "      <th>MEIPI3</th>\n",
       "      <th>SUFPI4</th>\n",
       "      <th>A_LIQUIDAR</th>\n",
       "      <th>LIQUIDADO_A_PAGAR</th>\n",
       "      <th>TOTAL_A_PAGAR</th>\n",
       "      <th>PAGO</th>\n",
       "    </tr>\n",
       "  </thead>\n",
       "  <tbody>\n",
       "    <tr>\n",
       "      <th>0</th>\n",
       "      <td>160129</td>\n",
       "      <td>ESA</td>\n",
       "      <td>212B</td>\n",
       "      <td>BENEFICIOS OBRIGATORIOS AOS SERVIDORE</td>\n",
       "      <td>2023</td>\n",
       "      <td>31669124000198</td>\n",
       "      <td>LS REFRIGERACAO LTDA</td>\n",
       "      <td>2023-04-18</td>\n",
       "      <td>198</td>\n",
       "      <td>160533</td>\n",
       "      <td>4º CGCFEX</td>\n",
       "      <td>449052</td>\n",
       "      <td>EQUIPAMENTOS E MATERIAL PERMANENTE</td>\n",
       "      <td>44905228</td>\n",
       "      <td>MAQUINAS E EQUIPAMENTOS DE NATUREZA INDUSTRIAL</td>\n",
       "      <td>2023NE000392</td>\n",
       "      <td>E6SUPLJA5PA</td>\n",
       "      <td>A5PA - PASA</td>\n",
       "      <td>0032</td>\n",
       "      <td>171397</td>\n",
       "      <td>ANO</td>\n",
       "      <td>ORDINARIO</td>\n",
       "      <td>ESCOLA DE SARGENTOS DAS ARMAS, AVENIDA SETE DE...</td>\n",
       "      <td>SC</td>\n",
       "      <td>MG</td>\n",
       "      <td>160504</td>\n",
       "      <td>COEX/GESTOR</td>\n",
       "      <td>E6SU</td>\n",
       "      <td>PLJ</td>\n",
       "      <td>A5PA</td>\n",
       "      <td>8837.42</td>\n",
       "      <td>0.0</td>\n",
       "      <td>8837.42</td>\n",
       "      <td>0.0</td>\n",
       "    </tr>\n",
       "    <tr>\n",
       "      <th>1</th>\n",
       "      <td>160129</td>\n",
       "      <td>ESA</td>\n",
       "      <td>21A0</td>\n",
       "      <td>APRESTAMENTO DAS FORCAS</td>\n",
       "      <td>2023</td>\n",
       "      <td>48241204000140</td>\n",
       "      <td>EQUIPAT - EQUIPAMENTOS E MATERIAIS ELETRICOS E...</td>\n",
       "      <td>2023-06-16</td>\n",
       "      <td>139</td>\n",
       "      <td>160533</td>\n",
       "      <td>4º CGCFEX</td>\n",
       "      <td>449052</td>\n",
       "      <td>EQUIPAMENTOS E MATERIAL PERMANENTE</td>\n",
       "      <td>44905238</td>\n",
       "      <td>MAQ., FERRAMENTAS  E  UTENSILIOS  DE  OFICINA</td>\n",
       "      <td>2023NE000668</td>\n",
       "      <td>E5MMPDRDEGE</td>\n",
       "      <td>DESCENTRALIZACAO RECURSOS MOTOMECANIZACAO</td>\n",
       "      <td>6012</td>\n",
       "      <td>171470</td>\n",
       "      <td>ANO</td>\n",
       "      <td>ORDINARIO</td>\n",
       "      <td>ESCOLA DE SARGENTOS DAS ARMAS, AVENIDA SETE DE...</td>\n",
       "      <td>RS</td>\n",
       "      <td>MG</td>\n",
       "      <td>160504</td>\n",
       "      <td>COEX/GESTOR</td>\n",
       "      <td>E5MM</td>\n",
       "      <td>PDR</td>\n",
       "      <td>DEGE</td>\n",
       "      <td>995.00</td>\n",
       "      <td>0.0</td>\n",
       "      <td>995.00</td>\n",
       "      <td>0.0</td>\n",
       "    </tr>\n",
       "    <tr>\n",
       "      <th>2</th>\n",
       "      <td>160129</td>\n",
       "      <td>ESA</td>\n",
       "      <td>8965</td>\n",
       "      <td>CAPACITACAO PROFISSIONAL MILITAR DO E</td>\n",
       "      <td>2023</td>\n",
       "      <td>28320324000126</td>\n",
       "      <td>FREDERICO DELGADO DE ALMEIDA</td>\n",
       "      <td>2023-06-19</td>\n",
       "      <td>136</td>\n",
       "      <td>160533</td>\n",
       "      <td>4º CGCFEX</td>\n",
       "      <td>449052</td>\n",
       "      <td>EQUIPAMENTOS E MATERIAL PERMANENTE</td>\n",
       "      <td>44905224</td>\n",
       "      <td>EQUIPAMENTO DE PROTECAO, SEGURANCA E  SOCORRO</td>\n",
       "      <td>2023NE000672</td>\n",
       "      <td>C4ENMILCAPE</td>\n",
       "      <td>CAPACITACAO DE PESSOAL</td>\n",
       "      <td>6012</td>\n",
       "      <td>171423</td>\n",
       "      <td>ANO</td>\n",
       "      <td>ORDINARIO</td>\n",
       "      <td>ESCOLA DE SARGENTOS DAS ARMAS  - AVENIDA SETE ...</td>\n",
       "      <td>MG</td>\n",
       "      <td>MG</td>\n",
       "      <td>160503</td>\n",
       "      <td>DECEX/GESTOR</td>\n",
       "      <td>C4EN</td>\n",
       "      <td>MIL</td>\n",
       "      <td>CAPE</td>\n",
       "      <td>1379.10</td>\n",
       "      <td>0.0</td>\n",
       "      <td>1379.10</td>\n",
       "      <td>0.0</td>\n",
       "    </tr>\n",
       "    <tr>\n",
       "      <th>3</th>\n",
       "      <td>160129</td>\n",
       "      <td>ESA</td>\n",
       "      <td>8965</td>\n",
       "      <td>CAPACITACAO PROFISSIONAL MILITAR DO E</td>\n",
       "      <td>2023</td>\n",
       "      <td>81243735001977</td>\n",
       "      <td>POSITIVO TECNOLOGIA S.A.</td>\n",
       "      <td>2023-06-28</td>\n",
       "      <td>127</td>\n",
       "      <td>160533</td>\n",
       "      <td>4º CGCFEX</td>\n",
       "      <td>449052</td>\n",
       "      <td>EQUIPAMENTOS E MATERIAL PERMANENTE</td>\n",
       "      <td>44905241</td>\n",
       "      <td>EQUIPAMENTOS DE TIC - COMPUTADORES</td>\n",
       "      <td>2023NE000781</td>\n",
       "      <td>C4ENMILCAPE</td>\n",
       "      <td>CAPACITACAO DE PESSOAL</td>\n",
       "      <td>6012</td>\n",
       "      <td>171423</td>\n",
       "      <td>ANO</td>\n",
       "      <td>ORDINARIO</td>\n",
       "      <td>ESCOLA DE SARGENTOS DAS ARMAS</td>\n",
       "      <td>AM</td>\n",
       "      <td>MG</td>\n",
       "      <td>160503</td>\n",
       "      <td>DECEX/GESTOR</td>\n",
       "      <td>C4EN</td>\n",
       "      <td>MIL</td>\n",
       "      <td>CAPE</td>\n",
       "      <td>21342.00</td>\n",
       "      <td>0.0</td>\n",
       "      <td>21342.00</td>\n",
       "      <td>0.0</td>\n",
       "    </tr>\n",
       "    <tr>\n",
       "      <th>4</th>\n",
       "      <td>160129</td>\n",
       "      <td>ESA</td>\n",
       "      <td>8965</td>\n",
       "      <td>CAPACITACAO PROFISSIONAL MILITAR DO E</td>\n",
       "      <td>2023</td>\n",
       "      <td>81243735000903</td>\n",
       "      <td>POSITIVO TECNOLOGIA S.A.</td>\n",
       "      <td>2023-07-24</td>\n",
       "      <td>101</td>\n",
       "      <td>160533</td>\n",
       "      <td>4º CGCFEX</td>\n",
       "      <td>449052</td>\n",
       "      <td>EQUIPAMENTOS E MATERIAL PERMANENTE</td>\n",
       "      <td>44905241</td>\n",
       "      <td>EQUIPAMENTOS DE TIC - COMPUTADORES</td>\n",
       "      <td>2023NE000889</td>\n",
       "      <td>C4ENMILCAPE</td>\n",
       "      <td>CAPACITACAO DE PESSOAL</td>\n",
       "      <td>6012</td>\n",
       "      <td>171423</td>\n",
       "      <td>ANO</td>\n",
       "      <td>ORDINARIO</td>\n",
       "      <td>ESCOLA DE SARGENTOS DAS ARMAS</td>\n",
       "      <td>BA</td>\n",
       "      <td>MG</td>\n",
       "      <td>160503</td>\n",
       "      <td>DECEX/GESTOR</td>\n",
       "      <td>C4EN</td>\n",
       "      <td>MIL</td>\n",
       "      <td>CAPE</td>\n",
       "      <td>11454.00</td>\n",
       "      <td>0.0</td>\n",
       "      <td>11454.00</td>\n",
       "      <td>0.0</td>\n",
       "    </tr>\n",
       "    <tr>\n",
       "      <th>5</th>\n",
       "      <td>160129</td>\n",
       "      <td>ESA</td>\n",
       "      <td>2000</td>\n",
       "      <td>ADMINISTRACAO DA UNIDADE</td>\n",
       "      <td>2023</td>\n",
       "      <td>10902067000175</td>\n",
       "      <td>ESCRIBLU COMERCIO DE MOVEIS LTDA</td>\n",
       "      <td>2023-07-31</td>\n",
       "      <td>94</td>\n",
       "      <td>160533</td>\n",
       "      <td>4º CGCFEX</td>\n",
       "      <td>449052</td>\n",
       "      <td>EQUIPAMENTOS E MATERIAL PERMANENTE</td>\n",
       "      <td>44905242</td>\n",
       "      <td>MOBILIARIO EM GERAL</td>\n",
       "      <td>2023NE000938</td>\n",
       "      <td>I3DAFUNADOM</td>\n",
       "      <td>ADMINISTRACAO DE OM</td>\n",
       "      <td>0032</td>\n",
       "      <td>171460</td>\n",
       "      <td>ANO</td>\n",
       "      <td>ORDINARIO</td>\n",
       "      <td>ESCOLA DE SARGENTOS DAS ARMAS  - AVENIDA SETE ...</td>\n",
       "      <td>SC</td>\n",
       "      <td>MG</td>\n",
       "      <td>160073</td>\n",
       "      <td>DGO</td>\n",
       "      <td>I3DA</td>\n",
       "      <td>FUN</td>\n",
       "      <td>ADOM</td>\n",
       "      <td>3384.95</td>\n",
       "      <td>0.0</td>\n",
       "      <td>3384.95</td>\n",
       "      <td>0.0</td>\n",
       "    </tr>\n",
       "    <tr>\n",
       "      <th>6</th>\n",
       "      <td>160129</td>\n",
       "      <td>ESA</td>\n",
       "      <td>2000</td>\n",
       "      <td>ADMINISTRACAO DA UNIDADE</td>\n",
       "      <td>2023</td>\n",
       "      <td>10902067000175</td>\n",
       "      <td>ESCRIBLU COMERCIO DE MOVEIS LTDA</td>\n",
       "      <td>2023-08-02</td>\n",
       "      <td>92</td>\n",
       "      <td>160533</td>\n",
       "      <td>4º CGCFEX</td>\n",
       "      <td>449052</td>\n",
       "      <td>EQUIPAMENTOS E MATERIAL PERMANENTE</td>\n",
       "      <td>44905242</td>\n",
       "      <td>MOBILIARIO EM GERAL</td>\n",
       "      <td>2023NE000951</td>\n",
       "      <td>I3DAFUNADOM</td>\n",
       "      <td>ADMINISTRACAO DE OM</td>\n",
       "      <td>0032</td>\n",
       "      <td>171460</td>\n",
       "      <td>ANO</td>\n",
       "      <td>ORDINARIO</td>\n",
       "      <td>ESCOLA DE SARGENTOS DAS ARMAS  - AVENIDA SETE ...</td>\n",
       "      <td>SC</td>\n",
       "      <td>MG</td>\n",
       "      <td>160073</td>\n",
       "      <td>DGO</td>\n",
       "      <td>I3DA</td>\n",
       "      <td>FUN</td>\n",
       "      <td>ADOM</td>\n",
       "      <td>2030.97</td>\n",
       "      <td>0.0</td>\n",
       "      <td>2030.97</td>\n",
       "      <td>0.0</td>\n",
       "    </tr>\n",
       "    <tr>\n",
       "      <th>7</th>\n",
       "      <td>160129</td>\n",
       "      <td>ESA</td>\n",
       "      <td>2000</td>\n",
       "      <td>ADMINISTRACAO DA UNIDADE</td>\n",
       "      <td>2023</td>\n",
       "      <td>10902067000175</td>\n",
       "      <td>ESCRIBLU COMERCIO DE MOVEIS LTDA</td>\n",
       "      <td>2023-08-02</td>\n",
       "      <td>92</td>\n",
       "      <td>160533</td>\n",
       "      <td>4º CGCFEX</td>\n",
       "      <td>449052</td>\n",
       "      <td>EQUIPAMENTOS E MATERIAL PERMANENTE</td>\n",
       "      <td>44905242</td>\n",
       "      <td>MOBILIARIO EM GERAL</td>\n",
       "      <td>2023NE000952</td>\n",
       "      <td>I3DAFUNADOM</td>\n",
       "      <td>ADMINISTRACAO DE OM</td>\n",
       "      <td>0032</td>\n",
       "      <td>171460</td>\n",
       "      <td>ANO</td>\n",
       "      <td>ORDINARIO</td>\n",
       "      <td>ESCOLA DE SARGENTOS DAS ARMAS  - AVENIDA SETE ...</td>\n",
       "      <td>SC</td>\n",
       "      <td>MG</td>\n",
       "      <td>160073</td>\n",
       "      <td>DGO</td>\n",
       "      <td>I3DA</td>\n",
       "      <td>FUN</td>\n",
       "      <td>ADOM</td>\n",
       "      <td>4063.56</td>\n",
       "      <td>0.0</td>\n",
       "      <td>4063.56</td>\n",
       "      <td>0.0</td>\n",
       "    </tr>\n",
       "    <tr>\n",
       "      <th>8</th>\n",
       "      <td>167129</td>\n",
       "      <td>ESA</td>\n",
       "      <td>2004</td>\n",
       "      <td>ASSISTENCIA MEDICA E ODONTOLOGICA AOS</td>\n",
       "      <td>2023</td>\n",
       "      <td>10902067000175</td>\n",
       "      <td>ESCRIBLU COMERCIO DE MOVEIS LTDA</td>\n",
       "      <td>2023-08-02</td>\n",
       "      <td>92</td>\n",
       "      <td>160533</td>\n",
       "      <td>4º CGCFEX</td>\n",
       "      <td>449052</td>\n",
       "      <td>EQUIPAMENTOS E MATERIAL PERMANENTE</td>\n",
       "      <td>44905242</td>\n",
       "      <td>MOBILIARIO EM GERAL</td>\n",
       "      <td>2023NE001377</td>\n",
       "      <td>D5SAFUSASOC</td>\n",
       "      <td>ASSISTENCIA SOCIAL</td>\n",
       "      <td>0032</td>\n",
       "      <td>215846</td>\n",
       "      <td>ANO</td>\n",
       "      <td>ORDINARIO</td>\n",
       "      <td>ESCOLA DE SARGENTOS DAS ARMAS</td>\n",
       "      <td>SC</td>\n",
       "      <td>MG</td>\n",
       "      <td>167505</td>\n",
       "      <td>DGP</td>\n",
       "      <td>D5SA</td>\n",
       "      <td>FUS</td>\n",
       "      <td>ASOC</td>\n",
       "      <td>2707.96</td>\n",
       "      <td>0.0</td>\n",
       "      <td>2707.96</td>\n",
       "      <td>0.0</td>\n",
       "    </tr>\n",
       "    <tr>\n",
       "      <th>9</th>\n",
       "      <td>167129</td>\n",
       "      <td>ESA</td>\n",
       "      <td>2004</td>\n",
       "      <td>ASSISTENCIA MEDICA E ODONTOLOGICA AOS</td>\n",
       "      <td>2023</td>\n",
       "      <td>10902067000175</td>\n",
       "      <td>ESCRIBLU COMERCIO DE MOVEIS LTDA</td>\n",
       "      <td>2023-08-02</td>\n",
       "      <td>92</td>\n",
       "      <td>160533</td>\n",
       "      <td>4º CGCFEX</td>\n",
       "      <td>449052</td>\n",
       "      <td>EQUIPAMENTOS E MATERIAL PERMANENTE</td>\n",
       "      <td>44905242</td>\n",
       "      <td>MOBILIARIO EM GERAL</td>\n",
       "      <td>2023NE001378</td>\n",
       "      <td>D5SAFUSASOC</td>\n",
       "      <td>ASSISTENCIA SOCIAL</td>\n",
       "      <td>0032</td>\n",
       "      <td>215846</td>\n",
       "      <td>ANO</td>\n",
       "      <td>ORDINARIO</td>\n",
       "      <td>ESCOLA DE SARGENTOS DAS ARMAS</td>\n",
       "      <td>SC</td>\n",
       "      <td>MG</td>\n",
       "      <td>167505</td>\n",
       "      <td>DGP</td>\n",
       "      <td>D5SA</td>\n",
       "      <td>FUS</td>\n",
       "      <td>ASOC</td>\n",
       "      <td>3047.67</td>\n",
       "      <td>0.0</td>\n",
       "      <td>3047.67</td>\n",
       "      <td>0.0</td>\n",
       "    </tr>\n",
       "    <tr>\n",
       "      <th>10</th>\n",
       "      <td>160129</td>\n",
       "      <td>ESA</td>\n",
       "      <td>2000</td>\n",
       "      <td>ADMINISTRACAO DA UNIDADE</td>\n",
       "      <td>2023</td>\n",
       "      <td>10902067000175</td>\n",
       "      <td>ESCRIBLU COMERCIO DE MOVEIS LTDA</td>\n",
       "      <td>2023-08-08</td>\n",
       "      <td>86</td>\n",
       "      <td>160533</td>\n",
       "      <td>4º CGCFEX</td>\n",
       "      <td>449052</td>\n",
       "      <td>EQUIPAMENTOS E MATERIAL PERMANENTE</td>\n",
       "      <td>44905242</td>\n",
       "      <td>MOBILIARIO EM GERAL</td>\n",
       "      <td>2023NE000957</td>\n",
       "      <td>I3DAFUNADOM</td>\n",
       "      <td>ADMINISTRACAO DE OM</td>\n",
       "      <td>0032</td>\n",
       "      <td>171460</td>\n",
       "      <td>ANO</td>\n",
       "      <td>ORDINARIO</td>\n",
       "      <td>ESCOLA DE SARGENTOS DAS ARMAS  - AVENIDA SETE ...</td>\n",
       "      <td>SC</td>\n",
       "      <td>MG</td>\n",
       "      <td>160073</td>\n",
       "      <td>DGO</td>\n",
       "      <td>I3DA</td>\n",
       "      <td>FUN</td>\n",
       "      <td>ADOM</td>\n",
       "      <td>1618.00</td>\n",
       "      <td>0.0</td>\n",
       "      <td>1618.00</td>\n",
       "      <td>0.0</td>\n",
       "    </tr>\n",
       "    <tr>\n",
       "      <th>11</th>\n",
       "      <td>160129</td>\n",
       "      <td>ESA</td>\n",
       "      <td>2000</td>\n",
       "      <td>ADMINISTRACAO DA UNIDADE</td>\n",
       "      <td>2023</td>\n",
       "      <td>10902067000175</td>\n",
       "      <td>ESCRIBLU COMERCIO DE MOVEIS LTDA</td>\n",
       "      <td>2023-08-10</td>\n",
       "      <td>84</td>\n",
       "      <td>160533</td>\n",
       "      <td>4º CGCFEX</td>\n",
       "      <td>449052</td>\n",
       "      <td>EQUIPAMENTOS E MATERIAL PERMANENTE</td>\n",
       "      <td>44905242</td>\n",
       "      <td>MOBILIARIO EM GERAL</td>\n",
       "      <td>2023NE000981</td>\n",
       "      <td>I3DAFUNADOM</td>\n",
       "      <td>ADMINISTRACAO DE OM</td>\n",
       "      <td>0032</td>\n",
       "      <td>171460</td>\n",
       "      <td>ANO</td>\n",
       "      <td>ORDINARIO</td>\n",
       "      <td>ESCOLA DE SARGENTOS DAS ARMAS  - AVENIDA SETE ...</td>\n",
       "      <td>SC</td>\n",
       "      <td>MG</td>\n",
       "      <td>160073</td>\n",
       "      <td>DGO</td>\n",
       "      <td>I3DA</td>\n",
       "      <td>FUN</td>\n",
       "      <td>ADOM</td>\n",
       "      <td>1166.00</td>\n",
       "      <td>0.0</td>\n",
       "      <td>1166.00</td>\n",
       "      <td>0.0</td>\n",
       "    </tr>\n",
       "    <tr>\n",
       "      <th>12</th>\n",
       "      <td>160129</td>\n",
       "      <td>ESA</td>\n",
       "      <td>2000</td>\n",
       "      <td>ADMINISTRACAO DA UNIDADE</td>\n",
       "      <td>2023</td>\n",
       "      <td>10902067000175</td>\n",
       "      <td>ESCRIBLU COMERCIO DE MOVEIS LTDA</td>\n",
       "      <td>2023-08-10</td>\n",
       "      <td>84</td>\n",
       "      <td>160533</td>\n",
       "      <td>4º CGCFEX</td>\n",
       "      <td>449052</td>\n",
       "      <td>EQUIPAMENTOS E MATERIAL PERMANENTE</td>\n",
       "      <td>44905242</td>\n",
       "      <td>MOBILIARIO EM GERAL</td>\n",
       "      <td>2023NE000980</td>\n",
       "      <td>I3DAFUNADOM</td>\n",
       "      <td>ADMINISTRACAO DE OM</td>\n",
       "      <td>0032</td>\n",
       "      <td>171460</td>\n",
       "      <td>ANO</td>\n",
       "      <td>ORDINARIO</td>\n",
       "      <td>ESCOLA DE SARGENTOS DAS ARMAS  - AVENIDA SETE ...</td>\n",
       "      <td>SC</td>\n",
       "      <td>MG</td>\n",
       "      <td>160073</td>\n",
       "      <td>DGO</td>\n",
       "      <td>I3DA</td>\n",
       "      <td>FUN</td>\n",
       "      <td>ADOM</td>\n",
       "      <td>1557.00</td>\n",
       "      <td>0.0</td>\n",
       "      <td>1557.00</td>\n",
       "      <td>0.0</td>\n",
       "    </tr>\n",
       "    <tr>\n",
       "      <th>13</th>\n",
       "      <td>167129</td>\n",
       "      <td>ESA</td>\n",
       "      <td>2004</td>\n",
       "      <td>ASSISTENCIA MEDICA E ODONTOLOGICA AOS</td>\n",
       "      <td>2023</td>\n",
       "      <td>45169346000156</td>\n",
       "      <td>FRANCILANDIO THIERES DE CARVALHO SILVA</td>\n",
       "      <td>2023-08-10</td>\n",
       "      <td>84</td>\n",
       "      <td>160533</td>\n",
       "      <td>4º CGCFEX</td>\n",
       "      <td>449052</td>\n",
       "      <td>EQUIPAMENTOS E MATERIAL PERMANENTE</td>\n",
       "      <td>44905212</td>\n",
       "      <td>APARELHOS E UTENSILIOS DOMESTICOS</td>\n",
       "      <td>2023NE001405</td>\n",
       "      <td>D5SAFUSASOC</td>\n",
       "      <td>ASSISTENCIA SOCIAL</td>\n",
       "      <td>0032</td>\n",
       "      <td>215846</td>\n",
       "      <td>ANO</td>\n",
       "      <td>ORDINARIO</td>\n",
       "      <td>ESCOLA DE SARGENTOS DAS ARMAS  - AVENIDA SETE ...</td>\n",
       "      <td>PI</td>\n",
       "      <td>MG</td>\n",
       "      <td>167505</td>\n",
       "      <td>DGP</td>\n",
       "      <td>D5SA</td>\n",
       "      <td>FUS</td>\n",
       "      <td>ASOC</td>\n",
       "      <td>3964.69</td>\n",
       "      <td>0.0</td>\n",
       "      <td>3964.69</td>\n",
       "      <td>0.0</td>\n",
       "    </tr>\n",
       "    <tr>\n",
       "      <th>14</th>\n",
       "      <td>167129</td>\n",
       "      <td>ESA</td>\n",
       "      <td>2004</td>\n",
       "      <td>ASSISTENCIA MEDICA E ODONTOLOGICA AOS</td>\n",
       "      <td>2023</td>\n",
       "      <td>48489837000172</td>\n",
       "      <td>JB LICITACOES LTDA</td>\n",
       "      <td>2023-08-10</td>\n",
       "      <td>84</td>\n",
       "      <td>160533</td>\n",
       "      <td>4º CGCFEX</td>\n",
       "      <td>449052</td>\n",
       "      <td>EQUIPAMENTOS E MATERIAL PERMANENTE</td>\n",
       "      <td>44905242</td>\n",
       "      <td>MOBILIARIO EM GERAL</td>\n",
       "      <td>2023NE001408</td>\n",
       "      <td>D5SAFUSASOC</td>\n",
       "      <td>ASSISTENCIA SOCIAL</td>\n",
       "      <td>0032</td>\n",
       "      <td>215846</td>\n",
       "      <td>ANO</td>\n",
       "      <td>ORDINARIO</td>\n",
       "      <td>ESCOLA DE SARGENTOS DAS ARMAS  - AVENIDA SETE ...</td>\n",
       "      <td>SC</td>\n",
       "      <td>MG</td>\n",
       "      <td>167505</td>\n",
       "      <td>DGP</td>\n",
       "      <td>D5SA</td>\n",
       "      <td>FUS</td>\n",
       "      <td>ASOC</td>\n",
       "      <td>2460.00</td>\n",
       "      <td>0.0</td>\n",
       "      <td>2460.00</td>\n",
       "      <td>0.0</td>\n",
       "    </tr>\n",
       "    <tr>\n",
       "      <th>15</th>\n",
       "      <td>167129</td>\n",
       "      <td>ESA</td>\n",
       "      <td>2004</td>\n",
       "      <td>ASSISTENCIA MEDICA E ODONTOLOGICA AOS</td>\n",
       "      <td>2023</td>\n",
       "      <td>51234341000162</td>\n",
       "      <td>51.234.341 SANDRA LETICIA FERREIRA DE ALMEIDA</td>\n",
       "      <td>2023-08-10</td>\n",
       "      <td>84</td>\n",
       "      <td>160533</td>\n",
       "      <td>4º CGCFEX</td>\n",
       "      <td>449052</td>\n",
       "      <td>EQUIPAMENTOS E MATERIAL PERMANENTE</td>\n",
       "      <td>44905212</td>\n",
       "      <td>APARELHOS E UTENSILIOS DOMESTICOS</td>\n",
       "      <td>2023NE001407</td>\n",
       "      <td>D5SAFUSASOC</td>\n",
       "      <td>ASSISTENCIA SOCIAL</td>\n",
       "      <td>0032</td>\n",
       "      <td>215846</td>\n",
       "      <td>ANO</td>\n",
       "      <td>ORDINARIO</td>\n",
       "      <td>ESCOLA DE SARGENTOS DAS ARMAS  - AVENIDA SETE ...</td>\n",
       "      <td>MG</td>\n",
       "      <td>MG</td>\n",
       "      <td>167505</td>\n",
       "      <td>DGP</td>\n",
       "      <td>D5SA</td>\n",
       "      <td>FUS</td>\n",
       "      <td>ASOC</td>\n",
       "      <td>720.31</td>\n",
       "      <td>0.0</td>\n",
       "      <td>720.31</td>\n",
       "      <td>0.0</td>\n",
       "    </tr>\n",
       "    <tr>\n",
       "      <th>16</th>\n",
       "      <td>167129</td>\n",
       "      <td>ESA</td>\n",
       "      <td>2004</td>\n",
       "      <td>ASSISTENCIA MEDICA E ODONTOLOGICA AOS</td>\n",
       "      <td>2023</td>\n",
       "      <td>51234341000162</td>\n",
       "      <td>51.234.341 SANDRA LETICIA FERREIRA DE ALMEIDA</td>\n",
       "      <td>2023-08-10</td>\n",
       "      <td>84</td>\n",
       "      <td>160533</td>\n",
       "      <td>4º CGCFEX</td>\n",
       "      <td>449052</td>\n",
       "      <td>EQUIPAMENTOS E MATERIAL PERMANENTE</td>\n",
       "      <td>44905242</td>\n",
       "      <td>MOBILIARIO EM GERAL</td>\n",
       "      <td>2023NE001407</td>\n",
       "      <td>D5SAFUSASOC</td>\n",
       "      <td>ASSISTENCIA SOCIAL</td>\n",
       "      <td>0032</td>\n",
       "      <td>215846</td>\n",
       "      <td>ANO</td>\n",
       "      <td>ORDINARIO</td>\n",
       "      <td>ESCOLA DE SARGENTOS DAS ARMAS  - AVENIDA SETE ...</td>\n",
       "      <td>MG</td>\n",
       "      <td>MG</td>\n",
       "      <td>167505</td>\n",
       "      <td>DGP</td>\n",
       "      <td>D5SA</td>\n",
       "      <td>FUS</td>\n",
       "      <td>ASOC</td>\n",
       "      <td>1551.00</td>\n",
       "      <td>0.0</td>\n",
       "      <td>1551.00</td>\n",
       "      <td>0.0</td>\n",
       "    </tr>\n",
       "    <tr>\n",
       "      <th>17</th>\n",
       "      <td>167129</td>\n",
       "      <td>ESA</td>\n",
       "      <td>2000</td>\n",
       "      <td>ADMINISTRACAO DA UNIDADE</td>\n",
       "      <td>2023</td>\n",
       "      <td>81243735000903</td>\n",
       "      <td>POSITIVO TECNOLOGIA S.A.</td>\n",
       "      <td>2023-08-18</td>\n",
       "      <td>76</td>\n",
       "      <td>160533</td>\n",
       "      <td>4º CGCFEX</td>\n",
       "      <td>449052</td>\n",
       "      <td>EQUIPAMENTOS E MATERIAL PERMANENTE</td>\n",
       "      <td>44905241</td>\n",
       "      <td>EQUIPAMENTOS DE TIC - COMPUTADORES</td>\n",
       "      <td>2023NE001414</td>\n",
       "      <td>C1ENCONDETM</td>\n",
       "      <td>CONCURSOS AS ESCOLAS MILITARES</td>\n",
       "      <td>0032</td>\n",
       "      <td>171502</td>\n",
       "      <td>ANO</td>\n",
       "      <td>ORDINARIO</td>\n",
       "      <td>ESCOLA DE SARGENTOS DAS ARMAS  - AVENIDA SETE ...</td>\n",
       "      <td>BA</td>\n",
       "      <td>MG</td>\n",
       "      <td>167503</td>\n",
       "      <td>DECEX - GESTOR</td>\n",
       "      <td>C1EN</td>\n",
       "      <td>CON</td>\n",
       "      <td>DETM</td>\n",
       "      <td>21864.00</td>\n",
       "      <td>0.0</td>\n",
       "      <td>21864.00</td>\n",
       "      <td>0.0</td>\n",
       "    </tr>\n",
       "  </tbody>\n",
       "</table>\n",
       "</div>"
      ],
      "text/plain": [
       "        UG SIGLA UG  ACAO                              NOME_ACAO   ANO  \\\n",
       "0   160129      ESA  212B  BENEFICIOS OBRIGATORIOS AOS SERVIDORE  2023   \n",
       "1   160129      ESA  21A0                APRESTAMENTO DAS FORCAS  2023   \n",
       "2   160129      ESA  8965  CAPACITACAO PROFISSIONAL MILITAR DO E  2023   \n",
       "3   160129      ESA  8965  CAPACITACAO PROFISSIONAL MILITAR DO E  2023   \n",
       "4   160129      ESA  8965  CAPACITACAO PROFISSIONAL MILITAR DO E  2023   \n",
       "5   160129      ESA  2000               ADMINISTRACAO DA UNIDADE  2023   \n",
       "6   160129      ESA  2000               ADMINISTRACAO DA UNIDADE  2023   \n",
       "7   160129      ESA  2000               ADMINISTRACAO DA UNIDADE  2023   \n",
       "8   167129      ESA  2004  ASSISTENCIA MEDICA E ODONTOLOGICA AOS  2023   \n",
       "9   167129      ESA  2004  ASSISTENCIA MEDICA E ODONTOLOGICA AOS  2023   \n",
       "10  160129      ESA  2000               ADMINISTRACAO DA UNIDADE  2023   \n",
       "11  160129      ESA  2000               ADMINISTRACAO DA UNIDADE  2023   \n",
       "12  160129      ESA  2000               ADMINISTRACAO DA UNIDADE  2023   \n",
       "13  167129      ESA  2004  ASSISTENCIA MEDICA E ODONTOLOGICA AOS  2023   \n",
       "14  167129      ESA  2004  ASSISTENCIA MEDICA E ODONTOLOGICA AOS  2023   \n",
       "15  167129      ESA  2004  ASSISTENCIA MEDICA E ODONTOLOGICA AOS  2023   \n",
       "16  167129      ESA  2004  ASSISTENCIA MEDICA E ODONTOLOGICA AOS  2023   \n",
       "17  167129      ESA  2000               ADMINISTRACAO DA UNIDADE  2023   \n",
       "\n",
       "            CREDOR                                        NOME_CREDOR  \\\n",
       "0   31669124000198                               LS REFRIGERACAO LTDA   \n",
       "1   48241204000140  EQUIPAT - EQUIPAMENTOS E MATERIAIS ELETRICOS E...   \n",
       "2   28320324000126                       FREDERICO DELGADO DE ALMEIDA   \n",
       "3   81243735001977                           POSITIVO TECNOLOGIA S.A.   \n",
       "4   81243735000903                           POSITIVO TECNOLOGIA S.A.   \n",
       "5   10902067000175                   ESCRIBLU COMERCIO DE MOVEIS LTDA   \n",
       "6   10902067000175                   ESCRIBLU COMERCIO DE MOVEIS LTDA   \n",
       "7   10902067000175                   ESCRIBLU COMERCIO DE MOVEIS LTDA   \n",
       "8   10902067000175                   ESCRIBLU COMERCIO DE MOVEIS LTDA   \n",
       "9   10902067000175                   ESCRIBLU COMERCIO DE MOVEIS LTDA   \n",
       "10  10902067000175                   ESCRIBLU COMERCIO DE MOVEIS LTDA   \n",
       "11  10902067000175                   ESCRIBLU COMERCIO DE MOVEIS LTDA   \n",
       "12  10902067000175                   ESCRIBLU COMERCIO DE MOVEIS LTDA   \n",
       "13  45169346000156             FRANCILANDIO THIERES DE CARVALHO SILVA   \n",
       "14  48489837000172                                 JB LICITACOES LTDA   \n",
       "15  51234341000162      51.234.341 SANDRA LETICIA FERREIRA DE ALMEIDA   \n",
       "16  51234341000162      51.234.341 SANDRA LETICIA FERREIRA DE ALMEIDA   \n",
       "17  81243735000903                           POSITIVO TECNOLOGIA S.A.   \n",
       "\n",
       "         DATA  DIAS   ICFEX NOME_ICFEX      ND  \\\n",
       "0  2023-04-18   198  160533  4º CGCFEX  449052   \n",
       "1  2023-06-16   139  160533  4º CGCFEX  449052   \n",
       "2  2023-06-19   136  160533  4º CGCFEX  449052   \n",
       "3  2023-06-28   127  160533  4º CGCFEX  449052   \n",
       "4  2023-07-24   101  160533  4º CGCFEX  449052   \n",
       "5  2023-07-31    94  160533  4º CGCFEX  449052   \n",
       "6  2023-08-02    92  160533  4º CGCFEX  449052   \n",
       "7  2023-08-02    92  160533  4º CGCFEX  449052   \n",
       "8  2023-08-02    92  160533  4º CGCFEX  449052   \n",
       "9  2023-08-02    92  160533  4º CGCFEX  449052   \n",
       "10 2023-08-08    86  160533  4º CGCFEX  449052   \n",
       "11 2023-08-10    84  160533  4º CGCFEX  449052   \n",
       "12 2023-08-10    84  160533  4º CGCFEX  449052   \n",
       "13 2023-08-10    84  160533  4º CGCFEX  449052   \n",
       "14 2023-08-10    84  160533  4º CGCFEX  449052   \n",
       "15 2023-08-10    84  160533  4º CGCFEX  449052   \n",
       "16 2023-08-10    84  160533  4º CGCFEX  449052   \n",
       "17 2023-08-18    76  160533  4º CGCFEX  449052   \n",
       "\n",
       "                               NOME_ND      NDSI  \\\n",
       "0   EQUIPAMENTOS E MATERIAL PERMANENTE  44905228   \n",
       "1   EQUIPAMENTOS E MATERIAL PERMANENTE  44905238   \n",
       "2   EQUIPAMENTOS E MATERIAL PERMANENTE  44905224   \n",
       "3   EQUIPAMENTOS E MATERIAL PERMANENTE  44905241   \n",
       "4   EQUIPAMENTOS E MATERIAL PERMANENTE  44905241   \n",
       "5   EQUIPAMENTOS E MATERIAL PERMANENTE  44905242   \n",
       "6   EQUIPAMENTOS E MATERIAL PERMANENTE  44905242   \n",
       "7   EQUIPAMENTOS E MATERIAL PERMANENTE  44905242   \n",
       "8   EQUIPAMENTOS E MATERIAL PERMANENTE  44905242   \n",
       "9   EQUIPAMENTOS E MATERIAL PERMANENTE  44905242   \n",
       "10  EQUIPAMENTOS E MATERIAL PERMANENTE  44905242   \n",
       "11  EQUIPAMENTOS E MATERIAL PERMANENTE  44905242   \n",
       "12  EQUIPAMENTOS E MATERIAL PERMANENTE  44905242   \n",
       "13  EQUIPAMENTOS E MATERIAL PERMANENTE  44905212   \n",
       "14  EQUIPAMENTOS E MATERIAL PERMANENTE  44905242   \n",
       "15  EQUIPAMENTOS E MATERIAL PERMANENTE  44905212   \n",
       "16  EQUIPAMENTOS E MATERIAL PERMANENTE  44905242   \n",
       "17  EQUIPAMENTOS E MATERIAL PERMANENTE  44905241   \n",
       "\n",
       "                                         NOME_NDSI            NE           PI  \\\n",
       "0   MAQUINAS E EQUIPAMENTOS DE NATUREZA INDUSTRIAL  2023NE000392  E6SUPLJA5PA   \n",
       "1    MAQ., FERRAMENTAS  E  UTENSILIOS  DE  OFICINA  2023NE000668  E5MMPDRDEGE   \n",
       "2    EQUIPAMENTO DE PROTECAO, SEGURANCA E  SOCORRO  2023NE000672  C4ENMILCAPE   \n",
       "3               EQUIPAMENTOS DE TIC - COMPUTADORES  2023NE000781  C4ENMILCAPE   \n",
       "4               EQUIPAMENTOS DE TIC - COMPUTADORES  2023NE000889  C4ENMILCAPE   \n",
       "5                              MOBILIARIO EM GERAL  2023NE000938  I3DAFUNADOM   \n",
       "6                              MOBILIARIO EM GERAL  2023NE000951  I3DAFUNADOM   \n",
       "7                              MOBILIARIO EM GERAL  2023NE000952  I3DAFUNADOM   \n",
       "8                              MOBILIARIO EM GERAL  2023NE001377  D5SAFUSASOC   \n",
       "9                              MOBILIARIO EM GERAL  2023NE001378  D5SAFUSASOC   \n",
       "10                             MOBILIARIO EM GERAL  2023NE000957  I3DAFUNADOM   \n",
       "11                             MOBILIARIO EM GERAL  2023NE000981  I3DAFUNADOM   \n",
       "12                             MOBILIARIO EM GERAL  2023NE000980  I3DAFUNADOM   \n",
       "13               APARELHOS E UTENSILIOS DOMESTICOS  2023NE001405  D5SAFUSASOC   \n",
       "14                             MOBILIARIO EM GERAL  2023NE001408  D5SAFUSASOC   \n",
       "15               APARELHOS E UTENSILIOS DOMESTICOS  2023NE001407  D5SAFUSASOC   \n",
       "16                             MOBILIARIO EM GERAL  2023NE001407  D5SAFUSASOC   \n",
       "17              EQUIPAMENTOS DE TIC - COMPUTADORES  2023NE001414  C1ENCONDETM   \n",
       "\n",
       "                                      NOME_PI PROGRAMA   PTRES TIPO  \\\n",
       "0                                 A5PA - PASA     0032  171397  ANO   \n",
       "1   DESCENTRALIZACAO RECURSOS MOTOMECANIZACAO     6012  171470  ANO   \n",
       "2                      CAPACITACAO DE PESSOAL     6012  171423  ANO   \n",
       "3                      CAPACITACAO DE PESSOAL     6012  171423  ANO   \n",
       "4                      CAPACITACAO DE PESSOAL     6012  171423  ANO   \n",
       "5                         ADMINISTRACAO DE OM     0032  171460  ANO   \n",
       "6                         ADMINISTRACAO DE OM     0032  171460  ANO   \n",
       "7                         ADMINISTRACAO DE OM     0032  171460  ANO   \n",
       "8                          ASSISTENCIA SOCIAL     0032  215846  ANO   \n",
       "9                          ASSISTENCIA SOCIAL     0032  215846  ANO   \n",
       "10                        ADMINISTRACAO DE OM     0032  171460  ANO   \n",
       "11                        ADMINISTRACAO DE OM     0032  171460  ANO   \n",
       "12                        ADMINISTRACAO DE OM     0032  171460  ANO   \n",
       "13                         ASSISTENCIA SOCIAL     0032  215846  ANO   \n",
       "14                         ASSISTENCIA SOCIAL     0032  215846  ANO   \n",
       "15                         ASSISTENCIA SOCIAL     0032  215846  ANO   \n",
       "16                         ASSISTENCIA SOCIAL     0032  215846  ANO   \n",
       "17             CONCURSOS AS ESCOLAS MILITARES     0032  171502  ANO   \n",
       "\n",
       "      TIPO_NE                                              LOCAL UF_CREDOR  \\\n",
       "0   ORDINARIO  ESCOLA DE SARGENTOS DAS ARMAS, AVENIDA SETE DE...        SC   \n",
       "1   ORDINARIO  ESCOLA DE SARGENTOS DAS ARMAS, AVENIDA SETE DE...        RS   \n",
       "2   ORDINARIO  ESCOLA DE SARGENTOS DAS ARMAS  - AVENIDA SETE ...        MG   \n",
       "3   ORDINARIO                      ESCOLA DE SARGENTOS DAS ARMAS        AM   \n",
       "4   ORDINARIO                      ESCOLA DE SARGENTOS DAS ARMAS        BA   \n",
       "5   ORDINARIO  ESCOLA DE SARGENTOS DAS ARMAS  - AVENIDA SETE ...        SC   \n",
       "6   ORDINARIO  ESCOLA DE SARGENTOS DAS ARMAS  - AVENIDA SETE ...        SC   \n",
       "7   ORDINARIO  ESCOLA DE SARGENTOS DAS ARMAS  - AVENIDA SETE ...        SC   \n",
       "8   ORDINARIO                      ESCOLA DE SARGENTOS DAS ARMAS        SC   \n",
       "9   ORDINARIO                      ESCOLA DE SARGENTOS DAS ARMAS        SC   \n",
       "10  ORDINARIO  ESCOLA DE SARGENTOS DAS ARMAS  - AVENIDA SETE ...        SC   \n",
       "11  ORDINARIO  ESCOLA DE SARGENTOS DAS ARMAS  - AVENIDA SETE ...        SC   \n",
       "12  ORDINARIO  ESCOLA DE SARGENTOS DAS ARMAS  - AVENIDA SETE ...        SC   \n",
       "13  ORDINARIO  ESCOLA DE SARGENTOS DAS ARMAS  - AVENIDA SETE ...        PI   \n",
       "14  ORDINARIO  ESCOLA DE SARGENTOS DAS ARMAS  - AVENIDA SETE ...        SC   \n",
       "15  ORDINARIO  ESCOLA DE SARGENTOS DAS ARMAS  - AVENIDA SETE ...        MG   \n",
       "16  ORDINARIO  ESCOLA DE SARGENTOS DAS ARMAS  - AVENIDA SETE ...        MG   \n",
       "17  ORDINARIO  ESCOLA DE SARGENTOS DAS ARMAS  - AVENIDA SETE ...        BA   \n",
       "\n",
       "   UF_UG     UGR        NOME_UGR RADPI4 MEIPI3 SUFPI4  A_LIQUIDAR  \\\n",
       "0     MG  160504     COEX/GESTOR   E6SU    PLJ   A5PA     8837.42   \n",
       "1     MG  160504     COEX/GESTOR   E5MM    PDR   DEGE      995.00   \n",
       "2     MG  160503    DECEX/GESTOR   C4EN    MIL   CAPE     1379.10   \n",
       "3     MG  160503    DECEX/GESTOR   C4EN    MIL   CAPE    21342.00   \n",
       "4     MG  160503    DECEX/GESTOR   C4EN    MIL   CAPE    11454.00   \n",
       "5     MG  160073             DGO   I3DA    FUN   ADOM     3384.95   \n",
       "6     MG  160073             DGO   I3DA    FUN   ADOM     2030.97   \n",
       "7     MG  160073             DGO   I3DA    FUN   ADOM     4063.56   \n",
       "8     MG  167505             DGP   D5SA    FUS   ASOC     2707.96   \n",
       "9     MG  167505             DGP   D5SA    FUS   ASOC     3047.67   \n",
       "10    MG  160073             DGO   I3DA    FUN   ADOM     1618.00   \n",
       "11    MG  160073             DGO   I3DA    FUN   ADOM     1166.00   \n",
       "12    MG  160073             DGO   I3DA    FUN   ADOM     1557.00   \n",
       "13    MG  167505             DGP   D5SA    FUS   ASOC     3964.69   \n",
       "14    MG  167505             DGP   D5SA    FUS   ASOC     2460.00   \n",
       "15    MG  167505             DGP   D5SA    FUS   ASOC      720.31   \n",
       "16    MG  167505             DGP   D5SA    FUS   ASOC     1551.00   \n",
       "17    MG  167503  DECEX - GESTOR   C1EN    CON   DETM    21864.00   \n",
       "\n",
       "    LIQUIDADO_A_PAGAR  TOTAL_A_PAGAR  PAGO  \n",
       "0                 0.0        8837.42   0.0  \n",
       "1                 0.0         995.00   0.0  \n",
       "2                 0.0        1379.10   0.0  \n",
       "3                 0.0       21342.00   0.0  \n",
       "4                 0.0       11454.00   0.0  \n",
       "5                 0.0        3384.95   0.0  \n",
       "6                 0.0        2030.97   0.0  \n",
       "7                 0.0        4063.56   0.0  \n",
       "8                 0.0        2707.96   0.0  \n",
       "9                 0.0        3047.67   0.0  \n",
       "10                0.0        1618.00   0.0  \n",
       "11                0.0        1166.00   0.0  \n",
       "12                0.0        1557.00   0.0  \n",
       "13                0.0        3964.69   0.0  \n",
       "14                0.0        2460.00   0.0  \n",
       "15                0.0         720.31   0.0  \n",
       "16                0.0        1551.00   0.0  \n",
       "17                0.0       21864.00   0.0  "
      ]
     },
     "execution_count": 29,
     "metadata": {},
     "output_type": "execute_result"
    }
   ],
   "source": [
    "df_nd52_100dias = df_teste[(df_teste['A_LIQUIDAR'] != 0) & (df_teste['ND'] == '449052') & (df_teste['DIAS'] > 50) ].sort_values(by='DIAS', ascending=False).reset_index(drop=True)\n",
    "\n",
    "df_nd52_100dias.reset_index(drop=True)\n",
    "\n",
    "#df_nd52_100dias.to_excel('nd52_PA.xlsx')"
   ]
  },
  {
   "cell_type": "markdown",
   "metadata": {},
   "source": [
    "### Consolidação ND 30 e ND 39"
   ]
  },
  {
   "cell_type": "code",
   "execution_count": 38,
   "metadata": {},
   "outputs": [
    {
     "data": {
      "text/plain": [
       "Index(['UG', 'SIGLA UG', 'ACAO', 'NOME_ACAO', 'ANO', 'CREDOR', 'NOME_CREDOR',\n",
       "       'DATA', 'DIAS', 'ICFEX', 'NOME_ICFEX', 'ND', 'NOME_ND', 'NDSI',\n",
       "       'NOME_NDSI', 'NE', 'PI', 'NOME_PI', 'PROGRAMA', 'PTRES', 'TIPO',\n",
       "       'TIPO_NE', 'LOCAL', 'UF_CREDOR', 'UF_UG', 'UGR', 'NOME_UGR', 'RADPI4',\n",
       "       'MEIPI3', 'SUFPI4', 'A_LIQUIDAR', 'LIQUIDADO_A_PAGAR', 'TOTAL_A_PAGAR',\n",
       "       'PAGO'],\n",
       "      dtype='object')"
      ]
     },
     "execution_count": 38,
     "metadata": {},
     "output_type": "execute_result"
    }
   ],
   "source": [
    "df_foco.columns"
   ]
  },
  {
   "cell_type": "code",
   "execution_count": 44,
   "metadata": {},
   "outputs": [
    {
     "data": {
      "text/html": [
       "<div>\n",
       "<style scoped>\n",
       "    .dataframe tbody tr th:only-of-type {\n",
       "        vertical-align: middle;\n",
       "    }\n",
       "\n",
       "    .dataframe tbody tr th {\n",
       "        vertical-align: top;\n",
       "    }\n",
       "\n",
       "    .dataframe thead th {\n",
       "        text-align: right;\n",
       "    }\n",
       "</style>\n",
       "<table border=\"1\" class=\"dataframe\">\n",
       "  <thead>\n",
       "    <tr style=\"text-align: right;\">\n",
       "      <th></th>\n",
       "      <th>UG</th>\n",
       "      <th>ANO</th>\n",
       "      <th>CREDOR</th>\n",
       "      <th>NOME_CREDOR</th>\n",
       "      <th>DATA</th>\n",
       "      <th>DIAS</th>\n",
       "      <th>ND</th>\n",
       "      <th>NDSI</th>\n",
       "      <th>NOME_NDSI</th>\n",
       "      <th>NE</th>\n",
       "      <th>PI</th>\n",
       "      <th>NOME_PI</th>\n",
       "      <th>UGR</th>\n",
       "      <th>NOME_UGR</th>\n",
       "      <th>A_LIQUIDAR</th>\n",
       "      <th>LIQUIDADO_A_PAGAR</th>\n",
       "      <th>PAGO</th>\n",
       "    </tr>\n",
       "  </thead>\n",
       "  <tbody>\n",
       "    <tr>\n",
       "      <th>0</th>\n",
       "      <td>160129</td>\n",
       "      <td>2023</td>\n",
       "      <td>10653955000100</td>\n",
       "      <td>I&amp;P AGROCOMERCIAL LTDA</td>\n",
       "      <td>2023-02-13</td>\n",
       "      <td>262</td>\n",
       "      <td>339030</td>\n",
       "      <td>33903007</td>\n",
       "      <td>GENEROS DE ALIMENTACAO</td>\n",
       "      <td>2023NE000114</td>\n",
       "      <td>E6SUPLJA1QR</td>\n",
       "      <td>A1QR - QUANTITATIVO DE RANCHO</td>\n",
       "      <td>160504</td>\n",
       "      <td>COEX/GESTOR</td>\n",
       "      <td>2670.68</td>\n",
       "      <td>0.0</td>\n",
       "      <td>94485.32</td>\n",
       "    </tr>\n",
       "    <tr>\n",
       "      <th>1</th>\n",
       "      <td>160129</td>\n",
       "      <td>2023</td>\n",
       "      <td>19791896006486</td>\n",
       "      <td>SUPERGASBRAS ENERGIA LTDA</td>\n",
       "      <td>2023-02-14</td>\n",
       "      <td>261</td>\n",
       "      <td>339030</td>\n",
       "      <td>33903004</td>\n",
       "      <td>GAS E OUTROS MATERIAIS ENGARRAFADOS</td>\n",
       "      <td>2023NE000120</td>\n",
       "      <td>E6SUPLJA1QR</td>\n",
       "      <td>A1QR - QUANTITATIVO DE RANCHO</td>\n",
       "      <td>160504</td>\n",
       "      <td>COEX/GESTOR</td>\n",
       "      <td>8728.03</td>\n",
       "      <td>0.0</td>\n",
       "      <td>171196.20</td>\n",
       "    </tr>\n",
       "    <tr>\n",
       "      <th>2</th>\n",
       "      <td>160129</td>\n",
       "      <td>2023</td>\n",
       "      <td>20702528000110</td>\n",
       "      <td>CARLOS GABRIEL DOS REIS</td>\n",
       "      <td>2023-02-15</td>\n",
       "      <td>260</td>\n",
       "      <td>339030</td>\n",
       "      <td>33903007</td>\n",
       "      <td>GENEROS DE ALIMENTACAO</td>\n",
       "      <td>2023NE000158</td>\n",
       "      <td>E6SUPLJESCO</td>\n",
       "      <td>ESCO - QUANTITATIVO DE RANCHO</td>\n",
       "      <td>160504</td>\n",
       "      <td>COEX/GESTOR</td>\n",
       "      <td>12930.36</td>\n",
       "      <td>0.0</td>\n",
       "      <td>123555.47</td>\n",
       "    </tr>\n",
       "    <tr>\n",
       "      <th>3</th>\n",
       "      <td>160129</td>\n",
       "      <td>2023</td>\n",
       "      <td>31669124000198</td>\n",
       "      <td>LS REFRIGERACAO LTDA</td>\n",
       "      <td>2023-04-18</td>\n",
       "      <td>198</td>\n",
       "      <td>449052</td>\n",
       "      <td>44905228</td>\n",
       "      <td>MAQUINAS E EQUIPAMENTOS DE NATUREZA INDUSTRIAL</td>\n",
       "      <td>2023NE000392</td>\n",
       "      <td>E6SUPLJA5PA</td>\n",
       "      <td>A5PA - PASA</td>\n",
       "      <td>160504</td>\n",
       "      <td>COEX/GESTOR</td>\n",
       "      <td>8837.42</td>\n",
       "      <td>0.0</td>\n",
       "      <td>0.00</td>\n",
       "    </tr>\n",
       "    <tr>\n",
       "      <th>4</th>\n",
       "      <td>160129</td>\n",
       "      <td>2023</td>\n",
       "      <td>28259514000185</td>\n",
       "      <td>CLEVER FERREIRA COSTA 01175363693</td>\n",
       "      <td>2023-05-03</td>\n",
       "      <td>183</td>\n",
       "      <td>339030</td>\n",
       "      <td>33903021</td>\n",
       "      <td>MATERIAL DE COPA E COZINHA</td>\n",
       "      <td>2023NE000465</td>\n",
       "      <td>E6SUPLJA5PA</td>\n",
       "      <td>A5PA - PASA</td>\n",
       "      <td>160504</td>\n",
       "      <td>COEX/GESTOR</td>\n",
       "      <td>3044.75</td>\n",
       "      <td>0.0</td>\n",
       "      <td>0.00</td>\n",
       "    </tr>\n",
       "    <tr>\n",
       "      <th>5</th>\n",
       "      <td>160129</td>\n",
       "      <td>2023</td>\n",
       "      <td>19791896006486</td>\n",
       "      <td>SUPERGASBRAS ENERGIA LTDA</td>\n",
       "      <td>2023-05-29</td>\n",
       "      <td>157</td>\n",
       "      <td>339030</td>\n",
       "      <td>33903004</td>\n",
       "      <td>GAS E OUTROS MATERIAIS ENGARRAFADOS</td>\n",
       "      <td>2023NE000559</td>\n",
       "      <td>C4ENMILCAPE</td>\n",
       "      <td>CAPACITACAO DE PESSOAL</td>\n",
       "      <td>160503</td>\n",
       "      <td>DECEX/GESTOR</td>\n",
       "      <td>1850.42</td>\n",
       "      <td>0.0</td>\n",
       "      <td>0.00</td>\n",
       "    </tr>\n",
       "    <tr>\n",
       "      <th>6</th>\n",
       "      <td>167129</td>\n",
       "      <td>2023</td>\n",
       "      <td>13754000000129</td>\n",
       "      <td>G4 SERVICO E COMERCIO DE PRODUTOS INDUSTRIAIS,...</td>\n",
       "      <td>2023-06-02</td>\n",
       "      <td>153</td>\n",
       "      <td>339030</td>\n",
       "      <td>33903039</td>\n",
       "      <td>MATERIAL P/ MANUTENCAO DE VEICULOS</td>\n",
       "      <td>2023NE001125</td>\n",
       "      <td>E3PCFSCMABM</td>\n",
       "      <td>MANUTENCAO DE BENS MOVEIS</td>\n",
       "      <td>167504</td>\n",
       "      <td>COEX - GESTOR</td>\n",
       "      <td>9999.67</td>\n",
       "      <td>0.0</td>\n",
       "      <td>0.00</td>\n",
       "    </tr>\n",
       "    <tr>\n",
       "      <th>7</th>\n",
       "      <td>160129</td>\n",
       "      <td>2023</td>\n",
       "      <td>09583781000169</td>\n",
       "      <td>2 CLICK SOLUCOES LTDA</td>\n",
       "      <td>2023-06-06</td>\n",
       "      <td>149</td>\n",
       "      <td>339030</td>\n",
       "      <td>33903022</td>\n",
       "      <td>MATERIAL DE LIMPEZA E PROD. DE HIGIENIZACAO</td>\n",
       "      <td>2023NE000635</td>\n",
       "      <td>I3DAFUNADOM</td>\n",
       "      <td>ADMINISTRACAO DE OM</td>\n",
       "      <td>160073</td>\n",
       "      <td>DGO</td>\n",
       "      <td>840.00</td>\n",
       "      <td>0.0</td>\n",
       "      <td>0.00</td>\n",
       "    </tr>\n",
       "    <tr>\n",
       "      <th>8</th>\n",
       "      <td>160129</td>\n",
       "      <td>2023</td>\n",
       "      <td>43928711000133</td>\n",
       "      <td>GARDEN MATERIAIS DE CONSTRUCAO LTDA</td>\n",
       "      <td>2023-06-07</td>\n",
       "      <td>148</td>\n",
       "      <td>339030</td>\n",
       "      <td>33903024</td>\n",
       "      <td>MATERIAL P/ MANUT.DE BENS IMOVEIS/INSTALACOES</td>\n",
       "      <td>2023NE000647</td>\n",
       "      <td>E6RVSOLOUT4</td>\n",
       "      <td>REMONTA E VETERINÁRIA</td>\n",
       "      <td>160504</td>\n",
       "      <td>COEX/GESTOR</td>\n",
       "      <td>955.00</td>\n",
       "      <td>0.0</td>\n",
       "      <td>3830.00</td>\n",
       "    </tr>\n",
       "    <tr>\n",
       "      <th>9</th>\n",
       "      <td>167129</td>\n",
       "      <td>2023</td>\n",
       "      <td>02852112698</td>\n",
       "      <td>LUCIANO ALVES DE PAULA</td>\n",
       "      <td>2023-06-13</td>\n",
       "      <td>142</td>\n",
       "      <td>339030</td>\n",
       "      <td>33903096</td>\n",
       "      <td>MATERIAL DE CONSUMO - PAGTO ANTECIPADO</td>\n",
       "      <td>2023NE001191</td>\n",
       "      <td>E3PCOPFCOLU</td>\n",
       "      <td>COMBUSTIVEL E LUBRIFICANTES</td>\n",
       "      <td>167504</td>\n",
       "      <td>COEX - GESTOR</td>\n",
       "      <td>5.22</td>\n",
       "      <td>0.0</td>\n",
       "      <td>0.00</td>\n",
       "    </tr>\n",
       "    <tr>\n",
       "      <th>10</th>\n",
       "      <td>160129</td>\n",
       "      <td>2023</td>\n",
       "      <td>48241204000140</td>\n",
       "      <td>EQUIPAT - EQUIPAMENTOS E MATERIAIS ELETRICOS E...</td>\n",
       "      <td>2023-06-16</td>\n",
       "      <td>139</td>\n",
       "      <td>449052</td>\n",
       "      <td>44905238</td>\n",
       "      <td>MAQ., FERRAMENTAS  E  UTENSILIOS  DE  OFICINA</td>\n",
       "      <td>2023NE000668</td>\n",
       "      <td>E5MMPDRDEGE</td>\n",
       "      <td>DESCENTRALIZACAO RECURSOS MOTOMECANIZACAO</td>\n",
       "      <td>160504</td>\n",
       "      <td>COEX/GESTOR</td>\n",
       "      <td>995.00</td>\n",
       "      <td>0.0</td>\n",
       "      <td>0.00</td>\n",
       "    </tr>\n",
       "    <tr>\n",
       "      <th>11</th>\n",
       "      <td>160129</td>\n",
       "      <td>2023</td>\n",
       "      <td>28320324000126</td>\n",
       "      <td>FREDERICO DELGADO DE ALMEIDA</td>\n",
       "      <td>2023-06-19</td>\n",
       "      <td>136</td>\n",
       "      <td>449052</td>\n",
       "      <td>44905224</td>\n",
       "      <td>EQUIPAMENTO DE PROTECAO, SEGURANCA E  SOCORRO</td>\n",
       "      <td>2023NE000672</td>\n",
       "      <td>C4ENMILCAPE</td>\n",
       "      <td>CAPACITACAO DE PESSOAL</td>\n",
       "      <td>160503</td>\n",
       "      <td>DECEX/GESTOR</td>\n",
       "      <td>1379.10</td>\n",
       "      <td>0.0</td>\n",
       "      <td>0.00</td>\n",
       "    </tr>\n",
       "    <tr>\n",
       "      <th>12</th>\n",
       "      <td>160129</td>\n",
       "      <td>2023</td>\n",
       "      <td>20421805000116</td>\n",
       "      <td>SUPERMERCADO REI DAS CARNES LTDA</td>\n",
       "      <td>2023-06-20</td>\n",
       "      <td>135</td>\n",
       "      <td>339030</td>\n",
       "      <td>33903007</td>\n",
       "      <td>GENEROS DE ALIMENTACAO</td>\n",
       "      <td>2023NE000696</td>\n",
       "      <td>E6SUPLJA1QR</td>\n",
       "      <td>A1QR - QUANTITATIVO DE RANCHO</td>\n",
       "      <td>160504</td>\n",
       "      <td>COEX/GESTOR</td>\n",
       "      <td>5634.75</td>\n",
       "      <td>0.0</td>\n",
       "      <td>6752.07</td>\n",
       "    </tr>\n",
       "    <tr>\n",
       "      <th>13</th>\n",
       "      <td>160129</td>\n",
       "      <td>2023</td>\n",
       "      <td>37748531000177</td>\n",
       "      <td>RAFAEL SOARES AZEVEDO</td>\n",
       "      <td>2023-06-20</td>\n",
       "      <td>135</td>\n",
       "      <td>339030</td>\n",
       "      <td>33903007</td>\n",
       "      <td>GENEROS DE ALIMENTACAO</td>\n",
       "      <td>2023NE000698</td>\n",
       "      <td>E6SUPLJA1QR</td>\n",
       "      <td>A1QR - QUANTITATIVO DE RANCHO</td>\n",
       "      <td>160504</td>\n",
       "      <td>COEX/GESTOR</td>\n",
       "      <td>10328.98</td>\n",
       "      <td>0.0</td>\n",
       "      <td>5850.22</td>\n",
       "    </tr>\n",
       "    <tr>\n",
       "      <th>14</th>\n",
       "      <td>160129</td>\n",
       "      <td>2023</td>\n",
       "      <td>10653955000100</td>\n",
       "      <td>I&amp;P AGROCOMERCIAL LTDA</td>\n",
       "      <td>2023-06-20</td>\n",
       "      <td>135</td>\n",
       "      <td>339030</td>\n",
       "      <td>33903007</td>\n",
       "      <td>GENEROS DE ALIMENTACAO</td>\n",
       "      <td>2023NE000695</td>\n",
       "      <td>E6SUPLJA1QR</td>\n",
       "      <td>A1QR - QUANTITATIVO DE RANCHO</td>\n",
       "      <td>160504</td>\n",
       "      <td>COEX/GESTOR</td>\n",
       "      <td>0.01</td>\n",
       "      <td>0.0</td>\n",
       "      <td>14649.67</td>\n",
       "    </tr>\n",
       "    <tr>\n",
       "      <th>15</th>\n",
       "      <td>160129</td>\n",
       "      <td>2023</td>\n",
       "      <td>14163479000191</td>\n",
       "      <td>EXITUS COMERCIAL PRODUTOS E SERVICOS LTDA</td>\n",
       "      <td>2023-06-21</td>\n",
       "      <td>134</td>\n",
       "      <td>339030</td>\n",
       "      <td>33903007</td>\n",
       "      <td>GENEROS DE ALIMENTACAO</td>\n",
       "      <td>2023NE000706</td>\n",
       "      <td>E6SUPLJA1QR</td>\n",
       "      <td>A1QR - QUANTITATIVO DE RANCHO</td>\n",
       "      <td>160504</td>\n",
       "      <td>COEX/GESTOR</td>\n",
       "      <td>1195.00</td>\n",
       "      <td>0.0</td>\n",
       "      <td>0.00</td>\n",
       "    </tr>\n",
       "    <tr>\n",
       "      <th>16</th>\n",
       "      <td>160129</td>\n",
       "      <td>2023</td>\n",
       "      <td>20702528000110</td>\n",
       "      <td>CARLOS GABRIEL DOS REIS</td>\n",
       "      <td>2023-06-21</td>\n",
       "      <td>134</td>\n",
       "      <td>339030</td>\n",
       "      <td>33903007</td>\n",
       "      <td>GENEROS DE ALIMENTACAO</td>\n",
       "      <td>2023NE000715</td>\n",
       "      <td>E6SUPLJA1QR</td>\n",
       "      <td>A1QR - QUANTITATIVO DE RANCHO</td>\n",
       "      <td>160504</td>\n",
       "      <td>COEX/GESTOR</td>\n",
       "      <td>8372.52</td>\n",
       "      <td>0.0</td>\n",
       "      <td>80611.35</td>\n",
       "    </tr>\n",
       "    <tr>\n",
       "      <th>17</th>\n",
       "      <td>160129</td>\n",
       "      <td>2023</td>\n",
       "      <td>47078180000198</td>\n",
       "      <td>AF DISTRIBUIDORA E SERVICOS LTDA</td>\n",
       "      <td>2023-06-21</td>\n",
       "      <td>134</td>\n",
       "      <td>339030</td>\n",
       "      <td>33903007</td>\n",
       "      <td>GENEROS DE ALIMENTACAO</td>\n",
       "      <td>2023NE000704</td>\n",
       "      <td>E6SUPLJA1QR</td>\n",
       "      <td>A1QR - QUANTITATIVO DE RANCHO</td>\n",
       "      <td>160504</td>\n",
       "      <td>COEX/GESTOR</td>\n",
       "      <td>10570.83</td>\n",
       "      <td>0.0</td>\n",
       "      <td>150428.65</td>\n",
       "    </tr>\n",
       "    <tr>\n",
       "      <th>18</th>\n",
       "      <td>160129</td>\n",
       "      <td>2023</td>\n",
       "      <td>81243735001977</td>\n",
       "      <td>POSITIVO TECNOLOGIA S.A.</td>\n",
       "      <td>2023-06-28</td>\n",
       "      <td>127</td>\n",
       "      <td>449052</td>\n",
       "      <td>44905241</td>\n",
       "      <td>EQUIPAMENTOS DE TIC - COMPUTADORES</td>\n",
       "      <td>2023NE000781</td>\n",
       "      <td>C4ENMILCAPE</td>\n",
       "      <td>CAPACITACAO DE PESSOAL</td>\n",
       "      <td>160503</td>\n",
       "      <td>DECEX/GESTOR</td>\n",
       "      <td>21342.00</td>\n",
       "      <td>0.0</td>\n",
       "      <td>0.00</td>\n",
       "    </tr>\n",
       "    <tr>\n",
       "      <th>19</th>\n",
       "      <td>160129</td>\n",
       "      <td>2023</td>\n",
       "      <td>81243735000903</td>\n",
       "      <td>POSITIVO TECNOLOGIA S.A.</td>\n",
       "      <td>2023-07-24</td>\n",
       "      <td>101</td>\n",
       "      <td>449052</td>\n",
       "      <td>44905241</td>\n",
       "      <td>EQUIPAMENTOS DE TIC - COMPUTADORES</td>\n",
       "      <td>2023NE000889</td>\n",
       "      <td>C4ENMILCAPE</td>\n",
       "      <td>CAPACITACAO DE PESSOAL</td>\n",
       "      <td>160503</td>\n",
       "      <td>DECEX/GESTOR</td>\n",
       "      <td>11454.00</td>\n",
       "      <td>0.0</td>\n",
       "      <td>0.00</td>\n",
       "    </tr>\n",
       "    <tr>\n",
       "      <th>20</th>\n",
       "      <td>160129</td>\n",
       "      <td>2023</td>\n",
       "      <td>20240470000130</td>\n",
       "      <td>R.A.C. CUNHA MATERIAIS P/ CONSTRUCAO LTDA</td>\n",
       "      <td>2023-07-25</td>\n",
       "      <td>100</td>\n",
       "      <td>339030</td>\n",
       "      <td>33903024</td>\n",
       "      <td>MATERIAL P/ MANUT.DE BENS IMOVEIS/INSTALACOES</td>\n",
       "      <td>2023NE000894</td>\n",
       "      <td>C4ENMILCAPE</td>\n",
       "      <td>CAPACITACAO DE PESSOAL</td>\n",
       "      <td>160503</td>\n",
       "      <td>DECEX/GESTOR</td>\n",
       "      <td>8846.35</td>\n",
       "      <td>0.0</td>\n",
       "      <td>0.00</td>\n",
       "    </tr>\n",
       "    <tr>\n",
       "      <th>21</th>\n",
       "      <td>160129</td>\n",
       "      <td>2023</td>\n",
       "      <td>33345691000114</td>\n",
       "      <td>CONCRETA BRASIL SOLUCOES EMPRESARIAIS LTDA</td>\n",
       "      <td>2023-07-25</td>\n",
       "      <td>100</td>\n",
       "      <td>339030</td>\n",
       "      <td>33903024</td>\n",
       "      <td>MATERIAL P/ MANUT.DE BENS IMOVEIS/INSTALACOES</td>\n",
       "      <td>2023NE000890</td>\n",
       "      <td>C4ENMILCAPE</td>\n",
       "      <td>CAPACITACAO DE PESSOAL</td>\n",
       "      <td>160503</td>\n",
       "      <td>DECEX/GESTOR</td>\n",
       "      <td>11469.19</td>\n",
       "      <td>0.0</td>\n",
       "      <td>0.00</td>\n",
       "    </tr>\n",
       "    <tr>\n",
       "      <th>22</th>\n",
       "      <td>160129</td>\n",
       "      <td>2023</td>\n",
       "      <td>39242061000109</td>\n",
       "      <td>CENTRAL TINTAS CURVELO LTDA</td>\n",
       "      <td>2023-07-25</td>\n",
       "      <td>100</td>\n",
       "      <td>339030</td>\n",
       "      <td>33903024</td>\n",
       "      <td>MATERIAL P/ MANUT.DE BENS IMOVEIS/INSTALACOES</td>\n",
       "      <td>2023NE000891</td>\n",
       "      <td>C4ENMILCAPE</td>\n",
       "      <td>CAPACITACAO DE PESSOAL</td>\n",
       "      <td>160503</td>\n",
       "      <td>DECEX/GESTOR</td>\n",
       "      <td>552.90</td>\n",
       "      <td>0.0</td>\n",
       "      <td>0.00</td>\n",
       "    </tr>\n",
       "    <tr>\n",
       "      <th>23</th>\n",
       "      <td>167129</td>\n",
       "      <td>2023</td>\n",
       "      <td>17623276000129</td>\n",
       "      <td>GLOBAL CONSTRUTORA LTDA</td>\n",
       "      <td>2023-07-27</td>\n",
       "      <td>98</td>\n",
       "      <td>339030</td>\n",
       "      <td>33903026</td>\n",
       "      <td>MATERIAL ELETRICO E ELETRONICO</td>\n",
       "      <td>2023NE001370</td>\n",
       "      <td>D5SAFUSASOC</td>\n",
       "      <td>ASSISTENCIA SOCIAL</td>\n",
       "      <td>167505</td>\n",
       "      <td>DGP</td>\n",
       "      <td>1130.06</td>\n",
       "      <td>0.0</td>\n",
       "      <td>0.00</td>\n",
       "    </tr>\n",
       "    <tr>\n",
       "      <th>24</th>\n",
       "      <td>160129</td>\n",
       "      <td>2023</td>\n",
       "      <td>08605233000120</td>\n",
       "      <td>BALCAO DOS PARAFUSOS E FERRAMENTAS LTDA</td>\n",
       "      <td>2023-07-31</td>\n",
       "      <td>94</td>\n",
       "      <td>339030</td>\n",
       "      <td>33903016</td>\n",
       "      <td>MATERIAL DE EXPEDIENTE</td>\n",
       "      <td>2023NE000940</td>\n",
       "      <td>I3DAFUNADOM</td>\n",
       "      <td>ADMINISTRACAO DE OM</td>\n",
       "      <td>160073</td>\n",
       "      <td>DGO</td>\n",
       "      <td>69.00</td>\n",
       "      <td>0.0</td>\n",
       "      <td>0.00</td>\n",
       "    </tr>\n",
       "    <tr>\n",
       "      <th>25</th>\n",
       "      <td>160129</td>\n",
       "      <td>2023</td>\n",
       "      <td>10902067000175</td>\n",
       "      <td>ESCRIBLU COMERCIO DE MOVEIS LTDA</td>\n",
       "      <td>2023-07-31</td>\n",
       "      <td>94</td>\n",
       "      <td>449052</td>\n",
       "      <td>44905242</td>\n",
       "      <td>MOBILIARIO EM GERAL</td>\n",
       "      <td>2023NE000938</td>\n",
       "      <td>I3DAFUNADOM</td>\n",
       "      <td>ADMINISTRACAO DE OM</td>\n",
       "      <td>160073</td>\n",
       "      <td>DGO</td>\n",
       "      <td>3384.95</td>\n",
       "      <td>0.0</td>\n",
       "      <td>0.00</td>\n",
       "    </tr>\n",
       "    <tr>\n",
       "      <th>26</th>\n",
       "      <td>160129</td>\n",
       "      <td>2023</td>\n",
       "      <td>08605233000120</td>\n",
       "      <td>BALCAO DOS PARAFUSOS E FERRAMENTAS LTDA</td>\n",
       "      <td>2023-08-01</td>\n",
       "      <td>93</td>\n",
       "      <td>339030</td>\n",
       "      <td>33903025</td>\n",
       "      <td>MATERIAL P/ MANUTENCAO DE BENS MOVEIS</td>\n",
       "      <td>2023NE000948</td>\n",
       "      <td>I3DAFUNADOM</td>\n",
       "      <td>ADMINISTRACAO DE OM</td>\n",
       "      <td>160073</td>\n",
       "      <td>DGO</td>\n",
       "      <td>18.70</td>\n",
       "      <td>0.0</td>\n",
       "      <td>0.00</td>\n",
       "    </tr>\n",
       "    <tr>\n",
       "      <th>27</th>\n",
       "      <td>167129</td>\n",
       "      <td>2023</td>\n",
       "      <td>10902067000175</td>\n",
       "      <td>ESCRIBLU COMERCIO DE MOVEIS LTDA</td>\n",
       "      <td>2023-08-02</td>\n",
       "      <td>92</td>\n",
       "      <td>449052</td>\n",
       "      <td>44905242</td>\n",
       "      <td>MOBILIARIO EM GERAL</td>\n",
       "      <td>2023NE001378</td>\n",
       "      <td>D5SAFUSASOC</td>\n",
       "      <td>ASSISTENCIA SOCIAL</td>\n",
       "      <td>167505</td>\n",
       "      <td>DGP</td>\n",
       "      <td>3047.67</td>\n",
       "      <td>0.0</td>\n",
       "      <td>0.00</td>\n",
       "    </tr>\n",
       "    <tr>\n",
       "      <th>28</th>\n",
       "      <td>160129</td>\n",
       "      <td>2023</td>\n",
       "      <td>10902067000175</td>\n",
       "      <td>ESCRIBLU COMERCIO DE MOVEIS LTDA</td>\n",
       "      <td>2023-08-02</td>\n",
       "      <td>92</td>\n",
       "      <td>449052</td>\n",
       "      <td>44905242</td>\n",
       "      <td>MOBILIARIO EM GERAL</td>\n",
       "      <td>2023NE000951</td>\n",
       "      <td>I3DAFUNADOM</td>\n",
       "      <td>ADMINISTRACAO DE OM</td>\n",
       "      <td>160073</td>\n",
       "      <td>DGO</td>\n",
       "      <td>2030.97</td>\n",
       "      <td>0.0</td>\n",
       "      <td>0.00</td>\n",
       "    </tr>\n",
       "    <tr>\n",
       "      <th>29</th>\n",
       "      <td>160129</td>\n",
       "      <td>2023</td>\n",
       "      <td>10902067000175</td>\n",
       "      <td>ESCRIBLU COMERCIO DE MOVEIS LTDA</td>\n",
       "      <td>2023-08-02</td>\n",
       "      <td>92</td>\n",
       "      <td>449052</td>\n",
       "      <td>44905242</td>\n",
       "      <td>MOBILIARIO EM GERAL</td>\n",
       "      <td>2023NE000952</td>\n",
       "      <td>I3DAFUNADOM</td>\n",
       "      <td>ADMINISTRACAO DE OM</td>\n",
       "      <td>160073</td>\n",
       "      <td>DGO</td>\n",
       "      <td>4063.56</td>\n",
       "      <td>0.0</td>\n",
       "      <td>0.00</td>\n",
       "    </tr>\n",
       "    <tr>\n",
       "      <th>30</th>\n",
       "      <td>167129</td>\n",
       "      <td>2023</td>\n",
       "      <td>10902067000175</td>\n",
       "      <td>ESCRIBLU COMERCIO DE MOVEIS LTDA</td>\n",
       "      <td>2023-08-02</td>\n",
       "      <td>92</td>\n",
       "      <td>449052</td>\n",
       "      <td>44905242</td>\n",
       "      <td>MOBILIARIO EM GERAL</td>\n",
       "      <td>2023NE001377</td>\n",
       "      <td>D5SAFUSASOC</td>\n",
       "      <td>ASSISTENCIA SOCIAL</td>\n",
       "      <td>167505</td>\n",
       "      <td>DGP</td>\n",
       "      <td>2707.96</td>\n",
       "      <td>0.0</td>\n",
       "      <td>0.00</td>\n",
       "    </tr>\n",
       "    <tr>\n",
       "      <th>31</th>\n",
       "      <td>160129</td>\n",
       "      <td>2023</td>\n",
       "      <td>10902067000175</td>\n",
       "      <td>ESCRIBLU COMERCIO DE MOVEIS LTDA</td>\n",
       "      <td>2023-08-08</td>\n",
       "      <td>86</td>\n",
       "      <td>449052</td>\n",
       "      <td>44905242</td>\n",
       "      <td>MOBILIARIO EM GERAL</td>\n",
       "      <td>2023NE000957</td>\n",
       "      <td>I3DAFUNADOM</td>\n",
       "      <td>ADMINISTRACAO DE OM</td>\n",
       "      <td>160073</td>\n",
       "      <td>DGO</td>\n",
       "      <td>1618.00</td>\n",
       "      <td>0.0</td>\n",
       "      <td>0.00</td>\n",
       "    </tr>\n",
       "    <tr>\n",
       "      <th>32</th>\n",
       "      <td>160129</td>\n",
       "      <td>2023</td>\n",
       "      <td>50317178000139</td>\n",
       "      <td>R&amp;D COMERCIO E SUPRIMENTOS DE INFORMATICA LTDA</td>\n",
       "      <td>2023-08-09</td>\n",
       "      <td>85</td>\n",
       "      <td>339030</td>\n",
       "      <td>33903017</td>\n",
       "      <td>MATERIAL DE TIC - MATERIAL DE CONSUMO</td>\n",
       "      <td>2023NE000971</td>\n",
       "      <td>C4ENMILCAPE</td>\n",
       "      <td>CAPACITACAO DE PESSOAL</td>\n",
       "      <td>160503</td>\n",
       "      <td>DECEX/GESTOR</td>\n",
       "      <td>15430.00</td>\n",
       "      <td>0.0</td>\n",
       "      <td>0.00</td>\n",
       "    </tr>\n",
       "    <tr>\n",
       "      <th>33</th>\n",
       "      <td>167129</td>\n",
       "      <td>2023</td>\n",
       "      <td>51234341000162</td>\n",
       "      <td>51.234.341 SANDRA LETICIA FERREIRA DE ALMEIDA</td>\n",
       "      <td>2023-08-10</td>\n",
       "      <td>84</td>\n",
       "      <td>449052</td>\n",
       "      <td>44905242</td>\n",
       "      <td>MOBILIARIO EM GERAL</td>\n",
       "      <td>2023NE001407</td>\n",
       "      <td>D5SAFUSASOC</td>\n",
       "      <td>ASSISTENCIA SOCIAL</td>\n",
       "      <td>167505</td>\n",
       "      <td>DGP</td>\n",
       "      <td>1551.00</td>\n",
       "      <td>0.0</td>\n",
       "      <td>0.00</td>\n",
       "    </tr>\n",
       "    <tr>\n",
       "      <th>34</th>\n",
       "      <td>167129</td>\n",
       "      <td>2023</td>\n",
       "      <td>51234341000162</td>\n",
       "      <td>51.234.341 SANDRA LETICIA FERREIRA DE ALMEIDA</td>\n",
       "      <td>2023-08-10</td>\n",
       "      <td>84</td>\n",
       "      <td>449052</td>\n",
       "      <td>44905212</td>\n",
       "      <td>APARELHOS E UTENSILIOS DOMESTICOS</td>\n",
       "      <td>2023NE001407</td>\n",
       "      <td>D5SAFUSASOC</td>\n",
       "      <td>ASSISTENCIA SOCIAL</td>\n",
       "      <td>167505</td>\n",
       "      <td>DGP</td>\n",
       "      <td>720.31</td>\n",
       "      <td>0.0</td>\n",
       "      <td>0.00</td>\n",
       "    </tr>\n",
       "    <tr>\n",
       "      <th>35</th>\n",
       "      <td>167129</td>\n",
       "      <td>2023</td>\n",
       "      <td>48489837000172</td>\n",
       "      <td>JB LICITACOES LTDA</td>\n",
       "      <td>2023-08-10</td>\n",
       "      <td>84</td>\n",
       "      <td>449052</td>\n",
       "      <td>44905242</td>\n",
       "      <td>MOBILIARIO EM GERAL</td>\n",
       "      <td>2023NE001408</td>\n",
       "      <td>D5SAFUSASOC</td>\n",
       "      <td>ASSISTENCIA SOCIAL</td>\n",
       "      <td>167505</td>\n",
       "      <td>DGP</td>\n",
       "      <td>2460.00</td>\n",
       "      <td>0.0</td>\n",
       "      <td>0.00</td>\n",
       "    </tr>\n",
       "    <tr>\n",
       "      <th>36</th>\n",
       "      <td>167129</td>\n",
       "      <td>2023</td>\n",
       "      <td>45169346000156</td>\n",
       "      <td>FRANCILANDIO THIERES DE CARVALHO SILVA</td>\n",
       "      <td>2023-08-10</td>\n",
       "      <td>84</td>\n",
       "      <td>449052</td>\n",
       "      <td>44905212</td>\n",
       "      <td>APARELHOS E UTENSILIOS DOMESTICOS</td>\n",
       "      <td>2023NE001405</td>\n",
       "      <td>D5SAFUSASOC</td>\n",
       "      <td>ASSISTENCIA SOCIAL</td>\n",
       "      <td>167505</td>\n",
       "      <td>DGP</td>\n",
       "      <td>3964.69</td>\n",
       "      <td>0.0</td>\n",
       "      <td>0.00</td>\n",
       "    </tr>\n",
       "    <tr>\n",
       "      <th>37</th>\n",
       "      <td>160129</td>\n",
       "      <td>2023</td>\n",
       "      <td>10902067000175</td>\n",
       "      <td>ESCRIBLU COMERCIO DE MOVEIS LTDA</td>\n",
       "      <td>2023-08-10</td>\n",
       "      <td>84</td>\n",
       "      <td>449052</td>\n",
       "      <td>44905242</td>\n",
       "      <td>MOBILIARIO EM GERAL</td>\n",
       "      <td>2023NE000981</td>\n",
       "      <td>I3DAFUNADOM</td>\n",
       "      <td>ADMINISTRACAO DE OM</td>\n",
       "      <td>160073</td>\n",
       "      <td>DGO</td>\n",
       "      <td>1166.00</td>\n",
       "      <td>0.0</td>\n",
       "      <td>0.00</td>\n",
       "    </tr>\n",
       "    <tr>\n",
       "      <th>38</th>\n",
       "      <td>160129</td>\n",
       "      <td>2023</td>\n",
       "      <td>10902067000175</td>\n",
       "      <td>ESCRIBLU COMERCIO DE MOVEIS LTDA</td>\n",
       "      <td>2023-08-10</td>\n",
       "      <td>84</td>\n",
       "      <td>449052</td>\n",
       "      <td>44905242</td>\n",
       "      <td>MOBILIARIO EM GERAL</td>\n",
       "      <td>2023NE000980</td>\n",
       "      <td>I3DAFUNADOM</td>\n",
       "      <td>ADMINISTRACAO DE OM</td>\n",
       "      <td>160073</td>\n",
       "      <td>DGO</td>\n",
       "      <td>1557.00</td>\n",
       "      <td>0.0</td>\n",
       "      <td>0.00</td>\n",
       "    </tr>\n",
       "    <tr>\n",
       "      <th>39</th>\n",
       "      <td>167129</td>\n",
       "      <td>2023</td>\n",
       "      <td>81243735000903</td>\n",
       "      <td>POSITIVO TECNOLOGIA S.A.</td>\n",
       "      <td>2023-08-18</td>\n",
       "      <td>76</td>\n",
       "      <td>449052</td>\n",
       "      <td>44905241</td>\n",
       "      <td>EQUIPAMENTOS DE TIC - COMPUTADORES</td>\n",
       "      <td>2023NE001414</td>\n",
       "      <td>C1ENCONDETM</td>\n",
       "      <td>CONCURSOS AS ESCOLAS MILITARES</td>\n",
       "      <td>167503</td>\n",
       "      <td>DECEX - GESTOR</td>\n",
       "      <td>21864.00</td>\n",
       "      <td>0.0</td>\n",
       "      <td>0.00</td>\n",
       "    </tr>\n",
       "    <tr>\n",
       "      <th>40</th>\n",
       "      <td>160129</td>\n",
       "      <td>2023</td>\n",
       "      <td>38073038000167</td>\n",
       "      <td>WR NUTRICAO ANIMAL LTDA</td>\n",
       "      <td>2023-08-23</td>\n",
       "      <td>71</td>\n",
       "      <td>339030</td>\n",
       "      <td>33903006</td>\n",
       "      <td>ALIMENTOS PARA ANIMAIS</td>\n",
       "      <td>2023NE001054</td>\n",
       "      <td>E6RVPLJALIE</td>\n",
       "      <td>ALIMENTACAO PARA EQUINOS.</td>\n",
       "      <td>160504</td>\n",
       "      <td>COEX/GESTOR</td>\n",
       "      <td>4632.20</td>\n",
       "      <td>32200.0</td>\n",
       "      <td>20976.00</td>\n",
       "    </tr>\n",
       "    <tr>\n",
       "      <th>41</th>\n",
       "      <td>160129</td>\n",
       "      <td>2023</td>\n",
       "      <td>31682616000113</td>\n",
       "      <td>CFJ COMERCIAL AGROPECUARIO E TRANSPORTES LTDA</td>\n",
       "      <td>2023-08-23</td>\n",
       "      <td>71</td>\n",
       "      <td>339030</td>\n",
       "      <td>33903006</td>\n",
       "      <td>ALIMENTOS PARA ANIMAIS</td>\n",
       "      <td>2023NE001055</td>\n",
       "      <td>E6RVPLJALIE</td>\n",
       "      <td>ALIMENTACAO PARA EQUINOS.</td>\n",
       "      <td>160504</td>\n",
       "      <td>COEX/GESTOR</td>\n",
       "      <td>13171.28</td>\n",
       "      <td>0.0</td>\n",
       "      <td>50440.40</td>\n",
       "    </tr>\n",
       "    <tr>\n",
       "      <th>42</th>\n",
       "      <td>160129</td>\n",
       "      <td>2023</td>\n",
       "      <td>44429540000160</td>\n",
       "      <td>DISTRIBUIDORA ESPIRITO SANTO LTDA</td>\n",
       "      <td>2023-08-23</td>\n",
       "      <td>71</td>\n",
       "      <td>339030</td>\n",
       "      <td>33903006</td>\n",
       "      <td>ALIMENTOS PARA ANIMAIS</td>\n",
       "      <td>2023NE001066</td>\n",
       "      <td>E6RVPLJALIE</td>\n",
       "      <td>ALIMENTACAO PARA EQUINOS.</td>\n",
       "      <td>160504</td>\n",
       "      <td>COEX/GESTOR</td>\n",
       "      <td>1056.71</td>\n",
       "      <td>0.0</td>\n",
       "      <td>0.00</td>\n",
       "    </tr>\n",
       "    <tr>\n",
       "      <th>43</th>\n",
       "      <td>160129</td>\n",
       "      <td>2023</td>\n",
       "      <td>44429540000160</td>\n",
       "      <td>DISTRIBUIDORA ESPIRITO SANTO LTDA</td>\n",
       "      <td>2023-08-23</td>\n",
       "      <td>71</td>\n",
       "      <td>339030</td>\n",
       "      <td>33903006</td>\n",
       "      <td>ALIMENTOS PARA ANIMAIS</td>\n",
       "      <td>2023NE001062</td>\n",
       "      <td>E6RVPLJALIE</td>\n",
       "      <td>ALIMENTACAO PARA EQUINOS.</td>\n",
       "      <td>160504</td>\n",
       "      <td>COEX/GESTOR</td>\n",
       "      <td>1056.71</td>\n",
       "      <td>0.0</td>\n",
       "      <td>0.00</td>\n",
       "    </tr>\n",
       "    <tr>\n",
       "      <th>44</th>\n",
       "      <td>160129</td>\n",
       "      <td>2023</td>\n",
       "      <td>01804159000121</td>\n",
       "      <td>ELETRA TECNOLOGIA E INFORMATICA LTDA</td>\n",
       "      <td>2023-08-28</td>\n",
       "      <td>66</td>\n",
       "      <td>339030</td>\n",
       "      <td>33903017</td>\n",
       "      <td>MATERIAL DE TIC - MATERIAL DE CONSUMO</td>\n",
       "      <td>2023NE001074</td>\n",
       "      <td>K9CCMSIINFO</td>\n",
       "      <td>MNT DE SISTEMAS DE INFORMACãO E COMUNICACãO</td>\n",
       "      <td>160035</td>\n",
       "      <td>DCT - GESTOR</td>\n",
       "      <td>6396.00</td>\n",
       "      <td>0.0</td>\n",
       "      <td>0.00</td>\n",
       "    </tr>\n",
       "    <tr>\n",
       "      <th>45</th>\n",
       "      <td>160129</td>\n",
       "      <td>2023</td>\n",
       "      <td>06187402000123</td>\n",
       "      <td>R H P COMPUTADORES LTDA</td>\n",
       "      <td>2023-08-28</td>\n",
       "      <td>66</td>\n",
       "      <td>339030</td>\n",
       "      <td>33903017</td>\n",
       "      <td>MATERIAL DE TIC - MATERIAL DE CONSUMO</td>\n",
       "      <td>2023NE001078</td>\n",
       "      <td>K9CCMSIINFO</td>\n",
       "      <td>MNT DE SISTEMAS DE INFORMACãO E COMUNICACãO</td>\n",
       "      <td>160035</td>\n",
       "      <td>DCT - GESTOR</td>\n",
       "      <td>2249.00</td>\n",
       "      <td>0.0</td>\n",
       "      <td>0.00</td>\n",
       "    </tr>\n",
       "    <tr>\n",
       "      <th>46</th>\n",
       "      <td>160129</td>\n",
       "      <td>2023</td>\n",
       "      <td>31682616000113</td>\n",
       "      <td>CFJ COMERCIAL AGROPECUARIO E TRANSPORTES LTDA</td>\n",
       "      <td>2023-09-01</td>\n",
       "      <td>62</td>\n",
       "      <td>339030</td>\n",
       "      <td>33903006</td>\n",
       "      <td>ALIMENTOS PARA ANIMAIS</td>\n",
       "      <td>2023NE001096</td>\n",
       "      <td>E6RVPLJALIE</td>\n",
       "      <td>ALIMENTACAO PARA EQUINOS.</td>\n",
       "      <td>160504</td>\n",
       "      <td>COEX/GESTOR</td>\n",
       "      <td>63611.68</td>\n",
       "      <td>0.0</td>\n",
       "      <td>0.00</td>\n",
       "    </tr>\n",
       "    <tr>\n",
       "      <th>47</th>\n",
       "      <td>160129</td>\n",
       "      <td>2023</td>\n",
       "      <td>38073038000167</td>\n",
       "      <td>WR NUTRICAO ANIMAL LTDA</td>\n",
       "      <td>2023-09-01</td>\n",
       "      <td>62</td>\n",
       "      <td>339030</td>\n",
       "      <td>33903006</td>\n",
       "      <td>ALIMENTOS PARA ANIMAIS</td>\n",
       "      <td>2023NE001097</td>\n",
       "      <td>E6RVPLJALIE</td>\n",
       "      <td>ALIMENTACAO PARA EQUINOS.</td>\n",
       "      <td>160504</td>\n",
       "      <td>COEX/GESTOR</td>\n",
       "      <td>57808.20</td>\n",
       "      <td>0.0</td>\n",
       "      <td>0.00</td>\n",
       "    </tr>\n",
       "  </tbody>\n",
       "</table>\n",
       "</div>"
      ],
      "text/plain": [
       "        UG   ANO          CREDOR  \\\n",
       "0   160129  2023  10653955000100   \n",
       "1   160129  2023  19791896006486   \n",
       "2   160129  2023  20702528000110   \n",
       "3   160129  2023  31669124000198   \n",
       "4   160129  2023  28259514000185   \n",
       "5   160129  2023  19791896006486   \n",
       "6   167129  2023  13754000000129   \n",
       "7   160129  2023  09583781000169   \n",
       "8   160129  2023  43928711000133   \n",
       "9   167129  2023     02852112698   \n",
       "10  160129  2023  48241204000140   \n",
       "11  160129  2023  28320324000126   \n",
       "12  160129  2023  20421805000116   \n",
       "13  160129  2023  37748531000177   \n",
       "14  160129  2023  10653955000100   \n",
       "15  160129  2023  14163479000191   \n",
       "16  160129  2023  20702528000110   \n",
       "17  160129  2023  47078180000198   \n",
       "18  160129  2023  81243735001977   \n",
       "19  160129  2023  81243735000903   \n",
       "20  160129  2023  20240470000130   \n",
       "21  160129  2023  33345691000114   \n",
       "22  160129  2023  39242061000109   \n",
       "23  167129  2023  17623276000129   \n",
       "24  160129  2023  08605233000120   \n",
       "25  160129  2023  10902067000175   \n",
       "26  160129  2023  08605233000120   \n",
       "27  167129  2023  10902067000175   \n",
       "28  160129  2023  10902067000175   \n",
       "29  160129  2023  10902067000175   \n",
       "30  167129  2023  10902067000175   \n",
       "31  160129  2023  10902067000175   \n",
       "32  160129  2023  50317178000139   \n",
       "33  167129  2023  51234341000162   \n",
       "34  167129  2023  51234341000162   \n",
       "35  167129  2023  48489837000172   \n",
       "36  167129  2023  45169346000156   \n",
       "37  160129  2023  10902067000175   \n",
       "38  160129  2023  10902067000175   \n",
       "39  167129  2023  81243735000903   \n",
       "40  160129  2023  38073038000167   \n",
       "41  160129  2023  31682616000113   \n",
       "42  160129  2023  44429540000160   \n",
       "43  160129  2023  44429540000160   \n",
       "44  160129  2023  01804159000121   \n",
       "45  160129  2023  06187402000123   \n",
       "46  160129  2023  31682616000113   \n",
       "47  160129  2023  38073038000167   \n",
       "\n",
       "                                          NOME_CREDOR       DATA  DIAS  \\\n",
       "0                              I&P AGROCOMERCIAL LTDA 2023-02-13   262   \n",
       "1                           SUPERGASBRAS ENERGIA LTDA 2023-02-14   261   \n",
       "2                             CARLOS GABRIEL DOS REIS 2023-02-15   260   \n",
       "3                                LS REFRIGERACAO LTDA 2023-04-18   198   \n",
       "4                   CLEVER FERREIRA COSTA 01175363693 2023-05-03   183   \n",
       "5                           SUPERGASBRAS ENERGIA LTDA 2023-05-29   157   \n",
       "6   G4 SERVICO E COMERCIO DE PRODUTOS INDUSTRIAIS,... 2023-06-02   153   \n",
       "7                               2 CLICK SOLUCOES LTDA 2023-06-06   149   \n",
       "8                 GARDEN MATERIAIS DE CONSTRUCAO LTDA 2023-06-07   148   \n",
       "9                              LUCIANO ALVES DE PAULA 2023-06-13   142   \n",
       "10  EQUIPAT - EQUIPAMENTOS E MATERIAIS ELETRICOS E... 2023-06-16   139   \n",
       "11                       FREDERICO DELGADO DE ALMEIDA 2023-06-19   136   \n",
       "12                   SUPERMERCADO REI DAS CARNES LTDA 2023-06-20   135   \n",
       "13                              RAFAEL SOARES AZEVEDO 2023-06-20   135   \n",
       "14                             I&P AGROCOMERCIAL LTDA 2023-06-20   135   \n",
       "15          EXITUS COMERCIAL PRODUTOS E SERVICOS LTDA 2023-06-21   134   \n",
       "16                            CARLOS GABRIEL DOS REIS 2023-06-21   134   \n",
       "17                   AF DISTRIBUIDORA E SERVICOS LTDA 2023-06-21   134   \n",
       "18                           POSITIVO TECNOLOGIA S.A. 2023-06-28   127   \n",
       "19                           POSITIVO TECNOLOGIA S.A. 2023-07-24   101   \n",
       "20          R.A.C. CUNHA MATERIAIS P/ CONSTRUCAO LTDA 2023-07-25   100   \n",
       "21         CONCRETA BRASIL SOLUCOES EMPRESARIAIS LTDA 2023-07-25   100   \n",
       "22                        CENTRAL TINTAS CURVELO LTDA 2023-07-25   100   \n",
       "23                            GLOBAL CONSTRUTORA LTDA 2023-07-27    98   \n",
       "24            BALCAO DOS PARAFUSOS E FERRAMENTAS LTDA 2023-07-31    94   \n",
       "25                   ESCRIBLU COMERCIO DE MOVEIS LTDA 2023-07-31    94   \n",
       "26            BALCAO DOS PARAFUSOS E FERRAMENTAS LTDA 2023-08-01    93   \n",
       "27                   ESCRIBLU COMERCIO DE MOVEIS LTDA 2023-08-02    92   \n",
       "28                   ESCRIBLU COMERCIO DE MOVEIS LTDA 2023-08-02    92   \n",
       "29                   ESCRIBLU COMERCIO DE MOVEIS LTDA 2023-08-02    92   \n",
       "30                   ESCRIBLU COMERCIO DE MOVEIS LTDA 2023-08-02    92   \n",
       "31                   ESCRIBLU COMERCIO DE MOVEIS LTDA 2023-08-08    86   \n",
       "32     R&D COMERCIO E SUPRIMENTOS DE INFORMATICA LTDA 2023-08-09    85   \n",
       "33      51.234.341 SANDRA LETICIA FERREIRA DE ALMEIDA 2023-08-10    84   \n",
       "34      51.234.341 SANDRA LETICIA FERREIRA DE ALMEIDA 2023-08-10    84   \n",
       "35                                 JB LICITACOES LTDA 2023-08-10    84   \n",
       "36             FRANCILANDIO THIERES DE CARVALHO SILVA 2023-08-10    84   \n",
       "37                   ESCRIBLU COMERCIO DE MOVEIS LTDA 2023-08-10    84   \n",
       "38                   ESCRIBLU COMERCIO DE MOVEIS LTDA 2023-08-10    84   \n",
       "39                           POSITIVO TECNOLOGIA S.A. 2023-08-18    76   \n",
       "40                            WR NUTRICAO ANIMAL LTDA 2023-08-23    71   \n",
       "41      CFJ COMERCIAL AGROPECUARIO E TRANSPORTES LTDA 2023-08-23    71   \n",
       "42                  DISTRIBUIDORA ESPIRITO SANTO LTDA 2023-08-23    71   \n",
       "43                  DISTRIBUIDORA ESPIRITO SANTO LTDA 2023-08-23    71   \n",
       "44               ELETRA TECNOLOGIA E INFORMATICA LTDA 2023-08-28    66   \n",
       "45                            R H P COMPUTADORES LTDA 2023-08-28    66   \n",
       "46      CFJ COMERCIAL AGROPECUARIO E TRANSPORTES LTDA 2023-09-01    62   \n",
       "47                            WR NUTRICAO ANIMAL LTDA 2023-09-01    62   \n",
       "\n",
       "        ND      NDSI                                       NOME_NDSI  \\\n",
       "0   339030  33903007                          GENEROS DE ALIMENTACAO   \n",
       "1   339030  33903004             GAS E OUTROS MATERIAIS ENGARRAFADOS   \n",
       "2   339030  33903007                          GENEROS DE ALIMENTACAO   \n",
       "3   449052  44905228  MAQUINAS E EQUIPAMENTOS DE NATUREZA INDUSTRIAL   \n",
       "4   339030  33903021                      MATERIAL DE COPA E COZINHA   \n",
       "5   339030  33903004             GAS E OUTROS MATERIAIS ENGARRAFADOS   \n",
       "6   339030  33903039              MATERIAL P/ MANUTENCAO DE VEICULOS   \n",
       "7   339030  33903022     MATERIAL DE LIMPEZA E PROD. DE HIGIENIZACAO   \n",
       "8   339030  33903024   MATERIAL P/ MANUT.DE BENS IMOVEIS/INSTALACOES   \n",
       "9   339030  33903096          MATERIAL DE CONSUMO - PAGTO ANTECIPADO   \n",
       "10  449052  44905238   MAQ., FERRAMENTAS  E  UTENSILIOS  DE  OFICINA   \n",
       "11  449052  44905224   EQUIPAMENTO DE PROTECAO, SEGURANCA E  SOCORRO   \n",
       "12  339030  33903007                          GENEROS DE ALIMENTACAO   \n",
       "13  339030  33903007                          GENEROS DE ALIMENTACAO   \n",
       "14  339030  33903007                          GENEROS DE ALIMENTACAO   \n",
       "15  339030  33903007                          GENEROS DE ALIMENTACAO   \n",
       "16  339030  33903007                          GENEROS DE ALIMENTACAO   \n",
       "17  339030  33903007                          GENEROS DE ALIMENTACAO   \n",
       "18  449052  44905241              EQUIPAMENTOS DE TIC - COMPUTADORES   \n",
       "19  449052  44905241              EQUIPAMENTOS DE TIC - COMPUTADORES   \n",
       "20  339030  33903024   MATERIAL P/ MANUT.DE BENS IMOVEIS/INSTALACOES   \n",
       "21  339030  33903024   MATERIAL P/ MANUT.DE BENS IMOVEIS/INSTALACOES   \n",
       "22  339030  33903024   MATERIAL P/ MANUT.DE BENS IMOVEIS/INSTALACOES   \n",
       "23  339030  33903026                  MATERIAL ELETRICO E ELETRONICO   \n",
       "24  339030  33903016                          MATERIAL DE EXPEDIENTE   \n",
       "25  449052  44905242                             MOBILIARIO EM GERAL   \n",
       "26  339030  33903025           MATERIAL P/ MANUTENCAO DE BENS MOVEIS   \n",
       "27  449052  44905242                             MOBILIARIO EM GERAL   \n",
       "28  449052  44905242                             MOBILIARIO EM GERAL   \n",
       "29  449052  44905242                             MOBILIARIO EM GERAL   \n",
       "30  449052  44905242                             MOBILIARIO EM GERAL   \n",
       "31  449052  44905242                             MOBILIARIO EM GERAL   \n",
       "32  339030  33903017           MATERIAL DE TIC - MATERIAL DE CONSUMO   \n",
       "33  449052  44905242                             MOBILIARIO EM GERAL   \n",
       "34  449052  44905212               APARELHOS E UTENSILIOS DOMESTICOS   \n",
       "35  449052  44905242                             MOBILIARIO EM GERAL   \n",
       "36  449052  44905212               APARELHOS E UTENSILIOS DOMESTICOS   \n",
       "37  449052  44905242                             MOBILIARIO EM GERAL   \n",
       "38  449052  44905242                             MOBILIARIO EM GERAL   \n",
       "39  449052  44905241              EQUIPAMENTOS DE TIC - COMPUTADORES   \n",
       "40  339030  33903006                          ALIMENTOS PARA ANIMAIS   \n",
       "41  339030  33903006                          ALIMENTOS PARA ANIMAIS   \n",
       "42  339030  33903006                          ALIMENTOS PARA ANIMAIS   \n",
       "43  339030  33903006                          ALIMENTOS PARA ANIMAIS   \n",
       "44  339030  33903017           MATERIAL DE TIC - MATERIAL DE CONSUMO   \n",
       "45  339030  33903017           MATERIAL DE TIC - MATERIAL DE CONSUMO   \n",
       "46  339030  33903006                          ALIMENTOS PARA ANIMAIS   \n",
       "47  339030  33903006                          ALIMENTOS PARA ANIMAIS   \n",
       "\n",
       "              NE           PI                                      NOME_PI  \\\n",
       "0   2023NE000114  E6SUPLJA1QR                A1QR - QUANTITATIVO DE RANCHO   \n",
       "1   2023NE000120  E6SUPLJA1QR                A1QR - QUANTITATIVO DE RANCHO   \n",
       "2   2023NE000158  E6SUPLJESCO                ESCO - QUANTITATIVO DE RANCHO   \n",
       "3   2023NE000392  E6SUPLJA5PA                                  A5PA - PASA   \n",
       "4   2023NE000465  E6SUPLJA5PA                                  A5PA - PASA   \n",
       "5   2023NE000559  C4ENMILCAPE                       CAPACITACAO DE PESSOAL   \n",
       "6   2023NE001125  E3PCFSCMABM                    MANUTENCAO DE BENS MOVEIS   \n",
       "7   2023NE000635  I3DAFUNADOM                          ADMINISTRACAO DE OM   \n",
       "8   2023NE000647  E6RVSOLOUT4                        REMONTA E VETERINÁRIA   \n",
       "9   2023NE001191  E3PCOPFCOLU                  COMBUSTIVEL E LUBRIFICANTES   \n",
       "10  2023NE000668  E5MMPDRDEGE    DESCENTRALIZACAO RECURSOS MOTOMECANIZACAO   \n",
       "11  2023NE000672  C4ENMILCAPE                       CAPACITACAO DE PESSOAL   \n",
       "12  2023NE000696  E6SUPLJA1QR                A1QR - QUANTITATIVO DE RANCHO   \n",
       "13  2023NE000698  E6SUPLJA1QR                A1QR - QUANTITATIVO DE RANCHO   \n",
       "14  2023NE000695  E6SUPLJA1QR                A1QR - QUANTITATIVO DE RANCHO   \n",
       "15  2023NE000706  E6SUPLJA1QR                A1QR - QUANTITATIVO DE RANCHO   \n",
       "16  2023NE000715  E6SUPLJA1QR                A1QR - QUANTITATIVO DE RANCHO   \n",
       "17  2023NE000704  E6SUPLJA1QR                A1QR - QUANTITATIVO DE RANCHO   \n",
       "18  2023NE000781  C4ENMILCAPE                       CAPACITACAO DE PESSOAL   \n",
       "19  2023NE000889  C4ENMILCAPE                       CAPACITACAO DE PESSOAL   \n",
       "20  2023NE000894  C4ENMILCAPE                       CAPACITACAO DE PESSOAL   \n",
       "21  2023NE000890  C4ENMILCAPE                       CAPACITACAO DE PESSOAL   \n",
       "22  2023NE000891  C4ENMILCAPE                       CAPACITACAO DE PESSOAL   \n",
       "23  2023NE001370  D5SAFUSASOC                           ASSISTENCIA SOCIAL   \n",
       "24  2023NE000940  I3DAFUNADOM                          ADMINISTRACAO DE OM   \n",
       "25  2023NE000938  I3DAFUNADOM                          ADMINISTRACAO DE OM   \n",
       "26  2023NE000948  I3DAFUNADOM                          ADMINISTRACAO DE OM   \n",
       "27  2023NE001378  D5SAFUSASOC                           ASSISTENCIA SOCIAL   \n",
       "28  2023NE000951  I3DAFUNADOM                          ADMINISTRACAO DE OM   \n",
       "29  2023NE000952  I3DAFUNADOM                          ADMINISTRACAO DE OM   \n",
       "30  2023NE001377  D5SAFUSASOC                           ASSISTENCIA SOCIAL   \n",
       "31  2023NE000957  I3DAFUNADOM                          ADMINISTRACAO DE OM   \n",
       "32  2023NE000971  C4ENMILCAPE                       CAPACITACAO DE PESSOAL   \n",
       "33  2023NE001407  D5SAFUSASOC                           ASSISTENCIA SOCIAL   \n",
       "34  2023NE001407  D5SAFUSASOC                           ASSISTENCIA SOCIAL   \n",
       "35  2023NE001408  D5SAFUSASOC                           ASSISTENCIA SOCIAL   \n",
       "36  2023NE001405  D5SAFUSASOC                           ASSISTENCIA SOCIAL   \n",
       "37  2023NE000981  I3DAFUNADOM                          ADMINISTRACAO DE OM   \n",
       "38  2023NE000980  I3DAFUNADOM                          ADMINISTRACAO DE OM   \n",
       "39  2023NE001414  C1ENCONDETM               CONCURSOS AS ESCOLAS MILITARES   \n",
       "40  2023NE001054  E6RVPLJALIE                    ALIMENTACAO PARA EQUINOS.   \n",
       "41  2023NE001055  E6RVPLJALIE                    ALIMENTACAO PARA EQUINOS.   \n",
       "42  2023NE001066  E6RVPLJALIE                    ALIMENTACAO PARA EQUINOS.   \n",
       "43  2023NE001062  E6RVPLJALIE                    ALIMENTACAO PARA EQUINOS.   \n",
       "44  2023NE001074  K9CCMSIINFO  MNT DE SISTEMAS DE INFORMACãO E COMUNICACãO   \n",
       "45  2023NE001078  K9CCMSIINFO  MNT DE SISTEMAS DE INFORMACãO E COMUNICACãO   \n",
       "46  2023NE001096  E6RVPLJALIE                    ALIMENTACAO PARA EQUINOS.   \n",
       "47  2023NE001097  E6RVPLJALIE                    ALIMENTACAO PARA EQUINOS.   \n",
       "\n",
       "       UGR        NOME_UGR  A_LIQUIDAR  LIQUIDADO_A_PAGAR       PAGO  \n",
       "0   160504     COEX/GESTOR     2670.68                0.0   94485.32  \n",
       "1   160504     COEX/GESTOR     8728.03                0.0  171196.20  \n",
       "2   160504     COEX/GESTOR    12930.36                0.0  123555.47  \n",
       "3   160504     COEX/GESTOR     8837.42                0.0       0.00  \n",
       "4   160504     COEX/GESTOR     3044.75                0.0       0.00  \n",
       "5   160503    DECEX/GESTOR     1850.42                0.0       0.00  \n",
       "6   167504   COEX - GESTOR     9999.67                0.0       0.00  \n",
       "7   160073             DGO      840.00                0.0       0.00  \n",
       "8   160504     COEX/GESTOR      955.00                0.0    3830.00  \n",
       "9   167504   COEX - GESTOR        5.22                0.0       0.00  \n",
       "10  160504     COEX/GESTOR      995.00                0.0       0.00  \n",
       "11  160503    DECEX/GESTOR     1379.10                0.0       0.00  \n",
       "12  160504     COEX/GESTOR     5634.75                0.0    6752.07  \n",
       "13  160504     COEX/GESTOR    10328.98                0.0    5850.22  \n",
       "14  160504     COEX/GESTOR        0.01                0.0   14649.67  \n",
       "15  160504     COEX/GESTOR     1195.00                0.0       0.00  \n",
       "16  160504     COEX/GESTOR     8372.52                0.0   80611.35  \n",
       "17  160504     COEX/GESTOR    10570.83                0.0  150428.65  \n",
       "18  160503    DECEX/GESTOR    21342.00                0.0       0.00  \n",
       "19  160503    DECEX/GESTOR    11454.00                0.0       0.00  \n",
       "20  160503    DECEX/GESTOR     8846.35                0.0       0.00  \n",
       "21  160503    DECEX/GESTOR    11469.19                0.0       0.00  \n",
       "22  160503    DECEX/GESTOR      552.90                0.0       0.00  \n",
       "23  167505             DGP     1130.06                0.0       0.00  \n",
       "24  160073             DGO       69.00                0.0       0.00  \n",
       "25  160073             DGO     3384.95                0.0       0.00  \n",
       "26  160073             DGO       18.70                0.0       0.00  \n",
       "27  167505             DGP     3047.67                0.0       0.00  \n",
       "28  160073             DGO     2030.97                0.0       0.00  \n",
       "29  160073             DGO     4063.56                0.0       0.00  \n",
       "30  167505             DGP     2707.96                0.0       0.00  \n",
       "31  160073             DGO     1618.00                0.0       0.00  \n",
       "32  160503    DECEX/GESTOR    15430.00                0.0       0.00  \n",
       "33  167505             DGP     1551.00                0.0       0.00  \n",
       "34  167505             DGP      720.31                0.0       0.00  \n",
       "35  167505             DGP     2460.00                0.0       0.00  \n",
       "36  167505             DGP     3964.69                0.0       0.00  \n",
       "37  160073             DGO     1166.00                0.0       0.00  \n",
       "38  160073             DGO     1557.00                0.0       0.00  \n",
       "39  167503  DECEX - GESTOR    21864.00                0.0       0.00  \n",
       "40  160504     COEX/GESTOR     4632.20            32200.0   20976.00  \n",
       "41  160504     COEX/GESTOR    13171.28                0.0   50440.40  \n",
       "42  160504     COEX/GESTOR     1056.71                0.0       0.00  \n",
       "43  160504     COEX/GESTOR     1056.71                0.0       0.00  \n",
       "44  160035    DCT - GESTOR     6396.00                0.0       0.00  \n",
       "45  160035    DCT - GESTOR     2249.00                0.0       0.00  \n",
       "46  160504     COEX/GESTOR    63611.68                0.0       0.00  \n",
       "47  160504     COEX/GESTOR    57808.20                0.0       0.00  "
      ]
     },
     "execution_count": 44,
     "metadata": {},
     "output_type": "execute_result"
    }
   ],
   "source": [
    "cols = ['UG', 'ANO', 'CREDOR', 'NOME_CREDOR',\n",
    "       'DATA', 'DIAS', 'ND', 'NDSI', 'NOME_NDSI', \n",
    "       'NE', 'PI', 'NOME_PI', 'UGR', 'NOME_UGR', \n",
    "       'A_LIQUIDAR', 'LIQUIDADO_A_PAGAR','PAGO']\n",
    "df_foco.loc[:, cols]"
   ]
  },
  {
   "cell_type": "code",
   "execution_count": 37,
   "metadata": {},
   "outputs": [
    {
     "data": {
      "text/html": [
       "<div>\n",
       "<style scoped>\n",
       "    .dataframe tbody tr th:only-of-type {\n",
       "        vertical-align: middle;\n",
       "    }\n",
       "\n",
       "    .dataframe tbody tr th {\n",
       "        vertical-align: top;\n",
       "    }\n",
       "\n",
       "    .dataframe thead th {\n",
       "        text-align: right;\n",
       "    }\n",
       "</style>\n",
       "<table border=\"1\" class=\"dataframe\">\n",
       "  <thead>\n",
       "    <tr style=\"text-align: right;\">\n",
       "      <th></th>\n",
       "      <th>UG</th>\n",
       "      <th>SIGLA UG</th>\n",
       "      <th>ACAO</th>\n",
       "      <th>NOME_ACAO</th>\n",
       "      <th>ANO</th>\n",
       "      <th>CREDOR</th>\n",
       "      <th>NOME_CREDOR</th>\n",
       "      <th>DATA</th>\n",
       "      <th>DIAS</th>\n",
       "      <th>ICFEX</th>\n",
       "      <th>NOME_ICFEX</th>\n",
       "      <th>ND</th>\n",
       "      <th>NOME_ND</th>\n",
       "      <th>NDSI</th>\n",
       "      <th>NOME_NDSI</th>\n",
       "      <th>NE</th>\n",
       "      <th>PI</th>\n",
       "      <th>NOME_PI</th>\n",
       "      <th>PROGRAMA</th>\n",
       "      <th>PTRES</th>\n",
       "      <th>TIPO</th>\n",
       "      <th>TIPO_NE</th>\n",
       "      <th>LOCAL</th>\n",
       "      <th>UF_CREDOR</th>\n",
       "      <th>UF_UG</th>\n",
       "      <th>UGR</th>\n",
       "      <th>NOME_UGR</th>\n",
       "      <th>RADPI4</th>\n",
       "      <th>MEIPI3</th>\n",
       "      <th>SUFPI4</th>\n",
       "      <th>A_LIQUIDAR</th>\n",
       "      <th>LIQUIDADO_A_PAGAR</th>\n",
       "      <th>TOTAL_A_PAGAR</th>\n",
       "      <th>PAGO</th>\n",
       "    </tr>\n",
       "  </thead>\n",
       "  <tbody>\n",
       "    <tr>\n",
       "      <th>0</th>\n",
       "      <td>160129</td>\n",
       "      <td>ESA</td>\n",
       "      <td>212B</td>\n",
       "      <td>BENEFICIOS OBRIGATORIOS AOS SERVIDORE</td>\n",
       "      <td>2023</td>\n",
       "      <td>10653955000100</td>\n",
       "      <td>I&amp;P AGROCOMERCIAL LTDA</td>\n",
       "      <td>2023-02-13</td>\n",
       "      <td>262</td>\n",
       "      <td>160533</td>\n",
       "      <td>4º CGCFEX</td>\n",
       "      <td>339030</td>\n",
       "      <td>MATERIAL DE CONSUMO</td>\n",
       "      <td>33903007</td>\n",
       "      <td>GENEROS DE ALIMENTACAO</td>\n",
       "      <td>2023NE000114</td>\n",
       "      <td>E6SUPLJA1QR</td>\n",
       "      <td>A1QR - QUANTITATIVO DE RANCHO</td>\n",
       "      <td>0032</td>\n",
       "      <td>171397</td>\n",
       "      <td>ANO</td>\n",
       "      <td>GLOBAL</td>\n",
       "      <td>AV. SETE DE SETEMBRO, 628, CENTRO, TRES CORAÇÕ...</td>\n",
       "      <td>MG</td>\n",
       "      <td>MG</td>\n",
       "      <td>160504</td>\n",
       "      <td>COEX/GESTOR</td>\n",
       "      <td>E6SU</td>\n",
       "      <td>PLJ</td>\n",
       "      <td>A1QR</td>\n",
       "      <td>2670.68</td>\n",
       "      <td>0.0</td>\n",
       "      <td>2670.68</td>\n",
       "      <td>94485.32</td>\n",
       "    </tr>\n",
       "    <tr>\n",
       "      <th>1</th>\n",
       "      <td>160129</td>\n",
       "      <td>ESA</td>\n",
       "      <td>212B</td>\n",
       "      <td>BENEFICIOS OBRIGATORIOS AOS SERVIDORE</td>\n",
       "      <td>2023</td>\n",
       "      <td>19791896006486</td>\n",
       "      <td>SUPERGASBRAS ENERGIA LTDA</td>\n",
       "      <td>2023-02-14</td>\n",
       "      <td>261</td>\n",
       "      <td>160533</td>\n",
       "      <td>4º CGCFEX</td>\n",
       "      <td>339030</td>\n",
       "      <td>MATERIAL DE CONSUMO</td>\n",
       "      <td>33903004</td>\n",
       "      <td>GAS E OUTROS MATERIAIS ENGARRAFADOS</td>\n",
       "      <td>2023NE000120</td>\n",
       "      <td>E6SUPLJA1QR</td>\n",
       "      <td>A1QR - QUANTITATIVO DE RANCHO</td>\n",
       "      <td>0032</td>\n",
       "      <td>171397</td>\n",
       "      <td>ANO</td>\n",
       "      <td>ESTIMATIVO</td>\n",
       "      <td>AV. SETE DE SETEMBRO, 628, CENTRO, TRES CORAÇÕ...</td>\n",
       "      <td>SP</td>\n",
       "      <td>MG</td>\n",
       "      <td>160504</td>\n",
       "      <td>COEX/GESTOR</td>\n",
       "      <td>E6SU</td>\n",
       "      <td>PLJ</td>\n",
       "      <td>A1QR</td>\n",
       "      <td>8728.03</td>\n",
       "      <td>0.0</td>\n",
       "      <td>8728.03</td>\n",
       "      <td>171196.20</td>\n",
       "    </tr>\n",
       "    <tr>\n",
       "      <th>2</th>\n",
       "      <td>160129</td>\n",
       "      <td>ESA</td>\n",
       "      <td>212B</td>\n",
       "      <td>BENEFICIOS OBRIGATORIOS AOS SERVIDORE</td>\n",
       "      <td>2023</td>\n",
       "      <td>20702528000110</td>\n",
       "      <td>CARLOS GABRIEL DOS REIS</td>\n",
       "      <td>2023-02-15</td>\n",
       "      <td>260</td>\n",
       "      <td>160533</td>\n",
       "      <td>4º CGCFEX</td>\n",
       "      <td>339030</td>\n",
       "      <td>MATERIAL DE CONSUMO</td>\n",
       "      <td>33903007</td>\n",
       "      <td>GENEROS DE ALIMENTACAO</td>\n",
       "      <td>2023NE000158</td>\n",
       "      <td>E6SUPLJESCO</td>\n",
       "      <td>ESCO - QUANTITATIVO DE RANCHO</td>\n",
       "      <td>0032</td>\n",
       "      <td>171397</td>\n",
       "      <td>ANO</td>\n",
       "      <td>GLOBAL</td>\n",
       "      <td>AV. SETE DE SETEMBRO, 628, CENTRO, TRES CORAÇÕ...</td>\n",
       "      <td>MG</td>\n",
       "      <td>MG</td>\n",
       "      <td>160504</td>\n",
       "      <td>COEX/GESTOR</td>\n",
       "      <td>E6SU</td>\n",
       "      <td>PLJ</td>\n",
       "      <td>ESCO</td>\n",
       "      <td>12930.36</td>\n",
       "      <td>0.0</td>\n",
       "      <td>12930.36</td>\n",
       "      <td>123555.47</td>\n",
       "    </tr>\n",
       "    <tr>\n",
       "      <th>3</th>\n",
       "      <td>160129</td>\n",
       "      <td>ESA</td>\n",
       "      <td>212B</td>\n",
       "      <td>BENEFICIOS OBRIGATORIOS AOS SERVIDORE</td>\n",
       "      <td>2023</td>\n",
       "      <td>31669124000198</td>\n",
       "      <td>LS REFRIGERACAO LTDA</td>\n",
       "      <td>2023-04-18</td>\n",
       "      <td>198</td>\n",
       "      <td>160533</td>\n",
       "      <td>4º CGCFEX</td>\n",
       "      <td>449052</td>\n",
       "      <td>EQUIPAMENTOS E MATERIAL PERMANENTE</td>\n",
       "      <td>44905228</td>\n",
       "      <td>MAQUINAS E EQUIPAMENTOS DE NATUREZA INDUSTRIAL</td>\n",
       "      <td>2023NE000392</td>\n",
       "      <td>E6SUPLJA5PA</td>\n",
       "      <td>A5PA - PASA</td>\n",
       "      <td>0032</td>\n",
       "      <td>171397</td>\n",
       "      <td>ANO</td>\n",
       "      <td>ORDINARIO</td>\n",
       "      <td>ESCOLA DE SARGENTOS DAS ARMAS, AVENIDA SETE DE...</td>\n",
       "      <td>SC</td>\n",
       "      <td>MG</td>\n",
       "      <td>160504</td>\n",
       "      <td>COEX/GESTOR</td>\n",
       "      <td>E6SU</td>\n",
       "      <td>PLJ</td>\n",
       "      <td>A5PA</td>\n",
       "      <td>8837.42</td>\n",
       "      <td>0.0</td>\n",
       "      <td>8837.42</td>\n",
       "      <td>0.00</td>\n",
       "    </tr>\n",
       "    <tr>\n",
       "      <th>4</th>\n",
       "      <td>160129</td>\n",
       "      <td>ESA</td>\n",
       "      <td>212B</td>\n",
       "      <td>BENEFICIOS OBRIGATORIOS AOS SERVIDORE</td>\n",
       "      <td>2023</td>\n",
       "      <td>28259514000185</td>\n",
       "      <td>CLEVER FERREIRA COSTA 01175363693</td>\n",
       "      <td>2023-05-03</td>\n",
       "      <td>183</td>\n",
       "      <td>160533</td>\n",
       "      <td>4º CGCFEX</td>\n",
       "      <td>339030</td>\n",
       "      <td>MATERIAL DE CONSUMO</td>\n",
       "      <td>33903021</td>\n",
       "      <td>MATERIAL DE COPA E COZINHA</td>\n",
       "      <td>2023NE000465</td>\n",
       "      <td>E6SUPLJA5PA</td>\n",
       "      <td>A5PA - PASA</td>\n",
       "      <td>0032</td>\n",
       "      <td>171397</td>\n",
       "      <td>ANO</td>\n",
       "      <td>ORDINARIO</td>\n",
       "      <td>ESCOLA DE SARGENTOS DAS ARMAS</td>\n",
       "      <td>MG</td>\n",
       "      <td>MG</td>\n",
       "      <td>160504</td>\n",
       "      <td>COEX/GESTOR</td>\n",
       "      <td>E6SU</td>\n",
       "      <td>PLJ</td>\n",
       "      <td>A5PA</td>\n",
       "      <td>3044.75</td>\n",
       "      <td>0.0</td>\n",
       "      <td>3044.75</td>\n",
       "      <td>0.00</td>\n",
       "    </tr>\n",
       "    <tr>\n",
       "      <th>5</th>\n",
       "      <td>160129</td>\n",
       "      <td>ESA</td>\n",
       "      <td>8965</td>\n",
       "      <td>CAPACITACAO PROFISSIONAL MILITAR DO E</td>\n",
       "      <td>2023</td>\n",
       "      <td>19791896006486</td>\n",
       "      <td>SUPERGASBRAS ENERGIA LTDA</td>\n",
       "      <td>2023-05-29</td>\n",
       "      <td>157</td>\n",
       "      <td>160533</td>\n",
       "      <td>4º CGCFEX</td>\n",
       "      <td>339030</td>\n",
       "      <td>MATERIAL DE CONSUMO</td>\n",
       "      <td>33903004</td>\n",
       "      <td>GAS E OUTROS MATERIAIS ENGARRAFADOS</td>\n",
       "      <td>2023NE000559</td>\n",
       "      <td>C4ENMILCAPE</td>\n",
       "      <td>CAPACITACAO DE PESSOAL</td>\n",
       "      <td>6012</td>\n",
       "      <td>171423</td>\n",
       "      <td>ANO</td>\n",
       "      <td>GLOBAL</td>\n",
       "      <td>ESCOLA DE SARGENTOS DAS ARMAS  - AVENIDA SETE ...</td>\n",
       "      <td>SP</td>\n",
       "      <td>MG</td>\n",
       "      <td>160503</td>\n",
       "      <td>DECEX/GESTOR</td>\n",
       "      <td>C4EN</td>\n",
       "      <td>MIL</td>\n",
       "      <td>CAPE</td>\n",
       "      <td>1850.42</td>\n",
       "      <td>0.0</td>\n",
       "      <td>1850.42</td>\n",
       "      <td>0.00</td>\n",
       "    </tr>\n",
       "    <tr>\n",
       "      <th>6</th>\n",
       "      <td>167129</td>\n",
       "      <td>ESA</td>\n",
       "      <td>2919</td>\n",
       "      <td>REGISTRO E FISCALIZACAO DE PRODUTOS C</td>\n",
       "      <td>2023</td>\n",
       "      <td>13754000000129</td>\n",
       "      <td>G4 SERVICO E COMERCIO DE PRODUTOS INDUSTRIAIS,...</td>\n",
       "      <td>2023-06-02</td>\n",
       "      <td>153</td>\n",
       "      <td>160533</td>\n",
       "      <td>4º CGCFEX</td>\n",
       "      <td>339030</td>\n",
       "      <td>MATERIAL DE CONSUMO</td>\n",
       "      <td>33903039</td>\n",
       "      <td>MATERIAL P/ MANUTENCAO DE VEICULOS</td>\n",
       "      <td>2023NE001125</td>\n",
       "      <td>E3PCFSCMABM</td>\n",
       "      <td>MANUTENCAO DE BENS MOVEIS</td>\n",
       "      <td>6012</td>\n",
       "      <td>215839</td>\n",
       "      <td>ANO</td>\n",
       "      <td>ORDINARIO</td>\n",
       "      <td>ESCOLA DE SARGENTOS DAS ARMAS</td>\n",
       "      <td>RJ</td>\n",
       "      <td>MG</td>\n",
       "      <td>167504</td>\n",
       "      <td>COEX - GESTOR</td>\n",
       "      <td>E3PC</td>\n",
       "      <td>FSC</td>\n",
       "      <td>MABM</td>\n",
       "      <td>9999.67</td>\n",
       "      <td>0.0</td>\n",
       "      <td>9999.67</td>\n",
       "      <td>0.00</td>\n",
       "    </tr>\n",
       "    <tr>\n",
       "      <th>7</th>\n",
       "      <td>160129</td>\n",
       "      <td>ESA</td>\n",
       "      <td>2000</td>\n",
       "      <td>ADMINISTRACAO DA UNIDADE</td>\n",
       "      <td>2023</td>\n",
       "      <td>09583781000169</td>\n",
       "      <td>2 CLICK SOLUCOES LTDA</td>\n",
       "      <td>2023-06-06</td>\n",
       "      <td>149</td>\n",
       "      <td>160533</td>\n",
       "      <td>4º CGCFEX</td>\n",
       "      <td>339030</td>\n",
       "      <td>MATERIAL DE CONSUMO</td>\n",
       "      <td>33903022</td>\n",
       "      <td>MATERIAL DE LIMPEZA E PROD. DE HIGIENIZACAO</td>\n",
       "      <td>2023NE000635</td>\n",
       "      <td>I3DAFUNADOM</td>\n",
       "      <td>ADMINISTRACAO DE OM</td>\n",
       "      <td>0032</td>\n",
       "      <td>171460</td>\n",
       "      <td>ANO</td>\n",
       "      <td>ORDINARIO</td>\n",
       "      <td>ESCOLA DE SARGENTOS DAS ARMAS  - AVENIDA SETE ...</td>\n",
       "      <td>GO</td>\n",
       "      <td>MG</td>\n",
       "      <td>160073</td>\n",
       "      <td>DGO</td>\n",
       "      <td>I3DA</td>\n",
       "      <td>FUN</td>\n",
       "      <td>ADOM</td>\n",
       "      <td>840.00</td>\n",
       "      <td>0.0</td>\n",
       "      <td>840.00</td>\n",
       "      <td>0.00</td>\n",
       "    </tr>\n",
       "    <tr>\n",
       "      <th>8</th>\n",
       "      <td>160129</td>\n",
       "      <td>ESA</td>\n",
       "      <td>21A0</td>\n",
       "      <td>APRESTAMENTO DAS FORCAS</td>\n",
       "      <td>2023</td>\n",
       "      <td>43928711000133</td>\n",
       "      <td>GARDEN MATERIAIS DE CONSTRUCAO LTDA</td>\n",
       "      <td>2023-06-07</td>\n",
       "      <td>148</td>\n",
       "      <td>160533</td>\n",
       "      <td>4º CGCFEX</td>\n",
       "      <td>339030</td>\n",
       "      <td>MATERIAL DE CONSUMO</td>\n",
       "      <td>33903024</td>\n",
       "      <td>MATERIAL P/ MANUT.DE BENS IMOVEIS/INSTALACOES</td>\n",
       "      <td>2023NE000647</td>\n",
       "      <td>E6RVSOLOUT4</td>\n",
       "      <td>REMONTA E VETERINÁRIA</td>\n",
       "      <td>6012</td>\n",
       "      <td>193910</td>\n",
       "      <td>ANO</td>\n",
       "      <td>GLOBAL</td>\n",
       "      <td>ESCOLA DE SARGENTOS DAS ARMAS  - AVENIDA SETE ...</td>\n",
       "      <td>MG</td>\n",
       "      <td>MG</td>\n",
       "      <td>160504</td>\n",
       "      <td>COEX/GESTOR</td>\n",
       "      <td>E6RV</td>\n",
       "      <td>SOL</td>\n",
       "      <td>OUT4</td>\n",
       "      <td>955.00</td>\n",
       "      <td>0.0</td>\n",
       "      <td>955.00</td>\n",
       "      <td>3830.00</td>\n",
       "    </tr>\n",
       "    <tr>\n",
       "      <th>9</th>\n",
       "      <td>167129</td>\n",
       "      <td>ESA</td>\n",
       "      <td>2919</td>\n",
       "      <td>REGISTRO E FISCALIZACAO DE PRODUTOS C</td>\n",
       "      <td>2023</td>\n",
       "      <td>02852112698</td>\n",
       "      <td>LUCIANO ALVES DE PAULA</td>\n",
       "      <td>2023-06-13</td>\n",
       "      <td>142</td>\n",
       "      <td>160533</td>\n",
       "      <td>4º CGCFEX</td>\n",
       "      <td>339030</td>\n",
       "      <td>MATERIAL DE CONSUMO</td>\n",
       "      <td>33903096</td>\n",
       "      <td>MATERIAL DE CONSUMO - PAGTO ANTECIPADO</td>\n",
       "      <td>2023NE001191</td>\n",
       "      <td>E3PCOPFCOLU</td>\n",
       "      <td>COMBUSTIVEL E LUBRIFICANTES</td>\n",
       "      <td>6012</td>\n",
       "      <td>215839</td>\n",
       "      <td>ANO</td>\n",
       "      <td>ORDINARIO</td>\n",
       "      <td>ESCOLA DE SARGENTOS DAS ARMAS  - AVENIDA SETE ...</td>\n",
       "      <td>MS</td>\n",
       "      <td>MG</td>\n",
       "      <td>167504</td>\n",
       "      <td>COEX - GESTOR</td>\n",
       "      <td>E3PC</td>\n",
       "      <td>OPF</td>\n",
       "      <td>COLU</td>\n",
       "      <td>5.22</td>\n",
       "      <td>0.0</td>\n",
       "      <td>5.22</td>\n",
       "      <td>0.00</td>\n",
       "    </tr>\n",
       "    <tr>\n",
       "      <th>10</th>\n",
       "      <td>160129</td>\n",
       "      <td>ESA</td>\n",
       "      <td>21A0</td>\n",
       "      <td>APRESTAMENTO DAS FORCAS</td>\n",
       "      <td>2023</td>\n",
       "      <td>48241204000140</td>\n",
       "      <td>EQUIPAT - EQUIPAMENTOS E MATERIAIS ELETRICOS E...</td>\n",
       "      <td>2023-06-16</td>\n",
       "      <td>139</td>\n",
       "      <td>160533</td>\n",
       "      <td>4º CGCFEX</td>\n",
       "      <td>449052</td>\n",
       "      <td>EQUIPAMENTOS E MATERIAL PERMANENTE</td>\n",
       "      <td>44905238</td>\n",
       "      <td>MAQ., FERRAMENTAS  E  UTENSILIOS  DE  OFICINA</td>\n",
       "      <td>2023NE000668</td>\n",
       "      <td>E5MMPDRDEGE</td>\n",
       "      <td>DESCENTRALIZACAO RECURSOS MOTOMECANIZACAO</td>\n",
       "      <td>6012</td>\n",
       "      <td>171470</td>\n",
       "      <td>ANO</td>\n",
       "      <td>ORDINARIO</td>\n",
       "      <td>ESCOLA DE SARGENTOS DAS ARMAS, AVENIDA SETE DE...</td>\n",
       "      <td>RS</td>\n",
       "      <td>MG</td>\n",
       "      <td>160504</td>\n",
       "      <td>COEX/GESTOR</td>\n",
       "      <td>E5MM</td>\n",
       "      <td>PDR</td>\n",
       "      <td>DEGE</td>\n",
       "      <td>995.00</td>\n",
       "      <td>0.0</td>\n",
       "      <td>995.00</td>\n",
       "      <td>0.00</td>\n",
       "    </tr>\n",
       "    <tr>\n",
       "      <th>11</th>\n",
       "      <td>160129</td>\n",
       "      <td>ESA</td>\n",
       "      <td>8965</td>\n",
       "      <td>CAPACITACAO PROFISSIONAL MILITAR DO E</td>\n",
       "      <td>2023</td>\n",
       "      <td>28320324000126</td>\n",
       "      <td>FREDERICO DELGADO DE ALMEIDA</td>\n",
       "      <td>2023-06-19</td>\n",
       "      <td>136</td>\n",
       "      <td>160533</td>\n",
       "      <td>4º CGCFEX</td>\n",
       "      <td>449052</td>\n",
       "      <td>EQUIPAMENTOS E MATERIAL PERMANENTE</td>\n",
       "      <td>44905224</td>\n",
       "      <td>EQUIPAMENTO DE PROTECAO, SEGURANCA E  SOCORRO</td>\n",
       "      <td>2023NE000672</td>\n",
       "      <td>C4ENMILCAPE</td>\n",
       "      <td>CAPACITACAO DE PESSOAL</td>\n",
       "      <td>6012</td>\n",
       "      <td>171423</td>\n",
       "      <td>ANO</td>\n",
       "      <td>ORDINARIO</td>\n",
       "      <td>ESCOLA DE SARGENTOS DAS ARMAS  - AVENIDA SETE ...</td>\n",
       "      <td>MG</td>\n",
       "      <td>MG</td>\n",
       "      <td>160503</td>\n",
       "      <td>DECEX/GESTOR</td>\n",
       "      <td>C4EN</td>\n",
       "      <td>MIL</td>\n",
       "      <td>CAPE</td>\n",
       "      <td>1379.10</td>\n",
       "      <td>0.0</td>\n",
       "      <td>1379.10</td>\n",
       "      <td>0.00</td>\n",
       "    </tr>\n",
       "    <tr>\n",
       "      <th>12</th>\n",
       "      <td>160129</td>\n",
       "      <td>ESA</td>\n",
       "      <td>212B</td>\n",
       "      <td>BENEFICIOS OBRIGATORIOS AOS SERVIDORE</td>\n",
       "      <td>2023</td>\n",
       "      <td>20421805000116</td>\n",
       "      <td>SUPERMERCADO REI DAS CARNES LTDA</td>\n",
       "      <td>2023-06-20</td>\n",
       "      <td>135</td>\n",
       "      <td>160533</td>\n",
       "      <td>4º CGCFEX</td>\n",
       "      <td>339030</td>\n",
       "      <td>MATERIAL DE CONSUMO</td>\n",
       "      <td>33903007</td>\n",
       "      <td>GENEROS DE ALIMENTACAO</td>\n",
       "      <td>2023NE000696</td>\n",
       "      <td>E6SUPLJA1QR</td>\n",
       "      <td>A1QR - QUANTITATIVO DE RANCHO</td>\n",
       "      <td>0032</td>\n",
       "      <td>171397</td>\n",
       "      <td>ANO</td>\n",
       "      <td>GLOBAL</td>\n",
       "      <td>AV. SETE DE SETEMBRO, 628, CENTRO, TRES CORAÇÕ...</td>\n",
       "      <td>MG</td>\n",
       "      <td>MG</td>\n",
       "      <td>160504</td>\n",
       "      <td>COEX/GESTOR</td>\n",
       "      <td>E6SU</td>\n",
       "      <td>PLJ</td>\n",
       "      <td>A1QR</td>\n",
       "      <td>5634.75</td>\n",
       "      <td>0.0</td>\n",
       "      <td>5634.75</td>\n",
       "      <td>6752.07</td>\n",
       "    </tr>\n",
       "    <tr>\n",
       "      <th>13</th>\n",
       "      <td>160129</td>\n",
       "      <td>ESA</td>\n",
       "      <td>212B</td>\n",
       "      <td>BENEFICIOS OBRIGATORIOS AOS SERVIDORE</td>\n",
       "      <td>2023</td>\n",
       "      <td>37748531000177</td>\n",
       "      <td>RAFAEL SOARES AZEVEDO</td>\n",
       "      <td>2023-06-20</td>\n",
       "      <td>135</td>\n",
       "      <td>160533</td>\n",
       "      <td>4º CGCFEX</td>\n",
       "      <td>339030</td>\n",
       "      <td>MATERIAL DE CONSUMO</td>\n",
       "      <td>33903007</td>\n",
       "      <td>GENEROS DE ALIMENTACAO</td>\n",
       "      <td>2023NE000698</td>\n",
       "      <td>E6SUPLJA1QR</td>\n",
       "      <td>A1QR - QUANTITATIVO DE RANCHO</td>\n",
       "      <td>0032</td>\n",
       "      <td>171397</td>\n",
       "      <td>ANO</td>\n",
       "      <td>GLOBAL</td>\n",
       "      <td>AV. SETE DE SETEMBRO, 628, CENTRO, TRES CORAÇÕ...</td>\n",
       "      <td>MG</td>\n",
       "      <td>MG</td>\n",
       "      <td>160504</td>\n",
       "      <td>COEX/GESTOR</td>\n",
       "      <td>E6SU</td>\n",
       "      <td>PLJ</td>\n",
       "      <td>A1QR</td>\n",
       "      <td>10328.98</td>\n",
       "      <td>0.0</td>\n",
       "      <td>10328.98</td>\n",
       "      <td>5850.22</td>\n",
       "    </tr>\n",
       "    <tr>\n",
       "      <th>14</th>\n",
       "      <td>160129</td>\n",
       "      <td>ESA</td>\n",
       "      <td>212B</td>\n",
       "      <td>BENEFICIOS OBRIGATORIOS AOS SERVIDORE</td>\n",
       "      <td>2023</td>\n",
       "      <td>10653955000100</td>\n",
       "      <td>I&amp;P AGROCOMERCIAL LTDA</td>\n",
       "      <td>2023-06-20</td>\n",
       "      <td>135</td>\n",
       "      <td>160533</td>\n",
       "      <td>4º CGCFEX</td>\n",
       "      <td>339030</td>\n",
       "      <td>MATERIAL DE CONSUMO</td>\n",
       "      <td>33903007</td>\n",
       "      <td>GENEROS DE ALIMENTACAO</td>\n",
       "      <td>2023NE000695</td>\n",
       "      <td>E6SUPLJA1QR</td>\n",
       "      <td>A1QR - QUANTITATIVO DE RANCHO</td>\n",
       "      <td>0032</td>\n",
       "      <td>171397</td>\n",
       "      <td>ANO</td>\n",
       "      <td>GLOBAL</td>\n",
       "      <td>AV. SETE DE SETEMBRO, 628, CENTRO, TRES CORAÇÕ...</td>\n",
       "      <td>MG</td>\n",
       "      <td>MG</td>\n",
       "      <td>160504</td>\n",
       "      <td>COEX/GESTOR</td>\n",
       "      <td>E6SU</td>\n",
       "      <td>PLJ</td>\n",
       "      <td>A1QR</td>\n",
       "      <td>0.01</td>\n",
       "      <td>0.0</td>\n",
       "      <td>0.01</td>\n",
       "      <td>14649.67</td>\n",
       "    </tr>\n",
       "    <tr>\n",
       "      <th>15</th>\n",
       "      <td>160129</td>\n",
       "      <td>ESA</td>\n",
       "      <td>212B</td>\n",
       "      <td>BENEFICIOS OBRIGATORIOS AOS SERVIDORE</td>\n",
       "      <td>2023</td>\n",
       "      <td>14163479000191</td>\n",
       "      <td>EXITUS COMERCIAL PRODUTOS E SERVICOS LTDA</td>\n",
       "      <td>2023-06-21</td>\n",
       "      <td>134</td>\n",
       "      <td>160533</td>\n",
       "      <td>4º CGCFEX</td>\n",
       "      <td>339030</td>\n",
       "      <td>MATERIAL DE CONSUMO</td>\n",
       "      <td>33903007</td>\n",
       "      <td>GENEROS DE ALIMENTACAO</td>\n",
       "      <td>2023NE000706</td>\n",
       "      <td>E6SUPLJA1QR</td>\n",
       "      <td>A1QR - QUANTITATIVO DE RANCHO</td>\n",
       "      <td>0032</td>\n",
       "      <td>171397</td>\n",
       "      <td>ANO</td>\n",
       "      <td>GLOBAL</td>\n",
       "      <td>AV. SETE DE SETEMBRO, 628, CENTRO, TRES CORAÇÕ...</td>\n",
       "      <td>SP</td>\n",
       "      <td>MG</td>\n",
       "      <td>160504</td>\n",
       "      <td>COEX/GESTOR</td>\n",
       "      <td>E6SU</td>\n",
       "      <td>PLJ</td>\n",
       "      <td>A1QR</td>\n",
       "      <td>1195.00</td>\n",
       "      <td>0.0</td>\n",
       "      <td>1195.00</td>\n",
       "      <td>0.00</td>\n",
       "    </tr>\n",
       "    <tr>\n",
       "      <th>16</th>\n",
       "      <td>160129</td>\n",
       "      <td>ESA</td>\n",
       "      <td>212B</td>\n",
       "      <td>BENEFICIOS OBRIGATORIOS AOS SERVIDORE</td>\n",
       "      <td>2023</td>\n",
       "      <td>20702528000110</td>\n",
       "      <td>CARLOS GABRIEL DOS REIS</td>\n",
       "      <td>2023-06-21</td>\n",
       "      <td>134</td>\n",
       "      <td>160533</td>\n",
       "      <td>4º CGCFEX</td>\n",
       "      <td>339030</td>\n",
       "      <td>MATERIAL DE CONSUMO</td>\n",
       "      <td>33903007</td>\n",
       "      <td>GENEROS DE ALIMENTACAO</td>\n",
       "      <td>2023NE000715</td>\n",
       "      <td>E6SUPLJA1QR</td>\n",
       "      <td>A1QR - QUANTITATIVO DE RANCHO</td>\n",
       "      <td>0032</td>\n",
       "      <td>171397</td>\n",
       "      <td>ANO</td>\n",
       "      <td>GLOBAL</td>\n",
       "      <td>AV. SETE DE SETEMBRO, 628, CENTRO, TRES CORAÇÕ...</td>\n",
       "      <td>MG</td>\n",
       "      <td>MG</td>\n",
       "      <td>160504</td>\n",
       "      <td>COEX/GESTOR</td>\n",
       "      <td>E6SU</td>\n",
       "      <td>PLJ</td>\n",
       "      <td>A1QR</td>\n",
       "      <td>8372.52</td>\n",
       "      <td>0.0</td>\n",
       "      <td>8372.52</td>\n",
       "      <td>80611.35</td>\n",
       "    </tr>\n",
       "    <tr>\n",
       "      <th>17</th>\n",
       "      <td>160129</td>\n",
       "      <td>ESA</td>\n",
       "      <td>212B</td>\n",
       "      <td>BENEFICIOS OBRIGATORIOS AOS SERVIDORE</td>\n",
       "      <td>2023</td>\n",
       "      <td>47078180000198</td>\n",
       "      <td>AF DISTRIBUIDORA E SERVICOS LTDA</td>\n",
       "      <td>2023-06-21</td>\n",
       "      <td>134</td>\n",
       "      <td>160533</td>\n",
       "      <td>4º CGCFEX</td>\n",
       "      <td>339030</td>\n",
       "      <td>MATERIAL DE CONSUMO</td>\n",
       "      <td>33903007</td>\n",
       "      <td>GENEROS DE ALIMENTACAO</td>\n",
       "      <td>2023NE000704</td>\n",
       "      <td>E6SUPLJA1QR</td>\n",
       "      <td>A1QR - QUANTITATIVO DE RANCHO</td>\n",
       "      <td>0032</td>\n",
       "      <td>171397</td>\n",
       "      <td>ANO</td>\n",
       "      <td>GLOBAL</td>\n",
       "      <td>AV. SETE DE SETEMBRO, 628, CENTRO, TRES CORAÇÕ...</td>\n",
       "      <td>MG</td>\n",
       "      <td>MG</td>\n",
       "      <td>160504</td>\n",
       "      <td>COEX/GESTOR</td>\n",
       "      <td>E6SU</td>\n",
       "      <td>PLJ</td>\n",
       "      <td>A1QR</td>\n",
       "      <td>10570.83</td>\n",
       "      <td>0.0</td>\n",
       "      <td>10570.83</td>\n",
       "      <td>150428.65</td>\n",
       "    </tr>\n",
       "    <tr>\n",
       "      <th>18</th>\n",
       "      <td>160129</td>\n",
       "      <td>ESA</td>\n",
       "      <td>8965</td>\n",
       "      <td>CAPACITACAO PROFISSIONAL MILITAR DO E</td>\n",
       "      <td>2023</td>\n",
       "      <td>81243735001977</td>\n",
       "      <td>POSITIVO TECNOLOGIA S.A.</td>\n",
       "      <td>2023-06-28</td>\n",
       "      <td>127</td>\n",
       "      <td>160533</td>\n",
       "      <td>4º CGCFEX</td>\n",
       "      <td>449052</td>\n",
       "      <td>EQUIPAMENTOS E MATERIAL PERMANENTE</td>\n",
       "      <td>44905241</td>\n",
       "      <td>EQUIPAMENTOS DE TIC - COMPUTADORES</td>\n",
       "      <td>2023NE000781</td>\n",
       "      <td>C4ENMILCAPE</td>\n",
       "      <td>CAPACITACAO DE PESSOAL</td>\n",
       "      <td>6012</td>\n",
       "      <td>171423</td>\n",
       "      <td>ANO</td>\n",
       "      <td>ORDINARIO</td>\n",
       "      <td>ESCOLA DE SARGENTOS DAS ARMAS</td>\n",
       "      <td>AM</td>\n",
       "      <td>MG</td>\n",
       "      <td>160503</td>\n",
       "      <td>DECEX/GESTOR</td>\n",
       "      <td>C4EN</td>\n",
       "      <td>MIL</td>\n",
       "      <td>CAPE</td>\n",
       "      <td>21342.00</td>\n",
       "      <td>0.0</td>\n",
       "      <td>21342.00</td>\n",
       "      <td>0.00</td>\n",
       "    </tr>\n",
       "    <tr>\n",
       "      <th>19</th>\n",
       "      <td>160129</td>\n",
       "      <td>ESA</td>\n",
       "      <td>8965</td>\n",
       "      <td>CAPACITACAO PROFISSIONAL MILITAR DO E</td>\n",
       "      <td>2023</td>\n",
       "      <td>81243735000903</td>\n",
       "      <td>POSITIVO TECNOLOGIA S.A.</td>\n",
       "      <td>2023-07-24</td>\n",
       "      <td>101</td>\n",
       "      <td>160533</td>\n",
       "      <td>4º CGCFEX</td>\n",
       "      <td>449052</td>\n",
       "      <td>EQUIPAMENTOS E MATERIAL PERMANENTE</td>\n",
       "      <td>44905241</td>\n",
       "      <td>EQUIPAMENTOS DE TIC - COMPUTADORES</td>\n",
       "      <td>2023NE000889</td>\n",
       "      <td>C4ENMILCAPE</td>\n",
       "      <td>CAPACITACAO DE PESSOAL</td>\n",
       "      <td>6012</td>\n",
       "      <td>171423</td>\n",
       "      <td>ANO</td>\n",
       "      <td>ORDINARIO</td>\n",
       "      <td>ESCOLA DE SARGENTOS DAS ARMAS</td>\n",
       "      <td>BA</td>\n",
       "      <td>MG</td>\n",
       "      <td>160503</td>\n",
       "      <td>DECEX/GESTOR</td>\n",
       "      <td>C4EN</td>\n",
       "      <td>MIL</td>\n",
       "      <td>CAPE</td>\n",
       "      <td>11454.00</td>\n",
       "      <td>0.0</td>\n",
       "      <td>11454.00</td>\n",
       "      <td>0.00</td>\n",
       "    </tr>\n",
       "    <tr>\n",
       "      <th>20</th>\n",
       "      <td>160129</td>\n",
       "      <td>ESA</td>\n",
       "      <td>8965</td>\n",
       "      <td>CAPACITACAO PROFISSIONAL MILITAR DO E</td>\n",
       "      <td>2023</td>\n",
       "      <td>20240470000130</td>\n",
       "      <td>R.A.C. CUNHA MATERIAIS P/ CONSTRUCAO LTDA</td>\n",
       "      <td>2023-07-25</td>\n",
       "      <td>100</td>\n",
       "      <td>160533</td>\n",
       "      <td>4º CGCFEX</td>\n",
       "      <td>339030</td>\n",
       "      <td>MATERIAL DE CONSUMO</td>\n",
       "      <td>33903024</td>\n",
       "      <td>MATERIAL P/ MANUT.DE BENS IMOVEIS/INSTALACOES</td>\n",
       "      <td>2023NE000894</td>\n",
       "      <td>C4ENMILCAPE</td>\n",
       "      <td>CAPACITACAO DE PESSOAL</td>\n",
       "      <td>6012</td>\n",
       "      <td>171423</td>\n",
       "      <td>ANO</td>\n",
       "      <td>ORDINARIO</td>\n",
       "      <td>ESCOLA DE SARGENTOS DAS ARMAS</td>\n",
       "      <td>SP</td>\n",
       "      <td>MG</td>\n",
       "      <td>160503</td>\n",
       "      <td>DECEX/GESTOR</td>\n",
       "      <td>C4EN</td>\n",
       "      <td>MIL</td>\n",
       "      <td>CAPE</td>\n",
       "      <td>8846.35</td>\n",
       "      <td>0.0</td>\n",
       "      <td>8846.35</td>\n",
       "      <td>0.00</td>\n",
       "    </tr>\n",
       "    <tr>\n",
       "      <th>21</th>\n",
       "      <td>160129</td>\n",
       "      <td>ESA</td>\n",
       "      <td>8965</td>\n",
       "      <td>CAPACITACAO PROFISSIONAL MILITAR DO E</td>\n",
       "      <td>2023</td>\n",
       "      <td>33345691000114</td>\n",
       "      <td>CONCRETA BRASIL SOLUCOES EMPRESARIAIS LTDA</td>\n",
       "      <td>2023-07-25</td>\n",
       "      <td>100</td>\n",
       "      <td>160533</td>\n",
       "      <td>4º CGCFEX</td>\n",
       "      <td>339030</td>\n",
       "      <td>MATERIAL DE CONSUMO</td>\n",
       "      <td>33903024</td>\n",
       "      <td>MATERIAL P/ MANUT.DE BENS IMOVEIS/INSTALACOES</td>\n",
       "      <td>2023NE000890</td>\n",
       "      <td>C4ENMILCAPE</td>\n",
       "      <td>CAPACITACAO DE PESSOAL</td>\n",
       "      <td>6012</td>\n",
       "      <td>171423</td>\n",
       "      <td>ANO</td>\n",
       "      <td>ORDINARIO</td>\n",
       "      <td>ESCOLA DE SARGENTOS DAS ARMAS</td>\n",
       "      <td>RJ</td>\n",
       "      <td>MG</td>\n",
       "      <td>160503</td>\n",
       "      <td>DECEX/GESTOR</td>\n",
       "      <td>C4EN</td>\n",
       "      <td>MIL</td>\n",
       "      <td>CAPE</td>\n",
       "      <td>11469.19</td>\n",
       "      <td>0.0</td>\n",
       "      <td>11469.19</td>\n",
       "      <td>0.00</td>\n",
       "    </tr>\n",
       "    <tr>\n",
       "      <th>22</th>\n",
       "      <td>160129</td>\n",
       "      <td>ESA</td>\n",
       "      <td>8965</td>\n",
       "      <td>CAPACITACAO PROFISSIONAL MILITAR DO E</td>\n",
       "      <td>2023</td>\n",
       "      <td>39242061000109</td>\n",
       "      <td>CENTRAL TINTAS CURVELO LTDA</td>\n",
       "      <td>2023-07-25</td>\n",
       "      <td>100</td>\n",
       "      <td>160533</td>\n",
       "      <td>4º CGCFEX</td>\n",
       "      <td>339030</td>\n",
       "      <td>MATERIAL DE CONSUMO</td>\n",
       "      <td>33903024</td>\n",
       "      <td>MATERIAL P/ MANUT.DE BENS IMOVEIS/INSTALACOES</td>\n",
       "      <td>2023NE000891</td>\n",
       "      <td>C4ENMILCAPE</td>\n",
       "      <td>CAPACITACAO DE PESSOAL</td>\n",
       "      <td>6012</td>\n",
       "      <td>171423</td>\n",
       "      <td>ANO</td>\n",
       "      <td>ORDINARIO</td>\n",
       "      <td>ESCOLA DE SARGENTOS DAS ARMAS</td>\n",
       "      <td>MG</td>\n",
       "      <td>MG</td>\n",
       "      <td>160503</td>\n",
       "      <td>DECEX/GESTOR</td>\n",
       "      <td>C4EN</td>\n",
       "      <td>MIL</td>\n",
       "      <td>CAPE</td>\n",
       "      <td>552.90</td>\n",
       "      <td>0.0</td>\n",
       "      <td>552.90</td>\n",
       "      <td>0.00</td>\n",
       "    </tr>\n",
       "    <tr>\n",
       "      <th>23</th>\n",
       "      <td>167129</td>\n",
       "      <td>ESA</td>\n",
       "      <td>2004</td>\n",
       "      <td>ASSISTENCIA MEDICA E ODONTOLOGICA AOS</td>\n",
       "      <td>2023</td>\n",
       "      <td>17623276000129</td>\n",
       "      <td>GLOBAL CONSTRUTORA LTDA</td>\n",
       "      <td>2023-07-27</td>\n",
       "      <td>98</td>\n",
       "      <td>160533</td>\n",
       "      <td>4º CGCFEX</td>\n",
       "      <td>339030</td>\n",
       "      <td>MATERIAL DE CONSUMO</td>\n",
       "      <td>33903026</td>\n",
       "      <td>MATERIAL ELETRICO E ELETRONICO</td>\n",
       "      <td>2023NE001370</td>\n",
       "      <td>D5SAFUSASOC</td>\n",
       "      <td>ASSISTENCIA SOCIAL</td>\n",
       "      <td>0032</td>\n",
       "      <td>215846</td>\n",
       "      <td>ANO</td>\n",
       "      <td>ORDINARIO</td>\n",
       "      <td>ESCOLA DE SARGENTOS DAS ARMAS</td>\n",
       "      <td>SP</td>\n",
       "      <td>MG</td>\n",
       "      <td>167505</td>\n",
       "      <td>DGP</td>\n",
       "      <td>D5SA</td>\n",
       "      <td>FUS</td>\n",
       "      <td>ASOC</td>\n",
       "      <td>1130.06</td>\n",
       "      <td>0.0</td>\n",
       "      <td>1130.06</td>\n",
       "      <td>0.00</td>\n",
       "    </tr>\n",
       "    <tr>\n",
       "      <th>24</th>\n",
       "      <td>160129</td>\n",
       "      <td>ESA</td>\n",
       "      <td>2000</td>\n",
       "      <td>ADMINISTRACAO DA UNIDADE</td>\n",
       "      <td>2023</td>\n",
       "      <td>08605233000120</td>\n",
       "      <td>BALCAO DOS PARAFUSOS E FERRAMENTAS LTDA</td>\n",
       "      <td>2023-07-31</td>\n",
       "      <td>94</td>\n",
       "      <td>160533</td>\n",
       "      <td>4º CGCFEX</td>\n",
       "      <td>339030</td>\n",
       "      <td>MATERIAL DE CONSUMO</td>\n",
       "      <td>33903016</td>\n",
       "      <td>MATERIAL DE EXPEDIENTE</td>\n",
       "      <td>2023NE000940</td>\n",
       "      <td>I3DAFUNADOM</td>\n",
       "      <td>ADMINISTRACAO DE OM</td>\n",
       "      <td>0032</td>\n",
       "      <td>171460</td>\n",
       "      <td>ANO</td>\n",
       "      <td>ORDINARIO</td>\n",
       "      <td>ESCOLA DE SARGENTOS DAS ARMAS  - AVENIDA SETE ...</td>\n",
       "      <td>MG</td>\n",
       "      <td>MG</td>\n",
       "      <td>160073</td>\n",
       "      <td>DGO</td>\n",
       "      <td>I3DA</td>\n",
       "      <td>FUN</td>\n",
       "      <td>ADOM</td>\n",
       "      <td>69.00</td>\n",
       "      <td>0.0</td>\n",
       "      <td>69.00</td>\n",
       "      <td>0.00</td>\n",
       "    </tr>\n",
       "    <tr>\n",
       "      <th>25</th>\n",
       "      <td>160129</td>\n",
       "      <td>ESA</td>\n",
       "      <td>2000</td>\n",
       "      <td>ADMINISTRACAO DA UNIDADE</td>\n",
       "      <td>2023</td>\n",
       "      <td>10902067000175</td>\n",
       "      <td>ESCRIBLU COMERCIO DE MOVEIS LTDA</td>\n",
       "      <td>2023-07-31</td>\n",
       "      <td>94</td>\n",
       "      <td>160533</td>\n",
       "      <td>4º CGCFEX</td>\n",
       "      <td>449052</td>\n",
       "      <td>EQUIPAMENTOS E MATERIAL PERMANENTE</td>\n",
       "      <td>44905242</td>\n",
       "      <td>MOBILIARIO EM GERAL</td>\n",
       "      <td>2023NE000938</td>\n",
       "      <td>I3DAFUNADOM</td>\n",
       "      <td>ADMINISTRACAO DE OM</td>\n",
       "      <td>0032</td>\n",
       "      <td>171460</td>\n",
       "      <td>ANO</td>\n",
       "      <td>ORDINARIO</td>\n",
       "      <td>ESCOLA DE SARGENTOS DAS ARMAS  - AVENIDA SETE ...</td>\n",
       "      <td>SC</td>\n",
       "      <td>MG</td>\n",
       "      <td>160073</td>\n",
       "      <td>DGO</td>\n",
       "      <td>I3DA</td>\n",
       "      <td>FUN</td>\n",
       "      <td>ADOM</td>\n",
       "      <td>3384.95</td>\n",
       "      <td>0.0</td>\n",
       "      <td>3384.95</td>\n",
       "      <td>0.00</td>\n",
       "    </tr>\n",
       "    <tr>\n",
       "      <th>26</th>\n",
       "      <td>160129</td>\n",
       "      <td>ESA</td>\n",
       "      <td>2000</td>\n",
       "      <td>ADMINISTRACAO DA UNIDADE</td>\n",
       "      <td>2023</td>\n",
       "      <td>08605233000120</td>\n",
       "      <td>BALCAO DOS PARAFUSOS E FERRAMENTAS LTDA</td>\n",
       "      <td>2023-08-01</td>\n",
       "      <td>93</td>\n",
       "      <td>160533</td>\n",
       "      <td>4º CGCFEX</td>\n",
       "      <td>339030</td>\n",
       "      <td>MATERIAL DE CONSUMO</td>\n",
       "      <td>33903025</td>\n",
       "      <td>MATERIAL P/ MANUTENCAO DE BENS MOVEIS</td>\n",
       "      <td>2023NE000948</td>\n",
       "      <td>I3DAFUNADOM</td>\n",
       "      <td>ADMINISTRACAO DE OM</td>\n",
       "      <td>0032</td>\n",
       "      <td>171460</td>\n",
       "      <td>ANO</td>\n",
       "      <td>ORDINARIO</td>\n",
       "      <td>ESCOLA DE SARGENTOS DAS ARMAS  - AVENIDA SETE ...</td>\n",
       "      <td>MG</td>\n",
       "      <td>MG</td>\n",
       "      <td>160073</td>\n",
       "      <td>DGO</td>\n",
       "      <td>I3DA</td>\n",
       "      <td>FUN</td>\n",
       "      <td>ADOM</td>\n",
       "      <td>18.70</td>\n",
       "      <td>0.0</td>\n",
       "      <td>18.70</td>\n",
       "      <td>0.00</td>\n",
       "    </tr>\n",
       "    <tr>\n",
       "      <th>27</th>\n",
       "      <td>167129</td>\n",
       "      <td>ESA</td>\n",
       "      <td>2004</td>\n",
       "      <td>ASSISTENCIA MEDICA E ODONTOLOGICA AOS</td>\n",
       "      <td>2023</td>\n",
       "      <td>10902067000175</td>\n",
       "      <td>ESCRIBLU COMERCIO DE MOVEIS LTDA</td>\n",
       "      <td>2023-08-02</td>\n",
       "      <td>92</td>\n",
       "      <td>160533</td>\n",
       "      <td>4º CGCFEX</td>\n",
       "      <td>449052</td>\n",
       "      <td>EQUIPAMENTOS E MATERIAL PERMANENTE</td>\n",
       "      <td>44905242</td>\n",
       "      <td>MOBILIARIO EM GERAL</td>\n",
       "      <td>2023NE001378</td>\n",
       "      <td>D5SAFUSASOC</td>\n",
       "      <td>ASSISTENCIA SOCIAL</td>\n",
       "      <td>0032</td>\n",
       "      <td>215846</td>\n",
       "      <td>ANO</td>\n",
       "      <td>ORDINARIO</td>\n",
       "      <td>ESCOLA DE SARGENTOS DAS ARMAS</td>\n",
       "      <td>SC</td>\n",
       "      <td>MG</td>\n",
       "      <td>167505</td>\n",
       "      <td>DGP</td>\n",
       "      <td>D5SA</td>\n",
       "      <td>FUS</td>\n",
       "      <td>ASOC</td>\n",
       "      <td>3047.67</td>\n",
       "      <td>0.0</td>\n",
       "      <td>3047.67</td>\n",
       "      <td>0.00</td>\n",
       "    </tr>\n",
       "    <tr>\n",
       "      <th>28</th>\n",
       "      <td>160129</td>\n",
       "      <td>ESA</td>\n",
       "      <td>2000</td>\n",
       "      <td>ADMINISTRACAO DA UNIDADE</td>\n",
       "      <td>2023</td>\n",
       "      <td>10902067000175</td>\n",
       "      <td>ESCRIBLU COMERCIO DE MOVEIS LTDA</td>\n",
       "      <td>2023-08-02</td>\n",
       "      <td>92</td>\n",
       "      <td>160533</td>\n",
       "      <td>4º CGCFEX</td>\n",
       "      <td>449052</td>\n",
       "      <td>EQUIPAMENTOS E MATERIAL PERMANENTE</td>\n",
       "      <td>44905242</td>\n",
       "      <td>MOBILIARIO EM GERAL</td>\n",
       "      <td>2023NE000951</td>\n",
       "      <td>I3DAFUNADOM</td>\n",
       "      <td>ADMINISTRACAO DE OM</td>\n",
       "      <td>0032</td>\n",
       "      <td>171460</td>\n",
       "      <td>ANO</td>\n",
       "      <td>ORDINARIO</td>\n",
       "      <td>ESCOLA DE SARGENTOS DAS ARMAS  - AVENIDA SETE ...</td>\n",
       "      <td>SC</td>\n",
       "      <td>MG</td>\n",
       "      <td>160073</td>\n",
       "      <td>DGO</td>\n",
       "      <td>I3DA</td>\n",
       "      <td>FUN</td>\n",
       "      <td>ADOM</td>\n",
       "      <td>2030.97</td>\n",
       "      <td>0.0</td>\n",
       "      <td>2030.97</td>\n",
       "      <td>0.00</td>\n",
       "    </tr>\n",
       "    <tr>\n",
       "      <th>29</th>\n",
       "      <td>160129</td>\n",
       "      <td>ESA</td>\n",
       "      <td>2000</td>\n",
       "      <td>ADMINISTRACAO DA UNIDADE</td>\n",
       "      <td>2023</td>\n",
       "      <td>10902067000175</td>\n",
       "      <td>ESCRIBLU COMERCIO DE MOVEIS LTDA</td>\n",
       "      <td>2023-08-02</td>\n",
       "      <td>92</td>\n",
       "      <td>160533</td>\n",
       "      <td>4º CGCFEX</td>\n",
       "      <td>449052</td>\n",
       "      <td>EQUIPAMENTOS E MATERIAL PERMANENTE</td>\n",
       "      <td>44905242</td>\n",
       "      <td>MOBILIARIO EM GERAL</td>\n",
       "      <td>2023NE000952</td>\n",
       "      <td>I3DAFUNADOM</td>\n",
       "      <td>ADMINISTRACAO DE OM</td>\n",
       "      <td>0032</td>\n",
       "      <td>171460</td>\n",
       "      <td>ANO</td>\n",
       "      <td>ORDINARIO</td>\n",
       "      <td>ESCOLA DE SARGENTOS DAS ARMAS  - AVENIDA SETE ...</td>\n",
       "      <td>SC</td>\n",
       "      <td>MG</td>\n",
       "      <td>160073</td>\n",
       "      <td>DGO</td>\n",
       "      <td>I3DA</td>\n",
       "      <td>FUN</td>\n",
       "      <td>ADOM</td>\n",
       "      <td>4063.56</td>\n",
       "      <td>0.0</td>\n",
       "      <td>4063.56</td>\n",
       "      <td>0.00</td>\n",
       "    </tr>\n",
       "    <tr>\n",
       "      <th>30</th>\n",
       "      <td>167129</td>\n",
       "      <td>ESA</td>\n",
       "      <td>2004</td>\n",
       "      <td>ASSISTENCIA MEDICA E ODONTOLOGICA AOS</td>\n",
       "      <td>2023</td>\n",
       "      <td>10902067000175</td>\n",
       "      <td>ESCRIBLU COMERCIO DE MOVEIS LTDA</td>\n",
       "      <td>2023-08-02</td>\n",
       "      <td>92</td>\n",
       "      <td>160533</td>\n",
       "      <td>4º CGCFEX</td>\n",
       "      <td>449052</td>\n",
       "      <td>EQUIPAMENTOS E MATERIAL PERMANENTE</td>\n",
       "      <td>44905242</td>\n",
       "      <td>MOBILIARIO EM GERAL</td>\n",
       "      <td>2023NE001377</td>\n",
       "      <td>D5SAFUSASOC</td>\n",
       "      <td>ASSISTENCIA SOCIAL</td>\n",
       "      <td>0032</td>\n",
       "      <td>215846</td>\n",
       "      <td>ANO</td>\n",
       "      <td>ORDINARIO</td>\n",
       "      <td>ESCOLA DE SARGENTOS DAS ARMAS</td>\n",
       "      <td>SC</td>\n",
       "      <td>MG</td>\n",
       "      <td>167505</td>\n",
       "      <td>DGP</td>\n",
       "      <td>D5SA</td>\n",
       "      <td>FUS</td>\n",
       "      <td>ASOC</td>\n",
       "      <td>2707.96</td>\n",
       "      <td>0.0</td>\n",
       "      <td>2707.96</td>\n",
       "      <td>0.00</td>\n",
       "    </tr>\n",
       "    <tr>\n",
       "      <th>31</th>\n",
       "      <td>160129</td>\n",
       "      <td>ESA</td>\n",
       "      <td>2000</td>\n",
       "      <td>ADMINISTRACAO DA UNIDADE</td>\n",
       "      <td>2023</td>\n",
       "      <td>10902067000175</td>\n",
       "      <td>ESCRIBLU COMERCIO DE MOVEIS LTDA</td>\n",
       "      <td>2023-08-08</td>\n",
       "      <td>86</td>\n",
       "      <td>160533</td>\n",
       "      <td>4º CGCFEX</td>\n",
       "      <td>449052</td>\n",
       "      <td>EQUIPAMENTOS E MATERIAL PERMANENTE</td>\n",
       "      <td>44905242</td>\n",
       "      <td>MOBILIARIO EM GERAL</td>\n",
       "      <td>2023NE000957</td>\n",
       "      <td>I3DAFUNADOM</td>\n",
       "      <td>ADMINISTRACAO DE OM</td>\n",
       "      <td>0032</td>\n",
       "      <td>171460</td>\n",
       "      <td>ANO</td>\n",
       "      <td>ORDINARIO</td>\n",
       "      <td>ESCOLA DE SARGENTOS DAS ARMAS  - AVENIDA SETE ...</td>\n",
       "      <td>SC</td>\n",
       "      <td>MG</td>\n",
       "      <td>160073</td>\n",
       "      <td>DGO</td>\n",
       "      <td>I3DA</td>\n",
       "      <td>FUN</td>\n",
       "      <td>ADOM</td>\n",
       "      <td>1618.00</td>\n",
       "      <td>0.0</td>\n",
       "      <td>1618.00</td>\n",
       "      <td>0.00</td>\n",
       "    </tr>\n",
       "    <tr>\n",
       "      <th>32</th>\n",
       "      <td>160129</td>\n",
       "      <td>ESA</td>\n",
       "      <td>8965</td>\n",
       "      <td>CAPACITACAO PROFISSIONAL MILITAR DO E</td>\n",
       "      <td>2023</td>\n",
       "      <td>50317178000139</td>\n",
       "      <td>R&amp;D COMERCIO E SUPRIMENTOS DE INFORMATICA LTDA</td>\n",
       "      <td>2023-08-09</td>\n",
       "      <td>85</td>\n",
       "      <td>160533</td>\n",
       "      <td>4º CGCFEX</td>\n",
       "      <td>339030</td>\n",
       "      <td>MATERIAL DE CONSUMO</td>\n",
       "      <td>33903017</td>\n",
       "      <td>MATERIAL DE TIC - MATERIAL DE CONSUMO</td>\n",
       "      <td>2023NE000971</td>\n",
       "      <td>C4ENMILCAPE</td>\n",
       "      <td>CAPACITACAO DE PESSOAL</td>\n",
       "      <td>6012</td>\n",
       "      <td>171423</td>\n",
       "      <td>ANO</td>\n",
       "      <td>ORDINARIO</td>\n",
       "      <td>ESCOLA DE SARGENTOS DAS ARMAS  - AVENIDA SETE ...</td>\n",
       "      <td>RJ</td>\n",
       "      <td>MG</td>\n",
       "      <td>160503</td>\n",
       "      <td>DECEX/GESTOR</td>\n",
       "      <td>C4EN</td>\n",
       "      <td>MIL</td>\n",
       "      <td>CAPE</td>\n",
       "      <td>15430.00</td>\n",
       "      <td>0.0</td>\n",
       "      <td>15430.00</td>\n",
       "      <td>0.00</td>\n",
       "    </tr>\n",
       "    <tr>\n",
       "      <th>33</th>\n",
       "      <td>167129</td>\n",
       "      <td>ESA</td>\n",
       "      <td>2004</td>\n",
       "      <td>ASSISTENCIA MEDICA E ODONTOLOGICA AOS</td>\n",
       "      <td>2023</td>\n",
       "      <td>51234341000162</td>\n",
       "      <td>51.234.341 SANDRA LETICIA FERREIRA DE ALMEIDA</td>\n",
       "      <td>2023-08-10</td>\n",
       "      <td>84</td>\n",
       "      <td>160533</td>\n",
       "      <td>4º CGCFEX</td>\n",
       "      <td>449052</td>\n",
       "      <td>EQUIPAMENTOS E MATERIAL PERMANENTE</td>\n",
       "      <td>44905242</td>\n",
       "      <td>MOBILIARIO EM GERAL</td>\n",
       "      <td>2023NE001407</td>\n",
       "      <td>D5SAFUSASOC</td>\n",
       "      <td>ASSISTENCIA SOCIAL</td>\n",
       "      <td>0032</td>\n",
       "      <td>215846</td>\n",
       "      <td>ANO</td>\n",
       "      <td>ORDINARIO</td>\n",
       "      <td>ESCOLA DE SARGENTOS DAS ARMAS  - AVENIDA SETE ...</td>\n",
       "      <td>MG</td>\n",
       "      <td>MG</td>\n",
       "      <td>167505</td>\n",
       "      <td>DGP</td>\n",
       "      <td>D5SA</td>\n",
       "      <td>FUS</td>\n",
       "      <td>ASOC</td>\n",
       "      <td>1551.00</td>\n",
       "      <td>0.0</td>\n",
       "      <td>1551.00</td>\n",
       "      <td>0.00</td>\n",
       "    </tr>\n",
       "    <tr>\n",
       "      <th>34</th>\n",
       "      <td>167129</td>\n",
       "      <td>ESA</td>\n",
       "      <td>2004</td>\n",
       "      <td>ASSISTENCIA MEDICA E ODONTOLOGICA AOS</td>\n",
       "      <td>2023</td>\n",
       "      <td>51234341000162</td>\n",
       "      <td>51.234.341 SANDRA LETICIA FERREIRA DE ALMEIDA</td>\n",
       "      <td>2023-08-10</td>\n",
       "      <td>84</td>\n",
       "      <td>160533</td>\n",
       "      <td>4º CGCFEX</td>\n",
       "      <td>449052</td>\n",
       "      <td>EQUIPAMENTOS E MATERIAL PERMANENTE</td>\n",
       "      <td>44905212</td>\n",
       "      <td>APARELHOS E UTENSILIOS DOMESTICOS</td>\n",
       "      <td>2023NE001407</td>\n",
       "      <td>D5SAFUSASOC</td>\n",
       "      <td>ASSISTENCIA SOCIAL</td>\n",
       "      <td>0032</td>\n",
       "      <td>215846</td>\n",
       "      <td>ANO</td>\n",
       "      <td>ORDINARIO</td>\n",
       "      <td>ESCOLA DE SARGENTOS DAS ARMAS  - AVENIDA SETE ...</td>\n",
       "      <td>MG</td>\n",
       "      <td>MG</td>\n",
       "      <td>167505</td>\n",
       "      <td>DGP</td>\n",
       "      <td>D5SA</td>\n",
       "      <td>FUS</td>\n",
       "      <td>ASOC</td>\n",
       "      <td>720.31</td>\n",
       "      <td>0.0</td>\n",
       "      <td>720.31</td>\n",
       "      <td>0.00</td>\n",
       "    </tr>\n",
       "    <tr>\n",
       "      <th>35</th>\n",
       "      <td>167129</td>\n",
       "      <td>ESA</td>\n",
       "      <td>2004</td>\n",
       "      <td>ASSISTENCIA MEDICA E ODONTOLOGICA AOS</td>\n",
       "      <td>2023</td>\n",
       "      <td>48489837000172</td>\n",
       "      <td>JB LICITACOES LTDA</td>\n",
       "      <td>2023-08-10</td>\n",
       "      <td>84</td>\n",
       "      <td>160533</td>\n",
       "      <td>4º CGCFEX</td>\n",
       "      <td>449052</td>\n",
       "      <td>EQUIPAMENTOS E MATERIAL PERMANENTE</td>\n",
       "      <td>44905242</td>\n",
       "      <td>MOBILIARIO EM GERAL</td>\n",
       "      <td>2023NE001408</td>\n",
       "      <td>D5SAFUSASOC</td>\n",
       "      <td>ASSISTENCIA SOCIAL</td>\n",
       "      <td>0032</td>\n",
       "      <td>215846</td>\n",
       "      <td>ANO</td>\n",
       "      <td>ORDINARIO</td>\n",
       "      <td>ESCOLA DE SARGENTOS DAS ARMAS  - AVENIDA SETE ...</td>\n",
       "      <td>SC</td>\n",
       "      <td>MG</td>\n",
       "      <td>167505</td>\n",
       "      <td>DGP</td>\n",
       "      <td>D5SA</td>\n",
       "      <td>FUS</td>\n",
       "      <td>ASOC</td>\n",
       "      <td>2460.00</td>\n",
       "      <td>0.0</td>\n",
       "      <td>2460.00</td>\n",
       "      <td>0.00</td>\n",
       "    </tr>\n",
       "    <tr>\n",
       "      <th>36</th>\n",
       "      <td>167129</td>\n",
       "      <td>ESA</td>\n",
       "      <td>2004</td>\n",
       "      <td>ASSISTENCIA MEDICA E ODONTOLOGICA AOS</td>\n",
       "      <td>2023</td>\n",
       "      <td>45169346000156</td>\n",
       "      <td>FRANCILANDIO THIERES DE CARVALHO SILVA</td>\n",
       "      <td>2023-08-10</td>\n",
       "      <td>84</td>\n",
       "      <td>160533</td>\n",
       "      <td>4º CGCFEX</td>\n",
       "      <td>449052</td>\n",
       "      <td>EQUIPAMENTOS E MATERIAL PERMANENTE</td>\n",
       "      <td>44905212</td>\n",
       "      <td>APARELHOS E UTENSILIOS DOMESTICOS</td>\n",
       "      <td>2023NE001405</td>\n",
       "      <td>D5SAFUSASOC</td>\n",
       "      <td>ASSISTENCIA SOCIAL</td>\n",
       "      <td>0032</td>\n",
       "      <td>215846</td>\n",
       "      <td>ANO</td>\n",
       "      <td>ORDINARIO</td>\n",
       "      <td>ESCOLA DE SARGENTOS DAS ARMAS  - AVENIDA SETE ...</td>\n",
       "      <td>PI</td>\n",
       "      <td>MG</td>\n",
       "      <td>167505</td>\n",
       "      <td>DGP</td>\n",
       "      <td>D5SA</td>\n",
       "      <td>FUS</td>\n",
       "      <td>ASOC</td>\n",
       "      <td>3964.69</td>\n",
       "      <td>0.0</td>\n",
       "      <td>3964.69</td>\n",
       "      <td>0.00</td>\n",
       "    </tr>\n",
       "    <tr>\n",
       "      <th>37</th>\n",
       "      <td>160129</td>\n",
       "      <td>ESA</td>\n",
       "      <td>2000</td>\n",
       "      <td>ADMINISTRACAO DA UNIDADE</td>\n",
       "      <td>2023</td>\n",
       "      <td>10902067000175</td>\n",
       "      <td>ESCRIBLU COMERCIO DE MOVEIS LTDA</td>\n",
       "      <td>2023-08-10</td>\n",
       "      <td>84</td>\n",
       "      <td>160533</td>\n",
       "      <td>4º CGCFEX</td>\n",
       "      <td>449052</td>\n",
       "      <td>EQUIPAMENTOS E MATERIAL PERMANENTE</td>\n",
       "      <td>44905242</td>\n",
       "      <td>MOBILIARIO EM GERAL</td>\n",
       "      <td>2023NE000981</td>\n",
       "      <td>I3DAFUNADOM</td>\n",
       "      <td>ADMINISTRACAO DE OM</td>\n",
       "      <td>0032</td>\n",
       "      <td>171460</td>\n",
       "      <td>ANO</td>\n",
       "      <td>ORDINARIO</td>\n",
       "      <td>ESCOLA DE SARGENTOS DAS ARMAS  - AVENIDA SETE ...</td>\n",
       "      <td>SC</td>\n",
       "      <td>MG</td>\n",
       "      <td>160073</td>\n",
       "      <td>DGO</td>\n",
       "      <td>I3DA</td>\n",
       "      <td>FUN</td>\n",
       "      <td>ADOM</td>\n",
       "      <td>1166.00</td>\n",
       "      <td>0.0</td>\n",
       "      <td>1166.00</td>\n",
       "      <td>0.00</td>\n",
       "    </tr>\n",
       "    <tr>\n",
       "      <th>38</th>\n",
       "      <td>160129</td>\n",
       "      <td>ESA</td>\n",
       "      <td>2000</td>\n",
       "      <td>ADMINISTRACAO DA UNIDADE</td>\n",
       "      <td>2023</td>\n",
       "      <td>10902067000175</td>\n",
       "      <td>ESCRIBLU COMERCIO DE MOVEIS LTDA</td>\n",
       "      <td>2023-08-10</td>\n",
       "      <td>84</td>\n",
       "      <td>160533</td>\n",
       "      <td>4º CGCFEX</td>\n",
       "      <td>449052</td>\n",
       "      <td>EQUIPAMENTOS E MATERIAL PERMANENTE</td>\n",
       "      <td>44905242</td>\n",
       "      <td>MOBILIARIO EM GERAL</td>\n",
       "      <td>2023NE000980</td>\n",
       "      <td>I3DAFUNADOM</td>\n",
       "      <td>ADMINISTRACAO DE OM</td>\n",
       "      <td>0032</td>\n",
       "      <td>171460</td>\n",
       "      <td>ANO</td>\n",
       "      <td>ORDINARIO</td>\n",
       "      <td>ESCOLA DE SARGENTOS DAS ARMAS  - AVENIDA SETE ...</td>\n",
       "      <td>SC</td>\n",
       "      <td>MG</td>\n",
       "      <td>160073</td>\n",
       "      <td>DGO</td>\n",
       "      <td>I3DA</td>\n",
       "      <td>FUN</td>\n",
       "      <td>ADOM</td>\n",
       "      <td>1557.00</td>\n",
       "      <td>0.0</td>\n",
       "      <td>1557.00</td>\n",
       "      <td>0.00</td>\n",
       "    </tr>\n",
       "    <tr>\n",
       "      <th>39</th>\n",
       "      <td>167129</td>\n",
       "      <td>ESA</td>\n",
       "      <td>2000</td>\n",
       "      <td>ADMINISTRACAO DA UNIDADE</td>\n",
       "      <td>2023</td>\n",
       "      <td>81243735000903</td>\n",
       "      <td>POSITIVO TECNOLOGIA S.A.</td>\n",
       "      <td>2023-08-18</td>\n",
       "      <td>76</td>\n",
       "      <td>160533</td>\n",
       "      <td>4º CGCFEX</td>\n",
       "      <td>449052</td>\n",
       "      <td>EQUIPAMENTOS E MATERIAL PERMANENTE</td>\n",
       "      <td>44905241</td>\n",
       "      <td>EQUIPAMENTOS DE TIC - COMPUTADORES</td>\n",
       "      <td>2023NE001414</td>\n",
       "      <td>C1ENCONDETM</td>\n",
       "      <td>CONCURSOS AS ESCOLAS MILITARES</td>\n",
       "      <td>0032</td>\n",
       "      <td>171502</td>\n",
       "      <td>ANO</td>\n",
       "      <td>ORDINARIO</td>\n",
       "      <td>ESCOLA DE SARGENTOS DAS ARMAS  - AVENIDA SETE ...</td>\n",
       "      <td>BA</td>\n",
       "      <td>MG</td>\n",
       "      <td>167503</td>\n",
       "      <td>DECEX - GESTOR</td>\n",
       "      <td>C1EN</td>\n",
       "      <td>CON</td>\n",
       "      <td>DETM</td>\n",
       "      <td>21864.00</td>\n",
       "      <td>0.0</td>\n",
       "      <td>21864.00</td>\n",
       "      <td>0.00</td>\n",
       "    </tr>\n",
       "    <tr>\n",
       "      <th>40</th>\n",
       "      <td>160129</td>\n",
       "      <td>ESA</td>\n",
       "      <td>21A0</td>\n",
       "      <td>APRESTAMENTO DAS FORCAS</td>\n",
       "      <td>2023</td>\n",
       "      <td>38073038000167</td>\n",
       "      <td>WR NUTRICAO ANIMAL LTDA</td>\n",
       "      <td>2023-08-23</td>\n",
       "      <td>71</td>\n",
       "      <td>160533</td>\n",
       "      <td>4º CGCFEX</td>\n",
       "      <td>339030</td>\n",
       "      <td>MATERIAL DE CONSUMO</td>\n",
       "      <td>33903006</td>\n",
       "      <td>ALIMENTOS PARA ANIMAIS</td>\n",
       "      <td>2023NE001054</td>\n",
       "      <td>E6RVPLJALIE</td>\n",
       "      <td>ALIMENTACAO PARA EQUINOS.</td>\n",
       "      <td>6012</td>\n",
       "      <td>193910</td>\n",
       "      <td>ANO</td>\n",
       "      <td>GLOBAL</td>\n",
       "      <td>ESCOLA DE SARGENTOS DAS ARMAS  - AVENIDA SETE ...</td>\n",
       "      <td>ES</td>\n",
       "      <td>MG</td>\n",
       "      <td>160504</td>\n",
       "      <td>COEX/GESTOR</td>\n",
       "      <td>E6RV</td>\n",
       "      <td>PLJ</td>\n",
       "      <td>ALIE</td>\n",
       "      <td>4632.20</td>\n",
       "      <td>32200.0</td>\n",
       "      <td>36832.20</td>\n",
       "      <td>20976.00</td>\n",
       "    </tr>\n",
       "    <tr>\n",
       "      <th>41</th>\n",
       "      <td>160129</td>\n",
       "      <td>ESA</td>\n",
       "      <td>21A0</td>\n",
       "      <td>APRESTAMENTO DAS FORCAS</td>\n",
       "      <td>2023</td>\n",
       "      <td>31682616000113</td>\n",
       "      <td>CFJ COMERCIAL AGROPECUARIO E TRANSPORTES LTDA</td>\n",
       "      <td>2023-08-23</td>\n",
       "      <td>71</td>\n",
       "      <td>160533</td>\n",
       "      <td>4º CGCFEX</td>\n",
       "      <td>339030</td>\n",
       "      <td>MATERIAL DE CONSUMO</td>\n",
       "      <td>33903006</td>\n",
       "      <td>ALIMENTOS PARA ANIMAIS</td>\n",
       "      <td>2023NE001055</td>\n",
       "      <td>E6RVPLJALIE</td>\n",
       "      <td>ALIMENTACAO PARA EQUINOS.</td>\n",
       "      <td>6012</td>\n",
       "      <td>193910</td>\n",
       "      <td>ANO</td>\n",
       "      <td>GLOBAL</td>\n",
       "      <td>ESCOLA DE SARGENTOS DAS ARMAS  - AVENIDA SETE ...</td>\n",
       "      <td>RS</td>\n",
       "      <td>MG</td>\n",
       "      <td>160504</td>\n",
       "      <td>COEX/GESTOR</td>\n",
       "      <td>E6RV</td>\n",
       "      <td>PLJ</td>\n",
       "      <td>ALIE</td>\n",
       "      <td>13171.28</td>\n",
       "      <td>0.0</td>\n",
       "      <td>13171.28</td>\n",
       "      <td>50440.40</td>\n",
       "    </tr>\n",
       "    <tr>\n",
       "      <th>42</th>\n",
       "      <td>160129</td>\n",
       "      <td>ESA</td>\n",
       "      <td>21A0</td>\n",
       "      <td>APRESTAMENTO DAS FORCAS</td>\n",
       "      <td>2023</td>\n",
       "      <td>44429540000160</td>\n",
       "      <td>DISTRIBUIDORA ESPIRITO SANTO LTDA</td>\n",
       "      <td>2023-08-23</td>\n",
       "      <td>71</td>\n",
       "      <td>160533</td>\n",
       "      <td>4º CGCFEX</td>\n",
       "      <td>339030</td>\n",
       "      <td>MATERIAL DE CONSUMO</td>\n",
       "      <td>33903006</td>\n",
       "      <td>ALIMENTOS PARA ANIMAIS</td>\n",
       "      <td>2023NE001066</td>\n",
       "      <td>E6RVPLJALIE</td>\n",
       "      <td>ALIMENTACAO PARA EQUINOS.</td>\n",
       "      <td>6012</td>\n",
       "      <td>193910</td>\n",
       "      <td>ANO</td>\n",
       "      <td>ORDINARIO</td>\n",
       "      <td>ESCOLA DE SARGENTOS DAS ARMAS  - AVENIDA SETE ...</td>\n",
       "      <td>ES</td>\n",
       "      <td>MG</td>\n",
       "      <td>160504</td>\n",
       "      <td>COEX/GESTOR</td>\n",
       "      <td>E6RV</td>\n",
       "      <td>PLJ</td>\n",
       "      <td>ALIE</td>\n",
       "      <td>1056.71</td>\n",
       "      <td>0.0</td>\n",
       "      <td>1056.71</td>\n",
       "      <td>0.00</td>\n",
       "    </tr>\n",
       "    <tr>\n",
       "      <th>43</th>\n",
       "      <td>160129</td>\n",
       "      <td>ESA</td>\n",
       "      <td>21A0</td>\n",
       "      <td>APRESTAMENTO DAS FORCAS</td>\n",
       "      <td>2023</td>\n",
       "      <td>44429540000160</td>\n",
       "      <td>DISTRIBUIDORA ESPIRITO SANTO LTDA</td>\n",
       "      <td>2023-08-23</td>\n",
       "      <td>71</td>\n",
       "      <td>160533</td>\n",
       "      <td>4º CGCFEX</td>\n",
       "      <td>339030</td>\n",
       "      <td>MATERIAL DE CONSUMO</td>\n",
       "      <td>33903006</td>\n",
       "      <td>ALIMENTOS PARA ANIMAIS</td>\n",
       "      <td>2023NE001062</td>\n",
       "      <td>E6RVPLJALIE</td>\n",
       "      <td>ALIMENTACAO PARA EQUINOS.</td>\n",
       "      <td>6012</td>\n",
       "      <td>193910</td>\n",
       "      <td>ANO</td>\n",
       "      <td>ORDINARIO</td>\n",
       "      <td>ESCOLA DE SARGENTOS DAS ARMAS  - AVENIDA SETE ...</td>\n",
       "      <td>ES</td>\n",
       "      <td>MG</td>\n",
       "      <td>160504</td>\n",
       "      <td>COEX/GESTOR</td>\n",
       "      <td>E6RV</td>\n",
       "      <td>PLJ</td>\n",
       "      <td>ALIE</td>\n",
       "      <td>1056.71</td>\n",
       "      <td>0.0</td>\n",
       "      <td>1056.71</td>\n",
       "      <td>0.00</td>\n",
       "    </tr>\n",
       "    <tr>\n",
       "      <th>44</th>\n",
       "      <td>160129</td>\n",
       "      <td>ESA</td>\n",
       "      <td>20XE</td>\n",
       "      <td>MANUTENCAO E MODERNIZACAO DE SISTEMAS</td>\n",
       "      <td>2023</td>\n",
       "      <td>01804159000121</td>\n",
       "      <td>ELETRA TECNOLOGIA E INFORMATICA LTDA</td>\n",
       "      <td>2023-08-28</td>\n",
       "      <td>66</td>\n",
       "      <td>160533</td>\n",
       "      <td>4º CGCFEX</td>\n",
       "      <td>339030</td>\n",
       "      <td>MATERIAL DE CONSUMO</td>\n",
       "      <td>33903017</td>\n",
       "      <td>MATERIAL DE TIC - MATERIAL DE CONSUMO</td>\n",
       "      <td>2023NE001074</td>\n",
       "      <td>K9CCMSIINFO</td>\n",
       "      <td>MNT DE SISTEMAS DE INFORMACãO E COMUNICACãO</td>\n",
       "      <td>6012</td>\n",
       "      <td>204334</td>\n",
       "      <td>ANO</td>\n",
       "      <td>ORDINARIO</td>\n",
       "      <td>ESCOLA DE SARGENTOS DAS ARMAS</td>\n",
       "      <td>MG</td>\n",
       "      <td>MG</td>\n",
       "      <td>160035</td>\n",
       "      <td>DCT - GESTOR</td>\n",
       "      <td>K9CC</td>\n",
       "      <td>MSI</td>\n",
       "      <td>INFO</td>\n",
       "      <td>6396.00</td>\n",
       "      <td>0.0</td>\n",
       "      <td>6396.00</td>\n",
       "      <td>0.00</td>\n",
       "    </tr>\n",
       "    <tr>\n",
       "      <th>45</th>\n",
       "      <td>160129</td>\n",
       "      <td>ESA</td>\n",
       "      <td>20XE</td>\n",
       "      <td>MANUTENCAO E MODERNIZACAO DE SISTEMAS</td>\n",
       "      <td>2023</td>\n",
       "      <td>06187402000123</td>\n",
       "      <td>R H P COMPUTADORES LTDA</td>\n",
       "      <td>2023-08-28</td>\n",
       "      <td>66</td>\n",
       "      <td>160533</td>\n",
       "      <td>4º CGCFEX</td>\n",
       "      <td>339030</td>\n",
       "      <td>MATERIAL DE CONSUMO</td>\n",
       "      <td>33903017</td>\n",
       "      <td>MATERIAL DE TIC - MATERIAL DE CONSUMO</td>\n",
       "      <td>2023NE001078</td>\n",
       "      <td>K9CCMSIINFO</td>\n",
       "      <td>MNT DE SISTEMAS DE INFORMACãO E COMUNICACãO</td>\n",
       "      <td>6012</td>\n",
       "      <td>204334</td>\n",
       "      <td>ANO</td>\n",
       "      <td>ORDINARIO</td>\n",
       "      <td>ESCOLA DE SARGENTOS DAS ARMAS  - AVENIDA SETE ...</td>\n",
       "      <td>PR</td>\n",
       "      <td>MG</td>\n",
       "      <td>160035</td>\n",
       "      <td>DCT - GESTOR</td>\n",
       "      <td>K9CC</td>\n",
       "      <td>MSI</td>\n",
       "      <td>INFO</td>\n",
       "      <td>2249.00</td>\n",
       "      <td>0.0</td>\n",
       "      <td>2249.00</td>\n",
       "      <td>0.00</td>\n",
       "    </tr>\n",
       "    <tr>\n",
       "      <th>46</th>\n",
       "      <td>160129</td>\n",
       "      <td>ESA</td>\n",
       "      <td>21A0</td>\n",
       "      <td>APRESTAMENTO DAS FORCAS</td>\n",
       "      <td>2023</td>\n",
       "      <td>31682616000113</td>\n",
       "      <td>CFJ COMERCIAL AGROPECUARIO E TRANSPORTES LTDA</td>\n",
       "      <td>2023-09-01</td>\n",
       "      <td>62</td>\n",
       "      <td>160533</td>\n",
       "      <td>4º CGCFEX</td>\n",
       "      <td>339030</td>\n",
       "      <td>MATERIAL DE CONSUMO</td>\n",
       "      <td>33903006</td>\n",
       "      <td>ALIMENTOS PARA ANIMAIS</td>\n",
       "      <td>2023NE001096</td>\n",
       "      <td>E6RVPLJALIE</td>\n",
       "      <td>ALIMENTACAO PARA EQUINOS.</td>\n",
       "      <td>6012</td>\n",
       "      <td>193910</td>\n",
       "      <td>ANO</td>\n",
       "      <td>GLOBAL</td>\n",
       "      <td>ESCOLA DE SARGENTOS DAS ARMAS  - AVENIDA SETE ...</td>\n",
       "      <td>RS</td>\n",
       "      <td>MG</td>\n",
       "      <td>160504</td>\n",
       "      <td>COEX/GESTOR</td>\n",
       "      <td>E6RV</td>\n",
       "      <td>PLJ</td>\n",
       "      <td>ALIE</td>\n",
       "      <td>63611.68</td>\n",
       "      <td>0.0</td>\n",
       "      <td>63611.68</td>\n",
       "      <td>0.00</td>\n",
       "    </tr>\n",
       "    <tr>\n",
       "      <th>47</th>\n",
       "      <td>160129</td>\n",
       "      <td>ESA</td>\n",
       "      <td>21A0</td>\n",
       "      <td>APRESTAMENTO DAS FORCAS</td>\n",
       "      <td>2023</td>\n",
       "      <td>38073038000167</td>\n",
       "      <td>WR NUTRICAO ANIMAL LTDA</td>\n",
       "      <td>2023-09-01</td>\n",
       "      <td>62</td>\n",
       "      <td>160533</td>\n",
       "      <td>4º CGCFEX</td>\n",
       "      <td>339030</td>\n",
       "      <td>MATERIAL DE CONSUMO</td>\n",
       "      <td>33903006</td>\n",
       "      <td>ALIMENTOS PARA ANIMAIS</td>\n",
       "      <td>2023NE001097</td>\n",
       "      <td>E6RVPLJALIE</td>\n",
       "      <td>ALIMENTACAO PARA EQUINOS.</td>\n",
       "      <td>6012</td>\n",
       "      <td>193910</td>\n",
       "      <td>ANO</td>\n",
       "      <td>GLOBAL</td>\n",
       "      <td>ESCOLA DE SARGENTOS DAS ARMAS  - AVENIDA SETE ...</td>\n",
       "      <td>ES</td>\n",
       "      <td>MG</td>\n",
       "      <td>160504</td>\n",
       "      <td>COEX/GESTOR</td>\n",
       "      <td>E6RV</td>\n",
       "      <td>PLJ</td>\n",
       "      <td>ALIE</td>\n",
       "      <td>57808.20</td>\n",
       "      <td>0.0</td>\n",
       "      <td>57808.20</td>\n",
       "      <td>0.00</td>\n",
       "    </tr>\n",
       "  </tbody>\n",
       "</table>\n",
       "</div>"
      ],
      "text/plain": [
       "        UG SIGLA UG  ACAO                              NOME_ACAO   ANO  \\\n",
       "0   160129      ESA  212B  BENEFICIOS OBRIGATORIOS AOS SERVIDORE  2023   \n",
       "1   160129      ESA  212B  BENEFICIOS OBRIGATORIOS AOS SERVIDORE  2023   \n",
       "2   160129      ESA  212B  BENEFICIOS OBRIGATORIOS AOS SERVIDORE  2023   \n",
       "3   160129      ESA  212B  BENEFICIOS OBRIGATORIOS AOS SERVIDORE  2023   \n",
       "4   160129      ESA  212B  BENEFICIOS OBRIGATORIOS AOS SERVIDORE  2023   \n",
       "5   160129      ESA  8965  CAPACITACAO PROFISSIONAL MILITAR DO E  2023   \n",
       "6   167129      ESA  2919  REGISTRO E FISCALIZACAO DE PRODUTOS C  2023   \n",
       "7   160129      ESA  2000               ADMINISTRACAO DA UNIDADE  2023   \n",
       "8   160129      ESA  21A0                APRESTAMENTO DAS FORCAS  2023   \n",
       "9   167129      ESA  2919  REGISTRO E FISCALIZACAO DE PRODUTOS C  2023   \n",
       "10  160129      ESA  21A0                APRESTAMENTO DAS FORCAS  2023   \n",
       "11  160129      ESA  8965  CAPACITACAO PROFISSIONAL MILITAR DO E  2023   \n",
       "12  160129      ESA  212B  BENEFICIOS OBRIGATORIOS AOS SERVIDORE  2023   \n",
       "13  160129      ESA  212B  BENEFICIOS OBRIGATORIOS AOS SERVIDORE  2023   \n",
       "14  160129      ESA  212B  BENEFICIOS OBRIGATORIOS AOS SERVIDORE  2023   \n",
       "15  160129      ESA  212B  BENEFICIOS OBRIGATORIOS AOS SERVIDORE  2023   \n",
       "16  160129      ESA  212B  BENEFICIOS OBRIGATORIOS AOS SERVIDORE  2023   \n",
       "17  160129      ESA  212B  BENEFICIOS OBRIGATORIOS AOS SERVIDORE  2023   \n",
       "18  160129      ESA  8965  CAPACITACAO PROFISSIONAL MILITAR DO E  2023   \n",
       "19  160129      ESA  8965  CAPACITACAO PROFISSIONAL MILITAR DO E  2023   \n",
       "20  160129      ESA  8965  CAPACITACAO PROFISSIONAL MILITAR DO E  2023   \n",
       "21  160129      ESA  8965  CAPACITACAO PROFISSIONAL MILITAR DO E  2023   \n",
       "22  160129      ESA  8965  CAPACITACAO PROFISSIONAL MILITAR DO E  2023   \n",
       "23  167129      ESA  2004  ASSISTENCIA MEDICA E ODONTOLOGICA AOS  2023   \n",
       "24  160129      ESA  2000               ADMINISTRACAO DA UNIDADE  2023   \n",
       "25  160129      ESA  2000               ADMINISTRACAO DA UNIDADE  2023   \n",
       "26  160129      ESA  2000               ADMINISTRACAO DA UNIDADE  2023   \n",
       "27  167129      ESA  2004  ASSISTENCIA MEDICA E ODONTOLOGICA AOS  2023   \n",
       "28  160129      ESA  2000               ADMINISTRACAO DA UNIDADE  2023   \n",
       "29  160129      ESA  2000               ADMINISTRACAO DA UNIDADE  2023   \n",
       "30  167129      ESA  2004  ASSISTENCIA MEDICA E ODONTOLOGICA AOS  2023   \n",
       "31  160129      ESA  2000               ADMINISTRACAO DA UNIDADE  2023   \n",
       "32  160129      ESA  8965  CAPACITACAO PROFISSIONAL MILITAR DO E  2023   \n",
       "33  167129      ESA  2004  ASSISTENCIA MEDICA E ODONTOLOGICA AOS  2023   \n",
       "34  167129      ESA  2004  ASSISTENCIA MEDICA E ODONTOLOGICA AOS  2023   \n",
       "35  167129      ESA  2004  ASSISTENCIA MEDICA E ODONTOLOGICA AOS  2023   \n",
       "36  167129      ESA  2004  ASSISTENCIA MEDICA E ODONTOLOGICA AOS  2023   \n",
       "37  160129      ESA  2000               ADMINISTRACAO DA UNIDADE  2023   \n",
       "38  160129      ESA  2000               ADMINISTRACAO DA UNIDADE  2023   \n",
       "39  167129      ESA  2000               ADMINISTRACAO DA UNIDADE  2023   \n",
       "40  160129      ESA  21A0                APRESTAMENTO DAS FORCAS  2023   \n",
       "41  160129      ESA  21A0                APRESTAMENTO DAS FORCAS  2023   \n",
       "42  160129      ESA  21A0                APRESTAMENTO DAS FORCAS  2023   \n",
       "43  160129      ESA  21A0                APRESTAMENTO DAS FORCAS  2023   \n",
       "44  160129      ESA  20XE  MANUTENCAO E MODERNIZACAO DE SISTEMAS  2023   \n",
       "45  160129      ESA  20XE  MANUTENCAO E MODERNIZACAO DE SISTEMAS  2023   \n",
       "46  160129      ESA  21A0                APRESTAMENTO DAS FORCAS  2023   \n",
       "47  160129      ESA  21A0                APRESTAMENTO DAS FORCAS  2023   \n",
       "\n",
       "            CREDOR                                        NOME_CREDOR  \\\n",
       "0   10653955000100                             I&P AGROCOMERCIAL LTDA   \n",
       "1   19791896006486                          SUPERGASBRAS ENERGIA LTDA   \n",
       "2   20702528000110                            CARLOS GABRIEL DOS REIS   \n",
       "3   31669124000198                               LS REFRIGERACAO LTDA   \n",
       "4   28259514000185                  CLEVER FERREIRA COSTA 01175363693   \n",
       "5   19791896006486                          SUPERGASBRAS ENERGIA LTDA   \n",
       "6   13754000000129  G4 SERVICO E COMERCIO DE PRODUTOS INDUSTRIAIS,...   \n",
       "7   09583781000169                              2 CLICK SOLUCOES LTDA   \n",
       "8   43928711000133                GARDEN MATERIAIS DE CONSTRUCAO LTDA   \n",
       "9      02852112698                             LUCIANO ALVES DE PAULA   \n",
       "10  48241204000140  EQUIPAT - EQUIPAMENTOS E MATERIAIS ELETRICOS E...   \n",
       "11  28320324000126                       FREDERICO DELGADO DE ALMEIDA   \n",
       "12  20421805000116                   SUPERMERCADO REI DAS CARNES LTDA   \n",
       "13  37748531000177                              RAFAEL SOARES AZEVEDO   \n",
       "14  10653955000100                             I&P AGROCOMERCIAL LTDA   \n",
       "15  14163479000191          EXITUS COMERCIAL PRODUTOS E SERVICOS LTDA   \n",
       "16  20702528000110                            CARLOS GABRIEL DOS REIS   \n",
       "17  47078180000198                   AF DISTRIBUIDORA E SERVICOS LTDA   \n",
       "18  81243735001977                           POSITIVO TECNOLOGIA S.A.   \n",
       "19  81243735000903                           POSITIVO TECNOLOGIA S.A.   \n",
       "20  20240470000130          R.A.C. CUNHA MATERIAIS P/ CONSTRUCAO LTDA   \n",
       "21  33345691000114         CONCRETA BRASIL SOLUCOES EMPRESARIAIS LTDA   \n",
       "22  39242061000109                        CENTRAL TINTAS CURVELO LTDA   \n",
       "23  17623276000129                            GLOBAL CONSTRUTORA LTDA   \n",
       "24  08605233000120            BALCAO DOS PARAFUSOS E FERRAMENTAS LTDA   \n",
       "25  10902067000175                   ESCRIBLU COMERCIO DE MOVEIS LTDA   \n",
       "26  08605233000120            BALCAO DOS PARAFUSOS E FERRAMENTAS LTDA   \n",
       "27  10902067000175                   ESCRIBLU COMERCIO DE MOVEIS LTDA   \n",
       "28  10902067000175                   ESCRIBLU COMERCIO DE MOVEIS LTDA   \n",
       "29  10902067000175                   ESCRIBLU COMERCIO DE MOVEIS LTDA   \n",
       "30  10902067000175                   ESCRIBLU COMERCIO DE MOVEIS LTDA   \n",
       "31  10902067000175                   ESCRIBLU COMERCIO DE MOVEIS LTDA   \n",
       "32  50317178000139     R&D COMERCIO E SUPRIMENTOS DE INFORMATICA LTDA   \n",
       "33  51234341000162      51.234.341 SANDRA LETICIA FERREIRA DE ALMEIDA   \n",
       "34  51234341000162      51.234.341 SANDRA LETICIA FERREIRA DE ALMEIDA   \n",
       "35  48489837000172                                 JB LICITACOES LTDA   \n",
       "36  45169346000156             FRANCILANDIO THIERES DE CARVALHO SILVA   \n",
       "37  10902067000175                   ESCRIBLU COMERCIO DE MOVEIS LTDA   \n",
       "38  10902067000175                   ESCRIBLU COMERCIO DE MOVEIS LTDA   \n",
       "39  81243735000903                           POSITIVO TECNOLOGIA S.A.   \n",
       "40  38073038000167                            WR NUTRICAO ANIMAL LTDA   \n",
       "41  31682616000113      CFJ COMERCIAL AGROPECUARIO E TRANSPORTES LTDA   \n",
       "42  44429540000160                  DISTRIBUIDORA ESPIRITO SANTO LTDA   \n",
       "43  44429540000160                  DISTRIBUIDORA ESPIRITO SANTO LTDA   \n",
       "44  01804159000121               ELETRA TECNOLOGIA E INFORMATICA LTDA   \n",
       "45  06187402000123                            R H P COMPUTADORES LTDA   \n",
       "46  31682616000113      CFJ COMERCIAL AGROPECUARIO E TRANSPORTES LTDA   \n",
       "47  38073038000167                            WR NUTRICAO ANIMAL LTDA   \n",
       "\n",
       "         DATA  DIAS   ICFEX NOME_ICFEX      ND  \\\n",
       "0  2023-02-13   262  160533  4º CGCFEX  339030   \n",
       "1  2023-02-14   261  160533  4º CGCFEX  339030   \n",
       "2  2023-02-15   260  160533  4º CGCFEX  339030   \n",
       "3  2023-04-18   198  160533  4º CGCFEX  449052   \n",
       "4  2023-05-03   183  160533  4º CGCFEX  339030   \n",
       "5  2023-05-29   157  160533  4º CGCFEX  339030   \n",
       "6  2023-06-02   153  160533  4º CGCFEX  339030   \n",
       "7  2023-06-06   149  160533  4º CGCFEX  339030   \n",
       "8  2023-06-07   148  160533  4º CGCFEX  339030   \n",
       "9  2023-06-13   142  160533  4º CGCFEX  339030   \n",
       "10 2023-06-16   139  160533  4º CGCFEX  449052   \n",
       "11 2023-06-19   136  160533  4º CGCFEX  449052   \n",
       "12 2023-06-20   135  160533  4º CGCFEX  339030   \n",
       "13 2023-06-20   135  160533  4º CGCFEX  339030   \n",
       "14 2023-06-20   135  160533  4º CGCFEX  339030   \n",
       "15 2023-06-21   134  160533  4º CGCFEX  339030   \n",
       "16 2023-06-21   134  160533  4º CGCFEX  339030   \n",
       "17 2023-06-21   134  160533  4º CGCFEX  339030   \n",
       "18 2023-06-28   127  160533  4º CGCFEX  449052   \n",
       "19 2023-07-24   101  160533  4º CGCFEX  449052   \n",
       "20 2023-07-25   100  160533  4º CGCFEX  339030   \n",
       "21 2023-07-25   100  160533  4º CGCFEX  339030   \n",
       "22 2023-07-25   100  160533  4º CGCFEX  339030   \n",
       "23 2023-07-27    98  160533  4º CGCFEX  339030   \n",
       "24 2023-07-31    94  160533  4º CGCFEX  339030   \n",
       "25 2023-07-31    94  160533  4º CGCFEX  449052   \n",
       "26 2023-08-01    93  160533  4º CGCFEX  339030   \n",
       "27 2023-08-02    92  160533  4º CGCFEX  449052   \n",
       "28 2023-08-02    92  160533  4º CGCFEX  449052   \n",
       "29 2023-08-02    92  160533  4º CGCFEX  449052   \n",
       "30 2023-08-02    92  160533  4º CGCFEX  449052   \n",
       "31 2023-08-08    86  160533  4º CGCFEX  449052   \n",
       "32 2023-08-09    85  160533  4º CGCFEX  339030   \n",
       "33 2023-08-10    84  160533  4º CGCFEX  449052   \n",
       "34 2023-08-10    84  160533  4º CGCFEX  449052   \n",
       "35 2023-08-10    84  160533  4º CGCFEX  449052   \n",
       "36 2023-08-10    84  160533  4º CGCFEX  449052   \n",
       "37 2023-08-10    84  160533  4º CGCFEX  449052   \n",
       "38 2023-08-10    84  160533  4º CGCFEX  449052   \n",
       "39 2023-08-18    76  160533  4º CGCFEX  449052   \n",
       "40 2023-08-23    71  160533  4º CGCFEX  339030   \n",
       "41 2023-08-23    71  160533  4º CGCFEX  339030   \n",
       "42 2023-08-23    71  160533  4º CGCFEX  339030   \n",
       "43 2023-08-23    71  160533  4º CGCFEX  339030   \n",
       "44 2023-08-28    66  160533  4º CGCFEX  339030   \n",
       "45 2023-08-28    66  160533  4º CGCFEX  339030   \n",
       "46 2023-09-01    62  160533  4º CGCFEX  339030   \n",
       "47 2023-09-01    62  160533  4º CGCFEX  339030   \n",
       "\n",
       "                               NOME_ND      NDSI  \\\n",
       "0                  MATERIAL DE CONSUMO  33903007   \n",
       "1                  MATERIAL DE CONSUMO  33903004   \n",
       "2                  MATERIAL DE CONSUMO  33903007   \n",
       "3   EQUIPAMENTOS E MATERIAL PERMANENTE  44905228   \n",
       "4                  MATERIAL DE CONSUMO  33903021   \n",
       "5                  MATERIAL DE CONSUMO  33903004   \n",
       "6                  MATERIAL DE CONSUMO  33903039   \n",
       "7                  MATERIAL DE CONSUMO  33903022   \n",
       "8                  MATERIAL DE CONSUMO  33903024   \n",
       "9                  MATERIAL DE CONSUMO  33903096   \n",
       "10  EQUIPAMENTOS E MATERIAL PERMANENTE  44905238   \n",
       "11  EQUIPAMENTOS E MATERIAL PERMANENTE  44905224   \n",
       "12                 MATERIAL DE CONSUMO  33903007   \n",
       "13                 MATERIAL DE CONSUMO  33903007   \n",
       "14                 MATERIAL DE CONSUMO  33903007   \n",
       "15                 MATERIAL DE CONSUMO  33903007   \n",
       "16                 MATERIAL DE CONSUMO  33903007   \n",
       "17                 MATERIAL DE CONSUMO  33903007   \n",
       "18  EQUIPAMENTOS E MATERIAL PERMANENTE  44905241   \n",
       "19  EQUIPAMENTOS E MATERIAL PERMANENTE  44905241   \n",
       "20                 MATERIAL DE CONSUMO  33903024   \n",
       "21                 MATERIAL DE CONSUMO  33903024   \n",
       "22                 MATERIAL DE CONSUMO  33903024   \n",
       "23                 MATERIAL DE CONSUMO  33903026   \n",
       "24                 MATERIAL DE CONSUMO  33903016   \n",
       "25  EQUIPAMENTOS E MATERIAL PERMANENTE  44905242   \n",
       "26                 MATERIAL DE CONSUMO  33903025   \n",
       "27  EQUIPAMENTOS E MATERIAL PERMANENTE  44905242   \n",
       "28  EQUIPAMENTOS E MATERIAL PERMANENTE  44905242   \n",
       "29  EQUIPAMENTOS E MATERIAL PERMANENTE  44905242   \n",
       "30  EQUIPAMENTOS E MATERIAL PERMANENTE  44905242   \n",
       "31  EQUIPAMENTOS E MATERIAL PERMANENTE  44905242   \n",
       "32                 MATERIAL DE CONSUMO  33903017   \n",
       "33  EQUIPAMENTOS E MATERIAL PERMANENTE  44905242   \n",
       "34  EQUIPAMENTOS E MATERIAL PERMANENTE  44905212   \n",
       "35  EQUIPAMENTOS E MATERIAL PERMANENTE  44905242   \n",
       "36  EQUIPAMENTOS E MATERIAL PERMANENTE  44905212   \n",
       "37  EQUIPAMENTOS E MATERIAL PERMANENTE  44905242   \n",
       "38  EQUIPAMENTOS E MATERIAL PERMANENTE  44905242   \n",
       "39  EQUIPAMENTOS E MATERIAL PERMANENTE  44905241   \n",
       "40                 MATERIAL DE CONSUMO  33903006   \n",
       "41                 MATERIAL DE CONSUMO  33903006   \n",
       "42                 MATERIAL DE CONSUMO  33903006   \n",
       "43                 MATERIAL DE CONSUMO  33903006   \n",
       "44                 MATERIAL DE CONSUMO  33903017   \n",
       "45                 MATERIAL DE CONSUMO  33903017   \n",
       "46                 MATERIAL DE CONSUMO  33903006   \n",
       "47                 MATERIAL DE CONSUMO  33903006   \n",
       "\n",
       "                                         NOME_NDSI            NE           PI  \\\n",
       "0                           GENEROS DE ALIMENTACAO  2023NE000114  E6SUPLJA1QR   \n",
       "1              GAS E OUTROS MATERIAIS ENGARRAFADOS  2023NE000120  E6SUPLJA1QR   \n",
       "2                           GENEROS DE ALIMENTACAO  2023NE000158  E6SUPLJESCO   \n",
       "3   MAQUINAS E EQUIPAMENTOS DE NATUREZA INDUSTRIAL  2023NE000392  E6SUPLJA5PA   \n",
       "4                       MATERIAL DE COPA E COZINHA  2023NE000465  E6SUPLJA5PA   \n",
       "5              GAS E OUTROS MATERIAIS ENGARRAFADOS  2023NE000559  C4ENMILCAPE   \n",
       "6               MATERIAL P/ MANUTENCAO DE VEICULOS  2023NE001125  E3PCFSCMABM   \n",
       "7      MATERIAL DE LIMPEZA E PROD. DE HIGIENIZACAO  2023NE000635  I3DAFUNADOM   \n",
       "8    MATERIAL P/ MANUT.DE BENS IMOVEIS/INSTALACOES  2023NE000647  E6RVSOLOUT4   \n",
       "9           MATERIAL DE CONSUMO - PAGTO ANTECIPADO  2023NE001191  E3PCOPFCOLU   \n",
       "10   MAQ., FERRAMENTAS  E  UTENSILIOS  DE  OFICINA  2023NE000668  E5MMPDRDEGE   \n",
       "11   EQUIPAMENTO DE PROTECAO, SEGURANCA E  SOCORRO  2023NE000672  C4ENMILCAPE   \n",
       "12                          GENEROS DE ALIMENTACAO  2023NE000696  E6SUPLJA1QR   \n",
       "13                          GENEROS DE ALIMENTACAO  2023NE000698  E6SUPLJA1QR   \n",
       "14                          GENEROS DE ALIMENTACAO  2023NE000695  E6SUPLJA1QR   \n",
       "15                          GENEROS DE ALIMENTACAO  2023NE000706  E6SUPLJA1QR   \n",
       "16                          GENEROS DE ALIMENTACAO  2023NE000715  E6SUPLJA1QR   \n",
       "17                          GENEROS DE ALIMENTACAO  2023NE000704  E6SUPLJA1QR   \n",
       "18              EQUIPAMENTOS DE TIC - COMPUTADORES  2023NE000781  C4ENMILCAPE   \n",
       "19              EQUIPAMENTOS DE TIC - COMPUTADORES  2023NE000889  C4ENMILCAPE   \n",
       "20   MATERIAL P/ MANUT.DE BENS IMOVEIS/INSTALACOES  2023NE000894  C4ENMILCAPE   \n",
       "21   MATERIAL P/ MANUT.DE BENS IMOVEIS/INSTALACOES  2023NE000890  C4ENMILCAPE   \n",
       "22   MATERIAL P/ MANUT.DE BENS IMOVEIS/INSTALACOES  2023NE000891  C4ENMILCAPE   \n",
       "23                  MATERIAL ELETRICO E ELETRONICO  2023NE001370  D5SAFUSASOC   \n",
       "24                          MATERIAL DE EXPEDIENTE  2023NE000940  I3DAFUNADOM   \n",
       "25                             MOBILIARIO EM GERAL  2023NE000938  I3DAFUNADOM   \n",
       "26           MATERIAL P/ MANUTENCAO DE BENS MOVEIS  2023NE000948  I3DAFUNADOM   \n",
       "27                             MOBILIARIO EM GERAL  2023NE001378  D5SAFUSASOC   \n",
       "28                             MOBILIARIO EM GERAL  2023NE000951  I3DAFUNADOM   \n",
       "29                             MOBILIARIO EM GERAL  2023NE000952  I3DAFUNADOM   \n",
       "30                             MOBILIARIO EM GERAL  2023NE001377  D5SAFUSASOC   \n",
       "31                             MOBILIARIO EM GERAL  2023NE000957  I3DAFUNADOM   \n",
       "32           MATERIAL DE TIC - MATERIAL DE CONSUMO  2023NE000971  C4ENMILCAPE   \n",
       "33                             MOBILIARIO EM GERAL  2023NE001407  D5SAFUSASOC   \n",
       "34               APARELHOS E UTENSILIOS DOMESTICOS  2023NE001407  D5SAFUSASOC   \n",
       "35                             MOBILIARIO EM GERAL  2023NE001408  D5SAFUSASOC   \n",
       "36               APARELHOS E UTENSILIOS DOMESTICOS  2023NE001405  D5SAFUSASOC   \n",
       "37                             MOBILIARIO EM GERAL  2023NE000981  I3DAFUNADOM   \n",
       "38                             MOBILIARIO EM GERAL  2023NE000980  I3DAFUNADOM   \n",
       "39              EQUIPAMENTOS DE TIC - COMPUTADORES  2023NE001414  C1ENCONDETM   \n",
       "40                          ALIMENTOS PARA ANIMAIS  2023NE001054  E6RVPLJALIE   \n",
       "41                          ALIMENTOS PARA ANIMAIS  2023NE001055  E6RVPLJALIE   \n",
       "42                          ALIMENTOS PARA ANIMAIS  2023NE001066  E6RVPLJALIE   \n",
       "43                          ALIMENTOS PARA ANIMAIS  2023NE001062  E6RVPLJALIE   \n",
       "44           MATERIAL DE TIC - MATERIAL DE CONSUMO  2023NE001074  K9CCMSIINFO   \n",
       "45           MATERIAL DE TIC - MATERIAL DE CONSUMO  2023NE001078  K9CCMSIINFO   \n",
       "46                          ALIMENTOS PARA ANIMAIS  2023NE001096  E6RVPLJALIE   \n",
       "47                          ALIMENTOS PARA ANIMAIS  2023NE001097  E6RVPLJALIE   \n",
       "\n",
       "                                        NOME_PI PROGRAMA   PTRES TIPO  \\\n",
       "0                 A1QR - QUANTITATIVO DE RANCHO     0032  171397  ANO   \n",
       "1                 A1QR - QUANTITATIVO DE RANCHO     0032  171397  ANO   \n",
       "2                 ESCO - QUANTITATIVO DE RANCHO     0032  171397  ANO   \n",
       "3                                   A5PA - PASA     0032  171397  ANO   \n",
       "4                                   A5PA - PASA     0032  171397  ANO   \n",
       "5                        CAPACITACAO DE PESSOAL     6012  171423  ANO   \n",
       "6                     MANUTENCAO DE BENS MOVEIS     6012  215839  ANO   \n",
       "7                           ADMINISTRACAO DE OM     0032  171460  ANO   \n",
       "8                         REMONTA E VETERINÁRIA     6012  193910  ANO   \n",
       "9                   COMBUSTIVEL E LUBRIFICANTES     6012  215839  ANO   \n",
       "10    DESCENTRALIZACAO RECURSOS MOTOMECANIZACAO     6012  171470  ANO   \n",
       "11                       CAPACITACAO DE PESSOAL     6012  171423  ANO   \n",
       "12                A1QR - QUANTITATIVO DE RANCHO     0032  171397  ANO   \n",
       "13                A1QR - QUANTITATIVO DE RANCHO     0032  171397  ANO   \n",
       "14                A1QR - QUANTITATIVO DE RANCHO     0032  171397  ANO   \n",
       "15                A1QR - QUANTITATIVO DE RANCHO     0032  171397  ANO   \n",
       "16                A1QR - QUANTITATIVO DE RANCHO     0032  171397  ANO   \n",
       "17                A1QR - QUANTITATIVO DE RANCHO     0032  171397  ANO   \n",
       "18                       CAPACITACAO DE PESSOAL     6012  171423  ANO   \n",
       "19                       CAPACITACAO DE PESSOAL     6012  171423  ANO   \n",
       "20                       CAPACITACAO DE PESSOAL     6012  171423  ANO   \n",
       "21                       CAPACITACAO DE PESSOAL     6012  171423  ANO   \n",
       "22                       CAPACITACAO DE PESSOAL     6012  171423  ANO   \n",
       "23                           ASSISTENCIA SOCIAL     0032  215846  ANO   \n",
       "24                          ADMINISTRACAO DE OM     0032  171460  ANO   \n",
       "25                          ADMINISTRACAO DE OM     0032  171460  ANO   \n",
       "26                          ADMINISTRACAO DE OM     0032  171460  ANO   \n",
       "27                           ASSISTENCIA SOCIAL     0032  215846  ANO   \n",
       "28                          ADMINISTRACAO DE OM     0032  171460  ANO   \n",
       "29                          ADMINISTRACAO DE OM     0032  171460  ANO   \n",
       "30                           ASSISTENCIA SOCIAL     0032  215846  ANO   \n",
       "31                          ADMINISTRACAO DE OM     0032  171460  ANO   \n",
       "32                       CAPACITACAO DE PESSOAL     6012  171423  ANO   \n",
       "33                           ASSISTENCIA SOCIAL     0032  215846  ANO   \n",
       "34                           ASSISTENCIA SOCIAL     0032  215846  ANO   \n",
       "35                           ASSISTENCIA SOCIAL     0032  215846  ANO   \n",
       "36                           ASSISTENCIA SOCIAL     0032  215846  ANO   \n",
       "37                          ADMINISTRACAO DE OM     0032  171460  ANO   \n",
       "38                          ADMINISTRACAO DE OM     0032  171460  ANO   \n",
       "39               CONCURSOS AS ESCOLAS MILITARES     0032  171502  ANO   \n",
       "40                    ALIMENTACAO PARA EQUINOS.     6012  193910  ANO   \n",
       "41                    ALIMENTACAO PARA EQUINOS.     6012  193910  ANO   \n",
       "42                    ALIMENTACAO PARA EQUINOS.     6012  193910  ANO   \n",
       "43                    ALIMENTACAO PARA EQUINOS.     6012  193910  ANO   \n",
       "44  MNT DE SISTEMAS DE INFORMACãO E COMUNICACãO     6012  204334  ANO   \n",
       "45  MNT DE SISTEMAS DE INFORMACãO E COMUNICACãO     6012  204334  ANO   \n",
       "46                    ALIMENTACAO PARA EQUINOS.     6012  193910  ANO   \n",
       "47                    ALIMENTACAO PARA EQUINOS.     6012  193910  ANO   \n",
       "\n",
       "       TIPO_NE                                              LOCAL UF_CREDOR  \\\n",
       "0       GLOBAL  AV. SETE DE SETEMBRO, 628, CENTRO, TRES CORAÇÕ...        MG   \n",
       "1   ESTIMATIVO  AV. SETE DE SETEMBRO, 628, CENTRO, TRES CORAÇÕ...        SP   \n",
       "2       GLOBAL  AV. SETE DE SETEMBRO, 628, CENTRO, TRES CORAÇÕ...        MG   \n",
       "3    ORDINARIO  ESCOLA DE SARGENTOS DAS ARMAS, AVENIDA SETE DE...        SC   \n",
       "4    ORDINARIO                      ESCOLA DE SARGENTOS DAS ARMAS        MG   \n",
       "5       GLOBAL  ESCOLA DE SARGENTOS DAS ARMAS  - AVENIDA SETE ...        SP   \n",
       "6    ORDINARIO                      ESCOLA DE SARGENTOS DAS ARMAS        RJ   \n",
       "7    ORDINARIO  ESCOLA DE SARGENTOS DAS ARMAS  - AVENIDA SETE ...        GO   \n",
       "8       GLOBAL  ESCOLA DE SARGENTOS DAS ARMAS  - AVENIDA SETE ...        MG   \n",
       "9    ORDINARIO  ESCOLA DE SARGENTOS DAS ARMAS  - AVENIDA SETE ...        MS   \n",
       "10   ORDINARIO  ESCOLA DE SARGENTOS DAS ARMAS, AVENIDA SETE DE...        RS   \n",
       "11   ORDINARIO  ESCOLA DE SARGENTOS DAS ARMAS  - AVENIDA SETE ...        MG   \n",
       "12      GLOBAL  AV. SETE DE SETEMBRO, 628, CENTRO, TRES CORAÇÕ...        MG   \n",
       "13      GLOBAL  AV. SETE DE SETEMBRO, 628, CENTRO, TRES CORAÇÕ...        MG   \n",
       "14      GLOBAL  AV. SETE DE SETEMBRO, 628, CENTRO, TRES CORAÇÕ...        MG   \n",
       "15      GLOBAL  AV. SETE DE SETEMBRO, 628, CENTRO, TRES CORAÇÕ...        SP   \n",
       "16      GLOBAL  AV. SETE DE SETEMBRO, 628, CENTRO, TRES CORAÇÕ...        MG   \n",
       "17      GLOBAL  AV. SETE DE SETEMBRO, 628, CENTRO, TRES CORAÇÕ...        MG   \n",
       "18   ORDINARIO                      ESCOLA DE SARGENTOS DAS ARMAS        AM   \n",
       "19   ORDINARIO                      ESCOLA DE SARGENTOS DAS ARMAS        BA   \n",
       "20   ORDINARIO                      ESCOLA DE SARGENTOS DAS ARMAS        SP   \n",
       "21   ORDINARIO                      ESCOLA DE SARGENTOS DAS ARMAS        RJ   \n",
       "22   ORDINARIO                      ESCOLA DE SARGENTOS DAS ARMAS        MG   \n",
       "23   ORDINARIO                      ESCOLA DE SARGENTOS DAS ARMAS        SP   \n",
       "24   ORDINARIO  ESCOLA DE SARGENTOS DAS ARMAS  - AVENIDA SETE ...        MG   \n",
       "25   ORDINARIO  ESCOLA DE SARGENTOS DAS ARMAS  - AVENIDA SETE ...        SC   \n",
       "26   ORDINARIO  ESCOLA DE SARGENTOS DAS ARMAS  - AVENIDA SETE ...        MG   \n",
       "27   ORDINARIO                      ESCOLA DE SARGENTOS DAS ARMAS        SC   \n",
       "28   ORDINARIO  ESCOLA DE SARGENTOS DAS ARMAS  - AVENIDA SETE ...        SC   \n",
       "29   ORDINARIO  ESCOLA DE SARGENTOS DAS ARMAS  - AVENIDA SETE ...        SC   \n",
       "30   ORDINARIO                      ESCOLA DE SARGENTOS DAS ARMAS        SC   \n",
       "31   ORDINARIO  ESCOLA DE SARGENTOS DAS ARMAS  - AVENIDA SETE ...        SC   \n",
       "32   ORDINARIO  ESCOLA DE SARGENTOS DAS ARMAS  - AVENIDA SETE ...        RJ   \n",
       "33   ORDINARIO  ESCOLA DE SARGENTOS DAS ARMAS  - AVENIDA SETE ...        MG   \n",
       "34   ORDINARIO  ESCOLA DE SARGENTOS DAS ARMAS  - AVENIDA SETE ...        MG   \n",
       "35   ORDINARIO  ESCOLA DE SARGENTOS DAS ARMAS  - AVENIDA SETE ...        SC   \n",
       "36   ORDINARIO  ESCOLA DE SARGENTOS DAS ARMAS  - AVENIDA SETE ...        PI   \n",
       "37   ORDINARIO  ESCOLA DE SARGENTOS DAS ARMAS  - AVENIDA SETE ...        SC   \n",
       "38   ORDINARIO  ESCOLA DE SARGENTOS DAS ARMAS  - AVENIDA SETE ...        SC   \n",
       "39   ORDINARIO  ESCOLA DE SARGENTOS DAS ARMAS  - AVENIDA SETE ...        BA   \n",
       "40      GLOBAL  ESCOLA DE SARGENTOS DAS ARMAS  - AVENIDA SETE ...        ES   \n",
       "41      GLOBAL  ESCOLA DE SARGENTOS DAS ARMAS  - AVENIDA SETE ...        RS   \n",
       "42   ORDINARIO  ESCOLA DE SARGENTOS DAS ARMAS  - AVENIDA SETE ...        ES   \n",
       "43   ORDINARIO  ESCOLA DE SARGENTOS DAS ARMAS  - AVENIDA SETE ...        ES   \n",
       "44   ORDINARIO                      ESCOLA DE SARGENTOS DAS ARMAS        MG   \n",
       "45   ORDINARIO  ESCOLA DE SARGENTOS DAS ARMAS  - AVENIDA SETE ...        PR   \n",
       "46      GLOBAL  ESCOLA DE SARGENTOS DAS ARMAS  - AVENIDA SETE ...        RS   \n",
       "47      GLOBAL  ESCOLA DE SARGENTOS DAS ARMAS  - AVENIDA SETE ...        ES   \n",
       "\n",
       "   UF_UG     UGR        NOME_UGR RADPI4 MEIPI3 SUFPI4  A_LIQUIDAR  \\\n",
       "0     MG  160504     COEX/GESTOR   E6SU    PLJ   A1QR     2670.68   \n",
       "1     MG  160504     COEX/GESTOR   E6SU    PLJ   A1QR     8728.03   \n",
       "2     MG  160504     COEX/GESTOR   E6SU    PLJ   ESCO    12930.36   \n",
       "3     MG  160504     COEX/GESTOR   E6SU    PLJ   A5PA     8837.42   \n",
       "4     MG  160504     COEX/GESTOR   E6SU    PLJ   A5PA     3044.75   \n",
       "5     MG  160503    DECEX/GESTOR   C4EN    MIL   CAPE     1850.42   \n",
       "6     MG  167504   COEX - GESTOR   E3PC    FSC   MABM     9999.67   \n",
       "7     MG  160073             DGO   I3DA    FUN   ADOM      840.00   \n",
       "8     MG  160504     COEX/GESTOR   E6RV    SOL   OUT4      955.00   \n",
       "9     MG  167504   COEX - GESTOR   E3PC    OPF   COLU        5.22   \n",
       "10    MG  160504     COEX/GESTOR   E5MM    PDR   DEGE      995.00   \n",
       "11    MG  160503    DECEX/GESTOR   C4EN    MIL   CAPE     1379.10   \n",
       "12    MG  160504     COEX/GESTOR   E6SU    PLJ   A1QR     5634.75   \n",
       "13    MG  160504     COEX/GESTOR   E6SU    PLJ   A1QR    10328.98   \n",
       "14    MG  160504     COEX/GESTOR   E6SU    PLJ   A1QR        0.01   \n",
       "15    MG  160504     COEX/GESTOR   E6SU    PLJ   A1QR     1195.00   \n",
       "16    MG  160504     COEX/GESTOR   E6SU    PLJ   A1QR     8372.52   \n",
       "17    MG  160504     COEX/GESTOR   E6SU    PLJ   A1QR    10570.83   \n",
       "18    MG  160503    DECEX/GESTOR   C4EN    MIL   CAPE    21342.00   \n",
       "19    MG  160503    DECEX/GESTOR   C4EN    MIL   CAPE    11454.00   \n",
       "20    MG  160503    DECEX/GESTOR   C4EN    MIL   CAPE     8846.35   \n",
       "21    MG  160503    DECEX/GESTOR   C4EN    MIL   CAPE    11469.19   \n",
       "22    MG  160503    DECEX/GESTOR   C4EN    MIL   CAPE      552.90   \n",
       "23    MG  167505             DGP   D5SA    FUS   ASOC     1130.06   \n",
       "24    MG  160073             DGO   I3DA    FUN   ADOM       69.00   \n",
       "25    MG  160073             DGO   I3DA    FUN   ADOM     3384.95   \n",
       "26    MG  160073             DGO   I3DA    FUN   ADOM       18.70   \n",
       "27    MG  167505             DGP   D5SA    FUS   ASOC     3047.67   \n",
       "28    MG  160073             DGO   I3DA    FUN   ADOM     2030.97   \n",
       "29    MG  160073             DGO   I3DA    FUN   ADOM     4063.56   \n",
       "30    MG  167505             DGP   D5SA    FUS   ASOC     2707.96   \n",
       "31    MG  160073             DGO   I3DA    FUN   ADOM     1618.00   \n",
       "32    MG  160503    DECEX/GESTOR   C4EN    MIL   CAPE    15430.00   \n",
       "33    MG  167505             DGP   D5SA    FUS   ASOC     1551.00   \n",
       "34    MG  167505             DGP   D5SA    FUS   ASOC      720.31   \n",
       "35    MG  167505             DGP   D5SA    FUS   ASOC     2460.00   \n",
       "36    MG  167505             DGP   D5SA    FUS   ASOC     3964.69   \n",
       "37    MG  160073             DGO   I3DA    FUN   ADOM     1166.00   \n",
       "38    MG  160073             DGO   I3DA    FUN   ADOM     1557.00   \n",
       "39    MG  167503  DECEX - GESTOR   C1EN    CON   DETM    21864.00   \n",
       "40    MG  160504     COEX/GESTOR   E6RV    PLJ   ALIE     4632.20   \n",
       "41    MG  160504     COEX/GESTOR   E6RV    PLJ   ALIE    13171.28   \n",
       "42    MG  160504     COEX/GESTOR   E6RV    PLJ   ALIE     1056.71   \n",
       "43    MG  160504     COEX/GESTOR   E6RV    PLJ   ALIE     1056.71   \n",
       "44    MG  160035    DCT - GESTOR   K9CC    MSI   INFO     6396.00   \n",
       "45    MG  160035    DCT - GESTOR   K9CC    MSI   INFO     2249.00   \n",
       "46    MG  160504     COEX/GESTOR   E6RV    PLJ   ALIE    63611.68   \n",
       "47    MG  160504     COEX/GESTOR   E6RV    PLJ   ALIE    57808.20   \n",
       "\n",
       "    LIQUIDADO_A_PAGAR  TOTAL_A_PAGAR       PAGO  \n",
       "0                 0.0        2670.68   94485.32  \n",
       "1                 0.0        8728.03  171196.20  \n",
       "2                 0.0       12930.36  123555.47  \n",
       "3                 0.0        8837.42       0.00  \n",
       "4                 0.0        3044.75       0.00  \n",
       "5                 0.0        1850.42       0.00  \n",
       "6                 0.0        9999.67       0.00  \n",
       "7                 0.0         840.00       0.00  \n",
       "8                 0.0         955.00    3830.00  \n",
       "9                 0.0           5.22       0.00  \n",
       "10                0.0         995.00       0.00  \n",
       "11                0.0        1379.10       0.00  \n",
       "12                0.0        5634.75    6752.07  \n",
       "13                0.0       10328.98    5850.22  \n",
       "14                0.0           0.01   14649.67  \n",
       "15                0.0        1195.00       0.00  \n",
       "16                0.0        8372.52   80611.35  \n",
       "17                0.0       10570.83  150428.65  \n",
       "18                0.0       21342.00       0.00  \n",
       "19                0.0       11454.00       0.00  \n",
       "20                0.0        8846.35       0.00  \n",
       "21                0.0       11469.19       0.00  \n",
       "22                0.0         552.90       0.00  \n",
       "23                0.0        1130.06       0.00  \n",
       "24                0.0          69.00       0.00  \n",
       "25                0.0        3384.95       0.00  \n",
       "26                0.0          18.70       0.00  \n",
       "27                0.0        3047.67       0.00  \n",
       "28                0.0        2030.97       0.00  \n",
       "29                0.0        4063.56       0.00  \n",
       "30                0.0        2707.96       0.00  \n",
       "31                0.0        1618.00       0.00  \n",
       "32                0.0       15430.00       0.00  \n",
       "33                0.0        1551.00       0.00  \n",
       "34                0.0         720.31       0.00  \n",
       "35                0.0        2460.00       0.00  \n",
       "36                0.0        3964.69       0.00  \n",
       "37                0.0        1166.00       0.00  \n",
       "38                0.0        1557.00       0.00  \n",
       "39                0.0       21864.00       0.00  \n",
       "40            32200.0       36832.20   20976.00  \n",
       "41                0.0       13171.28   50440.40  \n",
       "42                0.0        1056.71       0.00  \n",
       "43                0.0        1056.71       0.00  \n",
       "44                0.0        6396.00       0.00  \n",
       "45                0.0        2249.00       0.00  \n",
       "46                0.0       63611.68       0.00  \n",
       "47                0.0       57808.20       0.00  "
      ]
     },
     "execution_count": 37,
     "metadata": {},
     "output_type": "execute_result"
    }
   ],
   "source": [
    "nd = ['449052', '339030' ]\n",
    "\n",
    "df_foco = df_teste.loc[df_teste['ND'].isin(nd) & (df_teste['DIAS'] > 60) & (df_teste['A_LIQUIDAR'] != 0), :].sort_values(by='DIAS', ascending=False).reset_index(drop=True)\n",
    "\n",
    "df_foco.reset_index(drop=True)\n",
    "\n"
   ]
  },
  {
   "cell_type": "markdown",
   "metadata": {},
   "source": [
    "### Recursos Liquidados a pagar"
   ]
  },
  {
   "cell_type": "code",
   "execution_count": 31,
   "metadata": {},
   "outputs": [
    {
     "data": {
      "text/html": [
       "<div>\n",
       "<style scoped>\n",
       "    .dataframe tbody tr th:only-of-type {\n",
       "        vertical-align: middle;\n",
       "    }\n",
       "\n",
       "    .dataframe tbody tr th {\n",
       "        vertical-align: top;\n",
       "    }\n",
       "\n",
       "    .dataframe thead th {\n",
       "        text-align: right;\n",
       "    }\n",
       "</style>\n",
       "<table border=\"1\" class=\"dataframe\">\n",
       "  <thead>\n",
       "    <tr style=\"text-align: right;\">\n",
       "      <th></th>\n",
       "      <th>UG</th>\n",
       "      <th>SIGLA UG</th>\n",
       "      <th>ACAO</th>\n",
       "      <th>NOME_ACAO</th>\n",
       "      <th>ANO</th>\n",
       "      <th>CREDOR</th>\n",
       "      <th>NOME_CREDOR</th>\n",
       "      <th>DATA</th>\n",
       "      <th>DIAS</th>\n",
       "      <th>ICFEX</th>\n",
       "      <th>NOME_ICFEX</th>\n",
       "      <th>ND</th>\n",
       "      <th>NOME_ND</th>\n",
       "      <th>NDSI</th>\n",
       "      <th>NOME_NDSI</th>\n",
       "      <th>NE</th>\n",
       "      <th>PI</th>\n",
       "      <th>NOME_PI</th>\n",
       "      <th>PROGRAMA</th>\n",
       "      <th>PTRES</th>\n",
       "      <th>TIPO</th>\n",
       "      <th>TIPO_NE</th>\n",
       "      <th>LOCAL</th>\n",
       "      <th>UF_CREDOR</th>\n",
       "      <th>UF_UG</th>\n",
       "      <th>UGR</th>\n",
       "      <th>NOME_UGR</th>\n",
       "      <th>RADPI4</th>\n",
       "      <th>MEIPI3</th>\n",
       "      <th>SUFPI4</th>\n",
       "      <th>A_LIQUIDAR</th>\n",
       "      <th>LIQUIDADO_A_PAGAR</th>\n",
       "      <th>TOTAL_A_PAGAR</th>\n",
       "      <th>PAGO</th>\n",
       "    </tr>\n",
       "  </thead>\n",
       "  <tbody>\n",
       "    <tr>\n",
       "      <th>0</th>\n",
       "      <td>167129</td>\n",
       "      <td>ESA</td>\n",
       "      <td>2000</td>\n",
       "      <td>ADMINISTRACAO DA UNIDADE</td>\n",
       "      <td>2023</td>\n",
       "      <td>08906031000118</td>\n",
       "      <td>AMAZING METALURGICA LTDA</td>\n",
       "      <td>2023-08-28</td>\n",
       "      <td>66</td>\n",
       "      <td>160533</td>\n",
       "      <td>4º CGCFEX</td>\n",
       "      <td>449052</td>\n",
       "      <td>EQUIPAMENTOS E MATERIAL PERMANENTE</td>\n",
       "      <td>44905242</td>\n",
       "      <td>MOBILIARIO EM GERAL</td>\n",
       "      <td>2023NE001428</td>\n",
       "      <td>C1ENCONDETM</td>\n",
       "      <td>CONCURSOS AS ESCOLAS MILITARES</td>\n",
       "      <td>0032</td>\n",
       "      <td>171502</td>\n",
       "      <td>ANO</td>\n",
       "      <td>ORDINARIO</td>\n",
       "      <td>ESCOLA DE SARGENTOS DAS ARMAS</td>\n",
       "      <td>PR</td>\n",
       "      <td>MG</td>\n",
       "      <td>167503</td>\n",
       "      <td>DECEX - GESTOR</td>\n",
       "      <td>C1EN</td>\n",
       "      <td>CON</td>\n",
       "      <td>DETM</td>\n",
       "      <td>0.0</td>\n",
       "      <td>139000.0</td>\n",
       "      <td>139000.0</td>\n",
       "      <td>0.0</td>\n",
       "    </tr>\n",
       "    <tr>\n",
       "      <th>1</th>\n",
       "      <td>167129</td>\n",
       "      <td>ESA</td>\n",
       "      <td>2004</td>\n",
       "      <td>ASSISTENCIA MEDICA E ODONTOLOGICA AOS</td>\n",
       "      <td>2023</td>\n",
       "      <td>26401571000121</td>\n",
       "      <td>TRES PHARMA DISTRIBUIDORA E SERVICOS LTDA</td>\n",
       "      <td>2023-10-05</td>\n",
       "      <td>28</td>\n",
       "      <td>160533</td>\n",
       "      <td>4º CGCFEX</td>\n",
       "      <td>339030</td>\n",
       "      <td>MATERIAL DE CONSUMO</td>\n",
       "      <td>33903009</td>\n",
       "      <td>MATERIAL FARMACOLOGICO</td>\n",
       "      <td>2023NE001633</td>\n",
       "      <td>D8SAFUSMTOS</td>\n",
       "      <td>MEDICAMENTOS DE ALTO CUSTO</td>\n",
       "      <td>0032</td>\n",
       "      <td>215845</td>\n",
       "      <td>ANO</td>\n",
       "      <td>GLOBAL</td>\n",
       "      <td>ESCOLA DE SARGENTOS DAS ARMAS  - AVENIDA SETE ...</td>\n",
       "      <td>MG</td>\n",
       "      <td>MG</td>\n",
       "      <td>167505</td>\n",
       "      <td>DGP</td>\n",
       "      <td>D8SA</td>\n",
       "      <td>FUS</td>\n",
       "      <td>MTOS</td>\n",
       "      <td>0.0</td>\n",
       "      <td>48731.4</td>\n",
       "      <td>48731.4</td>\n",
       "      <td>0.0</td>\n",
       "    </tr>\n",
       "  </tbody>\n",
       "</table>\n",
       "</div>"
      ],
      "text/plain": [
       "       UG SIGLA UG  ACAO                              NOME_ACAO   ANO  \\\n",
       "0  167129      ESA  2000               ADMINISTRACAO DA UNIDADE  2023   \n",
       "1  167129      ESA  2004  ASSISTENCIA MEDICA E ODONTOLOGICA AOS  2023   \n",
       "\n",
       "           CREDOR                                NOME_CREDOR       DATA  DIAS  \\\n",
       "0  08906031000118                   AMAZING METALURGICA LTDA 2023-08-28    66   \n",
       "1  26401571000121  TRES PHARMA DISTRIBUIDORA E SERVICOS LTDA 2023-10-05    28   \n",
       "\n",
       "    ICFEX NOME_ICFEX      ND                             NOME_ND      NDSI  \\\n",
       "0  160533  4º CGCFEX  449052  EQUIPAMENTOS E MATERIAL PERMANENTE  44905242   \n",
       "1  160533  4º CGCFEX  339030                 MATERIAL DE CONSUMO  33903009   \n",
       "\n",
       "                NOME_NDSI            NE           PI  \\\n",
       "0     MOBILIARIO EM GERAL  2023NE001428  C1ENCONDETM   \n",
       "1  MATERIAL FARMACOLOGICO  2023NE001633  D8SAFUSMTOS   \n",
       "\n",
       "                          NOME_PI PROGRAMA   PTRES TIPO    TIPO_NE  \\\n",
       "0  CONCURSOS AS ESCOLAS MILITARES     0032  171502  ANO  ORDINARIO   \n",
       "1      MEDICAMENTOS DE ALTO CUSTO     0032  215845  ANO     GLOBAL   \n",
       "\n",
       "                                               LOCAL UF_CREDOR UF_UG     UGR  \\\n",
       "0                      ESCOLA DE SARGENTOS DAS ARMAS        PR    MG  167503   \n",
       "1  ESCOLA DE SARGENTOS DAS ARMAS  - AVENIDA SETE ...        MG    MG  167505   \n",
       "\n",
       "         NOME_UGR RADPI4 MEIPI3 SUFPI4  A_LIQUIDAR  LIQUIDADO_A_PAGAR  \\\n",
       "0  DECEX - GESTOR   C1EN    CON   DETM         0.0           139000.0   \n",
       "1             DGP   D8SA    FUS   MTOS         0.0            48731.4   \n",
       "\n",
       "   TOTAL_A_PAGAR  PAGO  \n",
       "0       139000.0   0.0  \n",
       "1        48731.4   0.0  "
      ]
     },
     "execution_count": 31,
     "metadata": {},
     "output_type": "execute_result"
    }
   ],
   "source": [
    "df_liqui_a_pagar =df_teste[ df_teste['LIQUIDADO_A_PAGAR'] != 0 ]\n",
    "\n",
    "df_liqui_a_pagar.sort_values(by='LIQUIDADO_A_PAGAR', ascending=False).reset_index(drop=True).head(2)"
   ]
  },
  {
   "cell_type": "code",
   "execution_count": 32,
   "metadata": {},
   "outputs": [
    {
     "data": {
      "text/plain": [
       "'R$ 393.153,53'"
      ]
     },
     "execution_count": 32,
     "metadata": {},
     "output_type": "execute_result"
    }
   ],
   "source": [
    "total_liqui_a_pagar = df_liqui_a_pagar['LIQUIDADO_A_PAGAR'].sum()\n",
    "locale.currency(total_liqui_a_pagar, grouping=True)"
   ]
  },
  {
   "cell_type": "code",
   "execution_count": 33,
   "metadata": {},
   "outputs": [
    {
     "data": {
      "application/vnd.plotly.v1+json": {
       "config": {
        "plotlyServerURL": "https://plot.ly"
       },
       "data": [
        {
         "alignmentgroup": "True",
         "cliponaxis": false,
         "legendgroup": "",
         "marker": {
          "color": [
           148441.53,
           48731.4,
           32200,
           25943,
           24059,
           22613.9,
           17975,
           13873.35,
           11502.029999999999,
           10415.3,
           5360.4,
           3781.19,
           3364.08,
           3204.87,
           3160,
           3141.5,
           1985.96,
           1956.2,
           1831.7400000000002,
           1817.98,
           1713.3,
           1607,
           1461,
           960,
           687.8,
           551.8,
           384,
           240.2,
           190
          ],
          "coloraxis": "coloraxis",
          "pattern": {
           "shape": ""
          }
         },
         "name": "",
         "offsetgroup": "",
         "orientation": "v",
         "showlegend": false,
         "textposition": "outside",
         "texttemplate": "%{y:.3s}",
         "type": "bar",
         "x": [
          "MOBILIARIO EM GERAL",
          "MATERIAL FARMACOLOGICO",
          "ALIMENTOS PARA ANIMAIS",
          "EQUIPAMENTOS DE TIC - COMPUTADORES",
          "PECAS NAO INCORPORAVEIS A IMOVEIS",
          "MATERIAL DE TIC - MATERIAL DE CONSUMO",
          "UNIFORMES, TECIDOS E AVIAMENTOS",
          "MATERIAL P/ MANUT.DE BENS IMOVEIS/INSTALACOES",
          "DIARIAS NO PAIS",
          "MATERIAL DE LIMPEZA E PROD. DE HIGIENIZACAO",
          "MANUTENCAO E CONSERV. DE BENS IMOVEIS",
          "SERVICOS DE AGUA E ESGOTO",
          "TRANSPORTE DE SERVIDORES",
          "LIMPEZA E CONSERVACAO",
          "MAQUINAS, UTENSILIOS E EQUIPAMENTOS  DIVERSOS",
          "MATERIAL DE COUDELARIA OU DE USO ZOOTECNICO",
          "SERVICOS DOMESTICOS",
          "MATERIAL DE ACONDICIONAMENTO E EMBALAGEM",
          "SERVICOS MEDICOS E ODONTOLOGICOS",
          "CONTRIB.PREVIDENCIARIAS-SERVICOS DE TERCEIROS",
          "MATERIAL P/ MANUTENCAO DE VEICULOS",
          "MATERIAL ELETRICO E ELETRONICO",
          "SERVICOS DE TELECOMUNICACOES",
          "SERV.MEDICO-HOSPITAL.,ODONTOL.E LABORATORIAIS",
          "MATERIAL DE PROTECAO E SEGURANCA",
          "APARELHOS E UTENSILIOS DOMESTICOS",
          "APARELHOS DE MEDICAO E ORIENTACAO",
          "EQUIPAMENTO DE PROTECAO, SEGURANCA E  SOCORRO",
          "SERVICOS GRAFICOS E EDITORIAIS"
         ],
         "xaxis": "x",
         "y": [
          148441.53,
          48731.4,
          32200,
          25943,
          24059,
          22613.9,
          17975,
          13873.35,
          11502.029999999999,
          10415.3,
          5360.4,
          3781.19,
          3364.08,
          3204.87,
          3160,
          3141.5,
          1985.96,
          1956.2,
          1831.7400000000002,
          1817.98,
          1713.3,
          1607,
          1461,
          960,
          687.8,
          551.8,
          384,
          240.2,
          190
         ],
         "yaxis": "y"
        }
       ],
       "layout": {
        "barmode": "relative",
        "coloraxis": {
         "colorbar": {
          "title": {
           "text": "Liquidado a Pagar"
          }
         },
         "colorscale": [
          [
           0,
           "rgb(255,245,240)"
          ],
          [
           0.125,
           "rgb(254,224,210)"
          ],
          [
           0.25,
           "rgb(252,187,161)"
          ],
          [
           0.375,
           "rgb(252,146,114)"
          ],
          [
           0.5,
           "rgb(251,106,74)"
          ],
          [
           0.625,
           "rgb(239,59,44)"
          ],
          [
           0.75,
           "rgb(203,24,29)"
          ],
          [
           0.875,
           "rgb(165,15,21)"
          ],
          [
           1,
           "rgb(103,0,13)"
          ]
         ]
        },
        "height": 900,
        "hovermode": "x unified",
        "legend": {
         "tracegroupgap": 0
        },
        "template": {
         "data": {
          "bar": [
           {
            "error_x": {
             "color": "#f2f5fa"
            },
            "error_y": {
             "color": "#f2f5fa"
            },
            "marker": {
             "line": {
              "color": "rgb(17,17,17)",
              "width": 0.5
             },
             "pattern": {
              "fillmode": "overlay",
              "size": 10,
              "solidity": 0.2
             }
            },
            "type": "bar"
           }
          ],
          "barpolar": [
           {
            "marker": {
             "line": {
              "color": "rgb(17,17,17)",
              "width": 0.5
             },
             "pattern": {
              "fillmode": "overlay",
              "size": 10,
              "solidity": 0.2
             }
            },
            "type": "barpolar"
           }
          ],
          "carpet": [
           {
            "aaxis": {
             "endlinecolor": "#A2B1C6",
             "gridcolor": "#506784",
             "linecolor": "#506784",
             "minorgridcolor": "#506784",
             "startlinecolor": "#A2B1C6"
            },
            "baxis": {
             "endlinecolor": "#A2B1C6",
             "gridcolor": "#506784",
             "linecolor": "#506784",
             "minorgridcolor": "#506784",
             "startlinecolor": "#A2B1C6"
            },
            "type": "carpet"
           }
          ],
          "choropleth": [
           {
            "colorbar": {
             "outlinewidth": 0,
             "ticks": ""
            },
            "type": "choropleth"
           }
          ],
          "contour": [
           {
            "colorbar": {
             "outlinewidth": 0,
             "ticks": ""
            },
            "colorscale": [
             [
              0,
              "#0d0887"
             ],
             [
              0.1111111111111111,
              "#46039f"
             ],
             [
              0.2222222222222222,
              "#7201a8"
             ],
             [
              0.3333333333333333,
              "#9c179e"
             ],
             [
              0.4444444444444444,
              "#bd3786"
             ],
             [
              0.5555555555555556,
              "#d8576b"
             ],
             [
              0.6666666666666666,
              "#ed7953"
             ],
             [
              0.7777777777777778,
              "#fb9f3a"
             ],
             [
              0.8888888888888888,
              "#fdca26"
             ],
             [
              1,
              "#f0f921"
             ]
            ],
            "type": "contour"
           }
          ],
          "contourcarpet": [
           {
            "colorbar": {
             "outlinewidth": 0,
             "ticks": ""
            },
            "type": "contourcarpet"
           }
          ],
          "heatmap": [
           {
            "colorbar": {
             "outlinewidth": 0,
             "ticks": ""
            },
            "colorscale": [
             [
              0,
              "#0d0887"
             ],
             [
              0.1111111111111111,
              "#46039f"
             ],
             [
              0.2222222222222222,
              "#7201a8"
             ],
             [
              0.3333333333333333,
              "#9c179e"
             ],
             [
              0.4444444444444444,
              "#bd3786"
             ],
             [
              0.5555555555555556,
              "#d8576b"
             ],
             [
              0.6666666666666666,
              "#ed7953"
             ],
             [
              0.7777777777777778,
              "#fb9f3a"
             ],
             [
              0.8888888888888888,
              "#fdca26"
             ],
             [
              1,
              "#f0f921"
             ]
            ],
            "type": "heatmap"
           }
          ],
          "heatmapgl": [
           {
            "colorbar": {
             "outlinewidth": 0,
             "ticks": ""
            },
            "colorscale": [
             [
              0,
              "#0d0887"
             ],
             [
              0.1111111111111111,
              "#46039f"
             ],
             [
              0.2222222222222222,
              "#7201a8"
             ],
             [
              0.3333333333333333,
              "#9c179e"
             ],
             [
              0.4444444444444444,
              "#bd3786"
             ],
             [
              0.5555555555555556,
              "#d8576b"
             ],
             [
              0.6666666666666666,
              "#ed7953"
             ],
             [
              0.7777777777777778,
              "#fb9f3a"
             ],
             [
              0.8888888888888888,
              "#fdca26"
             ],
             [
              1,
              "#f0f921"
             ]
            ],
            "type": "heatmapgl"
           }
          ],
          "histogram": [
           {
            "marker": {
             "pattern": {
              "fillmode": "overlay",
              "size": 10,
              "solidity": 0.2
             }
            },
            "type": "histogram"
           }
          ],
          "histogram2d": [
           {
            "colorbar": {
             "outlinewidth": 0,
             "ticks": ""
            },
            "colorscale": [
             [
              0,
              "#0d0887"
             ],
             [
              0.1111111111111111,
              "#46039f"
             ],
             [
              0.2222222222222222,
              "#7201a8"
             ],
             [
              0.3333333333333333,
              "#9c179e"
             ],
             [
              0.4444444444444444,
              "#bd3786"
             ],
             [
              0.5555555555555556,
              "#d8576b"
             ],
             [
              0.6666666666666666,
              "#ed7953"
             ],
             [
              0.7777777777777778,
              "#fb9f3a"
             ],
             [
              0.8888888888888888,
              "#fdca26"
             ],
             [
              1,
              "#f0f921"
             ]
            ],
            "type": "histogram2d"
           }
          ],
          "histogram2dcontour": [
           {
            "colorbar": {
             "outlinewidth": 0,
             "ticks": ""
            },
            "colorscale": [
             [
              0,
              "#0d0887"
             ],
             [
              0.1111111111111111,
              "#46039f"
             ],
             [
              0.2222222222222222,
              "#7201a8"
             ],
             [
              0.3333333333333333,
              "#9c179e"
             ],
             [
              0.4444444444444444,
              "#bd3786"
             ],
             [
              0.5555555555555556,
              "#d8576b"
             ],
             [
              0.6666666666666666,
              "#ed7953"
             ],
             [
              0.7777777777777778,
              "#fb9f3a"
             ],
             [
              0.8888888888888888,
              "#fdca26"
             ],
             [
              1,
              "#f0f921"
             ]
            ],
            "type": "histogram2dcontour"
           }
          ],
          "mesh3d": [
           {
            "colorbar": {
             "outlinewidth": 0,
             "ticks": ""
            },
            "type": "mesh3d"
           }
          ],
          "parcoords": [
           {
            "line": {
             "colorbar": {
              "outlinewidth": 0,
              "ticks": ""
             }
            },
            "type": "parcoords"
           }
          ],
          "pie": [
           {
            "automargin": true,
            "type": "pie"
           }
          ],
          "scatter": [
           {
            "marker": {
             "line": {
              "color": "#283442"
             }
            },
            "type": "scatter"
           }
          ],
          "scatter3d": [
           {
            "line": {
             "colorbar": {
              "outlinewidth": 0,
              "ticks": ""
             }
            },
            "marker": {
             "colorbar": {
              "outlinewidth": 0,
              "ticks": ""
             }
            },
            "type": "scatter3d"
           }
          ],
          "scattercarpet": [
           {
            "marker": {
             "colorbar": {
              "outlinewidth": 0,
              "ticks": ""
             }
            },
            "type": "scattercarpet"
           }
          ],
          "scattergeo": [
           {
            "marker": {
             "colorbar": {
              "outlinewidth": 0,
              "ticks": ""
             }
            },
            "type": "scattergeo"
           }
          ],
          "scattergl": [
           {
            "marker": {
             "line": {
              "color": "#283442"
             }
            },
            "type": "scattergl"
           }
          ],
          "scattermapbox": [
           {
            "marker": {
             "colorbar": {
              "outlinewidth": 0,
              "ticks": ""
             }
            },
            "type": "scattermapbox"
           }
          ],
          "scatterpolar": [
           {
            "marker": {
             "colorbar": {
              "outlinewidth": 0,
              "ticks": ""
             }
            },
            "type": "scatterpolar"
           }
          ],
          "scatterpolargl": [
           {
            "marker": {
             "colorbar": {
              "outlinewidth": 0,
              "ticks": ""
             }
            },
            "type": "scatterpolargl"
           }
          ],
          "scatterternary": [
           {
            "marker": {
             "colorbar": {
              "outlinewidth": 0,
              "ticks": ""
             }
            },
            "type": "scatterternary"
           }
          ],
          "surface": [
           {
            "colorbar": {
             "outlinewidth": 0,
             "ticks": ""
            },
            "colorscale": [
             [
              0,
              "#0d0887"
             ],
             [
              0.1111111111111111,
              "#46039f"
             ],
             [
              0.2222222222222222,
              "#7201a8"
             ],
             [
              0.3333333333333333,
              "#9c179e"
             ],
             [
              0.4444444444444444,
              "#bd3786"
             ],
             [
              0.5555555555555556,
              "#d8576b"
             ],
             [
              0.6666666666666666,
              "#ed7953"
             ],
             [
              0.7777777777777778,
              "#fb9f3a"
             ],
             [
              0.8888888888888888,
              "#fdca26"
             ],
             [
              1,
              "#f0f921"
             ]
            ],
            "type": "surface"
           }
          ],
          "table": [
           {
            "cells": {
             "fill": {
              "color": "#506784"
             },
             "line": {
              "color": "rgb(17,17,17)"
             }
            },
            "header": {
             "fill": {
              "color": "#2a3f5f"
             },
             "line": {
              "color": "rgb(17,17,17)"
             }
            },
            "type": "table"
           }
          ]
         },
         "layout": {
          "annotationdefaults": {
           "arrowcolor": "#f2f5fa",
           "arrowhead": 0,
           "arrowwidth": 1
          },
          "autotypenumbers": "strict",
          "coloraxis": {
           "colorbar": {
            "outlinewidth": 0,
            "ticks": ""
           }
          },
          "colorscale": {
           "diverging": [
            [
             0,
             "#8e0152"
            ],
            [
             0.1,
             "#c51b7d"
            ],
            [
             0.2,
             "#de77ae"
            ],
            [
             0.3,
             "#f1b6da"
            ],
            [
             0.4,
             "#fde0ef"
            ],
            [
             0.5,
             "#f7f7f7"
            ],
            [
             0.6,
             "#e6f5d0"
            ],
            [
             0.7,
             "#b8e186"
            ],
            [
             0.8,
             "#7fbc41"
            ],
            [
             0.9,
             "#4d9221"
            ],
            [
             1,
             "#276419"
            ]
           ],
           "sequential": [
            [
             0,
             "#0d0887"
            ],
            [
             0.1111111111111111,
             "#46039f"
            ],
            [
             0.2222222222222222,
             "#7201a8"
            ],
            [
             0.3333333333333333,
             "#9c179e"
            ],
            [
             0.4444444444444444,
             "#bd3786"
            ],
            [
             0.5555555555555556,
             "#d8576b"
            ],
            [
             0.6666666666666666,
             "#ed7953"
            ],
            [
             0.7777777777777778,
             "#fb9f3a"
            ],
            [
             0.8888888888888888,
             "#fdca26"
            ],
            [
             1,
             "#f0f921"
            ]
           ],
           "sequentialminus": [
            [
             0,
             "#0d0887"
            ],
            [
             0.1111111111111111,
             "#46039f"
            ],
            [
             0.2222222222222222,
             "#7201a8"
            ],
            [
             0.3333333333333333,
             "#9c179e"
            ],
            [
             0.4444444444444444,
             "#bd3786"
            ],
            [
             0.5555555555555556,
             "#d8576b"
            ],
            [
             0.6666666666666666,
             "#ed7953"
            ],
            [
             0.7777777777777778,
             "#fb9f3a"
            ],
            [
             0.8888888888888888,
             "#fdca26"
            ],
            [
             1,
             "#f0f921"
            ]
           ]
          },
          "colorway": [
           "#636efa",
           "#EF553B",
           "#00cc96",
           "#ab63fa",
           "#FFA15A",
           "#19d3f3",
           "#FF6692",
           "#B6E880",
           "#FF97FF",
           "#FECB52"
          ],
          "font": {
           "color": "#f2f5fa"
          },
          "geo": {
           "bgcolor": "rgb(17,17,17)",
           "lakecolor": "rgb(17,17,17)",
           "landcolor": "rgb(17,17,17)",
           "showlakes": true,
           "showland": true,
           "subunitcolor": "#506784"
          },
          "hoverlabel": {
           "align": "left"
          },
          "hovermode": "closest",
          "mapbox": {
           "style": "dark"
          },
          "paper_bgcolor": "rgb(17,17,17)",
          "plot_bgcolor": "rgb(17,17,17)",
          "polar": {
           "angularaxis": {
            "gridcolor": "#506784",
            "linecolor": "#506784",
            "ticks": ""
           },
           "bgcolor": "rgb(17,17,17)",
           "radialaxis": {
            "gridcolor": "#506784",
            "linecolor": "#506784",
            "ticks": ""
           }
          },
          "scene": {
           "xaxis": {
            "backgroundcolor": "rgb(17,17,17)",
            "gridcolor": "#506784",
            "gridwidth": 2,
            "linecolor": "#506784",
            "showbackground": true,
            "ticks": "",
            "zerolinecolor": "#C8D4E3"
           },
           "yaxis": {
            "backgroundcolor": "rgb(17,17,17)",
            "gridcolor": "#506784",
            "gridwidth": 2,
            "linecolor": "#506784",
            "showbackground": true,
            "ticks": "",
            "zerolinecolor": "#C8D4E3"
           },
           "zaxis": {
            "backgroundcolor": "rgb(17,17,17)",
            "gridcolor": "#506784",
            "gridwidth": 2,
            "linecolor": "#506784",
            "showbackground": true,
            "ticks": "",
            "zerolinecolor": "#C8D4E3"
           }
          },
          "shapedefaults": {
           "line": {
            "color": "#f2f5fa"
           }
          },
          "sliderdefaults": {
           "bgcolor": "#C8D4E3",
           "bordercolor": "rgb(17,17,17)",
           "borderwidth": 1,
           "tickwidth": 0
          },
          "ternary": {
           "aaxis": {
            "gridcolor": "#506784",
            "linecolor": "#506784",
            "ticks": ""
           },
           "baxis": {
            "gridcolor": "#506784",
            "linecolor": "#506784",
            "ticks": ""
           },
           "bgcolor": "rgb(17,17,17)",
           "caxis": {
            "gridcolor": "#506784",
            "linecolor": "#506784",
            "ticks": ""
           }
          },
          "title": {
           "x": 0.05
          },
          "updatemenudefaults": {
           "bgcolor": "#506784",
           "borderwidth": 0
          },
          "xaxis": {
           "automargin": true,
           "gridcolor": "#283442",
           "linecolor": "#506784",
           "ticks": "",
           "title": {
            "standoff": 15
           },
           "zerolinecolor": "#283442",
           "zerolinewidth": 2
          },
          "yaxis": {
           "automargin": true,
           "gridcolor": "#283442",
           "linecolor": "#506784",
           "ticks": "",
           "title": {
            "standoff": 15
           },
           "zerolinecolor": "#283442",
           "zerolinewidth": 2
          }
         }
        },
        "title": {
         "text": "Saldos liquidados a pagar por NDSI"
        },
        "xaxis": {
         "anchor": "y",
         "domain": [
          0,
          1
         ],
         "title": {
          "text": "Descrição do Subitem"
         }
        },
        "yaxis": {
         "anchor": "x",
         "domain": [
          0,
          1
         ],
         "title": {
          "text": "Liquidado a Pagar"
         },
         "type": "log"
        }
       }
      }
     },
     "metadata": {},
     "output_type": "display_data"
    }
   ],
   "source": [
    "df_aux = df_liqui_a_pagar.groupby(by='NOME_NDSI')['LIQUIDADO_A_PAGAR'].sum().sort_values( ascending=False).reset_index()\n",
    "\n",
    "fig = px.bar(df_aux,\n",
    "             x = 'NOME_NDSI',\n",
    "             y = 'LIQUIDADO_A_PAGAR',\n",
    "             log_y=True,\n",
    "             height=900,\n",
    "             title='Saldos liquidados a pagar por NDSI',\n",
    "             labels={'NOME_NDSI':'Descrição do Subitem', 'LIQUIDADO_A_PAGAR':'Liquidado a Pagar'},\n",
    "             text_auto='.3s',\n",
    "             color='LIQUIDADO_A_PAGAR',\n",
    "             color_continuous_scale = 'reds',\n",
    "             template='plotly_dark')\n",
    "fig.update_traces(textposition = 'outside', cliponaxis = False, hovertemplate=None)\n",
    "fig.update_layout(hovermode=\"x unified\")\n",
    "\n",
    "fig.show()"
   ]
  },
  {
   "cell_type": "code",
   "execution_count": 34,
   "metadata": {},
   "outputs": [
    {
     "data": {
      "text/html": [
       "<div>\n",
       "<style scoped>\n",
       "    .dataframe tbody tr th:only-of-type {\n",
       "        vertical-align: middle;\n",
       "    }\n",
       "\n",
       "    .dataframe tbody tr th {\n",
       "        vertical-align: top;\n",
       "    }\n",
       "\n",
       "    .dataframe thead th {\n",
       "        text-align: right;\n",
       "    }\n",
       "</style>\n",
       "<table border=\"1\" class=\"dataframe\">\n",
       "  <thead>\n",
       "    <tr style=\"text-align: right;\">\n",
       "      <th></th>\n",
       "      <th>UG</th>\n",
       "      <th>SIGLA UG</th>\n",
       "      <th>ACAO</th>\n",
       "      <th>NOME_ACAO</th>\n",
       "      <th>ANO</th>\n",
       "      <th>CREDOR</th>\n",
       "      <th>NOME_CREDOR</th>\n",
       "      <th>DATA</th>\n",
       "      <th>DIAS</th>\n",
       "      <th>ICFEX</th>\n",
       "      <th>NOME_ICFEX</th>\n",
       "      <th>ND</th>\n",
       "      <th>NOME_ND</th>\n",
       "      <th>NDSI</th>\n",
       "      <th>NOME_NDSI</th>\n",
       "      <th>NE</th>\n",
       "      <th>PI</th>\n",
       "      <th>NOME_PI</th>\n",
       "      <th>PROGRAMA</th>\n",
       "      <th>PTRES</th>\n",
       "      <th>TIPO</th>\n",
       "      <th>TIPO_NE</th>\n",
       "      <th>LOCAL</th>\n",
       "      <th>UF_CREDOR</th>\n",
       "      <th>UF_UG</th>\n",
       "      <th>UGR</th>\n",
       "      <th>NOME_UGR</th>\n",
       "      <th>RADPI4</th>\n",
       "      <th>MEIPI3</th>\n",
       "      <th>SUFPI4</th>\n",
       "      <th>A_LIQUIDAR</th>\n",
       "      <th>LIQUIDADO_A_PAGAR</th>\n",
       "      <th>TOTAL_A_PAGAR</th>\n",
       "      <th>PAGO</th>\n",
       "    </tr>\n",
       "  </thead>\n",
       "  <tbody>\n",
       "    <tr>\n",
       "      <th>351</th>\n",
       "      <td>160129</td>\n",
       "      <td>ESA</td>\n",
       "      <td>212B</td>\n",
       "      <td>BENEFICIOS OBRIGATORIOS AOS SERVIDORE</td>\n",
       "      <td>2023</td>\n",
       "      <td>31669124000198</td>\n",
       "      <td>LS REFRIGERACAO LTDA</td>\n",
       "      <td>2023-04-18</td>\n",
       "      <td>198</td>\n",
       "      <td>160533</td>\n",
       "      <td>4º CGCFEX</td>\n",
       "      <td>449052</td>\n",
       "      <td>EQUIPAMENTOS E MATERIAL PERMANENTE</td>\n",
       "      <td>44905228</td>\n",
       "      <td>MAQUINAS E EQUIPAMENTOS DE NATUREZA INDUSTRIAL</td>\n",
       "      <td>2023NE000392</td>\n",
       "      <td>E6SUPLJA5PA</td>\n",
       "      <td>A5PA - PASA</td>\n",
       "      <td>0032</td>\n",
       "      <td>171397</td>\n",
       "      <td>ANO</td>\n",
       "      <td>ORDINARIO</td>\n",
       "      <td>ESCOLA DE SARGENTOS DAS ARMAS, AVENIDA SETE DE...</td>\n",
       "      <td>SC</td>\n",
       "      <td>MG</td>\n",
       "      <td>160504</td>\n",
       "      <td>COEX/GESTOR</td>\n",
       "      <td>E6SU</td>\n",
       "      <td>PLJ</td>\n",
       "      <td>A5PA</td>\n",
       "      <td>8837.42</td>\n",
       "      <td>0.0</td>\n",
       "      <td>8837.42</td>\n",
       "      <td>0.00</td>\n",
       "    </tr>\n",
       "    <tr>\n",
       "      <th>3063</th>\n",
       "      <td>167129</td>\n",
       "      <td>ESA</td>\n",
       "      <td>2004</td>\n",
       "      <td>ASSISTENCIA MEDICA E ODONTOLOGICA AOS</td>\n",
       "      <td>2023</td>\n",
       "      <td>46940235787</td>\n",
       "      <td>DAVILAN DE SOUZA PORCARO</td>\n",
       "      <td>2023-02-27</td>\n",
       "      <td>248</td>\n",
       "      <td>160533</td>\n",
       "      <td>4º CGCFEX</td>\n",
       "      <td>339036</td>\n",
       "      <td>OUTROS SERVICOS DE TERCEIROS - PESSOA FISICA</td>\n",
       "      <td>33903630</td>\n",
       "      <td>SERVICOS MEDICOS E ODONTOLOGICOS</td>\n",
       "      <td>2023NE000392</td>\n",
       "      <td>D8SAFUSPRSA</td>\n",
       "      <td>PROFISSIONAL DE SAUDE AUTONOMO</td>\n",
       "      <td>0032</td>\n",
       "      <td>215845</td>\n",
       "      <td>ANO</td>\n",
       "      <td>ESTIMATIVO</td>\n",
       "      <td>CLINICA/CONSULTÓRIO/HOSPITAL</td>\n",
       "      <td>MG</td>\n",
       "      <td>MG</td>\n",
       "      <td>167505</td>\n",
       "      <td>DGP</td>\n",
       "      <td>D8SA</td>\n",
       "      <td>FUS</td>\n",
       "      <td>PRSA</td>\n",
       "      <td>0.00</td>\n",
       "      <td>0.0</td>\n",
       "      <td>0.00</td>\n",
       "      <td>648.27</td>\n",
       "    </tr>\n",
       "  </tbody>\n",
       "</table>\n",
       "</div>"
      ],
      "text/plain": [
       "          UG SIGLA UG  ACAO                              NOME_ACAO   ANO  \\\n",
       "351   160129      ESA  212B  BENEFICIOS OBRIGATORIOS AOS SERVIDORE  2023   \n",
       "3063  167129      ESA  2004  ASSISTENCIA MEDICA E ODONTOLOGICA AOS  2023   \n",
       "\n",
       "              CREDOR               NOME_CREDOR       DATA  DIAS   ICFEX  \\\n",
       "351   31669124000198      LS REFRIGERACAO LTDA 2023-04-18   198  160533   \n",
       "3063     46940235787  DAVILAN DE SOUZA PORCARO 2023-02-27   248  160533   \n",
       "\n",
       "     NOME_ICFEX      ND                                       NOME_ND  \\\n",
       "351   4º CGCFEX  449052            EQUIPAMENTOS E MATERIAL PERMANENTE   \n",
       "3063  4º CGCFEX  339036  OUTROS SERVICOS DE TERCEIROS - PESSOA FISICA   \n",
       "\n",
       "          NDSI                                       NOME_NDSI            NE  \\\n",
       "351   44905228  MAQUINAS E EQUIPAMENTOS DE NATUREZA INDUSTRIAL  2023NE000392   \n",
       "3063  33903630                SERVICOS MEDICOS E ODONTOLOGICOS  2023NE000392   \n",
       "\n",
       "               PI                         NOME_PI PROGRAMA   PTRES TIPO  \\\n",
       "351   E6SUPLJA5PA                     A5PA - PASA     0032  171397  ANO   \n",
       "3063  D8SAFUSPRSA  PROFISSIONAL DE SAUDE AUTONOMO     0032  215845  ANO   \n",
       "\n",
       "         TIPO_NE                                              LOCAL UF_CREDOR  \\\n",
       "351    ORDINARIO  ESCOLA DE SARGENTOS DAS ARMAS, AVENIDA SETE DE...        SC   \n",
       "3063  ESTIMATIVO                       CLINICA/CONSULTÓRIO/HOSPITAL        MG   \n",
       "\n",
       "     UF_UG     UGR     NOME_UGR RADPI4 MEIPI3 SUFPI4  A_LIQUIDAR  \\\n",
       "351     MG  160504  COEX/GESTOR   E6SU    PLJ   A5PA     8837.42   \n",
       "3063    MG  167505          DGP   D8SA    FUS   PRSA        0.00   \n",
       "\n",
       "      LIQUIDADO_A_PAGAR  TOTAL_A_PAGAR    PAGO  \n",
       "351                 0.0        8837.42    0.00  \n",
       "3063                0.0           0.00  648.27  "
      ]
     },
     "execution_count": 34,
     "metadata": {},
     "output_type": "execute_result"
    }
   ],
   "source": [
    "df_teste[df_teste['NE'] == '2023NE000392']"
   ]
  },
  {
   "cell_type": "code",
   "execution_count": 35,
   "metadata": {},
   "outputs": [
    {
     "data": {
      "text/html": [
       "<div>\n",
       "<style scoped>\n",
       "    .dataframe tbody tr th:only-of-type {\n",
       "        vertical-align: middle;\n",
       "    }\n",
       "\n",
       "    .dataframe tbody tr th {\n",
       "        vertical-align: top;\n",
       "    }\n",
       "\n",
       "    .dataframe thead th {\n",
       "        text-align: right;\n",
       "    }\n",
       "</style>\n",
       "<table border=\"1\" class=\"dataframe\">\n",
       "  <thead>\n",
       "    <tr style=\"text-align: right;\">\n",
       "      <th></th>\n",
       "      <th>UG</th>\n",
       "      <th>SIGLA UG</th>\n",
       "      <th>ACAO</th>\n",
       "      <th>NOME_ACAO</th>\n",
       "      <th>ANO</th>\n",
       "      <th>CREDOR</th>\n",
       "      <th>NOME_CREDOR</th>\n",
       "      <th>DATA</th>\n",
       "      <th>DIAS</th>\n",
       "      <th>ICFEX</th>\n",
       "      <th>NOME_ICFEX</th>\n",
       "      <th>ND</th>\n",
       "      <th>NOME_ND</th>\n",
       "      <th>NDSI</th>\n",
       "      <th>NOME_NDSI</th>\n",
       "      <th>NE</th>\n",
       "      <th>PI</th>\n",
       "      <th>NOME_PI</th>\n",
       "      <th>PROGRAMA</th>\n",
       "      <th>PTRES</th>\n",
       "      <th>TIPO</th>\n",
       "      <th>TIPO_NE</th>\n",
       "      <th>LOCAL</th>\n",
       "      <th>UF_CREDOR</th>\n",
       "      <th>UF_UG</th>\n",
       "      <th>UGR</th>\n",
       "      <th>NOME_UGR</th>\n",
       "      <th>RADPI4</th>\n",
       "      <th>MEIPI3</th>\n",
       "      <th>SUFPI4</th>\n",
       "      <th>A_LIQUIDAR</th>\n",
       "      <th>LIQUIDADO_A_PAGAR</th>\n",
       "      <th>TOTAL_A_PAGAR</th>\n",
       "      <th>PAGO</th>\n",
       "    </tr>\n",
       "  </thead>\n",
       "  <tbody>\n",
       "    <tr>\n",
       "      <th>0</th>\n",
       "      <td>160129</td>\n",
       "      <td>ESA</td>\n",
       "      <td>156M</td>\n",
       "      <td>MODERNIZACAO E TRANSFORMACAO ESTRATEG</td>\n",
       "      <td>2023</td>\n",
       "      <td>01590728000264</td>\n",
       "      <td>MICROTECNICA INFORMATICA LTDA</td>\n",
       "      <td>2023-11-01</td>\n",
       "      <td>1</td>\n",
       "      <td>160533</td>\n",
       "      <td>4º CGCFEX</td>\n",
       "      <td>449052</td>\n",
       "      <td>EQUIPAMENTOS E MATERIAL PERMANENTE</td>\n",
       "      <td>44905230</td>\n",
       "      <td>MAQUINAS E EQUIPAMENTOS ENERGETICOS</td>\n",
       "      <td>2023NE001319</td>\n",
       "      <td>F8MODCXDEGE</td>\n",
       "      <td>ATENDER NEC DECEX MODERNIZACAO OPERACIONAL</td>\n",
       "      <td>6012</td>\n",
       "      <td>171418</td>\n",
       "      <td>ANO</td>\n",
       "      <td>ORDINARIO</td>\n",
       "      <td>ESCOLA DE SARGENTOS DAS ARMAS</td>\n",
       "      <td>DF</td>\n",
       "      <td>MG</td>\n",
       "      <td>160503</td>\n",
       "      <td>DECEX/GESTOR</td>\n",
       "      <td>F8MO</td>\n",
       "      <td>DCX</td>\n",
       "      <td>DEGE</td>\n",
       "      <td>3720.60</td>\n",
       "      <td>0.0</td>\n",
       "      <td>3720.60</td>\n",
       "      <td>0.0</td>\n",
       "    </tr>\n",
       "    <tr>\n",
       "      <th>1</th>\n",
       "      <td>160129</td>\n",
       "      <td>ESA</td>\n",
       "      <td>156M</td>\n",
       "      <td>MODERNIZACAO E TRANSFORMACAO ESTRATEG</td>\n",
       "      <td>2023</td>\n",
       "      <td>05462543000144</td>\n",
       "      <td>EASYTECH INFORMATICA E SERVICOS LTDA</td>\n",
       "      <td>2023-10-31</td>\n",
       "      <td>2</td>\n",
       "      <td>160533</td>\n",
       "      <td>4º CGCFEX</td>\n",
       "      <td>449052</td>\n",
       "      <td>EQUIPAMENTOS E MATERIAL PERMANENTE</td>\n",
       "      <td>44905237</td>\n",
       "      <td>EQUIPAMENTOS DE TIC - ATIVOS DE REDE</td>\n",
       "      <td>2023NE001318</td>\n",
       "      <td>F8MODCXDEGE</td>\n",
       "      <td>ATENDER NEC DECEX MODERNIZACAO OPERACIONAL</td>\n",
       "      <td>6012</td>\n",
       "      <td>171418</td>\n",
       "      <td>ANO</td>\n",
       "      <td>ORDINARIO</td>\n",
       "      <td>ESCOLA DE SARGENTOS DAS ARMAS  - AVENIDA SETE ...</td>\n",
       "      <td>DF</td>\n",
       "      <td>MG</td>\n",
       "      <td>160503</td>\n",
       "      <td>DECEX/GESTOR</td>\n",
       "      <td>F8MO</td>\n",
       "      <td>DCX</td>\n",
       "      <td>DEGE</td>\n",
       "      <td>8070.92</td>\n",
       "      <td>0.0</td>\n",
       "      <td>8070.92</td>\n",
       "      <td>0.0</td>\n",
       "    </tr>\n",
       "    <tr>\n",
       "      <th>2</th>\n",
       "      <td>160129</td>\n",
       "      <td>ESA</td>\n",
       "      <td>156M</td>\n",
       "      <td>MODERNIZACAO E TRANSFORMACAO ESTRATEG</td>\n",
       "      <td>2023</td>\n",
       "      <td>08792763000124</td>\n",
       "      <td>MEGA BYTE MAGAZINE LTDA</td>\n",
       "      <td>2023-10-31</td>\n",
       "      <td>2</td>\n",
       "      <td>160533</td>\n",
       "      <td>4º CGCFEX</td>\n",
       "      <td>449052</td>\n",
       "      <td>EQUIPAMENTOS E MATERIAL PERMANENTE</td>\n",
       "      <td>44905241</td>\n",
       "      <td>EQUIPAMENTOS DE TIC - COMPUTADORES</td>\n",
       "      <td>2023NE001317</td>\n",
       "      <td>F8MODCXDEGE</td>\n",
       "      <td>ATENDER NEC DECEX MODERNIZACAO OPERACIONAL</td>\n",
       "      <td>6012</td>\n",
       "      <td>171418</td>\n",
       "      <td>ANO</td>\n",
       "      <td>ORDINARIO</td>\n",
       "      <td>ESCOLA DE SARGENTOS DAS ARMAS  - AVENIDA SETE ...</td>\n",
       "      <td>SP</td>\n",
       "      <td>MG</td>\n",
       "      <td>160503</td>\n",
       "      <td>DECEX/GESTOR</td>\n",
       "      <td>F8MO</td>\n",
       "      <td>DCX</td>\n",
       "      <td>DEGE</td>\n",
       "      <td>26270.00</td>\n",
       "      <td>0.0</td>\n",
       "      <td>26270.00</td>\n",
       "      <td>0.0</td>\n",
       "    </tr>\n",
       "    <tr>\n",
       "      <th>3</th>\n",
       "      <td>160129</td>\n",
       "      <td>ESA</td>\n",
       "      <td>156M</td>\n",
       "      <td>MODERNIZACAO E TRANSFORMACAO ESTRATEG</td>\n",
       "      <td>2023</td>\n",
       "      <td>11142525000188</td>\n",
       "      <td>CLEBER NASCIMENTO DA ROSA</td>\n",
       "      <td>2023-11-01</td>\n",
       "      <td>1</td>\n",
       "      <td>160533</td>\n",
       "      <td>4º CGCFEX</td>\n",
       "      <td>449052</td>\n",
       "      <td>EQUIPAMENTOS E MATERIAL PERMANENTE</td>\n",
       "      <td>44905233</td>\n",
       "      <td>EQUIPAMENTOS PARA AUDIO, VIDEO E FOTO</td>\n",
       "      <td>2023NE001322</td>\n",
       "      <td>F8MODCXDEGE</td>\n",
       "      <td>ATENDER NEC DECEX MODERNIZACAO OPERACIONAL</td>\n",
       "      <td>6012</td>\n",
       "      <td>171418</td>\n",
       "      <td>ANO</td>\n",
       "      <td>ORDINARIO</td>\n",
       "      <td>ESCOLA DE SARGENTOS DAS ARMAS</td>\n",
       "      <td>SC</td>\n",
       "      <td>MG</td>\n",
       "      <td>160503</td>\n",
       "      <td>DECEX/GESTOR</td>\n",
       "      <td>F8MO</td>\n",
       "      <td>DCX</td>\n",
       "      <td>DEGE</td>\n",
       "      <td>260.00</td>\n",
       "      <td>0.0</td>\n",
       "      <td>260.00</td>\n",
       "      <td>0.0</td>\n",
       "    </tr>\n",
       "    <tr>\n",
       "      <th>4</th>\n",
       "      <td>160129</td>\n",
       "      <td>ESA</td>\n",
       "      <td>156M</td>\n",
       "      <td>MODERNIZACAO E TRANSFORMACAO ESTRATEG</td>\n",
       "      <td>2023</td>\n",
       "      <td>28811718000187</td>\n",
       "      <td>BRUNO DIGITAL COMERCIO DE MERCADORIA EM GERAL ...</td>\n",
       "      <td>2023-10-31</td>\n",
       "      <td>2</td>\n",
       "      <td>160533</td>\n",
       "      <td>4º CGCFEX</td>\n",
       "      <td>449052</td>\n",
       "      <td>EQUIPAMENTOS E MATERIAL PERMANENTE</td>\n",
       "      <td>44905241</td>\n",
       "      <td>EQUIPAMENTOS DE TIC - COMPUTADORES</td>\n",
       "      <td>2023NE001316</td>\n",
       "      <td>F8MODCXDEGE</td>\n",
       "      <td>ATENDER NEC DECEX MODERNIZACAO OPERACIONAL</td>\n",
       "      <td>6012</td>\n",
       "      <td>171418</td>\n",
       "      <td>ANO</td>\n",
       "      <td>ORDINARIO</td>\n",
       "      <td>ESCOLA DE SARGENTOS DAS ARMAS  - AVENIDA SETE ...</td>\n",
       "      <td>SP</td>\n",
       "      <td>MG</td>\n",
       "      <td>160503</td>\n",
       "      <td>DECEX/GESTOR</td>\n",
       "      <td>F8MO</td>\n",
       "      <td>DCX</td>\n",
       "      <td>DEGE</td>\n",
       "      <td>79002.00</td>\n",
       "      <td>0.0</td>\n",
       "      <td>79002.00</td>\n",
       "      <td>0.0</td>\n",
       "    </tr>\n",
       "    <tr>\n",
       "      <th>...</th>\n",
       "      <td>...</td>\n",
       "      <td>...</td>\n",
       "      <td>...</td>\n",
       "      <td>...</td>\n",
       "      <td>...</td>\n",
       "      <td>...</td>\n",
       "      <td>...</td>\n",
       "      <td>...</td>\n",
       "      <td>...</td>\n",
       "      <td>...</td>\n",
       "      <td>...</td>\n",
       "      <td>...</td>\n",
       "      <td>...</td>\n",
       "      <td>...</td>\n",
       "      <td>...</td>\n",
       "      <td>...</td>\n",
       "      <td>...</td>\n",
       "      <td>...</td>\n",
       "      <td>...</td>\n",
       "      <td>...</td>\n",
       "      <td>...</td>\n",
       "      <td>...</td>\n",
       "      <td>...</td>\n",
       "      <td>...</td>\n",
       "      <td>...</td>\n",
       "      <td>...</td>\n",
       "      <td>...</td>\n",
       "      <td>...</td>\n",
       "      <td>...</td>\n",
       "      <td>...</td>\n",
       "      <td>...</td>\n",
       "      <td>...</td>\n",
       "      <td>...</td>\n",
       "      <td>...</td>\n",
       "    </tr>\n",
       "    <tr>\n",
       "      <th>3261</th>\n",
       "      <td>167129</td>\n",
       "      <td>ESA</td>\n",
       "      <td>2919</td>\n",
       "      <td>REGISTRO E FISCALIZACAO DE PRODUTOS C</td>\n",
       "      <td>2023</td>\n",
       "      <td>65095531000150</td>\n",
       "      <td>LOGOS PAPELARIA LTDA</td>\n",
       "      <td>2023-05-25</td>\n",
       "      <td>161</td>\n",
       "      <td>160533</td>\n",
       "      <td>4º CGCFEX</td>\n",
       "      <td>449052</td>\n",
       "      <td>EQUIPAMENTOS E MATERIAL PERMANENTE</td>\n",
       "      <td>44905245</td>\n",
       "      <td>EQUIPAMENTOS DE TIC - IMPRESSORAS</td>\n",
       "      <td>2023NE001044</td>\n",
       "      <td>E3PCFSCINFO</td>\n",
       "      <td>INFORMATICA</td>\n",
       "      <td>6012</td>\n",
       "      <td>215839</td>\n",
       "      <td>ANO</td>\n",
       "      <td>ORDINARIO</td>\n",
       "      <td>ESCOLA DE SARGENTOS DAS ARMAS  - AVENIDA SETE ...</td>\n",
       "      <td>MG</td>\n",
       "      <td>MG</td>\n",
       "      <td>167504</td>\n",
       "      <td>COEX - GESTOR</td>\n",
       "      <td>E3PC</td>\n",
       "      <td>FSC</td>\n",
       "      <td>INFO</td>\n",
       "      <td>0.00</td>\n",
       "      <td>0.0</td>\n",
       "      <td>0.00</td>\n",
       "      <td>1800.0</td>\n",
       "    </tr>\n",
       "    <tr>\n",
       "      <th>3262</th>\n",
       "      <td>167129</td>\n",
       "      <td>ESA</td>\n",
       "      <td>2919</td>\n",
       "      <td>REGISTRO E FISCALIZACAO DE PRODUTOS C</td>\n",
       "      <td>2023</td>\n",
       "      <td>81243735000903</td>\n",
       "      <td>POSITIVO TECNOLOGIA S.A.</td>\n",
       "      <td>2023-02-15</td>\n",
       "      <td>260</td>\n",
       "      <td>160533</td>\n",
       "      <td>4º CGCFEX</td>\n",
       "      <td>449052</td>\n",
       "      <td>EQUIPAMENTOS E MATERIAL PERMANENTE</td>\n",
       "      <td>44905241</td>\n",
       "      <td>EQUIPAMENTOS DE TIC - COMPUTADORES</td>\n",
       "      <td>2023NE000261</td>\n",
       "      <td>E3PCFSCINFO</td>\n",
       "      <td>INFORMATICA</td>\n",
       "      <td>6012</td>\n",
       "      <td>215839</td>\n",
       "      <td>ANO</td>\n",
       "      <td>ORDINARIO</td>\n",
       "      <td>ESCOLA DE SARGENTOS DAS ARMAS  - AVENIDA SETE ...</td>\n",
       "      <td>BA</td>\n",
       "      <td>MG</td>\n",
       "      <td>167504</td>\n",
       "      <td>COEX - GESTOR</td>\n",
       "      <td>E3PC</td>\n",
       "      <td>FSC</td>\n",
       "      <td>INFO</td>\n",
       "      <td>0.00</td>\n",
       "      <td>0.0</td>\n",
       "      <td>0.00</td>\n",
       "      <td>7114.0</td>\n",
       "    </tr>\n",
       "    <tr>\n",
       "      <th>3263</th>\n",
       "      <td>167129</td>\n",
       "      <td>ESA</td>\n",
       "      <td>2919</td>\n",
       "      <td>REGISTRO E FISCALIZACAO DE PRODUTOS C</td>\n",
       "      <td>2023</td>\n",
       "      <td>98488040644</td>\n",
       "      <td>MARIO HENRIQUE CUBBI</td>\n",
       "      <td>2023-05-22</td>\n",
       "      <td>164</td>\n",
       "      <td>160533</td>\n",
       "      <td>4º CGCFEX</td>\n",
       "      <td>339030</td>\n",
       "      <td>MATERIAL DE CONSUMO</td>\n",
       "      <td>33903001</td>\n",
       "      <td>COMBUSTIVEIS E LUBRIFICANTES AUTOMOTIVOS</td>\n",
       "      <td>2023NE001035</td>\n",
       "      <td>E3PCFSCCOLU</td>\n",
       "      <td>COMBUSTIVEIS E LUBRIFICANTES</td>\n",
       "      <td>6012</td>\n",
       "      <td>215839</td>\n",
       "      <td>ANO</td>\n",
       "      <td>ORDINARIO</td>\n",
       "      <td>ESCOLA DE SARGENTOS DAS ARMAS  - AVENIDA SETE ...</td>\n",
       "      <td>MG</td>\n",
       "      <td>MG</td>\n",
       "      <td>167504</td>\n",
       "      <td>COEX - GESTOR</td>\n",
       "      <td>E3PC</td>\n",
       "      <td>FSC</td>\n",
       "      <td>COLU</td>\n",
       "      <td>0.00</td>\n",
       "      <td>0.0</td>\n",
       "      <td>0.00</td>\n",
       "      <td>2236.2</td>\n",
       "    </tr>\n",
       "    <tr>\n",
       "      <th>3264</th>\n",
       "      <td>167129</td>\n",
       "      <td>ESA</td>\n",
       "      <td>2919</td>\n",
       "      <td>REGISTRO E FISCALIZACAO DE PRODUTOS C</td>\n",
       "      <td>2023</td>\n",
       "      <td>98488040644</td>\n",
       "      <td>MARIO HENRIQUE CUBBI</td>\n",
       "      <td>2023-08-31</td>\n",
       "      <td>63</td>\n",
       "      <td>160533</td>\n",
       "      <td>4º CGCFEX</td>\n",
       "      <td>339030</td>\n",
       "      <td>MATERIAL DE CONSUMO</td>\n",
       "      <td>33903096</td>\n",
       "      <td>MATERIAL DE CONSUMO - PAGTO ANTECIPADO</td>\n",
       "      <td>2023NE001506</td>\n",
       "      <td>E3PCOPFCOLU</td>\n",
       "      <td>COMBUSTIVEL E LUBRIFICANTES</td>\n",
       "      <td>6012</td>\n",
       "      <td>215839</td>\n",
       "      <td>ANO</td>\n",
       "      <td>ORDINARIO</td>\n",
       "      <td>ESCOLA DE SARGENTOS DAS ARMAS  - AVENIDA SETE ...</td>\n",
       "      <td>MG</td>\n",
       "      <td>MG</td>\n",
       "      <td>167504</td>\n",
       "      <td>COEX - GESTOR</td>\n",
       "      <td>E3PC</td>\n",
       "      <td>OPF</td>\n",
       "      <td>COLU</td>\n",
       "      <td>0.00</td>\n",
       "      <td>0.0</td>\n",
       "      <td>0.00</td>\n",
       "      <td>675.0</td>\n",
       "    </tr>\n",
       "    <tr>\n",
       "      <th>3265</th>\n",
       "      <td>167129</td>\n",
       "      <td>ESA</td>\n",
       "      <td>2919</td>\n",
       "      <td>REGISTRO E FISCALIZACAO DE PRODUTOS C</td>\n",
       "      <td>2023</td>\n",
       "      <td>98488040644</td>\n",
       "      <td>MARIO HENRIQUE CUBBI</td>\n",
       "      <td>2023-10-06</td>\n",
       "      <td>27</td>\n",
       "      <td>160533</td>\n",
       "      <td>4º CGCFEX</td>\n",
       "      <td>339030</td>\n",
       "      <td>MATERIAL DE CONSUMO</td>\n",
       "      <td>33903096</td>\n",
       "      <td>MATERIAL DE CONSUMO - PAGTO ANTECIPADO</td>\n",
       "      <td>2023NE001640</td>\n",
       "      <td>E3PCOPFCOLU</td>\n",
       "      <td>COMBUSTIVEL E LUBRIFICANTES</td>\n",
       "      <td>6012</td>\n",
       "      <td>215839</td>\n",
       "      <td>ANO</td>\n",
       "      <td>ORDINARIO</td>\n",
       "      <td>ESCOLA DE SARGENTOS DAS ARMAS  - AVENIDA SETE ...</td>\n",
       "      <td>MG</td>\n",
       "      <td>MG</td>\n",
       "      <td>167504</td>\n",
       "      <td>COEX - GESTOR</td>\n",
       "      <td>E3PC</td>\n",
       "      <td>OPF</td>\n",
       "      <td>COLU</td>\n",
       "      <td>600.00</td>\n",
       "      <td>0.0</td>\n",
       "      <td>600.00</td>\n",
       "      <td>0.0</td>\n",
       "    </tr>\n",
       "  </tbody>\n",
       "</table>\n",
       "<p>3263 rows × 34 columns</p>\n",
       "</div>"
      ],
      "text/plain": [
       "          UG SIGLA UG  ACAO                              NOME_ACAO   ANO  \\\n",
       "0     160129      ESA  156M  MODERNIZACAO E TRANSFORMACAO ESTRATEG  2023   \n",
       "1     160129      ESA  156M  MODERNIZACAO E TRANSFORMACAO ESTRATEG  2023   \n",
       "2     160129      ESA  156M  MODERNIZACAO E TRANSFORMACAO ESTRATEG  2023   \n",
       "3     160129      ESA  156M  MODERNIZACAO E TRANSFORMACAO ESTRATEG  2023   \n",
       "4     160129      ESA  156M  MODERNIZACAO E TRANSFORMACAO ESTRATEG  2023   \n",
       "...      ...      ...   ...                                    ...   ...   \n",
       "3261  167129      ESA  2919  REGISTRO E FISCALIZACAO DE PRODUTOS C  2023   \n",
       "3262  167129      ESA  2919  REGISTRO E FISCALIZACAO DE PRODUTOS C  2023   \n",
       "3263  167129      ESA  2919  REGISTRO E FISCALIZACAO DE PRODUTOS C  2023   \n",
       "3264  167129      ESA  2919  REGISTRO E FISCALIZACAO DE PRODUTOS C  2023   \n",
       "3265  167129      ESA  2919  REGISTRO E FISCALIZACAO DE PRODUTOS C  2023   \n",
       "\n",
       "              CREDOR                                        NOME_CREDOR  \\\n",
       "0     01590728000264                      MICROTECNICA INFORMATICA LTDA   \n",
       "1     05462543000144               EASYTECH INFORMATICA E SERVICOS LTDA   \n",
       "2     08792763000124                            MEGA BYTE MAGAZINE LTDA   \n",
       "3     11142525000188                          CLEBER NASCIMENTO DA ROSA   \n",
       "4     28811718000187  BRUNO DIGITAL COMERCIO DE MERCADORIA EM GERAL ...   \n",
       "...              ...                                                ...   \n",
       "3261  65095531000150                               LOGOS PAPELARIA LTDA   \n",
       "3262  81243735000903                           POSITIVO TECNOLOGIA S.A.   \n",
       "3263     98488040644                               MARIO HENRIQUE CUBBI   \n",
       "3264     98488040644                               MARIO HENRIQUE CUBBI   \n",
       "3265     98488040644                               MARIO HENRIQUE CUBBI   \n",
       "\n",
       "           DATA  DIAS   ICFEX NOME_ICFEX      ND  \\\n",
       "0    2023-11-01     1  160533  4º CGCFEX  449052   \n",
       "1    2023-10-31     2  160533  4º CGCFEX  449052   \n",
       "2    2023-10-31     2  160533  4º CGCFEX  449052   \n",
       "3    2023-11-01     1  160533  4º CGCFEX  449052   \n",
       "4    2023-10-31     2  160533  4º CGCFEX  449052   \n",
       "...         ...   ...     ...        ...     ...   \n",
       "3261 2023-05-25   161  160533  4º CGCFEX  449052   \n",
       "3262 2023-02-15   260  160533  4º CGCFEX  449052   \n",
       "3263 2023-05-22   164  160533  4º CGCFEX  339030   \n",
       "3264 2023-08-31    63  160533  4º CGCFEX  339030   \n",
       "3265 2023-10-06    27  160533  4º CGCFEX  339030   \n",
       "\n",
       "                                 NOME_ND      NDSI  \\\n",
       "0     EQUIPAMENTOS E MATERIAL PERMANENTE  44905230   \n",
       "1     EQUIPAMENTOS E MATERIAL PERMANENTE  44905237   \n",
       "2     EQUIPAMENTOS E MATERIAL PERMANENTE  44905241   \n",
       "3     EQUIPAMENTOS E MATERIAL PERMANENTE  44905233   \n",
       "4     EQUIPAMENTOS E MATERIAL PERMANENTE  44905241   \n",
       "...                                  ...       ...   \n",
       "3261  EQUIPAMENTOS E MATERIAL PERMANENTE  44905245   \n",
       "3262  EQUIPAMENTOS E MATERIAL PERMANENTE  44905241   \n",
       "3263                 MATERIAL DE CONSUMO  33903001   \n",
       "3264                 MATERIAL DE CONSUMO  33903096   \n",
       "3265                 MATERIAL DE CONSUMO  33903096   \n",
       "\n",
       "                                     NOME_NDSI            NE           PI  \\\n",
       "0          MAQUINAS E EQUIPAMENTOS ENERGETICOS  2023NE001319  F8MODCXDEGE   \n",
       "1         EQUIPAMENTOS DE TIC - ATIVOS DE REDE  2023NE001318  F8MODCXDEGE   \n",
       "2           EQUIPAMENTOS DE TIC - COMPUTADORES  2023NE001317  F8MODCXDEGE   \n",
       "3        EQUIPAMENTOS PARA AUDIO, VIDEO E FOTO  2023NE001322  F8MODCXDEGE   \n",
       "4           EQUIPAMENTOS DE TIC - COMPUTADORES  2023NE001316  F8MODCXDEGE   \n",
       "...                                        ...           ...          ...   \n",
       "3261         EQUIPAMENTOS DE TIC - IMPRESSORAS  2023NE001044  E3PCFSCINFO   \n",
       "3262        EQUIPAMENTOS DE TIC - COMPUTADORES  2023NE000261  E3PCFSCINFO   \n",
       "3263  COMBUSTIVEIS E LUBRIFICANTES AUTOMOTIVOS  2023NE001035  E3PCFSCCOLU   \n",
       "3264    MATERIAL DE CONSUMO - PAGTO ANTECIPADO  2023NE001506  E3PCOPFCOLU   \n",
       "3265    MATERIAL DE CONSUMO - PAGTO ANTECIPADO  2023NE001640  E3PCOPFCOLU   \n",
       "\n",
       "                                         NOME_PI PROGRAMA   PTRES TIPO  \\\n",
       "0     ATENDER NEC DECEX MODERNIZACAO OPERACIONAL     6012  171418  ANO   \n",
       "1     ATENDER NEC DECEX MODERNIZACAO OPERACIONAL     6012  171418  ANO   \n",
       "2     ATENDER NEC DECEX MODERNIZACAO OPERACIONAL     6012  171418  ANO   \n",
       "3     ATENDER NEC DECEX MODERNIZACAO OPERACIONAL     6012  171418  ANO   \n",
       "4     ATENDER NEC DECEX MODERNIZACAO OPERACIONAL     6012  171418  ANO   \n",
       "...                                          ...      ...     ...  ...   \n",
       "3261                                 INFORMATICA     6012  215839  ANO   \n",
       "3262                                 INFORMATICA     6012  215839  ANO   \n",
       "3263                COMBUSTIVEIS E LUBRIFICANTES     6012  215839  ANO   \n",
       "3264                 COMBUSTIVEL E LUBRIFICANTES     6012  215839  ANO   \n",
       "3265                 COMBUSTIVEL E LUBRIFICANTES     6012  215839  ANO   \n",
       "\n",
       "        TIPO_NE                                              LOCAL UF_CREDOR  \\\n",
       "0     ORDINARIO                      ESCOLA DE SARGENTOS DAS ARMAS        DF   \n",
       "1     ORDINARIO  ESCOLA DE SARGENTOS DAS ARMAS  - AVENIDA SETE ...        DF   \n",
       "2     ORDINARIO  ESCOLA DE SARGENTOS DAS ARMAS  - AVENIDA SETE ...        SP   \n",
       "3     ORDINARIO                      ESCOLA DE SARGENTOS DAS ARMAS        SC   \n",
       "4     ORDINARIO  ESCOLA DE SARGENTOS DAS ARMAS  - AVENIDA SETE ...        SP   \n",
       "...         ...                                                ...       ...   \n",
       "3261  ORDINARIO  ESCOLA DE SARGENTOS DAS ARMAS  - AVENIDA SETE ...        MG   \n",
       "3262  ORDINARIO  ESCOLA DE SARGENTOS DAS ARMAS  - AVENIDA SETE ...        BA   \n",
       "3263  ORDINARIO  ESCOLA DE SARGENTOS DAS ARMAS  - AVENIDA SETE ...        MG   \n",
       "3264  ORDINARIO  ESCOLA DE SARGENTOS DAS ARMAS  - AVENIDA SETE ...        MG   \n",
       "3265  ORDINARIO  ESCOLA DE SARGENTOS DAS ARMAS  - AVENIDA SETE ...        MG   \n",
       "\n",
       "     UF_UG     UGR       NOME_UGR RADPI4 MEIPI3 SUFPI4  A_LIQUIDAR  \\\n",
       "0       MG  160503   DECEX/GESTOR   F8MO    DCX   DEGE     3720.60   \n",
       "1       MG  160503   DECEX/GESTOR   F8MO    DCX   DEGE     8070.92   \n",
       "2       MG  160503   DECEX/GESTOR   F8MO    DCX   DEGE    26270.00   \n",
       "3       MG  160503   DECEX/GESTOR   F8MO    DCX   DEGE      260.00   \n",
       "4       MG  160503   DECEX/GESTOR   F8MO    DCX   DEGE    79002.00   \n",
       "...    ...     ...            ...    ...    ...    ...         ...   \n",
       "3261    MG  167504  COEX - GESTOR   E3PC    FSC   INFO        0.00   \n",
       "3262    MG  167504  COEX - GESTOR   E3PC    FSC   INFO        0.00   \n",
       "3263    MG  167504  COEX - GESTOR   E3PC    FSC   COLU        0.00   \n",
       "3264    MG  167504  COEX - GESTOR   E3PC    OPF   COLU        0.00   \n",
       "3265    MG  167504  COEX - GESTOR   E3PC    OPF   COLU      600.00   \n",
       "\n",
       "      LIQUIDADO_A_PAGAR  TOTAL_A_PAGAR    PAGO  \n",
       "0                   0.0        3720.60     0.0  \n",
       "1                   0.0        8070.92     0.0  \n",
       "2                   0.0       26270.00     0.0  \n",
       "3                   0.0         260.00     0.0  \n",
       "4                   0.0       79002.00     0.0  \n",
       "...                 ...            ...     ...  \n",
       "3261                0.0           0.00  1800.0  \n",
       "3262                0.0           0.00  7114.0  \n",
       "3263                0.0           0.00  2236.2  \n",
       "3264                0.0           0.00   675.0  \n",
       "3265                0.0         600.00     0.0  \n",
       "\n",
       "[3263 rows x 34 columns]"
      ]
     },
     "execution_count": 35,
     "metadata": {},
     "output_type": "execute_result"
    }
   ],
   "source": [
    "df_teste"
   ]
  },
  {
   "cell_type": "code",
   "execution_count": 36,
   "metadata": {},
   "outputs": [
    {
     "data": {
      "text/html": [
       "<div>\n",
       "<style scoped>\n",
       "    .dataframe tbody tr th:only-of-type {\n",
       "        vertical-align: middle;\n",
       "    }\n",
       "\n",
       "    .dataframe tbody tr th {\n",
       "        vertical-align: top;\n",
       "    }\n",
       "\n",
       "    .dataframe thead th {\n",
       "        text-align: right;\n",
       "    }\n",
       "</style>\n",
       "<table border=\"1\" class=\"dataframe\">\n",
       "  <thead>\n",
       "    <tr style=\"text-align: right;\">\n",
       "      <th></th>\n",
       "      <th>UG</th>\n",
       "      <th>SIGLA UG</th>\n",
       "      <th>ACAO</th>\n",
       "      <th>NOME_ACAO</th>\n",
       "      <th>ANO</th>\n",
       "      <th>CREDOR</th>\n",
       "      <th>NOME_CREDOR</th>\n",
       "      <th>DATA</th>\n",
       "      <th>DIAS</th>\n",
       "      <th>ICFEX</th>\n",
       "      <th>NOME_ICFEX</th>\n",
       "      <th>ND</th>\n",
       "      <th>NOME_ND</th>\n",
       "      <th>NDSI</th>\n",
       "      <th>NOME_NDSI</th>\n",
       "      <th>NE</th>\n",
       "      <th>PI</th>\n",
       "      <th>NOME_PI</th>\n",
       "      <th>PROGRAMA</th>\n",
       "      <th>PTRES</th>\n",
       "      <th>TIPO</th>\n",
       "      <th>TIPO_NE</th>\n",
       "      <th>LOCAL</th>\n",
       "      <th>UF_CREDOR</th>\n",
       "      <th>UF_UG</th>\n",
       "      <th>UGR</th>\n",
       "      <th>NOME_UGR</th>\n",
       "      <th>RADPI4</th>\n",
       "      <th>MEIPI3</th>\n",
       "      <th>SUFPI4</th>\n",
       "      <th>A_LIQUIDAR</th>\n",
       "      <th>LIQUIDADO_A_PAGAR</th>\n",
       "      <th>TOTAL_A_PAGAR</th>\n",
       "      <th>PAGO</th>\n",
       "    </tr>\n",
       "  </thead>\n",
       "  <tbody>\n",
       "    <tr>\n",
       "      <th>954</th>\n",
       "      <td>160129</td>\n",
       "      <td>ESA</td>\n",
       "      <td>219D</td>\n",
       "      <td>ADEQUACAO DE ATIVOS DE INFRAESTRUTURA</td>\n",
       "      <td>2022</td>\n",
       "      <td>17289559000186</td>\n",
       "      <td>FENARA &amp; FENARA - ENGENHARIA E ADMINISTRACAO LTDA</td>\n",
       "      <td>2022-12-14</td>\n",
       "      <td>323</td>\n",
       "      <td>160533</td>\n",
       "      <td>4º CGCFEX</td>\n",
       "      <td>339039</td>\n",
       "      <td>OUTROS SERVICOS DE TERCEIROS - PESSOA JURIDICA</td>\n",
       "      <td>33903916</td>\n",
       "      <td>MANUTENCAO E CONSERV. DE BENS IMOVEIS</td>\n",
       "      <td>2022NE002483</td>\n",
       "      <td>B4OMOBMAQUA</td>\n",
       "      <td>AQUARTELAMENTO</td>\n",
       "      <td>6012</td>\n",
       "      <td>171459</td>\n",
       "      <td>RPNP</td>\n",
       "      <td>GLOBAL</td>\n",
       "      <td>ESCOLA DE SARGENTOS DAS ARMAS  - AVENIDA SETE ...</td>\n",
       "      <td>SP</td>\n",
       "      <td>MG</td>\n",
       "      <td>160502</td>\n",
       "      <td>DEC-GESTOR</td>\n",
       "      <td>B4OM</td>\n",
       "      <td>OBM</td>\n",
       "      <td>AQUA</td>\n",
       "      <td>263051.08</td>\n",
       "      <td>0.0</td>\n",
       "      <td>263051.08</td>\n",
       "      <td>171948.92</td>\n",
       "    </tr>\n",
       "    <tr>\n",
       "      <th>953</th>\n",
       "      <td>160129</td>\n",
       "      <td>ESA</td>\n",
       "      <td>219D</td>\n",
       "      <td>ADEQUACAO DE ATIVOS DE INFRAESTRUTURA</td>\n",
       "      <td>2022</td>\n",
       "      <td>17289559000186</td>\n",
       "      <td>FENARA &amp; FENARA - ENGENHARIA E ADMINISTRACAO LTDA</td>\n",
       "      <td>2022-12-14</td>\n",
       "      <td>323</td>\n",
       "      <td>160533</td>\n",
       "      <td>4º CGCFEX</td>\n",
       "      <td>339039</td>\n",
       "      <td>OUTROS SERVICOS DE TERCEIROS - PESSOA JURIDICA</td>\n",
       "      <td>33903916</td>\n",
       "      <td>MANUTENCAO E CONSERV. DE BENS IMOVEIS</td>\n",
       "      <td>2022NE002482</td>\n",
       "      <td>B4OMOBMAQUA</td>\n",
       "      <td>AQUARTELAMENTO</td>\n",
       "      <td>6012</td>\n",
       "      <td>171459</td>\n",
       "      <td>RPNP</td>\n",
       "      <td>GLOBAL</td>\n",
       "      <td>ESCOLA DE SARGENTOS DAS ARMAS  - AVENIDA SETE ...</td>\n",
       "      <td>SP</td>\n",
       "      <td>MG</td>\n",
       "      <td>160502</td>\n",
       "      <td>DEC-GESTOR</td>\n",
       "      <td>B4OM</td>\n",
       "      <td>OBM</td>\n",
       "      <td>AQUA</td>\n",
       "      <td>155796.97</td>\n",
       "      <td>0.0</td>\n",
       "      <td>155796.97</td>\n",
       "      <td>204469.27</td>\n",
       "    </tr>\n",
       "    <tr>\n",
       "      <th>955</th>\n",
       "      <td>160129</td>\n",
       "      <td>ESA</td>\n",
       "      <td>219D</td>\n",
       "      <td>ADEQUACAO DE ATIVOS DE INFRAESTRUTURA</td>\n",
       "      <td>2022</td>\n",
       "      <td>17289559000186</td>\n",
       "      <td>FENARA &amp; FENARA - ENGENHARIA E ADMINISTRACAO LTDA</td>\n",
       "      <td>2022-12-28</td>\n",
       "      <td>309</td>\n",
       "      <td>160533</td>\n",
       "      <td>4º CGCFEX</td>\n",
       "      <td>339039</td>\n",
       "      <td>OUTROS SERVICOS DE TERCEIROS - PESSOA JURIDICA</td>\n",
       "      <td>33903916</td>\n",
       "      <td>MANUTENCAO E CONSERV. DE BENS IMOVEIS</td>\n",
       "      <td>2022NE002701</td>\n",
       "      <td>B4OMOBMAQUA</td>\n",
       "      <td>AQUARTELAMENTO</td>\n",
       "      <td>6012</td>\n",
       "      <td>171459</td>\n",
       "      <td>RPNP</td>\n",
       "      <td>GLOBAL</td>\n",
       "      <td>ESCOLA DE SARGENTOS DAS ARMAS</td>\n",
       "      <td>SP</td>\n",
       "      <td>MG</td>\n",
       "      <td>160502</td>\n",
       "      <td>DEC-GESTOR</td>\n",
       "      <td>B4OM</td>\n",
       "      <td>OBM</td>\n",
       "      <td>AQUA</td>\n",
       "      <td>51192.83</td>\n",
       "      <td>0.0</td>\n",
       "      <td>51192.83</td>\n",
       "      <td>98807.17</td>\n",
       "    </tr>\n",
       "    <tr>\n",
       "      <th>1150</th>\n",
       "      <td>160129</td>\n",
       "      <td>ESA</td>\n",
       "      <td>8965</td>\n",
       "      <td>CAPACITACAO PROFISSIONAL MILITAR DO E</td>\n",
       "      <td>2022</td>\n",
       "      <td>17289559000186</td>\n",
       "      <td>FENARA &amp; FENARA - ENGENHARIA E ADMINISTRACAO LTDA</td>\n",
       "      <td>2022-12-28</td>\n",
       "      <td>309</td>\n",
       "      <td>160533</td>\n",
       "      <td>4º CGCFEX</td>\n",
       "      <td>339039</td>\n",
       "      <td>OUTROS SERVICOS DE TERCEIROS - PESSOA JURIDICA</td>\n",
       "      <td>33903916</td>\n",
       "      <td>MANUTENCAO E CONSERV. DE BENS IMOVEIS</td>\n",
       "      <td>2022NE002702</td>\n",
       "      <td>C1ENMILOUTR</td>\n",
       "      <td>OUTROS</td>\n",
       "      <td>6012</td>\n",
       "      <td>171423</td>\n",
       "      <td>RPNP</td>\n",
       "      <td>GLOBAL</td>\n",
       "      <td>ESCOLA DE SARGENTOS DAS ARMAS</td>\n",
       "      <td>SP</td>\n",
       "      <td>MG</td>\n",
       "      <td>160503</td>\n",
       "      <td>DECEX/GESTOR</td>\n",
       "      <td>C1EN</td>\n",
       "      <td>MIL</td>\n",
       "      <td>OUTR</td>\n",
       "      <td>12733.76</td>\n",
       "      <td>0.0</td>\n",
       "      <td>12733.76</td>\n",
       "      <td>0.00</td>\n",
       "    </tr>\n",
       "    <tr>\n",
       "      <th>1157</th>\n",
       "      <td>160129</td>\n",
       "      <td>ESA</td>\n",
       "      <td>8965</td>\n",
       "      <td>CAPACITACAO PROFISSIONAL MILITAR DO E</td>\n",
       "      <td>2022</td>\n",
       "      <td>26669742000106</td>\n",
       "      <td>J. T. CATALDO CASTRO CRIATIVA DIGITAL</td>\n",
       "      <td>2022-11-30</td>\n",
       "      <td>337</td>\n",
       "      <td>160533</td>\n",
       "      <td>4º CGCFEX</td>\n",
       "      <td>339039</td>\n",
       "      <td>OUTROS SERVICOS DE TERCEIROS - PESSOA JURIDICA</td>\n",
       "      <td>33903963</td>\n",
       "      <td>SERVICOS GRAFICOS E EDITORIAIS</td>\n",
       "      <td>2022NE002421</td>\n",
       "      <td>C4ENMILCAPE</td>\n",
       "      <td>CAPACITACAO DE PESSOAL</td>\n",
       "      <td>6012</td>\n",
       "      <td>171423</td>\n",
       "      <td>RPNP</td>\n",
       "      <td>ORDINARIO</td>\n",
       "      <td>ESCOLA DE SARGENTOS DAS ARMAS  - AVENIDA SETE ...</td>\n",
       "      <td>RJ</td>\n",
       "      <td>MG</td>\n",
       "      <td>160503</td>\n",
       "      <td>DECEX/GESTOR</td>\n",
       "      <td>C4EN</td>\n",
       "      <td>MIL</td>\n",
       "      <td>CAPE</td>\n",
       "      <td>5758.75</td>\n",
       "      <td>0.0</td>\n",
       "      <td>5758.75</td>\n",
       "      <td>0.00</td>\n",
       "    </tr>\n",
       "    <tr>\n",
       "      <th>1167</th>\n",
       "      <td>160129</td>\n",
       "      <td>ESA</td>\n",
       "      <td>8965</td>\n",
       "      <td>CAPACITACAO PROFISSIONAL MILITAR DO E</td>\n",
       "      <td>2022</td>\n",
       "      <td>38680138000151</td>\n",
       "      <td>GESMAQ COMERCIO E SERVICOS LTDA</td>\n",
       "      <td>2022-10-06</td>\n",
       "      <td>392</td>\n",
       "      <td>160533</td>\n",
       "      <td>4º CGCFEX</td>\n",
       "      <td>339039</td>\n",
       "      <td>OUTROS SERVICOS DE TERCEIROS - PESSOA JURIDICA</td>\n",
       "      <td>33903917</td>\n",
       "      <td>MANUT. E CONSERV. DE MAQUINAS E EQUIPAMENTOS</td>\n",
       "      <td>2022NE001085</td>\n",
       "      <td>C4ENMILCAPE</td>\n",
       "      <td>CAPACITACAO DE PESSOAL</td>\n",
       "      <td>6012</td>\n",
       "      <td>171423</td>\n",
       "      <td>RPNP</td>\n",
       "      <td>GLOBAL</td>\n",
       "      <td>ESCOLA DE SARGENTOS DAS ARMAS</td>\n",
       "      <td>MG</td>\n",
       "      <td>MG</td>\n",
       "      <td>160503</td>\n",
       "      <td>DECEX/GESTOR</td>\n",
       "      <td>C4EN</td>\n",
       "      <td>MIL</td>\n",
       "      <td>CAPE</td>\n",
       "      <td>5543.35</td>\n",
       "      <td>0.0</td>\n",
       "      <td>5543.35</td>\n",
       "      <td>27716.65</td>\n",
       "    </tr>\n",
       "    <tr>\n",
       "      <th>1168</th>\n",
       "      <td>160129</td>\n",
       "      <td>ESA</td>\n",
       "      <td>8965</td>\n",
       "      <td>CAPACITACAO PROFISSIONAL MILITAR DO E</td>\n",
       "      <td>2022</td>\n",
       "      <td>38680138000151</td>\n",
       "      <td>GESMAQ COMERCIO E SERVICOS LTDA</td>\n",
       "      <td>2022-10-06</td>\n",
       "      <td>392</td>\n",
       "      <td>160533</td>\n",
       "      <td>4º CGCFEX</td>\n",
       "      <td>339040</td>\n",
       "      <td>SERVIÇOS DE TECNOLOGIA DA INFORMAÇÃO E COMUNIC...</td>\n",
       "      <td>33904012</td>\n",
       "      <td>MANUTENCAO E CONSERVACAO DE EQUIPAMENTOS DE TIC</td>\n",
       "      <td>2022NE001086</td>\n",
       "      <td>C4ENMILCAPE</td>\n",
       "      <td>CAPACITACAO DE PESSOAL</td>\n",
       "      <td>6012</td>\n",
       "      <td>171423</td>\n",
       "      <td>RPNP</td>\n",
       "      <td>GLOBAL</td>\n",
       "      <td>ESCOLA DE SARGENTOS DAS ARMAS</td>\n",
       "      <td>MG</td>\n",
       "      <td>MG</td>\n",
       "      <td>160503</td>\n",
       "      <td>DECEX/GESTOR</td>\n",
       "      <td>C4EN</td>\n",
       "      <td>MIL</td>\n",
       "      <td>CAPE</td>\n",
       "      <td>3466.70</td>\n",
       "      <td>0.0</td>\n",
       "      <td>3466.70</td>\n",
       "      <td>17333.30</td>\n",
       "    </tr>\n",
       "    <tr>\n",
       "      <th>1134</th>\n",
       "      <td>160129</td>\n",
       "      <td>ESA</td>\n",
       "      <td>8965</td>\n",
       "      <td>CAPACITACAO PROFISSIONAL MILITAR DO E</td>\n",
       "      <td>2022</td>\n",
       "      <td>05691235000190</td>\n",
       "      <td>COPYUAI LOCACAO DE EQUIPAMENTOS LTDA</td>\n",
       "      <td>2022-10-06</td>\n",
       "      <td>392</td>\n",
       "      <td>160533</td>\n",
       "      <td>4º CGCFEX</td>\n",
       "      <td>339040</td>\n",
       "      <td>SERVIÇOS DE TECNOLOGIA DA INFORMAÇÃO E COMUNIC...</td>\n",
       "      <td>33904012</td>\n",
       "      <td>MANUTENCAO E CONSERVACAO DE EQUIPAMENTOS DE TIC</td>\n",
       "      <td>2022NE001087</td>\n",
       "      <td>C4ENMILCAPE</td>\n",
       "      <td>CAPACITACAO DE PESSOAL</td>\n",
       "      <td>6012</td>\n",
       "      <td>171423</td>\n",
       "      <td>RPNP</td>\n",
       "      <td>GLOBAL</td>\n",
       "      <td>ESCOLA DE SARGENTOS DAS ARMAS</td>\n",
       "      <td>MG</td>\n",
       "      <td>MG</td>\n",
       "      <td>160503</td>\n",
       "      <td>DECEX/GESTOR</td>\n",
       "      <td>C4EN</td>\n",
       "      <td>MIL</td>\n",
       "      <td>CAPE</td>\n",
       "      <td>2397.00</td>\n",
       "      <td>0.0</td>\n",
       "      <td>2397.00</td>\n",
       "      <td>7191.00</td>\n",
       "    </tr>\n",
       "    <tr>\n",
       "      <th>1419</th>\n",
       "      <td>167129</td>\n",
       "      <td>ESA</td>\n",
       "      <td>2000</td>\n",
       "      <td>ADMINISTRACAO DA UNIDADE</td>\n",
       "      <td>2022</td>\n",
       "      <td>26669742000106</td>\n",
       "      <td>J. T. CATALDO CASTRO CRIATIVA DIGITAL</td>\n",
       "      <td>2022-11-30</td>\n",
       "      <td>337</td>\n",
       "      <td>160533</td>\n",
       "      <td>4º CGCFEX</td>\n",
       "      <td>339039</td>\n",
       "      <td>OUTROS SERVICOS DE TERCEIROS - PESSOA JURIDICA</td>\n",
       "      <td>33903963</td>\n",
       "      <td>SERVICOS GRAFICOS E EDITORIAIS</td>\n",
       "      <td>2022NE001843</td>\n",
       "      <td>C1ENCONDETM</td>\n",
       "      <td>CONCURSOS AS ESCOLAS MILITARES</td>\n",
       "      <td>0032</td>\n",
       "      <td>171502</td>\n",
       "      <td>RPNP</td>\n",
       "      <td>ORDINARIO</td>\n",
       "      <td>ESCOLA DE SARGENTOS DAS ARMAS  - AVENIDA SETE ...</td>\n",
       "      <td>RJ</td>\n",
       "      <td>MG</td>\n",
       "      <td>167503</td>\n",
       "      <td>DECEX - GESTOR</td>\n",
       "      <td>C1EN</td>\n",
       "      <td>CON</td>\n",
       "      <td>DETM</td>\n",
       "      <td>1016.25</td>\n",
       "      <td>0.0</td>\n",
       "      <td>1016.25</td>\n",
       "      <td>0.00</td>\n",
       "    </tr>\n",
       "    <tr>\n",
       "      <th>1148</th>\n",
       "      <td>160129</td>\n",
       "      <td>ESA</td>\n",
       "      <td>8965</td>\n",
       "      <td>CAPACITACAO PROFISSIONAL MILITAR DO E</td>\n",
       "      <td>2022</td>\n",
       "      <td>14807420000199</td>\n",
       "      <td>FACTO TURISMO  LTDA</td>\n",
       "      <td>2022-12-28</td>\n",
       "      <td>309</td>\n",
       "      <td>160533</td>\n",
       "      <td>4º CGCFEX</td>\n",
       "      <td>339033</td>\n",
       "      <td>PASSAGENS E DESPESAS COM LOCOMOCAO</td>\n",
       "      <td>33903301</td>\n",
       "      <td>PASSAGENS PARA O PAIS</td>\n",
       "      <td>2022NE002700</td>\n",
       "      <td>C1ENMILOUTR</td>\n",
       "      <td>OUTROS</td>\n",
       "      <td>6012</td>\n",
       "      <td>171423</td>\n",
       "      <td>RPNP</td>\n",
       "      <td>GLOBAL</td>\n",
       "      <td>ESA</td>\n",
       "      <td>SP</td>\n",
       "      <td>MG</td>\n",
       "      <td>160503</td>\n",
       "      <td>DECEX/GESTOR</td>\n",
       "      <td>C1EN</td>\n",
       "      <td>MIL</td>\n",
       "      <td>OUTR</td>\n",
       "      <td>487.75</td>\n",
       "      <td>0.0</td>\n",
       "      <td>487.75</td>\n",
       "      <td>49512.25</td>\n",
       "    </tr>\n",
       "    <tr>\n",
       "      <th>1154</th>\n",
       "      <td>160129</td>\n",
       "      <td>ESA</td>\n",
       "      <td>8965</td>\n",
       "      <td>CAPACITACAO PROFISSIONAL MILITAR DO E</td>\n",
       "      <td>2022</td>\n",
       "      <td>21331404000138</td>\n",
       "      <td>ORLEANS VIAGENS E TURISMO LTDA</td>\n",
       "      <td>2022-12-28</td>\n",
       "      <td>309</td>\n",
       "      <td>160533</td>\n",
       "      <td>4º CGCFEX</td>\n",
       "      <td>339033</td>\n",
       "      <td>PASSAGENS E DESPESAS COM LOCOMOCAO</td>\n",
       "      <td>33903301</td>\n",
       "      <td>PASSAGENS PARA O PAIS</td>\n",
       "      <td>2022NE002703</td>\n",
       "      <td>C1ENMILOUTR</td>\n",
       "      <td>OUTROS</td>\n",
       "      <td>6012</td>\n",
       "      <td>171423</td>\n",
       "      <td>RPNP</td>\n",
       "      <td>GLOBAL</td>\n",
       "      <td>ESA</td>\n",
       "      <td>SP</td>\n",
       "      <td>MG</td>\n",
       "      <td>160503</td>\n",
       "      <td>DECEX/GESTOR</td>\n",
       "      <td>C1EN</td>\n",
       "      <td>MIL</td>\n",
       "      <td>OUTR</td>\n",
       "      <td>146.93</td>\n",
       "      <td>0.0</td>\n",
       "      <td>146.93</td>\n",
       "      <td>9853.07</td>\n",
       "    </tr>\n",
       "  </tbody>\n",
       "</table>\n",
       "</div>"
      ],
      "text/plain": [
       "          UG SIGLA UG  ACAO                              NOME_ACAO   ANO  \\\n",
       "954   160129      ESA  219D  ADEQUACAO DE ATIVOS DE INFRAESTRUTURA  2022   \n",
       "953   160129      ESA  219D  ADEQUACAO DE ATIVOS DE INFRAESTRUTURA  2022   \n",
       "955   160129      ESA  219D  ADEQUACAO DE ATIVOS DE INFRAESTRUTURA  2022   \n",
       "1150  160129      ESA  8965  CAPACITACAO PROFISSIONAL MILITAR DO E  2022   \n",
       "1157  160129      ESA  8965  CAPACITACAO PROFISSIONAL MILITAR DO E  2022   \n",
       "1167  160129      ESA  8965  CAPACITACAO PROFISSIONAL MILITAR DO E  2022   \n",
       "1168  160129      ESA  8965  CAPACITACAO PROFISSIONAL MILITAR DO E  2022   \n",
       "1134  160129      ESA  8965  CAPACITACAO PROFISSIONAL MILITAR DO E  2022   \n",
       "1419  167129      ESA  2000               ADMINISTRACAO DA UNIDADE  2022   \n",
       "1148  160129      ESA  8965  CAPACITACAO PROFISSIONAL MILITAR DO E  2022   \n",
       "1154  160129      ESA  8965  CAPACITACAO PROFISSIONAL MILITAR DO E  2022   \n",
       "\n",
       "              CREDOR                                        NOME_CREDOR  \\\n",
       "954   17289559000186  FENARA & FENARA - ENGENHARIA E ADMINISTRACAO LTDA   \n",
       "953   17289559000186  FENARA & FENARA - ENGENHARIA E ADMINISTRACAO LTDA   \n",
       "955   17289559000186  FENARA & FENARA - ENGENHARIA E ADMINISTRACAO LTDA   \n",
       "1150  17289559000186  FENARA & FENARA - ENGENHARIA E ADMINISTRACAO LTDA   \n",
       "1157  26669742000106              J. T. CATALDO CASTRO CRIATIVA DIGITAL   \n",
       "1167  38680138000151                    GESMAQ COMERCIO E SERVICOS LTDA   \n",
       "1168  38680138000151                    GESMAQ COMERCIO E SERVICOS LTDA   \n",
       "1134  05691235000190               COPYUAI LOCACAO DE EQUIPAMENTOS LTDA   \n",
       "1419  26669742000106              J. T. CATALDO CASTRO CRIATIVA DIGITAL   \n",
       "1148  14807420000199                                FACTO TURISMO  LTDA   \n",
       "1154  21331404000138                     ORLEANS VIAGENS E TURISMO LTDA   \n",
       "\n",
       "           DATA  DIAS   ICFEX NOME_ICFEX      ND  \\\n",
       "954  2022-12-14   323  160533  4º CGCFEX  339039   \n",
       "953  2022-12-14   323  160533  4º CGCFEX  339039   \n",
       "955  2022-12-28   309  160533  4º CGCFEX  339039   \n",
       "1150 2022-12-28   309  160533  4º CGCFEX  339039   \n",
       "1157 2022-11-30   337  160533  4º CGCFEX  339039   \n",
       "1167 2022-10-06   392  160533  4º CGCFEX  339039   \n",
       "1168 2022-10-06   392  160533  4º CGCFEX  339040   \n",
       "1134 2022-10-06   392  160533  4º CGCFEX  339040   \n",
       "1419 2022-11-30   337  160533  4º CGCFEX  339039   \n",
       "1148 2022-12-28   309  160533  4º CGCFEX  339033   \n",
       "1154 2022-12-28   309  160533  4º CGCFEX  339033   \n",
       "\n",
       "                                                NOME_ND      NDSI  \\\n",
       "954      OUTROS SERVICOS DE TERCEIROS - PESSOA JURIDICA  33903916   \n",
       "953      OUTROS SERVICOS DE TERCEIROS - PESSOA JURIDICA  33903916   \n",
       "955      OUTROS SERVICOS DE TERCEIROS - PESSOA JURIDICA  33903916   \n",
       "1150     OUTROS SERVICOS DE TERCEIROS - PESSOA JURIDICA  33903916   \n",
       "1157     OUTROS SERVICOS DE TERCEIROS - PESSOA JURIDICA  33903963   \n",
       "1167     OUTROS SERVICOS DE TERCEIROS - PESSOA JURIDICA  33903917   \n",
       "1168  SERVIÇOS DE TECNOLOGIA DA INFORMAÇÃO E COMUNIC...  33904012   \n",
       "1134  SERVIÇOS DE TECNOLOGIA DA INFORMAÇÃO E COMUNIC...  33904012   \n",
       "1419     OUTROS SERVICOS DE TERCEIROS - PESSOA JURIDICA  33903963   \n",
       "1148                 PASSAGENS E DESPESAS COM LOCOMOCAO  33903301   \n",
       "1154                 PASSAGENS E DESPESAS COM LOCOMOCAO  33903301   \n",
       "\n",
       "                                            NOME_NDSI            NE  \\\n",
       "954             MANUTENCAO E CONSERV. DE BENS IMOVEIS  2022NE002483   \n",
       "953             MANUTENCAO E CONSERV. DE BENS IMOVEIS  2022NE002482   \n",
       "955             MANUTENCAO E CONSERV. DE BENS IMOVEIS  2022NE002701   \n",
       "1150            MANUTENCAO E CONSERV. DE BENS IMOVEIS  2022NE002702   \n",
       "1157                   SERVICOS GRAFICOS E EDITORIAIS  2022NE002421   \n",
       "1167     MANUT. E CONSERV. DE MAQUINAS E EQUIPAMENTOS  2022NE001085   \n",
       "1168  MANUTENCAO E CONSERVACAO DE EQUIPAMENTOS DE TIC  2022NE001086   \n",
       "1134  MANUTENCAO E CONSERVACAO DE EQUIPAMENTOS DE TIC  2022NE001087   \n",
       "1419                   SERVICOS GRAFICOS E EDITORIAIS  2022NE001843   \n",
       "1148                            PASSAGENS PARA O PAIS  2022NE002700   \n",
       "1154                            PASSAGENS PARA O PAIS  2022NE002703   \n",
       "\n",
       "               PI                         NOME_PI PROGRAMA   PTRES  TIPO  \\\n",
       "954   B4OMOBMAQUA                  AQUARTELAMENTO     6012  171459  RPNP   \n",
       "953   B4OMOBMAQUA                  AQUARTELAMENTO     6012  171459  RPNP   \n",
       "955   B4OMOBMAQUA                  AQUARTELAMENTO     6012  171459  RPNP   \n",
       "1150  C1ENMILOUTR                          OUTROS     6012  171423  RPNP   \n",
       "1157  C4ENMILCAPE          CAPACITACAO DE PESSOAL     6012  171423  RPNP   \n",
       "1167  C4ENMILCAPE          CAPACITACAO DE PESSOAL     6012  171423  RPNP   \n",
       "1168  C4ENMILCAPE          CAPACITACAO DE PESSOAL     6012  171423  RPNP   \n",
       "1134  C4ENMILCAPE          CAPACITACAO DE PESSOAL     6012  171423  RPNP   \n",
       "1419  C1ENCONDETM  CONCURSOS AS ESCOLAS MILITARES     0032  171502  RPNP   \n",
       "1148  C1ENMILOUTR                          OUTROS     6012  171423  RPNP   \n",
       "1154  C1ENMILOUTR                          OUTROS     6012  171423  RPNP   \n",
       "\n",
       "        TIPO_NE                                              LOCAL UF_CREDOR  \\\n",
       "954      GLOBAL  ESCOLA DE SARGENTOS DAS ARMAS  - AVENIDA SETE ...        SP   \n",
       "953      GLOBAL  ESCOLA DE SARGENTOS DAS ARMAS  - AVENIDA SETE ...        SP   \n",
       "955      GLOBAL                      ESCOLA DE SARGENTOS DAS ARMAS        SP   \n",
       "1150     GLOBAL                      ESCOLA DE SARGENTOS DAS ARMAS        SP   \n",
       "1157  ORDINARIO  ESCOLA DE SARGENTOS DAS ARMAS  - AVENIDA SETE ...        RJ   \n",
       "1167     GLOBAL                      ESCOLA DE SARGENTOS DAS ARMAS        MG   \n",
       "1168     GLOBAL                      ESCOLA DE SARGENTOS DAS ARMAS        MG   \n",
       "1134     GLOBAL                      ESCOLA DE SARGENTOS DAS ARMAS        MG   \n",
       "1419  ORDINARIO  ESCOLA DE SARGENTOS DAS ARMAS  - AVENIDA SETE ...        RJ   \n",
       "1148     GLOBAL                                                ESA        SP   \n",
       "1154     GLOBAL                                                ESA        SP   \n",
       "\n",
       "     UF_UG     UGR        NOME_UGR RADPI4 MEIPI3 SUFPI4  A_LIQUIDAR  \\\n",
       "954     MG  160502      DEC-GESTOR   B4OM    OBM   AQUA   263051.08   \n",
       "953     MG  160502      DEC-GESTOR   B4OM    OBM   AQUA   155796.97   \n",
       "955     MG  160502      DEC-GESTOR   B4OM    OBM   AQUA    51192.83   \n",
       "1150    MG  160503    DECEX/GESTOR   C1EN    MIL   OUTR    12733.76   \n",
       "1157    MG  160503    DECEX/GESTOR   C4EN    MIL   CAPE     5758.75   \n",
       "1167    MG  160503    DECEX/GESTOR   C4EN    MIL   CAPE     5543.35   \n",
       "1168    MG  160503    DECEX/GESTOR   C4EN    MIL   CAPE     3466.70   \n",
       "1134    MG  160503    DECEX/GESTOR   C4EN    MIL   CAPE     2397.00   \n",
       "1419    MG  167503  DECEX - GESTOR   C1EN    CON   DETM     1016.25   \n",
       "1148    MG  160503    DECEX/GESTOR   C1EN    MIL   OUTR      487.75   \n",
       "1154    MG  160503    DECEX/GESTOR   C1EN    MIL   OUTR      146.93   \n",
       "\n",
       "      LIQUIDADO_A_PAGAR  TOTAL_A_PAGAR       PAGO  \n",
       "954                 0.0      263051.08  171948.92  \n",
       "953                 0.0      155796.97  204469.27  \n",
       "955                 0.0       51192.83   98807.17  \n",
       "1150                0.0       12733.76       0.00  \n",
       "1157                0.0        5758.75       0.00  \n",
       "1167                0.0        5543.35   27716.65  \n",
       "1168                0.0        3466.70   17333.30  \n",
       "1134                0.0        2397.00    7191.00  \n",
       "1419                0.0        1016.25       0.00  \n",
       "1148                0.0         487.75   49512.25  \n",
       "1154                0.0         146.93    9853.07  "
      ]
     },
     "execution_count": 36,
     "metadata": {},
     "output_type": "execute_result"
    }
   ],
   "source": [
    "df_restos = df_teste[(df_teste['ANO'] == '2022') & (df_teste['A_LIQUIDAR'] !=  0)].sort_values(by='A_LIQUIDAR', ascending=False)\n",
    "\n",
    "df_restos"
   ]
  }
 ],
 "metadata": {
  "kernelspec": {
   "display_name": "base",
   "language": "python",
   "name": "python3"
  },
  "language_info": {
   "codemirror_mode": {
    "name": "ipython",
    "version": 3
   },
   "file_extension": ".py",
   "mimetype": "text/x-python",
   "name": "python",
   "nbconvert_exporter": "python",
   "pygments_lexer": "ipython3",
   "version": "3.11.5"
  },
  "orig_nbformat": 4
 },
 "nbformat": 4,
 "nbformat_minor": 2
}
