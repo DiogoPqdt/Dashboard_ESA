{
 "cells": [
  {
   "cell_type": "markdown",
   "metadata": {},
   "source": [
    "# Criar VENV\n",
    "\n",
    "https://oandersonbm.medium.com/usando-python-no-vs-code-com-ambiente-virtual-venv-ecef7959b652"
   ]
  },
  {
   "cell_type": "code",
   "execution_count": 3,
   "metadata": {},
   "outputs": [],
   "source": [
    "import pandas as pd\n",
    "import plotly.express as px\n",
    "import plotly.graph_objects as go\n",
    "from datetime import datetime\n",
    "import locale\n",
    "\n",
    "# Definindo a configuração local para o Brasil (pt_BR)\n",
    "locale.setlocale(locale.LC_ALL, 'pt_BR')\n",
    "\n",
    "# Personalizando para ver todas as colunas e linhas do DataFrame\n",
    "pd.set_option('display.max_columns', None)\n",
    "\n",
    "pd.set_option('display.max_rows', None) "
   ]
  },
  {
   "cell_type": "markdown",
   "metadata": {},
   "source": [
    "# Base de dados"
   ]
  },
  {
   "cell_type": "code",
   "execution_count": 4,
   "metadata": {},
   "outputs": [],
   "source": [
    "# Realizando a junção dos 3 arquivos .CSV num único DataFrame\n",
    "\n",
    "# Caminhos para os arquivos .CSV\n",
    "caminho_1 = r\"C:\\Users\\User\\OneDrive\\Trabalho\\ESA 2024\\Dashboard_ESA\\base_dados\\Cel Manfrini.csv\"\n",
    "\n",
    "caminho_2 = r\"C:\\Users\\User\\OneDrive\\Trabalho\\ESA 2024\\Dashboard_ESA\\base_dados\\Cel Manfrini(1).csv\"\n",
    "#\n",
    "caminho_3 = r\"C:\\Users\\User\\OneDrive\\Trabalho\\ESA 2024\\Dashboard_ESA\\base_dados\\Cel Manfrini(2).csv\"\n",
    "#\n",
    "caminho_4 = r\"C:\\Users\\User\\OneDrive\\Trabalho\\ESA 2024\\Dashboard_ESA\\base_dados\\Cel Manfrini(3).csv\"\n",
    "#\n",
    "caminho_5 = r\"C:\\Users\\User\\OneDrive\\Trabalho\\ESA 2024\\Dashboard_ESA\\base_dados\\Cel Manfrini(4).csv\"\n",
    "#\n",
    "#caminho_6 = r\"D:\\OneDrive\\Trabalho\\ESA 2023\\Dashboard_ESA\\base_dados\\Cel Manfrini(5).csv\"\n",
    "\n",
    "\n",
    "\n",
    "# Leitura dos arquivos .CSV em DataFrames individuais\n",
    "df1 = pd.read_csv(caminho_1)\n",
    "df2 = pd.read_csv(caminho_2)\n",
    "df3 = pd.read_csv(caminho_3)\n",
    "df4 = pd.read_csv(caminho_4)\n",
    "df5 = pd.read_csv(caminho_5)\n",
    "#df6 = pd.read_csv(caminho_6)\n",
    "\n",
    "# Concatenação dos DataFrames em um único DataFrame\n",
    "df = pd.concat([df1, df2, df3, df4, df5], ignore_index=True)\n",
    "\n",
    "# Excluindo linhas que contenham a string \"Tela\" em qualquer coluna\n",
    "df = df[~df.apply(lambda row: row.astype(str).str.contains('Tela')).any(axis=1)]\n",
    "\n",
    "# Inserindo _ nos titulos das colunas\n",
    "df.columns = df.columns.str.replace(' ', '_')\n",
    "\n",
    "# Transformando o tipo de dado das colunas de valores monetários\n",
    "df['A_LIQUIDAR'] = df['A_LIQUIDAR'].apply(lambda x: float(x.replace('.', '').replace(',', '.')))\n",
    "df['LIQUIDADO_A_PAGAR'] = df['LIQUIDADO_A_PAGAR'].apply(lambda x: float(x.replace('.', '').replace(',', '.')))\n",
    "df['TOTAL_A_PAGAR'] = df['TOTAL_A_PAGAR'].apply(lambda x: float(x.replace('.', '').replace(',', '.')))\n",
    "df['PAGO'] = df['PAGO'].apply(lambda x: float(x.replace('.', '').replace(',', '.')))\n",
    "\n",
    "# Convertendo a coluna DATA para datetime\n",
    "df['DATA'] = pd.to_datetime(df['DATA'], format='%d/%m/%y')\n",
    "\n",
    "# Convertendo a coluna DIAS em número inteiro\n",
    "df['DIAS'] = df['DIAS'].astype(int)"
   ]
  },
  {
   "cell_type": "markdown",
   "metadata": {},
   "source": [
    "# Trabalhando com um DATAFRAME voltado para controle dos SALDOS"
   ]
  },
  {
   "cell_type": "code",
   "execution_count": 5,
   "metadata": {},
   "outputs": [],
   "source": [
    "df_saldos = df[['ANO', 'NOME_CREDOR', 'DATA', 'DIAS', 'ND','NDSI', 'NOME_NDSI', 'NE', 'PI', 'NOME_PI','TIPO', 'NOME_UGR', 'A_LIQUIDAR', 'LIQUIDADO_A_PAGAR', 'TOTAL_A_PAGAR', 'PAGO']]"
   ]
  },
  {
   "cell_type": "code",
   "execution_count": 6,
   "metadata": {},
   "outputs": [
    {
     "name": "stdout",
     "output_type": "stream",
     "text": [
      "O total pago pela ESA até o momento foi: R$ 40.221.277,73\n",
      "O total de saldo a liquidar pela ESA até o momento foi: R$ 7.822.745,58\n",
      "O total de saldo liquidado a pagar pela ESA até o momento foi: R$ 528.750,32\n",
      "O total de saldo a pagar pela ESA até o momento foi: R$ 8.351.495,90\n"
     ]
    }
   ],
   "source": [
    "# Saldos Totais\n",
    "total_pago = df['PAGO'].sum().round(2)\n",
    "total_a_liquidar = df['A_LIQUIDAR'].sum().round(2)\n",
    "total_liquidado_a_pagar = df['LIQUIDADO_A_PAGAR'].sum().round(2)\n",
    "total_a_pagar = df['TOTAL_A_PAGAR'].sum().round(2)\n",
    "\n",
    "\n",
    "print(f'O total pago pela ESA até o momento foi: {locale.currency(total_pago, grouping=True)}')\n",
    "print(f'O total de saldo a liquidar pela ESA até o momento foi: {locale.currency(total_a_liquidar, grouping=True)}')\n",
    "print(f'O total de saldo liquidado a pagar pela ESA até o momento foi: {locale.currency(total_liquidado_a_pagar, grouping=True)}')\n",
    "print(f'O total de saldo a pagar pela ESA até o momento foi: {locale.currency(total_a_pagar, grouping=True)}')"
   ]
  },
  {
   "cell_type": "code",
   "execution_count": 7,
   "metadata": {},
   "outputs": [
    {
     "data": {
      "application/vnd.plotly.v1+json": {
       "config": {
        "plotlyServerURL": "https://plot.ly"
       },
       "data": [
        {
         "alignmentgroup": "True",
         "cliponaxis": false,
         "legendgroup": "",
         "marker": {
          "color": [
           4966261.21,
           1229142.22,
           1050411.24,
           197333.68,
           181383.90999999997,
           100370.17,
           53216.55,
           16950.600000000002,
           11217.3,
           8774.8,
           6275.99,
           1407.91
          ],
          "coloraxis": "coloraxis",
          "pattern": {
           "shape": ""
          }
         },
         "name": "",
         "offsetgroup": "",
         "orientation": "v",
         "showlegend": false,
         "textposition": "outside",
         "texttemplate": "%{y:.3s}",
         "type": "bar",
         "x": [
          "339039",
          "339033",
          "339030",
          "339040",
          "339037",
          "449052",
          "339036",
          "339093",
          "339147",
          "339015",
          "339092",
          "339047"
         ],
         "xaxis": "x",
         "y": [
          4966261.21,
          1229142.22,
          1050411.24,
          197333.68,
          181383.90999999997,
          100370.17,
          53216.55,
          16950.600000000002,
          11217.3,
          8774.8,
          6275.99,
          1407.91
         ],
         "yaxis": "y"
        }
       ],
       "layout": {
        "barmode": "relative",
        "coloraxis": {
         "colorbar": {
          "title": {
           "text": "Saldo a liquidar"
          }
         },
         "colorscale": [
          [
           0,
           "rgb(255,245,240)"
          ],
          [
           0.125,
           "rgb(254,224,210)"
          ],
          [
           0.25,
           "rgb(252,187,161)"
          ],
          [
           0.375,
           "rgb(252,146,114)"
          ],
          [
           0.5,
           "rgb(251,106,74)"
          ],
          [
           0.625,
           "rgb(239,59,44)"
          ],
          [
           0.75,
           "rgb(203,24,29)"
          ],
          [
           0.875,
           "rgb(165,15,21)"
          ],
          [
           1,
           "rgb(103,0,13)"
          ]
         ]
        },
        "height": 500,
        "hovermode": "x unified",
        "legend": {
         "tracegroupgap": 0
        },
        "template": {
         "data": {
          "bar": [
           {
            "error_x": {
             "color": "#2a3f5f"
            },
            "error_y": {
             "color": "#2a3f5f"
            },
            "marker": {
             "line": {
              "color": "white",
              "width": 0.5
             },
             "pattern": {
              "fillmode": "overlay",
              "size": 10,
              "solidity": 0.2
             }
            },
            "type": "bar"
           }
          ],
          "barpolar": [
           {
            "marker": {
             "line": {
              "color": "white",
              "width": 0.5
             },
             "pattern": {
              "fillmode": "overlay",
              "size": 10,
              "solidity": 0.2
             }
            },
            "type": "barpolar"
           }
          ],
          "carpet": [
           {
            "aaxis": {
             "endlinecolor": "#2a3f5f",
             "gridcolor": "#C8D4E3",
             "linecolor": "#C8D4E3",
             "minorgridcolor": "#C8D4E3",
             "startlinecolor": "#2a3f5f"
            },
            "baxis": {
             "endlinecolor": "#2a3f5f",
             "gridcolor": "#C8D4E3",
             "linecolor": "#C8D4E3",
             "minorgridcolor": "#C8D4E3",
             "startlinecolor": "#2a3f5f"
            },
            "type": "carpet"
           }
          ],
          "choropleth": [
           {
            "colorbar": {
             "outlinewidth": 0,
             "ticks": ""
            },
            "type": "choropleth"
           }
          ],
          "contour": [
           {
            "colorbar": {
             "outlinewidth": 0,
             "ticks": ""
            },
            "colorscale": [
             [
              0,
              "#0d0887"
             ],
             [
              0.1111111111111111,
              "#46039f"
             ],
             [
              0.2222222222222222,
              "#7201a8"
             ],
             [
              0.3333333333333333,
              "#9c179e"
             ],
             [
              0.4444444444444444,
              "#bd3786"
             ],
             [
              0.5555555555555556,
              "#d8576b"
             ],
             [
              0.6666666666666666,
              "#ed7953"
             ],
             [
              0.7777777777777778,
              "#fb9f3a"
             ],
             [
              0.8888888888888888,
              "#fdca26"
             ],
             [
              1,
              "#f0f921"
             ]
            ],
            "type": "contour"
           }
          ],
          "contourcarpet": [
           {
            "colorbar": {
             "outlinewidth": 0,
             "ticks": ""
            },
            "type": "contourcarpet"
           }
          ],
          "heatmap": [
           {
            "colorbar": {
             "outlinewidth": 0,
             "ticks": ""
            },
            "colorscale": [
             [
              0,
              "#0d0887"
             ],
             [
              0.1111111111111111,
              "#46039f"
             ],
             [
              0.2222222222222222,
              "#7201a8"
             ],
             [
              0.3333333333333333,
              "#9c179e"
             ],
             [
              0.4444444444444444,
              "#bd3786"
             ],
             [
              0.5555555555555556,
              "#d8576b"
             ],
             [
              0.6666666666666666,
              "#ed7953"
             ],
             [
              0.7777777777777778,
              "#fb9f3a"
             ],
             [
              0.8888888888888888,
              "#fdca26"
             ],
             [
              1,
              "#f0f921"
             ]
            ],
            "type": "heatmap"
           }
          ],
          "heatmapgl": [
           {
            "colorbar": {
             "outlinewidth": 0,
             "ticks": ""
            },
            "colorscale": [
             [
              0,
              "#0d0887"
             ],
             [
              0.1111111111111111,
              "#46039f"
             ],
             [
              0.2222222222222222,
              "#7201a8"
             ],
             [
              0.3333333333333333,
              "#9c179e"
             ],
             [
              0.4444444444444444,
              "#bd3786"
             ],
             [
              0.5555555555555556,
              "#d8576b"
             ],
             [
              0.6666666666666666,
              "#ed7953"
             ],
             [
              0.7777777777777778,
              "#fb9f3a"
             ],
             [
              0.8888888888888888,
              "#fdca26"
             ],
             [
              1,
              "#f0f921"
             ]
            ],
            "type": "heatmapgl"
           }
          ],
          "histogram": [
           {
            "marker": {
             "pattern": {
              "fillmode": "overlay",
              "size": 10,
              "solidity": 0.2
             }
            },
            "type": "histogram"
           }
          ],
          "histogram2d": [
           {
            "colorbar": {
             "outlinewidth": 0,
             "ticks": ""
            },
            "colorscale": [
             [
              0,
              "#0d0887"
             ],
             [
              0.1111111111111111,
              "#46039f"
             ],
             [
              0.2222222222222222,
              "#7201a8"
             ],
             [
              0.3333333333333333,
              "#9c179e"
             ],
             [
              0.4444444444444444,
              "#bd3786"
             ],
             [
              0.5555555555555556,
              "#d8576b"
             ],
             [
              0.6666666666666666,
              "#ed7953"
             ],
             [
              0.7777777777777778,
              "#fb9f3a"
             ],
             [
              0.8888888888888888,
              "#fdca26"
             ],
             [
              1,
              "#f0f921"
             ]
            ],
            "type": "histogram2d"
           }
          ],
          "histogram2dcontour": [
           {
            "colorbar": {
             "outlinewidth": 0,
             "ticks": ""
            },
            "colorscale": [
             [
              0,
              "#0d0887"
             ],
             [
              0.1111111111111111,
              "#46039f"
             ],
             [
              0.2222222222222222,
              "#7201a8"
             ],
             [
              0.3333333333333333,
              "#9c179e"
             ],
             [
              0.4444444444444444,
              "#bd3786"
             ],
             [
              0.5555555555555556,
              "#d8576b"
             ],
             [
              0.6666666666666666,
              "#ed7953"
             ],
             [
              0.7777777777777778,
              "#fb9f3a"
             ],
             [
              0.8888888888888888,
              "#fdca26"
             ],
             [
              1,
              "#f0f921"
             ]
            ],
            "type": "histogram2dcontour"
           }
          ],
          "mesh3d": [
           {
            "colorbar": {
             "outlinewidth": 0,
             "ticks": ""
            },
            "type": "mesh3d"
           }
          ],
          "parcoords": [
           {
            "line": {
             "colorbar": {
              "outlinewidth": 0,
              "ticks": ""
             }
            },
            "type": "parcoords"
           }
          ],
          "pie": [
           {
            "automargin": true,
            "type": "pie"
           }
          ],
          "scatter": [
           {
            "fillpattern": {
             "fillmode": "overlay",
             "size": 10,
             "solidity": 0.2
            },
            "type": "scatter"
           }
          ],
          "scatter3d": [
           {
            "line": {
             "colorbar": {
              "outlinewidth": 0,
              "ticks": ""
             }
            },
            "marker": {
             "colorbar": {
              "outlinewidth": 0,
              "ticks": ""
             }
            },
            "type": "scatter3d"
           }
          ],
          "scattercarpet": [
           {
            "marker": {
             "colorbar": {
              "outlinewidth": 0,
              "ticks": ""
             }
            },
            "type": "scattercarpet"
           }
          ],
          "scattergeo": [
           {
            "marker": {
             "colorbar": {
              "outlinewidth": 0,
              "ticks": ""
             }
            },
            "type": "scattergeo"
           }
          ],
          "scattergl": [
           {
            "marker": {
             "colorbar": {
              "outlinewidth": 0,
              "ticks": ""
             }
            },
            "type": "scattergl"
           }
          ],
          "scattermapbox": [
           {
            "marker": {
             "colorbar": {
              "outlinewidth": 0,
              "ticks": ""
             }
            },
            "type": "scattermapbox"
           }
          ],
          "scatterpolar": [
           {
            "marker": {
             "colorbar": {
              "outlinewidth": 0,
              "ticks": ""
             }
            },
            "type": "scatterpolar"
           }
          ],
          "scatterpolargl": [
           {
            "marker": {
             "colorbar": {
              "outlinewidth": 0,
              "ticks": ""
             }
            },
            "type": "scatterpolargl"
           }
          ],
          "scatterternary": [
           {
            "marker": {
             "colorbar": {
              "outlinewidth": 0,
              "ticks": ""
             }
            },
            "type": "scatterternary"
           }
          ],
          "surface": [
           {
            "colorbar": {
             "outlinewidth": 0,
             "ticks": ""
            },
            "colorscale": [
             [
              0,
              "#0d0887"
             ],
             [
              0.1111111111111111,
              "#46039f"
             ],
             [
              0.2222222222222222,
              "#7201a8"
             ],
             [
              0.3333333333333333,
              "#9c179e"
             ],
             [
              0.4444444444444444,
              "#bd3786"
             ],
             [
              0.5555555555555556,
              "#d8576b"
             ],
             [
              0.6666666666666666,
              "#ed7953"
             ],
             [
              0.7777777777777778,
              "#fb9f3a"
             ],
             [
              0.8888888888888888,
              "#fdca26"
             ],
             [
              1,
              "#f0f921"
             ]
            ],
            "type": "surface"
           }
          ],
          "table": [
           {
            "cells": {
             "fill": {
              "color": "#EBF0F8"
             },
             "line": {
              "color": "white"
             }
            },
            "header": {
             "fill": {
              "color": "#C8D4E3"
             },
             "line": {
              "color": "white"
             }
            },
            "type": "table"
           }
          ]
         },
         "layout": {
          "annotationdefaults": {
           "arrowcolor": "#2a3f5f",
           "arrowhead": 0,
           "arrowwidth": 1
          },
          "autotypenumbers": "strict",
          "coloraxis": {
           "colorbar": {
            "outlinewidth": 0,
            "ticks": ""
           }
          },
          "colorscale": {
           "diverging": [
            [
             0,
             "#8e0152"
            ],
            [
             0.1,
             "#c51b7d"
            ],
            [
             0.2,
             "#de77ae"
            ],
            [
             0.3,
             "#f1b6da"
            ],
            [
             0.4,
             "#fde0ef"
            ],
            [
             0.5,
             "#f7f7f7"
            ],
            [
             0.6,
             "#e6f5d0"
            ],
            [
             0.7,
             "#b8e186"
            ],
            [
             0.8,
             "#7fbc41"
            ],
            [
             0.9,
             "#4d9221"
            ],
            [
             1,
             "#276419"
            ]
           ],
           "sequential": [
            [
             0,
             "#0d0887"
            ],
            [
             0.1111111111111111,
             "#46039f"
            ],
            [
             0.2222222222222222,
             "#7201a8"
            ],
            [
             0.3333333333333333,
             "#9c179e"
            ],
            [
             0.4444444444444444,
             "#bd3786"
            ],
            [
             0.5555555555555556,
             "#d8576b"
            ],
            [
             0.6666666666666666,
             "#ed7953"
            ],
            [
             0.7777777777777778,
             "#fb9f3a"
            ],
            [
             0.8888888888888888,
             "#fdca26"
            ],
            [
             1,
             "#f0f921"
            ]
           ],
           "sequentialminus": [
            [
             0,
             "#0d0887"
            ],
            [
             0.1111111111111111,
             "#46039f"
            ],
            [
             0.2222222222222222,
             "#7201a8"
            ],
            [
             0.3333333333333333,
             "#9c179e"
            ],
            [
             0.4444444444444444,
             "#bd3786"
            ],
            [
             0.5555555555555556,
             "#d8576b"
            ],
            [
             0.6666666666666666,
             "#ed7953"
            ],
            [
             0.7777777777777778,
             "#fb9f3a"
            ],
            [
             0.8888888888888888,
             "#fdca26"
            ],
            [
             1,
             "#f0f921"
            ]
           ]
          },
          "colorway": [
           "#636efa",
           "#EF553B",
           "#00cc96",
           "#ab63fa",
           "#FFA15A",
           "#19d3f3",
           "#FF6692",
           "#B6E880",
           "#FF97FF",
           "#FECB52"
          ],
          "font": {
           "color": "#2a3f5f"
          },
          "geo": {
           "bgcolor": "white",
           "lakecolor": "white",
           "landcolor": "white",
           "showlakes": true,
           "showland": true,
           "subunitcolor": "#C8D4E3"
          },
          "hoverlabel": {
           "align": "left"
          },
          "hovermode": "closest",
          "mapbox": {
           "style": "light"
          },
          "paper_bgcolor": "white",
          "plot_bgcolor": "white",
          "polar": {
           "angularaxis": {
            "gridcolor": "#EBF0F8",
            "linecolor": "#EBF0F8",
            "ticks": ""
           },
           "bgcolor": "white",
           "radialaxis": {
            "gridcolor": "#EBF0F8",
            "linecolor": "#EBF0F8",
            "ticks": ""
           }
          },
          "scene": {
           "xaxis": {
            "backgroundcolor": "white",
            "gridcolor": "#DFE8F3",
            "gridwidth": 2,
            "linecolor": "#EBF0F8",
            "showbackground": true,
            "ticks": "",
            "zerolinecolor": "#EBF0F8"
           },
           "yaxis": {
            "backgroundcolor": "white",
            "gridcolor": "#DFE8F3",
            "gridwidth": 2,
            "linecolor": "#EBF0F8",
            "showbackground": true,
            "ticks": "",
            "zerolinecolor": "#EBF0F8"
           },
           "zaxis": {
            "backgroundcolor": "white",
            "gridcolor": "#DFE8F3",
            "gridwidth": 2,
            "linecolor": "#EBF0F8",
            "showbackground": true,
            "ticks": "",
            "zerolinecolor": "#EBF0F8"
           }
          },
          "shapedefaults": {
           "line": {
            "color": "#2a3f5f"
           }
          },
          "ternary": {
           "aaxis": {
            "gridcolor": "#DFE8F3",
            "linecolor": "#A2B1C6",
            "ticks": ""
           },
           "baxis": {
            "gridcolor": "#DFE8F3",
            "linecolor": "#A2B1C6",
            "ticks": ""
           },
           "bgcolor": "white",
           "caxis": {
            "gridcolor": "#DFE8F3",
            "linecolor": "#A2B1C6",
            "ticks": ""
           }
          },
          "title": {
           "x": 0.05
          },
          "xaxis": {
           "automargin": true,
           "gridcolor": "#EBF0F8",
           "linecolor": "#EBF0F8",
           "ticks": "",
           "title": {
            "standoff": 15
           },
           "zerolinecolor": "#EBF0F8",
           "zerolinewidth": 2
          },
          "yaxis": {
           "automargin": true,
           "gridcolor": "#EBF0F8",
           "linecolor": "#EBF0F8",
           "ticks": "",
           "title": {
            "standoff": 15
           },
           "zerolinecolor": "#EBF0F8",
           "zerolinewidth": 2
          }
         }
        },
        "title": {
         "text": "Saldo a liquidar por ND"
        },
        "xaxis": {
         "anchor": "y",
         "domain": [
          0,
          1
         ],
         "title": {
          "text": "Natureza da Despesa"
         }
        },
        "yaxis": {
         "anchor": "x",
         "domain": [
          0,
          1
         ],
         "title": {
          "text": "Saldo a liquidar"
         },
         "type": "log"
        }
       }
      }
     },
     "metadata": {},
     "output_type": "display_data"
    }
   ],
   "source": [
    "# Saldo a liquidar por ND\n",
    "cols = ['ND', 'A_LIQUIDAR']\n",
    "\n",
    "df_aux = df.loc[:, cols].groupby('ND').sum().sort_values(by= 'A_LIQUIDAR', ascending=False).reset_index()\n",
    "df_aux = df_aux[df_aux['A_LIQUIDAR'] > 0]\n",
    "fig = px.bar(df_aux, \n",
    "             x='ND', \n",
    "             y='A_LIQUIDAR',\n",
    "             title='Saldo a liquidar por ND',\n",
    "             labels={'ND':'Natureza da Despesa', 'A_LIQUIDAR':'Saldo a liquidar'},\n",
    "             text_auto='.3s',\n",
    "             height=500,\n",
    "             log_y=True,\n",
    "             color='A_LIQUIDAR',\n",
    "             color_continuous_scale = 'reds',\n",
    "             template='plotly_white')\n",
    "fig.update_traces(textposition = 'outside', cliponaxis = False, hovertemplate=None)\n",
    "fig.update_layout(hovermode=\"x unified\")\n",
    "\n",
    "fig.show()"
   ]
  },
  {
   "cell_type": "code",
   "execution_count": 8,
   "metadata": {},
   "outputs": [
    {
     "data": {
      "application/vnd.plotly.v1+json": {
       "config": {
        "plotlyServerURL": "https://plot.ly"
       },
       "data": [
        {
         "alignmentgroup": "True",
         "cliponaxis": false,
         "legendgroup": "",
         "marker": {
          "color": [
           3230517.8000000003,
           932021.61,
           702832.8,
           436241,
           362851.24,
           284812.89,
           186903.63000000003,
           181383.90999999997,
           173210,
           169544.64,
           160438.46,
           139037.95,
           98022.17,
           85048.31999999999,
           61862.85,
           55995.3,
           53216.55,
           53096.08,
           49700,
           49479.26,
           36895.22,
           34073.12,
           32989.5,
           26069,
           24574.98,
           17155.55,
           16504.2,
           16233.45,
           15520,
           15270,
           14501.390000000001,
           13831.310000000001,
           13350,
           11753,
           11217.3,
           10494,
           8774.8,
           8217.66,
           6275.99,
           4795.19,
           3753,
           2716.3,
           2200,
           2014.7,
           1845,
           1610.95,
           1407.91,
           755.68,
           583.59,
           454.93,
           446.4,
           245
          ],
          "coloraxis": "coloraxis",
          "pattern": {
           "shape": ""
          }
         },
         "name": "",
         "offsetgroup": "",
         "orientation": "v",
         "showlegend": false,
         "textposition": "outside",
         "texttemplate": "%{y:.3s}",
         "type": "bar",
         "x": [
          "33903950",
          "33903916",
          "33903309",
          "33903304",
          "33903007",
          "33903943",
          "33903946",
          "33903702",
          "33903922",
          "33903006",
          "33904016",
          "33903022",
          "33903024",
          "33903009",
          "33903004",
          "33903307",
          "33903630",
          "33903947",
          "44905238",
          "33903917",
          "33904012",
          "33903301",
          "33903011",
          "33903920",
          "33903017",
          "33903039",
          "33909318",
          "33903036",
          "44905206",
          "44905247",
          "44905234",
          "33903958",
          "33903021",
          "33903914",
          "33914718",
          "33903025",
          "33901516",
          "33903026",
          "33909293",
          "44905228",
          "33903035",
          "33903096",
          "33903963",
          "33903001",
          "33903028",
          "33903944",
          "33904722",
          "33903996",
          "44905241",
          "33903020",
          "33909319",
          "33903042"
         ],
         "xaxis": "x",
         "y": [
          3230517.8000000003,
          932021.61,
          702832.8,
          436241,
          362851.24,
          284812.89,
          186903.63000000003,
          181383.90999999997,
          173210,
          169544.64,
          160438.46,
          139037.95,
          98022.17,
          85048.31999999999,
          61862.85,
          55995.3,
          53216.55,
          53096.08,
          49700,
          49479.26,
          36895.22,
          34073.12,
          32989.5,
          26069,
          24574.98,
          17155.55,
          16504.2,
          16233.45,
          15520,
          15270,
          14501.390000000001,
          13831.310000000001,
          13350,
          11753,
          11217.3,
          10494,
          8774.8,
          8217.66,
          6275.99,
          4795.19,
          3753,
          2716.3,
          2200,
          2014.7,
          1845,
          1610.95,
          1407.91,
          755.68,
          583.59,
          454.93,
          446.4,
          245
         ],
         "yaxis": "y"
        }
       ],
       "layout": {
        "barmode": "relative",
        "coloraxis": {
         "colorbar": {
          "title": {
           "text": "Saldo a liquidar"
          }
         },
         "colorscale": [
          [
           0,
           "rgb(255,245,240)"
          ],
          [
           0.125,
           "rgb(254,224,210)"
          ],
          [
           0.25,
           "rgb(252,187,161)"
          ],
          [
           0.375,
           "rgb(252,146,114)"
          ],
          [
           0.5,
           "rgb(251,106,74)"
          ],
          [
           0.625,
           "rgb(239,59,44)"
          ],
          [
           0.75,
           "rgb(203,24,29)"
          ],
          [
           0.875,
           "rgb(165,15,21)"
          ],
          [
           1,
           "rgb(103,0,13)"
          ]
         ]
        },
        "height": 600,
        "hovermode": "x unified",
        "legend": {
         "tracegroupgap": 0
        },
        "template": {
         "data": {
          "bar": [
           {
            "error_x": {
             "color": "#f2f5fa"
            },
            "error_y": {
             "color": "#f2f5fa"
            },
            "marker": {
             "line": {
              "color": "rgb(17,17,17)",
              "width": 0.5
             },
             "pattern": {
              "fillmode": "overlay",
              "size": 10,
              "solidity": 0.2
             }
            },
            "type": "bar"
           }
          ],
          "barpolar": [
           {
            "marker": {
             "line": {
              "color": "rgb(17,17,17)",
              "width": 0.5
             },
             "pattern": {
              "fillmode": "overlay",
              "size": 10,
              "solidity": 0.2
             }
            },
            "type": "barpolar"
           }
          ],
          "carpet": [
           {
            "aaxis": {
             "endlinecolor": "#A2B1C6",
             "gridcolor": "#506784",
             "linecolor": "#506784",
             "minorgridcolor": "#506784",
             "startlinecolor": "#A2B1C6"
            },
            "baxis": {
             "endlinecolor": "#A2B1C6",
             "gridcolor": "#506784",
             "linecolor": "#506784",
             "minorgridcolor": "#506784",
             "startlinecolor": "#A2B1C6"
            },
            "type": "carpet"
           }
          ],
          "choropleth": [
           {
            "colorbar": {
             "outlinewidth": 0,
             "ticks": ""
            },
            "type": "choropleth"
           }
          ],
          "contour": [
           {
            "colorbar": {
             "outlinewidth": 0,
             "ticks": ""
            },
            "colorscale": [
             [
              0,
              "#0d0887"
             ],
             [
              0.1111111111111111,
              "#46039f"
             ],
             [
              0.2222222222222222,
              "#7201a8"
             ],
             [
              0.3333333333333333,
              "#9c179e"
             ],
             [
              0.4444444444444444,
              "#bd3786"
             ],
             [
              0.5555555555555556,
              "#d8576b"
             ],
             [
              0.6666666666666666,
              "#ed7953"
             ],
             [
              0.7777777777777778,
              "#fb9f3a"
             ],
             [
              0.8888888888888888,
              "#fdca26"
             ],
             [
              1,
              "#f0f921"
             ]
            ],
            "type": "contour"
           }
          ],
          "contourcarpet": [
           {
            "colorbar": {
             "outlinewidth": 0,
             "ticks": ""
            },
            "type": "contourcarpet"
           }
          ],
          "heatmap": [
           {
            "colorbar": {
             "outlinewidth": 0,
             "ticks": ""
            },
            "colorscale": [
             [
              0,
              "#0d0887"
             ],
             [
              0.1111111111111111,
              "#46039f"
             ],
             [
              0.2222222222222222,
              "#7201a8"
             ],
             [
              0.3333333333333333,
              "#9c179e"
             ],
             [
              0.4444444444444444,
              "#bd3786"
             ],
             [
              0.5555555555555556,
              "#d8576b"
             ],
             [
              0.6666666666666666,
              "#ed7953"
             ],
             [
              0.7777777777777778,
              "#fb9f3a"
             ],
             [
              0.8888888888888888,
              "#fdca26"
             ],
             [
              1,
              "#f0f921"
             ]
            ],
            "type": "heatmap"
           }
          ],
          "heatmapgl": [
           {
            "colorbar": {
             "outlinewidth": 0,
             "ticks": ""
            },
            "colorscale": [
             [
              0,
              "#0d0887"
             ],
             [
              0.1111111111111111,
              "#46039f"
             ],
             [
              0.2222222222222222,
              "#7201a8"
             ],
             [
              0.3333333333333333,
              "#9c179e"
             ],
             [
              0.4444444444444444,
              "#bd3786"
             ],
             [
              0.5555555555555556,
              "#d8576b"
             ],
             [
              0.6666666666666666,
              "#ed7953"
             ],
             [
              0.7777777777777778,
              "#fb9f3a"
             ],
             [
              0.8888888888888888,
              "#fdca26"
             ],
             [
              1,
              "#f0f921"
             ]
            ],
            "type": "heatmapgl"
           }
          ],
          "histogram": [
           {
            "marker": {
             "pattern": {
              "fillmode": "overlay",
              "size": 10,
              "solidity": 0.2
             }
            },
            "type": "histogram"
           }
          ],
          "histogram2d": [
           {
            "colorbar": {
             "outlinewidth": 0,
             "ticks": ""
            },
            "colorscale": [
             [
              0,
              "#0d0887"
             ],
             [
              0.1111111111111111,
              "#46039f"
             ],
             [
              0.2222222222222222,
              "#7201a8"
             ],
             [
              0.3333333333333333,
              "#9c179e"
             ],
             [
              0.4444444444444444,
              "#bd3786"
             ],
             [
              0.5555555555555556,
              "#d8576b"
             ],
             [
              0.6666666666666666,
              "#ed7953"
             ],
             [
              0.7777777777777778,
              "#fb9f3a"
             ],
             [
              0.8888888888888888,
              "#fdca26"
             ],
             [
              1,
              "#f0f921"
             ]
            ],
            "type": "histogram2d"
           }
          ],
          "histogram2dcontour": [
           {
            "colorbar": {
             "outlinewidth": 0,
             "ticks": ""
            },
            "colorscale": [
             [
              0,
              "#0d0887"
             ],
             [
              0.1111111111111111,
              "#46039f"
             ],
             [
              0.2222222222222222,
              "#7201a8"
             ],
             [
              0.3333333333333333,
              "#9c179e"
             ],
             [
              0.4444444444444444,
              "#bd3786"
             ],
             [
              0.5555555555555556,
              "#d8576b"
             ],
             [
              0.6666666666666666,
              "#ed7953"
             ],
             [
              0.7777777777777778,
              "#fb9f3a"
             ],
             [
              0.8888888888888888,
              "#fdca26"
             ],
             [
              1,
              "#f0f921"
             ]
            ],
            "type": "histogram2dcontour"
           }
          ],
          "mesh3d": [
           {
            "colorbar": {
             "outlinewidth": 0,
             "ticks": ""
            },
            "type": "mesh3d"
           }
          ],
          "parcoords": [
           {
            "line": {
             "colorbar": {
              "outlinewidth": 0,
              "ticks": ""
             }
            },
            "type": "parcoords"
           }
          ],
          "pie": [
           {
            "automargin": true,
            "type": "pie"
           }
          ],
          "scatter": [
           {
            "marker": {
             "line": {
              "color": "#283442"
             }
            },
            "type": "scatter"
           }
          ],
          "scatter3d": [
           {
            "line": {
             "colorbar": {
              "outlinewidth": 0,
              "ticks": ""
             }
            },
            "marker": {
             "colorbar": {
              "outlinewidth": 0,
              "ticks": ""
             }
            },
            "type": "scatter3d"
           }
          ],
          "scattercarpet": [
           {
            "marker": {
             "colorbar": {
              "outlinewidth": 0,
              "ticks": ""
             }
            },
            "type": "scattercarpet"
           }
          ],
          "scattergeo": [
           {
            "marker": {
             "colorbar": {
              "outlinewidth": 0,
              "ticks": ""
             }
            },
            "type": "scattergeo"
           }
          ],
          "scattergl": [
           {
            "marker": {
             "line": {
              "color": "#283442"
             }
            },
            "type": "scattergl"
           }
          ],
          "scattermapbox": [
           {
            "marker": {
             "colorbar": {
              "outlinewidth": 0,
              "ticks": ""
             }
            },
            "type": "scattermapbox"
           }
          ],
          "scatterpolar": [
           {
            "marker": {
             "colorbar": {
              "outlinewidth": 0,
              "ticks": ""
             }
            },
            "type": "scatterpolar"
           }
          ],
          "scatterpolargl": [
           {
            "marker": {
             "colorbar": {
              "outlinewidth": 0,
              "ticks": ""
             }
            },
            "type": "scatterpolargl"
           }
          ],
          "scatterternary": [
           {
            "marker": {
             "colorbar": {
              "outlinewidth": 0,
              "ticks": ""
             }
            },
            "type": "scatterternary"
           }
          ],
          "surface": [
           {
            "colorbar": {
             "outlinewidth": 0,
             "ticks": ""
            },
            "colorscale": [
             [
              0,
              "#0d0887"
             ],
             [
              0.1111111111111111,
              "#46039f"
             ],
             [
              0.2222222222222222,
              "#7201a8"
             ],
             [
              0.3333333333333333,
              "#9c179e"
             ],
             [
              0.4444444444444444,
              "#bd3786"
             ],
             [
              0.5555555555555556,
              "#d8576b"
             ],
             [
              0.6666666666666666,
              "#ed7953"
             ],
             [
              0.7777777777777778,
              "#fb9f3a"
             ],
             [
              0.8888888888888888,
              "#fdca26"
             ],
             [
              1,
              "#f0f921"
             ]
            ],
            "type": "surface"
           }
          ],
          "table": [
           {
            "cells": {
             "fill": {
              "color": "#506784"
             },
             "line": {
              "color": "rgb(17,17,17)"
             }
            },
            "header": {
             "fill": {
              "color": "#2a3f5f"
             },
             "line": {
              "color": "rgb(17,17,17)"
             }
            },
            "type": "table"
           }
          ]
         },
         "layout": {
          "annotationdefaults": {
           "arrowcolor": "#f2f5fa",
           "arrowhead": 0,
           "arrowwidth": 1
          },
          "autotypenumbers": "strict",
          "coloraxis": {
           "colorbar": {
            "outlinewidth": 0,
            "ticks": ""
           }
          },
          "colorscale": {
           "diverging": [
            [
             0,
             "#8e0152"
            ],
            [
             0.1,
             "#c51b7d"
            ],
            [
             0.2,
             "#de77ae"
            ],
            [
             0.3,
             "#f1b6da"
            ],
            [
             0.4,
             "#fde0ef"
            ],
            [
             0.5,
             "#f7f7f7"
            ],
            [
             0.6,
             "#e6f5d0"
            ],
            [
             0.7,
             "#b8e186"
            ],
            [
             0.8,
             "#7fbc41"
            ],
            [
             0.9,
             "#4d9221"
            ],
            [
             1,
             "#276419"
            ]
           ],
           "sequential": [
            [
             0,
             "#0d0887"
            ],
            [
             0.1111111111111111,
             "#46039f"
            ],
            [
             0.2222222222222222,
             "#7201a8"
            ],
            [
             0.3333333333333333,
             "#9c179e"
            ],
            [
             0.4444444444444444,
             "#bd3786"
            ],
            [
             0.5555555555555556,
             "#d8576b"
            ],
            [
             0.6666666666666666,
             "#ed7953"
            ],
            [
             0.7777777777777778,
             "#fb9f3a"
            ],
            [
             0.8888888888888888,
             "#fdca26"
            ],
            [
             1,
             "#f0f921"
            ]
           ],
           "sequentialminus": [
            [
             0,
             "#0d0887"
            ],
            [
             0.1111111111111111,
             "#46039f"
            ],
            [
             0.2222222222222222,
             "#7201a8"
            ],
            [
             0.3333333333333333,
             "#9c179e"
            ],
            [
             0.4444444444444444,
             "#bd3786"
            ],
            [
             0.5555555555555556,
             "#d8576b"
            ],
            [
             0.6666666666666666,
             "#ed7953"
            ],
            [
             0.7777777777777778,
             "#fb9f3a"
            ],
            [
             0.8888888888888888,
             "#fdca26"
            ],
            [
             1,
             "#f0f921"
            ]
           ]
          },
          "colorway": [
           "#636efa",
           "#EF553B",
           "#00cc96",
           "#ab63fa",
           "#FFA15A",
           "#19d3f3",
           "#FF6692",
           "#B6E880",
           "#FF97FF",
           "#FECB52"
          ],
          "font": {
           "color": "#f2f5fa"
          },
          "geo": {
           "bgcolor": "rgb(17,17,17)",
           "lakecolor": "rgb(17,17,17)",
           "landcolor": "rgb(17,17,17)",
           "showlakes": true,
           "showland": true,
           "subunitcolor": "#506784"
          },
          "hoverlabel": {
           "align": "left"
          },
          "hovermode": "closest",
          "mapbox": {
           "style": "dark"
          },
          "paper_bgcolor": "rgb(17,17,17)",
          "plot_bgcolor": "rgb(17,17,17)",
          "polar": {
           "angularaxis": {
            "gridcolor": "#506784",
            "linecolor": "#506784",
            "ticks": ""
           },
           "bgcolor": "rgb(17,17,17)",
           "radialaxis": {
            "gridcolor": "#506784",
            "linecolor": "#506784",
            "ticks": ""
           }
          },
          "scene": {
           "xaxis": {
            "backgroundcolor": "rgb(17,17,17)",
            "gridcolor": "#506784",
            "gridwidth": 2,
            "linecolor": "#506784",
            "showbackground": true,
            "ticks": "",
            "zerolinecolor": "#C8D4E3"
           },
           "yaxis": {
            "backgroundcolor": "rgb(17,17,17)",
            "gridcolor": "#506784",
            "gridwidth": 2,
            "linecolor": "#506784",
            "showbackground": true,
            "ticks": "",
            "zerolinecolor": "#C8D4E3"
           },
           "zaxis": {
            "backgroundcolor": "rgb(17,17,17)",
            "gridcolor": "#506784",
            "gridwidth": 2,
            "linecolor": "#506784",
            "showbackground": true,
            "ticks": "",
            "zerolinecolor": "#C8D4E3"
           }
          },
          "shapedefaults": {
           "line": {
            "color": "#f2f5fa"
           }
          },
          "sliderdefaults": {
           "bgcolor": "#C8D4E3",
           "bordercolor": "rgb(17,17,17)",
           "borderwidth": 1,
           "tickwidth": 0
          },
          "ternary": {
           "aaxis": {
            "gridcolor": "#506784",
            "linecolor": "#506784",
            "ticks": ""
           },
           "baxis": {
            "gridcolor": "#506784",
            "linecolor": "#506784",
            "ticks": ""
           },
           "bgcolor": "rgb(17,17,17)",
           "caxis": {
            "gridcolor": "#506784",
            "linecolor": "#506784",
            "ticks": ""
           }
          },
          "title": {
           "x": 0.05
          },
          "updatemenudefaults": {
           "bgcolor": "#506784",
           "borderwidth": 0
          },
          "xaxis": {
           "automargin": true,
           "gridcolor": "#283442",
           "linecolor": "#506784",
           "ticks": "",
           "title": {
            "standoff": 15
           },
           "zerolinecolor": "#283442",
           "zerolinewidth": 2
          },
          "yaxis": {
           "automargin": true,
           "gridcolor": "#283442",
           "linecolor": "#506784",
           "ticks": "",
           "title": {
            "standoff": 15
           },
           "zerolinecolor": "#283442",
           "zerolinewidth": 2
          }
         }
        },
        "title": {
         "text": "Saldo a liquidar por NDSI"
        },
        "xaxis": {
         "anchor": "y",
         "domain": [
          0,
          1
         ],
         "title": {
          "text": "Subitem da despesa"
         }
        },
        "yaxis": {
         "anchor": "x",
         "domain": [
          0,
          1
         ],
         "title": {
          "text": "Saldo a liquidar"
         },
         "type": "log"
        }
       }
      }
     },
     "metadata": {},
     "output_type": "display_data"
    }
   ],
   "source": [
    "# Saldo a liquidar por Subitem\n",
    "cols = ['NDSI', 'A_LIQUIDAR']\n",
    "\n",
    "df_aux = df.loc[:, cols].groupby('NDSI').sum().sort_values(by= 'A_LIQUIDAR', ascending=False).reset_index()\n",
    "df_aux = df_aux[df_aux['A_LIQUIDAR'] > 0]\n",
    "fig = px.bar(df_aux, \n",
    "             x='NDSI', \n",
    "             y='A_LIQUIDAR',\n",
    "             title='Saldo a liquidar por NDSI',\n",
    "             labels={'NDSI':'Subitem da despesa', 'A_LIQUIDAR':'Saldo a liquidar'},\n",
    "             text_auto='.3s',\n",
    "             height=600,\n",
    "             log_y=True,\n",
    "             color='A_LIQUIDAR',\n",
    "             color_continuous_scale = 'reds',\n",
    "             template='plotly_dark')\n",
    "fig.update_traces(textposition = 'outside', cliponaxis = False, hovertemplate=None)\n",
    "fig.update_layout(hovermode=\"x unified\")\n",
    "\n",
    "fig.show()"
   ]
  },
  {
   "cell_type": "code",
   "execution_count": 9,
   "metadata": {},
   "outputs": [
    {
     "data": {
      "application/vnd.plotly.v1+json": {
       "config": {
        "plotlyServerURL": "https://plot.ly"
       },
       "data": [
        {
         "alignmentgroup": "True",
         "cliponaxis": false,
         "legendgroup": "",
         "marker": {
          "color": [
           3103877.7600000002,
           1537333.1700000002,
           436241,
           374147.06,
           371731.22,
           286220.8,
           224982.51,
           221479.22,
           181383.90999999997,
           132783.35,
           123043.77,
           85492.8,
           84051.84,
           63847.73,
           59228.19,
           55442.17,
           54585,
           52292.27,
           48067.42,
           36324.93,
           35442.38,
           31147,
           29999.98,
           28083.7,
           22780.190000000002,
           22260,
           15330.52,
           13398.54,
           12589.27,
           12339,
           11344.79,
           9825,
           8213.49,
           7674.39,
           6828.61,
           3890,
           3500,
           3215.82,
           2929,
           2530,
           2499.61,
           1610.95,
           773.14,
           501.94,
           446.4,
           426.22,
           312.03,
           232.4,
           50,
           9.99,
           5.1
          ],
          "coloraxis": "coloraxis",
          "pattern": {
           "shape": ""
          }
         },
         "name": "",
         "offsetgroup": "",
         "orientation": "v",
         "showlegend": false,
         "textposition": "outside",
         "texttemplate": "%{y:.3s}",
         "type": "bar",
         "x": [
          "FATOR DE CUSTO - CONTRATO DE OBJETIVOS",
          "CAPACITACAO DE PESSOAL",
          "ATS - ATIVIDADES SETORIAIS",
          "A1QR - QUANTITATIVO DE RANCHO",
          "PLANO DE INVESTIMENTO E MANUTENCAO",
          "DESPESAS COM ENERGIA ELETRICA",
          "REVITALIZAR O SIST COLEGIO MILITAR DO BRASIL",
          "CONCURSOS AS ESCOLAS MILITARES",
          "LIMPEZA DE BENS IMÓVEIS",
          "APOIO AS SIP/RM",
          "FATOR DE CUSTO -  ENCAMINHAMENTO DE CONSULTAS",
          "ALIMENTACAO PARA EQUINOS.",
          "AQS DE ALMT  PARA  EQUINOS: ALFAF/AVEIA/FENO",
          "ATENDIMENTO MEDICO-HOPITALR/FC",
          "APOIO A MANUTENCAO DE PNR",
          "SMEM ESTABELECIMENTOS DE ENSINO",
          "ATENDIMENTO MEDICO-HOSPITALAR",
          "UNIDADE GESTORA DE PRODUCAO",
          "ESCO - QUANTITATIVO DE RANCHO",
          "FUNADOM - DPGO",
          "AQUARTELAMENTO",
          "COLEGIO MILITAR - ADMINISTRACAO",
          "A5PA - PASA SOLICITADO",
          "MNT SUP EQP ENG CNST",
          "IND-INDENIZACOES",
          "SERVICO POSTAIS",
          "CONSTRUIR E ADEQUAR INST SIST EDU E CULT EB",
          "ADMINISTRACAO DE OM",
          "MNT DE MÁQ E EQP ADMINISTRATIVOS",
          "MATERIAL DE INTENDÊNCIA",
          "REMONTA E VETERINÁRIA",
          "MANUTENCAO DE AMBULANCIAS ADMINISTRATIVAS",
          "SERVICO DE TELEFONIA FIXA",
          "LAVAGEM DE ROUPAS PARA A VIDA VEGETATIVA OM",
          "LOG VTR BLD SOB GESTÃO DA REGIÃO MILITAR",
          "SISTEMA DE GESTÃO DA QUALIDADE",
          "DSLC A SV DIVERSOS A CARGO DO GAB",
          "SERVICO DE TELEFONIA MOVEL",
          "INFORMATICA",
          "MANUTENCAO DE MAQUINAS E EQUIP ADMINISTRATIVO",
          "PRESERV DE BENS DO PATR HISTORICO E CULTURAL",
          "CONCESSIONÁRIAS DE ÁGUA E ESGOTO",
          "MIS EXT REQS TRNP BAG INTER",
          "SUPRIMENTO E MANUTENCAO MOTOMECANIZACAO_BLIND",
          "IND - INDENIZACOES",
          "COMBUSTIVEL E LUBRIFICANTES",
          "INSTRUCAO INDIVIDUAL",
          "SERVICOS DE PROTECAO A RADIACAO IONIZANTE",
          "FUSEX - ENCAMINHAMENTO DE CONSULTAS.",
          "PROFISSIONAL DE SAUDE AUTONOMO",
          "COMBUSTIVEIS E LUBRIFICANTES"
         ],
         "xaxis": "x",
         "y": [
          3103877.7600000002,
          1537333.1700000002,
          436241,
          374147.06,
          371731.22,
          286220.8,
          224982.51,
          221479.22,
          181383.90999999997,
          132783.35,
          123043.77,
          85492.8,
          84051.84,
          63847.73,
          59228.19,
          55442.17,
          54585,
          52292.27,
          48067.42,
          36324.93,
          35442.38,
          31147,
          29999.98,
          28083.7,
          22780.190000000002,
          22260,
          15330.52,
          13398.54,
          12589.27,
          12339,
          11344.79,
          9825,
          8213.49,
          7674.39,
          6828.61,
          3890,
          3500,
          3215.82,
          2929,
          2530,
          2499.61,
          1610.95,
          773.14,
          501.94,
          446.4,
          426.22,
          312.03,
          232.4,
          50,
          9.99,
          5.1
         ],
         "yaxis": "y"
        }
       ],
       "layout": {
        "barmode": "relative",
        "coloraxis": {
         "colorbar": {
          "title": {
           "text": "Saldo a liquidar"
          }
         },
         "colorscale": [
          [
           0,
           "rgb(255,245,240)"
          ],
          [
           0.125,
           "rgb(254,224,210)"
          ],
          [
           0.25,
           "rgb(252,187,161)"
          ],
          [
           0.375,
           "rgb(252,146,114)"
          ],
          [
           0.5,
           "rgb(251,106,74)"
          ],
          [
           0.625,
           "rgb(239,59,44)"
          ],
          [
           0.75,
           "rgb(203,24,29)"
          ],
          [
           0.875,
           "rgb(165,15,21)"
          ],
          [
           1,
           "rgb(103,0,13)"
          ]
         ]
        },
        "height": 800,
        "hovermode": "x unified",
        "legend": {
         "tracegroupgap": 0
        },
        "template": {
         "data": {
          "bar": [
           {
            "error_x": {
             "color": "#f2f5fa"
            },
            "error_y": {
             "color": "#f2f5fa"
            },
            "marker": {
             "line": {
              "color": "rgb(17,17,17)",
              "width": 0.5
             },
             "pattern": {
              "fillmode": "overlay",
              "size": 10,
              "solidity": 0.2
             }
            },
            "type": "bar"
           }
          ],
          "barpolar": [
           {
            "marker": {
             "line": {
              "color": "rgb(17,17,17)",
              "width": 0.5
             },
             "pattern": {
              "fillmode": "overlay",
              "size": 10,
              "solidity": 0.2
             }
            },
            "type": "barpolar"
           }
          ],
          "carpet": [
           {
            "aaxis": {
             "endlinecolor": "#A2B1C6",
             "gridcolor": "#506784",
             "linecolor": "#506784",
             "minorgridcolor": "#506784",
             "startlinecolor": "#A2B1C6"
            },
            "baxis": {
             "endlinecolor": "#A2B1C6",
             "gridcolor": "#506784",
             "linecolor": "#506784",
             "minorgridcolor": "#506784",
             "startlinecolor": "#A2B1C6"
            },
            "type": "carpet"
           }
          ],
          "choropleth": [
           {
            "colorbar": {
             "outlinewidth": 0,
             "ticks": ""
            },
            "type": "choropleth"
           }
          ],
          "contour": [
           {
            "colorbar": {
             "outlinewidth": 0,
             "ticks": ""
            },
            "colorscale": [
             [
              0,
              "#0d0887"
             ],
             [
              0.1111111111111111,
              "#46039f"
             ],
             [
              0.2222222222222222,
              "#7201a8"
             ],
             [
              0.3333333333333333,
              "#9c179e"
             ],
             [
              0.4444444444444444,
              "#bd3786"
             ],
             [
              0.5555555555555556,
              "#d8576b"
             ],
             [
              0.6666666666666666,
              "#ed7953"
             ],
             [
              0.7777777777777778,
              "#fb9f3a"
             ],
             [
              0.8888888888888888,
              "#fdca26"
             ],
             [
              1,
              "#f0f921"
             ]
            ],
            "type": "contour"
           }
          ],
          "contourcarpet": [
           {
            "colorbar": {
             "outlinewidth": 0,
             "ticks": ""
            },
            "type": "contourcarpet"
           }
          ],
          "heatmap": [
           {
            "colorbar": {
             "outlinewidth": 0,
             "ticks": ""
            },
            "colorscale": [
             [
              0,
              "#0d0887"
             ],
             [
              0.1111111111111111,
              "#46039f"
             ],
             [
              0.2222222222222222,
              "#7201a8"
             ],
             [
              0.3333333333333333,
              "#9c179e"
             ],
             [
              0.4444444444444444,
              "#bd3786"
             ],
             [
              0.5555555555555556,
              "#d8576b"
             ],
             [
              0.6666666666666666,
              "#ed7953"
             ],
             [
              0.7777777777777778,
              "#fb9f3a"
             ],
             [
              0.8888888888888888,
              "#fdca26"
             ],
             [
              1,
              "#f0f921"
             ]
            ],
            "type": "heatmap"
           }
          ],
          "heatmapgl": [
           {
            "colorbar": {
             "outlinewidth": 0,
             "ticks": ""
            },
            "colorscale": [
             [
              0,
              "#0d0887"
             ],
             [
              0.1111111111111111,
              "#46039f"
             ],
             [
              0.2222222222222222,
              "#7201a8"
             ],
             [
              0.3333333333333333,
              "#9c179e"
             ],
             [
              0.4444444444444444,
              "#bd3786"
             ],
             [
              0.5555555555555556,
              "#d8576b"
             ],
             [
              0.6666666666666666,
              "#ed7953"
             ],
             [
              0.7777777777777778,
              "#fb9f3a"
             ],
             [
              0.8888888888888888,
              "#fdca26"
             ],
             [
              1,
              "#f0f921"
             ]
            ],
            "type": "heatmapgl"
           }
          ],
          "histogram": [
           {
            "marker": {
             "pattern": {
              "fillmode": "overlay",
              "size": 10,
              "solidity": 0.2
             }
            },
            "type": "histogram"
           }
          ],
          "histogram2d": [
           {
            "colorbar": {
             "outlinewidth": 0,
             "ticks": ""
            },
            "colorscale": [
             [
              0,
              "#0d0887"
             ],
             [
              0.1111111111111111,
              "#46039f"
             ],
             [
              0.2222222222222222,
              "#7201a8"
             ],
             [
              0.3333333333333333,
              "#9c179e"
             ],
             [
              0.4444444444444444,
              "#bd3786"
             ],
             [
              0.5555555555555556,
              "#d8576b"
             ],
             [
              0.6666666666666666,
              "#ed7953"
             ],
             [
              0.7777777777777778,
              "#fb9f3a"
             ],
             [
              0.8888888888888888,
              "#fdca26"
             ],
             [
              1,
              "#f0f921"
             ]
            ],
            "type": "histogram2d"
           }
          ],
          "histogram2dcontour": [
           {
            "colorbar": {
             "outlinewidth": 0,
             "ticks": ""
            },
            "colorscale": [
             [
              0,
              "#0d0887"
             ],
             [
              0.1111111111111111,
              "#46039f"
             ],
             [
              0.2222222222222222,
              "#7201a8"
             ],
             [
              0.3333333333333333,
              "#9c179e"
             ],
             [
              0.4444444444444444,
              "#bd3786"
             ],
             [
              0.5555555555555556,
              "#d8576b"
             ],
             [
              0.6666666666666666,
              "#ed7953"
             ],
             [
              0.7777777777777778,
              "#fb9f3a"
             ],
             [
              0.8888888888888888,
              "#fdca26"
             ],
             [
              1,
              "#f0f921"
             ]
            ],
            "type": "histogram2dcontour"
           }
          ],
          "mesh3d": [
           {
            "colorbar": {
             "outlinewidth": 0,
             "ticks": ""
            },
            "type": "mesh3d"
           }
          ],
          "parcoords": [
           {
            "line": {
             "colorbar": {
              "outlinewidth": 0,
              "ticks": ""
             }
            },
            "type": "parcoords"
           }
          ],
          "pie": [
           {
            "automargin": true,
            "type": "pie"
           }
          ],
          "scatter": [
           {
            "marker": {
             "line": {
              "color": "#283442"
             }
            },
            "type": "scatter"
           }
          ],
          "scatter3d": [
           {
            "line": {
             "colorbar": {
              "outlinewidth": 0,
              "ticks": ""
             }
            },
            "marker": {
             "colorbar": {
              "outlinewidth": 0,
              "ticks": ""
             }
            },
            "type": "scatter3d"
           }
          ],
          "scattercarpet": [
           {
            "marker": {
             "colorbar": {
              "outlinewidth": 0,
              "ticks": ""
             }
            },
            "type": "scattercarpet"
           }
          ],
          "scattergeo": [
           {
            "marker": {
             "colorbar": {
              "outlinewidth": 0,
              "ticks": ""
             }
            },
            "type": "scattergeo"
           }
          ],
          "scattergl": [
           {
            "marker": {
             "line": {
              "color": "#283442"
             }
            },
            "type": "scattergl"
           }
          ],
          "scattermapbox": [
           {
            "marker": {
             "colorbar": {
              "outlinewidth": 0,
              "ticks": ""
             }
            },
            "type": "scattermapbox"
           }
          ],
          "scatterpolar": [
           {
            "marker": {
             "colorbar": {
              "outlinewidth": 0,
              "ticks": ""
             }
            },
            "type": "scatterpolar"
           }
          ],
          "scatterpolargl": [
           {
            "marker": {
             "colorbar": {
              "outlinewidth": 0,
              "ticks": ""
             }
            },
            "type": "scatterpolargl"
           }
          ],
          "scatterternary": [
           {
            "marker": {
             "colorbar": {
              "outlinewidth": 0,
              "ticks": ""
             }
            },
            "type": "scatterternary"
           }
          ],
          "surface": [
           {
            "colorbar": {
             "outlinewidth": 0,
             "ticks": ""
            },
            "colorscale": [
             [
              0,
              "#0d0887"
             ],
             [
              0.1111111111111111,
              "#46039f"
             ],
             [
              0.2222222222222222,
              "#7201a8"
             ],
             [
              0.3333333333333333,
              "#9c179e"
             ],
             [
              0.4444444444444444,
              "#bd3786"
             ],
             [
              0.5555555555555556,
              "#d8576b"
             ],
             [
              0.6666666666666666,
              "#ed7953"
             ],
             [
              0.7777777777777778,
              "#fb9f3a"
             ],
             [
              0.8888888888888888,
              "#fdca26"
             ],
             [
              1,
              "#f0f921"
             ]
            ],
            "type": "surface"
           }
          ],
          "table": [
           {
            "cells": {
             "fill": {
              "color": "#506784"
             },
             "line": {
              "color": "rgb(17,17,17)"
             }
            },
            "header": {
             "fill": {
              "color": "#2a3f5f"
             },
             "line": {
              "color": "rgb(17,17,17)"
             }
            },
            "type": "table"
           }
          ]
         },
         "layout": {
          "annotationdefaults": {
           "arrowcolor": "#f2f5fa",
           "arrowhead": 0,
           "arrowwidth": 1
          },
          "autotypenumbers": "strict",
          "coloraxis": {
           "colorbar": {
            "outlinewidth": 0,
            "ticks": ""
           }
          },
          "colorscale": {
           "diverging": [
            [
             0,
             "#8e0152"
            ],
            [
             0.1,
             "#c51b7d"
            ],
            [
             0.2,
             "#de77ae"
            ],
            [
             0.3,
             "#f1b6da"
            ],
            [
             0.4,
             "#fde0ef"
            ],
            [
             0.5,
             "#f7f7f7"
            ],
            [
             0.6,
             "#e6f5d0"
            ],
            [
             0.7,
             "#b8e186"
            ],
            [
             0.8,
             "#7fbc41"
            ],
            [
             0.9,
             "#4d9221"
            ],
            [
             1,
             "#276419"
            ]
           ],
           "sequential": [
            [
             0,
             "#0d0887"
            ],
            [
             0.1111111111111111,
             "#46039f"
            ],
            [
             0.2222222222222222,
             "#7201a8"
            ],
            [
             0.3333333333333333,
             "#9c179e"
            ],
            [
             0.4444444444444444,
             "#bd3786"
            ],
            [
             0.5555555555555556,
             "#d8576b"
            ],
            [
             0.6666666666666666,
             "#ed7953"
            ],
            [
             0.7777777777777778,
             "#fb9f3a"
            ],
            [
             0.8888888888888888,
             "#fdca26"
            ],
            [
             1,
             "#f0f921"
            ]
           ],
           "sequentialminus": [
            [
             0,
             "#0d0887"
            ],
            [
             0.1111111111111111,
             "#46039f"
            ],
            [
             0.2222222222222222,
             "#7201a8"
            ],
            [
             0.3333333333333333,
             "#9c179e"
            ],
            [
             0.4444444444444444,
             "#bd3786"
            ],
            [
             0.5555555555555556,
             "#d8576b"
            ],
            [
             0.6666666666666666,
             "#ed7953"
            ],
            [
             0.7777777777777778,
             "#fb9f3a"
            ],
            [
             0.8888888888888888,
             "#fdca26"
            ],
            [
             1,
             "#f0f921"
            ]
           ]
          },
          "colorway": [
           "#636efa",
           "#EF553B",
           "#00cc96",
           "#ab63fa",
           "#FFA15A",
           "#19d3f3",
           "#FF6692",
           "#B6E880",
           "#FF97FF",
           "#FECB52"
          ],
          "font": {
           "color": "#f2f5fa"
          },
          "geo": {
           "bgcolor": "rgb(17,17,17)",
           "lakecolor": "rgb(17,17,17)",
           "landcolor": "rgb(17,17,17)",
           "showlakes": true,
           "showland": true,
           "subunitcolor": "#506784"
          },
          "hoverlabel": {
           "align": "left"
          },
          "hovermode": "closest",
          "mapbox": {
           "style": "dark"
          },
          "paper_bgcolor": "rgb(17,17,17)",
          "plot_bgcolor": "rgb(17,17,17)",
          "polar": {
           "angularaxis": {
            "gridcolor": "#506784",
            "linecolor": "#506784",
            "ticks": ""
           },
           "bgcolor": "rgb(17,17,17)",
           "radialaxis": {
            "gridcolor": "#506784",
            "linecolor": "#506784",
            "ticks": ""
           }
          },
          "scene": {
           "xaxis": {
            "backgroundcolor": "rgb(17,17,17)",
            "gridcolor": "#506784",
            "gridwidth": 2,
            "linecolor": "#506784",
            "showbackground": true,
            "ticks": "",
            "zerolinecolor": "#C8D4E3"
           },
           "yaxis": {
            "backgroundcolor": "rgb(17,17,17)",
            "gridcolor": "#506784",
            "gridwidth": 2,
            "linecolor": "#506784",
            "showbackground": true,
            "ticks": "",
            "zerolinecolor": "#C8D4E3"
           },
           "zaxis": {
            "backgroundcolor": "rgb(17,17,17)",
            "gridcolor": "#506784",
            "gridwidth": 2,
            "linecolor": "#506784",
            "showbackground": true,
            "ticks": "",
            "zerolinecolor": "#C8D4E3"
           }
          },
          "shapedefaults": {
           "line": {
            "color": "#f2f5fa"
           }
          },
          "sliderdefaults": {
           "bgcolor": "#C8D4E3",
           "bordercolor": "rgb(17,17,17)",
           "borderwidth": 1,
           "tickwidth": 0
          },
          "ternary": {
           "aaxis": {
            "gridcolor": "#506784",
            "linecolor": "#506784",
            "ticks": ""
           },
           "baxis": {
            "gridcolor": "#506784",
            "linecolor": "#506784",
            "ticks": ""
           },
           "bgcolor": "rgb(17,17,17)",
           "caxis": {
            "gridcolor": "#506784",
            "linecolor": "#506784",
            "ticks": ""
           }
          },
          "title": {
           "x": 0.05
          },
          "updatemenudefaults": {
           "bgcolor": "#506784",
           "borderwidth": 0
          },
          "xaxis": {
           "automargin": true,
           "gridcolor": "#283442",
           "linecolor": "#506784",
           "ticks": "",
           "title": {
            "standoff": 15
           },
           "zerolinecolor": "#283442",
           "zerolinewidth": 2
          },
          "yaxis": {
           "automargin": true,
           "gridcolor": "#283442",
           "linecolor": "#506784",
           "ticks": "",
           "title": {
            "standoff": 15
           },
           "zerolinecolor": "#283442",
           "zerolinewidth": 2
          }
         }
        },
        "title": {
         "text": "Saldo a liquidar por PI"
        },
        "xaxis": {
         "anchor": "y",
         "domain": [
          0,
          1
         ],
         "title": {
          "text": "Tipo de PI"
         }
        },
        "yaxis": {
         "anchor": "x",
         "domain": [
          0,
          1
         ],
         "title": {
          "text": "Saldo a liquidar"
         },
         "type": "log"
        }
       }
      }
     },
     "metadata": {},
     "output_type": "display_data"
    }
   ],
   "source": [
    "# Saldo a liquidar por tipo de PI\n",
    "cols = ['NOME_PI', 'A_LIQUIDAR']\n",
    "\n",
    "df_aux = df.loc[:, cols].groupby('NOME_PI').sum().sort_values(by= 'A_LIQUIDAR', ascending=False).reset_index()\n",
    "df_aux = df_aux[df_aux['A_LIQUIDAR'] > 0]\n",
    "fig = px.bar(df_aux, \n",
    "             x='NOME_PI', \n",
    "             y='A_LIQUIDAR',\n",
    "             title='Saldo a liquidar por PI',\n",
    "             labels={'NOME_PI':'Tipo de PI', 'A_LIQUIDAR':'Saldo a liquidar'},\n",
    "             text_auto='.3s',\n",
    "             height=800,\n",
    "             log_y=True,\n",
    "             color='A_LIQUIDAR',\n",
    "             color_continuous_scale = 'reds',\n",
    "             template='plotly_dark')\n",
    "fig.update_traces(textposition = 'outside', cliponaxis = False, hovertemplate=None)\n",
    "fig.update_layout(hovermode=\"x unified\")\n",
    "\n",
    "fig.show()"
   ]
  },
  {
   "cell_type": "code",
   "execution_count": 10,
   "metadata": {},
   "outputs": [
    {
     "data": {
      "application/vnd.plotly.v1+json": {
       "config": {
        "plotlyServerURL": "https://plot.ly"
       },
       "data": [
        {
         "alignmentgroup": "True",
         "cliponaxis": false,
         "legendgroup": "",
         "marker": {
          "color": [
           7784073.69,
           38671.89
          ],
          "coloraxis": "coloraxis",
          "pattern": {
           "shape": ""
          }
         },
         "name": "",
         "offsetgroup": "",
         "orientation": "v",
         "showlegend": false,
         "textposition": "outside",
         "texttemplate": "%{y:.3s}",
         "type": "bar",
         "x": [
          "ANO",
          "RPNP"
         ],
         "xaxis": "x",
         "y": [
          7784073.69,
          38671.89
         ],
         "yaxis": "y"
        }
       ],
       "layout": {
        "barmode": "relative",
        "coloraxis": {
         "colorbar": {
          "title": {
           "text": "Saldo a liquidar"
          }
         },
         "colorscale": [
          [
           0,
           "rgb(255,245,240)"
          ],
          [
           0.125,
           "rgb(254,224,210)"
          ],
          [
           0.25,
           "rgb(252,187,161)"
          ],
          [
           0.375,
           "rgb(252,146,114)"
          ],
          [
           0.5,
           "rgb(251,106,74)"
          ],
          [
           0.625,
           "rgb(239,59,44)"
          ],
          [
           0.75,
           "rgb(203,24,29)"
          ],
          [
           0.875,
           "rgb(165,15,21)"
          ],
          [
           1,
           "rgb(103,0,13)"
          ]
         ]
        },
        "height": 400,
        "hovermode": "x unified",
        "legend": {
         "tracegroupgap": 0
        },
        "template": {
         "data": {
          "bar": [
           {
            "error_x": {
             "color": "#f2f5fa"
            },
            "error_y": {
             "color": "#f2f5fa"
            },
            "marker": {
             "line": {
              "color": "rgb(17,17,17)",
              "width": 0.5
             },
             "pattern": {
              "fillmode": "overlay",
              "size": 10,
              "solidity": 0.2
             }
            },
            "type": "bar"
           }
          ],
          "barpolar": [
           {
            "marker": {
             "line": {
              "color": "rgb(17,17,17)",
              "width": 0.5
             },
             "pattern": {
              "fillmode": "overlay",
              "size": 10,
              "solidity": 0.2
             }
            },
            "type": "barpolar"
           }
          ],
          "carpet": [
           {
            "aaxis": {
             "endlinecolor": "#A2B1C6",
             "gridcolor": "#506784",
             "linecolor": "#506784",
             "minorgridcolor": "#506784",
             "startlinecolor": "#A2B1C6"
            },
            "baxis": {
             "endlinecolor": "#A2B1C6",
             "gridcolor": "#506784",
             "linecolor": "#506784",
             "minorgridcolor": "#506784",
             "startlinecolor": "#A2B1C6"
            },
            "type": "carpet"
           }
          ],
          "choropleth": [
           {
            "colorbar": {
             "outlinewidth": 0,
             "ticks": ""
            },
            "type": "choropleth"
           }
          ],
          "contour": [
           {
            "colorbar": {
             "outlinewidth": 0,
             "ticks": ""
            },
            "colorscale": [
             [
              0,
              "#0d0887"
             ],
             [
              0.1111111111111111,
              "#46039f"
             ],
             [
              0.2222222222222222,
              "#7201a8"
             ],
             [
              0.3333333333333333,
              "#9c179e"
             ],
             [
              0.4444444444444444,
              "#bd3786"
             ],
             [
              0.5555555555555556,
              "#d8576b"
             ],
             [
              0.6666666666666666,
              "#ed7953"
             ],
             [
              0.7777777777777778,
              "#fb9f3a"
             ],
             [
              0.8888888888888888,
              "#fdca26"
             ],
             [
              1,
              "#f0f921"
             ]
            ],
            "type": "contour"
           }
          ],
          "contourcarpet": [
           {
            "colorbar": {
             "outlinewidth": 0,
             "ticks": ""
            },
            "type": "contourcarpet"
           }
          ],
          "heatmap": [
           {
            "colorbar": {
             "outlinewidth": 0,
             "ticks": ""
            },
            "colorscale": [
             [
              0,
              "#0d0887"
             ],
             [
              0.1111111111111111,
              "#46039f"
             ],
             [
              0.2222222222222222,
              "#7201a8"
             ],
             [
              0.3333333333333333,
              "#9c179e"
             ],
             [
              0.4444444444444444,
              "#bd3786"
             ],
             [
              0.5555555555555556,
              "#d8576b"
             ],
             [
              0.6666666666666666,
              "#ed7953"
             ],
             [
              0.7777777777777778,
              "#fb9f3a"
             ],
             [
              0.8888888888888888,
              "#fdca26"
             ],
             [
              1,
              "#f0f921"
             ]
            ],
            "type": "heatmap"
           }
          ],
          "heatmapgl": [
           {
            "colorbar": {
             "outlinewidth": 0,
             "ticks": ""
            },
            "colorscale": [
             [
              0,
              "#0d0887"
             ],
             [
              0.1111111111111111,
              "#46039f"
             ],
             [
              0.2222222222222222,
              "#7201a8"
             ],
             [
              0.3333333333333333,
              "#9c179e"
             ],
             [
              0.4444444444444444,
              "#bd3786"
             ],
             [
              0.5555555555555556,
              "#d8576b"
             ],
             [
              0.6666666666666666,
              "#ed7953"
             ],
             [
              0.7777777777777778,
              "#fb9f3a"
             ],
             [
              0.8888888888888888,
              "#fdca26"
             ],
             [
              1,
              "#f0f921"
             ]
            ],
            "type": "heatmapgl"
           }
          ],
          "histogram": [
           {
            "marker": {
             "pattern": {
              "fillmode": "overlay",
              "size": 10,
              "solidity": 0.2
             }
            },
            "type": "histogram"
           }
          ],
          "histogram2d": [
           {
            "colorbar": {
             "outlinewidth": 0,
             "ticks": ""
            },
            "colorscale": [
             [
              0,
              "#0d0887"
             ],
             [
              0.1111111111111111,
              "#46039f"
             ],
             [
              0.2222222222222222,
              "#7201a8"
             ],
             [
              0.3333333333333333,
              "#9c179e"
             ],
             [
              0.4444444444444444,
              "#bd3786"
             ],
             [
              0.5555555555555556,
              "#d8576b"
             ],
             [
              0.6666666666666666,
              "#ed7953"
             ],
             [
              0.7777777777777778,
              "#fb9f3a"
             ],
             [
              0.8888888888888888,
              "#fdca26"
             ],
             [
              1,
              "#f0f921"
             ]
            ],
            "type": "histogram2d"
           }
          ],
          "histogram2dcontour": [
           {
            "colorbar": {
             "outlinewidth": 0,
             "ticks": ""
            },
            "colorscale": [
             [
              0,
              "#0d0887"
             ],
             [
              0.1111111111111111,
              "#46039f"
             ],
             [
              0.2222222222222222,
              "#7201a8"
             ],
             [
              0.3333333333333333,
              "#9c179e"
             ],
             [
              0.4444444444444444,
              "#bd3786"
             ],
             [
              0.5555555555555556,
              "#d8576b"
             ],
             [
              0.6666666666666666,
              "#ed7953"
             ],
             [
              0.7777777777777778,
              "#fb9f3a"
             ],
             [
              0.8888888888888888,
              "#fdca26"
             ],
             [
              1,
              "#f0f921"
             ]
            ],
            "type": "histogram2dcontour"
           }
          ],
          "mesh3d": [
           {
            "colorbar": {
             "outlinewidth": 0,
             "ticks": ""
            },
            "type": "mesh3d"
           }
          ],
          "parcoords": [
           {
            "line": {
             "colorbar": {
              "outlinewidth": 0,
              "ticks": ""
             }
            },
            "type": "parcoords"
           }
          ],
          "pie": [
           {
            "automargin": true,
            "type": "pie"
           }
          ],
          "scatter": [
           {
            "marker": {
             "line": {
              "color": "#283442"
             }
            },
            "type": "scatter"
           }
          ],
          "scatter3d": [
           {
            "line": {
             "colorbar": {
              "outlinewidth": 0,
              "ticks": ""
             }
            },
            "marker": {
             "colorbar": {
              "outlinewidth": 0,
              "ticks": ""
             }
            },
            "type": "scatter3d"
           }
          ],
          "scattercarpet": [
           {
            "marker": {
             "colorbar": {
              "outlinewidth": 0,
              "ticks": ""
             }
            },
            "type": "scattercarpet"
           }
          ],
          "scattergeo": [
           {
            "marker": {
             "colorbar": {
              "outlinewidth": 0,
              "ticks": ""
             }
            },
            "type": "scattergeo"
           }
          ],
          "scattergl": [
           {
            "marker": {
             "line": {
              "color": "#283442"
             }
            },
            "type": "scattergl"
           }
          ],
          "scattermapbox": [
           {
            "marker": {
             "colorbar": {
              "outlinewidth": 0,
              "ticks": ""
             }
            },
            "type": "scattermapbox"
           }
          ],
          "scatterpolar": [
           {
            "marker": {
             "colorbar": {
              "outlinewidth": 0,
              "ticks": ""
             }
            },
            "type": "scatterpolar"
           }
          ],
          "scatterpolargl": [
           {
            "marker": {
             "colorbar": {
              "outlinewidth": 0,
              "ticks": ""
             }
            },
            "type": "scatterpolargl"
           }
          ],
          "scatterternary": [
           {
            "marker": {
             "colorbar": {
              "outlinewidth": 0,
              "ticks": ""
             }
            },
            "type": "scatterternary"
           }
          ],
          "surface": [
           {
            "colorbar": {
             "outlinewidth": 0,
             "ticks": ""
            },
            "colorscale": [
             [
              0,
              "#0d0887"
             ],
             [
              0.1111111111111111,
              "#46039f"
             ],
             [
              0.2222222222222222,
              "#7201a8"
             ],
             [
              0.3333333333333333,
              "#9c179e"
             ],
             [
              0.4444444444444444,
              "#bd3786"
             ],
             [
              0.5555555555555556,
              "#d8576b"
             ],
             [
              0.6666666666666666,
              "#ed7953"
             ],
             [
              0.7777777777777778,
              "#fb9f3a"
             ],
             [
              0.8888888888888888,
              "#fdca26"
             ],
             [
              1,
              "#f0f921"
             ]
            ],
            "type": "surface"
           }
          ],
          "table": [
           {
            "cells": {
             "fill": {
              "color": "#506784"
             },
             "line": {
              "color": "rgb(17,17,17)"
             }
            },
            "header": {
             "fill": {
              "color": "#2a3f5f"
             },
             "line": {
              "color": "rgb(17,17,17)"
             }
            },
            "type": "table"
           }
          ]
         },
         "layout": {
          "annotationdefaults": {
           "arrowcolor": "#f2f5fa",
           "arrowhead": 0,
           "arrowwidth": 1
          },
          "autotypenumbers": "strict",
          "coloraxis": {
           "colorbar": {
            "outlinewidth": 0,
            "ticks": ""
           }
          },
          "colorscale": {
           "diverging": [
            [
             0,
             "#8e0152"
            ],
            [
             0.1,
             "#c51b7d"
            ],
            [
             0.2,
             "#de77ae"
            ],
            [
             0.3,
             "#f1b6da"
            ],
            [
             0.4,
             "#fde0ef"
            ],
            [
             0.5,
             "#f7f7f7"
            ],
            [
             0.6,
             "#e6f5d0"
            ],
            [
             0.7,
             "#b8e186"
            ],
            [
             0.8,
             "#7fbc41"
            ],
            [
             0.9,
             "#4d9221"
            ],
            [
             1,
             "#276419"
            ]
           ],
           "sequential": [
            [
             0,
             "#0d0887"
            ],
            [
             0.1111111111111111,
             "#46039f"
            ],
            [
             0.2222222222222222,
             "#7201a8"
            ],
            [
             0.3333333333333333,
             "#9c179e"
            ],
            [
             0.4444444444444444,
             "#bd3786"
            ],
            [
             0.5555555555555556,
             "#d8576b"
            ],
            [
             0.6666666666666666,
             "#ed7953"
            ],
            [
             0.7777777777777778,
             "#fb9f3a"
            ],
            [
             0.8888888888888888,
             "#fdca26"
            ],
            [
             1,
             "#f0f921"
            ]
           ],
           "sequentialminus": [
            [
             0,
             "#0d0887"
            ],
            [
             0.1111111111111111,
             "#46039f"
            ],
            [
             0.2222222222222222,
             "#7201a8"
            ],
            [
             0.3333333333333333,
             "#9c179e"
            ],
            [
             0.4444444444444444,
             "#bd3786"
            ],
            [
             0.5555555555555556,
             "#d8576b"
            ],
            [
             0.6666666666666666,
             "#ed7953"
            ],
            [
             0.7777777777777778,
             "#fb9f3a"
            ],
            [
             0.8888888888888888,
             "#fdca26"
            ],
            [
             1,
             "#f0f921"
            ]
           ]
          },
          "colorway": [
           "#636efa",
           "#EF553B",
           "#00cc96",
           "#ab63fa",
           "#FFA15A",
           "#19d3f3",
           "#FF6692",
           "#B6E880",
           "#FF97FF",
           "#FECB52"
          ],
          "font": {
           "color": "#f2f5fa"
          },
          "geo": {
           "bgcolor": "rgb(17,17,17)",
           "lakecolor": "rgb(17,17,17)",
           "landcolor": "rgb(17,17,17)",
           "showlakes": true,
           "showland": true,
           "subunitcolor": "#506784"
          },
          "hoverlabel": {
           "align": "left"
          },
          "hovermode": "closest",
          "mapbox": {
           "style": "dark"
          },
          "paper_bgcolor": "rgb(17,17,17)",
          "plot_bgcolor": "rgb(17,17,17)",
          "polar": {
           "angularaxis": {
            "gridcolor": "#506784",
            "linecolor": "#506784",
            "ticks": ""
           },
           "bgcolor": "rgb(17,17,17)",
           "radialaxis": {
            "gridcolor": "#506784",
            "linecolor": "#506784",
            "ticks": ""
           }
          },
          "scene": {
           "xaxis": {
            "backgroundcolor": "rgb(17,17,17)",
            "gridcolor": "#506784",
            "gridwidth": 2,
            "linecolor": "#506784",
            "showbackground": true,
            "ticks": "",
            "zerolinecolor": "#C8D4E3"
           },
           "yaxis": {
            "backgroundcolor": "rgb(17,17,17)",
            "gridcolor": "#506784",
            "gridwidth": 2,
            "linecolor": "#506784",
            "showbackground": true,
            "ticks": "",
            "zerolinecolor": "#C8D4E3"
           },
           "zaxis": {
            "backgroundcolor": "rgb(17,17,17)",
            "gridcolor": "#506784",
            "gridwidth": 2,
            "linecolor": "#506784",
            "showbackground": true,
            "ticks": "",
            "zerolinecolor": "#C8D4E3"
           }
          },
          "shapedefaults": {
           "line": {
            "color": "#f2f5fa"
           }
          },
          "sliderdefaults": {
           "bgcolor": "#C8D4E3",
           "bordercolor": "rgb(17,17,17)",
           "borderwidth": 1,
           "tickwidth": 0
          },
          "ternary": {
           "aaxis": {
            "gridcolor": "#506784",
            "linecolor": "#506784",
            "ticks": ""
           },
           "baxis": {
            "gridcolor": "#506784",
            "linecolor": "#506784",
            "ticks": ""
           },
           "bgcolor": "rgb(17,17,17)",
           "caxis": {
            "gridcolor": "#506784",
            "linecolor": "#506784",
            "ticks": ""
           }
          },
          "title": {
           "x": 0.05
          },
          "updatemenudefaults": {
           "bgcolor": "#506784",
           "borderwidth": 0
          },
          "xaxis": {
           "automargin": true,
           "gridcolor": "#283442",
           "linecolor": "#506784",
           "ticks": "",
           "title": {
            "standoff": 15
           },
           "zerolinecolor": "#283442",
           "zerolinewidth": 2
          },
          "yaxis": {
           "automargin": true,
           "gridcolor": "#283442",
           "linecolor": "#506784",
           "ticks": "",
           "title": {
            "standoff": 15
           },
           "zerolinecolor": "#283442",
           "zerolinewidth": 2
          }
         }
        },
        "title": {
         "text": "Saldo a liquidar por tipo de empenho"
        },
        "xaxis": {
         "anchor": "y",
         "domain": [
          0,
          1
         ],
         "title": {
          "text": "Tipo de Empenho"
         }
        },
        "yaxis": {
         "anchor": "x",
         "domain": [
          0,
          1
         ],
         "title": {
          "text": "Saldo a liquidar"
         },
         "type": "log"
        }
       }
      }
     },
     "metadata": {},
     "output_type": "display_data"
    }
   ],
   "source": [
    "# Saldo a liquidar por tipo de Empenho\n",
    "cols = ['TIPO', 'A_LIQUIDAR']\n",
    "\n",
    "df_aux = df.loc[:, cols].groupby('TIPO').sum().sort_values(by= 'A_LIQUIDAR', ascending=False).reset_index()\n",
    "df_aux = df_aux[df_aux['A_LIQUIDAR'] > 0]\n",
    "fig = px.bar(df_aux, \n",
    "             x='TIPO', \n",
    "             y='A_LIQUIDAR',\n",
    "             title='Saldo a liquidar por tipo de empenho',\n",
    "             labels={'TIPO':'Tipo de Empenho', 'A_LIQUIDAR':'Saldo a liquidar'},\n",
    "             text_auto='.3s',\n",
    "             height=400,\n",
    "             log_y=True,\n",
    "             color='A_LIQUIDAR',\n",
    "             color_continuous_scale = 'reds',\n",
    "             template='plotly_dark')\n",
    "fig.update_traces(textposition = 'outside', cliponaxis = False, hovertemplate=None)\n",
    "fig.update_layout(hovermode=\"x unified\")\n",
    "\n",
    "fig.show()"
   ]
  },
  {
   "cell_type": "code",
   "execution_count": 11,
   "metadata": {},
   "outputs": [
    {
     "data": {
      "application/vnd.plotly.v1+json": {
       "config": {
        "plotlyServerURL": "https://plot.ly"
       },
       "data": [
        {
         "alignmentgroup": "True",
         "cliponaxis": false,
         "legendgroup": "",
         "marker": {
          "color": [
           7784073.69,
           38671.89
          ],
          "coloraxis": "coloraxis",
          "pattern": {
           "shape": ""
          }
         },
         "name": "",
         "offsetgroup": "",
         "orientation": "v",
         "showlegend": false,
         "textposition": "outside",
         "texttemplate": "%{y:.3s}",
         "type": "bar",
         "x": [
          "2024",
          "2023"
         ],
         "xaxis": "x",
         "y": [
          7784073.69,
          38671.89
         ],
         "yaxis": "y"
        }
       ],
       "layout": {
        "barmode": "relative",
        "coloraxis": {
         "colorbar": {
          "title": {
           "text": "Saldo a liquidar"
          }
         },
         "colorscale": [
          [
           0,
           "rgb(255,245,240)"
          ],
          [
           0.125,
           "rgb(254,224,210)"
          ],
          [
           0.25,
           "rgb(252,187,161)"
          ],
          [
           0.375,
           "rgb(252,146,114)"
          ],
          [
           0.5,
           "rgb(251,106,74)"
          ],
          [
           0.625,
           "rgb(239,59,44)"
          ],
          [
           0.75,
           "rgb(203,24,29)"
          ],
          [
           0.875,
           "rgb(165,15,21)"
          ],
          [
           1,
           "rgb(103,0,13)"
          ]
         ]
        },
        "height": 400,
        "hovermode": "x unified",
        "legend": {
         "tracegroupgap": 0
        },
        "template": {
         "data": {
          "bar": [
           {
            "error_x": {
             "color": "#f2f5fa"
            },
            "error_y": {
             "color": "#f2f5fa"
            },
            "marker": {
             "line": {
              "color": "rgb(17,17,17)",
              "width": 0.5
             },
             "pattern": {
              "fillmode": "overlay",
              "size": 10,
              "solidity": 0.2
             }
            },
            "type": "bar"
           }
          ],
          "barpolar": [
           {
            "marker": {
             "line": {
              "color": "rgb(17,17,17)",
              "width": 0.5
             },
             "pattern": {
              "fillmode": "overlay",
              "size": 10,
              "solidity": 0.2
             }
            },
            "type": "barpolar"
           }
          ],
          "carpet": [
           {
            "aaxis": {
             "endlinecolor": "#A2B1C6",
             "gridcolor": "#506784",
             "linecolor": "#506784",
             "minorgridcolor": "#506784",
             "startlinecolor": "#A2B1C6"
            },
            "baxis": {
             "endlinecolor": "#A2B1C6",
             "gridcolor": "#506784",
             "linecolor": "#506784",
             "minorgridcolor": "#506784",
             "startlinecolor": "#A2B1C6"
            },
            "type": "carpet"
           }
          ],
          "choropleth": [
           {
            "colorbar": {
             "outlinewidth": 0,
             "ticks": ""
            },
            "type": "choropleth"
           }
          ],
          "contour": [
           {
            "colorbar": {
             "outlinewidth": 0,
             "ticks": ""
            },
            "colorscale": [
             [
              0,
              "#0d0887"
             ],
             [
              0.1111111111111111,
              "#46039f"
             ],
             [
              0.2222222222222222,
              "#7201a8"
             ],
             [
              0.3333333333333333,
              "#9c179e"
             ],
             [
              0.4444444444444444,
              "#bd3786"
             ],
             [
              0.5555555555555556,
              "#d8576b"
             ],
             [
              0.6666666666666666,
              "#ed7953"
             ],
             [
              0.7777777777777778,
              "#fb9f3a"
             ],
             [
              0.8888888888888888,
              "#fdca26"
             ],
             [
              1,
              "#f0f921"
             ]
            ],
            "type": "contour"
           }
          ],
          "contourcarpet": [
           {
            "colorbar": {
             "outlinewidth": 0,
             "ticks": ""
            },
            "type": "contourcarpet"
           }
          ],
          "heatmap": [
           {
            "colorbar": {
             "outlinewidth": 0,
             "ticks": ""
            },
            "colorscale": [
             [
              0,
              "#0d0887"
             ],
             [
              0.1111111111111111,
              "#46039f"
             ],
             [
              0.2222222222222222,
              "#7201a8"
             ],
             [
              0.3333333333333333,
              "#9c179e"
             ],
             [
              0.4444444444444444,
              "#bd3786"
             ],
             [
              0.5555555555555556,
              "#d8576b"
             ],
             [
              0.6666666666666666,
              "#ed7953"
             ],
             [
              0.7777777777777778,
              "#fb9f3a"
             ],
             [
              0.8888888888888888,
              "#fdca26"
             ],
             [
              1,
              "#f0f921"
             ]
            ],
            "type": "heatmap"
           }
          ],
          "heatmapgl": [
           {
            "colorbar": {
             "outlinewidth": 0,
             "ticks": ""
            },
            "colorscale": [
             [
              0,
              "#0d0887"
             ],
             [
              0.1111111111111111,
              "#46039f"
             ],
             [
              0.2222222222222222,
              "#7201a8"
             ],
             [
              0.3333333333333333,
              "#9c179e"
             ],
             [
              0.4444444444444444,
              "#bd3786"
             ],
             [
              0.5555555555555556,
              "#d8576b"
             ],
             [
              0.6666666666666666,
              "#ed7953"
             ],
             [
              0.7777777777777778,
              "#fb9f3a"
             ],
             [
              0.8888888888888888,
              "#fdca26"
             ],
             [
              1,
              "#f0f921"
             ]
            ],
            "type": "heatmapgl"
           }
          ],
          "histogram": [
           {
            "marker": {
             "pattern": {
              "fillmode": "overlay",
              "size": 10,
              "solidity": 0.2
             }
            },
            "type": "histogram"
           }
          ],
          "histogram2d": [
           {
            "colorbar": {
             "outlinewidth": 0,
             "ticks": ""
            },
            "colorscale": [
             [
              0,
              "#0d0887"
             ],
             [
              0.1111111111111111,
              "#46039f"
             ],
             [
              0.2222222222222222,
              "#7201a8"
             ],
             [
              0.3333333333333333,
              "#9c179e"
             ],
             [
              0.4444444444444444,
              "#bd3786"
             ],
             [
              0.5555555555555556,
              "#d8576b"
             ],
             [
              0.6666666666666666,
              "#ed7953"
             ],
             [
              0.7777777777777778,
              "#fb9f3a"
             ],
             [
              0.8888888888888888,
              "#fdca26"
             ],
             [
              1,
              "#f0f921"
             ]
            ],
            "type": "histogram2d"
           }
          ],
          "histogram2dcontour": [
           {
            "colorbar": {
             "outlinewidth": 0,
             "ticks": ""
            },
            "colorscale": [
             [
              0,
              "#0d0887"
             ],
             [
              0.1111111111111111,
              "#46039f"
             ],
             [
              0.2222222222222222,
              "#7201a8"
             ],
             [
              0.3333333333333333,
              "#9c179e"
             ],
             [
              0.4444444444444444,
              "#bd3786"
             ],
             [
              0.5555555555555556,
              "#d8576b"
             ],
             [
              0.6666666666666666,
              "#ed7953"
             ],
             [
              0.7777777777777778,
              "#fb9f3a"
             ],
             [
              0.8888888888888888,
              "#fdca26"
             ],
             [
              1,
              "#f0f921"
             ]
            ],
            "type": "histogram2dcontour"
           }
          ],
          "mesh3d": [
           {
            "colorbar": {
             "outlinewidth": 0,
             "ticks": ""
            },
            "type": "mesh3d"
           }
          ],
          "parcoords": [
           {
            "line": {
             "colorbar": {
              "outlinewidth": 0,
              "ticks": ""
             }
            },
            "type": "parcoords"
           }
          ],
          "pie": [
           {
            "automargin": true,
            "type": "pie"
           }
          ],
          "scatter": [
           {
            "marker": {
             "line": {
              "color": "#283442"
             }
            },
            "type": "scatter"
           }
          ],
          "scatter3d": [
           {
            "line": {
             "colorbar": {
              "outlinewidth": 0,
              "ticks": ""
             }
            },
            "marker": {
             "colorbar": {
              "outlinewidth": 0,
              "ticks": ""
             }
            },
            "type": "scatter3d"
           }
          ],
          "scattercarpet": [
           {
            "marker": {
             "colorbar": {
              "outlinewidth": 0,
              "ticks": ""
             }
            },
            "type": "scattercarpet"
           }
          ],
          "scattergeo": [
           {
            "marker": {
             "colorbar": {
              "outlinewidth": 0,
              "ticks": ""
             }
            },
            "type": "scattergeo"
           }
          ],
          "scattergl": [
           {
            "marker": {
             "line": {
              "color": "#283442"
             }
            },
            "type": "scattergl"
           }
          ],
          "scattermapbox": [
           {
            "marker": {
             "colorbar": {
              "outlinewidth": 0,
              "ticks": ""
             }
            },
            "type": "scattermapbox"
           }
          ],
          "scatterpolar": [
           {
            "marker": {
             "colorbar": {
              "outlinewidth": 0,
              "ticks": ""
             }
            },
            "type": "scatterpolar"
           }
          ],
          "scatterpolargl": [
           {
            "marker": {
             "colorbar": {
              "outlinewidth": 0,
              "ticks": ""
             }
            },
            "type": "scatterpolargl"
           }
          ],
          "scatterternary": [
           {
            "marker": {
             "colorbar": {
              "outlinewidth": 0,
              "ticks": ""
             }
            },
            "type": "scatterternary"
           }
          ],
          "surface": [
           {
            "colorbar": {
             "outlinewidth": 0,
             "ticks": ""
            },
            "colorscale": [
             [
              0,
              "#0d0887"
             ],
             [
              0.1111111111111111,
              "#46039f"
             ],
             [
              0.2222222222222222,
              "#7201a8"
             ],
             [
              0.3333333333333333,
              "#9c179e"
             ],
             [
              0.4444444444444444,
              "#bd3786"
             ],
             [
              0.5555555555555556,
              "#d8576b"
             ],
             [
              0.6666666666666666,
              "#ed7953"
             ],
             [
              0.7777777777777778,
              "#fb9f3a"
             ],
             [
              0.8888888888888888,
              "#fdca26"
             ],
             [
              1,
              "#f0f921"
             ]
            ],
            "type": "surface"
           }
          ],
          "table": [
           {
            "cells": {
             "fill": {
              "color": "#506784"
             },
             "line": {
              "color": "rgb(17,17,17)"
             }
            },
            "header": {
             "fill": {
              "color": "#2a3f5f"
             },
             "line": {
              "color": "rgb(17,17,17)"
             }
            },
            "type": "table"
           }
          ]
         },
         "layout": {
          "annotationdefaults": {
           "arrowcolor": "#f2f5fa",
           "arrowhead": 0,
           "arrowwidth": 1
          },
          "autotypenumbers": "strict",
          "coloraxis": {
           "colorbar": {
            "outlinewidth": 0,
            "ticks": ""
           }
          },
          "colorscale": {
           "diverging": [
            [
             0,
             "#8e0152"
            ],
            [
             0.1,
             "#c51b7d"
            ],
            [
             0.2,
             "#de77ae"
            ],
            [
             0.3,
             "#f1b6da"
            ],
            [
             0.4,
             "#fde0ef"
            ],
            [
             0.5,
             "#f7f7f7"
            ],
            [
             0.6,
             "#e6f5d0"
            ],
            [
             0.7,
             "#b8e186"
            ],
            [
             0.8,
             "#7fbc41"
            ],
            [
             0.9,
             "#4d9221"
            ],
            [
             1,
             "#276419"
            ]
           ],
           "sequential": [
            [
             0,
             "#0d0887"
            ],
            [
             0.1111111111111111,
             "#46039f"
            ],
            [
             0.2222222222222222,
             "#7201a8"
            ],
            [
             0.3333333333333333,
             "#9c179e"
            ],
            [
             0.4444444444444444,
             "#bd3786"
            ],
            [
             0.5555555555555556,
             "#d8576b"
            ],
            [
             0.6666666666666666,
             "#ed7953"
            ],
            [
             0.7777777777777778,
             "#fb9f3a"
            ],
            [
             0.8888888888888888,
             "#fdca26"
            ],
            [
             1,
             "#f0f921"
            ]
           ],
           "sequentialminus": [
            [
             0,
             "#0d0887"
            ],
            [
             0.1111111111111111,
             "#46039f"
            ],
            [
             0.2222222222222222,
             "#7201a8"
            ],
            [
             0.3333333333333333,
             "#9c179e"
            ],
            [
             0.4444444444444444,
             "#bd3786"
            ],
            [
             0.5555555555555556,
             "#d8576b"
            ],
            [
             0.6666666666666666,
             "#ed7953"
            ],
            [
             0.7777777777777778,
             "#fb9f3a"
            ],
            [
             0.8888888888888888,
             "#fdca26"
            ],
            [
             1,
             "#f0f921"
            ]
           ]
          },
          "colorway": [
           "#636efa",
           "#EF553B",
           "#00cc96",
           "#ab63fa",
           "#FFA15A",
           "#19d3f3",
           "#FF6692",
           "#B6E880",
           "#FF97FF",
           "#FECB52"
          ],
          "font": {
           "color": "#f2f5fa"
          },
          "geo": {
           "bgcolor": "rgb(17,17,17)",
           "lakecolor": "rgb(17,17,17)",
           "landcolor": "rgb(17,17,17)",
           "showlakes": true,
           "showland": true,
           "subunitcolor": "#506784"
          },
          "hoverlabel": {
           "align": "left"
          },
          "hovermode": "closest",
          "mapbox": {
           "style": "dark"
          },
          "paper_bgcolor": "rgb(17,17,17)",
          "plot_bgcolor": "rgb(17,17,17)",
          "polar": {
           "angularaxis": {
            "gridcolor": "#506784",
            "linecolor": "#506784",
            "ticks": ""
           },
           "bgcolor": "rgb(17,17,17)",
           "radialaxis": {
            "gridcolor": "#506784",
            "linecolor": "#506784",
            "ticks": ""
           }
          },
          "scene": {
           "xaxis": {
            "backgroundcolor": "rgb(17,17,17)",
            "gridcolor": "#506784",
            "gridwidth": 2,
            "linecolor": "#506784",
            "showbackground": true,
            "ticks": "",
            "zerolinecolor": "#C8D4E3"
           },
           "yaxis": {
            "backgroundcolor": "rgb(17,17,17)",
            "gridcolor": "#506784",
            "gridwidth": 2,
            "linecolor": "#506784",
            "showbackground": true,
            "ticks": "",
            "zerolinecolor": "#C8D4E3"
           },
           "zaxis": {
            "backgroundcolor": "rgb(17,17,17)",
            "gridcolor": "#506784",
            "gridwidth": 2,
            "linecolor": "#506784",
            "showbackground": true,
            "ticks": "",
            "zerolinecolor": "#C8D4E3"
           }
          },
          "shapedefaults": {
           "line": {
            "color": "#f2f5fa"
           }
          },
          "sliderdefaults": {
           "bgcolor": "#C8D4E3",
           "bordercolor": "rgb(17,17,17)",
           "borderwidth": 1,
           "tickwidth": 0
          },
          "ternary": {
           "aaxis": {
            "gridcolor": "#506784",
            "linecolor": "#506784",
            "ticks": ""
           },
           "baxis": {
            "gridcolor": "#506784",
            "linecolor": "#506784",
            "ticks": ""
           },
           "bgcolor": "rgb(17,17,17)",
           "caxis": {
            "gridcolor": "#506784",
            "linecolor": "#506784",
            "ticks": ""
           }
          },
          "title": {
           "x": 0.05
          },
          "updatemenudefaults": {
           "bgcolor": "#506784",
           "borderwidth": 0
          },
          "xaxis": {
           "automargin": true,
           "gridcolor": "#283442",
           "linecolor": "#506784",
           "ticks": "",
           "title": {
            "standoff": 15
           },
           "zerolinecolor": "#283442",
           "zerolinewidth": 2
          },
          "yaxis": {
           "automargin": true,
           "gridcolor": "#283442",
           "linecolor": "#506784",
           "ticks": "",
           "title": {
            "standoff": 15
           },
           "zerolinecolor": "#283442",
           "zerolinewidth": 2
          }
         }
        },
        "title": {
         "text": "Saldo a liquidar por ano do empenho"
        },
        "xaxis": {
         "anchor": "y",
         "domain": [
          0,
          1
         ],
         "title": {
          "text": "Ano do Empenho"
         }
        },
        "yaxis": {
         "anchor": "x",
         "domain": [
          0,
          1
         ],
         "title": {
          "text": "Saldo a liquidar"
         },
         "type": "log"
        }
       }
      }
     },
     "metadata": {},
     "output_type": "display_data"
    }
   ],
   "source": [
    "# Saldo a liquidar por ano\n",
    "cols = ['ANO', 'A_LIQUIDAR']\n",
    "\n",
    "df_aux = df.loc[:, cols].groupby('ANO').sum().sort_values(by= 'A_LIQUIDAR', ascending=False).reset_index()\n",
    "df_aux = df_aux[df_aux['A_LIQUIDAR'] > 0]\n",
    "fig = px.bar(df_aux, \n",
    "             x='ANO', \n",
    "             y='A_LIQUIDAR',\n",
    "             title='Saldo a liquidar por ano do empenho',\n",
    "             labels={'ANO':'Ano do Empenho', 'A_LIQUIDAR':'Saldo a liquidar'},\n",
    "             text_auto='.3s',\n",
    "             height=400,\n",
    "             log_y=True,\n",
    "             color='A_LIQUIDAR',\n",
    "             color_continuous_scale = 'reds',\n",
    "             template='plotly_dark')\n",
    "fig.update_traces(textposition = 'outside', cliponaxis = False, hovertemplate=None)\n",
    "fig.update_layout(hovermode=\"x unified\")\n",
    "\n",
    "fig.show()"
   ]
  },
  {
   "cell_type": "code",
   "execution_count": 12,
   "metadata": {},
   "outputs": [
    {
     "data": {
      "application/vnd.plotly.v1+json": {
       "config": {
        "plotlyServerURL": "https://plot.ly"
       },
       "data": [
        {
         "alignmentgroup": "True",
         "cliponaxis": false,
         "legendgroup": "",
         "marker": {
          "color": [
           4077262.46,
           3404289.44,
           341193.68
          ],
          "coloraxis": "coloraxis",
          "pattern": {
           "shape": ""
          }
         },
         "name": "",
         "offsetgroup": "",
         "orientation": "v",
         "showlegend": false,
         "textposition": "outside",
         "texttemplate": "%{y:.3s}",
         "type": "bar",
         "x": [
          "ESTIMATIVO",
          "GLOBAL",
          "ORDINARIO"
         ],
         "xaxis": "x",
         "y": [
          4077262.46,
          3404289.44,
          341193.68
         ],
         "yaxis": "y"
        }
       ],
       "layout": {
        "barmode": "relative",
        "coloraxis": {
         "colorbar": {
          "title": {
           "text": "Saldo a liquidar"
          }
         },
         "colorscale": [
          [
           0,
           "rgb(255,245,240)"
          ],
          [
           0.125,
           "rgb(254,224,210)"
          ],
          [
           0.25,
           "rgb(252,187,161)"
          ],
          [
           0.375,
           "rgb(252,146,114)"
          ],
          [
           0.5,
           "rgb(251,106,74)"
          ],
          [
           0.625,
           "rgb(239,59,44)"
          ],
          [
           0.75,
           "rgb(203,24,29)"
          ],
          [
           0.875,
           "rgb(165,15,21)"
          ],
          [
           1,
           "rgb(103,0,13)"
          ]
         ]
        },
        "height": 400,
        "hovermode": "x unified",
        "legend": {
         "tracegroupgap": 0
        },
        "template": {
         "data": {
          "bar": [
           {
            "error_x": {
             "color": "#f2f5fa"
            },
            "error_y": {
             "color": "#f2f5fa"
            },
            "marker": {
             "line": {
              "color": "rgb(17,17,17)",
              "width": 0.5
             },
             "pattern": {
              "fillmode": "overlay",
              "size": 10,
              "solidity": 0.2
             }
            },
            "type": "bar"
           }
          ],
          "barpolar": [
           {
            "marker": {
             "line": {
              "color": "rgb(17,17,17)",
              "width": 0.5
             },
             "pattern": {
              "fillmode": "overlay",
              "size": 10,
              "solidity": 0.2
             }
            },
            "type": "barpolar"
           }
          ],
          "carpet": [
           {
            "aaxis": {
             "endlinecolor": "#A2B1C6",
             "gridcolor": "#506784",
             "linecolor": "#506784",
             "minorgridcolor": "#506784",
             "startlinecolor": "#A2B1C6"
            },
            "baxis": {
             "endlinecolor": "#A2B1C6",
             "gridcolor": "#506784",
             "linecolor": "#506784",
             "minorgridcolor": "#506784",
             "startlinecolor": "#A2B1C6"
            },
            "type": "carpet"
           }
          ],
          "choropleth": [
           {
            "colorbar": {
             "outlinewidth": 0,
             "ticks": ""
            },
            "type": "choropleth"
           }
          ],
          "contour": [
           {
            "colorbar": {
             "outlinewidth": 0,
             "ticks": ""
            },
            "colorscale": [
             [
              0,
              "#0d0887"
             ],
             [
              0.1111111111111111,
              "#46039f"
             ],
             [
              0.2222222222222222,
              "#7201a8"
             ],
             [
              0.3333333333333333,
              "#9c179e"
             ],
             [
              0.4444444444444444,
              "#bd3786"
             ],
             [
              0.5555555555555556,
              "#d8576b"
             ],
             [
              0.6666666666666666,
              "#ed7953"
             ],
             [
              0.7777777777777778,
              "#fb9f3a"
             ],
             [
              0.8888888888888888,
              "#fdca26"
             ],
             [
              1,
              "#f0f921"
             ]
            ],
            "type": "contour"
           }
          ],
          "contourcarpet": [
           {
            "colorbar": {
             "outlinewidth": 0,
             "ticks": ""
            },
            "type": "contourcarpet"
           }
          ],
          "heatmap": [
           {
            "colorbar": {
             "outlinewidth": 0,
             "ticks": ""
            },
            "colorscale": [
             [
              0,
              "#0d0887"
             ],
             [
              0.1111111111111111,
              "#46039f"
             ],
             [
              0.2222222222222222,
              "#7201a8"
             ],
             [
              0.3333333333333333,
              "#9c179e"
             ],
             [
              0.4444444444444444,
              "#bd3786"
             ],
             [
              0.5555555555555556,
              "#d8576b"
             ],
             [
              0.6666666666666666,
              "#ed7953"
             ],
             [
              0.7777777777777778,
              "#fb9f3a"
             ],
             [
              0.8888888888888888,
              "#fdca26"
             ],
             [
              1,
              "#f0f921"
             ]
            ],
            "type": "heatmap"
           }
          ],
          "heatmapgl": [
           {
            "colorbar": {
             "outlinewidth": 0,
             "ticks": ""
            },
            "colorscale": [
             [
              0,
              "#0d0887"
             ],
             [
              0.1111111111111111,
              "#46039f"
             ],
             [
              0.2222222222222222,
              "#7201a8"
             ],
             [
              0.3333333333333333,
              "#9c179e"
             ],
             [
              0.4444444444444444,
              "#bd3786"
             ],
             [
              0.5555555555555556,
              "#d8576b"
             ],
             [
              0.6666666666666666,
              "#ed7953"
             ],
             [
              0.7777777777777778,
              "#fb9f3a"
             ],
             [
              0.8888888888888888,
              "#fdca26"
             ],
             [
              1,
              "#f0f921"
             ]
            ],
            "type": "heatmapgl"
           }
          ],
          "histogram": [
           {
            "marker": {
             "pattern": {
              "fillmode": "overlay",
              "size": 10,
              "solidity": 0.2
             }
            },
            "type": "histogram"
           }
          ],
          "histogram2d": [
           {
            "colorbar": {
             "outlinewidth": 0,
             "ticks": ""
            },
            "colorscale": [
             [
              0,
              "#0d0887"
             ],
             [
              0.1111111111111111,
              "#46039f"
             ],
             [
              0.2222222222222222,
              "#7201a8"
             ],
             [
              0.3333333333333333,
              "#9c179e"
             ],
             [
              0.4444444444444444,
              "#bd3786"
             ],
             [
              0.5555555555555556,
              "#d8576b"
             ],
             [
              0.6666666666666666,
              "#ed7953"
             ],
             [
              0.7777777777777778,
              "#fb9f3a"
             ],
             [
              0.8888888888888888,
              "#fdca26"
             ],
             [
              1,
              "#f0f921"
             ]
            ],
            "type": "histogram2d"
           }
          ],
          "histogram2dcontour": [
           {
            "colorbar": {
             "outlinewidth": 0,
             "ticks": ""
            },
            "colorscale": [
             [
              0,
              "#0d0887"
             ],
             [
              0.1111111111111111,
              "#46039f"
             ],
             [
              0.2222222222222222,
              "#7201a8"
             ],
             [
              0.3333333333333333,
              "#9c179e"
             ],
             [
              0.4444444444444444,
              "#bd3786"
             ],
             [
              0.5555555555555556,
              "#d8576b"
             ],
             [
              0.6666666666666666,
              "#ed7953"
             ],
             [
              0.7777777777777778,
              "#fb9f3a"
             ],
             [
              0.8888888888888888,
              "#fdca26"
             ],
             [
              1,
              "#f0f921"
             ]
            ],
            "type": "histogram2dcontour"
           }
          ],
          "mesh3d": [
           {
            "colorbar": {
             "outlinewidth": 0,
             "ticks": ""
            },
            "type": "mesh3d"
           }
          ],
          "parcoords": [
           {
            "line": {
             "colorbar": {
              "outlinewidth": 0,
              "ticks": ""
             }
            },
            "type": "parcoords"
           }
          ],
          "pie": [
           {
            "automargin": true,
            "type": "pie"
           }
          ],
          "scatter": [
           {
            "marker": {
             "line": {
              "color": "#283442"
             }
            },
            "type": "scatter"
           }
          ],
          "scatter3d": [
           {
            "line": {
             "colorbar": {
              "outlinewidth": 0,
              "ticks": ""
             }
            },
            "marker": {
             "colorbar": {
              "outlinewidth": 0,
              "ticks": ""
             }
            },
            "type": "scatter3d"
           }
          ],
          "scattercarpet": [
           {
            "marker": {
             "colorbar": {
              "outlinewidth": 0,
              "ticks": ""
             }
            },
            "type": "scattercarpet"
           }
          ],
          "scattergeo": [
           {
            "marker": {
             "colorbar": {
              "outlinewidth": 0,
              "ticks": ""
             }
            },
            "type": "scattergeo"
           }
          ],
          "scattergl": [
           {
            "marker": {
             "line": {
              "color": "#283442"
             }
            },
            "type": "scattergl"
           }
          ],
          "scattermapbox": [
           {
            "marker": {
             "colorbar": {
              "outlinewidth": 0,
              "ticks": ""
             }
            },
            "type": "scattermapbox"
           }
          ],
          "scatterpolar": [
           {
            "marker": {
             "colorbar": {
              "outlinewidth": 0,
              "ticks": ""
             }
            },
            "type": "scatterpolar"
           }
          ],
          "scatterpolargl": [
           {
            "marker": {
             "colorbar": {
              "outlinewidth": 0,
              "ticks": ""
             }
            },
            "type": "scatterpolargl"
           }
          ],
          "scatterternary": [
           {
            "marker": {
             "colorbar": {
              "outlinewidth": 0,
              "ticks": ""
             }
            },
            "type": "scatterternary"
           }
          ],
          "surface": [
           {
            "colorbar": {
             "outlinewidth": 0,
             "ticks": ""
            },
            "colorscale": [
             [
              0,
              "#0d0887"
             ],
             [
              0.1111111111111111,
              "#46039f"
             ],
             [
              0.2222222222222222,
              "#7201a8"
             ],
             [
              0.3333333333333333,
              "#9c179e"
             ],
             [
              0.4444444444444444,
              "#bd3786"
             ],
             [
              0.5555555555555556,
              "#d8576b"
             ],
             [
              0.6666666666666666,
              "#ed7953"
             ],
             [
              0.7777777777777778,
              "#fb9f3a"
             ],
             [
              0.8888888888888888,
              "#fdca26"
             ],
             [
              1,
              "#f0f921"
             ]
            ],
            "type": "surface"
           }
          ],
          "table": [
           {
            "cells": {
             "fill": {
              "color": "#506784"
             },
             "line": {
              "color": "rgb(17,17,17)"
             }
            },
            "header": {
             "fill": {
              "color": "#2a3f5f"
             },
             "line": {
              "color": "rgb(17,17,17)"
             }
            },
            "type": "table"
           }
          ]
         },
         "layout": {
          "annotationdefaults": {
           "arrowcolor": "#f2f5fa",
           "arrowhead": 0,
           "arrowwidth": 1
          },
          "autotypenumbers": "strict",
          "coloraxis": {
           "colorbar": {
            "outlinewidth": 0,
            "ticks": ""
           }
          },
          "colorscale": {
           "diverging": [
            [
             0,
             "#8e0152"
            ],
            [
             0.1,
             "#c51b7d"
            ],
            [
             0.2,
             "#de77ae"
            ],
            [
             0.3,
             "#f1b6da"
            ],
            [
             0.4,
             "#fde0ef"
            ],
            [
             0.5,
             "#f7f7f7"
            ],
            [
             0.6,
             "#e6f5d0"
            ],
            [
             0.7,
             "#b8e186"
            ],
            [
             0.8,
             "#7fbc41"
            ],
            [
             0.9,
             "#4d9221"
            ],
            [
             1,
             "#276419"
            ]
           ],
           "sequential": [
            [
             0,
             "#0d0887"
            ],
            [
             0.1111111111111111,
             "#46039f"
            ],
            [
             0.2222222222222222,
             "#7201a8"
            ],
            [
             0.3333333333333333,
             "#9c179e"
            ],
            [
             0.4444444444444444,
             "#bd3786"
            ],
            [
             0.5555555555555556,
             "#d8576b"
            ],
            [
             0.6666666666666666,
             "#ed7953"
            ],
            [
             0.7777777777777778,
             "#fb9f3a"
            ],
            [
             0.8888888888888888,
             "#fdca26"
            ],
            [
             1,
             "#f0f921"
            ]
           ],
           "sequentialminus": [
            [
             0,
             "#0d0887"
            ],
            [
             0.1111111111111111,
             "#46039f"
            ],
            [
             0.2222222222222222,
             "#7201a8"
            ],
            [
             0.3333333333333333,
             "#9c179e"
            ],
            [
             0.4444444444444444,
             "#bd3786"
            ],
            [
             0.5555555555555556,
             "#d8576b"
            ],
            [
             0.6666666666666666,
             "#ed7953"
            ],
            [
             0.7777777777777778,
             "#fb9f3a"
            ],
            [
             0.8888888888888888,
             "#fdca26"
            ],
            [
             1,
             "#f0f921"
            ]
           ]
          },
          "colorway": [
           "#636efa",
           "#EF553B",
           "#00cc96",
           "#ab63fa",
           "#FFA15A",
           "#19d3f3",
           "#FF6692",
           "#B6E880",
           "#FF97FF",
           "#FECB52"
          ],
          "font": {
           "color": "#f2f5fa"
          },
          "geo": {
           "bgcolor": "rgb(17,17,17)",
           "lakecolor": "rgb(17,17,17)",
           "landcolor": "rgb(17,17,17)",
           "showlakes": true,
           "showland": true,
           "subunitcolor": "#506784"
          },
          "hoverlabel": {
           "align": "left"
          },
          "hovermode": "closest",
          "mapbox": {
           "style": "dark"
          },
          "paper_bgcolor": "rgb(17,17,17)",
          "plot_bgcolor": "rgb(17,17,17)",
          "polar": {
           "angularaxis": {
            "gridcolor": "#506784",
            "linecolor": "#506784",
            "ticks": ""
           },
           "bgcolor": "rgb(17,17,17)",
           "radialaxis": {
            "gridcolor": "#506784",
            "linecolor": "#506784",
            "ticks": ""
           }
          },
          "scene": {
           "xaxis": {
            "backgroundcolor": "rgb(17,17,17)",
            "gridcolor": "#506784",
            "gridwidth": 2,
            "linecolor": "#506784",
            "showbackground": true,
            "ticks": "",
            "zerolinecolor": "#C8D4E3"
           },
           "yaxis": {
            "backgroundcolor": "rgb(17,17,17)",
            "gridcolor": "#506784",
            "gridwidth": 2,
            "linecolor": "#506784",
            "showbackground": true,
            "ticks": "",
            "zerolinecolor": "#C8D4E3"
           },
           "zaxis": {
            "backgroundcolor": "rgb(17,17,17)",
            "gridcolor": "#506784",
            "gridwidth": 2,
            "linecolor": "#506784",
            "showbackground": true,
            "ticks": "",
            "zerolinecolor": "#C8D4E3"
           }
          },
          "shapedefaults": {
           "line": {
            "color": "#f2f5fa"
           }
          },
          "sliderdefaults": {
           "bgcolor": "#C8D4E3",
           "bordercolor": "rgb(17,17,17)",
           "borderwidth": 1,
           "tickwidth": 0
          },
          "ternary": {
           "aaxis": {
            "gridcolor": "#506784",
            "linecolor": "#506784",
            "ticks": ""
           },
           "baxis": {
            "gridcolor": "#506784",
            "linecolor": "#506784",
            "ticks": ""
           },
           "bgcolor": "rgb(17,17,17)",
           "caxis": {
            "gridcolor": "#506784",
            "linecolor": "#506784",
            "ticks": ""
           }
          },
          "title": {
           "x": 0.05
          },
          "updatemenudefaults": {
           "bgcolor": "#506784",
           "borderwidth": 0
          },
          "xaxis": {
           "automargin": true,
           "gridcolor": "#283442",
           "linecolor": "#506784",
           "ticks": "",
           "title": {
            "standoff": 15
           },
           "zerolinecolor": "#283442",
           "zerolinewidth": 2
          },
          "yaxis": {
           "automargin": true,
           "gridcolor": "#283442",
           "linecolor": "#506784",
           "ticks": "",
           "title": {
            "standoff": 15
           },
           "zerolinecolor": "#283442",
           "zerolinewidth": 2
          }
         }
        },
        "title": {
         "text": "Saldo a liquidar por ano do empenho"
        },
        "xaxis": {
         "anchor": "y",
         "domain": [
          0,
          1
         ],
         "title": {
          "text": "Tipo de Nota de Empenho"
         }
        },
        "yaxis": {
         "anchor": "x",
         "domain": [
          0,
          1
         ],
         "title": {
          "text": "Saldo a liquidar"
         },
         "type": "log"
        }
       }
      }
     },
     "metadata": {},
     "output_type": "display_data"
    }
   ],
   "source": [
    "# Saldo a liquidar por tipo de NE\n",
    "cols = ['TIPO_NE', 'A_LIQUIDAR']\n",
    "\n",
    "df_aux = df.loc[:, cols].groupby('TIPO_NE').sum().sort_values(by= 'A_LIQUIDAR', ascending=False).reset_index()\n",
    "df_aux = df_aux[df_aux['A_LIQUIDAR'] > 0]\n",
    "fig = px.bar(df_aux, \n",
    "             x='TIPO_NE', \n",
    "             y='A_LIQUIDAR',\n",
    "             title='Saldo a liquidar por ano do empenho',\n",
    "             labels={'TIPO_NE':'Tipo de Nota de Empenho', 'A_LIQUIDAR':'Saldo a liquidar'},\n",
    "             text_auto='.3s',\n",
    "             height=400,\n",
    "             log_y=True,\n",
    "             color='A_LIQUIDAR',\n",
    "             color_continuous_scale = 'reds',\n",
    "             template='plotly_dark')\n",
    "fig.update_traces(textposition = 'outside', cliponaxis = False, hovertemplate=None)\n",
    "fig.update_layout(hovermode=\"x unified\")\n",
    "\n",
    "fig.show()"
   ]
  },
  {
   "cell_type": "code",
   "execution_count": 13,
   "metadata": {},
   "outputs": [
    {
     "data": {
      "application/vnd.plotly.v1+json": {
       "config": {
        "plotlyServerURL": "https://plot.ly"
       },
       "data": [
        {
         "alignmentgroup": "True",
         "cliponaxis": false,
         "legendgroup": "",
         "marker": {
          "color": [
           4416613.54,
           1531057.98,
           652773.4400000001,
           528892.78,
           359281.28,
           252626.22,
           59228.19,
           13185.32,
           8774.8,
           312.03
          ],
          "coloraxis": "coloraxis",
          "pattern": {
           "shape": ""
          }
         },
         "name": "",
         "offsetgroup": "",
         "orientation": "v",
         "showlegend": false,
         "textposition": "outside",
         "texttemplate": "%{y:.3s}",
         "type": "bar",
         "x": [
          "DGP",
          "DECEX/GESTOR",
          "COEX/GESTOR",
          "DGO",
          "DEC-GESTOR",
          "DECEX - GESTOR",
          "F EX",
          "COEX - GESTOR",
          "ESA",
          "COTER - GESTOR"
         ],
         "xaxis": "x",
         "y": [
          4416613.54,
          1531057.98,
          652773.4400000001,
          528892.78,
          359281.28,
          252626.22,
          59228.19,
          13185.32,
          8774.8,
          312.03
         ],
         "yaxis": "y"
        }
       ],
       "layout": {
        "barmode": "relative",
        "coloraxis": {
         "colorbar": {
          "title": {
           "text": "Saldo a liquidar"
          }
         },
         "colorscale": [
          [
           0,
           "rgb(255,245,240)"
          ],
          [
           0.125,
           "rgb(254,224,210)"
          ],
          [
           0.25,
           "rgb(252,187,161)"
          ],
          [
           0.375,
           "rgb(252,146,114)"
          ],
          [
           0.5,
           "rgb(251,106,74)"
          ],
          [
           0.625,
           "rgb(239,59,44)"
          ],
          [
           0.75,
           "rgb(203,24,29)"
          ],
          [
           0.875,
           "rgb(165,15,21)"
          ],
          [
           1,
           "rgb(103,0,13)"
          ]
         ]
        },
        "height": 400,
        "hovermode": "x unified",
        "legend": {
         "tracegroupgap": 0
        },
        "template": {
         "data": {
          "bar": [
           {
            "error_x": {
             "color": "#f2f5fa"
            },
            "error_y": {
             "color": "#f2f5fa"
            },
            "marker": {
             "line": {
              "color": "rgb(17,17,17)",
              "width": 0.5
             },
             "pattern": {
              "fillmode": "overlay",
              "size": 10,
              "solidity": 0.2
             }
            },
            "type": "bar"
           }
          ],
          "barpolar": [
           {
            "marker": {
             "line": {
              "color": "rgb(17,17,17)",
              "width": 0.5
             },
             "pattern": {
              "fillmode": "overlay",
              "size": 10,
              "solidity": 0.2
             }
            },
            "type": "barpolar"
           }
          ],
          "carpet": [
           {
            "aaxis": {
             "endlinecolor": "#A2B1C6",
             "gridcolor": "#506784",
             "linecolor": "#506784",
             "minorgridcolor": "#506784",
             "startlinecolor": "#A2B1C6"
            },
            "baxis": {
             "endlinecolor": "#A2B1C6",
             "gridcolor": "#506784",
             "linecolor": "#506784",
             "minorgridcolor": "#506784",
             "startlinecolor": "#A2B1C6"
            },
            "type": "carpet"
           }
          ],
          "choropleth": [
           {
            "colorbar": {
             "outlinewidth": 0,
             "ticks": ""
            },
            "type": "choropleth"
           }
          ],
          "contour": [
           {
            "colorbar": {
             "outlinewidth": 0,
             "ticks": ""
            },
            "colorscale": [
             [
              0,
              "#0d0887"
             ],
             [
              0.1111111111111111,
              "#46039f"
             ],
             [
              0.2222222222222222,
              "#7201a8"
             ],
             [
              0.3333333333333333,
              "#9c179e"
             ],
             [
              0.4444444444444444,
              "#bd3786"
             ],
             [
              0.5555555555555556,
              "#d8576b"
             ],
             [
              0.6666666666666666,
              "#ed7953"
             ],
             [
              0.7777777777777778,
              "#fb9f3a"
             ],
             [
              0.8888888888888888,
              "#fdca26"
             ],
             [
              1,
              "#f0f921"
             ]
            ],
            "type": "contour"
           }
          ],
          "contourcarpet": [
           {
            "colorbar": {
             "outlinewidth": 0,
             "ticks": ""
            },
            "type": "contourcarpet"
           }
          ],
          "heatmap": [
           {
            "colorbar": {
             "outlinewidth": 0,
             "ticks": ""
            },
            "colorscale": [
             [
              0,
              "#0d0887"
             ],
             [
              0.1111111111111111,
              "#46039f"
             ],
             [
              0.2222222222222222,
              "#7201a8"
             ],
             [
              0.3333333333333333,
              "#9c179e"
             ],
             [
              0.4444444444444444,
              "#bd3786"
             ],
             [
              0.5555555555555556,
              "#d8576b"
             ],
             [
              0.6666666666666666,
              "#ed7953"
             ],
             [
              0.7777777777777778,
              "#fb9f3a"
             ],
             [
              0.8888888888888888,
              "#fdca26"
             ],
             [
              1,
              "#f0f921"
             ]
            ],
            "type": "heatmap"
           }
          ],
          "heatmapgl": [
           {
            "colorbar": {
             "outlinewidth": 0,
             "ticks": ""
            },
            "colorscale": [
             [
              0,
              "#0d0887"
             ],
             [
              0.1111111111111111,
              "#46039f"
             ],
             [
              0.2222222222222222,
              "#7201a8"
             ],
             [
              0.3333333333333333,
              "#9c179e"
             ],
             [
              0.4444444444444444,
              "#bd3786"
             ],
             [
              0.5555555555555556,
              "#d8576b"
             ],
             [
              0.6666666666666666,
              "#ed7953"
             ],
             [
              0.7777777777777778,
              "#fb9f3a"
             ],
             [
              0.8888888888888888,
              "#fdca26"
             ],
             [
              1,
              "#f0f921"
             ]
            ],
            "type": "heatmapgl"
           }
          ],
          "histogram": [
           {
            "marker": {
             "pattern": {
              "fillmode": "overlay",
              "size": 10,
              "solidity": 0.2
             }
            },
            "type": "histogram"
           }
          ],
          "histogram2d": [
           {
            "colorbar": {
             "outlinewidth": 0,
             "ticks": ""
            },
            "colorscale": [
             [
              0,
              "#0d0887"
             ],
             [
              0.1111111111111111,
              "#46039f"
             ],
             [
              0.2222222222222222,
              "#7201a8"
             ],
             [
              0.3333333333333333,
              "#9c179e"
             ],
             [
              0.4444444444444444,
              "#bd3786"
             ],
             [
              0.5555555555555556,
              "#d8576b"
             ],
             [
              0.6666666666666666,
              "#ed7953"
             ],
             [
              0.7777777777777778,
              "#fb9f3a"
             ],
             [
              0.8888888888888888,
              "#fdca26"
             ],
             [
              1,
              "#f0f921"
             ]
            ],
            "type": "histogram2d"
           }
          ],
          "histogram2dcontour": [
           {
            "colorbar": {
             "outlinewidth": 0,
             "ticks": ""
            },
            "colorscale": [
             [
              0,
              "#0d0887"
             ],
             [
              0.1111111111111111,
              "#46039f"
             ],
             [
              0.2222222222222222,
              "#7201a8"
             ],
             [
              0.3333333333333333,
              "#9c179e"
             ],
             [
              0.4444444444444444,
              "#bd3786"
             ],
             [
              0.5555555555555556,
              "#d8576b"
             ],
             [
              0.6666666666666666,
              "#ed7953"
             ],
             [
              0.7777777777777778,
              "#fb9f3a"
             ],
             [
              0.8888888888888888,
              "#fdca26"
             ],
             [
              1,
              "#f0f921"
             ]
            ],
            "type": "histogram2dcontour"
           }
          ],
          "mesh3d": [
           {
            "colorbar": {
             "outlinewidth": 0,
             "ticks": ""
            },
            "type": "mesh3d"
           }
          ],
          "parcoords": [
           {
            "line": {
             "colorbar": {
              "outlinewidth": 0,
              "ticks": ""
             }
            },
            "type": "parcoords"
           }
          ],
          "pie": [
           {
            "automargin": true,
            "type": "pie"
           }
          ],
          "scatter": [
           {
            "marker": {
             "line": {
              "color": "#283442"
             }
            },
            "type": "scatter"
           }
          ],
          "scatter3d": [
           {
            "line": {
             "colorbar": {
              "outlinewidth": 0,
              "ticks": ""
             }
            },
            "marker": {
             "colorbar": {
              "outlinewidth": 0,
              "ticks": ""
             }
            },
            "type": "scatter3d"
           }
          ],
          "scattercarpet": [
           {
            "marker": {
             "colorbar": {
              "outlinewidth": 0,
              "ticks": ""
             }
            },
            "type": "scattercarpet"
           }
          ],
          "scattergeo": [
           {
            "marker": {
             "colorbar": {
              "outlinewidth": 0,
              "ticks": ""
             }
            },
            "type": "scattergeo"
           }
          ],
          "scattergl": [
           {
            "marker": {
             "line": {
              "color": "#283442"
             }
            },
            "type": "scattergl"
           }
          ],
          "scattermapbox": [
           {
            "marker": {
             "colorbar": {
              "outlinewidth": 0,
              "ticks": ""
             }
            },
            "type": "scattermapbox"
           }
          ],
          "scatterpolar": [
           {
            "marker": {
             "colorbar": {
              "outlinewidth": 0,
              "ticks": ""
             }
            },
            "type": "scatterpolar"
           }
          ],
          "scatterpolargl": [
           {
            "marker": {
             "colorbar": {
              "outlinewidth": 0,
              "ticks": ""
             }
            },
            "type": "scatterpolargl"
           }
          ],
          "scatterternary": [
           {
            "marker": {
             "colorbar": {
              "outlinewidth": 0,
              "ticks": ""
             }
            },
            "type": "scatterternary"
           }
          ],
          "surface": [
           {
            "colorbar": {
             "outlinewidth": 0,
             "ticks": ""
            },
            "colorscale": [
             [
              0,
              "#0d0887"
             ],
             [
              0.1111111111111111,
              "#46039f"
             ],
             [
              0.2222222222222222,
              "#7201a8"
             ],
             [
              0.3333333333333333,
              "#9c179e"
             ],
             [
              0.4444444444444444,
              "#bd3786"
             ],
             [
              0.5555555555555556,
              "#d8576b"
             ],
             [
              0.6666666666666666,
              "#ed7953"
             ],
             [
              0.7777777777777778,
              "#fb9f3a"
             ],
             [
              0.8888888888888888,
              "#fdca26"
             ],
             [
              1,
              "#f0f921"
             ]
            ],
            "type": "surface"
           }
          ],
          "table": [
           {
            "cells": {
             "fill": {
              "color": "#506784"
             },
             "line": {
              "color": "rgb(17,17,17)"
             }
            },
            "header": {
             "fill": {
              "color": "#2a3f5f"
             },
             "line": {
              "color": "rgb(17,17,17)"
             }
            },
            "type": "table"
           }
          ]
         },
         "layout": {
          "annotationdefaults": {
           "arrowcolor": "#f2f5fa",
           "arrowhead": 0,
           "arrowwidth": 1
          },
          "autotypenumbers": "strict",
          "coloraxis": {
           "colorbar": {
            "outlinewidth": 0,
            "ticks": ""
           }
          },
          "colorscale": {
           "diverging": [
            [
             0,
             "#8e0152"
            ],
            [
             0.1,
             "#c51b7d"
            ],
            [
             0.2,
             "#de77ae"
            ],
            [
             0.3,
             "#f1b6da"
            ],
            [
             0.4,
             "#fde0ef"
            ],
            [
             0.5,
             "#f7f7f7"
            ],
            [
             0.6,
             "#e6f5d0"
            ],
            [
             0.7,
             "#b8e186"
            ],
            [
             0.8,
             "#7fbc41"
            ],
            [
             0.9,
             "#4d9221"
            ],
            [
             1,
             "#276419"
            ]
           ],
           "sequential": [
            [
             0,
             "#0d0887"
            ],
            [
             0.1111111111111111,
             "#46039f"
            ],
            [
             0.2222222222222222,
             "#7201a8"
            ],
            [
             0.3333333333333333,
             "#9c179e"
            ],
            [
             0.4444444444444444,
             "#bd3786"
            ],
            [
             0.5555555555555556,
             "#d8576b"
            ],
            [
             0.6666666666666666,
             "#ed7953"
            ],
            [
             0.7777777777777778,
             "#fb9f3a"
            ],
            [
             0.8888888888888888,
             "#fdca26"
            ],
            [
             1,
             "#f0f921"
            ]
           ],
           "sequentialminus": [
            [
             0,
             "#0d0887"
            ],
            [
             0.1111111111111111,
             "#46039f"
            ],
            [
             0.2222222222222222,
             "#7201a8"
            ],
            [
             0.3333333333333333,
             "#9c179e"
            ],
            [
             0.4444444444444444,
             "#bd3786"
            ],
            [
             0.5555555555555556,
             "#d8576b"
            ],
            [
             0.6666666666666666,
             "#ed7953"
            ],
            [
             0.7777777777777778,
             "#fb9f3a"
            ],
            [
             0.8888888888888888,
             "#fdca26"
            ],
            [
             1,
             "#f0f921"
            ]
           ]
          },
          "colorway": [
           "#636efa",
           "#EF553B",
           "#00cc96",
           "#ab63fa",
           "#FFA15A",
           "#19d3f3",
           "#FF6692",
           "#B6E880",
           "#FF97FF",
           "#FECB52"
          ],
          "font": {
           "color": "#f2f5fa"
          },
          "geo": {
           "bgcolor": "rgb(17,17,17)",
           "lakecolor": "rgb(17,17,17)",
           "landcolor": "rgb(17,17,17)",
           "showlakes": true,
           "showland": true,
           "subunitcolor": "#506784"
          },
          "hoverlabel": {
           "align": "left"
          },
          "hovermode": "closest",
          "mapbox": {
           "style": "dark"
          },
          "paper_bgcolor": "rgb(17,17,17)",
          "plot_bgcolor": "rgb(17,17,17)",
          "polar": {
           "angularaxis": {
            "gridcolor": "#506784",
            "linecolor": "#506784",
            "ticks": ""
           },
           "bgcolor": "rgb(17,17,17)",
           "radialaxis": {
            "gridcolor": "#506784",
            "linecolor": "#506784",
            "ticks": ""
           }
          },
          "scene": {
           "xaxis": {
            "backgroundcolor": "rgb(17,17,17)",
            "gridcolor": "#506784",
            "gridwidth": 2,
            "linecolor": "#506784",
            "showbackground": true,
            "ticks": "",
            "zerolinecolor": "#C8D4E3"
           },
           "yaxis": {
            "backgroundcolor": "rgb(17,17,17)",
            "gridcolor": "#506784",
            "gridwidth": 2,
            "linecolor": "#506784",
            "showbackground": true,
            "ticks": "",
            "zerolinecolor": "#C8D4E3"
           },
           "zaxis": {
            "backgroundcolor": "rgb(17,17,17)",
            "gridcolor": "#506784",
            "gridwidth": 2,
            "linecolor": "#506784",
            "showbackground": true,
            "ticks": "",
            "zerolinecolor": "#C8D4E3"
           }
          },
          "shapedefaults": {
           "line": {
            "color": "#f2f5fa"
           }
          },
          "sliderdefaults": {
           "bgcolor": "#C8D4E3",
           "bordercolor": "rgb(17,17,17)",
           "borderwidth": 1,
           "tickwidth": 0
          },
          "ternary": {
           "aaxis": {
            "gridcolor": "#506784",
            "linecolor": "#506784",
            "ticks": ""
           },
           "baxis": {
            "gridcolor": "#506784",
            "linecolor": "#506784",
            "ticks": ""
           },
           "bgcolor": "rgb(17,17,17)",
           "caxis": {
            "gridcolor": "#506784",
            "linecolor": "#506784",
            "ticks": ""
           }
          },
          "title": {
           "x": 0.05
          },
          "updatemenudefaults": {
           "bgcolor": "#506784",
           "borderwidth": 0
          },
          "xaxis": {
           "automargin": true,
           "gridcolor": "#283442",
           "linecolor": "#506784",
           "ticks": "",
           "title": {
            "standoff": 15
           },
           "zerolinecolor": "#283442",
           "zerolinewidth": 2
          },
          "yaxis": {
           "automargin": true,
           "gridcolor": "#283442",
           "linecolor": "#506784",
           "ticks": "",
           "title": {
            "standoff": 15
           },
           "zerolinecolor": "#283442",
           "zerolinewidth": 2
          }
         }
        },
        "title": {
         "text": "Saldo a liquidar por ano do empenho"
        },
        "xaxis": {
         "anchor": "y",
         "domain": [
          0,
          1
         ],
         "title": {
          "text": "Nome das UGR"
         }
        },
        "yaxis": {
         "anchor": "x",
         "domain": [
          0,
          1
         ],
         "title": {
          "text": "Saldo a liquidar"
         },
         "type": "log"
        }
       }
      }
     },
     "metadata": {},
     "output_type": "display_data"
    }
   ],
   "source": [
    "# Saldo a liquidar por tipo de NE\n",
    "cols = ['NOME_UGR', 'A_LIQUIDAR']\n",
    "\n",
    "df_aux = df.loc[:, cols].groupby('NOME_UGR').sum().sort_values(by= 'A_LIQUIDAR', ascending=False).reset_index()\n",
    "df_aux = df_aux[df_aux['A_LIQUIDAR'] > 0]\n",
    "fig = px.bar(df_aux, \n",
    "             x='NOME_UGR', \n",
    "             y='A_LIQUIDAR',\n",
    "             title='Saldo a liquidar por ano do empenho',\n",
    "             labels={'NOME_UGR':'Nome das UGR', 'A_LIQUIDAR':'Saldo a liquidar'},\n",
    "             text_auto='.3s',\n",
    "             height=400,\n",
    "             log_y=True,\n",
    "             color='A_LIQUIDAR',\n",
    "             color_continuous_scale = 'reds',\n",
    "             template='plotly_dark')\n",
    "fig.update_traces(textposition = 'outside', cliponaxis = False, hovertemplate=None)\n",
    "fig.update_layout(hovermode=\"x unified\")\n",
    "\n",
    "fig.show()"
   ]
  },
  {
   "cell_type": "code",
   "execution_count": 14,
   "metadata": {},
   "outputs": [
    {
     "data": {
      "application/vnd.plotly.v1+json": {
       "config": {
        "plotlyServerURL": "https://plot.ly"
       },
       "data": [
        {
         "cliponaxis": false,
         "name": "A Liquidar",
         "textposition": "outside",
         "type": "bar",
         "x": [
          "339039",
          "339033",
          "339030",
          "339040",
          "339037",
          "449052",
          "339036",
          "339093",
          "339147",
          "339015",
          "339092",
          "339047"
         ],
         "y": [
          4966261.21,
          1229142.22,
          1050411.24,
          197333.68,
          181383.90999999997,
          100370.17,
          53216.55,
          16950.600000000002,
          11217.3,
          8774.8,
          6275.99,
          1407.91
         ]
        },
        {
         "cliponaxis": false,
         "name": "Liquidado a pagar",
         "textposition": "outside",
         "type": "bar",
         "x": [
          "339039",
          "339033",
          "339030",
          "339040",
          "339037",
          "449052",
          "339036",
          "339093",
          "339147",
          "339015",
          "339092",
          "339047"
         ],
         "y": [
          140298.47,
          2913.67,
          23577.649999999998,
          18400.85,
          42868.02,
          11813.2,
          5032.96,
          245306.65000000002,
          5484.25,
          5357.5599999999995,
          794.88,
          0
         ]
        },
        {
         "cliponaxis": false,
         "name": "Pago",
         "textposition": "outside",
         "type": "bar",
         "x": [
          "339039",
          "339033",
          "339030",
          "339040",
          "339037",
          "449052",
          "339036",
          "339093",
          "339147",
          "339015",
          "339092",
          "339047"
         ],
         "y": [
          17181944.98,
          1602457.93,
          5008046.53,
          239666.46999999997,
          572856.65,
          2188843.56,
          229488.32,
          12293540.55,
          41419.98,
          748378.89,
          29843.48,
          52586.58
         ]
        }
       ],
       "layout": {
        "hovermode": "x unified",
        "template": {
         "data": {
          "bar": [
           {
            "error_x": {
             "color": "#2a3f5f"
            },
            "error_y": {
             "color": "#2a3f5f"
            },
            "marker": {
             "line": {
              "color": "#E5ECF6",
              "width": 0.5
             },
             "pattern": {
              "fillmode": "overlay",
              "size": 10,
              "solidity": 0.2
             }
            },
            "type": "bar"
           }
          ],
          "barpolar": [
           {
            "marker": {
             "line": {
              "color": "#E5ECF6",
              "width": 0.5
             },
             "pattern": {
              "fillmode": "overlay",
              "size": 10,
              "solidity": 0.2
             }
            },
            "type": "barpolar"
           }
          ],
          "carpet": [
           {
            "aaxis": {
             "endlinecolor": "#2a3f5f",
             "gridcolor": "white",
             "linecolor": "white",
             "minorgridcolor": "white",
             "startlinecolor": "#2a3f5f"
            },
            "baxis": {
             "endlinecolor": "#2a3f5f",
             "gridcolor": "white",
             "linecolor": "white",
             "minorgridcolor": "white",
             "startlinecolor": "#2a3f5f"
            },
            "type": "carpet"
           }
          ],
          "choropleth": [
           {
            "colorbar": {
             "outlinewidth": 0,
             "ticks": ""
            },
            "type": "choropleth"
           }
          ],
          "contour": [
           {
            "colorbar": {
             "outlinewidth": 0,
             "ticks": ""
            },
            "colorscale": [
             [
              0,
              "#0d0887"
             ],
             [
              0.1111111111111111,
              "#46039f"
             ],
             [
              0.2222222222222222,
              "#7201a8"
             ],
             [
              0.3333333333333333,
              "#9c179e"
             ],
             [
              0.4444444444444444,
              "#bd3786"
             ],
             [
              0.5555555555555556,
              "#d8576b"
             ],
             [
              0.6666666666666666,
              "#ed7953"
             ],
             [
              0.7777777777777778,
              "#fb9f3a"
             ],
             [
              0.8888888888888888,
              "#fdca26"
             ],
             [
              1,
              "#f0f921"
             ]
            ],
            "type": "contour"
           }
          ],
          "contourcarpet": [
           {
            "colorbar": {
             "outlinewidth": 0,
             "ticks": ""
            },
            "type": "contourcarpet"
           }
          ],
          "heatmap": [
           {
            "colorbar": {
             "outlinewidth": 0,
             "ticks": ""
            },
            "colorscale": [
             [
              0,
              "#0d0887"
             ],
             [
              0.1111111111111111,
              "#46039f"
             ],
             [
              0.2222222222222222,
              "#7201a8"
             ],
             [
              0.3333333333333333,
              "#9c179e"
             ],
             [
              0.4444444444444444,
              "#bd3786"
             ],
             [
              0.5555555555555556,
              "#d8576b"
             ],
             [
              0.6666666666666666,
              "#ed7953"
             ],
             [
              0.7777777777777778,
              "#fb9f3a"
             ],
             [
              0.8888888888888888,
              "#fdca26"
             ],
             [
              1,
              "#f0f921"
             ]
            ],
            "type": "heatmap"
           }
          ],
          "heatmapgl": [
           {
            "colorbar": {
             "outlinewidth": 0,
             "ticks": ""
            },
            "colorscale": [
             [
              0,
              "#0d0887"
             ],
             [
              0.1111111111111111,
              "#46039f"
             ],
             [
              0.2222222222222222,
              "#7201a8"
             ],
             [
              0.3333333333333333,
              "#9c179e"
             ],
             [
              0.4444444444444444,
              "#bd3786"
             ],
             [
              0.5555555555555556,
              "#d8576b"
             ],
             [
              0.6666666666666666,
              "#ed7953"
             ],
             [
              0.7777777777777778,
              "#fb9f3a"
             ],
             [
              0.8888888888888888,
              "#fdca26"
             ],
             [
              1,
              "#f0f921"
             ]
            ],
            "type": "heatmapgl"
           }
          ],
          "histogram": [
           {
            "marker": {
             "pattern": {
              "fillmode": "overlay",
              "size": 10,
              "solidity": 0.2
             }
            },
            "type": "histogram"
           }
          ],
          "histogram2d": [
           {
            "colorbar": {
             "outlinewidth": 0,
             "ticks": ""
            },
            "colorscale": [
             [
              0,
              "#0d0887"
             ],
             [
              0.1111111111111111,
              "#46039f"
             ],
             [
              0.2222222222222222,
              "#7201a8"
             ],
             [
              0.3333333333333333,
              "#9c179e"
             ],
             [
              0.4444444444444444,
              "#bd3786"
             ],
             [
              0.5555555555555556,
              "#d8576b"
             ],
             [
              0.6666666666666666,
              "#ed7953"
             ],
             [
              0.7777777777777778,
              "#fb9f3a"
             ],
             [
              0.8888888888888888,
              "#fdca26"
             ],
             [
              1,
              "#f0f921"
             ]
            ],
            "type": "histogram2d"
           }
          ],
          "histogram2dcontour": [
           {
            "colorbar": {
             "outlinewidth": 0,
             "ticks": ""
            },
            "colorscale": [
             [
              0,
              "#0d0887"
             ],
             [
              0.1111111111111111,
              "#46039f"
             ],
             [
              0.2222222222222222,
              "#7201a8"
             ],
             [
              0.3333333333333333,
              "#9c179e"
             ],
             [
              0.4444444444444444,
              "#bd3786"
             ],
             [
              0.5555555555555556,
              "#d8576b"
             ],
             [
              0.6666666666666666,
              "#ed7953"
             ],
             [
              0.7777777777777778,
              "#fb9f3a"
             ],
             [
              0.8888888888888888,
              "#fdca26"
             ],
             [
              1,
              "#f0f921"
             ]
            ],
            "type": "histogram2dcontour"
           }
          ],
          "mesh3d": [
           {
            "colorbar": {
             "outlinewidth": 0,
             "ticks": ""
            },
            "type": "mesh3d"
           }
          ],
          "parcoords": [
           {
            "line": {
             "colorbar": {
              "outlinewidth": 0,
              "ticks": ""
             }
            },
            "type": "parcoords"
           }
          ],
          "pie": [
           {
            "automargin": true,
            "type": "pie"
           }
          ],
          "scatter": [
           {
            "fillpattern": {
             "fillmode": "overlay",
             "size": 10,
             "solidity": 0.2
            },
            "type": "scatter"
           }
          ],
          "scatter3d": [
           {
            "line": {
             "colorbar": {
              "outlinewidth": 0,
              "ticks": ""
             }
            },
            "marker": {
             "colorbar": {
              "outlinewidth": 0,
              "ticks": ""
             }
            },
            "type": "scatter3d"
           }
          ],
          "scattercarpet": [
           {
            "marker": {
             "colorbar": {
              "outlinewidth": 0,
              "ticks": ""
             }
            },
            "type": "scattercarpet"
           }
          ],
          "scattergeo": [
           {
            "marker": {
             "colorbar": {
              "outlinewidth": 0,
              "ticks": ""
             }
            },
            "type": "scattergeo"
           }
          ],
          "scattergl": [
           {
            "marker": {
             "colorbar": {
              "outlinewidth": 0,
              "ticks": ""
             }
            },
            "type": "scattergl"
           }
          ],
          "scattermapbox": [
           {
            "marker": {
             "colorbar": {
              "outlinewidth": 0,
              "ticks": ""
             }
            },
            "type": "scattermapbox"
           }
          ],
          "scatterpolar": [
           {
            "marker": {
             "colorbar": {
              "outlinewidth": 0,
              "ticks": ""
             }
            },
            "type": "scatterpolar"
           }
          ],
          "scatterpolargl": [
           {
            "marker": {
             "colorbar": {
              "outlinewidth": 0,
              "ticks": ""
             }
            },
            "type": "scatterpolargl"
           }
          ],
          "scatterternary": [
           {
            "marker": {
             "colorbar": {
              "outlinewidth": 0,
              "ticks": ""
             }
            },
            "type": "scatterternary"
           }
          ],
          "surface": [
           {
            "colorbar": {
             "outlinewidth": 0,
             "ticks": ""
            },
            "colorscale": [
             [
              0,
              "#0d0887"
             ],
             [
              0.1111111111111111,
              "#46039f"
             ],
             [
              0.2222222222222222,
              "#7201a8"
             ],
             [
              0.3333333333333333,
              "#9c179e"
             ],
             [
              0.4444444444444444,
              "#bd3786"
             ],
             [
              0.5555555555555556,
              "#d8576b"
             ],
             [
              0.6666666666666666,
              "#ed7953"
             ],
             [
              0.7777777777777778,
              "#fb9f3a"
             ],
             [
              0.8888888888888888,
              "#fdca26"
             ],
             [
              1,
              "#f0f921"
             ]
            ],
            "type": "surface"
           }
          ],
          "table": [
           {
            "cells": {
             "fill": {
              "color": "#EBF0F8"
             },
             "line": {
              "color": "white"
             }
            },
            "header": {
             "fill": {
              "color": "#C8D4E3"
             },
             "line": {
              "color": "white"
             }
            },
            "type": "table"
           }
          ]
         },
         "layout": {
          "annotationdefaults": {
           "arrowcolor": "#2a3f5f",
           "arrowhead": 0,
           "arrowwidth": 1
          },
          "autotypenumbers": "strict",
          "coloraxis": {
           "colorbar": {
            "outlinewidth": 0,
            "ticks": ""
           }
          },
          "colorscale": {
           "diverging": [
            [
             0,
             "#8e0152"
            ],
            [
             0.1,
             "#c51b7d"
            ],
            [
             0.2,
             "#de77ae"
            ],
            [
             0.3,
             "#f1b6da"
            ],
            [
             0.4,
             "#fde0ef"
            ],
            [
             0.5,
             "#f7f7f7"
            ],
            [
             0.6,
             "#e6f5d0"
            ],
            [
             0.7,
             "#b8e186"
            ],
            [
             0.8,
             "#7fbc41"
            ],
            [
             0.9,
             "#4d9221"
            ],
            [
             1,
             "#276419"
            ]
           ],
           "sequential": [
            [
             0,
             "#0d0887"
            ],
            [
             0.1111111111111111,
             "#46039f"
            ],
            [
             0.2222222222222222,
             "#7201a8"
            ],
            [
             0.3333333333333333,
             "#9c179e"
            ],
            [
             0.4444444444444444,
             "#bd3786"
            ],
            [
             0.5555555555555556,
             "#d8576b"
            ],
            [
             0.6666666666666666,
             "#ed7953"
            ],
            [
             0.7777777777777778,
             "#fb9f3a"
            ],
            [
             0.8888888888888888,
             "#fdca26"
            ],
            [
             1,
             "#f0f921"
            ]
           ],
           "sequentialminus": [
            [
             0,
             "#0d0887"
            ],
            [
             0.1111111111111111,
             "#46039f"
            ],
            [
             0.2222222222222222,
             "#7201a8"
            ],
            [
             0.3333333333333333,
             "#9c179e"
            ],
            [
             0.4444444444444444,
             "#bd3786"
            ],
            [
             0.5555555555555556,
             "#d8576b"
            ],
            [
             0.6666666666666666,
             "#ed7953"
            ],
            [
             0.7777777777777778,
             "#fb9f3a"
            ],
            [
             0.8888888888888888,
             "#fdca26"
            ],
            [
             1,
             "#f0f921"
            ]
           ]
          },
          "colorway": [
           "#636efa",
           "#EF553B",
           "#00cc96",
           "#ab63fa",
           "#FFA15A",
           "#19d3f3",
           "#FF6692",
           "#B6E880",
           "#FF97FF",
           "#FECB52"
          ],
          "font": {
           "color": "#2a3f5f"
          },
          "geo": {
           "bgcolor": "white",
           "lakecolor": "white",
           "landcolor": "#E5ECF6",
           "showlakes": true,
           "showland": true,
           "subunitcolor": "white"
          },
          "hoverlabel": {
           "align": "left"
          },
          "hovermode": "closest",
          "mapbox": {
           "style": "light"
          },
          "paper_bgcolor": "white",
          "plot_bgcolor": "#E5ECF6",
          "polar": {
           "angularaxis": {
            "gridcolor": "white",
            "linecolor": "white",
            "ticks": ""
           },
           "bgcolor": "#E5ECF6",
           "radialaxis": {
            "gridcolor": "white",
            "linecolor": "white",
            "ticks": ""
           }
          },
          "scene": {
           "xaxis": {
            "backgroundcolor": "#E5ECF6",
            "gridcolor": "white",
            "gridwidth": 2,
            "linecolor": "white",
            "showbackground": true,
            "ticks": "",
            "zerolinecolor": "white"
           },
           "yaxis": {
            "backgroundcolor": "#E5ECF6",
            "gridcolor": "white",
            "gridwidth": 2,
            "linecolor": "white",
            "showbackground": true,
            "ticks": "",
            "zerolinecolor": "white"
           },
           "zaxis": {
            "backgroundcolor": "#E5ECF6",
            "gridcolor": "white",
            "gridwidth": 2,
            "linecolor": "white",
            "showbackground": true,
            "ticks": "",
            "zerolinecolor": "white"
           }
          },
          "shapedefaults": {
           "line": {
            "color": "#2a3f5f"
           }
          },
          "ternary": {
           "aaxis": {
            "gridcolor": "white",
            "linecolor": "white",
            "ticks": ""
           },
           "baxis": {
            "gridcolor": "white",
            "linecolor": "white",
            "ticks": ""
           },
           "bgcolor": "#E5ECF6",
           "caxis": {
            "gridcolor": "white",
            "linecolor": "white",
            "ticks": ""
           }
          },
          "title": {
           "x": 0.05
          },
          "xaxis": {
           "automargin": true,
           "gridcolor": "white",
           "linecolor": "white",
           "ticks": "",
           "title": {
            "standoff": 15
           },
           "zerolinecolor": "white",
           "zerolinewidth": 2
          },
          "yaxis": {
           "automargin": true,
           "gridcolor": "white",
           "linecolor": "white",
           "ticks": "",
           "title": {
            "standoff": 15
           },
           "zerolinecolor": "white",
           "zerolinewidth": 2
          }
         }
        },
        "yaxis": {
         "type": "log"
        }
       }
      }
     },
     "metadata": {},
     "output_type": "display_data"
    }
   ],
   "source": [
    "# Saldo a liquidar por ND\n",
    "cols = ['ND', 'A_LIQUIDAR', 'LIQUIDADO_A_PAGAR', 'PAGO']\n",
    "\n",
    "df_aux = df.loc[:, cols].groupby('ND').sum().sort_values(by= 'A_LIQUIDAR', ascending=False).reset_index()\n",
    "df_aux = df_aux[df_aux['A_LIQUIDAR'] > 0]\n",
    "# Criando o gráfico\n",
    "fig = go.Figure()\n",
    "\n",
    "# Adicionando as colunas y1, y2 e y3 no eixo y\n",
    "fig.add_trace(go.Bar(x=df_aux['ND'], y=df_aux['A_LIQUIDAR'], name='A Liquidar'))\n",
    "fig.add_trace(go.Bar(x=df_aux['ND'], y=df_aux['LIQUIDADO_A_PAGAR'], name='Liquidado a pagar'))\n",
    "fig.add_trace(go.Bar(x=df_aux['ND'], y=df_aux['PAGO'], name='Pago'))\n",
    "\n",
    "fig.update_traces(textposition = 'outside', cliponaxis = False, hovertemplate=None)\n",
    "fig.update_layout(hovermode=\"x unified\")\n",
    "fig.update_yaxes(type=\"log\")\n",
    "\n",
    "fig.show()"
   ]
  },
  {
   "cell_type": "markdown",
   "metadata": {},
   "source": [
    "# Suporte para o Dashboard"
   ]
  },
  {
   "cell_type": "code",
   "execution_count": 15,
   "metadata": {},
   "outputs": [
    {
     "data": {
      "text/html": [
       "<div>\n",
       "<style scoped>\n",
       "    .dataframe tbody tr th:only-of-type {\n",
       "        vertical-align: middle;\n",
       "    }\n",
       "\n",
       "    .dataframe tbody tr th {\n",
       "        vertical-align: top;\n",
       "    }\n",
       "\n",
       "    .dataframe thead th {\n",
       "        text-align: right;\n",
       "    }\n",
       "</style>\n",
       "<table border=\"1\" class=\"dataframe\">\n",
       "  <thead>\n",
       "    <tr style=\"text-align: right;\">\n",
       "      <th></th>\n",
       "      <th>NE</th>\n",
       "      <th>A_LIQUIDAR</th>\n",
       "      <th>DIAS</th>\n",
       "      <th>NOME_NDSI</th>\n",
       "      <th>NDSI</th>\n",
       "    </tr>\n",
       "  </thead>\n",
       "  <tbody>\n",
       "    <tr>\n",
       "      <th>461</th>\n",
       "      <td>2023NE000034</td>\n",
       "      <td>68.87</td>\n",
       "      <td>676</td>\n",
       "      <td>PASSAGENS PARA O PAIS</td>\n",
       "      <td>33903301</td>\n",
       "    </tr>\n",
       "    <tr>\n",
       "      <th>460</th>\n",
       "      <td>2023NE000033</td>\n",
       "      <td>3236.21</td>\n",
       "      <td>676</td>\n",
       "      <td>PASSAGENS PARA O PAIS</td>\n",
       "      <td>33903301</td>\n",
       "    </tr>\n",
       "    <tr>\n",
       "      <th>462</th>\n",
       "      <td>2023NE000329</td>\n",
       "      <td>330.22</td>\n",
       "      <td>617</td>\n",
       "      <td>PASSAGENS PARA O PAIS</td>\n",
       "      <td>33903301</td>\n",
       "    </tr>\n",
       "    <tr>\n",
       "      <th>2679</th>\n",
       "      <td>2023NE001680</td>\n",
       "      <td>3466.66</td>\n",
       "      <td>417</td>\n",
       "      <td>MANUTENCAO E CONSERVACAO DE EQUIPAMENTOS DE TIC</td>\n",
       "      <td>33904012</td>\n",
       "    </tr>\n",
       "    <tr>\n",
       "      <th>2676</th>\n",
       "      <td>2023NE001672</td>\n",
       "      <td>5543.33</td>\n",
       "      <td>417</td>\n",
       "      <td>MANUT. E CONSERV. DE MAQUINAS E EQUIPAMENTOS</td>\n",
       "      <td>33903917</td>\n",
       "    </tr>\n",
       "    <tr>\n",
       "      <th>2678</th>\n",
       "      <td>2023NE001678</td>\n",
       "      <td>4794.00</td>\n",
       "      <td>417</td>\n",
       "      <td>MANUTENCAO E CONSERVACAO DE EQUIPAMENTOS DE TIC</td>\n",
       "      <td>33904012</td>\n",
       "    </tr>\n",
       "    <tr>\n",
       "      <th>2680</th>\n",
       "      <td>2023NE001681</td>\n",
       "      <td>5902.08</td>\n",
       "      <td>417</td>\n",
       "      <td>MANUTENCAO E CONSERVACAO DE EQUIPAMENTOS DE TIC</td>\n",
       "      <td>33904012</td>\n",
       "    </tr>\n",
       "    <tr>\n",
       "      <th>372</th>\n",
       "      <td>2023NE001739</td>\n",
       "      <td>15330.52</td>\n",
       "      <td>384</td>\n",
       "      <td>MANUTENCAO E CONSERV. DE BENS IMOVEIS</td>\n",
       "      <td>33903916</td>\n",
       "    </tr>\n",
       "    <tr>\n",
       "      <th>32</th>\n",
       "      <td>2024NE000006</td>\n",
       "      <td>497.61</td>\n",
       "      <td>333</td>\n",
       "      <td>SERVICOS DE TELECOMUNICACOES</td>\n",
       "      <td>33903958</td>\n",
       "    </tr>\n",
       "    <tr>\n",
       "      <th>2539</th>\n",
       "      <td>2024NE000011</td>\n",
       "      <td>15101.43</td>\n",
       "      <td>322</td>\n",
       "      <td>PASSAGENS PARA O PAIS</td>\n",
       "      <td>33903301</td>\n",
       "    </tr>\n",
       "  </tbody>\n",
       "</table>\n",
       "</div>"
      ],
      "text/plain": [
       "                NE  A_LIQUIDAR  DIAS  \\\n",
       "461   2023NE000034       68.87   676   \n",
       "460   2023NE000033     3236.21   676   \n",
       "462   2023NE000329      330.22   617   \n",
       "2679  2023NE001680     3466.66   417   \n",
       "2676  2023NE001672     5543.33   417   \n",
       "2678  2023NE001678     4794.00   417   \n",
       "2680  2023NE001681     5902.08   417   \n",
       "372   2023NE001739    15330.52   384   \n",
       "32    2024NE000006      497.61   333   \n",
       "2539  2024NE000011    15101.43   322   \n",
       "\n",
       "                                            NOME_NDSI      NDSI  \n",
       "461                             PASSAGENS PARA O PAIS  33903301  \n",
       "460                             PASSAGENS PARA O PAIS  33903301  \n",
       "462                             PASSAGENS PARA O PAIS  33903301  \n",
       "2679  MANUTENCAO E CONSERVACAO DE EQUIPAMENTOS DE TIC  33904012  \n",
       "2676     MANUT. E CONSERV. DE MAQUINAS E EQUIPAMENTOS  33903917  \n",
       "2678  MANUTENCAO E CONSERVACAO DE EQUIPAMENTOS DE TIC  33904012  \n",
       "2680  MANUTENCAO E CONSERVACAO DE EQUIPAMENTOS DE TIC  33904012  \n",
       "372             MANUTENCAO E CONSERV. DE BENS IMOVEIS  33903916  \n",
       "32                       SERVICOS DE TELECOMUNICACOES  33903958  \n",
       "2539                            PASSAGENS PARA O PAIS  33903301  "
      ]
     },
     "execution_count": 15,
     "metadata": {},
     "output_type": "execute_result"
    }
   ],
   "source": [
    "cols = ['NE', 'A_LIQUIDAR', 'DIAS', 'NOME_NDSI', 'NDSI']\n",
    "\n",
    "df_aux = df.loc[:, cols].sort_values(by='DIAS', ascending=False)\n",
    "df_aux = df_aux[df_aux['A_LIQUIDAR'] != 0].head(10)\n",
    "df_aux"
   ]
  },
  {
   "cell_type": "code",
   "execution_count": 16,
   "metadata": {},
   "outputs": [
    {
     "data": {
      "application/vnd.plotly.v1+json": {
       "config": {
        "plotlyServerURL": "https://plot.ly"
       },
       "data": [
        {
         "alignmentgroup": "True",
         "customdata": [
          [
           676,
           "PASSAGENS PARA O PAIS",
           "33903301"
          ],
          [
           676,
           "PASSAGENS PARA O PAIS",
           "33903301"
          ],
          [
           617,
           "PASSAGENS PARA O PAIS",
           "33903301"
          ],
          [
           417,
           "MANUTENCAO E CONSERVACAO DE EQUIPAMENTOS DE TIC",
           "33904012"
          ],
          [
           417,
           "MANUT. E CONSERV. DE MAQUINAS E EQUIPAMENTOS",
           "33903917"
          ],
          [
           417,
           "MANUTENCAO E CONSERVACAO DE EQUIPAMENTOS DE TIC",
           "33904012"
          ],
          [
           417,
           "MANUTENCAO E CONSERVACAO DE EQUIPAMENTOS DE TIC",
           "33904012"
          ],
          [
           384,
           "MANUTENCAO E CONSERV. DE BENS IMOVEIS",
           "33903916"
          ],
          [
           333,
           "SERVICOS DE TELECOMUNICACOES",
           "33903958"
          ],
          [
           322,
           "PASSAGENS PARA O PAIS",
           "33903301"
          ]
         ],
         "hovertemplate": "<b>%{hovertext}</b><br><br>Nota de Empenho=%{x}<br>Saldo a liquidar=%{y}<br>DIAS=%{marker.color}<br>NOME_NDSI=%{customdata[1]}<br>NDSI=%{customdata[2]}<extra></extra>",
         "hovertext": [
          "2023NE000034",
          "2023NE000033",
          "2023NE000329",
          "2023NE001680",
          "2023NE001672",
          "2023NE001678",
          "2023NE001681",
          "2023NE001739",
          "2024NE000006",
          "2024NE000011"
         ],
         "legendgroup": "",
         "marker": {
          "color": [
           676,
           676,
           617,
           417,
           417,
           417,
           417,
           384,
           333,
           322
          ],
          "coloraxis": "coloraxis",
          "pattern": {
           "shape": ""
          }
         },
         "name": "",
         "offsetgroup": "",
         "orientation": "v",
         "showlegend": false,
         "textposition": "outside",
         "texttemplate": "%{y:.3s}",
         "type": "bar",
         "x": [
          "2023NE000034",
          "2023NE000033",
          "2023NE000329",
          "2023NE001680",
          "2023NE001672",
          "2023NE001678",
          "2023NE001681",
          "2023NE001739",
          "2024NE000006",
          "2024NE000011"
         ],
         "xaxis": "x",
         "y": [
          68.87,
          3236.21,
          330.22,
          3466.66,
          5543.33,
          4794,
          5902.08,
          15330.52,
          497.61,
          15101.43
         ],
         "yaxis": "y"
        }
       ],
       "layout": {
        "barmode": "relative",
        "coloraxis": {
         "colorbar": {
          "title": {
           "text": "DIAS"
          }
         },
         "colorscale": [
          [
           0,
           "rgb(255,245,240)"
          ],
          [
           0.125,
           "rgb(254,224,210)"
          ],
          [
           0.25,
           "rgb(252,187,161)"
          ],
          [
           0.375,
           "rgb(252,146,114)"
          ],
          [
           0.5,
           "rgb(251,106,74)"
          ],
          [
           0.625,
           "rgb(239,59,44)"
          ],
          [
           0.75,
           "rgb(203,24,29)"
          ],
          [
           0.875,
           "rgb(165,15,21)"
          ],
          [
           1,
           "rgb(103,0,13)"
          ]
         ]
        },
        "legend": {
         "tracegroupgap": 0
        },
        "template": {
         "data": {
          "bar": [
           {
            "error_x": {
             "color": "#f2f5fa"
            },
            "error_y": {
             "color": "#f2f5fa"
            },
            "marker": {
             "line": {
              "color": "rgb(17,17,17)",
              "width": 0.5
             },
             "pattern": {
              "fillmode": "overlay",
              "size": 10,
              "solidity": 0.2
             }
            },
            "type": "bar"
           }
          ],
          "barpolar": [
           {
            "marker": {
             "line": {
              "color": "rgb(17,17,17)",
              "width": 0.5
             },
             "pattern": {
              "fillmode": "overlay",
              "size": 10,
              "solidity": 0.2
             }
            },
            "type": "barpolar"
           }
          ],
          "carpet": [
           {
            "aaxis": {
             "endlinecolor": "#A2B1C6",
             "gridcolor": "#506784",
             "linecolor": "#506784",
             "minorgridcolor": "#506784",
             "startlinecolor": "#A2B1C6"
            },
            "baxis": {
             "endlinecolor": "#A2B1C6",
             "gridcolor": "#506784",
             "linecolor": "#506784",
             "minorgridcolor": "#506784",
             "startlinecolor": "#A2B1C6"
            },
            "type": "carpet"
           }
          ],
          "choropleth": [
           {
            "colorbar": {
             "outlinewidth": 0,
             "ticks": ""
            },
            "type": "choropleth"
           }
          ],
          "contour": [
           {
            "colorbar": {
             "outlinewidth": 0,
             "ticks": ""
            },
            "colorscale": [
             [
              0,
              "#0d0887"
             ],
             [
              0.1111111111111111,
              "#46039f"
             ],
             [
              0.2222222222222222,
              "#7201a8"
             ],
             [
              0.3333333333333333,
              "#9c179e"
             ],
             [
              0.4444444444444444,
              "#bd3786"
             ],
             [
              0.5555555555555556,
              "#d8576b"
             ],
             [
              0.6666666666666666,
              "#ed7953"
             ],
             [
              0.7777777777777778,
              "#fb9f3a"
             ],
             [
              0.8888888888888888,
              "#fdca26"
             ],
             [
              1,
              "#f0f921"
             ]
            ],
            "type": "contour"
           }
          ],
          "contourcarpet": [
           {
            "colorbar": {
             "outlinewidth": 0,
             "ticks": ""
            },
            "type": "contourcarpet"
           }
          ],
          "heatmap": [
           {
            "colorbar": {
             "outlinewidth": 0,
             "ticks": ""
            },
            "colorscale": [
             [
              0,
              "#0d0887"
             ],
             [
              0.1111111111111111,
              "#46039f"
             ],
             [
              0.2222222222222222,
              "#7201a8"
             ],
             [
              0.3333333333333333,
              "#9c179e"
             ],
             [
              0.4444444444444444,
              "#bd3786"
             ],
             [
              0.5555555555555556,
              "#d8576b"
             ],
             [
              0.6666666666666666,
              "#ed7953"
             ],
             [
              0.7777777777777778,
              "#fb9f3a"
             ],
             [
              0.8888888888888888,
              "#fdca26"
             ],
             [
              1,
              "#f0f921"
             ]
            ],
            "type": "heatmap"
           }
          ],
          "heatmapgl": [
           {
            "colorbar": {
             "outlinewidth": 0,
             "ticks": ""
            },
            "colorscale": [
             [
              0,
              "#0d0887"
             ],
             [
              0.1111111111111111,
              "#46039f"
             ],
             [
              0.2222222222222222,
              "#7201a8"
             ],
             [
              0.3333333333333333,
              "#9c179e"
             ],
             [
              0.4444444444444444,
              "#bd3786"
             ],
             [
              0.5555555555555556,
              "#d8576b"
             ],
             [
              0.6666666666666666,
              "#ed7953"
             ],
             [
              0.7777777777777778,
              "#fb9f3a"
             ],
             [
              0.8888888888888888,
              "#fdca26"
             ],
             [
              1,
              "#f0f921"
             ]
            ],
            "type": "heatmapgl"
           }
          ],
          "histogram": [
           {
            "marker": {
             "pattern": {
              "fillmode": "overlay",
              "size": 10,
              "solidity": 0.2
             }
            },
            "type": "histogram"
           }
          ],
          "histogram2d": [
           {
            "colorbar": {
             "outlinewidth": 0,
             "ticks": ""
            },
            "colorscale": [
             [
              0,
              "#0d0887"
             ],
             [
              0.1111111111111111,
              "#46039f"
             ],
             [
              0.2222222222222222,
              "#7201a8"
             ],
             [
              0.3333333333333333,
              "#9c179e"
             ],
             [
              0.4444444444444444,
              "#bd3786"
             ],
             [
              0.5555555555555556,
              "#d8576b"
             ],
             [
              0.6666666666666666,
              "#ed7953"
             ],
             [
              0.7777777777777778,
              "#fb9f3a"
             ],
             [
              0.8888888888888888,
              "#fdca26"
             ],
             [
              1,
              "#f0f921"
             ]
            ],
            "type": "histogram2d"
           }
          ],
          "histogram2dcontour": [
           {
            "colorbar": {
             "outlinewidth": 0,
             "ticks": ""
            },
            "colorscale": [
             [
              0,
              "#0d0887"
             ],
             [
              0.1111111111111111,
              "#46039f"
             ],
             [
              0.2222222222222222,
              "#7201a8"
             ],
             [
              0.3333333333333333,
              "#9c179e"
             ],
             [
              0.4444444444444444,
              "#bd3786"
             ],
             [
              0.5555555555555556,
              "#d8576b"
             ],
             [
              0.6666666666666666,
              "#ed7953"
             ],
             [
              0.7777777777777778,
              "#fb9f3a"
             ],
             [
              0.8888888888888888,
              "#fdca26"
             ],
             [
              1,
              "#f0f921"
             ]
            ],
            "type": "histogram2dcontour"
           }
          ],
          "mesh3d": [
           {
            "colorbar": {
             "outlinewidth": 0,
             "ticks": ""
            },
            "type": "mesh3d"
           }
          ],
          "parcoords": [
           {
            "line": {
             "colorbar": {
              "outlinewidth": 0,
              "ticks": ""
             }
            },
            "type": "parcoords"
           }
          ],
          "pie": [
           {
            "automargin": true,
            "type": "pie"
           }
          ],
          "scatter": [
           {
            "marker": {
             "line": {
              "color": "#283442"
             }
            },
            "type": "scatter"
           }
          ],
          "scatter3d": [
           {
            "line": {
             "colorbar": {
              "outlinewidth": 0,
              "ticks": ""
             }
            },
            "marker": {
             "colorbar": {
              "outlinewidth": 0,
              "ticks": ""
             }
            },
            "type": "scatter3d"
           }
          ],
          "scattercarpet": [
           {
            "marker": {
             "colorbar": {
              "outlinewidth": 0,
              "ticks": ""
             }
            },
            "type": "scattercarpet"
           }
          ],
          "scattergeo": [
           {
            "marker": {
             "colorbar": {
              "outlinewidth": 0,
              "ticks": ""
             }
            },
            "type": "scattergeo"
           }
          ],
          "scattergl": [
           {
            "marker": {
             "line": {
              "color": "#283442"
             }
            },
            "type": "scattergl"
           }
          ],
          "scattermapbox": [
           {
            "marker": {
             "colorbar": {
              "outlinewidth": 0,
              "ticks": ""
             }
            },
            "type": "scattermapbox"
           }
          ],
          "scatterpolar": [
           {
            "marker": {
             "colorbar": {
              "outlinewidth": 0,
              "ticks": ""
             }
            },
            "type": "scatterpolar"
           }
          ],
          "scatterpolargl": [
           {
            "marker": {
             "colorbar": {
              "outlinewidth": 0,
              "ticks": ""
             }
            },
            "type": "scatterpolargl"
           }
          ],
          "scatterternary": [
           {
            "marker": {
             "colorbar": {
              "outlinewidth": 0,
              "ticks": ""
             }
            },
            "type": "scatterternary"
           }
          ],
          "surface": [
           {
            "colorbar": {
             "outlinewidth": 0,
             "ticks": ""
            },
            "colorscale": [
             [
              0,
              "#0d0887"
             ],
             [
              0.1111111111111111,
              "#46039f"
             ],
             [
              0.2222222222222222,
              "#7201a8"
             ],
             [
              0.3333333333333333,
              "#9c179e"
             ],
             [
              0.4444444444444444,
              "#bd3786"
             ],
             [
              0.5555555555555556,
              "#d8576b"
             ],
             [
              0.6666666666666666,
              "#ed7953"
             ],
             [
              0.7777777777777778,
              "#fb9f3a"
             ],
             [
              0.8888888888888888,
              "#fdca26"
             ],
             [
              1,
              "#f0f921"
             ]
            ],
            "type": "surface"
           }
          ],
          "table": [
           {
            "cells": {
             "fill": {
              "color": "#506784"
             },
             "line": {
              "color": "rgb(17,17,17)"
             }
            },
            "header": {
             "fill": {
              "color": "#2a3f5f"
             },
             "line": {
              "color": "rgb(17,17,17)"
             }
            },
            "type": "table"
           }
          ]
         },
         "layout": {
          "annotationdefaults": {
           "arrowcolor": "#f2f5fa",
           "arrowhead": 0,
           "arrowwidth": 1
          },
          "autotypenumbers": "strict",
          "coloraxis": {
           "colorbar": {
            "outlinewidth": 0,
            "ticks": ""
           }
          },
          "colorscale": {
           "diverging": [
            [
             0,
             "#8e0152"
            ],
            [
             0.1,
             "#c51b7d"
            ],
            [
             0.2,
             "#de77ae"
            ],
            [
             0.3,
             "#f1b6da"
            ],
            [
             0.4,
             "#fde0ef"
            ],
            [
             0.5,
             "#f7f7f7"
            ],
            [
             0.6,
             "#e6f5d0"
            ],
            [
             0.7,
             "#b8e186"
            ],
            [
             0.8,
             "#7fbc41"
            ],
            [
             0.9,
             "#4d9221"
            ],
            [
             1,
             "#276419"
            ]
           ],
           "sequential": [
            [
             0,
             "#0d0887"
            ],
            [
             0.1111111111111111,
             "#46039f"
            ],
            [
             0.2222222222222222,
             "#7201a8"
            ],
            [
             0.3333333333333333,
             "#9c179e"
            ],
            [
             0.4444444444444444,
             "#bd3786"
            ],
            [
             0.5555555555555556,
             "#d8576b"
            ],
            [
             0.6666666666666666,
             "#ed7953"
            ],
            [
             0.7777777777777778,
             "#fb9f3a"
            ],
            [
             0.8888888888888888,
             "#fdca26"
            ],
            [
             1,
             "#f0f921"
            ]
           ],
           "sequentialminus": [
            [
             0,
             "#0d0887"
            ],
            [
             0.1111111111111111,
             "#46039f"
            ],
            [
             0.2222222222222222,
             "#7201a8"
            ],
            [
             0.3333333333333333,
             "#9c179e"
            ],
            [
             0.4444444444444444,
             "#bd3786"
            ],
            [
             0.5555555555555556,
             "#d8576b"
            ],
            [
             0.6666666666666666,
             "#ed7953"
            ],
            [
             0.7777777777777778,
             "#fb9f3a"
            ],
            [
             0.8888888888888888,
             "#fdca26"
            ],
            [
             1,
             "#f0f921"
            ]
           ]
          },
          "colorway": [
           "#636efa",
           "#EF553B",
           "#00cc96",
           "#ab63fa",
           "#FFA15A",
           "#19d3f3",
           "#FF6692",
           "#B6E880",
           "#FF97FF",
           "#FECB52"
          ],
          "font": {
           "color": "#f2f5fa"
          },
          "geo": {
           "bgcolor": "rgb(17,17,17)",
           "lakecolor": "rgb(17,17,17)",
           "landcolor": "rgb(17,17,17)",
           "showlakes": true,
           "showland": true,
           "subunitcolor": "#506784"
          },
          "hoverlabel": {
           "align": "left"
          },
          "hovermode": "closest",
          "mapbox": {
           "style": "dark"
          },
          "paper_bgcolor": "rgb(17,17,17)",
          "plot_bgcolor": "rgb(17,17,17)",
          "polar": {
           "angularaxis": {
            "gridcolor": "#506784",
            "linecolor": "#506784",
            "ticks": ""
           },
           "bgcolor": "rgb(17,17,17)",
           "radialaxis": {
            "gridcolor": "#506784",
            "linecolor": "#506784",
            "ticks": ""
           }
          },
          "scene": {
           "xaxis": {
            "backgroundcolor": "rgb(17,17,17)",
            "gridcolor": "#506784",
            "gridwidth": 2,
            "linecolor": "#506784",
            "showbackground": true,
            "ticks": "",
            "zerolinecolor": "#C8D4E3"
           },
           "yaxis": {
            "backgroundcolor": "rgb(17,17,17)",
            "gridcolor": "#506784",
            "gridwidth": 2,
            "linecolor": "#506784",
            "showbackground": true,
            "ticks": "",
            "zerolinecolor": "#C8D4E3"
           },
           "zaxis": {
            "backgroundcolor": "rgb(17,17,17)",
            "gridcolor": "#506784",
            "gridwidth": 2,
            "linecolor": "#506784",
            "showbackground": true,
            "ticks": "",
            "zerolinecolor": "#C8D4E3"
           }
          },
          "shapedefaults": {
           "line": {
            "color": "#f2f5fa"
           }
          },
          "sliderdefaults": {
           "bgcolor": "#C8D4E3",
           "bordercolor": "rgb(17,17,17)",
           "borderwidth": 1,
           "tickwidth": 0
          },
          "ternary": {
           "aaxis": {
            "gridcolor": "#506784",
            "linecolor": "#506784",
            "ticks": ""
           },
           "baxis": {
            "gridcolor": "#506784",
            "linecolor": "#506784",
            "ticks": ""
           },
           "bgcolor": "rgb(17,17,17)",
           "caxis": {
            "gridcolor": "#506784",
            "linecolor": "#506784",
            "ticks": ""
           }
          },
          "title": {
           "x": 0.05
          },
          "updatemenudefaults": {
           "bgcolor": "#506784",
           "borderwidth": 0
          },
          "xaxis": {
           "automargin": true,
           "gridcolor": "#283442",
           "linecolor": "#506784",
           "ticks": "",
           "title": {
            "standoff": 15
           },
           "zerolinecolor": "#283442",
           "zerolinewidth": 2
          },
          "yaxis": {
           "automargin": true,
           "gridcolor": "#283442",
           "linecolor": "#506784",
           "ticks": "",
           "title": {
            "standoff": 15
           },
           "zerolinecolor": "#283442",
           "zerolinewidth": 2
          }
         }
        },
        "title": {
         "text": "10 empenhos com mais tempo na tela"
        },
        "xaxis": {
         "anchor": "y",
         "domain": [
          0,
          1
         ],
         "title": {
          "text": "Nota de Empenho"
         }
        },
        "yaxis": {
         "anchor": "x",
         "domain": [
          0,
          1
         ],
         "title": {
          "text": "Saldo a liquidar"
         },
         "type": "log"
        }
       }
      }
     },
     "metadata": {},
     "output_type": "display_data"
    }
   ],
   "source": [
    "# Saldo a liquidar por tipo de NE\n",
    "cols = ['NE', 'A_LIQUIDAR', 'DIAS', 'NOME_NDSI', 'NDSI']\n",
    "df_aux = df.loc[:, cols].sort_values(by='DIAS', ascending=False)\n",
    "df_aux = df_aux[df_aux['A_LIQUIDAR'] != 0].head(10)\n",
    "fig = px.bar(df_aux, \n",
    "             x='NE', \n",
    "             y='A_LIQUIDAR',\n",
    "             title='10 empenhos com mais tempo na tela',\n",
    "             labels={'NE':'Nota de Empenho', 'A_LIQUIDAR':'Saldo a liquidar'},\n",
    "             text_auto='.3s',\n",
    "             color='DIAS',\n",
    "             color_continuous_scale = 'reds',\n",
    "             log_y=True,\n",
    "             template='plotly_dark',\n",
    "             hover_name=\"NE\", hover_data={'DIAS': True, 'A_LIQUIDAR': True, 'NOME_NDSI': True, 'NDSI': True})\n",
    "fig.update_traces(textposition = 'outside')\n",
    "\n",
    "\n",
    "fig.show()"
   ]
  },
  {
   "cell_type": "markdown",
   "metadata": {},
   "source": [
    "## Informações para SideBar"
   ]
  },
  {
   "cell_type": "code",
   "execution_count": 17,
   "metadata": {},
   "outputs": [
    {
     "data": {
      "text/plain": [
       "4724"
      ]
     },
     "execution_count": 17,
     "metadata": {},
     "output_type": "execute_result"
    }
   ],
   "source": [
    "# Qtde de empenhos realizados até o momento\n",
    "df.shape[0]"
   ]
  },
  {
   "cell_type": "markdown",
   "metadata": {},
   "source": [
    "# Requisição em API para consulta a CNPJ"
   ]
  },
  {
   "cell_type": "code",
   "execution_count": 18,
   "metadata": {},
   "outputs": [
    {
     "name": "stdout",
     "output_type": "stream",
     "text": [
      "{'abertura': '04/05/1999',\n",
      " 'atividade_principal': [{'code': '49.30-2-04',\n",
      "                          'text': 'Transporte rodoviário de mudanças'}],\n",
      " 'atividades_secundarias': [{'code': '49.30-2-01',\n",
      "                             'text': 'Transporte rodoviário de carga, exceto '\n",
      "                                     'produtos perigosos e mudanças, '\n",
      "                                     'municipal.'},\n",
      "                            {'code': '49.30-2-02',\n",
      "                             'text': 'Transporte rodoviário de carga, exceto '\n",
      "                                     'produtos perigosos e mudanças, '\n",
      "                                     'intermunicipal, interestadual e '\n",
      "                                     'internacional'},\n",
      "                            {'code': '52.11-7-02', 'text': 'Guarda-móveis'},\n",
      "                            {'code': '68.10-2-02',\n",
      "                             'text': 'Aluguel de imóveis próprios'}],\n",
      " 'bairro': 'ZONA INDUSTRIAL (GUARA)',\n",
      " 'billing': {'database': True, 'free': True},\n",
      " 'capital_social': '93700.00',\n",
      " 'cep': '71.250-710',\n",
      " 'cnpj': '03.126.110/0001-92',\n",
      " 'complemento': 'LOTE;',\n",
      " 'data_situacao': '03/11/2005',\n",
      " 'data_situacao_especial': '',\n",
      " 'efr': '',\n",
      " 'email': '',\n",
      " 'extra': {},\n",
      " 'fantasia': 'MARCA SUL MUDANCAS',\n",
      " 'logradouro': 'ST SCIA QUADRA 8 CONJUNTO 8',\n",
      " 'motivo_situacao': '',\n",
      " 'municipio': 'BRASILIA',\n",
      " 'natureza_juridica': '206-2 - Sociedade Empresária Limitada',\n",
      " 'nome': 'MARCA SUL MUDANCAS E TRANSPORTES LTDA',\n",
      " 'numero': '13',\n",
      " 'porte': 'EMPRESA DE PEQUENO PORTE',\n",
      " 'qsa': [{'nome': 'LINDOMAR SELAU CARLOS', 'qual': '49-Sócio-Administrador'}],\n",
      " 'simei': {'data_exclusao': None,\n",
      "           'data_opcao': None,\n",
      "           'optante': False,\n",
      "           'ultima_atualizacao': '2024-11-09T23:59:59.000Z'},\n",
      " 'simples': {'data_exclusao': '31/10/2024',\n",
      "             'data_opcao': '01/01/2016',\n",
      "             'optante': False,\n",
      "             'ultima_atualizacao': '2024-11-09T23:59:59.000Z'},\n",
      " 'situacao': 'ATIVA',\n",
      " 'situacao_especial': '',\n",
      " 'status': 'OK',\n",
      " 'telefone': '(61) 8305-0179',\n",
      " 'tipo': 'MATRIZ',\n",
      " 'uf': 'DF',\n",
      " 'ultima_atualizacao': '2024-12-01T16:31:19.728Z'}\n"
     ]
    }
   ],
   "source": [
    "import requests\n",
    "from pprint import pprint\n",
    "\n",
    "url = \"https://receitaws.com.br/v1/cnpj/03126110000192\"\n",
    "\n",
    "headers = {\"Accept\": \"application/json\"}\n",
    "\n",
    "response = requests.get(url, headers=headers)\n",
    "\n",
    "pprint(response.json())"
   ]
  },
  {
   "cell_type": "code",
   "execution_count": 19,
   "metadata": {},
   "outputs": [
    {
     "name": "stdout",
     "output_type": "stream",
     "text": [
      "{'abertura': '28/08/2015',\n",
      " 'atividade_principal': [{'code': '26.21-3-00',\n",
      "                          'text': 'Fabricação de equipamentos de informática'}],\n",
      " 'atividades_secundarias': [{'code': '26.22-1-00',\n",
      "                             'text': 'Fabricação de periféricos para '\n",
      "                                     'equipamentos de informática'},\n",
      "                            {'code': '27.59-7-99',\n",
      "                             'text': 'Fabricação de outros aparelhos '\n",
      "                                     'eletrodomésticos não especificados '\n",
      "                                     'anteriormente, peças e acessórios'},\n",
      "                            {'code': '46.19-2-00',\n",
      "                             'text': 'Representantes comerciais e agentes do '\n",
      "                                     'comércio de mercadorias em geral não '\n",
      "                                     'especializado'},\n",
      "                            {'code': '46.51-6-01',\n",
      "                             'text': 'Comércio atacadista de equipamentos de '\n",
      "                                     'informática'},\n",
      "                            {'code': '47.54-7-01',\n",
      "                             'text': 'Comércio varejista de móveis'},\n",
      "                            {'code': '46.49-4-02',\n",
      "                             'text': 'Comércio atacadista de aparelhos '\n",
      "                                     'eletrônicos de uso pessoal e doméstico'},\n",
      "                            {'code': '46.47-8-02',\n",
      "                             'text': 'Comércio atacadista de livros, jornais e '\n",
      "                                     'outras publicações'},\n",
      "                            {'code': '62.04-0-00',\n",
      "                             'text': 'Consultoria em tecnologia da informação'},\n",
      "                            {'code': '62.02-3-00',\n",
      "                             'text': 'Desenvolvimento e licenciamento de '\n",
      "                                     'programas de computador customizáveis'},\n",
      "                            {'code': '63.19-4-00',\n",
      "                             'text': 'Portais, provedores de conteúdo e outros '\n",
      "                                     'serviços de informação na internet'},\n",
      "                            {'code': '62.01-5-01',\n",
      "                             'text': 'Desenvolvimento de programas de '\n",
      "                                     'computador sob encomenda'},\n",
      "                            {'code': '58.11-5-00', 'text': 'Edição de livros'},\n",
      "                            {'code': '64.62-0-00',\n",
      "                             'text': 'Holdings de instituições '\n",
      "                                     'não-financeiras'},\n",
      "                            {'code': '71.19-7-03',\n",
      "                             'text': 'Serviços de desenho técnico relacionados '\n",
      "                                     'à arquitetura e engenharia'},\n",
      "                            {'code': '77.33-1-00',\n",
      "                             'text': 'Aluguel de máquinas e equipamentos para '\n",
      "                                     'escritórios'},\n",
      "                            {'code': '77.40-3-00',\n",
      "                             'text': 'Gestão de ativos intangíveis '\n",
      "                                     'não-financeiros'},\n",
      "                            {'code': '85.50-3-02',\n",
      "                             'text': 'Atividades de apoio à educação, exceto '\n",
      "                                     'caixas escolares'},\n",
      "                            {'code': '85.99-6-04',\n",
      "                             'text': 'Treinamento em desenvolvimento '\n",
      "                                     'profissional e gerencial'},\n",
      "                            {'code': '95.21-5-00',\n",
      "                             'text': 'Reparação e manutenção de equipamentos '\n",
      "                                     'eletroeletrônicos de uso pessoal e '\n",
      "                                     'doméstico'},\n",
      "                            {'code': '95.11-8-00',\n",
      "                             'text': 'Reparação e manutenção de computadores e '\n",
      "                                     'de equipamentos periféricos'},\n",
      "                            {'code': '26.32-9-00',\n",
      "                             'text': 'Fabricação de aparelhos telefônicos e de '\n",
      "                                     'outros equipamentos de comunicação, '\n",
      "                                     'peças e acessórios'}],\n",
      " 'bairro': 'DISTRITO INDUSTRIAL I',\n",
      " 'billing': {'database': True, 'free': True},\n",
      " 'capital_social': '0.00',\n",
      " 'cep': '69.075-110',\n",
      " 'cnpj': '81.243.735/0019-77',\n",
      " 'complemento': 'LOTE 257-B',\n",
      " 'data_situacao': '28/08/2015',\n",
      " 'data_situacao_especial': '',\n",
      " 'efr': '',\n",
      " 'email': 'fiscal@positivo.com.br',\n",
      " 'extra': {},\n",
      " 'fantasia': '',\n",
      " 'logradouro': 'R JAVARI',\n",
      " 'motivo_situacao': '',\n",
      " 'municipio': 'MANAUS',\n",
      " 'natureza_juridica': '204-6 - Sociedade Anônima Aberta',\n",
      " 'nome': 'POSITIVO TECNOLOGIA S.A.',\n",
      " 'numero': '1255',\n",
      " 'porte': 'DEMAIS',\n",
      " 'qsa': [],\n",
      " 'simei': {'data_exclusao': None,\n",
      "           'data_opcao': None,\n",
      "           'optante': False,\n",
      "           'ultima_atualizacao': '2024-11-09T23:59:59.000Z'},\n",
      " 'simples': {'data_exclusao': None,\n",
      "             'data_opcao': None,\n",
      "             'optante': False,\n",
      "             'ultima_atualizacao': '2024-11-09T23:59:59.000Z'},\n",
      " 'situacao': 'ATIVA',\n",
      " 'situacao_especial': '',\n",
      " 'status': 'OK',\n",
      " 'telefone': '(41) 3316-7700',\n",
      " 'tipo': 'FILIAL',\n",
      " 'uf': 'AM',\n",
      " 'ultima_atualizacao': '2024-11-14T00:02:04.751Z'}\n"
     ]
    }
   ],
   "source": [
    "def consulta_cnpj(numero_cnpj):\n",
    "    url = f\"https://receitaws.com.br/v1/cnpj/{numero_cnpj}\"\n",
    "\n",
    "    headers = {\"Accept\": \"application/json\"}\n",
    "\n",
    "    response = requests.get(url, headers=headers)\n",
    "    \n",
    "    dic_fornecedor = response.json()\n",
    "    \n",
    "    return dic_fornecedor\n",
    "\n",
    "# Criar um dicionário vazio fora da função\n",
    "dicionario = {}\n",
    "\n",
    "# Chamar a função e atribuir o resultado ao dicionário\n",
    "dicionario = consulta_cnpj('81243735001977')\n",
    "\n",
    "# Imprimir o dicionário\n",
    "pprint(dicionario)"
   ]
  },
  {
   "cell_type": "code",
   "execution_count": 20,
   "metadata": {},
   "outputs": [
    {
     "name": "stdout",
     "output_type": "stream",
     "text": [
      "{'abertura': '28/08/2015',\n",
      " 'atividade_principal': [{'code': '26.21-3-00',\n",
      "                          'text': 'Fabricação de equipamentos de informática'}],\n",
      " 'atividades_secundarias': [{'code': '26.22-1-00',\n",
      "                             'text': 'Fabricação de periféricos para '\n",
      "                                     'equipamentos de informática'},\n",
      "                            {'code': '27.59-7-99',\n",
      "                             'text': 'Fabricação de outros aparelhos '\n",
      "                                     'eletrodomésticos não especificados '\n",
      "                                     'anteriormente, peças e acessórios'},\n",
      "                            {'code': '46.19-2-00',\n",
      "                             'text': 'Representantes comerciais e agentes do '\n",
      "                                     'comércio de mercadorias em geral não '\n",
      "                                     'especializado'},\n",
      "                            {'code': '46.51-6-01',\n",
      "                             'text': 'Comércio atacadista de equipamentos de '\n",
      "                                     'informática'},\n",
      "                            {'code': '47.54-7-01',\n",
      "                             'text': 'Comércio varejista de móveis'},\n",
      "                            {'code': '46.49-4-02',\n",
      "                             'text': 'Comércio atacadista de aparelhos '\n",
      "                                     'eletrônicos de uso pessoal e doméstico'},\n",
      "                            {'code': '46.47-8-02',\n",
      "                             'text': 'Comércio atacadista de livros, jornais e '\n",
      "                                     'outras publicações'},\n",
      "                            {'code': '62.04-0-00',\n",
      "                             'text': 'Consultoria em tecnologia da informação'},\n",
      "                            {'code': '62.02-3-00',\n",
      "                             'text': 'Desenvolvimento e licenciamento de '\n",
      "                                     'programas de computador customizáveis'},\n",
      "                            {'code': '63.19-4-00',\n",
      "                             'text': 'Portais, provedores de conteúdo e outros '\n",
      "                                     'serviços de informação na internet'},\n",
      "                            {'code': '62.01-5-01',\n",
      "                             'text': 'Desenvolvimento de programas de '\n",
      "                                     'computador sob encomenda'},\n",
      "                            {'code': '58.11-5-00', 'text': 'Edição de livros'},\n",
      "                            {'code': '64.62-0-00',\n",
      "                             'text': 'Holdings de instituições '\n",
      "                                     'não-financeiras'},\n",
      "                            {'code': '71.19-7-03',\n",
      "                             'text': 'Serviços de desenho técnico relacionados '\n",
      "                                     'à arquitetura e engenharia'},\n",
      "                            {'code': '77.33-1-00',\n",
      "                             'text': 'Aluguel de máquinas e equipamentos para '\n",
      "                                     'escritórios'},\n",
      "                            {'code': '77.40-3-00',\n",
      "                             'text': 'Gestão de ativos intangíveis '\n",
      "                                     'não-financeiros'},\n",
      "                            {'code': '85.50-3-02',\n",
      "                             'text': 'Atividades de apoio à educação, exceto '\n",
      "                                     'caixas escolares'},\n",
      "                            {'code': '85.99-6-04',\n",
      "                             'text': 'Treinamento em desenvolvimento '\n",
      "                                     'profissional e gerencial'},\n",
      "                            {'code': '95.21-5-00',\n",
      "                             'text': 'Reparação e manutenção de equipamentos '\n",
      "                                     'eletroeletrônicos de uso pessoal e '\n",
      "                                     'doméstico'},\n",
      "                            {'code': '95.11-8-00',\n",
      "                             'text': 'Reparação e manutenção de computadores e '\n",
      "                                     'de equipamentos periféricos'},\n",
      "                            {'code': '26.32-9-00',\n",
      "                             'text': 'Fabricação de aparelhos telefônicos e de '\n",
      "                                     'outros equipamentos de comunicação, '\n",
      "                                     'peças e acessórios'}],\n",
      " 'bairro': 'DISTRITO INDUSTRIAL I',\n",
      " 'billing': {'database': True, 'free': True},\n",
      " 'capital_social': '0.00',\n",
      " 'cep': '69.075-110',\n",
      " 'cnpj': '81.243.735/0019-77',\n",
      " 'complemento': 'LOTE 257-B',\n",
      " 'data_situacao': '28/08/2015',\n",
      " 'data_situacao_especial': '',\n",
      " 'efr': '',\n",
      " 'email': 'fiscal@positivo.com.br',\n",
      " 'extra': {},\n",
      " 'fantasia': '',\n",
      " 'logradouro': 'R JAVARI',\n",
      " 'motivo_situacao': '',\n",
      " 'municipio': 'MANAUS',\n",
      " 'natureza_juridica': '204-6 - Sociedade Anônima Aberta',\n",
      " 'nome': 'POSITIVO TECNOLOGIA S.A.',\n",
      " 'numero': '1255',\n",
      " 'porte': 'DEMAIS',\n",
      " 'qsa': [],\n",
      " 'simei': {'data_exclusao': None,\n",
      "           'data_opcao': None,\n",
      "           'optante': False,\n",
      "           'ultima_atualizacao': '2024-11-09T23:59:59.000Z'},\n",
      " 'simples': {'data_exclusao': None,\n",
      "             'data_opcao': None,\n",
      "             'optante': False,\n",
      "             'ultima_atualizacao': '2024-11-09T23:59:59.000Z'},\n",
      " 'situacao': 'ATIVA',\n",
      " 'situacao_especial': '',\n",
      " 'status': 'OK',\n",
      " 'telefone': '(41) 3316-7700',\n",
      " 'tipo': 'FILIAL',\n",
      " 'uf': 'AM',\n",
      " 'ultima_atualizacao': '2024-11-14T00:02:04.751Z'}\n"
     ]
    }
   ],
   "source": [
    "pprint(dicionario)"
   ]
  },
  {
   "cell_type": "code",
   "execution_count": 21,
   "metadata": {},
   "outputs": [
    {
     "data": {
      "text/plain": [
       "'POSITIVO TECNOLOGIA S.A.'"
      ]
     },
     "execution_count": 21,
     "metadata": {},
     "output_type": "execute_result"
    }
   ],
   "source": [
    "dicionario['nome']"
   ]
  },
  {
   "cell_type": "code",
   "execution_count": 22,
   "metadata": {},
   "outputs": [
    {
     "data": {
      "text/plain": [
       "'(41) 3316-7700'"
      ]
     },
     "execution_count": 22,
     "metadata": {},
     "output_type": "execute_result"
    }
   ],
   "source": [
    "dicionario['telefone']"
   ]
  },
  {
   "cell_type": "code",
   "execution_count": 23,
   "metadata": {},
   "outputs": [
    {
     "data": {
      "text/plain": [
       "'fiscal@positivo.com.br'"
      ]
     },
     "execution_count": 23,
     "metadata": {},
     "output_type": "execute_result"
    }
   ],
   "source": [
    "dicionario['email']"
   ]
  },
  {
   "cell_type": "code",
   "execution_count": 24,
   "metadata": {},
   "outputs": [
    {
     "data": {
      "text/plain": [
       "'R JAVARI, 1255 - DISTRITO INDUSTRIAL I - MANAUS / AM'"
      ]
     },
     "execution_count": 24,
     "metadata": {},
     "output_type": "execute_result"
    }
   ],
   "source": [
    "dicionario['logradouro'] + ', ' + dicionario['numero'] + ' - ' + dicionario['bairro'] + ' - ' + dicionario['municipio'] + ' / ' + dicionario['uf']"
   ]
  },
  {
   "cell_type": "code",
   "execution_count": 25,
   "metadata": {},
   "outputs": [
    {
     "data": {
      "text/plain": [
       "array(['20584944000160', '39750831000116', '13081240000100', ...,\n",
       "       '37902352000142', '02700680669', '07266248000148'], dtype=object)"
      ]
     },
     "execution_count": 25,
     "metadata": {},
     "output_type": "execute_result"
    }
   ],
   "source": [
    "# filtrando dos dados da coluna FAV\n",
    "df_cnpj = df[df['NOME_PI'] != 'PROFISSIONAL DE SAUDE AUTONOMO']\n",
    "df_cnpj = df[df['NOME_PI'] != 'ATENDIMENTO MEDICO-HOPITALR/FC']\n",
    "df_cnpj = df[df['NOME_PI'] != 'IND-INDENIZACOES']\n",
    "df_cnpj = df[df['NOME_PI'] != 'IND - INDENIZACOES']\n",
    "df_cnpj = df[df['NOME_PI'] != 'INDENIZACAO DESPESAS.']\n",
    "df_cnpj = df[df['NOME_PI'] != 'AUXILIO FINANCEIRO NÃO INDENIZÁVEL']\n",
    "df_cnpj = df[df['NOME_PI'] != 'INRE - RESTITUICAO E RESSARCIMENTO']\n",
    "df_cnpj = df[df['NOME_NDSI'] != 'OUTROS SERV.DE TERCEIROS PJ- PAGTO ANTECIPADO']\n",
    "df_cnpj = df[df['FAV'] != '160129']\n",
    "\n",
    "df_cnpj['FAV'].unique()"
   ]
  },
  {
   "cell_type": "code",
   "execution_count": 26,
   "metadata": {},
   "outputs": [
    {
     "data": {
      "text/html": [
       "<div>\n",
       "<style scoped>\n",
       "    .dataframe tbody tr th:only-of-type {\n",
       "        vertical-align: middle;\n",
       "    }\n",
       "\n",
       "    .dataframe tbody tr th {\n",
       "        vertical-align: top;\n",
       "    }\n",
       "\n",
       "    .dataframe thead th {\n",
       "        text-align: right;\n",
       "    }\n",
       "</style>\n",
       "<table border=\"1\" class=\"dataframe\">\n",
       "  <thead>\n",
       "    <tr style=\"text-align: right;\">\n",
       "      <th></th>\n",
       "      <th>UG</th>\n",
       "      <th>SIGLA</th>\n",
       "      <th>CGCFEX</th>\n",
       "      <th>RM</th>\n",
       "      <th>COMANDO</th>\n",
       "      <th>CIDADE</th>\n",
       "      <th>UF</th>\n",
       "      <th>PROGRAMA</th>\n",
       "      <th>AÇÃO</th>\n",
       "      <th>NOME_ACAO</th>\n",
       "      <th>UGR</th>\n",
       "      <th>NOME_UGR</th>\n",
       "      <th>PTRES</th>\n",
       "      <th>PI</th>\n",
       "      <th>RADICAL_4_PI</th>\n",
       "      <th>MEIO_3_PI</th>\n",
       "      <th>SUFIXO_4_PI</th>\n",
       "      <th>NOME_PI</th>\n",
       "      <th>ND</th>\n",
       "      <th>NOME_ND</th>\n",
       "      <th>NDSI</th>\n",
       "      <th>NOME_NDSI</th>\n",
       "      <th>NE</th>\n",
       "      <th>ANO</th>\n",
       "      <th>DATA</th>\n",
       "      <th>CHAVE</th>\n",
       "      <th>FAV</th>\n",
       "      <th>NOME_CREDOR</th>\n",
       "      <th>UF_FAV</th>\n",
       "      <th>TIPO</th>\n",
       "      <th>DIAS</th>\n",
       "      <th>UF_UG</th>\n",
       "      <th>FONTE</th>\n",
       "      <th>MOD_LIC</th>\n",
       "      <th>TIPO_NE</th>\n",
       "      <th>RP</th>\n",
       "      <th>NOME_RP</th>\n",
       "      <th>TIPO_CREDITO</th>\n",
       "      <th>NOME_TIPO_CREDITO</th>\n",
       "      <th>PO</th>\n",
       "      <th>AUTOR_EMENDA</th>\n",
       "      <th>NOME_AUTOR_EMENDA</th>\n",
       "      <th>LOCAL</th>\n",
       "      <th>NOME_UO</th>\n",
       "      <th>UO</th>\n",
       "      <th>A_LIQUIDAR</th>\n",
       "      <th>LIQUIDADO_A_PAGAR</th>\n",
       "      <th>TOTAL_A_PAGAR</th>\n",
       "      <th>PAGO</th>\n",
       "    </tr>\n",
       "  </thead>\n",
       "  <tbody>\n",
       "  </tbody>\n",
       "</table>\n",
       "</div>"
      ],
      "text/plain": [
       "Empty DataFrame\n",
       "Columns: [UG, SIGLA, CGCFEX, RM, COMANDO, CIDADE, UF, PROGRAMA, AÇÃO, NOME_ACAO, UGR, NOME_UGR, PTRES, PI, RADICAL_4_PI, MEIO_3_PI, SUFIXO_4_PI, NOME_PI, ND, NOME_ND, NDSI, NOME_NDSI, NE, ANO, DATA, CHAVE, FAV, NOME_CREDOR, UF_FAV, TIPO, DIAS, UF_UG, FONTE, MOD_LIC, TIPO_NE, RP, NOME_RP, TIPO_CREDITO, NOME_TIPO_CREDITO, PO, AUTOR_EMENDA, NOME_AUTOR_EMENDA, LOCAL, NOME_UO, UO, A_LIQUIDAR, LIQUIDADO_A_PAGAR, TOTAL_A_PAGAR, PAGO]\n",
       "Index: []"
      ]
     },
     "execution_count": 26,
     "metadata": {},
     "output_type": "execute_result"
    }
   ],
   "source": [
    "df_cnpj[df_cnpj['FAV'] == '160129']"
   ]
  },
  {
   "cell_type": "code",
   "execution_count": 27,
   "metadata": {},
   "outputs": [
    {
     "data": {
      "text/html": [
       "<div>\n",
       "<style scoped>\n",
       "    .dataframe tbody tr th:only-of-type {\n",
       "        vertical-align: middle;\n",
       "    }\n",
       "\n",
       "    .dataframe tbody tr th {\n",
       "        vertical-align: top;\n",
       "    }\n",
       "\n",
       "    .dataframe thead th {\n",
       "        text-align: right;\n",
       "    }\n",
       "</style>\n",
       "<table border=\"1\" class=\"dataframe\">\n",
       "  <thead>\n",
       "    <tr style=\"text-align: right;\">\n",
       "      <th></th>\n",
       "      <th>UG</th>\n",
       "      <th>SIGLA</th>\n",
       "      <th>CGCFEX</th>\n",
       "      <th>RM</th>\n",
       "      <th>COMANDO</th>\n",
       "      <th>CIDADE</th>\n",
       "      <th>UF</th>\n",
       "      <th>PROGRAMA</th>\n",
       "      <th>AÇÃO</th>\n",
       "      <th>NOME_ACAO</th>\n",
       "      <th>UGR</th>\n",
       "      <th>NOME_UGR</th>\n",
       "      <th>PTRES</th>\n",
       "      <th>PI</th>\n",
       "      <th>RADICAL_4_PI</th>\n",
       "      <th>MEIO_3_PI</th>\n",
       "      <th>SUFIXO_4_PI</th>\n",
       "      <th>NOME_PI</th>\n",
       "      <th>ND</th>\n",
       "      <th>NOME_ND</th>\n",
       "      <th>NDSI</th>\n",
       "      <th>NOME_NDSI</th>\n",
       "      <th>NE</th>\n",
       "      <th>ANO</th>\n",
       "      <th>DATA</th>\n",
       "      <th>CHAVE</th>\n",
       "      <th>FAV</th>\n",
       "      <th>NOME_CREDOR</th>\n",
       "      <th>UF_FAV</th>\n",
       "      <th>TIPO</th>\n",
       "      <th>DIAS</th>\n",
       "      <th>UF_UG</th>\n",
       "      <th>FONTE</th>\n",
       "      <th>MOD_LIC</th>\n",
       "      <th>TIPO_NE</th>\n",
       "      <th>RP</th>\n",
       "      <th>NOME_RP</th>\n",
       "      <th>TIPO_CREDITO</th>\n",
       "      <th>NOME_TIPO_CREDITO</th>\n",
       "      <th>PO</th>\n",
       "      <th>AUTOR_EMENDA</th>\n",
       "      <th>NOME_AUTOR_EMENDA</th>\n",
       "      <th>LOCAL</th>\n",
       "      <th>NOME_UO</th>\n",
       "      <th>UO</th>\n",
       "      <th>A_LIQUIDAR</th>\n",
       "      <th>LIQUIDADO_A_PAGAR</th>\n",
       "      <th>TOTAL_A_PAGAR</th>\n",
       "      <th>PAGO</th>\n",
       "    </tr>\n",
       "  </thead>\n",
       "  <tbody>\n",
       "    <tr>\n",
       "      <th>3</th>\n",
       "      <td>160129</td>\n",
       "      <td>ESA</td>\n",
       "      <td>4º CGCFEx</td>\n",
       "      <td>4ª RM</td>\n",
       "      <td>CML</td>\n",
       "      <td>Três Corações</td>\n",
       "      <td>MG</td>\n",
       "      <td>0032</td>\n",
       "      <td>2000</td>\n",
       "      <td>ADMINISTRACAO DA UNIDADE</td>\n",
       "      <td>160073</td>\n",
       "      <td>DGO</td>\n",
       "      <td>171460</td>\n",
       "      <td>I3DACNTLICO</td>\n",
       "      <td>I3DA</td>\n",
       "      <td>CNT</td>\n",
       "      <td>LICO</td>\n",
       "      <td>LIMPEZA DE BENS IMÓVEIS</td>\n",
       "      <td>339037</td>\n",
       "      <td>LOCACAO DE MAO-DE-OBRA</td>\n",
       "      <td>33903702</td>\n",
       "      <td>LIMPEZA E CONSERVACAO</td>\n",
       "      <td>2024NE000004</td>\n",
       "      <td>2024</td>\n",
       "      <td>2024-01-10</td>\n",
       "      <td>160129000012024NE000004</td>\n",
       "      <td>39750831000116</td>\n",
       "      <td>ECOLIMP SERVICOS GERAIS LTDA</td>\n",
       "      <td>RJ</td>\n",
       "      <td>ANO</td>\n",
       "      <td>335</td>\n",
       "      <td>MG</td>\n",
       "      <td>1000000000</td>\n",
       "      <td>PREGAO</td>\n",
       "      <td>GLOBAL</td>\n",
       "      <td>2</td>\n",
       "      <td>PRIMARIO DISCRICIONARIO</td>\n",
       "      <td>A</td>\n",
       "      <td>INICIAL (LOA)</td>\n",
       "      <td>0004</td>\n",
       "      <td>000000000000</td>\n",
       "      <td>SEM EMENDA</td>\n",
       "      <td>ESCOLA DE SARGENTOS DAS ARMAS</td>\n",
       "      <td>COMANDO DO EXERCITO</td>\n",
       "      <td>52121</td>\n",
       "      <td>0.0</td>\n",
       "      <td>0.00</td>\n",
       "      <td>0.00</td>\n",
       "      <td>103653.60</td>\n",
       "    </tr>\n",
       "    <tr>\n",
       "      <th>4</th>\n",
       "      <td>160129</td>\n",
       "      <td>ESA</td>\n",
       "      <td>4º CGCFEx</td>\n",
       "      <td>4ª RM</td>\n",
       "      <td>CML</td>\n",
       "      <td>Três Corações</td>\n",
       "      <td>MG</td>\n",
       "      <td>0032</td>\n",
       "      <td>2000</td>\n",
       "      <td>ADMINISTRACAO DA UNIDADE</td>\n",
       "      <td>160073</td>\n",
       "      <td>DGO</td>\n",
       "      <td>171460</td>\n",
       "      <td>I3DACNTLICO</td>\n",
       "      <td>I3DA</td>\n",
       "      <td>CNT</td>\n",
       "      <td>LICO</td>\n",
       "      <td>LIMPEZA DE BENS IMÓVEIS</td>\n",
       "      <td>339037</td>\n",
       "      <td>LOCACAO DE MAO-DE-OBRA</td>\n",
       "      <td>33903702</td>\n",
       "      <td>LIMPEZA E CONSERVACAO</td>\n",
       "      <td>2024NE000071</td>\n",
       "      <td>2024</td>\n",
       "      <td>2024-02-14</td>\n",
       "      <td>160129000012024NE000071</td>\n",
       "      <td>39750831000116</td>\n",
       "      <td>ECOLIMP SERVICOS GERAIS LTDA</td>\n",
       "      <td>RJ</td>\n",
       "      <td>ANO</td>\n",
       "      <td>300</td>\n",
       "      <td>MG</td>\n",
       "      <td>1000000000</td>\n",
       "      <td>PREGAO</td>\n",
       "      <td>GLOBAL</td>\n",
       "      <td>2</td>\n",
       "      <td>PRIMARIO DISCRICIONARIO</td>\n",
       "      <td>A</td>\n",
       "      <td>INICIAL (LOA)</td>\n",
       "      <td>0004</td>\n",
       "      <td>000000000000</td>\n",
       "      <td>SEM EMENDA</td>\n",
       "      <td>ESCOLA DE SARGENTOS DAS ARMAS - AV. SETE DE SE...</td>\n",
       "      <td>COMANDO DO EXERCITO</td>\n",
       "      <td>52121</td>\n",
       "      <td>339.0</td>\n",
       "      <td>28690.84</td>\n",
       "      <td>29029.84</td>\n",
       "      <td>183880.73</td>\n",
       "    </tr>\n",
       "  </tbody>\n",
       "</table>\n",
       "</div>"
      ],
      "text/plain": [
       "       UG SIGLA     CGCFEX     RM COMANDO         CIDADE  UF PROGRAMA  AÇÃO  \\\n",
       "3  160129   ESA  4º CGCFEx  4ª RM     CML  Três Corações  MG     0032  2000   \n",
       "4  160129   ESA  4º CGCFEx  4ª RM     CML  Três Corações  MG     0032  2000   \n",
       "\n",
       "                  NOME_ACAO     UGR NOME_UGR   PTRES           PI  \\\n",
       "3  ADMINISTRACAO DA UNIDADE  160073      DGO  171460  I3DACNTLICO   \n",
       "4  ADMINISTRACAO DA UNIDADE  160073      DGO  171460  I3DACNTLICO   \n",
       "\n",
       "  RADICAL_4_PI MEIO_3_PI SUFIXO_4_PI                  NOME_PI      ND  \\\n",
       "3         I3DA       CNT        LICO  LIMPEZA DE BENS IMÓVEIS  339037   \n",
       "4         I3DA       CNT        LICO  LIMPEZA DE BENS IMÓVEIS  339037   \n",
       "\n",
       "                  NOME_ND      NDSI              NOME_NDSI            NE  \\\n",
       "3  LOCACAO DE MAO-DE-OBRA  33903702  LIMPEZA E CONSERVACAO  2024NE000004   \n",
       "4  LOCACAO DE MAO-DE-OBRA  33903702  LIMPEZA E CONSERVACAO  2024NE000071   \n",
       "\n",
       "    ANO       DATA                    CHAVE             FAV  \\\n",
       "3  2024 2024-01-10  160129000012024NE000004  39750831000116   \n",
       "4  2024 2024-02-14  160129000012024NE000071  39750831000116   \n",
       "\n",
       "                    NOME_CREDOR UF_FAV TIPO  DIAS UF_UG       FONTE MOD_LIC  \\\n",
       "3  ECOLIMP SERVICOS GERAIS LTDA     RJ  ANO   335    MG  1000000000  PREGAO   \n",
       "4  ECOLIMP SERVICOS GERAIS LTDA     RJ  ANO   300    MG  1000000000  PREGAO   \n",
       "\n",
       "  TIPO_NE RP                  NOME_RP TIPO_CREDITO NOME_TIPO_CREDITO    PO  \\\n",
       "3  GLOBAL  2  PRIMARIO DISCRICIONARIO            A     INICIAL (LOA)  0004   \n",
       "4  GLOBAL  2  PRIMARIO DISCRICIONARIO            A     INICIAL (LOA)  0004   \n",
       "\n",
       "   AUTOR_EMENDA NOME_AUTOR_EMENDA  \\\n",
       "3  000000000000        SEM EMENDA   \n",
       "4  000000000000        SEM EMENDA   \n",
       "\n",
       "                                               LOCAL              NOME_UO  \\\n",
       "3                      ESCOLA DE SARGENTOS DAS ARMAS  COMANDO DO EXERCITO   \n",
       "4  ESCOLA DE SARGENTOS DAS ARMAS - AV. SETE DE SE...  COMANDO DO EXERCITO   \n",
       "\n",
       "      UO  A_LIQUIDAR  LIQUIDADO_A_PAGAR  TOTAL_A_PAGAR       PAGO  \n",
       "3  52121         0.0               0.00           0.00  103653.60  \n",
       "4  52121       339.0           28690.84       29029.84  183880.73  "
      ]
     },
     "execution_count": 27,
     "metadata": {},
     "output_type": "execute_result"
    }
   ],
   "source": [
    "ano_atual = str(datetime.now().year)\n",
    "\n",
    "\n",
    "df_corrente = df[df['ANO'] == ano_atual]\n",
    "df_corrente.head(2)"
   ]
  },
  {
   "cell_type": "markdown",
   "metadata": {},
   "source": [
    "# Pesquisas no DataFrame"
   ]
  },
  {
   "cell_type": "code",
   "execution_count": 28,
   "metadata": {},
   "outputs": [],
   "source": [
    "# Criando um DataFrame para testes \n",
    "df_teste = df.copy()"
   ]
  },
  {
   "cell_type": "markdown",
   "metadata": {},
   "source": [
    "## Empenhos inscritos em RPNP"
   ]
  },
  {
   "cell_type": "code",
   "execution_count": 29,
   "metadata": {},
   "outputs": [],
   "source": [
    "# Criando um Dataframe para filtrar os empenhos em RPNP\n",
    "df_restos = df_teste[df_teste['ANO'].isin(['2022', '2023'])]\n",
    "df_restos = df_restos[df_restos['A_LIQUIDAR'] !=  0]"
   ]
  },
  {
   "cell_type": "markdown",
   "metadata": {},
   "source": [
    "### Restos a pagar ND 30 e 52"
   ]
  },
  {
   "cell_type": "code",
   "execution_count": 30,
   "metadata": {},
   "outputs": [],
   "source": [
    "df_restos_material = df_restos[df_restos['ND'].isin(['339030', '449052' ])]\n",
    "df_restos_material = df_restos_material.sort_values(by='A_LIQUIDAR', ascending=False)\n",
    "df_restos_material.head()\n",
    "df_restos_material.to_excel('restos_a_pagar_2024.xlsx')"
   ]
  },
  {
   "cell_type": "code",
   "execution_count": 31,
   "metadata": {},
   "outputs": [
    {
     "data": {
      "text/html": [
       "<div>\n",
       "<style scoped>\n",
       "    .dataframe tbody tr th:only-of-type {\n",
       "        vertical-align: middle;\n",
       "    }\n",
       "\n",
       "    .dataframe tbody tr th {\n",
       "        vertical-align: top;\n",
       "    }\n",
       "\n",
       "    .dataframe thead th {\n",
       "        text-align: right;\n",
       "    }\n",
       "</style>\n",
       "<table border=\"1\" class=\"dataframe\">\n",
       "  <thead>\n",
       "    <tr style=\"text-align: right;\">\n",
       "      <th></th>\n",
       "      <th>UG</th>\n",
       "      <th>NOME_ACAO</th>\n",
       "      <th>ANO</th>\n",
       "      <th>NOME_CREDOR</th>\n",
       "      <th>DATA</th>\n",
       "      <th>DIAS</th>\n",
       "      <th>ND</th>\n",
       "      <th>NOME_ND</th>\n",
       "      <th>NDSI</th>\n",
       "      <th>NOME_NDSI</th>\n",
       "      <th>NE</th>\n",
       "      <th>PI</th>\n",
       "      <th>NOME_PI</th>\n",
       "      <th>TIPO</th>\n",
       "      <th>TIPO_NE</th>\n",
       "      <th>NOME_UGR</th>\n",
       "      <th>A_LIQUIDAR</th>\n",
       "      <th>LIQUIDADO_A_PAGAR</th>\n",
       "      <th>TOTAL_A_PAGAR</th>\n",
       "      <th>PAGO</th>\n",
       "    </tr>\n",
       "  </thead>\n",
       "  <tbody>\n",
       "    <tr>\n",
       "      <th>461</th>\n",
       "      <td>160129</td>\n",
       "      <td>CAPACITACAO PROFISSIONAL MILITAR DO E</td>\n",
       "      <td>2023</td>\n",
       "      <td>ORLEANS VIAGENS E TURISMO LTDA</td>\n",
       "      <td>2023-02-03</td>\n",
       "      <td>676</td>\n",
       "      <td>339033</td>\n",
       "      <td>PASSAGENS E DESPESAS COM LOCOMOCAO</td>\n",
       "      <td>33903301</td>\n",
       "      <td>PASSAGENS PARA O PAIS</td>\n",
       "      <td>2023NE000034</td>\n",
       "      <td>C4ENMILCAPE</td>\n",
       "      <td>CAPACITACAO DE PESSOAL</td>\n",
       "      <td>RPNP</td>\n",
       "      <td>GLOBAL</td>\n",
       "      <td>DECEX/GESTOR</td>\n",
       "      <td>68.87</td>\n",
       "      <td>119.88</td>\n",
       "      <td>188.75</td>\n",
       "      <td>9629.00</td>\n",
       "    </tr>\n",
       "    <tr>\n",
       "      <th>460</th>\n",
       "      <td>160129</td>\n",
       "      <td>CAPACITACAO PROFISSIONAL MILITAR DO E</td>\n",
       "      <td>2023</td>\n",
       "      <td>FACTO TURISMO  LTDA</td>\n",
       "      <td>2023-02-03</td>\n",
       "      <td>676</td>\n",
       "      <td>339033</td>\n",
       "      <td>PASSAGENS E DESPESAS COM LOCOMOCAO</td>\n",
       "      <td>33903301</td>\n",
       "      <td>PASSAGENS PARA O PAIS</td>\n",
       "      <td>2023NE000033</td>\n",
       "      <td>C4ENMILCAPE</td>\n",
       "      <td>CAPACITACAO DE PESSOAL</td>\n",
       "      <td>RPNP</td>\n",
       "      <td>GLOBAL</td>\n",
       "      <td>DECEX/GESTOR</td>\n",
       "      <td>3236.21</td>\n",
       "      <td>0.00</td>\n",
       "      <td>3236.21</td>\n",
       "      <td>19261.89</td>\n",
       "    </tr>\n",
       "  </tbody>\n",
       "</table>\n",
       "</div>"
      ],
      "text/plain": [
       "         UG                              NOME_ACAO   ANO  \\\n",
       "461  160129  CAPACITACAO PROFISSIONAL MILITAR DO E  2023   \n",
       "460  160129  CAPACITACAO PROFISSIONAL MILITAR DO E  2023   \n",
       "\n",
       "                        NOME_CREDOR       DATA  DIAS      ND  \\\n",
       "461  ORLEANS VIAGENS E TURISMO LTDA 2023-02-03   676  339033   \n",
       "460             FACTO TURISMO  LTDA 2023-02-03   676  339033   \n",
       "\n",
       "                                NOME_ND      NDSI              NOME_NDSI  \\\n",
       "461  PASSAGENS E DESPESAS COM LOCOMOCAO  33903301  PASSAGENS PARA O PAIS   \n",
       "460  PASSAGENS E DESPESAS COM LOCOMOCAO  33903301  PASSAGENS PARA O PAIS   \n",
       "\n",
       "               NE           PI                 NOME_PI  TIPO TIPO_NE  \\\n",
       "461  2023NE000034  C4ENMILCAPE  CAPACITACAO DE PESSOAL  RPNP  GLOBAL   \n",
       "460  2023NE000033  C4ENMILCAPE  CAPACITACAO DE PESSOAL  RPNP  GLOBAL   \n",
       "\n",
       "         NOME_UGR  A_LIQUIDAR  LIQUIDADO_A_PAGAR  TOTAL_A_PAGAR      PAGO  \n",
       "461  DECEX/GESTOR       68.87             119.88         188.75   9629.00  \n",
       "460  DECEX/GESTOR     3236.21               0.00        3236.21  19261.89  "
      ]
     },
     "execution_count": 31,
     "metadata": {},
     "output_type": "execute_result"
    }
   ],
   "source": [
    "cols = ['UG', 'NOME_ACAO', 'ANO', 'NOME_CREDOR',\n",
    "'DATA', 'DIAS', 'ND', 'NOME_ND', 'NDSI', 'NOME_NDSI', 'NE', 'PI', \n",
    "'NOME_PI', 'TIPO', 'TIPO_NE', 'NOME_UGR', 'A_LIQUIDAR', \n",
    "'LIQUIDADO_A_PAGAR', 'TOTAL_A_PAGAR', 'PAGO']\n",
    "\n",
    "df_filtro = df_teste.loc[:,cols]\n",
    "df_filtro = df_filtro[df_filtro['A_LIQUIDAR'] != 0]\n",
    "df_filtro.sort_values(by='DIAS', ascending=False).head(2)"
   ]
  },
  {
   "cell_type": "markdown",
   "metadata": {},
   "source": [
    "### Filtros Diversos"
   ]
  },
  {
   "cell_type": "code",
   "execution_count": 32,
   "metadata": {},
   "outputs": [],
   "source": [
    "df_liquidar = df_teste[df_teste['A_LIQUIDAR'] != 0].sort_values(by= 'DIAS', ascending= False).reset_index(drop=True)"
   ]
  },
  {
   "cell_type": "code",
   "execution_count": 33,
   "metadata": {},
   "outputs": [
    {
     "data": {
      "text/html": [
       "<div>\n",
       "<style scoped>\n",
       "    .dataframe tbody tr th:only-of-type {\n",
       "        vertical-align: middle;\n",
       "    }\n",
       "\n",
       "    .dataframe tbody tr th {\n",
       "        vertical-align: top;\n",
       "    }\n",
       "\n",
       "    .dataframe thead th {\n",
       "        text-align: right;\n",
       "    }\n",
       "</style>\n",
       "<table border=\"1\" class=\"dataframe\">\n",
       "  <thead>\n",
       "    <tr style=\"text-align: right;\">\n",
       "      <th></th>\n",
       "      <th>UG</th>\n",
       "      <th>NOME_ACAO</th>\n",
       "      <th>NOME_UGR</th>\n",
       "      <th>PI</th>\n",
       "      <th>NOME_PI</th>\n",
       "      <th>ND</th>\n",
       "      <th>NOME_ND</th>\n",
       "      <th>NDSI</th>\n",
       "      <th>NOME_NDSI</th>\n",
       "      <th>NE</th>\n",
       "      <th>ANO</th>\n",
       "      <th>DATA</th>\n",
       "      <th>FAV</th>\n",
       "      <th>NOME_CREDOR</th>\n",
       "      <th>UF_FAV</th>\n",
       "      <th>TIPO</th>\n",
       "      <th>DIAS</th>\n",
       "      <th>UF_UG</th>\n",
       "      <th>MOD_LIC</th>\n",
       "      <th>TIPO_NE</th>\n",
       "      <th>RP</th>\n",
       "      <th>NOME_RP</th>\n",
       "      <th>UO</th>\n",
       "      <th>NOME_UO</th>\n",
       "      <th>A_LIQUIDAR</th>\n",
       "      <th>LIQUIDADO_A_PAGAR</th>\n",
       "      <th>TOTAL_A_PAGAR</th>\n",
       "      <th>PAGO</th>\n",
       "    </tr>\n",
       "  </thead>\n",
       "  <tbody>\n",
       "    <tr>\n",
       "      <th>0</th>\n",
       "      <td>160129</td>\n",
       "      <td>CAPACITACAO PROFISSIONAL MILITAR DO E</td>\n",
       "      <td>DECEX/GESTOR</td>\n",
       "      <td>C4ENMILCAPE</td>\n",
       "      <td>CAPACITACAO DE PESSOAL</td>\n",
       "      <td>339033</td>\n",
       "      <td>PASSAGENS E DESPESAS COM LOCOMOCAO</td>\n",
       "      <td>33903301</td>\n",
       "      <td>PASSAGENS PARA O PAIS</td>\n",
       "      <td>2023NE000034</td>\n",
       "      <td>2023</td>\n",
       "      <td>2023-02-03</td>\n",
       "      <td>21331404000138</td>\n",
       "      <td>ORLEANS VIAGENS E TURISMO LTDA</td>\n",
       "      <td>SP</td>\n",
       "      <td>RPNP</td>\n",
       "      <td>676</td>\n",
       "      <td>MG</td>\n",
       "      <td>PREGAO</td>\n",
       "      <td>GLOBAL</td>\n",
       "      <td>2</td>\n",
       "      <td>PRIMARIO DISCRICIONARIO</td>\n",
       "      <td>52121</td>\n",
       "      <td>COMANDO DO EXERCITO</td>\n",
       "      <td>68.87</td>\n",
       "      <td>119.88</td>\n",
       "      <td>188.75</td>\n",
       "      <td>9629.00</td>\n",
       "    </tr>\n",
       "    <tr>\n",
       "      <th>1</th>\n",
       "      <td>160129</td>\n",
       "      <td>CAPACITACAO PROFISSIONAL MILITAR DO E</td>\n",
       "      <td>DECEX/GESTOR</td>\n",
       "      <td>C4ENMILCAPE</td>\n",
       "      <td>CAPACITACAO DE PESSOAL</td>\n",
       "      <td>339033</td>\n",
       "      <td>PASSAGENS E DESPESAS COM LOCOMOCAO</td>\n",
       "      <td>33903301</td>\n",
       "      <td>PASSAGENS PARA O PAIS</td>\n",
       "      <td>2023NE000033</td>\n",
       "      <td>2023</td>\n",
       "      <td>2023-02-03</td>\n",
       "      <td>14807420000199</td>\n",
       "      <td>FACTO TURISMO  LTDA</td>\n",
       "      <td>SP</td>\n",
       "      <td>RPNP</td>\n",
       "      <td>676</td>\n",
       "      <td>MG</td>\n",
       "      <td>PREGAO</td>\n",
       "      <td>GLOBAL</td>\n",
       "      <td>2</td>\n",
       "      <td>PRIMARIO DISCRICIONARIO</td>\n",
       "      <td>52121</td>\n",
       "      <td>COMANDO DO EXERCITO</td>\n",
       "      <td>3236.21</td>\n",
       "      <td>0.00</td>\n",
       "      <td>3236.21</td>\n",
       "      <td>19261.89</td>\n",
       "    </tr>\n",
       "    <tr>\n",
       "      <th>2</th>\n",
       "      <td>160129</td>\n",
       "      <td>CAPACITACAO PROFISSIONAL MILITAR DO E</td>\n",
       "      <td>DECEX/GESTOR</td>\n",
       "      <td>C4ENMILCAPE</td>\n",
       "      <td>CAPACITACAO DE PESSOAL</td>\n",
       "      <td>339033</td>\n",
       "      <td>PASSAGENS E DESPESAS COM LOCOMOCAO</td>\n",
       "      <td>33903301</td>\n",
       "      <td>PASSAGENS PARA O PAIS</td>\n",
       "      <td>2023NE000329</td>\n",
       "      <td>2023</td>\n",
       "      <td>2023-04-03</td>\n",
       "      <td>14807420000199</td>\n",
       "      <td>FACTO TURISMO  LTDA</td>\n",
       "      <td>SP</td>\n",
       "      <td>RPNP</td>\n",
       "      <td>617</td>\n",
       "      <td>MG</td>\n",
       "      <td>PREGAO</td>\n",
       "      <td>GLOBAL</td>\n",
       "      <td>2</td>\n",
       "      <td>PRIMARIO DISCRICIONARIO</td>\n",
       "      <td>52121</td>\n",
       "      <td>COMANDO DO EXERCITO</td>\n",
       "      <td>330.22</td>\n",
       "      <td>0.00</td>\n",
       "      <td>330.22</td>\n",
       "      <td>3828.26</td>\n",
       "    </tr>\n",
       "    <tr>\n",
       "      <th>3</th>\n",
       "      <td>167129</td>\n",
       "      <td>ADMINISTRACAO DA UNIDADE</td>\n",
       "      <td>DECEX - GESTOR</td>\n",
       "      <td>C1ENCONDETM</td>\n",
       "      <td>CONCURSOS AS ESCOLAS MILITARES</td>\n",
       "      <td>339039</td>\n",
       "      <td>OUTROS SERVICOS DE TERCEIROS - PESSOA JURIDICA</td>\n",
       "      <td>33903917</td>\n",
       "      <td>MANUT. E CONSERV. DE MAQUINAS E EQUIPAMENTOS</td>\n",
       "      <td>2023NE001672</td>\n",
       "      <td>2023</td>\n",
       "      <td>2023-10-20</td>\n",
       "      <td>38680138000151</td>\n",
       "      <td>GESMAQ COMERCIO E SERVICOS LTDA</td>\n",
       "      <td>MG</td>\n",
       "      <td>RPNP</td>\n",
       "      <td>417</td>\n",
       "      <td>MG</td>\n",
       "      <td>PREGAO</td>\n",
       "      <td>GLOBAL</td>\n",
       "      <td>2</td>\n",
       "      <td>PRIMARIO DISCRICIONARIO</td>\n",
       "      <td>52921</td>\n",
       "      <td>FUNDO DO EXERCITO</td>\n",
       "      <td>5543.33</td>\n",
       "      <td>0.00</td>\n",
       "      <td>5543.33</td>\n",
       "      <td>27716.65</td>\n",
       "    </tr>\n",
       "    <tr>\n",
       "      <th>4</th>\n",
       "      <td>167129</td>\n",
       "      <td>ADMINISTRACAO DA UNIDADE</td>\n",
       "      <td>DECEX - GESTOR</td>\n",
       "      <td>C1ENCONDETM</td>\n",
       "      <td>CONCURSOS AS ESCOLAS MILITARES</td>\n",
       "      <td>339040</td>\n",
       "      <td>SERVIÇOS DE TECNOLOGIA DA INFORMAÇÃO E COMUNIC...</td>\n",
       "      <td>33904012</td>\n",
       "      <td>MANUTENCAO E CONSERVACAO DE EQUIPAMENTOS DE TIC</td>\n",
       "      <td>2023NE001681</td>\n",
       "      <td>2023</td>\n",
       "      <td>2023-10-20</td>\n",
       "      <td>38680138000151</td>\n",
       "      <td>GESMAQ COMERCIO E SERVICOS LTDA</td>\n",
       "      <td>MG</td>\n",
       "      <td>RPNP</td>\n",
       "      <td>417</td>\n",
       "      <td>MG</td>\n",
       "      <td>PREGAO</td>\n",
       "      <td>GLOBAL</td>\n",
       "      <td>2</td>\n",
       "      <td>PRIMARIO DISCRICIONARIO</td>\n",
       "      <td>52921</td>\n",
       "      <td>FUNDO DO EXERCITO</td>\n",
       "      <td>5902.08</td>\n",
       "      <td>5902.08</td>\n",
       "      <td>11804.16</td>\n",
       "      <td>23608.32</td>\n",
       "    </tr>\n",
       "  </tbody>\n",
       "</table>\n",
       "</div>"
      ],
      "text/plain": [
       "       UG                              NOME_ACAO        NOME_UGR           PI  \\\n",
       "0  160129  CAPACITACAO PROFISSIONAL MILITAR DO E    DECEX/GESTOR  C4ENMILCAPE   \n",
       "1  160129  CAPACITACAO PROFISSIONAL MILITAR DO E    DECEX/GESTOR  C4ENMILCAPE   \n",
       "2  160129  CAPACITACAO PROFISSIONAL MILITAR DO E    DECEX/GESTOR  C4ENMILCAPE   \n",
       "3  167129               ADMINISTRACAO DA UNIDADE  DECEX - GESTOR  C1ENCONDETM   \n",
       "4  167129               ADMINISTRACAO DA UNIDADE  DECEX - GESTOR  C1ENCONDETM   \n",
       "\n",
       "                          NOME_PI      ND  \\\n",
       "0          CAPACITACAO DE PESSOAL  339033   \n",
       "1          CAPACITACAO DE PESSOAL  339033   \n",
       "2          CAPACITACAO DE PESSOAL  339033   \n",
       "3  CONCURSOS AS ESCOLAS MILITARES  339039   \n",
       "4  CONCURSOS AS ESCOLAS MILITARES  339040   \n",
       "\n",
       "                                             NOME_ND      NDSI  \\\n",
       "0                 PASSAGENS E DESPESAS COM LOCOMOCAO  33903301   \n",
       "1                 PASSAGENS E DESPESAS COM LOCOMOCAO  33903301   \n",
       "2                 PASSAGENS E DESPESAS COM LOCOMOCAO  33903301   \n",
       "3     OUTROS SERVICOS DE TERCEIROS - PESSOA JURIDICA  33903917   \n",
       "4  SERVIÇOS DE TECNOLOGIA DA INFORMAÇÃO E COMUNIC...  33904012   \n",
       "\n",
       "                                         NOME_NDSI            NE   ANO  \\\n",
       "0                            PASSAGENS PARA O PAIS  2023NE000034  2023   \n",
       "1                            PASSAGENS PARA O PAIS  2023NE000033  2023   \n",
       "2                            PASSAGENS PARA O PAIS  2023NE000329  2023   \n",
       "3     MANUT. E CONSERV. DE MAQUINAS E EQUIPAMENTOS  2023NE001672  2023   \n",
       "4  MANUTENCAO E CONSERVACAO DE EQUIPAMENTOS DE TIC  2023NE001681  2023   \n",
       "\n",
       "        DATA             FAV                      NOME_CREDOR UF_FAV  TIPO  \\\n",
       "0 2023-02-03  21331404000138   ORLEANS VIAGENS E TURISMO LTDA     SP  RPNP   \n",
       "1 2023-02-03  14807420000199              FACTO TURISMO  LTDA     SP  RPNP   \n",
       "2 2023-04-03  14807420000199              FACTO TURISMO  LTDA     SP  RPNP   \n",
       "3 2023-10-20  38680138000151  GESMAQ COMERCIO E SERVICOS LTDA     MG  RPNP   \n",
       "4 2023-10-20  38680138000151  GESMAQ COMERCIO E SERVICOS LTDA     MG  RPNP   \n",
       "\n",
       "   DIAS UF_UG MOD_LIC TIPO_NE RP                  NOME_RP     UO  \\\n",
       "0   676    MG  PREGAO  GLOBAL  2  PRIMARIO DISCRICIONARIO  52121   \n",
       "1   676    MG  PREGAO  GLOBAL  2  PRIMARIO DISCRICIONARIO  52121   \n",
       "2   617    MG  PREGAO  GLOBAL  2  PRIMARIO DISCRICIONARIO  52121   \n",
       "3   417    MG  PREGAO  GLOBAL  2  PRIMARIO DISCRICIONARIO  52921   \n",
       "4   417    MG  PREGAO  GLOBAL  2  PRIMARIO DISCRICIONARIO  52921   \n",
       "\n",
       "               NOME_UO  A_LIQUIDAR  LIQUIDADO_A_PAGAR  TOTAL_A_PAGAR      PAGO  \n",
       "0  COMANDO DO EXERCITO       68.87             119.88         188.75   9629.00  \n",
       "1  COMANDO DO EXERCITO     3236.21               0.00        3236.21  19261.89  \n",
       "2  COMANDO DO EXERCITO      330.22               0.00         330.22   3828.26  \n",
       "3    FUNDO DO EXERCITO     5543.33               0.00        5543.33  27716.65  \n",
       "4    FUNDO DO EXERCITO     5902.08            5902.08       11804.16  23608.32  "
      ]
     },
     "execution_count": 33,
     "metadata": {},
     "output_type": "execute_result"
    }
   ],
   "source": [
    "cols = ['UG','NOME_ACAO', 'NOME_UGR', 'PI',\n",
    "       'NOME_PI', 'ND', 'NOME_ND', 'NDSI', 'NOME_NDSI', 'NE', 'ANO', 'DATA',\n",
    "       'FAV', 'NOME_CREDOR', 'UF_FAV', 'TIPO', 'DIAS', 'UF_UG',\n",
    "       'MOD_LIC', 'TIPO_NE', 'RP', 'NOME_RP', 'UO', 'NOME_UO', 'A_LIQUIDAR',\n",
    "       'LIQUIDADO_A_PAGAR', 'TOTAL_A_PAGAR', 'PAGO']\n",
    "\n",
    "df_liquidar.loc[:, cols].head()"
   ]
  },
  {
   "cell_type": "code",
   "execution_count": 34,
   "metadata": {},
   "outputs": [],
   "source": [
    "df_liquidar.to_excel('empenhos_2024_liquidar.xlsx')"
   ]
  },
  {
   "cell_type": "code",
   "execution_count": 35,
   "metadata": {},
   "outputs": [],
   "source": [
    "df_empenhos_mais_60_dias = df_teste[(df_teste['DIAS'] >= 60)& (df_teste['A_LIQUIDAR'] != 0)].sort_values(by=\"A_LIQUIDAR\", ascending=False)\n",
    "\n",
    "df_empenhos_mais_60_dias.to_excel('empenhos_mais_60_dias.xlsx')"
   ]
  },
  {
   "cell_type": "code",
   "execution_count": 36,
   "metadata": {},
   "outputs": [],
   "source": [
    "df_ensino = df_teste[df_teste['AÇÃO'] == '8965']"
   ]
  },
  {
   "cell_type": "code",
   "execution_count": 37,
   "metadata": {},
   "outputs": [
    {
     "name": "stdout",
     "output_type": "stream",
     "text": [
      "O total pago pela ESA até o momento foi: R$ 1.864.095,94\n",
      "O total de saldo a liquidar pela ESA até o momento foi: R$ 1.528.558,37\n",
      "O total de saldo liquidado a pagar pela ESA até o momento foi: R$ 87.640,22\n",
      "O total de saldo a pagar pela ESA até o momento foi: R$ 1.616.198,59\n"
     ]
    }
   ],
   "source": [
    "total_pago_ensino = df_ensino['PAGO'].sum().round(2)\n",
    "total_a_liquidar_ensino = df_ensino['A_LIQUIDAR'].sum().round(2)\n",
    "total_liquidado_a_pagar_ensino = df_ensino['LIQUIDADO_A_PAGAR'].sum().round(2)\n",
    "total_a_pagar_ensino = df_ensino['TOTAL_A_PAGAR'].sum().round(2)\n",
    "\n",
    "\n",
    "print(f'O total pago pela ESA até o momento foi: {locale.currency(total_pago_ensino, grouping=True)}')\n",
    "print(f'O total de saldo a liquidar pela ESA até o momento foi: {locale.currency(total_a_liquidar_ensino, grouping=True)}')\n",
    "print(f'O total de saldo liquidado a pagar pela ESA até o momento foi: {locale.currency(total_liquidado_a_pagar_ensino, grouping=True)}')\n",
    "print(f'O total de saldo a pagar pela ESA até o momento foi: {locale.currency(total_a_pagar_ensino, grouping=True)}')"
   ]
  },
  {
   "cell_type": "code",
   "execution_count": 38,
   "metadata": {},
   "outputs": [
    {
     "data": {
      "text/html": [
       "<div>\n",
       "<style scoped>\n",
       "    .dataframe tbody tr th:only-of-type {\n",
       "        vertical-align: middle;\n",
       "    }\n",
       "\n",
       "    .dataframe tbody tr th {\n",
       "        vertical-align: top;\n",
       "    }\n",
       "\n",
       "    .dataframe thead th {\n",
       "        text-align: right;\n",
       "    }\n",
       "</style>\n",
       "<table border=\"1\" class=\"dataframe\">\n",
       "  <thead>\n",
       "    <tr style=\"text-align: right;\">\n",
       "      <th></th>\n",
       "      <th>UG</th>\n",
       "      <th>SIGLA</th>\n",
       "      <th>CGCFEX</th>\n",
       "      <th>RM</th>\n",
       "      <th>COMANDO</th>\n",
       "      <th>CIDADE</th>\n",
       "      <th>UF</th>\n",
       "      <th>PROGRAMA</th>\n",
       "      <th>AÇÃO</th>\n",
       "      <th>NOME_ACAO</th>\n",
       "      <th>UGR</th>\n",
       "      <th>NOME_UGR</th>\n",
       "      <th>PTRES</th>\n",
       "      <th>PI</th>\n",
       "      <th>RADICAL_4_PI</th>\n",
       "      <th>MEIO_3_PI</th>\n",
       "      <th>SUFIXO_4_PI</th>\n",
       "      <th>NOME_PI</th>\n",
       "      <th>ND</th>\n",
       "      <th>NOME_ND</th>\n",
       "      <th>NDSI</th>\n",
       "      <th>NOME_NDSI</th>\n",
       "      <th>NE</th>\n",
       "      <th>ANO</th>\n",
       "      <th>DATA</th>\n",
       "      <th>CHAVE</th>\n",
       "      <th>FAV</th>\n",
       "      <th>NOME_CREDOR</th>\n",
       "      <th>UF_FAV</th>\n",
       "      <th>TIPO</th>\n",
       "      <th>DIAS</th>\n",
       "      <th>UF_UG</th>\n",
       "      <th>FONTE</th>\n",
       "      <th>MOD_LIC</th>\n",
       "      <th>TIPO_NE</th>\n",
       "      <th>RP</th>\n",
       "      <th>NOME_RP</th>\n",
       "      <th>TIPO_CREDITO</th>\n",
       "      <th>NOME_TIPO_CREDITO</th>\n",
       "      <th>PO</th>\n",
       "      <th>AUTOR_EMENDA</th>\n",
       "      <th>NOME_AUTOR_EMENDA</th>\n",
       "      <th>LOCAL</th>\n",
       "      <th>NOME_UO</th>\n",
       "      <th>UO</th>\n",
       "      <th>A_LIQUIDAR</th>\n",
       "      <th>LIQUIDADO_A_PAGAR</th>\n",
       "      <th>TOTAL_A_PAGAR</th>\n",
       "      <th>PAGO</th>\n",
       "    </tr>\n",
       "  </thead>\n",
       "  <tbody>\n",
       "    <tr>\n",
       "      <th>2548</th>\n",
       "      <td>160129</td>\n",
       "      <td>ESA</td>\n",
       "      <td>4º CGCFEx</td>\n",
       "      <td>4ª RM</td>\n",
       "      <td>CML</td>\n",
       "      <td>Três Corações</td>\n",
       "      <td>MG</td>\n",
       "      <td>6112</td>\n",
       "      <td>8965</td>\n",
       "      <td>CAPACITACAO PROFISSIONAL MILITAR DO E</td>\n",
       "      <td>160503</td>\n",
       "      <td>DECEX/GESTOR</td>\n",
       "      <td>232082</td>\n",
       "      <td>C4ENMILCAPE</td>\n",
       "      <td>C4EN</td>\n",
       "      <td>MIL</td>\n",
       "      <td>CAPE</td>\n",
       "      <td>CAPACITACAO DE PESSOAL</td>\n",
       "      <td>339033</td>\n",
       "      <td>PASSAGENS E DESPESAS COM LOCOMOCAO</td>\n",
       "      <td>33903309</td>\n",
       "      <td>TRANSPORTE DE SERVIDORES</td>\n",
       "      <td>2024NE000810</td>\n",
       "      <td>2024</td>\n",
       "      <td>2024-07-03</td>\n",
       "      <td>160129000012024NE000810</td>\n",
       "      <td>05824788000174</td>\n",
       "      <td>EMPRESA DE TRANSPORTES KOPERECK LTDA</td>\n",
       "      <td>RS</td>\n",
       "      <td>ANO</td>\n",
       "      <td>160</td>\n",
       "      <td>MG</td>\n",
       "      <td>1000000000</td>\n",
       "      <td>PREGAO</td>\n",
       "      <td>GLOBAL</td>\n",
       "      <td>2</td>\n",
       "      <td>PRIMARIO DISCRICIONARIO</td>\n",
       "      <td>A</td>\n",
       "      <td>INICIAL (LOA)</td>\n",
       "      <td>0000</td>\n",
       "      <td>000000000000</td>\n",
       "      <td>SEM EMENDA</td>\n",
       "      <td>ESCOLA DE SARGENTOS DAS ARMAS - AV. SETE DE SE...</td>\n",
       "      <td>COMANDO DO EXERCITO</td>\n",
       "      <td>52121</td>\n",
       "      <td>485091.90</td>\n",
       "      <td>565.97</td>\n",
       "      <td>485657.87</td>\n",
       "      <td>264344.65</td>\n",
       "    </tr>\n",
       "    <tr>\n",
       "      <th>2550</th>\n",
       "      <td>160129</td>\n",
       "      <td>ESA</td>\n",
       "      <td>4º CGCFEx</td>\n",
       "      <td>4ª RM</td>\n",
       "      <td>CML</td>\n",
       "      <td>Três Corações</td>\n",
       "      <td>MG</td>\n",
       "      <td>6112</td>\n",
       "      <td>8965</td>\n",
       "      <td>CAPACITACAO PROFISSIONAL MILITAR DO E</td>\n",
       "      <td>160503</td>\n",
       "      <td>DECEX/GESTOR</td>\n",
       "      <td>232082</td>\n",
       "      <td>C4ENMILCAPE</td>\n",
       "      <td>C4EN</td>\n",
       "      <td>MIL</td>\n",
       "      <td>CAPE</td>\n",
       "      <td>CAPACITACAO DE PESSOAL</td>\n",
       "      <td>339033</td>\n",
       "      <td>PASSAGENS E DESPESAS COM LOCOMOCAO</td>\n",
       "      <td>33903309</td>\n",
       "      <td>TRANSPORTE DE SERVIDORES</td>\n",
       "      <td>2024NE001947</td>\n",
       "      <td>2024</td>\n",
       "      <td>2024-11-13</td>\n",
       "      <td>160129000012024NE001947</td>\n",
       "      <td>05824788000174</td>\n",
       "      <td>EMPRESA DE TRANSPORTES KOPERECK LTDA</td>\n",
       "      <td>RS</td>\n",
       "      <td>ANO</td>\n",
       "      <td>27</td>\n",
       "      <td>MG</td>\n",
       "      <td>1000000000</td>\n",
       "      <td>PREGAO</td>\n",
       "      <td>GLOBAL</td>\n",
       "      <td>2</td>\n",
       "      <td>PRIMARIO DISCRICIONARIO</td>\n",
       "      <td>A</td>\n",
       "      <td>INICIAL (LOA)</td>\n",
       "      <td>0000</td>\n",
       "      <td>000000000000</td>\n",
       "      <td>SEM EMENDA</td>\n",
       "      <td>ESCOLA DE SARGENTOS DAS ARMAS - AV. SETE DE SE...</td>\n",
       "      <td>COMANDO DO EXERCITO</td>\n",
       "      <td>52121</td>\n",
       "      <td>199240.90</td>\n",
       "      <td>0.00</td>\n",
       "      <td>199240.90</td>\n",
       "      <td>0.00</td>\n",
       "    </tr>\n",
       "    <tr>\n",
       "      <th>2557</th>\n",
       "      <td>160129</td>\n",
       "      <td>ESA</td>\n",
       "      <td>4º CGCFEx</td>\n",
       "      <td>4ª RM</td>\n",
       "      <td>CML</td>\n",
       "      <td>Três Corações</td>\n",
       "      <td>MG</td>\n",
       "      <td>6112</td>\n",
       "      <td>8965</td>\n",
       "      <td>CAPACITACAO PROFISSIONAL MILITAR DO E</td>\n",
       "      <td>160503</td>\n",
       "      <td>DECEX/GESTOR</td>\n",
       "      <td>232082</td>\n",
       "      <td>C4ENMILCAPE</td>\n",
       "      <td>C4EN</td>\n",
       "      <td>MIL</td>\n",
       "      <td>CAPE</td>\n",
       "      <td>CAPACITACAO DE PESSOAL</td>\n",
       "      <td>339039</td>\n",
       "      <td>OUTROS SERVICOS DE TERCEIROS - PESSOA JURIDICA</td>\n",
       "      <td>33903922</td>\n",
       "      <td>EXPOSICOES, CONGRESSOS E CONFERENCIAS</td>\n",
       "      <td>2024NE001570</td>\n",
       "      <td>2024</td>\n",
       "      <td>2024-11-07</td>\n",
       "      <td>160129000012024NE001570</td>\n",
       "      <td>31741500000108</td>\n",
       "      <td>ELETROVIX COMERCIO IMPORTACAO E SERVICOS LTDA</td>\n",
       "      <td>ES</td>\n",
       "      <td>ANO</td>\n",
       "      <td>33</td>\n",
       "      <td>MG</td>\n",
       "      <td>1000000000</td>\n",
       "      <td>PREGAO</td>\n",
       "      <td>GLOBAL</td>\n",
       "      <td>2</td>\n",
       "      <td>PRIMARIO DISCRICIONARIO</td>\n",
       "      <td>A</td>\n",
       "      <td>INICIAL (LOA)</td>\n",
       "      <td>0000</td>\n",
       "      <td>000000000000</td>\n",
       "      <td>SEM EMENDA</td>\n",
       "      <td>ESCOLA DE SARGENTOS DAS ARMAS - AV. SETE DE SE...</td>\n",
       "      <td>COMANDO DO EXERCITO</td>\n",
       "      <td>52121</td>\n",
       "      <td>173210.00</td>\n",
       "      <td>0.00</td>\n",
       "      <td>173210.00</td>\n",
       "      <td>0.00</td>\n",
       "    </tr>\n",
       "    <tr>\n",
       "      <th>2560</th>\n",
       "      <td>160129</td>\n",
       "      <td>ESA</td>\n",
       "      <td>4º CGCFEx</td>\n",
       "      <td>4ª RM</td>\n",
       "      <td>CML</td>\n",
       "      <td>Três Corações</td>\n",
       "      <td>MG</td>\n",
       "      <td>6112</td>\n",
       "      <td>8965</td>\n",
       "      <td>CAPACITACAO PROFISSIONAL MILITAR DO E</td>\n",
       "      <td>160503</td>\n",
       "      <td>DECEX/GESTOR</td>\n",
       "      <td>232082</td>\n",
       "      <td>C4ENMILCAPE</td>\n",
       "      <td>C4EN</td>\n",
       "      <td>MIL</td>\n",
       "      <td>CAPE</td>\n",
       "      <td>CAPACITACAO DE PESSOAL</td>\n",
       "      <td>339039</td>\n",
       "      <td>OUTROS SERVICOS DE TERCEIROS - PESSOA JURIDICA</td>\n",
       "      <td>33903946</td>\n",
       "      <td>SERVICOS DOMESTICOS</td>\n",
       "      <td>2024NE002564</td>\n",
       "      <td>2024</td>\n",
       "      <td>2024-12-06</td>\n",
       "      <td>160129000012024NE002564</td>\n",
       "      <td>15272846000158</td>\n",
       "      <td>PS SERVICOS DE LAVANDERIA LTDA</td>\n",
       "      <td>RN</td>\n",
       "      <td>ANO</td>\n",
       "      <td>4</td>\n",
       "      <td>MG</td>\n",
       "      <td>1000000000</td>\n",
       "      <td>PREGAO</td>\n",
       "      <td>GLOBAL</td>\n",
       "      <td>2</td>\n",
       "      <td>PRIMARIO DISCRICIONARIO</td>\n",
       "      <td>A</td>\n",
       "      <td>INICIAL (LOA)</td>\n",
       "      <td>0000</td>\n",
       "      <td>000000000000</td>\n",
       "      <td>SEM EMENDA</td>\n",
       "      <td>ESCOLA DE SARGENTOS DAS ARMAS - AV. SETE DE SE...</td>\n",
       "      <td>COMANDO DO EXERCITO</td>\n",
       "      <td>52121</td>\n",
       "      <td>164024.64</td>\n",
       "      <td>0.00</td>\n",
       "      <td>164024.64</td>\n",
       "      <td>0.00</td>\n",
       "    </tr>\n",
       "    <tr>\n",
       "      <th>2555</th>\n",
       "      <td>160129</td>\n",
       "      <td>ESA</td>\n",
       "      <td>4º CGCFEx</td>\n",
       "      <td>4ª RM</td>\n",
       "      <td>CML</td>\n",
       "      <td>Três Corações</td>\n",
       "      <td>MG</td>\n",
       "      <td>6112</td>\n",
       "      <td>8965</td>\n",
       "      <td>CAPACITACAO PROFISSIONAL MILITAR DO E</td>\n",
       "      <td>160503</td>\n",
       "      <td>DECEX/GESTOR</td>\n",
       "      <td>232082</td>\n",
       "      <td>C4ENMILCAPE</td>\n",
       "      <td>C4EN</td>\n",
       "      <td>MIL</td>\n",
       "      <td>CAPE</td>\n",
       "      <td>CAPACITACAO DE PESSOAL</td>\n",
       "      <td>339039</td>\n",
       "      <td>OUTROS SERVICOS DE TERCEIROS - PESSOA JURIDICA</td>\n",
       "      <td>33903916</td>\n",
       "      <td>MANUTENCAO E CONSERV. DE BENS IMOVEIS</td>\n",
       "      <td>2024NE002565</td>\n",
       "      <td>2024</td>\n",
       "      <td>2024-12-06</td>\n",
       "      <td>160129000012024NE002565</td>\n",
       "      <td>53202768000104</td>\n",
       "      <td>TOALL COMERCIO E SERVICOS LTDA.</td>\n",
       "      <td>SP</td>\n",
       "      <td>ANO</td>\n",
       "      <td>4</td>\n",
       "      <td>MG</td>\n",
       "      <td>1000000000</td>\n",
       "      <td>PREGAO</td>\n",
       "      <td>GLOBAL</td>\n",
       "      <td>2</td>\n",
       "      <td>PRIMARIO DISCRICIONARIO</td>\n",
       "      <td>A</td>\n",
       "      <td>INICIAL (LOA)</td>\n",
       "      <td>0000</td>\n",
       "      <td>000000000000</td>\n",
       "      <td>SEM EMENDA</td>\n",
       "      <td>ESCOLA DE SARGENTOS DAS ARMAS - AV. SETE DE SE...</td>\n",
       "      <td>COMANDO DO EXERCITO</td>\n",
       "      <td>52121</td>\n",
       "      <td>128001.30</td>\n",
       "      <td>0.00</td>\n",
       "      <td>128001.30</td>\n",
       "      <td>0.00</td>\n",
       "    </tr>\n",
       "  </tbody>\n",
       "</table>\n",
       "</div>"
      ],
      "text/plain": [
       "          UG SIGLA     CGCFEX     RM COMANDO         CIDADE  UF PROGRAMA  \\\n",
       "2548  160129   ESA  4º CGCFEx  4ª RM     CML  Três Corações  MG     6112   \n",
       "2550  160129   ESA  4º CGCFEx  4ª RM     CML  Três Corações  MG     6112   \n",
       "2557  160129   ESA  4º CGCFEx  4ª RM     CML  Três Corações  MG     6112   \n",
       "2560  160129   ESA  4º CGCFEx  4ª RM     CML  Três Corações  MG     6112   \n",
       "2555  160129   ESA  4º CGCFEx  4ª RM     CML  Três Corações  MG     6112   \n",
       "\n",
       "      AÇÃO                              NOME_ACAO     UGR      NOME_UGR  \\\n",
       "2548  8965  CAPACITACAO PROFISSIONAL MILITAR DO E  160503  DECEX/GESTOR   \n",
       "2550  8965  CAPACITACAO PROFISSIONAL MILITAR DO E  160503  DECEX/GESTOR   \n",
       "2557  8965  CAPACITACAO PROFISSIONAL MILITAR DO E  160503  DECEX/GESTOR   \n",
       "2560  8965  CAPACITACAO PROFISSIONAL MILITAR DO E  160503  DECEX/GESTOR   \n",
       "2555  8965  CAPACITACAO PROFISSIONAL MILITAR DO E  160503  DECEX/GESTOR   \n",
       "\n",
       "       PTRES           PI RADICAL_4_PI MEIO_3_PI SUFIXO_4_PI  \\\n",
       "2548  232082  C4ENMILCAPE         C4EN       MIL        CAPE   \n",
       "2550  232082  C4ENMILCAPE         C4EN       MIL        CAPE   \n",
       "2557  232082  C4ENMILCAPE         C4EN       MIL        CAPE   \n",
       "2560  232082  C4ENMILCAPE         C4EN       MIL        CAPE   \n",
       "2555  232082  C4ENMILCAPE         C4EN       MIL        CAPE   \n",
       "\n",
       "                     NOME_PI      ND  \\\n",
       "2548  CAPACITACAO DE PESSOAL  339033   \n",
       "2550  CAPACITACAO DE PESSOAL  339033   \n",
       "2557  CAPACITACAO DE PESSOAL  339039   \n",
       "2560  CAPACITACAO DE PESSOAL  339039   \n",
       "2555  CAPACITACAO DE PESSOAL  339039   \n",
       "\n",
       "                                             NOME_ND      NDSI  \\\n",
       "2548              PASSAGENS E DESPESAS COM LOCOMOCAO  33903309   \n",
       "2550              PASSAGENS E DESPESAS COM LOCOMOCAO  33903309   \n",
       "2557  OUTROS SERVICOS DE TERCEIROS - PESSOA JURIDICA  33903922   \n",
       "2560  OUTROS SERVICOS DE TERCEIROS - PESSOA JURIDICA  33903946   \n",
       "2555  OUTROS SERVICOS DE TERCEIROS - PESSOA JURIDICA  33903916   \n",
       "\n",
       "                                  NOME_NDSI            NE   ANO       DATA  \\\n",
       "2548               TRANSPORTE DE SERVIDORES  2024NE000810  2024 2024-07-03   \n",
       "2550               TRANSPORTE DE SERVIDORES  2024NE001947  2024 2024-11-13   \n",
       "2557  EXPOSICOES, CONGRESSOS E CONFERENCIAS  2024NE001570  2024 2024-11-07   \n",
       "2560                    SERVICOS DOMESTICOS  2024NE002564  2024 2024-12-06   \n",
       "2555  MANUTENCAO E CONSERV. DE BENS IMOVEIS  2024NE002565  2024 2024-12-06   \n",
       "\n",
       "                        CHAVE             FAV  \\\n",
       "2548  160129000012024NE000810  05824788000174   \n",
       "2550  160129000012024NE001947  05824788000174   \n",
       "2557  160129000012024NE001570  31741500000108   \n",
       "2560  160129000012024NE002564  15272846000158   \n",
       "2555  160129000012024NE002565  53202768000104   \n",
       "\n",
       "                                        NOME_CREDOR UF_FAV TIPO  DIAS UF_UG  \\\n",
       "2548           EMPRESA DE TRANSPORTES KOPERECK LTDA     RS  ANO   160    MG   \n",
       "2550           EMPRESA DE TRANSPORTES KOPERECK LTDA     RS  ANO    27    MG   \n",
       "2557  ELETROVIX COMERCIO IMPORTACAO E SERVICOS LTDA     ES  ANO    33    MG   \n",
       "2560                 PS SERVICOS DE LAVANDERIA LTDA     RN  ANO     4    MG   \n",
       "2555                TOALL COMERCIO E SERVICOS LTDA.     SP  ANO     4    MG   \n",
       "\n",
       "           FONTE MOD_LIC TIPO_NE RP                  NOME_RP TIPO_CREDITO  \\\n",
       "2548  1000000000  PREGAO  GLOBAL  2  PRIMARIO DISCRICIONARIO            A   \n",
       "2550  1000000000  PREGAO  GLOBAL  2  PRIMARIO DISCRICIONARIO            A   \n",
       "2557  1000000000  PREGAO  GLOBAL  2  PRIMARIO DISCRICIONARIO            A   \n",
       "2560  1000000000  PREGAO  GLOBAL  2  PRIMARIO DISCRICIONARIO            A   \n",
       "2555  1000000000  PREGAO  GLOBAL  2  PRIMARIO DISCRICIONARIO            A   \n",
       "\n",
       "     NOME_TIPO_CREDITO    PO  AUTOR_EMENDA NOME_AUTOR_EMENDA  \\\n",
       "2548     INICIAL (LOA)  0000  000000000000        SEM EMENDA   \n",
       "2550     INICIAL (LOA)  0000  000000000000        SEM EMENDA   \n",
       "2557     INICIAL (LOA)  0000  000000000000        SEM EMENDA   \n",
       "2560     INICIAL (LOA)  0000  000000000000        SEM EMENDA   \n",
       "2555     INICIAL (LOA)  0000  000000000000        SEM EMENDA   \n",
       "\n",
       "                                                  LOCAL              NOME_UO  \\\n",
       "2548  ESCOLA DE SARGENTOS DAS ARMAS - AV. SETE DE SE...  COMANDO DO EXERCITO   \n",
       "2550  ESCOLA DE SARGENTOS DAS ARMAS - AV. SETE DE SE...  COMANDO DO EXERCITO   \n",
       "2557  ESCOLA DE SARGENTOS DAS ARMAS - AV. SETE DE SE...  COMANDO DO EXERCITO   \n",
       "2560  ESCOLA DE SARGENTOS DAS ARMAS - AV. SETE DE SE...  COMANDO DO EXERCITO   \n",
       "2555  ESCOLA DE SARGENTOS DAS ARMAS - AV. SETE DE SE...  COMANDO DO EXERCITO   \n",
       "\n",
       "         UO  A_LIQUIDAR  LIQUIDADO_A_PAGAR  TOTAL_A_PAGAR       PAGO  \n",
       "2548  52121   485091.90             565.97      485657.87  264344.65  \n",
       "2550  52121   199240.90               0.00      199240.90       0.00  \n",
       "2557  52121   173210.00               0.00      173210.00       0.00  \n",
       "2560  52121   164024.64               0.00      164024.64       0.00  \n",
       "2555  52121   128001.30               0.00      128001.30       0.00  "
      ]
     },
     "execution_count": 38,
     "metadata": {},
     "output_type": "execute_result"
    }
   ],
   "source": [
    "df_ensino.sort_values(by='A_LIQUIDAR', ascending=False).head(5)"
   ]
  },
  {
   "cell_type": "code",
   "execution_count": 39,
   "metadata": {},
   "outputs": [],
   "source": [
    "cols = ['ND', 'A_LIQUIDAR', 'LIQUIDADO_A_PAGAR', 'PAGO']\n",
    "\n",
    "df_aux = df_ensino.loc[:, cols].groupby('ND').sum().sort_values(by= 'A_LIQUIDAR', ascending=False).reset_index()\n",
    "#df_aux = df_aux[df_aux['A_LIQUIDAR'] > 0]\n",
    "\n",
    "df_aux.to_excel('ensino_recursos_2024.xlsx')"
   ]
  },
  {
   "cell_type": "code",
   "execution_count": 40,
   "metadata": {},
   "outputs": [
    {
     "name": "stdout",
     "output_type": "stream",
     "text": [
      "O total pago pela ESA até o momento foi: R$ 1.602.457,93\n",
      "O total de saldo a liquidar pela ESA até o momento foi: R$ 1.229.142,22\n",
      "O total de saldo liquidado a pagar pela ESA até o momento foi: R$ 2.913,67\n",
      "O total de saldo a pagar pela ESA até o momento foi: R$ 1.232.055,89\n"
     ]
    }
   ],
   "source": [
    "df_transporte = df_teste[df_teste['ND'] == '339033']\n",
    "\n",
    "total_pago_ensino = df_transporte['PAGO'].sum().round(2)\n",
    "total_a_liquidar_ensino = df_transporte['A_LIQUIDAR'].sum().round(2)\n",
    "total_liquidado_a_pagar_ensino = df_transporte['LIQUIDADO_A_PAGAR'].sum().round(2)\n",
    "total_a_pagar_ensino = df_transporte['TOTAL_A_PAGAR'].sum().round(2)\n",
    "\n",
    "\n",
    "print(f'O total pago pela ESA até o momento foi: {locale.currency(total_pago_ensino, grouping=True)}')\n",
    "print(f'O total de saldo a liquidar pela ESA até o momento foi: {locale.currency(total_a_liquidar_ensino, grouping=True)}')\n",
    "print(f'O total de saldo liquidado a pagar pela ESA até o momento foi: {locale.currency(total_liquidado_a_pagar_ensino, grouping=True)}')\n",
    "print(f'O total de saldo a pagar pela ESA até o momento foi: {locale.currency(total_a_pagar_ensino, grouping=True)}')"
   ]
  },
  {
   "cell_type": "code",
   "execution_count": 41,
   "metadata": {},
   "outputs": [],
   "source": [
    "df_transporte.to_csv('nd33_2024.csv')"
   ]
  },
  {
   "cell_type": "code",
   "execution_count": 42,
   "metadata": {},
   "outputs": [],
   "source": [
    "df_discricionarias = df_teste[(df_teste['AÇÃO'] == '2000') & (df_teste['A_LIQUIDAR'] != 0)]"
   ]
  },
  {
   "cell_type": "code",
   "execution_count": 43,
   "metadata": {},
   "outputs": [
    {
     "data": {
      "text/html": [
       "<div>\n",
       "<style scoped>\n",
       "    .dataframe tbody tr th:only-of-type {\n",
       "        vertical-align: middle;\n",
       "    }\n",
       "\n",
       "    .dataframe tbody tr th {\n",
       "        vertical-align: top;\n",
       "    }\n",
       "\n",
       "    .dataframe thead th {\n",
       "        text-align: right;\n",
       "    }\n",
       "</style>\n",
       "<table border=\"1\" class=\"dataframe\">\n",
       "  <thead>\n",
       "    <tr style=\"text-align: right;\">\n",
       "      <th></th>\n",
       "      <th>UG</th>\n",
       "      <th>SIGLA</th>\n",
       "      <th>CGCFEX</th>\n",
       "      <th>RM</th>\n",
       "      <th>COMANDO</th>\n",
       "      <th>CIDADE</th>\n",
       "      <th>UF</th>\n",
       "      <th>PROGRAMA</th>\n",
       "      <th>AÇÃO</th>\n",
       "      <th>NOME_ACAO</th>\n",
       "      <th>UGR</th>\n",
       "      <th>NOME_UGR</th>\n",
       "      <th>PTRES</th>\n",
       "      <th>PI</th>\n",
       "      <th>RADICAL_4_PI</th>\n",
       "      <th>MEIO_3_PI</th>\n",
       "      <th>SUFIXO_4_PI</th>\n",
       "      <th>NOME_PI</th>\n",
       "      <th>ND</th>\n",
       "      <th>NOME_ND</th>\n",
       "      <th>NDSI</th>\n",
       "      <th>NOME_NDSI</th>\n",
       "      <th>NE</th>\n",
       "      <th>ANO</th>\n",
       "      <th>DATA</th>\n",
       "      <th>CHAVE</th>\n",
       "      <th>FAV</th>\n",
       "      <th>NOME_CREDOR</th>\n",
       "      <th>UF_FAV</th>\n",
       "      <th>TIPO</th>\n",
       "      <th>DIAS</th>\n",
       "      <th>UF_UG</th>\n",
       "      <th>FONTE</th>\n",
       "      <th>MOD_LIC</th>\n",
       "      <th>TIPO_NE</th>\n",
       "      <th>RP</th>\n",
       "      <th>NOME_RP</th>\n",
       "      <th>TIPO_CREDITO</th>\n",
       "      <th>NOME_TIPO_CREDITO</th>\n",
       "      <th>PO</th>\n",
       "      <th>AUTOR_EMENDA</th>\n",
       "      <th>NOME_AUTOR_EMENDA</th>\n",
       "      <th>LOCAL</th>\n",
       "      <th>NOME_UO</th>\n",
       "      <th>UO</th>\n",
       "      <th>A_LIQUIDAR</th>\n",
       "      <th>LIQUIDADO_A_PAGAR</th>\n",
       "      <th>TOTAL_A_PAGAR</th>\n",
       "      <th>PAGO</th>\n",
       "    </tr>\n",
       "  </thead>\n",
       "  <tbody>\n",
       "    <tr>\n",
       "      <th>580</th>\n",
       "      <td>160129</td>\n",
       "      <td>ESA</td>\n",
       "      <td>4º CGCFEx</td>\n",
       "      <td>4ª RM</td>\n",
       "      <td>CML</td>\n",
       "      <td>Três Corações</td>\n",
       "      <td>MG</td>\n",
       "      <td>6112</td>\n",
       "      <td>212O</td>\n",
       "      <td>MOVIMENTACAO DE MILITARES</td>\n",
       "      <td>160505</td>\n",
       "      <td>DGP</td>\n",
       "      <td>232007</td>\n",
       "      <td>D6DAATSLOCO</td>\n",
       "      <td>D6DA</td>\n",
       "      <td>ATS</td>\n",
       "      <td>LOCO</td>\n",
       "      <td>ATS - ATIVIDADES SETORIAIS</td>\n",
       "      <td>339033</td>\n",
       "      <td>PASSAGENS E DESPESAS COM LOCOMOCAO</td>\n",
       "      <td>33903304</td>\n",
       "      <td>MUDANCAS EM OBJETO DE SERVICO</td>\n",
       "      <td>2024NE000362</td>\n",
       "      <td>2024</td>\n",
       "      <td>2024-04-10</td>\n",
       "      <td>160129000012024NE000362</td>\n",
       "      <td>39644514000115</td>\n",
       "      <td>MULTI PRIME MUDANCAS E TRANSPORTES ESPECIAIS LTDA</td>\n",
       "      <td>GO</td>\n",
       "      <td>ANO</td>\n",
       "      <td>244</td>\n",
       "      <td>MG</td>\n",
       "      <td>1000000000</td>\n",
       "      <td>PREGAO</td>\n",
       "      <td>ESTIMATIVO</td>\n",
       "      <td>1</td>\n",
       "      <td>PRIMARIO OBRIGATORIO</td>\n",
       "      <td>A</td>\n",
       "      <td>INICIAL (LOA)</td>\n",
       "      <td>0000</td>\n",
       "      <td>000000000000</td>\n",
       "      <td>SEM EMENDA</td>\n",
       "      <td>ESCOLA DE SARGENTOS DAS ARMAS</td>\n",
       "      <td>COMANDO DO EXERCITO</td>\n",
       "      <td>52121</td>\n",
       "      <td>19850.00</td>\n",
       "      <td>0.0</td>\n",
       "      <td>19850.00</td>\n",
       "      <td>0.0</td>\n",
       "    </tr>\n",
       "    <tr>\n",
       "      <th>581</th>\n",
       "      <td>160129</td>\n",
       "      <td>ESA</td>\n",
       "      <td>4º CGCFEx</td>\n",
       "      <td>4ª RM</td>\n",
       "      <td>CML</td>\n",
       "      <td>Três Corações</td>\n",
       "      <td>MG</td>\n",
       "      <td>6112</td>\n",
       "      <td>212O</td>\n",
       "      <td>MOVIMENTACAO DE MILITARES</td>\n",
       "      <td>160505</td>\n",
       "      <td>DGP</td>\n",
       "      <td>232007</td>\n",
       "      <td>D6DAATSLOCO</td>\n",
       "      <td>D6DA</td>\n",
       "      <td>ATS</td>\n",
       "      <td>LOCO</td>\n",
       "      <td>ATS - ATIVIDADES SETORIAIS</td>\n",
       "      <td>339033</td>\n",
       "      <td>PASSAGENS E DESPESAS COM LOCOMOCAO</td>\n",
       "      <td>33903304</td>\n",
       "      <td>MUDANCAS EM OBJETO DE SERVICO</td>\n",
       "      <td>2024NE000717</td>\n",
       "      <td>2024</td>\n",
       "      <td>2024-06-20</td>\n",
       "      <td>160129000012024NE000717</td>\n",
       "      <td>39644514000115</td>\n",
       "      <td>MULTI PRIME MUDANCAS E TRANSPORTES ESPECIAIS LTDA</td>\n",
       "      <td>GO</td>\n",
       "      <td>ANO</td>\n",
       "      <td>173</td>\n",
       "      <td>MG</td>\n",
       "      <td>1000000000</td>\n",
       "      <td>PREGAO</td>\n",
       "      <td>ESTIMATIVO</td>\n",
       "      <td>1</td>\n",
       "      <td>PRIMARIO OBRIGATORIO</td>\n",
       "      <td>A</td>\n",
       "      <td>INICIAL (LOA)</td>\n",
       "      <td>0000</td>\n",
       "      <td>000000000000</td>\n",
       "      <td>SEM EMENDA</td>\n",
       "      <td>ESCOLA DE SARGENTOS DAS ARMAS</td>\n",
       "      <td>COMANDO DO EXERCITO</td>\n",
       "      <td>52121</td>\n",
       "      <td>19850.00</td>\n",
       "      <td>0.0</td>\n",
       "      <td>19850.00</td>\n",
       "      <td>0.0</td>\n",
       "    </tr>\n",
       "    <tr>\n",
       "      <th>582</th>\n",
       "      <td>160129</td>\n",
       "      <td>ESA</td>\n",
       "      <td>4º CGCFEx</td>\n",
       "      <td>4ª RM</td>\n",
       "      <td>CML</td>\n",
       "      <td>Três Corações</td>\n",
       "      <td>MG</td>\n",
       "      <td>6112</td>\n",
       "      <td>212O</td>\n",
       "      <td>MOVIMENTACAO DE MILITARES</td>\n",
       "      <td>160505</td>\n",
       "      <td>DGP</td>\n",
       "      <td>232007</td>\n",
       "      <td>D6DAATSLOCO</td>\n",
       "      <td>D6DA</td>\n",
       "      <td>ATS</td>\n",
       "      <td>LOCO</td>\n",
       "      <td>ATS - ATIVIDADES SETORIAIS</td>\n",
       "      <td>339033</td>\n",
       "      <td>PASSAGENS E DESPESAS COM LOCOMOCAO</td>\n",
       "      <td>33903304</td>\n",
       "      <td>MUDANCAS EM OBJETO DE SERVICO</td>\n",
       "      <td>2024NE000718</td>\n",
       "      <td>2024</td>\n",
       "      <td>2024-06-20</td>\n",
       "      <td>160129000012024NE000718</td>\n",
       "      <td>39644514000115</td>\n",
       "      <td>MULTI PRIME MUDANCAS E TRANSPORTES ESPECIAIS LTDA</td>\n",
       "      <td>GO</td>\n",
       "      <td>ANO</td>\n",
       "      <td>173</td>\n",
       "      <td>MG</td>\n",
       "      <td>1000000000</td>\n",
       "      <td>PREGAO</td>\n",
       "      <td>ESTIMATIVO</td>\n",
       "      <td>1</td>\n",
       "      <td>PRIMARIO OBRIGATORIO</td>\n",
       "      <td>A</td>\n",
       "      <td>INICIAL (LOA)</td>\n",
       "      <td>0000</td>\n",
       "      <td>000000000000</td>\n",
       "      <td>SEM EMENDA</td>\n",
       "      <td>ESCOLA DE SARGENTOS DAS ARMAS</td>\n",
       "      <td>COMANDO DO EXERCITO</td>\n",
       "      <td>52121</td>\n",
       "      <td>34684.00</td>\n",
       "      <td>0.0</td>\n",
       "      <td>34684.00</td>\n",
       "      <td>0.0</td>\n",
       "    </tr>\n",
       "    <tr>\n",
       "      <th>583</th>\n",
       "      <td>160129</td>\n",
       "      <td>ESA</td>\n",
       "      <td>4º CGCFEx</td>\n",
       "      <td>4ª RM</td>\n",
       "      <td>CML</td>\n",
       "      <td>Três Corações</td>\n",
       "      <td>MG</td>\n",
       "      <td>6112</td>\n",
       "      <td>212O</td>\n",
       "      <td>MOVIMENTACAO DE MILITARES</td>\n",
       "      <td>160505</td>\n",
       "      <td>DGP</td>\n",
       "      <td>232007</td>\n",
       "      <td>D6DAATSLOCO</td>\n",
       "      <td>D6DA</td>\n",
       "      <td>ATS</td>\n",
       "      <td>LOCO</td>\n",
       "      <td>ATS - ATIVIDADES SETORIAIS</td>\n",
       "      <td>339033</td>\n",
       "      <td>PASSAGENS E DESPESAS COM LOCOMOCAO</td>\n",
       "      <td>33903304</td>\n",
       "      <td>MUDANCAS EM OBJETO DE SERVICO</td>\n",
       "      <td>2024NE000719</td>\n",
       "      <td>2024</td>\n",
       "      <td>2024-06-20</td>\n",
       "      <td>160129000012024NE000719</td>\n",
       "      <td>39644514000115</td>\n",
       "      <td>MULTI PRIME MUDANCAS E TRANSPORTES ESPECIAIS LTDA</td>\n",
       "      <td>GO</td>\n",
       "      <td>ANO</td>\n",
       "      <td>173</td>\n",
       "      <td>MG</td>\n",
       "      <td>1000000000</td>\n",
       "      <td>PREGAO</td>\n",
       "      <td>ESTIMATIVO</td>\n",
       "      <td>1</td>\n",
       "      <td>PRIMARIO OBRIGATORIO</td>\n",
       "      <td>A</td>\n",
       "      <td>INICIAL (LOA)</td>\n",
       "      <td>0000</td>\n",
       "      <td>000000000000</td>\n",
       "      <td>SEM EMENDA</td>\n",
       "      <td>ESCOLA DE SARGENTOS DAS ARMAS</td>\n",
       "      <td>COMANDO DO EXERCITO</td>\n",
       "      <td>52121</td>\n",
       "      <td>50049.00</td>\n",
       "      <td>0.0</td>\n",
       "      <td>50049.00</td>\n",
       "      <td>0.0</td>\n",
       "    </tr>\n",
       "    <tr>\n",
       "      <th>584</th>\n",
       "      <td>160129</td>\n",
       "      <td>ESA</td>\n",
       "      <td>4º CGCFEx</td>\n",
       "      <td>4ª RM</td>\n",
       "      <td>CML</td>\n",
       "      <td>Três Corações</td>\n",
       "      <td>MG</td>\n",
       "      <td>6112</td>\n",
       "      <td>212O</td>\n",
       "      <td>MOVIMENTACAO DE MILITARES</td>\n",
       "      <td>160505</td>\n",
       "      <td>DGP</td>\n",
       "      <td>232007</td>\n",
       "      <td>D6DAATSLOCO</td>\n",
       "      <td>D6DA</td>\n",
       "      <td>ATS</td>\n",
       "      <td>LOCO</td>\n",
       "      <td>ATS - ATIVIDADES SETORIAIS</td>\n",
       "      <td>339033</td>\n",
       "      <td>PASSAGENS E DESPESAS COM LOCOMOCAO</td>\n",
       "      <td>33903304</td>\n",
       "      <td>MUDANCAS EM OBJETO DE SERVICO</td>\n",
       "      <td>2024NE000742</td>\n",
       "      <td>2024</td>\n",
       "      <td>2024-06-25</td>\n",
       "      <td>160129000012024NE000742</td>\n",
       "      <td>39644514000115</td>\n",
       "      <td>MULTI PRIME MUDANCAS E TRANSPORTES ESPECIAIS LTDA</td>\n",
       "      <td>GO</td>\n",
       "      <td>ANO</td>\n",
       "      <td>168</td>\n",
       "      <td>MG</td>\n",
       "      <td>1000000000</td>\n",
       "      <td>PREGAO</td>\n",
       "      <td>ESTIMATIVO</td>\n",
       "      <td>1</td>\n",
       "      <td>PRIMARIO OBRIGATORIO</td>\n",
       "      <td>A</td>\n",
       "      <td>INICIAL (LOA)</td>\n",
       "      <td>0000</td>\n",
       "      <td>000000000000</td>\n",
       "      <td>SEM EMENDA</td>\n",
       "      <td>ESCOLA DE SARGENTOS DAS ARMAS</td>\n",
       "      <td>COMANDO DO EXERCITO</td>\n",
       "      <td>52121</td>\n",
       "      <td>21850.00</td>\n",
       "      <td>0.0</td>\n",
       "      <td>21850.00</td>\n",
       "      <td>0.0</td>\n",
       "    </tr>\n",
       "    <tr>\n",
       "      <th>585</th>\n",
       "      <td>160129</td>\n",
       "      <td>ESA</td>\n",
       "      <td>4º CGCFEx</td>\n",
       "      <td>4ª RM</td>\n",
       "      <td>CML</td>\n",
       "      <td>Três Corações</td>\n",
       "      <td>MG</td>\n",
       "      <td>6112</td>\n",
       "      <td>212O</td>\n",
       "      <td>MOVIMENTACAO DE MILITARES</td>\n",
       "      <td>160505</td>\n",
       "      <td>DGP</td>\n",
       "      <td>232007</td>\n",
       "      <td>D6DAATSLOCO</td>\n",
       "      <td>D6DA</td>\n",
       "      <td>ATS</td>\n",
       "      <td>LOCO</td>\n",
       "      <td>ATS - ATIVIDADES SETORIAIS</td>\n",
       "      <td>339033</td>\n",
       "      <td>PASSAGENS E DESPESAS COM LOCOMOCAO</td>\n",
       "      <td>33903304</td>\n",
       "      <td>MUDANCAS EM OBJETO DE SERVICO</td>\n",
       "      <td>2024NE000842</td>\n",
       "      <td>2024</td>\n",
       "      <td>2024-07-14</td>\n",
       "      <td>160129000012024NE000842</td>\n",
       "      <td>39644514000115</td>\n",
       "      <td>MULTI PRIME MUDANCAS E TRANSPORTES ESPECIAIS LTDA</td>\n",
       "      <td>GO</td>\n",
       "      <td>ANO</td>\n",
       "      <td>149</td>\n",
       "      <td>MG</td>\n",
       "      <td>1000000000</td>\n",
       "      <td>PREGAO</td>\n",
       "      <td>ESTIMATIVO</td>\n",
       "      <td>1</td>\n",
       "      <td>PRIMARIO OBRIGATORIO</td>\n",
       "      <td>A</td>\n",
       "      <td>INICIAL (LOA)</td>\n",
       "      <td>0000</td>\n",
       "      <td>000000000000</td>\n",
       "      <td>SEM EMENDA</td>\n",
       "      <td>ESCOLA DE SARGENTOS DAS ARMAS</td>\n",
       "      <td>COMANDO DO EXERCITO</td>\n",
       "      <td>52121</td>\n",
       "      <td>21850.00</td>\n",
       "      <td>0.0</td>\n",
       "      <td>21850.00</td>\n",
       "      <td>0.0</td>\n",
       "    </tr>\n",
       "    <tr>\n",
       "      <th>586</th>\n",
       "      <td>160129</td>\n",
       "      <td>ESA</td>\n",
       "      <td>4º CGCFEx</td>\n",
       "      <td>4ª RM</td>\n",
       "      <td>CML</td>\n",
       "      <td>Três Corações</td>\n",
       "      <td>MG</td>\n",
       "      <td>6112</td>\n",
       "      <td>212O</td>\n",
       "      <td>MOVIMENTACAO DE MILITARES</td>\n",
       "      <td>160505</td>\n",
       "      <td>DGP</td>\n",
       "      <td>232007</td>\n",
       "      <td>D6DAATSLOCO</td>\n",
       "      <td>D6DA</td>\n",
       "      <td>ATS</td>\n",
       "      <td>LOCO</td>\n",
       "      <td>ATS - ATIVIDADES SETORIAIS</td>\n",
       "      <td>339033</td>\n",
       "      <td>PASSAGENS E DESPESAS COM LOCOMOCAO</td>\n",
       "      <td>33903304</td>\n",
       "      <td>MUDANCAS EM OBJETO DE SERVICO</td>\n",
       "      <td>2024NE000843</td>\n",
       "      <td>2024</td>\n",
       "      <td>2024-07-15</td>\n",
       "      <td>160129000012024NE000843</td>\n",
       "      <td>39644514000115</td>\n",
       "      <td>MULTI PRIME MUDANCAS E TRANSPORTES ESPECIAIS LTDA</td>\n",
       "      <td>GO</td>\n",
       "      <td>ANO</td>\n",
       "      <td>148</td>\n",
       "      <td>MG</td>\n",
       "      <td>1000000000</td>\n",
       "      <td>PREGAO</td>\n",
       "      <td>ESTIMATIVO</td>\n",
       "      <td>1</td>\n",
       "      <td>PRIMARIO OBRIGATORIO</td>\n",
       "      <td>A</td>\n",
       "      <td>INICIAL (LOA)</td>\n",
       "      <td>0000</td>\n",
       "      <td>000000000000</td>\n",
       "      <td>SEM EMENDA</td>\n",
       "      <td>ESCOLA DE SARGENTOS DAS ARMAS</td>\n",
       "      <td>COMANDO DO EXERCITO</td>\n",
       "      <td>52121</td>\n",
       "      <td>13091.00</td>\n",
       "      <td>0.0</td>\n",
       "      <td>13091.00</td>\n",
       "      <td>0.0</td>\n",
       "    </tr>\n",
       "    <tr>\n",
       "      <th>587</th>\n",
       "      <td>160129</td>\n",
       "      <td>ESA</td>\n",
       "      <td>4º CGCFEx</td>\n",
       "      <td>4ª RM</td>\n",
       "      <td>CML</td>\n",
       "      <td>Três Corações</td>\n",
       "      <td>MG</td>\n",
       "      <td>6112</td>\n",
       "      <td>212O</td>\n",
       "      <td>MOVIMENTACAO DE MILITARES</td>\n",
       "      <td>160505</td>\n",
       "      <td>DGP</td>\n",
       "      <td>232007</td>\n",
       "      <td>D6DAATSLOCO</td>\n",
       "      <td>D6DA</td>\n",
       "      <td>ATS</td>\n",
       "      <td>LOCO</td>\n",
       "      <td>ATS - ATIVIDADES SETORIAIS</td>\n",
       "      <td>339033</td>\n",
       "      <td>PASSAGENS E DESPESAS COM LOCOMOCAO</td>\n",
       "      <td>33903304</td>\n",
       "      <td>MUDANCAS EM OBJETO DE SERVICO</td>\n",
       "      <td>2024NE000844</td>\n",
       "      <td>2024</td>\n",
       "      <td>2024-07-15</td>\n",
       "      <td>160129000012024NE000844</td>\n",
       "      <td>39644514000115</td>\n",
       "      <td>MULTI PRIME MUDANCAS E TRANSPORTES ESPECIAIS LTDA</td>\n",
       "      <td>GO</td>\n",
       "      <td>ANO</td>\n",
       "      <td>148</td>\n",
       "      <td>MG</td>\n",
       "      <td>1000000000</td>\n",
       "      <td>PREGAO</td>\n",
       "      <td>ESTIMATIVO</td>\n",
       "      <td>1</td>\n",
       "      <td>PRIMARIO OBRIGATORIO</td>\n",
       "      <td>A</td>\n",
       "      <td>INICIAL (LOA)</td>\n",
       "      <td>0000</td>\n",
       "      <td>000000000000</td>\n",
       "      <td>SEM EMENDA</td>\n",
       "      <td>ESCOLA DE SARGENTOS DAS ARMAS</td>\n",
       "      <td>COMANDO DO EXERCITO</td>\n",
       "      <td>52121</td>\n",
       "      <td>13091.00</td>\n",
       "      <td>0.0</td>\n",
       "      <td>13091.00</td>\n",
       "      <td>0.0</td>\n",
       "    </tr>\n",
       "    <tr>\n",
       "      <th>588</th>\n",
       "      <td>160129</td>\n",
       "      <td>ESA</td>\n",
       "      <td>4º CGCFEx</td>\n",
       "      <td>4ª RM</td>\n",
       "      <td>CML</td>\n",
       "      <td>Três Corações</td>\n",
       "      <td>MG</td>\n",
       "      <td>6112</td>\n",
       "      <td>212O</td>\n",
       "      <td>MOVIMENTACAO DE MILITARES</td>\n",
       "      <td>160505</td>\n",
       "      <td>DGP</td>\n",
       "      <td>232007</td>\n",
       "      <td>D6DAATSLOCO</td>\n",
       "      <td>D6DA</td>\n",
       "      <td>ATS</td>\n",
       "      <td>LOCO</td>\n",
       "      <td>ATS - ATIVIDADES SETORIAIS</td>\n",
       "      <td>339033</td>\n",
       "      <td>PASSAGENS E DESPESAS COM LOCOMOCAO</td>\n",
       "      <td>33903304</td>\n",
       "      <td>MUDANCAS EM OBJETO DE SERVICO</td>\n",
       "      <td>2024NE000911</td>\n",
       "      <td>2024</td>\n",
       "      <td>2024-08-02</td>\n",
       "      <td>160129000012024NE000911</td>\n",
       "      <td>39644514000115</td>\n",
       "      <td>MULTI PRIME MUDANCAS E TRANSPORTES ESPECIAIS LTDA</td>\n",
       "      <td>GO</td>\n",
       "      <td>ANO</td>\n",
       "      <td>130</td>\n",
       "      <td>MG</td>\n",
       "      <td>1000000000</td>\n",
       "      <td>PREGAO</td>\n",
       "      <td>ESTIMATIVO</td>\n",
       "      <td>1</td>\n",
       "      <td>PRIMARIO OBRIGATORIO</td>\n",
       "      <td>A</td>\n",
       "      <td>INICIAL (LOA)</td>\n",
       "      <td>0000</td>\n",
       "      <td>000000000000</td>\n",
       "      <td>SEM EMENDA</td>\n",
       "      <td>ESCOLA DE SARGENTOS DAS ARMAS</td>\n",
       "      <td>COMANDO DO EXERCITO</td>\n",
       "      <td>52121</td>\n",
       "      <td>50049.00</td>\n",
       "      <td>0.0</td>\n",
       "      <td>50049.00</td>\n",
       "      <td>0.0</td>\n",
       "    </tr>\n",
       "    <tr>\n",
       "      <th>589</th>\n",
       "      <td>160129</td>\n",
       "      <td>ESA</td>\n",
       "      <td>4º CGCFEx</td>\n",
       "      <td>4ª RM</td>\n",
       "      <td>CML</td>\n",
       "      <td>Três Corações</td>\n",
       "      <td>MG</td>\n",
       "      <td>6112</td>\n",
       "      <td>212O</td>\n",
       "      <td>MOVIMENTACAO DE MILITARES</td>\n",
       "      <td>160505</td>\n",
       "      <td>DGP</td>\n",
       "      <td>232007</td>\n",
       "      <td>D6DAATSLOCO</td>\n",
       "      <td>D6DA</td>\n",
       "      <td>ATS</td>\n",
       "      <td>LOCO</td>\n",
       "      <td>ATS - ATIVIDADES SETORIAIS</td>\n",
       "      <td>339033</td>\n",
       "      <td>PASSAGENS E DESPESAS COM LOCOMOCAO</td>\n",
       "      <td>33903304</td>\n",
       "      <td>MUDANCAS EM OBJETO DE SERVICO</td>\n",
       "      <td>2024NE000946</td>\n",
       "      <td>2024</td>\n",
       "      <td>2024-08-15</td>\n",
       "      <td>160129000012024NE000946</td>\n",
       "      <td>39644514000115</td>\n",
       "      <td>MULTI PRIME MUDANCAS E TRANSPORTES ESPECIAIS LTDA</td>\n",
       "      <td>GO</td>\n",
       "      <td>ANO</td>\n",
       "      <td>117</td>\n",
       "      <td>MG</td>\n",
       "      <td>1000000000</td>\n",
       "      <td>PREGAO</td>\n",
       "      <td>ESTIMATIVO</td>\n",
       "      <td>1</td>\n",
       "      <td>PRIMARIO OBRIGATORIO</td>\n",
       "      <td>A</td>\n",
       "      <td>INICIAL (LOA)</td>\n",
       "      <td>0000</td>\n",
       "      <td>000000000000</td>\n",
       "      <td>SEM EMENDA</td>\n",
       "      <td>ESCOLA DE SARGENTOS DAS ARMAS</td>\n",
       "      <td>COMANDO DO EXERCITO</td>\n",
       "      <td>52121</td>\n",
       "      <td>29900.00</td>\n",
       "      <td>0.0</td>\n",
       "      <td>29900.00</td>\n",
       "      <td>0.0</td>\n",
       "    </tr>\n",
       "    <tr>\n",
       "      <th>590</th>\n",
       "      <td>160129</td>\n",
       "      <td>ESA</td>\n",
       "      <td>4º CGCFEx</td>\n",
       "      <td>4ª RM</td>\n",
       "      <td>CML</td>\n",
       "      <td>Três Corações</td>\n",
       "      <td>MG</td>\n",
       "      <td>6112</td>\n",
       "      <td>212O</td>\n",
       "      <td>MOVIMENTACAO DE MILITARES</td>\n",
       "      <td>160505</td>\n",
       "      <td>DGP</td>\n",
       "      <td>232007</td>\n",
       "      <td>D6DAATSLOCO</td>\n",
       "      <td>D6DA</td>\n",
       "      <td>ATS</td>\n",
       "      <td>LOCO</td>\n",
       "      <td>ATS - ATIVIDADES SETORIAIS</td>\n",
       "      <td>339033</td>\n",
       "      <td>PASSAGENS E DESPESAS COM LOCOMOCAO</td>\n",
       "      <td>33903304</td>\n",
       "      <td>MUDANCAS EM OBJETO DE SERVICO</td>\n",
       "      <td>2024NE000947</td>\n",
       "      <td>2024</td>\n",
       "      <td>2024-08-15</td>\n",
       "      <td>160129000012024NE000947</td>\n",
       "      <td>39644514000115</td>\n",
       "      <td>MULTI PRIME MUDANCAS E TRANSPORTES ESPECIAIS LTDA</td>\n",
       "      <td>GO</td>\n",
       "      <td>ANO</td>\n",
       "      <td>117</td>\n",
       "      <td>MG</td>\n",
       "      <td>1000000000</td>\n",
       "      <td>PREGAO</td>\n",
       "      <td>ESTIMATIVO</td>\n",
       "      <td>1</td>\n",
       "      <td>PRIMARIO OBRIGATORIO</td>\n",
       "      <td>A</td>\n",
       "      <td>INICIAL (LOA)</td>\n",
       "      <td>0000</td>\n",
       "      <td>000000000000</td>\n",
       "      <td>SEM EMENDA</td>\n",
       "      <td>ESCOLA DE SARGENTOS DAS ARMAS</td>\n",
       "      <td>COMANDO DO EXERCITO</td>\n",
       "      <td>52121</td>\n",
       "      <td>29900.00</td>\n",
       "      <td>0.0</td>\n",
       "      <td>29900.00</td>\n",
       "      <td>0.0</td>\n",
       "    </tr>\n",
       "    <tr>\n",
       "      <th>591</th>\n",
       "      <td>160129</td>\n",
       "      <td>ESA</td>\n",
       "      <td>4º CGCFEx</td>\n",
       "      <td>4ª RM</td>\n",
       "      <td>CML</td>\n",
       "      <td>Três Corações</td>\n",
       "      <td>MG</td>\n",
       "      <td>6112</td>\n",
       "      <td>212O</td>\n",
       "      <td>MOVIMENTACAO DE MILITARES</td>\n",
       "      <td>160505</td>\n",
       "      <td>DGP</td>\n",
       "      <td>232007</td>\n",
       "      <td>D6DAATSLOCO</td>\n",
       "      <td>D6DA</td>\n",
       "      <td>ATS</td>\n",
       "      <td>LOCO</td>\n",
       "      <td>ATS - ATIVIDADES SETORIAIS</td>\n",
       "      <td>339033</td>\n",
       "      <td>PASSAGENS E DESPESAS COM LOCOMOCAO</td>\n",
       "      <td>33903304</td>\n",
       "      <td>MUDANCAS EM OBJETO DE SERVICO</td>\n",
       "      <td>2024NE000950</td>\n",
       "      <td>2024</td>\n",
       "      <td>2024-08-15</td>\n",
       "      <td>160129000012024NE000950</td>\n",
       "      <td>39644514000115</td>\n",
       "      <td>MULTI PRIME MUDANCAS E TRANSPORTES ESPECIAIS LTDA</td>\n",
       "      <td>GO</td>\n",
       "      <td>ANO</td>\n",
       "      <td>117</td>\n",
       "      <td>MG</td>\n",
       "      <td>1000000000</td>\n",
       "      <td>PREGAO</td>\n",
       "      <td>ESTIMATIVO</td>\n",
       "      <td>1</td>\n",
       "      <td>PRIMARIO OBRIGATORIO</td>\n",
       "      <td>A</td>\n",
       "      <td>INICIAL (LOA)</td>\n",
       "      <td>0000</td>\n",
       "      <td>000000000000</td>\n",
       "      <td>SEM EMENDA</td>\n",
       "      <td>ESCOLA DE SARGENTOS DAS ARMAS</td>\n",
       "      <td>COMANDO DO EXERCITO</td>\n",
       "      <td>52121</td>\n",
       "      <td>29900.00</td>\n",
       "      <td>0.0</td>\n",
       "      <td>29900.00</td>\n",
       "      <td>0.0</td>\n",
       "    </tr>\n",
       "    <tr>\n",
       "      <th>592</th>\n",
       "      <td>160129</td>\n",
       "      <td>ESA</td>\n",
       "      <td>4º CGCFEx</td>\n",
       "      <td>4ª RM</td>\n",
       "      <td>CML</td>\n",
       "      <td>Três Corações</td>\n",
       "      <td>MG</td>\n",
       "      <td>6112</td>\n",
       "      <td>212O</td>\n",
       "      <td>MOVIMENTACAO DE MILITARES</td>\n",
       "      <td>160505</td>\n",
       "      <td>DGP</td>\n",
       "      <td>232007</td>\n",
       "      <td>D6DAATSLOCO</td>\n",
       "      <td>D6DA</td>\n",
       "      <td>ATS</td>\n",
       "      <td>LOCO</td>\n",
       "      <td>ATS - ATIVIDADES SETORIAIS</td>\n",
       "      <td>339033</td>\n",
       "      <td>PASSAGENS E DESPESAS COM LOCOMOCAO</td>\n",
       "      <td>33903304</td>\n",
       "      <td>MUDANCAS EM OBJETO DE SERVICO</td>\n",
       "      <td>2024NE000984</td>\n",
       "      <td>2024</td>\n",
       "      <td>2024-08-26</td>\n",
       "      <td>160129000012024NE000984</td>\n",
       "      <td>39644514000115</td>\n",
       "      <td>MULTI PRIME MUDANCAS E TRANSPORTES ESPECIAIS LTDA</td>\n",
       "      <td>GO</td>\n",
       "      <td>ANO</td>\n",
       "      <td>106</td>\n",
       "      <td>MG</td>\n",
       "      <td>1000000000</td>\n",
       "      <td>PREGAO</td>\n",
       "      <td>ESTIMATIVO</td>\n",
       "      <td>1</td>\n",
       "      <td>PRIMARIO OBRIGATORIO</td>\n",
       "      <td>A</td>\n",
       "      <td>INICIAL (LOA)</td>\n",
       "      <td>0000</td>\n",
       "      <td>000000000000</td>\n",
       "      <td>SEM EMENDA</td>\n",
       "      <td>ESCOLA DE SARGENTOS DAS ARMAS</td>\n",
       "      <td>COMANDO DO EXERCITO</td>\n",
       "      <td>52121</td>\n",
       "      <td>44820.00</td>\n",
       "      <td>0.0</td>\n",
       "      <td>44820.00</td>\n",
       "      <td>0.0</td>\n",
       "    </tr>\n",
       "    <tr>\n",
       "      <th>593</th>\n",
       "      <td>160129</td>\n",
       "      <td>ESA</td>\n",
       "      <td>4º CGCFEx</td>\n",
       "      <td>4ª RM</td>\n",
       "      <td>CML</td>\n",
       "      <td>Três Corações</td>\n",
       "      <td>MG</td>\n",
       "      <td>6112</td>\n",
       "      <td>212O</td>\n",
       "      <td>MOVIMENTACAO DE MILITARES</td>\n",
       "      <td>160505</td>\n",
       "      <td>DGP</td>\n",
       "      <td>232007</td>\n",
       "      <td>D6DAATSLOCO</td>\n",
       "      <td>D6DA</td>\n",
       "      <td>ATS</td>\n",
       "      <td>LOCO</td>\n",
       "      <td>ATS - ATIVIDADES SETORIAIS</td>\n",
       "      <td>339033</td>\n",
       "      <td>PASSAGENS E DESPESAS COM LOCOMOCAO</td>\n",
       "      <td>33903304</td>\n",
       "      <td>MUDANCAS EM OBJETO DE SERVICO</td>\n",
       "      <td>2024NE000985</td>\n",
       "      <td>2024</td>\n",
       "      <td>2024-08-26</td>\n",
       "      <td>160129000012024NE000985</td>\n",
       "      <td>39644514000115</td>\n",
       "      <td>MULTI PRIME MUDANCAS E TRANSPORTES ESPECIAIS LTDA</td>\n",
       "      <td>GO</td>\n",
       "      <td>ANO</td>\n",
       "      <td>106</td>\n",
       "      <td>MG</td>\n",
       "      <td>1000000000</td>\n",
       "      <td>PREGAO</td>\n",
       "      <td>ESTIMATIVO</td>\n",
       "      <td>1</td>\n",
       "      <td>PRIMARIO OBRIGATORIO</td>\n",
       "      <td>A</td>\n",
       "      <td>INICIAL (LOA)</td>\n",
       "      <td>0000</td>\n",
       "      <td>000000000000</td>\n",
       "      <td>SEM EMENDA</td>\n",
       "      <td>ESCOLA DE SARGENTOS DAS ARMAS</td>\n",
       "      <td>COMANDO DO EXERCITO</td>\n",
       "      <td>52121</td>\n",
       "      <td>41355.00</td>\n",
       "      <td>0.0</td>\n",
       "      <td>41355.00</td>\n",
       "      <td>0.0</td>\n",
       "    </tr>\n",
       "    <tr>\n",
       "      <th>594</th>\n",
       "      <td>160129</td>\n",
       "      <td>ESA</td>\n",
       "      <td>4º CGCFEx</td>\n",
       "      <td>4ª RM</td>\n",
       "      <td>CML</td>\n",
       "      <td>Três Corações</td>\n",
       "      <td>MG</td>\n",
       "      <td>6112</td>\n",
       "      <td>212O</td>\n",
       "      <td>MOVIMENTACAO DE MILITARES</td>\n",
       "      <td>160505</td>\n",
       "      <td>DGP</td>\n",
       "      <td>232007</td>\n",
       "      <td>D6DAATSLOCO</td>\n",
       "      <td>D6DA</td>\n",
       "      <td>ATS</td>\n",
       "      <td>LOCO</td>\n",
       "      <td>ATS - ATIVIDADES SETORIAIS</td>\n",
       "      <td>339033</td>\n",
       "      <td>PASSAGENS E DESPESAS COM LOCOMOCAO</td>\n",
       "      <td>33903304</td>\n",
       "      <td>MUDANCAS EM OBJETO DE SERVICO</td>\n",
       "      <td>2024NE001035</td>\n",
       "      <td>2024</td>\n",
       "      <td>2024-09-11</td>\n",
       "      <td>160129000012024NE001035</td>\n",
       "      <td>39644514000115</td>\n",
       "      <td>MULTI PRIME MUDANCAS E TRANSPORTES ESPECIAIS LTDA</td>\n",
       "      <td>GO</td>\n",
       "      <td>ANO</td>\n",
       "      <td>90</td>\n",
       "      <td>MG</td>\n",
       "      <td>1000000000</td>\n",
       "      <td>PREGAO</td>\n",
       "      <td>ESTIMATIVO</td>\n",
       "      <td>1</td>\n",
       "      <td>PRIMARIO OBRIGATORIO</td>\n",
       "      <td>A</td>\n",
       "      <td>INICIAL (LOA)</td>\n",
       "      <td>0000</td>\n",
       "      <td>000000000000</td>\n",
       "      <td>SEM EMENDA</td>\n",
       "      <td>ESCOLA DE SARGENTOS DAS ARMAS</td>\n",
       "      <td>COMANDO DO EXERCITO</td>\n",
       "      <td>52121</td>\n",
       "      <td>437.00</td>\n",
       "      <td>0.0</td>\n",
       "      <td>437.00</td>\n",
       "      <td>0.0</td>\n",
       "    </tr>\n",
       "    <tr>\n",
       "      <th>595</th>\n",
       "      <td>160129</td>\n",
       "      <td>ESA</td>\n",
       "      <td>4º CGCFEx</td>\n",
       "      <td>4ª RM</td>\n",
       "      <td>CML</td>\n",
       "      <td>Três Corações</td>\n",
       "      <td>MG</td>\n",
       "      <td>6112</td>\n",
       "      <td>212O</td>\n",
       "      <td>MOVIMENTACAO DE MILITARES</td>\n",
       "      <td>160505</td>\n",
       "      <td>DGP</td>\n",
       "      <td>232007</td>\n",
       "      <td>D6DAATSLOCO</td>\n",
       "      <td>D6DA</td>\n",
       "      <td>ATS</td>\n",
       "      <td>LOCO</td>\n",
       "      <td>ATS - ATIVIDADES SETORIAIS</td>\n",
       "      <td>339033</td>\n",
       "      <td>PASSAGENS E DESPESAS COM LOCOMOCAO</td>\n",
       "      <td>33903304</td>\n",
       "      <td>MUDANCAS EM OBJETO DE SERVICO</td>\n",
       "      <td>2024NE001036</td>\n",
       "      <td>2024</td>\n",
       "      <td>2024-09-12</td>\n",
       "      <td>160129000012024NE001036</td>\n",
       "      <td>39644514000115</td>\n",
       "      <td>MULTI PRIME MUDANCAS E TRANSPORTES ESPECIAIS LTDA</td>\n",
       "      <td>GO</td>\n",
       "      <td>ANO</td>\n",
       "      <td>89</td>\n",
       "      <td>MG</td>\n",
       "      <td>1000000000</td>\n",
       "      <td>PREGAO</td>\n",
       "      <td>ESTIMATIVO</td>\n",
       "      <td>1</td>\n",
       "      <td>PRIMARIO OBRIGATORIO</td>\n",
       "      <td>A</td>\n",
       "      <td>INICIAL (LOA)</td>\n",
       "      <td>0000</td>\n",
       "      <td>000000000000</td>\n",
       "      <td>SEM EMENDA</td>\n",
       "      <td>ESCOLA DE SARGENTOS DAS ARMAS</td>\n",
       "      <td>COMANDO DO EXERCITO</td>\n",
       "      <td>52121</td>\n",
       "      <td>919.00</td>\n",
       "      <td>0.0</td>\n",
       "      <td>919.00</td>\n",
       "      <td>0.0</td>\n",
       "    </tr>\n",
       "    <tr>\n",
       "      <th>596</th>\n",
       "      <td>160129</td>\n",
       "      <td>ESA</td>\n",
       "      <td>4º CGCFEx</td>\n",
       "      <td>4ª RM</td>\n",
       "      <td>CML</td>\n",
       "      <td>Três Corações</td>\n",
       "      <td>MG</td>\n",
       "      <td>6112</td>\n",
       "      <td>212O</td>\n",
       "      <td>MOVIMENTACAO DE MILITARES</td>\n",
       "      <td>160505</td>\n",
       "      <td>DGP</td>\n",
       "      <td>232007</td>\n",
       "      <td>D6DAATSLOCO</td>\n",
       "      <td>D6DA</td>\n",
       "      <td>ATS</td>\n",
       "      <td>LOCO</td>\n",
       "      <td>ATS - ATIVIDADES SETORIAIS</td>\n",
       "      <td>339033</td>\n",
       "      <td>PASSAGENS E DESPESAS COM LOCOMOCAO</td>\n",
       "      <td>33903304</td>\n",
       "      <td>MUDANCAS EM OBJETO DE SERVICO</td>\n",
       "      <td>2024NE001037</td>\n",
       "      <td>2024</td>\n",
       "      <td>2024-09-12</td>\n",
       "      <td>160129000012024NE001037</td>\n",
       "      <td>39644514000115</td>\n",
       "      <td>MULTI PRIME MUDANCAS E TRANSPORTES ESPECIAIS LTDA</td>\n",
       "      <td>GO</td>\n",
       "      <td>ANO</td>\n",
       "      <td>89</td>\n",
       "      <td>MG</td>\n",
       "      <td>1000000000</td>\n",
       "      <td>PREGAO</td>\n",
       "      <td>ESTIMATIVO</td>\n",
       "      <td>1</td>\n",
       "      <td>PRIMARIO OBRIGATORIO</td>\n",
       "      <td>A</td>\n",
       "      <td>INICIAL (LOA)</td>\n",
       "      <td>0000</td>\n",
       "      <td>000000000000</td>\n",
       "      <td>SEM EMENDA</td>\n",
       "      <td>ESCOLA DE SARGENTOS DAS ARMAS</td>\n",
       "      <td>COMANDO DO EXERCITO</td>\n",
       "      <td>52121</td>\n",
       "      <td>747.00</td>\n",
       "      <td>0.0</td>\n",
       "      <td>747.00</td>\n",
       "      <td>0.0</td>\n",
       "    </tr>\n",
       "    <tr>\n",
       "      <th>597</th>\n",
       "      <td>160129</td>\n",
       "      <td>ESA</td>\n",
       "      <td>4º CGCFEx</td>\n",
       "      <td>4ª RM</td>\n",
       "      <td>CML</td>\n",
       "      <td>Três Corações</td>\n",
       "      <td>MG</td>\n",
       "      <td>6112</td>\n",
       "      <td>212O</td>\n",
       "      <td>MOVIMENTACAO DE MILITARES</td>\n",
       "      <td>160505</td>\n",
       "      <td>DGP</td>\n",
       "      <td>232007</td>\n",
       "      <td>D6DAATSLOCO</td>\n",
       "      <td>D6DA</td>\n",
       "      <td>ATS</td>\n",
       "      <td>LOCO</td>\n",
       "      <td>ATS - ATIVIDADES SETORIAIS</td>\n",
       "      <td>339033</td>\n",
       "      <td>PASSAGENS E DESPESAS COM LOCOMOCAO</td>\n",
       "      <td>33903304</td>\n",
       "      <td>MUDANCAS EM OBJETO DE SERVICO</td>\n",
       "      <td>2024NE001105</td>\n",
       "      <td>2024</td>\n",
       "      <td>2024-09-24</td>\n",
       "      <td>160129000012024NE001105</td>\n",
       "      <td>39644514000115</td>\n",
       "      <td>MULTI PRIME MUDANCAS E TRANSPORTES ESPECIAIS LTDA</td>\n",
       "      <td>GO</td>\n",
       "      <td>ANO</td>\n",
       "      <td>77</td>\n",
       "      <td>MG</td>\n",
       "      <td>1000000000</td>\n",
       "      <td>PREGAO</td>\n",
       "      <td>ESTIMATIVO</td>\n",
       "      <td>1</td>\n",
       "      <td>PRIMARIO OBRIGATORIO</td>\n",
       "      <td>A</td>\n",
       "      <td>INICIAL (LOA)</td>\n",
       "      <td>0000</td>\n",
       "      <td>000000000000</td>\n",
       "      <td>SEM EMENDA</td>\n",
       "      <td>ESCOLA DE SARGENTOS DAS ARMAS</td>\n",
       "      <td>COMANDO DO EXERCITO</td>\n",
       "      <td>52121</td>\n",
       "      <td>598.00</td>\n",
       "      <td>0.0</td>\n",
       "      <td>598.00</td>\n",
       "      <td>0.0</td>\n",
       "    </tr>\n",
       "    <tr>\n",
       "      <th>598</th>\n",
       "      <td>160129</td>\n",
       "      <td>ESA</td>\n",
       "      <td>4º CGCFEx</td>\n",
       "      <td>4ª RM</td>\n",
       "      <td>CML</td>\n",
       "      <td>Três Corações</td>\n",
       "      <td>MG</td>\n",
       "      <td>6112</td>\n",
       "      <td>212O</td>\n",
       "      <td>MOVIMENTACAO DE MILITARES</td>\n",
       "      <td>160505</td>\n",
       "      <td>DGP</td>\n",
       "      <td>232007</td>\n",
       "      <td>D6DAATSLOCO</td>\n",
       "      <td>D6DA</td>\n",
       "      <td>ATS</td>\n",
       "      <td>LOCO</td>\n",
       "      <td>ATS - ATIVIDADES SETORIAIS</td>\n",
       "      <td>339033</td>\n",
       "      <td>PASSAGENS E DESPESAS COM LOCOMOCAO</td>\n",
       "      <td>33903304</td>\n",
       "      <td>MUDANCAS EM OBJETO DE SERVICO</td>\n",
       "      <td>2024NE001120</td>\n",
       "      <td>2024</td>\n",
       "      <td>2024-09-27</td>\n",
       "      <td>160129000012024NE001120</td>\n",
       "      <td>39644514000115</td>\n",
       "      <td>MULTI PRIME MUDANCAS E TRANSPORTES ESPECIAIS LTDA</td>\n",
       "      <td>GO</td>\n",
       "      <td>ANO</td>\n",
       "      <td>74</td>\n",
       "      <td>MG</td>\n",
       "      <td>1000000000</td>\n",
       "      <td>PREGAO</td>\n",
       "      <td>ESTIMATIVO</td>\n",
       "      <td>1</td>\n",
       "      <td>PRIMARIO OBRIGATORIO</td>\n",
       "      <td>A</td>\n",
       "      <td>INICIAL (LOA)</td>\n",
       "      <td>0000</td>\n",
       "      <td>000000000000</td>\n",
       "      <td>SEM EMENDA</td>\n",
       "      <td>ESCOLA DE SARGENTOS DAS ARMAS</td>\n",
       "      <td>COMANDO DO EXERCITO</td>\n",
       "      <td>52121</td>\n",
       "      <td>397.00</td>\n",
       "      <td>0.0</td>\n",
       "      <td>397.00</td>\n",
       "      <td>0.0</td>\n",
       "    </tr>\n",
       "    <tr>\n",
       "      <th>599</th>\n",
       "      <td>160129</td>\n",
       "      <td>ESA</td>\n",
       "      <td>4º CGCFEx</td>\n",
       "      <td>4ª RM</td>\n",
       "      <td>CML</td>\n",
       "      <td>Três Corações</td>\n",
       "      <td>MG</td>\n",
       "      <td>6112</td>\n",
       "      <td>212O</td>\n",
       "      <td>MOVIMENTACAO DE MILITARES</td>\n",
       "      <td>160505</td>\n",
       "      <td>DGP</td>\n",
       "      <td>232007</td>\n",
       "      <td>D6DAATSLOCO</td>\n",
       "      <td>D6DA</td>\n",
       "      <td>ATS</td>\n",
       "      <td>LOCO</td>\n",
       "      <td>ATS - ATIVIDADES SETORIAIS</td>\n",
       "      <td>339033</td>\n",
       "      <td>PASSAGENS E DESPESAS COM LOCOMOCAO</td>\n",
       "      <td>33903304</td>\n",
       "      <td>MUDANCAS EM OBJETO DE SERVICO</td>\n",
       "      <td>2024NE001121</td>\n",
       "      <td>2024</td>\n",
       "      <td>2024-09-27</td>\n",
       "      <td>160129000012024NE001121</td>\n",
       "      <td>39644514000115</td>\n",
       "      <td>MULTI PRIME MUDANCAS E TRANSPORTES ESPECIAIS LTDA</td>\n",
       "      <td>GO</td>\n",
       "      <td>ANO</td>\n",
       "      <td>74</td>\n",
       "      <td>MG</td>\n",
       "      <td>1000000000</td>\n",
       "      <td>PREGAO</td>\n",
       "      <td>ESTIMATIVO</td>\n",
       "      <td>1</td>\n",
       "      <td>PRIMARIO OBRIGATORIO</td>\n",
       "      <td>A</td>\n",
       "      <td>INICIAL (LOA)</td>\n",
       "      <td>0000</td>\n",
       "      <td>000000000000</td>\n",
       "      <td>SEM EMENDA</td>\n",
       "      <td>ESCOLA DE SARGENTOS DAS ARMAS</td>\n",
       "      <td>COMANDO DO EXERCITO</td>\n",
       "      <td>52121</td>\n",
       "      <td>598.00</td>\n",
       "      <td>0.0</td>\n",
       "      <td>598.00</td>\n",
       "      <td>0.0</td>\n",
       "    </tr>\n",
       "    <tr>\n",
       "      <th>600</th>\n",
       "      <td>160129</td>\n",
       "      <td>ESA</td>\n",
       "      <td>4º CGCFEx</td>\n",
       "      <td>4ª RM</td>\n",
       "      <td>CML</td>\n",
       "      <td>Três Corações</td>\n",
       "      <td>MG</td>\n",
       "      <td>6112</td>\n",
       "      <td>212O</td>\n",
       "      <td>MOVIMENTACAO DE MILITARES</td>\n",
       "      <td>160505</td>\n",
       "      <td>DGP</td>\n",
       "      <td>232007</td>\n",
       "      <td>D6DAATSLOCO</td>\n",
       "      <td>D6DA</td>\n",
       "      <td>ATS</td>\n",
       "      <td>LOCO</td>\n",
       "      <td>ATS - ATIVIDADES SETORIAIS</td>\n",
       "      <td>339033</td>\n",
       "      <td>PASSAGENS E DESPESAS COM LOCOMOCAO</td>\n",
       "      <td>33903304</td>\n",
       "      <td>MUDANCAS EM OBJETO DE SERVICO</td>\n",
       "      <td>2024NE001122</td>\n",
       "      <td>2024</td>\n",
       "      <td>2024-09-27</td>\n",
       "      <td>160129000012024NE001122</td>\n",
       "      <td>39644514000115</td>\n",
       "      <td>MULTI PRIME MUDANCAS E TRANSPORTES ESPECIAIS LTDA</td>\n",
       "      <td>GO</td>\n",
       "      <td>ANO</td>\n",
       "      <td>74</td>\n",
       "      <td>MG</td>\n",
       "      <td>1000000000</td>\n",
       "      <td>PREGAO</td>\n",
       "      <td>ESTIMATIVO</td>\n",
       "      <td>1</td>\n",
       "      <td>PRIMARIO OBRIGATORIO</td>\n",
       "      <td>A</td>\n",
       "      <td>INICIAL (LOA)</td>\n",
       "      <td>0000</td>\n",
       "      <td>000000000000</td>\n",
       "      <td>SEM EMENDA</td>\n",
       "      <td>ESCOLA DE SARGENTOS DAS ARMAS</td>\n",
       "      <td>COMANDO DO EXERCITO</td>\n",
       "      <td>52121</td>\n",
       "      <td>747.00</td>\n",
       "      <td>0.0</td>\n",
       "      <td>747.00</td>\n",
       "      <td>0.0</td>\n",
       "    </tr>\n",
       "    <tr>\n",
       "      <th>601</th>\n",
       "      <td>160129</td>\n",
       "      <td>ESA</td>\n",
       "      <td>4º CGCFEx</td>\n",
       "      <td>4ª RM</td>\n",
       "      <td>CML</td>\n",
       "      <td>Três Corações</td>\n",
       "      <td>MG</td>\n",
       "      <td>6112</td>\n",
       "      <td>212O</td>\n",
       "      <td>MOVIMENTACAO DE MILITARES</td>\n",
       "      <td>160505</td>\n",
       "      <td>DGP</td>\n",
       "      <td>232007</td>\n",
       "      <td>D6DAATSLOCO</td>\n",
       "      <td>D6DA</td>\n",
       "      <td>ATS</td>\n",
       "      <td>LOCO</td>\n",
       "      <td>ATS - ATIVIDADES SETORIAIS</td>\n",
       "      <td>339033</td>\n",
       "      <td>PASSAGENS E DESPESAS COM LOCOMOCAO</td>\n",
       "      <td>33903304</td>\n",
       "      <td>MUDANCAS EM OBJETO DE SERVICO</td>\n",
       "      <td>2024NE001142</td>\n",
       "      <td>2024</td>\n",
       "      <td>2024-10-01</td>\n",
       "      <td>160129000012024NE001142</td>\n",
       "      <td>39644514000115</td>\n",
       "      <td>MULTI PRIME MUDANCAS E TRANSPORTES ESPECIAIS LTDA</td>\n",
       "      <td>GO</td>\n",
       "      <td>ANO</td>\n",
       "      <td>70</td>\n",
       "      <td>MG</td>\n",
       "      <td>1000000000</td>\n",
       "      <td>PREGAO</td>\n",
       "      <td>ESTIMATIVO</td>\n",
       "      <td>1</td>\n",
       "      <td>PRIMARIO OBRIGATORIO</td>\n",
       "      <td>A</td>\n",
       "      <td>INICIAL (LOA)</td>\n",
       "      <td>0000</td>\n",
       "      <td>000000000000</td>\n",
       "      <td>SEM EMENDA</td>\n",
       "      <td>ESCOLA DE SARGENTOS DAS ARMAS</td>\n",
       "      <td>COMANDO DO EXERCITO</td>\n",
       "      <td>52121</td>\n",
       "      <td>598.00</td>\n",
       "      <td>0.0</td>\n",
       "      <td>598.00</td>\n",
       "      <td>0.0</td>\n",
       "    </tr>\n",
       "    <tr>\n",
       "      <th>602</th>\n",
       "      <td>160129</td>\n",
       "      <td>ESA</td>\n",
       "      <td>4º CGCFEx</td>\n",
       "      <td>4ª RM</td>\n",
       "      <td>CML</td>\n",
       "      <td>Três Corações</td>\n",
       "      <td>MG</td>\n",
       "      <td>6112</td>\n",
       "      <td>212O</td>\n",
       "      <td>MOVIMENTACAO DE MILITARES</td>\n",
       "      <td>160505</td>\n",
       "      <td>DGP</td>\n",
       "      <td>232007</td>\n",
       "      <td>D6DAATSLOCO</td>\n",
       "      <td>D6DA</td>\n",
       "      <td>ATS</td>\n",
       "      <td>LOCO</td>\n",
       "      <td>ATS - ATIVIDADES SETORIAIS</td>\n",
       "      <td>339033</td>\n",
       "      <td>PASSAGENS E DESPESAS COM LOCOMOCAO</td>\n",
       "      <td>33903304</td>\n",
       "      <td>MUDANCAS EM OBJETO DE SERVICO</td>\n",
       "      <td>2024NE001158</td>\n",
       "      <td>2024</td>\n",
       "      <td>2024-10-03</td>\n",
       "      <td>160129000012024NE001158</td>\n",
       "      <td>39644514000115</td>\n",
       "      <td>MULTI PRIME MUDANCAS E TRANSPORTES ESPECIAIS LTDA</td>\n",
       "      <td>GO</td>\n",
       "      <td>ANO</td>\n",
       "      <td>68</td>\n",
       "      <td>MG</td>\n",
       "      <td>1000000000</td>\n",
       "      <td>PREGAO</td>\n",
       "      <td>ESTIMATIVO</td>\n",
       "      <td>1</td>\n",
       "      <td>PRIMARIO OBRIGATORIO</td>\n",
       "      <td>A</td>\n",
       "      <td>INICIAL (LOA)</td>\n",
       "      <td>0000</td>\n",
       "      <td>000000000000</td>\n",
       "      <td>SEM EMENDA</td>\n",
       "      <td>ESCOLA DE SARGENTOS DAS ARMAS</td>\n",
       "      <td>COMANDO DO EXERCITO</td>\n",
       "      <td>52121</td>\n",
       "      <td>747.00</td>\n",
       "      <td>0.0</td>\n",
       "      <td>747.00</td>\n",
       "      <td>0.0</td>\n",
       "    </tr>\n",
       "    <tr>\n",
       "      <th>603</th>\n",
       "      <td>160129</td>\n",
       "      <td>ESA</td>\n",
       "      <td>4º CGCFEx</td>\n",
       "      <td>4ª RM</td>\n",
       "      <td>CML</td>\n",
       "      <td>Três Corações</td>\n",
       "      <td>MG</td>\n",
       "      <td>6112</td>\n",
       "      <td>212O</td>\n",
       "      <td>MOVIMENTACAO DE MILITARES</td>\n",
       "      <td>160505</td>\n",
       "      <td>DGP</td>\n",
       "      <td>232007</td>\n",
       "      <td>D6DAATSLOCO</td>\n",
       "      <td>D6DA</td>\n",
       "      <td>ATS</td>\n",
       "      <td>LOCO</td>\n",
       "      <td>ATS - ATIVIDADES SETORIAIS</td>\n",
       "      <td>339033</td>\n",
       "      <td>PASSAGENS E DESPESAS COM LOCOMOCAO</td>\n",
       "      <td>33903304</td>\n",
       "      <td>MUDANCAS EM OBJETO DE SERVICO</td>\n",
       "      <td>2024NE001166</td>\n",
       "      <td>2024</td>\n",
       "      <td>2024-10-04</td>\n",
       "      <td>160129000012024NE001166</td>\n",
       "      <td>39644514000115</td>\n",
       "      <td>MULTI PRIME MUDANCAS E TRANSPORTES ESPECIAIS LTDA</td>\n",
       "      <td>GO</td>\n",
       "      <td>ANO</td>\n",
       "      <td>67</td>\n",
       "      <td>MG</td>\n",
       "      <td>1000000000</td>\n",
       "      <td>PREGAO</td>\n",
       "      <td>ESTIMATIVO</td>\n",
       "      <td>1</td>\n",
       "      <td>PRIMARIO OBRIGATORIO</td>\n",
       "      <td>A</td>\n",
       "      <td>INICIAL (LOA)</td>\n",
       "      <td>0000</td>\n",
       "      <td>000000000000</td>\n",
       "      <td>SEM EMENDA</td>\n",
       "      <td>ESCOLA DE SARGENTOS DAS ARMAS</td>\n",
       "      <td>COMANDO DO EXERCITO</td>\n",
       "      <td>52121</td>\n",
       "      <td>598.00</td>\n",
       "      <td>0.0</td>\n",
       "      <td>598.00</td>\n",
       "      <td>0.0</td>\n",
       "    </tr>\n",
       "    <tr>\n",
       "      <th>604</th>\n",
       "      <td>160129</td>\n",
       "      <td>ESA</td>\n",
       "      <td>4º CGCFEx</td>\n",
       "      <td>4ª RM</td>\n",
       "      <td>CML</td>\n",
       "      <td>Três Corações</td>\n",
       "      <td>MG</td>\n",
       "      <td>6112</td>\n",
       "      <td>212O</td>\n",
       "      <td>MOVIMENTACAO DE MILITARES</td>\n",
       "      <td>160505</td>\n",
       "      <td>DGP</td>\n",
       "      <td>232007</td>\n",
       "      <td>D6DAATSLOCO</td>\n",
       "      <td>D6DA</td>\n",
       "      <td>ATS</td>\n",
       "      <td>LOCO</td>\n",
       "      <td>ATS - ATIVIDADES SETORIAIS</td>\n",
       "      <td>339033</td>\n",
       "      <td>PASSAGENS E DESPESAS COM LOCOMOCAO</td>\n",
       "      <td>33903304</td>\n",
       "      <td>MUDANCAS EM OBJETO DE SERVICO</td>\n",
       "      <td>2024NE001175</td>\n",
       "      <td>2024</td>\n",
       "      <td>2024-10-07</td>\n",
       "      <td>160129000012024NE001175</td>\n",
       "      <td>39644514000115</td>\n",
       "      <td>MULTI PRIME MUDANCAS E TRANSPORTES ESPECIAIS LTDA</td>\n",
       "      <td>GO</td>\n",
       "      <td>ANO</td>\n",
       "      <td>64</td>\n",
       "      <td>MG</td>\n",
       "      <td>1000000000</td>\n",
       "      <td>PREGAO</td>\n",
       "      <td>ESTIMATIVO</td>\n",
       "      <td>1</td>\n",
       "      <td>PRIMARIO OBRIGATORIO</td>\n",
       "      <td>A</td>\n",
       "      <td>INICIAL (LOA)</td>\n",
       "      <td>0000</td>\n",
       "      <td>000000000000</td>\n",
       "      <td>SEM EMENDA</td>\n",
       "      <td>ESCOLA DE SARGENTOS DAS ARMAS</td>\n",
       "      <td>COMANDO DO EXERCITO</td>\n",
       "      <td>52121</td>\n",
       "      <td>747.00</td>\n",
       "      <td>0.0</td>\n",
       "      <td>747.00</td>\n",
       "      <td>0.0</td>\n",
       "    </tr>\n",
       "    <tr>\n",
       "      <th>605</th>\n",
       "      <td>160129</td>\n",
       "      <td>ESA</td>\n",
       "      <td>4º CGCFEx</td>\n",
       "      <td>4ª RM</td>\n",
       "      <td>CML</td>\n",
       "      <td>Três Corações</td>\n",
       "      <td>MG</td>\n",
       "      <td>6112</td>\n",
       "      <td>212O</td>\n",
       "      <td>MOVIMENTACAO DE MILITARES</td>\n",
       "      <td>160505</td>\n",
       "      <td>DGP</td>\n",
       "      <td>232007</td>\n",
       "      <td>D6DAATSLOCO</td>\n",
       "      <td>D6DA</td>\n",
       "      <td>ATS</td>\n",
       "      <td>LOCO</td>\n",
       "      <td>ATS - ATIVIDADES SETORIAIS</td>\n",
       "      <td>339033</td>\n",
       "      <td>PASSAGENS E DESPESAS COM LOCOMOCAO</td>\n",
       "      <td>33903304</td>\n",
       "      <td>MUDANCAS EM OBJETO DE SERVICO</td>\n",
       "      <td>2024NE001176</td>\n",
       "      <td>2024</td>\n",
       "      <td>2024-10-07</td>\n",
       "      <td>160129000012024NE001176</td>\n",
       "      <td>39644514000115</td>\n",
       "      <td>MULTI PRIME MUDANCAS E TRANSPORTES ESPECIAIS LTDA</td>\n",
       "      <td>GO</td>\n",
       "      <td>ANO</td>\n",
       "      <td>64</td>\n",
       "      <td>MG</td>\n",
       "      <td>1000000000</td>\n",
       "      <td>PREGAO</td>\n",
       "      <td>ESTIMATIVO</td>\n",
       "      <td>1</td>\n",
       "      <td>PRIMARIO OBRIGATORIO</td>\n",
       "      <td>A</td>\n",
       "      <td>INICIAL (LOA)</td>\n",
       "      <td>0000</td>\n",
       "      <td>000000000000</td>\n",
       "      <td>SEM EMENDA</td>\n",
       "      <td>ESCOLA DE SARGENTOS DAS ARMAS</td>\n",
       "      <td>COMANDO DO EXERCITO</td>\n",
       "      <td>52121</td>\n",
       "      <td>919.00</td>\n",
       "      <td>0.0</td>\n",
       "      <td>919.00</td>\n",
       "      <td>0.0</td>\n",
       "    </tr>\n",
       "    <tr>\n",
       "      <th>606</th>\n",
       "      <td>160129</td>\n",
       "      <td>ESA</td>\n",
       "      <td>4º CGCFEx</td>\n",
       "      <td>4ª RM</td>\n",
       "      <td>CML</td>\n",
       "      <td>Três Corações</td>\n",
       "      <td>MG</td>\n",
       "      <td>6112</td>\n",
       "      <td>212O</td>\n",
       "      <td>MOVIMENTACAO DE MILITARES</td>\n",
       "      <td>160505</td>\n",
       "      <td>DGP</td>\n",
       "      <td>232007</td>\n",
       "      <td>D6DAATSLOCO</td>\n",
       "      <td>D6DA</td>\n",
       "      <td>ATS</td>\n",
       "      <td>LOCO</td>\n",
       "      <td>ATS - ATIVIDADES SETORIAIS</td>\n",
       "      <td>339033</td>\n",
       "      <td>PASSAGENS E DESPESAS COM LOCOMOCAO</td>\n",
       "      <td>33903304</td>\n",
       "      <td>MUDANCAS EM OBJETO DE SERVICO</td>\n",
       "      <td>2024NE001195</td>\n",
       "      <td>2024</td>\n",
       "      <td>2024-10-09</td>\n",
       "      <td>160129000012024NE001195</td>\n",
       "      <td>39644514000115</td>\n",
       "      <td>MULTI PRIME MUDANCAS E TRANSPORTES ESPECIAIS LTDA</td>\n",
       "      <td>GO</td>\n",
       "      <td>ANO</td>\n",
       "      <td>62</td>\n",
       "      <td>MG</td>\n",
       "      <td>1000000000</td>\n",
       "      <td>PREGAO</td>\n",
       "      <td>ESTIMATIVO</td>\n",
       "      <td>1</td>\n",
       "      <td>PRIMARIO OBRIGATORIO</td>\n",
       "      <td>A</td>\n",
       "      <td>INICIAL (LOA)</td>\n",
       "      <td>0000</td>\n",
       "      <td>000000000000</td>\n",
       "      <td>SEM EMENDA</td>\n",
       "      <td>ESCOLA DE SARGENTOS DAS ARMAS</td>\n",
       "      <td>COMANDO DO EXERCITO</td>\n",
       "      <td>52121</td>\n",
       "      <td>397.00</td>\n",
       "      <td>0.0</td>\n",
       "      <td>397.00</td>\n",
       "      <td>0.0</td>\n",
       "    </tr>\n",
       "    <tr>\n",
       "      <th>607</th>\n",
       "      <td>160129</td>\n",
       "      <td>ESA</td>\n",
       "      <td>4º CGCFEx</td>\n",
       "      <td>4ª RM</td>\n",
       "      <td>CML</td>\n",
       "      <td>Três Corações</td>\n",
       "      <td>MG</td>\n",
       "      <td>6112</td>\n",
       "      <td>212O</td>\n",
       "      <td>MOVIMENTACAO DE MILITARES</td>\n",
       "      <td>160505</td>\n",
       "      <td>DGP</td>\n",
       "      <td>232007</td>\n",
       "      <td>D6DAATSLOCO</td>\n",
       "      <td>D6DA</td>\n",
       "      <td>ATS</td>\n",
       "      <td>LOCO</td>\n",
       "      <td>ATS - ATIVIDADES SETORIAIS</td>\n",
       "      <td>339033</td>\n",
       "      <td>PASSAGENS E DESPESAS COM LOCOMOCAO</td>\n",
       "      <td>33903304</td>\n",
       "      <td>MUDANCAS EM OBJETO DE SERVICO</td>\n",
       "      <td>2024NE001226</td>\n",
       "      <td>2024</td>\n",
       "      <td>2024-10-14</td>\n",
       "      <td>160129000012024NE001226</td>\n",
       "      <td>39644514000115</td>\n",
       "      <td>MULTI PRIME MUDANCAS E TRANSPORTES ESPECIAIS LTDA</td>\n",
       "      <td>GO</td>\n",
       "      <td>ANO</td>\n",
       "      <td>57</td>\n",
       "      <td>MG</td>\n",
       "      <td>1000000000</td>\n",
       "      <td>PREGAO</td>\n",
       "      <td>ESTIMATIVO</td>\n",
       "      <td>1</td>\n",
       "      <td>PRIMARIO OBRIGATORIO</td>\n",
       "      <td>A</td>\n",
       "      <td>INICIAL (LOA)</td>\n",
       "      <td>0000</td>\n",
       "      <td>000000000000</td>\n",
       "      <td>SEM EMENDA</td>\n",
       "      <td>ESCOLA DE SARGENTOS DAS ARMAS</td>\n",
       "      <td>COMANDO DO EXERCITO</td>\n",
       "      <td>52121</td>\n",
       "      <td>747.00</td>\n",
       "      <td>0.0</td>\n",
       "      <td>747.00</td>\n",
       "      <td>0.0</td>\n",
       "    </tr>\n",
       "    <tr>\n",
       "      <th>608</th>\n",
       "      <td>160129</td>\n",
       "      <td>ESA</td>\n",
       "      <td>4º CGCFEx</td>\n",
       "      <td>4ª RM</td>\n",
       "      <td>CML</td>\n",
       "      <td>Três Corações</td>\n",
       "      <td>MG</td>\n",
       "      <td>6112</td>\n",
       "      <td>212O</td>\n",
       "      <td>MOVIMENTACAO DE MILITARES</td>\n",
       "      <td>160505</td>\n",
       "      <td>DGP</td>\n",
       "      <td>232007</td>\n",
       "      <td>D6DAATSLOCO</td>\n",
       "      <td>D6DA</td>\n",
       "      <td>ATS</td>\n",
       "      <td>LOCO</td>\n",
       "      <td>ATS - ATIVIDADES SETORIAIS</td>\n",
       "      <td>339033</td>\n",
       "      <td>PASSAGENS E DESPESAS COM LOCOMOCAO</td>\n",
       "      <td>33903304</td>\n",
       "      <td>MUDANCAS EM OBJETO DE SERVICO</td>\n",
       "      <td>2024NE001227</td>\n",
       "      <td>2024</td>\n",
       "      <td>2024-10-14</td>\n",
       "      <td>160129000012024NE001227</td>\n",
       "      <td>39644514000115</td>\n",
       "      <td>MULTI PRIME MUDANCAS E TRANSPORTES ESPECIAIS LTDA</td>\n",
       "      <td>GO</td>\n",
       "      <td>ANO</td>\n",
       "      <td>57</td>\n",
       "      <td>MG</td>\n",
       "      <td>1000000000</td>\n",
       "      <td>PREGAO</td>\n",
       "      <td>ESTIMATIVO</td>\n",
       "      <td>1</td>\n",
       "      <td>PRIMARIO OBRIGATORIO</td>\n",
       "      <td>A</td>\n",
       "      <td>INICIAL (LOA)</td>\n",
       "      <td>0000</td>\n",
       "      <td>000000000000</td>\n",
       "      <td>SEM EMENDA</td>\n",
       "      <td>ESCOLA DE SARGENTOS DAS ARMAS</td>\n",
       "      <td>COMANDO DO EXERCITO</td>\n",
       "      <td>52121</td>\n",
       "      <td>437.00</td>\n",
       "      <td>0.0</td>\n",
       "      <td>437.00</td>\n",
       "      <td>0.0</td>\n",
       "    </tr>\n",
       "    <tr>\n",
       "      <th>609</th>\n",
       "      <td>160129</td>\n",
       "      <td>ESA</td>\n",
       "      <td>4º CGCFEx</td>\n",
       "      <td>4ª RM</td>\n",
       "      <td>CML</td>\n",
       "      <td>Três Corações</td>\n",
       "      <td>MG</td>\n",
       "      <td>6112</td>\n",
       "      <td>212O</td>\n",
       "      <td>MOVIMENTACAO DE MILITARES</td>\n",
       "      <td>160505</td>\n",
       "      <td>DGP</td>\n",
       "      <td>232007</td>\n",
       "      <td>D6DAATSLOCO</td>\n",
       "      <td>D6DA</td>\n",
       "      <td>ATS</td>\n",
       "      <td>LOCO</td>\n",
       "      <td>ATS - ATIVIDADES SETORIAIS</td>\n",
       "      <td>339033</td>\n",
       "      <td>PASSAGENS E DESPESAS COM LOCOMOCAO</td>\n",
       "      <td>33903304</td>\n",
       "      <td>MUDANCAS EM OBJETO DE SERVICO</td>\n",
       "      <td>2024NE001232</td>\n",
       "      <td>2024</td>\n",
       "      <td>2024-10-18</td>\n",
       "      <td>160129000012024NE001232</td>\n",
       "      <td>39644514000115</td>\n",
       "      <td>MULTI PRIME MUDANCAS E TRANSPORTES ESPECIAIS LTDA</td>\n",
       "      <td>GO</td>\n",
       "      <td>ANO</td>\n",
       "      <td>53</td>\n",
       "      <td>MG</td>\n",
       "      <td>1000000000</td>\n",
       "      <td>PREGAO</td>\n",
       "      <td>ESTIMATIVO</td>\n",
       "      <td>1</td>\n",
       "      <td>PRIMARIO OBRIGATORIO</td>\n",
       "      <td>A</td>\n",
       "      <td>INICIAL (LOA)</td>\n",
       "      <td>0000</td>\n",
       "      <td>000000000000</td>\n",
       "      <td>SEM EMENDA</td>\n",
       "      <td>ESCOLA DE SARGENTOS DAS ARMAS</td>\n",
       "      <td>COMANDO DO EXERCITO</td>\n",
       "      <td>52121</td>\n",
       "      <td>919.00</td>\n",
       "      <td>0.0</td>\n",
       "      <td>919.00</td>\n",
       "      <td>0.0</td>\n",
       "    </tr>\n",
       "    <tr>\n",
       "      <th>610</th>\n",
       "      <td>160129</td>\n",
       "      <td>ESA</td>\n",
       "      <td>4º CGCFEx</td>\n",
       "      <td>4ª RM</td>\n",
       "      <td>CML</td>\n",
       "      <td>Três Corações</td>\n",
       "      <td>MG</td>\n",
       "      <td>6112</td>\n",
       "      <td>212O</td>\n",
       "      <td>MOVIMENTACAO DE MILITARES</td>\n",
       "      <td>160505</td>\n",
       "      <td>DGP</td>\n",
       "      <td>232007</td>\n",
       "      <td>D6DAATSLOCO</td>\n",
       "      <td>D6DA</td>\n",
       "      <td>ATS</td>\n",
       "      <td>LOCO</td>\n",
       "      <td>ATS - ATIVIDADES SETORIAIS</td>\n",
       "      <td>339033</td>\n",
       "      <td>PASSAGENS E DESPESAS COM LOCOMOCAO</td>\n",
       "      <td>33903304</td>\n",
       "      <td>MUDANCAS EM OBJETO DE SERVICO</td>\n",
       "      <td>2024NE001252</td>\n",
       "      <td>2024</td>\n",
       "      <td>2024-10-22</td>\n",
       "      <td>160129000012024NE001252</td>\n",
       "      <td>39644514000115</td>\n",
       "      <td>MULTI PRIME MUDANCAS E TRANSPORTES ESPECIAIS LTDA</td>\n",
       "      <td>GO</td>\n",
       "      <td>ANO</td>\n",
       "      <td>49</td>\n",
       "      <td>MG</td>\n",
       "      <td>1000000000</td>\n",
       "      <td>PREGAO</td>\n",
       "      <td>ESTIMATIVO</td>\n",
       "      <td>1</td>\n",
       "      <td>PRIMARIO OBRIGATORIO</td>\n",
       "      <td>A</td>\n",
       "      <td>INICIAL (LOA)</td>\n",
       "      <td>0000</td>\n",
       "      <td>000000000000</td>\n",
       "      <td>SEM EMENDA</td>\n",
       "      <td>ESCOLA DE SARGENTOS DAS ARMAS</td>\n",
       "      <td>COMANDO DO EXERCITO</td>\n",
       "      <td>52121</td>\n",
       "      <td>919.00</td>\n",
       "      <td>0.0</td>\n",
       "      <td>919.00</td>\n",
       "      <td>0.0</td>\n",
       "    </tr>\n",
       "    <tr>\n",
       "      <th>611</th>\n",
       "      <td>160129</td>\n",
       "      <td>ESA</td>\n",
       "      <td>4º CGCFEx</td>\n",
       "      <td>4ª RM</td>\n",
       "      <td>CML</td>\n",
       "      <td>Três Corações</td>\n",
       "      <td>MG</td>\n",
       "      <td>6112</td>\n",
       "      <td>212O</td>\n",
       "      <td>MOVIMENTACAO DE MILITARES</td>\n",
       "      <td>160505</td>\n",
       "      <td>DGP</td>\n",
       "      <td>232007</td>\n",
       "      <td>D6DAATSLOCO</td>\n",
       "      <td>D6DA</td>\n",
       "      <td>ATS</td>\n",
       "      <td>LOCO</td>\n",
       "      <td>ATS - ATIVIDADES SETORIAIS</td>\n",
       "      <td>339033</td>\n",
       "      <td>PASSAGENS E DESPESAS COM LOCOMOCAO</td>\n",
       "      <td>33903304</td>\n",
       "      <td>MUDANCAS EM OBJETO DE SERVICO</td>\n",
       "      <td>2024NE001555</td>\n",
       "      <td>2024</td>\n",
       "      <td>2024-11-05</td>\n",
       "      <td>160129000012024NE001555</td>\n",
       "      <td>39644514000115</td>\n",
       "      <td>MULTI PRIME MUDANCAS E TRANSPORTES ESPECIAIS LTDA</td>\n",
       "      <td>GO</td>\n",
       "      <td>ANO</td>\n",
       "      <td>35</td>\n",
       "      <td>MG</td>\n",
       "      <td>1000000000</td>\n",
       "      <td>PREGAO</td>\n",
       "      <td>ESTIMATIVO</td>\n",
       "      <td>1</td>\n",
       "      <td>PRIMARIO OBRIGATORIO</td>\n",
       "      <td>A</td>\n",
       "      <td>INICIAL (LOA)</td>\n",
       "      <td>0000</td>\n",
       "      <td>000000000000</td>\n",
       "      <td>SEM EMENDA</td>\n",
       "      <td>ESCOLA DE SARGENTOS DAS ARMAS</td>\n",
       "      <td>COMANDO DO EXERCITO</td>\n",
       "      <td>52121</td>\n",
       "      <td>397.00</td>\n",
       "      <td>0.0</td>\n",
       "      <td>397.00</td>\n",
       "      <td>0.0</td>\n",
       "    </tr>\n",
       "    <tr>\n",
       "      <th>612</th>\n",
       "      <td>160129</td>\n",
       "      <td>ESA</td>\n",
       "      <td>4º CGCFEx</td>\n",
       "      <td>4ª RM</td>\n",
       "      <td>CML</td>\n",
       "      <td>Três Corações</td>\n",
       "      <td>MG</td>\n",
       "      <td>6112</td>\n",
       "      <td>212O</td>\n",
       "      <td>MOVIMENTACAO DE MILITARES</td>\n",
       "      <td>160505</td>\n",
       "      <td>DGP</td>\n",
       "      <td>232007</td>\n",
       "      <td>D6DAATSLOCO</td>\n",
       "      <td>D6DA</td>\n",
       "      <td>ATS</td>\n",
       "      <td>LOCO</td>\n",
       "      <td>ATS - ATIVIDADES SETORIAIS</td>\n",
       "      <td>339033</td>\n",
       "      <td>PASSAGENS E DESPESAS COM LOCOMOCAO</td>\n",
       "      <td>33903304</td>\n",
       "      <td>MUDANCAS EM OBJETO DE SERVICO</td>\n",
       "      <td>2024NE001558</td>\n",
       "      <td>2024</td>\n",
       "      <td>2024-11-05</td>\n",
       "      <td>160129000012024NE001558</td>\n",
       "      <td>39644514000115</td>\n",
       "      <td>MULTI PRIME MUDANCAS E TRANSPORTES ESPECIAIS LTDA</td>\n",
       "      <td>GO</td>\n",
       "      <td>ANO</td>\n",
       "      <td>35</td>\n",
       "      <td>MG</td>\n",
       "      <td>1000000000</td>\n",
       "      <td>PREGAO</td>\n",
       "      <td>ESTIMATIVO</td>\n",
       "      <td>1</td>\n",
       "      <td>PRIMARIO OBRIGATORIO</td>\n",
       "      <td>A</td>\n",
       "      <td>INICIAL (LOA)</td>\n",
       "      <td>0000</td>\n",
       "      <td>000000000000</td>\n",
       "      <td>SEM EMENDA</td>\n",
       "      <td>ESCOLA DE SARGENTOS DAS ARMAS</td>\n",
       "      <td>COMANDO DO EXERCITO</td>\n",
       "      <td>52121</td>\n",
       "      <td>598.00</td>\n",
       "      <td>0.0</td>\n",
       "      <td>598.00</td>\n",
       "      <td>0.0</td>\n",
       "    </tr>\n",
       "    <tr>\n",
       "      <th>613</th>\n",
       "      <td>160129</td>\n",
       "      <td>ESA</td>\n",
       "      <td>4º CGCFEx</td>\n",
       "      <td>4ª RM</td>\n",
       "      <td>CML</td>\n",
       "      <td>Três Corações</td>\n",
       "      <td>MG</td>\n",
       "      <td>6112</td>\n",
       "      <td>212O</td>\n",
       "      <td>MOVIMENTACAO DE MILITARES</td>\n",
       "      <td>160505</td>\n",
       "      <td>DGP</td>\n",
       "      <td>232007</td>\n",
       "      <td>D6DAATSLOCO</td>\n",
       "      <td>D6DA</td>\n",
       "      <td>ATS</td>\n",
       "      <td>LOCO</td>\n",
       "      <td>ATS - ATIVIDADES SETORIAIS</td>\n",
       "      <td>339033</td>\n",
       "      <td>PASSAGENS E DESPESAS COM LOCOMOCAO</td>\n",
       "      <td>33903304</td>\n",
       "      <td>MUDANCAS EM OBJETO DE SERVICO</td>\n",
       "      <td>2024NE001559</td>\n",
       "      <td>2024</td>\n",
       "      <td>2024-11-05</td>\n",
       "      <td>160129000012024NE001559</td>\n",
       "      <td>39644514000115</td>\n",
       "      <td>MULTI PRIME MUDANCAS E TRANSPORTES ESPECIAIS LTDA</td>\n",
       "      <td>GO</td>\n",
       "      <td>ANO</td>\n",
       "      <td>35</td>\n",
       "      <td>MG</td>\n",
       "      <td>1000000000</td>\n",
       "      <td>PREGAO</td>\n",
       "      <td>ESTIMATIVO</td>\n",
       "      <td>1</td>\n",
       "      <td>PRIMARIO OBRIGATORIO</td>\n",
       "      <td>A</td>\n",
       "      <td>INICIAL (LOA)</td>\n",
       "      <td>0000</td>\n",
       "      <td>000000000000</td>\n",
       "      <td>SEM EMENDA</td>\n",
       "      <td>ESCOLA DE SARGENTOS DAS ARMAS</td>\n",
       "      <td>COMANDO DO EXERCITO</td>\n",
       "      <td>52121</td>\n",
       "      <td>598.00</td>\n",
       "      <td>0.0</td>\n",
       "      <td>598.00</td>\n",
       "      <td>0.0</td>\n",
       "    </tr>\n",
       "    <tr>\n",
       "      <th>614</th>\n",
       "      <td>160129</td>\n",
       "      <td>ESA</td>\n",
       "      <td>4º CGCFEx</td>\n",
       "      <td>4ª RM</td>\n",
       "      <td>CML</td>\n",
       "      <td>Três Corações</td>\n",
       "      <td>MG</td>\n",
       "      <td>6112</td>\n",
       "      <td>212O</td>\n",
       "      <td>MOVIMENTACAO DE MILITARES</td>\n",
       "      <td>160505</td>\n",
       "      <td>DGP</td>\n",
       "      <td>232007</td>\n",
       "      <td>D6DAATSLOCO</td>\n",
       "      <td>D6DA</td>\n",
       "      <td>ATS</td>\n",
       "      <td>LOCO</td>\n",
       "      <td>ATS - ATIVIDADES SETORIAIS</td>\n",
       "      <td>339033</td>\n",
       "      <td>PASSAGENS E DESPESAS COM LOCOMOCAO</td>\n",
       "      <td>33903304</td>\n",
       "      <td>MUDANCAS EM OBJETO DE SERVICO</td>\n",
       "      <td>2024NE001571</td>\n",
       "      <td>2024</td>\n",
       "      <td>2024-11-07</td>\n",
       "      <td>160129000012024NE001571</td>\n",
       "      <td>39644514000115</td>\n",
       "      <td>MULTI PRIME MUDANCAS E TRANSPORTES ESPECIAIS LTDA</td>\n",
       "      <td>GO</td>\n",
       "      <td>ANO</td>\n",
       "      <td>33</td>\n",
       "      <td>MG</td>\n",
       "      <td>1000000000</td>\n",
       "      <td>PREGAO</td>\n",
       "      <td>ESTIMATIVO</td>\n",
       "      <td>1</td>\n",
       "      <td>PRIMARIO OBRIGATORIO</td>\n",
       "      <td>A</td>\n",
       "      <td>INICIAL (LOA)</td>\n",
       "      <td>0000</td>\n",
       "      <td>000000000000</td>\n",
       "      <td>SEM EMENDA</td>\n",
       "      <td>ESCOLA DE SARGENTOS DAS ARMAS</td>\n",
       "      <td>COMANDO DO EXERCITO</td>\n",
       "      <td>52121</td>\n",
       "      <td>397.00</td>\n",
       "      <td>0.0</td>\n",
       "      <td>397.00</td>\n",
       "      <td>0.0</td>\n",
       "    </tr>\n",
       "    <tr>\n",
       "      <th>615</th>\n",
       "      <td>160129</td>\n",
       "      <td>ESA</td>\n",
       "      <td>4º CGCFEx</td>\n",
       "      <td>4ª RM</td>\n",
       "      <td>CML</td>\n",
       "      <td>Três Corações</td>\n",
       "      <td>MG</td>\n",
       "      <td>6112</td>\n",
       "      <td>212O</td>\n",
       "      <td>MOVIMENTACAO DE MILITARES</td>\n",
       "      <td>160505</td>\n",
       "      <td>DGP</td>\n",
       "      <td>232007</td>\n",
       "      <td>D6DAATSLOCO</td>\n",
       "      <td>D6DA</td>\n",
       "      <td>ATS</td>\n",
       "      <td>LOCO</td>\n",
       "      <td>ATS - ATIVIDADES SETORIAIS</td>\n",
       "      <td>339033</td>\n",
       "      <td>PASSAGENS E DESPESAS COM LOCOMOCAO</td>\n",
       "      <td>33903304</td>\n",
       "      <td>MUDANCAS EM OBJETO DE SERVICO</td>\n",
       "      <td>2024NE001943</td>\n",
       "      <td>2024</td>\n",
       "      <td>2024-11-12</td>\n",
       "      <td>160129000012024NE001943</td>\n",
       "      <td>39644514000115</td>\n",
       "      <td>MULTI PRIME MUDANCAS E TRANSPORTES ESPECIAIS LTDA</td>\n",
       "      <td>GO</td>\n",
       "      <td>ANO</td>\n",
       "      <td>28</td>\n",
       "      <td>MG</td>\n",
       "      <td>1000000000</td>\n",
       "      <td>PREGAO</td>\n",
       "      <td>ESTIMATIVO</td>\n",
       "      <td>1</td>\n",
       "      <td>PRIMARIO OBRIGATORIO</td>\n",
       "      <td>A</td>\n",
       "      <td>INICIAL (LOA)</td>\n",
       "      <td>0000</td>\n",
       "      <td>000000000000</td>\n",
       "      <td>SEM EMENDA</td>\n",
       "      <td>ESCOLA DE SARGENTOS DAS ARMAS</td>\n",
       "      <td>COMANDO DO EXERCITO</td>\n",
       "      <td>52121</td>\n",
       "      <td>598.00</td>\n",
       "      <td>0.0</td>\n",
       "      <td>598.00</td>\n",
       "      <td>0.0</td>\n",
       "    </tr>\n",
       "    <tr>\n",
       "      <th>616</th>\n",
       "      <td>160129</td>\n",
       "      <td>ESA</td>\n",
       "      <td>4º CGCFEx</td>\n",
       "      <td>4ª RM</td>\n",
       "      <td>CML</td>\n",
       "      <td>Três Corações</td>\n",
       "      <td>MG</td>\n",
       "      <td>6112</td>\n",
       "      <td>212O</td>\n",
       "      <td>MOVIMENTACAO DE MILITARES</td>\n",
       "      <td>160505</td>\n",
       "      <td>DGP</td>\n",
       "      <td>232007</td>\n",
       "      <td>D6DAATSLOCO</td>\n",
       "      <td>D6DA</td>\n",
       "      <td>ATS</td>\n",
       "      <td>LOCO</td>\n",
       "      <td>ATS - ATIVIDADES SETORIAIS</td>\n",
       "      <td>339033</td>\n",
       "      <td>PASSAGENS E DESPESAS COM LOCOMOCAO</td>\n",
       "      <td>33903304</td>\n",
       "      <td>MUDANCAS EM OBJETO DE SERVICO</td>\n",
       "      <td>2024NE001944</td>\n",
       "      <td>2024</td>\n",
       "      <td>2024-11-12</td>\n",
       "      <td>160129000012024NE001944</td>\n",
       "      <td>39644514000115</td>\n",
       "      <td>MULTI PRIME MUDANCAS E TRANSPORTES ESPECIAIS LTDA</td>\n",
       "      <td>GO</td>\n",
       "      <td>ANO</td>\n",
       "      <td>28</td>\n",
       "      <td>MG</td>\n",
       "      <td>1000000000</td>\n",
       "      <td>PREGAO</td>\n",
       "      <td>ESTIMATIVO</td>\n",
       "      <td>1</td>\n",
       "      <td>PRIMARIO OBRIGATORIO</td>\n",
       "      <td>A</td>\n",
       "      <td>INICIAL (LOA)</td>\n",
       "      <td>0000</td>\n",
       "      <td>000000000000</td>\n",
       "      <td>SEM EMENDA</td>\n",
       "      <td>ESCOLA DE SARGENTOS DAS ARMAS</td>\n",
       "      <td>COMANDO DO EXERCITO</td>\n",
       "      <td>52121</td>\n",
       "      <td>598.00</td>\n",
       "      <td>0.0</td>\n",
       "      <td>598.00</td>\n",
       "      <td>0.0</td>\n",
       "    </tr>\n",
       "    <tr>\n",
       "      <th>617</th>\n",
       "      <td>160129</td>\n",
       "      <td>ESA</td>\n",
       "      <td>4º CGCFEx</td>\n",
       "      <td>4ª RM</td>\n",
       "      <td>CML</td>\n",
       "      <td>Três Corações</td>\n",
       "      <td>MG</td>\n",
       "      <td>6112</td>\n",
       "      <td>212O</td>\n",
       "      <td>MOVIMENTACAO DE MILITARES</td>\n",
       "      <td>160505</td>\n",
       "      <td>DGP</td>\n",
       "      <td>232007</td>\n",
       "      <td>D6DAATSLOCO</td>\n",
       "      <td>D6DA</td>\n",
       "      <td>ATS</td>\n",
       "      <td>LOCO</td>\n",
       "      <td>ATS - ATIVIDADES SETORIAIS</td>\n",
       "      <td>339033</td>\n",
       "      <td>PASSAGENS E DESPESAS COM LOCOMOCAO</td>\n",
       "      <td>33903304</td>\n",
       "      <td>MUDANCAS EM OBJETO DE SERVICO</td>\n",
       "      <td>2024NE002090</td>\n",
       "      <td>2024</td>\n",
       "      <td>2024-11-18</td>\n",
       "      <td>160129000012024NE002090</td>\n",
       "      <td>39644514000115</td>\n",
       "      <td>MULTI PRIME MUDANCAS E TRANSPORTES ESPECIAIS LTDA</td>\n",
       "      <td>GO</td>\n",
       "      <td>ANO</td>\n",
       "      <td>22</td>\n",
       "      <td>MG</td>\n",
       "      <td>1000000000</td>\n",
       "      <td>PREGAO</td>\n",
       "      <td>ESTIMATIVO</td>\n",
       "      <td>1</td>\n",
       "      <td>PRIMARIO OBRIGATORIO</td>\n",
       "      <td>A</td>\n",
       "      <td>INICIAL (LOA)</td>\n",
       "      <td>0000</td>\n",
       "      <td>000000000000</td>\n",
       "      <td>SEM EMENDA</td>\n",
       "      <td>ESCOLA DE SARGENTOS DAS ARMAS</td>\n",
       "      <td>COMANDO DO EXERCITO</td>\n",
       "      <td>52121</td>\n",
       "      <td>747.00</td>\n",
       "      <td>0.0</td>\n",
       "      <td>747.00</td>\n",
       "      <td>0.0</td>\n",
       "    </tr>\n",
       "    <tr>\n",
       "      <th>618</th>\n",
       "      <td>160129</td>\n",
       "      <td>ESA</td>\n",
       "      <td>4º CGCFEx</td>\n",
       "      <td>4ª RM</td>\n",
       "      <td>CML</td>\n",
       "      <td>Três Corações</td>\n",
       "      <td>MG</td>\n",
       "      <td>6112</td>\n",
       "      <td>212O</td>\n",
       "      <td>MOVIMENTACAO DE MILITARES</td>\n",
       "      <td>160505</td>\n",
       "      <td>DGP</td>\n",
       "      <td>232007</td>\n",
       "      <td>D6DAATSLOCO</td>\n",
       "      <td>D6DA</td>\n",
       "      <td>ATS</td>\n",
       "      <td>LOCO</td>\n",
       "      <td>ATS - ATIVIDADES SETORIAIS</td>\n",
       "      <td>339033</td>\n",
       "      <td>PASSAGENS E DESPESAS COM LOCOMOCAO</td>\n",
       "      <td>33903304</td>\n",
       "      <td>MUDANCAS EM OBJETO DE SERVICO</td>\n",
       "      <td>2024NE002345</td>\n",
       "      <td>2024</td>\n",
       "      <td>2024-11-25</td>\n",
       "      <td>160129000012024NE002345</td>\n",
       "      <td>39644514000115</td>\n",
       "      <td>MULTI PRIME MUDANCAS E TRANSPORTES ESPECIAIS LTDA</td>\n",
       "      <td>GO</td>\n",
       "      <td>ANO</td>\n",
       "      <td>15</td>\n",
       "      <td>MG</td>\n",
       "      <td>1000000000</td>\n",
       "      <td>PREGAO</td>\n",
       "      <td>ESTIMATIVO</td>\n",
       "      <td>1</td>\n",
       "      <td>PRIMARIO OBRIGATORIO</td>\n",
       "      <td>A</td>\n",
       "      <td>INICIAL (LOA)</td>\n",
       "      <td>0000</td>\n",
       "      <td>000000000000</td>\n",
       "      <td>SEM EMENDA</td>\n",
       "      <td>ESCOLA DE SARGENTOS DAS ARMAS</td>\n",
       "      <td>COMANDO DO EXERCITO</td>\n",
       "      <td>52121</td>\n",
       "      <td>598.00</td>\n",
       "      <td>0.0</td>\n",
       "      <td>598.00</td>\n",
       "      <td>0.0</td>\n",
       "    </tr>\n",
       "    <tr>\n",
       "      <th>624</th>\n",
       "      <td>160129</td>\n",
       "      <td>ESA</td>\n",
       "      <td>4º CGCFEx</td>\n",
       "      <td>4ª RM</td>\n",
       "      <td>CML</td>\n",
       "      <td>Três Corações</td>\n",
       "      <td>MG</td>\n",
       "      <td>6112</td>\n",
       "      <td>212O</td>\n",
       "      <td>MOVIMENTACAO DE MILITARES</td>\n",
       "      <td>160505</td>\n",
       "      <td>DGP</td>\n",
       "      <td>232007</td>\n",
       "      <td>D6PEINDMV1A</td>\n",
       "      <td>D6PE</td>\n",
       "      <td>IND</td>\n",
       "      <td>MV1A</td>\n",
       "      <td>IND-INDENIZACOES</td>\n",
       "      <td>339092</td>\n",
       "      <td>DESPESAS DE EXERCICIOS ANTERIORES</td>\n",
       "      <td>33909293</td>\n",
       "      <td>INDENIZACOES E RESTITUICOES</td>\n",
       "      <td>2024NE002562</td>\n",
       "      <td>2024</td>\n",
       "      <td>2024-12-06</td>\n",
       "      <td>160129000012024NE002562</td>\n",
       "      <td>16649797782</td>\n",
       "      <td>DANIEL ROSA DE OLIVEIRA</td>\n",
       "      <td>RS</td>\n",
       "      <td>ANO</td>\n",
       "      <td>4</td>\n",
       "      <td>MG</td>\n",
       "      <td>1000000000</td>\n",
       "      <td>NAO SE APLICA</td>\n",
       "      <td>ORDINARIO</td>\n",
       "      <td>1</td>\n",
       "      <td>PRIMARIO OBRIGATORIO</td>\n",
       "      <td>A</td>\n",
       "      <td>INICIAL (LOA)</td>\n",
       "      <td>0000</td>\n",
       "      <td>000000000000</td>\n",
       "      <td>SEM EMENDA</td>\n",
       "      <td>0</td>\n",
       "      <td>COMANDO DO EXERCITO</td>\n",
       "      <td>52121</td>\n",
       "      <td>6275.99</td>\n",
       "      <td>0.0</td>\n",
       "      <td>6275.99</td>\n",
       "      <td>0.0</td>\n",
       "    </tr>\n",
       "    <tr>\n",
       "      <th>1522</th>\n",
       "      <td>160129</td>\n",
       "      <td>ESA</td>\n",
       "      <td>4º CGCFEx</td>\n",
       "      <td>4ª RM</td>\n",
       "      <td>CML</td>\n",
       "      <td>Três Corações</td>\n",
       "      <td>MG</td>\n",
       "      <td>6112</td>\n",
       "      <td>212O</td>\n",
       "      <td>MOVIMENTACAO DE MILITARES</td>\n",
       "      <td>160505</td>\n",
       "      <td>DGP</td>\n",
       "      <td>232007</td>\n",
       "      <td>D6PEINDMV1A</td>\n",
       "      <td>D6PE</td>\n",
       "      <td>IND</td>\n",
       "      <td>MV1A</td>\n",
       "      <td>IND-INDENIZACOES</td>\n",
       "      <td>339093</td>\n",
       "      <td>INDENIZACOES E RESTITUICOES</td>\n",
       "      <td>33909318</td>\n",
       "      <td>AJUDA DE CUSTO - PESSOAL MILITAR</td>\n",
       "      <td>2024NE002571</td>\n",
       "      <td>2024</td>\n",
       "      <td>2024-12-09</td>\n",
       "      <td>160129000012024NE002571</td>\n",
       "      <td>03442544106</td>\n",
       "      <td>CRISTHIAN CESARES NASCIMENTO DOS PASSOS</td>\n",
       "      <td>DF</td>\n",
       "      <td>ANO</td>\n",
       "      <td>1</td>\n",
       "      <td>MG</td>\n",
       "      <td>1000000000</td>\n",
       "      <td>NAO SE APLICA</td>\n",
       "      <td>ORDINARIO</td>\n",
       "      <td>1</td>\n",
       "      <td>PRIMARIO OBRIGATORIO</td>\n",
       "      <td>A</td>\n",
       "      <td>INICIAL (LOA)</td>\n",
       "      <td>0000</td>\n",
       "      <td>000000000000</td>\n",
       "      <td>SEM EMENDA</td>\n",
       "      <td>0</td>\n",
       "      <td>COMANDO DO EXERCITO</td>\n",
       "      <td>52121</td>\n",
       "      <td>16504.20</td>\n",
       "      <td>0.0</td>\n",
       "      <td>16504.20</td>\n",
       "      <td>0.0</td>\n",
       "    </tr>\n",
       "    <tr>\n",
       "      <th>2272</th>\n",
       "      <td>160129</td>\n",
       "      <td>ESA</td>\n",
       "      <td>4º CGCFEx</td>\n",
       "      <td>4ª RM</td>\n",
       "      <td>CML</td>\n",
       "      <td>Três Corações</td>\n",
       "      <td>MG</td>\n",
       "      <td>6112</td>\n",
       "      <td>212O</td>\n",
       "      <td>MOVIMENTACAO DE MILITARES</td>\n",
       "      <td>160505</td>\n",
       "      <td>DGP</td>\n",
       "      <td>232007</td>\n",
       "      <td>D6PEINDMV1T</td>\n",
       "      <td>D6PE</td>\n",
       "      <td>IND</td>\n",
       "      <td>MV1T</td>\n",
       "      <td>IND - INDENIZACOES</td>\n",
       "      <td>339093</td>\n",
       "      <td>INDENIZACOES E RESTITUICOES</td>\n",
       "      <td>33909319</td>\n",
       "      <td>INDENIZACAO DE TRANSPORTE - PESSOAL MILITAR</td>\n",
       "      <td>2024NE002570</td>\n",
       "      <td>2024</td>\n",
       "      <td>2024-12-09</td>\n",
       "      <td>160129000012024NE002570</td>\n",
       "      <td>03442544106</td>\n",
       "      <td>CRISTHIAN CESARES NASCIMENTO DOS PASSOS</td>\n",
       "      <td>DF</td>\n",
       "      <td>ANO</td>\n",
       "      <td>1</td>\n",
       "      <td>MG</td>\n",
       "      <td>1000000000</td>\n",
       "      <td>NAO SE APLICA</td>\n",
       "      <td>ORDINARIO</td>\n",
       "      <td>1</td>\n",
       "      <td>PRIMARIO OBRIGATORIO</td>\n",
       "      <td>A</td>\n",
       "      <td>INICIAL (LOA)</td>\n",
       "      <td>0000</td>\n",
       "      <td>000000000000</td>\n",
       "      <td>SEM EMENDA</td>\n",
       "      <td>0</td>\n",
       "      <td>COMANDO DO EXERCITO</td>\n",
       "      <td>52121</td>\n",
       "      <td>446.40</td>\n",
       "      <td>0.0</td>\n",
       "      <td>446.40</td>\n",
       "      <td>0.0</td>\n",
       "    </tr>\n",
       "    <tr>\n",
       "      <th>2277</th>\n",
       "      <td>160129</td>\n",
       "      <td>ESA</td>\n",
       "      <td>4º CGCFEx</td>\n",
       "      <td>4ª RM</td>\n",
       "      <td>CML</td>\n",
       "      <td>Três Corações</td>\n",
       "      <td>MG</td>\n",
       "      <td>6112</td>\n",
       "      <td>212O</td>\n",
       "      <td>MOVIMENTACAO DE MILITARES</td>\n",
       "      <td>160505</td>\n",
       "      <td>DGP</td>\n",
       "      <td>232007</td>\n",
       "      <td>DGPREQTRNP3</td>\n",
       "      <td>DGPR</td>\n",
       "      <td>EQT</td>\n",
       "      <td>RNP3</td>\n",
       "      <td>MIS EXT REQS TRNP BAG INTER</td>\n",
       "      <td>339033</td>\n",
       "      <td>PASSAGENS E DESPESAS COM LOCOMOCAO</td>\n",
       "      <td>33903301</td>\n",
       "      <td>PASSAGENS PARA O PAIS</td>\n",
       "      <td>2024NE001256</td>\n",
       "      <td>2024</td>\n",
       "      <td>2024-10-23</td>\n",
       "      <td>160129000012024NE001256</td>\n",
       "      <td>21331404000138</td>\n",
       "      <td>ORLEANS VIAGENS E TURISMO LTDA</td>\n",
       "      <td>SP</td>\n",
       "      <td>ANO</td>\n",
       "      <td>48</td>\n",
       "      <td>MG</td>\n",
       "      <td>1000000000</td>\n",
       "      <td>PREGAO</td>\n",
       "      <td>GLOBAL</td>\n",
       "      <td>1</td>\n",
       "      <td>PRIMARIO OBRIGATORIO</td>\n",
       "      <td>A</td>\n",
       "      <td>INICIAL (LOA)</td>\n",
       "      <td>0000</td>\n",
       "      <td>000000000000</td>\n",
       "      <td>SEM EMENDA</td>\n",
       "      <td>ESA</td>\n",
       "      <td>COMANDO DO EXERCITO</td>\n",
       "      <td>52121</td>\n",
       "      <td>773.14</td>\n",
       "      <td>0.0</td>\n",
       "      <td>773.14</td>\n",
       "      <td>0.0</td>\n",
       "    </tr>\n",
       "  </tbody>\n",
       "</table>\n",
       "</div>"
      ],
      "text/plain": [
       "          UG SIGLA     CGCFEX     RM COMANDO         CIDADE  UF PROGRAMA  \\\n",
       "580   160129   ESA  4º CGCFEx  4ª RM     CML  Três Corações  MG     6112   \n",
       "581   160129   ESA  4º CGCFEx  4ª RM     CML  Três Corações  MG     6112   \n",
       "582   160129   ESA  4º CGCFEx  4ª RM     CML  Três Corações  MG     6112   \n",
       "583   160129   ESA  4º CGCFEx  4ª RM     CML  Três Corações  MG     6112   \n",
       "584   160129   ESA  4º CGCFEx  4ª RM     CML  Três Corações  MG     6112   \n",
       "585   160129   ESA  4º CGCFEx  4ª RM     CML  Três Corações  MG     6112   \n",
       "586   160129   ESA  4º CGCFEx  4ª RM     CML  Três Corações  MG     6112   \n",
       "587   160129   ESA  4º CGCFEx  4ª RM     CML  Três Corações  MG     6112   \n",
       "588   160129   ESA  4º CGCFEx  4ª RM     CML  Três Corações  MG     6112   \n",
       "589   160129   ESA  4º CGCFEx  4ª RM     CML  Três Corações  MG     6112   \n",
       "590   160129   ESA  4º CGCFEx  4ª RM     CML  Três Corações  MG     6112   \n",
       "591   160129   ESA  4º CGCFEx  4ª RM     CML  Três Corações  MG     6112   \n",
       "592   160129   ESA  4º CGCFEx  4ª RM     CML  Três Corações  MG     6112   \n",
       "593   160129   ESA  4º CGCFEx  4ª RM     CML  Três Corações  MG     6112   \n",
       "594   160129   ESA  4º CGCFEx  4ª RM     CML  Três Corações  MG     6112   \n",
       "595   160129   ESA  4º CGCFEx  4ª RM     CML  Três Corações  MG     6112   \n",
       "596   160129   ESA  4º CGCFEx  4ª RM     CML  Três Corações  MG     6112   \n",
       "597   160129   ESA  4º CGCFEx  4ª RM     CML  Três Corações  MG     6112   \n",
       "598   160129   ESA  4º CGCFEx  4ª RM     CML  Três Corações  MG     6112   \n",
       "599   160129   ESA  4º CGCFEx  4ª RM     CML  Três Corações  MG     6112   \n",
       "600   160129   ESA  4º CGCFEx  4ª RM     CML  Três Corações  MG     6112   \n",
       "601   160129   ESA  4º CGCFEx  4ª RM     CML  Três Corações  MG     6112   \n",
       "602   160129   ESA  4º CGCFEx  4ª RM     CML  Três Corações  MG     6112   \n",
       "603   160129   ESA  4º CGCFEx  4ª RM     CML  Três Corações  MG     6112   \n",
       "604   160129   ESA  4º CGCFEx  4ª RM     CML  Três Corações  MG     6112   \n",
       "605   160129   ESA  4º CGCFEx  4ª RM     CML  Três Corações  MG     6112   \n",
       "606   160129   ESA  4º CGCFEx  4ª RM     CML  Três Corações  MG     6112   \n",
       "607   160129   ESA  4º CGCFEx  4ª RM     CML  Três Corações  MG     6112   \n",
       "608   160129   ESA  4º CGCFEx  4ª RM     CML  Três Corações  MG     6112   \n",
       "609   160129   ESA  4º CGCFEx  4ª RM     CML  Três Corações  MG     6112   \n",
       "610   160129   ESA  4º CGCFEx  4ª RM     CML  Três Corações  MG     6112   \n",
       "611   160129   ESA  4º CGCFEx  4ª RM     CML  Três Corações  MG     6112   \n",
       "612   160129   ESA  4º CGCFEx  4ª RM     CML  Três Corações  MG     6112   \n",
       "613   160129   ESA  4º CGCFEx  4ª RM     CML  Três Corações  MG     6112   \n",
       "614   160129   ESA  4º CGCFEx  4ª RM     CML  Três Corações  MG     6112   \n",
       "615   160129   ESA  4º CGCFEx  4ª RM     CML  Três Corações  MG     6112   \n",
       "616   160129   ESA  4º CGCFEx  4ª RM     CML  Três Corações  MG     6112   \n",
       "617   160129   ESA  4º CGCFEx  4ª RM     CML  Três Corações  MG     6112   \n",
       "618   160129   ESA  4º CGCFEx  4ª RM     CML  Três Corações  MG     6112   \n",
       "624   160129   ESA  4º CGCFEx  4ª RM     CML  Três Corações  MG     6112   \n",
       "1522  160129   ESA  4º CGCFEx  4ª RM     CML  Três Corações  MG     6112   \n",
       "2272  160129   ESA  4º CGCFEx  4ª RM     CML  Três Corações  MG     6112   \n",
       "2277  160129   ESA  4º CGCFEx  4ª RM     CML  Três Corações  MG     6112   \n",
       "\n",
       "      AÇÃO                  NOME_ACAO     UGR NOME_UGR   PTRES           PI  \\\n",
       "580   212O  MOVIMENTACAO DE MILITARES  160505      DGP  232007  D6DAATSLOCO   \n",
       "581   212O  MOVIMENTACAO DE MILITARES  160505      DGP  232007  D6DAATSLOCO   \n",
       "582   212O  MOVIMENTACAO DE MILITARES  160505      DGP  232007  D6DAATSLOCO   \n",
       "583   212O  MOVIMENTACAO DE MILITARES  160505      DGP  232007  D6DAATSLOCO   \n",
       "584   212O  MOVIMENTACAO DE MILITARES  160505      DGP  232007  D6DAATSLOCO   \n",
       "585   212O  MOVIMENTACAO DE MILITARES  160505      DGP  232007  D6DAATSLOCO   \n",
       "586   212O  MOVIMENTACAO DE MILITARES  160505      DGP  232007  D6DAATSLOCO   \n",
       "587   212O  MOVIMENTACAO DE MILITARES  160505      DGP  232007  D6DAATSLOCO   \n",
       "588   212O  MOVIMENTACAO DE MILITARES  160505      DGP  232007  D6DAATSLOCO   \n",
       "589   212O  MOVIMENTACAO DE MILITARES  160505      DGP  232007  D6DAATSLOCO   \n",
       "590   212O  MOVIMENTACAO DE MILITARES  160505      DGP  232007  D6DAATSLOCO   \n",
       "591   212O  MOVIMENTACAO DE MILITARES  160505      DGP  232007  D6DAATSLOCO   \n",
       "592   212O  MOVIMENTACAO DE MILITARES  160505      DGP  232007  D6DAATSLOCO   \n",
       "593   212O  MOVIMENTACAO DE MILITARES  160505      DGP  232007  D6DAATSLOCO   \n",
       "594   212O  MOVIMENTACAO DE MILITARES  160505      DGP  232007  D6DAATSLOCO   \n",
       "595   212O  MOVIMENTACAO DE MILITARES  160505      DGP  232007  D6DAATSLOCO   \n",
       "596   212O  MOVIMENTACAO DE MILITARES  160505      DGP  232007  D6DAATSLOCO   \n",
       "597   212O  MOVIMENTACAO DE MILITARES  160505      DGP  232007  D6DAATSLOCO   \n",
       "598   212O  MOVIMENTACAO DE MILITARES  160505      DGP  232007  D6DAATSLOCO   \n",
       "599   212O  MOVIMENTACAO DE MILITARES  160505      DGP  232007  D6DAATSLOCO   \n",
       "600   212O  MOVIMENTACAO DE MILITARES  160505      DGP  232007  D6DAATSLOCO   \n",
       "601   212O  MOVIMENTACAO DE MILITARES  160505      DGP  232007  D6DAATSLOCO   \n",
       "602   212O  MOVIMENTACAO DE MILITARES  160505      DGP  232007  D6DAATSLOCO   \n",
       "603   212O  MOVIMENTACAO DE MILITARES  160505      DGP  232007  D6DAATSLOCO   \n",
       "604   212O  MOVIMENTACAO DE MILITARES  160505      DGP  232007  D6DAATSLOCO   \n",
       "605   212O  MOVIMENTACAO DE MILITARES  160505      DGP  232007  D6DAATSLOCO   \n",
       "606   212O  MOVIMENTACAO DE MILITARES  160505      DGP  232007  D6DAATSLOCO   \n",
       "607   212O  MOVIMENTACAO DE MILITARES  160505      DGP  232007  D6DAATSLOCO   \n",
       "608   212O  MOVIMENTACAO DE MILITARES  160505      DGP  232007  D6DAATSLOCO   \n",
       "609   212O  MOVIMENTACAO DE MILITARES  160505      DGP  232007  D6DAATSLOCO   \n",
       "610   212O  MOVIMENTACAO DE MILITARES  160505      DGP  232007  D6DAATSLOCO   \n",
       "611   212O  MOVIMENTACAO DE MILITARES  160505      DGP  232007  D6DAATSLOCO   \n",
       "612   212O  MOVIMENTACAO DE MILITARES  160505      DGP  232007  D6DAATSLOCO   \n",
       "613   212O  MOVIMENTACAO DE MILITARES  160505      DGP  232007  D6DAATSLOCO   \n",
       "614   212O  MOVIMENTACAO DE MILITARES  160505      DGP  232007  D6DAATSLOCO   \n",
       "615   212O  MOVIMENTACAO DE MILITARES  160505      DGP  232007  D6DAATSLOCO   \n",
       "616   212O  MOVIMENTACAO DE MILITARES  160505      DGP  232007  D6DAATSLOCO   \n",
       "617   212O  MOVIMENTACAO DE MILITARES  160505      DGP  232007  D6DAATSLOCO   \n",
       "618   212O  MOVIMENTACAO DE MILITARES  160505      DGP  232007  D6DAATSLOCO   \n",
       "624   212O  MOVIMENTACAO DE MILITARES  160505      DGP  232007  D6PEINDMV1A   \n",
       "1522  212O  MOVIMENTACAO DE MILITARES  160505      DGP  232007  D6PEINDMV1A   \n",
       "2272  212O  MOVIMENTACAO DE MILITARES  160505      DGP  232007  D6PEINDMV1T   \n",
       "2277  212O  MOVIMENTACAO DE MILITARES  160505      DGP  232007  DGPREQTRNP3   \n",
       "\n",
       "     RADICAL_4_PI MEIO_3_PI SUFIXO_4_PI                      NOME_PI      ND  \\\n",
       "580          D6DA       ATS        LOCO   ATS - ATIVIDADES SETORIAIS  339033   \n",
       "581          D6DA       ATS        LOCO   ATS - ATIVIDADES SETORIAIS  339033   \n",
       "582          D6DA       ATS        LOCO   ATS - ATIVIDADES SETORIAIS  339033   \n",
       "583          D6DA       ATS        LOCO   ATS - ATIVIDADES SETORIAIS  339033   \n",
       "584          D6DA       ATS        LOCO   ATS - ATIVIDADES SETORIAIS  339033   \n",
       "585          D6DA       ATS        LOCO   ATS - ATIVIDADES SETORIAIS  339033   \n",
       "586          D6DA       ATS        LOCO   ATS - ATIVIDADES SETORIAIS  339033   \n",
       "587          D6DA       ATS        LOCO   ATS - ATIVIDADES SETORIAIS  339033   \n",
       "588          D6DA       ATS        LOCO   ATS - ATIVIDADES SETORIAIS  339033   \n",
       "589          D6DA       ATS        LOCO   ATS - ATIVIDADES SETORIAIS  339033   \n",
       "590          D6DA       ATS        LOCO   ATS - ATIVIDADES SETORIAIS  339033   \n",
       "591          D6DA       ATS        LOCO   ATS - ATIVIDADES SETORIAIS  339033   \n",
       "592          D6DA       ATS        LOCO   ATS - ATIVIDADES SETORIAIS  339033   \n",
       "593          D6DA       ATS        LOCO   ATS - ATIVIDADES SETORIAIS  339033   \n",
       "594          D6DA       ATS        LOCO   ATS - ATIVIDADES SETORIAIS  339033   \n",
       "595          D6DA       ATS        LOCO   ATS - ATIVIDADES SETORIAIS  339033   \n",
       "596          D6DA       ATS        LOCO   ATS - ATIVIDADES SETORIAIS  339033   \n",
       "597          D6DA       ATS        LOCO   ATS - ATIVIDADES SETORIAIS  339033   \n",
       "598          D6DA       ATS        LOCO   ATS - ATIVIDADES SETORIAIS  339033   \n",
       "599          D6DA       ATS        LOCO   ATS - ATIVIDADES SETORIAIS  339033   \n",
       "600          D6DA       ATS        LOCO   ATS - ATIVIDADES SETORIAIS  339033   \n",
       "601          D6DA       ATS        LOCO   ATS - ATIVIDADES SETORIAIS  339033   \n",
       "602          D6DA       ATS        LOCO   ATS - ATIVIDADES SETORIAIS  339033   \n",
       "603          D6DA       ATS        LOCO   ATS - ATIVIDADES SETORIAIS  339033   \n",
       "604          D6DA       ATS        LOCO   ATS - ATIVIDADES SETORIAIS  339033   \n",
       "605          D6DA       ATS        LOCO   ATS - ATIVIDADES SETORIAIS  339033   \n",
       "606          D6DA       ATS        LOCO   ATS - ATIVIDADES SETORIAIS  339033   \n",
       "607          D6DA       ATS        LOCO   ATS - ATIVIDADES SETORIAIS  339033   \n",
       "608          D6DA       ATS        LOCO   ATS - ATIVIDADES SETORIAIS  339033   \n",
       "609          D6DA       ATS        LOCO   ATS - ATIVIDADES SETORIAIS  339033   \n",
       "610          D6DA       ATS        LOCO   ATS - ATIVIDADES SETORIAIS  339033   \n",
       "611          D6DA       ATS        LOCO   ATS - ATIVIDADES SETORIAIS  339033   \n",
       "612          D6DA       ATS        LOCO   ATS - ATIVIDADES SETORIAIS  339033   \n",
       "613          D6DA       ATS        LOCO   ATS - ATIVIDADES SETORIAIS  339033   \n",
       "614          D6DA       ATS        LOCO   ATS - ATIVIDADES SETORIAIS  339033   \n",
       "615          D6DA       ATS        LOCO   ATS - ATIVIDADES SETORIAIS  339033   \n",
       "616          D6DA       ATS        LOCO   ATS - ATIVIDADES SETORIAIS  339033   \n",
       "617          D6DA       ATS        LOCO   ATS - ATIVIDADES SETORIAIS  339033   \n",
       "618          D6DA       ATS        LOCO   ATS - ATIVIDADES SETORIAIS  339033   \n",
       "624          D6PE       IND        MV1A             IND-INDENIZACOES  339092   \n",
       "1522         D6PE       IND        MV1A             IND-INDENIZACOES  339093   \n",
       "2272         D6PE       IND        MV1T           IND - INDENIZACOES  339093   \n",
       "2277         DGPR       EQT        RNP3  MIS EXT REQS TRNP BAG INTER  339033   \n",
       "\n",
       "                                 NOME_ND      NDSI  \\\n",
       "580   PASSAGENS E DESPESAS COM LOCOMOCAO  33903304   \n",
       "581   PASSAGENS E DESPESAS COM LOCOMOCAO  33903304   \n",
       "582   PASSAGENS E DESPESAS COM LOCOMOCAO  33903304   \n",
       "583   PASSAGENS E DESPESAS COM LOCOMOCAO  33903304   \n",
       "584   PASSAGENS E DESPESAS COM LOCOMOCAO  33903304   \n",
       "585   PASSAGENS E DESPESAS COM LOCOMOCAO  33903304   \n",
       "586   PASSAGENS E DESPESAS COM LOCOMOCAO  33903304   \n",
       "587   PASSAGENS E DESPESAS COM LOCOMOCAO  33903304   \n",
       "588   PASSAGENS E DESPESAS COM LOCOMOCAO  33903304   \n",
       "589   PASSAGENS E DESPESAS COM LOCOMOCAO  33903304   \n",
       "590   PASSAGENS E DESPESAS COM LOCOMOCAO  33903304   \n",
       "591   PASSAGENS E DESPESAS COM LOCOMOCAO  33903304   \n",
       "592   PASSAGENS E DESPESAS COM LOCOMOCAO  33903304   \n",
       "593   PASSAGENS E DESPESAS COM LOCOMOCAO  33903304   \n",
       "594   PASSAGENS E DESPESAS COM LOCOMOCAO  33903304   \n",
       "595   PASSAGENS E DESPESAS COM LOCOMOCAO  33903304   \n",
       "596   PASSAGENS E DESPESAS COM LOCOMOCAO  33903304   \n",
       "597   PASSAGENS E DESPESAS COM LOCOMOCAO  33903304   \n",
       "598   PASSAGENS E DESPESAS COM LOCOMOCAO  33903304   \n",
       "599   PASSAGENS E DESPESAS COM LOCOMOCAO  33903304   \n",
       "600   PASSAGENS E DESPESAS COM LOCOMOCAO  33903304   \n",
       "601   PASSAGENS E DESPESAS COM LOCOMOCAO  33903304   \n",
       "602   PASSAGENS E DESPESAS COM LOCOMOCAO  33903304   \n",
       "603   PASSAGENS E DESPESAS COM LOCOMOCAO  33903304   \n",
       "604   PASSAGENS E DESPESAS COM LOCOMOCAO  33903304   \n",
       "605   PASSAGENS E DESPESAS COM LOCOMOCAO  33903304   \n",
       "606   PASSAGENS E DESPESAS COM LOCOMOCAO  33903304   \n",
       "607   PASSAGENS E DESPESAS COM LOCOMOCAO  33903304   \n",
       "608   PASSAGENS E DESPESAS COM LOCOMOCAO  33903304   \n",
       "609   PASSAGENS E DESPESAS COM LOCOMOCAO  33903304   \n",
       "610   PASSAGENS E DESPESAS COM LOCOMOCAO  33903304   \n",
       "611   PASSAGENS E DESPESAS COM LOCOMOCAO  33903304   \n",
       "612   PASSAGENS E DESPESAS COM LOCOMOCAO  33903304   \n",
       "613   PASSAGENS E DESPESAS COM LOCOMOCAO  33903304   \n",
       "614   PASSAGENS E DESPESAS COM LOCOMOCAO  33903304   \n",
       "615   PASSAGENS E DESPESAS COM LOCOMOCAO  33903304   \n",
       "616   PASSAGENS E DESPESAS COM LOCOMOCAO  33903304   \n",
       "617   PASSAGENS E DESPESAS COM LOCOMOCAO  33903304   \n",
       "618   PASSAGENS E DESPESAS COM LOCOMOCAO  33903304   \n",
       "624    DESPESAS DE EXERCICIOS ANTERIORES  33909293   \n",
       "1522         INDENIZACOES E RESTITUICOES  33909318   \n",
       "2272         INDENIZACOES E RESTITUICOES  33909319   \n",
       "2277  PASSAGENS E DESPESAS COM LOCOMOCAO  33903301   \n",
       "\n",
       "                                        NOME_NDSI            NE   ANO  \\\n",
       "580                 MUDANCAS EM OBJETO DE SERVICO  2024NE000362  2024   \n",
       "581                 MUDANCAS EM OBJETO DE SERVICO  2024NE000717  2024   \n",
       "582                 MUDANCAS EM OBJETO DE SERVICO  2024NE000718  2024   \n",
       "583                 MUDANCAS EM OBJETO DE SERVICO  2024NE000719  2024   \n",
       "584                 MUDANCAS EM OBJETO DE SERVICO  2024NE000742  2024   \n",
       "585                 MUDANCAS EM OBJETO DE SERVICO  2024NE000842  2024   \n",
       "586                 MUDANCAS EM OBJETO DE SERVICO  2024NE000843  2024   \n",
       "587                 MUDANCAS EM OBJETO DE SERVICO  2024NE000844  2024   \n",
       "588                 MUDANCAS EM OBJETO DE SERVICO  2024NE000911  2024   \n",
       "589                 MUDANCAS EM OBJETO DE SERVICO  2024NE000946  2024   \n",
       "590                 MUDANCAS EM OBJETO DE SERVICO  2024NE000947  2024   \n",
       "591                 MUDANCAS EM OBJETO DE SERVICO  2024NE000950  2024   \n",
       "592                 MUDANCAS EM OBJETO DE SERVICO  2024NE000984  2024   \n",
       "593                 MUDANCAS EM OBJETO DE SERVICO  2024NE000985  2024   \n",
       "594                 MUDANCAS EM OBJETO DE SERVICO  2024NE001035  2024   \n",
       "595                 MUDANCAS EM OBJETO DE SERVICO  2024NE001036  2024   \n",
       "596                 MUDANCAS EM OBJETO DE SERVICO  2024NE001037  2024   \n",
       "597                 MUDANCAS EM OBJETO DE SERVICO  2024NE001105  2024   \n",
       "598                 MUDANCAS EM OBJETO DE SERVICO  2024NE001120  2024   \n",
       "599                 MUDANCAS EM OBJETO DE SERVICO  2024NE001121  2024   \n",
       "600                 MUDANCAS EM OBJETO DE SERVICO  2024NE001122  2024   \n",
       "601                 MUDANCAS EM OBJETO DE SERVICO  2024NE001142  2024   \n",
       "602                 MUDANCAS EM OBJETO DE SERVICO  2024NE001158  2024   \n",
       "603                 MUDANCAS EM OBJETO DE SERVICO  2024NE001166  2024   \n",
       "604                 MUDANCAS EM OBJETO DE SERVICO  2024NE001175  2024   \n",
       "605                 MUDANCAS EM OBJETO DE SERVICO  2024NE001176  2024   \n",
       "606                 MUDANCAS EM OBJETO DE SERVICO  2024NE001195  2024   \n",
       "607                 MUDANCAS EM OBJETO DE SERVICO  2024NE001226  2024   \n",
       "608                 MUDANCAS EM OBJETO DE SERVICO  2024NE001227  2024   \n",
       "609                 MUDANCAS EM OBJETO DE SERVICO  2024NE001232  2024   \n",
       "610                 MUDANCAS EM OBJETO DE SERVICO  2024NE001252  2024   \n",
       "611                 MUDANCAS EM OBJETO DE SERVICO  2024NE001555  2024   \n",
       "612                 MUDANCAS EM OBJETO DE SERVICO  2024NE001558  2024   \n",
       "613                 MUDANCAS EM OBJETO DE SERVICO  2024NE001559  2024   \n",
       "614                 MUDANCAS EM OBJETO DE SERVICO  2024NE001571  2024   \n",
       "615                 MUDANCAS EM OBJETO DE SERVICO  2024NE001943  2024   \n",
       "616                 MUDANCAS EM OBJETO DE SERVICO  2024NE001944  2024   \n",
       "617                 MUDANCAS EM OBJETO DE SERVICO  2024NE002090  2024   \n",
       "618                 MUDANCAS EM OBJETO DE SERVICO  2024NE002345  2024   \n",
       "624                   INDENIZACOES E RESTITUICOES  2024NE002562  2024   \n",
       "1522             AJUDA DE CUSTO - PESSOAL MILITAR  2024NE002571  2024   \n",
       "2272  INDENIZACAO DE TRANSPORTE - PESSOAL MILITAR  2024NE002570  2024   \n",
       "2277                        PASSAGENS PARA O PAIS  2024NE001256  2024   \n",
       "\n",
       "           DATA                    CHAVE             FAV  \\\n",
       "580  2024-04-10  160129000012024NE000362  39644514000115   \n",
       "581  2024-06-20  160129000012024NE000717  39644514000115   \n",
       "582  2024-06-20  160129000012024NE000718  39644514000115   \n",
       "583  2024-06-20  160129000012024NE000719  39644514000115   \n",
       "584  2024-06-25  160129000012024NE000742  39644514000115   \n",
       "585  2024-07-14  160129000012024NE000842  39644514000115   \n",
       "586  2024-07-15  160129000012024NE000843  39644514000115   \n",
       "587  2024-07-15  160129000012024NE000844  39644514000115   \n",
       "588  2024-08-02  160129000012024NE000911  39644514000115   \n",
       "589  2024-08-15  160129000012024NE000946  39644514000115   \n",
       "590  2024-08-15  160129000012024NE000947  39644514000115   \n",
       "591  2024-08-15  160129000012024NE000950  39644514000115   \n",
       "592  2024-08-26  160129000012024NE000984  39644514000115   \n",
       "593  2024-08-26  160129000012024NE000985  39644514000115   \n",
       "594  2024-09-11  160129000012024NE001035  39644514000115   \n",
       "595  2024-09-12  160129000012024NE001036  39644514000115   \n",
       "596  2024-09-12  160129000012024NE001037  39644514000115   \n",
       "597  2024-09-24  160129000012024NE001105  39644514000115   \n",
       "598  2024-09-27  160129000012024NE001120  39644514000115   \n",
       "599  2024-09-27  160129000012024NE001121  39644514000115   \n",
       "600  2024-09-27  160129000012024NE001122  39644514000115   \n",
       "601  2024-10-01  160129000012024NE001142  39644514000115   \n",
       "602  2024-10-03  160129000012024NE001158  39644514000115   \n",
       "603  2024-10-04  160129000012024NE001166  39644514000115   \n",
       "604  2024-10-07  160129000012024NE001175  39644514000115   \n",
       "605  2024-10-07  160129000012024NE001176  39644514000115   \n",
       "606  2024-10-09  160129000012024NE001195  39644514000115   \n",
       "607  2024-10-14  160129000012024NE001226  39644514000115   \n",
       "608  2024-10-14  160129000012024NE001227  39644514000115   \n",
       "609  2024-10-18  160129000012024NE001232  39644514000115   \n",
       "610  2024-10-22  160129000012024NE001252  39644514000115   \n",
       "611  2024-11-05  160129000012024NE001555  39644514000115   \n",
       "612  2024-11-05  160129000012024NE001558  39644514000115   \n",
       "613  2024-11-05  160129000012024NE001559  39644514000115   \n",
       "614  2024-11-07  160129000012024NE001571  39644514000115   \n",
       "615  2024-11-12  160129000012024NE001943  39644514000115   \n",
       "616  2024-11-12  160129000012024NE001944  39644514000115   \n",
       "617  2024-11-18  160129000012024NE002090  39644514000115   \n",
       "618  2024-11-25  160129000012024NE002345  39644514000115   \n",
       "624  2024-12-06  160129000012024NE002562     16649797782   \n",
       "1522 2024-12-09  160129000012024NE002571     03442544106   \n",
       "2272 2024-12-09  160129000012024NE002570     03442544106   \n",
       "2277 2024-10-23  160129000012024NE001256  21331404000138   \n",
       "\n",
       "                                            NOME_CREDOR UF_FAV TIPO  DIAS  \\\n",
       "580   MULTI PRIME MUDANCAS E TRANSPORTES ESPECIAIS LTDA     GO  ANO   244   \n",
       "581   MULTI PRIME MUDANCAS E TRANSPORTES ESPECIAIS LTDA     GO  ANO   173   \n",
       "582   MULTI PRIME MUDANCAS E TRANSPORTES ESPECIAIS LTDA     GO  ANO   173   \n",
       "583   MULTI PRIME MUDANCAS E TRANSPORTES ESPECIAIS LTDA     GO  ANO   173   \n",
       "584   MULTI PRIME MUDANCAS E TRANSPORTES ESPECIAIS LTDA     GO  ANO   168   \n",
       "585   MULTI PRIME MUDANCAS E TRANSPORTES ESPECIAIS LTDA     GO  ANO   149   \n",
       "586   MULTI PRIME MUDANCAS E TRANSPORTES ESPECIAIS LTDA     GO  ANO   148   \n",
       "587   MULTI PRIME MUDANCAS E TRANSPORTES ESPECIAIS LTDA     GO  ANO   148   \n",
       "588   MULTI PRIME MUDANCAS E TRANSPORTES ESPECIAIS LTDA     GO  ANO   130   \n",
       "589   MULTI PRIME MUDANCAS E TRANSPORTES ESPECIAIS LTDA     GO  ANO   117   \n",
       "590   MULTI PRIME MUDANCAS E TRANSPORTES ESPECIAIS LTDA     GO  ANO   117   \n",
       "591   MULTI PRIME MUDANCAS E TRANSPORTES ESPECIAIS LTDA     GO  ANO   117   \n",
       "592   MULTI PRIME MUDANCAS E TRANSPORTES ESPECIAIS LTDA     GO  ANO   106   \n",
       "593   MULTI PRIME MUDANCAS E TRANSPORTES ESPECIAIS LTDA     GO  ANO   106   \n",
       "594   MULTI PRIME MUDANCAS E TRANSPORTES ESPECIAIS LTDA     GO  ANO    90   \n",
       "595   MULTI PRIME MUDANCAS E TRANSPORTES ESPECIAIS LTDA     GO  ANO    89   \n",
       "596   MULTI PRIME MUDANCAS E TRANSPORTES ESPECIAIS LTDA     GO  ANO    89   \n",
       "597   MULTI PRIME MUDANCAS E TRANSPORTES ESPECIAIS LTDA     GO  ANO    77   \n",
       "598   MULTI PRIME MUDANCAS E TRANSPORTES ESPECIAIS LTDA     GO  ANO    74   \n",
       "599   MULTI PRIME MUDANCAS E TRANSPORTES ESPECIAIS LTDA     GO  ANO    74   \n",
       "600   MULTI PRIME MUDANCAS E TRANSPORTES ESPECIAIS LTDA     GO  ANO    74   \n",
       "601   MULTI PRIME MUDANCAS E TRANSPORTES ESPECIAIS LTDA     GO  ANO    70   \n",
       "602   MULTI PRIME MUDANCAS E TRANSPORTES ESPECIAIS LTDA     GO  ANO    68   \n",
       "603   MULTI PRIME MUDANCAS E TRANSPORTES ESPECIAIS LTDA     GO  ANO    67   \n",
       "604   MULTI PRIME MUDANCAS E TRANSPORTES ESPECIAIS LTDA     GO  ANO    64   \n",
       "605   MULTI PRIME MUDANCAS E TRANSPORTES ESPECIAIS LTDA     GO  ANO    64   \n",
       "606   MULTI PRIME MUDANCAS E TRANSPORTES ESPECIAIS LTDA     GO  ANO    62   \n",
       "607   MULTI PRIME MUDANCAS E TRANSPORTES ESPECIAIS LTDA     GO  ANO    57   \n",
       "608   MULTI PRIME MUDANCAS E TRANSPORTES ESPECIAIS LTDA     GO  ANO    57   \n",
       "609   MULTI PRIME MUDANCAS E TRANSPORTES ESPECIAIS LTDA     GO  ANO    53   \n",
       "610   MULTI PRIME MUDANCAS E TRANSPORTES ESPECIAIS LTDA     GO  ANO    49   \n",
       "611   MULTI PRIME MUDANCAS E TRANSPORTES ESPECIAIS LTDA     GO  ANO    35   \n",
       "612   MULTI PRIME MUDANCAS E TRANSPORTES ESPECIAIS LTDA     GO  ANO    35   \n",
       "613   MULTI PRIME MUDANCAS E TRANSPORTES ESPECIAIS LTDA     GO  ANO    35   \n",
       "614   MULTI PRIME MUDANCAS E TRANSPORTES ESPECIAIS LTDA     GO  ANO    33   \n",
       "615   MULTI PRIME MUDANCAS E TRANSPORTES ESPECIAIS LTDA     GO  ANO    28   \n",
       "616   MULTI PRIME MUDANCAS E TRANSPORTES ESPECIAIS LTDA     GO  ANO    28   \n",
       "617   MULTI PRIME MUDANCAS E TRANSPORTES ESPECIAIS LTDA     GO  ANO    22   \n",
       "618   MULTI PRIME MUDANCAS E TRANSPORTES ESPECIAIS LTDA     GO  ANO    15   \n",
       "624                             DANIEL ROSA DE OLIVEIRA     RS  ANO     4   \n",
       "1522            CRISTHIAN CESARES NASCIMENTO DOS PASSOS     DF  ANO     1   \n",
       "2272            CRISTHIAN CESARES NASCIMENTO DOS PASSOS     DF  ANO     1   \n",
       "2277                     ORLEANS VIAGENS E TURISMO LTDA     SP  ANO    48   \n",
       "\n",
       "     UF_UG       FONTE        MOD_LIC     TIPO_NE RP               NOME_RP  \\\n",
       "580     MG  1000000000         PREGAO  ESTIMATIVO  1  PRIMARIO OBRIGATORIO   \n",
       "581     MG  1000000000         PREGAO  ESTIMATIVO  1  PRIMARIO OBRIGATORIO   \n",
       "582     MG  1000000000         PREGAO  ESTIMATIVO  1  PRIMARIO OBRIGATORIO   \n",
       "583     MG  1000000000         PREGAO  ESTIMATIVO  1  PRIMARIO OBRIGATORIO   \n",
       "584     MG  1000000000         PREGAO  ESTIMATIVO  1  PRIMARIO OBRIGATORIO   \n",
       "585     MG  1000000000         PREGAO  ESTIMATIVO  1  PRIMARIO OBRIGATORIO   \n",
       "586     MG  1000000000         PREGAO  ESTIMATIVO  1  PRIMARIO OBRIGATORIO   \n",
       "587     MG  1000000000         PREGAO  ESTIMATIVO  1  PRIMARIO OBRIGATORIO   \n",
       "588     MG  1000000000         PREGAO  ESTIMATIVO  1  PRIMARIO OBRIGATORIO   \n",
       "589     MG  1000000000         PREGAO  ESTIMATIVO  1  PRIMARIO OBRIGATORIO   \n",
       "590     MG  1000000000         PREGAO  ESTIMATIVO  1  PRIMARIO OBRIGATORIO   \n",
       "591     MG  1000000000         PREGAO  ESTIMATIVO  1  PRIMARIO OBRIGATORIO   \n",
       "592     MG  1000000000         PREGAO  ESTIMATIVO  1  PRIMARIO OBRIGATORIO   \n",
       "593     MG  1000000000         PREGAO  ESTIMATIVO  1  PRIMARIO OBRIGATORIO   \n",
       "594     MG  1000000000         PREGAO  ESTIMATIVO  1  PRIMARIO OBRIGATORIO   \n",
       "595     MG  1000000000         PREGAO  ESTIMATIVO  1  PRIMARIO OBRIGATORIO   \n",
       "596     MG  1000000000         PREGAO  ESTIMATIVO  1  PRIMARIO OBRIGATORIO   \n",
       "597     MG  1000000000         PREGAO  ESTIMATIVO  1  PRIMARIO OBRIGATORIO   \n",
       "598     MG  1000000000         PREGAO  ESTIMATIVO  1  PRIMARIO OBRIGATORIO   \n",
       "599     MG  1000000000         PREGAO  ESTIMATIVO  1  PRIMARIO OBRIGATORIO   \n",
       "600     MG  1000000000         PREGAO  ESTIMATIVO  1  PRIMARIO OBRIGATORIO   \n",
       "601     MG  1000000000         PREGAO  ESTIMATIVO  1  PRIMARIO OBRIGATORIO   \n",
       "602     MG  1000000000         PREGAO  ESTIMATIVO  1  PRIMARIO OBRIGATORIO   \n",
       "603     MG  1000000000         PREGAO  ESTIMATIVO  1  PRIMARIO OBRIGATORIO   \n",
       "604     MG  1000000000         PREGAO  ESTIMATIVO  1  PRIMARIO OBRIGATORIO   \n",
       "605     MG  1000000000         PREGAO  ESTIMATIVO  1  PRIMARIO OBRIGATORIO   \n",
       "606     MG  1000000000         PREGAO  ESTIMATIVO  1  PRIMARIO OBRIGATORIO   \n",
       "607     MG  1000000000         PREGAO  ESTIMATIVO  1  PRIMARIO OBRIGATORIO   \n",
       "608     MG  1000000000         PREGAO  ESTIMATIVO  1  PRIMARIO OBRIGATORIO   \n",
       "609     MG  1000000000         PREGAO  ESTIMATIVO  1  PRIMARIO OBRIGATORIO   \n",
       "610     MG  1000000000         PREGAO  ESTIMATIVO  1  PRIMARIO OBRIGATORIO   \n",
       "611     MG  1000000000         PREGAO  ESTIMATIVO  1  PRIMARIO OBRIGATORIO   \n",
       "612     MG  1000000000         PREGAO  ESTIMATIVO  1  PRIMARIO OBRIGATORIO   \n",
       "613     MG  1000000000         PREGAO  ESTIMATIVO  1  PRIMARIO OBRIGATORIO   \n",
       "614     MG  1000000000         PREGAO  ESTIMATIVO  1  PRIMARIO OBRIGATORIO   \n",
       "615     MG  1000000000         PREGAO  ESTIMATIVO  1  PRIMARIO OBRIGATORIO   \n",
       "616     MG  1000000000         PREGAO  ESTIMATIVO  1  PRIMARIO OBRIGATORIO   \n",
       "617     MG  1000000000         PREGAO  ESTIMATIVO  1  PRIMARIO OBRIGATORIO   \n",
       "618     MG  1000000000         PREGAO  ESTIMATIVO  1  PRIMARIO OBRIGATORIO   \n",
       "624     MG  1000000000  NAO SE APLICA   ORDINARIO  1  PRIMARIO OBRIGATORIO   \n",
       "1522    MG  1000000000  NAO SE APLICA   ORDINARIO  1  PRIMARIO OBRIGATORIO   \n",
       "2272    MG  1000000000  NAO SE APLICA   ORDINARIO  1  PRIMARIO OBRIGATORIO   \n",
       "2277    MG  1000000000         PREGAO      GLOBAL  1  PRIMARIO OBRIGATORIO   \n",
       "\n",
       "     TIPO_CREDITO NOME_TIPO_CREDITO    PO  AUTOR_EMENDA NOME_AUTOR_EMENDA  \\\n",
       "580             A     INICIAL (LOA)  0000  000000000000        SEM EMENDA   \n",
       "581             A     INICIAL (LOA)  0000  000000000000        SEM EMENDA   \n",
       "582             A     INICIAL (LOA)  0000  000000000000        SEM EMENDA   \n",
       "583             A     INICIAL (LOA)  0000  000000000000        SEM EMENDA   \n",
       "584             A     INICIAL (LOA)  0000  000000000000        SEM EMENDA   \n",
       "585             A     INICIAL (LOA)  0000  000000000000        SEM EMENDA   \n",
       "586             A     INICIAL (LOA)  0000  000000000000        SEM EMENDA   \n",
       "587             A     INICIAL (LOA)  0000  000000000000        SEM EMENDA   \n",
       "588             A     INICIAL (LOA)  0000  000000000000        SEM EMENDA   \n",
       "589             A     INICIAL (LOA)  0000  000000000000        SEM EMENDA   \n",
       "590             A     INICIAL (LOA)  0000  000000000000        SEM EMENDA   \n",
       "591             A     INICIAL (LOA)  0000  000000000000        SEM EMENDA   \n",
       "592             A     INICIAL (LOA)  0000  000000000000        SEM EMENDA   \n",
       "593             A     INICIAL (LOA)  0000  000000000000        SEM EMENDA   \n",
       "594             A     INICIAL (LOA)  0000  000000000000        SEM EMENDA   \n",
       "595             A     INICIAL (LOA)  0000  000000000000        SEM EMENDA   \n",
       "596             A     INICIAL (LOA)  0000  000000000000        SEM EMENDA   \n",
       "597             A     INICIAL (LOA)  0000  000000000000        SEM EMENDA   \n",
       "598             A     INICIAL (LOA)  0000  000000000000        SEM EMENDA   \n",
       "599             A     INICIAL (LOA)  0000  000000000000        SEM EMENDA   \n",
       "600             A     INICIAL (LOA)  0000  000000000000        SEM EMENDA   \n",
       "601             A     INICIAL (LOA)  0000  000000000000        SEM EMENDA   \n",
       "602             A     INICIAL (LOA)  0000  000000000000        SEM EMENDA   \n",
       "603             A     INICIAL (LOA)  0000  000000000000        SEM EMENDA   \n",
       "604             A     INICIAL (LOA)  0000  000000000000        SEM EMENDA   \n",
       "605             A     INICIAL (LOA)  0000  000000000000        SEM EMENDA   \n",
       "606             A     INICIAL (LOA)  0000  000000000000        SEM EMENDA   \n",
       "607             A     INICIAL (LOA)  0000  000000000000        SEM EMENDA   \n",
       "608             A     INICIAL (LOA)  0000  000000000000        SEM EMENDA   \n",
       "609             A     INICIAL (LOA)  0000  000000000000        SEM EMENDA   \n",
       "610             A     INICIAL (LOA)  0000  000000000000        SEM EMENDA   \n",
       "611             A     INICIAL (LOA)  0000  000000000000        SEM EMENDA   \n",
       "612             A     INICIAL (LOA)  0000  000000000000        SEM EMENDA   \n",
       "613             A     INICIAL (LOA)  0000  000000000000        SEM EMENDA   \n",
       "614             A     INICIAL (LOA)  0000  000000000000        SEM EMENDA   \n",
       "615             A     INICIAL (LOA)  0000  000000000000        SEM EMENDA   \n",
       "616             A     INICIAL (LOA)  0000  000000000000        SEM EMENDA   \n",
       "617             A     INICIAL (LOA)  0000  000000000000        SEM EMENDA   \n",
       "618             A     INICIAL (LOA)  0000  000000000000        SEM EMENDA   \n",
       "624             A     INICIAL (LOA)  0000  000000000000        SEM EMENDA   \n",
       "1522            A     INICIAL (LOA)  0000  000000000000        SEM EMENDA   \n",
       "2272            A     INICIAL (LOA)  0000  000000000000        SEM EMENDA   \n",
       "2277            A     INICIAL (LOA)  0000  000000000000        SEM EMENDA   \n",
       "\n",
       "                              LOCAL              NOME_UO     UO  A_LIQUIDAR  \\\n",
       "580   ESCOLA DE SARGENTOS DAS ARMAS  COMANDO DO EXERCITO  52121    19850.00   \n",
       "581   ESCOLA DE SARGENTOS DAS ARMAS  COMANDO DO EXERCITO  52121    19850.00   \n",
       "582   ESCOLA DE SARGENTOS DAS ARMAS  COMANDO DO EXERCITO  52121    34684.00   \n",
       "583   ESCOLA DE SARGENTOS DAS ARMAS  COMANDO DO EXERCITO  52121    50049.00   \n",
       "584   ESCOLA DE SARGENTOS DAS ARMAS  COMANDO DO EXERCITO  52121    21850.00   \n",
       "585   ESCOLA DE SARGENTOS DAS ARMAS  COMANDO DO EXERCITO  52121    21850.00   \n",
       "586   ESCOLA DE SARGENTOS DAS ARMAS  COMANDO DO EXERCITO  52121    13091.00   \n",
       "587   ESCOLA DE SARGENTOS DAS ARMAS  COMANDO DO EXERCITO  52121    13091.00   \n",
       "588   ESCOLA DE SARGENTOS DAS ARMAS  COMANDO DO EXERCITO  52121    50049.00   \n",
       "589   ESCOLA DE SARGENTOS DAS ARMAS  COMANDO DO EXERCITO  52121    29900.00   \n",
       "590   ESCOLA DE SARGENTOS DAS ARMAS  COMANDO DO EXERCITO  52121    29900.00   \n",
       "591   ESCOLA DE SARGENTOS DAS ARMAS  COMANDO DO EXERCITO  52121    29900.00   \n",
       "592   ESCOLA DE SARGENTOS DAS ARMAS  COMANDO DO EXERCITO  52121    44820.00   \n",
       "593   ESCOLA DE SARGENTOS DAS ARMAS  COMANDO DO EXERCITO  52121    41355.00   \n",
       "594   ESCOLA DE SARGENTOS DAS ARMAS  COMANDO DO EXERCITO  52121      437.00   \n",
       "595   ESCOLA DE SARGENTOS DAS ARMAS  COMANDO DO EXERCITO  52121      919.00   \n",
       "596   ESCOLA DE SARGENTOS DAS ARMAS  COMANDO DO EXERCITO  52121      747.00   \n",
       "597   ESCOLA DE SARGENTOS DAS ARMAS  COMANDO DO EXERCITO  52121      598.00   \n",
       "598   ESCOLA DE SARGENTOS DAS ARMAS  COMANDO DO EXERCITO  52121      397.00   \n",
       "599   ESCOLA DE SARGENTOS DAS ARMAS  COMANDO DO EXERCITO  52121      598.00   \n",
       "600   ESCOLA DE SARGENTOS DAS ARMAS  COMANDO DO EXERCITO  52121      747.00   \n",
       "601   ESCOLA DE SARGENTOS DAS ARMAS  COMANDO DO EXERCITO  52121      598.00   \n",
       "602   ESCOLA DE SARGENTOS DAS ARMAS  COMANDO DO EXERCITO  52121      747.00   \n",
       "603   ESCOLA DE SARGENTOS DAS ARMAS  COMANDO DO EXERCITO  52121      598.00   \n",
       "604   ESCOLA DE SARGENTOS DAS ARMAS  COMANDO DO EXERCITO  52121      747.00   \n",
       "605   ESCOLA DE SARGENTOS DAS ARMAS  COMANDO DO EXERCITO  52121      919.00   \n",
       "606   ESCOLA DE SARGENTOS DAS ARMAS  COMANDO DO EXERCITO  52121      397.00   \n",
       "607   ESCOLA DE SARGENTOS DAS ARMAS  COMANDO DO EXERCITO  52121      747.00   \n",
       "608   ESCOLA DE SARGENTOS DAS ARMAS  COMANDO DO EXERCITO  52121      437.00   \n",
       "609   ESCOLA DE SARGENTOS DAS ARMAS  COMANDO DO EXERCITO  52121      919.00   \n",
       "610   ESCOLA DE SARGENTOS DAS ARMAS  COMANDO DO EXERCITO  52121      919.00   \n",
       "611   ESCOLA DE SARGENTOS DAS ARMAS  COMANDO DO EXERCITO  52121      397.00   \n",
       "612   ESCOLA DE SARGENTOS DAS ARMAS  COMANDO DO EXERCITO  52121      598.00   \n",
       "613   ESCOLA DE SARGENTOS DAS ARMAS  COMANDO DO EXERCITO  52121      598.00   \n",
       "614   ESCOLA DE SARGENTOS DAS ARMAS  COMANDO DO EXERCITO  52121      397.00   \n",
       "615   ESCOLA DE SARGENTOS DAS ARMAS  COMANDO DO EXERCITO  52121      598.00   \n",
       "616   ESCOLA DE SARGENTOS DAS ARMAS  COMANDO DO EXERCITO  52121      598.00   \n",
       "617   ESCOLA DE SARGENTOS DAS ARMAS  COMANDO DO EXERCITO  52121      747.00   \n",
       "618   ESCOLA DE SARGENTOS DAS ARMAS  COMANDO DO EXERCITO  52121      598.00   \n",
       "624                               0  COMANDO DO EXERCITO  52121     6275.99   \n",
       "1522                              0  COMANDO DO EXERCITO  52121    16504.20   \n",
       "2272                              0  COMANDO DO EXERCITO  52121      446.40   \n",
       "2277                            ESA  COMANDO DO EXERCITO  52121      773.14   \n",
       "\n",
       "      LIQUIDADO_A_PAGAR  TOTAL_A_PAGAR  PAGO  \n",
       "580                 0.0       19850.00   0.0  \n",
       "581                 0.0       19850.00   0.0  \n",
       "582                 0.0       34684.00   0.0  \n",
       "583                 0.0       50049.00   0.0  \n",
       "584                 0.0       21850.00   0.0  \n",
       "585                 0.0       21850.00   0.0  \n",
       "586                 0.0       13091.00   0.0  \n",
       "587                 0.0       13091.00   0.0  \n",
       "588                 0.0       50049.00   0.0  \n",
       "589                 0.0       29900.00   0.0  \n",
       "590                 0.0       29900.00   0.0  \n",
       "591                 0.0       29900.00   0.0  \n",
       "592                 0.0       44820.00   0.0  \n",
       "593                 0.0       41355.00   0.0  \n",
       "594                 0.0         437.00   0.0  \n",
       "595                 0.0         919.00   0.0  \n",
       "596                 0.0         747.00   0.0  \n",
       "597                 0.0         598.00   0.0  \n",
       "598                 0.0         397.00   0.0  \n",
       "599                 0.0         598.00   0.0  \n",
       "600                 0.0         747.00   0.0  \n",
       "601                 0.0         598.00   0.0  \n",
       "602                 0.0         747.00   0.0  \n",
       "603                 0.0         598.00   0.0  \n",
       "604                 0.0         747.00   0.0  \n",
       "605                 0.0         919.00   0.0  \n",
       "606                 0.0         397.00   0.0  \n",
       "607                 0.0         747.00   0.0  \n",
       "608                 0.0         437.00   0.0  \n",
       "609                 0.0         919.00   0.0  \n",
       "610                 0.0         919.00   0.0  \n",
       "611                 0.0         397.00   0.0  \n",
       "612                 0.0         598.00   0.0  \n",
       "613                 0.0         598.00   0.0  \n",
       "614                 0.0         397.00   0.0  \n",
       "615                 0.0         598.00   0.0  \n",
       "616                 0.0         598.00   0.0  \n",
       "617                 0.0         747.00   0.0  \n",
       "618                 0.0         598.00   0.0  \n",
       "624                 0.0        6275.99   0.0  \n",
       "1522                0.0       16504.20   0.0  \n",
       "2272                0.0         446.40   0.0  \n",
       "2277                0.0         773.14   0.0  "
      ]
     },
     "execution_count": 43,
     "metadata": {},
     "output_type": "execute_result"
    }
   ],
   "source": [
    "df_teste[(df_teste['AÇÃO'] == '212O') & (df_teste['A_LIQUIDAR'] != 0)]"
   ]
  }
 ],
 "metadata": {
  "kernelspec": {
   "display_name": "base",
   "language": "python",
   "name": "python3"
  },
  "language_info": {
   "codemirror_mode": {
    "name": "ipython",
    "version": 3
   },
   "file_extension": ".py",
   "mimetype": "text/x-python",
   "name": "python",
   "nbconvert_exporter": "python",
   "pygments_lexer": "ipython3",
   "version": "3.11.10"
  },
  "orig_nbformat": 4
 },
 "nbformat": 4,
 "nbformat_minor": 2
}
