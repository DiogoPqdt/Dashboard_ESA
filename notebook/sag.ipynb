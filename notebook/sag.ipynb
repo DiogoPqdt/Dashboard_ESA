{
 "cells": [
  {
   "cell_type": "markdown",
   "metadata": {},
   "source": [
    "# Criar VENV\n",
    "\n",
    "https://oandersonbm.medium.com/usando-python-no-vs-code-com-ambiente-virtual-venv-ecef7959b652"
   ]
  },
  {
   "cell_type": "code",
   "execution_count": 1,
   "metadata": {},
   "outputs": [],
   "source": [
    "import pandas as pd\n",
    "import plotly.express as px\n",
    "import plotly.graph_objects as go\n",
    "from datetime import datetime\n",
    "import locale\n",
    "\n",
    "# Definindo a configuração local para o Brasil (pt_BR)\n",
    "locale.setlocale(locale.LC_ALL, 'pt_BR')\n",
    "\n",
    "# Personalizando para ver todas as colunas e linhas do DataFrame\n",
    "pd.set_option('display.max_columns', None)\n",
    "\n",
    "pd.set_option('display.max_rows', None) "
   ]
  },
  {
   "cell_type": "markdown",
   "metadata": {},
   "source": [
    "# Base de dados"
   ]
  },
  {
   "cell_type": "code",
   "execution_count": 2,
   "metadata": {},
   "outputs": [],
   "source": [
    "# Realizando a junção dos 3 arquivos .CSV num único DataFrame\n",
    "\n",
    "# Caminhos para os arquivos .CSV\n",
    "caminho_1 = r\"D:\\OneDrive\\Trabalho\\ESA 2025\\Dashboard_ESA_2025\\base_dados\\Cel Manfrini.csv\"\n",
    "\n",
    "caminho_2 = r\"D:\\OneDrive\\Trabalho\\ESA 2025\\Dashboard_ESA_2025\\base_dados\\Cel Manfrini(1).csv\"\n",
    "#\n",
    "#caminho_3 = r\"C:\\Users\\User\\OneDrive\\Trabalho\\ESA 2024\\Dashboard_ESA\\base_dados\\Cel Manfrini(2).csv\"\n",
    "#\n",
    "#caminho_4 = r\"C:\\Users\\User\\OneDrive\\Trabalho\\ESA 2024\\Dashboard_ESA\\base_dados\\Cel Manfrini(3).csv\"\n",
    "#\n",
    "#caminho_5 = r\"C:\\Users\\User\\OneDrive\\Trabalho\\ESA 2024\\Dashboard_ESA\\base_dados\\Cel Manfrini(4).csv\"\n",
    "#\n",
    "#caminho_6 = r\"D:\\OneDrive\\Trabalho\\ESA 2023\\Dashboard_ESA\\base_dados\\Cel Manfrini(5).csv\"\n",
    "\n",
    "\n",
    "\n",
    "# Leitura dos arquivos .CSV em DataFrames individuais\n",
    "df1 = pd.read_csv(caminho_1)\n",
    "df2 = pd.read_csv(caminho_2)\n",
    "#df3 = pd.read_csv(caminho_3)\n",
    "#df4 = pd.read_csv(caminho_4)\n",
    "#df5 = pd.read_csv(caminho_5)\n",
    "#df6 = pd.read_csv(caminho_6)\n",
    "\n",
    "# Concatenação dos DataFrames em um único DataFrame\n",
    "df = pd.concat([df1, df2], ignore_index=True)\n",
    "\n",
    "# Excluindo linhas que contenham a string \"Tela\" em qualquer coluna\n",
    "df = df[~df.apply(lambda row: row.astype(str).str.contains('Tela')).any(axis=1)]\n",
    "\n",
    "# Inserindo _ nos titulos das colunas\n",
    "df.columns = df.columns.str.replace(' ', '_')\n",
    "\n",
    "# Transformando o tipo de dado das colunas de valores monetários\n",
    "df['A_LIQUIDAR'] = df['A_LIQUIDAR'].apply(lambda x: float(x.replace('.', '').replace(',', '.')))\n",
    "df['LIQUIDADO_A_PAGAR'] = df['LIQUIDADO_A_PAGAR'].apply(lambda x: float(x.replace('.', '').replace(',', '.')))\n",
    "df['TOTAL_A_PAGAR'] = df['TOTAL_A_PAGAR'].apply(lambda x: float(x.replace('.', '').replace(',', '.')))\n",
    "df['PAGO'] = df['PAGO'].apply(lambda x: float(x.replace('.', '').replace(',', '.')))\n",
    "\n",
    "# Convertendo a coluna DATA para datetime\n",
    "df['DATA'] = pd.to_datetime(df['DATA'], format='%d/%m/%y')\n",
    "\n",
    "# Convertendo a coluna DIAS em número inteiro\n",
    "df['DIAS'] = df['DIAS'].astype(int)"
   ]
  },
  {
   "cell_type": "markdown",
   "metadata": {},
   "source": [
    "# Trabalhando com um DATAFRAME voltado para controle dos SALDOS"
   ]
  },
  {
   "cell_type": "code",
   "execution_count": 3,
   "metadata": {},
   "outputs": [],
   "source": [
    "df_saldos = df[['ANO','UG', 'CHAVE' ,'NOME_CREDOR', 'FAV', 'DATA', 'DIAS', 'ND','NDSI', 'NOME_NDSI', 'NE', 'PI', 'NOME_PI','TIPO', 'NOME_UGR', 'A_LIQUIDAR', 'LIQUIDADO_A_PAGAR', 'TOTAL_A_PAGAR', 'PAGO']]"
   ]
  },
  {
   "cell_type": "code",
   "execution_count": 4,
   "metadata": {},
   "outputs": [],
   "source": [
    "df_saldos.to_csv(\"saldos_esa_2025.csv\", index=False)"
   ]
  },
  {
   "cell_type": "code",
   "execution_count": 5,
   "metadata": {},
   "outputs": [
    {
     "name": "stdout",
     "output_type": "stream",
     "text": [
      "O total pago pela ESA até o momento foi: R$ 5.372.839,54\n",
      "O total de saldo a liquidar pela ESA até o momento foi: R$ 9.692.382,63\n",
      "O total de saldo liquidado a pagar pela ESA até o momento foi: R$ 806.546,62\n",
      "O total de saldo a pagar pela ESA até o momento foi: R$ 10.498.929,25\n"
     ]
    }
   ],
   "source": [
    "# Saldos Totais\n",
    "total_pago = df['PAGO'].sum().round(2)\n",
    "total_a_liquidar = df['A_LIQUIDAR'].sum().round(2)\n",
    "total_liquidado_a_pagar = df['LIQUIDADO_A_PAGAR'].sum().round(2)\n",
    "total_a_pagar = df['TOTAL_A_PAGAR'].sum().round(2)\n",
    "\n",
    "\n",
    "print(f'O total pago pela ESA até o momento foi: {locale.currency(total_pago, grouping=True)}')\n",
    "print(f'O total de saldo a liquidar pela ESA até o momento foi: {locale.currency(total_a_liquidar, grouping=True)}')\n",
    "print(f'O total de saldo liquidado a pagar pela ESA até o momento foi: {locale.currency(total_liquidado_a_pagar, grouping=True)}')\n",
    "print(f'O total de saldo a pagar pela ESA até o momento foi: {locale.currency(total_a_pagar, grouping=True)}')"
   ]
  },
  {
   "cell_type": "code",
   "execution_count": 7,
   "metadata": {},
   "outputs": [
    {
     "data": {
      "text/plain": [
       "Index(['ANO', 'UG', 'CHAVE', 'NOME_CREDOR', 'FAV', 'DATA', 'DIAS', 'ND',\n",
       "       'NDSI', 'NOME_NDSI', 'NE', 'PI', 'NOME_PI', 'TIPO', 'NOME_UGR',\n",
       "       'A_LIQUIDAR', 'LIQUIDADO_A_PAGAR', 'TOTAL_A_PAGAR', 'PAGO'],\n",
       "      dtype='object')"
      ]
     },
     "execution_count": 7,
     "metadata": {},
     "output_type": "execute_result"
    }
   ],
   "source": [
    "df_saldos.columns"
   ]
  },
  {
   "cell_type": "code",
   "execution_count": 7,
   "metadata": {},
   "outputs": [
    {
     "data": {
      "application/vnd.plotly.v1+json": {
       "config": {
        "plotlyServerURL": "https://plot.ly"
       },
       "data": [
        {
         "alignmentgroup": "True",
         "cliponaxis": false,
         "legendgroup": "",
         "marker": {
          "color": [
           2833409.23,
           2264838.99,
           1884206.37,
           530175.04,
           213099.4,
           175941.4,
           109140.97,
           64089.14,
           16661.35,
           3332.25
          ],
          "coloraxis": "coloraxis",
          "pattern": {
           "shape": ""
          }
         },
         "name": "",
         "offsetgroup": "",
         "orientation": "v",
         "showlegend": false,
         "textposition": "outside",
         "texttemplate": "%{y:.3s}",
         "type": "bar",
         "x": [
          "339039",
          "339033",
          "339030",
          "449052",
          "339040",
          "339037",
          "339015",
          "339093",
          "339036",
          "339147"
         ],
         "xaxis": "x",
         "y": [
          2833409.23,
          2264838.99,
          1884206.37,
          530175.04,
          213099.4,
          175941.4,
          109140.97,
          64089.14,
          16661.35,
          3332.25
         ],
         "yaxis": "y"
        }
       ],
       "layout": {
        "barmode": "relative",
        "coloraxis": {
         "colorbar": {
          "title": {
           "text": "Saldo a liquidar"
          }
         },
         "colorscale": [
          [
           0,
           "rgb(255,245,240)"
          ],
          [
           0.125,
           "rgb(254,224,210)"
          ],
          [
           0.25,
           "rgb(252,187,161)"
          ],
          [
           0.375,
           "rgb(252,146,114)"
          ],
          [
           0.5,
           "rgb(251,106,74)"
          ],
          [
           0.625,
           "rgb(239,59,44)"
          ],
          [
           0.75,
           "rgb(203,24,29)"
          ],
          [
           0.875,
           "rgb(165,15,21)"
          ],
          [
           1,
           "rgb(103,0,13)"
          ]
         ]
        },
        "height": 500,
        "hovermode": "x unified",
        "legend": {
         "tracegroupgap": 0
        },
        "template": {
         "data": {
          "bar": [
           {
            "error_x": {
             "color": "#2a3f5f"
            },
            "error_y": {
             "color": "#2a3f5f"
            },
            "marker": {
             "line": {
              "color": "white",
              "width": 0.5
             },
             "pattern": {
              "fillmode": "overlay",
              "size": 10,
              "solidity": 0.2
             }
            },
            "type": "bar"
           }
          ],
          "barpolar": [
           {
            "marker": {
             "line": {
              "color": "white",
              "width": 0.5
             },
             "pattern": {
              "fillmode": "overlay",
              "size": 10,
              "solidity": 0.2
             }
            },
            "type": "barpolar"
           }
          ],
          "carpet": [
           {
            "aaxis": {
             "endlinecolor": "#2a3f5f",
             "gridcolor": "#C8D4E3",
             "linecolor": "#C8D4E3",
             "minorgridcolor": "#C8D4E3",
             "startlinecolor": "#2a3f5f"
            },
            "baxis": {
             "endlinecolor": "#2a3f5f",
             "gridcolor": "#C8D4E3",
             "linecolor": "#C8D4E3",
             "minorgridcolor": "#C8D4E3",
             "startlinecolor": "#2a3f5f"
            },
            "type": "carpet"
           }
          ],
          "choropleth": [
           {
            "colorbar": {
             "outlinewidth": 0,
             "ticks": ""
            },
            "type": "choropleth"
           }
          ],
          "contour": [
           {
            "colorbar": {
             "outlinewidth": 0,
             "ticks": ""
            },
            "colorscale": [
             [
              0,
              "#0d0887"
             ],
             [
              0.1111111111111111,
              "#46039f"
             ],
             [
              0.2222222222222222,
              "#7201a8"
             ],
             [
              0.3333333333333333,
              "#9c179e"
             ],
             [
              0.4444444444444444,
              "#bd3786"
             ],
             [
              0.5555555555555556,
              "#d8576b"
             ],
             [
              0.6666666666666666,
              "#ed7953"
             ],
             [
              0.7777777777777778,
              "#fb9f3a"
             ],
             [
              0.8888888888888888,
              "#fdca26"
             ],
             [
              1,
              "#f0f921"
             ]
            ],
            "type": "contour"
           }
          ],
          "contourcarpet": [
           {
            "colorbar": {
             "outlinewidth": 0,
             "ticks": ""
            },
            "type": "contourcarpet"
           }
          ],
          "heatmap": [
           {
            "colorbar": {
             "outlinewidth": 0,
             "ticks": ""
            },
            "colorscale": [
             [
              0,
              "#0d0887"
             ],
             [
              0.1111111111111111,
              "#46039f"
             ],
             [
              0.2222222222222222,
              "#7201a8"
             ],
             [
              0.3333333333333333,
              "#9c179e"
             ],
             [
              0.4444444444444444,
              "#bd3786"
             ],
             [
              0.5555555555555556,
              "#d8576b"
             ],
             [
              0.6666666666666666,
              "#ed7953"
             ],
             [
              0.7777777777777778,
              "#fb9f3a"
             ],
             [
              0.8888888888888888,
              "#fdca26"
             ],
             [
              1,
              "#f0f921"
             ]
            ],
            "type": "heatmap"
           }
          ],
          "heatmapgl": [
           {
            "colorbar": {
             "outlinewidth": 0,
             "ticks": ""
            },
            "colorscale": [
             [
              0,
              "#0d0887"
             ],
             [
              0.1111111111111111,
              "#46039f"
             ],
             [
              0.2222222222222222,
              "#7201a8"
             ],
             [
              0.3333333333333333,
              "#9c179e"
             ],
             [
              0.4444444444444444,
              "#bd3786"
             ],
             [
              0.5555555555555556,
              "#d8576b"
             ],
             [
              0.6666666666666666,
              "#ed7953"
             ],
             [
              0.7777777777777778,
              "#fb9f3a"
             ],
             [
              0.8888888888888888,
              "#fdca26"
             ],
             [
              1,
              "#f0f921"
             ]
            ],
            "type": "heatmapgl"
           }
          ],
          "histogram": [
           {
            "marker": {
             "pattern": {
              "fillmode": "overlay",
              "size": 10,
              "solidity": 0.2
             }
            },
            "type": "histogram"
           }
          ],
          "histogram2d": [
           {
            "colorbar": {
             "outlinewidth": 0,
             "ticks": ""
            },
            "colorscale": [
             [
              0,
              "#0d0887"
             ],
             [
              0.1111111111111111,
              "#46039f"
             ],
             [
              0.2222222222222222,
              "#7201a8"
             ],
             [
              0.3333333333333333,
              "#9c179e"
             ],
             [
              0.4444444444444444,
              "#bd3786"
             ],
             [
              0.5555555555555556,
              "#d8576b"
             ],
             [
              0.6666666666666666,
              "#ed7953"
             ],
             [
              0.7777777777777778,
              "#fb9f3a"
             ],
             [
              0.8888888888888888,
              "#fdca26"
             ],
             [
              1,
              "#f0f921"
             ]
            ],
            "type": "histogram2d"
           }
          ],
          "histogram2dcontour": [
           {
            "colorbar": {
             "outlinewidth": 0,
             "ticks": ""
            },
            "colorscale": [
             [
              0,
              "#0d0887"
             ],
             [
              0.1111111111111111,
              "#46039f"
             ],
             [
              0.2222222222222222,
              "#7201a8"
             ],
             [
              0.3333333333333333,
              "#9c179e"
             ],
             [
              0.4444444444444444,
              "#bd3786"
             ],
             [
              0.5555555555555556,
              "#d8576b"
             ],
             [
              0.6666666666666666,
              "#ed7953"
             ],
             [
              0.7777777777777778,
              "#fb9f3a"
             ],
             [
              0.8888888888888888,
              "#fdca26"
             ],
             [
              1,
              "#f0f921"
             ]
            ],
            "type": "histogram2dcontour"
           }
          ],
          "mesh3d": [
           {
            "colorbar": {
             "outlinewidth": 0,
             "ticks": ""
            },
            "type": "mesh3d"
           }
          ],
          "parcoords": [
           {
            "line": {
             "colorbar": {
              "outlinewidth": 0,
              "ticks": ""
             }
            },
            "type": "parcoords"
           }
          ],
          "pie": [
           {
            "automargin": true,
            "type": "pie"
           }
          ],
          "scatter": [
           {
            "fillpattern": {
             "fillmode": "overlay",
             "size": 10,
             "solidity": 0.2
            },
            "type": "scatter"
           }
          ],
          "scatter3d": [
           {
            "line": {
             "colorbar": {
              "outlinewidth": 0,
              "ticks": ""
             }
            },
            "marker": {
             "colorbar": {
              "outlinewidth": 0,
              "ticks": ""
             }
            },
            "type": "scatter3d"
           }
          ],
          "scattercarpet": [
           {
            "marker": {
             "colorbar": {
              "outlinewidth": 0,
              "ticks": ""
             }
            },
            "type": "scattercarpet"
           }
          ],
          "scattergeo": [
           {
            "marker": {
             "colorbar": {
              "outlinewidth": 0,
              "ticks": ""
             }
            },
            "type": "scattergeo"
           }
          ],
          "scattergl": [
           {
            "marker": {
             "colorbar": {
              "outlinewidth": 0,
              "ticks": ""
             }
            },
            "type": "scattergl"
           }
          ],
          "scattermapbox": [
           {
            "marker": {
             "colorbar": {
              "outlinewidth": 0,
              "ticks": ""
             }
            },
            "type": "scattermapbox"
           }
          ],
          "scatterpolar": [
           {
            "marker": {
             "colorbar": {
              "outlinewidth": 0,
              "ticks": ""
             }
            },
            "type": "scatterpolar"
           }
          ],
          "scatterpolargl": [
           {
            "marker": {
             "colorbar": {
              "outlinewidth": 0,
              "ticks": ""
             }
            },
            "type": "scatterpolargl"
           }
          ],
          "scatterternary": [
           {
            "marker": {
             "colorbar": {
              "outlinewidth": 0,
              "ticks": ""
             }
            },
            "type": "scatterternary"
           }
          ],
          "surface": [
           {
            "colorbar": {
             "outlinewidth": 0,
             "ticks": ""
            },
            "colorscale": [
             [
              0,
              "#0d0887"
             ],
             [
              0.1111111111111111,
              "#46039f"
             ],
             [
              0.2222222222222222,
              "#7201a8"
             ],
             [
              0.3333333333333333,
              "#9c179e"
             ],
             [
              0.4444444444444444,
              "#bd3786"
             ],
             [
              0.5555555555555556,
              "#d8576b"
             ],
             [
              0.6666666666666666,
              "#ed7953"
             ],
             [
              0.7777777777777778,
              "#fb9f3a"
             ],
             [
              0.8888888888888888,
              "#fdca26"
             ],
             [
              1,
              "#f0f921"
             ]
            ],
            "type": "surface"
           }
          ],
          "table": [
           {
            "cells": {
             "fill": {
              "color": "#EBF0F8"
             },
             "line": {
              "color": "white"
             }
            },
            "header": {
             "fill": {
              "color": "#C8D4E3"
             },
             "line": {
              "color": "white"
             }
            },
            "type": "table"
           }
          ]
         },
         "layout": {
          "annotationdefaults": {
           "arrowcolor": "#2a3f5f",
           "arrowhead": 0,
           "arrowwidth": 1
          },
          "autotypenumbers": "strict",
          "coloraxis": {
           "colorbar": {
            "outlinewidth": 0,
            "ticks": ""
           }
          },
          "colorscale": {
           "diverging": [
            [
             0,
             "#8e0152"
            ],
            [
             0.1,
             "#c51b7d"
            ],
            [
             0.2,
             "#de77ae"
            ],
            [
             0.3,
             "#f1b6da"
            ],
            [
             0.4,
             "#fde0ef"
            ],
            [
             0.5,
             "#f7f7f7"
            ],
            [
             0.6,
             "#e6f5d0"
            ],
            [
             0.7,
             "#b8e186"
            ],
            [
             0.8,
             "#7fbc41"
            ],
            [
             0.9,
             "#4d9221"
            ],
            [
             1,
             "#276419"
            ]
           ],
           "sequential": [
            [
             0,
             "#0d0887"
            ],
            [
             0.1111111111111111,
             "#46039f"
            ],
            [
             0.2222222222222222,
             "#7201a8"
            ],
            [
             0.3333333333333333,
             "#9c179e"
            ],
            [
             0.4444444444444444,
             "#bd3786"
            ],
            [
             0.5555555555555556,
             "#d8576b"
            ],
            [
             0.6666666666666666,
             "#ed7953"
            ],
            [
             0.7777777777777778,
             "#fb9f3a"
            ],
            [
             0.8888888888888888,
             "#fdca26"
            ],
            [
             1,
             "#f0f921"
            ]
           ],
           "sequentialminus": [
            [
             0,
             "#0d0887"
            ],
            [
             0.1111111111111111,
             "#46039f"
            ],
            [
             0.2222222222222222,
             "#7201a8"
            ],
            [
             0.3333333333333333,
             "#9c179e"
            ],
            [
             0.4444444444444444,
             "#bd3786"
            ],
            [
             0.5555555555555556,
             "#d8576b"
            ],
            [
             0.6666666666666666,
             "#ed7953"
            ],
            [
             0.7777777777777778,
             "#fb9f3a"
            ],
            [
             0.8888888888888888,
             "#fdca26"
            ],
            [
             1,
             "#f0f921"
            ]
           ]
          },
          "colorway": [
           "#636efa",
           "#EF553B",
           "#00cc96",
           "#ab63fa",
           "#FFA15A",
           "#19d3f3",
           "#FF6692",
           "#B6E880",
           "#FF97FF",
           "#FECB52"
          ],
          "font": {
           "color": "#2a3f5f"
          },
          "geo": {
           "bgcolor": "white",
           "lakecolor": "white",
           "landcolor": "white",
           "showlakes": true,
           "showland": true,
           "subunitcolor": "#C8D4E3"
          },
          "hoverlabel": {
           "align": "left"
          },
          "hovermode": "closest",
          "mapbox": {
           "style": "light"
          },
          "paper_bgcolor": "white",
          "plot_bgcolor": "white",
          "polar": {
           "angularaxis": {
            "gridcolor": "#EBF0F8",
            "linecolor": "#EBF0F8",
            "ticks": ""
           },
           "bgcolor": "white",
           "radialaxis": {
            "gridcolor": "#EBF0F8",
            "linecolor": "#EBF0F8",
            "ticks": ""
           }
          },
          "scene": {
           "xaxis": {
            "backgroundcolor": "white",
            "gridcolor": "#DFE8F3",
            "gridwidth": 2,
            "linecolor": "#EBF0F8",
            "showbackground": true,
            "ticks": "",
            "zerolinecolor": "#EBF0F8"
           },
           "yaxis": {
            "backgroundcolor": "white",
            "gridcolor": "#DFE8F3",
            "gridwidth": 2,
            "linecolor": "#EBF0F8",
            "showbackground": true,
            "ticks": "",
            "zerolinecolor": "#EBF0F8"
           },
           "zaxis": {
            "backgroundcolor": "white",
            "gridcolor": "#DFE8F3",
            "gridwidth": 2,
            "linecolor": "#EBF0F8",
            "showbackground": true,
            "ticks": "",
            "zerolinecolor": "#EBF0F8"
           }
          },
          "shapedefaults": {
           "line": {
            "color": "#2a3f5f"
           }
          },
          "ternary": {
           "aaxis": {
            "gridcolor": "#DFE8F3",
            "linecolor": "#A2B1C6",
            "ticks": ""
           },
           "baxis": {
            "gridcolor": "#DFE8F3",
            "linecolor": "#A2B1C6",
            "ticks": ""
           },
           "bgcolor": "white",
           "caxis": {
            "gridcolor": "#DFE8F3",
            "linecolor": "#A2B1C6",
            "ticks": ""
           }
          },
          "title": {
           "x": 0.05
          },
          "xaxis": {
           "automargin": true,
           "gridcolor": "#EBF0F8",
           "linecolor": "#EBF0F8",
           "ticks": "",
           "title": {
            "standoff": 15
           },
           "zerolinecolor": "#EBF0F8",
           "zerolinewidth": 2
          },
          "yaxis": {
           "automargin": true,
           "gridcolor": "#EBF0F8",
           "linecolor": "#EBF0F8",
           "ticks": "",
           "title": {
            "standoff": 15
           },
           "zerolinecolor": "#EBF0F8",
           "zerolinewidth": 2
          }
         }
        },
        "title": {
         "text": "Saldo a liquidar por ND"
        },
        "xaxis": {
         "anchor": "y",
         "domain": [
          0,
          1
         ],
         "title": {
          "text": "Natureza da Despesa"
         }
        },
        "yaxis": {
         "anchor": "x",
         "domain": [
          0,
          1
         ],
         "title": {
          "text": "Saldo a liquidar"
         },
         "type": "log"
        }
       }
      }
     },
     "metadata": {},
     "output_type": "display_data"
    }
   ],
   "source": [
    "# Saldo a liquidar por ND\n",
    "cols = ['ND', 'A_LIQUIDAR']\n",
    "\n",
    "df_aux = df.loc[:, cols].groupby('ND').sum().sort_values(by= 'A_LIQUIDAR', ascending=False).reset_index()\n",
    "df_aux = df_aux[df_aux['A_LIQUIDAR'] > 0]\n",
    "fig = px.bar(df_aux, \n",
    "             x='ND', \n",
    "             y='A_LIQUIDAR',\n",
    "             title='Saldo a liquidar por ND',\n",
    "             labels={'ND':'Natureza da Despesa', 'A_LIQUIDAR':'Saldo a liquidar'},\n",
    "             text_auto='.3s',\n",
    "             height=500,\n",
    "             log_y=True,\n",
    "             color='A_LIQUIDAR',\n",
    "             color_continuous_scale = 'reds',\n",
    "             template='plotly_white')\n",
    "fig.update_traces(textposition = 'outside', cliponaxis = False, hovertemplate=None)\n",
    "fig.update_layout(hovermode=\"x unified\")\n",
    "\n",
    "fig.show()"
   ]
  },
  {
   "cell_type": "code",
   "execution_count": 8,
   "metadata": {},
   "outputs": [
    {
     "data": {
      "application/vnd.plotly.v1+json": {
       "config": {
        "plotlyServerURL": "https://plot.ly"
       },
       "data": [
        {
         "alignmentgroup": "True",
         "cliponaxis": false,
         "legendgroup": "",
         "marker": {
          "color": [
           1764643.56,
           1307955.3,
           660989.01,
           559984.56,
           416243.31,
           398897,
           359138.22,
           325922.42,
           237020,
           175941.4,
           157576,
           148407.04,
           109140.97,
           109008.35,
           97511.92,
           92636.53,
           92166,
           88859.25,
           84000,
           75408.2,
           64692.36,
           64089.14,
           58980,
           55995.3,
           55358.56,
           49210.38,
           47704.8,
           36906.54,
           34903.8,
           29475.1,
           27045.829999999998,
           26069,
           25999.95,
           24055.5,
           23032,
           21684,
           17507.7,
           16661.35,
           15905,
           15179.72,
           14501.390000000001,
           13637.13,
           12317.07,
           11512,
           10399.33,
           9000,
           7879,
           6684.6,
           6098,
           6073.75,
           4900,
           4807.35,
           3724.25,
           3332.25,
           2982.25,
           1962.4,
           1807,
           1299.3,
           72
          ],
          "coloraxis": "coloraxis",
          "pattern": {
           "shape": ""
          }
         },
         "name": "",
         "offsetgroup": "",
         "orientation": "v",
         "showlegend": false,
         "textposition": "outside",
         "texttemplate": "%{y:.3s}",
         "type": "bar",
         "x": [
          "33903309",
          "33903916",
          "33903039",
          "33903943",
          "33903917",
          "33903304",
          "33903022",
          "33903024",
          "44905242",
          "33903702",
          "33903922",
          "33904016",
          "33901514",
          "33903946",
          "33903017",
          "33903950",
          "44905247",
          "33903021",
          "44905243",
          "33903016",
          "33904012",
          "33909319",
          "44905233",
          "33903307",
          "33903947",
          "33903026",
          "33903006",
          "33903007",
          "33903301",
          "33903034",
          "33903944",
          "33903920",
          "44905228",
          "33903008",
          "33903959",
          "33903050",
          "44905241",
          "33903630",
          "33903914",
          "33903970",
          "44905234",
          "33903004",
          "33903958",
          "33903009",
          "33903302",
          "33903919",
          "33903036",
          "33903035",
          "33903912",
          "33903041",
          "33903027",
          "33903010",
          "33903020",
          "33914718",
          "33903042",
          "33903025",
          "33903028",
          "33903014",
          "33903011"
         ],
         "xaxis": "x",
         "y": [
          1764643.56,
          1307955.3,
          660989.01,
          559984.56,
          416243.31,
          398897,
          359138.22,
          325922.42,
          237020,
          175941.4,
          157576,
          148407.04,
          109140.97,
          109008.35,
          97511.92,
          92636.53,
          92166,
          88859.25,
          84000,
          75408.2,
          64692.36,
          64089.14,
          58980,
          55995.3,
          55358.56,
          49210.38,
          47704.8,
          36906.54,
          34903.8,
          29475.1,
          27045.829999999998,
          26069,
          25999.95,
          24055.5,
          23032,
          21684,
          17507.7,
          16661.35,
          15905,
          15179.72,
          14501.390000000001,
          13637.13,
          12317.07,
          11512,
          10399.33,
          9000,
          7879,
          6684.6,
          6098,
          6073.75,
          4900,
          4807.35,
          3724.25,
          3332.25,
          2982.25,
          1962.4,
          1807,
          1299.3,
          72
         ],
         "yaxis": "y"
        }
       ],
       "layout": {
        "barmode": "relative",
        "coloraxis": {
         "colorbar": {
          "title": {
           "text": "Saldo a liquidar"
          }
         },
         "colorscale": [
          [
           0,
           "rgb(255,245,240)"
          ],
          [
           0.125,
           "rgb(254,224,210)"
          ],
          [
           0.25,
           "rgb(252,187,161)"
          ],
          [
           0.375,
           "rgb(252,146,114)"
          ],
          [
           0.5,
           "rgb(251,106,74)"
          ],
          [
           0.625,
           "rgb(239,59,44)"
          ],
          [
           0.75,
           "rgb(203,24,29)"
          ],
          [
           0.875,
           "rgb(165,15,21)"
          ],
          [
           1,
           "rgb(103,0,13)"
          ]
         ]
        },
        "height": 600,
        "hovermode": "x unified",
        "legend": {
         "tracegroupgap": 0
        },
        "template": {
         "data": {
          "bar": [
           {
            "error_x": {
             "color": "#f2f5fa"
            },
            "error_y": {
             "color": "#f2f5fa"
            },
            "marker": {
             "line": {
              "color": "rgb(17,17,17)",
              "width": 0.5
             },
             "pattern": {
              "fillmode": "overlay",
              "size": 10,
              "solidity": 0.2
             }
            },
            "type": "bar"
           }
          ],
          "barpolar": [
           {
            "marker": {
             "line": {
              "color": "rgb(17,17,17)",
              "width": 0.5
             },
             "pattern": {
              "fillmode": "overlay",
              "size": 10,
              "solidity": 0.2
             }
            },
            "type": "barpolar"
           }
          ],
          "carpet": [
           {
            "aaxis": {
             "endlinecolor": "#A2B1C6",
             "gridcolor": "#506784",
             "linecolor": "#506784",
             "minorgridcolor": "#506784",
             "startlinecolor": "#A2B1C6"
            },
            "baxis": {
             "endlinecolor": "#A2B1C6",
             "gridcolor": "#506784",
             "linecolor": "#506784",
             "minorgridcolor": "#506784",
             "startlinecolor": "#A2B1C6"
            },
            "type": "carpet"
           }
          ],
          "choropleth": [
           {
            "colorbar": {
             "outlinewidth": 0,
             "ticks": ""
            },
            "type": "choropleth"
           }
          ],
          "contour": [
           {
            "colorbar": {
             "outlinewidth": 0,
             "ticks": ""
            },
            "colorscale": [
             [
              0,
              "#0d0887"
             ],
             [
              0.1111111111111111,
              "#46039f"
             ],
             [
              0.2222222222222222,
              "#7201a8"
             ],
             [
              0.3333333333333333,
              "#9c179e"
             ],
             [
              0.4444444444444444,
              "#bd3786"
             ],
             [
              0.5555555555555556,
              "#d8576b"
             ],
             [
              0.6666666666666666,
              "#ed7953"
             ],
             [
              0.7777777777777778,
              "#fb9f3a"
             ],
             [
              0.8888888888888888,
              "#fdca26"
             ],
             [
              1,
              "#f0f921"
             ]
            ],
            "type": "contour"
           }
          ],
          "contourcarpet": [
           {
            "colorbar": {
             "outlinewidth": 0,
             "ticks": ""
            },
            "type": "contourcarpet"
           }
          ],
          "heatmap": [
           {
            "colorbar": {
             "outlinewidth": 0,
             "ticks": ""
            },
            "colorscale": [
             [
              0,
              "#0d0887"
             ],
             [
              0.1111111111111111,
              "#46039f"
             ],
             [
              0.2222222222222222,
              "#7201a8"
             ],
             [
              0.3333333333333333,
              "#9c179e"
             ],
             [
              0.4444444444444444,
              "#bd3786"
             ],
             [
              0.5555555555555556,
              "#d8576b"
             ],
             [
              0.6666666666666666,
              "#ed7953"
             ],
             [
              0.7777777777777778,
              "#fb9f3a"
             ],
             [
              0.8888888888888888,
              "#fdca26"
             ],
             [
              1,
              "#f0f921"
             ]
            ],
            "type": "heatmap"
           }
          ],
          "heatmapgl": [
           {
            "colorbar": {
             "outlinewidth": 0,
             "ticks": ""
            },
            "colorscale": [
             [
              0,
              "#0d0887"
             ],
             [
              0.1111111111111111,
              "#46039f"
             ],
             [
              0.2222222222222222,
              "#7201a8"
             ],
             [
              0.3333333333333333,
              "#9c179e"
             ],
             [
              0.4444444444444444,
              "#bd3786"
             ],
             [
              0.5555555555555556,
              "#d8576b"
             ],
             [
              0.6666666666666666,
              "#ed7953"
             ],
             [
              0.7777777777777778,
              "#fb9f3a"
             ],
             [
              0.8888888888888888,
              "#fdca26"
             ],
             [
              1,
              "#f0f921"
             ]
            ],
            "type": "heatmapgl"
           }
          ],
          "histogram": [
           {
            "marker": {
             "pattern": {
              "fillmode": "overlay",
              "size": 10,
              "solidity": 0.2
             }
            },
            "type": "histogram"
           }
          ],
          "histogram2d": [
           {
            "colorbar": {
             "outlinewidth": 0,
             "ticks": ""
            },
            "colorscale": [
             [
              0,
              "#0d0887"
             ],
             [
              0.1111111111111111,
              "#46039f"
             ],
             [
              0.2222222222222222,
              "#7201a8"
             ],
             [
              0.3333333333333333,
              "#9c179e"
             ],
             [
              0.4444444444444444,
              "#bd3786"
             ],
             [
              0.5555555555555556,
              "#d8576b"
             ],
             [
              0.6666666666666666,
              "#ed7953"
             ],
             [
              0.7777777777777778,
              "#fb9f3a"
             ],
             [
              0.8888888888888888,
              "#fdca26"
             ],
             [
              1,
              "#f0f921"
             ]
            ],
            "type": "histogram2d"
           }
          ],
          "histogram2dcontour": [
           {
            "colorbar": {
             "outlinewidth": 0,
             "ticks": ""
            },
            "colorscale": [
             [
              0,
              "#0d0887"
             ],
             [
              0.1111111111111111,
              "#46039f"
             ],
             [
              0.2222222222222222,
              "#7201a8"
             ],
             [
              0.3333333333333333,
              "#9c179e"
             ],
             [
              0.4444444444444444,
              "#bd3786"
             ],
             [
              0.5555555555555556,
              "#d8576b"
             ],
             [
              0.6666666666666666,
              "#ed7953"
             ],
             [
              0.7777777777777778,
              "#fb9f3a"
             ],
             [
              0.8888888888888888,
              "#fdca26"
             ],
             [
              1,
              "#f0f921"
             ]
            ],
            "type": "histogram2dcontour"
           }
          ],
          "mesh3d": [
           {
            "colorbar": {
             "outlinewidth": 0,
             "ticks": ""
            },
            "type": "mesh3d"
           }
          ],
          "parcoords": [
           {
            "line": {
             "colorbar": {
              "outlinewidth": 0,
              "ticks": ""
             }
            },
            "type": "parcoords"
           }
          ],
          "pie": [
           {
            "automargin": true,
            "type": "pie"
           }
          ],
          "scatter": [
           {
            "marker": {
             "line": {
              "color": "#283442"
             }
            },
            "type": "scatter"
           }
          ],
          "scatter3d": [
           {
            "line": {
             "colorbar": {
              "outlinewidth": 0,
              "ticks": ""
             }
            },
            "marker": {
             "colorbar": {
              "outlinewidth": 0,
              "ticks": ""
             }
            },
            "type": "scatter3d"
           }
          ],
          "scattercarpet": [
           {
            "marker": {
             "colorbar": {
              "outlinewidth": 0,
              "ticks": ""
             }
            },
            "type": "scattercarpet"
           }
          ],
          "scattergeo": [
           {
            "marker": {
             "colorbar": {
              "outlinewidth": 0,
              "ticks": ""
             }
            },
            "type": "scattergeo"
           }
          ],
          "scattergl": [
           {
            "marker": {
             "line": {
              "color": "#283442"
             }
            },
            "type": "scattergl"
           }
          ],
          "scattermapbox": [
           {
            "marker": {
             "colorbar": {
              "outlinewidth": 0,
              "ticks": ""
             }
            },
            "type": "scattermapbox"
           }
          ],
          "scatterpolar": [
           {
            "marker": {
             "colorbar": {
              "outlinewidth": 0,
              "ticks": ""
             }
            },
            "type": "scatterpolar"
           }
          ],
          "scatterpolargl": [
           {
            "marker": {
             "colorbar": {
              "outlinewidth": 0,
              "ticks": ""
             }
            },
            "type": "scatterpolargl"
           }
          ],
          "scatterternary": [
           {
            "marker": {
             "colorbar": {
              "outlinewidth": 0,
              "ticks": ""
             }
            },
            "type": "scatterternary"
           }
          ],
          "surface": [
           {
            "colorbar": {
             "outlinewidth": 0,
             "ticks": ""
            },
            "colorscale": [
             [
              0,
              "#0d0887"
             ],
             [
              0.1111111111111111,
              "#46039f"
             ],
             [
              0.2222222222222222,
              "#7201a8"
             ],
             [
              0.3333333333333333,
              "#9c179e"
             ],
             [
              0.4444444444444444,
              "#bd3786"
             ],
             [
              0.5555555555555556,
              "#d8576b"
             ],
             [
              0.6666666666666666,
              "#ed7953"
             ],
             [
              0.7777777777777778,
              "#fb9f3a"
             ],
             [
              0.8888888888888888,
              "#fdca26"
             ],
             [
              1,
              "#f0f921"
             ]
            ],
            "type": "surface"
           }
          ],
          "table": [
           {
            "cells": {
             "fill": {
              "color": "#506784"
             },
             "line": {
              "color": "rgb(17,17,17)"
             }
            },
            "header": {
             "fill": {
              "color": "#2a3f5f"
             },
             "line": {
              "color": "rgb(17,17,17)"
             }
            },
            "type": "table"
           }
          ]
         },
         "layout": {
          "annotationdefaults": {
           "arrowcolor": "#f2f5fa",
           "arrowhead": 0,
           "arrowwidth": 1
          },
          "autotypenumbers": "strict",
          "coloraxis": {
           "colorbar": {
            "outlinewidth": 0,
            "ticks": ""
           }
          },
          "colorscale": {
           "diverging": [
            [
             0,
             "#8e0152"
            ],
            [
             0.1,
             "#c51b7d"
            ],
            [
             0.2,
             "#de77ae"
            ],
            [
             0.3,
             "#f1b6da"
            ],
            [
             0.4,
             "#fde0ef"
            ],
            [
             0.5,
             "#f7f7f7"
            ],
            [
             0.6,
             "#e6f5d0"
            ],
            [
             0.7,
             "#b8e186"
            ],
            [
             0.8,
             "#7fbc41"
            ],
            [
             0.9,
             "#4d9221"
            ],
            [
             1,
             "#276419"
            ]
           ],
           "sequential": [
            [
             0,
             "#0d0887"
            ],
            [
             0.1111111111111111,
             "#46039f"
            ],
            [
             0.2222222222222222,
             "#7201a8"
            ],
            [
             0.3333333333333333,
             "#9c179e"
            ],
            [
             0.4444444444444444,
             "#bd3786"
            ],
            [
             0.5555555555555556,
             "#d8576b"
            ],
            [
             0.6666666666666666,
             "#ed7953"
            ],
            [
             0.7777777777777778,
             "#fb9f3a"
            ],
            [
             0.8888888888888888,
             "#fdca26"
            ],
            [
             1,
             "#f0f921"
            ]
           ],
           "sequentialminus": [
            [
             0,
             "#0d0887"
            ],
            [
             0.1111111111111111,
             "#46039f"
            ],
            [
             0.2222222222222222,
             "#7201a8"
            ],
            [
             0.3333333333333333,
             "#9c179e"
            ],
            [
             0.4444444444444444,
             "#bd3786"
            ],
            [
             0.5555555555555556,
             "#d8576b"
            ],
            [
             0.6666666666666666,
             "#ed7953"
            ],
            [
             0.7777777777777778,
             "#fb9f3a"
            ],
            [
             0.8888888888888888,
             "#fdca26"
            ],
            [
             1,
             "#f0f921"
            ]
           ]
          },
          "colorway": [
           "#636efa",
           "#EF553B",
           "#00cc96",
           "#ab63fa",
           "#FFA15A",
           "#19d3f3",
           "#FF6692",
           "#B6E880",
           "#FF97FF",
           "#FECB52"
          ],
          "font": {
           "color": "#f2f5fa"
          },
          "geo": {
           "bgcolor": "rgb(17,17,17)",
           "lakecolor": "rgb(17,17,17)",
           "landcolor": "rgb(17,17,17)",
           "showlakes": true,
           "showland": true,
           "subunitcolor": "#506784"
          },
          "hoverlabel": {
           "align": "left"
          },
          "hovermode": "closest",
          "mapbox": {
           "style": "dark"
          },
          "paper_bgcolor": "rgb(17,17,17)",
          "plot_bgcolor": "rgb(17,17,17)",
          "polar": {
           "angularaxis": {
            "gridcolor": "#506784",
            "linecolor": "#506784",
            "ticks": ""
           },
           "bgcolor": "rgb(17,17,17)",
           "radialaxis": {
            "gridcolor": "#506784",
            "linecolor": "#506784",
            "ticks": ""
           }
          },
          "scene": {
           "xaxis": {
            "backgroundcolor": "rgb(17,17,17)",
            "gridcolor": "#506784",
            "gridwidth": 2,
            "linecolor": "#506784",
            "showbackground": true,
            "ticks": "",
            "zerolinecolor": "#C8D4E3"
           },
           "yaxis": {
            "backgroundcolor": "rgb(17,17,17)",
            "gridcolor": "#506784",
            "gridwidth": 2,
            "linecolor": "#506784",
            "showbackground": true,
            "ticks": "",
            "zerolinecolor": "#C8D4E3"
           },
           "zaxis": {
            "backgroundcolor": "rgb(17,17,17)",
            "gridcolor": "#506784",
            "gridwidth": 2,
            "linecolor": "#506784",
            "showbackground": true,
            "ticks": "",
            "zerolinecolor": "#C8D4E3"
           }
          },
          "shapedefaults": {
           "line": {
            "color": "#f2f5fa"
           }
          },
          "sliderdefaults": {
           "bgcolor": "#C8D4E3",
           "bordercolor": "rgb(17,17,17)",
           "borderwidth": 1,
           "tickwidth": 0
          },
          "ternary": {
           "aaxis": {
            "gridcolor": "#506784",
            "linecolor": "#506784",
            "ticks": ""
           },
           "baxis": {
            "gridcolor": "#506784",
            "linecolor": "#506784",
            "ticks": ""
           },
           "bgcolor": "rgb(17,17,17)",
           "caxis": {
            "gridcolor": "#506784",
            "linecolor": "#506784",
            "ticks": ""
           }
          },
          "title": {
           "x": 0.05
          },
          "updatemenudefaults": {
           "bgcolor": "#506784",
           "borderwidth": 0
          },
          "xaxis": {
           "automargin": true,
           "gridcolor": "#283442",
           "linecolor": "#506784",
           "ticks": "",
           "title": {
            "standoff": 15
           },
           "zerolinecolor": "#283442",
           "zerolinewidth": 2
          },
          "yaxis": {
           "automargin": true,
           "gridcolor": "#283442",
           "linecolor": "#506784",
           "ticks": "",
           "title": {
            "standoff": 15
           },
           "zerolinecolor": "#283442",
           "zerolinewidth": 2
          }
         }
        },
        "title": {
         "text": "Saldo a liquidar por NDSI"
        },
        "xaxis": {
         "anchor": "y",
         "domain": [
          0,
          1
         ],
         "title": {
          "text": "Subitem da despesa"
         }
        },
        "yaxis": {
         "anchor": "x",
         "domain": [
          0,
          1
         ],
         "title": {
          "text": "Saldo a liquidar"
         },
         "type": "log"
        }
       }
      }
     },
     "metadata": {},
     "output_type": "display_data"
    }
   ],
   "source": [
    "# Saldo a liquidar por Subitem\n",
    "cols = ['NDSI', 'A_LIQUIDAR']\n",
    "\n",
    "df_aux = df.loc[:, cols].groupby('NDSI').sum().sort_values(by= 'A_LIQUIDAR', ascending=False).reset_index()\n",
    "df_aux = df_aux[df_aux['A_LIQUIDAR'] > 0]\n",
    "fig = px.bar(df_aux, \n",
    "             x='NDSI', \n",
    "             y='A_LIQUIDAR',\n",
    "             title='Saldo a liquidar por NDSI',\n",
    "             labels={'NDSI':'Subitem da despesa', 'A_LIQUIDAR':'Saldo a liquidar'},\n",
    "             text_auto='.3s',\n",
    "             height=600,\n",
    "             log_y=True,\n",
    "             color='A_LIQUIDAR',\n",
    "             color_continuous_scale = 'reds',\n",
    "             template='plotly_dark')\n",
    "fig.update_traces(textposition = 'outside', cliponaxis = False, hovertemplate=None)\n",
    "fig.update_layout(hovermode=\"x unified\")\n",
    "\n",
    "fig.show()"
   ]
  },
  {
   "cell_type": "code",
   "execution_count": 9,
   "metadata": {},
   "outputs": [
    {
     "data": {
      "application/vnd.plotly.v1+json": {
       "config": {
        "plotlyServerURL": "https://plot.ly"
       },
       "data": [
        {
         "alignmentgroup": "True",
         "cliponaxis": false,
         "legendgroup": "",
         "marker": {
          "color": [
           4359002.66,
           1334128.1300000001,
           559984.56,
           398897,
           361615.16000000003,
           175941.4,
           169887.28,
           64386.76,
           64089.14,
           62754.71,
           50543.67,
           50000,
           47704.8,
           37887.72,
           30215.64,
           29668.74,
           28886.4,
           27045.829999999998,
           26380.29,
           26069,
           24522.48,
           22070.18,
           21738.8,
           18473.99,
           13521.46,
           13374.55,
           13333.33,
           12650,
           11344.79,
           7504.7,
           7002,
           6828.61,
           3732.12,
           3025,
           2929,
           2410.37,
           1551.4,
           995,
           946.98,
           697.2,
           615,
           537.73,
           0.56
          ],
          "coloraxis": "coloraxis",
          "pattern": {
           "shape": ""
          }
         },
         "name": "",
         "offsetgroup": "",
         "orientation": "v",
         "showlegend": false,
         "textposition": "outside",
         "texttemplate": "%{y:.3s}",
         "type": "bar",
         "x": [
          "COLEGIO MILITAR - ADMINISTRACAO",
          "CAPACITACAO DE PESSOAL",
          "DESPESAS COM ENERGIA ELETRICA",
          "ATS - ATIVIDADES SETORIAIS",
          "PLANO DE INVESTIMENTO E MANUTENCAO",
          "LIMPEZA DE BENS IMÓVEIS",
          "CONCURSOS AS ESCOLAS MILITARES",
          "ORGANIZACAO CIVIL DE SAUDE",
          "IND - INDENIZACOES",
          "FUNADOM - DPGO",
          "A1QR - QUANTITATIVO DE RANCHO",
          "A5PA - PASA SOLICITADO",
          "ALIMENTACAO PARA EQUINOS.",
          "MATERIAL DE INTENDÊNCIA",
          "REVITALIZAR O SIST COLEGIO MILITAR DO BRASIL",
          "DIAR - DIARIAS",
          "DIARIAS",
          "CONCESSIONÁRIAS DE ÁGUA E ESGOTO",
          "UNIDADE GESTORA DE PRODUCAO",
          "MNT SUP EQP ENG CNST",
          "SERVICO POSTAIS",
          "FUSEX - ENCAMINHAMENTO DE CONSULTAS.",
          "MNT DE MÁQ E EQP ADMINISTRATIVOS",
          "PROFISSIONAL DE SAUDE AUTONOMO",
          "APOIO AS SIP/RM",
          "MIS EXT REQS TRNP BAG INTER",
          "TRANSPORTE-DIARIAS",
          "MANUTENCAO DE MAQUINAS E EQUIP ADMINISTRATIVO",
          "REMONTA E VETERINÁRIA",
          "SERVICO DE TELEFONIA FIXA",
          "SISTEMA DE GESTÃO DA QUALIDADE",
          "LOG VTR BLD SOB GESTÃO DA REGIÃO MILITAR",
          "LAVAGEM DE ROUPAS PARA A VIDA VEGETATIVA OM",
          "ADMINISTRACAO DE OM",
          "INFORMATICA",
          "SERVICO DE TELEFONIA MOVEL",
          "APOIO A MANUTENCAO DE PNR",
          "DSLC A SV DIVERSOS A CARGO DO GAB",
          "SMEM ESTABELECIMENTOS DE ENSINO",
          "SERVICOS DE PROTECAO A RADIACAO IONIZANTE",
          "SUP MAT E EQUIPAMENTOS ADMINISTRATIVOS",
          "DSLC A SV PREP ADM MIS EXT",
          "SUPRIMENTO E MANUTENCAO MOTOMECANIZACAO_BLIND"
         ],
         "xaxis": "x",
         "y": [
          4359002.66,
          1334128.1300000001,
          559984.56,
          398897,
          361615.16000000003,
          175941.4,
          169887.28,
          64386.76,
          64089.14,
          62754.71,
          50543.67,
          50000,
          47704.8,
          37887.72,
          30215.64,
          29668.74,
          28886.4,
          27045.829999999998,
          26380.29,
          26069,
          24522.48,
          22070.18,
          21738.8,
          18473.99,
          13521.46,
          13374.55,
          13333.33,
          12650,
          11344.79,
          7504.7,
          7002,
          6828.61,
          3732.12,
          3025,
          2929,
          2410.37,
          1551.4,
          995,
          946.98,
          697.2,
          615,
          537.73,
          0.56
         ],
         "yaxis": "y"
        }
       ],
       "layout": {
        "barmode": "relative",
        "coloraxis": {
         "colorbar": {
          "title": {
           "text": "Saldo a liquidar"
          }
         },
         "colorscale": [
          [
           0,
           "rgb(255,245,240)"
          ],
          [
           0.125,
           "rgb(254,224,210)"
          ],
          [
           0.25,
           "rgb(252,187,161)"
          ],
          [
           0.375,
           "rgb(252,146,114)"
          ],
          [
           0.5,
           "rgb(251,106,74)"
          ],
          [
           0.625,
           "rgb(239,59,44)"
          ],
          [
           0.75,
           "rgb(203,24,29)"
          ],
          [
           0.875,
           "rgb(165,15,21)"
          ],
          [
           1,
           "rgb(103,0,13)"
          ]
         ]
        },
        "height": 800,
        "hovermode": "x unified",
        "legend": {
         "tracegroupgap": 0
        },
        "template": {
         "data": {
          "bar": [
           {
            "error_x": {
             "color": "#f2f5fa"
            },
            "error_y": {
             "color": "#f2f5fa"
            },
            "marker": {
             "line": {
              "color": "rgb(17,17,17)",
              "width": 0.5
             },
             "pattern": {
              "fillmode": "overlay",
              "size": 10,
              "solidity": 0.2
             }
            },
            "type": "bar"
           }
          ],
          "barpolar": [
           {
            "marker": {
             "line": {
              "color": "rgb(17,17,17)",
              "width": 0.5
             },
             "pattern": {
              "fillmode": "overlay",
              "size": 10,
              "solidity": 0.2
             }
            },
            "type": "barpolar"
           }
          ],
          "carpet": [
           {
            "aaxis": {
             "endlinecolor": "#A2B1C6",
             "gridcolor": "#506784",
             "linecolor": "#506784",
             "minorgridcolor": "#506784",
             "startlinecolor": "#A2B1C6"
            },
            "baxis": {
             "endlinecolor": "#A2B1C6",
             "gridcolor": "#506784",
             "linecolor": "#506784",
             "minorgridcolor": "#506784",
             "startlinecolor": "#A2B1C6"
            },
            "type": "carpet"
           }
          ],
          "choropleth": [
           {
            "colorbar": {
             "outlinewidth": 0,
             "ticks": ""
            },
            "type": "choropleth"
           }
          ],
          "contour": [
           {
            "colorbar": {
             "outlinewidth": 0,
             "ticks": ""
            },
            "colorscale": [
             [
              0,
              "#0d0887"
             ],
             [
              0.1111111111111111,
              "#46039f"
             ],
             [
              0.2222222222222222,
              "#7201a8"
             ],
             [
              0.3333333333333333,
              "#9c179e"
             ],
             [
              0.4444444444444444,
              "#bd3786"
             ],
             [
              0.5555555555555556,
              "#d8576b"
             ],
             [
              0.6666666666666666,
              "#ed7953"
             ],
             [
              0.7777777777777778,
              "#fb9f3a"
             ],
             [
              0.8888888888888888,
              "#fdca26"
             ],
             [
              1,
              "#f0f921"
             ]
            ],
            "type": "contour"
           }
          ],
          "contourcarpet": [
           {
            "colorbar": {
             "outlinewidth": 0,
             "ticks": ""
            },
            "type": "contourcarpet"
           }
          ],
          "heatmap": [
           {
            "colorbar": {
             "outlinewidth": 0,
             "ticks": ""
            },
            "colorscale": [
             [
              0,
              "#0d0887"
             ],
             [
              0.1111111111111111,
              "#46039f"
             ],
             [
              0.2222222222222222,
              "#7201a8"
             ],
             [
              0.3333333333333333,
              "#9c179e"
             ],
             [
              0.4444444444444444,
              "#bd3786"
             ],
             [
              0.5555555555555556,
              "#d8576b"
             ],
             [
              0.6666666666666666,
              "#ed7953"
             ],
             [
              0.7777777777777778,
              "#fb9f3a"
             ],
             [
              0.8888888888888888,
              "#fdca26"
             ],
             [
              1,
              "#f0f921"
             ]
            ],
            "type": "heatmap"
           }
          ],
          "heatmapgl": [
           {
            "colorbar": {
             "outlinewidth": 0,
             "ticks": ""
            },
            "colorscale": [
             [
              0,
              "#0d0887"
             ],
             [
              0.1111111111111111,
              "#46039f"
             ],
             [
              0.2222222222222222,
              "#7201a8"
             ],
             [
              0.3333333333333333,
              "#9c179e"
             ],
             [
              0.4444444444444444,
              "#bd3786"
             ],
             [
              0.5555555555555556,
              "#d8576b"
             ],
             [
              0.6666666666666666,
              "#ed7953"
             ],
             [
              0.7777777777777778,
              "#fb9f3a"
             ],
             [
              0.8888888888888888,
              "#fdca26"
             ],
             [
              1,
              "#f0f921"
             ]
            ],
            "type": "heatmapgl"
           }
          ],
          "histogram": [
           {
            "marker": {
             "pattern": {
              "fillmode": "overlay",
              "size": 10,
              "solidity": 0.2
             }
            },
            "type": "histogram"
           }
          ],
          "histogram2d": [
           {
            "colorbar": {
             "outlinewidth": 0,
             "ticks": ""
            },
            "colorscale": [
             [
              0,
              "#0d0887"
             ],
             [
              0.1111111111111111,
              "#46039f"
             ],
             [
              0.2222222222222222,
              "#7201a8"
             ],
             [
              0.3333333333333333,
              "#9c179e"
             ],
             [
              0.4444444444444444,
              "#bd3786"
             ],
             [
              0.5555555555555556,
              "#d8576b"
             ],
             [
              0.6666666666666666,
              "#ed7953"
             ],
             [
              0.7777777777777778,
              "#fb9f3a"
             ],
             [
              0.8888888888888888,
              "#fdca26"
             ],
             [
              1,
              "#f0f921"
             ]
            ],
            "type": "histogram2d"
           }
          ],
          "histogram2dcontour": [
           {
            "colorbar": {
             "outlinewidth": 0,
             "ticks": ""
            },
            "colorscale": [
             [
              0,
              "#0d0887"
             ],
             [
              0.1111111111111111,
              "#46039f"
             ],
             [
              0.2222222222222222,
              "#7201a8"
             ],
             [
              0.3333333333333333,
              "#9c179e"
             ],
             [
              0.4444444444444444,
              "#bd3786"
             ],
             [
              0.5555555555555556,
              "#d8576b"
             ],
             [
              0.6666666666666666,
              "#ed7953"
             ],
             [
              0.7777777777777778,
              "#fb9f3a"
             ],
             [
              0.8888888888888888,
              "#fdca26"
             ],
             [
              1,
              "#f0f921"
             ]
            ],
            "type": "histogram2dcontour"
           }
          ],
          "mesh3d": [
           {
            "colorbar": {
             "outlinewidth": 0,
             "ticks": ""
            },
            "type": "mesh3d"
           }
          ],
          "parcoords": [
           {
            "line": {
             "colorbar": {
              "outlinewidth": 0,
              "ticks": ""
             }
            },
            "type": "parcoords"
           }
          ],
          "pie": [
           {
            "automargin": true,
            "type": "pie"
           }
          ],
          "scatter": [
           {
            "marker": {
             "line": {
              "color": "#283442"
             }
            },
            "type": "scatter"
           }
          ],
          "scatter3d": [
           {
            "line": {
             "colorbar": {
              "outlinewidth": 0,
              "ticks": ""
             }
            },
            "marker": {
             "colorbar": {
              "outlinewidth": 0,
              "ticks": ""
             }
            },
            "type": "scatter3d"
           }
          ],
          "scattercarpet": [
           {
            "marker": {
             "colorbar": {
              "outlinewidth": 0,
              "ticks": ""
             }
            },
            "type": "scattercarpet"
           }
          ],
          "scattergeo": [
           {
            "marker": {
             "colorbar": {
              "outlinewidth": 0,
              "ticks": ""
             }
            },
            "type": "scattergeo"
           }
          ],
          "scattergl": [
           {
            "marker": {
             "line": {
              "color": "#283442"
             }
            },
            "type": "scattergl"
           }
          ],
          "scattermapbox": [
           {
            "marker": {
             "colorbar": {
              "outlinewidth": 0,
              "ticks": ""
             }
            },
            "type": "scattermapbox"
           }
          ],
          "scatterpolar": [
           {
            "marker": {
             "colorbar": {
              "outlinewidth": 0,
              "ticks": ""
             }
            },
            "type": "scatterpolar"
           }
          ],
          "scatterpolargl": [
           {
            "marker": {
             "colorbar": {
              "outlinewidth": 0,
              "ticks": ""
             }
            },
            "type": "scatterpolargl"
           }
          ],
          "scatterternary": [
           {
            "marker": {
             "colorbar": {
              "outlinewidth": 0,
              "ticks": ""
             }
            },
            "type": "scatterternary"
           }
          ],
          "surface": [
           {
            "colorbar": {
             "outlinewidth": 0,
             "ticks": ""
            },
            "colorscale": [
             [
              0,
              "#0d0887"
             ],
             [
              0.1111111111111111,
              "#46039f"
             ],
             [
              0.2222222222222222,
              "#7201a8"
             ],
             [
              0.3333333333333333,
              "#9c179e"
             ],
             [
              0.4444444444444444,
              "#bd3786"
             ],
             [
              0.5555555555555556,
              "#d8576b"
             ],
             [
              0.6666666666666666,
              "#ed7953"
             ],
             [
              0.7777777777777778,
              "#fb9f3a"
             ],
             [
              0.8888888888888888,
              "#fdca26"
             ],
             [
              1,
              "#f0f921"
             ]
            ],
            "type": "surface"
           }
          ],
          "table": [
           {
            "cells": {
             "fill": {
              "color": "#506784"
             },
             "line": {
              "color": "rgb(17,17,17)"
             }
            },
            "header": {
             "fill": {
              "color": "#2a3f5f"
             },
             "line": {
              "color": "rgb(17,17,17)"
             }
            },
            "type": "table"
           }
          ]
         },
         "layout": {
          "annotationdefaults": {
           "arrowcolor": "#f2f5fa",
           "arrowhead": 0,
           "arrowwidth": 1
          },
          "autotypenumbers": "strict",
          "coloraxis": {
           "colorbar": {
            "outlinewidth": 0,
            "ticks": ""
           }
          },
          "colorscale": {
           "diverging": [
            [
             0,
             "#8e0152"
            ],
            [
             0.1,
             "#c51b7d"
            ],
            [
             0.2,
             "#de77ae"
            ],
            [
             0.3,
             "#f1b6da"
            ],
            [
             0.4,
             "#fde0ef"
            ],
            [
             0.5,
             "#f7f7f7"
            ],
            [
             0.6,
             "#e6f5d0"
            ],
            [
             0.7,
             "#b8e186"
            ],
            [
             0.8,
             "#7fbc41"
            ],
            [
             0.9,
             "#4d9221"
            ],
            [
             1,
             "#276419"
            ]
           ],
           "sequential": [
            [
             0,
             "#0d0887"
            ],
            [
             0.1111111111111111,
             "#46039f"
            ],
            [
             0.2222222222222222,
             "#7201a8"
            ],
            [
             0.3333333333333333,
             "#9c179e"
            ],
            [
             0.4444444444444444,
             "#bd3786"
            ],
            [
             0.5555555555555556,
             "#d8576b"
            ],
            [
             0.6666666666666666,
             "#ed7953"
            ],
            [
             0.7777777777777778,
             "#fb9f3a"
            ],
            [
             0.8888888888888888,
             "#fdca26"
            ],
            [
             1,
             "#f0f921"
            ]
           ],
           "sequentialminus": [
            [
             0,
             "#0d0887"
            ],
            [
             0.1111111111111111,
             "#46039f"
            ],
            [
             0.2222222222222222,
             "#7201a8"
            ],
            [
             0.3333333333333333,
             "#9c179e"
            ],
            [
             0.4444444444444444,
             "#bd3786"
            ],
            [
             0.5555555555555556,
             "#d8576b"
            ],
            [
             0.6666666666666666,
             "#ed7953"
            ],
            [
             0.7777777777777778,
             "#fb9f3a"
            ],
            [
             0.8888888888888888,
             "#fdca26"
            ],
            [
             1,
             "#f0f921"
            ]
           ]
          },
          "colorway": [
           "#636efa",
           "#EF553B",
           "#00cc96",
           "#ab63fa",
           "#FFA15A",
           "#19d3f3",
           "#FF6692",
           "#B6E880",
           "#FF97FF",
           "#FECB52"
          ],
          "font": {
           "color": "#f2f5fa"
          },
          "geo": {
           "bgcolor": "rgb(17,17,17)",
           "lakecolor": "rgb(17,17,17)",
           "landcolor": "rgb(17,17,17)",
           "showlakes": true,
           "showland": true,
           "subunitcolor": "#506784"
          },
          "hoverlabel": {
           "align": "left"
          },
          "hovermode": "closest",
          "mapbox": {
           "style": "dark"
          },
          "paper_bgcolor": "rgb(17,17,17)",
          "plot_bgcolor": "rgb(17,17,17)",
          "polar": {
           "angularaxis": {
            "gridcolor": "#506784",
            "linecolor": "#506784",
            "ticks": ""
           },
           "bgcolor": "rgb(17,17,17)",
           "radialaxis": {
            "gridcolor": "#506784",
            "linecolor": "#506784",
            "ticks": ""
           }
          },
          "scene": {
           "xaxis": {
            "backgroundcolor": "rgb(17,17,17)",
            "gridcolor": "#506784",
            "gridwidth": 2,
            "linecolor": "#506784",
            "showbackground": true,
            "ticks": "",
            "zerolinecolor": "#C8D4E3"
           },
           "yaxis": {
            "backgroundcolor": "rgb(17,17,17)",
            "gridcolor": "#506784",
            "gridwidth": 2,
            "linecolor": "#506784",
            "showbackground": true,
            "ticks": "",
            "zerolinecolor": "#C8D4E3"
           },
           "zaxis": {
            "backgroundcolor": "rgb(17,17,17)",
            "gridcolor": "#506784",
            "gridwidth": 2,
            "linecolor": "#506784",
            "showbackground": true,
            "ticks": "",
            "zerolinecolor": "#C8D4E3"
           }
          },
          "shapedefaults": {
           "line": {
            "color": "#f2f5fa"
           }
          },
          "sliderdefaults": {
           "bgcolor": "#C8D4E3",
           "bordercolor": "rgb(17,17,17)",
           "borderwidth": 1,
           "tickwidth": 0
          },
          "ternary": {
           "aaxis": {
            "gridcolor": "#506784",
            "linecolor": "#506784",
            "ticks": ""
           },
           "baxis": {
            "gridcolor": "#506784",
            "linecolor": "#506784",
            "ticks": ""
           },
           "bgcolor": "rgb(17,17,17)",
           "caxis": {
            "gridcolor": "#506784",
            "linecolor": "#506784",
            "ticks": ""
           }
          },
          "title": {
           "x": 0.05
          },
          "updatemenudefaults": {
           "bgcolor": "#506784",
           "borderwidth": 0
          },
          "xaxis": {
           "automargin": true,
           "gridcolor": "#283442",
           "linecolor": "#506784",
           "ticks": "",
           "title": {
            "standoff": 15
           },
           "zerolinecolor": "#283442",
           "zerolinewidth": 2
          },
          "yaxis": {
           "automargin": true,
           "gridcolor": "#283442",
           "linecolor": "#506784",
           "ticks": "",
           "title": {
            "standoff": 15
           },
           "zerolinecolor": "#283442",
           "zerolinewidth": 2
          }
         }
        },
        "title": {
         "text": "Saldo a liquidar por PI"
        },
        "xaxis": {
         "anchor": "y",
         "domain": [
          0,
          1
         ],
         "title": {
          "text": "Tipo de PI"
         }
        },
        "yaxis": {
         "anchor": "x",
         "domain": [
          0,
          1
         ],
         "title": {
          "text": "Saldo a liquidar"
         },
         "type": "log"
        }
       }
      }
     },
     "metadata": {},
     "output_type": "display_data"
    }
   ],
   "source": [
    "# Saldo a liquidar por tipo de PI\n",
    "cols = ['NOME_PI', 'A_LIQUIDAR']\n",
    "\n",
    "df_aux = df.loc[:, cols].groupby('NOME_PI').sum().sort_values(by= 'A_LIQUIDAR', ascending=False).reset_index()\n",
    "df_aux = df_aux[df_aux['A_LIQUIDAR'] > 0]\n",
    "fig = px.bar(df_aux, \n",
    "             x='NOME_PI', \n",
    "             y='A_LIQUIDAR',\n",
    "             title='Saldo a liquidar por PI',\n",
    "             labels={'NOME_PI':'Tipo de PI', 'A_LIQUIDAR':'Saldo a liquidar'},\n",
    "             text_auto='.3s',\n",
    "             height=800,\n",
    "             log_y=True,\n",
    "             color='A_LIQUIDAR',\n",
    "             color_continuous_scale = 'reds',\n",
    "             template='plotly_dark')\n",
    "fig.update_traces(textposition = 'outside', cliponaxis = False, hovertemplate=None)\n",
    "fig.update_layout(hovermode=\"x unified\")\n",
    "\n",
    "fig.show()"
   ]
  },
  {
   "cell_type": "code",
   "execution_count": 10,
   "metadata": {},
   "outputs": [
    {
     "data": {
      "application/vnd.plotly.v1+json": {
       "config": {
        "plotlyServerURL": "https://plot.ly"
       },
       "data": [
        {
         "alignmentgroup": "True",
         "cliponaxis": false,
         "legendgroup": "",
         "marker": {
          "color": [
           7191940.4799999995,
           902953.66
          ],
          "coloraxis": "coloraxis",
          "pattern": {
           "shape": ""
          }
         },
         "name": "",
         "offsetgroup": "",
         "orientation": "v",
         "showlegend": false,
         "textposition": "outside",
         "texttemplate": "%{y:.3s}",
         "type": "bar",
         "x": [
          "RPNP",
          "ANO"
         ],
         "xaxis": "x",
         "y": [
          7191940.4799999995,
          902953.66
         ],
         "yaxis": "y"
        }
       ],
       "layout": {
        "barmode": "relative",
        "coloraxis": {
         "colorbar": {
          "title": {
           "text": "Saldo a liquidar"
          }
         },
         "colorscale": [
          [
           0,
           "rgb(255,245,240)"
          ],
          [
           0.125,
           "rgb(254,224,210)"
          ],
          [
           0.25,
           "rgb(252,187,161)"
          ],
          [
           0.375,
           "rgb(252,146,114)"
          ],
          [
           0.5,
           "rgb(251,106,74)"
          ],
          [
           0.625,
           "rgb(239,59,44)"
          ],
          [
           0.75,
           "rgb(203,24,29)"
          ],
          [
           0.875,
           "rgb(165,15,21)"
          ],
          [
           1,
           "rgb(103,0,13)"
          ]
         ]
        },
        "height": 400,
        "hovermode": "x unified",
        "legend": {
         "tracegroupgap": 0
        },
        "template": {
         "data": {
          "bar": [
           {
            "error_x": {
             "color": "#f2f5fa"
            },
            "error_y": {
             "color": "#f2f5fa"
            },
            "marker": {
             "line": {
              "color": "rgb(17,17,17)",
              "width": 0.5
             },
             "pattern": {
              "fillmode": "overlay",
              "size": 10,
              "solidity": 0.2
             }
            },
            "type": "bar"
           }
          ],
          "barpolar": [
           {
            "marker": {
             "line": {
              "color": "rgb(17,17,17)",
              "width": 0.5
             },
             "pattern": {
              "fillmode": "overlay",
              "size": 10,
              "solidity": 0.2
             }
            },
            "type": "barpolar"
           }
          ],
          "carpet": [
           {
            "aaxis": {
             "endlinecolor": "#A2B1C6",
             "gridcolor": "#506784",
             "linecolor": "#506784",
             "minorgridcolor": "#506784",
             "startlinecolor": "#A2B1C6"
            },
            "baxis": {
             "endlinecolor": "#A2B1C6",
             "gridcolor": "#506784",
             "linecolor": "#506784",
             "minorgridcolor": "#506784",
             "startlinecolor": "#A2B1C6"
            },
            "type": "carpet"
           }
          ],
          "choropleth": [
           {
            "colorbar": {
             "outlinewidth": 0,
             "ticks": ""
            },
            "type": "choropleth"
           }
          ],
          "contour": [
           {
            "colorbar": {
             "outlinewidth": 0,
             "ticks": ""
            },
            "colorscale": [
             [
              0,
              "#0d0887"
             ],
             [
              0.1111111111111111,
              "#46039f"
             ],
             [
              0.2222222222222222,
              "#7201a8"
             ],
             [
              0.3333333333333333,
              "#9c179e"
             ],
             [
              0.4444444444444444,
              "#bd3786"
             ],
             [
              0.5555555555555556,
              "#d8576b"
             ],
             [
              0.6666666666666666,
              "#ed7953"
             ],
             [
              0.7777777777777778,
              "#fb9f3a"
             ],
             [
              0.8888888888888888,
              "#fdca26"
             ],
             [
              1,
              "#f0f921"
             ]
            ],
            "type": "contour"
           }
          ],
          "contourcarpet": [
           {
            "colorbar": {
             "outlinewidth": 0,
             "ticks": ""
            },
            "type": "contourcarpet"
           }
          ],
          "heatmap": [
           {
            "colorbar": {
             "outlinewidth": 0,
             "ticks": ""
            },
            "colorscale": [
             [
              0,
              "#0d0887"
             ],
             [
              0.1111111111111111,
              "#46039f"
             ],
             [
              0.2222222222222222,
              "#7201a8"
             ],
             [
              0.3333333333333333,
              "#9c179e"
             ],
             [
              0.4444444444444444,
              "#bd3786"
             ],
             [
              0.5555555555555556,
              "#d8576b"
             ],
             [
              0.6666666666666666,
              "#ed7953"
             ],
             [
              0.7777777777777778,
              "#fb9f3a"
             ],
             [
              0.8888888888888888,
              "#fdca26"
             ],
             [
              1,
              "#f0f921"
             ]
            ],
            "type": "heatmap"
           }
          ],
          "heatmapgl": [
           {
            "colorbar": {
             "outlinewidth": 0,
             "ticks": ""
            },
            "colorscale": [
             [
              0,
              "#0d0887"
             ],
             [
              0.1111111111111111,
              "#46039f"
             ],
             [
              0.2222222222222222,
              "#7201a8"
             ],
             [
              0.3333333333333333,
              "#9c179e"
             ],
             [
              0.4444444444444444,
              "#bd3786"
             ],
             [
              0.5555555555555556,
              "#d8576b"
             ],
             [
              0.6666666666666666,
              "#ed7953"
             ],
             [
              0.7777777777777778,
              "#fb9f3a"
             ],
             [
              0.8888888888888888,
              "#fdca26"
             ],
             [
              1,
              "#f0f921"
             ]
            ],
            "type": "heatmapgl"
           }
          ],
          "histogram": [
           {
            "marker": {
             "pattern": {
              "fillmode": "overlay",
              "size": 10,
              "solidity": 0.2
             }
            },
            "type": "histogram"
           }
          ],
          "histogram2d": [
           {
            "colorbar": {
             "outlinewidth": 0,
             "ticks": ""
            },
            "colorscale": [
             [
              0,
              "#0d0887"
             ],
             [
              0.1111111111111111,
              "#46039f"
             ],
             [
              0.2222222222222222,
              "#7201a8"
             ],
             [
              0.3333333333333333,
              "#9c179e"
             ],
             [
              0.4444444444444444,
              "#bd3786"
             ],
             [
              0.5555555555555556,
              "#d8576b"
             ],
             [
              0.6666666666666666,
              "#ed7953"
             ],
             [
              0.7777777777777778,
              "#fb9f3a"
             ],
             [
              0.8888888888888888,
              "#fdca26"
             ],
             [
              1,
              "#f0f921"
             ]
            ],
            "type": "histogram2d"
           }
          ],
          "histogram2dcontour": [
           {
            "colorbar": {
             "outlinewidth": 0,
             "ticks": ""
            },
            "colorscale": [
             [
              0,
              "#0d0887"
             ],
             [
              0.1111111111111111,
              "#46039f"
             ],
             [
              0.2222222222222222,
              "#7201a8"
             ],
             [
              0.3333333333333333,
              "#9c179e"
             ],
             [
              0.4444444444444444,
              "#bd3786"
             ],
             [
              0.5555555555555556,
              "#d8576b"
             ],
             [
              0.6666666666666666,
              "#ed7953"
             ],
             [
              0.7777777777777778,
              "#fb9f3a"
             ],
             [
              0.8888888888888888,
              "#fdca26"
             ],
             [
              1,
              "#f0f921"
             ]
            ],
            "type": "histogram2dcontour"
           }
          ],
          "mesh3d": [
           {
            "colorbar": {
             "outlinewidth": 0,
             "ticks": ""
            },
            "type": "mesh3d"
           }
          ],
          "parcoords": [
           {
            "line": {
             "colorbar": {
              "outlinewidth": 0,
              "ticks": ""
             }
            },
            "type": "parcoords"
           }
          ],
          "pie": [
           {
            "automargin": true,
            "type": "pie"
           }
          ],
          "scatter": [
           {
            "marker": {
             "line": {
              "color": "#283442"
             }
            },
            "type": "scatter"
           }
          ],
          "scatter3d": [
           {
            "line": {
             "colorbar": {
              "outlinewidth": 0,
              "ticks": ""
             }
            },
            "marker": {
             "colorbar": {
              "outlinewidth": 0,
              "ticks": ""
             }
            },
            "type": "scatter3d"
           }
          ],
          "scattercarpet": [
           {
            "marker": {
             "colorbar": {
              "outlinewidth": 0,
              "ticks": ""
             }
            },
            "type": "scattercarpet"
           }
          ],
          "scattergeo": [
           {
            "marker": {
             "colorbar": {
              "outlinewidth": 0,
              "ticks": ""
             }
            },
            "type": "scattergeo"
           }
          ],
          "scattergl": [
           {
            "marker": {
             "line": {
              "color": "#283442"
             }
            },
            "type": "scattergl"
           }
          ],
          "scattermapbox": [
           {
            "marker": {
             "colorbar": {
              "outlinewidth": 0,
              "ticks": ""
             }
            },
            "type": "scattermapbox"
           }
          ],
          "scatterpolar": [
           {
            "marker": {
             "colorbar": {
              "outlinewidth": 0,
              "ticks": ""
             }
            },
            "type": "scatterpolar"
           }
          ],
          "scatterpolargl": [
           {
            "marker": {
             "colorbar": {
              "outlinewidth": 0,
              "ticks": ""
             }
            },
            "type": "scatterpolargl"
           }
          ],
          "scatterternary": [
           {
            "marker": {
             "colorbar": {
              "outlinewidth": 0,
              "ticks": ""
             }
            },
            "type": "scatterternary"
           }
          ],
          "surface": [
           {
            "colorbar": {
             "outlinewidth": 0,
             "ticks": ""
            },
            "colorscale": [
             [
              0,
              "#0d0887"
             ],
             [
              0.1111111111111111,
              "#46039f"
             ],
             [
              0.2222222222222222,
              "#7201a8"
             ],
             [
              0.3333333333333333,
              "#9c179e"
             ],
             [
              0.4444444444444444,
              "#bd3786"
             ],
             [
              0.5555555555555556,
              "#d8576b"
             ],
             [
              0.6666666666666666,
              "#ed7953"
             ],
             [
              0.7777777777777778,
              "#fb9f3a"
             ],
             [
              0.8888888888888888,
              "#fdca26"
             ],
             [
              1,
              "#f0f921"
             ]
            ],
            "type": "surface"
           }
          ],
          "table": [
           {
            "cells": {
             "fill": {
              "color": "#506784"
             },
             "line": {
              "color": "rgb(17,17,17)"
             }
            },
            "header": {
             "fill": {
              "color": "#2a3f5f"
             },
             "line": {
              "color": "rgb(17,17,17)"
             }
            },
            "type": "table"
           }
          ]
         },
         "layout": {
          "annotationdefaults": {
           "arrowcolor": "#f2f5fa",
           "arrowhead": 0,
           "arrowwidth": 1
          },
          "autotypenumbers": "strict",
          "coloraxis": {
           "colorbar": {
            "outlinewidth": 0,
            "ticks": ""
           }
          },
          "colorscale": {
           "diverging": [
            [
             0,
             "#8e0152"
            ],
            [
             0.1,
             "#c51b7d"
            ],
            [
             0.2,
             "#de77ae"
            ],
            [
             0.3,
             "#f1b6da"
            ],
            [
             0.4,
             "#fde0ef"
            ],
            [
             0.5,
             "#f7f7f7"
            ],
            [
             0.6,
             "#e6f5d0"
            ],
            [
             0.7,
             "#b8e186"
            ],
            [
             0.8,
             "#7fbc41"
            ],
            [
             0.9,
             "#4d9221"
            ],
            [
             1,
             "#276419"
            ]
           ],
           "sequential": [
            [
             0,
             "#0d0887"
            ],
            [
             0.1111111111111111,
             "#46039f"
            ],
            [
             0.2222222222222222,
             "#7201a8"
            ],
            [
             0.3333333333333333,
             "#9c179e"
            ],
            [
             0.4444444444444444,
             "#bd3786"
            ],
            [
             0.5555555555555556,
             "#d8576b"
            ],
            [
             0.6666666666666666,
             "#ed7953"
            ],
            [
             0.7777777777777778,
             "#fb9f3a"
            ],
            [
             0.8888888888888888,
             "#fdca26"
            ],
            [
             1,
             "#f0f921"
            ]
           ],
           "sequentialminus": [
            [
             0,
             "#0d0887"
            ],
            [
             0.1111111111111111,
             "#46039f"
            ],
            [
             0.2222222222222222,
             "#7201a8"
            ],
            [
             0.3333333333333333,
             "#9c179e"
            ],
            [
             0.4444444444444444,
             "#bd3786"
            ],
            [
             0.5555555555555556,
             "#d8576b"
            ],
            [
             0.6666666666666666,
             "#ed7953"
            ],
            [
             0.7777777777777778,
             "#fb9f3a"
            ],
            [
             0.8888888888888888,
             "#fdca26"
            ],
            [
             1,
             "#f0f921"
            ]
           ]
          },
          "colorway": [
           "#636efa",
           "#EF553B",
           "#00cc96",
           "#ab63fa",
           "#FFA15A",
           "#19d3f3",
           "#FF6692",
           "#B6E880",
           "#FF97FF",
           "#FECB52"
          ],
          "font": {
           "color": "#f2f5fa"
          },
          "geo": {
           "bgcolor": "rgb(17,17,17)",
           "lakecolor": "rgb(17,17,17)",
           "landcolor": "rgb(17,17,17)",
           "showlakes": true,
           "showland": true,
           "subunitcolor": "#506784"
          },
          "hoverlabel": {
           "align": "left"
          },
          "hovermode": "closest",
          "mapbox": {
           "style": "dark"
          },
          "paper_bgcolor": "rgb(17,17,17)",
          "plot_bgcolor": "rgb(17,17,17)",
          "polar": {
           "angularaxis": {
            "gridcolor": "#506784",
            "linecolor": "#506784",
            "ticks": ""
           },
           "bgcolor": "rgb(17,17,17)",
           "radialaxis": {
            "gridcolor": "#506784",
            "linecolor": "#506784",
            "ticks": ""
           }
          },
          "scene": {
           "xaxis": {
            "backgroundcolor": "rgb(17,17,17)",
            "gridcolor": "#506784",
            "gridwidth": 2,
            "linecolor": "#506784",
            "showbackground": true,
            "ticks": "",
            "zerolinecolor": "#C8D4E3"
           },
           "yaxis": {
            "backgroundcolor": "rgb(17,17,17)",
            "gridcolor": "#506784",
            "gridwidth": 2,
            "linecolor": "#506784",
            "showbackground": true,
            "ticks": "",
            "zerolinecolor": "#C8D4E3"
           },
           "zaxis": {
            "backgroundcolor": "rgb(17,17,17)",
            "gridcolor": "#506784",
            "gridwidth": 2,
            "linecolor": "#506784",
            "showbackground": true,
            "ticks": "",
            "zerolinecolor": "#C8D4E3"
           }
          },
          "shapedefaults": {
           "line": {
            "color": "#f2f5fa"
           }
          },
          "sliderdefaults": {
           "bgcolor": "#C8D4E3",
           "bordercolor": "rgb(17,17,17)",
           "borderwidth": 1,
           "tickwidth": 0
          },
          "ternary": {
           "aaxis": {
            "gridcolor": "#506784",
            "linecolor": "#506784",
            "ticks": ""
           },
           "baxis": {
            "gridcolor": "#506784",
            "linecolor": "#506784",
            "ticks": ""
           },
           "bgcolor": "rgb(17,17,17)",
           "caxis": {
            "gridcolor": "#506784",
            "linecolor": "#506784",
            "ticks": ""
           }
          },
          "title": {
           "x": 0.05
          },
          "updatemenudefaults": {
           "bgcolor": "#506784",
           "borderwidth": 0
          },
          "xaxis": {
           "automargin": true,
           "gridcolor": "#283442",
           "linecolor": "#506784",
           "ticks": "",
           "title": {
            "standoff": 15
           },
           "zerolinecolor": "#283442",
           "zerolinewidth": 2
          },
          "yaxis": {
           "automargin": true,
           "gridcolor": "#283442",
           "linecolor": "#506784",
           "ticks": "",
           "title": {
            "standoff": 15
           },
           "zerolinecolor": "#283442",
           "zerolinewidth": 2
          }
         }
        },
        "title": {
         "text": "Saldo a liquidar por tipo de empenho"
        },
        "xaxis": {
         "anchor": "y",
         "domain": [
          0,
          1
         ],
         "title": {
          "text": "Tipo de Empenho"
         }
        },
        "yaxis": {
         "anchor": "x",
         "domain": [
          0,
          1
         ],
         "title": {
          "text": "Saldo a liquidar"
         },
         "type": "log"
        }
       }
      }
     },
     "metadata": {},
     "output_type": "display_data"
    }
   ],
   "source": [
    "# Saldo a liquidar por tipo de Empenho\n",
    "cols = ['TIPO', 'A_LIQUIDAR']\n",
    "\n",
    "df_aux = df.loc[:, cols].groupby('TIPO').sum().sort_values(by= 'A_LIQUIDAR', ascending=False).reset_index()\n",
    "df_aux = df_aux[df_aux['A_LIQUIDAR'] > 0]\n",
    "fig = px.bar(df_aux, \n",
    "             x='TIPO', \n",
    "             y='A_LIQUIDAR',\n",
    "             title='Saldo a liquidar por tipo de empenho',\n",
    "             labels={'TIPO':'Tipo de Empenho', 'A_LIQUIDAR':'Saldo a liquidar'},\n",
    "             text_auto='.3s',\n",
    "             height=400,\n",
    "             log_y=True,\n",
    "             color='A_LIQUIDAR',\n",
    "             color_continuous_scale = 'reds',\n",
    "             template='plotly_dark')\n",
    "fig.update_traces(textposition = 'outside', cliponaxis = False, hovertemplate=None)\n",
    "fig.update_layout(hovermode=\"x unified\")\n",
    "\n",
    "fig.show()"
   ]
  },
  {
   "cell_type": "code",
   "execution_count": 11,
   "metadata": {},
   "outputs": [
    {
     "data": {
      "application/vnd.plotly.v1+json": {
       "config": {
        "plotlyServerURL": "https://plot.ly"
       },
       "data": [
        {
         "alignmentgroup": "True",
         "cliponaxis": false,
         "legendgroup": "",
         "marker": {
          "color": [
           7183910.27,
           902953.66,
           8030.21
          ],
          "coloraxis": "coloraxis",
          "pattern": {
           "shape": ""
          }
         },
         "name": "",
         "offsetgroup": "",
         "orientation": "v",
         "showlegend": false,
         "textposition": "outside",
         "texttemplate": "%{y:.3s}",
         "type": "bar",
         "x": [
          "2024",
          "2025",
          "2023"
         ],
         "xaxis": "x",
         "y": [
          7183910.27,
          902953.66,
          8030.21
         ],
         "yaxis": "y"
        }
       ],
       "layout": {
        "barmode": "relative",
        "coloraxis": {
         "colorbar": {
          "title": {
           "text": "Saldo a liquidar"
          }
         },
         "colorscale": [
          [
           0,
           "rgb(255,245,240)"
          ],
          [
           0.125,
           "rgb(254,224,210)"
          ],
          [
           0.25,
           "rgb(252,187,161)"
          ],
          [
           0.375,
           "rgb(252,146,114)"
          ],
          [
           0.5,
           "rgb(251,106,74)"
          ],
          [
           0.625,
           "rgb(239,59,44)"
          ],
          [
           0.75,
           "rgb(203,24,29)"
          ],
          [
           0.875,
           "rgb(165,15,21)"
          ],
          [
           1,
           "rgb(103,0,13)"
          ]
         ]
        },
        "height": 400,
        "hovermode": "x unified",
        "legend": {
         "tracegroupgap": 0
        },
        "template": {
         "data": {
          "bar": [
           {
            "error_x": {
             "color": "#f2f5fa"
            },
            "error_y": {
             "color": "#f2f5fa"
            },
            "marker": {
             "line": {
              "color": "rgb(17,17,17)",
              "width": 0.5
             },
             "pattern": {
              "fillmode": "overlay",
              "size": 10,
              "solidity": 0.2
             }
            },
            "type": "bar"
           }
          ],
          "barpolar": [
           {
            "marker": {
             "line": {
              "color": "rgb(17,17,17)",
              "width": 0.5
             },
             "pattern": {
              "fillmode": "overlay",
              "size": 10,
              "solidity": 0.2
             }
            },
            "type": "barpolar"
           }
          ],
          "carpet": [
           {
            "aaxis": {
             "endlinecolor": "#A2B1C6",
             "gridcolor": "#506784",
             "linecolor": "#506784",
             "minorgridcolor": "#506784",
             "startlinecolor": "#A2B1C6"
            },
            "baxis": {
             "endlinecolor": "#A2B1C6",
             "gridcolor": "#506784",
             "linecolor": "#506784",
             "minorgridcolor": "#506784",
             "startlinecolor": "#A2B1C6"
            },
            "type": "carpet"
           }
          ],
          "choropleth": [
           {
            "colorbar": {
             "outlinewidth": 0,
             "ticks": ""
            },
            "type": "choropleth"
           }
          ],
          "contour": [
           {
            "colorbar": {
             "outlinewidth": 0,
             "ticks": ""
            },
            "colorscale": [
             [
              0,
              "#0d0887"
             ],
             [
              0.1111111111111111,
              "#46039f"
             ],
             [
              0.2222222222222222,
              "#7201a8"
             ],
             [
              0.3333333333333333,
              "#9c179e"
             ],
             [
              0.4444444444444444,
              "#bd3786"
             ],
             [
              0.5555555555555556,
              "#d8576b"
             ],
             [
              0.6666666666666666,
              "#ed7953"
             ],
             [
              0.7777777777777778,
              "#fb9f3a"
             ],
             [
              0.8888888888888888,
              "#fdca26"
             ],
             [
              1,
              "#f0f921"
             ]
            ],
            "type": "contour"
           }
          ],
          "contourcarpet": [
           {
            "colorbar": {
             "outlinewidth": 0,
             "ticks": ""
            },
            "type": "contourcarpet"
           }
          ],
          "heatmap": [
           {
            "colorbar": {
             "outlinewidth": 0,
             "ticks": ""
            },
            "colorscale": [
             [
              0,
              "#0d0887"
             ],
             [
              0.1111111111111111,
              "#46039f"
             ],
             [
              0.2222222222222222,
              "#7201a8"
             ],
             [
              0.3333333333333333,
              "#9c179e"
             ],
             [
              0.4444444444444444,
              "#bd3786"
             ],
             [
              0.5555555555555556,
              "#d8576b"
             ],
             [
              0.6666666666666666,
              "#ed7953"
             ],
             [
              0.7777777777777778,
              "#fb9f3a"
             ],
             [
              0.8888888888888888,
              "#fdca26"
             ],
             [
              1,
              "#f0f921"
             ]
            ],
            "type": "heatmap"
           }
          ],
          "heatmapgl": [
           {
            "colorbar": {
             "outlinewidth": 0,
             "ticks": ""
            },
            "colorscale": [
             [
              0,
              "#0d0887"
             ],
             [
              0.1111111111111111,
              "#46039f"
             ],
             [
              0.2222222222222222,
              "#7201a8"
             ],
             [
              0.3333333333333333,
              "#9c179e"
             ],
             [
              0.4444444444444444,
              "#bd3786"
             ],
             [
              0.5555555555555556,
              "#d8576b"
             ],
             [
              0.6666666666666666,
              "#ed7953"
             ],
             [
              0.7777777777777778,
              "#fb9f3a"
             ],
             [
              0.8888888888888888,
              "#fdca26"
             ],
             [
              1,
              "#f0f921"
             ]
            ],
            "type": "heatmapgl"
           }
          ],
          "histogram": [
           {
            "marker": {
             "pattern": {
              "fillmode": "overlay",
              "size": 10,
              "solidity": 0.2
             }
            },
            "type": "histogram"
           }
          ],
          "histogram2d": [
           {
            "colorbar": {
             "outlinewidth": 0,
             "ticks": ""
            },
            "colorscale": [
             [
              0,
              "#0d0887"
             ],
             [
              0.1111111111111111,
              "#46039f"
             ],
             [
              0.2222222222222222,
              "#7201a8"
             ],
             [
              0.3333333333333333,
              "#9c179e"
             ],
             [
              0.4444444444444444,
              "#bd3786"
             ],
             [
              0.5555555555555556,
              "#d8576b"
             ],
             [
              0.6666666666666666,
              "#ed7953"
             ],
             [
              0.7777777777777778,
              "#fb9f3a"
             ],
             [
              0.8888888888888888,
              "#fdca26"
             ],
             [
              1,
              "#f0f921"
             ]
            ],
            "type": "histogram2d"
           }
          ],
          "histogram2dcontour": [
           {
            "colorbar": {
             "outlinewidth": 0,
             "ticks": ""
            },
            "colorscale": [
             [
              0,
              "#0d0887"
             ],
             [
              0.1111111111111111,
              "#46039f"
             ],
             [
              0.2222222222222222,
              "#7201a8"
             ],
             [
              0.3333333333333333,
              "#9c179e"
             ],
             [
              0.4444444444444444,
              "#bd3786"
             ],
             [
              0.5555555555555556,
              "#d8576b"
             ],
             [
              0.6666666666666666,
              "#ed7953"
             ],
             [
              0.7777777777777778,
              "#fb9f3a"
             ],
             [
              0.8888888888888888,
              "#fdca26"
             ],
             [
              1,
              "#f0f921"
             ]
            ],
            "type": "histogram2dcontour"
           }
          ],
          "mesh3d": [
           {
            "colorbar": {
             "outlinewidth": 0,
             "ticks": ""
            },
            "type": "mesh3d"
           }
          ],
          "parcoords": [
           {
            "line": {
             "colorbar": {
              "outlinewidth": 0,
              "ticks": ""
             }
            },
            "type": "parcoords"
           }
          ],
          "pie": [
           {
            "automargin": true,
            "type": "pie"
           }
          ],
          "scatter": [
           {
            "marker": {
             "line": {
              "color": "#283442"
             }
            },
            "type": "scatter"
           }
          ],
          "scatter3d": [
           {
            "line": {
             "colorbar": {
              "outlinewidth": 0,
              "ticks": ""
             }
            },
            "marker": {
             "colorbar": {
              "outlinewidth": 0,
              "ticks": ""
             }
            },
            "type": "scatter3d"
           }
          ],
          "scattercarpet": [
           {
            "marker": {
             "colorbar": {
              "outlinewidth": 0,
              "ticks": ""
             }
            },
            "type": "scattercarpet"
           }
          ],
          "scattergeo": [
           {
            "marker": {
             "colorbar": {
              "outlinewidth": 0,
              "ticks": ""
             }
            },
            "type": "scattergeo"
           }
          ],
          "scattergl": [
           {
            "marker": {
             "line": {
              "color": "#283442"
             }
            },
            "type": "scattergl"
           }
          ],
          "scattermapbox": [
           {
            "marker": {
             "colorbar": {
              "outlinewidth": 0,
              "ticks": ""
             }
            },
            "type": "scattermapbox"
           }
          ],
          "scatterpolar": [
           {
            "marker": {
             "colorbar": {
              "outlinewidth": 0,
              "ticks": ""
             }
            },
            "type": "scatterpolar"
           }
          ],
          "scatterpolargl": [
           {
            "marker": {
             "colorbar": {
              "outlinewidth": 0,
              "ticks": ""
             }
            },
            "type": "scatterpolargl"
           }
          ],
          "scatterternary": [
           {
            "marker": {
             "colorbar": {
              "outlinewidth": 0,
              "ticks": ""
             }
            },
            "type": "scatterternary"
           }
          ],
          "surface": [
           {
            "colorbar": {
             "outlinewidth": 0,
             "ticks": ""
            },
            "colorscale": [
             [
              0,
              "#0d0887"
             ],
             [
              0.1111111111111111,
              "#46039f"
             ],
             [
              0.2222222222222222,
              "#7201a8"
             ],
             [
              0.3333333333333333,
              "#9c179e"
             ],
             [
              0.4444444444444444,
              "#bd3786"
             ],
             [
              0.5555555555555556,
              "#d8576b"
             ],
             [
              0.6666666666666666,
              "#ed7953"
             ],
             [
              0.7777777777777778,
              "#fb9f3a"
             ],
             [
              0.8888888888888888,
              "#fdca26"
             ],
             [
              1,
              "#f0f921"
             ]
            ],
            "type": "surface"
           }
          ],
          "table": [
           {
            "cells": {
             "fill": {
              "color": "#506784"
             },
             "line": {
              "color": "rgb(17,17,17)"
             }
            },
            "header": {
             "fill": {
              "color": "#2a3f5f"
             },
             "line": {
              "color": "rgb(17,17,17)"
             }
            },
            "type": "table"
           }
          ]
         },
         "layout": {
          "annotationdefaults": {
           "arrowcolor": "#f2f5fa",
           "arrowhead": 0,
           "arrowwidth": 1
          },
          "autotypenumbers": "strict",
          "coloraxis": {
           "colorbar": {
            "outlinewidth": 0,
            "ticks": ""
           }
          },
          "colorscale": {
           "diverging": [
            [
             0,
             "#8e0152"
            ],
            [
             0.1,
             "#c51b7d"
            ],
            [
             0.2,
             "#de77ae"
            ],
            [
             0.3,
             "#f1b6da"
            ],
            [
             0.4,
             "#fde0ef"
            ],
            [
             0.5,
             "#f7f7f7"
            ],
            [
             0.6,
             "#e6f5d0"
            ],
            [
             0.7,
             "#b8e186"
            ],
            [
             0.8,
             "#7fbc41"
            ],
            [
             0.9,
             "#4d9221"
            ],
            [
             1,
             "#276419"
            ]
           ],
           "sequential": [
            [
             0,
             "#0d0887"
            ],
            [
             0.1111111111111111,
             "#46039f"
            ],
            [
             0.2222222222222222,
             "#7201a8"
            ],
            [
             0.3333333333333333,
             "#9c179e"
            ],
            [
             0.4444444444444444,
             "#bd3786"
            ],
            [
             0.5555555555555556,
             "#d8576b"
            ],
            [
             0.6666666666666666,
             "#ed7953"
            ],
            [
             0.7777777777777778,
             "#fb9f3a"
            ],
            [
             0.8888888888888888,
             "#fdca26"
            ],
            [
             1,
             "#f0f921"
            ]
           ],
           "sequentialminus": [
            [
             0,
             "#0d0887"
            ],
            [
             0.1111111111111111,
             "#46039f"
            ],
            [
             0.2222222222222222,
             "#7201a8"
            ],
            [
             0.3333333333333333,
             "#9c179e"
            ],
            [
             0.4444444444444444,
             "#bd3786"
            ],
            [
             0.5555555555555556,
             "#d8576b"
            ],
            [
             0.6666666666666666,
             "#ed7953"
            ],
            [
             0.7777777777777778,
             "#fb9f3a"
            ],
            [
             0.8888888888888888,
             "#fdca26"
            ],
            [
             1,
             "#f0f921"
            ]
           ]
          },
          "colorway": [
           "#636efa",
           "#EF553B",
           "#00cc96",
           "#ab63fa",
           "#FFA15A",
           "#19d3f3",
           "#FF6692",
           "#B6E880",
           "#FF97FF",
           "#FECB52"
          ],
          "font": {
           "color": "#f2f5fa"
          },
          "geo": {
           "bgcolor": "rgb(17,17,17)",
           "lakecolor": "rgb(17,17,17)",
           "landcolor": "rgb(17,17,17)",
           "showlakes": true,
           "showland": true,
           "subunitcolor": "#506784"
          },
          "hoverlabel": {
           "align": "left"
          },
          "hovermode": "closest",
          "mapbox": {
           "style": "dark"
          },
          "paper_bgcolor": "rgb(17,17,17)",
          "plot_bgcolor": "rgb(17,17,17)",
          "polar": {
           "angularaxis": {
            "gridcolor": "#506784",
            "linecolor": "#506784",
            "ticks": ""
           },
           "bgcolor": "rgb(17,17,17)",
           "radialaxis": {
            "gridcolor": "#506784",
            "linecolor": "#506784",
            "ticks": ""
           }
          },
          "scene": {
           "xaxis": {
            "backgroundcolor": "rgb(17,17,17)",
            "gridcolor": "#506784",
            "gridwidth": 2,
            "linecolor": "#506784",
            "showbackground": true,
            "ticks": "",
            "zerolinecolor": "#C8D4E3"
           },
           "yaxis": {
            "backgroundcolor": "rgb(17,17,17)",
            "gridcolor": "#506784",
            "gridwidth": 2,
            "linecolor": "#506784",
            "showbackground": true,
            "ticks": "",
            "zerolinecolor": "#C8D4E3"
           },
           "zaxis": {
            "backgroundcolor": "rgb(17,17,17)",
            "gridcolor": "#506784",
            "gridwidth": 2,
            "linecolor": "#506784",
            "showbackground": true,
            "ticks": "",
            "zerolinecolor": "#C8D4E3"
           }
          },
          "shapedefaults": {
           "line": {
            "color": "#f2f5fa"
           }
          },
          "sliderdefaults": {
           "bgcolor": "#C8D4E3",
           "bordercolor": "rgb(17,17,17)",
           "borderwidth": 1,
           "tickwidth": 0
          },
          "ternary": {
           "aaxis": {
            "gridcolor": "#506784",
            "linecolor": "#506784",
            "ticks": ""
           },
           "baxis": {
            "gridcolor": "#506784",
            "linecolor": "#506784",
            "ticks": ""
           },
           "bgcolor": "rgb(17,17,17)",
           "caxis": {
            "gridcolor": "#506784",
            "linecolor": "#506784",
            "ticks": ""
           }
          },
          "title": {
           "x": 0.05
          },
          "updatemenudefaults": {
           "bgcolor": "#506784",
           "borderwidth": 0
          },
          "xaxis": {
           "automargin": true,
           "gridcolor": "#283442",
           "linecolor": "#506784",
           "ticks": "",
           "title": {
            "standoff": 15
           },
           "zerolinecolor": "#283442",
           "zerolinewidth": 2
          },
          "yaxis": {
           "automargin": true,
           "gridcolor": "#283442",
           "linecolor": "#506784",
           "ticks": "",
           "title": {
            "standoff": 15
           },
           "zerolinecolor": "#283442",
           "zerolinewidth": 2
          }
         }
        },
        "title": {
         "text": "Saldo a liquidar por ano do empenho"
        },
        "xaxis": {
         "anchor": "y",
         "domain": [
          0,
          1
         ],
         "title": {
          "text": "Ano do Empenho"
         }
        },
        "yaxis": {
         "anchor": "x",
         "domain": [
          0,
          1
         ],
         "title": {
          "text": "Saldo a liquidar"
         },
         "type": "log"
        }
       }
      }
     },
     "metadata": {},
     "output_type": "display_data"
    }
   ],
   "source": [
    "# Saldo a liquidar por ano\n",
    "cols = ['ANO', 'A_LIQUIDAR']\n",
    "\n",
    "df_aux = df.loc[:, cols].groupby('ANO').sum().sort_values(by= 'A_LIQUIDAR', ascending=False).reset_index()\n",
    "df_aux = df_aux[df_aux['A_LIQUIDAR'] > 0]\n",
    "fig = px.bar(df_aux, \n",
    "             x='ANO', \n",
    "             y='A_LIQUIDAR',\n",
    "             title='Saldo a liquidar por ano do empenho',\n",
    "             labels={'ANO':'Ano do Empenho', 'A_LIQUIDAR':'Saldo a liquidar'},\n",
    "             text_auto='.3s',\n",
    "             height=400,\n",
    "             log_y=True,\n",
    "             color='A_LIQUIDAR',\n",
    "             color_continuous_scale = 'reds',\n",
    "             template='plotly_dark')\n",
    "fig.update_traces(textposition = 'outside', cliponaxis = False, hovertemplate=None)\n",
    "fig.update_layout(hovermode=\"x unified\")\n",
    "\n",
    "fig.show()"
   ]
  },
  {
   "cell_type": "code",
   "execution_count": 12,
   "metadata": {},
   "outputs": [
    {
     "data": {
      "application/vnd.plotly.v1+json": {
       "config": {
        "plotlyServerURL": "https://plot.ly"
       },
       "data": [
        {
         "alignmentgroup": "True",
         "cliponaxis": false,
         "legendgroup": "",
         "marker": {
          "color": [
           6649335.47,
           1177993.92,
           267564.75
          ],
          "coloraxis": "coloraxis",
          "pattern": {
           "shape": ""
          }
         },
         "name": "",
         "offsetgroup": "",
         "orientation": "v",
         "showlegend": false,
         "textposition": "outside",
         "texttemplate": "%{y:.3s}",
         "type": "bar",
         "x": [
          "GLOBAL",
          "ESTIMATIVO",
          "ORDINARIO"
         ],
         "xaxis": "x",
         "y": [
          6649335.47,
          1177993.92,
          267564.75
         ],
         "yaxis": "y"
        }
       ],
       "layout": {
        "barmode": "relative",
        "coloraxis": {
         "colorbar": {
          "title": {
           "text": "Saldo a liquidar"
          }
         },
         "colorscale": [
          [
           0,
           "rgb(255,245,240)"
          ],
          [
           0.125,
           "rgb(254,224,210)"
          ],
          [
           0.25,
           "rgb(252,187,161)"
          ],
          [
           0.375,
           "rgb(252,146,114)"
          ],
          [
           0.5,
           "rgb(251,106,74)"
          ],
          [
           0.625,
           "rgb(239,59,44)"
          ],
          [
           0.75,
           "rgb(203,24,29)"
          ],
          [
           0.875,
           "rgb(165,15,21)"
          ],
          [
           1,
           "rgb(103,0,13)"
          ]
         ]
        },
        "height": 400,
        "hovermode": "x unified",
        "legend": {
         "tracegroupgap": 0
        },
        "template": {
         "data": {
          "bar": [
           {
            "error_x": {
             "color": "#f2f5fa"
            },
            "error_y": {
             "color": "#f2f5fa"
            },
            "marker": {
             "line": {
              "color": "rgb(17,17,17)",
              "width": 0.5
             },
             "pattern": {
              "fillmode": "overlay",
              "size": 10,
              "solidity": 0.2
             }
            },
            "type": "bar"
           }
          ],
          "barpolar": [
           {
            "marker": {
             "line": {
              "color": "rgb(17,17,17)",
              "width": 0.5
             },
             "pattern": {
              "fillmode": "overlay",
              "size": 10,
              "solidity": 0.2
             }
            },
            "type": "barpolar"
           }
          ],
          "carpet": [
           {
            "aaxis": {
             "endlinecolor": "#A2B1C6",
             "gridcolor": "#506784",
             "linecolor": "#506784",
             "minorgridcolor": "#506784",
             "startlinecolor": "#A2B1C6"
            },
            "baxis": {
             "endlinecolor": "#A2B1C6",
             "gridcolor": "#506784",
             "linecolor": "#506784",
             "minorgridcolor": "#506784",
             "startlinecolor": "#A2B1C6"
            },
            "type": "carpet"
           }
          ],
          "choropleth": [
           {
            "colorbar": {
             "outlinewidth": 0,
             "ticks": ""
            },
            "type": "choropleth"
           }
          ],
          "contour": [
           {
            "colorbar": {
             "outlinewidth": 0,
             "ticks": ""
            },
            "colorscale": [
             [
              0,
              "#0d0887"
             ],
             [
              0.1111111111111111,
              "#46039f"
             ],
             [
              0.2222222222222222,
              "#7201a8"
             ],
             [
              0.3333333333333333,
              "#9c179e"
             ],
             [
              0.4444444444444444,
              "#bd3786"
             ],
             [
              0.5555555555555556,
              "#d8576b"
             ],
             [
              0.6666666666666666,
              "#ed7953"
             ],
             [
              0.7777777777777778,
              "#fb9f3a"
             ],
             [
              0.8888888888888888,
              "#fdca26"
             ],
             [
              1,
              "#f0f921"
             ]
            ],
            "type": "contour"
           }
          ],
          "contourcarpet": [
           {
            "colorbar": {
             "outlinewidth": 0,
             "ticks": ""
            },
            "type": "contourcarpet"
           }
          ],
          "heatmap": [
           {
            "colorbar": {
             "outlinewidth": 0,
             "ticks": ""
            },
            "colorscale": [
             [
              0,
              "#0d0887"
             ],
             [
              0.1111111111111111,
              "#46039f"
             ],
             [
              0.2222222222222222,
              "#7201a8"
             ],
             [
              0.3333333333333333,
              "#9c179e"
             ],
             [
              0.4444444444444444,
              "#bd3786"
             ],
             [
              0.5555555555555556,
              "#d8576b"
             ],
             [
              0.6666666666666666,
              "#ed7953"
             ],
             [
              0.7777777777777778,
              "#fb9f3a"
             ],
             [
              0.8888888888888888,
              "#fdca26"
             ],
             [
              1,
              "#f0f921"
             ]
            ],
            "type": "heatmap"
           }
          ],
          "heatmapgl": [
           {
            "colorbar": {
             "outlinewidth": 0,
             "ticks": ""
            },
            "colorscale": [
             [
              0,
              "#0d0887"
             ],
             [
              0.1111111111111111,
              "#46039f"
             ],
             [
              0.2222222222222222,
              "#7201a8"
             ],
             [
              0.3333333333333333,
              "#9c179e"
             ],
             [
              0.4444444444444444,
              "#bd3786"
             ],
             [
              0.5555555555555556,
              "#d8576b"
             ],
             [
              0.6666666666666666,
              "#ed7953"
             ],
             [
              0.7777777777777778,
              "#fb9f3a"
             ],
             [
              0.8888888888888888,
              "#fdca26"
             ],
             [
              1,
              "#f0f921"
             ]
            ],
            "type": "heatmapgl"
           }
          ],
          "histogram": [
           {
            "marker": {
             "pattern": {
              "fillmode": "overlay",
              "size": 10,
              "solidity": 0.2
             }
            },
            "type": "histogram"
           }
          ],
          "histogram2d": [
           {
            "colorbar": {
             "outlinewidth": 0,
             "ticks": ""
            },
            "colorscale": [
             [
              0,
              "#0d0887"
             ],
             [
              0.1111111111111111,
              "#46039f"
             ],
             [
              0.2222222222222222,
              "#7201a8"
             ],
             [
              0.3333333333333333,
              "#9c179e"
             ],
             [
              0.4444444444444444,
              "#bd3786"
             ],
             [
              0.5555555555555556,
              "#d8576b"
             ],
             [
              0.6666666666666666,
              "#ed7953"
             ],
             [
              0.7777777777777778,
              "#fb9f3a"
             ],
             [
              0.8888888888888888,
              "#fdca26"
             ],
             [
              1,
              "#f0f921"
             ]
            ],
            "type": "histogram2d"
           }
          ],
          "histogram2dcontour": [
           {
            "colorbar": {
             "outlinewidth": 0,
             "ticks": ""
            },
            "colorscale": [
             [
              0,
              "#0d0887"
             ],
             [
              0.1111111111111111,
              "#46039f"
             ],
             [
              0.2222222222222222,
              "#7201a8"
             ],
             [
              0.3333333333333333,
              "#9c179e"
             ],
             [
              0.4444444444444444,
              "#bd3786"
             ],
             [
              0.5555555555555556,
              "#d8576b"
             ],
             [
              0.6666666666666666,
              "#ed7953"
             ],
             [
              0.7777777777777778,
              "#fb9f3a"
             ],
             [
              0.8888888888888888,
              "#fdca26"
             ],
             [
              1,
              "#f0f921"
             ]
            ],
            "type": "histogram2dcontour"
           }
          ],
          "mesh3d": [
           {
            "colorbar": {
             "outlinewidth": 0,
             "ticks": ""
            },
            "type": "mesh3d"
           }
          ],
          "parcoords": [
           {
            "line": {
             "colorbar": {
              "outlinewidth": 0,
              "ticks": ""
             }
            },
            "type": "parcoords"
           }
          ],
          "pie": [
           {
            "automargin": true,
            "type": "pie"
           }
          ],
          "scatter": [
           {
            "marker": {
             "line": {
              "color": "#283442"
             }
            },
            "type": "scatter"
           }
          ],
          "scatter3d": [
           {
            "line": {
             "colorbar": {
              "outlinewidth": 0,
              "ticks": ""
             }
            },
            "marker": {
             "colorbar": {
              "outlinewidth": 0,
              "ticks": ""
             }
            },
            "type": "scatter3d"
           }
          ],
          "scattercarpet": [
           {
            "marker": {
             "colorbar": {
              "outlinewidth": 0,
              "ticks": ""
             }
            },
            "type": "scattercarpet"
           }
          ],
          "scattergeo": [
           {
            "marker": {
             "colorbar": {
              "outlinewidth": 0,
              "ticks": ""
             }
            },
            "type": "scattergeo"
           }
          ],
          "scattergl": [
           {
            "marker": {
             "line": {
              "color": "#283442"
             }
            },
            "type": "scattergl"
           }
          ],
          "scattermapbox": [
           {
            "marker": {
             "colorbar": {
              "outlinewidth": 0,
              "ticks": ""
             }
            },
            "type": "scattermapbox"
           }
          ],
          "scatterpolar": [
           {
            "marker": {
             "colorbar": {
              "outlinewidth": 0,
              "ticks": ""
             }
            },
            "type": "scatterpolar"
           }
          ],
          "scatterpolargl": [
           {
            "marker": {
             "colorbar": {
              "outlinewidth": 0,
              "ticks": ""
             }
            },
            "type": "scatterpolargl"
           }
          ],
          "scatterternary": [
           {
            "marker": {
             "colorbar": {
              "outlinewidth": 0,
              "ticks": ""
             }
            },
            "type": "scatterternary"
           }
          ],
          "surface": [
           {
            "colorbar": {
             "outlinewidth": 0,
             "ticks": ""
            },
            "colorscale": [
             [
              0,
              "#0d0887"
             ],
             [
              0.1111111111111111,
              "#46039f"
             ],
             [
              0.2222222222222222,
              "#7201a8"
             ],
             [
              0.3333333333333333,
              "#9c179e"
             ],
             [
              0.4444444444444444,
              "#bd3786"
             ],
             [
              0.5555555555555556,
              "#d8576b"
             ],
             [
              0.6666666666666666,
              "#ed7953"
             ],
             [
              0.7777777777777778,
              "#fb9f3a"
             ],
             [
              0.8888888888888888,
              "#fdca26"
             ],
             [
              1,
              "#f0f921"
             ]
            ],
            "type": "surface"
           }
          ],
          "table": [
           {
            "cells": {
             "fill": {
              "color": "#506784"
             },
             "line": {
              "color": "rgb(17,17,17)"
             }
            },
            "header": {
             "fill": {
              "color": "#2a3f5f"
             },
             "line": {
              "color": "rgb(17,17,17)"
             }
            },
            "type": "table"
           }
          ]
         },
         "layout": {
          "annotationdefaults": {
           "arrowcolor": "#f2f5fa",
           "arrowhead": 0,
           "arrowwidth": 1
          },
          "autotypenumbers": "strict",
          "coloraxis": {
           "colorbar": {
            "outlinewidth": 0,
            "ticks": ""
           }
          },
          "colorscale": {
           "diverging": [
            [
             0,
             "#8e0152"
            ],
            [
             0.1,
             "#c51b7d"
            ],
            [
             0.2,
             "#de77ae"
            ],
            [
             0.3,
             "#f1b6da"
            ],
            [
             0.4,
             "#fde0ef"
            ],
            [
             0.5,
             "#f7f7f7"
            ],
            [
             0.6,
             "#e6f5d0"
            ],
            [
             0.7,
             "#b8e186"
            ],
            [
             0.8,
             "#7fbc41"
            ],
            [
             0.9,
             "#4d9221"
            ],
            [
             1,
             "#276419"
            ]
           ],
           "sequential": [
            [
             0,
             "#0d0887"
            ],
            [
             0.1111111111111111,
             "#46039f"
            ],
            [
             0.2222222222222222,
             "#7201a8"
            ],
            [
             0.3333333333333333,
             "#9c179e"
            ],
            [
             0.4444444444444444,
             "#bd3786"
            ],
            [
             0.5555555555555556,
             "#d8576b"
            ],
            [
             0.6666666666666666,
             "#ed7953"
            ],
            [
             0.7777777777777778,
             "#fb9f3a"
            ],
            [
             0.8888888888888888,
             "#fdca26"
            ],
            [
             1,
             "#f0f921"
            ]
           ],
           "sequentialminus": [
            [
             0,
             "#0d0887"
            ],
            [
             0.1111111111111111,
             "#46039f"
            ],
            [
             0.2222222222222222,
             "#7201a8"
            ],
            [
             0.3333333333333333,
             "#9c179e"
            ],
            [
             0.4444444444444444,
             "#bd3786"
            ],
            [
             0.5555555555555556,
             "#d8576b"
            ],
            [
             0.6666666666666666,
             "#ed7953"
            ],
            [
             0.7777777777777778,
             "#fb9f3a"
            ],
            [
             0.8888888888888888,
             "#fdca26"
            ],
            [
             1,
             "#f0f921"
            ]
           ]
          },
          "colorway": [
           "#636efa",
           "#EF553B",
           "#00cc96",
           "#ab63fa",
           "#FFA15A",
           "#19d3f3",
           "#FF6692",
           "#B6E880",
           "#FF97FF",
           "#FECB52"
          ],
          "font": {
           "color": "#f2f5fa"
          },
          "geo": {
           "bgcolor": "rgb(17,17,17)",
           "lakecolor": "rgb(17,17,17)",
           "landcolor": "rgb(17,17,17)",
           "showlakes": true,
           "showland": true,
           "subunitcolor": "#506784"
          },
          "hoverlabel": {
           "align": "left"
          },
          "hovermode": "closest",
          "mapbox": {
           "style": "dark"
          },
          "paper_bgcolor": "rgb(17,17,17)",
          "plot_bgcolor": "rgb(17,17,17)",
          "polar": {
           "angularaxis": {
            "gridcolor": "#506784",
            "linecolor": "#506784",
            "ticks": ""
           },
           "bgcolor": "rgb(17,17,17)",
           "radialaxis": {
            "gridcolor": "#506784",
            "linecolor": "#506784",
            "ticks": ""
           }
          },
          "scene": {
           "xaxis": {
            "backgroundcolor": "rgb(17,17,17)",
            "gridcolor": "#506784",
            "gridwidth": 2,
            "linecolor": "#506784",
            "showbackground": true,
            "ticks": "",
            "zerolinecolor": "#C8D4E3"
           },
           "yaxis": {
            "backgroundcolor": "rgb(17,17,17)",
            "gridcolor": "#506784",
            "gridwidth": 2,
            "linecolor": "#506784",
            "showbackground": true,
            "ticks": "",
            "zerolinecolor": "#C8D4E3"
           },
           "zaxis": {
            "backgroundcolor": "rgb(17,17,17)",
            "gridcolor": "#506784",
            "gridwidth": 2,
            "linecolor": "#506784",
            "showbackground": true,
            "ticks": "",
            "zerolinecolor": "#C8D4E3"
           }
          },
          "shapedefaults": {
           "line": {
            "color": "#f2f5fa"
           }
          },
          "sliderdefaults": {
           "bgcolor": "#C8D4E3",
           "bordercolor": "rgb(17,17,17)",
           "borderwidth": 1,
           "tickwidth": 0
          },
          "ternary": {
           "aaxis": {
            "gridcolor": "#506784",
            "linecolor": "#506784",
            "ticks": ""
           },
           "baxis": {
            "gridcolor": "#506784",
            "linecolor": "#506784",
            "ticks": ""
           },
           "bgcolor": "rgb(17,17,17)",
           "caxis": {
            "gridcolor": "#506784",
            "linecolor": "#506784",
            "ticks": ""
           }
          },
          "title": {
           "x": 0.05
          },
          "updatemenudefaults": {
           "bgcolor": "#506784",
           "borderwidth": 0
          },
          "xaxis": {
           "automargin": true,
           "gridcolor": "#283442",
           "linecolor": "#506784",
           "ticks": "",
           "title": {
            "standoff": 15
           },
           "zerolinecolor": "#283442",
           "zerolinewidth": 2
          },
          "yaxis": {
           "automargin": true,
           "gridcolor": "#283442",
           "linecolor": "#506784",
           "ticks": "",
           "title": {
            "standoff": 15
           },
           "zerolinecolor": "#283442",
           "zerolinewidth": 2
          }
         }
        },
        "title": {
         "text": "Saldo a liquidar por ano do empenho"
        },
        "xaxis": {
         "anchor": "y",
         "domain": [
          0,
          1
         ],
         "title": {
          "text": "Tipo de Nota de Empenho"
         }
        },
        "yaxis": {
         "anchor": "x",
         "domain": [
          0,
          1
         ],
         "title": {
          "text": "Saldo a liquidar"
         },
         "type": "log"
        }
       }
      }
     },
     "metadata": {},
     "output_type": "display_data"
    }
   ],
   "source": [
    "# Saldo a liquidar por tipo de NE\n",
    "cols = ['TIPO_NE', 'A_LIQUIDAR']\n",
    "\n",
    "df_aux = df.loc[:, cols].groupby('TIPO_NE').sum().sort_values(by= 'A_LIQUIDAR', ascending=False).reset_index()\n",
    "df_aux = df_aux[df_aux['A_LIQUIDAR'] > 0]\n",
    "fig = px.bar(df_aux, \n",
    "             x='TIPO_NE', \n",
    "             y='A_LIQUIDAR',\n",
    "             title='Saldo a liquidar por ano do empenho',\n",
    "             labels={'TIPO_NE':'Tipo de Nota de Empenho', 'A_LIQUIDAR':'Saldo a liquidar'},\n",
    "             text_auto='.3s',\n",
    "             height=400,\n",
    "             log_y=True,\n",
    "             color='A_LIQUIDAR',\n",
    "             color_continuous_scale = 'reds',\n",
    "             template='plotly_dark')\n",
    "fig.update_traces(textposition = 'outside', cliponaxis = False, hovertemplate=None)\n",
    "fig.update_layout(hovermode=\"x unified\")\n",
    "\n",
    "fig.show()"
   ]
  },
  {
   "cell_type": "code",
   "execution_count": 13,
   "metadata": {},
   "outputs": [
    {
     "data": {
      "application/vnd.plotly.v1+json": {
       "config": {
        "plotlyServerURL": "https://plot.ly"
       },
       "data": [
        {
         "alignmentgroup": "True",
         "cliponaxis": false,
         "legendgroup": "",
         "marker": {
          "color": [
           4525157.4399999995,
           1302218.1300000001,
           1070182.29,
           822173.14,
           204310.15,
           106240.97,
           57231.62,
           2929,
           2900,
           1551.4
          ],
          "coloraxis": "coloraxis",
          "pattern": {
           "shape": ""
          }
         },
         "name": "",
         "offsetgroup": "",
         "orientation": "v",
         "showlegend": false,
         "textposition": "outside",
         "texttemplate": "%{y:.3s}",
         "type": "bar",
         "x": [
          "DECEX - GESTOR",
          "DECEX/GESTOR",
          "DGP",
          "DGO",
          "COEX/GESTOR",
          "ESA",
          "DEC-GESTOR",
          "COEX - GESTOR",
          "COTER - GESTOR",
          "F EX"
         ],
         "xaxis": "x",
         "y": [
          4525157.4399999995,
          1302218.1300000001,
          1070182.29,
          822173.14,
          204310.15,
          106240.97,
          57231.62,
          2929,
          2900,
          1551.4
         ],
         "yaxis": "y"
        }
       ],
       "layout": {
        "barmode": "relative",
        "coloraxis": {
         "colorbar": {
          "title": {
           "text": "Saldo a liquidar"
          }
         },
         "colorscale": [
          [
           0,
           "rgb(255,245,240)"
          ],
          [
           0.125,
           "rgb(254,224,210)"
          ],
          [
           0.25,
           "rgb(252,187,161)"
          ],
          [
           0.375,
           "rgb(252,146,114)"
          ],
          [
           0.5,
           "rgb(251,106,74)"
          ],
          [
           0.625,
           "rgb(239,59,44)"
          ],
          [
           0.75,
           "rgb(203,24,29)"
          ],
          [
           0.875,
           "rgb(165,15,21)"
          ],
          [
           1,
           "rgb(103,0,13)"
          ]
         ]
        },
        "height": 400,
        "hovermode": "x unified",
        "legend": {
         "tracegroupgap": 0
        },
        "template": {
         "data": {
          "bar": [
           {
            "error_x": {
             "color": "#f2f5fa"
            },
            "error_y": {
             "color": "#f2f5fa"
            },
            "marker": {
             "line": {
              "color": "rgb(17,17,17)",
              "width": 0.5
             },
             "pattern": {
              "fillmode": "overlay",
              "size": 10,
              "solidity": 0.2
             }
            },
            "type": "bar"
           }
          ],
          "barpolar": [
           {
            "marker": {
             "line": {
              "color": "rgb(17,17,17)",
              "width": 0.5
             },
             "pattern": {
              "fillmode": "overlay",
              "size": 10,
              "solidity": 0.2
             }
            },
            "type": "barpolar"
           }
          ],
          "carpet": [
           {
            "aaxis": {
             "endlinecolor": "#A2B1C6",
             "gridcolor": "#506784",
             "linecolor": "#506784",
             "minorgridcolor": "#506784",
             "startlinecolor": "#A2B1C6"
            },
            "baxis": {
             "endlinecolor": "#A2B1C6",
             "gridcolor": "#506784",
             "linecolor": "#506784",
             "minorgridcolor": "#506784",
             "startlinecolor": "#A2B1C6"
            },
            "type": "carpet"
           }
          ],
          "choropleth": [
           {
            "colorbar": {
             "outlinewidth": 0,
             "ticks": ""
            },
            "type": "choropleth"
           }
          ],
          "contour": [
           {
            "colorbar": {
             "outlinewidth": 0,
             "ticks": ""
            },
            "colorscale": [
             [
              0,
              "#0d0887"
             ],
             [
              0.1111111111111111,
              "#46039f"
             ],
             [
              0.2222222222222222,
              "#7201a8"
             ],
             [
              0.3333333333333333,
              "#9c179e"
             ],
             [
              0.4444444444444444,
              "#bd3786"
             ],
             [
              0.5555555555555556,
              "#d8576b"
             ],
             [
              0.6666666666666666,
              "#ed7953"
             ],
             [
              0.7777777777777778,
              "#fb9f3a"
             ],
             [
              0.8888888888888888,
              "#fdca26"
             ],
             [
              1,
              "#f0f921"
             ]
            ],
            "type": "contour"
           }
          ],
          "contourcarpet": [
           {
            "colorbar": {
             "outlinewidth": 0,
             "ticks": ""
            },
            "type": "contourcarpet"
           }
          ],
          "heatmap": [
           {
            "colorbar": {
             "outlinewidth": 0,
             "ticks": ""
            },
            "colorscale": [
             [
              0,
              "#0d0887"
             ],
             [
              0.1111111111111111,
              "#46039f"
             ],
             [
              0.2222222222222222,
              "#7201a8"
             ],
             [
              0.3333333333333333,
              "#9c179e"
             ],
             [
              0.4444444444444444,
              "#bd3786"
             ],
             [
              0.5555555555555556,
              "#d8576b"
             ],
             [
              0.6666666666666666,
              "#ed7953"
             ],
             [
              0.7777777777777778,
              "#fb9f3a"
             ],
             [
              0.8888888888888888,
              "#fdca26"
             ],
             [
              1,
              "#f0f921"
             ]
            ],
            "type": "heatmap"
           }
          ],
          "heatmapgl": [
           {
            "colorbar": {
             "outlinewidth": 0,
             "ticks": ""
            },
            "colorscale": [
             [
              0,
              "#0d0887"
             ],
             [
              0.1111111111111111,
              "#46039f"
             ],
             [
              0.2222222222222222,
              "#7201a8"
             ],
             [
              0.3333333333333333,
              "#9c179e"
             ],
             [
              0.4444444444444444,
              "#bd3786"
             ],
             [
              0.5555555555555556,
              "#d8576b"
             ],
             [
              0.6666666666666666,
              "#ed7953"
             ],
             [
              0.7777777777777778,
              "#fb9f3a"
             ],
             [
              0.8888888888888888,
              "#fdca26"
             ],
             [
              1,
              "#f0f921"
             ]
            ],
            "type": "heatmapgl"
           }
          ],
          "histogram": [
           {
            "marker": {
             "pattern": {
              "fillmode": "overlay",
              "size": 10,
              "solidity": 0.2
             }
            },
            "type": "histogram"
           }
          ],
          "histogram2d": [
           {
            "colorbar": {
             "outlinewidth": 0,
             "ticks": ""
            },
            "colorscale": [
             [
              0,
              "#0d0887"
             ],
             [
              0.1111111111111111,
              "#46039f"
             ],
             [
              0.2222222222222222,
              "#7201a8"
             ],
             [
              0.3333333333333333,
              "#9c179e"
             ],
             [
              0.4444444444444444,
              "#bd3786"
             ],
             [
              0.5555555555555556,
              "#d8576b"
             ],
             [
              0.6666666666666666,
              "#ed7953"
             ],
             [
              0.7777777777777778,
              "#fb9f3a"
             ],
             [
              0.8888888888888888,
              "#fdca26"
             ],
             [
              1,
              "#f0f921"
             ]
            ],
            "type": "histogram2d"
           }
          ],
          "histogram2dcontour": [
           {
            "colorbar": {
             "outlinewidth": 0,
             "ticks": ""
            },
            "colorscale": [
             [
              0,
              "#0d0887"
             ],
             [
              0.1111111111111111,
              "#46039f"
             ],
             [
              0.2222222222222222,
              "#7201a8"
             ],
             [
              0.3333333333333333,
              "#9c179e"
             ],
             [
              0.4444444444444444,
              "#bd3786"
             ],
             [
              0.5555555555555556,
              "#d8576b"
             ],
             [
              0.6666666666666666,
              "#ed7953"
             ],
             [
              0.7777777777777778,
              "#fb9f3a"
             ],
             [
              0.8888888888888888,
              "#fdca26"
             ],
             [
              1,
              "#f0f921"
             ]
            ],
            "type": "histogram2dcontour"
           }
          ],
          "mesh3d": [
           {
            "colorbar": {
             "outlinewidth": 0,
             "ticks": ""
            },
            "type": "mesh3d"
           }
          ],
          "parcoords": [
           {
            "line": {
             "colorbar": {
              "outlinewidth": 0,
              "ticks": ""
             }
            },
            "type": "parcoords"
           }
          ],
          "pie": [
           {
            "automargin": true,
            "type": "pie"
           }
          ],
          "scatter": [
           {
            "marker": {
             "line": {
              "color": "#283442"
             }
            },
            "type": "scatter"
           }
          ],
          "scatter3d": [
           {
            "line": {
             "colorbar": {
              "outlinewidth": 0,
              "ticks": ""
             }
            },
            "marker": {
             "colorbar": {
              "outlinewidth": 0,
              "ticks": ""
             }
            },
            "type": "scatter3d"
           }
          ],
          "scattercarpet": [
           {
            "marker": {
             "colorbar": {
              "outlinewidth": 0,
              "ticks": ""
             }
            },
            "type": "scattercarpet"
           }
          ],
          "scattergeo": [
           {
            "marker": {
             "colorbar": {
              "outlinewidth": 0,
              "ticks": ""
             }
            },
            "type": "scattergeo"
           }
          ],
          "scattergl": [
           {
            "marker": {
             "line": {
              "color": "#283442"
             }
            },
            "type": "scattergl"
           }
          ],
          "scattermapbox": [
           {
            "marker": {
             "colorbar": {
              "outlinewidth": 0,
              "ticks": ""
             }
            },
            "type": "scattermapbox"
           }
          ],
          "scatterpolar": [
           {
            "marker": {
             "colorbar": {
              "outlinewidth": 0,
              "ticks": ""
             }
            },
            "type": "scatterpolar"
           }
          ],
          "scatterpolargl": [
           {
            "marker": {
             "colorbar": {
              "outlinewidth": 0,
              "ticks": ""
             }
            },
            "type": "scatterpolargl"
           }
          ],
          "scatterternary": [
           {
            "marker": {
             "colorbar": {
              "outlinewidth": 0,
              "ticks": ""
             }
            },
            "type": "scatterternary"
           }
          ],
          "surface": [
           {
            "colorbar": {
             "outlinewidth": 0,
             "ticks": ""
            },
            "colorscale": [
             [
              0,
              "#0d0887"
             ],
             [
              0.1111111111111111,
              "#46039f"
             ],
             [
              0.2222222222222222,
              "#7201a8"
             ],
             [
              0.3333333333333333,
              "#9c179e"
             ],
             [
              0.4444444444444444,
              "#bd3786"
             ],
             [
              0.5555555555555556,
              "#d8576b"
             ],
             [
              0.6666666666666666,
              "#ed7953"
             ],
             [
              0.7777777777777778,
              "#fb9f3a"
             ],
             [
              0.8888888888888888,
              "#fdca26"
             ],
             [
              1,
              "#f0f921"
             ]
            ],
            "type": "surface"
           }
          ],
          "table": [
           {
            "cells": {
             "fill": {
              "color": "#506784"
             },
             "line": {
              "color": "rgb(17,17,17)"
             }
            },
            "header": {
             "fill": {
              "color": "#2a3f5f"
             },
             "line": {
              "color": "rgb(17,17,17)"
             }
            },
            "type": "table"
           }
          ]
         },
         "layout": {
          "annotationdefaults": {
           "arrowcolor": "#f2f5fa",
           "arrowhead": 0,
           "arrowwidth": 1
          },
          "autotypenumbers": "strict",
          "coloraxis": {
           "colorbar": {
            "outlinewidth": 0,
            "ticks": ""
           }
          },
          "colorscale": {
           "diverging": [
            [
             0,
             "#8e0152"
            ],
            [
             0.1,
             "#c51b7d"
            ],
            [
             0.2,
             "#de77ae"
            ],
            [
             0.3,
             "#f1b6da"
            ],
            [
             0.4,
             "#fde0ef"
            ],
            [
             0.5,
             "#f7f7f7"
            ],
            [
             0.6,
             "#e6f5d0"
            ],
            [
             0.7,
             "#b8e186"
            ],
            [
             0.8,
             "#7fbc41"
            ],
            [
             0.9,
             "#4d9221"
            ],
            [
             1,
             "#276419"
            ]
           ],
           "sequential": [
            [
             0,
             "#0d0887"
            ],
            [
             0.1111111111111111,
             "#46039f"
            ],
            [
             0.2222222222222222,
             "#7201a8"
            ],
            [
             0.3333333333333333,
             "#9c179e"
            ],
            [
             0.4444444444444444,
             "#bd3786"
            ],
            [
             0.5555555555555556,
             "#d8576b"
            ],
            [
             0.6666666666666666,
             "#ed7953"
            ],
            [
             0.7777777777777778,
             "#fb9f3a"
            ],
            [
             0.8888888888888888,
             "#fdca26"
            ],
            [
             1,
             "#f0f921"
            ]
           ],
           "sequentialminus": [
            [
             0,
             "#0d0887"
            ],
            [
             0.1111111111111111,
             "#46039f"
            ],
            [
             0.2222222222222222,
             "#7201a8"
            ],
            [
             0.3333333333333333,
             "#9c179e"
            ],
            [
             0.4444444444444444,
             "#bd3786"
            ],
            [
             0.5555555555555556,
             "#d8576b"
            ],
            [
             0.6666666666666666,
             "#ed7953"
            ],
            [
             0.7777777777777778,
             "#fb9f3a"
            ],
            [
             0.8888888888888888,
             "#fdca26"
            ],
            [
             1,
             "#f0f921"
            ]
           ]
          },
          "colorway": [
           "#636efa",
           "#EF553B",
           "#00cc96",
           "#ab63fa",
           "#FFA15A",
           "#19d3f3",
           "#FF6692",
           "#B6E880",
           "#FF97FF",
           "#FECB52"
          ],
          "font": {
           "color": "#f2f5fa"
          },
          "geo": {
           "bgcolor": "rgb(17,17,17)",
           "lakecolor": "rgb(17,17,17)",
           "landcolor": "rgb(17,17,17)",
           "showlakes": true,
           "showland": true,
           "subunitcolor": "#506784"
          },
          "hoverlabel": {
           "align": "left"
          },
          "hovermode": "closest",
          "mapbox": {
           "style": "dark"
          },
          "paper_bgcolor": "rgb(17,17,17)",
          "plot_bgcolor": "rgb(17,17,17)",
          "polar": {
           "angularaxis": {
            "gridcolor": "#506784",
            "linecolor": "#506784",
            "ticks": ""
           },
           "bgcolor": "rgb(17,17,17)",
           "radialaxis": {
            "gridcolor": "#506784",
            "linecolor": "#506784",
            "ticks": ""
           }
          },
          "scene": {
           "xaxis": {
            "backgroundcolor": "rgb(17,17,17)",
            "gridcolor": "#506784",
            "gridwidth": 2,
            "linecolor": "#506784",
            "showbackground": true,
            "ticks": "",
            "zerolinecolor": "#C8D4E3"
           },
           "yaxis": {
            "backgroundcolor": "rgb(17,17,17)",
            "gridcolor": "#506784",
            "gridwidth": 2,
            "linecolor": "#506784",
            "showbackground": true,
            "ticks": "",
            "zerolinecolor": "#C8D4E3"
           },
           "zaxis": {
            "backgroundcolor": "rgb(17,17,17)",
            "gridcolor": "#506784",
            "gridwidth": 2,
            "linecolor": "#506784",
            "showbackground": true,
            "ticks": "",
            "zerolinecolor": "#C8D4E3"
           }
          },
          "shapedefaults": {
           "line": {
            "color": "#f2f5fa"
           }
          },
          "sliderdefaults": {
           "bgcolor": "#C8D4E3",
           "bordercolor": "rgb(17,17,17)",
           "borderwidth": 1,
           "tickwidth": 0
          },
          "ternary": {
           "aaxis": {
            "gridcolor": "#506784",
            "linecolor": "#506784",
            "ticks": ""
           },
           "baxis": {
            "gridcolor": "#506784",
            "linecolor": "#506784",
            "ticks": ""
           },
           "bgcolor": "rgb(17,17,17)",
           "caxis": {
            "gridcolor": "#506784",
            "linecolor": "#506784",
            "ticks": ""
           }
          },
          "title": {
           "x": 0.05
          },
          "updatemenudefaults": {
           "bgcolor": "#506784",
           "borderwidth": 0
          },
          "xaxis": {
           "automargin": true,
           "gridcolor": "#283442",
           "linecolor": "#506784",
           "ticks": "",
           "title": {
            "standoff": 15
           },
           "zerolinecolor": "#283442",
           "zerolinewidth": 2
          },
          "yaxis": {
           "automargin": true,
           "gridcolor": "#283442",
           "linecolor": "#506784",
           "ticks": "",
           "title": {
            "standoff": 15
           },
           "zerolinecolor": "#283442",
           "zerolinewidth": 2
          }
         }
        },
        "title": {
         "text": "Saldo a liquidar por ano do empenho"
        },
        "xaxis": {
         "anchor": "y",
         "domain": [
          0,
          1
         ],
         "title": {
          "text": "Nome das UGR"
         }
        },
        "yaxis": {
         "anchor": "x",
         "domain": [
          0,
          1
         ],
         "title": {
          "text": "Saldo a liquidar"
         },
         "type": "log"
        }
       }
      }
     },
     "metadata": {},
     "output_type": "display_data"
    }
   ],
   "source": [
    "# Saldo a liquidar por tipo de NE\n",
    "cols = ['NOME_UGR', 'A_LIQUIDAR']\n",
    "\n",
    "df_aux = df.loc[:, cols].groupby('NOME_UGR').sum().sort_values(by= 'A_LIQUIDAR', ascending=False).reset_index()\n",
    "df_aux = df_aux[df_aux['A_LIQUIDAR'] > 0]\n",
    "fig = px.bar(df_aux, \n",
    "             x='NOME_UGR', \n",
    "             y='A_LIQUIDAR',\n",
    "             title='Saldo a liquidar por ano do empenho',\n",
    "             labels={'NOME_UGR':'Nome das UGR', 'A_LIQUIDAR':'Saldo a liquidar'},\n",
    "             text_auto='.3s',\n",
    "             height=400,\n",
    "             log_y=True,\n",
    "             color='A_LIQUIDAR',\n",
    "             color_continuous_scale = 'reds',\n",
    "             template='plotly_dark')\n",
    "fig.update_traces(textposition = 'outside', cliponaxis = False, hovertemplate=None)\n",
    "fig.update_layout(hovermode=\"x unified\")\n",
    "\n",
    "fig.show()"
   ]
  },
  {
   "cell_type": "code",
   "execution_count": 14,
   "metadata": {},
   "outputs": [
    {
     "data": {
      "application/vnd.plotly.v1+json": {
       "config": {
        "plotlyServerURL": "https://plot.ly"
       },
       "data": [
        {
         "cliponaxis": false,
         "name": "A Liquidar",
         "textposition": "outside",
         "type": "bar",
         "x": [
          "339039",
          "339033",
          "339030",
          "449052",
          "339040",
          "339037",
          "339015",
          "339093",
          "339036",
          "339147"
         ],
         "y": [
          2833409.23,
          2264838.99,
          1884206.37,
          530175.04,
          213099.4,
          175941.4,
          109140.97,
          64089.14,
          16661.35,
          3332.25
         ]
        },
        {
         "cliponaxis": false,
         "name": "Liquidado a pagar",
         "textposition": "outside",
         "type": "bar",
         "x": [
          "339039",
          "339033",
          "339030",
          "449052",
          "339040",
          "339037",
          "339015",
          "339093",
          "339036",
          "339147"
         ],
         "y": [
          146751.46,
          31112.95,
          286717.76,
          907.92,
          13344.68,
          41497.34,
          26607.5,
          7891.18,
          0,
          0
         ]
        },
        {
         "cliponaxis": false,
         "name": "Pago",
         "textposition": "outside",
         "type": "bar",
         "x": [
          "339039",
          "339033",
          "339030",
          "449052",
          "339040",
          "339037",
          "339015",
          "339093",
          "339036",
          "339147"
         ],
         "y": [
          2543724.6,
          82546.59,
          1072175.57,
          19407.27,
          42775.369999999995,
          77552.17,
          1417.95,
          94471.25,
          20185.63,
          4037.12
         ]
        }
       ],
       "layout": {
        "hovermode": "x unified",
        "template": {
         "data": {
          "bar": [
           {
            "error_x": {
             "color": "#2a3f5f"
            },
            "error_y": {
             "color": "#2a3f5f"
            },
            "marker": {
             "line": {
              "color": "#E5ECF6",
              "width": 0.5
             },
             "pattern": {
              "fillmode": "overlay",
              "size": 10,
              "solidity": 0.2
             }
            },
            "type": "bar"
           }
          ],
          "barpolar": [
           {
            "marker": {
             "line": {
              "color": "#E5ECF6",
              "width": 0.5
             },
             "pattern": {
              "fillmode": "overlay",
              "size": 10,
              "solidity": 0.2
             }
            },
            "type": "barpolar"
           }
          ],
          "carpet": [
           {
            "aaxis": {
             "endlinecolor": "#2a3f5f",
             "gridcolor": "white",
             "linecolor": "white",
             "minorgridcolor": "white",
             "startlinecolor": "#2a3f5f"
            },
            "baxis": {
             "endlinecolor": "#2a3f5f",
             "gridcolor": "white",
             "linecolor": "white",
             "minorgridcolor": "white",
             "startlinecolor": "#2a3f5f"
            },
            "type": "carpet"
           }
          ],
          "choropleth": [
           {
            "colorbar": {
             "outlinewidth": 0,
             "ticks": ""
            },
            "type": "choropleth"
           }
          ],
          "contour": [
           {
            "colorbar": {
             "outlinewidth": 0,
             "ticks": ""
            },
            "colorscale": [
             [
              0,
              "#0d0887"
             ],
             [
              0.1111111111111111,
              "#46039f"
             ],
             [
              0.2222222222222222,
              "#7201a8"
             ],
             [
              0.3333333333333333,
              "#9c179e"
             ],
             [
              0.4444444444444444,
              "#bd3786"
             ],
             [
              0.5555555555555556,
              "#d8576b"
             ],
             [
              0.6666666666666666,
              "#ed7953"
             ],
             [
              0.7777777777777778,
              "#fb9f3a"
             ],
             [
              0.8888888888888888,
              "#fdca26"
             ],
             [
              1,
              "#f0f921"
             ]
            ],
            "type": "contour"
           }
          ],
          "contourcarpet": [
           {
            "colorbar": {
             "outlinewidth": 0,
             "ticks": ""
            },
            "type": "contourcarpet"
           }
          ],
          "heatmap": [
           {
            "colorbar": {
             "outlinewidth": 0,
             "ticks": ""
            },
            "colorscale": [
             [
              0,
              "#0d0887"
             ],
             [
              0.1111111111111111,
              "#46039f"
             ],
             [
              0.2222222222222222,
              "#7201a8"
             ],
             [
              0.3333333333333333,
              "#9c179e"
             ],
             [
              0.4444444444444444,
              "#bd3786"
             ],
             [
              0.5555555555555556,
              "#d8576b"
             ],
             [
              0.6666666666666666,
              "#ed7953"
             ],
             [
              0.7777777777777778,
              "#fb9f3a"
             ],
             [
              0.8888888888888888,
              "#fdca26"
             ],
             [
              1,
              "#f0f921"
             ]
            ],
            "type": "heatmap"
           }
          ],
          "heatmapgl": [
           {
            "colorbar": {
             "outlinewidth": 0,
             "ticks": ""
            },
            "colorscale": [
             [
              0,
              "#0d0887"
             ],
             [
              0.1111111111111111,
              "#46039f"
             ],
             [
              0.2222222222222222,
              "#7201a8"
             ],
             [
              0.3333333333333333,
              "#9c179e"
             ],
             [
              0.4444444444444444,
              "#bd3786"
             ],
             [
              0.5555555555555556,
              "#d8576b"
             ],
             [
              0.6666666666666666,
              "#ed7953"
             ],
             [
              0.7777777777777778,
              "#fb9f3a"
             ],
             [
              0.8888888888888888,
              "#fdca26"
             ],
             [
              1,
              "#f0f921"
             ]
            ],
            "type": "heatmapgl"
           }
          ],
          "histogram": [
           {
            "marker": {
             "pattern": {
              "fillmode": "overlay",
              "size": 10,
              "solidity": 0.2
             }
            },
            "type": "histogram"
           }
          ],
          "histogram2d": [
           {
            "colorbar": {
             "outlinewidth": 0,
             "ticks": ""
            },
            "colorscale": [
             [
              0,
              "#0d0887"
             ],
             [
              0.1111111111111111,
              "#46039f"
             ],
             [
              0.2222222222222222,
              "#7201a8"
             ],
             [
              0.3333333333333333,
              "#9c179e"
             ],
             [
              0.4444444444444444,
              "#bd3786"
             ],
             [
              0.5555555555555556,
              "#d8576b"
             ],
             [
              0.6666666666666666,
              "#ed7953"
             ],
             [
              0.7777777777777778,
              "#fb9f3a"
             ],
             [
              0.8888888888888888,
              "#fdca26"
             ],
             [
              1,
              "#f0f921"
             ]
            ],
            "type": "histogram2d"
           }
          ],
          "histogram2dcontour": [
           {
            "colorbar": {
             "outlinewidth": 0,
             "ticks": ""
            },
            "colorscale": [
             [
              0,
              "#0d0887"
             ],
             [
              0.1111111111111111,
              "#46039f"
             ],
             [
              0.2222222222222222,
              "#7201a8"
             ],
             [
              0.3333333333333333,
              "#9c179e"
             ],
             [
              0.4444444444444444,
              "#bd3786"
             ],
             [
              0.5555555555555556,
              "#d8576b"
             ],
             [
              0.6666666666666666,
              "#ed7953"
             ],
             [
              0.7777777777777778,
              "#fb9f3a"
             ],
             [
              0.8888888888888888,
              "#fdca26"
             ],
             [
              1,
              "#f0f921"
             ]
            ],
            "type": "histogram2dcontour"
           }
          ],
          "mesh3d": [
           {
            "colorbar": {
             "outlinewidth": 0,
             "ticks": ""
            },
            "type": "mesh3d"
           }
          ],
          "parcoords": [
           {
            "line": {
             "colorbar": {
              "outlinewidth": 0,
              "ticks": ""
             }
            },
            "type": "parcoords"
           }
          ],
          "pie": [
           {
            "automargin": true,
            "type": "pie"
           }
          ],
          "scatter": [
           {
            "fillpattern": {
             "fillmode": "overlay",
             "size": 10,
             "solidity": 0.2
            },
            "type": "scatter"
           }
          ],
          "scatter3d": [
           {
            "line": {
             "colorbar": {
              "outlinewidth": 0,
              "ticks": ""
             }
            },
            "marker": {
             "colorbar": {
              "outlinewidth": 0,
              "ticks": ""
             }
            },
            "type": "scatter3d"
           }
          ],
          "scattercarpet": [
           {
            "marker": {
             "colorbar": {
              "outlinewidth": 0,
              "ticks": ""
             }
            },
            "type": "scattercarpet"
           }
          ],
          "scattergeo": [
           {
            "marker": {
             "colorbar": {
              "outlinewidth": 0,
              "ticks": ""
             }
            },
            "type": "scattergeo"
           }
          ],
          "scattergl": [
           {
            "marker": {
             "colorbar": {
              "outlinewidth": 0,
              "ticks": ""
             }
            },
            "type": "scattergl"
           }
          ],
          "scattermapbox": [
           {
            "marker": {
             "colorbar": {
              "outlinewidth": 0,
              "ticks": ""
             }
            },
            "type": "scattermapbox"
           }
          ],
          "scatterpolar": [
           {
            "marker": {
             "colorbar": {
              "outlinewidth": 0,
              "ticks": ""
             }
            },
            "type": "scatterpolar"
           }
          ],
          "scatterpolargl": [
           {
            "marker": {
             "colorbar": {
              "outlinewidth": 0,
              "ticks": ""
             }
            },
            "type": "scatterpolargl"
           }
          ],
          "scatterternary": [
           {
            "marker": {
             "colorbar": {
              "outlinewidth": 0,
              "ticks": ""
             }
            },
            "type": "scatterternary"
           }
          ],
          "surface": [
           {
            "colorbar": {
             "outlinewidth": 0,
             "ticks": ""
            },
            "colorscale": [
             [
              0,
              "#0d0887"
             ],
             [
              0.1111111111111111,
              "#46039f"
             ],
             [
              0.2222222222222222,
              "#7201a8"
             ],
             [
              0.3333333333333333,
              "#9c179e"
             ],
             [
              0.4444444444444444,
              "#bd3786"
             ],
             [
              0.5555555555555556,
              "#d8576b"
             ],
             [
              0.6666666666666666,
              "#ed7953"
             ],
             [
              0.7777777777777778,
              "#fb9f3a"
             ],
             [
              0.8888888888888888,
              "#fdca26"
             ],
             [
              1,
              "#f0f921"
             ]
            ],
            "type": "surface"
           }
          ],
          "table": [
           {
            "cells": {
             "fill": {
              "color": "#EBF0F8"
             },
             "line": {
              "color": "white"
             }
            },
            "header": {
             "fill": {
              "color": "#C8D4E3"
             },
             "line": {
              "color": "white"
             }
            },
            "type": "table"
           }
          ]
         },
         "layout": {
          "annotationdefaults": {
           "arrowcolor": "#2a3f5f",
           "arrowhead": 0,
           "arrowwidth": 1
          },
          "autotypenumbers": "strict",
          "coloraxis": {
           "colorbar": {
            "outlinewidth": 0,
            "ticks": ""
           }
          },
          "colorscale": {
           "diverging": [
            [
             0,
             "#8e0152"
            ],
            [
             0.1,
             "#c51b7d"
            ],
            [
             0.2,
             "#de77ae"
            ],
            [
             0.3,
             "#f1b6da"
            ],
            [
             0.4,
             "#fde0ef"
            ],
            [
             0.5,
             "#f7f7f7"
            ],
            [
             0.6,
             "#e6f5d0"
            ],
            [
             0.7,
             "#b8e186"
            ],
            [
             0.8,
             "#7fbc41"
            ],
            [
             0.9,
             "#4d9221"
            ],
            [
             1,
             "#276419"
            ]
           ],
           "sequential": [
            [
             0,
             "#0d0887"
            ],
            [
             0.1111111111111111,
             "#46039f"
            ],
            [
             0.2222222222222222,
             "#7201a8"
            ],
            [
             0.3333333333333333,
             "#9c179e"
            ],
            [
             0.4444444444444444,
             "#bd3786"
            ],
            [
             0.5555555555555556,
             "#d8576b"
            ],
            [
             0.6666666666666666,
             "#ed7953"
            ],
            [
             0.7777777777777778,
             "#fb9f3a"
            ],
            [
             0.8888888888888888,
             "#fdca26"
            ],
            [
             1,
             "#f0f921"
            ]
           ],
           "sequentialminus": [
            [
             0,
             "#0d0887"
            ],
            [
             0.1111111111111111,
             "#46039f"
            ],
            [
             0.2222222222222222,
             "#7201a8"
            ],
            [
             0.3333333333333333,
             "#9c179e"
            ],
            [
             0.4444444444444444,
             "#bd3786"
            ],
            [
             0.5555555555555556,
             "#d8576b"
            ],
            [
             0.6666666666666666,
             "#ed7953"
            ],
            [
             0.7777777777777778,
             "#fb9f3a"
            ],
            [
             0.8888888888888888,
             "#fdca26"
            ],
            [
             1,
             "#f0f921"
            ]
           ]
          },
          "colorway": [
           "#636efa",
           "#EF553B",
           "#00cc96",
           "#ab63fa",
           "#FFA15A",
           "#19d3f3",
           "#FF6692",
           "#B6E880",
           "#FF97FF",
           "#FECB52"
          ],
          "font": {
           "color": "#2a3f5f"
          },
          "geo": {
           "bgcolor": "white",
           "lakecolor": "white",
           "landcolor": "#E5ECF6",
           "showlakes": true,
           "showland": true,
           "subunitcolor": "white"
          },
          "hoverlabel": {
           "align": "left"
          },
          "hovermode": "closest",
          "mapbox": {
           "style": "light"
          },
          "paper_bgcolor": "white",
          "plot_bgcolor": "#E5ECF6",
          "polar": {
           "angularaxis": {
            "gridcolor": "white",
            "linecolor": "white",
            "ticks": ""
           },
           "bgcolor": "#E5ECF6",
           "radialaxis": {
            "gridcolor": "white",
            "linecolor": "white",
            "ticks": ""
           }
          },
          "scene": {
           "xaxis": {
            "backgroundcolor": "#E5ECF6",
            "gridcolor": "white",
            "gridwidth": 2,
            "linecolor": "white",
            "showbackground": true,
            "ticks": "",
            "zerolinecolor": "white"
           },
           "yaxis": {
            "backgroundcolor": "#E5ECF6",
            "gridcolor": "white",
            "gridwidth": 2,
            "linecolor": "white",
            "showbackground": true,
            "ticks": "",
            "zerolinecolor": "white"
           },
           "zaxis": {
            "backgroundcolor": "#E5ECF6",
            "gridcolor": "white",
            "gridwidth": 2,
            "linecolor": "white",
            "showbackground": true,
            "ticks": "",
            "zerolinecolor": "white"
           }
          },
          "shapedefaults": {
           "line": {
            "color": "#2a3f5f"
           }
          },
          "ternary": {
           "aaxis": {
            "gridcolor": "white",
            "linecolor": "white",
            "ticks": ""
           },
           "baxis": {
            "gridcolor": "white",
            "linecolor": "white",
            "ticks": ""
           },
           "bgcolor": "#E5ECF6",
           "caxis": {
            "gridcolor": "white",
            "linecolor": "white",
            "ticks": ""
           }
          },
          "title": {
           "x": 0.05
          },
          "xaxis": {
           "automargin": true,
           "gridcolor": "white",
           "linecolor": "white",
           "ticks": "",
           "title": {
            "standoff": 15
           },
           "zerolinecolor": "white",
           "zerolinewidth": 2
          },
          "yaxis": {
           "automargin": true,
           "gridcolor": "white",
           "linecolor": "white",
           "ticks": "",
           "title": {
            "standoff": 15
           },
           "zerolinecolor": "white",
           "zerolinewidth": 2
          }
         }
        },
        "yaxis": {
         "type": "log"
        }
       }
      }
     },
     "metadata": {},
     "output_type": "display_data"
    }
   ],
   "source": [
    "# Saldo a liquidar por ND\n",
    "cols = ['ND', 'A_LIQUIDAR', 'LIQUIDADO_A_PAGAR', 'PAGO']\n",
    "\n",
    "df_aux = df.loc[:, cols].groupby('ND').sum().sort_values(by= 'A_LIQUIDAR', ascending=False).reset_index()\n",
    "df_aux = df_aux[df_aux['A_LIQUIDAR'] > 0]\n",
    "# Criando o gráfico\n",
    "fig = go.Figure()\n",
    "\n",
    "# Adicionando as colunas y1, y2 e y3 no eixo y\n",
    "fig.add_trace(go.Bar(x=df_aux['ND'], y=df_aux['A_LIQUIDAR'], name='A Liquidar'))\n",
    "fig.add_trace(go.Bar(x=df_aux['ND'], y=df_aux['LIQUIDADO_A_PAGAR'], name='Liquidado a pagar'))\n",
    "fig.add_trace(go.Bar(x=df_aux['ND'], y=df_aux['PAGO'], name='Pago'))\n",
    "\n",
    "fig.update_traces(textposition = 'outside', cliponaxis = False, hovertemplate=None)\n",
    "fig.update_layout(hovermode=\"x unified\")\n",
    "fig.update_yaxes(type=\"log\")\n",
    "\n",
    "fig.show()"
   ]
  },
  {
   "cell_type": "markdown",
   "metadata": {},
   "source": [
    "# Suporte para o Dashboard"
   ]
  },
  {
   "cell_type": "code",
   "execution_count": 15,
   "metadata": {},
   "outputs": [
    {
     "data": {
      "text/html": [
       "<div>\n",
       "<style scoped>\n",
       "    .dataframe tbody tr th:only-of-type {\n",
       "        vertical-align: middle;\n",
       "    }\n",
       "\n",
       "    .dataframe tbody tr th {\n",
       "        vertical-align: top;\n",
       "    }\n",
       "\n",
       "    .dataframe thead th {\n",
       "        text-align: right;\n",
       "    }\n",
       "</style>\n",
       "<table border=\"1\" class=\"dataframe\">\n",
       "  <thead>\n",
       "    <tr style=\"text-align: right;\">\n",
       "      <th></th>\n",
       "      <th>NE</th>\n",
       "      <th>A_LIQUIDAR</th>\n",
       "      <th>DIAS</th>\n",
       "      <th>NOME_NDSI</th>\n",
       "      <th>NDSI</th>\n",
       "    </tr>\n",
       "  </thead>\n",
       "  <tbody>\n",
       "    <tr>\n",
       "      <th>61</th>\n",
       "      <td>2023NE000033</td>\n",
       "      <td>3236.21</td>\n",
       "      <td>752</td>\n",
       "      <td>PASSAGENS PARA O PAIS</td>\n",
       "      <td>33903301</td>\n",
       "    </tr>\n",
       "    <tr>\n",
       "      <th>237</th>\n",
       "      <td>2023NE001678</td>\n",
       "      <td>4794.00</td>\n",
       "      <td>493</td>\n",
       "      <td>MANUTENCAO E CONSERVACAO DE EQUIPAMENTOS DE TIC</td>\n",
       "      <td>33904012</td>\n",
       "    </tr>\n",
       "    <tr>\n",
       "      <th>199</th>\n",
       "      <td>2024NE000011</td>\n",
       "      <td>9273.13</td>\n",
       "      <td>398</td>\n",
       "      <td>PASSAGENS PARA O PAIS</td>\n",
       "      <td>33903301</td>\n",
       "    </tr>\n",
       "    <tr>\n",
       "      <th>200</th>\n",
       "      <td>2024NE000124</td>\n",
       "      <td>3268.98</td>\n",
       "      <td>364</td>\n",
       "      <td>PASSAGENS PARA O PAIS</td>\n",
       "      <td>33903301</td>\n",
       "    </tr>\n",
       "    <tr>\n",
       "      <th>217</th>\n",
       "      <td>2024NE000167</td>\n",
       "      <td>11216.60</td>\n",
       "      <td>363</td>\n",
       "      <td>SERVICOS DOMESTICOS</td>\n",
       "      <td>33903946</td>\n",
       "    </tr>\n",
       "    <tr>\n",
       "      <th>221</th>\n",
       "      <td>2024NE000238</td>\n",
       "      <td>836.08</td>\n",
       "      <td>355</td>\n",
       "      <td>SERVICOS DE COMUNICACAO EM GERAL</td>\n",
       "      <td>33903947</td>\n",
       "    </tr>\n",
       "    <tr>\n",
       "      <th>153</th>\n",
       "      <td>2024NE000269</td>\n",
       "      <td>0.56</td>\n",
       "      <td>346</td>\n",
       "      <td>MATERIAL P/ MANUTENCAO DE VEICULOS</td>\n",
       "      <td>33903039</td>\n",
       "    </tr>\n",
       "    <tr>\n",
       "      <th>218</th>\n",
       "      <td>2024NE000346</td>\n",
       "      <td>3988.00</td>\n",
       "      <td>326</td>\n",
       "      <td>SERVICOS DOMESTICOS</td>\n",
       "      <td>33903946</td>\n",
       "    </tr>\n",
       "    <tr>\n",
       "      <th>64</th>\n",
       "      <td>2024NE000354</td>\n",
       "      <td>30215.64</td>\n",
       "      <td>322</td>\n",
       "      <td>MANUTENCAO E CONSERV. DE BENS IMOVEIS</td>\n",
       "      <td>33903916</td>\n",
       "    </tr>\n",
       "    <tr>\n",
       "      <th>13</th>\n",
       "      <td>2024NE000363</td>\n",
       "      <td>20812.48</td>\n",
       "      <td>320</td>\n",
       "      <td>SERVICOS DE COMUNICACAO EM GERAL</td>\n",
       "      <td>33903947</td>\n",
       "    </tr>\n",
       "  </tbody>\n",
       "</table>\n",
       "</div>"
      ],
      "text/plain": [
       "               NE  A_LIQUIDAR  DIAS  \\\n",
       "61   2023NE000033     3236.21   752   \n",
       "237  2023NE001678     4794.00   493   \n",
       "199  2024NE000011     9273.13   398   \n",
       "200  2024NE000124     3268.98   364   \n",
       "217  2024NE000167    11216.60   363   \n",
       "221  2024NE000238      836.08   355   \n",
       "153  2024NE000269        0.56   346   \n",
       "218  2024NE000346     3988.00   326   \n",
       "64   2024NE000354    30215.64   322   \n",
       "13   2024NE000363    20812.48   320   \n",
       "\n",
       "                                           NOME_NDSI      NDSI  \n",
       "61                             PASSAGENS PARA O PAIS  33903301  \n",
       "237  MANUTENCAO E CONSERVACAO DE EQUIPAMENTOS DE TIC  33904012  \n",
       "199                            PASSAGENS PARA O PAIS  33903301  \n",
       "200                            PASSAGENS PARA O PAIS  33903301  \n",
       "217                              SERVICOS DOMESTICOS  33903946  \n",
       "221                 SERVICOS DE COMUNICACAO EM GERAL  33903947  \n",
       "153               MATERIAL P/ MANUTENCAO DE VEICULOS  33903039  \n",
       "218                              SERVICOS DOMESTICOS  33903946  \n",
       "64             MANUTENCAO E CONSERV. DE BENS IMOVEIS  33903916  \n",
       "13                  SERVICOS DE COMUNICACAO EM GERAL  33903947  "
      ]
     },
     "execution_count": 15,
     "metadata": {},
     "output_type": "execute_result"
    }
   ],
   "source": [
    "cols = ['NE', 'A_LIQUIDAR', 'DIAS', 'NOME_NDSI', 'NDSI']\n",
    "\n",
    "df_aux = df.loc[:, cols].sort_values(by='DIAS', ascending=False)\n",
    "df_aux = df_aux[df_aux['A_LIQUIDAR'] != 0].head(10)\n",
    "df_aux"
   ]
  },
  {
   "cell_type": "code",
   "execution_count": 16,
   "metadata": {},
   "outputs": [
    {
     "data": {
      "application/vnd.plotly.v1+json": {
       "config": {
        "plotlyServerURL": "https://plot.ly"
       },
       "data": [
        {
         "alignmentgroup": "True",
         "customdata": [
          [
           752,
           "PASSAGENS PARA O PAIS",
           "33903301"
          ],
          [
           493,
           "MANUTENCAO E CONSERVACAO DE EQUIPAMENTOS DE TIC",
           "33904012"
          ],
          [
           398,
           "PASSAGENS PARA O PAIS",
           "33903301"
          ],
          [
           364,
           "PASSAGENS PARA O PAIS",
           "33903301"
          ],
          [
           363,
           "SERVICOS DOMESTICOS",
           "33903946"
          ],
          [
           355,
           "SERVICOS DE COMUNICACAO EM GERAL",
           "33903947"
          ],
          [
           346,
           "MATERIAL P/ MANUTENCAO DE VEICULOS",
           "33903039"
          ],
          [
           326,
           "SERVICOS DOMESTICOS",
           "33903946"
          ],
          [
           322,
           "MANUTENCAO E CONSERV. DE BENS IMOVEIS",
           "33903916"
          ],
          [
           320,
           "SERVICOS DE COMUNICACAO EM GERAL",
           "33903947"
          ]
         ],
         "hovertemplate": "<b>%{hovertext}</b><br><br>Nota de Empenho=%{x}<br>Saldo a liquidar=%{y}<br>DIAS=%{marker.color}<br>NOME_NDSI=%{customdata[1]}<br>NDSI=%{customdata[2]}<extra></extra>",
         "hovertext": [
          "2023NE000033",
          "2023NE001678",
          "2024NE000011",
          "2024NE000124",
          "2024NE000167",
          "2024NE000238",
          "2024NE000269",
          "2024NE000346",
          "2024NE000354",
          "2024NE000363"
         ],
         "legendgroup": "",
         "marker": {
          "color": [
           752,
           493,
           398,
           364,
           363,
           355,
           346,
           326,
           322,
           320
          ],
          "coloraxis": "coloraxis",
          "pattern": {
           "shape": ""
          }
         },
         "name": "",
         "offsetgroup": "",
         "orientation": "v",
         "showlegend": false,
         "textposition": "outside",
         "texttemplate": "%{y:.3s}",
         "type": "bar",
         "x": [
          "2023NE000033",
          "2023NE001678",
          "2024NE000011",
          "2024NE000124",
          "2024NE000167",
          "2024NE000238",
          "2024NE000269",
          "2024NE000346",
          "2024NE000354",
          "2024NE000363"
         ],
         "xaxis": "x",
         "y": [
          3236.21,
          4794,
          9273.13,
          3268.98,
          11216.6,
          836.08,
          0.56,
          3988,
          30215.64,
          20812.48
         ],
         "yaxis": "y"
        }
       ],
       "layout": {
        "barmode": "relative",
        "coloraxis": {
         "colorbar": {
          "title": {
           "text": "DIAS"
          }
         },
         "colorscale": [
          [
           0,
           "rgb(255,245,240)"
          ],
          [
           0.125,
           "rgb(254,224,210)"
          ],
          [
           0.25,
           "rgb(252,187,161)"
          ],
          [
           0.375,
           "rgb(252,146,114)"
          ],
          [
           0.5,
           "rgb(251,106,74)"
          ],
          [
           0.625,
           "rgb(239,59,44)"
          ],
          [
           0.75,
           "rgb(203,24,29)"
          ],
          [
           0.875,
           "rgb(165,15,21)"
          ],
          [
           1,
           "rgb(103,0,13)"
          ]
         ]
        },
        "legend": {
         "tracegroupgap": 0
        },
        "template": {
         "data": {
          "bar": [
           {
            "error_x": {
             "color": "#f2f5fa"
            },
            "error_y": {
             "color": "#f2f5fa"
            },
            "marker": {
             "line": {
              "color": "rgb(17,17,17)",
              "width": 0.5
             },
             "pattern": {
              "fillmode": "overlay",
              "size": 10,
              "solidity": 0.2
             }
            },
            "type": "bar"
           }
          ],
          "barpolar": [
           {
            "marker": {
             "line": {
              "color": "rgb(17,17,17)",
              "width": 0.5
             },
             "pattern": {
              "fillmode": "overlay",
              "size": 10,
              "solidity": 0.2
             }
            },
            "type": "barpolar"
           }
          ],
          "carpet": [
           {
            "aaxis": {
             "endlinecolor": "#A2B1C6",
             "gridcolor": "#506784",
             "linecolor": "#506784",
             "minorgridcolor": "#506784",
             "startlinecolor": "#A2B1C6"
            },
            "baxis": {
             "endlinecolor": "#A2B1C6",
             "gridcolor": "#506784",
             "linecolor": "#506784",
             "minorgridcolor": "#506784",
             "startlinecolor": "#A2B1C6"
            },
            "type": "carpet"
           }
          ],
          "choropleth": [
           {
            "colorbar": {
             "outlinewidth": 0,
             "ticks": ""
            },
            "type": "choropleth"
           }
          ],
          "contour": [
           {
            "colorbar": {
             "outlinewidth": 0,
             "ticks": ""
            },
            "colorscale": [
             [
              0,
              "#0d0887"
             ],
             [
              0.1111111111111111,
              "#46039f"
             ],
             [
              0.2222222222222222,
              "#7201a8"
             ],
             [
              0.3333333333333333,
              "#9c179e"
             ],
             [
              0.4444444444444444,
              "#bd3786"
             ],
             [
              0.5555555555555556,
              "#d8576b"
             ],
             [
              0.6666666666666666,
              "#ed7953"
             ],
             [
              0.7777777777777778,
              "#fb9f3a"
             ],
             [
              0.8888888888888888,
              "#fdca26"
             ],
             [
              1,
              "#f0f921"
             ]
            ],
            "type": "contour"
           }
          ],
          "contourcarpet": [
           {
            "colorbar": {
             "outlinewidth": 0,
             "ticks": ""
            },
            "type": "contourcarpet"
           }
          ],
          "heatmap": [
           {
            "colorbar": {
             "outlinewidth": 0,
             "ticks": ""
            },
            "colorscale": [
             [
              0,
              "#0d0887"
             ],
             [
              0.1111111111111111,
              "#46039f"
             ],
             [
              0.2222222222222222,
              "#7201a8"
             ],
             [
              0.3333333333333333,
              "#9c179e"
             ],
             [
              0.4444444444444444,
              "#bd3786"
             ],
             [
              0.5555555555555556,
              "#d8576b"
             ],
             [
              0.6666666666666666,
              "#ed7953"
             ],
             [
              0.7777777777777778,
              "#fb9f3a"
             ],
             [
              0.8888888888888888,
              "#fdca26"
             ],
             [
              1,
              "#f0f921"
             ]
            ],
            "type": "heatmap"
           }
          ],
          "heatmapgl": [
           {
            "colorbar": {
             "outlinewidth": 0,
             "ticks": ""
            },
            "colorscale": [
             [
              0,
              "#0d0887"
             ],
             [
              0.1111111111111111,
              "#46039f"
             ],
             [
              0.2222222222222222,
              "#7201a8"
             ],
             [
              0.3333333333333333,
              "#9c179e"
             ],
             [
              0.4444444444444444,
              "#bd3786"
             ],
             [
              0.5555555555555556,
              "#d8576b"
             ],
             [
              0.6666666666666666,
              "#ed7953"
             ],
             [
              0.7777777777777778,
              "#fb9f3a"
             ],
             [
              0.8888888888888888,
              "#fdca26"
             ],
             [
              1,
              "#f0f921"
             ]
            ],
            "type": "heatmapgl"
           }
          ],
          "histogram": [
           {
            "marker": {
             "pattern": {
              "fillmode": "overlay",
              "size": 10,
              "solidity": 0.2
             }
            },
            "type": "histogram"
           }
          ],
          "histogram2d": [
           {
            "colorbar": {
             "outlinewidth": 0,
             "ticks": ""
            },
            "colorscale": [
             [
              0,
              "#0d0887"
             ],
             [
              0.1111111111111111,
              "#46039f"
             ],
             [
              0.2222222222222222,
              "#7201a8"
             ],
             [
              0.3333333333333333,
              "#9c179e"
             ],
             [
              0.4444444444444444,
              "#bd3786"
             ],
             [
              0.5555555555555556,
              "#d8576b"
             ],
             [
              0.6666666666666666,
              "#ed7953"
             ],
             [
              0.7777777777777778,
              "#fb9f3a"
             ],
             [
              0.8888888888888888,
              "#fdca26"
             ],
             [
              1,
              "#f0f921"
             ]
            ],
            "type": "histogram2d"
           }
          ],
          "histogram2dcontour": [
           {
            "colorbar": {
             "outlinewidth": 0,
             "ticks": ""
            },
            "colorscale": [
             [
              0,
              "#0d0887"
             ],
             [
              0.1111111111111111,
              "#46039f"
             ],
             [
              0.2222222222222222,
              "#7201a8"
             ],
             [
              0.3333333333333333,
              "#9c179e"
             ],
             [
              0.4444444444444444,
              "#bd3786"
             ],
             [
              0.5555555555555556,
              "#d8576b"
             ],
             [
              0.6666666666666666,
              "#ed7953"
             ],
             [
              0.7777777777777778,
              "#fb9f3a"
             ],
             [
              0.8888888888888888,
              "#fdca26"
             ],
             [
              1,
              "#f0f921"
             ]
            ],
            "type": "histogram2dcontour"
           }
          ],
          "mesh3d": [
           {
            "colorbar": {
             "outlinewidth": 0,
             "ticks": ""
            },
            "type": "mesh3d"
           }
          ],
          "parcoords": [
           {
            "line": {
             "colorbar": {
              "outlinewidth": 0,
              "ticks": ""
             }
            },
            "type": "parcoords"
           }
          ],
          "pie": [
           {
            "automargin": true,
            "type": "pie"
           }
          ],
          "scatter": [
           {
            "marker": {
             "line": {
              "color": "#283442"
             }
            },
            "type": "scatter"
           }
          ],
          "scatter3d": [
           {
            "line": {
             "colorbar": {
              "outlinewidth": 0,
              "ticks": ""
             }
            },
            "marker": {
             "colorbar": {
              "outlinewidth": 0,
              "ticks": ""
             }
            },
            "type": "scatter3d"
           }
          ],
          "scattercarpet": [
           {
            "marker": {
             "colorbar": {
              "outlinewidth": 0,
              "ticks": ""
             }
            },
            "type": "scattercarpet"
           }
          ],
          "scattergeo": [
           {
            "marker": {
             "colorbar": {
              "outlinewidth": 0,
              "ticks": ""
             }
            },
            "type": "scattergeo"
           }
          ],
          "scattergl": [
           {
            "marker": {
             "line": {
              "color": "#283442"
             }
            },
            "type": "scattergl"
           }
          ],
          "scattermapbox": [
           {
            "marker": {
             "colorbar": {
              "outlinewidth": 0,
              "ticks": ""
             }
            },
            "type": "scattermapbox"
           }
          ],
          "scatterpolar": [
           {
            "marker": {
             "colorbar": {
              "outlinewidth": 0,
              "ticks": ""
             }
            },
            "type": "scatterpolar"
           }
          ],
          "scatterpolargl": [
           {
            "marker": {
             "colorbar": {
              "outlinewidth": 0,
              "ticks": ""
             }
            },
            "type": "scatterpolargl"
           }
          ],
          "scatterternary": [
           {
            "marker": {
             "colorbar": {
              "outlinewidth": 0,
              "ticks": ""
             }
            },
            "type": "scatterternary"
           }
          ],
          "surface": [
           {
            "colorbar": {
             "outlinewidth": 0,
             "ticks": ""
            },
            "colorscale": [
             [
              0,
              "#0d0887"
             ],
             [
              0.1111111111111111,
              "#46039f"
             ],
             [
              0.2222222222222222,
              "#7201a8"
             ],
             [
              0.3333333333333333,
              "#9c179e"
             ],
             [
              0.4444444444444444,
              "#bd3786"
             ],
             [
              0.5555555555555556,
              "#d8576b"
             ],
             [
              0.6666666666666666,
              "#ed7953"
             ],
             [
              0.7777777777777778,
              "#fb9f3a"
             ],
             [
              0.8888888888888888,
              "#fdca26"
             ],
             [
              1,
              "#f0f921"
             ]
            ],
            "type": "surface"
           }
          ],
          "table": [
           {
            "cells": {
             "fill": {
              "color": "#506784"
             },
             "line": {
              "color": "rgb(17,17,17)"
             }
            },
            "header": {
             "fill": {
              "color": "#2a3f5f"
             },
             "line": {
              "color": "rgb(17,17,17)"
             }
            },
            "type": "table"
           }
          ]
         },
         "layout": {
          "annotationdefaults": {
           "arrowcolor": "#f2f5fa",
           "arrowhead": 0,
           "arrowwidth": 1
          },
          "autotypenumbers": "strict",
          "coloraxis": {
           "colorbar": {
            "outlinewidth": 0,
            "ticks": ""
           }
          },
          "colorscale": {
           "diverging": [
            [
             0,
             "#8e0152"
            ],
            [
             0.1,
             "#c51b7d"
            ],
            [
             0.2,
             "#de77ae"
            ],
            [
             0.3,
             "#f1b6da"
            ],
            [
             0.4,
             "#fde0ef"
            ],
            [
             0.5,
             "#f7f7f7"
            ],
            [
             0.6,
             "#e6f5d0"
            ],
            [
             0.7,
             "#b8e186"
            ],
            [
             0.8,
             "#7fbc41"
            ],
            [
             0.9,
             "#4d9221"
            ],
            [
             1,
             "#276419"
            ]
           ],
           "sequential": [
            [
             0,
             "#0d0887"
            ],
            [
             0.1111111111111111,
             "#46039f"
            ],
            [
             0.2222222222222222,
             "#7201a8"
            ],
            [
             0.3333333333333333,
             "#9c179e"
            ],
            [
             0.4444444444444444,
             "#bd3786"
            ],
            [
             0.5555555555555556,
             "#d8576b"
            ],
            [
             0.6666666666666666,
             "#ed7953"
            ],
            [
             0.7777777777777778,
             "#fb9f3a"
            ],
            [
             0.8888888888888888,
             "#fdca26"
            ],
            [
             1,
             "#f0f921"
            ]
           ],
           "sequentialminus": [
            [
             0,
             "#0d0887"
            ],
            [
             0.1111111111111111,
             "#46039f"
            ],
            [
             0.2222222222222222,
             "#7201a8"
            ],
            [
             0.3333333333333333,
             "#9c179e"
            ],
            [
             0.4444444444444444,
             "#bd3786"
            ],
            [
             0.5555555555555556,
             "#d8576b"
            ],
            [
             0.6666666666666666,
             "#ed7953"
            ],
            [
             0.7777777777777778,
             "#fb9f3a"
            ],
            [
             0.8888888888888888,
             "#fdca26"
            ],
            [
             1,
             "#f0f921"
            ]
           ]
          },
          "colorway": [
           "#636efa",
           "#EF553B",
           "#00cc96",
           "#ab63fa",
           "#FFA15A",
           "#19d3f3",
           "#FF6692",
           "#B6E880",
           "#FF97FF",
           "#FECB52"
          ],
          "font": {
           "color": "#f2f5fa"
          },
          "geo": {
           "bgcolor": "rgb(17,17,17)",
           "lakecolor": "rgb(17,17,17)",
           "landcolor": "rgb(17,17,17)",
           "showlakes": true,
           "showland": true,
           "subunitcolor": "#506784"
          },
          "hoverlabel": {
           "align": "left"
          },
          "hovermode": "closest",
          "mapbox": {
           "style": "dark"
          },
          "paper_bgcolor": "rgb(17,17,17)",
          "plot_bgcolor": "rgb(17,17,17)",
          "polar": {
           "angularaxis": {
            "gridcolor": "#506784",
            "linecolor": "#506784",
            "ticks": ""
           },
           "bgcolor": "rgb(17,17,17)",
           "radialaxis": {
            "gridcolor": "#506784",
            "linecolor": "#506784",
            "ticks": ""
           }
          },
          "scene": {
           "xaxis": {
            "backgroundcolor": "rgb(17,17,17)",
            "gridcolor": "#506784",
            "gridwidth": 2,
            "linecolor": "#506784",
            "showbackground": true,
            "ticks": "",
            "zerolinecolor": "#C8D4E3"
           },
           "yaxis": {
            "backgroundcolor": "rgb(17,17,17)",
            "gridcolor": "#506784",
            "gridwidth": 2,
            "linecolor": "#506784",
            "showbackground": true,
            "ticks": "",
            "zerolinecolor": "#C8D4E3"
           },
           "zaxis": {
            "backgroundcolor": "rgb(17,17,17)",
            "gridcolor": "#506784",
            "gridwidth": 2,
            "linecolor": "#506784",
            "showbackground": true,
            "ticks": "",
            "zerolinecolor": "#C8D4E3"
           }
          },
          "shapedefaults": {
           "line": {
            "color": "#f2f5fa"
           }
          },
          "sliderdefaults": {
           "bgcolor": "#C8D4E3",
           "bordercolor": "rgb(17,17,17)",
           "borderwidth": 1,
           "tickwidth": 0
          },
          "ternary": {
           "aaxis": {
            "gridcolor": "#506784",
            "linecolor": "#506784",
            "ticks": ""
           },
           "baxis": {
            "gridcolor": "#506784",
            "linecolor": "#506784",
            "ticks": ""
           },
           "bgcolor": "rgb(17,17,17)",
           "caxis": {
            "gridcolor": "#506784",
            "linecolor": "#506784",
            "ticks": ""
           }
          },
          "title": {
           "x": 0.05
          },
          "updatemenudefaults": {
           "bgcolor": "#506784",
           "borderwidth": 0
          },
          "xaxis": {
           "automargin": true,
           "gridcolor": "#283442",
           "linecolor": "#506784",
           "ticks": "",
           "title": {
            "standoff": 15
           },
           "zerolinecolor": "#283442",
           "zerolinewidth": 2
          },
          "yaxis": {
           "automargin": true,
           "gridcolor": "#283442",
           "linecolor": "#506784",
           "ticks": "",
           "title": {
            "standoff": 15
           },
           "zerolinecolor": "#283442",
           "zerolinewidth": 2
          }
         }
        },
        "title": {
         "text": "10 empenhos com mais tempo na tela"
        },
        "xaxis": {
         "anchor": "y",
         "domain": [
          0,
          1
         ],
         "title": {
          "text": "Nota de Empenho"
         }
        },
        "yaxis": {
         "anchor": "x",
         "domain": [
          0,
          1
         ],
         "title": {
          "text": "Saldo a liquidar"
         },
         "type": "log"
        }
       }
      }
     },
     "metadata": {},
     "output_type": "display_data"
    }
   ],
   "source": [
    "# Saldo a liquidar por tipo de NE\n",
    "cols = ['NE', 'A_LIQUIDAR', 'DIAS', 'NOME_NDSI', 'NDSI']\n",
    "df_aux = df.loc[:, cols].sort_values(by='DIAS', ascending=False)\n",
    "df_aux = df_aux[df_aux['A_LIQUIDAR'] != 0].head(10)\n",
    "fig = px.bar(df_aux, \n",
    "             x='NE', \n",
    "             y='A_LIQUIDAR',\n",
    "             title='10 empenhos com mais tempo na tela',\n",
    "             labels={'NE':'Nota de Empenho', 'A_LIQUIDAR':'Saldo a liquidar'},\n",
    "             text_auto='.3s',\n",
    "             color='DIAS',\n",
    "             color_continuous_scale = 'reds',\n",
    "             log_y=True,\n",
    "             template='plotly_dark',\n",
    "             hover_name=\"NE\", hover_data={'DIAS': True, 'A_LIQUIDAR': True, 'NOME_NDSI': True, 'NDSI': True})\n",
    "fig.update_traces(textposition = 'outside')\n",
    "\n",
    "\n",
    "fig.show()"
   ]
  },
  {
   "cell_type": "markdown",
   "metadata": {},
   "source": [
    "## Informações para SideBar"
   ]
  },
  {
   "cell_type": "code",
   "execution_count": 17,
   "metadata": {},
   "outputs": [
    {
     "data": {
      "text/plain": [
       "789"
      ]
     },
     "execution_count": 17,
     "metadata": {},
     "output_type": "execute_result"
    }
   ],
   "source": [
    "# Qtde de empenhos realizados até o momento\n",
    "df.shape[0]"
   ]
  },
  {
   "cell_type": "markdown",
   "metadata": {},
   "source": [
    "# Requisição em API para consulta a CNPJ"
   ]
  },
  {
   "cell_type": "code",
   "execution_count": 18,
   "metadata": {},
   "outputs": [
    {
     "name": "stdout",
     "output_type": "stream",
     "text": [
      "{'abertura': '04/05/1999',\n",
      " 'atividade_principal': [{'code': '49.30-2-04',\n",
      "                          'text': 'Transporte rodoviário de mudanças'}],\n",
      " 'atividades_secundarias': [{'code': '49.30-2-01',\n",
      "                             'text': 'Transporte rodoviário de carga, exceto '\n",
      "                                     'produtos perigosos e mudanças, '\n",
      "                                     'municipal'},\n",
      "                            {'code': '49.30-2-02',\n",
      "                             'text': 'Transporte rodoviário de carga, exceto '\n",
      "                                     'produtos perigosos e mudanças, '\n",
      "                                     'intermunicipal, interestadual e '\n",
      "                                     'internacional'},\n",
      "                            {'code': '52.11-7-02', 'text': 'Guarda-móveis'},\n",
      "                            {'code': '68.10-2-02',\n",
      "                             'text': 'Aluguel de imóveis próprios'}],\n",
      " 'bairro': 'ZONA INDUSTRIAL (GUARA)',\n",
      " 'billing': {'database': True, 'free': True},\n",
      " 'capital_social': '93700.00',\n",
      " 'cep': '71.250-710',\n",
      " 'cnpj': '03.126.110/0001-92',\n",
      " 'complemento': 'LOTE;',\n",
      " 'data_situacao': '03/11/2005',\n",
      " 'data_situacao_especial': '',\n",
      " 'efr': '',\n",
      " 'email': '',\n",
      " 'extra': {},\n",
      " 'fantasia': 'MARCA SUL MUDANCAS',\n",
      " 'logradouro': 'SETOR SCIA QUADRA 8 CONJUNTO 8',\n",
      " 'motivo_situacao': '',\n",
      " 'municipio': 'BRASILIA',\n",
      " 'natureza_juridica': '206-2 - Sociedade Empresária Limitada',\n",
      " 'nome': 'MARCA SUL MUDANCAS E TRANSPORTES LTDA',\n",
      " 'numero': '13',\n",
      " 'porte': 'EMPRESA DE PEQUENO PORTE',\n",
      " 'qsa': [{'nome': 'LINDOMAR SELAU CARLOS', 'qual': '49-Sócio-Administrador'}],\n",
      " 'simei': {'data_exclusao': None,\n",
      "           'data_opcao': None,\n",
      "           'optante': False,\n",
      "           'ultima_atualizacao': '2025-02-08T23:59:59.000Z'},\n",
      " 'simples': {'data_exclusao': '31/10/2024',\n",
      "             'data_opcao': '01/01/2016',\n",
      "             'optante': False,\n",
      "             'ultima_atualizacao': '2025-02-08T23:59:59.000Z'},\n",
      " 'situacao': 'ATIVA',\n",
      " 'situacao_especial': '',\n",
      " 'status': 'OK',\n",
      " 'telefone': '(61) 8305-0179',\n",
      " 'tipo': 'MATRIZ',\n",
      " 'uf': 'DF',\n",
      " 'ultima_atualizacao': '2025-02-08T23:59:59.000Z'}\n"
     ]
    }
   ],
   "source": [
    "import requests\n",
    "from pprint import pprint\n",
    "\n",
    "url = \"https://receitaws.com.br/v1/cnpj/03126110000192\"\n",
    "\n",
    "headers = {\"Accept\": \"application/json\"}\n",
    "\n",
    "response = requests.get(url, headers=headers)\n",
    "\n",
    "pprint(response.json())"
   ]
  },
  {
   "cell_type": "code",
   "execution_count": 19,
   "metadata": {},
   "outputs": [
    {
     "name": "stdout",
     "output_type": "stream",
     "text": [
      "{'abertura': '28/08/2015',\n",
      " 'atividade_principal': [{'code': '26.21-3-00',\n",
      "                          'text': 'Fabricação de equipamentos de informática'}],\n",
      " 'atividades_secundarias': [{'code': '26.22-1-00',\n",
      "                             'text': 'Fabricação de periféricos para '\n",
      "                                     'equipamentos de informática'},\n",
      "                            {'code': '27.59-7-99',\n",
      "                             'text': 'Fabricação de outros aparelhos '\n",
      "                                     'eletrodomésticos não especificados '\n",
      "                                     'anteriormente, peças e acessórios'},\n",
      "                            {'code': '46.19-2-00',\n",
      "                             'text': 'Representantes comerciais e agentes do '\n",
      "                                     'comércio de mercadorias em geral não '\n",
      "                                     'especializado'},\n",
      "                            {'code': '46.51-6-01',\n",
      "                             'text': 'Comércio atacadista de equipamentos de '\n",
      "                                     'informática'},\n",
      "                            {'code': '47.54-7-01',\n",
      "                             'text': 'Comércio varejista de móveis'},\n",
      "                            {'code': '46.49-4-02',\n",
      "                             'text': 'Comércio atacadista de aparelhos '\n",
      "                                     'eletrônicos de uso pessoal e doméstico'},\n",
      "                            {'code': '46.47-8-02',\n",
      "                             'text': 'Comércio atacadista de livros, jornais e '\n",
      "                                     'outras publicações'},\n",
      "                            {'code': '62.04-0-00',\n",
      "                             'text': 'Consultoria em tecnologia da informação'},\n",
      "                            {'code': '62.02-3-00',\n",
      "                             'text': 'Desenvolvimento e licenciamento de '\n",
      "                                     'programas de computador customizáveis'},\n",
      "                            {'code': '63.19-4-00',\n",
      "                             'text': 'Portais, provedores de conteúdo e outros '\n",
      "                                     'serviços de informação na internet'},\n",
      "                            {'code': '62.01-5-01',\n",
      "                             'text': 'Desenvolvimento de programas de '\n",
      "                                     'computador sob encomenda'},\n",
      "                            {'code': '58.11-5-00', 'text': 'Edição de livros'},\n",
      "                            {'code': '64.62-0-00',\n",
      "                             'text': 'Holdings de instituições '\n",
      "                                     'não-financeiras'},\n",
      "                            {'code': '71.19-7-03',\n",
      "                             'text': 'Serviços de desenho técnico relacionados '\n",
      "                                     'à arquitetura e engenharia'},\n",
      "                            {'code': '77.33-1-00',\n",
      "                             'text': 'Aluguel de máquinas e equipamentos para '\n",
      "                                     'escritório'},\n",
      "                            {'code': '77.40-3-00',\n",
      "                             'text': 'Gestão de ativos intangíveis '\n",
      "                                     'não-financeiros'},\n",
      "                            {'code': '85.50-3-02',\n",
      "                             'text': 'Atividades de apoio à educação, exceto '\n",
      "                                     'caixas escolares'},\n",
      "                            {'code': '85.99-6-04',\n",
      "                             'text': 'Treinamento em desenvolvimento '\n",
      "                                     'profissional e gerencial'},\n",
      "                            {'code': '95.21-5-00',\n",
      "                             'text': 'Reparação e manutenção de equipamentos '\n",
      "                                     'eletroeletrônicos de uso pessoal e '\n",
      "                                     'doméstico'},\n",
      "                            {'code': '95.11-8-00',\n",
      "                             'text': 'Reparação e manutenção de computadores e '\n",
      "                                     'de equipamentos periféricos'},\n",
      "                            {'code': '26.32-9-00',\n",
      "                             'text': 'Fabricação de aparelhos telefônicos e de '\n",
      "                                     'outros equipamentos de comunicação'}],\n",
      " 'bairro': 'DISTRITO INDUSTRIAL I',\n",
      " 'billing': {'database': True, 'free': True},\n",
      " 'capital_social': '742700000.00',\n",
      " 'cep': '69.075-110',\n",
      " 'cnpj': '81.243.735/0019-77',\n",
      " 'complemento': 'LOTE 257-B',\n",
      " 'data_situacao': '28/08/2015',\n",
      " 'data_situacao_especial': '',\n",
      " 'efr': '',\n",
      " 'email': 'fiscal@positivo.com.br',\n",
      " 'extra': {},\n",
      " 'fantasia': '',\n",
      " 'logradouro': 'RUA JAVARI',\n",
      " 'motivo_situacao': '',\n",
      " 'municipio': 'MANAUS',\n",
      " 'natureza_juridica': '204-6 - Sociedade Anônima Aberta',\n",
      " 'nome': 'POSITIVO TECNOLOGIA S.A.',\n",
      " 'numero': '1255',\n",
      " 'porte': 'DEMAIS',\n",
      " 'qsa': [],\n",
      " 'simei': {'data_exclusao': None,\n",
      "           'data_opcao': None,\n",
      "           'optante': False,\n",
      "           'ultima_atualizacao': '2025-02-08T23:59:59.000Z'},\n",
      " 'simples': {'data_exclusao': None,\n",
      "             'data_opcao': None,\n",
      "             'optante': False,\n",
      "             'ultima_atualizacao': '2025-02-08T23:59:59.000Z'},\n",
      " 'situacao': 'ATIVA',\n",
      " 'situacao_especial': '',\n",
      " 'status': 'OK',\n",
      " 'telefone': '(41) 3316-7700',\n",
      " 'tipo': 'FILIAL',\n",
      " 'uf': 'AM',\n",
      " 'ultima_atualizacao': '2025-02-08T23:59:59.000Z'}\n"
     ]
    }
   ],
   "source": [
    "def consulta_cnpj(numero_cnpj):\n",
    "    url = f\"https://receitaws.com.br/v1/cnpj/{numero_cnpj}\"\n",
    "\n",
    "    headers = {\"Accept\": \"application/json\"}\n",
    "\n",
    "    response = requests.get(url, headers=headers)\n",
    "    \n",
    "    dic_fornecedor = response.json()\n",
    "    \n",
    "    return dic_fornecedor\n",
    "\n",
    "# Criar um dicionário vazio fora da função\n",
    "dicionario = {}\n",
    "\n",
    "# Chamar a função e atribuir o resultado ao dicionário\n",
    "dicionario = consulta_cnpj('81243735001977')\n",
    "\n",
    "# Imprimir o dicionário\n",
    "pprint(dicionario)"
   ]
  },
  {
   "cell_type": "code",
   "execution_count": 20,
   "metadata": {},
   "outputs": [
    {
     "name": "stdout",
     "output_type": "stream",
     "text": [
      "{'abertura': '28/08/2015',\n",
      " 'atividade_principal': [{'code': '26.21-3-00',\n",
      "                          'text': 'Fabricação de equipamentos de informática'}],\n",
      " 'atividades_secundarias': [{'code': '26.22-1-00',\n",
      "                             'text': 'Fabricação de periféricos para '\n",
      "                                     'equipamentos de informática'},\n",
      "                            {'code': '27.59-7-99',\n",
      "                             'text': 'Fabricação de outros aparelhos '\n",
      "                                     'eletrodomésticos não especificados '\n",
      "                                     'anteriormente, peças e acessórios'},\n",
      "                            {'code': '46.19-2-00',\n",
      "                             'text': 'Representantes comerciais e agentes do '\n",
      "                                     'comércio de mercadorias em geral não '\n",
      "                                     'especializado'},\n",
      "                            {'code': '46.51-6-01',\n",
      "                             'text': 'Comércio atacadista de equipamentos de '\n",
      "                                     'informática'},\n",
      "                            {'code': '47.54-7-01',\n",
      "                             'text': 'Comércio varejista de móveis'},\n",
      "                            {'code': '46.49-4-02',\n",
      "                             'text': 'Comércio atacadista de aparelhos '\n",
      "                                     'eletrônicos de uso pessoal e doméstico'},\n",
      "                            {'code': '46.47-8-02',\n",
      "                             'text': 'Comércio atacadista de livros, jornais e '\n",
      "                                     'outras publicações'},\n",
      "                            {'code': '62.04-0-00',\n",
      "                             'text': 'Consultoria em tecnologia da informação'},\n",
      "                            {'code': '62.02-3-00',\n",
      "                             'text': 'Desenvolvimento e licenciamento de '\n",
      "                                     'programas de computador customizáveis'},\n",
      "                            {'code': '63.19-4-00',\n",
      "                             'text': 'Portais, provedores de conteúdo e outros '\n",
      "                                     'serviços de informação na internet'},\n",
      "                            {'code': '62.01-5-01',\n",
      "                             'text': 'Desenvolvimento de programas de '\n",
      "                                     'computador sob encomenda'},\n",
      "                            {'code': '58.11-5-00', 'text': 'Edição de livros'},\n",
      "                            {'code': '64.62-0-00',\n",
      "                             'text': 'Holdings de instituições '\n",
      "                                     'não-financeiras'},\n",
      "                            {'code': '71.19-7-03',\n",
      "                             'text': 'Serviços de desenho técnico relacionados '\n",
      "                                     'à arquitetura e engenharia'},\n",
      "                            {'code': '77.33-1-00',\n",
      "                             'text': 'Aluguel de máquinas e equipamentos para '\n",
      "                                     'escritório'},\n",
      "                            {'code': '77.40-3-00',\n",
      "                             'text': 'Gestão de ativos intangíveis '\n",
      "                                     'não-financeiros'},\n",
      "                            {'code': '85.50-3-02',\n",
      "                             'text': 'Atividades de apoio à educação, exceto '\n",
      "                                     'caixas escolares'},\n",
      "                            {'code': '85.99-6-04',\n",
      "                             'text': 'Treinamento em desenvolvimento '\n",
      "                                     'profissional e gerencial'},\n",
      "                            {'code': '95.21-5-00',\n",
      "                             'text': 'Reparação e manutenção de equipamentos '\n",
      "                                     'eletroeletrônicos de uso pessoal e '\n",
      "                                     'doméstico'},\n",
      "                            {'code': '95.11-8-00',\n",
      "                             'text': 'Reparação e manutenção de computadores e '\n",
      "                                     'de equipamentos periféricos'},\n",
      "                            {'code': '26.32-9-00',\n",
      "                             'text': 'Fabricação de aparelhos telefônicos e de '\n",
      "                                     'outros equipamentos de comunicação'}],\n",
      " 'bairro': 'DISTRITO INDUSTRIAL I',\n",
      " 'billing': {'database': True, 'free': True},\n",
      " 'capital_social': '742700000.00',\n",
      " 'cep': '69.075-110',\n",
      " 'cnpj': '81.243.735/0019-77',\n",
      " 'complemento': 'LOTE 257-B',\n",
      " 'data_situacao': '28/08/2015',\n",
      " 'data_situacao_especial': '',\n",
      " 'efr': '',\n",
      " 'email': 'fiscal@positivo.com.br',\n",
      " 'extra': {},\n",
      " 'fantasia': '',\n",
      " 'logradouro': 'RUA JAVARI',\n",
      " 'motivo_situacao': '',\n",
      " 'municipio': 'MANAUS',\n",
      " 'natureza_juridica': '204-6 - Sociedade Anônima Aberta',\n",
      " 'nome': 'POSITIVO TECNOLOGIA S.A.',\n",
      " 'numero': '1255',\n",
      " 'porte': 'DEMAIS',\n",
      " 'qsa': [],\n",
      " 'simei': {'data_exclusao': None,\n",
      "           'data_opcao': None,\n",
      "           'optante': False,\n",
      "           'ultima_atualizacao': '2025-02-08T23:59:59.000Z'},\n",
      " 'simples': {'data_exclusao': None,\n",
      "             'data_opcao': None,\n",
      "             'optante': False,\n",
      "             'ultima_atualizacao': '2025-02-08T23:59:59.000Z'},\n",
      " 'situacao': 'ATIVA',\n",
      " 'situacao_especial': '',\n",
      " 'status': 'OK',\n",
      " 'telefone': '(41) 3316-7700',\n",
      " 'tipo': 'FILIAL',\n",
      " 'uf': 'AM',\n",
      " 'ultima_atualizacao': '2025-02-08T23:59:59.000Z'}\n"
     ]
    }
   ],
   "source": [
    "pprint(dicionario)"
   ]
  },
  {
   "cell_type": "code",
   "execution_count": 21,
   "metadata": {},
   "outputs": [
    {
     "data": {
      "text/plain": [
       "'POSITIVO TECNOLOGIA S.A.'"
      ]
     },
     "execution_count": 21,
     "metadata": {},
     "output_type": "execute_result"
    }
   ],
   "source": [
    "dicionario['nome']"
   ]
  },
  {
   "cell_type": "code",
   "execution_count": 22,
   "metadata": {},
   "outputs": [
    {
     "data": {
      "text/plain": [
       "'(41) 3316-7700'"
      ]
     },
     "execution_count": 22,
     "metadata": {},
     "output_type": "execute_result"
    }
   ],
   "source": [
    "dicionario['telefone']"
   ]
  },
  {
   "cell_type": "code",
   "execution_count": 23,
   "metadata": {},
   "outputs": [
    {
     "data": {
      "text/plain": [
       "'fiscal@positivo.com.br'"
      ]
     },
     "execution_count": 23,
     "metadata": {},
     "output_type": "execute_result"
    }
   ],
   "source": [
    "dicionario['email']"
   ]
  },
  {
   "cell_type": "code",
   "execution_count": 24,
   "metadata": {},
   "outputs": [
    {
     "data": {
      "text/plain": [
       "'RUA JAVARI, 1255 - DISTRITO INDUSTRIAL I - MANAUS / AM'"
      ]
     },
     "execution_count": 24,
     "metadata": {},
     "output_type": "execute_result"
    }
   ],
   "source": [
    "dicionario['logradouro'] + ', ' + dicionario['numero'] + ' - ' + dicionario['bairro'] + ' - ' + dicionario['municipio'] + ' / ' + dicionario['uf']"
   ]
  },
  {
   "cell_type": "code",
   "execution_count": 25,
   "metadata": {},
   "outputs": [
    {
     "data": {
      "text/plain": [
       "array(['39750831000116', '13081240000100', '05872523000141',\n",
       "       '56062746000184', '17281106000103', '34028316001509',\n",
       "       '06981180000116', '65295172000185', '02421421000111',\n",
       "       '20531237000106', '01255291000121', '29423785000197',\n",
       "       '70999289000180', '68533967000172', '51149498000190',\n",
       "       '21331404000138', '19791896011307', '20702528000110',\n",
       "       '10653955000100', '20942789000107', '18563967000147',\n",
       "       '71001465000105', '33180160000119', '47348831000112',\n",
       "       '37748531000177', '09294294000186', '47078180000198',\n",
       "       '20776492000119', '03958259626', '08343486838', '04638751172',\n",
       "       '24782217000169', '02338743000100', '00295234000103',\n",
       "       '18707234000139', '14807420000199', '33658130000175',\n",
       "       '70797366334', '08528728609', '01368832652', '39644514000115',\n",
       "       '15653078794', '01737297388', '06971819608', '12098511647',\n",
       "       '14441938721', '04160798730', '45654847813', '01052392245',\n",
       "       '05573004794', '10220358605', '32413411860', '04247986627',\n",
       "       '14650941725', '12412391696', '06383501666', '19118733778',\n",
       "       '03758231078', '03720621219', '01731967640', '23644698805',\n",
       "       '34472947870', '00301438021', '10175548706', '07527824794',\n",
       "       '07710174647', '04011485640', '95014063349', '04588043633',\n",
       "       '53202768000104', '14974969000178', '72929003000115',\n",
       "       '03333999000189', '14155601000188', '46344050000197',\n",
       "       '32846158000173', '23614351000198', '11456144000173',\n",
       "       '36519422000115', '11944439000199', '52813485000136',\n",
       "       '05383313000190', '27130609000131', '10190265000153',\n",
       "       '20402517000114', '29106687000126', '04338231000160',\n",
       "       '12013565000192', '36924105000184', '23533848000181',\n",
       "       '14302611000107', '49039321000199', '52996455000102',\n",
       "       '14459158000139', '15329152000100', '15658667000153',\n",
       "       '10942831000136', '71359939000195', '19943167000114',\n",
       "       '05824788000174', '04850455000157', '46843656000177',\n",
       "       '15072268000106', '07851262000109', '26917959000180',\n",
       "       '31741500000108', '15272846000158', '02347121000210',\n",
       "       '07385089000109', '14491768000110', '46497089000144',\n",
       "       '07953689000118', '03859239000100', '49834027000179',\n",
       "       '20784313000195', '43892634000109', '41841443000192',\n",
       "       '05691235000190', '38680138000151', '48832896000100',\n",
       "       '39653311000195', '11258338000164', '48983401000135',\n",
       "       '26453454000101', '20473312000120', '02729859000161', '510001',\n",
       "       '01611294000150', '26401571000121', '29614830000190',\n",
       "       '25641788000146', '10489922000168', '22579804000120',\n",
       "       '20469180000162', '04648489000163', '12799335000109',\n",
       "       '07285389000108', '05194005000116', '25642083000143',\n",
       "       '05552239000198', '20382743000180', '05461861000190',\n",
       "       '01008092000119', '02668731000135', '09215883000121',\n",
       "       '21390591000120', '19625870000184', '01509731000391',\n",
       "       '18226970000175', '13407849000126', '41833129000168',\n",
       "       '07690038000182', '25641788000227', '42855999000362',\n",
       "       '19863357000121', '11708426000110', '25301210000140',\n",
       "       '07119678000137', '17421504000188', '37686780678',\n",
       "       '08338868000108', '16553940000148', '31097402000180',\n",
       "       '46321558000170', '14905502000176', '43269791000162',\n",
       "       '40274237000185', '49882364000131', '36148696000145',\n",
       "       '18201787000115', '53518891000139', '54388280000186',\n",
       "       '50694319000132', '02375705000119', '02482141000113',\n",
       "       '50591089000186', '31401798000107', '50567060000169',\n",
       "       '30379344000114', '41733464000194', '17545961000184',\n",
       "       '12021151000105', '09686716000169', '06162004000152',\n",
       "       '06327037000105', '49728772000133', '23615514000157',\n",
       "       '42587791000148', '15351282000149', '53588462000138',\n",
       "       '07776581000105', '50668165000104', '35246730000151',\n",
       "       '71208094000137', '43730128000113', '10600312000190',\n",
       "       '17845504000296', '17087370000100', '00316937000170',\n",
       "       '07976966000108', '18730868000102', '25643420000117',\n",
       "       '11010999000257', '17457610000111', '14233622000174',\n",
       "       '24151595000144', '47101984000160', '58665102604',\n",
       "       '50429810000136', '87389086000174', '13823529000157',\n",
       "       '73302879000108', '03402164680', '04352870609', '46940235787',\n",
       "       '02848925647', '17412396000187', '37780792000174',\n",
       "       '57491175000166', '22705870000107', '40131537000105',\n",
       "       '21781767000175', '73514580000109', '09380005000161',\n",
       "       '10899734000108', '41884255000141', '02803935000131',\n",
       "       '08278883000108', '03856561000185', '00577773000135',\n",
       "       '48173482000108', '34379797000100', '41342716000154',\n",
       "       '64273048000156', '18632315000117', '06334550000123',\n",
       "       '22073381000171', '50247694000134', '17413469000155',\n",
       "       '02929143000108', '29985857000190', '21425822000194',\n",
       "       '22077499000178', '25642331000156', '25656463000137',\n",
       "       '21013054000161', '33013209000149', '49737197000135',\n",
       "       '08488365000119', '05741540000140', '71346480000195',\n",
       "       '07822118000144', '29034549000189', '46281404000100',\n",
       "       '02784905000125', '28147573000161', '02108761000197',\n",
       "       '27862855000188', '03065063000114', '07608700000102',\n",
       "       '23814905000109', '03059040000105', '25863390000154',\n",
       "       '36874484000145', '26991060000107', '10450143000159',\n",
       "       '15210886000175', '08986188000109', '31791247687', '79988601620',\n",
       "       '01412905605', '80531580644', '07460656631', '11803092602',\n",
       "       '08928430631', '42152392000154', '167129', '47138059000104',\n",
       "       '13322188000136', '00855265000171', '02648737000140',\n",
       "       '45930390000137', '36933736000160', '51050021000152',\n",
       "       '33622151000130', '05191550000230', '35602160000195',\n",
       "       '32316475000188', '53305065000101', '79890224000176',\n",
       "       '30223908000125', '19612735000102', '29704594000101',\n",
       "       '41658519000149', '27471471000134', '00139736000145',\n",
       "       '65353401000170', '00944944000117', '08658622000113',\n",
       "       '31313294000135', '50171371000104', '56137818000105',\n",
       "       '08403769000162', '11202638000121', '28429720000196',\n",
       "       '31868626000148', '32936252000113', '37405049000134',\n",
       "       '42883960000197', '52623289000107', '47122108000110',\n",
       "       '19994997000170', '14968227000130', '53468665000190',\n",
       "       '24090700000182', '04191294000137', '33149502000138',\n",
       "       '51048656000115', '37902352000142', '17055604000138',\n",
       "       '42810782000174', '47171447000197', '36336388000143',\n",
       "       '26396840000109', '08583283000153', '04002498000182',\n",
       "       '22640120000196', '42302904000111', '47363565000105',\n",
       "       '52820419000193', '50506565000113', '19116488000145',\n",
       "       '10463704000154', '27850036000110', '34536423000142',\n",
       "       '38084736000168', '27985750000116', '54279764000197',\n",
       "       '00489661000122', '65149197000251', '47531706000143',\n",
       "       '08703140000138'], dtype=object)"
      ]
     },
     "execution_count": 25,
     "metadata": {},
     "output_type": "execute_result"
    }
   ],
   "source": [
    "# filtrando dos dados da coluna FAV\n",
    "df_cnpj = df[df['NOME_PI'] != 'PROFISSIONAL DE SAUDE AUTONOMO']\n",
    "df_cnpj = df[df['NOME_PI'] != 'ATENDIMENTO MEDICO-HOPITALR/FC']\n",
    "df_cnpj = df[df['NOME_PI'] != 'IND-INDENIZACOES']\n",
    "df_cnpj = df[df['NOME_PI'] != 'IND - INDENIZACOES']\n",
    "df_cnpj = df[df['NOME_PI'] != 'INDENIZACAO DESPESAS.']\n",
    "df_cnpj = df[df['NOME_PI'] != 'AUXILIO FINANCEIRO NÃO INDENIZÁVEL']\n",
    "df_cnpj = df[df['NOME_PI'] != 'INRE - RESTITUICAO E RESSARCIMENTO']\n",
    "df_cnpj = df[df['NOME_NDSI'] != 'OUTROS SERV.DE TERCEIROS PJ- PAGTO ANTECIPADO']\n",
    "df_cnpj = df[df['FAV'] != '160129']\n",
    "\n",
    "df_cnpj['FAV'].unique()"
   ]
  },
  {
   "cell_type": "code",
   "execution_count": 26,
   "metadata": {},
   "outputs": [
    {
     "data": {
      "text/html": [
       "<div>\n",
       "<style scoped>\n",
       "    .dataframe tbody tr th:only-of-type {\n",
       "        vertical-align: middle;\n",
       "    }\n",
       "\n",
       "    .dataframe tbody tr th {\n",
       "        vertical-align: top;\n",
       "    }\n",
       "\n",
       "    .dataframe thead th {\n",
       "        text-align: right;\n",
       "    }\n",
       "</style>\n",
       "<table border=\"1\" class=\"dataframe\">\n",
       "  <thead>\n",
       "    <tr style=\"text-align: right;\">\n",
       "      <th></th>\n",
       "      <th>UG</th>\n",
       "      <th>SIGLA</th>\n",
       "      <th>CGCFEX</th>\n",
       "      <th>RM</th>\n",
       "      <th>COMANDO</th>\n",
       "      <th>CIDADE</th>\n",
       "      <th>UF</th>\n",
       "      <th>PROGRAMA</th>\n",
       "      <th>AÇÃO</th>\n",
       "      <th>NOME_ACAO</th>\n",
       "      <th>UGR</th>\n",
       "      <th>NOME_UGR</th>\n",
       "      <th>PTRES</th>\n",
       "      <th>PI</th>\n",
       "      <th>RADICAL_4_PI</th>\n",
       "      <th>MEIO_3_PI</th>\n",
       "      <th>SUFIXO_4_PI</th>\n",
       "      <th>NOME_PI</th>\n",
       "      <th>ND</th>\n",
       "      <th>NOME_ND</th>\n",
       "      <th>NDSI</th>\n",
       "      <th>NOME_NDSI</th>\n",
       "      <th>NE</th>\n",
       "      <th>ANO</th>\n",
       "      <th>DATA</th>\n",
       "      <th>CHAVE</th>\n",
       "      <th>FAV</th>\n",
       "      <th>NOME_CREDOR</th>\n",
       "      <th>UF_FAV</th>\n",
       "      <th>TIPO</th>\n",
       "      <th>DIAS</th>\n",
       "      <th>UF_UG</th>\n",
       "      <th>FONTE</th>\n",
       "      <th>MOD_LIC</th>\n",
       "      <th>TIPO_NE</th>\n",
       "      <th>RP</th>\n",
       "      <th>NOME_RP</th>\n",
       "      <th>TIPO_CREDITO</th>\n",
       "      <th>NOME_TIPO_CREDITO</th>\n",
       "      <th>PO</th>\n",
       "      <th>AUTOR_EMENDA</th>\n",
       "      <th>NOME_AUTOR_EMENDA</th>\n",
       "      <th>LOCAL</th>\n",
       "      <th>NOME_UO</th>\n",
       "      <th>UO</th>\n",
       "      <th>A_LIQUIDAR</th>\n",
       "      <th>LIQUIDADO_A_PAGAR</th>\n",
       "      <th>TOTAL_A_PAGAR</th>\n",
       "      <th>PAGO</th>\n",
       "    </tr>\n",
       "  </thead>\n",
       "  <tbody>\n",
       "  </tbody>\n",
       "</table>\n",
       "</div>"
      ],
      "text/plain": [
       "Empty DataFrame\n",
       "Columns: [UG, SIGLA, CGCFEX, RM, COMANDO, CIDADE, UF, PROGRAMA, AÇÃO, NOME_ACAO, UGR, NOME_UGR, PTRES, PI, RADICAL_4_PI, MEIO_3_PI, SUFIXO_4_PI, NOME_PI, ND, NOME_ND, NDSI, NOME_NDSI, NE, ANO, DATA, CHAVE, FAV, NOME_CREDOR, UF_FAV, TIPO, DIAS, UF_UG, FONTE, MOD_LIC, TIPO_NE, RP, NOME_RP, TIPO_CREDITO, NOME_TIPO_CREDITO, PO, AUTOR_EMENDA, NOME_AUTOR_EMENDA, LOCAL, NOME_UO, UO, A_LIQUIDAR, LIQUIDADO_A_PAGAR, TOTAL_A_PAGAR, PAGO]\n",
       "Index: []"
      ]
     },
     "execution_count": 26,
     "metadata": {},
     "output_type": "execute_result"
    }
   ],
   "source": [
    "df_cnpj[df_cnpj['FAV'] == '160129']"
   ]
  },
  {
   "cell_type": "code",
   "execution_count": 27,
   "metadata": {},
   "outputs": [
    {
     "data": {
      "text/html": [
       "<div>\n",
       "<style scoped>\n",
       "    .dataframe tbody tr th:only-of-type {\n",
       "        vertical-align: middle;\n",
       "    }\n",
       "\n",
       "    .dataframe tbody tr th {\n",
       "        vertical-align: top;\n",
       "    }\n",
       "\n",
       "    .dataframe thead th {\n",
       "        text-align: right;\n",
       "    }\n",
       "</style>\n",
       "<table border=\"1\" class=\"dataframe\">\n",
       "  <thead>\n",
       "    <tr style=\"text-align: right;\">\n",
       "      <th></th>\n",
       "      <th>UG</th>\n",
       "      <th>SIGLA</th>\n",
       "      <th>CGCFEX</th>\n",
       "      <th>RM</th>\n",
       "      <th>COMANDO</th>\n",
       "      <th>CIDADE</th>\n",
       "      <th>UF</th>\n",
       "      <th>PROGRAMA</th>\n",
       "      <th>AÇÃO</th>\n",
       "      <th>NOME_ACAO</th>\n",
       "      <th>UGR</th>\n",
       "      <th>NOME_UGR</th>\n",
       "      <th>PTRES</th>\n",
       "      <th>PI</th>\n",
       "      <th>RADICAL_4_PI</th>\n",
       "      <th>MEIO_3_PI</th>\n",
       "      <th>SUFIXO_4_PI</th>\n",
       "      <th>NOME_PI</th>\n",
       "      <th>ND</th>\n",
       "      <th>NOME_ND</th>\n",
       "      <th>NDSI</th>\n",
       "      <th>NOME_NDSI</th>\n",
       "      <th>NE</th>\n",
       "      <th>ANO</th>\n",
       "      <th>DATA</th>\n",
       "      <th>CHAVE</th>\n",
       "      <th>FAV</th>\n",
       "      <th>NOME_CREDOR</th>\n",
       "      <th>UF_FAV</th>\n",
       "      <th>TIPO</th>\n",
       "      <th>DIAS</th>\n",
       "      <th>UF_UG</th>\n",
       "      <th>FONTE</th>\n",
       "      <th>MOD_LIC</th>\n",
       "      <th>TIPO_NE</th>\n",
       "      <th>RP</th>\n",
       "      <th>NOME_RP</th>\n",
       "      <th>TIPO_CREDITO</th>\n",
       "      <th>NOME_TIPO_CREDITO</th>\n",
       "      <th>PO</th>\n",
       "      <th>AUTOR_EMENDA</th>\n",
       "      <th>NOME_AUTOR_EMENDA</th>\n",
       "      <th>LOCAL</th>\n",
       "      <th>NOME_UO</th>\n",
       "      <th>UO</th>\n",
       "      <th>A_LIQUIDAR</th>\n",
       "      <th>LIQUIDADO_A_PAGAR</th>\n",
       "      <th>TOTAL_A_PAGAR</th>\n",
       "      <th>PAGO</th>\n",
       "    </tr>\n",
       "  </thead>\n",
       "  <tbody>\n",
       "    <tr>\n",
       "      <th>3</th>\n",
       "      <td>160129</td>\n",
       "      <td>ESA</td>\n",
       "      <td>4º CGCFEx</td>\n",
       "      <td>4ª RM</td>\n",
       "      <td>CML</td>\n",
       "      <td>Três Corações</td>\n",
       "      <td>MG</td>\n",
       "      <td>0032</td>\n",
       "      <td>2000</td>\n",
       "      <td>ADMINISTRACAO DA UNIDADE</td>\n",
       "      <td>160073</td>\n",
       "      <td>DGO</td>\n",
       "      <td>171460</td>\n",
       "      <td>I3DACNTLICO</td>\n",
       "      <td>I3DA</td>\n",
       "      <td>CNT</td>\n",
       "      <td>LICO</td>\n",
       "      <td>LIMPEZA DE BENS IMÓVEIS</td>\n",
       "      <td>339037</td>\n",
       "      <td>LOCACAO DE MAO-DE-OBRA</td>\n",
       "      <td>33903702</td>\n",
       "      <td>LIMPEZA E CONSERVACAO</td>\n",
       "      <td>2025NE000002</td>\n",
       "      <td>2025</td>\n",
       "      <td>2025-01-15</td>\n",
       "      <td>160129000012025NE000002</td>\n",
       "      <td>39750831000116</td>\n",
       "      <td>ECOLIMP SERVICOS GERAIS LTDA</td>\n",
       "      <td>RJ</td>\n",
       "      <td>ANO</td>\n",
       "      <td>40</td>\n",
       "      <td>MG</td>\n",
       "      <td>1000000000</td>\n",
       "      <td>PREGAO</td>\n",
       "      <td>GLOBAL</td>\n",
       "      <td>2</td>\n",
       "      <td>PRIMARIO DISCRICIONARIO</td>\n",
       "      <td>A</td>\n",
       "      <td>INICIAL (LOA)</td>\n",
       "      <td>0004</td>\n",
       "      <td>000000000000</td>\n",
       "      <td>SEM EMENDA</td>\n",
       "      <td>ESCOLA DE SARGENTOS DAS ARMAS - AV. SETE DE SE...</td>\n",
       "      <td>COMANDO DO EXERCITO</td>\n",
       "      <td>52121</td>\n",
       "      <td>36054.83</td>\n",
       "      <td>0.00</td>\n",
       "      <td>36054.83</td>\n",
       "      <td>0.0</td>\n",
       "    </tr>\n",
       "    <tr>\n",
       "      <th>4</th>\n",
       "      <td>160129</td>\n",
       "      <td>ESA</td>\n",
       "      <td>4º CGCFEx</td>\n",
       "      <td>4ª RM</td>\n",
       "      <td>CML</td>\n",
       "      <td>Três Corações</td>\n",
       "      <td>MG</td>\n",
       "      <td>0032</td>\n",
       "      <td>2000</td>\n",
       "      <td>ADMINISTRACAO DA UNIDADE</td>\n",
       "      <td>160073</td>\n",
       "      <td>DGO</td>\n",
       "      <td>171460</td>\n",
       "      <td>I3DACNTLICO</td>\n",
       "      <td>I3DA</td>\n",
       "      <td>CNT</td>\n",
       "      <td>LICO</td>\n",
       "      <td>LIMPEZA DE BENS IMÓVEIS</td>\n",
       "      <td>339037</td>\n",
       "      <td>LOCACAO DE MAO-DE-OBRA</td>\n",
       "      <td>33903702</td>\n",
       "      <td>LIMPEZA E CONSERVACAO</td>\n",
       "      <td>2025NE000003</td>\n",
       "      <td>2025</td>\n",
       "      <td>2025-01-15</td>\n",
       "      <td>160129000012025NE000003</td>\n",
       "      <td>13081240000100</td>\n",
       "      <td>SIGMA-SERVICOS TERCEIRIZADOS LTDA</td>\n",
       "      <td>PR</td>\n",
       "      <td>ANO</td>\n",
       "      <td>40</td>\n",
       "      <td>MG</td>\n",
       "      <td>1000000000</td>\n",
       "      <td>PREGAO</td>\n",
       "      <td>GLOBAL</td>\n",
       "      <td>2</td>\n",
       "      <td>PRIMARIO DISCRICIONARIO</td>\n",
       "      <td>A</td>\n",
       "      <td>INICIAL (LOA)</td>\n",
       "      <td>0004</td>\n",
       "      <td>000000000000</td>\n",
       "      <td>SEM EMENDA</td>\n",
       "      <td>ESCOLA DE SARGENTOS DAS ARMAS - AV. SETE DE SE...</td>\n",
       "      <td>COMANDO DO EXERCITO</td>\n",
       "      <td>52121</td>\n",
       "      <td>0.00</td>\n",
       "      <td>41497.34</td>\n",
       "      <td>41497.34</td>\n",
       "      <td>0.0</td>\n",
       "    </tr>\n",
       "  </tbody>\n",
       "</table>\n",
       "</div>"
      ],
      "text/plain": [
       "       UG SIGLA     CGCFEX     RM COMANDO         CIDADE  UF PROGRAMA  AÇÃO  \\\n",
       "3  160129   ESA  4º CGCFEx  4ª RM     CML  Três Corações  MG     0032  2000   \n",
       "4  160129   ESA  4º CGCFEx  4ª RM     CML  Três Corações  MG     0032  2000   \n",
       "\n",
       "                  NOME_ACAO     UGR NOME_UGR   PTRES           PI  \\\n",
       "3  ADMINISTRACAO DA UNIDADE  160073      DGO  171460  I3DACNTLICO   \n",
       "4  ADMINISTRACAO DA UNIDADE  160073      DGO  171460  I3DACNTLICO   \n",
       "\n",
       "  RADICAL_4_PI MEIO_3_PI SUFIXO_4_PI                  NOME_PI      ND  \\\n",
       "3         I3DA       CNT        LICO  LIMPEZA DE BENS IMÓVEIS  339037   \n",
       "4         I3DA       CNT        LICO  LIMPEZA DE BENS IMÓVEIS  339037   \n",
       "\n",
       "                  NOME_ND      NDSI              NOME_NDSI            NE  \\\n",
       "3  LOCACAO DE MAO-DE-OBRA  33903702  LIMPEZA E CONSERVACAO  2025NE000002   \n",
       "4  LOCACAO DE MAO-DE-OBRA  33903702  LIMPEZA E CONSERVACAO  2025NE000003   \n",
       "\n",
       "    ANO       DATA                    CHAVE             FAV  \\\n",
       "3  2025 2025-01-15  160129000012025NE000002  39750831000116   \n",
       "4  2025 2025-01-15  160129000012025NE000003  13081240000100   \n",
       "\n",
       "                         NOME_CREDOR UF_FAV TIPO  DIAS UF_UG       FONTE  \\\n",
       "3       ECOLIMP SERVICOS GERAIS LTDA     RJ  ANO    40    MG  1000000000   \n",
       "4  SIGMA-SERVICOS TERCEIRIZADOS LTDA     PR  ANO    40    MG  1000000000   \n",
       "\n",
       "  MOD_LIC TIPO_NE RP                  NOME_RP TIPO_CREDITO NOME_TIPO_CREDITO  \\\n",
       "3  PREGAO  GLOBAL  2  PRIMARIO DISCRICIONARIO            A     INICIAL (LOA)   \n",
       "4  PREGAO  GLOBAL  2  PRIMARIO DISCRICIONARIO            A     INICIAL (LOA)   \n",
       "\n",
       "     PO  AUTOR_EMENDA NOME_AUTOR_EMENDA  \\\n",
       "3  0004  000000000000        SEM EMENDA   \n",
       "4  0004  000000000000        SEM EMENDA   \n",
       "\n",
       "                                               LOCAL              NOME_UO  \\\n",
       "3  ESCOLA DE SARGENTOS DAS ARMAS - AV. SETE DE SE...  COMANDO DO EXERCITO   \n",
       "4  ESCOLA DE SARGENTOS DAS ARMAS - AV. SETE DE SE...  COMANDO DO EXERCITO   \n",
       "\n",
       "      UO  A_LIQUIDAR  LIQUIDADO_A_PAGAR  TOTAL_A_PAGAR  PAGO  \n",
       "3  52121    36054.83               0.00       36054.83   0.0  \n",
       "4  52121        0.00           41497.34       41497.34   0.0  "
      ]
     },
     "execution_count": 27,
     "metadata": {},
     "output_type": "execute_result"
    }
   ],
   "source": [
    "ano_atual = str(datetime.now().year)\n",
    "\n",
    "\n",
    "df_corrente = df[df['ANO'] == ano_atual]\n",
    "df_corrente.head(2)"
   ]
  },
  {
   "cell_type": "markdown",
   "metadata": {},
   "source": [
    "# Pesquisas no DataFrame"
   ]
  },
  {
   "cell_type": "code",
   "execution_count": 28,
   "metadata": {},
   "outputs": [],
   "source": [
    "# Criando um DataFrame para testes \n",
    "df_teste = df.copy()"
   ]
  },
  {
   "cell_type": "markdown",
   "metadata": {},
   "source": [
    "## Empenhos inscritos em RPNP"
   ]
  },
  {
   "cell_type": "code",
   "execution_count": 29,
   "metadata": {},
   "outputs": [],
   "source": [
    "# Criando um Dataframe para filtrar os empenhos em RPNP\n",
    "df_restos = df_teste[df_teste['ANO'].isin(['2022', '2023'])]\n",
    "df_restos = df_restos[df_restos['A_LIQUIDAR'] !=  0]"
   ]
  },
  {
   "cell_type": "markdown",
   "metadata": {},
   "source": [
    "### Restos a pagar ND 30 e 52"
   ]
  },
  {
   "cell_type": "code",
   "execution_count": 30,
   "metadata": {},
   "outputs": [],
   "source": [
    "df_restos_material = df_restos[df_restos['ND'].isin(['339030', '449052' ])]\n",
    "df_restos_material = df_restos_material.sort_values(by='A_LIQUIDAR', ascending=False)\n",
    "df_restos_material.head()\n",
    "df_restos_material.to_excel('restos_a_pagar_2024.xlsx')"
   ]
  },
  {
   "cell_type": "code",
   "execution_count": 31,
   "metadata": {},
   "outputs": [
    {
     "data": {
      "text/html": [
       "<div>\n",
       "<style scoped>\n",
       "    .dataframe tbody tr th:only-of-type {\n",
       "        vertical-align: middle;\n",
       "    }\n",
       "\n",
       "    .dataframe tbody tr th {\n",
       "        vertical-align: top;\n",
       "    }\n",
       "\n",
       "    .dataframe thead th {\n",
       "        text-align: right;\n",
       "    }\n",
       "</style>\n",
       "<table border=\"1\" class=\"dataframe\">\n",
       "  <thead>\n",
       "    <tr style=\"text-align: right;\">\n",
       "      <th></th>\n",
       "      <th>UG</th>\n",
       "      <th>NOME_ACAO</th>\n",
       "      <th>ANO</th>\n",
       "      <th>NOME_CREDOR</th>\n",
       "      <th>DATA</th>\n",
       "      <th>DIAS</th>\n",
       "      <th>ND</th>\n",
       "      <th>NOME_ND</th>\n",
       "      <th>NDSI</th>\n",
       "      <th>NOME_NDSI</th>\n",
       "      <th>NE</th>\n",
       "      <th>PI</th>\n",
       "      <th>NOME_PI</th>\n",
       "      <th>TIPO</th>\n",
       "      <th>TIPO_NE</th>\n",
       "      <th>NOME_UGR</th>\n",
       "      <th>A_LIQUIDAR</th>\n",
       "      <th>LIQUIDADO_A_PAGAR</th>\n",
       "      <th>TOTAL_A_PAGAR</th>\n",
       "      <th>PAGO</th>\n",
       "    </tr>\n",
       "  </thead>\n",
       "  <tbody>\n",
       "    <tr>\n",
       "      <th>61</th>\n",
       "      <td>160129</td>\n",
       "      <td>CAPACITACAO PROFISSIONAL MILITAR DO E</td>\n",
       "      <td>2023</td>\n",
       "      <td>FACTO TURISMO  LTDA</td>\n",
       "      <td>2023-02-03</td>\n",
       "      <td>752</td>\n",
       "      <td>339033</td>\n",
       "      <td>PASSAGENS E DESPESAS COM LOCOMOCAO</td>\n",
       "      <td>33903301</td>\n",
       "      <td>PASSAGENS PARA O PAIS</td>\n",
       "      <td>2023NE000033</td>\n",
       "      <td>C4ENMILCAPE</td>\n",
       "      <td>CAPACITACAO DE PESSOAL</td>\n",
       "      <td>RPNP</td>\n",
       "      <td>GLOBAL</td>\n",
       "      <td>DECEX/GESTOR</td>\n",
       "      <td>3236.21</td>\n",
       "      <td>0.0</td>\n",
       "      <td>3236.21</td>\n",
       "      <td>0.0</td>\n",
       "    </tr>\n",
       "    <tr>\n",
       "      <th>237</th>\n",
       "      <td>167129</td>\n",
       "      <td>ADMINISTRACAO DA UNIDADE</td>\n",
       "      <td>2023</td>\n",
       "      <td>COPYUAI LOCACAO DE EQUIPAMENTOS LTDA</td>\n",
       "      <td>2023-10-20</td>\n",
       "      <td>493</td>\n",
       "      <td>339040</td>\n",
       "      <td>SERVIÇOS DE TECNOLOGIA DA INFORMAÇÃO E COMUNIC...</td>\n",
       "      <td>33904012</td>\n",
       "      <td>MANUTENCAO E CONSERVACAO DE EQUIPAMENTOS DE TIC</td>\n",
       "      <td>2023NE001678</td>\n",
       "      <td>C1ENCONDETM</td>\n",
       "      <td>CONCURSOS AS ESCOLAS MILITARES</td>\n",
       "      <td>RPNP</td>\n",
       "      <td>GLOBAL</td>\n",
       "      <td>DECEX - GESTOR</td>\n",
       "      <td>4794.00</td>\n",
       "      <td>0.0</td>\n",
       "      <td>4794.00</td>\n",
       "      <td>0.0</td>\n",
       "    </tr>\n",
       "  </tbody>\n",
       "</table>\n",
       "</div>"
      ],
      "text/plain": [
       "         UG                              NOME_ACAO   ANO  \\\n",
       "61   160129  CAPACITACAO PROFISSIONAL MILITAR DO E  2023   \n",
       "237  167129               ADMINISTRACAO DA UNIDADE  2023   \n",
       "\n",
       "                              NOME_CREDOR       DATA  DIAS      ND  \\\n",
       "61                    FACTO TURISMO  LTDA 2023-02-03   752  339033   \n",
       "237  COPYUAI LOCACAO DE EQUIPAMENTOS LTDA 2023-10-20   493  339040   \n",
       "\n",
       "                                               NOME_ND      NDSI  \\\n",
       "61                  PASSAGENS E DESPESAS COM LOCOMOCAO  33903301   \n",
       "237  SERVIÇOS DE TECNOLOGIA DA INFORMAÇÃO E COMUNIC...  33904012   \n",
       "\n",
       "                                           NOME_NDSI            NE  \\\n",
       "61                             PASSAGENS PARA O PAIS  2023NE000033   \n",
       "237  MANUTENCAO E CONSERVACAO DE EQUIPAMENTOS DE TIC  2023NE001678   \n",
       "\n",
       "              PI                         NOME_PI  TIPO TIPO_NE  \\\n",
       "61   C4ENMILCAPE          CAPACITACAO DE PESSOAL  RPNP  GLOBAL   \n",
       "237  C1ENCONDETM  CONCURSOS AS ESCOLAS MILITARES  RPNP  GLOBAL   \n",
       "\n",
       "           NOME_UGR  A_LIQUIDAR  LIQUIDADO_A_PAGAR  TOTAL_A_PAGAR  PAGO  \n",
       "61     DECEX/GESTOR     3236.21                0.0        3236.21   0.0  \n",
       "237  DECEX - GESTOR     4794.00                0.0        4794.00   0.0  "
      ]
     },
     "execution_count": 31,
     "metadata": {},
     "output_type": "execute_result"
    }
   ],
   "source": [
    "cols = ['UG', 'NOME_ACAO', 'ANO', 'NOME_CREDOR',\n",
    "'DATA', 'DIAS', 'ND', 'NOME_ND', 'NDSI', 'NOME_NDSI', 'NE', 'PI', \n",
    "'NOME_PI', 'TIPO', 'TIPO_NE', 'NOME_UGR', 'A_LIQUIDAR', \n",
    "'LIQUIDADO_A_PAGAR', 'TOTAL_A_PAGAR', 'PAGO']\n",
    "\n",
    "df_filtro = df_teste.loc[:,cols]\n",
    "df_filtro = df_filtro[df_filtro['A_LIQUIDAR'] != 0]\n",
    "df_filtro.sort_values(by='DIAS', ascending=False).head(2)"
   ]
  },
  {
   "cell_type": "markdown",
   "metadata": {},
   "source": [
    "### Filtros Diversos"
   ]
  },
  {
   "cell_type": "code",
   "execution_count": 32,
   "metadata": {},
   "outputs": [],
   "source": [
    "df_liquidar = df_teste[df_teste['A_LIQUIDAR'] != 0].sort_values(by= 'DIAS', ascending= False).reset_index(drop=True)"
   ]
  },
  {
   "cell_type": "code",
   "execution_count": 33,
   "metadata": {},
   "outputs": [
    {
     "data": {
      "text/html": [
       "<div>\n",
       "<style scoped>\n",
       "    .dataframe tbody tr th:only-of-type {\n",
       "        vertical-align: middle;\n",
       "    }\n",
       "\n",
       "    .dataframe tbody tr th {\n",
       "        vertical-align: top;\n",
       "    }\n",
       "\n",
       "    .dataframe thead th {\n",
       "        text-align: right;\n",
       "    }\n",
       "</style>\n",
       "<table border=\"1\" class=\"dataframe\">\n",
       "  <thead>\n",
       "    <tr style=\"text-align: right;\">\n",
       "      <th></th>\n",
       "      <th>UG</th>\n",
       "      <th>NOME_ACAO</th>\n",
       "      <th>NOME_UGR</th>\n",
       "      <th>PI</th>\n",
       "      <th>NOME_PI</th>\n",
       "      <th>ND</th>\n",
       "      <th>NOME_ND</th>\n",
       "      <th>NDSI</th>\n",
       "      <th>NOME_NDSI</th>\n",
       "      <th>NE</th>\n",
       "      <th>ANO</th>\n",
       "      <th>DATA</th>\n",
       "      <th>FAV</th>\n",
       "      <th>NOME_CREDOR</th>\n",
       "      <th>UF_FAV</th>\n",
       "      <th>TIPO</th>\n",
       "      <th>DIAS</th>\n",
       "      <th>UF_UG</th>\n",
       "      <th>MOD_LIC</th>\n",
       "      <th>TIPO_NE</th>\n",
       "      <th>RP</th>\n",
       "      <th>NOME_RP</th>\n",
       "      <th>UO</th>\n",
       "      <th>NOME_UO</th>\n",
       "      <th>A_LIQUIDAR</th>\n",
       "      <th>LIQUIDADO_A_PAGAR</th>\n",
       "      <th>TOTAL_A_PAGAR</th>\n",
       "      <th>PAGO</th>\n",
       "    </tr>\n",
       "  </thead>\n",
       "  <tbody>\n",
       "    <tr>\n",
       "      <th>0</th>\n",
       "      <td>160129</td>\n",
       "      <td>CAPACITACAO PROFISSIONAL MILITAR DO E</td>\n",
       "      <td>DECEX/GESTOR</td>\n",
       "      <td>C4ENMILCAPE</td>\n",
       "      <td>CAPACITACAO DE PESSOAL</td>\n",
       "      <td>339033</td>\n",
       "      <td>PASSAGENS E DESPESAS COM LOCOMOCAO</td>\n",
       "      <td>33903301</td>\n",
       "      <td>PASSAGENS PARA O PAIS</td>\n",
       "      <td>2023NE000033</td>\n",
       "      <td>2023</td>\n",
       "      <td>2023-02-03</td>\n",
       "      <td>14807420000199</td>\n",
       "      <td>FACTO TURISMO  LTDA</td>\n",
       "      <td>SP</td>\n",
       "      <td>RPNP</td>\n",
       "      <td>752</td>\n",
       "      <td>MG</td>\n",
       "      <td>PREGAO</td>\n",
       "      <td>GLOBAL</td>\n",
       "      <td>2</td>\n",
       "      <td>PRIMARIO DISCRICIONARIO</td>\n",
       "      <td>52121</td>\n",
       "      <td>COMANDO DO EXERCITO</td>\n",
       "      <td>3236.21</td>\n",
       "      <td>0.00</td>\n",
       "      <td>3236.21</td>\n",
       "      <td>0.00</td>\n",
       "    </tr>\n",
       "    <tr>\n",
       "      <th>1</th>\n",
       "      <td>167129</td>\n",
       "      <td>ADMINISTRACAO DA UNIDADE</td>\n",
       "      <td>DECEX - GESTOR</td>\n",
       "      <td>C1ENCONDETM</td>\n",
       "      <td>CONCURSOS AS ESCOLAS MILITARES</td>\n",
       "      <td>339040</td>\n",
       "      <td>SERVIÇOS DE TECNOLOGIA DA INFORMAÇÃO E COMUNIC...</td>\n",
       "      <td>33904012</td>\n",
       "      <td>MANUTENCAO E CONSERVACAO DE EQUIPAMENTOS DE TIC</td>\n",
       "      <td>2023NE001678</td>\n",
       "      <td>2023</td>\n",
       "      <td>2023-10-20</td>\n",
       "      <td>05691235000190</td>\n",
       "      <td>COPYUAI LOCACAO DE EQUIPAMENTOS LTDA</td>\n",
       "      <td>MG</td>\n",
       "      <td>RPNP</td>\n",
       "      <td>493</td>\n",
       "      <td>MG</td>\n",
       "      <td>PREGAO</td>\n",
       "      <td>GLOBAL</td>\n",
       "      <td>2</td>\n",
       "      <td>PRIMARIO DISCRICIONARIO</td>\n",
       "      <td>52921</td>\n",
       "      <td>FUNDO DO EXERCITO</td>\n",
       "      <td>4794.00</td>\n",
       "      <td>0.00</td>\n",
       "      <td>4794.00</td>\n",
       "      <td>0.00</td>\n",
       "    </tr>\n",
       "    <tr>\n",
       "      <th>2</th>\n",
       "      <td>160129</td>\n",
       "      <td>CAPACITACAO PROFISSIONAL MILITAR DO E</td>\n",
       "      <td>DECEX/GESTOR</td>\n",
       "      <td>C4ENMILCAPE</td>\n",
       "      <td>CAPACITACAO DE PESSOAL</td>\n",
       "      <td>339033</td>\n",
       "      <td>PASSAGENS E DESPESAS COM LOCOMOCAO</td>\n",
       "      <td>33903301</td>\n",
       "      <td>PASSAGENS PARA O PAIS</td>\n",
       "      <td>2024NE000011</td>\n",
       "      <td>2024</td>\n",
       "      <td>2024-01-23</td>\n",
       "      <td>14807420000199</td>\n",
       "      <td>FACTO TURISMO  LTDA</td>\n",
       "      <td>SP</td>\n",
       "      <td>RPNP</td>\n",
       "      <td>398</td>\n",
       "      <td>MG</td>\n",
       "      <td>PREGAO</td>\n",
       "      <td>GLOBAL</td>\n",
       "      <td>2</td>\n",
       "      <td>PRIMARIO DISCRICIONARIO</td>\n",
       "      <td>52121</td>\n",
       "      <td>COMANDO DO EXERCITO</td>\n",
       "      <td>9273.13</td>\n",
       "      <td>5828.30</td>\n",
       "      <td>15101.43</td>\n",
       "      <td>0.00</td>\n",
       "    </tr>\n",
       "    <tr>\n",
       "      <th>3</th>\n",
       "      <td>160129</td>\n",
       "      <td>CAPACITACAO PROFISSIONAL MILITAR DO E</td>\n",
       "      <td>DECEX/GESTOR</td>\n",
       "      <td>C4ENMILCAPE</td>\n",
       "      <td>CAPACITACAO DE PESSOAL</td>\n",
       "      <td>339033</td>\n",
       "      <td>PASSAGENS E DESPESAS COM LOCOMOCAO</td>\n",
       "      <td>33903301</td>\n",
       "      <td>PASSAGENS PARA O PAIS</td>\n",
       "      <td>2024NE000124</td>\n",
       "      <td>2024</td>\n",
       "      <td>2024-02-26</td>\n",
       "      <td>21331404000138</td>\n",
       "      <td>ORLEANS VIAGENS E TURISMO LTDA</td>\n",
       "      <td>SP</td>\n",
       "      <td>RPNP</td>\n",
       "      <td>364</td>\n",
       "      <td>MG</td>\n",
       "      <td>PREGAO</td>\n",
       "      <td>GLOBAL</td>\n",
       "      <td>2</td>\n",
       "      <td>PRIMARIO DISCRICIONARIO</td>\n",
       "      <td>52121</td>\n",
       "      <td>COMANDO DO EXERCITO</td>\n",
       "      <td>3268.98</td>\n",
       "      <td>65.78</td>\n",
       "      <td>3334.76</td>\n",
       "      <td>867.41</td>\n",
       "    </tr>\n",
       "    <tr>\n",
       "      <th>4</th>\n",
       "      <td>160129</td>\n",
       "      <td>CAPACITACAO PROFISSIONAL MILITAR DO E</td>\n",
       "      <td>DECEX/GESTOR</td>\n",
       "      <td>C4ENMILCAPE</td>\n",
       "      <td>CAPACITACAO DE PESSOAL</td>\n",
       "      <td>339039</td>\n",
       "      <td>OUTROS SERVICOS DE TERCEIROS - PESSOA JURIDICA</td>\n",
       "      <td>33903946</td>\n",
       "      <td>SERVICOS DOMESTICOS</td>\n",
       "      <td>2024NE000167</td>\n",
       "      <td>2024</td>\n",
       "      <td>2024-02-27</td>\n",
       "      <td>15272846000158</td>\n",
       "      <td>PS SERVICOS DE LAVANDERIA LTDA</td>\n",
       "      <td>RN</td>\n",
       "      <td>RPNP</td>\n",
       "      <td>363</td>\n",
       "      <td>MG</td>\n",
       "      <td>PREGAO</td>\n",
       "      <td>GLOBAL</td>\n",
       "      <td>2</td>\n",
       "      <td>PRIMARIO DISCRICIONARIO</td>\n",
       "      <td>52121</td>\n",
       "      <td>COMANDO DO EXERCITO</td>\n",
       "      <td>11216.60</td>\n",
       "      <td>0.00</td>\n",
       "      <td>11216.60</td>\n",
       "      <td>0.00</td>\n",
       "    </tr>\n",
       "  </tbody>\n",
       "</table>\n",
       "</div>"
      ],
      "text/plain": [
       "       UG                              NOME_ACAO        NOME_UGR           PI  \\\n",
       "0  160129  CAPACITACAO PROFISSIONAL MILITAR DO E    DECEX/GESTOR  C4ENMILCAPE   \n",
       "1  167129               ADMINISTRACAO DA UNIDADE  DECEX - GESTOR  C1ENCONDETM   \n",
       "2  160129  CAPACITACAO PROFISSIONAL MILITAR DO E    DECEX/GESTOR  C4ENMILCAPE   \n",
       "3  160129  CAPACITACAO PROFISSIONAL MILITAR DO E    DECEX/GESTOR  C4ENMILCAPE   \n",
       "4  160129  CAPACITACAO PROFISSIONAL MILITAR DO E    DECEX/GESTOR  C4ENMILCAPE   \n",
       "\n",
       "                          NOME_PI      ND  \\\n",
       "0          CAPACITACAO DE PESSOAL  339033   \n",
       "1  CONCURSOS AS ESCOLAS MILITARES  339040   \n",
       "2          CAPACITACAO DE PESSOAL  339033   \n",
       "3          CAPACITACAO DE PESSOAL  339033   \n",
       "4          CAPACITACAO DE PESSOAL  339039   \n",
       "\n",
       "                                             NOME_ND      NDSI  \\\n",
       "0                 PASSAGENS E DESPESAS COM LOCOMOCAO  33903301   \n",
       "1  SERVIÇOS DE TECNOLOGIA DA INFORMAÇÃO E COMUNIC...  33904012   \n",
       "2                 PASSAGENS E DESPESAS COM LOCOMOCAO  33903301   \n",
       "3                 PASSAGENS E DESPESAS COM LOCOMOCAO  33903301   \n",
       "4     OUTROS SERVICOS DE TERCEIROS - PESSOA JURIDICA  33903946   \n",
       "\n",
       "                                         NOME_NDSI            NE   ANO  \\\n",
       "0                            PASSAGENS PARA O PAIS  2023NE000033  2023   \n",
       "1  MANUTENCAO E CONSERVACAO DE EQUIPAMENTOS DE TIC  2023NE001678  2023   \n",
       "2                            PASSAGENS PARA O PAIS  2024NE000011  2024   \n",
       "3                            PASSAGENS PARA O PAIS  2024NE000124  2024   \n",
       "4                              SERVICOS DOMESTICOS  2024NE000167  2024   \n",
       "\n",
       "        DATA             FAV                           NOME_CREDOR UF_FAV  \\\n",
       "0 2023-02-03  14807420000199                   FACTO TURISMO  LTDA     SP   \n",
       "1 2023-10-20  05691235000190  COPYUAI LOCACAO DE EQUIPAMENTOS LTDA     MG   \n",
       "2 2024-01-23  14807420000199                   FACTO TURISMO  LTDA     SP   \n",
       "3 2024-02-26  21331404000138        ORLEANS VIAGENS E TURISMO LTDA     SP   \n",
       "4 2024-02-27  15272846000158        PS SERVICOS DE LAVANDERIA LTDA     RN   \n",
       "\n",
       "   TIPO  DIAS UF_UG MOD_LIC TIPO_NE RP                  NOME_RP     UO  \\\n",
       "0  RPNP   752    MG  PREGAO  GLOBAL  2  PRIMARIO DISCRICIONARIO  52121   \n",
       "1  RPNP   493    MG  PREGAO  GLOBAL  2  PRIMARIO DISCRICIONARIO  52921   \n",
       "2  RPNP   398    MG  PREGAO  GLOBAL  2  PRIMARIO DISCRICIONARIO  52121   \n",
       "3  RPNP   364    MG  PREGAO  GLOBAL  2  PRIMARIO DISCRICIONARIO  52121   \n",
       "4  RPNP   363    MG  PREGAO  GLOBAL  2  PRIMARIO DISCRICIONARIO  52121   \n",
       "\n",
       "               NOME_UO  A_LIQUIDAR  LIQUIDADO_A_PAGAR  TOTAL_A_PAGAR    PAGO  \n",
       "0  COMANDO DO EXERCITO     3236.21               0.00        3236.21    0.00  \n",
       "1    FUNDO DO EXERCITO     4794.00               0.00        4794.00    0.00  \n",
       "2  COMANDO DO EXERCITO     9273.13            5828.30       15101.43    0.00  \n",
       "3  COMANDO DO EXERCITO     3268.98              65.78        3334.76  867.41  \n",
       "4  COMANDO DO EXERCITO    11216.60               0.00       11216.60    0.00  "
      ]
     },
     "execution_count": 33,
     "metadata": {},
     "output_type": "execute_result"
    }
   ],
   "source": [
    "cols = ['UG','NOME_ACAO', 'NOME_UGR', 'PI',\n",
    "       'NOME_PI', 'ND', 'NOME_ND', 'NDSI', 'NOME_NDSI', 'NE', 'ANO', 'DATA',\n",
    "       'FAV', 'NOME_CREDOR', 'UF_FAV', 'TIPO', 'DIAS', 'UF_UG',\n",
    "       'MOD_LIC', 'TIPO_NE', 'RP', 'NOME_RP', 'UO', 'NOME_UO', 'A_LIQUIDAR',\n",
    "       'LIQUIDADO_A_PAGAR', 'TOTAL_A_PAGAR', 'PAGO']\n",
    "\n",
    "df_liquidar.loc[:, cols].head()"
   ]
  },
  {
   "cell_type": "code",
   "execution_count": 34,
   "metadata": {},
   "outputs": [],
   "source": [
    "df_liquidar.to_excel('empenhos_2024_liquidar.xlsx')"
   ]
  },
  {
   "cell_type": "code",
   "execution_count": 35,
   "metadata": {},
   "outputs": [],
   "source": [
    "df_empenhos_mais_60_dias = df_teste[(df_teste['DIAS'] >= 60)& (df_teste['A_LIQUIDAR'] != 0)].sort_values(by=\"A_LIQUIDAR\", ascending=False)\n",
    "\n",
    "df_empenhos_mais_60_dias.to_excel('empenhos_mais_60_dias.xlsx')"
   ]
  },
  {
   "cell_type": "code",
   "execution_count": 36,
   "metadata": {},
   "outputs": [],
   "source": [
    "df_ensino = df_teste[df_teste['AÇÃO'] == '8965']"
   ]
  },
  {
   "cell_type": "code",
   "execution_count": 37,
   "metadata": {},
   "outputs": [
    {
     "name": "stdout",
     "output_type": "stream",
     "text": [
      "O total pago pela ESA até o momento foi: R$ 308.118,80\n",
      "O total de saldo a liquidar pela ESA até o momento foi: R$ 1.331.228,13\n",
      "O total de saldo liquidado a pagar pela ESA até o momento foi: R$ 76.391,62\n",
      "O total de saldo a pagar pela ESA até o momento foi: R$ 1.407.619,75\n"
     ]
    }
   ],
   "source": [
    "total_pago_ensino = df_ensino['PAGO'].sum().round(2)\n",
    "total_a_liquidar_ensino = df_ensino['A_LIQUIDAR'].sum().round(2)\n",
    "total_liquidado_a_pagar_ensino = df_ensino['LIQUIDADO_A_PAGAR'].sum().round(2)\n",
    "total_a_pagar_ensino = df_ensino['TOTAL_A_PAGAR'].sum().round(2)\n",
    "\n",
    "\n",
    "print(f'O total pago pela ESA até o momento foi: {locale.currency(total_pago_ensino, grouping=True)}')\n",
    "print(f'O total de saldo a liquidar pela ESA até o momento foi: {locale.currency(total_a_liquidar_ensino, grouping=True)}')\n",
    "print(f'O total de saldo liquidado a pagar pela ESA até o momento foi: {locale.currency(total_liquidado_a_pagar_ensino, grouping=True)}')\n",
    "print(f'O total de saldo a pagar pela ESA até o momento foi: {locale.currency(total_a_pagar_ensino, grouping=True)}')"
   ]
  },
  {
   "cell_type": "code",
   "execution_count": 38,
   "metadata": {},
   "outputs": [
    {
     "data": {
      "text/html": [
       "<div>\n",
       "<style scoped>\n",
       "    .dataframe tbody tr th:only-of-type {\n",
       "        vertical-align: middle;\n",
       "    }\n",
       "\n",
       "    .dataframe tbody tr th {\n",
       "        vertical-align: top;\n",
       "    }\n",
       "\n",
       "    .dataframe thead th {\n",
       "        text-align: right;\n",
       "    }\n",
       "</style>\n",
       "<table border=\"1\" class=\"dataframe\">\n",
       "  <thead>\n",
       "    <tr style=\"text-align: right;\">\n",
       "      <th></th>\n",
       "      <th>UG</th>\n",
       "      <th>SIGLA</th>\n",
       "      <th>CGCFEX</th>\n",
       "      <th>RM</th>\n",
       "      <th>COMANDO</th>\n",
       "      <th>CIDADE</th>\n",
       "      <th>UF</th>\n",
       "      <th>PROGRAMA</th>\n",
       "      <th>AÇÃO</th>\n",
       "      <th>NOME_ACAO</th>\n",
       "      <th>UGR</th>\n",
       "      <th>NOME_UGR</th>\n",
       "      <th>PTRES</th>\n",
       "      <th>PI</th>\n",
       "      <th>RADICAL_4_PI</th>\n",
       "      <th>MEIO_3_PI</th>\n",
       "      <th>SUFIXO_4_PI</th>\n",
       "      <th>NOME_PI</th>\n",
       "      <th>ND</th>\n",
       "      <th>NOME_ND</th>\n",
       "      <th>NDSI</th>\n",
       "      <th>NOME_NDSI</th>\n",
       "      <th>NE</th>\n",
       "      <th>ANO</th>\n",
       "      <th>DATA</th>\n",
       "      <th>CHAVE</th>\n",
       "      <th>FAV</th>\n",
       "      <th>NOME_CREDOR</th>\n",
       "      <th>UF_FAV</th>\n",
       "      <th>TIPO</th>\n",
       "      <th>DIAS</th>\n",
       "      <th>UF_UG</th>\n",
       "      <th>FONTE</th>\n",
       "      <th>MOD_LIC</th>\n",
       "      <th>TIPO_NE</th>\n",
       "      <th>RP</th>\n",
       "      <th>NOME_RP</th>\n",
       "      <th>TIPO_CREDITO</th>\n",
       "      <th>NOME_TIPO_CREDITO</th>\n",
       "      <th>PO</th>\n",
       "      <th>AUTOR_EMENDA</th>\n",
       "      <th>NOME_AUTOR_EMENDA</th>\n",
       "      <th>LOCAL</th>\n",
       "      <th>NOME_UO</th>\n",
       "      <th>UO</th>\n",
       "      <th>A_LIQUIDAR</th>\n",
       "      <th>LIQUIDADO_A_PAGAR</th>\n",
       "      <th>TOTAL_A_PAGAR</th>\n",
       "      <th>PAGO</th>\n",
       "    </tr>\n",
       "  </thead>\n",
       "  <tbody>\n",
       "    <tr>\n",
       "      <th>207</th>\n",
       "      <td>160129</td>\n",
       "      <td>ESA</td>\n",
       "      <td>4º CGCFEx</td>\n",
       "      <td>4ª RM</td>\n",
       "      <td>CML</td>\n",
       "      <td>Três Corações</td>\n",
       "      <td>MG</td>\n",
       "      <td>6112</td>\n",
       "      <td>8965</td>\n",
       "      <td>CAPACITACAO PROFISSIONAL MILITAR DO E</td>\n",
       "      <td>160503</td>\n",
       "      <td>DECEX/GESTOR</td>\n",
       "      <td>232082</td>\n",
       "      <td>C4ENMILCAPE</td>\n",
       "      <td>C4EN</td>\n",
       "      <td>MIL</td>\n",
       "      <td>CAPE</td>\n",
       "      <td>CAPACITACAO DE PESSOAL</td>\n",
       "      <td>339033</td>\n",
       "      <td>PASSAGENS E DESPESAS COM LOCOMOCAO</td>\n",
       "      <td>33903309</td>\n",
       "      <td>TRANSPORTE DE SERVIDORES</td>\n",
       "      <td>2024NE000810</td>\n",
       "      <td>2024</td>\n",
       "      <td>2024-07-03</td>\n",
       "      <td>160129000012024NE000810</td>\n",
       "      <td>05824788000174</td>\n",
       "      <td>EMPRESA DE TRANSPORTES KOPERECK LTDA</td>\n",
       "      <td>RS</td>\n",
       "      <td>RPNP</td>\n",
       "      <td>236</td>\n",
       "      <td>MG</td>\n",
       "      <td>1000000000</td>\n",
       "      <td>PREGAO</td>\n",
       "      <td>GLOBAL</td>\n",
       "      <td>2</td>\n",
       "      <td>PRIMARIO DISCRICIONARIO</td>\n",
       "      <td>A</td>\n",
       "      <td>INICIAL (LOA)</td>\n",
       "      <td>0000</td>\n",
       "      <td>000000000000</td>\n",
       "      <td>SEM EMENDA</td>\n",
       "      <td>ESCOLA DE SARGENTOS DAS ARMAS - AV. SETE DE SE...</td>\n",
       "      <td>COMANDO DO EXERCITO</td>\n",
       "      <td>52121</td>\n",
       "      <td>484382.76</td>\n",
       "      <td>0.00</td>\n",
       "      <td>484382.76</td>\n",
       "      <td>0.0</td>\n",
       "    </tr>\n",
       "    <tr>\n",
       "      <th>210</th>\n",
       "      <td>160129</td>\n",
       "      <td>ESA</td>\n",
       "      <td>4º CGCFEx</td>\n",
       "      <td>4ª RM</td>\n",
       "      <td>CML</td>\n",
       "      <td>Três Corações</td>\n",
       "      <td>MG</td>\n",
       "      <td>6112</td>\n",
       "      <td>8965</td>\n",
       "      <td>CAPACITACAO PROFISSIONAL MILITAR DO E</td>\n",
       "      <td>160503</td>\n",
       "      <td>DECEX/GESTOR</td>\n",
       "      <td>232082</td>\n",
       "      <td>C4ENMILCAPE</td>\n",
       "      <td>C4EN</td>\n",
       "      <td>MIL</td>\n",
       "      <td>CAPE</td>\n",
       "      <td>CAPACITACAO DE PESSOAL</td>\n",
       "      <td>339033</td>\n",
       "      <td>PASSAGENS E DESPESAS COM LOCOMOCAO</td>\n",
       "      <td>33903309</td>\n",
       "      <td>TRANSPORTE DE SERVIDORES</td>\n",
       "      <td>2024NE001947</td>\n",
       "      <td>2024</td>\n",
       "      <td>2024-11-13</td>\n",
       "      <td>160129000012024NE001947</td>\n",
       "      <td>05824788000174</td>\n",
       "      <td>EMPRESA DE TRANSPORTES KOPERECK LTDA</td>\n",
       "      <td>RS</td>\n",
       "      <td>RPNP</td>\n",
       "      <td>103</td>\n",
       "      <td>MG</td>\n",
       "      <td>1000000000</td>\n",
       "      <td>PREGAO</td>\n",
       "      <td>GLOBAL</td>\n",
       "      <td>2</td>\n",
       "      <td>PRIMARIO DISCRICIONARIO</td>\n",
       "      <td>A</td>\n",
       "      <td>INICIAL (LOA)</td>\n",
       "      <td>0000</td>\n",
       "      <td>000000000000</td>\n",
       "      <td>SEM EMENDA</td>\n",
       "      <td>ESCOLA DE SARGENTOS DAS ARMAS - AV. SETE DE SE...</td>\n",
       "      <td>COMANDO DO EXERCITO</td>\n",
       "      <td>52121</td>\n",
       "      <td>188028.46</td>\n",
       "      <td>0.00</td>\n",
       "      <td>188028.46</td>\n",
       "      <td>0.0</td>\n",
       "    </tr>\n",
       "    <tr>\n",
       "      <th>216</th>\n",
       "      <td>160129</td>\n",
       "      <td>ESA</td>\n",
       "      <td>4º CGCFEx</td>\n",
       "      <td>4ª RM</td>\n",
       "      <td>CML</td>\n",
       "      <td>Três Corações</td>\n",
       "      <td>MG</td>\n",
       "      <td>6112</td>\n",
       "      <td>8965</td>\n",
       "      <td>CAPACITACAO PROFISSIONAL MILITAR DO E</td>\n",
       "      <td>160503</td>\n",
       "      <td>DECEX/GESTOR</td>\n",
       "      <td>232082</td>\n",
       "      <td>C4ENMILCAPE</td>\n",
       "      <td>C4EN</td>\n",
       "      <td>MIL</td>\n",
       "      <td>CAPE</td>\n",
       "      <td>CAPACITACAO DE PESSOAL</td>\n",
       "      <td>339039</td>\n",
       "      <td>OUTROS SERVICOS DE TERCEIROS - PESSOA JURIDICA</td>\n",
       "      <td>33903922</td>\n",
       "      <td>EXPOSICOES, CONGRESSOS E CONFERENCIAS</td>\n",
       "      <td>2024NE002594</td>\n",
       "      <td>2024</td>\n",
       "      <td>2024-12-20</td>\n",
       "      <td>160129000012024NE002594</td>\n",
       "      <td>07851262000109</td>\n",
       "      <td>MV EVENTOS ARTISTICOS E ESPORTIVOS LTDA</td>\n",
       "      <td>MG</td>\n",
       "      <td>RPNP</td>\n",
       "      <td>66</td>\n",
       "      <td>MG</td>\n",
       "      <td>1000000000</td>\n",
       "      <td>PREGAO</td>\n",
       "      <td>GLOBAL</td>\n",
       "      <td>2</td>\n",
       "      <td>PRIMARIO DISCRICIONARIO</td>\n",
       "      <td>A</td>\n",
       "      <td>INICIAL (LOA)</td>\n",
       "      <td>0000</td>\n",
       "      <td>000000000000</td>\n",
       "      <td>SEM EMENDA</td>\n",
       "      <td>ESCOLA DE SARGENTOS DAS ARMAS - AV. SETE DE SE...</td>\n",
       "      <td>COMANDO DO EXERCITO</td>\n",
       "      <td>52121</td>\n",
       "      <td>157576.00</td>\n",
       "      <td>0.00</td>\n",
       "      <td>157576.00</td>\n",
       "      <td>0.0</td>\n",
       "    </tr>\n",
       "    <tr>\n",
       "      <th>219</th>\n",
       "      <td>160129</td>\n",
       "      <td>ESA</td>\n",
       "      <td>4º CGCFEx</td>\n",
       "      <td>4ª RM</td>\n",
       "      <td>CML</td>\n",
       "      <td>Três Corações</td>\n",
       "      <td>MG</td>\n",
       "      <td>6112</td>\n",
       "      <td>8965</td>\n",
       "      <td>CAPACITACAO PROFISSIONAL MILITAR DO E</td>\n",
       "      <td>160503</td>\n",
       "      <td>DECEX/GESTOR</td>\n",
       "      <td>232082</td>\n",
       "      <td>C4ENMILCAPE</td>\n",
       "      <td>C4EN</td>\n",
       "      <td>MIL</td>\n",
       "      <td>CAPE</td>\n",
       "      <td>CAPACITACAO DE PESSOAL</td>\n",
       "      <td>339039</td>\n",
       "      <td>OUTROS SERVICOS DE TERCEIROS - PESSOA JURIDICA</td>\n",
       "      <td>33903946</td>\n",
       "      <td>SERVICOS DOMESTICOS</td>\n",
       "      <td>2024NE002564</td>\n",
       "      <td>2024</td>\n",
       "      <td>2024-12-06</td>\n",
       "      <td>160129000012024NE002564</td>\n",
       "      <td>15272846000158</td>\n",
       "      <td>PS SERVICOS DE LAVANDERIA LTDA</td>\n",
       "      <td>RN</td>\n",
       "      <td>RPNP</td>\n",
       "      <td>80</td>\n",
       "      <td>MG</td>\n",
       "      <td>1000000000</td>\n",
       "      <td>PREGAO</td>\n",
       "      <td>GLOBAL</td>\n",
       "      <td>2</td>\n",
       "      <td>PRIMARIO DISCRICIONARIO</td>\n",
       "      <td>A</td>\n",
       "      <td>INICIAL (LOA)</td>\n",
       "      <td>0000</td>\n",
       "      <td>000000000000</td>\n",
       "      <td>SEM EMENDA</td>\n",
       "      <td>ESCOLA DE SARGENTOS DAS ARMAS - AV. SETE DE SE...</td>\n",
       "      <td>COMANDO DO EXERCITO</td>\n",
       "      <td>52121</td>\n",
       "      <td>88587.62</td>\n",
       "      <td>12567.28</td>\n",
       "      <td>101154.90</td>\n",
       "      <td>0.0</td>\n",
       "    </tr>\n",
       "    <tr>\n",
       "      <th>206</th>\n",
       "      <td>160129</td>\n",
       "      <td>ESA</td>\n",
       "      <td>4º CGCFEx</td>\n",
       "      <td>4ª RM</td>\n",
       "      <td>CML</td>\n",
       "      <td>Três Corações</td>\n",
       "      <td>MG</td>\n",
       "      <td>6112</td>\n",
       "      <td>8965</td>\n",
       "      <td>CAPACITACAO PROFISSIONAL MILITAR DO E</td>\n",
       "      <td>160503</td>\n",
       "      <td>DECEX/GESTOR</td>\n",
       "      <td>232082</td>\n",
       "      <td>C4ENMILCAPE</td>\n",
       "      <td>C4EN</td>\n",
       "      <td>MIL</td>\n",
       "      <td>CAPE</td>\n",
       "      <td>CAPACITACAO DE PESSOAL</td>\n",
       "      <td>339033</td>\n",
       "      <td>PASSAGENS E DESPESAS COM LOCOMOCAO</td>\n",
       "      <td>33903307</td>\n",
       "      <td>DESPESAS COM EXCESSO DE BAGAGEM</td>\n",
       "      <td>2024NE001049</td>\n",
       "      <td>2024</td>\n",
       "      <td>2024-09-19</td>\n",
       "      <td>160129000012024NE001049</td>\n",
       "      <td>05824788000174</td>\n",
       "      <td>EMPRESA DE TRANSPORTES KOPERECK LTDA</td>\n",
       "      <td>RS</td>\n",
       "      <td>RPNP</td>\n",
       "      <td>158</td>\n",
       "      <td>MG</td>\n",
       "      <td>3000000000</td>\n",
       "      <td>PREGAO</td>\n",
       "      <td>GLOBAL</td>\n",
       "      <td>2</td>\n",
       "      <td>PRIMARIO DISCRICIONARIO</td>\n",
       "      <td>A</td>\n",
       "      <td>INICIAL (LOA)</td>\n",
       "      <td>0000</td>\n",
       "      <td>000000000000</td>\n",
       "      <td>SEM EMENDA</td>\n",
       "      <td>ESCOLA DE SARGENTOS DAS ARMAS - AV. SETE DE SE...</td>\n",
       "      <td>COMANDO DO EXERCITO</td>\n",
       "      <td>52121</td>\n",
       "      <td>55995.30</td>\n",
       "      <td>0.00</td>\n",
       "      <td>55995.30</td>\n",
       "      <td>0.0</td>\n",
       "    </tr>\n",
       "  </tbody>\n",
       "</table>\n",
       "</div>"
      ],
      "text/plain": [
       "         UG SIGLA     CGCFEX     RM COMANDO         CIDADE  UF PROGRAMA  AÇÃO  \\\n",
       "207  160129   ESA  4º CGCFEx  4ª RM     CML  Três Corações  MG     6112  8965   \n",
       "210  160129   ESA  4º CGCFEx  4ª RM     CML  Três Corações  MG     6112  8965   \n",
       "216  160129   ESA  4º CGCFEx  4ª RM     CML  Três Corações  MG     6112  8965   \n",
       "219  160129   ESA  4º CGCFEx  4ª RM     CML  Três Corações  MG     6112  8965   \n",
       "206  160129   ESA  4º CGCFEx  4ª RM     CML  Três Corações  MG     6112  8965   \n",
       "\n",
       "                                 NOME_ACAO     UGR      NOME_UGR   PTRES  \\\n",
       "207  CAPACITACAO PROFISSIONAL MILITAR DO E  160503  DECEX/GESTOR  232082   \n",
       "210  CAPACITACAO PROFISSIONAL MILITAR DO E  160503  DECEX/GESTOR  232082   \n",
       "216  CAPACITACAO PROFISSIONAL MILITAR DO E  160503  DECEX/GESTOR  232082   \n",
       "219  CAPACITACAO PROFISSIONAL MILITAR DO E  160503  DECEX/GESTOR  232082   \n",
       "206  CAPACITACAO PROFISSIONAL MILITAR DO E  160503  DECEX/GESTOR  232082   \n",
       "\n",
       "              PI RADICAL_4_PI MEIO_3_PI SUFIXO_4_PI                 NOME_PI  \\\n",
       "207  C4ENMILCAPE         C4EN       MIL        CAPE  CAPACITACAO DE PESSOAL   \n",
       "210  C4ENMILCAPE         C4EN       MIL        CAPE  CAPACITACAO DE PESSOAL   \n",
       "216  C4ENMILCAPE         C4EN       MIL        CAPE  CAPACITACAO DE PESSOAL   \n",
       "219  C4ENMILCAPE         C4EN       MIL        CAPE  CAPACITACAO DE PESSOAL   \n",
       "206  C4ENMILCAPE         C4EN       MIL        CAPE  CAPACITACAO DE PESSOAL   \n",
       "\n",
       "         ND                                         NOME_ND      NDSI  \\\n",
       "207  339033              PASSAGENS E DESPESAS COM LOCOMOCAO  33903309   \n",
       "210  339033              PASSAGENS E DESPESAS COM LOCOMOCAO  33903309   \n",
       "216  339039  OUTROS SERVICOS DE TERCEIROS - PESSOA JURIDICA  33903922   \n",
       "219  339039  OUTROS SERVICOS DE TERCEIROS - PESSOA JURIDICA  33903946   \n",
       "206  339033              PASSAGENS E DESPESAS COM LOCOMOCAO  33903307   \n",
       "\n",
       "                                 NOME_NDSI            NE   ANO       DATA  \\\n",
       "207               TRANSPORTE DE SERVIDORES  2024NE000810  2024 2024-07-03   \n",
       "210               TRANSPORTE DE SERVIDORES  2024NE001947  2024 2024-11-13   \n",
       "216  EXPOSICOES, CONGRESSOS E CONFERENCIAS  2024NE002594  2024 2024-12-20   \n",
       "219                    SERVICOS DOMESTICOS  2024NE002564  2024 2024-12-06   \n",
       "206        DESPESAS COM EXCESSO DE BAGAGEM  2024NE001049  2024 2024-09-19   \n",
       "\n",
       "                       CHAVE             FAV  \\\n",
       "207  160129000012024NE000810  05824788000174   \n",
       "210  160129000012024NE001947  05824788000174   \n",
       "216  160129000012024NE002594  07851262000109   \n",
       "219  160129000012024NE002564  15272846000158   \n",
       "206  160129000012024NE001049  05824788000174   \n",
       "\n",
       "                                 NOME_CREDOR UF_FAV  TIPO  DIAS UF_UG  \\\n",
       "207     EMPRESA DE TRANSPORTES KOPERECK LTDA     RS  RPNP   236    MG   \n",
       "210     EMPRESA DE TRANSPORTES KOPERECK LTDA     RS  RPNP   103    MG   \n",
       "216  MV EVENTOS ARTISTICOS E ESPORTIVOS LTDA     MG  RPNP    66    MG   \n",
       "219           PS SERVICOS DE LAVANDERIA LTDA     RN  RPNP    80    MG   \n",
       "206     EMPRESA DE TRANSPORTES KOPERECK LTDA     RS  RPNP   158    MG   \n",
       "\n",
       "          FONTE MOD_LIC TIPO_NE RP                  NOME_RP TIPO_CREDITO  \\\n",
       "207  1000000000  PREGAO  GLOBAL  2  PRIMARIO DISCRICIONARIO            A   \n",
       "210  1000000000  PREGAO  GLOBAL  2  PRIMARIO DISCRICIONARIO            A   \n",
       "216  1000000000  PREGAO  GLOBAL  2  PRIMARIO DISCRICIONARIO            A   \n",
       "219  1000000000  PREGAO  GLOBAL  2  PRIMARIO DISCRICIONARIO            A   \n",
       "206  3000000000  PREGAO  GLOBAL  2  PRIMARIO DISCRICIONARIO            A   \n",
       "\n",
       "    NOME_TIPO_CREDITO    PO  AUTOR_EMENDA NOME_AUTOR_EMENDA  \\\n",
       "207     INICIAL (LOA)  0000  000000000000        SEM EMENDA   \n",
       "210     INICIAL (LOA)  0000  000000000000        SEM EMENDA   \n",
       "216     INICIAL (LOA)  0000  000000000000        SEM EMENDA   \n",
       "219     INICIAL (LOA)  0000  000000000000        SEM EMENDA   \n",
       "206     INICIAL (LOA)  0000  000000000000        SEM EMENDA   \n",
       "\n",
       "                                                 LOCAL              NOME_UO  \\\n",
       "207  ESCOLA DE SARGENTOS DAS ARMAS - AV. SETE DE SE...  COMANDO DO EXERCITO   \n",
       "210  ESCOLA DE SARGENTOS DAS ARMAS - AV. SETE DE SE...  COMANDO DO EXERCITO   \n",
       "216  ESCOLA DE SARGENTOS DAS ARMAS - AV. SETE DE SE...  COMANDO DO EXERCITO   \n",
       "219  ESCOLA DE SARGENTOS DAS ARMAS - AV. SETE DE SE...  COMANDO DO EXERCITO   \n",
       "206  ESCOLA DE SARGENTOS DAS ARMAS - AV. SETE DE SE...  COMANDO DO EXERCITO   \n",
       "\n",
       "        UO  A_LIQUIDAR  LIQUIDADO_A_PAGAR  TOTAL_A_PAGAR  PAGO  \n",
       "207  52121   484382.76               0.00      484382.76   0.0  \n",
       "210  52121   188028.46               0.00      188028.46   0.0  \n",
       "216  52121   157576.00               0.00      157576.00   0.0  \n",
       "219  52121    88587.62           12567.28      101154.90   0.0  \n",
       "206  52121    55995.30               0.00       55995.30   0.0  "
      ]
     },
     "execution_count": 38,
     "metadata": {},
     "output_type": "execute_result"
    }
   ],
   "source": [
    "df_ensino.sort_values(by='A_LIQUIDAR', ascending=False).head(5)"
   ]
  },
  {
   "cell_type": "code",
   "execution_count": 39,
   "metadata": {},
   "outputs": [],
   "source": [
    "cols = ['ND', 'A_LIQUIDAR', 'LIQUIDADO_A_PAGAR', 'PAGO']\n",
    "\n",
    "df_aux = df_ensino.loc[:, cols].groupby('ND').sum().sort_values(by= 'A_LIQUIDAR', ascending=False).reset_index()\n",
    "#df_aux = df_aux[df_aux['A_LIQUIDAR'] > 0]\n",
    "\n",
    "df_aux.to_excel('ensino_recursos_2024.xlsx')"
   ]
  },
  {
   "cell_type": "code",
   "execution_count": 40,
   "metadata": {},
   "outputs": [
    {
     "name": "stdout",
     "output_type": "stream",
     "text": [
      "O total pago pela ESA até o momento foi: R$ 82.546,59\n",
      "O total de saldo a liquidar pela ESA até o momento foi: R$ 2.264.838,99\n",
      "O total de saldo liquidado a pagar pela ESA até o momento foi: R$ 31.112,95\n",
      "O total de saldo a pagar pela ESA até o momento foi: R$ 2.295.951,94\n"
     ]
    }
   ],
   "source": [
    "df_transporte = df_teste[df_teste['ND'] == '339033']\n",
    "\n",
    "total_pago_ensino = df_transporte['PAGO'].sum().round(2)\n",
    "total_a_liquidar_ensino = df_transporte['A_LIQUIDAR'].sum().round(2)\n",
    "total_liquidado_a_pagar_ensino = df_transporte['LIQUIDADO_A_PAGAR'].sum().round(2)\n",
    "total_a_pagar_ensino = df_transporte['TOTAL_A_PAGAR'].sum().round(2)\n",
    "\n",
    "\n",
    "print(f'O total pago pela ESA até o momento foi: {locale.currency(total_pago_ensino, grouping=True)}')\n",
    "print(f'O total de saldo a liquidar pela ESA até o momento foi: {locale.currency(total_a_liquidar_ensino, grouping=True)}')\n",
    "print(f'O total de saldo liquidado a pagar pela ESA até o momento foi: {locale.currency(total_liquidado_a_pagar_ensino, grouping=True)}')\n",
    "print(f'O total de saldo a pagar pela ESA até o momento foi: {locale.currency(total_a_pagar_ensino, grouping=True)}')"
   ]
  },
  {
   "cell_type": "code",
   "execution_count": 41,
   "metadata": {},
   "outputs": [],
   "source": [
    "df_transporte.to_csv('nd33_2024.csv')"
   ]
  },
  {
   "cell_type": "code",
   "execution_count": 42,
   "metadata": {},
   "outputs": [],
   "source": [
    "df_discricionarias = df_teste[(df_teste['AÇÃO'] == '2000') & (df_teste['A_LIQUIDAR'] != 0)]"
   ]
  },
  {
   "cell_type": "code",
   "execution_count": 43,
   "metadata": {},
   "outputs": [
    {
     "data": {
      "text/html": [
       "<div>\n",
       "<style scoped>\n",
       "    .dataframe tbody tr th:only-of-type {\n",
       "        vertical-align: middle;\n",
       "    }\n",
       "\n",
       "    .dataframe tbody tr th {\n",
       "        vertical-align: top;\n",
       "    }\n",
       "\n",
       "    .dataframe thead th {\n",
       "        text-align: right;\n",
       "    }\n",
       "</style>\n",
       "<table border=\"1\" class=\"dataframe\">\n",
       "  <thead>\n",
       "    <tr style=\"text-align: right;\">\n",
       "      <th></th>\n",
       "      <th>UG</th>\n",
       "      <th>SIGLA</th>\n",
       "      <th>CGCFEX</th>\n",
       "      <th>RM</th>\n",
       "      <th>COMANDO</th>\n",
       "      <th>CIDADE</th>\n",
       "      <th>UF</th>\n",
       "      <th>PROGRAMA</th>\n",
       "      <th>AÇÃO</th>\n",
       "      <th>NOME_ACAO</th>\n",
       "      <th>UGR</th>\n",
       "      <th>NOME_UGR</th>\n",
       "      <th>PTRES</th>\n",
       "      <th>PI</th>\n",
       "      <th>RADICAL_4_PI</th>\n",
       "      <th>MEIO_3_PI</th>\n",
       "      <th>SUFIXO_4_PI</th>\n",
       "      <th>NOME_PI</th>\n",
       "      <th>ND</th>\n",
       "      <th>NOME_ND</th>\n",
       "      <th>NDSI</th>\n",
       "      <th>NOME_NDSI</th>\n",
       "      <th>NE</th>\n",
       "      <th>ANO</th>\n",
       "      <th>DATA</th>\n",
       "      <th>CHAVE</th>\n",
       "      <th>FAV</th>\n",
       "      <th>NOME_CREDOR</th>\n",
       "      <th>UF_FAV</th>\n",
       "      <th>TIPO</th>\n",
       "      <th>DIAS</th>\n",
       "      <th>UF_UG</th>\n",
       "      <th>FONTE</th>\n",
       "      <th>MOD_LIC</th>\n",
       "      <th>TIPO_NE</th>\n",
       "      <th>RP</th>\n",
       "      <th>NOME_RP</th>\n",
       "      <th>TIPO_CREDITO</th>\n",
       "      <th>NOME_TIPO_CREDITO</th>\n",
       "      <th>PO</th>\n",
       "      <th>AUTOR_EMENDA</th>\n",
       "      <th>NOME_AUTOR_EMENDA</th>\n",
       "      <th>LOCAL</th>\n",
       "      <th>NOME_UO</th>\n",
       "      <th>UO</th>\n",
       "      <th>A_LIQUIDAR</th>\n",
       "      <th>LIQUIDADO_A_PAGAR</th>\n",
       "      <th>TOTAL_A_PAGAR</th>\n",
       "      <th>PAGO</th>\n",
       "    </tr>\n",
       "  </thead>\n",
       "  <tbody>\n",
       "    <tr>\n",
       "      <th>65</th>\n",
       "      <td>160129</td>\n",
       "      <td>ESA</td>\n",
       "      <td>4º CGCFEx</td>\n",
       "      <td>4ª RM</td>\n",
       "      <td>CML</td>\n",
       "      <td>Três Corações</td>\n",
       "      <td>MG</td>\n",
       "      <td>6112</td>\n",
       "      <td>212O</td>\n",
       "      <td>MOVIMENTACAO DE MILITARES</td>\n",
       "      <td>160505</td>\n",
       "      <td>DGP</td>\n",
       "      <td>232007</td>\n",
       "      <td>D1PEINDCL4T</td>\n",
       "      <td>D1PE</td>\n",
       "      <td>IND</td>\n",
       "      <td>CL4T</td>\n",
       "      <td>IND - INDENIZACOES</td>\n",
       "      <td>339093</td>\n",
       "      <td>INDENIZACOES E RESTITUICOES</td>\n",
       "      <td>33909319</td>\n",
       "      <td>INDENIZACAO DE TRANSPORTE - PESSOAL MILITAR</td>\n",
       "      <td>2025NE000080</td>\n",
       "      <td>2025</td>\n",
       "      <td>2025-02-21</td>\n",
       "      <td>160129000012025NE000080</td>\n",
       "      <td>70797366334</td>\n",
       "      <td>MARGOLLIN MORAIS DA SILVA</td>\n",
       "      <td>MG</td>\n",
       "      <td>ANO</td>\n",
       "      <td>3</td>\n",
       "      <td>MG</td>\n",
       "      <td>1000000000</td>\n",
       "      <td>NAO SE APLICA</td>\n",
       "      <td>ORDINARIO</td>\n",
       "      <td>1</td>\n",
       "      <td>PRIMARIO OBRIGATORIO</td>\n",
       "      <td>A</td>\n",
       "      <td>INICIAL (LOA)</td>\n",
       "      <td>0000</td>\n",
       "      <td>000000000000</td>\n",
       "      <td>SEM EMENDA</td>\n",
       "      <td>0</td>\n",
       "      <td>COMANDO DO EXERCITO</td>\n",
       "      <td>52121</td>\n",
       "      <td>1630.20</td>\n",
       "      <td>0.0</td>\n",
       "      <td>1630.20</td>\n",
       "      <td>0.00</td>\n",
       "    </tr>\n",
       "    <tr>\n",
       "      <th>66</th>\n",
       "      <td>160129</td>\n",
       "      <td>ESA</td>\n",
       "      <td>4º CGCFEx</td>\n",
       "      <td>4ª RM</td>\n",
       "      <td>CML</td>\n",
       "      <td>Três Corações</td>\n",
       "      <td>MG</td>\n",
       "      <td>6112</td>\n",
       "      <td>212O</td>\n",
       "      <td>MOVIMENTACAO DE MILITARES</td>\n",
       "      <td>160505</td>\n",
       "      <td>DGP</td>\n",
       "      <td>232007</td>\n",
       "      <td>D1PEINDCL4T</td>\n",
       "      <td>D1PE</td>\n",
       "      <td>IND</td>\n",
       "      <td>CL4T</td>\n",
       "      <td>IND - INDENIZACOES</td>\n",
       "      <td>339093</td>\n",
       "      <td>INDENIZACOES E RESTITUICOES</td>\n",
       "      <td>33909319</td>\n",
       "      <td>INDENIZACAO DE TRANSPORTE - PESSOAL MILITAR</td>\n",
       "      <td>2025NE000081</td>\n",
       "      <td>2025</td>\n",
       "      <td>2025-02-21</td>\n",
       "      <td>160129000012025NE000081</td>\n",
       "      <td>08528728609</td>\n",
       "      <td>HUDSON MARCOS PACHECO DE SOUZA</td>\n",
       "      <td>SP</td>\n",
       "      <td>ANO</td>\n",
       "      <td>3</td>\n",
       "      <td>MG</td>\n",
       "      <td>1000000000</td>\n",
       "      <td>NAO SE APLICA</td>\n",
       "      <td>ORDINARIO</td>\n",
       "      <td>1</td>\n",
       "      <td>PRIMARIO OBRIGATORIO</td>\n",
       "      <td>A</td>\n",
       "      <td>INICIAL (LOA)</td>\n",
       "      <td>0000</td>\n",
       "      <td>000000000000</td>\n",
       "      <td>SEM EMENDA</td>\n",
       "      <td>0</td>\n",
       "      <td>COMANDO DO EXERCITO</td>\n",
       "      <td>52121</td>\n",
       "      <td>1482.00</td>\n",
       "      <td>0.0</td>\n",
       "      <td>1482.00</td>\n",
       "      <td>0.00</td>\n",
       "    </tr>\n",
       "    <tr>\n",
       "      <th>67</th>\n",
       "      <td>160129</td>\n",
       "      <td>ESA</td>\n",
       "      <td>4º CGCFEx</td>\n",
       "      <td>4ª RM</td>\n",
       "      <td>CML</td>\n",
       "      <td>Três Corações</td>\n",
       "      <td>MG</td>\n",
       "      <td>6112</td>\n",
       "      <td>212O</td>\n",
       "      <td>MOVIMENTACAO DE MILITARES</td>\n",
       "      <td>160505</td>\n",
       "      <td>DGP</td>\n",
       "      <td>232007</td>\n",
       "      <td>D1PEINDCL4T</td>\n",
       "      <td>D1PE</td>\n",
       "      <td>IND</td>\n",
       "      <td>CL4T</td>\n",
       "      <td>IND - INDENIZACOES</td>\n",
       "      <td>339093</td>\n",
       "      <td>INDENIZACOES E RESTITUICOES</td>\n",
       "      <td>33909319</td>\n",
       "      <td>INDENIZACAO DE TRANSPORTE - PESSOAL MILITAR</td>\n",
       "      <td>2025NE000082</td>\n",
       "      <td>2025</td>\n",
       "      <td>2025-02-21</td>\n",
       "      <td>160129000012025NE000082</td>\n",
       "      <td>01368832652</td>\n",
       "      <td>CASSIO DE FREITAS NASCIMENTO</td>\n",
       "      <td>MG</td>\n",
       "      <td>ANO</td>\n",
       "      <td>3</td>\n",
       "      <td>MG</td>\n",
       "      <td>1000000000</td>\n",
       "      <td>NAO SE APLICA</td>\n",
       "      <td>ORDINARIO</td>\n",
       "      <td>1</td>\n",
       "      <td>PRIMARIO OBRIGATORIO</td>\n",
       "      <td>A</td>\n",
       "      <td>INICIAL (LOA)</td>\n",
       "      <td>0000</td>\n",
       "      <td>000000000000</td>\n",
       "      <td>SEM EMENDA</td>\n",
       "      <td>0</td>\n",
       "      <td>COMANDO DO EXERCITO</td>\n",
       "      <td>52121</td>\n",
       "      <td>1482.00</td>\n",
       "      <td>0.0</td>\n",
       "      <td>1482.00</td>\n",
       "      <td>0.00</td>\n",
       "    </tr>\n",
       "    <tr>\n",
       "      <th>69</th>\n",
       "      <td>160129</td>\n",
       "      <td>ESA</td>\n",
       "      <td>4º CGCFEx</td>\n",
       "      <td>4ª RM</td>\n",
       "      <td>CML</td>\n",
       "      <td>Três Corações</td>\n",
       "      <td>MG</td>\n",
       "      <td>6112</td>\n",
       "      <td>212O</td>\n",
       "      <td>MOVIMENTACAO DE MILITARES</td>\n",
       "      <td>160505</td>\n",
       "      <td>DGP</td>\n",
       "      <td>232007</td>\n",
       "      <td>D6DAATSLOCO</td>\n",
       "      <td>D6DA</td>\n",
       "      <td>ATS</td>\n",
       "      <td>LOCO</td>\n",
       "      <td>ATS - ATIVIDADES SETORIAIS</td>\n",
       "      <td>339033</td>\n",
       "      <td>PASSAGENS E DESPESAS COM LOCOMOCAO</td>\n",
       "      <td>33903304</td>\n",
       "      <td>MUDANCAS EM OBJETO DE SERVICO</td>\n",
       "      <td>2024NE000717</td>\n",
       "      <td>2024</td>\n",
       "      <td>2024-06-20</td>\n",
       "      <td>160129000012024NE000717</td>\n",
       "      <td>39644514000115</td>\n",
       "      <td>MULTI PRIME MUDANCAS E TRANSPORTES ESPECIAIS LTDA</td>\n",
       "      <td>GO</td>\n",
       "      <td>RPNP</td>\n",
       "      <td>249</td>\n",
       "      <td>MG</td>\n",
       "      <td>1000000000</td>\n",
       "      <td>PREGAO</td>\n",
       "      <td>ESTIMATIVO</td>\n",
       "      <td>1</td>\n",
       "      <td>PRIMARIO OBRIGATORIO</td>\n",
       "      <td>A</td>\n",
       "      <td>INICIAL (LOA)</td>\n",
       "      <td>0000</td>\n",
       "      <td>000000000000</td>\n",
       "      <td>SEM EMENDA</td>\n",
       "      <td>ESCOLA DE SARGENTOS DAS ARMAS</td>\n",
       "      <td>COMANDO DO EXERCITO</td>\n",
       "      <td>52121</td>\n",
       "      <td>19850.00</td>\n",
       "      <td>0.0</td>\n",
       "      <td>19850.00</td>\n",
       "      <td>0.00</td>\n",
       "    </tr>\n",
       "    <tr>\n",
       "      <th>70</th>\n",
       "      <td>160129</td>\n",
       "      <td>ESA</td>\n",
       "      <td>4º CGCFEx</td>\n",
       "      <td>4ª RM</td>\n",
       "      <td>CML</td>\n",
       "      <td>Três Corações</td>\n",
       "      <td>MG</td>\n",
       "      <td>6112</td>\n",
       "      <td>212O</td>\n",
       "      <td>MOVIMENTACAO DE MILITARES</td>\n",
       "      <td>160505</td>\n",
       "      <td>DGP</td>\n",
       "      <td>232007</td>\n",
       "      <td>D6DAATSLOCO</td>\n",
       "      <td>D6DA</td>\n",
       "      <td>ATS</td>\n",
       "      <td>LOCO</td>\n",
       "      <td>ATS - ATIVIDADES SETORIAIS</td>\n",
       "      <td>339033</td>\n",
       "      <td>PASSAGENS E DESPESAS COM LOCOMOCAO</td>\n",
       "      <td>33903304</td>\n",
       "      <td>MUDANCAS EM OBJETO DE SERVICO</td>\n",
       "      <td>2024NE000718</td>\n",
       "      <td>2024</td>\n",
       "      <td>2024-06-20</td>\n",
       "      <td>160129000012024NE000718</td>\n",
       "      <td>39644514000115</td>\n",
       "      <td>MULTI PRIME MUDANCAS E TRANSPORTES ESPECIAIS LTDA</td>\n",
       "      <td>GO</td>\n",
       "      <td>RPNP</td>\n",
       "      <td>249</td>\n",
       "      <td>MG</td>\n",
       "      <td>1000000000</td>\n",
       "      <td>PREGAO</td>\n",
       "      <td>ESTIMATIVO</td>\n",
       "      <td>1</td>\n",
       "      <td>PRIMARIO OBRIGATORIO</td>\n",
       "      <td>A</td>\n",
       "      <td>INICIAL (LOA)</td>\n",
       "      <td>0000</td>\n",
       "      <td>000000000000</td>\n",
       "      <td>SEM EMENDA</td>\n",
       "      <td>ESCOLA DE SARGENTOS DAS ARMAS</td>\n",
       "      <td>COMANDO DO EXERCITO</td>\n",
       "      <td>52121</td>\n",
       "      <td>34684.00</td>\n",
       "      <td>0.0</td>\n",
       "      <td>34684.00</td>\n",
       "      <td>0.00</td>\n",
       "    </tr>\n",
       "    <tr>\n",
       "      <th>71</th>\n",
       "      <td>160129</td>\n",
       "      <td>ESA</td>\n",
       "      <td>4º CGCFEx</td>\n",
       "      <td>4ª RM</td>\n",
       "      <td>CML</td>\n",
       "      <td>Três Corações</td>\n",
       "      <td>MG</td>\n",
       "      <td>6112</td>\n",
       "      <td>212O</td>\n",
       "      <td>MOVIMENTACAO DE MILITARES</td>\n",
       "      <td>160505</td>\n",
       "      <td>DGP</td>\n",
       "      <td>232007</td>\n",
       "      <td>D6DAATSLOCO</td>\n",
       "      <td>D6DA</td>\n",
       "      <td>ATS</td>\n",
       "      <td>LOCO</td>\n",
       "      <td>ATS - ATIVIDADES SETORIAIS</td>\n",
       "      <td>339033</td>\n",
       "      <td>PASSAGENS E DESPESAS COM LOCOMOCAO</td>\n",
       "      <td>33903304</td>\n",
       "      <td>MUDANCAS EM OBJETO DE SERVICO</td>\n",
       "      <td>2024NE000719</td>\n",
       "      <td>2024</td>\n",
       "      <td>2024-06-20</td>\n",
       "      <td>160129000012024NE000719</td>\n",
       "      <td>39644514000115</td>\n",
       "      <td>MULTI PRIME MUDANCAS E TRANSPORTES ESPECIAIS LTDA</td>\n",
       "      <td>GO</td>\n",
       "      <td>RPNP</td>\n",
       "      <td>249</td>\n",
       "      <td>MG</td>\n",
       "      <td>1000000000</td>\n",
       "      <td>PREGAO</td>\n",
       "      <td>ESTIMATIVO</td>\n",
       "      <td>1</td>\n",
       "      <td>PRIMARIO OBRIGATORIO</td>\n",
       "      <td>A</td>\n",
       "      <td>INICIAL (LOA)</td>\n",
       "      <td>0000</td>\n",
       "      <td>000000000000</td>\n",
       "      <td>SEM EMENDA</td>\n",
       "      <td>ESCOLA DE SARGENTOS DAS ARMAS</td>\n",
       "      <td>COMANDO DO EXERCITO</td>\n",
       "      <td>52121</td>\n",
       "      <td>50049.00</td>\n",
       "      <td>0.0</td>\n",
       "      <td>50049.00</td>\n",
       "      <td>0.00</td>\n",
       "    </tr>\n",
       "    <tr>\n",
       "      <th>72</th>\n",
       "      <td>160129</td>\n",
       "      <td>ESA</td>\n",
       "      <td>4º CGCFEx</td>\n",
       "      <td>4ª RM</td>\n",
       "      <td>CML</td>\n",
       "      <td>Três Corações</td>\n",
       "      <td>MG</td>\n",
       "      <td>6112</td>\n",
       "      <td>212O</td>\n",
       "      <td>MOVIMENTACAO DE MILITARES</td>\n",
       "      <td>160505</td>\n",
       "      <td>DGP</td>\n",
       "      <td>232007</td>\n",
       "      <td>D6DAATSLOCO</td>\n",
       "      <td>D6DA</td>\n",
       "      <td>ATS</td>\n",
       "      <td>LOCO</td>\n",
       "      <td>ATS - ATIVIDADES SETORIAIS</td>\n",
       "      <td>339033</td>\n",
       "      <td>PASSAGENS E DESPESAS COM LOCOMOCAO</td>\n",
       "      <td>33903304</td>\n",
       "      <td>MUDANCAS EM OBJETO DE SERVICO</td>\n",
       "      <td>2024NE000742</td>\n",
       "      <td>2024</td>\n",
       "      <td>2024-06-25</td>\n",
       "      <td>160129000012024NE000742</td>\n",
       "      <td>39644514000115</td>\n",
       "      <td>MULTI PRIME MUDANCAS E TRANSPORTES ESPECIAIS LTDA</td>\n",
       "      <td>GO</td>\n",
       "      <td>RPNP</td>\n",
       "      <td>244</td>\n",
       "      <td>MG</td>\n",
       "      <td>1000000000</td>\n",
       "      <td>PREGAO</td>\n",
       "      <td>ESTIMATIVO</td>\n",
       "      <td>1</td>\n",
       "      <td>PRIMARIO OBRIGATORIO</td>\n",
       "      <td>A</td>\n",
       "      <td>INICIAL (LOA)</td>\n",
       "      <td>0000</td>\n",
       "      <td>000000000000</td>\n",
       "      <td>SEM EMENDA</td>\n",
       "      <td>ESCOLA DE SARGENTOS DAS ARMAS</td>\n",
       "      <td>COMANDO DO EXERCITO</td>\n",
       "      <td>52121</td>\n",
       "      <td>21850.00</td>\n",
       "      <td>0.0</td>\n",
       "      <td>21850.00</td>\n",
       "      <td>0.00</td>\n",
       "    </tr>\n",
       "    <tr>\n",
       "      <th>73</th>\n",
       "      <td>160129</td>\n",
       "      <td>ESA</td>\n",
       "      <td>4º CGCFEx</td>\n",
       "      <td>4ª RM</td>\n",
       "      <td>CML</td>\n",
       "      <td>Três Corações</td>\n",
       "      <td>MG</td>\n",
       "      <td>6112</td>\n",
       "      <td>212O</td>\n",
       "      <td>MOVIMENTACAO DE MILITARES</td>\n",
       "      <td>160505</td>\n",
       "      <td>DGP</td>\n",
       "      <td>232007</td>\n",
       "      <td>D6DAATSLOCO</td>\n",
       "      <td>D6DA</td>\n",
       "      <td>ATS</td>\n",
       "      <td>LOCO</td>\n",
       "      <td>ATS - ATIVIDADES SETORIAIS</td>\n",
       "      <td>339033</td>\n",
       "      <td>PASSAGENS E DESPESAS COM LOCOMOCAO</td>\n",
       "      <td>33903304</td>\n",
       "      <td>MUDANCAS EM OBJETO DE SERVICO</td>\n",
       "      <td>2024NE000842</td>\n",
       "      <td>2024</td>\n",
       "      <td>2024-07-14</td>\n",
       "      <td>160129000012024NE000842</td>\n",
       "      <td>39644514000115</td>\n",
       "      <td>MULTI PRIME MUDANCAS E TRANSPORTES ESPECIAIS LTDA</td>\n",
       "      <td>GO</td>\n",
       "      <td>RPNP</td>\n",
       "      <td>225</td>\n",
       "      <td>MG</td>\n",
       "      <td>1000000000</td>\n",
       "      <td>PREGAO</td>\n",
       "      <td>ESTIMATIVO</td>\n",
       "      <td>1</td>\n",
       "      <td>PRIMARIO OBRIGATORIO</td>\n",
       "      <td>A</td>\n",
       "      <td>INICIAL (LOA)</td>\n",
       "      <td>0000</td>\n",
       "      <td>000000000000</td>\n",
       "      <td>SEM EMENDA</td>\n",
       "      <td>ESCOLA DE SARGENTOS DAS ARMAS</td>\n",
       "      <td>COMANDO DO EXERCITO</td>\n",
       "      <td>52121</td>\n",
       "      <td>21850.00</td>\n",
       "      <td>0.0</td>\n",
       "      <td>21850.00</td>\n",
       "      <td>0.00</td>\n",
       "    </tr>\n",
       "    <tr>\n",
       "      <th>74</th>\n",
       "      <td>160129</td>\n",
       "      <td>ESA</td>\n",
       "      <td>4º CGCFEx</td>\n",
       "      <td>4ª RM</td>\n",
       "      <td>CML</td>\n",
       "      <td>Três Corações</td>\n",
       "      <td>MG</td>\n",
       "      <td>6112</td>\n",
       "      <td>212O</td>\n",
       "      <td>MOVIMENTACAO DE MILITARES</td>\n",
       "      <td>160505</td>\n",
       "      <td>DGP</td>\n",
       "      <td>232007</td>\n",
       "      <td>D6DAATSLOCO</td>\n",
       "      <td>D6DA</td>\n",
       "      <td>ATS</td>\n",
       "      <td>LOCO</td>\n",
       "      <td>ATS - ATIVIDADES SETORIAIS</td>\n",
       "      <td>339033</td>\n",
       "      <td>PASSAGENS E DESPESAS COM LOCOMOCAO</td>\n",
       "      <td>33903304</td>\n",
       "      <td>MUDANCAS EM OBJETO DE SERVICO</td>\n",
       "      <td>2024NE000843</td>\n",
       "      <td>2024</td>\n",
       "      <td>2024-07-15</td>\n",
       "      <td>160129000012024NE000843</td>\n",
       "      <td>39644514000115</td>\n",
       "      <td>MULTI PRIME MUDANCAS E TRANSPORTES ESPECIAIS LTDA</td>\n",
       "      <td>GO</td>\n",
       "      <td>RPNP</td>\n",
       "      <td>224</td>\n",
       "      <td>MG</td>\n",
       "      <td>1000000000</td>\n",
       "      <td>PREGAO</td>\n",
       "      <td>ESTIMATIVO</td>\n",
       "      <td>1</td>\n",
       "      <td>PRIMARIO OBRIGATORIO</td>\n",
       "      <td>A</td>\n",
       "      <td>INICIAL (LOA)</td>\n",
       "      <td>0000</td>\n",
       "      <td>000000000000</td>\n",
       "      <td>SEM EMENDA</td>\n",
       "      <td>ESCOLA DE SARGENTOS DAS ARMAS</td>\n",
       "      <td>COMANDO DO EXERCITO</td>\n",
       "      <td>52121</td>\n",
       "      <td>13091.00</td>\n",
       "      <td>0.0</td>\n",
       "      <td>13091.00</td>\n",
       "      <td>0.00</td>\n",
       "    </tr>\n",
       "    <tr>\n",
       "      <th>76</th>\n",
       "      <td>160129</td>\n",
       "      <td>ESA</td>\n",
       "      <td>4º CGCFEx</td>\n",
       "      <td>4ª RM</td>\n",
       "      <td>CML</td>\n",
       "      <td>Três Corações</td>\n",
       "      <td>MG</td>\n",
       "      <td>6112</td>\n",
       "      <td>212O</td>\n",
       "      <td>MOVIMENTACAO DE MILITARES</td>\n",
       "      <td>160505</td>\n",
       "      <td>DGP</td>\n",
       "      <td>232007</td>\n",
       "      <td>D6DAATSLOCO</td>\n",
       "      <td>D6DA</td>\n",
       "      <td>ATS</td>\n",
       "      <td>LOCO</td>\n",
       "      <td>ATS - ATIVIDADES SETORIAIS</td>\n",
       "      <td>339033</td>\n",
       "      <td>PASSAGENS E DESPESAS COM LOCOMOCAO</td>\n",
       "      <td>33903304</td>\n",
       "      <td>MUDANCAS EM OBJETO DE SERVICO</td>\n",
       "      <td>2024NE000911</td>\n",
       "      <td>2024</td>\n",
       "      <td>2024-08-02</td>\n",
       "      <td>160129000012024NE000911</td>\n",
       "      <td>39644514000115</td>\n",
       "      <td>MULTI PRIME MUDANCAS E TRANSPORTES ESPECIAIS LTDA</td>\n",
       "      <td>GO</td>\n",
       "      <td>RPNP</td>\n",
       "      <td>206</td>\n",
       "      <td>MG</td>\n",
       "      <td>1000000000</td>\n",
       "      <td>PREGAO</td>\n",
       "      <td>ESTIMATIVO</td>\n",
       "      <td>1</td>\n",
       "      <td>PRIMARIO OBRIGATORIO</td>\n",
       "      <td>A</td>\n",
       "      <td>INICIAL (LOA)</td>\n",
       "      <td>0000</td>\n",
       "      <td>000000000000</td>\n",
       "      <td>SEM EMENDA</td>\n",
       "      <td>ESCOLA DE SARGENTOS DAS ARMAS</td>\n",
       "      <td>COMANDO DO EXERCITO</td>\n",
       "      <td>52121</td>\n",
       "      <td>50049.00</td>\n",
       "      <td>0.0</td>\n",
       "      <td>50049.00</td>\n",
       "      <td>0.00</td>\n",
       "    </tr>\n",
       "    <tr>\n",
       "      <th>77</th>\n",
       "      <td>160129</td>\n",
       "      <td>ESA</td>\n",
       "      <td>4º CGCFEx</td>\n",
       "      <td>4ª RM</td>\n",
       "      <td>CML</td>\n",
       "      <td>Três Corações</td>\n",
       "      <td>MG</td>\n",
       "      <td>6112</td>\n",
       "      <td>212O</td>\n",
       "      <td>MOVIMENTACAO DE MILITARES</td>\n",
       "      <td>160505</td>\n",
       "      <td>DGP</td>\n",
       "      <td>232007</td>\n",
       "      <td>D6DAATSLOCO</td>\n",
       "      <td>D6DA</td>\n",
       "      <td>ATS</td>\n",
       "      <td>LOCO</td>\n",
       "      <td>ATS - ATIVIDADES SETORIAIS</td>\n",
       "      <td>339033</td>\n",
       "      <td>PASSAGENS E DESPESAS COM LOCOMOCAO</td>\n",
       "      <td>33903304</td>\n",
       "      <td>MUDANCAS EM OBJETO DE SERVICO</td>\n",
       "      <td>2024NE000946</td>\n",
       "      <td>2024</td>\n",
       "      <td>2024-08-15</td>\n",
       "      <td>160129000012024NE000946</td>\n",
       "      <td>39644514000115</td>\n",
       "      <td>MULTI PRIME MUDANCAS E TRANSPORTES ESPECIAIS LTDA</td>\n",
       "      <td>GO</td>\n",
       "      <td>RPNP</td>\n",
       "      <td>193</td>\n",
       "      <td>MG</td>\n",
       "      <td>1000000000</td>\n",
       "      <td>PREGAO</td>\n",
       "      <td>ESTIMATIVO</td>\n",
       "      <td>1</td>\n",
       "      <td>PRIMARIO OBRIGATORIO</td>\n",
       "      <td>A</td>\n",
       "      <td>INICIAL (LOA)</td>\n",
       "      <td>0000</td>\n",
       "      <td>000000000000</td>\n",
       "      <td>SEM EMENDA</td>\n",
       "      <td>ESCOLA DE SARGENTOS DAS ARMAS</td>\n",
       "      <td>COMANDO DO EXERCITO</td>\n",
       "      <td>52121</td>\n",
       "      <td>29900.00</td>\n",
       "      <td>0.0</td>\n",
       "      <td>29900.00</td>\n",
       "      <td>0.00</td>\n",
       "    </tr>\n",
       "    <tr>\n",
       "      <th>78</th>\n",
       "      <td>160129</td>\n",
       "      <td>ESA</td>\n",
       "      <td>4º CGCFEx</td>\n",
       "      <td>4ª RM</td>\n",
       "      <td>CML</td>\n",
       "      <td>Três Corações</td>\n",
       "      <td>MG</td>\n",
       "      <td>6112</td>\n",
       "      <td>212O</td>\n",
       "      <td>MOVIMENTACAO DE MILITARES</td>\n",
       "      <td>160505</td>\n",
       "      <td>DGP</td>\n",
       "      <td>232007</td>\n",
       "      <td>D6DAATSLOCO</td>\n",
       "      <td>D6DA</td>\n",
       "      <td>ATS</td>\n",
       "      <td>LOCO</td>\n",
       "      <td>ATS - ATIVIDADES SETORIAIS</td>\n",
       "      <td>339033</td>\n",
       "      <td>PASSAGENS E DESPESAS COM LOCOMOCAO</td>\n",
       "      <td>33903304</td>\n",
       "      <td>MUDANCAS EM OBJETO DE SERVICO</td>\n",
       "      <td>2024NE000947</td>\n",
       "      <td>2024</td>\n",
       "      <td>2024-08-15</td>\n",
       "      <td>160129000012024NE000947</td>\n",
       "      <td>39644514000115</td>\n",
       "      <td>MULTI PRIME MUDANCAS E TRANSPORTES ESPECIAIS LTDA</td>\n",
       "      <td>GO</td>\n",
       "      <td>RPNP</td>\n",
       "      <td>193</td>\n",
       "      <td>MG</td>\n",
       "      <td>1000000000</td>\n",
       "      <td>PREGAO</td>\n",
       "      <td>ESTIMATIVO</td>\n",
       "      <td>1</td>\n",
       "      <td>PRIMARIO OBRIGATORIO</td>\n",
       "      <td>A</td>\n",
       "      <td>INICIAL (LOA)</td>\n",
       "      <td>0000</td>\n",
       "      <td>000000000000</td>\n",
       "      <td>SEM EMENDA</td>\n",
       "      <td>ESCOLA DE SARGENTOS DAS ARMAS</td>\n",
       "      <td>COMANDO DO EXERCITO</td>\n",
       "      <td>52121</td>\n",
       "      <td>29900.00</td>\n",
       "      <td>0.0</td>\n",
       "      <td>29900.00</td>\n",
       "      <td>0.00</td>\n",
       "    </tr>\n",
       "    <tr>\n",
       "      <th>79</th>\n",
       "      <td>160129</td>\n",
       "      <td>ESA</td>\n",
       "      <td>4º CGCFEx</td>\n",
       "      <td>4ª RM</td>\n",
       "      <td>CML</td>\n",
       "      <td>Três Corações</td>\n",
       "      <td>MG</td>\n",
       "      <td>6112</td>\n",
       "      <td>212O</td>\n",
       "      <td>MOVIMENTACAO DE MILITARES</td>\n",
       "      <td>160505</td>\n",
       "      <td>DGP</td>\n",
       "      <td>232007</td>\n",
       "      <td>D6DAATSLOCO</td>\n",
       "      <td>D6DA</td>\n",
       "      <td>ATS</td>\n",
       "      <td>LOCO</td>\n",
       "      <td>ATS - ATIVIDADES SETORIAIS</td>\n",
       "      <td>339033</td>\n",
       "      <td>PASSAGENS E DESPESAS COM LOCOMOCAO</td>\n",
       "      <td>33903304</td>\n",
       "      <td>MUDANCAS EM OBJETO DE SERVICO</td>\n",
       "      <td>2024NE000950</td>\n",
       "      <td>2024</td>\n",
       "      <td>2024-08-15</td>\n",
       "      <td>160129000012024NE000950</td>\n",
       "      <td>39644514000115</td>\n",
       "      <td>MULTI PRIME MUDANCAS E TRANSPORTES ESPECIAIS LTDA</td>\n",
       "      <td>GO</td>\n",
       "      <td>RPNP</td>\n",
       "      <td>193</td>\n",
       "      <td>MG</td>\n",
       "      <td>1000000000</td>\n",
       "      <td>PREGAO</td>\n",
       "      <td>ESTIMATIVO</td>\n",
       "      <td>1</td>\n",
       "      <td>PRIMARIO OBRIGATORIO</td>\n",
       "      <td>A</td>\n",
       "      <td>INICIAL (LOA)</td>\n",
       "      <td>0000</td>\n",
       "      <td>000000000000</td>\n",
       "      <td>SEM EMENDA</td>\n",
       "      <td>ESCOLA DE SARGENTOS DAS ARMAS</td>\n",
       "      <td>COMANDO DO EXERCITO</td>\n",
       "      <td>52121</td>\n",
       "      <td>29900.00</td>\n",
       "      <td>0.0</td>\n",
       "      <td>29900.00</td>\n",
       "      <td>0.00</td>\n",
       "    </tr>\n",
       "    <tr>\n",
       "      <th>80</th>\n",
       "      <td>160129</td>\n",
       "      <td>ESA</td>\n",
       "      <td>4º CGCFEx</td>\n",
       "      <td>4ª RM</td>\n",
       "      <td>CML</td>\n",
       "      <td>Três Corações</td>\n",
       "      <td>MG</td>\n",
       "      <td>6112</td>\n",
       "      <td>212O</td>\n",
       "      <td>MOVIMENTACAO DE MILITARES</td>\n",
       "      <td>160505</td>\n",
       "      <td>DGP</td>\n",
       "      <td>232007</td>\n",
       "      <td>D6DAATSLOCO</td>\n",
       "      <td>D6DA</td>\n",
       "      <td>ATS</td>\n",
       "      <td>LOCO</td>\n",
       "      <td>ATS - ATIVIDADES SETORIAIS</td>\n",
       "      <td>339033</td>\n",
       "      <td>PASSAGENS E DESPESAS COM LOCOMOCAO</td>\n",
       "      <td>33903304</td>\n",
       "      <td>MUDANCAS EM OBJETO DE SERVICO</td>\n",
       "      <td>2024NE000984</td>\n",
       "      <td>2024</td>\n",
       "      <td>2024-08-26</td>\n",
       "      <td>160129000012024NE000984</td>\n",
       "      <td>39644514000115</td>\n",
       "      <td>MULTI PRIME MUDANCAS E TRANSPORTES ESPECIAIS LTDA</td>\n",
       "      <td>GO</td>\n",
       "      <td>RPNP</td>\n",
       "      <td>182</td>\n",
       "      <td>MG</td>\n",
       "      <td>1000000000</td>\n",
       "      <td>PREGAO</td>\n",
       "      <td>ESTIMATIVO</td>\n",
       "      <td>1</td>\n",
       "      <td>PRIMARIO OBRIGATORIO</td>\n",
       "      <td>A</td>\n",
       "      <td>INICIAL (LOA)</td>\n",
       "      <td>0000</td>\n",
       "      <td>000000000000</td>\n",
       "      <td>SEM EMENDA</td>\n",
       "      <td>ESCOLA DE SARGENTOS DAS ARMAS</td>\n",
       "      <td>COMANDO DO EXERCITO</td>\n",
       "      <td>52121</td>\n",
       "      <td>44820.00</td>\n",
       "      <td>0.0</td>\n",
       "      <td>44820.00</td>\n",
       "      <td>0.00</td>\n",
       "    </tr>\n",
       "    <tr>\n",
       "      <th>81</th>\n",
       "      <td>160129</td>\n",
       "      <td>ESA</td>\n",
       "      <td>4º CGCFEx</td>\n",
       "      <td>4ª RM</td>\n",
       "      <td>CML</td>\n",
       "      <td>Três Corações</td>\n",
       "      <td>MG</td>\n",
       "      <td>6112</td>\n",
       "      <td>212O</td>\n",
       "      <td>MOVIMENTACAO DE MILITARES</td>\n",
       "      <td>160505</td>\n",
       "      <td>DGP</td>\n",
       "      <td>232007</td>\n",
       "      <td>D6DAATSLOCO</td>\n",
       "      <td>D6DA</td>\n",
       "      <td>ATS</td>\n",
       "      <td>LOCO</td>\n",
       "      <td>ATS - ATIVIDADES SETORIAIS</td>\n",
       "      <td>339033</td>\n",
       "      <td>PASSAGENS E DESPESAS COM LOCOMOCAO</td>\n",
       "      <td>33903304</td>\n",
       "      <td>MUDANCAS EM OBJETO DE SERVICO</td>\n",
       "      <td>2024NE000985</td>\n",
       "      <td>2024</td>\n",
       "      <td>2024-08-26</td>\n",
       "      <td>160129000012024NE000985</td>\n",
       "      <td>39644514000115</td>\n",
       "      <td>MULTI PRIME MUDANCAS E TRANSPORTES ESPECIAIS LTDA</td>\n",
       "      <td>GO</td>\n",
       "      <td>RPNP</td>\n",
       "      <td>182</td>\n",
       "      <td>MG</td>\n",
       "      <td>1000000000</td>\n",
       "      <td>PREGAO</td>\n",
       "      <td>ESTIMATIVO</td>\n",
       "      <td>1</td>\n",
       "      <td>PRIMARIO OBRIGATORIO</td>\n",
       "      <td>A</td>\n",
       "      <td>INICIAL (LOA)</td>\n",
       "      <td>0000</td>\n",
       "      <td>000000000000</td>\n",
       "      <td>SEM EMENDA</td>\n",
       "      <td>ESCOLA DE SARGENTOS DAS ARMAS</td>\n",
       "      <td>COMANDO DO EXERCITO</td>\n",
       "      <td>52121</td>\n",
       "      <td>41355.00</td>\n",
       "      <td>0.0</td>\n",
       "      <td>41355.00</td>\n",
       "      <td>0.00</td>\n",
       "    </tr>\n",
       "    <tr>\n",
       "      <th>82</th>\n",
       "      <td>160129</td>\n",
       "      <td>ESA</td>\n",
       "      <td>4º CGCFEx</td>\n",
       "      <td>4ª RM</td>\n",
       "      <td>CML</td>\n",
       "      <td>Três Corações</td>\n",
       "      <td>MG</td>\n",
       "      <td>6112</td>\n",
       "      <td>212O</td>\n",
       "      <td>MOVIMENTACAO DE MILITARES</td>\n",
       "      <td>160505</td>\n",
       "      <td>DGP</td>\n",
       "      <td>232007</td>\n",
       "      <td>D6DAATSLOCO</td>\n",
       "      <td>D6DA</td>\n",
       "      <td>ATS</td>\n",
       "      <td>LOCO</td>\n",
       "      <td>ATS - ATIVIDADES SETORIAIS</td>\n",
       "      <td>339033</td>\n",
       "      <td>PASSAGENS E DESPESAS COM LOCOMOCAO</td>\n",
       "      <td>33903304</td>\n",
       "      <td>MUDANCAS EM OBJETO DE SERVICO</td>\n",
       "      <td>2024NE001035</td>\n",
       "      <td>2024</td>\n",
       "      <td>2024-09-11</td>\n",
       "      <td>160129000012024NE001035</td>\n",
       "      <td>39644514000115</td>\n",
       "      <td>MULTI PRIME MUDANCAS E TRANSPORTES ESPECIAIS LTDA</td>\n",
       "      <td>GO</td>\n",
       "      <td>RPNP</td>\n",
       "      <td>166</td>\n",
       "      <td>MG</td>\n",
       "      <td>1000000000</td>\n",
       "      <td>PREGAO</td>\n",
       "      <td>ESTIMATIVO</td>\n",
       "      <td>1</td>\n",
       "      <td>PRIMARIO OBRIGATORIO</td>\n",
       "      <td>A</td>\n",
       "      <td>INICIAL (LOA)</td>\n",
       "      <td>0000</td>\n",
       "      <td>000000000000</td>\n",
       "      <td>SEM EMENDA</td>\n",
       "      <td>ESCOLA DE SARGENTOS DAS ARMAS</td>\n",
       "      <td>COMANDO DO EXERCITO</td>\n",
       "      <td>52121</td>\n",
       "      <td>437.00</td>\n",
       "      <td>0.0</td>\n",
       "      <td>437.00</td>\n",
       "      <td>0.00</td>\n",
       "    </tr>\n",
       "    <tr>\n",
       "      <th>83</th>\n",
       "      <td>160129</td>\n",
       "      <td>ESA</td>\n",
       "      <td>4º CGCFEx</td>\n",
       "      <td>4ª RM</td>\n",
       "      <td>CML</td>\n",
       "      <td>Três Corações</td>\n",
       "      <td>MG</td>\n",
       "      <td>6112</td>\n",
       "      <td>212O</td>\n",
       "      <td>MOVIMENTACAO DE MILITARES</td>\n",
       "      <td>160505</td>\n",
       "      <td>DGP</td>\n",
       "      <td>232007</td>\n",
       "      <td>D6DAATSLOCO</td>\n",
       "      <td>D6DA</td>\n",
       "      <td>ATS</td>\n",
       "      <td>LOCO</td>\n",
       "      <td>ATS - ATIVIDADES SETORIAIS</td>\n",
       "      <td>339033</td>\n",
       "      <td>PASSAGENS E DESPESAS COM LOCOMOCAO</td>\n",
       "      <td>33903304</td>\n",
       "      <td>MUDANCAS EM OBJETO DE SERVICO</td>\n",
       "      <td>2024NE001037</td>\n",
       "      <td>2024</td>\n",
       "      <td>2024-09-12</td>\n",
       "      <td>160129000012024NE001037</td>\n",
       "      <td>39644514000115</td>\n",
       "      <td>MULTI PRIME MUDANCAS E TRANSPORTES ESPECIAIS LTDA</td>\n",
       "      <td>GO</td>\n",
       "      <td>RPNP</td>\n",
       "      <td>165</td>\n",
       "      <td>MG</td>\n",
       "      <td>1000000000</td>\n",
       "      <td>PREGAO</td>\n",
       "      <td>ESTIMATIVO</td>\n",
       "      <td>1</td>\n",
       "      <td>PRIMARIO OBRIGATORIO</td>\n",
       "      <td>A</td>\n",
       "      <td>INICIAL (LOA)</td>\n",
       "      <td>0000</td>\n",
       "      <td>000000000000</td>\n",
       "      <td>SEM EMENDA</td>\n",
       "      <td>ESCOLA DE SARGENTOS DAS ARMAS</td>\n",
       "      <td>COMANDO DO EXERCITO</td>\n",
       "      <td>52121</td>\n",
       "      <td>747.00</td>\n",
       "      <td>0.0</td>\n",
       "      <td>747.00</td>\n",
       "      <td>0.00</td>\n",
       "    </tr>\n",
       "    <tr>\n",
       "      <th>84</th>\n",
       "      <td>160129</td>\n",
       "      <td>ESA</td>\n",
       "      <td>4º CGCFEx</td>\n",
       "      <td>4ª RM</td>\n",
       "      <td>CML</td>\n",
       "      <td>Três Corações</td>\n",
       "      <td>MG</td>\n",
       "      <td>6112</td>\n",
       "      <td>212O</td>\n",
       "      <td>MOVIMENTACAO DE MILITARES</td>\n",
       "      <td>160505</td>\n",
       "      <td>DGP</td>\n",
       "      <td>232007</td>\n",
       "      <td>D6DAATSLOCO</td>\n",
       "      <td>D6DA</td>\n",
       "      <td>ATS</td>\n",
       "      <td>LOCO</td>\n",
       "      <td>ATS - ATIVIDADES SETORIAIS</td>\n",
       "      <td>339033</td>\n",
       "      <td>PASSAGENS E DESPESAS COM LOCOMOCAO</td>\n",
       "      <td>33903304</td>\n",
       "      <td>MUDANCAS EM OBJETO DE SERVICO</td>\n",
       "      <td>2024NE001105</td>\n",
       "      <td>2024</td>\n",
       "      <td>2024-09-24</td>\n",
       "      <td>160129000012024NE001105</td>\n",
       "      <td>39644514000115</td>\n",
       "      <td>MULTI PRIME MUDANCAS E TRANSPORTES ESPECIAIS LTDA</td>\n",
       "      <td>GO</td>\n",
       "      <td>RPNP</td>\n",
       "      <td>153</td>\n",
       "      <td>MG</td>\n",
       "      <td>1000000000</td>\n",
       "      <td>PREGAO</td>\n",
       "      <td>ESTIMATIVO</td>\n",
       "      <td>1</td>\n",
       "      <td>PRIMARIO OBRIGATORIO</td>\n",
       "      <td>A</td>\n",
       "      <td>INICIAL (LOA)</td>\n",
       "      <td>0000</td>\n",
       "      <td>000000000000</td>\n",
       "      <td>SEM EMENDA</td>\n",
       "      <td>ESCOLA DE SARGENTOS DAS ARMAS</td>\n",
       "      <td>COMANDO DO EXERCITO</td>\n",
       "      <td>52121</td>\n",
       "      <td>598.00</td>\n",
       "      <td>0.0</td>\n",
       "      <td>598.00</td>\n",
       "      <td>0.00</td>\n",
       "    </tr>\n",
       "    <tr>\n",
       "      <th>86</th>\n",
       "      <td>160129</td>\n",
       "      <td>ESA</td>\n",
       "      <td>4º CGCFEx</td>\n",
       "      <td>4ª RM</td>\n",
       "      <td>CML</td>\n",
       "      <td>Três Corações</td>\n",
       "      <td>MG</td>\n",
       "      <td>6112</td>\n",
       "      <td>212O</td>\n",
       "      <td>MOVIMENTACAO DE MILITARES</td>\n",
       "      <td>160505</td>\n",
       "      <td>DGP</td>\n",
       "      <td>232007</td>\n",
       "      <td>D6DAATSLOCO</td>\n",
       "      <td>D6DA</td>\n",
       "      <td>ATS</td>\n",
       "      <td>LOCO</td>\n",
       "      <td>ATS - ATIVIDADES SETORIAIS</td>\n",
       "      <td>339033</td>\n",
       "      <td>PASSAGENS E DESPESAS COM LOCOMOCAO</td>\n",
       "      <td>33903304</td>\n",
       "      <td>MUDANCAS EM OBJETO DE SERVICO</td>\n",
       "      <td>2024NE001122</td>\n",
       "      <td>2024</td>\n",
       "      <td>2024-09-27</td>\n",
       "      <td>160129000012024NE001122</td>\n",
       "      <td>39644514000115</td>\n",
       "      <td>MULTI PRIME MUDANCAS E TRANSPORTES ESPECIAIS LTDA</td>\n",
       "      <td>GO</td>\n",
       "      <td>RPNP</td>\n",
       "      <td>150</td>\n",
       "      <td>MG</td>\n",
       "      <td>1000000000</td>\n",
       "      <td>PREGAO</td>\n",
       "      <td>ESTIMATIVO</td>\n",
       "      <td>1</td>\n",
       "      <td>PRIMARIO OBRIGATORIO</td>\n",
       "      <td>A</td>\n",
       "      <td>INICIAL (LOA)</td>\n",
       "      <td>0000</td>\n",
       "      <td>000000000000</td>\n",
       "      <td>SEM EMENDA</td>\n",
       "      <td>ESCOLA DE SARGENTOS DAS ARMAS</td>\n",
       "      <td>COMANDO DO EXERCITO</td>\n",
       "      <td>52121</td>\n",
       "      <td>747.00</td>\n",
       "      <td>0.0</td>\n",
       "      <td>747.00</td>\n",
       "      <td>0.00</td>\n",
       "    </tr>\n",
       "    <tr>\n",
       "      <th>88</th>\n",
       "      <td>160129</td>\n",
       "      <td>ESA</td>\n",
       "      <td>4º CGCFEx</td>\n",
       "      <td>4ª RM</td>\n",
       "      <td>CML</td>\n",
       "      <td>Três Corações</td>\n",
       "      <td>MG</td>\n",
       "      <td>6112</td>\n",
       "      <td>212O</td>\n",
       "      <td>MOVIMENTACAO DE MILITARES</td>\n",
       "      <td>160505</td>\n",
       "      <td>DGP</td>\n",
       "      <td>232007</td>\n",
       "      <td>D6DAATSLOCO</td>\n",
       "      <td>D6DA</td>\n",
       "      <td>ATS</td>\n",
       "      <td>LOCO</td>\n",
       "      <td>ATS - ATIVIDADES SETORIAIS</td>\n",
       "      <td>339033</td>\n",
       "      <td>PASSAGENS E DESPESAS COM LOCOMOCAO</td>\n",
       "      <td>33903304</td>\n",
       "      <td>MUDANCAS EM OBJETO DE SERVICO</td>\n",
       "      <td>2024NE001158</td>\n",
       "      <td>2024</td>\n",
       "      <td>2024-10-03</td>\n",
       "      <td>160129000012024NE001158</td>\n",
       "      <td>39644514000115</td>\n",
       "      <td>MULTI PRIME MUDANCAS E TRANSPORTES ESPECIAIS LTDA</td>\n",
       "      <td>GO</td>\n",
       "      <td>RPNP</td>\n",
       "      <td>144</td>\n",
       "      <td>MG</td>\n",
       "      <td>1000000000</td>\n",
       "      <td>PREGAO</td>\n",
       "      <td>ESTIMATIVO</td>\n",
       "      <td>1</td>\n",
       "      <td>PRIMARIO OBRIGATORIO</td>\n",
       "      <td>A</td>\n",
       "      <td>INICIAL (LOA)</td>\n",
       "      <td>0000</td>\n",
       "      <td>000000000000</td>\n",
       "      <td>SEM EMENDA</td>\n",
       "      <td>ESCOLA DE SARGENTOS DAS ARMAS</td>\n",
       "      <td>COMANDO DO EXERCITO</td>\n",
       "      <td>52121</td>\n",
       "      <td>747.00</td>\n",
       "      <td>0.0</td>\n",
       "      <td>747.00</td>\n",
       "      <td>0.00</td>\n",
       "    </tr>\n",
       "    <tr>\n",
       "      <th>89</th>\n",
       "      <td>160129</td>\n",
       "      <td>ESA</td>\n",
       "      <td>4º CGCFEx</td>\n",
       "      <td>4ª RM</td>\n",
       "      <td>CML</td>\n",
       "      <td>Três Corações</td>\n",
       "      <td>MG</td>\n",
       "      <td>6112</td>\n",
       "      <td>212O</td>\n",
       "      <td>MOVIMENTACAO DE MILITARES</td>\n",
       "      <td>160505</td>\n",
       "      <td>DGP</td>\n",
       "      <td>232007</td>\n",
       "      <td>D6DAATSLOCO</td>\n",
       "      <td>D6DA</td>\n",
       "      <td>ATS</td>\n",
       "      <td>LOCO</td>\n",
       "      <td>ATS - ATIVIDADES SETORIAIS</td>\n",
       "      <td>339033</td>\n",
       "      <td>PASSAGENS E DESPESAS COM LOCOMOCAO</td>\n",
       "      <td>33903304</td>\n",
       "      <td>MUDANCAS EM OBJETO DE SERVICO</td>\n",
       "      <td>2024NE001166</td>\n",
       "      <td>2024</td>\n",
       "      <td>2024-10-04</td>\n",
       "      <td>160129000012024NE001166</td>\n",
       "      <td>39644514000115</td>\n",
       "      <td>MULTI PRIME MUDANCAS E TRANSPORTES ESPECIAIS LTDA</td>\n",
       "      <td>GO</td>\n",
       "      <td>RPNP</td>\n",
       "      <td>143</td>\n",
       "      <td>MG</td>\n",
       "      <td>1000000000</td>\n",
       "      <td>PREGAO</td>\n",
       "      <td>ESTIMATIVO</td>\n",
       "      <td>1</td>\n",
       "      <td>PRIMARIO OBRIGATORIO</td>\n",
       "      <td>A</td>\n",
       "      <td>INICIAL (LOA)</td>\n",
       "      <td>0000</td>\n",
       "      <td>000000000000</td>\n",
       "      <td>SEM EMENDA</td>\n",
       "      <td>ESCOLA DE SARGENTOS DAS ARMAS</td>\n",
       "      <td>COMANDO DO EXERCITO</td>\n",
       "      <td>52121</td>\n",
       "      <td>598.00</td>\n",
       "      <td>0.0</td>\n",
       "      <td>598.00</td>\n",
       "      <td>0.00</td>\n",
       "    </tr>\n",
       "    <tr>\n",
       "      <th>90</th>\n",
       "      <td>160129</td>\n",
       "      <td>ESA</td>\n",
       "      <td>4º CGCFEx</td>\n",
       "      <td>4ª RM</td>\n",
       "      <td>CML</td>\n",
       "      <td>Três Corações</td>\n",
       "      <td>MG</td>\n",
       "      <td>6112</td>\n",
       "      <td>212O</td>\n",
       "      <td>MOVIMENTACAO DE MILITARES</td>\n",
       "      <td>160505</td>\n",
       "      <td>DGP</td>\n",
       "      <td>232007</td>\n",
       "      <td>D6DAATSLOCO</td>\n",
       "      <td>D6DA</td>\n",
       "      <td>ATS</td>\n",
       "      <td>LOCO</td>\n",
       "      <td>ATS - ATIVIDADES SETORIAIS</td>\n",
       "      <td>339033</td>\n",
       "      <td>PASSAGENS E DESPESAS COM LOCOMOCAO</td>\n",
       "      <td>33903304</td>\n",
       "      <td>MUDANCAS EM OBJETO DE SERVICO</td>\n",
       "      <td>2024NE001175</td>\n",
       "      <td>2024</td>\n",
       "      <td>2024-10-07</td>\n",
       "      <td>160129000012024NE001175</td>\n",
       "      <td>39644514000115</td>\n",
       "      <td>MULTI PRIME MUDANCAS E TRANSPORTES ESPECIAIS LTDA</td>\n",
       "      <td>GO</td>\n",
       "      <td>RPNP</td>\n",
       "      <td>140</td>\n",
       "      <td>MG</td>\n",
       "      <td>1000000000</td>\n",
       "      <td>PREGAO</td>\n",
       "      <td>ESTIMATIVO</td>\n",
       "      <td>1</td>\n",
       "      <td>PRIMARIO OBRIGATORIO</td>\n",
       "      <td>A</td>\n",
       "      <td>INICIAL (LOA)</td>\n",
       "      <td>0000</td>\n",
       "      <td>000000000000</td>\n",
       "      <td>SEM EMENDA</td>\n",
       "      <td>ESCOLA DE SARGENTOS DAS ARMAS</td>\n",
       "      <td>COMANDO DO EXERCITO</td>\n",
       "      <td>52121</td>\n",
       "      <td>747.00</td>\n",
       "      <td>0.0</td>\n",
       "      <td>747.00</td>\n",
       "      <td>0.00</td>\n",
       "    </tr>\n",
       "    <tr>\n",
       "      <th>91</th>\n",
       "      <td>160129</td>\n",
       "      <td>ESA</td>\n",
       "      <td>4º CGCFEx</td>\n",
       "      <td>4ª RM</td>\n",
       "      <td>CML</td>\n",
       "      <td>Três Corações</td>\n",
       "      <td>MG</td>\n",
       "      <td>6112</td>\n",
       "      <td>212O</td>\n",
       "      <td>MOVIMENTACAO DE MILITARES</td>\n",
       "      <td>160505</td>\n",
       "      <td>DGP</td>\n",
       "      <td>232007</td>\n",
       "      <td>D6DAATSLOCO</td>\n",
       "      <td>D6DA</td>\n",
       "      <td>ATS</td>\n",
       "      <td>LOCO</td>\n",
       "      <td>ATS - ATIVIDADES SETORIAIS</td>\n",
       "      <td>339033</td>\n",
       "      <td>PASSAGENS E DESPESAS COM LOCOMOCAO</td>\n",
       "      <td>33903304</td>\n",
       "      <td>MUDANCAS EM OBJETO DE SERVICO</td>\n",
       "      <td>2024NE001176</td>\n",
       "      <td>2024</td>\n",
       "      <td>2024-10-07</td>\n",
       "      <td>160129000012024NE001176</td>\n",
       "      <td>39644514000115</td>\n",
       "      <td>MULTI PRIME MUDANCAS E TRANSPORTES ESPECIAIS LTDA</td>\n",
       "      <td>GO</td>\n",
       "      <td>RPNP</td>\n",
       "      <td>140</td>\n",
       "      <td>MG</td>\n",
       "      <td>1000000000</td>\n",
       "      <td>PREGAO</td>\n",
       "      <td>ESTIMATIVO</td>\n",
       "      <td>1</td>\n",
       "      <td>PRIMARIO OBRIGATORIO</td>\n",
       "      <td>A</td>\n",
       "      <td>INICIAL (LOA)</td>\n",
       "      <td>0000</td>\n",
       "      <td>000000000000</td>\n",
       "      <td>SEM EMENDA</td>\n",
       "      <td>ESCOLA DE SARGENTOS DAS ARMAS</td>\n",
       "      <td>COMANDO DO EXERCITO</td>\n",
       "      <td>52121</td>\n",
       "      <td>919.00</td>\n",
       "      <td>0.0</td>\n",
       "      <td>919.00</td>\n",
       "      <td>0.00</td>\n",
       "    </tr>\n",
       "    <tr>\n",
       "      <th>92</th>\n",
       "      <td>160129</td>\n",
       "      <td>ESA</td>\n",
       "      <td>4º CGCFEx</td>\n",
       "      <td>4ª RM</td>\n",
       "      <td>CML</td>\n",
       "      <td>Três Corações</td>\n",
       "      <td>MG</td>\n",
       "      <td>6112</td>\n",
       "      <td>212O</td>\n",
       "      <td>MOVIMENTACAO DE MILITARES</td>\n",
       "      <td>160505</td>\n",
       "      <td>DGP</td>\n",
       "      <td>232007</td>\n",
       "      <td>D6DAATSLOCO</td>\n",
       "      <td>D6DA</td>\n",
       "      <td>ATS</td>\n",
       "      <td>LOCO</td>\n",
       "      <td>ATS - ATIVIDADES SETORIAIS</td>\n",
       "      <td>339033</td>\n",
       "      <td>PASSAGENS E DESPESAS COM LOCOMOCAO</td>\n",
       "      <td>33903304</td>\n",
       "      <td>MUDANCAS EM OBJETO DE SERVICO</td>\n",
       "      <td>2024NE001195</td>\n",
       "      <td>2024</td>\n",
       "      <td>2024-10-09</td>\n",
       "      <td>160129000012024NE001195</td>\n",
       "      <td>39644514000115</td>\n",
       "      <td>MULTI PRIME MUDANCAS E TRANSPORTES ESPECIAIS LTDA</td>\n",
       "      <td>GO</td>\n",
       "      <td>RPNP</td>\n",
       "      <td>138</td>\n",
       "      <td>MG</td>\n",
       "      <td>1000000000</td>\n",
       "      <td>PREGAO</td>\n",
       "      <td>ESTIMATIVO</td>\n",
       "      <td>1</td>\n",
       "      <td>PRIMARIO OBRIGATORIO</td>\n",
       "      <td>A</td>\n",
       "      <td>INICIAL (LOA)</td>\n",
       "      <td>0000</td>\n",
       "      <td>000000000000</td>\n",
       "      <td>SEM EMENDA</td>\n",
       "      <td>ESCOLA DE SARGENTOS DAS ARMAS</td>\n",
       "      <td>COMANDO DO EXERCITO</td>\n",
       "      <td>52121</td>\n",
       "      <td>397.00</td>\n",
       "      <td>0.0</td>\n",
       "      <td>397.00</td>\n",
       "      <td>0.00</td>\n",
       "    </tr>\n",
       "    <tr>\n",
       "      <th>93</th>\n",
       "      <td>160129</td>\n",
       "      <td>ESA</td>\n",
       "      <td>4º CGCFEx</td>\n",
       "      <td>4ª RM</td>\n",
       "      <td>CML</td>\n",
       "      <td>Três Corações</td>\n",
       "      <td>MG</td>\n",
       "      <td>6112</td>\n",
       "      <td>212O</td>\n",
       "      <td>MOVIMENTACAO DE MILITARES</td>\n",
       "      <td>160505</td>\n",
       "      <td>DGP</td>\n",
       "      <td>232007</td>\n",
       "      <td>D6DAATSLOCO</td>\n",
       "      <td>D6DA</td>\n",
       "      <td>ATS</td>\n",
       "      <td>LOCO</td>\n",
       "      <td>ATS - ATIVIDADES SETORIAIS</td>\n",
       "      <td>339033</td>\n",
       "      <td>PASSAGENS E DESPESAS COM LOCOMOCAO</td>\n",
       "      <td>33903304</td>\n",
       "      <td>MUDANCAS EM OBJETO DE SERVICO</td>\n",
       "      <td>2024NE001227</td>\n",
       "      <td>2024</td>\n",
       "      <td>2024-10-14</td>\n",
       "      <td>160129000012024NE001227</td>\n",
       "      <td>39644514000115</td>\n",
       "      <td>MULTI PRIME MUDANCAS E TRANSPORTES ESPECIAIS LTDA</td>\n",
       "      <td>GO</td>\n",
       "      <td>RPNP</td>\n",
       "      <td>133</td>\n",
       "      <td>MG</td>\n",
       "      <td>1000000000</td>\n",
       "      <td>PREGAO</td>\n",
       "      <td>ESTIMATIVO</td>\n",
       "      <td>1</td>\n",
       "      <td>PRIMARIO OBRIGATORIO</td>\n",
       "      <td>A</td>\n",
       "      <td>INICIAL (LOA)</td>\n",
       "      <td>0000</td>\n",
       "      <td>000000000000</td>\n",
       "      <td>SEM EMENDA</td>\n",
       "      <td>ESCOLA DE SARGENTOS DAS ARMAS</td>\n",
       "      <td>COMANDO DO EXERCITO</td>\n",
       "      <td>52121</td>\n",
       "      <td>437.00</td>\n",
       "      <td>0.0</td>\n",
       "      <td>437.00</td>\n",
       "      <td>0.00</td>\n",
       "    </tr>\n",
       "    <tr>\n",
       "      <th>94</th>\n",
       "      <td>160129</td>\n",
       "      <td>ESA</td>\n",
       "      <td>4º CGCFEx</td>\n",
       "      <td>4ª RM</td>\n",
       "      <td>CML</td>\n",
       "      <td>Três Corações</td>\n",
       "      <td>MG</td>\n",
       "      <td>6112</td>\n",
       "      <td>212O</td>\n",
       "      <td>MOVIMENTACAO DE MILITARES</td>\n",
       "      <td>160505</td>\n",
       "      <td>DGP</td>\n",
       "      <td>232007</td>\n",
       "      <td>D6DAATSLOCO</td>\n",
       "      <td>D6DA</td>\n",
       "      <td>ATS</td>\n",
       "      <td>LOCO</td>\n",
       "      <td>ATS - ATIVIDADES SETORIAIS</td>\n",
       "      <td>339033</td>\n",
       "      <td>PASSAGENS E DESPESAS COM LOCOMOCAO</td>\n",
       "      <td>33903304</td>\n",
       "      <td>MUDANCAS EM OBJETO DE SERVICO</td>\n",
       "      <td>2024NE001232</td>\n",
       "      <td>2024</td>\n",
       "      <td>2024-10-18</td>\n",
       "      <td>160129000012024NE001232</td>\n",
       "      <td>39644514000115</td>\n",
       "      <td>MULTI PRIME MUDANCAS E TRANSPORTES ESPECIAIS LTDA</td>\n",
       "      <td>GO</td>\n",
       "      <td>RPNP</td>\n",
       "      <td>129</td>\n",
       "      <td>MG</td>\n",
       "      <td>1000000000</td>\n",
       "      <td>PREGAO</td>\n",
       "      <td>ESTIMATIVO</td>\n",
       "      <td>1</td>\n",
       "      <td>PRIMARIO OBRIGATORIO</td>\n",
       "      <td>A</td>\n",
       "      <td>INICIAL (LOA)</td>\n",
       "      <td>0000</td>\n",
       "      <td>000000000000</td>\n",
       "      <td>SEM EMENDA</td>\n",
       "      <td>ESCOLA DE SARGENTOS DAS ARMAS</td>\n",
       "      <td>COMANDO DO EXERCITO</td>\n",
       "      <td>52121</td>\n",
       "      <td>919.00</td>\n",
       "      <td>0.0</td>\n",
       "      <td>919.00</td>\n",
       "      <td>0.00</td>\n",
       "    </tr>\n",
       "    <tr>\n",
       "      <th>95</th>\n",
       "      <td>160129</td>\n",
       "      <td>ESA</td>\n",
       "      <td>4º CGCFEx</td>\n",
       "      <td>4ª RM</td>\n",
       "      <td>CML</td>\n",
       "      <td>Três Corações</td>\n",
       "      <td>MG</td>\n",
       "      <td>6112</td>\n",
       "      <td>212O</td>\n",
       "      <td>MOVIMENTACAO DE MILITARES</td>\n",
       "      <td>160505</td>\n",
       "      <td>DGP</td>\n",
       "      <td>232007</td>\n",
       "      <td>D6DAATSLOCO</td>\n",
       "      <td>D6DA</td>\n",
       "      <td>ATS</td>\n",
       "      <td>LOCO</td>\n",
       "      <td>ATS - ATIVIDADES SETORIAIS</td>\n",
       "      <td>339033</td>\n",
       "      <td>PASSAGENS E DESPESAS COM LOCOMOCAO</td>\n",
       "      <td>33903304</td>\n",
       "      <td>MUDANCAS EM OBJETO DE SERVICO</td>\n",
       "      <td>2024NE001252</td>\n",
       "      <td>2024</td>\n",
       "      <td>2024-10-22</td>\n",
       "      <td>160129000012024NE001252</td>\n",
       "      <td>39644514000115</td>\n",
       "      <td>MULTI PRIME MUDANCAS E TRANSPORTES ESPECIAIS LTDA</td>\n",
       "      <td>GO</td>\n",
       "      <td>RPNP</td>\n",
       "      <td>125</td>\n",
       "      <td>MG</td>\n",
       "      <td>1000000000</td>\n",
       "      <td>PREGAO</td>\n",
       "      <td>ESTIMATIVO</td>\n",
       "      <td>1</td>\n",
       "      <td>PRIMARIO OBRIGATORIO</td>\n",
       "      <td>A</td>\n",
       "      <td>INICIAL (LOA)</td>\n",
       "      <td>0000</td>\n",
       "      <td>000000000000</td>\n",
       "      <td>SEM EMENDA</td>\n",
       "      <td>ESCOLA DE SARGENTOS DAS ARMAS</td>\n",
       "      <td>COMANDO DO EXERCITO</td>\n",
       "      <td>52121</td>\n",
       "      <td>919.00</td>\n",
       "      <td>0.0</td>\n",
       "      <td>919.00</td>\n",
       "      <td>0.00</td>\n",
       "    </tr>\n",
       "    <tr>\n",
       "      <th>96</th>\n",
       "      <td>160129</td>\n",
       "      <td>ESA</td>\n",
       "      <td>4º CGCFEx</td>\n",
       "      <td>4ª RM</td>\n",
       "      <td>CML</td>\n",
       "      <td>Três Corações</td>\n",
       "      <td>MG</td>\n",
       "      <td>6112</td>\n",
       "      <td>212O</td>\n",
       "      <td>MOVIMENTACAO DE MILITARES</td>\n",
       "      <td>160505</td>\n",
       "      <td>DGP</td>\n",
       "      <td>232007</td>\n",
       "      <td>D6DAATSLOCO</td>\n",
       "      <td>D6DA</td>\n",
       "      <td>ATS</td>\n",
       "      <td>LOCO</td>\n",
       "      <td>ATS - ATIVIDADES SETORIAIS</td>\n",
       "      <td>339033</td>\n",
       "      <td>PASSAGENS E DESPESAS COM LOCOMOCAO</td>\n",
       "      <td>33903304</td>\n",
       "      <td>MUDANCAS EM OBJETO DE SERVICO</td>\n",
       "      <td>2024NE001555</td>\n",
       "      <td>2024</td>\n",
       "      <td>2024-11-05</td>\n",
       "      <td>160129000012024NE001555</td>\n",
       "      <td>39644514000115</td>\n",
       "      <td>MULTI PRIME MUDANCAS E TRANSPORTES ESPECIAIS LTDA</td>\n",
       "      <td>GO</td>\n",
       "      <td>RPNP</td>\n",
       "      <td>111</td>\n",
       "      <td>MG</td>\n",
       "      <td>1000000000</td>\n",
       "      <td>PREGAO</td>\n",
       "      <td>ESTIMATIVO</td>\n",
       "      <td>1</td>\n",
       "      <td>PRIMARIO OBRIGATORIO</td>\n",
       "      <td>A</td>\n",
       "      <td>INICIAL (LOA)</td>\n",
       "      <td>0000</td>\n",
       "      <td>000000000000</td>\n",
       "      <td>SEM EMENDA</td>\n",
       "      <td>ESCOLA DE SARGENTOS DAS ARMAS</td>\n",
       "      <td>COMANDO DO EXERCITO</td>\n",
       "      <td>52121</td>\n",
       "      <td>397.00</td>\n",
       "      <td>0.0</td>\n",
       "      <td>397.00</td>\n",
       "      <td>0.00</td>\n",
       "    </tr>\n",
       "    <tr>\n",
       "      <th>97</th>\n",
       "      <td>160129</td>\n",
       "      <td>ESA</td>\n",
       "      <td>4º CGCFEx</td>\n",
       "      <td>4ª RM</td>\n",
       "      <td>CML</td>\n",
       "      <td>Três Corações</td>\n",
       "      <td>MG</td>\n",
       "      <td>6112</td>\n",
       "      <td>212O</td>\n",
       "      <td>MOVIMENTACAO DE MILITARES</td>\n",
       "      <td>160505</td>\n",
       "      <td>DGP</td>\n",
       "      <td>232007</td>\n",
       "      <td>D6DAATSLOCO</td>\n",
       "      <td>D6DA</td>\n",
       "      <td>ATS</td>\n",
       "      <td>LOCO</td>\n",
       "      <td>ATS - ATIVIDADES SETORIAIS</td>\n",
       "      <td>339033</td>\n",
       "      <td>PASSAGENS E DESPESAS COM LOCOMOCAO</td>\n",
       "      <td>33903304</td>\n",
       "      <td>MUDANCAS EM OBJETO DE SERVICO</td>\n",
       "      <td>2024NE001558</td>\n",
       "      <td>2024</td>\n",
       "      <td>2024-11-05</td>\n",
       "      <td>160129000012024NE001558</td>\n",
       "      <td>39644514000115</td>\n",
       "      <td>MULTI PRIME MUDANCAS E TRANSPORTES ESPECIAIS LTDA</td>\n",
       "      <td>GO</td>\n",
       "      <td>RPNP</td>\n",
       "      <td>111</td>\n",
       "      <td>MG</td>\n",
       "      <td>1000000000</td>\n",
       "      <td>PREGAO</td>\n",
       "      <td>ESTIMATIVO</td>\n",
       "      <td>1</td>\n",
       "      <td>PRIMARIO OBRIGATORIO</td>\n",
       "      <td>A</td>\n",
       "      <td>INICIAL (LOA)</td>\n",
       "      <td>0000</td>\n",
       "      <td>000000000000</td>\n",
       "      <td>SEM EMENDA</td>\n",
       "      <td>ESCOLA DE SARGENTOS DAS ARMAS</td>\n",
       "      <td>COMANDO DO EXERCITO</td>\n",
       "      <td>52121</td>\n",
       "      <td>598.00</td>\n",
       "      <td>0.0</td>\n",
       "      <td>598.00</td>\n",
       "      <td>0.00</td>\n",
       "    </tr>\n",
       "    <tr>\n",
       "      <th>98</th>\n",
       "      <td>160129</td>\n",
       "      <td>ESA</td>\n",
       "      <td>4º CGCFEx</td>\n",
       "      <td>4ª RM</td>\n",
       "      <td>CML</td>\n",
       "      <td>Três Corações</td>\n",
       "      <td>MG</td>\n",
       "      <td>6112</td>\n",
       "      <td>212O</td>\n",
       "      <td>MOVIMENTACAO DE MILITARES</td>\n",
       "      <td>160505</td>\n",
       "      <td>DGP</td>\n",
       "      <td>232007</td>\n",
       "      <td>D6DAATSLOCO</td>\n",
       "      <td>D6DA</td>\n",
       "      <td>ATS</td>\n",
       "      <td>LOCO</td>\n",
       "      <td>ATS - ATIVIDADES SETORIAIS</td>\n",
       "      <td>339033</td>\n",
       "      <td>PASSAGENS E DESPESAS COM LOCOMOCAO</td>\n",
       "      <td>33903304</td>\n",
       "      <td>MUDANCAS EM OBJETO DE SERVICO</td>\n",
       "      <td>2024NE001559</td>\n",
       "      <td>2024</td>\n",
       "      <td>2024-11-05</td>\n",
       "      <td>160129000012024NE001559</td>\n",
       "      <td>39644514000115</td>\n",
       "      <td>MULTI PRIME MUDANCAS E TRANSPORTES ESPECIAIS LTDA</td>\n",
       "      <td>GO</td>\n",
       "      <td>RPNP</td>\n",
       "      <td>111</td>\n",
       "      <td>MG</td>\n",
       "      <td>1000000000</td>\n",
       "      <td>PREGAO</td>\n",
       "      <td>ESTIMATIVO</td>\n",
       "      <td>1</td>\n",
       "      <td>PRIMARIO OBRIGATORIO</td>\n",
       "      <td>A</td>\n",
       "      <td>INICIAL (LOA)</td>\n",
       "      <td>0000</td>\n",
       "      <td>000000000000</td>\n",
       "      <td>SEM EMENDA</td>\n",
       "      <td>ESCOLA DE SARGENTOS DAS ARMAS</td>\n",
       "      <td>COMANDO DO EXERCITO</td>\n",
       "      <td>52121</td>\n",
       "      <td>598.00</td>\n",
       "      <td>0.0</td>\n",
       "      <td>598.00</td>\n",
       "      <td>0.00</td>\n",
       "    </tr>\n",
       "    <tr>\n",
       "      <th>99</th>\n",
       "      <td>160129</td>\n",
       "      <td>ESA</td>\n",
       "      <td>4º CGCFEx</td>\n",
       "      <td>4ª RM</td>\n",
       "      <td>CML</td>\n",
       "      <td>Três Corações</td>\n",
       "      <td>MG</td>\n",
       "      <td>6112</td>\n",
       "      <td>212O</td>\n",
       "      <td>MOVIMENTACAO DE MILITARES</td>\n",
       "      <td>160505</td>\n",
       "      <td>DGP</td>\n",
       "      <td>232007</td>\n",
       "      <td>D6DAATSLOCO</td>\n",
       "      <td>D6DA</td>\n",
       "      <td>ATS</td>\n",
       "      <td>LOCO</td>\n",
       "      <td>ATS - ATIVIDADES SETORIAIS</td>\n",
       "      <td>339033</td>\n",
       "      <td>PASSAGENS E DESPESAS COM LOCOMOCAO</td>\n",
       "      <td>33903304</td>\n",
       "      <td>MUDANCAS EM OBJETO DE SERVICO</td>\n",
       "      <td>2024NE001943</td>\n",
       "      <td>2024</td>\n",
       "      <td>2024-11-12</td>\n",
       "      <td>160129000012024NE001943</td>\n",
       "      <td>39644514000115</td>\n",
       "      <td>MULTI PRIME MUDANCAS E TRANSPORTES ESPECIAIS LTDA</td>\n",
       "      <td>GO</td>\n",
       "      <td>RPNP</td>\n",
       "      <td>104</td>\n",
       "      <td>MG</td>\n",
       "      <td>1000000000</td>\n",
       "      <td>PREGAO</td>\n",
       "      <td>ESTIMATIVO</td>\n",
       "      <td>1</td>\n",
       "      <td>PRIMARIO OBRIGATORIO</td>\n",
       "      <td>A</td>\n",
       "      <td>INICIAL (LOA)</td>\n",
       "      <td>0000</td>\n",
       "      <td>000000000000</td>\n",
       "      <td>SEM EMENDA</td>\n",
       "      <td>ESCOLA DE SARGENTOS DAS ARMAS</td>\n",
       "      <td>COMANDO DO EXERCITO</td>\n",
       "      <td>52121</td>\n",
       "      <td>598.00</td>\n",
       "      <td>0.0</td>\n",
       "      <td>598.00</td>\n",
       "      <td>0.00</td>\n",
       "    </tr>\n",
       "    <tr>\n",
       "      <th>100</th>\n",
       "      <td>160129</td>\n",
       "      <td>ESA</td>\n",
       "      <td>4º CGCFEx</td>\n",
       "      <td>4ª RM</td>\n",
       "      <td>CML</td>\n",
       "      <td>Três Corações</td>\n",
       "      <td>MG</td>\n",
       "      <td>6112</td>\n",
       "      <td>212O</td>\n",
       "      <td>MOVIMENTACAO DE MILITARES</td>\n",
       "      <td>160505</td>\n",
       "      <td>DGP</td>\n",
       "      <td>232007</td>\n",
       "      <td>D6DAATSLOCO</td>\n",
       "      <td>D6DA</td>\n",
       "      <td>ATS</td>\n",
       "      <td>LOCO</td>\n",
       "      <td>ATS - ATIVIDADES SETORIAIS</td>\n",
       "      <td>339033</td>\n",
       "      <td>PASSAGENS E DESPESAS COM LOCOMOCAO</td>\n",
       "      <td>33903304</td>\n",
       "      <td>MUDANCAS EM OBJETO DE SERVICO</td>\n",
       "      <td>2024NE001944</td>\n",
       "      <td>2024</td>\n",
       "      <td>2024-11-12</td>\n",
       "      <td>160129000012024NE001944</td>\n",
       "      <td>39644514000115</td>\n",
       "      <td>MULTI PRIME MUDANCAS E TRANSPORTES ESPECIAIS LTDA</td>\n",
       "      <td>GO</td>\n",
       "      <td>RPNP</td>\n",
       "      <td>104</td>\n",
       "      <td>MG</td>\n",
       "      <td>1000000000</td>\n",
       "      <td>PREGAO</td>\n",
       "      <td>ESTIMATIVO</td>\n",
       "      <td>1</td>\n",
       "      <td>PRIMARIO OBRIGATORIO</td>\n",
       "      <td>A</td>\n",
       "      <td>INICIAL (LOA)</td>\n",
       "      <td>0000</td>\n",
       "      <td>000000000000</td>\n",
       "      <td>SEM EMENDA</td>\n",
       "      <td>ESCOLA DE SARGENTOS DAS ARMAS</td>\n",
       "      <td>COMANDO DO EXERCITO</td>\n",
       "      <td>52121</td>\n",
       "      <td>598.00</td>\n",
       "      <td>0.0</td>\n",
       "      <td>598.00</td>\n",
       "      <td>0.00</td>\n",
       "    </tr>\n",
       "    <tr>\n",
       "      <th>101</th>\n",
       "      <td>160129</td>\n",
       "      <td>ESA</td>\n",
       "      <td>4º CGCFEx</td>\n",
       "      <td>4ª RM</td>\n",
       "      <td>CML</td>\n",
       "      <td>Três Corações</td>\n",
       "      <td>MG</td>\n",
       "      <td>6112</td>\n",
       "      <td>212O</td>\n",
       "      <td>MOVIMENTACAO DE MILITARES</td>\n",
       "      <td>160505</td>\n",
       "      <td>DGP</td>\n",
       "      <td>232007</td>\n",
       "      <td>D6DAATSLOCO</td>\n",
       "      <td>D6DA</td>\n",
       "      <td>ATS</td>\n",
       "      <td>LOCO</td>\n",
       "      <td>ATS - ATIVIDADES SETORIAIS</td>\n",
       "      <td>339033</td>\n",
       "      <td>PASSAGENS E DESPESAS COM LOCOMOCAO</td>\n",
       "      <td>33903304</td>\n",
       "      <td>MUDANCAS EM OBJETO DE SERVICO</td>\n",
       "      <td>2024NE002345</td>\n",
       "      <td>2024</td>\n",
       "      <td>2024-11-25</td>\n",
       "      <td>160129000012024NE002345</td>\n",
       "      <td>39644514000115</td>\n",
       "      <td>MULTI PRIME MUDANCAS E TRANSPORTES ESPECIAIS LTDA</td>\n",
       "      <td>GO</td>\n",
       "      <td>RPNP</td>\n",
       "      <td>91</td>\n",
       "      <td>MG</td>\n",
       "      <td>1000000000</td>\n",
       "      <td>PREGAO</td>\n",
       "      <td>ESTIMATIVO</td>\n",
       "      <td>1</td>\n",
       "      <td>PRIMARIO OBRIGATORIO</td>\n",
       "      <td>A</td>\n",
       "      <td>INICIAL (LOA)</td>\n",
       "      <td>0000</td>\n",
       "      <td>000000000000</td>\n",
       "      <td>SEM EMENDA</td>\n",
       "      <td>ESCOLA DE SARGENTOS DAS ARMAS</td>\n",
       "      <td>COMANDO DO EXERCITO</td>\n",
       "      <td>52121</td>\n",
       "      <td>598.00</td>\n",
       "      <td>0.0</td>\n",
       "      <td>598.00</td>\n",
       "      <td>0.00</td>\n",
       "    </tr>\n",
       "    <tr>\n",
       "      <th>121</th>\n",
       "      <td>160129</td>\n",
       "      <td>ESA</td>\n",
       "      <td>4º CGCFEx</td>\n",
       "      <td>4ª RM</td>\n",
       "      <td>CML</td>\n",
       "      <td>Três Corações</td>\n",
       "      <td>MG</td>\n",
       "      <td>6112</td>\n",
       "      <td>212O</td>\n",
       "      <td>MOVIMENTACAO DE MILITARES</td>\n",
       "      <td>160505</td>\n",
       "      <td>DGP</td>\n",
       "      <td>232007</td>\n",
       "      <td>D6PEINDMV1T</td>\n",
       "      <td>D6PE</td>\n",
       "      <td>IND</td>\n",
       "      <td>MV1T</td>\n",
       "      <td>IND - INDENIZACOES</td>\n",
       "      <td>339093</td>\n",
       "      <td>INDENIZACOES E RESTITUICOES</td>\n",
       "      <td>33909319</td>\n",
       "      <td>INDENIZACAO DE TRANSPORTE - PESSOAL MILITAR</td>\n",
       "      <td>2025NE000066</td>\n",
       "      <td>2025</td>\n",
       "      <td>2025-02-19</td>\n",
       "      <td>160129000012025NE000066</td>\n",
       "      <td>03758231078</td>\n",
       "      <td>EDUARDU KROTH LOPES</td>\n",
       "      <td>RS</td>\n",
       "      <td>ANO</td>\n",
       "      <td>5</td>\n",
       "      <td>MG</td>\n",
       "      <td>1000000000</td>\n",
       "      <td>NAO SE APLICA</td>\n",
       "      <td>ORDINARIO</td>\n",
       "      <td>1</td>\n",
       "      <td>PRIMARIO OBRIGATORIO</td>\n",
       "      <td>A</td>\n",
       "      <td>INICIAL (LOA)</td>\n",
       "      <td>0000</td>\n",
       "      <td>000000000000</td>\n",
       "      <td>SEM EMENDA</td>\n",
       "      <td>0</td>\n",
       "      <td>COMANDO DO EXERCITO</td>\n",
       "      <td>52121</td>\n",
       "      <td>1656.72</td>\n",
       "      <td>0.0</td>\n",
       "      <td>1656.72</td>\n",
       "      <td>0.00</td>\n",
       "    </tr>\n",
       "    <tr>\n",
       "      <th>122</th>\n",
       "      <td>160129</td>\n",
       "      <td>ESA</td>\n",
       "      <td>4º CGCFEx</td>\n",
       "      <td>4ª RM</td>\n",
       "      <td>CML</td>\n",
       "      <td>Três Corações</td>\n",
       "      <td>MG</td>\n",
       "      <td>6112</td>\n",
       "      <td>212O</td>\n",
       "      <td>MOVIMENTACAO DE MILITARES</td>\n",
       "      <td>160505</td>\n",
       "      <td>DGP</td>\n",
       "      <td>232007</td>\n",
       "      <td>D6PEINDMV1T</td>\n",
       "      <td>D6PE</td>\n",
       "      <td>IND</td>\n",
       "      <td>MV1T</td>\n",
       "      <td>IND - INDENIZACOES</td>\n",
       "      <td>339093</td>\n",
       "      <td>INDENIZACOES E RESTITUICOES</td>\n",
       "      <td>33909319</td>\n",
       "      <td>INDENIZACAO DE TRANSPORTE - PESSOAL MILITAR</td>\n",
       "      <td>2025NE000067</td>\n",
       "      <td>2025</td>\n",
       "      <td>2025-02-19</td>\n",
       "      <td>160129000012025NE000067</td>\n",
       "      <td>03720621219</td>\n",
       "      <td>ENZO RITTER TEIXEIRA LEITE</td>\n",
       "      <td>RS</td>\n",
       "      <td>ANO</td>\n",
       "      <td>5</td>\n",
       "      <td>MG</td>\n",
       "      <td>1000000000</td>\n",
       "      <td>NAO SE APLICA</td>\n",
       "      <td>ORDINARIO</td>\n",
       "      <td>1</td>\n",
       "      <td>PRIMARIO OBRIGATORIO</td>\n",
       "      <td>A</td>\n",
       "      <td>INICIAL (LOA)</td>\n",
       "      <td>0000</td>\n",
       "      <td>000000000000</td>\n",
       "      <td>SEM EMENDA</td>\n",
       "      <td>0</td>\n",
       "      <td>COMANDO DO EXERCITO</td>\n",
       "      <td>52121</td>\n",
       "      <td>1356.48</td>\n",
       "      <td>0.0</td>\n",
       "      <td>1356.48</td>\n",
       "      <td>0.00</td>\n",
       "    </tr>\n",
       "    <tr>\n",
       "      <th>123</th>\n",
       "      <td>160129</td>\n",
       "      <td>ESA</td>\n",
       "      <td>4º CGCFEx</td>\n",
       "      <td>4ª RM</td>\n",
       "      <td>CML</td>\n",
       "      <td>Três Corações</td>\n",
       "      <td>MG</td>\n",
       "      <td>6112</td>\n",
       "      <td>212O</td>\n",
       "      <td>MOVIMENTACAO DE MILITARES</td>\n",
       "      <td>160505</td>\n",
       "      <td>DGP</td>\n",
       "      <td>232007</td>\n",
       "      <td>D6PEINDMV1T</td>\n",
       "      <td>D6PE</td>\n",
       "      <td>IND</td>\n",
       "      <td>MV1T</td>\n",
       "      <td>IND - INDENIZACOES</td>\n",
       "      <td>339093</td>\n",
       "      <td>INDENIZACOES E RESTITUICOES</td>\n",
       "      <td>33909319</td>\n",
       "      <td>INDENIZACAO DE TRANSPORTE - PESSOAL MILITAR</td>\n",
       "      <td>2025NE000068</td>\n",
       "      <td>2025</td>\n",
       "      <td>2025-02-19</td>\n",
       "      <td>160129000012025NE000068</td>\n",
       "      <td>01731967640</td>\n",
       "      <td>JOAQUIM FELIPE RIBEIRO GUIMARAES</td>\n",
       "      <td>RN</td>\n",
       "      <td>ANO</td>\n",
       "      <td>5</td>\n",
       "      <td>MG</td>\n",
       "      <td>1000000000</td>\n",
       "      <td>NAO SE APLICA</td>\n",
       "      <td>ORDINARIO</td>\n",
       "      <td>1</td>\n",
       "      <td>PRIMARIO OBRIGATORIO</td>\n",
       "      <td>A</td>\n",
       "      <td>INICIAL (LOA)</td>\n",
       "      <td>0000</td>\n",
       "      <td>000000000000</td>\n",
       "      <td>SEM EMENDA</td>\n",
       "      <td>0</td>\n",
       "      <td>COMANDO DO EXERCITO</td>\n",
       "      <td>52121</td>\n",
       "      <td>1656.72</td>\n",
       "      <td>0.0</td>\n",
       "      <td>1656.72</td>\n",
       "      <td>0.00</td>\n",
       "    </tr>\n",
       "    <tr>\n",
       "      <th>124</th>\n",
       "      <td>160129</td>\n",
       "      <td>ESA</td>\n",
       "      <td>4º CGCFEx</td>\n",
       "      <td>4ª RM</td>\n",
       "      <td>CML</td>\n",
       "      <td>Três Corações</td>\n",
       "      <td>MG</td>\n",
       "      <td>6112</td>\n",
       "      <td>212O</td>\n",
       "      <td>MOVIMENTACAO DE MILITARES</td>\n",
       "      <td>160505</td>\n",
       "      <td>DGP</td>\n",
       "      <td>232007</td>\n",
       "      <td>D6PEINDMV1T</td>\n",
       "      <td>D6PE</td>\n",
       "      <td>IND</td>\n",
       "      <td>MV1T</td>\n",
       "      <td>IND - INDENIZACOES</td>\n",
       "      <td>339093</td>\n",
       "      <td>INDENIZACOES E RESTITUICOES</td>\n",
       "      <td>33909319</td>\n",
       "      <td>INDENIZACAO DE TRANSPORTE - PESSOAL MILITAR</td>\n",
       "      <td>2025NE000069</td>\n",
       "      <td>2025</td>\n",
       "      <td>2025-02-19</td>\n",
       "      <td>160129000012025NE000069</td>\n",
       "      <td>23644698805</td>\n",
       "      <td>JOAO VITOR DOS SANTOS</td>\n",
       "      <td>SP</td>\n",
       "      <td>ANO</td>\n",
       "      <td>5</td>\n",
       "      <td>MG</td>\n",
       "      <td>1000000000</td>\n",
       "      <td>NAO SE APLICA</td>\n",
       "      <td>ORDINARIO</td>\n",
       "      <td>1</td>\n",
       "      <td>PRIMARIO OBRIGATORIO</td>\n",
       "      <td>A</td>\n",
       "      <td>INICIAL (LOA)</td>\n",
       "      <td>0000</td>\n",
       "      <td>000000000000</td>\n",
       "      <td>SEM EMENDA</td>\n",
       "      <td>0</td>\n",
       "      <td>COMANDO DO EXERCITO</td>\n",
       "      <td>52121</td>\n",
       "      <td>1505.76</td>\n",
       "      <td>0.0</td>\n",
       "      <td>1505.76</td>\n",
       "      <td>0.00</td>\n",
       "    </tr>\n",
       "    <tr>\n",
       "      <th>126</th>\n",
       "      <td>160129</td>\n",
       "      <td>ESA</td>\n",
       "      <td>4º CGCFEx</td>\n",
       "      <td>4ª RM</td>\n",
       "      <td>CML</td>\n",
       "      <td>Três Corações</td>\n",
       "      <td>MG</td>\n",
       "      <td>6112</td>\n",
       "      <td>212O</td>\n",
       "      <td>MOVIMENTACAO DE MILITARES</td>\n",
       "      <td>160505</td>\n",
       "      <td>DGP</td>\n",
       "      <td>232007</td>\n",
       "      <td>D6PEINDMV1T</td>\n",
       "      <td>D6PE</td>\n",
       "      <td>IND</td>\n",
       "      <td>MV1T</td>\n",
       "      <td>IND - INDENIZACOES</td>\n",
       "      <td>339093</td>\n",
       "      <td>INDENIZACOES E RESTITUICOES</td>\n",
       "      <td>33909319</td>\n",
       "      <td>INDENIZACAO DE TRANSPORTE - PESSOAL MILITAR</td>\n",
       "      <td>2025NE000083</td>\n",
       "      <td>2025</td>\n",
       "      <td>2025-02-21</td>\n",
       "      <td>160129000012025NE000083</td>\n",
       "      <td>00301438021</td>\n",
       "      <td>ALESSANDRO ALVES GUAZINA</td>\n",
       "      <td>MG</td>\n",
       "      <td>ANO</td>\n",
       "      <td>3</td>\n",
       "      <td>MG</td>\n",
       "      <td>1000000000</td>\n",
       "      <td>NAO SE APLICA</td>\n",
       "      <td>ORDINARIO</td>\n",
       "      <td>1</td>\n",
       "      <td>PRIMARIO OBRIGATORIO</td>\n",
       "      <td>A</td>\n",
       "      <td>INICIAL (LOA)</td>\n",
       "      <td>0000</td>\n",
       "      <td>000000000000</td>\n",
       "      <td>SEM EMENDA</td>\n",
       "      <td>0</td>\n",
       "      <td>COMANDO DO EXERCITO</td>\n",
       "      <td>52121</td>\n",
       "      <td>12677.74</td>\n",
       "      <td>0.0</td>\n",
       "      <td>12677.74</td>\n",
       "      <td>0.00</td>\n",
       "    </tr>\n",
       "    <tr>\n",
       "      <th>127</th>\n",
       "      <td>160129</td>\n",
       "      <td>ESA</td>\n",
       "      <td>4º CGCFEx</td>\n",
       "      <td>4ª RM</td>\n",
       "      <td>CML</td>\n",
       "      <td>Três Corações</td>\n",
       "      <td>MG</td>\n",
       "      <td>6112</td>\n",
       "      <td>212O</td>\n",
       "      <td>MOVIMENTACAO DE MILITARES</td>\n",
       "      <td>160505</td>\n",
       "      <td>DGP</td>\n",
       "      <td>232007</td>\n",
       "      <td>D6PEINDMV1T</td>\n",
       "      <td>D6PE</td>\n",
       "      <td>IND</td>\n",
       "      <td>MV1T</td>\n",
       "      <td>IND - INDENIZACOES</td>\n",
       "      <td>339093</td>\n",
       "      <td>INDENIZACOES E RESTITUICOES</td>\n",
       "      <td>33909319</td>\n",
       "      <td>INDENIZACAO DE TRANSPORTE - PESSOAL MILITAR</td>\n",
       "      <td>2025NE000084</td>\n",
       "      <td>2025</td>\n",
       "      <td>2025-02-21</td>\n",
       "      <td>160129000012025NE000084</td>\n",
       "      <td>10175548706</td>\n",
       "      <td>BRUNO MEDEIROS LEAL</td>\n",
       "      <td>PA</td>\n",
       "      <td>ANO</td>\n",
       "      <td>3</td>\n",
       "      <td>MG</td>\n",
       "      <td>1000000000</td>\n",
       "      <td>NAO SE APLICA</td>\n",
       "      <td>ORDINARIO</td>\n",
       "      <td>1</td>\n",
       "      <td>PRIMARIO OBRIGATORIO</td>\n",
       "      <td>A</td>\n",
       "      <td>INICIAL (LOA)</td>\n",
       "      <td>0000</td>\n",
       "      <td>000000000000</td>\n",
       "      <td>SEM EMENDA</td>\n",
       "      <td>0</td>\n",
       "      <td>COMANDO DO EXERCITO</td>\n",
       "      <td>52121</td>\n",
       "      <td>3448.49</td>\n",
       "      <td>0.0</td>\n",
       "      <td>3448.49</td>\n",
       "      <td>0.00</td>\n",
       "    </tr>\n",
       "    <tr>\n",
       "      <th>128</th>\n",
       "      <td>160129</td>\n",
       "      <td>ESA</td>\n",
       "      <td>4º CGCFEx</td>\n",
       "      <td>4ª RM</td>\n",
       "      <td>CML</td>\n",
       "      <td>Três Corações</td>\n",
       "      <td>MG</td>\n",
       "      <td>6112</td>\n",
       "      <td>212O</td>\n",
       "      <td>MOVIMENTACAO DE MILITARES</td>\n",
       "      <td>160505</td>\n",
       "      <td>DGP</td>\n",
       "      <td>232007</td>\n",
       "      <td>D6PEINDMV1T</td>\n",
       "      <td>D6PE</td>\n",
       "      <td>IND</td>\n",
       "      <td>MV1T</td>\n",
       "      <td>IND - INDENIZACOES</td>\n",
       "      <td>339093</td>\n",
       "      <td>INDENIZACOES E RESTITUICOES</td>\n",
       "      <td>33909319</td>\n",
       "      <td>INDENIZACAO DE TRANSPORTE - PESSOAL MILITAR</td>\n",
       "      <td>2025NE000085</td>\n",
       "      <td>2025</td>\n",
       "      <td>2025-02-21</td>\n",
       "      <td>160129000012025NE000085</td>\n",
       "      <td>07527824794</td>\n",
       "      <td>RAFAEL TENORIO LOPES DE SOUZA</td>\n",
       "      <td>RJ</td>\n",
       "      <td>ANO</td>\n",
       "      <td>3</td>\n",
       "      <td>MG</td>\n",
       "      <td>1000000000</td>\n",
       "      <td>NAO SE APLICA</td>\n",
       "      <td>ORDINARIO</td>\n",
       "      <td>1</td>\n",
       "      <td>PRIMARIO OBRIGATORIO</td>\n",
       "      <td>A</td>\n",
       "      <td>INICIAL (LOA)</td>\n",
       "      <td>0000</td>\n",
       "      <td>000000000000</td>\n",
       "      <td>SEM EMENDA</td>\n",
       "      <td>0</td>\n",
       "      <td>COMANDO DO EXERCITO</td>\n",
       "      <td>52121</td>\n",
       "      <td>11731.64</td>\n",
       "      <td>0.0</td>\n",
       "      <td>11731.64</td>\n",
       "      <td>0.00</td>\n",
       "    </tr>\n",
       "    <tr>\n",
       "      <th>129</th>\n",
       "      <td>160129</td>\n",
       "      <td>ESA</td>\n",
       "      <td>4º CGCFEx</td>\n",
       "      <td>4ª RM</td>\n",
       "      <td>CML</td>\n",
       "      <td>Três Corações</td>\n",
       "      <td>MG</td>\n",
       "      <td>6112</td>\n",
       "      <td>212O</td>\n",
       "      <td>MOVIMENTACAO DE MILITARES</td>\n",
       "      <td>160505</td>\n",
       "      <td>DGP</td>\n",
       "      <td>232007</td>\n",
       "      <td>D6PEINDMV1T</td>\n",
       "      <td>D6PE</td>\n",
       "      <td>IND</td>\n",
       "      <td>MV1T</td>\n",
       "      <td>IND - INDENIZACOES</td>\n",
       "      <td>339093</td>\n",
       "      <td>INDENIZACOES E RESTITUICOES</td>\n",
       "      <td>33909319</td>\n",
       "      <td>INDENIZACAO DE TRANSPORTE - PESSOAL MILITAR</td>\n",
       "      <td>2025NE000086</td>\n",
       "      <td>2025</td>\n",
       "      <td>2025-02-21</td>\n",
       "      <td>160129000012025NE000086</td>\n",
       "      <td>07710174647</td>\n",
       "      <td>JEFFERSON EDUARDO DIAS</td>\n",
       "      <td>GO</td>\n",
       "      <td>ANO</td>\n",
       "      <td>3</td>\n",
       "      <td>MG</td>\n",
       "      <td>1000000000</td>\n",
       "      <td>NAO SE APLICA</td>\n",
       "      <td>ORDINARIO</td>\n",
       "      <td>1</td>\n",
       "      <td>PRIMARIO OBRIGATORIO</td>\n",
       "      <td>A</td>\n",
       "      <td>INICIAL (LOA)</td>\n",
       "      <td>0000</td>\n",
       "      <td>000000000000</td>\n",
       "      <td>SEM EMENDA</td>\n",
       "      <td>0</td>\n",
       "      <td>COMANDO DO EXERCITO</td>\n",
       "      <td>52121</td>\n",
       "      <td>3448.49</td>\n",
       "      <td>0.0</td>\n",
       "      <td>3448.49</td>\n",
       "      <td>0.00</td>\n",
       "    </tr>\n",
       "    <tr>\n",
       "      <th>130</th>\n",
       "      <td>160129</td>\n",
       "      <td>ESA</td>\n",
       "      <td>4º CGCFEx</td>\n",
       "      <td>4ª RM</td>\n",
       "      <td>CML</td>\n",
       "      <td>Três Corações</td>\n",
       "      <td>MG</td>\n",
       "      <td>6112</td>\n",
       "      <td>212O</td>\n",
       "      <td>MOVIMENTACAO DE MILITARES</td>\n",
       "      <td>160505</td>\n",
       "      <td>DGP</td>\n",
       "      <td>232007</td>\n",
       "      <td>D6PEINDMV1T</td>\n",
       "      <td>D6PE</td>\n",
       "      <td>IND</td>\n",
       "      <td>MV1T</td>\n",
       "      <td>IND - INDENIZACOES</td>\n",
       "      <td>339093</td>\n",
       "      <td>INDENIZACOES E RESTITUICOES</td>\n",
       "      <td>33909319</td>\n",
       "      <td>INDENIZACAO DE TRANSPORTE - PESSOAL MILITAR</td>\n",
       "      <td>2025NE000087</td>\n",
       "      <td>2025</td>\n",
       "      <td>2025-02-21</td>\n",
       "      <td>160129000012025NE000087</td>\n",
       "      <td>04011485640</td>\n",
       "      <td>FABRICIO SALES DA SILVA PINTO</td>\n",
       "      <td>MG</td>\n",
       "      <td>ANO</td>\n",
       "      <td>3</td>\n",
       "      <td>MG</td>\n",
       "      <td>1000000000</td>\n",
       "      <td>NAO SE APLICA</td>\n",
       "      <td>ORDINARIO</td>\n",
       "      <td>1</td>\n",
       "      <td>PRIMARIO OBRIGATORIO</td>\n",
       "      <td>A</td>\n",
       "      <td>INICIAL (LOA)</td>\n",
       "      <td>0000</td>\n",
       "      <td>000000000000</td>\n",
       "      <td>SEM EMENDA</td>\n",
       "      <td>0</td>\n",
       "      <td>COMANDO DO EXERCITO</td>\n",
       "      <td>52121</td>\n",
       "      <td>22012.90</td>\n",
       "      <td>0.0</td>\n",
       "      <td>22012.90</td>\n",
       "      <td>0.00</td>\n",
       "    </tr>\n",
       "    <tr>\n",
       "      <th>133</th>\n",
       "      <td>160129</td>\n",
       "      <td>ESA</td>\n",
       "      <td>4º CGCFEx</td>\n",
       "      <td>4ª RM</td>\n",
       "      <td>CML</td>\n",
       "      <td>Três Corações</td>\n",
       "      <td>MG</td>\n",
       "      <td>6112</td>\n",
       "      <td>212O</td>\n",
       "      <td>MOVIMENTACAO DE MILITARES</td>\n",
       "      <td>160505</td>\n",
       "      <td>DGP</td>\n",
       "      <td>232007</td>\n",
       "      <td>DGPREQTRNP3</td>\n",
       "      <td>DGPR</td>\n",
       "      <td>EQT</td>\n",
       "      <td>RNP3</td>\n",
       "      <td>MIS EXT REQS TRNP BAG INTER</td>\n",
       "      <td>339033</td>\n",
       "      <td>PASSAGENS E DESPESAS COM LOCOMOCAO</td>\n",
       "      <td>33903301</td>\n",
       "      <td>PASSAGENS PARA O PAIS</td>\n",
       "      <td>2024NE001256</td>\n",
       "      <td>2024</td>\n",
       "      <td>2024-10-23</td>\n",
       "      <td>160129000012024NE001256</td>\n",
       "      <td>21331404000138</td>\n",
       "      <td>ORLEANS VIAGENS E TURISMO LTDA</td>\n",
       "      <td>SP</td>\n",
       "      <td>RPNP</td>\n",
       "      <td>124</td>\n",
       "      <td>MG</td>\n",
       "      <td>1000000000</td>\n",
       "      <td>PREGAO</td>\n",
       "      <td>GLOBAL</td>\n",
       "      <td>1</td>\n",
       "      <td>PRIMARIO OBRIGATORIO</td>\n",
       "      <td>A</td>\n",
       "      <td>INICIAL (LOA)</td>\n",
       "      <td>0000</td>\n",
       "      <td>000000000000</td>\n",
       "      <td>SEM EMENDA</td>\n",
       "      <td>ESA</td>\n",
       "      <td>COMANDO DO EXERCITO</td>\n",
       "      <td>52121</td>\n",
       "      <td>773.14</td>\n",
       "      <td>0.0</td>\n",
       "      <td>773.14</td>\n",
       "      <td>0.00</td>\n",
       "    </tr>\n",
       "    <tr>\n",
       "      <th>134</th>\n",
       "      <td>160129</td>\n",
       "      <td>ESA</td>\n",
       "      <td>4º CGCFEx</td>\n",
       "      <td>4ª RM</td>\n",
       "      <td>CML</td>\n",
       "      <td>Três Corações</td>\n",
       "      <td>MG</td>\n",
       "      <td>6112</td>\n",
       "      <td>212O</td>\n",
       "      <td>MOVIMENTACAO DE MILITARES</td>\n",
       "      <td>160505</td>\n",
       "      <td>DGP</td>\n",
       "      <td>232007</td>\n",
       "      <td>DGPREQTRNP3</td>\n",
       "      <td>DGPR</td>\n",
       "      <td>EQT</td>\n",
       "      <td>RNP3</td>\n",
       "      <td>MIS EXT REQS TRNP BAG INTER</td>\n",
       "      <td>339033</td>\n",
       "      <td>PASSAGENS E DESPESAS COM LOCOMOCAO</td>\n",
       "      <td>33903301</td>\n",
       "      <td>PASSAGENS PARA O PAIS</td>\n",
       "      <td>2025NE000015</td>\n",
       "      <td>2025</td>\n",
       "      <td>2025-01-29</td>\n",
       "      <td>160129000012025NE000015</td>\n",
       "      <td>21331404000138</td>\n",
       "      <td>ORLEANS VIAGENS E TURISMO LTDA</td>\n",
       "      <td>SP</td>\n",
       "      <td>ANO</td>\n",
       "      <td>26</td>\n",
       "      <td>MG</td>\n",
       "      <td>1000000000</td>\n",
       "      <td>PREGAO</td>\n",
       "      <td>GLOBAL</td>\n",
       "      <td>1</td>\n",
       "      <td>PRIMARIO OBRIGATORIO</td>\n",
       "      <td>A</td>\n",
       "      <td>INICIAL (LOA)</td>\n",
       "      <td>0000</td>\n",
       "      <td>000000000000</td>\n",
       "      <td>SEM EMENDA</td>\n",
       "      <td>ESA</td>\n",
       "      <td>COMANDO DO EXERCITO</td>\n",
       "      <td>52121</td>\n",
       "      <td>350.39</td>\n",
       "      <td>17.6</td>\n",
       "      <td>367.99</td>\n",
       "      <td>232.01</td>\n",
       "    </tr>\n",
       "    <tr>\n",
       "      <th>135</th>\n",
       "      <td>160129</td>\n",
       "      <td>ESA</td>\n",
       "      <td>4º CGCFEx</td>\n",
       "      <td>4ª RM</td>\n",
       "      <td>CML</td>\n",
       "      <td>Três Corações</td>\n",
       "      <td>MG</td>\n",
       "      <td>6112</td>\n",
       "      <td>212O</td>\n",
       "      <td>MOVIMENTACAO DE MILITARES</td>\n",
       "      <td>160505</td>\n",
       "      <td>DGP</td>\n",
       "      <td>232007</td>\n",
       "      <td>DGPREQTRNP3</td>\n",
       "      <td>DGPR</td>\n",
       "      <td>EQT</td>\n",
       "      <td>RNP3</td>\n",
       "      <td>MIS EXT REQS TRNP BAG INTER</td>\n",
       "      <td>339033</td>\n",
       "      <td>PASSAGENS E DESPESAS COM LOCOMOCAO</td>\n",
       "      <td>33903301</td>\n",
       "      <td>PASSAGENS PARA O PAIS</td>\n",
       "      <td>2025NE000022</td>\n",
       "      <td>2025</td>\n",
       "      <td>2025-02-04</td>\n",
       "      <td>160129000012025NE000022</td>\n",
       "      <td>21331404000138</td>\n",
       "      <td>ORLEANS VIAGENS E TURISMO LTDA</td>\n",
       "      <td>SP</td>\n",
       "      <td>ANO</td>\n",
       "      <td>20</td>\n",
       "      <td>MG</td>\n",
       "      <td>1000000000</td>\n",
       "      <td>PREGAO</td>\n",
       "      <td>GLOBAL</td>\n",
       "      <td>1</td>\n",
       "      <td>PRIMARIO OBRIGATORIO</td>\n",
       "      <td>A</td>\n",
       "      <td>INICIAL (LOA)</td>\n",
       "      <td>0000</td>\n",
       "      <td>000000000000</td>\n",
       "      <td>SEM EMENDA</td>\n",
       "      <td>ESA</td>\n",
       "      <td>COMANDO DO EXERCITO</td>\n",
       "      <td>52121</td>\n",
       "      <td>1851.69</td>\n",
       "      <td>0.0</td>\n",
       "      <td>1851.69</td>\n",
       "      <td>0.00</td>\n",
       "    </tr>\n",
       "    <tr>\n",
       "      <th>138</th>\n",
       "      <td>160129</td>\n",
       "      <td>ESA</td>\n",
       "      <td>4º CGCFEx</td>\n",
       "      <td>4ª RM</td>\n",
       "      <td>CML</td>\n",
       "      <td>Três Corações</td>\n",
       "      <td>MG</td>\n",
       "      <td>6112</td>\n",
       "      <td>212O</td>\n",
       "      <td>MOVIMENTACAO DE MILITARES</td>\n",
       "      <td>160505</td>\n",
       "      <td>DGP</td>\n",
       "      <td>232007</td>\n",
       "      <td>DGPREQTRNP3</td>\n",
       "      <td>DGPR</td>\n",
       "      <td>EQT</td>\n",
       "      <td>RNP3</td>\n",
       "      <td>MIS EXT REQS TRNP BAG INTER</td>\n",
       "      <td>339033</td>\n",
       "      <td>PASSAGENS E DESPESAS COM LOCOMOCAO</td>\n",
       "      <td>33903302</td>\n",
       "      <td>PASSAGENS PARA O EXTERIOR</td>\n",
       "      <td>2025NE000088</td>\n",
       "      <td>2025</td>\n",
       "      <td>2025-02-21</td>\n",
       "      <td>160129000012025NE000088</td>\n",
       "      <td>14807420000199</td>\n",
       "      <td>FACTO TURISMO  LTDA</td>\n",
       "      <td>SP</td>\n",
       "      <td>ANO</td>\n",
       "      <td>3</td>\n",
       "      <td>MG</td>\n",
       "      <td>1000000000</td>\n",
       "      <td>PREGAO</td>\n",
       "      <td>GLOBAL</td>\n",
       "      <td>1</td>\n",
       "      <td>PRIMARIO OBRIGATORIO</td>\n",
       "      <td>A</td>\n",
       "      <td>INICIAL (LOA)</td>\n",
       "      <td>0000</td>\n",
       "      <td>000000000000</td>\n",
       "      <td>SEM EMENDA</td>\n",
       "      <td>ESA</td>\n",
       "      <td>COMANDO DO EXERCITO</td>\n",
       "      <td>52121</td>\n",
       "      <td>10399.33</td>\n",
       "      <td>0.0</td>\n",
       "      <td>10399.33</td>\n",
       "      <td>0.00</td>\n",
       "    </tr>\n",
       "  </tbody>\n",
       "</table>\n",
       "</div>"
      ],
      "text/plain": [
       "         UG SIGLA     CGCFEX     RM COMANDO         CIDADE  UF PROGRAMA  AÇÃO  \\\n",
       "65   160129   ESA  4º CGCFEx  4ª RM     CML  Três Corações  MG     6112  212O   \n",
       "66   160129   ESA  4º CGCFEx  4ª RM     CML  Três Corações  MG     6112  212O   \n",
       "67   160129   ESA  4º CGCFEx  4ª RM     CML  Três Corações  MG     6112  212O   \n",
       "69   160129   ESA  4º CGCFEx  4ª RM     CML  Três Corações  MG     6112  212O   \n",
       "70   160129   ESA  4º CGCFEx  4ª RM     CML  Três Corações  MG     6112  212O   \n",
       "71   160129   ESA  4º CGCFEx  4ª RM     CML  Três Corações  MG     6112  212O   \n",
       "72   160129   ESA  4º CGCFEx  4ª RM     CML  Três Corações  MG     6112  212O   \n",
       "73   160129   ESA  4º CGCFEx  4ª RM     CML  Três Corações  MG     6112  212O   \n",
       "74   160129   ESA  4º CGCFEx  4ª RM     CML  Três Corações  MG     6112  212O   \n",
       "76   160129   ESA  4º CGCFEx  4ª RM     CML  Três Corações  MG     6112  212O   \n",
       "77   160129   ESA  4º CGCFEx  4ª RM     CML  Três Corações  MG     6112  212O   \n",
       "78   160129   ESA  4º CGCFEx  4ª RM     CML  Três Corações  MG     6112  212O   \n",
       "79   160129   ESA  4º CGCFEx  4ª RM     CML  Três Corações  MG     6112  212O   \n",
       "80   160129   ESA  4º CGCFEx  4ª RM     CML  Três Corações  MG     6112  212O   \n",
       "81   160129   ESA  4º CGCFEx  4ª RM     CML  Três Corações  MG     6112  212O   \n",
       "82   160129   ESA  4º CGCFEx  4ª RM     CML  Três Corações  MG     6112  212O   \n",
       "83   160129   ESA  4º CGCFEx  4ª RM     CML  Três Corações  MG     6112  212O   \n",
       "84   160129   ESA  4º CGCFEx  4ª RM     CML  Três Corações  MG     6112  212O   \n",
       "86   160129   ESA  4º CGCFEx  4ª RM     CML  Três Corações  MG     6112  212O   \n",
       "88   160129   ESA  4º CGCFEx  4ª RM     CML  Três Corações  MG     6112  212O   \n",
       "89   160129   ESA  4º CGCFEx  4ª RM     CML  Três Corações  MG     6112  212O   \n",
       "90   160129   ESA  4º CGCFEx  4ª RM     CML  Três Corações  MG     6112  212O   \n",
       "91   160129   ESA  4º CGCFEx  4ª RM     CML  Três Corações  MG     6112  212O   \n",
       "92   160129   ESA  4º CGCFEx  4ª RM     CML  Três Corações  MG     6112  212O   \n",
       "93   160129   ESA  4º CGCFEx  4ª RM     CML  Três Corações  MG     6112  212O   \n",
       "94   160129   ESA  4º CGCFEx  4ª RM     CML  Três Corações  MG     6112  212O   \n",
       "95   160129   ESA  4º CGCFEx  4ª RM     CML  Três Corações  MG     6112  212O   \n",
       "96   160129   ESA  4º CGCFEx  4ª RM     CML  Três Corações  MG     6112  212O   \n",
       "97   160129   ESA  4º CGCFEx  4ª RM     CML  Três Corações  MG     6112  212O   \n",
       "98   160129   ESA  4º CGCFEx  4ª RM     CML  Três Corações  MG     6112  212O   \n",
       "99   160129   ESA  4º CGCFEx  4ª RM     CML  Três Corações  MG     6112  212O   \n",
       "100  160129   ESA  4º CGCFEx  4ª RM     CML  Três Corações  MG     6112  212O   \n",
       "101  160129   ESA  4º CGCFEx  4ª RM     CML  Três Corações  MG     6112  212O   \n",
       "121  160129   ESA  4º CGCFEx  4ª RM     CML  Três Corações  MG     6112  212O   \n",
       "122  160129   ESA  4º CGCFEx  4ª RM     CML  Três Corações  MG     6112  212O   \n",
       "123  160129   ESA  4º CGCFEx  4ª RM     CML  Três Corações  MG     6112  212O   \n",
       "124  160129   ESA  4º CGCFEx  4ª RM     CML  Três Corações  MG     6112  212O   \n",
       "126  160129   ESA  4º CGCFEx  4ª RM     CML  Três Corações  MG     6112  212O   \n",
       "127  160129   ESA  4º CGCFEx  4ª RM     CML  Três Corações  MG     6112  212O   \n",
       "128  160129   ESA  4º CGCFEx  4ª RM     CML  Três Corações  MG     6112  212O   \n",
       "129  160129   ESA  4º CGCFEx  4ª RM     CML  Três Corações  MG     6112  212O   \n",
       "130  160129   ESA  4º CGCFEx  4ª RM     CML  Três Corações  MG     6112  212O   \n",
       "133  160129   ESA  4º CGCFEx  4ª RM     CML  Três Corações  MG     6112  212O   \n",
       "134  160129   ESA  4º CGCFEx  4ª RM     CML  Três Corações  MG     6112  212O   \n",
       "135  160129   ESA  4º CGCFEx  4ª RM     CML  Três Corações  MG     6112  212O   \n",
       "138  160129   ESA  4º CGCFEx  4ª RM     CML  Três Corações  MG     6112  212O   \n",
       "\n",
       "                     NOME_ACAO     UGR NOME_UGR   PTRES           PI  \\\n",
       "65   MOVIMENTACAO DE MILITARES  160505      DGP  232007  D1PEINDCL4T   \n",
       "66   MOVIMENTACAO DE MILITARES  160505      DGP  232007  D1PEINDCL4T   \n",
       "67   MOVIMENTACAO DE MILITARES  160505      DGP  232007  D1PEINDCL4T   \n",
       "69   MOVIMENTACAO DE MILITARES  160505      DGP  232007  D6DAATSLOCO   \n",
       "70   MOVIMENTACAO DE MILITARES  160505      DGP  232007  D6DAATSLOCO   \n",
       "71   MOVIMENTACAO DE MILITARES  160505      DGP  232007  D6DAATSLOCO   \n",
       "72   MOVIMENTACAO DE MILITARES  160505      DGP  232007  D6DAATSLOCO   \n",
       "73   MOVIMENTACAO DE MILITARES  160505      DGP  232007  D6DAATSLOCO   \n",
       "74   MOVIMENTACAO DE MILITARES  160505      DGP  232007  D6DAATSLOCO   \n",
       "76   MOVIMENTACAO DE MILITARES  160505      DGP  232007  D6DAATSLOCO   \n",
       "77   MOVIMENTACAO DE MILITARES  160505      DGP  232007  D6DAATSLOCO   \n",
       "78   MOVIMENTACAO DE MILITARES  160505      DGP  232007  D6DAATSLOCO   \n",
       "79   MOVIMENTACAO DE MILITARES  160505      DGP  232007  D6DAATSLOCO   \n",
       "80   MOVIMENTACAO DE MILITARES  160505      DGP  232007  D6DAATSLOCO   \n",
       "81   MOVIMENTACAO DE MILITARES  160505      DGP  232007  D6DAATSLOCO   \n",
       "82   MOVIMENTACAO DE MILITARES  160505      DGP  232007  D6DAATSLOCO   \n",
       "83   MOVIMENTACAO DE MILITARES  160505      DGP  232007  D6DAATSLOCO   \n",
       "84   MOVIMENTACAO DE MILITARES  160505      DGP  232007  D6DAATSLOCO   \n",
       "86   MOVIMENTACAO DE MILITARES  160505      DGP  232007  D6DAATSLOCO   \n",
       "88   MOVIMENTACAO DE MILITARES  160505      DGP  232007  D6DAATSLOCO   \n",
       "89   MOVIMENTACAO DE MILITARES  160505      DGP  232007  D6DAATSLOCO   \n",
       "90   MOVIMENTACAO DE MILITARES  160505      DGP  232007  D6DAATSLOCO   \n",
       "91   MOVIMENTACAO DE MILITARES  160505      DGP  232007  D6DAATSLOCO   \n",
       "92   MOVIMENTACAO DE MILITARES  160505      DGP  232007  D6DAATSLOCO   \n",
       "93   MOVIMENTACAO DE MILITARES  160505      DGP  232007  D6DAATSLOCO   \n",
       "94   MOVIMENTACAO DE MILITARES  160505      DGP  232007  D6DAATSLOCO   \n",
       "95   MOVIMENTACAO DE MILITARES  160505      DGP  232007  D6DAATSLOCO   \n",
       "96   MOVIMENTACAO DE MILITARES  160505      DGP  232007  D6DAATSLOCO   \n",
       "97   MOVIMENTACAO DE MILITARES  160505      DGP  232007  D6DAATSLOCO   \n",
       "98   MOVIMENTACAO DE MILITARES  160505      DGP  232007  D6DAATSLOCO   \n",
       "99   MOVIMENTACAO DE MILITARES  160505      DGP  232007  D6DAATSLOCO   \n",
       "100  MOVIMENTACAO DE MILITARES  160505      DGP  232007  D6DAATSLOCO   \n",
       "101  MOVIMENTACAO DE MILITARES  160505      DGP  232007  D6DAATSLOCO   \n",
       "121  MOVIMENTACAO DE MILITARES  160505      DGP  232007  D6PEINDMV1T   \n",
       "122  MOVIMENTACAO DE MILITARES  160505      DGP  232007  D6PEINDMV1T   \n",
       "123  MOVIMENTACAO DE MILITARES  160505      DGP  232007  D6PEINDMV1T   \n",
       "124  MOVIMENTACAO DE MILITARES  160505      DGP  232007  D6PEINDMV1T   \n",
       "126  MOVIMENTACAO DE MILITARES  160505      DGP  232007  D6PEINDMV1T   \n",
       "127  MOVIMENTACAO DE MILITARES  160505      DGP  232007  D6PEINDMV1T   \n",
       "128  MOVIMENTACAO DE MILITARES  160505      DGP  232007  D6PEINDMV1T   \n",
       "129  MOVIMENTACAO DE MILITARES  160505      DGP  232007  D6PEINDMV1T   \n",
       "130  MOVIMENTACAO DE MILITARES  160505      DGP  232007  D6PEINDMV1T   \n",
       "133  MOVIMENTACAO DE MILITARES  160505      DGP  232007  DGPREQTRNP3   \n",
       "134  MOVIMENTACAO DE MILITARES  160505      DGP  232007  DGPREQTRNP3   \n",
       "135  MOVIMENTACAO DE MILITARES  160505      DGP  232007  DGPREQTRNP3   \n",
       "138  MOVIMENTACAO DE MILITARES  160505      DGP  232007  DGPREQTRNP3   \n",
       "\n",
       "    RADICAL_4_PI MEIO_3_PI SUFIXO_4_PI                      NOME_PI      ND  \\\n",
       "65          D1PE       IND        CL4T           IND - INDENIZACOES  339093   \n",
       "66          D1PE       IND        CL4T           IND - INDENIZACOES  339093   \n",
       "67          D1PE       IND        CL4T           IND - INDENIZACOES  339093   \n",
       "69          D6DA       ATS        LOCO   ATS - ATIVIDADES SETORIAIS  339033   \n",
       "70          D6DA       ATS        LOCO   ATS - ATIVIDADES SETORIAIS  339033   \n",
       "71          D6DA       ATS        LOCO   ATS - ATIVIDADES SETORIAIS  339033   \n",
       "72          D6DA       ATS        LOCO   ATS - ATIVIDADES SETORIAIS  339033   \n",
       "73          D6DA       ATS        LOCO   ATS - ATIVIDADES SETORIAIS  339033   \n",
       "74          D6DA       ATS        LOCO   ATS - ATIVIDADES SETORIAIS  339033   \n",
       "76          D6DA       ATS        LOCO   ATS - ATIVIDADES SETORIAIS  339033   \n",
       "77          D6DA       ATS        LOCO   ATS - ATIVIDADES SETORIAIS  339033   \n",
       "78          D6DA       ATS        LOCO   ATS - ATIVIDADES SETORIAIS  339033   \n",
       "79          D6DA       ATS        LOCO   ATS - ATIVIDADES SETORIAIS  339033   \n",
       "80          D6DA       ATS        LOCO   ATS - ATIVIDADES SETORIAIS  339033   \n",
       "81          D6DA       ATS        LOCO   ATS - ATIVIDADES SETORIAIS  339033   \n",
       "82          D6DA       ATS        LOCO   ATS - ATIVIDADES SETORIAIS  339033   \n",
       "83          D6DA       ATS        LOCO   ATS - ATIVIDADES SETORIAIS  339033   \n",
       "84          D6DA       ATS        LOCO   ATS - ATIVIDADES SETORIAIS  339033   \n",
       "86          D6DA       ATS        LOCO   ATS - ATIVIDADES SETORIAIS  339033   \n",
       "88          D6DA       ATS        LOCO   ATS - ATIVIDADES SETORIAIS  339033   \n",
       "89          D6DA       ATS        LOCO   ATS - ATIVIDADES SETORIAIS  339033   \n",
       "90          D6DA       ATS        LOCO   ATS - ATIVIDADES SETORIAIS  339033   \n",
       "91          D6DA       ATS        LOCO   ATS - ATIVIDADES SETORIAIS  339033   \n",
       "92          D6DA       ATS        LOCO   ATS - ATIVIDADES SETORIAIS  339033   \n",
       "93          D6DA       ATS        LOCO   ATS - ATIVIDADES SETORIAIS  339033   \n",
       "94          D6DA       ATS        LOCO   ATS - ATIVIDADES SETORIAIS  339033   \n",
       "95          D6DA       ATS        LOCO   ATS - ATIVIDADES SETORIAIS  339033   \n",
       "96          D6DA       ATS        LOCO   ATS - ATIVIDADES SETORIAIS  339033   \n",
       "97          D6DA       ATS        LOCO   ATS - ATIVIDADES SETORIAIS  339033   \n",
       "98          D6DA       ATS        LOCO   ATS - ATIVIDADES SETORIAIS  339033   \n",
       "99          D6DA       ATS        LOCO   ATS - ATIVIDADES SETORIAIS  339033   \n",
       "100         D6DA       ATS        LOCO   ATS - ATIVIDADES SETORIAIS  339033   \n",
       "101         D6DA       ATS        LOCO   ATS - ATIVIDADES SETORIAIS  339033   \n",
       "121         D6PE       IND        MV1T           IND - INDENIZACOES  339093   \n",
       "122         D6PE       IND        MV1T           IND - INDENIZACOES  339093   \n",
       "123         D6PE       IND        MV1T           IND - INDENIZACOES  339093   \n",
       "124         D6PE       IND        MV1T           IND - INDENIZACOES  339093   \n",
       "126         D6PE       IND        MV1T           IND - INDENIZACOES  339093   \n",
       "127         D6PE       IND        MV1T           IND - INDENIZACOES  339093   \n",
       "128         D6PE       IND        MV1T           IND - INDENIZACOES  339093   \n",
       "129         D6PE       IND        MV1T           IND - INDENIZACOES  339093   \n",
       "130         D6PE       IND        MV1T           IND - INDENIZACOES  339093   \n",
       "133         DGPR       EQT        RNP3  MIS EXT REQS TRNP BAG INTER  339033   \n",
       "134         DGPR       EQT        RNP3  MIS EXT REQS TRNP BAG INTER  339033   \n",
       "135         DGPR       EQT        RNP3  MIS EXT REQS TRNP BAG INTER  339033   \n",
       "138         DGPR       EQT        RNP3  MIS EXT REQS TRNP BAG INTER  339033   \n",
       "\n",
       "                                NOME_ND      NDSI  \\\n",
       "65          INDENIZACOES E RESTITUICOES  33909319   \n",
       "66          INDENIZACOES E RESTITUICOES  33909319   \n",
       "67          INDENIZACOES E RESTITUICOES  33909319   \n",
       "69   PASSAGENS E DESPESAS COM LOCOMOCAO  33903304   \n",
       "70   PASSAGENS E DESPESAS COM LOCOMOCAO  33903304   \n",
       "71   PASSAGENS E DESPESAS COM LOCOMOCAO  33903304   \n",
       "72   PASSAGENS E DESPESAS COM LOCOMOCAO  33903304   \n",
       "73   PASSAGENS E DESPESAS COM LOCOMOCAO  33903304   \n",
       "74   PASSAGENS E DESPESAS COM LOCOMOCAO  33903304   \n",
       "76   PASSAGENS E DESPESAS COM LOCOMOCAO  33903304   \n",
       "77   PASSAGENS E DESPESAS COM LOCOMOCAO  33903304   \n",
       "78   PASSAGENS E DESPESAS COM LOCOMOCAO  33903304   \n",
       "79   PASSAGENS E DESPESAS COM LOCOMOCAO  33903304   \n",
       "80   PASSAGENS E DESPESAS COM LOCOMOCAO  33903304   \n",
       "81   PASSAGENS E DESPESAS COM LOCOMOCAO  33903304   \n",
       "82   PASSAGENS E DESPESAS COM LOCOMOCAO  33903304   \n",
       "83   PASSAGENS E DESPESAS COM LOCOMOCAO  33903304   \n",
       "84   PASSAGENS E DESPESAS COM LOCOMOCAO  33903304   \n",
       "86   PASSAGENS E DESPESAS COM LOCOMOCAO  33903304   \n",
       "88   PASSAGENS E DESPESAS COM LOCOMOCAO  33903304   \n",
       "89   PASSAGENS E DESPESAS COM LOCOMOCAO  33903304   \n",
       "90   PASSAGENS E DESPESAS COM LOCOMOCAO  33903304   \n",
       "91   PASSAGENS E DESPESAS COM LOCOMOCAO  33903304   \n",
       "92   PASSAGENS E DESPESAS COM LOCOMOCAO  33903304   \n",
       "93   PASSAGENS E DESPESAS COM LOCOMOCAO  33903304   \n",
       "94   PASSAGENS E DESPESAS COM LOCOMOCAO  33903304   \n",
       "95   PASSAGENS E DESPESAS COM LOCOMOCAO  33903304   \n",
       "96   PASSAGENS E DESPESAS COM LOCOMOCAO  33903304   \n",
       "97   PASSAGENS E DESPESAS COM LOCOMOCAO  33903304   \n",
       "98   PASSAGENS E DESPESAS COM LOCOMOCAO  33903304   \n",
       "99   PASSAGENS E DESPESAS COM LOCOMOCAO  33903304   \n",
       "100  PASSAGENS E DESPESAS COM LOCOMOCAO  33903304   \n",
       "101  PASSAGENS E DESPESAS COM LOCOMOCAO  33903304   \n",
       "121         INDENIZACOES E RESTITUICOES  33909319   \n",
       "122         INDENIZACOES E RESTITUICOES  33909319   \n",
       "123         INDENIZACOES E RESTITUICOES  33909319   \n",
       "124         INDENIZACOES E RESTITUICOES  33909319   \n",
       "126         INDENIZACOES E RESTITUICOES  33909319   \n",
       "127         INDENIZACOES E RESTITUICOES  33909319   \n",
       "128         INDENIZACOES E RESTITUICOES  33909319   \n",
       "129         INDENIZACOES E RESTITUICOES  33909319   \n",
       "130         INDENIZACOES E RESTITUICOES  33909319   \n",
       "133  PASSAGENS E DESPESAS COM LOCOMOCAO  33903301   \n",
       "134  PASSAGENS E DESPESAS COM LOCOMOCAO  33903301   \n",
       "135  PASSAGENS E DESPESAS COM LOCOMOCAO  33903301   \n",
       "138  PASSAGENS E DESPESAS COM LOCOMOCAO  33903302   \n",
       "\n",
       "                                       NOME_NDSI            NE   ANO  \\\n",
       "65   INDENIZACAO DE TRANSPORTE - PESSOAL MILITAR  2025NE000080  2025   \n",
       "66   INDENIZACAO DE TRANSPORTE - PESSOAL MILITAR  2025NE000081  2025   \n",
       "67   INDENIZACAO DE TRANSPORTE - PESSOAL MILITAR  2025NE000082  2025   \n",
       "69                 MUDANCAS EM OBJETO DE SERVICO  2024NE000717  2024   \n",
       "70                 MUDANCAS EM OBJETO DE SERVICO  2024NE000718  2024   \n",
       "71                 MUDANCAS EM OBJETO DE SERVICO  2024NE000719  2024   \n",
       "72                 MUDANCAS EM OBJETO DE SERVICO  2024NE000742  2024   \n",
       "73                 MUDANCAS EM OBJETO DE SERVICO  2024NE000842  2024   \n",
       "74                 MUDANCAS EM OBJETO DE SERVICO  2024NE000843  2024   \n",
       "76                 MUDANCAS EM OBJETO DE SERVICO  2024NE000911  2024   \n",
       "77                 MUDANCAS EM OBJETO DE SERVICO  2024NE000946  2024   \n",
       "78                 MUDANCAS EM OBJETO DE SERVICO  2024NE000947  2024   \n",
       "79                 MUDANCAS EM OBJETO DE SERVICO  2024NE000950  2024   \n",
       "80                 MUDANCAS EM OBJETO DE SERVICO  2024NE000984  2024   \n",
       "81                 MUDANCAS EM OBJETO DE SERVICO  2024NE000985  2024   \n",
       "82                 MUDANCAS EM OBJETO DE SERVICO  2024NE001035  2024   \n",
       "83                 MUDANCAS EM OBJETO DE SERVICO  2024NE001037  2024   \n",
       "84                 MUDANCAS EM OBJETO DE SERVICO  2024NE001105  2024   \n",
       "86                 MUDANCAS EM OBJETO DE SERVICO  2024NE001122  2024   \n",
       "88                 MUDANCAS EM OBJETO DE SERVICO  2024NE001158  2024   \n",
       "89                 MUDANCAS EM OBJETO DE SERVICO  2024NE001166  2024   \n",
       "90                 MUDANCAS EM OBJETO DE SERVICO  2024NE001175  2024   \n",
       "91                 MUDANCAS EM OBJETO DE SERVICO  2024NE001176  2024   \n",
       "92                 MUDANCAS EM OBJETO DE SERVICO  2024NE001195  2024   \n",
       "93                 MUDANCAS EM OBJETO DE SERVICO  2024NE001227  2024   \n",
       "94                 MUDANCAS EM OBJETO DE SERVICO  2024NE001232  2024   \n",
       "95                 MUDANCAS EM OBJETO DE SERVICO  2024NE001252  2024   \n",
       "96                 MUDANCAS EM OBJETO DE SERVICO  2024NE001555  2024   \n",
       "97                 MUDANCAS EM OBJETO DE SERVICO  2024NE001558  2024   \n",
       "98                 MUDANCAS EM OBJETO DE SERVICO  2024NE001559  2024   \n",
       "99                 MUDANCAS EM OBJETO DE SERVICO  2024NE001943  2024   \n",
       "100                MUDANCAS EM OBJETO DE SERVICO  2024NE001944  2024   \n",
       "101                MUDANCAS EM OBJETO DE SERVICO  2024NE002345  2024   \n",
       "121  INDENIZACAO DE TRANSPORTE - PESSOAL MILITAR  2025NE000066  2025   \n",
       "122  INDENIZACAO DE TRANSPORTE - PESSOAL MILITAR  2025NE000067  2025   \n",
       "123  INDENIZACAO DE TRANSPORTE - PESSOAL MILITAR  2025NE000068  2025   \n",
       "124  INDENIZACAO DE TRANSPORTE - PESSOAL MILITAR  2025NE000069  2025   \n",
       "126  INDENIZACAO DE TRANSPORTE - PESSOAL MILITAR  2025NE000083  2025   \n",
       "127  INDENIZACAO DE TRANSPORTE - PESSOAL MILITAR  2025NE000084  2025   \n",
       "128  INDENIZACAO DE TRANSPORTE - PESSOAL MILITAR  2025NE000085  2025   \n",
       "129  INDENIZACAO DE TRANSPORTE - PESSOAL MILITAR  2025NE000086  2025   \n",
       "130  INDENIZACAO DE TRANSPORTE - PESSOAL MILITAR  2025NE000087  2025   \n",
       "133                        PASSAGENS PARA O PAIS  2024NE001256  2024   \n",
       "134                        PASSAGENS PARA O PAIS  2025NE000015  2025   \n",
       "135                        PASSAGENS PARA O PAIS  2025NE000022  2025   \n",
       "138                    PASSAGENS PARA O EXTERIOR  2025NE000088  2025   \n",
       "\n",
       "          DATA                    CHAVE             FAV  \\\n",
       "65  2025-02-21  160129000012025NE000080     70797366334   \n",
       "66  2025-02-21  160129000012025NE000081     08528728609   \n",
       "67  2025-02-21  160129000012025NE000082     01368832652   \n",
       "69  2024-06-20  160129000012024NE000717  39644514000115   \n",
       "70  2024-06-20  160129000012024NE000718  39644514000115   \n",
       "71  2024-06-20  160129000012024NE000719  39644514000115   \n",
       "72  2024-06-25  160129000012024NE000742  39644514000115   \n",
       "73  2024-07-14  160129000012024NE000842  39644514000115   \n",
       "74  2024-07-15  160129000012024NE000843  39644514000115   \n",
       "76  2024-08-02  160129000012024NE000911  39644514000115   \n",
       "77  2024-08-15  160129000012024NE000946  39644514000115   \n",
       "78  2024-08-15  160129000012024NE000947  39644514000115   \n",
       "79  2024-08-15  160129000012024NE000950  39644514000115   \n",
       "80  2024-08-26  160129000012024NE000984  39644514000115   \n",
       "81  2024-08-26  160129000012024NE000985  39644514000115   \n",
       "82  2024-09-11  160129000012024NE001035  39644514000115   \n",
       "83  2024-09-12  160129000012024NE001037  39644514000115   \n",
       "84  2024-09-24  160129000012024NE001105  39644514000115   \n",
       "86  2024-09-27  160129000012024NE001122  39644514000115   \n",
       "88  2024-10-03  160129000012024NE001158  39644514000115   \n",
       "89  2024-10-04  160129000012024NE001166  39644514000115   \n",
       "90  2024-10-07  160129000012024NE001175  39644514000115   \n",
       "91  2024-10-07  160129000012024NE001176  39644514000115   \n",
       "92  2024-10-09  160129000012024NE001195  39644514000115   \n",
       "93  2024-10-14  160129000012024NE001227  39644514000115   \n",
       "94  2024-10-18  160129000012024NE001232  39644514000115   \n",
       "95  2024-10-22  160129000012024NE001252  39644514000115   \n",
       "96  2024-11-05  160129000012024NE001555  39644514000115   \n",
       "97  2024-11-05  160129000012024NE001558  39644514000115   \n",
       "98  2024-11-05  160129000012024NE001559  39644514000115   \n",
       "99  2024-11-12  160129000012024NE001943  39644514000115   \n",
       "100 2024-11-12  160129000012024NE001944  39644514000115   \n",
       "101 2024-11-25  160129000012024NE002345  39644514000115   \n",
       "121 2025-02-19  160129000012025NE000066     03758231078   \n",
       "122 2025-02-19  160129000012025NE000067     03720621219   \n",
       "123 2025-02-19  160129000012025NE000068     01731967640   \n",
       "124 2025-02-19  160129000012025NE000069     23644698805   \n",
       "126 2025-02-21  160129000012025NE000083     00301438021   \n",
       "127 2025-02-21  160129000012025NE000084     10175548706   \n",
       "128 2025-02-21  160129000012025NE000085     07527824794   \n",
       "129 2025-02-21  160129000012025NE000086     07710174647   \n",
       "130 2025-02-21  160129000012025NE000087     04011485640   \n",
       "133 2024-10-23  160129000012024NE001256  21331404000138   \n",
       "134 2025-01-29  160129000012025NE000015  21331404000138   \n",
       "135 2025-02-04  160129000012025NE000022  21331404000138   \n",
       "138 2025-02-21  160129000012025NE000088  14807420000199   \n",
       "\n",
       "                                           NOME_CREDOR UF_FAV  TIPO  DIAS  \\\n",
       "65                           MARGOLLIN MORAIS DA SILVA     MG   ANO     3   \n",
       "66                      HUDSON MARCOS PACHECO DE SOUZA     SP   ANO     3   \n",
       "67                        CASSIO DE FREITAS NASCIMENTO     MG   ANO     3   \n",
       "69   MULTI PRIME MUDANCAS E TRANSPORTES ESPECIAIS LTDA     GO  RPNP   249   \n",
       "70   MULTI PRIME MUDANCAS E TRANSPORTES ESPECIAIS LTDA     GO  RPNP   249   \n",
       "71   MULTI PRIME MUDANCAS E TRANSPORTES ESPECIAIS LTDA     GO  RPNP   249   \n",
       "72   MULTI PRIME MUDANCAS E TRANSPORTES ESPECIAIS LTDA     GO  RPNP   244   \n",
       "73   MULTI PRIME MUDANCAS E TRANSPORTES ESPECIAIS LTDA     GO  RPNP   225   \n",
       "74   MULTI PRIME MUDANCAS E TRANSPORTES ESPECIAIS LTDA     GO  RPNP   224   \n",
       "76   MULTI PRIME MUDANCAS E TRANSPORTES ESPECIAIS LTDA     GO  RPNP   206   \n",
       "77   MULTI PRIME MUDANCAS E TRANSPORTES ESPECIAIS LTDA     GO  RPNP   193   \n",
       "78   MULTI PRIME MUDANCAS E TRANSPORTES ESPECIAIS LTDA     GO  RPNP   193   \n",
       "79   MULTI PRIME MUDANCAS E TRANSPORTES ESPECIAIS LTDA     GO  RPNP   193   \n",
       "80   MULTI PRIME MUDANCAS E TRANSPORTES ESPECIAIS LTDA     GO  RPNP   182   \n",
       "81   MULTI PRIME MUDANCAS E TRANSPORTES ESPECIAIS LTDA     GO  RPNP   182   \n",
       "82   MULTI PRIME MUDANCAS E TRANSPORTES ESPECIAIS LTDA     GO  RPNP   166   \n",
       "83   MULTI PRIME MUDANCAS E TRANSPORTES ESPECIAIS LTDA     GO  RPNP   165   \n",
       "84   MULTI PRIME MUDANCAS E TRANSPORTES ESPECIAIS LTDA     GO  RPNP   153   \n",
       "86   MULTI PRIME MUDANCAS E TRANSPORTES ESPECIAIS LTDA     GO  RPNP   150   \n",
       "88   MULTI PRIME MUDANCAS E TRANSPORTES ESPECIAIS LTDA     GO  RPNP   144   \n",
       "89   MULTI PRIME MUDANCAS E TRANSPORTES ESPECIAIS LTDA     GO  RPNP   143   \n",
       "90   MULTI PRIME MUDANCAS E TRANSPORTES ESPECIAIS LTDA     GO  RPNP   140   \n",
       "91   MULTI PRIME MUDANCAS E TRANSPORTES ESPECIAIS LTDA     GO  RPNP   140   \n",
       "92   MULTI PRIME MUDANCAS E TRANSPORTES ESPECIAIS LTDA     GO  RPNP   138   \n",
       "93   MULTI PRIME MUDANCAS E TRANSPORTES ESPECIAIS LTDA     GO  RPNP   133   \n",
       "94   MULTI PRIME MUDANCAS E TRANSPORTES ESPECIAIS LTDA     GO  RPNP   129   \n",
       "95   MULTI PRIME MUDANCAS E TRANSPORTES ESPECIAIS LTDA     GO  RPNP   125   \n",
       "96   MULTI PRIME MUDANCAS E TRANSPORTES ESPECIAIS LTDA     GO  RPNP   111   \n",
       "97   MULTI PRIME MUDANCAS E TRANSPORTES ESPECIAIS LTDA     GO  RPNP   111   \n",
       "98   MULTI PRIME MUDANCAS E TRANSPORTES ESPECIAIS LTDA     GO  RPNP   111   \n",
       "99   MULTI PRIME MUDANCAS E TRANSPORTES ESPECIAIS LTDA     GO  RPNP   104   \n",
       "100  MULTI PRIME MUDANCAS E TRANSPORTES ESPECIAIS LTDA     GO  RPNP   104   \n",
       "101  MULTI PRIME MUDANCAS E TRANSPORTES ESPECIAIS LTDA     GO  RPNP    91   \n",
       "121                                EDUARDU KROTH LOPES     RS   ANO     5   \n",
       "122                         ENZO RITTER TEIXEIRA LEITE     RS   ANO     5   \n",
       "123                   JOAQUIM FELIPE RIBEIRO GUIMARAES     RN   ANO     5   \n",
       "124                              JOAO VITOR DOS SANTOS     SP   ANO     5   \n",
       "126                           ALESSANDRO ALVES GUAZINA     MG   ANO     3   \n",
       "127                                BRUNO MEDEIROS LEAL     PA   ANO     3   \n",
       "128                      RAFAEL TENORIO LOPES DE SOUZA     RJ   ANO     3   \n",
       "129                             JEFFERSON EDUARDO DIAS     GO   ANO     3   \n",
       "130                      FABRICIO SALES DA SILVA PINTO     MG   ANO     3   \n",
       "133                     ORLEANS VIAGENS E TURISMO LTDA     SP  RPNP   124   \n",
       "134                     ORLEANS VIAGENS E TURISMO LTDA     SP   ANO    26   \n",
       "135                     ORLEANS VIAGENS E TURISMO LTDA     SP   ANO    20   \n",
       "138                                FACTO TURISMO  LTDA     SP   ANO     3   \n",
       "\n",
       "    UF_UG       FONTE        MOD_LIC     TIPO_NE RP               NOME_RP  \\\n",
       "65     MG  1000000000  NAO SE APLICA   ORDINARIO  1  PRIMARIO OBRIGATORIO   \n",
       "66     MG  1000000000  NAO SE APLICA   ORDINARIO  1  PRIMARIO OBRIGATORIO   \n",
       "67     MG  1000000000  NAO SE APLICA   ORDINARIO  1  PRIMARIO OBRIGATORIO   \n",
       "69     MG  1000000000         PREGAO  ESTIMATIVO  1  PRIMARIO OBRIGATORIO   \n",
       "70     MG  1000000000         PREGAO  ESTIMATIVO  1  PRIMARIO OBRIGATORIO   \n",
       "71     MG  1000000000         PREGAO  ESTIMATIVO  1  PRIMARIO OBRIGATORIO   \n",
       "72     MG  1000000000         PREGAO  ESTIMATIVO  1  PRIMARIO OBRIGATORIO   \n",
       "73     MG  1000000000         PREGAO  ESTIMATIVO  1  PRIMARIO OBRIGATORIO   \n",
       "74     MG  1000000000         PREGAO  ESTIMATIVO  1  PRIMARIO OBRIGATORIO   \n",
       "76     MG  1000000000         PREGAO  ESTIMATIVO  1  PRIMARIO OBRIGATORIO   \n",
       "77     MG  1000000000         PREGAO  ESTIMATIVO  1  PRIMARIO OBRIGATORIO   \n",
       "78     MG  1000000000         PREGAO  ESTIMATIVO  1  PRIMARIO OBRIGATORIO   \n",
       "79     MG  1000000000         PREGAO  ESTIMATIVO  1  PRIMARIO OBRIGATORIO   \n",
       "80     MG  1000000000         PREGAO  ESTIMATIVO  1  PRIMARIO OBRIGATORIO   \n",
       "81     MG  1000000000         PREGAO  ESTIMATIVO  1  PRIMARIO OBRIGATORIO   \n",
       "82     MG  1000000000         PREGAO  ESTIMATIVO  1  PRIMARIO OBRIGATORIO   \n",
       "83     MG  1000000000         PREGAO  ESTIMATIVO  1  PRIMARIO OBRIGATORIO   \n",
       "84     MG  1000000000         PREGAO  ESTIMATIVO  1  PRIMARIO OBRIGATORIO   \n",
       "86     MG  1000000000         PREGAO  ESTIMATIVO  1  PRIMARIO OBRIGATORIO   \n",
       "88     MG  1000000000         PREGAO  ESTIMATIVO  1  PRIMARIO OBRIGATORIO   \n",
       "89     MG  1000000000         PREGAO  ESTIMATIVO  1  PRIMARIO OBRIGATORIO   \n",
       "90     MG  1000000000         PREGAO  ESTIMATIVO  1  PRIMARIO OBRIGATORIO   \n",
       "91     MG  1000000000         PREGAO  ESTIMATIVO  1  PRIMARIO OBRIGATORIO   \n",
       "92     MG  1000000000         PREGAO  ESTIMATIVO  1  PRIMARIO OBRIGATORIO   \n",
       "93     MG  1000000000         PREGAO  ESTIMATIVO  1  PRIMARIO OBRIGATORIO   \n",
       "94     MG  1000000000         PREGAO  ESTIMATIVO  1  PRIMARIO OBRIGATORIO   \n",
       "95     MG  1000000000         PREGAO  ESTIMATIVO  1  PRIMARIO OBRIGATORIO   \n",
       "96     MG  1000000000         PREGAO  ESTIMATIVO  1  PRIMARIO OBRIGATORIO   \n",
       "97     MG  1000000000         PREGAO  ESTIMATIVO  1  PRIMARIO OBRIGATORIO   \n",
       "98     MG  1000000000         PREGAO  ESTIMATIVO  1  PRIMARIO OBRIGATORIO   \n",
       "99     MG  1000000000         PREGAO  ESTIMATIVO  1  PRIMARIO OBRIGATORIO   \n",
       "100    MG  1000000000         PREGAO  ESTIMATIVO  1  PRIMARIO OBRIGATORIO   \n",
       "101    MG  1000000000         PREGAO  ESTIMATIVO  1  PRIMARIO OBRIGATORIO   \n",
       "121    MG  1000000000  NAO SE APLICA   ORDINARIO  1  PRIMARIO OBRIGATORIO   \n",
       "122    MG  1000000000  NAO SE APLICA   ORDINARIO  1  PRIMARIO OBRIGATORIO   \n",
       "123    MG  1000000000  NAO SE APLICA   ORDINARIO  1  PRIMARIO OBRIGATORIO   \n",
       "124    MG  1000000000  NAO SE APLICA   ORDINARIO  1  PRIMARIO OBRIGATORIO   \n",
       "126    MG  1000000000  NAO SE APLICA   ORDINARIO  1  PRIMARIO OBRIGATORIO   \n",
       "127    MG  1000000000  NAO SE APLICA   ORDINARIO  1  PRIMARIO OBRIGATORIO   \n",
       "128    MG  1000000000  NAO SE APLICA   ORDINARIO  1  PRIMARIO OBRIGATORIO   \n",
       "129    MG  1000000000  NAO SE APLICA   ORDINARIO  1  PRIMARIO OBRIGATORIO   \n",
       "130    MG  1000000000  NAO SE APLICA   ORDINARIO  1  PRIMARIO OBRIGATORIO   \n",
       "133    MG  1000000000         PREGAO      GLOBAL  1  PRIMARIO OBRIGATORIO   \n",
       "134    MG  1000000000         PREGAO      GLOBAL  1  PRIMARIO OBRIGATORIO   \n",
       "135    MG  1000000000         PREGAO      GLOBAL  1  PRIMARIO OBRIGATORIO   \n",
       "138    MG  1000000000         PREGAO      GLOBAL  1  PRIMARIO OBRIGATORIO   \n",
       "\n",
       "    TIPO_CREDITO NOME_TIPO_CREDITO    PO  AUTOR_EMENDA NOME_AUTOR_EMENDA  \\\n",
       "65             A     INICIAL (LOA)  0000  000000000000        SEM EMENDA   \n",
       "66             A     INICIAL (LOA)  0000  000000000000        SEM EMENDA   \n",
       "67             A     INICIAL (LOA)  0000  000000000000        SEM EMENDA   \n",
       "69             A     INICIAL (LOA)  0000  000000000000        SEM EMENDA   \n",
       "70             A     INICIAL (LOA)  0000  000000000000        SEM EMENDA   \n",
       "71             A     INICIAL (LOA)  0000  000000000000        SEM EMENDA   \n",
       "72             A     INICIAL (LOA)  0000  000000000000        SEM EMENDA   \n",
       "73             A     INICIAL (LOA)  0000  000000000000        SEM EMENDA   \n",
       "74             A     INICIAL (LOA)  0000  000000000000        SEM EMENDA   \n",
       "76             A     INICIAL (LOA)  0000  000000000000        SEM EMENDA   \n",
       "77             A     INICIAL (LOA)  0000  000000000000        SEM EMENDA   \n",
       "78             A     INICIAL (LOA)  0000  000000000000        SEM EMENDA   \n",
       "79             A     INICIAL (LOA)  0000  000000000000        SEM EMENDA   \n",
       "80             A     INICIAL (LOA)  0000  000000000000        SEM EMENDA   \n",
       "81             A     INICIAL (LOA)  0000  000000000000        SEM EMENDA   \n",
       "82             A     INICIAL (LOA)  0000  000000000000        SEM EMENDA   \n",
       "83             A     INICIAL (LOA)  0000  000000000000        SEM EMENDA   \n",
       "84             A     INICIAL (LOA)  0000  000000000000        SEM EMENDA   \n",
       "86             A     INICIAL (LOA)  0000  000000000000        SEM EMENDA   \n",
       "88             A     INICIAL (LOA)  0000  000000000000        SEM EMENDA   \n",
       "89             A     INICIAL (LOA)  0000  000000000000        SEM EMENDA   \n",
       "90             A     INICIAL (LOA)  0000  000000000000        SEM EMENDA   \n",
       "91             A     INICIAL (LOA)  0000  000000000000        SEM EMENDA   \n",
       "92             A     INICIAL (LOA)  0000  000000000000        SEM EMENDA   \n",
       "93             A     INICIAL (LOA)  0000  000000000000        SEM EMENDA   \n",
       "94             A     INICIAL (LOA)  0000  000000000000        SEM EMENDA   \n",
       "95             A     INICIAL (LOA)  0000  000000000000        SEM EMENDA   \n",
       "96             A     INICIAL (LOA)  0000  000000000000        SEM EMENDA   \n",
       "97             A     INICIAL (LOA)  0000  000000000000        SEM EMENDA   \n",
       "98             A     INICIAL (LOA)  0000  000000000000        SEM EMENDA   \n",
       "99             A     INICIAL (LOA)  0000  000000000000        SEM EMENDA   \n",
       "100            A     INICIAL (LOA)  0000  000000000000        SEM EMENDA   \n",
       "101            A     INICIAL (LOA)  0000  000000000000        SEM EMENDA   \n",
       "121            A     INICIAL (LOA)  0000  000000000000        SEM EMENDA   \n",
       "122            A     INICIAL (LOA)  0000  000000000000        SEM EMENDA   \n",
       "123            A     INICIAL (LOA)  0000  000000000000        SEM EMENDA   \n",
       "124            A     INICIAL (LOA)  0000  000000000000        SEM EMENDA   \n",
       "126            A     INICIAL (LOA)  0000  000000000000        SEM EMENDA   \n",
       "127            A     INICIAL (LOA)  0000  000000000000        SEM EMENDA   \n",
       "128            A     INICIAL (LOA)  0000  000000000000        SEM EMENDA   \n",
       "129            A     INICIAL (LOA)  0000  000000000000        SEM EMENDA   \n",
       "130            A     INICIAL (LOA)  0000  000000000000        SEM EMENDA   \n",
       "133            A     INICIAL (LOA)  0000  000000000000        SEM EMENDA   \n",
       "134            A     INICIAL (LOA)  0000  000000000000        SEM EMENDA   \n",
       "135            A     INICIAL (LOA)  0000  000000000000        SEM EMENDA   \n",
       "138            A     INICIAL (LOA)  0000  000000000000        SEM EMENDA   \n",
       "\n",
       "                             LOCAL              NOME_UO     UO  A_LIQUIDAR  \\\n",
       "65                               0  COMANDO DO EXERCITO  52121     1630.20   \n",
       "66                               0  COMANDO DO EXERCITO  52121     1482.00   \n",
       "67                               0  COMANDO DO EXERCITO  52121     1482.00   \n",
       "69   ESCOLA DE SARGENTOS DAS ARMAS  COMANDO DO EXERCITO  52121    19850.00   \n",
       "70   ESCOLA DE SARGENTOS DAS ARMAS  COMANDO DO EXERCITO  52121    34684.00   \n",
       "71   ESCOLA DE SARGENTOS DAS ARMAS  COMANDO DO EXERCITO  52121    50049.00   \n",
       "72   ESCOLA DE SARGENTOS DAS ARMAS  COMANDO DO EXERCITO  52121    21850.00   \n",
       "73   ESCOLA DE SARGENTOS DAS ARMAS  COMANDO DO EXERCITO  52121    21850.00   \n",
       "74   ESCOLA DE SARGENTOS DAS ARMAS  COMANDO DO EXERCITO  52121    13091.00   \n",
       "76   ESCOLA DE SARGENTOS DAS ARMAS  COMANDO DO EXERCITO  52121    50049.00   \n",
       "77   ESCOLA DE SARGENTOS DAS ARMAS  COMANDO DO EXERCITO  52121    29900.00   \n",
       "78   ESCOLA DE SARGENTOS DAS ARMAS  COMANDO DO EXERCITO  52121    29900.00   \n",
       "79   ESCOLA DE SARGENTOS DAS ARMAS  COMANDO DO EXERCITO  52121    29900.00   \n",
       "80   ESCOLA DE SARGENTOS DAS ARMAS  COMANDO DO EXERCITO  52121    44820.00   \n",
       "81   ESCOLA DE SARGENTOS DAS ARMAS  COMANDO DO EXERCITO  52121    41355.00   \n",
       "82   ESCOLA DE SARGENTOS DAS ARMAS  COMANDO DO EXERCITO  52121      437.00   \n",
       "83   ESCOLA DE SARGENTOS DAS ARMAS  COMANDO DO EXERCITO  52121      747.00   \n",
       "84   ESCOLA DE SARGENTOS DAS ARMAS  COMANDO DO EXERCITO  52121      598.00   \n",
       "86   ESCOLA DE SARGENTOS DAS ARMAS  COMANDO DO EXERCITO  52121      747.00   \n",
       "88   ESCOLA DE SARGENTOS DAS ARMAS  COMANDO DO EXERCITO  52121      747.00   \n",
       "89   ESCOLA DE SARGENTOS DAS ARMAS  COMANDO DO EXERCITO  52121      598.00   \n",
       "90   ESCOLA DE SARGENTOS DAS ARMAS  COMANDO DO EXERCITO  52121      747.00   \n",
       "91   ESCOLA DE SARGENTOS DAS ARMAS  COMANDO DO EXERCITO  52121      919.00   \n",
       "92   ESCOLA DE SARGENTOS DAS ARMAS  COMANDO DO EXERCITO  52121      397.00   \n",
       "93   ESCOLA DE SARGENTOS DAS ARMAS  COMANDO DO EXERCITO  52121      437.00   \n",
       "94   ESCOLA DE SARGENTOS DAS ARMAS  COMANDO DO EXERCITO  52121      919.00   \n",
       "95   ESCOLA DE SARGENTOS DAS ARMAS  COMANDO DO EXERCITO  52121      919.00   \n",
       "96   ESCOLA DE SARGENTOS DAS ARMAS  COMANDO DO EXERCITO  52121      397.00   \n",
       "97   ESCOLA DE SARGENTOS DAS ARMAS  COMANDO DO EXERCITO  52121      598.00   \n",
       "98   ESCOLA DE SARGENTOS DAS ARMAS  COMANDO DO EXERCITO  52121      598.00   \n",
       "99   ESCOLA DE SARGENTOS DAS ARMAS  COMANDO DO EXERCITO  52121      598.00   \n",
       "100  ESCOLA DE SARGENTOS DAS ARMAS  COMANDO DO EXERCITO  52121      598.00   \n",
       "101  ESCOLA DE SARGENTOS DAS ARMAS  COMANDO DO EXERCITO  52121      598.00   \n",
       "121                              0  COMANDO DO EXERCITO  52121     1656.72   \n",
       "122                              0  COMANDO DO EXERCITO  52121     1356.48   \n",
       "123                              0  COMANDO DO EXERCITO  52121     1656.72   \n",
       "124                              0  COMANDO DO EXERCITO  52121     1505.76   \n",
       "126                              0  COMANDO DO EXERCITO  52121    12677.74   \n",
       "127                              0  COMANDO DO EXERCITO  52121     3448.49   \n",
       "128                              0  COMANDO DO EXERCITO  52121    11731.64   \n",
       "129                              0  COMANDO DO EXERCITO  52121     3448.49   \n",
       "130                              0  COMANDO DO EXERCITO  52121    22012.90   \n",
       "133                            ESA  COMANDO DO EXERCITO  52121      773.14   \n",
       "134                            ESA  COMANDO DO EXERCITO  52121      350.39   \n",
       "135                            ESA  COMANDO DO EXERCITO  52121     1851.69   \n",
       "138                            ESA  COMANDO DO EXERCITO  52121    10399.33   \n",
       "\n",
       "     LIQUIDADO_A_PAGAR  TOTAL_A_PAGAR    PAGO  \n",
       "65                 0.0        1630.20    0.00  \n",
       "66                 0.0        1482.00    0.00  \n",
       "67                 0.0        1482.00    0.00  \n",
       "69                 0.0       19850.00    0.00  \n",
       "70                 0.0       34684.00    0.00  \n",
       "71                 0.0       50049.00    0.00  \n",
       "72                 0.0       21850.00    0.00  \n",
       "73                 0.0       21850.00    0.00  \n",
       "74                 0.0       13091.00    0.00  \n",
       "76                 0.0       50049.00    0.00  \n",
       "77                 0.0       29900.00    0.00  \n",
       "78                 0.0       29900.00    0.00  \n",
       "79                 0.0       29900.00    0.00  \n",
       "80                 0.0       44820.00    0.00  \n",
       "81                 0.0       41355.00    0.00  \n",
       "82                 0.0         437.00    0.00  \n",
       "83                 0.0         747.00    0.00  \n",
       "84                 0.0         598.00    0.00  \n",
       "86                 0.0         747.00    0.00  \n",
       "88                 0.0         747.00    0.00  \n",
       "89                 0.0         598.00    0.00  \n",
       "90                 0.0         747.00    0.00  \n",
       "91                 0.0         919.00    0.00  \n",
       "92                 0.0         397.00    0.00  \n",
       "93                 0.0         437.00    0.00  \n",
       "94                 0.0         919.00    0.00  \n",
       "95                 0.0         919.00    0.00  \n",
       "96                 0.0         397.00    0.00  \n",
       "97                 0.0         598.00    0.00  \n",
       "98                 0.0         598.00    0.00  \n",
       "99                 0.0         598.00    0.00  \n",
       "100                0.0         598.00    0.00  \n",
       "101                0.0         598.00    0.00  \n",
       "121                0.0        1656.72    0.00  \n",
       "122                0.0        1356.48    0.00  \n",
       "123                0.0        1656.72    0.00  \n",
       "124                0.0        1505.76    0.00  \n",
       "126                0.0       12677.74    0.00  \n",
       "127                0.0        3448.49    0.00  \n",
       "128                0.0       11731.64    0.00  \n",
       "129                0.0        3448.49    0.00  \n",
       "130                0.0       22012.90    0.00  \n",
       "133                0.0         773.14    0.00  \n",
       "134               17.6         367.99  232.01  \n",
       "135                0.0        1851.69    0.00  \n",
       "138                0.0       10399.33    0.00  "
      ]
     },
     "execution_count": 43,
     "metadata": {},
     "output_type": "execute_result"
    }
   ],
   "source": [
    "df_teste[(df_teste['AÇÃO'] == '212O') & (df_teste['A_LIQUIDAR'] != 0)]"
   ]
  }
 ],
 "metadata": {
  "kernelspec": {
   "display_name": "base",
   "language": "python",
   "name": "python3"
  },
  "language_info": {
   "codemirror_mode": {
    "name": "ipython",
    "version": 3
   },
   "file_extension": ".py",
   "mimetype": "text/x-python",
   "name": "python",
   "nbconvert_exporter": "python",
   "pygments_lexer": "ipython3",
   "version": "3.11.10"
  },
  "orig_nbformat": 4
 },
 "nbformat": 4,
 "nbformat_minor": 2
}
